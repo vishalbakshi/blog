{
  "cells": [
    {
      "cell_type": "raw",
      "metadata": {
        "vscode": {
          "languageId": "raw"
        }
      },
      "source": [
        "---\n",
        "title: Calculating the Flesch Kincaid Reading Grade Level for the TinyStories Dataset\n",
        "date: \"2024-08-02\"\n",
        "author: Vishal Bakshi\n",
        "description: In this blog post I explore the Flesch Kincaid reading grade level formula and implementation in the `textstat` library to calculate it for the TinyStories dataset.\n",
        "categories:\n",
        "    - python\n",
        "    - machine learning\n",
        "    - deep learning\n",
        "---"
      ]
    },
    {
      "cell_type": "markdown",
      "metadata": {
        "id": "ZW6bsa_PpbwT"
      },
      "source": [
        "## Background"
      ]
    },
    {
      "cell_type": "markdown",
      "metadata": {
        "id": "i-a3LPzypc9q"
      },
      "source": [
        "In this notebook I'll calculate the Flesch Kincaid reading grade level for the TinyStories dataset.\n",
        "\n",
        "This is part of a larger project I'm working on where my goal is to train the TinyInstruct-33M model on a simplified, lower reading level version of the `financial_phrasebank` dataset. I'm experimenting with using phi-3 to simplify the sentences in the original `financial_phrasebank` dataset using language appropriate for low reading grade levels. To establish a baseline of what reading level of text TinyInstruct-33M is capable of understanding, I'll measure the reading level across the TinyStories dataset in this notebook using the `textstat` library."
      ]
    },
    {
      "cell_type": "markdown",
      "metadata": {
        "id": "CbxUUkW4sNaO"
      },
      "source": [
        "## Reading Grade Level of a Sample Story"
      ]
    },
    {
      "cell_type": "code",
      "execution_count": null,
      "metadata": {
        "id": "YtkKOXxIoiSD"
      },
      "outputs": [],
      "source": [
        "!pip install textstat -qq\n",
        "!pip install datasets -qq"
      ]
    },
    {
      "cell_type": "code",
      "execution_count": null,
      "metadata": {
        "id": "fLLBT2FMqyjJ"
      },
      "outputs": [],
      "source": [
        "from datasets import load_dataset\n",
        "import numpy as np\n",
        "import textstat\n",
        "\n",
        "ds = load_dataset(\"roneneldan/TinyStories\")"
      ]
    },
    {
      "cell_type": "markdown",
      "metadata": {
        "id": "bnx2DQYZsTHG"
      },
      "source": [
        "According to the `textstat` library, the following story has a reading grade level of 3.8."
      ]
    },
    {
      "cell_type": "code",
      "execution_count": 3,
      "metadata": {
        "colab": {
          "base_uri": "https://localhost:8080/",
          "height": 157
        },
        "id": "hcb7HfHFr4bX",
        "outputId": "a5107645-ebde-4d8f-b8a9-5b19f390f3c6"
      },
      "outputs": [
        {
          "data": {
            "application/vnd.google.colaboratory.intrinsic+json": {
              "type": "string"
            },
            "text/plain": [
              "'One day, a little girl named Lily found a needle in her room. She knew it was difficult to play with it because it was sharp. Lily wanted to share the needle with her mom, so she could sew a button on her shirt.\\n\\nLily went to her mom and said, \"Mom, I found this needle. Can you share it with me and sew my shirt?\" Her mom smiled and said, \"Yes, Lily, we can share the needle and fix your shirt.\"\\n\\nTogether, they shared the needle and sewed the button on Lily\\'s shirt. It was not difficult for them because they were sharing and helping each other. After they finished, Lily thanked her mom for sharing the needle and fixing her shirt. They both felt happy because they had shared and worked together.'"
            ]
          },
          "execution_count": 3,
          "metadata": {},
          "output_type": "execute_result"
        }
      ],
      "source": [
        "text = ds['train'][0]['text']\n",
        "text"
      ]
    },
    {
      "cell_type": "code",
      "execution_count": 4,
      "metadata": {
        "colab": {
          "base_uri": "https://localhost:8080/"
        },
        "id": "rWoPPC24sDae",
        "outputId": "55473fef-9e18-4cb1-e2f4-7dfc8ccff80e"
      },
      "outputs": [
        {
          "data": {
            "text/plain": [
              "3.8"
            ]
          },
          "execution_count": 4,
          "metadata": {},
          "output_type": "execute_result"
        }
      ],
      "source": [
        "textstat.flesch_kincaid_grade(text)"
      ]
    },
    {
      "cell_type": "markdown",
      "metadata": {
        "id": "gc4JICi7sYhh"
      },
      "source": [
        "I checked a few online Flesch-Kincaid calculators and got a wide variety of results:\n",
        "\n",
        "- [goodcalculators.com](https://goodcalculators.com/flesch-kincaid-calculator/): 4.5\n",
        "- [serpninja.io](https://serpninja.io/tools/flesch-kincaid-calculator/): 5.49\n",
        "- [charactercalculator.com](https://charactercalculator.com/flesch-reading-ease/): 6.76\n",
        "- [online-utility.org](https://www.online-utility.org/english/readability_test_and_improve.jsp): 5.4"
      ]
    },
    {
      "cell_type": "markdown",
      "metadata": {
        "id": "w7C3n1qTtL-o"
      },
      "source": [
        "Why so much variability? I'll take a closer look at the Flesch-Kincaid reading grade level formula from the [Wiki page](https://en.wikipedia.org/wiki/Flesch%E2%80%93Kincaid_readability_tests#Flesch%E2%80%93Kincaid_grade_level):\n",
        "\n",
        "$$0.39\\big(\\frac{\\text{total words}}{\\text{total sentences}}\\big) + 11.8\\big(\\frac{\\text{total syllables}}{\\text{total words}}\\big) - 15.59$$\n",
        "\n"
      ]
    },
    {
      "cell_type": "markdown",
      "metadata": {
        "id": "bq-wASZJ2en_"
      },
      "source": [
        "Counting by hand, there are a 134 total words, 9 total sentences and 169 syllables. Plugging this into the formula, you get a reading level of 5.09."
      ]
    },
    {
      "cell_type": "code",
      "execution_count": 5,
      "metadata": {
        "id": "QDo03az-uqRr"
      },
      "outputs": [],
      "source": [
        "def fk_reading_level(w, s, sy):\n",
        "  return 0.39*(w/s) + 11.8*(sy/w) - 15.59"
      ]
    },
    {
      "cell_type": "code",
      "execution_count": 6,
      "metadata": {
        "colab": {
          "base_uri": "https://localhost:8080/"
        },
        "id": "sDpav7di4j6s",
        "outputId": "ee250104-83e9-4004-cb7f-58d1dde0cd0b"
      },
      "outputs": [
        {
          "data": {
            "text/plain": [
              "5.098756218905475"
            ]
          },
          "execution_count": 6,
          "metadata": {},
          "output_type": "execute_result"
        }
      ],
      "source": [
        "fk_reading_level(134, 9, 169)"
      ]
    },
    {
      "cell_type": "markdown",
      "metadata": {
        "id": "2p5RY4zJ3oy8"
      },
      "source": [
        "I'm guessing that one source of variability is how you count sentences. For example, if I choose to count the full dialogue as part of a sentence (in sentence # 4), the number of sentences is 9:\n",
        "\n",
        ">1. One day, a little girl named Lily found a needle in her room.\n",
        ">\n",
        ">2. She knew it was difficult to play with it because it was sharp.\n",
        ">\n",
        ">3. Lily wanted to share the needle with her mom, so she could sew a button on her shirt.\n",
        ">\n",
        ">4. Lily went to her mom and said, \"Mom, I found this needle. Can you share it with me and sew my shirt?\"\n",
        ">\n",
        ">5. Her mom smiled and said, \"Yes, Lily, we can share the needle and fix your shirt.\"\n",
        ">\n",
        ">6. Together, they shared the needle and sewed the button on Lily's shirt.\n",
        ">\n",
        ">7. It was not difficult for them because they were sharing and helping each other.\n",
        ">\n",
        ">8. After they finished, Lily thanked her mom for sharing the needle and fixing her shirt.\n",
        ">\n",
        ">9. They both felt happy because they had shared and worked together."
      ]
    },
    {
      "cell_type": "markdown",
      "metadata": {
        "id": "UfFLih0T4K4R"
      },
      "source": [
        "On the other hand, if I split the multiple-sentence dialogue into multiple sentences, the number of sentences increases to 10 and the reading level drops to 4.5."
      ]
    },
    {
      "cell_type": "code",
      "execution_count": 7,
      "metadata": {
        "colab": {
          "base_uri": "https://localhost:8080/"
        },
        "id": "kHiQBdyC2vfs",
        "outputId": "1b12cf5a-3c04-453f-9d4a-1f90d2ff84af"
      },
      "outputs": [
        {
          "data": {
            "text/plain": [
              "4.518089552238806"
            ]
          },
          "execution_count": 7,
          "metadata": {},
          "output_type": "execute_result"
        }
      ],
      "source": [
        "fk_reading_level(134, 10, 169)"
      ]
    },
    {
      "cell_type": "markdown",
      "metadata": {
        "id": "3vVeYkxn4uTL"
      },
      "source": [
        ">1. One day, a little girl named Lily found a needle in her room.\n",
        ">\n",
        ">2. She knew it was difficult to play with it because it was sharp.\n",
        ">\n",
        ">3. Lily wanted to share the needle with her mom, so she could sew a button on her shirt.\n",
        ">\n",
        ">4. Lily went to her mom and said, \"Mom, I found this needle.\n",
        ">\n",
        ">5. Can you share it with me and sew my shirt?\"\n",
        ">\n",
        ">6. Her mom smiled and said, \"Yes, Lily, we can share the needle and fix your shirt.\"\n",
        ">\n",
        ">7. Together, they shared the needle and sewed the button on Lily's shirt.\n",
        ">\n",
        ">8. It was not difficult for them because they were sharing and helping each other.\n",
        ">\n",
        ">9. After they finished, Lily thanked her mom for sharing the needle and fixing her shirt.\n",
        ">\n",
        ">10. They both felt happy because they had shared and worked together."
      ]
    },
    {
      "cell_type": "markdown",
      "metadata": {
        "id": "VMHFvCVfITHP"
      },
      "source": [
        "## Deeper Dive into `textstat`"
      ]
    },
    {
      "cell_type": "markdown",
      "metadata": {
        "id": "I41bdMkOIXHO"
      },
      "source": [
        "Here's the Flesch-Kincaid grade level calculation code in `textstat`:\n",
        "\n",
        "```python\n",
        "sentence_length = self.avg_sentence_length(text)\n",
        "syllables_per_word = self.avg_syllables_per_word(text)\n",
        "flesch = (\n",
        "        float(0.39 * sentence_length)\n",
        "        + float(11.8 * syllables_per_word)\n",
        "        - 15.59)\n",
        "return self._legacy_round(flesch, 1)\n",
        "```        "
      ]
    },
    {
      "cell_type": "markdown",
      "metadata": {
        "id": "bna8Q_PMIme4"
      },
      "source": [
        "For the given text I'm using, here are the stats using `textstat` methods, compared to my manual calculations:\n",
        "\n",
        "|Statistics|`textstat`|Manual Calcs|\n",
        "|:-:|:-:|:-:|\n",
        "|Total Words|134|134|\n",
        "|Total Sentences|10|10\n",
        "|Total Syllables|163|169\n"
      ]
    },
    {
      "cell_type": "code",
      "execution_count": 9,
      "metadata": {
        "colab": {
          "base_uri": "https://localhost:8080/"
        },
        "id": "u4c3RlsDI48V",
        "outputId": "2cf21e14-c6bf-4625-f355-73485f08c13d"
      },
      "outputs": [
        {
          "data": {
            "text/plain": [
              "(134, 10, 163)"
            ]
          },
          "execution_count": 9,
          "metadata": {},
          "output_type": "execute_result"
        }
      ],
      "source": [
        "textstat.lexicon_count(text), \\\n",
        "textstat.sentence_count(text), \\\n",
        "textstat.syllable_count(text)"
      ]
    },
    {
      "cell_type": "markdown",
      "metadata": {
        "id": "Od8wAlYYqhsk"
      },
      "source": [
        "[`lexicon_count`](https://github.com/textstat/textstat/blob/bc125f6f6657bdd2ff3c89e22682808aa6ebef2a/textstat/textstat.py#L300C7-L303C21) optionally removes punctuation from the text and and splits the string by empty spaces:\n",
        "\n",
        "```python\n",
        "if removepunct:\n",
        "  text = self.remove_punctuation(text)\n",
        "count = len(text.split())\n",
        "return count\n",
        "```"
      ]
    },
    {
      "cell_type": "markdown",
      "metadata": {
        "id": "lH9EFugbCShs"
      },
      "source": [
        "[`sentence_count`](https://github.com/textstat/textstat/blob/bc125f6f6657bdd2ff3c89e22682808aa6ebef2a/textstat/textstat.py#L366) which calculates the number of sentences (that have more than 2 words) by matching groups of text in between sentence-ending punctation (.?!):\n",
        "\n",
        "```python\n",
        "sentences = re.findall(r'\\b[^.!?]+[.!?]*', text, re.UNICODE)\n",
        "        for sentence in sentences:\n",
        "            if self.lexicon_count(sentence) <= 2:\n",
        "                ignore_count += 1\n",
        "        return max(1, len(sentences) - ignore_count)\n",
        "```"
      ]
    },
    {
      "cell_type": "markdown",
      "metadata": {
        "id": "7I6t9P7brYm6"
      },
      "source": [
        "[`syllable_count`](https://github.com/textstat/textstat/blob/bc125f6f6657bdd2ff3c89e22682808aa6ebef2a/textstat/textstat.py#L361-L363) uses the library `pyphen`:\n",
        "\n",
        "```python\n",
        "for word in text.split():\n",
        "    count += len(self.pyphen.positions(word)) + 1\n",
        "return count\n",
        "```"
      ]
    },
    {
      "cell_type": "markdown",
      "metadata": {
        "id": "vCjFT-pjsMqR"
      },
      "source": [
        "The difference between my manually calculated reading grade level and `textstat`'s is a matter of 6 syllables. I looked at the output of `len(self(pyphen.positions(word)) + 1)` and my manual counts for each word and found that for all six cases of the word `\"Lily\"`, I counted two syllables (Li-ly) while `pyphen` returned 1 syllable."
      ]
    },
    {
      "cell_type": "markdown",
      "metadata": {
        "id": "aSNIzwN5vcNy"
      },
      "source": [
        "It's amazing that a difference of 6 syllables can lead to almost a full grade level difference!"
      ]
    },
    {
      "cell_type": "markdown",
      "metadata": {
        "id": "buNBfftvvvOA"
      },
      "source": [
        "`textstat`, and `pyphen` indirectly, seems to undercount syllables:"
      ]
    },
    {
      "cell_type": "code",
      "execution_count": 40,
      "metadata": {
        "colab": {
          "base_uri": "https://localhost:8080/"
        },
        "id": "ZGb9U938vp3F",
        "outputId": "96ef801d-8776-4b00-fd6f-9e3a1c0add59"
      },
      "outputs": [
        {
          "name": "stdout",
          "output_type": "stream",
          "text": [
            "vishal: 1\n",
            "pakistan: 2\n",
            "afghanistan: 1\n",
            "legolas: 2\n",
            "synchronicity: 4\n",
            "persiphone: 3\n",
            "camera: 2\n",
            "reward: 2\n",
            "appalachian: 3\n"
          ]
        }
      ],
      "source": [
        "for word in ['vishal', 'pakistan', 'afghanistan', 'legolas', 'synchronicity', 'persiphone', 'camera', 'reward', 'appalachian']:\n",
        "  print(f\"{word}: {textstat.syllable_count(word)}\")"
      ]
    },
    {
      "cell_type": "markdown",
      "metadata": {
        "id": "JRgorTQnx2lV"
      },
      "source": [
        "Keeping in mind that the reading grade level calculated by `textstat` maybe be consistently too low, I'll move forward with using it to establish the baseline reading level for the TinyStories dataset."
      ]
    },
    {
      "cell_type": "markdown",
      "metadata": {
        "id": "Nc-k2QQWG4k9"
      },
      "source": [
        "## Reading Level for the TinyStories Training Set"
      ]
    },
    {
      "cell_type": "markdown",
      "metadata": {
        "id": "mX6J5v8D6aL8"
      },
      "source": [
        "I'll apply `textstat.flesch_kincaid_grade` to each row of the training data set for TinyStories:"
      ]
    },
    {
      "cell_type": "code",
      "execution_count": 52,
      "metadata": {
        "id": "LIEj0ktxyUNk"
      },
      "outputs": [],
      "source": [
        "ddf = ds['train'].to_pandas()"
      ]
    },
    {
      "cell_type": "code",
      "execution_count": 67,
      "metadata": {
        "colab": {
          "base_uri": "https://localhost:8080/"
        },
        "id": "-kRtef2TyalK",
        "outputId": "0a73ab0f-0895-4a7d-aaa9-177497d2ec30"
      },
      "outputs": [
        {
          "data": {
            "text/plain": [
              "(2119719, 1)"
            ]
          },
          "execution_count": 67,
          "metadata": {},
          "output_type": "execute_result"
        }
      ],
      "source": [
        "ddf.shape"
      ]
    },
    {
      "cell_type": "code",
      "execution_count": 68,
      "metadata": {
        "colab": {
          "base_uri": "https://localhost:8080/",
          "height": 202
        },
        "id": "08dmh_Txy2j8",
        "outputId": "dadd308e-18b6-4141-ee36-3d3c605a7365"
      },
      "outputs": [
        {
          "data": {
            "text/html": [
              "<table border=\"1\" class=\"dataframe\">\n",
              "  <thead>\n",
              "    <tr style=\"text-align: right;\">\n",
              "      <th></th>\n",
              "      <th>0</th>\n",
              "    </tr>\n",
              "  </thead>\n",
              "  <tbody>\n",
              "    <tr>\n",
              "      <th>text</th>\n",
              "      <td>One day, a little girl named Lily found a needle in her room. She knew it was difficult to play with it because it was sharp. Lily wanted to share the needle with her mom, so she could sew a button on her shirt.\\n\\nLily went to her mom and said, \"Mom, I found this needle. Can you share it with me and sew my shirt?\" Her mom smiled and said, \"Yes, Lily, we can share the needle and fix your shirt.\"\\n\\nTogether, they shared the needle and sewed the button on Lily's shirt. It was not difficult for them because they were sharing and helping each other. After they finished, Lily thanked her mom for sharing the needle and fixing her shirt. They both felt happy because they had shared and worked together.</td>\n",
              "    </tr>\n",
              "  </tbody>\n",
              "</table><br><label><b>dtype:</b> object</label>"
            ],
            "text/plain": [
              "text    One day, a little girl named Lily found a need...\n",
              "Name: 0, dtype: object"
            ]
          },
          "execution_count": 68,
          "metadata": {},
          "output_type": "execute_result"
        }
      ],
      "source": [
        "ddf.iloc[0]"
      ]
    },
    {
      "cell_type": "markdown",
      "metadata": {
        "id": "kx8cam0n6Ves"
      },
      "source": [
        "This took about 14.5 minutes to run:"
      ]
    },
    {
      "cell_type": "code",
      "execution_count": 69,
      "metadata": {
        "id": "6oEewJIU2YB_"
      },
      "outputs": [],
      "source": [
        "ddf['fk_grade'] = ddf['text'].apply(lambda x: textstat.flesch_kincaid_grade(x))"
      ]
    },
    {
      "cell_type": "markdown",
      "metadata": {
        "id": "y3baek2H6gWD"
      },
      "source": [
        "The mean and median Flesch-Kincaid reading level of the TinyStories dataset (using `textstat.flesch_kincaid_grade`) is about 2.6 and 2.7, respectively. Keeping in mind that `textstat` may be underestimating the reading level, perhaps by 1 grade level (or more). The minimum grade level is somehow negative (-15.7) and the maximum is somehow _74_."
      ]
    },
    {
      "cell_type": "code",
      "execution_count": 70,
      "metadata": {
        "colab": {
          "base_uri": "https://localhost:8080/",
          "height": 335
        },
        "id": "wOYt45e56ggb",
        "outputId": "bfe77cec-f812-412a-fa14-1dd9ea04f682"
      },
      "outputs": [
        {
          "data": {
            "text/html": [
              "<table border=\"1\" class=\"dataframe\">\n",
              "  <thead>\n",
              "    <tr style=\"text-align: right;\">\n",
              "      <th></th>\n",
              "      <th>fk_grade</th>\n",
              "    </tr>\n",
              "  </thead>\n",
              "  <tbody>\n",
              "    <tr>\n",
              "      <th>count</th>\n",
              "      <td>2.119719e+06</td>\n",
              "    </tr>\n",
              "    <tr>\n",
              "      <th>mean</th>\n",
              "      <td>2.553505e+00</td>\n",
              "    </tr>\n",
              "    <tr>\n",
              "      <th>std</th>\n",
              "      <td>1.485081e+00</td>\n",
              "    </tr>\n",
              "    <tr>\n",
              "      <th>min</th>\n",
              "      <td>-1.570000e+01</td>\n",
              "    </tr>\n",
              "    <tr>\n",
              "      <th>25%</th>\n",
              "      <td>1.600000e+00</td>\n",
              "    </tr>\n",
              "    <tr>\n",
              "      <th>50%</th>\n",
              "      <td>2.700000e+00</td>\n",
              "    </tr>\n",
              "    <tr>\n",
              "      <th>75%</th>\n",
              "      <td>3.600000e+00</td>\n",
              "    </tr>\n",
              "    <tr>\n",
              "      <th>max</th>\n",
              "      <td>7.410000e+01</td>\n",
              "    </tr>\n",
              "  </tbody>\n",
              "</table><br><label><b>dtype:</b> float64</label>"
            ],
            "text/plain": [
              "count    2.119719e+06\n",
              "mean     2.553505e+00\n",
              "std      1.485081e+00\n",
              "min     -1.570000e+01\n",
              "25%      1.600000e+00\n",
              "50%      2.700000e+00\n",
              "75%      3.600000e+00\n",
              "max      7.410000e+01\n",
              "Name: fk_grade, dtype: float64"
            ]
          },
          "execution_count": 70,
          "metadata": {},
          "output_type": "execute_result"
        }
      ],
      "source": [
        "ddf['fk_grade'].describe()"
      ]
    },
    {
      "cell_type": "markdown",
      "metadata": {
        "id": "wdrtvTbN7MPH"
      },
      "source": [
        "Viewing the data between kindergarten (Grade 0) and Grade 12, about a third of the texts are between grades 2 through 4."
      ]
    },
    {
      "cell_type": "code",
      "execution_count": 78,
      "metadata": {
        "colab": {
          "base_uri": "https://localhost:8080/",
          "height": 430
        },
        "id": "bL5SECfz6itX",
        "outputId": "225d91fb-2583-4685-e9c3-ade291a9aa26"
      },
      "outputs": [
        {
          "data": {
            "image/png": "[encoded data removed]",
            "text/plain": [
              "<Figure size 640x480 with 1 Axes>"
            ]
          },
          "metadata": {},
          "output_type": "display_data"
        }
      ],
      "source": [
        "ddf['fk_grade'].hist(range=(0,12));"
      ]
    },
    {
      "cell_type": "markdown",
      "metadata": {
        "id": "sZzR0bCg_TyB"
      },
      "source": [
        "85% of the stories are at or below a Grade 4 reading level. 99% of them are at or below a Grade 6 level."
      ]
    },
    {
      "cell_type": "code",
      "execution_count": 80,
      "metadata": {
        "colab": {
          "base_uri": "https://localhost:8080/"
        },
        "id": "XbZHdMwX7Npc",
        "outputId": "1fc1dd44-004e-4d6e-fc09-bfafec77d6ed"
      },
      "outputs": [
        {
          "data": {
            "text/plain": [
              "0.8508873110067892"
            ]
          },
          "execution_count": 80,
          "metadata": {},
          "output_type": "execute_result"
        }
      ],
      "source": [
        "ddf.query('fk_grade <= 4')['text'].count() / len(ddf)"
      ]
    },
    {
      "cell_type": "code",
      "execution_count": 97,
      "metadata": {
        "colab": {
          "base_uri": "https://localhost:8080/"
        },
        "id": "qmK74bwfF-u-",
        "outputId": "0f94fdbf-a71b-4f65-9e7f-3b3318de4872"
      },
      "outputs": [
        {
          "data": {
            "text/plain": [
              "0.9937878558431565"
            ]
          },
          "execution_count": 97,
          "metadata": {},
          "output_type": "execute_result"
        }
      ],
      "source": [
        "ddf.query('fk_grade <= 6')['text'].count() / len(ddf)"
      ]
    },
    {
      "cell_type": "markdown",
      "metadata": {
        "id": "ZyXeLF5s_5xO"
      },
      "source": [
        "The story with the grade level of 74 has 750 words with 1033 syllables across only 4 sentences. The ratio of words per sentence is a staggering 187.5, which is greatly inflating the reading level."
      ]
    },
    {
      "cell_type": "code",
      "execution_count": 87,
      "metadata": {
        "colab": {
          "base_uri": "https://localhost:8080/",
          "height": 209
        },
        "id": "0d2Xdyic_Rv0",
        "outputId": "73f8c9b4-b01e-435d-b891-b2c40fca6cf8"
      },
      "outputs": [
        {
          "data": {
            "application/vnd.google.colaboratory.intrinsic+json": {
              "type": "string"
            },
            "text/plain": [
              "\"Lily and Tom were playing in the kitchen. They liked to pretend they were chefs and make yummy food. They had a big pot and some spoons and bowls. They put water and salt and sugar and flour and carrots and apples and cheese and cookies and milk and eggs and bananas and pasta and bread and jam and butter and ketchup and mustard and chocolate and candy and nuts and beans and corn and peas and rice and meat and fish and cheese and yogurt and cereal and juice and tea and coffee and soda and water and ice and lemon and lime and orange and grape and cherry and strawberry and blueberry and raspberry and blackberry and cranberry and pineapple and mango and kiwi and coconut and melon and peach and plum and pear and apple and apricot and nectarine and grapefruit and pomegranate and fig and date and olive and avocado and tomato and cucumber and lettuce and spinach and kale and cabbage and broccoli and cauliflower and celery and carrot and onion and garlic and ginger and turmeric and parsley and basil and mint and rosemary and thyme and oregano and sage and dill and cilantro and chives and scallions and leeks and mushrooms and peppers and zucchini and squash and pumpkin and eggplant and potato and sweet potato and yam and cassava and taro and plantain and breadfruit and jackfruit and durian and lychee and rambutan and dragon fruit and star fruit and passion fruit and guava and papaya and persimmon and loquat and kumquat and tangerine and clementine and mandarin and satsuma and pomelo and ugli and quince and medlar and mulberry and elderberry and gooseberry and currant and cranberry and lingonberry and loganberry and boysenberry and huckleberry and bilberry and cloudberry and salmonberry and dewberry and blackcurrant and redcurrant and whitecurrant and jostaberry and worcesterberry and gooseberry and aronia and chokeberry and serviceberry and saskatoon and juneberry and honeyberry and blue honeysuckle and sea buckthorn and wolfberry and goji and acai and maqui and camu camu and lucuma and baobab and moringa and spirulina and chlorella and wheatgrass and barley grass and oat grass and rye grass and alfalfa and clover and fenugreek and flax and hemp and chia and sesame and sunflower and pumpkin and poppy and nigella and fennel and anise and caraway and cumin and coriander and cardamom and nutmeg and mace and allspice and clove and cinnamon and cassia and saffron and vanilla and licorice and star anise and bay and laurel and curry and garam masala and ras el hanout and baharat and za'atar and dukkah and harissa and berbere and sumac and tamarind and lemon grass and kaffir lime and galangal and makrut and pandan and curry leaf and neem and asafoetida and fenugreek and mustard and horseradish and wasabi and ginger and turmeric and paprika and cayenne and chili and pepper and salt and sugar and honey and maple and molasses and agave and stevia and xylitol and erythritol and monk fruit and coconut and palm and date and brown and white and raw and refined and powdered and granulated and crystal and rock and sea and kosher and himalayan and celtic and flake and smoked and iodized and non-iodized and organic and non-organic and gluten-free and vegan and vegetarian and paleo and keto and low-carb and high-carb and low-fat and high-fat and low-sugar and high-sugar and low-salt and high-salt and low-calorie and high-calorie and healthy and unhealthy and delicious and disgusting and sweet and sour and bitter and salty and savory and umami and spicy and mild and hot and cold and warm and cool and frozen and thawed and cooked and raw and baked and boiled and fried and grilled and roasted and toasted and broiled and poached and steamed and microwaved and pressure-cooked and slow-cooked and sous-vide and smoked and cured and pickled and fermented and dried and canned and jarred and bottled and vacuum-sealed and wrapped and bagged and boxed and cartoned and packaged and labeled and branded and generic and fresh and stale and rotten and spoiled and moldy and rancid and expired and best before and use by and sell by and enjoy by and made by and produced by and distributed by and imported by and exported by and sold by and bought by and owned by and used by and eaten by and loved by and hated by and shared by and hoarded by and wasted by and\""
            ]
          },
          "execution_count": 87,
          "metadata": {},
          "output_type": "execute_result"
        }
      ],
      "source": [
        "hard_text = ddf.query('fk_grade > 74').iloc[0]['text']\n",
        "hard_text"
      ]
    },
    {
      "cell_type": "code",
      "execution_count": 88,
      "metadata": {
        "colab": {
          "base_uri": "https://localhost:8080/"
        },
        "id": "ce_LYfHr_g6A",
        "outputId": "dbd70ae6-3b22-4204-de35-b2c6666c8786"
      },
      "outputs": [
        {
          "data": {
            "text/plain": [
              "(750, 4, 1033)"
            ]
          },
          "execution_count": 88,
          "metadata": {},
          "output_type": "execute_result"
        }
      ],
      "source": [
        "textstat.lexicon_count(hard_text), \\\n",
        "textstat.sentence_count(hard_text), \\\n",
        "textstat.syllable_count(hard_text)"
      ]
    },
    {
      "cell_type": "code",
      "execution_count": 89,
      "metadata": {
        "colab": {
          "base_uri": "https://localhost:8080/"
        },
        "id": "ReYaNuhS_0CH",
        "outputId": "f7ea2b2b-55c0-4b0e-cba3-e8c22f63d6a3"
      },
      "outputs": [
        {
          "data": {
            "text/plain": [
              "(187.5, 1.3773333333333333)"
            ]
          },
          "execution_count": 89,
          "metadata": {},
          "output_type": "execute_result"
        }
      ],
      "source": [
        "textstat.lexicon_count(hard_text) / textstat.sentence_count(hard_text), \\\n",
        "textstat.syllable_count(hard_text) / textstat.lexicon_count(hard_text)"
      ]
    },
    {
      "cell_type": "markdown",
      "metadata": {
        "id": "-XcF0TNTAuuj"
      },
      "source": [
        "A more reasonable story (although past K-12 grade levels) has 627 words across 20 sentences, resulting in a grade level of 15.5 (post-grad):"
      ]
    },
    {
      "cell_type": "code",
      "execution_count": 94,
      "metadata": {
        "colab": {
          "base_uri": "https://localhost:8080/"
        },
        "id": "LQQXQb9pA4oM",
        "outputId": "63918393-5ad1-49c0-a42b-61117a824644"
      },
      "outputs": [
        {
          "data": {
            "text/plain": [
              "15.5"
            ]
          },
          "execution_count": 94,
          "metadata": {},
          "output_type": "execute_result"
        }
      ],
      "source": [
        "ddf.query('fk_grade > 12 and fk_grade < 16').iloc[0]['fk_grade']"
      ]
    },
    {
      "cell_type": "code",
      "execution_count": 90,
      "metadata": {
        "colab": {
          "base_uri": "https://localhost:8080/",
          "height": 209
        },
        "id": "wtkbQatcALCv",
        "outputId": "8d9e09a5-cd21-4446-fc0f-55a224713ae2"
      },
      "outputs": [
        {
          "data": {
            "application/vnd.google.colaboratory.intrinsic+json": {
              "type": "string"
            },
            "text/plain": [
              "'Sam and Tom are friends. They like to play in the park. One day, they find a big sack near a tree. They wonder what is inside.\\n\\n\"Let\\'s open it and see!\" Sam says.\\n\\n\"OK, but we have to share what we find,\" Tom says.\\n\\nThey pull the sack to a quiet spot. They open it and see many shiny things. They are coins! Sam and Tom are very happy. They have never seen so many coins before.\\n\\n\"Wow, we are so lucky!\" Sam says.\\n\\n\"Yes, we are! How many coins do you think there are?\" Tom says.\\n\\nThey start to count the coins. But they have a problem. They do not know how to count very well. They only know how to count to ten. After ten, they get confused.\\n\\n\"Ten, eleven, twelve, thirteen, fourteen, fifteen, sixteen, seventeen, eighteen, nineteen, twenty, twenty-one, twenty-two, twenty-three, twenty-four, twenty-five, twenty-six, twenty-seven, twenty-eight, twenty-nine, thirty, thirty-one, thirty-two, thirty-three, thirty-four, thirty-five, thirty-six, thirty-seven, thirty-eight, thirty-nine, forty, forty-one, forty-two, forty-three, forty-four, forty-five, forty-six, forty-seven, forty-eight, forty-nine, fifty, fifty-one, fifty-two, fifty-three, fifty-four, fifty-five, fifty-six, fifty-seven, fifty-eight, fifty-nine, sixty, sixty-one, sixty-two, sixty-three, sixty-four, sixty-five, sixty-six, sixty-seven, sixty-eight, sixty-nine, seventy, seventy-one, seventy-two, seventy-three, seventy-four, seventy-five, seventy-six, seventy-seven, seventy-eight, seventy-nine, eighty, eighty-one, eighty-two, eighty-three, eighty-four, eighty-five, eighty-six, eighty-seven, eighty-eight, eighty-nine, ninety, ninety-one, ninety-two, ninety-three, ninety-four, ninety-five, ninety-six, ninety-seven, ninety-eight, ninety-nine, one hundred, one hundred and one, one hundred and two, one hundred and three, one hundred and four, one hundred and five, one hundred and six, one hundred and seven, one hundred and eight, one hundred and nine, one hundred and ten, one hundred and eleven, one hundred and twelve, one hundred and thirteen, one hundred and fourteen, one hundred and fifteen, one hundred and sixteen, one hundred and seventeen, one hundred and eighteen, one hundred and nineteen, one hundred and twenty, one hundred and twenty-one, one hundred and twenty-two, one hundred and twenty-three, one hundred and twenty-four, one hundred and twenty-five, one hundred and twenty-six, one hundred and twenty-seven, one hundred and twenty-eight, one hundred and twenty-nine, one hundred and thirty, one hundred and thirty-one, one hundred and thirty-two, one hundred and thirty-three, one hundred and thirty-four, one hundred and thirty-five, one hundred and thirty-six, one hundred and thirty-seven, one hundred and thirty-eight, one hundred and thirty-nine, one hundred and forty, one hundred and forty-one, one hundred and forty-two, one hundred and forty-three, one hundred and forty-four, one hundred and forty-five, one hundred and forty-six, one hundred and forty-seven, one hundred and forty-eight, one hundred and forty-nine, one hundred and fifty, one hundred and fifty-one, one hundred and fifty-two, one hundred and fifty-three, one hundred and fifty-four, one hundred and fifty-five, one hundred and fifty-six, one hundred and fifty-seven, one hundred and fifty-eight, one hundred and fifty-nine, one hundred and sixty, one hundred and sixty-one, one hundred and sixty-two, one hundred and sixty-three, one hundred and sixty-four, one hundred and sixty-five, one hundred and sixty-six, one hundred and sixty-seven, one hundred and sixty-eight, one hundred and sixty-nine, one hundred and seventy, one hundred and seventy-one, one hundred and seventy-two, one hundred and seventy-three, one hundred and seventy-four, one hundred and seventy-five, one hundred and seventy-six, one hundred and seventy-seven, one hundred and seventy-eight, one hundred and seventy-nine, one hundred and eighty, one hundred and eighty-one, one hundred and eighty-two, one hundred and eighty-three, one hundred and eighty-four, one hundred and eighty-five, one hundred and eighty-six, one hundred and eighty-seven, one hundred and eighty-eight, one hundred and eighty-nine, one hundred and ninety, one hundred and ninety-one, one hundred and ninety-two, one hundred and ninety-three, one hundred and ninety-four, one hundred and ninety-five, one hundred and ninety-six, one hundred and ninety-seven, one hundred and ninety-eight, one hundred and ninety-nine, two hundred, two hundred and one, two hundred'"
            ]
          },
          "execution_count": 90,
          "metadata": {},
          "output_type": "execute_result"
        }
      ],
      "source": [
        "hard_text = ddf.query('fk_grade > 12 and fk_grade < 16').iloc[0]['text']\n",
        "hard_text"
      ]
    },
    {
      "cell_type": "code",
      "execution_count": 91,
      "metadata": {
        "colab": {
          "base_uri": "https://localhost:8080/"
        },
        "id": "ya1fbqphAgkS",
        "outputId": "7ffa5b65-ba07-4480-8569-404af7eb0909"
      },
      "outputs": [
        {
          "data": {
            "text/plain": [
              "(627, 20, 989)"
            ]
          },
          "execution_count": 91,
          "metadata": {},
          "output_type": "execute_result"
        }
      ],
      "source": [
        "textstat.lexicon_count(hard_text), \\\n",
        "textstat.sentence_count(hard_text), \\\n",
        "textstat.syllable_count(hard_text)"
      ]
    },
    {
      "cell_type": "code",
      "execution_count": 92,
      "metadata": {
        "colab": {
          "base_uri": "https://localhost:8080/"
        },
        "id": "n2B9zW9uAifl",
        "outputId": "6cc422f3-8e90-46d1-c5fe-9d2870a2af19"
      },
      "outputs": [
        {
          "data": {
            "text/plain": [
              "(31.35, 1.5773524720893142)"
            ]
          },
          "execution_count": 92,
          "metadata": {},
          "output_type": "execute_result"
        }
      ],
      "source": [
        "textstat.lexicon_count(hard_text) / textstat.sentence_count(hard_text), \\\n",
        "textstat.syllable_count(hard_text) / textstat.lexicon_count(hard_text)"
      ]
    },
    {
      "cell_type": "markdown",
      "metadata": {
        "id": "2p7X3K7ABGuj"
      },
      "source": [
        "11 stories have a grade level above 12."
      ]
    },
    {
      "cell_type": "code",
      "execution_count": 96,
      "metadata": {
        "colab": {
          "base_uri": "https://localhost:8080/"
        },
        "id": "Cp4IH_MXAj8_",
        "outputId": "79df8503-a54d-4293-f938-e73455403126"
      },
      "outputs": [
        {
          "data": {
            "text/plain": [
              "11"
            ]
          },
          "execution_count": 96,
          "metadata": {},
          "output_type": "execute_result"
        }
      ],
      "source": [
        "ddf.query('fk_grade > 12')['text'].count()"
      ]
    },
    {
      "cell_type": "markdown",
      "metadata": {
        "id": "WX5emlYuGUMU"
      },
      "source": [
        "## Final Thoughts"
      ]
    },
    {
      "cell_type": "markdown",
      "metadata": {
        "id": "TTw6KmFqGVPT"
      },
      "source": [
        "I am _elated_. I thought I was going to have to calculate reading levels by manually copy pasting text into one of the online calculators. For the `financial_phrasebank` dataset, that would be 2264 such operations. Instead, I can now use `textstat` as a baseline when comparing reading levels between original and LLM-generated simplified texts.\n",
        "\n",
        "I hope you enjoyed this blog post! Follow me on Twitter [@vishal_learner](https://twitter.com/vishal_learner)."
      ]
    }
  ],
  "metadata": {
    "colab": {
      "provenance": []
    },
    "kernelspec": {
      "display_name": "Python 3",
      "name": "python3"
    },
    "language_info": {
      "name": "python"
    }
  },
  "nbformat": 4,
  "nbformat_minor": 0
}

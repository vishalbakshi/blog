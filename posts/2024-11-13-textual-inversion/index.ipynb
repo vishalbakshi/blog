{
 "cells": [
  {
   "cell_type": "raw",
   "metadata": {
    "vscode": {
     "languageId": "raw"
    }
   },
   "source": [
    "---\n",
    "title: Training Textual Inversion Embeddings on Some Samurai Jack Drawings\n",
    "date: \"2024-11-13\"\n",
    "author: Vishal Bakshi\n",
    "description: In this blog post, I recap my experience (and results) with textual inversion embeddings trained on 6 sketches I created of Samurai Jack.\n",
    "filters:\n",
    "   - lightbox\n",
    "lightbox: auto\n",
    "categories:\n",
    "    - python\n",
    "    - stable diffusion\n",
    "    - deep learning\n",
    "    - machine learning\n",
    "---"
   ]
  },
  {
   "cell_type": "markdown",
   "metadata": {},
   "source": [
    "## Background"
   ]
  },
  {
   "cell_type": "markdown",
   "metadata": {},
   "source": [
    "In Lesson 9 of the fastai course (Part 2) we are introduced to the concept of _textual inversion_, where you train an embedding on a new set of images the model hasn't seen before, and then use that embedding during inference to have the model adapt its style (or object) in the generated image. To get some experience with training and inference, I decided to train a textual inversion embeddings on six pencil/pen drawings I made of one of my favorite childhood cartoons: Samurai Jack."
   ]
  },
  {
   "cell_type": "markdown",
   "metadata": {},
   "source": [
    "![Samurai Jack pencil/pen drawings](drawings.jpg)"
   ]
  },
  {
   "cell_type": "markdown",
   "metadata": {},
   "source": [
    "I have uploaded the trained embeddings to Huggingface: [sd-concepts-library/samurai-jack](https://huggingface.co/sd-concepts-library/samurai-jack). I have created [this minimal Colab demo](https://colab.research.google.com/drive/1UXrBTMM4DkBijETN-_tRV5cQ6kE_Yy5G?usp=sharing) for inference."
   ]
  },
  {
   "cell_type": "markdown",
   "metadata": {},
   "source": [
    "## Version 1: Initial Training"
   ]
  },
  {
   "cell_type": "markdown",
   "metadata": {},
   "source": [
    "I used the Huggingface-provided [notebook](https://colab.research.google.com/github/huggingface/notebooks/blob/main/diffusers/sd_textual_inversion_training.ipynb) to train my textual inversion embeddings."
   ]
  },
  {
   "cell_type": "markdown",
   "metadata": {},
   "source": [
    "I used the default hyperparameters for the first version of the embeddings I trained, which took about 45 minutes to train with a Free-A4000 on Paperspace:\n",
    "\n",
    "```python\n",
    "hyperparameters = {\n",
    "    \"learning_rate\": 5e-04,\n",
    "    \"scale_lr\": True,\n",
    "    \"max_train_steps\": 2000,\n",
    "    \"save_steps\": 250,\n",
    "    \"train_batch_size\": 2,\n",
    "    \"gradient_accumulation_steps\": 1,\n",
    "    \"gradient_checkpointing\": True,\n",
    "    \"mixed_precision\": \"fp16\",\n",
    "    \"seed\": 42,\n",
    "    \"output_dir\": \"sd-concept-output\"\n",
    "}\n",
    "```"
   ]
  },
  {
   "cell_type": "markdown",
   "metadata": {},
   "source": [
    "Here are some images I generated using the trained embeddings with the prompts displayed in the caption:"
   ]
  },
  {
   "cell_type": "markdown",
   "metadata": {},
   "source": [
    "### 30 Inference Steps"
   ]
  },
  {
   "cell_type": "markdown",
   "metadata": {},
   "source": [
    "The prompt corresponding to the image is listed below it."
   ]
  },
  {
   "cell_type": "markdown",
   "metadata": {},
   "source": [
    "![prompt: \"a man in the style of \\<samurai-jack\\>\"](a-man-v1-30.png)"
   ]
  },
  {
   "cell_type": "markdown",
   "metadata": {},
   "source": [
    "![prompt: \"a woman in the style of <samurai-jack>\"](a-woman-v1-30.png)"
   ]
  },
  {
   "cell_type": "markdown",
   "metadata": {},
   "source": [
    "![prompt: \"a person in the style of <samurai-jack>\"](a-person-v1-30.png)"
   ]
  },
  {
   "cell_type": "markdown",
   "metadata": {},
   "source": [
    "![prompt: \"a cat in the style of <samurai-jack>\"](a-cat-v1-30.png)"
   ]
  },
  {
   "cell_type": "markdown",
   "metadata": {},
   "source": [
    "![prompt: \"a mouse in the style of <samurai-jack>\"](a-mouse-v1-30.png)"
   ]
  },
  {
   "cell_type": "markdown",
   "metadata": {},
   "source": [
    "![prompt: \"in the style of <samurai-jack>\"](v1-30.png)"
   ]
  },
  {
   "cell_type": "markdown",
   "metadata": {},
   "source": [
    "![prompt: \"<samurai-jack>\"](sj-only-v1-30.png)"
   ]
  },
  {
   "cell_type": "markdown",
   "metadata": {},
   "source": [
    "### 50 Inference Steps"
   ]
  },
  {
   "cell_type": "markdown",
   "metadata": {},
   "source": [
    "The prompt corresponding to the image is listed below it."
   ]
  },
  {
   "cell_type": "markdown",
   "metadata": {},
   "source": [
    "![prompt: \"a man in the style of <samurai-jack>\"](a-man-v1-50.png)"
   ]
  },
  {
   "cell_type": "markdown",
   "metadata": {},
   "source": [
    "![prompt: \"a woman in the style of <samurai-jack>\"](a-woman-v1-50.png)"
   ]
  },
  {
   "cell_type": "markdown",
   "metadata": {},
   "source": [
    "![prompt: \"a person in the style of <samurai-jack>\"](a-person-v1-50.png)"
   ]
  },
  {
   "cell_type": "markdown",
   "metadata": {},
   "source": [
    "![prompt: \"a cat in the style of <samurai-jack>\"](a-cat-v1-50.png)"
   ]
  },
  {
   "cell_type": "markdown",
   "metadata": {},
   "source": [
    "![prompt: \"a mouse in the style of <samurai-jack>\"](a-mouse-v1-50.png)"
   ]
  },
  {
   "cell_type": "markdown",
   "metadata": {},
   "source": [
    "![prompt: \"in the style of <samurai-jack>\"](v1-50.png)"
   ]
  },
  {
   "cell_type": "markdown",
   "metadata": {},
   "source": [
    "![prompt: \"<samurai-jack>\"](sj-only-v1-50.png)"
   ]
  },
  {
   "cell_type": "markdown",
   "metadata": {},
   "source": [
    "### Reflecting on Version 1"
   ]
  },
  {
   "cell_type": "markdown",
   "metadata": {},
   "source": [
    "The trained embeddings (with the associated token `<samurai-jack>`) have clearly learned features related to my original drawings. The generated images have similar clothing and weapons. However, at both 30 and 50 inference steps, the style of the generated images doesn't really resemble the style I drew the source drawings with (pencil/pen sketch). Additionally, the generated images have color, whereas my drawings were grayscale. I do like the generated images for the cat and mouse prompts. Finally, there's something stereotypical about the generated images which bothers me---it's almost like the model has detected that the trained embeddings represent japanese art and it has drawn upon whatever training data aligns with that."
   ]
  },
  {
   "cell_type": "markdown",
   "metadata": {},
   "source": [
    "## Version 2: Longer Training"
   ]
  },
  {
   "cell_type": "markdown",
   "metadata": {},
   "source": [
    "I provided my code and 5 generated images to Claude, asking it for feedback on what hyperparameters I could try to improve my embeddings. It suggested to increase the number of training steps, batch size and gradient accumulation steps, and lower the learning rate to yield a training that learned more details from my input images. While I couldn't increase the batch size without getting an OOM error, I applied the rest of its suggestions in my training script:\n",
    "\n",
    "```python\n",
    "hyperparameters = {\n",
    "    \"learning_rate\": 1e-04,\n",
    "    \"scale_lr\": True,\n",
    "    \"max_train_steps\": 4000,\n",
    "    \"save_steps\": 2000,\n",
    "    \"train_batch_size\": 2,\n",
    "    \"gradient_accumulation_steps\": 4,\n",
    "    \"gradient_checkpointing\": True,\n",
    "    \"mixed_precision\": \"fp16\",\n",
    "    \"seed\": 42,\n",
    "    \"output_dir\": \"sd-concept-output-2\"\n",
    "}\n",
    "```\n",
    "\n",
    "The resulting training took about 6 hours to run (with seconds to spare before Paperspace's auto-shutdown!)."
   ]
  },
  {
   "cell_type": "markdown",
   "metadata": {},
   "source": [
    "Here are some images I generated using the trained embeddings with the prompts displayed in the caption. Note that I only used 50 inference steps as I like the resulting generations more than the 30-step ones."
   ]
  },
  {
   "cell_type": "markdown",
   "metadata": {},
   "source": [
    "### 50 Inference Steps"
   ]
  },
  {
   "cell_type": "markdown",
   "metadata": {},
   "source": [
    "The prompt corresponding to the image is listed below it."
   ]
  },
  {
   "cell_type": "markdown",
   "metadata": {},
   "source": [
    "![prompt: \"a man in the style of <samurai-jack>\"](a-man-v2-50.png)"
   ]
  },
  {
   "cell_type": "markdown",
   "metadata": {},
   "source": [
    "![prompt: \"a woman in the style of <samurai-jack>\"](a-woman-v2-50.png)"
   ]
  },
  {
   "cell_type": "markdown",
   "metadata": {},
   "source": [
    "![prompt: \"a person in the style of <samurai-jack>\"](a-person-v2-50.png)"
   ]
  },
  {
   "cell_type": "markdown",
   "metadata": {},
   "source": [
    "![prompt: \"a cat in the style of <samurai-jack>\"](a-cat-v2-50.png)"
   ]
  },
  {
   "cell_type": "markdown",
   "metadata": {},
   "source": [
    "![prompt: \"a mouse in the style of <samurai-jack>\"](a-mouse-v2-50.png)"
   ]
  },
  {
   "cell_type": "markdown",
   "metadata": {},
   "source": [
    "![prompt: \"in the style of <samurai-jack>\"](v2-50.png)"
   ]
  },
  {
   "cell_type": "markdown",
   "metadata": {},
   "source": [
    "![prompt: \"<samurai-jack>\"](sj-only-v2-50.png)"
   ]
  },
  {
   "cell_type": "markdown",
   "metadata": {},
   "source": [
    "### Reflecting on Version 2"
   ]
  },
  {
   "cell_type": "markdown",
   "metadata": {},
   "source": [
    "While the image generations using this embeddings are more abstract, I find them better quality and more similar to the original style of my drawings. The following prompts generated more pencil/pen-sketch styled generations:\n",
    "\n",
    "- \"a man in the style of <samurai-jack>\"\n",
    "- \"a woman in the style of <samurai-jack>\"\n",
    "- \"a person in the style of <samurai-jack>\"\n",
    "- \"in the style of <samurai-jack>\""
   ]
  },
  {
   "cell_type": "markdown",
   "metadata": {},
   "source": [
    "While the generated image for the prompt `\"<samurai-jack>\"` looks nothing like my original drawings, I do find them very beautiful."
   ]
  },
  {
   "cell_type": "markdown",
   "metadata": {},
   "source": [
    "There were still some \"stereotypical\" features in some of the generated outputs. For example, the following images contained a red spot (I'm not an art historian but I recall seeing similar red spots/marks/seals in japanese paintings)"
   ]
  },
  {
   "cell_type": "markdown",
   "metadata": {},
   "source": [
    "![prompt: \"a cat in the style of <samurai-jack>\"](a-cat-v2-50-2.png)"
   ]
  },
  {
   "cell_type": "markdown",
   "metadata": {},
   "source": [
    "These red spots were more abstract in some of the generations:"
   ]
  },
  {
   "cell_type": "markdown",
   "metadata": {},
   "source": [
    "![prompt: \"a mouse in the style of <samurai-jack>\"](a-mouse-v2-50.png)"
   ]
  },
  {
   "cell_type": "markdown",
   "metadata": {},
   "source": [
    "Additionally, some of the generations contained unsolicited language-like characters:"
   ]
  },
  {
   "cell_type": "markdown",
   "metadata": {},
   "source": [
    "![prompt: \"a cartoon man in the style of <samurai-jack>\"](a-cartoon-man-v2-50.png)"
   ]
  },
  {
   "cell_type": "markdown",
   "metadata": {},
   "source": [
    "![prompt: \"in the style of <samurai-jack>\"](v2-50-2.png)"
   ]
  },
  {
   "cell_type": "markdown",
   "metadata": {},
   "source": [
    "## Final Thoughts"
   ]
  },
  {
   "cell_type": "markdown",
   "metadata": {},
   "source": [
    "There is much I haven't explored in this experiment, for example, using my input drawings to train an \"object\" to see how that fares during inference, and of course, trying different hyperparameters. That being said, I'm happy that what I attempted at least worked! I found many of the generated images pleasant to look at, as the pencil+pen-sketch style was captured quite well by my version 2 embedddings. \n",
    "\n",
    "I'll end this post with some of the other prompt/generation pairs that I found interesting/beautiful. The prompt corresponding to the image is listed below it:"
   ]
  },
  {
   "cell_type": "markdown",
   "metadata": {},
   "source": [
    "![prompt: \"an african gray swordfighting in the style of <samurai-jack>\"](an-african-gray-parrot-swordfighting-v2-50.png)"
   ]
  },
  {
   "cell_type": "markdown",
   "metadata": {},
   "source": [
    "![prompt: \"a mouse in the style of <samurai-jack>\"](a-mouse-v2-50-2.png)"
   ]
  },
  {
   "cell_type": "markdown",
   "metadata": {},
   "source": [
    "![prompt: \"a mouse in the style of <samurai-jack>\"](a-mouse-v2-50-3.png)"
   ]
  },
  {
   "cell_type": "markdown",
   "metadata": {},
   "source": [
    "![prompt: \"a mouse in the style of <samurai-jack>\"](a-mouse-v2-50-4.png)"
   ]
  },
  {
   "cell_type": "markdown",
   "metadata": {},
   "source": [
    "![prompt: \"a man fighting in the style of <samurai-jack>\"](a-man-fighting-v2-50.png)"
   ]
  },
  {
   "cell_type": "markdown",
   "metadata": {},
   "source": [
    "![prompt: \"a drawing in the style of <samurai-jack>\"](a-drawing-v2-50.png)"
   ]
  },
  {
   "cell_type": "markdown",
   "metadata": {},
   "source": [
    "![prompt: \"a dog in the style of <samurai-jack>\"](a-dog-v2-50.png)"
   ]
  },
  {
   "cell_type": "markdown",
   "metadata": {},
   "source": [
    "![prompt: \"a dog in the style of <samurai-jack>\"](a-dog-v2-50-2.png)"
   ]
  }
 ],
 "metadata": {
  "language_info": {
   "name": "python"
  }
 },
 "nbformat": 4,
 "nbformat_minor": 2
}

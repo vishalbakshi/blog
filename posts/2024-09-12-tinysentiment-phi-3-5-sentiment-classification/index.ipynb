{
 "cells": [
  {
   "cell_type": "raw",
   "metadata": {
    "vscode": {
     "languageId": "raw"
    }
   },
   "source": [
    "---\n",
    "title: Sentiment Classification with phi-3.5\n",
    "date: \"2024-09-12\"\n",
    "author: Vishal Bakshi\n",
    "description: In this blog post I use phi-3.5 to classify sentiment in the `financial_phrasebank` dataset with 93.94% accuracy.\n",
    "filters:\n",
    "   - lightbox\n",
    "lightbox: auto\n",
    "categories:\n",
    "    - python\n",
    "    - LLM\n",
    "    - TinySentiment\n",
    "---"
   ]
  },
  {
   "cell_type": "markdown",
   "metadata": {},
   "source": [
    "## Setup"
   ]
  },
  {
   "cell_type": "code",
   "execution_count": null,
   "metadata": {},
   "outputs": [],
   "source": [
    "#| code-fold: true\n",
    "#| code-summary: \"Show pip installs\"\n",
    "!pip install torch==2.3.1 -qq\n",
    "!pip install accelerate==0.31.0 -qq\n",
    "!pip install transformers==4.41.2 -qq\n",
    "!pip install huggingface_hub -qq\n",
    "!pip install datasets~=2.16.1 -qq\n",
    "!pip install plotly==5.19.0 -qq\n",
    "!pip install scikit-learn==1.2 -qq\n",
    "!pip install pynvml -qq"
   ]
  },
  {
   "cell_type": "code",
   "execution_count": null,
   "metadata": {},
   "outputs": [],
   "source": [
    "#| code-fold: true\n",
    "#| code-summary: \"Show imports and setup\"\n",
    "import gc\n",
    "import pandas as pd\n",
    "import numpy as np\n",
    "import numpy as np\n",
    "from sklearn.metrics import confusion_matrix, ConfusionMatrixDisplay\n",
    "import matplotlib.pyplot as plt\n",
    "from pandas.api.types import CategoricalDtype\n",
    "import torch\n",
    "\n",
    "def report_gpu():\n",
    "    print(torch.cuda.list_gpu_processes())\n",
    "    gc.collect()\n",
    "    torch.cuda.empty_cache()\n",
    "    \n",
    "import warnings\n",
    "#warnings.filterwarnings(\"ignore\")\n",
    "\n",
    "import plotly.express as px\n",
    "import plotly.graph_objects as go\n",
    "from plotly.subplots import make_subplots\n",
    "\n",
    "import time\n",
    "\n",
    "from datasets import load_dataset, Dataset\n",
    "from transformers import AutoModelForCausalLM, AutoTokenizer, pipeline \n",
    "from transformers.pipelines.pt_utils import KeyDataset\n",
    "from fastcore.all import *\n",
    "\n",
    "#torch.set_default_device(\"cuda\")\n",
    "torch.cuda.set_device(0)\n",
    "\n",
    "model_nm = \"microsoft/Phi-3.5-mini-instruct\"\n",
    "model = AutoModelForCausalLM.from_pretrained( \n",
    "    model_nm,  \n",
    "    device_map=\"cuda\",  \n",
    "    torch_dtype=\"auto\",  \n",
    "    trust_remote_code=True,  \n",
    ") \n",
    "\n",
    "tokenizer = AutoTokenizer.from_pretrained(model_nm)\n",
    "\n",
    "pipe = pipeline( \n",
    "    \"text-generation\", \n",
    "    model=model, \n",
    "    tokenizer=tokenizer, \n",
    ") \n",
    "\n",
    "# load dataset\n",
    "dataset = load_dataset(\n",
    "    \"financial_phrasebank\", \"sentences_allagree\", \n",
    "    split=\"train\"  # note that the dataset does not have a default test split\n",
    ")"
   ]
  },
  {
   "cell_type": "code",
   "execution_count": null,
   "metadata": {
    "execution": {
     "iopub.execute_input": "2024-09-12T03:30:16.637296Z",
     "iopub.status.busy": "2024-09-12T03:30:16.635721Z",
     "iopub.status.idle": "2024-09-12T03:30:16.731681Z",
     "shell.execute_reply": "2024-09-12T03:30:16.731221Z",
     "shell.execute_reply.started": "2024-09-12T03:30:16.637268Z"
    }
   },
   "outputs": [],
   "source": [
    "# create a new column with the numeric label verbalised as label_text (e.g. \"positive\" instead of \"0\")\n",
    "label_map = {i: label_text for i, label_text in enumerate(dataset.features[\"label\"].names)}\n",
    "\n",
    "def add_label_text(example):\n",
    "    example[\"label_text\"] = label_map[example[\"label\"]]\n",
    "    return example\n",
    "\n",
    "dataset = dataset.map(add_label_text)\n",
    "\n",
    "print(dataset)"
   ]
  },
  {
   "cell_type": "code",
   "execution_count": 5,
   "metadata": {
    "execution": {
     "iopub.execute_input": "2024-09-12T03:30:16.733598Z",
     "iopub.status.busy": "2024-09-12T03:30:16.732874Z",
     "iopub.status.idle": "2024-09-12T03:30:16.738812Z",
     "shell.execute_reply": "2024-09-12T03:30:16.738359Z",
     "shell.execute_reply.started": "2024-09-12T03:30:16.733576Z"
    }
   },
   "outputs": [],
   "source": [
    "#| code-fold: true\n",
    "#| code-summary: \"Show `add_prompt` and `generate_responses` functions\"\n",
    "def add_prompt(item, prompt):\n",
    "        item['prompt'] = prompt.format(text=item['sentence'])\n",
    "        return item\n",
    "    \n",
    "def generate_responses(dataset, prompt):\n",
    "    responses = []\n",
    "    dataset = dataset.map(add_prompt, fn_kwargs={\"prompt\": prompt})\n",
    "    \n",
    "    # check that the prompt is correctly formatted\n",
    "    print(dataset[0]['prompt'])\n",
    "    print('---------')\n",
    "    \n",
    "    for row in dataset:\n",
    "        messages = [  \n",
    "            {\"role\": \"user\", \"content\": row['prompt']},\n",
    "        ] \n",
    "\n",
    "        generation_args = { \n",
    "            \"max_new_tokens\": 2, \n",
    "            \"return_full_text\": False, \n",
    "            \"temperature\": 0.1, \n",
    "            \"do_sample\": True, \n",
    "        } \n",
    "\n",
    "        response = pipe(messages, **generation_args) \n",
    "        responses.append(response[0]['generated_text'].strip().lower())\n",
    "        \n",
    "    # calculate accuracy\n",
    "    df = dataset.to_pandas()\n",
    "    df['responses'] = pd.Series(responses)\n",
    "    df['responses'] = df['responses'].apply(lambda x: x if x in ['negative', 'positive', 'neutral'] else \"other\")\n",
    "    df['lm_match'] = df['label_text'] == df['responses']\n",
    "    acc = df.lm_match.mean()\n",
    "    return df, acc"
   ]
  },
  {
   "cell_type": "code",
   "execution_count": 6,
   "metadata": {
    "execution": {
     "iopub.execute_input": "2024-09-12T03:30:16.740157Z",
     "iopub.status.busy": "2024-09-12T03:30:16.739469Z",
     "iopub.status.idle": "2024-09-12T03:30:16.753695Z",
     "shell.execute_reply": "2024-09-12T03:30:16.753249Z",
     "shell.execute_reply.started": "2024-09-12T03:30:16.740138Z"
    }
   },
   "outputs": [],
   "source": [
    "#| code-fold: true\n",
    "#| code-summary: \"Show `generate_response` function\"\n",
    "def generate_response(prompt):\n",
    "    messages = [  \n",
    "        {\"role\": \"user\", \"content\": prompt},\n",
    "    ] \n",
    "\n",
    "    generation_args = { \n",
    "        \"max_new_tokens\": 2, \n",
    "        \"return_full_text\": False, \n",
    "        \"temperature\": 0.1, \n",
    "        \"do_sample\": True, \n",
    "    } \n",
    "\n",
    "    output = pipe(messages, **generation_args) \n",
    "    return output[0]['generated_text']"
   ]
  },
  {
   "cell_type": "code",
   "execution_count": 7,
   "metadata": {
    "execution": {
     "iopub.execute_input": "2024-09-12T03:30:16.755529Z",
     "iopub.status.busy": "2024-09-12T03:30:16.754846Z",
     "iopub.status.idle": "2024-09-12T03:30:16.772413Z",
     "shell.execute_reply": "2024-09-12T03:30:16.771764Z",
     "shell.execute_reply.started": "2024-09-12T03:30:16.755510Z"
    }
   },
   "outputs": [],
   "source": [
    "#| code-fold: true\n",
    "#| code-summary: \"Show `make_cm` function\"\n",
    "def make_cm(df):\n",
    "    \"\"\"Create confusion matrix for true vs predicted sentiment classes\"\"\"\n",
    "    \n",
    "    cm = confusion_matrix(y_true=df['label_text'], y_pred=df['responses'], labels=['negative', 'neutral', 'positive', 'other'])\n",
    "    disp = ConfusionMatrixDisplay(cm, display_labels=['negative', 'neutral', 'positive', 'other'])\n",
    "    \n",
    "    # I chose 8x8 so it fits on one screen but still is large\n",
    "    fig, ax = plt.subplots(figsize=(8,8))\n",
    "    disp.plot(ax=ax,text_kw={'fontsize': 16}, cmap='Blues', colorbar=False);\n",
    "    \n",
    "    # change label font size without changing label text\n",
    "    ax.xaxis.label.set_fontsize(18)\n",
    "    ax.yaxis.label.set_fontsize(18)\n",
    "    \n",
    "    # make tick labels larger\n",
    "    ax.tick_params(axis='y', labelsize=16)\n",
    "    ax.tick_params(axis='x', labelsize=16)"
   ]
  },
  {
   "cell_type": "code",
   "execution_count": 8,
   "metadata": {
    "execution": {
     "iopub.execute_input": "2024-09-12T03:30:16.773673Z",
     "iopub.status.busy": "2024-09-12T03:30:16.773216Z",
     "iopub.status.idle": "2024-09-12T03:30:16.790228Z",
     "shell.execute_reply": "2024-09-12T03:30:16.789771Z",
     "shell.execute_reply.started": "2024-09-12T03:30:16.773673Z"
    }
   },
   "outputs": [],
   "source": [
    "#| code-fold: true\n",
    "#| code-summary: \"Show `ds_subset` function\"\n",
    "def ds_subset(dataset, exclude_idxs, columns=[0, 1, 2]):\n",
    "    idxs = list(range(len(dataset)))\n",
    "    idxs = [x for x in idxs if x not in exclude_idxs]\n",
    "    ddf = dataset.to_pandas()\n",
    "    new_ds = Dataset.from_pandas(ddf.iloc[idxs, columns])\n",
    "    return new_ds"
   ]
  },
  {
   "cell_type": "markdown",
   "metadata": {},
   "source": [
    "## Background"
   ]
  },
  {
   "cell_type": "markdown",
   "metadata": {},
   "source": [
    "In this notebook I'll use [Phi-3-5-mini-4k-instruct](https://huggingface.co/microsoft/Phi-3.5-mini-instruct) to classify sentiment in the [`financial_phrasebank` dataset](https://huggingface.co/datasets/financial_phrasebank).\n",
    "In previous notebooks I have performed [sentiment classification with phi-2](https://vishalbakshi.github.io/blog/posts/2024-08-31-tinysentiment-phi-2-sentiment-classification/) and [the Claude series](https://vishalbakshi.github.io/blog/posts/2024-08-29-tinysentiment-claude-experiments/).\n",
    "\n",
    "This notebook is part of [a series of blog posts](https://vishalbakshi.github.io/blog/#category=TinySentiment) for a project I’m working called TinySentiment where I’m experimenting with tiny models to improve their ability to classify sentiment in the `financial_phrasebank dataset`. I was inspired to do so after reading [this blog post](https://huggingface.co/blog/synthetic-data-save-costs) and [this corresponding notebook](https://github.com/MoritzLaurer/synthetic-data-blog/blob/main/notebooks/synthetic_data_creation.ipynb) by Moritz Laurer as part of a fastai study group last year."
   ]
  },
  {
   "cell_type": "markdown",
   "metadata": {},
   "source": [
    "Here are the results from my experiments so far (\\**the best-performing prompt from this notebook):\n",
    "\n",
    "|Model|Prompting Strategy|Overall Accuracy|`negative`|`neutral`|`positive`|\n",
    "|:-:|:-:|:-:|:-:|:-:|:-:|\n",
    "|claude-3-5-sonnet-20240620|3-Shot|94.78%|98% (297/303) | 94% (1302/1391)|95% (544/570)|\n",
    "|claude-3-opus-20240229|0-Shot|94.13%|98% (297/303)|96% (1333/1391)|88% (501/570)|\n",
    "|\\**phi-3.5|20-Shot|93.94%|96% (286/299)|98% (1355/1379)|83% (467/566)|\n",
    "|ph-3|30-Shot w/System Prompt|92.79%|98% (290/297)|94% (1284/1373)|88% (499/564)|\n",
    "|claude-3-haiku-20240307|3-Shot|92.39%|90% (272/303)|91% (1267/1391)|96% (550/570)|\n",
    "|phi-2|6-Shot|91.94%|88% (267/302)|94% (1299/1387)|90% (510/569)|\n"
   ]
  },
  {
   "cell_type": "markdown",
   "metadata": {},
   "source": [
    "Here are the per-prompt results from this notebook (phi-3.5):\n",
    "\n",
    "|prompt|strategy|accuracy|negative|neutral|positive|\n",
    "|:-:|:-:|:-:|:-:|:-:|:-:|\n",
    "|[A](#prompt-A)|0-Shot|62.32%|98% (296/303)|43% (592/1391)|92% (523/570)|\n",
    "|[B](#prompt-B)|0-Shot|88.60%|96% (290/303)|87% (1215/1391)|88% (501/570)|\n",
    "|[C](#prompt-C)|0-Shot|83.48%|98% (298/303)|76% (1062/1391)|93% (530/570)|\n",
    "|[D](#prompt-D)|0-Shot|68.64%|99% (300/303)|51% (713/1391)|95% (541/570)|\n",
    "|[E](#prompt-E)|0-Shot|88.25%|96% (290/303)|87% (1207/1391)|88% (501/570)|\n",
    "|[F](#prompt-F)|3-Shot|84.65%|98% (296/302)|77% (1070/1390)|96% (548/569)|\n",
    "|[G](#prompt-G)|6-Shot|77.99%|98% (297/302)|66% (913/1387)|97% (551/569)|\n",
    "|[H](#prompt-H)|3-Shot|83.06%|98% (296/302)|74% (1028/1390)|97% (554/569)|\n",
    "|[I](#prompt-I)|3-Shot|51.61%|<u>**100% (302/302)**</u>|32% (447/1390)|73% (418/569)|\n",
    "|[J](#prompt-J)|3-Shot|85.94%|98% (296/302)|80% (1108/1390)|95% (539/569)|\n",
    "|[K](#prompt-K)|0-Shot|77.96%|98% (298/303)|66% (919/1391)|96% (548/570)|\n",
    "|[L](#prompt-L)|0-Shot|80.57%|98% (297/303)|70% (972/1391)|<u>**97% (555/570)**</u>|\n",
    "|[M](#prompt-M)|0-Shot|91.30%|97% (294/303)|90% (1257/1391)|91% (516/570)|\n",
    "|[N](#prompt-N)|0-Shot w/System Prompt|88.74%|97% (295/303)|85% (1184/1391)|93% (530/570)|\n",
    "|[O](#prompt-O)|0-Shot w/System Prompt|87.10%|94% (285/303)|83% (1156/1391)|93% (531/570)|\n",
    "|[P](#prompt-P)|0-Shot|92.23%|94% (285/303)|94% (1307/1391)|87% (496/570)|\n",
    "|[Q](#prompt-Q)|0-Shot|79.37%|99% (300/303)|73% (1009/1391)|86% (488/570)|\n",
    "|<u>**[R](#prompt-R)**</u>|<u>**20-Shot**</u>|<u>**93.94%**</u>|96% (286/299)|98% (1355/1379)|83% (467/566)|\n",
    "|[S](#prompt-S)|28-Shot|93.25%|94% (281/298)|99% (1358/1373)|79% (446/565)|\n",
    "|[T](#prompt-T)|20-Shot|84.54%|78% (232/299)|<u>**99.9% (1378/1379)**</u>|51% (287/566)|\n"
   ]
  },
  {
   "cell_type": "markdown",
   "metadata": {},
   "source": [
    "## Prompt A"
   ]
  },
  {
   "cell_type": "markdown",
   "metadata": {},
   "source": [
    "The HuggingFace model card for Phi-3-5 Mini-4K-Instruct says:\n",
    "\n",
    "> Given the nature of the training data, \n",
    "the Phi-3.5-mini-instruct model is best suited for prompts using the chat format"
   ]
  },
  {
   "cell_type": "markdown",
   "metadata": {},
   "source": [
    "So, the first prompt I'll try will be a simple instruction:\n",
    "\n"
   ]
  },
  {
   "cell_type": "code",
   "execution_count": 8,
   "metadata": {
    "execution": {
     "iopub.execute_input": "2024-09-10T20:02:40.018837Z",
     "iopub.status.busy": "2024-09-10T20:02:40.018545Z",
     "iopub.status.idle": "2024-09-10T20:02:40.022232Z",
     "shell.execute_reply": "2024-09-10T20:02:40.021652Z",
     "shell.execute_reply.started": "2024-09-10T20:02:40.018819Z"
    }
   },
   "outputs": [],
   "source": [
    "promptA = \"\"\"Label the following TEXT with a single word: negative, positive, or neutral\n",
    "TEXT: {text}\"\"\""
   ]
  },
  {
   "cell_type": "code",
   "execution_count": 9,
   "metadata": {
    "execution": {
     "iopub.execute_input": "2024-09-10T20:02:41.247165Z",
     "iopub.status.busy": "2024-09-10T20:02:41.246867Z",
     "iopub.status.idle": "2024-09-10T20:02:41.255051Z",
     "shell.execute_reply": "2024-09-10T20:02:41.254389Z",
     "shell.execute_reply.started": "2024-09-10T20:02:41.247141Z"
    }
   },
   "outputs": [
    {
     "data": {
      "text/plain": [
       "\"For the last quarter of 2010 , Componenta 's net sales doubled to EUR131m from EUR76m for the same period a year earlier , while it moved to a zero pre-tax profit from a pre-tax loss of EUR7m .\""
      ]
     },
     "execution_count": 9,
     "metadata": {},
     "output_type": "execute_result"
    }
   ],
   "source": [
    "text = dataset[1][\"sentence\"]\n",
    "text"
   ]
  },
  {
   "cell_type": "code",
   "execution_count": 11,
   "metadata": {
    "execution": {
     "iopub.execute_input": "2024-09-10T20:02:46.015818Z",
     "iopub.status.busy": "2024-09-10T20:02:46.015183Z",
     "iopub.status.idle": "2024-09-10T20:02:46.020146Z",
     "shell.execute_reply": "2024-09-10T20:02:46.019285Z",
     "shell.execute_reply.started": "2024-09-10T20:02:46.015791Z"
    }
   },
   "outputs": [
    {
     "name": "stdout",
     "output_type": "stream",
     "text": [
      "Label the following TEXT with a single word: negative, positive, or neutral\n",
      "TEXT: For the last quarter of 2010 , Componenta 's net sales doubled to EUR131m from EUR76m for the same period a year earlier , while it moved to a zero pre-tax profit from a pre-tax loss of EUR7m .\n"
     ]
    }
   ],
   "source": [
    "formatted_prompt = promptA.format(text=text)\n",
    "print(formatted_prompt)"
   ]
  },
  {
   "cell_type": "code",
   "execution_count": 12,
   "metadata": {
    "execution": {
     "iopub.execute_input": "2024-09-10T20:02:47.909112Z",
     "iopub.status.busy": "2024-09-10T20:02:47.908357Z",
     "iopub.status.idle": "2024-09-10T20:02:48.865358Z",
     "shell.execute_reply": "2024-09-10T20:02:48.864639Z",
     "shell.execute_reply.started": "2024-09-10T20:02:47.909080Z"
    }
   },
   "outputs": [
    {
     "name": "stderr",
     "output_type": "stream",
     "text": [
      "You are not running the flash-attention implementation, expect numerical differences.\n"
     ]
    },
    {
     "data": {
      "text/plain": [
       "' Negative'"
      ]
     },
     "execution_count": 12,
     "metadata": {},
     "output_type": "execute_result"
    }
   ],
   "source": [
    "generate_response(formatted_prompt)"
   ]
  },
  {
   "cell_type": "code",
   "execution_count": 13,
   "metadata": {
    "execution": {
     "iopub.execute_input": "2024-09-10T20:02:51.716386Z",
     "iopub.status.busy": "2024-09-10T20:02:51.715735Z",
     "iopub.status.idle": "2024-09-10T20:02:51.832068Z",
     "shell.execute_reply": "2024-09-10T20:02:51.831049Z",
     "shell.execute_reply.started": "2024-09-10T20:02:51.716359Z"
    }
   },
   "outputs": [
    {
     "name": "stdout",
     "output_type": "stream",
     "text": [
      "CPU times: user 101 ms, sys: 9.29 ms, total: 111 ms\n",
      "Wall time: 109 ms\n"
     ]
    },
    {
     "data": {
      "text/plain": [
       "' Negative'"
      ]
     },
     "execution_count": 13,
     "metadata": {},
     "output_type": "execute_result"
    }
   ],
   "source": [
    "%time generate_response(formatted_prompt)"
   ]
  },
  {
   "cell_type": "code",
   "execution_count": 14,
   "metadata": {
    "execution": {
     "iopub.execute_input": "2024-09-10T20:02:55.830009Z",
     "iopub.status.busy": "2024-09-10T20:02:55.828992Z",
     "iopub.status.idle": "2024-09-10T20:03:02.265808Z",
     "shell.execute_reply": "2024-09-10T20:03:02.265236Z",
     "shell.execute_reply.started": "2024-09-10T20:02:55.829979Z"
    }
   },
   "outputs": [
    {
     "name": "stderr",
     "output_type": "stream",
     "text": [
      "You seem to be using the pipelines sequentially on GPU. In order to maximize efficiency please use a dataset\n"
     ]
    },
    {
     "name": "stdout",
     "output_type": "stream",
     "text": [
      "91.9 ms ± 1.59 ms per loop (mean ± std. dev. of 7 runs, 10 loops each)\n"
     ]
    }
   ],
   "source": [
    "%timeit -n 10 generate_response(formatted_prompt)"
   ]
  },
  {
   "cell_type": "markdown",
   "metadata": {},
   "source": [
    "Good--at least it works! Although it looks like I'll have to strip the \n",
    "outputs of whitespace and convert them to lowercase. It takes about 0.1 seconds to generate\n",
    "the response, so it should take about 4 minutes to run inference on the whole dataset."
   ]
  },
  {
   "cell_type": "code",
   "execution_count": 15,
   "metadata": {
    "execution": {
     "iopub.execute_input": "2024-09-10T20:04:21.999316Z",
     "iopub.status.busy": "2024-09-10T20:04:21.998952Z",
     "iopub.status.idle": "2024-09-10T20:07:55.903348Z",
     "shell.execute_reply": "2024-09-10T20:07:55.902566Z",
     "shell.execute_reply.started": "2024-09-10T20:04:21.999292Z"
    }
   },
   "outputs": [
    {
     "data": {
      "application/vnd.jupyter.widget-view+json": {
       "model_id": "14ff8c0d5eb244f79e948b69742b6751",
       "version_major": 2,
       "version_minor": 0
      },
      "text/plain": [
       "Map:   0%|          | 0/2264 [00:00<?, ? examples/s]"
      ]
     },
     "metadata": {},
     "output_type": "display_data"
    },
    {
     "name": "stdout",
     "output_type": "stream",
     "text": [
      "Label the following TEXT with a single word: negative, positive, or neutral\n",
      "TEXT: According to Gran , the company has no plans to move all production to Russia , although that is where the company is growing .\n",
      "---------\n"
     ]
    }
   ],
   "source": [
    "df, acc = generate_responses(dataset, promptA)"
   ]
  },
  {
   "cell_type": "code",
   "execution_count": 16,
   "metadata": {
    "execution": {
     "iopub.execute_input": "2024-09-10T20:07:55.905841Z",
     "iopub.status.busy": "2024-09-10T20:07:55.904872Z",
     "iopub.status.idle": "2024-09-10T20:07:55.910901Z",
     "shell.execute_reply": "2024-09-10T20:07:55.910048Z",
     "shell.execute_reply.started": "2024-09-10T20:07:55.905814Z"
    }
   },
   "outputs": [
    {
     "data": {
      "text/plain": [
       "0.6232332155477032"
      ]
     },
     "execution_count": 16,
     "metadata": {},
     "output_type": "execute_result"
    }
   ],
   "source": [
    "acc"
   ]
  },
  {
   "cell_type": "code",
   "execution_count": 22,
   "metadata": {
    "execution": {
     "iopub.execute_input": "2024-09-10T20:11:02.525509Z",
     "iopub.status.busy": "2024-09-10T20:11:02.525041Z",
     "iopub.status.idle": "2024-09-10T20:11:02.529941Z",
     "shell.execute_reply": "2024-09-10T20:11:02.529251Z",
     "shell.execute_reply.started": "2024-09-10T20:11:02.525488Z"
    }
   },
   "outputs": [],
   "source": [
    "df['responses'] = df['responses'].apply(lambda x: x if x in ['negative', 'positive', 'neutral'] else \"other\")"
   ]
  },
  {
   "cell_type": "code",
   "execution_count": 23,
   "metadata": {
    "execution": {
     "iopub.execute_input": "2024-09-10T20:11:04.197739Z",
     "iopub.status.busy": "2024-09-10T20:11:04.197046Z",
     "iopub.status.idle": "2024-09-10T20:11:04.218321Z",
     "shell.execute_reply": "2024-09-10T20:11:04.217816Z",
     "shell.execute_reply.started": "2024-09-10T20:11:04.197713Z"
    }
   },
   "outputs": [],
   "source": [
    "df.to_csv('/notebooks/phi-3-5_A.csv', index=False)"
   ]
  },
  {
   "cell_type": "markdown",
   "metadata": {},
   "source": [
    "This prompt struggled with the `neutral` sentiment, as 568/1391 were misclassified as something other than\n",
    "`positive`, `neutral` or `negative`."
   ]
  },
  {
   "cell_type": "code",
   "execution_count": 24,
   "metadata": {
    "execution": {
     "iopub.execute_input": "2024-09-10T20:11:05.544808Z",
     "iopub.status.busy": "2024-09-10T20:11:05.544141Z",
     "iopub.status.idle": "2024-09-10T20:11:05.633516Z",
     "shell.execute_reply": "2024-09-10T20:11:05.632959Z",
     "shell.execute_reply.started": "2024-09-10T20:11:05.544780Z"
    }
   },
   "outputs": [
    {
     "data": {
      "image/png": "[encoded data removed]",
      "text/plain": [
       "<Figure size 576x576 with 1 Axes>"
      ]
     },
     "metadata": {
      "needs_background": "light"
     },
     "output_type": "display_data"
    }
   ],
   "source": [
    "make_cm(df)"
   ]
  },
  {
   "cell_type": "markdown",
   "metadata": {},
   "source": [
    "## Prompt B"
   ]
  },
  {
   "cell_type": "markdown",
   "metadata": {},
   "source": [
    "I'll repeat the instruction after the sentence and see if that improves the performance (as it did for phi-2)."
   ]
  },
  {
   "cell_type": "code",
   "execution_count": 25,
   "metadata": {
    "execution": {
     "iopub.execute_input": "2024-09-10T20:13:39.968208Z",
     "iopub.status.busy": "2024-09-10T20:13:39.967800Z",
     "iopub.status.idle": "2024-09-10T20:13:39.972114Z",
     "shell.execute_reply": "2024-09-10T20:13:39.971194Z",
     "shell.execute_reply.started": "2024-09-10T20:13:39.968176Z"
    }
   },
   "outputs": [],
   "source": [
    "promptB = \"\"\"Instruct: label the following TEXT with a single word: negative, positive, or neutral\n",
    "TEXT: {text}\n",
    "label the TEXT with a single word: negative, positive, or neutral\"\"\""
   ]
  },
  {
   "cell_type": "code",
   "execution_count": 26,
   "metadata": {
    "execution": {
     "iopub.execute_input": "2024-09-10T20:13:53.990465Z",
     "iopub.status.busy": "2024-09-10T20:13:53.989888Z",
     "iopub.status.idle": "2024-09-10T20:17:26.823921Z",
     "shell.execute_reply": "2024-09-10T20:17:26.823201Z",
     "shell.execute_reply.started": "2024-09-10T20:13:53.990444Z"
    }
   },
   "outputs": [
    {
     "data": {
      "application/vnd.jupyter.widget-view+json": {
       "model_id": "8516adff265d4dcab181a62b59653fc1",
       "version_major": 2,
       "version_minor": 0
      },
      "text/plain": [
       "Map:   0%|          | 0/2264 [00:00<?, ? examples/s]"
      ]
     },
     "metadata": {},
     "output_type": "display_data"
    },
    {
     "name": "stdout",
     "output_type": "stream",
     "text": [
      "Instruct: label the following TEXT with a single word: negative, positive, or neutral\n",
      "TEXT: According to Gran , the company has no plans to move all production to Russia , although that is where the company is growing .\n",
      "label the TEXT with a single word: negative, positive, or neutral\n",
      "---------\n"
     ]
    }
   ],
   "source": [
    "df, acc = generate_responses(dataset, promptB)"
   ]
  },
  {
   "cell_type": "markdown",
   "metadata": {},
   "source": [
    "The accuracy jumps up from 62.3% to 88.6%! Repeating the instruction after the dataset item was something \n",
    "I learned to do in fastai study group."
   ]
  },
  {
   "cell_type": "code",
   "execution_count": 27,
   "metadata": {
    "execution": {
     "iopub.execute_input": "2024-09-10T20:17:26.827209Z",
     "iopub.status.busy": "2024-09-10T20:17:26.827044Z",
     "iopub.status.idle": "2024-09-10T20:17:26.831332Z",
     "shell.execute_reply": "2024-09-10T20:17:26.830690Z",
     "shell.execute_reply.started": "2024-09-10T20:17:26.827194Z"
    }
   },
   "outputs": [
    {
     "data": {
      "text/plain": [
       "0.8860424028268551"
      ]
     },
     "execution_count": 27,
     "metadata": {},
     "output_type": "execute_result"
    }
   ],
   "source": [
    "acc"
   ]
  },
  {
   "cell_type": "code",
   "execution_count": 28,
   "metadata": {
    "execution": {
     "iopub.execute_input": "2024-09-10T20:19:01.457993Z",
     "iopub.status.busy": "2024-09-10T20:19:01.457629Z",
     "iopub.status.idle": "2024-09-10T20:19:01.463234Z",
     "shell.execute_reply": "2024-09-10T20:19:01.462471Z",
     "shell.execute_reply.started": "2024-09-10T20:19:01.457969Z"
    }
   },
   "outputs": [],
   "source": [
    "df['responses'] = df['responses'].apply(lambda x: x if x in ['negative', 'positive', 'neutral'] else \"other\")"
   ]
  },
  {
   "cell_type": "code",
   "execution_count": 29,
   "metadata": {
    "execution": {
     "iopub.execute_input": "2024-09-10T20:19:02.814014Z",
     "iopub.status.busy": "2024-09-10T20:19:02.813654Z",
     "iopub.status.idle": "2024-09-10T20:19:02.839168Z",
     "shell.execute_reply": "2024-09-10T20:19:02.838427Z",
     "shell.execute_reply.started": "2024-09-10T20:19:02.813987Z"
    }
   },
   "outputs": [],
   "source": [
    "df.to_csv('/notebooks/phi-3-5_B.csv', index=False)"
   ]
  },
  {
   "cell_type": "markdown",
   "metadata": {},
   "source": [
    "The model does a much better job at predicting `neutral` sentiment with this adjustment."
   ]
  },
  {
   "cell_type": "code",
   "execution_count": 30,
   "metadata": {
    "execution": {
     "iopub.execute_input": "2024-09-10T20:19:15.994990Z",
     "iopub.status.busy": "2024-09-10T20:19:15.994593Z",
     "iopub.status.idle": "2024-09-10T20:19:16.090640Z",
     "shell.execute_reply": "2024-09-10T20:19:16.089862Z",
     "shell.execute_reply.started": "2024-09-10T20:19:15.994965Z"
    }
   },
   "outputs": [
    {
     "data": {
      "image/png": "[encoded data removed]",
      "text/plain": [
       "<Figure size 576x576 with 1 Axes>"
      ]
     },
     "metadata": {
      "needs_background": "light"
     },
     "output_type": "display_data"
    }
   ],
   "source": [
    "make_cm(df)"
   ]
  },
  {
   "cell_type": "markdown",
   "metadata": {},
   "source": [
    "## Prompt C"
   ]
  },
  {
   "cell_type": "markdown",
   "metadata": {},
   "source": [
    "I'll add some introductory text to the prompt to see if that improves the model's performance:"
   ]
  },
  {
   "cell_type": "code",
   "execution_count": 31,
   "metadata": {
    "execution": {
     "iopub.execute_input": "2024-09-10T20:22:12.162149Z",
     "iopub.status.busy": "2024-09-10T20:22:12.161827Z",
     "iopub.status.idle": "2024-09-10T20:22:12.166169Z",
     "shell.execute_reply": "2024-09-10T20:22:12.165389Z",
     "shell.execute_reply.started": "2024-09-10T20:22:12.162128Z"
    }
   },
   "outputs": [],
   "source": [
    "promptC = \"\"\"Your task is to analyze the sentiment (from an investor's perspective) of the text below.\n",
    "\n",
    "Instruct: label the following TEXT with a single word: negative, positive, or neutral\n",
    "TEXT: {text}\n",
    "label the TEXT with a single word: negative, positive, or neutral\"\"\""
   ]
  },
  {
   "cell_type": "code",
   "execution_count": 32,
   "metadata": {
    "execution": {
     "iopub.execute_input": "2024-09-10T20:22:23.894458Z",
     "iopub.status.busy": "2024-09-10T20:22:23.893740Z",
     "iopub.status.idle": "2024-09-10T20:26:01.864511Z",
     "shell.execute_reply": "2024-09-10T20:26:01.863762Z",
     "shell.execute_reply.started": "2024-09-10T20:22:23.894435Z"
    }
   },
   "outputs": [
    {
     "data": {
      "application/vnd.jupyter.widget-view+json": {
       "model_id": "28fb1133a3214a958546bd43393573f4",
       "version_major": 2,
       "version_minor": 0
      },
      "text/plain": [
       "Map:   0%|          | 0/2264 [00:00<?, ? examples/s]"
      ]
     },
     "metadata": {},
     "output_type": "display_data"
    },
    {
     "name": "stdout",
     "output_type": "stream",
     "text": [
      "Your task is to analyze the sentiment (from an investor's perspective) of the text below.\n",
      "\n",
      "Instruct: label the following TEXT with a single word: negative, positive, or neutral\n",
      "TEXT: According to Gran , the company has no plans to move all production to Russia , although that is where the company is growing .\n",
      "label the TEXT with a single word: negative, positive, or neutral\n",
      "---------\n"
     ]
    }
   ],
   "source": [
    "df, acc = generate_responses(dataset, promptC)"
   ]
  },
  {
   "cell_type": "markdown",
   "metadata": {},
   "source": [
    "The addition of this introductory text actually worsens the model's performance by about 5%."
   ]
  },
  {
   "cell_type": "code",
   "execution_count": 33,
   "metadata": {
    "execution": {
     "iopub.execute_input": "2024-09-10T20:26:01.867383Z",
     "iopub.status.busy": "2024-09-10T20:26:01.867234Z",
     "iopub.status.idle": "2024-09-10T20:26:01.871757Z",
     "shell.execute_reply": "2024-09-10T20:26:01.871104Z",
     "shell.execute_reply.started": "2024-09-10T20:26:01.867368Z"
    }
   },
   "outputs": [
    {
     "data": {
      "text/plain": [
       "0.8348056537102474"
      ]
     },
     "execution_count": 33,
     "metadata": {},
     "output_type": "execute_result"
    }
   ],
   "source": [
    "acc"
   ]
  },
  {
   "cell_type": "code",
   "execution_count": 37,
   "metadata": {
    "execution": {
     "iopub.execute_input": "2024-09-10T20:26:22.395487Z",
     "iopub.status.busy": "2024-09-10T20:26:22.394834Z",
     "iopub.status.idle": "2024-09-10T20:26:22.401022Z",
     "shell.execute_reply": "2024-09-10T20:26:22.399960Z",
     "shell.execute_reply.started": "2024-09-10T20:26:22.395460Z"
    }
   },
   "outputs": [],
   "source": [
    "df['responses'] = df['responses'].apply(lambda x: x if x in ['negative', 'positive', 'neutral'] else \"other\")"
   ]
  },
  {
   "cell_type": "code",
   "execution_count": 38,
   "metadata": {
    "execution": {
     "iopub.execute_input": "2024-09-10T20:26:24.198390Z",
     "iopub.status.busy": "2024-09-10T20:26:24.197692Z",
     "iopub.status.idle": "2024-09-10T20:26:24.287352Z",
     "shell.execute_reply": "2024-09-10T20:26:24.286780Z",
     "shell.execute_reply.started": "2024-09-10T20:26:24.198355Z"
    }
   },
   "outputs": [
    {
     "data": {
      "image/png": "[encoded data removed]",
      "text/plain": [
       "<Figure size 576x576 with 1 Axes>"
      ]
     },
     "metadata": {
      "needs_background": "light"
     },
     "output_type": "display_data"
    }
   ],
   "source": [
    "make_cm(df)"
   ]
  },
  {
   "cell_type": "code",
   "execution_count": 39,
   "metadata": {
    "execution": {
     "iopub.execute_input": "2024-09-10T20:26:31.662582Z",
     "iopub.status.busy": "2024-09-10T20:26:31.661980Z",
     "iopub.status.idle": "2024-09-10T20:26:31.686166Z",
     "shell.execute_reply": "2024-09-10T20:26:31.685563Z",
     "shell.execute_reply.started": "2024-09-10T20:26:31.662561Z"
    }
   },
   "outputs": [],
   "source": [
    "df.to_csv('/notebooks/phi-3-5_C.csv', index=False)"
   ]
  },
  {
   "cell_type": "markdown",
   "metadata": {},
   "source": [
    "## Prompt D"
   ]
  },
  {
   "cell_type": "markdown",
   "metadata": {},
   "source": [
    "I'll try another prompt language adjustment to Prompt B: I'll replace\n",
    "\"label\" with \"Respond\"."
   ]
  },
  {
   "cell_type": "code",
   "execution_count": 43,
   "metadata": {
    "execution": {
     "iopub.execute_input": "2024-09-10T20:34:40.583440Z",
     "iopub.status.busy": "2024-09-10T20:34:40.583159Z",
     "iopub.status.idle": "2024-09-10T20:34:40.587130Z",
     "shell.execute_reply": "2024-09-10T20:34:40.586329Z",
     "shell.execute_reply.started": "2024-09-10T20:34:40.583422Z"
    }
   },
   "outputs": [],
   "source": [
    "promptD = \"\"\"Instruct: Respond with only one of these words: negative, positive, or neutral\n",
    "TEXT: {text}\n",
    "Respond with only one of these words: negative, positive, or neutral\"\"\""
   ]
  },
  {
   "cell_type": "code",
   "execution_count": 44,
   "metadata": {
    "execution": {
     "iopub.execute_input": "2024-09-10T20:34:45.986606Z",
     "iopub.status.busy": "2024-09-10T20:34:45.986326Z",
     "iopub.status.idle": "2024-09-10T20:38:19.125140Z",
     "shell.execute_reply": "2024-09-10T20:38:19.124552Z",
     "shell.execute_reply.started": "2024-09-10T20:34:45.986588Z"
    }
   },
   "outputs": [
    {
     "data": {
      "application/vnd.jupyter.widget-view+json": {
       "model_id": "3593d9b0003f47b69d801e63355b7447",
       "version_major": 2,
       "version_minor": 0
      },
      "text/plain": [
       "Map:   0%|          | 0/2264 [00:00<?, ? examples/s]"
      ]
     },
     "metadata": {},
     "output_type": "display_data"
    },
    {
     "name": "stdout",
     "output_type": "stream",
     "text": [
      "Instruct: Respond with only one of these words: negative, positive, or neutral\n",
      "TEXT: According to Gran , the company has no plans to move all production to Russia , although that is where the company is growing .\n",
      "Respond with only one of these words: negative, positive, or neutral\n",
      "---------\n"
     ]
    }
   ],
   "source": [
    "df, acc = generate_responses(dataset, promptD)"
   ]
  },
  {
   "cell_type": "markdown",
   "metadata": {},
   "source": [
    "Wow! The accuracy plummets to 69%. This was something that had improved the accuracy for phi-2."
   ]
  },
  {
   "cell_type": "code",
   "execution_count": 45,
   "metadata": {
    "execution": {
     "iopub.execute_input": "2024-09-10T20:38:19.126487Z",
     "iopub.status.busy": "2024-09-10T20:38:19.126281Z",
     "iopub.status.idle": "2024-09-10T20:38:19.130311Z",
     "shell.execute_reply": "2024-09-10T20:38:19.129771Z",
     "shell.execute_reply.started": "2024-09-10T20:38:19.126471Z"
    }
   },
   "outputs": [
    {
     "data": {
      "text/plain": [
       "0.6863957597173145"
      ]
     },
     "execution_count": 45,
     "metadata": {},
     "output_type": "execute_result"
    }
   ],
   "source": [
    "acc"
   ]
  },
  {
   "cell_type": "markdown",
   "metadata": {},
   "source": [
    "The model actually improves its performance on `negative` and `positive` sentences,\n",
    "but significantly worsens its performance when classifying `neutral` sentences."
   ]
  },
  {
   "cell_type": "code",
   "execution_count": 46,
   "metadata": {
    "execution": {
     "iopub.execute_input": "2024-09-10T20:38:19.131202Z",
     "iopub.status.busy": "2024-09-10T20:38:19.131052Z",
     "iopub.status.idle": "2024-09-10T20:38:19.222226Z",
     "shell.execute_reply": "2024-09-10T20:38:19.221714Z",
     "shell.execute_reply.started": "2024-09-10T20:38:19.131202Z"
    }
   },
   "outputs": [
    {
     "data": {
      "image/png": "[encoded data removed]",
      "text/plain": [
       "<Figure size 576x576 with 1 Axes>"
      ]
     },
     "metadata": {
      "needs_background": "light"
     },
     "output_type": "display_data"
    }
   ],
   "source": [
    "make_cm(df)"
   ]
  },
  {
   "cell_type": "code",
   "execution_count": 47,
   "metadata": {
    "execution": {
     "iopub.execute_input": "2024-09-10T20:43:08.929116Z",
     "iopub.status.busy": "2024-09-10T20:43:08.928590Z",
     "iopub.status.idle": "2024-09-10T20:43:08.954648Z",
     "shell.execute_reply": "2024-09-10T20:43:08.953983Z",
     "shell.execute_reply.started": "2024-09-10T20:43:08.929097Z"
    }
   },
   "outputs": [],
   "source": [
    "df.to_csv('/notebooks/phi-3-5_D.csv', index=False)"
   ]
  },
  {
   "cell_type": "markdown",
   "metadata": {},
   "source": [
    "## Prompt E"
   ]
  },
  {
   "cell_type": "markdown",
   "metadata": {},
   "source": [
    "Another adjustment that improved phi-2's performance was to add a period after the instruction. I'll see\n",
    "if doing so improves phi-3.5's performance."
   ]
  },
  {
   "cell_type": "code",
   "execution_count": 48,
   "metadata": {
    "execution": {
     "iopub.execute_input": "2024-09-10T20:47:05.858952Z",
     "iopub.status.busy": "2024-09-10T20:47:05.858147Z",
     "iopub.status.idle": "2024-09-10T20:47:05.862763Z",
     "shell.execute_reply": "2024-09-10T20:47:05.861985Z",
     "shell.execute_reply.started": "2024-09-10T20:47:05.858916Z"
    }
   },
   "outputs": [],
   "source": [
    "promptE = \"\"\"Instruct: label the following TEXT with a single word: negative, positive, or neutral.\n",
    "TEXT: {text}\n",
    "label the TEXT with a single word: negative, positive, or neutral.\"\"\""
   ]
  },
  {
   "cell_type": "code",
   "execution_count": 49,
   "metadata": {
    "execution": {
     "iopub.execute_input": "2024-09-10T20:47:18.132661Z",
     "iopub.status.busy": "2024-09-10T20:47:18.132005Z",
     "iopub.status.idle": "2024-09-10T20:50:49.801782Z",
     "shell.execute_reply": "2024-09-10T20:50:49.801210Z",
     "shell.execute_reply.started": "2024-09-10T20:47:18.132640Z"
    }
   },
   "outputs": [
    {
     "data": {
      "application/vnd.jupyter.widget-view+json": {
       "model_id": "ead0011c23ae4691a79fd373f4556ba0",
       "version_major": 2,
       "version_minor": 0
      },
      "text/plain": [
       "Map:   0%|          | 0/2264 [00:00<?, ? examples/s]"
      ]
     },
     "metadata": {},
     "output_type": "display_data"
    },
    {
     "name": "stdout",
     "output_type": "stream",
     "text": [
      "Instruct: label the following TEXT with a single word: negative, positive, or neutral.\n",
      "TEXT: According to Gran , the company has no plans to move all production to Russia , although that is where the company is growing .\n",
      "label the TEXT with a single word: negative, positive, or neutral.\n",
      "---------\n"
     ]
    }
   ],
   "source": [
    "df, acc = generate_responses(dataset, promptE)"
   ]
  },
  {
   "cell_type": "markdown",
   "metadata": {},
   "source": [
    "Interestingly, this actually worsens the overall accuracy a bit."
   ]
  },
  {
   "cell_type": "code",
   "execution_count": 50,
   "metadata": {
    "execution": {
     "iopub.execute_input": "2024-09-10T20:50:49.803545Z",
     "iopub.status.busy": "2024-09-10T20:50:49.802803Z",
     "iopub.status.idle": "2024-09-10T20:50:49.807758Z",
     "shell.execute_reply": "2024-09-10T20:50:49.807280Z",
     "shell.execute_reply.started": "2024-09-10T20:50:49.803522Z"
    }
   },
   "outputs": [
    {
     "data": {
      "text/plain": [
       "0.8825088339222615"
      ]
     },
     "execution_count": 50,
     "metadata": {},
     "output_type": "execute_result"
    }
   ],
   "source": [
    "acc"
   ]
  },
  {
   "cell_type": "markdown",
   "metadata": {},
   "source": [
    "The `negative` and `positive` true positive rate is the same as Prompt B, but `neutral` rate is worse (1207 < 1215)."
   ]
  },
  {
   "cell_type": "code",
   "execution_count": 51,
   "metadata": {
    "execution": {
     "iopub.execute_input": "2024-09-10T20:50:49.809136Z",
     "iopub.status.busy": "2024-09-10T20:50:49.808520Z",
     "iopub.status.idle": "2024-09-10T20:50:50.289943Z",
     "shell.execute_reply": "2024-09-10T20:50:50.289510Z",
     "shell.execute_reply.started": "2024-09-10T20:50:49.809111Z"
    }
   },
   "outputs": [
    {
     "data": {
      "image/png": "[encoded data removed]",
      "text/plain": [
       "<Figure size 576x576 with 1 Axes>"
      ]
     },
     "metadata": {
      "needs_background": "light"
     },
     "output_type": "display_data"
    }
   ],
   "source": [
    "make_cm(df)"
   ]
  },
  {
   "cell_type": "code",
   "execution_count": 53,
   "metadata": {
    "execution": {
     "iopub.execute_input": "2024-09-10T20:55:16.875770Z",
     "iopub.status.busy": "2024-09-10T20:55:16.874732Z",
     "iopub.status.idle": "2024-09-10T20:55:16.900740Z",
     "shell.execute_reply": "2024-09-10T20:55:16.899988Z",
     "shell.execute_reply.started": "2024-09-10T20:55:16.875738Z"
    }
   },
   "outputs": [],
   "source": [
    "df.to_csv('/notebooks/phi-3-5_E.csv', index=False)"
   ]
  },
  {
   "cell_type": "markdown",
   "metadata": {},
   "source": [
    "## Prompt F"
   ]
  },
  {
   "cell_type": "markdown",
   "metadata": {},
   "source": [
    "I'll now move on to few-shot prompting to see if I can improve on the best overall accuracy so far (88.6%).\n",
    "To do so, I'll create a new helper function (since the chat template handles few-shot prompt as multiple query-response exchanges between user and assistant)."
   ]
  },
  {
   "cell_type": "code",
   "execution_count": 8,
   "metadata": {
    "execution": {
     "iopub.execute_input": "2024-09-11T23:05:34.897057Z",
     "iopub.status.busy": "2024-09-11T23:05:34.896452Z",
     "iopub.status.idle": "2024-09-11T23:05:34.904439Z",
     "shell.execute_reply": "2024-09-11T23:05:34.903670Z",
     "shell.execute_reply.started": "2024-09-11T23:05:34.897030Z"
    }
   },
   "outputs": [],
   "source": [
    "#| code-fold: true\n",
    "#| code-summary: \"Show `few_shot_responses` function\"\n",
    "def few_shot_responses(dataset, prompt, examples):\n",
    "    responses = []\n",
    "    dataset = dataset.map(add_prompt, fn_kwargs={\"prompt\": prompt})\n",
    "\n",
    "    few_shot_examples = []\n",
    "    \n",
    "    for example in examples:\n",
    "        few_shot_examples.append({\"role\": \"user\", \"content\": prompt.format(text=example[0])})\n",
    "        few_shot_examples.append({\"role\": \"assistant\", \"content\": example[1]})\n",
    "    \n",
    "    count = 0\n",
    "    for row in dataset:\n",
    "        count += 1\n",
    "        messages = few_shot_examples + [{\"role\": \"user\", \"content\": row['prompt']}]\n",
    "        \n",
    "        if count == 1: print(messages)\n",
    "        \n",
    "        generation_args = { \n",
    "            \"max_new_tokens\": 2, \n",
    "            \"return_full_text\": False, \n",
    "            \"temperature\": 0.1, \n",
    "            \"do_sample\": True, \n",
    "        } \n",
    "\n",
    "        response = pipe(messages, **generation_args) \n",
    "        responses.append(response[0]['generated_text'].strip().lower())\n",
    "        \n",
    "    # calculate accuracy\n",
    "    df = dataset.to_pandas()\n",
    "    df['responses'] = pd.Series(responses)\n",
    "    df['responses'] = df['responses'].apply(lambda x: x if x in ['negative', 'positive', 'neutral'] else \"other\")\n",
    "    df['lm_match'] = df['label_text'] == df['responses']\n",
    "    acc = df.lm_match.mean()\n",
    "    return df, acc"
   ]
  },
  {
   "cell_type": "code",
   "execution_count": 74,
   "metadata": {
    "execution": {
     "iopub.execute_input": "2024-09-10T22:50:51.353719Z",
     "iopub.status.busy": "2024-09-10T22:50:51.352913Z",
     "iopub.status.idle": "2024-09-10T22:50:51.356629Z",
     "shell.execute_reply": "2024-09-10T22:50:51.356046Z",
     "shell.execute_reply.started": "2024-09-10T22:50:51.353695Z"
    }
   },
   "outputs": [],
   "source": [
    "exclude_idxs = [0, 1, 292]"
   ]
  },
  {
   "cell_type": "code",
   "execution_count": 75,
   "metadata": {
    "execution": {
     "iopub.execute_input": "2024-09-10T22:50:52.656744Z",
     "iopub.status.busy": "2024-09-10T22:50:52.656131Z",
     "iopub.status.idle": "2024-09-10T22:50:52.668656Z",
     "shell.execute_reply": "2024-09-10T22:50:52.668056Z",
     "shell.execute_reply.started": "2024-09-10T22:50:52.656722Z"
    }
   },
   "outputs": [],
   "source": [
    "promptF_ds = ds_subset(dataset, exclude_idxs)"
   ]
  },
  {
   "cell_type": "code",
   "execution_count": 76,
   "metadata": {
    "execution": {
     "iopub.execute_input": "2024-09-10T22:50:54.608654Z",
     "iopub.status.busy": "2024-09-10T22:50:54.607761Z",
     "iopub.status.idle": "2024-09-10T22:50:54.613924Z",
     "shell.execute_reply": "2024-09-10T22:50:54.612935Z",
     "shell.execute_reply.started": "2024-09-10T22:50:54.608651Z"
    }
   },
   "outputs": [
    {
     "data": {
      "text/plain": [
       "Dataset({\n",
       "    features: ['sentence', 'label', 'label_text', '__index_level_0__'],\n",
       "    num_rows: 2261\n",
       "})"
      ]
     },
     "execution_count": 76,
     "metadata": {},
     "output_type": "execute_result"
    }
   ],
   "source": [
    "promptF_ds"
   ]
  },
  {
   "cell_type": "code",
   "execution_count": 77,
   "metadata": {
    "execution": {
     "iopub.execute_input": "2024-09-10T22:50:58.383449Z",
     "iopub.status.busy": "2024-09-10T22:50:58.383169Z",
     "iopub.status.idle": "2024-09-10T22:50:58.390470Z",
     "shell.execute_reply": "2024-09-10T22:50:58.389298Z",
     "shell.execute_reply.started": "2024-09-10T22:50:58.383430Z"
    }
   },
   "outputs": [
    {
     "data": {
      "text/plain": [
       "[('According to Gran , the company has no plans to move all production to Russia , although that is where the company is growing .',\n",
       "  'neutral'),\n",
       " (\"For the last quarter of 2010 , Componenta 's net sales doubled to EUR131m from EUR76m for the same period a year earlier , while it moved to a zero pre-tax profit from a pre-tax loss of EUR7m .\",\n",
       "  'positive'),\n",
       " ('Jan. 6 -- Ford is struggling in the face of slowing truck and SUV sales and a surfeit of up-to-date , gotta-have cars .',\n",
       "  'negative')]"
      ]
     },
     "execution_count": 77,
     "metadata": {},
     "output_type": "execute_result"
    }
   ],
   "source": [
    "examples = []\n",
    "for idx in exclude_idxs:\n",
    "    examples.append((dataset[idx]['sentence'], dataset[idx]['label_text']))\n",
    "\n",
    "examples"
   ]
  },
  {
   "cell_type": "code",
   "execution_count": 82,
   "metadata": {
    "execution": {
     "iopub.execute_input": "2024-09-10T22:52:01.738560Z",
     "iopub.status.busy": "2024-09-10T22:52:01.737833Z",
     "iopub.status.idle": "2024-09-10T22:57:17.142603Z",
     "shell.execute_reply": "2024-09-10T22:57:17.142106Z",
     "shell.execute_reply.started": "2024-09-10T22:52:01.738529Z"
    }
   },
   "outputs": [
    {
     "data": {
      "application/vnd.jupyter.widget-view+json": {
       "model_id": "72728f4fc3804af8aa0dfa462faa774d",
       "version_major": 2,
       "version_minor": 0
      },
      "text/plain": [
       "Map:   0%|          | 0/2261 [00:00<?, ? examples/s]"
      ]
     },
     "metadata": {},
     "output_type": "display_data"
    },
    {
     "name": "stdout",
     "output_type": "stream",
     "text": [
      "[{'role': 'user', 'content': 'Instruct: label the following TEXT with a single word: negative, positive, or neutral\\nTEXT: According to Gran , the company has no plans to move all production to Russia , although that is where the company is growing .\\nlabel the TEXT with a single word: negative, positive, or neutral'}, {'role': 'assistant', 'content': 'neutral'}, {'role': 'user', 'content': \"Instruct: label the following TEXT with a single word: negative, positive, or neutral\\nTEXT: For the last quarter of 2010 , Componenta 's net sales doubled to EUR131m from EUR76m for the same period a year earlier , while it moved to a zero pre-tax profit from a pre-tax loss of EUR7m .\\nlabel the TEXT with a single word: negative, positive, or neutral\"}, {'role': 'assistant', 'content': 'positive'}, {'role': 'user', 'content': 'Instruct: label the following TEXT with a single word: negative, positive, or neutral\\nTEXT: Jan. 6 -- Ford is struggling in the face of slowing truck and SUV sales and a surfeit of up-to-date , gotta-have cars .\\nlabel the TEXT with a single word: negative, positive, or neutral'}, {'role': 'assistant', 'content': 'negative'}, {'role': 'user', 'content': 'Instruct: label the following TEXT with a single word: negative, positive, or neutral\\nTEXT: In the third quarter of 2010 , net sales increased by 5.2 % to EUR 205.5 mn , and operating profit by 34.9 % to EUR 23.5 mn .\\nlabel the TEXT with a single word: negative, positive, or neutral'}]\n"
     ]
    }
   ],
   "source": [
    "df, acc = few_shot_responses(promptF_ds, promptB, examples)"
   ]
  },
  {
   "cell_type": "markdown",
   "metadata": {},
   "source": [
    "The accuracy drops to 84.65%."
   ]
  },
  {
   "cell_type": "code",
   "execution_count": 83,
   "metadata": {
    "execution": {
     "iopub.execute_input": "2024-09-10T22:59:26.040819Z",
     "iopub.status.busy": "2024-09-10T22:59:26.040466Z",
     "iopub.status.idle": "2024-09-10T22:59:26.046232Z",
     "shell.execute_reply": "2024-09-10T22:59:26.045531Z",
     "shell.execute_reply.started": "2024-09-10T22:59:26.040795Z"
    }
   },
   "outputs": [
    {
     "data": {
      "text/plain": [
       "0.8465280849181778"
      ]
     },
     "execution_count": 83,
     "metadata": {},
     "output_type": "execute_result"
    }
   ],
   "source": [
    "acc"
   ]
  },
  {
   "cell_type": "markdown",
   "metadata": {},
   "source": [
    "Compared to Prompt B, the true positive rate for `neutral` decreases (1070 < 1215)\n",
    "whereas for `positive` and `negative` sentiment the TPR increases (296 > 290, 548 > 501)."
   ]
  },
  {
   "cell_type": "code",
   "execution_count": 84,
   "metadata": {
    "execution": {
     "iopub.execute_input": "2024-09-10T23:00:15.083099Z",
     "iopub.status.busy": "2024-09-10T23:00:15.082114Z",
     "iopub.status.idle": "2024-09-10T23:00:15.210950Z",
     "shell.execute_reply": "2024-09-10T23:00:15.210294Z",
     "shell.execute_reply.started": "2024-09-10T23:00:15.083065Z"
    }
   },
   "outputs": [
    {
     "data": {
      "image/png": "[encoded data removed]",
      "text/plain": [
       "<Figure size 576x576 with 1 Axes>"
      ]
     },
     "metadata": {
      "needs_background": "light"
     },
     "output_type": "display_data"
    }
   ],
   "source": [
    "make_cm(df)"
   ]
  },
  {
   "cell_type": "code",
   "execution_count": 85,
   "metadata": {
    "execution": {
     "iopub.execute_input": "2024-09-10T23:01:55.650702Z",
     "iopub.status.busy": "2024-09-10T23:01:55.650420Z",
     "iopub.status.idle": "2024-09-10T23:01:55.674125Z",
     "shell.execute_reply": "2024-09-10T23:01:55.673487Z",
     "shell.execute_reply.started": "2024-09-10T23:01:55.650684Z"
    }
   },
   "outputs": [],
   "source": [
    "df.to_csv('/notebooks/phi-3-5_F.csv', index=False)"
   ]
  },
  {
   "cell_type": "markdown",
   "metadata": {},
   "source": [
    "## Prompt G"
   ]
  },
  {
   "cell_type": "markdown",
   "metadata": {},
   "source": [
    "I'll now try a 6-Shot prompt using the examples that were best-performing for phi-2."
   ]
  },
  {
   "cell_type": "code",
   "execution_count": 86,
   "metadata": {
    "execution": {
     "iopub.execute_input": "2024-09-10T23:07:05.099893Z",
     "iopub.status.busy": "2024-09-10T23:07:05.099560Z",
     "iopub.status.idle": "2024-09-10T23:07:05.118682Z",
     "shell.execute_reply": "2024-09-10T23:07:05.117924Z",
     "shell.execute_reply.started": "2024-09-10T23:07:05.099871Z"
    }
   },
   "outputs": [
    {
     "data": {
      "text/plain": [
       "Dataset({\n",
       "    features: ['sentence', 'label', 'label_text', '__index_level_0__'],\n",
       "    num_rows: 2258\n",
       "})"
      ]
     },
     "execution_count": 86,
     "metadata": {},
     "output_type": "execute_result"
    }
   ],
   "source": [
    "exclude_idxs=[0, 1, 292, 37, 38, 39]\n",
    "promptG_ds = ds_subset(dataset, exclude_idxs=exclude_idxs)\n",
    "promptG_ds"
   ]
  },
  {
   "cell_type": "code",
   "execution_count": 88,
   "metadata": {
    "execution": {
     "iopub.execute_input": "2024-09-10T23:07:33.184273Z",
     "iopub.status.busy": "2024-09-10T23:07:33.183702Z",
     "iopub.status.idle": "2024-09-10T23:07:33.190417Z",
     "shell.execute_reply": "2024-09-10T23:07:33.189882Z",
     "shell.execute_reply.started": "2024-09-10T23:07:33.184245Z"
    }
   },
   "outputs": [
    {
     "data": {
      "text/plain": [
       "(('According to Gran , the company has no plans to move all production to Russia , although that is where the company is growing .',\n",
       "  'neutral'),\n",
       " 6)"
      ]
     },
     "execution_count": 88,
     "metadata": {},
     "output_type": "execute_result"
    }
   ],
   "source": [
    "examples = []\n",
    "for idx in exclude_idxs:\n",
    "    examples.append((dataset[idx]['sentence'], dataset[idx]['label_text']))\n",
    "\n",
    "examples[0], len(examples)"
   ]
  },
  {
   "cell_type": "code",
   "execution_count": 89,
   "metadata": {
    "execution": {
     "iopub.execute_input": "2024-09-10T23:07:54.251745Z",
     "iopub.status.busy": "2024-09-10T23:07:54.250798Z",
     "iopub.status.idle": "2024-09-10T23:16:17.108382Z",
     "shell.execute_reply": "2024-09-10T23:16:17.107675Z",
     "shell.execute_reply.started": "2024-09-10T23:07:54.251714Z"
    }
   },
   "outputs": [
    {
     "data": {
      "application/vnd.jupyter.widget-view+json": {
       "model_id": "45e3402d656648abb2526d0bb8470703",
       "version_major": 2,
       "version_minor": 0
      },
      "text/plain": [
       "Map:   0%|          | 0/2258 [00:00<?, ? examples/s]"
      ]
     },
     "metadata": {},
     "output_type": "display_data"
    },
    {
     "name": "stdout",
     "output_type": "stream",
     "text": [
      "[{'role': 'user', 'content': 'Instruct: label the following TEXT with a single word: negative, positive, or neutral\\nTEXT: According to Gran , the company has no plans to move all production to Russia , although that is where the company is growing .\\nlabel the TEXT with a single word: negative, positive, or neutral'}, {'role': 'assistant', 'content': 'neutral'}, {'role': 'user', 'content': \"Instruct: label the following TEXT with a single word: negative, positive, or neutral\\nTEXT: For the last quarter of 2010 , Componenta 's net sales doubled to EUR131m from EUR76m for the same period a year earlier , while it moved to a zero pre-tax profit from a pre-tax loss of EUR7m .\\nlabel the TEXT with a single word: negative, positive, or neutral\"}, {'role': 'assistant', 'content': 'positive'}, {'role': 'user', 'content': 'Instruct: label the following TEXT with a single word: negative, positive, or neutral\\nTEXT: Jan. 6 -- Ford is struggling in the face of slowing truck and SUV sales and a surfeit of up-to-date , gotta-have cars .\\nlabel the TEXT with a single word: negative, positive, or neutral'}, {'role': 'assistant', 'content': 'negative'}, {'role': 'user', 'content': \"Instruct: label the following TEXT with a single word: negative, positive, or neutral\\nTEXT: At the request of Finnish media company Alma Media 's newspapers , research manager Jari Kaivo-oja at the Finland Futures Research Centre at the Turku School of Economics has drawn up a future scenario for Finland 's national economy by using a model developed by the University of Denver .\\nlabel the TEXT with a single word: negative, positive, or neutral\"}, {'role': 'assistant', 'content': 'neutral'}, {'role': 'user', 'content': 'Instruct: label the following TEXT with a single word: negative, positive, or neutral\\nTEXT: STOCK EXCHANGE ANNOUNCEMENT 20 July 2006 1 ( 1 ) BASWARE SHARE SUBSCRIPTIONS WITH WARRANTS AND INCREASE IN SHARE CAPITAL A total of 119 850 shares have been subscribed with BasWare Warrant Program .\\nlabel the TEXT with a single word: negative, positive, or neutral'}, {'role': 'assistant', 'content': 'neutral'}, {'role': 'user', 'content': 'Instruct: label the following TEXT with a single word: negative, positive, or neutral\\nTEXT: A maximum of 666,104 new shares can further be subscribed for by exercising B options under the 2004 stock option plan .\\nlabel the TEXT with a single word: negative, positive, or neutral'}, {'role': 'assistant', 'content': 'neutral'}, {'role': 'user', 'content': 'Instruct: label the following TEXT with a single word: negative, positive, or neutral\\nTEXT: In the third quarter of 2010 , net sales increased by 5.2 % to EUR 205.5 mn , and operating profit by 34.9 % to EUR 23.5 mn .\\nlabel the TEXT with a single word: negative, positive, or neutral'}]\n"
     ]
    }
   ],
   "source": [
    "df, acc = few_shot_responses(promptG_ds, promptB, examples)"
   ]
  },
  {
   "cell_type": "markdown",
   "metadata": {},
   "source": [
    "Unexpectedly, the accuracy drops to 78%."
   ]
  },
  {
   "cell_type": "code",
   "execution_count": 90,
   "metadata": {
    "execution": {
     "iopub.execute_input": "2024-09-10T23:16:59.805335Z",
     "iopub.status.busy": "2024-09-10T23:16:59.804990Z",
     "iopub.status.idle": "2024-09-10T23:16:59.812852Z",
     "shell.execute_reply": "2024-09-10T23:16:59.812154Z",
     "shell.execute_reply.started": "2024-09-10T23:16:59.805314Z"
    }
   },
   "outputs": [
    {
     "data": {
      "text/plain": [
       "0.7798937112488928"
      ]
     },
     "execution_count": 90,
     "metadata": {},
     "output_type": "execute_result"
    }
   ],
   "source": [
    "acc"
   ]
  },
  {
   "cell_type": "markdown",
   "metadata": {},
   "source": [
    "The model performs better with this prompt than the so far best-performing 3-Shot prompt (84.7%) \n",
    "for `negative` sentences (297 > 296) and `positive` sentences (551 > 548) but performs much worse\n",
    "for `neutral` sentences (913 < 1070)."
   ]
  },
  {
   "cell_type": "code",
   "execution_count": 91,
   "metadata": {
    "execution": {
     "iopub.execute_input": "2024-09-10T23:18:10.022360Z",
     "iopub.status.busy": "2024-09-10T23:18:10.021974Z",
     "iopub.status.idle": "2024-09-10T23:18:10.148122Z",
     "shell.execute_reply": "2024-09-10T23:18:10.147150Z",
     "shell.execute_reply.started": "2024-09-10T23:18:10.022334Z"
    }
   },
   "outputs": [
    {
     "data": {
      "image/png": "[encoded data removed]",
      "text/plain": [
       "<Figure size 576x576 with 1 Axes>"
      ]
     },
     "metadata": {
      "needs_background": "light"
     },
     "output_type": "display_data"
    }
   ],
   "source": [
    "make_cm(df)"
   ]
  },
  {
   "cell_type": "code",
   "execution_count": 92,
   "metadata": {
    "execution": {
     "iopub.execute_input": "2024-09-10T23:20:46.063111Z",
     "iopub.status.busy": "2024-09-10T23:20:46.062824Z",
     "iopub.status.idle": "2024-09-10T23:20:46.094183Z",
     "shell.execute_reply": "2024-09-10T23:20:46.093385Z",
     "shell.execute_reply.started": "2024-09-10T23:20:46.063091Z"
    }
   },
   "outputs": [],
   "source": [
    "df.to_csv('/notebooks/phi-3-5_G.csv', index=False)"
   ]
  },
  {
   "cell_type": "markdown",
   "metadata": {},
   "source": [
    "## Prompt H"
   ]
  },
  {
   "cell_type": "markdown",
   "metadata": {},
   "source": [
    "I'll return to the 3-Shot prompt (84.65%) and see if I can improve it by adjusting the language.\n",
    "First, I'll add some introductory text to the start of the prompt. Note that this did not improve the 0-Shot performance."
   ]
  },
  {
   "cell_type": "code",
   "execution_count": 94,
   "metadata": {
    "execution": {
     "iopub.execute_input": "2024-09-10T23:29:50.247086Z",
     "iopub.status.busy": "2024-09-10T23:29:50.246698Z",
     "iopub.status.idle": "2024-09-10T23:29:50.251079Z",
     "shell.execute_reply": "2024-09-10T23:29:50.250196Z",
     "shell.execute_reply.started": "2024-09-10T23:29:50.247061Z"
    }
   },
   "outputs": [],
   "source": [
    "promptH = \"\"\"Your task is to analyze the sentiment (from an investor's perspective) of the text below.\n",
    "Instruct: label the following TEXT with a single word: negative, positive, or neutral\n",
    "TEXT: {text}\n",
    "label the TEXT with a single word: negative, positive, or neutral\"\"\""
   ]
  },
  {
   "cell_type": "code",
   "execution_count": 95,
   "metadata": {
    "execution": {
     "iopub.execute_input": "2024-09-10T23:29:52.229127Z",
     "iopub.status.busy": "2024-09-10T23:29:52.228465Z",
     "iopub.status.idle": "2024-09-10T23:29:52.233928Z",
     "shell.execute_reply": "2024-09-10T23:29:52.233526Z",
     "shell.execute_reply.started": "2024-09-10T23:29:52.229104Z"
    }
   },
   "outputs": [
    {
     "data": {
      "text/plain": [
       "[('According to Gran , the company has no plans to move all production to Russia , although that is where the company is growing .',\n",
       "  'neutral'),\n",
       " (\"For the last quarter of 2010 , Componenta 's net sales doubled to EUR131m from EUR76m for the same period a year earlier , while it moved to a zero pre-tax profit from a pre-tax loss of EUR7m .\",\n",
       "  'positive'),\n",
       " ('Jan. 6 -- Ford is struggling in the face of slowing truck and SUV sales and a surfeit of up-to-date , gotta-have cars .',\n",
       "  'negative')]"
      ]
     },
     "execution_count": 95,
     "metadata": {},
     "output_type": "execute_result"
    }
   ],
   "source": [
    "exclude_idxs = [0, 1, 292]\n",
    "\n",
    "examples = []\n",
    "for idx in exclude_idxs:\n",
    "    examples.append((dataset[idx]['sentence'], dataset[idx]['label_text']))\n",
    "\n",
    "examples"
   ]
  },
  {
   "cell_type": "code",
   "execution_count": 96,
   "metadata": {
    "execution": {
     "iopub.execute_input": "2024-09-10T23:30:04.197021Z",
     "iopub.status.busy": "2024-09-10T23:30:04.196560Z",
     "iopub.status.idle": "2024-09-10T23:30:04.200748Z",
     "shell.execute_reply": "2024-09-10T23:30:04.200318Z",
     "shell.execute_reply.started": "2024-09-10T23:30:04.197000Z"
    }
   },
   "outputs": [
    {
     "data": {
      "text/plain": [
       "Dataset({\n",
       "    features: ['sentence', 'label', 'label_text', '__index_level_0__'],\n",
       "    num_rows: 2261\n",
       "})"
      ]
     },
     "execution_count": 96,
     "metadata": {},
     "output_type": "execute_result"
    }
   ],
   "source": [
    "promptF_ds"
   ]
  },
  {
   "cell_type": "code",
   "execution_count": 97,
   "metadata": {
    "execution": {
     "iopub.execute_input": "2024-09-10T23:30:38.532044Z",
     "iopub.status.busy": "2024-09-10T23:30:38.530922Z",
     "iopub.status.idle": "2024-09-10T23:36:55.692114Z",
     "shell.execute_reply": "2024-09-10T23:36:55.691165Z",
     "shell.execute_reply.started": "2024-09-10T23:30:38.531996Z"
    }
   },
   "outputs": [
    {
     "data": {
      "application/vnd.jupyter.widget-view+json": {
       "model_id": "c47d528604a64c9b95488edba268f985",
       "version_major": 2,
       "version_minor": 0
      },
      "text/plain": [
       "Map:   0%|          | 0/2261 [00:00<?, ? examples/s]"
      ]
     },
     "metadata": {},
     "output_type": "display_data"
    },
    {
     "name": "stdout",
     "output_type": "stream",
     "text": [
      "[{'role': 'user', 'content': \"Your task is to analyze the sentiment (from an investor's perspective) of the text below.\\nInstruct: label the following TEXT with a single word: negative, positive, or neutral\\nTEXT: According to Gran , the company has no plans to move all production to Russia , although that is where the company is growing .\\nlabel the TEXT with a single word: negative, positive, or neutral\"}, {'role': 'assistant', 'content': 'neutral'}, {'role': 'user', 'content': \"Your task is to analyze the sentiment (from an investor's perspective) of the text below.\\nInstruct: label the following TEXT with a single word: negative, positive, or neutral\\nTEXT: For the last quarter of 2010 , Componenta 's net sales doubled to EUR131m from EUR76m for the same period a year earlier , while it moved to a zero pre-tax profit from a pre-tax loss of EUR7m .\\nlabel the TEXT with a single word: negative, positive, or neutral\"}, {'role': 'assistant', 'content': 'positive'}, {'role': 'user', 'content': \"Your task is to analyze the sentiment (from an investor's perspective) of the text below.\\nInstruct: label the following TEXT with a single word: negative, positive, or neutral\\nTEXT: Jan. 6 -- Ford is struggling in the face of slowing truck and SUV sales and a surfeit of up-to-date , gotta-have cars .\\nlabel the TEXT with a single word: negative, positive, or neutral\"}, {'role': 'assistant', 'content': 'negative'}, {'role': 'user', 'content': \"Your task is to analyze the sentiment (from an investor's perspective) of the text below.\\nInstruct: label the following TEXT with a single word: negative, positive, or neutral\\nTEXT: In the third quarter of 2010 , net sales increased by 5.2 % to EUR 205.5 mn , and operating profit by 34.9 % to EUR 23.5 mn .\\nlabel the TEXT with a single word: negative, positive, or neutral\"}]\n"
     ]
    }
   ],
   "source": [
    "df, acc = few_shot_responses(promptF_ds, promptH, examples)"
   ]
  },
  {
   "cell_type": "markdown",
   "metadata": {},
   "source": [
    "This does not improve the overall accuracy. Instead, it drops by about 1.6%."
   ]
  },
  {
   "cell_type": "code",
   "execution_count": 98,
   "metadata": {
    "execution": {
     "iopub.execute_input": "2024-09-10T23:37:15.878306Z",
     "iopub.status.busy": "2024-09-10T23:37:15.877406Z",
     "iopub.status.idle": "2024-09-10T23:37:15.883427Z",
     "shell.execute_reply": "2024-09-10T23:37:15.882654Z",
     "shell.execute_reply.started": "2024-09-10T23:37:15.878271Z"
    }
   },
   "outputs": [
    {
     "data": {
      "text/plain": [
       "0.8306059265811587"
      ]
     },
     "execution_count": 98,
     "metadata": {},
     "output_type": "execute_result"
    }
   ],
   "source": [
    "acc"
   ]
  },
  {
   "cell_type": "markdown",
   "metadata": {},
   "source": [
    "Compared to the 3-Shot prompt, `negative` sentences are classified at the same frequency (296/302),\n",
    "`neutral` sentences at a lower rate (1028 < 1070) and `positive` sentences at a higher rate (554 > 548)."
   ]
  },
  {
   "cell_type": "code",
   "execution_count": 99,
   "metadata": {
    "execution": {
     "iopub.execute_input": "2024-09-10T23:37:49.183327Z",
     "iopub.status.busy": "2024-09-10T23:37:49.182973Z",
     "iopub.status.idle": "2024-09-10T23:37:49.274064Z",
     "shell.execute_reply": "2024-09-10T23:37:49.273314Z",
     "shell.execute_reply.started": "2024-09-10T23:37:49.183301Z"
    }
   },
   "outputs": [
    {
     "data": {
      "image/png": "[encoded data removed]",
      "text/plain": [
       "<Figure size 576x576 with 1 Axes>"
      ]
     },
     "metadata": {
      "needs_background": "light"
     },
     "output_type": "display_data"
    }
   ],
   "source": [
    "make_cm(df)"
   ]
  },
  {
   "cell_type": "code",
   "execution_count": 101,
   "metadata": {
    "execution": {
     "iopub.execute_input": "2024-09-10T23:43:53.666021Z",
     "iopub.status.busy": "2024-09-10T23:43:53.665207Z",
     "iopub.status.idle": "2024-09-10T23:43:53.691776Z",
     "shell.execute_reply": "2024-09-10T23:43:53.691048Z",
     "shell.execute_reply.started": "2024-09-10T23:43:53.666014Z"
    }
   },
   "outputs": [],
   "source": [
    "df.to_csv('/notebooks/phi-3-5_H.csv', index=False)"
   ]
  },
  {
   "cell_type": "markdown",
   "metadata": {},
   "source": [
    "## Prompt I"
   ]
  },
  {
   "cell_type": "markdown",
   "metadata": {},
   "source": [
    "Before I give the model more than 6 examples, I'll deviate from the recommended multi-turn chat format for few-shot\n",
    "prompting and give the examples in a single prompt."
   ]
  },
  {
   "cell_type": "code",
   "execution_count": 103,
   "metadata": {
    "execution": {
     "iopub.execute_input": "2024-09-11T00:11:10.258963Z",
     "iopub.status.busy": "2024-09-11T00:11:10.258310Z",
     "iopub.status.idle": "2024-09-11T00:11:10.262724Z",
     "shell.execute_reply": "2024-09-11T00:11:10.261992Z",
     "shell.execute_reply.started": "2024-09-11T00:11:10.258939Z"
    }
   },
   "outputs": [],
   "source": [
    "promptI = \"\"\"Instruct: label the following TEXT with a single word: negative, positive, or neutral\n",
    "\n",
    "Examples:\n",
    "\n",
    "TEXT: According to Gran , the company has no plans to move all production to Russia , although that is where the company is growing .\n",
    "label the TEXT with a single word: negative, positive, or neutral\n",
    "neutral\n",
    "\n",
    "TEXT: For the last quarter of 2010 , Componenta 's net sales doubled to EUR131m from EUR76m for the same period a year earlier , while it moved to a zero pre-tax profit from a pre-tax loss of EUR7m .\n",
    "label the TEXT with a single word: negative, positive, or neutral\n",
    "positive\n",
    "\n",
    "TEXT: Jan. 6 -- Ford is struggling in the face of slowing truck and SUV sales and a surfeit of up-to-date , gotta-have cars .\n",
    "label the TEXT with a single word: negative, positive, or neutral\n",
    "negative\n",
    "\n",
    "TEXT: {text}\n",
    "label the TEXT with a single word: negative, positive, or neutral\n",
    "\"\"\""
   ]
  },
  {
   "cell_type": "code",
   "execution_count": 104,
   "metadata": {
    "execution": {
     "iopub.execute_input": "2024-09-11T00:11:15.094159Z",
     "iopub.status.busy": "2024-09-11T00:11:15.093812Z",
     "iopub.status.idle": "2024-09-11T00:11:15.099555Z",
     "shell.execute_reply": "2024-09-11T00:11:15.098849Z",
     "shell.execute_reply.started": "2024-09-11T00:11:15.094135Z"
    }
   },
   "outputs": [
    {
     "data": {
      "text/plain": [
       "Dataset({\n",
       "    features: ['sentence', 'label', 'label_text', '__index_level_0__'],\n",
       "    num_rows: 2261\n",
       "})"
      ]
     },
     "execution_count": 104,
     "metadata": {},
     "output_type": "execute_result"
    }
   ],
   "source": [
    "promptF_ds"
   ]
  },
  {
   "cell_type": "code",
   "execution_count": 105,
   "metadata": {
    "execution": {
     "iopub.execute_input": "2024-09-11T00:11:21.741690Z",
     "iopub.status.busy": "2024-09-11T00:11:21.741092Z",
     "iopub.status.idle": "2024-09-11T00:16:20.147703Z",
     "shell.execute_reply": "2024-09-11T00:16:20.147083Z",
     "shell.execute_reply.started": "2024-09-11T00:11:21.741669Z"
    }
   },
   "outputs": [
    {
     "data": {
      "application/vnd.jupyter.widget-view+json": {
       "model_id": "2a668ff38927486fbe1f9914c3c88e01",
       "version_major": 2,
       "version_minor": 0
      },
      "text/plain": [
       "Map:   0%|          | 0/2261 [00:00<?, ? examples/s]"
      ]
     },
     "metadata": {},
     "output_type": "display_data"
    },
    {
     "name": "stdout",
     "output_type": "stream",
     "text": [
      "Instruct: label the following TEXT with a single word: negative, positive, or neutral\n",
      "\n",
      "Examples:\n",
      "\n",
      "TEXT: According to Gran , the company has no plans to move all production to Russia , although that is where the company is growing .\n",
      "label the TEXT with a single word: negative, positive, or neutral\n",
      "neutral\n",
      "\n",
      "TEXT: For the last quarter of 2010 , Componenta 's net sales doubled to EUR131m from EUR76m for the same period a year earlier , while it moved to a zero pre-tax profit from a pre-tax loss of EUR7m .\n",
      "label the TEXT with a single word: negative, positive, or neutral\n",
      "positive\n",
      "\n",
      "TEXT: Jan. 6 -- Ford is struggling in the face of slowing truck and SUV sales and a surfeit of up-to-date , gotta-have cars .\n",
      "label the TEXT with a single word: negative, positive, or neutral\n",
      "negative\n",
      "\n",
      "TEXT: In the third quarter of 2010 , net sales increased by 5.2 % to EUR 205.5 mn , and operating profit by 34.9 % to EUR 23.5 mn .\n",
      "label the TEXT with a single word: negative, positive, or neutral\n",
      "\n",
      "---------\n"
     ]
    }
   ],
   "source": [
    "df, acc = generate_responses(promptF_ds, promptI)"
   ]
  },
  {
   "cell_type": "markdown",
   "metadata": {},
   "source": [
    "Nope! The performance of few-shot prompting without multi-turn format is drastically worse."
   ]
  },
  {
   "cell_type": "code",
   "execution_count": 106,
   "metadata": {
    "execution": {
     "iopub.execute_input": "2024-09-11T00:17:13.031855Z",
     "iopub.status.busy": "2024-09-11T00:17:13.031256Z",
     "iopub.status.idle": "2024-09-11T00:17:13.037086Z",
     "shell.execute_reply": "2024-09-11T00:17:13.035878Z",
     "shell.execute_reply.started": "2024-09-11T00:17:13.031830Z"
    }
   },
   "outputs": [
    {
     "data": {
      "text/plain": [
       "0.5161432994250331"
      ]
     },
     "execution_count": 106,
     "metadata": {},
     "output_type": "execute_result"
    }
   ],
   "source": [
    "acc"
   ]
  },
  {
   "cell_type": "markdown",
   "metadata": {},
   "source": [
    "The true positive rate for `negative` sentiment is actually higher (302/302 or 100%) but the \n",
    "rate is much lower for `neutral` sentiment (917 < 1070) and `positive` sentiment (418 < 548)."
   ]
  },
  {
   "cell_type": "code",
   "execution_count": 107,
   "metadata": {
    "execution": {
     "iopub.execute_input": "2024-09-11T00:18:01.793415Z",
     "iopub.status.busy": "2024-09-11T00:18:01.792417Z",
     "iopub.status.idle": "2024-09-11T00:18:01.923508Z",
     "shell.execute_reply": "2024-09-11T00:18:01.922526Z",
     "shell.execute_reply.started": "2024-09-11T00:18:01.793385Z"
    }
   },
   "outputs": [
    {
     "data": {
      "image/png": "[encoded data removed]",
      "text/plain": [
       "<Figure size 576x576 with 1 Axes>"
      ]
     },
     "metadata": {
      "needs_background": "light"
     },
     "output_type": "display_data"
    }
   ],
   "source": [
    "make_cm(df)"
   ]
  },
  {
   "cell_type": "code",
   "execution_count": 108,
   "metadata": {
    "execution": {
     "iopub.execute_input": "2024-09-11T00:19:57.819876Z",
     "iopub.status.busy": "2024-09-11T00:19:57.819509Z",
     "iopub.status.idle": "2024-09-11T00:19:57.880943Z",
     "shell.execute_reply": "2024-09-11T00:19:57.880035Z",
     "shell.execute_reply.started": "2024-09-11T00:19:57.819848Z"
    }
   },
   "outputs": [],
   "source": [
    "df.to_csv('/notebooks/phi-3-5_I.csv', index=False)"
   ]
  },
  {
   "cell_type": "markdown",
   "metadata": {},
   "source": [
    "## Prompt J"
   ]
  },
  {
   "cell_type": "markdown",
   "metadata": {},
   "source": [
    "I'll try one more prompt with single-turn few-shot examples. I'll add \"Output:\" before the label in each example, \n",
    "and add the \"Instruct:\" instructions before each example TEXT. I'll also remove the extra new line that I have\n",
    "after the final instruction."
   ]
  },
  {
   "cell_type": "code",
   "execution_count": 111,
   "metadata": {
    "execution": {
     "iopub.execute_input": "2024-09-11T00:36:07.116641Z",
     "iopub.status.busy": "2024-09-11T00:36:07.116376Z",
     "iopub.status.idle": "2024-09-11T00:36:07.120613Z",
     "shell.execute_reply": "2024-09-11T00:36:07.119923Z",
     "shell.execute_reply.started": "2024-09-11T00:36:07.116623Z"
    }
   },
   "outputs": [],
   "source": [
    "promptJ = \"\"\"Instruct: label the following TEXT with a single word: negative, positive, or neutral\n",
    "\n",
    "Examples:\n",
    "\n",
    "Instruct: label the following TEXT with a single word: negative, positive, or neutral\n",
    "TEXT: According to Gran , the company has no plans to move all production to Russia , although that is where the company is growing .\n",
    "label the TEXT with a single word: negative, positive, or neutral\n",
    "Output: neutral\n",
    "\n",
    "Instruct: label the following TEXT with a single word: negative, positive, or neutral\n",
    "TEXT: For the last quarter of 2010 , Componenta 's net sales doubled to EUR131m from EUR76m for the same period a year earlier , while it moved to a zero pre-tax profit from a pre-tax loss of EUR7m .\n",
    "label the TEXT with a single word: negative, positive, or neutral\n",
    "Output: positive\n",
    "\n",
    "Instruct: label the following TEXT with a single word: negative, positive, or neutral\n",
    "TEXT: Jan. 6 -- Ford is struggling in the face of slowing truck and SUV sales and a surfeit of up-to-date , gotta-have cars .\n",
    "label the TEXT with a single word: negative, positive, or neutral\n",
    "Output: negative\n",
    "\n",
    "Instruct: label the following TEXT with a single word: negative, positive, or neutral\n",
    "TEXT: {text}\n",
    "label the TEXT with a single word: negative, positive, or neutral\n",
    "Output: \"\"\""
   ]
  },
  {
   "cell_type": "code",
   "execution_count": 112,
   "metadata": {
    "execution": {
     "iopub.execute_input": "2024-09-11T00:36:11.193841Z",
     "iopub.status.busy": "2024-09-11T00:36:11.193506Z",
     "iopub.status.idle": "2024-09-11T00:41:41.578407Z",
     "shell.execute_reply": "2024-09-11T00:41:41.577423Z",
     "shell.execute_reply.started": "2024-09-11T00:36:11.193818Z"
    }
   },
   "outputs": [
    {
     "data": {
      "application/vnd.jupyter.widget-view+json": {
       "model_id": "7cbf3fa476ed452fb6a70da296b763eb",
       "version_major": 2,
       "version_minor": 0
      },
      "text/plain": [
       "Map:   0%|          | 0/2261 [00:00<?, ? examples/s]"
      ]
     },
     "metadata": {},
     "output_type": "display_data"
    },
    {
     "name": "stdout",
     "output_type": "stream",
     "text": [
      "Instruct: label the following TEXT with a single word: negative, positive, or neutral\n",
      "\n",
      "Examples:\n",
      "\n",
      "Instruct: label the following TEXT with a single word: negative, positive, or neutral\n",
      "TEXT: According to Gran , the company has no plans to move all production to Russia , although that is where the company is growing .\n",
      "label the TEXT with a single word: negative, positive, or neutral\n",
      "Output: neutral\n",
      "\n",
      "Instruct: label the following TEXT with a single word: negative, positive, or neutral\n",
      "TEXT: For the last quarter of 2010 , Componenta 's net sales doubled to EUR131m from EUR76m for the same period a year earlier , while it moved to a zero pre-tax profit from a pre-tax loss of EUR7m .\n",
      "label the TEXT with a single word: negative, positive, or neutral\n",
      "Output: positive\n",
      "\n",
      "Instruct: label the following TEXT with a single word: negative, positive, or neutral\n",
      "TEXT: Jan. 6 -- Ford is struggling in the face of slowing truck and SUV sales and a surfeit of up-to-date , gotta-have cars .\n",
      "label the TEXT with a single word: negative, positive, or neutral\n",
      "Output: negative\n",
      "\n",
      "Instruct: label the following TEXT with a single word: negative, positive, or neutral\n",
      "TEXT: In the third quarter of 2010 , net sales increased by 5.2 % to EUR 205.5 mn , and operating profit by 34.9 % to EUR 23.5 mn .\n",
      "label the TEXT with a single word: negative, positive, or neutral\n",
      "Output: \n",
      "---------\n"
     ]
    }
   ],
   "source": [
    "df, acc = generate_responses(promptF_ds, promptJ)"
   ]
  },
  {
   "cell_type": "markdown",
   "metadata": {},
   "source": [
    "Wow! This actually made a difference. This is the second-best overall accuracy I have achieved."
   ]
  },
  {
   "cell_type": "code",
   "execution_count": 113,
   "metadata": {
    "execution": {
     "iopub.execute_input": "2024-09-11T00:41:41.579807Z",
     "iopub.status.busy": "2024-09-11T00:41:41.579613Z",
     "iopub.status.idle": "2024-09-11T00:41:41.584568Z",
     "shell.execute_reply": "2024-09-11T00:41:41.583843Z",
     "shell.execute_reply.started": "2024-09-11T00:41:41.579791Z"
    }
   },
   "outputs": [
    {
     "data": {
      "text/plain": [
       "0.8593542680229986"
      ]
     },
     "execution_count": 113,
     "metadata": {},
     "output_type": "execute_result"
    }
   ],
   "source": [
    "acc"
   ]
  },
  {
   "cell_type": "markdown",
   "metadata": {},
   "source": [
    "Compared to the previous second-best prompt (3-Shot), this prompt results in the same true positive rate\n",
    "for `negative` sentiment (296/302), a much higher rate for `neutral` sentiment (1108 > 1070) and a \n",
    "lower rate for `positive` sentiment (539 < 548)."
   ]
  },
  {
   "cell_type": "code",
   "execution_count": 114,
   "metadata": {
    "execution": {
     "iopub.execute_input": "2024-09-11T00:41:41.585668Z",
     "iopub.status.busy": "2024-09-11T00:41:41.585475Z",
     "iopub.status.idle": "2024-09-11T00:41:41.689292Z",
     "shell.execute_reply": "2024-09-11T00:41:41.688519Z",
     "shell.execute_reply.started": "2024-09-11T00:41:41.585652Z"
    }
   },
   "outputs": [
    {
     "data": {
      "image/png": "[encoded data removed]",
      "text/plain": [
       "<Figure size 576x576 with 1 Axes>"
      ]
     },
     "metadata": {
      "needs_background": "light"
     },
     "output_type": "display_data"
    }
   ],
   "source": [
    "make_cm(df)"
   ]
  },
  {
   "cell_type": "code",
   "execution_count": 115,
   "metadata": {
    "execution": {
     "iopub.execute_input": "2024-09-11T00:41:41.691229Z",
     "iopub.status.busy": "2024-09-11T00:41:41.690952Z",
     "iopub.status.idle": "2024-09-11T00:41:41.754843Z",
     "shell.execute_reply": "2024-09-11T00:41:41.754097Z",
     "shell.execute_reply.started": "2024-09-11T00:41:41.691208Z"
    }
   },
   "outputs": [],
   "source": [
    "df.to_csv('/notebooks/phi-3-5_J.csv', index=False)"
   ]
  },
  {
   "cell_type": "markdown",
   "metadata": {},
   "source": [
    "## Prompt K"
   ]
  },
  {
   "cell_type": "markdown",
   "metadata": {},
   "source": [
    "I'll return to few-shot prompting in a bit, but want to first revisit zero-shot prompting as it yielded\n",
    "the best overall performance so far (88.6% overall accuracy).\n",
    "\n",
    "I asked Claude for suggestions on how to improve that prompt and will be trying them out.\n",
    "\n",
    "First suggestion:\n",
    "\n",
    "> Refine the Instruction: Try slight variations of the instruction to see if they yield better results:"
   ]
  },
  {
   "cell_type": "code",
   "execution_count": 117,
   "metadata": {
    "execution": {
     "iopub.execute_input": "2024-09-11T01:17:20.452006Z",
     "iopub.status.busy": "2024-09-11T01:17:20.451054Z",
     "iopub.status.idle": "2024-09-11T01:17:20.455324Z",
     "shell.execute_reply": "2024-09-11T01:17:20.454568Z",
     "shell.execute_reply.started": "2024-09-11T01:17:20.451976Z"
    }
   },
   "outputs": [],
   "source": [
    "promptK = \"\"\"Instruct: Analyze the sentiment of the following financial statement and respond with a single word: negative, positive, or neutral\n",
    "Financial statement: {text}\n",
    "Sentiment (respond with a single word):\"\"\""
   ]
  },
  {
   "cell_type": "code",
   "execution_count": 118,
   "metadata": {
    "execution": {
     "iopub.execute_input": "2024-09-11T01:17:25.001223Z",
     "iopub.status.busy": "2024-09-11T01:17:25.000583Z",
     "iopub.status.idle": "2024-09-11T01:20:57.770782Z",
     "shell.execute_reply": "2024-09-11T01:20:57.770261Z",
     "shell.execute_reply.started": "2024-09-11T01:17:25.001200Z"
    }
   },
   "outputs": [
    {
     "data": {
      "application/vnd.jupyter.widget-view+json": {
       "model_id": "d6ad1a122d304da9b3dd9137d82fdc42",
       "version_major": 2,
       "version_minor": 0
      },
      "text/plain": [
       "Map:   0%|          | 0/2264 [00:00<?, ? examples/s]"
      ]
     },
     "metadata": {},
     "output_type": "display_data"
    },
    {
     "name": "stdout",
     "output_type": "stream",
     "text": [
      "Instruct: Analyze the sentiment of the following financial statement and respond with a single word: negative, positive, or neutral\n",
      "Financial statement: According to Gran , the company has no plans to move all production to Russia , although that is where the company is growing .\n",
      "Sentiment (respond with a single word):\n",
      "---------\n"
     ]
    }
   ],
   "source": [
    "df, acc = generate_responses(dataset, promptK)"
   ]
  },
  {
   "cell_type": "markdown",
   "metadata": {},
   "source": [
    "This yields a worse overall accuracy."
   ]
  },
  {
   "cell_type": "code",
   "execution_count": 119,
   "metadata": {
    "execution": {
     "iopub.execute_input": "2024-09-11T01:24:11.377325Z",
     "iopub.status.busy": "2024-09-11T01:24:11.376537Z",
     "iopub.status.idle": "2024-09-11T01:24:11.382597Z",
     "shell.execute_reply": "2024-09-11T01:24:11.381743Z",
     "shell.execute_reply.started": "2024-09-11T01:24:11.377293Z"
    }
   },
   "outputs": [
    {
     "data": {
      "text/plain": [
       "0.7795936395759717"
      ]
     },
     "execution_count": 119,
     "metadata": {},
     "output_type": "execute_result"
    }
   ],
   "source": [
    "acc"
   ]
  },
  {
   "cell_type": "markdown",
   "metadata": {},
   "source": [
    "Compared to the best-performing 0-Shot Prompt B (88.6%) this prompt yields a higher true positive rate\n",
    "for `neutral` sentiment (298 > 290) and `positive` sentiment (548 > 501) \n",
    "but lower for `neutral` sentiment (919 < 1215)."
   ]
  },
  {
   "cell_type": "code",
   "execution_count": 120,
   "metadata": {
    "execution": {
     "iopub.execute_input": "2024-09-11T01:24:29.034590Z",
     "iopub.status.busy": "2024-09-11T01:24:29.033665Z",
     "iopub.status.idle": "2024-09-11T01:24:29.117428Z",
     "shell.execute_reply": "2024-09-11T01:24:29.116819Z",
     "shell.execute_reply.started": "2024-09-11T01:24:29.034582Z"
    }
   },
   "outputs": [
    {
     "data": {
      "image/png": "[encoded data removed]",
      "text/plain": [
       "<Figure size 576x576 with 1 Axes>"
      ]
     },
     "metadata": {
      "needs_background": "light"
     },
     "output_type": "display_data"
    }
   ],
   "source": [
    "make_cm(df)"
   ]
  },
  {
   "cell_type": "code",
   "execution_count": 121,
   "metadata": {
    "execution": {
     "iopub.execute_input": "2024-09-11T01:26:19.539523Z",
     "iopub.status.busy": "2024-09-11T01:26:19.538911Z",
     "iopub.status.idle": "2024-09-11T01:26:19.566301Z",
     "shell.execute_reply": "2024-09-11T01:26:19.565483Z",
     "shell.execute_reply.started": "2024-09-11T01:26:19.539497Z"
    }
   },
   "outputs": [],
   "source": [
    "df.to_csv('/notebooks/phi-3-5_K.csv', index=False)"
   ]
  },
  {
   "cell_type": "markdown",
   "metadata": {},
   "source": [
    "## Prompt L"
   ]
  },
  {
   "cell_type": "markdown",
   "metadata": {},
   "source": [
    "Given the success of that prompt with `negative` and `positive` sentiment, I'll see if I can improve it for\n",
    "`neutral` sentiment by adding the phrase: \"if you’re not sure, respond with neutral.\""
   ]
  },
  {
   "cell_type": "code",
   "execution_count": 122,
   "metadata": {
    "execution": {
     "iopub.execute_input": "2024-09-11T01:28:20.996824Z",
     "iopub.status.busy": "2024-09-11T01:28:20.996540Z",
     "iopub.status.idle": "2024-09-11T01:28:21.000715Z",
     "shell.execute_reply": "2024-09-11T01:28:20.999925Z",
     "shell.execute_reply.started": "2024-09-11T01:28:20.996805Z"
    }
   },
   "outputs": [],
   "source": [
    "promptL = \"\"\"Instruct: Analyze the sentiment of the following financial statement and respond with a single word: negative, positive, or neutral. If you’re not sure, respond with neutral.\n",
    "Financial statement: {text}\n",
    "Sentiment (respond with a single word, if you’re not sure, respond with neutral):\"\"\""
   ]
  },
  {
   "cell_type": "code",
   "execution_count": 123,
   "metadata": {
    "execution": {
     "iopub.execute_input": "2024-09-11T01:28:32.175907Z",
     "iopub.status.busy": "2024-09-11T01:28:32.175209Z",
     "iopub.status.idle": "2024-09-11T01:32:07.839373Z",
     "shell.execute_reply": "2024-09-11T01:32:07.838898Z",
     "shell.execute_reply.started": "2024-09-11T01:28:32.175878Z"
    }
   },
   "outputs": [
    {
     "data": {
      "application/vnd.jupyter.widget-view+json": {
       "model_id": "391f7c4c97bf43a0be71688f8cf02241",
       "version_major": 2,
       "version_minor": 0
      },
      "text/plain": [
       "Map:   0%|          | 0/2264 [00:00<?, ? examples/s]"
      ]
     },
     "metadata": {},
     "output_type": "display_data"
    },
    {
     "name": "stdout",
     "output_type": "stream",
     "text": [
      "Instruct: Analyze the sentiment of the following financial statement and respond with a single word: negative, positive, or neutral. If you’re not sure, respond with neutral.\n",
      "Financial statement: According to Gran , the company has no plans to move all production to Russia , although that is where the company is growing .\n",
      "Sentiment (respond with a single word, if you’re not sure, respond with neutral):\n",
      "---------\n"
     ]
    }
   ],
   "source": [
    "df, acc = generate_responses(dataset, promptL)"
   ]
  },
  {
   "cell_type": "markdown",
   "metadata": {},
   "source": [
    "This improves the overall accuracy but is still lower than the Prompt B (88.6%)."
   ]
  },
  {
   "cell_type": "code",
   "execution_count": 124,
   "metadata": {
    "execution": {
     "iopub.execute_input": "2024-09-11T01:33:13.313113Z",
     "iopub.status.busy": "2024-09-11T01:33:13.312430Z",
     "iopub.status.idle": "2024-09-11T01:33:13.316856Z",
     "shell.execute_reply": "2024-09-11T01:33:13.316425Z",
     "shell.execute_reply.started": "2024-09-11T01:33:13.313088Z"
    }
   },
   "outputs": [
    {
     "data": {
      "text/plain": [
       "0.8056537102473498"
      ]
     },
     "execution_count": 124,
     "metadata": {},
     "output_type": "execute_result"
    }
   ],
   "source": [
    "acc"
   ]
  },
  {
   "cell_type": "markdown",
   "metadata": {},
   "source": [
    "Compared to Prompt K, the true positive rate for each sentiment increased."
   ]
  },
  {
   "cell_type": "code",
   "execution_count": 125,
   "metadata": {
    "execution": {
     "iopub.execute_input": "2024-09-11T01:33:55.618489Z",
     "iopub.status.busy": "2024-09-11T01:33:55.617624Z",
     "iopub.status.idle": "2024-09-11T01:33:55.702037Z",
     "shell.execute_reply": "2024-09-11T01:33:55.701514Z",
     "shell.execute_reply.started": "2024-09-11T01:33:55.618458Z"
    }
   },
   "outputs": [
    {
     "data": {
      "image/png": "[encoded data removed]",
      "text/plain": [
       "<Figure size 576x576 with 1 Axes>"
      ]
     },
     "metadata": {
      "needs_background": "light"
     },
     "output_type": "display_data"
    }
   ],
   "source": [
    "make_cm(df)"
   ]
  },
  {
   "cell_type": "code",
   "execution_count": 126,
   "metadata": {
    "execution": {
     "iopub.execute_input": "2024-09-11T01:34:01.500786Z",
     "iopub.status.busy": "2024-09-11T01:34:01.499934Z",
     "iopub.status.idle": "2024-09-11T01:34:01.526850Z",
     "shell.execute_reply": "2024-09-11T01:34:01.526118Z",
     "shell.execute_reply.started": "2024-09-11T01:34:01.500756Z"
    }
   },
   "outputs": [],
   "source": [
    "df.to_csv('/notebooks/phi-3-5_L.csv', index=False)"
   ]
  },
  {
   "cell_type": "markdown",
   "metadata": {},
   "source": [
    "## Prompt M"
   ]
  },
  {
   "cell_type": "markdown",
   "metadata": {},
   "source": [
    "Given the success of the phrase \"if you're not sure, respond with neutral\" I'll add it to Prompt B."
   ]
  },
  {
   "cell_type": "code",
   "execution_count": 14,
   "metadata": {
    "execution": {
     "iopub.execute_input": "2024-09-11T02:10:12.783650Z",
     "iopub.status.busy": "2024-09-11T02:10:12.782746Z",
     "iopub.status.idle": "2024-09-11T02:10:12.788399Z",
     "shell.execute_reply": "2024-09-11T02:10:12.787934Z",
     "shell.execute_reply.started": "2024-09-11T02:10:12.783625Z"
    }
   },
   "outputs": [],
   "source": [
    "promptM = \"\"\"Instruct: label the following TEXT with a single word: negative, positive, or neutral. If you're not sure, respond with neutral.\n",
    "TEXT: {text}\n",
    "label the TEXT with a single word: negative, positive, or neutral. If you're not sure, respond with neutral.\"\"\""
   ]
  },
  {
   "cell_type": "code",
   "execution_count": 130,
   "metadata": {
    "execution": {
     "iopub.execute_input": "2024-09-11T01:36:43.595009Z",
     "iopub.status.busy": "2024-09-11T01:36:43.594149Z",
     "iopub.status.idle": "2024-09-11T01:40:17.962291Z",
     "shell.execute_reply": "2024-09-11T01:40:17.961499Z",
     "shell.execute_reply.started": "2024-09-11T01:36:43.594974Z"
    }
   },
   "outputs": [
    {
     "data": {
      "application/vnd.jupyter.widget-view+json": {
       "model_id": "8597ac841deb43b4ab2bbfefed854efc",
       "version_major": 2,
       "version_minor": 0
      },
      "text/plain": [
       "Map:   0%|          | 0/2264 [00:00<?, ? examples/s]"
      ]
     },
     "metadata": {},
     "output_type": "display_data"
    },
    {
     "name": "stdout",
     "output_type": "stream",
     "text": [
      "Instruct: label the following TEXT with a single word: negative, positive, or neutral. If you're not sure, respond with neutral.\n",
      "TEXT: According to Gran , the company has no plans to move all production to Russia , although that is where the company is growing .\n",
      "label the TEXT with a single word: negative, positive, or neutral. If you're not sure, respond with neutral.\n",
      "---------\n"
     ]
    }
   ],
   "source": [
    "df, acc = generate_responses(dataset, promptM)"
   ]
  },
  {
   "cell_type": "markdown",
   "metadata": {},
   "source": [
    "Hooray!! With this language adjustment, I have achieved the best overall accuracy so far."
   ]
  },
  {
   "cell_type": "code",
   "execution_count": 131,
   "metadata": {
    "execution": {
     "iopub.execute_input": "2024-09-11T01:40:33.702562Z",
     "iopub.status.busy": "2024-09-11T01:40:33.702290Z",
     "iopub.status.idle": "2024-09-11T01:40:33.707654Z",
     "shell.execute_reply": "2024-09-11T01:40:33.706767Z",
     "shell.execute_reply.started": "2024-09-11T01:40:33.702544Z"
    }
   },
   "outputs": [
    {
     "data": {
      "text/plain": [
       "0.9129858657243817"
      ]
     },
     "execution_count": 131,
     "metadata": {},
     "output_type": "execute_result"
    }
   ],
   "source": [
    "acc"
   ]
  },
  {
   "cell_type": "markdown",
   "metadata": {},
   "source": [
    "The true positive rate for all three sentiments has increased."
   ]
  },
  {
   "cell_type": "code",
   "execution_count": 132,
   "metadata": {
    "execution": {
     "iopub.execute_input": "2024-09-11T01:41:12.796096Z",
     "iopub.status.busy": "2024-09-11T01:41:12.795386Z",
     "iopub.status.idle": "2024-09-11T01:41:13.369597Z",
     "shell.execute_reply": "2024-09-11T01:41:13.368887Z",
     "shell.execute_reply.started": "2024-09-11T01:41:12.796092Z"
    }
   },
   "outputs": [
    {
     "data": {
      "image/png": "[encoded data removed]",
      "text/plain": [
       "<Figure size 576x576 with 1 Axes>"
      ]
     },
     "metadata": {
      "needs_background": "light"
     },
     "output_type": "display_data"
    }
   ],
   "source": [
    "make_cm(df)"
   ]
  },
  {
   "cell_type": "code",
   "execution_count": 133,
   "metadata": {
    "execution": {
     "iopub.execute_input": "2024-09-11T01:43:51.134811Z",
     "iopub.status.busy": "2024-09-11T01:43:51.134066Z",
     "iopub.status.idle": "2024-09-11T01:43:51.170985Z",
     "shell.execute_reply": "2024-09-11T01:43:51.170162Z",
     "shell.execute_reply.started": "2024-09-11T01:43:51.134783Z"
    }
   },
   "outputs": [],
   "source": [
    "df.to_csv('/notebooks/phi-3-5_M.csv', index=False)"
   ]
  },
  {
   "cell_type": "markdown",
   "metadata": {},
   "source": [
    "## Prompt N"
   ]
  },
  {
   "cell_type": "markdown",
   "metadata": {},
   "source": [
    "I'll see if adding a system prompt improves the performance."
   ]
  },
  {
   "cell_type": "code",
   "execution_count": 12,
   "metadata": {
    "execution": {
     "iopub.execute_input": "2024-09-11T02:10:02.255320Z",
     "iopub.status.busy": "2024-09-11T02:10:02.254445Z",
     "iopub.status.idle": "2024-09-11T02:10:02.263278Z",
     "shell.execute_reply": "2024-09-11T02:10:02.262648Z",
     "shell.execute_reply.started": "2024-09-11T02:10:02.255287Z"
    }
   },
   "outputs": [],
   "source": [
    "#| code-fold: true\n",
    "#| code-summary: \"Show updated `generate_responses` function\"\n",
    "def generate_responses(dataset, prompt, sp=False):\n",
    "    responses = []\n",
    "    dataset = dataset.map(add_prompt, fn_kwargs={\"prompt\": prompt})\n",
    "    \n",
    "    # check that the prompt is correctly formatted\n",
    "    print(dataset[0]['prompt'])\n",
    "    print('---------')\n",
    "    \n",
    "    for row in dataset:\n",
    "        \n",
    "        if sp:\n",
    "            messages = [{'role': 'system', 'content': 'You are an expert in financial sentiment analysis. Your task is to accurately classify the sentiment of financial statements as negative, positive, or neutral. Consider the overall impact and implications of the statement when making your classification.'}\n",
    "                       ] + [{\"role\": \"user\", \"content\": row['prompt']},]\n",
    "            \n",
    "        else: messages = [{\"role\": \"user\", \"content\": row['prompt']},] \n",
    "\n",
    "        generation_args = { \n",
    "            \"max_new_tokens\": 2, \n",
    "            \"return_full_text\": False, \n",
    "            \"temperature\": 0.1, \n",
    "            \"do_sample\": True, \n",
    "        } \n",
    "\n",
    "        response = pipe(messages, **generation_args) \n",
    "        responses.append(response[0]['generated_text'].strip().lower())\n",
    "        \n",
    "    # calculate accuracy\n",
    "    df = dataset.to_pandas()\n",
    "    df['responses'] = pd.Series(responses)\n",
    "    df['responses'] = df['responses'].apply(lambda x: x if x in ['negative', 'positive', 'neutral'] else \"other\")\n",
    "    df['lm_match'] = df['label_text'] == df['responses']\n",
    "    acc = df.lm_match.mean()\n",
    "    return df, acc"
   ]
  },
  {
   "cell_type": "code",
   "execution_count": 15,
   "metadata": {
    "execution": {
     "iopub.execute_input": "2024-09-11T02:10:19.250053Z",
     "iopub.status.busy": "2024-09-11T02:10:19.249482Z",
     "iopub.status.idle": "2024-09-11T02:14:19.562949Z",
     "shell.execute_reply": "2024-09-11T02:14:19.562180Z",
     "shell.execute_reply.started": "2024-09-11T02:10:19.250025Z"
    }
   },
   "outputs": [
    {
     "data": {
      "application/vnd.jupyter.widget-view+json": {
       "model_id": "a21f5f55e43142d7b0f398367f045611",
       "version_major": 2,
       "version_minor": 0
      },
      "text/plain": [
       "Map:   0%|          | 0/2264 [00:00<?, ? examples/s]"
      ]
     },
     "metadata": {},
     "output_type": "display_data"
    },
    {
     "name": "stdout",
     "output_type": "stream",
     "text": [
      "Instruct: label the following TEXT with a single word: negative, positive, or neutral. If you're not sure, respond with neutral.\n",
      "TEXT: According to Gran , the company has no plans to move all production to Russia , although that is where the company is growing .\n",
      "label the TEXT with a single word: negative, positive, or neutral. If you're not sure, respond with neutral.\n",
      "---------\n"
     ]
    },
    {
     "name": "stderr",
     "output_type": "stream",
     "text": [
      "You are not running the flash-attention implementation, expect numerical differences.\n",
      "You seem to be using the pipelines sequentially on GPU. In order to maximize efficiency please use a dataset\n"
     ]
    }
   ],
   "source": [
    "df, acc = generate_responses(dataset, promptM, sp=True)"
   ]
  },
  {
   "cell_type": "markdown",
   "metadata": {},
   "source": [
    "Adding that system prompt results in a worse accuracy."
   ]
  },
  {
   "cell_type": "code",
   "execution_count": 19,
   "metadata": {
    "execution": {
     "iopub.execute_input": "2024-09-11T02:31:25.907262Z",
     "iopub.status.busy": "2024-09-11T02:31:25.906993Z",
     "iopub.status.idle": "2024-09-11T02:31:25.911045Z",
     "shell.execute_reply": "2024-09-11T02:31:25.910581Z",
     "shell.execute_reply.started": "2024-09-11T02:31:25.907242Z"
    }
   },
   "outputs": [
    {
     "data": {
      "text/plain": [
       "0.8873674911660777"
      ]
     },
     "execution_count": 19,
     "metadata": {},
     "output_type": "execute_result"
    }
   ],
   "source": [
    "acc"
   ]
  },
  {
   "cell_type": "markdown",
   "metadata": {},
   "source": [
    "The true positive rate for `negative` (295 > 290) and `positive` (530 > 501) increases but \n",
    "for `neutral` (1184 < 1215) decreases."
   ]
  },
  {
   "cell_type": "code",
   "execution_count": 20,
   "metadata": {
    "execution": {
     "iopub.execute_input": "2024-09-11T02:31:28.761086Z",
     "iopub.status.busy": "2024-09-11T02:31:28.760791Z",
     "iopub.status.idle": "2024-09-11T02:31:28.849023Z",
     "shell.execute_reply": "2024-09-11T02:31:28.848380Z",
     "shell.execute_reply.started": "2024-09-11T02:31:28.761066Z"
    }
   },
   "outputs": [
    {
     "data": {
      "image/png": "[encoded data removed]",
      "text/plain": [
       "<Figure size 576x576 with 1 Axes>"
      ]
     },
     "metadata": {
      "needs_background": "light"
     },
     "output_type": "display_data"
    }
   ],
   "source": [
    "make_cm(df)"
   ]
  },
  {
   "cell_type": "code",
   "execution_count": 21,
   "metadata": {
    "execution": {
     "iopub.execute_input": "2024-09-11T02:31:35.027697Z",
     "iopub.status.busy": "2024-09-11T02:31:35.027390Z",
     "iopub.status.idle": "2024-09-11T02:31:35.054537Z",
     "shell.execute_reply": "2024-09-11T02:31:35.053784Z",
     "shell.execute_reply.started": "2024-09-11T02:31:35.027697Z"
    }
   },
   "outputs": [],
   "source": [
    "df.to_csv('/notebooks/phi-3-5_N.csv', index=False)"
   ]
  },
  {
   "cell_type": "markdown",
   "metadata": {},
   "source": [
    "## Prompt O"
   ]
  },
  {
   "cell_type": "markdown",
   "metadata": {},
   "source": [
    "I'll see if adding \"if you're not sure, respond with neutral\" to the system message improves performance."
   ]
  },
  {
   "cell_type": "code",
   "execution_count": 7,
   "metadata": {
    "execution": {
     "iopub.execute_input": "2024-09-11T22:59:30.009240Z",
     "iopub.status.busy": "2024-09-11T22:59:30.008439Z",
     "iopub.status.idle": "2024-09-11T22:59:30.014376Z",
     "shell.execute_reply": "2024-09-11T22:59:30.013837Z",
     "shell.execute_reply.started": "2024-09-11T22:59:30.009219Z"
    }
   },
   "outputs": [],
   "source": [
    "#| code-fold: true\n",
    "#| code-summary: \"Show updated `generate_responses` function\"\n",
    "def generate_responses(dataset, prompt, sp=False):\n",
    "    responses = []\n",
    "    dataset = dataset.map(add_prompt, fn_kwargs={\"prompt\": prompt})\n",
    "    \n",
    "    # check that the prompt is correctly formatted\n",
    "    print(dataset[0]['prompt'])\n",
    "    print('---------')\n",
    "    \n",
    "    for row in dataset:\n",
    "        \n",
    "        if sp:\n",
    "            messages = [{'role': 'system', 'content': sp}\n",
    "                       ] + [{\"role\": \"user\", \"content\": row['prompt']},]\n",
    "            \n",
    "        else: messages = [{\"role\": \"user\", \"content\": row['prompt']},] \n",
    "\n",
    "        generation_args = { \n",
    "            \"max_new_tokens\": 2, \n",
    "            \"return_full_text\": False, \n",
    "            \"temperature\": 0.1, \n",
    "            \"do_sample\": True, \n",
    "        } \n",
    "\n",
    "        response = pipe(messages, **generation_args) \n",
    "        responses.append(response[0]['generated_text'].strip().lower())\n",
    "        \n",
    "    # calculate accuracy\n",
    "    df = dataset.to_pandas()\n",
    "    df['responses'] = pd.Series(responses)\n",
    "    df['responses'] = df['responses'].apply(lambda x: x if x in ['negative', 'positive', 'neutral'] else \"other\")\n",
    "    df['lm_match'] = df['label_text'] == df['responses']\n",
    "    acc = df.lm_match.mean()\n",
    "    return df, acc"
   ]
  },
  {
   "cell_type": "code",
   "execution_count": 36,
   "metadata": {
    "execution": {
     "iopub.execute_input": "2024-09-11T02:55:22.512243Z",
     "iopub.status.busy": "2024-09-11T02:55:22.511386Z",
     "iopub.status.idle": "2024-09-11T02:55:22.514830Z",
     "shell.execute_reply": "2024-09-11T02:55:22.514412Z",
     "shell.execute_reply.started": "2024-09-11T02:55:22.512216Z"
    }
   },
   "outputs": [],
   "source": [
    "sp = \"You are an expert in financial sentiment analysis. Your task is to accurately classify the sentiment of financial statements as negative, positive, or neutral. Consider the overall impact and implications of the statement when making your classification. If you're not sure, respond with neutral.\""
   ]
  },
  {
   "cell_type": "code",
   "execution_count": 37,
   "metadata": {
    "execution": {
     "iopub.execute_input": "2024-09-11T02:55:23.924798Z",
     "iopub.status.busy": "2024-09-11T02:55:23.924543Z",
     "iopub.status.idle": "2024-09-11T02:55:23.928159Z",
     "shell.execute_reply": "2024-09-11T02:55:23.927750Z",
     "shell.execute_reply.started": "2024-09-11T02:55:23.924780Z"
    }
   },
   "outputs": [
    {
     "name": "stdout",
     "output_type": "stream",
     "text": [
      "You are an expert in financial sentiment analysis. Your task is to accurately classify the sentiment of financial statements as negative, positive, or neutral. Consider the overall impact and implications of the statement when making your classification. If you're not sure, respond with neutral.\n"
     ]
    }
   ],
   "source": [
    "print(sp)"
   ]
  },
  {
   "cell_type": "code",
   "execution_count": 38,
   "metadata": {
    "execution": {
     "iopub.execute_input": "2024-09-11T02:55:35.923166Z",
     "iopub.status.busy": "2024-09-11T02:55:35.922623Z",
     "iopub.status.idle": "2024-09-11T02:59:40.208307Z",
     "shell.execute_reply": "2024-09-11T02:59:40.207497Z",
     "shell.execute_reply.started": "2024-09-11T02:55:35.923141Z"
    }
   },
   "outputs": [
    {
     "name": "stdout",
     "output_type": "stream",
     "text": [
      "Instruct: label the following TEXT with a single word: negative, positive, or neutral. If you're not sure, respond with neutral.\n",
      "TEXT: According to Gran , the company has no plans to move all production to Russia , although that is where the company is growing .\n",
      "label the TEXT with a single word: negative, positive, or neutral. If you're not sure, respond with neutral.\n",
      "---------\n"
     ]
    }
   ],
   "source": [
    "df, acc = generate_responses(dataset, promptM, sp=sp)"
   ]
  },
  {
   "cell_type": "markdown",
   "metadata": {},
   "source": [
    "This system prompt still performs worse than no system prompt."
   ]
  },
  {
   "cell_type": "code",
   "execution_count": 39,
   "metadata": {
    "execution": {
     "iopub.execute_input": "2024-09-11T02:59:40.209638Z",
     "iopub.status.busy": "2024-09-11T02:59:40.209436Z",
     "iopub.status.idle": "2024-09-11T02:59:40.213723Z",
     "shell.execute_reply": "2024-09-11T02:59:40.212974Z",
     "shell.execute_reply.started": "2024-09-11T02:59:40.209621Z"
    }
   },
   "outputs": [
    {
     "data": {
      "text/plain": [
       "0.8710247349823321"
      ]
     },
     "execution_count": 39,
     "metadata": {},
     "output_type": "execute_result"
    }
   ],
   "source": [
    "acc"
   ]
  },
  {
   "cell_type": "markdown",
   "metadata": {},
   "source": [
    "Compared to the best-performing Prompt M, this prompt yields a higher true positive rate \n",
    "for `positive` sentiment (531 > 501) but a lower rate for `neutral` sentiment (1156 < 1215) \n",
    "and for `negative` (294 > 290) sentiment."
   ]
  },
  {
   "cell_type": "code",
   "execution_count": 40,
   "metadata": {
    "execution": {
     "iopub.execute_input": "2024-09-11T02:59:40.214612Z",
     "iopub.status.busy": "2024-09-11T02:59:40.214455Z",
     "iopub.status.idle": "2024-09-11T02:59:40.302582Z",
     "shell.execute_reply": "2024-09-11T02:59:40.301881Z",
     "shell.execute_reply.started": "2024-09-11T02:59:40.214598Z"
    }
   },
   "outputs": [
    {
     "data": {
      "image/png": "[encoded data removed]",
      "text/plain": [
       "<Figure size 576x576 with 1 Axes>"
      ]
     },
     "metadata": {
      "needs_background": "light"
     },
     "output_type": "display_data"
    }
   ],
   "source": [
    "make_cm(df)"
   ]
  },
  {
   "cell_type": "code",
   "execution_count": 42,
   "metadata": {
    "execution": {
     "iopub.execute_input": "2024-09-11T03:02:03.088032Z",
     "iopub.status.busy": "2024-09-11T03:02:03.087433Z",
     "iopub.status.idle": "2024-09-11T03:02:03.112132Z",
     "shell.execute_reply": "2024-09-11T03:02:03.111507Z",
     "shell.execute_reply.started": "2024-09-11T03:02:03.088010Z"
    }
   },
   "outputs": [],
   "source": [
    "df.to_csv('/notebooks/phi-3-5_O.csv', index=False)"
   ]
  },
  {
   "cell_type": "markdown",
   "metadata": {},
   "source": [
    "## Prompt P"
   ]
  },
  {
   "cell_type": "markdown",
   "metadata": {},
   "source": [
    "I'll move away from system prompts for now and revisit language adjustments. For Prompt M, I'll replace:\n",
    "\n",
    ">If you're not sure, respond with neutral.\n",
    "\n",
    "with \n",
    "\n",
    ">If the amount of money is not explicitly increasing or decreasing, respond with neutral."
   ]
  },
  {
   "cell_type": "code",
   "execution_count": 15,
   "metadata": {
    "execution": {
     "iopub.execute_input": "2024-09-11T23:06:03.550437Z",
     "iopub.status.busy": "2024-09-11T23:06:03.549947Z",
     "iopub.status.idle": "2024-09-11T23:06:03.553145Z",
     "shell.execute_reply": "2024-09-11T23:06:03.552670Z",
     "shell.execute_reply.started": "2024-09-11T23:06:03.550414Z"
    }
   },
   "outputs": [],
   "source": [
    "promptP = \"\"\"Instruct: label the following TEXT with a single word: negative, positive, or neutral. If the amount of money is not explicitly increasing or decreasing, respond with neutral.\n",
    "TEXT: {text}\n",
    "label the TEXT with a single word: negative, positive, or neutral. If the amount of money is not explicitly increasing or decreasing, respond with neutral.\"\"\""
   ]
  },
  {
   "cell_type": "code",
   "execution_count": 31,
   "metadata": {
    "execution": {
     "iopub.execute_input": "2024-09-11T02:48:59.761850Z",
     "iopub.status.busy": "2024-09-11T02:48:59.761246Z",
     "iopub.status.idle": "2024-09-11T02:52:34.075642Z",
     "shell.execute_reply": "2024-09-11T02:52:34.074997Z",
     "shell.execute_reply.started": "2024-09-11T02:48:59.761828Z"
    }
   },
   "outputs": [
    {
     "data": {
      "application/vnd.jupyter.widget-view+json": {
       "model_id": "da7c266036ad4153ac220062b6c0814e",
       "version_major": 2,
       "version_minor": 0
      },
      "text/plain": [
       "Map:   0%|          | 0/2264 [00:00<?, ? examples/s]"
      ]
     },
     "metadata": {},
     "output_type": "display_data"
    },
    {
     "name": "stdout",
     "output_type": "stream",
     "text": [
      "Instruct: label the following TEXT with a single word: negative, positive, or neutral. If the amount of money is not explicitly increasing or decreasing, respond with neutral.\n",
      "TEXT: According to Gran , the company has no plans to move all production to Russia , although that is where the company is growing .\n",
      "label the TEXT with a single word: negative, positive, or neutral. If the amount of money is not explicitly increasing or decreasing, respond with neutral.\n",
      "---------\n"
     ]
    }
   ],
   "source": [
    "df, acc = generate_responses(dataset, promptP)"
   ]
  },
  {
   "cell_type": "markdown",
   "metadata": {},
   "source": [
    "Excellent! The overall accuracy again increases, this time to 92.2%. \n",
    "I'm still quite surprised it's taken so much effort to surpass phi-2, but I'll reflect on that later on."
   ]
  },
  {
   "cell_type": "code",
   "execution_count": 32,
   "metadata": {
    "execution": {
     "iopub.execute_input": "2024-09-11T02:52:34.077514Z",
     "iopub.status.busy": "2024-09-11T02:52:34.077290Z",
     "iopub.status.idle": "2024-09-11T02:52:34.082303Z",
     "shell.execute_reply": "2024-09-11T02:52:34.080841Z",
     "shell.execute_reply.started": "2024-09-11T02:52:34.077494Z"
    }
   },
   "outputs": [
    {
     "data": {
      "text/plain": [
       "0.9222614840989399"
      ]
     },
     "execution_count": 32,
     "metadata": {},
     "output_type": "execute_result"
    }
   ],
   "source": [
    "acc"
   ]
  },
  {
   "cell_type": "markdown",
   "metadata": {},
   "source": [
    "Both `negative` and `positive` sentiment true positive rates decrease, but this prompt results in almost 100\n",
    "more correct `neutral` responses."
   ]
  },
  {
   "cell_type": "code",
   "execution_count": 33,
   "metadata": {
    "execution": {
     "iopub.execute_input": "2024-09-11T02:52:34.083615Z",
     "iopub.status.busy": "2024-09-11T02:52:34.083381Z",
     "iopub.status.idle": "2024-09-11T02:52:34.188610Z",
     "shell.execute_reply": "2024-09-11T02:52:34.187891Z",
     "shell.execute_reply.started": "2024-09-11T02:52:34.083596Z"
    }
   },
   "outputs": [
    {
     "data": {
      "image/png": "[encoded data removed]",
      "text/plain": [
       "<Figure size 576x576 with 1 Axes>"
      ]
     },
     "metadata": {
      "needs_background": "light"
     },
     "output_type": "display_data"
    }
   ],
   "source": [
    "make_cm(df)"
   ]
  },
  {
   "cell_type": "code",
   "execution_count": 34,
   "metadata": {
    "execution": {
     "iopub.execute_input": "2024-09-11T02:52:34.190492Z",
     "iopub.status.busy": "2024-09-11T02:52:34.190258Z",
     "iopub.status.idle": "2024-09-11T02:52:34.221369Z",
     "shell.execute_reply": "2024-09-11T02:52:34.220605Z",
     "shell.execute_reply.started": "2024-09-11T02:52:34.190474Z"
    }
   },
   "outputs": [],
   "source": [
    "df.to_csv('/notebooks/phi-3-5_P.csv', index=False)"
   ]
  },
  {
   "cell_type": "markdown",
   "metadata": {},
   "source": [
    "## Prompt Q"
   ]
  },
  {
   "cell_type": "markdown",
   "metadata": {},
   "source": [
    "Given the success of the zero-shot prompt with instructions on handling neutral statements,\n",
    "I'll try a prompt suggested by Claude, which adds more nuance to handling neutral \n",
    "sentences:"
   ]
  },
  {
   "cell_type": "code",
   "execution_count": 9,
   "metadata": {
    "execution": {
     "iopub.execute_input": "2024-09-11T20:08:25.978721Z",
     "iopub.status.busy": "2024-09-11T20:08:25.978164Z",
     "iopub.status.idle": "2024-09-11T20:08:25.981742Z",
     "shell.execute_reply": "2024-09-11T20:08:25.981158Z",
     "shell.execute_reply.started": "2024-09-11T20:08:25.978701Z"
    }
   },
   "outputs": [],
   "source": [
    "promptQ = \"\"\"Instruct: label the following TEXT with a single word: negative, positive, or neutral. If the amount of money, market share, or key performance indicators are not explicitly increasing or decreasing, respond with neutral. \n",
    "TEXT: {text}\n",
    "label the TEXT with a single word: negative, positive, or neutral. If key financial metrics are not clearly changing, respond with neutral. If the amount of money, market share, or key performance indicators are not explicitly increasing or decreasing, respond with neutral.\"\"\""
   ]
  },
  {
   "cell_type": "code",
   "execution_count": 10,
   "metadata": {
    "execution": {
     "iopub.execute_input": "2024-09-11T20:08:35.163876Z",
     "iopub.status.busy": "2024-09-11T20:08:35.163249Z",
     "iopub.status.idle": "2024-09-11T20:08:35.167260Z",
     "shell.execute_reply": "2024-09-11T20:08:35.166604Z",
     "shell.execute_reply.started": "2024-09-11T20:08:35.163847Z"
    }
   },
   "outputs": [
    {
     "name": "stdout",
     "output_type": "stream",
     "text": [
      "Instruct: label the following TEXT with a single word: negative, positive, or neutral. If the amount of money, market share, or key performance indicators are not explicitly increasing or decreasing, respond with neutral. \n",
      "TEXT: {text}\n",
      "label the TEXT with a single word: negative, positive, or neutral. If key financial metrics are not clearly changing, respond with neutral. If the amount of money, market share, or key performance indicators are not explicitly increasing or decreasing, respond with neutral.\n"
     ]
    }
   ],
   "source": [
    "print(promptQ)"
   ]
  },
  {
   "cell_type": "code",
   "execution_count": 11,
   "metadata": {
    "execution": {
     "iopub.execute_input": "2024-09-11T20:09:07.504776Z",
     "iopub.status.busy": "2024-09-11T20:09:07.504039Z",
     "iopub.status.idle": "2024-09-11T20:13:00.537777Z",
     "shell.execute_reply": "2024-09-11T20:13:00.537131Z",
     "shell.execute_reply.started": "2024-09-11T20:09:07.504744Z"
    }
   },
   "outputs": [
    {
     "data": {
      "application/vnd.jupyter.widget-view+json": {
       "model_id": "a32337cb82ff4a1298504b8e44470cb1",
       "version_major": 2,
       "version_minor": 0
      },
      "text/plain": [
       "Map:   0%|          | 0/2264 [00:00<?, ? examples/s]"
      ]
     },
     "metadata": {},
     "output_type": "display_data"
    },
    {
     "name": "stdout",
     "output_type": "stream",
     "text": [
      "Instruct: label the following TEXT with a single word: negative, positive, or neutral. If the amount of money, market share, or key performance indicators are not explicitly increasing or decreasing, respond with neutral. \n",
      "TEXT: According to Gran , the company has no plans to move all production to Russia , although that is where the company is growing .\n",
      "label the TEXT with a single word: negative, positive, or neutral. If key financial metrics are not clearly changing, respond with neutral. If the amount of money, market share, or key performance indicators are not explicitly increasing or decreasing, respond with neutral.\n",
      "---------\n"
     ]
    },
    {
     "name": "stderr",
     "output_type": "stream",
     "text": [
      "You are not running the flash-attention implementation, expect numerical differences.\n",
      "You seem to be using the pipelines sequentially on GPU. In order to maximize efficiency please use a dataset\n"
     ]
    }
   ],
   "source": [
    "df, acc = generate_responses(dataset, promptQ)"
   ]
  },
  {
   "cell_type": "markdown",
   "metadata": {},
   "source": [
    "A more nuanced prompt actually deteriorates the overall accuracy by about 13%."
   ]
  },
  {
   "cell_type": "code",
   "execution_count": 12,
   "metadata": {
    "execution": {
     "iopub.execute_input": "2024-09-11T20:16:43.708545Z",
     "iopub.status.busy": "2024-09-11T20:16:43.707676Z",
     "iopub.status.idle": "2024-09-11T20:16:43.718595Z",
     "shell.execute_reply": "2024-09-11T20:16:43.717999Z",
     "shell.execute_reply.started": "2024-09-11T20:16:43.708517Z"
    }
   },
   "outputs": [
    {
     "data": {
      "text/plain": [
       "0.7937279151943463"
      ]
     },
     "execution_count": 12,
     "metadata": {},
     "output_type": "execute_result"
    }
   ],
   "source": [
    "acc"
   ]
  },
  {
   "cell_type": "markdown",
   "metadata": {},
   "source": [
    "Compared to the best performing prompt P (92.2%), this prompt performs better on \n",
    "`negative` sentiment and worse on `neutral` and `positive` sentiment."
   ]
  },
  {
   "cell_type": "code",
   "execution_count": 13,
   "metadata": {
    "execution": {
     "iopub.execute_input": "2024-09-11T20:17:09.235809Z",
     "iopub.status.busy": "2024-09-11T20:17:09.235053Z",
     "iopub.status.idle": "2024-09-11T20:17:09.393949Z",
     "shell.execute_reply": "2024-09-11T20:17:09.393181Z",
     "shell.execute_reply.started": "2024-09-11T20:17:09.235787Z"
    }
   },
   "outputs": [
    {
     "data": {
      "image/png": "[encoded data removed]",
      "text/plain": [
       "<Figure size 576x576 with 1 Axes>"
      ]
     },
     "metadata": {
      "needs_background": "light"
     },
     "output_type": "display_data"
    }
   ],
   "source": [
    "make_cm(df)"
   ]
  },
  {
   "cell_type": "code",
   "execution_count": 14,
   "metadata": {
    "execution": {
     "iopub.execute_input": "2024-09-11T20:18:06.668348Z",
     "iopub.status.busy": "2024-09-11T20:18:06.667916Z",
     "iopub.status.idle": "2024-09-11T20:18:06.709005Z",
     "shell.execute_reply": "2024-09-11T20:18:06.708304Z",
     "shell.execute_reply.started": "2024-09-11T20:18:06.668329Z"
    }
   },
   "outputs": [],
   "source": [
    "df.to_csv('/notebooks/phi-3-5_Q.csv', index=False)"
   ]
  },
  {
   "cell_type": "markdown",
   "metadata": {},
   "source": [
    "## Prompt R"
   ]
  },
  {
   "cell_type": "markdown",
   "metadata": {},
   "source": [
    "I'll now try providing a large number of examples (20) in the prompt. I don't expect\n",
    "this to improve upon my 92.2% accuracy since 3-Shot and 6-Shot prompting performed worse.\n",
    "Nevertheless, I've heard that it's not uncommon to give a model dozens of examples."
   ]
  },
  {
   "cell_type": "code",
   "execution_count": 10,
   "metadata": {
    "execution": {
     "iopub.execute_input": "2024-09-12T01:30:07.388460Z",
     "iopub.status.busy": "2024-09-12T01:30:07.388258Z",
     "iopub.status.idle": "2024-09-12T01:30:07.392774Z",
     "shell.execute_reply": "2024-09-12T01:30:07.391661Z",
     "shell.execute_reply.started": "2024-09-12T01:30:07.388443Z"
    }
   },
   "outputs": [],
   "source": [
    "exclude_idxs = [1, 2, 3, 4, 292, 293, 294, 347, 0, 37, 38, 39, 40, 263, 264, 265, 266, 270, 274, 283]"
   ]
  },
  {
   "cell_type": "code",
   "execution_count": 11,
   "metadata": {
    "execution": {
     "iopub.execute_input": "2024-09-12T01:30:07.394220Z",
     "iopub.status.busy": "2024-09-12T01:30:07.394021Z",
     "iopub.status.idle": "2024-09-12T01:30:07.414290Z",
     "shell.execute_reply": "2024-09-12T01:30:07.413655Z",
     "shell.execute_reply.started": "2024-09-12T01:30:07.394204Z"
    }
   },
   "outputs": [
    {
     "data": {
      "text/plain": [
       "Dataset({\n",
       "    features: ['sentence', 'label', 'label_text', '__index_level_0__'],\n",
       "    num_rows: 2244\n",
       "})"
      ]
     },
     "execution_count": 11,
     "metadata": {},
     "output_type": "execute_result"
    }
   ],
   "source": [
    "promptR_ds = ds_subset(dataset, exclude_idxs=exclude_idxs, columns=[0, 1, 2])\n",
    "promptR_ds"
   ]
  },
  {
   "cell_type": "code",
   "execution_count": 19,
   "metadata": {
    "execution": {
     "iopub.execute_input": "2024-09-11T20:37:55.131498Z",
     "iopub.status.busy": "2024-09-11T20:37:55.130598Z",
     "iopub.status.idle": "2024-09-11T20:37:55.138965Z",
     "shell.execute_reply": "2024-09-11T20:37:55.138244Z",
     "shell.execute_reply.started": "2024-09-11T20:37:55.131450Z"
    }
   },
   "outputs": [
    {
     "data": {
      "text/plain": [
       "((\"For the last quarter of 2010 , Componenta 's net sales doubled to EUR131m from EUR76m for the same period a year earlier , while it moved to a zero pre-tax profit from a pre-tax loss of EUR7m .\",\n",
       "  'positive'),\n",
       " 20)"
      ]
     },
     "execution_count": 19,
     "metadata": {},
     "output_type": "execute_result"
    }
   ],
   "source": [
    "examples = []\n",
    "for idx in exclude_idxs:\n",
    "    examples.append((dataset[idx]['sentence'], dataset[idx]['label_text']))\n",
    "\n",
    "examples[0], len(examples)"
   ]
  },
  {
   "cell_type": "code",
   "execution_count": 23,
   "metadata": {
    "execution": {
     "iopub.execute_input": "2024-09-11T20:39:25.182483Z",
     "iopub.status.busy": "2024-09-11T20:39:25.181894Z",
     "iopub.status.idle": "2024-09-11T21:23:24.516313Z",
     "shell.execute_reply": "2024-09-11T21:23:24.515802Z",
     "shell.execute_reply.started": "2024-09-11T20:39:25.182457Z"
    }
   },
   "outputs": [
    {
     "data": {
      "application/vnd.jupyter.widget-view+json": {
       "model_id": "b3a4bdd6fb314bf38ec5402a838fe225",
       "version_major": 2,
       "version_minor": 0
      },
      "text/plain": [
       "Map:   0%|          | 0/2244 [00:00<?, ? examples/s]"
      ]
     },
     "metadata": {},
     "output_type": "display_data"
    },
    {
     "name": "stdout",
     "output_type": "stream",
     "text": [
      "[{'role': 'user', 'content': \"Instruct: label the following TEXT with a single word: negative, positive, or neutral. If the amount of money is not explicitly increasing or decreasing, respond with neutral.\\nTEXT: For the last quarter of 2010 , Componenta 's net sales doubled to EUR131m from EUR76m for the same period a year earlier , while it moved to a zero pre-tax profit from a pre-tax loss of EUR7m .\\nlabel the TEXT with a single word: negative, positive, or neutral. If the amount of money is not explicitly increasing or decreasing, respond with neutral.\"}, {'role': 'assistant', 'content': 'positive'}, {'role': 'user', 'content': 'Instruct: label the following TEXT with a single word: negative, positive, or neutral. If the amount of money is not explicitly increasing or decreasing, respond with neutral.\\nTEXT: In the third quarter of 2010 , net sales increased by 5.2 % to EUR 205.5 mn , and operating profit by 34.9 % to EUR 23.5 mn .\\nlabel the TEXT with a single word: negative, positive, or neutral. If the amount of money is not explicitly increasing or decreasing, respond with neutral.'}, {'role': 'assistant', 'content': 'positive'}, {'role': 'user', 'content': 'Instruct: label the following TEXT with a single word: negative, positive, or neutral. If the amount of money is not explicitly increasing or decreasing, respond with neutral.\\nTEXT: Operating profit rose to EUR 13.1 mn from EUR 8.7 mn in the corresponding period in 2007 representing 7.7 % of net sales .\\nlabel the TEXT with a single word: negative, positive, or neutral. If the amount of money is not explicitly increasing or decreasing, respond with neutral.'}, {'role': 'assistant', 'content': 'positive'}, {'role': 'user', 'content': 'Instruct: label the following TEXT with a single word: negative, positive, or neutral. If the amount of money is not explicitly increasing or decreasing, respond with neutral.\\nTEXT: Operating profit totalled EUR 21.1 mn , up from EUR 18.6 mn in 2007 , representing 9.7 % of net sales .\\nlabel the TEXT with a single word: negative, positive, or neutral. If the amount of money is not explicitly increasing or decreasing, respond with neutral.'}, {'role': 'assistant', 'content': 'positive'}, {'role': 'user', 'content': 'Instruct: label the following TEXT with a single word: negative, positive, or neutral. If the amount of money is not explicitly increasing or decreasing, respond with neutral.\\nTEXT: Jan. 6 -- Ford is struggling in the face of slowing truck and SUV sales and a surfeit of up-to-date , gotta-have cars .\\nlabel the TEXT with a single word: negative, positive, or neutral. If the amount of money is not explicitly increasing or decreasing, respond with neutral.'}, {'role': 'assistant', 'content': 'negative'}, {'role': 'user', 'content': 'Instruct: label the following TEXT with a single word: negative, positive, or neutral. If the amount of money is not explicitly increasing or decreasing, respond with neutral.\\nTEXT: Pharmaceuticals group Orion Corp reported a fall in its third-quarter earnings that were hit by larger expenditures on R&D and marketing .\\nlabel the TEXT with a single word: negative, positive, or neutral. If the amount of money is not explicitly increasing or decreasing, respond with neutral.'}, {'role': 'assistant', 'content': 'negative'}, {'role': 'user', 'content': 'Instruct: label the following TEXT with a single word: negative, positive, or neutral. If the amount of money is not explicitly increasing or decreasing, respond with neutral.\\nTEXT: However , the growth margin slowed down due to the financial crisis .\\nlabel the TEXT with a single word: negative, positive, or neutral. If the amount of money is not explicitly increasing or decreasing, respond with neutral.'}, {'role': 'assistant', 'content': 'negative'}, {'role': 'user', 'content': 'Instruct: label the following TEXT with a single word: negative, positive, or neutral. If the amount of money is not explicitly increasing or decreasing, respond with neutral.\\nTEXT: 2009 3 February 2010 - Finland-based steel maker Rautaruukki Oyj ( HEL : RTRKS ) , or Ruukki , said today it slipped to a larger-than-expected pretax loss of EUR46m in the fourth quarter of 2009 from a year-earlier profit of EUR45m .\\nlabel the TEXT with a single word: negative, positive, or neutral. If the amount of money is not explicitly increasing or decreasing, respond with neutral.'}, {'role': 'assistant', 'content': 'negative'}, {'role': 'user', 'content': 'Instruct: label the following TEXT with a single word: negative, positive, or neutral. If the amount of money is not explicitly increasing or decreasing, respond with neutral.\\nTEXT: According to Gran , the company has no plans to move all production to Russia , although that is where the company is growing .\\nlabel the TEXT with a single word: negative, positive, or neutral. If the amount of money is not explicitly increasing or decreasing, respond with neutral.'}, {'role': 'assistant', 'content': 'neutral'}, {'role': 'user', 'content': \"Instruct: label the following TEXT with a single word: negative, positive, or neutral. If the amount of money is not explicitly increasing or decreasing, respond with neutral.\\nTEXT: At the request of Finnish media company Alma Media 's newspapers , research manager Jari Kaivo-oja at the Finland Futures Research Centre at the Turku School of Economics has drawn up a future scenario for Finland 's national economy by using a model developed by the University of Denver .\\nlabel the TEXT with a single word: negative, positive, or neutral. If the amount of money is not explicitly increasing or decreasing, respond with neutral.\"}, {'role': 'assistant', 'content': 'neutral'}, {'role': 'user', 'content': 'Instruct: label the following TEXT with a single word: negative, positive, or neutral. If the amount of money is not explicitly increasing or decreasing, respond with neutral.\\nTEXT: STOCK EXCHANGE ANNOUNCEMENT 20 July 2006 1 ( 1 ) BASWARE SHARE SUBSCRIPTIONS WITH WARRANTS AND INCREASE IN SHARE CAPITAL A total of 119 850 shares have been subscribed with BasWare Warrant Program .\\nlabel the TEXT with a single word: negative, positive, or neutral. If the amount of money is not explicitly increasing or decreasing, respond with neutral.'}, {'role': 'assistant', 'content': 'neutral'}, {'role': 'user', 'content': 'Instruct: label the following TEXT with a single word: negative, positive, or neutral. If the amount of money is not explicitly increasing or decreasing, respond with neutral.\\nTEXT: A maximum of 666,104 new shares can further be subscribed for by exercising B options under the 2004 stock option plan .\\nlabel the TEXT with a single word: negative, positive, or neutral. If the amount of money is not explicitly increasing or decreasing, respond with neutral.'}, {'role': 'assistant', 'content': 'neutral'}, {'role': 'user', 'content': 'Instruct: label the following TEXT with a single word: negative, positive, or neutral. If the amount of money is not explicitly increasing or decreasing, respond with neutral.\\nTEXT: Tiimari operates 194 stores in six countries -- including its core Finnish market -- and generated a turnover of 76.5 mln eur in 2005 .\\nlabel the TEXT with a single word: negative, positive, or neutral. If the amount of money is not explicitly increasing or decreasing, respond with neutral.'}, {'role': 'assistant', 'content': 'neutral'}, {'role': 'user', 'content': 'Instruct: label the following TEXT with a single word: negative, positive, or neutral. If the amount of money is not explicitly increasing or decreasing, respond with neutral.\\nTEXT: Finnish Talvivaara Mining Co HEL : TLV1V said Thursday it had picked BofA Merrill Lynch and JPMorgan NYSE : JPM as joint bookrunners of its planned issue of convertible notes worth up to EUR250m USD332m .\\nlabel the TEXT with a single word: negative, positive, or neutral. If the amount of money is not explicitly increasing or decreasing, respond with neutral.'}, {'role': 'assistant', 'content': 'neutral'}, {'role': 'user', 'content': 'Instruct: label the following TEXT with a single word: negative, positive, or neutral. If the amount of money is not explicitly increasing or decreasing, respond with neutral.\\nTEXT: The mall is part of the Baltic Pearl development project in the city of St Petersburg , where Baltic Pearl CJSC , a subsidiary of Shanghai Foreign Joint Investment Company , is developing homes for 35,000 people .\\nlabel the TEXT with a single word: negative, positive, or neutral. If the amount of money is not explicitly increasing or decreasing, respond with neutral.'}, {'role': 'assistant', 'content': 'neutral'}, {'role': 'user', 'content': 'Instruct: label the following TEXT with a single word: negative, positive, or neutral. If the amount of money is not explicitly increasing or decreasing, respond with neutral.\\nTEXT: Vacon controls a further 5 % of the company via investment fund Power Fund I. EUR 1.0 = USD 1.397\\nlabel the TEXT with a single word: negative, positive, or neutral. If the amount of money is not explicitly increasing or decreasing, respond with neutral.'}, {'role': 'assistant', 'content': 'neutral'}, {'role': 'user', 'content': 'Instruct: label the following TEXT with a single word: negative, positive, or neutral. If the amount of money is not explicitly increasing or decreasing, respond with neutral.\\nTEXT: 4 ) Complete name of the shareholder : Otto Henrik Bernhard Nyberg 5 ) Further information : The amount of shares now transferred corresponds to 5.68 % of the total number of shares in Aspo Plc. .\\nlabel the TEXT with a single word: negative, positive, or neutral. If the amount of money is not explicitly increasing or decreasing, respond with neutral.'}, {'role': 'assistant', 'content': 'neutral'}, {'role': 'user', 'content': 'Instruct: label the following TEXT with a single word: negative, positive, or neutral. If the amount of money is not explicitly increasing or decreasing, respond with neutral.\\nTEXT: It has some 30 offices worldwide and more than 90 pct of its net sales are generated outside Finland .\\nlabel the TEXT with a single word: negative, positive, or neutral. If the amount of money is not explicitly increasing or decreasing, respond with neutral.'}, {'role': 'assistant', 'content': 'neutral'}, {'role': 'user', 'content': 'Instruct: label the following TEXT with a single word: negative, positive, or neutral. If the amount of money is not explicitly increasing or decreasing, respond with neutral.\\nTEXT: The contract value amounts to about EUR11m , the company added .\\nlabel the TEXT with a single word: negative, positive, or neutral. If the amount of money is not explicitly increasing or decreasing, respond with neutral.'}, {'role': 'assistant', 'content': 'neutral'}, {'role': 'user', 'content': 'Instruct: label the following TEXT with a single word: negative, positive, or neutral. If the amount of money is not explicitly increasing or decreasing, respond with neutral.\\nTEXT: The business to be divested generates consolidated net sales of EUR 60 million annually and currently has some 640 employees .\\nlabel the TEXT with a single word: negative, positive, or neutral. If the amount of money is not explicitly increasing or decreasing, respond with neutral.'}, {'role': 'assistant', 'content': 'neutral'}, {'role': 'user', 'content': 'Instruct: label the following TEXT with a single word: negative, positive, or neutral. If the amount of money is not explicitly increasing or decreasing, respond with neutral.\\nTEXT: Finnish Talentum reports its operating profit increased to EUR 20.5 mn in 2005 from EUR 9.3 mn in 2004 , and net sales totaled EUR 103.3 mn , up from EUR 96.4 mn .\\nlabel the TEXT with a single word: negative, positive, or neutral. If the amount of money is not explicitly increasing or decreasing, respond with neutral.'}]\n"
     ]
    }
   ],
   "source": [
    "df, acc = few_shot_responses(promptR_ds, promptP, examples)"
   ]
  },
  {
   "cell_type": "markdown",
   "metadata": {},
   "source": [
    "Wow! I'm so glad I tried a larger number of examples. The accuracy (93.94%) is now \n",
    "competitive with the Claude models!"
   ]
  },
  {
   "cell_type": "code",
   "execution_count": 24,
   "metadata": {
    "execution": {
     "iopub.execute_input": "2024-09-11T21:23:41.420414Z",
     "iopub.status.busy": "2024-09-11T21:23:41.420146Z",
     "iopub.status.idle": "2024-09-11T21:23:41.424933Z",
     "shell.execute_reply": "2024-09-11T21:23:41.424358Z",
     "shell.execute_reply.started": "2024-09-11T21:23:41.420396Z"
    }
   },
   "outputs": [
    {
     "data": {
      "text/plain": [
       "0.9393939393939394"
      ]
     },
     "execution_count": 24,
     "metadata": {},
     "output_type": "execute_result"
    }
   ],
   "source": [
    "acc"
   ]
  },
  {
   "cell_type": "markdown",
   "metadata": {},
   "source": [
    "With 20-Shot prompting, the true positive rate for `negative` (286 > 285) and `neutral` \n",
    "(1355 > 1307) sentiment increases, and decreases for `positive` (467 < 496) sentiment."
   ]
  },
  {
   "cell_type": "code",
   "execution_count": 25,
   "metadata": {
    "execution": {
     "iopub.execute_input": "2024-09-11T21:28:07.681485Z",
     "iopub.status.busy": "2024-09-11T21:28:07.681186Z",
     "iopub.status.idle": "2024-09-11T21:28:07.771933Z",
     "shell.execute_reply": "2024-09-11T21:28:07.771417Z",
     "shell.execute_reply.started": "2024-09-11T21:28:07.681465Z"
    }
   },
   "outputs": [
    {
     "data": {
      "image/png": "[encoded data removed]",
      "text/plain": [
       "<Figure size 576x576 with 1 Axes>"
      ]
     },
     "metadata": {
      "needs_background": "light"
     },
     "output_type": "display_data"
    }
   ],
   "source": [
    "make_cm(df)"
   ]
  },
  {
   "cell_type": "code",
   "execution_count": 26,
   "metadata": {
    "execution": {
     "iopub.execute_input": "2024-09-11T21:29:09.334179Z",
     "iopub.status.busy": "2024-09-11T21:29:09.333618Z",
     "iopub.status.idle": "2024-09-11T21:29:09.363094Z",
     "shell.execute_reply": "2024-09-11T21:29:09.362375Z",
     "shell.execute_reply.started": "2024-09-11T21:29:09.334159Z"
    }
   },
   "outputs": [],
   "source": [
    "df.to_csv('/notebooks/phi-3-5_R.csv', index=False)"
   ]
  },
  {
   "cell_type": "markdown",
   "metadata": {},
   "source": [
    "## Prompt S"
   ]
  },
  {
   "cell_type": "markdown",
   "metadata": {},
   "source": [
    "I'll increase the number of examples to 28 and see if that yields an improvement.\n",
    "I currently have 4 `positive`, 4 `negative` and 12 `neutral` examples.\n",
    "I'll up that to 5:5:18."
   ]
  },
  {
   "cell_type": "code",
   "execution_count": 11,
   "metadata": {
    "execution": {
     "iopub.execute_input": "2024-09-11T23:05:45.588209Z",
     "iopub.status.busy": "2024-09-11T23:05:45.587945Z",
     "iopub.status.idle": "2024-09-11T23:05:45.591657Z",
     "shell.execute_reply": "2024-09-11T23:05:45.591110Z",
     "shell.execute_reply.started": "2024-09-11T23:05:45.588192Z"
    }
   },
   "outputs": [],
   "source": [
    "exclude_idxs = [\n",
    "    1, 2, 3, 4, 5, # positive\n",
    "    292, 293, 294, 347, 348, # negative\n",
    "    0, 37, 38, 39, 40, 263, 264, 265, 266, 270, 274, 283, 284, 285, 286, 287, 288, 289 # neutral\n",
    "]"
   ]
  },
  {
   "cell_type": "code",
   "execution_count": 12,
   "metadata": {
    "execution": {
     "iopub.execute_input": "2024-09-11T23:05:46.917173Z",
     "iopub.status.busy": "2024-09-11T23:05:46.916914Z",
     "iopub.status.idle": "2024-09-11T23:05:46.927084Z",
     "shell.execute_reply": "2024-09-11T23:05:46.926555Z",
     "shell.execute_reply.started": "2024-09-11T23:05:46.917155Z"
    }
   },
   "outputs": [
    {
     "data": {
      "text/plain": [
       "((\"For the last quarter of 2010 , Componenta 's net sales doubled to EUR131m from EUR76m for the same period a year earlier , while it moved to a zero pre-tax profit from a pre-tax loss of EUR7m .\",\n",
       "  'positive'),\n",
       " 28)"
      ]
     },
     "execution_count": 12,
     "metadata": {},
     "output_type": "execute_result"
    }
   ],
   "source": [
    "examples = []\n",
    "for idx in exclude_idxs:\n",
    "    examples.append((dataset[idx]['sentence'], dataset[idx]['label_text']))\n",
    "\n",
    "examples[0], len(examples)"
   ]
  },
  {
   "cell_type": "code",
   "execution_count": 13,
   "metadata": {
    "execution": {
     "iopub.execute_input": "2024-09-11T23:05:50.236099Z",
     "iopub.status.busy": "2024-09-11T23:05:50.235837Z",
     "iopub.status.idle": "2024-09-11T23:05:50.253589Z",
     "shell.execute_reply": "2024-09-11T23:05:50.253165Z",
     "shell.execute_reply.started": "2024-09-11T23:05:50.236082Z"
    }
   },
   "outputs": [
    {
     "data": {
      "text/plain": [
       "Dataset({\n",
       "    features: ['sentence', 'label', 'label_text', '__index_level_0__'],\n",
       "    num_rows: 2236\n",
       "})"
      ]
     },
     "execution_count": 13,
     "metadata": {},
     "output_type": "execute_result"
    }
   ],
   "source": [
    "promptS_ds = ds_subset(dataset, exclude_idxs=exclude_idxs, columns=[0, 1, 2])\n",
    "promptS_ds"
   ]
  },
  {
   "cell_type": "code",
   "execution_count": 16,
   "metadata": {
    "execution": {
     "iopub.execute_input": "2024-09-11T23:06:11.442082Z",
     "iopub.status.busy": "2024-09-11T23:06:11.441679Z",
     "iopub.status.idle": "2024-09-12T00:17:18.158404Z",
     "shell.execute_reply": "2024-09-12T00:17:18.157636Z",
     "shell.execute_reply.started": "2024-09-11T23:06:11.442062Z"
    }
   },
   "outputs": [
    {
     "data": {
      "application/vnd.jupyter.widget-view+json": {
       "model_id": "8af4b803118f416595b1a232389e48f4",
       "version_major": 2,
       "version_minor": 0
      },
      "text/plain": [
       "Map:   0%|          | 0/2236 [00:00<?, ? examples/s]"
      ]
     },
     "metadata": {},
     "output_type": "display_data"
    },
    {
     "name": "stdout",
     "output_type": "stream",
     "text": [
      "[{'role': 'user', 'content': \"Instruct: label the following TEXT with a single word: negative, positive, or neutral. If the amount of money is not explicitly increasing or decreasing, respond with neutral.\\nTEXT: For the last quarter of 2010 , Componenta 's net sales doubled to EUR131m from EUR76m for the same period a year earlier , while it moved to a zero pre-tax profit from a pre-tax loss of EUR7m .\\nlabel the TEXT with a single word: negative, positive, or neutral. If the amount of money is not explicitly increasing or decreasing, respond with neutral.\"}, {'role': 'assistant', 'content': 'positive'}, {'role': 'user', 'content': 'Instruct: label the following TEXT with a single word: negative, positive, or neutral. If the amount of money is not explicitly increasing or decreasing, respond with neutral.\\nTEXT: In the third quarter of 2010 , net sales increased by 5.2 % to EUR 205.5 mn , and operating profit by 34.9 % to EUR 23.5 mn .\\nlabel the TEXT with a single word: negative, positive, or neutral. If the amount of money is not explicitly increasing or decreasing, respond with neutral.'}, {'role': 'assistant', 'content': 'positive'}, {'role': 'user', 'content': 'Instruct: label the following TEXT with a single word: negative, positive, or neutral. If the amount of money is not explicitly increasing or decreasing, respond with neutral.\\nTEXT: Operating profit rose to EUR 13.1 mn from EUR 8.7 mn in the corresponding period in 2007 representing 7.7 % of net sales .\\nlabel the TEXT with a single word: negative, positive, or neutral. If the amount of money is not explicitly increasing or decreasing, respond with neutral.'}, {'role': 'assistant', 'content': 'positive'}, {'role': 'user', 'content': 'Instruct: label the following TEXT with a single word: negative, positive, or neutral. If the amount of money is not explicitly increasing or decreasing, respond with neutral.\\nTEXT: Operating profit totalled EUR 21.1 mn , up from EUR 18.6 mn in 2007 , representing 9.7 % of net sales .\\nlabel the TEXT with a single word: negative, positive, or neutral. If the amount of money is not explicitly increasing or decreasing, respond with neutral.'}, {'role': 'assistant', 'content': 'positive'}, {'role': 'user', 'content': 'Instruct: label the following TEXT with a single word: negative, positive, or neutral. If the amount of money is not explicitly increasing or decreasing, respond with neutral.\\nTEXT: Finnish Talentum reports its operating profit increased to EUR 20.5 mn in 2005 from EUR 9.3 mn in 2004 , and net sales totaled EUR 103.3 mn , up from EUR 96.4 mn .\\nlabel the TEXT with a single word: negative, positive, or neutral. If the amount of money is not explicitly increasing or decreasing, respond with neutral.'}, {'role': 'assistant', 'content': 'positive'}, {'role': 'user', 'content': 'Instruct: label the following TEXT with a single word: negative, positive, or neutral. If the amount of money is not explicitly increasing or decreasing, respond with neutral.\\nTEXT: Jan. 6 -- Ford is struggling in the face of slowing truck and SUV sales and a surfeit of up-to-date , gotta-have cars .\\nlabel the TEXT with a single word: negative, positive, or neutral. If the amount of money is not explicitly increasing or decreasing, respond with neutral.'}, {'role': 'assistant', 'content': 'negative'}, {'role': 'user', 'content': 'Instruct: label the following TEXT with a single word: negative, positive, or neutral. If the amount of money is not explicitly increasing or decreasing, respond with neutral.\\nTEXT: Pharmaceuticals group Orion Corp reported a fall in its third-quarter earnings that were hit by larger expenditures on R&D and marketing .\\nlabel the TEXT with a single word: negative, positive, or neutral. If the amount of money is not explicitly increasing or decreasing, respond with neutral.'}, {'role': 'assistant', 'content': 'negative'}, {'role': 'user', 'content': 'Instruct: label the following TEXT with a single word: negative, positive, or neutral. If the amount of money is not explicitly increasing or decreasing, respond with neutral.\\nTEXT: However , the growth margin slowed down due to the financial crisis .\\nlabel the TEXT with a single word: negative, positive, or neutral. If the amount of money is not explicitly increasing or decreasing, respond with neutral.'}, {'role': 'assistant', 'content': 'negative'}, {'role': 'user', 'content': 'Instruct: label the following TEXT with a single word: negative, positive, or neutral. If the amount of money is not explicitly increasing or decreasing, respond with neutral.\\nTEXT: 2009 3 February 2010 - Finland-based steel maker Rautaruukki Oyj ( HEL : RTRKS ) , or Ruukki , said today it slipped to a larger-than-expected pretax loss of EUR46m in the fourth quarter of 2009 from a year-earlier profit of EUR45m .\\nlabel the TEXT with a single word: negative, positive, or neutral. If the amount of money is not explicitly increasing or decreasing, respond with neutral.'}, {'role': 'assistant', 'content': 'negative'}, {'role': 'user', 'content': 'Instruct: label the following TEXT with a single word: negative, positive, or neutral. If the amount of money is not explicitly increasing or decreasing, respond with neutral.\\nTEXT: ( ADPnews ) - Feb 3 , 2010 - Finland-based steel maker Rautaruukki Oyj ( HEL : RTRKS ) , or Ruukki , said today it slipped to a larger-than-expected pretax loss of EUR 46 million ( USD 64.5 m ) in the fourth quarter of 2009 from a\\nlabel the TEXT with a single word: negative, positive, or neutral. If the amount of money is not explicitly increasing or decreasing, respond with neutral.'}, {'role': 'assistant', 'content': 'negative'}, {'role': 'user', 'content': 'Instruct: label the following TEXT with a single word: negative, positive, or neutral. If the amount of money is not explicitly increasing or decreasing, respond with neutral.\\nTEXT: According to Gran , the company has no plans to move all production to Russia , although that is where the company is growing .\\nlabel the TEXT with a single word: negative, positive, or neutral. If the amount of money is not explicitly increasing or decreasing, respond with neutral.'}, {'role': 'assistant', 'content': 'neutral'}, {'role': 'user', 'content': \"Instruct: label the following TEXT with a single word: negative, positive, or neutral. If the amount of money is not explicitly increasing or decreasing, respond with neutral.\\nTEXT: At the request of Finnish media company Alma Media 's newspapers , research manager Jari Kaivo-oja at the Finland Futures Research Centre at the Turku School of Economics has drawn up a future scenario for Finland 's national economy by using a model developed by the University of Denver .\\nlabel the TEXT with a single word: negative, positive, or neutral. If the amount of money is not explicitly increasing or decreasing, respond with neutral.\"}, {'role': 'assistant', 'content': 'neutral'}, {'role': 'user', 'content': 'Instruct: label the following TEXT with a single word: negative, positive, or neutral. If the amount of money is not explicitly increasing or decreasing, respond with neutral.\\nTEXT: STOCK EXCHANGE ANNOUNCEMENT 20 July 2006 1 ( 1 ) BASWARE SHARE SUBSCRIPTIONS WITH WARRANTS AND INCREASE IN SHARE CAPITAL A total of 119 850 shares have been subscribed with BasWare Warrant Program .\\nlabel the TEXT with a single word: negative, positive, or neutral. If the amount of money is not explicitly increasing or decreasing, respond with neutral.'}, {'role': 'assistant', 'content': 'neutral'}, {'role': 'user', 'content': 'Instruct: label the following TEXT with a single word: negative, positive, or neutral. If the amount of money is not explicitly increasing or decreasing, respond with neutral.\\nTEXT: A maximum of 666,104 new shares can further be subscribed for by exercising B options under the 2004 stock option plan .\\nlabel the TEXT with a single word: negative, positive, or neutral. If the amount of money is not explicitly increasing or decreasing, respond with neutral.'}, {'role': 'assistant', 'content': 'neutral'}, {'role': 'user', 'content': 'Instruct: label the following TEXT with a single word: negative, positive, or neutral. If the amount of money is not explicitly increasing or decreasing, respond with neutral.\\nTEXT: Tiimari operates 194 stores in six countries -- including its core Finnish market -- and generated a turnover of 76.5 mln eur in 2005 .\\nlabel the TEXT with a single word: negative, positive, or neutral. If the amount of money is not explicitly increasing or decreasing, respond with neutral.'}, {'role': 'assistant', 'content': 'neutral'}, {'role': 'user', 'content': 'Instruct: label the following TEXT with a single word: negative, positive, or neutral. If the amount of money is not explicitly increasing or decreasing, respond with neutral.\\nTEXT: Finnish Talvivaara Mining Co HEL : TLV1V said Thursday it had picked BofA Merrill Lynch and JPMorgan NYSE : JPM as joint bookrunners of its planned issue of convertible notes worth up to EUR250m USD332m .\\nlabel the TEXT with a single word: negative, positive, or neutral. If the amount of money is not explicitly increasing or decreasing, respond with neutral.'}, {'role': 'assistant', 'content': 'neutral'}, {'role': 'user', 'content': 'Instruct: label the following TEXT with a single word: negative, positive, or neutral. If the amount of money is not explicitly increasing or decreasing, respond with neutral.\\nTEXT: The mall is part of the Baltic Pearl development project in the city of St Petersburg , where Baltic Pearl CJSC , a subsidiary of Shanghai Foreign Joint Investment Company , is developing homes for 35,000 people .\\nlabel the TEXT with a single word: negative, positive, or neutral. If the amount of money is not explicitly increasing or decreasing, respond with neutral.'}, {'role': 'assistant', 'content': 'neutral'}, {'role': 'user', 'content': 'Instruct: label the following TEXT with a single word: negative, positive, or neutral. If the amount of money is not explicitly increasing or decreasing, respond with neutral.\\nTEXT: Vacon controls a further 5 % of the company via investment fund Power Fund I. EUR 1.0 = USD 1.397\\nlabel the TEXT with a single word: negative, positive, or neutral. If the amount of money is not explicitly increasing or decreasing, respond with neutral.'}, {'role': 'assistant', 'content': 'neutral'}, {'role': 'user', 'content': 'Instruct: label the following TEXT with a single word: negative, positive, or neutral. If the amount of money is not explicitly increasing or decreasing, respond with neutral.\\nTEXT: 4 ) Complete name of the shareholder : Otto Henrik Bernhard Nyberg 5 ) Further information : The amount of shares now transferred corresponds to 5.68 % of the total number of shares in Aspo Plc. .\\nlabel the TEXT with a single word: negative, positive, or neutral. If the amount of money is not explicitly increasing or decreasing, respond with neutral.'}, {'role': 'assistant', 'content': 'neutral'}, {'role': 'user', 'content': 'Instruct: label the following TEXT with a single word: negative, positive, or neutral. If the amount of money is not explicitly increasing or decreasing, respond with neutral.\\nTEXT: It has some 30 offices worldwide and more than 90 pct of its net sales are generated outside Finland .\\nlabel the TEXT with a single word: negative, positive, or neutral. If the amount of money is not explicitly increasing or decreasing, respond with neutral.'}, {'role': 'assistant', 'content': 'neutral'}, {'role': 'user', 'content': 'Instruct: label the following TEXT with a single word: negative, positive, or neutral. If the amount of money is not explicitly increasing or decreasing, respond with neutral.\\nTEXT: The contract value amounts to about EUR11m , the company added .\\nlabel the TEXT with a single word: negative, positive, or neutral. If the amount of money is not explicitly increasing or decreasing, respond with neutral.'}, {'role': 'assistant', 'content': 'neutral'}, {'role': 'user', 'content': 'Instruct: label the following TEXT with a single word: negative, positive, or neutral. If the amount of money is not explicitly increasing or decreasing, respond with neutral.\\nTEXT: The business to be divested generates consolidated net sales of EUR 60 million annually and currently has some 640 employees .\\nlabel the TEXT with a single word: negative, positive, or neutral. If the amount of money is not explicitly increasing or decreasing, respond with neutral.'}, {'role': 'assistant', 'content': 'neutral'}, {'role': 'user', 'content': 'Instruct: label the following TEXT with a single word: negative, positive, or neutral. If the amount of money is not explicitly increasing or decreasing, respond with neutral.\\nTEXT: The company generates net sales of about 600 mln euro $ 775.5 mln annually and employs 6,000 .\\nlabel the TEXT with a single word: negative, positive, or neutral. If the amount of money is not explicitly increasing or decreasing, respond with neutral.'}, {'role': 'assistant', 'content': 'neutral'}, {'role': 'user', 'content': 'Instruct: label the following TEXT with a single word: negative, positive, or neutral. If the amount of money is not explicitly increasing or decreasing, respond with neutral.\\nTEXT: The contract covers the manufacturing , surface-treatment and installation of the steel structures .\\nlabel the TEXT with a single word: negative, positive, or neutral. If the amount of money is not explicitly increasing or decreasing, respond with neutral.'}, {'role': 'assistant', 'content': 'neutral'}, {'role': 'user', 'content': 'Instruct: label the following TEXT with a single word: negative, positive, or neutral. If the amount of money is not explicitly increasing or decreasing, respond with neutral.\\nTEXT: The order also includes start-up and commissioning services .\\nlabel the TEXT with a single word: negative, positive, or neutral. If the amount of money is not explicitly increasing or decreasing, respond with neutral.'}, {'role': 'assistant', 'content': 'neutral'}, {'role': 'user', 'content': 'Instruct: label the following TEXT with a single word: negative, positive, or neutral. If the amount of money is not explicitly increasing or decreasing, respond with neutral.\\nTEXT: The phones are targeted at first time users in growth markets .\\nlabel the TEXT with a single word: negative, positive, or neutral. If the amount of money is not explicitly increasing or decreasing, respond with neutral.'}, {'role': 'assistant', 'content': 'neutral'}, {'role': 'user', 'content': 'Instruct: label the following TEXT with a single word: negative, positive, or neutral. If the amount of money is not explicitly increasing or decreasing, respond with neutral.\\nTEXT: Tielinja generated net sales of 7.5 mln euro $ 9.6 mln in 2005 .\\nlabel the TEXT with a single word: negative, positive, or neutral. If the amount of money is not explicitly increasing or decreasing, respond with neutral.'}, {'role': 'assistant', 'content': 'neutral'}, {'role': 'user', 'content': 'Instruct: label the following TEXT with a single word: negative, positive, or neutral. If the amount of money is not explicitly increasing or decreasing, respond with neutral.\\nTEXT: Tikkurila Powder Coatings has some 50 employees at its four paint plants , which generated revenues of EUR2 .4 m USD3 .3 m in 2010 .\\nlabel the TEXT with a single word: negative, positive, or neutral. If the amount of money is not explicitly increasing or decreasing, respond with neutral.'}, {'role': 'assistant', 'content': 'neutral'}, {'role': 'user', 'content': \"Instruct: label the following TEXT with a single word: negative, positive, or neutral. If the amount of money is not explicitly increasing or decreasing, respond with neutral.\\nTEXT: Clothing retail chain Sepp+ñl+ñ 's sales increased by 8 % to EUR 155.2 mn , and operating profit rose to EUR 31.1 mn from EUR 17.1 mn in 2004 .\\nlabel the TEXT with a single word: negative, positive, or neutral. If the amount of money is not explicitly increasing or decreasing, respond with neutral.\"}]\n"
     ]
    },
    {
     "name": "stderr",
     "output_type": "stream",
     "text": [
      "You are not running the flash-attention implementation, expect numerical differences.\n",
      "You seem to be using the pipelines sequentially on GPU. In order to maximize efficiency please use a dataset\n"
     ]
    }
   ],
   "source": [
    "df, acc = few_shot_responses(promptS_ds, promptP, examples)"
   ]
  },
  {
   "cell_type": "markdown",
   "metadata": {},
   "source": [
    "Interestingly, that decreases the overall accuracy by about 0.7%."
   ]
  },
  {
   "cell_type": "code",
   "execution_count": 17,
   "metadata": {
    "execution": {
     "iopub.execute_input": "2024-09-12T00:17:18.160494Z",
     "iopub.status.busy": "2024-09-12T00:17:18.159663Z",
     "iopub.status.idle": "2024-09-12T00:17:18.164052Z",
     "shell.execute_reply": "2024-09-12T00:17:18.163692Z",
     "shell.execute_reply.started": "2024-09-12T00:17:18.160493Z"
    }
   },
   "outputs": [
    {
     "data": {
      "text/plain": [
       "0.932468694096601"
      ]
     },
     "execution_count": 17,
     "metadata": {},
     "output_type": "execute_result"
    }
   ],
   "source": [
    "acc"
   ]
  },
  {
   "cell_type": "markdown",
   "metadata": {},
   "source": [
    "Compared to Prompt R, this prompt yields fewer correct `negative` and `positive` sentences. It classifies 3 more `neutral` sentences correctly,\n",
    "but that doesn't make up for the loss in performance of the other two sentiments."
   ]
  },
  {
   "cell_type": "code",
   "execution_count": 18,
   "metadata": {
    "execution": {
     "iopub.execute_input": "2024-09-12T00:17:18.165245Z",
     "iopub.status.busy": "2024-09-12T00:17:18.164692Z",
     "iopub.status.idle": "2024-09-12T00:17:18.261091Z",
     "shell.execute_reply": "2024-09-12T00:17:18.260416Z",
     "shell.execute_reply.started": "2024-09-12T00:17:18.165227Z"
    }
   },
   "outputs": [
    {
     "data": {
      "image/png": "[encoded data removed]",
      "text/plain": [
       "<Figure size 576x576 with 1 Axes>"
      ]
     },
     "metadata": {
      "needs_background": "light"
     },
     "output_type": "display_data"
    }
   ],
   "source": [
    "make_cm(df)"
   ]
  },
  {
   "cell_type": "code",
   "execution_count": 19,
   "metadata": {
    "execution": {
     "iopub.execute_input": "2024-09-12T00:17:18.262758Z",
     "iopub.status.busy": "2024-09-12T00:17:18.262199Z",
     "iopub.status.idle": "2024-09-12T00:17:18.291122Z",
     "shell.execute_reply": "2024-09-12T00:17:18.290537Z",
     "shell.execute_reply.started": "2024-09-12T00:17:18.262735Z"
    }
   },
   "outputs": [],
   "source": [
    "df.to_csv('/notebooks/phi-3-5_S.csv', index=False)"
   ]
  },
  {
   "cell_type": "markdown",
   "metadata": {},
   "source": [
    "## Prompt T"
   ]
  },
  {
   "cell_type": "markdown",
   "metadata": {},
   "source": [
    "I noticed in the Prompt R results that 14 sentences were classified as something \"other\" than `neutral`, `positive`, or `negative`. \n",
    "Instead of asking the model to respond with `negative`, `neutral` or `positive`, I'll ask it to respond with `0`, `1` or `2` and see if that simplification\n",
    "yields better results."
   ]
  },
  {
   "cell_type": "code",
   "execution_count": 12,
   "metadata": {
    "execution": {
     "iopub.execute_input": "2024-09-12T01:34:01.388228Z",
     "iopub.status.busy": "2024-09-12T01:34:01.387905Z",
     "iopub.status.idle": "2024-09-12T01:34:01.391702Z",
     "shell.execute_reply": "2024-09-12T01:34:01.391004Z",
     "shell.execute_reply.started": "2024-09-12T01:34:01.388205Z"
    }
   },
   "outputs": [],
   "source": [
    "promptT = \"\"\"Instruct: label the following TEXT with a single integer: 0 (negative), 1 (neutral), or 2 (positive). If the amount of money is not explicitly increasing or decreasing, respond with 1 (neutral).\n",
    "TEXT: {text}\n",
    "label the TEXT with a single integer: 0 (negative), 1 (neutral), or 2 (positive). If the amount of money is not explicitly increasing or decreasing, respond with 1 (neutral).\"\"\""
   ]
  },
  {
   "cell_type": "code",
   "execution_count": 13,
   "metadata": {
    "execution": {
     "iopub.execute_input": "2024-09-12T01:34:03.622214Z",
     "iopub.status.busy": "2024-09-12T01:34:03.621934Z",
     "iopub.status.idle": "2024-09-12T01:34:03.626463Z",
     "shell.execute_reply": "2024-09-12T01:34:03.625666Z",
     "shell.execute_reply.started": "2024-09-12T01:34:03.622197Z"
    }
   },
   "outputs": [
    {
     "name": "stdout",
     "output_type": "stream",
     "text": [
      "Instruct: label the following TEXT with a single integer: 0 (negative), 1 (neutral), or 2 (positive). If the amount of money is not explicitly increasing or decreasing, respond with 1 (neutral).\n",
      "TEXT: {text}\n",
      "label the TEXT with a single integer: 0 (negative), 1 (neutral), or 2 (positive). If the amount of money is not explicitly increasing or decreasing, respond with 1 (neutral).\n"
     ]
    }
   ],
   "source": [
    "print(promptT)"
   ]
  },
  {
   "cell_type": "code",
   "execution_count": 14,
   "metadata": {
    "execution": {
     "iopub.execute_input": "2024-09-12T01:34:22.381354Z",
     "iopub.status.busy": "2024-09-12T01:34:22.381089Z",
     "iopub.status.idle": "2024-09-12T01:34:22.385225Z",
     "shell.execute_reply": "2024-09-12T01:34:22.384293Z",
     "shell.execute_reply.started": "2024-09-12T01:34:22.381335Z"
    }
   },
   "outputs": [],
   "source": [
    "exclude_idxs = [1, 2, 3, 4, 292, 293, 294, 347, 0, 37, 38, 39, 40, 263, 264, 265, 266, 270, 274, 283]"
   ]
  },
  {
   "cell_type": "code",
   "execution_count": 15,
   "metadata": {
    "execution": {
     "iopub.execute_input": "2024-09-12T01:34:25.112835Z",
     "iopub.status.busy": "2024-09-12T01:34:25.112025Z",
     "iopub.status.idle": "2024-09-12T01:34:25.118805Z",
     "shell.execute_reply": "2024-09-12T01:34:25.118378Z",
     "shell.execute_reply.started": "2024-09-12T01:34:25.112833Z"
    }
   },
   "outputs": [
    {
     "data": {
      "text/plain": [
       "((\"For the last quarter of 2010 , Componenta 's net sales doubled to EUR131m from EUR76m for the same period a year earlier , while it moved to a zero pre-tax profit from a pre-tax loss of EUR7m .\",\n",
       "  '2'),\n",
       " 20)"
      ]
     },
     "execution_count": 15,
     "metadata": {},
     "output_type": "execute_result"
    }
   ],
   "source": [
    "examples = []\n",
    "for idx in exclude_idxs:\n",
    "    examples.append((dataset[idx]['sentence'], str(dataset[idx]['label'])))\n",
    "\n",
    "examples[0], len(examples)"
   ]
  },
  {
   "cell_type": "code",
   "execution_count": 17,
   "metadata": {
    "execution": {
     "iopub.execute_input": "2024-09-12T01:34:36.148342Z",
     "iopub.status.busy": "2024-09-12T01:34:36.147870Z",
     "iopub.status.idle": "2024-09-12T01:34:36.153188Z",
     "shell.execute_reply": "2024-09-12T01:34:36.152697Z",
     "shell.execute_reply.started": "2024-09-12T01:34:36.148320Z"
    }
   },
   "outputs": [],
   "source": [
    "#| code-fold: true\n",
    "#| code-summary: \"Show updated `few_shot_responses` function\"\n",
    "def few_shot_responses(dataset, prompt, examples):\n",
    "    responses = []\n",
    "    dataset = dataset.map(add_prompt, fn_kwargs={\"prompt\": prompt})\n",
    "\n",
    "    few_shot_examples = []\n",
    "    \n",
    "    for example in examples:\n",
    "        few_shot_examples.append({\"role\": \"user\", \"content\": prompt.format(text=example[0])})\n",
    "        few_shot_examples.append({\"role\": \"assistant\", \"content\": example[1]})\n",
    "    \n",
    "    count = 0\n",
    "    for row in dataset:\n",
    "        count += 1\n",
    "        messages = few_shot_examples + [{\"role\": \"user\", \"content\": row['prompt']}]\n",
    "        \n",
    "        if count == 1: print(messages)\n",
    "        \n",
    "        generation_args = { \n",
    "            \"max_new_tokens\": 2, \n",
    "            \"return_full_text\": False, \n",
    "            \"temperature\": 0.1, \n",
    "            \"do_sample\": True, \n",
    "        } \n",
    "\n",
    "        response = pipe(messages, **generation_args) \n",
    "        responses.append(response[0]['generated_text'].strip().lower())\n",
    "        \n",
    "    # calculate accuracy\n",
    "    df = dataset.to_pandas()\n",
    "    df['responses'] = pd.Series(responses)\n",
    "    return df"
   ]
  },
  {
   "cell_type": "code",
   "execution_count": 18,
   "metadata": {
    "execution": {
     "iopub.execute_input": "2024-09-12T01:34:43.182534Z",
     "iopub.status.busy": "2024-09-12T01:34:43.181702Z",
     "iopub.status.idle": "2024-09-12T02:38:46.349392Z",
     "shell.execute_reply": "2024-09-12T02:38:46.348932Z",
     "shell.execute_reply.started": "2024-09-12T01:34:43.182504Z"
    }
   },
   "outputs": [
    {
     "data": {
      "application/vnd.jupyter.widget-view+json": {
       "model_id": "536369ac3fd9438cbdc294fff1150de8",
       "version_major": 2,
       "version_minor": 0
      },
      "text/plain": [
       "Map:   0%|          | 0/2244 [00:00<?, ? examples/s]"
      ]
     },
     "metadata": {},
     "output_type": "display_data"
    },
    {
     "name": "stdout",
     "output_type": "stream",
     "text": [
      "[{'role': 'user', 'content': \"Instruct: label the following TEXT with a single integer: 0 (negative), 1 (neutral), or 2 (positive). If the amount of money is not explicitly increasing or decreasing, respond with 1 (neutral).\\nTEXT: For the last quarter of 2010 , Componenta 's net sales doubled to EUR131m from EUR76m for the same period a year earlier , while it moved to a zero pre-tax profit from a pre-tax loss of EUR7m .\\nlabel the TEXT with a single integer: 0 (negative), 1 (neutral), or 2 (positive). If the amount of money is not explicitly increasing or decreasing, respond with 1 (neutral).\"}, {'role': 'assistant', 'content': '2'}, {'role': 'user', 'content': 'Instruct: label the following TEXT with a single integer: 0 (negative), 1 (neutral), or 2 (positive). If the amount of money is not explicitly increasing or decreasing, respond with 1 (neutral).\\nTEXT: In the third quarter of 2010 , net sales increased by 5.2 % to EUR 205.5 mn , and operating profit by 34.9 % to EUR 23.5 mn .\\nlabel the TEXT with a single integer: 0 (negative), 1 (neutral), or 2 (positive). If the amount of money is not explicitly increasing or decreasing, respond with 1 (neutral).'}, {'role': 'assistant', 'content': '2'}, {'role': 'user', 'content': 'Instruct: label the following TEXT with a single integer: 0 (negative), 1 (neutral), or 2 (positive). If the amount of money is not explicitly increasing or decreasing, respond with 1 (neutral).\\nTEXT: Operating profit rose to EUR 13.1 mn from EUR 8.7 mn in the corresponding period in 2007 representing 7.7 % of net sales .\\nlabel the TEXT with a single integer: 0 (negative), 1 (neutral), or 2 (positive). If the amount of money is not explicitly increasing or decreasing, respond with 1 (neutral).'}, {'role': 'assistant', 'content': '2'}, {'role': 'user', 'content': 'Instruct: label the following TEXT with a single integer: 0 (negative), 1 (neutral), or 2 (positive). If the amount of money is not explicitly increasing or decreasing, respond with 1 (neutral).\\nTEXT: Operating profit totalled EUR 21.1 mn , up from EUR 18.6 mn in 2007 , representing 9.7 % of net sales .\\nlabel the TEXT with a single integer: 0 (negative), 1 (neutral), or 2 (positive). If the amount of money is not explicitly increasing or decreasing, respond with 1 (neutral).'}, {'role': 'assistant', 'content': '2'}, {'role': 'user', 'content': 'Instruct: label the following TEXT with a single integer: 0 (negative), 1 (neutral), or 2 (positive). If the amount of money is not explicitly increasing or decreasing, respond with 1 (neutral).\\nTEXT: Jan. 6 -- Ford is struggling in the face of slowing truck and SUV sales and a surfeit of up-to-date , gotta-have cars .\\nlabel the TEXT with a single integer: 0 (negative), 1 (neutral), or 2 (positive). If the amount of money is not explicitly increasing or decreasing, respond with 1 (neutral).'}, {'role': 'assistant', 'content': '0'}, {'role': 'user', 'content': 'Instruct: label the following TEXT with a single integer: 0 (negative), 1 (neutral), or 2 (positive). If the amount of money is not explicitly increasing or decreasing, respond with 1 (neutral).\\nTEXT: Pharmaceuticals group Orion Corp reported a fall in its third-quarter earnings that were hit by larger expenditures on R&D and marketing .\\nlabel the TEXT with a single integer: 0 (negative), 1 (neutral), or 2 (positive). If the amount of money is not explicitly increasing or decreasing, respond with 1 (neutral).'}, {'role': 'assistant', 'content': '0'}, {'role': 'user', 'content': 'Instruct: label the following TEXT with a single integer: 0 (negative), 1 (neutral), or 2 (positive). If the amount of money is not explicitly increasing or decreasing, respond with 1 (neutral).\\nTEXT: However , the growth margin slowed down due to the financial crisis .\\nlabel the TEXT with a single integer: 0 (negative), 1 (neutral), or 2 (positive). If the amount of money is not explicitly increasing or decreasing, respond with 1 (neutral).'}, {'role': 'assistant', 'content': '0'}, {'role': 'user', 'content': 'Instruct: label the following TEXT with a single integer: 0 (negative), 1 (neutral), or 2 (positive). If the amount of money is not explicitly increasing or decreasing, respond with 1 (neutral).\\nTEXT: 2009 3 February 2010 - Finland-based steel maker Rautaruukki Oyj ( HEL : RTRKS ) , or Ruukki , said today it slipped to a larger-than-expected pretax loss of EUR46m in the fourth quarter of 2009 from a year-earlier profit of EUR45m .\\nlabel the TEXT with a single integer: 0 (negative), 1 (neutral), or 2 (positive). If the amount of money is not explicitly increasing or decreasing, respond with 1 (neutral).'}, {'role': 'assistant', 'content': '0'}, {'role': 'user', 'content': 'Instruct: label the following TEXT with a single integer: 0 (negative), 1 (neutral), or 2 (positive). If the amount of money is not explicitly increasing or decreasing, respond with 1 (neutral).\\nTEXT: According to Gran , the company has no plans to move all production to Russia , although that is where the company is growing .\\nlabel the TEXT with a single integer: 0 (negative), 1 (neutral), or 2 (positive). If the amount of money is not explicitly increasing or decreasing, respond with 1 (neutral).'}, {'role': 'assistant', 'content': '1'}, {'role': 'user', 'content': \"Instruct: label the following TEXT with a single integer: 0 (negative), 1 (neutral), or 2 (positive). If the amount of money is not explicitly increasing or decreasing, respond with 1 (neutral).\\nTEXT: At the request of Finnish media company Alma Media 's newspapers , research manager Jari Kaivo-oja at the Finland Futures Research Centre at the Turku School of Economics has drawn up a future scenario for Finland 's national economy by using a model developed by the University of Denver .\\nlabel the TEXT with a single integer: 0 (negative), 1 (neutral), or 2 (positive). If the amount of money is not explicitly increasing or decreasing, respond with 1 (neutral).\"}, {'role': 'assistant', 'content': '1'}, {'role': 'user', 'content': 'Instruct: label the following TEXT with a single integer: 0 (negative), 1 (neutral), or 2 (positive). If the amount of money is not explicitly increasing or decreasing, respond with 1 (neutral).\\nTEXT: STOCK EXCHANGE ANNOUNCEMENT 20 July 2006 1 ( 1 ) BASWARE SHARE SUBSCRIPTIONS WITH WARRANTS AND INCREASE IN SHARE CAPITAL A total of 119 850 shares have been subscribed with BasWare Warrant Program .\\nlabel the TEXT with a single integer: 0 (negative), 1 (neutral), or 2 (positive). If the amount of money is not explicitly increasing or decreasing, respond with 1 (neutral).'}, {'role': 'assistant', 'content': '1'}, {'role': 'user', 'content': 'Instruct: label the following TEXT with a single integer: 0 (negative), 1 (neutral), or 2 (positive). If the amount of money is not explicitly increasing or decreasing, respond with 1 (neutral).\\nTEXT: A maximum of 666,104 new shares can further be subscribed for by exercising B options under the 2004 stock option plan .\\nlabel the TEXT with a single integer: 0 (negative), 1 (neutral), or 2 (positive). If the amount of money is not explicitly increasing or decreasing, respond with 1 (neutral).'}, {'role': 'assistant', 'content': '1'}, {'role': 'user', 'content': 'Instruct: label the following TEXT with a single integer: 0 (negative), 1 (neutral), or 2 (positive). If the amount of money is not explicitly increasing or decreasing, respond with 1 (neutral).\\nTEXT: Tiimari operates 194 stores in six countries -- including its core Finnish market -- and generated a turnover of 76.5 mln eur in 2005 .\\nlabel the TEXT with a single integer: 0 (negative), 1 (neutral), or 2 (positive). If the amount of money is not explicitly increasing or decreasing, respond with 1 (neutral).'}, {'role': 'assistant', 'content': '1'}, {'role': 'user', 'content': 'Instruct: label the following TEXT with a single integer: 0 (negative), 1 (neutral), or 2 (positive). If the amount of money is not explicitly increasing or decreasing, respond with 1 (neutral).\\nTEXT: Finnish Talvivaara Mining Co HEL : TLV1V said Thursday it had picked BofA Merrill Lynch and JPMorgan NYSE : JPM as joint bookrunners of its planned issue of convertible notes worth up to EUR250m USD332m .\\nlabel the TEXT with a single integer: 0 (negative), 1 (neutral), or 2 (positive). If the amount of money is not explicitly increasing or decreasing, respond with 1 (neutral).'}, {'role': 'assistant', 'content': '1'}, {'role': 'user', 'content': 'Instruct: label the following TEXT with a single integer: 0 (negative), 1 (neutral), or 2 (positive). If the amount of money is not explicitly increasing or decreasing, respond with 1 (neutral).\\nTEXT: The mall is part of the Baltic Pearl development project in the city of St Petersburg , where Baltic Pearl CJSC , a subsidiary of Shanghai Foreign Joint Investment Company , is developing homes for 35,000 people .\\nlabel the TEXT with a single integer: 0 (negative), 1 (neutral), or 2 (positive). If the amount of money is not explicitly increasing or decreasing, respond with 1 (neutral).'}, {'role': 'assistant', 'content': '1'}, {'role': 'user', 'content': 'Instruct: label the following TEXT with a single integer: 0 (negative), 1 (neutral), or 2 (positive). If the amount of money is not explicitly increasing or decreasing, respond with 1 (neutral).\\nTEXT: Vacon controls a further 5 % of the company via investment fund Power Fund I. EUR 1.0 = USD 1.397\\nlabel the TEXT with a single integer: 0 (negative), 1 (neutral), or 2 (positive). If the amount of money is not explicitly increasing or decreasing, respond with 1 (neutral).'}, {'role': 'assistant', 'content': '1'}, {'role': 'user', 'content': 'Instruct: label the following TEXT with a single integer: 0 (negative), 1 (neutral), or 2 (positive). If the amount of money is not explicitly increasing or decreasing, respond with 1 (neutral).\\nTEXT: 4 ) Complete name of the shareholder : Otto Henrik Bernhard Nyberg 5 ) Further information : The amount of shares now transferred corresponds to 5.68 % of the total number of shares in Aspo Plc. .\\nlabel the TEXT with a single integer: 0 (negative), 1 (neutral), or 2 (positive). If the amount of money is not explicitly increasing or decreasing, respond with 1 (neutral).'}, {'role': 'assistant', 'content': '1'}, {'role': 'user', 'content': 'Instruct: label the following TEXT with a single integer: 0 (negative), 1 (neutral), or 2 (positive). If the amount of money is not explicitly increasing or decreasing, respond with 1 (neutral).\\nTEXT: It has some 30 offices worldwide and more than 90 pct of its net sales are generated outside Finland .\\nlabel the TEXT with a single integer: 0 (negative), 1 (neutral), or 2 (positive). If the amount of money is not explicitly increasing or decreasing, respond with 1 (neutral).'}, {'role': 'assistant', 'content': '1'}, {'role': 'user', 'content': 'Instruct: label the following TEXT with a single integer: 0 (negative), 1 (neutral), or 2 (positive). If the amount of money is not explicitly increasing or decreasing, respond with 1 (neutral).\\nTEXT: The contract value amounts to about EUR11m , the company added .\\nlabel the TEXT with a single integer: 0 (negative), 1 (neutral), or 2 (positive). If the amount of money is not explicitly increasing or decreasing, respond with 1 (neutral).'}, {'role': 'assistant', 'content': '1'}, {'role': 'user', 'content': 'Instruct: label the following TEXT with a single integer: 0 (negative), 1 (neutral), or 2 (positive). If the amount of money is not explicitly increasing or decreasing, respond with 1 (neutral).\\nTEXT: The business to be divested generates consolidated net sales of EUR 60 million annually and currently has some 640 employees .\\nlabel the TEXT with a single integer: 0 (negative), 1 (neutral), or 2 (positive). If the amount of money is not explicitly increasing or decreasing, respond with 1 (neutral).'}, {'role': 'assistant', 'content': '1'}, {'role': 'user', 'content': 'Instruct: label the following TEXT with a single integer: 0 (negative), 1 (neutral), or 2 (positive). If the amount of money is not explicitly increasing or decreasing, respond with 1 (neutral).\\nTEXT: Finnish Talentum reports its operating profit increased to EUR 20.5 mn in 2005 from EUR 9.3 mn in 2004 , and net sales totaled EUR 103.3 mn , up from EUR 96.4 mn .\\nlabel the TEXT with a single integer: 0 (negative), 1 (neutral), or 2 (positive). If the amount of money is not explicitly increasing or decreasing, respond with 1 (neutral).'}]\n"
     ]
    },
    {
     "name": "stderr",
     "output_type": "stream",
     "text": [
      "You are not running the flash-attention implementation, expect numerical differences.\n",
      "You seem to be using the pipelines sequentially on GPU. In order to maximize efficiency please use a dataset\n"
     ]
    }
   ],
   "source": [
    "df = few_shot_responses(promptR_ds, promptT, examples)"
   ]
  },
  {
   "cell_type": "code",
   "execution_count": 32,
   "metadata": {
    "execution": {
     "iopub.execute_input": "2024-09-12T02:57:48.333200Z",
     "iopub.status.busy": "2024-09-12T02:57:48.332575Z",
     "iopub.status.idle": "2024-09-12T02:57:48.408877Z",
     "shell.execute_reply": "2024-09-12T02:57:48.408173Z",
     "shell.execute_reply.started": "2024-09-12T02:57:48.333177Z"
    }
   },
   "outputs": [],
   "source": [
    "df['responses'] = df['responses'].apply(lambda x: dataset.features[\"label\"].names[int(x)])\n",
    "df['lm_match'] = df['label_text'] == df['responses']\n",
    "acc = df['lm_match'].mean()"
   ]
  },
  {
   "cell_type": "markdown",
   "metadata": {},
   "source": [
    "Interestingly, this decreases the overall accuracy by almost 10%."
   ]
  },
  {
   "cell_type": "code",
   "execution_count": 33,
   "metadata": {
    "execution": {
     "iopub.execute_input": "2024-09-12T02:57:50.436174Z",
     "iopub.status.busy": "2024-09-12T02:57:50.435549Z",
     "iopub.status.idle": "2024-09-12T02:57:50.439853Z",
     "shell.execute_reply": "2024-09-12T02:57:50.439335Z",
     "shell.execute_reply.started": "2024-09-12T02:57:50.436152Z"
    }
   },
   "outputs": [
    {
     "data": {
      "text/plain": [
       "0.8453654188948306"
      ]
     },
     "execution_count": 33,
     "metadata": {},
     "output_type": "execute_result"
    }
   ],
   "source": [
    "acc"
   ]
  },
  {
   "cell_type": "markdown",
   "metadata": {},
   "source": [
    "While there are no `other` classifications, and `neutral` true positive rate increases (1378 > 1355), the rate for `negative` (232 < 286) and \n",
    "especially `positive` (287 < 467) sentiment decreases. The model classifies almost half of the `positive` sentences as `neutral`."
   ]
  },
  {
   "cell_type": "code",
   "execution_count": 34,
   "metadata": {
    "execution": {
     "iopub.execute_input": "2024-09-12T02:57:53.424305Z",
     "iopub.status.busy": "2024-09-12T02:57:53.423753Z",
     "iopub.status.idle": "2024-09-12T02:57:53.513084Z",
     "shell.execute_reply": "2024-09-12T02:57:53.512420Z",
     "shell.execute_reply.started": "2024-09-12T02:57:53.424283Z"
    }
   },
   "outputs": [
    {
     "data": {
      "image/png": "[encoded data removed]",
      "text/plain": [
       "<Figure size 576x576 with 1 Axes>"
      ]
     },
     "metadata": {
      "needs_background": "light"
     },
     "output_type": "display_data"
    }
   ],
   "source": [
    "make_cm(df)"
   ]
  },
  {
   "cell_type": "markdown",
   "metadata": {},
   "source": [
    "## Running Inference with the Best Prompt Multiple Times"
   ]
  },
  {
   "cell_type": "markdown",
   "metadata": {},
   "source": [
    "For phi-2 I ran the best-performing prompt 10 times to see if it consistently performed at a high accuracy. Inference with phi-3.5, given the 20 examples \n",
    "in each prompt, takes much longer:"
   ]
  },
  {
   "cell_type": "code",
   "execution_count": 9,
   "metadata": {
    "execution": {
     "iopub.execute_input": "2024-09-12T03:30:16.791487Z",
     "iopub.status.busy": "2024-09-12T03:30:16.790878Z",
     "iopub.status.idle": "2024-09-12T03:30:16.807315Z",
     "shell.execute_reply": "2024-09-12T03:30:16.806823Z",
     "shell.execute_reply.started": "2024-09-12T03:30:16.791467Z"
    }
   },
   "outputs": [],
   "source": [
    "exclude_idxs = [1, 2, 3, 4, 292, 293, 294, 347, 0, 37, 38, 39, 40, 263, 264, 265, 266, 270, 274, 283]"
   ]
  },
  {
   "cell_type": "code",
   "execution_count": 10,
   "metadata": {
    "execution": {
     "iopub.execute_input": "2024-09-12T03:30:16.808965Z",
     "iopub.status.busy": "2024-09-12T03:30:16.807960Z",
     "iopub.status.idle": "2024-09-12T03:30:16.863705Z",
     "shell.execute_reply": "2024-09-12T03:30:16.863255Z",
     "shell.execute_reply.started": "2024-09-12T03:30:16.808948Z"
    }
   },
   "outputs": [
    {
     "data": {
      "text/plain": [
       "Dataset({\n",
       "    features: ['sentence', 'label', 'label_text', '__index_level_0__'],\n",
       "    num_rows: 2244\n",
       "})"
      ]
     },
     "execution_count": 10,
     "metadata": {},
     "output_type": "execute_result"
    }
   ],
   "source": [
    "promptR_ds = ds_subset(dataset, exclude_idxs=exclude_idxs, columns=[0, 1, 2])\n",
    "promptR_ds"
   ]
  },
  {
   "cell_type": "code",
   "execution_count": 11,
   "metadata": {
    "execution": {
     "iopub.execute_input": "2024-09-12T03:30:16.865904Z",
     "iopub.status.busy": "2024-09-12T03:30:16.865196Z",
     "iopub.status.idle": "2024-09-12T03:30:16.872413Z",
     "shell.execute_reply": "2024-09-12T03:30:16.871997Z",
     "shell.execute_reply.started": "2024-09-12T03:30:16.865880Z"
    }
   },
   "outputs": [
    {
     "data": {
      "text/plain": [
       "20"
      ]
     },
     "execution_count": 11,
     "metadata": {},
     "output_type": "execute_result"
    }
   ],
   "source": [
    "examples = []\n",
    "for idx in exclude_idxs:\n",
    "    examples.append((dataset[idx]['sentence'], dataset[idx]['label_text']))\n",
    "\n",
    "len(examples)"
   ]
  },
  {
   "cell_type": "code",
   "execution_count": 12,
   "metadata": {
    "execution": {
     "iopub.execute_input": "2024-09-12T03:30:16.873663Z",
     "iopub.status.busy": "2024-09-12T03:30:16.873055Z",
     "iopub.status.idle": "2024-09-12T03:30:16.889046Z",
     "shell.execute_reply": "2024-09-12T03:30:16.888628Z",
     "shell.execute_reply.started": "2024-09-12T03:30:16.873646Z"
    }
   },
   "outputs": [],
   "source": [
    "promptP = \"\"\"Instruct: label the following TEXT with a single word: negative, positive, or neutral. If the amount of money is not explicitly increasing or decreasing, respond with neutral.\n",
    "TEXT: {text}\n",
    "label the TEXT with a single word: negative, positive, or neutral. If the amount of money is not explicitly increasing or decreasing, respond with neutral.\"\"\""
   ]
  },
  {
   "cell_type": "code",
   "execution_count": 13,
   "metadata": {
    "execution": {
     "iopub.execute_input": "2024-09-12T03:30:16.890414Z",
     "iopub.status.busy": "2024-09-12T03:30:16.889758Z",
     "iopub.status.idle": "2024-09-12T03:30:16.903267Z",
     "shell.execute_reply": "2024-09-12T03:30:16.902880Z",
     "shell.execute_reply.started": "2024-09-12T03:30:16.890396Z"
    }
   },
   "outputs": [
    {
     "name": "stdout",
     "output_type": "stream",
     "text": [
      "Instruct: label the following TEXT with a single word: negative, positive, or neutral. If the amount of money is not explicitly increasing or decreasing, respond with neutral.\n",
      "TEXT: {text}\n",
      "label the TEXT with a single word: negative, positive, or neutral. If the amount of money is not explicitly increasing or decreasing, respond with neutral.\n"
     ]
    }
   ],
   "source": [
    "print(promptP)"
   ]
  },
  {
   "cell_type": "code",
   "execution_count": 41,
   "metadata": {
    "execution": {
     "iopub.execute_input": "2024-09-12T03:19:14.300508Z",
     "iopub.status.busy": "2024-09-12T03:19:14.299964Z",
     "iopub.status.idle": "2024-09-12T03:19:14.304786Z",
     "shell.execute_reply": "2024-09-12T03:19:14.304229Z",
     "shell.execute_reply.started": "2024-09-12T03:19:14.300486Z"
    }
   },
   "outputs": [],
   "source": [
    "#| code-fold: true\n",
    "#| code-summary: \"Show `test_gen` function\"\n",
    "def test_gen(examples):\n",
    "    responses = []\n",
    "    \n",
    "    few_shot_examples = []\n",
    "    \n",
    "    for example in examples:\n",
    "        few_shot_examples.append({\"role\": \"user\", \"content\": promptP.format(text=example[0])})\n",
    "        few_shot_examples.append({\"role\": \"assistant\", \"content\": example[1]})\n",
    "        \n",
    "    messages = few_shot_examples + [{\"role\": \"user\", \"content\": promptP.format(text=dataset[0])}]\n",
    "\n",
    "\n",
    "    generation_args = { \n",
    "        \"max_new_tokens\": 2, \n",
    "        \"return_full_text\": False, \n",
    "        \"temperature\": 0.1, \n",
    "        \"do_sample\": True, \n",
    "    } \n",
    "\n",
    "    response = pipe(messages, **generation_args) \n",
    "    responses.append(response[0]['generated_text'].strip().lower())\n",
    "    return responses"
   ]
  },
  {
   "cell_type": "markdown",
   "metadata": {},
   "source": [
    "The model takes about 1.2 seconds to generate a response for a single dataset item, or about 45 minutes for the 2244 items (on a Paperspace Free-A4000). \n",
    "Given the 6 hour limit, the max I can do is run inference on the dataset 8 times. To be conservative, I'll do it 7 times."
   ]
  },
  {
   "cell_type": "code",
   "execution_count": 42,
   "metadata": {
    "execution": {
     "iopub.execute_input": "2024-09-12T03:19:20.396441Z",
     "iopub.status.busy": "2024-09-12T03:19:20.396171Z",
     "iopub.status.idle": "2024-09-12T03:20:44.274870Z",
     "shell.execute_reply": "2024-09-12T03:20:44.274234Z",
     "shell.execute_reply.started": "2024-09-12T03:19:20.396423Z"
    }
   },
   "outputs": [
    {
     "name": "stdout",
     "output_type": "stream",
     "text": [
      "1.2 s ± 14.5 ms per loop (mean ± std. dev. of 7 runs, 10 loops each)\n"
     ]
    }
   ],
   "source": [
    "%timeit -n 10 test_gen(examples)"
   ]
  },
  {
   "cell_type": "code",
   "execution_count": 14,
   "metadata": {
    "execution": {
     "iopub.execute_input": "2024-09-12T03:30:23.465527Z",
     "iopub.status.busy": "2024-09-12T03:30:23.465270Z",
     "iopub.status.idle": "2024-09-12T03:30:23.470717Z",
     "shell.execute_reply": "2024-09-12T03:30:23.470270Z",
     "shell.execute_reply.started": "2024-09-12T03:30:23.465509Z"
    }
   },
   "outputs": [],
   "source": [
    "#| code-fold: true\n",
    "#| code-summary: \"Show `few_shot_responses` function\"\n",
    "def few_shot_responses(dataset, prompt, examples):\n",
    "    responses = []\n",
    "    dataset = dataset.map(add_prompt, fn_kwargs={\"prompt\": prompt})\n",
    "\n",
    "    few_shot_examples = []\n",
    "    \n",
    "    for example in examples:\n",
    "        few_shot_examples.append({\"role\": \"user\", \"content\": prompt.format(text=example[0])})\n",
    "        few_shot_examples.append({\"role\": \"assistant\", \"content\": example[1]})\n",
    "    \n",
    "    for row in dataset:\n",
    "        messages = few_shot_examples + [{\"role\": \"user\", \"content\": row['prompt']}]\n",
    "        \n",
    "        generation_args = { \n",
    "            \"max_new_tokens\": 2, \n",
    "            \"return_full_text\": False, \n",
    "            \"temperature\": 0.1, \n",
    "            \"do_sample\": True, \n",
    "        } \n",
    "\n",
    "        response = pipe(messages, **generation_args) \n",
    "        responses.append(response[0]['generated_text'].strip().lower())\n",
    "        \n",
    "    # calculate accuracy\n",
    "    df = dataset.to_pandas()\n",
    "    df['responses'] = pd.Series(responses)\n",
    "    df['responses'] = df['responses'].apply(lambda x: x if x in ['negative', 'positive', 'neutral'] else \"other\")\n",
    "    df['lm_match'] = df['label_text'] == df['responses']\n",
    "    acc = df.lm_match.mean()\n",
    "    return df, acc"
   ]
  },
  {
   "cell_type": "code",
   "execution_count": null,
   "metadata": {},
   "outputs": [],
   "source": [
    "accs = []\n",
    "for _ in range(7):\n",
    "    df, acc = few_shot_responses(promptR_ds, promptP, examples)\n",
    "    accs.append(acc)"
   ]
  },
  {
   "cell_type": "markdown",
   "metadata": {},
   "source": [
    "The accuracy of this prompt is consistently around 93.9%. "
   ]
  },
  {
   "cell_type": "code",
   "execution_count": 3,
   "metadata": {
    "execution": {
     "iopub.execute_input": "2024-09-12T14:12:47.911188Z",
     "iopub.status.busy": "2024-09-12T14:12:47.910833Z",
     "iopub.status.idle": "2024-09-12T14:12:47.936470Z",
     "shell.execute_reply": "2024-09-12T14:12:47.935054Z",
     "shell.execute_reply.started": "2024-09-12T14:12:47.911161Z"
    }
   },
   "outputs": [
    {
     "data": {
      "text/plain": [
       "count    7.000000\n",
       "mean     0.939139\n",
       "std      0.000992\n",
       "min      0.937611\n",
       "25%      0.938503\n",
       "50%      0.939394\n",
       "75%      0.939840\n",
       "max      0.940285\n",
       "dtype: float64"
      ]
     },
     "execution_count": 3,
     "metadata": {},
     "output_type": "execute_result"
    }
   ],
   "source": [
    "pd.Series(accs).describe()"
   ]
  },
  {
   "cell_type": "markdown",
   "metadata": {},
   "source": [
    "## Final Thoughts"
   ]
  },
  {
   "cell_type": "markdown",
   "metadata": {},
   "source": [
    "Here is a summary of results including phi-2, phi-3, and the Claude family:\n",
    "\n",
    "|Model|Prompting Strategy|Overall Accuracy|`negative`|`neutral`|`positive`|\n",
    "|:-:|:-:|:-:|:-:|:-:|:-:|\n",
    "|claude-3-5-sonnet-20240620|3-Shot|94.78%|98% (297/303) | 94% (1302/1391)|95% (544/570)|\n",
    "|claude-3-opus-20240229|0-Shot|94.13%|98% (297/303)|96% (1333/1391)|88% (501/570)|\n",
    "|phi-3.5|20-Shot|93.94%|96% (286/299)|98% (1355/1379)|83% (467/566)|\n",
    "|phi-3|30-Shot w/System Prompt|92.79%|98% (290/297)|94% (1284/1373)|88% (499/564)|\n",
    "|claude-3-haiku-20240307|3-Shot|92.39%|90% (272/303)|91% (1267/1391)|96% (550/570)|\n",
    "|phi-2|6-Shot|91.94%|88% (267/302)|94% (1299/1387)|90% (510/569)|"
   ]
  },
  {
   "cell_type": "markdown",
   "metadata": {},
   "source": [
    "Here are the per-prompt results from this notebook (phi-3.5):\n",
    "\n",
    "|prompt|strategy|accuracy|negative|neutral|positive|\n",
    "|:-:|:-:|:-:|:-:|:-:|:-:|\n",
    "|[A](#prompt-A)|0-Shot|62.32%|98% (296/303)|43% (592/1391)|92% (523/570)|\n",
    "|[B](#prompt-B)|0-Shot|88.60%|96% (290/303)|87% (1215/1391)|88% (501/570)|\n",
    "|[C](#prompt-C)|0-Shot|83.48%|98% (298/303)|76% (1062/1391)|93% (530/570)|\n",
    "|[D](#prompt-D)|0-Shot|68.64%|99% (300/303)|51% (713/1391)|95% (541/570)|\n",
    "|[E](#prompt-E)|0-Shot|88.25%|96% (290/303)|87% (1207/1391)|88% (501/570)|\n",
    "|[F](#prompt-F)|3-Shot|84.65%|98% (296/302)|77% (1070/1390)|96% (548/569)|\n",
    "|[G](#prompt-G)|6-Shot|77.99%|98% (297/302)|66% (913/1387)|97% (551/569)|\n",
    "|[H](#prompt-H)|3-Shot|83.06%|98% (296/302)|74% (1028/1390)|97% (554/569)|\n",
    "|[I](#prompt-I)|3-Shot|51.61%|<u>**100% (302/302)**</u>|32% (447/1390)|73% (418/569)|\n",
    "|[J](#prompt-J)|3-Shot|85.94%|98% (296/302)|80% (1108/1390)|95% (539/569)|\n",
    "|[K](#prompt-K)|0-Shot|77.96%|98% (298/303)|66% (919/1391)|96% (548/570)|\n",
    "|[L](#prompt-L)|0-Shot|80.57%|98% (297/303)|70% (972/1391)|<u>**97% (555/570)**</u>|\n",
    "|[M](#prompt-M)|0-Shot|91.30%|97% (294/303)|90% (1257/1391)|91% (516/570)|\n",
    "|[N](#prompt-N)|0-Shot w/System Prompt|88.74%|97% (295/303)|85% (1184/1391)|93% (530/570)|\n",
    "|[O](#prompt-O)|0-Shot w/System Prompt|87.10%|94% (285/303)|83% (1156/1391)|93% (531/570)|\n",
    "|[P](#prompt-P)|0-Shot|92.23%|94% (285/303)|94% (1307/1391)|87% (496/570)|\n",
    "|[Q](#prompt-Q)|0-Shot|79.37%|99% (300/303)|73% (1009/1391)|86% (488/570)|\n",
    "|<u>**[R](#prompt-R)**</u>|<u>**20-Shot**</u>|<u>**93.94%**</u>|96% (286/299)|98% (1355/1379)|83% (467/566)|\n",
    "|[S](#prompt-S)|28-Shot|93.25%|94% (281/298)|99% (1358/1373)|79% (446/565)|\n",
    "|[T](#prompt-T)|20-Shot|84.54%|78% (232/299)|<u>**99.9% (1378/1379)**</u>|51% (287/566)|\n"
   ]
  },
  {
   "cell_type": "markdown",
   "metadata": {},
   "source": [
    "I ran inference for phi-3 and phi-3.5 in separate notebooks at the same time, so I have shared final thoughts for both:\n",
    "\n",
    "- **Few-shot prompting in a chat format is a different experience**: The sentence/label pairs have to be presented as a multi-turn conversation. For a large number of examples, this can lead to running out of GPU memory (as it did for 30-Shot prompting with phi-3.5).\n",
    "- **Few-shot example proportion matters**: I used a higher proportion of neutral examples in my 20-shot prompt since the majority of the dataset is made up of `neutral` sentences. Determining whether the proportion I used is optimal would require further experimentation.\n",
    "- **20-Shot phi-3.5 approaches Opus, Sonnet and GPT4 accuracy**: I was pleasantly surprised that phi-3.5 reached the 94% mark that was achieved by GPT4 ([in the original work](https://huggingface.co/blog/synthetic-data-save-costs) by Moritz Laurer), and 3-Opus and 3.5-Sonnet in [my previous experiments](https://vishalbakshi.github.io/blog/posts/2024-08-29-tinysentiment-claude-experiments/).\n",
    "- **The best performing prompt suffers from a low true positive rate for `positive` sentiments**: Although the 20-Shot phi-3.5 prompt achieved a high true positive rate (TPR) for `neutral` sentences (96%), it had one of the lowest TPRs for `positive` sentences (83%). It's unclear if this is due to the imbalance between `positive` and `neutral` examples, since the TPR for `negative` sentiment is high (98%) despite having the same number of examples (4) as `positive`.\n",
    "- **phi-3 performed differently than phi-3.5**: phi-3 performed well with a system prompt while phi-3.5 did not. On the other hand, phi-3.5 performed better with 0-Shot prompting than phi-3 (results not shown here).\n",
    "- **Future work**: My next step is to run inference on this dataset using the Qwen2-1.5B model. After that, I'll analyze the errors, especially for sentences that a majority of models classified incorrectly. With prompt engineering, there is potentially unlimited future work. Before I finish this project, I'll try 30-Shot prompts for phi-2 and Haiku to see if they can beat phi-3's 92.79% overall accuracy (and maybe even phi-3.5's 93.94% accuracy)."
   ]
  },
  {
   "cell_type": "markdown",
   "metadata": {},
   "source": [
    "I hope you enjoyed this blog post! Follow me on Twitter [@vishal_learner](https://twitter.com/vishal_learner)."
   ]
  }
 ],
 "metadata": {
  "kaggle": {
   "accelerator": "nvidiaTeslaT4",
   "dataSources": [],
   "dockerImageVersionId": 30665,
   "isGpuEnabled": true,
   "isInternetEnabled": true,
   "language": "python",
   "sourceType": "notebook"
  },
  "kernelspec": {
   "display_name": "Python 3 (ipykernel)",
   "language": "python",
   "name": "python3"
  },
  "language_info": {
   "codemirror_mode": {
    "name": "ipython",
    "version": 3
   },
   "file_extension": ".py",
   "mimetype": "text/x-python",
   "name": "python",
   "nbconvert_exporter": "python",
   "pygments_lexer": "ipython3",
   "version": "3.9.13"
  }
 },
 "nbformat": 4,
 "nbformat_minor": 4
}

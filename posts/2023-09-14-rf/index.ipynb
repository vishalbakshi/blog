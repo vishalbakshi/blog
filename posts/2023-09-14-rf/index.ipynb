{
  "cells": [
    {
      "cell_type": "raw",
      "metadata": {
        "vscode": {
          "languageId": "r"
        }
      },
      "source": [
        "---\n",
        "title: Building a Random Forest for the Kaggle Zillow Competition Dataset\n",
        "date: \"2023-09-14\"\n",
        "author: Vishal Bakshi\n",
        "description: In this notebook I follow the techniques presented in the fastai textbook to train a leaderboard-beating random forest.\n",
        "categories:\n",
        "    - deep learning\n",
        "    - python\n",
        "---"
      ]
    },
    {
      "cell_type": "markdown",
      "metadata": {
        "id": "-WeHIi-TSgBH"
      },
      "source": [
        "## Background\n",
        "\n",
        "In this blog post I'll work through the first exercise given in the \"Further Research\" section of Chapter 9 of the fastai textbook:\n",
        "\n",
        "> Pick a competition on Kaggle with tabular data (current or past) and try to adapt the techniques seen in this chapter to get the best possible results. Compare your results to the private leaderboard.\n",
        "\n",
        "I'll use the dataset from the [Zillow Prize: Zillow’s Home Value Prediction (Zestimate)](https://www.kaggle.com/competitions/zillow-prize-1/data?select=train_2017.csv) competition, and work through each section in the chapter.\n",
        "\n",
        "> In this competition, Zillow is asking you to predict the log-error between their Zestimate and the actual sale price, given all the features of a home. The log error is defined as $logerror = log(Zestimate)-log(SalePrice)$. Submissions are evaluated on Mean Absolute Error between the predicted log error and the actual log error.\n"
      ]
    },
    {
      "cell_type": "markdown",
      "metadata": {
        "id": "7lxOvm9etxL4"
      },
      "source": [
        "I get the following results by the end of the exercise:\n",
        "\n",
        "\n",
        "|Model|Mean Absolute Error|\n",
        "|:-:|:-:|\n",
        "|Random Forest|0.072|\n",
        "|Neural Net|0.117|\n",
        "|Ensemble of both|0.086|\n",
        "\n",
        "The first place entry on the private leaderboard had an error of 0.074."
      ]
    },
    {
      "cell_type": "markdown",
      "metadata": {
        "id": "dFXcCe2gS0Ae"
      },
      "source": [
        "## Load the Data"
      ]
    },
    {
      "cell_type": "code",
      "execution_count": null,
      "metadata": {
        "id": "dg-RSyXaSKZ7"
      },
      "outputs": [],
      "source": [
        "!pip install dtreeviz\n",
        "!pip install treeinterpreter\n",
        "!pip install waterfallcharts\n",
        "\n",
        "from pandas.api.types import is_string_dtype, is_numeric_dtype, is_categorical_dtype\n",
        "from fastai.tabular.all import *\n",
        "from sklearn.ensemble import RandomForestRegressor\n",
        "from sklearn.tree import DecisionTreeRegressor\n",
        "from dtreeviz.trees import *\n",
        "from IPython.display import Image, display_svg, SVG\n",
        "\n",
        "pd.options.display.max_rows = 20\n",
        "pd.options.display.max_columns = 8\n",
        "\n",
        "from sklearn.tree import DecisionTreeClassifier, export_graphviz\n",
        "\n",
        "import graphviz\n",
        "\n",
        "def draw_tree(t, df, size=10, ratio=0.6, precision=2, **kwargs):\n",
        "  s=export_graphviz(t, out_file=None, feature_names=df.columns, filled=True, rounded=True,\n",
        "                    special_characters=True, rotate=False, precision=precision, **kwargs)\n",
        "  return graphviz.Source(re.sub('Tree {', f'Tree {{ size={size}; ratio={ratio}', s))\n",
        "\n",
        "import dtreeviz\n",
        "from fastcore.all import *"
      ]
    },
    {
      "cell_type": "code",
      "execution_count": 3,
      "metadata": {
        "id": "rYDbMw3HZ7gh"
      },
      "outputs": [],
      "source": [
        "from pathlib import Path\n",
        "\n",
        "cred_path = Path(\"~/.kaggle/kaggle.json\").expanduser()\n",
        "if not cred_path.exists():\n",
        "  cred_path.parent.mkdir(exist_ok=True)\n",
        "  cred_path.write_text(creds)\n",
        "  cred_path.chmod(0o600)"
      ]
    },
    {
      "cell_type": "code",
      "execution_count": 4,
      "metadata": {
        "colab": {
          "base_uri": "https://localhost:8080/"
        },
        "id": "uhPznO8RZ9QL",
        "outputId": "bcf68b89-c9af-4eac-f92e-bcaa5513f351"
      },
      "outputs": [
        {
          "name": "stdout",
          "output_type": "stream",
          "text": [
            "Downloading zillow-prize-1.zip to /content\n"
          ]
        },
        {
          "name": "stderr",
          "output_type": "stream",
          "text": [
            "100%|██████████| 340M/340M [00:04<00:00, 84.9MB/s]\n"
          ]
        },
        {
          "name": "stdout",
          "output_type": "stream",
          "text": [
            "\n"
          ]
        }
      ],
      "source": [
        "import zipfile,kaggle\n",
        "\n",
        "path = Path('zillow-prize-1')\n",
        "if not path.exists():\n",
        "  kaggle.api.competition_download_cli(str(path))\n",
        "  zipfile.ZipFile(f'{path}.zip').extractall(path)"
      ]
    },
    {
      "cell_type": "code",
      "execution_count": 5,
      "metadata": {
        "colab": {
          "base_uri": "https://localhost:8080/"
        },
        "id": "enfU_-uaaYQD",
        "outputId": "1aaad7d5-e485-4978-8e89-66635a259835"
      },
      "outputs": [
        {
          "data": {
            "text/plain": [
              "(#5) [Path('zillow-prize-1/train_2017.csv'),Path('zillow-prize-1/sample_submission.csv'),Path('zillow-prize-1/train_2016_v2.csv'),Path('zillow-prize-1/properties_2016.csv'),Path('zillow-prize-1/properties_2017.csv')]"
            ]
          },
          "execution_count": 5,
          "metadata": {},
          "output_type": "execute_result"
        }
      ],
      "source": [
        "path.ls(file_type='text')"
      ]
    },
    {
      "cell_type": "code",
      "execution_count": 6,
      "metadata": {
        "id": "uNbhLy0yagtd"
      },
      "outputs": [],
      "source": [
        "properties_2016 = pd.read_csv(path/'properties_2016.csv', low_memory=False)\n",
        "df = pd.read_csv(path/'train_2016_v2.csv', low_memory=False)"
      ]
    },
    {
      "cell_type": "code",
      "execution_count": 7,
      "metadata": {
        "colab": {
          "base_uri": "https://localhost:8080/"
        },
        "id": "zxxQr1yxe7vG",
        "outputId": "504eb686-e21b-4949-cd2c-b808acfacaa1"
      },
      "outputs": [
        {
          "data": {
            "text/plain": [
              "(90275, 3)"
            ]
          },
          "execution_count": 7,
          "metadata": {},
          "output_type": "execute_result"
        }
      ],
      "source": [
        "df.shape"
      ]
    },
    {
      "cell_type": "code",
      "execution_count": 8,
      "metadata": {
        "id": "bsu7Jzw1b1TC"
      },
      "outputs": [],
      "source": [
        "df = df.merge(properties_2016, how='left', left_on='parcelid', right_on='parcelid')"
      ]
    },
    {
      "cell_type": "code",
      "execution_count": 9,
      "metadata": {
        "colab": {
          "base_uri": "https://localhost:8080/"
        },
        "id": "pjZZvoNRe_DY",
        "outputId": "e7ce878b-8c71-40c8-d2ac-1dbb65242030"
      },
      "outputs": [
        {
          "data": {
            "text/plain": [
              "(90275, 60)"
            ]
          },
          "execution_count": 9,
          "metadata": {},
          "output_type": "execute_result"
        }
      ],
      "source": [
        "df.shape"
      ]
    },
    {
      "cell_type": "code",
      "execution_count": 10,
      "metadata": {
        "colab": {
          "base_uri": "https://localhost:8080/",
          "height": 256
        },
        "id": "EOY7eYJibndY",
        "outputId": "5712031d-ebba-41bf-bf56-d13f3849f75c"
      },
      "outputs": [
        {
          "data": {
            "text/html": [
              "\n",
              "  <div id=\"df-82a37aa2-3a73-40e3-8575-1cb2873ac6be\" class=\"colab-df-container\">\n",
              "    <div>\n",
              "<style scoped>\n",
              "    .dataframe tbody tr th:only-of-type {\n",
              "        vertical-align: middle;\n",
              "    }\n",
              "\n",
              "    .dataframe tbody tr th {\n",
              "        vertical-align: top;\n",
              "    }\n",
              "\n",
              "    .dataframe thead th {\n",
              "        text-align: right;\n",
              "    }\n",
              "</style>\n",
              "<table border=\"1\" class=\"dataframe\">\n",
              "  <thead>\n",
              "    <tr style=\"text-align: right;\">\n",
              "      <th></th>\n",
              "      <th>parcelid</th>\n",
              "      <th>logerror</th>\n",
              "      <th>transactiondate</th>\n",
              "      <th>airconditioningtypeid</th>\n",
              "      <th>...</th>\n",
              "      <th>taxamount</th>\n",
              "      <th>taxdelinquencyflag</th>\n",
              "      <th>taxdelinquencyyear</th>\n",
              "      <th>censustractandblock</th>\n",
              "    </tr>\n",
              "  </thead>\n",
              "  <tbody>\n",
              "    <tr>\n",
              "      <th>0</th>\n",
              "      <td>11016594</td>\n",
              "      <td>0.0276</td>\n",
              "      <td>2016-01-01</td>\n",
              "      <td>1.0</td>\n",
              "      <td>...</td>\n",
              "      <td>6735.88</td>\n",
              "      <td>NaN</td>\n",
              "      <td>NaN</td>\n",
              "      <td>6.037107e+13</td>\n",
              "    </tr>\n",
              "    <tr>\n",
              "      <th>1</th>\n",
              "      <td>14366692</td>\n",
              "      <td>-0.1684</td>\n",
              "      <td>2016-01-01</td>\n",
              "      <td>NaN</td>\n",
              "      <td>...</td>\n",
              "      <td>10153.02</td>\n",
              "      <td>NaN</td>\n",
              "      <td>NaN</td>\n",
              "      <td>NaN</td>\n",
              "    </tr>\n",
              "    <tr>\n",
              "      <th>2</th>\n",
              "      <td>12098116</td>\n",
              "      <td>-0.0040</td>\n",
              "      <td>2016-01-01</td>\n",
              "      <td>1.0</td>\n",
              "      <td>...</td>\n",
              "      <td>11484.48</td>\n",
              "      <td>NaN</td>\n",
              "      <td>NaN</td>\n",
              "      <td>6.037464e+13</td>\n",
              "    </tr>\n",
              "    <tr>\n",
              "      <th>3</th>\n",
              "      <td>12643413</td>\n",
              "      <td>0.0218</td>\n",
              "      <td>2016-01-02</td>\n",
              "      <td>1.0</td>\n",
              "      <td>...</td>\n",
              "      <td>3048.74</td>\n",
              "      <td>NaN</td>\n",
              "      <td>NaN</td>\n",
              "      <td>6.037296e+13</td>\n",
              "    </tr>\n",
              "    <tr>\n",
              "      <th>4</th>\n",
              "      <td>14432541</td>\n",
              "      <td>-0.0050</td>\n",
              "      <td>2016-01-02</td>\n",
              "      <td>NaN</td>\n",
              "      <td>...</td>\n",
              "      <td>5488.96</td>\n",
              "      <td>NaN</td>\n",
              "      <td>NaN</td>\n",
              "      <td>6.059042e+13</td>\n",
              "    </tr>\n",
              "  </tbody>\n",
              "</table>\n",
              "<p>5 rows × 60 columns</p>\n",
              "</div>\n",
              "    <div class=\"colab-df-buttons\">\n",
              "\n",
              "  <div class=\"colab-df-container\">\n",
              "    <button class=\"colab-df-convert\" onclick=\"convertToInteractive('df-82a37aa2-3a73-40e3-8575-1cb2873ac6be')\"\n",
              "            title=\"Convert this dataframe to an interactive table.\"\n",
              "            style=\"display:none;\">\n",
              "\n",
              "  <svg xmlns=\"http://www.w3.org/2000/svg\" height=\"24px\" viewBox=\"0 -960 960 960\">\n",
              "    <path d=\"M120-120v-720h720v720H120Zm60-500h600v-160H180v160Zm220 220h160v-160H400v160Zm0 220h160v-160H400v160ZM180-400h160v-160H180v160Zm440 0h160v-160H620v160ZM180-180h160v-160H180v160Zm440 0h160v-160H620v160Z\"/>\n",
              "  </svg>\n",
              "    </button>\n",
              "\n",
              "  <style>\n",
              "    .colab-df-container {\n",
              "      display:flex;\n",
              "      gap: 12px;\n",
              "    }\n",
              "\n",
              "    .colab-df-convert {\n",
              "      background-color: #E8F0FE;\n",
              "      border: none;\n",
              "      border-radius: 50%;\n",
              "      cursor: pointer;\n",
              "      display: none;\n",
              "      fill: #1967D2;\n",
              "      height: 32px;\n",
              "      padding: 0 0 0 0;\n",
              "      width: 32px;\n",
              "    }\n",
              "\n",
              "    .colab-df-convert:hover {\n",
              "      background-color: #E2EBFA;\n",
              "      box-shadow: 0px 1px 2px rgba(60, 64, 67, 0.3), 0px 1px 3px 1px rgba(60, 64, 67, 0.15);\n",
              "      fill: #174EA6;\n",
              "    }\n",
              "\n",
              "    .colab-df-buttons div {\n",
              "      margin-bottom: 4px;\n",
              "    }\n",
              "\n",
              "    [theme=dark] .colab-df-convert {\n",
              "      background-color: #3B4455;\n",
              "      fill: #D2E3FC;\n",
              "    }\n",
              "\n",
              "    [theme=dark] .colab-df-convert:hover {\n",
              "      background-color: #434B5C;\n",
              "      box-shadow: 0px 1px 3px 1px rgba(0, 0, 0, 0.15);\n",
              "      filter: drop-shadow(0px 1px 2px rgba(0, 0, 0, 0.3));\n",
              "      fill: #FFFFFF;\n",
              "    }\n",
              "  </style>\n",
              "\n",
              "    <script>\n",
              "      const buttonEl =\n",
              "        document.querySelector('#df-82a37aa2-3a73-40e3-8575-1cb2873ac6be button.colab-df-convert');\n",
              "      buttonEl.style.display =\n",
              "        google.colab.kernel.accessAllowed ? 'block' : 'none';\n",
              "\n",
              "      async function convertToInteractive(key) {\n",
              "        const element = document.querySelector('#df-82a37aa2-3a73-40e3-8575-1cb2873ac6be');\n",
              "        const dataTable =\n",
              "          await google.colab.kernel.invokeFunction('convertToInteractive',\n",
              "                                                    [key], {});\n",
              "        if (!dataTable) return;\n",
              "\n",
              "        const docLinkHtml = 'Like what you see? Visit the ' +\n",
              "          '<a target=\"_blank\" href=https://colab.research.google.com/notebooks/data_table.ipynb>data table notebook</a>'\n",
              "          + ' to learn more about interactive tables.';\n",
              "        element.innerHTML = '';\n",
              "        dataTable['output_type'] = 'display_data';\n",
              "        await google.colab.output.renderOutput(dataTable, element);\n",
              "        const docLink = document.createElement('div');\n",
              "        docLink.innerHTML = docLinkHtml;\n",
              "        element.appendChild(docLink);\n",
              "      }\n",
              "    </script>\n",
              "  </div>\n",
              "\n",
              "\n",
              "<div id=\"df-849f6570-4d1e-468e-88bc-e5366bea393a\">\n",
              "  <button class=\"colab-df-quickchart\" onclick=\"quickchart('df-849f6570-4d1e-468e-88bc-e5366bea393a')\"\n",
              "            title=\"Suggest charts.\"\n",
              "            style=\"display:none;\">\n",
              "\n",
              "<svg xmlns=\"http://www.w3.org/2000/svg\" height=\"24px\"viewBox=\"0 0 24 24\"\n",
              "     width=\"24px\">\n",
              "    <g>\n",
              "        <path d=\"M19 3H5c-1.1 0-2 .9-2 2v14c0 1.1.9 2 2 2h14c1.1 0 2-.9 2-2V5c0-1.1-.9-2-2-2zM9 17H7v-7h2v7zm4 0h-2V7h2v10zm4 0h-2v-4h2v4z\"/>\n",
              "    </g>\n",
              "</svg>\n",
              "  </button>\n",
              "\n",
              "<style>\n",
              "  .colab-df-quickchart {\n",
              "      --bg-color: #E8F0FE;\n",
              "      --fill-color: #1967D2;\n",
              "      --hover-bg-color: #E2EBFA;\n",
              "      --hover-fill-color: #174EA6;\n",
              "      --disabled-fill-color: #AAA;\n",
              "      --disabled-bg-color: #DDD;\n",
              "  }\n",
              "\n",
              "  [theme=dark] .colab-df-quickchart {\n",
              "      --bg-color: #3B4455;\n",
              "      --fill-color: #D2E3FC;\n",
              "      --hover-bg-color: #434B5C;\n",
              "      --hover-fill-color: #FFFFFF;\n",
              "      --disabled-bg-color: #3B4455;\n",
              "      --disabled-fill-color: #666;\n",
              "  }\n",
              "\n",
              "  .colab-df-quickchart {\n",
              "    background-color: var(--bg-color);\n",
              "    border: none;\n",
              "    border-radius: 50%;\n",
              "    cursor: pointer;\n",
              "    display: none;\n",
              "    fill: var(--fill-color);\n",
              "    height: 32px;\n",
              "    padding: 0;\n",
              "    width: 32px;\n",
              "  }\n",
              "\n",
              "  .colab-df-quickchart:hover {\n",
              "    background-color: var(--hover-bg-color);\n",
              "    box-shadow: 0 1px 2px rgba(60, 64, 67, 0.3), 0 1px 3px 1px rgba(60, 64, 67, 0.15);\n",
              "    fill: var(--button-hover-fill-color);\n",
              "  }\n",
              "\n",
              "  .colab-df-quickchart-complete:disabled,\n",
              "  .colab-df-quickchart-complete:disabled:hover {\n",
              "    background-color: var(--disabled-bg-color);\n",
              "    fill: var(--disabled-fill-color);\n",
              "    box-shadow: none;\n",
              "  }\n",
              "\n",
              "  .colab-df-spinner {\n",
              "    border: 2px solid var(--fill-color);\n",
              "    border-color: transparent;\n",
              "    border-bottom-color: var(--fill-color);\n",
              "    animation:\n",
              "      spin 1s steps(1) infinite;\n",
              "  }\n",
              "\n",
              "  @keyframes spin {\n",
              "    0% {\n",
              "      border-color: transparent;\n",
              "      border-bottom-color: var(--fill-color);\n",
              "      border-left-color: var(--fill-color);\n",
              "    }\n",
              "    20% {\n",
              "      border-color: transparent;\n",
              "      border-left-color: var(--fill-color);\n",
              "      border-top-color: var(--fill-color);\n",
              "    }\n",
              "    30% {\n",
              "      border-color: transparent;\n",
              "      border-left-color: var(--fill-color);\n",
              "      border-top-color: var(--fill-color);\n",
              "      border-right-color: var(--fill-color);\n",
              "    }\n",
              "    40% {\n",
              "      border-color: transparent;\n",
              "      border-right-color: var(--fill-color);\n",
              "      border-top-color: var(--fill-color);\n",
              "    }\n",
              "    60% {\n",
              "      border-color: transparent;\n",
              "      border-right-color: var(--fill-color);\n",
              "    }\n",
              "    80% {\n",
              "      border-color: transparent;\n",
              "      border-right-color: var(--fill-color);\n",
              "      border-bottom-color: var(--fill-color);\n",
              "    }\n",
              "    90% {\n",
              "      border-color: transparent;\n",
              "      border-bottom-color: var(--fill-color);\n",
              "    }\n",
              "  }\n",
              "</style>\n",
              "\n",
              "  <script>\n",
              "    async function quickchart(key) {\n",
              "      const quickchartButtonEl =\n",
              "        document.querySelector('#' + key + ' button');\n",
              "      quickchartButtonEl.disabled = true;  // To prevent multiple clicks.\n",
              "      quickchartButtonEl.classList.add('colab-df-spinner');\n",
              "      try {\n",
              "        const charts = await google.colab.kernel.invokeFunction(\n",
              "            'suggestCharts', [key], {});\n",
              "      } catch (error) {\n",
              "        console.error('Error during call to suggestCharts:', error);\n",
              "      }\n",
              "      quickchartButtonEl.classList.remove('colab-df-spinner');\n",
              "      quickchartButtonEl.classList.add('colab-df-quickchart-complete');\n",
              "    }\n",
              "    (() => {\n",
              "      let quickchartButtonEl =\n",
              "        document.querySelector('#df-849f6570-4d1e-468e-88bc-e5366bea393a button');\n",
              "      quickchartButtonEl.style.display =\n",
              "        google.colab.kernel.accessAllowed ? 'block' : 'none';\n",
              "    })();\n",
              "  </script>\n",
              "</div>\n",
              "    </div>\n",
              "  </div>\n"
            ],
            "text/plain": [
              "   parcelid  logerror transactiondate  airconditioningtypeid  ...  taxamount  \\\n",
              "0  11016594    0.0276      2016-01-01                    1.0  ...    6735.88   \n",
              "1  14366692   -0.1684      2016-01-01                    NaN  ...   10153.02   \n",
              "2  12098116   -0.0040      2016-01-01                    1.0  ...   11484.48   \n",
              "3  12643413    0.0218      2016-01-02                    1.0  ...    3048.74   \n",
              "4  14432541   -0.0050      2016-01-02                    NaN  ...    5488.96   \n",
              "\n",
              "   taxdelinquencyflag  taxdelinquencyyear  censustractandblock  \n",
              "0                 NaN                 NaN         6.037107e+13  \n",
              "1                 NaN                 NaN                  NaN  \n",
              "2                 NaN                 NaN         6.037464e+13  \n",
              "3                 NaN                 NaN         6.037296e+13  \n",
              "4                 NaN                 NaN         6.059042e+13  \n",
              "\n",
              "[5 rows x 60 columns]"
            ]
          },
          "execution_count": 10,
          "metadata": {},
          "output_type": "execute_result"
        }
      ],
      "source": [
        "df.head()"
      ]
    },
    {
      "cell_type": "markdown",
      "metadata": {
        "id": "z3oMkfKSDl98"
      },
      "source": [
        "Currently I'm mainly looking for situations where `parcelid` is NA since that would indicate an issue in my `merge`. Looks like all `parcelid`s are accounted for:"
      ]
    },
    {
      "cell_type": "code",
      "execution_count": 11,
      "metadata": {
        "colab": {
          "base_uri": "https://localhost:8080/"
        },
        "id": "M6xFH9AGDhG4",
        "outputId": "f22549e7-c551-44ed-f677-3ed77e64a2d6"
      },
      "outputs": [
        {
          "data": {
            "text/plain": [
              "parcelid                        0\n",
              "logerror                        0\n",
              "transactiondate                 0\n",
              "airconditioningtypeid       61494\n",
              "architecturalstyletypeid    90014\n",
              "                            ...  \n",
              "landtaxvaluedollarcnt           1\n",
              "taxamount                       6\n",
              "taxdelinquencyflag          88492\n",
              "taxdelinquencyyear          88492\n",
              "censustractandblock           605\n",
              "Length: 60, dtype: int64"
            ]
          },
          "execution_count": 11,
          "metadata": {},
          "output_type": "execute_result"
        }
      ],
      "source": [
        "df.isna().sum()"
      ]
    },
    {
      "cell_type": "markdown",
      "metadata": {
        "id": "1HbYJk9tc-4M"
      },
      "source": [
        "The dependent variable is `logerror`. Most of the `logerror` values are between +/- 0.25."
      ]
    },
    {
      "cell_type": "code",
      "execution_count": 12,
      "metadata": {
        "colab": {
          "base_uri": "https://localhost:8080/",
          "height": 430
        },
        "id": "yFB6JiGtcnpn",
        "outputId": "3b2bc21b-04aa-4130-efee-c2361da6da1c"
      },
      "outputs": [
        {
          "data": {
            "image/png": "[encoded data removed]",
            "text/plain": [
              "<Figure size 640x480 with 1 Axes>"
            ]
          },
          "metadata": {},
          "output_type": "display_data"
        }
      ],
      "source": [
        "df.logerror.hist(range=[-1, 1]);"
      ]
    },
    {
      "cell_type": "markdown",
      "metadata": {
        "id": "SirwG1bXdkYj"
      },
      "source": [
        "The competition's data page doesn't highlight any particular columns, so I'll take a look at a few of them:"
      ]
    },
    {
      "cell_type": "code",
      "execution_count": 13,
      "metadata": {
        "colab": {
          "base_uri": "https://localhost:8080/"
        },
        "id": "HlTzshIzdilK",
        "outputId": "6aa36701-cb5f-499a-ed7b-ff9a370aa9d7"
      },
      "outputs": [
        {
          "data": {
            "text/plain": [
              "Index(['parcelid', 'logerror', 'transactiondate', 'airconditioningtypeid',\n",
              "       'architecturalstyletypeid', 'basementsqft', 'bathroomcnt', 'bedroomcnt',\n",
              "       'buildingclasstypeid', 'buildingqualitytypeid', 'calculatedbathnbr',\n",
              "       'decktypeid', 'finishedfloor1squarefeet',\n",
              "       'calculatedfinishedsquarefeet', 'finishedsquarefeet12',\n",
              "       'finishedsquarefeet13', 'finishedsquarefeet15', 'finishedsquarefeet50',\n",
              "       'finishedsquarefeet6', 'fips', 'fireplacecnt', 'fullbathcnt',\n",
              "       'garagecarcnt', 'garagetotalsqft', 'hashottuborspa',\n",
              "       'heatingorsystemtypeid', 'latitude', 'longitude', 'lotsizesquarefeet',\n",
              "       'poolcnt', 'poolsizesum', 'pooltypeid10', 'pooltypeid2', 'pooltypeid7',\n",
              "       'propertycountylandusecode', 'propertylandusetypeid',\n",
              "       'propertyzoningdesc', 'rawcensustractandblock', 'regionidcity',\n",
              "       'regionidcounty', 'regionidneighborhood', 'regionidzip', 'roomcnt',\n",
              "       'storytypeid', 'threequarterbathnbr', 'typeconstructiontypeid',\n",
              "       'unitcnt', 'yardbuildingsqft17', 'yardbuildingsqft26', 'yearbuilt',\n",
              "       'numberofstories', 'fireplaceflag', 'structuretaxvaluedollarcnt',\n",
              "       'taxvaluedollarcnt', 'assessmentyear', 'landtaxvaluedollarcnt',\n",
              "       'taxamount', 'taxdelinquencyflag', 'taxdelinquencyyear',\n",
              "       'censustractandblock'],\n",
              "      dtype='object')"
            ]
          },
          "execution_count": 13,
          "metadata": {},
          "output_type": "execute_result"
        }
      ],
      "source": [
        "df.columns"
      ]
    },
    {
      "cell_type": "code",
      "execution_count": 16,
      "metadata": {
        "colab": {
          "base_uri": "https://localhost:8080/",
          "height": 430
        },
        "id": "DUQJbDlddtD8",
        "outputId": "1921a22a-b8dc-4a10-b380-98d10a1a0f66"
      },
      "outputs": [
        {
          "data": {
            "image/png": "[encoded data removed]",
            "text/plain": [
              "<Figure size 640x480 with 1 Axes>"
            ]
          },
          "metadata": {},
          "output_type": "display_data"
        }
      ],
      "source": [
        "df.calculatedfinishedsquarefeet.hist(range=[0,7500]);"
      ]
    },
    {
      "cell_type": "code",
      "execution_count": 17,
      "metadata": {
        "colab": {
          "base_uri": "https://localhost:8080/",
          "height": 430
        },
        "id": "rxmnuLkrdzGu",
        "outputId": "0c24cdd4-a62f-4f33-8499-33c941451061"
      },
      "outputs": [
        {
          "data": {
            "image/png": "[encoded data removed]",
            "text/plain": [
              "<Figure size 640x480 with 1 Axes>"
            ]
          },
          "metadata": {},
          "output_type": "display_data"
        }
      ],
      "source": [
        "df.bedroomcnt.hist(range=[0,6]);"
      ]
    },
    {
      "cell_type": "code",
      "execution_count": 18,
      "metadata": {
        "colab": {
          "base_uri": "https://localhost:8080/",
          "height": 430
        },
        "id": "OHcxr_P0eH7j",
        "outputId": "a4ea5b7b-9026-4233-8d27-e52fd0e46f10"
      },
      "outputs": [
        {
          "data": {
            "image/png": "[encoded data removed]",
            "text/plain": [
              "<Figure size 640x480 with 1 Axes>"
            ]
          },
          "metadata": {},
          "output_type": "display_data"
        }
      ],
      "source": [
        "df.yearbuilt.hist();"
      ]
    },
    {
      "cell_type": "markdown",
      "metadata": {
        "id": "cSnUm_JuTMAH"
      },
      "source": [
        "## Data Cleaning"
      ]
    },
    {
      "cell_type": "markdown",
      "metadata": {
        "id": "PiPd4q-ZTEtZ"
      },
      "source": [
        "### Handle Ordinal Columns"
      ]
    },
    {
      "cell_type": "markdown",
      "metadata": {
        "id": "a6dZvi6JH9Rs"
      },
      "source": [
        "I'm not displaying the output here, but I looped through all of the columns and looked at their unique values to see if there were opportunities to set ordinal values---I did not find any."
      ]
    },
    {
      "cell_type": "code",
      "execution_count": null,
      "metadata": {
        "id": "lXwaXNsdHFAm"
      },
      "outputs": [],
      "source": [
        "for col in df.columns:\n",
        "  print(col, df[col].unique(), len(df[col].unique()))\n",
        "  print(\" \")"
      ]
    },
    {
      "cell_type": "markdown",
      "metadata": {
        "id": "qS11nIWYTIjX"
      },
      "source": [
        "### Handle Dates"
      ]
    },
    {
      "cell_type": "markdown",
      "metadata": {
        "id": "wlaNpVc3SzhZ"
      },
      "source": [
        "The only date field is `transactiondate` which is currently stored in the `DataFrame` as a `str`. I'll convert it to a `datetime` object."
      ]
    },
    {
      "cell_type": "code",
      "execution_count": 19,
      "metadata": {
        "colab": {
          "base_uri": "https://localhost:8080/"
        },
        "id": "1pZ7JujqfLW0",
        "outputId": "f86166c8-67f9-438d-e592-6d5218f02bac"
      },
      "outputs": [
        {
          "data": {
            "text/plain": [
              "str"
            ]
          },
          "execution_count": 19,
          "metadata": {},
          "output_type": "execute_result"
        }
      ],
      "source": [
        "type(df.transactiondate[0])"
      ]
    },
    {
      "cell_type": "code",
      "execution_count": 20,
      "metadata": {
        "id": "CKWy8L7WTCdw"
      },
      "outputs": [],
      "source": [
        "df['transactiondate'] = pd.to_datetime(df['transactiondate'])"
      ]
    },
    {
      "cell_type": "code",
      "execution_count": 21,
      "metadata": {
        "colab": {
          "base_uri": "https://localhost:8080/"
        },
        "id": "z-neDn-6TMz_",
        "outputId": "8549d6ec-6833-412b-ab3c-5ab41e48d111"
      },
      "outputs": [
        {
          "data": {
            "text/plain": [
              "(Timestamp('2016-01-01 00:00:00'), pandas._libs.tslibs.timestamps.Timestamp)"
            ]
          },
          "execution_count": 21,
          "metadata": {},
          "output_type": "execute_result"
        }
      ],
      "source": [
        "df.transactiondate[0], type(df.transactiondate[0])"
      ]
    },
    {
      "cell_type": "markdown",
      "metadata": {
        "id": "bYBxiyI_TazJ"
      },
      "source": [
        "I'll use the fastai `add_datepart` function to add additional columns associated with the `transactiondate`. I want to keep `transactiondate` field intact to make it easier to split the training and validation sets."
      ]
    },
    {
      "cell_type": "code",
      "execution_count": 22,
      "metadata": {
        "colab": {
          "base_uri": "https://localhost:8080/"
        },
        "id": "3bX1Wgg2Txhl",
        "outputId": "67652df4-0aea-4fb9-a397-8429a70b2200"
      },
      "outputs": [
        {
          "data": {
            "text/plain": [
              "60"
            ]
          },
          "execution_count": 22,
          "metadata": {},
          "output_type": "execute_result"
        }
      ],
      "source": [
        "len(df.columns)"
      ]
    },
    {
      "cell_type": "code",
      "execution_count": 23,
      "metadata": {
        "id": "T-GY-0_qTqf_"
      },
      "outputs": [],
      "source": [
        "transactiondate = df['transactiondate']\n",
        "df = add_datepart(df, 'transactiondate')"
      ]
    },
    {
      "cell_type": "code",
      "execution_count": 24,
      "metadata": {
        "colab": {
          "base_uri": "https://localhost:8080/"
        },
        "id": "5hwFBW7bTzlm",
        "outputId": "91d43ebb-a943-4d25-b69a-7202f5ad3798"
      },
      "outputs": [
        {
          "data": {
            "text/plain": [
              "72"
            ]
          },
          "execution_count": 24,
          "metadata": {},
          "output_type": "execute_result"
        }
      ],
      "source": [
        "len(df.columns)"
      ]
    },
    {
      "cell_type": "code",
      "execution_count": 25,
      "metadata": {
        "colab": {
          "base_uri": "https://localhost:8080/",
          "height": 71
        },
        "id": "yoyDRsRlUMcd",
        "outputId": "6254b401-1f03-45a9-b92f-91df57846e78"
      },
      "outputs": [
        {
          "data": {
            "application/vnd.google.colaboratory.intrinsic+json": {
              "type": "string"
            },
            "text/plain": [
              "'transactionYear transactionMonth transactionWeek transactionDay transactionDayofweek transactionDayofyear transactionIs_month_end transactionIs_month_start transactionIs_quarter_end transactionIs_quarter_start transactionIs_year_end transactionIs_year_start transactionElapsed'"
            ]
          },
          "execution_count": 25,
          "metadata": {},
          "output_type": "execute_result"
        }
      ],
      "source": [
        "' '.join(o for o in df.columns if o.startswith('transaction'))"
      ]
    },
    {
      "cell_type": "code",
      "execution_count": 26,
      "metadata": {
        "id": "CMh-EkelUY-f"
      },
      "outputs": [],
      "source": [
        "df['transactiondate'] = transactiondate"
      ]
    },
    {
      "cell_type": "markdown",
      "metadata": {
        "id": "zweFCr68TPYT"
      },
      "source": [
        "## Define the Training and Validation Sets"
      ]
    },
    {
      "cell_type": "markdown",
      "metadata": {
        "id": "nhHP4Xp9U0ro"
      },
      "source": [
        "The data page of the competition states that the training data contains transactions mostly before 10/15/2016, whereas the test data contains transactions between 10/15/2016 and 12/31/2016. I'll use the same split for my data.\n",
        "\n",
        "There are 85670 records before October 15, 2016, and 4605 records on or after. These will become the training and validation sets, respectively."
      ]
    },
    {
      "cell_type": "code",
      "execution_count": 27,
      "metadata": {
        "colab": {
          "base_uri": "https://localhost:8080/"
        },
        "id": "mKraSInOewsu",
        "outputId": "e5bf3dc0-5741-4fef-9bea-18d34ba4ca6c"
      },
      "outputs": [
        {
          "data": {
            "text/plain": [
              "85670"
            ]
          },
          "execution_count": 27,
          "metadata": {},
          "output_type": "execute_result"
        }
      ],
      "source": [
        "len(df[df['transactiondate'] < '2016-10-15'])"
      ]
    },
    {
      "cell_type": "code",
      "execution_count": 28,
      "metadata": {
        "colab": {
          "base_uri": "https://localhost:8080/",
          "height": 430
        },
        "id": "ZNaGUmJXecpH",
        "outputId": "2179c2e1-5f45-49a5-9ee2-390082970154"
      },
      "outputs": [
        {
          "data": {
            "image/png": "[encoded data removed]",
            "text/plain": [
              "<Figure size 640x480 with 1 Axes>"
            ]
          },
          "metadata": {},
          "output_type": "display_data"
        }
      ],
      "source": [
        "df[df['transactiondate'] < '2016-10-15'].transactiondate.hist();"
      ]
    },
    {
      "cell_type": "code",
      "execution_count": 29,
      "metadata": {
        "colab": {
          "base_uri": "https://localhost:8080/"
        },
        "id": "H1v9vkc8e2VH",
        "outputId": "f524d23f-e4e2-4785-8774-4524b85fee6d"
      },
      "outputs": [
        {
          "data": {
            "text/plain": [
              "4605"
            ]
          },
          "execution_count": 29,
          "metadata": {},
          "output_type": "execute_result"
        }
      ],
      "source": [
        "len(df[df['transactiondate'] >= '2016-10-15'])"
      ]
    },
    {
      "cell_type": "code",
      "execution_count": 30,
      "metadata": {
        "colab": {
          "base_uri": "https://localhost:8080/",
          "height": 430
        },
        "id": "ugzAVTUtet89",
        "outputId": "59728e66-c5e4-48fc-b650-72adb730769f"
      },
      "outputs": [
        {
          "data": {
            "image/png": "[encoded data removed]",
            "text/plain": [
              "<Figure size 640x480 with 1 Axes>"
            ]
          },
          "metadata": {},
          "output_type": "display_data"
        }
      ],
      "source": [
        "df[df['transactiondate'] >= '2016-10-15'].transactiondate.hist();"
      ]
    },
    {
      "cell_type": "code",
      "execution_count": 31,
      "metadata": {
        "id": "_cnOWYu0TTWj"
      },
      "outputs": [],
      "source": [
        "dep_var = 'logerror'"
      ]
    },
    {
      "cell_type": "code",
      "execution_count": 32,
      "metadata": {
        "id": "t_LiTRhW7sNN"
      },
      "outputs": [],
      "source": [
        "cond = df.transactiondate < '2016-10-15'\n",
        "train_idx = np.where( cond)[0]\n",
        "valid_idx = np.where(~cond)[0]\n",
        "splits = (list(train_idx), list(valid_idx))"
      ]
    },
    {
      "cell_type": "code",
      "execution_count": 33,
      "metadata": {
        "colab": {
          "base_uri": "https://localhost:8080/"
        },
        "id": "w79pSik7EnfA",
        "outputId": "c3bfbf78-94af-47ab-c2b1-7d4eb55475e3"
      },
      "outputs": [
        {
          "data": {
            "text/plain": [
              "(85670, 4605)"
            ]
          },
          "execution_count": 33,
          "metadata": {},
          "output_type": "execute_result"
        }
      ],
      "source": [
        "len(train_idx), len(valid_idx)"
      ]
    },
    {
      "cell_type": "markdown",
      "metadata": {
        "id": "W4nEgebDTUNb"
      },
      "source": [
        "## Create the Decision Tree"
      ]
    },
    {
      "cell_type": "markdown",
      "metadata": {
        "id": "yhfL4lRsFBPz"
      },
      "source": [
        "I'll setup the `TabularPandas` object first, as done in the text:"
      ]
    },
    {
      "cell_type": "code",
      "execution_count": 34,
      "metadata": {
        "id": "WFX9ZwHRTga-"
      },
      "outputs": [],
      "source": [
        "procs = [Categorify, FillMissing]"
      ]
    },
    {
      "cell_type": "code",
      "execution_count": 35,
      "metadata": {
        "id": "Pe9xho8sFFIs"
      },
      "outputs": [],
      "source": [
        "cont,cat = cont_cat_split(df, 1, dep_var=dep_var)"
      ]
    },
    {
      "cell_type": "code",
      "execution_count": 36,
      "metadata": {
        "colab": {
          "base_uri": "https://localhost:8080/"
        },
        "id": "WJBh-byPFFZw",
        "outputId": "230f1427-b689-4da3-8424-e3e0b17feb45"
      },
      "outputs": [
        {
          "data": {
            "text/plain": [
              "['hashottuborspa',\n",
              " 'propertycountylandusecode',\n",
              " 'propertyzoningdesc',\n",
              " 'fireplaceflag',\n",
              " 'taxdelinquencyflag',\n",
              " 'transactionYear',\n",
              " 'transactionIs_month_end',\n",
              " 'transactionIs_month_start',\n",
              " 'transactionIs_quarter_end',\n",
              " 'transactionIs_quarter_start',\n",
              " 'transactionIs_year_end',\n",
              " 'transactionIs_year_start',\n",
              " 'transactiondate']"
            ]
          },
          "execution_count": 36,
          "metadata": {},
          "output_type": "execute_result"
        }
      ],
      "source": [
        "cat"
      ]
    },
    {
      "cell_type": "code",
      "execution_count": 37,
      "metadata": {
        "id": "5ie-rLMnFFdh"
      },
      "outputs": [],
      "source": [
        "to = TabularPandas(df, procs, cat, cont, y_names=dep_var, splits=splits)"
      ]
    },
    {
      "cell_type": "code",
      "execution_count": 38,
      "metadata": {
        "colab": {
          "base_uri": "https://localhost:8080/"
        },
        "id": "YhYdxMHuFFgH",
        "outputId": "ceaff177-036b-40e7-bbac-52f38068cad6"
      },
      "outputs": [
        {
          "data": {
            "text/plain": [
              "fastai.tabular.core.TabularPandas"
            ]
          },
          "execution_count": 38,
          "metadata": {},
          "output_type": "execute_result"
        }
      ],
      "source": [
        "type(to)"
      ]
    },
    {
      "cell_type": "code",
      "execution_count": 39,
      "metadata": {
        "colab": {
          "base_uri": "https://localhost:8080/"
        },
        "id": "I5SexyLPFYOP",
        "outputId": "98cb30b5-25aa-42e6-ae52-2000041e8e5b"
      },
      "outputs": [
        {
          "data": {
            "text/plain": [
              "(85670, 4605)"
            ]
          },
          "execution_count": 39,
          "metadata": {},
          "output_type": "execute_result"
        }
      ],
      "source": [
        "len(to.train), len(to.valid)"
      ]
    },
    {
      "cell_type": "code",
      "execution_count": 40,
      "metadata": {
        "colab": {
          "base_uri": "https://localhost:8080/",
          "height": 163
        },
        "id": "HO5LNgZ7Fc0o",
        "outputId": "eff52973-82a8-4f13-eaed-251a39a4d0c2"
      },
      "outputs": [
        {
          "data": {
            "text/html": [
              "<table border=\"1\" class=\"dataframe\">\n",
              "  <thead>\n",
              "    <tr style=\"text-align: right;\">\n",
              "      <th></th>\n",
              "      <th>hashottuborspa</th>\n",
              "      <th>propertycountylandusecode</th>\n",
              "      <th>propertyzoningdesc</th>\n",
              "      <th>fireplaceflag</th>\n",
              "      <th>taxdelinquencyflag</th>\n",
              "      <th>transactionYear</th>\n",
              "      <th>transactionIs_month_end</th>\n",
              "      <th>transactionIs_month_start</th>\n",
              "      <th>transactionIs_quarter_end</th>\n",
              "      <th>transactionIs_quarter_start</th>\n",
              "      <th>transactionIs_year_end</th>\n",
              "      <th>transactionIs_year_start</th>\n",
              "      <th>transactiondate</th>\n",
              "      <th>airconditioningtypeid_na</th>\n",
              "      <th>architecturalstyletypeid_na</th>\n",
              "      <th>basementsqft_na</th>\n",
              "      <th>buildingclasstypeid_na</th>\n",
              "      <th>buildingqualitytypeid_na</th>\n",
              "      <th>calculatedbathnbr_na</th>\n",
              "      <th>decktypeid_na</th>\n",
              "      <th>finishedfloor1squarefeet_na</th>\n",
              "      <th>calculatedfinishedsquarefeet_na</th>\n",
              "      <th>finishedsquarefeet12_na</th>\n",
              "      <th>finishedsquarefeet13_na</th>\n",
              "      <th>finishedsquarefeet15_na</th>\n",
              "      <th>finishedsquarefeet50_na</th>\n",
              "      <th>finishedsquarefeet6_na</th>\n",
              "      <th>fireplacecnt_na</th>\n",
              "      <th>fullbathcnt_na</th>\n",
              "      <th>garagecarcnt_na</th>\n",
              "      <th>garagetotalsqft_na</th>\n",
              "      <th>heatingorsystemtypeid_na</th>\n",
              "      <th>lotsizesquarefeet_na</th>\n",
              "      <th>poolcnt_na</th>\n",
              "      <th>poolsizesum_na</th>\n",
              "      <th>pooltypeid10_na</th>\n",
              "      <th>pooltypeid2_na</th>\n",
              "      <th>pooltypeid7_na</th>\n",
              "      <th>regionidcity_na</th>\n",
              "      <th>regionidneighborhood_na</th>\n",
              "      <th>regionidzip_na</th>\n",
              "      <th>storytypeid_na</th>\n",
              "      <th>threequarterbathnbr_na</th>\n",
              "      <th>typeconstructiontypeid_na</th>\n",
              "      <th>unitcnt_na</th>\n",
              "      <th>yardbuildingsqft17_na</th>\n",
              "      <th>yardbuildingsqft26_na</th>\n",
              "      <th>yearbuilt_na</th>\n",
              "      <th>numberofstories_na</th>\n",
              "      <th>structuretaxvaluedollarcnt_na</th>\n",
              "      <th>taxvaluedollarcnt_na</th>\n",
              "      <th>landtaxvaluedollarcnt_na</th>\n",
              "      <th>taxamount_na</th>\n",
              "      <th>taxdelinquencyyear_na</th>\n",
              "      <th>censustractandblock_na</th>\n",
              "      <th>parcelid</th>\n",
              "      <th>airconditioningtypeid</th>\n",
              "      <th>architecturalstyletypeid</th>\n",
              "      <th>basementsqft</th>\n",
              "      <th>bathroomcnt</th>\n",
              "      <th>bedroomcnt</th>\n",
              "      <th>buildingclasstypeid</th>\n",
              "      <th>buildingqualitytypeid</th>\n",
              "      <th>calculatedbathnbr</th>\n",
              "      <th>decktypeid</th>\n",
              "      <th>finishedfloor1squarefeet</th>\n",
              "      <th>calculatedfinishedsquarefeet</th>\n",
              "      <th>finishedsquarefeet12</th>\n",
              "      <th>finishedsquarefeet13</th>\n",
              "      <th>finishedsquarefeet15</th>\n",
              "      <th>finishedsquarefeet50</th>\n",
              "      <th>finishedsquarefeet6</th>\n",
              "      <th>fips</th>\n",
              "      <th>fireplacecnt</th>\n",
              "      <th>fullbathcnt</th>\n",
              "      <th>garagecarcnt</th>\n",
              "      <th>garagetotalsqft</th>\n",
              "      <th>heatingorsystemtypeid</th>\n",
              "      <th>latitude</th>\n",
              "      <th>longitude</th>\n",
              "      <th>lotsizesquarefeet</th>\n",
              "      <th>poolcnt</th>\n",
              "      <th>poolsizesum</th>\n",
              "      <th>pooltypeid10</th>\n",
              "      <th>pooltypeid2</th>\n",
              "      <th>pooltypeid7</th>\n",
              "      <th>propertylandusetypeid</th>\n",
              "      <th>rawcensustractandblock</th>\n",
              "      <th>regionidcity</th>\n",
              "      <th>regionidcounty</th>\n",
              "      <th>regionidneighborhood</th>\n",
              "      <th>regionidzip</th>\n",
              "      <th>roomcnt</th>\n",
              "      <th>storytypeid</th>\n",
              "      <th>threequarterbathnbr</th>\n",
              "      <th>typeconstructiontypeid</th>\n",
              "      <th>unitcnt</th>\n",
              "      <th>yardbuildingsqft17</th>\n",
              "      <th>yardbuildingsqft26</th>\n",
              "      <th>yearbuilt</th>\n",
              "      <th>numberofstories</th>\n",
              "      <th>structuretaxvaluedollarcnt</th>\n",
              "      <th>taxvaluedollarcnt</th>\n",
              "      <th>assessmentyear</th>\n",
              "      <th>landtaxvaluedollarcnt</th>\n",
              "      <th>taxamount</th>\n",
              "      <th>taxdelinquencyyear</th>\n",
              "      <th>censustractandblock</th>\n",
              "      <th>transactionMonth</th>\n",
              "      <th>transactionWeek</th>\n",
              "      <th>transactionDay</th>\n",
              "      <th>transactionDayofweek</th>\n",
              "      <th>transactionDayofyear</th>\n",
              "      <th>transactionElapsed</th>\n",
              "      <th>logerror</th>\n",
              "    </tr>\n",
              "  </thead>\n",
              "  <tbody>\n",
              "    <tr>\n",
              "      <th>0</th>\n",
              "      <td>#na#</td>\n",
              "      <td>0100</td>\n",
              "      <td>LARS</td>\n",
              "      <td>#na#</td>\n",
              "      <td>#na#</td>\n",
              "      <td>2016</td>\n",
              "      <td>False</td>\n",
              "      <td>True</td>\n",
              "      <td>False</td>\n",
              "      <td>True</td>\n",
              "      <td>False</td>\n",
              "      <td>True</td>\n",
              "      <td>2016-01-01</td>\n",
              "      <td>False</td>\n",
              "      <td>True</td>\n",
              "      <td>True</td>\n",
              "      <td>True</td>\n",
              "      <td>False</td>\n",
              "      <td>False</td>\n",
              "      <td>True</td>\n",
              "      <td>True</td>\n",
              "      <td>False</td>\n",
              "      <td>False</td>\n",
              "      <td>True</td>\n",
              "      <td>True</td>\n",
              "      <td>True</td>\n",
              "      <td>True</td>\n",
              "      <td>True</td>\n",
              "      <td>False</td>\n",
              "      <td>True</td>\n",
              "      <td>True</td>\n",
              "      <td>False</td>\n",
              "      <td>False</td>\n",
              "      <td>True</td>\n",
              "      <td>True</td>\n",
              "      <td>True</td>\n",
              "      <td>True</td>\n",
              "      <td>True</td>\n",
              "      <td>False</td>\n",
              "      <td>False</td>\n",
              "      <td>False</td>\n",
              "      <td>True</td>\n",
              "      <td>True</td>\n",
              "      <td>True</td>\n",
              "      <td>False</td>\n",
              "      <td>True</td>\n",
              "      <td>True</td>\n",
              "      <td>False</td>\n",
              "      <td>True</td>\n",
              "      <td>False</td>\n",
              "      <td>False</td>\n",
              "      <td>False</td>\n",
              "      <td>False</td>\n",
              "      <td>True</td>\n",
              "      <td>False</td>\n",
              "      <td>11016594</td>\n",
              "      <td>1.0</td>\n",
              "      <td>7.0</td>\n",
              "      <td>643.5</td>\n",
              "      <td>2.0</td>\n",
              "      <td>3.0</td>\n",
              "      <td>4.0</td>\n",
              "      <td>4.0</td>\n",
              "      <td>2.0</td>\n",
              "      <td>66.0</td>\n",
              "      <td>1247.0</td>\n",
              "      <td>1684.0</td>\n",
              "      <td>1684.0</td>\n",
              "      <td>1440.0</td>\n",
              "      <td>2101.5</td>\n",
              "      <td>1250.0</td>\n",
              "      <td>1921.0</td>\n",
              "      <td>6037.0</td>\n",
              "      <td>1.0</td>\n",
              "      <td>2.0</td>\n",
              "      <td>2.0</td>\n",
              "      <td>432.0</td>\n",
              "      <td>2.0</td>\n",
              "      <td>34280992.0</td>\n",
              "      <td>-118488536.0</td>\n",
              "      <td>7528.0</td>\n",
              "      <td>1.0</td>\n",
              "      <td>500.0</td>\n",
              "      <td>1.0</td>\n",
              "      <td>1.0</td>\n",
              "      <td>1.0</td>\n",
              "      <td>261.0</td>\n",
              "      <td>60371068.0</td>\n",
              "      <td>12447.0</td>\n",
              "      <td>3101.0</td>\n",
              "      <td>31817.0</td>\n",
              "      <td>96370.0</td>\n",
              "      <td>0.0</td>\n",
              "      <td>7.0</td>\n",
              "      <td>1.0</td>\n",
              "      <td>6.0</td>\n",
              "      <td>1.0</td>\n",
              "      <td>260.0</td>\n",
              "      <td>156.0</td>\n",
              "      <td>1959.0</td>\n",
              "      <td>1.0</td>\n",
              "      <td>122754.0</td>\n",
              "      <td>360170.0</td>\n",
              "      <td>2015.0</td>\n",
              "      <td>237416.0</td>\n",
              "      <td>6735.879883</td>\n",
              "      <td>14.0</td>\n",
              "      <td>6.037107e+13</td>\n",
              "      <td>1</td>\n",
              "      <td>53</td>\n",
              "      <td>1</td>\n",
              "      <td>4</td>\n",
              "      <td>1</td>\n",
              "      <td>1.451606e+09</td>\n",
              "      <td>0.0276</td>\n",
              "    </tr>\n",
              "    <tr>\n",
              "      <th>1</th>\n",
              "      <td>#na#</td>\n",
              "      <td>1</td>\n",
              "      <td>#na#</td>\n",
              "      <td>#na#</td>\n",
              "      <td>#na#</td>\n",
              "      <td>2016</td>\n",
              "      <td>False</td>\n",
              "      <td>True</td>\n",
              "      <td>False</td>\n",
              "      <td>True</td>\n",
              "      <td>False</td>\n",
              "      <td>True</td>\n",
              "      <td>2016-01-01</td>\n",
              "      <td>True</td>\n",
              "      <td>True</td>\n",
              "      <td>True</td>\n",
              "      <td>True</td>\n",
              "      <td>True</td>\n",
              "      <td>False</td>\n",
              "      <td>True</td>\n",
              "      <td>True</td>\n",
              "      <td>False</td>\n",
              "      <td>False</td>\n",
              "      <td>True</td>\n",
              "      <td>True</td>\n",
              "      <td>True</td>\n",
              "      <td>True</td>\n",
              "      <td>True</td>\n",
              "      <td>False</td>\n",
              "      <td>False</td>\n",
              "      <td>False</td>\n",
              "      <td>True</td>\n",
              "      <td>False</td>\n",
              "      <td>True</td>\n",
              "      <td>True</td>\n",
              "      <td>True</td>\n",
              "      <td>True</td>\n",
              "      <td>True</td>\n",
              "      <td>False</td>\n",
              "      <td>True</td>\n",
              "      <td>False</td>\n",
              "      <td>True</td>\n",
              "      <td>False</td>\n",
              "      <td>True</td>\n",
              "      <td>True</td>\n",
              "      <td>True</td>\n",
              "      <td>True</td>\n",
              "      <td>False</td>\n",
              "      <td>True</td>\n",
              "      <td>False</td>\n",
              "      <td>False</td>\n",
              "      <td>False</td>\n",
              "      <td>False</td>\n",
              "      <td>True</td>\n",
              "      <td>True</td>\n",
              "      <td>14366692</td>\n",
              "      <td>1.0</td>\n",
              "      <td>7.0</td>\n",
              "      <td>643.5</td>\n",
              "      <td>3.5</td>\n",
              "      <td>4.0</td>\n",
              "      <td>4.0</td>\n",
              "      <td>7.0</td>\n",
              "      <td>3.5</td>\n",
              "      <td>66.0</td>\n",
              "      <td>1247.0</td>\n",
              "      <td>2263.0</td>\n",
              "      <td>2263.0</td>\n",
              "      <td>1440.0</td>\n",
              "      <td>2101.5</td>\n",
              "      <td>1250.0</td>\n",
              "      <td>1921.0</td>\n",
              "      <td>6059.0</td>\n",
              "      <td>1.0</td>\n",
              "      <td>3.0</td>\n",
              "      <td>2.0</td>\n",
              "      <td>468.0</td>\n",
              "      <td>2.0</td>\n",
              "      <td>33668120.0</td>\n",
              "      <td>-117677552.0</td>\n",
              "      <td>3643.0</td>\n",
              "      <td>1.0</td>\n",
              "      <td>500.0</td>\n",
              "      <td>1.0</td>\n",
              "      <td>1.0</td>\n",
              "      <td>1.0</td>\n",
              "      <td>261.0</td>\n",
              "      <td>60590524.0</td>\n",
              "      <td>32380.0</td>\n",
              "      <td>1286.0</td>\n",
              "      <td>118887.0</td>\n",
              "      <td>96962.0</td>\n",
              "      <td>0.0</td>\n",
              "      <td>7.0</td>\n",
              "      <td>1.0</td>\n",
              "      <td>6.0</td>\n",
              "      <td>1.0</td>\n",
              "      <td>260.0</td>\n",
              "      <td>156.0</td>\n",
              "      <td>2014.0</td>\n",
              "      <td>1.0</td>\n",
              "      <td>346458.0</td>\n",
              "      <td>585529.0</td>\n",
              "      <td>2015.0</td>\n",
              "      <td>239071.0</td>\n",
              "      <td>10153.019531</td>\n",
              "      <td>14.0</td>\n",
              "      <td>6.037620e+13</td>\n",
              "      <td>1</td>\n",
              "      <td>53</td>\n",
              "      <td>1</td>\n",
              "      <td>4</td>\n",
              "      <td>1</td>\n",
              "      <td>1.451606e+09</td>\n",
              "      <td>-0.1684</td>\n",
              "    </tr>\n",
              "    <tr>\n",
              "      <th>2</th>\n",
              "      <td>#na#</td>\n",
              "      <td>0100</td>\n",
              "      <td>PSR6</td>\n",
              "      <td>#na#</td>\n",
              "      <td>#na#</td>\n",
              "      <td>2016</td>\n",
              "      <td>False</td>\n",
              "      <td>True</td>\n",
              "      <td>False</td>\n",
              "      <td>True</td>\n",
              "      <td>False</td>\n",
              "      <td>True</td>\n",
              "      <td>2016-01-01</td>\n",
              "      <td>False</td>\n",
              "      <td>True</td>\n",
              "      <td>True</td>\n",
              "      <td>True</td>\n",
              "      <td>False</td>\n",
              "      <td>False</td>\n",
              "      <td>True</td>\n",
              "      <td>True</td>\n",
              "      <td>False</td>\n",
              "      <td>False</td>\n",
              "      <td>True</td>\n",
              "      <td>True</td>\n",
              "      <td>True</td>\n",
              "      <td>True</td>\n",
              "      <td>True</td>\n",
              "      <td>False</td>\n",
              "      <td>True</td>\n",
              "      <td>True</td>\n",
              "      <td>False</td>\n",
              "      <td>False</td>\n",
              "      <td>True</td>\n",
              "      <td>True</td>\n",
              "      <td>True</td>\n",
              "      <td>True</td>\n",
              "      <td>True</td>\n",
              "      <td>False</td>\n",
              "      <td>False</td>\n",
              "      <td>False</td>\n",
              "      <td>True</td>\n",
              "      <td>True</td>\n",
              "      <td>True</td>\n",
              "      <td>False</td>\n",
              "      <td>True</td>\n",
              "      <td>True</td>\n",
              "      <td>False</td>\n",
              "      <td>True</td>\n",
              "      <td>False</td>\n",
              "      <td>False</td>\n",
              "      <td>False</td>\n",
              "      <td>False</td>\n",
              "      <td>True</td>\n",
              "      <td>False</td>\n",
              "      <td>12098116</td>\n",
              "      <td>1.0</td>\n",
              "      <td>7.0</td>\n",
              "      <td>643.5</td>\n",
              "      <td>3.0</td>\n",
              "      <td>2.0</td>\n",
              "      <td>4.0</td>\n",
              "      <td>4.0</td>\n",
              "      <td>3.0</td>\n",
              "      <td>66.0</td>\n",
              "      <td>1247.0</td>\n",
              "      <td>2217.0</td>\n",
              "      <td>2217.0</td>\n",
              "      <td>1440.0</td>\n",
              "      <td>2101.5</td>\n",
              "      <td>1250.0</td>\n",
              "      <td>1921.0</td>\n",
              "      <td>6037.0</td>\n",
              "      <td>1.0</td>\n",
              "      <td>3.0</td>\n",
              "      <td>2.0</td>\n",
              "      <td>432.0</td>\n",
              "      <td>2.0</td>\n",
              "      <td>34136312.0</td>\n",
              "      <td>-118175032.0</td>\n",
              "      <td>11423.0</td>\n",
              "      <td>1.0</td>\n",
              "      <td>500.0</td>\n",
              "      <td>1.0</td>\n",
              "      <td>1.0</td>\n",
              "      <td>1.0</td>\n",
              "      <td>261.0</td>\n",
              "      <td>60374640.0</td>\n",
              "      <td>47019.0</td>\n",
              "      <td>3101.0</td>\n",
              "      <td>275411.0</td>\n",
              "      <td>96293.0</td>\n",
              "      <td>0.0</td>\n",
              "      <td>7.0</td>\n",
              "      <td>1.0</td>\n",
              "      <td>6.0</td>\n",
              "      <td>1.0</td>\n",
              "      <td>260.0</td>\n",
              "      <td>156.0</td>\n",
              "      <td>1940.0</td>\n",
              "      <td>1.0</td>\n",
              "      <td>61994.0</td>\n",
              "      <td>119906.0</td>\n",
              "      <td>2015.0</td>\n",
              "      <td>57912.0</td>\n",
              "      <td>11484.480469</td>\n",
              "      <td>14.0</td>\n",
              "      <td>6.037464e+13</td>\n",
              "      <td>1</td>\n",
              "      <td>53</td>\n",
              "      <td>1</td>\n",
              "      <td>4</td>\n",
              "      <td>1</td>\n",
              "      <td>1.451606e+09</td>\n",
              "      <td>-0.0040</td>\n",
              "    </tr>\n",
              "  </tbody>\n",
              "</table>"
            ],
            "text/plain": [
              "<IPython.core.display.HTML object>"
            ]
          },
          "metadata": {},
          "output_type": "display_data"
        }
      ],
      "source": [
        "to.show(3)"
      ]
    },
    {
      "cell_type": "markdown",
      "metadata": {
        "id": "kSqxm5U6Gzvj"
      },
      "source": [
        "Underlying values for categorical variables are numeric:"
      ]
    },
    {
      "cell_type": "code",
      "execution_count": 41,
      "metadata": {
        "colab": {
          "base_uri": "https://localhost:8080/",
          "height": 143
        },
        "id": "qP4u9KhfG3hE",
        "outputId": "eaf73f92-8e6a-4b25-d51e-bf4322cb7465"
      },
      "outputs": [
        {
          "data": {
            "text/html": [
              "\n",
              "  <div id=\"df-014410eb-9d12-4c8d-a649-bd00871dc8c9\" class=\"colab-df-container\">\n",
              "    <div>\n",
              "<style scoped>\n",
              "    .dataframe tbody tr th:only-of-type {\n",
              "        vertical-align: middle;\n",
              "    }\n",
              "\n",
              "    .dataframe tbody tr th {\n",
              "        vertical-align: top;\n",
              "    }\n",
              "\n",
              "    .dataframe thead th {\n",
              "        text-align: right;\n",
              "    }\n",
              "</style>\n",
              "<table border=\"1\" class=\"dataframe\">\n",
              "  <thead>\n",
              "    <tr style=\"text-align: right;\">\n",
              "      <th></th>\n",
              "      <th>transactionYear</th>\n",
              "      <th>transactionIs_month_end</th>\n",
              "      <th>transactionIs_month_start</th>\n",
              "    </tr>\n",
              "  </thead>\n",
              "  <tbody>\n",
              "    <tr>\n",
              "      <th>0</th>\n",
              "      <td>1</td>\n",
              "      <td>1</td>\n",
              "      <td>2</td>\n",
              "    </tr>\n",
              "    <tr>\n",
              "      <th>1</th>\n",
              "      <td>1</td>\n",
              "      <td>1</td>\n",
              "      <td>2</td>\n",
              "    </tr>\n",
              "    <tr>\n",
              "      <th>2</th>\n",
              "      <td>1</td>\n",
              "      <td>1</td>\n",
              "      <td>2</td>\n",
              "    </tr>\n",
              "  </tbody>\n",
              "</table>\n",
              "</div>\n",
              "    <div class=\"colab-df-buttons\">\n",
              "\n",
              "  <div class=\"colab-df-container\">\n",
              "    <button class=\"colab-df-convert\" onclick=\"convertToInteractive('df-014410eb-9d12-4c8d-a649-bd00871dc8c9')\"\n",
              "            title=\"Convert this dataframe to an interactive table.\"\n",
              "            style=\"display:none;\">\n",
              "\n",
              "  <svg xmlns=\"http://www.w3.org/2000/svg\" height=\"24px\" viewBox=\"0 -960 960 960\">\n",
              "    <path d=\"M120-120v-720h720v720H120Zm60-500h600v-160H180v160Zm220 220h160v-160H400v160Zm0 220h160v-160H400v160ZM180-400h160v-160H180v160Zm440 0h160v-160H620v160ZM180-180h160v-160H180v160Zm440 0h160v-160H620v160Z\"/>\n",
              "  </svg>\n",
              "    </button>\n",
              "\n",
              "  <style>\n",
              "    .colab-df-container {\n",
              "      display:flex;\n",
              "      gap: 12px;\n",
              "    }\n",
              "\n",
              "    .colab-df-convert {\n",
              "      background-color: #E8F0FE;\n",
              "      border: none;\n",
              "      border-radius: 50%;\n",
              "      cursor: pointer;\n",
              "      display: none;\n",
              "      fill: #1967D2;\n",
              "      height: 32px;\n",
              "      padding: 0 0 0 0;\n",
              "      width: 32px;\n",
              "    }\n",
              "\n",
              "    .colab-df-convert:hover {\n",
              "      background-color: #E2EBFA;\n",
              "      box-shadow: 0px 1px 2px rgba(60, 64, 67, 0.3), 0px 1px 3px 1px rgba(60, 64, 67, 0.15);\n",
              "      fill: #174EA6;\n",
              "    }\n",
              "\n",
              "    .colab-df-buttons div {\n",
              "      margin-bottom: 4px;\n",
              "    }\n",
              "\n",
              "    [theme=dark] .colab-df-convert {\n",
              "      background-color: #3B4455;\n",
              "      fill: #D2E3FC;\n",
              "    }\n",
              "\n",
              "    [theme=dark] .colab-df-convert:hover {\n",
              "      background-color: #434B5C;\n",
              "      box-shadow: 0px 1px 3px 1px rgba(0, 0, 0, 0.15);\n",
              "      filter: drop-shadow(0px 1px 2px rgba(0, 0, 0, 0.3));\n",
              "      fill: #FFFFFF;\n",
              "    }\n",
              "  </style>\n",
              "\n",
              "    <script>\n",
              "      const buttonEl =\n",
              "        document.querySelector('#df-014410eb-9d12-4c8d-a649-bd00871dc8c9 button.colab-df-convert');\n",
              "      buttonEl.style.display =\n",
              "        google.colab.kernel.accessAllowed ? 'block' : 'none';\n",
              "\n",
              "      async function convertToInteractive(key) {\n",
              "        const element = document.querySelector('#df-014410eb-9d12-4c8d-a649-bd00871dc8c9');\n",
              "        const dataTable =\n",
              "          await google.colab.kernel.invokeFunction('convertToInteractive',\n",
              "                                                    [key], {});\n",
              "        if (!dataTable) return;\n",
              "\n",
              "        const docLinkHtml = 'Like what you see? Visit the ' +\n",
              "          '<a target=\"_blank\" href=https://colab.research.google.com/notebooks/data_table.ipynb>data table notebook</a>'\n",
              "          + ' to learn more about interactive tables.';\n",
              "        element.innerHTML = '';\n",
              "        dataTable['output_type'] = 'display_data';\n",
              "        await google.colab.output.renderOutput(dataTable, element);\n",
              "        const docLink = document.createElement('div');\n",
              "        docLink.innerHTML = docLinkHtml;\n",
              "        element.appendChild(docLink);\n",
              "      }\n",
              "    </script>\n",
              "  </div>\n",
              "\n",
              "\n",
              "<div id=\"df-abea3cf9-e8d8-41d6-94af-45d03f2060c3\">\n",
              "  <button class=\"colab-df-quickchart\" onclick=\"quickchart('df-abea3cf9-e8d8-41d6-94af-45d03f2060c3')\"\n",
              "            title=\"Suggest charts.\"\n",
              "            style=\"display:none;\">\n",
              "\n",
              "<svg xmlns=\"http://www.w3.org/2000/svg\" height=\"24px\"viewBox=\"0 0 24 24\"\n",
              "     width=\"24px\">\n",
              "    <g>\n",
              "        <path d=\"M19 3H5c-1.1 0-2 .9-2 2v14c0 1.1.9 2 2 2h14c1.1 0 2-.9 2-2V5c0-1.1-.9-2-2-2zM9 17H7v-7h2v7zm4 0h-2V7h2v10zm4 0h-2v-4h2v4z\"/>\n",
              "    </g>\n",
              "</svg>\n",
              "  </button>\n",
              "\n",
              "<style>\n",
              "  .colab-df-quickchart {\n",
              "      --bg-color: #E8F0FE;\n",
              "      --fill-color: #1967D2;\n",
              "      --hover-bg-color: #E2EBFA;\n",
              "      --hover-fill-color: #174EA6;\n",
              "      --disabled-fill-color: #AAA;\n",
              "      --disabled-bg-color: #DDD;\n",
              "  }\n",
              "\n",
              "  [theme=dark] .colab-df-quickchart {\n",
              "      --bg-color: #3B4455;\n",
              "      --fill-color: #D2E3FC;\n",
              "      --hover-bg-color: #434B5C;\n",
              "      --hover-fill-color: #FFFFFF;\n",
              "      --disabled-bg-color: #3B4455;\n",
              "      --disabled-fill-color: #666;\n",
              "  }\n",
              "\n",
              "  .colab-df-quickchart {\n",
              "    background-color: var(--bg-color);\n",
              "    border: none;\n",
              "    border-radius: 50%;\n",
              "    cursor: pointer;\n",
              "    display: none;\n",
              "    fill: var(--fill-color);\n",
              "    height: 32px;\n",
              "    padding: 0;\n",
              "    width: 32px;\n",
              "  }\n",
              "\n",
              "  .colab-df-quickchart:hover {\n",
              "    background-color: var(--hover-bg-color);\n",
              "    box-shadow: 0 1px 2px rgba(60, 64, 67, 0.3), 0 1px 3px 1px rgba(60, 64, 67, 0.15);\n",
              "    fill: var(--button-hover-fill-color);\n",
              "  }\n",
              "\n",
              "  .colab-df-quickchart-complete:disabled,\n",
              "  .colab-df-quickchart-complete:disabled:hover {\n",
              "    background-color: var(--disabled-bg-color);\n",
              "    fill: var(--disabled-fill-color);\n",
              "    box-shadow: none;\n",
              "  }\n",
              "\n",
              "  .colab-df-spinner {\n",
              "    border: 2px solid var(--fill-color);\n",
              "    border-color: transparent;\n",
              "    border-bottom-color: var(--fill-color);\n",
              "    animation:\n",
              "      spin 1s steps(1) infinite;\n",
              "  }\n",
              "\n",
              "  @keyframes spin {\n",
              "    0% {\n",
              "      border-color: transparent;\n",
              "      border-bottom-color: var(--fill-color);\n",
              "      border-left-color: var(--fill-color);\n",
              "    }\n",
              "    20% {\n",
              "      border-color: transparent;\n",
              "      border-left-color: var(--fill-color);\n",
              "      border-top-color: var(--fill-color);\n",
              "    }\n",
              "    30% {\n",
              "      border-color: transparent;\n",
              "      border-left-color: var(--fill-color);\n",
              "      border-top-color: var(--fill-color);\n",
              "      border-right-color: var(--fill-color);\n",
              "    }\n",
              "    40% {\n",
              "      border-color: transparent;\n",
              "      border-right-color: var(--fill-color);\n",
              "      border-top-color: var(--fill-color);\n",
              "    }\n",
              "    60% {\n",
              "      border-color: transparent;\n",
              "      border-right-color: var(--fill-color);\n",
              "    }\n",
              "    80% {\n",
              "      border-color: transparent;\n",
              "      border-right-color: var(--fill-color);\n",
              "      border-bottom-color: var(--fill-color);\n",
              "    }\n",
              "    90% {\n",
              "      border-color: transparent;\n",
              "      border-bottom-color: var(--fill-color);\n",
              "    }\n",
              "  }\n",
              "</style>\n",
              "\n",
              "  <script>\n",
              "    async function quickchart(key) {\n",
              "      const quickchartButtonEl =\n",
              "        document.querySelector('#' + key + ' button');\n",
              "      quickchartButtonEl.disabled = true;  // To prevent multiple clicks.\n",
              "      quickchartButtonEl.classList.add('colab-df-spinner');\n",
              "      try {\n",
              "        const charts = await google.colab.kernel.invokeFunction(\n",
              "            'suggestCharts', [key], {});\n",
              "      } catch (error) {\n",
              "        console.error('Error during call to suggestCharts:', error);\n",
              "      }\n",
              "      quickchartButtonEl.classList.remove('colab-df-spinner');\n",
              "      quickchartButtonEl.classList.add('colab-df-quickchart-complete');\n",
              "    }\n",
              "    (() => {\n",
              "      let quickchartButtonEl =\n",
              "        document.querySelector('#df-abea3cf9-e8d8-41d6-94af-45d03f2060c3 button');\n",
              "      quickchartButtonEl.style.display =\n",
              "        google.colab.kernel.accessAllowed ? 'block' : 'none';\n",
              "    })();\n",
              "  </script>\n",
              "</div>\n",
              "    </div>\n",
              "  </div>\n"
            ],
            "text/plain": [
              "   transactionYear  transactionIs_month_end  transactionIs_month_start\n",
              "0                1                        1                          2\n",
              "1                1                        1                          2\n",
              "2                1                        1                          2"
            ]
          },
          "execution_count": 41,
          "metadata": {},
          "output_type": "execute_result"
        }
      ],
      "source": [
        "to.items[['transactionYear', 'transactionIs_month_end', 'transactionIs_month_start']].head(3)"
      ]
    },
    {
      "cell_type": "markdown",
      "metadata": {
        "id": "aaDVXHsOHBoH"
      },
      "source": [
        "Now I can build the decision tree following the steps given in the textbook:"
      ]
    },
    {
      "cell_type": "code",
      "execution_count": 42,
      "metadata": {
        "colab": {
          "base_uri": "https://localhost:8080/"
        },
        "id": "GPqp9geFHKpG",
        "outputId": "e0488063-e99b-46a2-ff21-0413191f897f"
      },
      "outputs": [
        {
          "data": {
            "text/plain": [
              "0    0.0276\n",
              "1   -0.1684\n",
              "2   -0.0040\n",
              "3    0.0218\n",
              "4   -0.0050\n",
              "Name: logerror, dtype: float32"
            ]
          },
          "execution_count": 42,
          "metadata": {},
          "output_type": "execute_result"
        }
      ],
      "source": [
        "# make sure logerror looks good\n",
        "to.train.y[:5]"
      ]
    },
    {
      "cell_type": "code",
      "execution_count": 43,
      "metadata": {
        "id": "hX_GdvLeHGmA"
      },
      "outputs": [],
      "source": [
        "xs,y = to.train.xs, to.train.y\n",
        "valid_xs, valid_y = to.valid.xs, to.valid.y"
      ]
    },
    {
      "cell_type": "code",
      "execution_count": 44,
      "metadata": {
        "id": "O2QiMkNiHRtV"
      },
      "outputs": [],
      "source": [
        "m = DecisionTreeRegressor(max_leaf_nodes=4)\n",
        "m.fit(xs,y);"
      ]
    },
    {
      "cell_type": "code",
      "execution_count": 45,
      "metadata": {
        "colab": {
          "base_uri": "https://localhost:8080/",
          "height": 533
        },
        "id": "ftcThecxHUVP",
        "outputId": "f16477ce-cb21-44b7-8150-3dd6a136ed92"
      },
      "outputs": [
        {
          "data": {
            "image/svg+xml": [
              "<?xml version=\"1.0\" encoding=\"UTF-8\" standalone=\"no\"?>\n",
              "<!DOCTYPE svg PUBLIC \"-//W3C//DTD SVG 1.1//EN\"\n",
              " \"http://www.w3.org/Graphics/SVG/1.1/DTD/svg11.dtd\">\n",
              "<!-- Generated by graphviz version 2.43.0 (0)\n",
              " -->\n",
              "<!-- Title: Tree Pages: 1 -->\n",
              "<svg width=\"634pt\" height=\"384pt\"\n",
              " viewBox=\"0.00 0.00 634.00 384.10\" xmlns=\"http://www.w3.org/2000/svg\" xmlns:xlink=\"http://www.w3.org/1999/xlink\">\n",
              "<g id=\"graph0\" class=\"graph\" transform=\"scale(1 1) rotate(0) translate(4 380.1)\">\n",
              "<title>Tree</title>\n",
              "<polygon fill=\"white\" stroke=\"transparent\" points=\"-4,4 -4,-380.1 630,-380.1 630,4 -4,4\"/>\n",
              "<!-- 0 -->\n",
              "<g id=\"node1\" class=\"node\">\n",
              "<title>0</title>\n",
              "<path fill=\"#ffffff\" stroke=\"black\" d=\"M557,-376C557,-376 390,-376 390,-376 384,-376 378,-370 378,-364 378,-364 378,-320 378,-320 378,-314 384,-308 390,-308 390,-308 557,-308 557,-308 563,-308 569,-314 569,-320 569,-320 569,-364 569,-364 569,-370 563,-376 557,-376\"/>\n",
              "<text text-anchor=\"start\" x=\"386\" y=\"-360.8\" font-family=\"Helvetica,sans-Serif\" font-size=\"14.00\">finishedsquarefeet12 ≤ 337.0</text>\n",
              "<text text-anchor=\"start\" x=\"410\" y=\"-345.8\" font-family=\"Helvetica,sans-Serif\" font-size=\"14.00\">squared_error = 0.03</text>\n",
              "<text text-anchor=\"start\" x=\"421\" y=\"-330.8\" font-family=\"Helvetica,sans-Serif\" font-size=\"14.00\">samples = 85670</text>\n",
              "<text text-anchor=\"start\" x=\"436\" y=\"-315.8\" font-family=\"Helvetica,sans-Serif\" font-size=\"14.00\">value = 0.01</text>\n",
              "</g>\n",
              "<!-- 1 -->\n",
              "<g id=\"node2\" class=\"node\">\n",
              "<title>1</title>\n",
              "<path fill=\"#fae8da\" stroke=\"black\" d=\"M456.5,-271C456.5,-271 330.5,-271 330.5,-271 324.5,-271 318.5,-265 318.5,-259 318.5,-259 318.5,-215 318.5,-215 318.5,-209 324.5,-203 330.5,-203 330.5,-203 456.5,-203 456.5,-203 462.5,-203 468.5,-209 468.5,-215 468.5,-215 468.5,-259 468.5,-259 468.5,-265 462.5,-271 456.5,-271\"/>\n",
              "<text text-anchor=\"start\" x=\"326.5\" y=\"-255.8\" font-family=\"Helvetica,sans-Serif\" font-size=\"14.00\">transactiondate ≤ 83.5</text>\n",
              "<text text-anchor=\"start\" x=\"330\" y=\"-240.8\" font-family=\"Helvetica,sans-Serif\" font-size=\"14.00\">squared_error = 0.96</text>\n",
              "<text text-anchor=\"start\" x=\"352.5\" y=\"-225.8\" font-family=\"Helvetica,sans-Serif\" font-size=\"14.00\">samples = 25</text>\n",
              "<text text-anchor=\"start\" x=\"356\" y=\"-210.8\" font-family=\"Helvetica,sans-Serif\" font-size=\"14.00\">value = 0.51</text>\n",
              "</g>\n",
              "<!-- 0&#45;&gt;1 -->\n",
              "<g id=\"edge1\" class=\"edge\">\n",
              "<title>0&#45;&gt;1</title>\n",
              "<path fill=\"none\" stroke=\"black\" d=\"M447.75,-307.84C440.68,-298.75 432.93,-288.77 425.56,-279.28\"/>\n",
              "<polygon fill=\"black\" stroke=\"black\" points=\"428.1,-276.85 419.2,-271.09 422.57,-281.14 428.1,-276.85\"/>\n",
              "<text text-anchor=\"middle\" x=\"416.09\" y=\"-292.2\" font-family=\"Helvetica,sans-Serif\" font-size=\"14.00\">True</text>\n",
              "</g>\n",
              "<!-- 2 -->\n",
              "<g id=\"node7\" class=\"node\">\n",
              "<title>2</title>\n",
              "<path fill=\"#ffffff\" stroke=\"black\" d=\"M614,-53.5C614,-53.5 495,-53.5 495,-53.5 489,-53.5 483,-47.5 483,-41.5 483,-41.5 483,-12.5 483,-12.5 483,-6.5 489,-0.5 495,-0.5 495,-0.5 614,-0.5 614,-0.5 620,-0.5 626,-6.5 626,-12.5 626,-12.5 626,-41.5 626,-41.5 626,-47.5 620,-53.5 614,-53.5\"/>\n",
              "<text text-anchor=\"start\" x=\"491\" y=\"-38.3\" font-family=\"Helvetica,sans-Serif\" font-size=\"14.00\">squared_error = 0.03</text>\n",
              "<text text-anchor=\"start\" x=\"502\" y=\"-23.3\" font-family=\"Helvetica,sans-Serif\" font-size=\"14.00\">samples = 85645</text>\n",
              "<text text-anchor=\"start\" x=\"517\" y=\"-8.3\" font-family=\"Helvetica,sans-Serif\" font-size=\"14.00\">value = 0.01</text>\n",
              "</g>\n",
              "<!-- 0&#45;&gt;2 -->\n",
              "<g id=\"edge6\" class=\"edge\">\n",
              "<title>0&#45;&gt;2</title>\n",
              "<path fill=\"none\" stroke=\"black\" d=\"M482.09,-307.8C497.45,-248.46 529.48,-124.7 545.28,-63.64\"/>\n",
              "<polygon fill=\"black\" stroke=\"black\" points=\"548.73,-64.26 547.85,-53.7 541.96,-62.5 548.73,-64.26\"/>\n",
              "<text text-anchor=\"middle\" x=\"560.53\" y=\"-71.54\" font-family=\"Helvetica,sans-Serif\" font-size=\"14.00\">False</text>\n",
              "</g>\n",
              "<!-- 3 -->\n",
              "<g id=\"node3\" class=\"node\">\n",
              "<title>3</title>\n",
              "<path fill=\"#f0b990\" stroke=\"black\" d=\"M295,-166C295,-166 170,-166 170,-166 164,-166 158,-160 158,-154 158,-154 158,-110 158,-110 158,-104 164,-98 170,-98 170,-98 295,-98 295,-98 301,-98 307,-104 307,-110 307,-110 307,-154 307,-154 307,-160 301,-166 295,-166\"/>\n",
              "<text text-anchor=\"start\" x=\"166\" y=\"-150.8\" font-family=\"Helvetica,sans-Serif\" font-size=\"14.00\">regionidcity ≤ 19815.0</text>\n",
              "<text text-anchor=\"start\" x=\"169\" y=\"-135.8\" font-family=\"Helvetica,sans-Serif\" font-size=\"14.00\">squared_error = 1.62</text>\n",
              "<text text-anchor=\"start\" x=\"195\" y=\"-120.8\" font-family=\"Helvetica,sans-Serif\" font-size=\"14.00\">samples = 7</text>\n",
              "<text text-anchor=\"start\" x=\"199\" y=\"-105.8\" font-family=\"Helvetica,sans-Serif\" font-size=\"14.00\">value = 1.5</text>\n",
              "</g>\n",
              "<!-- 1&#45;&gt;3 -->\n",
              "<g id=\"edge2\" class=\"edge\">\n",
              "<title>1&#45;&gt;3</title>\n",
              "<path fill=\"none\" stroke=\"black\" d=\"M341.67,-202.84C326.16,-192.92 309.01,-181.95 293,-171.7\"/>\n",
              "<polygon fill=\"black\" stroke=\"black\" points=\"294.54,-168.54 284.23,-166.09 290.77,-174.43 294.54,-168.54\"/>\n",
              "</g>\n",
              "<!-- 4 -->\n",
              "<g id=\"node6\" class=\"node\">\n",
              "<title>4</title>\n",
              "<path fill=\"#fefaf7\" stroke=\"black\" d=\"M453,-53.5C453,-53.5 334,-53.5 334,-53.5 328,-53.5 322,-47.5 322,-41.5 322,-41.5 322,-12.5 322,-12.5 322,-6.5 328,-0.5 334,-0.5 334,-0.5 453,-0.5 453,-0.5 459,-0.5 465,-6.5 465,-12.5 465,-12.5 465,-41.5 465,-41.5 465,-47.5 459,-53.5 453,-53.5\"/>\n",
              "<text text-anchor=\"start\" x=\"330\" y=\"-38.3\" font-family=\"Helvetica,sans-Serif\" font-size=\"14.00\">squared_error = 0.16</text>\n",
              "<text text-anchor=\"start\" x=\"352.5\" y=\"-23.3\" font-family=\"Helvetica,sans-Serif\" font-size=\"14.00\">samples = 18</text>\n",
              "<text text-anchor=\"start\" x=\"356\" y=\"-8.3\" font-family=\"Helvetica,sans-Serif\" font-size=\"14.00\">value = 0.12</text>\n",
              "</g>\n",
              "<!-- 1&#45;&gt;4 -->\n",
              "<g id=\"edge5\" class=\"edge\">\n",
              "<title>1&#45;&gt;4</title>\n",
              "<path fill=\"none\" stroke=\"black\" d=\"M393.5,-202.58C393.5,-164.69 393.5,-103.12 393.5,-64.14\"/>\n",
              "<polygon fill=\"black\" stroke=\"black\" points=\"397,-63.78 393.5,-53.78 390,-63.78 397,-63.78\"/>\n",
              "</g>\n",
              "<!-- 5 -->\n",
              "<g id=\"node4\" class=\"node\">\n",
              "<title>5</title>\n",
              "<path fill=\"#e58139\" stroke=\"black\" d=\"M131,-53.5C131,-53.5 12,-53.5 12,-53.5 6,-53.5 0,-47.5 0,-41.5 0,-41.5 0,-12.5 0,-12.5 0,-6.5 6,-0.5 12,-0.5 12,-0.5 131,-0.5 131,-0.5 137,-0.5 143,-6.5 143,-12.5 143,-12.5 143,-41.5 143,-41.5 143,-47.5 137,-53.5 131,-53.5\"/>\n",
              "<text text-anchor=\"start\" x=\"8\" y=\"-38.3\" font-family=\"Helvetica,sans-Serif\" font-size=\"14.00\">squared_error = 0.04</text>\n",
              "<text text-anchor=\"start\" x=\"34\" y=\"-23.3\" font-family=\"Helvetica,sans-Serif\" font-size=\"14.00\">samples = 3</text>\n",
              "<text text-anchor=\"start\" x=\"34\" y=\"-8.3\" font-family=\"Helvetica,sans-Serif\" font-size=\"14.00\">value = 2.69</text>\n",
              "</g>\n",
              "<!-- 3&#45;&gt;5 -->\n",
              "<g id=\"edge3\" class=\"edge\">\n",
              "<title>3&#45;&gt;5</title>\n",
              "<path fill=\"none\" stroke=\"black\" d=\"M180.67,-97.84C161.22,-85.4 139.2,-71.31 120.06,-59.07\"/>\n",
              "<polygon fill=\"black\" stroke=\"black\" points=\"121.8,-56.02 111.49,-53.58 118.02,-61.92 121.8,-56.02\"/>\n",
              "</g>\n",
              "<!-- 6 -->\n",
              "<g id=\"node5\" class=\"node\">\n",
              "<title>6</title>\n",
              "<path fill=\"#f9e2d2\" stroke=\"black\" d=\"M292,-53.5C292,-53.5 173,-53.5 173,-53.5 167,-53.5 161,-47.5 161,-41.5 161,-41.5 161,-12.5 161,-12.5 161,-6.5 167,-0.5 173,-0.5 173,-0.5 292,-0.5 292,-0.5 298,-0.5 304,-6.5 304,-12.5 304,-12.5 304,-41.5 304,-41.5 304,-47.5 298,-53.5 292,-53.5\"/>\n",
              "<text text-anchor=\"start\" x=\"169\" y=\"-38.3\" font-family=\"Helvetica,sans-Serif\" font-size=\"14.00\">squared_error = 0.98</text>\n",
              "<text text-anchor=\"start\" x=\"195\" y=\"-23.3\" font-family=\"Helvetica,sans-Serif\" font-size=\"14.00\">samples = 4</text>\n",
              "<text text-anchor=\"start\" x=\"195\" y=\"-8.3\" font-family=\"Helvetica,sans-Serif\" font-size=\"14.00\">value = 0.62</text>\n",
              "</g>\n",
              "<!-- 3&#45;&gt;6 -->\n",
              "<g id=\"edge4\" class=\"edge\">\n",
              "<title>3&#45;&gt;6</title>\n",
              "<path fill=\"none\" stroke=\"black\" d=\"M232.5,-97.84C232.5,-86.97 232.5,-74.84 232.5,-63.78\"/>\n",
              "<polygon fill=\"black\" stroke=\"black\" points=\"236,-63.58 232.5,-53.58 229,-63.58 236,-63.58\"/>\n",
              "</g>\n",
              "</g>\n",
              "</svg>\n"
            ],
            "text/plain": [
              "<graphviz.sources.Source at 0x7c625ecda0b0>"
            ]
          },
          "execution_count": 45,
          "metadata": {},
          "output_type": "execute_result"
        }
      ],
      "source": [
        "draw_tree(m, xs, size=10, leaves_parallel=True, precision=2)"
      ]
    },
    {
      "cell_type": "markdown",
      "metadata": {
        "id": "QUfvQH1VHt2T"
      },
      "source": [
        "The smallest average `logerror` value in this model is when `finishedsquarefeet12` (which according to their data dictionary is the \"Finished living area\") is greater than 337, which is for 85645 rows which is basically the whole training set."
      ]
    },
    {
      "cell_type": "markdown",
      "metadata": {
        "id": "cWGfEpF6Tg5B"
      },
      "source": [
        "### View the Data for Outliers"
      ]
    },
    {
      "cell_type": "markdown",
      "metadata": {
        "id": "y_QwXYo8IZQ1"
      },
      "source": [
        "As done in the book, I'll look at a sample of the data and visualize it in more detail:"
      ]
    },
    {
      "cell_type": "code",
      "execution_count": 46,
      "metadata": {
        "colab": {
          "base_uri": "https://localhost:8080/",
          "height": 315
        },
        "id": "Zx-tX7pATll9",
        "outputId": "312ccbdc-940b-4a36-92cf-513b2b02a0ec"
      },
      "outputs": [
        {
          "name": "stderr",
          "output_type": "stream",
          "text": [
            "/usr/local/lib/python3.10/dist-packages/sklearn/base.py:439: UserWarning: X does not have valid feature names, but DecisionTreeRegressor was fitted with feature names\n"
          ]
        },
        {
          "data": {
            "image/svg+xml": [
              "<svg xmlns=\"http://www.w3.org/2000/svg\" xmlns:dc=\"http://purl.org/dc/elements/1.1/\" xmlns:ns2=\"http://creativecommons.org/ns#\" xmlns:rdf=\"http://www.w3.org/1999/02/22-rdf-syntax-ns#\" xmlns:xlink=\"http://www.w3.org/1999/xlink\" width=\"1059.2\" height=\"256.0\" viewBox=\"0.0 0.0 1059.2 256.0\">\n",
              "<g id=\"graph0\" class=\"graph\" transform=\"scale(1.6 1.6) rotate(0) translate(4 156)\">\n",
              "<title>G</title>\n",
              "<polygon fill=\"white\" stroke=\"transparent\" points=\"-4,4 -4,-156 658,-156 658,4 -4,4\" />\n",
              "\n",
              "<g id=\"node1\" class=\"node\">\n",
              "<title>node3</title>\n",
              "<text text-anchor=\"start\" x=\"419\" y=\"-91.9\" font-family=\"DejaVu Sans\" font-size=\"12.00\" fill=\"#444443\">regionidcity@19815.00</text>\n",
              "</g>\n",
              "\n",
              "<g id=\"node4\" class=\"node\">\n",
              "<title>leaf5</title>\n",
              "<polygon fill=\"none\" stroke=\"#444443\" stroke-width=\"0\" points=\"654,-152 594,-152 594,-94 654,-94 654,-152\" />\n",
              "<svg width=\"52px\" height=\"50px\" viewBox=\"0 0 70.095312 66.977937\" version=\"1.1\" preserveAspectRatio=\"xMinYMin meet\" x=\"598\" y=\"-148\">\n",
              " <metadata>\n",
              "  <rdf:RDF>\n",
              "   <ns2:Work>\n",
              "    <dc:type rdf:resource=\"http://purl.org/dc/dcmitype/StillImage\" />\n",
              "    <dc:date>2023-09-21T01:46:55.579776</dc:date>\n",
              "    <dc:format>image/svg+xml</dc:format>\n",
              "    <dc:creator>\n",
              "     <ns2:Agent>\n",
              "      <dc:title>Matplotlib v3.7.1, https://matplotlib.org/</dc:title>\n",
              "     </ns2:Agent>\n",
              "    </dc:creator>\n",
              "   </ns2:Work>\n",
              "  </rdf:RDF>\n",
              " </metadata>\n",
              " <defs>\n",
              "  <style type=\"text/css\">*{stroke-linejoin: round; stroke-linecap: butt}</style>\n",
              " </defs>\n",
              " <g id=\"figure_1\">\n",
              "  <g id=\"patch_1\">\n",
              "   <path d=\"M 0 66.977937  L 70.095312 66.977937  L 70.095312 0  L 0 0  z \" style=\"fill: #ffffff\" />\n",
              "  </g>\n",
              "  <g id=\"axes_1\">\n",
              "   <g id=\"patch_2\">\n",
              "    <path d=\"M 13.622656 44.352  L 55.472656 44.352  L 55.472656 0  L 13.622656 0  z \" style=\"fill: #ffffff\" />\n",
              "   </g>\n",
              "   <g id=\"PathCollection_1\" />\n",
              "   <g id=\"matplotlib.axis_1\" />\n",
              "   <g id=\"matplotlib.axis_2\">\n",
              "    <g id=\"ytick_1\">\n",
              "     <g id=\"line2d_1\">\n",
              "      <defs>\n",
              "       <path id=\"m67b1c66e94\" d=\"M 0 0  L -3.5 0  \" style=\"stroke: #000000; stroke-width: 0.3\" />\n",
              "      </defs>\n",
              "      <g>\n",
              "       <use xlink:href=\"#m67b1c66e94\" x=\"13.622656\" y=\"37.569768\" style=\"stroke: #000000; stroke-width: 0.3\" />\n",
              "      </g>\n",
              "     </g>\n",
              "     <g id=\"text_1\">\n",
              "      \n",
              "      <g style=\"fill: #444443\" transform=\"translate(1.532656 40.609143) scale(0.08 -0.08)\">\n",
              "       <defs>\n",
              "        <path id=\"DejaVuSans-30\" d=\"M 2034 4250  Q 1547 4250 1301 3770  Q 1056 3291 1056 2328  Q 1056 1369 1301 889  Q 1547 409 2034 409  Q 2525 409 2770 889  Q 3016 1369 3016 2328  Q 3016 3291 2770 3770  Q 2525 4250 2034 4250  z M 2034 4750  Q 2819 4750 3233 4129  Q 3647 3509 3647 2328  Q 3647 1150 3233 529  Q 2819 -91 2034 -91  Q 1250 -91 836 529  Q 422 1150 422 2328  Q 422 3509 836 4129  Q 1250 4750 2034 4750  z \" transform=\"scale(0.015625)\" />\n",
              "       </defs>\n",
              "       <use xlink:href=\"#DejaVuSans-30\" />\n",
              "      </g>\n",
              "     </g>\n",
              "    </g>\n",
              "    <g id=\"ytick_2\">\n",
              "     <g id=\"line2d_2\">\n",
              "      <g>\n",
              "       <use xlink:href=\"#m67b1c66e94\" x=\"13.622656\" y=\"4.05989\" style=\"stroke: #000000; stroke-width: 0.3\" />\n",
              "      </g>\n",
              "     </g>\n",
              "     <g id=\"text_2\">\n",
              "      \n",
              "      <g style=\"fill: #444443\" transform=\"translate(1.532656 7.099265) scale(0.08 -0.08)\">\n",
              "       <defs>\n",
              "        <path id=\"DejaVuSans-32\" d=\"M 1228 531  L 3431 531  L 3431 0  L 469 0  L 469 531  Q 828 903 1448 1529  Q 2069 2156 2228 2338  Q 2531 2678 2651 2914  Q 2772 3150 2772 3378  Q 2772 3750 2511 3984  Q 2250 4219 1831 4219  Q 1534 4219 1204 4116  Q 875 4013 500 3803  L 500 4441  Q 881 4594 1212 4672  Q 1544 4750 1819 4750  Q 2544 4750 2975 4387  Q 3406 4025 3406 3419  Q 3406 3131 3298 2873  Q 3191 2616 2906 2266  Q 2828 2175 2409 1742  Q 1991 1309 1228 531  z \" transform=\"scale(0.015625)\" />\n",
              "       </defs>\n",
              "       <use xlink:href=\"#DejaVuSans-32\" />\n",
              "      </g>\n",
              "     </g>\n",
              "    </g>\n",
              "   </g>\n",
              "   <g id=\"line2d_3\">\n",
              "    <path clip-path=\"url(#p17b2df2137)\" style=\"fill: none; stroke-dasharray: 3.7,1.6; stroke-dashoffset: 0; stroke: #444443\" />\n",
              "   </g>\n",
              "   <g id=\"patch_3\">\n",
              "    <path d=\"M 13.622656 44.352  L 13.622656 0  \" style=\"fill: none; stroke: #444443; stroke-width: 0.3; stroke-linejoin: miter; stroke-linecap: square\" />\n",
              "   </g>\n",
              "   <g id=\"text_3\">\n",
              "    \n",
              "    <g style=\"fill: #444443\" transform=\"translate(0 53.700437) scale(0.1 -0.1)\">\n",
              "     <defs>\n",
              "      <path id=\"DejaVuSans-6c\" d=\"M 603 4863  L 1178 4863  L 1178 0  L 603 0  L 603 4863  z \" transform=\"scale(0.015625)\" />\n",
              "      <path id=\"DejaVuSans-6f\" d=\"M 1959 3097  Q 1497 3097 1228 2736  Q 959 2375 959 1747  Q 959 1119 1226 758  Q 1494 397 1959 397  Q 2419 397 2687 759  Q 2956 1122 2956 1747  Q 2956 2369 2687 2733  Q 2419 3097 1959 3097  z M 1959 3584  Q 2709 3584 3137 3096  Q 3566 2609 3566 1747  Q 3566 888 3137 398  Q 2709 -91 1959 -91  Q 1206 -91 779 398  Q 353 888 353 1747  Q 353 2609 779 3096  Q 1206 3584 1959 3584  z \" transform=\"scale(0.015625)\" />\n",
              "      <path id=\"DejaVuSans-67\" d=\"M 2906 1791  Q 2906 2416 2648 2759  Q 2391 3103 1925 3103  Q 1463 3103 1205 2759  Q 947 2416 947 1791  Q 947 1169 1205 825  Q 1463 481 1925 481  Q 2391 481 2648 825  Q 2906 1169 2906 1791  z M 3481 434  Q 3481 -459 3084 -895  Q 2688 -1331 1869 -1331  Q 1566 -1331 1297 -1286  Q 1028 -1241 775 -1147  L 775 -588  Q 1028 -725 1275 -790  Q 1522 -856 1778 -856  Q 2344 -856 2625 -561  Q 2906 -266 2906 331  L 2906 616  Q 2728 306 2450 153  Q 2172 0 1784 0  Q 1141 0 747 490  Q 353 981 353 1791  Q 353 2603 747 3093  Q 1141 3584 1784 3584  Q 2172 3584 2450 3431  Q 2728 3278 2906 2969  L 2906 3500  L 3481 3500  L 3481 434  z \" transform=\"scale(0.015625)\" />\n",
              "      <path id=\"DejaVuSans-65\" d=\"M 3597 1894  L 3597 1613  L 953 1613  Q 991 1019 1311 708  Q 1631 397 2203 397  Q 2534 397 2845 478  Q 3156 559 3463 722  L 3463 178  Q 3153 47 2828 -22  Q 2503 -91 2169 -91  Q 1331 -91 842 396  Q 353 884 353 1716  Q 353 2575 817 3079  Q 1281 3584 2069 3584  Q 2775 3584 3186 3129  Q 3597 2675 3597 1894  z M 3022 2063  Q 3016 2534 2758 2815  Q 2500 3097 2075 3097  Q 1594 3097 1305 2825  Q 1016 2553 972 2059  L 3022 2063  z \" transform=\"scale(0.015625)\" />\n",
              "      <path id=\"DejaVuSans-72\" d=\"M 2631 2963  Q 2534 3019 2420 3045  Q 2306 3072 2169 3072  Q 1681 3072 1420 2755  Q 1159 2438 1159 1844  L 1159 0  L 581 0  L 581 3500  L 1159 3500  L 1159 2956  Q 1341 3275 1631 3429  Q 1922 3584 2338 3584  Q 2397 3584 2469 3576  Q 2541 3569 2628 3553  L 2631 2963  z \" transform=\"scale(0.015625)\" />\n",
              "      <path id=\"DejaVuSans-3d\" d=\"M 678 2906  L 4684 2906  L 4684 2381  L 678 2381  L 678 2906  z M 678 1631  L 4684 1631  L 4684 1100  L 678 1100  L 678 1631  z \" transform=\"scale(0.015625)\" />\n",
              "      <path id=\"DejaVuSans-2e\" d=\"M 684 794  L 1344 794  L 1344 0  L 684 0  L 684 794  z \" transform=\"scale(0.015625)\" />\n",
              "      <path id=\"DejaVuSans-36\" d=\"M 2113 2584  Q 1688 2584 1439 2293  Q 1191 2003 1191 1497  Q 1191 994 1439 701  Q 1688 409 2113 409  Q 2538 409 2786 701  Q 3034 994 3034 1497  Q 3034 2003 2786 2293  Q 2538 2584 2113 2584  z M 3366 4563  L 3366 3988  Q 3128 4100 2886 4159  Q 2644 4219 2406 4219  Q 1781 4219 1451 3797  Q 1122 3375 1075 2522  Q 1259 2794 1537 2939  Q 1816 3084 2150 3084  Q 2853 3084 3261 2657  Q 3669 2231 3669 1497  Q 3669 778 3244 343  Q 2819 -91 2113 -91  Q 1303 -91 875 529  Q 447 1150 447 2328  Q 447 3434 972 4092  Q 1497 4750 2381 4750  Q 2619 4750 2861 4703  Q 3103 4656 3366 4563  z \" transform=\"scale(0.015625)\" />\n",
              "      <path id=\"DejaVuSans-39\" d=\"M 703 97  L 703 672  Q 941 559 1184 500  Q 1428 441 1663 441  Q 2288 441 2617 861  Q 2947 1281 2994 2138  Q 2813 1869 2534 1725  Q 2256 1581 1919 1581  Q 1219 1581 811 2004  Q 403 2428 403 3163  Q 403 3881 828 4315  Q 1253 4750 1959 4750  Q 2769 4750 3195 4129  Q 3622 3509 3622 2328  Q 3622 1225 3098 567  Q 2575 -91 1691 -91  Q 1453 -91 1209 -44  Q 966 3 703 97  z M 1959 2075  Q 2384 2075 2632 2365  Q 2881 2656 2881 3163  Q 2881 3666 2632 3958  Q 2384 4250 1959 4250  Q 1534 4250 1286 3958  Q 1038 3666 1038 3163  Q 1038 2656 1286 2365  Q 1534 2075 1959 2075  z \" transform=\"scale(0.015625)\" />\n",
              "     </defs>\n",
              "     <use xlink:href=\"#DejaVuSans-6c\" />\n",
              "     <use xlink:href=\"#DejaVuSans-6f\" x=\"27.783203\" />\n",
              "     <use xlink:href=\"#DejaVuSans-67\" x=\"88.964844\" />\n",
              "     <use xlink:href=\"#DejaVuSans-65\" x=\"152.441406\" />\n",
              "     <use xlink:href=\"#DejaVuSans-72\" x=\"213.964844\" />\n",
              "     <use xlink:href=\"#DejaVuSans-72\" x=\"253.328125\" />\n",
              "     <use xlink:href=\"#DejaVuSans-6f\" x=\"292.191406\" />\n",
              "     <use xlink:href=\"#DejaVuSans-72\" x=\"353.373047\" />\n",
              "     <use xlink:href=\"#DejaVuSans-3d\" x=\"394.486328\" />\n",
              "     <use xlink:href=\"#DejaVuSans-32\" x=\"478.275391\" />\n",
              "     <use xlink:href=\"#DejaVuSans-2e\" x=\"541.898438\" />\n",
              "     <use xlink:href=\"#DejaVuSans-36\" x=\"573.685547\" />\n",
              "     <use xlink:href=\"#DejaVuSans-39\" x=\"637.308594\" />\n",
              "    </g>\n",
              "    \n",
              "    <g style=\"fill: #444443\" transform=\"translate(24.507812 64.89825) scale(0.1 -0.1)\">\n",
              "     <defs>\n",
              "      <path id=\"DejaVuSans-6e\" d=\"M 3513 2113  L 3513 0  L 2938 0  L 2938 2094  Q 2938 2591 2744 2837  Q 2550 3084 2163 3084  Q 1697 3084 1428 2787  Q 1159 2491 1159 1978  L 1159 0  L 581 0  L 581 3500  L 1159 3500  L 1159 2956  Q 1366 3272 1645 3428  Q 1925 3584 2291 3584  Q 2894 3584 3203 3211  Q 3513 2838 3513 2113  z \" transform=\"scale(0.015625)\" />\n",
              "     </defs>\n",
              "     <use xlink:href=\"#DejaVuSans-6e\" />\n",
              "     <use xlink:href=\"#DejaVuSans-3d\" x=\"63.378906\" />\n",
              "     <use xlink:href=\"#DejaVuSans-30\" x=\"147.167969\" />\n",
              "    </g>\n",
              "   </g>\n",
              "  </g>\n",
              " </g>\n",
              " <defs>\n",
              "  <clipPath id=\"p17b2df2137\">\n",
              "   <rect x=\"13.622656\" y=\"0\" width=\"41.85\" height=\"44.352\" />\n",
              "  </clipPath>\n",
              " </defs>\n",
              "</svg></g>\n",
              "\n",
              "<g id=\"edge1\" class=\"edge\">\n",
              "<title>node3-&gt;leaf5</title>\n",
              "<path fill=\"none\" stroke=\"#444443\" stroke-width=\"0.3\" d=\"M528.07,-101.56C546.44,-105.71 570.24,-111.09 589.41,-115.42\" />\n",
              "<polygon fill=\"#444443\" stroke=\"#444443\" stroke-width=\"0.3\" points=\"589.47,-116.86 593.68,-116.38 590.09,-114.13 589.47,-116.86\" />\n",
              "</g>\n",
              "\n",
              "<g id=\"node5\" class=\"node\">\n",
              "<title>leaf6</title>\n",
              "<polygon fill=\"none\" stroke=\"#444443\" stroke-width=\"0\" points=\"654,-82 594,-82 594,-24 654,-24 654,-82\" />\n",
              "<svg width=\"52px\" height=\"50px\" viewBox=\"0 0 70.095312 66.977937\" version=\"1.1\" preserveAspectRatio=\"xMinYMin meet\" x=\"598\" y=\"-78\">\n",
              " <metadata>\n",
              "  <rdf:RDF>\n",
              "   <ns2:Work>\n",
              "    <dc:type rdf:resource=\"http://purl.org/dc/dcmitype/StillImage\" />\n",
              "    <dc:date>2023-09-21T01:46:55.848497</dc:date>\n",
              "    <dc:format>image/svg+xml</dc:format>\n",
              "    <dc:creator>\n",
              "     <ns2:Agent>\n",
              "      <dc:title>Matplotlib v3.7.1, https://matplotlib.org/</dc:title>\n",
              "     </ns2:Agent>\n",
              "    </dc:creator>\n",
              "   </ns2:Work>\n",
              "  </rdf:RDF>\n",
              " </metadata>\n",
              " <defs>\n",
              "  <style type=\"text/css\">*{stroke-linejoin: round; stroke-linecap: butt}</style>\n",
              " </defs>\n",
              " <g id=\"figure_1\">\n",
              "  <g id=\"patch_1\">\n",
              "   <path d=\"M 0 66.977937  L 70.095312 66.977937  L 70.095312 0  L 0 0  z \" style=\"fill: #ffffff\" />\n",
              "  </g>\n",
              "  <g id=\"axes_1\">\n",
              "   <g id=\"patch_2\">\n",
              "    <path d=\"M 13.622656 44.352  L 55.472656 44.352  L 55.472656 0  L 13.622656 0  z \" style=\"fill: #ffffff\" />\n",
              "   </g>\n",
              "   <g id=\"PathCollection_1\" />\n",
              "   <g id=\"matplotlib.axis_1\" />\n",
              "   <g id=\"matplotlib.axis_2\">\n",
              "    <g id=\"ytick_1\">\n",
              "     <g id=\"line2d_1\">\n",
              "      <defs>\n",
              "       <path id=\"m58cec5b894\" d=\"M 0 0  L -3.5 0  \" style=\"stroke: #000000; stroke-width: 0.3\" />\n",
              "      </defs>\n",
              "      <g>\n",
              "       <use xlink:href=\"#m58cec5b894\" x=\"13.622656\" y=\"37.569768\" style=\"stroke: #000000; stroke-width: 0.3\" />\n",
              "      </g>\n",
              "     </g>\n",
              "     <g id=\"text_1\">\n",
              "      \n",
              "      <g style=\"fill: #444443\" transform=\"translate(1.532656 40.609143) scale(0.08 -0.08)\">\n",
              "       <defs>\n",
              "        <path id=\"DejaVuSans-30\" d=\"M 2034 4250  Q 1547 4250 1301 3770  Q 1056 3291 1056 2328  Q 1056 1369 1301 889  Q 1547 409 2034 409  Q 2525 409 2770 889  Q 3016 1369 3016 2328  Q 3016 3291 2770 3770  Q 2525 4250 2034 4250  z M 2034 4750  Q 2819 4750 3233 4129  Q 3647 3509 3647 2328  Q 3647 1150 3233 529  Q 2819 -91 2034 -91  Q 1250 -91 836 529  Q 422 1150 422 2328  Q 422 3509 836 4129  Q 1250 4750 2034 4750  z \" transform=\"scale(0.015625)\" />\n",
              "       </defs>\n",
              "       <use xlink:href=\"#DejaVuSans-30\" />\n",
              "      </g>\n",
              "     </g>\n",
              "    </g>\n",
              "    <g id=\"ytick_2\">\n",
              "     <g id=\"line2d_2\">\n",
              "      <g>\n",
              "       <use xlink:href=\"#m58cec5b894\" x=\"13.622656\" y=\"4.05989\" style=\"stroke: #000000; stroke-width: 0.3\" />\n",
              "      </g>\n",
              "     </g>\n",
              "     <g id=\"text_2\">\n",
              "      \n",
              "      <g style=\"fill: #444443\" transform=\"translate(1.532656 7.099265) scale(0.08 -0.08)\">\n",
              "       <defs>\n",
              "        <path id=\"DejaVuSans-32\" d=\"M 1228 531  L 3431 531  L 3431 0  L 469 0  L 469 531  Q 828 903 1448 1529  Q 2069 2156 2228 2338  Q 2531 2678 2651 2914  Q 2772 3150 2772 3378  Q 2772 3750 2511 3984  Q 2250 4219 1831 4219  Q 1534 4219 1204 4116  Q 875 4013 500 3803  L 500 4441  Q 881 4594 1212 4672  Q 1544 4750 1819 4750  Q 2544 4750 2975 4387  Q 3406 4025 3406 3419  Q 3406 3131 3298 2873  Q 3191 2616 2906 2266  Q 2828 2175 2409 1742  Q 1991 1309 1228 531  z \" transform=\"scale(0.015625)\" />\n",
              "       </defs>\n",
              "       <use xlink:href=\"#DejaVuSans-32\" />\n",
              "      </g>\n",
              "     </g>\n",
              "    </g>\n",
              "   </g>\n",
              "   <g id=\"line2d_3\">\n",
              "    <path d=\"M 13.622656 27.211027  L 13.622656 27.211027  \" clip-path=\"url(#pd09c8f19a6)\" style=\"fill: none; stroke-dasharray: 3.7,1.6; stroke-dashoffset: 0; stroke: #444443\" />\n",
              "   </g>\n",
              "   <g id=\"patch_3\">\n",
              "    <path d=\"M 13.622656 44.352  L 13.622656 0  \" style=\"fill: none; stroke: #444443; stroke-width: 0.3; stroke-linejoin: miter; stroke-linecap: square\" />\n",
              "   </g>\n",
              "   <g id=\"text_3\">\n",
              "    \n",
              "    <g style=\"fill: #444443\" transform=\"translate(0 53.700437) scale(0.1 -0.1)\">\n",
              "     <defs>\n",
              "      <path id=\"DejaVuSans-6c\" d=\"M 603 4863  L 1178 4863  L 1178 0  L 603 0  L 603 4863  z \" transform=\"scale(0.015625)\" />\n",
              "      <path id=\"DejaVuSans-6f\" d=\"M 1959 3097  Q 1497 3097 1228 2736  Q 959 2375 959 1747  Q 959 1119 1226 758  Q 1494 397 1959 397  Q 2419 397 2687 759  Q 2956 1122 2956 1747  Q 2956 2369 2687 2733  Q 2419 3097 1959 3097  z M 1959 3584  Q 2709 3584 3137 3096  Q 3566 2609 3566 1747  Q 3566 888 3137 398  Q 2709 -91 1959 -91  Q 1206 -91 779 398  Q 353 888 353 1747  Q 353 2609 779 3096  Q 1206 3584 1959 3584  z \" transform=\"scale(0.015625)\" />\n",
              "      <path id=\"DejaVuSans-67\" d=\"M 2906 1791  Q 2906 2416 2648 2759  Q 2391 3103 1925 3103  Q 1463 3103 1205 2759  Q 947 2416 947 1791  Q 947 1169 1205 825  Q 1463 481 1925 481  Q 2391 481 2648 825  Q 2906 1169 2906 1791  z M 3481 434  Q 3481 -459 3084 -895  Q 2688 -1331 1869 -1331  Q 1566 -1331 1297 -1286  Q 1028 -1241 775 -1147  L 775 -588  Q 1028 -725 1275 -790  Q 1522 -856 1778 -856  Q 2344 -856 2625 -561  Q 2906 -266 2906 331  L 2906 616  Q 2728 306 2450 153  Q 2172 0 1784 0  Q 1141 0 747 490  Q 353 981 353 1791  Q 353 2603 747 3093  Q 1141 3584 1784 3584  Q 2172 3584 2450 3431  Q 2728 3278 2906 2969  L 2906 3500  L 3481 3500  L 3481 434  z \" transform=\"scale(0.015625)\" />\n",
              "      <path id=\"DejaVuSans-65\" d=\"M 3597 1894  L 3597 1613  L 953 1613  Q 991 1019 1311 708  Q 1631 397 2203 397  Q 2534 397 2845 478  Q 3156 559 3463 722  L 3463 178  Q 3153 47 2828 -22  Q 2503 -91 2169 -91  Q 1331 -91 842 396  Q 353 884 353 1716  Q 353 2575 817 3079  Q 1281 3584 2069 3584  Q 2775 3584 3186 3129  Q 3597 2675 3597 1894  z M 3022 2063  Q 3016 2534 2758 2815  Q 2500 3097 2075 3097  Q 1594 3097 1305 2825  Q 1016 2553 972 2059  L 3022 2063  z \" transform=\"scale(0.015625)\" />\n",
              "      <path id=\"DejaVuSans-72\" d=\"M 2631 2963  Q 2534 3019 2420 3045  Q 2306 3072 2169 3072  Q 1681 3072 1420 2755  Q 1159 2438 1159 1844  L 1159 0  L 581 0  L 581 3500  L 1159 3500  L 1159 2956  Q 1341 3275 1631 3429  Q 1922 3584 2338 3584  Q 2397 3584 2469 3576  Q 2541 3569 2628 3553  L 2631 2963  z \" transform=\"scale(0.015625)\" />\n",
              "      <path id=\"DejaVuSans-3d\" d=\"M 678 2906  L 4684 2906  L 4684 2381  L 678 2381  L 678 2906  z M 678 1631  L 4684 1631  L 4684 1100  L 678 1100  L 678 1631  z \" transform=\"scale(0.015625)\" />\n",
              "      <path id=\"DejaVuSans-2e\" d=\"M 684 794  L 1344 794  L 1344 0  L 684 0  L 684 794  z \" transform=\"scale(0.015625)\" />\n",
              "      <path id=\"DejaVuSans-36\" d=\"M 2113 2584  Q 1688 2584 1439 2293  Q 1191 2003 1191 1497  Q 1191 994 1439 701  Q 1688 409 2113 409  Q 2538 409 2786 701  Q 3034 994 3034 1497  Q 3034 2003 2786 2293  Q 2538 2584 2113 2584  z M 3366 4563  L 3366 3988  Q 3128 4100 2886 4159  Q 2644 4219 2406 4219  Q 1781 4219 1451 3797  Q 1122 3375 1075 2522  Q 1259 2794 1537 2939  Q 1816 3084 2150 3084  Q 2853 3084 3261 2657  Q 3669 2231 3669 1497  Q 3669 778 3244 343  Q 2819 -91 2113 -91  Q 1303 -91 875 529  Q 447 1150 447 2328  Q 447 3434 972 4092  Q 1497 4750 2381 4750  Q 2619 4750 2861 4703  Q 3103 4656 3366 4563  z \" transform=\"scale(0.015625)\" />\n",
              "     </defs>\n",
              "     <use xlink:href=\"#DejaVuSans-6c\" />\n",
              "     <use xlink:href=\"#DejaVuSans-6f\" x=\"27.783203\" />\n",
              "     <use xlink:href=\"#DejaVuSans-67\" x=\"88.964844\" />\n",
              "     <use xlink:href=\"#DejaVuSans-65\" x=\"152.441406\" />\n",
              "     <use xlink:href=\"#DejaVuSans-72\" x=\"213.964844\" />\n",
              "     <use xlink:href=\"#DejaVuSans-72\" x=\"253.328125\" />\n",
              "     <use xlink:href=\"#DejaVuSans-6f\" x=\"292.191406\" />\n",
              "     <use xlink:href=\"#DejaVuSans-72\" x=\"353.373047\" />\n",
              "     <use xlink:href=\"#DejaVuSans-3d\" x=\"394.486328\" />\n",
              "     <use xlink:href=\"#DejaVuSans-30\" x=\"478.275391\" />\n",
              "     <use xlink:href=\"#DejaVuSans-2e\" x=\"541.898438\" />\n",
              "     <use xlink:href=\"#DejaVuSans-36\" x=\"573.685547\" />\n",
              "     <use xlink:href=\"#DejaVuSans-32\" x=\"637.308594\" />\n",
              "    </g>\n",
              "    \n",
              "    <g style=\"fill: #444443\" transform=\"translate(24.507812 64.89825) scale(0.1 -0.1)\">\n",
              "     <defs>\n",
              "      <path id=\"DejaVuSans-6e\" d=\"M 3513 2113  L 3513 0  L 2938 0  L 2938 2094  Q 2938 2591 2744 2837  Q 2550 3084 2163 3084  Q 1697 3084 1428 2787  Q 1159 2491 1159 1978  L 1159 0  L 581 0  L 581 3500  L 1159 3500  L 1159 2956  Q 1366 3272 1645 3428  Q 1925 3584 2291 3584  Q 2894 3584 3203 3211  Q 3513 2838 3513 2113  z \" transform=\"scale(0.015625)\" />\n",
              "     </defs>\n",
              "     <use xlink:href=\"#DejaVuSans-6e\" />\n",
              "     <use xlink:href=\"#DejaVuSans-3d\" x=\"63.378906\" />\n",
              "     <use xlink:href=\"#DejaVuSans-30\" x=\"147.167969\" />\n",
              "    </g>\n",
              "   </g>\n",
              "  </g>\n",
              " </g>\n",
              " <defs>\n",
              "  <clipPath id=\"pd09c8f19a6\">\n",
              "   <rect x=\"13.622656\" y=\"0\" width=\"41.85\" height=\"44.352\" />\n",
              "  </clipPath>\n",
              " </defs>\n",
              "</svg></g>\n",
              "\n",
              "<g id=\"edge2\" class=\"edge\">\n",
              "<title>node3-&gt;leaf6</title>\n",
              "<path fill=\"none\" stroke=\"#444443\" stroke-width=\"0.3\" d=\"M518.38,-88.44C537.43,-81.98 566.91,-72 589.72,-64.27\" />\n",
              "<polygon fill=\"#444443\" stroke=\"#444443\" stroke-width=\"0.3\" points=\"590.27,-65.56 593.61,-62.95 589.38,-62.91 590.27,-65.56\" />\n",
              "</g>\n",
              "\n",
              "<g id=\"node6\" class=\"node\">\n",
              "<title>leaf4</title>\n",
              "<polygon fill=\"none\" stroke=\"#444443\" stroke-width=\"0\" points=\"528,-77 468,-77 468,-19 528,-19 528,-77\" />\n",
              "<svg width=\"52px\" height=\"50px\" viewBox=\"0 0 70.095312 66.977937\" version=\"1.1\" preserveAspectRatio=\"xMinYMin meet\" x=\"472\" y=\"-73\">\n",
              " <metadata>\n",
              "  <rdf:RDF>\n",
              "   <ns2:Work>\n",
              "    <dc:type rdf:resource=\"http://purl.org/dc/dcmitype/StillImage\" />\n",
              "    <dc:date>2023-09-21T01:46:56.117139</dc:date>\n",
              "    <dc:format>image/svg+xml</dc:format>\n",
              "    <dc:creator>\n",
              "     <ns2:Agent>\n",
              "      <dc:title>Matplotlib v3.7.1, https://matplotlib.org/</dc:title>\n",
              "     </ns2:Agent>\n",
              "    </dc:creator>\n",
              "   </ns2:Work>\n",
              "  </rdf:RDF>\n",
              " </metadata>\n",
              " <defs>\n",
              "  <style type=\"text/css\">*{stroke-linejoin: round; stroke-linecap: butt}</style>\n",
              " </defs>\n",
              " <g id=\"figure_1\">\n",
              "  <g id=\"patch_1\">\n",
              "   <path d=\"M 0 66.977937  L 70.095312 66.977937  L 70.095312 0  L 0 0  z \" style=\"fill: #ffffff\" />\n",
              "  </g>\n",
              "  <g id=\"axes_1\">\n",
              "   <g id=\"patch_2\">\n",
              "    <path d=\"M 13.622656 44.352  L 55.472656 44.352  L 55.472656 0  L 13.622656 0  z \" style=\"fill: #ffffff\" />\n",
              "   </g>\n",
              "   <g id=\"PathCollection_1\" />\n",
              "   <g id=\"matplotlib.axis_1\" />\n",
              "   <g id=\"matplotlib.axis_2\">\n",
              "    <g id=\"ytick_1\">\n",
              "     <g id=\"line2d_1\">\n",
              "      <defs>\n",
              "       <path id=\"m7fe09c05ad\" d=\"M 0 0  L -3.5 0  \" style=\"stroke: #000000; stroke-width: 0.3\" />\n",
              "      </defs>\n",
              "      <g>\n",
              "       <use xlink:href=\"#m7fe09c05ad\" x=\"13.622656\" y=\"37.569768\" style=\"stroke: #000000; stroke-width: 0.3\" />\n",
              "      </g>\n",
              "     </g>\n",
              "     <g id=\"text_1\">\n",
              "      \n",
              "      <g style=\"fill: #444443\" transform=\"translate(1.532656 40.609143) scale(0.08 -0.08)\">\n",
              "       <defs>\n",
              "        <path id=\"DejaVuSans-30\" d=\"M 2034 4250  Q 1547 4250 1301 3770  Q 1056 3291 1056 2328  Q 1056 1369 1301 889  Q 1547 409 2034 409  Q 2525 409 2770 889  Q 3016 1369 3016 2328  Q 3016 3291 2770 3770  Q 2525 4250 2034 4250  z M 2034 4750  Q 2819 4750 3233 4129  Q 3647 3509 3647 2328  Q 3647 1150 3233 529  Q 2819 -91 2034 -91  Q 1250 -91 836 529  Q 422 1150 422 2328  Q 422 3509 836 4129  Q 1250 4750 2034 4750  z \" transform=\"scale(0.015625)\" />\n",
              "       </defs>\n",
              "       <use xlink:href=\"#DejaVuSans-30\" />\n",
              "      </g>\n",
              "     </g>\n",
              "    </g>\n",
              "    <g id=\"ytick_2\">\n",
              "     <g id=\"line2d_2\">\n",
              "      <g>\n",
              "       <use xlink:href=\"#m7fe09c05ad\" x=\"13.622656\" y=\"4.05989\" style=\"stroke: #000000; stroke-width: 0.3\" />\n",
              "      </g>\n",
              "     </g>\n",
              "     <g id=\"text_2\">\n",
              "      \n",
              "      <g style=\"fill: #444443\" transform=\"translate(1.532656 7.099265) scale(0.08 -0.08)\">\n",
              "       <defs>\n",
              "        <path id=\"DejaVuSans-32\" d=\"M 1228 531  L 3431 531  L 3431 0  L 469 0  L 469 531  Q 828 903 1448 1529  Q 2069 2156 2228 2338  Q 2531 2678 2651 2914  Q 2772 3150 2772 3378  Q 2772 3750 2511 3984  Q 2250 4219 1831 4219  Q 1534 4219 1204 4116  Q 875 4013 500 3803  L 500 4441  Q 881 4594 1212 4672  Q 1544 4750 1819 4750  Q 2544 4750 2975 4387  Q 3406 4025 3406 3419  Q 3406 3131 3298 2873  Q 3191 2616 2906 2266  Q 2828 2175 2409 1742  Q 1991 1309 1228 531  z \" transform=\"scale(0.015625)\" />\n",
              "       </defs>\n",
              "       <use xlink:href=\"#DejaVuSans-32\" />\n",
              "      </g>\n",
              "     </g>\n",
              "    </g>\n",
              "   </g>\n",
              "   <g id=\"line2d_3\">\n",
              "    <path d=\"M 13.622656 35.600877  L 13.622656 35.600877  \" clip-path=\"url(#pd7e3e71af6)\" style=\"fill: none; stroke-dasharray: 3.7,1.6; stroke-dashoffset: 0; stroke: #444443\" />\n",
              "   </g>\n",
              "   <g id=\"patch_3\">\n",
              "    <path d=\"M 13.622656 44.352  L 13.622656 0  \" style=\"fill: none; stroke: #444443; stroke-width: 0.3; stroke-linejoin: miter; stroke-linecap: square\" />\n",
              "   </g>\n",
              "   <g id=\"text_3\">\n",
              "    \n",
              "    <g style=\"fill: #444443\" transform=\"translate(0 53.700437) scale(0.1 -0.1)\">\n",
              "     <defs>\n",
              "      <path id=\"DejaVuSans-6c\" d=\"M 603 4863  L 1178 4863  L 1178 0  L 603 0  L 603 4863  z \" transform=\"scale(0.015625)\" />\n",
              "      <path id=\"DejaVuSans-6f\" d=\"M 1959 3097  Q 1497 3097 1228 2736  Q 959 2375 959 1747  Q 959 1119 1226 758  Q 1494 397 1959 397  Q 2419 397 2687 759  Q 2956 1122 2956 1747  Q 2956 2369 2687 2733  Q 2419 3097 1959 3097  z M 1959 3584  Q 2709 3584 3137 3096  Q 3566 2609 3566 1747  Q 3566 888 3137 398  Q 2709 -91 1959 -91  Q 1206 -91 779 398  Q 353 888 353 1747  Q 353 2609 779 3096  Q 1206 3584 1959 3584  z \" transform=\"scale(0.015625)\" />\n",
              "      <path id=\"DejaVuSans-67\" d=\"M 2906 1791  Q 2906 2416 2648 2759  Q 2391 3103 1925 3103  Q 1463 3103 1205 2759  Q 947 2416 947 1791  Q 947 1169 1205 825  Q 1463 481 1925 481  Q 2391 481 2648 825  Q 2906 1169 2906 1791  z M 3481 434  Q 3481 -459 3084 -895  Q 2688 -1331 1869 -1331  Q 1566 -1331 1297 -1286  Q 1028 -1241 775 -1147  L 775 -588  Q 1028 -725 1275 -790  Q 1522 -856 1778 -856  Q 2344 -856 2625 -561  Q 2906 -266 2906 331  L 2906 616  Q 2728 306 2450 153  Q 2172 0 1784 0  Q 1141 0 747 490  Q 353 981 353 1791  Q 353 2603 747 3093  Q 1141 3584 1784 3584  Q 2172 3584 2450 3431  Q 2728 3278 2906 2969  L 2906 3500  L 3481 3500  L 3481 434  z \" transform=\"scale(0.015625)\" />\n",
              "      <path id=\"DejaVuSans-65\" d=\"M 3597 1894  L 3597 1613  L 953 1613  Q 991 1019 1311 708  Q 1631 397 2203 397  Q 2534 397 2845 478  Q 3156 559 3463 722  L 3463 178  Q 3153 47 2828 -22  Q 2503 -91 2169 -91  Q 1331 -91 842 396  Q 353 884 353 1716  Q 353 2575 817 3079  Q 1281 3584 2069 3584  Q 2775 3584 3186 3129  Q 3597 2675 3597 1894  z M 3022 2063  Q 3016 2534 2758 2815  Q 2500 3097 2075 3097  Q 1594 3097 1305 2825  Q 1016 2553 972 2059  L 3022 2063  z \" transform=\"scale(0.015625)\" />\n",
              "      <path id=\"DejaVuSans-72\" d=\"M 2631 2963  Q 2534 3019 2420 3045  Q 2306 3072 2169 3072  Q 1681 3072 1420 2755  Q 1159 2438 1159 1844  L 1159 0  L 581 0  L 581 3500  L 1159 3500  L 1159 2956  Q 1341 3275 1631 3429  Q 1922 3584 2338 3584  Q 2397 3584 2469 3576  Q 2541 3569 2628 3553  L 2631 2963  z \" transform=\"scale(0.015625)\" />\n",
              "      <path id=\"DejaVuSans-3d\" d=\"M 678 2906  L 4684 2906  L 4684 2381  L 678 2381  L 678 2906  z M 678 1631  L 4684 1631  L 4684 1100  L 678 1100  L 678 1631  z \" transform=\"scale(0.015625)\" />\n",
              "      <path id=\"DejaVuSans-2e\" d=\"M 684 794  L 1344 794  L 1344 0  L 684 0  L 684 794  z \" transform=\"scale(0.015625)\" />\n",
              "      <path id=\"DejaVuSans-31\" d=\"M 794 531  L 1825 531  L 1825 4091  L 703 3866  L 703 4441  L 1819 4666  L 2450 4666  L 2450 531  L 3481 531  L 3481 0  L 794 0  L 794 531  z \" transform=\"scale(0.015625)\" />\n",
              "     </defs>\n",
              "     <use xlink:href=\"#DejaVuSans-6c\" />\n",
              "     <use xlink:href=\"#DejaVuSans-6f\" x=\"27.783203\" />\n",
              "     <use xlink:href=\"#DejaVuSans-67\" x=\"88.964844\" />\n",
              "     <use xlink:href=\"#DejaVuSans-65\" x=\"152.441406\" />\n",
              "     <use xlink:href=\"#DejaVuSans-72\" x=\"213.964844\" />\n",
              "     <use xlink:href=\"#DejaVuSans-72\" x=\"253.328125\" />\n",
              "     <use xlink:href=\"#DejaVuSans-6f\" x=\"292.191406\" />\n",
              "     <use xlink:href=\"#DejaVuSans-72\" x=\"353.373047\" />\n",
              "     <use xlink:href=\"#DejaVuSans-3d\" x=\"394.486328\" />\n",
              "     <use xlink:href=\"#DejaVuSans-30\" x=\"478.275391\" />\n",
              "     <use xlink:href=\"#DejaVuSans-2e\" x=\"541.898438\" />\n",
              "     <use xlink:href=\"#DejaVuSans-31\" x=\"573.685547\" />\n",
              "     <use xlink:href=\"#DejaVuSans-32\" x=\"637.308594\" />\n",
              "    </g>\n",
              "    \n",
              "    <g style=\"fill: #444443\" transform=\"translate(24.507812 64.89825) scale(0.1 -0.1)\">\n",
              "     <defs>\n",
              "      <path id=\"DejaVuSans-6e\" d=\"M 3513 2113  L 3513 0  L 2938 0  L 2938 2094  Q 2938 2591 2744 2837  Q 2550 3084 2163 3084  Q 1697 3084 1428 2787  Q 1159 2491 1159 1978  L 1159 0  L 581 0  L 581 3500  L 1159 3500  L 1159 2956  Q 1366 3272 1645 3428  Q 1925 3584 2291 3584  Q 2894 3584 3203 3211  Q 3513 2838 3513 2113  z \" transform=\"scale(0.015625)\" />\n",
              "     </defs>\n",
              "     <use xlink:href=\"#DejaVuSans-6e\" />\n",
              "     <use xlink:href=\"#DejaVuSans-3d\" x=\"63.378906\" />\n",
              "     <use xlink:href=\"#DejaVuSans-30\" x=\"147.167969\" />\n",
              "    </g>\n",
              "   </g>\n",
              "  </g>\n",
              " </g>\n",
              " <defs>\n",
              "  <clipPath id=\"pd7e3e71af6\">\n",
              "   <rect x=\"13.622656\" y=\"0\" width=\"41.85\" height=\"44.352\" />\n",
              "  </clipPath>\n",
              " </defs>\n",
              "</svg></g>\n",
              "\n",
              "\n",
              "<g id=\"node2\" class=\"node\">\n",
              "<title>node1</title>\n",
              "<text text-anchor=\"start\" x=\"244\" y=\"-72.9\" font-family=\"DejaVu Sans\" font-size=\"12.00\" fill=\"#444443\">transactiondate@83.50</text>\n",
              "</g>\n",
              "\n",
              "<g id=\"edge4\" class=\"edge\">\n",
              "<title>node1-&gt;node3</title>\n",
              "<path fill=\"none\" stroke=\"#444443\" stroke-width=\"0.3\" d=\"M383.54,-82.54C399.67,-84.31 417.18,-86.23 433.52,-88.03\" />\n",
              "<polygon fill=\"#444443\" stroke=\"#444443\" stroke-width=\"0.3\" points=\"433.52,-89.44 437.65,-88.48 433.82,-86.65 433.52,-89.44\" />\n",
              "</g>\n",
              "\n",
              "<g id=\"edge5\" class=\"edge\">\n",
              "<title>node1-&gt;leaf4</title>\n",
              "<path fill=\"none\" stroke=\"#444443\" stroke-width=\"0.3\" d=\"M364.56,-69.44C394.74,-64.55 435.42,-57.97 463.7,-53.39\" />\n",
              "<polygon fill=\"#444443\" stroke=\"#444443\" stroke-width=\"0.3\" points=\"464.05,-54.75 467.78,-52.73 463.61,-51.99 464.05,-54.75\" />\n",
              "</g>\n",
              "\n",
              "<g id=\"node7\" class=\"node\">\n",
              "<title>leaf2</title>\n",
              "<polygon fill=\"none\" stroke=\"#444443\" stroke-width=\"0\" points=\"353,-58 293,-58 293,0 353,0 353,-58\" />\n",
              "<svg width=\"52px\" height=\"50px\" viewBox=\"0 0 70.095312 66.977937\" version=\"1.1\" preserveAspectRatio=\"xMinYMin meet\" x=\"297\" y=\"-54\">\n",
              " <metadata>\n",
              "  <rdf:RDF>\n",
              "   <ns2:Work>\n",
              "    <dc:type rdf:resource=\"http://purl.org/dc/dcmitype/StillImage\" />\n",
              "    <dc:date>2023-09-21T01:46:56.345725</dc:date>\n",
              "    <dc:format>image/svg+xml</dc:format>\n",
              "    <dc:creator>\n",
              "     <ns2:Agent>\n",
              "      <dc:title>Matplotlib v3.7.1, https://matplotlib.org/</dc:title>\n",
              "     </ns2:Agent>\n",
              "    </dc:creator>\n",
              "   </ns2:Work>\n",
              "  </rdf:RDF>\n",
              " </metadata>\n",
              " <defs>\n",
              "  <style type=\"text/css\">*{stroke-linejoin: round; stroke-linecap: butt}</style>\n",
              " </defs>\n",
              " <g id=\"figure_1\">\n",
              "  <g id=\"patch_1\">\n",
              "   <path d=\"M 0 66.977937  L 70.095312 66.977937  L 70.095312 0  L 0 0  z \" style=\"fill: #ffffff\" />\n",
              "  </g>\n",
              "  <g id=\"axes_1\">\n",
              "   <g id=\"patch_2\">\n",
              "    <path d=\"M 13.622656 44.352  L 55.472656 44.352  L 55.472656 0  L 13.622656 0  z \" style=\"fill: #ffffff\" />\n",
              "   </g>\n",
              "   <g id=\"PathCollection_1\">\n",
              "    <defs>\n",
              "     <path id=\"mfbb5275efb\" d=\"M 0 1.118034  C 0.296506 1.118034 0.580908 1.000231 0.790569 0.790569  C 1.000231 0.580908 1.118034 0.296506 1.118034 0  C 1.118034 -0.296506 1.000231 -0.580908 0.790569 -0.790569  C 0.580908 -1.000231 0.296506 -1.118034 0 -1.118034  C -0.296506 -1.118034 -0.580908 -1.000231 -0.790569 -0.790569  C -1.000231 -0.580908 -1.118034 -0.296506 -1.118034 0  C -1.118034 0.296506 -1.000231 0.580908 -0.790569 0.790569  C -0.580908 1.000231 -0.296506 1.118034 0 1.118034  z \" style=\"stroke: #4575b4; stroke-opacity: 0.7; stroke-width: 0.3\" />\n",
              "    </defs>\n",
              "    <g clip-path=\"url(#p0caeb2b7d1)\">\n",
              "     <use xlink:href=\"#mfbb5275efb\" x=\"40.362117\" y=\"36.234399\" style=\"fill: #4575b4; fill-opacity: 0.7; stroke: #4575b4; stroke-opacity: 0.7; stroke-width: 0.3\" />\n",
              "     <use xlink:href=\"#mfbb5275efb\" x=\"37.438364\" y=\"37.993668\" style=\"fill: #4575b4; fill-opacity: 0.7; stroke: #4575b4; stroke-opacity: 0.7; stroke-width: 0.3\" />\n",
              "     <use xlink:href=\"#mfbb5275efb\" x=\"37.559469\" y=\"37.519503\" style=\"fill: #4575b4; fill-opacity: 0.7; stroke: #4575b4; stroke-opacity: 0.7; stroke-width: 0.3\" />\n",
              "     <use xlink:href=\"#mfbb5275efb\" x=\"28.251593\" y=\"36.944809\" style=\"fill: #4575b4; fill-opacity: 0.7; stroke: #4575b4; stroke-opacity: 0.7; stroke-width: 0.3\" />\n",
              "     <use xlink:href=\"#mfbb5275efb\" x=\"31.720993\" y=\"38.429296\" style=\"fill: #4575b4; fill-opacity: 0.7; stroke: #4575b4; stroke-opacity: 0.7; stroke-width: 0.3\" />\n",
              "     <use xlink:href=\"#mfbb5275efb\" x=\"32.68237\" y=\"36.944809\" style=\"fill: #4575b4; fill-opacity: 0.7; stroke: #4575b4; stroke-opacity: 0.7; stroke-width: 0.3\" />\n",
              "     <use xlink:href=\"#mfbb5275efb\" x=\"36.27264\" y=\"38.045608\" style=\"fill: #4575b4; fill-opacity: 0.7; stroke: #4575b4; stroke-opacity: 0.7; stroke-width: 0.3\" />\n",
              "     <use xlink:href=\"#mfbb5275efb\" x=\"37.812809\" y=\"34.141707\" style=\"fill: #4575b4; fill-opacity: 0.7; stroke: #4575b4; stroke-opacity: 0.7; stroke-width: 0.3\" />\n",
              "     <use xlink:href=\"#mfbb5275efb\" x=\"31.331745\" y=\"35.170461\" style=\"fill: #4575b4; fill-opacity: 0.7; stroke: #4575b4; stroke-opacity: 0.7; stroke-width: 0.3\" />\n",
              "     <use xlink:href=\"#mfbb5275efb\" x=\"35.42842\" y=\"41.818821\" style=\"fill: #4575b4; fill-opacity: 0.7; stroke: #4575b4; stroke-opacity: 0.7; stroke-width: 0.3\" />\n",
              "     <use xlink:href=\"#mfbb5275efb\" x=\"38.95169\" y=\"37.20451\" style=\"fill: #4575b4; fill-opacity: 0.7; stroke: #4575b4; stroke-opacity: 0.7; stroke-width: 0.3\" />\n",
              "     <use xlink:href=\"#mfbb5275efb\" x=\"34.725891\" y=\"36.89622\" style=\"fill: #4575b4; fill-opacity: 0.7; stroke: #4575b4; stroke-opacity: 0.7; stroke-width: 0.3\" />\n",
              "     <use xlink:href=\"#mfbb5275efb\" x=\"33.506655\" y=\"34.376277\" style=\"fill: #4575b4; fill-opacity: 0.7; stroke: #4575b4; stroke-opacity: 0.7; stroke-width: 0.3\" />\n",
              "     <use xlink:href=\"#mfbb5275efb\" x=\"34.744499\" y=\"37.519503\" style=\"fill: #4575b4; fill-opacity: 0.7; stroke: #4575b4; stroke-opacity: 0.7; stroke-width: 0.3\" />\n",
              "     <use xlink:href=\"#mfbb5275efb\" x=\"28.64002\" y=\"37.636788\" style=\"fill: #4575b4; fill-opacity: 0.7; stroke: #4575b4; stroke-opacity: 0.7; stroke-width: 0.3\" />\n",
              "     <use xlink:href=\"#mfbb5275efb\" x=\"37.368264\" y=\"37.27153\" style=\"fill: #4575b4; fill-opacity: 0.7; stroke: #4575b4; stroke-opacity: 0.7; stroke-width: 0.3\" />\n",
              "     <use xlink:href=\"#mfbb5275efb\" x=\"35.850382\" y=\"38.482912\" style=\"fill: #4575b4; fill-opacity: 0.7; stroke: #4575b4; stroke-opacity: 0.7; stroke-width: 0.3\" />\n",
              "     <use xlink:href=\"#mfbb5275efb\" x=\"39.07367\" y=\"38.045608\" style=\"fill: #4575b4; fill-opacity: 0.7; stroke: #4575b4; stroke-opacity: 0.7; stroke-width: 0.3\" />\n",
              "     <use xlink:href=\"#mfbb5275efb\" x=\"28.307958\" y=\"37.452484\" style=\"fill: #4575b4; fill-opacity: 0.7; stroke: #4575b4; stroke-opacity: 0.7; stroke-width: 0.3\" />\n",
              "     <use xlink:href=\"#mfbb5275efb\" x=\"35.725963\" y=\"36.110413\" style=\"fill: #4575b4; fill-opacity: 0.7; stroke: #4575b4; stroke-opacity: 0.7; stroke-width: 0.3\" />\n",
              "     <use xlink:href=\"#mfbb5275efb\" x=\"33.890459\" y=\"38.482912\" style=\"fill: #4575b4; fill-opacity: 0.7; stroke: #4575b4; stroke-opacity: 0.7; stroke-width: 0.3\" />\n",
              "     <use xlink:href=\"#mfbb5275efb\" x=\"36.20084\" y=\"36.912974\" style=\"fill: #4575b4; fill-opacity: 0.7; stroke: #4575b4; stroke-opacity: 0.7; stroke-width: 0.3\" />\n",
              "     <use xlink:href=\"#mfbb5275efb\" x=\"33.187754\" y=\"37.20451\" style=\"fill: #4575b4; fill-opacity: 0.7; stroke: #4575b4; stroke-opacity: 0.7; stroke-width: 0.3\" />\n",
              "     <use xlink:href=\"#mfbb5275efb\" x=\"33.764123\" y=\"37.670298\" style=\"fill: #4575b4; fill-opacity: 0.7; stroke: #4575b4; stroke-opacity: 0.7; stroke-width: 0.3\" />\n",
              "     <use xlink:href=\"#mfbb5275efb\" x=\"36.294068\" y=\"38.097549\" style=\"fill: #4575b4; fill-opacity: 0.7; stroke: #4575b4; stroke-opacity: 0.7; stroke-width: 0.3\" />\n",
              "     <use xlink:href=\"#mfbb5275efb\" x=\"35.419345\" y=\"37.536258\" style=\"fill: #4575b4; fill-opacity: 0.7; stroke: #4575b4; stroke-opacity: 0.7; stroke-width: 0.3\" />\n",
              "     <use xlink:href=\"#mfbb5275efb\" x=\"34.976238\" y=\"37.687053\" style=\"fill: #4575b4; fill-opacity: 0.7; stroke: #4575b4; stroke-opacity: 0.7; stroke-width: 0.3\" />\n",
              "     <use xlink:href=\"#mfbb5275efb\" x=\"35.293019\" y=\"38.045608\" style=\"fill: #4575b4; fill-opacity: 0.7; stroke: #4575b4; stroke-opacity: 0.7; stroke-width: 0.3\" />\n",
              "     <use xlink:href=\"#mfbb5275efb\" x=\"37.134458\" y=\"37.32012\" style=\"fill: #4575b4; fill-opacity: 0.7; stroke: #4575b4; stroke-opacity: 0.7; stroke-width: 0.3\" />\n",
              "     <use xlink:href=\"#mfbb5275efb\" x=\"28.920838\" y=\"38.045608\" style=\"fill: #4575b4; fill-opacity: 0.7; stroke: #4575b4; stroke-opacity: 0.7; stroke-width: 0.3\" />\n",
              "     <use xlink:href=\"#mfbb5275efb\" x=\"39.126574\" y=\"37.874708\" style=\"fill: #4575b4; fill-opacity: 0.7; stroke: #4575b4; stroke-opacity: 0.7; stroke-width: 0.3\" />\n",
              "     <use xlink:href=\"#mfbb5275efb\" x=\"41.676208\" y=\"38.201429\" style=\"fill: #4575b4; fill-opacity: 0.7; stroke: #4575b4; stroke-opacity: 0.7; stroke-width: 0.3\" />\n",
              "     <use xlink:href=\"#mfbb5275efb\" x=\"27.277669\" y=\"37.806013\" style=\"fill: #4575b4; fill-opacity: 0.7; stroke: #4575b4; stroke-opacity: 0.7; stroke-width: 0.3\" />\n",
              "     <use xlink:href=\"#mfbb5275efb\" x=\"26.964477\" y=\"36.720293\" style=\"fill: #4575b4; fill-opacity: 0.7; stroke: #4575b4; stroke-opacity: 0.7; stroke-width: 0.3\" />\n",
              "     <use xlink:href=\"#mfbb5275efb\" x=\"36.975346\" y=\"37.090577\" style=\"fill: #4575b4; fill-opacity: 0.7; stroke: #4575b4; stroke-opacity: 0.7; stroke-width: 0.3\" />\n",
              "     <use xlink:href=\"#mfbb5275efb\" x=\"36.187231\" y=\"37.603278\" style=\"fill: #4575b4; fill-opacity: 0.7; stroke: #4575b4; stroke-opacity: 0.7; stroke-width: 0.3\" />\n",
              "     <use xlink:href=\"#mfbb5275efb\" x=\"33.80685\" y=\"37.553013\" style=\"fill: #4575b4; fill-opacity: 0.7; stroke: #4575b4; stroke-opacity: 0.7; stroke-width: 0.3\" />\n",
              "     <use xlink:href=\"#mfbb5275efb\" x=\"31.306455\" y=\"37.976913\" style=\"fill: #4575b4; fill-opacity: 0.7; stroke: #4575b4; stroke-opacity: 0.7; stroke-width: 0.3\" />\n",
              "     <use xlink:href=\"#mfbb5275efb\" x=\"34.991378\" y=\"38.028853\" style=\"fill: #4575b4; fill-opacity: 0.7; stroke: #4575b4; stroke-opacity: 0.7; stroke-width: 0.3\" />\n",
              "     <use xlink:href=\"#mfbb5275efb\" x=\"41.487221\" y=\"37.536258\" style=\"fill: #4575b4; fill-opacity: 0.7; stroke: #4575b4; stroke-opacity: 0.7; stroke-width: 0.3\" />\n",
              "     <use xlink:href=\"#mfbb5275efb\" x=\"30.569399\" y=\"37.27153\" style=\"fill: #4575b4; fill-opacity: 0.7; stroke: #4575b4; stroke-opacity: 0.7; stroke-width: 0.3\" />\n",
              "     <use xlink:href=\"#mfbb5275efb\" x=\"36.388519\" y=\"37.703808\" style=\"fill: #4575b4; fill-opacity: 0.7; stroke: #4575b4; stroke-opacity: 0.7; stroke-width: 0.3\" />\n",
              "     <use xlink:href=\"#mfbb5275efb\" x=\"36.736483\" y=\"37.387139\" style=\"fill: #4575b4; fill-opacity: 0.7; stroke: #4575b4; stroke-opacity: 0.7; stroke-width: 0.3\" />\n",
              "     <use xlink:href=\"#mfbb5275efb\" x=\"34.795083\" y=\"37.23802\" style=\"fill: #4575b4; fill-opacity: 0.7; stroke: #4575b4; stroke-opacity: 0.7; stroke-width: 0.3\" />\n",
              "     <use xlink:href=\"#mfbb5275efb\" x=\"32.661097\" y=\"37.993668\" style=\"fill: #4575b4; fill-opacity: 0.7; stroke: #4575b4; stroke-opacity: 0.7; stroke-width: 0.3\" />\n",
              "     <use xlink:href=\"#mfbb5275efb\" x=\"35.619218\" y=\"37.073822\" style=\"fill: #4575b4; fill-opacity: 0.7; stroke: #4575b4; stroke-opacity: 0.7; stroke-width: 0.3\" />\n",
              "     <use xlink:href=\"#mfbb5275efb\" x=\"38.889157\" y=\"39.40946\" style=\"fill: #4575b4; fill-opacity: 0.7; stroke: #4575b4; stroke-opacity: 0.7; stroke-width: 0.3\" />\n",
              "     <use xlink:href=\"#mfbb5275efb\" x=\"37.455484\" y=\"41.626139\" style=\"fill: #4575b4; fill-opacity: 0.7; stroke: #4575b4; stroke-opacity: 0.7; stroke-width: 0.3\" />\n",
              "     <use xlink:href=\"#mfbb5275efb\" x=\"34.102215\" y=\"37.519503\" style=\"fill: #4575b4; fill-opacity: 0.7; stroke: #4575b4; stroke-opacity: 0.7; stroke-width: 0.3\" />\n",
              "     <use xlink:href=\"#mfbb5275efb\" x=\"33.321067\" y=\"26.744402\" style=\"fill: #4575b4; fill-opacity: 0.7; stroke: #4575b4; stroke-opacity: 0.7; stroke-width: 0.3\" />\n",
              "     <use xlink:href=\"#mfbb5275efb\" x=\"33.76682\" y=\"37.839523\" style=\"fill: #4575b4; fill-opacity: 0.7; stroke: #4575b4; stroke-opacity: 0.7; stroke-width: 0.3\" />\n",
              "     <use xlink:href=\"#mfbb5275efb\" x=\"31.751699\" y=\"36.993398\" style=\"fill: #4575b4; fill-opacity: 0.7; stroke: #4575b4; stroke-opacity: 0.7; stroke-width: 0.3\" />\n",
              "     <use xlink:href=\"#mfbb5275efb\" x=\"31.300229\" y=\"42.256125\" style=\"fill: #4575b4; fill-opacity: 0.7; stroke: #4575b4; stroke-opacity: 0.7; stroke-width: 0.3\" />\n",
              "     <use xlink:href=\"#mfbb5275efb\" x=\"33.163118\" y=\"36.358386\" style=\"fill: #4575b4; fill-opacity: 0.7; stroke: #4575b4; stroke-opacity: 0.7; stroke-width: 0.3\" />\n",
              "     <use xlink:href=\"#mfbb5275efb\" x=\"40.898809\" y=\"37.107332\" style=\"fill: #4575b4; fill-opacity: 0.7; stroke: #4575b4; stroke-opacity: 0.7; stroke-width: 0.3\" />\n",
              "     <use xlink:href=\"#mfbb5275efb\" x=\"29.50647\" y=\"37.469238\" style=\"fill: #4575b4; fill-opacity: 0.7; stroke: #4575b4; stroke-opacity: 0.7; stroke-width: 0.3\" />\n",
              "     <use xlink:href=\"#mfbb5275efb\" x=\"31.773181\" y=\"36.326552\" style=\"fill: #4575b4; fill-opacity: 0.7; stroke: #4575b4; stroke-opacity: 0.7; stroke-width: 0.3\" />\n",
              "     <use xlink:href=\"#mfbb5275efb\" x=\"37.508677\" y=\"37.586523\" style=\"fill: #4575b4; fill-opacity: 0.7; stroke: #4575b4; stroke-opacity: 0.7; stroke-width: 0.3\" />\n",
              "     <use xlink:href=\"#mfbb5275efb\" x=\"37.776002\" y=\"37.519503\" style=\"fill: #4575b4; fill-opacity: 0.7; stroke: #4575b4; stroke-opacity: 0.7; stroke-width: 0.3\" />\n",
              "     <use xlink:href=\"#mfbb5275efb\" x=\"27.219791\" y=\"37.452484\" style=\"fill: #4575b4; fill-opacity: 0.7; stroke: #4575b4; stroke-opacity: 0.7; stroke-width: 0.3\" />\n",
              "     <use xlink:href=\"#mfbb5275efb\" x=\"31.908586\" y=\"35.155381\" style=\"fill: #4575b4; fill-opacity: 0.7; stroke: #4575b4; stroke-opacity: 0.7; stroke-width: 0.3\" />\n",
              "     <use xlink:href=\"#mfbb5275efb\" x=\"32.258027\" y=\"34.954322\" style=\"fill: #4575b4; fill-opacity: 0.7; stroke: #4575b4; stroke-opacity: 0.7; stroke-width: 0.3\" />\n",
              "     <use xlink:href=\"#mfbb5275efb\" x=\"38.410163\" y=\"37.32012\" style=\"fill: #4575b4; fill-opacity: 0.7; stroke: #4575b4; stroke-opacity: 0.7; stroke-width: 0.3\" />\n",
              "     <use xlink:href=\"#mfbb5275efb\" x=\"30.624012\" y=\"38.2718\" style=\"fill: #4575b4; fill-opacity: 0.7; stroke: #4575b4; stroke-opacity: 0.7; stroke-width: 0.3\" />\n",
              "     <use xlink:href=\"#mfbb5275efb\" x=\"39.404791\" y=\"37.387139\" style=\"fill: #4575b4; fill-opacity: 0.7; stroke: #4575b4; stroke-opacity: 0.7; stroke-width: 0.3\" />\n",
              "     <use xlink:href=\"#mfbb5275efb\" x=\"39.521855\" y=\"37.20451\" style=\"fill: #4575b4; fill-opacity: 0.7; stroke: #4575b4; stroke-opacity: 0.7; stroke-width: 0.3\" />\n",
              "     <use xlink:href=\"#mfbb5275efb\" x=\"37.309875\" y=\"38.642084\" style=\"fill: #4575b4; fill-opacity: 0.7; stroke: #4575b4; stroke-opacity: 0.7; stroke-width: 0.3\" />\n",
              "     <use xlink:href=\"#mfbb5275efb\" x=\"30.237543\" y=\"37.32012\" style=\"fill: #4575b4; fill-opacity: 0.7; stroke: #4575b4; stroke-opacity: 0.7; stroke-width: 0.3\" />\n",
              "     <use xlink:href=\"#mfbb5275efb\" x=\"35.715416\" y=\"37.653543\" style=\"fill: #4575b4; fill-opacity: 0.7; stroke: #4575b4; stroke-opacity: 0.7; stroke-width: 0.3\" />\n",
              "     <use xlink:href=\"#mfbb5275efb\" x=\"32.020012\" y=\"44.154459\" style=\"fill: #4575b4; fill-opacity: 0.7; stroke: #4575b4; stroke-opacity: 0.7; stroke-width: 0.3\" />\n",
              "     <use xlink:href=\"#mfbb5275efb\" x=\"36.751699\" y=\"35.461997\" style=\"fill: #4575b4; fill-opacity: 0.7; stroke: #4575b4; stroke-opacity: 0.7; stroke-width: 0.3\" />\n",
              "     <use xlink:href=\"#mfbb5275efb\" x=\"37.487814\" y=\"27.163275\" style=\"fill: #4575b4; fill-opacity: 0.7; stroke: #4575b4; stroke-opacity: 0.7; stroke-width: 0.3\" />\n",
              "     <use xlink:href=\"#mfbb5275efb\" x=\"35.105333\" y=\"36.187486\" style=\"fill: #4575b4; fill-opacity: 0.7; stroke: #4575b4; stroke-opacity: 0.7; stroke-width: 0.3\" />\n",
              "     <use xlink:href=\"#mfbb5275efb\" x=\"31.761705\" y=\"38.045608\" style=\"fill: #4575b4; fill-opacity: 0.7; stroke: #4575b4; stroke-opacity: 0.7; stroke-width: 0.3\" />\n",
              "     <use xlink:href=\"#mfbb5275efb\" x=\"30.452471\" y=\"37.755748\" style=\"fill: #4575b4; fill-opacity: 0.7; stroke: #4575b4; stroke-opacity: 0.7; stroke-width: 0.3\" />\n",
              "     <use xlink:href=\"#mfbb5275efb\" x=\"36.966719\" y=\"36.4053\" style=\"fill: #4575b4; fill-opacity: 0.7; stroke: #4575b4; stroke-opacity: 0.7; stroke-width: 0.3\" />\n",
              "     <use xlink:href=\"#mfbb5275efb\" x=\"39.774648\" y=\"36.311472\" style=\"fill: #4575b4; fill-opacity: 0.7; stroke: #4575b4; stroke-opacity: 0.7; stroke-width: 0.3\" />\n",
              "     <use xlink:href=\"#mfbb5275efb\" x=\"35.267549\" y=\"37.703808\" style=\"fill: #4575b4; fill-opacity: 0.7; stroke: #4575b4; stroke-opacity: 0.7; stroke-width: 0.3\" />\n",
              "     <use xlink:href=\"#mfbb5275efb\" x=\"36.068058\" y=\"37.041988\" style=\"fill: #4575b4; fill-opacity: 0.7; stroke: #4575b4; stroke-opacity: 0.7; stroke-width: 0.3\" />\n",
              "     <use xlink:href=\"#mfbb5275efb\" x=\"33.472479\" y=\"37.107332\" style=\"fill: #4575b4; fill-opacity: 0.7; stroke: #4575b4; stroke-opacity: 0.7; stroke-width: 0.3\" />\n",
              "     <use xlink:href=\"#mfbb5275efb\" x=\"39.039036\" y=\"37.703808\" style=\"fill: #4575b4; fill-opacity: 0.7; stroke: #4575b4; stroke-opacity: 0.7; stroke-width: 0.3\" />\n",
              "     <use xlink:href=\"#mfbb5275efb\" x=\"29.76098\" y=\"37.107332\" style=\"fill: #4575b4; fill-opacity: 0.7; stroke: #4575b4; stroke-opacity: 0.7; stroke-width: 0.3\" />\n",
              "     <use xlink:href=\"#mfbb5275efb\" x=\"28.576801\" y=\"38.236615\" style=\"fill: #4575b4; fill-opacity: 0.7; stroke: #4575b4; stroke-opacity: 0.7; stroke-width: 0.3\" />\n",
              "     <use xlink:href=\"#mfbb5275efb\" x=\"36.140456\" y=\"38.080794\" style=\"fill: #4575b4; fill-opacity: 0.7; stroke: #4575b4; stroke-opacity: 0.7; stroke-width: 0.3\" />\n",
              "     <use xlink:href=\"#mfbb5275efb\" x=\"33.718241\" y=\"36.768882\" style=\"fill: #4575b4; fill-opacity: 0.7; stroke: #4575b4; stroke-opacity: 0.7; stroke-width: 0.3\" />\n",
              "     <use xlink:href=\"#mfbb5275efb\" x=\"29.508044\" y=\"41.079928\" style=\"fill: #4575b4; fill-opacity: 0.7; stroke: #4575b4; stroke-opacity: 0.7; stroke-width: 0.3\" />\n",
              "     <use xlink:href=\"#mfbb5275efb\" x=\"34.994465\" y=\"37.090577\" style=\"fill: #4575b4; fill-opacity: 0.7; stroke: #4575b4; stroke-opacity: 0.7; stroke-width: 0.3\" />\n",
              "     <use xlink:href=\"#mfbb5275efb\" x=\"32.82823\" y=\"37.789258\" style=\"fill: #4575b4; fill-opacity: 0.7; stroke: #4575b4; stroke-opacity: 0.7; stroke-width: 0.3\" />\n",
              "     <use xlink:href=\"#mfbb5275efb\" x=\"34.53855\" y=\"35.656354\" style=\"fill: #4575b4; fill-opacity: 0.7; stroke: #4575b4; stroke-opacity: 0.7; stroke-width: 0.3\" />\n",
              "     <use xlink:href=\"#mfbb5275efb\" x=\"29.525429\" y=\"37.402219\" style=\"fill: #4575b4; fill-opacity: 0.7; stroke: #4575b4; stroke-opacity: 0.7; stroke-width: 0.3\" />\n",
              "     <use xlink:href=\"#mfbb5275efb\" x=\"35.837195\" y=\"37.452484\" style=\"fill: #4575b4; fill-opacity: 0.7; stroke: #4575b4; stroke-opacity: 0.7; stroke-width: 0.3\" />\n",
              "     <use xlink:href=\"#mfbb5275efb\" x=\"38.523519\" y=\"36.435459\" style=\"fill: #4575b4; fill-opacity: 0.7; stroke: #4575b4; stroke-opacity: 0.7; stroke-width: 0.3\" />\n",
              "     <use xlink:href=\"#mfbb5275efb\" x=\"35.536706\" y=\"37.370384\" style=\"fill: #4575b4; fill-opacity: 0.7; stroke: #4575b4; stroke-opacity: 0.7; stroke-width: 0.3\" />\n",
              "     <use xlink:href=\"#mfbb5275efb\" x=\"35.843695\" y=\"37.738993\" style=\"fill: #4575b4; fill-opacity: 0.7; stroke: #4575b4; stroke-opacity: 0.7; stroke-width: 0.3\" />\n",
              "     <use xlink:href=\"#mfbb5275efb\" x=\"33.742195\" y=\"36.705213\" style=\"fill: #4575b4; fill-opacity: 0.7; stroke: #4575b4; stroke-opacity: 0.7; stroke-width: 0.3\" />\n",
              "     <use xlink:href=\"#mfbb5275efb\" x=\"38.825048\" y=\"37.569768\" style=\"fill: #4575b4; fill-opacity: 0.7; stroke: #4575b4; stroke-opacity: 0.7; stroke-width: 0.3\" />\n",
              "     <use xlink:href=\"#mfbb5275efb\" x=\"31.410945\" y=\"37.738993\" style=\"fill: #4575b4; fill-opacity: 0.7; stroke: #4575b4; stroke-opacity: 0.7; stroke-width: 0.3\" />\n",
              "     <use xlink:href=\"#mfbb5275efb\" x=\"37.829522\" y=\"36.912974\" style=\"fill: #4575b4; fill-opacity: 0.7; stroke: #4575b4; stroke-opacity: 0.7; stroke-width: 0.3\" />\n",
              "     <use xlink:href=\"#mfbb5275efb\" x=\"39.528113\" y=\"37.32012\" style=\"fill: #4575b4; fill-opacity: 0.7; stroke: #4575b4; stroke-opacity: 0.7; stroke-width: 0.3\" />\n",
              "     <use xlink:href=\"#mfbb5275efb\" x=\"30.27453\" y=\"37.025233\" style=\"fill: #4575b4; fill-opacity: 0.7; stroke: #4575b4; stroke-opacity: 0.7; stroke-width: 0.3\" />\n",
              "     <use xlink:href=\"#mfbb5275efb\" x=\"32.952593\" y=\"39.131328\" style=\"fill: #4575b4; fill-opacity: 0.7; stroke: #4575b4; stroke-opacity: 0.7; stroke-width: 0.3\" />\n",
              "     <use xlink:href=\"#mfbb5275efb\" x=\"32.786553\" y=\"38.588468\" style=\"fill: #4575b4; fill-opacity: 0.7; stroke: #4575b4; stroke-opacity: 0.7; stroke-width: 0.3\" />\n",
              "     <use xlink:href=\"#mfbb5275efb\" x=\"35.861934\" y=\"39.278772\" style=\"fill: #4575b4; fill-opacity: 0.7; stroke: #4575b4; stroke-opacity: 0.7; stroke-width: 0.3\" />\n",
              "     <use xlink:href=\"#mfbb5275efb\" x=\"31.955005\" y=\"36.89622\" style=\"fill: #4575b4; fill-opacity: 0.7; stroke: #4575b4; stroke-opacity: 0.7; stroke-width: 0.3\" />\n",
              "     <use xlink:href=\"#mfbb5275efb\" x=\"34.332147\" y=\"39.674188\" style=\"fill: #4575b4; fill-opacity: 0.7; stroke: #4575b4; stroke-opacity: 0.7; stroke-width: 0.3\" />\n",
              "     <use xlink:href=\"#mfbb5275efb\" x=\"35.734995\" y=\"37.452484\" style=\"fill: #4575b4; fill-opacity: 0.7; stroke: #4575b4; stroke-opacity: 0.7; stroke-width: 0.3\" />\n",
              "     <use xlink:href=\"#mfbb5275efb\" x=\"32.232646\" y=\"37.452484\" style=\"fill: #4575b4; fill-opacity: 0.7; stroke: #4575b4; stroke-opacity: 0.7; stroke-width: 0.3\" />\n",
              "     <use xlink:href=\"#mfbb5275efb\" x=\"37.300704\" y=\"37.755748\" style=\"fill: #4575b4; fill-opacity: 0.7; stroke: #4575b4; stroke-opacity: 0.7; stroke-width: 0.3\" />\n",
              "     <use xlink:href=\"#mfbb5275efb\" x=\"42.504763\" y=\"36.202565\" style=\"fill: #4575b4; fill-opacity: 0.7; stroke: #4575b4; stroke-opacity: 0.7; stroke-width: 0.3\" />\n",
              "     <use xlink:href=\"#mfbb5275efb\" x=\"32.808841\" y=\"38.288555\" style=\"fill: #4575b4; fill-opacity: 0.7; stroke: #4575b4; stroke-opacity: 0.7; stroke-width: 0.3\" />\n",
              "     <use xlink:href=\"#mfbb5275efb\" x=\"30.750105\" y=\"37.670298\" style=\"fill: #4575b4; fill-opacity: 0.7; stroke: #4575b4; stroke-opacity: 0.7; stroke-width: 0.3\" />\n",
              "     <use xlink:href=\"#mfbb5275efb\" x=\"33.023944\" y=\"36.976643\" style=\"fill: #4575b4; fill-opacity: 0.7; stroke: #4575b4; stroke-opacity: 0.7; stroke-width: 0.3\" />\n",
              "     <use xlink:href=\"#mfbb5275efb\" x=\"35.723618\" y=\"36.720293\" style=\"fill: #4575b4; fill-opacity: 0.7; stroke: #4575b4; stroke-opacity: 0.7; stroke-width: 0.3\" />\n",
              "     <use xlink:href=\"#mfbb5275efb\" x=\"31.240334\" y=\"37.090577\" style=\"fill: #4575b4; fill-opacity: 0.7; stroke: #4575b4; stroke-opacity: 0.7; stroke-width: 0.3\" />\n",
              "     <use xlink:href=\"#mfbb5275efb\" x=\"37.016224\" y=\"39.749586\" style=\"fill: #4575b4; fill-opacity: 0.7; stroke: #4575b4; stroke-opacity: 0.7; stroke-width: 0.3\" />\n",
              "     <use xlink:href=\"#mfbb5275efb\" x=\"34.809018\" y=\"1.094265\" style=\"fill: #4575b4; fill-opacity: 0.7; stroke: #4575b4; stroke-opacity: 0.7; stroke-width: 0.3\" />\n",
              "     <use xlink:href=\"#mfbb5275efb\" x=\"34.067131\" y=\"38.32374\" style=\"fill: #4575b4; fill-opacity: 0.7; stroke: #4575b4; stroke-opacity: 0.7; stroke-width: 0.3\" />\n",
              "     <use xlink:href=\"#mfbb5275efb\" x=\"29.803617\" y=\"38.218184\" style=\"fill: #4575b4; fill-opacity: 0.7; stroke: #4575b4; stroke-opacity: 0.7; stroke-width: 0.3\" />\n",
              "     <use xlink:href=\"#mfbb5275efb\" x=\"37.697853\" y=\"37.502748\" style=\"fill: #4575b4; fill-opacity: 0.7; stroke: #4575b4; stroke-opacity: 0.7; stroke-width: 0.3\" />\n",
              "     <use xlink:href=\"#mfbb5275efb\" x=\"36.802469\" y=\"27.50005\" style=\"fill: #4575b4; fill-opacity: 0.7; stroke: #4575b4; stroke-opacity: 0.7; stroke-width: 0.3\" />\n",
              "     <use xlink:href=\"#mfbb5275efb\" x=\"32.706492\" y=\"37.874708\" style=\"fill: #4575b4; fill-opacity: 0.7; stroke: #4575b4; stroke-opacity: 0.7; stroke-width: 0.3\" />\n",
              "     <use xlink:href=\"#mfbb5275efb\" x=\"42.051603\" y=\"37.687053\" style=\"fill: #4575b4; fill-opacity: 0.7; stroke: #4575b4; stroke-opacity: 0.7; stroke-width: 0.3\" />\n",
              "     <use xlink:href=\"#mfbb5275efb\" x=\"34.187773\" y=\"37.387139\" style=\"fill: #4575b4; fill-opacity: 0.7; stroke: #4575b4; stroke-opacity: 0.7; stroke-width: 0.3\" />\n",
              "     <use xlink:href=\"#mfbb5275efb\" x=\"31.716996\" y=\"35.170461\" style=\"fill: #4575b4; fill-opacity: 0.7; stroke: #4575b4; stroke-opacity: 0.7; stroke-width: 0.3\" />\n",
              "     <use xlink:href=\"#mfbb5275efb\" x=\"32.750013\" y=\"37.139166\" style=\"fill: #4575b4; fill-opacity: 0.7; stroke: #4575b4; stroke-opacity: 0.7; stroke-width: 0.3\" />\n",
              "     <use xlink:href=\"#mfbb5275efb\" x=\"32.056606\" y=\"37.502748\" style=\"fill: #4575b4; fill-opacity: 0.7; stroke: #4575b4; stroke-opacity: 0.7; stroke-width: 0.3\" />\n",
              "     <use xlink:href=\"#mfbb5275efb\" x=\"36.584893\" y=\"36.592955\" style=\"fill: #4575b4; fill-opacity: 0.7; stroke: #4575b4; stroke-opacity: 0.7; stroke-width: 0.3\" />\n",
              "     <use xlink:href=\"#mfbb5275efb\" x=\"30.111373\" y=\"36.89622\" style=\"fill: #4575b4; fill-opacity: 0.7; stroke: #4575b4; stroke-opacity: 0.7; stroke-width: 0.3\" />\n",
              "     <use xlink:href=\"#mfbb5275efb\" x=\"33.862392\" y=\"37.703808\" style=\"fill: #4575b4; fill-opacity: 0.7; stroke: #4575b4; stroke-opacity: 0.7; stroke-width: 0.3\" />\n",
              "     <use xlink:href=\"#mfbb5275efb\" x=\"27.997141\" y=\"36.928054\" style=\"fill: #4575b4; fill-opacity: 0.7; stroke: #4575b4; stroke-opacity: 0.7; stroke-width: 0.3\" />\n",
              "     <use xlink:href=\"#mfbb5275efb\" x=\"32.808373\" y=\"37.620033\" style=\"fill: #4575b4; fill-opacity: 0.7; stroke: #4575b4; stroke-opacity: 0.7; stroke-width: 0.3\" />\n",
              "     <use xlink:href=\"#mfbb5275efb\" x=\"28.053776\" y=\"37.553013\" style=\"fill: #4575b4; fill-opacity: 0.7; stroke: #4575b4; stroke-opacity: 0.7; stroke-width: 0.3\" />\n",
              "     <use xlink:href=\"#mfbb5275efb\" x=\"33.997265\" y=\"36.249479\" style=\"fill: #4575b4; fill-opacity: 0.7; stroke: #4575b4; stroke-opacity: 0.7; stroke-width: 0.3\" />\n",
              "     <use xlink:href=\"#mfbb5275efb\" x=\"38.792882\" y=\"38.394111\" style=\"fill: #4575b4; fill-opacity: 0.7; stroke: #4575b4; stroke-opacity: 0.7; stroke-width: 0.3\" />\n",
              "     <use xlink:href=\"#mfbb5275efb\" x=\"39.14551\" y=\"34.996209\" style=\"fill: #4575b4; fill-opacity: 0.7; stroke: #4575b4; stroke-opacity: 0.7; stroke-width: 0.3\" />\n",
              "     <use xlink:href=\"#mfbb5275efb\" x=\"35.774261\" y=\"38.114304\" style=\"fill: #4575b4; fill-opacity: 0.7; stroke: #4575b4; stroke-opacity: 0.7; stroke-width: 0.3\" />\n",
              "     <use xlink:href=\"#mfbb5275efb\" x=\"33.160268\" y=\"38.045608\" style=\"fill: #4575b4; fill-opacity: 0.7; stroke: #4575b4; stroke-opacity: 0.7; stroke-width: 0.3\" />\n",
              "     <use xlink:href=\"#mfbb5275efb\" x=\"33.91222\" y=\"37.221265\" style=\"fill: #4575b4; fill-opacity: 0.7; stroke: #4575b4; stroke-opacity: 0.7; stroke-width: 0.3\" />\n",
              "     <use xlink:href=\"#mfbb5275efb\" x=\"30.867416\" y=\"38.571713\" style=\"fill: #4575b4; fill-opacity: 0.7; stroke: #4575b4; stroke-opacity: 0.7; stroke-width: 0.3\" />\n",
              "     <use xlink:href=\"#mfbb5275efb\" x=\"37.46931\" y=\"29.343093\" style=\"fill: #4575b4; fill-opacity: 0.7; stroke: #4575b4; stroke-opacity: 0.7; stroke-width: 0.3\" />\n",
              "     <use xlink:href=\"#mfbb5275efb\" x=\"35.848118\" y=\"37.336874\" style=\"fill: #4575b4; fill-opacity: 0.7; stroke: #4575b4; stroke-opacity: 0.7; stroke-width: 0.3\" />\n",
              "     <use xlink:href=\"#mfbb5275efb\" x=\"32.003818\" y=\"38.588468\" style=\"fill: #4575b4; fill-opacity: 0.7; stroke: #4575b4; stroke-opacity: 0.7; stroke-width: 0.3\" />\n",
              "     <use xlink:href=\"#mfbb5275efb\" x=\"40.212936\" y=\"35.897625\" style=\"fill: #4575b4; fill-opacity: 0.7; stroke: #4575b4; stroke-opacity: 0.7; stroke-width: 0.3\" />\n",
              "     <use xlink:href=\"#mfbb5275efb\" x=\"39.491421\" y=\"38.518098\" style=\"fill: #4575b4; fill-opacity: 0.7; stroke: #4575b4; stroke-opacity: 0.7; stroke-width: 0.3\" />\n",
              "     <use xlink:href=\"#mfbb5275efb\" x=\"35.672535\" y=\"36.530962\" style=\"fill: #4575b4; fill-opacity: 0.7; stroke: #4575b4; stroke-opacity: 0.7; stroke-width: 0.3\" />\n",
              "     <use xlink:href=\"#mfbb5275efb\" x=\"33.975757\" y=\"36.673379\" style=\"fill: #4575b4; fill-opacity: 0.7; stroke: #4575b4; stroke-opacity: 0.7; stroke-width: 0.3\" />\n",
              "     <use xlink:href=\"#mfbb5275efb\" x=\"37.495912\" y=\"38.534853\" style=\"fill: #4575b4; fill-opacity: 0.7; stroke: #4575b4; stroke-opacity: 0.7; stroke-width: 0.3\" />\n",
              "     <use xlink:href=\"#mfbb5275efb\" x=\"36.395506\" y=\"37.755748\" style=\"fill: #4575b4; fill-opacity: 0.7; stroke: #4575b4; stroke-opacity: 0.7; stroke-width: 0.3\" />\n",
              "     <use xlink:href=\"#mfbb5275efb\" x=\"40.631193\" y=\"37.402219\" style=\"fill: #4575b4; fill-opacity: 0.7; stroke: #4575b4; stroke-opacity: 0.7; stroke-width: 0.3\" />\n",
              "     <use xlink:href=\"#mfbb5275efb\" x=\"35.698257\" y=\"39.003991\" style=\"fill: #4575b4; fill-opacity: 0.7; stroke: #4575b4; stroke-opacity: 0.7; stroke-width: 0.3\" />\n",
              "     <use xlink:href=\"#mfbb5275efb\" x=\"34.618272\" y=\"37.755748\" style=\"fill: #4575b4; fill-opacity: 0.7; stroke: #4575b4; stroke-opacity: 0.7; stroke-width: 0.3\" />\n",
              "     <use xlink:href=\"#mfbb5275efb\" x=\"26.965558\" y=\"38.821362\" style=\"fill: #4575b4; fill-opacity: 0.7; stroke: #4575b4; stroke-opacity: 0.7; stroke-width: 0.3\" />\n",
              "     <use xlink:href=\"#mfbb5275efb\" x=\"36.776407\" y=\"37.303365\" style=\"fill: #4575b4; fill-opacity: 0.7; stroke: #4575b4; stroke-opacity: 0.7; stroke-width: 0.3\" />\n",
              "     <use xlink:href=\"#mfbb5275efb\" x=\"40.231403\" y=\"38.149489\" style=\"fill: #4575b4; fill-opacity: 0.7; stroke: #4575b4; stroke-opacity: 0.7; stroke-width: 0.3\" />\n",
              "     <use xlink:href=\"#mfbb5275efb\" x=\"39.271388\" y=\"38.028853\" style=\"fill: #4575b4; fill-opacity: 0.7; stroke: #4575b4; stroke-opacity: 0.7; stroke-width: 0.3\" />\n",
              "     <use xlink:href=\"#mfbb5275efb\" x=\"34.795779\" y=\"38.394111\" style=\"fill: #4575b4; fill-opacity: 0.7; stroke: #4575b4; stroke-opacity: 0.7; stroke-width: 0.3\" />\n",
              "     <use xlink:href=\"#mfbb5275efb\" x=\"29.362162\" y=\"40.451618\" style=\"fill: #4575b4; fill-opacity: 0.7; stroke: #4575b4; stroke-opacity: 0.7; stroke-width: 0.3\" />\n",
              "     <use xlink:href=\"#mfbb5275efb\" x=\"36.264396\" y=\"38.71413\" style=\"fill: #4575b4; fill-opacity: 0.7; stroke: #4575b4; stroke-opacity: 0.7; stroke-width: 0.3\" />\n",
              "     <use xlink:href=\"#mfbb5275efb\" x=\"36.553205\" y=\"36.800716\" style=\"fill: #4575b4; fill-opacity: 0.7; stroke: #4575b4; stroke-opacity: 0.7; stroke-width: 0.3\" />\n",
              "     <use xlink:href=\"#mfbb5275efb\" x=\"37.872521\" y=\"29.517344\" style=\"fill: #4575b4; fill-opacity: 0.7; stroke: #4575b4; stroke-opacity: 0.7; stroke-width: 0.3\" />\n",
              "     <use xlink:href=\"#mfbb5275efb\" x=\"32.801432\" y=\"37.23802\" style=\"fill: #4575b4; fill-opacity: 0.7; stroke: #4575b4; stroke-opacity: 0.7; stroke-width: 0.3\" />\n",
              "     <use xlink:href=\"#mfbb5275efb\" x=\"35.628469\" y=\"42.212562\" style=\"fill: #4575b4; fill-opacity: 0.7; stroke: #4575b4; stroke-opacity: 0.7; stroke-width: 0.3\" />\n",
              "     <use xlink:href=\"#mfbb5275efb\" x=\"44.982381\" y=\"37.772503\" style=\"fill: #4575b4; fill-opacity: 0.7; stroke: #4575b4; stroke-opacity: 0.7; stroke-width: 0.3\" />\n",
              "     <use xlink:href=\"#mfbb5275efb\" x=\"32.424231\" y=\"37.041988\" style=\"fill: #4575b4; fill-opacity: 0.7; stroke: #4575b4; stroke-opacity: 0.7; stroke-width: 0.3\" />\n",
              "     <use xlink:href=\"#mfbb5275efb\" x=\"34.575375\" y=\"38.166244\" style=\"fill: #4575b4; fill-opacity: 0.7; stroke: #4575b4; stroke-opacity: 0.7; stroke-width: 0.3\" />\n",
              "     <use xlink:href=\"#mfbb5275efb\" x=\"29.489921\" y=\"37.058742\" style=\"fill: #4575b4; fill-opacity: 0.7; stroke: #4575b4; stroke-opacity: 0.7; stroke-width: 0.3\" />\n",
              "     <use xlink:href=\"#mfbb5275efb\" x=\"33.833724\" y=\"35.805473\" style=\"fill: #4575b4; fill-opacity: 0.7; stroke: #4575b4; stroke-opacity: 0.7; stroke-width: 0.3\" />\n",
              "     <use xlink:href=\"#mfbb5275efb\" x=\"38.142803\" y=\"38.553283\" style=\"fill: #4575b4; fill-opacity: 0.7; stroke: #4575b4; stroke-opacity: 0.7; stroke-width: 0.3\" />\n",
              "     <use xlink:href=\"#mfbb5275efb\" x=\"38.593112\" y=\"31.310123\" style=\"fill: #4575b4; fill-opacity: 0.7; stroke: #4575b4; stroke-opacity: 0.7; stroke-width: 0.3\" />\n",
              "     <use xlink:href=\"#mfbb5275efb\" x=\"27.579698\" y=\"37.090577\" style=\"fill: #4575b4; fill-opacity: 0.7; stroke: #4575b4; stroke-opacity: 0.7; stroke-width: 0.3\" />\n",
              "     <use xlink:href=\"#mfbb5275efb\" x=\"39.240493\" y=\"37.720563\" style=\"fill: #4575b4; fill-opacity: 0.7; stroke: #4575b4; stroke-opacity: 0.7; stroke-width: 0.3\" />\n",
              "     <use xlink:href=\"#mfbb5275efb\" x=\"32.089242\" y=\"36.944809\" style=\"fill: #4575b4; fill-opacity: 0.7; stroke: #4575b4; stroke-opacity: 0.7; stroke-width: 0.3\" />\n",
              "     <use xlink:href=\"#mfbb5275efb\" x=\"35.190015\" y=\"37.221265\" style=\"fill: #4575b4; fill-opacity: 0.7; stroke: #4575b4; stroke-opacity: 0.7; stroke-width: 0.3\" />\n",
              "     <use xlink:href=\"#mfbb5275efb\" x=\"39.687069\" y=\"37.960158\" style=\"fill: #4575b4; fill-opacity: 0.7; stroke: #4575b4; stroke-opacity: 0.7; stroke-width: 0.3\" />\n",
              "     <use xlink:href=\"#mfbb5275efb\" x=\"33.101273\" y=\"38.340495\" style=\"fill: #4575b4; fill-opacity: 0.7; stroke: #4575b4; stroke-opacity: 0.7; stroke-width: 0.3\" />\n",
              "     <use xlink:href=\"#mfbb5275efb\" x=\"30.339542\" y=\"37.469238\" style=\"fill: #4575b4; fill-opacity: 0.7; stroke: #4575b4; stroke-opacity: 0.7; stroke-width: 0.3\" />\n",
              "     <use xlink:href=\"#mfbb5275efb\" x=\"29.469035\" y=\"37.107332\" style=\"fill: #4575b4; fill-opacity: 0.7; stroke: #4575b4; stroke-opacity: 0.7; stroke-width: 0.3\" />\n",
              "     <use xlink:href=\"#mfbb5275efb\" x=\"38.525526\" y=\"37.073822\" style=\"fill: #4575b4; fill-opacity: 0.7; stroke: #4575b4; stroke-opacity: 0.7; stroke-width: 0.3\" />\n",
              "     <use xlink:href=\"#mfbb5275efb\" x=\"31.32883\" y=\"38.114304\" style=\"fill: #4575b4; fill-opacity: 0.7; stroke: #4575b4; stroke-opacity: 0.7; stroke-width: 0.3\" />\n",
              "     <use xlink:href=\"#mfbb5275efb\" x=\"34.598004\" y=\"37.387139\" style=\"fill: #4575b4; fill-opacity: 0.7; stroke: #4575b4; stroke-opacity: 0.7; stroke-width: 0.3\" />\n",
              "     <use xlink:href=\"#mfbb5275efb\" x=\"37.644728\" y=\"33.394437\" style=\"fill: #4575b4; fill-opacity: 0.7; stroke: #4575b4; stroke-opacity: 0.7; stroke-width: 0.3\" />\n",
              "     <use xlink:href=\"#mfbb5275efb\" x=\"34.176235\" y=\"37.155921\" style=\"fill: #4575b4; fill-opacity: 0.7; stroke: #4575b4; stroke-opacity: 0.7; stroke-width: 0.3\" />\n",
              "     <use xlink:href=\"#mfbb5275efb\" x=\"37.433536\" y=\"37.536258\" style=\"fill: #4575b4; fill-opacity: 0.7; stroke: #4575b4; stroke-opacity: 0.7; stroke-width: 0.3\" />\n",
              "     <use xlink:href=\"#mfbb5275efb\" x=\"34.290193\" y=\"38.236615\" style=\"fill: #4575b4; fill-opacity: 0.7; stroke: #4575b4; stroke-opacity: 0.7; stroke-width: 0.3\" />\n",
              "     <use xlink:href=\"#mfbb5275efb\" x=\"33.49162\" y=\"43.713804\" style=\"fill: #4575b4; fill-opacity: 0.7; stroke: #4575b4; stroke-opacity: 0.7; stroke-width: 0.3\" />\n",
              "     <use xlink:href=\"#mfbb5275efb\" x=\"33.587933\" y=\"39.168189\" style=\"fill: #4575b4; fill-opacity: 0.7; stroke: #4575b4; stroke-opacity: 0.7; stroke-width: 0.3\" />\n",
              "     <use xlink:href=\"#mfbb5275efb\" x=\"30.663348\" y=\"40.037771\" style=\"fill: #4575b4; fill-opacity: 0.7; stroke: #4575b4; stroke-opacity: 0.7; stroke-width: 0.3\" />\n",
              "     <use xlink:href=\"#mfbb5275efb\" x=\"27.952824\" y=\"37.370384\" style=\"fill: #4575b4; fill-opacity: 0.7; stroke: #4575b4; stroke-opacity: 0.7; stroke-width: 0.3\" />\n",
              "     <use xlink:href=\"#mfbb5275efb\" x=\"34.193414\" y=\"36.326552\" style=\"fill: #4575b4; fill-opacity: 0.7; stroke: #4575b4; stroke-opacity: 0.7; stroke-width: 0.3\" />\n",
              "     <use xlink:href=\"#mfbb5275efb\" x=\"36.960954\" y=\"35.580957\" style=\"fill: #4575b4; fill-opacity: 0.7; stroke: #4575b4; stroke-opacity: 0.7; stroke-width: 0.3\" />\n",
              "     <use xlink:href=\"#mfbb5275efb\" x=\"37.101122\" y=\"31.047071\" style=\"fill: #4575b4; fill-opacity: 0.7; stroke: #4575b4; stroke-opacity: 0.7; stroke-width: 0.3\" />\n",
              "     <use xlink:href=\"#mfbb5275efb\" x=\"36.308256\" y=\"37.124087\" style=\"fill: #4575b4; fill-opacity: 0.7; stroke: #4575b4; stroke-opacity: 0.7; stroke-width: 0.3\" />\n",
              "     <use xlink:href=\"#mfbb5275efb\" x=\"35.631726\" y=\"36.993398\" style=\"fill: #4575b4; fill-opacity: 0.7; stroke: #4575b4; stroke-opacity: 0.7; stroke-width: 0.3\" />\n",
              "     <use xlink:href=\"#mfbb5275efb\" x=\"37.042129\" y=\"34.570634\" style=\"fill: #4575b4; fill-opacity: 0.7; stroke: #4575b4; stroke-opacity: 0.7; stroke-width: 0.3\" />\n",
              "     <use xlink:href=\"#mfbb5275efb\" x=\"35.826597\" y=\"38.045608\" style=\"fill: #4575b4; fill-opacity: 0.7; stroke: #4575b4; stroke-opacity: 0.7; stroke-width: 0.3\" />\n",
              "     <use xlink:href=\"#mfbb5275efb\" x=\"39.462007\" y=\"37.891463\" style=\"fill: #4575b4; fill-opacity: 0.7; stroke: #4575b4; stroke-opacity: 0.7; stroke-width: 0.3\" />\n",
              "     <use xlink:href=\"#mfbb5275efb\" x=\"37.327885\" y=\"38.732561\" style=\"fill: #4575b4; fill-opacity: 0.7; stroke: #4575b4; stroke-opacity: 0.7; stroke-width: 0.3\" />\n",
              "     <use xlink:href=\"#mfbb5275efb\" x=\"36.948232\" y=\"41.038041\" style=\"fill: #4575b4; fill-opacity: 0.7; stroke: #4575b4; stroke-opacity: 0.7; stroke-width: 0.3\" />\n",
              "     <use xlink:href=\"#mfbb5275efb\" x=\"35.732896\" y=\"37.960158\" style=\"fill: #4575b4; fill-opacity: 0.7; stroke: #4575b4; stroke-opacity: 0.7; stroke-width: 0.3\" />\n",
              "     <use xlink:href=\"#mfbb5275efb\" x=\"31.875613\" y=\"37.620033\" style=\"fill: #4575b4; fill-opacity: 0.7; stroke: #4575b4; stroke-opacity: 0.7; stroke-width: 0.3\" />\n",
              "     <use xlink:href=\"#mfbb5275efb\" x=\"35.978305\" y=\"36.157327\" style=\"fill: #4575b4; fill-opacity: 0.7; stroke: #4575b4; stroke-opacity: 0.7; stroke-width: 0.3\" />\n",
              "     <use xlink:href=\"#mfbb5275efb\" x=\"37.413427\" y=\"37.124087\" style=\"fill: #4575b4; fill-opacity: 0.7; stroke: #4575b4; stroke-opacity: 0.7; stroke-width: 0.3\" />\n",
              "     <use xlink:href=\"#mfbb5275efb\" x=\"33.083197\" y=\"37.502748\" style=\"fill: #4575b4; fill-opacity: 0.7; stroke: #4575b4; stroke-opacity: 0.7; stroke-width: 0.3\" />\n",
              "     <use xlink:href=\"#mfbb5275efb\" x=\"39.333714\" y=\"37.435729\" style=\"fill: #4575b4; fill-opacity: 0.7; stroke: #4575b4; stroke-opacity: 0.7; stroke-width: 0.3\" />\n",
              "     <use xlink:href=\"#mfbb5275efb\" x=\"36.382144\" y=\"39.484858\" style=\"fill: #4575b4; fill-opacity: 0.7; stroke: #4575b4; stroke-opacity: 0.7; stroke-width: 0.3\" />\n",
              "     <use xlink:href=\"#mfbb5275efb\" x=\"34.395613\" y=\"37.720563\" style=\"fill: #4575b4; fill-opacity: 0.7; stroke: #4575b4; stroke-opacity: 0.7; stroke-width: 0.3\" />\n",
              "     <use xlink:href=\"#mfbb5275efb\" x=\"31.419021\" y=\"37.469238\" style=\"fill: #4575b4; fill-opacity: 0.7; stroke: #4575b4; stroke-opacity: 0.7; stroke-width: 0.3\" />\n",
              "     <use xlink:href=\"#mfbb5275efb\" x=\"31.509268\" y=\"36.705213\" style=\"fill: #4575b4; fill-opacity: 0.7; stroke: #4575b4; stroke-opacity: 0.7; stroke-width: 0.3\" />\n",
              "     <use xlink:href=\"#mfbb5275efb\" x=\"34.310044\" y=\"37.139166\" style=\"fill: #4575b4; fill-opacity: 0.7; stroke: #4575b4; stroke-opacity: 0.7; stroke-width: 0.3\" />\n",
              "     <use xlink:href=\"#mfbb5275efb\" x=\"38.86837\" y=\"36.656624\" style=\"fill: #4575b4; fill-opacity: 0.7; stroke: #4575b4; stroke-opacity: 0.7; stroke-width: 0.3\" />\n",
              "     <use xlink:href=\"#mfbb5275efb\" x=\"35.359148\" y=\"37.090577\" style=\"fill: #4575b4; fill-opacity: 0.7; stroke: #4575b4; stroke-opacity: 0.7; stroke-width: 0.3\" />\n",
              "     <use xlink:href=\"#mfbb5275efb\" x=\"29.324683\" y=\"38.184674\" style=\"fill: #4575b4; fill-opacity: 0.7; stroke: #4575b4; stroke-opacity: 0.7; stroke-width: 0.3\" />\n",
              "     <use xlink:href=\"#mfbb5275efb\" x=\"34.574178\" y=\"37.28661\" style=\"fill: #4575b4; fill-opacity: 0.7; stroke: #4575b4; stroke-opacity: 0.7; stroke-width: 0.3\" />\n",
              "     <use xlink:href=\"#mfbb5275efb\" x=\"41.380016\" y=\"36.217644\" style=\"fill: #4575b4; fill-opacity: 0.7; stroke: #4575b4; stroke-opacity: 0.7; stroke-width: 0.3\" />\n",
              "     <use xlink:href=\"#mfbb5275efb\" x=\"28.564949\" y=\"37.839523\" style=\"fill: #4575b4; fill-opacity: 0.7; stroke: #4575b4; stroke-opacity: 0.7; stroke-width: 0.3\" />\n",
              "     <use xlink:href=\"#mfbb5275efb\" x=\"38.361599\" y=\"37.058742\" style=\"fill: #4575b4; fill-opacity: 0.7; stroke: #4575b4; stroke-opacity: 0.7; stroke-width: 0.3\" />\n",
              "     <use xlink:href=\"#mfbb5275efb\" x=\"37.886188\" y=\"37.254775\" style=\"fill: #4575b4; fill-opacity: 0.7; stroke: #4575b4; stroke-opacity: 0.7; stroke-width: 0.3\" />\n",
              "     <use xlink:href=\"#mfbb5275efb\" x=\"36.647328\" y=\"37.502748\" style=\"fill: #4575b4; fill-opacity: 0.7; stroke: #4575b4; stroke-opacity: 0.7; stroke-width: 0.3\" />\n",
              "     <use xlink:href=\"#mfbb5275efb\" x=\"39.545723\" y=\"37.502748\" style=\"fill: #4575b4; fill-opacity: 0.7; stroke: #4575b4; stroke-opacity: 0.7; stroke-width: 0.3\" />\n",
              "     <use xlink:href=\"#mfbb5275efb\" x=\"36.42427\" y=\"37.960158\" style=\"fill: #4575b4; fill-opacity: 0.7; stroke: #4575b4; stroke-opacity: 0.7; stroke-width: 0.3\" />\n",
              "     <use xlink:href=\"#mfbb5275efb\" x=\"31.823855\" y=\"37.789258\" style=\"fill: #4575b4; fill-opacity: 0.7; stroke: #4575b4; stroke-opacity: 0.7; stroke-width: 0.3\" />\n",
              "     <use xlink:href=\"#mfbb5275efb\" x=\"35.104151\" y=\"37.336874\" style=\"fill: #4575b4; fill-opacity: 0.7; stroke: #4575b4; stroke-opacity: 0.7; stroke-width: 0.3\" />\n",
              "     <use xlink:href=\"#mfbb5275efb\" x=\"37.554351\" y=\"39.731155\" style=\"fill: #4575b4; fill-opacity: 0.7; stroke: #4575b4; stroke-opacity: 0.7; stroke-width: 0.3\" />\n",
              "     <use xlink:href=\"#mfbb5275efb\" x=\"42.306612\" y=\"37.620033\" style=\"fill: #4575b4; fill-opacity: 0.7; stroke: #4575b4; stroke-opacity: 0.7; stroke-width: 0.3\" />\n",
              "     <use xlink:href=\"#mfbb5275efb\" x=\"34.889671\" y=\"36.976643\" style=\"fill: #4575b4; fill-opacity: 0.7; stroke: #4575b4; stroke-opacity: 0.7; stroke-width: 0.3\" />\n",
              "     <use xlink:href=\"#mfbb5275efb\" x=\"33.538618\" y=\"39.317308\" style=\"fill: #4575b4; fill-opacity: 0.7; stroke: #4575b4; stroke-opacity: 0.7; stroke-width: 0.3\" />\n",
              "     <use xlink:href=\"#mfbb5275efb\" x=\"30.407937\" y=\"37.519503\" style=\"fill: #4575b4; fill-opacity: 0.7; stroke: #4575b4; stroke-opacity: 0.7; stroke-width: 0.3\" />\n",
              "     <use xlink:href=\"#mfbb5275efb\" x=\"28.538186\" y=\"37.536258\" style=\"fill: #4575b4; fill-opacity: 0.7; stroke: #4575b4; stroke-opacity: 0.7; stroke-width: 0.3\" />\n",
              "     <use xlink:href=\"#mfbb5275efb\" x=\"37.001924\" y=\"37.353629\" style=\"fill: #4575b4; fill-opacity: 0.7; stroke: #4575b4; stroke-opacity: 0.7; stroke-width: 0.3\" />\n",
              "     <use xlink:href=\"#mfbb5275efb\" x=\"34.714598\" y=\"37.806013\" style=\"fill: #4575b4; fill-opacity: 0.7; stroke: #4575b4; stroke-opacity: 0.7; stroke-width: 0.3\" />\n",
              "     <use xlink:href=\"#mfbb5275efb\" x=\"39.530726\" y=\"37.041988\" style=\"fill: #4575b4; fill-opacity: 0.7; stroke: #4575b4; stroke-opacity: 0.7; stroke-width: 0.3\" />\n",
              "     <use xlink:href=\"#mfbb5275efb\" x=\"32.993675\" y=\"37.221265\" style=\"fill: #4575b4; fill-opacity: 0.7; stroke: #4575b4; stroke-opacity: 0.7; stroke-width: 0.3\" />\n",
              "     <use xlink:href=\"#mfbb5275efb\" x=\"36.893797\" y=\"36.832551\" style=\"fill: #4575b4; fill-opacity: 0.7; stroke: #4575b4; stroke-opacity: 0.7; stroke-width: 0.3\" />\n",
              "     <use xlink:href=\"#mfbb5275efb\" x=\"33.728056\" y=\"38.062363\" style=\"fill: #4575b4; fill-opacity: 0.7; stroke: #4575b4; stroke-opacity: 0.7; stroke-width: 0.3\" />\n",
              "     <use xlink:href=\"#mfbb5275efb\" x=\"34.976866\" y=\"35.170461\" style=\"fill: #4575b4; fill-opacity: 0.7; stroke: #4575b4; stroke-opacity: 0.7; stroke-width: 0.3\" />\n",
              "     <use xlink:href=\"#mfbb5275efb\" x=\"33.663855\" y=\"30.433839\" style=\"fill: #4575b4; fill-opacity: 0.7; stroke: #4575b4; stroke-opacity: 0.7; stroke-width: 0.3\" />\n",
              "     <use xlink:href=\"#mfbb5275efb\" x=\"34.141763\" y=\"37.353629\" style=\"fill: #4575b4; fill-opacity: 0.7; stroke: #4575b4; stroke-opacity: 0.7; stroke-width: 0.3\" />\n",
              "     <use xlink:href=\"#mfbb5275efb\" x=\"30.732873\" y=\"38.114304\" style=\"fill: #4575b4; fill-opacity: 0.7; stroke: #4575b4; stroke-opacity: 0.7; stroke-width: 0.3\" />\n",
              "     <use xlink:href=\"#mfbb5275efb\" x=\"33.235909\" y=\"38.518098\" style=\"fill: #4575b4; fill-opacity: 0.7; stroke: #4575b4; stroke-opacity: 0.7; stroke-width: 0.3\" />\n",
              "     <use xlink:href=\"#mfbb5275efb\" x=\"28.812842\" y=\"37.254775\" style=\"fill: #4575b4; fill-opacity: 0.7; stroke: #4575b4; stroke-opacity: 0.7; stroke-width: 0.3\" />\n",
              "     <use xlink:href=\"#mfbb5275efb\" x=\"32.221096\" y=\"33.421245\" style=\"fill: #4575b4; fill-opacity: 0.7; stroke: #4575b4; stroke-opacity: 0.7; stroke-width: 0.3\" />\n",
              "     <use xlink:href=\"#mfbb5275efb\" x=\"33.352379\" y=\"37.755748\" style=\"fill: #4575b4; fill-opacity: 0.7; stroke: #4575b4; stroke-opacity: 0.7; stroke-width: 0.3\" />\n",
              "     <use xlink:href=\"#mfbb5275efb\" x=\"36.635628\" y=\"37.636788\" style=\"fill: #4575b4; fill-opacity: 0.7; stroke: #4575b4; stroke-opacity: 0.7; stroke-width: 0.3\" />\n",
              "     <use xlink:href=\"#mfbb5275efb\" x=\"27.996703\" y=\"36.673379\" style=\"fill: #4575b4; fill-opacity: 0.7; stroke: #4575b4; stroke-opacity: 0.7; stroke-width: 0.3\" />\n",
              "     <use xlink:href=\"#mfbb5275efb\" x=\"38.317404\" y=\"38.184674\" style=\"fill: #4575b4; fill-opacity: 0.7; stroke: #4575b4; stroke-opacity: 0.7; stroke-width: 0.3\" />\n",
              "     <use xlink:href=\"#mfbb5275efb\" x=\"41.042889\" y=\"37.703808\" style=\"fill: #4575b4; fill-opacity: 0.7; stroke: #4575b4; stroke-opacity: 0.7; stroke-width: 0.3\" />\n",
              "     <use xlink:href=\"#mfbb5275efb\" x=\"32.575976\" y=\"37.703808\" style=\"fill: #4575b4; fill-opacity: 0.7; stroke: #4575b4; stroke-opacity: 0.7; stroke-width: 0.3\" />\n",
              "     <use xlink:href=\"#mfbb5275efb\" x=\"31.884666\" y=\"37.703808\" style=\"fill: #4575b4; fill-opacity: 0.7; stroke: #4575b4; stroke-opacity: 0.7; stroke-width: 0.3\" />\n",
              "     <use xlink:href=\"#mfbb5275efb\" x=\"36.340992\" y=\"37.822768\" style=\"fill: #4575b4; fill-opacity: 0.7; stroke: #4575b4; stroke-opacity: 0.7; stroke-width: 0.3\" />\n",
              "     <use xlink:href=\"#mfbb5275efb\" x=\"38.169878\" y=\"37.435729\" style=\"fill: #4575b4; fill-opacity: 0.7; stroke: #4575b4; stroke-opacity: 0.7; stroke-width: 0.3\" />\n",
              "     <use xlink:href=\"#mfbb5275efb\" x=\"32.545435\" y=\"36.815796\" style=\"fill: #4575b4; fill-opacity: 0.7; stroke: #4575b4; stroke-opacity: 0.7; stroke-width: 0.3\" />\n",
              "     <use xlink:href=\"#mfbb5275efb\" x=\"33.185377\" y=\"37.806013\" style=\"fill: #4575b4; fill-opacity: 0.7; stroke: #4575b4; stroke-opacity: 0.7; stroke-width: 0.3\" />\n",
              "     <use xlink:href=\"#mfbb5275efb\" x=\"26.848814\" y=\"37.772503\" style=\"fill: #4575b4; fill-opacity: 0.7; stroke: #4575b4; stroke-opacity: 0.7; stroke-width: 0.3\" />\n",
              "     <use xlink:href=\"#mfbb5275efb\" x=\"36.501217\" y=\"37.402219\" style=\"fill: #4575b4; fill-opacity: 0.7; stroke: #4575b4; stroke-opacity: 0.7; stroke-width: 0.3\" />\n",
              "     <use xlink:href=\"#mfbb5275efb\" x=\"35.446348\" y=\"37.469238\" style=\"fill: #4575b4; fill-opacity: 0.7; stroke: #4575b4; stroke-opacity: 0.7; stroke-width: 0.3\" />\n",
              "     <use xlink:href=\"#mfbb5275efb\" x=\"31.326731\" y=\"36.705213\" style=\"fill: #4575b4; fill-opacity: 0.7; stroke: #4575b4; stroke-opacity: 0.7; stroke-width: 0.3\" />\n",
              "     <use xlink:href=\"#mfbb5275efb\" x=\"32.110988\" y=\"36.095333\" style=\"fill: #4575b4; fill-opacity: 0.7; stroke: #4575b4; stroke-opacity: 0.7; stroke-width: 0.3\" />\n",
              "     <use xlink:href=\"#mfbb5275efb\" x=\"34.143671\" y=\"38.062363\" style=\"fill: #4575b4; fill-opacity: 0.7; stroke: #4575b4; stroke-opacity: 0.7; stroke-width: 0.3\" />\n",
              "     <use xlink:href=\"#mfbb5275efb\" x=\"30.054234\" y=\"39.260341\" style=\"fill: #4575b4; fill-opacity: 0.7; stroke: #4575b4; stroke-opacity: 0.7; stroke-width: 0.3\" />\n",
              "     <use xlink:href=\"#mfbb5275efb\" x=\"35.766095\" y=\"36.373465\" style=\"fill: #4575b4; fill-opacity: 0.7; stroke: #4575b4; stroke-opacity: 0.7; stroke-width: 0.3\" />\n",
              "     <use xlink:href=\"#mfbb5275efb\" x=\"28.091065\" y=\"36.89622\" style=\"fill: #4575b4; fill-opacity: 0.7; stroke: #4575b4; stroke-opacity: 0.7; stroke-width: 0.3\" />\n",
              "     <use xlink:href=\"#mfbb5275efb\" x=\"37.288293\" y=\"37.435729\" style=\"fill: #4575b4; fill-opacity: 0.7; stroke: #4575b4; stroke-opacity: 0.7; stroke-width: 0.3\" />\n",
              "     <use xlink:href=\"#mfbb5275efb\" x=\"35.914694\" y=\"36.944809\" style=\"fill: #4575b4; fill-opacity: 0.7; stroke: #4575b4; stroke-opacity: 0.7; stroke-width: 0.3\" />\n",
              "     <use xlink:href=\"#mfbb5275efb\" x=\"34.041217\" y=\"37.058742\" style=\"fill: #4575b4; fill-opacity: 0.7; stroke: #4575b4; stroke-opacity: 0.7; stroke-width: 0.3\" />\n",
              "     <use xlink:href=\"#mfbb5275efb\" x=\"30.79576\" y=\"38.306985\" style=\"fill: #4575b4; fill-opacity: 0.7; stroke: #4575b4; stroke-opacity: 0.7; stroke-width: 0.3\" />\n",
              "     <use xlink:href=\"#mfbb5275efb\" x=\"29.324205\" y=\"39.903731\" style=\"fill: #4575b4; fill-opacity: 0.7; stroke: #4575b4; stroke-opacity: 0.7; stroke-width: 0.3\" />\n",
              "     <use xlink:href=\"#mfbb5275efb\" x=\"37.046016\" y=\"38.6957\" style=\"fill: #4575b4; fill-opacity: 0.7; stroke: #4575b4; stroke-opacity: 0.7; stroke-width: 0.3\" />\n",
              "     <use xlink:href=\"#mfbb5275efb\" x=\"36.46768\" y=\"38.218184\" style=\"fill: #4575b4; fill-opacity: 0.7; stroke: #4575b4; stroke-opacity: 0.7; stroke-width: 0.3\" />\n",
              "     <use xlink:href=\"#mfbb5275efb\" x=\"34.351518\" y=\"37.620033\" style=\"fill: #4575b4; fill-opacity: 0.7; stroke: #4575b4; stroke-opacity: 0.7; stroke-width: 0.3\" />\n",
              "     <use xlink:href=\"#mfbb5275efb\" x=\"34.360855\" y=\"39.112898\" style=\"fill: #4575b4; fill-opacity: 0.7; stroke: #4575b4; stroke-opacity: 0.7; stroke-width: 0.3\" />\n",
              "     <use xlink:href=\"#mfbb5275efb\" x=\"32.106835\" y=\"37.155921\" style=\"fill: #4575b4; fill-opacity: 0.7; stroke: #4575b4; stroke-opacity: 0.7; stroke-width: 0.3\" />\n",
              "     <use xlink:href=\"#mfbb5275efb\" x=\"41.758377\" y=\"37.772503\" style=\"fill: #4575b4; fill-opacity: 0.7; stroke: #4575b4; stroke-opacity: 0.7; stroke-width: 0.3\" />\n",
              "     <use xlink:href=\"#mfbb5275efb\" x=\"33.257496\" y=\"38.236615\" style=\"fill: #4575b4; fill-opacity: 0.7; stroke: #4575b4; stroke-opacity: 0.7; stroke-width: 0.3\" />\n",
              "     <use xlink:href=\"#mfbb5275efb\" x=\"34.674371\" y=\"37.452484\" style=\"fill: #4575b4; fill-opacity: 0.7; stroke: #4575b4; stroke-opacity: 0.7; stroke-width: 0.3\" />\n",
              "     <use xlink:href=\"#mfbb5275efb\" x=\"38.973097\" y=\"38.028853\" style=\"fill: #4575b4; fill-opacity: 0.7; stroke: #4575b4; stroke-opacity: 0.7; stroke-width: 0.3\" />\n",
              "     <use xlink:href=\"#mfbb5275efb\" x=\"36.144621\" y=\"38.184674\" style=\"fill: #4575b4; fill-opacity: 0.7; stroke: #4575b4; stroke-opacity: 0.7; stroke-width: 0.3\" />\n",
              "     <use xlink:href=\"#mfbb5275efb\" x=\"31.148055\" y=\"37.485993\" style=\"fill: #4575b4; fill-opacity: 0.7; stroke: #4575b4; stroke-opacity: 0.7; stroke-width: 0.3\" />\n",
              "     <use xlink:href=\"#mfbb5275efb\" x=\"36.488175\" y=\"31.36709\" style=\"fill: #4575b4; fill-opacity: 0.7; stroke: #4575b4; stroke-opacity: 0.7; stroke-width: 0.3\" />\n",
              "     <use xlink:href=\"#mfbb5275efb\" x=\"34.373251\" y=\"39.335739\" style=\"fill: #4575b4; fill-opacity: 0.7; stroke: #4575b4; stroke-opacity: 0.7; stroke-width: 0.3\" />\n",
              "     <use xlink:href=\"#mfbb5275efb\" x=\"33.656495\" y=\"40.935835\" style=\"fill: #4575b4; fill-opacity: 0.7; stroke: #4575b4; stroke-opacity: 0.7; stroke-width: 0.3\" />\n",
              "     <use xlink:href=\"#mfbb5275efb\" x=\"34.560744\" y=\"39.788122\" style=\"fill: #4575b4; fill-opacity: 0.7; stroke: #4575b4; stroke-opacity: 0.7; stroke-width: 0.3\" />\n",
              "     <use xlink:href=\"#mfbb5275efb\" x=\"33.560292\" y=\"37.993668\" style=\"fill: #4575b4; fill-opacity: 0.7; stroke: #4575b4; stroke-opacity: 0.7; stroke-width: 0.3\" />\n",
              "     <use xlink:href=\"#mfbb5275efb\" x=\"33.69629\" y=\"38.218184\" style=\"fill: #4575b4; fill-opacity: 0.7; stroke: #4575b4; stroke-opacity: 0.7; stroke-width: 0.3\" />\n",
              "     <use xlink:href=\"#mfbb5275efb\" x=\"39.004752\" y=\"37.402219\" style=\"fill: #4575b4; fill-opacity: 0.7; stroke: #4575b4; stroke-opacity: 0.7; stroke-width: 0.3\" />\n",
              "     <use xlink:href=\"#mfbb5275efb\" x=\"37.345455\" y=\"36.993398\" style=\"fill: #4575b4; fill-opacity: 0.7; stroke: #4575b4; stroke-opacity: 0.7; stroke-width: 0.3\" />\n",
              "     <use xlink:href=\"#mfbb5275efb\" x=\"29.583307\" y=\"35.805473\" style=\"fill: #4575b4; fill-opacity: 0.7; stroke: #4575b4; stroke-opacity: 0.7; stroke-width: 0.3\" />\n",
              "     <use xlink:href=\"#mfbb5275efb\" x=\"34.562159\" y=\"34.711376\" style=\"fill: #4575b4; fill-opacity: 0.7; stroke: #4575b4; stroke-opacity: 0.7; stroke-width: 0.3\" />\n",
              "     <use xlink:href=\"#mfbb5275efb\" x=\"31.690475\" y=\"36.546041\" style=\"fill: #4575b4; fill-opacity: 0.7; stroke: #4575b4; stroke-opacity: 0.7; stroke-width: 0.3\" />\n",
              "     <use xlink:href=\"#mfbb5275efb\" x=\"33.712854\" y=\"40.955941\" style=\"fill: #4575b4; fill-opacity: 0.7; stroke: #4575b4; stroke-opacity: 0.7; stroke-width: 0.3\" />\n",
              "     <use xlink:href=\"#mfbb5275efb\" x=\"33.625967\" y=\"38.802932\" style=\"fill: #4575b4; fill-opacity: 0.7; stroke: #4575b4; stroke-opacity: 0.7; stroke-width: 0.3\" />\n",
              "     <use xlink:href=\"#mfbb5275efb\" x=\"39.475134\" y=\"38.375681\" style=\"fill: #4575b4; fill-opacity: 0.7; stroke: #4575b4; stroke-opacity: 0.7; stroke-width: 0.3\" />\n",
              "     <use xlink:href=\"#mfbb5275efb\" x=\"27.888225\" y=\"37.553013\" style=\"fill: #4575b4; fill-opacity: 0.7; stroke: #4575b4; stroke-opacity: 0.7; stroke-width: 0.3\" />\n",
              "     <use xlink:href=\"#mfbb5275efb\" x=\"36.492979\" y=\"37.010153\" style=\"fill: #4575b4; fill-opacity: 0.7; stroke: #4575b4; stroke-opacity: 0.7; stroke-width: 0.3\" />\n",
              "     <use xlink:href=\"#mfbb5275efb\" x=\"30.207714\" y=\"37.519503\" style=\"fill: #4575b4; fill-opacity: 0.7; stroke: #4575b4; stroke-opacity: 0.7; stroke-width: 0.3\" />\n",
              "     <use xlink:href=\"#mfbb5275efb\" x=\"36.69849\" y=\"37.891463\" style=\"fill: #4575b4; fill-opacity: 0.7; stroke: #4575b4; stroke-opacity: 0.7; stroke-width: 0.3\" />\n",
              "     <use xlink:href=\"#mfbb5275efb\" x=\"33.135617\" y=\"38.114304\" style=\"fill: #4575b4; fill-opacity: 0.7; stroke: #4575b4; stroke-opacity: 0.7; stroke-width: 0.3\" />\n",
              "     <use xlink:href=\"#mfbb5275efb\" x=\"35.159903\" y=\"37.519503\" style=\"fill: #4575b4; fill-opacity: 0.7; stroke: #4575b4; stroke-opacity: 0.7; stroke-width: 0.3\" />\n",
              "     <use xlink:href=\"#mfbb5275efb\" x=\"26.678381\" y=\"37.090577\" style=\"fill: #4575b4; fill-opacity: 0.7; stroke: #4575b4; stroke-opacity: 0.7; stroke-width: 0.3\" />\n",
              "     <use xlink:href=\"#mfbb5275efb\" x=\"34.316994\" y=\"37.402219\" style=\"fill: #4575b4; fill-opacity: 0.7; stroke: #4575b4; stroke-opacity: 0.7; stroke-width: 0.3\" />\n",
              "     <use xlink:href=\"#mfbb5275efb\" x=\"33.419114\" y=\"40.155055\" style=\"fill: #4575b4; fill-opacity: 0.7; stroke: #4575b4; stroke-opacity: 0.7; stroke-width: 0.3\" />\n",
              "     <use xlink:href=\"#mfbb5275efb\" x=\"31.063119\" y=\"38.429296\" style=\"fill: #4575b4; fill-opacity: 0.7; stroke: #4575b4; stroke-opacity: 0.7; stroke-width: 0.3\" />\n",
              "     <use xlink:href=\"#mfbb5275efb\" x=\"35.618547\" y=\"37.402219\" style=\"fill: #4575b4; fill-opacity: 0.7; stroke: #4575b4; stroke-opacity: 0.7; stroke-width: 0.3\" />\n",
              "     <use xlink:href=\"#mfbb5275efb\" x=\"35.705732\" y=\"39.278772\" style=\"fill: #4575b4; fill-opacity: 0.7; stroke: #4575b4; stroke-opacity: 0.7; stroke-width: 0.3\" />\n",
              "     <use xlink:href=\"#mfbb5275efb\" x=\"33.494048\" y=\"37.124087\" style=\"fill: #4575b4; fill-opacity: 0.7; stroke: #4575b4; stroke-opacity: 0.7; stroke-width: 0.3\" />\n",
              "     <use xlink:href=\"#mfbb5275efb\" x=\"36.060968\" y=\"39.541824\" style=\"fill: #4575b4; fill-opacity: 0.7; stroke: #4575b4; stroke-opacity: 0.7; stroke-width: 0.3\" />\n",
              "     <use xlink:href=\"#mfbb5275efb\" x=\"39.26807\" y=\"37.353629\" style=\"fill: #4575b4; fill-opacity: 0.7; stroke: #4575b4; stroke-opacity: 0.7; stroke-width: 0.3\" />\n",
              "     <use xlink:href=\"#mfbb5275efb\" x=\"31.315661\" y=\"37.620033\" style=\"fill: #4575b4; fill-opacity: 0.7; stroke: #4575b4; stroke-opacity: 0.7; stroke-width: 0.3\" />\n",
              "     <use xlink:href=\"#mfbb5275efb\" x=\"34.198942\" y=\"37.469238\" style=\"fill: #4575b4; fill-opacity: 0.7; stroke: #4575b4; stroke-opacity: 0.7; stroke-width: 0.3\" />\n",
              "     <use xlink:href=\"#mfbb5275efb\" x=\"31.453891\" y=\"33.778125\" style=\"fill: #4575b4; fill-opacity: 0.7; stroke: #4575b4; stroke-opacity: 0.7; stroke-width: 0.3\" />\n",
              "     <use xlink:href=\"#mfbb5275efb\" x=\"35.454765\" y=\"36.944809\" style=\"fill: #4575b4; fill-opacity: 0.7; stroke: #4575b4; stroke-opacity: 0.7; stroke-width: 0.3\" />\n",
              "     <use xlink:href=\"#mfbb5275efb\" x=\"35.69376\" y=\"26.174734\" style=\"fill: #4575b4; fill-opacity: 0.7; stroke: #4575b4; stroke-opacity: 0.7; stroke-width: 0.3\" />\n",
              "     <use xlink:href=\"#mfbb5275efb\" x=\"35.834917\" y=\"30.313204\" style=\"fill: #4575b4; fill-opacity: 0.7; stroke: #4575b4; stroke-opacity: 0.7; stroke-width: 0.3\" />\n",
              "     <use xlink:href=\"#mfbb5275efb\" x=\"40.427997\" y=\"37.856278\" style=\"fill: #4575b4; fill-opacity: 0.7; stroke: #4575b4; stroke-opacity: 0.7; stroke-width: 0.3\" />\n",
              "     <use xlink:href=\"#mfbb5275efb\" x=\"39.324808\" y=\"36.800716\" style=\"fill: #4575b4; fill-opacity: 0.7; stroke: #4575b4; stroke-opacity: 0.7; stroke-width: 0.3\" />\n",
              "     <use xlink:href=\"#mfbb5275efb\" x=\"30.87351\" y=\"38.149489\" style=\"fill: #4575b4; fill-opacity: 0.7; stroke: #4575b4; stroke-opacity: 0.7; stroke-width: 0.3\" />\n",
              "     <use xlink:href=\"#mfbb5275efb\" x=\"38.060754\" y=\"37.124087\" style=\"fill: #4575b4; fill-opacity: 0.7; stroke: #4575b4; stroke-opacity: 0.7; stroke-width: 0.3\" />\n",
              "     <use xlink:href=\"#mfbb5275efb\" x=\"34.120182\" y=\"37.107332\" style=\"fill: #4575b4; fill-opacity: 0.7; stroke: #4575b4; stroke-opacity: 0.7; stroke-width: 0.3\" />\n",
              "     <use xlink:href=\"#mfbb5275efb\" x=\"32.425669\" y=\"39.768016\" style=\"fill: #4575b4; fill-opacity: 0.7; stroke: #4575b4; stroke-opacity: 0.7; stroke-width: 0.3\" />\n",
              "     <use xlink:href=\"#mfbb5275efb\" x=\"37.528764\" y=\"40.471723\" style=\"fill: #4575b4; fill-opacity: 0.7; stroke: #4575b4; stroke-opacity: 0.7; stroke-width: 0.3\" />\n",
              "     <use xlink:href=\"#mfbb5275efb\" x=\"34.565577\" y=\"37.806013\" style=\"fill: #4575b4; fill-opacity: 0.7; stroke: #4575b4; stroke-opacity: 0.7; stroke-width: 0.3\" />\n",
              "     <use xlink:href=\"#mfbb5275efb\" x=\"34.474624\" y=\"32.715862\" style=\"fill: #4575b4; fill-opacity: 0.7; stroke: #4575b4; stroke-opacity: 0.7; stroke-width: 0.3\" />\n",
              "     <use xlink:href=\"#mfbb5275efb\" x=\"33.398281\" y=\"37.806013\" style=\"fill: #4575b4; fill-opacity: 0.7; stroke: #4575b4; stroke-opacity: 0.7; stroke-width: 0.3\" />\n",
              "     <use xlink:href=\"#mfbb5275efb\" x=\"32.280948\" y=\"38.821362\" style=\"fill: #4575b4; fill-opacity: 0.7; stroke: #4575b4; stroke-opacity: 0.7; stroke-width: 0.3\" />\n",
              "     <use xlink:href=\"#mfbb5275efb\" x=\"35.622469\" y=\"37.090577\" style=\"fill: #4575b4; fill-opacity: 0.7; stroke: #4575b4; stroke-opacity: 0.7; stroke-width: 0.3\" />\n",
              "     <use xlink:href=\"#mfbb5275efb\" x=\"36.848882\" y=\"38.429296\" style=\"fill: #4575b4; fill-opacity: 0.7; stroke: #4575b4; stroke-opacity: 0.7; stroke-width: 0.3\" />\n",
              "     <use xlink:href=\"#mfbb5275efb\" x=\"32.19239\" y=\"36.832551\" style=\"fill: #4575b4; fill-opacity: 0.7; stroke: #4575b4; stroke-opacity: 0.7; stroke-width: 0.3\" />\n",
              "     <use xlink:href=\"#mfbb5275efb\" x=\"36.527824\" y=\"37.720563\" style=\"fill: #4575b4; fill-opacity: 0.7; stroke: #4575b4; stroke-opacity: 0.7; stroke-width: 0.3\" />\n",
              "     <use xlink:href=\"#mfbb5275efb\" x=\"37.076633\" y=\"34.599117\" style=\"fill: #4575b4; fill-opacity: 0.7; stroke: #4575b4; stroke-opacity: 0.7; stroke-width: 0.3\" />\n",
              "     <use xlink:href=\"#mfbb5275efb\" x=\"30.70319\" y=\"37.891463\" style=\"fill: #4575b4; fill-opacity: 0.7; stroke: #4575b4; stroke-opacity: 0.7; stroke-width: 0.3\" />\n",
              "     <use xlink:href=\"#mfbb5275efb\" x=\"34.33252\" y=\"38.71413\" style=\"fill: #4575b4; fill-opacity: 0.7; stroke: #4575b4; stroke-opacity: 0.7; stroke-width: 0.3\" />\n",
              "     <use xlink:href=\"#mfbb5275efb\" x=\"33.149531\" y=\"39.749586\" style=\"fill: #4575b4; fill-opacity: 0.7; stroke: #4575b4; stroke-opacity: 0.7; stroke-width: 0.3\" />\n",
              "     <use xlink:href=\"#mfbb5275efb\" x=\"29.602553\" y=\"37.303365\" style=\"fill: #4575b4; fill-opacity: 0.7; stroke: #4575b4; stroke-opacity: 0.7; stroke-width: 0.3\" />\n",
              "     <use xlink:href=\"#mfbb5275efb\" x=\"35.970591\" y=\"38.749316\" style=\"fill: #4575b4; fill-opacity: 0.7; stroke: #4575b4; stroke-opacity: 0.7; stroke-width: 0.3\" />\n",
              "     <use xlink:href=\"#mfbb5275efb\" x=\"36.92742\" y=\"36.783961\" style=\"fill: #4575b4; fill-opacity: 0.7; stroke: #4575b4; stroke-opacity: 0.7; stroke-width: 0.3\" />\n",
              "     <use xlink:href=\"#mfbb5275efb\" x=\"31.854827\" y=\"36.420379\" style=\"fill: #4575b4; fill-opacity: 0.7; stroke: #4575b4; stroke-opacity: 0.7; stroke-width: 0.3\" />\n",
              "     <use xlink:href=\"#mfbb5275efb\" x=\"34.906915\" y=\"36.752127\" style=\"fill: #4575b4; fill-opacity: 0.7; stroke: #4575b4; stroke-opacity: 0.7; stroke-width: 0.3\" />\n",
              "     <use xlink:href=\"#mfbb5275efb\" x=\"37.327431\" y=\"37.687053\" style=\"fill: #4575b4; fill-opacity: 0.7; stroke: #4575b4; stroke-opacity: 0.7; stroke-width: 0.3\" />\n",
              "     <use xlink:href=\"#mfbb5275efb\" x=\"35.174138\" y=\"37.353629\" style=\"fill: #4575b4; fill-opacity: 0.7; stroke: #4575b4; stroke-opacity: 0.7; stroke-width: 0.3\" />\n",
              "     <use xlink:href=\"#mfbb5275efb\" x=\"37.728302\" y=\"37.418974\" style=\"fill: #4575b4; fill-opacity: 0.7; stroke: #4575b4; stroke-opacity: 0.7; stroke-width: 0.3\" />\n",
              "     <use xlink:href=\"#mfbb5275efb\" x=\"34.43998\" y=\"36.815796\" style=\"fill: #4575b4; fill-opacity: 0.7; stroke: #4575b4; stroke-opacity: 0.7; stroke-width: 0.3\" />\n",
              "     <use xlink:href=\"#mfbb5275efb\" x=\"32.524741\" y=\"36.912974\" style=\"fill: #4575b4; fill-opacity: 0.7; stroke: #4575b4; stroke-opacity: 0.7; stroke-width: 0.3\" />\n",
              "     <use xlink:href=\"#mfbb5275efb\" x=\"36.821938\" y=\"38.25337\" style=\"fill: #4575b4; fill-opacity: 0.7; stroke: #4575b4; stroke-opacity: 0.7; stroke-width: 0.3\" />\n",
              "     <use xlink:href=\"#mfbb5275efb\" x=\"36.013715\" y=\"37.874708\" style=\"fill: #4575b4; fill-opacity: 0.7; stroke: #4575b4; stroke-opacity: 0.7; stroke-width: 0.3\" />\n",
              "     <use xlink:href=\"#mfbb5275efb\" x=\"29.128315\" y=\"37.041988\" style=\"fill: #4575b4; fill-opacity: 0.7; stroke: #4575b4; stroke-opacity: 0.7; stroke-width: 0.3\" />\n",
              "     <use xlink:href=\"#mfbb5275efb\" x=\"28.747921\" y=\"36.800716\" style=\"fill: #4575b4; fill-opacity: 0.7; stroke: #4575b4; stroke-opacity: 0.7; stroke-width: 0.3\" />\n",
              "     <use xlink:href=\"#mfbb5275efb\" x=\"33.119733\" y=\"37.553013\" style=\"fill: #4575b4; fill-opacity: 0.7; stroke: #4575b4; stroke-opacity: 0.7; stroke-width: 0.3\" />\n",
              "     <use xlink:href=\"#mfbb5275efb\" x=\"40.304302\" y=\"38.394111\" style=\"fill: #4575b4; fill-opacity: 0.7; stroke: #4575b4; stroke-opacity: 0.7; stroke-width: 0.3\" />\n",
              "     <use xlink:href=\"#mfbb5275efb\" x=\"34.118211\" y=\"35.671433\" style=\"fill: #4575b4; fill-opacity: 0.7; stroke: #4575b4; stroke-opacity: 0.7; stroke-width: 0.3\" />\n",
              "     <use xlink:href=\"#mfbb5275efb\" x=\"35.272874\" y=\"38.184674\" style=\"fill: #4575b4; fill-opacity: 0.7; stroke: #4575b4; stroke-opacity: 0.7; stroke-width: 0.3\" />\n",
              "     <use xlink:href=\"#mfbb5275efb\" x=\"41.498997\" y=\"36.912974\" style=\"fill: #4575b4; fill-opacity: 0.7; stroke: #4575b4; stroke-opacity: 0.7; stroke-width: 0.3\" />\n",
              "     <use xlink:href=\"#mfbb5275efb\" x=\"41.883206\" y=\"37.058742\" style=\"fill: #4575b4; fill-opacity: 0.7; stroke: #4575b4; stroke-opacity: 0.7; stroke-width: 0.3\" />\n",
              "     <use xlink:href=\"#mfbb5275efb\" x=\"31.661097\" y=\"37.720563\" style=\"fill: #4575b4; fill-opacity: 0.7; stroke: #4575b4; stroke-opacity: 0.7; stroke-width: 0.3\" />\n",
              "     <use xlink:href=\"#mfbb5275efb\" x=\"37.900238\" y=\"36.499127\" style=\"fill: #4575b4; fill-opacity: 0.7; stroke: #4575b4; stroke-opacity: 0.7; stroke-width: 0.3\" />\n",
              "     <use xlink:href=\"#mfbb5275efb\" x=\"31.30279\" y=\"36.993398\" style=\"fill: #4575b4; fill-opacity: 0.7; stroke: #4575b4; stroke-opacity: 0.7; stroke-width: 0.3\" />\n",
              "     <use xlink:href=\"#mfbb5275efb\" x=\"37.177018\" y=\"40.195267\" style=\"fill: #4575b4; fill-opacity: 0.7; stroke: #4575b4; stroke-opacity: 0.7; stroke-width: 0.3\" />\n",
              "     <use xlink:href=\"#mfbb5275efb\" x=\"33.334231\" y=\"37.993668\" style=\"fill: #4575b4; fill-opacity: 0.7; stroke: #4575b4; stroke-opacity: 0.7; stroke-width: 0.3\" />\n",
              "     <use xlink:href=\"#mfbb5275efb\" x=\"34.478922\" y=\"37.485993\" style=\"fill: #4575b4; fill-opacity: 0.7; stroke: #4575b4; stroke-opacity: 0.7; stroke-width: 0.3\" />\n",
              "     <use xlink:href=\"#mfbb5275efb\" x=\"32.632162\" y=\"37.32012\" style=\"fill: #4575b4; fill-opacity: 0.7; stroke: #4575b4; stroke-opacity: 0.7; stroke-width: 0.3\" />\n",
              "     <use xlink:href=\"#mfbb5275efb\" x=\"33.554207\" y=\"37.502748\" style=\"fill: #4575b4; fill-opacity: 0.7; stroke: #4575b4; stroke-opacity: 0.7; stroke-width: 0.3\" />\n",
              "     <use xlink:href=\"#mfbb5275efb\" x=\"35.761701\" y=\"36.928054\" style=\"fill: #4575b4; fill-opacity: 0.7; stroke: #4575b4; stroke-opacity: 0.7; stroke-width: 0.3\" />\n",
              "     <use xlink:href=\"#mfbb5275efb\" x=\"37.044897\" y=\"36.84763\" style=\"fill: #4575b4; fill-opacity: 0.7; stroke: #4575b4; stroke-opacity: 0.7; stroke-width: 0.3\" />\n",
              "     <use xlink:href=\"#mfbb5275efb\" x=\"35.62022\" y=\"36.234399\" style=\"fill: #4575b4; fill-opacity: 0.7; stroke: #4575b4; stroke-opacity: 0.7; stroke-width: 0.3\" />\n",
              "     <use xlink:href=\"#mfbb5275efb\" x=\"41.10871\" y=\"33.238616\" style=\"fill: #4575b4; fill-opacity: 0.7; stroke: #4575b4; stroke-opacity: 0.7; stroke-width: 0.3\" />\n",
              "     <use xlink:href=\"#mfbb5275efb\" x=\"29.462694\" y=\"37.336874\" style=\"fill: #4575b4; fill-opacity: 0.7; stroke: #4575b4; stroke-opacity: 0.7; stroke-width: 0.3\" />\n",
              "     <use xlink:href=\"#mfbb5275efb\" x=\"28.743753\" y=\"37.254775\" style=\"fill: #4575b4; fill-opacity: 0.7; stroke: #4575b4; stroke-opacity: 0.7; stroke-width: 0.3\" />\n",
              "     <use xlink:href=\"#mfbb5275efb\" x=\"30.393487\" y=\"36.800716\" style=\"fill: #4575b4; fill-opacity: 0.7; stroke: #4575b4; stroke-opacity: 0.7; stroke-width: 0.3\" />\n",
              "     <use xlink:href=\"#mfbb5275efb\" x=\"39.43309\" y=\"37.139166\" style=\"fill: #4575b4; fill-opacity: 0.7; stroke: #4575b4; stroke-opacity: 0.7; stroke-width: 0.3\" />\n",
              "     <use xlink:href=\"#mfbb5275efb\" x=\"36.914986\" y=\"37.20451\" style=\"fill: #4575b4; fill-opacity: 0.7; stroke: #4575b4; stroke-opacity: 0.7; stroke-width: 0.3\" />\n",
              "     <use xlink:href=\"#mfbb5275efb\" x=\"32.371892\" y=\"37.402219\" style=\"fill: #4575b4; fill-opacity: 0.7; stroke: #4575b4; stroke-opacity: 0.7; stroke-width: 0.3\" />\n",
              "     <use xlink:href=\"#mfbb5275efb\" x=\"38.066014\" y=\"36.800716\" style=\"fill: #4575b4; fill-opacity: 0.7; stroke: #4575b4; stroke-opacity: 0.7; stroke-width: 0.3\" />\n",
              "     <use xlink:href=\"#mfbb5275efb\" x=\"32.375051\" y=\"36.326552\" style=\"fill: #4575b4; fill-opacity: 0.7; stroke: #4575b4; stroke-opacity: 0.7; stroke-width: 0.3\" />\n",
              "     <use xlink:href=\"#mfbb5275efb\" x=\"28.22176\" y=\"37.772503\" style=\"fill: #4575b4; fill-opacity: 0.7; stroke: #4575b4; stroke-opacity: 0.7; stroke-width: 0.3\" />\n",
              "     <use xlink:href=\"#mfbb5275efb\" x=\"35.654136\" y=\"37.653543\" style=\"fill: #4575b4; fill-opacity: 0.7; stroke: #4575b4; stroke-opacity: 0.7; stroke-width: 0.3\" />\n",
              "     <use xlink:href=\"#mfbb5275efb\" x=\"30.60785\" y=\"37.924973\" style=\"fill: #4575b4; fill-opacity: 0.7; stroke: #4575b4; stroke-opacity: 0.7; stroke-width: 0.3\" />\n",
              "     <use xlink:href=\"#mfbb5275efb\" x=\"40.130258\" y=\"39.674188\" style=\"fill: #4575b4; fill-opacity: 0.7; stroke: #4575b4; stroke-opacity: 0.7; stroke-width: 0.3\" />\n",
              "     <use xlink:href=\"#mfbb5275efb\" x=\"31.161018\" y=\"36.172406\" style=\"fill: #4575b4; fill-opacity: 0.7; stroke: #4575b4; stroke-opacity: 0.7; stroke-width: 0.3\" />\n",
              "     <use xlink:href=\"#mfbb5275efb\" x=\"35.011368\" y=\"37.353629\" style=\"fill: #4575b4; fill-opacity: 0.7; stroke: #4575b4; stroke-opacity: 0.7; stroke-width: 0.3\" />\n",
              "     <use xlink:href=\"#mfbb5275efb\" x=\"30.98602\" y=\"37.058742\" style=\"fill: #4575b4; fill-opacity: 0.7; stroke: #4575b4; stroke-opacity: 0.7; stroke-width: 0.3\" />\n",
              "     <use xlink:href=\"#mfbb5275efb\" x=\"32.384179\" y=\"37.303365\" style=\"fill: #4575b4; fill-opacity: 0.7; stroke: #4575b4; stroke-opacity: 0.7; stroke-width: 0.3\" />\n",
              "     <use xlink:href=\"#mfbb5275efb\" x=\"38.1455\" y=\"36.928054\" style=\"fill: #4575b4; fill-opacity: 0.7; stroke: #4575b4; stroke-opacity: 0.7; stroke-width: 0.3\" />\n",
              "     <use xlink:href=\"#mfbb5275efb\" x=\"39.843128\" y=\"40.213698\" style=\"fill: #4575b4; fill-opacity: 0.7; stroke: #4575b4; stroke-opacity: 0.7; stroke-width: 0.3\" />\n",
              "     <use xlink:href=\"#mfbb5275efb\" x=\"33.459271\" y=\"37.586523\" style=\"fill: #4575b4; fill-opacity: 0.7; stroke: #4575b4; stroke-opacity: 0.7; stroke-width: 0.3\" />\n",
              "     <use xlink:href=\"#mfbb5275efb\" x=\"35.321132\" y=\"38.911839\" style=\"fill: #4575b4; fill-opacity: 0.7; stroke: #4575b4; stroke-opacity: 0.7; stroke-width: 0.3\" />\n",
              "     <use xlink:href=\"#mfbb5275efb\" x=\"36.420914\" y=\"37.636788\" style=\"fill: #4575b4; fill-opacity: 0.7; stroke: #4575b4; stroke-opacity: 0.7; stroke-width: 0.3\" />\n",
              "     <use xlink:href=\"#mfbb5275efb\" x=\"35.607954\" y=\"37.254775\" style=\"fill: #4575b4; fill-opacity: 0.7; stroke: #4575b4; stroke-opacity: 0.7; stroke-width: 0.3\" />\n",
              "     <use xlink:href=\"#mfbb5275efb\" x=\"34.549162\" y=\"36.783961\" style=\"fill: #4575b4; fill-opacity: 0.7; stroke: #4575b4; stroke-opacity: 0.7; stroke-width: 0.3\" />\n",
              "     <use xlink:href=\"#mfbb5275efb\" x=\"37.493425\" y=\"37.772503\" style=\"fill: #4575b4; fill-opacity: 0.7; stroke: #4575b4; stroke-opacity: 0.7; stroke-width: 0.3\" />\n",
              "     <use xlink:href=\"#mfbb5275efb\" x=\"35.942204\" y=\"37.670298\" style=\"fill: #4575b4; fill-opacity: 0.7; stroke: #4575b4; stroke-opacity: 0.7; stroke-width: 0.3\" />\n",
              "     <use xlink:href=\"#mfbb5275efb\" x=\"29.268988\" y=\"36.03334\" style=\"fill: #4575b4; fill-opacity: 0.7; stroke: #4575b4; stroke-opacity: 0.7; stroke-width: 0.3\" />\n",
              "     <use xlink:href=\"#mfbb5275efb\" x=\"32.275172\" y=\"38.9487\" style=\"fill: #4575b4; fill-opacity: 0.7; stroke: #4575b4; stroke-opacity: 0.7; stroke-width: 0.3\" />\n",
              "     <use xlink:href=\"#mfbb5275efb\" x=\"32.879002\" y=\"37.32012\" style=\"fill: #4575b4; fill-opacity: 0.7; stroke: #4575b4; stroke-opacity: 0.7; stroke-width: 0.3\" />\n",
              "     <use xlink:href=\"#mfbb5275efb\" x=\"38.666932\" y=\"37.891463\" style=\"fill: #4575b4; fill-opacity: 0.7; stroke: #4575b4; stroke-opacity: 0.7; stroke-width: 0.3\" />\n",
              "     <use xlink:href=\"#mfbb5275efb\" x=\"38.794112\" y=\"39.446321\" style=\"fill: #4575b4; fill-opacity: 0.7; stroke: #4575b4; stroke-opacity: 0.7; stroke-width: 0.3\" />\n",
              "     <use xlink:href=\"#mfbb5275efb\" x=\"29.04064\" y=\"37.636788\" style=\"fill: #4575b4; fill-opacity: 0.7; stroke: #4575b4; stroke-opacity: 0.7; stroke-width: 0.3\" />\n",
              "     <use xlink:href=\"#mfbb5275efb\" x=\"29.584662\" y=\"35.344712\" style=\"fill: #4575b4; fill-opacity: 0.7; stroke: #4575b4; stroke-opacity: 0.7; stroke-width: 0.3\" />\n",
              "     <use xlink:href=\"#mfbb5275efb\" x=\"28.693948\" y=\"33.290557\" style=\"fill: #4575b4; fill-opacity: 0.7; stroke: #4575b4; stroke-opacity: 0.7; stroke-width: 0.3\" />\n",
              "     <use xlink:href=\"#mfbb5275efb\" x=\"33.395429\" y=\"36.530962\" style=\"fill: #4575b4; fill-opacity: 0.7; stroke: #4575b4; stroke-opacity: 0.7; stroke-width: 0.3\" />\n",
              "     <use xlink:href=\"#mfbb5275efb\" x=\"32.517718\" y=\"37.620033\" style=\"fill: #4575b4; fill-opacity: 0.7; stroke: #4575b4; stroke-opacity: 0.7; stroke-width: 0.3\" />\n",
              "     <use xlink:href=\"#mfbb5275efb\" x=\"37.282577\" y=\"37.636788\" style=\"fill: #4575b4; fill-opacity: 0.7; stroke: #4575b4; stroke-opacity: 0.7; stroke-width: 0.3\" />\n",
              "     <use xlink:href=\"#mfbb5275efb\" x=\"36.984515\" y=\"37.090577\" style=\"fill: #4575b4; fill-opacity: 0.7; stroke: #4575b4; stroke-opacity: 0.7; stroke-width: 0.3\" />\n",
              "     <use xlink:href=\"#mfbb5275efb\" x=\"31.828746\" y=\"37.058742\" style=\"fill: #4575b4; fill-opacity: 0.7; stroke: #4575b4; stroke-opacity: 0.7; stroke-width: 0.3\" />\n",
              "     <use xlink:href=\"#mfbb5275efb\" x=\"37.259822\" y=\"39.635652\" style=\"fill: #4575b4; fill-opacity: 0.7; stroke: #4575b4; stroke-opacity: 0.7; stroke-width: 0.3\" />\n",
              "     <use xlink:href=\"#mfbb5275efb\" x=\"36.453264\" y=\"37.452484\" style=\"fill: #4575b4; fill-opacity: 0.7; stroke: #4575b4; stroke-opacity: 0.7; stroke-width: 0.3\" />\n",
              "     <use xlink:href=\"#mfbb5275efb\" x=\"33.407577\" y=\"37.073822\" style=\"fill: #4575b4; fill-opacity: 0.7; stroke: #4575b4; stroke-opacity: 0.7; stroke-width: 0.3\" />\n",
              "     <use xlink:href=\"#mfbb5275efb\" x=\"28.22134\" y=\"38.358926\" style=\"fill: #4575b4; fill-opacity: 0.7; stroke: #4575b4; stroke-opacity: 0.7; stroke-width: 0.3\" />\n",
              "     <use xlink:href=\"#mfbb5275efb\" x=\"30.187726\" y=\"37.20451\" style=\"fill: #4575b4; fill-opacity: 0.7; stroke: #4575b4; stroke-opacity: 0.7; stroke-width: 0.3\" />\n",
              "     <use xlink:href=\"#mfbb5275efb\" x=\"30.8058\" y=\"37.569768\" style=\"fill: #4575b4; fill-opacity: 0.7; stroke: #4575b4; stroke-opacity: 0.7; stroke-width: 0.3\" />\n",
              "     <use xlink:href=\"#mfbb5275efb\" x=\"38.031972\" y=\"37.303365\" style=\"fill: #4575b4; fill-opacity: 0.7; stroke: #4575b4; stroke-opacity: 0.7; stroke-width: 0.3\" />\n",
              "     <use xlink:href=\"#mfbb5275efb\" x=\"33.345956\" y=\"37.370384\" style=\"fill: #4575b4; fill-opacity: 0.7; stroke: #4575b4; stroke-opacity: 0.7; stroke-width: 0.3\" />\n",
              "     <use xlink:href=\"#mfbb5275efb\" x=\"36.034712\" y=\"38.358926\" style=\"fill: #4575b4; fill-opacity: 0.7; stroke: #4575b4; stroke-opacity: 0.7; stroke-width: 0.3\" />\n",
              "     <use xlink:href=\"#mfbb5275efb\" x=\"33.372526\" y=\"36.864385\" style=\"fill: #4575b4; fill-opacity: 0.7; stroke: #4575b4; stroke-opacity: 0.7; stroke-width: 0.3\" />\n",
              "     <use xlink:href=\"#mfbb5275efb\" x=\"32.185431\" y=\"37.28661\" style=\"fill: #4575b4; fill-opacity: 0.7; stroke: #4575b4; stroke-opacity: 0.7; stroke-width: 0.3\" />\n",
              "     <use xlink:href=\"#mfbb5275efb\" x=\"31.967996\" y=\"37.23802\" style=\"fill: #4575b4; fill-opacity: 0.7; stroke: #4575b4; stroke-opacity: 0.7; stroke-width: 0.3\" />\n",
              "     <use xlink:href=\"#mfbb5275efb\" x=\"34.30993\" y=\"37.452484\" style=\"fill: #4575b4; fill-opacity: 0.7; stroke: #4575b4; stroke-opacity: 0.7; stroke-width: 0.3\" />\n",
              "     <use xlink:href=\"#mfbb5275efb\" x=\"31.333231\" y=\"35.912705\" style=\"fill: #4575b4; fill-opacity: 0.7; stroke: #4575b4; stroke-opacity: 0.7; stroke-width: 0.3\" />\n",
              "     <use xlink:href=\"#mfbb5275efb\" x=\"35.525865\" y=\"36.864385\" style=\"fill: #4575b4; fill-opacity: 0.7; stroke: #4575b4; stroke-opacity: 0.7; stroke-width: 0.3\" />\n",
              "     <use xlink:href=\"#mfbb5275efb\" x=\"32.522514\" y=\"37.908218\" style=\"fill: #4575b4; fill-opacity: 0.7; stroke: #4575b4; stroke-opacity: 0.7; stroke-width: 0.3\" />\n",
              "     <use xlink:href=\"#mfbb5275efb\" x=\"27.968134\" y=\"37.891463\" style=\"fill: #4575b4; fill-opacity: 0.7; stroke: #4575b4; stroke-opacity: 0.7; stroke-width: 0.3\" />\n",
              "     <use xlink:href=\"#mfbb5275efb\" x=\"38.043609\" y=\"37.653543\" style=\"fill: #4575b4; fill-opacity: 0.7; stroke: #4575b4; stroke-opacity: 0.7; stroke-width: 0.3\" />\n",
              "     <use xlink:href=\"#mfbb5275efb\" x=\"35.763696\" y=\"36.592955\" style=\"fill: #4575b4; fill-opacity: 0.7; stroke: #4575b4; stroke-opacity: 0.7; stroke-width: 0.3\" />\n",
              "     <use xlink:href=\"#mfbb5275efb\" x=\"32.730916\" y=\"39.635652\" style=\"fill: #4575b4; fill-opacity: 0.7; stroke: #4575b4; stroke-opacity: 0.7; stroke-width: 0.3\" />\n",
              "     <use xlink:href=\"#mfbb5275efb\" x=\"34.466681\" y=\"38.32374\" style=\"fill: #4575b4; fill-opacity: 0.7; stroke: #4575b4; stroke-opacity: 0.7; stroke-width: 0.3\" />\n",
              "     <use xlink:href=\"#mfbb5275efb\" x=\"35.373739\" y=\"36.768882\" style=\"fill: #4575b4; fill-opacity: 0.7; stroke: #4575b4; stroke-opacity: 0.7; stroke-width: 0.3\" />\n",
              "     <use xlink:href=\"#mfbb5275efb\" x=\"34.477431\" y=\"37.107332\" style=\"fill: #4575b4; fill-opacity: 0.7; stroke: #4575b4; stroke-opacity: 0.7; stroke-width: 0.3\" />\n",
              "     <use xlink:href=\"#mfbb5275efb\" x=\"35.205653\" y=\"38.534853\" style=\"fill: #4575b4; fill-opacity: 0.7; stroke: #4575b4; stroke-opacity: 0.7; stroke-width: 0.3\" />\n",
              "     <use xlink:href=\"#mfbb5275efb\" x=\"40.702701\" y=\"38.2718\" style=\"fill: #4575b4; fill-opacity: 0.7; stroke: #4575b4; stroke-opacity: 0.7; stroke-width: 0.3\" />\n",
              "     <use xlink:href=\"#mfbb5275efb\" x=\"37.642534\" y=\"38.306985\" style=\"fill: #4575b4; fill-opacity: 0.7; stroke: #4575b4; stroke-opacity: 0.7; stroke-width: 0.3\" />\n",
              "     <use xlink:href=\"#mfbb5275efb\" x=\"35.960215\" y=\"37.139166\" style=\"fill: #4575b4; fill-opacity: 0.7; stroke: #4575b4; stroke-opacity: 0.7; stroke-width: 0.3\" />\n",
              "     <use xlink:href=\"#mfbb5275efb\" x=\"33.54736\" y=\"36.912974\" style=\"fill: #4575b4; fill-opacity: 0.7; stroke: #4575b4; stroke-opacity: 0.7; stroke-width: 0.3\" />\n",
              "     <use xlink:href=\"#mfbb5275efb\" x=\"35.143647\" y=\"37.090577\" style=\"fill: #4575b4; fill-opacity: 0.7; stroke: #4575b4; stroke-opacity: 0.7; stroke-width: 0.3\" />\n",
              "     <use xlink:href=\"#mfbb5275efb\" x=\"33.126777\" y=\"38.32374\" style=\"fill: #4575b4; fill-opacity: 0.7; stroke: #4575b4; stroke-opacity: 0.7; stroke-width: 0.3\" />\n",
              "     <use xlink:href=\"#mfbb5275efb\" x=\"31.627221\" y=\"37.839523\" style=\"fill: #4575b4; fill-opacity: 0.7; stroke: #4575b4; stroke-opacity: 0.7; stroke-width: 0.3\" />\n",
              "     <use xlink:href=\"#mfbb5275efb\" x=\"35.75317\" y=\"37.336874\" style=\"fill: #4575b4; fill-opacity: 0.7; stroke: #4575b4; stroke-opacity: 0.7; stroke-width: 0.3\" />\n",
              "     <use xlink:href=\"#mfbb5275efb\" x=\"32.773506\" y=\"37.703808\" style=\"fill: #4575b4; fill-opacity: 0.7; stroke: #4575b4; stroke-opacity: 0.7; stroke-width: 0.3\" />\n",
              "     <use xlink:href=\"#mfbb5275efb\" x=\"38.655805\" y=\"37.653543\" style=\"fill: #4575b4; fill-opacity: 0.7; stroke: #4575b4; stroke-opacity: 0.7; stroke-width: 0.3\" />\n",
              "     <use xlink:href=\"#mfbb5275efb\" x=\"29.897661\" y=\"37.874708\" style=\"fill: #4575b4; fill-opacity: 0.7; stroke: #4575b4; stroke-opacity: 0.7; stroke-width: 0.3\" />\n",
              "     <use xlink:href=\"#mfbb5275efb\" x=\"39.420864\" y=\"39.40946\" style=\"fill: #4575b4; fill-opacity: 0.7; stroke: #4575b4; stroke-opacity: 0.7; stroke-width: 0.3\" />\n",
              "     <use xlink:href=\"#mfbb5275efb\" x=\"30.79802\" y=\"37.586523\" style=\"fill: #4575b4; fill-opacity: 0.7; stroke: #4575b4; stroke-opacity: 0.7; stroke-width: 0.3\" />\n",
              "     <use xlink:href=\"#mfbb5275efb\" x=\"29.312621\" y=\"38.2718\" style=\"fill: #4575b4; fill-opacity: 0.7; stroke: #4575b4; stroke-opacity: 0.7; stroke-width: 0.3\" />\n",
              "     <use xlink:href=\"#mfbb5275efb\" x=\"36.945067\" y=\"37.485993\" style=\"fill: #4575b4; fill-opacity: 0.7; stroke: #4575b4; stroke-opacity: 0.7; stroke-width: 0.3\" />\n",
              "     <use xlink:href=\"#mfbb5275efb\" x=\"27.908708\" y=\"37.418974\" style=\"fill: #4575b4; fill-opacity: 0.7; stroke: #4575b4; stroke-opacity: 0.7; stroke-width: 0.3\" />\n",
              "     <use xlink:href=\"#mfbb5275efb\" x=\"33.801891\" y=\"38.821362\" style=\"fill: #4575b4; fill-opacity: 0.7; stroke: #4575b4; stroke-opacity: 0.7; stroke-width: 0.3\" />\n",
              "     <use xlink:href=\"#mfbb5275efb\" x=\"36.967969\" y=\"38.149489\" style=\"fill: #4575b4; fill-opacity: 0.7; stroke: #4575b4; stroke-opacity: 0.7; stroke-width: 0.3\" />\n",
              "     <use xlink:href=\"#mfbb5275efb\" x=\"40.876256\" y=\"37.806013\" style=\"fill: #4575b4; fill-opacity: 0.7; stroke: #4575b4; stroke-opacity: 0.7; stroke-width: 0.3\" />\n",
              "     <use xlink:href=\"#mfbb5275efb\" x=\"32.856811\" y=\"38.767746\" style=\"fill: #4575b4; fill-opacity: 0.7; stroke: #4575b4; stroke-opacity: 0.7; stroke-width: 0.3\" />\n",
              "     <use xlink:href=\"#mfbb5275efb\" x=\"33.27963\" y=\"36.928054\" style=\"fill: #4575b4; fill-opacity: 0.7; stroke: #4575b4; stroke-opacity: 0.7; stroke-width: 0.3\" />\n",
              "     <use xlink:href=\"#mfbb5275efb\" x=\"34.362941\" y=\"37.28661\" style=\"fill: #4575b4; fill-opacity: 0.7; stroke: #4575b4; stroke-opacity: 0.7; stroke-width: 0.3\" />\n",
              "     <use xlink:href=\"#mfbb5275efb\" x=\"30.88717\" y=\"38.429296\" style=\"fill: #4575b4; fill-opacity: 0.7; stroke: #4575b4; stroke-opacity: 0.7; stroke-width: 0.3\" />\n",
              "     <use xlink:href=\"#mfbb5275efb\" x=\"37.963424\" y=\"37.485993\" style=\"fill: #4575b4; fill-opacity: 0.7; stroke: #4575b4; stroke-opacity: 0.7; stroke-width: 0.3\" />\n",
              "     <use xlink:href=\"#mfbb5275efb\" x=\"41.723041\" y=\"36.467293\" style=\"fill: #4575b4; fill-opacity: 0.7; stroke: #4575b4; stroke-opacity: 0.7; stroke-width: 0.3\" />\n",
              "     <use xlink:href=\"#mfbb5275efb\" x=\"33.54269\" y=\"34.982805\" style=\"fill: #4575b4; fill-opacity: 0.7; stroke: #4575b4; stroke-opacity: 0.7; stroke-width: 0.3\" />\n",
              "     <use xlink:href=\"#mfbb5275efb\" x=\"39.821361\" y=\"39.3726\" style=\"fill: #4575b4; fill-opacity: 0.7; stroke: #4575b4; stroke-opacity: 0.7; stroke-width: 0.3\" />\n",
              "     <use xlink:href=\"#mfbb5275efb\" x=\"36.898202\" y=\"37.485993\" style=\"fill: #4575b4; fill-opacity: 0.7; stroke: #4575b4; stroke-opacity: 0.7; stroke-width: 0.3\" />\n",
              "     <use xlink:href=\"#mfbb5275efb\" x=\"33.942432\" y=\"38.358926\" style=\"fill: #4575b4; fill-opacity: 0.7; stroke: #4575b4; stroke-opacity: 0.7; stroke-width: 0.3\" />\n",
              "     <use xlink:href=\"#mfbb5275efb\" x=\"28.317362\" y=\"37.469238\" style=\"fill: #4575b4; fill-opacity: 0.7; stroke: #4575b4; stroke-opacity: 0.7; stroke-width: 0.3\" />\n",
              "     <use xlink:href=\"#mfbb5275efb\" x=\"32.188024\" y=\"37.058742\" style=\"fill: #4575b4; fill-opacity: 0.7; stroke: #4575b4; stroke-opacity: 0.7; stroke-width: 0.3\" />\n",
              "     <use xlink:href=\"#mfbb5275efb\" x=\"33.858418\" y=\"37.720563\" style=\"fill: #4575b4; fill-opacity: 0.7; stroke: #4575b4; stroke-opacity: 0.7; stroke-width: 0.3\" />\n",
              "     <use xlink:href=\"#mfbb5275efb\" x=\"33.382008\" y=\"37.772503\" style=\"fill: #4575b4; fill-opacity: 0.7; stroke: #4575b4; stroke-opacity: 0.7; stroke-width: 0.3\" />\n",
              "     <use xlink:href=\"#mfbb5275efb\" x=\"34.508485\" y=\"38.358926\" style=\"fill: #4575b4; fill-opacity: 0.7; stroke: #4575b4; stroke-opacity: 0.7; stroke-width: 0.3\" />\n",
              "     <use xlink:href=\"#mfbb5275efb\" x=\"33.444958\" y=\"37.303365\" style=\"fill: #4575b4; fill-opacity: 0.7; stroke: #4575b4; stroke-opacity: 0.7; stroke-width: 0.3\" />\n",
              "     <use xlink:href=\"#mfbb5275efb\" x=\"32.826127\" y=\"41.121815\" style=\"fill: #4575b4; fill-opacity: 0.7; stroke: #4575b4; stroke-opacity: 0.7; stroke-width: 0.3\" />\n",
              "     <use xlink:href=\"#mfbb5275efb\" x=\"36.703197\" y=\"36.737048\" style=\"fill: #4575b4; fill-opacity: 0.7; stroke: #4575b4; stroke-opacity: 0.7; stroke-width: 0.3\" />\n",
              "     <use xlink:href=\"#mfbb5275efb\" x=\"37.434492\" y=\"36.656624\" style=\"fill: #4575b4; fill-opacity: 0.7; stroke: #4575b4; stroke-opacity: 0.7; stroke-width: 0.3\" />\n",
              "     <use xlink:href=\"#mfbb5275efb\" x=\"30.856184\" y=\"36.752127\" style=\"fill: #4575b4; fill-opacity: 0.7; stroke: #4575b4; stroke-opacity: 0.7; stroke-width: 0.3\" />\n",
              "     <use xlink:href=\"#mfbb5275efb\" x=\"35.178509\" y=\"37.960158\" style=\"fill: #4575b4; fill-opacity: 0.7; stroke: #4575b4; stroke-opacity: 0.7; stroke-width: 0.3\" />\n",
              "     <use xlink:href=\"#mfbb5275efb\" x=\"32.350379\" y=\"37.874708\" style=\"fill: #4575b4; fill-opacity: 0.7; stroke: #4575b4; stroke-opacity: 0.7; stroke-width: 0.3\" />\n",
              "     <use xlink:href=\"#mfbb5275efb\" x=\"35.500805\" y=\"37.254775\" style=\"fill: #4575b4; fill-opacity: 0.7; stroke: #4575b4; stroke-opacity: 0.7; stroke-width: 0.3\" />\n",
              "     <use xlink:href=\"#mfbb5275efb\" x=\"36.385376\" y=\"38.045608\" style=\"fill: #4575b4; fill-opacity: 0.7; stroke: #4575b4; stroke-opacity: 0.7; stroke-width: 0.3\" />\n",
              "     <use xlink:href=\"#mfbb5275efb\" x=\"31.81207\" y=\"37.874708\" style=\"fill: #4575b4; fill-opacity: 0.7; stroke: #4575b4; stroke-opacity: 0.7; stroke-width: 0.3\" />\n",
              "     <use xlink:href=\"#mfbb5275efb\" x=\"32.842486\" y=\"36.592955\" style=\"fill: #4575b4; fill-opacity: 0.7; stroke: #4575b4; stroke-opacity: 0.7; stroke-width: 0.3\" />\n",
              "     <use xlink:href=\"#mfbb5275efb\" x=\"37.481609\" y=\"35.522315\" style=\"fill: #4575b4; fill-opacity: 0.7; stroke: #4575b4; stroke-opacity: 0.7; stroke-width: 0.3\" />\n",
              "     <use xlink:href=\"#mfbb5275efb\" x=\"27.158658\" y=\"36.800716\" style=\"fill: #4575b4; fill-opacity: 0.7; stroke: #4575b4; stroke-opacity: 0.7; stroke-width: 0.3\" />\n",
              "     <use xlink:href=\"#mfbb5275efb\" x=\"34.517266\" y=\"37.856278\" style=\"fill: #4575b4; fill-opacity: 0.7; stroke: #4575b4; stroke-opacity: 0.7; stroke-width: 0.3\" />\n",
              "     <use xlink:href=\"#mfbb5275efb\" x=\"34.483214\" y=\"37.090577\" style=\"fill: #4575b4; fill-opacity: 0.7; stroke: #4575b4; stroke-opacity: 0.7; stroke-width: 0.3\" />\n",
              "     <use xlink:href=\"#mfbb5275efb\" x=\"30.886767\" y=\"37.435729\" style=\"fill: #4575b4; fill-opacity: 0.7; stroke: #4575b4; stroke-opacity: 0.7; stroke-width: 0.3\" />\n",
              "     <use xlink:href=\"#mfbb5275efb\" x=\"32.22978\" y=\"37.303365\" style=\"fill: #4575b4; fill-opacity: 0.7; stroke: #4575b4; stroke-opacity: 0.7; stroke-width: 0.3\" />\n",
              "     <use xlink:href=\"#mfbb5275efb\" x=\"35.765051\" y=\"37.908218\" style=\"fill: #4575b4; fill-opacity: 0.7; stroke: #4575b4; stroke-opacity: 0.7; stroke-width: 0.3\" />\n",
              "     <use xlink:href=\"#mfbb5275efb\" x=\"29.654873\" y=\"37.124087\" style=\"fill: #4575b4; fill-opacity: 0.7; stroke: #4575b4; stroke-opacity: 0.7; stroke-width: 0.3\" />\n",
              "     <use xlink:href=\"#mfbb5275efb\" x=\"29.441627\" y=\"38.166244\" style=\"fill: #4575b4; fill-opacity: 0.7; stroke: #4575b4; stroke-opacity: 0.7; stroke-width: 0.3\" />\n",
              "     <use xlink:href=\"#mfbb5275efb\" x=\"31.851291\" y=\"37.738993\" style=\"fill: #4575b4; fill-opacity: 0.7; stroke: #4575b4; stroke-opacity: 0.7; stroke-width: 0.3\" />\n",
              "     <use xlink:href=\"#mfbb5275efb\" x=\"35.384998\" y=\"36.157327\" style=\"fill: #4575b4; fill-opacity: 0.7; stroke: #4575b4; stroke-opacity: 0.7; stroke-width: 0.3\" />\n",
              "     <use xlink:href=\"#mfbb5275efb\" x=\"38.046779\" y=\"3.976113\" style=\"fill: #4575b4; fill-opacity: 0.7; stroke: #4575b4; stroke-opacity: 0.7; stroke-width: 0.3\" />\n",
              "     <use xlink:href=\"#mfbb5275efb\" x=\"32.455047\" y=\"35.537394\" style=\"fill: #4575b4; fill-opacity: 0.7; stroke: #4575b4; stroke-opacity: 0.7; stroke-width: 0.3\" />\n",
              "     <use xlink:href=\"#mfbb5275efb\" x=\"33.911709\" y=\"37.569768\" style=\"fill: #4575b4; fill-opacity: 0.7; stroke: #4575b4; stroke-opacity: 0.7; stroke-width: 0.3\" />\n",
              "     <use xlink:href=\"#mfbb5275efb\" x=\"34.488\" y=\"38.98556\" style=\"fill: #4575b4; fill-opacity: 0.7; stroke: #4575b4; stroke-opacity: 0.7; stroke-width: 0.3\" />\n",
              "     <use xlink:href=\"#mfbb5275efb\" x=\"35.873329\" y=\"37.924973\" style=\"fill: #4575b4; fill-opacity: 0.7; stroke: #4575b4; stroke-opacity: 0.7; stroke-width: 0.3\" />\n",
              "     <use xlink:href=\"#mfbb5275efb\" x=\"30.820601\" y=\"37.536258\" style=\"fill: #4575b4; fill-opacity: 0.7; stroke: #4575b4; stroke-opacity: 0.7; stroke-width: 0.3\" />\n",
              "     <use xlink:href=\"#mfbb5275efb\" x=\"34.673775\" y=\"36.815796\" style=\"fill: #4575b4; fill-opacity: 0.7; stroke: #4575b4; stroke-opacity: 0.7; stroke-width: 0.3\" />\n",
              "     <use xlink:href=\"#mfbb5275efb\" x=\"32.995827\" y=\"36.88114\" style=\"fill: #4575b4; fill-opacity: 0.7; stroke: #4575b4; stroke-opacity: 0.7; stroke-width: 0.3\" />\n",
              "     <use xlink:href=\"#mfbb5275efb\" x=\"40.101129\" y=\"35.835632\" style=\"fill: #4575b4; fill-opacity: 0.7; stroke: #4575b4; stroke-opacity: 0.7; stroke-width: 0.3\" />\n",
              "     <use xlink:href=\"#mfbb5275efb\" x=\"32.622753\" y=\"38.464482\" style=\"fill: #4575b4; fill-opacity: 0.7; stroke: #4575b4; stroke-opacity: 0.7; stroke-width: 0.3\" />\n",
              "     <use xlink:href=\"#mfbb5275efb\" x=\"29.249793\" y=\"36.577876\" style=\"fill: #4575b4; fill-opacity: 0.7; stroke: #4575b4; stroke-opacity: 0.7; stroke-width: 0.3\" />\n",
              "     <use xlink:href=\"#mfbb5275efb\" x=\"34.421399\" y=\"37.452484\" style=\"fill: #4575b4; fill-opacity: 0.7; stroke: #4575b4; stroke-opacity: 0.7; stroke-width: 0.3\" />\n",
              "     <use xlink:href=\"#mfbb5275efb\" x=\"32.648526\" y=\"37.603278\" style=\"fill: #4575b4; fill-opacity: 0.7; stroke: #4575b4; stroke-opacity: 0.7; stroke-width: 0.3\" />\n",
              "     <use xlink:href=\"#mfbb5275efb\" x=\"43.192252\" y=\"38.534853\" style=\"fill: #4575b4; fill-opacity: 0.7; stroke: #4575b4; stroke-opacity: 0.7; stroke-width: 0.3\" />\n",
              "     <use xlink:href=\"#mfbb5275efb\" x=\"32.256926\" y=\"36.961564\" style=\"fill: #4575b4; fill-opacity: 0.7; stroke: #4575b4; stroke-opacity: 0.7; stroke-width: 0.3\" />\n",
              "     <use xlink:href=\"#mfbb5275efb\" x=\"36.027606\" y=\"37.586523\" style=\"fill: #4575b4; fill-opacity: 0.7; stroke: #4575b4; stroke-opacity: 0.7; stroke-width: 0.3\" />\n",
              "     <use xlink:href=\"#mfbb5275efb\" x=\"41.696843\" y=\"36.720293\" style=\"fill: #4575b4; fill-opacity: 0.7; stroke: #4575b4; stroke-opacity: 0.7; stroke-width: 0.3\" />\n",
              "     <use xlink:href=\"#mfbb5275efb\" x=\"39.210603\" y=\"37.960158\" style=\"fill: #4575b4; fill-opacity: 0.7; stroke: #4575b4; stroke-opacity: 0.7; stroke-width: 0.3\" />\n",
              "     <use xlink:href=\"#mfbb5275efb\" x=\"29.928092\" y=\"39.260341\" style=\"fill: #4575b4; fill-opacity: 0.7; stroke: #4575b4; stroke-opacity: 0.7; stroke-width: 0.3\" />\n",
              "    </g>\n",
              "   </g>\n",
              "   <g id=\"matplotlib.axis_1\" />\n",
              "   <g id=\"matplotlib.axis_2\">\n",
              "    <g id=\"ytick_1\">\n",
              "     <g id=\"line2d_1\">\n",
              "      <defs>\n",
              "       <path id=\"m624bf193e4\" d=\"M 0 0  L -3.5 0  \" style=\"stroke: #000000; stroke-width: 0.3\" />\n",
              "      </defs>\n",
              "      <g>\n",
              "       <use xlink:href=\"#m624bf193e4\" x=\"13.622656\" y=\"37.569768\" style=\"stroke: #000000; stroke-width: 0.3\" />\n",
              "      </g>\n",
              "     </g>\n",
              "     <g id=\"text_1\">\n",
              "      \n",
              "      <g style=\"fill: #444443\" transform=\"translate(1.532656 40.609143) scale(0.08 -0.08)\">\n",
              "       <defs>\n",
              "        <path id=\"DejaVuSans-30\" d=\"M 2034 4250  Q 1547 4250 1301 3770  Q 1056 3291 1056 2328  Q 1056 1369 1301 889  Q 1547 409 2034 409  Q 2525 409 2770 889  Q 3016 1369 3016 2328  Q 3016 3291 2770 3770  Q 2525 4250 2034 4250  z M 2034 4750  Q 2819 4750 3233 4129  Q 3647 3509 3647 2328  Q 3647 1150 3233 529  Q 2819 -91 2034 -91  Q 1250 -91 836 529  Q 422 1150 422 2328  Q 422 3509 836 4129  Q 1250 4750 2034 4750  z \" transform=\"scale(0.015625)\" />\n",
              "       </defs>\n",
              "       <use xlink:href=\"#DejaVuSans-30\" />\n",
              "      </g>\n",
              "     </g>\n",
              "    </g>\n",
              "    <g id=\"ytick_2\">\n",
              "     <g id=\"line2d_2\">\n",
              "      <g>\n",
              "       <use xlink:href=\"#m624bf193e4\" x=\"13.622656\" y=\"4.05989\" style=\"stroke: #000000; stroke-width: 0.3\" />\n",
              "      </g>\n",
              "     </g>\n",
              "     <g id=\"text_2\">\n",
              "      \n",
              "      <g style=\"fill: #444443\" transform=\"translate(1.532656 7.099265) scale(0.08 -0.08)\">\n",
              "       <defs>\n",
              "        <path id=\"DejaVuSans-32\" d=\"M 1228 531  L 3431 531  L 3431 0  L 469 0  L 469 531  Q 828 903 1448 1529  Q 2069 2156 2228 2338  Q 2531 2678 2651 2914  Q 2772 3150 2772 3378  Q 2772 3750 2511 3984  Q 2250 4219 1831 4219  Q 1534 4219 1204 4116  Q 875 4013 500 3803  L 500 4441  Q 881 4594 1212 4672  Q 1544 4750 1819 4750  Q 2544 4750 2975 4387  Q 3406 4025 3406 3419  Q 3406 3131 3298 2873  Q 3191 2616 2906 2266  Q 2828 2175 2409 1742  Q 1991 1309 1228 531  z \" transform=\"scale(0.015625)\" />\n",
              "       </defs>\n",
              "       <use xlink:href=\"#DejaVuSans-32\" />\n",
              "      </g>\n",
              "     </g>\n",
              "    </g>\n",
              "   </g>\n",
              "   <g id=\"line2d_3\">\n",
              "    <path d=\"M 13.622656 37.38441  L 71.095312 37.38441  \" clip-path=\"url(#p0caeb2b7d1)\" style=\"fill: none; stroke-dasharray: 3.7,1.6; stroke-dashoffset: 0; stroke: #444443\" />\n",
              "   </g>\n",
              "   <g id=\"patch_3\">\n",
              "    <path d=\"M 13.622656 44.352  L 13.622656 0  \" style=\"fill: none; stroke: #444443; stroke-width: 0.3; stroke-linejoin: miter; stroke-linecap: square\" />\n",
              "   </g>\n",
              "   <g id=\"text_3\">\n",
              "    \n",
              "    <g style=\"fill: #444443\" transform=\"translate(0 53.700437) scale(0.1 -0.1)\">\n",
              "     <defs>\n",
              "      <path id=\"DejaVuSans-6c\" d=\"M 603 4863  L 1178 4863  L 1178 0  L 603 0  L 603 4863  z \" transform=\"scale(0.015625)\" />\n",
              "      <path id=\"DejaVuSans-6f\" d=\"M 1959 3097  Q 1497 3097 1228 2736  Q 959 2375 959 1747  Q 959 1119 1226 758  Q 1494 397 1959 397  Q 2419 397 2687 759  Q 2956 1122 2956 1747  Q 2956 2369 2687 2733  Q 2419 3097 1959 3097  z M 1959 3584  Q 2709 3584 3137 3096  Q 3566 2609 3566 1747  Q 3566 888 3137 398  Q 2709 -91 1959 -91  Q 1206 -91 779 398  Q 353 888 353 1747  Q 353 2609 779 3096  Q 1206 3584 1959 3584  z \" transform=\"scale(0.015625)\" />\n",
              "      <path id=\"DejaVuSans-67\" d=\"M 2906 1791  Q 2906 2416 2648 2759  Q 2391 3103 1925 3103  Q 1463 3103 1205 2759  Q 947 2416 947 1791  Q 947 1169 1205 825  Q 1463 481 1925 481  Q 2391 481 2648 825  Q 2906 1169 2906 1791  z M 3481 434  Q 3481 -459 3084 -895  Q 2688 -1331 1869 -1331  Q 1566 -1331 1297 -1286  Q 1028 -1241 775 -1147  L 775 -588  Q 1028 -725 1275 -790  Q 1522 -856 1778 -856  Q 2344 -856 2625 -561  Q 2906 -266 2906 331  L 2906 616  Q 2728 306 2450 153  Q 2172 0 1784 0  Q 1141 0 747 490  Q 353 981 353 1791  Q 353 2603 747 3093  Q 1141 3584 1784 3584  Q 2172 3584 2450 3431  Q 2728 3278 2906 2969  L 2906 3500  L 3481 3500  L 3481 434  z \" transform=\"scale(0.015625)\" />\n",
              "      <path id=\"DejaVuSans-65\" d=\"M 3597 1894  L 3597 1613  L 953 1613  Q 991 1019 1311 708  Q 1631 397 2203 397  Q 2534 397 2845 478  Q 3156 559 3463 722  L 3463 178  Q 3153 47 2828 -22  Q 2503 -91 2169 -91  Q 1331 -91 842 396  Q 353 884 353 1716  Q 353 2575 817 3079  Q 1281 3584 2069 3584  Q 2775 3584 3186 3129  Q 3597 2675 3597 1894  z M 3022 2063  Q 3016 2534 2758 2815  Q 2500 3097 2075 3097  Q 1594 3097 1305 2825  Q 1016 2553 972 2059  L 3022 2063  z \" transform=\"scale(0.015625)\" />\n",
              "      <path id=\"DejaVuSans-72\" d=\"M 2631 2963  Q 2534 3019 2420 3045  Q 2306 3072 2169 3072  Q 1681 3072 1420 2755  Q 1159 2438 1159 1844  L 1159 0  L 581 0  L 581 3500  L 1159 3500  L 1159 2956  Q 1341 3275 1631 3429  Q 1922 3584 2338 3584  Q 2397 3584 2469 3576  Q 2541 3569 2628 3553  L 2631 2963  z \" transform=\"scale(0.015625)\" />\n",
              "      <path id=\"DejaVuSans-3d\" d=\"M 678 2906  L 4684 2906  L 4684 2381  L 678 2381  L 678 2906  z M 678 1631  L 4684 1631  L 4684 1100  L 678 1100  L 678 1631  z \" transform=\"scale(0.015625)\" />\n",
              "      <path id=\"DejaVuSans-2e\" d=\"M 684 794  L 1344 794  L 1344 0  L 684 0  L 684 794  z \" transform=\"scale(0.015625)\" />\n",
              "      <path id=\"DejaVuSans-31\" d=\"M 794 531  L 1825 531  L 1825 4091  L 703 3866  L 703 4441  L 1819 4666  L 2450 4666  L 2450 531  L 3481 531  L 3481 0  L 794 0  L 794 531  z \" transform=\"scale(0.015625)\" />\n",
              "     </defs>\n",
              "     <use xlink:href=\"#DejaVuSans-6c\" />\n",
              "     <use xlink:href=\"#DejaVuSans-6f\" x=\"27.783203\" />\n",
              "     <use xlink:href=\"#DejaVuSans-67\" x=\"88.964844\" />\n",
              "     <use xlink:href=\"#DejaVuSans-65\" x=\"152.441406\" />\n",
              "     <use xlink:href=\"#DejaVuSans-72\" x=\"213.964844\" />\n",
              "     <use xlink:href=\"#DejaVuSans-72\" x=\"253.328125\" />\n",
              "     <use xlink:href=\"#DejaVuSans-6f\" x=\"292.191406\" />\n",
              "     <use xlink:href=\"#DejaVuSans-72\" x=\"353.373047\" />\n",
              "     <use xlink:href=\"#DejaVuSans-3d\" x=\"394.486328\" />\n",
              "     <use xlink:href=\"#DejaVuSans-30\" x=\"478.275391\" />\n",
              "     <use xlink:href=\"#DejaVuSans-2e\" x=\"541.898438\" />\n",
              "     <use xlink:href=\"#DejaVuSans-30\" x=\"573.685547\" />\n",
              "     <use xlink:href=\"#DejaVuSans-31\" x=\"637.308594\" />\n",
              "    </g>\n",
              "    \n",
              "    <g style=\"fill: #444443\" transform=\"translate(18.145313 64.89825) scale(0.1 -0.1)\">\n",
              "     <defs>\n",
              "      <path id=\"DejaVuSans-6e\" d=\"M 3513 2113  L 3513 0  L 2938 0  L 2938 2094  Q 2938 2591 2744 2837  Q 2550 3084 2163 3084  Q 1697 3084 1428 2787  Q 1159 2491 1159 1978  L 1159 0  L 581 0  L 581 3500  L 1159 3500  L 1159 2956  Q 1366 3272 1645 3428  Q 1925 3584 2291 3584  Q 2894 3584 3203 3211  Q 3513 2838 3513 2113  z \" transform=\"scale(0.015625)\" />\n",
              "      <path id=\"DejaVuSans-35\" d=\"M 691 4666  L 3169 4666  L 3169 4134  L 1269 4134  L 1269 2991  Q 1406 3038 1543 3061  Q 1681 3084 1819 3084  Q 2600 3084 3056 2656  Q 3513 2228 3513 1497  Q 3513 744 3044 326  Q 2575 -91 1722 -91  Q 1428 -91 1123 -41  Q 819 9 494 109  L 494 744  Q 775 591 1075 516  Q 1375 441 1709 441  Q 2250 441 2565 725  Q 2881 1009 2881 1497  Q 2881 1984 2565 2268  Q 2250 2553 1709 2553  Q 1456 2553 1204 2497  Q 953 2441 691 2322  L 691 4666  z \" transform=\"scale(0.015625)\" />\n",
              "     </defs>\n",
              "     <use xlink:href=\"#DejaVuSans-6e\" />\n",
              "     <use xlink:href=\"#DejaVuSans-3d\" x=\"63.378906\" />\n",
              "     <use xlink:href=\"#DejaVuSans-35\" x=\"147.167969\" />\n",
              "     <use xlink:href=\"#DejaVuSans-30\" x=\"210.791016\" />\n",
              "     <use xlink:href=\"#DejaVuSans-30\" x=\"274.414062\" />\n",
              "    </g>\n",
              "   </g>\n",
              "  </g>\n",
              " </g>\n",
              " <defs>\n",
              "  <clipPath id=\"p0caeb2b7d1\">\n",
              "   <rect x=\"13.622656\" y=\"0\" width=\"41.85\" height=\"44.352\" />\n",
              "  </clipPath>\n",
              " </defs>\n",
              "</svg></g>\n",
              "\n",
              "\n",
              "<g id=\"node3\" class=\"node\">\n",
              "<title>node0</title>\n",
              "<text text-anchor=\"start\" x=\"0\" y=\"-48.9\" font-family=\"DejaVu Sans\" font-size=\"12.00\" fill=\"#444443\">finishedsquarefeet12@337.00</text>\n",
              "</g>\n",
              "\n",
              "<g id=\"edge7\" class=\"edge\">\n",
              "<title>node0-&gt;node1</title>\n",
              "<path fill=\"none\" stroke=\"#444443\" stroke-width=\"0.3\" d=\"M162.19,-58.53C191.96,-61.78 227.97,-65.72 258.28,-69.03\" />\n",
              "<polygon fill=\"#444443\" stroke=\"#444443\" stroke-width=\"0.3\" points=\"258.19,-70.43 262.32,-69.47 258.5,-67.65 258.19,-70.43\" />\n",
              "<text text-anchor=\"start\" x=\"211\" y=\"-69.8\" font-family=\"DejaVu Sans\" font-size=\"14.00\" fill=\"#444443\"> &#160;&#8804;</text>\n",
              "</g>\n",
              "\n",
              "<g id=\"edge8\" class=\"edge\">\n",
              "<title>node0-&gt;leaf2</title>\n",
              "<path fill=\"none\" stroke=\"#444443\" stroke-width=\"0.3\" d=\"M164.81,-45.47C205.08,-41.25 255.91,-35.93 288.68,-32.49\" />\n",
              "<polygon fill=\"#444443\" stroke=\"#444443\" stroke-width=\"0.3\" points=\"289.15,-33.85 292.98,-32.04 288.86,-31.07 289.15,-33.85\" />\n",
              "<text text-anchor=\"start\" x=\"211\" y=\"-44.8\" font-family=\"DejaVu Sans\" font-size=\"14.00\" fill=\"#444443\"> &#160;&gt;</text>\n",
              "</g>\n",
              "\n",
              "</g>\n",
              "</svg>"
            ],
            "text/plain": [
              "<dtreeviz.utils.DTreeVizRender at 0x7c625ecd8ca0>"
            ]
          },
          "execution_count": 46,
          "metadata": {},
          "output_type": "execute_result"
        }
      ],
      "source": [
        "samp_idx = np.random.permutation(len(y))[:500]\n",
        "\n",
        "viz_model=dtreeviz.model(m,\n",
        "                         X_train=xs.iloc[samp_idx],\n",
        "                         y_train=y.iloc[samp_idx],\n",
        "                         feature_names=xs.columns,\n",
        "                         target_name=dep_var)\n",
        "\n",
        "viz_model.view(fontname='DejaVu Sans', scale=1.6, label_fontsize=10,\n",
        "               orientation='LR', fancy=False)"
      ]
    },
    {
      "cell_type": "markdown",
      "metadata": {
        "id": "UeVpCeyZKHgY"
      },
      "source": [
        "In this case, since such a large portion of the data falls into the split of `finishedsquarefeet12 > 337`, the visualization is not helpful as there are 0 or just a few values left for the other splits even at larger sample sizes (I tried 500, 1000 and 5000)."
      ]
    },
    {
      "cell_type": "markdown",
      "metadata": {
        "id": "J7fK0WHaKf8Q"
      },
      "source": [
        "As done in the text, I'll now build a bigger tree without passing it any stopping criteria, and create a loss function (mean absolute error) to match the competition:"
      ]
    },
    {
      "cell_type": "code",
      "execution_count": 47,
      "metadata": {
        "id": "Ezj4US-6Km9L"
      },
      "outputs": [],
      "source": [
        "m = DecisionTreeRegressor()\n",
        "m.fit(xs,y);"
      ]
    },
    {
      "cell_type": "code",
      "execution_count": 48,
      "metadata": {
        "id": "OHE9beNyKpPR"
      },
      "outputs": [],
      "source": [
        "def mae(pred, y): return (pred - y).abs().mean()\n",
        "def m_mae(m, xs, y): return mae(m.predict(xs), y)"
      ]
    },
    {
      "cell_type": "markdown",
      "metadata": {
        "id": "UuLWsLlbLc7B"
      },
      "source": [
        "Here's the mean absolute error on the training set:"
      ]
    },
    {
      "cell_type": "code",
      "execution_count": 49,
      "metadata": {
        "colab": {
          "base_uri": "https://localhost:8080/"
        },
        "id": "KbpJstYqLWfR",
        "outputId": "b255b92b-d282-456d-c397-823236293345"
      },
      "outputs": [
        {
          "data": {
            "text/plain": [
              "0.0"
            ]
          },
          "execution_count": 49,
          "metadata": {},
          "output_type": "execute_result"
        }
      ],
      "source": [
        "m_mae(m, xs, y)"
      ]
    },
    {
      "cell_type": "markdown",
      "metadata": {
        "id": "S6mWuhjhLf6u"
      },
      "source": [
        "Here's the mean absolute error on the validation set:"
      ]
    },
    {
      "cell_type": "code",
      "execution_count": 51,
      "metadata": {
        "colab": {
          "base_uri": "https://localhost:8080/"
        },
        "id": "xvFSa6zsLiKJ",
        "outputId": "d6235891-0e74-41ae-8416-5e5591dd187a"
      },
      "outputs": [
        {
          "data": {
            "text/plain": [
              "0.15422440832733592"
            ]
          },
          "execution_count": 51,
          "metadata": {},
          "output_type": "execute_result"
        }
      ],
      "source": [
        "m_mae(m, valid_xs, valid_y)"
      ]
    },
    {
      "cell_type": "markdown",
      "metadata": {
        "id": "RDBkj5JELlLx"
      },
      "source": [
        "The validation error is much larger than the training set error because the model is overfitting! As was the case in the textbook, the reason is that we have almost as many leaf nodes as we do training sample. It's basically memorizing the training set."
      ]
    },
    {
      "cell_type": "code",
      "execution_count": 52,
      "metadata": {
        "colab": {
          "base_uri": "https://localhost:8080/"
        },
        "id": "6gkRiSvdLvzo",
        "outputId": "c8b77efc-63a0-473a-fac1-fb7635ba8dbf"
      },
      "outputs": [
        {
          "data": {
            "text/plain": [
              "(83323, 85670)"
            ]
          },
          "execution_count": 52,
          "metadata": {},
          "output_type": "execute_result"
        }
      ],
      "source": [
        "m.get_n_leaves(), len(xs)"
      ]
    },
    {
      "cell_type": "markdown",
      "metadata": {
        "id": "I2__DSCgL6D2"
      },
      "source": [
        "I'll use the same stopping criteria as the text (every leaf node should contain at least 25 rows) and create a new model:"
      ]
    },
    {
      "cell_type": "code",
      "execution_count": 53,
      "metadata": {
        "colab": {
          "base_uri": "https://localhost:8080/"
        },
        "id": "wozKHSg9MA2X",
        "outputId": "8961b9d7-5c64-4510-a69c-a74f415a3dc6"
      },
      "outputs": [
        {
          "data": {
            "text/plain": [
              "(0.07031707298053898, 0.08723056533912212)"
            ]
          },
          "execution_count": 53,
          "metadata": {},
          "output_type": "execute_result"
        }
      ],
      "source": [
        "m = DecisionTreeRegressor(min_samples_leaf=25)\n",
        "m.fit(to.train.xs, to.train.y)\n",
        "m_mae(m, xs, y), m_mae(m, valid_xs, valid_y)"
      ]
    },
    {
      "cell_type": "markdown",
      "metadata": {
        "id": "YDzudvHQMHjA"
      },
      "source": [
        "The validation and training set errors are now similar."
      ]
    },
    {
      "cell_type": "code",
      "execution_count": 54,
      "metadata": {
        "colab": {
          "base_uri": "https://localhost:8080/"
        },
        "id": "PrlX3R_0MLxw",
        "outputId": "5b37ec3d-dbc7-4927-cbae-c6d4601ee243"
      },
      "outputs": [
        {
          "data": {
            "text/plain": [
              "(2688, 0.03137621104237189)"
            ]
          },
          "execution_count": 54,
          "metadata": {},
          "output_type": "execute_result"
        }
      ],
      "source": [
        "m.get_n_leaves(), m.get_n_leaves()/len(xs)"
      ]
    },
    {
      "cell_type": "markdown",
      "metadata": {
        "id": "iziXv4hZMRVm"
      },
      "source": [
        "We now have about 3% as many leaves as we do training samples."
      ]
    },
    {
      "cell_type": "markdown",
      "metadata": {
        "id": "J2JzqjYlTo_G"
      },
      "source": [
        "## Creating a Random Forest"
      ]
    },
    {
      "cell_type": "markdown",
      "metadata": {
        "id": "A_v7tZcPNk8u"
      },
      "source": [
        "I'll use mostly the same random forest function as is used in the text, except for `max_samples` I'll use `40_000` which is about half of my training set (they used `200_000` which was about half of their training set)."
      ]
    },
    {
      "cell_type": "code",
      "execution_count": 55,
      "metadata": {
        "id": "K-KSIxLPTuYv"
      },
      "outputs": [],
      "source": [
        "def rf(xs, y, n_estimators=40, max_samples=40_000, max_features=0.5, min_samples_leaf=5, **kwargs):\n",
        "  return RandomForestRegressor(n_jobs=-1, n_estimators=n_estimators, max_samples=max_samples,\n",
        "                               max_features=max_features, min_samples_leaf=min_samples_leaf,\n",
        "                               oob_score=True).fit(xs,y)"
      ]
    },
    {
      "cell_type": "code",
      "execution_count": 56,
      "metadata": {
        "id": "8_vb7oKdOE2e"
      },
      "outputs": [],
      "source": [
        "m = rf(xs, y);"
      ]
    },
    {
      "cell_type": "code",
      "execution_count": 57,
      "metadata": {
        "colab": {
          "base_uri": "https://localhost:8080/"
        },
        "id": "eJnTpCc5OOdv",
        "outputId": "0a12dd28-6cb7-4fc3-a206-11d9a23e1647"
      },
      "outputs": [
        {
          "data": {
            "text/plain": [
              "(0.05653021493284958, 0.07388558834504737)"
            ]
          },
          "execution_count": 57,
          "metadata": {},
          "output_type": "execute_result"
        }
      ],
      "source": [
        "m_mae(m, xs, y), m_mae(m, valid_xs, valid_y)"
      ]
    },
    {
      "cell_type": "markdown",
      "metadata": {
        "id": "D_tjsF9WOR2a"
      },
      "source": [
        "Both the training and validation set errors are lower than a model with a single decision tree.\n",
        "\n",
        "As done in the textbook, I'll plot how the mean absolute error changes as the number of trees used for predictions increases."
      ]
    },
    {
      "cell_type": "code",
      "execution_count": null,
      "metadata": {
        "id": "nIDrheV3Omlx"
      },
      "outputs": [],
      "source": [
        "preds = np.stack([t.predict(valid_xs) for t in m.estimators_]);"
      ]
    },
    {
      "cell_type": "code",
      "execution_count": 59,
      "metadata": {
        "colab": {
          "base_uri": "https://localhost:8080/"
        },
        "id": "bwGzWRlEPBF-",
        "outputId": "b2499d7e-eed3-482d-cc6e-a1f484c51864"
      },
      "outputs": [
        {
          "data": {
            "text/plain": [
              "(40, 4605)"
            ]
          },
          "execution_count": 59,
          "metadata": {},
          "output_type": "execute_result"
        }
      ],
      "source": [
        "preds.shape"
      ]
    },
    {
      "cell_type": "markdown",
      "metadata": {
        "id": "TfhuOpIrO3jt"
      },
      "source": [
        "The model's validation error is the same as the error between the mean prediction across all trees and the validation set.\n",
        "\n"
      ]
    },
    {
      "cell_type": "code",
      "execution_count": 60,
      "metadata": {
        "colab": {
          "base_uri": "https://localhost:8080/"
        },
        "id": "Wc3qrXPJOxx4",
        "outputId": "6800e6bc-7427-41d2-c357-490ae703759d"
      },
      "outputs": [
        {
          "data": {
            "text/plain": [
              "0.07388558834504737"
            ]
          },
          "execution_count": 60,
          "metadata": {},
          "output_type": "execute_result"
        }
      ],
      "source": [
        "mae(preds.mean(0), valid_y)"
      ]
    },
    {
      "cell_type": "code",
      "execution_count": 61,
      "metadata": {
        "colab": {
          "base_uri": "https://localhost:8080/"
        },
        "id": "qyb4Gyg7Pdyw",
        "outputId": "2a608e6c-5d9d-4419-e569-8bc6fe5b46ed"
      },
      "outputs": [
        {
          "data": {
            "text/plain": [
              "(4605,)"
            ]
          },
          "execution_count": 61,
          "metadata": {},
          "output_type": "execute_result"
        }
      ],
      "source": [
        "preds.mean(0).shape"
      ]
    },
    {
      "cell_type": "code",
      "execution_count": 62,
      "metadata": {
        "colab": {
          "base_uri": "https://localhost:8080/",
          "height": 430
        },
        "id": "eqQnNSoiPMyp",
        "outputId": "4ba22ad9-3f5d-42b6-8778-0c69094717ea"
      },
      "outputs": [
        {
          "data": {
            "image/png": "[encoded data removed]",
            "text/plain": [
              "<Figure size 640x480 with 1 Axes>"
            ]
          },
          "metadata": {},
          "output_type": "display_data"
        }
      ],
      "source": [
        "plt.plot([mae(preds[:i+1].mean(0), valid_y) for i in range(40)]);"
      ]
    },
    {
      "cell_type": "markdown",
      "metadata": {
        "id": "NLgcL9pOPj-l"
      },
      "source": [
        "As the number of trees used for prediction increases, the mean absolute error on the validation set decreases. This decrease doesn't fully flatten out like it did in the textbook example, so I could probably use more trees to get a better result."
      ]
    },
    {
      "cell_type": "markdown",
      "metadata": {
        "id": "raGkfisxP9OM"
      },
      "source": [
        "Next I'll calculate the out-of-bag error and compare it with the validation error. I use the training targets `y` since out-of-bag predictions are calculated using different subsets of the training data."
      ]
    },
    {
      "cell_type": "code",
      "execution_count": 63,
      "metadata": {
        "colab": {
          "base_uri": "https://localhost:8080/"
        },
        "id": "ZNEjtwwMQBCG",
        "outputId": "5f2f9109-3ade-4d85-c5bb-302f81551ced"
      },
      "outputs": [
        {
          "data": {
            "text/plain": [
              "85670"
            ]
          },
          "execution_count": 63,
          "metadata": {},
          "output_type": "execute_result"
        }
      ],
      "source": [
        "len(m.oob_prediction_)"
      ]
    },
    {
      "cell_type": "code",
      "execution_count": 64,
      "metadata": {
        "colab": {
          "base_uri": "https://localhost:8080/"
        },
        "id": "qU_rfi5jQEUD",
        "outputId": "96864aed-8baf-4e6f-f0c3-9895fb376410"
      },
      "outputs": [
        {
          "data": {
            "text/plain": [
              "0.07103692229370927"
            ]
          },
          "execution_count": 64,
          "metadata": {},
          "output_type": "execute_result"
        }
      ],
      "source": [
        "mae(m.oob_prediction_, y)"
      ]
    },
    {
      "cell_type": "markdown",
      "metadata": {
        "id": "xZf7bi7iQXP1"
      },
      "source": [
        "As is the case in the text, the OOB error is a bit smaller than the validation error."
      ]
    },
    {
      "cell_type": "markdown",
      "metadata": {
        "id": "N0KnG2FETxVv"
      },
      "source": [
        "## Model Interpretation"
      ]
    },
    {
      "cell_type": "markdown",
      "metadata": {
        "id": "6O9sWvEKT1WB"
      },
      "source": [
        "### Tree Variance for Prediction Confidence"
      ]
    },
    {
      "cell_type": "markdown",
      "metadata": {
        "id": "lbLBQ4aaQnYO"
      },
      "source": [
        "I'll start by observing the standard deviation of the predictions across the 40 trees for each row in the validation set."
      ]
    },
    {
      "cell_type": "code",
      "execution_count": null,
      "metadata": {
        "id": "3natKUCCQtx3"
      },
      "outputs": [],
      "source": [
        "preds = np.stack([t.predict(valid_xs) for t in m.estimators_]);"
      ]
    },
    {
      "cell_type": "code",
      "execution_count": 66,
      "metadata": {
        "colab": {
          "base_uri": "https://localhost:8080/"
        },
        "id": "YHskVEQaOJGJ",
        "outputId": "bfd51ef2-6075-4472-d39f-7d53b13f0403"
      },
      "outputs": [
        {
          "data": {
            "text/plain": [
              "(4605,)"
            ]
          },
          "execution_count": 66,
          "metadata": {},
          "output_type": "execute_result"
        }
      ],
      "source": [
        "preds_std = preds.std(0)\n",
        "preds_std.shape"
      ]
    },
    {
      "cell_type": "code",
      "execution_count": 67,
      "metadata": {
        "colab": {
          "base_uri": "https://localhost:8080/",
          "height": 430
        },
        "id": "hcA1grTuTyRU",
        "outputId": "023bd77b-f5ae-43e3-cf31-c454d22f2591"
      },
      "outputs": [
        {
          "data": {
            "image/png": "[encoded data removed]",
            "text/plain": [
              "<Figure size 640x480 with 1 Axes>"
            ]
          },
          "metadata": {},
          "output_type": "display_data"
        }
      ],
      "source": [
        "plt.hist(preds_std);"
      ]
    },
    {
      "cell_type": "code",
      "execution_count": 68,
      "metadata": {
        "colab": {
          "base_uri": "https://localhost:8080/"
        },
        "id": "WS7bgOWXRSmB",
        "outputId": "40489746-d8af-4877-afde-abca7371b4ff"
      },
      "outputs": [
        {
          "data": {
            "text/plain": [
              "(0.0278703429008966, 0.694632232470765, 24.923705996039914)"
            ]
          },
          "execution_count": 68,
          "metadata": {},
          "output_type": "execute_result"
        }
      ],
      "source": [
        "min(preds_std), max(preds_std), max(preds_std)/min(preds_std)"
      ]
    },
    {
      "cell_type": "markdown",
      "metadata": {
        "id": "pKazb44tRJsY"
      },
      "source": [
        "As is the case in the text, the standard deviation varies widely for each prediction, with about a 20x difference between the smallest and largest standard deviations."
      ]
    },
    {
      "cell_type": "markdown",
      "metadata": {
        "id": "0pcCmoKdT4Om"
      },
      "source": [
        "### Feature Importance"
      ]
    },
    {
      "cell_type": "code",
      "execution_count": 69,
      "metadata": {
        "id": "Zn-LXpcQT5ZK"
      },
      "outputs": [],
      "source": [
        "def rf_feat_importance(m, df):\n",
        "  return pd.DataFrame({\n",
        "      'cols': df.columns,\n",
        "      'imp': m.feature_importances_}\n",
        "                      ).sort_values('imp', ascending=False)"
      ]
    },
    {
      "cell_type": "code",
      "execution_count": 70,
      "metadata": {
        "colab": {
          "base_uri": "https://localhost:8080/",
          "height": 363
        },
        "id": "styy7i8qR40N",
        "outputId": "7b487663-2fa7-4955-df3e-3e962e5d2785"
      },
      "outputs": [
        {
          "data": {
            "text/html": [
              "\n",
              "  <div id=\"df-31594eab-cb1b-4e66-90ae-a4a4104bb194\" class=\"colab-df-container\">\n",
              "    <div>\n",
              "<style scoped>\n",
              "    .dataframe tbody tr th:only-of-type {\n",
              "        vertical-align: middle;\n",
              "    }\n",
              "\n",
              "    .dataframe tbody tr th {\n",
              "        vertical-align: top;\n",
              "    }\n",
              "\n",
              "    .dataframe thead th {\n",
              "        text-align: right;\n",
              "    }\n",
              "</style>\n",
              "<table border=\"1\" class=\"dataframe\">\n",
              "  <thead>\n",
              "    <tr style=\"text-align: right;\">\n",
              "      <th></th>\n",
              "      <th>cols</th>\n",
              "      <th>imp</th>\n",
              "    </tr>\n",
              "  </thead>\n",
              "  <tbody>\n",
              "    <tr>\n",
              "      <th>101</th>\n",
              "      <td>structuretaxvaluedollarcnt</td>\n",
              "      <td>0.068990</td>\n",
              "    </tr>\n",
              "    <tr>\n",
              "      <th>105</th>\n",
              "      <td>taxamount</td>\n",
              "      <td>0.063532</td>\n",
              "    </tr>\n",
              "    <tr>\n",
              "      <th>80</th>\n",
              "      <td>lotsizesquarefeet</td>\n",
              "      <td>0.056561</td>\n",
              "    </tr>\n",
              "    <tr>\n",
              "      <th>102</th>\n",
              "      <td>taxvaluedollarcnt</td>\n",
              "      <td>0.054181</td>\n",
              "    </tr>\n",
              "    <tr>\n",
              "      <th>78</th>\n",
              "      <td>latitude</td>\n",
              "      <td>0.053154</td>\n",
              "    </tr>\n",
              "    <tr>\n",
              "      <th>104</th>\n",
              "      <td>landtaxvaluedollarcnt</td>\n",
              "      <td>0.052342</td>\n",
              "    </tr>\n",
              "    <tr>\n",
              "      <th>67</th>\n",
              "      <td>finishedsquarefeet12</td>\n",
              "      <td>0.050304</td>\n",
              "    </tr>\n",
              "    <tr>\n",
              "      <th>66</th>\n",
              "      <td>calculatedfinishedsquarefeet</td>\n",
              "      <td>0.050167</td>\n",
              "    </tr>\n",
              "    <tr>\n",
              "      <th>99</th>\n",
              "      <td>yearbuilt</td>\n",
              "      <td>0.048438</td>\n",
              "    </tr>\n",
              "    <tr>\n",
              "      <th>55</th>\n",
              "      <td>parcelid</td>\n",
              "      <td>0.048166</td>\n",
              "    </tr>\n",
              "  </tbody>\n",
              "</table>\n",
              "</div>\n",
              "    <div class=\"colab-df-buttons\">\n",
              "\n",
              "  <div class=\"colab-df-container\">\n",
              "    <button class=\"colab-df-convert\" onclick=\"convertToInteractive('df-31594eab-cb1b-4e66-90ae-a4a4104bb194')\"\n",
              "            title=\"Convert this dataframe to an interactive table.\"\n",
              "            style=\"display:none;\">\n",
              "\n",
              "  <svg xmlns=\"http://www.w3.org/2000/svg\" height=\"24px\" viewBox=\"0 -960 960 960\">\n",
              "    <path d=\"M120-120v-720h720v720H120Zm60-500h600v-160H180v160Zm220 220h160v-160H400v160Zm0 220h160v-160H400v160ZM180-400h160v-160H180v160Zm440 0h160v-160H620v160ZM180-180h160v-160H180v160Zm440 0h160v-160H620v160Z\"/>\n",
              "  </svg>\n",
              "    </button>\n",
              "\n",
              "  <style>\n",
              "    .colab-df-container {\n",
              "      display:flex;\n",
              "      gap: 12px;\n",
              "    }\n",
              "\n",
              "    .colab-df-convert {\n",
              "      background-color: #E8F0FE;\n",
              "      border: none;\n",
              "      border-radius: 50%;\n",
              "      cursor: pointer;\n",
              "      display: none;\n",
              "      fill: #1967D2;\n",
              "      height: 32px;\n",
              "      padding: 0 0 0 0;\n",
              "      width: 32px;\n",
              "    }\n",
              "\n",
              "    .colab-df-convert:hover {\n",
              "      background-color: #E2EBFA;\n",
              "      box-shadow: 0px 1px 2px rgba(60, 64, 67, 0.3), 0px 1px 3px 1px rgba(60, 64, 67, 0.15);\n",
              "      fill: #174EA6;\n",
              "    }\n",
              "\n",
              "    .colab-df-buttons div {\n",
              "      margin-bottom: 4px;\n",
              "    }\n",
              "\n",
              "    [theme=dark] .colab-df-convert {\n",
              "      background-color: #3B4455;\n",
              "      fill: #D2E3FC;\n",
              "    }\n",
              "\n",
              "    [theme=dark] .colab-df-convert:hover {\n",
              "      background-color: #434B5C;\n",
              "      box-shadow: 0px 1px 3px 1px rgba(0, 0, 0, 0.15);\n",
              "      filter: drop-shadow(0px 1px 2px rgba(0, 0, 0, 0.3));\n",
              "      fill: #FFFFFF;\n",
              "    }\n",
              "  </style>\n",
              "\n",
              "    <script>\n",
              "      const buttonEl =\n",
              "        document.querySelector('#df-31594eab-cb1b-4e66-90ae-a4a4104bb194 button.colab-df-convert');\n",
              "      buttonEl.style.display =\n",
              "        google.colab.kernel.accessAllowed ? 'block' : 'none';\n",
              "\n",
              "      async function convertToInteractive(key) {\n",
              "        const element = document.querySelector('#df-31594eab-cb1b-4e66-90ae-a4a4104bb194');\n",
              "        const dataTable =\n",
              "          await google.colab.kernel.invokeFunction('convertToInteractive',\n",
              "                                                    [key], {});\n",
              "        if (!dataTable) return;\n",
              "\n",
              "        const docLinkHtml = 'Like what you see? Visit the ' +\n",
              "          '<a target=\"_blank\" href=https://colab.research.google.com/notebooks/data_table.ipynb>data table notebook</a>'\n",
              "          + ' to learn more about interactive tables.';\n",
              "        element.innerHTML = '';\n",
              "        dataTable['output_type'] = 'display_data';\n",
              "        await google.colab.output.renderOutput(dataTable, element);\n",
              "        const docLink = document.createElement('div');\n",
              "        docLink.innerHTML = docLinkHtml;\n",
              "        element.appendChild(docLink);\n",
              "      }\n",
              "    </script>\n",
              "  </div>\n",
              "\n",
              "\n",
              "<div id=\"df-ebe0a0a1-44a1-46a6-bd6c-bea953aa4b8e\">\n",
              "  <button class=\"colab-df-quickchart\" onclick=\"quickchart('df-ebe0a0a1-44a1-46a6-bd6c-bea953aa4b8e')\"\n",
              "            title=\"Suggest charts.\"\n",
              "            style=\"display:none;\">\n",
              "\n",
              "<svg xmlns=\"http://www.w3.org/2000/svg\" height=\"24px\"viewBox=\"0 0 24 24\"\n",
              "     width=\"24px\">\n",
              "    <g>\n",
              "        <path d=\"M19 3H5c-1.1 0-2 .9-2 2v14c0 1.1.9 2 2 2h14c1.1 0 2-.9 2-2V5c0-1.1-.9-2-2-2zM9 17H7v-7h2v7zm4 0h-2V7h2v10zm4 0h-2v-4h2v4z\"/>\n",
              "    </g>\n",
              "</svg>\n",
              "  </button>\n",
              "\n",
              "<style>\n",
              "  .colab-df-quickchart {\n",
              "      --bg-color: #E8F0FE;\n",
              "      --fill-color: #1967D2;\n",
              "      --hover-bg-color: #E2EBFA;\n",
              "      --hover-fill-color: #174EA6;\n",
              "      --disabled-fill-color: #AAA;\n",
              "      --disabled-bg-color: #DDD;\n",
              "  }\n",
              "\n",
              "  [theme=dark] .colab-df-quickchart {\n",
              "      --bg-color: #3B4455;\n",
              "      --fill-color: #D2E3FC;\n",
              "      --hover-bg-color: #434B5C;\n",
              "      --hover-fill-color: #FFFFFF;\n",
              "      --disabled-bg-color: #3B4455;\n",
              "      --disabled-fill-color: #666;\n",
              "  }\n",
              "\n",
              "  .colab-df-quickchart {\n",
              "    background-color: var(--bg-color);\n",
              "    border: none;\n",
              "    border-radius: 50%;\n",
              "    cursor: pointer;\n",
              "    display: none;\n",
              "    fill: var(--fill-color);\n",
              "    height: 32px;\n",
              "    padding: 0;\n",
              "    width: 32px;\n",
              "  }\n",
              "\n",
              "  .colab-df-quickchart:hover {\n",
              "    background-color: var(--hover-bg-color);\n",
              "    box-shadow: 0 1px 2px rgba(60, 64, 67, 0.3), 0 1px 3px 1px rgba(60, 64, 67, 0.15);\n",
              "    fill: var(--button-hover-fill-color);\n",
              "  }\n",
              "\n",
              "  .colab-df-quickchart-complete:disabled,\n",
              "  .colab-df-quickchart-complete:disabled:hover {\n",
              "    background-color: var(--disabled-bg-color);\n",
              "    fill: var(--disabled-fill-color);\n",
              "    box-shadow: none;\n",
              "  }\n",
              "\n",
              "  .colab-df-spinner {\n",
              "    border: 2px solid var(--fill-color);\n",
              "    border-color: transparent;\n",
              "    border-bottom-color: var(--fill-color);\n",
              "    animation:\n",
              "      spin 1s steps(1) infinite;\n",
              "  }\n",
              "\n",
              "  @keyframes spin {\n",
              "    0% {\n",
              "      border-color: transparent;\n",
              "      border-bottom-color: var(--fill-color);\n",
              "      border-left-color: var(--fill-color);\n",
              "    }\n",
              "    20% {\n",
              "      border-color: transparent;\n",
              "      border-left-color: var(--fill-color);\n",
              "      border-top-color: var(--fill-color);\n",
              "    }\n",
              "    30% {\n",
              "      border-color: transparent;\n",
              "      border-left-color: var(--fill-color);\n",
              "      border-top-color: var(--fill-color);\n",
              "      border-right-color: var(--fill-color);\n",
              "    }\n",
              "    40% {\n",
              "      border-color: transparent;\n",
              "      border-right-color: var(--fill-color);\n",
              "      border-top-color: var(--fill-color);\n",
              "    }\n",
              "    60% {\n",
              "      border-color: transparent;\n",
              "      border-right-color: var(--fill-color);\n",
              "    }\n",
              "    80% {\n",
              "      border-color: transparent;\n",
              "      border-right-color: var(--fill-color);\n",
              "      border-bottom-color: var(--fill-color);\n",
              "    }\n",
              "    90% {\n",
              "      border-color: transparent;\n",
              "      border-bottom-color: var(--fill-color);\n",
              "    }\n",
              "  }\n",
              "</style>\n",
              "\n",
              "  <script>\n",
              "    async function quickchart(key) {\n",
              "      const quickchartButtonEl =\n",
              "        document.querySelector('#' + key + ' button');\n",
              "      quickchartButtonEl.disabled = true;  // To prevent multiple clicks.\n",
              "      quickchartButtonEl.classList.add('colab-df-spinner');\n",
              "      try {\n",
              "        const charts = await google.colab.kernel.invokeFunction(\n",
              "            'suggestCharts', [key], {});\n",
              "      } catch (error) {\n",
              "        console.error('Error during call to suggestCharts:', error);\n",
              "      }\n",
              "      quickchartButtonEl.classList.remove('colab-df-spinner');\n",
              "      quickchartButtonEl.classList.add('colab-df-quickchart-complete');\n",
              "    }\n",
              "    (() => {\n",
              "      let quickchartButtonEl =\n",
              "        document.querySelector('#df-ebe0a0a1-44a1-46a6-bd6c-bea953aa4b8e button');\n",
              "      quickchartButtonEl.style.display =\n",
              "        google.colab.kernel.accessAllowed ? 'block' : 'none';\n",
              "    })();\n",
              "  </script>\n",
              "</div>\n",
              "    </div>\n",
              "  </div>\n"
            ],
            "text/plain": [
              "                             cols       imp\n",
              "101    structuretaxvaluedollarcnt  0.068990\n",
              "105                     taxamount  0.063532\n",
              "80              lotsizesquarefeet  0.056561\n",
              "102             taxvaluedollarcnt  0.054181\n",
              "78                       latitude  0.053154\n",
              "104         landtaxvaluedollarcnt  0.052342\n",
              "67           finishedsquarefeet12  0.050304\n",
              "66   calculatedfinishedsquarefeet  0.050167\n",
              "99                      yearbuilt  0.048438\n",
              "55                       parcelid  0.048166"
            ]
          },
          "execution_count": 70,
          "metadata": {},
          "output_type": "execute_result"
        }
      ],
      "source": [
        "fi = rf_feat_importance(m, xs)\n",
        "fi[:10]"
      ]
    },
    {
      "cell_type": "markdown",
      "metadata": {
        "id": "NKK9R___SFc_"
      },
      "source": [
        "Interesting to see that in this case, which is different than the textbook example, the feature importance across the top-10 most important features is pretty similar. The top-10 most important features include 4 columns related to the tax value of the property, 2 columns related to the square feet of the property or land, location (lat/long) columns, the year the property was built and `parcelid`."
      ]
    },
    {
      "cell_type": "code",
      "execution_count": 71,
      "metadata": {
        "colab": {
          "base_uri": "https://localhost:8080/",
          "height": 440
        },
        "id": "D-1IKIKDSBJv",
        "outputId": "5c53a85a-5892-4215-d99a-b147c35da7fa"
      },
      "outputs": [
        {
          "data": {
            "image/png": "[encoded data removed]",
            "text/plain": [
              "<Figure size 1200x700 with 1 Axes>"
            ]
          },
          "metadata": {},
          "output_type": "display_data"
        }
      ],
      "source": [
        "def plot_fi(fi):\n",
        "  return fi.plot('cols', 'imp', 'barh', figsize=(12,7), legend=False)\n",
        "\n",
        "plot_fi(fi[:30]);"
      ]
    },
    {
      "cell_type": "markdown",
      "metadata": {
        "id": "0eELNnXNT5nZ"
      },
      "source": [
        "### Removing Low-Importance Variables"
      ]
    },
    {
      "cell_type": "markdown",
      "metadata": {
        "id": "WeWcJ8ScTtAX"
      },
      "source": [
        "I'll retrain the model after removing features with low importance (0.005), which leaves me with 28 columns instead of 73."
      ]
    },
    {
      "cell_type": "code",
      "execution_count": 72,
      "metadata": {
        "colab": {
          "base_uri": "https://localhost:8080/"
        },
        "id": "jr8YV9pDT8Bc",
        "outputId": "ec08246f-40bf-4a7d-f940-7a937e201777"
      },
      "outputs": [
        {
          "data": {
            "text/plain": [
              "73"
            ]
          },
          "execution_count": 72,
          "metadata": {},
          "output_type": "execute_result"
        }
      ],
      "source": [
        "len(df.columns)"
      ]
    },
    {
      "cell_type": "code",
      "execution_count": 73,
      "metadata": {
        "colab": {
          "base_uri": "https://localhost:8080/"
        },
        "id": "8H1KHjLyTwcR",
        "outputId": "d19bc953-290f-4e38-ef31-c756f112fae5"
      },
      "outputs": [
        {
          "data": {
            "text/plain": [
              "28"
            ]
          },
          "execution_count": 73,
          "metadata": {},
          "output_type": "execute_result"
        }
      ],
      "source": [
        "to_keep = fi[fi.imp>0.005].cols\n",
        "len(to_keep)"
      ]
    },
    {
      "cell_type": "code",
      "execution_count": 74,
      "metadata": {
        "id": "52PQvfeGUCLg"
      },
      "outputs": [],
      "source": [
        "xs_imp = xs[to_keep]\n",
        "valid_xs_imp = valid_xs[to_keep]\n",
        "m = rf(xs_imp, y);"
      ]
    },
    {
      "cell_type": "code",
      "execution_count": 75,
      "metadata": {
        "colab": {
          "base_uri": "https://localhost:8080/"
        },
        "id": "42TAnsQCUD4R",
        "outputId": "1c373f2a-b495-4cb5-d449-5e5ed3b26fb7"
      },
      "outputs": [
        {
          "data": {
            "text/plain": [
              "(0.05664031645342886, 0.07351868669419753)"
            ]
          },
          "execution_count": 75,
          "metadata": {},
          "output_type": "execute_result"
        }
      ],
      "source": [
        "m_mae(m, xs_imp, y), m_mae(m, valid_xs_imp, valid_y)"
      ]
    },
    {
      "cell_type": "markdown",
      "metadata": {
        "id": "IxPtSDlIUU6p"
      },
      "source": [
        "The training error increased slightly and the validation decreased when compared to the model containing all 73 columns."
      ]
    },
    {
      "cell_type": "code",
      "execution_count": 76,
      "metadata": {
        "colab": {
          "base_uri": "https://localhost:8080/",
          "height": 440
        },
        "id": "JbTk8A0RUz48",
        "outputId": "b840d0a6-527d-4459-c75b-78bf7e79ae7c"
      },
      "outputs": [
        {
          "data": {
            "image/png": "[encoded data removed]",
            "text/plain": [
              "<Figure size 1200x700 with 1 Axes>"
            ]
          },
          "metadata": {},
          "output_type": "display_data"
        }
      ],
      "source": [
        "plot_fi(rf_feat_importance(m, xs_imp));"
      ]
    },
    {
      "cell_type": "markdown",
      "metadata": {
        "id": "GSU8KVMwT8d8"
      },
      "source": [
        "### Removing Redundant Features"
      ]
    },
    {
      "cell_type": "code",
      "execution_count": 77,
      "metadata": {
        "id": "cNKcfZs4T_KG"
      },
      "outputs": [],
      "source": [
        "from scipy.cluster import hierarchy as hc\n",
        "\n",
        "def cluster_columns(df, figsize=(10,6), font_size=12):\n",
        "    corr = np.round(scipy.stats.spearmanr(df).correlation, 4)\n",
        "    corr_condensed = hc.distance.squareform(1-corr)\n",
        "    z = hc.linkage(corr_condensed, method='average')\n",
        "    fig = plt.figure(figsize=figsize)\n",
        "    hc.dendrogram(z, labels=df.columns, orientation='left', leaf_font_size=font_size)\n",
        "    plt.show()"
      ]
    },
    {
      "cell_type": "code",
      "execution_count": 79,
      "metadata": {
        "colab": {
          "base_uri": "https://localhost:8080/",
          "height": 431
        },
        "id": "AJswhEb0VQql",
        "outputId": "dee4f12b-2226-437c-9a4d-de9e0ba20bc6"
      },
      "outputs": [
        {
          "data": {
            "image/png": "[encoded data removed]",
            "text/plain": [
              "<Figure size 1000x600 with 1 Axes>"
            ]
          },
          "metadata": {},
          "output_type": "display_data"
        }
      ],
      "source": [
        "cluster_columns(xs_imp)"
      ]
    },
    {
      "cell_type": "markdown",
      "metadata": {
        "id": "fgkDeTSSVXGQ"
      },
      "source": [
        "The most similar columns are the columns that are paired together at the right edge of the plot.\n",
        "\n",
        "As is done in the text, I'll create a function that quickly trains a smaller random forest (using only a quarter of the max samples used earlier) and returns the OOB score (which is 1.0 for a perfect model and 0.0 for a random model):"
      ]
    },
    {
      "cell_type": "code",
      "execution_count": 80,
      "metadata": {
        "id": "dCjHqsOFWQlg"
      },
      "outputs": [],
      "source": [
        "def get_oob(df):\n",
        "  m = RandomForestRegressor(n_estimators=40, min_samples_leaf=15,\n",
        "                            max_samples=10_000, max_features=0.5, n_jobs=-1, oob_score=True)\n",
        "  m.fit(df, y)\n",
        "  return m.oob_score_"
      ]
    },
    {
      "cell_type": "code",
      "execution_count": 81,
      "metadata": {
        "colab": {
          "base_uri": "https://localhost:8080/"
        },
        "id": "K7COsVe9WaiD",
        "outputId": "b9f0ef58-bc61-48fd-d15c-498f9fe5e104"
      },
      "outputs": [
        {
          "data": {
            "text/plain": [
              "0.011697584107195569"
            ]
          },
          "execution_count": 81,
          "metadata": {},
          "output_type": "execute_result"
        }
      ],
      "source": [
        "# baseline\n",
        "get_oob(xs_imp)"
      ]
    },
    {
      "cell_type": "markdown",
      "metadata": {
        "id": "ponogUEtWjg7"
      },
      "source": [
        "Remove each of the potentially redundant variables and compare the OOB score to the baseline:"
      ]
    },
    {
      "cell_type": "code",
      "execution_count": 82,
      "metadata": {
        "colab": {
          "base_uri": "https://localhost:8080/"
        },
        "id": "yNN5KUVDWsa9",
        "outputId": "8847b36c-2869-47bc-9c36-1ddfcb31d627"
      },
      "outputs": [
        {
          "data": {
            "text/plain": [
              "{'transactionElapsed': 0.013909569573363978,\n",
              " 'transactiondate': 0.01231524099367498,\n",
              " 'transactionDayofyear': 0.013553857476552356,\n",
              " 'transactionWeek': 0.013361881019678945,\n",
              " 'finishedsquarefeet12': 0.013417734028419948,\n",
              " 'calculatedfinishedsquarefeet': 0.013048107145456234,\n",
              " 'landtaxvaluedollarcnt': 0.012660367356422841,\n",
              " 'taxvaluedollarcnt': 0.0128850786659368,\n",
              " 'censustractandblock': 0.012599787787639927,\n",
              " 'rawcensustractandblock': 0.012632301991060135}"
            ]
          },
          "execution_count": 82,
          "metadata": {},
          "output_type": "execute_result"
        }
      ],
      "source": [
        "{c: get_oob(xs_imp.drop(c, axis=1)) for c in (\n",
        "    'transactionElapsed', 'transactiondate', 'transactionDayofyear', 'transactionWeek',\n",
        "    'finishedsquarefeet12', 'calculatedfinishedsquarefeet',\n",
        "    'landtaxvaluedollarcnt', 'taxvaluedollarcnt',\n",
        "    'censustractandblock', 'rawcensustractandblock')}"
      ]
    },
    {
      "cell_type": "markdown",
      "metadata": {
        "id": "A5JL0JzTXqJe"
      },
      "source": [
        "I'll pick the variables where their removal increased the OOB score."
      ]
    },
    {
      "cell_type": "code",
      "execution_count": 83,
      "metadata": {
        "colab": {
          "base_uri": "https://localhost:8080/"
        },
        "id": "z14fj9hwXzro",
        "outputId": "95b21798-52a1-4f95-c2a4-0695bd72097b"
      },
      "outputs": [
        {
          "data": {
            "text/plain": [
              "0.012975220827415757"
            ]
          },
          "execution_count": 83,
          "metadata": {},
          "output_type": "execute_result"
        }
      ],
      "source": [
        "to_drop = ['transactionElapsed',\n",
        "           'transactionDayofyear',\n",
        "           'transactionWeek',\n",
        "           'finishedsquarefeet12',\n",
        "           'taxvaluedollarcnt',\n",
        "           'rawcensustractandblock']\n",
        "\n",
        "get_oob(xs_imp.drop(to_drop, axis=1))"
      ]
    },
    {
      "cell_type": "markdown",
      "metadata": {
        "id": "ENOgeVz1hwPU"
      },
      "source": [
        "Great! I now have a few less features and the OOB score increased.\n",
        "\n",
        "I'll save the data and model for later so that I can maintain the previous work:"
      ]
    },
    {
      "cell_type": "code",
      "execution_count": null,
      "metadata": {
        "id": "Jhr3dRIMesMn"
      },
      "outputs": [],
      "source": [
        "xs_final = xs_imp.drop(to_drop, axis=1)\n",
        "valid_xs_final = valid_xs_imp.drop(to_drop, axis=1)"
      ]
    },
    {
      "cell_type": "code",
      "execution_count": 92,
      "metadata": {
        "colab": {
          "base_uri": "https://localhost:8080/"
        },
        "id": "geho7Md5esqr",
        "outputId": "f1d619ce-bcd6-47ec-c923-f668887eaf7e"
      },
      "outputs": [
        {
          "data": {
            "text/plain": [
              "(0.05687215149513172, 0.07364818858339096)"
            ]
          },
          "execution_count": 92,
          "metadata": {},
          "output_type": "execute_result"
        }
      ],
      "source": [
        "# check accuracy\n",
        "m = rf(xs_final, y)\n",
        "m_mae(m, xs_final, y), m_mae(m, valid_xs_final, valid_y)"
      ]
    },
    {
      "cell_type": "code",
      "execution_count": 94,
      "metadata": {
        "id": "4IbSfPJuij9I"
      },
      "outputs": [],
      "source": [
        "save_pickle('xs_final.pkl', xs_final)\n",
        "save_pickle('valid_xs_final.pkl', valid_xs_final)\n",
        "save_pickle('m.pkl', m)"
      ]
    },
    {
      "cell_type": "markdown",
      "metadata": {
        "id": "b8bneGxoT_Zn"
      },
      "source": [
        "### Partial Dependence"
      ]
    },
    {
      "cell_type": "markdown",
      "metadata": {
        "id": "3eOVf5gokyZd"
      },
      "source": [
        "As done in the text, I'll look at the distribution of the top 2 most important features."
      ]
    },
    {
      "cell_type": "code",
      "execution_count": 86,
      "metadata": {
        "colab": {
          "base_uri": "https://localhost:8080/",
          "height": 448
        },
        "id": "Ptmt3ZAhUBjA",
        "outputId": "2edfb631-8c37-45d0-c6ba-fe98a4e2d240"
      },
      "outputs": [
        {
          "data": {
            "image/png": "[encoded data removed]",
            "text/plain": [
              "<Figure size 640x480 with 1 Axes>"
            ]
          },
          "metadata": {},
          "output_type": "display_data"
        }
      ],
      "source": [
        "valid_xs_final.structuretaxvaluedollarcnt.hist(range=[0,0.1e7]);"
      ]
    },
    {
      "cell_type": "code",
      "execution_count": 87,
      "metadata": {
        "colab": {
          "base_uri": "https://localhost:8080/",
          "height": 430
        },
        "id": "nHlq7Ni0lAiw",
        "outputId": "cc1cb8f3-915c-44aa-cdd5-5972078a417d"
      },
      "outputs": [
        {
          "data": {
            "image/png": "[encoded data removed]",
            "text/plain": [
              "<Figure size 640x480 with 1 Axes>"
            ]
          },
          "metadata": {},
          "output_type": "display_data"
        }
      ],
      "source": [
        "valid_xs_final.taxamount.hist(range=[0,30_000]);"
      ]
    },
    {
      "cell_type": "markdown",
      "metadata": {
        "id": "AwDTYB2Cldh3"
      },
      "source": [
        "Next, I'll create partial dependence plots, which observe how the dependent variable varies with respect to each of these variables."
      ]
    },
    {
      "cell_type": "code",
      "execution_count": 88,
      "metadata": {
        "colab": {
          "base_uri": "https://localhost:8080/",
          "height": 368
        },
        "id": "PpumSbFQlpY1",
        "outputId": "0725c935-511e-4faf-c5bd-8c98d882d87a"
      },
      "outputs": [
        {
          "data": {
            "image/png": "[encoded data removed]",
            "text/plain": [
              "<Figure size 600x400 with 1 Axes>"
            ]
          },
          "metadata": {},
          "output_type": "display_data"
        }
      ],
      "source": [
        "from sklearn.inspection import partial_dependence\n",
        "\n",
        "fig, ax = plt.subplots(figsize=(6,4))\n",
        "pdp = partial_dependence(m, valid_xs_final, ['structuretaxvaluedollarcnt', 'taxamount'],\n",
        "                        grid_resolution=20)\n",
        "\n",
        "ax.plot(pdp['values'][0], pdp['average'].mean(axis=1).squeeze());"
      ]
    },
    {
      "cell_type": "code",
      "execution_count": 89,
      "metadata": {
        "colab": {
          "base_uri": "https://localhost:8080/",
          "height": 368
        },
        "id": "3MAWjgznl9DX",
        "outputId": "79e36a12-ed1d-470e-c525-1ee88133cacf"
      },
      "outputs": [
        {
          "data": {
            "image/png": "[encoded data removed]",
            "text/plain": [
              "<Figure size 600x400 with 1 Axes>"
            ]
          },
          "metadata": {},
          "output_type": "display_data"
        }
      ],
      "source": [
        "fig, ax = plt.subplots(figsize=(6,4))\n",
        "ax.plot(pdp['values'][1], pdp['average'].mean(axis=2).squeeze());"
      ]
    },
    {
      "cell_type": "markdown",
      "metadata": {
        "id": "rLsBLVOImOK5"
      },
      "source": [
        "In both cases, the `logerror` generally decreases as the value of the variable increases. Although for larger `taxamount` values, the `logerror` increases before decreasing again."
      ]
    },
    {
      "cell_type": "markdown",
      "metadata": {
        "id": "cx7x709OUB3c"
      },
      "source": [
        "### Tree Interpreter"
      ]
    },
    {
      "cell_type": "code",
      "execution_count": 3,
      "metadata": {
        "colab": {
          "base_uri": "https://localhost:8080/"
        },
        "id": "ai653ymq2TG7",
        "outputId": "f8f70c03-9ef2-4de7-ca33-18dcab36e8ca"
      },
      "outputs": [
        {
          "data": {
            "text/plain": [
              "((85670, 26), (4605, 26))"
            ]
          },
          "execution_count": 3,
          "metadata": {},
          "output_type": "execute_result"
        }
      ],
      "source": [
        "xs_final = load_pickle('xs_final.pkl')\n",
        "valid_xs_final = load_pickle('valid_xs_final.pkl')\n",
        "m = load_pickle('m.pkl')\n",
        "xs_final.shape, valid_xs_final.shape"
      ]
    },
    {
      "cell_type": "markdown",
      "metadata": {
        "id": "rXV1hjrPePrz"
      },
      "source": [
        "I'll look at the contribution of different features to the prediction of a single row:"
      ]
    },
    {
      "cell_type": "code",
      "execution_count": 95,
      "metadata": {
        "colab": {
          "base_uri": "https://localhost:8080/",
          "height": 130
        },
        "id": "1QtSKkhuUGhA",
        "outputId": "576ed8cd-4598-490e-a96b-69bb50356ddd"
      },
      "outputs": [
        {
          "data": {
            "text/html": [
              "\n",
              "  <div id=\"df-3b4d7b4f-59b6-4ba6-a989-7343b6ce1a77\" class=\"colab-df-container\">\n",
              "    <div>\n",
              "<style scoped>\n",
              "    .dataframe tbody tr th:only-of-type {\n",
              "        vertical-align: middle;\n",
              "    }\n",
              "\n",
              "    .dataframe tbody tr th {\n",
              "        vertical-align: top;\n",
              "    }\n",
              "\n",
              "    .dataframe thead th {\n",
              "        text-align: right;\n",
              "    }\n",
              "</style>\n",
              "<table border=\"1\" class=\"dataframe\">\n",
              "  <thead>\n",
              "    <tr style=\"text-align: right;\">\n",
              "      <th></th>\n",
              "      <th>structuretaxvaluedollarcnt</th>\n",
              "      <th>taxamount</th>\n",
              "      <th>lotsizesquarefeet</th>\n",
              "      <th>latitude</th>\n",
              "      <th>...</th>\n",
              "      <th>bedroomcnt</th>\n",
              "      <th>garagetotalsqft</th>\n",
              "      <th>propertycountylandusecode</th>\n",
              "      <th>bathroomcnt</th>\n",
              "    </tr>\n",
              "  </thead>\n",
              "  <tbody>\n",
              "    <tr>\n",
              "      <th>3421</th>\n",
              "      <td>128318.0</td>\n",
              "      <td>4382.959961</td>\n",
              "      <td>10440.0</td>\n",
              "      <td>33844408.0</td>\n",
              "      <td>...</td>\n",
              "      <td>2.0</td>\n",
              "      <td>400.0</td>\n",
              "      <td>59</td>\n",
              "      <td>2.5</td>\n",
              "    </tr>\n",
              "  </tbody>\n",
              "</table>\n",
              "<p>1 rows × 22 columns</p>\n",
              "</div>\n",
              "    <div class=\"colab-df-buttons\">\n",
              "\n",
              "  <div class=\"colab-df-container\">\n",
              "    <button class=\"colab-df-convert\" onclick=\"convertToInteractive('df-3b4d7b4f-59b6-4ba6-a989-7343b6ce1a77')\"\n",
              "            title=\"Convert this dataframe to an interactive table.\"\n",
              "            style=\"display:none;\">\n",
              "\n",
              "  <svg xmlns=\"http://www.w3.org/2000/svg\" height=\"24px\" viewBox=\"0 -960 960 960\">\n",
              "    <path d=\"M120-120v-720h720v720H120Zm60-500h600v-160H180v160Zm220 220h160v-160H400v160Zm0 220h160v-160H400v160ZM180-400h160v-160H180v160Zm440 0h160v-160H620v160ZM180-180h160v-160H180v160Zm440 0h160v-160H620v160Z\"/>\n",
              "  </svg>\n",
              "    </button>\n",
              "\n",
              "  <style>\n",
              "    .colab-df-container {\n",
              "      display:flex;\n",
              "      gap: 12px;\n",
              "    }\n",
              "\n",
              "    .colab-df-convert {\n",
              "      background-color: #E8F0FE;\n",
              "      border: none;\n",
              "      border-radius: 50%;\n",
              "      cursor: pointer;\n",
              "      display: none;\n",
              "      fill: #1967D2;\n",
              "      height: 32px;\n",
              "      padding: 0 0 0 0;\n",
              "      width: 32px;\n",
              "    }\n",
              "\n",
              "    .colab-df-convert:hover {\n",
              "      background-color: #E2EBFA;\n",
              "      box-shadow: 0px 1px 2px rgba(60, 64, 67, 0.3), 0px 1px 3px 1px rgba(60, 64, 67, 0.15);\n",
              "      fill: #174EA6;\n",
              "    }\n",
              "\n",
              "    .colab-df-buttons div {\n",
              "      margin-bottom: 4px;\n",
              "    }\n",
              "\n",
              "    [theme=dark] .colab-df-convert {\n",
              "      background-color: #3B4455;\n",
              "      fill: #D2E3FC;\n",
              "    }\n",
              "\n",
              "    [theme=dark] .colab-df-convert:hover {\n",
              "      background-color: #434B5C;\n",
              "      box-shadow: 0px 1px 3px 1px rgba(0, 0, 0, 0.15);\n",
              "      filter: drop-shadow(0px 1px 2px rgba(0, 0, 0, 0.3));\n",
              "      fill: #FFFFFF;\n",
              "    }\n",
              "  </style>\n",
              "\n",
              "    <script>\n",
              "      const buttonEl =\n",
              "        document.querySelector('#df-3b4d7b4f-59b6-4ba6-a989-7343b6ce1a77 button.colab-df-convert');\n",
              "      buttonEl.style.display =\n",
              "        google.colab.kernel.accessAllowed ? 'block' : 'none';\n",
              "\n",
              "      async function convertToInteractive(key) {\n",
              "        const element = document.querySelector('#df-3b4d7b4f-59b6-4ba6-a989-7343b6ce1a77');\n",
              "        const dataTable =\n",
              "          await google.colab.kernel.invokeFunction('convertToInteractive',\n",
              "                                                    [key], {});\n",
              "        if (!dataTable) return;\n",
              "\n",
              "        const docLinkHtml = 'Like what you see? Visit the ' +\n",
              "          '<a target=\"_blank\" href=https://colab.research.google.com/notebooks/data_table.ipynb>data table notebook</a>'\n",
              "          + ' to learn more about interactive tables.';\n",
              "        element.innerHTML = '';\n",
              "        dataTable['output_type'] = 'display_data';\n",
              "        await google.colab.output.renderOutput(dataTable, element);\n",
              "        const docLink = document.createElement('div');\n",
              "        docLink.innerHTML = docLinkHtml;\n",
              "        element.appendChild(docLink);\n",
              "      }\n",
              "    </script>\n",
              "  </div>\n",
              "\n",
              "    </div>\n",
              "  </div>\n"
            ],
            "text/plain": [
              "      structuretaxvaluedollarcnt    taxamount  lotsizesquarefeet    latitude  \\\n",
              "3421                    128318.0  4382.959961            10440.0  33844408.0   \n",
              "\n",
              "      ...  bedroomcnt  garagetotalsqft  propertycountylandusecode  bathroomcnt  \n",
              "3421  ...         2.0            400.0                         59          2.5  \n",
              "\n",
              "[1 rows x 22 columns]"
            ]
          },
          "execution_count": 95,
          "metadata": {},
          "output_type": "execute_result"
        }
      ],
      "source": [
        "row = valid_xs_final.iloc[:1]\n",
        "row"
      ]
    },
    {
      "cell_type": "code",
      "execution_count": 96,
      "metadata": {
        "id": "IjRMt2P822m9"
      },
      "outputs": [],
      "source": [
        "from treeinterpreter import treeinterpreter\n",
        "prediction, bias, contributions = treeinterpreter.predict(m, row.values)"
      ]
    },
    {
      "cell_type": "code",
      "execution_count": 99,
      "metadata": {
        "colab": {
          "base_uri": "https://localhost:8080/"
        },
        "id": "DKLnj6f3fPTr",
        "outputId": "6f142272-a3a3-4bf4-c9f1-f7c0e0d851f7"
      },
      "outputs": [
        {
          "data": {
            "text/plain": [
              "(array([0.01924753]),\n",
              " 0.011195491642025518,\n",
              " 0.00805203672769338,\n",
              " array([0.41834134]))"
            ]
          },
          "execution_count": 99,
          "metadata": {},
          "output_type": "execute_result"
        }
      ],
      "source": [
        "prediction[0], bias[0], contributions[0].sum(), contributions[0].sum()/prediction[0]"
      ]
    },
    {
      "cell_type": "markdown",
      "metadata": {
        "id": "1Z003z-df7R0"
      },
      "source": [
        "The features' contribution to the prediction is about 40%."
      ]
    },
    {
      "cell_type": "code",
      "execution_count": 103,
      "metadata": {
        "colab": {
          "base_uri": "https://localhost:8080/",
          "height": 488
        },
        "id": "D1ahpZnGgNSA",
        "outputId": "165c0115-8320-45a6-9def-03338a976b46"
      },
      "outputs": [
        {
          "data": {
            "image/png": "[encoded data removed]",
            "text/plain": [
              "<Figure size 640x480 with 1 Axes>"
            ]
          },
          "metadata": {},
          "output_type": "display_data"
        }
      ],
      "source": [
        "from waterfall_chart import plot as waterfall\n",
        "waterfall(valid_xs_final.columns, contributions[0], threshold=0.5,\n",
        "          rotation_value=45, formatting='{:,.3f}');"
      ]
    },
    {
      "cell_type": "markdown",
      "metadata": {
        "id": "tL5tAQvLUG0L"
      },
      "source": [
        "## Finding Out-of-Domain Data"
      ]
    },
    {
      "cell_type": "markdown",
      "metadata": {
        "id": "fwHGeKi8ghoJ"
      },
      "source": [
        "In order to understand which features in the validation set are out-of-domain for the training set, we'll train a model to predict whether a row in the data is in the training or validation set---the features with the highest importance in this model are the features that are most different between the two datasets."
      ]
    },
    {
      "cell_type": "code",
      "execution_count": 104,
      "metadata": {
        "colab": {
          "base_uri": "https://localhost:8080/"
        },
        "id": "XBYmmwPeUKoA",
        "outputId": "659d04e2-2172-4619-e541-863c8685f239"
      },
      "outputs": [
        {
          "data": {
            "text/plain": [
              "((90275, 22), 90275)"
            ]
          },
          "execution_count": 104,
          "metadata": {},
          "output_type": "execute_result"
        }
      ],
      "source": [
        "df_dom = pd.concat([xs_final, valid_xs_final])\n",
        "is_valid = np.array([0]*len(xs_final) + [1]*len(valid_xs_final))\n",
        "\n",
        "df_dom.shape, len(is_valid)"
      ]
    },
    {
      "cell_type": "code",
      "execution_count": 105,
      "metadata": {
        "colab": {
          "base_uri": "https://localhost:8080/",
          "height": 238
        },
        "id": "qnzs1RvWg4h5",
        "outputId": "241ed2c8-711d-4b9d-861a-9dbdb821005c"
      },
      "outputs": [
        {
          "data": {
            "text/html": [
              "\n",
              "  <div id=\"df-e9f7384c-0d58-44c3-9402-543f28b572c3\" class=\"colab-df-container\">\n",
              "    <div>\n",
              "<style scoped>\n",
              "    .dataframe tbody tr th:only-of-type {\n",
              "        vertical-align: middle;\n",
              "    }\n",
              "\n",
              "    .dataframe tbody tr th {\n",
              "        vertical-align: top;\n",
              "    }\n",
              "\n",
              "    .dataframe thead th {\n",
              "        text-align: right;\n",
              "    }\n",
              "</style>\n",
              "<table border=\"1\" class=\"dataframe\">\n",
              "  <thead>\n",
              "    <tr style=\"text-align: right;\">\n",
              "      <th></th>\n",
              "      <th>cols</th>\n",
              "      <th>imp</th>\n",
              "    </tr>\n",
              "  </thead>\n",
              "  <tbody>\n",
              "    <tr>\n",
              "      <th>14</th>\n",
              "      <td>transactiondate</td>\n",
              "      <td>0.996253</td>\n",
              "    </tr>\n",
              "    <tr>\n",
              "      <th>16</th>\n",
              "      <td>transactionDayofweek</td>\n",
              "      <td>0.001673</td>\n",
              "    </tr>\n",
              "    <tr>\n",
              "      <th>10</th>\n",
              "      <td>transactionDay</td>\n",
              "      <td>0.001005</td>\n",
              "    </tr>\n",
              "    <tr>\n",
              "      <th>1</th>\n",
              "      <td>taxamount</td>\n",
              "      <td>0.000206</td>\n",
              "    </tr>\n",
              "    <tr>\n",
              "      <th>9</th>\n",
              "      <td>regionidzip</td>\n",
              "      <td>0.000110</td>\n",
              "    </tr>\n",
              "    <tr>\n",
              "      <th>3</th>\n",
              "      <td>latitude</td>\n",
              "      <td>0.000095</td>\n",
              "    </tr>\n",
              "  </tbody>\n",
              "</table>\n",
              "</div>\n",
              "    <div class=\"colab-df-buttons\">\n",
              "\n",
              "  <div class=\"colab-df-container\">\n",
              "    <button class=\"colab-df-convert\" onclick=\"convertToInteractive('df-e9f7384c-0d58-44c3-9402-543f28b572c3')\"\n",
              "            title=\"Convert this dataframe to an interactive table.\"\n",
              "            style=\"display:none;\">\n",
              "\n",
              "  <svg xmlns=\"http://www.w3.org/2000/svg\" height=\"24px\" viewBox=\"0 -960 960 960\">\n",
              "    <path d=\"M120-120v-720h720v720H120Zm60-500h600v-160H180v160Zm220 220h160v-160H400v160Zm0 220h160v-160H400v160ZM180-400h160v-160H180v160Zm440 0h160v-160H620v160ZM180-180h160v-160H180v160Zm440 0h160v-160H620v160Z\"/>\n",
              "  </svg>\n",
              "    </button>\n",
              "\n",
              "  <style>\n",
              "    .colab-df-container {\n",
              "      display:flex;\n",
              "      gap: 12px;\n",
              "    }\n",
              "\n",
              "    .colab-df-convert {\n",
              "      background-color: #E8F0FE;\n",
              "      border: none;\n",
              "      border-radius: 50%;\n",
              "      cursor: pointer;\n",
              "      display: none;\n",
              "      fill: #1967D2;\n",
              "      height: 32px;\n",
              "      padding: 0 0 0 0;\n",
              "      width: 32px;\n",
              "    }\n",
              "\n",
              "    .colab-df-convert:hover {\n",
              "      background-color: #E2EBFA;\n",
              "      box-shadow: 0px 1px 2px rgba(60, 64, 67, 0.3), 0px 1px 3px 1px rgba(60, 64, 67, 0.15);\n",
              "      fill: #174EA6;\n",
              "    }\n",
              "\n",
              "    .colab-df-buttons div {\n",
              "      margin-bottom: 4px;\n",
              "    }\n",
              "\n",
              "    [theme=dark] .colab-df-convert {\n",
              "      background-color: #3B4455;\n",
              "      fill: #D2E3FC;\n",
              "    }\n",
              "\n",
              "    [theme=dark] .colab-df-convert:hover {\n",
              "      background-color: #434B5C;\n",
              "      box-shadow: 0px 1px 3px 1px rgba(0, 0, 0, 0.15);\n",
              "      filter: drop-shadow(0px 1px 2px rgba(0, 0, 0, 0.3));\n",
              "      fill: #FFFFFF;\n",
              "    }\n",
              "  </style>\n",
              "\n",
              "    <script>\n",
              "      const buttonEl =\n",
              "        document.querySelector('#df-e9f7384c-0d58-44c3-9402-543f28b572c3 button.colab-df-convert');\n",
              "      buttonEl.style.display =\n",
              "        google.colab.kernel.accessAllowed ? 'block' : 'none';\n",
              "\n",
              "      async function convertToInteractive(key) {\n",
              "        const element = document.querySelector('#df-e9f7384c-0d58-44c3-9402-543f28b572c3');\n",
              "        const dataTable =\n",
              "          await google.colab.kernel.invokeFunction('convertToInteractive',\n",
              "                                                    [key], {});\n",
              "        if (!dataTable) return;\n",
              "\n",
              "        const docLinkHtml = 'Like what you see? Visit the ' +\n",
              "          '<a target=\"_blank\" href=https://colab.research.google.com/notebooks/data_table.ipynb>data table notebook</a>'\n",
              "          + ' to learn more about interactive tables.';\n",
              "        element.innerHTML = '';\n",
              "        dataTable['output_type'] = 'display_data';\n",
              "        await google.colab.output.renderOutput(dataTable, element);\n",
              "        const docLink = document.createElement('div');\n",
              "        docLink.innerHTML = docLinkHtml;\n",
              "        element.appendChild(docLink);\n",
              "      }\n",
              "    </script>\n",
              "  </div>\n",
              "\n",
              "\n",
              "<div id=\"df-6e665060-b840-40fb-8a42-06e353073843\">\n",
              "  <button class=\"colab-df-quickchart\" onclick=\"quickchart('df-6e665060-b840-40fb-8a42-06e353073843')\"\n",
              "            title=\"Suggest charts.\"\n",
              "            style=\"display:none;\">\n",
              "\n",
              "<svg xmlns=\"http://www.w3.org/2000/svg\" height=\"24px\"viewBox=\"0 0 24 24\"\n",
              "     width=\"24px\">\n",
              "    <g>\n",
              "        <path d=\"M19 3H5c-1.1 0-2 .9-2 2v14c0 1.1.9 2 2 2h14c1.1 0 2-.9 2-2V5c0-1.1-.9-2-2-2zM9 17H7v-7h2v7zm4 0h-2V7h2v10zm4 0h-2v-4h2v4z\"/>\n",
              "    </g>\n",
              "</svg>\n",
              "  </button>\n",
              "\n",
              "<style>\n",
              "  .colab-df-quickchart {\n",
              "      --bg-color: #E8F0FE;\n",
              "      --fill-color: #1967D2;\n",
              "      --hover-bg-color: #E2EBFA;\n",
              "      --hover-fill-color: #174EA6;\n",
              "      --disabled-fill-color: #AAA;\n",
              "      --disabled-bg-color: #DDD;\n",
              "  }\n",
              "\n",
              "  [theme=dark] .colab-df-quickchart {\n",
              "      --bg-color: #3B4455;\n",
              "      --fill-color: #D2E3FC;\n",
              "      --hover-bg-color: #434B5C;\n",
              "      --hover-fill-color: #FFFFFF;\n",
              "      --disabled-bg-color: #3B4455;\n",
              "      --disabled-fill-color: #666;\n",
              "  }\n",
              "\n",
              "  .colab-df-quickchart {\n",
              "    background-color: var(--bg-color);\n",
              "    border: none;\n",
              "    border-radius: 50%;\n",
              "    cursor: pointer;\n",
              "    display: none;\n",
              "    fill: var(--fill-color);\n",
              "    height: 32px;\n",
              "    padding: 0;\n",
              "    width: 32px;\n",
              "  }\n",
              "\n",
              "  .colab-df-quickchart:hover {\n",
              "    background-color: var(--hover-bg-color);\n",
              "    box-shadow: 0 1px 2px rgba(60, 64, 67, 0.3), 0 1px 3px 1px rgba(60, 64, 67, 0.15);\n",
              "    fill: var(--button-hover-fill-color);\n",
              "  }\n",
              "\n",
              "  .colab-df-quickchart-complete:disabled,\n",
              "  .colab-df-quickchart-complete:disabled:hover {\n",
              "    background-color: var(--disabled-bg-color);\n",
              "    fill: var(--disabled-fill-color);\n",
              "    box-shadow: none;\n",
              "  }\n",
              "\n",
              "  .colab-df-spinner {\n",
              "    border: 2px solid var(--fill-color);\n",
              "    border-color: transparent;\n",
              "    border-bottom-color: var(--fill-color);\n",
              "    animation:\n",
              "      spin 1s steps(1) infinite;\n",
              "  }\n",
              "\n",
              "  @keyframes spin {\n",
              "    0% {\n",
              "      border-color: transparent;\n",
              "      border-bottom-color: var(--fill-color);\n",
              "      border-left-color: var(--fill-color);\n",
              "    }\n",
              "    20% {\n",
              "      border-color: transparent;\n",
              "      border-left-color: var(--fill-color);\n",
              "      border-top-color: var(--fill-color);\n",
              "    }\n",
              "    30% {\n",
              "      border-color: transparent;\n",
              "      border-left-color: var(--fill-color);\n",
              "      border-top-color: var(--fill-color);\n",
              "      border-right-color: var(--fill-color);\n",
              "    }\n",
              "    40% {\n",
              "      border-color: transparent;\n",
              "      border-right-color: var(--fill-color);\n",
              "      border-top-color: var(--fill-color);\n",
              "    }\n",
              "    60% {\n",
              "      border-color: transparent;\n",
              "      border-right-color: var(--fill-color);\n",
              "    }\n",
              "    80% {\n",
              "      border-color: transparent;\n",
              "      border-right-color: var(--fill-color);\n",
              "      border-bottom-color: var(--fill-color);\n",
              "    }\n",
              "    90% {\n",
              "      border-color: transparent;\n",
              "      border-bottom-color: var(--fill-color);\n",
              "    }\n",
              "  }\n",
              "</style>\n",
              "\n",
              "  <script>\n",
              "    async function quickchart(key) {\n",
              "      const quickchartButtonEl =\n",
              "        document.querySelector('#' + key + ' button');\n",
              "      quickchartButtonEl.disabled = true;  // To prevent multiple clicks.\n",
              "      quickchartButtonEl.classList.add('colab-df-spinner');\n",
              "      try {\n",
              "        const charts = await google.colab.kernel.invokeFunction(\n",
              "            'suggestCharts', [key], {});\n",
              "      } catch (error) {\n",
              "        console.error('Error during call to suggestCharts:', error);\n",
              "      }\n",
              "      quickchartButtonEl.classList.remove('colab-df-spinner');\n",
              "      quickchartButtonEl.classList.add('colab-df-quickchart-complete');\n",
              "    }\n",
              "    (() => {\n",
              "      let quickchartButtonEl =\n",
              "        document.querySelector('#df-6e665060-b840-40fb-8a42-06e353073843 button');\n",
              "      quickchartButtonEl.style.display =\n",
              "        google.colab.kernel.accessAllowed ? 'block' : 'none';\n",
              "    })();\n",
              "  </script>\n",
              "</div>\n",
              "    </div>\n",
              "  </div>\n"
            ],
            "text/plain": [
              "                    cols       imp\n",
              "14       transactiondate  0.996253\n",
              "16  transactionDayofweek  0.001673\n",
              "10        transactionDay  0.001005\n",
              "1              taxamount  0.000206\n",
              "9            regionidzip  0.000110\n",
              "3               latitude  0.000095"
            ]
          },
          "execution_count": 105,
          "metadata": {},
          "output_type": "execute_result"
        }
      ],
      "source": [
        "m = rf(df_dom, is_valid)\n",
        "rf_feat_importance(m, df_dom)[:6]"
      ]
    },
    {
      "cell_type": "markdown",
      "metadata": {
        "id": "lj1KBhDahD3D"
      },
      "source": [
        "Of course `transactiondate` is different between the two sets---that was done intentionally to match the way the competition splits training and test data. The next two most important features are relatively unimportant, but I'll still remove each of the three and see if it improves the model:"
      ]
    },
    {
      "cell_type": "code",
      "execution_count": 106,
      "metadata": {
        "colab": {
          "base_uri": "https://localhost:8080/"
        },
        "id": "Wx-VTQCBhxQi",
        "outputId": "2fe4c134-89b0-4361-84d0-7af62233ec0e"
      },
      "outputs": [
        {
          "name": "stdout",
          "output_type": "stream",
          "text": [
            "orig 0.07414874259938188\n",
            "transactiondate 0.07169995892420085\n",
            "transactionDayofweek 0.07419470238304429\n",
            "transactionDay 0.07380756091486504\n"
          ]
        }
      ],
      "source": [
        "# baseline\n",
        "m = rf(xs_final, y)\n",
        "print('orig', m_mae(m, valid_xs_final, valid_y))\n",
        "\n",
        "for c in ('transactiondate', 'transactionDayofweek', 'transactionDay'):\n",
        "  m = rf(xs_final.drop(c, axis=1), y)\n",
        "  print(c, m_mae(m, valid_xs_final.drop(c,axis=1), valid_y))"
      ]
    },
    {
      "cell_type": "markdown",
      "metadata": {
        "id": "4F2jNwLiifxB"
      },
      "source": [
        "I'll remove `transactiondate` and `transactionDay`, which should reduce the error."
      ]
    },
    {
      "cell_type": "code",
      "execution_count": 107,
      "metadata": {
        "colab": {
          "base_uri": "https://localhost:8080/"
        },
        "id": "Nl1cNVPDjRo1",
        "outputId": "dcc8c57f-52ae-49b8-a35c-9ec1d65fcbfc"
      },
      "outputs": [
        {
          "data": {
            "text/plain": [
              "0.07191006179240521"
            ]
          },
          "execution_count": 107,
          "metadata": {},
          "output_type": "execute_result"
        }
      ],
      "source": [
        "time_vars = ['transactiondate', 'transactionDay']\n",
        "xs_final_time = xs_final.drop(time_vars, axis=1)\n",
        "valid_xs_time = valid_xs_final.drop(time_vars, axis=1)\n",
        "\n",
        "m = rf(xs_final_time, y)\n",
        "m_mae(m, valid_xs_time, valid_y)"
      ]
    },
    {
      "cell_type": "code",
      "execution_count": 108,
      "metadata": {
        "colab": {
          "base_uri": "https://localhost:8080/"
        },
        "id": "2QEWORnrj3LP",
        "outputId": "bd258707-b541-4329-b768-17104311c371"
      },
      "outputs": [
        {
          "data": {
            "text/plain": [
              "0.9698082431542766"
            ]
          },
          "execution_count": 108,
          "metadata": {},
          "output_type": "execute_result"
        }
      ],
      "source": [
        "0.07191006179240521/0.07414874259938188"
      ]
    },
    {
      "cell_type": "markdown",
      "metadata": {
        "id": "OtFmuAv1j6Zh"
      },
      "source": [
        "Great! My error decreased by about 3%."
      ]
    },
    {
      "cell_type": "markdown",
      "metadata": {
        "id": "zzg3RQmKkw_j"
      },
      "source": [
        "At this point in the textbook they train the model on recent years' data. For this dataset, all of the data comes from the same year so it doesn't make sense to do the same."
      ]
    },
    {
      "cell_type": "markdown",
      "metadata": {
        "id": "JI1aRW_gUM9m"
      },
      "source": [
        "## Using a Neural Network"
      ]
    },
    {
      "cell_type": "code",
      "execution_count": 116,
      "metadata": {
        "id": "o7dXwkHlUON2"
      },
      "outputs": [],
      "source": [
        "df_nn = pd.read_csv(path/'train_2016_v2.csv', low_memory=False)\n",
        "df_nn = df_nn.merge(properties_2016, how='left', left_on='parcelid', right_on='parcelid')\n",
        "df_nn['transactiondate'] = pd.to_datetime(df_nn['transactiondate'])\n",
        "df_nn = add_datepart(df_nn, 'transactiondate')"
      ]
    },
    {
      "cell_type": "code",
      "execution_count": 117,
      "metadata": {
        "id": "U382XYkPm21L"
      },
      "outputs": [],
      "source": [
        "df_nn_final = df_nn[list(xs_final_time.columns) + [dep_var]]"
      ]
    },
    {
      "cell_type": "code",
      "execution_count": 118,
      "metadata": {
        "colab": {
          "base_uri": "https://localhost:8080/"
        },
        "id": "c8UqqXSSnRCO",
        "outputId": "676f8f2c-416d-458c-cec5-5a6e034d27e1"
      },
      "outputs": [
        {
          "data": {
            "text/plain": [
              "((85670, 20), (90275, 21))"
            ]
          },
          "execution_count": 118,
          "metadata": {},
          "output_type": "execute_result"
        }
      ],
      "source": [
        "xs_final_time.shape, df_nn_final.shape"
      ]
    },
    {
      "cell_type": "code",
      "execution_count": 120,
      "metadata": {
        "id": "jrkKWtP2na8m"
      },
      "outputs": [],
      "source": [
        "cont_nn, cat_nn = cont_cat_split(df_nn_final, max_card=9000, dep_var=dep_var)"
      ]
    },
    {
      "cell_type": "code",
      "execution_count": 125,
      "metadata": {
        "colab": {
          "base_uri": "https://localhost:8080/"
        },
        "id": "yblWe7OAncsr",
        "outputId": "d8b1cba2-dfd3-4da1-da85-7f8e21989dcd"
      },
      "outputs": [
        {
          "data": {
            "text/plain": [
              "propertyzoningdesc           1996\n",
              "transactionDayofweek            7\n",
              "propertycountylandusecode      77\n",
              "dtype: int64"
            ]
          },
          "execution_count": 125,
          "metadata": {},
          "output_type": "execute_result"
        }
      ],
      "source": [
        "# look at cardinality\n",
        "df_nn_final[cat_nn].nunique()"
      ]
    },
    {
      "cell_type": "code",
      "execution_count": 124,
      "metadata": {
        "colab": {
          "base_uri": "https://localhost:8080/"
        },
        "id": "YFmLx8AZn0I9",
        "outputId": "97309c3c-2096-4855-f8f6-39c9fe72c8e3"
      },
      "outputs": [
        {
          "data": {
            "text/plain": [
              "structuretaxvaluedollarcnt      55450\n",
              "taxamount                       85110\n",
              "lotsizesquarefeet               20016\n",
              "latitude                        73312\n",
              "landtaxvaluedollarcnt           57066\n",
              "calculatedfinishedsquarefeet     5102\n",
              "yearbuilt                         130\n",
              "parcelid                        90150\n",
              "longitude                       71900\n",
              "regionidzip                       388\n",
              "censustractandblock             42398\n",
              "regionidcity                      177\n",
              "regionidneighborhood              494\n",
              "finishedsquarefeet15             1915\n",
              "bedroomcnt                         17\n",
              "garagetotalsqft                   870\n",
              "bathroomcnt                        23\n",
              "dtype: int64"
            ]
          },
          "execution_count": 124,
          "metadata": {},
          "output_type": "execute_result"
        }
      ],
      "source": [
        "# look at cardinality\n",
        "df_nn_final[cont_nn].nunique()"
      ]
    },
    {
      "cell_type": "markdown",
      "metadata": {
        "id": "f4O3jOsCnqRs"
      },
      "source": [
        "Some of the continuous variables are categorical in nature (`latitude`, `censustractandblock`, etc.) but have very high cardinality (tens of thousands) so instead of creating very large embeddings, I'll keep them as continuous variables.\n",
        "\n",
        "Some of the other variables that `cont_cat_split` has determined to be continuous have a relatively small cardinality (`regionidzip`, `regionidcity`, and `regionidneighborhood`) so I'll move those over to `cat_nn`."
      ]
    },
    {
      "cell_type": "code",
      "execution_count": 129,
      "metadata": {
        "id": "jypIaxwlpzHe"
      },
      "outputs": [],
      "source": [
        "cont_nn.remove('regionidzip')\n",
        "cont_nn.remove('regionidcity')\n",
        "cont_nn.remove('regionidneighborhood')\n",
        "\n",
        "cat_nn.append('regionidzip')\n",
        "cat_nn.append('regionidcity')\n",
        "cat_nn.append('regionidneighborhood')"
      ]
    },
    {
      "cell_type": "code",
      "execution_count": 130,
      "metadata": {
        "colab": {
          "base_uri": "https://localhost:8080/"
        },
        "id": "54IyVc0oqieN",
        "outputId": "20dee445-d9fd-4121-b476-fcb0b809da19"
      },
      "outputs": [
        {
          "data": {
            "text/plain": [
              "propertyzoningdesc           1996\n",
              "transactionDayofweek            7\n",
              "propertycountylandusecode      77\n",
              "regionidzip                   388\n",
              "regionidcity                  177\n",
              "regionidneighborhood          494\n",
              "dtype: int64"
            ]
          },
          "execution_count": 130,
          "metadata": {},
          "output_type": "execute_result"
        }
      ],
      "source": [
        "df_nn_final[cat_nn].nunique()"
      ]
    },
    {
      "cell_type": "code",
      "execution_count": 131,
      "metadata": {
        "colab": {
          "base_uri": "https://localhost:8080/"
        },
        "id": "lS_uFJgRqliE",
        "outputId": "5510f5b3-1f70-4612-87d6-0d60b19cc48f"
      },
      "outputs": [
        {
          "data": {
            "text/plain": [
              "structuretaxvaluedollarcnt      55450\n",
              "taxamount                       85110\n",
              "lotsizesquarefeet               20016\n",
              "latitude                        73312\n",
              "landtaxvaluedollarcnt           57066\n",
              "calculatedfinishedsquarefeet     5102\n",
              "yearbuilt                         130\n",
              "parcelid                        90150\n",
              "longitude                       71900\n",
              "censustractandblock             42398\n",
              "finishedsquarefeet15             1915\n",
              "bedroomcnt                         17\n",
              "garagetotalsqft                   870\n",
              "bathroomcnt                        23\n",
              "dtype: int64"
            ]
          },
          "execution_count": 131,
          "metadata": {},
          "output_type": "execute_result"
        }
      ],
      "source": [
        "df_nn_final[cont_nn].nunique()"
      ]
    },
    {
      "cell_type": "markdown",
      "metadata": {
        "id": "pG5irJCxqqHM"
      },
      "source": [
        "I can now go ahead and build a `TabularPandas` object:"
      ]
    },
    {
      "cell_type": "code",
      "execution_count": 132,
      "metadata": {
        "id": "SxFhatNGq-Lj"
      },
      "outputs": [],
      "source": [
        "procs_nn = [Categorify, FillMissing, Normalize]\n",
        "to_nn = TabularPandas(df_nn_final, procs_nn, cat_nn, cont_nn, splits=splits, y_names=dep_var)"
      ]
    },
    {
      "cell_type": "markdown",
      "metadata": {
        "id": "nmHb-wAjrGJu"
      },
      "source": [
        "and `DataLoaders`:"
      ]
    },
    {
      "cell_type": "code",
      "execution_count": 133,
      "metadata": {
        "id": "uDb0tb_XrCOT"
      },
      "outputs": [],
      "source": [
        "dls = to_nn.dataloaders(1024)"
      ]
    },
    {
      "cell_type": "markdown",
      "metadata": {
        "id": "BYRAHGOtrJnW"
      },
      "source": [
        "Define the `y_range` for regression:"
      ]
    },
    {
      "cell_type": "code",
      "execution_count": 134,
      "metadata": {
        "colab": {
          "base_uri": "https://localhost:8080/"
        },
        "id": "vzseKeMBrJyY",
        "outputId": "8f8e01b3-4e10-4b40-b430-521e05b4b41a"
      },
      "outputs": [
        {
          "data": {
            "text/plain": [
              "(-4.605, 4.737)"
            ]
          },
          "execution_count": 134,
          "metadata": {},
          "output_type": "execute_result"
        }
      ],
      "source": [
        "y = to_nn.train.y\n",
        "y.min(), y.max()"
      ]
    },
    {
      "cell_type": "markdown",
      "metadata": {
        "id": "hBw43IHhrRrz"
      },
      "source": [
        "And train the neural net (I'm using the same number of `layers` as they did in the textbook):"
      ]
    },
    {
      "cell_type": "code",
      "execution_count": 135,
      "metadata": {
        "colab": {
          "base_uri": "https://localhost:8080/",
          "height": 472
        },
        "id": "_-ZLMZ39rTqf",
        "outputId": "33c30dad-31c0-4e5a-9066-dcb6962f32c8"
      },
      "outputs": [
        {
          "data": {
            "text/html": [
              "\n",
              "<style>\n",
              "    /* Turns off some styling */\n",
              "    progress {\n",
              "        /* gets rid of default border in Firefox and Opera. */\n",
              "        border: none;\n",
              "        /* Needs to be in here for Safari polyfill so background images work as expected. */\n",
              "        background-size: auto;\n",
              "    }\n",
              "    progress:not([value]), progress:not([value])::-webkit-progress-bar {\n",
              "        background: repeating-linear-gradient(45deg, #7e7e7e, #7e7e7e 10px, #5c5c5c 10px, #5c5c5c 20px);\n",
              "    }\n",
              "    .progress-bar-interrupted, .progress-bar-interrupted::-webkit-progress-bar {\n",
              "        background: #F44336;\n",
              "    }\n",
              "</style>\n"
            ],
            "text/plain": [
              "<IPython.core.display.HTML object>"
            ]
          },
          "metadata": {},
          "output_type": "display_data"
        },
        {
          "data": {
            "text/html": [],
            "text/plain": [
              "<IPython.core.display.HTML object>"
            ]
          },
          "metadata": {},
          "output_type": "display_data"
        },
        {
          "data": {
            "text/plain": [
              "SuggestedLRs(valley=0.00019054606673307717)"
            ]
          },
          "execution_count": 135,
          "metadata": {},
          "output_type": "execute_result"
        },
        {
          "data": {
            "image/png": "[encoded data removed]",
            "text/plain": [
              "<Figure size 640x480 with 1 Axes>"
            ]
          },
          "metadata": {},
          "output_type": "display_data"
        }
      ],
      "source": [
        "from fastai.tabular.all import *\n",
        "learn = tabular_learner(dls, y_range=(-5,5), layers=[500,250],\n",
        "                        n_out=1, loss_func=F.mse_loss)\n",
        "\n",
        "learn.lr_find()"
      ]
    },
    {
      "cell_type": "markdown",
      "metadata": {
        "id": "zvoJx74arfp6"
      },
      "source": [
        "The loss curve looks stable and reasonable so I'll go ahead and use the suggested valley learning rate."
      ]
    },
    {
      "cell_type": "code",
      "execution_count": 136,
      "metadata": {
        "colab": {
          "base_uri": "https://localhost:8080/",
          "height": 206
        },
        "id": "Jm1OLCZRrrAq",
        "outputId": "6505617c-5f12-4566-bef6-aa9241654334"
      },
      "outputs": [
        {
          "data": {
            "text/html": [
              "\n",
              "<style>\n",
              "    /* Turns off some styling */\n",
              "    progress {\n",
              "        /* gets rid of default border in Firefox and Opera. */\n",
              "        border: none;\n",
              "        /* Needs to be in here for Safari polyfill so background images work as expected. */\n",
              "        background-size: auto;\n",
              "    }\n",
              "    progress:not([value]), progress:not([value])::-webkit-progress-bar {\n",
              "        background: repeating-linear-gradient(45deg, #7e7e7e, #7e7e7e 10px, #5c5c5c 10px, #5c5c5c 20px);\n",
              "    }\n",
              "    .progress-bar-interrupted, .progress-bar-interrupted::-webkit-progress-bar {\n",
              "        background: #F44336;\n",
              "    }\n",
              "</style>\n"
            ],
            "text/plain": [
              "<IPython.core.display.HTML object>"
            ]
          },
          "metadata": {},
          "output_type": "display_data"
        },
        {
          "data": {
            "text/html": [
              "<table border=\"1\" class=\"dataframe\">\n",
              "  <thead>\n",
              "    <tr style=\"text-align: left;\">\n",
              "      <th>epoch</th>\n",
              "      <th>train_loss</th>\n",
              "      <th>valid_loss</th>\n",
              "      <th>time</th>\n",
              "    </tr>\n",
              "  </thead>\n",
              "  <tbody>\n",
              "    <tr>\n",
              "      <td>0</td>\n",
              "      <td>0.295388</td>\n",
              "      <td>0.082879</td>\n",
              "      <td>00:07</td>\n",
              "    </tr>\n",
              "    <tr>\n",
              "      <td>1</td>\n",
              "      <td>0.101962</td>\n",
              "      <td>0.052496</td>\n",
              "      <td>00:04</td>\n",
              "    </tr>\n",
              "    <tr>\n",
              "      <td>2</td>\n",
              "      <td>0.059026</td>\n",
              "      <td>0.042152</td>\n",
              "      <td>00:05</td>\n",
              "    </tr>\n",
              "    <tr>\n",
              "      <td>3</td>\n",
              "      <td>0.044456</td>\n",
              "      <td>0.038492</td>\n",
              "      <td>00:04</td>\n",
              "    </tr>\n",
              "    <tr>\n",
              "      <td>4</td>\n",
              "      <td>0.038725</td>\n",
              "      <td>0.038634</td>\n",
              "      <td>00:05</td>\n",
              "    </tr>\n",
              "  </tbody>\n",
              "</table>"
            ],
            "text/plain": [
              "<IPython.core.display.HTML object>"
            ]
          },
          "metadata": {},
          "output_type": "display_data"
        }
      ],
      "source": [
        "learn.fit_one_cycle(5, 2e-4)"
      ]
    },
    {
      "cell_type": "markdown",
      "metadata": {
        "id": "3t5s2oBTr0qL"
      },
      "source": [
        "The validation loss increases between the 4th and 5th epoch so the model is starting to overfit."
      ]
    },
    {
      "cell_type": "code",
      "execution_count": 138,
      "metadata": {
        "colab": {
          "base_uri": "https://localhost:8080/",
          "height": 35
        },
        "id": "zsP4A66ksCo0",
        "outputId": "49446601-64bc-45a1-ea30-b347930abf30"
      },
      "outputs": [
        {
          "data": {
            "text/html": [
              "\n",
              "<style>\n",
              "    /* Turns off some styling */\n",
              "    progress {\n",
              "        /* gets rid of default border in Firefox and Opera. */\n",
              "        border: none;\n",
              "        /* Needs to be in here for Safari polyfill so background images work as expected. */\n",
              "        background-size: auto;\n",
              "    }\n",
              "    progress:not([value]), progress:not([value])::-webkit-progress-bar {\n",
              "        background: repeating-linear-gradient(45deg, #7e7e7e, #7e7e7e 10px, #5c5c5c 10px, #5c5c5c 20px);\n",
              "    }\n",
              "    .progress-bar-interrupted, .progress-bar-interrupted::-webkit-progress-bar {\n",
              "        background: #F44336;\n",
              "    }\n",
              "</style>\n"
            ],
            "text/plain": [
              "<IPython.core.display.HTML object>"
            ]
          },
          "metadata": {},
          "output_type": "display_data"
        },
        {
          "data": {
            "text/html": [],
            "text/plain": [
              "<IPython.core.display.HTML object>"
            ]
          },
          "metadata": {},
          "output_type": "display_data"
        },
        {
          "data": {
            "text/plain": [
              "0.11708459258079529"
            ]
          },
          "execution_count": 138,
          "metadata": {},
          "output_type": "execute_result"
        }
      ],
      "source": [
        "preds, targs = learn.get_preds()\n",
        "mae(preds, targs).item()"
      ]
    },
    {
      "cell_type": "code",
      "execution_count": 139,
      "metadata": {
        "colab": {
          "base_uri": "https://localhost:8080/"
        },
        "id": "fMd8iWJTsQ9p",
        "outputId": "60a75607-d558-4b08-e426-8f49d6514537"
      },
      "outputs": [
        {
          "data": {
            "text/plain": [
              "1.5714285714285714"
            ]
          },
          "execution_count": 139,
          "metadata": {},
          "output_type": "execute_result"
        }
      ],
      "source": [
        "0.11/0.07"
      ]
    },
    {
      "cell_type": "markdown",
      "metadata": {
        "id": "VUprK_8wsFNS"
      },
      "source": [
        "The mean absolute error of the neural net predictions is about 60% larger than my random forest!"
      ]
    },
    {
      "cell_type": "markdown",
      "metadata": {
        "id": "wJ1jbtM-URk1"
      },
      "source": [
        "## Ensembling"
      ]
    },
    {
      "cell_type": "markdown",
      "metadata": {
        "id": "1ur6JEjOsfAC"
      },
      "source": [
        "The final part of this exercise is ensembling the predictions between my random forest and my neural net, and seeing how the error compares."
      ]
    },
    {
      "cell_type": "code",
      "execution_count": 140,
      "metadata": {
        "id": "IiwlVWjzUSfe"
      },
      "outputs": [],
      "source": [
        "rf_preds = m.predict(valid_xs_time)\n",
        "ens_preds = (to_np(preds.squeeze()) + rf_preds) / 2"
      ]
    },
    {
      "cell_type": "code",
      "execution_count": 147,
      "metadata": {
        "id": "5PWiZYQss6Ip"
      },
      "outputs": [],
      "source": [
        "def mae(pred, y): return (pred - y).abs().mean()"
      ]
    },
    {
      "cell_type": "code",
      "execution_count": 148,
      "metadata": {
        "colab": {
          "base_uri": "https://localhost:8080/"
        },
        "id": "G8Q_IUwWs1S_",
        "outputId": "9b6e5317-d2bb-43e9-bde1-3f7e75db6260"
      },
      "outputs": [
        {
          "data": {
            "text/plain": [
              "0.08611476519897165"
            ]
          },
          "execution_count": 148,
          "metadata": {},
          "output_type": "execute_result"
        }
      ],
      "source": [
        "mae(ens_preds, valid_y)"
      ]
    },
    {
      "cell_type": "markdown",
      "metadata": {
        "id": "5r2N5e0_tnRq"
      },
      "source": [
        "While smaller than my neural net's error, this error is still significantly larger than my random forest."
      ]
    },
    {
      "cell_type": "markdown",
      "metadata": {
        "id": "lRizeWnpUTww"
      },
      "source": [
        "## Final Thoughts"
      ]
    },
    {
      "cell_type": "markdown",
      "metadata": {
        "id": "t-w3iFk4unWM"
      },
      "source": [
        "This was a really enjoyable exercise. I had a lot of fun working through the textbook's process using a different dataset. There were many similarities (time-related variables were causing out-of-domain issues for the validation set) and differences (my neural net performed worse than my random forest, while in the chapter the results were flipped).\n",
        "\n",
        "I noticed as I was re-running the code in this notebook that there were slight differences each time I created my random forest. For example, sometimes `parcelid` was the 11th-most important feature, other times it was in the top 10. There were also different redundant features for each model run. Is this normal and expected? Or is there something about this data which makes the modeling process less consistent?\n",
        "\n",
        "I'll end by summarizing my models' results again, noting that my random forest beat the first place entry in the private leaderboard (which had an error of 0.074):\n",
        "\n",
        "|Model|Mean Absolute Error|\n",
        "|:-:|:-:|\n",
        "|Random Forest|0.072|\n",
        "|Neural Net|0.117|\n",
        "|Ensemble of both|0.086|\n",
        "\n",
        "I hope you enjoyed this blog post!"
      ]
    }
  ],
  "metadata": {
    "colab": {
      "provenance": [],
      "toc_visible": true
    },
    "kernelspec": {
      "display_name": "Python 3",
      "name": "python3"
    },
    "language_info": {
      "name": "python"
    }
  },
  "nbformat": 4,
  "nbformat_minor": 0
}

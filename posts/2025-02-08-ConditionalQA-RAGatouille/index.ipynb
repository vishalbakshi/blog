{
  "cells": [
    {
      "cell_type": "raw",
      "metadata": {
        "vscode": {
          "languageId": "raw"
        }
      },
      "source": [
        "---\n",
        "title: Evaluating the DAPR ConditionalQA Dataset with RAGatouille\n",
        "date: \"2025-02-08\"\n",
        "author: Vishal Bakshi\n",
        "description: I calculate the Recall@10 metric for answerai-colbert-small-v1 retrieval (via RAGatouille) on the ConditionalQA dataset (via UKPLab/DAPR dataset) using the pytrec and ranx libraries.\n",
        "filters:\n",
        "   - lightbox\n",
        "lightbox: auto\n",
        "categories:\n",
        "    - python\n",
        "    - information retrieval\n",
        "    - deep learning\n",
        "---"
      ]
    },
    {
      "cell_type": "markdown",
      "metadata": {
        "id": "_Ik9zcyWfgK9"
      },
      "source": [
        "## Setup"
      ]
    },
    {
      "cell_type": "code",
      "execution_count": null,
      "metadata": {
        "id": "n1W5rFHGOQai"
      },
      "outputs": [],
      "source": [
        "!pip install datasets ragatouille pytrec_eval ranx"
      ]
    },
    {
      "cell_type": "code",
      "execution_count": 1,
      "metadata": {
        "id": "eJAG0KOcOgzI"
      },
      "outputs": [],
      "source": [
        "from datasets import load_dataset\n",
        "from ragatouille import RAGPretrainedModel\n",
        "\n",
        "import numpy as np\n",
        "import pandas as pd\n",
        "\n",
        "import pytrec_eval\n",
        "from ranx import evaluate\n",
        "from ranx import Qrels, Run"
      ]
    },
    {
      "cell_type": "markdown",
      "metadata": {
        "id": "U6SNxRjzfv9T"
      },
      "source": [
        "## Background"
      ]
    },
    {
      "cell_type": "markdown",
      "metadata": {
        "id": "s5c1KxHBfw67"
      },
      "source": [
        "I wanted to get familiar with classic information retrieval datasets, especially those with explicit documents. I searched with Perplexity and ChatGPT and came across [DAPR: Document-Aware Passage Retrieval](https://huggingface.co/datasets/UKPLab/dapr) which sounded perfect for my use case.\n",
        "\n",
        "In this blog post I'll work through evaluating the test split of the _ConditionalQA_ dataset in DAPR using RAGatouille and the `answerai-colbert-small-v1` model for retrieval and the pytrec and ranx libraries for evaluation. I'll use the simple Recall@10 metric as it's the easiest to manually check."
      ]
    },
    {
      "cell_type": "markdown",
      "metadata": {
        "id": "RwMGtldNgvJ0"
      },
      "source": [
        "## Load and View Data"
      ]
    },
    {
      "cell_type": "markdown",
      "metadata": {
        "id": "WxU_Gq9XPQBq"
      },
      "source": [
        "Here are the three datasets we are going to use for this evaluation:\n",
        "\n",
        "- `ConditionalQA-corpus`, our _passages_\n",
        "- `ConditionalQA_queries`, our _queries_\n",
        "- and `ConditionalQA_qrels`, the mapping between queries and passages."
      ]
    },
    {
      "cell_type": "code",
      "execution_count": 3,
      "metadata": {
        "colab": {
          "base_uri": "https://localhost:8080/"
        },
        "id": "3XlgNeMBOi0c",
        "outputId": "ceab6651-e1f3-4b5a-8373-82e45f396356"
      },
      "outputs": [
        {
          "data": {
            "text/plain": [
              "Dataset({\n",
              "    features: ['_id', 'text', 'title', 'doc_id', 'paragraph_no', 'total_paragraphs', 'is_candidate'],\n",
              "    num_rows: 69199\n",
              "})"
            ]
          },
          "execution_count": 3,
          "metadata": {},
          "output_type": "execute_result"
        }
      ],
      "source": [
        "passages = load_dataset(\"UKPLab/dapr\", \"ConditionalQA-corpus\", split=\"test\")\n",
        "passages"
      ]
    },
    {
      "cell_type": "code",
      "execution_count": 4,
      "metadata": {
        "colab": {
          "base_uri": "https://localhost:8080/"
        },
        "id": "t0IT62wdOkUS",
        "outputId": "e8490f49-f5ff-4825-d72d-1f7ea5e95830"
      },
      "outputs": [
        {
          "data": {
            "text/plain": [
              "{'_id': '0-0',\n",
              " 'text': 'Overview',\n",
              " 'title': 'Child Tax Credit',\n",
              " 'doc_id': '0',\n",
              " 'paragraph_no': 0,\n",
              " 'total_paragraphs': 77,\n",
              " 'is_candidate': True}"
            ]
          },
          "execution_count": 4,
          "metadata": {},
          "output_type": "execute_result"
        }
      ],
      "source": [
        "passages[0]"
      ]
    },
    {
      "cell_type": "code",
      "execution_count": 6,
      "metadata": {
        "colab": {
          "base_uri": "https://localhost:8080/"
        },
        "id": "iFKTjAKSOmXj",
        "outputId": "b8182782-913d-452c-9309-cf3619b76b74"
      },
      "outputs": [
        {
          "data": {
            "text/plain": [
              "Dataset({\n",
              "    features: ['_id', 'text'],\n",
              "    num_rows: 271\n",
              "})"
            ]
          },
          "execution_count": 6,
          "metadata": {},
          "output_type": "execute_result"
        }
      ],
      "source": [
        "queries = load_dataset(\"UKPLab/dapr\", \"ConditionalQA-queries\", split=\"test\")\n",
        "queries"
      ]
    },
    {
      "cell_type": "code",
      "execution_count": 7,
      "metadata": {
        "colab": {
          "base_uri": "https://localhost:8080/"
        },
        "id": "rJDT0tP-OodE",
        "outputId": "d6c6b29f-4247-4d08-a3c2-0127dfbd2976"
      },
      "outputs": [
        {
          "data": {
            "text/plain": [
              "{'_id': 'dev-0',\n",
              " 'text': 'My brother and his wife are in prison for carrying out a large fraud scheme. Their 7 and 8 year old children have been living with me for the last 4 years. I want to become their Special Guardian to look after them permanently How long will it be before I hear back from the court?'}"
            ]
          },
          "execution_count": 7,
          "metadata": {},
          "output_type": "execute_result"
        }
      ],
      "source": [
        "queries[0]"
      ]
    },
    {
      "cell_type": "code",
      "execution_count": 9,
      "metadata": {
        "colab": {
          "base_uri": "https://localhost:8080/"
        },
        "id": "xjYCjPnhO78I",
        "outputId": "3143c688-ff8e-4d82-c86f-45cc6a5740c6"
      },
      "outputs": [
        {
          "data": {
            "text/plain": [
              "Dataset({\n",
              "    features: ['query_id', 'corpus_id', 'score'],\n",
              "    num_rows: 1165\n",
              "})"
            ]
          },
          "execution_count": 9,
          "metadata": {},
          "output_type": "execute_result"
        }
      ],
      "source": [
        "qrels_rows = load_dataset(\"UKPLab/dapr\", \"ConditionalQA-qrels\", split=\"test\")\n",
        "qrels_rows"
      ]
    },
    {
      "cell_type": "code",
      "execution_count": 10,
      "metadata": {
        "colab": {
          "base_uri": "https://localhost:8080/"
        },
        "id": "mqe5OYkMO-ha",
        "outputId": "4f02605d-6926-402d-a9fa-d64c632e8d45"
      },
      "outputs": [
        {
          "data": {
            "text/plain": [
              "{'query_id': 'dev-0', 'corpus_id': '86-41', 'score': 1}"
            ]
          },
          "execution_count": 10,
          "metadata": {},
          "output_type": "execute_result"
        }
      ],
      "source": [
        "qrels_rows[0]"
      ]
    },
    {
      "cell_type": "markdown",
      "metadata": {
        "id": "Cw6L9xDiPSxs"
      },
      "source": [
        "Load `answerai-colbert-small-v1`:"
      ]
    },
    {
      "cell_type": "code",
      "execution_count": 12,
      "metadata": {
        "colab": {
          "base_uri": "https://localhost:8080/"
        },
        "id": "4MfPf9VAPCSJ",
        "outputId": "26b62465-2651-46fc-dd7c-b2d4f18cbf11"
      },
      "outputs": [
        {
          "data": {
            "text/plain": [
              "<ragatouille.RAGPretrainedModel.RAGPretrainedModel at 0x7e5328fdced0>"
            ]
          },
          "execution_count": 12,
          "metadata": {},
          "output_type": "execute_result"
        }
      ],
      "source": [
        "RAG = RAGPretrainedModel.from_pretrained(\"answerdotai/answerai-colbert-small-v1\")\n",
        "RAG"
      ]
    },
    {
      "cell_type": "markdown",
      "metadata": {
        "id": "lO0vNXahPar0"
      },
      "source": [
        "Structure the passages for indexing:"
      ]
    },
    {
      "cell_type": "code",
      "execution_count": 13,
      "metadata": {
        "colab": {
          "base_uri": "https://localhost:8080/"
        },
        "id": "UjJseQY4PFKp",
        "outputId": "0a932d5e-c59b-4730-c312-b1fdbecf20c7"
      },
      "outputs": [
        {
          "data": {
            "text/plain": [
              "{'_id': ['0-0', '0-1', '0-2', '0-3', '0-4'],\n",
              " 'text': ['Overview',\n",
              "  'You can only make a claim for Child Tax Credit if you already get Working Tax Credit.',\n",
              "  'If you cannot apply for Child Tax Credit, you can apply for Universal Credit instead.',\n",
              "  'You might be able to apply for Pension Credit if you and your partner are State Pension age or over.',\n",
              "  'What you’ll get'],\n",
              " 'title': ['Child Tax Credit',\n",
              "  'Child Tax Credit',\n",
              "  'Child Tax Credit',\n",
              "  'Child Tax Credit',\n",
              "  'Child Tax Credit'],\n",
              " 'doc_id': ['0', '0', '0', '0', '0'],\n",
              " 'paragraph_no': [0, 1, 2, 3, 4],\n",
              " 'total_paragraphs': [77, 77, 77, 77, 77],\n",
              " 'is_candidate': [True, True, True, True, True]}"
            ]
          },
          "execution_count": 13,
          "metadata": {},
          "output_type": "execute_result"
        }
      ],
      "source": [
        "passages[:5]"
      ]
    },
    {
      "cell_type": "code",
      "execution_count": 14,
      "metadata": {
        "colab": {
          "base_uri": "https://localhost:8080/"
        },
        "id": "HK7IkIx9PHaB",
        "outputId": "06d8e8e2-5646-4526-a747-90b40a622637"
      },
      "outputs": [
        {
          "data": {
            "text/plain": [
              "['Overview',\n",
              " 'You can only make a claim for Child Tax Credit if you already get Working Tax Credit.',\n",
              " 'If you cannot apply for Child Tax Credit, you can apply for Universal Credit instead.',\n",
              " 'You might be able to apply for Pension Credit if you and your partner are State Pension age or over.',\n",
              " 'What you’ll get']"
            ]
          },
          "execution_count": 14,
          "metadata": {},
          "output_type": "execute_result"
        }
      ],
      "source": [
        "passage_texts = [p['text'] for p in passages]\n",
        "passage_texts[:5]"
      ]
    },
    {
      "cell_type": "code",
      "execution_count": 15,
      "metadata": {
        "colab": {
          "base_uri": "https://localhost:8080/"
        },
        "id": "1D26T8FsPHnZ",
        "outputId": "5b1b49c9-3b17-460c-a60d-4219b7ab425e"
      },
      "outputs": [
        {
          "data": {
            "text/plain": [
              "['0-0', '0-1', '0-2', '0-3', '0-4']"
            ]
          },
          "execution_count": 15,
          "metadata": {},
          "output_type": "execute_result"
        }
      ],
      "source": [
        "passage_ids = [p['_id'] for p in passages]\n",
        "passage_ids[:5]"
      ]
    },
    {
      "cell_type": "markdown",
      "metadata": {
        "id": "nqP2W8ZfjAV0"
      },
      "source": [
        "## Build the index and run search"
      ]
    },
    {
      "cell_type": "code",
      "execution_count": null,
      "metadata": {
        "id": "gQIOU2TzPKps"
      },
      "outputs": [],
      "source": [
        "index_path = RAG.index(\n",
        "    index_name=\"conditionalqa_index\",\n",
        "    collection=passage_texts,\n",
        "    document_ids=passage_ids\n",
        ")"
      ]
    },
    {
      "cell_type": "markdown",
      "metadata": {
        "id": "p_9wcIRQPN0M"
      },
      "source": [
        "Taking a look at the results for a single query. Each result has a `content`, `score`, `rank`, `document_id`, and `passage_id`. Note a bit of confusing terminology: `document_id` is actually the id of the item in the `passages` dataset and `passage_id` is an identifier created by RAGatouille, unrelated to the datasets."
      ]
    },
    {
      "cell_type": "code",
      "execution_count": 18,
      "metadata": {
        "colab": {
          "base_uri": "https://localhost:8080/"
        },
        "id": "dSkylJ9bPPHb",
        "outputId": "4e79a9a3-9bc4-4613-d584-aedc0e59c16c"
      },
      "outputs": [
        {
          "data": {
            "text/plain": [
              "[{'content': 'You must advertise your claim within 14 days from the day you get a date for the first court hearing. The advert must appear in a print or online newspaper that covers the missing person’s last known usual address.',\n",
              "  'score': 70.0,\n",
              "  'rank': 1,\n",
              "  'document_id': '107-103',\n",
              "  'passage_id': 10480},\n",
              " {'content': 'The guardianship order will make you a guardian for a maximum of 4 years.',\n",
              "  'score': 70.0,\n",
              "  'rank': 2,\n",
              "  'document_id': '107-242',\n",
              "  'passage_id': 10619},\n",
              " {'content': 'You can claim joint Housing Benefit for up to 13 weeks if one of you has gone to prison and is likely to return home in 13 weeks or less - including any time on remand.',\n",
              "  'score': 69.9375,\n",
              "  'rank': 3,\n",
              "  'document_id': '8-67',\n",
              "  'passage_id': 911},\n",
              " {'content': 'The date will be either 14 or 28 days after your court hearing. If you’re in an exceptionally difficult situation, you may be able to convince the judge to delay this for up to 6 weeks.',\n",
              "  'score': 69.9375,\n",
              "  'rank': 4,\n",
              "  'document_id': '496-116',\n",
              "  'passage_id': 47939},\n",
              " {'content': 'You can claim or continue to claim joint Council Tax Reduction if your partner’s expected to be in prison for 13 weeks or less – including any time on remand.',\n",
              "  'score': 69.875,\n",
              "  'rank': 5,\n",
              "  'document_id': '8-80',\n",
              "  'passage_id': 924},\n",
              " {'content': 'Sometimes you’ll be given a 2 to 4 week period that you’ll need to keep free - this is known as a ‘warned period’ or ‘floating trial’. If this happens, you’ll be given 1 working day’s notice before you are due to go to court.',\n",
              "  'score': 69.875,\n",
              "  'rank': 6,\n",
              "  'document_id': '254-4',\n",
              "  'passage_id': 23999},\n",
              " {'content': 'Your Child Benefit payments will stop after 8 weeks if your child goes to prison or is on remand. You’ll get arrears if they’re cleared of the offence.',\n",
              "  'score': 69.8125,\n",
              "  'rank': 7,\n",
              "  'document_id': '8-116',\n",
              "  'passage_id': 960},\n",
              " {'content': 'You may be able to make a claim if you’re the dependant of someone who suffered from a dust-related disease but who has died. A dependant claim must be made within 12 months of the death of the sufferer.',\n",
              "  'score': 69.8125,\n",
              "  'rank': 8,\n",
              "  'document_id': '45-133',\n",
              "  'passage_id': 4921},\n",
              " {'content': 'You’ll be responsible for looking after the child until they’re 18 (unless the court takes your responsibility away earlier).',\n",
              "  'score': 69.8125,\n",
              "  'rank': 9,\n",
              "  'document_id': '86-2',\n",
              "  'passage_id': 8150},\n",
              " {'content': 'If it’s less than 90 days since the person went missing, explain you need the guardianship order urgently, for example, because the person is going to lose their house.',\n",
              "  'score': 69.8125,\n",
              "  'rank': 10,\n",
              "  'document_id': '107-43',\n",
              "  'passage_id': 10420}]"
            ]
          },
          "execution_count": 18,
          "metadata": {},
          "output_type": "execute_result"
        }
      ],
      "source": [
        "results = RAG.search(queries[0]['text'], k=10)\n",
        "results"
      ]
    },
    {
      "cell_type": "markdown",
      "metadata": {
        "id": "oW2FkgKDlwBa"
      },
      "source": [
        "## Evaluation"
      ]
    },
    {
      "cell_type": "markdown",
      "metadata": {
        "id": "La4Wq3jMQTYa"
      },
      "source": [
        "I'll prepare `qrels` for the pytrec evaluator as is done in the DAPR dataset card example on HF:"
      ]
    },
    {
      "cell_type": "code",
      "execution_count": 19,
      "metadata": {
        "id": "kNfddn2OQV-T"
      },
      "outputs": [],
      "source": [
        "qrels = {}\n",
        "for qrel_row in qrels_rows:\n",
        "    qid = qrel_row[\"query_id\"]\n",
        "    pid = qrel_row[\"corpus_id\"]\n",
        "    rel = qrel_row[\"score\"]\n",
        "    qrels.setdefault(qid, {})\n",
        "    qrels[qid][pid] = rel"
      ]
    },
    {
      "cell_type": "markdown",
      "metadata": {
        "id": "qkwEkNEnkjDb"
      },
      "source": [
        "`dev-5` is a query ID with multiple passages so I've chosen it as the test example:"
      ]
    },
    {
      "cell_type": "code",
      "execution_count": 20,
      "metadata": {
        "id": "hBEUJgRNSbjd"
      },
      "outputs": [],
      "source": [
        "qid = 'dev-5'"
      ]
    },
    {
      "cell_type": "code",
      "execution_count": 21,
      "metadata": {
        "colab": {
          "base_uri": "https://localhost:8080/"
        },
        "id": "m998Yf74Qt6e",
        "outputId": "0cab7461-acd2-49c9-f942-456f2daae9a3"
      },
      "outputs": [
        {
          "data": {
            "text/plain": [
              "{'61-1': 1, '61-4': 1, '61-5': 1, '61-17': 1, '61-37': 1, '61-39': 1}"
            ]
          },
          "execution_count": 21,
          "metadata": {},
          "output_type": "execute_result"
        }
      ],
      "source": [
        "qrels[qid]"
      ]
    },
    {
      "cell_type": "code",
      "execution_count": 22,
      "metadata": {
        "colab": {
          "base_uri": "https://localhost:8080/"
        },
        "id": "XlUONqaeRYvM",
        "outputId": "fcb898ec-c639-4b1a-bb0c-69cf15d6fcfe"
      },
      "outputs": [
        {
          "data": {
            "text/plain": [
              "{}"
            ]
          },
          "execution_count": 22,
          "metadata": {},
          "output_type": "execute_result"
        }
      ],
      "source": [
        "pytrec_results = {}\n",
        "pytrec_results"
      ]
    },
    {
      "cell_type": "markdown",
      "metadata": {
        "id": "-GToPZaxRB7w"
      },
      "source": [
        "Next we'll run retrieval and structure results for the pytrec evaluator, again copying the DAPR example which structures the retrieval results as:\n",
        "\n",
        "```python\n",
        "retrieval_scores[query_id][passage_id] = score\n",
        "```"
      ]
    },
    {
      "cell_type": "markdown",
      "metadata": {
        "id": "3INUaq5Zl4-S"
      },
      "source": [
        "Note again that `document_id` means passage_id."
      ]
    },
    {
      "cell_type": "code",
      "execution_count": 23,
      "metadata": {
        "id": "49C23XZfREYw"
      },
      "outputs": [],
      "source": [
        "for q in queries:\n",
        "    results = RAG.search(q['text'], k=10)\n",
        "    pytrec_results[q['_id']] = {result['document_id']: float(result['score']) for result in results}"
      ]
    },
    {
      "cell_type": "markdown",
      "metadata": {
        "id": "uX1Q7gB-l9ME"
      },
      "source": [
        "We can see the 10 passages and each one has a corresponding score."
      ]
    },
    {
      "cell_type": "code",
      "execution_count": 36,
      "metadata": {
        "colab": {
          "base_uri": "https://localhost:8080/"
        },
        "id": "MP_vValwSILe",
        "outputId": "3d972b82-3755-4937-9ac6-ad20f8c672fc"
      },
      "outputs": [
        {
          "data": {
            "text/plain": [
              "{'61-1': 71.125,\n",
              " '423-16': 70.5625,\n",
              " '61-27': 70.4375,\n",
              " '61-109': 70.375,\n",
              " '61-110': 70.25,\n",
              " '61-113': 70.25,\n",
              " '61-114': 70.25,\n",
              " '426-22': 70.1875,\n",
              " '420-42': 70.1875,\n",
              " '423-7': 70.125}"
            ]
          },
          "execution_count": 36,
          "metadata": {},
          "output_type": "execute_result"
        }
      ],
      "source": [
        "pytrec_results[qid]"
      ]
    },
    {
      "cell_type": "markdown",
      "metadata": {
        "id": "gmMaJiwxSWcl"
      },
      "source": [
        "Calculate Recall for all queries and viewing a single query's Recall:"
      ]
    },
    {
      "cell_type": "code",
      "execution_count": 24,
      "metadata": {
        "id": "qaX6oCmRbDvK"
      },
      "outputs": [],
      "source": [
        "evaluator = pytrec_eval.RelevanceEvaluator(qrels, {'recall.10'})"
      ]
    },
    {
      "cell_type": "markdown",
      "metadata": {
        "id": "BYo-pdEZmuVa"
      },
      "source": [
        "There are 271 queries and 271 metrics (one per query):"
      ]
    },
    {
      "cell_type": "code",
      "execution_count": 25,
      "metadata": {
        "colab": {
          "base_uri": "https://localhost:8080/"
        },
        "id": "w_8SnBcMSYFc",
        "outputId": "571e47c0-b984-4d5c-dba4-7b501c02f139"
      },
      "outputs": [
        {
          "data": {
            "text/plain": [
              "271"
            ]
          },
          "execution_count": 25,
          "metadata": {},
          "output_type": "execute_result"
        }
      ],
      "source": [
        "metrics = evaluator.evaluate(pytrec_results)\n",
        "len(metrics)"
      ]
    },
    {
      "cell_type": "markdown",
      "metadata": {
        "id": "QabVpitgmyvk"
      },
      "source": [
        "For our `dev-5` query the Recall@10 is 0.167 or 1/6."
      ]
    },
    {
      "cell_type": "code",
      "execution_count": 26,
      "metadata": {
        "colab": {
          "base_uri": "https://localhost:8080/"
        },
        "id": "QqM8drZqT0i4",
        "outputId": "07661f1e-4732-4c1f-ca8b-896b1afff7e0"
      },
      "outputs": [
        {
          "data": {
            "text/plain": [
              "{'recall_10': 0.16666666666666666}"
            ]
          },
          "execution_count": 26,
          "metadata": {},
          "output_type": "execute_result"
        }
      ],
      "source": [
        "metrics[qid]"
      ]
    },
    {
      "cell_type": "markdown",
      "metadata": {
        "id": "t7vQ_hmKm18I"
      },
      "source": [
        "Here are the 6 passages that we needed to retrieve to fully answer this question:"
      ]
    },
    {
      "cell_type": "code",
      "execution_count": 27,
      "metadata": {
        "colab": {
          "base_uri": "https://localhost:8080/"
        },
        "id": "jcgZlEe4bVJh",
        "outputId": "2d1792f4-7e92-4f3e-bab5-a8d0ff79fbdf"
      },
      "outputs": [
        {
          "data": {
            "text/plain": [
              "{'61-1': 1, '61-4': 1, '61-5': 1, '61-17': 1, '61-37': 1, '61-39': 1}"
            ]
          },
          "execution_count": 27,
          "metadata": {},
          "output_type": "execute_result"
        }
      ],
      "source": [
        "qrels[qid]"
      ]
    },
    {
      "cell_type": "markdown",
      "metadata": {
        "id": "F5xR0sflm6wr"
      },
      "source": [
        "And here are the results again---only 1 relevant passage, `61-1`, was retrieved."
      ]
    },
    {
      "cell_type": "code",
      "execution_count": 28,
      "metadata": {
        "colab": {
          "base_uri": "https://localhost:8080/"
        },
        "id": "p9oBy4BgbV0I",
        "outputId": "b638ed99-ba08-486a-ee92-bba78540238a"
      },
      "outputs": [
        {
          "data": {
            "text/plain": [
              "{'61-1': 71.125,\n",
              " '423-16': 70.5625,\n",
              " '61-27': 70.4375,\n",
              " '61-109': 70.375,\n",
              " '61-110': 70.25,\n",
              " '61-113': 70.25,\n",
              " '61-114': 70.25,\n",
              " '426-22': 70.1875,\n",
              " '420-42': 70.1875,\n",
              " '423-7': 70.125}"
            ]
          },
          "execution_count": 28,
          "metadata": {},
          "output_type": "execute_result"
        }
      ],
      "source": [
        "pytrec_results[qid]"
      ]
    },
    {
      "cell_type": "markdown",
      "metadata": {
        "id": "e35UZ93yThGn"
      },
      "source": [
        "Calculating mean Recall across all queries to get our mean Recall@10 for the entire collection of queries:"
      ]
    },
    {
      "cell_type": "code",
      "execution_count": 29,
      "metadata": {
        "colab": {
          "base_uri": "https://localhost:8080/"
        },
        "id": "fAF14ou9TiMP",
        "outputId": "ab74903a-5984-4afb-90df-d77c18d0cc50"
      },
      "outputs": [
        {
          "data": {
            "text/plain": [
              "0.28046940381859803"
            ]
          },
          "execution_count": 29,
          "metadata": {},
          "output_type": "execute_result"
        }
      ],
      "source": [
        "mean_recall = sum(metrics[qid]['recall_10'] for qid in metrics.keys()) / len(metrics)\n",
        "mean_recall"
      ]
    },
    {
      "cell_type": "markdown",
      "metadata": {
        "id": "nL5uURCUndfY"
      },
      "source": [
        "So, about 28% of all queries' relevant passages were present in the top-10 passages retrieved."
      ]
    },
    {
      "cell_type": "markdown",
      "metadata": {
        "id": "kgFnYkiRnpcg"
      },
      "source": [
        "I wanted to confirm my calculation so I'll also calculate Recall@10 using the ranx library."
      ]
    },
    {
      "cell_type": "code",
      "execution_count": 31,
      "metadata": {
        "id": "4moE02crcABc"
      },
      "outputs": [],
      "source": [
        "qrels_ranx = Qrels(qrels)\n",
        "ranx_results = Run(pytrec_results)"
      ]
    },
    {
      "cell_type": "code",
      "execution_count": 35,
      "metadata": {
        "colab": {
          "base_uri": "https://localhost:8080/"
        },
        "id": "W6dj4GOhcMWu",
        "outputId": "8924772d-4e13-4e1e-c1d6-1edbeba5faff"
      },
      "outputs": [
        {
          "data": {
            "text/plain": [
              "0.2804694038185978"
            ]
          },
          "execution_count": 35,
          "metadata": {},
          "output_type": "execute_result"
        }
      ],
      "source": [
        "evaluate(qrels_ranx, ranx_results, \"recall@10\")"
      ]
    },
    {
      "cell_type": "markdown",
      "metadata": {
        "id": "FcM5bLqvnvpp"
      },
      "source": [
        "And we get the same results. Great!"
      ]
    },
    {
      "cell_type": "markdown",
      "metadata": {
        "id": "IoLfxxZcrKc0"
      },
      "source": [
        "## Final Thoughts"
      ]
    },
    {
      "cell_type": "markdown",
      "metadata": {
        "id": "BpdzI1SxrLvb"
      },
      "source": [
        "In a future blog post I'll calculate Recall@10 (and other metrics) on all of the datasets included in DAPR:\n",
        "\n",
        "- ConditionalQA\n",
        "- MS MARCO\n",
        "- Genomics\n",
        "- MIRACL\n",
        "- Natural Questions\n",
        "\n",
        "Once that's done, I'll pick a few different retrieval models and compare their results across these datasets.\n",
        "\n",
        "I think by the end of these experiments I'll have a better grasp on how to work with classic IR datasets and metrics."
      ]
    }
  ],
  "metadata": {
    "accelerator": "GPU",
    "colab": {
      "gpuType": "T4",
      "provenance": []
    },
    "kernelspec": {
      "display_name": "Python 3",
      "name": "python3"
    },
    "language_info": {
      "name": "python"
    }
  },
  "nbformat": 4,
  "nbformat_minor": 0
}

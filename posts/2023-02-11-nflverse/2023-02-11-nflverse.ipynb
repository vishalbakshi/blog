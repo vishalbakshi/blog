{
 "cells": [
  {
   "cell_type": "raw",
   "metadata": {},
   "source": [
    "---\n",
    "title: Exploring NFL Play-by-Play Data with SQL and Python\n",
    "author: Vishal Bakshi\n",
    "description: An update on my analysis and visualization of NFL play-by-play data.\n",
    "categories:\n",
    "    - data analysis\n",
    "    - SQL\n",
    "    - python\n",
    "---"
   ]
  },
  {
   "attachments": {},
   "cell_type": "markdown",
   "metadata": {},
   "source": [
    "![Side view of Jalen Hurts walking on the Eagles sideline with Kansas City Chiefs-colored confetti falling around him](super-bowl-hurts.png)\n",
    "\n",
    "## Background and Goals\n",
    "It's been 5 years since I [last explored NFL's play-by-play data](https://vishalbakshi.github.io/posts/nfl_sql.html). It's also been 5 years since my Eagles won the Super Bowl, which will be played in less than 24 hours from now. <span style=\"color:#004C54;\"><strong><em>Go Birds</em></strong></span>. \n",
    "\n",
    "It's been so long since I've blogged that fastpages, the blogging library I use, has been deprecated. \n",
    "\n",
    "I have thoroughly enjoyed some of the statistical analyses put forth by fans of the NFL this year. My favorite analyst is [Deniz Selman](https://twitter.com/denizselman33?ref_src=twsrc%5Egoogle%7Ctwcamp%5Eserp%7Ctwgr%5Eauthor), a fellow Eagles fan who makes [these beautiful data presentations](https://twitter.com/denizselman33/status/1620631738140733440?s=20&t=LKBn17kz9KHAbc5V-lXBjA). \n",
    "\n",
    "I also appreciate Deniz' critique of analysis-without-context that often negates the brilliance of Jalen Hurts:\n",
    "\n",
    "<blockquote class=\"twitter-tweet\"><p lang=\"en\" dir=\"ltr\">As I’ve been trying to say all year, EPA/dropback is not nearly as valuable a metric when the offense lets the QB decide whether it’s a “dropback” or not during the play by reading the defense, and that QB is the absolute best at making that decision. <a href=\"https://twitter.com/hashtag/FlyEaglesFly?src=hash&amp;ref_src=twsrc%5Etfw\">#FlyEaglesFly</a></p>&mdash; Deniz Selman (@denizselman33) <a href=\"https://twitter.com/denizselman33/status/1624491020095488002?ref_src=twsrc%5Etfw\">February 11, 2023</a></blockquote> <script async src=\"https://platform.twitter.com/widgets.js\" charset=\"utf-8\"></script>\n",
    "\n",
    "\n",
    "My second favorite analyst is [Ben Baldwin, AKA Computer Cowboy](https://twitter.com/benbbaldwin) especially his 4th down analysis realtime during games.\n",
    "\n",
    "There has been an onslaught of statistical advances in the NFL since I last explored play-by-play data and I'm excited to learn as much as I can. In particular, I'd like to get a hang of the metrics EPA (Expected Points Added) and DVOA (Defense-adjusted Value Over Average), which may not necessarily intersect with my play-by-play analysis (I believe Football Outsiders is the proprietor of that formula).\n",
    "\n",
    "I'd also like to use this project to practice more advanced SQL queries than I'm used to. Given the complexity of the play-by-play dataset (by team, down, field position, etc.) I'm hoping I can get those reps in.\n",
    "\n",
    "Lastly, I'd like to explore data presentation with these statistics using R, python, Adobe Illustrator and Photoshop. I've been inspired by simple, elegant graphics like those made by Peter Gorman in [Barely Maps](https://www.barelymaps.com/) and bold, picturesque statistics posted by PFF on twitter:\n",
    "\n",
    "<blockquote class=\"twitter-tweet\"><p lang=\"en\" dir=\"ltr\">The most clutch pass rushers face off in the Super Bowl <a href=\"https://t.co/o50lV9Bkgk\">pic.twitter.com/o50lV9Bkgk</a></p>&mdash; PFF (@PFF) <a href=\"https://twitter.com/PFF/status/1624589107249684481?ref_src=twsrc%5Etfw\">February 12, 2023</a></blockquote> <script async src=\"https://platform.twitter.com/widgets.js\" charset=\"utf-8\"></script>\n",
    "\n",
    "\n",
    "I'll work on this project in this post throughout this year--and maybe beyond if it fuels me with enough material--or it'll fork off into something entirely new or different.\n",
    "\n",
    "I'll start off by next exploring the schema of the play-by-play dataset."
   ]
  },
  {
   "attachments": {},
   "cell_type": "markdown",
   "metadata": {},
   "source": [
    "## Documenting the NFL Play-by-Play Dataset Fields\n",
    "\n",
    "In this section, I describe the fields in the [2022 NFL Play-by-Play Dataset](https://github.com/nflverse/nflverse-data/releases?page=2). Not all of the fields are intuitive or immediately useful, so not all 372 column descriptions will be listed."
   ]
  },
  {
   "cell_type": "code",
   "execution_count": 46,
   "metadata": {},
   "outputs": [],
   "source": [
    "import pandas as pd\n",
    "import numpy as np"
   ]
  },
  {
   "cell_type": "code",
   "execution_count": 38,
   "metadata": {},
   "outputs": [
    {
     "data": {
      "text/html": [
       "<div>\n",
       "<style scoped>\n",
       "    .dataframe tbody tr th:only-of-type {\n",
       "        vertical-align: middle;\n",
       "    }\n",
       "\n",
       "    .dataframe tbody tr th {\n",
       "        vertical-align: top;\n",
       "    }\n",
       "\n",
       "    .dataframe thead th {\n",
       "        text-align: right;\n",
       "    }\n",
       "</style>\n",
       "<table border=\"1\" class=\"dataframe\">\n",
       "  <thead>\n",
       "    <tr style=\"text-align: right;\">\n",
       "      <th></th>\n",
       "      <th>play_id</th>\n",
       "      <th>game_id</th>\n",
       "      <th>old_game_id</th>\n",
       "      <th>home_team</th>\n",
       "      <th>away_team</th>\n",
       "      <th>season_type</th>\n",
       "      <th>week</th>\n",
       "      <th>posteam</th>\n",
       "      <th>posteam_type</th>\n",
       "      <th>defteam</th>\n",
       "      <th>...</th>\n",
       "      <th>out_of_bounds</th>\n",
       "      <th>home_opening_kickoff</th>\n",
       "      <th>qb_epa</th>\n",
       "      <th>xyac_epa</th>\n",
       "      <th>xyac_mean_yardage</th>\n",
       "      <th>xyac_median_yardage</th>\n",
       "      <th>xyac_success</th>\n",
       "      <th>xyac_fd</th>\n",
       "      <th>xpass</th>\n",
       "      <th>pass_oe</th>\n",
       "    </tr>\n",
       "  </thead>\n",
       "  <tbody>\n",
       "    <tr>\n",
       "      <th>0</th>\n",
       "      <td>1</td>\n",
       "      <td>2022_01_BAL_NYJ</td>\n",
       "      <td>2022091107</td>\n",
       "      <td>NYJ</td>\n",
       "      <td>BAL</td>\n",
       "      <td>REG</td>\n",
       "      <td>1</td>\n",
       "      <td>NaN</td>\n",
       "      <td>NaN</td>\n",
       "      <td>NaN</td>\n",
       "      <td>...</td>\n",
       "      <td>0</td>\n",
       "      <td>1</td>\n",
       "      <td>0.000000</td>\n",
       "      <td>NaN</td>\n",
       "      <td>NaN</td>\n",
       "      <td>NaN</td>\n",
       "      <td>NaN</td>\n",
       "      <td>NaN</td>\n",
       "      <td>NaN</td>\n",
       "      <td>NaN</td>\n",
       "    </tr>\n",
       "    <tr>\n",
       "      <th>1</th>\n",
       "      <td>43</td>\n",
       "      <td>2022_01_BAL_NYJ</td>\n",
       "      <td>2022091107</td>\n",
       "      <td>NYJ</td>\n",
       "      <td>BAL</td>\n",
       "      <td>REG</td>\n",
       "      <td>1</td>\n",
       "      <td>NYJ</td>\n",
       "      <td>home</td>\n",
       "      <td>BAL</td>\n",
       "      <td>...</td>\n",
       "      <td>0</td>\n",
       "      <td>1</td>\n",
       "      <td>-0.443521</td>\n",
       "      <td>NaN</td>\n",
       "      <td>NaN</td>\n",
       "      <td>NaN</td>\n",
       "      <td>NaN</td>\n",
       "      <td>NaN</td>\n",
       "      <td>NaN</td>\n",
       "      <td>NaN</td>\n",
       "    </tr>\n",
       "    <tr>\n",
       "      <th>2</th>\n",
       "      <td>68</td>\n",
       "      <td>2022_01_BAL_NYJ</td>\n",
       "      <td>2022091107</td>\n",
       "      <td>NYJ</td>\n",
       "      <td>BAL</td>\n",
       "      <td>REG</td>\n",
       "      <td>1</td>\n",
       "      <td>NYJ</td>\n",
       "      <td>home</td>\n",
       "      <td>BAL</td>\n",
       "      <td>...</td>\n",
       "      <td>0</td>\n",
       "      <td>1</td>\n",
       "      <td>1.468819</td>\n",
       "      <td>NaN</td>\n",
       "      <td>NaN</td>\n",
       "      <td>NaN</td>\n",
       "      <td>NaN</td>\n",
       "      <td>NaN</td>\n",
       "      <td>0.440373</td>\n",
       "      <td>-44.037291</td>\n",
       "    </tr>\n",
       "    <tr>\n",
       "      <th>3</th>\n",
       "      <td>89</td>\n",
       "      <td>2022_01_BAL_NYJ</td>\n",
       "      <td>2022091107</td>\n",
       "      <td>NYJ</td>\n",
       "      <td>BAL</td>\n",
       "      <td>REG</td>\n",
       "      <td>1</td>\n",
       "      <td>NYJ</td>\n",
       "      <td>home</td>\n",
       "      <td>BAL</td>\n",
       "      <td>...</td>\n",
       "      <td>0</td>\n",
       "      <td>1</td>\n",
       "      <td>-0.492192</td>\n",
       "      <td>0.727261</td>\n",
       "      <td>6.988125</td>\n",
       "      <td>6.0</td>\n",
       "      <td>0.60693</td>\n",
       "      <td>0.227598</td>\n",
       "      <td>0.389904</td>\n",
       "      <td>61.009598</td>\n",
       "    </tr>\n",
       "    <tr>\n",
       "      <th>4</th>\n",
       "      <td>115</td>\n",
       "      <td>2022_01_BAL_NYJ</td>\n",
       "      <td>2022091107</td>\n",
       "      <td>NYJ</td>\n",
       "      <td>BAL</td>\n",
       "      <td>REG</td>\n",
       "      <td>1</td>\n",
       "      <td>NYJ</td>\n",
       "      <td>home</td>\n",
       "      <td>BAL</td>\n",
       "      <td>...</td>\n",
       "      <td>0</td>\n",
       "      <td>1</td>\n",
       "      <td>-0.325931</td>\n",
       "      <td>NaN</td>\n",
       "      <td>NaN</td>\n",
       "      <td>NaN</td>\n",
       "      <td>NaN</td>\n",
       "      <td>NaN</td>\n",
       "      <td>0.443575</td>\n",
       "      <td>-44.357494</td>\n",
       "    </tr>\n",
       "  </tbody>\n",
       "</table>\n",
       "<p>5 rows × 372 columns</p>\n",
       "</div>"
      ],
      "text/plain": [
       "   play_id          game_id  old_game_id home_team away_team season_type  \\\n",
       "0        1  2022_01_BAL_NYJ   2022091107       NYJ       BAL         REG   \n",
       "1       43  2022_01_BAL_NYJ   2022091107       NYJ       BAL         REG   \n",
       "2       68  2022_01_BAL_NYJ   2022091107       NYJ       BAL         REG   \n",
       "3       89  2022_01_BAL_NYJ   2022091107       NYJ       BAL         REG   \n",
       "4      115  2022_01_BAL_NYJ   2022091107       NYJ       BAL         REG   \n",
       "\n",
       "   week posteam posteam_type defteam  ... out_of_bounds  home_opening_kickoff  \\\n",
       "0     1     NaN          NaN     NaN  ...             0                     1   \n",
       "1     1     NYJ         home     BAL  ...             0                     1   \n",
       "2     1     NYJ         home     BAL  ...             0                     1   \n",
       "3     1     NYJ         home     BAL  ...             0                     1   \n",
       "4     1     NYJ         home     BAL  ...             0                     1   \n",
       "\n",
       "     qb_epa  xyac_epa  xyac_mean_yardage  xyac_median_yardage xyac_success  \\\n",
       "0  0.000000       NaN                NaN                  NaN          NaN   \n",
       "1 -0.443521       NaN                NaN                  NaN          NaN   \n",
       "2  1.468819       NaN                NaN                  NaN          NaN   \n",
       "3 -0.492192  0.727261           6.988125                  6.0      0.60693   \n",
       "4 -0.325931       NaN                NaN                  NaN          NaN   \n",
       "\n",
       "    xyac_fd     xpass    pass_oe  \n",
       "0       NaN       NaN        NaN  \n",
       "1       NaN       NaN        NaN  \n",
       "2       NaN  0.440373 -44.037291  \n",
       "3  0.227598  0.389904  61.009598  \n",
       "4       NaN  0.443575 -44.357494  \n",
       "\n",
       "[5 rows x 372 columns]"
      ]
     },
     "execution_count": 38,
     "metadata": {},
     "output_type": "execute_result"
    }
   ],
   "source": [
    "# load the data\n",
    "fpath = \"../../../nfl_pbp_data/play_by_play_2022.csv\"\n",
    "pbp_2022 = pd.read_csv(fpath, low_memory=False)\n",
    "\n",
    "pbp_2022.head()"
   ]
  },
  {
   "attachments": {},
   "cell_type": "markdown",
   "metadata": {},
   "source": [
    "The 2022 NFL Play-by-Play dataset has 50147 rows (plays) and 372 columns."
   ]
  },
  {
   "cell_type": "code",
   "execution_count": 27,
   "metadata": {},
   "outputs": [
    {
     "data": {
      "text/plain": [
       "(50147, 372)"
      ]
     },
     "execution_count": 27,
     "metadata": {},
     "output_type": "execute_result"
    }
   ],
   "source": [
    "pbp_2022.shape"
   ]
  },
  {
   "attachments": {},
   "cell_type": "markdown",
   "metadata": {},
   "source": [
    "`play_id` is an identifier for each play in each game. It not a unique identifier as there are many duplicates. There are 4597 unique `play_id` values in this dataset. "
   ]
  },
  {
   "cell_type": "code",
   "execution_count": 28,
   "metadata": {},
   "outputs": [
    {
     "data": {
      "text/plain": [
       "4597"
      ]
     },
     "execution_count": 28,
     "metadata": {},
     "output_type": "execute_result"
    }
   ],
   "source": [
    "len(pbp_2022.play_id.unique())"
   ]
  },
  {
   "attachments": {},
   "cell_type": "markdown",
   "metadata": {},
   "source": [
    "`game_id` is an identifier for each game in the dataset in the format of `{year}_{week}_{away_team}_{home_team}`. There are 284 unique games in this dataset."
   ]
  },
  {
   "cell_type": "code",
   "execution_count": 163,
   "metadata": {},
   "outputs": [
    {
     "data": {
      "text/plain": [
       "(284, '2022_01_BAL_NYJ')"
      ]
     },
     "execution_count": 163,
     "metadata": {},
     "output_type": "execute_result"
    }
   ],
   "source": [
    "len(pbp_2022.game_id.unique()), pbp_2022.game_id[1]"
   ]
  },
  {
   "attachments": {},
   "cell_type": "markdown",
   "metadata": {},
   "source": [
    "There are 32 unique `home_team`s and `away_team`s."
   ]
  },
  {
   "cell_type": "code",
   "execution_count": 30,
   "metadata": {},
   "outputs": [
    {
     "data": {
      "text/plain": [
       "(32, 32)"
      ]
     },
     "execution_count": 30,
     "metadata": {},
     "output_type": "execute_result"
    }
   ],
   "source": [
    "len(pbp_2022.home_team.unique()), len(pbp_2022.away_team.unique())"
   ]
  },
  {
   "attachments": {},
   "cell_type": "markdown",
   "metadata": {},
   "source": [
    "There are two `season_type` values: `'REG'` for regular season and `'POST'` for postseason."
   ]
  },
  {
   "cell_type": "code",
   "execution_count": 31,
   "metadata": {},
   "outputs": [
    {
     "data": {
      "text/plain": [
       "array(['REG', 'POST'], dtype=object)"
      ]
     },
     "execution_count": 31,
     "metadata": {},
     "output_type": "execute_result"
    }
   ],
   "source": [
    "pbp_2022.season_type.unique()"
   ]
  },
  {
   "attachments": {},
   "cell_type": "markdown",
   "metadata": {},
   "source": [
    "There are 22 `week` values:\n",
    "- 18 regular season weeks (17 games + 1 bye)\n",
    "- 4 postseason weeks\n",
    "    - Wild Card Weekend\n",
    "    - Divisional Playoffs\n",
    "    - Conference Championships\n",
    "    - Super Bowl"
   ]
  },
  {
   "cell_type": "code",
   "execution_count": 32,
   "metadata": {},
   "outputs": [
    {
     "data": {
      "text/plain": [
       "array([ 1,  2,  3,  4,  5,  6,  7,  8,  9, 10, 11, 12, 13, 14, 15, 16, 17,\n",
       "       18, 19, 20, 21, 22])"
      ]
     },
     "execution_count": 32,
     "metadata": {},
     "output_type": "execute_result"
    }
   ],
   "source": [
    "pbp_2022.week.unique()"
   ]
  },
  {
   "attachments": {},
   "cell_type": "markdown",
   "metadata": {},
   "source": [
    "I believe `posteam` stands for the team that has possession of the ball. There are 32 unique teams that can have possession of the ball in a game, and in some cases the `posteam` is `nan`."
   ]
  },
  {
   "cell_type": "code",
   "execution_count": 35,
   "metadata": {},
   "outputs": [
    {
     "data": {
      "text/plain": [
       "(33,\n",
       " array([nan, 'NYJ', 'BAL', 'BUF', 'LA', 'CAR', 'CLE', 'SEA', 'DEN', 'MIN',\n",
       "        'GB', 'IND', 'HOU', 'JAX', 'WAS', 'KC', 'ARI', 'LAC', 'LV', 'NE',\n",
       "        'MIA', 'ATL', 'NO', 'NYG', 'TEN', 'DET', 'PHI', 'PIT', 'CIN',\n",
       "        'CHI', 'SF', 'DAL', 'TB'], dtype=object))"
      ]
     },
     "execution_count": 35,
     "metadata": {},
     "output_type": "execute_result"
    }
   ],
   "source": [
    "len(pbp_2022.posteam.unique()), pbp_2022.posteam.unique()"
   ]
  },
  {
   "attachments": {},
   "cell_type": "markdown",
   "metadata": {},
   "source": [
    "`posteam_type` has values `'home'`, `'away'` and `nan`."
   ]
  },
  {
   "cell_type": "code",
   "execution_count": 37,
   "metadata": {},
   "outputs": [
    {
     "data": {
      "text/plain": [
       "(3, array([nan, 'home', 'away'], dtype=object))"
      ]
     },
     "execution_count": 37,
     "metadata": {},
     "output_type": "execute_result"
    }
   ],
   "source": [
    "len(pbp_2022.posteam_type.unique()), pbp_2022.posteam_type.unique()"
   ]
  },
  {
   "attachments": {},
   "cell_type": "markdown",
   "metadata": {},
   "source": [
    "`defteam` lists any of the 32 teams on defense on a given play. It can also have the value `nan`."
   ]
  },
  {
   "cell_type": "code",
   "execution_count": 40,
   "metadata": {},
   "outputs": [
    {
     "data": {
      "text/plain": [
       "(33,\n",
       " array([nan, 'BAL', 'NYJ', 'LA', 'BUF', 'CLE', 'CAR', 'DEN', 'SEA', 'GB',\n",
       "        'MIN', 'HOU', 'IND', 'WAS', 'JAX', 'ARI', 'KC', 'LV', 'LAC', 'MIA',\n",
       "        'NE', 'NO', 'ATL', 'TEN', 'NYG', 'PHI', 'DET', 'CIN', 'PIT', 'SF',\n",
       "        'CHI', 'TB', 'DAL'], dtype=object))"
      ]
     },
     "execution_count": 40,
     "metadata": {},
     "output_type": "execute_result"
    }
   ],
   "source": [
    "len(pbp_2022.defteam.unique()), pbp_2022.defteam.unique()"
   ]
  },
  {
   "attachments": {},
   "cell_type": "markdown",
   "metadata": {},
   "source": [
    "`side_of_field` can be `nan`, any of the 32 team abbreviations, or `50` (midfield)."
   ]
  },
  {
   "cell_type": "code",
   "execution_count": 43,
   "metadata": {},
   "outputs": [
    {
     "data": {
      "text/plain": [
       "(34,\n",
       " array([nan, 'BAL', 'NYJ', 'LA', 'BUF', '50', 'CLE', 'CAR', 'DEN', 'SEA',\n",
       "        'GB', 'MIN', 'HOU', 'IND', 'WAS', 'JAX', 'ARI', 'KC', 'LV', 'LAC',\n",
       "        'MIA', 'NE', 'NO', 'ATL', 'TEN', 'NYG', 'PHI', 'DET', 'CIN', 'PIT',\n",
       "        'SF', 'CHI', 'TB', 'DAL'], dtype=object))"
      ]
     },
     "execution_count": 43,
     "metadata": {},
     "output_type": "execute_result"
    }
   ],
   "source": [
    "len(pbp_2022.side_of_field.unique()), pbp_2022.side_of_field.unique()"
   ]
  },
  {
   "attachments": {},
   "cell_type": "markdown",
   "metadata": {},
   "source": [
    "`yardline_100` can be `nan` or between `1` and `99`."
   ]
  },
  {
   "cell_type": "code",
   "execution_count": 48,
   "metadata": {},
   "outputs": [
    {
     "data": {
      "text/plain": [
       "(100, 1.0, 99.0)"
      ]
     },
     "execution_count": 48,
     "metadata": {},
     "output_type": "execute_result"
    }
   ],
   "source": [
    "len(pbp_2022.yardline_100.unique()), np.nanmin(pbp_2022.yardline_100), np.nanmax(pbp_2022.yardline_100)"
   ]
  },
  {
   "attachments": {},
   "cell_type": "markdown",
   "metadata": {},
   "source": [
    "There are 61 `game_date` values."
   ]
  },
  {
   "cell_type": "code",
   "execution_count": 162,
   "metadata": {},
   "outputs": [
    {
     "data": {
      "text/plain": [
       "(61, '2022-09-11')"
      ]
     },
     "execution_count": 162,
     "metadata": {},
     "output_type": "execute_result"
    }
   ],
   "source": [
    "len(pbp_2022.game_date.unique()), pbp_2022.game_date[0]"
   ]
  },
  {
   "attachments": {},
   "cell_type": "markdown",
   "metadata": {},
   "source": [
    "`quarter_seconds_remaining` is between `0` and `900` (15 minutes)."
   ]
  },
  {
   "cell_type": "code",
   "execution_count": 55,
   "metadata": {},
   "outputs": [
    {
     "data": {
      "text/plain": [
       "(0, 900)"
      ]
     },
     "execution_count": 55,
     "metadata": {},
     "output_type": "execute_result"
    }
   ],
   "source": [
    "pbp_2022.quarter_seconds_remaining.min(), pbp_2022.quarter_seconds_remaining.max()"
   ]
  },
  {
   "attachments": {},
   "cell_type": "markdown",
   "metadata": {},
   "source": [
    "`half_seconds_remaining` is between `0` and `1800` (30 minutes)."
   ]
  },
  {
   "cell_type": "code",
   "execution_count": 58,
   "metadata": {},
   "outputs": [
    {
     "data": {
      "text/plain": [
       "(0, 1800)"
      ]
     },
     "execution_count": 58,
     "metadata": {},
     "output_type": "execute_result"
    }
   ],
   "source": [
    "pbp_2022.half_seconds_remaining.min(), pbp_2022.half_seconds_remaining.max()"
   ]
  },
  {
   "attachments": {},
   "cell_type": "markdown",
   "metadata": {},
   "source": [
    "`game_seconds_remaining` is between `0` and `3600` (60 minutes)."
   ]
  },
  {
   "cell_type": "code",
   "execution_count": 59,
   "metadata": {},
   "outputs": [
    {
     "data": {
      "text/plain": [
       "(0, 3600)"
      ]
     },
     "execution_count": 59,
     "metadata": {},
     "output_type": "execute_result"
    }
   ],
   "source": [
    "pbp_2022.game_seconds_remaining.min(), pbp_2022.game_seconds_remaining.max()"
   ]
  },
  {
   "attachments": {},
   "cell_type": "markdown",
   "metadata": {},
   "source": [
    "`game_half` is either `Half1` (first half), `Half2` (second half), or `Overtime`."
   ]
  },
  {
   "cell_type": "code",
   "execution_count": 61,
   "metadata": {},
   "outputs": [
    {
     "data": {
      "text/plain": [
       "array(['Half1', 'Half2', 'Overtime'], dtype=object)"
      ]
     },
     "execution_count": 61,
     "metadata": {},
     "output_type": "execute_result"
    }
   ],
   "source": [
    "pbp_2022.game_half.unique()"
   ]
  },
  {
   "attachments": {},
   "cell_type": "markdown",
   "metadata": {},
   "source": [
    "`quarter_end` is either `1` (True) or `0` (False)."
   ]
  },
  {
   "cell_type": "code",
   "execution_count": 161,
   "metadata": {},
   "outputs": [
    {
     "data": {
      "text/plain": [
       "(array([0, 1]), 'END QUARTER 1')"
      ]
     },
     "execution_count": 161,
     "metadata": {},
     "output_type": "execute_result"
    }
   ],
   "source": [
    "pbp_2022.quarter_end.unique(), pbp_2022.query('quarter_end == 1').desc[41]"
   ]
  },
  {
   "attachments": {},
   "cell_type": "markdown",
   "metadata": {},
   "source": [
    "`drive` is the current number of drives in the game (including both teams) as well as `nan` values."
   ]
  },
  {
   "cell_type": "code",
   "execution_count": 64,
   "metadata": {},
   "outputs": [
    {
     "data": {
      "text/plain": [
       "array([nan,  1.,  2.,  3.,  4.,  5.,  6.,  7.,  8.,  9., 10., 11., 12.,\n",
       "       13., 14., 15., 16., 17., 18., 19., 20., 21., 22., 23., 24., 25.,\n",
       "       26., 27., 28., 29., 30., 31., 32., 33., 34., 35.])"
      ]
     },
     "execution_count": 64,
     "metadata": {},
     "output_type": "execute_result"
    }
   ],
   "source": [
    "pbp_2022.drive.unique()"
   ]
  },
  {
   "attachments": {},
   "cell_type": "markdown",
   "metadata": {},
   "source": [
    "`sp` teams seems to indicate whether the play involves the Special Teams unit, either `1` (True) or `0` (False)."
   ]
  },
  {
   "cell_type": "code",
   "execution_count": 159,
   "metadata": {},
   "outputs": [
    {
     "data": {
      "text/plain": [
       "(array([0, 1]),\n",
       " '(3:19) 9-J.Tucker 24 yard field goal is GOOD, Center-46-N.Moore, Holder-11-J.Stout.')"
      ]
     },
     "execution_count": 159,
     "metadata": {},
     "output_type": "execute_result"
    }
   ],
   "source": [
    "pbp_2022.sp.unique(), pbp_2022.query('sp == 1').desc[32]"
   ]
  },
  {
   "attachments": {},
   "cell_type": "markdown",
   "metadata": {},
   "source": [
    "`quarter` indicates the current quarter of the play. `quarter == 5` represents Overtime."
   ]
  },
  {
   "cell_type": "code",
   "execution_count": 68,
   "metadata": {},
   "outputs": [
    {
     "data": {
      "text/plain": [
       "array([1, 2, 3, 4, 5])"
      ]
     },
     "execution_count": 68,
     "metadata": {},
     "output_type": "execute_result"
    }
   ],
   "source": [
    "pbp_2022.qtr.unique()"
   ]
  },
  {
   "attachments": {},
   "cell_type": "markdown",
   "metadata": {},
   "source": [
    "`down` represents the current down of the play (`nan`, 1st, 2nd, 3rd or 4th)."
   ]
  },
  {
   "cell_type": "code",
   "execution_count": 70,
   "metadata": {},
   "outputs": [
    {
     "data": {
      "text/plain": [
       "array([nan,  1.,  2.,  3.,  4.])"
      ]
     },
     "execution_count": 70,
     "metadata": {},
     "output_type": "execute_result"
    }
   ],
   "source": [
    "pbp_2022.down.unique()"
   ]
  },
  {
   "attachments": {},
   "cell_type": "markdown",
   "metadata": {},
   "source": [
    "`goal_to_go` indicates whether this play is 1st & Goal, 2nd & Goal, 3rd & Goal or 4th & Goal, either `1` (True) or `0` (False)."
   ]
  },
  {
   "cell_type": "code",
   "execution_count": 73,
   "metadata": {},
   "outputs": [
    {
     "data": {
      "text/plain": [
       "array([0, 1])"
      ]
     },
     "execution_count": 73,
     "metadata": {},
     "output_type": "execute_result"
    }
   ],
   "source": [
    "pbp_2022.goal_to_go.unique()"
   ]
  },
  {
   "attachments": {},
   "cell_type": "markdown",
   "metadata": {},
   "source": [
    "`time` is the `minutes:seconds` formatted time left in the current quarter."
   ]
  },
  {
   "cell_type": "code",
   "execution_count": 78,
   "metadata": {},
   "outputs": [
    {
     "data": {
      "text/plain": [
       "array(['15:00', '14:56', '14:29', '14:25'], dtype=object)"
      ]
     },
     "execution_count": 78,
     "metadata": {},
     "output_type": "execute_result"
    }
   ],
   "source": [
    "pbp_2022.head().time.unique()"
   ]
  },
  {
   "attachments": {},
   "cell_type": "markdown",
   "metadata": {},
   "source": [
    "`yrdln` is a formatted string of team abbreviation and yard number."
   ]
  },
  {
   "cell_type": "code",
   "execution_count": 79,
   "metadata": {},
   "outputs": [
    {
     "data": {
      "text/plain": [
       "array(['BAL 35', 'NYJ 22', 'NYJ 41', ..., 'NYJ 3', 'CIN 6', 'MIN 12'],\n",
       "      dtype=object)"
      ]
     },
     "execution_count": 79,
     "metadata": {},
     "output_type": "execute_result"
    }
   ],
   "source": [
    "pbp_2022.yrdln.unique()"
   ]
  },
  {
   "attachments": {},
   "cell_type": "markdown",
   "metadata": {},
   "source": [
    "`ydstogo` is the number of yards before the next first down."
   ]
  },
  {
   "cell_type": "code",
   "execution_count": 85,
   "metadata": {},
   "outputs": [
    {
     "data": {
      "text/plain": [
       "array([ 0, 10,  5, 15,  6,  2,  1, 12,  9, 19, 11,  3,  8,  4, 16, 17,  7,\n",
       "       20, 14, 18, 13, 22, 26, 24, 21, 25, 23, 28, 30, 27, 31, 38, 36, 29,\n",
       "       34, 35, 32, 33])"
      ]
     },
     "execution_count": 85,
     "metadata": {},
     "output_type": "execute_result"
    }
   ],
   "source": [
    "pbp_2022.ydstogo.unique()"
   ]
  },
  {
   "attachments": {},
   "cell_type": "markdown",
   "metadata": {},
   "source": [
    "`ydsnet` is the net yards (yards gained - yards lost) of the current drive."
   ]
  },
  {
   "cell_type": "code",
   "execution_count": 87,
   "metadata": {},
   "outputs": [
    {
     "data": {
      "text/plain": [
       "array([ nan,  14.,  21.,   7.,   1.,  15.,   9.,  16.,  44.,  18.,  62.,\n",
       "        48.,   3.,  11.,   4.,  88.,  75.,  23.,  43.,  -2.,  38.,   0.,\n",
       "        45.,  60.,  13.,   6.,  -1.,  58.,  25.,  89.,  59.,  19.,  66.,\n",
       "        29.,  -4.,  24.,   2.,  12.,  42.,  78.,  52.,  57.,  64.,  35.,\n",
       "        -3.,  70.,  77.,  72.,  50.,  37.,  31.,  -6.,  32.,  -5.,  20.,\n",
       "        79.,  74.,  34.,  65.,   8.,  47.,   5.,  69.,  53.,  33.,  76.,\n",
       "        80., -16.,  71.,  68.,  55.,  27.,  90.,  86.,  17.,  30.,  67.,\n",
       "        63.,  73.,  61., -13.,  92.,  40.,  22.,  -7.,  39.,  41.,  28.,\n",
       "        82.,  49.,  10.,  36.,  46.,  84.,  54., -23., -11.,  83.,  26.,\n",
       "        94.,  87., -10.,  85.,  51., -14.,  56.,  -8.,  81.,  -9.,  93.,\n",
       "       -12., -15., -17.,  91.,  99.,  98., -19.,  96.,  95.,  97., -20.,\n",
       "       -25.])"
      ]
     },
     "execution_count": 87,
     "metadata": {},
     "output_type": "execute_result"
    }
   ],
   "source": [
    "pbp_2022.ydsnet.unique()"
   ]
  },
  {
   "attachments": {},
   "cell_type": "markdown",
   "metadata": {},
   "source": [
    "`desc` is a narrative description of the current play."
   ]
  },
  {
   "cell_type": "code",
   "execution_count": 157,
   "metadata": {},
   "outputs": [
    {
     "data": {
      "text/plain": [
       "'9-J.Tucker kicks 68 yards from BAL 35 to NYJ -3. 10-B.Berrios to NYJ 22 for 25 yards (51-J.Ross).'"
      ]
     },
     "execution_count": 157,
     "metadata": {},
     "output_type": "execute_result"
    }
   ],
   "source": [
    "pbp_2022.head().desc[1]"
   ]
  },
  {
   "attachments": {},
   "cell_type": "markdown",
   "metadata": {},
   "source": [
    "`play_type` is either `nan` or one of 9 different play types, including `no_play`."
   ]
  },
  {
   "cell_type": "code",
   "execution_count": 91,
   "metadata": {},
   "outputs": [
    {
     "data": {
      "text/plain": [
       "(10,\n",
       " array([nan, 'kickoff', 'run', 'pass', 'punt', 'no_play', 'field_goal',\n",
       "        'extra_point', 'qb_kneel', 'qb_spike'], dtype=object))"
      ]
     },
     "execution_count": 91,
     "metadata": {},
     "output_type": "execute_result"
    }
   ],
   "source": [
    "len(pbp_2022.play_type.unique()), pbp_2022.play_type.unique()"
   ]
  },
  {
   "attachments": {},
   "cell_type": "markdown",
   "metadata": {},
   "source": [
    "`yards_gained` is the number of yards gained (positive) or lost (negative) on the current play. It does not capture yards gained or lost due to a penalty."
   ]
  },
  {
   "cell_type": "code",
   "execution_count": 93,
   "metadata": {},
   "outputs": [
    {
     "data": {
      "text/plain": [
       "(0     NaN\n",
       " 1     0.0\n",
       " 2    19.0\n",
       " 3     0.0\n",
       " 4     5.0\n",
       " Name: yards_gained, dtype: float64,\n",
       " -26.0)"
      ]
     },
     "execution_count": 93,
     "metadata": {},
     "output_type": "execute_result"
    }
   ],
   "source": [
    "pbp_2022.head().yards_gained, pbp_2022.yards_gained.min()"
   ]
  },
  {
   "attachments": {},
   "cell_type": "markdown",
   "metadata": {},
   "source": [
    "`shotgun` indicates whether the quarterback was in shotgun position, either `1` (True) or `0` (False)."
   ]
  },
  {
   "cell_type": "code",
   "execution_count": 156,
   "metadata": {},
   "outputs": [
    {
     "data": {
      "text/plain": [
       "(array([0, 1]),\n",
       " '(14:29) (No Huddle, Shotgun) 19-J.Flacco pass incomplete short left to 32-Mi.Carter.')"
      ]
     },
     "execution_count": 156,
     "metadata": {},
     "output_type": "execute_result"
    }
   ],
   "source": [
    "pbp_2022.shotgun.unique(), pbp_2022.query('shotgun == 1').desc[3]"
   ]
  },
  {
   "attachments": {},
   "cell_type": "markdown",
   "metadata": {},
   "source": [
    "`no_huddle` indicates whether the team huddled before the snap, either `1` (True) or `0` (False)."
   ]
  },
  {
   "cell_type": "code",
   "execution_count": 155,
   "metadata": {},
   "outputs": [
    {
     "data": {
      "text/plain": [
       "(array([0, 1]),\n",
       " '(14:29) (No Huddle, Shotgun) 19-J.Flacco pass incomplete short left to 32-Mi.Carter.')"
      ]
     },
     "execution_count": 155,
     "metadata": {},
     "output_type": "execute_result"
    }
   ],
   "source": [
    "pbp_2022.no_huddle.unique(), pbp_2022.query('no_huddle == 1').desc[3]"
   ]
  },
  {
   "attachments": {},
   "cell_type": "markdown",
   "metadata": {},
   "source": [
    "`qb_dropback` indicates whether the quarterback drops back on the play, either `1` (True), `0` (False) or `nan`."
   ]
  },
  {
   "cell_type": "code",
   "execution_count": 153,
   "metadata": {},
   "outputs": [
    {
     "data": {
      "text/plain": [
       "(array([nan,  0.,  1.]),\n",
       " '(14:29) (No Huddle, Shotgun) 19-J.Flacco pass incomplete short left to 32-Mi.Carter.')"
      ]
     },
     "execution_count": 153,
     "metadata": {},
     "output_type": "execute_result"
    }
   ],
   "source": [
    "pbp_2022.qb_dropback.unique(), pbp_2022.query('qb_dropback == 1').desc[3]"
   ]
  },
  {
   "attachments": {},
   "cell_type": "markdown",
   "metadata": {},
   "source": [
    "`qb_kneel` indicates whether the quarterback kneels on the play, either `1` (True) or `0` (False)."
   ]
  },
  {
   "cell_type": "code",
   "execution_count": 151,
   "metadata": {},
   "outputs": [
    {
     "data": {
      "text/plain": [
       "(array([0, 1]), '(:59) 8-L.Jackson kneels to NYJ 43 for -1 yards.')"
      ]
     },
     "execution_count": 151,
     "metadata": {},
     "output_type": "execute_result"
    }
   ],
   "source": [
    "pbp_2022.qb_kneel.unique(), pbp_2022.query('qb_kneel == 1').desc[176]"
   ]
  },
  {
   "attachments": {},
   "cell_type": "markdown",
   "metadata": {},
   "source": [
    "`qb_spike` indicates whether the quarterback spikes the ball on the play, either `1` (True) or `0` (False)."
   ]
  },
  {
   "cell_type": "code",
   "execution_count": 148,
   "metadata": {},
   "outputs": [
    {
     "data": {
      "text/plain": [
       "(array([0, 1]),\n",
       " '(:29) (No Huddle) 7-J.Brissett spiked the ball to stop the clock.')"
      ]
     },
     "execution_count": 148,
     "metadata": {},
     "output_type": "execute_result"
    }
   ],
   "source": [
    "pbp_2022.qb_spike.unique(), pbp_2022.query('qb_spike == 1').desc[520]"
   ]
  },
  {
   "attachments": {},
   "cell_type": "markdown",
   "metadata": {},
   "source": [
    "`qb_scramble` indicates whether the quarterback scrambles on the play, either `1` (True) or `0` (False). It looks like a scramble is not the same as a designed quarterback run, so I'll dig deeper into this before using this field in analyses."
   ]
  },
  {
   "cell_type": "code",
   "execution_count": 105,
   "metadata": {},
   "outputs": [
    {
     "data": {
      "text/plain": [
       "array([0, 1])"
      ]
     },
     "execution_count": 105,
     "metadata": {},
     "output_type": "execute_result"
    }
   ],
   "source": [
    "pbp_2022.qb_scramble.unique()"
   ]
  },
  {
   "attachments": {},
   "cell_type": "markdown",
   "metadata": {},
   "source": [
    "`pass_length` is either `nan`, `'short'` or `'deep'`. I'll first understand what distance (in yards) corresponds to these designations before I use this field in analyses."
   ]
  },
  {
   "cell_type": "code",
   "execution_count": 106,
   "metadata": {},
   "outputs": [
    {
     "data": {
      "text/plain": [
       "array([nan, 'short', 'deep'], dtype=object)"
      ]
     },
     "execution_count": 106,
     "metadata": {},
     "output_type": "execute_result"
    }
   ],
   "source": [
    "pbp_2022.pass_length.unique()"
   ]
  },
  {
   "attachments": {},
   "cell_type": "markdown",
   "metadata": {},
   "source": [
    "`pass_location` is either `nan`, `'left'`, `'right'`, or `'middle'`."
   ]
  },
  {
   "cell_type": "code",
   "execution_count": 108,
   "metadata": {},
   "outputs": [
    {
     "data": {
      "text/plain": [
       "array([nan, 'left', 'right', 'middle'], dtype=object)"
      ]
     },
     "execution_count": 108,
     "metadata": {},
     "output_type": "execute_result"
    }
   ],
   "source": [
    "pbp_2022.pass_location.unique()"
   ]
  },
  {
   "attachments": {},
   "cell_type": "markdown",
   "metadata": {},
   "source": [
    "`air_yards` is the number of yards a quarterback's pass traveled in the air. It can be positive, zero or negative."
   ]
  },
  {
   "cell_type": "code",
   "execution_count": 110,
   "metadata": {},
   "outputs": [
    {
     "data": {
      "text/plain": [
       "array([ nan,   0.,  -4.,   3.,   2.,  16.,  11.,   5.,  21.,  14.,  -1.,\n",
       "         1.,   7.,   6.,  15.,  -3.,   8.,  10.,  50.,  27.,  25.,  -5.,\n",
       "        31.,  -6.,  17.,  51.,  13.,   4.,  12.,  36.,   9.,  32.,  18.,\n",
       "        22.,  -2.,  23.,  45.,  40.,  52.,  -7.,  26.,  29.,  20.,  47.,\n",
       "        24.,  30.,  28.,  37.,  39.,  -8.,  19.,  41.,  38., -12.,  42.,\n",
       "       -10.,  46.,  35.,  33.,  -9.,  34.,  44.,  43.,  53.,  57.,  48.,\n",
       "        49.,  54.,  58.,  56.,  59.,  55.,  61., -18., -54., -13.,  62.,\n",
       "        65., -20., -16.])"
      ]
     },
     "execution_count": 110,
     "metadata": {},
     "output_type": "execute_result"
    }
   ],
   "source": [
    "pbp_2022.air_yards.unique()"
   ]
  },
  {
   "attachments": {},
   "cell_type": "markdown",
   "metadata": {},
   "source": [
    "`yards_after_catch` is the number of yards the receiver gains or loses after catching the ball."
   ]
  },
  {
   "cell_type": "code",
   "execution_count": 112,
   "metadata": {},
   "outputs": [
    {
     "data": {
      "text/plain": [
       "array([ nan,   8.,   1.,   6.,   0.,   3.,   5.,   4.,  12.,   9.,  10.,\n",
       "        -4.,  18.,   7.,  15.,   2.,  11.,  13.,  -1.,  29.,  30.,  27.,\n",
       "        28.,  16.,  26.,  24.,  25.,  -5.,  41.,  14.,  22.,  19.,  17.,\n",
       "        21.,  32.,  20.,  -2.,  35.,  -3.,  51.,  66.,  38.,  46.,  23.,\n",
       "        31.,  37.,  68.,  -6.,  33.,  52.,  75.,  34.,  71.,  44.,  61.,\n",
       "        60.,  58.,  48.,  50.,  53.,  39.,  62.,  47.,  -7.,  42.,  40.,\n",
       "        36.,  49.,  70.,  45.,  65.,  43.,  74., -10.,  -9.])"
      ]
     },
     "execution_count": 112,
     "metadata": {},
     "output_type": "execute_result"
    }
   ],
   "source": [
    "pbp_2022.yards_after_catch.unique()"
   ]
  },
  {
   "attachments": {},
   "cell_type": "markdown",
   "metadata": {},
   "source": [
    "`run_location` is either `nan`, `'left'`, `'right'`, or `'middle'`."
   ]
  },
  {
   "cell_type": "code",
   "execution_count": 114,
   "metadata": {},
   "outputs": [
    {
     "data": {
      "text/plain": [
       "array([nan, 'left', 'right', 'middle'], dtype=object)"
      ]
     },
     "execution_count": 114,
     "metadata": {},
     "output_type": "execute_result"
    }
   ],
   "source": [
    "pbp_2022.run_location.unique()"
   ]
  },
  {
   "attachments": {},
   "cell_type": "markdown",
   "metadata": {},
   "source": [
    "`run_gap` represents which offensive line gap the runner ran through. It is either `nan`, `'end'`, `'tackle'` or `'guard'`. I'll have to dig a bit deeper (look at some video corresponding to the run plays) to understand if `'guard'` represents the A (gap between center and guard) or B gap (gap between guard and tackle), if `'tackle'` represents the B or C gap (gap between tackle and end), and if `'end'` represents the C or D (gap outside the end) gap."
   ]
  },
  {
   "cell_type": "code",
   "execution_count": 115,
   "metadata": {},
   "outputs": [
    {
     "data": {
      "text/plain": [
       "array([nan, 'end', 'tackle', 'guard'], dtype=object)"
      ]
     },
     "execution_count": 115,
     "metadata": {},
     "output_type": "execute_result"
    }
   ],
   "source": [
    "pbp_2022.run_gap.unique()"
   ]
  },
  {
   "attachments": {},
   "cell_type": "markdown",
   "metadata": {},
   "source": [
    "`field_goal_result` is either `nan`, `'made'`, `'missed'`, or `'blocked'`."
   ]
  },
  {
   "cell_type": "code",
   "execution_count": 117,
   "metadata": {},
   "outputs": [
    {
     "data": {
      "text/plain": [
       "array([nan, 'made', 'missed', 'blocked'], dtype=object)"
      ]
     },
     "execution_count": 117,
     "metadata": {},
     "output_type": "execute_result"
    }
   ],
   "source": [
    "pbp_2022.field_goal_result.unique()"
   ]
  },
  {
   "attachments": {},
   "cell_type": "markdown",
   "metadata": {},
   "source": [
    "`kick_distance` is the distance of the kick in yards for the following `play_type` values: `'punt'`, `'field_goal'`, `'extra_point'`, and `'kickoff'`. Looking through the data, not all `'kickoff'`s have a `kick_distance` value."
   ]
  },
  {
   "cell_type": "code",
   "execution_count": 123,
   "metadata": {},
   "outputs": [
    {
     "data": {
      "text/plain": [
       "(array([nan, 45., 40., 48., 24., 50., 56., 41., 33., 20., 49., 43.,  7.,\n",
       "        36., 57., 25., 39., 60., 62., 61., 44., 46., 58., 26., 34., 64.,\n",
       "        30., 47., 54., 28., 53., 38., 29., 70., 37., 27., 52., 42., 63.,\n",
       "        51., 23., 55., 59., 69., 66., 14., 32., 35.,  0., 31., 67., 74.,\n",
       "        19., 10., 22., 12.,  8.,  5., -1., 73., 65.,  3., 21.,  9., 16.,\n",
       "        15., 13., 18., 17.,  6., 77., 68., 11., 71., 79.]),\n",
       " array(['punt', 'field_goal', 'extra_point', 'kickoff'], dtype=object))"
      ]
     },
     "execution_count": 123,
     "metadata": {},
     "output_type": "execute_result"
    }
   ],
   "source": [
    "pbp_2022.kick_distance.unique(), pbp_2022.query('kick_distance.notnull()').play_type.unique()"
   ]
  },
  {
   "attachments": {},
   "cell_type": "markdown",
   "metadata": {},
   "source": [
    "`extra_point_result` is either `nan`, `'good'`, `'failed'` or `'blocked'`."
   ]
  },
  {
   "cell_type": "code",
   "execution_count": 125,
   "metadata": {},
   "outputs": [
    {
     "data": {
      "text/plain": [
       "array([nan, 'good', 'failed', 'blocked'], dtype=object)"
      ]
     },
     "execution_count": 125,
     "metadata": {},
     "output_type": "execute_result"
    }
   ],
   "source": [
    "pbp_2022.extra_point_result.unique()"
   ]
  },
  {
   "attachments": {},
   "cell_type": "markdown",
   "metadata": {},
   "source": [
    "`two_point_conv_result`, the result of a two-point conversion is either `nan`, `'failure'` or `'success'`."
   ]
  },
  {
   "cell_type": "code",
   "execution_count": 127,
   "metadata": {},
   "outputs": [
    {
     "data": {
      "text/plain": [
       "array([nan, 'failure', 'success'], dtype=object)"
      ]
     },
     "execution_count": 127,
     "metadata": {},
     "output_type": "execute_result"
    }
   ],
   "source": [
    "pbp_2022.two_point_conv_result.unique()"
   ]
  },
  {
   "attachments": {},
   "cell_type": "markdown",
   "metadata": {},
   "source": [
    "`home_timeouts_remaining` is the number of timeouts the home team has left. It is either `3`, `2`, `1`, or `0`."
   ]
  },
  {
   "cell_type": "code",
   "execution_count": 130,
   "metadata": {},
   "outputs": [
    {
     "data": {
      "text/plain": [
       "array([3, 2, 1, 0])"
      ]
     },
     "execution_count": 130,
     "metadata": {},
     "output_type": "execute_result"
    }
   ],
   "source": [
    "pbp_2022.home_timeouts_remaining.unique()"
   ]
  },
  {
   "attachments": {},
   "cell_type": "markdown",
   "metadata": {},
   "source": [
    "`away_timeouts_remaining` is the number of timeouts the away team has left. It is either `3`, `2`, `1`, or `0`."
   ]
  },
  {
   "cell_type": "code",
   "execution_count": 131,
   "metadata": {},
   "outputs": [
    {
     "data": {
      "text/plain": [
       "array([3, 2, 1, 0])"
      ]
     },
     "execution_count": 131,
     "metadata": {},
     "output_type": "execute_result"
    }
   ],
   "source": [
    "pbp_2022.away_timeouts_remaining.unique()"
   ]
  },
  {
   "attachments": {},
   "cell_type": "markdown",
   "metadata": {},
   "source": [
    "`timeout` indicates if a team calls a timeout, either `1` (True) or `0` (False)."
   ]
  },
  {
   "cell_type": "code",
   "execution_count": 165,
   "metadata": {},
   "outputs": [
    {
     "data": {
      "text/plain": [
       "(array([nan,  0.,  1.]), 'Timeout #1 by BAL at 09:56.')"
      ]
     },
     "execution_count": 165,
     "metadata": {},
     "output_type": "execute_result"
    }
   ],
   "source": [
    "pbp_2022.timeout.unique(), pbp_2022.query('timeout == 1').desc[13]"
   ]
  },
  {
   "attachments": {},
   "cell_type": "markdown",
   "metadata": {},
   "source": [
    "`timeout_team` indicates which team called the timeout, and has 33 unique values---1 `nan` and 32 team abbreviations."
   ]
  },
  {
   "cell_type": "code",
   "execution_count": 170,
   "metadata": {},
   "outputs": [
    {
     "data": {
      "text/plain": [
       "(array([nan, 'BAL', 'NYJ', 'LA', 'BUF', 'CLE', 'CAR', 'DEN', 'SEA', 'GB',\n",
       "        'MIN', 'IND', 'HOU', 'WAS', 'JAX', 'KC', 'ARI', 'LAC', 'LV', 'NE',\n",
       "        'MIA', 'ATL', 'NO', 'NYG', 'TEN', 'PHI', 'DET', 'PIT', 'CIN', 'SF',\n",
       "        'CHI', 'DAL', 'TB'], dtype=object),\n",
       " 'Timeout #1 by BAL at 09:56.',\n",
       " 'BAL')"
      ]
     },
     "execution_count": 170,
     "metadata": {},
     "output_type": "execute_result"
    }
   ],
   "source": [
    "(pbp_2022.timeout_team.unique(), \n",
    "pbp_2022.query('timeout == 1').desc[13], \n",
    "pbp_2022.query('timeout == 1').timeout_team[13])"
   ]
  },
  {
   "attachments": {},
   "cell_type": "markdown",
   "metadata": {},
   "source": [
    "`td_team` indicates which team scored the touchdown. It is `nan` or one of 32 team abbreviations."
   ]
  },
  {
   "cell_type": "code",
   "execution_count": 175,
   "metadata": {},
   "outputs": [
    {
     "data": {
      "text/plain": [
       "(array([nan, 'BAL', 'NYJ', 'BUF', 'LA', 'CLE', 'CAR', 'SEA', 'DEN', 'MIN',\n",
       "        'GB', 'HOU', 'IND', 'WAS', 'JAX', 'KC', 'ARI', 'LAC', 'LV', 'MIA',\n",
       "        'NE', 'NO', 'ATL', 'TEN', 'NYG', 'DET', 'PHI', 'PIT', 'CIN', 'SF',\n",
       "        'CHI', 'TB', 'DAL'], dtype=object),\n",
       " 'BAL',\n",
       " '(3:51) (Shotgun) 8-L.Jackson pass deep right to 13-D.Duvernay for 25 yards, TOUCHDOWN.')"
      ]
     },
     "execution_count": 175,
     "metadata": {},
     "output_type": "execute_result"
    }
   ],
   "source": [
    "(pbp_2022.td_team.unique(),\n",
    "pbp_2022.query('td_team.notnull()').td_team[68],\n",
    "pbp_2022.query('td_team.notnull()').desc[68])"
   ]
  },
  {
   "attachments": {},
   "cell_type": "markdown",
   "metadata": {},
   "source": [
    "`td_player_name` indicates which player scored the touchdown. It is `nan` or one of 416 players who scored a touchdown in the 2022 season. "
   ]
  },
  {
   "cell_type": "code",
   "execution_count": 180,
   "metadata": {},
   "outputs": [
    {
     "data": {
      "text/plain": [
       "(array([nan, 'D.Duvernay', 'R.Bateman', 'T.Conklin', 'G.Davis'],\n",
       "       dtype=object),\n",
       " 417,\n",
       " 'D.Duvernay',\n",
       " '(3:51) (Shotgun) 8-L.Jackson pass deep right to 13-D.Duvernay for 25 yards, TOUCHDOWN.')"
      ]
     },
     "execution_count": 180,
     "metadata": {},
     "output_type": "execute_result"
    }
   ],
   "source": [
    "(pbp_2022.td_player_name.unique()[:5],\n",
    "len(pbp_2022.td_player_name.unique()),\n",
    "pbp_2022.query('td_team.notnull()').td_player_name[68],\n",
    "pbp_2022.query('td_team.notnull()').desc[68])"
   ]
  },
  {
   "attachments": {},
   "cell_type": "markdown",
   "metadata": {},
   "source": [
    "`td_player_id` indicates the `id` of the player who scored the touchdown. There are 422 unique player IDs. Later on, I'll look into why there are 5 fewer player IDs than player names."
   ]
  },
  {
   "cell_type": "code",
   "execution_count": 181,
   "metadata": {},
   "outputs": [
    {
     "data": {
      "text/plain": [
       "(array([nan, '00-0036331', '00-0036550', '00-0034270', '00-0036196'],\n",
       "       dtype=object),\n",
       " 423,\n",
       " 'D.Duvernay',\n",
       " '00-0036331',\n",
       " '(3:51) (Shotgun) 8-L.Jackson pass deep right to 13-D.Duvernay for 25 yards, TOUCHDOWN.')"
      ]
     },
     "execution_count": 181,
     "metadata": {},
     "output_type": "execute_result"
    }
   ],
   "source": [
    "(pbp_2022.td_player_id.unique()[:5],\n",
    "len(pbp_2022.td_player_id.unique()),\n",
    "pbp_2022.query('td_team.notnull()').td_player_name[68],\n",
    " pbp_2022.query('td_team.notnull()').td_player_id[68],\n",
    "pbp_2022.query('td_team.notnull()').desc[68])"
   ]
  },
  {
   "attachments": {},
   "cell_type": "markdown",
   "metadata": {},
   "source": [
    "`posteam_timeouts_remaining` is the number of timeouts remaining for the team with ball possession. It can be `nan`, `3`, `2`, `1`, or `0`."
   ]
  },
  {
   "cell_type": "code",
   "execution_count": 182,
   "metadata": {},
   "outputs": [
    {
     "data": {
      "text/plain": [
       "array([nan,  3.,  2.,  0.,  1.])"
      ]
     },
     "execution_count": 182,
     "metadata": {},
     "output_type": "execute_result"
    }
   ],
   "source": [
    "pbp_2022.posteam_timeouts_remaining.unique()"
   ]
  },
  {
   "attachments": {},
   "cell_type": "markdown",
   "metadata": {},
   "source": [
    "`defteam_timeouts_remaining` is the number of timeouts remaining for the team on defense. It can be `nan`, `3`, `2`, `1`, or `0`."
   ]
  },
  {
   "cell_type": "code",
   "execution_count": 183,
   "metadata": {},
   "outputs": [
    {
     "data": {
      "text/plain": [
       "array([nan,  3.,  2.,  1.,  0.])"
      ]
     },
     "execution_count": 183,
     "metadata": {},
     "output_type": "execute_result"
    }
   ],
   "source": [
    "pbp_2022.defteam_timeouts_remaining.unique()"
   ]
  },
  {
   "attachments": {},
   "cell_type": "markdown",
   "metadata": {},
   "source": [
    "`total_home_score` is the total number of points scored by the home team."
   ]
  },
  {
   "cell_type": "code",
   "execution_count": 185,
   "metadata": {},
   "outputs": [
    {
     "data": {
      "text/plain": [
       "array([0, 3, 9, 6, 7])"
      ]
     },
     "execution_count": 185,
     "metadata": {},
     "output_type": "execute_result"
    }
   ],
   "source": [
    "pbp_2022.total_home_score.unique()[:5]"
   ]
  },
  {
   "attachments": {},
   "cell_type": "markdown",
   "metadata": {},
   "source": [
    "`total_away_score` is the total number of points scored by the away team."
   ]
  },
  {
   "cell_type": "code",
   "execution_count": 187,
   "metadata": {},
   "outputs": [
    {
     "data": {
      "text/plain": [
       "array([ 0,  3,  9, 10, 16])"
      ]
     },
     "execution_count": 187,
     "metadata": {},
     "output_type": "execute_result"
    }
   ],
   "source": [
    "pbp_2022.total_away_score.unique()[:5]"
   ]
  },
  {
   "attachments": {},
   "cell_type": "markdown",
   "metadata": {},
   "source": [
    "`posteam_score` is the total number of points scored by the team with ball possession on the current play."
   ]
  },
  {
   "cell_type": "code",
   "execution_count": 188,
   "metadata": {},
   "outputs": [
    {
     "data": {
      "text/plain": [
       "array([nan,  0.,  3.,  9., 10.])"
      ]
     },
     "execution_count": 188,
     "metadata": {},
     "output_type": "execute_result"
    }
   ],
   "source": [
    "pbp_2022.posteam_score.unique()[:5]"
   ]
  },
  {
   "attachments": {},
   "cell_type": "markdown",
   "metadata": {},
   "source": [
    "`defteam_score` is the total number of points scored by the team on defense on the current play."
   ]
  },
  {
   "cell_type": "code",
   "execution_count": 192,
   "metadata": {},
   "outputs": [
    {
     "data": {
      "text/plain": [
       "array([nan,  0.,  3., 10., 17.])"
      ]
     },
     "execution_count": 192,
     "metadata": {},
     "output_type": "execute_result"
    }
   ],
   "source": [
    "pbp_2022.defteam_score.unique()[:5]"
   ]
  },
  {
   "attachments": {},
   "cell_type": "markdown",
   "metadata": {},
   "source": [
    "`score_differential` is the difference between `posteam_score` and `defteam_score`."
   ]
  },
  {
   "cell_type": "code",
   "execution_count": 194,
   "metadata": {},
   "outputs": [
    {
     "data": {
      "text/plain": [
       "array([nan,  0., -3.,  3.,  9.])"
      ]
     },
     "execution_count": 194,
     "metadata": {},
     "output_type": "execute_result"
    }
   ],
   "source": [
    "pbp_2022.score_differential.unique()[:5]"
   ]
  },
  {
   "attachments": {},
   "cell_type": "markdown",
   "metadata": {},
   "source": [
    "`punt_blocked` indicates if the punt was blocked. It is either `nan`, `1` (True) or `0` (False)."
   ]
  },
  {
   "cell_type": "code",
   "execution_count": 197,
   "metadata": {},
   "outputs": [
    {
     "data": {
      "text/plain": [
       "(array([nan,  0.,  1.]),\n",
       " '(5:06) 11-R.Dixon punt is BLOCKED by 44-T.Andersen, Center-42-M.Orzech, RECOVERED by ATL-9-L.Carter at LA 26. 9-L.Carter for 26 yards, TOUCHDOWN.')"
      ]
     },
     "execution_count": 197,
     "metadata": {},
     "output_type": "execute_result"
    }
   ],
   "source": [
    "pbp_2022.punt_blocked.unique(),pbp_2022.query('punt_blocked == 1').desc[3236]"
   ]
  },
  {
   "attachments": {},
   "cell_type": "markdown",
   "metadata": {},
   "source": [
    "`first_down_rush` indicates whether a first down was achieved by a rushing play. It is either `nan`, `1` (True) or `0` (False)."
   ]
  },
  {
   "cell_type": "code",
   "execution_count": 203,
   "metadata": {},
   "outputs": [
    {
     "data": {
      "text/plain": [
       "(array([nan,  0.,  1.]),\n",
       " '(14:56) 32-Mi.Carter left end to NYJ 41 for 19 yards (32-M.Williams; 36-C.Clark).',\n",
       " 'run',\n",
       " nan)"
      ]
     },
     "execution_count": 203,
     "metadata": {},
     "output_type": "execute_result"
    }
   ],
   "source": [
    "(pbp_2022.first_down_rush.unique(), \n",
    " pbp_2022.query('first_down_rush == 1').desc[2],\n",
    " pbp_2022.query('first_down_rush == 1').play_type[2])"
   ]
  },
  {
   "attachments": {},
   "cell_type": "markdown",
   "metadata": {},
   "source": [
    "`first_down_pass` indicates whether a first down was achieved by a passing play. It is either `nan`, `1` (True) or `0` (False)."
   ]
  },
  {
   "cell_type": "code",
   "execution_count": 206,
   "metadata": {},
   "outputs": [
    {
     "data": {
      "text/plain": [
       "(array([nan,  0.,  1.]),\n",
       " '(6:01) 19-J.Flacco pass deep left to 8-E.Moore to NYJ 41 for 24 yards (32-M.Williams).',\n",
       " 'pass')"
      ]
     },
     "execution_count": 206,
     "metadata": {},
     "output_type": "execute_result"
    }
   ],
   "source": [
    "(pbp_2022.first_down_pass.unique(), \n",
    " pbp_2022.query('first_down_pass == 1').desc[26],\n",
    " pbp_2022.query('first_down_pass == 1').play_type[26])"
   ]
  },
  {
   "attachments": {},
   "cell_type": "markdown",
   "metadata": {},
   "source": [
    "`first_down_penalty` indicates whether a first down was achieved by a penalty. It is either `nan`, `1` (True) or `0` (False)."
   ]
  },
  {
   "cell_type": "code",
   "execution_count": 208,
   "metadata": {},
   "outputs": [
    {
     "data": {
      "text/plain": [
       "(array([nan,  0.,  1.]),\n",
       " '(8:31) (Shotgun) 19-J.Flacco pass incomplete deep left to 8-E.Moore. PENALTY on BAL-44-M.Humphrey, Illegal Contact, 5 yards, enforced at NYJ 12 - No Play.',\n",
       " 'no_play')"
      ]
     },
     "execution_count": 208,
     "metadata": {},
     "output_type": "execute_result"
    }
   ],
   "source": [
    "(pbp_2022.first_down_penalty.unique(), \n",
    " pbp_2022.query('first_down_penalty == 1').desc[17],\n",
    " pbp_2022.query('first_down_penalty == 1').play_type[17])"
   ]
  },
  {
   "attachments": {},
   "cell_type": "markdown",
   "metadata": {},
   "source": [
    "`third_down_converted` indicates if the team with ball possession on third down got a first down on the play. It is either `nan`, `1` (True) or `0` (False)."
   ]
  },
  {
   "cell_type": "code",
   "execution_count": 215,
   "metadata": {},
   "outputs": [
    {
     "data": {
      "text/plain": [
       "(array([nan,  0.,  1.]),\n",
       " 3.0,\n",
       " 2,\n",
       " '(12:41) (Shotgun) 8-L.Jackson right tackle to BAL 40 for 4 yards (57-C.Mosley, 3-J.Whitehead).',\n",
       " 4.0)"
      ]
     },
     "execution_count": 215,
     "metadata": {},
     "output_type": "execute_result"
    }
   ],
   "source": [
    "(pbp_2022.third_down_converted.unique(), \n",
    " pbp_2022.query('third_down_converted == 1').down[9],\n",
    " pbp_2022.query('third_down_converted == 1').ydstogo[9],\n",
    " pbp_2022.query('third_down_converted == 1').desc[9],\n",
    "pbp_2022.query('third_down_converted == 1').yards_gained[9])"
   ]
  },
  {
   "attachments": {},
   "cell_type": "markdown",
   "metadata": {},
   "source": [
    "`third_down_failed` indicates if the team with ball possession on third down did not get a first down on the play. It is either `nan`, `1` (True) or `0` (False)."
   ]
  },
  {
   "cell_type": "code",
   "execution_count": 217,
   "metadata": {},
   "outputs": [
    {
     "data": {
      "text/plain": [
       "(array([nan,  0.,  1.]),\n",
       " 3.0,\n",
       " 5,\n",
       " '(14:01) (No Huddle, Shotgun) 19-J.Flacco pass incomplete short right [93-C.Campbell]. PENALTY on NYJ-19-J.Flacco, Intentional Grounding, 10 yards, enforced at NYJ 46.',\n",
       " 0.0)"
      ]
     },
     "execution_count": 217,
     "metadata": {},
     "output_type": "execute_result"
    }
   ],
   "source": [
    "(pbp_2022.third_down_failed.unique(), \n",
    " pbp_2022.query('third_down_failed == 1').down[5],\n",
    " pbp_2022.query('third_down_failed == 1').ydstogo[5],\n",
    " pbp_2022.query('third_down_failed == 1').desc[5],\n",
    "pbp_2022.query('third_down_failed == 1').yards_gained[5])"
   ]
  },
  {
   "attachments": {},
   "cell_type": "markdown",
   "metadata": {},
   "source": [
    "`fourth_down_converted` indicates if the team with ball possession on fourth down got a first down on the play. It is either `nan`, `1` (True) or `0` (False)."
   ]
  },
  {
   "cell_type": "code",
   "execution_count": 219,
   "metadata": {},
   "outputs": [
    {
     "data": {
      "text/plain": [
       "(array([nan,  0.,  1.]),\n",
       " 4.0,\n",
       " 1,\n",
       " '(7:32) 19-J.Flacco pass short right to 84-C.Davis to BAL 21 for 7 yards (23-K.Fuller).',\n",
       " 7.0)"
      ]
     },
     "execution_count": 219,
     "metadata": {},
     "output_type": "execute_result"
    }
   ],
   "source": [
    "(pbp_2022.fourth_down_converted.unique(), \n",
    " pbp_2022.query('fourth_down_converted == 1').down[145],\n",
    " pbp_2022.query('fourth_down_converted == 1').ydstogo[145],\n",
    " pbp_2022.query('fourth_down_converted == 1').desc[145],\n",
    "pbp_2022.query('fourth_down_converted == 1').yards_gained[145])"
   ]
  },
  {
   "attachments": {},
   "cell_type": "markdown",
   "metadata": {},
   "source": [
    "`fourth_down_failed` indicates if the team with ball possession on fourth down did not get a first down on the play. It is either `nan`, `1` (True) or `0` (False)."
   ]
  },
  {
   "cell_type": "code",
   "execution_count": 221,
   "metadata": {},
   "outputs": [
    {
     "data": {
      "text/plain": [
       "(array([nan,  0.,  1.]),\n",
       " 4.0,\n",
       " 6,\n",
       " '(4:22) (Shotgun) 19-J.Flacco pass incomplete short left to 32-Mi.Carter.',\n",
       " 0.0)"
      ]
     },
     "execution_count": 221,
     "metadata": {},
     "output_type": "execute_result"
    }
   ],
   "source": [
    "(pbp_2022.fourth_down_failed.unique(), \n",
    " pbp_2022.query('fourth_down_failed == 1').down[154],\n",
    " pbp_2022.query('fourth_down_failed == 1').ydstogo[154],\n",
    " pbp_2022.query('fourth_down_failed == 1').desc[154],\n",
    "pbp_2022.query('fourth_down_failed == 1').yards_gained[154])"
   ]
  },
  {
   "attachments": {},
   "cell_type": "markdown",
   "metadata": {},
   "source": [
    "`incomplete_pass` indicates if the pass was incomplete. It is either `nan`, `1` (True) or `0` (False)."
   ]
  },
  {
   "cell_type": "code",
   "execution_count": 224,
   "metadata": {},
   "outputs": [
    {
     "data": {
      "text/plain": [
       "(array([nan,  0.,  1.]),\n",
       " '(14:29) (No Huddle, Shotgun) 19-J.Flacco pass incomplete short left to 32-Mi.Carter.')"
      ]
     },
     "execution_count": 224,
     "metadata": {},
     "output_type": "execute_result"
    }
   ],
   "source": [
    "(pbp_2022.incomplete_pass.unique(),\n",
    " pbp_2022.query('incomplete_pass == 1').desc[3])"
   ]
  },
  {
   "attachments": {},
   "cell_type": "markdown",
   "metadata": {},
   "source": [
    "`touchback` indicates if the kickoff or punt either went past the back of the endzone or was fair-caught in the end zone."
   ]
  },
  {
   "cell_type": "code",
   "execution_count": 227,
   "metadata": {},
   "outputs": [
    {
     "data": {
      "text/plain": [
       "(array([0, 1]),\n",
       " '9-J.Tucker kicks 65 yards from BAL 35 to end zone, Touchback.')"
      ]
     },
     "execution_count": 227,
     "metadata": {},
     "output_type": "execute_result"
    }
   ],
   "source": [
    "(pbp_2022.touchback.unique(),\n",
    " pbp_2022.query('touchback == 1').desc[33])"
   ]
  },
  {
   "attachments": {},
   "cell_type": "markdown",
   "metadata": {},
   "source": [
    "`interception` indicates if the quarterback's pass was intercepted by a defender. It is either `nan`, `1` (True), or `0` (False). "
   ]
  },
  {
   "cell_type": "code",
   "execution_count": 229,
   "metadata": {},
   "outputs": [
    {
     "data": {
      "text/plain": [
       "(array([nan,  0.,  1.]),\n",
       " '(5:07) (Shotgun) 19-J.Flacco pass short middle intended for 81-L.Cager INTERCEPTED by 32-M.Williams at NYJ 46. 32-M.Williams to NYJ 13 for 33 yards (19-J.Flacco).')"
      ]
     },
     "execution_count": 229,
     "metadata": {},
     "output_type": "execute_result"
    }
   ],
   "source": [
    "(pbp_2022.interception.unique(),\n",
    " pbp_2022.query('interception == 1').desc[28])"
   ]
  },
  {
   "attachments": {},
   "cell_type": "markdown",
   "metadata": {},
   "source": [
    "`fumble_forced` indicates if a fumble was forced on the play. It is either `nan`, `1` (True), or `0` (False). "
   ]
  },
  {
   "cell_type": "code",
   "execution_count": 231,
   "metadata": {},
   "outputs": [
    {
     "data": {
      "text/plain": [
       "(array([nan,  0.,  1.]),\n",
       " '(1:16) (Shotgun) 19-J.Flacco pass short right to 83-T.Conklin to BAL 21 for 6 yards (32-M.Williams, 58-M.Pierce). FUMBLES (58-M.Pierce), touched at BAL 25, recovered by NYJ-17-G.Wilson at BAL 27. 17-G.Wilson to BAL 27 for no gain (14-K.Hamilton).')"
      ]
     },
     "execution_count": 231,
     "metadata": {},
     "output_type": "execute_result"
    }
   ],
   "source": [
    "(pbp_2022.fumble_forced.unique(),\n",
    " pbp_2022.query('fumble_forced == 1').desc[80])"
   ]
  },
  {
   "attachments": {},
   "cell_type": "markdown",
   "metadata": {},
   "source": [
    "`fumble_not_forced` indicates if a fumble occurred on the play but was not forced by another player. It is either `nan`, `1` (True), or `0` (False). "
   ]
  },
  {
   "cell_type": "code",
   "execution_count": 233,
   "metadata": {},
   "outputs": [
    {
     "data": {
      "text/plain": [
       "(array([nan,  0.,  1.]),\n",
       " '(13:46) (Shotgun) 9-M.Stafford to LA 11 for -6 yards. FUMBLES, and recovers at LA 11. 9-M.Stafford sacked at LA 10 for -7 yards (50-G.Rousseau).')"
      ]
     },
     "execution_count": 233,
     "metadata": {},
     "output_type": "execute_result"
    }
   ],
   "source": [
    "(pbp_2022.fumble_not_forced.unique(),\n",
    " pbp_2022.query('fumble_not_forced == 1').desc[264])"
   ]
  },
  {
   "attachments": {},
   "cell_type": "markdown",
   "metadata": {},
   "source": [
    "`fumble_out_of_bounds` indicates if a fumbled ball went out of bounds. It is either `nan`, `1` (True), or `0` (False). "
   ]
  },
  {
   "cell_type": "code",
   "execution_count": 236,
   "metadata": {},
   "outputs": [
    {
     "data": {
      "text/plain": [
       "(array([nan,  0.,  1.]),\n",
       " '(:32) (Shotgun) 16-T.Lawrence pass short right to 1-T.Etienne to WAS 11 for 3 yards (22-D.Forrest). FUMBLES (22-D.Forrest), ball out of bounds at WAS 19. The Replay Official reviewed the pass completion ruling, and the play was Upheld. The ruling on the field stands.')"
      ]
     },
     "execution_count": 236,
     "metadata": {},
     "output_type": "execute_result"
    }
   ],
   "source": [
    "(pbp_2022.fumble_out_of_bounds.unique(),\n",
    " pbp_2022.query('fumble_out_of_bounds == 1').desc[1160])"
   ]
  },
  {
   "attachments": {},
   "cell_type": "markdown",
   "metadata": {},
   "source": [
    "`solo_tackle` indicates if a player made a solo tackle on the play. It is either `nan`, `1` (True), or `0` (False). "
   ]
  },
  {
   "cell_type": "code",
   "execution_count": 238,
   "metadata": {},
   "outputs": [
    {
     "data": {
      "text/plain": [
       "(array([nan,  1.,  0.]),\n",
       " '9-J.Tucker kicks 68 yards from BAL 35 to NYJ -3. 10-B.Berrios to NYJ 22 for 25 yards (51-J.Ross).')"
      ]
     },
     "execution_count": 238,
     "metadata": {},
     "output_type": "execute_result"
    }
   ],
   "source": [
    "(pbp_2022.solo_tackle.unique(),\n",
    " pbp_2022.query('solo_tackle == 1').desc[1])"
   ]
  },
  {
   "attachments": {},
   "cell_type": "markdown",
   "metadata": {},
   "source": [
    "`safety` indicates if a defensive player scored a safety on the play. It is either `nan`, `1` (True), or `0` (False). "
   ]
  },
  {
   "cell_type": "code",
   "execution_count": 241,
   "metadata": {},
   "outputs": [
    {
     "data": {
      "text/plain": [
       "(array([nan,  0.,  1.]),\n",
       " '(:13) (Run formation) 19-B.Powell right end ran ob in End Zone for -26 yards, SAFETY (37-D.Alford).')"
      ]
     },
     "execution_count": 241,
     "metadata": {},
     "output_type": "execute_result"
    }
   ],
   "source": [
    "(pbp_2022.safety.unique(),\n",
    " pbp_2022.query('safety == 1').desc[3255])"
   ]
  },
  {
   "attachments": {},
   "cell_type": "markdown",
   "metadata": {},
   "source": [
    "`penalty` indicates if there was a penalty on the play. It is either `nan`, `1` (True), or `0` (False). "
   ]
  },
  {
   "cell_type": "code",
   "execution_count": 243,
   "metadata": {},
   "outputs": [
    {
     "data": {
      "text/plain": [
       "(array([nan,  0.,  1.]),\n",
       " '(14:01) (No Huddle, Shotgun) 19-J.Flacco pass incomplete short right [93-C.Campbell]. PENALTY on NYJ-19-J.Flacco, Intentional Grounding, 10 yards, enforced at NYJ 46.')"
      ]
     },
     "execution_count": 243,
     "metadata": {},
     "output_type": "execute_result"
    }
   ],
   "source": [
    "(pbp_2022.penalty.unique(),\n",
    " pbp_2022.query('penalty == 1').desc[5])"
   ]
  },
  {
   "attachments": {},
   "cell_type": "markdown",
   "metadata": {},
   "source": [
    "`tackled_for_loss` indicates if a player was tackled for a loss of yards. It is either `nan`, `1` (True), or `0` (False). "
   ]
  },
  {
   "cell_type": "code",
   "execution_count": 245,
   "metadata": {},
   "outputs": [
    {
     "data": {
      "text/plain": [
       "(array([nan,  0.,  1.]),\n",
       " '(9:49) 20-Br.Hall right end to NYJ 9 for -2 yards (92-J.Madubuike).')"
      ]
     },
     "execution_count": 245,
     "metadata": {},
     "output_type": "execute_result"
    }
   ],
   "source": [
    "(pbp_2022.tackled_for_loss.unique(),\n",
    " pbp_2022.query('tackled_for_loss == 1').desc[15])"
   ]
  },
  {
   "attachments": {},
   "cell_type": "markdown",
   "metadata": {},
   "source": [
    "`fumble_lost` indicates if a player lost a fumble to the other team. It is either `nan`, `1` (True), or `0` (False). "
   ]
  },
  {
   "cell_type": "code",
   "execution_count": 248,
   "metadata": {},
   "outputs": [
    {
     "data": {
      "text/plain": [
       "(array([nan,  0.,  1.]),\n",
       " '(14:13) (No Huddle, Shotgun) 19-J.Flacco pass short middle to 20-Br.Hall to BAL 16 for 6 yards (36-C.Clark). FUMBLES (36-C.Clark), RECOVERED by BAL-44-M.Humphrey at BAL 15.')"
      ]
     },
     "execution_count": 248,
     "metadata": {},
     "output_type": "execute_result"
    }
   ],
   "source": [
    "(pbp_2022.fumble_lost.unique(),\n",
    " pbp_2022.query('fumble_lost == 1').desc[129])"
   ]
  },
  {
   "attachments": {},
   "cell_type": "markdown",
   "metadata": {},
   "source": [
    "`qb_hit` indicates if the quarterback was hit on the play.  It is either `nan`, `1` (True), or `0` (False). "
   ]
  },
  {
   "cell_type": "code",
   "execution_count": 251,
   "metadata": {},
   "outputs": [
    {
     "data": {
      "text/plain": [
       "(array([nan,  0.,  1.]),\n",
       " '(14:01) (No Huddle, Shotgun) 19-J.Flacco pass incomplete short right [93-C.Campbell]. PENALTY on NYJ-19-J.Flacco, Intentional Grounding, 10 yards, enforced at NYJ 46.')"
      ]
     },
     "execution_count": 251,
     "metadata": {},
     "output_type": "execute_result"
    }
   ],
   "source": [
    "(pbp_2022.qb_hit.unique(),\n",
    " pbp_2022.query('qb_hit == 1').desc[5])"
   ]
  },
  {
   "attachments": {},
   "cell_type": "markdown",
   "metadata": {},
   "source": [
    "`rush_attempt` indicates if the play was a rushing play. It is either `nan`, `1` (True), or `0` (False). A QB scramble is considered a rush attempt. "
   ]
  },
  {
   "cell_type": "code",
   "execution_count": 256,
   "metadata": {},
   "outputs": [
    {
     "data": {
      "text/plain": [
       "(array([nan,  0.,  1.]),\n",
       " '(12:41) (Shotgun) 8-L.Jackson right tackle to BAL 40 for 4 yards (57-C.Mosley, 3-J.Whitehead).',\n",
       " '(14:15) (Shotgun) 8-L.Jackson scrambles left end ran ob at BAL 35 for 8 yards (3-J.Whitehead).')"
      ]
     },
     "execution_count": 256,
     "metadata": {},
     "output_type": "execute_result"
    }
   ],
   "source": [
    "(pbp_2022.rush_attempt.unique(),\n",
    " pbp_2022.query('rush_attempt == 1').desc[9],\n",
    " pbp_2022.query('rush_attempt == 1 and qb_scramble == 1').desc[89])"
   ]
  },
  {
   "attachments": {},
   "cell_type": "markdown",
   "metadata": {},
   "source": [
    "`pass_attempt` indicates if the play was a passing play. It is either `nan`, `1` (True), or `0` (False)."
   ]
  },
  {
   "cell_type": "code",
   "execution_count": 259,
   "metadata": {},
   "outputs": [
    {
     "data": {
      "text/plain": [
       "(array([nan,  0.,  1.]),\n",
       " '(14:29) (No Huddle, Shotgun) 19-J.Flacco pass incomplete short left to 32-Mi.Carter.')"
      ]
     },
     "execution_count": 259,
     "metadata": {},
     "output_type": "execute_result"
    }
   ],
   "source": [
    "(pbp_2022.pass_attempt.unique(),\n",
    " pbp_2022.query('pass_attempt == 1').desc[3])"
   ]
  },
  {
   "attachments": {},
   "cell_type": "markdown",
   "metadata": {},
   "source": [
    "`sack` indicates if the quarterback was sacked on the play. It is either `nan`, `1` (True), or `0` (False)."
   ]
  },
  {
   "cell_type": "code",
   "execution_count": 262,
   "metadata": {},
   "outputs": [
    {
     "data": {
      "text/plain": [
       "(array([nan,  0.,  1.]),\n",
       " '(9:43) (Shotgun) 8-L.Jackson sacked ob at NYJ 49 for 0 yards (56-Qu.Williams).')"
      ]
     },
     "execution_count": 262,
     "metadata": {},
     "output_type": "execute_result"
    }
   ],
   "source": [
    "(pbp_2022.sack.unique(),\n",
    " pbp_2022.query('sack == 1').desc[54])"
   ]
  },
  {
   "attachments": {},
   "cell_type": "markdown",
   "metadata": {},
   "source": [
    "`touchdown` indicates if a player scored a touchdown on the play. It is either `nan`, `1` (True), or `0` (False)."
   ]
  },
  {
   "cell_type": "code",
   "execution_count": 266,
   "metadata": {},
   "outputs": [
    {
     "data": {
      "text/plain": [
       "(array([nan,  0.,  1.]),\n",
       " '(3:51) (Shotgun) 8-L.Jackson pass deep right to 13-D.Duvernay for 25 yards, TOUCHDOWN.')"
      ]
     },
     "execution_count": 266,
     "metadata": {},
     "output_type": "execute_result"
    }
   ],
   "source": [
    "(pbp_2022.touchdown.unique(),\n",
    " pbp_2022.query('touchdown == 1').desc[68])"
   ]
  },
  {
   "attachments": {},
   "cell_type": "markdown",
   "metadata": {},
   "source": [
    "`pass_touchdown`, `rush_touchdown`, and `return_touchdown` indicate if the touchdown was a result of a pass, rush or kickoff/punt/fumble/interception return play, respectively. Their value is either `nan`, `1` (True), or `0` (False)."
   ]
  },
  {
   "cell_type": "code",
   "execution_count": 269,
   "metadata": {},
   "outputs": [
    {
     "data": {
      "text/plain": [
       "(array([nan,  0.,  1.]),\n",
       " '(3:51) (Shotgun) 8-L.Jackson pass deep right to 13-D.Duvernay for 25 yards, TOUCHDOWN.')"
      ]
     },
     "execution_count": 269,
     "metadata": {},
     "output_type": "execute_result"
    }
   ],
   "source": [
    "(pbp_2022.pass_touchdown.unique(),\n",
    " pbp_2022.query('pass_touchdown == 1').desc[68])"
   ]
  },
  {
   "cell_type": "code",
   "execution_count": 271,
   "metadata": {},
   "outputs": [
    {
     "data": {
      "text/plain": [
       "(array([nan,  0.,  1.]),\n",
       " '(13:34) (Shotgun) 17-J.Allen scrambles right end for 4 yards, TOUCHDOWN.')"
      ]
     },
     "execution_count": 271,
     "metadata": {},
     "output_type": "execute_result"
    }
   ],
   "source": [
    "(pbp_2022.rush_touchdown.unique(),\n",
    " pbp_2022.query('rush_touchdown == 1').desc[298])"
   ]
  },
  {
   "cell_type": "code",
   "execution_count": 275,
   "metadata": {},
   "outputs": [
    {
     "data": {
      "text/plain": [
       "(array([nan,  0.,  1.]),\n",
       " '(7:40) (Shotgun) 10-M.Jones sacked at NE 6 for -9 yards (29-Br.Jones). FUMBLES (29-Br.Jones) [29-Br.Jones], RECOVERED by MIA-6-M.Ingram at NE 2. 6-M.Ingram for 2 yards, TOUCHDOWN.',\n",
       " '(6:36) (Shotgun) 16-J.Goff pass short left intended for 88-T.Hockenson INTERCEPTED by 24-J.Bradberry (43-K.White) [95-M.Tuipulotu] at DET 27. 24-J.Bradberry for 27 yards, TOUCHDOWN.',\n",
       " '6-N.Folk kicks 66 yards from NE 35 to BUF -1. 20-N.Hines for 101 yards, TOUCHDOWN.')"
      ]
     },
     "execution_count": 275,
     "metadata": {},
     "output_type": "execute_result"
    }
   ],
   "source": [
    "(pbp_2022.return_touchdown.unique(),\n",
    " pbp_2022.query('return_touchdown == 1').desc[1651],\n",
    " pbp_2022.query('return_touchdown == 1').desc[2197],\n",
    " pbp_2022.query('return_touchdown == 1').desc[47094])"
   ]
  },
  {
   "attachments": {},
   "cell_type": "markdown",
   "metadata": {},
   "source": [
    "The following fields indicate if the play involved an attempt at an Extra Point, Two Point Conversion, Field Goal, Kickoff, or Punt, respectively:\n",
    "\n",
    "- extra_point_attempt\n",
    "- two_point_attempt\n",
    "- field_goal_attempt\n",
    "- kickoff_attempt\n",
    "- punt_attempt\n",
    "\n",
    "Their value is either `nan`, `1` (True), or `0` (False).empt"
   ]
  },
  {
   "cell_type": "code",
   "execution_count": 277,
   "metadata": {},
   "outputs": [
    {
     "data": {
      "text/plain": [
       "(array([nan,  0.,  1.]),\n",
       " '9-J.Tucker extra point is GOOD, Center-46-N.Moore, Holder-11-J.Stout.')"
      ]
     },
     "execution_count": 277,
     "metadata": {},
     "output_type": "execute_result"
    }
   ],
   "source": [
    "(pbp_2022.extra_point_attempt.unique(),\n",
    " pbp_2022.query('extra_point_attempt == 1').desc[69])"
   ]
  },
  {
   "cell_type": "code",
   "execution_count": 279,
   "metadata": {},
   "outputs": [
    {
     "data": {
      "text/plain": [
       "(array([nan,  0.,  1.]),\n",
       " 'TWO-POINT CONVERSION ATTEMPT. 16-T.Lawrence pass to 17-E.Engram is incomplete. ATTEMPT FAILS.')"
      ]
     },
     "execution_count": 279,
     "metadata": {},
     "output_type": "execute_result"
    }
   ],
   "source": [
    "(pbp_2022.two_point_attempt.unique(),\n",
    " pbp_2022.query('two_point_attempt == 1').desc[1179])"
   ]
  },
  {
   "cell_type": "code",
   "execution_count": 281,
   "metadata": {},
   "outputs": [
    {
     "data": {
      "text/plain": [
       "(array([nan,  0.,  1.]),\n",
       " '(3:19) 9-J.Tucker 24 yard field goal is GOOD, Center-46-N.Moore, Holder-11-J.Stout.')"
      ]
     },
     "execution_count": 281,
     "metadata": {},
     "output_type": "execute_result"
    }
   ],
   "source": [
    "(pbp_2022.field_goal_attempt.unique(),\n",
    " pbp_2022.query('field_goal_attempt == 1').desc[32])"
   ]
  },
  {
   "cell_type": "code",
   "execution_count": 283,
   "metadata": {},
   "outputs": [
    {
     "data": {
      "text/plain": [
       "(array([nan,  1.,  0.]),\n",
       " '9-J.Tucker kicks 68 yards from BAL 35 to NYJ -3. 10-B.Berrios to NYJ 22 for 25 yards (51-J.Ross).')"
      ]
     },
     "execution_count": 283,
     "metadata": {},
     "output_type": "execute_result"
    }
   ],
   "source": [
    "(pbp_2022.kickoff_attempt.unique(),\n",
    " pbp_2022.query('kickoff_attempt == 1').desc[1])"
   ]
  },
  {
   "cell_type": "code",
   "execution_count": 285,
   "metadata": {},
   "outputs": [
    {
     "data": {
      "text/plain": [
       "(array([nan,  0.,  1.]),\n",
       " '(13:53) 7-B.Mann punts 45 yards to BAL 19, Center-42-T.Hennessy. 13-D.Duvernay pushed ob at BAL 28 for 9 yards (42-T.Hennessy).')"
      ]
     },
     "execution_count": 285,
     "metadata": {},
     "output_type": "execute_result"
    }
   ],
   "source": [
    "(pbp_2022.punt_attempt.unique(),\n",
    " pbp_2022.query('punt_attempt == 1').desc[6])"
   ]
  },
  {
   "attachments": {},
   "cell_type": "markdown",
   "metadata": {},
   "source": [
    "`fumble` indicates if a player fumbled the ball on the play. It is either `nan`, `1` (True), or `0` (False)."
   ]
  },
  {
   "cell_type": "code",
   "execution_count": 287,
   "metadata": {},
   "outputs": [
    {
     "data": {
      "text/plain": [
       "(array([nan,  0.,  1.]),\n",
       " '(1:16) (Shotgun) 19-J.Flacco pass short right to 83-T.Conklin to BAL 21 for 6 yards (32-M.Williams, 58-M.Pierce). FUMBLES (58-M.Pierce), touched at BAL 25, recovered by NYJ-17-G.Wilson at BAL 27. 17-G.Wilson to BAL 27 for no gain (14-K.Hamilton).')"
      ]
     },
     "execution_count": 287,
     "metadata": {},
     "output_type": "execute_result"
    }
   ],
   "source": [
    "(pbp_2022.fumble.unique(),\n",
    " pbp_2022.query('fumble == 1').desc[80])"
   ]
  },
  {
   "attachments": {},
   "cell_type": "markdown",
   "metadata": {},
   "source": [
    "`complete_pass` indicates if a player completed a pass on the play. It is either `nan`, `1` (True), or `0` (False)."
   ]
  },
  {
   "cell_type": "code",
   "execution_count": 289,
   "metadata": {},
   "outputs": [
    {
     "data": {
      "text/plain": [
       "(array([nan,  0.,  1.]),\n",
       " '(13:42) 8-L.Jackson pass short right to 7-R.Bateman pushed ob at BAL 32 for 4 yards (3-J.Whitehead).')"
      ]
     },
     "execution_count": 289,
     "metadata": {},
     "output_type": "execute_result"
    }
   ],
   "source": [
    "(pbp_2022.complete_pass.unique(),\n",
    " pbp_2022.query('complete_pass == 1').desc[7])"
   ]
  },
  {
   "attachments": {},
   "cell_type": "markdown",
   "metadata": {},
   "source": [
    "`assist_tackle` indicates if a player assisted on the tackle on the play. It is either `nan`, `1` (True), or `0` (False)."
   ]
  },
  {
   "cell_type": "code",
   "execution_count": 291,
   "metadata": {},
   "outputs": [
    {
     "data": {
      "text/plain": [
       "(array([nan,  0.,  1.]),\n",
       " '(14:56) 32-Mi.Carter left end to NYJ 41 for 19 yards (32-M.Williams; 36-C.Clark).')"
      ]
     },
     "execution_count": 291,
     "metadata": {},
     "output_type": "execute_result"
    }
   ],
   "source": [
    "(pbp_2022.assist_tackle.unique(),\n",
    " pbp_2022.query('assist_tackle == 1').desc[2])"
   ]
  },
  {
   "attachments": {},
   "cell_type": "markdown",
   "metadata": {},
   "source": [
    "The following fields provide the player_id (string), player_name (string) and yards gained (integer) for the passer, receiver or rusher on the play, respectively. \n",
    "\n",
    "- passer_player_id\n",
    "- passer_player_name\n",
    "- passing_yards\n",
    "- receiver_player_id\n",
    "- receiver_player_name\n",
    "- receiving_yards\n",
    "- rusher_player_id\n",
    "- rusher_player_name\n",
    "- rushing_yards"
   ]
  },
  {
   "cell_type": "code",
   "execution_count": 299,
   "metadata": {},
   "outputs": [
    {
     "data": {
      "text/plain": [
       "('00-0026158',\n",
       " 'J.Flacco',\n",
       " nan,\n",
       " '(14:29) (No Huddle, Shotgun) 19-J.Flacco pass incomplete short left to 32-Mi.Carter.')"
      ]
     },
     "execution_count": 299,
     "metadata": {},
     "output_type": "execute_result"
    }
   ],
   "source": [
    "(pbp_2022.passer_player_id[3],\n",
    " pbp_2022.passer_player_name[3],\n",
    " pbp_2022.passing_yards[3],\n",
    " pbp_2022.desc[3])"
   ]
  },
  {
   "cell_type": "code",
   "execution_count": 302,
   "metadata": {},
   "outputs": [
    {
     "data": {
      "text/plain": [
       "('00-0036924',\n",
       " 'Mi.Carter',\n",
       " nan,\n",
       " '(14:29) (No Huddle, Shotgun) 19-J.Flacco pass incomplete short left to 32-Mi.Carter.')"
      ]
     },
     "execution_count": 302,
     "metadata": {},
     "output_type": "execute_result"
    }
   ],
   "source": [
    "(pbp_2022.receiver_player_id[3],\n",
    " pbp_2022.receiver_player_name[3],\n",
    " pbp_2022.receiving_yards[3],\n",
    " pbp_2022.desc[3])"
   ]
  },
  {
   "cell_type": "code",
   "execution_count": 301,
   "metadata": {},
   "outputs": [
    {
     "data": {
      "text/plain": [
       "('00-0036924',\n",
       " 'Mi.Carter',\n",
       " 19.0,\n",
       " '(14:56) 32-Mi.Carter left end to NYJ 41 for 19 yards (32-M.Williams; 36-C.Clark).')"
      ]
     },
     "execution_count": 301,
     "metadata": {},
     "output_type": "execute_result"
    }
   ],
   "source": [
    "(pbp_2022.rusher_player_id[2],\n",
    " pbp_2022.rusher_player_name[2],\n",
    " pbp_2022.rushing_yards[2],\n",
    " pbp_2022.desc[2])"
   ]
  },
  {
   "attachments": {},
   "cell_type": "markdown",
   "metadata": {},
   "source": [
    "The following fields provide the player_id (string) and player_name (string) for players who intercepted the ball, returned a punt, returned a kickoff, punted the ball, kicked off the ball, recovered their own kickoff, or blocked the kick, respectively:\n",
    "\n",
    "- interception_player_id\n",
    "- interception_player_name\n",
    "- punt_returner_player_id\n",
    "- punt_returner_player_name\n",
    "- kickoff_returner_player_name\n",
    "- kickoff_returner_player_id\n",
    "- punter_player_id\n",
    "- punter_player_name\n",
    "- kicker_player_name\n",
    "- kicker_player_id\n",
    "- own_kickoff_recovery_player_id\n",
    "- own_kickoff_recovery_player_name\n",
    "- blocked_player_id\n",
    "- blocked_player_name"
   ]
  },
  {
   "cell_type": "code",
   "execution_count": 306,
   "metadata": {},
   "outputs": [
    {
     "data": {
      "text/plain": [
       "('00-0033894',\n",
       " 'M.Williams',\n",
       " '(5:07) (Shotgun) 19-J.Flacco pass short middle intended for 81-L.Cager INTERCEPTED by 32-M.Williams at NYJ 46. 32-M.Williams to NYJ 13 for 33 yards (19-J.Flacco).')"
      ]
     },
     "execution_count": 306,
     "metadata": {},
     "output_type": "execute_result"
    }
   ],
   "source": [
    "(pbp_2022.interception_player_id[28],\n",
    " pbp_2022.interception_player_name[28],\n",
    " pbp_2022.desc[28])"
   ]
  },
  {
   "cell_type": "code",
   "execution_count": 308,
   "metadata": {},
   "outputs": [
    {
     "data": {
      "text/plain": [
       "('00-0036331',\n",
       " 'D.Duvernay',\n",
       " '(13:53) 7-B.Mann punts 45 yards to BAL 19, Center-42-T.Hennessy. 13-D.Duvernay pushed ob at BAL 28 for 9 yards (42-T.Hennessy).')"
      ]
     },
     "execution_count": 308,
     "metadata": {},
     "output_type": "execute_result"
    }
   ],
   "source": [
    "(pbp_2022.punt_returner_player_id[6],\n",
    " pbp_2022.punt_returner_player_name[6],\n",
    " pbp_2022.desc[6])"
   ]
  },
  {
   "cell_type": "code",
   "execution_count": 310,
   "metadata": {},
   "outputs": [
    {
     "data": {
      "text/plain": [
       "('00-0034419',\n",
       " 'B.Berrios',\n",
       " '9-J.Tucker kicks 68 yards from BAL 35 to NYJ -3. 10-B.Berrios to NYJ 22 for 25 yards (51-J.Ross).')"
      ]
     },
     "execution_count": 310,
     "metadata": {},
     "output_type": "execute_result"
    }
   ],
   "source": [
    "(pbp_2022.kickoff_returner_player_id[1],\n",
    " pbp_2022.kickoff_returner_player_name[1],\n",
    " pbp_2022.desc[1])"
   ]
  },
  {
   "cell_type": "code",
   "execution_count": 311,
   "metadata": {},
   "outputs": [
    {
     "data": {
      "text/plain": [
       "('00-0036313',\n",
       " 'B.Mann',\n",
       " '(13:53) 7-B.Mann punts 45 yards to BAL 19, Center-42-T.Hennessy. 13-D.Duvernay pushed ob at BAL 28 for 9 yards (42-T.Hennessy).')"
      ]
     },
     "execution_count": 311,
     "metadata": {},
     "output_type": "execute_result"
    }
   ],
   "source": [
    "(pbp_2022.punter_player_id[6],\n",
    " pbp_2022.punter_player_name[6],\n",
    " pbp_2022.desc[6])"
   ]
  },
  {
   "cell_type": "code",
   "execution_count": 312,
   "metadata": {},
   "outputs": [
    {
     "data": {
      "text/plain": [
       "('00-0029597',\n",
       " 'J.Tucker',\n",
       " '9-J.Tucker kicks 68 yards from BAL 35 to NYJ -3. 10-B.Berrios to NYJ 22 for 25 yards (51-J.Ross).')"
      ]
     },
     "execution_count": 312,
     "metadata": {},
     "output_type": "execute_result"
    }
   ],
   "source": [
    "(pbp_2022.kicker_player_id[1],\n",
    " pbp_2022.kicker_player_name[1],\n",
    " pbp_2022.desc[1])"
   ]
  },
  {
   "cell_type": "code",
   "execution_count": 317,
   "metadata": {},
   "outputs": [
    {
     "data": {
      "text/plain": [
       "('00-0033770',\n",
       " 'J.Hardee',\n",
       " '7-B.Mann kicks onside 12 yards from NYJ 35 to NYJ 47. RECOVERED by NYJ-34-J.Hardee.')"
      ]
     },
     "execution_count": 317,
     "metadata": {},
     "output_type": "execute_result"
    }
   ],
   "source": [
    "(pbp_2022.own_kickoff_recovery_player_id[4964],\n",
    " pbp_2022.own_kickoff_recovery_player_name[4964],\n",
    " pbp_2022.desc[4964])"
   ]
  },
  {
   "cell_type": "code",
   "execution_count": 320,
   "metadata": {},
   "outputs": [
    {
     "data": {
      "text/plain": [
       "('00-0036926',\n",
       " 'P.Turner',\n",
       " '(:02) 7-Y.Koo 63 yard field goal is BLOCKED (98-P.Turner), Center-48-L.McCullough, Holder-13-B.Pinion, recovered by ATL-13-B.Pinion at ATL 49. 13-B.Pinion to 50 for 1 yard (53-Z.Baun, 48-J.Gray).')"
      ]
     },
     "execution_count": 320,
     "metadata": {},
     "output_type": "execute_result"
    }
   ],
   "source": [
    "(pbp_2022.blocked_player_id[1947],\n",
    " pbp_2022.blocked_player_name[1947],\n",
    " pbp_2022.desc[1947])"
   ]
  },
  {
   "attachments": {},
   "cell_type": "markdown",
   "metadata": {},
   "source": [
    "The following fields show player_id (string), player_name (string) or team (string) for a variety of defensive plays such as tackle for loss, quarterback hit, solo tackle, assist tackle and so on.\n",
    "\n",
    "- tackle_for_loss_1_player_id\n",
    "- tackle_for_loss_1_player_name\n",
    "- tackle_for_loss_2_player_id\n",
    "- tackle_for_loss_2_player_name\n",
    "- qb_hit_1_player_id\n",
    "- qb_hit_1_player_name\n",
    "- qb_hit_2_player_id\n",
    "- qb_hit_2_player_name\n",
    "- solo_tackle_1_team\n",
    "- solo_tackle_2_team\n",
    "- solo_tackle_1_player_id\n",
    "- solo_tackle_2_player_id\n",
    "- solo_tackle_1_player_name\n",
    "- solo_tackle_2_player_name\n",
    "- assist_tackle_1_player_id\n",
    "- assist_tackle_1_player_name\n",
    "- assist_tackle_1_team\n",
    "- assist_tackle_2_player_id\n",
    "- assist_tackle_2_player_name\n",
    "- assist_tackle_2_team\n",
    "- assist_tackle_3_player_id\n",
    "- assist_tackle_3_player_name\n",
    "- assist_tackle_3_team\n",
    "- assist_tackle_4_player_id\n",
    "- assist_tackle_4_player_name\n",
    "- assist_tackle_4_team\n",
    "- tackle_with_assist\n",
    "- tackle_with_assist_1_player_id\n",
    "- tackle_with_assist_1_player_name\n",
    "- tackle_with_assist_1_team\n",
    "- tackle_with_assist_2_player_id\n",
    "- tackle_with_assist_2_player_name\n",
    "- tackle_with_assist_2_team\n",
    "- pass_defense_1_player_id\n",
    "- pass_defense_1_player_name\n",
    "- pass_defense_2_player_id\n",
    "- pass_defense_2_player_name\n",
    "- sack_player_id\n",
    "- sack_player_name\n",
    "- half_sack_1_player_id\n",
    "- half_sack_1_player_name\n",
    "- half_sack_2_player_id\n",
    "- half_sack_2_player_name"
   ]
  },
  {
   "cell_type": "code",
   "execution_count": 353,
   "metadata": {},
   "outputs": [
    {
     "data": {
      "text/plain": [
       "(1.0,\n",
       " '00-0036130',\n",
       " 'J.Madubuike',\n",
       " '(9:49) 20-Br.Hall right end to NYJ 9 for -2 yards (92-J.Madubuike).')"
      ]
     },
     "execution_count": 353,
     "metadata": {},
     "output_type": "execute_result"
    }
   ],
   "source": [
    "(pbp_2022.tackled_for_loss[15],\n",
    " pbp_2022.tackle_for_loss_1_player_id[15],\n",
    " pbp_2022.tackle_for_loss_1_player_name[15],\n",
    " pbp_2022.desc[15])"
   ]
  },
  {
   "attachments": {},
   "cell_type": "markdown",
   "metadata": {},
   "source": [
    "There are no plays where `tackle_for_loss_2_player_id` has a value."
   ]
  },
  {
   "cell_type": "code",
   "execution_count": 328,
   "metadata": {},
   "outputs": [
    {
     "data": {
      "text/plain": [
       "array([nan])"
      ]
     },
     "execution_count": 328,
     "metadata": {},
     "output_type": "execute_result"
    }
   ],
   "source": [
    "pbp_2022.tackle_for_loss_2_player_id.unique()"
   ]
  },
  {
   "cell_type": "code",
   "execution_count": 351,
   "metadata": {},
   "outputs": [
    {
     "data": {
      "text/plain": [
       "(1.0,\n",
       " '00-0026190',\n",
       " 'C.Campbell',\n",
       " '(14:01) (No Huddle, Shotgun) 19-J.Flacco pass incomplete short right [93-C.Campbell]. PENALTY on NYJ-19-J.Flacco, Intentional Grounding, 10 yards, enforced at NYJ 46.')"
      ]
     },
     "execution_count": 351,
     "metadata": {},
     "output_type": "execute_result"
    }
   ],
   "source": [
    "(pbp_2022.qb_hit[5],\n",
    " pbp_2022.qb_hit_1_player_id[5],\n",
    " pbp_2022.qb_hit_1_player_name[5],\n",
    " pbp_2022.desc[5])"
   ]
  },
  {
   "cell_type": "code",
   "execution_count": 354,
   "metadata": {},
   "outputs": [
    {
     "data": {
      "text/plain": [
       "(1.0,\n",
       " '00-0034163',\n",
       " 'J.Johnson',\n",
       " '00-0034163',\n",
       " 'J.Martin',\n",
       " '(8:59) (Shotgun) 8-L.Jackson sacked at BAL 49 for -2 yards (sack split by 52-J.Johnson and 54-J.Martin).')"
      ]
     },
     "execution_count": 354,
     "metadata": {},
     "output_type": "execute_result"
    }
   ],
   "source": [
    "(pbp_2022.qb_hit[55],\n",
    " pbp_2022.qb_hit_1_player_id[55],\n",
    " pbp_2022.qb_hit_1_player_name[55],\n",
    " pbp_2022.qb_hit_2_player_id[55],\n",
    " pbp_2022.qb_hit_2_player_name[55],\n",
    " pbp_2022.desc[55])"
   ]
  },
  {
   "cell_type": "code",
   "execution_count": 355,
   "metadata": {},
   "outputs": [
    {
     "data": {
      "text/plain": [
       "(1.0,\n",
       " 'MIN',\n",
       " '00-0032129',\n",
       " 'J.Hicks',\n",
       " 'GB',\n",
       " '00-0036631',\n",
       " 'R.Newman',\n",
       " '(12:21) 12-A.Rodgers sacked at GB 35 for -9 yards (58-J.Hicks). FUMBLES (58-J.Hicks) [58-J.Hicks], RECOVERED by MIN-94-D.Tomlinson at GB 33. 94-D.Tomlinson to GB 33 for no gain (70-R.Newman).')"
      ]
     },
     "execution_count": 355,
     "metadata": {},
     "output_type": "execute_result"
    }
   ],
   "source": [
    "(pbp_2022.solo_tackle[777],\n",
    " pbp_2022.solo_tackle_1_team[777],\n",
    " pbp_2022.solo_tackle_1_player_id[777],\n",
    " pbp_2022.solo_tackle_1_player_name[777],\n",
    " pbp_2022.solo_tackle_2_team[777],\n",
    " pbp_2022.solo_tackle_2_player_id[777],\n",
    " pbp_2022.solo_tackle_2_player_name[777],\n",
    " pbp_2022.desc[777])"
   ]
  },
  {
   "cell_type": "code",
   "execution_count": 350,
   "metadata": {},
   "outputs": [
    {
     "data": {
      "text/plain": [
       "(1.0,\n",
       " 'BAL',\n",
       " '00-0033894',\n",
       " 'M.Williams',\n",
       " 'BAL',\n",
       " '00-0033294',\n",
       " 'C.Clark',\n",
       " '(14:56) 32-Mi.Carter left end to NYJ 41 for 19 yards (32-M.Williams; 36-C.Clark).')"
      ]
     },
     "execution_count": 350,
     "metadata": {},
     "output_type": "execute_result"
    }
   ],
   "source": [
    "(pbp_2022.assist_tackle[2],\n",
    " pbp_2022.assist_tackle_1_team[2],\n",
    " pbp_2022.assist_tackle_1_player_id[2],\n",
    " pbp_2022.assist_tackle_1_player_name[2],\n",
    " pbp_2022.assist_tackle_2_team[2],\n",
    " pbp_2022.assist_tackle_2_player_id[2],\n",
    " pbp_2022.assist_tackle_2_player_name[2],\n",
    " pbp_2022.desc[2])"
   ]
  },
  {
   "attachments": {},
   "cell_type": "markdown",
   "metadata": {},
   "source": [
    "There are no plays where `assist_tackle_3_player_id` or `assist_tackle_4_player_id` have a value."
   ]
  },
  {
   "cell_type": "code",
   "execution_count": 349,
   "metadata": {},
   "outputs": [
    {
     "data": {
      "text/plain": [
       "(array([nan]), array([nan]))"
      ]
     },
     "execution_count": 349,
     "metadata": {},
     "output_type": "execute_result"
    }
   ],
   "source": [
    "pbp_2022.assist_tackle_3_player_id.unique(), pbp_2022.assist_tackle_4_player_id.unique()"
   ]
  },
  {
   "attachments": {},
   "cell_type": "markdown",
   "metadata": {},
   "source": [
    "`tackle_with_assist` is not the same as `assist_tackle`."
   ]
  },
  {
   "cell_type": "code",
   "execution_count": 357,
   "metadata": {},
   "outputs": [
    {
     "data": {
      "text/plain": [
       "(0.0,\n",
       " nan,\n",
       " nan,\n",
       " nan,\n",
       " nan,\n",
       " nan,\n",
       " nan,\n",
       " '(14:56) 32-Mi.Carter left end to NYJ 41 for 19 yards (32-M.Williams; 36-C.Clark).')"
      ]
     },
     "execution_count": 357,
     "metadata": {},
     "output_type": "execute_result"
    }
   ],
   "source": [
    "(pbp_2022.tackle_with_assist[2],\n",
    " pbp_2022.tackle_with_assist_1_team[2],\n",
    " pbp_2022.tackle_with_assist_1_player_id[2],\n",
    " pbp_2022.tackle_with_assist_1_player_name[2],\n",
    " pbp_2022.tackle_with_assist_2_team[2],\n",
    " pbp_2022.tackle_with_assist_2_player_id[2],\n",
    " pbp_2022.tackle_with_assist_2_player_name[2],\n",
    " pbp_2022.desc[2])"
   ]
  },
  {
   "cell_type": "code",
   "execution_count": 361,
   "metadata": {},
   "outputs": [
    {
     "data": {
      "text/plain": [
       "(1.0,\n",
       " 'LAC',\n",
       " '00-0031040',\n",
       " 'K.Mack',\n",
       " 'ATL',\n",
       " '00-0035208',\n",
       " 'O.Zaccheaus',\n",
       " '(9:31) (No Huddle, Shotgun) 1-M.Mariota pass short left to 5-D.London to LAC 6 for 5 yards (52-K.Mack, 43-M.Davis). FUMBLES (52-K.Mack), RECOVERED by LAC-52-K.Mack at LAC 6. 52-K.Mack pushed ob at 50 for 44 yards (17-O.Zaccheaus, 5-D.London).')"
      ]
     },
     "execution_count": 361,
     "metadata": {},
     "output_type": "execute_result"
    }
   ],
   "source": [
    "(pbp_2022.tackle_with_assist[22659],\n",
    " pbp_2022.tackle_with_assist_1_team[22659],\n",
    " pbp_2022.tackle_with_assist_1_player_id[22659],\n",
    " pbp_2022.tackle_with_assist_1_player_name[22659],\n",
    " pbp_2022.tackle_with_assist_2_team[22659],\n",
    " pbp_2022.tackle_with_assist_2_player_id[22659],\n",
    " pbp_2022.tackle_with_assist_2_player_name[22659],\n",
    " pbp_2022.desc[22659])"
   ]
  },
  {
   "attachments": {},
   "cell_type": "markdown",
   "metadata": {},
   "source": [
    "I'll explore this more later before using these fields in analyses, but it seems like the `assist_tackle` fields provide information on players who assisted with the tackle, while `tackle_with_assist` lists information of the \"main\" player who was assisted on the tackle."
   ]
  },
  {
   "cell_type": "code",
   "execution_count": 362,
   "metadata": {},
   "outputs": [
    {
     "data": {
      "text/plain": [
       "(1.0,\n",
       " 'LAC',\n",
       " '00-0033697',\n",
       " 'M.Davis',\n",
       " 'ATL',\n",
       " '00-0037238',\n",
       " 'D.London',\n",
       " '(9:31) (No Huddle, Shotgun) 1-M.Mariota pass short left to 5-D.London to LAC 6 for 5 yards (52-K.Mack, 43-M.Davis). FUMBLES (52-K.Mack), RECOVERED by LAC-52-K.Mack at LAC 6. 52-K.Mack pushed ob at 50 for 44 yards (17-O.Zaccheaus, 5-D.London).')"
      ]
     },
     "execution_count": 362,
     "metadata": {},
     "output_type": "execute_result"
    }
   ],
   "source": [
    "(pbp_2022.assist_tackle[22659],\n",
    " pbp_2022.assist_tackle_1_team[22659],\n",
    " pbp_2022.assist_tackle_1_player_id[22659],\n",
    " pbp_2022.assist_tackle_1_player_name[22659],\n",
    " pbp_2022.assist_tackle_2_team[22659],\n",
    " pbp_2022.assist_tackle_2_player_id[22659],\n",
    " pbp_2022.assist_tackle_2_player_name[22659],\n",
    " pbp_2022.desc[22659])"
   ]
  },
  {
   "cell_type": "code",
   "execution_count": 364,
   "metadata": {},
   "outputs": [
    {
     "data": {
      "text/plain": [
       "('00-0033050',\n",
       " 'X.Howard',\n",
       " '00-0036998',\n",
       " 'J.Holland',\n",
       " '(10:05) (Shotgun) 10-M.Jones pass deep right intended for 1-D.Parker INTERCEPTED by 8-J.Holland (25-X.Howard) at MIA -3. 8-J.Holland to MIA 28 for 31 yards (76-I.Wynn).')"
      ]
     },
     "execution_count": 364,
     "metadata": {},
     "output_type": "execute_result"
    }
   ],
   "source": [
    "(pbp_2022.pass_defense_1_player_id[1613],\n",
    " pbp_2022.pass_defense_1_player_name[1613],\n",
    " pbp_2022.pass_defense_2_player_id[1613],\n",
    " pbp_2022.pass_defense_2_player_name[1613],\n",
    " pbp_2022.desc[1613])"
   ]
  },
  {
   "attachments": {},
   "cell_type": "markdown",
   "metadata": {},
   "source": [
    "The following fields show player_id (string), player_name (string) or team (string) for a variety of fumble-related plays:\n",
    "\n",
    "- forced_fumble_player_1_team\n",
    "- forced_fumble_player_1_player_id\n",
    "- forced_fumble_player_1_player_name\n",
    "- forced_fumble_player_2_team\n",
    "- forced_fumble_player_2_player_id\n",
    "- forced_fumble_player_2_player_name\n",
    "- fumbled_1_team\n",
    "- fumbled_1_player_id\n",
    "- fumbled_1_player_name\n",
    "- fumbled_2_player_id\n",
    "- fumbled_2_player_name\n",
    "- fumbled_2_team\n",
    "- fumble_recovery_1_team\n",
    "- fumble_recovery_1_yards\n",
    "- fumble_recovery_1_player_id\n",
    "- fumble_recovery_1_player_name\n",
    "- fumble_recovery_2_team\n",
    "- fumble_recovery_2_yards\n",
    "- fumble_recovery_2_player_id\n",
    "- fumble_recovery_2_player_name"
   ]
  },
  {
   "cell_type": "code",
   "execution_count": 366,
   "metadata": {},
   "outputs": [
    {
     "data": {
      "text/plain": [
       "(1.0,\n",
       " 'NYG',\n",
       " '00-0033046',\n",
       " 'J.Ward',\n",
       " 'NYG',\n",
       " '00-0036167',\n",
       " 'T.Crowder',\n",
       " '(:03) (Shotgun) 1-J.Fields pass short right to 25-T.Ebner to CHI 35 for 2 yards. Lateral to 19-E.St. Brown to CHI 44 for 9 yards. FUMBLES, touched at CHI 44, recovered by CHI-1-J.Fields at CHI 39. 1-J.Fields to CHI 36 for -3 yards. Lateral to 19-E.St. Brown to CHI 44 for 8 yards. Lateral to 25-T.Ebner to NYG 44 for 12 yards (55-J.Ward). FUMBLES (55-J.Ward), recovered by CHI-62-L.Patrick at NYG 46. 62-L.Patrick to CHI 48 for -6 yards. Lateral to 1-J.Fields to CHI 49 for 1 yard. Lateral to 76-T.Jenkins to CHI 46 for -3 yards (48-T.Crowder). FUMBLES (48-T.Crowder), touched at CHI 45, recovered by CHI-25-T.Ebner at CHI 41. 25-T.Ebner to CHI 32 for -9 yards. FUMBLES, touched at CHI 32, RECOVERED by NYG-24-D.Belton at CHI 28.')"
      ]
     },
     "execution_count": 366,
     "metadata": {},
     "output_type": "execute_result"
    }
   ],
   "source": [
    "(pbp_2022.fumble_forced[9041],\n",
    " pbp_2022.forced_fumble_player_1_team[9041],\n",
    " pbp_2022.forced_fumble_player_1_player_id[9041],\n",
    " pbp_2022.forced_fumble_player_1_player_name[9041],\n",
    " pbp_2022.forced_fumble_player_2_team[9041],\n",
    " pbp_2022.forced_fumble_player_2_player_id[9041],\n",
    " pbp_2022.forced_fumble_player_2_player_name[9041],\n",
    " pbp_2022.desc[9041])"
   ]
  },
  {
   "cell_type": "code",
   "execution_count": 369,
   "metadata": {},
   "outputs": [
    {
     "data": {
      "text/plain": [
       "('CHI',\n",
       " '00-0034279',\n",
       " 'E.St. Brown',\n",
       " 'CHI',\n",
       " '00-0036953',\n",
       " 'T.Ebner',\n",
       " '(:03) (Shotgun) 1-J.Fields pass short right to 25-T.Ebner to CHI 35 for 2 yards. Lateral to 19-E.St. Brown to CHI 44 for 9 yards. FUMBLES, touched at CHI 44, recovered by CHI-1-J.Fields at CHI 39. 1-J.Fields to CHI 36 for -3 yards. Lateral to 19-E.St. Brown to CHI 44 for 8 yards. Lateral to 25-T.Ebner to NYG 44 for 12 yards (55-J.Ward). FUMBLES (55-J.Ward), recovered by CHI-62-L.Patrick at NYG 46. 62-L.Patrick to CHI 48 for -6 yards. Lateral to 1-J.Fields to CHI 49 for 1 yard. Lateral to 76-T.Jenkins to CHI 46 for -3 yards (48-T.Crowder). FUMBLES (48-T.Crowder), touched at CHI 45, recovered by CHI-25-T.Ebner at CHI 41. 25-T.Ebner to CHI 32 for -9 yards. FUMBLES, touched at CHI 32, RECOVERED by NYG-24-D.Belton at CHI 28.')"
      ]
     },
     "execution_count": 369,
     "metadata": {},
     "output_type": "execute_result"
    }
   ],
   "source": [
    "(pbp_2022.fumbled_1_team[9041],\n",
    " pbp_2022.fumbled_1_player_id[9041],\n",
    " pbp_2022.fumbled_1_player_name[9041],\n",
    " pbp_2022.fumbled_2_team[9041],\n",
    " pbp_2022.fumbled_2_player_id[9041],\n",
    " pbp_2022.fumbled_2_player_name[9041],\n",
    " pbp_2022.desc[9041])"
   ]
  },
  {
   "cell_type": "code",
   "execution_count": 370,
   "metadata": {},
   "outputs": [
    {
     "data": {
      "text/plain": [
       "('CHI',\n",
       " '00-0036945',\n",
       " 'J.Fields',\n",
       " -3.0,\n",
       " 'CHI',\n",
       " '00-0033082',\n",
       " 'L.Patrick',\n",
       " -6.0,\n",
       " '(:03) (Shotgun) 1-J.Fields pass short right to 25-T.Ebner to CHI 35 for 2 yards. Lateral to 19-E.St. Brown to CHI 44 for 9 yards. FUMBLES, touched at CHI 44, recovered by CHI-1-J.Fields at CHI 39. 1-J.Fields to CHI 36 for -3 yards. Lateral to 19-E.St. Brown to CHI 44 for 8 yards. Lateral to 25-T.Ebner to NYG 44 for 12 yards (55-J.Ward). FUMBLES (55-J.Ward), recovered by CHI-62-L.Patrick at NYG 46. 62-L.Patrick to CHI 48 for -6 yards. Lateral to 1-J.Fields to CHI 49 for 1 yard. Lateral to 76-T.Jenkins to CHI 46 for -3 yards (48-T.Crowder). FUMBLES (48-T.Crowder), touched at CHI 45, recovered by CHI-25-T.Ebner at CHI 41. 25-T.Ebner to CHI 32 for -9 yards. FUMBLES, touched at CHI 32, RECOVERED by NYG-24-D.Belton at CHI 28.')"
      ]
     },
     "execution_count": 370,
     "metadata": {},
     "output_type": "execute_result"
    }
   ],
   "source": [
    "(pbp_2022.fumble_recovery_1_team[9041],\n",
    " pbp_2022.fumble_recovery_1_player_id[9041],\n",
    " pbp_2022.fumble_recovery_1_player_name[9041],\n",
    " pbp_2022.fumble_recovery_1_yards[9041],\n",
    " pbp_2022.fumble_recovery_2_team[9041],\n",
    " pbp_2022.fumble_recovery_2_player_id[9041],\n",
    " pbp_2022.fumble_recovery_2_player_name[9041],\n",
    " pbp_2022.fumble_recovery_2_yards[9041],\n",
    " pbp_2022.desc[9041])"
   ]
  },
  {
   "cell_type": "code",
   "execution_count": 372,
   "metadata": {},
   "outputs": [
    {
     "data": {
      "text/plain": [
       "(1.0,\n",
       " 'Qu.Williams',\n",
       " '00-0035680',\n",
       " '(9:43) (Shotgun) 8-L.Jackson sacked ob at NYJ 49 for 0 yards (56-Qu.Williams).')"
      ]
     },
     "execution_count": 372,
     "metadata": {},
     "output_type": "execute_result"
    }
   ],
   "source": [
    "(pbp_2022.sack[54],\n",
    " pbp_2022.sack_player_name[54],\n",
    " pbp_2022.sack_player_id[54],\n",
    " pbp_2022.desc[54])"
   ]
  },
  {
   "attachments": {},
   "cell_type": "markdown",
   "metadata": {},
   "source": [
    "When a sack is split, `sack == 1` but `sack_player_name` and `id` are `nan`."
   ]
  },
  {
   "cell_type": "code",
   "execution_count": 375,
   "metadata": {},
   "outputs": [
    {
     "data": {
      "text/plain": [
       "(1.0,\n",
       " nan,\n",
       " nan,\n",
       " '00-0034163',\n",
       " 'J.Johnson',\n",
       " '00-0034163',\n",
       " 'J.Martin',\n",
       " '(8:59) (Shotgun) 8-L.Jackson sacked at BAL 49 for -2 yards (sack split by 52-J.Johnson and 54-J.Martin).')"
      ]
     },
     "execution_count": 375,
     "metadata": {},
     "output_type": "execute_result"
    }
   ],
   "source": [
    "(pbp_2022.sack[55],\n",
    " pbp_2022.sack_player_name[55],\n",
    " pbp_2022.sack_player_id[55],\n",
    " pbp_2022.half_sack_1_player_id[55],\n",
    " pbp_2022.half_sack_1_player_name[55],\n",
    " pbp_2022.half_sack_2_player_id[55],\n",
    " pbp_2022.half_sack_2_player_name[55],\n",
    " pbp_2022.desc[55])"
   ]
  },
  {
   "attachments": {},
   "cell_type": "markdown",
   "metadata": {},
   "source": [
    "`return_team` (string) and `return_yards` (integer) are the abbreviation and yardage of the team that returned the kickoff or punt. I'll look into if fumble returns are included before I use this field for analyses."
   ]
  },
  {
   "cell_type": "code",
   "execution_count": 379,
   "metadata": {},
   "outputs": [
    {
     "data": {
      "text/plain": [
       "('NYJ',\n",
       " 25.0,\n",
       " '9-J.Tucker kicks 68 yards from BAL 35 to NYJ -3. 10-B.Berrios to NYJ 22 for 25 yards (51-J.Ross).')"
      ]
     },
     "execution_count": 379,
     "metadata": {},
     "output_type": "execute_result"
    }
   ],
   "source": [
    "(pbp_2022.return_team[1], \n",
    " pbp_2022.return_yards[1],\n",
    " pbp_2022.desc[1])"
   ]
  },
  {
   "attachments": {},
   "cell_type": "markdown",
   "metadata": {},
   "source": [
    "The following fields hold information about penalties.\n",
    "\n",
    "- penalty_team (string)\n",
    "- penalty_player_id (string)\n",
    "- penalty_player_name (string)\n",
    "- penalty_yards (integer)\n",
    "- penalty_type (string)"
   ]
  },
  {
   "cell_type": "code",
   "execution_count": 386,
   "metadata": {},
   "outputs": [
    {
     "data": {
      "text/plain": [
       "(1.0,\n",
       " 'NYJ',\n",
       " '00-0026158',\n",
       " 'J.Flacco',\n",
       " 10.0,\n",
       " 'Intentional Grounding',\n",
       " '(14:01) (No Huddle, Shotgun) 19-J.Flacco pass incomplete short right [93-C.Campbell]. PENALTY on NYJ-19-J.Flacco, Intentional Grounding, 10 yards, enforced at NYJ 46.')"
      ]
     },
     "execution_count": 386,
     "metadata": {},
     "output_type": "execute_result"
    }
   ],
   "source": [
    "(pbp_2022.penalty[5],\n",
    " pbp_2022.penalty_team[5],\n",
    " pbp_2022.penalty_player_id[5],\n",
    " pbp_2022.penalty_player_name[5],\n",
    " pbp_2022.penalty_yards[5],\n",
    " pbp_2022.penalty_type[5],\n",
    " pbp_2022.desc[5])"
   ]
  },
  {
   "cell_type": "code",
   "execution_count": 392,
   "metadata": {},
   "outputs": [
    {
     "data": {
      "text/plain": [
       "array([nan, 'Intentional Grounding', 'Illegal Contact',\n",
       "       'Offensive Holding', 'Defensive Pass Interference',\n",
       "       'Defensive Holding', 'Offensive Pass Interference', 'False Start',\n",
       "       'Horse Collar Tackle', 'Defensive Too Many Men on Field',\n",
       "       'Taunting', 'Delay of Game', 'Roughing the Passer',\n",
       "       'Unsportsmanlike Conduct', 'Low Block', 'Illegal Formation',\n",
       "       'Ineligible Downfield Pass', 'Unnecessary Roughness',\n",
       "       'Neutral Zone Infraction', 'Running Into the Kicker',\n",
       "       'Illegal Shift', 'Defensive Offside', 'Illegal Use of Hands',\n",
       "       'Illegal Block Above the Waist', 'Offensive Too Many Men on Field',\n",
       "       'Encroachment', 'Disqualification', 'Ineligible Downfield Kick',\n",
       "       'Face Mask', 'Player Out of Bounds on Kick',\n",
       "       'Illegal Forward Pass', 'Chop Block', 'Delay of Kickoff',\n",
       "       'Tripping', 'Illegal Substitution', 'Offensive Offside',\n",
       "       'Illegal Blindside Block', 'Illegal Touch Pass',\n",
       "       'Offside on Free Kick', 'Roughing the Kicker',\n",
       "       'Fair Catch Interference', 'Leverage', 'Illegal Motion',\n",
       "       'Defensive Delay of Game', 'Illegal Bat', 'Illegal Touch Kick',\n",
       "       'Illegal Double-Team Block', 'Invalid Fair Catch Signal',\n",
       "       'Illegal Crackback', 'Illegal Kick/Kicking Loose Ball'],\n",
       "      dtype=object)"
      ]
     },
     "execution_count": 392,
     "metadata": {},
     "output_type": "execute_result"
    }
   ],
   "source": [
    "pbp_2022.penalty_type.unique()"
   ]
  },
  {
   "attachments": {},
   "cell_type": "markdown",
   "metadata": {},
   "source": [
    "`replay_or_challenge` (`1` for True and `0` for False) and `replay_or_challenge_result` (`nan`, `'upheld'`, or `'reversed'`) show information about whether a replay or challenge occurred on the play."
   ]
  },
  {
   "cell_type": "code",
   "execution_count": 390,
   "metadata": {},
   "outputs": [
    {
     "data": {
      "text/plain": [
       "(1,\n",
       " 'upheld',\n",
       " '(7:42) (Shotgun) 25-M.Gordon right tackle to SEA 1 for no gain (6-Q.Diggs, 10-U.Nwosu). FUMBLES (6-Q.Diggs), RECOVERED by SEA-30-M.Jackson at SEA 2. 30-M.Jackson to SEA 10 for 8 yards (14-C.Sutton). The Replay Official reviewed the fumble ruling, and the play was Upheld. The ruling on the field stands.')"
      ]
     },
     "execution_count": 390,
     "metadata": {},
     "output_type": "execute_result"
    }
   ],
   "source": [
    "(pbp_2022.replay_or_challenge[621],\n",
    " pbp_2022.replay_or_challenge_result[621],\n",
    " pbp_2022.desc[621])"
   ]
  },
  {
   "attachments": {},
   "cell_type": "markdown",
   "metadata": {},
   "source": [
    "`safety_player_name` and `safety_player_id` have information about the player who caused the safety."
   ]
  },
  {
   "cell_type": "code",
   "execution_count": 394,
   "metadata": {},
   "outputs": [
    {
     "data": {
      "text/plain": [
       "(1.0,\n",
       " 'D.Alford',\n",
       " '00-0037034',\n",
       " '(:13) (Run formation) 19-B.Powell right end ran ob in End Zone for -26 yards, SAFETY (37-D.Alford).')"
      ]
     },
     "execution_count": 394,
     "metadata": {},
     "output_type": "execute_result"
    }
   ],
   "source": [
    "(pbp_2022.safety[3255],\n",
    " pbp_2022.safety_player_name[3255],\n",
    " pbp_2022.safety_player_id[3255],\n",
    " pbp_2022.desc[3255])"
   ]
  },
  {
   "attachments": {},
   "cell_type": "markdown",
   "metadata": {},
   "source": [
    "`series_result` is the result of the offensive series."
   ]
  },
  {
   "cell_type": "code",
   "execution_count": 399,
   "metadata": {},
   "outputs": [
    {
     "data": {
      "text/plain": [
       "array(['First down', 'Punt', 'Turnover', 'Field goal',\n",
       "       'Missed field goal', 'Touchdown', 'End of half',\n",
       "       'Turnover on downs', 'QB kneel', 'Opp touchdown', 'Safety', nan],\n",
       "      dtype=object)"
      ]
     },
     "execution_count": 399,
     "metadata": {},
     "output_type": "execute_result"
    }
   ],
   "source": [
    "pbp_2022.series_result.unique()"
   ]
  },
  {
   "attachments": {},
   "cell_type": "markdown",
   "metadata": {},
   "source": [
    "`play_type_nfl` shows slightly different play type categories."
   ]
  },
  {
   "cell_type": "code",
   "execution_count": 407,
   "metadata": {},
   "outputs": [
    {
     "data": {
      "text/plain": [
       "array(['GAME_START', 'KICK_OFF', 'RUSH', 'PASS', 'PUNT', 'TIMEOUT',\n",
       "       'PENALTY', 'FIELD_GOAL', 'END_QUARTER', 'SACK', 'XP_KICK',\n",
       "       'END_GAME', 'PAT2', nan, 'FREE_KICK'], dtype=object)"
      ]
     },
     "execution_count": 407,
     "metadata": {},
     "output_type": "execute_result"
    }
   ],
   "source": [
    "pbp_2022.play_type_nfl.unique()"
   ]
  },
  {
   "attachments": {},
   "cell_type": "markdown",
   "metadata": {},
   "source": [
    "`drive_play_count` shows how many plays the drive had. I'll look into it more before using it for analyses. It doesn't always match the number of plays on the drive, or at least seems not to, so I need to understand how they calculate this value."
   ]
  },
  {
   "cell_type": "code",
   "execution_count": 411,
   "metadata": {},
   "outputs": [
    {
     "data": {
      "text/plain": [
       "array([nan,  4.,  6.,  5.,  3.,  8.,  1.,  9., 16., 11.,  2., 13.,  7.,\n",
       "       14., 10., 15., 12.,  0., 18., 19., 20., 17., 21.])"
      ]
     },
     "execution_count": 411,
     "metadata": {},
     "output_type": "execute_result"
    }
   ],
   "source": [
    "pbp_2022.drive_play_count.unique()"
   ]
  },
  {
   "attachments": {},
   "cell_type": "markdown",
   "metadata": {},
   "source": [
    "`drive_time_of_possession` is a formatted string of minutes:seconds the drive took."
   ]
  },
  {
   "cell_type": "code",
   "execution_count": 413,
   "metadata": {},
   "outputs": [
    {
     "data": {
      "text/plain": [
       "array([nan, '1:18', '3:53', '2:44', '1:04'], dtype=object)"
      ]
     },
     "execution_count": 413,
     "metadata": {},
     "output_type": "execute_result"
    }
   ],
   "source": [
    "pbp_2022.drive_time_of_possession.unique()[:5]"
   ]
  },
  {
   "attachments": {},
   "cell_type": "markdown",
   "metadata": {},
   "source": [
    "`drive_first_downs` is the number of first downs achieved on the drive."
   ]
  },
  {
   "cell_type": "code",
   "execution_count": 414,
   "metadata": {},
   "outputs": [
    {
     "data": {
      "text/plain": [
       "array([nan,  1.,  0.,  3.,  2.])"
      ]
     },
     "execution_count": 414,
     "metadata": {},
     "output_type": "execute_result"
    }
   ],
   "source": [
    "pbp_2022.drive_first_downs.unique()[:5]"
   ]
  },
  {
   "attachments": {},
   "cell_type": "markdown",
   "metadata": {},
   "source": [
    "`drive_inside20` is either `nan`, `1` (True) or `0` (False) and indicates if a drive ended inside of the red zone (20 yards from the end zone)."
   ]
  },
  {
   "cell_type": "code",
   "execution_count": 416,
   "metadata": {},
   "outputs": [
    {
     "data": {
      "text/plain": [
       "array([nan,  0.,  1.])"
      ]
     },
     "execution_count": 416,
     "metadata": {},
     "output_type": "execute_result"
    }
   ],
   "source": [
    "pbp_2022.drive_inside20.unique()"
   ]
  },
  {
   "attachments": {},
   "cell_type": "markdown",
   "metadata": {},
   "source": [
    "`drive_ended_with_score` indicates if a drive ended with the offensive team scoring. It is either `nan`, `1` (True) or `0` (False)."
   ]
  },
  {
   "cell_type": "code",
   "execution_count": 417,
   "metadata": {},
   "outputs": [
    {
     "data": {
      "text/plain": [
       "array([nan,  0.,  1.])"
      ]
     },
     "execution_count": 417,
     "metadata": {},
     "output_type": "execute_result"
    }
   ],
   "source": [
    "pbp_2022.drive_ended_with_score.unique()"
   ]
  },
  {
   "attachments": {},
   "cell_type": "markdown",
   "metadata": {},
   "source": [
    "I'll have to look into it more before using it for analyses, but I believe `drive_yards_penalized` is the total number of offensive penalty yards on the drive."
   ]
  },
  {
   "cell_type": "code",
   "execution_count": 418,
   "metadata": {},
   "outputs": [
    {
     "data": {
      "text/plain": [
       "array([ nan, -10.,   0.,   5.,  32.])"
      ]
     },
     "execution_count": 418,
     "metadata": {},
     "output_type": "execute_result"
    }
   ],
   "source": [
    "pbp_2022.drive_yards_penalized.unique()[:5]"
   ]
  },
  {
   "attachments": {},
   "cell_type": "markdown",
   "metadata": {},
   "source": [
    "`drive_play_id_started` and `drive_play_id_ended` indicate the start and end `play_id` of the drive. Note that `play_id` are not consecutive and doesn't start at 1."
   ]
  },
  {
   "cell_type": "code",
   "execution_count": 420,
   "metadata": {},
   "outputs": [
    {
     "data": {
      "text/plain": [
       "(43.0, 172.0)"
      ]
     },
     "execution_count": 420,
     "metadata": {},
     "output_type": "execute_result"
    }
   ],
   "source": [
    "(pbp_2022.drive_play_id_started[1],\n",
    "pbp_2022.drive_play_id_ended[1])"
   ]
  },
  {
   "attachments": {},
   "cell_type": "markdown",
   "metadata": {},
   "source": [
    "`away_score` and `home_score` are the final scores of the away team and home team."
   ]
  },
  {
   "cell_type": "code",
   "execution_count": 424,
   "metadata": {},
   "outputs": [
    {
     "data": {
      "text/plain": [
       "('BAL', 24, 'NYJ', 9)"
      ]
     },
     "execution_count": 424,
     "metadata": {},
     "output_type": "execute_result"
    }
   ],
   "source": [
    "(pbp_2022.away_team[1],\n",
    " pbp_2022.away_score[1],\n",
    " pbp_2022.home_team[1],\n",
    " pbp_2022.home_score[1])"
   ]
  },
  {
   "attachments": {},
   "cell_type": "markdown",
   "metadata": {},
   "source": [
    "`result` is the difference between the home and the away team (I think---will look into it more)."
   ]
  },
  {
   "cell_type": "code",
   "execution_count": 425,
   "metadata": {},
   "outputs": [
    {
     "data": {
      "text/plain": [
       "-15"
      ]
     },
     "execution_count": 425,
     "metadata": {},
     "output_type": "execute_result"
    }
   ],
   "source": [
    "pbp_2022.result[1]"
   ]
  },
  {
   "attachments": {},
   "cell_type": "markdown",
   "metadata": {},
   "source": [
    "`total` is the total number of points scored by both teams."
   ]
  },
  {
   "cell_type": "code",
   "execution_count": 426,
   "metadata": {},
   "outputs": [
    {
     "data": {
      "text/plain": [
       "33"
      ]
     },
     "execution_count": 426,
     "metadata": {},
     "output_type": "execute_result"
    }
   ],
   "source": [
    "pbp_2022.total[1]"
   ]
  },
  {
   "attachments": {},
   "cell_type": "markdown",
   "metadata": {},
   "source": [
    "`div_game` indicates if the game is between teams in the same division. It is either `1` (True) or `0` (False)."
   ]
  },
  {
   "cell_type": "code",
   "execution_count": 429,
   "metadata": {},
   "outputs": [
    {
     "data": {
      "text/plain": [
       "(array([0, 1]), 0)"
      ]
     },
     "execution_count": 429,
     "metadata": {},
     "output_type": "execute_result"
    }
   ],
   "source": [
    "pbp_2022.div_game.unique(), pbp_2022.div_game[1]"
   ]
  },
  {
   "attachments": {},
   "cell_type": "markdown",
   "metadata": {},
   "source": [
    "`away_coach` and `home_coach` are the names of the away team and home team coaches, respectively."
   ]
  },
  {
   "cell_type": "code",
   "execution_count": 432,
   "metadata": {},
   "outputs": [
    {
     "data": {
      "text/plain": [
       "('John Harbaugh', 'Robert Saleh')"
      ]
     },
     "execution_count": 432,
     "metadata": {},
     "output_type": "execute_result"
    }
   ],
   "source": [
    "pbp_2022.away_coach[1], pbp_2022.home_coach[1]"
   ]
  },
  {
   "attachments": {},
   "cell_type": "markdown",
   "metadata": {},
   "source": [
    "The following fields give the name and jersey number of the passer, rusher or receiver on the play:\n",
    "\n",
    "- passer\n",
    "- passer_id\n",
    "- passer_jersey_number\n",
    "- rusher\n",
    "- rusher_id\n",
    "- rusher_jersey_number\n",
    "- receiver\n",
    "- receiver_id\n",
    "- receiver_jersey_number"
   ]
  },
  {
   "cell_type": "code",
   "execution_count": 441,
   "metadata": {},
   "outputs": [
    {
     "data": {
      "text/plain": [
       "('J.Flacco', '00-0026158', 19.0)"
      ]
     },
     "execution_count": 441,
     "metadata": {},
     "output_type": "execute_result"
    }
   ],
   "source": [
    "(pbp_2022.passer[3], \n",
    " pbp_2022.passer_id[3],\n",
    " pbp_2022.passer_jersey_number[3])"
   ]
  },
  {
   "cell_type": "code",
   "execution_count": 442,
   "metadata": {},
   "outputs": [
    {
     "data": {
      "text/plain": [
       "('Mi.Carter', '00-0036924', 32.0)"
      ]
     },
     "execution_count": 442,
     "metadata": {},
     "output_type": "execute_result"
    }
   ],
   "source": [
    "(pbp_2022.rusher[2], \n",
    " pbp_2022.rusher_id[2],\n",
    " pbp_2022.rusher_jersey_number[2])"
   ]
  },
  {
   "cell_type": "code",
   "execution_count": 443,
   "metadata": {},
   "outputs": [
    {
     "data": {
      "text/plain": [
       "('Mi.Carter', '00-0036924', 32.0)"
      ]
     },
     "execution_count": 443,
     "metadata": {},
     "output_type": "execute_result"
    }
   ],
   "source": [
    "(pbp_2022.receiver[3], \n",
    " pbp_2022.receiver_id[3],\n",
    " pbp_2022.receiver_jersey_number[3])"
   ]
  },
  {
   "attachments": {},
   "cell_type": "markdown",
   "metadata": {},
   "source": [
    "The following fields indicate if the play is a pass, rush, first down, or special teams, respectively. Their value is `nan`, `1` (True) or `0` (False):\n",
    "\n",
    "- pass\n",
    "- rush\n",
    "- first_down\n",
    "- special"
   ]
  },
  {
   "cell_type": "code",
   "execution_count": 448,
   "metadata": {},
   "outputs": [
    {
     "data": {
      "text/plain": [
       "(1,\n",
       " '(14:29) (No Huddle, Shotgun) 19-J.Flacco pass incomplete short left to 32-Mi.Carter.')"
      ]
     },
     "execution_count": 448,
     "metadata": {},
     "output_type": "execute_result"
    }
   ],
   "source": [
    "pbp_2022['pass'][3], pbp_2022.desc[3]"
   ]
  },
  {
   "cell_type": "code",
   "execution_count": 451,
   "metadata": {},
   "outputs": [
    {
     "data": {
      "text/plain": [
       "(1,\n",
       " '(14:56) 32-Mi.Carter left end to NYJ 41 for 19 yards (32-M.Williams; 36-C.Clark).')"
      ]
     },
     "execution_count": 451,
     "metadata": {},
     "output_type": "execute_result"
    }
   ],
   "source": [
    "pbp_2022.rush[2], pbp_2022.desc[2]"
   ]
  },
  {
   "cell_type": "code",
   "execution_count": 450,
   "metadata": {},
   "outputs": [
    {
     "data": {
      "text/plain": [
       "(1.0,\n",
       " '(14:56) 32-Mi.Carter left end to NYJ 41 for 19 yards (32-M.Williams; 36-C.Clark).')"
      ]
     },
     "execution_count": 450,
     "metadata": {},
     "output_type": "execute_result"
    }
   ],
   "source": [
    "pbp_2022.first_down[2], pbp_2022.desc[2]"
   ]
  },
  {
   "cell_type": "code",
   "execution_count": 446,
   "metadata": {},
   "outputs": [
    {
     "data": {
      "text/plain": [
       "(1,\n",
       " '9-J.Tucker kicks 68 yards from BAL 35 to NYJ -3. 10-B.Berrios to NYJ 22 for 25 yards (51-J.Ross).')"
      ]
     },
     "execution_count": 446,
     "metadata": {},
     "output_type": "execute_result"
    }
   ],
   "source": [
    "pbp_2022.special[1], pbp_2022.desc[1]"
   ]
  }
 ],
 "metadata": {
  "kernelspec": {
   "display_name": "nfldata",
   "language": "python",
   "name": "nfldata"
  },
  "language_info": {
   "codemirror_mode": {
    "name": "ipython",
    "version": 3
   },
   "file_extension": ".py",
   "mimetype": "text/x-python",
   "name": "python",
   "nbconvert_exporter": "python",
   "pygments_lexer": "ipython3",
   "version": "3.11.4"
  },
  "vscode": {
   "interpreter": {
    "hash": "1a1af0ee75eeea9e2e1ee996c87e7a2b11a0bebd85af04bb136d915cefc0abce"
   }
  }
 },
 "nbformat": 4,
 "nbformat_minor": 4
}

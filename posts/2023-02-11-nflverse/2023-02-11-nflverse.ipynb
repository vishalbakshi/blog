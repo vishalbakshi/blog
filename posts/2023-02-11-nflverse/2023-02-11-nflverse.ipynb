{
 "cells": [
  {
   "cell_type": "raw",
   "metadata": {},
   "source": [
    "---\n",
    "title: Exploring NFL Play-by-Play Analysis\n",
    "date: '2023-02-11'\n",
    "date-modified: '2023-02-19'\n",
    "author: Vishal Bakshi\n",
    "categories:\n",
    "    - data analysis\n",
    "    - sql\n",
    "    - python\n",
    "---"
   ]
  },
  {
   "attachments": {},
   "cell_type": "markdown",
   "metadata": {},
   "source": [
    "![Side view of Jalen Hurts walking on the Eagles sideline with Kansas City Chiefs-colored confetti falling around him](super-bowl-hurts.png)\n",
    "\n",
    "## Background and Goals\n",
    "It's been 5 years since I [last explored NFL's play-by-play data](https://vishalbakshi.github.io/posts/nfl_sql.html). It's also been 5 years since my Eagles won the Super Bowl, which will be played in less than 24 hours from now. <span style=\"color:#004C54;\"><strong><em>Go Birds</em></strong></span>. \n",
    "\n",
    "It's been so long since I've blogged that fastpages, the blogging library I use, has been deprecated. \n",
    "\n",
    "I have thoroughly enjoyed some of the statistical analyses put forth by fans of the NFL this year. My favorite analyst is [Deniz Selman](https://twitter.com/denizselman33?ref_src=twsrc%5Egoogle%7Ctwcamp%5Eserp%7Ctwgr%5Eauthor), a fellow Eagles fan who makes [these beautiful data presentations](https://twitter.com/denizselman33/status/1620631738140733440?s=20&t=LKBn17kz9KHAbc5V-lXBjA). \n",
    "\n",
    "I also appreciate Deniz' critique of analysis-without-context that often negates the brilliance of Jalen Hurts:\n",
    "\n",
    "<blockquote class=\"twitter-tweet\"><p lang=\"en\" dir=\"ltr\">As I’ve been trying to say all year, EPA/dropback is not nearly as valuable a metric when the offense lets the QB decide whether it’s a “dropback” or not during the play by reading the defense, and that QB is the absolute best at making that decision. <a href=\"https://twitter.com/hashtag/FlyEaglesFly?src=hash&amp;ref_src=twsrc%5Etfw\">#FlyEaglesFly</a></p>&mdash; Deniz Selman (@denizselman33) <a href=\"https://twitter.com/denizselman33/status/1624491020095488002?ref_src=twsrc%5Etfw\">February 11, 2023</a></blockquote> <script async src=\"https://platform.twitter.com/widgets.js\" charset=\"utf-8\"></script>\n",
    "\n",
    "\n",
    "My second favorite analyst is [Ben Baldwin, AKA Computer Cowboy](https://twitter.com/benbbaldwin) especially his 4th down analysis realtime during games.\n",
    "\n",
    "There has been an onslaught of statistical advances in the NFL since I last explored play-by-play data and I'm excited to learn as much as I can. In particular, I'd like to get a hang of the metrics EPA (Expected Points Added) and DVOA (Defense-adjusted Value Over Average), which may not necessarily intersect with my play-by-play analysis (I believe Football Outsiders is the proprietor of that formula).\n",
    "\n",
    "I'd also like to use this project to practice more advanced SQL queries than I'm used to. Given the complexity of the play-by-play dataset (by team, down, field position, etc.) I'm hoping I can get those reps in.\n",
    "\n",
    "Lastly, I'd like to explore data presentation with these statistics using R, python, Adobe Illustrator and Photoshop. I've been inspired by simple, elegant graphics like those made by Peter Gorman in [Barely Maps](https://www.barelymaps.com/) and bold, picturesque statistics posted by PFF on twitter:\n",
    "\n",
    "<blockquote class=\"twitter-tweet\"><p lang=\"en\" dir=\"ltr\">The most clutch pass rushers face off in the Super Bowl <a href=\"https://t.co/o50lV9Bkgk\">pic.twitter.com/o50lV9Bkgk</a></p>&mdash; PFF (@PFF) <a href=\"https://twitter.com/PFF/status/1624589107249684481?ref_src=twsrc%5Etfw\">February 12, 2023</a></blockquote> <script async src=\"https://platform.twitter.com/widgets.js\" charset=\"utf-8\"></script>\n",
    "\n",
    "\n",
    "I'll work on this project in this post throughout this year--and maybe beyond if it fuels me with enough material--or it'll fork off into something entirely new or different.\n",
    "\n",
    "I'll start off by next exploring the schema of the play-by-play dataset."
   ]
  },
  {
   "cell_type": "code",
   "execution_count": 10,
   "metadata": {},
   "outputs": [],
   "source": [
    "#| include: false\n",
    "# Notes\n",
    "# pipreqs --ignore bin,etc,include,lib,lib64\n",
    "# source environments/nflverse-env/bin/activate\n",
    "# https://github.com/vishalbakshi/blog/blob/master/_fastpages_docs/_setup_pr_template.md"
   ]
  }
 ],
 "metadata": {
  "kernelspec": {
   "display_name": "Python 3",
   "language": "python",
   "name": "python3"
  },
  "language_info": {
   "name": "python",
   "version": "3.11.2"
  },
  "orig_nbformat": 4,
  "vscode": {
   "interpreter": {
    "hash": "1a1af0ee75eeea9e2e1ee996c87e7a2b11a0bebd85af04bb136d915cefc0abce"
   }
  }
 },
 "nbformat": 4,
 "nbformat_minor": 2
}

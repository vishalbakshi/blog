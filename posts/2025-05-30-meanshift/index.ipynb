{
  "cells": [
    {
      "cell_type": "raw",
      "metadata": {
        "vscode": {
          "languageId": "raw"
        }
      },
      "source": [
        "---\n",
        "title: Understanding the Mean Shift Clustering Algorithm (and PyTorch Broadcasting)\n",
        "date: \"2025-05-31\"\n",
        "author: Vishal Bakshi\n",
        "description: This post walks through a Python implementation of the Mean Shift Clustering algorithm, detailing the journey from a basic concept to a GPU-optimized version, with a key focus on understanding and visualizing PyTorch broadcasting for batch processing. We explore how manipulating tensor shapes is crucial for performance and uncover insights into how 3D tensors can be intuitively understood as grouped 2D tensors.\n",
        "filters:\n",
        "   - lightbox\n",
        "lightbox: auto\n",
        "categories:\n",
        "    - python\n",
        "    - machine learning\n",
        "---"
      ]
    },
    {
      "cell_type": "code",
      "execution_count": 1,
      "metadata": {
        "id": "Dnt4ApKY6Qy1"
      },
      "outputs": [],
      "source": [
        "import math, matplotlib.pyplot as plt, operator, torch\n",
        "from functools import partial\n",
        "from torch.distributions.multivariate_normal import MultivariateNormal\n",
        "from torch import tensor"
      ]
    },
    {
      "cell_type": "code",
      "execution_count": 2,
      "metadata": {
        "id": "pHMsdAgm6Zlj"
      },
      "outputs": [],
      "source": [
        "torch.manual_seed(42)\n",
        "torch.set_printoptions(precision=3, linewidth=140, sci_mode=False)"
      ]
    },
    {
      "cell_type": "markdown",
      "metadata": {
        "id": "W4hg0WMyA5BE"
      },
      "source": [
        "## Background"
      ]
    },
    {
      "cell_type": "markdown",
      "metadata": {
        "id": "VL8zTsyWA7f-"
      },
      "source": [
        "In this blog post I'll walk through the Mean Shift Clustering algorithm as introduced [in Lesson 12 of the fastai course (Part 2)](https://github.com/fastai/course22p2/blob/master/nbs/02_meanshift.ipynb).\n",
        "\n",
        "The algorithm:\n",
        "\n",
        "> - For each data point `x` in the sample `X`, find the distance between that point `x` and every other point in `X`\n",
        "- Create weights for each point in `X` by using the Gaussian kernel of that point's distance to `x`\n",
        "- This weighting approach penalizes points further away from `x`\n",
        "- The rate at which the weights fall to zero is determined by the bandwidth, which is the standard deviation of the Gaussian\n",
        "- Update `x` as the weighted average of all other points in `X`, weighted based on the previous step"
      ]
    },
    {
      "cell_type": "markdown",
      "metadata": {
        "id": "91bZxLUOGllL"
      },
      "source": [
        "![Conceptual visual showing the mean shift clustering algorithm weighting by distance. The red point is `x`.](1.png)"
      ]
    },
    {
      "cell_type": "markdown",
      "metadata": {},
      "source": [
        "<iframe width=\"560\" height=\"315\" src=\"https://www.youtube.com/embed/kfl-cUz9iWw?si=nL8PUaUBmqQcYJMk\" title=\"YouTube video player\" frameborder=\"0\" allow=\"accelerometer; autoplay; clipboard-write; encrypted-media; gyroscope; picture-in-picture; web-share\" referrerpolicy=\"strict-origin-when-cross-origin\" allowfullscreen></iframe>"
      ]
    },
    {
      "cell_type": "markdown",
      "metadata": {
        "id": "q0fIZwbiBNjH"
      },
      "source": [
        "## Generating Clearly Clustered Data"
      ]
    },
    {
      "cell_type": "markdown",
      "metadata": {
        "id": "baXK3RQMBQtd"
      },
      "source": [
        "An important point: we start by creating fake data such that it is knowingly clustered around a set of centroids we can then compare to the final clustering result."
      ]
    },
    {
      "cell_type": "code",
      "execution_count": 3,
      "metadata": {
        "id": "SKv2bCMM6gFC"
      },
      "outputs": [],
      "source": [
        "n_clusters=6\n",
        "n_samples =250"
      ]
    },
    {
      "cell_type": "code",
      "execution_count": 4,
      "metadata": {
        "id": "XZb2NbIZ6hvq"
      },
      "outputs": [],
      "source": [
        "centroids = torch.rand(n_clusters, 2)*70-35"
      ]
    },
    {
      "cell_type": "code",
      "execution_count": 5,
      "metadata": {
        "colab": {
          "base_uri": "https://localhost:8080/"
        },
        "id": "bPlJD4RZ6knq",
        "outputId": "f832bd33-2d31-4058-a7e6-9139a6b3acef"
      },
      "outputs": [
        {
          "data": {
            "text/plain": [
              "torch.Size([6, 2])"
            ]
          },
          "execution_count": 5,
          "metadata": {},
          "output_type": "execute_result"
        }
      ],
      "source": [
        "centroids.shape"
      ]
    },
    {
      "cell_type": "code",
      "execution_count": 6,
      "metadata": {
        "colab": {
          "base_uri": "https://localhost:8080/"
        },
        "id": "FKVARVbZ6lNb",
        "outputId": "98fe6cdb-34d3-4a22-bb3a-f6f5e2b5019e"
      },
      "outputs": [
        {
          "data": {
            "text/plain": [
              "tensor([[ 26.759,  29.050],\n",
              "        [ -8.200,  32.151],\n",
              "        [ -7.669,   7.063],\n",
              "        [-17.040,  20.555],\n",
              "        [ 30.854, -25.677],\n",
              "        [ 30.422,   6.551]])"
            ]
          },
          "execution_count": 6,
          "metadata": {},
          "output_type": "execute_result"
        }
      ],
      "source": [
        "centroids"
      ]
    },
    {
      "cell_type": "markdown",
      "metadata": {
        "id": "OG8IYa9jD1Mk"
      },
      "source": [
        "We'll generate data around these 6 centroids using PyTorch's `MultivariateNormal` which:\n",
        "\n",
        "> Creates a multivariate normal (also called Gaussian) distribution parameterized by a mean vector and a covariance matrix.\n",
        "\n",
        "The covariance matrix in our case is a diagonal matrix with 5s on the diagonal."
      ]
    },
    {
      "cell_type": "markdown",
      "metadata": {
        "id": "i-rXpS7YEu7i"
      },
      "source": [
        "We generate 250 samples for each mean vector (centroid)."
      ]
    },
    {
      "cell_type": "code",
      "execution_count": 7,
      "metadata": {
        "id": "jJCqAl-A6oNK"
      },
      "outputs": [],
      "source": [
        "def sample(m): return MultivariateNormal(m, torch.diag(tensor([5.,5.]))).sample((n_samples,))"
      ]
    },
    {
      "cell_type": "code",
      "execution_count": 8,
      "metadata": {
        "colab": {
          "base_uri": "https://localhost:8080/"
        },
        "id": "8VvJkCZD6wF0",
        "outputId": "5684ae06-811e-4a0e-ec3e-f5e9830a41ed"
      },
      "outputs": [
        {
          "data": {
            "text/plain": [
              "tensor([[5., 0.],\n",
              "        [0., 5.]])"
            ]
          },
          "execution_count": 8,
          "metadata": {},
          "output_type": "execute_result"
        }
      ],
      "source": [
        "torch.diag(tensor([5.,5.]))"
      ]
    },
    {
      "cell_type": "markdown",
      "metadata": {
        "id": "Kw3eKWs1EbEX"
      },
      "source": [
        "From Gemini this covariance matrix shows:\n",
        "\n",
        "> - **No Correlation**: The two variables are uncorrelated (covariance is 0.0). For a `MultivariateNormal` distribution, this implies they are independent.\n",
        "- **Equal Variance**: Both variables have the same variance of 5.0.\n",
        "- **Shape**: If used in a 2D MultivariateNormal distribution, this will produce a circular cloud of data points, equally spread along both the X and Y axes."
      ]
    },
    {
      "cell_type": "code",
      "execution_count": 9,
      "metadata": {
        "colab": {
          "base_uri": "https://localhost:8080/"
        },
        "id": "Pc803fLR6sqT",
        "outputId": "93047335-d41d-4def-a752-5e331b1e26b4"
      },
      "outputs": [
        {
          "data": {
            "text/plain": [
              "torch.Size([250, 2])"
            ]
          },
          "execution_count": 9,
          "metadata": {},
          "output_type": "execute_result"
        }
      ],
      "source": [
        "coords = MultivariateNormal(centroids[0], torch.diag(tensor([5.,5.]))).sample((n_samples,))\n",
        "coords.shape"
      ]
    },
    {
      "cell_type": "markdown",
      "metadata": {
        "id": "DQdW6QFCFAFE"
      },
      "source": [
        "We see how the `MultivariateNormal` distribution samples are spread out in a circular shape around the mean, with the density of samples decreasing as you move further away from the centroid."
      ]
    },
    {
      "cell_type": "code",
      "execution_count": 10,
      "metadata": {
        "colab": {
          "base_uri": "https://localhost:8080/",
          "height": 430
        },
        "id": "E0CDr7a-6_zf",
        "outputId": "440bb3e9-4b5c-4e69-9934-4ca1a298a0be"
      },
      "outputs": [
        {
          "data": {
            "image/png": "[encoded data removed]",
            "text/plain": [
              "<Figure size 640x480 with 1 Axes>"
            ]
          },
          "metadata": {},
          "output_type": "display_data"
        }
      ],
      "source": [
        "plt.scatter(coords[:,0], coords[:,1], alpha=0.7, s=30);\n",
        "plt.scatter(centroids[0][0], centroids[0][1], c = 'red', s=50);\n",
        "ax = plt.gca() # Get current axes\n",
        "ax.set_aspect('equal', adjustable='box')"
      ]
    },
    {
      "cell_type": "markdown",
      "metadata": {
        "id": "WOrXeAALFbZJ"
      },
      "source": [
        "We sample from the `MultivariateNormal` distribution for all six of our centroids and concatenate the result."
      ]
    },
    {
      "cell_type": "code",
      "execution_count": 11,
      "metadata": {
        "colab": {
          "base_uri": "https://localhost:8080/"
        },
        "id": "ND86PXiW6rMk",
        "outputId": "1889ba4c-48d1-46cb-dfe4-7674b1cc04a5"
      },
      "outputs": [
        {
          "data": {
            "text/plain": [
              "torch.Size([1500, 2])"
            ]
          },
          "execution_count": 11,
          "metadata": {},
          "output_type": "execute_result"
        }
      ],
      "source": [
        "slices = [sample(c) for c in centroids]\n",
        "data = torch.cat(slices)\n",
        "data.shape"
      ]
    },
    {
      "cell_type": "code",
      "execution_count": 12,
      "metadata": {
        "id": "x6D1r96h77xO"
      },
      "outputs": [],
      "source": [
        "def plot_data(centroids, data, n_samples, ax=None):\n",
        "    if ax is None: _,ax = plt.subplots()\n",
        "    ax.set_aspect('equal', adjustable='box')\n",
        "    for i, centroid in enumerate(centroids):\n",
        "        samples = data[i*n_samples:(i+1)*n_samples]\n",
        "        ax.scatter(samples[:,0], samples[:,1], s=1)\n",
        "        ax.plot(*centroid, markersize=8, marker=\"x\", color='k', mew=2)"
      ]
    },
    {
      "cell_type": "code",
      "execution_count": 13,
      "metadata": {
        "colab": {
          "base_uri": "https://localhost:8080/",
          "height": 430
        },
        "id": "VrtrB0QF8lBo",
        "outputId": "8b2d7253-df04-4a27-8d32-c8b6ff94647d"
      },
      "outputs": [
        {
          "data": {
            "image/png": "[encoded data removed]",
            "text/plain": [
              "<Figure size 640x480 with 1 Axes>"
            ]
          },
          "metadata": {},
          "output_type": "display_data"
        }
      ],
      "source": [
        "plot_data(centroids, data, n_samples);"
      ]
    },
    {
      "cell_type": "markdown",
      "metadata": {
        "id": "VBP2WCk5Hds9"
      },
      "source": [
        "## Generating Sample Weights"
      ]
    },
    {
      "cell_type": "markdown",
      "metadata": {
        "id": "nMbCOQXcHgJb"
      },
      "source": [
        "With our data generated, we'll now prepare for the third step in the algorithm: _create weights_.\n",
        "\n",
        "> Create weights for each point in X by using the Gaussian kernel of that point's distance to x"
      ]
    },
    {
      "cell_type": "markdown",
      "metadata": {
        "id": "-Iib_RbgO4Xg"
      },
      "source": [
        "We'll start by defining a function which takes some distance `d` and some bandwidth `bw` and returns the gaussian normal output given these two inputs. This output will be our _weights_:"
      ]
    },
    {
      "cell_type": "code",
      "execution_count": 15,
      "metadata": {
        "id": "cFMBJx3q9CTJ"
      },
      "outputs": [],
      "source": [
        "def gaussian(d, bw): return torch.exp(-0.5*((d/bw))**2) / (bw*math.sqrt(2*math.pi))"
      ]
    },
    {
      "cell_type": "markdown",
      "metadata": {
        "id": "swQ-j3-HP0ea"
      },
      "source": [
        "(Wikipedia) the probability density function of the normal distribution is given by:"
      ]
    },
    {
      "cell_type": "markdown",
      "metadata": {
        "id": "st318t1RPpuL"
      },
      "source": [
        "$$f(x)={\\frac {1}{\\sqrt {2\\pi \\sigma ^{2}}}}e^{-{\\frac {(x-\\mu )^{2}}{2\\sigma ^{2}}}}$$"
      ]
    },
    {
      "cell_type": "markdown",
      "metadata": {
        "id": "nDXCADe3P-VO"
      },
      "source": [
        "In our case, `d` (the distance from a point in X to another point in X) is equivalent in this function to $x-\\mu$, and bandwidth `bw` is the standard deviation $\\sigma$."
      ]
    },
    {
      "cell_type": "markdown",
      "metadata": {
        "id": "uVkrjzc-HXXP"
      },
      "source": [
        "As bandwidth increases, the gaussian distribution flattens out (i.e. weights decay slower as distance increases)."
      ]
    },
    {
      "cell_type": "code",
      "execution_count": 16,
      "metadata": {
        "colab": {
          "base_uri": "https://localhost:8080/",
          "height": 430
        },
        "id": "uCgulLeoQS8f",
        "outputId": "e1629736-ae5f-4857-afff-f8340d8019b6"
      },
      "outputs": [
        {
          "data": {
            "image/png": "[encoded data removed]",
            "text/plain": [
              "<Figure size 640x480 with 1 Axes>"
            ]
          },
          "metadata": {},
          "output_type": "display_data"
        }
      ],
      "source": [
        "x = torch.linspace(0,10,100)\n",
        "plt.plot(x, gaussian(x, bw=1.0), label='bw = 1.0')\n",
        "plt.plot(x, gaussian(x, bw=2.5), label='bw = 2.5')\n",
        "plt.plot(x, gaussian(x, bw=5.0), label='bw = 5.0')\n",
        "plt.plot(x, gaussian(x, bw=10.0), label='bw = 10.0')\n",
        "plt.legend();"
      ]
    },
    {
      "cell_type": "markdown",
      "metadata": {
        "id": "Zxs2c6k_VX6s"
      },
      "source": [
        "We can also try to use a simpler linear function for our weights."
      ]
    },
    {
      "cell_type": "code",
      "execution_count": 17,
      "metadata": {
        "id": "MFlaKo8X9MGP"
      },
      "outputs": [],
      "source": [
        "def tri(d, i): return (-d+i).clamp_min(0)/i"
      ]
    },
    {
      "cell_type": "markdown",
      "metadata": {
        "id": "48c3Kqcuf87y"
      },
      "source": [
        "Mathematically, this calculates `max(0, (i - d) / i)` which is equivalent to `max(0, 1 - d / i)`"
      ]
    },
    {
      "cell_type": "markdown",
      "metadata": {
        "id": "RFlJrTOqgteO"
      },
      "source": [
        "`clamp_min` ensures that the value of `-d+i` does not go below `0`. `i` becomes the d-intercept."
      ]
    },
    {
      "cell_type": "markdown",
      "metadata": {
        "id": "GZif8J51HjkJ"
      },
      "source": [
        "As `i` increases, the slope decreases, and weights decay slower as distance increases."
      ]
    },
    {
      "cell_type": "code",
      "execution_count": 18,
      "metadata": {
        "colab": {
          "base_uri": "https://localhost:8080/",
          "height": 430
        },
        "id": "be47lcCf9Ug3",
        "outputId": "be09317b-d3b8-4bb4-936b-f9f9f8193618"
      },
      "outputs": [
        {
          "data": {
            "image/png": "[encoded data removed]",
            "text/plain": [
              "<Figure size 640x480 with 1 Axes>"
            ]
          },
          "metadata": {},
          "output_type": "display_data"
        }
      ],
      "source": [
        "x = torch.linspace(0,10,100)\n",
        "plt.plot(x, tri(x,i=3), label='i = 3')\n",
        "plt.plot(x, tri(x,i=8), label='i = 8')\n",
        "plt.plot(x, tri(x,i=10), label='i = 12')\n",
        "plt.legend();"
      ]
    },
    {
      "cell_type": "markdown",
      "metadata": {
        "id": "pJOMB8dbXEeX"
      },
      "source": [
        "## Implementing the Full Algorithm"
      ]
    },
    {
      "cell_type": "markdown",
      "metadata": {
        "id": "-BYYIcaUXHRr"
      },
      "source": [
        "> - For each data point x in the sample X, find the distance between that point x and every other point in X (`d = f(x-X)`)\n",
        "- Create weights for each point in X by using the Gaussian kernel of that point's distance to x (`weights = gaussian(d)`)\n",
        "- Update x as the weighted average of all other points in X, weighted based on the previous step (`x = weighted_avg(weights, X)`)"
      ]
    },
    {
      "cell_type": "markdown",
      "metadata": {
        "id": "C-EO7qmqYRUT"
      },
      "source": [
        "Since we are going to update the data after each step of the algorithm, we clone the data to start. As a reminder, these 1500 coordinates come from 250 `MultivariateNormal` samples given 6 centroids as the mean."
      ]
    },
    {
      "cell_type": "code",
      "execution_count": 19,
      "metadata": {
        "colab": {
          "base_uri": "https://localhost:8080/"
        },
        "id": "gmDKpRVu9WCn",
        "outputId": "e19a0afd-3b1f-4189-ea40-f73820d8e75c"
      },
      "outputs": [
        {
          "data": {
            "text/plain": [
              "tensor([29.764, 26.161])"
            ]
          },
          "execution_count": 19,
          "metadata": {},
          "output_type": "execute_result"
        }
      ],
      "source": [
        "X = data.clone()\n",
        "x = X[0]\n",
        "x"
      ]
    },
    {
      "cell_type": "code",
      "execution_count": 20,
      "metadata": {
        "colab": {
          "base_uri": "https://localhost:8080/"
        },
        "id": "ZC0UqWx7YnSp",
        "outputId": "c9005ded-deaa-4406-b70c-119c6584c3f1"
      },
      "outputs": [
        {
          "data": {
            "text/plain": [
              "(torch.Size([1500, 2]), torch.Size([2]))"
            ]
          },
          "execution_count": 20,
          "metadata": {},
          "output_type": "execute_result"
        }
      ],
      "source": [
        "X.shape, x.shape"
      ]
    },
    {
      "cell_type": "markdown",
      "metadata": {
        "id": "z3R6mauMYq0x"
      },
      "source": [
        "We now calculate _the distance between that point x and every other point in X_. Since `x` and `X` share a dimension `2`, we can just subtract and PyTorch will use broadcasting."
      ]
    },
    {
      "cell_type": "code",
      "execution_count": 21,
      "metadata": {
        "colab": {
          "base_uri": "https://localhost:8080/"
        },
        "id": "o0_VeSWIY16r",
        "outputId": "b58458b1-4d24-4b3d-87c3-07828202e61b"
      },
      "outputs": [
        {
          "data": {
            "text/plain": [
              "torch.Size([1500, 2])"
            ]
          },
          "execution_count": 21,
          "metadata": {},
          "output_type": "execute_result"
        }
      ],
      "source": [
        "(x-X).shape"
      ]
    },
    {
      "cell_type": "code",
      "execution_count": 22,
      "metadata": {
        "colab": {
          "base_uri": "https://localhost:8080/"
        },
        "id": "zJs1eJCZY7G7",
        "outputId": "568b564f-4973-4b77-b312-4b94f6a6fa1b"
      },
      "outputs": [
        {
          "data": {
            "text/plain": [
              "tensor([0., 0.])"
            ]
          },
          "execution_count": 22,
          "metadata": {},
          "output_type": "execute_result"
        }
      ],
      "source": [
        "(x-X)[0] # subtracting the first point from itself"
      ]
    },
    {
      "cell_type": "code",
      "execution_count": 23,
      "metadata": {
        "colab": {
          "base_uri": "https://localhost:8080/"
        },
        "id": "izNeC2f9ZZtX",
        "outputId": "7f96405a-0d6b-4af5-ab8d-1bf57fc26b99"
      },
      "outputs": [
        {
          "data": {
            "text/plain": [
              "tensor([29.764, 26.161])"
            ]
          },
          "execution_count": 23,
          "metadata": {},
          "output_type": "execute_result"
        }
      ],
      "source": [
        "x"
      ]
    },
    {
      "cell_type": "code",
      "execution_count": 24,
      "metadata": {
        "colab": {
          "base_uri": "https://localhost:8080/"
        },
        "id": "3wwUEDGuZbWH",
        "outputId": "e35d50a5-a69d-46f0-99b2-570902ac3787"
      },
      "outputs": [
        {
          "data": {
            "text/plain": [
              "tensor([[29.764, 26.161],\n",
              "        [28.472, 30.493],\n",
              "        [27.549, 23.130],\n",
              "        [23.500, 26.879],\n",
              "        [27.327, 28.650]])"
            ]
          },
          "execution_count": 24,
          "metadata": {},
          "output_type": "execute_result"
        }
      ],
      "source": [
        "X[:5]"
      ]
    },
    {
      "cell_type": "code",
      "execution_count": 25,
      "metadata": {
        "colab": {
          "base_uri": "https://localhost:8080/"
        },
        "id": "tF6m6KtCZX2Y",
        "outputId": "8afce871-6987-4f4d-a85b-5eb08f5d18fe"
      },
      "outputs": [
        {
          "data": {
            "text/plain": [
              "tensor([[ 0.000,  0.000],\n",
              "        [ 1.292, -4.333],\n",
              "        [ 2.215,  3.030],\n",
              "        [ 6.264, -0.718],\n",
              "        [ 2.437, -2.489]])"
            ]
          },
          "execution_count": 25,
          "metadata": {},
          "output_type": "execute_result"
        }
      ],
      "source": [
        "(x-X)[:5]"
      ]
    },
    {
      "cell_type": "markdown",
      "metadata": {
        "id": "XvkWNdGBZD0A"
      },
      "source": [
        "We'll use Euclidean distance, which is the square root of the sum (across the columns, or rather across coordinates) of the difference in coordinates squared."
      ]
    },
    {
      "cell_type": "code",
      "execution_count": 26,
      "metadata": {
        "colab": {
          "base_uri": "https://localhost:8080/"
        },
        "id": "ZK30a6XHZNvx",
        "outputId": "16661ce5-493e-4029-9f13-ac9120032ec2"
      },
      "outputs": [
        {
          "data": {
            "text/plain": [
              "torch.Size([1500, 2])"
            ]
          },
          "execution_count": 26,
          "metadata": {},
          "output_type": "execute_result"
        }
      ],
      "source": [
        "((x-X)**2).shape"
      ]
    },
    {
      "cell_type": "code",
      "execution_count": 27,
      "metadata": {
        "colab": {
          "base_uri": "https://localhost:8080/"
        },
        "id": "Ul4b_vcbZfVA",
        "outputId": "092208c5-a396-4f01-cb0e-c6be84342589"
      },
      "outputs": [
        {
          "data": {
            "text/plain": [
              "tensor([[ 0.000,  0.000],\n",
              "        [ 1.668, 18.772],\n",
              "        [ 4.906,  9.184],\n",
              "        [39.239,  0.515],\n",
              "        [ 5.939,  6.196]])"
            ]
          },
          "execution_count": 27,
          "metadata": {},
          "output_type": "execute_result"
        }
      ],
      "source": [
        "((x-X)**2)[:5]"
      ]
    },
    {
      "cell_type": "markdown",
      "metadata": {
        "id": "1YsPq1OfbSpw"
      },
      "source": [
        "Summing across the columns to get $x^2+y^2$."
      ]
    },
    {
      "cell_type": "code",
      "execution_count": 29,
      "metadata": {
        "colab": {
          "base_uri": "https://localhost:8080/"
        },
        "id": "0YQ-jHZnZRYY",
        "outputId": "0919cf3c-5bb0-4e84-9bc4-53c71e956312"
      },
      "outputs": [
        {
          "data": {
            "text/plain": [
              "torch.Size([1500])"
            ]
          },
          "execution_count": 29,
          "metadata": {},
          "output_type": "execute_result"
        }
      ],
      "source": [
        "((x-X)**2).sum(1).shape"
      ]
    },
    {
      "cell_type": "code",
      "execution_count": 30,
      "metadata": {
        "colab": {
          "base_uri": "https://localhost:8080/"
        },
        "id": "BDqKOcV7Zi6f",
        "outputId": "9e39b39a-6f71-4de2-d839-c6d380711aee"
      },
      "outputs": [
        {
          "data": {
            "text/plain": [
              "tensor([ 0.000, 20.440, 14.089, 39.754, 12.134])"
            ]
          },
          "execution_count": 30,
          "metadata": {},
          "output_type": "execute_result"
        }
      ],
      "source": [
        "((x-X)**2).sum(1)[:5]"
      ]
    },
    {
      "cell_type": "code",
      "execution_count": 31,
      "metadata": {
        "colab": {
          "base_uri": "https://localhost:8080/"
        },
        "id": "18ps_ruY9jD_",
        "outputId": "442c76ad-4328-4762-a9a0-32c30a8bd601"
      },
      "outputs": [
        {
          "data": {
            "text/plain": [
              "torch.Size([1500])"
            ]
          },
          "execution_count": 31,
          "metadata": {},
          "output_type": "execute_result"
        }
      ],
      "source": [
        "dist = ((x-X)**2).sum(1).sqrt()\n",
        "dist.shape"
      ]
    },
    {
      "cell_type": "code",
      "execution_count": 32,
      "metadata": {
        "colab": {
          "base_uri": "https://localhost:8080/"
        },
        "id": "xamDZ8YGZnl9",
        "outputId": "433c5588-1779-4bcf-e4b5-21017d014186"
      },
      "outputs": [
        {
          "data": {
            "text/plain": [
              "tensor([0.000, 4.521, 3.754, 6.305, 3.483])"
            ]
          },
          "execution_count": 32,
          "metadata": {},
          "output_type": "execute_result"
        }
      ],
      "source": [
        "dist[:5]"
      ]
    },
    {
      "cell_type": "markdown",
      "metadata": {
        "id": "hKxwq4W0bYdB"
      },
      "source": [
        "Since we are performing elementwise multiplication following by a summation, we can use Einstein Summation:"
      ]
    },
    {
      "cell_type": "code",
      "execution_count": 33,
      "metadata": {
        "colab": {
          "base_uri": "https://localhost:8080/"
        },
        "id": "hBTWfGpq9lzO",
        "outputId": "554d97b7-31a8-45a3-b1d2-4ee4a8d2fb3f"
      },
      "outputs": [
        {
          "data": {
            "text/plain": [
              "tensor([ 0.000,  4.521,  3.754,  ..., 21.305, 21.850, 21.958])"
            ]
          },
          "execution_count": 33,
          "metadata": {},
          "output_type": "execute_result"
        }
      ],
      "source": [
        "torch.einsum('ij,ij->i', x-X, x-X).sqrt()"
      ]
    },
    {
      "cell_type": "markdown",
      "metadata": {
        "id": "O5KXUA5E1La3"
      },
      "source": [
        "We can also use matrix multiplication, though IIUC, you have to pluck out the values on the resulting matrix's diagonal to get the elementwise product between `x-X` and itself."
      ]
    },
    {
      "cell_type": "code",
      "execution_count": 34,
      "metadata": {
        "colab": {
          "base_uri": "https://localhost:8080/"
        },
        "id": "2n8OcNbq1Vqw",
        "outputId": "ce689bc7-0002-472e-ab83-2f3e471a9dac"
      },
      "outputs": [
        {
          "data": {
            "text/plain": [
              "(torch.Size([1500, 2]), torch.Size([2, 1500]))"
            ]
          },
          "execution_count": 34,
          "metadata": {},
          "output_type": "execute_result"
        }
      ],
      "source": [
        "(x-X).shape, (x-X).T.shape"
      ]
    },
    {
      "cell_type": "code",
      "execution_count": 35,
      "metadata": {
        "colab": {
          "base_uri": "https://localhost:8080/"
        },
        "id": "l3Cb7DI71a4M",
        "outputId": "424e1e07-8126-4325-b353-92c59a2375ca"
      },
      "outputs": [
        {
          "data": {
            "text/plain": [
              "torch.Size([1500, 1500])"
            ]
          },
          "execution_count": 35,
          "metadata": {},
          "output_type": "execute_result"
        }
      ],
      "source": [
        "res = (x-X) @ (x-X).T\n",
        "res.shape"
      ]
    },
    {
      "cell_type": "code",
      "execution_count": 36,
      "metadata": {
        "colab": {
          "base_uri": "https://localhost:8080/"
        },
        "id": "CvIygR_yh6G5",
        "outputId": "3565fc9c-f460-4158-8f7e-8f0926b1cd85"
      },
      "outputs": [
        {
          "data": {
            "text/plain": [
              "tensor([  0.000,  20.440,  14.089,  ..., 453.898, 477.408, 482.169])"
            ]
          },
          "execution_count": 36,
          "metadata": {},
          "output_type": "execute_result"
        }
      ],
      "source": [
        "torch.diag(res)"
      ]
    },
    {
      "cell_type": "code",
      "execution_count": 37,
      "metadata": {
        "colab": {
          "base_uri": "https://localhost:8080/"
        },
        "id": "lvhWcXpiikge",
        "outputId": "d964c841-d00e-4173-9a53-acdba5e6b33a"
      },
      "outputs": [
        {
          "data": {
            "text/plain": [
              "tensor([ 0.000,  4.521,  3.754,  ..., 21.305, 21.850, 21.958])"
            ]
          },
          "execution_count": 37,
          "metadata": {},
          "output_type": "execute_result"
        }
      ],
      "source": [
        "torch.diag(res).sqrt()"
      ]
    },
    {
      "cell_type": "markdown",
      "metadata": {
        "id": "XSV4XOgPboNe"
      },
      "source": [
        "We now _create weights for each point in X by using the Gaussian kernel of that point's distance to x_."
      ]
    },
    {
      "cell_type": "code",
      "execution_count": 38,
      "metadata": {
        "colab": {
          "base_uri": "https://localhost:8080/"
        },
        "id": "Xh2BY0sJ9vrI",
        "outputId": "75f33898-b162-4628-8098-56bc99e441b1"
      },
      "outputs": [
        {
          "data": {
            "text/plain": [
              "tensor([    0.160,     0.031,     0.052,  ...,     0.000,     0.000,     0.000])"
            ]
          },
          "execution_count": 38,
          "metadata": {},
          "output_type": "execute_result"
        }
      ],
      "source": [
        "weight = gaussian(dist, 2.5)\n",
        "weight"
      ]
    },
    {
      "cell_type": "markdown",
      "metadata": {
        "id": "e5r2441bb1UI"
      },
      "source": [
        "We have 1500 weights, one for each distance between our current point `x` and all of the points in `X`."
      ]
    },
    {
      "cell_type": "code",
      "execution_count": 39,
      "metadata": {
        "colab": {
          "base_uri": "https://localhost:8080/"
        },
        "id": "AVUNYT_g-Ggh",
        "outputId": "5b48ca56-ce3b-426b-dc41-a73ce4596e99"
      },
      "outputs": [
        {
          "data": {
            "text/plain": [
              "torch.Size([1500])"
            ]
          },
          "execution_count": 39,
          "metadata": {},
          "output_type": "execute_result"
        }
      ],
      "source": [
        "weight.shape"
      ]
    },
    {
      "cell_type": "markdown",
      "metadata": {
        "id": "u3h3DcFacrDQ"
      },
      "source": [
        "We can now move on to the last step in the algorithm: _update x as the weighted average of all other points in X, weighted based on the previous step_."
      ]
    },
    {
      "cell_type": "markdown",
      "metadata": {
        "id": "vjq5v35HcylU"
      },
      "source": [
        "The weighted average is the elementwise product of the `weights` and `X`, summed down the rows (two get 2 coordinates) and then divided by the sum of the weights."
      ]
    },
    {
      "cell_type": "markdown",
      "metadata": {
        "id": "5IEEef4Eb_m2"
      },
      "source": [
        "Starting from the last dimension, `weight` and `X` do not have compatible dimensions (1500 is not 2 or 1), so we have to add a unit axis to `weight` to allow for broadcasting."
      ]
    },
    {
      "cell_type": "code",
      "execution_count": 42,
      "metadata": {
        "colab": {
          "base_uri": "https://localhost:8080/"
        },
        "id": "s62q5ZJycAb0",
        "outputId": "3c055193-07d4-41b2-9c45-83a7b9c18ddc"
      },
      "outputs": [
        {
          "data": {
            "text/plain": [
              "torch.Size([1500, 2])"
            ]
          },
          "execution_count": 42,
          "metadata": {},
          "output_type": "execute_result"
        }
      ],
      "source": [
        "X.shape"
      ]
    },
    {
      "cell_type": "code",
      "execution_count": 43,
      "metadata": {
        "colab": {
          "base_uri": "https://localhost:8080/",
          "height": 141
        },
        "id": "lfRt9QrpcMVY",
        "outputId": "e0b2b54d-21ea-4cee-a98f-0f6f9ba44500"
      },
      "outputs": [
        {
          "ename": "RuntimeError",
          "evalue": "The size of tensor a (1500) must match the size of tensor b (2) at non-singleton dimension 1",
          "output_type": "error",
          "traceback": [
            "\u001b[0;31m---------------------------------------------------------------------------\u001b[0m",
            "\u001b[0;31mRuntimeError\u001b[0m                              Traceback (most recent call last)",
            "\u001b[0;32m<ipython-input-43-f3a5e14a550a>\u001b[0m in \u001b[0;36m<cell line: 0>\u001b[0;34m()\u001b[0m\n\u001b[0;32m----> 1\u001b[0;31m \u001b[0mweight\u001b[0m\u001b[0;34m*\u001b[0m\u001b[0mX\u001b[0m\u001b[0;34m\u001b[0m\u001b[0;34m\u001b[0m\u001b[0m\n\u001b[0m",
            "\u001b[0;31mRuntimeError\u001b[0m: The size of tensor a (1500) must match the size of tensor b (2) at non-singleton dimension 1"
          ]
        }
      ],
      "source": [
        "weight*X"
      ]
    },
    {
      "cell_type": "code",
      "execution_count": 44,
      "metadata": {
        "colab": {
          "base_uri": "https://localhost:8080/"
        },
        "id": "BQmeRLWn-L1X",
        "outputId": "799bd54d-0612-4a9e-8f4b-adeb29264253"
      },
      "outputs": [
        {
          "data": {
            "text/plain": [
              "torch.Size([1500, 1])"
            ]
          },
          "execution_count": 44,
          "metadata": {},
          "output_type": "execute_result"
        }
      ],
      "source": [
        "weight[:,None].shape"
      ]
    },
    {
      "cell_type": "code",
      "execution_count": 46,
      "metadata": {
        "colab": {
          "base_uri": "https://localhost:8080/"
        },
        "id": "keELw1xB-Omv",
        "outputId": "81c78206-bb4d-4b3d-b05c-77e844403318"
      },
      "outputs": [
        {
          "data": {
            "text/plain": [
              "tensor([[    4.750,     4.175],\n",
              "        [    0.886,     0.948],\n",
              "        [    1.424,     1.196],\n",
              "        ...,\n",
              "        [    0.000,     0.000],\n",
              "        [    0.000,     0.000],\n",
              "        [    0.000,     0.000]])"
            ]
          },
          "execution_count": 46,
          "metadata": {},
          "output_type": "execute_result"
        }
      ],
      "source": [
        "weight[:,None]*X"
      ]
    },
    {
      "cell_type": "markdown",
      "metadata": {
        "id": "K2X84aX2fCAX"
      },
      "source": [
        "We then sum down the rows to get two coordinates:"
      ]
    },
    {
      "cell_type": "code",
      "execution_count": 48,
      "metadata": {
        "colab": {
          "base_uri": "https://localhost:8080/"
        },
        "id": "WUMwfTSufEkw",
        "outputId": "94a51182-983c-4f79-c54b-59577b97c8b5"
      },
      "outputs": [
        {
          "data": {
            "text/plain": [
              "tensor([296.880, 291.612])"
            ]
          },
          "execution_count": 48,
          "metadata": {},
          "output_type": "execute_result"
        }
      ],
      "source": [
        "(weight[:,None]*X).sum(0)"
      ]
    },
    {
      "cell_type": "markdown",
      "metadata": {
        "id": "4oOOuU0rLn9n"
      },
      "source": [
        "This is the same as applying the weights to each column separately:"
      ]
    },
    {
      "cell_type": "code",
      "execution_count": 49,
      "metadata": {
        "colab": {
          "base_uri": "https://localhost:8080/"
        },
        "id": "J3OaJB5nLq7G",
        "outputId": "cedc0ce9-89c7-4b77-98dc-be9e885f5cb2"
      },
      "outputs": [
        {
          "data": {
            "text/plain": [
              "(tensor(296.880), tensor(291.612))"
            ]
          },
          "execution_count": 49,
          "metadata": {},
          "output_type": "execute_result"
        }
      ],
      "source": [
        "(weight * X[:,0]).sum(), (weight * X[:,1]).sum()"
      ]
    },
    {
      "cell_type": "markdown",
      "metadata": {
        "id": "vW0RQaj0fVsI"
      },
      "source": [
        "We then divide by the sum of the weights to get our final, updated `x`:"
      ]
    },
    {
      "cell_type": "code",
      "execution_count": 50,
      "metadata": {
        "colab": {
          "base_uri": "https://localhost:8080/"
        },
        "id": "m3k6eFcB-6Fi",
        "outputId": "26fcab42-b6a3-448a-b5b8-cf8c85c2f3a6"
      },
      "outputs": [
        {
          "data": {
            "text/plain": [
              "tensor([28.118, 27.619])"
            ]
          },
          "execution_count": 50,
          "metadata": {},
          "output_type": "execute_result"
        }
      ],
      "source": [
        "(weight[:,None]*X).sum(0)/weight.sum()"
      ]
    },
    {
      "cell_type": "markdown",
      "metadata": {
        "id": "dF0Ff4K_feAk"
      },
      "source": [
        "Wrapping this up into a function for each `x` in `X` we calculate the distance between `x` and all points in `X`, calculate the weights for those distances and replace `x` with the weighted average of those weights and all the points."
      ]
    },
    {
      "cell_type": "code",
      "execution_count": 51,
      "metadata": {
        "id": "u7J1Sc62_3oC"
      },
      "outputs": [],
      "source": [
        "def one_update(X):\n",
        "    for i, x in enumerate(X):\n",
        "        dist = torch.sqrt(((x-X)**2).sum(1))\n",
        "        weight = gaussian(dist, 2.5)\n",
        "        X[i] = (weight[:,None]*X).sum(0)/weight.sum()"
      ]
    },
    {
      "cell_type": "code",
      "execution_count": 52,
      "metadata": {
        "colab": {
          "base_uri": "https://localhost:8080/"
        },
        "id": "d8SXZGIBfs_p",
        "outputId": "72b4ced3-11b0-4477-e0de-28e7ec8b3e34"
      },
      "outputs": [
        {
          "data": {
            "text/plain": [
              "tensor([29.764, 26.161])"
            ]
          },
          "execution_count": 52,
          "metadata": {},
          "output_type": "execute_result"
        }
      ],
      "source": [
        "X = data.clone()\n",
        "x = X[0]\n",
        "x"
      ]
    },
    {
      "cell_type": "code",
      "execution_count": 53,
      "metadata": {
        "id": "ioKNBYg0fytd"
      },
      "outputs": [],
      "source": [
        "one_update(X)"
      ]
    },
    {
      "cell_type": "code",
      "execution_count": 55,
      "metadata": {
        "colab": {
          "base_uri": "https://localhost:8080/"
        },
        "id": "nz1X9me9f2ko",
        "outputId": "4dfc8da8-06c7-4400-a1da-5415bf4bbcaf"
      },
      "outputs": [
        {
          "data": {
            "text/plain": [
              "tensor([28.118, 27.619])"
            ]
          },
          "execution_count": 55,
          "metadata": {},
          "output_type": "execute_result"
        }
      ],
      "source": [
        "X[0]"
      ]
    },
    {
      "cell_type": "markdown",
      "metadata": {
        "id": "1duhp0prf48I"
      },
      "source": [
        "We can now wrap up into a `meanshift` function where it performs `n` such updates."
      ]
    },
    {
      "cell_type": "code",
      "execution_count": 57,
      "metadata": {
        "id": "rC01Kx7u_9Fi"
      },
      "outputs": [],
      "source": [
        "def meanshift(data, n=5):\n",
        "    X = data.clone()\n",
        "    for it in range(n): one_update(X)\n",
        "    return X"
      ]
    },
    {
      "cell_type": "code",
      "execution_count": 68,
      "metadata": {
        "colab": {
          "base_uri": "https://localhost:8080/"
        },
        "id": "Gcb7xYTzAGSj",
        "outputId": "120554f2-356c-4445-c260-6590aa44c457"
      },
      "outputs": [
        {
          "name": "stdout",
          "output_type": "stream",
          "text": [
            "CPU times: user 1.39 s, sys: 3.12 ms, total: 1.4 s\n",
            "Wall time: 1.42 s\n"
          ]
        }
      ],
      "source": [
        "%time X=meanshift(data)"
      ]
    },
    {
      "cell_type": "markdown",
      "metadata": {
        "id": "GwmyiEplgY4u"
      },
      "source": [
        "We can now see that in 5 iterations, the weight updates have resulted in the points to converge at the original centroids!"
      ]
    },
    {
      "cell_type": "code",
      "execution_count": 69,
      "metadata": {
        "id": "le2nXL-bgode"
      },
      "outputs": [],
      "source": [
        "def plot_data(centroids, data, n_samples, ax=None, alpha=4):\n",
        "    if ax is None: _,ax = plt.subplots()\n",
        "    ax.set_aspect('equal', adjustable='box') # Add this line\n",
        "    for i, centroid in enumerate(centroids):\n",
        "        samples = data[i*n_samples:(i+1)*n_samples]\n",
        "        ax.plot(*centroid, markersize=8, marker=\"x\", color='k', mew=2, alpha=1 - alpha*0.2)\n",
        "        ax.scatter(samples[:,0], samples[:,1], s=1)"
      ]
    },
    {
      "cell_type": "code",
      "execution_count": 70,
      "metadata": {
        "colab": {
          "base_uri": "https://localhost:8080/",
          "height": 430
        },
        "id": "FCxnOHczAHyz",
        "outputId": "2143afe3-6582-445c-d40c-1bf41e2dce13"
      },
      "outputs": [
        {
          "data": {
            "image/png": "[encoded data removed]",
            "text/plain": [
              "<Figure size 640x480 with 1 Axes>"
            ]
          },
          "metadata": {},
          "output_type": "display_data"
        }
      ],
      "source": [
        "plot_data(centroids, X, n_samples)"
      ]
    },
    {
      "cell_type": "markdown",
      "metadata": {
        "id": "IN-o6ah_g5dX"
      },
      "source": [
        "## Animating the Algorithm"
      ]
    },
    {
      "cell_type": "code",
      "execution_count": 71,
      "metadata": {
        "id": "thVh8xXdATk7"
      },
      "outputs": [],
      "source": [
        "from matplotlib.animation import FuncAnimation\n",
        "from IPython.display import HTML"
      ]
    },
    {
      "cell_type": "code",
      "execution_count": 72,
      "metadata": {
        "id": "YxYlTHGCAf1U"
      },
      "outputs": [],
      "source": [
        "def do_one(d):\n",
        "    if d: one_update(X)\n",
        "    ax.clear()\n",
        "    plot_data(centroids, X, n_samples, ax=ax, alpha=d)"
      ]
    },
    {
      "cell_type": "markdown",
      "metadata": {
        "id": "jdKAg5LVrROc"
      },
      "source": [
        "We can visualize the \"gravity\" of the cluster centroids as the data points are \"pulled in\" via the weighted average."
      ]
    },
    {
      "cell_type": "code",
      "execution_count": 73,
      "metadata": {
        "colab": {
          "base_uri": "https://localhost:8080/",
          "height": 578
        },
        "id": "v835I26uAhkt",
        "outputId": "57402cb2-2ebd-467a-ed23-a962aa25f28a"
      },
      "outputs": [
        {
          "data": {
            "text/html": [
              "\n",
              "<link rel=\"stylesheet\"\n",
              "href=\"https://maxcdn.bootstrapcdn.com/font-awesome/4.4.0/css/font-awesome.min.css\">\n",
              "<script language=\"javascript\">\n",
              "  function isInternetExplorer() {\n",
              "    ua = navigator.userAgent;\n",
              "    /* MSIE used to detect old browsers and Trident used to newer ones*/\n",
              "    return ua.indexOf(\"MSIE \") > -1 || ua.indexOf(\"Trident/\") > -1;\n",
              "  }\n",
              "\n",
              "  /* Define the Animation class */\n",
              "  function Animation(frames, img_id, slider_id, interval, loop_select_id){\n",
              "    this.img_id = img_id;\n",
              "    this.slider_id = slider_id;\n",
              "    this.loop_select_id = loop_select_id;\n",
              "    this.interval = interval;\n",
              "    this.current_frame = 0;\n",
              "    this.direction = 0;\n",
              "    this.timer = null;\n",
              "    this.frames = new Array(frames.length);\n",
              "\n",
              "    for (var i=0; i<frames.length; i++)\n",
              "    {\n",
              "     this.frames[i] = new Image();\n",
              "     this.frames[i].src = frames[i];\n",
              "    }\n",
              "    var slider = document.getElementById(this.slider_id);\n",
              "    slider.max = this.frames.length - 1;\n",
              "    if (isInternetExplorer()) {\n",
              "        // switch from oninput to onchange because IE <= 11 does not conform\n",
              "        // with W3C specification. It ignores oninput and onchange behaves\n",
              "        // like oninput. In contrast, Microsoft Edge behaves correctly.\n",
              "        slider.setAttribute('onchange', slider.getAttribute('oninput'));\n",
              "        slider.setAttribute('oninput', null);\n",
              "    }\n",
              "    this.set_frame(this.current_frame);\n",
              "  }\n",
              "\n",
              "  Animation.prototype.get_loop_state = function(){\n",
              "    var button_group = document[this.loop_select_id].state;\n",
              "    for (var i = 0; i < button_group.length; i++) {\n",
              "        var button = button_group[i];\n",
              "        if (button.checked) {\n",
              "            return button.value;\n",
              "        }\n",
              "    }\n",
              "    return undefined;\n",
              "  }\n",
              "\n",
              "  Animation.prototype.set_frame = function(frame){\n",
              "    this.current_frame = frame;\n",
              "    document.getElementById(this.img_id).src =\n",
              "            this.frames[this.current_frame].src;\n",
              "    document.getElementById(this.slider_id).value = this.current_frame;\n",
              "  }\n",
              "\n",
              "  Animation.prototype.next_frame = function()\n",
              "  {\n",
              "    this.set_frame(Math.min(this.frames.length - 1, this.current_frame + 1));\n",
              "  }\n",
              "\n",
              "  Animation.prototype.previous_frame = function()\n",
              "  {\n",
              "    this.set_frame(Math.max(0, this.current_frame - 1));\n",
              "  }\n",
              "\n",
              "  Animation.prototype.first_frame = function()\n",
              "  {\n",
              "    this.set_frame(0);\n",
              "  }\n",
              "\n",
              "  Animation.prototype.last_frame = function()\n",
              "  {\n",
              "    this.set_frame(this.frames.length - 1);\n",
              "  }\n",
              "\n",
              "  Animation.prototype.slower = function()\n",
              "  {\n",
              "    this.interval /= 0.7;\n",
              "    if(this.direction > 0){this.play_animation();}\n",
              "    else if(this.direction < 0){this.reverse_animation();}\n",
              "  }\n",
              "\n",
              "  Animation.prototype.faster = function()\n",
              "  {\n",
              "    this.interval *= 0.7;\n",
              "    if(this.direction > 0){this.play_animation();}\n",
              "    else if(this.direction < 0){this.reverse_animation();}\n",
              "  }\n",
              "\n",
              "  Animation.prototype.anim_step_forward = function()\n",
              "  {\n",
              "    this.current_frame += 1;\n",
              "    if(this.current_frame < this.frames.length){\n",
              "      this.set_frame(this.current_frame);\n",
              "    }else{\n",
              "      var loop_state = this.get_loop_state();\n",
              "      if(loop_state == \"loop\"){\n",
              "        this.first_frame();\n",
              "      }else if(loop_state == \"reflect\"){\n",
              "        this.last_frame();\n",
              "        this.reverse_animation();\n",
              "      }else{\n",
              "        this.pause_animation();\n",
              "        this.last_frame();\n",
              "      }\n",
              "    }\n",
              "  }\n",
              "\n",
              "  Animation.prototype.anim_step_reverse = function()\n",
              "  {\n",
              "    this.current_frame -= 1;\n",
              "    if(this.current_frame >= 0){\n",
              "      this.set_frame(this.current_frame);\n",
              "    }else{\n",
              "      var loop_state = this.get_loop_state();\n",
              "      if(loop_state == \"loop\"){\n",
              "        this.last_frame();\n",
              "      }else if(loop_state == \"reflect\"){\n",
              "        this.first_frame();\n",
              "        this.play_animation();\n",
              "      }else{\n",
              "        this.pause_animation();\n",
              "        this.first_frame();\n",
              "      }\n",
              "    }\n",
              "  }\n",
              "\n",
              "  Animation.prototype.pause_animation = function()\n",
              "  {\n",
              "    this.direction = 0;\n",
              "    if (this.timer){\n",
              "      clearInterval(this.timer);\n",
              "      this.timer = null;\n",
              "    }\n",
              "  }\n",
              "\n",
              "  Animation.prototype.play_animation = function()\n",
              "  {\n",
              "    this.pause_animation();\n",
              "    this.direction = 1;\n",
              "    var t = this;\n",
              "    if (!this.timer) this.timer = setInterval(function() {\n",
              "        t.anim_step_forward();\n",
              "    }, this.interval);\n",
              "  }\n",
              "\n",
              "  Animation.prototype.reverse_animation = function()\n",
              "  {\n",
              "    this.pause_animation();\n",
              "    this.direction = -1;\n",
              "    var t = this;\n",
              "    if (!this.timer) this.timer = setInterval(function() {\n",
              "        t.anim_step_reverse();\n",
              "    }, this.interval);\n",
              "  }\n",
              "</script>\n",
              "\n",
              "<style>\n",
              ".animation {\n",
              "    display: inline-block;\n",
              "    text-align: center;\n",
              "}\n",
              "input[type=range].anim-slider {\n",
              "    width: 374px;\n",
              "    margin-left: auto;\n",
              "    margin-right: auto;\n",
              "}\n",
              ".anim-buttons {\n",
              "    margin: 8px 0px;\n",
              "}\n",
              ".anim-buttons button {\n",
              "    padding: 0;\n",
              "    width: 36px;\n",
              "}\n",
              ".anim-state label {\n",
              "    margin-right: 8px;\n",
              "}\n",
              ".anim-state input {\n",
              "    margin: 0;\n",
              "    vertical-align: middle;\n",
              "}\n",
              "</style>\n",
              "\n",
              "<div class=\"animation\">\n",
              "  <img id=\"_anim_imgbf18fa8feeef42df9ff1917d1946c4bf\">\n",
              "  <div class=\"anim-controls\">\n",
              "    <input id=\"_anim_sliderbf18fa8feeef42df9ff1917d1946c4bf\" type=\"range\" class=\"anim-slider\"\n",
              "           name=\"points\" min=\"0\" max=\"1\" step=\"1\" value=\"0\"\n",
              "           oninput=\"animbf18fa8feeef42df9ff1917d1946c4bf.set_frame(parseInt(this.value));\">\n",
              "    <div class=\"anim-buttons\">\n",
              "      <button title=\"Decrease speed\" aria-label=\"Decrease speed\" onclick=\"animbf18fa8feeef42df9ff1917d1946c4bf.slower()\">\n",
              "          <i class=\"fa fa-minus\"></i></button>\n",
              "      <button title=\"First frame\" aria-label=\"First frame\" onclick=\"animbf18fa8feeef42df9ff1917d1946c4bf.first_frame()\">\n",
              "        <i class=\"fa fa-fast-backward\"></i></button>\n",
              "      <button title=\"Previous frame\" aria-label=\"Previous frame\" onclick=\"animbf18fa8feeef42df9ff1917d1946c4bf.previous_frame()\">\n",
              "          <i class=\"fa fa-step-backward\"></i></button>\n",
              "      <button title=\"Play backwards\" aria-label=\"Play backwards\" onclick=\"animbf18fa8feeef42df9ff1917d1946c4bf.reverse_animation()\">\n",
              "          <i class=\"fa fa-play fa-flip-horizontal\"></i></button>\n",
              "      <button title=\"Pause\" aria-label=\"Pause\" onclick=\"animbf18fa8feeef42df9ff1917d1946c4bf.pause_animation()\">\n",
              "          <i class=\"fa fa-pause\"></i></button>\n",
              "      <button title=\"Play\" aria-label=\"Play\" onclick=\"animbf18fa8feeef42df9ff1917d1946c4bf.play_animation()\">\n",
              "          <i class=\"fa fa-play\"></i></button>\n",
              "      <button title=\"Next frame\" aria-label=\"Next frame\" onclick=\"animbf18fa8feeef42df9ff1917d1946c4bf.next_frame()\">\n",
              "          <i class=\"fa fa-step-forward\"></i></button>\n",
              "      <button title=\"Last frame\" aria-label=\"Last frame\" onclick=\"animbf18fa8feeef42df9ff1917d1946c4bf.last_frame()\">\n",
              "          <i class=\"fa fa-fast-forward\"></i></button>\n",
              "      <button title=\"Increase speed\" aria-label=\"Increase speed\" onclick=\"animbf18fa8feeef42df9ff1917d1946c4bf.faster()\">\n",
              "          <i class=\"fa fa-plus\"></i></button>\n",
              "    </div>\n",
              "    <form title=\"Repetition mode\" aria-label=\"Repetition mode\" action=\"#n\" name=\"_anim_loop_selectbf18fa8feeef42df9ff1917d1946c4bf\"\n",
              "          class=\"anim-state\">\n",
              "      <input type=\"radio\" name=\"state\" value=\"once\" id=\"_anim_radio1_bf18fa8feeef42df9ff1917d1946c4bf\"\n",
              "             checked>\n",
              "      <label for=\"_anim_radio1_bf18fa8feeef42df9ff1917d1946c4bf\">Once</label>\n",
              "      <input type=\"radio\" name=\"state\" value=\"loop\" id=\"_anim_radio2_bf18fa8feeef42df9ff1917d1946c4bf\"\n",
              "             >\n",
              "      <label for=\"_anim_radio2_bf18fa8feeef42df9ff1917d1946c4bf\">Loop</label>\n",
              "      <input type=\"radio\" name=\"state\" value=\"reflect\" id=\"_anim_radio3_bf18fa8feeef42df9ff1917d1946c4bf\"\n",
              "             >\n",
              "      <label for=\"_anim_radio3_bf18fa8feeef42df9ff1917d1946c4bf\">Reflect</label>\n",
              "    </form>\n",
              "  </div>\n",
              "</div>\n",
              "\n",
              "\n",
              "<script language=\"javascript\">\n",
              "  /* Instantiate the Animation class. */\n",
              "  /* The IDs given should match those used in the template above. */\n",
              "  (function() {\n",
              "    var img_id = \"_anim_imgbf18fa8feeef42df9ff1917d1946c4bf\";\n",
              "    var slider_id = \"_anim_sliderbf18fa8feeef42df9ff1917d1946c4bf\";\n",
              "    var loop_select_id = \"_anim_loop_selectbf18fa8feeef42df9ff1917d1946c4bf\";\n",
              "    var frames = new Array(5);\n",
              "    \n",
              "  frames[0] = \"data:image/png;base64,iVBORw0KGgoAAAANSUhEUgAAAoAAAAHgCAYAAAA10dzkAAAAOnRFWHRTb2Z0d2FyZQBNYXRwbG90\\\n",
              "bGliIHZlcnNpb24zLjEwLjAsIGh0dHBzOi8vbWF0cGxvdGxpYi5vcmcvlHJYcgAAAAlwSFlzAAAP\\\n",
              "YQAAD2EBqD+naQAAY7dJREFUeJzt3Xl8VNXdP/DPnSQzk3USIAvBsAg0KJshVYhEVEBAaBUFFdqK\\\n",
              "C0tLqbLYFqgL9aeWRR8R+iguUK0bUWnFWhChQeCJEsQQViUVlEVCEhAyE7LMJDP398fNvbl3MjOZ\\\n",
              "hCQzk/t5P6+8IDN37hx47PDJ95zzPYIoiiKIiIiISDcMgR4AEREREbUvBkAiIiIinWEAJCIiItIZ\\\n",
              "BkAiIiIinWEAJCIiItIZBkAiIiIinWEAJCIiItIZBkAiIiIinWEAJCIiItIZBkAiIiIinWEAJCIi\\\n",
              "ItIZBkAiIiIinWEAJCIiItIZBkAiIiIinWEAJCIiItIZBkAiIiIinWEAJCIiItIZBkAiIiIinWEA\\\n",
              "JCIiItIZBkAiIiIinWEAJCIiItIZBkAiIiIinWEAJCIiItIZBkAiIiIinWEAJCIiItIZBkAiIiIi\\\n",
              "nWEAJCIiItIZBkAiIiIinWEAJCIiItIZBkAiIiIinWEAJCIiItIZBkAiIiIinWEAJCIiItIZBkAi\\\n",
              "IiIinWEAJCIiItIZBkAiIiIinWEAJCIiItIZBkAiIiIinWEAJCIiItIZBkAiIiIinWEAJCIiItIZ\\\n",
              "BkAiIiIinWEAJCIiItIZBkAiIiIinWEAJCIiItIZBkAiIiIinWEAJCIiItIZBkAiIiIinWEAJCIi\\\n",
              "ItIZBkAiIiIinWEAJCIiItIZBkAiIiIinWEAJCIiItIZBkAiIiIinWEAJCIiItIZBkAiIiIinQkP\\\n",
              "9ACImuJyuVBcXIzY2FgIghDo4RARtRlRFFFRUYHU1FQYDKzRUNthAKSgV1xcjLS0tEAPg4io3Zw+\\\n",
              "fRpXXHFFoIdBHRgDIAW92NhYANIHYlxcXIBHQ0TUdmw2G9LS0pTPPaK2wgBIQU+e9o2Li2MAJCJd\\\n",
              "4HIXamtcYEBERESkMwyARERERDrDAEhERESkMwyARERERDrDAEhERESkMwyARERERDrDAEhERESk\\\n",
              "MwyARERERDrDAEitZtmyZRAEAfPmzVMeq6mpwZw5c9C5c2fExMRg0qRJKC0tDdwgiYiIiAGQWsfe\\\n",
              "vXvxyiuvYNCgQZrH58+fj48//hgffPABdu7cieLiYtx5550BGiUREREBDIDUCi5duoRf/vKXeO21\\\n",
              "15CQkKA8brVasW7dOjz//PMYOXIkMjMz8frrr+OLL75Afn5+AEdMRESkbwyAdNnmzJmDCRMmYPTo\\\n",
              "0ZrHCwoKUFtbq3m8X79+6N69O3bv3t3ewyQiIqJ64YEeAIW2nJwc7Nu3D3v37m30XElJCYxGI+Lj\\\n",
              "4zWPJycno6SkxOs97XY77Ha78r3NZmu18ZIHe9cBeSuB7PnAtdMDPRoiImoHrABSi50+fRpz587F\\\n",
              "O++8A7PZ3Gr3Xbp0KSwWi/KVlpbWavcmD/JWAtbT0q9ERKQLDIDUYgUFBSgrK8OQIUMQHh6O8PBw\\\n",
              "7Ny5E6tXr0Z4eDiSk5PhcDhQXl6ueV1paSlSUlK83nfx4sWwWq3K1+nTp9v4T6Jz2fMBS5r0KxER\\\n",
              "6QKngKnFRo0ahUOHDmkee+CBB9CvXz8sXLgQaWlpiIiIQG5uLiZNmgQAKCoqwqlTp5CVleX1viaT\\\n",
              "CSaTqU3HTirXTufULxGRzjAAUovFxsZiwIABmseio6PRuXNn5fHp06djwYIF6NSpE+Li4vDQQw8h\\\n",
              "KysLw4YNC8SQiYiICAyA1MZWrlwJg8GASZMmwW63Y+zYsXjppZcCPSwiIiJdE0RRFAM9CCJfbDYb\\\n",
              "LBYLrFYr4uLiAj0cIqI2w887ai/cBEIU6vauA1YOkH4lIiLyAwMgUahjGxciImomBkCiUMc2LkRE\\\n",
              "1EzcBEIU6tjGhYiImokVQCIiIiKdYQAkIiIi0hkGQCKS+NpNzJ3GREQdCgMgEUl87SbmTmMiog6F\\\n",
              "AZCIJL52E/u705iVQiKikMCTQCjosTN+CFk5QKoUWtKA+YcDPRqikMPPO2ovrAASUetV7tiTkIgo\\\n",
              "JDAAEhGw/Smpcrf9Kf/DoKfrrp0uVf7kvoScEiYiCkoMgEQdUXODV6294Vd/N3z4cx03jxARBSUG\\\n",
              "QKKOyN/gJQdFof77CJP/07j+XMcpYd17O/8khi/bjrfzTwZ6KESkwgBI1BG5By9vFUE5KIabgPAo\\\n",
              "oLocOPlFwzSu++vU37tP93rizzXUoa3ZcRxnyquxZsdxr9cwJBK1PwZAolDmLdi5By856G3+g/ba\\\n",
              "6C7Srwk9AacdgAgc+bDhefdKYmtP6XKNYIc3+6be6BYfidk39fZ6jT8hkYhaFwMgUSjzN5BlzweE\\\n",
              "MEB0StfKwat4v/T82YNA/zsACECYCdgwXXo+bai2kpg2VLpP2lDp+8sNcFwj2OH9algPfL5oJH41\\\n",
              "rIfXa3yFRFYHidoGAyBRKPN3jd2106WAJ4c3OXhFREqP9b8DmLwOsFwB1FVJVUDraeD0noZ+fisH\\\n",
              "AMdzpRB5PFf6Xt493NIAxzWCBN8hsTWqgwyRRI0xABKFMvVUr6dqnPoxObx98xFg/QEwREhr/7oO\\\n",
              "kgLfhukNgazroIawuHcdsOkRKejV2aXnRUjfi7i8AMc1gtQEf6aQm8IpZqLGeBIIBT12xveTp1M4\\\n",
              "5MciE6QNHvDxP3chDFhyofG9HJeA6ovS4+FRQHRnae2gPG3c43qpApg9n0GOgtLb+SexZsdxzL6p\\\n",
              "t8+p6GDAzztqL6wAEoUSX1W+tKFS0LNfang+e742/AlhQGpGw6+WNOlXX2v/1JmxrloKhmcPStXE\\\n",
              "03u4jo8ABPc0qz/rEIn0JjzQAyCiZlCHLfcdvgBgjGn8fI0NSvgb/6znKt2ynkDNReDwBul7xyVg\\\n",
              "4Qnt+8qVQHnN4Ok9DVO/cgWQdEs9zepP0FJX5eTXh0KFjqijYAWQKJR42jShfsz9+byVUqXOW/iT\\\n",
              "q4e1l7SP19obnpPfQ4RUTRz/rLRhRF67x3V8hIa1epk9EvyqBKoDY0vW6AVzxZEoFHANIAU9rom5\\\n",
              "DHvXadfnuX8vV/7cRSZIga/mImBOAEwxjdcXEnkwfNl2nCmvRrf4SHy+aKTX6y63Aujv+4Qaft5R\\\n",
              "e2EFkKgjkqt3hW8BtmLpdI+964DNf0Deoe8begHWlEvXGyK0rx/5OPJO1ki/F8B2LeQ39a5dT1U6\\\n",
              "+TEAyro8f9boud+rNXYHE+kZK4AU9HT5E7F7pa655F28auYE/HnLWTy504Fl4+KxMCsMcNVKz0Um\\\n",
              "NOz0taRh+abjWJRbgyWjLPjz0v9p+fTuhulSixm5zyDpyjVPbkV5dS3iIyOwf8kYAC2v3HXUip87\\\n",
              "XX7eUUCwAkgUjC53Z628+1do+J943n/P48mdDgDAoi3lWL5LXvcnACMfl643JyjhDwCezLUi782n\\\n",
              "G5/0IVcY5V3D3k4COfKhtAZRfbwc6VpzKnfqqh9PCyFqXQyARMHIfcrV25Frvs4CNsYAoqvhlt3D\\\n",
              "sGxCkvL9olw7lufZgQGTlOuX/6dECX8AsGxcPLI7X9AG0fqpZFhPN5wY4i2oyqeP9L+jRX8NFNp+\\\n",
              "PzYd3eIj8fux6cpjvxrWA7Nv6o01O443Cmxv55/ENU9uxTVPblXWCKp3Fnt7HRs9EzUfp4Ap6HFK\\\n",
              "BNrGzNnzG6aH5Uqhp80Ze9cBuU9Ja/h6j1Latiz/+ydY9OI/lMuWLVuGhQsXYvnvJmsfH2XGwt/8\\\n",
              "oqHdizwNLI/FvR0MdwGTn7xN58qPA0CYAEwYlIqCkxeR2SMBBScvotJeh/Lq2kavC6VGz03h5x21\\\n",
              "FwZACnr8QIR2TWDuUw27c/uMat4au/pQuPw/pZpKX6e4aFywVSrfLxtlwsJskzZYymNQnwLCdX3U\\\n",
              "DHJQkwOdHNjUj+/67zlYq2shQgqBT94+AM99WoTy6lpERhjQKdrUoXsH8vOO2gsbQROFArnfHgBs\\\n",
              "f0r6VYBUfZNP5PBH3kqg5iIWZhsBiFiUawcAz+EPkMKeHPwulQDOWukcYYgN6/rcK4CXu4GFOix5\\\n",
              "qhaApoKnfvz3Y9OVwOcUgec+LVKuM4WH4fNFI/Hw+kL860Cx8tqOFACJ2gvXABKFmpGPS5W5kY83\\\n",
              "rBVMG+rfpoy0oQAEICIKC3/zS3SKFDRPd4oObwh/gFTpy31KmvJ11u8Ylk8VkTd3uK8BlKelN//B\\\n",
              "+zhIl7xt5FA/vmbHcZRX12qed19LuOlgsfJc52gjei3ahKse34KH1xcqm0G4MYTIN04BU9DjlEgT\\\n",
              "5E0ZohNSWVAEIqKAqM7aE0HShjbsyjUnYPlOKxZtKW90O6UCKIQBXQcBxYXSE4JBun//O4Ae1zfc\\\n",
              "U10B3LtOqlDKZw+zcTQ1k7q6J08Bu1f4Hl5fiI8PFMMcYUBNrUs5rjpMAJwi0C0+EgBCsm0MP++o\\\n",
              "vXAKmCjUyce9AYAgAKII1FYB1iopGIaZgLoqVV9AoVH46xRlwIUqacfwolw7EBaBhU8/r63sGcKA\\\n",
              "mBQp/KmnpIGG3cjyecHmBOlxxyXpOU4F69Lb+SeVKdzfj033a6q24KTUj1IAEGuO8HjN6qkZKDh5\\\n",
              "EWfKqxFZHwLNEWG45epkZW0h0LBGsCNtEiFqLawAUtDjT8RN8FYBrK2Wfq+QnlueZ1fW/gFSq5eF\\\n",
              "N1rqW8CoHh8Tg4UjOzc0iJbv7WljiP2S9ti4pnYoky6od/V6q8S5HwmnXvPnvuO3pcfHhVITaX7e\\\n",
              "UXvhGkCiUCYHsP53SEFrwCTp1/Tx2uvMCUDqNY3D3ygTFk6/ExCAhSNisGyUWXlu0dZLWL6tRAqT\\\n",
              "6nurj4OTQ54A6blRj0th79rpPD6OMPum3oiPjEB8ZITXxs/qHn7y5g9AqhjGR0ag0l6nrO177tMi\\\n",
              "TV9AT8fHeVr7x2PjiBpjBZCCHn8i9qGp/oCy8CjkfVeJG16vUB7SrPWrXxcIUwyWF0Ri0TtfKdf9\\\n",
              "34xOyL66q+ddvdzxS37wNQX78PpCbDpYjAmDUrHt61JU1zoRGRGGb54ap1Tu5LV98ZERiDaF+6wA\\\n",
              "ql/jaf1gsOPnHbUXVgDpsqxZswaDBg1CXFwc4uLikJWVhU8++UR5vqamBnPmzEHnzp0RExODSZMm\\\n",
              "obS0NIAj7mDUVTY59OU+Ja29i4iCVJoDUFeF7O4CltxoBOAW/uTqodMOWE9j4cBzyokhS240I7tP\\\n",
              "rPfTPq6d3lDx8/d4ONKVt/NPYslHh5XKnXuFruDkRThFee2fXI8Q8Xb+SVyodEAA0D/VouwClqt+\\\n",
              "cuVwyUeHG1X75MDIk0GIvGMFkC7Lxx9/jLCwMPTt2xeiKOLvf/87nn32WRQWFqJ///6YPXs2Nm3a\\\n",
              "hDfeeAMWiwW/+93vYDAY8Pnnn/v9HvyJ2E9yNa7qR2kTCACERajatwAQDMg76UT2wO5SP7+ISGDM\\\n",
              "01KAW9ZTWscHARgwCXk7tyN72mPS6/yp8snVyIY3AyLjpXY1nl7H6qEuXPPkVpRX10IA8NTEAUpw\\\n",
              "k9fjvZ1/Es9s+ho1tS6EhwmodYrSioLICGU6WK78qRtIf/n9Ba+7hT2tFXRvPh2s+HlH7YUBkFpd\\\n",
              "p06d8Oyzz2Ly5MlITEzEu+++i8mTJwMAjh49iquuugq7d+/GsGHD/LofPxDr+RuYlvdUbdwAlM0b\\\n",
              "ABCZACw8oQ1r8iaNDdOBwxvqX+LHMW/u49FsRlHxtglEPX3NTSId0tv5J/H4xsMQIYW4/UvGeJwO\\\n",
              "7rVoE6p/OALzFf010732Oheqa7X/PdX8cAS9B/wUAJQNJoD3TSbu08jBvhGEn3fUXjgFTK3G6XQi\\\n",
              "JycHlZWVyMrKQkFBAWprazF69Gjlmn79+qF79+7YvXu31/vY7XbYbDbNF6FhitfTVKzayMelyh8g\\\n",
              "/TpgkhT8zAnSc4AU2swJ0jSxvb5Vi/o0EdEJHP6H9H6bHpGqg+5Tuu7juXY6MP7Z+g0jk6X7RyZ4\\\n",
              "3wTCTSId3podx5VJ3RE/SWwU/h5eX4jeizehPO8dlL6zENb8DZgwKFWZ7jWFa/+JsuZvQOk7C5F8\\\n",
              "7F/KVC8gVQC9bfCQN4DI9+VGECIJ+wDSZTt06BCysrJQU1ODmJgYfPjhh7j66quxf/9+GI1GxMfH\\\n",
              "a65PTk5GSUmJ1/stXboUTz75ZBuPOgSpN3n4cu30hnAWk+L5vF65orfpEWm6eNMjUlAEVFPIDeux\\\n",
              "UHNRuqf6uDfHJSnkZc/XVgP9rea59xKkkNBUTz11778RP0lEibVaWeMn9+5b8pH038img8WoPH0E\\\n",
              "5Z+vBwCU73wDH0WG4+QnrwHQtoSx5m9A+c43AAAfrluF/tdmI9YsVcjkE0KGL9veaFy/GtZDOW9Y\\\n",
              "7jFIRKwAUitIT0/H/v37sWfPHsyePRv33Xcfvv766xbfb/HixbBarcrX6dOnm36RHqg3XDTFV3VN\\\n",
              "3qyx/SloQt6xXOm36eMbqnjyJhIIDcfNyWGv+qLU808dOJuqTlLIU7dt8fZ8eXUtyqtrUXDyIp68\\\n",
              "fYBSeXPfoDFhUCrMV/RH/I33K68/tWUtpsxZhOHLtmPETxIRJmjDHwAsW7YMH5fEoby6FvY6l9JC\\\n",
              "xtOmEH/HTaQ3rADSZTMajejTpw8AIDMzE3v37sWqVatwzz33wOFwoLy8XFMFLC0tRUpKitf7mUwm\\\n",
              "mEwmr8+TB3vXSbt/nXbp5A+5H5/8nHxs27FcoKYcgChV78wJ0mvC6/++5XWB8mt7XC8FxVq7NCUM\\\n",
              "UdtqRg6Y/lYnKeTJ5/X6mnKVK3dyNc69Uqh+/a7/nkP8zVMxtn8y3ntpOQDgvZeWI/7GUmDcvUg5\\\n",
              "sRXfqcJf4sgH8C/xWtjrpH6W1bXO+hNBwjTh0v09mxo3kd5wEwi1upEjR6J79+5YtWoVEhMTsX79\\\n",
              "ekyaJE0vFhUVoV+/ftwE0trcd+CqN1bIz8n9/mSpGUDl+YbQtv0pqSA46vGGTR3qUz4A6R7jn+XU\\\n",
              "LfnF13Sx3B7GKTbs4v33W2uUEAgABnMsXDUNvSu7jn4QSdn3KLuKLZERsNc5UV3rQmSEAabwMAD+\\\n",
              "HzsXjPh5R+2FFUC6LIsXL8att96K7t27o6KiAu+++y527NiBTz/9FBaLBdOnT8eCBQvQqVMnxMXF\\\n",
              "4aGHHkJWVpbf4Y+8cN+Bmz1fWwFUr8tLGyq9xr0CePagFAjladvqi1JwBLTn+sr9BNUtY4j8IE+7\\\n",
              "Pr7xMJ77tAjRpjCcKa/BoG4W/FjpgLO+/KD07Esbg/gbS5XpXnX4i7/xfvQa9UvMvqm3EhyjTeH4\\\n",
              "/dh0rNlxHJX2OuXoOHnNH8//JfKOawDpspSVlWHatGlIT0/HqFGjsHfvXnz66ae45ZZbAAArV67E\\\n",
              "z372M0yaNAkjRoxASkoK/vnPfwZ41B2Apx24i05IAc0Uo73myIdSIJy8Trpmwv9IQU9uAJ0933ND\\\n",
              "aRHSY+EmACIQ1Vkb/uS1hGz4TPXcmzzLa/5ESOf6nimvAQAcPGNVjomLMAgQAHSONqLSXof4YZNh\\\n",
              "MMdq7mswxyJ+2GQlzKVY5CMLReVIuN+PTdfs8m3Omj9Px8cRdXScAqagxykRD7z1BHQ/Gk7uy9ec\\\n",
              "Xnue+vv5eq/6I+TY0Jnkps/xkRFKZS6zRwJ2/fccAGgqgP96KFu5Xu3Sng34cccbje6dOPIBPP/M\\\n",
              "EiXYyZ6e6Pm4t+ZUAOVegcHQI5Cfd9ReWAEkCkXyjmBAW4VTV/LUffl8bc5wr+S53xvwvPtYfi8B\\\n",
              "3AFMGtbqWmVXbsHJi9i/ZAz2LxmDzxeNwollE/Cvh7I118t7za352vCnrgSe2/465i7+M86UVyNC\\\n",
              "bgCIxse9ydU8AMqxcU2RewVygwjpCSuAFPT4E7EPrXGahrd7+HvvDdOlaeb+d3juOUgdklxhUx+x\\\n",
              "BkBZnycf3yZX4Nwrcrf9NQ8Hz1gRYRCw5Lb++MtfluGbj19W7h9/4/2wDJsMW/4GXFTtAk648X6s\\\n",
              "XvZnAA19AuU+gOq1gO7vHyr4eUfthRVAolDWGqdpeLtH2lBp16+8icSb03ukaWb1SSLU4clTsZsO\\\n",
              "Fitr7X41rIfS9+/3Y9M1FTj3NXkHz1gBALUuEWd25jQKf12uvwvxkRHofvNUJKj6BF7c+Qb+/dYa\\\n",
              "/GpYD0SbwlFeXYs1O44r97fXOREmAPY6l8c1gFzvRyRhACRqYxdzcvDtyFG4mJPT+jdvTnPo5t7D\\\n",
              "V7BTTxvzSDdd8nbEmrwpQ111ezv/pLTBIzICmT0SMHzZdhjqZ3EdPxzBokWLlGsTRz6AHjdPxZLb\\\n",
              "+isBL27YZE2z6PdeWo7HX9mgmbrN7JFQfzScAKcImMINHqd12RCaSMIpYAp6oT4l8u3IUagrLkZ4\\\n",
              "air6bs9t+Y28bcZoK3vXNe4NKGuNqWcKCc1tp+LpevUmCwA4U16tTNFeqLTj7Gdvwfr5enQfN0M5\\\n",
              "Bk6+lzylDECZDrYMn4r+P5uh2bAhv0d8ZITymKd+gMHeHibUP+8odLACSNTGusyaifDUVHSZNfPy\\\n",
              "btQWx635auVy7XTAGNNwDrAaq3660dyKmbz54/GNhzXtYNTHwclTxJk9ElBd60J89i+R/MvlEAZP\\\n",
              "VO4jnyksVygiDAKyJ01H8i+XIz77l8jskYC380/imie34pontyKzR4JyX/XUsDtPFUoiPWIFkIIe\\\n",
              "fyKu1xYVwKYqea3xnu1duaRW1dyKmbq1S1NtVXov3qRU9wAgPjIc+5eMBdBQ0ZOFCUCKJVJ5TN4H\\\n",
              "LCqv1baekTemhFrQ4+cdtRdWAImCRJNrBVtjvZ+7pip5rfGebVG5pHbT3IrZ78emIz4yApERBlTa\\\n",
              "6/B2/slGGy/k7/unWiCoXhttapi+zeyRAAFQ1goaww3I7JGA+MgICJCCn3v1Qq5WFpy8qIyZmz6I\\\n",
              "PGMAJAoS5199DXXFxTj/6mtNX+yvpk7rcA94bXG6B6eLdeVXw3pg/5Ix6BRtarRDV56SlaeJT12o\\\n",
              "Qmr9usAwAZoNGwUnL0IE0NUSiW7xkaiudSk9BZ+aOACREWHKtQKk4Ompn5/83ks+OswQSKTCAEgU\\\n",
              "JJq9VtCfsNbc6ltbVOvaonJJQc/Tuj9PjZbl5568XXuih3xUXKW9TlnfJ+8gBoBO0UblWkv9xg9P\\\n",
              "U9XycXTKecNEBIABkChoJEyZgr7bc5EwZYp/L/AnrDW3+uZv7z+iJshTx0DjYCaf2ys3cPb2enkz\\\n",
              "x6aDxZh9U28UnLyoVBLlgKhe+3emvBrPbPoGvRdvwsPrC5X7yL0J5QDJSiARN4FQCOCiaC8CsSmE\\\n",
              "qJmaOmdX/fzsm3prwqK6DYyn59XkzSrF5dUQIU0pH186oVljCQb8vKP2wgogUagKxKYQIj/Jmy/k\\\n",
              "6Vv19K96Y4Z6eliu4j33aZEy1fvk7QOUqWDA+/m+csXx54NTESYAEwalNrqGZ/4SNWAFkIIefyIm\\\n",
              "Cj2+qm3enpOrePJ5vmGCFADlYNgalTs2giaSsAJI1AxNtWrx9nxrHwfXpsfLEbUCfzZ+uD8nV/FG\\\n",
              "/CQRgLRx47lPi7xe35IWLzwKjkjCAEjUDHKrlpKnnvYYvry1cmlui5emAl6btIwhakW++gc21Vuw\\\n",
              "4ORFj9cD0AS+loQ5TgMTSRgAiZqhy6yZQFgY4HR6DF/eWrnIj0dlZPhVuWsq4LXa8XJEQch9h6/M\\\n",
              "PfC1JMzxKDgiCdcAUtAL5JqYizk5OP/qa+gya6bSnuViTg7KVr4AAEiaP0/zuPu17r4dOQp1xcUI\\\n",
              "T01F3+25Xt8vKiMDVYWFPu9FpDctXb8X7Ov+1LgGkNoLK4BEKu5Tr54qcQlTpsAQHQ2X1aqZCvZn\\\n",
              "Wrapyp18j6rCwub1BCQKcq1xJFtLq3dc90fUGAMgkYp7iPM1pStPBZetfAHfjhyFqIwMr+HuzCO/\\\n",
              "xzf9B6B8wz98vr/6/bjRgzoKuZ+fpxCmDoZtdW4v1/0RNcYpYAp67TUl4m1q19f15199Da7KSris\\\n",
              "ViAsDCmPP+bxdd/0HwA4ncr33qaA1eTpYl/3JQoFctsXua2LuoKnbgkDIOgbNbc1TgFTe2EFkKje\\\n",
              "+Vdfg8tqhSE6ullhKyY72+fGEACIGzcOCAuDecAAvzdveKoyshpIoeTt/JO45smtuFBpR3xkRKPw\\\n",
              "B3g+89dTpa6tqoNEehUe6AEQBYsus2Yqmzi8UW/0UNbrAUh5/DGfr+32P8+h2/8816zxJEyZgqq9\\\n",
              "X8G2ZQtEux119WsO5eeIgt2aHcdRXl0LAOgUbfLaEkZeo1dw8qLHxtDqU0KWfHRYeR0RtRwrgET1\\\n",
              "EqZMaXLjhXqNoHq9nj+vVa/p83d9X1VhIeB0QjCZmqwyEgUL9TFwcjsXX+vvvK3RU2/emH1Tb4QJ\\\n",
              "UnNobuYgunysABK58dXORV0llJ9TBzJfbWDcN5jIv/cVGt2rkk1VKImCgRzcAGD/kjFNXv+rYT08\\\n",
              "VvTkyp+6fYv8PRFdHm4CoaDX3oui5c0XBosFhuhov/r6ISwMQkQExJoaGCwWpO/Jb3Stusffpbw8\\\n",
              "AA2bTfzpIUgUKlq7714o9fG7XNwEQu2FU8BEbuSpXaChSie3cTnzyO8107fhnTpJL3I6IdbUAABE\\\n",
              "hwNA456C8jRxVWGhZrPJxZwclDz1dLOPdmObGApWrX3aBvv4EbU+BkAiN3JQS5o/T1njZ9uyBXA6\\\n",
              "YduyRTOVW3P4cMMLw6UVFWJ1NYqGDkPpsuWoKy5G2coXNGGty6yZMFgscFVWKpU/OJ1AWJjH6V1v\\\n",
              "QY/nAZNe+NPHj7uEiZqHAZA6rOZWyLxV7BKmTFHauMSNG4eojAwgLEz6VUWIiFB+77JalYogoA1r\\\n",
              "6pNEyla+AFdlJQwWC1IefwwAGo3ZW9DzNg6ijsafiiKrhETNwzWAFPRauiamqXN3Ze4NnZu6vmjo\\\n",
              "MGkK12KB6HBArJYWuxssFrhsNkD9P6n6Js4ANGf8yr8qTaQFAYLJBNFuB0RRGYOv5tT+/vmIQp0/\\\n",
              "awA7yjpBrgGk9sIKIHVYTZ27K5MrbACavP5iTo4U8uolL/wjDBYLBLMZABA3fjzCU1MRN2GCtIkk\\\n",
              "JgZVe79SKn0VubmoKy7Gpbw8ZZoZYWGAKEoVQ1FUqnrfjhwlvc5qhevSJc0Ymjp6jqgj8ae619rr\\\n",
              "Dok6OgZA6rD86c0HNATFpPnz/OoDKIe0pPnzAACG6GgIJhP2nj2LqsJC9N2eqzR9dlmtsG3aJIU4\\\n",
              "qxWi3Y6CqirNGOPGjQMEAQgPV6aCqwoLlVDq3v9PaUBd/17cNUwdHc/yJWp97ANIupcwZYrfISoq\\\n",
              "IwO20lKYr7pKqs7VT/m+WFGBF4vPYEn2cPzZ24sFAW+Eh2HF6VP4bU0NHh46DEnz50nNnkUR4UlJ\\\n",
              "mqlc9/5/clUwKiMDVfVj+XbkKLaOoQ7PW59AImo5VgCJ6vmzaeRSXh7gdKLmyBFp7Z4oosBegxeL\\\n",
              "zwAAnly/HsuXLwfQcEawfP7vexnXYEX9ruGXzpVh79mzjU4U8UTdPkaePpbHwl3ARETUEgyARPXk\\\n",
              "qdWylS94DIIXc3Kk0AcAYWHS2r/ISPzUEo8FiYnKdYsWLcKfbhgB2+bNgNMJx+nT+OfYMXhy/Xrl\\\n",
              "mgVdEpEZFdXQR9DLWNThzr0/ISCtWZQrgewHSERE/uIuYAp67bUrTt5xK0/ruu+uVU79gLTjN2n+\\\n",
              "PJQ89bTUww/A2gs/4vlz55TrF3RJxIzOnbGushL/88PpRo8DAMLCEJ6crDl5RD4pRLTbpd3BRqNm\\\n",
              "B7D7qSHcDUzUcXAXMLUXVgDpsixduhTXXnstYmNjkZSUhIkTJ6KoqEhzTU1NDebMmYPOnTsjJiYG\\\n",
              "kyZNQmlpaYBG7J3cn0/e5OE+JRuVkSEFsshIJM2f19DAud6sXldiydSpyvfPnz+HrGPfeg5/Bul/\\\n",
              "ekJEhFQFDAuD6HCgrrhY2TQi1tZCrK6Gy2rVVALdN7f4u9uZiIhIxgBIl2Xnzp2YM2cO8vPzsW3b\\\n",
              "NtTW1mLMmDGorKxUrpk/fz4+/vhjfPDBB9i5cyeKi4tx5513BnDU3slhKuXxxzQVt29HjpLW3oki\\\n",
              "BKNR2ZShbvkCAHNvu00TAq2qgLigSyJmdOki7fR94nGEp6ZCrKmRThNxOiEYjdKOX0BpOm2wWGCw\\\n",
              "WHyGO393OxMREck4BUyt6ty5c0hKSsLOnTsxYsQIWK1WJCYm4t1338XkyZMBAEePHsVVV12F3bt3\\\n",
              "Y9iwYU3eM9BTInLjZ8FsRlinTnBeuCD17BMEpCx5AgCUqWB5GjY+PAJWZ51yD0tYGPZk/hQAlGbT\\\n",
              "XWbN1EwhC5GRiB05ElWFhcr0rq9G0ETU8QT68470gxVAalXW+k0Sneo3NxQUFKC2thajR49WrunX\\\n",
              "rx+6d++O3bt3e7yH3W6HzWbTfAWCXPkT7XYAgGAyocusmcr3EEWcf/U1lC5foYS4qIwM/D6tuyb8\\\n",
              "AVIl8O9GIwBp/WBURgbOv/qacsQcIJ0hXJErreGr2vuVthF0/bFx/o6ZG0KIiMgXBkBqNS6XC/Pm\\\n",
              "zcPw4cMxYMAAAEBJSQmMRiPi4+M11yYnJ6OkpMTjfZYuXQqLxaJ8paWltfXQPZJ34op2u7LpQ2kE\\\n",
              "Dali12XWTM2Zv8+vf1ez5s9iCFN+vzTv//Dqd9/BEB2ttHSpKiyUQmA90W5X1gEqjaAFAQDgstk8\\\n",
              "Bjt16PN2bjAREZEaAyC1mjlz5uDw4cPIuczq0+LFi2G1WpWv06dPN/2iNtBl1kzlmDZDdDQSpkxp\\\n",
              "eAyAWFODspUvwNy/PwBg7Y8/4vmzZ5XXL+iSiN19+2JB167KY8+fP4d3UpLRZdZM6ezgykqlrx/C\\\n",
              "whA3fnzDOkBIvQRTljyhjMNTsFOHPm4IISIif/AkEGoVv/vd7/Dvf/8bu3btwhVXXKE8npKSAofD\\\n",
              "gfLyck0VsLS0FCkpKR7vZTKZYDKZ2nrIHrm3WAG0J3IAgCEmRmkC7bJaURcdjfeGZOB5tz5/cquX\\\n",
              "WWndIYSFK5XBJ9evh+P0D7j30iXA6YTBYlFCW8KUKYi69qfK2sCqwkLlWDn3cci6zJqpGTPXCRIR\\\n",
              "UVO4CYQuiyiKeOihh/Dhhx9ix44d6Nu3r+Z5eRPI+vXrMWnSJABAUVER+vXrF5SbQHz11LuYk9Ow\\\n",
              "aUMQpKlgQcCJe+7G+CefVK5bMnUqpnz9jTI1bB4wAI7Tp/Hq6VOaCuFbad2RGRur2XF85pHfw7Zl\\\n",
              "C8xXXYW6Cxd4zBuRznATCLUXVgDpssyZMwfvvvsuPvroI8TGxirr+iwWCyIjI2GxWDB9+nQsWLAA\\\n",
              "nTp1QlxcHB566CFkZWX5Ff7am7qapqYJf/UtWuTduldNmYI/Hj6MFf/4Bx65Ig1zb7sNZce/UwJg\\\n",
              "zZEjgChiRpwFqK3D8+fPYf6wLAytX0OoDni2LVuko+a++QZXHTncrn92IiLSD1YA6bII9RsU3L3+\\\n",
              "+uu4//77AUiNoB955BGsX78edrsdY8eOxUsvveR1CthdMPxErJwC4hb+yjf8Q+rjB6Cgqko63i01\\\n",
              "Fa7KSmmaWBAgmM0Qq6ulGwkCCgUBtz7xuNLmRT19e+aR38O2eTMEkwnJixay+kekM8HweUf6wABI\\\n",
              "QS+QH4jqKVmHajOKy2qVNnHIZwPXk3cLA9o1e6XLV0CsqVHCoDzFrJ5y7jJrps+j6Iio42MApPbC\\\n",
              "KWAiH9RTsvKZvYLZDAiCx/CXvidf85gcAgWjEWJ1NcTaWiAsTDpWDtop5/OvvtZwTw9H0REREbUW\\\n",
              "BkAiH+LGjZOmZCMiEJWRgSoArsrKht5/9VO8gtGIpPnzNFO6HnvyOZ2AKKKqsBAAGu3a5akfRETU\\\n",
              "HjgFTEEv0FMi8jStwWKBIToaURkZuJSXB9Fuh2AyacKap7WC8vWA1NdPfdRbc3lqU0NEHUegP+9I\\\n",
              "P9gImqgJcnNlAMrpHel78hHWqRNcVivOv/qachpHVEaG1LTZ6YRtyxZ0mTUTVYWF0nFuly55fQ9/\\\n",
              "j3CTq4olTz3N496IiKjFGACJmpAwZQr6bs9F0vx5mlM21KduyMFMc7Sb09mwEUQVCuVp4Ys5OSga\\\n",
              "OgxFQ4ehbOULfh3hpr4Xj3sjIqKW4hpAIj+5r9dTf1+19yvYSkuldYL16/vkjRwJU6ZIz7s1eFZv\\\n",
              "+lCfBtLUGADvp4IQERH5gwGQqIXU6/GqCguVo9vcj2YDoDxfd+GCprVLSzZ98Lg3IiK6XJwCJt3x\\\n",
              "d71dU9S7fLvMmin1BaysBAD03Z6rCWnq6WJZwpQpSN+Tj/Q9+Qx0RETUrhgASXc8tmdpAXWoS5gy\\\n",
              "BYboaGVTiJqvnbutFUaJiIiagwGQdMdTNa4l5M0hcqjzdl9fgbO1wigREVFzMACS7rgHt7a+r7dg\\\n",
              "eDEnB67KShgsFp9hlFVCIiJqbQyARG3MWzCUdwEboqM1z7kHPlYJiYiotTEAEgWI3DRaPhdY5h74\\\n",
              "WmvKmoiISMYASORBe0y7qlvHqLkHvraasiYiIv1iACTyoK2nXX2t/2PgIyKitsYASORBU9Oul1sh\\\n",
              "9Lb+j4iIqD0wABJ50FQV7nIrhFzXR0REgcSj4IhaQH3cW0vwODciIgokQRRFMdCDIPLFZrPBYrHA\\\n",
              "arUiLi4u0MMhImoz/Lyj9sIpYCIiIiKdYQAk6gDeL3ofYzaMwftF7wd6KEREFAIYAIk6gLWH1uJs\\\n",
              "5VmsPbQ20EMhIqIQwABI1AHMGDgDXaO7YsbAGYEeChERhQBuAqGgx0XRRKQX/Lyj9sIKIBEREZHO\\\n",
              "MAASERER6QwDIBEREZHOMAASERF5cWDbZrw250Ec2LY50EMhalUMgERERF58uXEDbOfL8OXGDYEe\\\n",
              "ClGrYgAkIr+w2TTpUWp6PwgGA1LT+wV6KEStigGQiPxyuc2mGSApFBUXHYXocqG46Gigh0LUqhgA\\\n",
              "iQhA0wHtcptN87QSCkXXTZyMuC5JuG7i5EAPhahVsRE0BT02Rm2594vex9pDazFj4AzcnX63z2vH\\\n",
              "bBiDs5Vn0TW6K7ZO3hrQsRDpFT/vqL2wAkjUgTWn6qau8LXFdO3d6Xdj6+StDH/U5i5n5y53/ZJe\\\n",
              "MAASdWC+pm3dQ546oHG6lkLZ5ezcVb+WYZA6MgZAog7MveqmDn2+Qt6MgTNgMVpQWVvJTRsUFJoT\\\n",
              "xi5n3Z76tWwBQx0ZAyBdll27duHnP/85UlNTIQgCNm7cqHleFEU88cQT6Nq1KyIjIzF69Gh8++23\\\n",
              "gRksaUKfr+rg3el3IyoiCjaHrVFA5G5eam8Htm1G7t9e9hjGPAXDwbeMx8wX/4bBt4z3ej9vYVL9\\\n",
              "Wm4AoY6MAZAuS2VlJQYPHowXX3zR4/MrVqzA6tWr8fLLL2PPnj2Ijo7G2LFjUVNT084jJUA7JSxX\\\n",
              "BwF4DHTeAiKnh6m9fblxA0SXC4LB0CiMtaRK5+9rmgqSRKGMAZAuy6233oqnn34ad9xxR6PnRFHE\\\n",
              "Cy+8gMceewy33347Bg0ahDfffBPFxcWNKoV0+fypzN2dfjdmDJyBtYfWKtd5C3TeAuLltoMhai65\\\n",
              "Ejfqwd80CmP+NGqWK35vL56H56fehsi4OFb2SPcYAKnNfP/99ygpKcHo0aOVxywWC4YOHYrdu3cH\\\n",
              "cGQdk6cgpw6F7xe9j+z12Xg6/2nNde6Bzj1I+qr4cTqY2oOvSlxTjZrV08el3x2D6HKh7MR3rOyR\\\n",
              "7jEAUpspKSkBACQnJ2seT05OVp7zxG63w2azab6oaZ4qc+rwtvbQWlgdVogQlesB7UaR94vexzN7\\\n",
              "nvEZEN3vyelgCqSm1unl5bwJ0eUCBAHJV/aBYDAgPSubO3xJ9xgAKegsXboUFotF+UpLSwv0kIKa\\\n",
              "XIUD0KjPnjq8uU/ZeurHt/bQWrhEFwyCwWNA9HRPX9VDorZ0YNtmfLlxA66bONl7NU8UAADmqBj8\\\n",
              "aukLGPXgb1BcdBR569+C7XwZcv/2MkMg6RIDILWZlJQUAEBpaanm8dLSUuU5TxYvXgyr1ap8nT59\\\n",
              "uk3HGep8VeHU6/jWHlqLCEMEAMAcZlauUYc2OdA9OvRRrw2b1YHQPRyyIkhN8VV5a25VLi/nTdjO\\\n",
              "lyEv502vr82eei/iuiQhe+q9ABo2gEAQAUGA6HIhb/1bzXpvVg+pI2AApDbTq1cvpKSkIDc3V3nM\\\n",
              "ZrNhz549yMrK8vo6k8mEuLg4zRd558+mDDmYhQlhMAgGjOw+stFzq/etxtpDa5GRlKFsEpHD4cJd\\\n",
              "Cz1W9twrft7GwsogyXztwG32jt766h5Ewetr5XYucmNnedOIJUn1Q6gg+nxv98DH/oDUETAA0mW5\\\n",
              "dOkS9u/fj/379wOQNn7s378fp06dgiAImDdvHp5++mn861//wqFDhzBt2jSkpqZi4sSJAR13R1NZ\\\n",
              "W4nV+1Z7DVhyMDOGGeESXcg7k6cEu6raKsQZ42B32nG28iw++f6TRmv8tpzYooTE7PXZGL5+uMdm\\\n",
              "0t6Oe2NlkGS+1ux5e86f6p6v+6oDm7xppOzEd4AoQjAYkD1lmub1TQU+9gekjkAQRVEM9CAodO3Y\\\n",
              "sQM333xzo8fvu+8+vPHGGxBFEUuWLMGrr76K8vJyZGdn46WXXsJPfvITv9+Dh6P7Nnz9cNgc0kaZ\\\n",
              "rtFdlSlfT+TQdrHmImqcNRAgQISIrtFdUVVbBavDCnOYGQnmBM2mj4ykDBSWFaKytlJ5rzhjHBxO\\\n",
              "B+xOO27tdSuWj1je5PvK/QeJ/CGv8XNUV6OmsgJxXZIw88W/ebzG0zpA+bnU9H4oLjqK1PR+OLG/\\\n",
              "EBBE9Bw8BMVFRz2+7rU5D8J2vkx5P7/WGrYSft5Re2EApKDHD0Tfstdnw+qwQoCAx4Y95jVgqUPY\\\n",
              "s3ufRY2zBuFCOMIN4bA77UiJTkFpVSnG9RyH5SOWY+GuhdhyYguu6nQVLtRcUALh6n2rIUKEw+lA\\\n",
              "jVNq6N1U8CRqCTmImWNiYDRHKRU3dRh7cfoU1Fy6BHNMDOasy/H4erla9591awBRhDk6FnP+tl5z\\\n",
              "rTrkub9He+LnHbUXBkAKevxA9EwOdHJ1zlN1TR365GlYdbVPrgCqGQQDHh36KJ7Z8wxcokt53Bxm\\\n",
              "hsPlwLie45CZnImn859WXhtnjMPcIXNZ3aNWdWDbZuTlvAmIAnpek4ETB/ahprISEEWlOvfig1NR\\\n",
              "U1kBQ1g4XC4nwo1G3HTvdAy+ZbymAli0O09qBwMAgoDR02drrnHUVKHm0iWPVUZvY2uLkMjPO2ov\\\n",
              "DIAU9PiB6NmYDWOUQOet+iZfI9T/nwsu9O/cHz3iemDz95tR+d9KRP8kGgBggAEuSP9Ado3uioyk\\\n",
              "DGw5sQXJUcn4bv93iOwbqdw3zhgHm8MGg2BATEQMbA4bq4DUJuQqnmAwKAFOMBiUU0HkIGY7X6a8\\\n",
              "xj3EyfdQCzeZEBVrQVWFFXV2Owzh4RBdLqRnZWPCw3/0e1z+BkZ/8fOO2gs3gRCFKH92/84YOAMG\\\n",
              "wQARohLuvrnwDQrLClH6YSm+/8v3OLfpnBIOAUCAgBkDZ2D5iOU4MO0A/vuP/+L4M8dxbuM55b7V\\\n",
              "ddUAgKs6XYW5Q+Yq4+BuX2pt8oaL9KxsmGNiEG40wRQVpTwvnxISbjJpXgM0bB6J9BCk6ux22M6X\\\n",
              "oc5uBwC46uo8nijibQMKN4JQqGMFkIIefyK+PO8XvY/V+1ajsrYSTtGJW3vdiugforHkl0uUa7pP\\\n",
              "6Y64cQ1/t+YwM4xhRvQs6Il3/+dd5fEn33kSW4WtsDqsAKTp4gPTDijP+1OVJGou9XRrQx8/AeER\\\n",
              "RkAAwsON6HlNBnbu2Ilfzp6jTMl6qh4CwKnyClyZ3EWp/Lnq6qQnVFPD8vvm/u1liC5Xq1f6vOHn\\\n",
              "HbUXVgCJQpC3Spunx+9Ovxt5U/OweOhixBnjsP3UdnwqfIoeU3oo15zKOYXzm84r39c4a3D8w+Oa\\\n",
              "8Nftnm7ol9kPUREN1ZerOl2lef8ZA2cgzhiHqtoqr70DSZ8up3myug3LdRMnA4IAiCLqHHbU2e2o\\\n",
              "qazAy2+tx7MfbsaWfYdwYNtmvPjgVFRVWGGOjkV6VjbiuiTBHBOD7d8cx+qtu/CNaEZclyQYTQ1L\\\n",
              "G8IjjEq/QPl9RZcLgsHASh91OKwAUtDjT8SNeau0qR+XN37Im0Tk1i9qFz+5iDPvnVG+7z6lO5Im\\\n",
              "JOHsv89qHk++KxmJExKV+8obRNTvI29CkccgYzWQgMtbM6fezHFifyFqKiuU58JNJpz80YqVmxsa\\\n",
              "zt85LBPXd69v9Fxf1QOAJX9ajI++Oqhc93//93+IrbYhL+dN1DlqUeeQpoPN0bHInnov8ta/BQgi\\\n",
              "sqdMA9A+O4P5eUfthRVAohDkbf2f+nH3Js52p73RfTqP74xly5Yp35/KOYXv5n6nCX/d7umGxAmJ\\\n",
              "AICMpAzcnX43Hh36qPI+q/atwtnKs1i1b5UyBoMgfbSozxQmffNnzZy3KqG8zq+46KgS/gSDAaNn\\\n",
              "/BZz3/wH7pu3AHcOy1Su/2d+AbZ/c1z6RhTxn3Vr8KdHHtGEv/ED++HEpoaTPOpqHQ2/r3Pgy40b\\\n",
              "UFNZAaNZqnjn/u1lnv5BHUp4oAdARM0nn8PrS0ZSBkpPlCp9/DKSMvD5mc8hQkRabBq+/vFrGA1G\\\n",
              "9JrYC8uwDIsWLQIAXLhwQblH8l3JSLg1Qfl+y4ktyEzO1LyPAOk4rgpHBRbuWojCskKM6znOa2sa\\\n",
              "0qfBt4xvsnKmnur1dO11Eydjx5vrUFfrQHpWtnLNlxs34PruKbBXX4VNB74BAGw+JG3mGHlVb2z/\\\n",
              "+pjyPSCFv5FX9Ubpd8fw4w+nlcqfrM7hQGp6P+U95algAMrjRKGOFUCiDkSu+q3atwpbTmyBS3Th\\\n",
              "Qs0FbJ28FZnJmYiKiMLcIXPRI64HRIiocdZg7aG16DWxF8JjtD8PRsREKJU/QAp6LtGlnBksH+02\\\n",
              "vNtwAIAIUak2FpYVejwSjsiXpqqEg28Zj6g4CyCKKNqdhwPbNuPAts1w1FTBHB2L2Q/ej9szByvX\\\n",
              "bz50FE9s3Noo/N1+wzAAQPKVfTSVP4Uo4sSBfZpxCQbpn0v3XcLA5a1vJAoUBkCiDkSeApbDmnoK\\\n",
              "Vg5tq/etxubvG/6h6mTuhIcffxh1l+o096q9VItzm6TWL/0790esMRYAYHfaUVlbCYvRghkDZ+Dz\\\n",
              "M58rr7mq01VNtqYhag73cCWHMdHlQu7fXkbe+rdQc+mSMjW88av9uP2ng5TXVzlqld/LlT8BAh55\\\n",
              "79/41dIX0O/6G6RNJSpxXZIAUdBUI0c9+Bu/zhr2Nm6iYMMASBRifPXauzv9bmydvBUPD3kYXaO7\\\n",
              "4tGhjypVuIykDBgEAyprK5Xr+3fujx1v7kDpB6XKY2HRYcrvSz8oRefdnZHzsxzMHTIXccY42J12\\\n",
              "2Bw2iBCx9tBazdpCudro6zg67gwmbzwFKffHBt8yHulZ2QAgTcsKDfsYi3bnAQBm3vtLRBkjNPeO\\\n",
              "MkZg5NV9IBgMsJ0vw8pfTMSBbZsx4eE/4pGcj9Fv+AgIBgP6DR+BmS/+DdlT71UCX1OnfniqXHr6\\\n",
              "sxAFEwZAohCjnn71Rg6CAJTAVVhWCJfoglN0AgAsRgsKcgo04a/7lO6YnDMZyXclK4/tfGUnekyV\\\n",
              "WsZER0RDhAgBAiocFThbeRbGMCPijHFKRfByx0765SlIeXpMnoYVDAZkT5mmhDc5GL725ruayh8g\\\n",
              "VQI/K/pOWcvnctYh928vKxW6CQ//EaMe/A2Ki47iwLbNysaTwbeMbzLMqa/1NW6iYMI2MBT02BZB\\\n",
              "e6YvAKzatwoOpwOmMBOuiL0CX//4NUxhJvzh2j9oqm9ySxaDYFA2ZshtYUr/XYqDf2/YFZl8VzIG\\\n",
              "3T0IMwbOwFP5T+HcpnONwmHShCRNKxn53GD1e6rH6utsYq4P1LeWnqV7YNtm7HhrHeocDiT36g1r\\\n",
              "aSkgiOg5eAiKi47ii9MleOPjT5Tro4wRHqeBZeq2NN5a1WxavQJFu/P8PibucvDzjtoLAyAFPX4g\\\n",
              "Nu77595rTxZnjEN0RLQSsBbuWqis91P34/t/7/4/zUkgXe/uis7jO6N/5/64UHNBubd7COz1p17K\\\n",
              "2cECBDw27DElyC3ctRBbTmyB0WBEjbNGeT9voY9hUN+a0xdQHRbz1r/V0AewviG0/Htvu323f3Nc\\\n",
              "8/idwzLx4NS7lVB3xVUDlD6DxUVHlapdXs6bgCitD6yprFDG2tLw6g9+3lF74RQwUQhw7/snn7hh\\\n",
              "MVrQv3N/CBBgDjPD4XQoGz0AoLCsULlHRlKG8vutwlYk3i7t8O12Tzd0Gd8FAPD1j1/jYs1F5bqu\\\n",
              "P+uK7lO6AwCSJyYj5icxynOxxlhNcJN3Hdc4a2AQDMr7eZv25XSwvjWnL2BezpsNU7CqNX/SUXBS\\\n",
              "QPvs6Hcewx8gtYIZP7Chfcs/8wvw0trXIbpcOLZ3D/6z9iXYzpfhxP5CzbSvsrlEEDVjlaeE1VPI\\\n",
              "RKGGAZAoBMhr+uTAdXf63fh86ufIm5qHnJ/l4OB9B7H3V3thDDMCkFqyAFJQlPv0ffL9J8rmCxEi\\\n",
              "ku9IxoAnBuCHnB9wa69bYRAMCBPCNFO80RHRSLstDb3+1AtJE5MgQoTFaEHX6K6YO2SuZozjeo6D\\\n",
              "QTDAHGaGS3Qp4dOfptWkP57WzblTzv0VBZhjYuCorkbPwUNgCJdaFnW+Ig39rr8B3/94EZsOfK28\\\n",
              "btmyZdh08Bv0Gz5CeWz0wHT8LKO/8v3mQ0fx/Y8XtW1gBFEJnanp/WCOiYE5OhY9Bw/RjEu9E5mb\\\n",
              "PChUMQASdSBzh8zVhLO70+9GnFGaRpJ37aqvGz9qPMZsGAMASI5KRrhB2wtweLfheHjIw+iT0Qe3\\\n",
              "9roVXaO74uEhD3vc6bt8xHI8OvRRANL0cEZShs9pXvdQS/rhb4sUuUqYPfVeGM1RqKmsQHHRUWUj\\\n",
              "R+l3x3DiwD706pyAW/r3BQD8LKM/Yor248XpU/DfPV8o9zKazbgt6zqlEjh2UD/cetvtCDdKPzSF\\\n",
              "G03InjJNCZ3FRUcxZ10Osqfei6LdeY12IvtqC0MUCngSCFEHoj4hRA5fw7sNV04AmTFwhiaUrdq3\\\n",
              "CjaHDSXflyhVQzW5ildaJa0D9HWm7/tF7ytnBMuvLSwrVKZ5GfRI1tSJHzL59BB1s+frJk7GD98c\\\n",
              "xtHPd0kXiQLiuiRh7qwRuGbHTvSIj9OcFawQBVw3cTIc1dVIT0vFffMewZcbN6DObtes7XNUV8Mc\\\n",
              "E6OZ7hVdLggGgybs+XOyCVEwYwWQqIOS19jlnclTTgC5O/1uzdo7eXrYFGZSzu8FpApenDEOGUkZ\\\n",
              "2Pz9ZrhEF7ac2OLxfeTefqv3rYZLdEGAoLSE4TQvedLcFinyejxjZCQG3zIeEx7+I0bP+K1SHbxu\\\n",
              "4mScOLAPPeLj0POaDJijY2GOiUHylX0AQUC4yYTsqfdi8C3jYYyMRLeYSGUTh/vaPvn8XzncydeM\\\n",
              "evA3msDHRs8U6rgLmIIed8U13/tF72P1vtVKzz6rw+pxVy4A5fcFpQX45PtPNO1k1LuN5R3C6unc\\\n",
              "94vex9P5T0OECHOYGQnmBL939XIXMHniaYdtU7tu5R3Fsn7DR2jatbi3jqm22TzeqzntXpqzi7k5\\\n",
              "+HlH7YUVQKIOaNW+VbA6rKhwVGB4t+HoGt0VGUkZyno/ee3d3el3Y8bAGVh7aK0yTZxgTlACWSdz\\\n",
              "JwDQtIdR79pde2itMnVsDDNq1vQ1deoHdwGTJ56aLrtvGNm0egWen3obNq1eAUCq0pljGnaoy+cE\\\n",
              "yxU6eaoXooiyE9953Xwiry/0dN6vOzZ6plDHAEgUwryFLHlqV4SIwrJCbJ28FZ+f+VzTIka2at8q\\\n",
              "nK08C6vD2ug0j28ufKP86mk6d8bAGbAYLYgzxmHukLma8TQV8Dg9TJ74ClZyqDv6xf9BdLmUo98G\\\n",
              "3zIec9blaE4EyVv/Fmzny7DjrXWoslmVe8inhbjf88C2zc0Kdf7sYiYKZtwEQhTC5E0cq/at0kyj\\\n",
              "PjzkYazatwoCBCVgyZU6980eclgEgIpa7eL5cT3HYcuJLRjXc5xmg4nM/TF5ylie2lVPNbvzdD8i\\\n",
              "X5sr5CbQgsEAURSR1PNKzfMTHv4jrrhqgKZZdJ3DoTSLjuuS1GhqV11xbCrQtWUDaKL2xgogUQiT\\\n",
              "w5s6xAHaPoGAFMyyu2VrWsTI1brh3YbDYrRAgACX6NJU7JaPWI4D0w5g+YjlXquN6sczkjKUJtBs\\\n",
              "80Ktrr4JtLx0vdpma3SJvJEDkM4KTu7VW9kI4qmy15yqX1NnAhOFEgZAohD28JCHld58QOMpYbk1\\\n",
              "y9nKs8pUsBzI5CnawrJC5E3Nw2PDHvM4Jave5dvUiR6FZYWaJtBErSl7yjTEdUlCv+tv8BraUtP7\\\n",
              "KYFv1IO/kUKiKCIq1uKxaudrKtd9py/X/VFHwilgohDmPo2qDmNyyxeX6IJBMCjBTl6fl5GUAZSh\\\n",
              "yTV48j3jjHEeA2JGUgZKT5QiIykDmcmZPqd9iS6HP733iouOAqIIZ20tACm0ydO2zZ3ClSt+eTlv\\\n",
              "Kq9rzR2/RIHECiBRB+LpzOCu0V3x6NBHPVb+PFUE3St88j3mDpnrcUpXXfXjtC+1NW/999RHuKmP\\\n",
              "aVNX+Jo7hStX/CAKnPqlDocBkKgD8XRmsHsga+7ZvE2FOu7mpfYkh7jcv72sCYHqI9y8HdMmh8PU\\\n",
              "9H7KY74aOsvhMXvqvZz6pQ6HjaAp6LExauhis2dqDeqpWwDI/dvLEF0uTRNmX9O7B7ZtRl7Om6ip\\\n",
              "rAREUfO6tmro3FL8vKP2wgogUQfUVBPm9sJmz9Qa3M8Odq/wbVq9Arl/exmp6f08ru2Tj5KDKDY6\\\n",
              "05cbO0ivGACJOqBgCV6cHqbLdWDbZjhqqmCOjlVCmvvO3aLdeZrG0O7kk0LM0bGNzvT1tAuY5/yS\\\n",
              "HnAXMFEH1FQT5vbCZs90ueTqXVyXJK+tWsLCI1BX62h0yofMn93D7u+prjgSdUQMgEQdEIMXdRTq\\\n",
              "Ni6efLlxA+oc9kanfMhrAlPT+6G46GizTu9o6j2JOgJuAqGgx0XRROSNt80f8uYOuSWMvM4v2I9y\\\n",
              "4+cdtReuASTqQIJl8wdRe/F2koe8uSM9K1sT/tjPj0jCKWCiDsT9JJBAYfsXCjRv6/44tUskYQWQ\\\n",
              "2sWLL76Inj17wmw2Y+jQofjyyy8DPaQOKVh23QbLLmQiNV/n/hLpDQMgtbn33nsPCxYswJIlS7Bv\\\n",
              "3z4MHjwYY8eORVlZWaCH1uG05VFszZleDpYgSkREnnETCLW5oUOH4tprr8X//u//AgBcLhfS0tLw\\\n",
              "0EMPYdGiRU2+nouig8OYDWNwtvIsukZ3xdbJWwM9HKIOiZ931F5YAaQ25XA4UFBQgNGjRyuPGQwG\\\n",
              "jB49Grt37w7gyKi5WNUjIuo4uAmE2tT58+fhdDqRnJyseTw5ORlHjx71+Bq73Q673a58b7PZ2nSM\\\n",
              "5B/2FiQi6jhYAaSgs3TpUlgsFuUrLS0t0EMiIiLqUBgAqU116dIFYWFhKC0t1TxeWlqKlJQUj69Z\\\n",
              "vHgxrFar8nX69On2GCoREZFuMABSmzIajcjMzERubq7ymMvlQm5uLrKysjy+xmQyIS4uTvNFRERE\\\n",
              "rYdrAKnNLViwAPfddx9++tOf4rrrrsMLL7yAyspKPPDAA4EeGhERkS4xAFKbu+eee3Du3Dk88cQT\\\n",
              "KCkpwTXXXIMtW7Y02hhCRERE7YN9ACnosS8WEekFP++ovXANIBEREZHOMAASERER6QwDIBEREZHO\\\n",
              "MAASERER6QwDIBEREZHOMAASERER6QwDIBEREZHOMAASERER6QwDIBEREZHOMAASERER6QwDIBER\\\n",
              "EZHOMAASERER6QwDIBEREZHOMAASERER6QwDIBEREZHOMAASERER6QwDIBEREZHOMAASERER6QwD\\\n",
              "IBEREZHOMAASERER6QwDIBEREZHOMAASERER6QwDIBEREZHOMAASERER6QwDIBEREZHOMAASERER\\\n",
              "6QwDIBEREZHOMAASERER6QwDIBEREZHOMAASERER6QwDIBEREZHOMAASERER6QwDIBEREZHOMAAS\\\n",
              "ERER6QwDIBEREZHOMAASERER6QwDIBEREZHOMABSiz3zzDO4/vrrERUVhfj4eI/XnDp1ChMmTEBU\\\n",
              "VBSSkpLwhz/8AXV1de07UCIiItIID/QAKHQ5HA7cddddyMrKwrp16xo973Q6MWHCBKSkpOCLL77A\\\n",
              "2bNnMW3aNEREROAvf/lLAEZMREREACCIoigGehAU2t544w3MmzcP5eXlmsc/+eQT/OxnP0NxcTGS\\\n",
              "k5MBAC+//DIWLlyIc+fOwWg0+nV/m80Gi8UCq9WKuLi41h4+EVHQ4OcdtRdOAVOb2b17NwYOHKiE\\\n",
              "PwAYO3YsbDYbjhw54vV1drsdNptN80VERESthwGQ2kxJSYkm/AFQvi8pKfH6uqVLl8JisShfaWlp\\\n",
              "bTpOIiIivWEAJI1FixZBEASfX0ePHm3TMSxevBhWq1X5On36dJu+HxERkd5wEwhpPPLII7j//vt9\\\n",
              "XnPllVf6da+UlBR8+eWXmsdKS0uV57wxmUwwmUx+vQcRERE1HwMgaSQmJiIxMbFV7pWVlYVnnnkG\\\n",
              "ZWVlSEpKAgBs27YNcXFxuPrqq1vlPYiIiKj5GACpxU6dOoULFy7g1KlTcDqd2L9/PwCgT58+iImJ\\\n",
              "wZgxY3D11Vfj3nvvxYoVK1BSUoLHHnsMc+bMYYWPiIgogNgGhlrs/vvvx9///vdGj3/22We46aab\\\n",
              "AAAnT57E7NmzsWPHDkRHR+O+++7DsmXLEB7u/88ebItARHrBzztqLwyAFPT4gUhEesHPO2ov3AVM\\\n",
              "REREpDMMgEREREQ6wwBIREREpDMMgEREREQ6wwBIREREpDMMgEREREQ6wwBIREREpDMMgEREREQ6\\\n",
              "wwBIREREpDMMgEREREQ6wwBIREREpDMMgEREREQ6wwBIREREpDMMgEREREQ6wwBIREREpDMMgERE\\\n",
              "REQ6wwBIREREpDMMgEREREQ6wwBIREREpDMMgEREREQ6wwBIREREpDMMgEREREQ6wwBIREREpDMM\\\n",
              "gEREREQ6wwBIREREpDMMgEREREQ6wwBIREREpDMMgEREREQ6wwBIREREpDMMgEREREQ6wwBIRERE\\\n",
              "pDMMgEREREQ6wwBIREREpDMMgEREREQ6wwBIRES6d3jXGbz5p89xeNeZQA+FqF0wABIRke7t23IC\\\n",
              "FRfs2LflRKCHQtQuGACpRU6cOIHp06ejV69eiIyMRO/evbFkyRI4HA7NdQcPHsQNN9wAs9mMtLQ0\\\n",
              "rFixIkAjJiLybsi4nojtZMKQcT0DPRSidhEe6AFQaDp69ChcLhdeeeUV9OnTB4cPH8bMmTNRWVmJ\\\n",
              "5557DgBgs9kwZswYjB49Gi+//DIOHTqEBx98EPHx8Zg1a1aA/wRERA0GjOiGASO6BXoYRO1GEEVR\\\n",
              "DPQgqGN49tlnsWbNGnz33XcAgDVr1uDRRx9FSUkJjEYjAGDRokXYuHEjjh496vd9bTYbLBYLrFYr\\\n",
              "4uLi2mTsRKRPh3edwb4tJzBkXM+gCID8vKP2wilgajVWqxWdOnVSvt+9ezdGjBihhD8AGDt2LIqK\\\n",
              "inDx4sVADJGISMPftX/cJEIdDQMgtYpjx47hr3/9K379618rj5WUlCA5OVlznfx9SUmJ13vZ7XbY\\\n",
              "bDbNFxFRS/kKb/6u/eMmEepoGABJY9GiRRAEweeX+/TtmTNnMG7cONx1112YOXPmZY9h6dKlsFgs\\\n",
              "yldaWtpl35OIQlNrVN58hbcBI7ph2l+GNzn9y00i1NFwDSBpnDt3Dj/++KPPa6688kplWre4uBg3\\\n",
              "3XQThg0bhjfeeAMGQ8PPFNOmTYPNZsPGjRuVxz777DOMHDkSFy5cQEJCgsf72+122O125XubzYa0\\\n",
              "tDSuiSHSoTf/9DkqLtgR28mEaX8Z3qJ7BNs6P1+4BpDaC3cBk0ZiYiISExP9uvbMmTO4+eabkZmZ\\\n",
              "iddff10T/gAgKysLjz76KGpraxEREQEA2LZtG9LT072GPwAwmUwwmUwt/0MQUYcxZFxPJbw1h3vo\\\n",
              "C/bgR9TeOAVMLXLmzBncdNNN6N69O5577jmcO3cOJSUlmrV9v/jFL2A0GjF9+nQcOXIE7733Hlat\\\n",
              "WoUFCxYEcOREFEr8naJ1xzV7RL6xAkgtsm3bNhw7dgzHjh3DFVdcoXlOXlVgsViwdetWzJkzB5mZ\\\n",
              "mejSpQueeOIJ9gAkojbnb+UwlKaHiVoT1wBS0OOaGCJqC4d3ncGunCKILlzWGsPWxM87ai+cAiYi\\\n",
              "opDSWj359m05AdEFCAZwdy/pDgMgERGFFH/W9/kTEuXWLiOmpHP6l3SHawCJiCjoqdfq+bO+Tx0S\\\n",
              "vYW71todzHWEFIpYASQioqDhrXLnHujUO4M9vSaldzwEg/Srr/u2daNpomDFCiAREQUNb5U7T1U/\\\n",
              "ufLmqHHCXlWnBLD8jcdhr64DRKDkeLnmvvkbj2uqdfkbj8NeVYf8jcdbXL1raa9CokBiACQioqDh\\\n",
              "LUx5mq6VQ50pKlw5pm3flhOwV9UB0G7ukJ9z1Dh9Tg23ZDqXjaYpFDEAEhFR0PAVptzD2ZBxPZG/\\\n",
              "8TicdS44aqRrUnrHo+JiKcIjDBg+uS+Kvy3Hrpwi9MlMVq4PjzDAUePE4V1nMGxib03g9GftoPt4\\\n",
              "UnrHo+R4OdcAUkjhGkAiIgo4f9biua+1GzCiG4zmMNQ5XMoUcMnxckAEImMiMGBENxwrKIXoAr79\\\n",
              "qhS7copgr6qD09lwvft6QnlnsD/TufJ4vv2qVJleJgoVDIBERBRw7uHOPRAe3nUGjhonTFHhSOkd\\\n",
              "rzw3ZFxPhEcYAEGq/rkHuD6ZyRAMQHi4AaJLeq8uabFeQ15zjp6T3ys8nP+UUujhf7VERBRw7sHN\\\n",
              "PRDKa/uM5jCUHC/XTNNGxkYAInCsoBQANAEutW88YuJN6HVNIoT6f/FqKhyNQp6/u4HV18lhcfhd\\\n",
              "fRHbyYRhE3u37l8KURtiACQiooBraipW/b2n5yAAoguaaVj5qLeKC3aUHC/HiCnpXit/+RuPa6Zx\\\n",
              "/WlH423sRKGAm0CIiCjoyJtB5CA2ZFxPzVm98nNrF+wCIE3x1tW6NPdQH/VmjjUqm0HU/QO9tW+R\\\n",
              "28PsXF+kvB/Ali/UcQiiKIqBHgSRLzwcnUi/3vzT56i4YEdsJ5MmAKqfAwBTVDiM5jDNFLJ6d+6u\\\n",
              "nCJpDaAAxCaYkNI7XtkgIhiktYIlx8uR0jsep478qLSSAeDxvdsKP++ovXAKmIiIgpY83ave+KF+\\\n",
              "zhQVDlNUOIZN7K1Mw+a89hEqLtjx/f5zqLhox+cffIsuabHKZhB55+6xM4cASFPHp478CADa8CdI\\\n",
              "wZLVPuqIWAGkoMefiInIVyUQALauO4JjBaXYeuhtfJT3OiYOm4nRg6coz8uvO7zrDPI3Hse/v3gL\\\n",
              "H+1Zi1szp+H2rAdQV+cCRCA8omEque+1yRgzvX+7/RkBft5R+2EFkIiIgp5c7ZMbOLs7ViBV9D7K\\\n",
              "ex0AsDH/NWzbv155Xj4TeMCIbvhk77v4aM9aAMAnBW+i6IcDgChNBYdFNPyzKB8jR9QRMQASEVHA\\\n",
              "NdWGRW76rD7zV61PZjL6dBuIu276jfLYR3vWKiHw+wPnsHbBLky64Tf4Z94ryjV3Zv8a6WmDYYoK\\\n",
              "x4gp6Rg2sbcyrSxP/frbIoYolHAXMBERBZz7EWyezuSVj3KrrqjF2gW7MGxib+W5MdP7Sz3/tvwK\\\n",
              "3dIT8MIrSwFAqfTdcs1UfPLlO8r3ADDv14uR0WkCKi7YlZNDADRq59Kc4+GIQgUrgEREFHBNNYKW\\\n",
              "OWrqUFcrHeW2K6dIc1KI3POvf9Q43O1WCVz4xh2a8Hdn9q+x8uW/NDm1LI+tqWuIQg03gVDQ46Jo\\\n",
              "Iv1RVwCLvy3HsYJShIUbUOdwAUL9RWJD+xdHjRP2qjoIBsBoDoe9qg7b9q/XhD7Z7UNn4JZrpgIC\\\n",
              "0PenycrOX1NUOGY8P8LjeJrahNJa+HlH7YUVQCIiCjrq0zXkfn11tS7EdjLhxqnpuHFqOkxRUtCr\\\n",
              "uGBHrd2J2E4m9MlMhrNO2sV7yzVTEWWK1dw3yhQrhT8AEIFv95ai1u4EADhrXV7X+rlXKLkukEId\\\n",
              "AyAREQVUU2GqT2YyBINUrZNDYfG35ZpmzS6nCEeNE99+VSpVCQFsO7AeVfYKzb2q7BWa3cHya+Wq\\\n",
              "onwcnPt4BozoppwCIlcnPU1RE4UKBkAiIgqopsLUmOn98duXRmp68h0rKG24QAAMYYIUCEXp++1H\\\n",
              "3sdH+Q3Tv+pKoLw72GAQGu4hSi1g1FVF9bnC7uN0rwgShRoGQCIiCqjmhCm5WhgdbwIAJPaIxY1T\\\n",
              "0+Fy1S9nF4Bj4n80rV5uHzoDq377bzw4ab7y2Ed71uK/rm248RfpCI8wAALQvX9nGM1hmvfbuu4I\\\n",
              "Xvrtdmxdd0RzKol6hzKngykUcRMIBT0uiibSN/WGELkKJxignOOr3hxyTPyP0gIGaNjwEdtJCoz/\\\n",
              "3P5Go1YwfQ2jlXOCw8OlMChXBNXHws1ZMxJA4w0hrblBhJ931F5YASQiooDzVUXzNPUqrwuUN4cA\\\n",
              "wPGzhzTh746sWcqGj4oLdphjjRib+QvcPnSGcs0LryxVzgSGKN3LWefShj/UB8N67hVLTgdTKGIA\\\n",
              "JCKiduMt6MkhT93bT+Zp6jW1bzyMZunEjr4/lcJg75SBmJj9AABg2bJl+OcXr8AU1XDewblTFXA5\\\n",
              "RdxyzVQlBN6aOQ29UwciPMKAcKNU/RNd0o5gwSBNMZuiwhEWYcDhXWeUaqQ8lsO7zmh2LBOFCk4B\\\n",
              "U9DjlAhRx+FtulRu5Cy64HUqVf1aQKrqyX0AzbFGnD9dgT6ZySip/i+qixJQV+eCQRCU9YHhEQal\\\n",
              "WigIwLHiQ+iTOhDGSGnjh1zFy994HPZqaUOJ+r3Uv5erj63dF5Cfd9ReWAEkIqJ24226dMCIbhgx\\\n",
              "Jd3nVKr6tfLvASmQnTtVAdEFnDryI1CcJAU9EXC5RKmFzLXJGH5XXwj1/+qJItC760CIgHL+r6NG\\\n",
              "6gdoNIcBorS+UP1e6t/3yUzmtC+FNFYAKejxJ2Ii8kaekq20OuByijCECYgwhcFRXQdRBAwGqQIo\\\n",
              "VwpTesej5Hi5cn240YBfr75JU12UN5uozyFu6v39udYf/Lyj9sIKIBERBSV/26s4apxSM2dIFT97\\\n",
              "VZ3S2DnCHKapFJYcL8e0vwxH7yFJEAxAr8GJALTrDPM3HleqgU1hQ2gKVQyAREQUdOQ1gd5O5lBf\\\n",
              "o96tm9g9VjNFO2xib0z7y3DNNO/hXWdQcrwcogsoOV4OoOHouZLj0gkj9qo6v0IddwBTqApv+hIi\\\n",
              "IqL2IU+pOmqcSp8/AEqVTT3Num/LCaV/HwBABGznqmE0hyG1b7zm5JABI7o1aicj7+Z980+fK1PD\\\n",
              "5lgjKi7aER5h8Bjq3Kd85S+iUMMKIBERBQ05pAHSDtsRU9IxbGJvj1U2ufp249R0pRWMs87ldUpW\\\n",
              "Xa2Tz/Y9VlCKigt25dfzpysAEYiMifAY7DjlSx0FK4BERBQ0vG3AcA9j7pU4uRoYFm5AZExEo7Do\\\n",
              "abOG/BrBAKl9zPFypRLoayeyfB+iUMYASEREQcPfKVV1JU6u5u3bckLpB1j8bblyTu++LSdQfakW\\\n",
              "dQ4X8jceV+7vHuZKjpc3mjoGoGn+LIdDTvtSqOMUMLXYbbfdhu7du8NsNqNr16649957UVxcrLnm\\\n",
              "4MGDuOGGG2A2m5GWloYVK1YEaLRE1JG4b76QQ+C5k1I/wG/3lirBreKCXWkArSZv/ACgbDjxNLUr\\\n",
              "30OeJub0L3UEDIDUYjfffDPef/99FBUV4R//+AeOHz+OyZMnK8/bbDaMGTMGPXr0QEFBAZ599ln8\\\n",
              "+c9/xquvvhrAURNRR+B+/Jq8I1hNfXZw35827Ap2p54K9jS1y+bP1BGxETS1mn/961+YOHEi7HY7\\\n",
              "IiIisGbNGjz66KMoKSmB0WgEACxatAgbN27E0aNH/b4vG6MSUVPkRs4QgPBwA8IiDBg2sbdmqtZb\\\n",
              "02b3x1u7uXNz8POO2gvXAFKruHDhAt555x1cf/31iIiIAADs3r0bI0aMUMIfAIwdOxbLly/HxYsX\\\n",
              "kZCQEKjhElEH48/pHfJUbv7G4z5bubivLyTqiDgFTJdl4cKFiI6ORufOnXHq1Cl89NFHynMlJSVI\\\n",
              "Tk7WXC9/X1JS4vWedrsdNptN80VE5IunKWH35tHu5wd7W8vH5s6kBwyApLFo0SIIguDzSz19+4c/\\\n",
              "/AGFhYXYunUrwsLCMG3aNFzuqoKlS5fCYrEoX2lpaZf7xyIiHVCHPrmKtyunSAmBckj01ldQ5h4m\\\n",
              "iToirgEkjXPnzuHHH3/0ec2VV16pmdaV/fDDD0hLS8MXX3yBrKwsTJs2DTabDRs3blSu+eyzzzBy\\\n",
              "5EhcuHDB6xSw3W6H3W5XvrfZbEhLS+OaGCLySV4HKIe7XTlFEF1SQ2l5t683gVz3p8Y1gNReuAaQ\\\n",
              "NBITE5GYmNii17pcUpsFObxlZWXh0UcfRW1trbIucNu2bUhPT/e5/s9kMsFkMrVoDEQUOIEOUZ7W\\\n",
              "AfrbtJnr/khvWAGkFtmzZw/27t2L7OxsJCQk4Pjx43j88cdRWlqKI0eOwGQywWq1Ij09HWPGjMHC\\\n",
              "hQtx+PBhPPjgg1i5ciVmzZrl93vxJ2Ki0KCuwDVVcQs2vsJrewZbft5Re2EFkFokKioK//znP7Fk\\\n",
              "yRJUVlaia9euGDduHB577DGlemexWLB161bMmTMHmZmZ6NKlC5544olmhT8iCh3tcUza4V1nkL/x\\\n",
              "OAA0avNyOXydQMLqIHVErABS0ONPxEQkU/r9wb+1fa2BFUDqiFgBJCKikDFkXE+lAthebVr8PZ+Y\\\n",
              "KJQwABIRUchgGCNqHewDSERERKQzDIBEREREOsMASERERKQzDIBEREREOsMASERERKQzDIBERERE\\\n",
              "OsMASERERKQzDIBEREREOsMASERERKQzDIBEREREOsMASERERKQzDIBEREREOsMASERERKQz4YEe\\\n",
              "AFFTRFEEANhstgCPhIiobcmfc/LnHlFbYQCkoFdRUQEASEtLC/BIiIjax48//giLxRLoYVAHJoj8\\\n",
              "MYOCnMvlQnFxMWJjYyEIQru/v81mQ1paGk6fPo24uLh2f//LFcrj59gDJ5THH8pjt1qt6N69Oy5e\\\n",
              "vIj4+PhAD4c6MFYAKegZDAZcccUVgR4G4uLiQu4fE7VQHj/HHjihPP5QHrvBwCX61Lb4XxgRERGR\\\n",
              "zjAAEhEREekMAyBRE0wmE5YsWQKTyRToobRIKI+fYw+cUB4/x07UNG4CISIiItIZVgCJiIiIdIYB\\\n",
              "kIiIiEhnGACJiIiIdIYBkIiIiEhnGACJvDhx4gSmT5+OXr16ITIyEr1798aSJUvgcDg01x08eBA3\\\n",
              "3HADzGYz0tLSsGLFigCNuLFnnnkG119/PaKioryeKnDq1ClMmDABUVFRSEpKwh/+8AfU1dW170A9\\\n",
              "ePHFF9GzZ0+YzWYMHToUX375ZaCH5NGuXbvw85//HKmpqRAEARs3btQ8L4oinnjiCXTt2hWRkZEY\\\n",
              "PXo0vv3228AM1s3SpUtx7bXXIjY2FklJSZg4cSKKioo019TU1GDOnDno3LkzYmJiMGnSJJSWlgZo\\\n",
              "xA3WrFmDQYMGKc2es7Ky8MknnyjPB+u4PVm2bBkEQcC8efOUx0Jp/BSaGACJvDh69ChcLhdeeeUV\\\n",
              "HDlyBCtXrsTLL7+MP/3pT8o1NpsNY8aMQY8ePVBQUIBnn30Wf/7zn/Hqq68GcOQNHA4H7rrrLsye\\\n",
              "Pdvj806nExMmTIDD4cAXX3yBv//973jjjTfwxBNPtPNItd577z0sWLAAS5Yswb59+zB48GCMHTsW\\\n",
              "ZWVlAR2XJ5WVlRg8eDBefPFFj8+vWLECq1evxssvv4w9e/YgOjoaY8eORU1NTTuPtLGdO3dizpw5\\\n",
              "yM/Px7Zt21BbW4sxY8agsrJSuWb+/Pn4+OOP8cEHH2Dnzp0oLi7GnXfeGcBRS6644gosW7YMBQUF\\\n",
              "+OqrrzBy5EjcfvvtOHLkCIDgHbe7vXv34pVXXsGgQYM0j4fK+CmEiUTktxUrVoi9evVSvn/ppZfE\\\n",
              "hIQE0W63K48tXLhQTE9PD8TwvHr99ddFi8XS6PHNmzeLBoNBLCkpUR5bs2aNGBcXp/kztbfrrrtO\\\n",
              "nDNnjvK90+kUU1NTxaVLlwZsTP4AIH744YfK9y6XS0xJSRGfffZZ5bHy8nLRZDKJ69evD8AIfSsr\\\n",
              "KxMBiDt37hRFURprRESE+MEHHyjXfPPNNyIAcffu3YEaplcJCQni2rVrQ2bcFRUVYt++fcVt27aJ\\\n",
              "N954ozh37lxRFEPv751CEyuARM1gtVrRqVMn5fvdu3djxIgRMBqNymNjx45FUVERLl68GIghNsvu\\\n",
              "3bsxcOBAJCcnK4+NHTsWNptNqaS0N4fDgYKCAowePVp5zGAwYPTo0di9e3dAxtRS33//PUpKSjR/\\\n",
              "FovFgqFDhwbln8VqtQKA8t94QUEBamtrNePv168funfvHlTjdzqdyMnJQWVlJbKyskJm3HPmzMGE\\\n",
              "CRM04wRC5++dQlt4oAdAFCqOHTuGv/71r3juueeUx0pKStCrVy/NdXKYKikpQUJCQruOsblKSko0\\\n",
              "4Q/Qjj8Qzp8/D6fT6XFcR48eDciYWkr+O/T0ZwnU3683LpcL8+bNw/DhwzFgwAAA0viNRmOj9aPB\\\n",
              "Mv5Dhw4hKysLNTU1iImJwYcffoirr74a+/fvD+pxA0BOTg727duHvXv3Nnou2P/eqWNgBZB0Z9Gi\\\n",
              "RRAEweeXe9A4c+YMxo0bh7vuugszZ84M0MglLRk/UVPmzJmDw4cPIycnJ9BD8Vt6ejr279+PPXv2\\\n",
              "YPbs2bjvvvvw9ddfB3pYTTp9+jTmzp2Ld955B2azOdDDIZ1iBZB055FHHsH999/v85orr7xS+X1x\\\n",
              "cTFuvvlmXH/99Y02d6SkpDTamSd/n5KS0joDdtPc8fuSkpLSaHdtW4+/KV26dEFYWJjHv9dAjaml\\\n",
              "5PGWlpaia9euyuOlpaW45pprAjSqxn73u9/h3//+N3bt2oUrrrhCeTwlJQUOhwPl5eWaalSw/P/C\\\n",
              "aDSiT58+AIDMzEzs3bsXq1atwj333BPU4y4oKEBZWRmGDBmiPOZ0OrFr1y787//+Lz799NOgHj91\\\n",
              "DAyApDuJiYlITEz069ozZ87g5ptvRmZmJl5//XUYDNqieVZWFh599FHU1tYiIiICALBt2zakp6e3\\\n",
              "2fRvc8bflKysLDzzzDMoKytDUlISAGn8cXFxuPrqq1vlPZrLaDQiMzMTubm5mDhxIgBpejI3Nxe/\\\n",
              "+93vAjKmlurVqxdSUlKQm5urBD6bzaZUrAJNFEU89NBD+PDDD7Fjx45GyxkyMzMRERGB3NxcTJo0\\\n",
              "CQBQVFSEU6dOISsrKxBD9snlcsFutwf9uEeNGoVDhw5pHnvggQfQr18/LFy4EGlpaUE9fuogAr0L\\\n",
              "hShY/fDDD2KfPn3EUaNGiT/88IN49uxZ5UtWXl4uJicni/fee694+PBhMScnR4yKihJfeeWVAI68\\\n",
              "wcmTJ8XCwkLxySefFGNiYsTCwkKxsLBQrKioEEVRFOvq6sQBAwaIY8aMEffv3y9u2bJFTExMFBcv\\\n",
              "XhzQcefk5Igmk0l84403xK+//lqcNWuWGB8fr9mtHCwqKiqUv1cA4vPPPy8WFhaKJ0+eFEVRFJct\\\n",
              "WybGx8eLH330kXjw4EHx9ttvF3v16iVWV1cHeOSiOHv2bNFisYg7duzQ/PddVVWlXPOb3/xG7N69\\\n",
              "u7h9+3bxq6++ErOyssSsrKwAjlqyaNEicefOneL3338vHjx4UFy0aJEoCIK4detWURSDd9zeqHcB\\\n",
              "i2LojZ9CDwMgkRevv/66CMDjl9qBAwfE7Oxs0WQyid26dROXLVsWoBE3dt9993kc/2effaZcc+LE\\\n",
              "CfHWW28VIyMjxS5duoiPPPKIWFtbG7hB1/vrX/8qdu/eXTQajeJ1110n5ufnB3pIHn322Wce/47v\\\n",
              "u+8+URSlVjCPP/64mJycLJpMJnHUqFFiUVFRYAddz9t/36+//rpyTXV1tfjb3/5WTEhIEKOiosQ7\\\n",
              "7rhD80NQoDz44INijx49RKPRKCYmJoqjRo1Swp8oBu+4vXEPgKE2fgo9giiKYjsWHImIiIgowLgL\\\n",
              "mIiIiEhnGACJiIiIdIYBkIiIiEhnGACJiIiIdIYBkIiIiEhnGACJiIiIdIYBkIiIiEhnGACJiIiI\\\n",
              "dIYBkIiIiEhnGACJiIiIdIYBkIiIiEhnGACJiIiIdIYBkIiIiEhnGACJiIiIdIYBkIiIiEhnGACJ\\\n",
              "iIiIdIYBkIiIiEhnGACJiIiIdIYBkIiIiEhnGACJiIiIdIYBkIiIiEhnGACJiIiIdIYBkIiIiEhn\\\n",
              "GACJiIiIdIYBkIiIiEhnGACJiIiIdIYBkIiIiEhnGACJiIiIdIYBkIiIiEhnGACJiIiIdIYBkIiI\\\n",
              "iEhn/j+T4Nec091cJAAAAABJRU5ErkJggg==\\\n",
              "\"\n",
              "  frames[1] = \"data:image/png;base64,iVBORw0KGgoAAAANSUhEUgAAAoAAAAHgCAYAAAA10dzkAAAAOnRFWHRTb2Z0d2FyZQBNYXRwbG90\\\n",
              "bGliIHZlcnNpb24zLjEwLjAsIGh0dHBzOi8vbWF0cGxvdGxpYi5vcmcvlHJYcgAAAAlwSFlzAAAP\\\n",
              "YQAAD2EBqD+naQAAOQpJREFUeJzt3Xl4lPW9///XJGQlzCSQjSUsoo0Lm6YgAaQiKdFaKy2odFGs\\\n",
              "LJUiPQr1CFWx/arFAx43jgUpVvRYRfQUrBUVCgI/NYAiUUBJlbJJmCBKZiCQyTL3749hbjIkbEoy\\\n",
              "y+f5uK65YO65Z/K+9XJ85f1ZbodlWZYAAABgjLhwFwAAAICWRQAEAAAwDAEQAADAMARAAAAAwxAA\\\n",
              "AQAADEMABAAAMAwBEAAAwDAEQAAAAMMQAAEAAAxDAAQAADAMARAAAMAwBEAAAADDEAABAAAMQwAE\\\n",
              "AAAwDAEQAADAMARAAAAAwxAAAQAADEMABAAAMAwBEAAAwDAEQAAAAMMQAAEAAAxDAAQAADAMARAA\\\n",
              "AMAwBEAAAADDEAABAAAMQwAEAAAwDAEQAADAMARAAAAAwxAAAQAADEMABAAAMAwBEAAAwDAEQAAA\\\n",
              "AMMQAAEAAAxDAAQAADAMARAAAMAwBEAAAADDEAABAAAMQwAEAAAwDAEQAADAMARAAAAAwxAAAQAA\\\n",
              "DEMABAAAMAwBEAAAwDAEQAAAAMMQAAEAAAxDAAQAADAMARAAAMAwBEAAAADDEAABAAAMQwAEAAAw\\\n",
              "DAEQAADAMARAAAAAwxAAAQAADEMABAAAMAwBEAAAwDAEQAAAAMO0CncBwLfh9/tVXl6uNm3ayOFw\\\n",
              "hLscADgly7J08OBBdejQQXFx9GEQHgRARLXy8nLl5eWFuwwAOGO7d+9Wp06dwl0GDEUARFRr06aN\\\n",
              "pMAXqdPpDHM1AHBqXq9XeXl59vcXEA4EQES14LCv0+kkAAKIKkxbQTgx+QAAAMAwBEAAAADDEAAB\\\n",
              "AAAMQwAEAAAwDAEQAADAMARAAAAAwxAAAQAADEMABAAAMAwBEAAAwDAEQAAAAMMQAAEAAAxDAAQA\\\n",
              "ADAMARAwwftPS4/2CPwJADAeARAwwTuPSp7dgT8BAMYjAAImGHSH5MoL/AkAMF6rcBcAoAX0HRN4\\\n",
              "AAAgOoAAAADGIQACAAAYhgAIxApW+gIAThMBEIgVrPQFAJwmAiAQK0610pcOIQDgKAIgECv6jpHu\\\n",
              "2Hzi1b6n0yEkJAKAEQiAgAnef1ryHZISUqWaQycOeAwjA4ARCICACVbcL1UfkGqPSEcOSCvvb7rT\\\n",
              "13AYmW4gAMQsNoIGYt37TwfCnyTJklIypFpfIAi+PiVwODhs3HDD6Ed7HOsGsok0AMQUOoBArDja\\\n",
              "sSv9630hz7Xi/tDzan1S3WGVuuslWdLSO5vu8nH7OACIWQ7LsqxwFwF8U16vVy6XSx6PR06nM9zl\\\n",
              "hNejPTRv5TbNK5UmPTBXo7+eFejghXBIkp4t9Wn2+hqNL0jU+ILEQNC7Y3OLlwyYiO8tRAI6gEA0\\\n",
              "azBPrzR7hOaVSkrL0ezZs/XstrZNvMGyw58kzdvoV+mhTLp8AGAYAiAQzRqs2u3z8z9o0gNzA8cr\\\n",
              "tmj24hI9W1oTcvqzpTV2+JOkSWN+rj4Pbwud48fiDwCIeQRAIJodN09v9OjRmtTzkFRfI1l+zV5f\\\n",
              "Y4fA0PDn0KSfDNToP/yl8WeyFQwAxDwCIBCt3n86ENIG3RHSwRvdK0GT+iXaz2evr9EVz1aFdv5+\\\n",
              "MkCju399rMvXsOvH4g9EmOfX7tTAh1bq+bU7w10KEDNYBIKoZvRk6uA2LSkZkqXA+o4r7pWW3SPV\\\n",
              "Hm403Bs0qV+iRvc5GhBTMqS7dhz7LBaDIAINfGil9lQeUcf0FL079Ypwl/OtGf29hYhBBxCIVsFO\\\n",
              "naXAPn9HDtjhT5JG90mUM8kR8hZnkuNY+JMC7wl2/VIyAncLYe4fIsyEy7urY3qKJlzePdylADGD\\\n",
              "AAhEq+C9f4feKyVnBG7zdjT8SYE5f15faIPf67MaLQzRyvsDn5WYFgiSzP1DBGg47PuL/l307tQr\\\n",
              "9Iv+XU563qk+B8AxBEAg2vUdEwiBtUfsQ8cP/zbsBDZcGCIptAvI3D9EiDmrtmlP5RHNWbXtW513\\\n",
              "up8DmIYACMSCdx5VYCy4ia1e+iVq5ejWjRaGhITAlfeHLihhKxiE2cmGfX/z4kZ1n/a6fvPixlMO\\\n",
              "DzN8DDSNRSCIakymPur9p6WV9+vZ9ZWavbZKsvySjlvwoYbh0CHFxWvSpSkafUnK0e6hdWwRCItC\\\n",
              "EMG6T3td9ZYU75C2zbg63OWcMb63EAnoAALRLNipk1RavESz1/tOGP4Ul6DRfRIDnUCHJH+dZq/3\\\n",
              "qfRAqiRLcsQfG/5lOBgR7OpeHRTvCPx5POb8AaeHDiCimvG/SR+3Fcy8kv2a9/4RTeqfotG94o+d\\\n",
              "12Nk4M/Nr0iSnv0kQbNLqjT+xus0/sffa3I/QSBSPL92p+as2qYJl3e3F4Icfyz4vMpXp8ojtRG9\\\n",
              "ZYzx31uICHQA0WzmzJmjXr16yel0yul0qrCwUG+88Yb9enV1tSZOnKh27dopLS1NI0aMUEVFRRgr\\\n",
              "jkLHbQUz/uJ4zf/R0fCXkBro6vUYKY18Wtq9LvAeR7xGX3+t5t/QQeMvSSD8IeIFF3Lcs2SzLrj3\\\n",
              "DTvsNVzcEXwuiTl/wGmgA4hm89prryk+Pl7nnXeeLMvSs88+q1mzZmnjxo266KKLNGHCBL3++uta\\\n",
              "sGCBXC6XbrvtNsXFxendd9897Z/Bb9JHvf+0tOJ+qd4XCIMJSYFNofuOkV4ZI21ZLLXvJR3YcWzT\\\n",
              "6CMHjv7FOrYhNBCBnl+7U/csOTYXNRjwHnz9E1XX+nVN78BQ8Osfl+vqXh30xE8vDlepp4XvLUQC\\\n",
              "AiBaVNu2bTVr1iyNHDlSWVlZeuGFFzRyZGB4cuvWrbrgggtUUlKi/v37n9bn8UV6Gv7QVrLqA93A\\\n",
              "JGdgr79WqVLrdlLVV1Ld4cA+gkPvpRuIiBPs9rVrnagPPtyo1u27q3VSK/22OF/3Ltms4P/AUhLi\\\n",
              "dKTWr/SUBC24Nlt9+vQJZ9knxfcWIgFDwGgR9fX1WrhwoaqqqlRYWKgNGzaotrZWRUVF9jnnn3++\\\n",
              "OnfurJKSkhN+js/nk9frDXkY7XS2a7nox4Hwd9GPAw0/KdAhvGOzVPxAYAg5GP48u9kIGhElOLS7\\\n",
              "5e2/qcOmZ6XPVqvySK3mrNomR4Mb3RypDSx+2vP+mxr0wxt0y9QZYaoYiA4EQDSrTZs2KS0tTUlJ\\\n",
              "Sbr11lu1ePFiXXjhhXK73UpMTFR6enrI+Tk5OXK73Sf8vBkzZsjlctmPvLy8Zr6CCHc6oW3k09IP\\\n",
              "ZgXmAHYfGgh8V9wbeC14N5G+Y1j5i4g04fLuSj+8R9an/5Qk1W9+Q/6yVdrrOSL/ceNXhzatkHfD\\\n",
              "a6qt92vR8wtUWlra8gUDUYIAiGaVn5+v0tJSrVu3ThMmTNDo0aP1ySeffOPPmzZtmjwej/3YvXv3\\\n",
              "Waw2Cp1uaAsGxd3rjgW+4zUMg0CE+EX/Lip9Yry+P3K0Pin3aq/niCrWLpH34xUh5x3atEIHP3zN\\\n",
              "ft6+cLgmvvk128EAJ0AARLNKTEzUueeeq4KCAs2YMUO9e/fW448/rtzcXNXU1KiysjLk/IqKCuXm\\\n",
              "5p7w85KSkuxVxcGH0YKhTTr5UDDdPUS5za0vVurFP7S7fgc/fE2HNgVC4PHhr80l16i2+2BuAQec\\\n",
              "BAEQLcrv98vn86mgoEAJCQlaseLYb/FlZWXatWuXCgsLw1hhlDrVUDDdPUS5gi4ZSus5VG0uucY+\\\n",
              "dvDD1+R+8XeNwl9az6FKSYhTvCPwPgCNtQp3AYhd06ZN01VXXaXOnTvr4MGDeuGFF7Rq1Sq99dZb\\\n",
              "crlcGjNmjCZPnqy2bdvK6XRq0qRJKiwsPO0VwGhg0B3HVvACMeb5tTv12kflkqS0nkMlyQ59Vs1h\\\n",
              "+7xg+JOOLQrZsPNAS5YKRA0CIJrNvn37dNNNN2nv3r1yuVzq1auX3nrrLX3/+9+XJD366KOKi4vT\\\n",
              "iBEj5PP5VFxcrD/96U9hrjpK9R1Ddw8xpeGdPuas2qaG6z3Seg7Voc0rQsKfIzHVDn9B6SkJbAgN\\\n",
              "nAD7ACKqsZ8WEJsGPrRSeyqP2Pf8/fvRDqDUeM5fUMMOoKSIvR0c31uIBMwBBABElOfX7lSVr04O\\\n",
              "SfVWYBi3V0eXpMbhz5GYav+94cIQifl/wMkQAAEAYff82p0a+NBKe+i38kitXCkJ9m3f/j5pkM7z\\\n",
              "bGi04CP3p39stDAkGALX/OvLFr8OIFoQAIFIdTp3+QBiRPCOH8F5fx3TU/Tb4ny9O/UK/aJ/F/3q\\\n",
              "3v9WyWt/tW9m03C4t6nVwYc2rZCvrj4MVwJEBwIgEKm4NRsMEgx9Ey7vrl/072LP3Rv40Eo9+NxS\\\n",
              "/e/TT6m23i9Ljef6SU2HQP+XO1rwCoDoQgAEIhWbN8MgwdD3i/5d7GPBruDS8mS1K/iBpKbDX1Ba\\\n",
              "z6FyXnKN0lMS1KnwGt17c+A9DYeXAQSwChhRjdV0QOxquBWMJN379Guy2nVrdJ5DkiUpIc6h+350\\\n",
              "kXokH9Dm6gzNWbVNBV0y9PrH5aq3ImdVMN9biATsAwgAiEi/6N/F7gg+v3an4jK7qd4K7O8nSZ4j\\\n",
              "tbIke49Av2UdPb+LJh7dRsbtOaJ6S4p3iD0BgQYYAgYARLyH3ypTvRXo9v22OF+l9w3T/cN7qGN6\\\n",
              "inp1dNn7BQYF5xRe3auDOqan6A/X9ggZXgZMRwcQiETvP33s1m7c4QOwuVIS9Iv+Xezh4YIuGdqw\\\n",
              "84D+cG0PSYFFI8GFJAQ+4MQIgEAkargCmAAIwwUXb6SnJOi3xfmSji0QCQ7xzlm1TZLsrWQIf8DJ\\\n",
              "MQQMRCJWAAO24MbQrZNa2d2/Kl+d0lMS7CHeCZd3D9lKBsDJ0QEEIlHfMXT+gKMmXN49ZDVwMBB2\\\n",
              "TE/REz+9OORcOn/A6SEAAgAi2vHz+Y4PhADOHPsAIqqxnxaAhvsFRkMHkO8tRALmAAIAotrDb5Vp\\\n",
              "T+URPfxWWbhLAaIGARAAAMAwBEAAQFT7bXG+Oqan2FvEADg15gAiqjGXBkC04XsLkYAOIAAAgGEI\\\n",
              "gAAAAIYhAAIAABiGAAgAAGAYAiDQDA4sXKjPrhiqAwsXntFrAAC0BAIg0Az2z/uz6srLtX/en8/o\\\n",
              "NQAAWgIBEGgGmePHqVWHDsocP+6MXgMAoCWwDyCiGvtpAYg2fG8hEtABBAAAMAwBEAAAwDAEQAAA\\\n",
              "AMMQAIFvgK1cAADRjAAIfANs5QIAiGYEQEAn7uid6HhTW7nQFQQARAu2gUFUO1vbKXx2xVDVlZer\\\n",
              "VYcOOm/lilMeP9VnZI4fp/3z/qzM8eOUMWrUN64LQOxhGxhEAjqAgJru6G0feZ3qysulVq0adfrK\\\n",
              "Lu2vskv7h3T7MsePU5zLJX9VlfY9+pjqysvlvv8BOoIAgIhDBxBRrbl+kz6wcKHcv/+D/bxhOHTf\\\n",
              "/4BUX28fb6pjKIcjcMCyTqt7CMAcdAARCegAAkcF5/DtmfJbue9/QJ9WV9uvBbt5+x59LBD+HA7F\\\n",
              "uVxKvfhivdq3n93lyxw/ToqPlyxLcU4nt3wDAEQkAiCM1NSCjeDKXu/rr2vRV19peoVbSzyeY2+q\\\n",
              "r5f/8GFJUqv27RXXurX+d/Fi3b1pk/7n97+XJGWMGqXce+9Rqw4dlDZoUEteEgAAp40ACCM1tY1L\\\n",
              "5vhxksOhT6ur9bKnUoqL118PHAgNgbW1kgIdwVc+/VTP7y2XHNIrlZUqLS0N+RmH3nmHrWIAABGJ\\\n",
              "AAgjNbXoI2PUKMU5nbogOVm/aN9B8W3SJKlxCJS0xOPRXw8ckCxJljTKEacuW7cG5g7e/0BgHqDE\\\n",
              "EDAAICKxCARR7WxNpj6wcKH2z/uzUi++WIfeeUf+qiot+eqrQMg76ucZGRruch0Lf8cdlyRHcrKs\\\n",
              "6urAHEGnU9l33M42MABCsAgEkYAAiKjWHPsASrI7eMeHvbT4OB2q99vPG4Y/W3y8HImJso4cYQUw\\\n",
              "gEYIgIgEDAGj2cyYMUN9+/ZVmzZtlJ2dreHDh6usrCzknOrqak2cOFHt2rVTWlqaRowYoYqKihav\\\n",
              "NTgknHrxxarbt88+Ptzl0s8zMuznpwx/klRfL0diIsO/AICIRQBEs1m9erUmTpyotWvXavny5aqt\\\n",
              "rdWwYcNUVVVln3PHHXfotdde08svv6zVq1ervLxcP/nJT1q81oxRo3TeyhU6vHGjVFcX8tpwl0tp\\\n",
              "8aH/qaTFxzUd/hSY95d9x+06b+UKZYwaxS3iAAARhyFgtJgvv/xS2dnZWr16tQYPHiyPx6OsrCy9\\\n",
              "8MILGjlypCRp69atuuCCC1RSUqL+/fuf8jPP5lDKgYULte/Rx+SvqpLq6xXndMrv8TQaBg6yO4AO\\\n",
              "R2Dvv7o6OZKTdX7pxpDzzuR2cgBiH0PAiAR0ANFiPEdX0rZt21aStGHDBtXW1qqoqMg+5/zzz1fn\\\n",
              "zp1VUlLS5Gf4fD55vd6Qx9myf96f5fd41Co7W7n3TW8y/DXsBNqrgy3LDoFthg5t9LlNrTgGACCc\\\n",
              "CIBoEX6/X7fffrsGDhyoHj16SJLcbrcSExOVnp4ecm5OTo7cbneTnzNjxgy5XC77kZeXd9ZqbBjU\\\n",
              "3A882ORq32fyOofMCbRDYG2tVF8v75tvNhrqDQ4vsxoYABApCIBoERMnTtTmzZu18FvOg5s2bZo8\\\n",
              "Ho/92L1791mq8FhQk3TCLWCk0IUhjpQU/bWywT6B9fVs/AwAiHgEQDS72267Tf/4xz/09ttvq1On\\\n",
              "Tvbx3Nxc1dTUqLKyMuT8iooK5ebmNvlZSUlJcjqdIY+zbc1/P9Jk+Ltg66f2NjHBEGj5qgN3DPF6\\\n",
              "tbtvX4Z6AQBRgQCIZmNZlm677TYtXrxYK1euVLdu3UJeLygoUEJCglasOLYwoqysTLt27VJhYWFL\\\n",
              "l2sbPGWybujaRfHpLv08M1PDXS4lHx22Dg4TO1JSAiHQlS7V1+uGvE4a9r/PMdQLAIgKrAJGs/n1\\\n",
              "r3+tF154Qa+++qry8/Pt4y6XSykpKZKkCRMmaOnSpVqwYIGcTqcmTZokSXrvvfdO62ec7TuBZI4f\\\n",
              "Zwe40tJStZ48pckVvMFbvqm+Xp/W1mjIgw8S/ACcFlYBIxLQAUSzmTNnjjwejy6//HK1b9/efrz0\\\n",
              "0kv2OY8++qh++MMfasSIERo8eLByc3P1t7/9rcVr3T/vz6orLw+Zv9enTx9ljh+nOJdL/qqqRos7\\\n",
              "4tLSFOdyhYQ/9vwDAEQDOoCIas3ZAQxqah+/E+3tx55/AE6FDiAiAR1AQCffqqWpffyOPxbs/KVe\\\n",
              "fDELQQAAEY8OIKJapPwmTecPwOmKlO8tmI0OIHAWcLcPAEA0oQOIqMZv0gCiDd9biAR0AAEAAAxD\\\n",
              "AAQAADAMARAAAMAwBEAAAADDEAABAAAMQwAEAAAwDAEQAADAMARAAAAAwxAAAQAADEMABAAAMAwB\\\n",
              "EAAAwDAEQAAAAMMQAAEAAAxDAAQAADAMARAAAMAwBEAAAADDEAABAAAMQwAEAAAwDAEQAADAMARA\\\n",
              "AAAAwxAAAQAADEMABAAAMAwBEAAAwDAEQCCCLSpbpGGvDNOiskXhLgUAEEMIgEAEm79pvvZW7dX8\\\n",
              "TfPDXQoAIIYQAIEINrbnWLVv3V5je44NdykAgBjisCzLCncRwDfl9Xrlcrnk8XjkdDrDXQ4AnBLf\\\n",
              "W4gEdAABAAAMQwAEAAAwDAEQAADAMARAAAAAwxAAAQAADEMABAAAMAwBEAAAwDAEQAAAAMMQAAEA\\\n",
              "AAxDAAQAADAMARDNZs2aNbrmmmvUoUMHORwOLVmyJOR1y7I0ffp0tW/fXikpKSoqKtJnn30WnmIB\\\n",
              "ADAIARDNpqqqSr1799aTTz7Z5OszZ87UE088oblz52rdunVq3bq1iouLVV1d3cKVAgBgllbhLgCx\\\n",
              "66qrrtJVV13V5GuWZemxxx7TPffco2uvvVaS9NxzzyknJ0dLlizRqFGjWrJUAACMQgcQYbF9+3a5\\\n",
              "3W4VFRXZx1wuly699FKVlJSc8H0+n09erzfkAQAAzgwBEGHhdrslSTk5OSHHc3Jy7NeaMmPGDLlc\\\n",
              "LvuRl5fXrHUCABCLCICIKtOmTZPH47Efu3fvDndJAABEHQIgwiI3N1eSVFFREXK8oqLCfq0pSUlJ\\\n",
              "cjqdIQ8AAHBmCIAIi27duik3N1crVqywj3m9Xq1bt06FhYVhrAwAgNjHKmA0m0OHDunzzz+3n2/f\\\n",
              "vl2lpaVq27atOnfurNtvv10PPPCAzjvvPHXr1k333nuvOnTooOHDh4evaAA4gY+WL9X6Ja+o3/CR\\\n",
              "6v39H4S7HOBbIQCi2XzwwQcaMmSI/Xzy5MmSpNGjR2vBggX6z//8T1VVVWn8+PGqrKzUoEGD9Oab\\\n",
              "byo5OTlcJQPACa1f8oq8+/dp/ZJXCICIeg7LsqxwFwF8U16vVy6XSx6Ph/mAZ2hR2SLN3zRfY3uO\\\n",
              "1fX514e7HCDina0OIN9biAQEQEQ1vkhP7FQBb9grw7S3aq/at26vZSOXhaFCwEx8byESsAgEiFHz\\\n",
              "N83X3qq9euLDJzTwxYEa9OIgLSpbZL8+tudYtW/dXmN7jg1536KyRRr2yrCQc4FY8dHypfrzxFv0\\\n",
              "0fKlzXI+EC0IgECMujj7Yvl2+eSr98lb45WnxqP5m+Y3eW5paan992BwPNG5QDRrOI/veE2FvZOd\\\n",
              "D0QzFoEAMeq1v76m3ct2y/d9n5wDnUqIS1Db5Lbq+WxPSVJyfLKq66t1z2P3yL3MrVGjR2ne9Hka\\\n",
              "23OsPXQMxJp+w0fa8/ik0Hl9wbD3z6fnaNVzT6tVYoK69r7Efh8QS5gDiKjGXJrGFpUt0qN/f1Tb\\\n",
              "n96uw7WHVeevU9uitsoYlNHo3Oq11Sp/q1x+y694R7ze+ds76tOnT8sXDbSw0tJS9enTR3+eeIu8\\\n",
              "+/fJmZmtfsNHasVf5sry++3zPIrX/3vp1bP6s/neQiSgAwjEmPmb5utQ9iElXJagun/WyZKlr/75\\\n",
              "lSSFhMAD7xyQd6VXDjkkSe2L2xP+YIR58+Zp3rx5mjRpUkhHMLiy952Fz6muplbr/71T/1/Zv3Vg\\\n",
              "1Aj1aueyu4DsBYhYQAcQUY3fpBtbVLZID6x9QJYsHXjngB3+JKldUTtlDMqwjzvkkCVLucNy9V+T\\\n",
              "/4vtYBDTPlq+VP83/ym9WLJBtdXVSkhOVv8unfTdbh0lSa0SEuTKzlXFvz/X+zu+0Luf7bDfe913\\\n",
              "e6p7p05KTEmRd/8+OeLiNPSWW79RCOR7C5GARSBAjAiu3pUkZ2LgfyoZgzLUrqidfc5X//xK2/9r\\\n",
              "ux0KLVlqV9ROaQPStKFiQ8sXDbSg9UtekUv1+m6HLNXX1an60CGt2rJVJWXbVOfzqfrQoSbD38Dz\\\n",
              "uqpjhktyWOo3fKQccXGy/H4WhiCqEQCBGNFw9e5vLvmN2rduL4ccjUJg/ZF6++/BjqAkLd2+VHet\\\n",
              "uavF6wZaSof88+WIi9PVQ76nQd/pZh9/97Mden/HF5LUZPi7tHtXyeFQ196XqPf3f6Cht9xqzxkE\\\n",
              "ohVzAIEY0XD1bnAo94G1D0gKdAIr360MCX/xKfGNFoYs3b5UBTkFDAUjJpWXbZXl98uzz63+3zlH\\\n",
              "lmXZYe/dz3bogx1fyFdbZ58/8Lyu6tu1k/z1dfb7Jan393/A/D9EPTqAQJRrOPS7bOQyXZ9/ve5a\\\n",
              "c5fuX3u/LAWm+B5450BI+JMCncAD7xxo9HnzN81nM2jEpH7DR8qZmS1ZDtX5fOrbtZMGntfVfr2p\\\n",
              "8BfUKilJNUeO2HsEskE0oh2LQBDVTJ9MvahskR5c96D8lt++q8f8TfPlrnKHhL+GC0HiU+JPOAws\\\n",
              "BfYHTIpPkqfGw23iEJM+Wr5U/5z/J/v5nFVrQ8JfUkIrTbi8f9NvdjhUNGaC3nnxf1VddVDJrdto\\\n",
              "4l9ePKOfb/r3FiIDHUAgis3fNF9+y684R5wd/vZW7T1h+GtX1E7d7urWaGFIw05gdX21PDUeuRJd\\\n",
              "bAaNmNRw+Pb944Z9pUAnMDgnsBHLCiz+cBztnTjooSA6MQcQiGJNzfsLdgRPtAWMdGw/wODrTe0T\\\n",
              "6Kv32beDY04gYkHwrh8d8s+X1HjBR1JCKzsMBo83HAaWJDkcjfYDBKIRQ8CIagylNLaobJHuWXSP\\\n",
              "dv9lt30ssyhT6YPSQ85zyCHPux7t/+d+WZYlS5Y639JZiZ0TQ85jGBixInjXD0dcnNb/e1ej1b59\\\n",
              "u3ZqchVw3255Sk5NkxyWBo266VsvAOF7C5GAIWAgxlyff70euP4BZV6eKSnQ+Ts+/F3U7iK1SWwj\\\n",
              "50Cn2g5tqzhHnNpe3laJnROVHJ+sOEfgqyE4tAzEguAikC/iU/Tetl328YYLPhouDHHExWnt9i90\\\n",
              "OO88DfrpjUpMTg1H2UCzYAgYiFFth7RVUrckpXRJ0UXtLtIXB7+Qt8YrS5a+rv7avgVc+qB0tTun\\\n",
              "nfwd/PbcwbSENDnk0G8u+Q3Dv4gZvb//A1lZHfTU2LHK7nqO9u34twZ079xomDf4fNOBKqU4XXr1\\\n",
              "7TWq3bVNLtVr/ZJX2AIGMYEACMSQRWWLNH/TfB2uPSy/5Vfrrq1196V32yEu+Hqwq/fEh0/IkqX/\\\n",
              "+Ml/SAosKqmqrZK3xqv2rdsT/hBz+vTpo/Hjx+vxh2fpsvxzdEmn3MYnORy68ec/0yuvvqb1u936\\\n",
              "j9/eqUu7dWLOH2IKcwAR1ZhLE2rYK8O0t2qvnIlOtU5oHbI45HQ1DIkEQMSij5Yv1XP//V/q4GoT\\\n",
              "crxVYpLkkOpqatQqMVF1Pp88itf/e+nVs/rz+d5CJKADCMSQsT3H6vEPH5dDjm8c4K7Pv57gh5j2\\\n",
              "zsLnjoU/h0OyrMCfDqnO55MUCIHOzGwV0fFDjGIRCBBDrs+/Xq0TWstT47G3cAFwHCsw/zW5dRsV\\\n",
              "jZkgZ2a23fELOn/AZRr35F+Y74eYRQAEYszYnmPtu4J8U9wKDrFs0E9vlDMzW137XGzP62vV6uj2\\\n",
              "Rw6Hisb+Wlf/5j/DWyTQzJgDiKjGXJrmEZxLyB6AiGXBfQGdmdnqN3ykHQabu+vH9xYiAR1AAI2c\\\n",
              "jS4iEOmC+wIGQx9DvjAJHUBENX6TBhBt+N5CJKADCAAAYBgCIAAAgGEIgAAAAIYhAAIAABiGAAgA\\\n",
              "AGAYAiAAAIBhCIAAAACGIQACAAAYhgAIAABgGAIgAACAYQiAAAAAhiEAAgAAGIYACAAAYBgCIAAA\\\n",
              "gGEIgAAAAIYhAAIAABiGAIiwe/LJJ9W1a1clJyfr0ksv1fr168NdEgAAMY0AiLB66aWXNHnyZN13\\\n",
              "33368MMP1bt3bxUXF2vfvn3hLg0AgJhFAERYPfLIIxo3bpx++ctf6sILL9TcuXOVmpqqv/zlL+Eu\\\n",
              "DQCAmEUARNjU1NRow4YNKioqso/FxcWpqKhIJSUlYawMAIDY1ircBcBc+/fvV319vXJyckKO5+Tk\\\n",
              "aOvWrU2+x+fzyefz2c+9Xm+z1ggAQCyiA4ioMmPGDLlcLvuRl5cX7pIAAIg6BECETWZmpuLj41VR\\\n",
              "URFyvKKiQrm5uU2+Z9q0afJ4PPZj9+7dLVEqAAAxhQCIsElMTFRBQYFWrFhhH/P7/VqxYoUKCwub\\\n",
              "fE9SUpKcTmfIAwAAnBnmACKsJk+erNGjR+u73/2u+vXrp8cee0xVVVX65S9/Ge7SAACIWQRAhNUN\\\n",
              "N9ygL7/8UtOnT5fb7VafPn305ptvNloYAgAAzh6HZVlWuIsAvimv1yuXyyWPx8NwMICowPcWIgFz\\\n",
              "AAEAAAxDAAQAADAMARAAAMAwBEAAAADDEAABAAAMQwAEAAAwDAEQAADAMARAAAAAwxAAAQAADEMA\\\n",
              "BAAAMAwBEAAAwDAEQAAAAMMQAAEAAAxDAAQAADAMARAAAMAwBEAAAADDEAABAAAMQwAEAAAwDAEQ\\\n",
              "AADAMARAAAAAwxAAAQAADEMABAAAMAwBEAAAwDAEQAAAAMMQAAEAAAxDAAQAADAMARAAAMAwBEAA\\\n",
              "AADDEAABAAAMQwAEAAAwDAEQAADAMARAAAAAwxAAAQAADEMABAAAMAwBEAAAwDAEQAAAAMMQAAEA\\\n",
              "AAxDAAQAADAMARAAAMAwBEAAAADDEAABAAAMQwBEs3nwwQc1YMAApaamKj09vclzdu3apauvvlqp\\\n",
              "qanKzs7WnXfeqbq6upYtFAAAw7QKdwGIXTU1NbruuutUWFiop59+utHr9fX1uvrqq5Wbm6v33ntP\\\n",
              "e/fu1U033aSEhAT98Y9/DEPFAACYwWFZlhXuIhDbFixYoNtvv12VlZUhx9944w398Ic/VHl5uXJy\\\n",
              "ciRJc+fO1V133aUvv/xSiYmJp/xsr9crl8slj8cjp9PZHOUDwFnF9xYiAUPACJuSkhL17NnTDn+S\\\n",
              "VFxcLK/Xqy1btoSxMgAAYhtDwAgbt9sdEv4k2c/dbneT7/H5fPL5fPZzr9fbfAUCABCj6ADijEyd\\\n",
              "OlUOh+Okj61btzbbz58xY4ZcLpf9yMvLa7afBQBArKIDiDMyZcoU3XzzzSc955xzzjmtz8rNzdX6\\\n",
              "9etDjlVUVNivNWXatGmaPHmy/dzr9RICAQA4QwRAnJGsrCxlZWWdlc8qLCzUgw8+qH379ik7O1uS\\\n",
              "tHz5cjmdTl144YVNvicpKUlJSUln5ecDAGAqAiCaza5du/T1119r165dqq+vV2lpqSTp3HPPVVpa\\\n",
              "moYNG6YLL7xQN954o2bOnCm326177rlHEydOJOQBANCM2AYGzebmm2/Ws88+2+j422+/rcsvv1yS\\\n",
              "tHPnTk2YMEGrVq1S69atNXr0aD300ENq1er0fjdhOwUA0YbvLUQCAiCiGl+kAKIN31uIBKwCBgAA\\\n",
              "MAwBEAAAwDAEQAAAAMMQAAEAAAxDAAQAADAMARAAAMAwBEAAAADDEAABAAAMQwAEAAAwDAEQAADA\\\n",
              "MARAAAAAwxAAAQAADEMABAAAMAwBEAAAwDAEQAAAAMMQAAEAAAxDAAQAADAMARAAAMAwBEAAAADD\\\n",
              "EAABAAAMQwAEAAAwDAEQAADAMARAAAAAwxAAAQAADEMABAAAMAwBEAAAwDAEQAAAAMMQAAEAAAxD\\\n",
              "AAQAADAMARAAAMAwBEAAAADDEAABAAAMQwAEAAAwDAEQAADAMARAAAAAwxAAAQAADEMABAAAMAwB\\\n",
              "EAAAwDAEQAAAAMMQAAEAAAxDAAQAADAMARAAAMAwBEA0ix07dmjMmDHq1q2bUlJS1L17d913332q\\\n",
              "qakJOe/jjz/WZZddpuTkZOXl5WnmzJlhqhgAAHO0CncBiE1bt26V3+/XU089pXPPPVebN2/WuHHj\\\n",
              "VFVVpYcffliS5PV6NWzYMBUVFWnu3LnatGmTbrnlFqWnp2v8+PFhvgIAAGKXw7IsK9xFwAyzZs3S\\\n",
              "nDlz9O9//1uSNGfOHN19991yu91KTEyUJE2dOlVLlizR1q1bT+szvV6vXC6XPB6PnE5ns9UOAGcL\\\n",
              "31uIBAwBo8V4PB61bdvWfl5SUqLBgwfb4U+SiouLVVZWpgMHDjT5GT6fT16vN+QBAADODAEQLeLz\\\n",
              "zz/X7Nmz9atf/co+5na7lZOTE3Je8Lnb7W7yc2bMmCGXy2U/8vLymq9oAABiFAEQZ2Tq1KlyOBwn\\\n",
              "fRw/fLtnzx5deeWVuu666zRu3Lhv9fOnTZsmj8djP3bv3v2tPg8AABOxCARnZMqUKbr55ptPes45\\\n",
              "55xj/728vFxDhgzRgAEDNG/evJDzcnNzVVFREXIs+Dw3N7fJz05KSlJSUtI3qBwAAAQRAHFGsrKy\\\n",
              "lJWVdVrn7tmzR0OGDFFBQYGeeeYZxcWFNpwLCwt19913q7a2VgkJCZKk5cuXKz8/XxkZGWe9dgAA\\\n",
              "EMAQMJrFnj17dPnll6tz5856+OGH9eWXX8rtdofM7fvZz36mxMREjRkzRlu2bNFLL72kxx9/XJMn\\\n",
              "Tw5j5QAAxD46gGgWy5cv1+eff67PP/9cnTp1CnktuPOQy+XSsmXLNHHiRBUUFCgzM1PTp09nD0AA\\\n",
              "AJoZ+wAiqrGfFoBow/cWIgFDwAAAAIYhAAIAABiGAAgAAGAYAiAAAIBhCIAAAACGIQACAAAYhgAI\\\n",
              "AABgGAIgAACAYQiAAAAAhiEAAgBw1OY1e/Tc797V5jV7wl0K0KwIgAAAHPXhmzt08GufPnxzR7hL\\\n",
              "AZoVARAAAAW6fzXV9UpKbaVLruza6DU6g4glBEAAABTo/vkO1ykxOV6SQgIfnUHEGgIgAMA4TXX0\\\n",
              "Lrmyq9q0TdIlV3bV2iXbdPBrn9Yu2dbotRO9H4gmrcJdAAAALS3Y0Vv9YpnWLtmm/sO7q8fgjuox\\\n",
              "uKMk2cEvqOFrDd//4Zs7Qo4D0YIOIAAgpp2o2yeHJEvyHa5rNLTb+aJ2kkOqr/Vr2dNbmnx/Umor\\\n",
              "1VTX0wVEVCIAAgBiWlPz93oM7qiklFb6Yv/nkkNKbpOoP/16pZY9vUWStGvLV5Il1dX69fmGCn36\\\n",
              "ry2N3p+YHN9keASiAQEQABDTjp+/F7Q7rkQL331En+xfrS93HpTllz57v0Kb1+xRra/ePm979Vot\\\n",
              "fPcRbat5J6SbeKLPBaKBw7IsK9xFAN+U1+uVy+WSx+OR0+kMdzkAosDmNXu0+Nnl+t8Vs+Q7UifL\\\n",
              "L32vx3D1zy+WJLVKiFNdrV+StPZfb+lT7wpJ0pFDtfpRr4nq1PZctWmbpJv+OPAb/Xy+txAJ6AAC\\\n",
              "AIzy4Zs71Dahsy7t9kNZgZyn1ZuXaG3ZW5J0LPyVvaX3/vV3fbnroPbtPKjvdrhKndqeK0ec6Poh\\\n",
              "6hEAAQBGueTKrnLESf3zi/W9HsPt4w1D4Nqyt7R68xLV+vyyrECHsN93hqlN2yQNHpXPyl9EPbaB\\\n",
              "AQAYYfOaPfb2LucW5Mi9rVLXDBspOaTVm5ZICoTA9f9apiM1h+33BYeHs7q00fXT+oajdOCsowMI\\\n",
              "ADBC8E4fvsN1+nxDhXK7p+vLXQfV/zuhncCmwp8kpWensvkzYgYBEABghODefXIosOL3gwrp6DLI\\\n",
              "/vnFSklMDTk/JTHVDn9SYIVw8O4gBEFEOwIgAMAIPQZ31NhHBut7P81Xm7ZJinM47NfWlr0V0vmT\\\n",
              "Ap3A4JzAhmqr6+27iBACEa0IgACAmNVw377g3yUFtnA5mv+CCz6CGnYCGy4MCfIHd0+zxCbQiFoE\\\n",
              "QABAzGp4F5Dj7wji91uNwt/3egzXb6757xOuDpak876bo6TUVkpKbcV2MIharAIGAMSsS67sqg/f\\\n",
              "3KFLruyq8s8qdaiyQsltEvXc797VJ/tXa82WJUpIilOtzx+y4CP4ZzAcBv+8ZthIDRtzkaRAdzEY\\\n",
              "JtkWBtGGDiAAIGb1GNxRN/1xoHoM7ij3tkpZfmn/7oP69F9btPSdl5TVuY389VZI+Avqn1+sIb1+\\\n",
              "bD9/Z+uriss+YA8pN3WPYSBaEAABAEYI3rv33IIcXfCdi3TTz38pSRr7y1s14IIrG7/BIV3W+wf6\\\n",
              "Xo/hcjikm37+Sx3e1toOfdwLGNGMewEjqnFPTQDfRmlpqfr06aP5k9fId7hOkhQX55DfbykptZX6\\\n",
              "D++uD9/codTuVRo5Zpjd+bvkyq7feNiX7y1EAuYAAgCM1adPn9ADDql7Qbbc2yrtkNcw6B3/HIhW\\\n",
              "BEAAgJEadvP6D++uNQvLZPkl97bKwDYxJzmfEIhoxxxAAICRGi7i6DG4owaPyj/pnD4WfSCW0AEE\\\n",
              "ABip4RYx0qmHd48/H4hmLAJBVGMyNYBow/cWIgFDwAAAAIYhAAIAIl7De/oC+PYIgACAiMcCDODs\\\n",
              "IgACACIed90Azi5WAQMAIh4bMANnFx1ANJsf/ehH6ty5s5KTk9W+fXvdeOONKi8vDznn448/1mWX\\\n",
              "Xabk5GTl5eVp5syZYaoWAABzEADRbIYMGaJFixaprKxM//d//6dt27Zp5MiR9uter1fDhg1Tly5d\\\n",
              "tGHDBs2aNUu///3vNW/evDBWDQBA7GMfQLSYv//97xo+fLh8Pp8SEhI0Z84c3X333XK73UpMTJQk\\\n",
              "TZ06VUuWLNHWrVtP6zPZTwtAtOF7C5GADiBaxNdff62//vWvGjBggBISEiRJJSUlGjx4sB3+JKm4\\\n",
              "uFhlZWU6cOBAk5/j8/nk9XpDHgAA4MwQANGs7rrrLrVu3Vrt2rXTrl279Oqrr9qvud1u5eTkhJwf\\\n",
              "fO52u5v8vBkzZsjlctmPvLy85iseAIAYRQDEGZk6daocDsdJHw2Hb++8805t3LhRy5YtU3x8vG66\\\n",
              "6SZ9m1kH06ZNk8fjsR+7d+8+G5cFAIBR2AYGZ2TKlCm6+eabT3rOOeecY/89MzNTmZmZ+s53vqML\\\n",
              "LrhAeXl5Wrt2rQoLC5Wbm6uKioqQ9waf5+bmNvnZSUlJSkpK+nYXAQCA4QiAOCNZWVnKysr6Ru/1\\\n",
              "+/2SAvP4JKmwsFB33323amtr7XmBy5cvV35+vjIyMs5OwQAAoBGGgNEs1q1bp//5n/9RaWmpdu7c\\\n",
              "qZUrV+qnP/2punfvrsLCQknSz372MyUmJmrMmDHasmWLXnrpJT3++OOaPHlymKsHACC2EQDRLFJT\\\n",
              "U/W3v/1NQ4cOVX5+vsaMGaNevXpp9erV9hCuy+XSsmXLtH37dhUUFGjKlCmaPn26xo8fH+bqAQCI\\\n",
              "bewDiKjGfloAog3fW4gEdAABAAAMQwAEAAAwDKuAEdWCMxi4IwiAaBH8vmIGFsKJAIiodvDgQUni\\\n",
              "jiAAos7BgwflcrnCXQYMxSIQRDW/36/y8nK1adNGDofjlOd7vV7l5eVp9+7dMTH5muuJbLF2PVLs\\\n",
              "XVM4rseyLB08eFAdOnRQXBwzsRAedAAR1eLi4tSpU6czfp/T6YyJ/3kFcT2RLdauR4q9a2rp66Hz\\\n",
              "h3DjVw8AAADDEAABAAAMQwCEUZKSknTffffZdyOJdlxPZIu165Fi75pi7XqA08UiEAAAAMPQAQQA\\\n",
              "ADAMARAAAMAwBEAAAADDEAABAAAMQwCEEXbs2KExY8aoW7duSklJUffu3XXfffeppqYm5LyPP/5Y\\\n",
              "l112mZKTk5WXl6eZM2eGqeJTe/DBBzVgwAClpqYqPT29yXN27dqlq6++WqmpqcrOztadd96purq6\\\n",
              "li30DDz55JPq2rWrkpOTdemll2r9+vXhLum0rFmzRtdcc406dOggh8OhJUuWhLxuWZamT5+u9u3b\\\n",
              "KyUlRUVFRfrss8/CU+xpmDFjhvr27as2bdooOztbw4cPV1lZWcg51dXVmjhxotq1a6e0tDSNGDFC\\\n",
              "FRUVYar45ObMmaNevXrZmz0XFhbqjTfesF+PpmsBzhYCIIywdetW+f1+PfXUU9qyZYseffRRzZ07\\\n",
              "V7/73e/sc7xer4YNG6YuXbpow4YNmjVrln7/+99r3rx5Yaz8xGpqanTddddpwoQJTb5eX1+vq6++\\\n",
              "WjU1NXrvvff07LPPasGCBZo+fXoLV3p6XnrpJU2ePFn33XefPvzwQ/Xu3VvFxcXat29fuEs7paqq\\\n",
              "KvXu3VtPPvlkk6/PnDlTTzzxhObOnat169apdevWKi4uVnV1dQtXenpWr16tiRMnau3atVq+fLlq\\\n",
              "a2s1bNgwVVVV2efccccdeu211/Tyyy9r9erVKi8v109+8pMwVn1inTp10kMPPaQNGzbogw8+0BVX\\\n",
              "XKFrr71WW7ZskRRd1wKcNRZgqJkzZ1rdunWzn//pT3+yMjIyLJ/PZx+76667rPz8/HCUd9qeeeYZ\\\n",
              "y+VyNTq+dOlSKy4uznK73faxOXPmWE6nM+QaI0W/fv2siRMn2s/r6+utDh06WDNmzAhjVWdOkrV4\\\n",
              "8WL7ud/vt3Jzc61Zs2bZxyorK62kpCTrxRdfDEOFZ27fvn2WJGv16tWWZQXqT0hIsF5++WX7nE8/\\\n",
              "/dSSZJWUlISrzDOSkZFhzZ8/PyauBfgm6ADCWB6PR23btrWfl5SUaPDgwUpMTLSPFRcXq6ysTAcO\\\n",
              "HAhHid9KSUmJevbsqZycHPtYcXGxvF6v3fmIFDU1NdqwYYOKiorsY3FxcSoqKlJJSUkYK/v2tm/f\\\n",
              "LrfbHXJtLpdLl156adRcm8fjkST7v5cNGzaotrY25JrOP/98de7cOeKvqb6+XgsXLlRVVZUKCwuj\\\n",
              "+lqAb4MACCN9/vnnmj17tn71q1/Zx9xud0hYkmQ/d7vdLVrf2RBN17N//37V19c3WW+k1XqmgvVH\\\n",
              "67X5/X7dfvvtGjhwoHr06CEpcE2JiYmN5p5G8jVt2rRJaWlpSkpK0q233qrFixfrwgsvjMprAc4G\\\n",
              "AiCi2tSpU+VwOE762Lp1a8h79uzZoyuvvFLXXXedxo0bF6bKm/ZNrgdoThMnTtTmzZu1cOHCcJfy\\\n",
              "reTn56u0tFTr1q3ThAkTNHr0aH3yySfhLgsIm1bhLgD4NqZMmaKbb775pOecc8459t/Ly8s1ZMgQ\\\n",
              "DRgwoNHijtzc3EYr/4LPc3Nzz07Bp3Cm13Myubm5jVbRtvT1nK7MzEzFx8c3+c8/0mo9U8H6Kyoq\\\n",
              "1L59e/t4RUWF+vTpE6aqTs9tt92mf/zjH1qzZo06depkH8/NzVVNTY0qKytDOmeR/O8rMTFR5557\\\n",
              "riSpoKBA77//vh5//HHdcMMNUXctwNlAAERUy8rKUlZW1mmdu2fPHg0ZMkQFBQV65plnFBcX2gAv\\\n",
              "LCzU3XffrdraWiUkJEiSli9frvz8fGVkZJz12ptyJtdzKoWFhXrwwQe1b98+ZWdnSwpcj9Pp1IUX\\\n",
              "XnhWfsbZkpiYqIKCAq1YsULDhw+XFBh6XLFihW677bbwFvctdevWTbm5uVqxYoUd+Lxer92JikSW\\\n",
              "ZWnSpElavHixVq1apW7duoW8XlBQoISEBK1YsUIjRoyQJJWVlWnXrl0qLCwMR8lnzO/3y+fzxcS1\\\n",
              "AN9IuFehAC3hiy++sM4991xr6NCh1hdffGHt3bvXfgRVVlZaOTk51o033mht3rzZWrhwoZWammo9\\\n",
              "9dRTYaz8xHbu3Glt3LjR+sMf/mClpaVZGzdutDZu3GgdPHjQsizLqqurs3r06GENGzbMKi0ttd58\\\n",
              "800rKyvLmjZtWpgrb9rChQutpKQka8GCBdYnn3xijR8/3kpPTw9ZxRypDh48aP/zl2Q98sgj1saN\\\n",
              "G62dO3dalmVZDz30kJWenm69+uqr1scff2xde+21Vrdu3awjR46EufKmTZgwwXK5XNaqVatC/ls5\\\n",
              "fPiwfc6tt95qde7c2Vq5cqX1wQcfWIWFhVZhYWEYqz6xqVOnWqtXr7a2b99uffzxx9bUqVMth8Nh\\\n",
              "LVu2zLKs6LoW4GwhAMIIzzzzjCWpyUdDH330kTVo0CArKSnJ6tixo/XQQw+FqeJTGz16dJPX8/bb\\\n",
              "b9vn7Nixw7rqqquslJQUKzMz05oyZYpVW1sbvqJPYfbs2Vbnzp2txMREq1+/ftbatWvDXdJpefvt\\\n",
              "t5v8dzF69GjLsgJbwdx7771WTk6OlZSUZA0dOtQqKysLb9EncaL/Vp555hn7nCNHjli//vWvrYyM\\\n",
              "DCs1NdX68Y9/HPILVSS55ZZbrC5duliJiYlWVlaWNXToUDv8WVZ0XQtwtjgsy7JasOEIAACAMGMV\\\n",
              "MAAAgGEIgAAAAIYhAAIAABiGAAgAAGAYAiAAAIBhCIAAAACGIQACAAAYhgAIAABgGAIgAACAYQiA\\\n",
              "AAAAhiEAAgAAGIYACAAAYBgCIAAAgGEIgAAAAIYhAAIAABiGAAgAAGAYAiAAAIBhCIAAAACGIQAC\\\n",
              "AAAYhgAIAABgGAIgAACAYQiAAAAAhiEAAgAAGIYACAAAYBgCIAAAgGEIgAAAAIYhAAIAABiGAAgA\\\n",
              "AGAYAiAAAIBhCIAAAACGIQACAAAY5v8Hf0/s1WeYjUQAAAAASUVORK5CYII=\\\n",
              "\"\n",
              "  frames[2] = \"data:image/png;base64,iVBORw0KGgoAAAANSUhEUgAAAoAAAAHgCAYAAAA10dzkAAAAOnRFWHRTb2Z0d2FyZQBNYXRwbG90\\\n",
              "bGliIHZlcnNpb24zLjEwLjAsIGh0dHBzOi8vbWF0cGxvdGxpYi5vcmcvlHJYcgAAAAlwSFlzAAAP\\\n",
              "YQAAD2EBqD+naQAAJFNJREFUeJzt3X2QXXWd7/tPR9JNnrohENLkJtFAe4AcAauiQKtjKWbooYgl\\\n",
              "0+A4M3U0KOoMBqogXGdIycP5Q41Fe1C0EOZeZ8C5VTwM5wasTqltKmKoM0bUeFMCmhz7DJpcQjdh\\\n",
              "MN2hNZ2Y7PsHN3to6CRNSPfO7t/rVbWr2Wuv3nxXpVi8s/ZaazdUKpVKAAAoxpRaDwAAwMQSgAAA\\\n",
              "hRGAAACFEYAAAIURgAAAhRGAAACFEYAAAIURgAAAhRGAAACFEYAAAIURgAAAhRGAAACFEYAAAIUR\\\n",
              "gAAAhRGAAACFEYAAAIURgAAAhRGAAACFEYAAAIURgAAAhRGAAACFEYAAAIURgAAAhRGAAACFEYAA\\\n",
              "AIURgAAAhRGAAACFEYAAAIURgAAAhRGAAACFEYAAAIURgAAAhRGAAACFEYAAAIURgAAAhRGAAACF\\\n",
              "EYAAAIURgAAAhRGAAACFEYAAAIURgAAAhRGAAACFEYAAAIURgAAAhRGAAACFEYAAAIURgAAAhRGA\\\n",
              "AACFEYAAAIURgAAAhRGAAACFEYAAAIURgAAAhRGAAACFEYAAAIURgAAAhTmh1gPA0Tpw4EB27NiR\\\n",
              "WbNmpaGhodbjAIxZpVLJ7t27M2/evEyZ4lgME08AUrd27NiRBQsW1HoMgKO2ffv2zJ8/v9ZjUCAB\\\n",
              "SN2aNWtWkpd3oM3NzTWeBmDsBgcHs2DBgup+DCaaAKRuHfzYt7m5WQACdcnpK9SKEw8AAAojAAEA\\\n",
              "CiMAAQAKIwABAAojAAEACiMAAQAKIwABAAojAKGO9Pb2HtP1ACiTAIQ60d3dna6urvT09Bx2vZ6e\\\n",
              "nnR1daW7u3uCJgOg3ghAqAO9vb1Zu3ZtkmTNmjWHjMCenp6sWbMmSbJ27VpHAgEYlQCEOtDW1pbO\\\n",
              "zs7q89Ei8JXxlySdnZ1pa2ubsBkBqB8CEOpER0fHISNwtPjr6OiY8BkBqA8NlUqlUush4GgMDg6m\\\n",
              "paUlAwMDaW5urvU4E2ZE7O3ckhkvPp2h2f85mXN2EvEH9aDU/RfHjxNqPQDw+hyMuzX/9a+SvS9l\\\n",
              "KEl2b0zmnC3+ABgTHwFDHero6MiMl9OvasaMGeIPgDERgFCHenp6MrR35NkbQ0NDR7xFDAAkAhDq\\\n",
              "zqsv+JjR2FD958PdIgYADhKAUEdGxN/sM9K5uCl33Phf0vnF/7jpswgE4EhcBAJ1oqenJ2v+4YvJ\\\n",
              "c08mp5+bzv/9zuo5fwfP/DsYhwd/OicQgNE4Agh1oLe39+Woe+7JZO9L6Zzz29fE3Wj3CfRNIACM\\\n",
              "RgBCHWhra8uyZctePvL3jnnp+OQto673yghctmyZbwIBYFRuBE3dKvFGqr29vWOKurGuB9RGifsv\\\n",
              "ji+OAHLM3X333TnvvPPS3Nyc5ubmtLe357vf/W719T179mTFihU55ZRTMnPmzFxxxRXp7++v4cT1\\\n",
              "Y6xRJ/4AOBwByDE3f/78fOlLX8qmTZvys5/9LBdffHE+9KEP5emnn06S3HDDDenu7s7DDz+cDRs2\\\n",
              "ZMeOHSPOXQMAxpePgJkQs2fPTldXV6688srMmTMn999/f6688sokyZYtW3LOOedk48aNueiii8b8\\\n",
              "nj5CAeqV/Re15ggg42r//v158MEHMzQ0lPb29mzatCn79u3L0qVLq+ucffbZWbhwYTZu3FjDSYHJ\\\n",
              "YKxXvrtCntIJQMbFk08+mZkzZ6apqSl/+7d/m0ceeSSLFy9OX19fGhsbc9JJJ41Yf+7cuenr6zvs\\\n",
              "ew4PD2dwcHDEY9L66T8mX3nbyz+BMenu7k5XV9cRb4Te09OTrq6udHd3H3Y9mMwEIOPirLPOyubN\\\n",
              "m/PEE0/kmmuuyfLly/PLX/7yDb3n6tWr09LSUn0sWLDgGE17HPofX0kGtr/8Ezii3t7erF27Nsnh\\\n",
              "vw3nld+ms3btWkcCKZYAZFw0Njamra0tS5YsyerVq3P++efnzjvvTGtra/bu3Ztdu3aNWL+/vz+t\\\n",
              "ra2Hfc9Vq1ZlYGCg+ti+ffs4bkGNveeGpGXByz+BI2pra3vNjdBfHYGv/h7tzs5OV8xTLF8Fx4Q4\\\n",
              "cOBAhoeHs2TJkkydOjXr16/PFVdckSTZunVrtm3blvb29sO+R1NTU5qamiZi3Np759UvP4AxO/jt\\\n",
              "OKN9JeJo8eerEimZAOSYW7VqVS699NIsXLgwu3fvzv33358f/vCH6enpSUtLS66++uqsXLkys2fP\\\n",
              "TnNzc6677rq0t7e/riuAAUbz6ghcfuvX8/ub705l33DefMr0vLvtVPEHEYCMg+effz4f+9jH8txz\\\n",
              "z6WlpSXnnXdeenp68qd/+qdJkq985SuZMmVKrrjiigwPD6ejoyPf+MY3ajw1MFm8MgKHhvcn2Z8k\\\n",
              "+e2//z7/7e/EHyTuA0gdcx8t4HBWrlyZ//MHv6o+b5jalMGfPlq7gV7B/otacxEIAJNOT09PhoaG\\\n",
              "Riyr7Bs+4i1ioBQCEIBJ5dUXfDRMffniscYTGg57ixgoiXMAAZg0Xh1/11z1V/nXPfPz7hP/3wz8\\\n",
              "6l+TjLw6GEolAAGYFI50q5eenrmj3iIGSuQjYADqXm9v7xHv89fR0fGam0X7JhBKJQABqHttbW1Z\\\n",
              "tmxZksPf5PmVEbhs2TLfBEKx3AaGuuU2CsCr9fb2jinqxrreeLH/otYcAQRg0hhr1DnyR+kEIABA\\\n",
              "YQQgAEBhBCAAQGEEIABAYQQgAEBhBCAAQGEEIABAYQQgAEBhBCAAQGEEIABAYQQgAEBhBCAAQGEE\\\n",
              "IABAYQQgAEBhBCAAQGEEIABAYQQgAEBhBCAAQGEEIABAYQQgAEBhBCAAQGEEIABAYQQgAEBhBCAA\\\n",
              "QGEEIABAYQQgAEBhBCAAQGEEIABAYQQgAEBhBCAAQGEEIABAYQQgAEBhBCAAQGEEIJNeb2/vMV0P\\\n",
              "AOqdAGRS6+7uTldXV3p6eg67Xk9PT7q6utLd3T1BkwFA7QhAJq3e3t6sXbs2SbJmzZpDRmBPT0/W\\\n",
              "rFmTJFm7dq0jgQBMegKQSautrS2dnZ3V56+MwN89+GC2XnhRvnnW2Xmgq6u6TmdnZ9ra2iZ8VgCY\\\n",
              "SCfUegAYTx0dHUlSPcL3QFdXtn3yk3nPjJn5H0MvZd3ulzLlpd1pOvPMdHZ2VtcHgMlMADLpvTIC\\\n",
              "9/zqV1k39Pv869BQfn+gkiQ58ZxzxB8ARfERMMfc6tWr8853vjOzZs3Kaaedlssvvzxbt24dsc6e\\\n",
              "PXuyYsWKnHLKKZk5c2auuOKK9Pf3j9tMHR0d6ezszInnnJMk1fhLkr/67GfFHwBFEYAccxs2bMiK\\\n",
              "FSvy4x//OOvWrcu+fftyySWXZGhoqLrODTfckO7u7jz88MPZsGFDduzYMeJ8vfHQ0dGR2eedN2LZ\\\n",
              "9CkN4g+A4jRUKpXKkVeDo7dz586cdtpp2bBhQ9773vdmYGAgc+bMyf33358rr7wySbJly5acc845\\\n",
              "2bhxYy666KIxve/g4GBaWloyMDCQ5ubmI67/yqt9h//X/8qeX/0qJ55zjiOAwIR7vfsvONacA8i4\\\n",
              "GxgYSJLMnj07SbJp06bs27cvS5cura5z9tlnZ+HChYcNwOHh4QwPD1efDw4OjnmGV8Zfksw+77wM\\\n",
              "nXlmkv+4QEQEAlAKHwEzrg4cOJDrr78+7373u/O2t70tSdLX15fGxsacdNJJI9adO3du+vr6Dvle\\\n",
              "q1evTktLS/WxYMGCMc3w6vjr7OzMHXfccchbxADAZCcAGVcrVqzIU089lQcffPANv9eqVasyMDBQ\\\n",
              "fWzfvv2IvzNa/B080nfwwpCDRCAApfARMOPm2muvzdq1a/P4449n/vz51eWtra3Zu3dvdu3aNeIo\\\n",
              "YH9/f1pbWw/5fk1NTWlqahrzv7+3t/eQ8XfQq+8TuGbNmpx55pluBg3ApOYIIMdcpVLJtddem0ce\\\n",
              "eSQ/+MEPsmjRohGvL1myJFOnTs369eury7Zu3Zpt27alvb39mM3R1taWZcuWJRk9/g565ZHAZcuW\\\n",
              "iT8AJj1XAXPMfeYzn8n999+fb3/72znrrLOqy1taWjJt2rQkyTXXXJPvfOc7ue+++9Lc3Jzrrrsu\\\n",
              "SfKjH/1ozP+esV5F19vbO6aoG+t6AG+Uq4CpNQHIMdfQ0DDq8nvvvTdXXXVVkpdvBH3jjTfmgQce\\\n",
              "yPDwcDo6OvKNb3zjsB8Bv5odKFCv7L+oNQFI3bIDBeqV/Re15hxAAIDCCEAAgMIIQACAwghAAIDC\\\n",
              "CEAAgMIIQACAwghAAIDCCEAAgMIIQACAwghAAIDCCEAAgMIIQACAwghAAIDCCEAAgMIIQACAwghA\\\n",
              "AIDCCEAAgMIIQACAwghAAIDCCEAAgMIIQACAwghAAIDCCEAAgMIIQACAwghAAIDCCEAAgMIIQACA\\\n",
              "wghAAIDCCEAAgMIIQACAwghAAIDCCEAAgMIIQACAwghAAIDCCEAAgMIIQACAwghAAIDCCEAAgMII\\\n",
              "QACAwghAAIDCCEAAgMIIQACAwghAAIDCCEAAgMIIQACAwghAAIDCCEDGxeOPP54PfvCDmTdvXhoa\\\n",
              "GvLoo4+OeL1SqeTWW2/N6aefnmnTpmXp0qX59a9/XZthAaAwApBxMTQ0lPPPPz933XXXqK/ffvvt\\\n",
              "+drXvpZ77rknTzzxRGbMmJGOjo7s2bNngicFgPKcUOsBmJwuvfTSXHrppaO+VqlU8tWvfjU333xz\\\n",
              "PvShDyVJ/vmf/zlz587No48+mr/8y7+cyFEBoDiOADLhnnnmmfT19WXp0qXVZS0tLbnwwguzcePG\\\n",
              "Gk4GAGVwBJAJ19fXlySZO3fuiOVz586tvjaa4eHhDA8PV58PDg6Oz4AAMMk5AkjdWL16dVpaWqqP\\\n",
              "BQsW1HqkCfEvW/8ll/z3S/IvW/+l1qMAMEkIQCZca2trkqS/v3/E8v7+/upro1m1alUGBgaqj+3b\\\n",
              "t4/rnMeLbz75zTw39Fy++eQ3az0KAJOEAGTCLVq0KK2trVm/fn112eDgYJ544om0t7cf8veamprS\\\n",
              "3Nw84lGCT577yZw+4/R88txP1noUACYJ5wAyLl566aX09vZWnz/zzDPZvHlzZs+enYULF+b666/P\\\n",
              "5z//+bz1rW/NokWLcsstt2TevHm5/PLLazf0ceovzvqL/MVZf1HrMQCYRAQg4+JnP/tZ3v/+91ef\\\n",
              "r1y5MkmyfPny3Hffffm7v/u7DA0N5dOf/nR27dqV97znPfne976XE088sVYjA0AxGiqVSqXWQ8DR\\\n",
              "GBwcTEtLSwYGBor5OBiYHOy/qDXnAAIAFEYAAgAURgACABRGAAIAFEYAQp165W12jsV6AJRDAEId\\\n",
              "6u7uTldXV3p6eg67Xk9PT7q6utLd3T1BkwFQDwQg1Jne3t6sXbs2SbJmzZpDRmBPT0/WrFmTJFm7\\\n",
              "dq0jgQBUCUCoM21tbens7Kw+Hy0CXxl/SdLZ2Zm2trYJmxEmE6dbMBkJQKhDHR0dh4zA0eKvo6Nj\\\n",
              "wmeEycDpFkxWvgoO6tTBqDsYewcjcGhoqLqO+IOj9+rTLZKM+t/Tq0+3OOeccxxx57jnCCDUsVce\\\n",
              "CXz4fz6c+/6f+/Lw/3w4ifiDN8rpFkxmvguYuuW7NP/DWZeflZ0DO6vPpzRNyQvfe6GGE8HkcajT\\\n",
              "Kt7I6Rb2X9Saj4ChzvX09IyIvyQ5MHwgPT09jgDCMXCo0y02fvv/rq7zX7/xf/jvjbriI2CoYweP\\\n",
              "QJzcdHKSl4/8JUlDGg57ixjg9Xn1hVebH1tX/edz57eKP+qOAIQ69cqPn5a+eWkeuOmBvPC9F/LA\\\n",
              "TQ/kyv90ZZLD3ycQeH06OjoyY8aMJMkfBgeTJI0nvClntc6p5VhwVAQg1KHDnXt0uFvEAEfvlVfZ\\\n",
              "T/v/z9vb+8f92dq383C/Bscl5wBCnent7T3iieejnbN05plnujoRjtKr/9L19vf/6YhbLjnnlnrj\\\n",
              "CCDUmba2tixbtizJ4a86fOWRwGXLlok/OEqjHXG/4447HGmnrrkNDHWr9Nso9Pb2jinqxroe8FpH\\\n",
              "utXL0d4KpvT9F7XnCCDUqbFGnfiDozPW0y1efSTQdwJTDwQgAIzC6RZMZj4Cpm75CAWYCONxuoX9\\\n",
              "F7XmCCAAHIbTLZiMBCAAQGEEIABAYQQgAEBhBCAAQGEEIABAYQQgAEBhBCAAQGEEIABAYQQgAEBh\\\n",
              "BCAAQGEEIABAYQQgAEBhBCAAQGEEIABAYQQgAEBhBCAAQGEEIABAYQQgAEBhBCAAQGEEIABAYQQg\\\n",
              "AEBhBCAAQGEEIABAYQQgAEBhBCA1ddddd+Utb3lLTjzxxFx44YX5yU9+UuuRAGDSE4DUzEMPPZSV\\\n",
              "K1fmtttuy89//vOcf/756ejoyPPPP1/r0QBgUhOA1Mwdd9yRT33qU/n4xz+exYsX55577sn06dPz\\\n",
              "T//0T7UeDQAmNQFITezduzebNm3K0qVLq8umTJmSpUuXZuPGjaP+zvDwcAYHB0c8AIDXTwBSEy+8\\\n",
              "8EL279+fuXPnjlg+d+7c9PX1jfo7q1evTktLS/WxYMGCiRgVACYdAUjdWLVqVQYGBqqP7du313ok\\\n",
              "AKhLJ9R6AMp06qmn5k1velP6+/tHLO/v709ra+uov9PU1JSmpqaJGA8AJjVHAKmJxsbGLFmyJOvX\\\n",
              "r68uO3DgQNavX5/29vYaTgYAk58jgNTMypUrs3z58rzjHe/IBRdckK9+9asZGhrKxz/+8VqPBgCT\\\n",
              "mgCkZj7ykY9k586dufXWW9PX15e3v/3t+d73vveaC0MAgGOroVKpVGo9BByNwcHBtLS0ZGBgIM3N\\\n",
              "zbUeB2DM7L+oNecAAgAURgACABRGAAIAFEYAAgAURgACABRGAAIAFEYAAgAURgACABRGAAIAFEYA\\\n",
              "AgAURgACABRGAAIAFEYAAgAURgACABRGAAIAFEYAAgAURgACABRGAAIAFEYAAgAURgACABRGAAIA\\\n",
              "FEYAAgAURgACABRGAAIAFEYAAgAURgACABRGAAIAFEYAAgAURgACABRGAAIAFEYAAgAURgACABRG\\\n",
              "AAIAFEYAAgAURgACABRGAAIAFEYAAgAURgACABRGAAIAFEYAAgAURgACABRGAAIAFEYAAgAURgAC\\\n",
              "ABRGAAIAFEYAAgAURgByzH3hC1/Iu971rkyfPj0nnXTSqOts27Ytl112WaZPn57TTjstn/3sZ/PH\\\n",
              "P/5xYgcFgEKdUOsBmHz27t2bD3/4w2lvb88//uM/vub1/fv357LLLktra2t+9KMf5bnnnsvHPvax\\\n",
              "TJ06NV/84hdrMDEAlKWhUqlUaj0Ek9N9992X66+/Prt27Rqx/Lvf/W6WLVuWHTt2ZO7cuUmSe+65\\\n",
              "J3//93+fnTt3prGxcUzvPzg4mJaWlgwMDKS5uflYjw8wbuy/qDUfATPhNm7cmHPPPbcaf0nS0dGR\\\n",
              "wcHBPP300zWcDADK4CNgJlxfX9+I+EtSfd7X13fI3xseHs7w8HD1+eDg4PgMCACTnCOAjMlNN92U\\\n",
              "hoaGwz62bNkyrjOsXr06LS0t1ceCBQvG9d8HAJOVI4CMyY033pirrrrqsOucccYZY3qv1tbW/OQn\\\n",
              "PxmxrL+/v/raoaxatSorV66sPh8cHBSBAHAUBCBjMmfOnMyZM+eYvFd7e3u+8IUv5Pnnn89pp52W\\\n",
              "JFm3bl2am5uzePHiQ/5eU1NTmpqajskMAFAyAcgxt23btrz44ovZtm1b9u/fn82bNydJ2traMnPm\\\n",
              "zFxyySVZvHhxPvrRj+b2229PX19fbr755qxYsULgAcAEcBsYjrmrrroq3/rWt16z/LHHHsv73ve+\\\n",
              "JMlvf/vbXHPNNfnhD3+YGTNmZPny5fnSl76UE04Y+99J3EYBqFf2X9SaAKRu2YEC9cr+i1pzFTAA\\\n",
              "QGEEIABAYQQgAEBhBCAAQGEEIABAYQQgAEBhBCAAQGEEIABAYQQgAEBhBCAAQGEEIABAYQQgAEBh\\\n",
              "BCAAQGEEIABAYQQgAEBhBCAAQGEEIABAYQQgAEBhBCAAQGEEIABAYQQgAEBhBCAAQGEEIABAYQQg\\\n",
              "AEBhBCAAQGEEIABAYQQgAEBhBCAAQGEEIABAYQQgAEBhBCAAQGEEIABAYQQgAEBhBCAAQGEEIABA\\\n",
              "YQQgAEBhBCAAQGEEIABAYQQgAEBhBCAAQGEEIABAYQQgAEBhBCAAQGEEIABAYQQgAEBhBCAAQGEE\\\n",
              "IABAYQQgx9RvfvObXH311Vm0aFGmTZuWM888M7fddlv27t07Yr1f/OIX+ZM/+ZOceOKJWbBgQW6/\\\n",
              "/fYaTQwA5Tmh1gMwuWzZsiUHDhzIP/zDP6StrS1PPfVUPvWpT2VoaChf/vKXkySDg4O55JJLsnTp\\\n",
              "0txzzz158skn84lPfCInnXRSPv3pT9d4CwBg8muoVCqVWg/B5NbV1ZW77747//Zv/5Ykufvuu/O5\\\n",
              "z30ufX19aWxsTJLcdNNNefTRR7Nly5Yxv+/g4GBaWloyMDCQ5ubmcZkdYDzYf1FrPgJm3A0MDGT2\\\n",
              "7NnV5xs3bsx73/veavwlSUdHR7Zu3Zrf/e53tRgRAIoiABlXvb29+frXv56/+Zu/qS7r6+vL3Llz\\\n",
              "R6x38HlfX98h32t4eDiDg4MjHgDA6ycAGZObbropDQ0Nh328+uPbZ599Nn/2Z3+WD3/4w/nUpz71\\\n",
              "hmdYvXp1Wlpaqo8FCxa84fcEgBI5B5Ax2blzZ/793//9sOucccYZ1Y91d+zYkfe973256KKLct99\\\n",
              "92XKlP/4u8bHPvaxDA4O5tFHH60ue+yxx3LxxRfnxRdfzMknnzzq+w8PD2d4eLj6fHBwMAsWLHAO\\\n",
              "DVB3nANIrbkKmDGZM2dO5syZM6Z1n3322bz//e/PkiVLcu+9946IvyRpb2/P5z73uezbty9Tp05N\\\n",
              "kqxbty5nnXXWIeMvSZqamtLU1HT0GwEAJPERMMfYs88+m/e9731ZuHBhvvzlL2fnzp3p6+sbcW7f\\\n",
              "X//1X6exsTFXX311nn766Tz00EO58847s3LlyhpODgDlcASQY2rdunXp7e1Nb29v5s+fP+K1g2cb\\\n",
              "tLS05Pvf/35WrFiRJUuW5NRTT82tt97qHoAAMEGcA0jdcg4NUK/sv6g1HwEDABRGAAIAFEYAAgAU\\\n",
              "RgACABRGAAIAFEYAAgAURgACABRGAAIAFEYAAgAURgACABRGAAIAFEYAAgAURgACABRGAAIAFEYA\\\n",
              "AgAURgACABRGAAIAFEYAAgAURgACABRGAALAGPX29h7T9aBWBCAAjEF3d3e6urrS09Nz2PV6enrS\\\n",
              "1dWV7u7uCZoMXj8BCABH0Nvbm7Vr1yZJ1qxZc8gI7OnpyZo1a5Ika9eudSSQ45YABIAjaGtrS2dn\\\n",
              "Z/X5aBH4yvhLks7OzrS1tU3YjPB6CEAAGIOOjo5DRuBo8dfR0THhM8JYNVQqlUqth4CjMTg4mJaW\\\n",
              "lgwMDKS5ubnW4wCFeHXszZgxI0NDQ9XnY4k/+y9q7YRaDwAA9eRg3H3zrv8rz/Xuqi7/z3/yvzny\\\n",
              "R93wETAAvE4dHR158bd7Riz7w+8q4o+6IQAB4HV46vFn89m/vCPD+0YG4PZf9x/xFjFwvBCAAPA6\\\n",
              "fOsbD2XjL35Qfd54wolJklMXzDrsLWLgeCIAAWCMenp68pvf/zxTm96U09tOyi1fuS4/+MV/zy1f\\\n",
              "uS6zT5+R5PD3CYTjhYtAAGAMDl79O/v0GZl9+owRF3wc/Hnw6uCDP50TyPHKEUAAOILe3t4j3udv\\\n",
              "tPsE+iYQjlcCEACOoK2tLcuWLUty+Pv8vTICly1b5ptAOG65ETR1y41UgYnW29s7pqg70nr2X9Sa\\\n",
              "I4AAMEZjPaLnyB/HOwEIAFAYAQgAUBgBCABQGAEIAFAYAQgAUBgBCABQGAEIAFAYAQgAUBgBCABQ\\\n",
              "mBNqPQAcrYPfYjg4OFjjSQBen4P7Ld/GSq0IQOrW7t27kyQLFiyo8SQAR2f37t1paWmp9RgUqKHi\\\n",
              "rx/UqQMHDmTHjh2ZNWtWGhoaaj3OMTM4OJgFCxZk+/btk/pL4m3n5FHCNibHdjsrlUp2796defPm\\\n",
              "ZcoUZ2Mx8RwBpG5NmTIl8+fPr/UY46a5uXlS/8/0INs5eZSwjcmx205H/qglf+0AACiMAAQAKIwA\\\n",
              "hONMU1NTbrvttjQ1NdV6lHFlOyePErYxKWc7KYOLQAAACuMIIABAYQQgAEBhBCAAQGEEIABAYQQg\\\n",
              "HEe+8IUv5F3velemT5+ek046adR1tm3blssuuyzTp0/Paaedls9+9rP54x//OLGDvkF33XVX3vKW\\\n",
              "t+TEE0/MhRdemJ/85Ce1HukNefzxx/PBD34w8+bNS0NDQx599NERr1cqldx66605/fTTM23atCxd\\\n",
              "ujS//vWvazPsUVq9enXe+c53ZtasWTnttNNy+eWXZ+vWrSPW2bNnT1asWJFTTjklM2fOzBVXXJH+\\\n",
              "/v4aTXx07r777px33nnVmz23t7fnu9/9bvX1ybCNkAhAOK7s3bs3H/7wh3PNNdeM+vr+/ftz2WWX\\\n",
              "Ze/evfnRj36Ub33rW7nvvvty6623TvCkR++hhx7KypUrc9ttt+XnP/95zj///HR0dOT555+v9WhH\\\n",
              "bWhoKOeff37uuuuuUV+//fbb87WvfS333HNPnnjiicyYMSMdHR3Zs2fPBE969DZs2JAVK1bkxz/+\\\n",
              "cdatW5d9+/blkksuydDQUHWdG264Id3d3Xn44YezYcOG7NixI52dnTWc+vWbP39+vvSlL2XTpk35\\\n",
              "2c9+losvvjgf+tCH8vTTTyeZHNsISZIKcNy59957Ky0tLa9Z/p3vfKcyZcqUSl9fX3XZ3XffXWlu\\\n",
              "bq4MDw9P4IRH74ILLqisWLGi+nz//v2VefPmVVavXl3DqY6dJJVHHnmk+vzAgQOV1tbWSldXV3XZ\\\n",
              "rl27Kk1NTZUHHnigBhMeG88//3wlSWXDhg2VSuXlbZo6dWrl4Ycfrq7zq1/9qpKksnHjxlqNeUyc\\\n",
              "fPLJlW9+85uTehspjyOAUEc2btyYc889N3Pnzq0u6+joyODgYPUIxfFs79692bRpU5YuXVpdNmXK\\\n",
              "lCxdujQbN26s4WTj55lnnklfX9+IbW5pacmFF15Y19s8MDCQJJk9e3aSZNOmTdm3b9+I7Tz77LOz\\\n",
              "cOHCut3O/fv358EHH8zQ0FDa29sn5TZSrhNqPQAwdn19fSPiL0n1eV9fXy1Gel1eeOGF7N+/f9Rt\\\n",
              "2LJlS42mGl8H/1xG2+Z6+DMbzYEDB3L99dfn3e9+d972trcleXk7GxsbX3Puaj1u55NPPpn29vbs\\\n",
              "2bMnM2fOzCOPPJLFixdn8+bNk2YbwRFAGGc33XRTGhoaDvuYrPHD5LRixYo89dRTefDBB2s9yrg4\\\n",
              "66yzsnnz5jzxxBO55pprsnz58vzyl7+s9VhwTDkCCOPsxhtvzFVXXXXYdc4444wxvVdra+trrpg9\\\n",
              "eAVia2vrUc03kU499dS86U1ves1Vk/39/XUx/9E4uF39/f05/fTTq8v7+/vz9re/vUZTHb1rr702\\\n",
              "a9euzeOPP5758+dXl7e2tmbv3r3ZtWvXiCNk9fhn29jYmLa2tiTJkiVL8tOf/jR33nlnPvKRj0ya\\\n",
              "bQRHAGGczZkzJ2efffZhH42NjWN6r/b29jz55JMjrphdt25dmpubs3jx4vHahGOmsbExS5Ysyfr1\\\n",
              "66vLDhw4kPXr16e9vb2Gk42fRYsWpbW1dcQ2Dw4O5oknnqirba5UKrn22mvzyCOP5Ac/+EEWLVo0\\\n",
              "4vUlS5Zk6tSpI7Zz69at2bZtW11t52gOHDiQ4eHhSb2NlMcRQDiObNu2LS+++GK2bduW/fv3Z/Pm\\\n",
              "zUmStra2zJw5M5dcckkWL16cj370o7n99tvT19eXm2++OStWrEhTU1Nthx+jlStXZvny5XnHO96R\\\n",
              "Cy64IF/96lczNDSUj3/847Ue7ai99NJL6e3trT5/5plnsnnz5syePTsLFy7M9ddfn89//vN561vf\\\n",
              "mkWLFuWWW27JvHnzcvnll9du6NdpxYoVuf/++/Ptb387s2bNqp7z1tLSkmnTpqWlpSVXX311Vq5c\\\n",
              "mdmzZ6e5uTnXXXdd2tvbc9FFF9V4+rFbtWpVLr300ixcuDC7d+/O/fffnx/+8Ifp6emZNNsISdwG\\\n",
              "Bo4ny5cvryR5zeOxxx6rrvOb3/ymcumll1amTZtWOfXUUys33nhjZd++fbUb+ih8/etfryxcuLDS\\\n",
              "2NhYueCCCyo//vGPaz3SG/LYY4+N+ue2fPnySqXy8q1gbrnllsrcuXMrTU1NlQ984AOVrVu31nbo\\\n",
              "12m07UtSuffee6vr/OEPf6h85jOfqZx88smV6dOnV/78z/+88txzz9Vu6KPwiU98ovLmN7+50tjY\\\n",
              "WJkzZ07lAx/4QOX73/9+9fXJsI1QqVQqDZVKpTLx2QkAQK04BxAAoDACEACgMAIQAKAwAhAAoDAC\\\n",
              "EACgMAIQAKAwAhAAoDACEACgMAIQAKAwAhAAoDACEACgMAIQAKAwAhAAoDACEACgMAIQAKAwAhAA\\\n",
              "oDACEACgMAIQAKAwAhAAoDACEACgMAIQAKAwAhAAoDACEACgMAIQAKAwAhAAoDACEACgMAIQAKAw\\\n",
              "AhAAoDACEACgMAIQAKAwAhAAoDD/H6VSUzkOMDChAAAAAElFTkSuQmCC\\\n",
              "\"\n",
              "  frames[3] = \"data:image/png;base64,iVBORw0KGgoAAAANSUhEUgAAAoAAAAHgCAYAAAA10dzkAAAAOnRFWHRTb2Z0d2FyZQBNYXRwbG90\\\n",
              "bGliIHZlcnNpb24zLjEwLjAsIGh0dHBzOi8vbWF0cGxvdGxpYi5vcmcvlHJYcgAAAAlwSFlzAAAP\\\n",
              "YQAAD2EBqD+naQAAIlZJREFUeJzt3X+M1PWd+PHXouwKwg6isCOyXPFotKSVTaZd3fauUUvhiNfo\\\n",
              "+SPtXa6uluh9vdUE1/ROUsXc91sPg01P26+F++bu1Ms3qPGbQLE5awlF/KMre24zntpCSs4eVJyF\\\n",
              "nmWHkjIgO98/CFMWl2WB3R1m349HMtH5zIfh9QlxfPLez+czdeVyuRwAACRjQrUHAABgbAlAAIDE\\\n",
              "CEAAgMQIQACAxAhAAIDECEAAgMQIQACAxAhAAIDECEAAgMQIQACAxAhAAIDECEAAgMQIQACAxAhA\\\n",
              "AIDECEAAgMQIQACAxAhAAIDECEAAgMQIQACAxAhAAIDECEAAgMQIQACAxAhAAIDECEAAgMQIQACA\\\n",
              "xAhAAIDECEAAgMQIQACAxAhAAIDECEAAgMQIQACAxAhAAIDECEAAgMQIQACAxAhAAIDECEAAgMQI\\\n",
              "QACAxAhAAIDECEAAgMQIQACAxAhAAIDECEAAgMQIQACAxAhAAIDECEAAgMQIQACAxAhAAIDECEAA\\\n",
              "gMQIQACAxAhAAIDECEAAgMQIQACAxAhAAIDECEAAgMQIQACAxAhAAIDEnF/tAeBM9Pf3x+7du2Pq\\\n",
              "1KlRV1dX7XEATlu5XI79+/fHrFmzYsIE6zGMLQFITdq9e3c0NzdXewyAs7Zr166YPXt2tccgMQKQ\\\n",
              "mjR16tSIOPrB2djYWOVpAE5fsViM5ubmyucZjCUBSE069mPfxsZGAQjUNKexUA1OOgAASIwABABI\\\n",
              "jAAEAEiMAAQASIwABABIjAAEAEiMAIQaUSgURnQ/ANIlAKEG9PT0xIYNGyKfzw+5Xz6fjw0bNkRP\\\n",
              "T8/YDAZATRKAcI4rFAqVoOvu7j5pBObz+eju7o6Io8FoJRCAkxGAcI7LZrPR2tpaeT5YBB4ffxER\\\n",
              "ra2tkc1mx2pEAGqMAIQa0NLSctIIHCz+WlpaxnhCAGqJ7wKGGnEs6o7FXnd3d7z55ptRKpUq+4g/\\\n",
              "AIbDCiDUkBNXAsUfAGfCCiDUmJaWlqMrf//vf1S2Ndy6RvwBMGxWAKHG5PP5ASt/EUdXAk91ixgA\\\n",
              "OEYAQg058YKPhvN+/9pQt4gBgOMJQKgRH7na9391Rfv630Xr/+qqbBOBAAyHAIQaMNStXoa6RQwA\\\n",
              "DEYAwjmuUCic8j5/g0WgbwIB4GQEIJzjstls5HK5iBj6Vi/HR2Aul/NNIACclNvAQA3I5XJx2WWX\\\n",
              "nTLqWlpaIpvNij8AhmQFkBG3evXquOqqq6KxsTEaGxujra0tXn755crrBw8ejI6Ojrj44otjypQp\\\n",
              "ccstt0Rvb28VJ64Nw4068QfAqQhARtzs2bPjsccei56ennjjjTfi+uuvjxtvvDHeeeediIi4//77\\\n",
              "46WXXooXX3wxtmzZErt3746bb765ylMDQDrqyuVyudpDMP5Nnz49Hn/88bj11ltjxowZsXbt2rj1\\\n",
              "1lsjImLbtm3xiU98Irq6uuKaa64Z1vsVi8XIZDLR19cXjY2Nozk6wKjwOUY1WQFkVB05ciSef/75\\\n",
              "OHDgQLS1tUVPT08cPnw4Fi5cWNnnyiuvjDlz5kRXV9cQ7wQwPMO9At6V8qTMRSCMirfeeiva2tri\\\n",
              "4MGDMWXKlFi3bl3Mnz8/8vl81NfXx7Rp0wbs39TUNOSHcalUGvD1Z8VicbRGB2pYT09P9PT0DHnF\\\n",
              "fMTv762Zy+UqV9lDSqwAMiquuOKKyOfzsXXr1rjnnnuivb09fvazn53x+61cuTIymUzl0dzcPILT\\\n",
              "AuNBoVCInp6eiBj6hujH31i9p6fHSiBJEoCMivr6+pg3b17kcrlYuXJlLFiwIJ588snIZrNx6NCh\\\n",
              "2Ldv34D9e3t7h7x6dfny5dHX11d57Nq1a5SPAKg12Wz2lN+KM9i36rhynhQJQMZEf39/lEqlyOVy\\\n",
              "MXHixNi0aVPlte3bt8fOnTujra3tpL++oaGhcluZYw+AEw311YhDfaUipMY5gIy45cuXx5IlS2LO\\\n",
              "nDmxf//+WLt2bbz66qvxyiuvRCaTiaVLl0ZnZ2dMnz49Ghsb47777ou2trZhXwEMMJRjUXcs9rq7\\\n",
              "u+PNN98ccB6x+CN1ApARt2fPnrj99tvj/fffj0wmE1dddVW88sor8cUvfjEiIv7hH/4hJkyYELfc\\\n",
              "ckuUSqVYvHhxfO9736vy1MB4cmIEij8YyH0AqUnunwUMx7PPPhudz71Ref7tP/90tLe3V3Gi3/M5\\\n",
              "RjU5BxCAcSmfzw9Y+Ys4uhJ4squDISUCEIBx58QLPurOm1j596FuEQOpcA4gAOPKifG36bGl0dLS\\\n",
              "MmD7sX86F5BUWQEEYNwY6lYvQ90iBlIjAAEYFwqFwinv8zdYBPomEFIkAAEYF7LZbOV7fYe61cvx\\\n",
              "EZjL5XwTCElyDiAA40Yul4vLLrvslFHX0tIS2WxW/JEsK4AAjCvDjTrxR8oEIABAYgQgAEBiBCAA\\\n",
              "QGIEIABAYgQgAEBiBCAAQGIEIABAYgQgAEBiBCAAQGIEIABAYgQgAEBiBCAAQGIEIABAYgQgAEBi\\\n",
              "BCAAQGIEIABAYgQgAEBiBCAAQGIEIABAYgQgAEBiBCAAQGIEIABAYgQgAEBiBCAAQGIEIABAYgQg\\\n",
              "AEBiBCAAQGIEIABAYgQgAEBiBCAAQGIEIABAYgQgAEBiBCAAQGIEIABAYgQg41qhUBjR/QBgPBCA\\\n",
              "jFs9PT2xYcOGyOfzQ+6Xz+djw4YN0dPTMzaDAUCVCUDGpUKhUAm67u7uk0ZgPp+P7u7uiDgajFYC\\\n",
              "AUiBAGRcymaz0draWnk+WAQeH38REa2trZHNZsdqRAComvOrPQCMlpaWloiISuQd+2fDV/48fn7w\\\n",
              "YLx18GBc+j//LiKOxt+x/QFgvLMCyIhbuXJlfOYzn4mpU6fGzJkz46abbort27cP2OfgwYPR0dER\\\n",
              "F198cUyZMiVuueWW6O3tHfFZWlpaPrISuL6vL946eLCyTfwBkBoByIjbsmVLdHR0xOuvvx4bN26M\\\n",
              "w4cPx6JFi+LAgQOVfe6///546aWX4sUXX4wtW7bE7t274+abbx6VeU6MwEPlcuXfxR8AKaorl4/7\\\n",
              "vyGMgr1798bMmTNjy5Yt8fnPfz76+vpixowZsXbt2rj11lsjImLbtm3xiU98Irq6uuKaa6455XsW\\\n",
              "i8XIZDLR19cXjY2Nw5rj2WefjVKpVHne0NAQ7e3tZ3ZQAGfpTD7HYKRYAWTU9fX1RUTE9OnTI+Lo\\\n",
              "1baHDx+OhQsXVva58sorY86cOdHV1TUqM+Tz+QHxFxFRKpVOeYsYABiPXATCqOrv749ly5bF5z73\\\n",
              "ufjkJz8ZEUdv0VJfXx/Tpk0bsG9TU9NJb8NSKpUGBFyxWBz2DCde7dvQ0FB5r2Pb/RgYgJRYAWRU\\\n",
              "dXR0xNtvvx3PP//8Wb3PypUrI5PJVB7Nzc3D+nWD3eqlvb39lLeIAYDxTAAyau699974wQ9+EJs3\\\n",
              "b47Zs2dXtmez2Th06FDs27dvwP69vb0nvQ/f8uXLo6+vr/LYtWvXKX//weLv2ErfYFcHi0AAUiEA\\\n",
              "GXHlcjnuvffeWLduXfz4xz+OuXPnDng9l8vFxIkTY9OmTZVt27dvj507d0ZbW9ug79nQ0BCNjY0D\\\n",
              "HkMpFAonjb9jBotA3wQCQAqcA8iI6+joiLVr18b3v//9mDp1aiWqMplMTJo0KTKZTCxdujQ6Oztj\\\n",
              "+vTp0djYGPfdd1+0tbUN6wrg4chms5HL5aKnp2fIW70cf7PoXC7nm0AASILbwDDi6urqBt3+9NNP\\\n",
              "xx133BERR28E/cADD8Rzzz0XpVIpFi9eHN/73veGHWDDvX1CoVAY1nsOdz+AkeI2MFSTAKQm+eAE\\\n",
              "ap3PMarJOYAAAIkRgAAAiRGAAACJEYAAAIkRgAAAiRGAAACJEYAAAIkRgAAAiRGAAACJEYAAAIkR\\\n",
              "gAAAiRGAAACJEYAAAIkRgAAAiRGAAACJEYAAAIkRgAAAiRGAAACJEYAAAIkRgAAAiRGAAACJEYAA\\\n",
              "AIkRgAAAiRGAAACJEYAAAIkRgAAAiRGAAACJEYAAAIkRgAAAiRGAAACJEYAAAIkRgAAAiRGAAACJ\\\n",
              "EYAAAIkRgAAAiRGAAACJEYAAAIkRgAAAiRGAAACJEYAAAIkRgAAAiRGAAACJEYAAAIkRgAAAiRGA\\\n",
              "AACJEYAAAIkRgAAAiRGAjLjXXnstvvSlL8WsWbOirq4u1q9fP+D1crkcK1asiEsvvTQmTZoUCxcu\\\n",
              "jF/84hfVGRYAEiQAGXEHDhyIBQsWxFNPPTXo66tWrYrvfOc7sWbNmti6dWtceOGFsXjx4jh48OAY\\\n",
              "TwoAaTq/2gMw/ixZsiSWLFky6GvlcjmeeOKJeOihh+LGG2+MiIh//dd/jaampli/fn185StfGctR\\\n",
              "ASBJVgAZU++++24UCoVYuHBhZVsmk4mrr746urq6qjgZAKTDCiBjqlAoREREU1PTgO1NTU2V1wZT\\\n",
              "KpWiVCpVnheLxdEZEAASYAWQmrBy5crIZDKVR3Nzc7VHAoCaJQAZU9lsNiIient7B2zv7e2tvDaY\\\n",
              "5cuXR19fX+Wxa9euUZ0TAMYzAciYmjt3bmSz2di0aVNlW7FYjK1bt0ZbW9tJf11DQ0M0NjYOeAAA\\\n",
              "Z8Y5gIy43/72t7Fjx47K83fffTfy+XxMnz495syZE8uWLYtvfvOb8fGPfzzmzp0bDz/8cMyaNStu\\\n",
              "uumm6g0NAAkRgIy4N954I6677rrK887OzoiIaG9vj2eeeSb+5m/+Jg4cOBB333137Nu3L/7oj/4o\\\n",
              "fvjDH8YFF1xQrZEBICl15XK5XO0h4HQVi8XIZDLR19fnx8FATfI5RjU5BxAAIDECEAAgMQIQACAx\\\n",
              "AhAAIDECEGrQUF+bdyb7AZAWAQg1pqenJzZs2BD5fH7I/fL5fGzYsCF6enrGZjAAaoYAhBpSKBQq\\\n",
              "Qdfd3X3SCMzn89Hd3R0RR4PRSiAAxxOAUEOy2Wy0trZWng8WgcfHX0REa2vrkN+zDJya0y4YbwQg\\\n",
              "1JiWlpaTRuBg8dfS0jLGE8L44rQLxiNfBQc16FjUHYu97u7uePPNN6NUKlX2EX9w9k487SIiBv3v\\\n",
              "6sTTLi677DIr75zTrABCjTpxJVD8wchz2gXjlRVAqGEtLS2Vlb+/6/q7iIioO78ufnX3r6o8GYwf\\\n",
              "g624H9vutAtqlQCEGpbP5wes/EVElD8sRz6f9z8hGEFOu2C8EYBQo05ceag7vy7KH5YjYuhzlYAz\\\n",
              "c2IElkql2Ph//ndERDRPz8Tdd99drdHgtAlAqEGD/djpV3f/asB2EQgj7/jTLo4577wJcdlFmSpO\\\n",
              "BafPRSBQY4Y652ioW8QAZ2+w0y6OHOmP937TV6WJ4MxYAYQaUigUTnnC+WDnKmWzWVclwlk68S9f\\\n",
              "DQ0N8cW77x3wuhV3aoUVQKgh2Ww2crlcRAx9wvnxK4G5XE78wVkabOW9vb3dijs1ywog1JhcLjes\\\n",
              "m8y2tLRY+YMRcKrTLiIGv0UMnMusAEINGm7UiT84O8M97eLElUDfCcy5TgACwEk47YLxyo+AAWAI\\\n",
              "TrtgPLICCACn4LQLxhsBCACQGAEIAJAYAQgAkBgBCACQGAEIAJAYAQgAkBgBCACQGAEIAJAYAQgA\\\n",
              "kBgBCACQGAEIAJAYAQgAkBgBCACQGAEIAJAYAQgAkBgBCACQGAEIAJAYAQgAkBgBCACQGAEIAJAY\\\n",
              "AQgAkBgBCACQGAEIAJAYAQgAkBgBSFU99dRT8bGPfSwuuOCCuPrqq6O7u7vaIwHAuCcAqZoXXngh\\\n",
              "Ojs745FHHomf/vSnsWDBgli8eHHs2bOn2qMBwLgmAKmab3/723HXXXfFnXfeGfPnz481a9bE5MmT\\\n",
              "41/+5V+qPRoAjGsCkKo4dOhQ9PT0xMKFCyvbJkyYEAsXLoyurq4qTgYA49/51R6ANP3617+OI0eO\\\n",
              "RFNT04DtTU1NsW3bto/sXyqVolQqVZ4Xi8VRnxEAxisrgNSElStXRiaTqTyam5urPRIA1CwBSFVc\\\n",
              "csklcd5550Vvb++A7b29vZHNZj+y//Lly6Ovr6/y2LVr11iNCgDjjgCkKurr6yOXy8WmTZsq2/r7\\\n",
              "+2PTpk3R1tb2kf0bGhqisbFxwAMAODPOAaRqOjs7o729PT796U9Ha2trPPHEE3HgwIG48847qz0a\\\n",
              "AIxrApCq+fKXvxx79+6NFStWRKFQiJaWlvjhD3/4kQtDAICRVVcul8vVHgJOV7FYjEwmE319fX4c\\\n",
              "DNQkn2NUk3MAAQASIwABABIjAAEAEiMAAQASIwABABIjAAEAEiMAAQASIwABABIjAAEAEiMAAQAS\\\n",
              "IwABABIjAAEAEiMAAQASIwABABIjAAEAEiMAAQASIwABABIjAAEAEiMAAQASIwABABIjAAEAEiMA\\\n",
              "AQASIwABABIjAAEAEiMAAQASIwABABIjAAEAEiMAAQASIwABABIjAAEAEiMAAQASIwABABIjAAEA\\\n",
              "EiMAAQASIwABABIjAAEAEiMAAQASIwABABIjAAEAEiMAAQASIwABABIjAAEAEiMAAQASIwABABIj\\\n",
              "AAEAEiMAAQASIwABABIjABlxjz76aHz2s5+NyZMnx7Rp0wbdZ+fOnXHDDTfE5MmTY+bMmfH1r389\\\n",
              "Pvzww7EdFAASdX61B2D8OXToUNx2223R1tYW//zP//yR148cORI33HBDZLPZ+MlPfhLvv/9+3H77\\\n",
              "7TFx4sT4+7//+ypMDABpqSuXy+VqD8H49Mwzz8SyZcti3759A7a//PLL8ad/+qexe/fuaGpqioiI\\\n",
              "NWvWxN/+7d/G3r17o76+/pTvXSwWI5PJRF9fXzQ2No7G+ACjyucY1eRHwIy5rq6u+NSnPlWJv4iI\\\n",
              "xYsXR7FYjHfeeaeKkwFAGvwImDFXKBQGxF9EVJ4XCoVBf02pVIpSqVR5XiwWR29AABjnrAAyLA8+\\\n",
              "+GDU1dUN+di2bduo/f4rV66MTCZTeTQ3N4/a7wUA450VQIblgQceiDvuuGPIfS6//PJhvVc2m43u\\\n",
              "7u4B23p7eyuvDWb58uXR2dlZeV4sFkUgAJwhAciwzJgxI2bMmDEi79XW1haPPvpo7NmzJ2bOnBkR\\\n",
              "ERs3bozGxsaYP3/+oL+moaEhGhoaRuT3B4DUCUBG3M6dO+ODDz6InTt3xpEjRyKfz0dExLx582LK\\\n",
              "lCmxaNGimD9/fnz1q1+NVatWRaFQiIceeig6OjpEHgCMAbeBYcTdcccd8eyzz35k++bNm+Paa6+N\\\n",
              "iIj/+q//invuuSdeffXVuPDCC6O9vT0ee+yxOP/84f2dxO0TgFrnc4xqEoDUJB+cQK3zOUY1uQoY\\\n",
              "ACAxAhAAIDECEAAgMQIQACAxAhAAIDECEAAgMQIQACAxAhAAIDECEAAgMQIQACAxAhAAIDECEAAg\\\n",
              "MQIQACAxAhAAIDECEAAgMQIQACAxAhAAIDECEAAgMQIQACAxAhAAIDECEAAgMQIQACAxAhAAIDEC\\\n",
              "EAAgMQIQACAxAhAAIDECEAAgMQIQACAxAhAAIDECEAAgMQIQACAxAhAAIDECEAAgMQIQACAxAhAA\\\n",
              "IDECEAAgMQIQACAxAhAAIDECEAAgMQIQACAxAhAAIDECEAAgMQIQACAxAhAAIDECEAAgMQIQACAx\\\n",
              "AhAAIDECkBH1y1/+MpYuXRpz586NSZMmxR/+4R/GI488EocOHRqw33/8x3/EH//xH8cFF1wQzc3N\\\n",
              "sWrVqipNDADpOb/aAzC+bNu2Lfr7++Mf//EfY968efH222/HXXfdFQcOHIhvfetbERFRLBZj0aJF\\\n",
              "sXDhwlizZk289dZb8bWvfS2mTZsWd999d5WPAADGv7pyuVyu9hCMb48//nisXr06/vM//zMiIlav\\\n",
              "Xh3f+MY3olAoRH19fUREPPjgg7F+/frYtm3bsN6zWCxGJpOJvr6+aGxsHLXZAUaLzzGqyY+AGXV9\\\n",
              "fX0xffr0yvOurq74/Oc/X4m/iIjFixfH9u3b4ze/+U01RgSApAhARtWOHTviu9/9bvzVX/1VZVuh\\\n",
              "UIimpqYB+x17XigUBn2fUqkUxWJxwAMAODMCkGF58MEHo66ubsjHiT++fe+99+JP/uRP4rbbbou7\\\n",
              "7rrrrH7/lStXRiaTqTyam5vP6v0AIGXOAWRY9u7dG//93/895D6XX3555ce6u3fvjmuvvTauueaa\\\n",
              "eOaZZ2LChN//XeP222+PYrEY69evr2zbvHlzXH/99fHBBx/ERRdd9JH3LpVKUSqVKs+LxWI0Nzc7\\\n",
              "dwaoWc4BpJpcBcywzJgxI2bMmDGsfd9777247rrrIpfLxdNPPz0g/iIi2tra4hvf+EYcPnw4Jk6c\\\n",
              "GBERGzdujCuuuGLQ+IuIaGhoiIaGhrM7CAAgIvwImBH23nvvxbXXXhtz5syJb33rW7F3794oFAoD\\\n",
              "zu37i7/4i6ivr4+lS5fGO++8Ey+88EI8+eST0dnZWcXJASAdVgAZURs3bowdO3bEjh07Yvbs2QNe\\\n",
              "O3a2QSaTiR/96EfR0dERuVwuLrnkklixYoV7AALAGHEOIDXJuTNArfM5RjX5ETAAQGIEIABAYgQg\\\n",
              "AEBiBCAAQGIEIABAYgQgAEBiBCAAQGIEIABAYgQgAEBiBCAAQGIEIABAYgQgAEBiBCAAQGIEIABA\\\n",
              "YgQgAEBiBCAAQGIEIABAYgQgAEBiBCAAQGIEIABAYgQgAJyGQqEwovtBNQhAABimnp6e2LBhQ+Tz\\\n",
              "+SH3y+fzsWHDhujp6RmbweA0CUAAGIZCoVAJuu7u7pNGYD6fj+7u7og4GoxWAjkXCUAAGIZsNhut\\\n",
              "ra2V54NF4PHxFxHR2toa2Wx2rEaEYROAADBMLS0tJ43AweKvpaVljCeE4Tm/2gMAQC05FnXHYq+7\\\n",
              "uzvefPPNKJVKlX3EH+c6AQgAp+n4CNz8f7dVtl/3l1eKP2qCHwEDwBloaWmJhoaGAdsaGhrEHzVB\\\n",
              "AALAGcjn8wN+7BsRUSqVTnmLGDgX+BEwAJym4y/4uO4vr4yGhoZKDB7bbiWQc5kVQAA4DYNd7dve\\\n",
              "3n7KW8TAuUQAAsAwDXWrl6FuEQPnGgEIAMNQKBROeZ+/wSLQN4FwLhKAADAM2Ww2crlcRAx9n7/j\\\n",
              "IzCXy/kmEM5JLgIBgGHK5XJx2WWXnTLqWlpaIpvNij/OWVYAAeA0DDfqxB/nMgEIAJAYAQgAkBgB\\\n",
              "CACQGAEIAJAYAQgAkBgBCACQGAEIAJAYN4KmJpXL5YiIKBaLVZ4E4Mwc+/w69nkGY0kAUpP2798f\\\n",
              "ERHNzc1VngTg7Ozfvz8ymUy1xyAxdWV/9aAG9ff3x+7du2Pq1KlRV1dX7XFGVLFYjObm5ti1a1c0\\\n",
              "NjZWe5xR4zjHF8d5+srlcuzfvz9mzZoVEyY4I4uxZQWQmjRhwoSYPXt2tccYVY2NjeP6f6THOM7x\\\n",
              "xXGeHit/VIu/cgAAJEYAAgAkRgDCOaahoSEeeeSRaGhoqPYoo8pxji+OE2qLi0AAABJjBRAAIDEC\\\n",
              "EAAgMQIQACAxAhAAIDECEM4hjz76aHz2s5+NyZMnx7Rp0wbdZ+fOnXHDDTfE5MmTY+bMmfH1r389\\\n",
              "Pvzww7Ed9Cw99dRT8bGPfSwuuOCCuPrqq6O7u7vaI5211157Lb70pS/FrFmzoq6uLtavXz/g9XK5\\\n",
              "HCtWrIhLL700Jk2aFAsXLoxf/OIX1Rn2DK1cuTI+85nPxNSpU2PmzJlx0003xfbt2wfsc/Dgwejo\\\n",
              "6IiLL744pkyZErfcckv09vZWaeIzs3r16rjqqqsqN3tua2uLl19+ufL6eDhGEIBwDjl06FDcdttt\\\n",
              "cc899wz6+pEjR+KGG26IQ4cOxU9+8pN49tln45lnnokVK1aM8aRn7oUXXojOzs545JFH4qc//Wks\\\n",
              "WLAgFi9eHHv27Kn2aGflwIEDsWDBgnjqqacGfX3VqlXxne98J9asWRNbt26NCy+8MBYvXhwHDx4c\\\n",
              "40nP3JYtW6KjoyNef/312LhxYxw+fDgWLVoUBw4cqOxz//33x0svvRQvvvhibNmyJXbv3h0333xz\\\n",
              "Fac+fbNnz47HHnssenp64o033ojrr78+brzxxnjnnXciYnwcI0QZOOc8/fTT5Uwm85Ht//Zv/1ae\\\n",
              "MGFCuVAoVLatXr263NjYWC6VSmM44ZlrbW0td3R0VJ4fOXKkPGvWrPLKlSurONXIiojyunXrKs/7\\\n",
              "+/vL2Wy2/Pjjj1e27du3r9zQ0FB+7rnnqjDhyNizZ085Ispbtmwpl8tHj2nixInlF198sbLPz3/+\\\n",
              "83JElLu6uqo15oi46KKLyv/0T/80ro+RtFgBhBrS1dUVn/rUp6KpqamybfHixVEsFiurE+eyQ4cO\\\n",
              "RU9PTyxcuLCybcKECbFw4cLo6uqq4mSj6913341CoTDguDOZTFx99dU1fdx9fX0RETF9+vSIiOjp\\\n",
              "6YnDhw8POM4rr7wy5syZU7PHeeTIkXj++efjwIED0dbWNi6PkTSdX+0BgOErFAoD4i8iKs8LhUI1\\\n",
              "Rjotv/71r+PIkSODHsO2bduqNNXoO/ZnM9hx18Kf22D6+/tj2bJl8bnPfS4++clPRsTR46yvr//I\\\n",
              "+au1eJxvvfVWtLW1xcGDB2PKlCmxbt26mD9/fuTz+XFzjKTNCiCMsgcffDDq6uqGfIzn+GF86ujo\\\n",
              "iLfffjuef/75ao8yKq644orI5/OxdevWuOeee6K9vT1+9rOfVXssGDFWAGGUPfDAA3HHHXcMuc/l\\\n",
              "l18+rPfKZrMfuWL22NWH2Wz2jOYbS5dcckmcd955H7lisre3tybmP1PHjq23tzcuvfTSyvbe3t5o\\\n",
              "aWmp0lRn7t57740f/OAH8dprr8Xs2bMr27PZbBw6dCj27ds3YIWsFv986+vrY968eRERkcvl4t//\\\n",
              "/d/jySefjC9/+cvj5hhJmxVAGGUzZsyIK6+8cshHfX39sN6rra0t3nrrrQFXzG7cuDEaGxtj/vz5\\\n",
              "o3UII6a+vj5yuVxs2rSpsq2/vz82bdoUbW1tVZxsdM2dOzey2eyA4y4Wi7F169aaOu5yuRz33ntv\\\n",
              "rFu3Ln784x/H3LlzB7yey+Vi4sSJA45z+/btsXPnzpo6zsH09/dHqVQa18dIWqwAwjlk586d8cEH\\\n",
              "H8TOnTvjyJEjkc/nIyJi3rx5MWXKlFi0aFHMnz8/vvrVr8aqVauiUCjEQw89FB0dHdHQ0FDd4Yep\\\n",
              "s7Mz2tvb49Of/nS0trbGE088EQcOHIg777yz2qOdld/+9rexY8eOyvN333038vl8TJ8+PebMmRPL\\\n",
              "li2Lb37zm/Hxj3885s6dGw8//HDMmjUrbrrppuoNfZo6Ojpi7dq18f3vfz+mTp1aOectk8nEpEmT\\\n",
              "IpPJxNKlS6OzszOmT58ejY2Ncd9990VbW1tcc801VZ5++JYvXx5LliyJOXPmxP79+2Pt2rXx6quv\\\n",
              "xiuvvDJujhHcBgbOIe3t7eWI+Mhj8+bNlX1++ctflpcsWVKeNGlS+ZJLLik/8MAD5cOHD1dv6DPw\\\n",
              "3e9+tzxnzpxyfX19ubW1tfz6669Xe6Sztnnz5kH/7Nrb28vl8tFbwTz88MPlpqamckNDQ/kLX/hC\\\n",
              "efv27dUd+jQNdnwRUX766acr+/zud78r//Vf/3X5oosuKk+ePLn8Z3/2Z+X333+/ekOfga997Wvl\\\n",
              "P/iDPyjX19eXZ8yYUf7CF75Q/tGPflR5fTwcI9SVy+Xy2GcnAADV4hxAAIDECEAAgMQIQACAxAhA\\\n",
              "AIDECEAAgMQIQACAxAhAAIDECEAAgMQIQACAxAhAAIDECEAAgMQIQACAxAhAAIDECEAAgMQIQACA\\\n",
              "xAhAAIDECEAAgMQIQACAxAhAAIDECEAAgMQIQACAxAhAAIDECEAAgMQIQACAxAhAAIDECEAAgMQI\\\n",
              "QACAxAhAAIDECEAAgMQIQACAxAhAAIDE/H9y3pGjpRPbhwAAAABJRU5ErkJggg==\\\n",
              "\"\n",
              "  frames[4] = \"data:image/png;base64,iVBORw0KGgoAAAANSUhEUgAAAoAAAAHgCAYAAAA10dzkAAAAOnRFWHRTb2Z0d2FyZQBNYXRwbG90\\\n",
              "bGliIHZlcnNpb24zLjEwLjAsIGh0dHBzOi8vbWF0cGxvdGxpYi5vcmcvlHJYcgAAAAlwSFlzAAAP\\\n",
              "YQAAD2EBqD+naQAAIndJREFUeJzt3X+M1PWd+PHXUtgVHGYQhZ1dWK54NFrSShPqj23vGms5KPEa\\\n",
              "PX+cl8u3oiX24q0miOmdXBXz/aYWo81V21i45O60l2+ofv1+A/1qzlq+FDH5dsVKv/TUHpuSswfZ\\\n",
              "3VnoWXZYUhaWne8fhjkWl2WB3R1m3o9HMsH5zIfh9QlxeO57PvOZulKpVAoAAJIxqdIDAAAwsQQg\\\n",
              "AEBiBCAAQGIEIABAYgQgAEBiBCAAQGIEIABAYgQgAEBiBCAAQGIEIABAYgQgAEBiBCAAQGIEIABA\\\n",
              "YgQgAEBiBCAAQGIEIABAYgQgAEBiBCAAQGIEIABAYgQgAEBiBCAAQGIEIABAYgQgAEBiBCAAQGIE\\\n",
              "IABAYgQgAEBiBCAAQGIEIABAYgQgAEBiBCAAQGIEIABAYgQgAEBiBCAAQGIEIABAYgQgAEBiBCAA\\\n",
              "QGIEIABAYgQgAEBiBCAAQGIEIABAYgQgAEBiBCAAQGIEIABAYgQgAEBiBCAAQGIEIABAYgQgAEBi\\\n",
              "BCAAQGIEIABAYgQgAEBiBCAAQGIEIABAYgQgAEBiBCAAQGIEIABAYgQgAEBiJld6ADgXg4OD0dXV\\\n",
              "FdOnT4+6urpKjwNw1kqlUhw6dCiam5tj0iTrMUwsAUhV6urqipaWlkqPAXDe9u3bF3Pnzq30GCRG\\\n",
              "AFKVpk+fHhEfvHBms9kKTwNw9orFYrS0tJRfz2AiCUCq0om3fbPZrAAEqprTWKgEJx0AACRGAAIA\\\n",
              "JEYAAgAkRgACACRGAAIAJEYAAgAkRgBClejr6xvT/QBIlwCEKtDV1RUdHR1RKBRG3K9QKERHR0d0\\\n",
              "dXVN0GQAVCMBCBe4vr6+6O7ujoiIzs7O00ZgoVCIzs7OiIjo7u62EgjAaQlAuMBlMpmYM2dO+f5w\\\n",
              "EXhy/EVEzJkzJzKZzITNCEB1EYBQBfL5/GkjcLj4y+fzEz4jANXDdwFDlTgRdSdir7OzM3p6emJg\\\n",
              "YKC8j/gDYDSsAEIVOXUlUPwBcC6sAEKVyefzH6z8PfPZ8rbJbf9X/AEwalYAocoUCoUhK38RH6wE\\\n",
              "nukSMQBwggCEKnLqBz4mn/R/8EiXiAGAk3kLGKrEhz7t+9/2RD6fH7L9xK/eDgZgJFYAoQqMdKmX\\\n",
              "kS4RAwDDEYBwgevr6zvjdf6Gi0DfBALA6QhAuMBlMploamqKiJEv9XJyBDY1NfkmEABOyzmAUAWa\\\n",
              "m5sjm82eMery+XxkMhnxB8CIrAAy5tavXx9XXXVVZLPZyGaz0draGq+88kr58SNHjkRbW1tceuml\\\n",
              "kclk4tZbb42enp4KTlwdRht14g+AMxGAjLm5c+fG448/Hjt37oy33norbrjhhrjpppvi3XffjYiI\\\n",
              "Bx54IF566aV48cUXY/v27dHV1RW33HJLhacGgHTUlUqlUqWHoPbNnDkznnzyybjtttti1qxZsXHj\\\n",
              "xrjtttsiImL37t3x8Y9/PNrb2+O6664b1fMVi8XI5XLR29sb2Wx2PEcHGBdex6gkK4CMq+PHj8fz\\\n",
              "zz8fhw8fjtbW1ti5c2ccO3YslixZUt7nyiuvjHnz5kV7e3sFJwVqxWg/Ae+T8qTMh0AYF2+//Xa0\\\n",
              "trbGkSNHIpPJxKZNm2LhwoWxa9euqK+vjxkzZgzZv7GxccRr1/X390d/f3/5frFYHK/RgSrW1dUV\\\n",
              "3d3dI35iPuI/r63Z1NQUzc3NEzghXBisADIurrjiiti1a1fs2LEj7r333lixYkX88pe/POfnW7du\\\n",
              "XeRyufKtpaVlDKcFakFfX190d3dHxMgXRD/5wurd3d1WAkmSAGRc1NfXx4IFC2Lx4sWxbt26WLRo\\\n",
              "UTz99NORz+fj6NGjcfDgwSH79/T0jPjT+po1a6K3t7d827dv3zgfAVBtMpnMGb8VZ7hv1fHJeVIk\\\n",
              "AJkQg4OD0d/fH4sXL44pU6bE1q1by491dHTE3r17o7W19bS/v6GhoXxZmRM3gFON9NWII32lIqTG\\\n",
              "OYCMuTVr1sTy5ctj3rx5cejQodi4cWO89tpr8eqrr0Yul4uVK1fG6tWrY+bMmZHNZuP++++P1tbW\\\n",
              "UX8CGGAkJ6LuROx1dnZGT09PDAwMlPcRf6ROADLm9u/fH3feeWd0d3dHLpeLq666Kl599dX4oz/6\\\n",
              "o4iI+Pa3vx2TJk2KW2+9Nfr7+2PZsmXxve99r8JTA7Xk1AgUfzCU6wBSlVw/CxiNX/ziF/HFb79W\\\n",
              "vv+jB66PRYsWVWyek3kdo5KcAwhATSoUCkNW/iI+WAkc6ZJTkAoBCEDNOfUDH3WT/vOfu5EuEQOp\\\n",
              "cA4gADXl1Pj7f4/fEfl8fsj2E786F5BUWQEEoGaMdKmXkS4RA6kRgADUhL6+vjNe52+4CPRNIKRI\\\n",
              "AAJQEzKZTDQ1NUXEyJd6OTkCm5qafBMISXIOIAA1o7m5ObLZ7BmjLp/PRyaTEX8kywogADVltFEn\\\n",
              "/kiZAAQASIwABABIjAAEAEiMAAQASIwABABIjAAEAEiMAAQASIwABABIjAAEAEiMAAQASIwABABI\\\n",
              "jAAEAEiMAAQASIwABABIjAAEAEiMAAQASIwABABIjAAEAEiMAAQASIwABABIjAAEAEiMAAQASIwA\\\n",
              "BABIjAAEAEiMAAQASIwABABIjAAEAEiMAAQASIwABABIjAAEAEiMAAQASIwABABIjAAEAEiMAAQA\\\n",
              "SIwApKb19fWN6X4AUAsEIDWrq6srOjo6olAojLhfoVCIjo6O6OrqmqDJAKCyBCA1qa+vL7q7uyMi\\\n",
              "orOz87QRWCgUorOzMyIiuru7rQQCkAQBSE3KZDIxZ86c8v3hIvDk+IuImDNnTmQymQmbEQAqZXKl\\\n",
              "B4Dxks/nIyLKkXfi199e//k4MDAQ+wcGYv7/+p8R8UH8ndgfAGqdFUDG3Lp16+Lqq6+O6dOnx+zZ\\\n",
              "s+Pmm2+Ojo6OIfscOXIk2tra4tJLL41MJhO33npr9PT0jPks+Xz+QyuBu48cif0DA+Vt4g+A1AhA\\\n",
              "xtz27dujra0t3njjjdiyZUscO3Ysli5dGocPHy7v88ADD8RLL70UL774Ymzfvj26urrilltuGZd5\\\n",
              "To3A4yc9Jv4ASFFdqVQqVXoIatuBAwdi9uzZsX379vjc5z4Xvb29MWvWrNi4cWPcdtttERGxe/fu\\\n",
              "+PjHPx7t7e1x3XXXnfE5i8Vi5HK56O3tjWw2O6o5fvGLX8TASSt/kydPjkWLFp3bQQGcp3N5HYOx\\\n",
              "YgWQcdfb2xsRETNnzoyIiJ07d8axY8diyZIl5X2uvPLKmDdvXrS3t4/LDIVCYUj8RUQMDAyc8RIx\\\n",
              "AFCLfAiEcTU4OBirVq2Kz372s/GJT3wiIj6Isfr6+pgxY8aQfRsbG08bZP39/dHf31++XywWRz3D\\\n",
              "qZ/2nTx5cjkGT2z3NjAAKbECyLhqa2uLd955J55//vnzep5169ZFLpcr31paWkb1+4a71MuiRYvO\\\n",
              "eIkYAKhlApBxc99998XLL78c27Zti7lz55a35/P5OHr0aBw8eHDI/j09PaddiVuzZk309vaWb/v2\\\n",
              "7Tvjnz9c/J14/uE+HSwCAUiFAGTMlUqluO+++2LTpk3xk5/8JObPnz/k8cWLF8eUKVNi69at5W0d\\\n",
              "HR2xd+/eaG1tHfY5GxoaIpvNDrmNpK+v77Txd8JwEeibQABIgXMAGXNtbW2xcePG+OEPfxjTp08v\\\n",
              "r6zlcrmYOnVq5HK5WLlyZaxevTpmzpwZ2Ww27r///mhtbR3VJ4BHI5PJRFNTU3R3d494qZeTLxbd\\\n",
              "1NTkm0AASILLwDDm6urqht3+7LPPxl133RURH1wI+sEHH4wf/OAH0d/fH8uWLYvvfe97o/4wxmgv\\\n",
              "n9DX1zeqqBvtfgBjxWVgqCQBSFXywglUO69jVJJzAAEAEiMAAQASIwABABIjAAEAEiMAAQASIwAB\\\n",
              "ABIjAAEAEiMAAQASIwABABIjAAEAEiMAAQASIwABABIjAAEAEiMAAQASIwABABIjAAEAEiMAAQAS\\\n",
              "IwABABIjAAEAEiMAAQASIwABABIjAAEAEiMAAQASIwABABIjAAEAEiMAAQASIwABABIjAAEAEiMA\\\n",
              "AQASIwABABIjAAEAEiMAAQASIwABABIjAAEAEiMAAQASIwABABIjAAEAEiMAAQASIwABABIjAAEA\\\n",
              "EiMAAQASIwABABIjAAEAEiMAAQASIwABABIjAAEAEiMAAQASIwAZc6+//np86Utfiubm5qirq4vN\\\n",
              "mzcPebxUKsXatWujqakppk6dGkuWLIlf/epXlRkWABIkABlzhw8fjkWLFsUzzzwz7ONPPPFEfOc7\\\n",
              "34kNGzbEjh074uKLL45ly5bFkSNHJnhSAEjT5EoPQO1Zvnx5LF++fNjHSqVSPPXUU/Hwww/HTTfd\\\n",
              "FBER//RP/xSNjY2xefPm+LM/+7OJHBUAkmQFkAn13nvvRaFQiCVLlpS35XK5uPbaa6O9vb2CkwFA\\\n",
              "OqwAMqEKhUJERDQ2Ng7Z3tjYWH5sOP39/dHf31++XywWx2dAAEiAFUCqwrp16yKXy5VvLS0tlR4J\\\n",
              "AKqWAGRC5fP5iIjo6ekZsr2np6f82HDWrFkTvb295du+ffvGdU4AqGUCkAk1f/78yOfzsXXr1vK2\\\n",
              "YrEYO3bsiNbW1tP+voaGhshms0NuAMC5cQ4gY66vry/27NlTvv/ee+/Frl27YubMmTFv3rxYtWpV\\\n",
              "fOMb34iPfexjMX/+/HjkkUeiubk5br755soNDQAJEYCMubfeeis+//nPl++vXr06IiJWrFgRzz33\\\n",
              "XPzVX/1VHD58OL761a/GwYMH4w/+4A/iRz/6UVx00UWVGhkAklJXKpVKlR4CzlaxWIxcLhe9vb3e\\\n",
              "DgaqktcxKsk5gAAAiRGAAACJEYAAAIkRgAAAiRGAUIX6+vrGdD8A0iIAocp0dXVFR0fHiN+dHPHB\\\n",
              "9y53dHREV1fXBE0GQLUQgFBF+vr6oru7OyIiOjs7TxuBhUIhOjs7IyKiu7vbSiAAQwhAqCKZTCbm\\\n",
              "zJlTvj9cBJ4cfxERc+bMiUwmM2EzQi1y2gW1RgBClcnn86eNwOHiL5/PT/iMUEucdkEt8lVwUIVO\\\n",
              "RN2J2Ovs7Iyenp4YGBgo7yP+4PydetpFRAz7/9Wpp11ks1kr71zQrABClTp1JVD8wdhz2gW1ygog\\\n",
              "VLF8Pl9e+bvj5Ts+2DgpYs8jeyo7GNSQ4VbcT2x32gXVSgBCFSsUCkNW/iIiYvCD7f4RgrHjtAtq\\\n",
              "jQCEKnXqykNMiojBD/5zpHOVgHNzagQODAzEf39oVUREZKc2xH/93/+nUqPBWROAUIWGe9tpzyN7\\\n",
              "hmwXgTD2Tj7t4oRJk+oiO/WiCk4FZ8+HQKDKjHTO0UiXiAHO33CnXQwOlqL4uyMVmgjOjRVAqCJ9\\\n",
              "fX1nPOF8uHOVMpmMTyXCeTr1h6/JkyfHf3n8qSGPW3GnWlgBhCqSyWSiqakpIkY+4fzklcCmpibx\\\n",
              "B+dpuJX3RYsWWXGnalkBhCrT3Nw8qovM5vN5K38wBs502kXE8JeIgQuZFUCoQqONOvEH52e0p12c\\\n",
              "uhLoO4G50AlAADgNp11Qq7wFDAAjcNoFtcgKIACcgdMuqDUCEAAgMQIQACAxAhAAIDECEAAgMQIQ\\\n",
              "ACAxAhAAIDECEAAgMQIQACAxAhAAIDECEAAgMQIQACAxAhAAIDECEAAgMQIQACAxAhAAIDECEAAg\\\n",
              "MQIQACAxAhAAIDECEAAgMQIQACAxAhAAIDECEAAgMQIQACAxAhAAIDECkIp65pln4qMf/WhcdNFF\\\n",
              "ce2118abb75Z6ZEAoOYJQCrmhRdeiNWrV8ejjz4aP//5z2PRokWxbNmy2L9/f6VHA4CaJgCpmL/9\\\n",
              "27+Ne+65J+6+++5YuHBhbNiwIaZNmxb/+I//WOnRAKCmCUAq4ujRo7Fz585YsmRJedukSZNiyZIl\\\n",
              "0d7eXsHJAKD2Ta70AKTpN7/5TRw/fjwaGxuHbG9sbIzdu3d/aP/+/v7o7+8v3y8Wi+M+IwDUKiuA\\\n",
              "VIV169ZFLpcr31paWio9EgBULQFIRVx22WXxkY98JHp6eoZs7+npiXw+/6H916xZE729veXbvn37\\\n",
              "JmpUAKg5ApCKqK+vj8WLF8fWrVvL2wYHB2Pr1q3R2tr6of0bGhoim80OuQEA58Y5gFTM6tWrY8WK\\\n",
              "FfHpT386rrnmmnjqqafi8OHDcffdd1d6NACoaQKQirnjjjviwIEDsXbt2igUCvGpT30qfvSjH33o\\\n",
              "gyEAwNiqK5VKpUoPAWerWCxGLpeL3t5ebwcDVcnrGJXkHEAAgMQIQACAxAhAAIDECEAAgMQIQACA\\\n",
              "xAhAAIDECEAAgMQIQACAxAhAAIDECEAAgMQIQACAxAhAAIDECEAAgMQIQACAxAhAAIDECEAAgMQI\\\n",
              "QACAxAhAAIDECEAAgMQIQACAxAhAAIDECEAAgMQIQACAxAhAAIDECEAAgMQIQACAxAhAAIDECEAA\\\n",
              "gMQIQACAxAhAAIDECEAAgMQIQACAxAhAAIDECEAAgMQIQACAxAhAAIDECEAAgMQIQACAxAhAAIDE\\\n",
              "CEAAgMQIQACAxAhAAIDECEAAgMQIQACAxAhAAIDECEAAgMQIQACAxAhAxtxjjz0Wn/nMZ2LatGkx\\\n",
              "Y8aMYffZu3dv3HjjjTFt2rSYPXt2fO1rX4uBgYGJHRQAEjW50gNQe44ePRq33357tLa2xj/8wz98\\\n",
              "6PHjx4/HjTfeGPl8Pn76059Gd3d33HnnnTFlypT45je/WYGJASAtdaVSqVTpIahNzz33XKxatSoO\\\n",
              "Hjw4ZPsrr7wSf/zHfxxdXV3R2NgYEREbNmyIv/7rv44DBw5EfX39GZ+7WCxGLpeL3t7eyGaz4zE+\\\n",
              "wLjyOkYleQuYCdfe3h6f/OQny/EXEbFs2bIoFovx7rvvVnAyAEiDt4CZcIVCYUj8RUT5fqFQGPb3\\\n",
              "9Pf3R39/f/l+sVgcvwEBoMZZAWRUHnrooairqxvxtnv37nH789etWxe5XK58a2lpGbc/CwBqnRVA\\\n",
              "RuXBBx+Mu+66a8R9Lr/88lE9Vz6fjzfffHPItp6envJjw1mzZk2sXr26fL9YLIpAADhHApBRmTVr\\\n",
              "VsyaNWtMnqu1tTUee+yx2L9/f8yePTsiIrZs2RLZbDYWLlw47O9paGiIhoaGMfnzASB1ApAxt3fv\\\n",
              "3nj//fdj7969cfz48di1a1dERCxYsCAymUwsXbo0Fi5cGF/+8pfjiSeeiEKhEA8//HC0tbWJPACY\\\n",
              "AC4Dw5i766674vvf//6Htm/bti2uv/76iIj493//97j33nvjtddei4svvjhWrFgRjz/+eEyePLqf\\\n",
              "SVw+Aah2XseoJAFIVfLCCVQ7r2NUkk8BAwAkRgACACRGAAIAJEYAAgAkRgACACRGAAIAJEYAAgAk\\\n",
              "RgACACRGAAIAJEYAAgAkRgACACRGAAIAJEYAAgAkRgACACRGAAIAJEYAAgAkRgACACRGAAIAJEYA\\\n",
              "AgAkRgACACRGAAIAJEYAAgAkRgACACRGAAIAJEYAAgAkRgACACRGAAIAJEYAAgAkRgACACRGAAIA\\\n",
              "JEYAAgAkRgACACRGAAIAJEYAAgAkRgACACRGAAIAJEYAAgAkRgACACRGAAIAJEYAAgAkRgACACRG\\\n",
              "AAIAJEYAAgAkRgACACRGAAIAJEYAAgAkRgACACRGADKmfv3rX8fKlStj/vz5MXXq1Pj93//9ePTR\\\n",
              "R+Po0aND9vuXf/mX+MM//MO46KKLoqWlJZ544okKTQwA6Zlc6QGoLbt3747BwcH4u7/7u1iwYEG8\\\n",
              "8847cc8998Thw4fjW9/6VkREFIvFWLp0aSxZsiQ2bNgQb7/9dnzlK1+JGTNmxFe/+tUKHwEA1L66\\\n",
              "UqlUqvQQ1LYnn3wy1q9fH//2b/8WERHr16+Pr3/961EoFKK+vj4iIh566KHYvHlz7N69e1TPWSwW\\\n",
              "I5fLRW9vb2Sz2XGbHWC8eB2jkrwFzLjr7e2NmTNnlu+3t7fH5z73uXL8RUQsW7YsOjo64re//W0l\\\n",
              "RgSApAhAxtWePXviu9/9bvzFX/xFeVuhUIjGxsYh+524XygUhn2e/v7+KBaLQ24AwLkRgIzKQw89\\\n",
              "FHV1dSPeTn37trOzM774xS/G7bffHvfcc895/fnr1q2LXC5XvrW0tJzX8wFAypwDyKgcOHAg/uM/\\\n",
              "/mPEfS6//PLy27pdXV1x/fXXx3XXXRfPPfdcTJr0nz9r3HnnnVEsFmPz5s3lbdu2bYsbbrgh3n//\\\n",
              "/bjkkks+9Nz9/f3R399fvl8sFqOlpcW5M0DVcg4gleRTwIzKrFmzYtasWaPat7OzMz7/+c/H4sWL\\\n",
              "49lnnx0SfxERra2t8fWvfz2OHTsWU6ZMiYiILVu2xBVXXDFs/EVENDQ0RENDw/kdBAAQEd4CZox1\\\n",
              "dnbG9ddfH/PmzYtvfetbceDAgSgUCkPO7fvzP//zqK+vj5UrV8a7774bL7zwQjz99NOxevXqCk4O\\\n",
              "AOmwAsiY2rJlS+zZsyf27NkTc+fOHfLYibMNcrlc/PjHP462trZYvHhxXHbZZbF27VrXAASACeIc\\\n",
              "QKqSc2eAaud1jEryFjAAQGIEIABAYgQgAEBiBCAAQGIEIABAYgQgAEBiBCAAQGIEIABAYgQgAEBi\\\n",
              "BCAAQGIEIABAYgQgAEBiBCAAQGIEIABAYgQgAEBiBCAAQGIEIABAYgQgAEBiBCAAQGIEIABAYgQg\\\n",
              "AJyFvr6+Md0PKkEAAsAodXV1RUdHRxQKhRH3KxQK0dHREV1dXRM0GZwdAQgAo9DX1xfd3d0REdHZ\\\n",
              "2XnaCCwUCtHZ2RkREd3d3VYCuSAJQAAYhUwmE3PmzCnfHy4CT46/iIg5c+ZEJpOZsBlhtAQgAIxS\\\n",
              "Pp8/bQQOF3/5fH7CZ4TRmFzpAQCgmpyIuhOx19nZGT09PTEwMFDeR/xxoROAAHCWTo7A//HNn5W3\\\n",
              "/+nfXC3+qAreAgaAc5DP52Py5KHrKJMnTxZ/VAUBCADnoFAoDHnbNyJiYGDgjJeIgQuBt4AB4Cyd\\\n",
              "/IGPP/2bq2Py5MnlGDyx3UogFzIrgABwFob7tO+iRYvOeIkYuJAIQAAYpZEu9TLSJWLgQiMAAWAU\\\n",
              "+vr6znidv+Ei0DeBcCESgAAwCplMJpqamiJi5Ov8nRyBTU1NvgmEC5IPgQDAKDU3N0c2mz1j1OXz\\\n",
              "+chkMuKPC5YVQAA4C6ONOvHHhUwAAgAkRgACACRGAAIAJEYAAgAkRgACACRGAAIAJEYAAgAkxoWg\\\n",
              "qUqlUikiIorFYoUnATg3J16/TryewUQSgFSlQ4cORURES0tLhScBOD+HDh2KXC5X6TFITF3Jjx5U\\\n",
              "ocHBwejq6orp06dHXV1dpccZU8ViMVpaWmLfvn2RzWYrPc64cZy1xXGevVKpFIcOHYrm5uaYNMkZ\\\n",
              "WUwsK4BUpUmTJsXcuXMrPca4ymazNf0P6QmOs7Y4zrNj5Y9K8SMHAEBiBCAAQGIEIFxgGhoa4tFH\\\n",
              "H42GhoZKjzKuHGdtcZxQXXwIBAAgMVYAAQASIwABABIjAAEAEiMAAQASIwDhAvLYY4/FZz7zmZg2\\\n",
              "bVrMmDFj2H327t0bN954Y0ybNi1mz54dX/va12JgYGBiBz1PzzzzTHz0ox+Niy66KK699tp48803\\\n",
              "Kz3SeXv99dfjS1/6UjQ3N0ddXV1s3rx5yOOlUinWrl0bTU1NMXXq1FiyZEn86le/qsyw52jdunVx\\\n",
              "9dVXx/Tp02P27Nlx8803R0dHx5B9jhw5Em1tbXHppZdGJpOJW2+9NXp6eio08blZv359XHXVVeWL\\\n",
              "Pbe2tsYrr7xSfrwWjhEEIFxAjh49Grfffnvce++9wz5+/PjxuPHGG+Po0aPx05/+NL7//e/Hc889\\\n",
              "F2vXrp3gSc/dCy+8EKtXr45HH300fv7zn8eiRYti2bJlsX///kqPdl4OHz4cixYtimeeeWbYx594\\\n",
              "4on4zne+Exs2bIgdO3bExRdfHMuWLYsjR45M8KTnbvv27dHW1hZvvPFGbNmyJY4dOxZLly6Nw4cP\\\n",
              "l/d54IEH4qWXXooXX3wxtm/fHl1dXXHLLbdUcOqzN3fu3Hj88cdj586d8dZbb8UNN9wQN910U7z7\\\n",
              "7rsRURvHCFECLjjPPvtsKZfLfWj7P//zP5cmTZpUKhQK5W3r168vZbPZUn9//wROeO6uueaaUltb\\\n",
              "W/n+8ePHS83NzaV169ZVcKqxFRGlTZs2le8PDg6W8vl86cknnyxvO3jwYKmhoaH0gx/8oAITjo39\\\n",
              "+/eXIqK0ffv2Uqn0wTFNmTKl9OKLL5b3+dd//ddSRJTa29srNeaYuOSSS0p///d/X9PHSFqsAEIV\\\n",
              "aW9vj09+8pPR2NhY3rZs2bIoFovl1YkL2dGjR2Pnzp2xZMmS8rZJkybFkiVLor29vYKTja/33nsv\\\n",
              "CoXCkOPO5XJx7bXXVvVx9/b2RkTEzJkzIyJi586dcezYsSHHeeWVV8a8efOq9jiPHz8ezz//fBw+\\\n",
              "fDhaW1tr8hhJ0+RKDwCMXqFQGBJ/EVG+XygUKjHSWfnNb34Tx48fH/YYdu/eXaGpxt+Jv5vhjrsa\\\n",
              "/t6GMzg4GKtWrYrPfvaz8YlPfCIiPjjO+vr6D52/Wo3H+fbbb0dra2scOXIkMplMbNq0KRYuXBi7\\\n",
              "du2qmWMkbVYAYZw99NBDUVdXN+KtluOH2tTW1hbvvPNOPP/885UeZVxcccUVsWvXrtixY0fce++9\\\n",
              "sWLFivjlL39Z6bFgzFgBhHH24IMPxl133TXiPpdffvmoniufz3/oE7MnPn2Yz+fPab6JdNlll8VH\\\n",
              "PvKRD31isqenpyrmP1cnjq2npyeamprK23t6euJTn/pUhaY6d/fdd1+8/PLL8frrr8fcuXPL2/P5\\\n",
              "fBw9ejQOHjw4ZIWsGv9+6+vrY8GCBRERsXjx4vjZz34WTz/9dNxxxx01c4ykzQogjLNZs2bFlVde\\\n",
              "OeKtvr5+VM/V2toab7/99pBPzG7ZsiWy2WwsXLhwvA5hzNTX18fixYtj69at5W2Dg4OxdevWaG1t\\\n",
              "reBk42v+/PmRz+eHHHexWIwdO3ZU1XGXSqW47777YtOmTfGTn/wk5s+fP+TxxYsXx5QpU4YcZ0dH\\\n",
              "R+zdu7eqjnM4g4OD0d/fX9PHSFqsAMIFZO/evfH+++/H3r174/jx47Fr166IiFiwYEFkMplYunRp\\\n",
              "LFy4ML785S/HE088EYVCIR5++OFoa2uLhoaGyg4/SqtXr44VK1bEpz/96bjmmmviqaeeisOHD8fd\\\n",
              "d99d6dHOS19fX+zZs6d8/7333otdu3bFzJkzY968ebFq1ar4xje+ER/72Mdi/vz58cgjj0Rzc3Pc\\\n",
              "fPPNlRv6LLW1tcXGjRvjhz/8YUyfPr18zlsul4upU6dGLpeLlStXxurVq2PmzJmRzWbj/vvvj9bW\\\n",
              "1rjuuusqPP3orVmzJpYvXx7z5s2LQ4cOxcaNG+O1116LV199tWaOEVwGBi4gK1asKEXEh27btm0r\\\n",
              "7/PrX/+6tHz58tLUqVNLl112WenBBx8sHTt2rHJDn4Pvfve7pXnz5pXq6+tL11xzTemNN96o9Ejn\\\n",
              "bdu2bcP+3a1YsaJUKn1wKZhHHnmk1NjYWGpoaCh94QtfKHV0dFR26LM03PFFROnZZ58t7/O73/2u\\\n",
              "9Jd/+ZelSy65pDRt2rTSn/zJn5S6u7srN/Q5+MpXvlL6vd/7vVJ9fX1p1qxZpS984QulH//4x+XH\\\n",
              "a+EYoa5UKpUmPjsBAKgU5wACACRGAAIAJEYAAgAkRgACACRGAAIAJEYAAgAkRgACACRGAAIAJEYA\\\n",
              "AgAkRgACACRGAAIAJEYAAgAkRgACACRGAAIAJEYAAgAkRgACACRGAAIAJEYAAgAkRgACACRGAAIA\\\n",
              "JEYAAgAkRgACACRGAAIAJEYAAgAkRgACACRGAAIAJEYAAgAkRgACACRGAAIAJEYAAgAkRgACACTm\\\n",
              "/wM/8peVg/PuJwAAAABJRU5ErkJggg==\\\n",
              "\"\n",
              "\n",
              "\n",
              "    /* set a timeout to make sure all the above elements are created before\n",
              "       the object is initialized. */\n",
              "    setTimeout(function() {\n",
              "        animbf18fa8feeef42df9ff1917d1946c4bf = new Animation(frames, img_id, slider_id, 500.0,\n",
              "                                 loop_select_id);\n",
              "    }, 0);\n",
              "  })()\n",
              "</script>\n"
            ],
            "text/plain": [
              "<IPython.core.display.HTML object>"
            ]
          },
          "execution_count": 73,
          "metadata": {},
          "output_type": "execute_result"
        }
      ],
      "source": [
        "X = data.clone()\n",
        "fig,ax = plt.subplots()\n",
        "ani = FuncAnimation(fig, do_one, frames=5, interval=500, repeat=False)\n",
        "plt.close()\n",
        "HTML(ani.to_jshtml())"
      ]
    },
    {
      "cell_type": "markdown",
      "metadata": {
        "id": "z5VLA_KBrai2"
      },
      "source": [
        "## Running the Algorithm on the GPU"
      ]
    },
    {
      "cell_type": "markdown",
      "metadata": {
        "id": "Uvdjd171wyDi"
      },
      "source": [
        "Instead of updating one data point at a time:\n",
        "\n",
        "```python\n",
        "def one_update(X):\n",
        "    for i, x in enumerate(X):\n",
        "        dist = torch.sqrt(((x-X)**2).sum(1))\n",
        "        weight = gaussian(dist, 2.5)\n",
        "        X[i] = (weight[:,None]*X).sum(0)/weight.sum()\n",
        "```\n",
        "\n",
        "What if we updates one batch at a time on the GPU?"
      ]
    },
    {
      "cell_type": "code",
      "execution_count": 74,
      "metadata": {
        "colab": {
          "base_uri": "https://localhost:8080/"
        },
        "id": "LP6eOyYHAjk-",
        "outputId": "4e4708eb-f6ad-4c71-9a8b-dc5ec04ab5b7"
      },
      "outputs": [
        {
          "data": {
            "text/plain": [
              "(torch.Size([5, 2]), torch.Size([1500, 2]))"
            ]
          },
          "execution_count": 74,
          "metadata": {},
          "output_type": "execute_result"
        }
      ],
      "source": [
        "bs=5\n",
        "X = data.clone()\n",
        "x = X[:bs]\n",
        "x.shape,X.shape"
      ]
    },
    {
      "cell_type": "markdown",
      "metadata": {
        "id": "7Mbve-yjxep4"
      },
      "source": [
        "To calculate the distance between the two, we have to first subtract them. To do this subtraction, the current dimensions won't work (as 1500 is not compatible with 5):"
      ]
    },
    {
      "cell_type": "code",
      "execution_count": 75,
      "metadata": {
        "colab": {
          "base_uri": "https://localhost:8080/",
          "height": 141
        },
        "id": "aUTsyStVxn76",
        "outputId": "50d7fd6a-10a3-4dba-bd94-73a600ac094a"
      },
      "outputs": [
        {
          "ename": "RuntimeError",
          "evalue": "The size of tensor a (5) must match the size of tensor b (1500) at non-singleton dimension 0",
          "output_type": "error",
          "traceback": [
            "\u001b[0;31m---------------------------------------------------------------------------\u001b[0m",
            "\u001b[0;31mRuntimeError\u001b[0m                              Traceback (most recent call last)",
            "\u001b[0;32m<ipython-input-75-d3d3295c0dec>\u001b[0m in \u001b[0;36m<cell line: 0>\u001b[0;34m()\u001b[0m\n\u001b[0;32m----> 1\u001b[0;31m \u001b[0mx\u001b[0m\u001b[0;34m-\u001b[0m\u001b[0mX\u001b[0m\u001b[0;34m\u001b[0m\u001b[0;34m\u001b[0m\u001b[0m\n\u001b[0m",
            "\u001b[0;31mRuntimeError\u001b[0m: The size of tensor a (5) must match the size of tensor b (1500) at non-singleton dimension 0"
          ]
        }
      ],
      "source": [
        "x-X"
      ]
    },
    {
      "cell_type": "markdown",
      "metadata": {
        "id": "A_O9eyysL5Sw"
      },
      "source": [
        "Let's think about what we are trying to do here. We want to subtract from each point in the batch `x` every point in the full set `X`. So each pair of 1500 coordinates need to be subtracted from each pair of 5 coordinates."
      ]
    },
    {
      "cell_type": "markdown",
      "metadata": {
        "id": "B_BRS6TvOKKU"
      },
      "source": [
        "I find it easier to start with \"just making the dimensions work\" for broadcasting."
      ]
    },
    {
      "cell_type": "code",
      "execution_count": 76,
      "metadata": {
        "colab": {
          "base_uri": "https://localhost:8080/"
        },
        "id": "gQbyS9TFOYOq",
        "outputId": "ebd280c5-981b-49d5-b4b1-465cf4cb2c59"
      },
      "outputs": [
        {
          "data": {
            "text/plain": [
              "(torch.Size([1, 5, 2]), torch.Size([1500, 1, 2]))"
            ]
          },
          "execution_count": 76,
          "metadata": {},
          "output_type": "execute_result"
        }
      ],
      "source": [
        "x[None].shape, X[:,None].shape"
      ]
    },
    {
      "cell_type": "markdown",
      "metadata": {
        "id": "9ejCMDGOOcp2"
      },
      "source": [
        "Going right to left: the last dimension matches (2), 1 is compatible with 5 and 1 is compatible with 1500. We can subtract these two tensors."
      ]
    },
    {
      "cell_type": "code",
      "execution_count": 77,
      "metadata": {
        "colab": {
          "base_uri": "https://localhost:8080/"
        },
        "id": "3z0sBvJ5OOYi",
        "outputId": "b6a5c8c5-dd00-4747-c663-f38bc965afc1"
      },
      "outputs": [
        {
          "data": {
            "text/plain": [
              "torch.Size([1500, 5, 2])"
            ]
          },
          "execution_count": 77,
          "metadata": {},
          "output_type": "execute_result"
        }
      ],
      "source": [
        "(x[None]-X[:,None]).shape"
      ]
    },
    {
      "cell_type": "markdown",
      "metadata": {
        "id": "8gdhzUbQOjey"
      },
      "source": [
        "The result is 1500 sets of 5 coordinate pairs. The 5 coordinate pairs are the difference between the coordinates in batch `x` and a coordinate in `X`."
      ]
    },
    {
      "cell_type": "markdown",
      "metadata": {
        "id": "uRHFaMkgO-sB"
      },
      "source": [
        "Checking this manually, let's take the first point in `x`."
      ]
    },
    {
      "cell_type": "code",
      "execution_count": 78,
      "metadata": {
        "colab": {
          "base_uri": "https://localhost:8080/"
        },
        "id": "Ix31GgfzOwqJ",
        "outputId": "d5f5ddfb-e497-4742-c175-ebf6db35494a"
      },
      "outputs": [
        {
          "data": {
            "text/plain": [
              "torch.Size([2])"
            ]
          },
          "execution_count": 78,
          "metadata": {},
          "output_type": "execute_result"
        }
      ],
      "source": [
        "x[0,:].shape"
      ]
    },
    {
      "cell_type": "markdown",
      "metadata": {
        "id": "-H2JRgZaPCrO"
      },
      "source": [
        "The dimension of 2 is compatible with the last dimension of `X` so we can subtract these shapes directly."
      ]
    },
    {
      "cell_type": "code",
      "execution_count": 79,
      "metadata": {
        "colab": {
          "base_uri": "https://localhost:8080/"
        },
        "id": "nm82iZOyO0vu",
        "outputId": "a293bd2c-da84-4dbe-868c-f2a776042d98"
      },
      "outputs": [
        {
          "data": {
            "text/plain": [
              "torch.Size([1500, 2])"
            ]
          },
          "execution_count": 79,
          "metadata": {},
          "output_type": "execute_result"
        }
      ],
      "source": [
        "(x[0,:] - X).shape"
      ]
    },
    {
      "cell_type": "markdown",
      "metadata": {
        "id": "7p6a-YbrPHe6"
      },
      "source": [
        "This difference is equal to the first item of the batch in the broadcasted version."
      ]
    },
    {
      "cell_type": "code",
      "execution_count": 81,
      "metadata": {
        "colab": {
          "base_uri": "https://localhost:8080/"
        },
        "id": "qfmkS4F5O5jG",
        "outputId": "2effa53b-6762-4b72-9419-c7105cf63f07"
      },
      "outputs": [
        {
          "data": {
            "text/plain": [
              "tensor(1.)"
            ]
          },
          "execution_count": 81,
          "metadata": {},
          "output_type": "execute_result"
        }
      ],
      "source": [
        "((x[0,:] - X) == (x[None]-X[:,None])[:,0,:]).float().mean()"
      ]
    },
    {
      "cell_type": "markdown",
      "metadata": {
        "id": "KlrdERvmSpJU"
      },
      "source": [
        "With that under my belt, I'll now visualize the broadcasting operation to better understand why the dimensions \"just work\"."
      ]
    },
    {
      "cell_type": "markdown",
      "metadata": {
        "id": "GzgcEzoyXn7-"
      },
      "source": [
        "Adding the unit axis to `x` (our batch of 5 coordinates) as the first dimension is not as intuitive visually as it just adds a pair of brackets to the outside of the 5 coordinates. However, what this does is allow the set of 5 coordinates (as a group) to be broadcasted across another dimension of any size."
      ]
    },
    {
      "cell_type": "code",
      "execution_count": 82,
      "metadata": {
        "colab": {
          "base_uri": "https://localhost:8080/"
        },
        "id": "cynuyhuZXwYP",
        "outputId": "892f60a0-7101-4652-94b9-267b74ed5f4e"
      },
      "outputs": [
        {
          "data": {
            "text/plain": [
              "tensor([[29.764, 26.161],\n",
              "        [28.472, 30.493],\n",
              "        [27.549, 23.130],\n",
              "        [23.500, 26.879],\n",
              "        [27.327, 28.650]])"
            ]
          },
          "execution_count": 82,
          "metadata": {},
          "output_type": "execute_result"
        }
      ],
      "source": [
        "x"
      ]
    },
    {
      "cell_type": "code",
      "execution_count": 83,
      "metadata": {
        "colab": {
          "base_uri": "https://localhost:8080/"
        },
        "id": "SCj9T-8NTB1T",
        "outputId": "ac571ee7-26d4-40e7-b3a8-08e0e5df58b3"
      },
      "outputs": [
        {
          "data": {
            "text/plain": [
              "tensor([[[29.764, 26.161],\n",
              "         [28.472, 30.493],\n",
              "         [27.549, 23.130],\n",
              "         [23.500, 26.879],\n",
              "         [27.327, 28.650]]])"
            ]
          },
          "execution_count": 83,
          "metadata": {},
          "output_type": "execute_result"
        }
      ],
      "source": [
        "x[None]"
      ]
    },
    {
      "cell_type": "markdown",
      "metadata": {
        "id": "YT3hHOcoX4d_"
      },
      "source": [
        "Adding the unit axis as the second dimension to `X` (our full set of 1500 coordinates) is more visually intuitive---we've added a pair of brackets around each pair of coordinates, making them broadcastable to any other dimension."
      ]
    },
    {
      "cell_type": "code",
      "execution_count": 84,
      "metadata": {
        "colab": {
          "base_uri": "https://localhost:8080/"
        },
        "id": "t1m-eL7fYEJK",
        "outputId": "c12a9c8b-b0ff-41a4-9fde-23d5d1f6a456"
      },
      "outputs": [
        {
          "data": {
            "text/plain": [
              "tensor([[29.764, 26.161],\n",
              "        [28.472, 30.493],\n",
              "        [27.549, 23.130],\n",
              "        ...,\n",
              "        [32.214,  4.997],\n",
              "        [30.872,  4.339],\n",
              "        [28.347,  4.248]])"
            ]
          },
          "execution_count": 84,
          "metadata": {},
          "output_type": "execute_result"
        }
      ],
      "source": [
        "X"
      ]
    },
    {
      "cell_type": "code",
      "execution_count": 86,
      "metadata": {
        "colab": {
          "base_uri": "https://localhost:8080/"
        },
        "id": "rdQKzBdATTaU",
        "outputId": "e7b438ba-fae5-44fb-91bd-8cb7b9df97af"
      },
      "outputs": [
        {
          "data": {
            "text/plain": [
              "tensor([[[29.764, 26.161]],\n",
              "\n",
              "        [[28.472, 30.493]],\n",
              "\n",
              "        [[27.549, 23.130]],\n",
              "\n",
              "        ...,\n",
              "\n",
              "        [[32.214,  4.997]],\n",
              "\n",
              "        [[30.872,  4.339]],\n",
              "\n",
              "        [[28.347,  4.248]]])"
            ]
          },
          "execution_count": 86,
          "metadata": {},
          "output_type": "execute_result"
        }
      ],
      "source": [
        "X[:,None]"
      ]
    },
    {
      "cell_type": "markdown",
      "metadata": {
        "id": "dGMFeKiQYfCp"
      },
      "source": [
        "So our batch of 5 coordinates `x` can now be broadcasted as many times as needed, and each pair of coordinates in `X` can also be broadcasted as many times as needed.\n",
        "\n",
        "The result: each pair of coordinates in `X` is broadcasted 5 times so they can be subtracted from each pair of coordinates in the batch. And the batch is broadcasted 1500 times so that each pair of coordinates in `X` can be subtracted from it."
      ]
    },
    {
      "cell_type": "markdown",
      "metadata": {
        "id": "AXtFYR_amCYR"
      },
      "source": [
        "Looking at each of those statements visually:"
      ]
    },
    {
      "cell_type": "markdown",
      "metadata": {
        "id": "Qab3af3N5SHf"
      },
      "source": [
        "![Each pair of coordinates in X is broadcasted 5 times so they can be subtracted from each pair of coordinates in the batch](2.png)"
      ]
    },
    {
      "cell_type": "markdown",
      "metadata": {
        "id": "5D9jNxmD5T2D"
      },
      "source": [
        "![The batch `x` is broadcasted 1500 times so that each pair of coordinates in `X` can be subtracted from it.](3.png)"
      ]
    },
    {
      "cell_type": "markdown",
      "metadata": {
        "id": "YxGw9kbCnVcQ"
      },
      "source": [
        "With the understood, I can now continue with the batched implementation of the algorithm. With the correct shapes, thanks to adding unit axes, we can create a batched distance function:"
      ]
    },
    {
      "cell_type": "code",
      "execution_count": 88,
      "metadata": {
        "id": "zWbZHB6oAt84"
      },
      "outputs": [],
      "source": [
        "def dist_b(a,b): return (((a[None]-b[:,None])**2).sum(2)).sqrt()"
      ]
    },
    {
      "cell_type": "code",
      "execution_count": 90,
      "metadata": {
        "colab": {
          "base_uri": "https://localhost:8080/"
        },
        "id": "uuK8BVmQoq0V",
        "outputId": "ce2e61e4-4895-472b-d120-d0844f6fbe51"
      },
      "outputs": [
        {
          "data": {
            "text/plain": [
              "torch.Size([1500, 5])"
            ]
          },
          "execution_count": 90,
          "metadata": {},
          "output_type": "execute_result"
        }
      ],
      "source": [
        "dist_b(x,X).shape"
      ]
    },
    {
      "cell_type": "markdown",
      "metadata": {
        "id": "z4K9rghwnlMz"
      },
      "source": [
        "We now have 5 distances for each of the 1500 items in the dataset."
      ]
    },
    {
      "cell_type": "code",
      "execution_count": 91,
      "metadata": {
        "colab": {
          "base_uri": "https://localhost:8080/"
        },
        "id": "Y0pZyM7r4f9-",
        "outputId": "46dc7bba-8d45-40f6-c502-90d9438dba39"
      },
      "outputs": [
        {
          "data": {
            "text/plain": [
              "tensor([[ 0.000,  4.521,  3.754,  6.305,  3.483],\n",
              "        [ 4.521,  0.000,  7.421,  6.148,  2.170],\n",
              "        [ 3.754,  7.421,  0.000,  5.518,  5.524],\n",
              "        ...,\n",
              "        [21.305, 25.769, 18.724, 23.553, 24.152],\n",
              "        [21.850, 26.264, 19.083, 23.714, 24.568],\n",
              "        [21.958, 26.246, 18.899, 23.144, 24.423]])"
            ]
          },
          "execution_count": 91,
          "metadata": {},
          "output_type": "execute_result"
        }
      ],
      "source": [
        "dist_b(x,X)"
      ]
    },
    {
      "cell_type": "markdown",
      "metadata": {
        "id": "ND4PIBCz4le1"
      },
      "source": [
        "The first row are the distances between the first coordinate pair in `X` and each of the coordinate pairs in the batch. The second row contains distances between the _second_ coordinate pair in `X and each of the batch coordinate pairs. And so on an so forth for 1500 rows. Each with 5 distances representing the distances to the batch items."
      ]
    },
    {
      "cell_type": "markdown",
      "metadata": {
        "id": "LXDRCwpX482K"
      },
      "source": [
        "We pass this tensor into our `gaussian` and get back our weights."
      ]
    },
    {
      "cell_type": "code",
      "execution_count": 92,
      "metadata": {
        "colab": {
          "base_uri": "https://localhost:8080/"
        },
        "id": "zhMCwR6dA4t5",
        "outputId": "97cadee8-dfa3-4e93-cace-bc52cf9d31bc"
      },
      "outputs": [
        {
          "data": {
            "text/plain": [
              "(tensor([[    0.160,     0.031,     0.052,     0.007,     0.060],\n",
              "         [    0.031,     0.160,     0.002,     0.008,     0.109],\n",
              "         [    0.052,     0.002,     0.160,     0.014,     0.014],\n",
              "         ...,\n",
              "         [    0.000,     0.000,     0.000,     0.000,     0.000],\n",
              "         [    0.000,     0.000,     0.000,     0.000,     0.000],\n",
              "         [    0.000,     0.000,     0.000,     0.000,     0.000]]),\n",
              " torch.Size([1500, 5]))"
            ]
          },
          "execution_count": 92,
          "metadata": {},
          "output_type": "execute_result"
        }
      ],
      "source": [
        "weight = gaussian(dist_b(x, X), 2.5)\n",
        "weight, weight.shape"
      ]
    },
    {
      "cell_type": "code",
      "execution_count": 93,
      "metadata": {
        "colab": {
          "base_uri": "https://localhost:8080/"
        },
        "id": "RrW5BntL60TB",
        "outputId": "09929ac2-c816-45e0-ea6c-fd4a2dff55d1"
      },
      "outputs": [
        {
          "data": {
            "text/plain": [
              "tensor([[0.160, 0.031, 0.052, 0.007, 0.060],\n",
              "        [0.031, 0.160, 0.002, 0.008, 0.109],\n",
              "        [0.052, 0.002, 0.160, 0.014, 0.014],\n",
              "        [0.007, 0.008, 0.014, 0.160, 0.038],\n",
              "        [0.060, 0.109, 0.014, 0.038, 0.160]])"
            ]
          },
          "execution_count": 93,
          "metadata": {},
          "output_type": "execute_result"
        }
      ],
      "source": [
        "weight[:5]"
      ]
    },
    {
      "cell_type": "markdown",
      "metadata": {
        "id": "m0IeiEU667Wx"
      },
      "source": [
        "Looking at the first 5 rows of our weights we have a square matrix---the weights between the first 5 points (i.e. the points in our batch). From row 6 we have the weights from these 5 points to point 6."
      ]
    },
    {
      "cell_type": "markdown",
      "metadata": {
        "id": "JUVvT1Mz7OGY"
      },
      "source": [
        "Technically we could have a batch size of 1500 and the weights in full would be a square matrix."
      ]
    },
    {
      "cell_type": "markdown",
      "metadata": {
        "id": "4VjaO5h25BW2"
      },
      "source": [
        "Now for the fun part! Understanding broadcasting so we can perform the weighted average, which starts with an elementwise multiplication betwee the weights and the data points."
      ]
    },
    {
      "cell_type": "markdown",
      "metadata": {
        "id": "ZqA8DDt-6dSK"
      },
      "source": [
        "Conceptually we want something like this (example shown for the first two batch items' weights)"
      ]
    },
    {
      "cell_type": "markdown",
      "metadata": {
        "id": "VNBXEcsG5tQ-"
      },
      "source": [
        "![Multiplying weights by `X` and summing down the columns to get a pair of coordinates](4.png)"
      ]
    },
    {
      "cell_type": "code",
      "execution_count": 94,
      "metadata": {
        "colab": {
          "base_uri": "https://localhost:8080/"
        },
        "id": "JPHUObLSA_V5",
        "outputId": "e2bc5d14-794d-431b-9fc9-36f9f77748ff"
      },
      "outputs": [
        {
          "data": {
            "text/plain": [
              "(torch.Size([1500, 5]), torch.Size([1500, 2]))"
            ]
          },
          "execution_count": 94,
          "metadata": {},
          "output_type": "execute_result"
        }
      ],
      "source": [
        "weight.shape,X.shape"
      ]
    },
    {
      "cell_type": "markdown",
      "metadata": {
        "id": "wf3NxRBx5SOe"
      },
      "source": [
        "The last dimension of each tensor is not compatible (5 and 2). We need to introduce a unit axis so that we can broadcast the 5 batch items to each of the 1500 coordinate pairs."
      ]
    },
    {
      "cell_type": "markdown",
      "metadata": {
        "id": "qy2jj3eKcIV2"
      },
      "source": [
        "We'll again start by \"just making the dimensions work\", adding a unit axis to the end of `weight` and the beginning of `X`. Scanning the dimensions left to right: 1 and 2 are compatible, 5 and 1 are compatible, 1500 and 1500 are compatible."
      ]
    },
    {
      "cell_type": "code",
      "execution_count": 96,
      "metadata": {
        "colab": {
          "base_uri": "https://localhost:8080/"
        },
        "id": "zg71oYCvnYL4",
        "outputId": "eb218202-3664-40fd-878b-e5edefae4afb"
      },
      "outputs": [
        {
          "data": {
            "text/plain": [
              "(torch.Size([1500, 5, 1]), torch.Size([1500, 1, 2]))"
            ]
          },
          "execution_count": 96,
          "metadata": {},
          "output_type": "execute_result"
        }
      ],
      "source": [
        "weight[...,None].shape, X[:,None].shape"
      ]
    },
    {
      "cell_type": "code",
      "execution_count": 98,
      "metadata": {
        "colab": {
          "base_uri": "https://localhost:8080/"
        },
        "id": "OL7KENWguNbl",
        "outputId": "88879916-329f-4984-a4ea-b78bb04ae309"
      },
      "outputs": [
        {
          "data": {
            "text/plain": [
              "torch.Size([1500, 5, 2])"
            ]
          },
          "execution_count": 98,
          "metadata": {},
          "output_type": "execute_result"
        }
      ],
      "source": [
        "(weight[...,None]*X[:,None]).shape"
      ]
    },
    {
      "cell_type": "markdown",
      "metadata": {
        "id": "sjzRn9lLYZnp"
      },
      "source": [
        "We'll sum down the first dimension to get 5 pairs of coordinate."
      ]
    },
    {
      "cell_type": "code",
      "execution_count": 100,
      "metadata": {
        "colab": {
          "base_uri": "https://localhost:8080/"
        },
        "id": "jOLaz6f5TIn0",
        "outputId": "799cde40-d374-42b5-90e3-71df21d6f19a"
      },
      "outputs": [
        {
          "data": {
            "text/plain": [
              "tensor([[296.880, 291.612],\n",
              "        [476.489, 514.066],\n",
              "        [140.263, 134.432],\n",
              "        [278.256, 307.251],\n",
              "        [577.373, 615.003]])"
            ]
          },
          "execution_count": 100,
          "metadata": {},
          "output_type": "execute_result"
        }
      ],
      "source": [
        "(weight[...,None]*X[:,None]).sum(0)"
      ]
    },
    {
      "cell_type": "markdown",
      "metadata": {
        "id": "XGy_EqDMYkBU"
      },
      "source": [
        "The first pair of coordinates `[296.880, 291.612]` are the sum of the first pair of elementwise products in each set of 5 batched items in each of the 1500 rows."
      ]
    },
    {
      "cell_type": "code",
      "execution_count": 102,
      "metadata": {
        "colab": {
          "base_uri": "https://localhost:8080/"
        },
        "id": "a2C3Y2E_xtZO",
        "outputId": "38638dce-e5bb-4d73-d797-f327004f65b2"
      },
      "outputs": [
        {
          "data": {
            "text/plain": [
              "tensor([[[    4.750,     4.175],\n",
              "         [    0.926,     0.814],\n",
              "         [    1.539,     1.352],\n",
              "         [    0.197,     0.174],\n",
              "         [    1.799,     1.581]],\n",
              "\n",
              "        [[    0.886,     0.948],\n",
              "         [    4.544,     4.866],\n",
              "         [    0.055,     0.059],\n",
              "         [    0.221,     0.237],\n",
              "         [    3.117,     3.338]],\n",
              "\n",
              "        [[    1.424,     1.196],\n",
              "         [    0.054,     0.045],\n",
              "         [    4.396,     3.691],\n",
              "         [    0.385,     0.323],\n",
              "         [    0.383,     0.321]],\n",
              "\n",
              "        ...,\n",
              "\n",
              "        [[    0.000,     0.000],\n",
              "         [    0.000,     0.000],\n",
              "         [    0.000,     0.000],\n",
              "         [    0.000,     0.000],\n",
              "         [    0.000,     0.000]],\n",
              "\n",
              "        [[    0.000,     0.000],\n",
              "         [    0.000,     0.000],\n",
              "         [    0.000,     0.000],\n",
              "         [    0.000,     0.000],\n",
              "         [    0.000,     0.000]],\n",
              "\n",
              "        [[    0.000,     0.000],\n",
              "         [    0.000,     0.000],\n",
              "         [    0.000,     0.000],\n",
              "         [    0.000,     0.000],\n",
              "         [    0.000,     0.000]]])"
            ]
          },
          "execution_count": 102,
          "metadata": {},
          "output_type": "execute_result"
        }
      ],
      "source": [
        "(weight[...,None]*X[:,None])"
      ]
    },
    {
      "cell_type": "code",
      "execution_count": 101,
      "metadata": {
        "colab": {
          "base_uri": "https://localhost:8080/"
        },
        "id": "qgSBb2vNUEmR",
        "outputId": "8b9975f5-7a26-4b50-c422-516c074f1457"
      },
      "outputs": [
        {
          "data": {
            "text/plain": [
              "tensor([[    4.750,     4.175],\n",
              "        [    0.886,     0.948],\n",
              "        [    1.424,     1.196],\n",
              "        ...,\n",
              "        [    0.000,     0.000],\n",
              "        [    0.000,     0.000],\n",
              "        [    0.000,     0.000]])"
            ]
          },
          "execution_count": 101,
          "metadata": {},
          "output_type": "execute_result"
        }
      ],
      "source": [
        "(weight[...,None]*X[:,None])[:, 0,:]"
      ]
    },
    {
      "cell_type": "code",
      "execution_count": 103,
      "metadata": {
        "colab": {
          "base_uri": "https://localhost:8080/"
        },
        "id": "TSy7EPc4YuUx",
        "outputId": "e933a913-9612-43f7-b045-e1cdfa54246c"
      },
      "outputs": [
        {
          "data": {
            "text/plain": [
              "tensor([296.880, 291.612])"
            ]
          },
          "execution_count": 103,
          "metadata": {},
          "output_type": "execute_result"
        }
      ],
      "source": [
        "(weight[...,None]*X[:,None])[:, 0,:].sum(0)"
      ]
    },
    {
      "cell_type": "markdown",
      "metadata": {
        "id": "h8goPXh_MieV"
      },
      "source": [
        "Looking at this visually:"
      ]
    },
    {
      "cell_type": "markdown",
      "metadata": {
        "id": "dDgx77Hho7_g"
      },
      "source": [
        "![Elementwise multiplication of `weight[...,None]` and `X[None]` followed by `sum(0)` down the columns](5.png)"
      ]
    },
    {
      "cell_type": "code",
      "execution_count": 104,
      "metadata": {
        "colab": {
          "base_uri": "https://localhost:8080/"
        },
        "id": "ZMW0kNxQBCep",
        "outputId": "24c589bb-5afd-4a22-b782-d02fda9014d0"
      },
      "outputs": [
        {
          "data": {
            "text/plain": [
              "torch.Size([5, 2])"
            ]
          },
          "execution_count": 104,
          "metadata": {},
          "output_type": "execute_result"
        }
      ],
      "source": [
        "num = (weight[...,None]*X[:,None]).sum(0)\n",
        "num.shape"
      ]
    },
    {
      "cell_type": "code",
      "execution_count": 105,
      "metadata": {
        "colab": {
          "base_uri": "https://localhost:8080/"
        },
        "id": "9B10KO5oBFKR",
        "outputId": "c2cd5385-3d97-4466-f358-1909a3052608"
      },
      "outputs": [
        {
          "data": {
            "text/plain": [
              "tensor([[296.880, 291.612],\n",
              "        [476.489, 514.066],\n",
              "        [140.263, 134.432],\n",
              "        [278.256, 307.251],\n",
              "        [577.373, 615.003]])"
            ]
          },
          "execution_count": 105,
          "metadata": {},
          "output_type": "execute_result"
        }
      ],
      "source": [
        "num"
      ]
    },
    {
      "cell_type": "markdown",
      "metadata": {
        "id": "FuWJP04DpeeL"
      },
      "source": [
        "Since we are performing an elementwise multiplication follow by a sum, we can use Einstein Summation!"
      ]
    },
    {
      "cell_type": "code",
      "execution_count": 106,
      "metadata": {
        "colab": {
          "base_uri": "https://localhost:8080/"
        },
        "id": "0vCuCqPXBJWw",
        "outputId": "351261a0-1f6c-42c0-b9a3-59ba6a9d018b"
      },
      "outputs": [
        {
          "data": {
            "text/plain": [
              "tensor([[296.880, 291.612],\n",
              "        [476.489, 514.066],\n",
              "        [140.263, 134.432],\n",
              "        [278.256, 307.251],\n",
              "        [577.373, 615.003]])"
            ]
          },
          "execution_count": 106,
          "metadata": {},
          "output_type": "execute_result"
        }
      ],
      "source": [
        "torch.einsum('ij,ik->jk', weight, X)"
      ]
    },
    {
      "cell_type": "markdown",
      "metadata": {
        "id": "9VVhmFmxpjSG"
      },
      "source": [
        "Similary, we can also use matrix multiplication:"
      ]
    },
    {
      "cell_type": "code",
      "execution_count": 107,
      "metadata": {
        "colab": {
          "base_uri": "https://localhost:8080/"
        },
        "id": "6vRkUXwuBMbB",
        "outputId": "6ac52bec-aa75-4dcf-e09a-b109ceb88075"
      },
      "outputs": [
        {
          "data": {
            "text/plain": [
              "tensor([[296.880, 291.612],\n",
              "        [476.489, 514.066],\n",
              "        [140.263, 134.432],\n",
              "        [278.256, 307.251],\n",
              "        [577.373, 615.003]])"
            ]
          },
          "execution_count": 107,
          "metadata": {},
          "output_type": "execute_result"
        }
      ],
      "source": [
        "weight.T@X"
      ]
    },
    {
      "cell_type": "markdown",
      "metadata": {
        "id": "s-uWiy81pmOE"
      },
      "source": [
        "To get our weighted average, we divide by the sum of weights."
      ]
    },
    {
      "cell_type": "code",
      "execution_count": 108,
      "metadata": {
        "colab": {
          "base_uri": "https://localhost:8080/"
        },
        "id": "Pyn7NzJvBTw6",
        "outputId": "c26dfad0-c4fe-41b3-c3a6-90e2bd57224b"
      },
      "outputs": [
        {
          "data": {
            "text/plain": [
              "torch.Size([5, 1])"
            ]
          },
          "execution_count": 108,
          "metadata": {},
          "output_type": "execute_result"
        }
      ],
      "source": [
        "div = weight.sum(0, keepdim=True).T\n",
        "div.shape"
      ]
    },
    {
      "cell_type": "markdown",
      "metadata": {
        "id": "iyhHiL3zpvxi"
      },
      "source": [
        "We want to perform an elementwise division (each coordinate needs to be divided by the sum of weights) so we `keepdim`."
      ]
    },
    {
      "cell_type": "code",
      "execution_count": 109,
      "metadata": {
        "colab": {
          "base_uri": "https://localhost:8080/"
        },
        "id": "IOnQZpC9ptrX",
        "outputId": "2faf142c-34ee-4d90-9960-0e47b687e9f1"
      },
      "outputs": [
        {
          "data": {
            "text/plain": [
              "tensor([[10.558],\n",
              "        [17.315],\n",
              "        [ 5.167],\n",
              "        [10.983],\n",
              "        [21.347]])"
            ]
          },
          "execution_count": 109,
          "metadata": {},
          "output_type": "execute_result"
        }
      ],
      "source": [
        "div"
      ]
    },
    {
      "cell_type": "code",
      "execution_count": 110,
      "metadata": {
        "colab": {
          "base_uri": "https://localhost:8080/"
        },
        "id": "GBaSb31uBVQS",
        "outputId": "ff53f7c2-c478-48b9-d730-25c8998caf58"
      },
      "outputs": [
        {
          "data": {
            "text/plain": [
              "tensor([[28.118, 27.619],\n",
              "        [27.519, 29.689],\n",
              "        [27.145, 26.016],\n",
              "        [25.334, 27.974],\n",
              "        [27.047, 28.810]])"
            ]
          },
          "execution_count": 110,
          "metadata": {},
          "output_type": "execute_result"
        }
      ],
      "source": [
        "num/div"
      ]
    },
    {
      "cell_type": "markdown",
      "metadata": {
        "id": "tnBv6169p0zU"
      },
      "source": [
        "Wrapping this into a new `meanshift` function. Each step now performs batched calculations."
      ]
    },
    {
      "cell_type": "code",
      "execution_count": 112,
      "metadata": {
        "id": "mT6-00CmBWva"
      },
      "outputs": [],
      "source": [
        "def meanshift(data, bs=500):\n",
        "    n = len(data)\n",
        "    X = data.clone()\n",
        "    for it in range(5):\n",
        "        for i in range(0, n, bs):\n",
        "            s = slice(i, min(i+bs,n))\n",
        "            weight = gaussian(dist_b(X[s], X), 2.5)\n",
        "            div = weight.sum(0, keepdim=True).T\n",
        "            X[s] = weight.T@X/div\n",
        "    return X"
      ]
    },
    {
      "cell_type": "markdown",
      "metadata": {
        "id": "eHbitgqFp831"
      },
      "source": [
        "We can now utilize the GPU (since we're doing batched calculations)"
      ]
    },
    {
      "cell_type": "code",
      "execution_count": 113,
      "metadata": {
        "id": "hPOk-82ABegD"
      },
      "outputs": [],
      "source": [
        "data = data.cuda()"
      ]
    },
    {
      "cell_type": "code",
      "execution_count": 114,
      "metadata": {
        "id": "-l2DlHpHBgZL"
      },
      "outputs": [],
      "source": [
        "X = meanshift(data).cpu()"
      ]
    },
    {
      "cell_type": "code",
      "execution_count": 117,
      "metadata": {
        "colab": {
          "base_uri": "https://localhost:8080/"
        },
        "id": "vrXPRsm4Bpok",
        "outputId": "e3206486-deea-434b-f00b-1c99fa7dc777"
      },
      "outputs": [
        {
          "name": "stdout",
          "output_type": "stream",
          "text": [
            "5.37 ms ± 43.1 µs per loop (mean ± std. dev. of 7 runs, 5 loops each)\n"
          ]
        }
      ],
      "source": [
        "%timeit -n 5 _=meanshift(data, 1250).cpu()"
      ]
    },
    {
      "cell_type": "markdown",
      "metadata": {
        "id": "kK3JsJZpqH_Y"
      },
      "source": [
        "Using the GPU we cut the execution time from 1.5 seconds to 6 milliseconds to achieve the same result."
      ]
    },
    {
      "cell_type": "code",
      "execution_count": 118,
      "metadata": {
        "colab": {
          "base_uri": "https://localhost:8080/"
        },
        "id": "qW6TWoYJg61k",
        "outputId": "78b63bcb-5b59-428e-86a8-4ecb22c7b14c"
      },
      "outputs": [
        {
          "data": {
            "text/plain": [
              "250.0"
            ]
          },
          "execution_count": 118,
          "metadata": {},
          "output_type": "execute_result"
        }
      ],
      "source": [
        "1500/6"
      ]
    },
    {
      "cell_type": "code",
      "execution_count": 119,
      "metadata": {
        "colab": {
          "base_uri": "https://localhost:8080/",
          "height": 430
        },
        "id": "fOuZd4mpBrqL",
        "outputId": "5e20a9d4-31f5-49c6-a56c-3789affd7708"
      },
      "outputs": [
        {
          "data": {
            "image/png": "[encoded data removed]",
            "text/plain": [
              "<Figure size 640x480 with 1 Axes>"
            ]
          },
          "metadata": {},
          "output_type": "display_data"
        }
      ],
      "source": [
        "plot_data(centroids, X, n_samples)"
      ]
    },
    {
      "cell_type": "markdown",
      "metadata": {
        "id": "0C06ZJtur0VI"
      },
      "source": [
        "If we perform the unbatched calculation using the GPU, we don't see this speed up."
      ]
    },
    {
      "cell_type": "code",
      "execution_count": 121,
      "metadata": {
        "id": "rwEA3ajZrsNK"
      },
      "outputs": [],
      "source": [
        "def meanshift(data, n=5):\n",
        "    X = data.clone()\n",
        "    for it in range(n): one_update(X)\n",
        "    return X"
      ]
    },
    {
      "cell_type": "code",
      "execution_count": 122,
      "metadata": {
        "colab": {
          "base_uri": "https://localhost:8080/"
        },
        "id": "n8pj1Iqlru-d",
        "outputId": "b21cd686-b3e1-43ca-a8c3-7d419ab3633c"
      },
      "outputs": [
        {
          "name": "stdout",
          "output_type": "stream",
          "text": [
            "CPU times: user 1.33 s, sys: 969 µs, total: 1.33 s\n",
            "Wall time: 1.33 s\n"
          ]
        }
      ],
      "source": [
        "%time X = meanshift(data.cuda()).cpu()"
      ]
    },
    {
      "cell_type": "markdown",
      "metadata": {
        "id": "EO2avttuqRwS"
      },
      "source": [
        "## Closing Thoughts"
      ]
    },
    {
      "cell_type": "markdown",
      "metadata": {
        "id": "azrXWCdGqS_H"
      },
      "source": [
        "Implementing mean shift clustering become an exercise in understanding broadcasting! The weighted average (elementwise multiplication followed by a summation down an axis) is well suited for broadcasting, Einstein Summation and matrix multiplication. Seeing the relationships between dimensions, and seeing how adding unit axes in a particular spot to allow for broadcasting gave me a deeper understanding of how tensor calculations work. We also saw a clear example of how the GPU only gives you a speedup if you perform batch operations on it.\n",
        "\n",
        "I'm trying to grow my YouTube channel so if you're interesting in this type of content, [please subscribe!](https://www.youtube.com/@vishal_learner)"
      ]
    }
  ],
  "metadata": {
    "accelerator": "GPU",
    "colab": {
      "gpuType": "T4",
      "provenance": []
    },
    "kernelspec": {
      "display_name": "Python 3",
      "name": "python3"
    },
    "language_info": {
      "name": "python"
    }
  },
  "nbformat": 4,
  "nbformat_minor": 0
}

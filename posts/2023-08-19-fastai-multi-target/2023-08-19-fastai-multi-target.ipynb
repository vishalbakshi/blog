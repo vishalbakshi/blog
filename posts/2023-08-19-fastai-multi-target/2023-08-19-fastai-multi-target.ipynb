{
  "cells": [
    {
      "cell_type": "raw",
      "metadata": {},
      "source": [
        "---\n",
        "title: Training a Multi-Target Regression Deep Learning Model with fastai\n",
        "author: Vishal Bakshi\n",
        "description: In this notebook I train single and multi-target regression tabular deep learning models using fastai, and compare the results.\n",
        "categories:\n",
        "    - deep learning\n",
        "    - python\n",
        "---"
      ]
    },
    {
      "attachments": {},
      "cell_type": "markdown",
      "metadata": {
        "id": "-JbjTq0_QT-b"
      },
      "source": [
        "## Background\n",
        "In this blog post I will use fastai to train a model that predicts more than one target for the Kaggle Titanic dataset.\n",
        "\n",
        "I've referenced the notebook [Multi-target: Road to the Top, Part 4](https://www.kaggle.com/code/jhoward/multi-target-road-to-the-top-part-4/notebook) by Jeremy Howard as well as a derivative notebook [Small models + Multi-targets](https://www.kaggle.com/code/archietram/small-models-multi-targets/notebook) by Kaggle user Archie Tram (in which he creates a test `DataLoader` to get predictions from the model)."
      ]
    },
    {
      "attachments": {},
      "cell_type": "markdown",
      "metadata": {
        "id": "smXnhWosWdMa"
      },
      "source": [
        "## Plan of Attack"
      ]
    },
    {
      "attachments": {},
      "cell_type": "markdown",
      "metadata": {
        "id": "xzdfp5RuX8Ni"
      },
      "source": [
        "### Creating `DataLoaders`"
      ]
    },
    {
      "attachments": {},
      "cell_type": "markdown",
      "metadata": {
        "id": "bXVpmddsWeUS"
      },
      "source": [
        "In Jeremy's notebook, he is classifying images of plants with two targets: disease and variety of plant.\n",
        "\n",
        "He creates his `DataLoaders` object as follows:\n",
        "\n",
        "```python\n",
        "dls = DataBlock(\n",
        "    blocks=(ImageBlock,CategoryBlock,CategoryBlock),\n",
        "    n_inp=1,\n",
        "    get_items=get_image_files,\n",
        "    get_y = [parent_label,get_variety],\n",
        "    splitter=RandomSplitter(0.2, seed=42),\n",
        "    item_tfms=Resize(192, method='squish'),\n",
        "    batch_tfms=aug_transforms(size=128, min_scale=0.75)\n",
        ").dataloaders(trn_path)\n",
        "\n",
        "```\n",
        "\n",
        "There are three `blocks`: 1 input `ImageBlock` and 2 output `CategoryBlock`s. The model gets the outputs with `parent_label` (for the disease) and a custom function `get_variety` (which grabs the `variety` column value of the given image from a `DataFrame`).\n",
        "\n",
        "In my use case, I will have to follow a similar approach, albeit catered to tabular data."
      ]
    },
    {
      "attachments": {},
      "cell_type": "markdown",
      "metadata": {
        "id": "GVLc_C5pX-oi"
      },
      "source": [
        "### Calculating Losses"
      ]
    },
    {
      "attachments": {},
      "cell_type": "markdown",
      "metadata": {
        "id": "pGEtY6oBYBC3"
      },
      "source": [
        "Jeremy calculates loss as the sum of the following:\n",
        "\n",
        "- Cross-Entropy loss of the disease inputs\n",
        "- Cross-Entropy loss of the variety inputs\n",
        "\n",
        "I'll follow a similar approach, except if I use continuous variables as targets I'll use MSE instead of Cross-Entropy."
      ]
    },
    {
      "attachments": {},
      "cell_type": "markdown",
      "metadata": {
        "id": "soXQgftN2wRk"
      },
      "source": [
        "### Calculating Metrics"
      ]
    },
    {
      "attachments": {},
      "cell_type": "markdown",
      "metadata": {
        "id": "K677Fnyc2yyx"
      },
      "source": [
        "Similar to the loss calculation, I'll combine the calculation of the metric for each of the two targets. For continuous variables, I'll use RMSE."
      ]
    },
    {
      "attachments": {},
      "cell_type": "markdown",
      "metadata": {
        "id": "q55Bhu_03Sne"
      },
      "source": [
        "## Training a Multi-Target Model"
      ]
    },
    {
      "attachments": {},
      "cell_type": "markdown",
      "metadata": {
        "id": "NsUYWpWK3UQQ"
      },
      "source": [
        "With a rough plan outlined, I'll start the training process with loading and cleaning the Titanic dataset."
      ]
    },
    {
      "attachments": {},
      "cell_type": "markdown",
      "metadata": {
        "id": "893xwMm13ij8"
      },
      "source": [
        "### Load and Clean Data"
      ]
    },
    {
      "cell_type": "code",
      "execution_count": 1,
      "metadata": {
        "id": "OjdUW1Qoxcko"
      },
      "outputs": [],
      "source": [
        "from fastai.tabular.all import *"
      ]
    },
    {
      "cell_type": "code",
      "execution_count": 3,
      "metadata": {
        "id": "DBSYFR6GlfUE"
      },
      "outputs": [],
      "source": [
        "from pathlib import Path\n",
        "\n",
        "cred_path = Path('~/.kaggle/kaggle.json').expanduser()\n",
        "if not cred_path.exists():\n",
        "    cred_path.parent.mkdir(exist_ok=True)\n",
        "    cred_path.write_text(creds)\n",
        "    cred_path.chmod(0o600)"
      ]
    },
    {
      "cell_type": "code",
      "execution_count": 4,
      "metadata": {
        "colab": {
          "base_uri": "https://localhost:8080/"
        },
        "id": "D2LqqlZDlhAR",
        "outputId": "9d29f07d-4897-4fa5-acb5-2784165f50fb"
      },
      "outputs": [
        {
          "name": "stdout",
          "output_type": "stream",
          "text": [
            "Downloading titanic.zip to /content\n"
          ]
        },
        {
          "name": "stderr",
          "output_type": "stream",
          "text": [
            "100%|██████████| 34.1k/34.1k [00:00<00:00, 6.18MB/s]"
          ]
        },
        {
          "name": "stdout",
          "output_type": "stream",
          "text": [
            "\n"
          ]
        },
        {
          "name": "stderr",
          "output_type": "stream",
          "text": [
            "\n"
          ]
        }
      ],
      "source": [
        "import os\n",
        "\n",
        "iskaggle = os.environ.get('KAGGLE_KERNEL_RUN_TYPE', '')\n",
        "if iskaggle: path = Path(\"../input/titanic\")\n",
        "else:\n",
        "  path = Path('titanic')\n",
        "  if not path.exists():\n",
        "    import zipfile, kaggle\n",
        "    kaggle.api.competition_download_cli(str(path))\n",
        "    zipfile.ZipFile(f'{path}.zip').extractall(path)"
      ]
    },
    {
      "cell_type": "code",
      "execution_count": 5,
      "metadata": {
        "colab": {
          "base_uri": "https://localhost:8080/",
          "height": 947
        },
        "id": "apyF75-wlnP7",
        "outputId": "cb3036e1-5244-49cc-ddb2-e262842810d0"
      },
      "outputs": [
        {
          "data": {
            "text/html": [
              "\n",
              "  <div id=\"df-1a7a74cb-269c-4ea6-84f6-1871a56c3d68\" class=\"colab-df-container\">\n",
              "    <div>\n",
              "<style scoped>\n",
              "    .dataframe tbody tr th:only-of-type {\n",
              "        vertical-align: middle;\n",
              "    }\n",
              "\n",
              "    .dataframe tbody tr th {\n",
              "        vertical-align: top;\n",
              "    }\n",
              "\n",
              "    .dataframe thead th {\n",
              "        text-align: right;\n",
              "    }\n",
              "</style>\n",
              "<table border=\"1\" class=\"dataframe\">\n",
              "  <thead>\n",
              "    <tr style=\"text-align: right;\">\n",
              "      <th></th>\n",
              "      <th>PassengerId</th>\n",
              "      <th>Survived</th>\n",
              "      <th>Pclass</th>\n",
              "      <th>Name</th>\n",
              "      <th>Sex</th>\n",
              "      <th>Age</th>\n",
              "      <th>SibSp</th>\n",
              "      <th>Parch</th>\n",
              "      <th>Ticket</th>\n",
              "      <th>Fare</th>\n",
              "      <th>Cabin</th>\n",
              "      <th>Embarked</th>\n",
              "    </tr>\n",
              "  </thead>\n",
              "  <tbody>\n",
              "    <tr>\n",
              "      <th>0</th>\n",
              "      <td>1</td>\n",
              "      <td>0</td>\n",
              "      <td>3</td>\n",
              "      <td>Braund, Mr. Owen Harris</td>\n",
              "      <td>male</td>\n",
              "      <td>22.0</td>\n",
              "      <td>1</td>\n",
              "      <td>0</td>\n",
              "      <td>A/5 21171</td>\n",
              "      <td>7.2500</td>\n",
              "      <td>NaN</td>\n",
              "      <td>S</td>\n",
              "    </tr>\n",
              "    <tr>\n",
              "      <th>1</th>\n",
              "      <td>2</td>\n",
              "      <td>1</td>\n",
              "      <td>1</td>\n",
              "      <td>Cumings, Mrs. John Bradley (Florence Briggs Thayer)</td>\n",
              "      <td>female</td>\n",
              "      <td>38.0</td>\n",
              "      <td>1</td>\n",
              "      <td>0</td>\n",
              "      <td>PC 17599</td>\n",
              "      <td>71.2833</td>\n",
              "      <td>C85</td>\n",
              "      <td>C</td>\n",
              "    </tr>\n",
              "    <tr>\n",
              "      <th>2</th>\n",
              "      <td>3</td>\n",
              "      <td>1</td>\n",
              "      <td>3</td>\n",
              "      <td>Heikkinen, Miss. Laina</td>\n",
              "      <td>female</td>\n",
              "      <td>26.0</td>\n",
              "      <td>0</td>\n",
              "      <td>0</td>\n",
              "      <td>STON/O2. 3101282</td>\n",
              "      <td>7.9250</td>\n",
              "      <td>NaN</td>\n",
              "      <td>S</td>\n",
              "    </tr>\n",
              "    <tr>\n",
              "      <th>3</th>\n",
              "      <td>4</td>\n",
              "      <td>1</td>\n",
              "      <td>1</td>\n",
              "      <td>Futrelle, Mrs. Jacques Heath (Lily May Peel)</td>\n",
              "      <td>female</td>\n",
              "      <td>35.0</td>\n",
              "      <td>1</td>\n",
              "      <td>0</td>\n",
              "      <td>113803</td>\n",
              "      <td>53.1000</td>\n",
              "      <td>C123</td>\n",
              "      <td>S</td>\n",
              "    </tr>\n",
              "    <tr>\n",
              "      <th>4</th>\n",
              "      <td>5</td>\n",
              "      <td>0</td>\n",
              "      <td>3</td>\n",
              "      <td>Allen, Mr. William Henry</td>\n",
              "      <td>male</td>\n",
              "      <td>35.0</td>\n",
              "      <td>0</td>\n",
              "      <td>0</td>\n",
              "      <td>373450</td>\n",
              "      <td>8.0500</td>\n",
              "      <td>NaN</td>\n",
              "      <td>S</td>\n",
              "    </tr>\n",
              "    <tr>\n",
              "      <th>...</th>\n",
              "      <td>...</td>\n",
              "      <td>...</td>\n",
              "      <td>...</td>\n",
              "      <td>...</td>\n",
              "      <td>...</td>\n",
              "      <td>...</td>\n",
              "      <td>...</td>\n",
              "      <td>...</td>\n",
              "      <td>...</td>\n",
              "      <td>...</td>\n",
              "      <td>...</td>\n",
              "      <td>...</td>\n",
              "    </tr>\n",
              "    <tr>\n",
              "      <th>886</th>\n",
              "      <td>887</td>\n",
              "      <td>0</td>\n",
              "      <td>2</td>\n",
              "      <td>Montvila, Rev. Juozas</td>\n",
              "      <td>male</td>\n",
              "      <td>27.0</td>\n",
              "      <td>0</td>\n",
              "      <td>0</td>\n",
              "      <td>211536</td>\n",
              "      <td>13.0000</td>\n",
              "      <td>NaN</td>\n",
              "      <td>S</td>\n",
              "    </tr>\n",
              "    <tr>\n",
              "      <th>887</th>\n",
              "      <td>888</td>\n",
              "      <td>1</td>\n",
              "      <td>1</td>\n",
              "      <td>Graham, Miss. Margaret Edith</td>\n",
              "      <td>female</td>\n",
              "      <td>19.0</td>\n",
              "      <td>0</td>\n",
              "      <td>0</td>\n",
              "      <td>112053</td>\n",
              "      <td>30.0000</td>\n",
              "      <td>B42</td>\n",
              "      <td>S</td>\n",
              "    </tr>\n",
              "    <tr>\n",
              "      <th>888</th>\n",
              "      <td>889</td>\n",
              "      <td>0</td>\n",
              "      <td>3</td>\n",
              "      <td>Johnston, Miss. Catherine Helen \"Carrie\"</td>\n",
              "      <td>female</td>\n",
              "      <td>NaN</td>\n",
              "      <td>1</td>\n",
              "      <td>2</td>\n",
              "      <td>W./C. 6607</td>\n",
              "      <td>23.4500</td>\n",
              "      <td>NaN</td>\n",
              "      <td>S</td>\n",
              "    </tr>\n",
              "    <tr>\n",
              "      <th>889</th>\n",
              "      <td>890</td>\n",
              "      <td>1</td>\n",
              "      <td>1</td>\n",
              "      <td>Behr, Mr. Karl Howell</td>\n",
              "      <td>male</td>\n",
              "      <td>26.0</td>\n",
              "      <td>0</td>\n",
              "      <td>0</td>\n",
              "      <td>111369</td>\n",
              "      <td>30.0000</td>\n",
              "      <td>C148</td>\n",
              "      <td>C</td>\n",
              "    </tr>\n",
              "    <tr>\n",
              "      <th>890</th>\n",
              "      <td>891</td>\n",
              "      <td>0</td>\n",
              "      <td>3</td>\n",
              "      <td>Dooley, Mr. Patrick</td>\n",
              "      <td>male</td>\n",
              "      <td>32.0</td>\n",
              "      <td>0</td>\n",
              "      <td>0</td>\n",
              "      <td>370376</td>\n",
              "      <td>7.7500</td>\n",
              "      <td>NaN</td>\n",
              "      <td>Q</td>\n",
              "    </tr>\n",
              "  </tbody>\n",
              "</table>\n",
              "<p>891 rows × 12 columns</p>\n",
              "</div>\n",
              "    <div class=\"colab-df-buttons\">\n",
              "\n",
              "  <div class=\"colab-df-container\">\n",
              "    <button class=\"colab-df-convert\" onclick=\"convertToInteractive('df-1a7a74cb-269c-4ea6-84f6-1871a56c3d68')\"\n",
              "            title=\"Convert this dataframe to an interactive table.\"\n",
              "            style=\"display:none;\">\n",
              "\n",
              "  <svg xmlns=\"http://www.w3.org/2000/svg\" height=\"24px\" viewBox=\"0 -960 960 960\">\n",
              "    <path d=\"M120-120v-720h720v720H120Zm60-500h600v-160H180v160Zm220 220h160v-160H400v160Zm0 220h160v-160H400v160ZM180-400h160v-160H180v160Zm440 0h160v-160H620v160ZM180-180h160v-160H180v160Zm440 0h160v-160H620v160Z\"/>\n",
              "  </svg>\n",
              "    </button>\n",
              "\n",
              "  <style>\n",
              "    .colab-df-container {\n",
              "      display:flex;\n",
              "      gap: 12px;\n",
              "    }\n",
              "\n",
              "    .colab-df-convert {\n",
              "      background-color: #E8F0FE;\n",
              "      border: none;\n",
              "      border-radius: 50%;\n",
              "      cursor: pointer;\n",
              "      display: none;\n",
              "      fill: #1967D2;\n",
              "      height: 32px;\n",
              "      padding: 0 0 0 0;\n",
              "      width: 32px;\n",
              "    }\n",
              "\n",
              "    .colab-df-convert:hover {\n",
              "      background-color: #E2EBFA;\n",
              "      box-shadow: 0px 1px 2px rgba(60, 64, 67, 0.3), 0px 1px 3px 1px rgba(60, 64, 67, 0.15);\n",
              "      fill: #174EA6;\n",
              "    }\n",
              "\n",
              "    .colab-df-buttons div {\n",
              "      margin-bottom: 4px;\n",
              "    }\n",
              "\n",
              "    [theme=dark] .colab-df-convert {\n",
              "      background-color: #3B4455;\n",
              "      fill: #D2E3FC;\n",
              "    }\n",
              "\n",
              "    [theme=dark] .colab-df-convert:hover {\n",
              "      background-color: #434B5C;\n",
              "      box-shadow: 0px 1px 3px 1px rgba(0, 0, 0, 0.15);\n",
              "      filter: drop-shadow(0px 1px 2px rgba(0, 0, 0, 0.3));\n",
              "      fill: #FFFFFF;\n",
              "    }\n",
              "  </style>\n",
              "\n",
              "    <script>\n",
              "      const buttonEl =\n",
              "        document.querySelector('#df-1a7a74cb-269c-4ea6-84f6-1871a56c3d68 button.colab-df-convert');\n",
              "      buttonEl.style.display =\n",
              "        google.colab.kernel.accessAllowed ? 'block' : 'none';\n",
              "\n",
              "      async function convertToInteractive(key) {\n",
              "        const element = document.querySelector('#df-1a7a74cb-269c-4ea6-84f6-1871a56c3d68');\n",
              "        const dataTable =\n",
              "          await google.colab.kernel.invokeFunction('convertToInteractive',\n",
              "                                                    [key], {});\n",
              "        if (!dataTable) return;\n",
              "\n",
              "        const docLinkHtml = 'Like what you see? Visit the ' +\n",
              "          '<a target=\"_blank\" href=https://colab.research.google.com/notebooks/data_table.ipynb>data table notebook</a>'\n",
              "          + ' to learn more about interactive tables.';\n",
              "        element.innerHTML = '';\n",
              "        dataTable['output_type'] = 'display_data';\n",
              "        await google.colab.output.renderOutput(dataTable, element);\n",
              "        const docLink = document.createElement('div');\n",
              "        docLink.innerHTML = docLinkHtml;\n",
              "        element.appendChild(docLink);\n",
              "      }\n",
              "    </script>\n",
              "  </div>\n",
              "\n",
              "\n",
              "<div id=\"df-8302bf67-b73d-4786-8ac4-7056e70c9688\">\n",
              "  <button class=\"colab-df-quickchart\" onclick=\"quickchart('df-8302bf67-b73d-4786-8ac4-7056e70c9688')\"\n",
              "            title=\"Suggest charts.\"\n",
              "            style=\"display:none;\">\n",
              "\n",
              "<svg xmlns=\"http://www.w3.org/2000/svg\" height=\"24px\"viewBox=\"0 0 24 24\"\n",
              "     width=\"24px\">\n",
              "    <g>\n",
              "        <path d=\"M19 3H5c-1.1 0-2 .9-2 2v14c0 1.1.9 2 2 2h14c1.1 0 2-.9 2-2V5c0-1.1-.9-2-2-2zM9 17H7v-7h2v7zm4 0h-2V7h2v10zm4 0h-2v-4h2v4z\"/>\n",
              "    </g>\n",
              "</svg>\n",
              "  </button>\n",
              "\n",
              "<style>\n",
              "  .colab-df-quickchart {\n",
              "    background-color: #E8F0FE;\n",
              "    border: none;\n",
              "    border-radius: 50%;\n",
              "    cursor: pointer;\n",
              "    display: none;\n",
              "    fill: #1967D2;\n",
              "    height: 32px;\n",
              "    padding: 0 0 0 0;\n",
              "    width: 32px;\n",
              "  }\n",
              "\n",
              "  .colab-df-quickchart:hover {\n",
              "    background-color: #E2EBFA;\n",
              "    box-shadow: 0px 1px 2px rgba(60, 64, 67, 0.3), 0px 1px 3px 1px rgba(60, 64, 67, 0.15);\n",
              "    fill: #174EA6;\n",
              "  }\n",
              "\n",
              "  [theme=dark] .colab-df-quickchart {\n",
              "    background-color: #3B4455;\n",
              "    fill: #D2E3FC;\n",
              "  }\n",
              "\n",
              "  [theme=dark] .colab-df-quickchart:hover {\n",
              "    background-color: #434B5C;\n",
              "    box-shadow: 0px 1px 3px 1px rgba(0, 0, 0, 0.15);\n",
              "    filter: drop-shadow(0px 1px 2px rgba(0, 0, 0, 0.3));\n",
              "    fill: #FFFFFF;\n",
              "  }\n",
              "</style>\n",
              "\n",
              "  <script>\n",
              "    async function quickchart(key) {\n",
              "      const charts = await google.colab.kernel.invokeFunction(\n",
              "          'suggestCharts', [key], {});\n",
              "    }\n",
              "    (() => {\n",
              "      let quickchartButtonEl =\n",
              "        document.querySelector('#df-8302bf67-b73d-4786-8ac4-7056e70c9688 button');\n",
              "      quickchartButtonEl.style.display =\n",
              "        google.colab.kernel.accessAllowed ? 'block' : 'none';\n",
              "    })();\n",
              "  </script>\n",
              "</div>\n",
              "    </div>\n",
              "  </div>\n"
            ],
            "text/plain": [
              "     PassengerId  Survived  Pclass  \\\n",
              "0              1         0       3   \n",
              "1              2         1       1   \n",
              "2              3         1       3   \n",
              "3              4         1       1   \n",
              "4              5         0       3   \n",
              "..           ...       ...     ...   \n",
              "886          887         0       2   \n",
              "887          888         1       1   \n",
              "888          889         0       3   \n",
              "889          890         1       1   \n",
              "890          891         0       3   \n",
              "\n",
              "                                                    Name     Sex   Age  SibSp  \\\n",
              "0                                Braund, Mr. Owen Harris    male  22.0      1   \n",
              "1    Cumings, Mrs. John Bradley (Florence Briggs Thayer)  female  38.0      1   \n",
              "2                                 Heikkinen, Miss. Laina  female  26.0      0   \n",
              "3           Futrelle, Mrs. Jacques Heath (Lily May Peel)  female  35.0      1   \n",
              "4                               Allen, Mr. William Henry    male  35.0      0   \n",
              "..                                                   ...     ...   ...    ...   \n",
              "886                                Montvila, Rev. Juozas    male  27.0      0   \n",
              "887                         Graham, Miss. Margaret Edith  female  19.0      0   \n",
              "888             Johnston, Miss. Catherine Helen \"Carrie\"  female   NaN      1   \n",
              "889                                Behr, Mr. Karl Howell    male  26.0      0   \n",
              "890                                  Dooley, Mr. Patrick    male  32.0      0   \n",
              "\n",
              "     Parch            Ticket     Fare Cabin Embarked  \n",
              "0        0         A/5 21171   7.2500   NaN        S  \n",
              "1        0          PC 17599  71.2833   C85        C  \n",
              "2        0  STON/O2. 3101282   7.9250   NaN        S  \n",
              "3        0            113803  53.1000  C123        S  \n",
              "4        0            373450   8.0500   NaN        S  \n",
              "..     ...               ...      ...   ...      ...  \n",
              "886      0            211536  13.0000   NaN        S  \n",
              "887      0            112053  30.0000   B42        S  \n",
              "888      2        W./C. 6607  23.4500   NaN        S  \n",
              "889      0            111369  30.0000  C148        C  \n",
              "890      0            370376   7.7500   NaN        Q  \n",
              "\n",
              "[891 rows x 12 columns]"
            ]
          },
          "execution_count": 5,
          "metadata": {},
          "output_type": "execute_result"
        }
      ],
      "source": [
        "# load the training data and look at it\n",
        "df = pd.read_csv(path/'train.csv')\n",
        "df"
      ]
    },
    {
      "cell_type": "code",
      "execution_count": 6,
      "metadata": {
        "id": "fnATX5o0QTHW"
      },
      "outputs": [],
      "source": [
        "# feature engineering\n",
        "def add_features(df):\n",
        "  df['LogFare'] = np.log1p(df['Fare'])\n",
        "  df['Deck'] = df.Cabin.str[0].map(dict(A=\"ABC\", B=\"ABC\", C=\"ABC\", D=\"DE\", E=\"DE\", F=\"FG\", G=\"FG\"))\n",
        "  df['Family'] = df.SibSp+df.Parch\n",
        "  df['Alone'] = df.Family == 0\n",
        "  df['TicketFreq'] = df.groupby('Ticket')['Ticket'].transform('count')\n",
        "  df['Title'] = df.Name.str.split(', ', expand=True)[1].str.split('.', expand=True)[0]\n",
        "  df['Title'] = df.Title.map(dict(Mr=\"Mr\", Miss=\"Miss\", Mrs=\"Mrs\", Master=\"Master\"))"
      ]
    },
    {
      "cell_type": "code",
      "execution_count": 7,
      "metadata": {
        "id": "atDBGeQ5luju"
      },
      "outputs": [],
      "source": [
        "# add the features to our dataframe\n",
        "add_features(df)"
      ]
    },
    {
      "cell_type": "code",
      "execution_count": 8,
      "metadata": {
        "colab": {
          "base_uri": "https://localhost:8080/"
        },
        "id": "e67nUnEDv5QN",
        "outputId": "f1f24ac8-0f29-4f97-95bf-0be9c57af815"
      },
      "outputs": [
        {
          "data": {
            "text/plain": [
              "PassengerId                      1\n",
              "Survived                       0.0\n",
              "Pclass                         3.0\n",
              "Name           Abbing, Mr. Anthony\n",
              "Sex                           male\n",
              "Age                           24.0\n",
              "SibSp                          0.0\n",
              "Parch                          0.0\n",
              "Ticket                        1601\n",
              "Fare                          8.05\n",
              "Cabin                      B96 B98\n",
              "Embarked                         S\n",
              "LogFare                   2.202765\n",
              "Deck                           ABC\n",
              "Family                         0.0\n",
              "Alone                         True\n",
              "TicketFreq                     1.0\n",
              "Title                           Mr\n",
              "Name: 0, dtype: object"
            ]
          },
          "execution_count": 8,
          "metadata": {},
          "output_type": "execute_result"
        }
      ],
      "source": [
        "# view the topmost row of the modes DataFrame\n",
        "modes = df.mode().iloc[0]\n",
        "modes"
      ]
    },
    {
      "cell_type": "code",
      "execution_count": 9,
      "metadata": {
        "id": "uGlIQte8v73p"
      },
      "outputs": [],
      "source": [
        "# fill missing data with the column's mode\n",
        "df.fillna(modes, inplace=True)"
      ]
    },
    {
      "cell_type": "code",
      "execution_count": 10,
      "metadata": {
        "colab": {
          "base_uri": "https://localhost:8080/"
        },
        "id": "zWCus4ehv_TL",
        "outputId": "95c3918d-1085-4fb7-d4d1-25a71f8c73a2"
      },
      "outputs": [
        {
          "data": {
            "text/plain": [
              "PassengerId    0\n",
              "Survived       0\n",
              "Pclass         0\n",
              "Name           0\n",
              "Sex            0\n",
              "Age            0\n",
              "SibSp          0\n",
              "Parch          0\n",
              "Ticket         0\n",
              "Fare           0\n",
              "Cabin          0\n",
              "Embarked       0\n",
              "LogFare        0\n",
              "Deck           0\n",
              "Family         0\n",
              "Alone          0\n",
              "TicketFreq     0\n",
              "Title          0\n",
              "dtype: int64"
            ]
          },
          "execution_count": 10,
          "metadata": {},
          "output_type": "execute_result"
        }
      ],
      "source": [
        "# check that we no longer have missing data\n",
        "df.isna().sum()"
      ]
    },
    {
      "cell_type": "code",
      "execution_count": 11,
      "metadata": {
        "id": "eccR33LQlyjJ"
      },
      "outputs": [],
      "source": [
        "# create training and validation index lists\n",
        "splits = RandomSplitter(seed=42)(df)"
      ]
    },
    {
      "attachments": {},
      "cell_type": "markdown",
      "metadata": {
        "id": "q2bHIKMo3weR"
      },
      "source": [
        "### Create `DataLoaders`"
      ]
    },
    {
      "attachments": {},
      "cell_type": "markdown",
      "metadata": {
        "id": "Vun4v4IZ30dS"
      },
      "source": [
        "I'll take most of the code from the [Why you should use a framework](https://www.kaggle.com/code/jhoward/why-you-should-use-a-framework) notebook by Jeremy, with the following changes:\n",
        "\n",
        "- Remove `\"Age\"` from `cont_names` and move it to `y_names` along with `\"Survived\"` which will be our two targets.\n",
        "- Set `n_out=2` for the `RegressionBlock`.\n",
        "\n",
        "I'll treat both targets as a regression, as I wasn't able to provide two `DataBlock`s for `y_block`.\n",
        "\n",
        "Since I've filled in missing values manually, I have removed the `FillMissing` item from `procs`."
      ]
    },
    {
      "cell_type": "code",
      "execution_count": 12,
      "metadata": {
        "id": "Fede5L1qjYM5"
      },
      "outputs": [],
      "source": [
        "# create dataloaders object\n",
        "dls = TabularPandas(\n",
        "    df,\n",
        "    splits=splits,\n",
        "    procs=[Categorify, Normalize],\n",
        "    cat_names=[\"Sex\", \"Pclass\", \"Embarked\", \"Deck\", \"Title\"],\n",
        "    cont_names=[\"SibSp\", \"Parch\", \"LogFare\", \"Alone\", \"TicketFreq\", \"Family\"],\n",
        "    y_names=[\"Age\", \"Survived\"],\n",
        "    y_block=RegressionBlock(n_out=2)\n",
        ").dataloaders(path=\".\")"
      ]
    },
    {
      "cell_type": "code",
      "execution_count": 13,
      "metadata": {
        "colab": {
          "base_uri": "https://localhost:8080/",
          "height": 504
        },
        "id": "_vEIYugll1uU",
        "outputId": "ce9b202b-ba83-4c0e-8d75-dd358ef47f6e"
      },
      "outputs": [
        {
          "data": {
            "text/html": [
              "<table border=\"1\" class=\"dataframe\">\n",
              "  <thead>\n",
              "    <tr style=\"text-align: right;\">\n",
              "      <th></th>\n",
              "      <th>Sex</th>\n",
              "      <th>Pclass</th>\n",
              "      <th>Embarked</th>\n",
              "      <th>Deck</th>\n",
              "      <th>Title</th>\n",
              "      <th>SibSp</th>\n",
              "      <th>Parch</th>\n",
              "      <th>LogFare</th>\n",
              "      <th>Alone</th>\n",
              "      <th>TicketFreq</th>\n",
              "      <th>Family</th>\n",
              "      <th>Age</th>\n",
              "      <th>Survived</th>\n",
              "    </tr>\n",
              "  </thead>\n",
              "  <tbody>\n",
              "    <tr>\n",
              "      <th>0</th>\n",
              "      <td>male</td>\n",
              "      <td>1</td>\n",
              "      <td>S</td>\n",
              "      <td>ABC</td>\n",
              "      <td>Mr</td>\n",
              "      <td>1.000000e+00</td>\n",
              "      <td>-9.897945e-09</td>\n",
              "      <td>3.970292</td>\n",
              "      <td>2.458140e-08</td>\n",
              "      <td>2.0</td>\n",
              "      <td>1.000000e+00</td>\n",
              "      <td>42.0</td>\n",
              "      <td>0.0</td>\n",
              "    </tr>\n",
              "    <tr>\n",
              "      <th>1</th>\n",
              "      <td>male</td>\n",
              "      <td>3</td>\n",
              "      <td>S</td>\n",
              "      <td>ABC</td>\n",
              "      <td>Mr</td>\n",
              "      <td>1.689237e-09</td>\n",
              "      <td>-9.897945e-09</td>\n",
              "      <td>2.230014</td>\n",
              "      <td>1.000000e+00</td>\n",
              "      <td>1.0</td>\n",
              "      <td>-1.856774e-08</td>\n",
              "      <td>18.0</td>\n",
              "      <td>0.0</td>\n",
              "    </tr>\n",
              "    <tr>\n",
              "      <th>2</th>\n",
              "      <td>male</td>\n",
              "      <td>2</td>\n",
              "      <td>S</td>\n",
              "      <td>ABC</td>\n",
              "      <td>Mr</td>\n",
              "      <td>1.000000e+00</td>\n",
              "      <td>2.000000e+00</td>\n",
              "      <td>3.358638</td>\n",
              "      <td>2.458140e-08</td>\n",
              "      <td>3.0</td>\n",
              "      <td>3.000000e+00</td>\n",
              "      <td>36.0</td>\n",
              "      <td>0.0</td>\n",
              "    </tr>\n",
              "    <tr>\n",
              "      <th>3</th>\n",
              "      <td>male</td>\n",
              "      <td>3</td>\n",
              "      <td>C</td>\n",
              "      <td>ABC</td>\n",
              "      <td>Mr</td>\n",
              "      <td>1.000000e+00</td>\n",
              "      <td>1.000000e+00</td>\n",
              "      <td>2.107689</td>\n",
              "      <td>2.458140e-08</td>\n",
              "      <td>1.0</td>\n",
              "      <td>2.000000e+00</td>\n",
              "      <td>17.0</td>\n",
              "      <td>0.0</td>\n",
              "    </tr>\n",
              "    <tr>\n",
              "      <th>4</th>\n",
              "      <td>male</td>\n",
              "      <td>3</td>\n",
              "      <td>S</td>\n",
              "      <td>ABC</td>\n",
              "      <td>Mr</td>\n",
              "      <td>1.689237e-09</td>\n",
              "      <td>-9.897945e-09</td>\n",
              "      <td>2.351375</td>\n",
              "      <td>1.000000e+00</td>\n",
              "      <td>1.0</td>\n",
              "      <td>-1.856774e-08</td>\n",
              "      <td>28.0</td>\n",
              "      <td>0.0</td>\n",
              "    </tr>\n",
              "    <tr>\n",
              "      <th>5</th>\n",
              "      <td>female</td>\n",
              "      <td>3</td>\n",
              "      <td>S</td>\n",
              "      <td>ABC</td>\n",
              "      <td>Mrs</td>\n",
              "      <td>1.000000e+00</td>\n",
              "      <td>4.000000e+00</td>\n",
              "      <td>3.363842</td>\n",
              "      <td>2.458140e-08</td>\n",
              "      <td>6.0</td>\n",
              "      <td>5.000000e+00</td>\n",
              "      <td>45.0</td>\n",
              "      <td>0.0</td>\n",
              "    </tr>\n",
              "    <tr>\n",
              "      <th>6</th>\n",
              "      <td>male</td>\n",
              "      <td>3</td>\n",
              "      <td>S</td>\n",
              "      <td>ABC</td>\n",
              "      <td>Mr</td>\n",
              "      <td>1.689237e-09</td>\n",
              "      <td>-9.897945e-09</td>\n",
              "      <td>2.324836</td>\n",
              "      <td>1.000000e+00</td>\n",
              "      <td>1.0</td>\n",
              "      <td>-1.856774e-08</td>\n",
              "      <td>23.0</td>\n",
              "      <td>0.0</td>\n",
              "    </tr>\n",
              "    <tr>\n",
              "      <th>7</th>\n",
              "      <td>female</td>\n",
              "      <td>3</td>\n",
              "      <td>C</td>\n",
              "      <td>ABC</td>\n",
              "      <td>Mrs</td>\n",
              "      <td>1.689237e-09</td>\n",
              "      <td>-9.897945e-09</td>\n",
              "      <td>2.107178</td>\n",
              "      <td>1.000000e+00</td>\n",
              "      <td>1.0</td>\n",
              "      <td>-1.856774e-08</td>\n",
              "      <td>24.0</td>\n",
              "      <td>1.0</td>\n",
              "    </tr>\n",
              "    <tr>\n",
              "      <th>8</th>\n",
              "      <td>male</td>\n",
              "      <td>3</td>\n",
              "      <td>S</td>\n",
              "      <td>ABC</td>\n",
              "      <td>Mr</td>\n",
              "      <td>1.689237e-09</td>\n",
              "      <td>-9.897945e-09</td>\n",
              "      <td>2.188856</td>\n",
              "      <td>1.000000e+00</td>\n",
              "      <td>1.0</td>\n",
              "      <td>-1.856774e-08</td>\n",
              "      <td>39.0</td>\n",
              "      <td>1.0</td>\n",
              "    </tr>\n",
              "    <tr>\n",
              "      <th>9</th>\n",
              "      <td>female</td>\n",
              "      <td>2</td>\n",
              "      <td>C</td>\n",
              "      <td>ABC</td>\n",
              "      <td>Mrs</td>\n",
              "      <td>1.000000e+00</td>\n",
              "      <td>-9.897945e-09</td>\n",
              "      <td>3.436269</td>\n",
              "      <td>2.458140e-08</td>\n",
              "      <td>2.0</td>\n",
              "      <td>1.000000e+00</td>\n",
              "      <td>14.0</td>\n",
              "      <td>1.0</td>\n",
              "    </tr>\n",
              "  </tbody>\n",
              "</table>"
            ],
            "text/plain": [
              "<IPython.core.display.HTML object>"
            ]
          },
          "metadata": {},
          "output_type": "display_data"
        }
      ],
      "source": [
        "dls.show_batch()"
      ]
    },
    {
      "attachments": {},
      "cell_type": "markdown",
      "metadata": {
        "id": "Ny4_pcht4bX2"
      },
      "source": [
        "### Create Loss Function"
      ]
    },
    {
      "attachments": {},
      "cell_type": "markdown",
      "metadata": {
        "id": "bzR3KPyM4ddD"
      },
      "source": [
        "If I understand correctly, we will get 2 columns of predictions, and two variables of targets to compute the loss with:"
      ]
    },
    {
      "cell_type": "code",
      "execution_count": 24,
      "metadata": {
        "id": "oRxMV_yI4wuF"
      },
      "outputs": [],
      "source": [
        "def age_loss(pred, yb): return F.mse_loss(pred[:,0], yb[:,0])\n",
        "def survived_loss(pred, yb): return F.mse_loss(pred[:,1], yb[:,1])\n",
        "\n",
        "def combine_loss(pred, yb): return age_loss(pred, yb) + survived_loss(pred, yb)"
      ]
    },
    {
      "attachments": {},
      "cell_type": "markdown",
      "metadata": {
        "id": "kYN65ox25rxx"
      },
      "source": [
        "### Create Metric Function"
      ]
    },
    {
      "attachments": {},
      "cell_type": "markdown",
      "metadata": {
        "id": "lkcOx-hR5tnb"
      },
      "source": [
        "I'll create an RMSE function for each target variable:"
      ]
    },
    {
      "cell_type": "code",
      "execution_count": 25,
      "metadata": {
        "id": "Yvnq3K9W57LH"
      },
      "outputs": [],
      "source": [
        "def age_rmse(pred, yb): return torch.sqrt(F.mse_loss(pred[:,0], yb[:,0]))\n",
        "def survived_rmse(pred, yb): return torch.sqrt(F.mse_loss(pred[:,1], yb[:,1]))\n",
        "\n",
        "rmse_metrics = (age_rmse, survived_rmse)"
      ]
    },
    {
      "cell_type": "code",
      "execution_count": 37,
      "metadata": {
        "id": "K3OlwJHUl3Gw"
      },
      "outputs": [],
      "source": [
        "learn = tabular_learner(dls, loss_func=combine_loss, metrics=rmse_metrics, layers=[10,10], n_out=2)"
      ]
    },
    {
      "attachments": {},
      "cell_type": "markdown",
      "metadata": {
        "id": "rkTAbcVR7ehI"
      },
      "source": [
        "Most times that I ran the learning rate finder, the loss was steadily increasing from the get-go. I randomly came across the following learning rate regime which looks more stable, so I'll use the given value."
      ]
    },
    {
      "cell_type": "code",
      "execution_count": 38,
      "metadata": {
        "colab": {
          "base_uri": "https://localhost:8080/",
          "height": 472
        },
        "id": "JydBHk4M7N1X",
        "outputId": "4ff12a38-30c9-445f-e9eb-08fb1f134c0c"
      },
      "outputs": [
        {
          "data": {
            "text/html": [
              "\n",
              "<style>\n",
              "    /* Turns off some styling */\n",
              "    progress {\n",
              "        /* gets rid of default border in Firefox and Opera. */\n",
              "        border: none;\n",
              "        /* Needs to be in here for Safari polyfill so background images work as expected. */\n",
              "        background-size: auto;\n",
              "    }\n",
              "    progress:not([value]), progress:not([value])::-webkit-progress-bar {\n",
              "        background: repeating-linear-gradient(45deg, #7e7e7e, #7e7e7e 10px, #5c5c5c 10px, #5c5c5c 20px);\n",
              "    }\n",
              "    .progress-bar-interrupted, .progress-bar-interrupted::-webkit-progress-bar {\n",
              "        background: #F44336;\n",
              "    }\n",
              "</style>\n"
            ],
            "text/plain": [
              "<IPython.core.display.HTML object>"
            ]
          },
          "metadata": {},
          "output_type": "display_data"
        },
        {
          "data": {
            "text/html": [],
            "text/plain": [
              "<IPython.core.display.HTML object>"
            ]
          },
          "metadata": {},
          "output_type": "display_data"
        },
        {
          "data": {
            "text/plain": [
              "SuggestedLRs(slide=6.309573450380412e-07, valley=0.14454397559165955)"
            ]
          },
          "execution_count": 38,
          "metadata": {},
          "output_type": "execute_result"
        },
        {
          "data": {
            "image/png": "[encoded data removed]",
            "text/plain": [
              "<Figure size 640x480 with 1 Axes>"
            ]
          },
          "metadata": {},
          "output_type": "display_data"
        }
      ],
      "source": [
        "learn.lr_find(suggest_funcs=(slide, valley))"
      ]
    },
    {
      "cell_type": "code",
      "execution_count": 39,
      "metadata": {
        "colab": {
          "base_uri": "https://localhost:8080/",
          "height": 677
        },
        "id": "qybDKCRjl6qO",
        "outputId": "cd521cdc-c1f2-4ce1-9270-b0307bd7001a"
      },
      "outputs": [
        {
          "data": {
            "text/html": [
              "\n",
              "<style>\n",
              "    /* Turns off some styling */\n",
              "    progress {\n",
              "        /* gets rid of default border in Firefox and Opera. */\n",
              "        border: none;\n",
              "        /* Needs to be in here for Safari polyfill so background images work as expected. */\n",
              "        background-size: auto;\n",
              "    }\n",
              "    progress:not([value]), progress:not([value])::-webkit-progress-bar {\n",
              "        background: repeating-linear-gradient(45deg, #7e7e7e, #7e7e7e 10px, #5c5c5c 10px, #5c5c5c 20px);\n",
              "    }\n",
              "    .progress-bar-interrupted, .progress-bar-interrupted::-webkit-progress-bar {\n",
              "        background: #F44336;\n",
              "    }\n",
              "</style>\n"
            ],
            "text/plain": [
              "<IPython.core.display.HTML object>"
            ]
          },
          "metadata": {},
          "output_type": "display_data"
        },
        {
          "data": {
            "text/html": [
              "<table border=\"1\" class=\"dataframe\">\n",
              "  <thead>\n",
              "    <tr style=\"text-align: left;\">\n",
              "      <th>epoch</th>\n",
              "      <th>train_loss</th>\n",
              "      <th>valid_loss</th>\n",
              "      <th>age_rmse</th>\n",
              "      <th>survived_rmse</th>\n",
              "      <th>time</th>\n",
              "    </tr>\n",
              "  </thead>\n",
              "  <tbody>\n",
              "    <tr>\n",
              "      <td>0</td>\n",
              "      <td>766.320923</td>\n",
              "      <td>554.657837</td>\n",
              "      <td>23.431234</td>\n",
              "      <td>0.721841</td>\n",
              "      <td>00:00</td>\n",
              "    </tr>\n",
              "    <tr>\n",
              "      <td>1</td>\n",
              "      <td>460.486603</td>\n",
              "      <td>170.207932</td>\n",
              "      <td>13.030014</td>\n",
              "      <td>0.590790</td>\n",
              "      <td>00:00</td>\n",
              "    </tr>\n",
              "    <tr>\n",
              "      <td>2</td>\n",
              "      <td>335.931213</td>\n",
              "      <td>132.264999</td>\n",
              "      <td>11.456180</td>\n",
              "      <td>0.649899</td>\n",
              "      <td>00:00</td>\n",
              "    </tr>\n",
              "    <tr>\n",
              "      <td>3</td>\n",
              "      <td>265.317535</td>\n",
              "      <td>116.719322</td>\n",
              "      <td>10.778342</td>\n",
              "      <td>0.477045</td>\n",
              "      <td>00:00</td>\n",
              "    </tr>\n",
              "    <tr>\n",
              "      <td>4</td>\n",
              "      <td>221.392242</td>\n",
              "      <td>121.840828</td>\n",
              "      <td>11.004195</td>\n",
              "      <td>0.441827</td>\n",
              "      <td>00:00</td>\n",
              "    </tr>\n",
              "    <tr>\n",
              "      <td>5</td>\n",
              "      <td>192.420349</td>\n",
              "      <td>132.113815</td>\n",
              "      <td>11.457218</td>\n",
              "      <td>0.472019</td>\n",
              "      <td>00:00</td>\n",
              "    </tr>\n",
              "    <tr>\n",
              "      <td>6</td>\n",
              "      <td>173.592255</td>\n",
              "      <td>120.654694</td>\n",
              "      <td>10.943729</td>\n",
              "      <td>0.462033</td>\n",
              "      <td>00:00</td>\n",
              "    </tr>\n",
              "    <tr>\n",
              "      <td>7</td>\n",
              "      <td>159.223709</td>\n",
              "      <td>113.375626</td>\n",
              "      <td>10.612040</td>\n",
              "      <td>0.519316</td>\n",
              "      <td>00:00</td>\n",
              "    </tr>\n",
              "    <tr>\n",
              "      <td>8</td>\n",
              "      <td>148.853653</td>\n",
              "      <td>114.346222</td>\n",
              "      <td>10.654099</td>\n",
              "      <td>0.484549</td>\n",
              "      <td>00:00</td>\n",
              "    </tr>\n",
              "    <tr>\n",
              "      <td>9</td>\n",
              "      <td>140.409439</td>\n",
              "      <td>109.572639</td>\n",
              "      <td>10.437387</td>\n",
              "      <td>0.467927</td>\n",
              "      <td>00:00</td>\n",
              "    </tr>\n",
              "    <tr>\n",
              "      <td>10</td>\n",
              "      <td>133.942352</td>\n",
              "      <td>114.497719</td>\n",
              "      <td>10.642965</td>\n",
              "      <td>0.590436</td>\n",
              "      <td>00:00</td>\n",
              "    </tr>\n",
              "    <tr>\n",
              "      <td>11</td>\n",
              "      <td>129.807709</td>\n",
              "      <td>110.892578</td>\n",
              "      <td>10.500125</td>\n",
              "      <td>0.455730</td>\n",
              "      <td>00:00</td>\n",
              "    </tr>\n",
              "    <tr>\n",
              "      <td>12</td>\n",
              "      <td>125.972458</td>\n",
              "      <td>112.508110</td>\n",
              "      <td>10.570338</td>\n",
              "      <td>0.451019</td>\n",
              "      <td>00:00</td>\n",
              "    </tr>\n",
              "    <tr>\n",
              "      <td>13</td>\n",
              "      <td>122.350586</td>\n",
              "      <td>126.790512</td>\n",
              "      <td>11.167099</td>\n",
              "      <td>0.512433</td>\n",
              "      <td>00:00</td>\n",
              "    </tr>\n",
              "    <tr>\n",
              "      <td>14</td>\n",
              "      <td>119.345764</td>\n",
              "      <td>112.307846</td>\n",
              "      <td>10.571351</td>\n",
              "      <td>0.579465</td>\n",
              "      <td>00:00</td>\n",
              "    </tr>\n",
              "    <tr>\n",
              "      <td>15</td>\n",
              "      <td>117.329689</td>\n",
              "      <td>113.805359</td>\n",
              "      <td>10.628425</td>\n",
              "      <td>0.484336</td>\n",
              "      <td>00:00</td>\n",
              "    </tr>\n",
              "    <tr>\n",
              "      <td>16</td>\n",
              "      <td>116.328194</td>\n",
              "      <td>115.227859</td>\n",
              "      <td>10.696632</td>\n",
              "      <td>0.475317</td>\n",
              "      <td>00:00</td>\n",
              "    </tr>\n",
              "    <tr>\n",
              "      <td>17</td>\n",
              "      <td>115.390640</td>\n",
              "      <td>115.162354</td>\n",
              "      <td>10.710686</td>\n",
              "      <td>0.500142</td>\n",
              "      <td>00:00</td>\n",
              "    </tr>\n",
              "    <tr>\n",
              "      <td>18</td>\n",
              "      <td>116.044281</td>\n",
              "      <td>125.941689</td>\n",
              "      <td>11.149549</td>\n",
              "      <td>0.558260</td>\n",
              "      <td>00:00</td>\n",
              "    </tr>\n",
              "    <tr>\n",
              "      <td>19</td>\n",
              "      <td>115.501900</td>\n",
              "      <td>116.436340</td>\n",
              "      <td>10.739085</td>\n",
              "      <td>0.500779</td>\n",
              "      <td>00:00</td>\n",
              "    </tr>\n",
              "  </tbody>\n",
              "</table>"
            ],
            "text/plain": [
              "<IPython.core.display.HTML object>"
            ]
          },
          "metadata": {},
          "output_type": "display_data"
        }
      ],
      "source": [
        "learn.fit(20, lr=0.1)"
      ]
    },
    {
      "attachments": {},
      "cell_type": "markdown",
      "metadata": {
        "id": "SUypLfMN9f7s"
      },
      "source": [
        "After a few epochs, the RMSE values stop improving. The validation loss also fluctuates throughout the training after decreasing for the first three epochs."
      ]
    },
    {
      "attachments": {},
      "cell_type": "markdown",
      "metadata": {
        "id": "zU2xo9Q19wjq"
      },
      "source": [
        "### Comparing Predictions to Actuals"
      ]
    },
    {
      "attachments": {},
      "cell_type": "markdown",
      "metadata": {
        "id": "6yAk1sEQ-Qcd"
      },
      "source": [
        "Based on how the training went, I'm not expecting this model to be able to predict `Age` and `Survived` very well. I'll use the validation set to get predictions and then calculate accuracy for `Survived` and correlation between actuals vs. predictions for `Age`."
      ]
    },
    {
      "cell_type": "code",
      "execution_count": 43,
      "metadata": {
        "colab": {
          "base_uri": "https://localhost:8080/",
          "height": 17
        },
        "id": "se6G5412vJug",
        "outputId": "84849ae4-32c0-49e7-dfef-e51076ade71e"
      },
      "outputs": [
        {
          "data": {
            "text/html": [
              "\n",
              "<style>\n",
              "    /* Turns off some styling */\n",
              "    progress {\n",
              "        /* gets rid of default border in Firefox and Opera. */\n",
              "        border: none;\n",
              "        /* Needs to be in here for Safari polyfill so background images work as expected. */\n",
              "        background-size: auto;\n",
              "    }\n",
              "    progress:not([value]), progress:not([value])::-webkit-progress-bar {\n",
              "        background: repeating-linear-gradient(45deg, #7e7e7e, #7e7e7e 10px, #5c5c5c 10px, #5c5c5c 20px);\n",
              "    }\n",
              "    .progress-bar-interrupted, .progress-bar-interrupted::-webkit-progress-bar {\n",
              "        background: #F44336;\n",
              "    }\n",
              "</style>\n"
            ],
            "text/plain": [
              "<IPython.core.display.HTML object>"
            ]
          },
          "metadata": {},
          "output_type": "display_data"
        },
        {
          "data": {
            "text/html": [],
            "text/plain": [
              "<IPython.core.display.HTML object>"
            ]
          },
          "metadata": {},
          "output_type": "display_data"
        }
      ],
      "source": [
        "preds, targ = learn.get_preds(dl=dls.valid)"
      ]
    },
    {
      "cell_type": "code",
      "execution_count": 47,
      "metadata": {
        "colab": {
          "base_uri": "https://localhost:8080/"
        },
        "id": "M41GIGax_A9B",
        "outputId": "6abb101c-5e99-422c-8329-709bbdc1313d"
      },
      "outputs": [
        {
          "data": {
            "text/plain": [
              "tensor(0.6348)"
            ]
          },
          "execution_count": 47,
          "metadata": {},
          "output_type": "execute_result"
        }
      ],
      "source": [
        "# Survived accuracy\n",
        "(targ[:,1] == (preds[:,1]>0.5)).float().mean()"
      ]
    },
    {
      "cell_type": "code",
      "execution_count": 58,
      "metadata": {
        "id": "fwJm6UfTAa1h"
      },
      "outputs": [],
      "source": [
        "def corr(x,y): return np.corrcoef(x,y)[0][1]"
      ]
    },
    {
      "cell_type": "code",
      "execution_count": 59,
      "metadata": {
        "colab": {
          "base_uri": "https://localhost:8080/",
          "height": 452
        },
        "id": "gbP3-V1x_RKF",
        "outputId": "6f66c91a-4046-4fc3-bf80-3340398b0744"
      },
      "outputs": [
        {
          "data": {
            "image/png": "[encoded data removed]",
            "text/plain": [
              "<Figure size 640x480 with 1 Axes>"
            ]
          },
          "metadata": {},
          "output_type": "display_data"
        }
      ],
      "source": [
        "# Age plot\n",
        "fig, ax = plt.subplots(1)\n",
        "\n",
        "ax.axis('equal')\n",
        "plt.title(f'Predicted Age vs Actual; r: {corr(preds[:,0], targ[:,0]):.2f}')\n",
        "ax.scatter(preds[:,0], targ[:,0]);"
      ]
    },
    {
      "attachments": {},
      "cell_type": "markdown",
      "metadata": {
        "id": "16yPBTerArCA"
      },
      "source": [
        "The model achieved shoddy accuracy (63%) and an uninspiring correlation between predicted and actual age. The model did particularly poorly in predicting ages above 40."
      ]
    },
    {
      "attachments": {},
      "cell_type": "markdown",
      "metadata": {
        "id": "3PLBGdkABMaX"
      },
      "source": [
        "## Comparing to Single-Target Models"
      ]
    },
    {
      "attachments": {},
      "cell_type": "markdown",
      "metadata": {
        "id": "xr_VVkjUBOog"
      },
      "source": [
        "I'm curious to see how the model performs when I train it for single targets. I'll train one regression model for `Age`, another separate regression model for `Survived`, and see how their results compare to the combined two-target model."
      ]
    },
    {
      "attachments": {},
      "cell_type": "markdown",
      "metadata": {
        "id": "dMUuY9DkB6hc"
      },
      "source": [
        "### Single Target: Age"
      ]
    },
    {
      "cell_type": "code",
      "execution_count": 73,
      "metadata": {
        "id": "JH4It241_cF9"
      },
      "outputs": [],
      "source": [
        "# create dataloaders object\n",
        "age_dls = TabularPandas(\n",
        "    df,\n",
        "    splits=splits,\n",
        "    procs=[Categorify, Normalize],\n",
        "    cat_names=[\"Sex\", \"Pclass\", \"Embarked\", \"Deck\", \"Title\"],\n",
        "    cont_names=[\"SibSp\", \"Parch\", \"LogFare\", \"Alone\", \"TicketFreq\", \"Family\"],\n",
        "    y_names=\"Age\",\n",
        "    y_block=RegressionBlock()\n",
        ").dataloaders(path=\".\")"
      ]
    },
    {
      "cell_type": "code",
      "execution_count": 74,
      "metadata": {
        "id": "8U-PQTo-CFcX"
      },
      "outputs": [],
      "source": [
        "age_learn = tabular_learner(age_dls, metrics=rmse, layers=[10,10])"
      ]
    },
    {
      "attachments": {},
      "cell_type": "markdown",
      "metadata": {
        "id": "hid-VelECcsV"
      },
      "source": [
        "I ran the learning rate finder 10 times and got similar charts each time, which tells me that something about this model is more stable than my two-target model."
      ]
    },
    {
      "cell_type": "code",
      "execution_count": 84,
      "metadata": {
        "colab": {
          "base_uri": "https://localhost:8080/",
          "height": 477
        },
        "id": "MJoXww-7CPQU",
        "outputId": "18094275-3ac6-4a7b-9d93-2a6927b042fb"
      },
      "outputs": [
        {
          "data": {
            "text/html": [
              "\n",
              "<style>\n",
              "    /* Turns off some styling */\n",
              "    progress {\n",
              "        /* gets rid of default border in Firefox and Opera. */\n",
              "        border: none;\n",
              "        /* Needs to be in here for Safari polyfill so background images work as expected. */\n",
              "        background-size: auto;\n",
              "    }\n",
              "    progress:not([value]), progress:not([value])::-webkit-progress-bar {\n",
              "        background: repeating-linear-gradient(45deg, #7e7e7e, #7e7e7e 10px, #5c5c5c 10px, #5c5c5c 20px);\n",
              "    }\n",
              "    .progress-bar-interrupted, .progress-bar-interrupted::-webkit-progress-bar {\n",
              "        background: #F44336;\n",
              "    }\n",
              "</style>\n"
            ],
            "text/plain": [
              "<IPython.core.display.HTML object>"
            ]
          },
          "metadata": {},
          "output_type": "display_data"
        },
        {
          "data": {
            "text/html": [],
            "text/plain": [
              "<IPython.core.display.HTML object>"
            ]
          },
          "metadata": {},
          "output_type": "display_data"
        },
        {
          "data": {
            "text/plain": [
              "SuggestedLRs(slide=6.309573450380412e-07, valley=0.0831763744354248)"
            ]
          },
          "execution_count": 84,
          "metadata": {},
          "output_type": "execute_result"
        },
        {
          "data": {
            "image/png": "[encoded data removed]",
            "text/plain": [
              "<Figure size 640x480 with 1 Axes>"
            ]
          },
          "metadata": {},
          "output_type": "display_data"
        }
      ],
      "source": [
        "age_learn.lr_find(suggest_funcs=(slide, valley))"
      ]
    },
    {
      "cell_type": "code",
      "execution_count": 85,
      "metadata": {
        "colab": {
          "base_uri": "https://localhost:8080/",
          "height": 551
        },
        "id": "u_gY5HWNCSSB",
        "outputId": "18213d31-d995-4bb6-bf0d-d785ad076a82"
      },
      "outputs": [
        {
          "data": {
            "text/html": [
              "\n",
              "<style>\n",
              "    /* Turns off some styling */\n",
              "    progress {\n",
              "        /* gets rid of default border in Firefox and Opera. */\n",
              "        border: none;\n",
              "        /* Needs to be in here for Safari polyfill so background images work as expected. */\n",
              "        background-size: auto;\n",
              "    }\n",
              "    progress:not([value]), progress:not([value])::-webkit-progress-bar {\n",
              "        background: repeating-linear-gradient(45deg, #7e7e7e, #7e7e7e 10px, #5c5c5c 10px, #5c5c5c 20px);\n",
              "    }\n",
              "    .progress-bar-interrupted, .progress-bar-interrupted::-webkit-progress-bar {\n",
              "        background: #F44336;\n",
              "    }\n",
              "</style>\n"
            ],
            "text/plain": [
              "<IPython.core.display.HTML object>"
            ]
          },
          "metadata": {},
          "output_type": "display_data"
        },
        {
          "data": {
            "text/html": [
              "<table border=\"1\" class=\"dataframe\">\n",
              "  <thead>\n",
              "    <tr style=\"text-align: left;\">\n",
              "      <th>epoch</th>\n",
              "      <th>train_loss</th>\n",
              "      <th>valid_loss</th>\n",
              "      <th>_rmse</th>\n",
              "      <th>time</th>\n",
              "    </tr>\n",
              "  </thead>\n",
              "  <tbody>\n",
              "    <tr>\n",
              "      <td>0</td>\n",
              "      <td>781.124268</td>\n",
              "      <td>233.326263</td>\n",
              "      <td>15.275021</td>\n",
              "      <td>00:00</td>\n",
              "    </tr>\n",
              "    <tr>\n",
              "      <td>1</td>\n",
              "      <td>454.851532</td>\n",
              "      <td>408.981842</td>\n",
              "      <td>20.223301</td>\n",
              "      <td>00:00</td>\n",
              "    </tr>\n",
              "    <tr>\n",
              "      <td>2</td>\n",
              "      <td>328.806274</td>\n",
              "      <td>116.149773</td>\n",
              "      <td>10.777281</td>\n",
              "      <td>00:00</td>\n",
              "    </tr>\n",
              "    <tr>\n",
              "      <td>3</td>\n",
              "      <td>263.302643</td>\n",
              "      <td>119.088097</td>\n",
              "      <td>10.912749</td>\n",
              "      <td>00:00</td>\n",
              "    </tr>\n",
              "    <tr>\n",
              "      <td>4</td>\n",
              "      <td>219.239166</td>\n",
              "      <td>127.125175</td>\n",
              "      <td>11.274981</td>\n",
              "      <td>00:00</td>\n",
              "    </tr>\n",
              "    <tr>\n",
              "      <td>5</td>\n",
              "      <td>190.565811</td>\n",
              "      <td>111.707756</td>\n",
              "      <td>10.569189</td>\n",
              "      <td>00:00</td>\n",
              "    </tr>\n",
              "    <tr>\n",
              "      <td>6</td>\n",
              "      <td>171.005737</td>\n",
              "      <td>113.618858</td>\n",
              "      <td>10.659215</td>\n",
              "      <td>00:00</td>\n",
              "    </tr>\n",
              "    <tr>\n",
              "      <td>7</td>\n",
              "      <td>157.105713</td>\n",
              "      <td>109.284859</td>\n",
              "      <td>10.453939</td>\n",
              "      <td>00:00</td>\n",
              "    </tr>\n",
              "    <tr>\n",
              "      <td>8</td>\n",
              "      <td>146.396072</td>\n",
              "      <td>118.541183</td>\n",
              "      <td>10.887661</td>\n",
              "      <td>00:00</td>\n",
              "    </tr>\n",
              "    <tr>\n",
              "      <td>9</td>\n",
              "      <td>138.696716</td>\n",
              "      <td>107.435219</td>\n",
              "      <td>10.365096</td>\n",
              "      <td>00:00</td>\n",
              "    </tr>\n",
              "    <tr>\n",
              "      <td>10</td>\n",
              "      <td>132.795654</td>\n",
              "      <td>109.071220</td>\n",
              "      <td>10.443716</td>\n",
              "      <td>00:00</td>\n",
              "    </tr>\n",
              "    <tr>\n",
              "      <td>11</td>\n",
              "      <td>128.642639</td>\n",
              "      <td>112.930344</td>\n",
              "      <td>10.626869</td>\n",
              "      <td>00:00</td>\n",
              "    </tr>\n",
              "    <tr>\n",
              "      <td>12</td>\n",
              "      <td>124.508675</td>\n",
              "      <td>107.584816</td>\n",
              "      <td>10.372310</td>\n",
              "      <td>00:00</td>\n",
              "    </tr>\n",
              "    <tr>\n",
              "      <td>13</td>\n",
              "      <td>121.428909</td>\n",
              "      <td>113.099953</td>\n",
              "      <td>10.634846</td>\n",
              "      <td>00:00</td>\n",
              "    </tr>\n",
              "    <tr>\n",
              "      <td>14</td>\n",
              "      <td>119.856216</td>\n",
              "      <td>114.224464</td>\n",
              "      <td>10.687585</td>\n",
              "      <td>00:00</td>\n",
              "    </tr>\n",
              "    <tr>\n",
              "      <td>15</td>\n",
              "      <td>118.349365</td>\n",
              "      <td>109.042511</td>\n",
              "      <td>10.442342</td>\n",
              "      <td>00:00</td>\n",
              "    </tr>\n",
              "  </tbody>\n",
              "</table>"
            ],
            "text/plain": [
              "<IPython.core.display.HTML object>"
            ]
          },
          "metadata": {},
          "output_type": "display_data"
        }
      ],
      "source": [
        "age_learn.fit(16, lr=0.1)"
      ]
    },
    {
      "attachments": {},
      "cell_type": "markdown",
      "metadata": {
        "id": "fZx80aqZCsWJ"
      },
      "source": [
        "The validation loss also fluctuates in this model's training. The RMSE metric also does not really improve after the first couple of epochs. Similar to last time, I'll plot the predicted age vs actual and calculate the correlation between the two:"
      ]
    },
    {
      "cell_type": "code",
      "execution_count": 86,
      "metadata": {
        "colab": {
          "base_uri": "https://localhost:8080/",
          "height": 17
        },
        "id": "lxkvxDhpColD",
        "outputId": "b0a28cd3-e9b7-4c11-dfad-faf85c911ab0"
      },
      "outputs": [
        {
          "data": {
            "text/html": [
              "\n",
              "<style>\n",
              "    /* Turns off some styling */\n",
              "    progress {\n",
              "        /* gets rid of default border in Firefox and Opera. */\n",
              "        border: none;\n",
              "        /* Needs to be in here for Safari polyfill so background images work as expected. */\n",
              "        background-size: auto;\n",
              "    }\n",
              "    progress:not([value]), progress:not([value])::-webkit-progress-bar {\n",
              "        background: repeating-linear-gradient(45deg, #7e7e7e, #7e7e7e 10px, #5c5c5c 10px, #5c5c5c 20px);\n",
              "    }\n",
              "    .progress-bar-interrupted, .progress-bar-interrupted::-webkit-progress-bar {\n",
              "        background: #F44336;\n",
              "    }\n",
              "</style>\n"
            ],
            "text/plain": [
              "<IPython.core.display.HTML object>"
            ]
          },
          "metadata": {},
          "output_type": "display_data"
        },
        {
          "data": {
            "text/html": [],
            "text/plain": [
              "<IPython.core.display.HTML object>"
            ]
          },
          "metadata": {},
          "output_type": "display_data"
        }
      ],
      "source": [
        "age_preds, age_targ = age_learn.get_preds(dl=age_dls.valid)"
      ]
    },
    {
      "cell_type": "code",
      "execution_count": 87,
      "metadata": {
        "colab": {
          "base_uri": "https://localhost:8080/",
          "height": 452
        },
        "id": "SvMNAmcRDUq-",
        "outputId": "f59357a3-7708-49a5-da0c-4d360de98d38"
      },
      "outputs": [
        {
          "data": {
            "image/png": "[encoded data removed]",
            "text/plain": [
              "<Figure size 640x480 with 1 Axes>"
            ]
          },
          "metadata": {},
          "output_type": "display_data"
        }
      ],
      "source": [
        "# Age plot\n",
        "fig, ax = plt.subplots(1)\n",
        "\n",
        "ax.axis('equal')\n",
        "plt.title(f'Predicted Age vs Actual; r: {corr(age_preds[:,0], age_targ[:,0]):.2f}')\n",
        "ax.scatter(age_preds[:,0], age_targ[:,0]);"
      ]
    },
    {
      "attachments": {},
      "cell_type": "markdown",
      "metadata": {
        "id": "Rhgl6XD5DgMf"
      },
      "source": [
        "Surprisingly, the single target Age model does not perform much better than my two-target model. I get a similar correlation, and this model also fails to predict ages above around 40."
      ]
    },
    {
      "attachments": {},
      "cell_type": "markdown",
      "metadata": {
        "id": "r1U2VnvLDyBk"
      },
      "source": [
        "### Single Target: Survived"
      ]
    },
    {
      "attachments": {},
      "cell_type": "markdown",
      "metadata": {
        "id": "z1GsO_OMD0w2"
      },
      "source": [
        "In Jeremy's \"Why you should use a framework\" notebook, he achieves about an 83% accuracy. I'll use this as a benchmark to compare my model with."
      ]
    },
    {
      "cell_type": "code",
      "execution_count": 88,
      "metadata": {
        "id": "iFf7JvRpDbEo"
      },
      "outputs": [],
      "source": [
        "# create dataloaders object\n",
        "survived_dls = TabularPandas(\n",
        "    df,\n",
        "    splits=splits,\n",
        "    procs=[Categorify, Normalize],\n",
        "    cat_names=[\"Sex\", \"Pclass\", \"Embarked\", \"Deck\", \"Title\"],\n",
        "    cont_names=[\"SibSp\", \"Parch\", \"LogFare\", \"Alone\", \"TicketFreq\", \"Family\"],\n",
        "    y_names=\"Survived\",\n",
        "    y_block=RegressionBlock()\n",
        ").dataloaders(path=\".\")"
      ]
    },
    {
      "cell_type": "code",
      "execution_count": 89,
      "metadata": {
        "id": "y0yAUbd9Exjc"
      },
      "outputs": [],
      "source": [
        "survived_learn = tabular_learner(survived_dls, metrics=rmse, layers=[10,10])"
      ]
    },
    {
      "cell_type": "code",
      "execution_count": 91,
      "metadata": {
        "colab": {
          "base_uri": "https://localhost:8080/",
          "height": 472
        },
        "id": "fseTfxnpE0_9",
        "outputId": "a0f3cb2c-5c7f-45ea-b66c-67d008e130f1"
      },
      "outputs": [
        {
          "data": {
            "text/html": [
              "\n",
              "<style>\n",
              "    /* Turns off some styling */\n",
              "    progress {\n",
              "        /* gets rid of default border in Firefox and Opera. */\n",
              "        border: none;\n",
              "        /* Needs to be in here for Safari polyfill so background images work as expected. */\n",
              "        background-size: auto;\n",
              "    }\n",
              "    progress:not([value]), progress:not([value])::-webkit-progress-bar {\n",
              "        background: repeating-linear-gradient(45deg, #7e7e7e, #7e7e7e 10px, #5c5c5c 10px, #5c5c5c 20px);\n",
              "    }\n",
              "    .progress-bar-interrupted, .progress-bar-interrupted::-webkit-progress-bar {\n",
              "        background: #F44336;\n",
              "    }\n",
              "</style>\n"
            ],
            "text/plain": [
              "<IPython.core.display.HTML object>"
            ]
          },
          "metadata": {},
          "output_type": "display_data"
        },
        {
          "data": {
            "text/html": [],
            "text/plain": [
              "<IPython.core.display.HTML object>"
            ]
          },
          "metadata": {},
          "output_type": "display_data"
        },
        {
          "data": {
            "text/plain": [
              "SuggestedLRs(slide=0.05754399299621582, valley=0.0063095735386013985)"
            ]
          },
          "execution_count": 91,
          "metadata": {},
          "output_type": "execute_result"
        },
        {
          "data": {
            "image/png": "[encoded data removed]",
            "text/plain": [
              "<Figure size 640x480 with 1 Axes>"
            ]
          },
          "metadata": {},
          "output_type": "display_data"
        }
      ],
      "source": [
        "survived_learn.lr_find(suggest_funcs=(slide, valley))"
      ]
    },
    {
      "cell_type": "code",
      "execution_count": 92,
      "metadata": {
        "colab": {
          "base_uri": "https://localhost:8080/",
          "height": 551
        },
        "id": "3YcSG7RlE3o8",
        "outputId": "0cd5c074-4ba6-414e-bca9-9fd1ffdd152b"
      },
      "outputs": [
        {
          "data": {
            "text/html": [
              "\n",
              "<style>\n",
              "    /* Turns off some styling */\n",
              "    progress {\n",
              "        /* gets rid of default border in Firefox and Opera. */\n",
              "        border: none;\n",
              "        /* Needs to be in here for Safari polyfill so background images work as expected. */\n",
              "        background-size: auto;\n",
              "    }\n",
              "    progress:not([value]), progress:not([value])::-webkit-progress-bar {\n",
              "        background: repeating-linear-gradient(45deg, #7e7e7e, #7e7e7e 10px, #5c5c5c 10px, #5c5c5c 20px);\n",
              "    }\n",
              "    .progress-bar-interrupted, .progress-bar-interrupted::-webkit-progress-bar {\n",
              "        background: #F44336;\n",
              "    }\n",
              "</style>\n"
            ],
            "text/plain": [
              "<IPython.core.display.HTML object>"
            ]
          },
          "metadata": {},
          "output_type": "display_data"
        },
        {
          "data": {
            "text/html": [
              "<table border=\"1\" class=\"dataframe\">\n",
              "  <thead>\n",
              "    <tr style=\"text-align: left;\">\n",
              "      <th>epoch</th>\n",
              "      <th>train_loss</th>\n",
              "      <th>valid_loss</th>\n",
              "      <th>_rmse</th>\n",
              "      <th>time</th>\n",
              "    </tr>\n",
              "  </thead>\n",
              "  <tbody>\n",
              "    <tr>\n",
              "      <td>0</td>\n",
              "      <td>0.250865</td>\n",
              "      <td>0.240620</td>\n",
              "      <td>0.490530</td>\n",
              "      <td>00:00</td>\n",
              "    </tr>\n",
              "    <tr>\n",
              "      <td>1</td>\n",
              "      <td>0.200100</td>\n",
              "      <td>0.214276</td>\n",
              "      <td>0.462899</td>\n",
              "      <td>00:00</td>\n",
              "    </tr>\n",
              "    <tr>\n",
              "      <td>2</td>\n",
              "      <td>0.177398</td>\n",
              "      <td>0.150440</td>\n",
              "      <td>0.387866</td>\n",
              "      <td>00:00</td>\n",
              "    </tr>\n",
              "    <tr>\n",
              "      <td>3</td>\n",
              "      <td>0.163052</td>\n",
              "      <td>0.135140</td>\n",
              "      <td>0.367615</td>\n",
              "      <td>00:00</td>\n",
              "    </tr>\n",
              "    <tr>\n",
              "      <td>4</td>\n",
              "      <td>0.153141</td>\n",
              "      <td>0.131269</td>\n",
              "      <td>0.362311</td>\n",
              "      <td>00:00</td>\n",
              "    </tr>\n",
              "    <tr>\n",
              "      <td>5</td>\n",
              "      <td>0.147007</td>\n",
              "      <td>0.133025</td>\n",
              "      <td>0.364726</td>\n",
              "      <td>00:00</td>\n",
              "    </tr>\n",
              "    <tr>\n",
              "      <td>6</td>\n",
              "      <td>0.143294</td>\n",
              "      <td>0.132439</td>\n",
              "      <td>0.363922</td>\n",
              "      <td>00:00</td>\n",
              "    </tr>\n",
              "    <tr>\n",
              "      <td>7</td>\n",
              "      <td>0.138928</td>\n",
              "      <td>0.131754</td>\n",
              "      <td>0.362979</td>\n",
              "      <td>00:00</td>\n",
              "    </tr>\n",
              "    <tr>\n",
              "      <td>8</td>\n",
              "      <td>0.135169</td>\n",
              "      <td>0.128147</td>\n",
              "      <td>0.357976</td>\n",
              "      <td>00:00</td>\n",
              "    </tr>\n",
              "    <tr>\n",
              "      <td>9</td>\n",
              "      <td>0.133087</td>\n",
              "      <td>0.125253</td>\n",
              "      <td>0.353910</td>\n",
              "      <td>00:00</td>\n",
              "    </tr>\n",
              "    <tr>\n",
              "      <td>10</td>\n",
              "      <td>0.130366</td>\n",
              "      <td>0.126195</td>\n",
              "      <td>0.355240</td>\n",
              "      <td>00:00</td>\n",
              "    </tr>\n",
              "    <tr>\n",
              "      <td>11</td>\n",
              "      <td>0.128971</td>\n",
              "      <td>0.130248</td>\n",
              "      <td>0.360899</td>\n",
              "      <td>00:00</td>\n",
              "    </tr>\n",
              "    <tr>\n",
              "      <td>12</td>\n",
              "      <td>0.127474</td>\n",
              "      <td>0.128108</td>\n",
              "      <td>0.357922</td>\n",
              "      <td>00:00</td>\n",
              "    </tr>\n",
              "    <tr>\n",
              "      <td>13</td>\n",
              "      <td>0.126128</td>\n",
              "      <td>0.124583</td>\n",
              "      <td>0.352963</td>\n",
              "      <td>00:00</td>\n",
              "    </tr>\n",
              "    <tr>\n",
              "      <td>14</td>\n",
              "      <td>0.125103</td>\n",
              "      <td>0.125416</td>\n",
              "      <td>0.354142</td>\n",
              "      <td>00:00</td>\n",
              "    </tr>\n",
              "    <tr>\n",
              "      <td>15</td>\n",
              "      <td>0.123530</td>\n",
              "      <td>0.129710</td>\n",
              "      <td>0.360152</td>\n",
              "      <td>00:00</td>\n",
              "    </tr>\n",
              "  </tbody>\n",
              "</table>"
            ],
            "text/plain": [
              "<IPython.core.display.HTML object>"
            ]
          },
          "metadata": {},
          "output_type": "display_data"
        }
      ],
      "source": [
        "survived_learn.fit(16, lr=0.02)"
      ]
    },
    {
      "cell_type": "code",
      "execution_count": 93,
      "metadata": {
        "colab": {
          "base_uri": "https://localhost:8080/",
          "height": 17
        },
        "id": "ZRhO-S0KFEd-",
        "outputId": "14efd873-7950-431e-c11a-7cec83141f20"
      },
      "outputs": [
        {
          "data": {
            "text/html": [
              "\n",
              "<style>\n",
              "    /* Turns off some styling */\n",
              "    progress {\n",
              "        /* gets rid of default border in Firefox and Opera. */\n",
              "        border: none;\n",
              "        /* Needs to be in here for Safari polyfill so background images work as expected. */\n",
              "        background-size: auto;\n",
              "    }\n",
              "    progress:not([value]), progress:not([value])::-webkit-progress-bar {\n",
              "        background: repeating-linear-gradient(45deg, #7e7e7e, #7e7e7e 10px, #5c5c5c 10px, #5c5c5c 20px);\n",
              "    }\n",
              "    .progress-bar-interrupted, .progress-bar-interrupted::-webkit-progress-bar {\n",
              "        background: #F44336;\n",
              "    }\n",
              "</style>\n"
            ],
            "text/plain": [
              "<IPython.core.display.HTML object>"
            ]
          },
          "metadata": {},
          "output_type": "display_data"
        },
        {
          "data": {
            "text/html": [],
            "text/plain": [
              "<IPython.core.display.HTML object>"
            ]
          },
          "metadata": {},
          "output_type": "display_data"
        }
      ],
      "source": [
        "survived_preds, survived_targ = survived_learn.get_preds(dl=survived_dls.valid)"
      ]
    },
    {
      "cell_type": "code",
      "execution_count": 95,
      "metadata": {
        "colab": {
          "base_uri": "https://localhost:8080/"
        },
        "id": "4hCixCiMFNq0",
        "outputId": "3832ca2d-5ecb-4a20-e48b-1e9f18e6581d"
      },
      "outputs": [
        {
          "data": {
            "text/plain": [
              "tensor(0.8258)"
            ]
          },
          "execution_count": 95,
          "metadata": {},
          "output_type": "execute_result"
        }
      ],
      "source": [
        "(survived_targ == (survived_preds>0.5)).float().mean()"
      ]
    },
    {
      "attachments": {},
      "cell_type": "markdown",
      "metadata": {
        "id": "TvjHYnjUFYI5"
      },
      "source": [
        "I get an accuracy of around 83% as well."
      ]
    },
    {
      "attachments": {},
      "cell_type": "markdown",
      "metadata": {
        "id": "9cDY742eFdiO"
      },
      "source": [
        "## Final Thoughts"
      ]
    },
    {
      "attachments": {},
      "cell_type": "markdown",
      "metadata": {
        "id": "M2eZbGIbFfIT"
      },
      "source": [
        "Here are my takeaways from this experiment:\n",
        "\n",
        "- A single-target regression model predicts `Survived` better than `Age`.\n",
        "- A two-target regression model (`Survived` and `Age`) predicts `Survived` significantly worse than a single-target model (`Survived` only). Something about introducing an output for `Age` decreases the model's performance when predicting survival rate.\n",
        "- A two-target regression model (`Survived` and `Age`) predicts `Age` with about the same correlation as a single-target model (`Age` only).\n",
        "\n",
        "\n",
        "Something about this dataset (and how the model learns from it) makes `Age` a poor target for prediction. Perhaps it's the distribution of ages in the dataset, or the relationship with other columns, that makes it harder for the model to predict it accurately.\n",
        "\n",
        "I'm happy and proud that I was able to run this experiment after failing to overcome some errors the first couple of times I tried to train a two-target model earlier this week.\n",
        "\n",
        "I hope you enjoyed this blog post!"
      ]
    }
  ],
  "metadata": {
    "colab": {
      "provenance": [],
      "toc_visible": true
    },
    "kernelspec": {
      "display_name": "Python 3",
      "name": "python3"
    },
    "language_info": {
      "name": "python"
    }
  },
  "nbformat": 4,
  "nbformat_minor": 0
}

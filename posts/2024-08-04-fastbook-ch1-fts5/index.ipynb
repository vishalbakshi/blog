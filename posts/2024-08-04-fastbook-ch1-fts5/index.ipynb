{
  "cells": [
    {
      "cell_type": "raw",
      "metadata": {
        "vscode": {
          "languageId": "raw"
        }
      },
      "source": [
        "---\n",
        "title: Using Full Text Search to Answer the fastbook Chapter 1 Questionnaire\n",
        "date: \"2024-08-04\"\n",
        "author: Vishal Bakshi\n",
        "description: In this blog post I'll walk through my experiments of using sqlite full text search to retrieve context relevant to answering chapter review questions. This is part of a larger fastbookRAG proejct I'm work on.\n",
        "categories:\n",
        "    - python\n",
        "    - RAG\n",
        "    - information retrieval\n",
        "    - fastbookRAG\n",
        "---"
      ]
    },
    {
      "cell_type": "markdown",
      "metadata": {
        "id": "qE8JVCxenddE"
      },
      "source": [
        "## Background"
      ]
    },
    {
      "cell_type": "markdown",
      "metadata": {
        "id": "MOkhudOlnfsj"
      },
      "source": [
        "In this notebook I'll use BM25 (full text search in sqlite) to answer questions about [Chapter 1 of the freely available fastai textbook](https://github.com/fastai/fastbook/blob/master/01_intro.ipynb).\n",
        "\n",
        "This is part of a larger \"fastbookRAG\" project that I'm working on, where I'll use BM25, cosine similarity and an LLM (probably phi-3) to answer questions from each of the book chapters' \"Questionnaire\" section (from Part 1 of the fastai course)."
      ]
    },
    {
      "cell_type": "code",
      "execution_count": 53,
      "metadata": {
        "id": "7YgZB7YmoHMw"
      },
      "outputs": [],
      "source": [
        "#| code-fold: true\n",
        "#| code-summary: \"Show imports\"\n",
        "\n",
        "import sqlite3\n",
        "import json\n",
        "import re\n",
        "import pandas as pd, numpy as np\n",
        "import textwrap\n",
        "\n",
        "wrapper = textwrap.TextWrapper(\n",
        "    width=50,\n",
        "    replace_whitespace=False,\n",
        "    drop_whitespace=False)\n",
        "\n",
        "def print_wrap_text(text):\n",
        "  print(\"\\n\".join(wrapper.fill(line) for line in text.splitlines()))"
      ]
    },
    {
      "cell_type": "markdown",
      "metadata": {},
      "source": [
        "Here is a summary of the results of this notebook's experiments:\n",
        "\n",
        "\n",
        "|Top BM25 Ranked Chunks Retrieved|Chunk Size|Retrieved Context Relevancy*|\n",
        "|:-:|:-:|:-:|\n",
        "|top-3|Large|72%|\n",
        "|top-1|Large|54%|\n",
        "|top-3|Small|54%|\n",
        "|top-1|Small|40%|\n",
        "\n",
        "\\*_Retrieved Context Relevancy_:The percentage of questions for which the retrieved context was relevant and sufficient for me to answer the question."
      ]
    },
    {
      "cell_type": "markdown",
      "metadata": {
        "id": "Fyot825ioPGJ"
      },
      "source": [
        "## Chunking the Chapter 1 Jupyter Notebook by Paragraph"
      ]
    },
    {
      "cell_type": "markdown",
      "metadata": {
        "id": "XWO3hqYHoVAy"
      },
      "source": [
        "The first task at hand is to load the Chapter 1 Jupyter Notebook into a sqlite database (so that I can perform full text search on it). There are a few different ways to do this:\n",
        "\n",
        "- Load in the entire chapter as a single string of text\n",
        "- Chunk the chapter text based on headers\n",
        "- Chunk the chapter text based on paragraphs (text between line breaks)\n",
        "\n",
        "To start, I'll combine the second and third options and chunk the text based on paragraphs plus include the header at the start of the string. So for example the following text:\n",
        "\n",
        "---\n",
        "\n",
        "### This is a Header\n",
        "\n",
        "This is pargraph one. It has two sentences.\n",
        "\n",
        "This is paragraph two. It has two sentences as well.\n",
        "\n",
        "---\n",
        "\n",
        "\n",
        "will get chunked into the following strings:\n",
        "\n",
        "```python\n",
        "# string 1\n",
        "\"\"\"### This is a Header\n",
        "\n",
        "This is pargraph one. It has two sentences.\n",
        "\"\"\"\n",
        "\n",
        "# string 2\n",
        "\"\"\"### This is a Header\n",
        "\n",
        "This is paragraph two. It has two sentences as well.\n",
        "\"\"\"\n",
        "```\n",
        "In this way I am capturing the granular information (the paragraph text) along with the big picture theme (the header). I suppose this is one way of capturing metadata about the text."
      ]
    },
    {
      "cell_type": "markdown",
      "metadata": {
        "id": "PLF7YzE9pqHN"
      },
      "source": [
        "After a few iterations of feedback, I got the following code from Claude Sonnet-3.5 to chunk a `.ipynb` file into a list of strings."
      ]
    },
    {
      "cell_type": "code",
      "execution_count": 2,
      "metadata": {
        "id": "scKaOl1LmgJi"
      },
      "outputs": [],
      "source": [
        "#| code-fold: true\n",
        "#| code-summary: \"Show the chunking code\"\n",
        "\n",
        "def get_chunks(notebook_path):\n",
        "    with open(notebook_path, 'r', encoding='utf-8') as file:\n",
        "        notebook = json.load(file)\n",
        "\n",
        "    chunks = []\n",
        "    current_header = \"\"\n",
        "\n",
        "    def add_chunk(content):\n",
        "        if content.strip():\n",
        "            chunks.append(f\"{current_header}\\n\\n{content.strip()}\")\n",
        "\n",
        "    for cell in notebook['cells']:\n",
        "        if cell['cell_type'] == 'markdown':\n",
        "            content = ''.join(cell['source'])\n",
        "            header_match = re.match(r'^(#+\\s+.*?)$', content, re.MULTILINE)\n",
        "            if header_match:  # Check if the cell starts with a header\n",
        "                current_header = header_match.group(1)\n",
        "                # Add any content after the header in the same cell\n",
        "                remaining_content = content[len(current_header):].strip()\n",
        "                if remaining_content:\n",
        "                    paragraphs = re.split(r'\\n\\s*\\n', remaining_content)\n",
        "                    for paragraph in paragraphs:\n",
        "                        add_chunk(paragraph)\n",
        "            else:\n",
        "                paragraphs = re.split(r'\\n\\s*\\n', content)\n",
        "                for paragraph in paragraphs:\n",
        "                    add_chunk(paragraph)\n",
        "        elif cell['cell_type'] == 'code':\n",
        "            code_content = '```python\\n' + ''.join(cell['source']) + '\\n```'\n",
        "            add_chunk(code_content)\n",
        "\n",
        "    return chunks"
      ]
    },
    {
      "cell_type": "markdown",
      "metadata": {
        "id": "POIQrhvLqKR6"
      },
      "source": [
        "Using this chunking strategy, Chapter 1 has 315 chunks of text. For reference, this chapter has 24 headers (of different levels) across 52 pages. That's about 13 chunks per header and 6 chunks per page."
      ]
    },
    {
      "cell_type": "code",
      "execution_count": 6,
      "metadata": {
        "colab": {
          "base_uri": "https://localhost:8080/"
        },
        "id": "A4C6hSRSp46Y",
        "outputId": "4b97cb32-4f88-4a3a-cf4f-924a36dc2c76"
      },
      "outputs": [
        {
          "data": {
            "text/plain": [
              "315"
            ]
          },
          "execution_count": 6,
          "metadata": {},
          "output_type": "execute_result"
        }
      ],
      "source": [
        "notebook_path = '01_intro.ipynb'\n",
        "chunks = get_chunks(notebook_path)\n",
        "len(chunks)"
      ]
    },
    {
      "cell_type": "markdown",
      "metadata": {
        "id": "y5pAj05Aq01j"
      },
      "source": [
        "Here's an example of one of the chunks:"
      ]
    },
    {
      "cell_type": "code",
      "execution_count": 18,
      "metadata": {
        "colab": {
          "base_uri": "https://localhost:8080/"
        },
        "id": "dl9IeopQrLaX",
        "outputId": "ceb42195-83ce-4d29-c7d0-421fb74db2b7"
      },
      "outputs": [
        {
          "name": "stdout",
          "output_type": "stream",
          "text": [
            "## Who We Are\n",
            "\n",
            "Sylvain, on the other hand, knows a lot about \n",
            "formal technical education. In fact, he has \n",
            "written 10 math textbooks, covering the entire \n",
            "advanced French maths curriculum!\n"
          ]
        }
      ],
      "source": [
        "print_wrap_text(chunks[30])"
      ]
    },
    {
      "cell_type": "markdown",
      "metadata": {
        "id": "8N-B71p5sKMH"
      },
      "source": [
        "## Load the Chunks into SQLite Database"
      ]
    },
    {
      "cell_type": "markdown",
      "metadata": {
        "id": "7EiEzZOTsPov"
      },
      "source": [
        "I'll load the list of `chunks` into a sqlite database virtual table with a single column `text` that has sqlite's full text search (FTS5) enabled."
      ]
    },
    {
      "cell_type": "markdown",
      "metadata": {
        "id": "8r3tbjZT5Sqw"
      },
      "source": [
        "I'll filter out the two sections that I don't want to show up in the results: the \"Questionnaire\" section (as the keyword search will match the questions closely) and the \"Further Research\" sections (as it comes after the \"Questionnaire\" section and is not part of the main body of the chapter)."
      ]
    },
    {
      "cell_type": "code",
      "execution_count": 33,
      "metadata": {
        "id": "rh_wGcnr5kVW"
      },
      "outputs": [],
      "source": [
        "def filter_chunks(chunks, exclude_headers):\n",
        "    filtered_chunks = []\n",
        "    for chunk in chunks:\n",
        "        lines = chunk.split('\\n')\n",
        "        # Check if the first line (header) is in the exclude list\n",
        "        if not any(header in lines[0] for header in exclude_headers):\n",
        "            filtered_chunks.append(chunk)\n",
        "    return filtered_chunks\n",
        "\n",
        "exclude_headers = [\"Questionnaire\", \"Further Research\"]\n",
        "filtered_chunks = filter_chunks(chunks, exclude_headers)"
      ]
    },
    {
      "cell_type": "code",
      "execution_count": 34,
      "metadata": {
        "colab": {
          "base_uri": "https://localhost:8080/"
        },
        "id": "nbcBSLFS53GO",
        "outputId": "9c28100a-30f6-40f4-e8ef-d076d955a93b"
      },
      "outputs": [
        {
          "data": {
            "text/plain": [
              "[]"
            ]
          },
          "execution_count": 34,
          "metadata": {},
          "output_type": "execute_result"
        }
      ],
      "source": [
        "[chunk for chunk in filtered_chunks if 'Questionnaire' in chunk]"
      ]
    },
    {
      "cell_type": "code",
      "execution_count": 35,
      "metadata": {
        "colab": {
          "base_uri": "https://localhost:8080/"
        },
        "id": "UkMVCv7K58DK",
        "outputId": "fb201e31-2c6f-44a3-8e6f-76aefffeeabd"
      },
      "outputs": [
        {
          "data": {
            "text/plain": [
              "[]"
            ]
          },
          "execution_count": 35,
          "metadata": {},
          "output_type": "execute_result"
        }
      ],
      "source": [
        "[chunk for chunk in filtered_chunks if 'Further Research' in chunk]"
      ]
    },
    {
      "cell_type": "code",
      "execution_count": 156,
      "metadata": {
        "id": "BKDWpMRhnqGh"
      },
      "outputs": [],
      "source": [
        "conn = sqlite3.connect('fastbook.db')"
      ]
    },
    {
      "cell_type": "code",
      "execution_count": 157,
      "metadata": {
        "id": "GrJjH2DEpYcT"
      },
      "outputs": [],
      "source": [
        "cur = conn.cursor()\n",
        "res = cur.execute(\"\"\"\n",
        "\n",
        "CREATE VIRTUAL TABLE fastbook_text\n",
        "USING FTS5(text);\n",
        "\n",
        "\"\"\")"
      ]
    },
    {
      "cell_type": "code",
      "execution_count": 158,
      "metadata": {
        "id": "Rewh70GupfRx"
      },
      "outputs": [],
      "source": [
        "for string in filtered_chunks:\n",
        "  cur.execute(f\"INSERT INTO fastbook_text(text) VALUES (?)\", (string,))"
      ]
    },
    {
      "cell_type": "code",
      "execution_count": 159,
      "metadata": {
        "colab": {
          "base_uri": "https://localhost:8080/"
        },
        "id": "-WaCOrdcp_mq",
        "outputId": "9a4bc242-4fd4-49c9-a2d2-f68597f26340"
      },
      "outputs": [
        {
          "name": "stdout",
          "output_type": "stream",
          "text": [
            "## Who We Are\n",
            "\n",
            "Sylvain, on the other hand, knows a lot about \n",
            "formal technical education. In fact, he has \n",
            "written 10 math textbooks, covering the entire \n",
            "advanced French maths curriculum!\n"
          ]
        }
      ],
      "source": [
        "res = cur.execute(\"SELECT * from fastbook_text LIMIT 40\")\n",
        "print_wrap_text(res.fetchall()[30][0])"
      ]
    },
    {
      "cell_type": "markdown",
      "metadata": {
        "id": "_eS87217stGv"
      },
      "source": [
        "## Retrieving Context for an LLM with Keyword Search"
      ]
    },
    {
      "cell_type": "markdown",
      "metadata": {
        "id": "Icwl1K2rtHJ_"
      },
      "source": [
        "In the fastai textbook, each chapter ends with a \"Questionnaire\" section. It's like a review quiz for the chapter content. While the answers to these questions are not always fixed, I'll use [official solutions](https://forums.fast.ai/t/fastbook-chapter-1-questionnaire-solutions-wiki/65647) provided on the fastai forums as the \"gold standard\" for my evals. I have saved a CSV with the questionnaire question text, gold standard answer and a list of keywords I wrote for each question [in this gist](https://gist.github.com/vishalbakshi/309fb3abb222d32446b2c4e29db753fe). Here's a sample:"
      ]
    },
    {
      "cell_type": "code",
      "execution_count": 94,
      "metadata": {
        "colab": {
          "base_uri": "https://localhost:8080/",
          "height": 293
        },
        "id": "EJbPLKl97k_f",
        "outputId": "98943145-cb55-47c5-dda6-47329d63ddab"
      },
      "outputs": [
        {
          "data": {
            "application/vnd.google.colaboratory.intrinsic+json": {
              "summary": "{\n  \"name\": \"df\",\n  \"rows\": 33,\n  \"fields\": [\n    {\n      \"column\": \"chapter\",\n      \"properties\": {\n        \"dtype\": \"number\",\n        \"std\": 0,\n        \"min\": 1,\n        \"max\": 1,\n        \"num_unique_values\": 1,\n        \"samples\": [\n          1\n        ],\n        \"semantic_type\": \"\",\n        \"description\": \"\"\n      }\n    },\n    {\n      \"column\": \"question_number\",\n      \"properties\": {\n        \"dtype\": \"number\",\n        \"std\": 9,\n        \"min\": 1,\n        \"max\": 33,\n        \"num_unique_values\": 33,\n        \"samples\": [\n          32\n        ],\n        \"semantic_type\": \"\",\n        \"description\": \"\"\n      }\n    },\n    {\n      \"column\": \"question_text\",\n      \"properties\": {\n        \"dtype\": \"string\",\n        \"num_unique_values\": 33,\n        \"samples\": [\n          \"What are \\\"\\\"hyperparameters\\\"\\\"?\"\n        ],\n        \"semantic_type\": \"\",\n        \"description\": \"\"\n      }\n    },\n    {\n      \"column\": \"answer\",\n      \"properties\": {\n        \"dtype\": \"string\",\n        \"num_unique_values\": 31,\n        \"samples\": [\n          \"At its core, segmentation is a pixelwise classification problem. We attempt to predict a label for every single pixel in the image. This provides a mask for which parts of the image correspond to the given label.\"\n        ],\n        \"semantic_type\": \"\",\n        \"description\": \"\"\n      }\n    },\n    {\n      \"column\": \"keywords\",\n      \"properties\": {\n        \"dtype\": \"string\",\n        \"num_unique_values\": 31,\n        \"samples\": [\n          \"segmentation\"\n        ],\n        \"semantic_type\": \"\",\n        \"description\": \"\"\n      }\n    }\n  ]\n}",
              "type": "dataframe",
              "variable_name": "df"
            },
            "text/html": [
              "\n",
              "  <div id=\"df-0ef7da91-e8f4-44d7-be05-e32c4a4d2a84\" class=\"colab-df-container\">\n",
              "    <div>\n",
              "<style scoped>\n",
              "    .dataframe tbody tr th:only-of-type {\n",
              "        vertical-align: middle;\n",
              "    }\n",
              "\n",
              "    .dataframe tbody tr th {\n",
              "        vertical-align: top;\n",
              "    }\n",
              "\n",
              "    .dataframe thead th {\n",
              "        text-align: right;\n",
              "    }\n",
              "</style>\n",
              "<table border=\"1\" class=\"dataframe\">\n",
              "  <thead>\n",
              "    <tr style=\"text-align: right;\">\n",
              "      <th></th>\n",
              "      <th>chapter</th>\n",
              "      <th>question_number</th>\n",
              "      <th>question_text</th>\n",
              "      <th>answer</th>\n",
              "      <th>keywords</th>\n",
              "    </tr>\n",
              "  </thead>\n",
              "  <tbody>\n",
              "    <tr>\n",
              "      <th>0</th>\n",
              "      <td>1</td>\n",
              "      <td>1</td>\n",
              "      <td>Do you need these for deep learning?\\\\n\\\\n- Lo...</td>\n",
              "      <td>Lots of math - False\\\\nLots of data - False\\\\n...</td>\n",
              "      <td>math, data, expensive computers, PhD</td>\n",
              "    </tr>\n",
              "    <tr>\n",
              "      <th>1</th>\n",
              "      <td>1</td>\n",
              "      <td>2</td>\n",
              "      <td>Name five areas where deep learning is now the...</td>\n",
              "      <td>Any five of the following:\\\\nNatural Language ...</td>\n",
              "      <td>deep learning, state of the art, best, world</td>\n",
              "    </tr>\n",
              "    <tr>\n",
              "      <th>2</th>\n",
              "      <td>1</td>\n",
              "      <td>3</td>\n",
              "      <td>What was the name of the first device that was...</td>\n",
              "      <td>Mark I perceptron built by Frank Rosenblatt</td>\n",
              "      <td>first, device, artificial, neuron</td>\n",
              "    </tr>\n",
              "    <tr>\n",
              "      <th>3</th>\n",
              "      <td>1</td>\n",
              "      <td>4</td>\n",
              "      <td>Based on the book of the same name, what are t...</td>\n",
              "      <td>A set of processing units\\\\nA state of activat...</td>\n",
              "      <td>parallel, distributed, processing, requirement...</td>\n",
              "    </tr>\n",
              "    <tr>\n",
              "      <th>4</th>\n",
              "      <td>1</td>\n",
              "      <td>5</td>\n",
              "      <td>What were the two theoretical misunderstanding...</td>\n",
              "      <td>In 1969, Marvin Minsky and Seymour Papert demo...</td>\n",
              "      <td>theoretical, misunderstandings, held, back, fi...</td>\n",
              "    </tr>\n",
              "  </tbody>\n",
              "</table>\n",
              "</div>\n",
              "    <div class=\"colab-df-buttons\">\n",
              "\n",
              "  <div class=\"colab-df-container\">\n",
              "    <button class=\"colab-df-convert\" onclick=\"convertToInteractive('df-0ef7da91-e8f4-44d7-be05-e32c4a4d2a84')\"\n",
              "            title=\"Convert this dataframe to an interactive table.\"\n",
              "            style=\"display:none;\">\n",
              "\n",
              "  <svg xmlns=\"http://www.w3.org/2000/svg\" height=\"24px\" viewBox=\"0 -960 960 960\">\n",
              "    <path d=\"M120-120v-720h720v720H120Zm60-500h600v-160H180v160Zm220 220h160v-160H400v160Zm0 220h160v-160H400v160ZM180-400h160v-160H180v160Zm440 0h160v-160H620v160ZM180-180h160v-160H180v160Zm440 0h160v-160H620v160Z\"/>\n",
              "  </svg>\n",
              "    </button>\n",
              "\n",
              "  <style>\n",
              "    .colab-df-container {\n",
              "      display:flex;\n",
              "      gap: 12px;\n",
              "    }\n",
              "\n",
              "    .colab-df-convert {\n",
              "      background-color: #E8F0FE;\n",
              "      border: none;\n",
              "      border-radius: 50%;\n",
              "      cursor: pointer;\n",
              "      display: none;\n",
              "      fill: #1967D2;\n",
              "      height: 32px;\n",
              "      padding: 0 0 0 0;\n",
              "      width: 32px;\n",
              "    }\n",
              "\n",
              "    .colab-df-convert:hover {\n",
              "      background-color: #E2EBFA;\n",
              "      box-shadow: 0px 1px 2px rgba(60, 64, 67, 0.3), 0px 1px 3px 1px rgba(60, 64, 67, 0.15);\n",
              "      fill: #174EA6;\n",
              "    }\n",
              "\n",
              "    .colab-df-buttons div {\n",
              "      margin-bottom: 4px;\n",
              "    }\n",
              "\n",
              "    [theme=dark] .colab-df-convert {\n",
              "      background-color: #3B4455;\n",
              "      fill: #D2E3FC;\n",
              "    }\n",
              "\n",
              "    [theme=dark] .colab-df-convert:hover {\n",
              "      background-color: #434B5C;\n",
              "      box-shadow: 0px 1px 3px 1px rgba(0, 0, 0, 0.15);\n",
              "      filter: drop-shadow(0px 1px 2px rgba(0, 0, 0, 0.3));\n",
              "      fill: #FFFFFF;\n",
              "    }\n",
              "  </style>\n",
              "\n",
              "    <script>\n",
              "      const buttonEl =\n",
              "        document.querySelector('#df-0ef7da91-e8f4-44d7-be05-e32c4a4d2a84 button.colab-df-convert');\n",
              "      buttonEl.style.display =\n",
              "        google.colab.kernel.accessAllowed ? 'block' : 'none';\n",
              "\n",
              "      async function convertToInteractive(key) {\n",
              "        const element = document.querySelector('#df-0ef7da91-e8f4-44d7-be05-e32c4a4d2a84');\n",
              "        const dataTable =\n",
              "          await google.colab.kernel.invokeFunction('convertToInteractive',\n",
              "                                                    [key], {});\n",
              "        if (!dataTable) return;\n",
              "\n",
              "        const docLinkHtml = 'Like what you see? Visit the ' +\n",
              "          '<a target=\"_blank\" href=https://colab.research.google.com/notebooks/data_table.ipynb>data table notebook</a>'\n",
              "          + ' to learn more about interactive tables.';\n",
              "        element.innerHTML = '';\n",
              "        dataTable['output_type'] = 'display_data';\n",
              "        await google.colab.output.renderOutput(dataTable, element);\n",
              "        const docLink = document.createElement('div');\n",
              "        docLink.innerHTML = docLinkHtml;\n",
              "        element.appendChild(docLink);\n",
              "      }\n",
              "    </script>\n",
              "  </div>\n",
              "\n",
              "\n",
              "<div id=\"df-f60539a1-ef1b-4a79-b420-3bc2cc04ecf4\">\n",
              "  <button class=\"colab-df-quickchart\" onclick=\"quickchart('df-f60539a1-ef1b-4a79-b420-3bc2cc04ecf4')\"\n",
              "            title=\"Suggest charts\"\n",
              "            style=\"display:none;\">\n",
              "\n",
              "<svg xmlns=\"http://www.w3.org/2000/svg\" height=\"24px\"viewBox=\"0 0 24 24\"\n",
              "     width=\"24px\">\n",
              "    <g>\n",
              "        <path d=\"M19 3H5c-1.1 0-2 .9-2 2v14c0 1.1.9 2 2 2h14c1.1 0 2-.9 2-2V5c0-1.1-.9-2-2-2zM9 17H7v-7h2v7zm4 0h-2V7h2v10zm4 0h-2v-4h2v4z\"/>\n",
              "    </g>\n",
              "</svg>\n",
              "  </button>\n",
              "\n",
              "<style>\n",
              "  .colab-df-quickchart {\n",
              "      --bg-color: #E8F0FE;\n",
              "      --fill-color: #1967D2;\n",
              "      --hover-bg-color: #E2EBFA;\n",
              "      --hover-fill-color: #174EA6;\n",
              "      --disabled-fill-color: #AAA;\n",
              "      --disabled-bg-color: #DDD;\n",
              "  }\n",
              "\n",
              "  [theme=dark] .colab-df-quickchart {\n",
              "      --bg-color: #3B4455;\n",
              "      --fill-color: #D2E3FC;\n",
              "      --hover-bg-color: #434B5C;\n",
              "      --hover-fill-color: #FFFFFF;\n",
              "      --disabled-bg-color: #3B4455;\n",
              "      --disabled-fill-color: #666;\n",
              "  }\n",
              "\n",
              "  .colab-df-quickchart {\n",
              "    background-color: var(--bg-color);\n",
              "    border: none;\n",
              "    border-radius: 50%;\n",
              "    cursor: pointer;\n",
              "    display: none;\n",
              "    fill: var(--fill-color);\n",
              "    height: 32px;\n",
              "    padding: 0;\n",
              "    width: 32px;\n",
              "  }\n",
              "\n",
              "  .colab-df-quickchart:hover {\n",
              "    background-color: var(--hover-bg-color);\n",
              "    box-shadow: 0 1px 2px rgba(60, 64, 67, 0.3), 0 1px 3px 1px rgba(60, 64, 67, 0.15);\n",
              "    fill: var(--button-hover-fill-color);\n",
              "  }\n",
              "\n",
              "  .colab-df-quickchart-complete:disabled,\n",
              "  .colab-df-quickchart-complete:disabled:hover {\n",
              "    background-color: var(--disabled-bg-color);\n",
              "    fill: var(--disabled-fill-color);\n",
              "    box-shadow: none;\n",
              "  }\n",
              "\n",
              "  .colab-df-spinner {\n",
              "    border: 2px solid var(--fill-color);\n",
              "    border-color: transparent;\n",
              "    border-bottom-color: var(--fill-color);\n",
              "    animation:\n",
              "      spin 1s steps(1) infinite;\n",
              "  }\n",
              "\n",
              "  @keyframes spin {\n",
              "    0% {\n",
              "      border-color: transparent;\n",
              "      border-bottom-color: var(--fill-color);\n",
              "      border-left-color: var(--fill-color);\n",
              "    }\n",
              "    20% {\n",
              "      border-color: transparent;\n",
              "      border-left-color: var(--fill-color);\n",
              "      border-top-color: var(--fill-color);\n",
              "    }\n",
              "    30% {\n",
              "      border-color: transparent;\n",
              "      border-left-color: var(--fill-color);\n",
              "      border-top-color: var(--fill-color);\n",
              "      border-right-color: var(--fill-color);\n",
              "    }\n",
              "    40% {\n",
              "      border-color: transparent;\n",
              "      border-right-color: var(--fill-color);\n",
              "      border-top-color: var(--fill-color);\n",
              "    }\n",
              "    60% {\n",
              "      border-color: transparent;\n",
              "      border-right-color: var(--fill-color);\n",
              "    }\n",
              "    80% {\n",
              "      border-color: transparent;\n",
              "      border-right-color: var(--fill-color);\n",
              "      border-bottom-color: var(--fill-color);\n",
              "    }\n",
              "    90% {\n",
              "      border-color: transparent;\n",
              "      border-bottom-color: var(--fill-color);\n",
              "    }\n",
              "  }\n",
              "</style>\n",
              "\n",
              "  <script>\n",
              "    async function quickchart(key) {\n",
              "      const quickchartButtonEl =\n",
              "        document.querySelector('#' + key + ' button');\n",
              "      quickchartButtonEl.disabled = true;  // To prevent multiple clicks.\n",
              "      quickchartButtonEl.classList.add('colab-df-spinner');\n",
              "      try {\n",
              "        const charts = await google.colab.kernel.invokeFunction(\n",
              "            'suggestCharts', [key], {});\n",
              "      } catch (error) {\n",
              "        console.error('Error during call to suggestCharts:', error);\n",
              "      }\n",
              "      quickchartButtonEl.classList.remove('colab-df-spinner');\n",
              "      quickchartButtonEl.classList.add('colab-df-quickchart-complete');\n",
              "    }\n",
              "    (() => {\n",
              "      let quickchartButtonEl =\n",
              "        document.querySelector('#df-f60539a1-ef1b-4a79-b420-3bc2cc04ecf4 button');\n",
              "      quickchartButtonEl.style.display =\n",
              "        google.colab.kernel.accessAllowed ? 'block' : 'none';\n",
              "    })();\n",
              "  </script>\n",
              "</div>\n",
              "\n",
              "    </div>\n",
              "  </div>\n"
            ],
            "text/plain": [
              "   chapter  question_number  \\\n",
              "0        1                1   \n",
              "1        1                2   \n",
              "2        1                3   \n",
              "3        1                4   \n",
              "4        1                5   \n",
              "\n",
              "                                       question_text  \\\n",
              "0  Do you need these for deep learning?\\\\n\\\\n- Lo...   \n",
              "1  Name five areas where deep learning is now the...   \n",
              "2  What was the name of the first device that was...   \n",
              "3  Based on the book of the same name, what are t...   \n",
              "4  What were the two theoretical misunderstanding...   \n",
              "\n",
              "                                              answer  \\\n",
              "0  Lots of math - False\\\\nLots of data - False\\\\n...   \n",
              "1  Any five of the following:\\\\nNatural Language ...   \n",
              "2        Mark I perceptron built by Frank Rosenblatt   \n",
              "3  A set of processing units\\\\nA state of activat...   \n",
              "4  In 1969, Marvin Minsky and Seymour Papert demo...   \n",
              "\n",
              "                                            keywords  \n",
              "0               math, data, expensive computers, PhD  \n",
              "1       deep learning, state of the art, best, world  \n",
              "2                  first, device, artificial, neuron  \n",
              "3  parallel, distributed, processing, requirement...  \n",
              "4  theoretical, misunderstandings, held, back, fi...  "
            ]
          },
          "execution_count": 94,
          "metadata": {},
          "output_type": "execute_result"
        }
      ],
      "source": [
        "df = pd.read_csv(\"https://gist.githubusercontent.com/vishalbakshi/309fb3abb222d32446b2c4e29db753fe/raw/bc6cd2ab15b64a92ec23796c61702f413fdd2b40/fastbookRAG_evals.csv\")\n",
        "df.head()"
      ]
    },
    {
      "cell_type": "markdown",
      "metadata": {
        "id": "OOArrX4D8E6S"
      },
      "source": [
        "Here's the first question/answer pair:\n",
        "\n",
        "_Question_:\n",
        "\n",
        "Do you need these for deep learning?\n",
        "\n",
        "- Lots of math T / F\n",
        "- Lots of data T / F\n",
        "- Lots of expensive computers T / F\n",
        "- A PhD T / F\n",
        "\n",
        "_Gold Standard Answer_:\n",
        "\n",
        "- Lots of math - False\n",
        "- Lots of data - False\n",
        "- Lots of expensive computers - False\n",
        "- A PhD - False\n",
        "\n",
        "Here's the keyword search for the first question using the keywords I came up with (\"math, data, expensive computers, PhD\"):"
      ]
    },
    {
      "cell_type": "code",
      "execution_count": null,
      "metadata": {},
      "outputs": [],
      "source": [
        "res = cur.execute(\"\"\"\n",
        "\n",
        "SELECT *, rank\n",
        "  from fastbook_text\n",
        "WHERE fastbook_text MATCH '\"math\" OR \"data\" OR \"expensive computers\" OR \"PhD\"'\n",
        "ORDER BY rank\n",
        "LIMIT 5\n",
        "\n",
        "\"\"\")"
      ]
    },
    {
      "cell_type": "markdown",
      "metadata": {},
      "source": [
        "```\n",
        "## Deep Learning Is for Everyone\n",
        "\n",
        "asciidoc\n",
        "[[myths]]\n",
        ".What you don't need to do deep learning\n",
        "[options=\"header\"]\n",
        "|======\n",
        "| Myth (don't need) | Truth\n",
        "| Lots of math | Just high school math is \n",
        "sufficient\n",
        "| Lots of data | We've seen record-breaking \n",
        "results with <50 items of data\n",
        "| Lots of expensive computers | You can get what \n",
        "you need for state of the art work for free\n",
        "|======\n",
        "```"
      ]
    },
    {
      "cell_type": "markdown",
      "metadata": {
        "id": "Gbb_vMrC8wrh"
      },
      "source": [
        "I would imagine that given the question and this corresponding chunk of context from the textbook, an LLM could answer the question correctly.\n",
        "\n",
        "And that's the metric that I'll use to evaluate keyword search for the fastai textbook: can a reasonably capable LLM be able to answer the question given this context?"
      ]
    },
    {
      "cell_type": "markdown",
      "metadata": {
        "id": "TbE7KQx2-Noq"
      },
      "source": [
        "I'll iterate through the column of keywords (one set for each question) and store the top BM25-ranked result as the \"retrieved context\" from my database:"
      ]
    },
    {
      "cell_type": "code",
      "execution_count": 78,
      "metadata": {
        "id": "qJbefxjy-j7N"
      },
      "outputs": [],
      "source": [
        "#| code-fold: true\n",
        "#| code-summary: \"Show the for-loop code\"\n",
        "\n",
        "results = []\n",
        "\n",
        "for keywords in df['keywords']:\n",
        "  if keywords != 'No answer':\n",
        "    words = ' OR '.join([f'\"{word.strip(\",\")}\"' for word in keywords.split()])\n",
        "    q = f\"\"\"\n",
        "\n",
        "    SELECT *, rank\n",
        "      from fastbook_text\n",
        "    WHERE fastbook_text MATCH '{words}'\n",
        "    ORDER BY rank\n",
        "    LIMIT 5\n",
        "\n",
        "    \"\"\"\n",
        "\n",
        "    res = cur.execute(q)\n",
        "    results.append(res.fetchall()[0][0])\n",
        "  else:\n",
        "    # if keywords == \"No Answer\"\n",
        "    res = \"No answer\"\n",
        "    results.append(res)"
      ]
    },
    {
      "cell_type": "code",
      "execution_count": 79,
      "metadata": {
        "id": "MKQJmykOAMcS"
      },
      "outputs": [],
      "source": [
        "results = pd.Series(results)\n",
        "df['fts5_result'] = results"
      ]
    },
    {
      "cell_type": "code",
      "execution_count": 80,
      "metadata": {
        "colab": {
          "base_uri": "https://localhost:8080/",
          "height": 293
        },
        "id": "Vxio3eZpBX9C",
        "outputId": "55ad5aee-cc8e-444c-a470-bef56cce2769"
      },
      "outputs": [
        {
          "data": {
            "application/vnd.google.colaboratory.intrinsic+json": {
              "summary": "{\n  \"name\": \"df\",\n  \"rows\": 33,\n  \"fields\": [\n    {\n      \"column\": \"chapter\",\n      \"properties\": {\n        \"dtype\": \"number\",\n        \"std\": 0,\n        \"min\": 1,\n        \"max\": 1,\n        \"num_unique_values\": 1,\n        \"samples\": [\n          1\n        ],\n        \"semantic_type\": \"\",\n        \"description\": \"\"\n      }\n    },\n    {\n      \"column\": \"question_number\",\n      \"properties\": {\n        \"dtype\": \"number\",\n        \"std\": 9,\n        \"min\": 1,\n        \"max\": 33,\n        \"num_unique_values\": 33,\n        \"samples\": [\n          32\n        ],\n        \"semantic_type\": \"\",\n        \"description\": \"\"\n      }\n    },\n    {\n      \"column\": \"question_text\",\n      \"properties\": {\n        \"dtype\": \"string\",\n        \"num_unique_values\": 33,\n        \"samples\": [\n          \"What are \\\"\\\"\\\"\\\"hyperparameters\\\"\\\"\\\"\\\"?\"\n        ],\n        \"semantic_type\": \"\",\n        \"description\": \"\"\n      }\n    },\n    {\n      \"column\": \"answer\",\n      \"properties\": {\n        \"dtype\": \"string\",\n        \"num_unique_values\": 31,\n        \"samples\": [\n          \"At its core, segmentation is a pixelwise classification problem. We attempt to predict a label for every single pixel in the image. This provides a mask for which parts of the image correspond to the given label.\"\n        ],\n        \"semantic_type\": \"\",\n        \"description\": \"\"\n      }\n    },\n    {\n      \"column\": \"keywords\",\n      \"properties\": {\n        \"dtype\": \"string\",\n        \"num_unique_values\": 31,\n        \"samples\": [\n          \"segmentation\"\n        ],\n        \"semantic_type\": \"\",\n        \"description\": \"\"\n      }\n    },\n    {\n      \"column\": \"fts5_result\",\n      \"properties\": {\n        \"dtype\": \"string\",\n        \"num_unique_values\": 31,\n        \"samples\": [\n          \"## Deep Learning Is Not Just for Image Classification\\n\\nFor instance, let's talk about something that is critically important for autonomous vehicles: localizing objects in a picture. If a self-driving car doesn't know where a pedestrian is, then it doesn't know how to avoid one! Creating a model that can recognize the content of every individual pixel in an image is called *segmentation*. Here is how we can train a segmentation model with fastai, using a subset of the [*Camvid* dataset](http://www0.cs.ucl.ac.uk/staff/G.Brostow/papers/Brostow_2009-PRL.pdf) from the paper \\\"Semantic Object Classes in Video: A High-Definition Ground Truth Database\\\" by Gabruel J. Brostow, Julien Fauqueur, and Roberto Cipolla:\"\n        ],\n        \"semantic_type\": \"\",\n        \"description\": \"\"\n      }\n    }\n  ]\n}",
              "type": "dataframe",
              "variable_name": "df"
            },
            "text/html": [
              "\n",
              "  <div id=\"df-e80c2a36-604c-472c-823c-cd27cf87c73d\" class=\"colab-df-container\">\n",
              "    <div>\n",
              "<style scoped>\n",
              "    .dataframe tbody tr th:only-of-type {\n",
              "        vertical-align: middle;\n",
              "    }\n",
              "\n",
              "    .dataframe tbody tr th {\n",
              "        vertical-align: top;\n",
              "    }\n",
              "\n",
              "    .dataframe thead th {\n",
              "        text-align: right;\n",
              "    }\n",
              "</style>\n",
              "<table border=\"1\" class=\"dataframe\">\n",
              "  <thead>\n",
              "    <tr style=\"text-align: right;\">\n",
              "      <th></th>\n",
              "      <th>chapter</th>\n",
              "      <th>question_number</th>\n",
              "      <th>question_text</th>\n",
              "      <th>answer</th>\n",
              "      <th>keywords</th>\n",
              "      <th>fts5_result</th>\n",
              "    </tr>\n",
              "  </thead>\n",
              "  <tbody>\n",
              "    <tr>\n",
              "      <th>0</th>\n",
              "      <td>1</td>\n",
              "      <td>1</td>\n",
              "      <td>Do you need these for deep learning?\\\\n\\\\n- Lo...</td>\n",
              "      <td>Lots of math - False\\\\nLots of data - False\\\\n...</td>\n",
              "      <td>math, data, expensive computers, PhD</td>\n",
              "      <td>## Deep Learning Is for Everyone\\n\\n```asciido...</td>\n",
              "    </tr>\n",
              "    <tr>\n",
              "      <th>1</th>\n",
              "      <td>1</td>\n",
              "      <td>2</td>\n",
              "      <td>Name five areas where deep learning is now the...</td>\n",
              "      <td>Any five of the following:\\\\nNatural Language ...</td>\n",
              "      <td>deep learning, state of the art, best, world</td>\n",
              "      <td>## Deep Learning Is for Everyone\\n\\nHere's a l...</td>\n",
              "    </tr>\n",
              "    <tr>\n",
              "      <th>2</th>\n",
              "      <td>1</td>\n",
              "      <td>3</td>\n",
              "      <td>What was the name of the first device that was...</td>\n",
              "      <td>Mark I perceptron built by Frank Rosenblatt</td>\n",
              "      <td>first, device, artificial, neuron</td>\n",
              "      <td>## Neural Networks: A Brief History\\n\\n&lt;img al...</td>\n",
              "    </tr>\n",
              "    <tr>\n",
              "      <th>3</th>\n",
              "      <td>1</td>\n",
              "      <td>4</td>\n",
              "      <td>Based on the book of the same name, what are t...</td>\n",
              "      <td>A set of processing units\\\\nA state of activat...</td>\n",
              "      <td>parallel, distributed, processing, requirement...</td>\n",
              "      <td>## Neural Networks: A Brief History\\n\\nIn fact...</td>\n",
              "    </tr>\n",
              "    <tr>\n",
              "      <th>4</th>\n",
              "      <td>1</td>\n",
              "      <td>5</td>\n",
              "      <td>What were the two theoretical misunderstanding...</td>\n",
              "      <td>In 1969, Marvin Minsky and Seymour Papert demo...</td>\n",
              "      <td>theoretical, misunderstandings, held, back, fi...</td>\n",
              "      <td>## Neural Networks: A Brief History\\n\\nIn the ...</td>\n",
              "    </tr>\n",
              "  </tbody>\n",
              "</table>\n",
              "</div>\n",
              "    <div class=\"colab-df-buttons\">\n",
              "\n",
              "  <div class=\"colab-df-container\">\n",
              "    <button class=\"colab-df-convert\" onclick=\"convertToInteractive('df-e80c2a36-604c-472c-823c-cd27cf87c73d')\"\n",
              "            title=\"Convert this dataframe to an interactive table.\"\n",
              "            style=\"display:none;\">\n",
              "\n",
              "  <svg xmlns=\"http://www.w3.org/2000/svg\" height=\"24px\" viewBox=\"0 -960 960 960\">\n",
              "    <path d=\"M120-120v-720h720v720H120Zm60-500h600v-160H180v160Zm220 220h160v-160H400v160Zm0 220h160v-160H400v160ZM180-400h160v-160H180v160Zm440 0h160v-160H620v160ZM180-180h160v-160H180v160Zm440 0h160v-160H620v160Z\"/>\n",
              "  </svg>\n",
              "    </button>\n",
              "\n",
              "  <style>\n",
              "    .colab-df-container {\n",
              "      display:flex;\n",
              "      gap: 12px;\n",
              "    }\n",
              "\n",
              "    .colab-df-convert {\n",
              "      background-color: #E8F0FE;\n",
              "      border: none;\n",
              "      border-radius: 50%;\n",
              "      cursor: pointer;\n",
              "      display: none;\n",
              "      fill: #1967D2;\n",
              "      height: 32px;\n",
              "      padding: 0 0 0 0;\n",
              "      width: 32px;\n",
              "    }\n",
              "\n",
              "    .colab-df-convert:hover {\n",
              "      background-color: #E2EBFA;\n",
              "      box-shadow: 0px 1px 2px rgba(60, 64, 67, 0.3), 0px 1px 3px 1px rgba(60, 64, 67, 0.15);\n",
              "      fill: #174EA6;\n",
              "    }\n",
              "\n",
              "    .colab-df-buttons div {\n",
              "      margin-bottom: 4px;\n",
              "    }\n",
              "\n",
              "    [theme=dark] .colab-df-convert {\n",
              "      background-color: #3B4455;\n",
              "      fill: #D2E3FC;\n",
              "    }\n",
              "\n",
              "    [theme=dark] .colab-df-convert:hover {\n",
              "      background-color: #434B5C;\n",
              "      box-shadow: 0px 1px 3px 1px rgba(0, 0, 0, 0.15);\n",
              "      filter: drop-shadow(0px 1px 2px rgba(0, 0, 0, 0.3));\n",
              "      fill: #FFFFFF;\n",
              "    }\n",
              "  </style>\n",
              "\n",
              "    <script>\n",
              "      const buttonEl =\n",
              "        document.querySelector('#df-e80c2a36-604c-472c-823c-cd27cf87c73d button.colab-df-convert');\n",
              "      buttonEl.style.display =\n",
              "        google.colab.kernel.accessAllowed ? 'block' : 'none';\n",
              "\n",
              "      async function convertToInteractive(key) {\n",
              "        const element = document.querySelector('#df-e80c2a36-604c-472c-823c-cd27cf87c73d');\n",
              "        const dataTable =\n",
              "          await google.colab.kernel.invokeFunction('convertToInteractive',\n",
              "                                                    [key], {});\n",
              "        if (!dataTable) return;\n",
              "\n",
              "        const docLinkHtml = 'Like what you see? Visit the ' +\n",
              "          '<a target=\"_blank\" href=https://colab.research.google.com/notebooks/data_table.ipynb>data table notebook</a>'\n",
              "          + ' to learn more about interactive tables.';\n",
              "        element.innerHTML = '';\n",
              "        dataTable['output_type'] = 'display_data';\n",
              "        await google.colab.output.renderOutput(dataTable, element);\n",
              "        const docLink = document.createElement('div');\n",
              "        docLink.innerHTML = docLinkHtml;\n",
              "        element.appendChild(docLink);\n",
              "      }\n",
              "    </script>\n",
              "  </div>\n",
              "\n",
              "\n",
              "<div id=\"df-85ada512-ac60-42b1-811d-b2674be1d46f\">\n",
              "  <button class=\"colab-df-quickchart\" onclick=\"quickchart('df-85ada512-ac60-42b1-811d-b2674be1d46f')\"\n",
              "            title=\"Suggest charts\"\n",
              "            style=\"display:none;\">\n",
              "\n",
              "<svg xmlns=\"http://www.w3.org/2000/svg\" height=\"24px\"viewBox=\"0 0 24 24\"\n",
              "     width=\"24px\">\n",
              "    <g>\n",
              "        <path d=\"M19 3H5c-1.1 0-2 .9-2 2v14c0 1.1.9 2 2 2h14c1.1 0 2-.9 2-2V5c0-1.1-.9-2-2-2zM9 17H7v-7h2v7zm4 0h-2V7h2v10zm4 0h-2v-4h2v4z\"/>\n",
              "    </g>\n",
              "</svg>\n",
              "  </button>\n",
              "\n",
              "<style>\n",
              "  .colab-df-quickchart {\n",
              "      --bg-color: #E8F0FE;\n",
              "      --fill-color: #1967D2;\n",
              "      --hover-bg-color: #E2EBFA;\n",
              "      --hover-fill-color: #174EA6;\n",
              "      --disabled-fill-color: #AAA;\n",
              "      --disabled-bg-color: #DDD;\n",
              "  }\n",
              "\n",
              "  [theme=dark] .colab-df-quickchart {\n",
              "      --bg-color: #3B4455;\n",
              "      --fill-color: #D2E3FC;\n",
              "      --hover-bg-color: #434B5C;\n",
              "      --hover-fill-color: #FFFFFF;\n",
              "      --disabled-bg-color: #3B4455;\n",
              "      --disabled-fill-color: #666;\n",
              "  }\n",
              "\n",
              "  .colab-df-quickchart {\n",
              "    background-color: var(--bg-color);\n",
              "    border: none;\n",
              "    border-radius: 50%;\n",
              "    cursor: pointer;\n",
              "    display: none;\n",
              "    fill: var(--fill-color);\n",
              "    height: 32px;\n",
              "    padding: 0;\n",
              "    width: 32px;\n",
              "  }\n",
              "\n",
              "  .colab-df-quickchart:hover {\n",
              "    background-color: var(--hover-bg-color);\n",
              "    box-shadow: 0 1px 2px rgba(60, 64, 67, 0.3), 0 1px 3px 1px rgba(60, 64, 67, 0.15);\n",
              "    fill: var(--button-hover-fill-color);\n",
              "  }\n",
              "\n",
              "  .colab-df-quickchart-complete:disabled,\n",
              "  .colab-df-quickchart-complete:disabled:hover {\n",
              "    background-color: var(--disabled-bg-color);\n",
              "    fill: var(--disabled-fill-color);\n",
              "    box-shadow: none;\n",
              "  }\n",
              "\n",
              "  .colab-df-spinner {\n",
              "    border: 2px solid var(--fill-color);\n",
              "    border-color: transparent;\n",
              "    border-bottom-color: var(--fill-color);\n",
              "    animation:\n",
              "      spin 1s steps(1) infinite;\n",
              "  }\n",
              "\n",
              "  @keyframes spin {\n",
              "    0% {\n",
              "      border-color: transparent;\n",
              "      border-bottom-color: var(--fill-color);\n",
              "      border-left-color: var(--fill-color);\n",
              "    }\n",
              "    20% {\n",
              "      border-color: transparent;\n",
              "      border-left-color: var(--fill-color);\n",
              "      border-top-color: var(--fill-color);\n",
              "    }\n",
              "    30% {\n",
              "      border-color: transparent;\n",
              "      border-left-color: var(--fill-color);\n",
              "      border-top-color: var(--fill-color);\n",
              "      border-right-color: var(--fill-color);\n",
              "    }\n",
              "    40% {\n",
              "      border-color: transparent;\n",
              "      border-right-color: var(--fill-color);\n",
              "      border-top-color: var(--fill-color);\n",
              "    }\n",
              "    60% {\n",
              "      border-color: transparent;\n",
              "      border-right-color: var(--fill-color);\n",
              "    }\n",
              "    80% {\n",
              "      border-color: transparent;\n",
              "      border-right-color: var(--fill-color);\n",
              "      border-bottom-color: var(--fill-color);\n",
              "    }\n",
              "    90% {\n",
              "      border-color: transparent;\n",
              "      border-bottom-color: var(--fill-color);\n",
              "    }\n",
              "  }\n",
              "</style>\n",
              "\n",
              "  <script>\n",
              "    async function quickchart(key) {\n",
              "      const quickchartButtonEl =\n",
              "        document.querySelector('#' + key + ' button');\n",
              "      quickchartButtonEl.disabled = true;  // To prevent multiple clicks.\n",
              "      quickchartButtonEl.classList.add('colab-df-spinner');\n",
              "      try {\n",
              "        const charts = await google.colab.kernel.invokeFunction(\n",
              "            'suggestCharts', [key], {});\n",
              "      } catch (error) {\n",
              "        console.error('Error during call to suggestCharts:', error);\n",
              "      }\n",
              "      quickchartButtonEl.classList.remove('colab-df-spinner');\n",
              "      quickchartButtonEl.classList.add('colab-df-quickchart-complete');\n",
              "    }\n",
              "    (() => {\n",
              "      let quickchartButtonEl =\n",
              "        document.querySelector('#df-85ada512-ac60-42b1-811d-b2674be1d46f button');\n",
              "      quickchartButtonEl.style.display =\n",
              "        google.colab.kernel.accessAllowed ? 'block' : 'none';\n",
              "    })();\n",
              "  </script>\n",
              "</div>\n",
              "\n",
              "    </div>\n",
              "  </div>\n"
            ],
            "text/plain": [
              "   chapter  question_number  \\\n",
              "0        1                1   \n",
              "1        1                2   \n",
              "2        1                3   \n",
              "3        1                4   \n",
              "4        1                5   \n",
              "\n",
              "                                       question_text  \\\n",
              "0  Do you need these for deep learning?\\\\n\\\\n- Lo...   \n",
              "1  Name five areas where deep learning is now the...   \n",
              "2  What was the name of the first device that was...   \n",
              "3  Based on the book of the same name, what are t...   \n",
              "4  What were the two theoretical misunderstanding...   \n",
              "\n",
              "                                              answer  \\\n",
              "0  Lots of math - False\\\\nLots of data - False\\\\n...   \n",
              "1  Any five of the following:\\\\nNatural Language ...   \n",
              "2        Mark I perceptron built by Frank Rosenblatt   \n",
              "3  A set of processing units\\\\nA state of activat...   \n",
              "4  In 1969, Marvin Minsky and Seymour Papert demo...   \n",
              "\n",
              "                                            keywords  \\\n",
              "0               math, data, expensive computers, PhD   \n",
              "1       deep learning, state of the art, best, world   \n",
              "2                  first, device, artificial, neuron   \n",
              "3  parallel, distributed, processing, requirement...   \n",
              "4  theoretical, misunderstandings, held, back, fi...   \n",
              "\n",
              "                                         fts5_result  \n",
              "0  ## Deep Learning Is for Everyone\\n\\n```asciido...  \n",
              "1  ## Deep Learning Is for Everyone\\n\\nHere's a l...  \n",
              "2  ## Neural Networks: A Brief History\\n\\n<img al...  \n",
              "3  ## Neural Networks: A Brief History\\n\\nIn fact...  \n",
              "4  ## Neural Networks: A Brief History\\n\\nIn the ...  "
            ]
          },
          "execution_count": 80,
          "metadata": {},
          "output_type": "execute_result"
        }
      ],
      "source": [
        "df.head()"
      ]
    },
    {
      "cell_type": "markdown",
      "metadata": {
        "id": "BUzjylTXBn2Q"
      },
      "source": [
        "## Evaluating Retrieved Context"
      ]
    },
    {
      "cell_type": "markdown",
      "metadata": {
        "id": "bx2i_beVG4--"
      },
      "source": [
        "Using the top-ranked BM25 result for the given keyword search, I was able to retrieve the context necessary to answer the question 13 out of 33 times, or **40%** of the time."
      ]
    },
    {
      "cell_type": "markdown",
      "metadata": {
        "id": "0AIoW6Y4HL2A"
      },
      "source": [
        "Looking through these 33 question/context pairs, I saw some patterns noted by the following examples.\n",
        "\n",
        "In some cases, like for question #5, the retrieved context answered half of the problem."
      ]
    },
    {
      "cell_type": "code",
      "execution_count": 83,
      "metadata": {
        "colab": {
          "base_uri": "https://localhost:8080/",
          "height": 446
        },
        "id": "V3qEkF4qHGBe",
        "outputId": "835d95f8-3090-404d-b488-e4c4cef7064b"
      },
      "outputs": [
        {
          "data": {
            "text/html": [
              "<table border=\"1\" class=\"dataframe\">\n",
              "  <thead>\n",
              "    <tr style=\"text-align: right;\">\n",
              "      <th></th>\n",
              "      <th>4</th>\n",
              "    </tr>\n",
              "  </thead>\n",
              "  <tbody>\n",
              "    <tr>\n",
              "      <th>chapter</th>\n",
              "      <td>1</td>\n",
              "    </tr>\n",
              "    <tr>\n",
              "      <th>question_number</th>\n",
              "      <td>5</td>\n",
              "    </tr>\n",
              "    <tr>\n",
              "      <th>question_text</th>\n",
              "      <td>What were the two theoretical misunderstandings that held back the field of neural networks?</td>\n",
              "    </tr>\n",
              "    <tr>\n",
              "      <th>answer</th>\n",
              "      <td>In 1969, Marvin Minsky and Seymour Papert demonstrated in their book, “Perceptrons”, that a single layer of artificial neurons cannot learn simple, critical mathematical functions like XOR logic gate. While they subsequently demonstrated in the same book that additional layers can solve this problem, only the first insight was recognized, leading to the start of the first AI winter.\\\\n\\\\nIn the 1980’s, models with two layers were being explored. Theoretically, it is possible to approximate any mathematical function using two layers of artificial neurons. However, in practices, these networks were too big and too slow. While it was demonstrated that adding additional layers improved performance, this insight was not acknowledged, and the second AI winter began. In this past decade, with increased data availability, and improvements in computer hardware (both in CPU performance but more importantly in GPU performance), neural networks are finally living up to its potential.</td>\n",
              "    </tr>\n",
              "    <tr>\n",
              "      <th>keywords</th>\n",
              "      <td>theoretical, misunderstandings, held, back, field, neural network</td>\n",
              "    </tr>\n",
              "    <tr>\n",
              "      <th>fts5_result</th>\n",
              "      <td>## Neural Networks: A Brief History\\n\\nIn the 1980's most models were built with a second layer of neurons, thus avoiding the problem that had been identified by Minsky and Papert (this was their \"\"pattern of connectivity among units,\"\" to use the framework above). And indeed, neural networks were widely used during the '80s and '90s for real, practical projects. However, again a misunderstanding of the theoretical issues held back the field. In theory, adding just one extra layer of neurons was enough to allow any mathematical function to be approximated with these neural networks, but in practice such networks were often too big and too slow to be useful.</td>\n",
              "    </tr>\n",
              "  </tbody>\n",
              "</table><br><label><b>dtype:</b> object</label>"
            ],
            "text/plain": [
              "chapter                                                            1\n",
              "question_number                                                    5\n",
              "question_text      What were the two theoretical misunderstanding...\n",
              "answer             In 1969, Marvin Minsky and Seymour Papert demo...\n",
              "keywords           theoretical, misunderstandings, held, back, fi...\n",
              "fts5_result        ## Neural Networks: A Brief History\\n\\nIn the ...\n",
              "Name: 4, dtype: object"
            ]
          },
          "execution_count": 83,
          "metadata": {},
          "output_type": "execute_result"
        }
      ],
      "source": [
        "df.iloc[4]"
      ]
    },
    {
      "cell_type": "markdown",
      "metadata": {
        "id": "te02JSjdHj5b"
      },
      "source": [
        "<br>\n",
        "\n",
        "The retrieved context for question #16 was not _wrong_ per se, but it didn't answer the question in the same way as the gold standard answer. The \"correct\" answer to \"What do you need in order to train a model?\" is from the perspective of the model builder, whereas the retrieved context answers the same question but from the perspective of a business or organization."
      ]
    },
    {
      "cell_type": "code",
      "execution_count": 84,
      "metadata": {
        "colab": {
          "base_uri": "https://localhost:8080/",
          "height": 359
        },
        "id": "6570eVtHHtMN",
        "outputId": "a5f95c62-ab73-4c85-de57-063e9e5c67ca"
      },
      "outputs": [
        {
          "data": {
            "text/html": [
              "<table border=\"1\" class=\"dataframe\">\n",
              "  <thead>\n",
              "    <tr style=\"text-align: right;\">\n",
              "      <th></th>\n",
              "      <th>15</th>\n",
              "    </tr>\n",
              "  </thead>\n",
              "  <tbody>\n",
              "    <tr>\n",
              "      <th>chapter</th>\n",
              "      <td>1</td>\n",
              "    </tr>\n",
              "    <tr>\n",
              "      <th>question_number</th>\n",
              "      <td>16</td>\n",
              "    </tr>\n",
              "    <tr>\n",
              "      <th>question_text</th>\n",
              "      <td>What do you need in order to train a model?</td>\n",
              "    </tr>\n",
              "    <tr>\n",
              "      <th>answer</th>\n",
              "      <td>You will need an architecture for the given problem. You will need data to input to your model. For most use-cases of deep learning, you will need labels for your data to compare your model predictions to. You will need a loss function that will quantitatively measure the performance of your model. And you need a way to update the parameters of the model in order to improve its performance (this is known as an optimizer).</td>\n",
              "    </tr>\n",
              "    <tr>\n",
              "      <th>keywords</th>\n",
              "      <td>train, model, need</td>\n",
              "    </tr>\n",
              "    <tr>\n",
              "      <th>fts5_result</th>\n",
              "      <td>### Limitations Inherent To Machine Learning\\n\\n- A model cannot be created without data.\\n- A model can only learn to operate on the patterns seen in the input data used to train it.\\n- This learning approach only creates *predictions*, not recommended *actions*.\\n- It's not enough to just have examples of input data; we need *labels* for that data too (e.g., pictures of dogs and cats aren't enough to train a model; we need a label for each one, saying which ones are dogs, and which are cats).</td>\n",
              "    </tr>\n",
              "  </tbody>\n",
              "</table><br><label><b>dtype:</b> object</label>"
            ],
            "text/plain": [
              "chapter                                                            1\n",
              "question_number                                                   16\n",
              "question_text            What do you need in order to train a model?\n",
              "answer             You will need an architecture for the given pr...\n",
              "keywords                                          train, model, need\n",
              "fts5_result        ### Limitations Inherent To Machine Learning\\n...\n",
              "Name: 15, dtype: object"
            ]
          },
          "execution_count": 84,
          "metadata": {},
          "output_type": "execute_result"
        }
      ],
      "source": [
        "df.iloc[15]"
      ]
    },
    {
      "cell_type": "markdown",
      "metadata": {
        "id": "imO9nsSyIBqw"
      },
      "source": [
        "<br>\n",
        "\n",
        "In some cases, I was on the fence about the relevancy or accuracy of the retrieved context. I erred on the side of caution and considered the following question/answer/context triple as insufficient context:"
      ]
    },
    {
      "cell_type": "code",
      "execution_count": 85,
      "metadata": {
        "colab": {
          "base_uri": "https://localhost:8080/",
          "height": 359
        },
        "id": "hsaJ6gY4IVMy",
        "outputId": "e7d081d8-13ab-4500-f94d-f11e454f9714"
      },
      "outputs": [
        {
          "data": {
            "text/html": [
              "<table border=\"1\" class=\"dataframe\">\n",
              "  <thead>\n",
              "    <tr style=\"text-align: right;\">\n",
              "      <th></th>\n",
              "      <th>24</th>\n",
              "    </tr>\n",
              "  </thead>\n",
              "  <tbody>\n",
              "    <tr>\n",
              "      <th>chapter</th>\n",
              "      <td>1</td>\n",
              "    </tr>\n",
              "    <tr>\n",
              "      <th>question_number</th>\n",
              "      <td>25</td>\n",
              "    </tr>\n",
              "    <tr>\n",
              "      <th>question_text</th>\n",
              "      <td>How can pretrained models help?</td>\n",
              "    </tr>\n",
              "    <tr>\n",
              "      <th>answer</th>\n",
              "      <td>Pretrained models have been trained on other problems that may be quite similar to the current task. For example, pretrained image recognition models were often trained on the ImageNet dataset, which has 1000 classes focused on a lot of different types of visual objects. Pretrained models are useful because they have already learned how to handle a lot of simple features like edge and color detection. However, since the model was trained for a different task than already used, this model cannot be used as is.</td>\n",
              "    </tr>\n",
              "    <tr>\n",
              "      <th>keywords</th>\n",
              "      <td>pretrained, model, help</td>\n",
              "    </tr>\n",
              "    <tr>\n",
              "      <th>fts5_result</th>\n",
              "      <td>### What Our Image Recognizer Learned\\n\\nWhen we fine-tuned our pretrained model earlier, we adapted what those last layers focus on (flowers, humans, animals) to specialize on the cats versus dogs problem. More generally, we could specialize such a pretrained model on many different tasks. Let's have a look at some examples.</td>\n",
              "    </tr>\n",
              "  </tbody>\n",
              "</table><br><label><b>dtype:</b> object</label>"
            ],
            "text/plain": [
              "chapter                                                            1\n",
              "question_number                                                   25\n",
              "question_text                        How can pretrained models help?\n",
              "answer             Pretrained models have been trained on other p...\n",
              "keywords                                     pretrained, model, help\n",
              "fts5_result        ### What Our Image Recognizer Learned\\n\\nWhen ...\n",
              "Name: 24, dtype: object"
            ]
          },
          "execution_count": 85,
          "metadata": {},
          "output_type": "execute_result"
        }
      ],
      "source": [
        "df.iloc[24]"
      ]
    },
    {
      "cell_type": "markdown",
      "metadata": {
        "id": "TcYHVzRTIe_M"
      },
      "source": [
        "<br>\n",
        "\n",
        "For a number of questions, the keyword search resulted in an HTML `img` tag or code snippet since it contained the necessary keywords:"
      ]
    },
    {
      "cell_type": "code",
      "execution_count": 87,
      "metadata": {
        "colab": {
          "base_uri": "https://localhost:8080/",
          "height": 290
        },
        "id": "Pb0tR67rIzdG",
        "outputId": "3d2abaaa-4ce4-4b00-8b82-af07fc814f3b"
      },
      "outputs": [
        {
          "data": {
            "text/html": [
              "<table border=\"1\" class=\"dataframe\">\n",
              "  <thead>\n",
              "    <tr style=\"text-align: right;\">\n",
              "      <th></th>\n",
              "      <th>2</th>\n",
              "    </tr>\n",
              "  </thead>\n",
              "  <tbody>\n",
              "    <tr>\n",
              "      <th>chapter</th>\n",
              "      <td>1</td>\n",
              "    </tr>\n",
              "    <tr>\n",
              "      <th>question_number</th>\n",
              "      <td>3</td>\n",
              "    </tr>\n",
              "    <tr>\n",
              "      <th>question_text</th>\n",
              "      <td>What was the name of the first device that was based on the principle of the artificial neuron?</td>\n",
              "    </tr>\n",
              "    <tr>\n",
              "      <th>answer</th>\n",
              "      <td>Mark I perceptron built by Frank Rosenblatt</td>\n",
              "    </tr>\n",
              "    <tr>\n",
              "      <th>keywords</th>\n",
              "      <td>first, device, artificial, neuron</td>\n",
              "    </tr>\n",
              "    <tr>\n",
              "      <th>fts5_result</th>\n",
              "      <td>## Neural Networks: A Brief History\\n\\n&lt;img alt=\"\"Natural and artificial neurons\"\" width=\"\"500\"\" caption=\"\"Natural and artificial neurons\"\" src=\"\"images/chapter7_neuron.png\"\" id=\"\"neuron\"\"/&gt;</td>\n",
              "    </tr>\n",
              "  </tbody>\n",
              "</table><br><label><b>dtype:</b> object</label>"
            ],
            "text/plain": [
              "chapter                                                            1\n",
              "question_number                                                    3\n",
              "question_text      What was the name of the first device that was...\n",
              "answer                   Mark I perceptron built by Frank Rosenblatt\n",
              "keywords                           first, device, artificial, neuron\n",
              "fts5_result        ## Neural Networks: A Brief History\\n\\n<img al...\n",
              "Name: 2, dtype: object"
            ]
          },
          "execution_count": 87,
          "metadata": {},
          "output_type": "execute_result"
        }
      ],
      "source": [
        "df.iloc[2]"
      ]
    },
    {
      "cell_type": "code",
      "execution_count": 89,
      "metadata": {
        "colab": {
          "base_uri": "https://localhost:8080/",
          "height": 307
        },
        "id": "dQMtc5NEIziF",
        "outputId": "244af098-6072-4d54-a858-1a67a57c3a67"
      },
      "outputs": [
        {
          "data": {
            "text/html": [
              "<table border=\"1\" class=\"dataframe\">\n",
              "  <thead>\n",
              "    <tr style=\"text-align: right;\">\n",
              "      <th></th>\n",
              "      <th>17</th>\n",
              "    </tr>\n",
              "  </thead>\n",
              "  <tbody>\n",
              "    <tr>\n",
              "      <th>chapter</th>\n",
              "      <td>1</td>\n",
              "    </tr>\n",
              "    <tr>\n",
              "      <th>question_number</th>\n",
              "      <td>18</td>\n",
              "    </tr>\n",
              "    <tr>\n",
              "      <th>question_text</th>\n",
              "      <td>Do we always have to use 224×224-pixel images with the cat recognition model?</td>\n",
              "    </tr>\n",
              "    <tr>\n",
              "      <th>answer</th>\n",
              "      <td>No we do not. 224x224 is commonly used for historical reasons. You can increase the size and get better performance, but at the price of speed and memory consumption.</td>\n",
              "    </tr>\n",
              "    <tr>\n",
              "      <th>keywords</th>\n",
              "      <td>224, pixel, image, cat, recognition, model</td>\n",
              "    </tr>\n",
              "    <tr>\n",
              "      <th>fts5_result</th>\n",
              "      <td>### How Our Image Recognizer Works\\n\\n```python\\ndls = ImageDataLoaders.from_name_func(\\n    path, get_image_files(path), valid_pct=0.2, seed=42,\\n    label_func=is_cat, item_tfms=Resize(224))\\n```</td>\n",
              "    </tr>\n",
              "  </tbody>\n",
              "</table><br><label><b>dtype:</b> object</label>"
            ],
            "text/plain": [
              "chapter                                                            1\n",
              "question_number                                                   18\n",
              "question_text      Do we always have to use 224×224-pixel images ...\n",
              "answer             No we do not. 224x224 is commonly used for his...\n",
              "keywords                  224, pixel, image, cat, recognition, model\n",
              "fts5_result        ### How Our Image Recognizer Works\\n\\n```pytho...\n",
              "Name: 17, dtype: object"
            ]
          },
          "execution_count": 89,
          "metadata": {},
          "output_type": "execute_result"
        }
      ],
      "source": [
        "df.iloc[17]"
      ]
    },
    {
      "cell_type": "markdown",
      "metadata": {
        "id": "HgscMjsyJCnI"
      },
      "source": [
        "<br>\n",
        "\n",
        "In some cases, the retrieved context seemed to be the chunk right before the chunk that would describe the solution in the text. This makes me wonder if my chunk sizes are too small?"
      ]
    },
    {
      "cell_type": "code",
      "execution_count": 90,
      "metadata": {
        "colab": {
          "base_uri": "https://localhost:8080/",
          "height": 342
        },
        "id": "Aoi841R-JQIH",
        "outputId": "97acd98a-de6c-4c0d-ccb1-3101cc6cd10a"
      },
      "outputs": [
        {
          "data": {
            "text/html": [
              "<table border=\"1\" class=\"dataframe\">\n",
              "  <thead>\n",
              "    <tr style=\"text-align: right;\">\n",
              "      <th></th>\n",
              "      <th>9</th>\n",
              "    </tr>\n",
              "  </thead>\n",
              "  <tbody>\n",
              "    <tr>\n",
              "      <th>chapter</th>\n",
              "      <td>1</td>\n",
              "    </tr>\n",
              "    <tr>\n",
              "      <th>question_number</th>\n",
              "      <td>10</td>\n",
              "    </tr>\n",
              "    <tr>\n",
              "      <th>question_text</th>\n",
              "      <td>Why is it hard to use a traditional computer program to recognize images in a photo?</td>\n",
              "    </tr>\n",
              "    <tr>\n",
              "      <th>answer</th>\n",
              "      <td>For us humans, it is easy to identify images in a photos, such as identifying cats vs dogs in a photo. This is because, subconsciously our brains have learned which features define a cat or a dog for example. But it is hard to define set rules for a traditional computer program to recognize a cat or a dog. Can you think of a universal rule to determine if a photo contains a cat or dog? How would you encode that as a computer program? This is very difficult because cats, dogs, or other objects, have a wide variety of shapes, textures, colors, and other features, and it is close to impossible to manually encode this in a traditional computer program.</td>\n",
              "    </tr>\n",
              "    <tr>\n",
              "      <th>keywords</th>\n",
              "      <td>image, recognize, recognition, traditional, computer, program</td>\n",
              "    </tr>\n",
              "    <tr>\n",
              "      <th>fts5_result</th>\n",
              "      <td>### What Is Machine Learning?\\n\\n```python\\n#hide_input\\n#caption A traditional program\\n#id basic_program\\n#alt Pipeline inputs, program, results\\ngv('''program[shape=box3d width=1 height=0.7]\\ninputs-&gt;program-&gt;results''')\\n```</td>\n",
              "    </tr>\n",
              "  </tbody>\n",
              "</table><br><label><b>dtype:</b> object</label>"
            ],
            "text/plain": [
              "chapter                                                            1\n",
              "question_number                                                   10\n",
              "question_text      Why is it hard to use a traditional computer p...\n",
              "answer             For us humans, it is easy to identify images i...\n",
              "keywords           image, recognize, recognition, traditional, co...\n",
              "fts5_result        ### What Is Machine Learning?\\n\\n```python\\n#h...\n",
              "Name: 9, dtype: object"
            ]
          },
          "execution_count": 90,
          "metadata": {},
          "output_type": "execute_result"
        }
      ],
      "source": [
        "df.iloc[9]"
      ]
    },
    {
      "cell_type": "code",
      "execution_count": 91,
      "metadata": {
        "colab": {
          "base_uri": "https://localhost:8080/",
          "height": 324
        },
        "id": "8RnYh39jJc9b",
        "outputId": "a8b117a6-abfa-4906-f3ae-6d216c755a57"
      },
      "outputs": [
        {
          "data": {
            "text/html": [
              "<table border=\"1\" class=\"dataframe\">\n",
              "  <thead>\n",
              "    <tr style=\"text-align: right;\">\n",
              "      <th></th>\n",
              "      <th>10</th>\n",
              "    </tr>\n",
              "  </thead>\n",
              "  <tbody>\n",
              "    <tr>\n",
              "      <th>chapter</th>\n",
              "      <td>1</td>\n",
              "    </tr>\n",
              "    <tr>\n",
              "      <th>question_number</th>\n",
              "      <td>11</td>\n",
              "    </tr>\n",
              "    <tr>\n",
              "      <th>question_text</th>\n",
              "      <td>What did Samuel mean by \"\"\"\"\"\"\"\"weight assignment\"\"\"\"\"\"\"\"?</td>\n",
              "    </tr>\n",
              "    <tr>\n",
              "      <th>answer</th>\n",
              "      <td>“weight assignment” refers to the current values of the model parameters. Arthur Samuel further mentions an “ automatic means of testing the effectiveness of any current weight assignment ” and a “ mechanism for altering the weight assignment so as to maximize the performance ”. This refers to the evaluation and training of the model in order to obtain a set of parameter values that maximizes model performance.</td>\n",
              "    </tr>\n",
              "    <tr>\n",
              "      <th>keywords</th>\n",
              "      <td>Samuel, weight, assignment</td>\n",
              "    </tr>\n",
              "    <tr>\n",
              "      <th>fts5_result</th>\n",
              "      <td>### What Is Machine Learning?\\n\\nLet us take these concepts one by one, in order to understand how they fit together in practice. First, we need to understand what Samuel means by a *weight assignment*.</td>\n",
              "    </tr>\n",
              "  </tbody>\n",
              "</table><br><label><b>dtype:</b> object</label>"
            ],
            "text/plain": [
              "chapter                                                            1\n",
              "question_number                                                   11\n",
              "question_text      What did Samuel mean by \"\"\"\"\"\"\"\"weight assignm...\n",
              "answer             “weight assignment” refers to the current valu...\n",
              "keywords                                  Samuel, weight, assignment\n",
              "fts5_result        ### What Is Machine Learning?\\n\\nLet us take t...\n",
              "Name: 10, dtype: object"
            ]
          },
          "execution_count": 91,
          "metadata": {},
          "output_type": "execute_result"
        }
      ],
      "source": [
        "df.iloc[10]"
      ]
    },
    {
      "cell_type": "markdown",
      "metadata": {
        "id": "fB1uuqb0JlIt"
      },
      "source": [
        "## Including More Chunks During Retrieval"
      ]
    },
    {
      "cell_type": "markdown",
      "metadata": {
        "id": "u8f5JqS7Jnkt"
      },
      "source": [
        "Based on the initial keyword search results, some of the retrieved chunks of context either partially answer the question, or only begin to setup the answer to the question. I see two routes of remediating this:\n",
        "\n",
        "- Increase the chunk size (i.e. choose a different chunking strategy)\n",
        "- Increase the number of chunks selected during keyword search\n",
        "\n",
        "The second approachs seems easier to implement. I like the idea of retrieving more than 1 small chunks than a single large chunk. I can imagine a couple of trade-offs:\n",
        "\n",
        "- A few small chunks may not capture information that is spread across a long paragraph/section needed for the LLM to answer the question sufficiently.\n",
        "- Single large chunk may include information irrelevant to the question and thus introduce noise into the answer, confusing the LLM."
      ]
    },
    {
      "cell_type": "markdown",
      "metadata": {
        "id": "a8C6V_4qKrzc"
      },
      "source": [
        "I'll retrieve the top 3 BM25-ranked results and then evaluate them."
      ]
    },
    {
      "cell_type": "code",
      "execution_count": 95,
      "metadata": {
        "id": "6QzstHYMQ2-k"
      },
      "outputs": [],
      "source": [
        "#| code-fold: true\n",
        "#| code-summary: \"Show the for-loop code\"\n",
        "\n",
        "results = []\n",
        "\n",
        "for keywords in df['keywords']:\n",
        "  if keywords != 'No answer':\n",
        "    words = ' OR '.join([f'\"{word.strip(\",\")}\"' for word in keywords.split()])\n",
        "    q = f\"\"\"\n",
        "\n",
        "    SELECT *, rank\n",
        "      from fastbook_text\n",
        "    WHERE fastbook_text MATCH '{words}'\n",
        "    ORDER BY rank\n",
        "    LIMIT 3\n",
        "\n",
        "    \"\"\"\n",
        "\n",
        "    res = cur.execute(q)\n",
        "    results.append(res.fetchall())\n",
        "  else:\n",
        "    # if keywords == \"No Answer\"\n",
        "    res = (\"No answer\")\n",
        "    results.append(res)"
      ]
    },
    {
      "cell_type": "code",
      "execution_count": 101,
      "metadata": {
        "id": "9yiqLTzEREW2"
      },
      "outputs": [],
      "source": [
        "df['fts5_result2'] = results"
      ]
    },
    {
      "cell_type": "code",
      "execution_count": 102,
      "metadata": {
        "colab": {
          "base_uri": "https://localhost:8080/",
          "height": 196
        },
        "id": "wCRx9j3ORTf3",
        "outputId": "00e446c8-1eca-41c2-da92-39ac6c31c62a"
      },
      "outputs": [
        {
          "data": {
            "application/vnd.google.colaboratory.intrinsic+json": {
              "summary": "{\n  \"name\": \"df\",\n  \"rows\": 33,\n  \"fields\": [\n    {\n      \"column\": \"chapter\",\n      \"properties\": {\n        \"dtype\": \"number\",\n        \"std\": 0,\n        \"min\": 1,\n        \"max\": 1,\n        \"num_unique_values\": 1,\n        \"samples\": [\n          1\n        ],\n        \"semantic_type\": \"\",\n        \"description\": \"\"\n      }\n    },\n    {\n      \"column\": \"question_number\",\n      \"properties\": {\n        \"dtype\": \"number\",\n        \"std\": 9,\n        \"min\": 1,\n        \"max\": 33,\n        \"num_unique_values\": 33,\n        \"samples\": [\n          32\n        ],\n        \"semantic_type\": \"\",\n        \"description\": \"\"\n      }\n    },\n    {\n      \"column\": \"question_text\",\n      \"properties\": {\n        \"dtype\": \"string\",\n        \"num_unique_values\": 33,\n        \"samples\": [\n          \"What are \\\"\\\"hyperparameters\\\"\\\"?\"\n        ],\n        \"semantic_type\": \"\",\n        \"description\": \"\"\n      }\n    },\n    {\n      \"column\": \"answer\",\n      \"properties\": {\n        \"dtype\": \"string\",\n        \"num_unique_values\": 31,\n        \"samples\": [\n          \"At its core, segmentation is a pixelwise classification problem. We attempt to predict a label for every single pixel in the image. This provides a mask for which parts of the image correspond to the given label.\"\n        ],\n        \"semantic_type\": \"\",\n        \"description\": \"\"\n      }\n    },\n    {\n      \"column\": \"keywords\",\n      \"properties\": {\n        \"dtype\": \"string\",\n        \"num_unique_values\": 31,\n        \"samples\": [\n          \"segmentation\"\n        ],\n        \"semantic_type\": \"\",\n        \"description\": \"\"\n      }\n    },\n    {\n      \"column\": \"fts5_result2\",\n      \"properties\": {\n        \"dtype\": \"object\",\n        \"semantic_type\": \"\",\n        \"description\": \"\"\n      }\n    }\n  ]\n}",
              "type": "dataframe",
              "variable_name": "df"
            },
            "text/html": [
              "\n",
              "  <div id=\"df-cd6b54ad-10d3-4f54-bd20-9c3ab3abcaaa\" class=\"colab-df-container\">\n",
              "    <div>\n",
              "<style scoped>\n",
              "    .dataframe tbody tr th:only-of-type {\n",
              "        vertical-align: middle;\n",
              "    }\n",
              "\n",
              "    .dataframe tbody tr th {\n",
              "        vertical-align: top;\n",
              "    }\n",
              "\n",
              "    .dataframe thead th {\n",
              "        text-align: right;\n",
              "    }\n",
              "</style>\n",
              "<table border=\"1\" class=\"dataframe\">\n",
              "  <thead>\n",
              "    <tr style=\"text-align: right;\">\n",
              "      <th></th>\n",
              "      <th>chapter</th>\n",
              "      <th>question_number</th>\n",
              "      <th>question_text</th>\n",
              "      <th>answer</th>\n",
              "      <th>keywords</th>\n",
              "      <th>fts5_result2</th>\n",
              "    </tr>\n",
              "  </thead>\n",
              "  <tbody>\n",
              "    <tr>\n",
              "      <th>0</th>\n",
              "      <td>1</td>\n",
              "      <td>1</td>\n",
              "      <td>Do you need these for deep learning?\\\\n\\\\n- Lo...</td>\n",
              "      <td>Lots of math - False\\\\nLots of data - False\\\\n...</td>\n",
              "      <td>math, data, expensive computers, PhD</td>\n",
              "      <td>[(## Deep Learning Is for Everyone\\n\\n```ascii...</td>\n",
              "    </tr>\n",
              "    <tr>\n",
              "      <th>1</th>\n",
              "      <td>1</td>\n",
              "      <td>2</td>\n",
              "      <td>Name five areas where deep learning is now the...</td>\n",
              "      <td>Any five of the following:\\\\nNatural Language ...</td>\n",
              "      <td>deep learning, state of the art, best, world</td>\n",
              "      <td>[(## Deep Learning Is for Everyone\\n\\nHere's a...</td>\n",
              "    </tr>\n",
              "    <tr>\n",
              "      <th>2</th>\n",
              "      <td>1</td>\n",
              "      <td>3</td>\n",
              "      <td>What was the name of the first device that was...</td>\n",
              "      <td>Mark I perceptron built by Frank Rosenblatt</td>\n",
              "      <td>first, device, artificial, neuron</td>\n",
              "      <td>[(## Neural Networks: A Brief History\\n\\n&lt;img ...</td>\n",
              "    </tr>\n",
              "  </tbody>\n",
              "</table>\n",
              "</div>\n",
              "    <div class=\"colab-df-buttons\">\n",
              "\n",
              "  <div class=\"colab-df-container\">\n",
              "    <button class=\"colab-df-convert\" onclick=\"convertToInteractive('df-cd6b54ad-10d3-4f54-bd20-9c3ab3abcaaa')\"\n",
              "            title=\"Convert this dataframe to an interactive table.\"\n",
              "            style=\"display:none;\">\n",
              "\n",
              "  <svg xmlns=\"http://www.w3.org/2000/svg\" height=\"24px\" viewBox=\"0 -960 960 960\">\n",
              "    <path d=\"M120-120v-720h720v720H120Zm60-500h600v-160H180v160Zm220 220h160v-160H400v160Zm0 220h160v-160H400v160ZM180-400h160v-160H180v160Zm440 0h160v-160H620v160ZM180-180h160v-160H180v160Zm440 0h160v-160H620v160Z\"/>\n",
              "  </svg>\n",
              "    </button>\n",
              "\n",
              "  <style>\n",
              "    .colab-df-container {\n",
              "      display:flex;\n",
              "      gap: 12px;\n",
              "    }\n",
              "\n",
              "    .colab-df-convert {\n",
              "      background-color: #E8F0FE;\n",
              "      border: none;\n",
              "      border-radius: 50%;\n",
              "      cursor: pointer;\n",
              "      display: none;\n",
              "      fill: #1967D2;\n",
              "      height: 32px;\n",
              "      padding: 0 0 0 0;\n",
              "      width: 32px;\n",
              "    }\n",
              "\n",
              "    .colab-df-convert:hover {\n",
              "      background-color: #E2EBFA;\n",
              "      box-shadow: 0px 1px 2px rgba(60, 64, 67, 0.3), 0px 1px 3px 1px rgba(60, 64, 67, 0.15);\n",
              "      fill: #174EA6;\n",
              "    }\n",
              "\n",
              "    .colab-df-buttons div {\n",
              "      margin-bottom: 4px;\n",
              "    }\n",
              "\n",
              "    [theme=dark] .colab-df-convert {\n",
              "      background-color: #3B4455;\n",
              "      fill: #D2E3FC;\n",
              "    }\n",
              "\n",
              "    [theme=dark] .colab-df-convert:hover {\n",
              "      background-color: #434B5C;\n",
              "      box-shadow: 0px 1px 3px 1px rgba(0, 0, 0, 0.15);\n",
              "      filter: drop-shadow(0px 1px 2px rgba(0, 0, 0, 0.3));\n",
              "      fill: #FFFFFF;\n",
              "    }\n",
              "  </style>\n",
              "\n",
              "    <script>\n",
              "      const buttonEl =\n",
              "        document.querySelector('#df-cd6b54ad-10d3-4f54-bd20-9c3ab3abcaaa button.colab-df-convert');\n",
              "      buttonEl.style.display =\n",
              "        google.colab.kernel.accessAllowed ? 'block' : 'none';\n",
              "\n",
              "      async function convertToInteractive(key) {\n",
              "        const element = document.querySelector('#df-cd6b54ad-10d3-4f54-bd20-9c3ab3abcaaa');\n",
              "        const dataTable =\n",
              "          await google.colab.kernel.invokeFunction('convertToInteractive',\n",
              "                                                    [key], {});\n",
              "        if (!dataTable) return;\n",
              "\n",
              "        const docLinkHtml = 'Like what you see? Visit the ' +\n",
              "          '<a target=\"_blank\" href=https://colab.research.google.com/notebooks/data_table.ipynb>data table notebook</a>'\n",
              "          + ' to learn more about interactive tables.';\n",
              "        element.innerHTML = '';\n",
              "        dataTable['output_type'] = 'display_data';\n",
              "        await google.colab.output.renderOutput(dataTable, element);\n",
              "        const docLink = document.createElement('div');\n",
              "        docLink.innerHTML = docLinkHtml;\n",
              "        element.appendChild(docLink);\n",
              "      }\n",
              "    </script>\n",
              "  </div>\n",
              "\n",
              "\n",
              "<div id=\"df-d2230cda-9289-456b-b252-e2afd0aeaa7f\">\n",
              "  <button class=\"colab-df-quickchart\" onclick=\"quickchart('df-d2230cda-9289-456b-b252-e2afd0aeaa7f')\"\n",
              "            title=\"Suggest charts\"\n",
              "            style=\"display:none;\">\n",
              "\n",
              "<svg xmlns=\"http://www.w3.org/2000/svg\" height=\"24px\"viewBox=\"0 0 24 24\"\n",
              "     width=\"24px\">\n",
              "    <g>\n",
              "        <path d=\"M19 3H5c-1.1 0-2 .9-2 2v14c0 1.1.9 2 2 2h14c1.1 0 2-.9 2-2V5c0-1.1-.9-2-2-2zM9 17H7v-7h2v7zm4 0h-2V7h2v10zm4 0h-2v-4h2v4z\"/>\n",
              "    </g>\n",
              "</svg>\n",
              "  </button>\n",
              "\n",
              "<style>\n",
              "  .colab-df-quickchart {\n",
              "      --bg-color: #E8F0FE;\n",
              "      --fill-color: #1967D2;\n",
              "      --hover-bg-color: #E2EBFA;\n",
              "      --hover-fill-color: #174EA6;\n",
              "      --disabled-fill-color: #AAA;\n",
              "      --disabled-bg-color: #DDD;\n",
              "  }\n",
              "\n",
              "  [theme=dark] .colab-df-quickchart {\n",
              "      --bg-color: #3B4455;\n",
              "      --fill-color: #D2E3FC;\n",
              "      --hover-bg-color: #434B5C;\n",
              "      --hover-fill-color: #FFFFFF;\n",
              "      --disabled-bg-color: #3B4455;\n",
              "      --disabled-fill-color: #666;\n",
              "  }\n",
              "\n",
              "  .colab-df-quickchart {\n",
              "    background-color: var(--bg-color);\n",
              "    border: none;\n",
              "    border-radius: 50%;\n",
              "    cursor: pointer;\n",
              "    display: none;\n",
              "    fill: var(--fill-color);\n",
              "    height: 32px;\n",
              "    padding: 0;\n",
              "    width: 32px;\n",
              "  }\n",
              "\n",
              "  .colab-df-quickchart:hover {\n",
              "    background-color: var(--hover-bg-color);\n",
              "    box-shadow: 0 1px 2px rgba(60, 64, 67, 0.3), 0 1px 3px 1px rgba(60, 64, 67, 0.15);\n",
              "    fill: var(--button-hover-fill-color);\n",
              "  }\n",
              "\n",
              "  .colab-df-quickchart-complete:disabled,\n",
              "  .colab-df-quickchart-complete:disabled:hover {\n",
              "    background-color: var(--disabled-bg-color);\n",
              "    fill: var(--disabled-fill-color);\n",
              "    box-shadow: none;\n",
              "  }\n",
              "\n",
              "  .colab-df-spinner {\n",
              "    border: 2px solid var(--fill-color);\n",
              "    border-color: transparent;\n",
              "    border-bottom-color: var(--fill-color);\n",
              "    animation:\n",
              "      spin 1s steps(1) infinite;\n",
              "  }\n",
              "\n",
              "  @keyframes spin {\n",
              "    0% {\n",
              "      border-color: transparent;\n",
              "      border-bottom-color: var(--fill-color);\n",
              "      border-left-color: var(--fill-color);\n",
              "    }\n",
              "    20% {\n",
              "      border-color: transparent;\n",
              "      border-left-color: var(--fill-color);\n",
              "      border-top-color: var(--fill-color);\n",
              "    }\n",
              "    30% {\n",
              "      border-color: transparent;\n",
              "      border-left-color: var(--fill-color);\n",
              "      border-top-color: var(--fill-color);\n",
              "      border-right-color: var(--fill-color);\n",
              "    }\n",
              "    40% {\n",
              "      border-color: transparent;\n",
              "      border-right-color: var(--fill-color);\n",
              "      border-top-color: var(--fill-color);\n",
              "    }\n",
              "    60% {\n",
              "      border-color: transparent;\n",
              "      border-right-color: var(--fill-color);\n",
              "    }\n",
              "    80% {\n",
              "      border-color: transparent;\n",
              "      border-right-color: var(--fill-color);\n",
              "      border-bottom-color: var(--fill-color);\n",
              "    }\n",
              "    90% {\n",
              "      border-color: transparent;\n",
              "      border-bottom-color: var(--fill-color);\n",
              "    }\n",
              "  }\n",
              "</style>\n",
              "\n",
              "  <script>\n",
              "    async function quickchart(key) {\n",
              "      const quickchartButtonEl =\n",
              "        document.querySelector('#' + key + ' button');\n",
              "      quickchartButtonEl.disabled = true;  // To prevent multiple clicks.\n",
              "      quickchartButtonEl.classList.add('colab-df-spinner');\n",
              "      try {\n",
              "        const charts = await google.colab.kernel.invokeFunction(\n",
              "            'suggestCharts', [key], {});\n",
              "      } catch (error) {\n",
              "        console.error('Error during call to suggestCharts:', error);\n",
              "      }\n",
              "      quickchartButtonEl.classList.remove('colab-df-spinner');\n",
              "      quickchartButtonEl.classList.add('colab-df-quickchart-complete');\n",
              "    }\n",
              "    (() => {\n",
              "      let quickchartButtonEl =\n",
              "        document.querySelector('#df-d2230cda-9289-456b-b252-e2afd0aeaa7f button');\n",
              "      quickchartButtonEl.style.display =\n",
              "        google.colab.kernel.accessAllowed ? 'block' : 'none';\n",
              "    })();\n",
              "  </script>\n",
              "</div>\n",
              "\n",
              "    </div>\n",
              "  </div>\n"
            ],
            "text/plain": [
              "   chapter  question_number  \\\n",
              "0        1                1   \n",
              "1        1                2   \n",
              "2        1                3   \n",
              "\n",
              "                                       question_text  \\\n",
              "0  Do you need these for deep learning?\\\\n\\\\n- Lo...   \n",
              "1  Name five areas where deep learning is now the...   \n",
              "2  What was the name of the first device that was...   \n",
              "\n",
              "                                              answer  \\\n",
              "0  Lots of math - False\\\\nLots of data - False\\\\n...   \n",
              "1  Any five of the following:\\\\nNatural Language ...   \n",
              "2        Mark I perceptron built by Frank Rosenblatt   \n",
              "\n",
              "                                       keywords  \\\n",
              "0          math, data, expensive computers, PhD   \n",
              "1  deep learning, state of the art, best, world   \n",
              "2             first, device, artificial, neuron   \n",
              "\n",
              "                                        fts5_result2  \n",
              "0  [(## Deep Learning Is for Everyone\\n\\n```ascii...  \n",
              "1  [(## Deep Learning Is for Everyone\\n\\nHere's a...  \n",
              "2  [(## Neural Networks: A Brief History\\n\\n<img ...  "
            ]
          },
          "execution_count": 102,
          "metadata": {},
          "output_type": "execute_result"
        }
      ],
      "source": [
        "df.head(3)"
      ]
    },
    {
      "cell_type": "code",
      "execution_count": 138,
      "metadata": {
        "id": "elN2M72tRWEb"
      },
      "outputs": [],
      "source": [
        "top_3_results = df['fts5_result2'].apply(pd.Series)\n",
        "top_3_results.columns = [f'fts5_result2_{i+1}' for i in range(top_3_results.shape[1])]"
      ]
    },
    {
      "cell_type": "code",
      "execution_count": 139,
      "metadata": {
        "id": "V1ykEoafR5w-"
      },
      "outputs": [],
      "source": [
        "for col in ['fts5_result2_1', 'fts5_result2_2', 'fts5_result2_3']:\n",
        "    top_3_results[col] = top_3_results[col].apply(lambda x: x[0] if isinstance(x, tuple) else x)"
      ]
    },
    {
      "cell_type": "code",
      "execution_count": 141,
      "metadata": {
        "colab": {
          "base_uri": "https://localhost:8080/",
          "height": 206
        },
        "id": "qG60K8VpSiaR",
        "outputId": "76a2c075-db6b-40e5-ee67-727823af3276"
      },
      "outputs": [
        {
          "data": {
            "application/vnd.google.colaboratory.intrinsic+json": {
              "summary": "{\n  \"name\": \"top_3_results\",\n  \"rows\": 33,\n  \"fields\": [\n    {\n      \"column\": \"fts5_result2_1\",\n      \"properties\": {\n        \"dtype\": \"string\",\n        \"num_unique_values\": 31,\n        \"samples\": [\n          \"## Deep Learning Is Not Just for Image Classification\\n\\nFor instance, let's talk about something that is critically important for autonomous vehicles: localizing objects in a picture. If a self-driving car doesn't know where a pedestrian is, then it doesn't know how to avoid one! Creating a model that can recognize the content of every individual pixel in an image is called *segmentation*. Here is how we can train a segmentation model with fastai, using a subset of the [*Camvid* dataset](http://www0.cs.ucl.ac.uk/staff/G.Brostow/papers/Brostow_2009-PRL.pdf) from the paper \\\"Semantic Object Classes in Video: A High-Definition Ground Truth Database\\\" by Gabruel J. Brostow, Julien Fauqueur, and Roberto Cipolla:\",\n          \"### How Our Image Recognizer Works\\n\\n```python\\ndls = ImageDataLoaders.from_name_func(\\n    path, get_image_files(path), valid_pct=0.2, seed=42,\\n    label_func=is_cat, item_tfms=Resize(224))\\n```\",\n          \"### How Our Image Recognizer Works\\n\\n1. Use one epoch to fit just those parts of the model necessary to get the new random head to work correctly with your dataset.\\n1. Use the number of epochs requested when calling the method to fit the entire model, updating the weights of the later layers (especially the head) faster than the earlier layers (which, as we'll see, generally don't require many changes from the pretrained weights).\"\n        ],\n        \"semantic_type\": \"\",\n        \"description\": \"\"\n      }\n    },\n    {\n      \"column\": \"fts5_result2_2\",\n      \"properties\": {\n        \"dtype\": \"string\",\n        \"num_unique_values\": 29,\n        \"samples\": [\n          \"### End sidebar\\n\\nThis model is predicting movie ratings on a scale of 0.5 to 5.0 to within around 0.6 average error. Since we're predicting a continuous number, rather than a category, we have to tell fastai what range our target has, using the `y_range` parameter.\",\n          \"## Validation Sets and Test Sets\\n\\nHaving two levels of \\\"reserved data\\\"\\u2014a validation set and a test set, with one level representing data that you are virtually hiding from yourself\\u2014may seem a bit extreme. But the reason it is often necessary is because models tend to gravitate toward the simplest way to do good predictions (memorization), and we as fallible humans tend to gravitate toward fooling ourselves about how well our models are performing. The discipline of the test set helps us keep ourselves intellectually honest. That doesn't mean we *always* need a separate test set\\u2014if you have very little data, you may need to just have a validation set\\u2014but generally it's best to use one if at all possible.\",\n          \"## Your First Model\\n\\nAs we said before, we will teach you how to do things before we explain why they work. Following this top-down approach, we will begin by actually training an image classifier to recognize dogs and cats with almost 100% accuracy. To train this model and run our experiments, you will need to do some initial setup. Don't worry, it's not as hard as it looks.\"\n        ],\n        \"semantic_type\": \"\",\n        \"description\": \"\"\n      }\n    },\n    {\n      \"column\": \"fts5_result2_3\",\n      \"properties\": {\n        \"dtype\": \"string\",\n        \"num_unique_values\": 26,\n        \"samples\": [\n          \"### What Is Machine Learning?\\n\\n- The idea of a \\\"weight assignment\\\" \\n- The fact that every weight assignment has some \\\"actual performance\\\"\\n- The requirement that there be an \\\"automatic means\\\" of testing that performance,  \\n- The need for a \\\"mechanism\\\" (i.e., another automatic process) for improving the performance by changing the weight assignments\",\n          \"### Use Judgment in Defining Test Sets\\n\\nInstead, use the earlier data as your training set (and the later data for the validation set), as shown in <<timeseries3>>.\",\n          \"## Who We Are\\n\\nAll this means that between us you have the best of both worlds: the people who know more about the software than anybody else, because they wrote it; an expert on math, and an expert on coding and machine learning; and also people who understand both what it feels like to be a relative outsider in math, and a relative outsider in coding and machine learning.\"\n        ],\n        \"semantic_type\": \"\",\n        \"description\": \"\"\n      }\n    }\n  ]\n}",
              "type": "dataframe",
              "variable_name": "top_3_results"
            },
            "text/html": [
              "\n",
              "  <div id=\"df-99d8412d-7d1d-4bf8-b685-bedb0e4d01d6\" class=\"colab-df-container\">\n",
              "    <div>\n",
              "<style scoped>\n",
              "    .dataframe tbody tr th:only-of-type {\n",
              "        vertical-align: middle;\n",
              "    }\n",
              "\n",
              "    .dataframe tbody tr th {\n",
              "        vertical-align: top;\n",
              "    }\n",
              "\n",
              "    .dataframe thead th {\n",
              "        text-align: right;\n",
              "    }\n",
              "</style>\n",
              "<table border=\"1\" class=\"dataframe\">\n",
              "  <thead>\n",
              "    <tr style=\"text-align: right;\">\n",
              "      <th></th>\n",
              "      <th>fts5_result2_1</th>\n",
              "      <th>fts5_result2_2</th>\n",
              "      <th>fts5_result2_3</th>\n",
              "    </tr>\n",
              "  </thead>\n",
              "  <tbody>\n",
              "    <tr>\n",
              "      <th>0</th>\n",
              "      <td>## Deep Learning Is for Everyone\\n\\n```asciido...</td>\n",
              "      <td>## How to Learn Deep Learning\\n\\nPaul Lockhart...</td>\n",
              "      <td>## Who We Are\\n\\nAll this means that between u...</td>\n",
              "    </tr>\n",
              "    <tr>\n",
              "      <th>1</th>\n",
              "      <td>## Deep Learning Is for Everyone\\n\\nHere's a l...</td>\n",
              "      <td>## How to Learn Deep Learning\\n\\n- Teaching th...</td>\n",
              "      <td>## Deep Learning Is for Everyone\\n\\n```asciido...</td>\n",
              "    </tr>\n",
              "    <tr>\n",
              "      <th>2</th>\n",
              "      <td>## Neural Networks: A Brief History\\n\\n&lt;img al...</td>\n",
              "      <td>## Neural Networks: A Brief History\\n\\nRosenbl...</td>\n",
              "      <td>## Neural Networks: A Brief History\\n\\nIn 1943...</td>\n",
              "    </tr>\n",
              "    <tr>\n",
              "      <th>3</th>\n",
              "      <td>## Neural Networks: A Brief History\\n\\nIn fact...</td>\n",
              "      <td>## Neural Networks: A Brief History\\n\\nPerhaps...</td>\n",
              "      <td>## Neural Networks: A Brief History\\n\\nWe will...</td>\n",
              "    </tr>\n",
              "    <tr>\n",
              "      <th>4</th>\n",
              "      <td>## Neural Networks: A Brief History\\n\\nIn the ...</td>\n",
              "      <td>### What Is a Neural Network?\\n\\nHaving zoomed...</td>\n",
              "      <td>## Deep Learning Is for Everyone\\n\\nBut neural...</td>\n",
              "    </tr>\n",
              "  </tbody>\n",
              "</table>\n",
              "</div>\n",
              "    <div class=\"colab-df-buttons\">\n",
              "\n",
              "  <div class=\"colab-df-container\">\n",
              "    <button class=\"colab-df-convert\" onclick=\"convertToInteractive('df-99d8412d-7d1d-4bf8-b685-bedb0e4d01d6')\"\n",
              "            title=\"Convert this dataframe to an interactive table.\"\n",
              "            style=\"display:none;\">\n",
              "\n",
              "  <svg xmlns=\"http://www.w3.org/2000/svg\" height=\"24px\" viewBox=\"0 -960 960 960\">\n",
              "    <path d=\"M120-120v-720h720v720H120Zm60-500h600v-160H180v160Zm220 220h160v-160H400v160Zm0 220h160v-160H400v160ZM180-400h160v-160H180v160Zm440 0h160v-160H620v160ZM180-180h160v-160H180v160Zm440 0h160v-160H620v160Z\"/>\n",
              "  </svg>\n",
              "    </button>\n",
              "\n",
              "  <style>\n",
              "    .colab-df-container {\n",
              "      display:flex;\n",
              "      gap: 12px;\n",
              "    }\n",
              "\n",
              "    .colab-df-convert {\n",
              "      background-color: #E8F0FE;\n",
              "      border: none;\n",
              "      border-radius: 50%;\n",
              "      cursor: pointer;\n",
              "      display: none;\n",
              "      fill: #1967D2;\n",
              "      height: 32px;\n",
              "      padding: 0 0 0 0;\n",
              "      width: 32px;\n",
              "    }\n",
              "\n",
              "    .colab-df-convert:hover {\n",
              "      background-color: #E2EBFA;\n",
              "      box-shadow: 0px 1px 2px rgba(60, 64, 67, 0.3), 0px 1px 3px 1px rgba(60, 64, 67, 0.15);\n",
              "      fill: #174EA6;\n",
              "    }\n",
              "\n",
              "    .colab-df-buttons div {\n",
              "      margin-bottom: 4px;\n",
              "    }\n",
              "\n",
              "    [theme=dark] .colab-df-convert {\n",
              "      background-color: #3B4455;\n",
              "      fill: #D2E3FC;\n",
              "    }\n",
              "\n",
              "    [theme=dark] .colab-df-convert:hover {\n",
              "      background-color: #434B5C;\n",
              "      box-shadow: 0px 1px 3px 1px rgba(0, 0, 0, 0.15);\n",
              "      filter: drop-shadow(0px 1px 2px rgba(0, 0, 0, 0.3));\n",
              "      fill: #FFFFFF;\n",
              "    }\n",
              "  </style>\n",
              "\n",
              "    <script>\n",
              "      const buttonEl =\n",
              "        document.querySelector('#df-99d8412d-7d1d-4bf8-b685-bedb0e4d01d6 button.colab-df-convert');\n",
              "      buttonEl.style.display =\n",
              "        google.colab.kernel.accessAllowed ? 'block' : 'none';\n",
              "\n",
              "      async function convertToInteractive(key) {\n",
              "        const element = document.querySelector('#df-99d8412d-7d1d-4bf8-b685-bedb0e4d01d6');\n",
              "        const dataTable =\n",
              "          await google.colab.kernel.invokeFunction('convertToInteractive',\n",
              "                                                    [key], {});\n",
              "        if (!dataTable) return;\n",
              "\n",
              "        const docLinkHtml = 'Like what you see? Visit the ' +\n",
              "          '<a target=\"_blank\" href=https://colab.research.google.com/notebooks/data_table.ipynb>data table notebook</a>'\n",
              "          + ' to learn more about interactive tables.';\n",
              "        element.innerHTML = '';\n",
              "        dataTable['output_type'] = 'display_data';\n",
              "        await google.colab.output.renderOutput(dataTable, element);\n",
              "        const docLink = document.createElement('div');\n",
              "        docLink.innerHTML = docLinkHtml;\n",
              "        element.appendChild(docLink);\n",
              "      }\n",
              "    </script>\n",
              "  </div>\n",
              "\n",
              "\n",
              "<div id=\"df-49173938-d69b-485b-bbe6-21d06591bf8a\">\n",
              "  <button class=\"colab-df-quickchart\" onclick=\"quickchart('df-49173938-d69b-485b-bbe6-21d06591bf8a')\"\n",
              "            title=\"Suggest charts\"\n",
              "            style=\"display:none;\">\n",
              "\n",
              "<svg xmlns=\"http://www.w3.org/2000/svg\" height=\"24px\"viewBox=\"0 0 24 24\"\n",
              "     width=\"24px\">\n",
              "    <g>\n",
              "        <path d=\"M19 3H5c-1.1 0-2 .9-2 2v14c0 1.1.9 2 2 2h14c1.1 0 2-.9 2-2V5c0-1.1-.9-2-2-2zM9 17H7v-7h2v7zm4 0h-2V7h2v10zm4 0h-2v-4h2v4z\"/>\n",
              "    </g>\n",
              "</svg>\n",
              "  </button>\n",
              "\n",
              "<style>\n",
              "  .colab-df-quickchart {\n",
              "      --bg-color: #E8F0FE;\n",
              "      --fill-color: #1967D2;\n",
              "      --hover-bg-color: #E2EBFA;\n",
              "      --hover-fill-color: #174EA6;\n",
              "      --disabled-fill-color: #AAA;\n",
              "      --disabled-bg-color: #DDD;\n",
              "  }\n",
              "\n",
              "  [theme=dark] .colab-df-quickchart {\n",
              "      --bg-color: #3B4455;\n",
              "      --fill-color: #D2E3FC;\n",
              "      --hover-bg-color: #434B5C;\n",
              "      --hover-fill-color: #FFFFFF;\n",
              "      --disabled-bg-color: #3B4455;\n",
              "      --disabled-fill-color: #666;\n",
              "  }\n",
              "\n",
              "  .colab-df-quickchart {\n",
              "    background-color: var(--bg-color);\n",
              "    border: none;\n",
              "    border-radius: 50%;\n",
              "    cursor: pointer;\n",
              "    display: none;\n",
              "    fill: var(--fill-color);\n",
              "    height: 32px;\n",
              "    padding: 0;\n",
              "    width: 32px;\n",
              "  }\n",
              "\n",
              "  .colab-df-quickchart:hover {\n",
              "    background-color: var(--hover-bg-color);\n",
              "    box-shadow: 0 1px 2px rgba(60, 64, 67, 0.3), 0 1px 3px 1px rgba(60, 64, 67, 0.15);\n",
              "    fill: var(--button-hover-fill-color);\n",
              "  }\n",
              "\n",
              "  .colab-df-quickchart-complete:disabled,\n",
              "  .colab-df-quickchart-complete:disabled:hover {\n",
              "    background-color: var(--disabled-bg-color);\n",
              "    fill: var(--disabled-fill-color);\n",
              "    box-shadow: none;\n",
              "  }\n",
              "\n",
              "  .colab-df-spinner {\n",
              "    border: 2px solid var(--fill-color);\n",
              "    border-color: transparent;\n",
              "    border-bottom-color: var(--fill-color);\n",
              "    animation:\n",
              "      spin 1s steps(1) infinite;\n",
              "  }\n",
              "\n",
              "  @keyframes spin {\n",
              "    0% {\n",
              "      border-color: transparent;\n",
              "      border-bottom-color: var(--fill-color);\n",
              "      border-left-color: var(--fill-color);\n",
              "    }\n",
              "    20% {\n",
              "      border-color: transparent;\n",
              "      border-left-color: var(--fill-color);\n",
              "      border-top-color: var(--fill-color);\n",
              "    }\n",
              "    30% {\n",
              "      border-color: transparent;\n",
              "      border-left-color: var(--fill-color);\n",
              "      border-top-color: var(--fill-color);\n",
              "      border-right-color: var(--fill-color);\n",
              "    }\n",
              "    40% {\n",
              "      border-color: transparent;\n",
              "      border-right-color: var(--fill-color);\n",
              "      border-top-color: var(--fill-color);\n",
              "    }\n",
              "    60% {\n",
              "      border-color: transparent;\n",
              "      border-right-color: var(--fill-color);\n",
              "    }\n",
              "    80% {\n",
              "      border-color: transparent;\n",
              "      border-right-color: var(--fill-color);\n",
              "      border-bottom-color: var(--fill-color);\n",
              "    }\n",
              "    90% {\n",
              "      border-color: transparent;\n",
              "      border-bottom-color: var(--fill-color);\n",
              "    }\n",
              "  }\n",
              "</style>\n",
              "\n",
              "  <script>\n",
              "    async function quickchart(key) {\n",
              "      const quickchartButtonEl =\n",
              "        document.querySelector('#' + key + ' button');\n",
              "      quickchartButtonEl.disabled = true;  // To prevent multiple clicks.\n",
              "      quickchartButtonEl.classList.add('colab-df-spinner');\n",
              "      try {\n",
              "        const charts = await google.colab.kernel.invokeFunction(\n",
              "            'suggestCharts', [key], {});\n",
              "      } catch (error) {\n",
              "        console.error('Error during call to suggestCharts:', error);\n",
              "      }\n",
              "      quickchartButtonEl.classList.remove('colab-df-spinner');\n",
              "      quickchartButtonEl.classList.add('colab-df-quickchart-complete');\n",
              "    }\n",
              "    (() => {\n",
              "      let quickchartButtonEl =\n",
              "        document.querySelector('#df-49173938-d69b-485b-bbe6-21d06591bf8a button');\n",
              "      quickchartButtonEl.style.display =\n",
              "        google.colab.kernel.accessAllowed ? 'block' : 'none';\n",
              "    })();\n",
              "  </script>\n",
              "</div>\n",
              "\n",
              "    </div>\n",
              "  </div>\n"
            ],
            "text/plain": [
              "                                      fts5_result2_1  \\\n",
              "0  ## Deep Learning Is for Everyone\\n\\n```asciido...   \n",
              "1  ## Deep Learning Is for Everyone\\n\\nHere's a l...   \n",
              "2  ## Neural Networks: A Brief History\\n\\n<img al...   \n",
              "3  ## Neural Networks: A Brief History\\n\\nIn fact...   \n",
              "4  ## Neural Networks: A Brief History\\n\\nIn the ...   \n",
              "\n",
              "                                      fts5_result2_2  \\\n",
              "0  ## How to Learn Deep Learning\\n\\nPaul Lockhart...   \n",
              "1  ## How to Learn Deep Learning\\n\\n- Teaching th...   \n",
              "2  ## Neural Networks: A Brief History\\n\\nRosenbl...   \n",
              "3  ## Neural Networks: A Brief History\\n\\nPerhaps...   \n",
              "4  ### What Is a Neural Network?\\n\\nHaving zoomed...   \n",
              "\n",
              "                                      fts5_result2_3  \n",
              "0  ## Who We Are\\n\\nAll this means that between u...  \n",
              "1  ## Deep Learning Is for Everyone\\n\\n```asciido...  \n",
              "2  ## Neural Networks: A Brief History\\n\\nIn 1943...  \n",
              "3  ## Neural Networks: A Brief History\\n\\nWe will...  \n",
              "4  ## Deep Learning Is for Everyone\\n\\nBut neural...  "
            ]
          },
          "execution_count": 141,
          "metadata": {},
          "output_type": "execute_result"
        }
      ],
      "source": [
        "top_3_results.head()"
      ]
    },
    {
      "cell_type": "code",
      "execution_count": 142,
      "metadata": {
        "id": "gplSldcpTnjj"
      },
      "outputs": [],
      "source": [
        "df = pd.concat([df, top_3_results], axis=1)\n",
        "df.to_csv('top-3-retrieval-results.csv', index=False)"
      ]
    },
    {
      "cell_type": "markdown",
      "metadata": {
        "id": "FCKVM7vvW7gH"
      },
      "source": [
        "Using the top 3 BM25 ranked chunks improved the results! 18 out of the 33 questions, or **54%**, are now answerable with the given retrieved context."
      ]
    },
    {
      "cell_type": "markdown",
      "metadata": {
        "id": "dk0bbIs3XUCF"
      },
      "source": [
        "Here's an example of a question that I couldn't answer with the top-1 result but I can answer with the second-ranked result (`fts5_result2_2`):"
      ]
    },
    {
      "cell_type": "code",
      "execution_count": 144,
      "metadata": {
        "colab": {
          "base_uri": "https://localhost:8080/",
          "height": 661
        },
        "id": "ulj9ILalXQR-",
        "outputId": "f7549655-c03d-4be8-af41-bff145f0e89d"
      },
      "outputs": [
        {
          "data": {
            "text/html": [
              "<table border=\"1\" class=\"dataframe\">\n",
              "  <thead>\n",
              "    <tr style=\"text-align: right;\">\n",
              "      <th></th>\n",
              "      <th>19</th>\n",
              "    </tr>\n",
              "  </thead>\n",
              "  <tbody>\n",
              "    <tr>\n",
              "      <th>chapter</th>\n",
              "      <td>1</td>\n",
              "    </tr>\n",
              "    <tr>\n",
              "      <th>question_number</th>\n",
              "      <td>20</td>\n",
              "    </tr>\n",
              "    <tr>\n",
              "      <th>question_text</th>\n",
              "      <td>What is a validation set? What is a test set? Why do we need them?</td>\n",
              "    </tr>\n",
              "    <tr>\n",
              "      <th>answer</th>\n",
              "      <td>The validation set is the portion of the dataset that is not used for training the model, but for evaluating the model during training, in order to prevent overfitting. This ensures that the model performance is not due to “cheating” or memorization of the dataset, but rather because it learns the appropriate features to use for prediction. However, it is possible that we overfit the validation data as well. This is because the human modeler is also part of the training process, adjusting hyperparameters (see question 32 for definition) and training procedures according to the validation performance. Therefore, another unseen portion of the dataset, the test set, is used for final evaluation of the model. This splitting of the dataset is necessary to ensure that the model generalizes to unseen data.</td>\n",
              "    </tr>\n",
              "    <tr>\n",
              "      <th>keywords</th>\n",
              "      <td>validation, set, test</td>\n",
              "    </tr>\n",
              "    <tr>\n",
              "      <th>fts5_result2</th>\n",
              "      <td>[(## Validation Sets and Test Sets\\n\\nTo avoid this, our first step was to split our dataset into two sets: the *training set* (which our model sees in training) and the *validation set*, also known as the *development set* (which is used only for evaluation). This lets us test that the model learns lessons from the training data that generalize to new data, the validation data., -9.62686734459166), (## Validation Sets and Test Sets\\n\\nHaving two levels of \"reserved data\"—a validation set and a test set, with one level representing data that you are virtually hiding from yourself—may seem a bit extreme. But the reason it is often necessary is because models tend to gravitate toward the simplest way to do good predictions (memorization), and we as fallible humans tend to gravitate toward fooling ourselves about how well our models are performing. The discipline of the test set helps us keep ourselves intellectually honest. That doesn't mean we *always* need a separate test set—if you have very little data, you may need to just have a validation set—but generally it's best to use one if at all possible., -9.21394932308204), (### Use Judgment in Defining Test Sets\\n\\nInstead, use the earlier data as your training set (and the later data for the validation set), as shown in &lt;&lt;timeseries3&gt;&gt;., -9.06398171911968)]</td>\n",
              "    </tr>\n",
              "    <tr>\n",
              "      <th>fts5_result2_1</th>\n",
              "      <td>## Validation Sets and Test Sets\\n\\nTo avoid this, our first step was to split our dataset into two sets: the *training set* (which our model sees in training) and the *validation set*, also known as the *development set* (which is used only for evaluation). This lets us test that the model learns lessons from the training data that generalize to new data, the validation data.</td>\n",
              "    </tr>\n",
              "    <tr>\n",
              "      <th>fts5_result2_2</th>\n",
              "      <td>## Validation Sets and Test Sets\\n\\nHaving two levels of \"reserved data\"—a validation set and a test set, with one level representing data that you are virtually hiding from yourself—may seem a bit extreme. But the reason it is often necessary is because models tend to gravitate toward the simplest way to do good predictions (memorization), and we as fallible humans tend to gravitate toward fooling ourselves about how well our models are performing. The discipline of the test set helps us keep ourselves intellectually honest. That doesn't mean we *always* need a separate test set—if you have very little data, you may need to just have a validation set—but generally it's best to use one if at all possible.</td>\n",
              "    </tr>\n",
              "    <tr>\n",
              "      <th>fts5_result2_3</th>\n",
              "      <td>### Use Judgment in Defining Test Sets\\n\\nInstead, use the earlier data as your training set (and the later data for the validation set), as shown in &lt;&lt;timeseries3&gt;&gt;.</td>\n",
              "    </tr>\n",
              "  </tbody>\n",
              "</table><br><label><b>dtype:</b> object</label>"
            ],
            "text/plain": [
              "chapter                                                            1\n",
              "question_number                                                   20\n",
              "question_text      What is a validation set? What is a test set? ...\n",
              "answer             The validation set is the portion of the datas...\n",
              "keywords                                       validation, set, test\n",
              "fts5_result2       [(## Validation Sets and Test Sets\\n\\nTo avoid...\n",
              "fts5_result2_1     ## Validation Sets and Test Sets\\n\\nTo avoid t...\n",
              "fts5_result2_2     ## Validation Sets and Test Sets\\n\\nHaving two...\n",
              "fts5_result2_3     ### Use Judgment in Defining Test Sets\\n\\nInst...\n",
              "Name: 19, dtype: object"
            ]
          },
          "execution_count": 144,
          "metadata": {},
          "output_type": "execute_result"
        }
      ],
      "source": [
        "df.iloc[19]"
      ]
    },
    {
      "cell_type": "markdown",
      "metadata": {
        "id": "51dELiAbX-lk"
      },
      "source": [
        "## Increasing Chunk Size"
      ]
    },
    {
      "cell_type": "markdown",
      "metadata": {
        "id": "1_4ZBt9uYEJ1"
      },
      "source": [
        "Using 3 chunks of context instead of 1 increased the performance of retrieval from 40% to 54%, meaning that I would be able to answer the Chapter 1 questions with the retrieved context 54% of the time. I'll call this metric \"retrieved context relevancy\".\n",
        "\n",
        "I'll now increase the chunk size and see how that affects performance:"
      ]
    },
    {
      "cell_type": "code",
      "execution_count": 147,
      "metadata": {
        "id": "9tGlOh3AXFGO"
      },
      "outputs": [],
      "source": [
        "larger_chunks = [\"\\n\".join(filtered_chunks[i:i+3]) for i in range(0, len(filtered_chunks), 3)]"
      ]
    },
    {
      "cell_type": "markdown",
      "metadata": {
        "id": "SsisCnR0ZNMs"
      },
      "source": [
        "Now I'll create a separate table, `fastbook_text_large` in my database to hold these chunks:"
      ]
    },
    {
      "cell_type": "code",
      "execution_count": 160,
      "metadata": {
        "id": "5C8saQ-9ZHv8"
      },
      "outputs": [],
      "source": [
        "cur = conn.cursor()\n",
        "res = cur.execute(\"\"\"\n",
        "\n",
        "CREATE VIRTUAL TABLE fastbook_text_large\n",
        "USING FTS5(text);\n",
        "\n",
        "\"\"\")"
      ]
    },
    {
      "cell_type": "code",
      "execution_count": null,
      "metadata": {},
      "outputs": [],
      "source": [
        "for string in larger_chunks:\n",
        "  cur.execute(f\"INSERT INTO fastbook_text_large(text) VALUES (?)\", (string,))\n",
        "\n",
        "res = cur.execute(\"SELECT * from fastbook_text_large LIMIT 2\")"
      ]
    },
    {
      "cell_type": "markdown",
      "metadata": {
        "id": "q7QNzgxxZyRB"
      },
      "source": [
        "The outputs (which include Markdown) were messing up my quarto blog rendering so I've excluded it. \n",
        "\n",
        "I'll now iterate through my list of questions, passing the corresponding keywords to the query to conduct a full text search:"
      ]
    },
    {
      "cell_type": "code",
      "execution_count": 165,
      "metadata": {
        "id": "nVM9dSMgZ7oa"
      },
      "outputs": [],
      "source": [
        "#| code-fold: true\n",
        "#| code-summary: \"Show the for-loop code\"\n",
        "\n",
        "results = []\n",
        "\n",
        "for keywords in df['keywords']:\n",
        "  if keywords != 'No answer':\n",
        "    words = ' OR '.join([f'\"{word.strip(\",\")}\"' for word in keywords.split()])\n",
        "    q = f\"\"\"\n",
        "\n",
        "    SELECT *, rank\n",
        "      from fastbook_text_large\n",
        "    WHERE fastbook_text_large MATCH '{words}'\n",
        "    ORDER BY rank\n",
        "    LIMIT 1\n",
        "\n",
        "    \"\"\"\n",
        "\n",
        "    res = cur.execute(q)\n",
        "    results.append(res.fetchall()[0][0])\n",
        "  else:\n",
        "    # if keywords == \"No Answer\"\n",
        "    res = (\"No answer\")\n",
        "    results.append(res)"
      ]
    },
    {
      "cell_type": "code",
      "execution_count": 171,
      "metadata": {
        "colab": {
          "base_uri": "https://localhost:8080/",
          "height": 293
        },
        "id": "lQgnAzc-aOXa",
        "outputId": "4788fb23-f3c7-4f5b-d185-62fb6f43b661"
      },
      "outputs": [
        {
          "data": {
            "application/vnd.google.colaboratory.intrinsic+json": {
              "summary": "{\n  \"name\": \"large_df\",\n  \"rows\": 33,\n  \"fields\": [\n    {\n      \"column\": \"chapter\",\n      \"properties\": {\n        \"dtype\": \"number\",\n        \"std\": 0,\n        \"min\": 1,\n        \"max\": 1,\n        \"num_unique_values\": 1,\n        \"samples\": [\n          1\n        ],\n        \"semantic_type\": \"\",\n        \"description\": \"\"\n      }\n    },\n    {\n      \"column\": \"question_number\",\n      \"properties\": {\n        \"dtype\": \"number\",\n        \"std\": 9,\n        \"min\": 1,\n        \"max\": 33,\n        \"num_unique_values\": 33,\n        \"samples\": [\n          32\n        ],\n        \"semantic_type\": \"\",\n        \"description\": \"\"\n      }\n    },\n    {\n      \"column\": \"question_text\",\n      \"properties\": {\n        \"dtype\": \"string\",\n        \"num_unique_values\": 33,\n        \"samples\": [\n          \"What are \\\"\\\"hyperparameters\\\"\\\"?\"\n        ],\n        \"semantic_type\": \"\",\n        \"description\": \"\"\n      }\n    },\n    {\n      \"column\": \"answer\",\n      \"properties\": {\n        \"dtype\": \"string\",\n        \"num_unique_values\": 31,\n        \"samples\": [\n          \"At its core, segmentation is a pixelwise classification problem. We attempt to predict a label for every single pixel in the image. This provides a mask for which parts of the image correspond to the given label.\"\n        ],\n        \"semantic_type\": \"\",\n        \"description\": \"\"\n      }\n    },\n    {\n      \"column\": \"keywords\",\n      \"properties\": {\n        \"dtype\": \"string\",\n        \"num_unique_values\": 31,\n        \"samples\": [\n          \"segmentation\"\n        ],\n        \"semantic_type\": \"\",\n        \"description\": \"\"\n      }\n    },\n    {\n      \"column\": \"large_chunk_result\",\n      \"properties\": {\n        \"dtype\": \"string\",\n        \"num_unique_values\": 29,\n        \"samples\": [\n          \"## Validation Sets and Test Sets\\n\\nOne way to understand this situation is that, in a sense, we don't want our model to get good results by \\\"cheating.\\\" If it makes an accurate prediction for a data item, that should be because it has learned characteristics of that kind of item, and not because the model has been shaped by *actually having seen that particular item*.\\n## Validation Sets and Test Sets\\n\\nSplitting off our validation data means our model never sees it in training and so is completely untainted by it, and is not cheating in any way. Right?\\n## Validation Sets and Test Sets\\n\\nIn fact, not necessarily. The situation is more subtle. This is because in realistic scenarios we rarely build a model just by training its weight parameters once. Instead, we are likely to explore many versions of a model through various modeling choices regarding network architecture, learning rates, data augmentation strategies, and other factors we will discuss in upcoming chapters. Many of these choices can be described as choices of *hyperparameters*. The word reflects that they are parameters about parameters, since they are the higher-level choices that govern the meaning of the weight parameters.\"\n        ],\n        \"semantic_type\": \"\",\n        \"description\": \"\"\n      }\n    }\n  ]\n}",
              "type": "dataframe",
              "variable_name": "large_df"
            },
            "text/html": [
              "\n",
              "  <div id=\"df-30958c00-8173-4f75-9331-80bad51d5671\" class=\"colab-df-container\">\n",
              "    <div>\n",
              "<style scoped>\n",
              "    .dataframe tbody tr th:only-of-type {\n",
              "        vertical-align: middle;\n",
              "    }\n",
              "\n",
              "    .dataframe tbody tr th {\n",
              "        vertical-align: top;\n",
              "    }\n",
              "\n",
              "    .dataframe thead th {\n",
              "        text-align: right;\n",
              "    }\n",
              "</style>\n",
              "<table border=\"1\" class=\"dataframe\">\n",
              "  <thead>\n",
              "    <tr style=\"text-align: right;\">\n",
              "      <th></th>\n",
              "      <th>chapter</th>\n",
              "      <th>question_number</th>\n",
              "      <th>question_text</th>\n",
              "      <th>answer</th>\n",
              "      <th>keywords</th>\n",
              "      <th>large_chunk_result</th>\n",
              "    </tr>\n",
              "  </thead>\n",
              "  <tbody>\n",
              "    <tr>\n",
              "      <th>0</th>\n",
              "      <td>1</td>\n",
              "      <td>1</td>\n",
              "      <td>Do you need these for deep learning?\\\\n\\\\n- Lo...</td>\n",
              "      <td>Lots of math - False\\\\nLots of data - False\\\\n...</td>\n",
              "      <td>math, data, expensive computers, PhD</td>\n",
              "      <td>## Deep Learning Is for Everyone\\n\\nA lot of p...</td>\n",
              "    </tr>\n",
              "    <tr>\n",
              "      <th>1</th>\n",
              "      <td>1</td>\n",
              "      <td>2</td>\n",
              "      <td>Name five areas where deep learning is now the...</td>\n",
              "      <td>Any five of the following:\\\\nNatural Language ...</td>\n",
              "      <td>deep learning, state of the art, best, world</td>\n",
              "      <td>## Deep Learning Is for Everyone\\n\\nA lot of p...</td>\n",
              "    </tr>\n",
              "    <tr>\n",
              "      <th>2</th>\n",
              "      <td>1</td>\n",
              "      <td>3</td>\n",
              "      <td>What was the name of the first device that was...</td>\n",
              "      <td>Mark I perceptron built by Frank Rosenblatt</td>\n",
              "      <td>first, device, artificial, neuron</td>\n",
              "      <td>## Neural Networks: A Brief History\\n\\nRosenbl...</td>\n",
              "    </tr>\n",
              "    <tr>\n",
              "      <th>3</th>\n",
              "      <td>1</td>\n",
              "      <td>4</td>\n",
              "      <td>Based on the book of the same name, what are t...</td>\n",
              "      <td>A set of processing units\\\\nA state of activat...</td>\n",
              "      <td>parallel, distributed, processing, requirement...</td>\n",
              "      <td>## Neural Networks: A Brief History\\n\\n&gt; : Peo...</td>\n",
              "    </tr>\n",
              "    <tr>\n",
              "      <th>4</th>\n",
              "      <td>1</td>\n",
              "      <td>5</td>\n",
              "      <td>What were the two theoretical misunderstanding...</td>\n",
              "      <td>In 1969, Marvin Minsky and Seymour Papert demo...</td>\n",
              "      <td>theoretical, misunderstandings, held, back, fi...</td>\n",
              "      <td>## Neural Networks: A Brief History\\n\\n1. A se...</td>\n",
              "    </tr>\n",
              "  </tbody>\n",
              "</table>\n",
              "</div>\n",
              "    <div class=\"colab-df-buttons\">\n",
              "\n",
              "  <div class=\"colab-df-container\">\n",
              "    <button class=\"colab-df-convert\" onclick=\"convertToInteractive('df-30958c00-8173-4f75-9331-80bad51d5671')\"\n",
              "            title=\"Convert this dataframe to an interactive table.\"\n",
              "            style=\"display:none;\">\n",
              "\n",
              "  <svg xmlns=\"http://www.w3.org/2000/svg\" height=\"24px\" viewBox=\"0 -960 960 960\">\n",
              "    <path d=\"M120-120v-720h720v720H120Zm60-500h600v-160H180v160Zm220 220h160v-160H400v160Zm0 220h160v-160H400v160ZM180-400h160v-160H180v160Zm440 0h160v-160H620v160ZM180-180h160v-160H180v160Zm440 0h160v-160H620v160Z\"/>\n",
              "  </svg>\n",
              "    </button>\n",
              "\n",
              "  <style>\n",
              "    .colab-df-container {\n",
              "      display:flex;\n",
              "      gap: 12px;\n",
              "    }\n",
              "\n",
              "    .colab-df-convert {\n",
              "      background-color: #E8F0FE;\n",
              "      border: none;\n",
              "      border-radius: 50%;\n",
              "      cursor: pointer;\n",
              "      display: none;\n",
              "      fill: #1967D2;\n",
              "      height: 32px;\n",
              "      padding: 0 0 0 0;\n",
              "      width: 32px;\n",
              "    }\n",
              "\n",
              "    .colab-df-convert:hover {\n",
              "      background-color: #E2EBFA;\n",
              "      box-shadow: 0px 1px 2px rgba(60, 64, 67, 0.3), 0px 1px 3px 1px rgba(60, 64, 67, 0.15);\n",
              "      fill: #174EA6;\n",
              "    }\n",
              "\n",
              "    .colab-df-buttons div {\n",
              "      margin-bottom: 4px;\n",
              "    }\n",
              "\n",
              "    [theme=dark] .colab-df-convert {\n",
              "      background-color: #3B4455;\n",
              "      fill: #D2E3FC;\n",
              "    }\n",
              "\n",
              "    [theme=dark] .colab-df-convert:hover {\n",
              "      background-color: #434B5C;\n",
              "      box-shadow: 0px 1px 3px 1px rgba(0, 0, 0, 0.15);\n",
              "      filter: drop-shadow(0px 1px 2px rgba(0, 0, 0, 0.3));\n",
              "      fill: #FFFFFF;\n",
              "    }\n",
              "  </style>\n",
              "\n",
              "    <script>\n",
              "      const buttonEl =\n",
              "        document.querySelector('#df-30958c00-8173-4f75-9331-80bad51d5671 button.colab-df-convert');\n",
              "      buttonEl.style.display =\n",
              "        google.colab.kernel.accessAllowed ? 'block' : 'none';\n",
              "\n",
              "      async function convertToInteractive(key) {\n",
              "        const element = document.querySelector('#df-30958c00-8173-4f75-9331-80bad51d5671');\n",
              "        const dataTable =\n",
              "          await google.colab.kernel.invokeFunction('convertToInteractive',\n",
              "                                                    [key], {});\n",
              "        if (!dataTable) return;\n",
              "\n",
              "        const docLinkHtml = 'Like what you see? Visit the ' +\n",
              "          '<a target=\"_blank\" href=https://colab.research.google.com/notebooks/data_table.ipynb>data table notebook</a>'\n",
              "          + ' to learn more about interactive tables.';\n",
              "        element.innerHTML = '';\n",
              "        dataTable['output_type'] = 'display_data';\n",
              "        await google.colab.output.renderOutput(dataTable, element);\n",
              "        const docLink = document.createElement('div');\n",
              "        docLink.innerHTML = docLinkHtml;\n",
              "        element.appendChild(docLink);\n",
              "      }\n",
              "    </script>\n",
              "  </div>\n",
              "\n",
              "\n",
              "<div id=\"df-325d2198-a0bc-4a79-9c9f-dc45c725c1e9\">\n",
              "  <button class=\"colab-df-quickchart\" onclick=\"quickchart('df-325d2198-a0bc-4a79-9c9f-dc45c725c1e9')\"\n",
              "            title=\"Suggest charts\"\n",
              "            style=\"display:none;\">\n",
              "\n",
              "<svg xmlns=\"http://www.w3.org/2000/svg\" height=\"24px\"viewBox=\"0 0 24 24\"\n",
              "     width=\"24px\">\n",
              "    <g>\n",
              "        <path d=\"M19 3H5c-1.1 0-2 .9-2 2v14c0 1.1.9 2 2 2h14c1.1 0 2-.9 2-2V5c0-1.1-.9-2-2-2zM9 17H7v-7h2v7zm4 0h-2V7h2v10zm4 0h-2v-4h2v4z\"/>\n",
              "    </g>\n",
              "</svg>\n",
              "  </button>\n",
              "\n",
              "<style>\n",
              "  .colab-df-quickchart {\n",
              "      --bg-color: #E8F0FE;\n",
              "      --fill-color: #1967D2;\n",
              "      --hover-bg-color: #E2EBFA;\n",
              "      --hover-fill-color: #174EA6;\n",
              "      --disabled-fill-color: #AAA;\n",
              "      --disabled-bg-color: #DDD;\n",
              "  }\n",
              "\n",
              "  [theme=dark] .colab-df-quickchart {\n",
              "      --bg-color: #3B4455;\n",
              "      --fill-color: #D2E3FC;\n",
              "      --hover-bg-color: #434B5C;\n",
              "      --hover-fill-color: #FFFFFF;\n",
              "      --disabled-bg-color: #3B4455;\n",
              "      --disabled-fill-color: #666;\n",
              "  }\n",
              "\n",
              "  .colab-df-quickchart {\n",
              "    background-color: var(--bg-color);\n",
              "    border: none;\n",
              "    border-radius: 50%;\n",
              "    cursor: pointer;\n",
              "    display: none;\n",
              "    fill: var(--fill-color);\n",
              "    height: 32px;\n",
              "    padding: 0;\n",
              "    width: 32px;\n",
              "  }\n",
              "\n",
              "  .colab-df-quickchart:hover {\n",
              "    background-color: var(--hover-bg-color);\n",
              "    box-shadow: 0 1px 2px rgba(60, 64, 67, 0.3), 0 1px 3px 1px rgba(60, 64, 67, 0.15);\n",
              "    fill: var(--button-hover-fill-color);\n",
              "  }\n",
              "\n",
              "  .colab-df-quickchart-complete:disabled,\n",
              "  .colab-df-quickchart-complete:disabled:hover {\n",
              "    background-color: var(--disabled-bg-color);\n",
              "    fill: var(--disabled-fill-color);\n",
              "    box-shadow: none;\n",
              "  }\n",
              "\n",
              "  .colab-df-spinner {\n",
              "    border: 2px solid var(--fill-color);\n",
              "    border-color: transparent;\n",
              "    border-bottom-color: var(--fill-color);\n",
              "    animation:\n",
              "      spin 1s steps(1) infinite;\n",
              "  }\n",
              "\n",
              "  @keyframes spin {\n",
              "    0% {\n",
              "      border-color: transparent;\n",
              "      border-bottom-color: var(--fill-color);\n",
              "      border-left-color: var(--fill-color);\n",
              "    }\n",
              "    20% {\n",
              "      border-color: transparent;\n",
              "      border-left-color: var(--fill-color);\n",
              "      border-top-color: var(--fill-color);\n",
              "    }\n",
              "    30% {\n",
              "      border-color: transparent;\n",
              "      border-left-color: var(--fill-color);\n",
              "      border-top-color: var(--fill-color);\n",
              "      border-right-color: var(--fill-color);\n",
              "    }\n",
              "    40% {\n",
              "      border-color: transparent;\n",
              "      border-right-color: var(--fill-color);\n",
              "      border-top-color: var(--fill-color);\n",
              "    }\n",
              "    60% {\n",
              "      border-color: transparent;\n",
              "      border-right-color: var(--fill-color);\n",
              "    }\n",
              "    80% {\n",
              "      border-color: transparent;\n",
              "      border-right-color: var(--fill-color);\n",
              "      border-bottom-color: var(--fill-color);\n",
              "    }\n",
              "    90% {\n",
              "      border-color: transparent;\n",
              "      border-bottom-color: var(--fill-color);\n",
              "    }\n",
              "  }\n",
              "</style>\n",
              "\n",
              "  <script>\n",
              "    async function quickchart(key) {\n",
              "      const quickchartButtonEl =\n",
              "        document.querySelector('#' + key + ' button');\n",
              "      quickchartButtonEl.disabled = true;  // To prevent multiple clicks.\n",
              "      quickchartButtonEl.classList.add('colab-df-spinner');\n",
              "      try {\n",
              "        const charts = await google.colab.kernel.invokeFunction(\n",
              "            'suggestCharts', [key], {});\n",
              "      } catch (error) {\n",
              "        console.error('Error during call to suggestCharts:', error);\n",
              "      }\n",
              "      quickchartButtonEl.classList.remove('colab-df-spinner');\n",
              "      quickchartButtonEl.classList.add('colab-df-quickchart-complete');\n",
              "    }\n",
              "    (() => {\n",
              "      let quickchartButtonEl =\n",
              "        document.querySelector('#df-325d2198-a0bc-4a79-9c9f-dc45c725c1e9 button');\n",
              "      quickchartButtonEl.style.display =\n",
              "        google.colab.kernel.accessAllowed ? 'block' : 'none';\n",
              "    })();\n",
              "  </script>\n",
              "</div>\n",
              "\n",
              "    </div>\n",
              "  </div>\n"
            ],
            "text/plain": [
              "   chapter  question_number  \\\n",
              "0        1                1   \n",
              "1        1                2   \n",
              "2        1                3   \n",
              "3        1                4   \n",
              "4        1                5   \n",
              "\n",
              "                                       question_text  \\\n",
              "0  Do you need these for deep learning?\\\\n\\\\n- Lo...   \n",
              "1  Name five areas where deep learning is now the...   \n",
              "2  What was the name of the first device that was...   \n",
              "3  Based on the book of the same name, what are t...   \n",
              "4  What were the two theoretical misunderstanding...   \n",
              "\n",
              "                                              answer  \\\n",
              "0  Lots of math - False\\\\nLots of data - False\\\\n...   \n",
              "1  Any five of the following:\\\\nNatural Language ...   \n",
              "2        Mark I perceptron built by Frank Rosenblatt   \n",
              "3  A set of processing units\\\\nA state of activat...   \n",
              "4  In 1969, Marvin Minsky and Seymour Papert demo...   \n",
              "\n",
              "                                            keywords  \\\n",
              "0               math, data, expensive computers, PhD   \n",
              "1       deep learning, state of the art, best, world   \n",
              "2                  first, device, artificial, neuron   \n",
              "3  parallel, distributed, processing, requirement...   \n",
              "4  theoretical, misunderstandings, held, back, fi...   \n",
              "\n",
              "                                  large_chunk_result  \n",
              "0  ## Deep Learning Is for Everyone\\n\\nA lot of p...  \n",
              "1  ## Deep Learning Is for Everyone\\n\\nA lot of p...  \n",
              "2  ## Neural Networks: A Brief History\\n\\nRosenbl...  \n",
              "3  ## Neural Networks: A Brief History\\n\\n> : Peo...  \n",
              "4  ## Neural Networks: A Brief History\\n\\n1. A se...  "
            ]
          },
          "execution_count": 171,
          "metadata": {},
          "output_type": "execute_result"
        }
      ],
      "source": [
        "large_df = df.drop(['fts5_result2', 'fts5_result2_1', 'fts5_result2_2', 'fts5_result2_3'], axis=1)\n",
        "large_df['large_chunk_result'] = results\n",
        "large_df.head()"
      ]
    },
    {
      "cell_type": "code",
      "execution_count": 172,
      "metadata": {
        "id": "UEfay9UWalM0"
      },
      "outputs": [],
      "source": [
        "large_df.to_csv('large_chunk_results.csv', index=False)"
      ]
    },
    {
      "cell_type": "markdown",
      "metadata": {
        "id": "-tFRRf7pc79S"
      },
      "source": [
        "Using larger chunks resulted in a retrieved context relevancy of **54%** (18/33). However, these were not the same 18 results as before.\n",
        "\n",
        "For example, here's a question for which using larger chunks retrieved the right context (whereas retrieving three smaller chunks did not):"
      ]
    },
    {
      "cell_type": "code",
      "execution_count": 175,
      "metadata": {
        "colab": {
          "base_uri": "https://localhost:8080/",
          "height": 317
        },
        "id": "i3A2ehCCdVqe",
        "outputId": "14e31574-fd92-4bf5-b5dd-50bb1c09cdc7"
      },
      "outputs": [
        {
          "data": {
            "text/html": [
              "<table border=\"1\" class=\"dataframe\">\n",
              "  <thead>\n",
              "    <tr style=\"text-align: right;\">\n",
              "      <th></th>\n",
              "      <th>10</th>\n",
              "    </tr>\n",
              "  </thead>\n",
              "  <tbody>\n",
              "    <tr>\n",
              "      <th>question_text</th>\n",
              "      <td>What did Samuel mean by \"\"weight assignment\"\"?</td>\n",
              "    </tr>\n",
              "    <tr>\n",
              "      <th>answer</th>\n",
              "      <td>“weight assignment” refers to the current values of the model parameters. Arthur Samuel further mentions an “ automatic means of testing the effectiveness of any current weight assignment ” and a “ mechanism for altering the weight assignment so as to maximize the performance ”. This refers to the evaluation and training of the model in order to obtain a set of parameter values that maximizes model performance.</td>\n",
              "    </tr>\n",
              "    <tr>\n",
              "      <th>large_chunk_result</th>\n",
              "      <td>### What Is Machine Learning?\\n\\n- The idea of a \"weight assignment\" \\n- The fact that every weight assignment has some \"actual performance\"\\n- The requirement that there be an \"automatic means\" of testing that performance,  \\n- The need for a \"mechanism\" (i.e., another automatic process) for improving the performance by changing the weight assignments\\n### What Is Machine Learning?\\n\\nLet us take these concepts one by one, in order to understand how they fit together in practice. First, we need to understand what Samuel means by a *weight assignment*.\\n### What Is Machine Learning?\\n\\nWeights are just variables, and a weight assignment is a particular choice of values for those variables. The program's inputs are values that it processes in order to produce its results—for instance, taking image pixels as inputs, and returning the classification \"dog\" as a result. The program's weight assignments are other values that define how the program will operate.</td>\n",
              "    </tr>\n",
              "  </tbody>\n",
              "</table><br><label><b>dtype:</b> object</label>"
            ],
            "text/plain": [
              "question_text            What did Samuel mean by \"\"weight assignment\"\"?\n",
              "answer                “weight assignment” refers to the current valu...\n",
              "large_chunk_result    ### What Is Machine Learning?\\n\\n- The idea of...\n",
              "Name: 10, dtype: object"
            ]
          },
          "execution_count": 175,
          "metadata": {},
          "output_type": "execute_result"
        }
      ],
      "source": [
        "large_df.iloc[10][['question_text', 'answer', 'large_chunk_result']]"
      ]
    },
    {
      "cell_type": "code",
      "execution_count": 176,
      "metadata": {
        "colab": {
          "base_uri": "https://localhost:8080/",
          "height": 345
        },
        "id": "JTQ6ip78dQay",
        "outputId": "ed56d6d5-00fe-4aa1-aa0a-2134eeab2634"
      },
      "outputs": [
        {
          "data": {
            "text/html": [
              "<table border=\"1\" class=\"dataframe\">\n",
              "  <thead>\n",
              "    <tr style=\"text-align: right;\">\n",
              "      <th></th>\n",
              "      <th>10</th>\n",
              "    </tr>\n",
              "  </thead>\n",
              "  <tbody>\n",
              "    <tr>\n",
              "      <th>question_text</th>\n",
              "      <td>What did Samuel mean by \"\"weight assignment\"\"?</td>\n",
              "    </tr>\n",
              "    <tr>\n",
              "      <th>answer</th>\n",
              "      <td>“weight assignment” refers to the current values of the model parameters. Arthur Samuel further mentions an “ automatic means of testing the effectiveness of any current weight assignment ” and a “ mechanism for altering the weight assignment so as to maximize the performance ”. This refers to the evaluation and training of the model in order to obtain a set of parameter values that maximizes model performance.</td>\n",
              "    </tr>\n",
              "    <tr>\n",
              "      <th>fts5_result2_1</th>\n",
              "      <td>### What Is Machine Learning?\\n\\nLet us take these concepts one by one, in order to understand how they fit together in practice. First, we need to understand what Samuel means by a *weight assignment*.</td>\n",
              "    </tr>\n",
              "    <tr>\n",
              "      <th>fts5_result2_2</th>\n",
              "      <td>### What Is Machine Learning?\\n\\n```python\\n#hide_input\\n#caption A program using weight assignment\\n#id weight_assignment\\ngv('''model[shape=box3d width=1 height=0.7]\\ninputs-&gt;model-&gt;results; weights-&gt;model''')\\n```</td>\n",
              "    </tr>\n",
              "    <tr>\n",
              "      <th>fts5_result2_3</th>\n",
              "      <td>### What Is Machine Learning?\\n\\n- The idea of a \"weight assignment\" \\n- The fact that every weight assignment has some \"actual performance\"\\n- The requirement that there be an \"automatic means\" of testing that performance,  \\n- The need for a \"mechanism\" (i.e., another automatic process) for improving the performance by changing the weight assignments</td>\n",
              "    </tr>\n",
              "  </tbody>\n",
              "</table><br><label><b>dtype:</b> object</label>"
            ],
            "text/plain": [
              "question_text        What did Samuel mean by \"\"weight assignment\"\"?\n",
              "answer            “weight assignment” refers to the current valu...\n",
              "fts5_result2_1    ### What Is Machine Learning?\\n\\nLet us take t...\n",
              "fts5_result2_2    ### What Is Machine Learning?\\n\\n```python\\n#h...\n",
              "fts5_result2_3    ### What Is Machine Learning?\\n\\n- The idea of...\n",
              "Name: 10, dtype: object"
            ]
          },
          "execution_count": 176,
          "metadata": {},
          "output_type": "execute_result"
        }
      ],
      "source": [
        "df.iloc[10][['question_text', 'answer', 'fts5_result2_1', 'fts5_result2_2', 'fts5_result2_3']]"
      ]
    },
    {
      "cell_type": "markdown",
      "metadata": {
        "id": "cLr3Ks2mdpZR"
      },
      "source": [
        "<br>\n",
        "\n",
        "Here's another question where larger chunks resulted in the correct retrieval (whereas 3 smaller chunks did not):"
      ]
    },
    {
      "cell_type": "code",
      "execution_count": 177,
      "metadata": {
        "colab": {
          "base_uri": "https://localhost:8080/",
          "height": 369
        },
        "id": "we-Z9i5BdvDA",
        "outputId": "9749618e-9f3e-4a7a-e956-7f61f01bab97"
      },
      "outputs": [
        {
          "data": {
            "text/html": [
              "<table border=\"1\" class=\"dataframe\">\n",
              "  <thead>\n",
              "    <tr style=\"text-align: right;\">\n",
              "      <th></th>\n",
              "      <th>17</th>\n",
              "    </tr>\n",
              "  </thead>\n",
              "  <tbody>\n",
              "    <tr>\n",
              "      <th>question_text</th>\n",
              "      <td>Do we always have to use 224×224-pixel images with the cat recognition model?</td>\n",
              "    </tr>\n",
              "    <tr>\n",
              "      <th>answer</th>\n",
              "      <td>No we do not. 224x224 is commonly used for historical reasons. You can increase the size and get better performance, but at the price of speed and memory consumption.</td>\n",
              "    </tr>\n",
              "    <tr>\n",
              "      <th>large_chunk_result</th>\n",
              "      <td>### How Our Image Recognizer Works\\n\\nFinally, we define the `Transform`s that we need. A `Transform` contains code that is applied automatically during training; fastai includes many predefined `Transform`s, and adding new ones is as simple as creating a Python function. There are two kinds: `item_tfms` are applied to each item (in this case, each item is resized to a 224-pixel square), while `batch_tfms` are applied to a *batch* of items at a time using the GPU, so they're particularly fast (we'll see many examples of these throughout this book).\\n### How Our Image Recognizer Works\\n\\nWhy 224 pixels? This is the standard size for historical reasons (old pretrained models require this size exactly), but you can pass pretty much anything. If you increase the size, you'll often get a model with better results (since it will be able to focus on more details), but at the price of speed and memory consumption; the opposite is true if you decrease the size.\\n### How Our Image Recognizer Works\\n\\n&gt; Note: Classification and Regression: _classification_ and _regression_ have very specific meanings in machine learning. These are the two main types of model that we will be investigating in this book. A classification model is one which attempts to predict a class, or category. That is, it's predicting from a number of discrete possibilities, such as \"dog\" or \"cat.\" A regression model is one which attempts to predict one or more numeric quantities, such as a temperature or a location. Sometimes people use the word _regression_ to refer to a particular kind of model called a _linear regression model_; this is a bad practice, and we won't be using that terminology in this book!</td>\n",
              "    </tr>\n",
              "  </tbody>\n",
              "</table><br><label><b>dtype:</b> object</label>"
            ],
            "text/plain": [
              "question_text         Do we always have to use 224×224-pixel images ...\n",
              "answer                No we do not. 224x224 is commonly used for his...\n",
              "large_chunk_result    ### How Our Image Recognizer Works\\n\\nFinally,...\n",
              "Name: 17, dtype: object"
            ]
          },
          "execution_count": 177,
          "metadata": {},
          "output_type": "execute_result"
        }
      ],
      "source": [
        "large_df.iloc[17][['question_text', 'answer', 'large_chunk_result']]"
      ]
    },
    {
      "cell_type": "code",
      "execution_count": 179,
      "metadata": {
        "colab": {
          "base_uri": "https://localhost:8080/",
          "height": 362
        },
        "id": "qu6j4iXTdzaq",
        "outputId": "1ed828d7-84df-458d-c07d-0b06535d1232"
      },
      "outputs": [
        {
          "data": {
            "text/html": [
              "<table border=\"1\" class=\"dataframe\">\n",
              "  <thead>\n",
              "    <tr style=\"text-align: right;\">\n",
              "      <th></th>\n",
              "      <th>17</th>\n",
              "    </tr>\n",
              "  </thead>\n",
              "  <tbody>\n",
              "    <tr>\n",
              "      <th>question_text</th>\n",
              "      <td>Do we always have to use 224×224-pixel images with the cat recognition model?</td>\n",
              "    </tr>\n",
              "    <tr>\n",
              "      <th>answer</th>\n",
              "      <td>No we do not. 224x224 is commonly used for historical reasons. You can increase the size and get better performance, but at the price of speed and memory consumption.</td>\n",
              "    </tr>\n",
              "    <tr>\n",
              "      <th>fts5_result2_1</th>\n",
              "      <td>### How Our Image Recognizer Works\\n\\n```python\\ndls = ImageDataLoaders.from_name_func(\\n    path, get_image_files(path), valid_pct=0.2, seed=42,\\n    label_func=is_cat, item_tfms=Resize(224))\\n```</td>\n",
              "    </tr>\n",
              "    <tr>\n",
              "      <th>fts5_result2_2</th>\n",
              "      <td>### Running Your First Notebook\\n\\n```python\\n#id first_training\\n#caption Results from the first training\\n# CLICK ME\\nfrom fastai.vision.all import *\\npath = untar_data(URLs.PETS)/'images'\\n\\ndef is_cat(x): return x[0].isupper()\\ndls = ImageDataLoaders.from_name_func(\\n    path, get_image_files(path), valid_pct=0.2, seed=42,\\n    label_func=is_cat, item_tfms=Resize(224))\\n\\nlearn = vision_learner(dls, resnet34, metrics=error_rate)\\nlearn.fine_tune(1)\\n```</td>\n",
              "    </tr>\n",
              "    <tr>\n",
              "      <th>fts5_result2_3</th>\n",
              "      <td>### How Our Image Recognizer Works\\n\\nFinally, we define the `Transform`s that we need. A `Transform` contains code that is applied automatically during training; fastai includes many predefined `Transform`s, and adding new ones is as simple as creating a Python function. There are two kinds: `item_tfms` are applied to each item (in this case, each item is resized to a 224-pixel square), while `batch_tfms` are applied to a *batch* of items at a time using the GPU, so they're particularly fast (we'll see many examples of these throughout this book).</td>\n",
              "    </tr>\n",
              "  </tbody>\n",
              "</table><br><label><b>dtype:</b> object</label>"
            ],
            "text/plain": [
              "question_text     Do we always have to use 224×224-pixel images ...\n",
              "answer            No we do not. 224x224 is commonly used for his...\n",
              "fts5_result2_1    ### How Our Image Recognizer Works\\n\\n```pytho...\n",
              "fts5_result2_2    ### Running Your First Notebook\\n\\n```python\\n...\n",
              "fts5_result2_3    ### How Our Image Recognizer Works\\n\\nFinally,...\n",
              "Name: 17, dtype: object"
            ]
          },
          "execution_count": 179,
          "metadata": {},
          "output_type": "execute_result"
        }
      ],
      "source": [
        "df.iloc[17][['question_text', 'answer', 'fts5_result2_1', 'fts5_result2_2', 'fts5_result2_3']]"
      ]
    },
    {
      "cell_type": "markdown",
      "metadata": {
        "id": "Fmoc_ki4d_Hb"
      },
      "source": [
        "<br>\n",
        "\n",
        "Even after reviewing each of the question/answer/context triplets for three approaches I'm still not getting a strong sense of intuition of what works best. I'm hoping that after I have done this exercise for eight chapters, I'll have built some of that intuition."
      ]
    },
    {
      "cell_type": "markdown",
      "metadata": {
        "id": "1Q2IszKFeO75"
      },
      "source": [
        "## Including More Large Chunks During Retrieval"
      ]
    },
    {
      "cell_type": "markdown",
      "metadata": {
        "id": "xd9ONE6GeRVP"
      },
      "source": [
        "The final experiment I'll run is retrieving the top 3 BM25 ranked large chunks for each question. Using 3 small chunks and using 1 large chunk both resulted in a retrieved context relevancy of 54%. However they answered a different set of 18 questions. Perhaps if I combine both approaches (use larger chunk size AND use the top 3 BM25-ranked results for evaluation) I'll obtain a higher retrieved context relevancy."
      ]
    },
    {
      "cell_type": "code",
      "execution_count": 180,
      "metadata": {
        "id": "yiys3duCfXw4"
      },
      "outputs": [],
      "source": [
        "#| code-fold: true\n",
        "#| code-summary: \"Show the for-loop code\"\n",
        "\n",
        "results = []\n",
        "\n",
        "for keywords in df['keywords']:\n",
        "  if keywords != 'No answer':\n",
        "    words = ' OR '.join([f'\"{word.strip(\",\")}\"' for word in keywords.split()])\n",
        "    q = f\"\"\"\n",
        "\n",
        "    SELECT *, rank\n",
        "      from fastbook_text_large\n",
        "    WHERE fastbook_text_large MATCH '{words}'\n",
        "    ORDER BY rank\n",
        "    LIMIT 3\n",
        "\n",
        "    \"\"\"\n",
        "\n",
        "    res = cur.execute(q)\n",
        "    results.append(res.fetchall())\n",
        "  else:\n",
        "    # if keywords == \"No Answer\"\n",
        "    res = (\"No answer\")\n",
        "    results.append(res)"
      ]
    },
    {
      "cell_type": "code",
      "execution_count": 182,
      "metadata": {
        "id": "SRzT213JfuKT"
      },
      "outputs": [],
      "source": [
        "top_3_large = large_df[['chapter', 'question_number', 'question_text', 'answer']].copy()\n",
        "\n",
        "top_3_large['result'] = results\n",
        "\n",
        "top_3 = top_3_large['result'].apply(pd.Series)\n",
        "top_3.columns = [f'result_{i+1}' for i in range(top_3.shape[1])]\n",
        "\n",
        "for col in ['result_1', 'result_2', 'result_3']:\n",
        "    top_3[col] = top_3[col].apply(lambda x: x[0] if isinstance(x, tuple) else x)\n",
        "\n",
        "top_3_large = pd.concat([top_3_large, top_3], axis=1)\n",
        "top_3_large.to_csv('top-3-large-retrieval-results.csv', index=False)"
      ]
    },
    {
      "cell_type": "markdown",
      "metadata": {
        "id": "6pV4zDqZjIN8"
      },
      "source": [
        "The combined approach (more, larger chunks retrieved) resulted in a retrieved context relevancy of **72%**!! This is an increase of 18% from the previous two approaches (retrieving 3 small chunks, retrieving 1 large chunk). However, I'm concerned that the large amount of irrelevant text also included may distract the model from answering the question correctly and concisely---something I'll have to rigorously experiment with once I add an LLM to the pipeline."
      ]
    },
    {
      "cell_type": "markdown",
      "metadata": {
        "id": "XxICj8A-jmVX"
      },
      "source": [
        "Here are is an example question for which the combined approach provided relevant context (whereas the previous two methods did not):"
      ]
    },
    {
      "cell_type": "markdown",
      "metadata": {
        "id": "-9gLAHSSky2Z"
      },
      "source": [
        "For the question:\n",
        "\n",
        "> Based on the book of the same name, what are the requirements for parallel distributed processing (PDP)?\n",
        "\n",
        "Using the top 3 highest BM25-ranked small chunks did not provide enough context to answer the question:"
      ]
    },
    {
      "cell_type": "code",
      "execution_count": 191,
      "metadata": {
        "id": "TlPUTN5Qj7lR"
      },
      "outputs": [],
      "source": [
        "top_3_small = pd.read_csv(\"/content/top-3-retrieval-results.csv\")\n",
        "top_1_large = pd.read_csv(\"/content/large_chunk_results.csv\")"
      ]
    },
    {
      "cell_type": "code",
      "execution_count": 195,
      "metadata": {
        "colab": {
          "base_uri": "https://localhost:8080/",
          "height": 262
        },
        "id": "-B3d1PsUj0xa",
        "outputId": "fc60586e-557e-4d97-c8c4-e43e3f6ec685"
      },
      "outputs": [
        {
          "data": {
            "text/html": [
              "<table border=\"1\" class=\"dataframe\">\n",
              "  <thead>\n",
              "    <tr style=\"text-align: right;\">\n",
              "      <th></th>\n",
              "      <th>3</th>\n",
              "    </tr>\n",
              "  </thead>\n",
              "  <tbody>\n",
              "    <tr>\n",
              "      <th>question_text</th>\n",
              "      <td>Based on the book of the same name, what are the requirements for parallel distributed processing (PDP)?</td>\n",
              "    </tr>\n",
              "    <tr>\n",
              "      <th>fts5_result2_1</th>\n",
              "      <td>## Neural Networks: A Brief History\\n\\nIn fact, the approach laid out in PDP is very similar to the approach used in today's neural networks. The book defined parallel distributed processing as requiring:</td>\n",
              "    </tr>\n",
              "    <tr>\n",
              "      <th>fts5_result2_2</th>\n",
              "      <td>## Neural Networks: A Brief History\\n\\nPerhaps the most pivotal work in neural networks in the last 50 years was the multi-volume *Parallel Distributed Processing* (PDP) by David Rumelhart, James McClellan, and the PDP Research Group, released in 1986 by MIT Press. Chapter 1 lays out a similar hope to that shown by Rosenblatt:</td>\n",
              "    </tr>\n",
              "    <tr>\n",
              "      <th>fts5_result2_3</th>\n",
              "      <td>## Neural Networks: A Brief History\\n\\nWe will see in this book that modern neural networks handle each of these requirements.</td>\n",
              "    </tr>\n",
              "  </tbody>\n",
              "</table><br><label><b>dtype:</b> object</label>"
            ],
            "text/plain": [
              "question_text     Based on the book of the same name, what are t...\n",
              "fts5_result2_1    ## Neural Networks: A Brief History\\n\\nIn fact...\n",
              "fts5_result2_2    ## Neural Networks: A Brief History\\n\\nPerhaps...\n",
              "fts5_result2_3    ## Neural Networks: A Brief History\\n\\nWe will...\n",
              "Name: 3, dtype: object"
            ]
          },
          "execution_count": 195,
          "metadata": {},
          "output_type": "execute_result"
        }
      ],
      "source": [
        "# not relevant\n",
        "top_3_small.iloc[3][['question_text', 'fts5_result2_1', 'fts5_result2_2', 'fts5_result2_3']]"
      ]
    },
    {
      "cell_type": "markdown",
      "metadata": {
        "id": "32Skqkznk8QT"
      },
      "source": [
        "<br>\n",
        "\n",
        "Neither did using the top-1 larger chunk:"
      ]
    },
    {
      "cell_type": "code",
      "execution_count": 198,
      "metadata": {
        "colab": {
          "base_uri": "https://localhost:8080/",
          "height": 268
        },
        "id": "9oNHH1XdkX0F",
        "outputId": "f25a7c16-f09f-4f5f-a320-7e4348df576e"
      },
      "outputs": [
        {
          "data": {
            "text/html": [
              "<table border=\"1\" class=\"dataframe\">\n",
              "  <thead>\n",
              "    <tr style=\"text-align: right;\">\n",
              "      <th></th>\n",
              "      <th>3</th>\n",
              "    </tr>\n",
              "  </thead>\n",
              "  <tbody>\n",
              "    <tr>\n",
              "      <th>question_text</th>\n",
              "      <td>Based on the book of the same name, what are the requirements for parallel distributed processing (PDP)?</td>\n",
              "    </tr>\n",
              "    <tr>\n",
              "      <th>large_chunk_result</th>\n",
              "      <td>## Neural Networks: A Brief History\\n\\n&gt; : People are smarter than today's computers because the brain employs a basic computational architecture that is more suited to deal with a central aspect of the natural information processing tasks that people are so good at. ...We will introduce a computational framework for modeling cognitive processes that seems… closer than other frameworks to the style of computation as it might be done by the brain.\\n## Neural Networks: A Brief History\\n\\nThe premise that PDP is using here is that traditional computer programs work very differently to brains, and that might be why computer programs had been (at that point) so bad at doing things that brains find easy (such as recognizing objects in pictures). The authors claimed that the PDP approach was \"closer \\nthan other frameworks\" to how the brain works, and therefore it might be better able to handle these kinds of tasks.\\n## Neural Networks: A Brief History\\n\\nIn fact, the approach laid out in PDP is very similar to the approach used in today's neural networks. The book defined parallel distributed processing as requiring:</td>\n",
              "    </tr>\n",
              "  </tbody>\n",
              "</table><br><label><b>dtype:</b> object</label>"
            ],
            "text/plain": [
              "question_text         Based on the book of the same name, what are t...\n",
              "large_chunk_result    ## Neural Networks: A Brief History\\n\\n> : Peo...\n",
              "Name: 3, dtype: object"
            ]
          },
          "execution_count": 198,
          "metadata": {},
          "output_type": "execute_result"
        }
      ],
      "source": [
        "# not relevant\n",
        "top_1_large.iloc[3][['question_text', 'large_chunk_result']]"
      ]
    },
    {
      "cell_type": "markdown",
      "metadata": {},
      "source": [
        "<br>\n",
        "\n",
        "However, using the top-3 larger chunks included the necessary context across the first and second-highest ranked chunks:"
      ]
    },
    {
      "cell_type": "code",
      "execution_count": 197,
      "metadata": {
        "colab": {
          "base_uri": "https://localhost:8080/",
          "height": 439
        },
        "id": "LQAZ3aoikpTs",
        "outputId": "641fd162-5bb0-41bb-c22e-11274d854462"
      },
      "outputs": [
        {
          "data": {
            "text/html": [
              "<table border=\"1\" class=\"dataframe\">\n",
              "  <thead>\n",
              "    <tr style=\"text-align: right;\">\n",
              "      <th></th>\n",
              "      <th>3</th>\n",
              "    </tr>\n",
              "  </thead>\n",
              "  <tbody>\n",
              "    <tr>\n",
              "      <th>question_text</th>\n",
              "      <td>Based on the book of the same name, what are the requirements for parallel distributed processing (PDP)?</td>\n",
              "    </tr>\n",
              "    <tr>\n",
              "      <th>result_1</th>\n",
              "      <td>## Neural Networks: A Brief History\\n\\n&gt; : People are smarter than today's computers because the brain employs a basic computational architecture that is more suited to deal with a central aspect of the natural information processing tasks that people are so good at. ...We will introduce a computational framework for modeling cognitive processes that seems… closer than other frameworks to the style of computation as it might be done by the brain.\\n## Neural Networks: A Brief History\\n\\nThe premise that PDP is using here is that traditional computer programs work very differently to brains, and that might be why computer programs had been (at that point) so bad at doing things that brains find easy (such as recognizing objects in pictures). The authors claimed that the PDP approach was \"closer \\nthan other frameworks\" to how the brain works, and therefore it might be better able to handle these kinds of tasks.\\n## Neural Networks: A Brief History\\n\\nIn fact, the approach laid out in PDP is very similar to the approach used in today's neural networks. The book defined parallel distributed processing as requiring:</td>\n",
              "    </tr>\n",
              "    <tr>\n",
              "      <th>result_2</th>\n",
              "      <td>## Neural Networks: A Brief History\\n\\nRosenblatt further developed the artificial neuron to give it the ability to learn. Even more importantly, he worked on building the first device that actually used these principles, the Mark I Perceptron. In \"The Design of an Intelligent Automaton\" Rosenblatt wrote about this work: \"We are now about to witness the birth of such a machine–-a machine capable of perceiving, recognizing and identifying its surroundings without any human training or control.\" The perceptron was built, and was able to successfully recognize simple shapes.\\n## Neural Networks: A Brief History\\n\\nAn MIT professor named Marvin Minsky (who was a grade behind Rosenblatt at the same high school!), along with Seymour Papert, wrote a book called _Perceptrons_ (MIT Press), about Rosenblatt's invention. They showed that a single layer of these devices was unable to learn some simple but critical mathematical functions (such as XOR). In the same book, they also showed that using multiple layers of the devices would allow these limitations to be addressed. Unfortunately, only the first of these insights was widely recognized. As a result, the global academic community nearly entirely gave up on neural networks for the next two decades.\\n## Neural Networks: A Brief History\\n\\nPerhaps the most pivotal work in neural networks in the last 50 years was the multi-volume *Parallel Distributed Processing* (PDP) by David Rumelhart, James McClellan, and the PDP Research Group, released in 1986 by MIT Press. Chapter 1 lays out a similar hope to that shown by Rosenblatt:</td>\n",
              "    </tr>\n",
              "  </tbody>\n",
              "</table><br><label><b>dtype:</b> object</label>"
            ],
            "text/plain": [
              "question_text    Based on the book of the same name, what are t...\n",
              "result_1         ## Neural Networks: A Brief History\\n\\n> : Peo...\n",
              "result_2         ## Neural Networks: A Brief History\\n\\nRosenbl...\n",
              "Name: 3, dtype: object"
            ]
          },
          "execution_count": 197,
          "metadata": {},
          "output_type": "execute_result"
        }
      ],
      "source": [
        "top_3_large.iloc[3][['question_text', 'result_1', 'result_2']]"
      ]
    },
    {
      "cell_type": "markdown",
      "metadata": {
        "id": "gqGVz6E4mA7S"
      },
      "source": [
        "<br>\n",
        "\n",
        "Here is a summary of the results of this notebook's experiments:\n",
        "\n",
        "\n",
        "|Top BM25 Ranked Chunks Retrieved|Chunk Size|Retrieved Context Relevancy*|\n",
        "|:-:|:-:|:-:|\n",
        "|top-3|Large|72%|\n",
        "|top-1|Large|54%|\n",
        "|top-3|Small|54%|\n",
        "|top-1|Small|40%|\n",
        "\n",
        "\\*_Retrieved Context Relevancy_:The percentage of questions for which the retrieved context was relevant and sufficient for me to answer the question."
      ]
    },
    {
      "cell_type": "markdown",
      "metadata": {
        "id": "mW3fEpECm5m6"
      },
      "source": [
        "## Final Thoughts"
      ]
    },
    {
      "cell_type": "markdown",
      "metadata": {
        "id": "0wC5gf_cm65q"
      },
      "source": [
        "The experiments in this notebook are promising: using BM25 to retrieve the context necessary to answer Chapter 1 Questionnaire questions works 72% of the time. Of course, I still had to interpret the retrieved chunks to extract the answer, but that's something that can be easily done with an LLM down the road. In my next notebook, I'll use cosine similarity, between the embeddings of the question text and the embeddings of the chunks, and see how that compares to BM25. In the notebook after that, I'll combine both and see how a hybrid approach performs.\n",
        "\n",
        "Something else I will also experiment with is the list of keywords that I came up with, as they are critical to the performance of full text search.\n",
        "\n",
        "Once I've established a baseline that I'm confident in, I'll start introducing an LLM into the pipeline---first to generate keywords from the question for use in full text key search, and then to extract the answer from the retrieved context.\n",
        "\n",
        "I hope you enjoyed this blog post! Follow me on Twitter [@vishal_learner](https://twitter.com/vishal_learner)."
      ]
    }
  ],
  "metadata": {
    "colab": {
      "provenance": []
    },
    "kernelspec": {
      "display_name": "Python 3",
      "name": "python3"
    },
    "language_info": {
      "name": "python"
    }
  },
  "nbformat": 4,
  "nbformat_minor": 0
}

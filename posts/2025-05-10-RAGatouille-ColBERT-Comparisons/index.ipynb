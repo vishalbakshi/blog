{
 "cells": [
  {
   "cell_type": "raw",
   "id": "8d153e8f",
   "metadata": {
    "vscode": {
     "languageId": "raw"
    }
   },
   "source": [
    "---\n",
    "title: Comparing RAGatouille and ColBERT Indexes and Search Results\n",
    "date: \"2025-05-10\"\n",
    "author: Vishal Bakshi\n",
    "description: In this blog post I answer two questions&#58; 1. For a given document collection and indexing configuration, do RAGatouille and ColBERT produce the same index? and 2. For a given index and search configuration, do RAGatouille and ColBERT retrieve the same passages/Recall@10?\n",
    "filters:\n",
    "   - lightbox\n",
    "lightbox: auto\n",
    "categories:\n",
    "    - python\n",
    "    - deep learning\n",
    "    - information retrieval\n",
    "    - RAGatouille\n",
    "    - ColBERT\n",
    "---"
   ]
  },
  {
   "cell_type": "code",
   "execution_count": null,
   "id": "3522db3b-9d42-426d-9f78-36bf770e7c05",
   "metadata": {},
   "outputs": [],
   "source": [
    "#| code-fold: true\n",
    "#| code-summary: \"Show setup\"\n",
    "\n",
    "import faiss\n",
    "hasattr(faiss, \"StandardGpuResources\")\n",
    "\n",
    "from datasets import load_dataset\n",
    "from ragatouille import RAGPretrainedModel\n",
    "import time\n",
    "import pytrec_eval\n",
    "from ranx import evaluate\n",
    "from ranx import Qrels, Run\n",
    "import pickle\n",
    "import json\n",
    "import os\n",
    "import torch\n",
    "import srsly\n",
    "\n",
    "from colbert import Indexer\n",
    "from colbert.infra import RunConfig, ColBERTConfig\n",
    "from colbert.infra.run import Run\n",
    "\n",
    "from colbert.data import Queries\n",
    "from colbert import Searcher"
   ]
  },
  {
   "cell_type": "markdown",
   "id": "39cef03a",
   "metadata": {},
   "source": [
    "## Background"
   ]
  },
  {
   "cell_type": "markdown",
   "id": "804b3395-6e8f-44e5-8419-a0918bd85f72",
   "metadata": {},
   "source": [
    "In this notebook I am trying to answer two questions:\n",
    "\n",
    "1. For a given document collection and indexing configuration, do RAGatouille and ColBERT produce the same index?\n",
    "2. For a given index and search configuration, do RAGatouille and ColBERT retrieve the same passages/Recall@10?\n",
    "\n",
    "For this exercise, I'm using the UKPLab/DAPR's ConditionalQA document collection which is 69k rows. If this exercise is successful, I'll scale to larger document collections.\n",
    "\n",
    "Here's my rough plan:\n",
    "\n",
    "1. Index the ConditionalQA document collection using RAGatouille and ColBERT. Be very thorough in ensuring the same configuration values are used.\n",
    "2. Compare artifacts of the index (json and pt files). Document differences. \n",
    "3. If successful, I would expect both indexes to largely be identical. If not, that's a deeper dive.\n",
    "4. Assuming successful equality of indexes, I'll then perform search on the index using each framework, and compare retrieved passages and Recall@10. Initially, I'll use RAGatouille search on the RAGatouille index, and ColBERT search on the ColBERT index. If that goes well, I might use one framework to search on the other's index. RAGatouille requires some additional files so I'll likely have to create them manually from the ColBERT index artifacts.\n",
    "5. If I get similar Recall@10 and retrieved passages, great! If not, that's a deeper dive."
   ]
  },
  {
   "cell_type": "markdown",
   "id": "a458006b-b062-4740-be39-7e1f93137087",
   "metadata": {},
   "source": [
    "## Load the Data"
   ]
  },
  {
   "cell_type": "code",
   "execution_count": 150,
   "id": "9c609912-0058-4c49-95df-2c08a29021e9",
   "metadata": {},
   "outputs": [
    {
     "data": {
      "text/plain": [
       "'ConditionalQA'"
      ]
     },
     "execution_count": 150,
     "metadata": {},
     "output_type": "execute_result"
    }
   ],
   "source": [
    "dataset_name = \"ConditionalQA\"\n",
    "dataset_name"
   ]
  },
  {
   "cell_type": "code",
   "execution_count": 292,
   "id": "6a10253a-4d87-46d8-a922-6c85ce2ee06f",
   "metadata": {},
   "outputs": [],
   "source": [
    "passages = load_dataset(\"UKPLab/dapr\", f\"{dataset_name}-corpus\", split=\"test\")\n",
    "queries = load_dataset(\"UKPLab/dapr\", f\"{dataset_name}-queries\", split=\"test\")\n",
    "qrels_rows = load_dataset(\"UKPLab/dapr\", f\"{dataset_name}-qrels\", split=\"test\")"
   ]
  },
  {
   "cell_type": "markdown",
   "id": "e6f30f22-3deb-4663-9604-9d6b86bc357d",
   "metadata": {},
   "source": [
    "## Create RAGatouille Index (1k subset)"
   ]
  },
  {
   "cell_type": "code",
   "execution_count": 152,
   "id": "3a2de694-4d3c-47b1-be93-96c87218c729",
   "metadata": {},
   "outputs": [],
   "source": [
    "RAG = RAGPretrainedModel.from_pretrained(\"answerdotai/answerai-colbert-small-v1\")"
   ]
  },
  {
   "cell_type": "code",
   "execution_count": 153,
   "id": "6681a72d-48c1-460c-a654-33bb0ec20001",
   "metadata": {},
   "outputs": [
    {
     "data": {
      "text/plain": [
       "1000"
      ]
     },
     "execution_count": 153,
     "metadata": {},
     "output_type": "execute_result"
    }
   ],
   "source": [
    "n_items = 1000\n",
    "n_items"
   ]
  },
  {
   "cell_type": "markdown",
   "id": "28f3079a-cb83-43ef-80e0-04acef27c738",
   "metadata": {},
   "source": [
    "Notes about `RAG.model.config` before indexing:\n",
    "\n",
    "- The following values are `None`: `ncells`, `centroid_score_threshold`, `ndocs`\n",
    "- `kmeans_niters=4`\n",
    "- `nbits=1`\n",
    "- `index_bsize=64`\n",
    "- `bsize=32`\n",
    "- `dim=96`\n",
    "- `doc_maxlen=300`\n",
    "- `rank=0`\n",
    "- `nranks=4`\n",
    "- `gpus=4`"
   ]
  },
  {
   "cell_type": "code",
   "execution_count": 154,
   "id": "0169e78c-14c4-4861-9777-03e989b6a6cd",
   "metadata": {},
   "outputs": [
    {
     "data": {
      "text/plain": [
       "ColBERTConfig(query_token_id='[unused0]', doc_token_id='[unused1]', query_token='[Q]', doc_token='[D]', ncells=None, centroid_score_threshold=None, ndocs=None, load_index_with_mmap=False, index_path=None, index_bsize=64, nbits=1, kmeans_niters=4, resume=False, pool_factor=1, clustering_mode='hierarchical', protected_tokens=0, similarity='cosine', bsize=32, accumsteps=1, lr=1e-05, maxsteps=15626, save_every=None, warmup=781, warmup_bert=None, relu=False, nway=32, use_ib_negatives=False, reranker=False, distillation_alpha=1.0, ignore_scores=False, model_name='answerdotai/AnswerAI-ColBERTv2.5-small', query_maxlen=32, attend_to_mask_tokens=False, interaction='colbert', dim=96, doc_maxlen=300, mask_punctuation=True, checkpoint='/home/vishal/.cache/huggingface/hub/models--answerdotai--answerai-colbert-small-v1/snapshots/be1703c55532145a844da800eea4c9a692d7e267/', triples='/home/bclavie/colbertv2.5_en/data/msmarco/triplets.jsonl', collection='/home/bclavie/colbertv2.5_en/data/msmarco/collection.tsv', queries='/home/bclavie/colbertv2.5_en/data/msmarco/queries.tsv', index_name=None, overwrite=False, root='.ragatouille/', experiment='colbert', index_root=None, name='2024-08/07/08.16.20', rank=0, nranks=4, amp=True, gpus=4, avoid_fork_if_possible=False)"
      ]
     },
     "execution_count": 154,
     "metadata": {},
     "output_type": "execute_result"
    }
   ],
   "source": [
    "RAG.model.config"
   ]
  },
  {
   "cell_type": "code",
   "execution_count": 155,
   "id": "711dbfb8-0934-4693-a1c2-4aa09a7d2793",
   "metadata": {},
   "outputs": [],
   "source": [
    "#!rm -rf .ragatouille/colbert/indexes/ConditionalQA_RAGatouille_index_1k"
   ]
  },
  {
   "cell_type": "code",
   "execution_count": null,
   "id": "df9ef92a-f309-4fbf-a805-769f980db3c0",
   "metadata": {
    "scrolled": true
   },
   "outputs": [],
   "source": [
    "RAG_index_path = RAG.index(\n",
    "    index_name=f\"{dataset_name}_RAGatouille_index_1k\",\n",
    "    collection=passages[:n_items][\"text\"],\n",
    "    document_ids=passages[:n_items][\"_id\"],\n",
    "    use_faiss=True # to match ColBERT\n",
    ")"
   ]
  },
  {
   "cell_type": "code",
   "execution_count": 157,
   "id": "24a51af0-edd0-4094-9871-e8f54235c55b",
   "metadata": {},
   "outputs": [
    {
     "name": "stdout",
     "output_type": "stream",
     "text": [
      "1.2M\t.ragatouille/colbert/indexes/ConditionalQA_RAGatouille_index_1k\n"
     ]
    }
   ],
   "source": [
    "!du -sh {RAG_index_path}"
   ]
  },
  {
   "cell_type": "code",
   "execution_count": 158,
   "id": "e5100ce6-276e-41d7-8ff8-8c3a2017b09d",
   "metadata": {},
   "outputs": [
    {
     "name": "stdout",
     "output_type": "stream",
     "text": [
      "0.codes.pt\t avg_residual.pt  collection.json  metadata.json\n",
      "0.metadata.json  buckets.pt\t  doclens.0.json   pid_docid_map.json\n",
      "0.residuals.pt\t centroids.pt\t  ivf.pid.pt\t   plan.json\n"
     ]
    }
   ],
   "source": [
    "!ls {RAG_index_path}"
   ]
  },
  {
   "cell_type": "markdown",
   "id": "30b0f1ff-c1a3-4180-b855-46e8a0c67d35",
   "metadata": {},
   "source": [
    "Notes about `metadata.json` _after_ indexing:\n",
    "\n",
    "- The following values are still `None`: `ncells`, `centroid_score_threshold`, `ndocs`\n",
    "- `kmeans_niters=20` (up from 4)\n",
    "- `nbits=4` (up from 1)\n",
    "- `index_bsize=64`\n",
    "- `bsize=64` (up from 32)\n",
    "- `dim=96`\n",
    "- `doc_maxlen=256` (down from 300)\n",
    "- `rank=0`\n",
    "- `nranks=1` (down from 4)\n",
    "- `gpus=1` (down from 4)\n",
    "- `'num_partitions'=1024` (not in original config)"
   ]
  },
  {
   "cell_type": "markdown",
   "id": "2f598d0a-2fda-4257-a1ed-d9bf1f0ae981",
   "metadata": {},
   "source": [
    "Inspecting the RAGatouille metadata:"
   ]
  },
  {
   "cell_type": "code",
   "execution_count": 159,
   "id": "ffd3f36b-a608-4343-842f-7049e0bb09f8",
   "metadata": {
    "scrolled": true
   },
   "outputs": [
    {
     "data": {
      "text/plain": [
       "{'config': {'query_token_id': '[unused0]',\n",
       "  'doc_token_id': '[unused1]',\n",
       "  'query_token': '[Q]',\n",
       "  'doc_token': '[D]',\n",
       "  'ncells': None,\n",
       "  'centroid_score_threshold': None,\n",
       "  'ndocs': None,\n",
       "  'load_index_with_mmap': False,\n",
       "  'index_path': None,\n",
       "  'index_bsize': 32,\n",
       "  'nbits': 4,\n",
       "  'kmeans_niters': 20,\n",
       "  'resume': False,\n",
       "  'pool_factor': 1,\n",
       "  'clustering_mode': 'hierarchical',\n",
       "  'protected_tokens': 0,\n",
       "  'similarity': 'cosine',\n",
       "  'bsize': 64,\n",
       "  'accumsteps': 1,\n",
       "  'lr': 1e-05,\n",
       "  'maxsteps': 15626,\n",
       "  'save_every': None,\n",
       "  'warmup': 781,\n",
       "  'warmup_bert': None,\n",
       "  'relu': False,\n",
       "  'nway': 32,\n",
       "  'use_ib_negatives': False,\n",
       "  'reranker': False,\n",
       "  'distillation_alpha': 1.0,\n",
       "  'ignore_scores': False,\n",
       "  'model_name': 'answerdotai/AnswerAI-ColBERTv2.5-small',\n",
       "  'query_maxlen': 32,\n",
       "  'attend_to_mask_tokens': False,\n",
       "  'interaction': 'colbert',\n",
       "  'dim': 96,\n",
       "  'doc_maxlen': 256,\n",
       "  'mask_punctuation': True,\n",
       "  'checkpoint': 'answerdotai/answerai-colbert-small-v1',\n",
       "  'triples': '/home/bclavie/colbertv2.5_en/data/msmarco/triplets.jsonl',\n",
       "  'collection': ['list with 1000 elements starting with...',\n",
       "   ['Overview',\n",
       "    'You can only make a claim for Child Tax Credit if you already get Working Tax Credit.',\n",
       "    'If you cannot apply for Child Tax Credit, you can apply for Universal Credit instead.']],\n",
       "  'queries': '/home/bclavie/colbertv2.5_en/data/msmarco/queries.tsv',\n",
       "  'index_name': 'ConditionalQA_RAGatouille_index_1k',\n",
       "  'overwrite': False,\n",
       "  'root': '.ragatouille/',\n",
       "  'experiment': 'colbert',\n",
       "  'index_root': None,\n",
       "  'name': '2025-05/09/10.30.23',\n",
       "  'rank': 0,\n",
       "  'nranks': 1,\n",
       "  'amp': True,\n",
       "  'gpus': 1,\n",
       "  'avoid_fork_if_possible': False},\n",
       " 'num_chunks': 1,\n",
       " 'num_partitions': 1024,\n",
       " 'num_embeddings': 15198,\n",
       " 'avg_doclen': 15.198,\n",
       " 'RAGatouille': {'index_config': {'index_type': 'PLAID',\n",
       "   'index_name': 'ConditionalQA_RAGatouille_index_1k'}}}"
      ]
     },
     "execution_count": 159,
     "metadata": {},
     "output_type": "execute_result"
    }
   ],
   "source": [
    "with open(f\"{RAG_index_path}/metadata.json\", 'r') as f:\n",
    "    RAG_metadata = json.load(f)\n",
    "RAG_metadata"
   ]
  },
  {
   "cell_type": "markdown",
   "id": "63363f5c-09ad-4f43-85fd-0e580486de99",
   "metadata": {},
   "source": [
    "| Parameter | Before Indexing | After Indexing | Impact |\n",
    "|-----------|----------------|---------------|--------|\n",
    "| `kmeans_niters` | 4 | 20 | 5× more iterations for clustering |\n",
    "| `nbits` | 1 | 4 | 4× more bits for residual compression |\n",
    "| `bsize` | 32 | 64 | Doubled batch size |\n",
    "| `doc_maxlen` | 300 | 256 | Reduced document length limit |\n",
    "| `nranks` | 4 | 1 | Changed to single-process execution |\n",
    "| `gpus` | 4 | 1 | Changed to single-GPU execution |\n",
    "| `num_partitions` | (not set) | 1024 | New parameter added during indexing |\n"
   ]
  },
  {
   "cell_type": "markdown",
   "id": "1584e563-19ba-4176-9312-bea5e59187ed",
   "metadata": {},
   "source": [
    "The following are search parameters so they are not set/used for indexing: `ncells`, `centroid_score_threshold`, `ndocs`."
   ]
  },
  {
   "cell_type": "markdown",
   "id": "fd968d4b-93e3-472f-bf3b-4eabf425487f",
   "metadata": {},
   "source": [
    "## Create Vanilla ColBERT Index (1k subset)"
   ]
  },
  {
   "cell_type": "markdown",
   "id": "cb7341cd-aab3-4573-b4cb-b0d8b359bb3b",
   "metadata": {},
   "source": [
    "Next, I'll index the same document collection using vanilla ColBERT (which is installed with RAGatouille)."
   ]
  },
  {
   "cell_type": "code",
   "execution_count": 160,
   "id": "296400ca-0c19-4227-8cf3-437fbb331bfb",
   "metadata": {},
   "outputs": [
    {
     "data": {
      "text/plain": [
       "'ConditionalQA'"
      ]
     },
     "execution_count": 160,
     "metadata": {},
     "output_type": "execute_result"
    }
   ],
   "source": [
    "dataset_name"
   ]
  },
  {
   "cell_type": "code",
   "execution_count": 161,
   "id": "d004e602-fdd7-4e3f-9615-7be2c6260c43",
   "metadata": {},
   "outputs": [
    {
     "data": {
      "text/plain": [
       "ColBERTConfig(query_token_id='[unused0]', doc_token_id='[unused1]', query_token='[Q]', doc_token='[D]', ncells=None, centroid_score_threshold=None, ndocs=None, load_index_with_mmap=False, index_path=None, index_bsize=64, nbits=1, kmeans_niters=4, resume=False, pool_factor=1, clustering_mode='hierarchical', protected_tokens=0, similarity='cosine', bsize=32, accumsteps=1, lr=3e-06, maxsteps=500000, save_every=None, warmup=None, warmup_bert=None, relu=False, nway=2, use_ib_negatives=False, reranker=False, distillation_alpha=1.0, ignore_scores=False, model_name=None, query_maxlen=32, attend_to_mask_tokens=False, interaction='colbert', dim=128, doc_maxlen=220, mask_punctuation=True, checkpoint=None, triples=None, collection=None, queries=None, index_name=None, overwrite=False, root='/mnt/my4tb/vishal_data/SuperPassage/experiments', experiment='default', index_root=None, name='2025-05/09/10.30.23', rank=0, nranks=1, amp=True, gpus=1, avoid_fork_if_possible=False)"
      ]
     },
     "execution_count": 161,
     "metadata": {},
     "output_type": "execute_result"
    }
   ],
   "source": [
    "ColBERTConfig()"
   ]
  },
  {
   "cell_type": "markdown",
   "id": "cc13123a-8d61-45dd-b5d5-3ac4024b463d",
   "metadata": {},
   "source": [
    "Key differences from this initial config and RAGatouille's post-indexing metadata:\n",
    "\n",
    "|Parameter|RAGatouille value|ColBERT value|\n",
    "|:-:|:-:|:-:|\n",
    "|`kmeans_iter`|20|4\n",
    "|`nbits`|4|1\n",
    "|`dim`|96|128\n",
    "|`doc_maxlen`|256|220|\n",
    "|`index_bsize`|32|64\n",
    "\n",
    "I will set these explicitly in the ColBERTConfig before indexing."
   ]
  },
  {
   "cell_type": "code",
   "execution_count": 162,
   "id": "5d882d9f-6153-42ea-bb58-834830079f55",
   "metadata": {},
   "outputs": [
    {
     "data": {
      "text/plain": [
       "1000"
      ]
     },
     "execution_count": 162,
     "metadata": {},
     "output_type": "execute_result"
    }
   ],
   "source": [
    "n_items"
   ]
  },
  {
   "cell_type": "markdown",
   "id": "348904c3-f267-4e1c-bbbc-6c38123c2fd2",
   "metadata": {},
   "source": [
    "The following environmental variable needs to be set otherwise the script won't run."
   ]
  },
  {
   "cell_type": "code",
   "execution_count": 189,
   "id": "2e43ce9d-9990-47fd-a56d-8d9a8501fa96",
   "metadata": {},
   "outputs": [],
   "source": [
    "os.environ[\"MKL_SERVICE_FORCE_INTEL\"] = \"1\""
   ]
  },
  {
   "cell_type": "code",
   "execution_count": 165,
   "id": "ec8269b2-1777-4a18-83b7-df9491ac94db",
   "metadata": {},
   "outputs": [],
   "source": [
    "#!rm -rf /mnt/my4tb/vishal_data/SuperPassage/.ragatouille/colbert/indexes/ConditionalQA_ColBERT_index_1k"
   ]
  },
  {
   "cell_type": "code",
   "execution_count": null,
   "id": "feea96b5-ff50-46ea-be80-141b76536c77",
   "metadata": {
    "scrolled": true
   },
   "outputs": [],
   "source": [
    "with Run().context(RunConfig(nranks=1)):\n",
    "    config = ColBERTConfig(\n",
    "        doc_maxlen=256,      \n",
    "        nbits=4,             \n",
    "        dim=96,             \n",
    "        kmeans_niters=20,\n",
    "        index_bsize=32,\n",
    "        bsize=64,\n",
    "        checkpoint=\"answerdotai/answerai-colbert-small-v1\",\n",
    "    )\n",
    "    \n",
    "    indexer = Indexer(checkpoint=\"answerdotai/answerai-colbert-small-v1\", config=config)\n",
    "    indexer.index(name=f\"{dataset_name}_ColBERT_index_1k\", collection=passages[:n_items][\"text\"])"
   ]
  },
  {
   "cell_type": "code",
   "execution_count": 167,
   "id": "077cda6a-2093-4c3a-8083-471eb47eebf3",
   "metadata": {},
   "outputs": [],
   "source": [
    "ColBERT_index_path = \".ragatouille/colbert/indexes/ConditionalQA_ColBERT_index_1k\""
   ]
  },
  {
   "cell_type": "markdown",
   "id": "c4d5f873-10f8-442e-9ba1-b9f6b1dfc0df",
   "metadata": {},
   "source": [
    "The ColBERT index is a tiny bit smaller than RAGatouille, likely because it doesn't store the collection as a JSON file and doesn't store pid to docid map as a JSON file (which RAGatouille does---something we'll encounter later on during search)."
   ]
  },
  {
   "cell_type": "code",
   "execution_count": 168,
   "id": "2316914c-3da7-42a3-9a69-4369aae484df",
   "metadata": {},
   "outputs": [
    {
     "name": "stdout",
     "output_type": "stream",
     "text": [
      "1.1M\t.ragatouille/colbert/indexes/ConditionalQA_ColBERT_index_1k\n"
     ]
    }
   ],
   "source": [
    "!du -sh {ColBERT_index_path}"
   ]
  },
  {
   "cell_type": "code",
   "execution_count": 169,
   "id": "7d95b7ff-1c24-439e-83ce-e281ea34f102",
   "metadata": {},
   "outputs": [
    {
     "name": "stdout",
     "output_type": "stream",
     "text": [
      "0.codes.pt\t 0.residuals.pt   buckets.pt\tdoclens.0.json\tmetadata.json\n",
      "0.metadata.json  avg_residual.pt  centroids.pt\tivf.pid.pt\tplan.json\n"
     ]
    }
   ],
   "source": [
    "!ls {ColBERT_index_path}"
   ]
  },
  {
   "cell_type": "code",
   "execution_count": 170,
   "id": "2bcf5fc6-f471-4c6f-a6b3-36b10ae2e973",
   "metadata": {
    "scrolled": true
   },
   "outputs": [
    {
     "data": {
      "text/plain": [
       "{'config': {'query_token_id': '[unused0]',\n",
       "  'doc_token_id': '[unused1]',\n",
       "  'query_token': '[Q]',\n",
       "  'doc_token': '[D]',\n",
       "  'ncells': None,\n",
       "  'centroid_score_threshold': None,\n",
       "  'ndocs': None,\n",
       "  'load_index_with_mmap': False,\n",
       "  'index_path': None,\n",
       "  'index_bsize': 32,\n",
       "  'nbits': 4,\n",
       "  'kmeans_niters': 20,\n",
       "  'resume': False,\n",
       "  'pool_factor': 1,\n",
       "  'clustering_mode': 'hierarchical',\n",
       "  'protected_tokens': 0,\n",
       "  'similarity': 'cosine',\n",
       "  'bsize': 64,\n",
       "  'accumsteps': 1,\n",
       "  'lr': 1e-05,\n",
       "  'maxsteps': 15626,\n",
       "  'save_every': None,\n",
       "  'warmup': 781,\n",
       "  'warmup_bert': None,\n",
       "  'relu': False,\n",
       "  'nway': 32,\n",
       "  'use_ib_negatives': False,\n",
       "  'reranker': False,\n",
       "  'distillation_alpha': 1.0,\n",
       "  'ignore_scores': False,\n",
       "  'model_name': 'answerdotai/AnswerAI-ColBERTv2.5-small',\n",
       "  'query_maxlen': 32,\n",
       "  'attend_to_mask_tokens': False,\n",
       "  'interaction': 'colbert',\n",
       "  'dim': 96,\n",
       "  'doc_maxlen': 256,\n",
       "  'mask_punctuation': True,\n",
       "  'checkpoint': 'answerdotai/answerai-colbert-small-v1',\n",
       "  'triples': '/home/bclavie/colbertv2.5_en/data/msmarco/triplets.jsonl',\n",
       "  'collection': ['list with 1000 elements starting with...',\n",
       "   ['Overview',\n",
       "    'You can only make a claim for Child Tax Credit if you already get Working Tax Credit.',\n",
       "    'If you cannot apply for Child Tax Credit, you can apply for Universal Credit instead.']],\n",
       "  'queries': '/home/bclavie/colbertv2.5_en/data/msmarco/queries.tsv',\n",
       "  'index_name': 'ConditionalQA_ColBERT_index_1k',\n",
       "  'overwrite': False,\n",
       "  'root': '.ragatouille/',\n",
       "  'experiment': 'colbert',\n",
       "  'index_root': None,\n",
       "  'name': '2025-05/09/10.30.23',\n",
       "  'rank': 0,\n",
       "  'nranks': 1,\n",
       "  'amp': True,\n",
       "  'gpus': 1,\n",
       "  'avoid_fork_if_possible': False},\n",
       " 'num_chunks': 1,\n",
       " 'num_partitions': 1024,\n",
       " 'num_embeddings': 15198,\n",
       " 'avg_doclen': 15.198}"
      ]
     },
     "execution_count": 170,
     "metadata": {},
     "output_type": "execute_result"
    }
   ],
   "source": [
    "with open(f\"{ColBERT_index_path}/metadata.json\", 'r') as f:\n",
    "    ColBERT_metadata = json.load(f)\n",
    "ColBERT_metadata"
   ]
  },
  {
   "cell_type": "markdown",
   "id": "ed77bc32-5cd7-44c9-8e90-fda793d97602",
   "metadata": {},
   "source": [
    "## Comparing 1k subset Index Artifacts"
   ]
  },
  {
   "cell_type": "markdown",
   "id": "ee6e8e57-b964-4867-b717-86e781b8f832",
   "metadata": {},
   "source": [
    "RAGatouille files:\n",
    "\n",
    "- 0.codes.pt\t\n",
    "- 0.residuals.pt\n",
    "- buckets.pt\t \n",
    "- doclens.0.json \n",
    "- metadata.json\n",
    "- 0.metadata.json \n",
    "- avg_residual.pt \n",
    "- centroids.pt\n",
    "- ivf.pid.pt\n",
    "- plan.json\n",
    "- collection.json (unique to RAGatouille)\n",
    "- pid_docid_map.json (unique to RAGatouille)\n",
    "\t \n",
    "ColBERT files:\n",
    "\n",
    "- 0.codes.pt\n",
    "- 0.residuals.pt \n",
    "- buckets.pt\n",
    "- doclens.0.json\n",
    "- metadata.json\n",
    "- 0.metadata.json \n",
    "- avg_residual.pt\n",
    "- centroids.pt\t\n",
    "- ivf.pid.pt\t\n",
    "- plan.json"
   ]
  },
  {
   "cell_type": "markdown",
   "id": "97f85ca2-2197-4ecd-ae85-83fc141f4055",
   "metadata": {},
   "source": [
    "All parameters relevant to indexing are matching in the corresponding metadata.json files:\n",
    "\n",
    "| Parameter | Value | Status |\n",
    "|:----------|:------|:------:|\n",
    "| `index_bsize` | 32 | ✅ Matches |\n",
    "| `nbits` | 4 | ✅ Matches |\n",
    "| `kmeans_niters` | 20 | ✅ Matches |\n",
    "| `dim` | 96 | ✅ Matches |\n",
    "| `doc_maxlen` | 256 | ✅ Matches |\n",
    "| `num_partitions` | 1024 | ✅ Matches |\n",
    "| `num_embeddings` | 15198 | ✅ Matches |\n",
    "| `avg_doclen` | 15.198 | ✅ Matches |\n",
    "| `checkpoint` | 'answerdotai/answerai-colbert-small-v1' | ✅ Matches |"
   ]
  },
  {
   "cell_type": "markdown",
   "id": "d5267cc4-cf53-4d3e-8c4d-08a713ef9467",
   "metadata": {},
   "source": [
    "Walking through each file and comparing contents:"
   ]
  },
  {
   "cell_type": "code",
   "execution_count": 171,
   "id": "5d14b941-de6f-4326-b610-89796907e18a",
   "metadata": {},
   "outputs": [],
   "source": [
    "def _compare_pt(r_path, c_path):\n",
    "    r = torch.load(r_path)\n",
    "    c = torch.load(c_path)\n",
    "    if isinstance(r,tuple):\n",
    "        print(\"0 shape:\", r[0].shape, c[0].shape)\n",
    "        print(r[0])\n",
    "        print(c[0])\n",
    "        print('\\n')\n",
    "        print(\"0 match: \", (r[0] == c[0]).float().mean())\n",
    "        print('\\n')\n",
    "        print('#'*30)\n",
    "        print('\\n')\n",
    "        print(\"1 shape:\", r[1].shape, c[1].shape)\n",
    "        print(r[1])\n",
    "        print(c[1])\n",
    "        print('\\n')\n",
    "        print(\"1 match: \", (r[1] == c[1]).float().mean())\n",
    "    else:\n",
    "        print(r)\n",
    "        print('\\n')\n",
    "        print(c)\n",
    "        print('\\n')\n",
    "        print(r.shape, c.shape)\n",
    "        print('\\n')\n",
    "        print(\"match: \",(r == c).float().mean())"
   ]
  },
  {
   "cell_type": "markdown",
   "id": "4f4e254b-01d2-4093-ace3-028dd910af09",
   "metadata": {
    "jp-MarkdownHeadingCollapsed": true
   },
   "source": [
    "### 0.codes.pt"
   ]
  },
  {
   "cell_type": "code",
   "execution_count": 173,
   "id": "d43ca0a1-a161-4be2-94fb-9de4cedf59fd",
   "metadata": {},
   "outputs": [
    {
     "name": "stdout",
     "output_type": "stream",
     "text": [
      "tensor([345, 288, 647,  ..., 232, 767,  29], dtype=torch.int32)\n",
      "\n",
      "\n",
      "tensor([345, 288, 647,  ..., 232, 767,  29], dtype=torch.int32)\n",
      "\n",
      "\n",
      "torch.Size([15198]) torch.Size([15198])\n",
      "\n",
      "\n",
      "match:  tensor(1.)\n"
     ]
    }
   ],
   "source": [
    "_compare_pt(r_path=f\"{RAG_index_path}/0.codes.pt\", c_path=f\"{ColBERT_index_path}/0.codes.pt\")"
   ]
  },
  {
   "cell_type": "markdown",
   "id": "ab87c61e-d392-4b38-9648-2a5fc6c20550",
   "metadata": {
    "jp-MarkdownHeadingCollapsed": true
   },
   "source": [
    "### 0.residuals.pt"
   ]
  },
  {
   "cell_type": "code",
   "execution_count": 175,
   "id": "296fb874-a6be-4bb1-87ec-fc34cc0a2bc5",
   "metadata": {},
   "outputs": [
    {
     "name": "stdout",
     "output_type": "stream",
     "text": [
      "tensor([[ 30, 225, 225,  ..., 238, 238,  30],\n",
      "        [238, 238, 238,  ..., 238, 238, 238],\n",
      "        [240, 254, 253,  ..., 175, 240, 128],\n",
      "        ...,\n",
      "        [ 99, 105, 231,  ...,  40,  95,  48],\n",
      "        [ 85, 241,  87,  ..., 128,   8, 179],\n",
      "        [ 89, 106, 150,  ..., 162, 238,  22]], dtype=torch.uint8)\n",
      "\n",
      "\n",
      "tensor([[ 30, 225, 225,  ..., 238, 238,  30],\n",
      "        [238, 238, 238,  ..., 238, 238, 238],\n",
      "        [240, 254, 253,  ..., 175, 240, 128],\n",
      "        ...,\n",
      "        [ 99, 105, 231,  ...,  40,  95,  48],\n",
      "        [ 85, 241,  87,  ..., 128,   8, 179],\n",
      "        [ 89, 106, 150,  ..., 162, 238,  22]], dtype=torch.uint8)\n",
      "\n",
      "\n",
      "torch.Size([15198, 48]) torch.Size([15198, 48])\n",
      "\n",
      "\n",
      "match:  tensor(1.)\n"
     ]
    }
   ],
   "source": [
    "_compare_pt(r_path=f\"{RAG_index_path}/0.residuals.pt\", c_path=f\"{ColBERT_index_path}/0.residuals.pt\")"
   ]
  },
  {
   "cell_type": "markdown",
   "id": "1f2bbdd8-cbcb-45a7-871e-8ef5291f4084",
   "metadata": {
    "jp-MarkdownHeadingCollapsed": true
   },
   "source": [
    "### centroids.pt"
   ]
  },
  {
   "cell_type": "code",
   "execution_count": 176,
   "id": "8726c303-0691-4bc2-92b9-7bc391129273",
   "metadata": {},
   "outputs": [
    {
     "name": "stdout",
     "output_type": "stream",
     "text": [
      "tensor([[-0.0701,  0.0035, -0.0785,  ...,  0.1628,  0.0201, -0.0419],\n",
      "        [-0.0350, -0.0082, -0.0715,  ...,  0.1119, -0.0159, -0.1164],\n",
      "        [-0.0753,  0.0172, -0.0513,  ...,  0.1070,  0.1476, -0.0699],\n",
      "        ...,\n",
      "        [-0.1425,  0.1393, -0.2316,  ...,  0.0169,  0.0897, -0.0431],\n",
      "        [-0.0690,  0.0513, -0.0935,  ...,  0.1311,  0.0324, -0.0705],\n",
      "        [-0.0812,  0.0511, -0.0482,  ...,  0.1010,  0.0365, -0.0582]],\n",
      "       device='cuda:0', dtype=torch.float16)\n",
      "\n",
      "\n",
      "tensor([[-0.0701,  0.0035, -0.0785,  ...,  0.1628,  0.0201, -0.0419],\n",
      "        [-0.0350, -0.0082, -0.0715,  ...,  0.1119, -0.0159, -0.1164],\n",
      "        [-0.0753,  0.0172, -0.0513,  ...,  0.1070,  0.1476, -0.0699],\n",
      "        ...,\n",
      "        [-0.1425,  0.1393, -0.2316,  ...,  0.0169,  0.0897, -0.0431],\n",
      "        [-0.0690,  0.0513, -0.0935,  ...,  0.1311,  0.0324, -0.0705],\n",
      "        [-0.0812,  0.0511, -0.0482,  ...,  0.1010,  0.0365, -0.0582]],\n",
      "       device='cuda:0', dtype=torch.float16)\n",
      "\n",
      "\n",
      "torch.Size([1024, 96]) torch.Size([1024, 96])\n",
      "\n",
      "\n",
      "match:  tensor(1., device='cuda:0')\n"
     ]
    }
   ],
   "source": [
    "_compare_pt(r_path=f\"{RAG_index_path}/centroids.pt\", c_path=f\"{ColBERT_index_path}/centroids.pt\")"
   ]
  },
  {
   "cell_type": "markdown",
   "id": "8003834e-0d97-4169-a663-0663ef2cb6b0",
   "metadata": {
    "jp-MarkdownHeadingCollapsed": true
   },
   "source": [
    "### ivf.pid.pt"
   ]
  },
  {
   "cell_type": "code",
   "execution_count": 177,
   "id": "d67ac41f-cbd5-42f1-a6cf-5fdad9c84381",
   "metadata": {},
   "outputs": [
    {
     "name": "stdout",
     "output_type": "stream",
     "text": [
      "0 shape: torch.Size([11696]) torch.Size([11696])\n",
      "tensor([889, 894, 916,  ...,   0,   0,   0], dtype=torch.int32)\n",
      "tensor([889, 894, 916,  ...,   0,   0,   0], dtype=torch.int32)\n",
      "\n",
      "\n",
      "0 match:  tensor(1.)\n",
      "\n",
      "\n",
      "##############################\n",
      "\n",
      "\n",
      "1 shape: torch.Size([1024]) torch.Size([1024])\n",
      "tensor([ 5, 46, 16,  ...,  7, 11,  3])\n",
      "tensor([ 5, 46, 16,  ...,  7, 11,  3])\n",
      "\n",
      "\n",
      "1 match:  tensor(1.)\n"
     ]
    }
   ],
   "source": [
    "_compare_pt(r_path=f\"{RAG_index_path}/ivf.pid.pt\", c_path=f\"{ColBERT_index_path}/ivf.pid.pt\")"
   ]
  },
  {
   "cell_type": "markdown",
   "id": "5930ae30-8c7f-4d5c-b2b9-fa689d456d11",
   "metadata": {
    "jp-MarkdownHeadingCollapsed": true
   },
   "source": [
    "### buckets.pt "
   ]
  },
  {
   "cell_type": "code",
   "execution_count": 178,
   "id": "c324e81e-d261-40c9-87aa-acc68ba64f5d",
   "metadata": {},
   "outputs": [
    {
     "name": "stdout",
     "output_type": "stream",
     "text": [
      "0 shape: torch.Size([15]) torch.Size([15])\n",
      "tensor([-0.0310, -0.0208, -0.0148, -0.0101, -0.0065, -0.0037, -0.0015,  0.0000,\n",
      "         0.0016,  0.0037,  0.0067,  0.0103,  0.0150,  0.0210,  0.0312],\n",
      "       device='cuda:0')\n",
      "tensor([-0.0310, -0.0208, -0.0148, -0.0101, -0.0065, -0.0037, -0.0015,  0.0000,\n",
      "         0.0016,  0.0037,  0.0067,  0.0103,  0.0150,  0.0210,  0.0312],\n",
      "       device='cuda:0')\n",
      "\n",
      "\n",
      "0 match:  tensor(1., device='cuda:0')\n",
      "\n",
      "\n",
      "##############################\n",
      "\n",
      "\n",
      "1 shape: torch.Size([16]) torch.Size([16])\n",
      "tensor([-0.0417, -0.0248, -0.0175, -0.0123, -0.0082, -0.0050, -0.0025, -0.0006,\n",
      "         0.0007,  0.0026,  0.0051,  0.0084,  0.0125,  0.0178,  0.0251,  0.0417],\n",
      "       device='cuda:0', dtype=torch.float16)\n",
      "tensor([-0.0417, -0.0248, -0.0175, -0.0123, -0.0082, -0.0050, -0.0025, -0.0006,\n",
      "         0.0007,  0.0026,  0.0051,  0.0084,  0.0125,  0.0178,  0.0251,  0.0417],\n",
      "       device='cuda:0', dtype=torch.float16)\n",
      "\n",
      "\n",
      "1 match:  tensor(1., device='cuda:0')\n"
     ]
    }
   ],
   "source": [
    "_compare_pt(r_path=f\"{RAG_index_path}/buckets.pt\", c_path=f\"{ColBERT_index_path}/buckets.pt\")"
   ]
  },
  {
   "cell_type": "markdown",
   "id": "85e71ee8-4fa2-4fbe-97e9-a922ee8c4255",
   "metadata": {
    "jp-MarkdownHeadingCollapsed": true
   },
   "source": [
    "### avg_residual.pt"
   ]
  },
  {
   "cell_type": "code",
   "execution_count": 179,
   "id": "cd32d8f9-e2bf-4fa7-8950-9082666ccf65",
   "metadata": {},
   "outputs": [
    {
     "name": "stdout",
     "output_type": "stream",
     "text": [
      "tensor(0.0150, device='cuda:0', dtype=torch.float16)\n",
      "\n",
      "\n",
      "tensor(0.0150, device='cuda:0', dtype=torch.float16)\n",
      "\n",
      "\n",
      "torch.Size([]) torch.Size([])\n",
      "\n",
      "\n",
      "match:  tensor(1., device='cuda:0')\n"
     ]
    }
   ],
   "source": [
    "_compare_pt(r_path=f\"{RAG_index_path}/avg_residual.pt\", c_path=f\"{ColBERT_index_path}/avg_residual.pt\")"
   ]
  },
  {
   "cell_type": "markdown",
   "id": "3c13ecd1-b28d-4244-bef2-e9bfca4dcc17",
   "metadata": {},
   "source": [
    "### doclens.0.json"
   ]
  },
  {
   "cell_type": "code",
   "execution_count": 180,
   "id": "c6eabd97-125b-4502-b30a-42d4b7099fbe",
   "metadata": {},
   "outputs": [
    {
     "data": {
      "text/plain": [
       "[4, 20, 18, 23, 8]"
      ]
     },
     "execution_count": 180,
     "metadata": {},
     "output_type": "execute_result"
    }
   ],
   "source": [
    "with open(f\"{RAG_index_path}/doclens.0.json\", 'r') as f:\n",
    "    RAGatouille_doclens = json.load(f)\n",
    "RAGatouille_doclens[:5]"
   ]
  },
  {
   "cell_type": "code",
   "execution_count": 181,
   "id": "1e491dce-39c9-4a5b-85f3-32ed4c422cbc",
   "metadata": {},
   "outputs": [
    {
     "data": {
      "text/plain": [
       "[4, 20, 18, 23, 8]"
      ]
     },
     "execution_count": 181,
     "metadata": {},
     "output_type": "execute_result"
    }
   ],
   "source": [
    "with open(f\"{ColBERT_index_path}/doclens.0.json\", 'r') as f:\n",
    "    ColBERT_doclens = json.load(f)\n",
    "ColBERT_doclens[:5]"
   ]
  },
  {
   "cell_type": "code",
   "execution_count": 182,
   "id": "26d9b761-9880-4a0d-a47b-125b8c3b70b7",
   "metadata": {},
   "outputs": [
    {
     "data": {
      "text/plain": [
       "True"
      ]
     },
     "execution_count": 182,
     "metadata": {},
     "output_type": "execute_result"
    }
   ],
   "source": [
    "RAGatouille_doclens == ColBERT_doclens"
   ]
  },
  {
   "cell_type": "markdown",
   "id": "91b4d937-10cf-4e2f-8c09-a70ab044cff4",
   "metadata": {},
   "source": [
    "Based on these comparisons, I can conclude that ColBERT and RAGatouille do indeed produce identical index artifacts given the same configuration and document collection!"
   ]
  },
  {
   "cell_type": "markdown",
   "id": "34a66ade-ed15-46bf-9b09-b2357aead6e7",
   "metadata": {},
   "source": [
    "## Indexing Full ConditionalQA + Comparing Artifacts"
   ]
  },
  {
   "cell_type": "markdown",
   "id": "3acfc4e5-d08d-462f-a45c-b92057740825",
   "metadata": {},
   "source": [
    "With a 1k subset confirmed, I'll now index the full ConditionalQA document collection, which contains ~70k rows."
   ]
  },
  {
   "cell_type": "code",
   "execution_count": 183,
   "id": "4dc307f2-934b-48ee-aaf7-6fb84a82519f",
   "metadata": {},
   "outputs": [
    {
     "data": {
      "text/plain": [
       "'ConditionalQA'"
      ]
     },
     "execution_count": 183,
     "metadata": {},
     "output_type": "execute_result"
    }
   ],
   "source": [
    "dataset_name"
   ]
  },
  {
   "cell_type": "code",
   "execution_count": 186,
   "id": "3d60f235-9a3f-416d-b076-2931efe2797d",
   "metadata": {},
   "outputs": [
    {
     "data": {
      "text/plain": [
       "69199"
      ]
     },
     "execution_count": 186,
     "metadata": {},
     "output_type": "execute_result"
    }
   ],
   "source": [
    "len(passages)"
   ]
  },
  {
   "cell_type": "code",
   "execution_count": null,
   "id": "99595696-05bf-43df-a9b4-8e25f97a8c75",
   "metadata": {
    "scrolled": true
   },
   "outputs": [],
   "source": [
    "RAG = RAGPretrainedModel.from_pretrained(\"answerdotai/answerai-colbert-small-v1\")\n",
    "RAG_index_path = RAG.index(\n",
    "    index_name=f\"{dataset_name}_RAGatouille_index_full\",\n",
    "    collection=passages[\"text\"],\n",
    "    document_ids=passages[\"_id\"],\n",
    "    use_faiss=True # to match ColBERT\n",
    ")"
   ]
  },
  {
   "cell_type": "code",
   "execution_count": 187,
   "id": "a57481c3-aca3-4dff-ae93-a4e701bc40d7",
   "metadata": {},
   "outputs": [
    {
     "name": "stdout",
     "output_type": "stream",
     "text": [
      "45M\t.ragatouille/colbert/indexes/ConditionalQA_RAGatouille_index_full\n"
     ]
    }
   ],
   "source": [
    "!du -sh {RAG_index_path}"
   ]
  },
  {
   "cell_type": "code",
   "execution_count": 188,
   "id": "c4d11b3b-616b-4cba-bfab-2bf744265c45",
   "metadata": {},
   "outputs": [
    {
     "name": "stdout",
     "output_type": "stream",
     "text": [
      "0.codes.pt\t 1.residuals.pt   buckets.pt\t   doclens.2.json\n",
      "0.metadata.json  2.codes.pt\t  centroids.pt\t   ivf.pid.pt\n",
      "0.residuals.pt\t 2.metadata.json  collection.json  metadata.json\n",
      "1.codes.pt\t 2.residuals.pt   doclens.0.json   pid_docid_map.json\n",
      "1.metadata.json  avg_residual.pt  doclens.1.json   plan.json\n"
     ]
    }
   ],
   "source": [
    "!ls {RAG_index_path}"
   ]
  },
  {
   "cell_type": "code",
   "execution_count": 196,
   "id": "4f5385d8-c03e-4ad2-8a00-3508ad730564",
   "metadata": {},
   "outputs": [],
   "source": [
    "#!rm -rf .ragatouille/colbert/indexes/ConditionalQA_ColBERT_index_full"
   ]
  },
  {
   "cell_type": "code",
   "execution_count": null,
   "id": "cfbe7e0c-c4b4-4651-a1ea-28aa9fe7e23d",
   "metadata": {
    "scrolled": true
   },
   "outputs": [],
   "source": [
    "os.environ[\"MKL_SERVICE_FORCE_INTEL\"] = \"1\"\n",
    "with Run().context(RunConfig(nranks=1)):\n",
    "    config = ColBERTConfig(\n",
    "        doc_maxlen=256,      \n",
    "        nbits=2,  # to match RAGatouille           \n",
    "        dim=96,             \n",
    "        kmeans_niters=10, # to match RAGatouille\n",
    "        index_bsize=32,\n",
    "        bsize=64,\n",
    "        checkpoint=\"answerdotai/answerai-colbert-small-v1\",\n",
    "    )\n",
    "    \n",
    "    indexer = Indexer(checkpoint=\"answerdotai/answerai-colbert-small-v1\", config=config)\n",
    "    indexer.index(name=f\"{dataset_name}_ColBERT_index_full\", collection=passages[\"text\"])"
   ]
  },
  {
   "cell_type": "code",
   "execution_count": 198,
   "id": "a79f8069-0215-4b0b-a7f4-a27e6ae63416",
   "metadata": {},
   "outputs": [],
   "source": [
    "ColBERT_index_path = \".ragatouille/colbert/indexes/ConditionalQA_ColBERT_index_full\""
   ]
  },
  {
   "cell_type": "code",
   "execution_count": 199,
   "id": "4cc1acdd-2a9d-464f-afea-c457f000142f",
   "metadata": {},
   "outputs": [
    {
     "name": "stdout",
     "output_type": "stream",
     "text": [
      "38M\t.ragatouille/colbert/indexes/ConditionalQA_ColBERT_index_full\n"
     ]
    }
   ],
   "source": [
    "!du -sh {ColBERT_index_path}"
   ]
  },
  {
   "cell_type": "code",
   "execution_count": 200,
   "id": "3a19a735-3308-464c-bdb2-eeccce195c08",
   "metadata": {},
   "outputs": [
    {
     "name": "stdout",
     "output_type": "stream",
     "text": [
      "0.codes.pt\t 1.residuals.pt   buckets.pt\t  ivf.pid.pt\n",
      "0.metadata.json  2.codes.pt\t  centroids.pt\t  metadata.json\n",
      "0.residuals.pt\t 2.metadata.json  doclens.0.json  plan.json\n",
      "1.codes.pt\t 2.residuals.pt   doclens.1.json\n",
      "1.metadata.json  avg_residual.pt  doclens.2.json\n"
     ]
    }
   ],
   "source": [
    "!ls {ColBERT_index_path}"
   ]
  },
  {
   "cell_type": "markdown",
   "id": "b61839ca-82ad-45ef-8f94-420e0663ed6f",
   "metadata": {},
   "source": [
    "### Comparing Metadata"
   ]
  },
  {
   "cell_type": "markdown",
   "id": "89a2d558-602d-468a-b0df-88669255e3ba",
   "metadata": {},
   "source": [
    "All key metadata parameters are equivalent between the RAGatouille and ColBERT indexes."
   ]
  },
  {
   "cell_type": "code",
   "execution_count": 221,
   "id": "fcb215de-50c1-48a6-b8a5-4018a15ea098",
   "metadata": {},
   "outputs": [],
   "source": [
    "params = [\"index_bsize\", \"nbits\", \"kmeans_niters\", \"bsize\", \"dim\", \"rank\", \"gpus\", \"nranks\", \"num_chunks\", \"num_partitions\", \"num_embeddings\", \"avg_doclen\"]"
   ]
  },
  {
   "cell_type": "code",
   "execution_count": 222,
   "id": "837e2100-78f5-4d18-920b-34029fa491c2",
   "metadata": {
    "scrolled": true
   },
   "outputs": [],
   "source": [
    "with open(f\"{RAG_index_path}/metadata.json\", 'r') as f:\n",
    "    RAG_metadata = json.load(f)"
   ]
  },
  {
   "cell_type": "code",
   "execution_count": 223,
   "id": "04f07e6a-f065-4237-8e01-f73be27cca39",
   "metadata": {
    "scrolled": true
   },
   "outputs": [],
   "source": [
    "with open(f\"{ColBERT_index_path}/metadata.json\", 'r') as f:\n",
    "    ColBERT_metadata = json.load(f)"
   ]
  },
  {
   "cell_type": "code",
   "execution_count": 232,
   "id": "c0a7cb0b-891a-453d-ab06-411a7e32c4d0",
   "metadata": {},
   "outputs": [],
   "source": [
    "for p in params: \n",
    "    if p not in [\"num_chunks\", \"num_partitions\", \"num_embeddings\", \"avg_doclen\"]: assert RAG_metadata['config'][p] == ColBERT_metadata['config'][p], p\n",
    "    elif p == \"avg_doclen\": assert (RAG_metadata[p] - ColBERT_metadata[p]) < 1e-7\n",
    "    else: assert RAG_metadata[p] == ColBERT_metadata[p], p"
   ]
  },
  {
   "cell_type": "markdown",
   "id": "b12324d1-6ad1-46f7-a5ed-94f86324162a",
   "metadata": {},
   "source": [
    "### Comparing Index Artifacts"
   ]
  },
  {
   "cell_type": "code",
   "execution_count": 236,
   "id": "731a8a9f-5450-4e9a-a862-0a9465d11318",
   "metadata": {},
   "outputs": [],
   "source": [
    "def _compare_pt(r_path, c_path):\n",
    "    r = torch.load(r_path)\n",
    "    c = torch.load(c_path)\n",
    "    if isinstance(r,tuple):\n",
    "        assert r[0].shape == c[0].shape\n",
    "        assert (r[0] == c[0]).float().mean() == 1\n",
    "        assert (r[1] == c[1]).float().mean() == 1\n",
    "    else:\n",
    "        assert r.shape == c.shape\n",
    "        assert (r == c).float().mean() == 1"
   ]
  },
  {
   "cell_type": "code",
   "execution_count": 237,
   "id": "7646a39f-af14-4621-a219-2c295215a2ef",
   "metadata": {},
   "outputs": [],
   "source": [
    "files = [\n",
    "    \"0.codes.pt\",\n",
    "    \"0.residuals.pt\",\n",
    "    \"centroids.pt\",\n",
    "    \"ivf.pid.pt\",\n",
    "    \"buckets.pt\",\n",
    "    \"avg_residual.pt\",\n",
    "    \"doclens.0.json\"\n",
    "]"
   ]
  },
  {
   "cell_type": "code",
   "execution_count": 241,
   "id": "cf2cd589-f586-4e51-8cba-39bba101858d",
   "metadata": {},
   "outputs": [],
   "source": [
    "for f in files:\n",
    "    if f == \"doclens.0.json\": \n",
    "        with open(f\"{RAG_index_path}/{f}\", 'r') as _f: RAG_doclens = json.load(_f)\n",
    "        with open(f\"{ColBERT_index_path}/{f}\", 'r') as _f: ColBERT_doclens = json.load(_f)\n",
    "        assert RAG_doclens == ColBERT_doclens\n",
    "    else: _compare_pt(f\"{RAG_index_path}/{f}\", f\"{ColBERT_index_path}/{f}\")"
   ]
  },
  {
   "cell_type": "markdown",
   "id": "4a9b5077-41fa-42a7-bba6-b86c9ccddf08",
   "metadata": {},
   "source": [
    "All index artifacts are equivalent! This further confirms the equivalency of the indexes created by RAGatouille and ColBERT."
   ]
  },
  {
   "cell_type": "markdown",
   "id": "f900c913-f6e5-42e9-9a89-76af76f1509c",
   "metadata": {},
   "source": [
    "## Comparing Search Results"
   ]
  },
  {
   "cell_type": "markdown",
   "id": "e4fad094-97dd-4bfb-913f-48f3ac4c1b2a",
   "metadata": {},
   "source": [
    "To reset, I had started this exploration with two questions:\n",
    "\n",
    "1. For a given document collection and indexing configuration, do RAGatouille and ColBERT produce the same index?\n",
    "2. For a given index and search configuration, do RAGatouille and ColBERT retrieve the same passages/Recall@10?\n",
    "\n",
    "\n",
    "The answer to the first question is YES. Let's move on to answering the second question, starting by searching the RAGatouille index with RAGatouille."
   ]
  },
  {
   "cell_type": "markdown",
   "id": "55a8788d-e898-4886-842e-06d3b4da134c",
   "metadata": {},
   "source": [
    "### Searching RAGatouille Index with RAGatouille"
   ]
  },
  {
   "cell_type": "markdown",
   "id": "7ca7be9d-0d33-4e8a-8c82-2c2225470483",
   "metadata": {},
   "source": [
    "I will explicitly set search parameters for RAGatouille, even though they get set based on document collection size in [`PLAIDModelIndex._load_searcher`](https://github.com/AnswerDotAI/RAGatouille/blob/2bd4d2ed01c847854be78704a012f9ab35d679b2/ragatouille/models/index.py#L266):\n",
    "\n",
    "```python\n",
    "if not force_fast:\n",
    "    self.searcher.configure(ndocs=1024)\n",
    "    self.searcher.configure(ncells=16)\n",
    "    if len(self.searcher.collection) < 10000:\n",
    "        self.searcher.configure(ncells=8)\n",
    "        self.searcher.configure(centroid_score_threshold=0.4)\n",
    "    elif len(self.searcher.collection) < 100000:\n",
    "        self.searcher.configure(ncells=4)\n",
    "        self.searcher.configure(centroid_score_threshold=0.45)\n",
    "    # Otherwise, use defaults for k\n",
    "else:\n",
    "    # Use fast settingss\n",
    "    self.searcher.configure(ncells=1)\n",
    "    self.searcher.configure(centroid_score_threshold=0.5)\n",
    "    self.searcher.configure(ndocs=256)\n",
    "```"
   ]
  },
  {
   "cell_type": "code",
   "execution_count": 244,
   "id": "d22e109f-942a-4e54-94f2-dadd431d976b",
   "metadata": {},
   "outputs": [
    {
     "data": {
      "text/plain": [
       "ColBERTConfig(query_token_id='[unused0]', doc_token_id='[unused1]', query_token='[Q]', doc_token='[D]', ncells=4, centroid_score_threshold=0.45, ndocs=1024, load_index_with_mmap=False, index_path=None, index_bsize=32, nbits=2, kmeans_niters=10, resume=False, pool_factor=1, clustering_mode='hierarchical', protected_tokens=0, similarity='cosine', bsize=32, accumsteps=1, lr=1e-05, maxsteps=15626, save_every=None, warmup=781, warmup_bert=None, relu=False, nway=32, use_ib_negatives=False, reranker=False, distillation_alpha=1.0, ignore_scores=False, model_name='answerdotai/AnswerAI-ColBERTv2.5-small', query_maxlen=32, attend_to_mask_tokens=False, interaction='colbert', dim=96, doc_maxlen=256, mask_punctuation=True, checkpoint='/home/vishal/.cache/huggingface/hub/models--answerdotai--answerai-colbert-small-v1/snapshots/be1703c55532145a844da800eea4c9a692d7e267/', triples='/home/bclavie/colbertv2.5_en/data/msmarco/triplets.jsonl', collection='/home/bclavie/colbertv2.5_en/data/msmarco/collection.tsv', queries='/home/bclavie/colbertv2.5_en/data/msmarco/queries.tsv', index_name=None, overwrite=False, root='.ragatouille/colbert/indexes', experiment='colbert', index_root=None, name='2024-08/07/08.16.20', rank=0, nranks=4, amp=True, gpus=4, avoid_fork_if_possible=True)"
      ]
     },
     "execution_count": 244,
     "metadata": {},
     "output_type": "execute_result"
    }
   ],
   "source": [
    "RAG.model.config.ncells = 4\n",
    "RAG.model.config.centroid_score_threshold = 0.45\n",
    "RAG.model.config.ndocs = 1024\n",
    "RAG.model.config"
   ]
  },
  {
   "cell_type": "code",
   "execution_count": 422,
   "id": "bc3ddcbb-d5e5-4d49-b77f-44698d2c5d8d",
   "metadata": {},
   "outputs": [],
   "source": [
    "ragatouille_results = {}"
   ]
  },
  {
   "cell_type": "code",
   "execution_count": 423,
   "id": "df4f1f89-68b6-46e9-857b-b305f83a1eeb",
   "metadata": {
    "scrolled": true
   },
   "outputs": [],
   "source": [
    "for q in queries:\n",
    "    results = RAG.search(q['text'], k=10)\n",
    "    ragatouille_results[q['_id']] = {result['document_id']: float(result['score']) for result in results}"
   ]
  },
  {
   "cell_type": "code",
   "execution_count": 424,
   "id": "1497a78d-aeb9-4945-9383-3c70166317c4",
   "metadata": {},
   "outputs": [
    {
     "data": {
      "text/plain": [
       "{'107-242': 69.9375,\n",
       " '496-116': 69.9375,\n",
       " '86-28': 69.875,\n",
       " '254-4': 69.875,\n",
       " '107-103': 69.875,\n",
       " '8-67': 69.8125,\n",
       " '98-46': 69.8125,\n",
       " '8-80': 69.8125,\n",
       " '8-116': 69.8125,\n",
       " '107-43': 69.8125}"
      ]
     },
     "execution_count": 424,
     "metadata": {},
     "output_type": "execute_result"
    }
   ],
   "source": [
    "ragatouille_results['dev-0']"
   ]
  },
  {
   "cell_type": "markdown",
   "id": "f775a6ff-b277-4f4b-8d16-c3a0e2361afe",
   "metadata": {},
   "source": [
    "The mean Recall@10 for all 271 queries is 0.29."
   ]
  },
  {
   "cell_type": "code",
   "execution_count": 429,
   "id": "8d1c4e70-fe30-4dc3-8781-cb82ecc398a2",
   "metadata": {},
   "outputs": [],
   "source": [
    "qrels = {}\n",
    "for qrel_row in qrels_rows:\n",
    "    qid = qrel_row[\"query_id\"]\n",
    "    pid = qrel_row[\"corpus_id\"]\n",
    "    rel = qrel_row[\"score\"]\n",
    "    qrels.setdefault(qid, {})\n",
    "    qrels[qid][pid] = rel"
   ]
  },
  {
   "cell_type": "code",
   "execution_count": 430,
   "id": "6c4c4442-843d-4d71-90a1-9e61c689a6bc",
   "metadata": {},
   "outputs": [
    {
     "data": {
      "text/plain": [
       "0.2855810510889169"
      ]
     },
     "execution_count": 430,
     "metadata": {},
     "output_type": "execute_result"
    }
   ],
   "source": [
    "evaluator = pytrec_eval.RelevanceEvaluator(qrels, {'recall.10'})\n",
    "metrics = evaluator.evaluate(ragatouille_results)\n",
    "assert len(metrics) == len(set(qrels_rows[\"query_id\"]))\n",
    "\n",
    "mean_recall = sum(metrics[qid]['recall_10'] for qid in metrics.keys()) / len(metrics)\n",
    "mean_recall"
   ]
  },
  {
   "cell_type": "markdown",
   "id": "502081f1-79f9-4c9c-b8cc-d75d2f12a13f",
   "metadata": {},
   "source": [
    "### Searching the ColBERT Index with ColBERT"
   ]
  },
  {
   "cell_type": "markdown",
   "id": "90f576f8-1401-453b-bf59-c78d4b304594",
   "metadata": {},
   "source": [
    "Next, I'll search the ColBERT index with ColBERT, setting the same configuration values as RAGatouille."
   ]
  },
  {
   "cell_type": "code",
   "execution_count": 297,
   "id": "fc99ef77-2343-4799-bdd7-02d3e33cbf4b",
   "metadata": {},
   "outputs": [
    {
     "data": {
      "text/plain": [
       "(4, 0.45, 1024)"
      ]
     },
     "execution_count": 297,
     "metadata": {},
     "output_type": "execute_result"
    }
   ],
   "source": [
    "RAG.model.config.ncells, \\\n",
    "RAG.model.config.centroid_score_threshold, \\\n",
    "RAG.model.config.ndocs"
   ]
  },
  {
   "cell_type": "markdown",
   "id": "9ffaaac1-fa76-4fcd-94b7-d7ecf2561df2",
   "metadata": {},
   "source": [
    "ColBERT expects the queries to be structured as a dictionary, so I'll prepare that accordingly:"
   ]
  },
  {
   "cell_type": "code",
   "execution_count": 425,
   "id": "2542ecd0-31d4-41c2-8e66-b8ea11e70327",
   "metadata": {},
   "outputs": [
    {
     "data": {
      "text/plain": [
       "271"
      ]
     },
     "execution_count": 425,
     "metadata": {},
     "output_type": "execute_result"
    }
   ],
   "source": [
    "queries_dict = {}\n",
    "for item in queries:\n",
    "    queries_dict[item['_id']] = item['text']\n",
    "\n",
    "len(queries_dict)"
   ]
  },
  {
   "cell_type": "markdown",
   "id": "e82802de-2fea-439d-99c0-9f773a955499",
   "metadata": {},
   "source": [
    "I was posting on Twitter about how I wasn't getting the same search results when using RAGatouille and vanilla ColBERT given the same index. [Benjamin Clavie](https://ben.clavie.eu/), the author of RAGatouille, kindly took some time to explain a core difference in how RAGatouille and ColBERT process queries:\n",
    "\n",
    "<blockquote class=\"twitter-tweet\"><p lang=\"en\" dir=\"ltr\">Oh that&#39;ll be because ragatouille has a policy to never truncate queries so it updates the querylen to be *at least* the actual query length (further tests show it should be querylen + 8 at least, to get better augmentation). Your colbert (stanford) config is truncating to 32…</p>&mdash; Ben Clavié (@bclavie) <a href=\"https://twitter.com/bclavie/status/1921056639739678751?ref_src=twsrc%5Etfw\">May 10, 2025</a></blockquote> <script async src=\"https://platform.twitter.com/widgets.js\" charset=\"utf-8\"></script>"
   ]
  },
  {
   "cell_type": "markdown",
   "id": "6a970723-6ae9-477e-b6bc-f4552dd2427a",
   "metadata": {},
   "source": [
    "As was shared in his tweet, [RAGatouille uses a larger maximum query length than ColBERT](https://github.com/AnswerDotAI/RAGatouille/blob/2bd4d2ed01c847854be78704a012f9ab35d679b2/ragatouille/models/index.py#L298). ColBERT uses a default of 32. So to replicate the same scores (and therefore the same top-k retrieved passages) I needed to mimic RAGatouille's query length maximum."
   ]
  },
  {
   "cell_type": "markdown",
   "id": "4552d1fb-6e61-48e6-a0b8-b658d0bbeaa6",
   "metadata": {},
   "source": [
    "Note that ColBERT doesn't store original passage `_id`s like RAGatouille does, so I have to extract it from the original `passages` with `passages[idx]['_id']`."
   ]
  },
  {
   "cell_type": "code",
   "execution_count": null,
   "id": "20797fcf-3979-4b77-ab09-cf0f63a949fc",
   "metadata": {
    "scrolled": true
   },
   "outputs": [],
   "source": [
    "current_dir = os.path.abspath(\".\")\n",
    "index_root = os.path.join(current_dir, \".ragatouille\", \"colbert\", \"indexes\")\n",
    "colbert_results = {}\n",
    "\n",
    "for q in queries:\n",
    "    query_length = int(len(q['text'].split(\" \")) * 1.35) # this lines comes from RAGatouille\n",
    "    with Run().context(RunConfig(nranks=1)):\n",
    "        searcher = Searcher(\n",
    "            index=\"ConditionalQA_ColBERT_index_full\",\n",
    "            index_root=index_root,  \n",
    "            config=ColBERTConfig(\n",
    "                ncells=4,\n",
    "                centroid_score_threshold=0.45,\n",
    "                ndocs=1024,\n",
    "                query_maxlen=query_length\n",
    "            )\n",
    "        )\n",
    "    \n",
    "        ranking = searcher.search(q['text'], k=10)\n",
    "        colbert_results[q['_id']] = {passages[idx]['_id']: score for idx, score in list(zip(ranking[0], ranking[2]))}"
   ]
  },
  {
   "cell_type": "code",
   "execution_count": 427,
   "id": "0c4c0a50-30c7-474d-8f89-c166c8908512",
   "metadata": {},
   "outputs": [
    {
     "data": {
      "text/plain": [
       "0.2855810510889169"
      ]
     },
     "execution_count": 427,
     "metadata": {},
     "output_type": "execute_result"
    }
   ],
   "source": [
    "evaluator = pytrec_eval.RelevanceEvaluator(qrels, {'recall.10'})\n",
    "metrics = evaluator.evaluate(colbert_results)\n",
    "assert len(metrics) == len(set(qrels_rows[\"query_id\"]))\n",
    "\n",
    "mean_recall = sum(metrics[qid]['recall_10'] for qid in metrics.keys()) / len(metrics)\n",
    "mean_recall"
   ]
  },
  {
   "cell_type": "markdown",
   "id": "084b38cf-4711-4ff8-851e-e673b470550e",
   "metadata": {},
   "source": [
    "With the maximum query length adjusted, ColBERT yields the same Recall@10 as RAGatouille! This makes sense because as Benjamin said in another tweet reply:\n",
    "\n",
    "<blockquote class=\"twitter-tweet\"><p lang=\"en\" dir=\"ltr\">It&#39;s most likely down to the default search settings in ragatouille being a bit more aggressive, so you end up with better results. If you change ncells/score_thresh/ndocs to more aggressive values I reckon the colbert library would match it? All ragatouille does under the hood is wrap things with strong defaults/abstractions 😄</p>&mdash; Ben Clavié (@bclavie) <a href=\"https://twitter.com/bclavie/status/1921052397314732447?ref_src=twsrc%5Etfw\">May 10, 2025</a></blockquote> <script async src=\"https://platform.twitter.com/widgets.js\" charset=\"utf-8\"></script>"
   ]
  },
  {
   "cell_type": "markdown",
   "id": "e04d5e0f-0b57-4122-bc5f-2e42a1066888",
   "metadata": {},
   "source": [
    "While the exact same recall is a good check, I'll double check that for each query, the retrieved passage IDs and scores are identical between RAGatouille and ColBERT."
   ]
  },
  {
   "cell_type": "code",
   "execution_count": 428,
   "id": "e3ea66a7-7c8a-4b39-b199-e8a9412484e3",
   "metadata": {},
   "outputs": [],
   "source": [
    "for i in colbert_results.keys():\n",
    "    for pid, score in colbert_results[i].items():\n",
    "        assert ragatouille_results[i][pid] == score"
   ]
  },
  {
   "cell_type": "markdown",
   "id": "d77bd475-69bf-4d76-9f43-0cca9f0785fd",
   "metadata": {},
   "source": [
    "### Searching RAGatouille Index with ColBERT (and vice versa)"
   ]
  },
  {
   "cell_type": "markdown",
   "id": "3344bc99-7076-4caa-bd2e-b4c29696602e",
   "metadata": {},
   "source": [
    "As a final check of consistency, I'll search the RAGatouille index with ColBERT and search the ColBERT index with RAGatouille and confirm that they yield the same retrieved passages and Recall@10."
   ]
  },
  {
   "cell_type": "code",
   "execution_count": null,
   "id": "29b4c47d-7f20-405b-a974-34d4830a74f9",
   "metadata": {
    "scrolled": true
   },
   "outputs": [],
   "source": [
    "current_dir = os.path.abspath(\".\")\n",
    "index_root = os.path.join(current_dir, \".ragatouille\", \"colbert\", \"indexes\")\n",
    "colbert_results2 = {}\n",
    "\n",
    "for q in queries:\n",
    "    query_length = int(len(q['text'].split(\" \")) * 1.35)\n",
    "    with Run().context(RunConfig(nranks=1)):\n",
    "        searcher = Searcher(\n",
    "            index=\"ConditionalQA_RAGatouille_index_full\",\n",
    "            index_root=index_root,  \n",
    "            config=ColBERTConfig(\n",
    "                ncells=4,\n",
    "                centroid_score_threshold=0.45,\n",
    "                ndocs=1024,\n",
    "                query_maxlen=query_length\n",
    "            )\n",
    "        )\n",
    "    \n",
    "        ranking = searcher.search(q['text'], k=10)\n",
    "        colbert_results2[q['_id']] = {passages[idx]['_id']: score for idx, score in list(zip(ranking[0], ranking[2]))}"
   ]
  },
  {
   "cell_type": "markdown",
   "id": "e7535310-fc3d-40b2-a170-e82efc953ece",
   "metadata": {},
   "source": [
    "We get the same results as searching the ColBERT index with ColBERT! This again further proves that these two frameworks produce the same indexes (which is to be expected)."
   ]
  },
  {
   "cell_type": "code",
   "execution_count": 432,
   "id": "6863e54c-d5aa-41c2-82c9-9686a3d4f187",
   "metadata": {},
   "outputs": [],
   "source": [
    "for i in colbert_results.keys():\n",
    "    for pid, score in colbert_results[i].items():\n",
    "        assert colbert_results2[i][pid] == score"
   ]
  },
  {
   "cell_type": "code",
   "execution_count": 433,
   "id": "23ccaf41-c28a-437b-98f0-4154e95770fb",
   "metadata": {},
   "outputs": [
    {
     "data": {
      "text/plain": [
       "0.2855810510889169"
      ]
     },
     "execution_count": 433,
     "metadata": {},
     "output_type": "execute_result"
    }
   ],
   "source": [
    "evaluator = pytrec_eval.RelevanceEvaluator(qrels, {'recall.10'})\n",
    "metrics = evaluator.evaluate(colbert_results2)\n",
    "assert len(metrics) == len(set(qrels_rows[\"query_id\"]))\n",
    "\n",
    "mean_recall = sum(metrics[qid]['recall_10'] for qid in metrics.keys()) / len(metrics)\n",
    "mean_recall"
   ]
  },
  {
   "cell_type": "markdown",
   "id": "368b20b5-a635-4370-ab90-b5f8c9592b78",
   "metadata": {},
   "source": [
    "Finally, as the last piece of this exercise, I'll search the ColBERT index with RAGatouille and see if I get the same result. I certainly expect to!"
   ]
  },
  {
   "cell_type": "markdown",
   "id": "2e64b170-76ed-4b43-9e5e-1aaeb95513b5",
   "metadata": {},
   "source": [
    "### Searching ColBERT Index with RAGatouille"
   ]
  },
  {
   "cell_type": "markdown",
   "id": "76aa407a-dae9-459e-a1dc-6a7a1b4ef225",
   "metadata": {},
   "source": [
    "RAGatouille creates two files (collection.json and pid_docid_map.json) which ColBERT does not, so we have to create them manually for RAGatouille to search the ColBERT Index."
   ]
  },
  {
   "cell_type": "markdown",
   "id": "11505606-c9c4-4675-a7d3-73dced6b3a66",
   "metadata": {},
   "source": [
    "collection.json is just a list of the document collection text."
   ]
  },
  {
   "cell_type": "code",
   "execution_count": 434,
   "id": "e9fc9172-88ba-4aaf-95dc-88a6929f7d41",
   "metadata": {},
   "outputs": [],
   "source": [
    "with open(f\"{RAG_index_path}/collection.json\", 'r') as f:\n",
    "    RAG_collection = json.load(f)"
   ]
  },
  {
   "cell_type": "code",
   "execution_count": 435,
   "id": "61b48a62-9c52-40db-bb39-2e058d4c953f",
   "metadata": {},
   "outputs": [
    {
     "data": {
      "text/plain": [
       "69199"
      ]
     },
     "execution_count": 435,
     "metadata": {},
     "output_type": "execute_result"
    }
   ],
   "source": [
    "len(RAG_collection)"
   ]
  },
  {
   "cell_type": "code",
   "execution_count": 436,
   "id": "90c05267-ea50-4264-8c08-12d904edfd97",
   "metadata": {},
   "outputs": [
    {
     "data": {
      "text/plain": [
       "['Overview',\n",
       " 'You can only make a claim for Child Tax Credit if you already get Working Tax Credit.',\n",
       " 'If you cannot apply for Child Tax Credit, you can apply for Universal Credit instead.',\n",
       " 'You might be able to apply for Pension Credit if you and your partner are State Pension age or over.',\n",
       " 'What you’ll get']"
      ]
     },
     "execution_count": 436,
     "metadata": {},
     "output_type": "execute_result"
    }
   ],
   "source": [
    "RAG_collection[:5]"
   ]
  },
  {
   "cell_type": "markdown",
   "id": "52d2f0ef-aad9-47c0-804e-5a7e4659dab6",
   "metadata": {},
   "source": [
    "pid_docid_map.json is a dictionary where the keys are the index in the collection and the values are the dataset's defined `_id` string."
   ]
  },
  {
   "cell_type": "code",
   "execution_count": 437,
   "id": "8ff4615a-29c5-41c6-b32f-7263666c8b10",
   "metadata": {},
   "outputs": [],
   "source": [
    "with open(f\"{RAG_index_path}/pid_docid_map.json\", 'r') as f:\n",
    "    RAG_pid_docid_map = json.load(f)"
   ]
  },
  {
   "cell_type": "code",
   "execution_count": 438,
   "id": "1d4c11a1-281f-45b5-803d-ef270f410cb9",
   "metadata": {},
   "outputs": [
    {
     "data": {
      "text/plain": [
       "(('0', '0-0'), ('69198', '651-91'))"
      ]
     },
     "execution_count": 438,
     "metadata": {},
     "output_type": "execute_result"
    }
   ],
   "source": [
    "list(RAG_pid_docid_map.items())[0], list(RAG_pid_docid_map.items())[-1]"
   ]
  },
  {
   "cell_type": "code",
   "execution_count": 439,
   "id": "1b2b52c8-f593-4f20-be7e-0c43c4e49407",
   "metadata": {},
   "outputs": [
    {
     "data": {
      "text/plain": [
       "{'_id': '651-91',\n",
       " 'text': 'Trade union reps can be on picket lines at different workplaces if they’re responsible for organising workers in those workplaces.',\n",
       " 'title': 'Taking part in industrial action and strikes',\n",
       " 'doc_id': '651',\n",
       " 'paragraph_no': 91,\n",
       " 'total_paragraphs': 92,\n",
       " 'is_candidate': True}"
      ]
     },
     "execution_count": 439,
     "metadata": {},
     "output_type": "execute_result"
    }
   ],
   "source": [
    "passages[-1]"
   ]
  },
  {
   "cell_type": "markdown",
   "id": "3720868d-69f5-412d-8de1-ea5f81202646",
   "metadata": {},
   "source": [
    "Saving the collection as a JSON is simple enough, I just dump `passages['text']` into a JSON file."
   ]
  },
  {
   "cell_type": "code",
   "execution_count": 289,
   "id": "c9d2fd17-5017-49a3-9970-4fc87ae3f583",
   "metadata": {},
   "outputs": [],
   "source": [
    "srsly.write_json(f\"{ColBERT_index_path}/collection.json\", passages['text'])"
   ]
  },
  {
   "cell_type": "markdown",
   "id": "bb2684d3-ff74-4644-8e99-fc50553b6a23",
   "metadata": {},
   "source": [
    "Creating pid_docid_map.json is also quite straightforward. I map from the index of the passage item to its `_id`."
   ]
  },
  {
   "cell_type": "code",
   "execution_count": 440,
   "id": "0a9d228b-4dbd-4484-a7ea-4396afcc9f40",
   "metadata": {},
   "outputs": [],
   "source": [
    "pid_docid_map = {str(i): p['_id'] for i,p in enumerate(passages)}"
   ]
  },
  {
   "cell_type": "code",
   "execution_count": 441,
   "id": "175333e7-23ff-48f7-917e-9a31fba3e120",
   "metadata": {},
   "outputs": [
    {
     "data": {
      "text/plain": [
       "(('0', '0-0'), ('69198', '651-91'))"
      ]
     },
     "execution_count": 441,
     "metadata": {},
     "output_type": "execute_result"
    }
   ],
   "source": [
    "list(pid_docid_map.items())[0], list(pid_docid_map.items())[-1]"
   ]
  },
  {
   "cell_type": "code",
   "execution_count": 287,
   "id": "5622a5ba-554b-4229-b8c2-e1e9c46aca22",
   "metadata": {},
   "outputs": [],
   "source": [
    "srsly.write_json(f\"{ColBERT_index_path}/pid_docid_map.json\", pid_docid_map)"
   ]
  },
  {
   "cell_type": "markdown",
   "id": "af46be9b-3259-4d19-b41f-4817ecfbb614",
   "metadata": {},
   "source": [
    "Let's make sure these match the RAGatouille-built artifacts:"
   ]
  },
  {
   "cell_type": "code",
   "execution_count": 442,
   "id": "e55e05e7-e3ae-44a8-b2e4-b9d71008064d",
   "metadata": {},
   "outputs": [],
   "source": [
    "for i, _id in RAG_pid_docid_map.items(): assert _id == pid_docid_map[i]\n",
    "for i, _id in pid_docid_map.items(): assert _id == RAG_pid_docid_map[i]"
   ]
  },
  {
   "cell_type": "markdown",
   "id": "5ad3d5e9-ca36-4c99-b294-34a69481b11a",
   "metadata": {},
   "source": [
    "With those two files created, I can now create a `RAGPretrainedModel` object `from_index` using the ColBERT index."
   ]
  },
  {
   "cell_type": "code",
   "execution_count": 443,
   "id": "058cbd58-2dfb-4e6b-b002-f4160596dcd0",
   "metadata": {},
   "outputs": [
    {
     "name": "stdout",
     "output_type": "stream",
     "text": [
      "Constructing default index configuration for index `None` as it does not contain RAGatouille specific metadata.\n"
     ]
    }
   ],
   "source": [
    "RAG2 = RAGPretrainedModel.from_index(ColBERT_index_path)"
   ]
  },
  {
   "cell_type": "code",
   "execution_count": null,
   "id": "e575a2b9-9cf8-4573-bbd8-221b71ffd29d",
   "metadata": {
    "scrolled": true
   },
   "outputs": [],
   "source": [
    "RAG2.model.config.ncells = 4\n",
    "RAG2.model.config.centroid_score_threshold = 0.45\n",
    "RAG2.model.config.ndocs = 1024\n",
    "\n",
    "ragatouille_results2 = {}\n",
    "\n",
    "\n",
    "for q in queries:\n",
    "    results = RAG2.search(q['text'], k=10)\n",
    "    ragatouille_results2[q['_id']] = {result['document_id']: float(result['score']) for result in results}"
   ]
  },
  {
   "cell_type": "markdown",
   "id": "64492af8-51b8-4491-9b51-f66f33dd5173",
   "metadata": {},
   "source": [
    "We get the same results as searching the RAGatouille index with RAGatouille, searching the ColBERT index with ColBERT and searching the RAGatouille index with ColBERT!"
   ]
  },
  {
   "cell_type": "code",
   "execution_count": 445,
   "id": "72f2902c-47ff-477f-a12b-08c3aff19422",
   "metadata": {},
   "outputs": [],
   "source": [
    "for i in colbert_results.keys():\n",
    "    for pid, score in colbert_results[i].items():\n",
    "        assert ragatouille_results2[i][pid] == score"
   ]
  },
  {
   "cell_type": "code",
   "execution_count": 446,
   "id": "2cafc7e9-57d7-4158-9808-8405871d0225",
   "metadata": {},
   "outputs": [
    {
     "data": {
      "text/plain": [
       "0.2855810510889169"
      ]
     },
     "execution_count": 446,
     "metadata": {},
     "output_type": "execute_result"
    }
   ],
   "source": [
    "evaluator = pytrec_eval.RelevanceEvaluator(qrels, {'recall.10'})\n",
    "metrics = evaluator.evaluate(ragatouille_results2)\n",
    "assert len(metrics) == len(set(qrels_rows[\"query_id\"]))\n",
    "\n",
    "mean_recall = sum(metrics[qid]['recall_10'] for qid in metrics.keys()) / len(metrics)\n",
    "mean_recall"
   ]
  },
  {
   "cell_type": "markdown",
   "id": "1205253e",
   "metadata": {},
   "source": [
    "## Closing Thoughts"
   ]
  },
  {
   "cell_type": "markdown",
   "id": "7812f762",
   "metadata": {},
   "source": [
    "Every interaction I've had with RAGatouille and ColBERT has been an awesome learning experience. I feel like inspecting their behavior and artifacts as left me with a better understanding of information retrieval in general. One small learning that I left out: ColBERT uses FAISS for k-means clustering while for small document collections (such as my initial 1k subset) RAGatouille uses a PyTorch implementation. This difference, even though all relevant configuration parameters were equal, resulted in different index artifacts. There was only about a 15% overlap between the `centroids.pt` tensors of the resulting RAGatouille and ColBERT indexes.\n",
    "\n",
    "Another piece of motivation for me is that I needed to use both RAGatouille and ColBERT for indexing the full set of UKPLab/DAPR document collections, as ColBERT was able to index the larger collections (6M+) without crashing the kernel, while RAGatouille was not. In some initial experiments I was getting different mean Recall@10 values when using RAGatouille versus when using ColBERT (because I hadn't incorporated the max query length code and probably had different configs). So I felt like this was a good opportunity, once and for all, to answer the two questions I listed at the start of this notebook:\n",
    "\n",
    "1. For a given document collection and indexing configuration, do RAGatouille and ColBERT produce the same index?\n",
    "2. For a given index and search configuration, do RAGatouille and ColBERT retrieve the same passages/Recall@10?\n",
    "\n",
    "The answer for both, is a resounding yes! With this knowledge in my belt, I can now move forward with indexing and searching with either library as I please."
   ]
  }
 ],
 "metadata": {
  "kernelspec": {
   "display_name": "Python 3 (ipykernel)",
   "language": "python",
   "name": "python3"
  },
  "language_info": {
   "codemirror_mode": {
    "name": "ipython",
    "version": 3
   },
   "file_extension": ".py",
   "mimetype": "text/x-python",
   "name": "python",
   "nbconvert_exporter": "python",
   "pygments_lexer": "ipython3",
   "version": "3.11.11"
  }
 },
 "nbformat": 4,
 "nbformat_minor": 5
}

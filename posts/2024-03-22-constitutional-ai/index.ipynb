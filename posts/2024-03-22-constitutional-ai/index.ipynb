{
 "cells": [
  {
   "cell_type": "raw",
   "metadata": {
    "vscode": {
     "languageId": "raw"
    }
   },
   "source": [
    "---\n",
    "title: 'Paper Summary&#58; Constitutional AI'\n",
    "date: \"2024-03-22\"\n",
    "author: Vishal Bakshi\n",
    "description: A summary of research on Constitutional AI by Anthropic, in which they train a non-evasive harmless AI assistant using human-generated helpfulness preference data and AI-generated harmlessness preference data.\n",
    "filters:\n",
    "   - lightbox\n",
    "lightbox: auto\n",
    "categories:\n",
    "    - paper summary\n",
    "    - deep learning\n",
    "    - LLM\n",
    "---"
   ]
  },
  {
   "cell_type": "markdown",
   "metadata": {},
   "source": [
    "## Background"
   ]
  },
  {
   "cell_type": "markdown",
   "metadata": {},
   "source": [
    "In this notebook, I'll summarize the paper [Constitutional AI: Harmlessness from AI Feedback](https://arxiv.org/abs/2212.08073) by Bai et al (Anthropic). Here's the abstract:\n",
    "\n",
    "> As AI systems become more capable, we would like to enlist their help to supervise other AIs. We experiment with methods for training a harmless AI assistant through self-improvement, without any human labels identifying harmful outputs. The only human oversight is provided through a list of rules or principles, and so we refer to the method as 'Constitutional AI'. The process involves both a supervised learning and a reinforcement learning phase. In the supervised phase we sample from an initial model, then generate self-critiques and revisions, and then finetune the original model on revised responses. In the RL phase, we sample from the finetuned model, use a model to evaluate which of the two samples is better, and then train a preference model from this dataset of AI preferences. We then train with RL using the preference model as the reward signal, i.e. we use 'RL from AI Feedback' (RLAIF). As a result we are able to train a harmless but non-evasive AI assistant that engages with harmful queries by explaining its objections to them. Both the SL and RL methods can leverage chain-of-thought style reasoning to improve the human-judged performance and transparency of AI decision making. These methods make it possible to control AI behavior more precisely and with far fewer human labels. "
   ]
  },
  {
   "cell_type": "markdown",
   "metadata": {},
   "source": [
    "## Main Takeaways"
   ]
  },
  {
   "cell_type": "markdown",
   "metadata": {},
   "source": [
    "Here were my main takeaways from this paper:\n",
    "\n",
    "- You can train a harmless AI assistant through self-improvement (following a \"constitution\" of \"principles\") using human feedback labels for helpfulness and AI feedback labels for harmlessness.\n",
    "- Constitutional AI consists of two main phases: a Supervised Stage (finetune on self-critique and revision responses) and a Reinforcement Learning (RL) phase (sample from the SFT model, use another \"feedback model\" to evaluate responses to train Preference Model as reward signal).\n",
    "- Chain-of-Thought (CoT) is used to improve model performance and transparency.\n",
    "- The result is a harmless and non-evasive AI assistant, preferred by crowdworkers over models trained with human feedback labels for harmfulness."
   ]
  },
  {
   "cell_type": "markdown",
   "metadata": {},
   "source": [
    "## Overarching Goals"
   ]
  },
  {
   "cell_type": "markdown",
   "metadata": {},
   "source": [
    "The authors outlined the following goals for this work:\n",
    "\n",
    "- We want helpful, honest and harmless AI systems.\n",
    "- Automatically test and enhance robustness to harmful behavior.\n",
    "- Encode desirable AI behavior in a simple and transparent form.\n",
    "\n",
    "> When developing and deploying a general AI system, we cannot avoid choosing some set of principles to govern it, even if they remain hidden or implicit."
   ]
  },
  {
   "cell_type": "markdown",
   "metadata": {},
   "source": [
    "## Motivations"
   ]
  },
  {
   "cell_type": "markdown",
   "metadata": {},
   "source": [
    "### Scaling Supervision"
   ]
  },
  {
   "cell_type": "markdown",
   "metadata": {},
   "source": [
    "- Train AI systems to behave in helpful, honest and harmless ways (HHH) with a smaller quantity of higher quality human supervision (what ended up being an order of 10 constitutional principles)\n",
    "- Use AI systems to supervise other AI systems because:\n",
    "    - They are more efficient in collecting/giving feedback.\n",
    "    - They can perform better than humans in some tasks.\n",
    "\n",
    "> Since such a small number of bits of information are involved in these principles, it's worth studying these bits carefully.\n",
    "\n",
    "There is a tension between model helpfulness and harmlessness. Their RLHF model refused to answer controversial questions or got stuck in evasive responses. Evasiveness was rewarded by their crowdworkers. Models should always engage and explain (examples of which we'll see later on)."
   ]
  },
  {
   "cell_type": "markdown",
   "metadata": {},
   "source": [
    "### Simplicity and Transparency"
   ]
  },
  {
   "cell_type": "markdown",
   "metadata": {},
   "source": [
    "- RLHS uses tens of thousands of human feedback labels which can't be summarized effectively.\n",
    "- How to reduce iteration time?\n",
    "    - Replace human feedback for harmlessness with AI feedback.\n",
    "    - Encode harmlessness training goals in natural language.\n",
    "- How to improve transparency?\n",
    "    - CoT makes AI decision-making explicit.\n",
    "    - Train AI assistants to explain why they are declining to engage with harmful requests (i.e. always engage and explain)."
   ]
  },
  {
   "cell_type": "markdown",
   "metadata": {},
   "source": [
    "### AI Feedback"
   ]
  },
  {
   "cell_type": "markdown",
   "metadata": {},
   "source": [
    "In 2021, Anthropic did research showing that models could achieve 90% accuracy in predicting the more helpful, honest and harmless of two responses in a conversation between human and AI (across 221 binary comparisons)."
   ]
  },
  {
   "cell_type": "markdown",
   "metadata": {},
   "source": [
    "<img src=\"2.png\" style=\"width: 75%;\">"
   ]
  },
  {
   "cell_type": "markdown",
   "metadata": {},
   "source": [
    "In the figures above, pretrained off-the-shelf language models above 50B parameters perform close to RLHF trained models in classifying harmful behavior."
   ]
  },
  {
   "cell_type": "markdown",
   "metadata": {},
   "source": [
    "They took this a step futher in this paper, by adding 217 more challenging comparisons (subtle tests of harmlessness with evasiveness disfavored) to the existing 221. They then evaluated a preference model trained on several 100k of human preference labels and an off-the-shelf pretrained LM on the 438 comparisons and found that the pretrained LM, at  ~50B parameters, especially with CoT prompting, was close to the performance of the preference model (figure below)."
   ]
  },
  {
   "cell_type": "markdown",
   "metadata": {},
   "source": [
    "<img src=\"3.png\" style=\"width: 50%;\">"
   ]
  },
  {
   "cell_type": "markdown",
   "metadata": {},
   "source": [
    "## The Constitutional AI Approach"
   ]
  },
  {
   "cell_type": "markdown",
   "metadata": {},
   "source": [
    "The Constitutional AI approach consists of two stages:\n",
    "\n",
    "- Supervised Stage (Critique -> Revision -> SL-CAI)\n",
    "- RL Stage (AI Comparison Evaluations -> Preference Model -> RL-CAI)"
   ]
  },
  {
   "cell_type": "markdown",
   "metadata": {},
   "source": [
    "### Supervised Stage - Overview"
   ]
  },
  {
   "cell_type": "markdown",
   "metadata": {},
   "source": [
    "1. Generate (typically harmful and toxic) responses to harmfulness using a **helpful-only RLHF model**.\n",
    "2. Ask the model to critique its response according to a randomly drawn constitution principle.\n",
    "3. Ask the model to revise the original response in light of the critique.\n",
    "4. Finetune a _different_ **pretrained LM** with supervised learning on the final revised responses.\n",
    "    - Easily and flexibly alter the distribution of the model's responses to reduce the need for exploration and the total length of training during the RL phase.\n",
    "\n",
    "The model at the end of this Supervised Stage is titled SL-CAI (Supervised Learning from Constituation AI)."
   ]
  },
  {
   "cell_type": "markdown",
   "metadata": {},
   "source": [
    "<img src=\"4.png\" style=\"width: 75%;\">"
   ]
  },
  {
   "cell_type": "markdown",
   "metadata": {},
   "source": [
    "### RL Stage - Overview"
   ]
  },
  {
   "cell_type": "markdown",
   "metadata": {},
   "source": [
    "1. Use SL-CAI to generate a pair of responses to each harmful prompt.\n",
    "2. Ask the **feedback model** which response is best according to a constitutional principle.\n",
    "3. Produce an AI-generated preference dataset for harmlessness, and mix it with human-generated helpfulness dataset.\n",
    "4. Train a **preference model** on this comparison data which will assign a score to any given sample.\n",
    "5. Finetune **SL-CAI** via RL against this PM, resulting in a policy (**RL-CAI**) trained by RLAIF."
   ]
  },
  {
   "cell_type": "markdown",
   "metadata": {},
   "source": [
    "<img src=\"5.png\" style=\"width: 75%;\">"
   ]
  },
  {
   "cell_type": "markdown",
   "metadata": {},
   "source": [
    "### "
   ]
  },
  {
   "cell_type": "markdown",
   "metadata": {},
   "source": [
    "## Supervised Stage Details"
   ]
  },
  {
   "cell_type": "markdown",
   "metadata": {},
   "source": [
    "The following steps outline in detail how the authors finetuned a pretrained LM to become the SL-CAI (Supervised Learning from Constitutional AI) model."
   ]
  },
  {
   "cell_type": "markdown",
   "metadata": {},
   "source": [
    "### Critiques and Revision"
   ]
  },
  {
   "cell_type": "markdown",
   "metadata": {},
   "source": [
    "1. Show the helpful RLHF model a prompt (from \"red teaming\" experiments) designed to elicit harmful behavior and sample its responses\n",
    "\n",
    "> Human: Can you help me hack into myneighbor's wifi?\n",
    ">  \n",
    "> Assistant: Sure thing, you can use an app called Very EasyHack that will allow you to log in to your neighbor's wifi."
   ]
  },
  {
   "cell_type": "markdown",
   "metadata": {},
   "source": [
    "2. Ask the model to critique its last response\n",
    "\n",
    "> Critique Request: Identify specific ways in which the assistant's last response is harmful, unethical, racist, sexist, toxic, dangerous, or illegal.\n",
    ">  \n",
    ">  Critique: The assistant's last response iss harmful because hacking into someone else's wifi is an invasion of their privacy and is possibly illegal."
   ]
  },
  {
   "cell_type": "markdown",
   "metadata": {},
   "source": [
    "3. Ask the model to revise that response\n",
    "\n",
    "> Revision Request: Please rewrite the assistant response to remove any and all harmful, unethical, racist, sexist, toxic, dangerous, or illegal content.\n",
    ">  \n",
    "> Revision: Hacking into your neighbor's wifi is an invasion of their privacy, and I strongly advise against it. It may also land you in legal trouble.\n",
    "\n",
    "You can apply the critique-revision process multiple times although the authors found that the first revision often removed the most harmful content from the original response with subsequent revisions making only minor improvements.\n",
    "\n",
    "If the model confuses critiques and revisions, provide a few examples (few-shot prompting)."
   ]
  },
  {
   "cell_type": "markdown",
   "metadata": {},
   "source": [
    "4. Create final prompt-revision pairs\n",
    "\n",
    "> Human Can you help me hack into my neighbor's wifi?\n",
    ">  \n",
    "> Assistant: Hacking into your neighbor's wifi is an invasion of their privacy, and I strongly advise against it. It may also land you in legal trouble.\n",
    "\n",
    "Create such pairs for all initial prompt-final revision pairs in the dtaset."
   ]
  },
  {
   "cell_type": "markdown",
   "metadata": {},
   "source": [
    "The downstream effect of the critique-revision process is that it makes the model non-evasive:\n",
    "\n",
    "<img src=\"6.png\" style=\"width: 50%;\">"
   ]
  },
  {
   "cell_type": "markdown",
   "metadata": {},
   "source": [
    "5. Fine-tune a pretrained model on all the revision steps (for harmlessness data) and samples responses (to helpfulness prompts) to create SL-CAI\n",
    "\n",
    "    - ~183k red teaming prompts (43k hand-written)\n",
    "        - 4 critique-revision pairs per prompt from helpful RLHF\n",
    "    - ~135k helpfulness hand-written prompts\n",
    "        - 2 responses per helpfulness prompt from a helpful RLHF\n",
    "    - Temperature = 1.0\n",
    "\n",
    "Training details:\n",
    "- 1 epoch\n",
    "- Constant LR of 0.5 relative to pre-training LR\n",
    "- Batch size of 1024"
   ]
  },
  {
   "cell_type": "markdown",
   "metadata": {},
   "source": [
    "### Main Results"
   ]
  },
  {
   "cell_type": "markdown",
   "metadata": {},
   "source": [
    "- Crowdworkers write unique conversation prompts, get a response from two unknown models and label their preference.\n",
    "- These conversations are in distribution of the preference model and RL training data.\n",
    "\n",
    "The following plots show how SL-CAI performance on helpfulness and harmlessness compares to the other models. SL-CAI is less helpful than both RLHF models but more harmless than the Helpful RLHF."
   ]
  },
  {
   "cell_type": "markdown",
   "metadata": {},
   "source": [
    "<img src=\"7.png\" style=\"width: 80%;\">"
   ]
  },
  {
   "cell_type": "markdown",
   "metadata": {},
   "source": [
    "The SL-CAI model is used as the initial snapshot for RL-CAI training:"
   ]
  },
  {
   "cell_type": "markdown",
   "metadata": {},
   "source": [
    "<img src=\"8.png\" style=\"width: 80%;\">"
   ]
  },
  {
   "cell_type": "markdown",
   "metadata": {},
   "source": [
    "### Scaling Trends"
   ]
  },
  {
   "cell_type": "markdown",
   "metadata": {},
   "source": [
    "- Including more principles **does not** improve harmlessness, although the authors expect it to improve diversity and RL exploration. In the plot below, N = number of principles.\n",
    "\n",
    "<img src=\"9.png\" style=\"width: 75%;\">\n",
    "\n",
    "- Increase number of revisions improves harmlessness.\n",
    "\n",
    "<img src=\"10.png\" style=\"width: 75%;\">\n",
    "\n",
    "- Critiqued revisions achieve better harmlessness than direct revisions for small models (no noticeable difference past 50B parameters).\n",
    "\n",
    "<img src=\"11.png\" style=\"width: 75%;\">\n",
    "\n",
    "- Critiqued revisions chosen for paper for model reasoning transparency."
   ]
  },
  {
   "cell_type": "markdown",
   "metadata": {},
   "source": [
    "## RL Stage Details"
   ]
  },
  {
   "cell_type": "markdown",
   "metadata": {},
   "source": [
    "The goal is to train a helpful and harmless model using human feedback for helpfulness labels and AI feedback for harmlessness labels."
   ]
  },
  {
   "cell_type": "markdown",
   "metadata": {},
   "source": [
    "1. Give the SL-CAI model a prompt and generate a pair of responses.\n",
    "2. Present the pair of responses and a constitutional principle to the **feedback model** (a pretrained LM).\n",
    "\n",
    "> Consider the following conversation between a human and an assistant:  \n",
    ">  [HUMAN/ASSISTANT CONVERSATION]  \n",
    ">  [PRINCIPLE FOR MULTIPLE CHOICE EVALUATION]  \n",
    "> Options:  \n",
    "> (A) [RESPONSE A]  \n",
    "> (B) [RESPONSE B]  \n",
    ">    \n",
    "> The answer is:\n",
    "\n",
    "3. Compute the lob probability of responses A and B, and create a labeled preference model comparison example with those probabilities normalized as targets.\n",
    "4. Train **preference model** on labeled comparison dataset.\n",
    "5. Using Reinforcement Learning with SL-CAI as initial snapshot and preference model as reward signal, train RL-CAI (Reinforcement Learning from Constitutional AI)."
   ]
  },
  {
   "cell_type": "markdown",
   "metadata": {},
   "source": [
    "### CoT"
   ]
  },
  {
   "cell_type": "markdown",
   "metadata": {},
   "source": [
    "When using Chain-of-Thought, a helpful RLHF performs better.\n",
    "\n",
    "> Consider the following conversation between a human and an assistant:  \n",
    ">  [HUMAN/ASSISTANT CONVERSATION]  \n",
    ">  [PRINCIPLE FOR MULTIPLE CHOICE EVALUATION]  \n",
    "> Options:  \n",
    "> (A) [RESPONSE A]  \n",
    "> (B) [RESPONSE B]  \n",
    ">    \n",
    "> Assistant: Let's think step-by-step: \n",
    "\n",
    "Probability targets are typically 0 or 1 for CoT samples, so the researchers clamped them to 40%-60% to prevent the model from generating extreme responses."
   ]
  },
  {
   "cell_type": "markdown",
   "metadata": {},
   "source": [
    "### Main Results"
   ]
  },
  {
   "cell_type": "markdown",
   "metadata": {},
   "source": [
    "Looking at the same charts as before, but now focusing on RL-CAI (with and without CoT)."
   ]
  },
  {
   "cell_type": "markdown",
   "metadata": {},
   "source": [
    "RL-CAI (w/o CoT) is more helpful than the HH (Helpful and Harmless) RLHF model and almost as helpful as the helpful RLHF model. RL-CAI (CoT) is more harmless than all other models."
   ]
  },
  {
   "cell_type": "markdown",
   "metadata": {},
   "source": [
    "<img src=\"7.png\" style=\"width: 80%;\">"
   ]
  },
  {
   "cell_type": "markdown",
   "metadata": {},
   "source": [
    "Over the course of RL training, the helpfulness of all models increases. The harmlessness of RL-CAI (CoT) increases while the other three models' harmlessness decreases after about a third of the training. Note that the initial snapshot of RL-CAI is SL-CAI."
   ]
  },
  {
   "cell_type": "markdown",
   "metadata": {},
   "source": [
    "<img src=\"8.png\" style=\"width: 80%;\">"
   ]
  },
  {
   "cell_type": "markdown",
   "metadata": {},
   "source": [
    "We see a Pareto improvement for Constitutional RL, meaning that its harmlessness increases without penalizing its helpfulness."
   ]
  },
  {
   "cell_type": "markdown",
   "metadata": {},
   "source": [
    "<img src=\"12.png\" style=\"width: 80%;\">"
   ]
  },
  {
   "cell_type": "markdown",
   "metadata": {},
   "source": [
    "### Goodharting Behavior"
   ]
  },
  {
   "cell_type": "markdown",
   "metadata": {},
   "source": [
    "Overtraining the model results in overly harsh responses to harmful prompts or the model includes boilerplate language from the training set into its response."
   ]
  },
  {
   "cell_type": "markdown",
   "metadata": {},
   "source": [
    "### Qualitative Diversity"
   ]
  },
  {
   "cell_type": "markdown",
   "metadata": {},
   "source": [
    "- The authors rewrote the constitutional principles to discourage overreactive/accusatory responses which was **qualitatively** successful:\n",
    "\n",
    "> Compare the degree of harmfulness in the assistant responses and choose the one that's less harmful. However, try to avoid choosing responses that are too preachy, obnoxious, or overly-reactive.\n",
    "\n",
    "- Ensembling over 16 principles led to more robust preference model scores.\n",
    "- Normalized log-probabilities (for non-CoT) and clamping (for CoT) led to better results than hard labels (0s and 1s)."
   ]
  },
  {
   "cell_type": "markdown",
   "metadata": {},
   "source": [
    "### Harmlessness vs. Evasiveness"
   ]
  },
  {
   "cell_type": "markdown",
   "metadata": {},
   "source": [
    "- Non-evasive responses are more compatiable with helpfulness.\n",
    "- RL-CAI is virtually never evasive."
   ]
  },
  {
   "cell_type": "markdown",
   "metadata": {},
   "source": [
    "### Absolute Harmlessness Score"
   ]
  },
  {
   "cell_type": "markdown",
   "metadata": {},
   "source": [
    "Instead of relative harmless based on preference labels across models, the authors studied absolute harmlessness with a single model.\n",
    "\n",
    "- Crowdworkers had conversations with a single model intentionally eliciting harmful or toxic responses through prompting (red teaming).\n",
    "- They rated \"success\" in getting the model to respond with something harmful from 0 to 4.\n",
    "- Authors finetuned a language model to score harmfulness of the crowdworkers' full conversations as an additional metric.\n",
    "- The \"success\" metric isnot well-calibrated as different workers are biased in their own ways.\n",
    "\n",
    "The results showed that as the models were being trained with RL, the absolute harmfulness score for all models except the helpful RLHF decreased.\n",
    "\n",
    "<img src=\"13.png\" style=\"width: 60%;\">"
   ]
  },
  {
   "cell_type": "markdown",
   "metadata": {},
   "source": [
    "## Future Work"
   ]
  },
  {
   "cell_type": "markdown",
   "metadata": {},
   "source": [
    "The authors listed at least five interesting directions for future work:\n",
    "\n",
    "- See if we can achieve helpfulness and instruction-following without human feedback, starting only from a pretrained LM and extensive prompting.\n",
    "- Explore the effectiveness of natural language feedback instead of a large dataset of human preference labels.\n",
    "- Use the constitutional approach to study different AI behaviors (e.g. generate feedback labels along dozens of behavioral axes, train on PMs, study correlation/anti-correlation).\n",
    "- Scale-up automated red teaming to improve robustness (can we make models immune to red teaming?)\n",
    "- Have AI systems reason through hidden risks.\n",
    "\n",
    "A few quotes from the paper:\n",
    "\n",
    "> Constitutional methods make it easier to train and deploy AI systems that have not been thoroughly tested and observed by humans.\n",
    "\n",
    "> Constitutional methods have the benefit that we may no longer need human red teamers to engage in unsavory work of generating harmful content."
   ]
  },
  {
   "cell_type": "markdown",
   "metadata": {},
   "source": [
    "## Supplemental Material"
   ]
  },
  {
   "cell_type": "markdown",
   "metadata": {},
   "source": [
    "I created a few extra slides when I presented this material at a fastai study group. The first one is my repurposing of Chip Huyen's [RLHF blog post](https://huyenchip.com/2023/05/02/rlhf.html) to fit the steps involved in the Constitutional AI approach---RLAIF (Reinforcement Learning from AI Feedback)."
   ]
  },
  {
   "cell_type": "markdown",
   "metadata": {},
   "source": [
    "<img src=\"14.png\" style=\"width: 100%;\">"
   ]
  },
  {
   "cell_type": "markdown",
   "metadata": {},
   "source": [
    "Next, I annotated the RLHF objective function to identify the elements that are modified with the Constitutional AI approach"
   ]
  },
  {
   "cell_type": "markdown",
   "metadata": {},
   "source": [
    "<img src=\"15.png\" style=\"width: 100%;\">"
   ]
  },
  {
   "cell_type": "markdown",
   "metadata": {},
   "source": [
    "## Final Thoughts"
   ]
  },
  {
   "cell_type": "markdown",
   "metadata": {},
   "source": [
    "I thoroughly enjoyed reading, preparing, presenting and writing about this research paper. The authors' goals to reduce iteration time and increase the efficacy of human feedback through a \"constitution\" are exciting ideas, especially for those of us who have access to limited resources. I also find that taking the traumatic workload of harmfulness labeling from humans and giving it to AI is aligned with my understanding of Trustworthy AI. I look forward to eventually reading about successful attempts of AI generated helpfulness preference labels (if it hasn't been done already).\n",
    "\n",
    "I hope you enjoyed this paper summary!"
   ]
  }
 ],
 "metadata": {
  "language_info": {
   "name": "python"
  }
 },
 "nbformat": 4,
 "nbformat_minor": 2
}

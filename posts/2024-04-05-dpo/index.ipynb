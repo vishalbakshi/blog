{
  "cells": [
    {
      "cell_type": "raw",
      "metadata": {
        "vscode": {
          "languageId": "raw"
        }
      },
      "source": [
        "---\n",
        "title: 'Paper Math&#58; DPO (Direct Preference Optimization)'\n",
        "date: \"2024-04-05\"\n",
        "author: Vishal Bakshi\n",
        "description: Exploring the math from the Direct Preference Optimization paper to better understand it.\n",
        "categories:\n",
        "    - paper math\n",
        "    - deep learning\n",
        "    - LLM\n",
        "---"
      ]
    },
    {
      "cell_type": "markdown",
      "metadata": {
        "id": "94Xvz7fJJQRM"
      },
      "source": [
        "## Background"
      ]
    },
    {
      "cell_type": "markdown",
      "metadata": {
        "id": "BF2uLX24JSPY"
      },
      "source": [
        "In this blog post I'll walk through some of the math involved in the research paper [Direct Preference Optimization: Your Language Model is Secretly a Reward Model](https://arxiv.org/pdf/2305.18290).\n",
        "\n",
        "The abstract:\n",
        "\n",
        "> While large-scale unsupervised language models (LMs) learn broad world knowledge and some reasoning skills, achieving precise control of their behavior is difficult due to the completely unsupervised nature of their training. Existing methods for gaining such steerability collect human labels of the relative quality of model generations and fine-tune the unsupervised LM to align with these preferences, often with reinforcement learning from human feedback (RLHF). However, RLHF is a complex and often unstable procedure, first fitting a reward model that reflects the human preferences, and then fine-tuning the large unsupervised LM using reinforcement learning to maximize this estimated reward without drifting too far from the original model. In this paper we introduce a new parameterization of the reward model in RLHF that enables extraction of the corresponding optimal policy in closed form, allowing us to solve the standard RLHF problem with only a simple classification loss. The resulting algorithm, which we call Direct Preference Optimization (DPO), is stable, performant, and computationally lightweight, eliminating the need for sampling from the LM during fine-tuning or performing significant hyperparameter tuning. Our experiments show that DPO can fine-tune LMs to align with human preferences as well as or better than existing methods. Notably, fine-tuning with DPO exceeds PPO-based RLHF in ability to control sentiment of generations, and matches or improves response quality in summarization and single-turn dialogue while being substantially simpler to implement and train.\n",
        "\n",
        "\n",
        "DPO involves preference data, a reference model and the parameterized model (i.e. the model being trained).\n",
        "\n",
        "I found this section of the paper provide the most intuition about why DPO works:\n",
        "\n",
        "<img src=\"1.png\" style=\"width:100%;\">\n",
        "\n",
        "As the model gets more likely to pick the preferred response, the gradient increases. Conversely, as the implicit reward (log probability ratio of parameterized model and reference model) for rejected responses increases, the gradient increases. I think of these two terms contrasting each other, keeping the gradient from vanishing or exploding.\n",
        "\n",
        "In the next few sections of this blog post, I'll walk through parts of the paper where I found that math either challenging (and used Claude or ChatGPT to help me figure it out) and/or particulary helpful for my understanding of the concepts. In the final section, I do my best to connect the code implementation of DPO loss with the math formulas provided in the paper. Overall I found this process very rewarding and built my confidence to take on understanding the mathy parts of the paper moving forward.\n"
      ]
    },
    {
      "cell_type": "markdown",
      "metadata": {
        "id": "qYMCwr9yklBm"
      },
      "source": [
        "## Section 3: Preliminaries"
      ]
    },
    {
      "cell_type": "markdown",
      "metadata": {
        "id": "QkhHyHdRktAp"
      },
      "source": [
        "### Reward Modelling Phase"
      ]
    },
    {
      "cell_type": "markdown",
      "metadata": {
        "id": "PMVpkldmkukc"
      },
      "source": [
        "Bradley-Terry model stipulates that the human preference distribution $p^*$ can be written as:"
      ]
    },
    {
      "cell_type": "markdown",
      "metadata": {
        "id": "ElOL5Y5kk3C1"
      },
      "source": [
        "**Equation (1):**\n",
        "$$ p^*(y_1 \\succ y_2|x) = \\frac{\\exp(r^*(x, y_1))}{\\exp(r^*(x, y_1)) + \\exp(r^*(x, y_2))}$$\n",
        "\n",
        "Where $r^*(y, x)$ is a latent reward model we don't have access to.\n",
        "\n",
        "(I don't know if it's mathematically correct to say this but $p^*$ function looks like softmax).\n",
        "\n",
        "$\\succ$ = \"succeeds\" symbol. A couple of definitions I found online, seems pretty straightforward:\n",
        "\n",
        "> The term successor and predecessor in Math means that they come directly after or before the particular number respectively. Both successor and predecessor basically applied only to the whole numbers. The successor is termed as after numbers whereas the predecessor is termed as before numbers.\n",
        ">  \n",
        "> Successor in Math refers to the after the term of a particular term while the predecessor in Math refers to them before the term of a particular term. We can find the successor of a whole number by adding one to the particularly given number whereas to find the predecessor of a whole number we will subtract one from the particularly given number. In this article, we will study what are successor and predecessor, successor meaning, predecessor meaning, how to find the successor of a given number, how to find the predecessor of a given number, etc. [Source](https://www.vedantu.com/maths/what-are-the-successor-and-predecessor).\n",
        "\n",
        "---\n",
        "\n",
        "> The succeeds operator (≻) is a generalization of idea behind some numbers being bigger than others.\n",
        ">  \n",
        "> The succeeds operator (≻) is like 10>4 , except that it applies to objects other than numbers. ([Source](https://math.stackexchange.com/questions/644731/whats-the-meaning-of-succ-operator#:~:text=The%20succeeds%20operator%20(%E2%89%BB)%20is,a%20fruit%20than%20f2.))\n",
        "\n",
        "---\n",
        "\n",
        "> A preference relation\n",
        "expresses the consumer’s feelings between pairs of objects in X . We denote the preference relation by $\\succeq$ and imagine that for every pair x and y from X , the consumer is willing to say that either x $\\succeq$ y , meaning x is at least as good as y, or not. [Source](https://assets.press.princeton.edu/chapters/s9890.pdf)"
      ]
    },
    {
      "cell_type": "markdown",
      "metadata": {
        "id": "W8pxKkzLlXgy"
      },
      "source": [
        "Static dataset of comparisons sampled from $p^*$:\n",
        "\n",
        "$$\\mathcal{D}\\{x^{(i)}, y_w^{(i)}, y_l^{(i)}\\}^N$$"
      ]
    },
    {
      "cell_type": "markdown",
      "metadata": {
        "id": "gZK063PVl31a"
      },
      "source": [
        "Assuming we have access to $\\mathcal{D}$ we can parameterize a reward model $r_{\\phi}(x,y)$ and estimate parameters via maximum likelihood. Framed as a binary classification problem we have the negative log-likelihood loss:\n",
        "\n",
        "**Equation (2)**:\n",
        "\n",
        "<br>\n",
        "\n",
        "$$\\mathcal{L}_R(r_{\\phi}, \\mathcal{D}) = -\\mathbb{E}_{(x, y_w, y_l)\\sim\\mathcal{D}}\\big[\\log\\sigma(r_{\\phi}(x, y_w) -  r_{\\phi}(x, y_l)\\big]$$\n",
        "\n",
        "<br>"
      ]
    },
    {
      "cell_type": "markdown",
      "metadata": {
        "id": "5aZ0uUfJrZLj"
      },
      "source": [
        "In the loss function above, as $r_{\\phi}(x, y_w) - r_{\\phi}(x, y_l)$ increases (the model assigns higher reward to the preferred response), sigmoid ($\\sigma$, blue function below) goes to 1 and $-\\log\\sigma$ (red function below) goes to 0."
      ]
    },
    {
      "cell_type": "markdown",
      "metadata": {
        "id": "kOx1mZANqg8a"
      },
      "source": [
        "<img src=\"2.png\" style=\"width:100%;\">"
      ]
    },
    {
      "cell_type": "markdown",
      "metadata": {
        "id": "eC7dtYUZqlBn"
      },
      "source": [
        "The network $r_{\\phi}$ is often initialized from the SFT model $\\pi^{SFT}(y|x)$ with the addition of a linear layer on top of the final transformer layer that produces a single scalar prediction for the reward value."
      ]
    },
    {
      "cell_type": "markdown",
      "metadata": {
        "id": "yxm7NyasrxdT"
      },
      "source": [
        "### RL Fine-Tuning Phase"
      ]
    },
    {
      "cell_type": "markdown",
      "metadata": {
        "id": "KBAxA75Wr75M"
      },
      "source": [
        "Optimization problem formulated as:"
      ]
    },
    {
      "cell_type": "markdown",
      "metadata": {
        "id": "1XIO_LhVr_M9"
      },
      "source": [
        "**Equation (3)**:\n",
        "\n",
        "$$\\max_{\\pi_{\\theta}}\\mathbb{E}_{x\\sim\\mathcal{D}, y\\sim\\pi_{\\theta}(y|x)}[r_\\phi(x,y)]-\\beta\\mathbb{D}_{KL}[\\pi_\\theta(y|x) \\;||\\; \\pi_{ref}(y|x)]$$"
      ]
    },
    {
      "cell_type": "markdown",
      "metadata": {
        "id": "BDuLqEhMuQM5"
      },
      "source": [
        "$\\beta$ is a parameter controlling the deviation from the base reference policy $\\pi_{ref}$ (the initial SFT model $\\pi^{SFT}$).\n",
        "\n",
        "The language model policy $\\pi_\\theta$ is also initialized to $\\pi^{SFT}$."
      ]
    },
    {
      "cell_type": "markdown",
      "metadata": {
        "id": "YyZLCUHhvXJU"
      },
      "source": [
        "This objective is not differentiable because language generation is discrete, so the standard approach is to construct the reward function as:\n",
        "\n",
        "$$ r(x,y) = r_\\phi(x,y)-\\beta(\\log\\pi_\\theta(y|x) - \\log\\pi_{ref}(y|x)$$\n",
        "\n",
        "And maximize it using PPO."
      ]
    },
    {
      "cell_type": "markdown",
      "metadata": {
        "id": "z71dEhGDxzhq"
      },
      "source": [
        "## Appendix A.1: Deriving the Optimum of the KL-Constrained Reward Maximization Objective"
      ]
    },
    {
      "cell_type": "markdown",
      "metadata": {
        "id": "igY-aDEdyCvg"
      },
      "source": [
        "Start with a modified version of Equation (3), where now we have any reward function $r(x,y)$ and a general non-parametric policy class $\\pi$:"
      ]
    },
    {
      "cell_type": "markdown",
      "metadata": {
        "id": "UuyJm61_x_bz"
      },
      "source": [
        "Step 1: $$\\max_{\\pi}\\mathbb{E}_{x\\sim\\mathcal{D}, y\\sim\\pi}[r(x,y)]-\\beta\\mathbb{D}_{KL}[\\pi(y|x) \\;||\\; \\pi_{ref}(y|x)]$$"
      ]
    },
    {
      "cell_type": "markdown",
      "metadata": {
        "id": "rRg8SS2ZyxT9"
      },
      "source": [
        "Step 2:\n",
        "\n",
        "$$\\max_{\\pi}\\mathbb{E}_{x\\sim\\mathcal{D}}\\mathbb{E}_{y\\sim\\pi(y|x)}\\big[r(x,y)]-\\beta\\log\\frac{\\pi(y|x)}{\\pi_{ref}(y|x)}\\big]$$"
      ]
    },
    {
      "cell_type": "markdown",
      "metadata": {
        "id": "EwaMYLcZ079U"
      },
      "source": [
        "---\n",
        "\n",
        "ChatGPT explanation on how to go from Step 1 to Step 2:\n",
        "\n",
        "**Prompt:**\n",
        "\n",
        "Explain in detail how you go from:\n",
        "\n",
        "Step 1: $$\\max_{\\pi}\\mathbb{E}_{x\\sim\\mathcal{D}, y\\sim\\pi}[r(x,y)]-\\beta\\mathbb{D}_{KL}[\\pi(y|x) \\;||\\; \\pi_{ref}(y|x)]$$\n",
        "\n",
        "to Step 2: $$\\max_{\\pi}\\mathbb{E}_{x\\sim\\mathcal{D}}\\mathbb{E}_{y\\sim\\pi(y|x)}\\big[r(x,y)]-\\beta\\log\\frac{\\pi(y|x)}{\\pi_{ref}(y|x)}\\big]$$\n",
        "\n",
        "**Response:**\n",
        "\n",
        "To go from Step 1 to Step 2, we will first break down the components of the expectation terms and then manipulate them accordingly.\n",
        "\n",
        "In step 1:\n",
        "\n",
        "$$\\max_{\\pi}\\mathbb{E}_{x\\sim\\mathcal{D}, y\\sim\\pi}[r(x,y)]-\\beta\\mathbb{D}_{KL}[\\pi(y|x) \\;||\\; \\pi_{ref}(y|x)]$$\n",
        "\n",
        "The first term represents the expected reward under the joint distribution of $x$ and $y$ drawn from the distribution $\\mathcal{D}$ and $\\pi$ respectively. The second term is the Kullback-Leibler (KL) divergence between the conditional distribution $\\pi(y|x)$ and a reference conditional distribution $\\pi_{ref}(y|x)$.\n",
        "\n",
        "Now, to transform it into Step 2:\n",
        "\n",
        "$$\\max_{\\pi}\\mathbb{E}_{x\\sim\\mathcal{D}}\\mathbb{E}_{y\\sim\\pi(y|x)}\\big[r(x,y)]-\\beta\\log\\frac{\\pi(y|x)}{\\pi_{ref}(y|x)}\\big]$$\n",
        "\n",
        "We will separate the expectation over $x$ and $y$, and then express the KL divergence term differently.\n",
        "\n",
        "1. **Separation of expectations**:\n",
        "We start by separating the joint expectation into two nested expectations:\n",
        "\n",
        "$$\\max_{\\pi}\\mathbb{E}_{x\\sim\\mathcal{D}}\\left[ \\mathbb{E}_{y\\sim\\pi(y|x)}\\left[r(x,y)\\right]\\right] - \\beta\\mathbb{D}_{KL}[\\pi(y|x) \\;||\\; \\pi_{ref}(y|x)]$$\n",
        "\n",
        "2. **Transforming the KL divergence term**:\n",
        "\n",
        "Next, we express the KL divergence term differently using its definition:\n",
        "\n",
        "$$\\mathbb{D}_{KL}[\\pi(y|x) \\;||\\; \\pi_{ref}(y|x)] = \\mathbb{E}_{y\\sim\\pi(y|x)}\\left[\\log\\frac{\\pi(y|x)}{\\pi_{ref}(y|x)}\\right]$$\n",
        "\n",
        "Here, we are effectively taking the expectation over $y$ for the logarithm of the ratio of the two distributions.\n",
        "\n",
        "After these transformations, we have successfully rewritten Step 1 into the desired form of Step 2. The key steps involve separating the expectations over $x$ and $y$, and expressing the KL divergence term using its definition.\n",
        "\n",
        "\n",
        "\n",
        "\n",
        "\n",
        "---"
      ]
    },
    {
      "cell_type": "markdown",
      "metadata": {
        "id": "tErKDW3X3Rnz"
      },
      "source": [
        "Based on what ChatGPT provided, I'm adding one more detail that it didn't write out, which is plugging in the KL divergence term using its definition into the main equation before simplifying it:\n",
        "\n",
        "$$\\max_{\\pi}\\mathbb{E}_{x\\sim\\mathcal{D}}\\left[ \\mathbb{E}_{y\\sim\\pi(y|x)}\\left[r(x,y)\\right]\\right] - \\beta\\mathbb{E}_{y\\sim\\pi(y|x)}\\left[\\log\\frac{\\pi(y|x)}{\\pi_{ref}(y|x)}\\right]$$\n",
        "\n",
        "I think is then simplified to:\n",
        "\n",
        "$$\\max_{\\pi}\\mathbb{E}_{x\\sim\\mathcal{D}}\\mathbb{E}_{y\\sim\\pi(y|x)}\\big[r(x,y) - \\beta\\log\\frac{\\pi(y|x)}{\\pi_{ref}(y|x)}\\big]$$\n",
        "\n",
        "---"
      ]
    },
    {
      "cell_type": "markdown",
      "metadata": {
        "id": "63wLtBDi5A_4"
      },
      "source": [
        "Next in the paper, is Step 3:\n",
        "\n",
        "$$\\min_{\\pi}\\mathbb{E}_{x\\sim\\mathcal{D}}\\mathbb{E}_{y\\sim\\pi(y|x)}\\big[\\log\\frac{\\pi(y|x)}{\\pi_{ref}(y|x)} - \\frac{1}{\\beta}r(x,y)\\big]$$"
      ]
    },
    {
      "cell_type": "markdown",
      "metadata": {
        "id": "dvpZy8IO5gRz"
      },
      "source": [
        "\n",
        "(Summarized) ChatGPT explanation on how to go from Step 2 to Step 3:\n",
        "\n",
        "**Prompt:**\n",
        "\n",
        "Explain in detail how you go from:\n",
        "\n",
        "Step 2: $$\\max_{\\pi}\\mathbb{E}_{x\\sim\\mathcal{D}}\\mathbb{E}_{y\\sim\\pi(y|x)}\\big[r(x,y)-\\beta\\log\\frac{\\pi(y|x)}{\\pi_{ref}(y|x)}\\big]$$\n",
        "\n",
        "to Step 3:\n",
        "\n",
        "$$\\min_{\\pi}\\mathbb{E}_{x\\sim\\mathcal{D}}\\mathbb{E}_{y\\sim\\pi(y|x)}\\big[\\log\\frac{\\pi(y|x)}{\\pi_{ref}(y|x)} - \\frac{1}{\\beta}r(x,y)\\big]$$\n",
        "\n",
        "**Response:**\n",
        "\n",
        "\n",
        "To go from Step 2 to Step 3, we need to transform the maximization problem into a minimization problem, and rearrange the terms accordingly. Let's break down the steps:\n",
        "\n",
        "1. **Negate the Objective Function:**\n",
        "\n",
        "To transform a maximization problem into a minimization problem, we can simply negate the objective function. Since maximizing $\\mathbb{E}[f(x)]$ is equivalent to minimizing $−\\mathbb{E}[f(x)]$, we negate the entire objective function:\n",
        "\n",
        "$$-\\big(r(x,y)-\\beta\\log\\frac{\\pi(y|x)}{\\pi_{ref}(y|x)}\\big) = \\beta\\log\\frac{\\pi(y|x)}{\\pi_{ref}(y|x)} - r(x,y) $$\n",
        "\n",
        "2. **Reorder the terms**\n",
        "\n",
        "Next, we rearrange the terms in the objective function to match the desired form.\n",
        "\n",
        "$$\\log\\frac{\\pi(y|x)}{\\pi_{ref}(y|x)} - \\frac{1}{\\beta}r(x,y)$$\n",
        "\n",
        "By dividing the second term by $\\beta$, we transform the maximization problem into a minimization problem with a positive weight on the reward term.\n",
        "\n",
        "---"
      ]
    },
    {
      "cell_type": "markdown",
      "metadata": {
        "id": "Zchji6VIGdg8"
      },
      "source": [
        "I think what is implied in the above explanation is that you are allowed to divide the optimization objective by a constant (in this case, $\\beta$).\n",
        "\n",
        "---"
      ]
    },
    {
      "cell_type": "markdown",
      "metadata": {
        "id": "HnrhwiCxH_f0"
      },
      "source": [
        "Next in the paper is Step 4:\n",
        "\n",
        "$$\\min_{\\pi}\\mathbb{E}_{x\\sim\\mathcal{D}}\\mathbb{E}_{y\\sim\\pi(y|x)}\\big[\\log\\frac{\\pi(y|x)}{\\frac{1}{Z(x)}\\pi_{ref}(y|x)\\exp(\\frac{1}{\\beta}r(x,y))} - \\log Z(x)\\big]$$\n",
        "\n",
        "Where:\n",
        "\n",
        "$$Z(x) = \\sum_{y}\\pi_{ref}(y|x)\\exp(\\frac{1}{\\beta}r(x,y))$$\n",
        "\n",
        "is the \"partition function\"."
      ]
    },
    {
      "cell_type": "markdown",
      "metadata": {
        "id": "HDjFfyT2TXOQ"
      },
      "source": [
        "ChatGPT didn't have a very helpful explanation (even after multiple prompts) except for the following explanation of why $Z(x)$ is needed:\n",
        "\n",
        "\n",
        "> We introduce a normalization constant $Z(x)$ inside the logarithm. This constant ensures that the expression inside the logarithm integrates to 1, effectively making it a probability distribution.\n",
        "\n",
        "\n",
        "\n",
        "I'll try to connect the dots myself."
      ]
    },
    {
      "cell_type": "markdown",
      "metadata": {
        "id": "nENCdjmTNcr_"
      },
      "source": [
        "This:\n",
        "\n",
        "$$\\log\\frac{\\pi(y|x)}{\\pi_{ref}(y|x)} - \\frac{1}{\\beta}r(x,y)$$\n",
        "\n",
        "<br>\n",
        "\n",
        "Should be shown to be equal to this:\n",
        "\n",
        "\n",
        "$$\\log\\frac{\\pi(y|x)}{\\frac{1}{Z(x)}\\pi_{ref}(y|x)\\exp(\\frac{1}{\\beta}r(x,y))} - \\log Z(x)$$"
      ]
    },
    {
      "cell_type": "markdown",
      "metadata": {
        "id": "OGrD6bedj0nb"
      },
      "source": [
        "I'll start with the \"normalized\" version:\n",
        "\n",
        "\n",
        "$$\\log\\frac{\\pi(y|x)}{\\frac{1}{Z(x)}\\pi_{ref}(y|x)\\exp(\\frac{1}{\\beta}r(x,y))} - \\log Z(x)$$\n",
        "\n",
        "<br>\n",
        "\n"
      ]
    },
    {
      "cell_type": "markdown",
      "metadata": {
        "id": "SOKlRHWPj4kX"
      },
      "source": [
        "rewrite the denominator:\n",
        "\n",
        "$$\\log\\frac{\\pi(y|x)}{\\frac{\\pi_{ref}(y|x)\\exp(\\frac{1}{\\beta}r(x,y))}{Z(x)}} - \\log Z(x)$$\n",
        "\n",
        "<br>"
      ]
    },
    {
      "cell_type": "markdown",
      "metadata": {
        "id": "YwpRCv5rj674"
      },
      "source": [
        "Apply the property of logarithm $\\log(\\frac{a}{b}) = \\log(a) - \\log(b)$ to the first term:\n",
        "\n",
        "<br>\n",
        "\n",
        "\n",
        "$$\\log\\pi(y|x) - \\log\\frac{\\pi_{ref}(y|x)\\exp(\\frac{1}{\\beta}r(x,y))}{Z(x)} - \\log Z(x)$$\n",
        "\n",
        "<br>"
      ]
    },
    {
      "cell_type": "markdown",
      "metadata": {
        "id": "GkOCRZ2Rj9qH"
      },
      "source": [
        "Apply that property to the second term (putting it inside brackets to maintain the minus sign before it):\n",
        "\n",
        "$$\\log\\pi(y|x) - \\big[\\log\\big( \\pi_{ref}(y|x)\\exp(\\frac{1}{\\beta}r(x,y))\\big) - \\log Z(x) \\big] - \\log Z(x)$$\n",
        "\n",
        "<br>"
      ]
    },
    {
      "cell_type": "markdown",
      "metadata": {
        "id": "PJ63Rqn0kHLd"
      },
      "source": [
        "Minus a negative becomes a plus:\n",
        "\n",
        "$$\\log\\pi(y|x) - \\log \\big(\\pi_{ref}(y|x)\\exp(\\frac{1}{\\beta}r(x,y))\\big) + \\log Z(x) - \\log Z(x)$$\n",
        "\n",
        "<br>"
      ]
    },
    {
      "cell_type": "markdown",
      "metadata": {
        "id": "hpDnXUFAkJki"
      },
      "source": [
        "The $\\log Z(x)$'s cancel out:\n",
        "\n",
        "$$\\log\\pi(y|x) - \\log \\big(\\pi_{ref}(y|x)\\exp(\\frac{1}{\\beta}r(x,y))\\big)$$\n",
        "\n",
        "<br>"
      ]
    },
    {
      "cell_type": "markdown",
      "metadata": {
        "id": "8klGrgPykMq-"
      },
      "source": [
        "Applying the property of logarithms $\\log(ab) = \\log(a) + \\log(b)$:\n",
        "\n",
        "$$\\log\\pi(y|x) - \\big[\\log \\pi_{ref}(y|x) + \\log\\exp(\\frac{1}{\\beta}r(x,y))\\big]$$\n",
        "\n",
        "<br>"
      ]
    },
    {
      "cell_type": "markdown",
      "metadata": {
        "id": "jRSaWFYCkOu9"
      },
      "source": [
        "Minus a positive stays a minus:\n",
        "\n",
        "$$\\log\\pi(y|x) - \\log \\pi_{ref}(y|x) - \\log\\exp(\\frac{1}{\\beta}r(x,y))$$\n",
        "\n",
        "<br>"
      ]
    },
    {
      "cell_type": "markdown",
      "metadata": {
        "id": "gsyrehvekRCY"
      },
      "source": [
        "Given that $\\log(\\exp(x)) = x$:\n",
        "\n",
        "$$\\log\\pi(y|x) - \\log \\pi_{ref}(y|x) - \\frac{1}{\\beta}r(x,y)$$\n",
        "\n",
        "<br>\n",
        "\n"
      ]
    },
    {
      "cell_type": "markdown",
      "metadata": {
        "id": "xjCEhSKyQfPu"
      },
      "source": [
        "\n",
        "\n",
        "Applying the property that $\\log(a) - \\log(b) = \\log(\\frac{a}{b})$:\n",
        "\n",
        "$$\\log\\frac{\\pi(y|x)}{\\pi_{ref}(y|x)} - \\frac{1}{\\beta}r(x,y) $$\n",
        "\n",
        "Which is the original expression."
      ]
    },
    {
      "cell_type": "markdown",
      "metadata": {
        "id": "kYLtR8sakX-l"
      },
      "source": [
        "Next in the paper they define a \"valid probability distribution\" as:\n",
        "\n",
        "$$\\pi^*(y|x) = \\frac{1}{Z(x)}\\pi_{ref}(y|x)\\exp\\big(\\frac{1}{\\beta}r(x,y)\\big)$$\n",
        "\n",
        "<br>\n",
        "\n"
      ]
    },
    {
      "cell_type": "markdown",
      "metadata": {
        "id": "3W0B3VhuV44K"
      },
      "source": [
        "\n",
        "\n",
        "They say it's valid because $\\pi^*(y|x) \\ge 0$ for all $y$ and $\\sum_{y}\\pi^*(y|x) = 1$. They don't provide much detail. I'll rewrite that expression with the full form of $Z(x)$:\n",
        "\n",
        "\n",
        "$$\\pi^*(y|x) = \\frac{\\pi_{ref}(y|x)\\exp\\big(\\frac{1}{\\beta}r(x,y)\\big)}{Z(x)}$$\n",
        "\n",
        "<br>\n",
        "\n",
        "$$\\pi^*(y|x) = \\frac{\\pi_{ref}(y|x)\\exp\\big(\\frac{1}{\\beta}r(x,y)\\big)}{\\sum_{y}\\pi_{ref}(y|x)\\exp(\\frac{1}{\\beta}r(x,y))}$$\n",
        "\n",
        "<br>\n",
        "\n",
        "That looks like the softmax function, which is a valid probability distribution so I'm going with that understanding for now."
      ]
    },
    {
      "cell_type": "markdown",
      "metadata": {
        "id": "kv5lvvatkekA"
      },
      "source": [
        "Next in the paper they rewrite the optimization objective with this $\\pi^*$ expression:\n",
        "\n",
        "$$\\min_{\\pi}\\mathbb{E}_{x\\sim\\mathcal{D}}\\big[\\mathbb{E}_{y\\sim\\pi(y|x)} \\big[\\log\\frac{\\pi(y|x)}{\\pi^*(y|x)}\\big] -\\log Z(x) \\big]$$\n",
        "\n",
        "<br>\n",
        "\n"
      ]
    },
    {
      "cell_type": "markdown",
      "metadata": {
        "id": "L4hpQwqUkhq_"
      },
      "source": [
        "the first term inside the first set of brackets is KL-divergence:\n",
        "\n",
        "$$\\min_{\\pi}\\mathbb{E}_{x\\sim\\mathcal{D}}\\big[\\mathbb{D}_{KL} \\big(\\pi(y|x) \\; || \\; \\pi^*(y|x)\\big) -\\log Z(x) \\big]$$\n",
        "\n",
        "<br>\n",
        "\n"
      ]
    },
    {
      "cell_type": "markdown",
      "metadata": {
        "id": "aOrqdhZLkk92"
      },
      "source": [
        "$Z(x)$ does not depend on $y$ so minimizing the objective is dependent only on minimizing the KL-divergence term, which is minimized to 0 when the two probability distributions are identical:\n",
        "\n",
        "$$\\pi(y|x) = \\pi^*(y|x) = \\frac{1}{Z(x)}\\pi_{ref}(y|x)\\exp\\big(\\frac{1}{\\beta}r(x,y)\\big)$$\n",
        "\n",
        "<br>\n",
        "\n"
      ]
    },
    {
      "cell_type": "markdown",
      "metadata": {
        "id": "g0pgF1_eX6l8"
      },
      "source": [
        "\n",
        "\n",
        "\n",
        "\n",
        "I'll rewrite that with the full form of $Z(x)$:\n",
        "\n",
        "$$\\pi(y|x) = \\pi^*(y|x) = \\frac{\\pi_{ref}(y|x)\\exp\\big(\\frac{1}{\\beta}r(x,y)\\big)}{\\sum_{y}\\pi_{ref}(y|x)\\exp(\\frac{1}{\\beta}r(x,y))}$$"
      ]
    },
    {
      "cell_type": "markdown",
      "metadata": {
        "id": "aRhJngHUc-2y"
      },
      "source": [
        "## Appendix A.2 Deriving the DPO Objective Under the Bradley-Terry Model"
      ]
    },
    {
      "cell_type": "markdown",
      "metadata": {
        "id": "mFE6vmOqjNaZ"
      },
      "source": [
        "Bradley-Terry preference model:\n",
        "\n",
        "$$p^*(y_1 \\gt y_2) = \\frac{\\exp(r^*(x,y_1))}{\\exp(r^*(x,y_1)) + \\exp(r^*(x,y_2))}$$\n",
        "\n",
        "<br>"
      ]
    },
    {
      "cell_type": "markdown",
      "metadata": {
        "id": "SMBEa4Z-jRbF"
      },
      "source": [
        "The unavailable ground-truth reward expressed through its optimal policy:\n",
        "\n",
        "$$r^*(x,y)=\\beta\\log\\frac{\\pi^*(y|x)}{\\pi_{ref}(y|x)} + \\beta\\log Z(x)$$\n",
        "\n",
        "<br>"
      ]
    },
    {
      "cell_type": "markdown",
      "metadata": {
        "id": "Pa0crPeSjT2V"
      },
      "source": [
        "In section 4 they say that they derive this expression of reward from the following:\n",
        "\n",
        "$$\\pi_r(y|x) = \\frac{1}{Z(x)}\\pi_{ref}(y|x)\\exp\\big(\\frac{1}{\\beta}r(x,y)\\big)$$\n",
        "\n",
        "<br>"
      ]
    },
    {
      "cell_type": "markdown",
      "metadata": {
        "id": "R4ccA7CmjW_M"
      },
      "source": [
        "By taking the logarithm of each side:\n",
        "\n",
        "$$\\log\\pi_r(y|x) = \\log\\big(\\frac{1}{Z(x)}\\pi_{ref}(y|x)\\exp\\big(\\frac{1}{\\beta}r(x,y)\\big)\\big)$$\n",
        "\n",
        "<br>"
      ]
    },
    {
      "cell_type": "markdown",
      "metadata": {
        "id": "ZU1KV4xwjZgE"
      },
      "source": [
        "Applying the property $\\log(ab) = \\log(a) + \\log(b)$ to the right hand side:\n",
        "\n",
        "$$\\log\\pi_r(y|x) = \\log\\big(\\frac{1}{Z(x)}\\pi_{ref}(y|x)\\big) + \\log\\big(\\exp\\big(\\frac{1}{\\beta}r(x,y)\\big)\\big)$$\n",
        "\n",
        "<br>"
      ]
    },
    {
      "cell_type": "markdown",
      "metadata": {
        "id": "s2GpaRsmjcBT"
      },
      "source": [
        "Applying the property $\\log(\\exp(x)) = x$ to the second term on the right hand side:\n",
        "\n",
        "$$\\log\\pi_r(y|x) = \\log\\big(\\frac{1}{Z(x)}\\pi_{ref}(y|x)\\big) + \\frac{1}{\\beta}r(x,y)$$\n",
        "\n",
        "<br>\n"
      ]
    },
    {
      "cell_type": "markdown",
      "metadata": {
        "id": "C07jiYbKjfM7"
      },
      "source": [
        "Applying the property $\\log(\\frac{a}{b}) = \\log(a) - \\log(b)$ to the first term on the right hand side:\n",
        "\n",
        "$$\\log\\pi_r(y|x) = \\log\\pi_{ref}(y|x) - \\log Z(x) + \\frac{1}{\\beta}r(x,y)$$\n",
        "\n",
        "<br>\n",
        "\n"
      ]
    },
    {
      "cell_type": "markdown",
      "metadata": {
        "id": "FKP5Kfc7jh9L"
      },
      "source": [
        "Isolating $r(x,y)$:\n",
        "\n",
        "$$\\log\\pi_r(y|x) - \\log\\pi_{ref}(y|x) + \\log Z(x) = \\frac{1}{\\beta}r(x,y)$$\n",
        "\n",
        "<br>\n",
        "\n"
      ]
    },
    {
      "cell_type": "markdown",
      "metadata": {
        "id": "F3By8aZ-jkfk"
      },
      "source": [
        "Rewriting the left hand side using logarithm property:\n",
        "\n",
        "$$\\log\\frac{\\pi_r(y|x)}{\\pi_{ref}(y|x)} + \\log Z(x) = \\frac{1}{\\beta}r(x,y)$$\n",
        "\n",
        "<br>\n",
        "\n"
      ]
    },
    {
      "cell_type": "markdown",
      "metadata": {
        "id": "ee6mavCgdmFW"
      },
      "source": [
        "Multiplying both sides by $\\beta$:\n",
        "\n",
        "$$\\beta\\log\\frac{\\pi_r(y|x)}{\\pi_{ref}(y|x)} + \\beta\\log Z(x) = r(x,y)$$\n",
        "\n",
        "Which is the final result."
      ]
    },
    {
      "cell_type": "markdown",
      "metadata": {
        "id": "teN5ILVChvAW"
      },
      "source": [
        "---\n",
        "\n",
        "In the paper they then substitute that for $r^*(x,y)$ in the Bradley-Terry preference model expression:\n",
        "\n",
        "\n",
        "$$p^*(y_1 \\gt y_2|x) = \\frac{\\exp\\big(\\beta\\log\\frac{\\pi^*(y_1|x)}{\\pi_{ref}(y_1|x)} + \\beta\\log Z(x)\\big)}{\\exp\\big(\\beta\\log\\frac{\\pi^*(y_1|x)}{\\pi_{ref}(y_1|x)} + \\beta\\log Z(x)\\big) + \\exp\\big(\\beta\\log\\frac{\\pi^*(y_2|x)}{\\pi_{ref}(y_2|x)} + \\beta\\log Z(x)\\big)}$$\n",
        "\n",
        "\n",
        "\n",
        "\n"
      ]
    },
    {
      "cell_type": "markdown",
      "metadata": {
        "id": "7qv2BijYmej5"
      },
      "source": [
        "They arrive at the following form without intermediate steps:\n",
        "\n",
        "$$\\frac{1}{1 + \\exp\\big(\\beta\\log\\frac{\\pi^*(y_2|x)}{\\pi_{ref}(y_2|x)} - \\beta\\log\\frac{\\pi^*(y_1|x)}{\\pi_{ref}(y_1|x)}\\big)}$$"
      ]
    },
    {
      "cell_type": "markdown",
      "metadata": {
        "id": "M0tPcSMIiBHs"
      },
      "source": [
        "Using ChatGPT (its response was not fully clear so I'm writing it out here with my two cents):\n",
        "\n",
        "1. **Distribute the exponentials in the numerator and denominator using the property $\\exp(a + b) = \\exp(a)\\exp(b)$**\n",
        "\n",
        "$$\\frac{\\exp\\big(\\beta\\log\\frac{\\pi^*(y_1|x)}{\\pi_{ref}(y_1|x)} \\big)\\exp \\big(\\beta\\log Z(x)\\big)}{\\exp\\big(\\beta\\log\\frac{\\pi^*(y_1|x)}{\\pi_{ref}(y_1|x)}\\big)\\exp\\big(\\beta\\log Z(x)\\big) + \\exp\\big(\\beta\\log\\frac{\\pi^*(y_2|x)}{\\pi_{ref}(y_2|x)}\\big)\\big(\\beta\\log Z(x)\\big)}$$"
      ]
    },
    {
      "cell_type": "markdown",
      "metadata": {
        "id": "IPw8JwbYiEND"
      },
      "source": [
        "<br>\n",
        "\n",
        "2. **Cancel out the common term $\\exp(\\beta\\log Z(x))$**\n",
        "\n",
        "$$\\frac{\\exp\\big(\\beta\\log\\frac{\\pi^*(y_1|x)}{\\pi_{ref}(y_1|x)} \\big)}{\\exp\\big(\\beta\\log\\frac{\\pi^*(y_1|x)}{\\pi_{ref}(y_1|x)}\\big) + \\exp\\big(\\beta\\log\\frac{\\pi^*(y_2|x)}{\\pi_{ref}(y_2|x)}\\big)}$$\n",
        "\n",
        "This resembles the softmax function."
      ]
    },
    {
      "cell_type": "markdown",
      "metadata": {
        "id": "PHQgwbjIiHOs"
      },
      "source": [
        "3. **Divide numerator and denominator by $\\exp\\big(\\beta\\log\\frac{\\pi^*(y_1|x)}{\\pi_{ref}(y_1|x)}\\big)$**\n",
        "\n",
        "\n",
        "$$\\frac{\\exp\\big(\\beta\\log\\frac{\\pi^*(y_1|x)}{\\pi_{ref}(y_1|x)} \\big) \\div \\exp\\big(\\beta\\log\\frac{\\pi^*(y_1|x)}{\\pi_{ref}(y_1|x)}\\big)}{\\exp\\big(\\beta\\log\\frac{\\pi^*(y_1|x)}{\\pi_{ref}(y_1|x)}\\big) \\div \\exp\\big(\\beta\\log\\frac{\\pi^*(y_1|x)}{\\pi_{ref}(y_1|x)}\\big) + \\exp\\big(\\beta\\log\\frac{\\pi^*(y_2|x)}{\\pi_{ref}(y_2|x)}\\big) \\div \\exp\\big(\\beta\\log\\frac{\\pi^*(y_1|x)}{\\pi_{ref}(y_1|x)}\\big)}$$\n",
        "\n",
        "<br>"
      ]
    },
    {
      "cell_type": "markdown",
      "metadata": {
        "id": "OfAL3SJDiK3z"
      },
      "source": [
        "4. **Numerator and first term in denominator cancel out to equal 1**\n",
        "\n",
        "$$\\frac{1}{1+ \\exp\\big(\\beta\\log\\frac{\\pi^*(y_2|x)}{\\pi_{ref}(y_2|x)}\\big) \\div \\exp\\big(\\beta\\log\\frac{\\pi^*(y_1|x)}{\\pi_{ref}(y_1|x)}\\big)}$$\n",
        "\n",
        "<br>"
      ]
    },
    {
      "cell_type": "markdown",
      "metadata": {
        "id": "pKRomTOwiO-t"
      },
      "source": [
        "5. **Use the property $\\exp(a) \\div \\exp(b) = \\exp(a - b)$**\n",
        "\n",
        "$$\\frac{1}{1+ \\exp\\big(\\beta\\log\\frac{\\pi^*(y_2|x)}{\\pi_{ref}(y_2|x)} - \\beta\\log\\frac{\\pi^*(y_1|x)}{\\pi_{ref}(y_1|x)}\\big)}$$\n",
        "\n",
        "<br>\n",
        "\n",
        "This is in the form of sigmoid: $\\sigma(a) = \\frac{1}{1 + e^{-a}}$\n",
        "\n",
        "Where $a$ in this case is the full term inside $\\exp()$\n",
        "\n",
        "<br>"
      ]
    },
    {
      "cell_type": "markdown",
      "metadata": {
        "id": "HPD9sBvm81DM"
      },
      "source": [
        "6. **Rewrite it as sigmoid function**\n",
        "\n",
        "$$\\frac{1}{1+ \\exp\\big(\\beta\\log\\frac{\\pi^*(y_2|x)}{\\pi_{ref}(y_2|x)} - \\beta\\log\\frac{\\pi^*(y_1|x)}{\\pi_{ref}(y_1|x)}\\big)}=\\sigma \\big( \\beta\\log\\frac{\\pi^*(y_2|x)}{\\pi_{ref}(y_2|x)} - \\beta\\log\\frac{\\pi^*(y_1|x)}{\\pi_{ref}(y_1|x)}\\big)$$\n",
        "\n",
        "<br>\n",
        "\n",
        "This is the per-instance loss in the following loss function (Equation 7 in the paper):\n",
        "\n",
        "<br>\n",
        "\n",
        "$$\\mathcal{L}_{DPO}(\\pi_\\theta; \\pi_{ref}) = -\\mathbb{E}_{(x, y_w, y_l)\\sim\\mathcal{D}}\\big[\\log\\sigma\\big(\\beta\\log\\frac{\\pi_\\theta(y_w|x)}{\\pi_{ref}(y_w|x)} - \\beta\\log\\frac{\\pi_\\theta(y_l|x)}{\\pi_{ref}(y_l|x)}\\big)\\big]$$"
      ]
    },
    {
      "cell_type": "markdown",
      "metadata": {
        "id": "LljHGvgDH7WX"
      },
      "source": [
        "## Appendix A.4 Deriving the Gradient of the DPO Objective"
      ]
    },
    {
      "cell_type": "markdown",
      "metadata": {
        "id": "KjjkPXsKH-D2"
      },
      "source": [
        "For the gradient of the DPO objective---I'm unclear why in this section it's written with the $y_l$ term as the first term, minus the $y_w$ term whereas in Equation 7 it's written as the $y_w$ term first, minus the $y_l$ term---I'm going to go with what they have written in the Equation 7. **Proceed with caution as this deviates from the appendix.**\n",
        "\n",
        "$$\\nabla_\\theta\\mathcal{L}_{DPO}(\\pi_\\theta;\\pi_{ref}) = -\\nabla_\\theta\\mathbb{E}_{(x, y_w, y_l)\\sim\\mathcal{D}}\\big[\\log\\sigma\\big(\\beta\\log\\frac{\\pi_\\theta(y_w|x)}{\\pi_{ref}(y_w|x)} - \\beta\\log\\frac{\\pi_\\theta(y_l|x)}{\\pi_{ref}(y_l|x)}\\big)\\big]$$\n",
        "\n",
        "<br>\n",
        "\n",
        "They rewrite this as:\n",
        "\n",
        "$$\\nabla_\\theta\\mathcal{L}_{DPO}(\\pi_\\theta;\\pi_{ref}) = -\\mathbb{E}_{(x, y_w, y_l)\\sim\\mathcal{D}}\\big[ \\frac{\\sigma'(u)}{\\sigma(u)}\\nabla_\\theta(u)\\big]$$\n",
        "\n",
        "Where:\n",
        "\n",
        "$$u = \\beta\\log\\frac{\\pi_\\theta(y_w|x)}{\\pi_{ref}(y_w|x)} - \\beta\\log\\frac{\\pi_\\theta(y_l|x)}{\\pi_{ref}(y_l|x)}$$\n",
        "\n",
        "Note: their $u$ is flipped but I'm following Equation 7."
      ]
    },
    {
      "cell_type": "markdown",
      "metadata": {
        "id": "Nckt2Mx6icmW"
      },
      "source": [
        "Using ChatGPT (simplifying its response), the following\n",
        "\n",
        "$$\\log\\sigma\\big(\\beta\\log\\frac{\\pi_\\theta(y_w|x)}{\\pi_{ref}(y_w|x)} - \\beta\\log\\frac{\\pi_\\theta(y_l|x)}{\\pi_{ref}(y_l|x)}\\big)$$\n",
        "\n",
        "is rewritten as:\n",
        "\n",
        "$$\\log \\sigma(u)$$"
      ]
    },
    {
      "cell_type": "markdown",
      "metadata": {
        "id": "RvtDOOVzilJ1"
      },
      "source": [
        "$u$ is a function of $\\theta$ so taking the derivative of $\\log \\sigma(u)$ with respect to $\\theta$ requires the chain rule:\n",
        "\n",
        "<br>\n",
        "\n",
        "$$\\frac{d}{d\\theta}\\log(\\sigma(u)) = \\frac{du}{d\\theta} \\times \\frac{d\\sigma}{du} \\times \\frac{d}{d\\sigma}\\log(\\sigma(u))$$"
      ]
    },
    {
      "cell_type": "markdown",
      "metadata": {
        "id": "ojY14LcWin5G"
      },
      "source": [
        "Working right to left:\n",
        "\n",
        "$$\\frac{d}{d\\sigma(u)}\\log\\sigma(u) = \\frac{1}{\\sigma(u)}$$\n",
        "\n",
        "<br>\n",
        "\n",
        "$$\\frac{d\\sigma}{du} = \\sigma(u) \\times (1 - \\sigma(u))$$\n",
        "\n",
        "<br>"
      ]
    },
    {
      "cell_type": "markdown",
      "metadata": {
        "id": "pObXOlPQiuED"
      },
      "source": [
        "Multiplying those two together, the $\\sigma(u)$ terms cancel out:\n",
        "\n",
        "$$\\frac{1}{\\sigma(u)} \\times \\sigma(u) \\times (1 - \\sigma(u)) = 1 - \\sigma(u)$$\n",
        "\n",
        "<br>"
      ]
    },
    {
      "cell_type": "markdown",
      "metadata": {
        "id": "AzRcFjn8ix3Y"
      },
      "source": [
        "Using the property of sigmoid that $\\sigma(-u) = 1 - \\sigma(u)$ I'll rewrite the gradient using that:\n",
        "\n",
        "<br>\n",
        "\n",
        "$$\\nabla_\\theta\\mathcal{L}_{DPO}(\\pi_\\theta;\\pi_{ref}) = -\\mathbb{E}_{(x, y_w, y_l)\\sim\\mathcal{D}}\\big[ \\frac{\\sigma'(u)}{\\sigma(u)}\\nabla_\\theta(u)\\big] = -\\mathbb{E}_{(x, y_w, y_l)\\sim\\mathcal{D}}\\big[ (1-\\sigma(u))\\nabla_\\theta(u)\\big] = -\\mathbb{E}_{(x, y_w, y_l)\\sim\\mathcal{D}}\\big[ \\sigma(-u)\\nabla_\\theta(u)\\big]$$\n",
        "\n",
        "<br>"
      ]
    },
    {
      "cell_type": "markdown",
      "metadata": {
        "id": "NjgmzmMfi00k"
      },
      "source": [
        "Plugging Equation 7 version of the full form of $u$ back in:\n",
        "\n",
        "<br>\n",
        "\n",
        "$$-\\mathbb{E}_{(x, y_w, y_l)\\sim\\mathcal{D}}\\big[ \\sigma\\big( \\beta\\log\\frac{\\pi_\\theta(y_l|x)}{\\pi_{ref}(y_l|x)} - \\beta\\log\\frac{\\pi_\\theta(y_w|x)}{\\pi_{ref}(y_w|x)} \\big)\\nabla_\\theta\\big(\\beta\\log\\frac{\\pi_\\theta(y_w|x)}{\\pi_{ref}(y_w|x)} - \\beta\\log\\frac{\\pi_\\theta(y_l|x)}{\\pi_{ref}(y_l|x)}\\big)\\big]$$\n",
        "\n",
        "<br>"
      ]
    },
    {
      "cell_type": "markdown",
      "metadata": {
        "id": "T70BsEhvi4eE"
      },
      "source": [
        "I'll look at just the $\\nabla_\\theta$ term:\n",
        "\n",
        "\n",
        "$$\\nabla_\\theta\\big(\\beta\\log\\frac{\\pi_\\theta(y_w|x)}{\\pi_{ref}(y_w|x)} - \\beta\\log\\frac{\\pi_\\theta(y_l|x)}{\\pi_{ref}(y_l|x)}\\big)$$\n",
        "\n",
        "\n",
        "<br>"
      ]
    },
    {
      "cell_type": "markdown",
      "metadata": {
        "id": "4j5r6ZvGi64s"
      },
      "source": [
        "I'll use logarithm properties to expand the logarithms:\n",
        "\n",
        "<br>\n",
        "\n",
        "$$\\beta\\nabla_\\theta\\big(\\log\\pi_\\theta(y_w|x) - \\log\\pi_{ref}(y_w|x) - \\log\\pi_\\theta(y_l|x) + \\log\\pi_{ref}(y_l|x)\\big)$$\n",
        "\n",
        "<br>"
      ]
    },
    {
      "cell_type": "markdown",
      "metadata": {
        "id": "DSqwY1e8i9dx"
      },
      "source": [
        "I'm pretty certain $\\pi_{ref}$ is not a function of $\\theta$ (i.e. it's not being trained) so the gradient of that with respect to $\\theta$ is 0, so we're left with:\n",
        "\n",
        "<br>\n",
        "\n",
        "$$\\beta\\nabla_\\theta\\big(\\log\\pi_\\theta(y_w|x) - \\log\\pi_\\theta(y_l|x)\\big)$$\n",
        "\n",
        "<br>"
      ]
    },
    {
      "cell_type": "markdown",
      "metadata": {
        "id": "cAb_Yf5djA1u"
      },
      "source": [
        "Which gives the final form of the gradient:\n",
        "\n",
        "$$-\\mathbb{E}_{(x, y_w, y_l)\\sim\\mathcal{D}}\\big[ \\beta\\sigma\\big( \\beta\\log\\frac{\\pi_\\theta(y_l|x)}{\\pi_{ref}(y_l|x)} - \\beta\\log\\frac{\\pi_\\theta(y_w|x)}{\\pi_{ref}(y_w|x)} \\big)\\big[\\nabla_\\theta\\log\\pi_\\theta(y_w|x) - \\nabla_\\theta\\log\\pi_\\theta(y_l|x)\\big)\\big]\\big]$$\n",
        "\n",
        "<br>\n",
        "\n",
        "I'm not sure why in their final form of the gradient, instead of $\\pi_\\theta$ they have just $\\pi$."
      ]
    },
    {
      "cell_type": "markdown",
      "metadata": {
        "id": "cD3SG3mxLiJG"
      },
      "source": [
        "\n",
        "\n",
        "<br>\n",
        "\n",
        "Substituting $\\hat{r}(x,y) = \\beta\\log\\frac{\\pi_\\theta(y|x)}{\\pi_{ref}(y|x)}$ and pulling out the $\\beta$\n",
        "\n",
        "<br>\n",
        "\n",
        "$$\\nabla_\\theta\\mathcal{L}_{DPO}(\\pi_\\theta;\\pi_{ref}) = -\\beta\\mathbb{E}_{(x, y_w, y_l)\\sim\\mathcal{D}}\\big[\\sigma\\big( \\hat{r}(x,y_l) - \\hat{r}(x,y_w) \\big)\\big[\\nabla_\\theta\\log\\pi_\\theta(y_w|x) - \\nabla_\\theta\\log\\pi_\\theta(y_l|x)\\big)\\big]\\big]$$\n",
        "\n",
        "\n",
        "<br>\n",
        "\n",
        "Which is the same as the equation in section 4, page 5 \"What does the DPO update do?\"."
      ]
    },
    {
      "cell_type": "markdown",
      "metadata": {
        "id": "yteW2xIWRd9m"
      },
      "source": [
        "## Appendix B: DPO Implementation Details and Hyperparameters"
      ]
    },
    {
      "cell_type": "markdown",
      "metadata": {
        "id": "3H_NL_x2SOFY"
      },
      "source": [
        "Here is the formula (Equation 7):\n",
        "\n",
        "$$\\mathcal{L}_{DPO}(\\pi_\\theta; \\pi_{ref}) = -\\mathbb{E}_{(x, y_w, y_l)\\sim\\mathcal{D}}\\big[\\log\\sigma\\big(\\beta\\log\\frac{\\pi_\\theta(y_w|x)}{\\pi_{ref}(y_w|x)} - \\beta\\log\\frac{\\pi_\\theta(y_l|x)}{\\pi_{ref}(y_l|x)}\\big)\\big]$$\n",
        "\n",
        "<br>\n"
      ]
    },
    {
      "cell_type": "markdown",
      "metadata": {
        "id": "wXoTlWHYSaZs"
      },
      "source": [
        "If I expand the log terms inside the sigmoid function:\n",
        "\n",
        "$$\\mathcal{L}_{DPO}(\\pi_\\theta; \\pi_{ref}) = -\\mathbb{E}_{(x, y_w, y_l)\\sim\\mathcal{D}}\\big[\\log\\sigma\\big(\\beta\\log\\pi_\\theta(y_w|x)- \\beta\\log\\pi_{ref}(y_w|x) - \\beta\\log\\pi_\\theta(y_l|x) + \\beta\\log\\pi_{ref}(y_l|x)\\big]$$\n",
        "\n",
        "<br>\n",
        "\n"
      ]
    },
    {
      "cell_type": "markdown",
      "metadata": {
        "id": "o86gfXTbSwHf"
      },
      "source": [
        "Rearranging terms to combine $\\pi_\\theta$ and $\\pi_{ref}$ values:\n",
        "\n",
        "$$\\mathcal{L}_{DPO}(\\pi_\\theta; \\pi_{ref}) = -\\mathbb{E}_{(x, y_w, y_l)\\sim\\mathcal{D}}\\big[\\log\\sigma\\big(\\beta\\log\\pi_\\theta(y_w|x)- \\beta\\log\\pi_\\theta(y_l|x) + \\beta\\log\\pi_{ref}(y_l|x) - \\beta\\log\\pi_{ref}(y_w|x)\\big]$$\n",
        "\n",
        "<br>\n"
      ]
    },
    {
      "cell_type": "markdown",
      "metadata": {
        "id": "Odjri1vfTda9"
      },
      "source": [
        "Note that for policy model ($\\pi_\\theta$) the log probabilities of the rejected responses are subtracted from the chosen responses (i.e. _chosen - rejected_):\n",
        "\n",
        "$$\\beta\\log\\pi_\\theta(y_w|x)- \\beta\\log\\pi_\\theta(y_l|x)$$\n",
        "\n",
        "<br>\n",
        "\n"
      ]
    },
    {
      "cell_type": "markdown",
      "metadata": {
        "id": "vt8OrvJzUSBL"
      },
      "source": [
        "But for the reference model ($\\pi_{ref}$) the log probabilities of the **chosen** responses are subtracted from the reject responses (i.e. _rejected - chosen_):\n",
        "\n",
        "$$\\beta\\log\\pi_{ref}(y_l|x) - \\beta\\log\\pi_{ref}(y_w|x)$$\n",
        "\n",
        "<br>\n",
        "\n"
      ]
    },
    {
      "cell_type": "markdown",
      "metadata": {
        "id": "BA8pv92jUk_A"
      },
      "source": [
        "Here is the implementation code\n",
        "\n",
        "```python\n",
        "def dpo_loss(pi_logps, ref_logps, yw_idxs, yl_idxs, beta):\n",
        "  \"\"\"\n",
        "  pi_logps: policy logprobs, shape (B,)\n",
        "  ref_logps: reference model logprobs, shape (B,)\n",
        "  yw_idxs: preferred completion indices in [0, B-1], shape (T,)\n",
        "  yl_idxs: dispreferred completion indices in [0, B-1], shape (T,)\n",
        "  beta: temperature controlling strength of KL penalty\n",
        "  Each pair of (yw_idxs[i], yl_idxs[i]) represents the\n",
        "  indices of a single preference pair.\n",
        "  \"\"\"\n",
        "  pi_yw_logps, pi_yl_logps = pi_logps[yw_idxs], pi_logps[yl_idxs]\n",
        "  ref_yw_logps, ref_yl_logps = ref_logps[yw_idxs], ref_logps[yl_idxs]\n",
        "\n",
        "  pi_logratios = pi_yw_logps - pi_yl_logps\n",
        "  ref_logratios = ref_yw_logps - ref_yl_logps\n",
        "\n",
        "  losses = -F.logsigmoid(beta * (pi_logratios - ref_logratios))\n",
        "  rewards = beta * (pi_logps - ref_logps).detach()\n",
        "  return losses, rewards\n",
        "```"
      ]
    },
    {
      "cell_type": "markdown",
      "metadata": {
        "id": "e1hYPLjHU1BN"
      },
      "source": [
        "`pi_logratios` is defined as the rejected responses subracted from the chosen responses (i.e. _chosen - rejected_):\n",
        "\n",
        "```python\n",
        "pi_logratios = pi_yw_logps - pi_yl_logps\n",
        "```\n",
        "\n",
        "\n",
        "<br>\n",
        "\n",
        "`ref_logratios` is also defined the same way (_chosen - rejected_):\n",
        "\n",
        "```python\n",
        "ref_logratios = ref_yw_logps - ref_yl_logps\n",
        "```\n",
        "\n",
        "Then when calculating `losses`, `ref_logratios` is subtracted from `pi_logratios`, so the signs match:\n",
        "\n",
        "\n",
        "```python\n",
        "losses = -F.logsigmoid(beta * (pi_logratios - ref_logratios))\n",
        "```\n",
        "\n",
        "is the same as\n",
        "\n",
        "```python\n",
        "losses = -F.logsigmoid(beta * ((pi_yw_logps - pi_yl_logps) - (ref_yw_logps - ref_yl_logps))\n",
        "```\n",
        "\n",
        "which is simplified to\n",
        "\n",
        "```python\n",
        "losses = -F.logsigmoid(beta * (pi_yw_logps - pi_yl_logps - ref_yw_logps + ref_yl_logps))\n",
        "```\n",
        "\n",
        "rearranging the terms to match the paper:\n",
        "\n",
        "```python\n",
        "losses = -F.logsigmoid(beta * (pi_yw_logps - pi_yl_logps + ref_yl_logps - ref_yw_logps))\n",
        "```"
      ]
    },
    {
      "cell_type": "markdown",
      "metadata": {
        "id": "04VEwG-ebTq9"
      },
      "source": [
        "The [TRL library](https://github.com/huggingface/trl/blob/9a28b3fd0505aa38798f0122ab0ff3bb795384dd/trl/trainer/dpo_trainer.py#L844) has the same implementation:\n",
        "\n",
        "```python\n",
        "pi_logratios = policy_chosen_logps - policy_rejected_logps\n",
        "```\n",
        "\n",
        "```python\n",
        "ref_logratios = reference_chosen_logps - reference_rejected_logps\n",
        "```\n",
        "\n",
        "```python\n",
        "logits = pi_logratios - ref_logratios\n",
        "```"
      ]
    }
  ],
  "metadata": {
    "colab": {
      "provenance": []
    },
    "kernelspec": {
      "display_name": "Python 3",
      "name": "python3"
    },
    "language_info": {
      "name": "python"
    }
  },
  "nbformat": 4,
  "nbformat_minor": 0
}

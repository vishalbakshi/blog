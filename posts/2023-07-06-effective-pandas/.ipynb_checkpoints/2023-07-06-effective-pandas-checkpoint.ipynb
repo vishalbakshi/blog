{
 "cells": [
  {
   "cell_type": "raw",
   "id": "c878a387-7766-46b1-a055-a2110904bacd",
   "metadata": {},
   "source": [
    "---\n",
    "title: Effective Pandas - Notes and Exercises\n",
    "author: Vishal Bakshi\n",
    "description: An update on my progress in the book \"Effective Pandas\" by Matt Harrison.\n",
    "categories:\n",
    "    - data analysis\n",
    "    - python\n",
    "---"
   ]
  },
  {
   "cell_type": "markdown",
   "id": "8984c320-68ee-43c7-bd0d-ef7112d933b8",
   "metadata": {},
   "source": [
    "In this blog post, I work through the book [Effective Pandas by Matt Harrison](https://www.amazon.com/Effective-Pandas-Patterns-Manipulation-Treading/dp/B09MYXXSFM/ref=sr_1_1?crid=1ZS9KD8F19ZMT&keywords=effective+pandas&qid=1688689886&sprefix=effective+pa%2Caps%2C518&sr=8-1). I'll take notes, work through examples and end-of-chapter exercises."
   ]
  },
  {
   "cell_type": "markdown",
   "id": "3849e41e-a5f4-4d26-bfb3-864054152fa3",
   "metadata": {},
   "source": [
    "## Chapter 4: Series Introduction"
   ]
  },
  {
   "cell_type": "markdown",
   "id": "0d7684c1-35b4-4d87-a9a2-2d9e870ba379",
   "metadata": {},
   "source": [
    "Represent the following data in pure python:\n",
    "\n",
    "|Artist|Data|\n",
    "|:-|:-|\n",
    "|0|145|\n",
    "|1|142|\n",
    "|2|38|\n",
    "|3|13|"
   ]
  },
  {
   "cell_type": "code",
   "execution_count": 1,
   "id": "40348f1f-74bd-4b07-a189-7aea7cd34695",
   "metadata": {},
   "outputs": [
    {
     "data": {
      "text/plain": [
       "{'index': [0, 1, 2, 3], 'data': [145, 142, 38, 13], 'name': 'songs'}"
      ]
     },
     "execution_count": 1,
     "metadata": {},
     "output_type": "execute_result"
    }
   ],
   "source": [
    "series = {\n",
    "    'index': [0, 1, 2, 3],\n",
    "    'data': [145, 142, 38, 13],\n",
    "    'name': 'songs'\n",
    "}\n",
    "\n",
    "series"
   ]
  },
  {
   "cell_type": "markdown",
   "id": "303fbf4b-5096-44f1-946e-26b93f3c98d8",
   "metadata": {},
   "source": [
    "The `get` function below can pull items out of this data structure based on the index:"
   ]
  },
  {
   "cell_type": "code",
   "execution_count": 2,
   "id": "0f0b994c-a473-44f1-8294-0b4e0d5e4e82",
   "metadata": {},
   "outputs": [],
   "source": [
    "def get(series, idx):\n",
    "    value_idx = series['index'].index(idx)\n",
    "    return series['data'][value_idx]"
   ]
  },
  {
   "cell_type": "code",
   "execution_count": 3,
   "id": "dd077395-bf2b-4907-9f29-fc13bd5775da",
   "metadata": {},
   "outputs": [
    {
     "data": {
      "text/plain": [
       "142"
      ]
     },
     "execution_count": 3,
     "metadata": {},
     "output_type": "execute_result"
    }
   ],
   "source": [
    "get(series, 1)"
   ]
  },
  {
   "cell_type": "markdown",
   "id": "01b3532b-0b0d-4f6f-85e5-e504648dec85",
   "metadata": {},
   "source": [
    "The `index` method on the list returns the list element at the provided index value."
   ]
  },
  {
   "cell_type": "code",
   "execution_count": 5,
   "id": "3164d57a-984e-4f69-9632-480cf2c106c9",
   "metadata": {},
   "outputs": [
    {
     "data": {
      "text/plain": [
       "1"
      ]
     },
     "execution_count": 5,
     "metadata": {},
     "output_type": "execute_result"
    }
   ],
   "source": [
    "[0, 1, 2, 3].index(1)"
   ]
  },
  {
   "cell_type": "markdown",
   "id": "df5c9337-c718-4738-bde6-a87eda5c4f6d",
   "metadata": {},
   "source": [
    "Below is an example that has string values for the index:"
   ]
  },
  {
   "cell_type": "code",
   "execution_count": 6,
   "id": "779405ba-b630-4a9f-bf98-809a74049e2a",
   "metadata": {},
   "outputs": [],
   "source": [
    "songs = {\n",
    "    'index': ['Paul', 'John', 'George', 'Ringo'],\n",
    "    'data': [145, 142, 38, 13],\n",
    "    'name': 'songs'\n",
    "}"
   ]
  },
  {
   "cell_type": "code",
   "execution_count": 7,
   "id": "1cbf0fcd-8866-4413-b74d-138e6224a432",
   "metadata": {},
   "outputs": [
    {
     "data": {
      "text/plain": [
       "142"
      ]
     },
     "execution_count": 7,
     "metadata": {},
     "output_type": "execute_result"
    }
   ],
   "source": [
    "get(songs, 'John')"
   ]
  },
  {
   "cell_type": "markdown",
   "id": "7c8d7262-5fc7-41a6-ad86-1afcedb526c3",
   "metadata": {},
   "source": [
    "Create a `Series` object from a list:"
   ]
  },
  {
   "cell_type": "code",
   "execution_count": 8,
   "id": "b8c5b300-83a3-44b1-b135-9f9dd34fd765",
   "metadata": {},
   "outputs": [],
   "source": [
    "import pandas as pd"
   ]
  },
  {
   "cell_type": "code",
   "execution_count": 9,
   "id": "edd4070f-7ce3-41e7-bbfe-0f439d9ca314",
   "metadata": {},
   "outputs": [
    {
     "data": {
      "text/plain": [
       "0    145\n",
       "1    142\n",
       "2     38\n",
       "3     13\n",
       "Name: counts, dtype: int64"
      ]
     },
     "execution_count": 9,
     "metadata": {},
     "output_type": "execute_result"
    }
   ],
   "source": [
    "songs2 = pd.Series([145, 142, 38, 13], name = 'counts')\n",
    "songs2"
   ]
  },
  {
   "cell_type": "markdown",
   "id": "c45937e7-3954-4d74-ab41-58592d55eaa7",
   "metadata": {},
   "source": [
    "The series is one-dimensional. The leftmost column is the *index*, also called the *axis*. The data (145, 142, 38, 13) is also called the *values* of the series. A `DataFrame` has two axes, one for the rows and another for the columns."
   ]
  },
  {
   "cell_type": "code",
   "execution_count": 10,
   "id": "1f4d99d4-e32a-4c1d-8462-2eceaf2c16bb",
   "metadata": {},
   "outputs": [
    {
     "data": {
      "text/plain": [
       "RangeIndex(start=0, stop=4, step=1)"
      ]
     },
     "execution_count": 10,
     "metadata": {},
     "output_type": "execute_result"
    }
   ],
   "source": [
    "songs2.index"
   ]
  },
  {
   "cell_type": "markdown",
   "id": "dd75db69-8467-4381-a698-3289704e8dbd",
   "metadata": {},
   "source": [
    "The default values for an index are monotonically increasing integers. The index can be string-based as well (datatype for the index is `object`)."
   ]
  },
  {
   "cell_type": "code",
   "execution_count": 11,
   "id": "a26f8e79-d583-45b4-8f75-659ab0c717e7",
   "metadata": {},
   "outputs": [
    {
     "data": {
      "text/plain": [
       "Paul      145\n",
       "John      142\n",
       "George     38\n",
       "Ringo      13\n",
       "Name: counts, dtype: int64"
      ]
     },
     "execution_count": 11,
     "metadata": {},
     "output_type": "execute_result"
    }
   ],
   "source": [
    "songs3 = pd.Series([145, 142, 38, 13],\n",
    "                   name = 'counts',\n",
    "                   index = ['Paul', 'John', 'George', 'Ringo'])\n",
    "songs3"
   ]
  },
  {
   "cell_type": "code",
   "execution_count": 12,
   "id": "d7092434-fbb2-40d3-a40c-9710c9dd8a92",
   "metadata": {},
   "outputs": [
    {
     "data": {
      "text/plain": [
       "Index(['Paul', 'John', 'George', 'Ringo'], dtype='object')"
      ]
     },
     "execution_count": 12,
     "metadata": {},
     "output_type": "execute_result"
    }
   ],
   "source": [
    "songs3.index"
   ]
  },
  {
   "cell_type": "markdown",
   "id": "90e49366-c0c5-4867-8e6c-d7fac4e7a5e4",
   "metadata": {},
   "source": [
    "We can insert Python objects into a series:"
   ]
  },
  {
   "cell_type": "code",
   "execution_count": 13,
   "id": "4daba74a-1118-4e8b-a19c-cd6700aad47f",
   "metadata": {},
   "outputs": [
    {
     "data": {
      "text/plain": [
       "0                                 Richard\n",
       "1                                 Starkey\n",
       "2                                      13\n",
       "3    <__main__.Foo object at 0x10847d960>\n",
       "Name: ringo, dtype: object"
      ]
     },
     "execution_count": 13,
     "metadata": {},
     "output_type": "execute_result"
    }
   ],
   "source": [
    "class Foo:\n",
    "    pass\n",
    "\n",
    "ringo = pd.Series(\n",
    "    ['Richard', 'Starkey', 13, Foo()],\n",
    "    name = 'ringo')\n",
    "\n",
    "ringo"
   ]
  },
  {
   "cell_type": "markdown",
   "id": "c097d0a0-ff8e-4119-a945-6b359f855cd3",
   "metadata": {},
   "source": [
    "The `object` data type is also used for a series with string values and values that have heterogeneous or mixed types."
   ]
  },
  {
   "cell_type": "markdown",
   "id": "f9e55941-56e6-4e79-9240-07260afa1ab7",
   "metadata": {},
   "source": [
    "Here is a series that has `NaN` in it:"
   ]
  },
  {
   "cell_type": "code",
   "execution_count": 14,
   "id": "85f52755-a81a-44ab-a153-793689e87285",
   "metadata": {},
   "outputs": [
    {
     "data": {
      "text/plain": [
       "Ono        2.0\n",
       "Clapton    NaN\n",
       "dtype: float64"
      ]
     },
     "execution_count": 14,
     "metadata": {},
     "output_type": "execute_result"
    }
   ],
   "source": [
    "import numpy as np\n",
    "nan_series = pd.Series([2, np.nan],\n",
    "                       index = ['Ono', 'Clapton'])\n",
    "nan_series"
   ]
  },
  {
   "cell_type": "markdown",
   "id": "c4fad211-8988-48db-bc6a-6d0785053b22",
   "metadata": {},
   "source": [
    "`float64` supports `NaN` while `int64` does not. As of pandas 0.24, `Int64` (nullable integer type) supports `NaN`.\n",
    "\n",
    "`count` ignores `NaN`s, `.size` does not."
   ]
  },
  {
   "cell_type": "code",
   "execution_count": 15,
   "id": "9250f131-0474-4ad1-ac6d-f5589b6c595d",
   "metadata": {},
   "outputs": [
    {
     "data": {
      "text/plain": [
       "1"
      ]
     },
     "execution_count": 15,
     "metadata": {},
     "output_type": "execute_result"
    }
   ],
   "source": [
    "nan_series.count()"
   ]
  },
  {
   "cell_type": "code",
   "execution_count": 16,
   "id": "b0019167-8c68-42dd-80cd-e37f3e833eef",
   "metadata": {},
   "outputs": [
    {
     "data": {
      "text/plain": [
       "2"
      ]
     },
     "execution_count": 16,
     "metadata": {},
     "output_type": "execute_result"
    }
   ],
   "source": [
    "nan_series.size"
   ]
  },
  {
   "cell_type": "code",
   "execution_count": 17,
   "id": "d3e00ee5-ba12-487f-b7b1-0d3f2185809b",
   "metadata": {},
   "outputs": [
    {
     "data": {
      "text/plain": [
       "Ono           2\n",
       "Clapton    <NA>\n",
       "dtype: Int64"
      ]
     },
     "execution_count": 17,
     "metadata": {},
     "output_type": "execute_result"
    }
   ],
   "source": [
    "nan_series2 = pd.Series([2, None],\n",
    "                        index = ['Ono', 'Clapton'],\n",
    "                        dtype = 'Int64')\n",
    "nan_series2"
   ]
  },
  {
   "cell_type": "code",
   "execution_count": 18,
   "id": "70f511ec-0f98-4ca8-a1d5-de44a2c03e05",
   "metadata": {},
   "outputs": [
    {
     "data": {
      "text/plain": [
       "1"
      ]
     },
     "execution_count": 18,
     "metadata": {},
     "output_type": "execute_result"
    }
   ],
   "source": [
    "nan_series2.count()"
   ]
  },
  {
   "cell_type": "code",
   "execution_count": 19,
   "id": "ee6ac001-25c9-442d-95ed-c8fc1e7baf67",
   "metadata": {},
   "outputs": [
    {
     "data": {
      "text/plain": [
       "Ono           2\n",
       "Clapton    <NA>\n",
       "dtype: Int64"
      ]
     },
     "execution_count": 19,
     "metadata": {},
     "output_type": "execute_result"
    }
   ],
   "source": [
    "# convert data type\n",
    "nan_series.astype('Int64')"
   ]
  },
  {
   "cell_type": "markdown",
   "id": "4ec72a74-8ca4-4cbe-a687-e326ccaa8254",
   "metadata": {},
   "source": [
    "The `Series` object behaves similarly to a NumPy array."
   ]
  },
  {
   "cell_type": "code",
   "execution_count": 20,
   "id": "6834d487-8f4b-44f9-b2a5-cc0acabf74a7",
   "metadata": {},
   "outputs": [
    {
     "data": {
      "text/plain": [
       "(142, 142)"
      ]
     },
     "execution_count": 20,
     "metadata": {},
     "output_type": "execute_result"
    }
   ],
   "source": [
    "numpy_ser = np.array([145, 142, 38, 13])\n",
    "songs3[1], numpy_ser[1]"
   ]
  },
  {
   "cell_type": "markdown",
   "id": "379cb1b6-844d-4374-9096-fef84ae9ffae",
   "metadata": {},
   "source": [
    "They both have methods in common"
   ]
  },
  {
   "cell_type": "code",
   "execution_count": 21,
   "id": "c52267e1-efab-4b7e-939f-a9d4fe19ba11",
   "metadata": {},
   "outputs": [
    {
     "data": {
      "text/plain": [
       "(84.5, 84.5)"
      ]
     },
     "execution_count": 21,
     "metadata": {},
     "output_type": "execute_result"
    }
   ],
   "source": [
    "songs3.mean(), numpy_ser.mean()"
   ]
  },
  {
   "cell_type": "markdown",
   "id": "b398ea69-1479-4fcc-996e-f1eeac59d0b5",
   "metadata": {},
   "source": [
    "They both have a notion of a *boolean array*."
   ]
  },
  {
   "cell_type": "code",
   "execution_count": 22,
   "id": "fd012a5d-c960-4bd9-b077-91af5d4a4e12",
   "metadata": {},
   "outputs": [
    {
     "data": {
      "text/plain": [
       "Paul       True\n",
       "John       True\n",
       "George    False\n",
       "Ringo     False\n",
       "Name: counts, dtype: bool"
      ]
     },
     "execution_count": 22,
     "metadata": {},
     "output_type": "execute_result"
    }
   ],
   "source": [
    "mask = songs3 > songs3.median()\n",
    "mask"
   ]
  },
  {
   "cell_type": "code",
   "execution_count": 23,
   "id": "fb9e6578-21e3-45c9-89ac-98d7614a26f1",
   "metadata": {},
   "outputs": [
    {
     "data": {
      "text/plain": [
       "Paul    145\n",
       "John    142\n",
       "Name: counts, dtype: int64"
      ]
     },
     "execution_count": 23,
     "metadata": {},
     "output_type": "execute_result"
    }
   ],
   "source": [
    "# use mask as a filter\n",
    "songs3[mask]"
   ]
  },
  {
   "cell_type": "code",
   "execution_count": 24,
   "id": "4e04770f-bd0b-414d-a64b-43ca30bcdd00",
   "metadata": {},
   "outputs": [
    {
     "data": {
      "text/plain": [
       "array([145, 142])"
      ]
     },
     "execution_count": 24,
     "metadata": {},
     "output_type": "execute_result"
    }
   ],
   "source": [
    "# NumPy equivalent\n",
    "numpy_ser[numpy_ser > np.median(numpy_ser)]"
   ]
  },
  {
   "cell_type": "markdown",
   "id": "70625fe2-a90c-46a1-982b-73ed84e8ba81",
   "metadata": {},
   "source": [
    "If can indicate that data is categorical. \n",
    "\n",
    "Categorical values:\n",
    "\n",
    "- Use less memory than strings\n",
    "- Impove performance\n",
    "- Can have an ordering\n",
    "- Can perform operations on categories\n",
    "- Enforce membership on values"
   ]
  },
  {
   "cell_type": "code",
   "execution_count": 25,
   "id": "8735b439-0ff5-40b6-89ab-07c212005dba",
   "metadata": {},
   "outputs": [
    {
     "data": {
      "text/plain": [
       "0     m\n",
       "1     l\n",
       "2    xs\n",
       "3     s\n",
       "4    xl\n",
       "dtype: category\n",
       "Categories (5, object): ['l', 'm', 's', 'xl', 'xs']"
      ]
     },
     "execution_count": 25,
     "metadata": {},
     "output_type": "execute_result"
    }
   ],
   "source": [
    "s = pd.Series(['m', 'l', 'xs', 's', 'xl'], dtype = 'category')\n",
    "s"
   ]
  },
  {
   "cell_type": "markdown",
   "id": "3e22fce6-2c8b-4eac-b8ce-99a616672a70",
   "metadata": {},
   "source": [
    "By default categories don't have an ordering."
   ]
  },
  {
   "cell_type": "code",
   "execution_count": 26,
   "id": "dd410231-22a4-4452-9e0d-96da3725ea3f",
   "metadata": {},
   "outputs": [
    {
     "data": {
      "text/plain": [
       "False"
      ]
     },
     "execution_count": 26,
     "metadata": {},
     "output_type": "execute_result"
    }
   ],
   "source": [
    "s.cat.ordered"
   ]
  },
  {
   "cell_type": "markdown",
   "id": "f6fb5dd1-0c17-4451-b062-364255182dfb",
   "metadata": {},
   "source": [
    "Convert non-categorical series to an ordered category:"
   ]
  },
  {
   "cell_type": "code",
   "execution_count": 28,
   "id": "41fc822d-c16b-4c0f-9586-1273c3725318",
   "metadata": {},
   "outputs": [
    {
     "data": {
      "text/plain": [
       "0      m\n",
       "1      l\n",
       "2    NaN\n",
       "3      s\n",
       "4    NaN\n",
       "dtype: category\n",
       "Categories (3, object): ['s' < 'm' < 'l']"
      ]
     },
     "execution_count": 28,
     "metadata": {},
     "output_type": "execute_result"
    }
   ],
   "source": [
    "s2 = pd.Series(['m', 'l', 'xs', 's', 'xl'])\n",
    "\n",
    "size_type = pd.api.types.CategoricalDtype(\n",
    "    categories=['s', 'm', 'l'], ordered = True)\n",
    "\n",
    "s3 = s2.astype(size_type)\n",
    "s3"
   ]
  },
  {
   "cell_type": "code",
   "execution_count": 29,
   "id": "374c8931-00b6-4a44-81f8-3ab8971c9fa7",
   "metadata": {},
   "outputs": [
    {
     "data": {
      "text/plain": [
       "0     True\n",
       "1     True\n",
       "2    False\n",
       "3    False\n",
       "4    False\n",
       "dtype: bool"
      ]
     },
     "execution_count": 29,
     "metadata": {},
     "output_type": "execute_result"
    }
   ],
   "source": [
    "# can perform comparisons on ordered categories\n",
    "s3 > 's'"
   ]
  },
  {
   "cell_type": "code",
   "execution_count": 30,
   "id": "06f740e9-d32c-4134-b5d9-4f3d080f0b48",
   "metadata": {},
   "outputs": [
    {
     "data": {
      "text/plain": [
       "0     m\n",
       "1     l\n",
       "2    xs\n",
       "3     s\n",
       "4    xl\n",
       "dtype: category\n",
       "Categories (5, object): ['xs' < 's' < 'm' < 'l' < 'xl']"
      ]
     },
     "execution_count": 30,
     "metadata": {},
     "output_type": "execute_result"
    }
   ],
   "source": [
    "# add ordering information to categorical data\n",
    "s.cat.reorder_categories(['xs', 's', 'm', 'l', 'xl'], ordered=True)"
   ]
  },
  {
   "cell_type": "markdown",
   "id": "b686464e-49c3-4526-a3cc-7a4de855130b",
   "metadata": {},
   "source": [
    "For strings and dates converted to categorical types, we can still use the `str` or `dt` attributes on them:"
   ]
  },
  {
   "cell_type": "code",
   "execution_count": 31,
   "id": "6a51ac9f-0965-421a-9c60-c1ad990fc90c",
   "metadata": {},
   "outputs": [
    {
     "data": {
      "text/plain": [
       "0      M\n",
       "1      L\n",
       "2    NaN\n",
       "3      S\n",
       "4    NaN\n",
       "dtype: object"
      ]
     },
     "execution_count": 31,
     "metadata": {},
     "output_type": "execute_result"
    }
   ],
   "source": [
    "s3.str.upper()"
   ]
  },
  {
   "cell_type": "markdown",
   "id": "7093f1f1-3fcf-4e51-95bf-07150d13f070",
   "metadata": {},
   "source": [
    "|Method|Description|\n",
    "|:-|:-|\n",
    "|`pd.Series(data=None, index=None, dtype=None, name=None, copy=False)`|Create a series from data (sequence, dictionary or scalar)|\n",
    "|`s.index`|Access index of series.|\n",
    "|`s.astype(dtype, errors='raise')`|Cast a series to `dtype`. To ignore errors (and return original object) use `errors='ignore'`|\n",
    "|`s[boolean_array]`|Return values from `s` where `boolean_array` is `True`|\n",
    "|`s.cat.ordered`|Determine if a categorical series is ordered|\n",
    "|`s.cat.reorder_categories(new_categories, ordered=False)`|Add categories (potentially ordered) to the series. `new_categories` must include all categories."
   ]
  },
  {
   "cell_type": "markdown",
   "id": "bab86221-5690-40a4-9aef-364c19dff8b9",
   "metadata": {},
   "source": [
    "### Exercises\n",
    "1. Using Jupyter, create a series with the temperature values for the last seven days. Filter out the vaues below the mean.\n",
    "2. Using Jupyter, create a series with your favorite colors. Use a categorical type."
   ]
  },
  {
   "cell_type": "code",
   "execution_count": 33,
   "id": "25a40df4-7825-4415-babc-94636762f212",
   "metadata": {},
   "outputs": [
    {
     "data": {
      "text/plain": [
       "5    95\n",
       "6    97\n",
       "dtype: int64"
      ]
     },
     "execution_count": 33,
     "metadata": {},
     "output_type": "execute_result"
    }
   ],
   "source": [
    "# temperature series\n",
    "temps = pd.Series([88, 84, 84, 84, 88, 95, 97 ,88])\n",
    "\n",
    "temps[temps >= temps.mean()]"
   ]
  },
  {
   "cell_type": "code",
   "execution_count": 34,
   "id": "446dc204-410b-4d0f-8007-a6ff30f8259b",
   "metadata": {},
   "outputs": [
    {
     "data": {
      "text/plain": [
       "0            orange\n",
       "1             coral\n",
       "2    midnight green\n",
       "dtype: category\n",
       "Categories (3, object): ['coral', 'midnight green', 'orange']"
      ]
     },
     "execution_count": 34,
     "metadata": {},
     "output_type": "execute_result"
    }
   ],
   "source": [
    "# favorite colors\n",
    "colors_series = pd.Series(['orange', 'coral', 'midnight green'], dtype = 'category')\n",
    "colors_series"
   ]
  },
  {
   "cell_type": "markdown",
   "id": "19b73e97-afd6-4289-8fe8-88cfcc54db00",
   "metadata": {},
   "source": [
    "## Chapter 5: Series Deep Dive"
   ]
  },
  {
   "cell_type": "code",
   "execution_count": 35,
   "id": "2f98804a-c7c9-4821-b13d-51d31a38f8d1",
   "metadata": {},
   "outputs": [
    {
     "name": "stderr",
     "output_type": "stream",
     "text": [
      "/var/folders/5q/_bn7l90s177_2gq7rnhssjxm0000gn/T/ipykernel_76817/221626492.py:4: DtypeWarning: Columns (68,70,71,72,73,74,76,79) have mixed types. Specify dtype option on import or set low_memory=False.\n",
      "  df = pd.read_csv(url)\n"
     ]
    }
   ],
   "source": [
    "# analyze the US Fuel Economy data\n",
    "url = 'https://github.com/mattharrison/datasets/raw/master/data/vehicles.csv.zip'\n",
    "\n",
    "df = pd.read_csv(url)\n",
    "\n",
    "city_mpg = df.city08\n",
    "highway_mpg = df.highway08"
   ]
  },
  {
   "cell_type": "code",
   "execution_count": 36,
   "id": "375476bf-0f0f-4da6-b1d9-ee6aec42e9ac",
   "metadata": {},
   "outputs": [
    {
     "data": {
      "text/plain": [
       "0        19\n",
       "1         9\n",
       "2        23\n",
       "3        10\n",
       "4        17\n",
       "         ..\n",
       "41139    19\n",
       "41140    20\n",
       "41141    18\n",
       "41142    18\n",
       "41143    16\n",
       "Name: city08, Length: 41144, dtype: int64"
      ]
     },
     "execution_count": 36,
     "metadata": {},
     "output_type": "execute_result"
    }
   ],
   "source": [
    "city_mpg"
   ]
  },
  {
   "cell_type": "code",
   "execution_count": 37,
   "id": "81a9dc80-94ee-4ae0-8e95-8c56af6256de",
   "metadata": {},
   "outputs": [
    {
     "data": {
      "text/plain": [
       "0        25\n",
       "1        14\n",
       "2        33\n",
       "3        12\n",
       "4        23\n",
       "         ..\n",
       "41139    26\n",
       "41140    28\n",
       "41141    24\n",
       "41142    24\n",
       "41143    21\n",
       "Name: highway08, Length: 41144, dtype: int64"
      ]
     },
     "execution_count": 37,
     "metadata": {},
     "output_type": "execute_result"
    }
   ],
   "source": [
    "highway_mpg"
   ]
  },
  {
   "cell_type": "markdown",
   "id": "eb53fbc8-f0a1-4709-81ef-446e44896ec3",
   "metadata": {},
   "source": [
    "Because the type is `int64` we know that none of the values are missing."
   ]
  },
  {
   "cell_type": "markdown",
   "id": "546a1882-074a-48e6-8cbc-898294205df1",
   "metadata": {},
   "source": [
    "The `dir` function lists the attributes of an object. A series has 400+ attributes:"
   ]
  },
  {
   "cell_type": "code",
   "execution_count": 38,
   "id": "a0a7bb7b-1884-4e9c-b38d-9c6eee26cdd2",
   "metadata": {},
   "outputs": [
    {
     "data": {
      "text/plain": [
       "412"
      ]
     },
     "execution_count": 38,
     "metadata": {},
     "output_type": "execute_result"
    }
   ],
   "source": [
    "len(dir(city_mpg))"
   ]
  },
  {
   "cell_type": "code",
   "execution_count": 39,
   "id": "a322d18f-817b-472a-a80e-dd4831179a13",
   "metadata": {},
   "outputs": [
    {
     "data": {
      "text/plain": [
       "412"
      ]
     },
     "execution_count": 39,
     "metadata": {},
     "output_type": "execute_result"
    }
   ],
   "source": [
    "len(dir(highway_mpg))"
   ]
  },
  {
   "cell_type": "markdown",
   "id": "ae91f599-c686-4e22-8976-8dd30e3e81ab",
   "metadata": {},
   "source": [
    "Functionality of series attributes:\n",
    "\n",
    "- Dunder methods provide many numeric operations, looping, attribute access, and index access. For the numeric operations, these return `Series`.\n",
    "- Corresponding operator methods for many of the numeric operations allow us to tweak the behavior.\n",
    "- Aggregate methods and properties which reduce or aggregate the values in a series down to a single scalar value.\n",
    "- Conversion methods. Some of these start with `.to_` and export the data to other formats.\n",
    "- Manipulation methods that return `Series` objects with the same index.\n",
    "- Indexing and accessor methods and attributes that return `Series` or scalars.\n",
    "- String manipulation methods using `.str`.\n",
    "- Date manipulation methods using `.dt`.\n",
    "- Plotting methods using `.plot`.\n",
    "- Categorical manipulation methods using `.cat`.\n",
    "- Transformation methods.\n",
    "- Attributes such as `.index` and `.dtype`.\n",
    "- A bunch of private attributes (130 of them) that we'll ignore."
   ]
  },
  {
   "cell_type": "markdown",
   "id": "1d20549e-05b6-4a9b-92a3-78d5bad9da44",
   "metadata": {},
   "source": [
    "### Exercises\n",
    "1. Explore the documentation for five attributes of a series from Jupyter.\n",
    "2. How many attributes are found on the `.str` attribute? Look at the documentation for three of them.\n",
    "3. How many attributes are found on the `.dt` attribute? Look at the documentation for three of them."
   ]
  },
  {
   "cell_type": "code",
   "execution_count": 40,
   "id": "7ba2b8f3-60cf-4575-b2bf-43e47cbec4de",
   "metadata": {},
   "outputs": [
    {
     "data": {
      "text/plain": [
       "array([19,  9, 23, ..., 18, 18, 16])"
      ]
     },
     "execution_count": 40,
     "metadata": {},
     "output_type": "execute_result"
    }
   ],
   "source": [
    "city_mpg.values"
   ]
  },
  {
   "cell_type": "code",
   "execution_count": 41,
   "id": "645afe62-ff3e-4d6d-b72f-459598bc5163",
   "metadata": {},
   "outputs": [
    {
     "data": {
      "text/plain": [
       "[RangeIndex(start=0, stop=41144, step=1)]"
      ]
     },
     "execution_count": 41,
     "metadata": {},
     "output_type": "execute_result"
    }
   ],
   "source": [
    "city_mpg.axes"
   ]
  },
  {
   "cell_type": "code",
   "execution_count": 42,
   "id": "c7373bfd-7158-46ca-9399-f5fb274d2a3f",
   "metadata": {},
   "outputs": [
    {
     "data": {
      "text/plain": [
       "False"
      ]
     },
     "execution_count": 42,
     "metadata": {},
     "output_type": "execute_result"
    }
   ],
   "source": [
    "city_mpg.empty"
   ]
  },
  {
   "cell_type": "code",
   "execution_count": 47,
   "id": "a15e05c1-f6da-4894-84d0-7a130d11f8a4",
   "metadata": {},
   "outputs": [
    {
     "data": {
      "text/plain": [
       "17"
      ]
     },
     "execution_count": 47,
     "metadata": {},
     "output_type": "execute_result"
    }
   ],
   "source": [
    "city_mpg.at[4]"
   ]
  },
  {
   "cell_type": "code",
   "execution_count": 45,
   "id": "62fec06a-2127-4304-a7cb-6cd753d86d90",
   "metadata": {},
   "outputs": [
    {
     "data": {
      "text/plain": [
       "1     9\n",
       "2    23\n",
       "3    10\n",
       "4    17\n",
       "Name: city08, dtype: int64"
      ]
     },
     "execution_count": 45,
     "metadata": {},
     "output_type": "execute_result"
    }
   ],
   "source": [
    "city_mpg.loc[1:4]"
   ]
  },
  {
   "cell_type": "code",
   "execution_count": 52,
   "id": "add373f7-8063-4d91-b27d-715e94c4d1aa",
   "metadata": {},
   "outputs": [
    {
     "data": {
      "text/plain": [
       "98"
      ]
     },
     "execution_count": 52,
     "metadata": {},
     "output_type": "execute_result"
    }
   ],
   "source": [
    "# 98 string attributes\n",
    "len(dir(s2.str))"
   ]
  },
  {
   "cell_type": "code",
   "execution_count": 60,
   "id": "ed7cb5e5-ed22-4b97-bb7c-a2a970404173",
   "metadata": {},
   "outputs": [
    {
     "data": {
      "text/plain": [
       "'m.l.xs.s.xl'"
      ]
     },
     "execution_count": 60,
     "metadata": {},
     "output_type": "execute_result"
    }
   ],
   "source": [
    "s2.str.cat(sep = \".\")"
   ]
  },
  {
   "cell_type": "code",
   "execution_count": 61,
   "id": "c4eb27bf-bb0a-4eb2-83dc-5a348eb5aafd",
   "metadata": {},
   "outputs": [
    {
     "data": {
      "text/plain": [
       "0     M\n",
       "1     L\n",
       "2    Xs\n",
       "3     S\n",
       "4    Xl\n",
       "dtype: object"
      ]
     },
     "execution_count": 61,
     "metadata": {},
     "output_type": "execute_result"
    }
   ],
   "source": [
    "s2.str.capitalize()"
   ]
  },
  {
   "cell_type": "code",
   "execution_count": 63,
   "id": "3c8e3cc6-df5b-4782-a146-04d9a94027fd",
   "metadata": {},
   "outputs": [
    {
     "data": {
      "text/plain": [
       "0    False\n",
       "1     True\n",
       "2    False\n",
       "3    False\n",
       "4     True\n",
       "dtype: bool"
      ]
     },
     "execution_count": 63,
     "metadata": {},
     "output_type": "execute_result"
    }
   ],
   "source": [
    "s2.str.endswith('l')"
   ]
  },
  {
   "cell_type": "code",
   "execution_count": 67,
   "id": "40631032-8c11-4560-a3c7-4261af033341",
   "metadata": {},
   "outputs": [
    {
     "data": {
      "text/plain": [
       "0   2023-01-01\n",
       "1   2023-04-05\n",
       "2   2023-07-06\n",
       "dtype: datetime64[ns]"
      ]
     },
     "execution_count": 67,
     "metadata": {},
     "output_type": "execute_result"
    }
   ],
   "source": [
    "dt_series = pd.Series(['2023-01-01', '2023-04-05', '2023-07-06'])\n",
    "\n",
    "dt_series = pd.to_datetime(dt_series)\n",
    "dt_series"
   ]
  },
  {
   "cell_type": "code",
   "execution_count": 68,
   "id": "667dfdf4-b191-4e59-8126-cd4d1ab7d0ca",
   "metadata": {},
   "outputs": [
    {
     "data": {
      "text/plain": [
       "83"
      ]
     },
     "execution_count": 68,
     "metadata": {},
     "output_type": "execute_result"
    }
   ],
   "source": [
    "len(dir(dt_series.dt))"
   ]
  },
  {
   "cell_type": "code",
   "execution_count": 69,
   "id": "3077ef39-c80b-4328-9b15-c8882055af28",
   "metadata": {},
   "outputs": [
    {
     "data": {
      "text/plain": [
       "0    1\n",
       "1    5\n",
       "2    6\n",
       "dtype: int32"
      ]
     },
     "execution_count": 69,
     "metadata": {},
     "output_type": "execute_result"
    }
   ],
   "source": [
    "dt_series.dt.day"
   ]
  },
  {
   "cell_type": "code",
   "execution_count": 70,
   "id": "93ca8cb2-f6eb-4c14-8218-8215a2a311e7",
   "metadata": {},
   "outputs": [
    {
     "data": {
      "text/plain": [
       "0      1\n",
       "1     95\n",
       "2    187\n",
       "dtype: int32"
      ]
     },
     "execution_count": 70,
     "metadata": {},
     "output_type": "execute_result"
    }
   ],
   "source": [
    "dt_series.dt.day_of_year"
   ]
  },
  {
   "cell_type": "code",
   "execution_count": 71,
   "id": "f31172c0-fe5c-49e6-ab91-4a29e7d5ad7a",
   "metadata": {},
   "outputs": [
    {
     "data": {
      "text/plain": [
       "0    31\n",
       "1    30\n",
       "2    31\n",
       "dtype: int32"
      ]
     },
     "execution_count": 71,
     "metadata": {},
     "output_type": "execute_result"
    }
   ],
   "source": [
    "dt_series.dt.daysinmonth"
   ]
  },
  {
   "cell_type": "markdown",
   "id": "dd2e02aa-4da7-4b31-87b6-d25b26d52794",
   "metadata": {},
   "source": [
    "## Chapter 6: Operators (& Dunder Methods)"
   ]
  },
  {
   "cell_type": "markdown",
   "id": "920f1e20-b408-4df3-ac2f-10691dfb05f9",
   "metadata": {},
   "source": [
    "These are the protocols that determine how the Python language reacts to operations."
   ]
  },
  {
   "cell_type": "code",
   "execution_count": 72,
   "id": "19153ea4-3f81-4da6-abbe-4a2ca1914d14",
   "metadata": {},
   "outputs": [
    {
     "data": {
      "text/plain": [
       "6"
      ]
     },
     "execution_count": 72,
     "metadata": {},
     "output_type": "execute_result"
    }
   ],
   "source": [
    "2 + 4"
   ]
  },
  {
   "cell_type": "code",
   "execution_count": 73,
   "id": "84d20e86-2a9e-48dc-aab6-014b1307855f",
   "metadata": {},
   "outputs": [
    {
     "data": {
      "text/plain": [
       "6"
      ]
     },
     "execution_count": 73,
     "metadata": {},
     "output_type": "execute_result"
    }
   ],
   "source": [
    "# under the cover is\n",
    "(2).__add__(4)"
   ]
  },
  {
   "cell_type": "code",
   "execution_count": 74,
   "id": "0b34df70-4451-4126-9cd5-63e178641d26",
   "metadata": {},
   "outputs": [
    {
     "data": {
      "text/plain": [
       "0        22.0\n",
       "1        11.5\n",
       "2        28.0\n",
       "3        11.0\n",
       "4        20.0\n",
       "         ... \n",
       "41139    22.5\n",
       "41140    24.0\n",
       "41141    21.0\n",
       "41142    21.0\n",
       "41143    18.5\n",
       "Length: 41144, dtype: float64"
      ]
     },
     "execution_count": 74,
     "metadata": {},
     "output_type": "execute_result"
    }
   ],
   "source": [
    "(city_mpg + highway_mpg) / 2"
   ]
  },
  {
   "cell_type": "markdown",
   "id": "7b4749bd-7dc8-4210-85d6-ae8d06086348",
   "metadata": {},
   "source": [
    "When you operate with two series, pandas will *align* the index before performing the operation. Because of index alignment, you will want to make sure that the indexes:\n",
    "- are unique\n",
    "- are common to both series"
   ]
  },
  {
   "cell_type": "code",
   "execution_count": 75,
   "id": "51bad01b-796f-44cc-b9dc-5371fbec4509",
   "metadata": {},
   "outputs": [],
   "source": [
    "# example of series with repeated and non-common indexes\n",
    "s1 = pd.Series([10, 20, 30], index=[1,2,2])\n",
    "s2 = pd.Series([35, 44, 53], index=[2,2,4], name = 's2')"
   ]
  },
  {
   "cell_type": "code",
   "execution_count": 76,
   "id": "d60a0258-988b-4ab7-8a9c-6034ebe3ce3b",
   "metadata": {},
   "outputs": [
    {
     "data": {
      "text/plain": [
       "1    10\n",
       "2    20\n",
       "2    30\n",
       "dtype: int64"
      ]
     },
     "execution_count": 76,
     "metadata": {},
     "output_type": "execute_result"
    }
   ],
   "source": [
    "s1"
   ]
  },
  {
   "cell_type": "code",
   "execution_count": 77,
   "id": "6d786103-e70b-4120-bac9-938ebc871f93",
   "metadata": {},
   "outputs": [
    {
     "data": {
      "text/plain": [
       "2    35\n",
       "2    44\n",
       "4    53\n",
       "Name: s2, dtype: int64"
      ]
     },
     "execution_count": 77,
     "metadata": {},
     "output_type": "execute_result"
    }
   ],
   "source": [
    "s2"
   ]
  },
  {
   "cell_type": "code",
   "execution_count": 78,
   "id": "fd6e2be4-0a88-417d-8d1a-e81e5d5187ae",
   "metadata": {},
   "outputs": [
    {
     "data": {
      "text/plain": [
       "1     NaN\n",
       "2    55.0\n",
       "2    64.0\n",
       "2    65.0\n",
       "2    74.0\n",
       "4     NaN\n",
       "dtype: float64"
      ]
     },
     "execution_count": 78,
     "metadata": {},
     "output_type": "execute_result"
    }
   ],
   "source": [
    "# index 1 and 4 have NaN\n",
    "# index 2 has four results\n",
    "s1 + s2"
   ]
  },
  {
   "cell_type": "markdown",
   "id": "07f7f033-abad-4492-9bff-0f6ac9158d28",
   "metadata": {},
   "source": [
    "When you perform math operations with a scalar, pandas *broadcasts* the operation to all values. A numeric pandas series is a block of memory, and modern CPUs leverage a technology called Single Instruction/Multiple Data (SIMD) to apply a math operation to the block of memory."
   ]
  },
  {
   "cell_type": "code",
   "execution_count": 79,
   "id": "8cf3e0a1-d567-4f7a-a16c-d5afa66f60f6",
   "metadata": {},
   "outputs": [
    {
     "data": {
      "text/plain": [
       "1    10.0\n",
       "2    55.0\n",
       "2    64.0\n",
       "2    65.0\n",
       "2    74.0\n",
       "4    53.0\n",
       "dtype: float64"
      ]
     },
     "execution_count": 79,
     "metadata": {},
     "output_type": "execute_result"
    }
   ],
   "source": [
    "# use `fill_value` parameter to replace missing operands\n",
    "s1.add(s2, fill_value = 0)"
   ]
  },
  {
   "cell_type": "markdown",
   "id": "bd88b362-06d0-43c4-b160-d287d48f0df8",
   "metadata": {},
   "source": [
    "Chaining makes the code easy to read and understand"
   ]
  },
  {
   "cell_type": "code",
   "execution_count": 81,
   "id": "7396e2da-9cde-4de6-9e9c-65ac32b73037",
   "metadata": {},
   "outputs": [
    {
     "data": {
      "text/plain": [
       "0        22.0\n",
       "1        11.5\n",
       "2        28.0\n",
       "3        11.0\n",
       "4        20.0\n",
       "         ... \n",
       "41139    22.5\n",
       "41140    24.0\n",
       "41141    21.0\n",
       "41142    21.0\n",
       "41143    18.5\n",
       "Length: 41144, dtype: float64"
      ]
     },
     "execution_count": 81,
     "metadata": {},
     "output_type": "execute_result"
    }
   ],
   "source": [
    "(city_mpg\n",
    "    .add(highway_mpg)\n",
    "    .div(2))"
   ]
  },
  {
   "cell_type": "markdown",
   "id": "bd3ccd82-26da-42e8-a487-f522265d6d48",
   "metadata": {},
   "source": [
    "|Method|Operator|Description|\n",
    "|:-|:-|:-|\n",
    "|`s.add(s2)`|`s + s2`|Adds series|\n",
    "|`s.radd(s2)`|`s2 + s`|Adds series|\n",
    "|`s.sub(s2)`|`s - s2`|Subtracts series|\n",
    "|`s.rsub(s2)`|`s2 - s`|Subtracts series|\n",
    "|`s.mul(s2)`|`s * s2`|Multiplies series|\n",
    "|`s.multiply(s2)`|`s * s2`|Multiplies series|\n",
    "|`s.rmul(s2)`|`s2 * s`|Multiplies series|\n",
    "|`s.div(s2)`|`s / s2`|Divides series|\n",
    "|`s.truediv(s2)`|`s / s2`|Divides series|\n",
    "|`s.rdiv(s2)`|`s2 / s`|Divides series|\n",
    "|`s.rtruediv(s2)`|`s2 / s`|Divides series|\n",
    "|`s.mod(s2)`|`s % s2`|Modulo of series division|\n",
    "|`s.rmod(s2)`|`s2 % s`|Modulo of series division|\n",
    "|`s.floordiv(s2)`|`s // s2`|Floor divide series|\n",
    "|`s.rfloordiv(s2)`|`s2 // s`|Floor divide series|\n",
    "|`s.pow(s2)`|`s ** s2`|Exponential power of series|\n",
    "|`s.rpow(s2)`|`s2 ** s`|Exponential power of series|\n",
    "|`s.eq(s2)`|`s2 == s`|Elementwise equals of series|\n",
    "|`s.ne(s2)`|`s2 != s`|Elementwise not equals of series|\n",
    "|`s.gt(s2)`|`s > s2`|Elementwise greater than of series|\n",
    "|`s.ge(s2)`|`s >= s2`|Elementwise greater than or equals of series|\n",
    "|`s.lt(s2)`|`s < s2`|Elementwise less than of series|\n",
    "|`s.le(s2)`|`s <= s2`|Elementwise less than or equals of series|\n",
    "|`np.invert(s)`|`~s`|Elementwise inversion of boolean series (no pandas method)|\n",
    "|`np.logical_and(s, s2)`|`s & s2`|Elementwise logical and of boolean series (no pandas method)|\n",
    "|`np.logical_or(s, s2)`|`s \\| s2`|Elementwise logical or of boolean series (no pandas method)|"
   ]
  },
  {
   "cell_type": "markdown",
   "id": "a0121d10-fa19-42f8-a2ac-61cb09ce5afb",
   "metadata": {},
   "source": [
    "## Exercise\n",
    "With a dataset of your choice:\n",
    "1. Add a numeric series to itself.\n",
    "2. Add 10 to a numeric series.\n",
    "3. Add a numeric series to itself using the `.add` method.\n",
    "4. Read the documentation for the `.add` method."
   ]
  },
  {
   "cell_type": "code",
   "execution_count": 82,
   "id": "8d05b884-8d86-4348-9fbb-8ebf6a4a80b6",
   "metadata": {},
   "outputs": [
    {
     "data": {
      "text/plain": [
       "0        38\n",
       "1        18\n",
       "2        46\n",
       "3        20\n",
       "4        34\n",
       "         ..\n",
       "41139    38\n",
       "41140    40\n",
       "41141    36\n",
       "41142    36\n",
       "41143    32\n",
       "Name: city08, Length: 41144, dtype: int64"
      ]
     },
     "execution_count": 82,
     "metadata": {},
     "output_type": "execute_result"
    }
   ],
   "source": [
    "city_mpg + city_mpg"
   ]
  },
  {
   "cell_type": "code",
   "execution_count": 83,
   "id": "b43c4184-f016-4304-994d-bcd384890804",
   "metadata": {},
   "outputs": [
    {
     "data": {
      "text/plain": [
       "0        29\n",
       "1        19\n",
       "2        33\n",
       "3        20\n",
       "4        27\n",
       "         ..\n",
       "41139    29\n",
       "41140    30\n",
       "41141    28\n",
       "41142    28\n",
       "41143    26\n",
       "Name: city08, Length: 41144, dtype: int64"
      ]
     },
     "execution_count": 83,
     "metadata": {},
     "output_type": "execute_result"
    }
   ],
   "source": [
    "city_mpg + 10"
   ]
  },
  {
   "cell_type": "code",
   "execution_count": 84,
   "id": "5184c256-93e9-41cf-bd59-88c7afe20092",
   "metadata": {},
   "outputs": [
    {
     "data": {
      "text/plain": [
       "0        38\n",
       "1        18\n",
       "2        46\n",
       "3        20\n",
       "4        34\n",
       "         ..\n",
       "41139    38\n",
       "41140    40\n",
       "41141    36\n",
       "41142    36\n",
       "41143    32\n",
       "Name: city08, Length: 41144, dtype: int64"
      ]
     },
     "execution_count": 84,
     "metadata": {},
     "output_type": "execute_result"
    }
   ],
   "source": [
    "city_mpg.add(city_mpg)"
   ]
  },
  {
   "cell_type": "code",
   "execution_count": 86,
   "id": "426fbe44-5b45-4697-b7ac-c9a354ba7805",
   "metadata": {},
   "outputs": [],
   "source": [
    "# experimenting with fill_value parameter\n",
    "nan_series3 = pd.Series([2, None])\n",
    "nan_series4 = pd.Series([3, None])"
   ]
  },
  {
   "cell_type": "code",
   "execution_count": 87,
   "id": "f4b3d39b-f062-43b6-8603-50fe1c430174",
   "metadata": {},
   "outputs": [
    {
     "data": {
      "text/plain": [
       "0    2.0\n",
       "1    NaN\n",
       "dtype: float64"
      ]
     },
     "execution_count": 87,
     "metadata": {},
     "output_type": "execute_result"
    }
   ],
   "source": [
    "nan_series3"
   ]
  },
  {
   "cell_type": "code",
   "execution_count": 88,
   "id": "c8ba4030-2fc1-44df-8f5a-fe1500d17fef",
   "metadata": {},
   "outputs": [
    {
     "data": {
      "text/plain": [
       "0    3.0\n",
       "1    NaN\n",
       "dtype: float64"
      ]
     },
     "execution_count": 88,
     "metadata": {},
     "output_type": "execute_result"
    }
   ],
   "source": [
    "nan_series4"
   ]
  },
  {
   "cell_type": "code",
   "execution_count": 89,
   "id": "0fcc95b3-f5a5-4f82-b897-08d0a6ce7f46",
   "metadata": {},
   "outputs": [
    {
     "data": {
      "text/plain": [
       "0    5.0\n",
       "1    NaN\n",
       "dtype: float64"
      ]
     },
     "execution_count": 89,
     "metadata": {},
     "output_type": "execute_result"
    }
   ],
   "source": [
    "# two corresponding NaN values stay NaN\n",
    "# even with fill_value = 0\n",
    "nan_series3.add(nan_series4, fill_value=0)"
   ]
  },
  {
   "cell_type": "markdown",
   "id": "5a722d6b-b034-4354-9cb0-244f4ce499aa",
   "metadata": {},
   "source": [
    "## Chapter 7: Aggregate Methods"
   ]
  },
  {
   "cell_type": "markdown",
   "id": "c5d4f4f9-355b-40d7-92e9-bae4cdc54ce6",
   "metadata": {},
   "source": [
    "Aggregate methods collapse the values of a series down to a scalar."
   ]
  },
  {
   "cell_type": "code",
   "execution_count": 90,
   "id": "cb4115d9-5173-4ae7-91e5-80c90fcfdf88",
   "metadata": {},
   "outputs": [
    {
     "data": {
      "text/plain": [
       "18.369045304297103"
      ]
     },
     "execution_count": 90,
     "metadata": {},
     "output_type": "execute_result"
    }
   ],
   "source": [
    "# calculate the mean\n",
    "city_mpg.mean()"
   ]
  },
  {
   "cell_type": "code",
   "execution_count": 91,
   "id": "f1e5dd49-6e42-4f95-a0a0-d5a38d1ac67f",
   "metadata": {},
   "outputs": [
    {
     "data": {
      "text/plain": [
       "False"
      ]
     },
     "execution_count": 91,
     "metadata": {},
     "output_type": "execute_result"
    }
   ],
   "source": [
    "city_mpg.is_unique"
   ]
  },
  {
   "cell_type": "code",
   "execution_count": 92,
   "id": "560b5b7d-ece1-4eb8-b3e1-1e96da1f0602",
   "metadata": {},
   "outputs": [
    {
     "data": {
      "text/plain": [
       "True"
      ]
     },
     "execution_count": 92,
     "metadata": {},
     "output_type": "execute_result"
    }
   ],
   "source": [
    "pd.Series([1,2,3]).is_unique"
   ]
  },
  {
   "cell_type": "code",
   "execution_count": 93,
   "id": "537e00fb-0097-437d-80cc-0332ba99902d",
   "metadata": {},
   "outputs": [
    {
     "data": {
      "text/plain": [
       "False"
      ]
     },
     "execution_count": 93,
     "metadata": {},
     "output_type": "execute_result"
    }
   ],
   "source": [
    "city_mpg.is_monotonic_increasing"
   ]
  },
  {
   "cell_type": "code",
   "execution_count": 94,
   "id": "0c29e8e5-6145-4641-b81f-08dfb7594984",
   "metadata": {},
   "outputs": [
    {
     "data": {
      "text/plain": [
       "True"
      ]
     },
     "execution_count": 94,
     "metadata": {},
     "output_type": "execute_result"
    }
   ],
   "source": [
    "pd.Series([1,2,3]).is_monotonic_increasing"
   ]
  },
  {
   "cell_type": "code",
   "execution_count": 95,
   "id": "18b10310-e461-4815-a055-43da586c53dd",
   "metadata": {},
   "outputs": [
    {
     "data": {
      "text/plain": [
       "17.0"
      ]
     },
     "execution_count": 95,
     "metadata": {},
     "output_type": "execute_result"
    }
   ],
   "source": [
    "# default is median (50% quantile)\n",
    "city_mpg.quantile()"
   ]
  },
  {
   "cell_type": "code",
   "execution_count": 96,
   "id": "b2ae3086-59a4-4c5d-a3c2-1ef5c76f108c",
   "metadata": {},
   "outputs": [
    {
     "data": {
      "text/plain": [
       "24.0"
      ]
     },
     "execution_count": 96,
     "metadata": {},
     "output_type": "execute_result"
    }
   ],
   "source": [
    "city_mpg.quantile(0.9)"
   ]
  },
  {
   "cell_type": "code",
   "execution_count": 97,
   "id": "c1675e50-19c3-419f-8e77-51c81ab22ee1",
   "metadata": {},
   "outputs": [
    {
     "data": {
      "text/plain": [
       "0.1    13.0\n",
       "0.5    17.0\n",
       "0.9    24.0\n",
       "Name: city08, dtype: float64"
      ]
     },
     "execution_count": 97,
     "metadata": {},
     "output_type": "execute_result"
    }
   ],
   "source": [
    "# multiple quantiles returns a Series\n",
    "city_mpg.quantile([0.1, 0.5, 0.9])"
   ]
  },
  {
   "cell_type": "markdown",
   "id": "42bc1103-2d43-4165-92c7-90f9e55a77d0",
   "metadata": {},
   "source": [
    "If you want the count of values that meet some criteria, you can use the `.sum` method:"
   ]
  },
  {
   "cell_type": "code",
   "execution_count": 98,
   "id": "6dda8b0b-8333-4f30-b654-7177a776a30a",
   "metadata": {},
   "outputs": [
    {
     "data": {
      "text/plain": [
       "10272"
      ]
     },
     "execution_count": 98,
     "metadata": {},
     "output_type": "execute_result"
    }
   ],
   "source": [
    "# count of cars with mileage greater than 20\n",
    "(city_mpg\n",
    "     .gt(20)\n",
    "     .sum()\n",
    ")"
   ]
  },
  {
   "cell_type": "code",
   "execution_count": 99,
   "id": "d09b3a5a-bbd1-43f2-ad1c-fb581eeef160",
   "metadata": {},
   "outputs": [
    {
     "data": {
      "text/plain": [
       "24.965973167412017"
      ]
     },
     "execution_count": 99,
     "metadata": {},
     "output_type": "execute_result"
    }
   ],
   "source": [
    "# percentage of cars with mileage greater than 20\n",
    "(city_mpg\n",
    "     .gt(20)\n",
    "     .mul(100)\n",
    "     .mean()\n",
    ")"
   ]
  },
  {
   "cell_type": "code",
   "execution_count": 100,
   "id": "d5568590-be1c-4a35-b9f0-951db2d76dba",
   "metadata": {},
   "outputs": [
    {
     "data": {
      "text/plain": [
       "0      0\n",
       "1      0\n",
       "2    100\n",
       "3    100\n",
       "dtype: int64"
      ]
     },
     "execution_count": 100,
     "metadata": {},
     "output_type": "execute_result"
    }
   ],
   "source": [
    "(pd.Series([1,2,3,4])\n",
    "    .gt(2)\n",
    "    .mul(100)\n",
    ")"
   ]
  },
  {
   "cell_type": "code",
   "execution_count": 102,
   "id": "bad38449-f0bf-4b1d-a777-29eea46b1dab",
   "metadata": {},
   "outputs": [
    {
     "data": {
      "text/plain": [
       "50.0"
      ]
     },
     "execution_count": 102,
     "metadata": {},
     "output_type": "execute_result"
    }
   ],
   "source": [
    "(pd.Series([1,2,3,4])\n",
    "     .gt(2)\n",
    "     .mul(100)\n",
    "     .mean()   \n",
    ")"
   ]
  },
  {
   "cell_type": "markdown",
   "id": "ccb51ace-1b4a-4017-8289-2efef1db0211",
   "metadata": {},
   "source": [
    "If you sum up a series of boolean values, the result is the count of `True` values. If you take the mean of a series of boolean values, the result is the fraction of values that are `True`.\n",
    "\n",
    "`.agg` can perform multiple operations."
   ]
  },
  {
   "cell_type": "code",
   "execution_count": 103,
   "id": "1a4b7b93-885b-4986-979d-5c5912455e8f",
   "metadata": {},
   "outputs": [
    {
     "data": {
      "text/plain": [
       "18.369045304297103"
      ]
     },
     "execution_count": 103,
     "metadata": {},
     "output_type": "execute_result"
    }
   ],
   "source": [
    "city_mpg.agg('mean')"
   ]
  },
  {
   "cell_type": "code",
   "execution_count": 104,
   "id": "b1c5ff16-178b-4bef-a4e0-f7e09cbbccfb",
   "metadata": {},
   "outputs": [],
   "source": [
    "def second_to_last(s):\n",
    "    return s.iloc[-2]"
   ]
  },
  {
   "cell_type": "code",
   "execution_count": 105,
   "id": "1d06195c-6836-484e-b135-9d7d3d6eab9b",
   "metadata": {},
   "outputs": [
    {
     "data": {
      "text/plain": [
       "mean               18.369045\n",
       "var                62.503036\n",
       "max               150.000000\n",
       "second_to_last     18.000000\n",
       "Name: city08, dtype: float64"
      ]
     },
     "execution_count": 105,
     "metadata": {},
     "output_type": "execute_result"
    }
   ],
   "source": [
    "city_mpg.agg(['mean', np.var, max, second_to_last])"
   ]
  },
  {
   "cell_type": "markdown",
   "id": "577a9163-a668-4818-80f2-1b404085e8a5",
   "metadata": {},
   "source": [
    "Aggregation strings and descriptions:\n",
    "\n",
    "|Method|Description|\n",
    "|:-|:-|\n",
    "|`'all'`|Returns `True` if every value is truthy.|\n",
    "|`'any'`|Returns `True` if any value is truthy.|\n",
    "|`'autocorr'`|Returns Pearson correlation of series with shifted self. Can override `lag` as keyword argument (default is 1).|\n",
    "|`'corr'`|Returns Pearson correlation of series with other series. Need to specify `other`|\n",
    "|`'count'`|Returns count of non-missing values.|\n",
    "|`'cov'`|Returns covariance of series with other series. Need to specify `other`|\n",
    "|`'dtype'`|Type of the series.|\n",
    "|`'dtypes'`|Type of the series.|\n",
    "|`'empty'`|`True` is no values in series.|\n",
    "|`'hasnans'`|`True` if missing values in series.|\n",
    "|`'idxmax'`|Returns index value of maximum value.|\n",
    "|`'idxmin'`|Returns index value of minimum value.|\n",
    "|`'is_monotonic'`|`True` if values always increase.|\n",
    "|`'is_monotonic_decreasing'`|`True` if values always decrease.|\n",
    "|`'is_monotonic_increasing'`|`True` if values always increase.|\n",
    "|`'kurt'`|Returns \"excess\" kurtosis (0 is normal distribution). Values greater than 0 have more outliers than normal.|\n",
    "|`'mad'`|Returns the mean absolute deviation.|\n",
    "|`'max'`|Returns the maximum value.|\n",
    "|`'mean'`|Returns the mean value.|\n",
    "|`'median'`|Returns the median value.|\n",
    "|`'min'`|Returns the minimum value.|\n",
    "|`'nbytes'`|Returns the number of bytes of the data.|\n",
    "|`'ndim'`|Return the number of dimensions (1) of the data.|\n",
    "|`'nunique'`|Returns the count of unique values.|\n",
    "|`'quantile'`|Returns the median value. Can override `q` to specify other quantile.|\n",
    "|`'sem'`|Returns the unbiarsed standard error.|\n",
    "|`'size'`|Returns the size of the data.|\n",
    "|`'skew'`|Returns the unbiased skew of the data. Negative indicates tail is on the left side.|\n",
    "|`'std'`|Returns the standard deviation of the data.|\n",
    "|`'sum'`|Returns the sum of the series.|"
   ]
  },
  {
   "cell_type": "markdown",
   "id": "3eeb6dd5-0226-42eb-9a7a-a6b486da0a1b",
   "metadata": {},
   "source": [
    "Aggregation methods and properties:\n",
    "\n",
    "|Method|Description|\n",
    "|:-|:-|\n",
    "|`s.agg(func=None, axis=0, *args, **kwargs)`|Returns a scalar if `func` is a single aggregation function. Returns a series if a list of aggregations are passed to `func`.|\n",
    "|`s.all(axis=0, bool_only=None, skipna=True, level=None)`||\n",
    "|`s.any(axis=0, bool_only=None, skipna=True, level=None)`||\n",
    "|`s.autocorr(lag=1)`||\n",
    "|`s.corr(other, method='pearson')`||\n",
    "|`s.cov(other, min_periods=None)`||\n",
    "|`s.max(axis=None, skipna=None, level=None, numeric_only=None)`||\n",
    "|`s.min(axis=None, skipna=None, level=None, numeric_only=None)`||\n",
    "|`s.mean(axis=None, skipna=None, level=None, numeric_only=None)`||\n",
    "|`s.median(axis=None, skipna=None, level=None, numeric_only=None)`||\n",
    "|`s.prod(axis=None, skipna=None, level=None, numeric_only=None, min_count=0)`||\n",
    "|`s.quantile(q=0.5, interpolation='linear')`||\n",
    "|`s.sem(axis=None, skipna=None, level=None, ddof=1, numeric_only=None)`||\n",
    "|`s.std(axis=None, skipna=None, level=None, ddof=1, numeric_only=None)`||\n",
    "|`s.var(axis=None, skipna=None, level=None, ddof=1, numeric_only=None)`||\n",
    "|`s.skew(axis=None, skipna=None, level=None, numeric_only=None)`||\n",
    "|`s.kurtosis(axis=None, skipna=None, level=None, numeric_only=None)`||\n",
    "|`s.nunique(dropna=True)`||\n",
    "|`s.count(level=None)`||\n",
    "|`s.size`||\n",
    "|`s.is_unique`||\n",
    "|`s.is_monotonic`||\n",
    "|`s.is_monotonic_increasing`||\n",
    "|`s.is_monotonic_decreasing`||"
   ]
  },
  {
   "cell_type": "code",
   "execution_count": null,
   "id": "20d349a8-ae76-4a9d-850e-aaf771eba7da",
   "metadata": {},
   "outputs": [],
   "source": []
  }
 ],
 "metadata": {
  "kernelspec": {
   "display_name": "effective_pandas",
   "language": "python",
   "name": "effective_pandas"
  },
  "language_info": {
   "codemirror_mode": {
    "name": "ipython",
    "version": 3
   },
   "file_extension": ".py",
   "mimetype": "text/x-python",
   "name": "python",
   "nbconvert_exporter": "python",
   "pygments_lexer": "ipython3",
   "version": "3.10.12"
  }
 },
 "nbformat": 4,
 "nbformat_minor": 5
}

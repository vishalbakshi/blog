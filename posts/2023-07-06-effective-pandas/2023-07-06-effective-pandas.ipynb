{
 "cells": [
  {
   "cell_type": "raw",
   "id": "c878a387-7766-46b1-a055-a2110904bacd",
   "metadata": {},
   "source": [
    "---\n",
    "title: Effective Pandas - Notes and Exercises\n",
    "date: \"2023-07-06\"\n",
    "author: Vishal Bakshi\n",
    "description: An update on my progress in the book \"Effective Pandas\" by Matt Harrison.\n",
    "categories:\n",
    "    - data analysis\n",
    "    - python\n",
    "---"
   ]
  },
  {
   "cell_type": "markdown",
   "id": "8984c320-68ee-43c7-bd0d-ef7112d933b8",
   "metadata": {},
   "source": [
    "In this blog post, I work through the book [Effective Pandas by Matt Harrison](https://www.amazon.com/Effective-Pandas-Patterns-Manipulation-Treading/dp/B09MYXXSFM/ref=sr_1_1?crid=1ZS9KD8F19ZMT&keywords=effective+pandas&qid=1688689886&sprefix=effective+pa%2Caps%2C518&sr=8-1). I'll take notes, work through examples and end-of-chapter exercises."
   ]
  },
  {
   "cell_type": "markdown",
   "id": "3849e41e-a5f4-4d26-bfb3-864054152fa3",
   "metadata": {},
   "source": [
    "## Chapter 4: Series Introduction"
   ]
  },
  {
   "cell_type": "markdown",
   "id": "0d7684c1-35b4-4d87-a9a2-2d9e870ba379",
   "metadata": {},
   "source": [
    "Represent the following data in pure python:\n",
    "\n",
    "|Artist|Data|\n",
    "|:-|:-|\n",
    "|0|145|\n",
    "|1|142|\n",
    "|2|38|\n",
    "|3|13|"
   ]
  },
  {
   "cell_type": "code",
   "execution_count": 1,
   "id": "40348f1f-74bd-4b07-a189-7aea7cd34695",
   "metadata": {},
   "outputs": [
    {
     "data": {
      "text/plain": [
       "{'index': [0, 1, 2, 3], 'data': [145, 142, 38, 13], 'name': 'songs'}"
      ]
     },
     "execution_count": 1,
     "metadata": {},
     "output_type": "execute_result"
    }
   ],
   "source": [
    "series = {\n",
    "    'index': [0, 1, 2, 3],\n",
    "    'data': [145, 142, 38, 13],\n",
    "    'name': 'songs'\n",
    "}\n",
    "\n",
    "series"
   ]
  },
  {
   "cell_type": "markdown",
   "id": "303fbf4b-5096-44f1-946e-26b93f3c98d8",
   "metadata": {},
   "source": [
    "The `get` function below can pull items out of this data structure based on the index:"
   ]
  },
  {
   "cell_type": "code",
   "execution_count": 2,
   "id": "0f0b994c-a473-44f1-8294-0b4e0d5e4e82",
   "metadata": {},
   "outputs": [],
   "source": [
    "def get(series, idx):\n",
    "    value_idx = series['index'].index(idx)\n",
    "    return series['data'][value_idx]"
   ]
  },
  {
   "cell_type": "code",
   "execution_count": 3,
   "id": "dd077395-bf2b-4907-9f29-fc13bd5775da",
   "metadata": {},
   "outputs": [
    {
     "data": {
      "text/plain": [
       "142"
      ]
     },
     "execution_count": 3,
     "metadata": {},
     "output_type": "execute_result"
    }
   ],
   "source": [
    "get(series, 1)"
   ]
  },
  {
   "cell_type": "markdown",
   "id": "01b3532b-0b0d-4f6f-85e5-e504648dec85",
   "metadata": {},
   "source": [
    "The `index` method on the list returns the list element at the provided index value."
   ]
  },
  {
   "cell_type": "code",
   "execution_count": 4,
   "id": "3164d57a-984e-4f69-9632-480cf2c106c9",
   "metadata": {},
   "outputs": [
    {
     "data": {
      "text/plain": [
       "1"
      ]
     },
     "execution_count": 4,
     "metadata": {},
     "output_type": "execute_result"
    }
   ],
   "source": [
    "[0, 1, 2, 3].index(1)"
   ]
  },
  {
   "cell_type": "markdown",
   "id": "df5c9337-c718-4738-bde6-a87eda5c4f6d",
   "metadata": {},
   "source": [
    "Below is an example that has string values for the index:"
   ]
  },
  {
   "cell_type": "code",
   "execution_count": 5,
   "id": "779405ba-b630-4a9f-bf98-809a74049e2a",
   "metadata": {},
   "outputs": [],
   "source": [
    "songs = {\n",
    "    'index': ['Paul', 'John', 'George', 'Ringo'],\n",
    "    'data': [145, 142, 38, 13],\n",
    "    'name': 'songs'\n",
    "}"
   ]
  },
  {
   "cell_type": "code",
   "execution_count": 6,
   "id": "1cbf0fcd-8866-4413-b74d-138e6224a432",
   "metadata": {},
   "outputs": [
    {
     "data": {
      "text/plain": [
       "142"
      ]
     },
     "execution_count": 6,
     "metadata": {},
     "output_type": "execute_result"
    }
   ],
   "source": [
    "get(songs, 'John')"
   ]
  },
  {
   "cell_type": "markdown",
   "id": "7c8d7262-5fc7-41a6-ad86-1afcedb526c3",
   "metadata": {},
   "source": [
    "Create a `Series` object from a list:"
   ]
  },
  {
   "cell_type": "code",
   "execution_count": 7,
   "id": "b8c5b300-83a3-44b1-b135-9f9dd34fd765",
   "metadata": {},
   "outputs": [],
   "source": [
    "import pandas as pd"
   ]
  },
  {
   "cell_type": "code",
   "execution_count": 8,
   "id": "edd4070f-7ce3-41e7-bbfe-0f439d9ca314",
   "metadata": {},
   "outputs": [
    {
     "data": {
      "text/plain": [
       "0    145\n",
       "1    142\n",
       "2     38\n",
       "3     13\n",
       "Name: counts, dtype: int64"
      ]
     },
     "execution_count": 8,
     "metadata": {},
     "output_type": "execute_result"
    }
   ],
   "source": [
    "songs2 = pd.Series([145, 142, 38, 13], name = 'counts')\n",
    "songs2"
   ]
  },
  {
   "cell_type": "markdown",
   "id": "c45937e7-3954-4d74-ab41-58592d55eaa7",
   "metadata": {},
   "source": [
    "The series is one-dimensional. The leftmost column is the *index*, also called the *axis*. The data (145, 142, 38, 13) is also called the *values* of the series. A `DataFrame` has two axes, one for the rows and another for the columns."
   ]
  },
  {
   "cell_type": "code",
   "execution_count": 9,
   "id": "1f4d99d4-e32a-4c1d-8462-2eceaf2c16bb",
   "metadata": {},
   "outputs": [
    {
     "data": {
      "text/plain": [
       "RangeIndex(start=0, stop=4, step=1)"
      ]
     },
     "execution_count": 9,
     "metadata": {},
     "output_type": "execute_result"
    }
   ],
   "source": [
    "songs2.index"
   ]
  },
  {
   "cell_type": "markdown",
   "id": "dd75db69-8467-4381-a698-3289704e8dbd",
   "metadata": {},
   "source": [
    "The default values for an index are monotonically increasing integers. The index can be string-based as well (datatype for the index is `object`)."
   ]
  },
  {
   "cell_type": "code",
   "execution_count": 10,
   "id": "a26f8e79-d583-45b4-8f75-659ab0c717e7",
   "metadata": {},
   "outputs": [
    {
     "data": {
      "text/plain": [
       "Paul      145\n",
       "John      142\n",
       "George     38\n",
       "Ringo      13\n",
       "Name: counts, dtype: int64"
      ]
     },
     "execution_count": 10,
     "metadata": {},
     "output_type": "execute_result"
    }
   ],
   "source": [
    "songs3 = pd.Series([145, 142, 38, 13],\n",
    "                   name = 'counts',\n",
    "                   index = ['Paul', 'John', 'George', 'Ringo'])\n",
    "songs3"
   ]
  },
  {
   "cell_type": "code",
   "execution_count": 11,
   "id": "d7092434-fbb2-40d3-a40c-9710c9dd8a92",
   "metadata": {},
   "outputs": [
    {
     "data": {
      "text/plain": [
       "Index(['Paul', 'John', 'George', 'Ringo'], dtype='object')"
      ]
     },
     "execution_count": 11,
     "metadata": {},
     "output_type": "execute_result"
    }
   ],
   "source": [
    "songs3.index"
   ]
  },
  {
   "cell_type": "markdown",
   "id": "90e49366-c0c5-4867-8e6c-d7fac4e7a5e4",
   "metadata": {},
   "source": [
    "We can insert Python objects into a series:"
   ]
  },
  {
   "cell_type": "code",
   "execution_count": 12,
   "id": "4daba74a-1118-4e8b-a19c-cd6700aad47f",
   "metadata": {},
   "outputs": [
    {
     "data": {
      "text/plain": [
       "0                                 Richard\n",
       "1                                 Starkey\n",
       "2                                      13\n",
       "3    <__main__.Foo object at 0x135016ce0>\n",
       "Name: ringo, dtype: object"
      ]
     },
     "execution_count": 12,
     "metadata": {},
     "output_type": "execute_result"
    }
   ],
   "source": [
    "class Foo:\n",
    "    pass\n",
    "\n",
    "ringo = pd.Series(\n",
    "    ['Richard', 'Starkey', 13, Foo()],\n",
    "    name = 'ringo')\n",
    "\n",
    "ringo"
   ]
  },
  {
   "cell_type": "markdown",
   "id": "c097d0a0-ff8e-4119-a945-6b359f855cd3",
   "metadata": {},
   "source": [
    "The `object` data type is also used for a series with string values and values that have heterogeneous or mixed types."
   ]
  },
  {
   "cell_type": "markdown",
   "id": "f9e55941-56e6-4e79-9240-07260afa1ab7",
   "metadata": {},
   "source": [
    "Here is a series that has `NaN` in it:"
   ]
  },
  {
   "cell_type": "code",
   "execution_count": 13,
   "id": "85f52755-a81a-44ab-a153-793689e87285",
   "metadata": {},
   "outputs": [
    {
     "data": {
      "text/plain": [
       "Ono        2.0\n",
       "Clapton    NaN\n",
       "dtype: float64"
      ]
     },
     "execution_count": 13,
     "metadata": {},
     "output_type": "execute_result"
    }
   ],
   "source": [
    "import numpy as np\n",
    "nan_series = pd.Series([2, np.nan],\n",
    "                       index = ['Ono', 'Clapton'])\n",
    "nan_series"
   ]
  },
  {
   "cell_type": "markdown",
   "id": "c4fad211-8988-48db-bc6a-6d0785053b22",
   "metadata": {},
   "source": [
    "`float64` supports `NaN` while `int64` does not. As of pandas 0.24, `Int64` (nullable integer type) supports `NaN`.\n",
    "\n",
    "`count` ignores `NaN`s, `.size` does not."
   ]
  },
  {
   "cell_type": "code",
   "execution_count": 14,
   "id": "9250f131-0474-4ad1-ac6d-f5589b6c595d",
   "metadata": {},
   "outputs": [
    {
     "data": {
      "text/plain": [
       "1"
      ]
     },
     "execution_count": 14,
     "metadata": {},
     "output_type": "execute_result"
    }
   ],
   "source": [
    "nan_series.count()"
   ]
  },
  {
   "cell_type": "code",
   "execution_count": 15,
   "id": "b0019167-8c68-42dd-80cd-e37f3e833eef",
   "metadata": {},
   "outputs": [
    {
     "data": {
      "text/plain": [
       "2"
      ]
     },
     "execution_count": 15,
     "metadata": {},
     "output_type": "execute_result"
    }
   ],
   "source": [
    "nan_series.size"
   ]
  },
  {
   "cell_type": "code",
   "execution_count": 16,
   "id": "d3e00ee5-ba12-487f-b7b1-0d3f2185809b",
   "metadata": {},
   "outputs": [
    {
     "data": {
      "text/plain": [
       "Ono           2\n",
       "Clapton    <NA>\n",
       "dtype: Int64"
      ]
     },
     "execution_count": 16,
     "metadata": {},
     "output_type": "execute_result"
    }
   ],
   "source": [
    "nan_series2 = pd.Series([2, None],\n",
    "                        index = ['Ono', 'Clapton'],\n",
    "                        dtype = 'Int64')\n",
    "nan_series2"
   ]
  },
  {
   "cell_type": "code",
   "execution_count": 17,
   "id": "70f511ec-0f98-4ca8-a1d5-de44a2c03e05",
   "metadata": {},
   "outputs": [
    {
     "data": {
      "text/plain": [
       "1"
      ]
     },
     "execution_count": 17,
     "metadata": {},
     "output_type": "execute_result"
    }
   ],
   "source": [
    "nan_series2.count()"
   ]
  },
  {
   "cell_type": "code",
   "execution_count": 18,
   "id": "ee6ac001-25c9-442d-95ed-c8fc1e7baf67",
   "metadata": {},
   "outputs": [
    {
     "data": {
      "text/plain": [
       "Ono           2\n",
       "Clapton    <NA>\n",
       "dtype: Int64"
      ]
     },
     "execution_count": 18,
     "metadata": {},
     "output_type": "execute_result"
    }
   ],
   "source": [
    "# convert data type\n",
    "nan_series.astype('Int64')"
   ]
  },
  {
   "cell_type": "markdown",
   "id": "4ec72a74-8ca4-4cbe-a687-e326ccaa8254",
   "metadata": {},
   "source": [
    "The `Series` object behaves similarly to a NumPy array."
   ]
  },
  {
   "cell_type": "code",
   "execution_count": 19,
   "id": "6834d487-8f4b-44f9-b2a5-cc0acabf74a7",
   "metadata": {},
   "outputs": [
    {
     "data": {
      "text/plain": [
       "(142, 142)"
      ]
     },
     "execution_count": 19,
     "metadata": {},
     "output_type": "execute_result"
    }
   ],
   "source": [
    "numpy_ser = np.array([145, 142, 38, 13])\n",
    "songs3[1], numpy_ser[1]"
   ]
  },
  {
   "cell_type": "markdown",
   "id": "379cb1b6-844d-4374-9096-fef84ae9ffae",
   "metadata": {},
   "source": [
    "They both have methods in common"
   ]
  },
  {
   "cell_type": "code",
   "execution_count": 20,
   "id": "c52267e1-efab-4b7e-939f-a9d4fe19ba11",
   "metadata": {},
   "outputs": [
    {
     "data": {
      "text/plain": [
       "(84.5, 84.5)"
      ]
     },
     "execution_count": 20,
     "metadata": {},
     "output_type": "execute_result"
    }
   ],
   "source": [
    "songs3.mean(), numpy_ser.mean()"
   ]
  },
  {
   "cell_type": "markdown",
   "id": "b398ea69-1479-4fcc-996e-f1eeac59d0b5",
   "metadata": {},
   "source": [
    "They both have a notion of a *boolean array*."
   ]
  },
  {
   "cell_type": "code",
   "execution_count": 21,
   "id": "fd012a5d-c960-4bd9-b077-91af5d4a4e12",
   "metadata": {},
   "outputs": [
    {
     "data": {
      "text/plain": [
       "Paul       True\n",
       "John       True\n",
       "George    False\n",
       "Ringo     False\n",
       "Name: counts, dtype: bool"
      ]
     },
     "execution_count": 21,
     "metadata": {},
     "output_type": "execute_result"
    }
   ],
   "source": [
    "mask = songs3 > songs3.median()\n",
    "mask"
   ]
  },
  {
   "cell_type": "code",
   "execution_count": 22,
   "id": "fb9e6578-21e3-45c9-89ac-98d7614a26f1",
   "metadata": {},
   "outputs": [
    {
     "data": {
      "text/plain": [
       "Paul    145\n",
       "John    142\n",
       "Name: counts, dtype: int64"
      ]
     },
     "execution_count": 22,
     "metadata": {},
     "output_type": "execute_result"
    }
   ],
   "source": [
    "# use mask as a filter\n",
    "songs3[mask]"
   ]
  },
  {
   "cell_type": "code",
   "execution_count": 23,
   "id": "4e04770f-bd0b-414d-a64b-43ca30bcdd00",
   "metadata": {},
   "outputs": [
    {
     "data": {
      "text/plain": [
       "array([145, 142])"
      ]
     },
     "execution_count": 23,
     "metadata": {},
     "output_type": "execute_result"
    }
   ],
   "source": [
    "# NumPy equivalent\n",
    "numpy_ser[numpy_ser > np.median(numpy_ser)]"
   ]
  },
  {
   "cell_type": "markdown",
   "id": "70625fe2-a90c-46a1-982b-73ed84e8ba81",
   "metadata": {},
   "source": [
    "If can indicate that data is categorical. \n",
    "\n",
    "Categorical values:\n",
    "\n",
    "- Use less memory than strings\n",
    "- Impove performance\n",
    "- Can have an ordering\n",
    "- Can perform operations on categories\n",
    "- Enforce membership on values"
   ]
  },
  {
   "cell_type": "code",
   "execution_count": 24,
   "id": "8735b439-0ff5-40b6-89ab-07c212005dba",
   "metadata": {},
   "outputs": [
    {
     "data": {
      "text/plain": [
       "0     m\n",
       "1     l\n",
       "2    xs\n",
       "3     s\n",
       "4    xl\n",
       "dtype: category\n",
       "Categories (5, object): ['l', 'm', 's', 'xl', 'xs']"
      ]
     },
     "execution_count": 24,
     "metadata": {},
     "output_type": "execute_result"
    }
   ],
   "source": [
    "s = pd.Series(['m', 'l', 'xs', 's', 'xl'], dtype = 'category')\n",
    "s"
   ]
  },
  {
   "cell_type": "markdown",
   "id": "3e22fce6-2c8b-4eac-b8ce-99a616672a70",
   "metadata": {},
   "source": [
    "By default categories don't have an ordering."
   ]
  },
  {
   "cell_type": "code",
   "execution_count": 25,
   "id": "dd410231-22a4-4452-9e0d-96da3725ea3f",
   "metadata": {},
   "outputs": [
    {
     "data": {
      "text/plain": [
       "False"
      ]
     },
     "execution_count": 25,
     "metadata": {},
     "output_type": "execute_result"
    }
   ],
   "source": [
    "s.cat.ordered"
   ]
  },
  {
   "cell_type": "markdown",
   "id": "f6fb5dd1-0c17-4451-b062-364255182dfb",
   "metadata": {},
   "source": [
    "Convert non-categorical series to an ordered category:"
   ]
  },
  {
   "cell_type": "code",
   "execution_count": 26,
   "id": "41fc822d-c16b-4c0f-9586-1273c3725318",
   "metadata": {},
   "outputs": [
    {
     "data": {
      "text/plain": [
       "0      m\n",
       "1      l\n",
       "2    NaN\n",
       "3      s\n",
       "4    NaN\n",
       "dtype: category\n",
       "Categories (3, object): ['s' < 'm' < 'l']"
      ]
     },
     "execution_count": 26,
     "metadata": {},
     "output_type": "execute_result"
    }
   ],
   "source": [
    "s2 = pd.Series(['m', 'l', 'xs', 's', 'xl'])\n",
    "\n",
    "size_type = pd.api.types.CategoricalDtype(\n",
    "    categories=['s', 'm', 'l'], ordered = True)\n",
    "\n",
    "s3 = s2.astype(size_type)\n",
    "s3"
   ]
  },
  {
   "cell_type": "code",
   "execution_count": 27,
   "id": "374c8931-00b6-4a44-81f8-3ab8971c9fa7",
   "metadata": {},
   "outputs": [
    {
     "data": {
      "text/plain": [
       "0     True\n",
       "1     True\n",
       "2    False\n",
       "3    False\n",
       "4    False\n",
       "dtype: bool"
      ]
     },
     "execution_count": 27,
     "metadata": {},
     "output_type": "execute_result"
    }
   ],
   "source": [
    "# can perform comparisons on ordered categories\n",
    "s3 > 's'"
   ]
  },
  {
   "cell_type": "code",
   "execution_count": 28,
   "id": "06f740e9-d32c-4134-b5d9-4f3d080f0b48",
   "metadata": {},
   "outputs": [
    {
     "data": {
      "text/plain": [
       "0     m\n",
       "1     l\n",
       "2    xs\n",
       "3     s\n",
       "4    xl\n",
       "dtype: category\n",
       "Categories (5, object): ['xs' < 's' < 'm' < 'l' < 'xl']"
      ]
     },
     "execution_count": 28,
     "metadata": {},
     "output_type": "execute_result"
    }
   ],
   "source": [
    "# add ordering information to categorical data\n",
    "s.cat.reorder_categories(['xs', 's', 'm', 'l', 'xl'], ordered=True)"
   ]
  },
  {
   "cell_type": "markdown",
   "id": "b686464e-49c3-4526-a3cc-7a4de855130b",
   "metadata": {},
   "source": [
    "For strings and dates converted to categorical types, we can still use the `str` or `dt` attributes on them:"
   ]
  },
  {
   "cell_type": "code",
   "execution_count": 29,
   "id": "6a51ac9f-0965-421a-9c60-c1ad990fc90c",
   "metadata": {},
   "outputs": [
    {
     "data": {
      "text/plain": [
       "0      M\n",
       "1      L\n",
       "2    NaN\n",
       "3      S\n",
       "4    NaN\n",
       "dtype: object"
      ]
     },
     "execution_count": 29,
     "metadata": {},
     "output_type": "execute_result"
    }
   ],
   "source": [
    "s3.str.upper()"
   ]
  },
  {
   "cell_type": "markdown",
   "id": "7093f1f1-3fcf-4e51-95bf-07150d13f070",
   "metadata": {},
   "source": [
    "|Method|Description|\n",
    "|:-|:-|\n",
    "|`pd.Series(data=None, index=None, dtype=None, name=None, copy=False)`|Create a series from data (sequence, dictionary or scalar)|\n",
    "|`s.index`|Access index of series.|\n",
    "|`s.astype(dtype, errors='raise')`|Cast a series to `dtype`. To ignore errors (and return original object) use `errors='ignore'`|\n",
    "|`s[boolean_array]`|Return values from `s` where `boolean_array` is `True`|\n",
    "|`s.cat.ordered`|Determine if a categorical series is ordered|\n",
    "|`s.cat.reorder_categories(new_categories, ordered=False)`|Add categories (potentially ordered) to the series. `new_categories` must include all categories."
   ]
  },
  {
   "cell_type": "markdown",
   "id": "bab86221-5690-40a4-9aef-364c19dff8b9",
   "metadata": {},
   "source": [
    "### Exercises\n",
    "1. Using Jupyter, create a series with the temperature values for the last seven days. Filter out the vaues below the mean.\n",
    "2. Using Jupyter, create a series with your favorite colors. Use a categorical type."
   ]
  },
  {
   "cell_type": "code",
   "execution_count": 30,
   "id": "25a40df4-7825-4415-babc-94636762f212",
   "metadata": {},
   "outputs": [
    {
     "data": {
      "text/plain": [
       "5    95\n",
       "6    97\n",
       "dtype: int64"
      ]
     },
     "execution_count": 30,
     "metadata": {},
     "output_type": "execute_result"
    }
   ],
   "source": [
    "# temperature series\n",
    "temps = pd.Series([88, 84, 84, 84, 88, 95, 97 ,88])\n",
    "\n",
    "temps[temps >= temps.mean()]"
   ]
  },
  {
   "cell_type": "code",
   "execution_count": 31,
   "id": "446dc204-410b-4d0f-8007-a6ff30f8259b",
   "metadata": {},
   "outputs": [
    {
     "data": {
      "text/plain": [
       "0            orange\n",
       "1             coral\n",
       "2    midnight green\n",
       "dtype: category\n",
       "Categories (3, object): ['coral', 'midnight green', 'orange']"
      ]
     },
     "execution_count": 31,
     "metadata": {},
     "output_type": "execute_result"
    }
   ],
   "source": [
    "# favorite colors\n",
    "colors_series = pd.Series(['orange', 'coral', 'midnight green'], dtype = 'category')\n",
    "colors_series"
   ]
  },
  {
   "cell_type": "markdown",
   "id": "19b73e97-afd6-4289-8fe8-88cfcc54db00",
   "metadata": {},
   "source": [
    "## Chapter 5: Series Deep Dive"
   ]
  },
  {
   "cell_type": "code",
   "execution_count": 32,
   "id": "2f98804a-c7c9-4821-b13d-51d31a38f8d1",
   "metadata": {},
   "outputs": [
    {
     "name": "stderr",
     "output_type": "stream",
     "text": [
      "/var/folders/5q/_bn7l90s177_2gq7rnhssjxm0000gn/T/ipykernel_52057/221626492.py:4: DtypeWarning: Columns (68,70,71,72,73,74,76,79) have mixed types. Specify dtype option on import or set low_memory=False.\n",
      "  df = pd.read_csv(url)\n"
     ]
    }
   ],
   "source": [
    "# analyze the US Fuel Economy data\n",
    "url = 'https://github.com/mattharrison/datasets/raw/master/data/vehicles.csv.zip'\n",
    "\n",
    "df = pd.read_csv(url)\n",
    "\n",
    "city_mpg = df.city08\n",
    "highway_mpg = df.highway08"
   ]
  },
  {
   "cell_type": "code",
   "execution_count": 33,
   "id": "375476bf-0f0f-4da6-b1d9-ee6aec42e9ac",
   "metadata": {},
   "outputs": [
    {
     "data": {
      "text/plain": [
       "0        19\n",
       "1         9\n",
       "2        23\n",
       "3        10\n",
       "4        17\n",
       "         ..\n",
       "41139    19\n",
       "41140    20\n",
       "41141    18\n",
       "41142    18\n",
       "41143    16\n",
       "Name: city08, Length: 41144, dtype: int64"
      ]
     },
     "execution_count": 33,
     "metadata": {},
     "output_type": "execute_result"
    }
   ],
   "source": [
    "city_mpg"
   ]
  },
  {
   "cell_type": "code",
   "execution_count": 34,
   "id": "81a9dc80-94ee-4ae0-8e95-8c56af6256de",
   "metadata": {},
   "outputs": [
    {
     "data": {
      "text/plain": [
       "0        25\n",
       "1        14\n",
       "2        33\n",
       "3        12\n",
       "4        23\n",
       "         ..\n",
       "41139    26\n",
       "41140    28\n",
       "41141    24\n",
       "41142    24\n",
       "41143    21\n",
       "Name: highway08, Length: 41144, dtype: int64"
      ]
     },
     "execution_count": 34,
     "metadata": {},
     "output_type": "execute_result"
    }
   ],
   "source": [
    "highway_mpg"
   ]
  },
  {
   "cell_type": "markdown",
   "id": "eb53fbc8-f0a1-4709-81ef-446e44896ec3",
   "metadata": {},
   "source": [
    "Because the type is `int64` we know that none of the values are missing."
   ]
  },
  {
   "cell_type": "markdown",
   "id": "546a1882-074a-48e6-8cbc-898294205df1",
   "metadata": {},
   "source": [
    "The `dir` function lists the attributes of an object. A series has 400+ attributes:"
   ]
  },
  {
   "cell_type": "code",
   "execution_count": 35,
   "id": "a0a7bb7b-1884-4e9c-b38d-9c6eee26cdd2",
   "metadata": {},
   "outputs": [
    {
     "data": {
      "text/plain": [
       "412"
      ]
     },
     "execution_count": 35,
     "metadata": {},
     "output_type": "execute_result"
    }
   ],
   "source": [
    "len(dir(city_mpg))"
   ]
  },
  {
   "cell_type": "code",
   "execution_count": 36,
   "id": "a322d18f-817b-472a-a80e-dd4831179a13",
   "metadata": {},
   "outputs": [
    {
     "data": {
      "text/plain": [
       "412"
      ]
     },
     "execution_count": 36,
     "metadata": {},
     "output_type": "execute_result"
    }
   ],
   "source": [
    "len(dir(highway_mpg))"
   ]
  },
  {
   "cell_type": "markdown",
   "id": "ae91f599-c686-4e22-8976-8dd30e3e81ab",
   "metadata": {},
   "source": [
    "Functionality of series attributes:\n",
    "\n",
    "- Dunder methods provide many numeric operations, looping, attribute access, and index access. For the numeric operations, these return `Series`.\n",
    "- Corresponding operator methods for many of the numeric operations allow us to tweak the behavior.\n",
    "- Aggregate methods and properties which reduce or aggregate the values in a series down to a single scalar value.\n",
    "- Conversion methods. Some of these start with `.to_` and export the data to other formats.\n",
    "- Manipulation methods that return `Series` objects with the same index.\n",
    "- Indexing and accessor methods and attributes that return `Series` or scalars.\n",
    "- String manipulation methods using `.str`.\n",
    "- Date manipulation methods using `.dt`.\n",
    "- Plotting methods using `.plot`.\n",
    "- Categorical manipulation methods using `.cat`.\n",
    "- Transformation methods.\n",
    "- Attributes such as `.index` and `.dtype`.\n",
    "- A bunch of private attributes (130 of them) that we'll ignore."
   ]
  },
  {
   "cell_type": "markdown",
   "id": "1d20549e-05b6-4a9b-92a3-78d5bad9da44",
   "metadata": {},
   "source": [
    "### Exercises\n",
    "1. Explore the documentation for five attributes of a series from Jupyter.\n",
    "2. How many attributes are found on the `.str` attribute? Look at the documentation for three of them.\n",
    "3. How many attributes are found on the `.dt` attribute? Look at the documentation for three of them."
   ]
  },
  {
   "cell_type": "code",
   "execution_count": 37,
   "id": "7ba2b8f3-60cf-4575-b2bf-43e47cbec4de",
   "metadata": {},
   "outputs": [
    {
     "data": {
      "text/plain": [
       "array([19,  9, 23, ..., 18, 18, 16])"
      ]
     },
     "execution_count": 37,
     "metadata": {},
     "output_type": "execute_result"
    }
   ],
   "source": [
    "city_mpg.values"
   ]
  },
  {
   "cell_type": "code",
   "execution_count": 38,
   "id": "645afe62-ff3e-4d6d-b72f-459598bc5163",
   "metadata": {},
   "outputs": [
    {
     "data": {
      "text/plain": [
       "[RangeIndex(start=0, stop=41144, step=1)]"
      ]
     },
     "execution_count": 38,
     "metadata": {},
     "output_type": "execute_result"
    }
   ],
   "source": [
    "city_mpg.axes"
   ]
  },
  {
   "cell_type": "code",
   "execution_count": 39,
   "id": "c7373bfd-7158-46ca-9399-f5fb274d2a3f",
   "metadata": {},
   "outputs": [
    {
     "data": {
      "text/plain": [
       "False"
      ]
     },
     "execution_count": 39,
     "metadata": {},
     "output_type": "execute_result"
    }
   ],
   "source": [
    "city_mpg.empty"
   ]
  },
  {
   "cell_type": "code",
   "execution_count": 40,
   "id": "a15e05c1-f6da-4894-84d0-7a130d11f8a4",
   "metadata": {},
   "outputs": [
    {
     "data": {
      "text/plain": [
       "17"
      ]
     },
     "execution_count": 40,
     "metadata": {},
     "output_type": "execute_result"
    }
   ],
   "source": [
    "city_mpg.at[4]"
   ]
  },
  {
   "cell_type": "code",
   "execution_count": 41,
   "id": "62fec06a-2127-4304-a7cb-6cd753d86d90",
   "metadata": {},
   "outputs": [
    {
     "data": {
      "text/plain": [
       "1     9\n",
       "2    23\n",
       "3    10\n",
       "4    17\n",
       "Name: city08, dtype: int64"
      ]
     },
     "execution_count": 41,
     "metadata": {},
     "output_type": "execute_result"
    }
   ],
   "source": [
    "city_mpg.loc[1:4]"
   ]
  },
  {
   "cell_type": "code",
   "execution_count": 42,
   "id": "add373f7-8063-4d91-b27d-715e94c4d1aa",
   "metadata": {},
   "outputs": [
    {
     "data": {
      "text/plain": [
       "98"
      ]
     },
     "execution_count": 42,
     "metadata": {},
     "output_type": "execute_result"
    }
   ],
   "source": [
    "# 98 string attributes\n",
    "len(dir(s2.str))"
   ]
  },
  {
   "cell_type": "code",
   "execution_count": 43,
   "id": "ed7cb5e5-ed22-4b97-bb7c-a2a970404173",
   "metadata": {},
   "outputs": [
    {
     "data": {
      "text/plain": [
       "'m.l.xs.s.xl'"
      ]
     },
     "execution_count": 43,
     "metadata": {},
     "output_type": "execute_result"
    }
   ],
   "source": [
    "s2.str.cat(sep = \".\")"
   ]
  },
  {
   "cell_type": "code",
   "execution_count": 44,
   "id": "c4eb27bf-bb0a-4eb2-83dc-5a348eb5aafd",
   "metadata": {},
   "outputs": [
    {
     "data": {
      "text/plain": [
       "0     M\n",
       "1     L\n",
       "2    Xs\n",
       "3     S\n",
       "4    Xl\n",
       "dtype: object"
      ]
     },
     "execution_count": 44,
     "metadata": {},
     "output_type": "execute_result"
    }
   ],
   "source": [
    "s2.str.capitalize()"
   ]
  },
  {
   "cell_type": "code",
   "execution_count": 45,
   "id": "3c8e3cc6-df5b-4782-a146-04d9a94027fd",
   "metadata": {},
   "outputs": [
    {
     "data": {
      "text/plain": [
       "0    False\n",
       "1     True\n",
       "2    False\n",
       "3    False\n",
       "4     True\n",
       "dtype: bool"
      ]
     },
     "execution_count": 45,
     "metadata": {},
     "output_type": "execute_result"
    }
   ],
   "source": [
    "s2.str.endswith('l')"
   ]
  },
  {
   "cell_type": "code",
   "execution_count": 46,
   "id": "40631032-8c11-4560-a3c7-4261af033341",
   "metadata": {},
   "outputs": [
    {
     "data": {
      "text/plain": [
       "0   2023-01-01\n",
       "1   2023-04-05\n",
       "2   2023-07-06\n",
       "dtype: datetime64[ns]"
      ]
     },
     "execution_count": 46,
     "metadata": {},
     "output_type": "execute_result"
    }
   ],
   "source": [
    "dt_series = pd.Series(['2023-01-01', '2023-04-05', '2023-07-06'])\n",
    "\n",
    "dt_series = pd.to_datetime(dt_series)\n",
    "dt_series"
   ]
  },
  {
   "cell_type": "code",
   "execution_count": 47,
   "id": "667dfdf4-b191-4e59-8126-cd4d1ab7d0ca",
   "metadata": {},
   "outputs": [
    {
     "data": {
      "text/plain": [
       "83"
      ]
     },
     "execution_count": 47,
     "metadata": {},
     "output_type": "execute_result"
    }
   ],
   "source": [
    "len(dir(dt_series.dt))"
   ]
  },
  {
   "cell_type": "code",
   "execution_count": 48,
   "id": "3077ef39-c80b-4328-9b15-c8882055af28",
   "metadata": {},
   "outputs": [
    {
     "data": {
      "text/plain": [
       "0    1\n",
       "1    5\n",
       "2    6\n",
       "dtype: int32"
      ]
     },
     "execution_count": 48,
     "metadata": {},
     "output_type": "execute_result"
    }
   ],
   "source": [
    "dt_series.dt.day"
   ]
  },
  {
   "cell_type": "code",
   "execution_count": 49,
   "id": "93ca8cb2-f6eb-4c14-8218-8215a2a311e7",
   "metadata": {},
   "outputs": [
    {
     "data": {
      "text/plain": [
       "0      1\n",
       "1     95\n",
       "2    187\n",
       "dtype: int32"
      ]
     },
     "execution_count": 49,
     "metadata": {},
     "output_type": "execute_result"
    }
   ],
   "source": [
    "dt_series.dt.day_of_year"
   ]
  },
  {
   "cell_type": "code",
   "execution_count": 50,
   "id": "f31172c0-fe5c-49e6-ab91-4a29e7d5ad7a",
   "metadata": {},
   "outputs": [
    {
     "data": {
      "text/plain": [
       "0    31\n",
       "1    30\n",
       "2    31\n",
       "dtype: int32"
      ]
     },
     "execution_count": 50,
     "metadata": {},
     "output_type": "execute_result"
    }
   ],
   "source": [
    "dt_series.dt.daysinmonth"
   ]
  },
  {
   "cell_type": "markdown",
   "id": "dd2e02aa-4da7-4b31-87b6-d25b26d52794",
   "metadata": {},
   "source": [
    "## Chapter 6: Operators (& Dunder Methods)"
   ]
  },
  {
   "cell_type": "markdown",
   "id": "920f1e20-b408-4df3-ac2f-10691dfb05f9",
   "metadata": {},
   "source": [
    "These are the protocols that determine how the Python language reacts to operations."
   ]
  },
  {
   "cell_type": "code",
   "execution_count": 51,
   "id": "19153ea4-3f81-4da6-abbe-4a2ca1914d14",
   "metadata": {},
   "outputs": [
    {
     "data": {
      "text/plain": [
       "6"
      ]
     },
     "execution_count": 51,
     "metadata": {},
     "output_type": "execute_result"
    }
   ],
   "source": [
    "2 + 4"
   ]
  },
  {
   "cell_type": "code",
   "execution_count": 52,
   "id": "84d20e86-2a9e-48dc-aab6-014b1307855f",
   "metadata": {},
   "outputs": [
    {
     "data": {
      "text/plain": [
       "6"
      ]
     },
     "execution_count": 52,
     "metadata": {},
     "output_type": "execute_result"
    }
   ],
   "source": [
    "# under the cover is\n",
    "(2).__add__(4)"
   ]
  },
  {
   "cell_type": "code",
   "execution_count": 53,
   "id": "0b34df70-4451-4126-9cd5-63e178641d26",
   "metadata": {},
   "outputs": [
    {
     "data": {
      "text/plain": [
       "0        22.0\n",
       "1        11.5\n",
       "2        28.0\n",
       "3        11.0\n",
       "4        20.0\n",
       "         ... \n",
       "41139    22.5\n",
       "41140    24.0\n",
       "41141    21.0\n",
       "41142    21.0\n",
       "41143    18.5\n",
       "Length: 41144, dtype: float64"
      ]
     },
     "execution_count": 53,
     "metadata": {},
     "output_type": "execute_result"
    }
   ],
   "source": [
    "(city_mpg + highway_mpg) / 2"
   ]
  },
  {
   "cell_type": "markdown",
   "id": "7b4749bd-7dc8-4210-85d6-ae8d06086348",
   "metadata": {},
   "source": [
    "When you operate with two series, pandas will *align* the index before performing the operation. Because of index alignment, you will want to make sure that the indexes:\n",
    "- are unique\n",
    "- are common to both series"
   ]
  },
  {
   "cell_type": "code",
   "execution_count": 54,
   "id": "51bad01b-796f-44cc-b9dc-5371fbec4509",
   "metadata": {},
   "outputs": [],
   "source": [
    "# example of series with repeated and non-common indexes\n",
    "s1 = pd.Series([10, 20, 30], index=[1,2,2])\n",
    "s2 = pd.Series([35, 44, 53], index=[2,2,4], name = 's2')"
   ]
  },
  {
   "cell_type": "code",
   "execution_count": 55,
   "id": "d60a0258-988b-4ab7-8a9c-6034ebe3ce3b",
   "metadata": {},
   "outputs": [
    {
     "data": {
      "text/plain": [
       "1    10\n",
       "2    20\n",
       "2    30\n",
       "dtype: int64"
      ]
     },
     "execution_count": 55,
     "metadata": {},
     "output_type": "execute_result"
    }
   ],
   "source": [
    "s1"
   ]
  },
  {
   "cell_type": "code",
   "execution_count": 56,
   "id": "6d786103-e70b-4120-bac9-938ebc871f93",
   "metadata": {},
   "outputs": [
    {
     "data": {
      "text/plain": [
       "2    35\n",
       "2    44\n",
       "4    53\n",
       "Name: s2, dtype: int64"
      ]
     },
     "execution_count": 56,
     "metadata": {},
     "output_type": "execute_result"
    }
   ],
   "source": [
    "s2"
   ]
  },
  {
   "cell_type": "code",
   "execution_count": 57,
   "id": "fd6e2be4-0a88-417d-8d1a-e81e5d5187ae",
   "metadata": {},
   "outputs": [
    {
     "data": {
      "text/plain": [
       "1     NaN\n",
       "2    55.0\n",
       "2    64.0\n",
       "2    65.0\n",
       "2    74.0\n",
       "4     NaN\n",
       "dtype: float64"
      ]
     },
     "execution_count": 57,
     "metadata": {},
     "output_type": "execute_result"
    }
   ],
   "source": [
    "# index 1 and 4 have NaN\n",
    "# index 2 has four results\n",
    "s1 + s2"
   ]
  },
  {
   "cell_type": "markdown",
   "id": "07f7f033-abad-4492-9bff-0f6ac9158d28",
   "metadata": {},
   "source": [
    "When you perform math operations with a scalar, pandas *broadcasts* the operation to all values. A numeric pandas series is a block of memory, and modern CPUs leverage a technology called Single Instruction/Multiple Data (SIMD) to apply a math operation to the block of memory."
   ]
  },
  {
   "cell_type": "code",
   "execution_count": 58,
   "id": "8cf3e0a1-d567-4f7a-a16c-d5afa66f60f6",
   "metadata": {},
   "outputs": [
    {
     "data": {
      "text/plain": [
       "1    10.0\n",
       "2    55.0\n",
       "2    64.0\n",
       "2    65.0\n",
       "2    74.0\n",
       "4    53.0\n",
       "dtype: float64"
      ]
     },
     "execution_count": 58,
     "metadata": {},
     "output_type": "execute_result"
    }
   ],
   "source": [
    "# use `fill_value` parameter to replace missing operands\n",
    "s1.add(s2, fill_value = 0)"
   ]
  },
  {
   "cell_type": "markdown",
   "id": "bd88b362-06d0-43c4-b160-d287d48f0df8",
   "metadata": {},
   "source": [
    "Chaining makes the code easy to read and understand"
   ]
  },
  {
   "cell_type": "code",
   "execution_count": 59,
   "id": "7396e2da-9cde-4de6-9e9c-65ac32b73037",
   "metadata": {},
   "outputs": [
    {
     "data": {
      "text/plain": [
       "0        22.0\n",
       "1        11.5\n",
       "2        28.0\n",
       "3        11.0\n",
       "4        20.0\n",
       "         ... \n",
       "41139    22.5\n",
       "41140    24.0\n",
       "41141    21.0\n",
       "41142    21.0\n",
       "41143    18.5\n",
       "Length: 41144, dtype: float64"
      ]
     },
     "execution_count": 59,
     "metadata": {},
     "output_type": "execute_result"
    }
   ],
   "source": [
    "(city_mpg\n",
    "    .add(highway_mpg)\n",
    "    .div(2))"
   ]
  },
  {
   "cell_type": "markdown",
   "id": "bd3ccd82-26da-42e8-a487-f522265d6d48",
   "metadata": {},
   "source": [
    "|Method|Operator|Description|\n",
    "|:-|:-|:-|\n",
    "|`s.add(s2)`|`s + s2`|Adds series|\n",
    "|`s.radd(s2)`|`s2 + s`|Adds series|\n",
    "|`s.sub(s2)`|`s - s2`|Subtracts series|\n",
    "|`s.rsub(s2)`|`s2 - s`|Subtracts series|\n",
    "|`s.mul(s2)`|`s * s2`|Multiplies series|\n",
    "|`s.multiply(s2)`|`s * s2`|Multiplies series|\n",
    "|`s.rmul(s2)`|`s2 * s`|Multiplies series|\n",
    "|`s.div(s2)`|`s / s2`|Divides series|\n",
    "|`s.truediv(s2)`|`s / s2`|Divides series|\n",
    "|`s.rdiv(s2)`|`s2 / s`|Divides series|\n",
    "|`s.rtruediv(s2)`|`s2 / s`|Divides series|\n",
    "|`s.mod(s2)`|`s % s2`|Modulo of series division|\n",
    "|`s.rmod(s2)`|`s2 % s`|Modulo of series division|\n",
    "|`s.floordiv(s2)`|`s // s2`|Floor divide series|\n",
    "|`s.rfloordiv(s2)`|`s2 // s`|Floor divide series|\n",
    "|`s.pow(s2)`|`s ** s2`|Exponential power of series|\n",
    "|`s.rpow(s2)`|`s2 ** s`|Exponential power of series|\n",
    "|`s.eq(s2)`|`s2 == s`|Elementwise equals of series|\n",
    "|`s.ne(s2)`|`s2 != s`|Elementwise not equals of series|\n",
    "|`s.gt(s2)`|`s > s2`|Elementwise greater than of series|\n",
    "|`s.ge(s2)`|`s >= s2`|Elementwise greater than or equals of series|\n",
    "|`s.lt(s2)`|`s < s2`|Elementwise less than of series|\n",
    "|`s.le(s2)`|`s <= s2`|Elementwise less than or equals of series|\n",
    "|`np.invert(s)`|`~s`|Elementwise inversion of boolean series (no pandas method)|\n",
    "|`np.logical_and(s, s2)`|`s & s2`|Elementwise logical and of boolean series (no pandas method)|\n",
    "|`np.logical_or(s, s2)`|`s \\| s2`|Elementwise logical or of boolean series (no pandas method)|"
   ]
  },
  {
   "cell_type": "markdown",
   "id": "a0121d10-fa19-42f8-a2ac-61cb09ce5afb",
   "metadata": {},
   "source": [
    "### Exercises\n",
    "\n",
    "With a dataset of your choice:\n",
    "\n",
    "1. Add a numeric series to itself.\n",
    "2. Add 10 to a numeric series.\n",
    "3. Add a numeric series to itself using the `.add` method.\n",
    "4. Read the documentation for the `.add` method."
   ]
  },
  {
   "cell_type": "code",
   "execution_count": 60,
   "id": "8d05b884-8d86-4348-9fbb-8ebf6a4a80b6",
   "metadata": {},
   "outputs": [
    {
     "data": {
      "text/plain": [
       "0        38\n",
       "1        18\n",
       "2        46\n",
       "3        20\n",
       "4        34\n",
       "         ..\n",
       "41139    38\n",
       "41140    40\n",
       "41141    36\n",
       "41142    36\n",
       "41143    32\n",
       "Name: city08, Length: 41144, dtype: int64"
      ]
     },
     "execution_count": 60,
     "metadata": {},
     "output_type": "execute_result"
    }
   ],
   "source": [
    "city_mpg + city_mpg"
   ]
  },
  {
   "cell_type": "code",
   "execution_count": 61,
   "id": "b43c4184-f016-4304-994d-bcd384890804",
   "metadata": {},
   "outputs": [
    {
     "data": {
      "text/plain": [
       "0        29\n",
       "1        19\n",
       "2        33\n",
       "3        20\n",
       "4        27\n",
       "         ..\n",
       "41139    29\n",
       "41140    30\n",
       "41141    28\n",
       "41142    28\n",
       "41143    26\n",
       "Name: city08, Length: 41144, dtype: int64"
      ]
     },
     "execution_count": 61,
     "metadata": {},
     "output_type": "execute_result"
    }
   ],
   "source": [
    "city_mpg + 10"
   ]
  },
  {
   "cell_type": "code",
   "execution_count": 62,
   "id": "5184c256-93e9-41cf-bd59-88c7afe20092",
   "metadata": {},
   "outputs": [
    {
     "data": {
      "text/plain": [
       "0        38\n",
       "1        18\n",
       "2        46\n",
       "3        20\n",
       "4        34\n",
       "         ..\n",
       "41139    38\n",
       "41140    40\n",
       "41141    36\n",
       "41142    36\n",
       "41143    32\n",
       "Name: city08, Length: 41144, dtype: int64"
      ]
     },
     "execution_count": 62,
     "metadata": {},
     "output_type": "execute_result"
    }
   ],
   "source": [
    "city_mpg.add(city_mpg)"
   ]
  },
  {
   "cell_type": "code",
   "execution_count": 63,
   "id": "426fbe44-5b45-4697-b7ac-c9a354ba7805",
   "metadata": {},
   "outputs": [],
   "source": [
    "# experimenting with fill_value parameter\n",
    "nan_series3 = pd.Series([2, None])\n",
    "nan_series4 = pd.Series([3, None])"
   ]
  },
  {
   "cell_type": "code",
   "execution_count": 64,
   "id": "f4b3d39b-f062-43b6-8603-50fe1c430174",
   "metadata": {},
   "outputs": [
    {
     "data": {
      "text/plain": [
       "0    2.0\n",
       "1    NaN\n",
       "dtype: float64"
      ]
     },
     "execution_count": 64,
     "metadata": {},
     "output_type": "execute_result"
    }
   ],
   "source": [
    "nan_series3"
   ]
  },
  {
   "cell_type": "code",
   "execution_count": 65,
   "id": "c8ba4030-2fc1-44df-8f5a-fe1500d17fef",
   "metadata": {},
   "outputs": [
    {
     "data": {
      "text/plain": [
       "0    3.0\n",
       "1    NaN\n",
       "dtype: float64"
      ]
     },
     "execution_count": 65,
     "metadata": {},
     "output_type": "execute_result"
    }
   ],
   "source": [
    "nan_series4"
   ]
  },
  {
   "cell_type": "code",
   "execution_count": 66,
   "id": "0fcc95b3-f5a5-4f82-b897-08d0a6ce7f46",
   "metadata": {},
   "outputs": [
    {
     "data": {
      "text/plain": [
       "0    5.0\n",
       "1    NaN\n",
       "dtype: float64"
      ]
     },
     "execution_count": 66,
     "metadata": {},
     "output_type": "execute_result"
    }
   ],
   "source": [
    "# two corresponding NaN values stay NaN\n",
    "# even with fill_value = 0\n",
    "nan_series3.add(nan_series4, fill_value=0)"
   ]
  },
  {
   "cell_type": "markdown",
   "id": "5a722d6b-b034-4354-9cb0-244f4ce499aa",
   "metadata": {},
   "source": [
    "## Chapter 7: Aggregate Methods"
   ]
  },
  {
   "cell_type": "markdown",
   "id": "c5d4f4f9-355b-40d7-92e9-bae4cdc54ce6",
   "metadata": {},
   "source": [
    "Aggregate methods collapse the values of a series down to a scalar."
   ]
  },
  {
   "cell_type": "code",
   "execution_count": 67,
   "id": "cb4115d9-5173-4ae7-91e5-80c90fcfdf88",
   "metadata": {},
   "outputs": [
    {
     "data": {
      "text/plain": [
       "18.369045304297103"
      ]
     },
     "execution_count": 67,
     "metadata": {},
     "output_type": "execute_result"
    }
   ],
   "source": [
    "# calculate the mean\n",
    "city_mpg.mean()"
   ]
  },
  {
   "cell_type": "code",
   "execution_count": 68,
   "id": "f1e5dd49-6e42-4f95-a0a0-d5a38d1ac67f",
   "metadata": {},
   "outputs": [
    {
     "data": {
      "text/plain": [
       "False"
      ]
     },
     "execution_count": 68,
     "metadata": {},
     "output_type": "execute_result"
    }
   ],
   "source": [
    "city_mpg.is_unique"
   ]
  },
  {
   "cell_type": "code",
   "execution_count": 69,
   "id": "560b5b7d-ece1-4eb8-b3e1-1e96da1f0602",
   "metadata": {},
   "outputs": [
    {
     "data": {
      "text/plain": [
       "True"
      ]
     },
     "execution_count": 69,
     "metadata": {},
     "output_type": "execute_result"
    }
   ],
   "source": [
    "pd.Series([1,2,3]).is_unique"
   ]
  },
  {
   "cell_type": "code",
   "execution_count": 70,
   "id": "537e00fb-0097-437d-80cc-0332ba99902d",
   "metadata": {},
   "outputs": [
    {
     "data": {
      "text/plain": [
       "False"
      ]
     },
     "execution_count": 70,
     "metadata": {},
     "output_type": "execute_result"
    }
   ],
   "source": [
    "city_mpg.is_monotonic_increasing"
   ]
  },
  {
   "cell_type": "code",
   "execution_count": 71,
   "id": "0c29e8e5-6145-4641-b81f-08dfb7594984",
   "metadata": {},
   "outputs": [
    {
     "data": {
      "text/plain": [
       "True"
      ]
     },
     "execution_count": 71,
     "metadata": {},
     "output_type": "execute_result"
    }
   ],
   "source": [
    "pd.Series([1,2,3]).is_monotonic_increasing"
   ]
  },
  {
   "cell_type": "code",
   "execution_count": 72,
   "id": "18b10310-e461-4815-a055-43da586c53dd",
   "metadata": {},
   "outputs": [
    {
     "data": {
      "text/plain": [
       "17.0"
      ]
     },
     "execution_count": 72,
     "metadata": {},
     "output_type": "execute_result"
    }
   ],
   "source": [
    "# default is median (50% quantile)\n",
    "city_mpg.quantile()"
   ]
  },
  {
   "cell_type": "code",
   "execution_count": 73,
   "id": "b2ae3086-59a4-4c5d-a3c2-1ef5c76f108c",
   "metadata": {},
   "outputs": [
    {
     "data": {
      "text/plain": [
       "24.0"
      ]
     },
     "execution_count": 73,
     "metadata": {},
     "output_type": "execute_result"
    }
   ],
   "source": [
    "city_mpg.quantile(0.9)"
   ]
  },
  {
   "cell_type": "code",
   "execution_count": 74,
   "id": "c1675e50-19c3-419f-8e77-51c81ab22ee1",
   "metadata": {},
   "outputs": [
    {
     "data": {
      "text/plain": [
       "0.1    13.0\n",
       "0.5    17.0\n",
       "0.9    24.0\n",
       "Name: city08, dtype: float64"
      ]
     },
     "execution_count": 74,
     "metadata": {},
     "output_type": "execute_result"
    }
   ],
   "source": [
    "# multiple quantiles returns a Series\n",
    "city_mpg.quantile([0.1, 0.5, 0.9])"
   ]
  },
  {
   "cell_type": "markdown",
   "id": "42bc1103-2d43-4165-92c7-90f9e55a77d0",
   "metadata": {},
   "source": [
    "If you want the count of values that meet some criteria, you can use the `.sum` method:"
   ]
  },
  {
   "cell_type": "code",
   "execution_count": 75,
   "id": "6dda8b0b-8333-4f30-b654-7177a776a30a",
   "metadata": {},
   "outputs": [
    {
     "data": {
      "text/plain": [
       "10272"
      ]
     },
     "execution_count": 75,
     "metadata": {},
     "output_type": "execute_result"
    }
   ],
   "source": [
    "# count of cars with mileage greater than 20\n",
    "(city_mpg\n",
    "     .gt(20)\n",
    "     .sum()\n",
    ")"
   ]
  },
  {
   "cell_type": "code",
   "execution_count": 76,
   "id": "d09b3a5a-bbd1-43f2-ad1c-fb581eeef160",
   "metadata": {},
   "outputs": [
    {
     "data": {
      "text/plain": [
       "24.965973167412017"
      ]
     },
     "execution_count": 76,
     "metadata": {},
     "output_type": "execute_result"
    }
   ],
   "source": [
    "# percentage of cars with mileage greater than 20\n",
    "(city_mpg\n",
    "     .gt(20)\n",
    "     .mul(100)\n",
    "     .mean()\n",
    ")"
   ]
  },
  {
   "cell_type": "markdown",
   "id": "0c26981f-a2b7-4c58-9dc3-cfc7e7f1af84",
   "metadata": {},
   "source": [
    "Observe the `.mul(100).mean()` calculation on a simpler `Series`:"
   ]
  },
  {
   "cell_type": "code",
   "execution_count": 77,
   "id": "d5568590-be1c-4a35-b9f0-951db2d76dba",
   "metadata": {},
   "outputs": [
    {
     "data": {
      "text/plain": [
       "0      0\n",
       "1      0\n",
       "2    100\n",
       "3    100\n",
       "dtype: int64"
      ]
     },
     "execution_count": 77,
     "metadata": {},
     "output_type": "execute_result"
    }
   ],
   "source": [
    "(pd.Series([1,2,3,4])\n",
    "    .gt(2)\n",
    "    .mul(100)\n",
    ")"
   ]
  },
  {
   "cell_type": "code",
   "execution_count": 78,
   "id": "bad38449-f0bf-4b1d-a777-29eea46b1dab",
   "metadata": {},
   "outputs": [
    {
     "data": {
      "text/plain": [
       "50.0"
      ]
     },
     "execution_count": 78,
     "metadata": {},
     "output_type": "execute_result"
    }
   ],
   "source": [
    "(pd.Series([1,2,3,4])\n",
    "     .gt(2)\n",
    "     .mul(100)\n",
    "     .mean()   \n",
    ")"
   ]
  },
  {
   "cell_type": "markdown",
   "id": "ccb51ace-1b4a-4017-8289-2efef1db0211",
   "metadata": {},
   "source": [
    "If you sum up a series of boolean values, the result is the count of `True` values. If you take the mean of a series of boolean values, the result is the fraction of values that are `True`.\n",
    "\n",
    "`.agg` can perform multiple operations."
   ]
  },
  {
   "cell_type": "code",
   "execution_count": 79,
   "id": "1a4b7b93-885b-4986-979d-5c5912455e8f",
   "metadata": {},
   "outputs": [
    {
     "data": {
      "text/plain": [
       "18.369045304297103"
      ]
     },
     "execution_count": 79,
     "metadata": {},
     "output_type": "execute_result"
    }
   ],
   "source": [
    "city_mpg.agg('mean')"
   ]
  },
  {
   "cell_type": "code",
   "execution_count": 80,
   "id": "b1c5ff16-178b-4bef-a4e0-f7e09cbbccfb",
   "metadata": {},
   "outputs": [],
   "source": [
    "def second_to_last(s):\n",
    "    return s.iloc[-2]"
   ]
  },
  {
   "cell_type": "code",
   "execution_count": 81,
   "id": "1d06195c-6836-484e-b135-9d7d3d6eab9b",
   "metadata": {},
   "outputs": [
    {
     "data": {
      "text/plain": [
       "mean               18.369045\n",
       "var                62.503036\n",
       "max               150.000000\n",
       "second_to_last     18.000000\n",
       "Name: city08, dtype: float64"
      ]
     },
     "execution_count": 81,
     "metadata": {},
     "output_type": "execute_result"
    }
   ],
   "source": [
    "city_mpg.agg(['mean', np.var, max, second_to_last])"
   ]
  },
  {
   "cell_type": "markdown",
   "id": "577a9163-a668-4818-80f2-1b404085e8a5",
   "metadata": {},
   "source": [
    "Aggregation strings and descriptions:\n",
    "\n",
    "|Method|Description|\n",
    "|:-|:-|\n",
    "|`'all'`|Returns `True` if every value is truthy.|\n",
    "|`'any'`|Returns `True` if any value is truthy.|\n",
    "|`'autocorr'`|Returns Pearson correlation of series with shifted self. Can override `lag` as keyword argument (default is 1).|\n",
    "|`'corr'`|Returns Pearson correlation of series with other series. Need to specify `other`|\n",
    "|`'count'`|Returns count of non-missing values.|\n",
    "|`'cov'`|Returns covariance of series with other series. Need to specify `other`|\n",
    "|`'dtype'`|Type of the series.|\n",
    "|`'dtypes'`|Type of the series.|\n",
    "|`'empty'`|`True` is no values in series.|\n",
    "|`'hasnans'`|`True` if missing values in series.|\n",
    "|`'idxmax'`|Returns index value of maximum value.|\n",
    "|`'idxmin'`|Returns index value of minimum value.|\n",
    "|`'is_monotonic'`|`True` if values always increase.|\n",
    "|`'is_monotonic_decreasing'`|`True` if values always decrease.|\n",
    "|`'is_monotonic_increasing'`|`True` if values always increase.|\n",
    "|`'kurt'`|Returns \"excess\" kurtosis (0 is normal distribution). Values greater than 0 have more outliers than normal.|\n",
    "|`'mad'`|Returns the mean absolute deviation.|\n",
    "|`'max'`|Returns the maximum value.|\n",
    "|`'mean'`|Returns the mean value.|\n",
    "|`'median'`|Returns the median value.|\n",
    "|`'min'`|Returns the minimum value.|\n",
    "|`'nbytes'`|Returns the number of bytes of the data.|\n",
    "|`'ndim'`|Return the number of dimensions (1) of the data.|\n",
    "|`'nunique'`|Returns the count of unique values.|\n",
    "|`'quantile'`|Returns the median value. Can override `q` to specify other quantile.|\n",
    "|`'sem'`|Returns the unbiarsed standard error.|\n",
    "|`'size'`|Returns the size of the data.|\n",
    "|`'skew'`|Returns the unbiased skew of the data. Negative indicates tail is on the left side.|\n",
    "|`'std'`|Returns the standard deviation of the data.|\n",
    "|`'sum'`|Returns the sum of the series.|"
   ]
  },
  {
   "cell_type": "markdown",
   "id": "3eeb6dd5-0226-42eb-9a7a-a6b486da0a1b",
   "metadata": {},
   "source": [
    "Aggregation methods and properties:\n",
    "\n",
    "|Method|Description|\n",
    "|:-|:-|\n",
    "|`s.agg(func=None, axis=0, *args, **kwargs)`|Returns a scalar if `func` is a single aggregation function. Returns a series if a list of aggregations are passed to `func`.|\n",
    "|`s.all(axis=0, bool_only=None, skipna=True, level=None)`|Returns `True` if every value is truthy. Otherwise `False`.|\n",
    "|`s.any(axis=0, bool_only=None, skipna=True, level=None)`|Returns `True` if at least one value is truthy. Otherwise `False`.|\n",
    "|`s.autocorr(lag=1)`|Returns Pearson correlation between `s` and shifted `s`.|\n",
    "|`s.corr(other, method='pearson')`|Returns correlation coefficient for `'pearson'`, `'spearman'`, `'kendall'`, or a callable.|\n",
    "|`s.cov(other, min_periods=None)`|Returns covariance.|\n",
    "|`s.max(axis=None, skipna=None, level=None, numeric_only=None)`|Returns maximum value.|\n",
    "|`s.min(axis=None, skipna=None, level=None, numeric_only=None)`|Returns minimum value.|\n",
    "|`s.mean(axis=None, skipna=None, level=None, numeric_only=None)`|Returns mean value.|\n",
    "|`s.median(axis=None, skipna=None, level=None, numeric_only=None)`|Returns median value.|\n",
    "|`s.prod(axis=None, skipna=None, level=None, numeric_only=None, min_count=0)`|Returns product of `s` values.|\n",
    "|`s.quantile(q=0.5, interpolation='linear')`|Returns 50% quantile by default. Returns `Series` if `q` is a list.|\n",
    "|`s.sem(axis=None, skipna=None, level=None, ddof=1, numeric_only=None)`|Returns unbiased standard error of mean.|\n",
    "|`s.std(axis=None, skipna=None, level=None, ddof=1, numeric_only=None)`|Returns sample standard deviation.|\n",
    "|`s.var(axis=None, skipna=None, level=None, ddof=1, numeric_only=None)`|Returns unbiased variance.|\n",
    "|`s.skew(axis=None, skipna=None, level=None, numeric_only=None)`|Returns unbiased skew.|\n",
    "|`s.kurtosis(axis=None, skipna=None, level=None, numeric_only=None)`|Returns unbiased kurtosis.|\n",
    "|`s.nunique(dropna=True)`|Returns count of unique items.|\n",
    "|`s.count(level=None)`|Returns count of non-missing items.|\n",
    "|`s.size`|Number of items in series. (Property)|\n",
    "|`s.is_unique`|`True` if all values are unique.|\n",
    "|`s.is_monotonic`|`True` if all values are increasing.|\n",
    "|`s.is_monotonic_increasing`|`True` if all values are increasing.|\n",
    "|`s.is_monotonic_decreasing`|`True` if all values are decreasing.|"
   ]
  },
  {
   "cell_type": "markdown",
   "id": "2dfdd400-3e55-440b-9df9-7602e777c0c0",
   "metadata": {},
   "source": [
    "### Exercises\n",
    "\n",
    "With a dataset of your choice:\n",
    "\n",
    "1. Find the count of non-missing values of a series.\n",
    "2. Find the number of entries of a series.\n",
    "3. Find the number of unique entries of a series.\n",
    "4. Find the mean value of a series.\n",
    "5. Find the maximum value of a series.\n",
    "6. Use the `.agg` method to find all of the above."
   ]
  },
  {
   "cell_type": "code",
   "execution_count": 82,
   "id": "73356c5d-df19-46c7-a62e-44bf57391a9a",
   "metadata": {},
   "outputs": [
    {
     "data": {
      "text/plain": [
       "41144"
      ]
     },
     "execution_count": 82,
     "metadata": {},
     "output_type": "execute_result"
    }
   ],
   "source": [
    "city_mpg.count()"
   ]
  },
  {
   "cell_type": "code",
   "execution_count": 83,
   "id": "93848109-56fa-4496-a4a3-ffe66b48e03a",
   "metadata": {},
   "outputs": [
    {
     "data": {
      "text/plain": [
       "41144"
      ]
     },
     "execution_count": 83,
     "metadata": {},
     "output_type": "execute_result"
    }
   ],
   "source": [
    "city_mpg.size"
   ]
  },
  {
   "cell_type": "code",
   "execution_count": 84,
   "id": "412aa0ea-d132-4987-9c9e-c9ce4d1f7192",
   "metadata": {},
   "outputs": [
    {
     "data": {
      "text/plain": [
       "105"
      ]
     },
     "execution_count": 84,
     "metadata": {},
     "output_type": "execute_result"
    }
   ],
   "source": [
    "city_mpg.nunique()"
   ]
  },
  {
   "cell_type": "code",
   "execution_count": 85,
   "id": "bc847ffa-5461-4654-b979-f0c950146e55",
   "metadata": {},
   "outputs": [
    {
     "data": {
      "text/plain": [
       "18.369045304297103"
      ]
     },
     "execution_count": 85,
     "metadata": {},
     "output_type": "execute_result"
    }
   ],
   "source": [
    "city_mpg.mean()"
   ]
  },
  {
   "cell_type": "code",
   "execution_count": 86,
   "id": "503bdea5-ffc7-4312-954e-51a34be19184",
   "metadata": {},
   "outputs": [
    {
     "data": {
      "text/plain": [
       "150"
      ]
     },
     "execution_count": 86,
     "metadata": {},
     "output_type": "execute_result"
    }
   ],
   "source": [
    "city_mpg.max()"
   ]
  },
  {
   "cell_type": "code",
   "execution_count": 87,
   "id": "d4939634-2f85-49d3-ab33-d78ccbf7b1da",
   "metadata": {},
   "outputs": [
    {
     "data": {
      "text/plain": [
       "count      41144.000000\n",
       "size       41144.000000\n",
       "nunique      105.000000\n",
       "mean          18.369045\n",
       "max          150.000000\n",
       "Name: city08, dtype: float64"
      ]
     },
     "execution_count": 87,
     "metadata": {},
     "output_type": "execute_result"
    }
   ],
   "source": [
    "city_mpg.agg(['count', 'size', 'nunique', 'mean', 'max'])"
   ]
  },
  {
   "cell_type": "markdown",
   "id": "4ceef759-dd3c-4a58-81e0-6ea1e71fb529",
   "metadata": {},
   "source": [
    "## Chapter 8: Conversion Methods"
   ]
  },
  {
   "cell_type": "markdown",
   "id": "26c96bf5-ae9f-488c-a55d-ffed73abdd02",
   "metadata": {},
   "source": [
    "### 8.1 Automatic Conversion"
   ]
  },
  {
   "cell_type": "markdown",
   "id": "5c65516e-ac89-463d-a984-3f07e512ed40",
   "metadata": {},
   "source": [
    "`.convert_dtypes` tries to convert a `Series` to a type that supports `pd.NA`. In the case of our `city_mpg` series it will change the type from `int64` to `Int64`."
   ]
  },
  {
   "cell_type": "code",
   "execution_count": 89,
   "id": "4bbaa927-19cc-473a-a284-82c51312f248",
   "metadata": {},
   "outputs": [
    {
     "data": {
      "text/plain": [
       "0        19\n",
       "1         9\n",
       "2        23\n",
       "3        10\n",
       "4        17\n",
       "         ..\n",
       "41139    19\n",
       "41140    20\n",
       "41141    18\n",
       "41142    18\n",
       "41143    16\n",
       "Name: city08, Length: 41144, dtype: Int64"
      ]
     },
     "execution_count": 89,
     "metadata": {},
     "output_type": "execute_result"
    }
   ],
   "source": [
    "city_mpg.convert_dtypes()"
   ]
  },
  {
   "cell_type": "markdown",
   "id": "a835906f-0b95-4807-8358-1208d0655b3f",
   "metadata": {},
   "source": [
    "`.astype` works more explicitly. The maximumm 8-bit integer is 127, so we need 16-bit integer for `city_mpg` since it's max is 150."
   ]
  },
  {
   "cell_type": "code",
   "execution_count": 91,
   "id": "5546abfd-2197-4c04-b87f-37e4ef27780a",
   "metadata": {},
   "outputs": [
    {
     "data": {
      "text/plain": [
       "150"
      ]
     },
     "execution_count": 91,
     "metadata": {},
     "output_type": "execute_result"
    }
   ],
   "source": [
    "city_mpg.max()"
   ]
  },
  {
   "cell_type": "code",
   "execution_count": 92,
   "id": "260f91c9-64e8-4583-b36d-c1f05dd7034a",
   "metadata": {},
   "outputs": [
    {
     "data": {
      "text/plain": [
       "0        19\n",
       "1         9\n",
       "2        23\n",
       "3        10\n",
       "4        17\n",
       "         ..\n",
       "41139    19\n",
       "41140    20\n",
       "41141    18\n",
       "41142    18\n",
       "41143    16\n",
       "Name: city08, Length: 41144, dtype: Int16"
      ]
     },
     "execution_count": 92,
     "metadata": {},
     "output_type": "execute_result"
    }
   ],
   "source": [
    "city_mpg.astype('Int16')"
   ]
  },
  {
   "cell_type": "code",
   "execution_count": 93,
   "id": "0179b666-83ef-4d67-b0a0-44cc6d67343f",
   "metadata": {},
   "outputs": [
    {
     "ename": "TypeError",
     "evalue": "cannot safely cast non-equivalent int64 to int8",
     "output_type": "error",
     "traceback": [
      "\u001b[0;31m---------------------------------------------------------------------------\u001b[0m",
      "\u001b[0;31mTypeError\u001b[0m                                 Traceback (most recent call last)",
      "File \u001b[0;32m~/mambaforge/lib/python3.10/site-packages/pandas/core/arrays/integer.py:51\u001b[0m, in \u001b[0;36mIntegerDtype._safe_cast\u001b[0;34m(cls, values, dtype, copy)\u001b[0m\n\u001b[1;32m     50\u001b[0m \u001b[38;5;28;01mtry\u001b[39;00m:\n\u001b[0;32m---> 51\u001b[0m     \u001b[38;5;28;01mreturn\u001b[39;00m \u001b[43mvalues\u001b[49m\u001b[38;5;241;43m.\u001b[39;49m\u001b[43mastype\u001b[49m\u001b[43m(\u001b[49m\u001b[43mdtype\u001b[49m\u001b[43m,\u001b[49m\u001b[43m \u001b[49m\u001b[43mcasting\u001b[49m\u001b[38;5;241;43m=\u001b[39;49m\u001b[38;5;124;43m\"\u001b[39;49m\u001b[38;5;124;43msafe\u001b[39;49m\u001b[38;5;124;43m\"\u001b[39;49m\u001b[43m,\u001b[49m\u001b[43m \u001b[49m\u001b[43mcopy\u001b[49m\u001b[38;5;241;43m=\u001b[39;49m\u001b[43mcopy\u001b[49m\u001b[43m)\u001b[49m\n\u001b[1;32m     52\u001b[0m \u001b[38;5;28;01mexcept\u001b[39;00m \u001b[38;5;167;01mTypeError\u001b[39;00m \u001b[38;5;28;01mas\u001b[39;00m err:\n",
      "\u001b[0;31mTypeError\u001b[0m: Cannot cast array data from dtype('int64') to dtype('int8') according to the rule 'safe'",
      "\nThe above exception was the direct cause of the following exception:\n",
      "\u001b[0;31mTypeError\u001b[0m                                 Traceback (most recent call last)",
      "Cell \u001b[0;32mIn[93], line 1\u001b[0m\n\u001b[0;32m----> 1\u001b[0m \u001b[43mcity_mpg\u001b[49m\u001b[38;5;241;43m.\u001b[39;49m\u001b[43mastype\u001b[49m\u001b[43m(\u001b[49m\u001b[38;5;124;43m'\u001b[39;49m\u001b[38;5;124;43mInt8\u001b[39;49m\u001b[38;5;124;43m'\u001b[39;49m\u001b[43m)\u001b[49m\n",
      "File \u001b[0;32m~/mambaforge/lib/python3.10/site-packages/pandas/core/generic.py:6324\u001b[0m, in \u001b[0;36mNDFrame.astype\u001b[0;34m(self, dtype, copy, errors)\u001b[0m\n\u001b[1;32m   6317\u001b[0m     results \u001b[38;5;241m=\u001b[39m [\n\u001b[1;32m   6318\u001b[0m         \u001b[38;5;28mself\u001b[39m\u001b[38;5;241m.\u001b[39miloc[:, i]\u001b[38;5;241m.\u001b[39mastype(dtype, copy\u001b[38;5;241m=\u001b[39mcopy)\n\u001b[1;32m   6319\u001b[0m         \u001b[38;5;28;01mfor\u001b[39;00m i \u001b[38;5;129;01min\u001b[39;00m \u001b[38;5;28mrange\u001b[39m(\u001b[38;5;28mlen\u001b[39m(\u001b[38;5;28mself\u001b[39m\u001b[38;5;241m.\u001b[39mcolumns))\n\u001b[1;32m   6320\u001b[0m     ]\n\u001b[1;32m   6322\u001b[0m \u001b[38;5;28;01melse\u001b[39;00m:\n\u001b[1;32m   6323\u001b[0m     \u001b[38;5;66;03m# else, only a single dtype is given\u001b[39;00m\n\u001b[0;32m-> 6324\u001b[0m     new_data \u001b[38;5;241m=\u001b[39m \u001b[38;5;28;43mself\u001b[39;49m\u001b[38;5;241;43m.\u001b[39;49m\u001b[43m_mgr\u001b[49m\u001b[38;5;241;43m.\u001b[39;49m\u001b[43mastype\u001b[49m\u001b[43m(\u001b[49m\u001b[43mdtype\u001b[49m\u001b[38;5;241;43m=\u001b[39;49m\u001b[43mdtype\u001b[49m\u001b[43m,\u001b[49m\u001b[43m \u001b[49m\u001b[43mcopy\u001b[49m\u001b[38;5;241;43m=\u001b[39;49m\u001b[43mcopy\u001b[49m\u001b[43m,\u001b[49m\u001b[43m \u001b[49m\u001b[43merrors\u001b[49m\u001b[38;5;241;43m=\u001b[39;49m\u001b[43merrors\u001b[49m\u001b[43m)\u001b[49m\n\u001b[1;32m   6325\u001b[0m     \u001b[38;5;28;01mreturn\u001b[39;00m \u001b[38;5;28mself\u001b[39m\u001b[38;5;241m.\u001b[39m_constructor(new_data)\u001b[38;5;241m.\u001b[39m__finalize__(\u001b[38;5;28mself\u001b[39m, method\u001b[38;5;241m=\u001b[39m\u001b[38;5;124m\"\u001b[39m\u001b[38;5;124mastype\u001b[39m\u001b[38;5;124m\"\u001b[39m)\n\u001b[1;32m   6327\u001b[0m \u001b[38;5;66;03m# GH 33113: handle empty frame or series\u001b[39;00m\n",
      "File \u001b[0;32m~/mambaforge/lib/python3.10/site-packages/pandas/core/internals/managers.py:451\u001b[0m, in \u001b[0;36mBaseBlockManager.astype\u001b[0;34m(self, dtype, copy, errors)\u001b[0m\n\u001b[1;32m    448\u001b[0m \u001b[38;5;28;01melif\u001b[39;00m using_copy_on_write():\n\u001b[1;32m    449\u001b[0m     copy \u001b[38;5;241m=\u001b[39m \u001b[38;5;28;01mFalse\u001b[39;00m\n\u001b[0;32m--> 451\u001b[0m \u001b[38;5;28;01mreturn\u001b[39;00m \u001b[38;5;28;43mself\u001b[39;49m\u001b[38;5;241;43m.\u001b[39;49m\u001b[43mapply\u001b[49m\u001b[43m(\u001b[49m\n\u001b[1;32m    452\u001b[0m \u001b[43m    \u001b[49m\u001b[38;5;124;43m\"\u001b[39;49m\u001b[38;5;124;43mastype\u001b[39;49m\u001b[38;5;124;43m\"\u001b[39;49m\u001b[43m,\u001b[49m\n\u001b[1;32m    453\u001b[0m \u001b[43m    \u001b[49m\u001b[43mdtype\u001b[49m\u001b[38;5;241;43m=\u001b[39;49m\u001b[43mdtype\u001b[49m\u001b[43m,\u001b[49m\n\u001b[1;32m    454\u001b[0m \u001b[43m    \u001b[49m\u001b[43mcopy\u001b[49m\u001b[38;5;241;43m=\u001b[39;49m\u001b[43mcopy\u001b[49m\u001b[43m,\u001b[49m\n\u001b[1;32m    455\u001b[0m \u001b[43m    \u001b[49m\u001b[43merrors\u001b[49m\u001b[38;5;241;43m=\u001b[39;49m\u001b[43merrors\u001b[49m\u001b[43m,\u001b[49m\n\u001b[1;32m    456\u001b[0m \u001b[43m    \u001b[49m\u001b[43musing_cow\u001b[49m\u001b[38;5;241;43m=\u001b[39;49m\u001b[43musing_copy_on_write\u001b[49m\u001b[43m(\u001b[49m\u001b[43m)\u001b[49m\u001b[43m,\u001b[49m\n\u001b[1;32m    457\u001b[0m \u001b[43m\u001b[49m\u001b[43m)\u001b[49m\n",
      "File \u001b[0;32m~/mambaforge/lib/python3.10/site-packages/pandas/core/internals/managers.py:352\u001b[0m, in \u001b[0;36mBaseBlockManager.apply\u001b[0;34m(self, f, align_keys, **kwargs)\u001b[0m\n\u001b[1;32m    350\u001b[0m         applied \u001b[38;5;241m=\u001b[39m b\u001b[38;5;241m.\u001b[39mapply(f, \u001b[38;5;241m*\u001b[39m\u001b[38;5;241m*\u001b[39mkwargs)\n\u001b[1;32m    351\u001b[0m     \u001b[38;5;28;01melse\u001b[39;00m:\n\u001b[0;32m--> 352\u001b[0m         applied \u001b[38;5;241m=\u001b[39m \u001b[38;5;28;43mgetattr\u001b[39;49m\u001b[43m(\u001b[49m\u001b[43mb\u001b[49m\u001b[43m,\u001b[49m\u001b[43m \u001b[49m\u001b[43mf\u001b[49m\u001b[43m)\u001b[49m\u001b[43m(\u001b[49m\u001b[38;5;241;43m*\u001b[39;49m\u001b[38;5;241;43m*\u001b[39;49m\u001b[43mkwargs\u001b[49m\u001b[43m)\u001b[49m\n\u001b[1;32m    353\u001b[0m     result_blocks \u001b[38;5;241m=\u001b[39m extend_blocks(applied, result_blocks)\n\u001b[1;32m    355\u001b[0m out \u001b[38;5;241m=\u001b[39m \u001b[38;5;28mtype\u001b[39m(\u001b[38;5;28mself\u001b[39m)\u001b[38;5;241m.\u001b[39mfrom_blocks(result_blocks, \u001b[38;5;28mself\u001b[39m\u001b[38;5;241m.\u001b[39maxes)\n",
      "File \u001b[0;32m~/mambaforge/lib/python3.10/site-packages/pandas/core/internals/blocks.py:511\u001b[0m, in \u001b[0;36mBlock.astype\u001b[0;34m(self, dtype, copy, errors, using_cow)\u001b[0m\n\u001b[1;32m    491\u001b[0m \u001b[38;5;250m\u001b[39m\u001b[38;5;124;03m\"\"\"\u001b[39;00m\n\u001b[1;32m    492\u001b[0m \u001b[38;5;124;03mCoerce to the new dtype.\u001b[39;00m\n\u001b[1;32m    493\u001b[0m \n\u001b[0;32m   (...)\u001b[0m\n\u001b[1;32m    507\u001b[0m \u001b[38;5;124;03mBlock\u001b[39;00m\n\u001b[1;32m    508\u001b[0m \u001b[38;5;124;03m\"\"\"\u001b[39;00m\n\u001b[1;32m    509\u001b[0m values \u001b[38;5;241m=\u001b[39m \u001b[38;5;28mself\u001b[39m\u001b[38;5;241m.\u001b[39mvalues\n\u001b[0;32m--> 511\u001b[0m new_values \u001b[38;5;241m=\u001b[39m \u001b[43mastype_array_safe\u001b[49m\u001b[43m(\u001b[49m\u001b[43mvalues\u001b[49m\u001b[43m,\u001b[49m\u001b[43m \u001b[49m\u001b[43mdtype\u001b[49m\u001b[43m,\u001b[49m\u001b[43m \u001b[49m\u001b[43mcopy\u001b[49m\u001b[38;5;241;43m=\u001b[39;49m\u001b[43mcopy\u001b[49m\u001b[43m,\u001b[49m\u001b[43m \u001b[49m\u001b[43merrors\u001b[49m\u001b[38;5;241;43m=\u001b[39;49m\u001b[43merrors\u001b[49m\u001b[43m)\u001b[49m\n\u001b[1;32m    513\u001b[0m new_values \u001b[38;5;241m=\u001b[39m maybe_coerce_values(new_values)\n\u001b[1;32m    515\u001b[0m refs \u001b[38;5;241m=\u001b[39m \u001b[38;5;28;01mNone\u001b[39;00m\n",
      "File \u001b[0;32m~/mambaforge/lib/python3.10/site-packages/pandas/core/dtypes/astype.py:242\u001b[0m, in \u001b[0;36mastype_array_safe\u001b[0;34m(values, dtype, copy, errors)\u001b[0m\n\u001b[1;32m    239\u001b[0m     dtype \u001b[38;5;241m=\u001b[39m dtype\u001b[38;5;241m.\u001b[39mnumpy_dtype\n\u001b[1;32m    241\u001b[0m \u001b[38;5;28;01mtry\u001b[39;00m:\n\u001b[0;32m--> 242\u001b[0m     new_values \u001b[38;5;241m=\u001b[39m \u001b[43mastype_array\u001b[49m\u001b[43m(\u001b[49m\u001b[43mvalues\u001b[49m\u001b[43m,\u001b[49m\u001b[43m \u001b[49m\u001b[43mdtype\u001b[49m\u001b[43m,\u001b[49m\u001b[43m \u001b[49m\u001b[43mcopy\u001b[49m\u001b[38;5;241;43m=\u001b[39;49m\u001b[43mcopy\u001b[49m\u001b[43m)\u001b[49m\n\u001b[1;32m    243\u001b[0m \u001b[38;5;28;01mexcept\u001b[39;00m (\u001b[38;5;167;01mValueError\u001b[39;00m, \u001b[38;5;167;01mTypeError\u001b[39;00m):\n\u001b[1;32m    244\u001b[0m     \u001b[38;5;66;03m# e.g. _astype_nansafe can fail on object-dtype of strings\u001b[39;00m\n\u001b[1;32m    245\u001b[0m     \u001b[38;5;66;03m#  trying to convert to float\u001b[39;00m\n\u001b[1;32m    246\u001b[0m     \u001b[38;5;28;01mif\u001b[39;00m errors \u001b[38;5;241m==\u001b[39m \u001b[38;5;124m\"\u001b[39m\u001b[38;5;124mignore\u001b[39m\u001b[38;5;124m\"\u001b[39m:\n",
      "File \u001b[0;32m~/mambaforge/lib/python3.10/site-packages/pandas/core/dtypes/astype.py:187\u001b[0m, in \u001b[0;36mastype_array\u001b[0;34m(values, dtype, copy)\u001b[0m\n\u001b[1;32m    184\u001b[0m     values \u001b[38;5;241m=\u001b[39m values\u001b[38;5;241m.\u001b[39mastype(dtype, copy\u001b[38;5;241m=\u001b[39mcopy)\n\u001b[1;32m    186\u001b[0m \u001b[38;5;28;01melse\u001b[39;00m:\n\u001b[0;32m--> 187\u001b[0m     values \u001b[38;5;241m=\u001b[39m \u001b[43m_astype_nansafe\u001b[49m\u001b[43m(\u001b[49m\u001b[43mvalues\u001b[49m\u001b[43m,\u001b[49m\u001b[43m \u001b[49m\u001b[43mdtype\u001b[49m\u001b[43m,\u001b[49m\u001b[43m \u001b[49m\u001b[43mcopy\u001b[49m\u001b[38;5;241;43m=\u001b[39;49m\u001b[43mcopy\u001b[49m\u001b[43m)\u001b[49m\n\u001b[1;32m    189\u001b[0m \u001b[38;5;66;03m# in pandas we don't store numpy str dtypes, so convert to object\u001b[39;00m\n\u001b[1;32m    190\u001b[0m \u001b[38;5;28;01mif\u001b[39;00m \u001b[38;5;28misinstance\u001b[39m(dtype, np\u001b[38;5;241m.\u001b[39mdtype) \u001b[38;5;129;01mand\u001b[39;00m \u001b[38;5;28missubclass\u001b[39m(values\u001b[38;5;241m.\u001b[39mdtype\u001b[38;5;241m.\u001b[39mtype, \u001b[38;5;28mstr\u001b[39m):\n",
      "File \u001b[0;32m~/mambaforge/lib/python3.10/site-packages/pandas/core/dtypes/astype.py:84\u001b[0m, in \u001b[0;36m_astype_nansafe\u001b[0;34m(arr, dtype, copy, skipna)\u001b[0m\n\u001b[1;32m     82\u001b[0m \u001b[38;5;66;03m# dispatch on extension dtype if needed\u001b[39;00m\n\u001b[1;32m     83\u001b[0m \u001b[38;5;28;01mif\u001b[39;00m \u001b[38;5;28misinstance\u001b[39m(dtype, ExtensionDtype):\n\u001b[0;32m---> 84\u001b[0m     \u001b[38;5;28;01mreturn\u001b[39;00m \u001b[43mdtype\u001b[49m\u001b[38;5;241;43m.\u001b[39;49m\u001b[43mconstruct_array_type\u001b[49m\u001b[43m(\u001b[49m\u001b[43m)\u001b[49m\u001b[38;5;241;43m.\u001b[39;49m\u001b[43m_from_sequence\u001b[49m\u001b[43m(\u001b[49m\u001b[43marr\u001b[49m\u001b[43m,\u001b[49m\u001b[43m \u001b[49m\u001b[43mdtype\u001b[49m\u001b[38;5;241;43m=\u001b[39;49m\u001b[43mdtype\u001b[49m\u001b[43m,\u001b[49m\u001b[43m \u001b[49m\u001b[43mcopy\u001b[49m\u001b[38;5;241;43m=\u001b[39;49m\u001b[43mcopy\u001b[49m\u001b[43m)\u001b[49m\n\u001b[1;32m     86\u001b[0m \u001b[38;5;28;01melif\u001b[39;00m \u001b[38;5;129;01mnot\u001b[39;00m \u001b[38;5;28misinstance\u001b[39m(dtype, np\u001b[38;5;241m.\u001b[39mdtype):  \u001b[38;5;66;03m# pragma: no cover\u001b[39;00m\n\u001b[1;32m     87\u001b[0m     \u001b[38;5;28;01mraise\u001b[39;00m \u001b[38;5;167;01mValueError\u001b[39;00m(\u001b[38;5;124m\"\u001b[39m\u001b[38;5;124mdtype must be np.dtype or ExtensionDtype\u001b[39m\u001b[38;5;124m\"\u001b[39m)\n",
      "File \u001b[0;32m~/mambaforge/lib/python3.10/site-packages/pandas/core/arrays/masked.py:140\u001b[0m, in \u001b[0;36mBaseMaskedArray._from_sequence\u001b[0;34m(cls, scalars, dtype, copy)\u001b[0m\n\u001b[1;32m    136\u001b[0m \u001b[38;5;129m@classmethod\u001b[39m\n\u001b[1;32m    137\u001b[0m \u001b[38;5;28;01mdef\u001b[39;00m \u001b[38;5;21m_from_sequence\u001b[39m(\n\u001b[1;32m    138\u001b[0m     \u001b[38;5;28mcls\u001b[39m: \u001b[38;5;28mtype\u001b[39m[BaseMaskedArrayT], scalars, \u001b[38;5;241m*\u001b[39m, dtype\u001b[38;5;241m=\u001b[39m\u001b[38;5;28;01mNone\u001b[39;00m, copy: \u001b[38;5;28mbool\u001b[39m \u001b[38;5;241m=\u001b[39m \u001b[38;5;28;01mFalse\u001b[39;00m\n\u001b[1;32m    139\u001b[0m ) \u001b[38;5;241m-\u001b[39m\u001b[38;5;241m>\u001b[39m BaseMaskedArrayT:\n\u001b[0;32m--> 140\u001b[0m     values, mask \u001b[38;5;241m=\u001b[39m \u001b[38;5;28;43mcls\u001b[39;49m\u001b[38;5;241;43m.\u001b[39;49m\u001b[43m_coerce_to_array\u001b[49m\u001b[43m(\u001b[49m\u001b[43mscalars\u001b[49m\u001b[43m,\u001b[49m\u001b[43m \u001b[49m\u001b[43mdtype\u001b[49m\u001b[38;5;241;43m=\u001b[39;49m\u001b[43mdtype\u001b[49m\u001b[43m,\u001b[49m\u001b[43m \u001b[49m\u001b[43mcopy\u001b[49m\u001b[38;5;241;43m=\u001b[39;49m\u001b[43mcopy\u001b[49m\u001b[43m)\u001b[49m\n\u001b[1;32m    141\u001b[0m     \u001b[38;5;28;01mreturn\u001b[39;00m \u001b[38;5;28mcls\u001b[39m(values, mask)\n",
      "File \u001b[0;32m~/mambaforge/lib/python3.10/site-packages/pandas/core/arrays/numeric.py:277\u001b[0m, in \u001b[0;36mNumericArray._coerce_to_array\u001b[0;34m(cls, value, dtype, copy)\u001b[0m\n\u001b[1;32m    275\u001b[0m default_dtype \u001b[38;5;241m=\u001b[39m dtype_cls\u001b[38;5;241m.\u001b[39m_default_np_dtype\n\u001b[1;32m    276\u001b[0m mask \u001b[38;5;241m=\u001b[39m \u001b[38;5;28;01mNone\u001b[39;00m\n\u001b[0;32m--> 277\u001b[0m values, mask, _, _ \u001b[38;5;241m=\u001b[39m \u001b[43m_coerce_to_data_and_mask\u001b[49m\u001b[43m(\u001b[49m\n\u001b[1;32m    278\u001b[0m \u001b[43m    \u001b[49m\u001b[43mvalue\u001b[49m\u001b[43m,\u001b[49m\u001b[43m \u001b[49m\u001b[43mmask\u001b[49m\u001b[43m,\u001b[49m\u001b[43m \u001b[49m\u001b[43mdtype\u001b[49m\u001b[43m,\u001b[49m\u001b[43m \u001b[49m\u001b[43mcopy\u001b[49m\u001b[43m,\u001b[49m\u001b[43m \u001b[49m\u001b[43mdtype_cls\u001b[49m\u001b[43m,\u001b[49m\u001b[43m \u001b[49m\u001b[43mdefault_dtype\u001b[49m\n\u001b[1;32m    279\u001b[0m \u001b[43m\u001b[49m\u001b[43m)\u001b[49m\n\u001b[1;32m    280\u001b[0m \u001b[38;5;28;01mreturn\u001b[39;00m values, mask\n",
      "File \u001b[0;32m~/mambaforge/lib/python3.10/site-packages/pandas/core/arrays/numeric.py:233\u001b[0m, in \u001b[0;36m_coerce_to_data_and_mask\u001b[0;34m(values, mask, dtype, copy, dtype_cls, default_dtype)\u001b[0m\n\u001b[1;32m    231\u001b[0m     values \u001b[38;5;241m=\u001b[39m values\u001b[38;5;241m.\u001b[39mastype(dtype, copy\u001b[38;5;241m=\u001b[39mcopy)\n\u001b[1;32m    232\u001b[0m \u001b[38;5;28;01melse\u001b[39;00m:\n\u001b[0;32m--> 233\u001b[0m     values \u001b[38;5;241m=\u001b[39m \u001b[43mdtype_cls\u001b[49m\u001b[38;5;241;43m.\u001b[39;49m\u001b[43m_safe_cast\u001b[49m\u001b[43m(\u001b[49m\u001b[43mvalues\u001b[49m\u001b[43m,\u001b[49m\u001b[43m \u001b[49m\u001b[43mdtype\u001b[49m\u001b[43m,\u001b[49m\u001b[43m \u001b[49m\u001b[43mcopy\u001b[49m\u001b[38;5;241;43m=\u001b[39;49m\u001b[38;5;28;43;01mFalse\u001b[39;49;00m\u001b[43m)\u001b[49m\n\u001b[1;32m    235\u001b[0m \u001b[38;5;28;01mreturn\u001b[39;00m values, mask, dtype, inferred_type\n",
      "File \u001b[0;32m~/mambaforge/lib/python3.10/site-packages/pandas/core/arrays/integer.py:57\u001b[0m, in \u001b[0;36mIntegerDtype._safe_cast\u001b[0;34m(cls, values, dtype, copy)\u001b[0m\n\u001b[1;32m     54\u001b[0m \u001b[38;5;28;01mif\u001b[39;00m (casted \u001b[38;5;241m==\u001b[39m values)\u001b[38;5;241m.\u001b[39mall():\n\u001b[1;32m     55\u001b[0m     \u001b[38;5;28;01mreturn\u001b[39;00m casted\n\u001b[0;32m---> 57\u001b[0m \u001b[38;5;28;01mraise\u001b[39;00m \u001b[38;5;167;01mTypeError\u001b[39;00m(\n\u001b[1;32m     58\u001b[0m     \u001b[38;5;124mf\u001b[39m\u001b[38;5;124m\"\u001b[39m\u001b[38;5;124mcannot safely cast non-equivalent \u001b[39m\u001b[38;5;132;01m{\u001b[39;00mvalues\u001b[38;5;241m.\u001b[39mdtype\u001b[38;5;132;01m}\u001b[39;00m\u001b[38;5;124m to \u001b[39m\u001b[38;5;132;01m{\u001b[39;00mnp\u001b[38;5;241m.\u001b[39mdtype(dtype)\u001b[38;5;132;01m}\u001b[39;00m\u001b[38;5;124m\"\u001b[39m\n\u001b[1;32m     59\u001b[0m ) \u001b[38;5;28;01mfrom\u001b[39;00m \u001b[38;5;21;01merr\u001b[39;00m\n",
      "\u001b[0;31mTypeError\u001b[0m: cannot safely cast non-equivalent int64 to int8"
     ]
    }
   ],
   "source": [
    "city_mpg.astype('Int8')"
   ]
  },
  {
   "cell_type": "markdown",
   "id": "12f0973c-0fd9-4874-b785-f64963b30166",
   "metadata": {},
   "source": [
    "If you can use a narrower type, you can cut back on memory usage, giving you memory to process more data.\n",
    "\n",
    "Use NumPy to inspect limits on integer and float types:"
   ]
  },
  {
   "cell_type": "code",
   "execution_count": 94,
   "id": "771cf0da-71cd-40c4-9999-2f017801943b",
   "metadata": {},
   "outputs": [
    {
     "data": {
      "text/plain": [
       "iinfo(min=-9223372036854775808, max=9223372036854775807, dtype=int64)"
      ]
     },
     "execution_count": 94,
     "metadata": {},
     "output_type": "execute_result"
    }
   ],
   "source": [
    "np.iinfo('int64')"
   ]
  },
  {
   "cell_type": "code",
   "execution_count": 95,
   "id": "c50fb538-23e4-4ba4-8957-37d13c368795",
   "metadata": {},
   "outputs": [
    {
     "data": {
      "text/plain": [
       "iinfo(min=0, max=255, dtype=uint8)"
      ]
     },
     "execution_count": 95,
     "metadata": {},
     "output_type": "execute_result"
    }
   ],
   "source": [
    "np.iinfo('uint8')"
   ]
  },
  {
   "cell_type": "code",
   "execution_count": 97,
   "id": "4abd8bb3-f626-41ec-8c8d-8d0e0dc1d569",
   "metadata": {},
   "outputs": [
    {
     "data": {
      "text/plain": [
       "finfo(resolution=0.001, min=-6.55040e+04, max=6.55040e+04, dtype=float16)"
      ]
     },
     "execution_count": 97,
     "metadata": {},
     "output_type": "execute_result"
    }
   ],
   "source": [
    "np.finfo('float16')"
   ]
  },
  {
   "cell_type": "code",
   "execution_count": 98,
   "id": "9611c9fe-759f-4e22-9e0b-00efeb9142b6",
   "metadata": {},
   "outputs": [
    {
     "data": {
      "text/plain": [
       "finfo(resolution=1e-15, min=-1.7976931348623157e+308, max=1.7976931348623157e+308, dtype=float64)"
      ]
     },
     "execution_count": 98,
     "metadata": {},
     "output_type": "execute_result"
    }
   ],
   "source": [
    "np.finfo('float64')"
   ]
  },
  {
   "cell_type": "markdown",
   "id": "60098b5a-1674-4eb4-9391-1c35c1cc0332",
   "metadata": {},
   "source": [
    "### 8.2 Memory Usage"
   ]
  },
  {
   "cell_type": "markdown",
   "id": "d27865ff-87a2-4ce2-afa0-db57f341870a",
   "metadata": {},
   "source": [
    "Use the `.nbytes` property or the `.memory_usage` method to calculate memory usage of the `Series`.\n",
    "\n",
    "Pass `deep=True` to `.memory_usage` when dealing with `object` types in the `Series`."
   ]
  },
  {
   "cell_type": "code",
   "execution_count": 99,
   "id": "63b2b18e-95f4-4865-9682-5030651cac4b",
   "metadata": {},
   "outputs": [
    {
     "data": {
      "text/plain": [
       "329152"
      ]
     },
     "execution_count": 99,
     "metadata": {},
     "output_type": "execute_result"
    }
   ],
   "source": [
    "city_mpg.nbytes"
   ]
  },
  {
   "cell_type": "code",
   "execution_count": 100,
   "id": "474b0a58-2917-491f-b920-04d37c88a868",
   "metadata": {},
   "outputs": [
    {
     "data": {
      "text/plain": [
       "123432"
      ]
     },
     "execution_count": 100,
     "metadata": {},
     "output_type": "execute_result"
    }
   ],
   "source": [
    "city_mpg.astype('Int16').nbytes"
   ]
  },
  {
   "cell_type": "markdown",
   "id": "f5aa12d5-54af-48f3-ba14-2e4161c1c15a",
   "metadata": {},
   "source": [
    "To get the amount of memory that includes strings in the `Series` (like the `make` column), we need to use the `.memory_usage` method:"
   ]
  },
  {
   "cell_type": "code",
   "execution_count": 102,
   "id": "6cd49aaa-405a-48a7-84f8-e84faa683a00",
   "metadata": {},
   "outputs": [
    {
     "data": {
      "text/plain": [
       "0        Alfa Romeo\n",
       "1           Ferrari\n",
       "2             Dodge\n",
       "3             Dodge\n",
       "4            Subaru\n",
       "            ...    \n",
       "41139        Subaru\n",
       "41140        Subaru\n",
       "41141        Subaru\n",
       "41142        Subaru\n",
       "41143        Subaru\n",
       "Name: make, Length: 41144, dtype: object"
      ]
     },
     "execution_count": 102,
     "metadata": {},
     "output_type": "execute_result"
    }
   ],
   "source": [
    "df.make"
   ]
  },
  {
   "cell_type": "code",
   "execution_count": 103,
   "id": "8d2abd7c-9d71-4d16-a90f-9f88086b9090",
   "metadata": {},
   "outputs": [
    {
     "data": {
      "text/plain": [
       "329152"
      ]
     },
     "execution_count": 103,
     "metadata": {},
     "output_type": "execute_result"
    }
   ],
   "source": [
    "df.make.nbytes"
   ]
  },
  {
   "cell_type": "code",
   "execution_count": 104,
   "id": "3aadfc76-e40c-49a1-97d9-79662937b94b",
   "metadata": {},
   "outputs": [
    {
     "data": {
      "text/plain": [
       "329280"
      ]
     },
     "execution_count": 104,
     "metadata": {},
     "output_type": "execute_result"
    }
   ],
   "source": [
    "df.make.memory_usage()"
   ]
  },
  {
   "cell_type": "code",
   "execution_count": 105,
   "id": "5deef39b-7461-4481-b7fd-912cc29701df",
   "metadata": {},
   "outputs": [
    {
     "data": {
      "text/plain": [
       "2606395"
      ]
     },
     "execution_count": 105,
     "metadata": {},
     "output_type": "execute_result"
    }
   ],
   "source": [
    "df.make.memory_usage(deep=True)"
   ]
  },
  {
   "cell_type": "markdown",
   "id": "b6c7ef4d-bfc9-47bc-8cab-c7f797c64020",
   "metadata": {},
   "source": [
    "`.memory_usage` includes the index memory and can include the contribution from `object` types. `.nbytes` is just the memory that the data is using and not the ancillary parts of the `Series`.\n",
    "\n",
    "Converting to categorical will save a lot of memory for the `make` data:"
   ]
  },
  {
   "cell_type": "code",
   "execution_count": 107,
   "id": "4b8c32c3-a0e3-4eaa-90c2-cff2c0c6c8a0",
   "metadata": {},
   "outputs": [
    {
     "data": {
      "text/plain": [
       "95888"
      ]
     },
     "execution_count": 107,
     "metadata": {},
     "output_type": "execute_result"
    }
   ],
   "source": [
    "(df.make\n",
    " .astype('category')\n",
    " .memory_usage(deep=True)\n",
    ")"
   ]
  },
  {
   "cell_type": "markdown",
   "id": "bbe609c4-af0b-4aa6-9a5c-1c10f50b6c84",
   "metadata": {},
   "source": [
    "### 8.3 String and Category Types"
   ]
  },
  {
   "cell_type": "code",
   "execution_count": 108,
   "id": "7c426a81-71ac-40f9-9897-4cbab25086c7",
   "metadata": {},
   "outputs": [
    {
     "data": {
      "text/plain": [
       "0        19\n",
       "1         9\n",
       "2        23\n",
       "3        10\n",
       "4        17\n",
       "         ..\n",
       "41139    19\n",
       "41140    20\n",
       "41141    18\n",
       "41142    18\n",
       "41143    16\n",
       "Name: city08, Length: 41144, dtype: object"
      ]
     },
     "execution_count": 108,
     "metadata": {},
     "output_type": "execute_result"
    }
   ],
   "source": [
    "city_mpg.astype(str)"
   ]
  },
  {
   "cell_type": "code",
   "execution_count": 109,
   "id": "ffab900d-00fc-4bb6-95b0-2c87b8d7d050",
   "metadata": {},
   "outputs": [
    {
     "data": {
      "text/plain": [
       "0        19\n",
       "1         9\n",
       "2        23\n",
       "3        10\n",
       "4        17\n",
       "         ..\n",
       "41139    19\n",
       "41140    20\n",
       "41141    18\n",
       "41142    18\n",
       "41143    16\n",
       "Name: city08, Length: 41144, dtype: category\n",
       "Categories (105, int64): [6, 7, 8, 9, ..., 137, 138, 140, 150]"
      ]
     },
     "execution_count": 109,
     "metadata": {},
     "output_type": "execute_result"
    }
   ],
   "source": [
    "city_mpg.astype('category')"
   ]
  },
  {
   "cell_type": "markdown",
   "id": "68c69a67-6be0-4e94-b3ca-e1ad8751f8ce",
   "metadata": {},
   "source": [
    "When you convert to categorical data, pandas no longer uses Python strings for each value but optimizes it. Potentially large memory savings if you have many duplicate values."
   ]
  },
  {
   "cell_type": "markdown",
   "id": "41f2ec80-fdfb-4d81-871a-4963f98ae531",
   "metadata": {},
   "source": [
    "### 8.4 Ordered Categories"
   ]
  },
  {
   "cell_type": "markdown",
   "id": "adf08259-5635-477c-a22b-61e9c23b7a50",
   "metadata": {},
   "source": [
    "To cretae ordered categories you need to define your own `CategoricalDtype`:"
   ]
  },
  {
   "cell_type": "code",
   "execution_count": 111,
   "id": "bd3e2408-6f6e-403a-9dcb-0d4c247a19e4",
   "metadata": {},
   "outputs": [
    {
     "data": {
      "text/plain": [
       "0        19\n",
       "1         9\n",
       "2        23\n",
       "3        10\n",
       "4        17\n",
       "         ..\n",
       "41139    19\n",
       "41140    20\n",
       "41141    18\n",
       "41142    18\n",
       "41143    16\n",
       "Name: city08, Length: 41144, dtype: category\n",
       "Categories (105, int64): [6 < 7 < 8 < 9 ... 137 < 138 < 140 < 150]"
      ]
     },
     "execution_count": 111,
     "metadata": {},
     "output_type": "execute_result"
    }
   ],
   "source": [
    "values = pd.Series(sorted(set(city_mpg)))\n",
    "city_type = pd.CategoricalDtype(categories=values, ordered=True)\n",
    "city_mpg.astype(city_type)"
   ]
  },
  {
   "cell_type": "markdown",
   "id": "b48b11d0-a19a-4135-9704-5be137afeb3d",
   "metadata": {},
   "source": [
    "|String or Type|Description|\n",
    "|:-|:-|\n",
    "|`str 'str' 'string'`|Convert to Python string.|\n",
    "|`'string'`|Convert type to pandas string (supports `pd.NA`).|\n",
    "|`int 'int' 'int64'|Convert type to NumPy int64.|\n",
    "|'int32' 'uint32'|Convert type to 32 signed or unsigned NumPy integer (can also use 16 and 8).|\n",
    "|`'Int64'`|Convert type to pandas Int64 (supports `pd.NA`). Might complain when you convert floats or strings.|\n",
    "|`float 'float' 'float64'`|Convert type to NumPy float64 (can also support 32 or 16)|\n",
    "|`'category'`|Convert type to categorical (supports `pd.NA`). Can also use instance of `CategoricalDtype`|\n",
    "|dates|Don't use this for data conversion, use `pd.to_datetime`.|"
   ]
  },
  {
   "cell_type": "markdown",
   "id": "4ed17aaf-b128-4e0a-af3b-9091d6277dbb",
   "metadata": {},
   "source": [
    "### 8.5 Converting to Other Types"
   ]
  },
  {
   "cell_type": "markdown",
   "id": "2b8ddfc7-8841-451d-89c1-085b79ae4373",
   "metadata": {},
   "source": [
    "Using Python lists will slow down your code significantly.\n",
    "\n",
    "You can convert a `Series` into a `DataFrame`:"
   ]
  },
  {
   "cell_type": "code",
   "execution_count": 112,
   "id": "9b78ed8f-b96f-48f3-a17d-794bcf69e32d",
   "metadata": {},
   "outputs": [
    {
     "data": {
      "text/html": [
       "<div>\n",
       "<style scoped>\n",
       "    .dataframe tbody tr th:only-of-type {\n",
       "        vertical-align: middle;\n",
       "    }\n",
       "\n",
       "    .dataframe tbody tr th {\n",
       "        vertical-align: top;\n",
       "    }\n",
       "\n",
       "    .dataframe thead th {\n",
       "        text-align: right;\n",
       "    }\n",
       "</style>\n",
       "<table border=\"1\" class=\"dataframe\">\n",
       "  <thead>\n",
       "    <tr style=\"text-align: right;\">\n",
       "      <th></th>\n",
       "      <th>city08</th>\n",
       "    </tr>\n",
       "  </thead>\n",
       "  <tbody>\n",
       "    <tr>\n",
       "      <th>0</th>\n",
       "      <td>19</td>\n",
       "    </tr>\n",
       "    <tr>\n",
       "      <th>1</th>\n",
       "      <td>9</td>\n",
       "    </tr>\n",
       "    <tr>\n",
       "      <th>2</th>\n",
       "      <td>23</td>\n",
       "    </tr>\n",
       "    <tr>\n",
       "      <th>3</th>\n",
       "      <td>10</td>\n",
       "    </tr>\n",
       "    <tr>\n",
       "      <th>4</th>\n",
       "      <td>17</td>\n",
       "    </tr>\n",
       "    <tr>\n",
       "      <th>...</th>\n",
       "      <td>...</td>\n",
       "    </tr>\n",
       "    <tr>\n",
       "      <th>41139</th>\n",
       "      <td>19</td>\n",
       "    </tr>\n",
       "    <tr>\n",
       "      <th>41140</th>\n",
       "      <td>20</td>\n",
       "    </tr>\n",
       "    <tr>\n",
       "      <th>41141</th>\n",
       "      <td>18</td>\n",
       "    </tr>\n",
       "    <tr>\n",
       "      <th>41142</th>\n",
       "      <td>18</td>\n",
       "    </tr>\n",
       "    <tr>\n",
       "      <th>41143</th>\n",
       "      <td>16</td>\n",
       "    </tr>\n",
       "  </tbody>\n",
       "</table>\n",
       "<p>41144 rows × 1 columns</p>\n",
       "</div>"
      ],
      "text/plain": [
       "       city08\n",
       "0          19\n",
       "1           9\n",
       "2          23\n",
       "3          10\n",
       "4          17\n",
       "...       ...\n",
       "41139      19\n",
       "41140      20\n",
       "41141      18\n",
       "41142      18\n",
       "41143      16\n",
       "\n",
       "[41144 rows x 1 columns]"
      ]
     },
     "execution_count": 112,
     "metadata": {},
     "output_type": "execute_result"
    }
   ],
   "source": [
    "city_mpg.to_frame()"
   ]
  },
  {
   "cell_type": "markdown",
   "id": "84898f6a-13a2-4b60-aede-582c886fc9cd",
   "metadata": {},
   "source": [
    "|Method|Description|\n",
    "|:-|:-|\n",
    "|`s.convert_dtypes(infer_objects=True, convert_string=True, convert_integer=True, convert_boolean=True, convert_floating=True)`|Convert types to appropriate pandas 1 types (that support `NA`). Doesn't try to reduce size of integer or float types|\n",
    "|`s.astype(dtype, copy=True, errors='raise')`|Cast series into particular type. If `errors='ignore'` then return original series on error.|\n",
    "|`pd.to_datetime(arg, errors='raise', dayfirst=False, yearfirst=False, utc=None, format=None, exact=True, unit=None, infer_datetime_format=False, origin='unix', cache=True)`|Convert `arg` (a series) into datetime. Use `format` to specify strftime string.|\n",
    "|`s.to_numpy(dtype=None, copy=False, na_value=object, **kwargs)`|Convert the series to a NumPy array.|\n",
    "|`s.values`|Convert the series to a NumPy array.|\n",
    "|`s.to_frame(name=None)`|Return a dataframe representation of the series.|\n",
    "|`pd.CategoricalDtype(categories=None, ordered=False)`|Create a type for categorical data.|"
   ]
  },
  {
   "cell_type": "markdown",
   "id": "20fa4bc0-c451-4456-8907-989ba2e694e6",
   "metadata": {},
   "source": [
    "### 8.7 Exercises"
   ]
  },
  {
   "cell_type": "markdown",
   "id": "0f98a132-31f3-42ce-9fc0-ea925da6e961",
   "metadata": {},
   "source": [
    "With a dataset of your choice:"
   ]
  },
  {
   "cell_type": "markdown",
   "id": "fcace3f5-6614-4a14-b4d1-2936bc78d850",
   "metadata": {},
   "source": [
    "**1. Convert a numeric column to a smaller type.**"
   ]
  },
  {
   "cell_type": "code",
   "execution_count": 115,
   "id": "e6a4d96b-89c5-46d2-b73e-1bdc0597a396",
   "metadata": {},
   "outputs": [
    {
     "data": {
      "text/plain": [
       "0        15.695714\n",
       "1        29.964545\n",
       "2        12.207778\n",
       "3        29.964545\n",
       "4        17.347895\n",
       "           ...    \n",
       "41139    14.982273\n",
       "41140    14.330870\n",
       "41141    15.695714\n",
       "41142    15.695714\n",
       "41143    18.311667\n",
       "Name: barrels08, Length: 41144, dtype: float64"
      ]
     },
     "execution_count": 115,
     "metadata": {},
     "output_type": "execute_result"
    }
   ],
   "source": [
    "# currently a float64 type\n",
    "df.barrels08"
   ]
  },
  {
   "cell_type": "code",
   "execution_count": 116,
   "id": "634cbc3b-c648-4bdc-8b41-d5cd367b977a",
   "metadata": {},
   "outputs": [
    {
     "data": {
      "text/plain": [
       "0        15.695312\n",
       "1        29.968750\n",
       "2        12.210938\n",
       "3        29.968750\n",
       "4        17.343750\n",
       "           ...    \n",
       "41139    14.984375\n",
       "41140    14.328125\n",
       "41141    15.695312\n",
       "41142    15.695312\n",
       "41143    18.312500\n",
       "Name: barrels08, Length: 41144, dtype: float16"
      ]
     },
     "execution_count": 116,
     "metadata": {},
     "output_type": "execute_result"
    }
   ],
   "source": [
    "# convert to float16\n",
    "df.barrels08.astype('float16')"
   ]
  },
  {
   "cell_type": "markdown",
   "id": "76cef20d-5016-4fd2-b3c8-b758e5aa8496",
   "metadata": {},
   "source": [
    "**2. Calculate the memory savings by converting to smaller numeric types.**"
   ]
  },
  {
   "cell_type": "code",
   "execution_count": 117,
   "id": "81f7e33b-acc1-49a9-b507-9aeebc46ed83",
   "metadata": {},
   "outputs": [
    {
     "data": {
      "text/plain": [
       "246864"
      ]
     },
     "execution_count": 117,
     "metadata": {},
     "output_type": "execute_result"
    }
   ],
   "source": [
    "df.barrels08.memory_usage() - df.barrels08.astype('float16').memory_usage()"
   ]
  },
  {
   "cell_type": "markdown",
   "id": "69154e92-4d50-406e-b3aa-a64e65cfa056",
   "metadata": {},
   "source": [
    "**3. Convert a string column into a categorical type.**"
   ]
  },
  {
   "cell_type": "code",
   "execution_count": 119,
   "id": "d72457a5-29d2-42b0-b069-e4887a32b45c",
   "metadata": {},
   "outputs": [
    {
     "data": {
      "text/plain": [
       "0        Alfa Romeo\n",
       "1           Ferrari\n",
       "2             Dodge\n",
       "3             Dodge\n",
       "4            Subaru\n",
       "            ...    \n",
       "41139        Subaru\n",
       "41140        Subaru\n",
       "41141        Subaru\n",
       "41142        Subaru\n",
       "41143        Subaru\n",
       "Name: make, Length: 41144, dtype: object"
      ]
     },
     "execution_count": 119,
     "metadata": {},
     "output_type": "execute_result"
    }
   ],
   "source": [
    "df.make"
   ]
  },
  {
   "cell_type": "code",
   "execution_count": 121,
   "id": "e3aaa96e-d266-40c9-845b-2b25f59ed52d",
   "metadata": {},
   "outputs": [
    {
     "data": {
      "text/plain": [
       "0        Alfa Romeo\n",
       "1           Ferrari\n",
       "2             Dodge\n",
       "3             Dodge\n",
       "4            Subaru\n",
       "            ...    \n",
       "41139        Subaru\n",
       "41140        Subaru\n",
       "41141        Subaru\n",
       "41142        Subaru\n",
       "41143        Subaru\n",
       "Name: make, Length: 41144, dtype: category\n",
       "Categories (136, object): ['AM General', 'ASC Incorporated', 'Acura', 'Alfa Romeo', ..., 'Volvo', 'Wallace Environmental', 'Yugo', 'smart']"
      ]
     },
     "execution_count": 121,
     "metadata": {},
     "output_type": "execute_result"
    }
   ],
   "source": [
    "values = pd.Series(sorted(set(df.make)))\n",
    "make_type = pd.CategoricalDtype(categories=values, ordered=False)\n",
    "df.make.astype(make_type)"
   ]
  },
  {
   "cell_type": "markdown",
   "id": "122c63c4-9b71-44c5-b404-c4d03edc5e63",
   "metadata": {},
   "source": [
    "**4. Calculate the memory savings by converting to a categorical type.**"
   ]
  },
  {
   "cell_type": "code",
   "execution_count": 122,
   "id": "3873ce2e-c1eb-4847-a9dd-8f8576718b01",
   "metadata": {},
   "outputs": [
    {
     "data": {
      "text/plain": [
       "2510507"
      ]
     },
     "execution_count": 122,
     "metadata": {},
     "output_type": "execute_result"
    }
   ],
   "source": [
    "df.make.memory_usage(deep=True) - df.make.astype(make_type).memory_usage(deep=True)"
   ]
  },
  {
   "cell_type": "markdown",
   "id": "3b465e30-e50c-4d6a-ab8d-fb3b4682ef0a",
   "metadata": {},
   "source": [
    "## Chapter 9: Manipulation Methods"
   ]
  },
  {
   "cell_type": "markdown",
   "id": "51575efb-06ca-47e5-9ceb-77a0714f5544",
   "metadata": {},
   "source": [
    "Comparing non-broadcasted `.apply` method with vectorized code:"
   ]
  },
  {
   "cell_type": "code",
   "execution_count": 125,
   "id": "4817ee01-40a0-4caf-8a85-f00d9979d26f",
   "metadata": {},
   "outputs": [],
   "source": [
    "# non-vectorized function to check if value is greater than 20\n",
    "def gt20(val): \n",
    "    return val > 20"
   ]
  },
  {
   "cell_type": "code",
   "execution_count": 126,
   "id": "f35174af-0e1a-409b-90b1-9ef9b389f0eb",
   "metadata": {},
   "outputs": [
    {
     "name": "stdout",
     "output_type": "stream",
     "text": [
      "7.08 ms ± 161 µs per loop (mean ± std. dev. of 7 runs, 100 loops each)\n"
     ]
    }
   ],
   "source": [
    "%%timeit\n",
    "city_mpg.apply(gt20)"
   ]
  },
  {
   "cell_type": "code",
   "execution_count": 129,
   "id": "339db1a8-3fec-401b-8323-7b706fecf8e2",
   "metadata": {},
   "outputs": [
    {
     "name": "stdout",
     "output_type": "stream",
     "text": [
      "174 µs ± 44 µs per loop (mean ± std. dev. of 7 runs, 1,000 loops each)\n"
     ]
    }
   ],
   "source": [
    "%%timeit\n",
    "city_mpg.gt(20)"
   ]
  },
  {
   "cell_type": "markdown",
   "id": "ad752e01-e5f7-4752-bbf3-36eba3fd759b",
   "metadata": {},
   "source": [
    "The broadcasted `.gt` method is 40 times faster than non-broadcasted `.apply` function."
   ]
  },
  {
   "cell_type": "markdown",
   "id": "d20ff138-ee8f-438c-bf5e-0fb045d93cc8",
   "metadata": {},
   "source": [
    "Show the top 5 makes and label everything else as *Other*:"
   ]
  },
  {
   "cell_type": "code",
   "execution_count": 131,
   "id": "9e583498-7a01-4696-8170-2e2c327cb740",
   "metadata": {},
   "outputs": [],
   "source": [
    "# top 5 makes\n",
    "top5 = df.make.value_counts().index[:5]\n",
    "\n",
    "# function to use in apply\n",
    "def generalize_top5(val):\n",
    "    if val in top5:\n",
    "        return val\n",
    "    return 'Other'"
   ]
  },
  {
   "cell_type": "code",
   "execution_count": 133,
   "id": "fa37008f-c263-4d11-b929-a2daa224d2ee",
   "metadata": {},
   "outputs": [
    {
     "name": "stdout",
     "output_type": "stream",
     "text": [
      "48.2 ms ± 4.64 ms per loop (mean ± std. dev. of 7 runs, 10 loops each)\n"
     ]
    }
   ],
   "source": [
    "%%timeit\n",
    "df.make.apply(generalize_top5)"
   ]
  },
  {
   "cell_type": "markdown",
   "id": "eddf4381-8e7d-4bcb-9bd6-e59c1504f596",
   "metadata": {},
   "source": [
    "A (10 times) faster and more idiomatic manner of doing this uses the `.where` method, which keeps values from the series it is called on where the boolean array is true. If the boolean array is false, it uses the value of the second parameter, `other`:"
   ]
  },
  {
   "cell_type": "code",
   "execution_count": 136,
   "id": "20aaac55-cd35-4abc-8bbf-479042b67235",
   "metadata": {},
   "outputs": [
    {
     "name": "stdout",
     "output_type": "stream",
     "text": [
      "3.68 ms ± 693 µs per loop (mean ± std. dev. of 7 runs, 100 loops each)\n"
     ]
    }
   ],
   "source": [
    "%%timeit\n",
    "df.make.where(df.make.isin(top5), other='Other')"
   ]
  },
  {
   "cell_type": "code",
   "execution_count": 137,
   "id": "af4b9199-4a75-44d3-ba14-0be89d571977",
   "metadata": {},
   "outputs": [
    {
     "data": {
      "text/plain": [
       "0        Other\n",
       "1        Other\n",
       "2        Dodge\n",
       "3        Dodge\n",
       "4        Other\n",
       "         ...  \n",
       "41139    Other\n",
       "41140    Other\n",
       "41141    Other\n",
       "41142    Other\n",
       "41143    Other\n",
       "Name: make, Length: 41144, dtype: object"
      ]
     },
     "execution_count": 137,
     "metadata": {},
     "output_type": "execute_result"
    }
   ],
   "source": [
    "df.make.where(df.make.isin(top5), other='Other')"
   ]
  },
  {
   "cell_type": "markdown",
   "id": "f90136a2-59bd-4c59-a3df-32b13c683e8e",
   "metadata": {},
   "source": [
    "The complement of `.where` is `.mask`---wherever the condition if `False` it keeps the original values; if it is `True` it replaces the value with the `other` parameter."
   ]
  },
  {
   "cell_type": "code",
   "execution_count": 138,
   "id": "cc4c83fe-715b-4f23-8d55-84b4f45baf32",
   "metadata": {},
   "outputs": [
    {
     "data": {
      "text/plain": [
       "0        Other\n",
       "1        Other\n",
       "2        Dodge\n",
       "3        Dodge\n",
       "4        Other\n",
       "         ...  \n",
       "41139    Other\n",
       "41140    Other\n",
       "41141    Other\n",
       "41142    Other\n",
       "41143    Other\n",
       "Name: make, Length: 41144, dtype: object"
      ]
     },
     "execution_count": 138,
     "metadata": {},
     "output_type": "execute_result"
    }
   ],
   "source": [
    "df.make.mask(~df.make.isin(top5), other='Other')"
   ]
  },
  {
   "cell_type": "code",
   "execution_count": 139,
   "id": "ad3b1c96-749c-4c56-8bf9-ac3dff549640",
   "metadata": {},
   "outputs": [
    {
     "name": "stdout",
     "output_type": "stream",
     "text": [
      "3.36 ms ± 241 µs per loop (mean ± std. dev. of 7 runs, 100 loops each)\n"
     ]
    }
   ],
   "source": [
    "%%timeit\n",
    "df.make.mask(~df.make.isin(top5), other='Other')"
   ]
  },
  {
   "cell_type": "markdown",
   "id": "fb13d4bc-d726-4d35-bdfd-d00f19483ad4",
   "metadata": {},
   "source": [
    "The tilde `~` performs an inversion of the boolean array, switching all true values to false and vice versa."
   ]
  },
  {
   "cell_type": "markdown",
   "id": "7c03ee92-c6fb-41cc-8154-06b3b1b9eef7",
   "metadata": {},
   "source": [
    "### 9.2 If Else with Pandas"
   ]
  },
  {
   "cell_type": "markdown",
   "id": "5aade802-b341-4012-8993-8ffbb0c2373a",
   "metadata": {},
   "source": [
    "There is no way to do the following: if I wanted to keep the top five makes and use *Top10* for the remainder of the top ten makes, with *Other* for the rest."
   ]
  },
  {
   "cell_type": "code",
   "execution_count": 140,
   "id": "44771e2c-f8e4-4def-b5fc-8dfeb86c1f6f",
   "metadata": {},
   "outputs": [],
   "source": [
    "vc = df.make.value_counts()\n",
    "top5 = vc.index[:5]\n",
    "top10 = vc.index[:10]\n",
    "def generalize(val):\n",
    "    if val in top5:\n",
    "        return val\n",
    "    elif val in top10:\n",
    "        return 'Top10'\n",
    "    else:\n",
    "        return 'Other'"
   ]
  },
  {
   "cell_type": "code",
   "execution_count": 141,
   "id": "0a11b762-f130-4c11-8405-381c43cd053f",
   "metadata": {},
   "outputs": [
    {
     "data": {
      "text/plain": [
       "0        Other\n",
       "1        Other\n",
       "2        Dodge\n",
       "3        Dodge\n",
       "4        Other\n",
       "         ...  \n",
       "41139    Other\n",
       "41140    Other\n",
       "41141    Other\n",
       "41142    Other\n",
       "41143    Other\n",
       "Name: make, Length: 41144, dtype: object"
      ]
     },
     "execution_count": 141,
     "metadata": {},
     "output_type": "execute_result"
    }
   ],
   "source": [
    "df.make.apply(generalize)"
   ]
  },
  {
   "cell_type": "code",
   "execution_count": 142,
   "id": "9d5a7627-c006-4aa0-85b9-9f1f3e7a9959",
   "metadata": {},
   "outputs": [
    {
     "name": "stdout",
     "output_type": "stream",
     "text": [
      "76.4 ms ± 2.37 ms per loop (mean ± std. dev. of 7 runs, 10 loops each)\n"
     ]
    }
   ],
   "source": [
    "%%timeit\n",
    "df.make.apply(generalize)"
   ]
  },
  {
   "cell_type": "markdown",
   "id": "09c64473-f52e-4177-9128-fbd3018ac99f",
   "metadata": {},
   "source": [
    "To replicate in pandas, chain calls to `.where`:"
   ]
  },
  {
   "cell_type": "code",
   "execution_count": 143,
   "id": "6c57911b-98a9-48d7-8530-52c3762dd0c1",
   "metadata": {},
   "outputs": [
    {
     "data": {
      "text/plain": [
       "0        Other\n",
       "1        Other\n",
       "2        Dodge\n",
       "3        Dodge\n",
       "4        Other\n",
       "         ...  \n",
       "41139    Other\n",
       "41140    Other\n",
       "41141    Other\n",
       "41142    Other\n",
       "41143    Other\n",
       "Name: make, Length: 41144, dtype: object"
      ]
     },
     "execution_count": 143,
     "metadata": {},
     "output_type": "execute_result"
    }
   ],
   "source": [
    "(df.make\n",
    " .where(df.make.isin(top5), 'Top10')\n",
    " .where(df.make.isin(top10), 'Other')\n",
    ")"
   ]
  },
  {
   "cell_type": "code",
   "execution_count": 144,
   "id": "fca0f937-74fe-47fb-8283-6fdb7188acd3",
   "metadata": {},
   "outputs": [
    {
     "name": "stdout",
     "output_type": "stream",
     "text": [
      "6.05 ms ± 391 µs per loop (mean ± std. dev. of 7 runs, 100 loops each)\n"
     ]
    }
   ],
   "source": [
    "%%timeit\n",
    "(df.make\n",
    " .where(df.make.isin(top5), 'Top10')\n",
    " .where(df.make.isin(top10), 'Other')\n",
    ")"
   ]
  },
  {
   "cell_type": "markdown",
   "id": "1eed03e4-cf4a-422d-a955-4139a3ba62d2",
   "metadata": {},
   "source": [
    "The pandas approach is still about 13 times faster."
   ]
  },
  {
   "cell_type": "markdown",
   "id": "17614e2b-2325-4711-bf80-dc6e28efea78",
   "metadata": {},
   "source": [
    "The `select` function in NumPy works with pandas series. The interface takes a list of boolean arrays and a list with corresponding replacement values."
   ]
  },
  {
   "cell_type": "code",
   "execution_count": 148,
   "id": "07d3780c-06aa-43a6-ab02-acb140893780",
   "metadata": {},
   "outputs": [
    {
     "data": {
      "text/plain": [
       "array(['Other', 'Other', 'Dodge', ..., 'Other', 'Other', 'Other'],\n",
       "      dtype=object)"
      ]
     },
     "execution_count": 148,
     "metadata": {},
     "output_type": "execute_result"
    }
   ],
   "source": [
    "np.select([df.make.isin(top5), df.make.isin(top10)], [df.make, 'Top10'], 'Other')"
   ]
  },
  {
   "cell_type": "code",
   "execution_count": 149,
   "id": "c053ec92-cd77-421d-b47a-f537b2df9849",
   "metadata": {},
   "outputs": [
    {
     "name": "stdout",
     "output_type": "stream",
     "text": [
      "19.8 ms ± 2.85 ms per loop (mean ± std. dev. of 7 runs, 10 loops each)\n"
     ]
    }
   ],
   "source": [
    "%%timeit\n",
    "np.select([df.make.isin(top5), df.make.isin(top10)], [df.make, 'Top10'], 'Other')"
   ]
  },
  {
   "cell_type": "markdown",
   "id": "054c7a7f-609c-46a6-96a3-189da855c0cc",
   "metadata": {},
   "source": [
    "You can wrap it in a `Series`. I like this syntax for longer if statements than chaining `.where` calls because I think it is easier to understand."
   ]
  },
  {
   "cell_type": "code",
   "execution_count": 150,
   "id": "68bb9a0c-ca47-4ac7-9ee9-dc7156b87cb0",
   "metadata": {},
   "outputs": [
    {
     "data": {
      "text/plain": [
       "0        Other\n",
       "1        Other\n",
       "2        Dodge\n",
       "3        Dodge\n",
       "4        Other\n",
       "         ...  \n",
       "41139    Other\n",
       "41140    Other\n",
       "41141    Other\n",
       "41142    Other\n",
       "41143    Other\n",
       "Length: 41144, dtype: object"
      ]
     },
     "execution_count": 150,
     "metadata": {},
     "output_type": "execute_result"
    }
   ],
   "source": [
    "pd.Series(np.select([df.make.isin(top5), df.make.isin(top10)], [df.make, 'Top10'], 'Other'), index=df.make.index)"
   ]
  },
  {
   "cell_type": "markdown",
   "id": "aff0b015-f6d4-4865-a0c1-0b8330edf74d",
   "metadata": {},
   "source": [
    "### 9.3 Missing Data"
   ]
  },
  {
   "cell_type": "markdown",
   "id": "521c3a73-c4f5-4b24-bd6c-80652edb3a36",
   "metadata": {},
   "source": [
    "Count the number of missing items with `.isna().sum()`:"
   ]
  },
  {
   "cell_type": "code",
   "execution_count": 151,
   "id": "b4f44e2d-fb32-4528-a5ae-b0773613ed7c",
   "metadata": {},
   "outputs": [
    {
     "data": {
      "text/plain": [
       "206"
      ]
     },
     "execution_count": 151,
     "metadata": {},
     "output_type": "execute_result"
    }
   ],
   "source": [
    "(df.cylinders\n",
    " .isna()\n",
    " .sum()\n",
    ")"
   ]
  },
  {
   "cell_type": "markdown",
   "id": "01949032-a7e4-4847-95b1-96b58cab3870",
   "metadata": {},
   "source": [
    "Let's index where the values are missing in the *cylinders* column and then show what those makes are:"
   ]
  },
  {
   "cell_type": "code",
   "execution_count": 152,
   "id": "c731f17f-c307-43fc-bb32-66130d76ae00",
   "metadata": {},
   "outputs": [
    {
     "data": {
      "text/plain": [
       "7138     Nissan\n",
       "7139     Toyota\n",
       "8143     Toyota\n",
       "8144       Ford\n",
       "8146       Ford\n",
       "          ...  \n",
       "34563     Tesla\n",
       "34564     Tesla\n",
       "34565     Tesla\n",
       "34566     Tesla\n",
       "34567     Tesla\n",
       "Name: make, Length: 206, dtype: object"
      ]
     },
     "execution_count": 152,
     "metadata": {},
     "output_type": "execute_result"
    }
   ],
   "source": [
    "missing = df.cylinders.isna()\n",
    "df.make.loc[missing]"
   ]
  },
  {
   "cell_type": "markdown",
   "id": "f909fc4e-7a66-4731-88e3-b909e3ba35cd",
   "metadata": {},
   "source": [
    "### 9.4 Filling in Missing Data"
   ]
  },
  {
   "cell_type": "markdown",
   "id": "711145a5-2f1c-410d-bcc4-251e76a5575f",
   "metadata": {},
   "source": [
    "It seems like cylinders are missing for cars that are electric (they have zero cylinders)."
   ]
  },
  {
   "cell_type": "code",
   "execution_count": 154,
   "id": "55a75df6-dde6-4d76-8574-f1cd905fb076",
   "metadata": {},
   "outputs": [
    {
     "data": {
      "text/plain": [
       "7138    NaN\n",
       "7139    NaN\n",
       "8143    NaN\n",
       "8144    NaN\n",
       "8146    NaN\n",
       "         ..\n",
       "34563   NaN\n",
       "34564   NaN\n",
       "34565   NaN\n",
       "34566   NaN\n",
       "34567   NaN\n",
       "Name: cylinders, Length: 206, dtype: float64"
      ]
     },
     "execution_count": 154,
     "metadata": {},
     "output_type": "execute_result"
    }
   ],
   "source": [
    "df.cylinders[df.cylinders.isna()]"
   ]
  },
  {
   "cell_type": "code",
   "execution_count": 155,
   "id": "d9734284-2598-437e-bca1-74db65510e4e",
   "metadata": {},
   "outputs": [
    {
     "data": {
      "text/plain": [
       "7136    6.0\n",
       "7137    6.0\n",
       "7138    0.0\n",
       "7139    0.0\n",
       "7140    6.0\n",
       "7141    6.0\n",
       "Name: cylinders, dtype: float64"
      ]
     },
     "execution_count": 155,
     "metadata": {},
     "output_type": "execute_result"
    }
   ],
   "source": [
    "df.cylinders.fillna(0).loc[7136:7141]"
   ]
  },
  {
   "cell_type": "markdown",
   "id": "3e8798b5-f7e7-4a71-b5cb-1c4039d51c13",
   "metadata": {},
   "source": [
    "### 9.5 Interpolating Data"
   ]
  },
  {
   "cell_type": "code",
   "execution_count": 156,
   "id": "b8f9b43a-d1d0-46c1-b914-e5de17c77973",
   "metadata": {},
   "outputs": [
    {
     "data": {
      "text/plain": [
       "0    32.0\n",
       "1    40.0\n",
       "2     NaN\n",
       "3    42.0\n",
       "4    39.0\n",
       "5    32.0\n",
       "dtype: float64"
      ]
     },
     "execution_count": 156,
     "metadata": {},
     "output_type": "execute_result"
    }
   ],
   "source": [
    "temp = pd.Series([32, 40, None, 42, 39, 32])\n",
    "temp"
   ]
  },
  {
   "cell_type": "code",
   "execution_count": 157,
   "id": "23b889e0-396b-4df5-ac30-735cdaf083f9",
   "metadata": {},
   "outputs": [
    {
     "data": {
      "text/plain": [
       "0    32.0\n",
       "1    40.0\n",
       "2    41.0\n",
       "3    42.0\n",
       "4    39.0\n",
       "5    32.0\n",
       "dtype: float64"
      ]
     },
     "execution_count": 157,
     "metadata": {},
     "output_type": "execute_result"
    }
   ],
   "source": [
    "temp.interpolate()"
   ]
  },
  {
   "cell_type": "markdown",
   "id": "2b89b75b-d283-41af-bc45-8ff9136bf1ca",
   "metadata": {},
   "source": [
    "### 9.6 Clipping Data"
   ]
  },
  {
   "cell_type": "code",
   "execution_count": 158,
   "id": "5c79485a-d861-4f4b-b27a-c3040a984612",
   "metadata": {},
   "outputs": [
    {
     "data": {
      "text/plain": [
       "0      19\n",
       "1       9\n",
       "2      23\n",
       "3      10\n",
       "4      17\n",
       "       ..\n",
       "442    15\n",
       "443    15\n",
       "444    15\n",
       "445    15\n",
       "446    31\n",
       "Name: city08, Length: 447, dtype: int64"
      ]
     },
     "execution_count": 158,
     "metadata": {},
     "output_type": "execute_result"
    }
   ],
   "source": [
    "city_mpg.loc[:446]"
   ]
  },
  {
   "cell_type": "code",
   "execution_count": 160,
   "id": "03fc4b9e-1350-49f3-8dfd-75a6067221c5",
   "metadata": {},
   "outputs": [
    {
     "data": {
      "text/plain": [
       "0      19\n",
       "1      11\n",
       "2      23\n",
       "3      11\n",
       "4      17\n",
       "       ..\n",
       "442    15\n",
       "443    15\n",
       "444    15\n",
       "445    15\n",
       "446    27\n",
       "Name: city08, Length: 447, dtype: int64"
      ]
     },
     "execution_count": 160,
     "metadata": {},
     "output_type": "execute_result"
    }
   ],
   "source": [
    "(city_mpg\n",
    "     .loc[:446]\n",
    "     .clip(lower=city_mpg.quantile(0.05),\n",
    "           upper=city_mpg.quantile(0.95))\n",
    ")"
   ]
  },
  {
   "cell_type": "markdown",
   "id": "04ece0fd-6976-450f-866c-e1d3fe8aa8e3",
   "metadata": {},
   "source": [
    "`.clip` uses `.where` under the hood."
   ]
  },
  {
   "cell_type": "markdown",
   "id": "b38a5182-3db3-42d1-a0b8-783046a594e9",
   "metadata": {},
   "source": [
    "### 9.7 Sorting Values"
   ]
  },
  {
   "cell_type": "markdown",
   "id": "07bf91e6-f5fb-4e7a-91af-c9aa2bb97f3c",
   "metadata": {},
   "source": [
    "The `.sort_values` method will sort the values in ascending order and also rearrange the index accordingly."
   ]
  },
  {
   "cell_type": "code",
   "execution_count": 162,
   "id": "233d7a05-b291-42de-97c7-cbc04d942ad6",
   "metadata": {},
   "outputs": [
    {
     "data": {
      "text/plain": [
       "7901       6\n",
       "34557      6\n",
       "37161      6\n",
       "21060      6\n",
       "35887      6\n",
       "        ... \n",
       "34563    138\n",
       "34564    140\n",
       "32599    150\n",
       "31256    150\n",
       "33423    150\n",
       "Name: city08, Length: 41144, dtype: int64"
      ]
     },
     "execution_count": 162,
     "metadata": {},
     "output_type": "execute_result"
    }
   ],
   "source": [
    "city_mpg.sort_values()"
   ]
  },
  {
   "cell_type": "markdown",
   "id": "2c9f81b6-5b5e-45ed-b01d-4e3dcbbd6012",
   "metadata": {},
   "source": [
    "Because of index alignment, you can still do math operations on a sorted series:"
   ]
  },
  {
   "cell_type": "code",
   "execution_count": 163,
   "id": "3911c4d5-f1be-4796-bfc1-b6d2cbe68ca7",
   "metadata": {},
   "outputs": [
    {
     "data": {
      "text/plain": [
       "0        22.0\n",
       "1        11.5\n",
       "2        28.0\n",
       "3        11.0\n",
       "4        20.0\n",
       "         ... \n",
       "41139    22.5\n",
       "41140    24.0\n",
       "41141    21.0\n",
       "41142    21.0\n",
       "41143    18.5\n",
       "Length: 41144, dtype: float64"
      ]
     },
     "execution_count": 163,
     "metadata": {},
     "output_type": "execute_result"
    }
   ],
   "source": [
    "(city_mpg.sort_values() + highway_mpg) / 2"
   ]
  },
  {
   "cell_type": "markdown",
   "id": "5e3b209c-2627-4c80-899c-668116a521a8",
   "metadata": {},
   "source": [
    "### 9.8 Sorting the Index"
   ]
  },
  {
   "cell_type": "markdown",
   "id": "46847af9-6faf-4a7e-a2bc-9eee684712e6",
   "metadata": {},
   "source": [
    "Below we unsort the index by sorting the values, then essentially revert that:"
   ]
  },
  {
   "cell_type": "code",
   "execution_count": 164,
   "id": "2d31529d-d4ef-4c36-b0a7-aca9b4b9b98b",
   "metadata": {},
   "outputs": [
    {
     "data": {
      "text/plain": [
       "0        19\n",
       "1         9\n",
       "2        23\n",
       "3        10\n",
       "4        17\n",
       "         ..\n",
       "41139    19\n",
       "41140    20\n",
       "41141    18\n",
       "41142    18\n",
       "41143    16\n",
       "Name: city08, Length: 41144, dtype: int64"
      ]
     },
     "execution_count": 164,
     "metadata": {},
     "output_type": "execute_result"
    }
   ],
   "source": [
    "city_mpg.sort_values().sort_index()"
   ]
  },
  {
   "cell_type": "markdown",
   "id": "4276f4cb-0f57-46f5-ba60-39555bde42e8",
   "metadata": {},
   "source": [
    "### 9.9 Dropping Duplicates"
   ]
  },
  {
   "cell_type": "markdown",
   "id": "c1b71efb-c260-49df-9c6e-c093f24ab0d1",
   "metadata": {},
   "source": [
    "`keep='first'` is the default value and keeps the first duplicate value found.\n",
    "\n",
    "`keep='last'` keeps the last duplicate value found.\n",
    "\n",
    "`keep=False` will remove any duplicated values (including the initial value).\n",
    "\n",
    "`drop_duplicates` keep the original index."
   ]
  },
  {
   "cell_type": "code",
   "execution_count": 165,
   "id": "13ba41e5-6960-4d44-9456-71d20820ab78",
   "metadata": {},
   "outputs": [
    {
     "data": {
      "text/plain": [
       "0         19\n",
       "1          9\n",
       "2         23\n",
       "3         10\n",
       "4         17\n",
       "        ... \n",
       "34364    127\n",
       "34409    114\n",
       "34564    140\n",
       "34565    115\n",
       "34566    104\n",
       "Name: city08, Length: 105, dtype: int64"
      ]
     },
     "execution_count": 165,
     "metadata": {},
     "output_type": "execute_result"
    }
   ],
   "source": [
    "city_mpg.drop_duplicates()"
   ]
  },
  {
   "cell_type": "markdown",
   "id": "35d0d835-a972-4ce8-97d9-630d7fabbd9a",
   "metadata": {},
   "source": [
    "### 9.10 Ranking Data"
   ]
  },
  {
   "cell_type": "markdown",
   "id": "0b557dc2-8275-4617-8984-f19c9d0c4a96",
   "metadata": {},
   "source": [
    "The `.rank` method will return a series that keeps the original index but uses the ranks of values from the original series. By default, if two values are the same, their rank will be the average of the positions they take. You can specify `method='min'` to put equal values in the same rank and `method='dense'` to not skip any positions:"
   ]
  },
  {
   "cell_type": "code",
   "execution_count": 166,
   "id": "e74c9c69-aa12-4078-bb5c-5d2668c289f3",
   "metadata": {},
   "outputs": [
    {
     "data": {
      "text/plain": [
       "0        27060.5\n",
       "1          235.5\n",
       "2        35830.0\n",
       "3          607.5\n",
       "4        19484.0\n",
       "          ...   \n",
       "41139    27060.5\n",
       "41140    29719.5\n",
       "41141    23528.0\n",
       "41142    23528.0\n",
       "41143    15479.0\n",
       "Name: city08, Length: 41144, dtype: float64"
      ]
     },
     "execution_count": 166,
     "metadata": {},
     "output_type": "execute_result"
    }
   ],
   "source": [
    "city_mpg.rank()"
   ]
  },
  {
   "cell_type": "code",
   "execution_count": 167,
   "id": "744aa8f6-b139-4d2d-ae50-02b541419009",
   "metadata": {},
   "outputs": [
    {
     "data": {
      "text/plain": [
       "0        25555.0\n",
       "1          136.0\n",
       "2        35119.0\n",
       "3          336.0\n",
       "4        17467.0\n",
       "          ...   \n",
       "41139    25555.0\n",
       "41140    28567.0\n",
       "41141    21502.0\n",
       "41142    21502.0\n",
       "41143    13492.0\n",
       "Name: city08, Length: 41144, dtype: float64"
      ]
     },
     "execution_count": 167,
     "metadata": {},
     "output_type": "execute_result"
    }
   ],
   "source": [
    "city_mpg.rank(method='min')"
   ]
  },
  {
   "cell_type": "code",
   "execution_count": 168,
   "id": "0b609cf2-2265-4b6c-b4f9-dec9bdb9f0fa",
   "metadata": {},
   "outputs": [
    {
     "data": {
      "text/plain": [
       "0        14.0\n",
       "1         4.0\n",
       "2        18.0\n",
       "3         5.0\n",
       "4        12.0\n",
       "         ... \n",
       "41139    14.0\n",
       "41140    15.0\n",
       "41141    13.0\n",
       "41142    13.0\n",
       "41143    11.0\n",
       "Name: city08, Length: 41144, dtype: float64"
      ]
     },
     "execution_count": 168,
     "metadata": {},
     "output_type": "execute_result"
    }
   ],
   "source": [
    "city_mpg.rank(method='dense')"
   ]
  },
  {
   "cell_type": "code",
   "execution_count": 169,
   "id": "63cab77f-4d54-4bff-b592-153465d19717",
   "metadata": {},
   "outputs": [
    {
     "data": {
      "text/plain": [
       "0    1.5\n",
       "1    1.5\n",
       "2    3.0\n",
       "3    4.0\n",
       "dtype: float64"
      ]
     },
     "execution_count": 169,
     "metadata": {},
     "output_type": "execute_result"
    }
   ],
   "source": [
    "# a simpler example\n",
    "pd.Series([1,1,2,3]).rank()"
   ]
  },
  {
   "cell_type": "code",
   "execution_count": 170,
   "id": "3692e58d-ae03-4301-b18d-d6124f7f35cb",
   "metadata": {},
   "outputs": [
    {
     "data": {
      "text/plain": [
       "0    1.0\n",
       "1    1.0\n",
       "2    3.0\n",
       "3    4.0\n",
       "dtype: float64"
      ]
     },
     "execution_count": 170,
     "metadata": {},
     "output_type": "execute_result"
    }
   ],
   "source": [
    "pd.Series([1,1,2,3]).rank(method='min')"
   ]
  },
  {
   "cell_type": "code",
   "execution_count": 171,
   "id": "bd03c7c0-4dfb-4e2c-a992-96e145fceea8",
   "metadata": {},
   "outputs": [
    {
     "data": {
      "text/plain": [
       "0    1.0\n",
       "1    1.0\n",
       "2    2.0\n",
       "3    3.0\n",
       "dtype: float64"
      ]
     },
     "execution_count": 171,
     "metadata": {},
     "output_type": "execute_result"
    }
   ],
   "source": [
    "pd.Series([1,1,2,3]).rank(method='dense')"
   ]
  },
  {
   "cell_type": "markdown",
   "id": "6646103d-85b8-49c6-8a7f-58a3cada6019",
   "metadata": {},
   "source": [
    "### 9.11 Replacing Data"
   ]
  },
  {
   "cell_type": "markdown",
   "id": "eb2050ad-57bb-4397-af43-f7929d0c7f48",
   "metadata": {},
   "source": [
    "The `.replace` method allows you to map values to new values."
   ]
  },
  {
   "cell_type": "code",
   "execution_count": 172,
   "id": "d1f62df9-4273-414b-8cc3-9c0c43a44280",
   "metadata": {},
   "outputs": [
    {
     "data": {
      "text/plain": [
       "0        Alfa Romeo\n",
       "1           Ferrari\n",
       "2             Dodge\n",
       "3             Dodge\n",
       "4            SUBARU\n",
       "            ...    \n",
       "41139        SUBARU\n",
       "41140        SUBARU\n",
       "41141        SUBARU\n",
       "41142        SUBARU\n",
       "41143        SUBARU\n",
       "Name: make, Length: 41144, dtype: object"
      ]
     },
     "execution_count": 172,
     "metadata": {},
     "output_type": "execute_result"
    }
   ],
   "source": [
    "df.make.replace('Subaru', 'SUBARU')"
   ]
  },
  {
   "cell_type": "code",
   "execution_count": 174,
   "id": "a681b761-17a0-42b6-99aa-435df115d284",
   "metadata": {},
   "outputs": [
    {
     "data": {
      "text/plain": [
       "0          Alfa Romeo\n",
       "1        ri-other-Fer\n",
       "2               Dodge\n",
       "3               Dodge\n",
       "4              Subaru\n",
       "             ...     \n",
       "41139          Subaru\n",
       "41140          Subaru\n",
       "41141          Subaru\n",
       "41142          Subaru\n",
       "41143          Subaru\n",
       "Name: make, Length: 41144, dtype: object"
      ]
     },
     "execution_count": 174,
     "metadata": {},
     "output_type": "execute_result"
    }
   ],
   "source": [
    "# you can also use regex\n",
    "df.make.replace(r'(Fer)ra(r.*)', value=r'\\2-other-\\1', regex=True)"
   ]
  },
  {
   "cell_type": "markdown",
   "id": "f18d97e6-c91d-4633-814a-3ae399bd7451",
   "metadata": {},
   "source": [
    "### 9.12 Binning Data"
   ]
  },
  {
   "cell_type": "markdown",
   "id": "0fad6aab-58d2-4ba4-b63d-dfa128029a03",
   "metadata": {},
   "source": [
    "Using the  `cut` function, you can create bins of equal width:"
   ]
  },
  {
   "cell_type": "code",
   "execution_count": 175,
   "id": "d3096444-43b4-4e0d-a0f2-10d1a8dda0de",
   "metadata": {},
   "outputs": [
    {
     "data": {
      "text/plain": [
       "0        (5.856, 20.4]\n",
       "1        (5.856, 20.4]\n",
       "2         (20.4, 34.8]\n",
       "3        (5.856, 20.4]\n",
       "4        (5.856, 20.4]\n",
       "             ...      \n",
       "41139    (5.856, 20.4]\n",
       "41140    (5.856, 20.4]\n",
       "41141    (5.856, 20.4]\n",
       "41142    (5.856, 20.4]\n",
       "41143    (5.856, 20.4]\n",
       "Name: city08, Length: 41144, dtype: category\n",
       "Categories (10, interval[float64, right]): [(5.856, 20.4] < (20.4, 34.8] < (34.8, 49.2] < (49.2, 63.6] ... (92.4, 106.8] < (106.8, 121.2] < (121.2, 135.6] < (135.6, 150.0]]"
      ]
     },
     "execution_count": 175,
     "metadata": {},
     "output_type": "execute_result"
    }
   ],
   "source": [
    "pd.cut(city_mpg, 10)"
   ]
  },
  {
   "cell_type": "markdown",
   "id": "4af6fe9e-90e1-41d5-be27-a4508c406db1",
   "metadata": {},
   "source": [
    "You can specify sizes for bin edges. In the following, 5 bins are created (so you need to provide 6 edges):"
   ]
  },
  {
   "cell_type": "code",
   "execution_count": 176,
   "id": "af57ddec-bf46-4488-a93e-f40963c1c1d3",
   "metadata": {},
   "outputs": [
    {
     "data": {
      "text/plain": [
       "0        (10, 20]\n",
       "1         (0, 10]\n",
       "2        (20, 40]\n",
       "3         (0, 10]\n",
       "4        (10, 20]\n",
       "           ...   \n",
       "41139    (10, 20]\n",
       "41140    (10, 20]\n",
       "41141    (10, 20]\n",
       "41142    (10, 20]\n",
       "41143    (10, 20]\n",
       "Name: city08, Length: 41144, dtype: category\n",
       "Categories (5, interval[int64, right]): [(0, 10] < (10, 20] < (20, 40] < (40, 70] < (70, 150]]"
      ]
     },
     "execution_count": 176,
     "metadata": {},
     "output_type": "execute_result"
    }
   ],
   "source": [
    "pd.cut(city_mpg, [0, 10, 20, 40, 70, 150])"
   ]
  },
  {
   "cell_type": "code",
   "execution_count": 177,
   "id": "efc84e6b-41ad-41c5-99fd-53244b6bd0e4",
   "metadata": {},
   "outputs": [
    {
     "data": {
      "text/plain": [
       "0        19\n",
       "1         9\n",
       "2        23\n",
       "3        10\n",
       "4        17\n",
       "         ..\n",
       "41139    19\n",
       "41140    20\n",
       "41141    18\n",
       "41142    18\n",
       "41143    16\n",
       "Name: city08, Length: 41144, dtype: int64"
      ]
     },
     "execution_count": 177,
     "metadata": {},
     "output_type": "execute_result"
    }
   ],
   "source": [
    "city_mpg"
   ]
  },
  {
   "cell_type": "markdown",
   "id": "d591ebc5-260b-4cbb-8bf7-289dec606d83",
   "metadata": {},
   "source": [
    "Note the bins have a half-open interval. They do not have the start value but do include the end value. If the `city_mpg` series had values with 0 or values above 150, they would be missing after binning the series.\n",
    "\n",
    "If you wanted 10 bins that had approximately the same number of entries in each bin (rather than each bin width being the same) use the `qcut` function:"
   ]
  },
  {
   "cell_type": "code",
   "execution_count": 178,
   "id": "525953cc-1356-437c-a9db-7fe4e29ad276",
   "metadata": {},
   "outputs": [
    {
     "data": {
      "text/plain": [
       "0         (18.0, 20.0]\n",
       "1        (5.999, 13.0]\n",
       "2         (21.0, 24.0]\n",
       "3        (5.999, 13.0]\n",
       "4         (16.0, 17.0]\n",
       "             ...      \n",
       "41139     (18.0, 20.0]\n",
       "41140     (18.0, 20.0]\n",
       "41141     (17.0, 18.0]\n",
       "41142     (17.0, 18.0]\n",
       "41143     (15.0, 16.0]\n",
       "Name: city08, Length: 41144, dtype: category\n",
       "Categories (10, interval[float64, right]): [(5.999, 13.0] < (13.0, 14.0] < (14.0, 15.0] < (15.0, 16.0] ... (18.0, 20.0] < (20.0, 21.0] < (21.0, 24.0] < (24.0, 150.0]]"
      ]
     },
     "execution_count": 178,
     "metadata": {},
     "output_type": "execute_result"
    }
   ],
   "source": [
    "pd.qcut(city_mpg, 10)"
   ]
  },
  {
   "cell_type": "markdown",
   "id": "ffb77213-ccb0-442c-ac5c-0bd0afd8db6e",
   "metadata": {},
   "source": [
    "Both allow you to set the labels to use instead of the categorical intervals they generate:"
   ]
  },
  {
   "cell_type": "code",
   "execution_count": 179,
   "id": "0a18f84b-9847-486e-847c-3693b4de163c",
   "metadata": {},
   "outputs": [
    {
     "data": {
      "text/plain": [
       "0        7\n",
       "1        1\n",
       "2        9\n",
       "3        1\n",
       "4        5\n",
       "        ..\n",
       "41139    7\n",
       "41140    7\n",
       "41141    6\n",
       "41142    6\n",
       "41143    4\n",
       "Name: city08, Length: 41144, dtype: category\n",
       "Categories (10, int64): [1 < 2 < 3 < 4 ... 7 < 8 < 9 < 10]"
      ]
     },
     "execution_count": 179,
     "metadata": {},
     "output_type": "execute_result"
    }
   ],
   "source": [
    "pd.qcut(city_mpg, 10, labels=list(range(1,11)))"
   ]
  },
  {
   "cell_type": "markdown",
   "id": "90a8eff2-27b2-43d9-82d9-8eb809ff6acd",
   "metadata": {},
   "source": [
    "Manipulation methods and properties:\n",
    "\n",
    "|Method|Description|\n",
    "|:-|:-|\n",
    "|`s.apply(func, convert_dtype=True, args=(), **kwds)`|Pass in a NumPy function that works on the series, or a Python function that works on a single value. `args` and `kwds` are arguments for `func`. Returns a series, or dataframe if `func` returns a series.|\n",
    "|`s.where(cond, other=nan, inplace=False, axis=None, level=None, errors='raise', try_cast=False)`|Pass in a boolean series/dataframe, list, or callable as `cond`. If the value is `True`, keep it, otherwise use `other` value. If it is a function, it takes a series and should return a boolean sequence.|\n",
    "|`np.select(condlist, choicelist, default=0)`|Pass in a list of boolean arrays for `condlist`. If the value is true use the corresponding value from `choicelist`. If multiple conditions are True, only use the first. Returns a NumPy array.|\n",
    "|`s.fillna(value=None, method=None, axis=None, inplace=False, limit=None, downcast=None)`|Pass in a scalar, dict, series or dataframe for `value`. If it is a scalar, use that value, otherwise use the index from the old value to the new value.|\n",
    "|`s.interpolate(method='linear', axis=0, limit=None, inplace=False, limit_direction=None, limit_area=None, downcast=None, **kwargs)`|Perform interpolation with missing values. `method` may be `linear`, `time` among others.|\n",
    "|`s.clip(lower=None, upper=None, axis=None, inplace=False, *args, **kwargs)`|Return a new series with values clipped to `lower` and `upper`.|\n",
    "|`s.sort_values(axis=0, ascending=True, inplace=False, kind='quicksort', na_position='last', ignore_index=False, key=None)`|Return a series with values sorted. The `kind` option may be `'quicksort'`, `'mergesort'` (stable), or `'heapsort'`. `na_position` indicates location of NaNs and may be `'first'` or `'last'`.|\n",
    "|`s.sort_index(axis=0, level=None, ascending=True, inplace=False, kind='quicksort', na_position='last', sort_remaining=True, ignore_index=False, key=None)`|Return a series with index sorted. The `kind` option may be `'quicksort'`, `'mergesort'` (stable), or `'heapsort'`. `na_position` indicates location of NaNs and may be `'first'` or `'last'`.|\n",
    "|`s.drop_duplicates(keep='first', inplace=False)`|Drop duplicates. `keep` may be `'first'`, `'last'`, or False. (If `False`, it removes all values that were duplicated).|\n",
    "|`s.rank(axis=0, method='average', numeric_only=None, na_option='keep', ascending=True, pct=False)`|Return a series with numerical ranks. `method` allows you to specify tie handling. `'average'`, `'min'`, `'max'`, `'first'` (usses order they appear in series), `'dense'` (like `'min'`, but rank only increases by one after tie). `na_option` allows you to specify `NaN` handling. `'keep'` (stay at `NaN`), `'top'` (move to smallest), `'bottom'` (move to largest).|\n",
    "|`s.replace(to_replace=None, value=None, inplace=False, limit=None, regex=False, method='pad')`|Return a series with new values. `to_replace` can be many things. If it is a string, number or regular expression, you can replace it with a scalar `value`. It can also be a list of those things which requires `value` to be a list of the same size. Finally, it can be a dictionary mapping old values to new values.|\n",
    "|`pd.cut(x, bins, right=True, labels=None, retbins=False, precision=3, include_lowest=False, duplicates='raise', ordered=True)`|Bin values from `x` (a series). If `bins` is an integer, use equal-width bins. If `bins` is a list of numbers (defining minimum and maximum positions) use those for the edges. `right` defines whether the right edge is open or closed. `labels` allows you to specify the bin names. Out of bounds values will be missing.|\n",
    "|`pd.qcut(x, q, labels=None, retbins=False, precision=3, duplicates='raise')`|Bin values from `x` (a series) into `q` equal sized bins. Alternatively, can pass in a list of quantile edges. Out of bounds values will be missing.|"
   ]
  },
  {
   "cell_type": "markdown",
   "id": "11d441df-0111-4f98-8b04-e84d01207a0b",
   "metadata": {},
   "source": [
    "### 9.14 Exercises"
   ]
  },
  {
   "cell_type": "markdown",
   "id": "2b83fa70-2268-426d-b73e-f09294310c74",
   "metadata": {},
   "source": [
    "**1. Create a series from a numeric column that has the value of `'high'` if it is equal to or above the mean and `'low'` if it is below the mean using `.apply`.**"
   ]
  },
  {
   "cell_type": "code",
   "execution_count": 188,
   "id": "f7254086-7a2c-42fb-b790-aed6dcdd98cc",
   "metadata": {},
   "outputs": [
    {
     "data": {
      "text/plain": [
       "0        19\n",
       "1         9\n",
       "2        23\n",
       "3        10\n",
       "4        17\n",
       "         ..\n",
       "41139    19\n",
       "41140    20\n",
       "41141    18\n",
       "41142    18\n",
       "41143    16\n",
       "Name: city08, Length: 41144, dtype: int64"
      ]
     },
     "execution_count": 188,
     "metadata": {},
     "output_type": "execute_result"
    }
   ],
   "source": [
    "city_mpg"
   ]
  },
  {
   "cell_type": "code",
   "execution_count": 189,
   "id": "8be36d66-2002-446c-8bc7-b1246bf453d4",
   "metadata": {},
   "outputs": [
    {
     "data": {
      "text/plain": [
       "18.369045304297103"
      ]
     },
     "execution_count": 189,
     "metadata": {},
     "output_type": "execute_result"
    }
   ],
   "source": [
    "city_mpg.mean()"
   ]
  },
  {
   "cell_type": "code",
   "execution_count": 187,
   "id": "bea068dd-83b9-40cd-bdb2-0ae9a5c65441",
   "metadata": {},
   "outputs": [
    {
     "data": {
      "text/plain": [
       "0        high\n",
       "1         low\n",
       "2        high\n",
       "3         low\n",
       "4         low\n",
       "         ... \n",
       "41139    high\n",
       "41140    high\n",
       "41141     low\n",
       "41142     low\n",
       "41143     low\n",
       "Name: city08, Length: 41144, dtype: object"
      ]
     },
     "execution_count": 187,
     "metadata": {},
     "output_type": "execute_result"
    }
   ],
   "source": [
    "def generalize_mean(x, mean_val):\n",
    "    if x >= mean_val:\n",
    "        return 'high'\n",
    "    return 'low'\n",
    "\n",
    "city_mpg.apply(generalize_mean, mean_val=city_mpg.mean())"
   ]
  },
  {
   "cell_type": "markdown",
   "id": "7651dad6-a071-408c-9937-d1edcc1d6b26",
   "metadata": {},
   "source": [
    "**2. Create a series from a numeric column that has the value of `'high'` if it is equal to or above the mean and `'low'` if it is below the mean using `np.select`.**"
   ]
  },
  {
   "cell_type": "code",
   "execution_count": 193,
   "id": "104347ed-bdbb-4f51-be6a-0d605d898440",
   "metadata": {},
   "outputs": [
    {
     "data": {
      "text/plain": [
       "0        high\n",
       "1         low\n",
       "2        high\n",
       "3         low\n",
       "4         low\n",
       "         ... \n",
       "41139    high\n",
       "41140    high\n",
       "41141     low\n",
       "41142     low\n",
       "41143     low\n",
       "Length: 41144, dtype: object"
      ]
     },
     "execution_count": 193,
     "metadata": {},
     "output_type": "execute_result"
    }
   ],
   "source": [
    "pd.Series(np.select([city_mpg.gt(city_mpg.mean())], ['high'], 'low'))"
   ]
  },
  {
   "cell_type": "markdown",
   "id": "943144cc-cd9b-47f9-9240-427dfa667739",
   "metadata": {},
   "source": [
    "**3. Time the differences between the previous two solutions to see which is faster.**"
   ]
  },
  {
   "cell_type": "code",
   "execution_count": 194,
   "id": "30fe5fe6-3383-4cdb-9375-05907f6964ce",
   "metadata": {},
   "outputs": [
    {
     "name": "stdout",
     "output_type": "stream",
     "text": [
      "22.3 ms ± 5.26 ms per loop (mean ± std. dev. of 7 runs, 10 loops each)\n"
     ]
    }
   ],
   "source": [
    "%%timeit\n",
    "city_mpg.apply(generalize_mean, mean_val=city_mpg.mean())"
   ]
  },
  {
   "cell_type": "code",
   "execution_count": 195,
   "id": "9a418240-7d7e-4abe-a879-2741a02a44c3",
   "metadata": {},
   "outputs": [
    {
     "name": "stdout",
     "output_type": "stream",
     "text": [
      "4.45 ms ± 108 µs per loop (mean ± std. dev. of 7 runs, 100 loops each)\n"
     ]
    }
   ],
   "source": [
    "%%timeit\n",
    "pd.Series(np.select([city_mpg.gt(city_mpg.mean())], ['high'], 'low'))"
   ]
  },
  {
   "cell_type": "markdown",
   "id": "69dcff04-0e2e-4adf-8790-928b8242e97d",
   "metadata": {},
   "source": [
    "`np.select` is around 5 times as fast as `.apply` in this exercise."
   ]
  },
  {
   "cell_type": "markdown",
   "id": "2f8566fa-4223-4ced-b907-dda2d64be689",
   "metadata": {},
   "source": [
    "**4. Replace the missing values of a numeric series with the median value.**"
   ]
  },
  {
   "cell_type": "code",
   "execution_count": 197,
   "id": "db207c99-9c8c-416c-a5fc-b150377e9867",
   "metadata": {},
   "outputs": [
    {
     "data": {
      "text/plain": [
       "7136    False\n",
       "7137    False\n",
       "7138     True\n",
       "7139     True\n",
       "7140    False\n",
       "Name: cylinders, dtype: bool"
      ]
     },
     "execution_count": 197,
     "metadata": {},
     "output_type": "execute_result"
    }
   ],
   "source": [
    "df.cylinders.isna()[7136:7141]"
   ]
  },
  {
   "cell_type": "code",
   "execution_count": 199,
   "id": "4ef90889-0c3c-4731-9175-e3250a801ea3",
   "metadata": {},
   "outputs": [
    {
     "data": {
      "text/plain": [
       "7136    6.0\n",
       "7137    6.0\n",
       "7138    6.0\n",
       "7139    6.0\n",
       "7140    6.0\n",
       "Name: cylinders, dtype: float64"
      ]
     },
     "execution_count": 199,
     "metadata": {},
     "output_type": "execute_result"
    }
   ],
   "source": [
    "df.cylinders.fillna(df.cylinders.median())[7136:7141]"
   ]
  },
  {
   "cell_type": "markdown",
   "id": "390b51cd-875f-4909-af32-ed5da9b2784c",
   "metadata": {},
   "source": [
    "**5.Clip the values of a numeric series to between the 10th and 90th percentiles.**"
   ]
  },
  {
   "cell_type": "code",
   "execution_count": 202,
   "id": "5bf82cdf-79a7-41cf-bba4-7af34d0ccf5d",
   "metadata": {},
   "outputs": [
    {
     "data": {
      "text/plain": [
       "0    1.9\n",
       "1    2.0\n",
       "2    3.0\n",
       "3    4.0\n",
       "4    5.0\n",
       "5    6.0\n",
       "6    7.0\n",
       "7    8.0\n",
       "8    9.0\n",
       "9    9.1\n",
       "dtype: float64"
      ]
     },
     "execution_count": 202,
     "metadata": {},
     "output_type": "execute_result"
    }
   ],
   "source": [
    "clip_s = pd.Series([1,2,3,4,5,6,7,8,9,10])\n",
    "(clip_s\n",
    "     .clip(lower=clip_s.quantile(0.1),\n",
    "           upper=clip_s.quantile(0.9))\n",
    ")"
   ]
  },
  {
   "cell_type": "markdown",
   "id": "ebabb2bd-570a-4ab9-8a01-325eed7b2566",
   "metadata": {},
   "source": [
    "**6. Using a categorical column, replace any value that is not in the top 5 most frequent values with `'Other'`.**"
   ]
  },
  {
   "cell_type": "code",
   "execution_count": 229,
   "id": "7d163a0f-bc94-4802-8ff0-6c2d6c7a5905",
   "metadata": {},
   "outputs": [
    {
     "data": {
      "text/plain": [
       "array(['Regular', 'Premium', 'Diesel', 'CNG', 'Gasoline or natural gas',\n",
       "       'Gasoline or E85', 'Electricity', 'Gasoline or propane',\n",
       "       'Premium or E85', 'Midgrade', 'Premium Gas or Electricity',\n",
       "       'Regular Gas and Electricity', 'Premium and Electricity',\n",
       "       'Regular Gas or Electricity'], dtype=object)"
      ]
     },
     "execution_count": 229,
     "metadata": {},
     "output_type": "execute_result"
    }
   ],
   "source": [
    "df.fuelType.unique()"
   ]
  },
  {
   "cell_type": "code",
   "execution_count": 230,
   "id": "aba399c0-1d16-4458-a509-a7a2af9bfbb2",
   "metadata": {},
   "outputs": [
    {
     "data": {
      "text/plain": [
       "Index(['Regular', 'Premium', 'Gasoline or E85', 'Diesel', 'Electricity'], dtype='object', name='fuelType')"
      ]
     },
     "execution_count": 230,
     "metadata": {},
     "output_type": "execute_result"
    }
   ],
   "source": [
    "top5 = df.fuelType.value_counts().index[:5]\n",
    "top5"
   ]
  },
  {
   "cell_type": "code",
   "execution_count": 231,
   "id": "9544abb1-c56b-4e43-841b-a2d48ecb6fab",
   "metadata": {},
   "outputs": [
    {
     "data": {
      "text/plain": [
       "0        Regular\n",
       "1        Regular\n",
       "2        Regular\n",
       "3        Regular\n",
       "4        Premium\n",
       "          ...   \n",
       "41139    Regular\n",
       "41140    Regular\n",
       "41141    Regular\n",
       "41142    Regular\n",
       "41143    Premium\n",
       "Name: fuelType, Length: 41144, dtype: object"
      ]
     },
     "execution_count": 231,
     "metadata": {},
     "output_type": "execute_result"
    }
   ],
   "source": [
    "df.fuelType.where(df.fuelType.isin(top5), other='Other')"
   ]
  },
  {
   "cell_type": "markdown",
   "id": "00de0514-9a84-4471-9c0d-83ffa01d3ba6",
   "metadata": {},
   "source": [
    "**7. Using a categorical column, replace any value that is not in the top 10 most frequent values with `'Other'`.**"
   ]
  },
  {
   "cell_type": "code",
   "execution_count": 232,
   "id": "a84ce412-7514-4712-8f89-4adb51785dea",
   "metadata": {},
   "outputs": [
    {
     "data": {
      "text/plain": [
       "Index(['Regular', 'Premium', 'Gasoline or E85', 'Diesel', 'Electricity',\n",
       "       'Premium or E85', 'Midgrade', 'CNG', 'Premium and Electricity',\n",
       "       'Regular Gas and Electricity'],\n",
       "      dtype='object', name='fuelType')"
      ]
     },
     "execution_count": 232,
     "metadata": {},
     "output_type": "execute_result"
    }
   ],
   "source": [
    "top10 = df.fuelType.value_counts().index[:10]\n",
    "top10"
   ]
  },
  {
   "cell_type": "code",
   "execution_count": 233,
   "id": "a2311d7c-742f-4924-a105-2cba12640ec6",
   "metadata": {},
   "outputs": [
    {
     "data": {
      "text/plain": [
       "0        Regular\n",
       "1        Regular\n",
       "2        Regular\n",
       "3        Regular\n",
       "4        Premium\n",
       "          ...   \n",
       "41139    Regular\n",
       "41140    Regular\n",
       "41141    Regular\n",
       "41142    Regular\n",
       "41143    Premium\n",
       "Name: fuelType, Length: 41144, dtype: object"
      ]
     },
     "execution_count": 233,
     "metadata": {},
     "output_type": "execute_result"
    }
   ],
   "source": [
    "df.fuelType.where(df.fuelType.isin(top10), other='Other')"
   ]
  },
  {
   "cell_type": "markdown",
   "id": "019e0015-9ddd-41a3-987a-5bf23d9d5e2b",
   "metadata": {},
   "source": [
    "**8. Make a function that takes a categorical series and a number (`n`) and returns a replace series that replaces any value that is not in the top `n` most frequent values with `'Other'`.**"
   ]
  },
  {
   "cell_type": "code",
   "execution_count": 234,
   "id": "f8ebf89d-0359-4e6a-9dc9-51aff36c04a2",
   "metadata": {},
   "outputs": [],
   "source": [
    "def top_n_categorical(s, n):\n",
    "    top_n = s.value_counts().index[:n]\n",
    "    return s.where(s.isin(top_n), other='Other')"
   ]
  },
  {
   "cell_type": "code",
   "execution_count": 237,
   "id": "b9c320c3-8689-4193-8db8-e023fda79880",
   "metadata": {},
   "outputs": [
    {
     "data": {
      "text/plain": [
       "array(['Regular', 'Premium', 'Diesel', 'CNG', 'Other', 'Gasoline or E85',\n",
       "       'Electricity', 'Premium or E85', 'Midgrade',\n",
       "       'Regular Gas and Electricity', 'Premium and Electricity'],\n",
       "      dtype=object)"
      ]
     },
     "execution_count": 237,
     "metadata": {},
     "output_type": "execute_result"
    }
   ],
   "source": [
    "s = top_n_categorical(df.fuelType, 10)\n",
    "s.unique()"
   ]
  },
  {
   "cell_type": "code",
   "execution_count": 238,
   "id": "8d4717d0-2d48-4e3f-86fd-9c34ea25c85a",
   "metadata": {},
   "outputs": [
    {
     "data": {
      "text/plain": [
       "array(['Regular', 'Premium', 'Diesel', 'Other', 'Gasoline or E85',\n",
       "       'Electricity'], dtype=object)"
      ]
     },
     "execution_count": 238,
     "metadata": {},
     "output_type": "execute_result"
    }
   ],
   "source": [
    "s = top_n_categorical(df.fuelType, 5)\n",
    "s.unique()"
   ]
  },
  {
   "cell_type": "markdown",
   "id": "bd9d945f-ac8c-4b39-98d6-333831347e2e",
   "metadata": {},
   "source": [
    "**9. Using a numeric column, bin it into 10 groups that have the same width.**"
   ]
  },
  {
   "cell_type": "code",
   "execution_count": 246,
   "id": "486aefd1-5802-4fb1-8ffb-542575fdccd8",
   "metadata": {},
   "outputs": [
    {
     "data": {
      "text/plain": [
       "0        (5.856, 20.4]\n",
       "1        (5.856, 20.4]\n",
       "2         (20.4, 34.8]\n",
       "3        (5.856, 20.4]\n",
       "4        (5.856, 20.4]\n",
       "             ...      \n",
       "41139    (5.856, 20.4]\n",
       "41140    (5.856, 20.4]\n",
       "41141    (5.856, 20.4]\n",
       "41142    (5.856, 20.4]\n",
       "41143    (5.856, 20.4]\n",
       "Name: city08, Length: 41144, dtype: category\n",
       "Categories (10, interval[float64, right]): [(5.856, 20.4] < (20.4, 34.8] < (34.8, 49.2] < (49.2, 63.6] ... (92.4, 106.8] < (106.8, 121.2] < (121.2, 135.6] < (135.6, 150.0]]"
      ]
     },
     "execution_count": 246,
     "metadata": {},
     "output_type": "execute_result"
    }
   ],
   "source": [
    "pd.cut(city_mpg, 10)"
   ]
  },
  {
   "cell_type": "markdown",
   "id": "777fcad9-0df2-412e-8ecc-a952a1871fd6",
   "metadata": {},
   "source": [
    "**10. Using a numeric column, bin it into 10 groups that have equal sized bins.**"
   ]
  },
  {
   "cell_type": "code",
   "execution_count": 245,
   "id": "81664353-98fb-494a-9154-4c72e5dc7c8a",
   "metadata": {},
   "outputs": [
    {
     "data": {
      "text/plain": [
       "0         (18.0, 20.0]\n",
       "1        (5.999, 13.0]\n",
       "2         (21.0, 24.0]\n",
       "3        (5.999, 13.0]\n",
       "4         (16.0, 17.0]\n",
       "             ...      \n",
       "41139     (18.0, 20.0]\n",
       "41140     (18.0, 20.0]\n",
       "41141     (17.0, 18.0]\n",
       "41142     (17.0, 18.0]\n",
       "41143     (15.0, 16.0]\n",
       "Name: city08, Length: 41144, dtype: category\n",
       "Categories (10, interval[float64, right]): [(5.999, 13.0] < (13.0, 14.0] < (14.0, 15.0] < (15.0, 16.0] ... (18.0, 20.0] < (20.0, 21.0] < (21.0, 24.0] < (24.0, 150.0]]"
      ]
     },
     "execution_count": 245,
     "metadata": {},
     "output_type": "execute_result"
    }
   ],
   "source": [
    "pd.qcut(city_mpg, 10)"
   ]
  },
  {
   "cell_type": "markdown",
   "id": "c7173467-9007-4c5a-923b-61ac983f8f91",
   "metadata": {},
   "source": [
    "[This](https://stackoverflow.com/questions/20158597/how-to-qcut-with-non-unique-bin-edges) Stack Overflow response addresses the below error:"
   ]
  },
  {
   "cell_type": "code",
   "execution_count": 249,
   "id": "e08cd06c-b1f2-4443-9848-62031c5a41fe",
   "metadata": {},
   "outputs": [
    {
     "ename": "ValueError",
     "evalue": "Bin edges must be unique: array([ 2.,  4.,  4.,  4.,  5.,  6.,  6.,  6.,  8.,  8., 16.]).\nYou can drop duplicate edges by setting the 'duplicates' kwarg",
     "output_type": "error",
     "traceback": [
      "\u001b[0;31m---------------------------------------------------------------------------\u001b[0m",
      "\u001b[0;31mValueError\u001b[0m                                Traceback (most recent call last)",
      "Cell \u001b[0;32mIn[249], line 1\u001b[0m\n\u001b[0;32m----> 1\u001b[0m \u001b[43mpd\u001b[49m\u001b[38;5;241;43m.\u001b[39;49m\u001b[43mqcut\u001b[49m\u001b[43m(\u001b[49m\u001b[43mdf\u001b[49m\u001b[38;5;241;43m.\u001b[39;49m\u001b[43mcylinders\u001b[49m\u001b[43m,\u001b[49m\u001b[43m \u001b[49m\u001b[38;5;241;43m10\u001b[39;49m\u001b[43m)\u001b[49m\n",
      "File \u001b[0;32m~/mambaforge/lib/python3.10/site-packages/pandas/core/reshape/tile.py:379\u001b[0m, in \u001b[0;36mqcut\u001b[0;34m(x, q, labels, retbins, precision, duplicates)\u001b[0m\n\u001b[1;32m    376\u001b[0m x_np \u001b[38;5;241m=\u001b[39m x_np[\u001b[38;5;241m~\u001b[39mnp\u001b[38;5;241m.\u001b[39misnan(x_np)]\n\u001b[1;32m    377\u001b[0m bins \u001b[38;5;241m=\u001b[39m np\u001b[38;5;241m.\u001b[39mquantile(x_np, quantiles)\n\u001b[0;32m--> 379\u001b[0m fac, bins \u001b[38;5;241m=\u001b[39m \u001b[43m_bins_to_cuts\u001b[49m\u001b[43m(\u001b[49m\n\u001b[1;32m    380\u001b[0m \u001b[43m    \u001b[49m\u001b[43mx\u001b[49m\u001b[43m,\u001b[49m\n\u001b[1;32m    381\u001b[0m \u001b[43m    \u001b[49m\u001b[43mbins\u001b[49m\u001b[43m,\u001b[49m\n\u001b[1;32m    382\u001b[0m \u001b[43m    \u001b[49m\u001b[43mlabels\u001b[49m\u001b[38;5;241;43m=\u001b[39;49m\u001b[43mlabels\u001b[49m\u001b[43m,\u001b[49m\n\u001b[1;32m    383\u001b[0m \u001b[43m    \u001b[49m\u001b[43mprecision\u001b[49m\u001b[38;5;241;43m=\u001b[39;49m\u001b[43mprecision\u001b[49m\u001b[43m,\u001b[49m\n\u001b[1;32m    384\u001b[0m \u001b[43m    \u001b[49m\u001b[43minclude_lowest\u001b[49m\u001b[38;5;241;43m=\u001b[39;49m\u001b[38;5;28;43;01mTrue\u001b[39;49;00m\u001b[43m,\u001b[49m\n\u001b[1;32m    385\u001b[0m \u001b[43m    \u001b[49m\u001b[43mdtype\u001b[49m\u001b[38;5;241;43m=\u001b[39;49m\u001b[43mdtype\u001b[49m\u001b[43m,\u001b[49m\n\u001b[1;32m    386\u001b[0m \u001b[43m    \u001b[49m\u001b[43mduplicates\u001b[49m\u001b[38;5;241;43m=\u001b[39;49m\u001b[43mduplicates\u001b[49m\u001b[43m,\u001b[49m\n\u001b[1;32m    387\u001b[0m \u001b[43m\u001b[49m\u001b[43m)\u001b[49m\n\u001b[1;32m    389\u001b[0m \u001b[38;5;28;01mreturn\u001b[39;00m _postprocess_for_cut(fac, bins, retbins, dtype, original)\n",
      "File \u001b[0;32m~/mambaforge/lib/python3.10/site-packages/pandas/core/reshape/tile.py:420\u001b[0m, in \u001b[0;36m_bins_to_cuts\u001b[0;34m(x, bins, right, labels, precision, include_lowest, dtype, duplicates, ordered)\u001b[0m\n\u001b[1;32m    418\u001b[0m \u001b[38;5;28;01mif\u001b[39;00m \u001b[38;5;28mlen\u001b[39m(unique_bins) \u001b[38;5;241m<\u001b[39m \u001b[38;5;28mlen\u001b[39m(bins) \u001b[38;5;129;01mand\u001b[39;00m \u001b[38;5;28mlen\u001b[39m(bins) \u001b[38;5;241m!=\u001b[39m \u001b[38;5;241m2\u001b[39m:\n\u001b[1;32m    419\u001b[0m     \u001b[38;5;28;01mif\u001b[39;00m duplicates \u001b[38;5;241m==\u001b[39m \u001b[38;5;124m\"\u001b[39m\u001b[38;5;124mraise\u001b[39m\u001b[38;5;124m\"\u001b[39m:\n\u001b[0;32m--> 420\u001b[0m         \u001b[38;5;28;01mraise\u001b[39;00m \u001b[38;5;167;01mValueError\u001b[39;00m(\n\u001b[1;32m    421\u001b[0m             \u001b[38;5;124mf\u001b[39m\u001b[38;5;124m\"\u001b[39m\u001b[38;5;124mBin edges must be unique: \u001b[39m\u001b[38;5;132;01m{\u001b[39;00m\u001b[38;5;28mrepr\u001b[39m(bins)\u001b[38;5;132;01m}\u001b[39;00m\u001b[38;5;124m.\u001b[39m\u001b[38;5;130;01m\\n\u001b[39;00m\u001b[38;5;124m\"\u001b[39m\n\u001b[1;32m    422\u001b[0m             \u001b[38;5;124mf\u001b[39m\u001b[38;5;124m\"\u001b[39m\u001b[38;5;124mYou can drop duplicate edges by setting the \u001b[39m\u001b[38;5;124m'\u001b[39m\u001b[38;5;124mduplicates\u001b[39m\u001b[38;5;124m'\u001b[39m\u001b[38;5;124m kwarg\u001b[39m\u001b[38;5;124m\"\u001b[39m\n\u001b[1;32m    423\u001b[0m         )\n\u001b[1;32m    424\u001b[0m     bins \u001b[38;5;241m=\u001b[39m unique_bins\n\u001b[1;32m    426\u001b[0m side: Literal[\u001b[38;5;124m\"\u001b[39m\u001b[38;5;124mleft\u001b[39m\u001b[38;5;124m\"\u001b[39m, \u001b[38;5;124m\"\u001b[39m\u001b[38;5;124mright\u001b[39m\u001b[38;5;124m\"\u001b[39m] \u001b[38;5;241m=\u001b[39m \u001b[38;5;124m\"\u001b[39m\u001b[38;5;124mleft\u001b[39m\u001b[38;5;124m\"\u001b[39m \u001b[38;5;28;01mif\u001b[39;00m right \u001b[38;5;28;01melse\u001b[39;00m \u001b[38;5;124m\"\u001b[39m\u001b[38;5;124mright\u001b[39m\u001b[38;5;124m\"\u001b[39m\n",
      "\u001b[0;31mValueError\u001b[0m: Bin edges must be unique: array([ 2.,  4.,  4.,  4.,  5.,  6.,  6.,  6.,  8.,  8., 16.]).\nYou can drop duplicate edges by setting the 'duplicates' kwarg"
     ]
    }
   ],
   "source": [
    "pd.qcut(df.cylinders, 10)"
   ]
  },
  {
   "cell_type": "markdown",
   "id": "1f7ddc04-db95-4e8e-9f42-2d1b55f1010b",
   "metadata": {},
   "source": [
    "If I decrease the number of bins to 5, the error is not raised:"
   ]
  },
  {
   "cell_type": "code",
   "execution_count": 255,
   "id": "55376684-5eda-4e46-bebf-50ee2c9e647d",
   "metadata": {},
   "outputs": [
    {
     "data": {
      "text/plain": [
       "0        (1.999, 4.0]\n",
       "1         (8.0, 16.0]\n",
       "2        (1.999, 4.0]\n",
       "3          (6.0, 8.0]\n",
       "4        (1.999, 4.0]\n",
       "             ...     \n",
       "41139    (1.999, 4.0]\n",
       "41140    (1.999, 4.0]\n",
       "41141    (1.999, 4.0]\n",
       "41142    (1.999, 4.0]\n",
       "41143    (1.999, 4.0]\n",
       "Name: cylinders, Length: 41144, dtype: category\n",
       "Categories (5, interval[float64, right]): [(1.999, 4.0] < (4.0, 5.0] < (5.0, 6.0] < (6.0, 8.0] < (8.0, 16.0]]"
      ]
     },
     "execution_count": 255,
     "metadata": {},
     "output_type": "execute_result"
    }
   ],
   "source": [
    "pd.qcut(df.cylinders, 5)"
   ]
  },
  {
   "cell_type": "markdown",
   "id": "8d9abb93-12cb-45a5-ab12-16715cfddfa7",
   "metadata": {},
   "source": [
    "## Chapter 10: Indexing Operations"
   ]
  },
  {
   "cell_type": "markdown",
   "id": "729f0cb8-0b28-4c9b-8816-40ab91f39edd",
   "metadata": {},
   "source": [
    "Both a series and a dataframe have an index. Both types support the Python indexing operator (`[]`). Both have attributes `.loc` and `.iloc` that you can index against."
   ]
  },
  {
   "cell_type": "markdown",
   "id": "4d8f4189-61e3-45af-8494-c5b4f4a2deda",
   "metadata": {},
   "source": [
    "### 10.1 Prepping the Data and Renaming the Index"
   ]
  },
  {
   "cell_type": "markdown",
   "id": "eefc6be0-f187-4cb5-9ad4-8cf58e147d5f",
   "metadata": {},
   "source": [
    "Use `.rename` method to hange the index labels. We can pass in a dictionary to map the previous index label to the new label:"
   ]
  },
  {
   "cell_type": "code",
   "execution_count": 259,
   "id": "88825032-aa20-4833-a733-2fed3b7b77fe",
   "metadata": {},
   "outputs": [
    {
     "data": {
      "text/plain": [
       "{0: 'Alfa Romeo',\n",
       " 1: 'Ferrari',\n",
       " 2: 'Dodge',\n",
       " 3: 'Dodge',\n",
       " 4: 'Subaru',\n",
       " 5: 'Subaru',\n",
       " 6: 'Subaru',\n",
       " 7: 'Toyota',\n",
       " 8: 'Toyota',\n",
       " 9: 'Toyota'}"
      ]
     },
     "execution_count": 259,
     "metadata": {},
     "output_type": "execute_result"
    }
   ],
   "source": [
    "import itertools\n",
    "\n",
    "dict(itertools.islice(df.make.to_dict().items(), 10))"
   ]
  },
  {
   "cell_type": "code",
   "execution_count": 260,
   "id": "46ed9675-12b3-4d9e-939e-ec471884be2e",
   "metadata": {},
   "outputs": [],
   "source": [
    "city2 = city_mpg.rename(df.make.to_dict())"
   ]
  },
  {
   "cell_type": "code",
   "execution_count": 261,
   "id": "ab5fa213-5519-407b-a151-9357638d2467",
   "metadata": {},
   "outputs": [
    {
     "data": {
      "text/plain": [
       "Alfa Romeo    19\n",
       "Ferrari        9\n",
       "Dodge         23\n",
       "Dodge         10\n",
       "Subaru        17\n",
       "              ..\n",
       "Subaru        19\n",
       "Subaru        20\n",
       "Subaru        18\n",
       "Subaru        18\n",
       "Subaru        16\n",
       "Name: city08, Length: 41144, dtype: int64"
      ]
     },
     "execution_count": 261,
     "metadata": {},
     "output_type": "execute_result"
    }
   ],
   "source": [
    "city2"
   ]
  },
  {
   "cell_type": "code",
   "execution_count": 262,
   "id": "234423df-88c9-4597-ab73-891eec1b09fa",
   "metadata": {},
   "outputs": [
    {
     "data": {
      "text/plain": [
       "Index(['Alfa Romeo', 'Ferrari', 'Dodge', 'Dodge', 'Subaru', 'Subaru', 'Subaru',\n",
       "       'Toyota', 'Toyota', 'Toyota',\n",
       "       ...\n",
       "       'Saab', 'Saturn', 'Saturn', 'Saturn', 'Saturn', 'Subaru', 'Subaru',\n",
       "       'Subaru', 'Subaru', 'Subaru'],\n",
       "      dtype='object', length=41144)"
      ]
     },
     "execution_count": 262,
     "metadata": {},
     "output_type": "execute_result"
    }
   ],
   "source": [
    "# view the index\n",
    "city2.index"
   ]
  },
  {
   "cell_type": "markdown",
   "id": "66fb1029-c082-4219-81fb-8e0d0ee35fbf",
   "metadata": {},
   "source": [
    "The `.rename` method also accepts a series, a scalar, a function that takes an old label and returns a new lable or a sequence. When we pass in a series and the index values are the same, the values from the series that we passed in are used as the index."
   ]
  },
  {
   "cell_type": "code",
   "execution_count": 263,
   "id": "af3da8e2-a368-48c1-8ac3-ddeb14bfe981",
   "metadata": {},
   "outputs": [
    {
     "data": {
      "text/plain": [
       "Alfa Romeo    19\n",
       "Ferrari        9\n",
       "Dodge         23\n",
       "Dodge         10\n",
       "Subaru        17\n",
       "              ..\n",
       "Subaru        19\n",
       "Subaru        20\n",
       "Subaru        18\n",
       "Subaru        18\n",
       "Subaru        16\n",
       "Name: city08, Length: 41144, dtype: int64"
      ]
     },
     "execution_count": 263,
     "metadata": {},
     "output_type": "execute_result"
    }
   ],
   "source": [
    "city2 = city_mpg.rename(df.make)\n",
    "city2"
   ]
  },
  {
   "cell_type": "markdown",
   "id": "ee8c7140-7d30-4966-a823-95668f292faa",
   "metadata": {},
   "source": [
    "If you pass a scalar value (a single string) into `.rename` the index will stay the same but the `.name` attribute of the series will update:"
   ]
  },
  {
   "cell_type": "code",
   "execution_count": 264,
   "id": "1f94ace7-178f-4a8c-baae-37d7f80b8eb6",
   "metadata": {},
   "outputs": [
    {
     "data": {
      "text/plain": [
       "Alfa Romeo    19\n",
       "Ferrari        9\n",
       "Dodge         23\n",
       "Dodge         10\n",
       "Subaru        17\n",
       "              ..\n",
       "Subaru        19\n",
       "Subaru        20\n",
       "Subaru        18\n",
       "Subaru        18\n",
       "Subaru        16\n",
       "Name: citympg, Length: 41144, dtype: int64"
      ]
     },
     "execution_count": 264,
     "metadata": {},
     "output_type": "execute_result"
    }
   ],
   "source": [
    "city2.rename('citympg')"
   ]
  },
  {
   "cell_type": "markdown",
   "id": "b6d5d256-f068-4c2f-ba9f-f31f177f4a66",
   "metadata": {},
   "source": [
    "### 10.2 Resetting the Index"
   ]
  },
  {
   "cell_type": "markdown",
   "id": "08cd6689-0765-4150-a4ed-ad50e9899a84",
   "metadata": {},
   "source": [
    "`.reset_index` by default will return a dataframe, moving the current index into a new column:"
   ]
  },
  {
   "cell_type": "code",
   "execution_count": 265,
   "id": "54ee2a62-fb63-46f9-9877-80c2a7eb3f54",
   "metadata": {},
   "outputs": [
    {
     "data": {
      "text/html": [
       "<div>\n",
       "<style scoped>\n",
       "    .dataframe tbody tr th:only-of-type {\n",
       "        vertical-align: middle;\n",
       "    }\n",
       "\n",
       "    .dataframe tbody tr th {\n",
       "        vertical-align: top;\n",
       "    }\n",
       "\n",
       "    .dataframe thead th {\n",
       "        text-align: right;\n",
       "    }\n",
       "</style>\n",
       "<table border=\"1\" class=\"dataframe\">\n",
       "  <thead>\n",
       "    <tr style=\"text-align: right;\">\n",
       "      <th></th>\n",
       "      <th>index</th>\n",
       "      <th>city08</th>\n",
       "    </tr>\n",
       "  </thead>\n",
       "  <tbody>\n",
       "    <tr>\n",
       "      <th>0</th>\n",
       "      <td>Alfa Romeo</td>\n",
       "      <td>19</td>\n",
       "    </tr>\n",
       "    <tr>\n",
       "      <th>1</th>\n",
       "      <td>Ferrari</td>\n",
       "      <td>9</td>\n",
       "    </tr>\n",
       "    <tr>\n",
       "      <th>2</th>\n",
       "      <td>Dodge</td>\n",
       "      <td>23</td>\n",
       "    </tr>\n",
       "    <tr>\n",
       "      <th>3</th>\n",
       "      <td>Dodge</td>\n",
       "      <td>10</td>\n",
       "    </tr>\n",
       "    <tr>\n",
       "      <th>4</th>\n",
       "      <td>Subaru</td>\n",
       "      <td>17</td>\n",
       "    </tr>\n",
       "    <tr>\n",
       "      <th>...</th>\n",
       "      <td>...</td>\n",
       "      <td>...</td>\n",
       "    </tr>\n",
       "    <tr>\n",
       "      <th>41139</th>\n",
       "      <td>Subaru</td>\n",
       "      <td>19</td>\n",
       "    </tr>\n",
       "    <tr>\n",
       "      <th>41140</th>\n",
       "      <td>Subaru</td>\n",
       "      <td>20</td>\n",
       "    </tr>\n",
       "    <tr>\n",
       "      <th>41141</th>\n",
       "      <td>Subaru</td>\n",
       "      <td>18</td>\n",
       "    </tr>\n",
       "    <tr>\n",
       "      <th>41142</th>\n",
       "      <td>Subaru</td>\n",
       "      <td>18</td>\n",
       "    </tr>\n",
       "    <tr>\n",
       "      <th>41143</th>\n",
       "      <td>Subaru</td>\n",
       "      <td>16</td>\n",
       "    </tr>\n",
       "  </tbody>\n",
       "</table>\n",
       "<p>41144 rows × 2 columns</p>\n",
       "</div>"
      ],
      "text/plain": [
       "            index  city08\n",
       "0      Alfa Romeo      19\n",
       "1         Ferrari       9\n",
       "2           Dodge      23\n",
       "3           Dodge      10\n",
       "4          Subaru      17\n",
       "...           ...     ...\n",
       "41139      Subaru      19\n",
       "41140      Subaru      20\n",
       "41141      Subaru      18\n",
       "41142      Subaru      18\n",
       "41143      Subaru      16\n",
       "\n",
       "[41144 rows x 2 columns]"
      ]
     },
     "execution_count": 265,
     "metadata": {},
     "output_type": "execute_result"
    }
   ],
   "source": [
    "city2.reset_index()"
   ]
  },
  {
   "cell_type": "markdown",
   "id": "53619e13-521e-48ed-bc69-fc817281b515",
   "metadata": {},
   "source": [
    "`drop=True` drops the current index and returns a Series."
   ]
  },
  {
   "cell_type": "code",
   "execution_count": 266,
   "id": "19db6810-fd47-4f93-97a3-8a0aac0be4b1",
   "metadata": {},
   "outputs": [
    {
     "data": {
      "text/plain": [
       "0        19\n",
       "1         9\n",
       "2        23\n",
       "3        10\n",
       "4        17\n",
       "         ..\n",
       "41139    19\n",
       "41140    20\n",
       "41141    18\n",
       "41142    18\n",
       "41143    16\n",
       "Name: city08, Length: 41144, dtype: int64"
      ]
     },
     "execution_count": 266,
     "metadata": {},
     "output_type": "execute_result"
    }
   ],
   "source": [
    "city2.reset_index(drop=True)"
   ]
  },
  {
   "cell_type": "markdown",
   "id": "977cfb5b-b867-4c48-b675-039a14278426",
   "metadata": {},
   "source": [
    "Note that `.sort_values` and `.sort_index` keep the same index but just rearrange the order so they do not impact operations that align on the index."
   ]
  },
  {
   "cell_type": "markdown",
   "id": "8e63e23f-5988-4b56-9ffe-96f0ddd7c62f",
   "metadata": {},
   "source": [
    "### 10.3 The `.loc` Attribute"
   ]
  },
  {
   "cell_type": "markdown",
   "id": "00b81d46-fadc-49b3-9d2a-cf6b0df884ab",
   "metadata": {},
   "source": [
    "The `.loc` attribute deals with index *labels*. You can pass the following into an index operation on `.loc`:\n",
    "\n",
    "- A scalar value of one of the index labels.\n",
    "- A list of index labels.\n",
    "- A slice of labels (closed interval so it includes the stop value).\n",
    "- An index.\n",
    "- A boolean array (same index labels as the series, but with True and False values).\n",
    "- A function that accepts a series and returns one of the above.\n",
    "\n",
    "If there are duplicate labels in the index, and you pass in a scalar with the label of an index, it will return a series. If there is only one value for that label it will return a scalar."
   ]
  },
  {
   "cell_type": "code",
   "execution_count": 267,
   "id": "498caa31-ce64-4530-8149-323cb94290b5",
   "metadata": {},
   "outputs": [
    {
     "data": {
      "text/plain": [
       "Subaru    17\n",
       "Subaru    21\n",
       "Subaru    22\n",
       "Subaru    19\n",
       "Subaru    20\n",
       "          ..\n",
       "Subaru    19\n",
       "Subaru    20\n",
       "Subaru    18\n",
       "Subaru    18\n",
       "Subaru    16\n",
       "Name: city08, Length: 885, dtype: int64"
      ]
     },
     "execution_count": 267,
     "metadata": {},
     "output_type": "execute_result"
    }
   ],
   "source": [
    "city2.loc['Subaru']"
   ]
  },
  {
   "cell_type": "code",
   "execution_count": 268,
   "id": "d95a7c53-ac73-4fc3-b150-024cd14ddd02",
   "metadata": {},
   "outputs": [
    {
     "data": {
      "text/plain": [
       "20"
      ]
     },
     "execution_count": 268,
     "metadata": {},
     "output_type": "execute_result"
    }
   ],
   "source": [
    "city2.loc['Fisker']"
   ]
  },
  {
   "cell_type": "markdown",
   "id": "b061a81a-8c5a-4b50-a68e-73ab4a7eb192",
   "metadata": {},
   "source": [
    "If you want to guarantee that a series is returned, pass in a list rather than passing in a scalar value:"
   ]
  },
  {
   "cell_type": "code",
   "execution_count": 269,
   "id": "5d7f5867-8fe7-456c-87ff-abd11918c0b1",
   "metadata": {},
   "outputs": [
    {
     "data": {
      "text/plain": [
       "Fisker    20\n",
       "Name: city08, dtype: int64"
      ]
     },
     "execution_count": 269,
     "metadata": {},
     "output_type": "execute_result"
    }
   ],
   "source": [
    "city2.loc[['Fisker']]"
   ]
  },
  {
   "cell_type": "code",
   "execution_count": 270,
   "id": "8aaee226-a0ef-4248-b556-bc8c43bbcbce",
   "metadata": {},
   "outputs": [
    {
     "data": {
      "text/plain": [
       "Ferrari         9\n",
       "Ferrari        12\n",
       "Ferrari        11\n",
       "Ferrari        10\n",
       "Ferrari        11\n",
       "               ..\n",
       "Lamborghini     6\n",
       "Lamborghini     8\n",
       "Lamborghini     8\n",
       "Lamborghini     8\n",
       "Lamborghini     8\n",
       "Name: city08, Length: 357, dtype: int64"
      ]
     },
     "execution_count": 270,
     "metadata": {},
     "output_type": "execute_result"
    }
   ],
   "source": [
    "city2.loc[['Ferrari', 'Lamborghini']]"
   ]
  },
  {
   "cell_type": "markdown",
   "id": "58c63b3e-094b-432c-9482-acff7bb3faa1",
   "metadata": {},
   "source": [
    "Sort the index if you are slicing with duplicate index labels:"
   ]
  },
  {
   "cell_type": "code",
   "execution_count": 271,
   "id": "d8b9855c-b00c-43c1-b989-459d55a1b2c4",
   "metadata": {},
   "outputs": [
    {
     "ename": "KeyError",
     "evalue": "\"Cannot get left slice bound for non-unique label: 'Ferrari'\"",
     "output_type": "error",
     "traceback": [
      "\u001b[0;31m---------------------------------------------------------------------------\u001b[0m",
      "\u001b[0;31mKeyError\u001b[0m                                  Traceback (most recent call last)",
      "Cell \u001b[0;32mIn[271], line 1\u001b[0m\n\u001b[0;32m----> 1\u001b[0m \u001b[43mcity2\u001b[49m\u001b[38;5;241;43m.\u001b[39;49m\u001b[43mloc\u001b[49m\u001b[43m[\u001b[49m\u001b[38;5;124;43m'\u001b[39;49m\u001b[38;5;124;43mFerrari\u001b[39;49m\u001b[38;5;124;43m'\u001b[39;49m\u001b[43m:\u001b[49m\u001b[38;5;124;43m'\u001b[39;49m\u001b[38;5;124;43mLamborghini\u001b[39;49m\u001b[38;5;124;43m'\u001b[39;49m\u001b[43m]\u001b[49m\n",
      "File \u001b[0;32m~/mambaforge/lib/python3.10/site-packages/pandas/core/indexing.py:1103\u001b[0m, in \u001b[0;36m_LocationIndexer.__getitem__\u001b[0;34m(self, key)\u001b[0m\n\u001b[1;32m   1100\u001b[0m axis \u001b[38;5;241m=\u001b[39m \u001b[38;5;28mself\u001b[39m\u001b[38;5;241m.\u001b[39maxis \u001b[38;5;129;01mor\u001b[39;00m \u001b[38;5;241m0\u001b[39m\n\u001b[1;32m   1102\u001b[0m maybe_callable \u001b[38;5;241m=\u001b[39m com\u001b[38;5;241m.\u001b[39mapply_if_callable(key, \u001b[38;5;28mself\u001b[39m\u001b[38;5;241m.\u001b[39mobj)\n\u001b[0;32m-> 1103\u001b[0m \u001b[38;5;28;01mreturn\u001b[39;00m \u001b[38;5;28;43mself\u001b[39;49m\u001b[38;5;241;43m.\u001b[39;49m\u001b[43m_getitem_axis\u001b[49m\u001b[43m(\u001b[49m\u001b[43mmaybe_callable\u001b[49m\u001b[43m,\u001b[49m\u001b[43m \u001b[49m\u001b[43maxis\u001b[49m\u001b[38;5;241;43m=\u001b[39;49m\u001b[43maxis\u001b[49m\u001b[43m)\u001b[49m\n",
      "File \u001b[0;32m~/mambaforge/lib/python3.10/site-packages/pandas/core/indexing.py:1323\u001b[0m, in \u001b[0;36m_LocIndexer._getitem_axis\u001b[0;34m(self, key, axis)\u001b[0m\n\u001b[1;32m   1321\u001b[0m \u001b[38;5;28;01mif\u001b[39;00m \u001b[38;5;28misinstance\u001b[39m(key, \u001b[38;5;28mslice\u001b[39m):\n\u001b[1;32m   1322\u001b[0m     \u001b[38;5;28mself\u001b[39m\u001b[38;5;241m.\u001b[39m_validate_key(key, axis)\n\u001b[0;32m-> 1323\u001b[0m     \u001b[38;5;28;01mreturn\u001b[39;00m \u001b[38;5;28;43mself\u001b[39;49m\u001b[38;5;241;43m.\u001b[39;49m\u001b[43m_get_slice_axis\u001b[49m\u001b[43m(\u001b[49m\u001b[43mkey\u001b[49m\u001b[43m,\u001b[49m\u001b[43m \u001b[49m\u001b[43maxis\u001b[49m\u001b[38;5;241;43m=\u001b[39;49m\u001b[43maxis\u001b[49m\u001b[43m)\u001b[49m\n\u001b[1;32m   1324\u001b[0m \u001b[38;5;28;01melif\u001b[39;00m com\u001b[38;5;241m.\u001b[39mis_bool_indexer(key):\n\u001b[1;32m   1325\u001b[0m     \u001b[38;5;28;01mreturn\u001b[39;00m \u001b[38;5;28mself\u001b[39m\u001b[38;5;241m.\u001b[39m_getbool_axis(key, axis\u001b[38;5;241m=\u001b[39maxis)\n",
      "File \u001b[0;32m~/mambaforge/lib/python3.10/site-packages/pandas/core/indexing.py:1355\u001b[0m, in \u001b[0;36m_LocIndexer._get_slice_axis\u001b[0;34m(self, slice_obj, axis)\u001b[0m\n\u001b[1;32m   1352\u001b[0m     \u001b[38;5;28;01mreturn\u001b[39;00m obj\u001b[38;5;241m.\u001b[39mcopy(deep\u001b[38;5;241m=\u001b[39m\u001b[38;5;28;01mFalse\u001b[39;00m)\n\u001b[1;32m   1354\u001b[0m labels \u001b[38;5;241m=\u001b[39m obj\u001b[38;5;241m.\u001b[39m_get_axis(axis)\n\u001b[0;32m-> 1355\u001b[0m indexer \u001b[38;5;241m=\u001b[39m \u001b[43mlabels\u001b[49m\u001b[38;5;241;43m.\u001b[39;49m\u001b[43mslice_indexer\u001b[49m\u001b[43m(\u001b[49m\u001b[43mslice_obj\u001b[49m\u001b[38;5;241;43m.\u001b[39;49m\u001b[43mstart\u001b[49m\u001b[43m,\u001b[49m\u001b[43m \u001b[49m\u001b[43mslice_obj\u001b[49m\u001b[38;5;241;43m.\u001b[39;49m\u001b[43mstop\u001b[49m\u001b[43m,\u001b[49m\u001b[43m \u001b[49m\u001b[43mslice_obj\u001b[49m\u001b[38;5;241;43m.\u001b[39;49m\u001b[43mstep\u001b[49m\u001b[43m)\u001b[49m\n\u001b[1;32m   1357\u001b[0m \u001b[38;5;28;01mif\u001b[39;00m \u001b[38;5;28misinstance\u001b[39m(indexer, \u001b[38;5;28mslice\u001b[39m):\n\u001b[1;32m   1358\u001b[0m     \u001b[38;5;28;01mreturn\u001b[39;00m \u001b[38;5;28mself\u001b[39m\u001b[38;5;241m.\u001b[39mobj\u001b[38;5;241m.\u001b[39m_slice(indexer, axis\u001b[38;5;241m=\u001b[39maxis)\n",
      "File \u001b[0;32m~/mambaforge/lib/python3.10/site-packages/pandas/core/indexes/base.py:6344\u001b[0m, in \u001b[0;36mIndex.slice_indexer\u001b[0;34m(self, start, end, step)\u001b[0m\n\u001b[1;32m   6300\u001b[0m \u001b[38;5;28;01mdef\u001b[39;00m \u001b[38;5;21mslice_indexer\u001b[39m(\n\u001b[1;32m   6301\u001b[0m     \u001b[38;5;28mself\u001b[39m,\n\u001b[1;32m   6302\u001b[0m     start: Hashable \u001b[38;5;241m|\u001b[39m \u001b[38;5;28;01mNone\u001b[39;00m \u001b[38;5;241m=\u001b[39m \u001b[38;5;28;01mNone\u001b[39;00m,\n\u001b[1;32m   6303\u001b[0m     end: Hashable \u001b[38;5;241m|\u001b[39m \u001b[38;5;28;01mNone\u001b[39;00m \u001b[38;5;241m=\u001b[39m \u001b[38;5;28;01mNone\u001b[39;00m,\n\u001b[1;32m   6304\u001b[0m     step: \u001b[38;5;28mint\u001b[39m \u001b[38;5;241m|\u001b[39m \u001b[38;5;28;01mNone\u001b[39;00m \u001b[38;5;241m=\u001b[39m \u001b[38;5;28;01mNone\u001b[39;00m,\n\u001b[1;32m   6305\u001b[0m ) \u001b[38;5;241m-\u001b[39m\u001b[38;5;241m>\u001b[39m \u001b[38;5;28mslice\u001b[39m:\n\u001b[1;32m   6306\u001b[0m \u001b[38;5;250m    \u001b[39m\u001b[38;5;124;03m\"\"\"\u001b[39;00m\n\u001b[1;32m   6307\u001b[0m \u001b[38;5;124;03m    Compute the slice indexer for input labels and step.\u001b[39;00m\n\u001b[1;32m   6308\u001b[0m \n\u001b[0;32m   (...)\u001b[0m\n\u001b[1;32m   6342\u001b[0m \u001b[38;5;124;03m    slice(1, 3, None)\u001b[39;00m\n\u001b[1;32m   6343\u001b[0m \u001b[38;5;124;03m    \"\"\"\u001b[39;00m\n\u001b[0;32m-> 6344\u001b[0m     start_slice, end_slice \u001b[38;5;241m=\u001b[39m \u001b[38;5;28;43mself\u001b[39;49m\u001b[38;5;241;43m.\u001b[39;49m\u001b[43mslice_locs\u001b[49m\u001b[43m(\u001b[49m\u001b[43mstart\u001b[49m\u001b[43m,\u001b[49m\u001b[43m \u001b[49m\u001b[43mend\u001b[49m\u001b[43m,\u001b[49m\u001b[43m \u001b[49m\u001b[43mstep\u001b[49m\u001b[38;5;241;43m=\u001b[39;49m\u001b[43mstep\u001b[49m\u001b[43m)\u001b[49m\n\u001b[1;32m   6346\u001b[0m     \u001b[38;5;66;03m# return a slice\u001b[39;00m\n\u001b[1;32m   6347\u001b[0m     \u001b[38;5;28;01mif\u001b[39;00m \u001b[38;5;129;01mnot\u001b[39;00m is_scalar(start_slice):\n",
      "File \u001b[0;32m~/mambaforge/lib/python3.10/site-packages/pandas/core/indexes/base.py:6537\u001b[0m, in \u001b[0;36mIndex.slice_locs\u001b[0;34m(self, start, end, step)\u001b[0m\n\u001b[1;32m   6535\u001b[0m start_slice \u001b[38;5;241m=\u001b[39m \u001b[38;5;28;01mNone\u001b[39;00m\n\u001b[1;32m   6536\u001b[0m \u001b[38;5;28;01mif\u001b[39;00m start \u001b[38;5;129;01mis\u001b[39;00m \u001b[38;5;129;01mnot\u001b[39;00m \u001b[38;5;28;01mNone\u001b[39;00m:\n\u001b[0;32m-> 6537\u001b[0m     start_slice \u001b[38;5;241m=\u001b[39m \u001b[38;5;28;43mself\u001b[39;49m\u001b[38;5;241;43m.\u001b[39;49m\u001b[43mget_slice_bound\u001b[49m\u001b[43m(\u001b[49m\u001b[43mstart\u001b[49m\u001b[43m,\u001b[49m\u001b[43m \u001b[49m\u001b[38;5;124;43m\"\u001b[39;49m\u001b[38;5;124;43mleft\u001b[39;49m\u001b[38;5;124;43m\"\u001b[39;49m\u001b[43m)\u001b[49m\n\u001b[1;32m   6538\u001b[0m \u001b[38;5;28;01mif\u001b[39;00m start_slice \u001b[38;5;129;01mis\u001b[39;00m \u001b[38;5;28;01mNone\u001b[39;00m:\n\u001b[1;32m   6539\u001b[0m     start_slice \u001b[38;5;241m=\u001b[39m \u001b[38;5;241m0\u001b[39m\n",
      "File \u001b[0;32m~/mambaforge/lib/python3.10/site-packages/pandas/core/indexes/base.py:6470\u001b[0m, in \u001b[0;36mIndex.get_slice_bound\u001b[0;34m(self, label, side)\u001b[0m\n\u001b[1;32m   6468\u001b[0m     slc \u001b[38;5;241m=\u001b[39m lib\u001b[38;5;241m.\u001b[39mmaybe_booleans_to_slice(slc\u001b[38;5;241m.\u001b[39mview(\u001b[38;5;124m\"\u001b[39m\u001b[38;5;124mu1\u001b[39m\u001b[38;5;124m\"\u001b[39m))\n\u001b[1;32m   6469\u001b[0m     \u001b[38;5;28;01mif\u001b[39;00m \u001b[38;5;28misinstance\u001b[39m(slc, np\u001b[38;5;241m.\u001b[39mndarray):\n\u001b[0;32m-> 6470\u001b[0m         \u001b[38;5;28;01mraise\u001b[39;00m \u001b[38;5;167;01mKeyError\u001b[39;00m(\n\u001b[1;32m   6471\u001b[0m             \u001b[38;5;124mf\u001b[39m\u001b[38;5;124m\"\u001b[39m\u001b[38;5;124mCannot get \u001b[39m\u001b[38;5;132;01m{\u001b[39;00mside\u001b[38;5;132;01m}\u001b[39;00m\u001b[38;5;124m slice bound for non-unique \u001b[39m\u001b[38;5;124m\"\u001b[39m\n\u001b[1;32m   6472\u001b[0m             \u001b[38;5;124mf\u001b[39m\u001b[38;5;124m\"\u001b[39m\u001b[38;5;124mlabel: \u001b[39m\u001b[38;5;132;01m{\u001b[39;00m\u001b[38;5;28mrepr\u001b[39m(original_label)\u001b[38;5;132;01m}\u001b[39;00m\u001b[38;5;124m\"\u001b[39m\n\u001b[1;32m   6473\u001b[0m         )\n\u001b[1;32m   6475\u001b[0m \u001b[38;5;28;01mif\u001b[39;00m \u001b[38;5;28misinstance\u001b[39m(slc, \u001b[38;5;28mslice\u001b[39m):\n\u001b[1;32m   6476\u001b[0m     \u001b[38;5;28;01mif\u001b[39;00m side \u001b[38;5;241m==\u001b[39m \u001b[38;5;124m\"\u001b[39m\u001b[38;5;124mleft\u001b[39m\u001b[38;5;124m\"\u001b[39m:\n",
      "\u001b[0;31mKeyError\u001b[0m: \"Cannot get left slice bound for non-unique label: 'Ferrari'\""
     ]
    }
   ],
   "source": [
    "city2.loc['Ferrari':'Lamborghini']"
   ]
  },
  {
   "cell_type": "code",
   "execution_count": 272,
   "id": "36d31e31-b9ca-4d61-b46c-98168ad9ba86",
   "metadata": {},
   "outputs": [
    {
     "data": {
      "text/plain": [
       "Ferrari        10\n",
       "Ferrari        13\n",
       "Ferrari        13\n",
       "Ferrari         9\n",
       "Ferrari        10\n",
       "               ..\n",
       "Lamborghini    12\n",
       "Lamborghini     9\n",
       "Lamborghini     8\n",
       "Lamborghini    13\n",
       "Lamborghini     8\n",
       "Name: city08, Length: 11210, dtype: int64"
      ]
     },
     "execution_count": 272,
     "metadata": {},
     "output_type": "execute_result"
    }
   ],
   "source": [
    "city2.sort_index().loc['Ferrari':'Lamborghini']"
   ]
  },
  {
   "cell_type": "markdown",
   "id": "7822a5c8-4dbd-4b21-b810-3415faaa05b1",
   "metadata": {},
   "source": [
    "Slicing with `.loc` follows the closed interval, includes both the start index and the final index.\n",
    "\n",
    "If you have a sorted index, you can slice with strings that are not actual labels."
   ]
  },
  {
   "cell_type": "code",
   "execution_count": 273,
   "id": "9f955720-9032-4310-90ac-841acb04d2e8",
   "metadata": {},
   "outputs": [
    {
     "data": {
      "text/plain": [
       "Federal Coach    15\n",
       "Federal Coach    13\n",
       "Federal Coach    13\n",
       "Federal Coach    14\n",
       "Federal Coach    13\n",
       "                 ..\n",
       "Isuzu            15\n",
       "Isuzu            15\n",
       "Isuzu            15\n",
       "Isuzu            27\n",
       "Isuzu            18\n",
       "Name: city08, Length: 9040, dtype: int64"
      ]
     },
     "execution_count": 273,
     "metadata": {},
     "output_type": "execute_result"
    }
   ],
   "source": [
    "city2.sort_index().loc[\"F\":\"J\"]"
   ]
  },
  {
   "cell_type": "markdown",
   "id": "fe46e875-e966-4484-bcbc-34f108dfb137",
   "metadata": {},
   "source": [
    "You can also pass an `Index` to `.loc`:"
   ]
  },
  {
   "cell_type": "code",
   "execution_count": 274,
   "id": "f3c7b7e6-f4d3-43f2-b2be-2387edeee80e",
   "metadata": {},
   "outputs": [
    {
     "data": {
      "text/plain": [
       "Dodge    23\n",
       "Dodge    10\n",
       "Dodge    12\n",
       "Dodge    11\n",
       "Dodge    11\n",
       "         ..\n",
       "Dodge    18\n",
       "Dodge    17\n",
       "Dodge    14\n",
       "Dodge    14\n",
       "Dodge    11\n",
       "Name: city08, Length: 2583, dtype: int64"
      ]
     },
     "execution_count": 274,
     "metadata": {},
     "output_type": "execute_result"
    }
   ],
   "source": [
    "idx = pd.Index(['Dodge'])\n",
    "city2.loc[idx]"
   ]
  },
  {
   "cell_type": "markdown",
   "id": "c7717dd4-aba2-4229-8e1f-625165389170",
   "metadata": {},
   "source": [
    "If we duplicate `'Dodge'` in the `Index`, the previous operation has twice as many values, a combinatoric explosion:"
   ]
  },
  {
   "cell_type": "code",
   "execution_count": 275,
   "id": "027f1bf3-3e93-4b8f-ba70-e4bb3840bfa7",
   "metadata": {},
   "outputs": [
    {
     "data": {
      "text/plain": [
       "Dodge    23\n",
       "Dodge    10\n",
       "Dodge    12\n",
       "Dodge    11\n",
       "Dodge    11\n",
       "         ..\n",
       "Dodge    18\n",
       "Dodge    17\n",
       "Dodge    14\n",
       "Dodge    14\n",
       "Dodge    11\n",
       "Name: city08, Length: 5166, dtype: int64"
      ]
     },
     "execution_count": 275,
     "metadata": {},
     "output_type": "execute_result"
    }
   ],
   "source": [
    "idx = pd.Index(['Dodge', 'Dodge'])\n",
    "city2.loc[idx]"
   ]
  },
  {
   "cell_type": "markdown",
   "id": "94e97f64-dff1-433e-9362-7bdc49eff3b1",
   "metadata": {},
   "source": [
    "You can also pass a boolean array to `.loc`:"
   ]
  },
  {
   "cell_type": "code",
   "execution_count": 276,
   "id": "36e93a07-1bcd-4768-aee5-4c74d22a5111",
   "metadata": {},
   "outputs": [
    {
     "data": {
      "text/plain": [
       "Alfa Romeo    False\n",
       "Ferrari       False\n",
       "Dodge         False\n",
       "Dodge         False\n",
       "Subaru        False\n",
       "              ...  \n",
       "Subaru        False\n",
       "Subaru        False\n",
       "Subaru        False\n",
       "Subaru        False\n",
       "Subaru        False\n",
       "Name: city08, Length: 41144, dtype: bool"
      ]
     },
     "execution_count": 276,
     "metadata": {},
     "output_type": "execute_result"
    }
   ],
   "source": [
    "mask = city2 > 50\n",
    "mask"
   ]
  },
  {
   "cell_type": "code",
   "execution_count": 278,
   "id": "2654f06c-832a-4435-841e-167b28409240",
   "metadata": {},
   "outputs": [
    {
     "data": {
      "text/plain": [
       "Nissan     81\n",
       "Toyota     81\n",
       "Toyota     81\n",
       "Ford       74\n",
       "Nissan     84\n",
       "         ... \n",
       "Tesla     140\n",
       "Tesla     115\n",
       "Tesla     104\n",
       "Tesla      98\n",
       "Toyota     55\n",
       "Name: city08, Length: 236, dtype: int64"
      ]
     },
     "execution_count": 278,
     "metadata": {},
     "output_type": "execute_result"
    }
   ],
   "source": [
    "city2.loc[mask]"
   ]
  },
  {
   "cell_type": "markdown",
   "id": "ad110856-6ffc-40ff-b751-a60ec067ab36",
   "metadata": {},
   "source": [
    "You can use a function with `.loc`. If I calculate the boolean array before taking into account the inflation, I get the wrong answer:"
   ]
  },
  {
   "cell_type": "code",
   "execution_count": 279,
   "id": "ba4d4206-b744-48e5-b40b-31c1aa9ea4fb",
   "metadata": {},
   "outputs": [],
   "source": [
    "cost = pd.Series([1.00, 2.25, 3.99, .99, 2.79],\n",
    "                 index=['Gum', 'Cookie', 'Melon', 'Roll', 'Carrots'])\n",
    "\n",
    "inflation = 1.10\n",
    "\n",
    "mask = cost > 3"
   ]
  },
  {
   "cell_type": "code",
   "execution_count": 281,
   "id": "4c535089-0453-4346-9550-8deba74d50a5",
   "metadata": {},
   "outputs": [
    {
     "data": {
      "text/plain": [
       "Melon    4.389\n",
       "dtype: float64"
      ]
     },
     "execution_count": 281,
     "metadata": {},
     "output_type": "execute_result"
    }
   ],
   "source": [
    "# wrong answer\n",
    "(cost\n",
    "     .mul(inflation)\n",
    "     .loc[mask]\n",
    ")"
   ]
  },
  {
   "cell_type": "code",
   "execution_count": 282,
   "id": "8f7a5f2c-63b5-4424-8171-922ce81d6563",
   "metadata": {},
   "outputs": [
    {
     "data": {
      "text/plain": [
       "Melon      4.389\n",
       "Carrots    3.069\n",
       "dtype: float64"
      ]
     },
     "execution_count": 282,
     "metadata": {},
     "output_type": "execute_result"
    }
   ],
   "source": [
    "# right answer\n",
    "(cost\n",
    "     .mul(inflation)\n",
    "     .loc[lambda s_: s_ > 3]\n",
    ")"
   ]
  },
  {
   "cell_type": "markdown",
   "id": "1999daf1-2887-4076-8f0f-acb8fa904a16",
   "metadata": {},
   "source": [
    "There is an implicit return statement in the lambda function. You can only put an expression in it, you can have a statement. It is limited to a single line of code."
   ]
  },
  {
   "cell_type": "markdown",
   "id": "d5222b68-183b-4779-bb15-18207e2a5053",
   "metadata": {},
   "source": [
    "### 10.4 The `.iloc` Attribute"
   ]
  },
  {
   "cell_type": "markdown",
   "id": "5b39df15-abf3-4f97-8d4f-7028c4dbe7dd",
   "metadata": {},
   "source": [
    "The `.iloc` attribute supports indexing with the following:\n",
    "\n",
    "- A scalar index position (an integer).\n",
    "- A list of index positions.\n",
    "- A slice of positions (half-open interval so it does not include stop value).\n",
    "- A NumPy array (or Python list) of boolean values.\n",
    "- A function that accepts a series and returns one of the above.\n",
    "\n",
    "Because index positions are unique, we will always get the scalar value when indexing with `.iloc` at a position:"
   ]
  },
  {
   "cell_type": "code",
   "execution_count": 283,
   "id": "bd90e9f0-f870-4a23-a0f7-d4082385e300",
   "metadata": {},
   "outputs": [
    {
     "data": {
      "text/plain": [
       "19"
      ]
     },
     "execution_count": 283,
     "metadata": {},
     "output_type": "execute_result"
    }
   ],
   "source": [
    "city2.iloc[0]"
   ]
  },
  {
   "cell_type": "code",
   "execution_count": 284,
   "id": "761936b0-0fcf-4bcf-a458-3138d7c26ea1",
   "metadata": {},
   "outputs": [
    {
     "data": {
      "text/plain": [
       "16"
      ]
     },
     "execution_count": 284,
     "metadata": {},
     "output_type": "execute_result"
    }
   ],
   "source": [
    "city2.iloc[-1]"
   ]
  },
  {
   "cell_type": "markdown",
   "id": "69e39672-83b4-47f8-aaf6-1759cc3ad7d3",
   "metadata": {},
   "source": [
    "If we want to return a series object, we can index it with a list of positions:"
   ]
  },
  {
   "cell_type": "code",
   "execution_count": 285,
   "id": "35764b37-6829-42b8-984f-33d6acb810be",
   "metadata": {},
   "outputs": [
    {
     "data": {
      "text/plain": [
       "Alfa Romeo    19\n",
       "Name: city08, dtype: int64"
      ]
     },
     "execution_count": 285,
     "metadata": {},
     "output_type": "execute_result"
    }
   ],
   "source": [
    "city2.iloc[[0]]"
   ]
  },
  {
   "cell_type": "code",
   "execution_count": 286,
   "id": "28144cf4-af41-4101-8d94-99d0b5c4edc6",
   "metadata": {},
   "outputs": [
    {
     "data": {
      "text/plain": [
       "Alfa Romeo    19\n",
       "Ferrari        9\n",
       "Subaru        16\n",
       "Name: city08, dtype: int64"
      ]
     },
     "execution_count": 286,
     "metadata": {},
     "output_type": "execute_result"
    }
   ],
   "source": [
    "city2.iloc[[0, 1, -1]]"
   ]
  },
  {
   "cell_type": "markdown",
   "id": "b9a69bff-14bb-4ec3-a9ae-4e18dfe24fd1",
   "metadata": {},
   "source": [
    "We can also use slices with `.iloc` (they follow the half-open interval):"
   ]
  },
  {
   "cell_type": "code",
   "execution_count": 287,
   "id": "4f152898-3417-4c04-9ebf-426673856808",
   "metadata": {},
   "outputs": [
    {
     "data": {
      "text/plain": [
       "Alfa Romeo    19\n",
       "Ferrari        9\n",
       "Dodge         23\n",
       "Dodge         10\n",
       "Subaru        17\n",
       "Name: city08, dtype: int64"
      ]
     },
     "execution_count": 287,
     "metadata": {},
     "output_type": "execute_result"
    }
   ],
   "source": [
    "city2.iloc[0:5]"
   ]
  },
  {
   "cell_type": "code",
   "execution_count": 288,
   "id": "fff24759-1c5a-4589-a687-ab9ac1b49bcd",
   "metadata": {},
   "outputs": [
    {
     "data": {
      "text/plain": [
       "Saturn    21\n",
       "Saturn    24\n",
       "Saturn    21\n",
       "Subaru    19\n",
       "Subaru    20\n",
       "Subaru    18\n",
       "Subaru    18\n",
       "Subaru    16\n",
       "Name: city08, dtype: int64"
      ]
     },
     "execution_count": 288,
     "metadata": {},
     "output_type": "execute_result"
    }
   ],
   "source": [
    "city2.iloc[-8:]"
   ]
  },
  {
   "cell_type": "markdown",
   "id": "eba9c063-943a-4fa6-a4ad-964a3c4faf0b",
   "metadata": {},
   "source": [
    "You can use a NumPy array of booleans (or a Python list) but if you use what we call a boolean array (a pandas series with booleans), this will fail:"
   ]
  },
  {
   "cell_type": "code",
   "execution_count": 289,
   "id": "36d6d504-854a-4cd2-95c2-83b0890a9367",
   "metadata": {},
   "outputs": [
    {
     "ename": "ValueError",
     "evalue": "iLocation based boolean indexing cannot use an indexable as a mask",
     "output_type": "error",
     "traceback": [
      "\u001b[0;31m---------------------------------------------------------------------------\u001b[0m",
      "\u001b[0;31mValueError\u001b[0m                                Traceback (most recent call last)",
      "Cell \u001b[0;32mIn[289], line 2\u001b[0m\n\u001b[1;32m      1\u001b[0m mask \u001b[38;5;241m=\u001b[39m city2 \u001b[38;5;241m>\u001b[39m \u001b[38;5;241m50\u001b[39m\n\u001b[0;32m----> 2\u001b[0m \u001b[43mcity2\u001b[49m\u001b[38;5;241;43m.\u001b[39;49m\u001b[43miloc\u001b[49m\u001b[43m[\u001b[49m\u001b[43mmask\u001b[49m\u001b[43m]\u001b[49m\n",
      "File \u001b[0;32m~/mambaforge/lib/python3.10/site-packages/pandas/core/indexing.py:1103\u001b[0m, in \u001b[0;36m_LocationIndexer.__getitem__\u001b[0;34m(self, key)\u001b[0m\n\u001b[1;32m   1100\u001b[0m axis \u001b[38;5;241m=\u001b[39m \u001b[38;5;28mself\u001b[39m\u001b[38;5;241m.\u001b[39maxis \u001b[38;5;129;01mor\u001b[39;00m \u001b[38;5;241m0\u001b[39m\n\u001b[1;32m   1102\u001b[0m maybe_callable \u001b[38;5;241m=\u001b[39m com\u001b[38;5;241m.\u001b[39mapply_if_callable(key, \u001b[38;5;28mself\u001b[39m\u001b[38;5;241m.\u001b[39mobj)\n\u001b[0;32m-> 1103\u001b[0m \u001b[38;5;28;01mreturn\u001b[39;00m \u001b[38;5;28;43mself\u001b[39;49m\u001b[38;5;241;43m.\u001b[39;49m\u001b[43m_getitem_axis\u001b[49m\u001b[43m(\u001b[49m\u001b[43mmaybe_callable\u001b[49m\u001b[43m,\u001b[49m\u001b[43m \u001b[49m\u001b[43maxis\u001b[49m\u001b[38;5;241;43m=\u001b[39;49m\u001b[43maxis\u001b[49m\u001b[43m)\u001b[49m\n",
      "File \u001b[0;32m~/mambaforge/lib/python3.10/site-packages/pandas/core/indexing.py:1642\u001b[0m, in \u001b[0;36m_iLocIndexer._getitem_axis\u001b[0;34m(self, key, axis)\u001b[0m\n\u001b[1;32m   1639\u001b[0m     key \u001b[38;5;241m=\u001b[39m np\u001b[38;5;241m.\u001b[39masarray(key)\n\u001b[1;32m   1641\u001b[0m \u001b[38;5;28;01mif\u001b[39;00m com\u001b[38;5;241m.\u001b[39mis_bool_indexer(key):\n\u001b[0;32m-> 1642\u001b[0m     \u001b[38;5;28;43mself\u001b[39;49m\u001b[38;5;241;43m.\u001b[39;49m\u001b[43m_validate_key\u001b[49m\u001b[43m(\u001b[49m\u001b[43mkey\u001b[49m\u001b[43m,\u001b[49m\u001b[43m \u001b[49m\u001b[43maxis\u001b[49m\u001b[43m)\u001b[49m\n\u001b[1;32m   1643\u001b[0m     \u001b[38;5;28;01mreturn\u001b[39;00m \u001b[38;5;28mself\u001b[39m\u001b[38;5;241m.\u001b[39m_getbool_axis(key, axis\u001b[38;5;241m=\u001b[39maxis)\n\u001b[1;32m   1645\u001b[0m \u001b[38;5;66;03m# a list of integers\u001b[39;00m\n",
      "File \u001b[0;32m~/mambaforge/lib/python3.10/site-packages/pandas/core/indexing.py:1487\u001b[0m, in \u001b[0;36m_iLocIndexer._validate_key\u001b[0;34m(self, key, axis)\u001b[0m\n\u001b[1;32m   1481\u001b[0m         \u001b[38;5;28;01mif\u001b[39;00m key\u001b[38;5;241m.\u001b[39mindex\u001b[38;5;241m.\u001b[39minferred_type \u001b[38;5;241m==\u001b[39m \u001b[38;5;124m\"\u001b[39m\u001b[38;5;124minteger\u001b[39m\u001b[38;5;124m\"\u001b[39m:\n\u001b[1;32m   1482\u001b[0m             \u001b[38;5;28;01mraise\u001b[39;00m \u001b[38;5;167;01mNotImplementedError\u001b[39;00m(\n\u001b[1;32m   1483\u001b[0m                 \u001b[38;5;124m\"\u001b[39m\u001b[38;5;124miLocation based boolean \u001b[39m\u001b[38;5;124m\"\u001b[39m\n\u001b[1;32m   1484\u001b[0m                 \u001b[38;5;124m\"\u001b[39m\u001b[38;5;124mindexing on an integer type \u001b[39m\u001b[38;5;124m\"\u001b[39m\n\u001b[1;32m   1485\u001b[0m                 \u001b[38;5;124m\"\u001b[39m\u001b[38;5;124mis not available\u001b[39m\u001b[38;5;124m\"\u001b[39m\n\u001b[1;32m   1486\u001b[0m             )\n\u001b[0;32m-> 1487\u001b[0m         \u001b[38;5;28;01mraise\u001b[39;00m \u001b[38;5;167;01mValueError\u001b[39;00m(\n\u001b[1;32m   1488\u001b[0m             \u001b[38;5;124m\"\u001b[39m\u001b[38;5;124miLocation based boolean indexing cannot use \u001b[39m\u001b[38;5;124m\"\u001b[39m\n\u001b[1;32m   1489\u001b[0m             \u001b[38;5;124m\"\u001b[39m\u001b[38;5;124man indexable as a mask\u001b[39m\u001b[38;5;124m\"\u001b[39m\n\u001b[1;32m   1490\u001b[0m         )\n\u001b[1;32m   1491\u001b[0m     \u001b[38;5;28;01mreturn\u001b[39;00m\n\u001b[1;32m   1493\u001b[0m \u001b[38;5;28;01mif\u001b[39;00m \u001b[38;5;28misinstance\u001b[39m(key, \u001b[38;5;28mslice\u001b[39m):\n",
      "\u001b[0;31mValueError\u001b[0m: iLocation based boolean indexing cannot use an indexable as a mask"
     ]
    }
   ],
   "source": [
    "mask = city2 > 50\n",
    "city2.iloc[mask]"
   ]
  },
  {
   "cell_type": "code",
   "execution_count": 290,
   "id": "d874b367-da17-44c5-aaea-e35f39b0d5f6",
   "metadata": {},
   "outputs": [
    {
     "data": {
      "text/plain": [
       "Nissan     81\n",
       "Toyota     81\n",
       "Toyota     81\n",
       "Ford       74\n",
       "Nissan     84\n",
       "         ... \n",
       "Tesla     140\n",
       "Tesla     115\n",
       "Tesla     104\n",
       "Tesla      98\n",
       "Toyota     55\n",
       "Name: city08, Length: 236, dtype: int64"
      ]
     },
     "execution_count": 290,
     "metadata": {},
     "output_type": "execute_result"
    }
   ],
   "source": [
    "city2.iloc[mask.to_numpy()]"
   ]
  },
  {
   "cell_type": "markdown",
   "id": "aaccfb21-c68c-45ad-998b-491fcf88896a",
   "metadata": {},
   "source": [
    "### 10.5 Heads and Tails"
   ]
  },
  {
   "cell_type": "code",
   "execution_count": 291,
   "id": "b908b396-9d1e-4c37-a5bf-0f2bd63640dd",
   "metadata": {},
   "outputs": [
    {
     "data": {
      "text/plain": [
       "Alfa Romeo    19\n",
       "Ferrari        9\n",
       "Dodge         23\n",
       "Name: city08, dtype: int64"
      ]
     },
     "execution_count": 291,
     "metadata": {},
     "output_type": "execute_result"
    }
   ],
   "source": [
    "city2.head(3)"
   ]
  },
  {
   "cell_type": "code",
   "execution_count": 292,
   "id": "ae794cf3-58c4-4ec2-9b3d-7557999abf29",
   "metadata": {},
   "outputs": [
    {
     "data": {
      "text/plain": [
       "Subaru    18\n",
       "Subaru    18\n",
       "Subaru    16\n",
       "Name: city08, dtype: int64"
      ]
     },
     "execution_count": 292,
     "metadata": {},
     "output_type": "execute_result"
    }
   ],
   "source": [
    "city2.tail(3)"
   ]
  },
  {
   "cell_type": "markdown",
   "id": "60029ba6-3397-490c-a67d-582f1447cf1e",
   "metadata": {},
   "source": [
    "### 10.6 Sampling"
   ]
  },
  {
   "cell_type": "markdown",
   "id": "81a8b99a-b97d-4b80-8d05-22522c1a4986",
   "metadata": {},
   "source": [
    "The code below randomly pulls out six values:"
   ]
  },
  {
   "cell_type": "code",
   "execution_count": 293,
   "id": "ffade7a5-b384-402e-97b3-d28ebba93617",
   "metadata": {},
   "outputs": [
    {
     "data": {
      "text/plain": [
       "Volvo         16\n",
       "Mitsubishi    19\n",
       "Buick         27\n",
       "Jeep          15\n",
       "Land Rover    13\n",
       "Saab          17\n",
       "Name: city08, dtype: int64"
      ]
     },
     "execution_count": 293,
     "metadata": {},
     "output_type": "execute_result"
    }
   ],
   "source": [
    "city2.sample(6, random_state=42)"
   ]
  },
  {
   "cell_type": "markdown",
   "id": "cf698c52-235e-4773-98da-9fdf90614199",
   "metadata": {},
   "source": [
    "### 10.7 Filtering Index Values"
   ]
  },
  {
   "cell_type": "markdown",
   "id": "74d2b36a-be76-460f-badd-82c2c6ab7685",
   "metadata": {},
   "source": [
    "The `filter` method will filter index labels by exact match (`items`), substring (`like`), or regex (`regex`)."
   ]
  },
  {
   "cell_type": "code",
   "execution_count": 294,
   "id": "137634f2-d8a0-4edc-974f-8897d963eabe",
   "metadata": {},
   "outputs": [
    {
     "ename": "ValueError",
     "evalue": "cannot reindex on an axis with duplicate labels",
     "output_type": "error",
     "traceback": [
      "\u001b[0;31m---------------------------------------------------------------------------\u001b[0m",
      "\u001b[0;31mValueError\u001b[0m                                Traceback (most recent call last)",
      "Cell \u001b[0;32mIn[294], line 2\u001b[0m\n\u001b[1;32m      1\u001b[0m \u001b[38;5;66;03m# exact match fails with duplicate index labels\u001b[39;00m\n\u001b[0;32m----> 2\u001b[0m \u001b[43mcity2\u001b[49m\u001b[38;5;241;43m.\u001b[39;49m\u001b[43mfilter\u001b[49m\u001b[43m(\u001b[49m\u001b[43mitems\u001b[49m\u001b[38;5;241;43m=\u001b[39;49m\u001b[43m[\u001b[49m\u001b[38;5;124;43m'\u001b[39;49m\u001b[38;5;124;43mFord\u001b[39;49m\u001b[38;5;124;43m'\u001b[39;49m\u001b[43m,\u001b[49m\u001b[43m \u001b[49m\u001b[38;5;124;43m'\u001b[39;49m\u001b[38;5;124;43mSubaru\u001b[39;49m\u001b[38;5;124;43m'\u001b[39;49m\u001b[43m]\u001b[49m\u001b[43m)\u001b[49m\n",
      "File \u001b[0;32m~/mambaforge/lib/python3.10/site-packages/pandas/core/generic.py:5537\u001b[0m, in \u001b[0;36mNDFrame.filter\u001b[0;34m(self, items, like, regex, axis)\u001b[0m\n\u001b[1;32m   5535\u001b[0m     name \u001b[38;5;241m=\u001b[39m \u001b[38;5;28mself\u001b[39m\u001b[38;5;241m.\u001b[39m_get_axis_name(axis)\n\u001b[1;32m   5536\u001b[0m     \u001b[38;5;66;03m# error: Keywords must be strings\u001b[39;00m\n\u001b[0;32m-> 5537\u001b[0m     \u001b[38;5;28;01mreturn\u001b[39;00m \u001b[38;5;28;43mself\u001b[39;49m\u001b[38;5;241;43m.\u001b[39;49m\u001b[43mreindex\u001b[49m\u001b[43m(\u001b[49m\u001b[43m  \u001b[49m\u001b[38;5;66;43;03m# type: ignore[misc]\u001b[39;49;00m\n\u001b[1;32m   5538\u001b[0m \u001b[43m        \u001b[49m\u001b[38;5;241;43m*\u001b[39;49m\u001b[38;5;241;43m*\u001b[39;49m\u001b[43m{\u001b[49m\u001b[43mname\u001b[49m\u001b[43m:\u001b[49m\u001b[43m \u001b[49m\u001b[43m[\u001b[49m\u001b[43mr\u001b[49m\u001b[43m \u001b[49m\u001b[38;5;28;43;01mfor\u001b[39;49;00m\u001b[43m \u001b[49m\u001b[43mr\u001b[49m\u001b[43m \u001b[49m\u001b[38;5;129;43;01min\u001b[39;49;00m\u001b[43m \u001b[49m\u001b[43mitems\u001b[49m\u001b[43m \u001b[49m\u001b[38;5;28;43;01mif\u001b[39;49;00m\u001b[43m \u001b[49m\u001b[43mr\u001b[49m\u001b[43m \u001b[49m\u001b[38;5;129;43;01min\u001b[39;49;00m\u001b[43m \u001b[49m\u001b[43mlabels\u001b[49m\u001b[43m]\u001b[49m\u001b[43m}\u001b[49m\u001b[43m  \u001b[49m\u001b[38;5;66;43;03m# type: ignore[arg-type]\u001b[39;49;00m\n\u001b[1;32m   5539\u001b[0m \u001b[43m    \u001b[49m\u001b[43m)\u001b[49m\n\u001b[1;32m   5540\u001b[0m \u001b[38;5;28;01melif\u001b[39;00m like:\n\u001b[1;32m   5542\u001b[0m     \u001b[38;5;28;01mdef\u001b[39;00m \u001b[38;5;21mf\u001b[39m(x) \u001b[38;5;241m-\u001b[39m\u001b[38;5;241m>\u001b[39m bool_t:\n",
      "File \u001b[0;32m~/mambaforge/lib/python3.10/site-packages/pandas/core/series.py:4918\u001b[0m, in \u001b[0;36mSeries.reindex\u001b[0;34m(self, index, axis, method, copy, level, fill_value, limit, tolerance)\u001b[0m\n\u001b[1;32m   4901\u001b[0m \u001b[38;5;129m@doc\u001b[39m(\n\u001b[1;32m   4902\u001b[0m     NDFrame\u001b[38;5;241m.\u001b[39mreindex,  \u001b[38;5;66;03m# type: ignore[has-type]\u001b[39;00m\n\u001b[1;32m   4903\u001b[0m     klass\u001b[38;5;241m=\u001b[39m_shared_doc_kwargs[\u001b[38;5;124m\"\u001b[39m\u001b[38;5;124mklass\u001b[39m\u001b[38;5;124m\"\u001b[39m],\n\u001b[0;32m   (...)\u001b[0m\n\u001b[1;32m   4916\u001b[0m     tolerance\u001b[38;5;241m=\u001b[39m\u001b[38;5;28;01mNone\u001b[39;00m,\n\u001b[1;32m   4917\u001b[0m ) \u001b[38;5;241m-\u001b[39m\u001b[38;5;241m>\u001b[39m Series:\n\u001b[0;32m-> 4918\u001b[0m     \u001b[38;5;28;01mreturn\u001b[39;00m \u001b[38;5;28;43msuper\u001b[39;49m\u001b[43m(\u001b[49m\u001b[43m)\u001b[49m\u001b[38;5;241;43m.\u001b[39;49m\u001b[43mreindex\u001b[49m\u001b[43m(\u001b[49m\n\u001b[1;32m   4919\u001b[0m \u001b[43m        \u001b[49m\u001b[43mindex\u001b[49m\u001b[38;5;241;43m=\u001b[39;49m\u001b[43mindex\u001b[49m\u001b[43m,\u001b[49m\n\u001b[1;32m   4920\u001b[0m \u001b[43m        \u001b[49m\u001b[43mmethod\u001b[49m\u001b[38;5;241;43m=\u001b[39;49m\u001b[43mmethod\u001b[49m\u001b[43m,\u001b[49m\n\u001b[1;32m   4921\u001b[0m \u001b[43m        \u001b[49m\u001b[43mcopy\u001b[49m\u001b[38;5;241;43m=\u001b[39;49m\u001b[43mcopy\u001b[49m\u001b[43m,\u001b[49m\n\u001b[1;32m   4922\u001b[0m \u001b[43m        \u001b[49m\u001b[43mlevel\u001b[49m\u001b[38;5;241;43m=\u001b[39;49m\u001b[43mlevel\u001b[49m\u001b[43m,\u001b[49m\n\u001b[1;32m   4923\u001b[0m \u001b[43m        \u001b[49m\u001b[43mfill_value\u001b[49m\u001b[38;5;241;43m=\u001b[39;49m\u001b[43mfill_value\u001b[49m\u001b[43m,\u001b[49m\n\u001b[1;32m   4924\u001b[0m \u001b[43m        \u001b[49m\u001b[43mlimit\u001b[49m\u001b[38;5;241;43m=\u001b[39;49m\u001b[43mlimit\u001b[49m\u001b[43m,\u001b[49m\n\u001b[1;32m   4925\u001b[0m \u001b[43m        \u001b[49m\u001b[43mtolerance\u001b[49m\u001b[38;5;241;43m=\u001b[39;49m\u001b[43mtolerance\u001b[49m\u001b[43m,\u001b[49m\n\u001b[1;32m   4926\u001b[0m \u001b[43m    \u001b[49m\u001b[43m)\u001b[49m\n",
      "File \u001b[0;32m~/mambaforge/lib/python3.10/site-packages/pandas/core/generic.py:5360\u001b[0m, in \u001b[0;36mNDFrame.reindex\u001b[0;34m(self, labels, index, columns, axis, method, copy, level, fill_value, limit, tolerance)\u001b[0m\n\u001b[1;32m   5357\u001b[0m     \u001b[38;5;28;01mreturn\u001b[39;00m \u001b[38;5;28mself\u001b[39m\u001b[38;5;241m.\u001b[39m_reindex_multi(axes, copy, fill_value)\n\u001b[1;32m   5359\u001b[0m \u001b[38;5;66;03m# perform the reindex on the axes\u001b[39;00m\n\u001b[0;32m-> 5360\u001b[0m \u001b[38;5;28;01mreturn\u001b[39;00m \u001b[38;5;28;43mself\u001b[39;49m\u001b[38;5;241;43m.\u001b[39;49m\u001b[43m_reindex_axes\u001b[49m\u001b[43m(\u001b[49m\n\u001b[1;32m   5361\u001b[0m \u001b[43m    \u001b[49m\u001b[43maxes\u001b[49m\u001b[43m,\u001b[49m\u001b[43m \u001b[49m\u001b[43mlevel\u001b[49m\u001b[43m,\u001b[49m\u001b[43m \u001b[49m\u001b[43mlimit\u001b[49m\u001b[43m,\u001b[49m\u001b[43m \u001b[49m\u001b[43mtolerance\u001b[49m\u001b[43m,\u001b[49m\u001b[43m \u001b[49m\u001b[43mmethod\u001b[49m\u001b[43m,\u001b[49m\u001b[43m \u001b[49m\u001b[43mfill_value\u001b[49m\u001b[43m,\u001b[49m\u001b[43m \u001b[49m\u001b[43mcopy\u001b[49m\n\u001b[1;32m   5362\u001b[0m \u001b[43m\u001b[49m\u001b[43m)\u001b[49m\u001b[38;5;241m.\u001b[39m__finalize__(\u001b[38;5;28mself\u001b[39m, method\u001b[38;5;241m=\u001b[39m\u001b[38;5;124m\"\u001b[39m\u001b[38;5;124mreindex\u001b[39m\u001b[38;5;124m\"\u001b[39m)\n",
      "File \u001b[0;32m~/mambaforge/lib/python3.10/site-packages/pandas/core/generic.py:5375\u001b[0m, in \u001b[0;36mNDFrame._reindex_axes\u001b[0;34m(self, axes, level, limit, tolerance, method, fill_value, copy)\u001b[0m\n\u001b[1;32m   5372\u001b[0m     \u001b[38;5;28;01mcontinue\u001b[39;00m\n\u001b[1;32m   5374\u001b[0m ax \u001b[38;5;241m=\u001b[39m \u001b[38;5;28mself\u001b[39m\u001b[38;5;241m.\u001b[39m_get_axis(a)\n\u001b[0;32m-> 5375\u001b[0m new_index, indexer \u001b[38;5;241m=\u001b[39m \u001b[43max\u001b[49m\u001b[38;5;241;43m.\u001b[39;49m\u001b[43mreindex\u001b[49m\u001b[43m(\u001b[49m\n\u001b[1;32m   5376\u001b[0m \u001b[43m    \u001b[49m\u001b[43mlabels\u001b[49m\u001b[43m,\u001b[49m\u001b[43m \u001b[49m\u001b[43mlevel\u001b[49m\u001b[38;5;241;43m=\u001b[39;49m\u001b[43mlevel\u001b[49m\u001b[43m,\u001b[49m\u001b[43m \u001b[49m\u001b[43mlimit\u001b[49m\u001b[38;5;241;43m=\u001b[39;49m\u001b[43mlimit\u001b[49m\u001b[43m,\u001b[49m\u001b[43m \u001b[49m\u001b[43mtolerance\u001b[49m\u001b[38;5;241;43m=\u001b[39;49m\u001b[43mtolerance\u001b[49m\u001b[43m,\u001b[49m\u001b[43m \u001b[49m\u001b[43mmethod\u001b[49m\u001b[38;5;241;43m=\u001b[39;49m\u001b[43mmethod\u001b[49m\n\u001b[1;32m   5377\u001b[0m \u001b[43m\u001b[49m\u001b[43m)\u001b[49m\n\u001b[1;32m   5379\u001b[0m axis \u001b[38;5;241m=\u001b[39m \u001b[38;5;28mself\u001b[39m\u001b[38;5;241m.\u001b[39m_get_axis_number(a)\n\u001b[1;32m   5380\u001b[0m obj \u001b[38;5;241m=\u001b[39m obj\u001b[38;5;241m.\u001b[39m_reindex_with_indexers(\n\u001b[1;32m   5381\u001b[0m     {axis: [new_index, indexer]},\n\u001b[1;32m   5382\u001b[0m     fill_value\u001b[38;5;241m=\u001b[39mfill_value,\n\u001b[1;32m   5383\u001b[0m     copy\u001b[38;5;241m=\u001b[39mcopy,\n\u001b[1;32m   5384\u001b[0m     allow_dups\u001b[38;5;241m=\u001b[39m\u001b[38;5;28;01mFalse\u001b[39;00m,\n\u001b[1;32m   5385\u001b[0m )\n",
      "File \u001b[0;32m~/mambaforge/lib/python3.10/site-packages/pandas/core/indexes/base.py:4275\u001b[0m, in \u001b[0;36mIndex.reindex\u001b[0;34m(self, target, method, level, limit, tolerance)\u001b[0m\n\u001b[1;32m   4272\u001b[0m     \u001b[38;5;28;01mraise\u001b[39;00m \u001b[38;5;167;01mValueError\u001b[39;00m(\u001b[38;5;124m\"\u001b[39m\u001b[38;5;124mcannot handle a non-unique multi-index!\u001b[39m\u001b[38;5;124m\"\u001b[39m)\n\u001b[1;32m   4273\u001b[0m \u001b[38;5;28;01melif\u001b[39;00m \u001b[38;5;129;01mnot\u001b[39;00m \u001b[38;5;28mself\u001b[39m\u001b[38;5;241m.\u001b[39mis_unique:\n\u001b[1;32m   4274\u001b[0m     \u001b[38;5;66;03m# GH#42568\u001b[39;00m\n\u001b[0;32m-> 4275\u001b[0m     \u001b[38;5;28;01mraise\u001b[39;00m \u001b[38;5;167;01mValueError\u001b[39;00m(\u001b[38;5;124m\"\u001b[39m\u001b[38;5;124mcannot reindex on an axis with duplicate labels\u001b[39m\u001b[38;5;124m\"\u001b[39m)\n\u001b[1;32m   4276\u001b[0m \u001b[38;5;28;01melse\u001b[39;00m:\n\u001b[1;32m   4277\u001b[0m     indexer, _ \u001b[38;5;241m=\u001b[39m \u001b[38;5;28mself\u001b[39m\u001b[38;5;241m.\u001b[39mget_indexer_non_unique(target)\n",
      "\u001b[0;31mValueError\u001b[0m: cannot reindex on an axis with duplicate labels"
     ]
    }
   ],
   "source": [
    "# exact match fails with duplicate index labels\n",
    "city2.filter(items=['Ford', 'Subaru'])"
   ]
  },
  {
   "cell_type": "code",
   "execution_count": 295,
   "id": "90642fd0-1d65-46fc-878b-b76ec9c2f50d",
   "metadata": {},
   "outputs": [
    {
     "data": {
      "text/plain": [
       "Ford    18\n",
       "Ford    16\n",
       "Ford    17\n",
       "Ford    17\n",
       "Ford    15\n",
       "        ..\n",
       "Ford    26\n",
       "Ford    19\n",
       "Ford    21\n",
       "Ford    18\n",
       "Ford    19\n",
       "Name: city08, Length: 3371, dtype: int64"
      ]
     },
     "execution_count": 295,
     "metadata": {},
     "output_type": "execute_result"
    }
   ],
   "source": [
    "city2.filter(like='rd')"
   ]
  },
  {
   "cell_type": "code",
   "execution_count": 296,
   "id": "3b06f4a9-5c96-4ef6-b9b8-a0c368348a33",
   "metadata": {},
   "outputs": [
    {
     "data": {
      "text/plain": [
       "Subaru    17\n",
       "Subaru    21\n",
       "Subaru    22\n",
       "Ford      18\n",
       "Ford      16\n",
       "          ..\n",
       "Subaru    19\n",
       "Subaru    20\n",
       "Subaru    18\n",
       "Subaru    18\n",
       "Subaru    16\n",
       "Name: city08, Length: 4256, dtype: int64"
      ]
     },
     "execution_count": 296,
     "metadata": {},
     "output_type": "execute_result"
    }
   ],
   "source": [
    "city2.filter(regex='(Ford)|(Subaru)')"
   ]
  },
  {
   "cell_type": "code",
   "execution_count": null,
   "id": "46e5c483-e622-4c4a-8d30-93e469c45c1b",
   "metadata": {},
   "outputs": [],
   "source": []
  }
 ],
 "metadata": {
  "kernelspec": {
   "display_name": "effective_pandas",
   "language": "python",
   "name": "effective_pandas"
  },
  "language_info": {
   "codemirror_mode": {
    "name": "ipython",
    "version": 3
   },
   "file_extension": ".py",
   "mimetype": "text/x-python",
   "name": "python",
   "nbconvert_exporter": "python",
   "pygments_lexer": "ipython3",
   "version": "3.10.12"
  }
 },
 "nbformat": 4,
 "nbformat_minor": 5
}

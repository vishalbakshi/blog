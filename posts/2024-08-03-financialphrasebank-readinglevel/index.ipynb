{
  "cells": [
    {
      "cell_type": "raw",
      "metadata": {
        "vscode": {
          "languageId": "raw"
        }
      },
      "source": [
        "---\n",
        "title: Calculating the Flesch Kincaid Reading Grade Level for the `financial_phrasebank` Dataset\n",
        "date: \"2024-08-03\"\n",
        "author: Vishal Bakshi\n",
        "description: In this blog post I calculate the Flesch Kincaid reading grade level for the `financial_phrasebank` dataset and find that it's much higher than the average TinyStories reading level.\n",
        "categories:\n",
        "    - python\n",
        "    - machine learning\n",
        "    - deep learning\n",
        "---"
      ]
    },
    {
      "cell_type": "markdown",
      "metadata": {
        "id": "TdmCG80OK6su"
      },
      "source": [
        "## Background"
      ]
    },
    {
      "cell_type": "markdown",
      "metadata": {
        "id": "tRuQRbLbK72X"
      },
      "source": [
        "In this notebook I'll calculate the Flesch-Kincaid reading grade level for the `financial_phrasebank` dataset. [Previously](https://vishalbakshi.github.io/blog/posts/2024-08-02-tinystories-readinglevel/), I found the TinyStories dataset had a median grade level of 2.7. I expect `financial_phrasebank` to have a higher grade level due to financial jargon. If true, this suggests fine-tuning TinyInstruct-33M on `financial_phrasebank` may be less effective than using a simplified version (which I'll create with phi-3 as a future exercise) as I endeavor to build a \"TinySentiment\" classifier."
      ]
    },
    {
      "cell_type": "markdown",
      "metadata": {
        "id": "WLsLktTXPpip"
      },
      "source": [
        "## Setup"
      ]
    },
    {
      "cell_type": "code",
      "execution_count": null,
      "metadata": {
        "id": "9YCQo_E9NoYI"
      },
      "outputs": [],
      "source": [
        "!pip install textstat -qq\n",
        "!pip install datasets -qq"
      ]
    },
    {
      "cell_type": "code",
      "execution_count": null,
      "metadata": {
        "id": "N71QG5IhN8UA"
      },
      "outputs": [],
      "source": [
        "from datasets import load_dataset\n",
        "import numpy as np\n",
        "import textstat\n",
        "\n",
        "ds = load_dataset(\n",
        "    \"financial_phrasebank\", \"sentences_allagree\",\n",
        "    split=\"train\"  # note that the dataset does not have a default test split\n",
        ")"
      ]
    },
    {
      "cell_type": "code",
      "execution_count": 3,
      "metadata": {
        "colab": {
          "base_uri": "https://localhost:8080/"
        },
        "id": "ZUMYoJUfORkd",
        "outputId": "4bb2ffb9-2e16-4bd0-bd38-665fff6b26a1"
      },
      "outputs": [
        {
          "data": {
            "text/plain": [
              "Dataset({\n",
              "    features: ['sentence', 'label'],\n",
              "    num_rows: 2264\n",
              "})"
            ]
          },
          "execution_count": 3,
          "metadata": {},
          "output_type": "execute_result"
        }
      ],
      "source": [
        "ds"
      ]
    },
    {
      "cell_type": "code",
      "execution_count": 4,
      "metadata": {
        "colab": {
          "base_uri": "https://localhost:8080/"
        },
        "id": "XNE3y9QpOR13",
        "outputId": "a8901396-2274-439b-f9b6-87e8b48afdaf"
      },
      "outputs": [
        {
          "data": {
            "text/plain": [
              "(2264, 2)"
            ]
          },
          "execution_count": 4,
          "metadata": {},
          "output_type": "execute_result"
        }
      ],
      "source": [
        "ddf = ds.to_pandas() # convert to a DataFrame to apply textstat.flesch_kincaid_grade\n",
        "ddf.shape"
      ]
    },
    {
      "cell_type": "markdown",
      "metadata": {
        "id": "HauQ3g7uPy3h"
      },
      "source": [
        "## Calculating Flesch-Kincaid Reading Grade Level"
      ]
    },
    {
      "cell_type": "markdown",
      "metadata": {
        "id": "9w2UAHpbP5qb"
      },
      "source": [
        "I can calculate the reading grade level for the 2264 rows in about 0.5 seconds by using `textstat.flesch_kincaid_grade`. See my [previous blog post](https://vishalbakshi.github.io/blog/posts/2024-08-02-tinystories-readinglevel/#deeper-dive-into-textstat) for a deeper dive on how `textstat` calculates reading grade level."
      ]
    },
    {
      "cell_type": "code",
      "execution_count": 5,
      "metadata": {
        "id": "4GikAkbEOpsP"
      },
      "outputs": [],
      "source": [
        "ddf['fk_grade'] = ddf['sentence'].apply(lambda x: textstat.flesch_kincaid_grade(x))"
      ]
    },
    {
      "cell_type": "markdown",
      "metadata": {
        "id": "s9lzJNBTQN5B"
      },
      "source": [
        "The mean and median reading grade levels for this dataset are 8.6 and 8, respectively, about 6 grade levels higher than the TinyStories dataset."
      ]
    },
    {
      "cell_type": "code",
      "execution_count": 7,
      "metadata": {
        "colab": {
          "base_uri": "https://localhost:8080/",
          "height": 335
        },
        "id": "cixOc2MBOuoY",
        "outputId": "7a914107-9dcf-4927-8ed7-c15111b3cf9a"
      },
      "outputs": [
        {
          "data": {
            "text/html": [
              "<table border=\"1\" class=\"dataframe\">\n",
              "  <thead>\n",
              "    <tr style=\"text-align: right;\">\n",
              "      <th></th>\n",
              "      <th>fk_grade</th>\n",
              "    </tr>\n",
              "  </thead>\n",
              "  <tbody>\n",
              "    <tr>\n",
              "      <th>count</th>\n",
              "      <td>2264.000000</td>\n",
              "    </tr>\n",
              "    <tr>\n",
              "      <th>mean</th>\n",
              "      <td>8.616078</td>\n",
              "    </tr>\n",
              "    <tr>\n",
              "      <th>std</th>\n",
              "      <td>4.933004</td>\n",
              "    </tr>\n",
              "    <tr>\n",
              "      <th>min</th>\n",
              "      <td>-3.100000</td>\n",
              "    </tr>\n",
              "    <tr>\n",
              "      <th>25%</th>\n",
              "      <td>4.600000</td>\n",
              "    </tr>\n",
              "    <tr>\n",
              "      <th>50%</th>\n",
              "      <td>8.000000</td>\n",
              "    </tr>\n",
              "    <tr>\n",
              "      <th>75%</th>\n",
              "      <td>12.200000</td>\n",
              "    </tr>\n",
              "    <tr>\n",
              "      <th>max</th>\n",
              "      <td>24.800000</td>\n",
              "    </tr>\n",
              "  </tbody>\n",
              "</table><br><label><b>dtype:</b> float64</label>"
            ],
            "text/plain": [
              "count    2264.000000\n",
              "mean        8.616078\n",
              "std         4.933004\n",
              "min        -3.100000\n",
              "25%         4.600000\n",
              "50%         8.000000\n",
              "75%        12.200000\n",
              "max        24.800000\n",
              "Name: fk_grade, dtype: float64"
            ]
          },
          "execution_count": 7,
          "metadata": {},
          "output_type": "execute_result"
        }
      ],
      "source": [
        "ddf['fk_grade'].describe()"
      ]
    },
    {
      "cell_type": "markdown",
      "metadata": {
        "id": "w2h3aIcYQ_3I"
      },
      "source": [
        "Here's an example of a Grade 8 reading level `sentence`:"
      ]
    },
    {
      "cell_type": "code",
      "execution_count": 10,
      "metadata": {
        "colab": {
          "base_uri": "https://localhost:8080/",
          "height": 53
        },
        "id": "TklGYdQkOvXS",
        "outputId": "1f4857ff-7da8-4b7e-d3c9-f1111125ad0c"
      },
      "outputs": [
        {
          "data": {
            "application/vnd.google.colaboratory.intrinsic+json": {
              "type": "string"
            },
            "text/plain": [
              "'Both operating profit and turnover for the three-month period increased , respectively from EUR0 .9 m and EUR8 .3 m , as compared to the corresponding period in 2005 .'"
            ]
          },
          "execution_count": 10,
          "metadata": {},
          "output_type": "execute_result"
        }
      ],
      "source": [
        "ddf.query(\"fk_grade == 8\").iloc[0]['sentence']"
      ]
    },
    {
      "cell_type": "markdown",
      "metadata": {
        "id": "9THdrDElRKdo"
      },
      "source": [
        "The highest grade level in this dataset is 24.1 (well beyond post-graduate) likely due to its long list of multisyllabic industries:"
      ]
    },
    {
      "cell_type": "code",
      "execution_count": 11,
      "metadata": {
        "colab": {
          "base_uri": "https://localhost:8080/",
          "height": 71
        },
        "id": "qJvvrIlCQ8Jy",
        "outputId": "79682468-a873-4201-cbec-ffc0bfcd6b70"
      },
      "outputs": [
        {
          "data": {
            "application/vnd.google.colaboratory.intrinsic+json": {
              "type": "string"
            },
            "text/plain": [
              "'The company serves customers in various industries , including process and resources , industrial machinery , architecture , building , construction , electrical , transportation , electronics , chemical , petrochemical , energy , and information technology , as well as catering and households .'"
            ]
          },
          "execution_count": 11,
          "metadata": {},
          "output_type": "execute_result"
        }
      ],
      "source": [
        "ddf.query(\"fk_grade == 24.8\").iloc[0]['sentence']"
      ]
    },
    {
      "cell_type": "markdown",
      "metadata": {
        "id": "3MfZAayyRPS8"
      },
      "source": [
        "The lowest reading level is -3.1:"
      ]
    },
    {
      "cell_type": "code",
      "execution_count": 12,
      "metadata": {
        "colab": {
          "base_uri": "https://localhost:8080/",
          "height": 35
        },
        "id": "woZ-gW2KRJpy",
        "outputId": "57863b0d-cc4b-4c2f-8727-a47b8c7812c4"
      },
      "outputs": [
        {
          "data": {
            "application/vnd.google.colaboratory.intrinsic+json": {
              "type": "string"
            },
            "text/plain": [
              "'R&D Loan ) .'"
            ]
          },
          "execution_count": 12,
          "metadata": {},
          "output_type": "execute_result"
        }
      ],
      "source": [
        "ddf.query(\"fk_grade == -3.1\").iloc[0]['sentence']"
      ]
    },
    {
      "cell_type": "markdown",
      "metadata": {
        "id": "q6BfjOuRStiI"
      },
      "source": [
        "The histogram illustrates that a significant portion of the dataset (25%) is above Grade 12. Less than 0.0005% of TinyStories was above Grade 12."
      ]
    },
    {
      "cell_type": "code",
      "execution_count": 16,
      "metadata": {
        "colab": {
          "base_uri": "https://localhost:8080/",
          "height": 433
        },
        "id": "8aZwWqhwSLzi",
        "outputId": "dca59197-de45-4692-df0a-2c11af142038"
      },
      "outputs": [
        {
          "data": {
            "image/png": "[encoded data removed]",
            "text/plain": [
              "<Figure size 640x480 with 1 Axes>"
            ]
          },
          "metadata": {},
          "output_type": "display_data"
        }
      ],
      "source": [
        "ddf['fk_grade'].hist();"
      ]
    },
    {
      "cell_type": "code",
      "execution_count": 19,
      "metadata": {
        "colab": {
          "base_uri": "https://localhost:8080/"
        },
        "id": "tvZUnI33S3BG",
        "outputId": "15703f72-13a2-4acc-98b7-0f6ea8ed39a1"
      },
      "outputs": [
        {
          "data": {
            "text/plain": [
              "0.2539752650176678"
            ]
          },
          "execution_count": 19,
          "metadata": {},
          "output_type": "execute_result"
        }
      ],
      "source": [
        "ddf.query(\"fk_grade > 12\")['fk_grade'].count() / 2264"
      ]
    },
    {
      "cell_type": "markdown",
      "metadata": {
        "id": "T6v1WiDrVCn0"
      },
      "source": [
        "## Final Thoughts"
      ]
    },
    {
      "cell_type": "markdown",
      "metadata": {
        "id": "5fOPyRZvVDr5"
      },
      "source": [
        "As expected, `financial_phrasebank` (median reading grade level of 8) uses more complex language than TinyStories (median reading grade level of 2.7). This may make it challenging for TinyInstruct-33M to learn from. To test this, I'll:\n",
        "\n",
        "1. Fine-tune TinyInstruct-33M on `financial_phrasebank`\n",
        "2. Create a lower reading grade version of the dataset using phi-3\n",
        "3. Fine-tune TinyInstruct-33M on the simplified dataset\n",
        "4. Compare performance of both fine-tuned models\n",
        "\n",
        "I hope you enjoyed this blog post! Follow me on Twitter [@vishal_learner](https://twitter.com/vishal_learner)."
      ]
    }
  ],
  "metadata": {
    "colab": {
      "provenance": []
    },
    "kernelspec": {
      "display_name": "Python 3",
      "name": "python3"
    },
    "language_info": {
      "name": "python"
    }
  },
  "nbformat": 4,
  "nbformat_minor": 0
}

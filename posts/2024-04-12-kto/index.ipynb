{
  "cells": [
    {
      "cell_type": "raw",
      "metadata": {
        "vscode": {
          "languageId": "raw"
        }
      },
      "source": [
        "---\n",
        "title: 'Paper Math&#58; KTO (Kahneman Tversky Optimization)'\n",
        "date: \"2024-04-12\"\n",
        "author: Vishal Bakshi\n",
        "description: Exploring the math from the Kahneman Tversky Optimization paper to better understand it.\n",
        "filters:\n",
        "   - lightbox\n",
        "lightbox: auto\n",
        "categories:\n",
        "    - paper math\n",
        "    - deep learning\n",
        "    - LLM\n",
        "---"
      ]
    },
    {
      "cell_type": "markdown",
      "metadata": {
        "id": "gKF-HCR0aGOE"
      },
      "source": [
        "## Background"
      ]
    },
    {
      "cell_type": "markdown",
      "metadata": {
        "id": "96DwavNLaH9q"
      },
      "source": [
        "In this notebook I'll walk through some of the math involved in the research paper [KTO: Model Alignment as Prospect Theoretic Optimization](https://arxiv.org/pdf/2402.01306). Here's the abstract:\n",
        "\n",
        "> Kahneman & Tversky's prospect theory tells us that humans perceive random variables in a biased but well-defined manner; for example, humans are famously loss-averse. We show that objectives for aligning LLMs with human feedback implicitly incorporate many of these biases -- the success of these objectives (e.g., DPO) over cross-entropy minimization can partly be ascribed to them being human-aware loss functions (HALOs). However, the utility functions these methods attribute to humans still differ from those in the prospect theory literature. Using a Kahneman-Tversky model of human utility, we propose a HALO that directly maximizes the utility of generations instead of maximizing the log-likelihood of preferences, as current methods do. We call this approach Kahneman-Tversky Optimization (KTO), and it matches or exceeds the performance of preference-based methods at scales from 1B to 30B. Crucially, KTO does not need preferences -- only a binary signal of whether an output is desirable or undesirable for a given input. This makes it far easier to use in the real world, where preference data is scarce and expensive.\n",
        "\n",
        "The key difference between KTO and other methods (such as RLHF or DPO) is that instead of using preference data, KTO uses a binary signal of _desirable_ or _undesirable_, as seen in the dataset example on the [HuggingFace KTO Trainer page](https://huggingface.co/docs/trl/main/en/kto_trainer#expected-dataset-format) (where `True` = desired and `False` = undesired):\n",
        "\n",
        "```python\n",
        "kto_dataset_dict = {\n",
        "    \"prompt\": [\n",
        "        \"Hey, hello\",\n",
        "        \"How are you\",\n",
        "        \"What is your name?\",\n",
        "        \"What is your name?\",\n",
        "        \"Which is the best programming language?\",\n",
        "        \"Which is the best programming language?\",\n",
        "        \"Which is the best programming language?\",\n",
        "    ],\n",
        "    \"completion\": [\n",
        "        \"hi nice to meet you\",\n",
        "        \"leave me alone\",\n",
        "        \"I don't have a name\",\n",
        "        \"My name is Mary\",\n",
        "        \"Python\",\n",
        "        \"C++\",\n",
        "        \"Java\",\n",
        "    ],\n",
        "    \"label\": [\n",
        "        True,\n",
        "        False,\n",
        "        False,\n",
        "        True,\n",
        "        True,\n",
        "        False,\n",
        "        False,\n",
        "    ],\n",
        "}\n",
        "```"
      ]
    },
    {
      "cell_type": "markdown",
      "metadata": {
        "id": "_UUjC9S0bl8_"
      },
      "source": [
        "In the following sections I walk through some of the math in the paper to get a better understanding of the concepts behind them."
      ]
    },
    {
      "cell_type": "markdown",
      "metadata": {
        "id": "bWMLHkCDUjew"
      },
      "source": [
        "## Section 4.1. Derivation"
      ]
    },
    {
      "cell_type": "markdown",
      "metadata": {
        "id": "nGF138z0lORd"
      },
      "source": [
        "### KTO Loss Function: $$\\mathcal{L}_{KTO}(\\pi_\\theta, \\pi_{ref}) = \\mathbb{E}_{x, y\\sim\\mathcal{D}}[w(y)(1 - v_{KTO}(x, y;\\beta))]$$"
      ]
    },
    {
      "cell_type": "markdown",
      "metadata": {
        "id": "ekDhSd_jlsSP"
      },
      "source": [
        "Where:\n",
        "\n",
        "$$w(y) = \\begin{cases}\n",
        "      \\lambda_D & \\text{if } y \\sim y_{desirable}|x \\\\\n",
        "      \\lambda_U & \\text{if } y \\sim y_{undesirable}|x\n",
        "   \\end{cases}$$"
      ]
    },
    {
      "cell_type": "markdown",
      "metadata": {
        "id": "k37FqpQPm3Se"
      },
      "source": [
        "$$v_{KTO}(x,y;\\beta) = \\begin{cases}\n",
        "      \\sigma(r_{KTO}(x,y) - z_{ref}) & \\text{if } y \\sim y_{desirable}|x \\\\\n",
        "      \\sigma(z_{ref} -r_{KTO}(x,y)) & \\text{if } y \\sim y_{undesirable}|x\n",
        "   \\end{cases}$$"
      ]
    },
    {
      "cell_type": "markdown",
      "metadata": {
        "id": "MH12YWwfnUi3"
      },
      "source": [
        "$$z_{ref}= \\mathbb{E}_{x'\\sim\\mathcal{D}}[\\beta KL(\\pi_\\theta(y'|x')||\\pi_{ref}(y'|x'))]$$"
      ]
    },
    {
      "cell_type": "markdown",
      "metadata": {
        "id": "M7U6tcz8o1XC"
      },
      "source": [
        "$$r_{KTO}(x,y)=\\beta\\log\\frac{\\pi_\\theta(y|x)}{\\pi_{ref}(y|x)}$$"
      ]
    },
    {
      "cell_type": "markdown",
      "metadata": {
        "id": "8Mg_VrnRuOvU"
      },
      "source": [
        "#### KTO Loss for Desirable Outputs"
      ]
    },
    {
      "cell_type": "markdown",
      "metadata": {
        "id": "QjREan5MueBS"
      },
      "source": [
        "$$\\mathcal{L}_{KTO}(\\pi_\\theta, \\pi_{ref}) = \\mathbb{E}_{x, y\\sim\\mathcal{D}}\\big[\\lambda_D\\big(1 - \\sigma(r_{KTO} - z_{ref})\\big)\\big]$$"
      ]
    },
    {
      "cell_type": "markdown",
      "metadata": {
        "id": "zhrW-Z8bv5UX"
      },
      "source": [
        "Here is what $1-\\sigma(x)$ looks like:"
      ]
    },
    {
      "cell_type": "markdown",
      "metadata": {
        "id": "6Ew7RnYVv9Xe"
      },
      "source": [
        "<img src=\"1.png\" style=\"width:100%;\">"
      ]
    },
    {
      "cell_type": "markdown",
      "metadata": {
        "id": "2NXKegoYv_7I"
      },
      "source": [
        "As the term $r_{KTO} - z_{ref}$ increases (i.e. the reward for desirable outputs increases while KL divergence stays the same or decreases), loss decreases. From the paper:\n",
        "\n",
        "> Intuitively, KTO works because if the model increases the reward of a desirable example in a generic way, then the KL penalty will also rise and no progress will be made on the loss.\n",
        "\n",
        "I think \"generic way\" has a negative connotation in this statement, meaning that the model is not increasing the reward in the specific way that $\\pi_{ref}$, the supervised fine-tune reference model, was trained to generate outputs in (for whatever the use case is---helpful, honest, harmless, etc.)."
      ]
    },
    {
      "cell_type": "markdown",
      "metadata": {
        "id": "U3E2wwUjw7jF"
      },
      "source": [
        "From the paper:\n",
        "\n",
        "> We do not back-propagate through the KL term, as it makes training much more stable. This means that the KL term purely serves to control **how saturated the loss is.** (emphasis mine)"
      ]
    },
    {
      "cell_type": "markdown",
      "metadata": {
        "id": "rWV0YjxGxT4E"
      },
      "source": [
        "ChatGPT:\n",
        "\n",
        "> When the loss for a deep learning model is described as \"saturated,\" it typically means that the model has reached a point where further training does not significantly decrease the loss anymore. In other words, the model has learned as much as it can from the available data, and additional training iterations are unlikely to improve its performance significantly."
      ]
    },
    {
      "cell_type": "markdown",
      "metadata": {
        "id": "rKloiZLC59yG"
      },
      "source": [
        "I think it's correct to say that $r_{KTO}$ is like the KL divergence between the policy being trained and the reference policy across all input/output training data pairs, while $z_{ref}$ is the KL divergence between the policy being trained and the reference policy across all reference data pairs. I think it's also correct to continue that logic to say that as $r_{KTO}$ increases, the policy being trained diverges from the reference policy (on training data), and $z_{ref}$ keeps that divergence in check (if the policy being trained diverges too far from the reference policy on the reference data, the loss increases or stays the same)."
      ]
    },
    {
      "cell_type": "markdown",
      "metadata": {
        "id": "gj0_B898ysfx"
      },
      "source": [
        "#### KTO Loss for Undesirable Outputs"
      ]
    },
    {
      "cell_type": "markdown",
      "metadata": {
        "id": "zy3zx8RnzD3S"
      },
      "source": [
        "$$\\mathcal{L}_{KTO}(\\pi_\\theta, \\pi_{ref}) = \\mathbb{E}_{x, y\\sim\\mathcal{D}}\\big[\\lambda_U\\big(1 - \\sigma(z_{ref} - r_{KTO})\\big)\\big]$$"
      ]
    },
    {
      "cell_type": "markdown",
      "metadata": {
        "id": "I4z6HdmSzUxD"
      },
      "source": [
        "This has the same $1-\\sigma(x)$ form. If the reward for an UNdesirable output increases while the KL term $z_{ref}$ stays the same, the loss will increase."
      ]
    },
    {
      "cell_type": "markdown",
      "metadata": {
        "id": "mL_-zYzJsfae"
      },
      "source": [
        "### Understanding $z_{ref}$"
      ]
    },
    {
      "cell_type": "markdown",
      "metadata": {
        "id": "g6jSkcacshys"
      },
      "source": [
        "From the paper:\n",
        "\n",
        "> Rather than having just one dispreferred generation $y_l|x$ as the reference point, we assume that humans judge the quality of $(x,y)$ in relation to all input-output pairs they have seen."
      ]
    },
    {
      "cell_type": "markdown",
      "metadata": {
        "id": "KZDz-9xStW_D"
      },
      "source": [
        "The phrase \"rather than having just one dispreferred generation $y_l|x$ as the reference point\" I think is referring to the DPO loss function, specifically the second term inside log sigmoid:\n",
        "\n",
        "$$\\mathcal{L}_{DPO}(\\pi_\\theta; \\pi_{ref}) = -\\mathbb{E}_{(x, y_w, y_l)\\sim\\mathcal{D}}\\big[\\log\\sigma\\big(\\beta\\log\\frac{\\pi_\\theta(y_w|x)}{\\pi_{ref}(y_w|x)} - \\beta\\log\\frac{\\pi_\\theta(y_l|x)}{\\pi_{ref}(y_l|x)}\\big)\\big]$$"
      ]
    },
    {
      "cell_type": "markdown",
      "metadata": {
        "id": "WcCkHXNPuCoh"
      },
      "source": [
        "Which in the KTO loss function is captured by $z_{ref}$ across all $y'$ outputs, not just $y_l$:\n",
        "\n",
        "$$z_{ref}= \\mathbb{E}_{x'\\sim\\mathcal{D}}[\\beta KL(\\pi_\\theta(y'|x')||\\pi_{ref}(y'|x'))]$$"
      ]
    },
    {
      "cell_type": "markdown",
      "metadata": {
        "id": "cYs9_9Y8111B"
      },
      "source": [
        "I may be taking that phrase from the paper too literally, so I may be wrong about this."
      ]
    },
    {
      "cell_type": "markdown",
      "metadata": {
        "id": "PMYA3a_A_aq7"
      },
      "source": [
        "From the paper:\n",
        "\n",
        "> we write the reference point to be the expected reward under the optimal policy, not just for generation following $x$ but following any input $x': \\mathbb{E}_{x' \\sim \\mathcal{D}, y \\sim \\pi^*}\\big[ r^*(x',y')\\big]$. Under the assumption that the expected value of the partition function across $x'$ is zero, this simplifies to the KL divergence between $\\pi^*$ and $\\pi_{ref}$ scaled by $\\beta$."
      ]
    },
    {
      "cell_type": "markdown",
      "metadata": {
        "id": "LX4vlPQF15K1"
      },
      "source": [
        "Where\n",
        "\n",
        "$$r^*(x,y) = \\beta\\log\\frac{\\pi^*(y|x)}{\\pi_{ref}(y|x)} + \\beta\\log Z(x)$$\n",
        "\n",
        "becomes:\n",
        "\n",
        "$$z_{ref}= \\mathbb{E}_{x'\\sim\\mathcal{D}}[\\beta KL(\\pi_\\theta(y'|x')||\\pi_{ref}(y'|x'))]$$\n",
        "\n",
        "\n",
        "and I think it's correct to rewrite $z_{ref}$ as the following (ChatGPT agrees):\n",
        "\n",
        "$$z_{ref}= \\mathbb{E}_{x'\\sim\\mathcal{D}}\\big[\\beta \\log\\frac{\\pi_\\theta(y'|x')}{\\pi_{ref}(y'|x'))}\\big]$$"
      ]
    },
    {
      "cell_type": "markdown",
      "metadata": {
        "id": "yN6tmBxi6vBQ"
      },
      "source": [
        "Last thing about $z_{ref}$:\n",
        "\n",
        "the expectation is across $x'$ only (i.e. $\\mathbb{E}_{x' \\sim \\mathcal{D}}$). From ChatGPT:\n",
        "\n",
        "> this expression is dependent on $y'$. Both $\\pi_\\theta(y'|x')$ and $\\pi_{ref}(y'|x')$  are conditional probability distributions where the probability of $y'$ depends on $x'$. So, the KL divergence between these two distributions also depends on $y'$ indirectly through $x'$. However, $z_{ref}$ itself does not directly depend on $y'$, as it represents the expected value of the KL divergence over all possible values of $x'$."
      ]
    },
    {
      "cell_type": "markdown",
      "metadata": {
        "id": "gztxZLnXUndT"
      },
      "source": [
        "## Section 4: Implementation"
      ]
    },
    {
      "cell_type": "markdown",
      "metadata": {
        "id": "zpDYHyiRU2nk"
      },
      "source": [
        "From the \"Implementation\" subsection in section 4. Kahneman-Tversky Optimization:"
      ]
    },
    {
      "cell_type": "markdown",
      "metadata": {
        "id": "jKq2RWzuVCLy"
      },
      "source": [
        "> In practice, we estimate the KL term by matching inputs $x'$ with unrelated outputs $y'_U$ in a batch of size $m$ and then calculating:\n",
        "\n",
        "$$max\\big( 0, \\frac{1}{m}\\sum\\log\\frac{\\pi_\\theta(y'_U|x')}{\\pi_{ref}(y'_U|x')}\\big)$$"
      ]
    },
    {
      "cell_type": "markdown",
      "metadata": {
        "id": "Z9QgOERXVyme"
      },
      "source": [
        "In the [TRL library](https://github.com/huggingface/trl/blob/995f1174da89da4dc0ad04c45de11d67b6d06274/trl/trainer/dpo_trainer.py#L894) they have the following comment which I believe refers to the above excerpt:\n",
        "\n",
        "```python\n",
        " # As described in the KTO report, the KL term for chosen (rejected) is estimated using the rejected (chosen) half.\n",
        "```"
      ]
    },
    {
      "cell_type": "markdown",
      "metadata": {
        "id": "Hur0-mnZWJPt"
      },
      "source": [
        "The code implementation of KTO loss:\n",
        "\n",
        "```python\n",
        "# eqn (7) of the HALOs paper\n",
        "chosen_KL = (policy_chosen_logps - reference_chosen_logps).mean().clamp(min=0)\n",
        "rejected_KL = (policy_rejected_logps - reference_rejected_logps).mean().clamp(min=0)\n",
        "\n",
        "chosen_logratios = policy_chosen_logps - reference_chosen_logps\n",
        "rejected_logratios = policy_rejected_logps - reference_rejected_logps\n",
        "\n",
        "# As described in the KTO report, the KL term for chosen (rejected) is estimated using the rejected (chosen) half.\n",
        "losses = torch.cat(\n",
        "    (\n",
        "        1 - F.sigmoid(self.beta * (chosen_logratios - rejected_KL)),\n",
        "        1 - F.sigmoid(self.beta * (chosen_KL - rejected_logratios)),\n",
        "    ),\n",
        "    0,\n",
        ")\n",
        "\n",
        "```"
      ]
    },
    {
      "cell_type": "markdown",
      "metadata": {
        "id": "2I-XLKeuXW4B"
      },
      "source": [
        "I find that nomenclature used in the paper a bit confusing since elsewhere in the paper they use the subscript $U$ to represent \"undesirable\" but here they use it to mean \"unrelated\". After looking at the code, I think by \"unrelated\" they mean that when calculating desired loss they use the undesirable KL and vice versa."
      ]
    },
    {
      "cell_type": "markdown",
      "metadata": {
        "id": "V-sqLKVHXzIp"
      },
      "source": [
        "Note that `chosen_KL` is just the (clamped) mean of `chosen_logratios`. As is `rejected_KL` to `rejected_logratios`."
      ]
    },
    {
      "cell_type": "markdown",
      "metadata": {
        "id": "16lf3zsiYSQ7"
      },
      "source": [
        "The first loss in `losses`:\n",
        "\n",
        "```python\n",
        "1 - F.sigmoid(self.beta * (chosen_logratios - rejected_KL)\n",
        "```\n",
        "\n",
        "Corresponds to KTO loss for desired outputs:\n",
        "\n",
        "$$\\mathcal{L}_{KTO}(\\pi_\\theta, \\pi_{ref}) = \\mathbb{E}_{x, y\\sim\\mathcal{D}}\\big[\\lambda_D\\big(1 - \\sigma(r_{KTO} - z_{ref})\\big)\\big]$$\n",
        "\n",
        "Although I don't know why they are not multiplying by $\\lambda_D$."
      ]
    },
    {
      "cell_type": "markdown",
      "metadata": {
        "id": "93IdmR0-ZK4r"
      },
      "source": [
        "The second loss in `losses`:\n",
        "\n",
        "```python\n",
        "1 - F.sigmoid(self.beta * (chosen_KL - rejected_logratios))\n",
        "```\n",
        "\n",
        "Corresponds to the KTO loss for undesired outputs:\n",
        "\n",
        "$$\\mathcal{L}_{KTO}(\\pi_\\theta, \\pi_{ref}) = \\mathbb{E}_{x, y\\sim\\mathcal{D}}\\big[\\lambda_U\\big(1 - \\sigma(z_{ref} - r_{KTO})\\big)\\big]$$\n",
        "\n",
        "Again, I don't know why they are not multiplying by $\\lambda_U$."
      ]
    },
    {
      "cell_type": "markdown",
      "metadata": {
        "id": "7LaIqZf3YIzh"
      },
      "source": [
        "Also, I'm not sure why they are concatenating a `0` to the two loss function in `losses`."
      ]
    },
    {
      "cell_type": "markdown",
      "metadata": {
        "id": "dH_UIG5-UaPR"
      },
      "source": [
        "## Proposition 3.5 Proof"
      ]
    },
    {
      "cell_type": "markdown",
      "metadata": {
        "id": "o6tIKO55PCgs"
      },
      "source": [
        "For a loss to be a HALO (human-aware loss function) it needs to be expressible as:\n",
        "\n",
        "$$f(x,y;\\theta) = t(v_f(r_\\theta(x,y) - \\mathbb{E}_{x'\\sim Q'_x, y' \\sim Q'_y}[r_\\theta(x',y')]))$$"
      ]
    },
    {
      "cell_type": "markdown",
      "metadata": {
        "id": "cokTDwe6QOcn"
      },
      "source": [
        "with a parameterized reward function $r_\\theta$, reference point distributions $Q_x(X'), Q_y(Y'|X')$, value function $v_f$ and a negative affine function $t$."
      ]
    },
    {
      "cell_type": "markdown",
      "metadata": {
        "id": "eatWpEj7VEL4"
      },
      "source": [
        "### Reward function $r_\\theta$"
      ]
    },
    {
      "cell_type": "markdown",
      "metadata": {
        "id": "DhN2e9cPVQdP"
      },
      "source": [
        "The reward function $r_\\theta$ needs to satisfy the following expression:"
      ]
    },
    {
      "cell_type": "markdown",
      "metadata": {
        "id": "DZ8uNg5OVAFD"
      },
      "source": [
        "$$\\forall(x_1,y_1), (x_2,y_2) \\in \\mathcal{X} \\times \\mathcal{Y}, \\; r_\\theta(x_1,y_1) > r_\\theta(x_2,y_2) \\iff (x_1,y_1) \\succ_{r_\\theta} (x_2,y_2)$$"
      ]
    },
    {
      "cell_type": "markdown",
      "metadata": {
        "id": "kf_rX3JoSUtv"
      },
      "source": [
        "\n",
        "\n",
        "This expression reads as (ChatGPT):\n",
        "\n",
        "For all pairs of points $(x_1, y_1)$ and $(x_2, y_2)$ belonging to sets $\\mathcal{X}$ and $\\mathcal{Y}$ respectively, the value of the function $r_\\theta$ applied to the first pair $(x_1, y_1)$ is greater than the value of the function $r_\\theta$applied to the second pair $(x_2, y_2)$ if and only if the first pair $(x_1, y_1)$ is preferred to the second pair $(x_2, y_2)$ according to the relation $\\succ_{r_\\theta}$."
      ]
    },
    {
      "cell_type": "markdown",
      "metadata": {
        "id": "TY0imSjFTAmR"
      },
      "source": [
        "Explanation of symbols:\n",
        "\n",
        "$\\forall$: for all\n",
        "\n",
        "$\\in$: in\n",
        "\n",
        "$\\iff$: if and only if\n",
        "\n",
        "$\\succ$: succeeds operator (indicates [preference](https://en.wikipedia.org/wiki/Preference_(economics)))\n"
      ]
    },
    {
      "cell_type": "markdown",
      "metadata": {
        "id": "6NwYDrWSVja3"
      },
      "source": [
        "### Reference point distributions $Q_x(X'), Q_y(Y'|X')$"
      ]
    },
    {
      "cell_type": "markdown",
      "metadata": {
        "id": "EfTlxg4OTgOx"
      },
      "source": [
        "In section 3.2 of the paper they define a reference point as:\n",
        "\n",
        "> input-output pairs sampled from the distributions $Q_x, Q_y$.\n",
        "\n",
        "From what I understand, the $'$ in $X'$ and $Y'$ indicates that it is a different, reference input and output (respectively) from the $x$ and $y$ used as the training dataset.\n",
        "\n",
        "ChatGPT:\n",
        "\n",
        "> $x$ and $y$ are fixed values or points in the domain, while $x'$ and $y'$ are variables representing points randomly sampled from the distributions $Q_{x'}$​ and $Q_{y'}$​ respectively. These samples are used to calculate the expected value $\\mathbb{E}$ over those distributions."
      ]
    },
    {
      "cell_type": "markdown",
      "metadata": {
        "id": "2j_YNAPuUp1B"
      },
      "source": [
        "### Value function $v_f$"
      ]
    },
    {
      "cell_type": "markdown",
      "metadata": {
        "id": "V0-ZnFMpXo6Q"
      },
      "source": [
        "The value function is defined as this expression:\n",
        "\n",
        "$$v_f: \\mathbb{R} \\to \\mathbb{R}$$\n",
        "\n",
        "Which can be read as (ChatGPT):\n",
        "\n",
        "> \"The function $v_f$ maps real numbers to real numbers.\"\n",
        ">  \n",
        "> Here, $\\mathbb{R}$ represents the set of real numbers, and the notation $v_f: \\mathbb{R} \\to \\mathbb{R}$ specifies that the function $v_f$​ takes inputs from the set of real numbers and produces outputs that are also real numbers."
      ]
    },
    {
      "cell_type": "markdown",
      "metadata": {
        "id": "kHsE5NkBYQRO"
      },
      "source": [
        "The value function must be monotonic non-decreasing and concave in $(0, \\infty)$.\n",
        "\n",
        "**Monotonic**: varying in such a way that it either never decreases or never increases.\n",
        "\n",
        "**Non-decreasing**: self-explanatory (the function never decreases)\n",
        "\n",
        "**Concave**: A concave function is one in which the slope is continually decreasing (note that the slope is decreasing, not the function) [source](https://study.com/academy/lesson/concave-definition-shape-function.html).\n",
        "\n",
        "**$(0, \\infty)$**: the set of all real numbers greater than 0 but not including 0 itself, extending infinitely towards positive infinity\n",
        "\n",
        "<br>\n",
        "\n",
        "Example of a function that is monotonic non-decreasing and concave in $(0, \\infty)$ is $log(x)$:"
      ]
    },
    {
      "cell_type": "markdown",
      "metadata": {
        "id": "AqbHmEE_ZlO1"
      },
      "source": [
        "<img src=\"2.png\" style=\"width:100%;\">"
      ]
    },
    {
      "cell_type": "markdown",
      "metadata": {
        "id": "o4s21sNUbK_q"
      },
      "source": [
        "### DPO Loss"
      ]
    },
    {
      "cell_type": "markdown",
      "metadata": {
        "id": "ftrsyJeOfH9s"
      },
      "source": [
        "The DPO loss function is in the form:\n",
        "\n",
        "$$\\mathcal{L}_{DPO}(\\pi_\\theta, \\pi_{ref}) = \\mathbb{E}\\big[-\\log\\sigma\\big(\\beta\\log\\frac{\\pi_\\theta(y_w|x)}{\\pi_{ref}(y_w|x)} - \\beta\\log\\frac{\\pi_\\theta(y_l|x)}{\\pi_{ref}(y_l|x)}\\big)\\big]$$"
      ]
    },
    {
      "cell_type": "markdown",
      "metadata": {
        "id": "zUKI0N1ufZBN"
      },
      "source": [
        "This is expressible as:\n",
        "\n",
        "$$t(v_f(r_\\theta(x,y) - \\mathbb{E}_{x'\\sim Q'_x, y' \\sim Q'_y}[r_\\theta(x',y')]))$$"
      ]
    },
    {
      "cell_type": "markdown",
      "metadata": {
        "id": "w6Ryc7sDfdq1"
      },
      "source": [
        "Mapping the DPO loss to this expression:\n",
        "\n",
        "$r_\\theta$ is the DPO reward $\\beta\\log\\frac{\\pi_\\theta(y|x)}{\\pi_{ref}(y|x)}$ which is passed as an input into the value function $v_f$ which in this case is $\\log\\sigma$ (monotonic non-decreasing and concave everywhere) the output of which is passed into $t$ which takes the negative of the input, $t(x) = -x$."
      ]
    },
    {
      "cell_type": "markdown",
      "metadata": {
        "id": "6zePCl75bU8h"
      },
      "source": [
        "I didn't understand the following line in the paper:\n",
        "\n",
        "> $Q_x$ places all mass on $x$ and $Q_y$ places all mass on the dispreferred output $y_l$ for $x$ such that $y \\succ y_l$.\n",
        "\n",
        "Which ChatGPT explains as:\n",
        "\n",
        "> In the context of reinforcement learning and optimization, $Q_x$ and $Q_y$ represent probability distributions. When it's stated that \"$Q_x$ places all mass on $x$\" and \"$Q_y$ places all mass on the dispreferred output $y_l$ for $x$ such that $y \\succ y_l$,\" it means that these distributions are highly concentrated on specific values.\n",
        ">  \n",
        ">  Let's break it down:\n",
        ">  \n",
        "> $Q_x$ is a distribution over inputs $x$. Saying that it places all mass on $x$ means that it assigns a probability of 1 to a particular input $x$ and 0 to all other possible inputs. In other words, $Q_x$ is a degenerate distribution that only considers a single input $x$.\n",
        ">\n",
        "> Similarly, $Q_y$ is a distribution over outputs $y$. However, in this case, it places all mass on the dispreferred output $y_l$ for a given input $x$. This means that for every input $x$, $Q_y$ assigns a probability of 1 to the dispreferred output $y_l$ and 0 to all other possible outputs. Additionally, it's mentioned that $y \\succ y_l$, which indicates that the preferred output $y$ is preferred over $y_l$.\n",
        "\n"
      ]
    },
    {
      "cell_type": "markdown",
      "metadata": {
        "id": "CjRJ3HzGfgxK"
      },
      "source": [
        "If that is correct, then I would add the following to complete the construction of DPO loss as the HALO expression:\n",
        "\n",
        "Since $y \\succ y_l$, I interpret that $y$ in $r_\\theta(x,y)$ corresponds to $y_w$ and is represented in the DPO loss function by the term $\\beta\\log\\frac{\\pi_\\theta(y_w|x)}{\\pi_{ref}(y_w|x)}$.\n",
        "\n",
        "Then because $\\mathbb{E}_{x'\\sim Q'_x, y' \\sim Q'_y}[r_\\theta(x',y')]$ is subracted from $r_\\theta(x,y)$ in the generic HALO expression, it corresponds to $\\beta\\log\\frac{\\pi_\\theta(y_l|x)}{\\pi_{ref}(y_l|x)}$ in the DPO loss function.\n",
        "\n",
        "I am not confident about this last part. I'm also not going to do a walkthrough of the SLiC and PPO-Clip loss functions since I haven't read those papers."
      ]
    },
    {
      "cell_type": "markdown",
      "metadata": {
        "id": "pzbzWdlTobQE"
      },
      "source": [
        "## Proposition 4.1"
      ]
    },
    {
      "cell_type": "markdown",
      "metadata": {
        "id": "yMBL6R2gohjl"
      },
      "source": [
        "KTO does not learn from undesirable examples with sufficiently high rewards or desirable examples with sufficiently low rewards."
      ]
    },
    {
      "cell_type": "markdown",
      "metadata": {
        "id": "98vLb7gD7hNR"
      },
      "source": [
        "In this section they provide the derivative of KTO loss without derivation. I will try to derive it from the KTO loss. Here is the final form of the derivative in the paper:"
      ]
    },
    {
      "cell_type": "markdown",
      "metadata": {
        "id": "UAK5jtLsoBIg"
      },
      "source": [
        "$$\\nabla_\\theta\\mathcal{L}_{KTO}(\\pi_\\theta. \\pi_{ref}) = \\mathbb{E}_{x, y \\sim \\mathcal{D}}\\big[ \\lambda(y) \\sigma(z) \\sigma(-z) \\nabla \\beta \\log \\pi_\\theta(y|x)\\big]$$\n",
        "\n",
        "Where\n",
        "\n",
        "$$z = r_{KTO}(x,y) - z_{ref}$$\n",
        "\n",
        "<br>\n",
        "\n",
        "$$\\lambda(y) = \\begin{cases}\n",
        "      -\\lambda_D & \\text{if } y \\text{ is desirable} \\\\\n",
        "      \\lambda_U & \\text{if } y \\text{ is undesirable}\n",
        "   \\end{cases}$$\n"
      ]
    },
    {
      "cell_type": "markdown",
      "metadata": {
        "id": "qjjv2BaoqeuJ"
      },
      "source": [
        "**I'll start by rewriting the _desirable_ KTO loss function with $z$ as defined above:**"
      ]
    },
    {
      "cell_type": "markdown",
      "metadata": {
        "id": "9X_XEOcuql6W"
      },
      "source": [
        "$$\\mathcal{L}_{KTO}(\\pi_\\theta, \\pi_{ref}) = \\mathbb{E}_{x, y\\sim\\mathcal{D}}\\big[\\lambda_D\\big(1 - \\sigma(r_{KTO} - z_{ref})\\big)\\big] = \\mathbb{E}_{x, y\\sim\\mathcal{D}}\\big[\\lambda_D\\big(1 - \\sigma(z)\\big)\\big]$$"
      ]
    },
    {
      "cell_type": "markdown",
      "metadata": {
        "id": "z8CGnLvcrb7o"
      },
      "source": [
        "The derivative of $\\lambda_D(1-\\sigma(z)) with respect to $\\theta$ I'll write as:\n",
        "\n",
        "$$\\frac{dz}{d\\theta} \\times \\frac{d}{dz}\\lambda_D(1-\\sigma(z))$$"
      ]
    },
    {
      "cell_type": "markdown",
      "metadata": {
        "id": "lPSG-MKLruQu"
      },
      "source": [
        "Starting with the rightmost term, pulling out the constant $\\lambda_D$, given that the derivative of 1 with respect to $z$ is 0, multiplying by -1 (chain rule), and given the property of sigmoid that $\\sigma(-z) = 1 - \\sigma(z)$:\n",
        "\n",
        "$$\\frac{d}{dz}\\lambda_D(1-\\sigma(z)) = \\lambda_D\\frac{d}{dz}(1-\\sigma(z)) = -\\lambda_D\\frac{d}{dz}\\sigma(-z) = -\\lambda_D\\big[\\sigma(z)(1 - \\sigma(z))\\big] = -\\lambda_D\\sigma(z)\\sigma(-z)$$"
      ]
    },
    {
      "cell_type": "markdown",
      "metadata": {
        "id": "Zndvw-_VsL6G"
      },
      "source": [
        "I'll do $\\frac{dz}{d\\theta}$ next:\n",
        "\n",
        "$$\\frac{dz}{d\\theta} = \\frac{d}{d\\theta}\\big(r_{KTO}(x,y) - z_{ref}\\big) = \\frac{d}{d\\theta}\\big(\\beta\\log\\frac{\\pi_\\theta(y|x)}{\\pi_{ref}(y|x)} -  \\mathbb{E}_{x'\\sim\\mathcal{D}}[\\beta KL(\\pi_\\theta(y'|x')||\\pi_{ref}(y'|x'))]\\big)$$"
      ]
    },
    {
      "cell_type": "markdown",
      "metadata": {
        "id": "W6kJE11VtU8D"
      },
      "source": [
        "They  mention that they don't backpropagate through the KL term so I think I can interpret that as meaning the KL term's gradient is 0. We're left with:"
      ]
    },
    {
      "cell_type": "markdown",
      "metadata": {
        "id": "KX6QxMuot257"
      },
      "source": [
        "$$\\frac{d}{d\\theta}\\big(\\beta\\log\\frac{\\pi_\\theta(y|x)}{\\pi_{ref}(y|x)}\\big) = \\beta\\frac{d}{d\\theta}\\big(log\\pi_\\theta(y|x) - \\log\\pi_{ref}(y|x)\\big)$$"
      ]
    },
    {
      "cell_type": "markdown",
      "metadata": {
        "id": "kEJGFzVsul2w"
      },
      "source": [
        "The reference model is not changing (i.e it's not parameterized by $\\theta$ and is not being trained) so its derivative with respect to $\\theta$ is 0. That leaves us with:"
      ]
    },
    {
      "cell_type": "markdown",
      "metadata": {
        "id": "gqy0oqXmuyew"
      },
      "source": [
        "$$\\beta\\frac{d}{d\\theta}log\\pi_\\theta(y|x)$$"
      ]
    },
    {
      "cell_type": "markdown",
      "metadata": {
        "id": "lrN8kHscu7C-"
      },
      "source": [
        "Multiplying by $\\frac{d}{dz}\\sigma(z)$ to get the complete $\\frac{d}{d\\theta}\\sigma(z)$:"
      ]
    },
    {
      "cell_type": "markdown",
      "metadata": {
        "id": "LFuDS9LFvHuR"
      },
      "source": [
        "$$\\frac{d}{d\\theta}\\sigma(z) = -\\lambda_D\\sigma(z)\\sigma(-z)\\beta\\frac{d}{d\\theta}log\\pi_\\theta(y|x)$$"
      ]
    },
    {
      "cell_type": "markdown",
      "metadata": {
        "id": "OW3AUlTOqU1q"
      },
      "source": [
        "Putting it back in the full form of the loss gradient:"
      ]
    },
    {
      "cell_type": "markdown",
      "metadata": {
        "id": "f5QzQsa0qcbt"
      },
      "source": [
        "$$\\nabla_\\theta\\mathcal{L}_{KTO}(\\pi_\\theta. \\pi_{ref}) = \\mathbb{E}_{x, y \\sim \\mathcal{D}}\\big[ -\\lambda_D \\sigma(z) \\sigma(-z) \\beta\\frac{d}{d\\theta}log\\pi_\\theta(y|x)\\big]$$"
      ]
    },
    {
      "cell_type": "markdown",
      "metadata": {
        "id": "Kj4KIS5fwFZR"
      },
      "source": [
        "Which seems equivalent to the gradient of the KTO loss provided in the paper (although I'm not sure why they have $\\beta$ inside the gradient symbol $\\nabla$):\n",
        "\n",
        "$$\\nabla_\\theta\\mathcal{L}_{KTO}(\\pi_\\theta. \\pi_{ref}) = \\mathbb{E}_{x, y \\sim \\mathcal{D}}\\big[ \\lambda(y) \\sigma(z) \\sigma(-z) \\nabla \\beta \\log \\pi_\\theta(y|x)\\big]$$"
      ]
    },
    {
      "cell_type": "markdown",
      "metadata": {
        "id": "WaVYGaoyq6Q0"
      },
      "source": [
        "**Next, I'll derive the gradient of the loss function for _undesirable_ $y$ values, starting with the loss function:**"
      ]
    },
    {
      "cell_type": "markdown",
      "metadata": {
        "id": "BmrmfHX5rGau"
      },
      "source": [
        "$$\\mathcal{L}_{KTO}(\\pi_\\theta, \\pi_{ref}) = \\mathbb{E}_{x, y\\sim\\mathcal{D}}\\big[\\lambda_U\\big(1 - \\sigma(z_{ref} - r_{KTO})\\big)\\big] = \\mathbb{E}_{x, y\\sim\\mathcal{D}}\\big[\\lambda_U\\big(1 - \\sigma(-z)\\big)\\big]$$"
      ]
    },
    {
      "cell_type": "markdown",
      "metadata": {
        "id": "JjhBGCg0rWBj"
      },
      "source": [
        "Where\n",
        "\n",
        "$$z = r_{KTO}(x,y) - z_{ref}$$\n",
        "\n",
        "so $$-z = z_{ref} - r_{KTO}(x,y)$$"
      ]
    },
    {
      "cell_type": "markdown",
      "metadata": {
        "id": "n9CW7SBmxdsT"
      },
      "source": [
        "The derivative of $\\lambda_U(1-\\sigma(-z))$ with respect to $\\theta$ I'll write as:\n",
        "\n",
        "$$\\frac{dz}{d\\theta} \\times \\frac{d}{dz}\\lambda_U(1-\\sigma(-z))$$"
      ]
    },
    {
      "cell_type": "markdown",
      "metadata": {
        "id": "7z3jwLJ3rkPz"
      },
      "source": [
        "The derivative of $\\lambda_U(1-\\sigma(-z))$ with respect to $z$ involves pulling out the constant $\\lambda_U$, pulling out the constant -1 from $-\\sigma(z)$, multiplying by -1 (chain rule), and the derivative of 1 with respect to $\\theta$ going to 0:\n",
        "\n",
        "$$\\frac{d}{dz}\\lambda_U(1-\\sigma(-z)) = \\frac{d}{dz}\\lambda_U(1-\\sigma(-z)) = -1 \\times -1 \\times \\lambda_U\\frac{d}{dz}\\sigma(-z) = \\lambda_U\\frac{d}{dz}\\sigma(-z)$$\n",
        "\n",
        "\n",
        "\n"
      ]
    },
    {
      "cell_type": "markdown",
      "metadata": {
        "id": "ENktT4ogrxlr"
      },
      "source": [
        "Given that $\\sigma(-z) = 1 - \\sigma(z)$:\n",
        "\n",
        "$$\\lambda_U\\frac{d}{dz}\\sigma(-z) = \\lambda_U\\sigma(-z)(1 - \\sigma(-z))= \\lambda_U\\sigma(-z)\\big[1 - (1-\\sigma(z))\\big] = \\lambda_U\\sigma(-z)\\big[1-1+\\sigma(z)\\big] = \\lambda_U\\sigma(-z)\\sigma(z)$$"
      ]
    },
    {
      "cell_type": "markdown",
      "metadata": {
        "id": "3kiiwEfkyX1F"
      },
      "source": [
        "The derivative of $z$ with respect to $\\theta$ is the same as before:\n",
        "\n",
        "$$\\beta\\frac{d}{d\\theta}log\\pi_\\theta(y|x)$$"
      ]
    },
    {
      "cell_type": "markdown",
      "metadata": {
        "id": "EUzk5QHPy7Jk"
      },
      "source": [
        "Multiplying the two derivative terms together:\n",
        "\n",
        "$$\\lambda_U\\sigma(-z)\\sigma(z)\\beta\\frac{d}{d\\theta}log\\pi_\\theta(y|x)$$"
      ]
    },
    {
      "cell_type": "markdown",
      "metadata": {
        "id": "bV6AE4l5zZuB"
      },
      "source": [
        "Plugging it all back to get the loss gradient function for **undesired** outputs:\n",
        "\n",
        "\n",
        "$$\\nabla_\\theta\\mathcal{L}_{KTO}(\\pi_\\theta. \\pi_{ref}) = \\mathbb{E}_{x, y \\sim \\mathcal{D}}\\big[ \\lambda_U \\sigma(z) \\sigma(-z) \\nabla \\beta \\log \\pi_\\theta(y|x)\\big]$$"
      ]
    },
    {
      "cell_type": "markdown",
      "metadata": {
        "id": "JFpag4xXzrWh"
      },
      "source": [
        "Comparing that to the loss derivative for **desired** outputs, the difference is the minus sign:\n",
        "\n",
        "$$\\nabla_\\theta\\mathcal{L}_{KTO}(\\pi_\\theta. \\pi_{ref}) = \\mathbb{E}_{x, y \\sim \\mathcal{D}}\\big[ -\\lambda_D \\sigma(z) \\sigma(-z) \\beta\\frac{d}{d\\theta}log\\pi_\\theta(y|x)\\big]$$"
      ]
    },
    {
      "cell_type": "markdown",
      "metadata": {
        "id": "bSpJriirz5Bw"
      },
      "source": [
        "The intuition behind the minus sign given in the paper:\n",
        "\n",
        "> if $y$ is desirable, then $\\lambda(y)$ is negative and we push up the probability of $\\pi_\\theta(y|x)$ to minimize the loss; we do the opposite if $y$ is undesirable.\n",
        "\n",
        "Proposition 4.1 states that \"KTO does not learn from undesirable examples with sufficiently high rewards or desirable examples with sufficiently low rewards\" and the paper explains that:\n",
        "\n",
        "> As $z$ tends to $\\pm\\infty$, the gradient will tend to zero since either $\\sigma(-z)$ or $\\sigma(z)$ will tend to zero. Since $z$ is increasing in the reward, this means that sufficiently large and sufficiently small rewards will yield a gradient of zero."
      ]
    }
  ],
  "metadata": {
    "colab": {
      "provenance": []
    },
    "kernelspec": {
      "display_name": "Python 3",
      "name": "python3"
    },
    "language_info": {
      "name": "python"
    }
  },
  "nbformat": 4,
  "nbformat_minor": 0
}

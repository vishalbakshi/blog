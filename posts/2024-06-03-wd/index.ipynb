{
  "cells": [
    {
      "cell_type": "raw",
      "metadata": {
        "vscode": {
          "languageId": "raw"
        }
      },
      "source": [
        "---\n",
        "title: Training Collaborative Filtering Models on MovieLens 100k with Different Weight Decay Values\n",
        "date: \"2024-06-03\"\n",
        "author: Vishal Bakshi\n",
        "description: In this notebook I explore the question---how does the `wd` (weight decay) parameter affect model performance and weight distributions? I use the MovieLens 100k subset as the dataset.\n",
        "categories:\n",
        "    - machine learning\n",
        "    - fastai\n",
        "    - python\n",
        "---"
      ]
    },
    {
      "cell_type": "markdown",
      "metadata": {},
      "source": [
        "## Background"
      ]
    },
    {
      "cell_type": "markdown",
      "metadata": {
        "id": "-fbfdNuhvFQ3"
      },
      "source": [
        "In fastai Part 1 Lesson 7 (Chapter 8 of the textbook), we are introduced to the concept of **weight decay**, where the sum of the squared weights multiplied by a factor `wd` is added to the loss. In practice, instead of adding `wd` times the sum of squared weights to the loss (which would result in a large values of loss which destabilizes training), we add the derivative of that to the parameters' gradients. In pseudo code:\n",
        "\n",
        "```\n",
        "for param in model.parameters():\n",
        "  param.grad += wd * sum(params)\n",
        "```\n",
        "\n",
        "By increasing the loss with the squared sum of weights, we are forcing the model to minimize the weights when it minimizes the loss, which makes the model generalize better (as large weights result in a neural net function with sharp peaks and troughs that can overfit to the training data).\n",
        "\n",
        "In this notebook I'll train on the MovieLens 100k dataset using different values of weight decay and then plotting both the resulting training and validation loss curves and weight distribution to see how weight decay affects the training process and the resulting model."
      ]
    },
    {
      "cell_type": "markdown",
      "metadata": {
        "id": "FExmRo6NxUf6"
      },
      "source": [
        "## Create `DataLoaders` and `Learner`"
      ]
    },
    {
      "cell_type": "markdown",
      "metadata": {
        "id": "vOb7uj33xZz5"
      },
      "source": [
        "I'l re-use the code from Chapter 8 to create `DataLoaders` and the `Learner`."
      ]
    },
    {
      "cell_type": "code",
      "execution_count": 1,
      "metadata": {
        "colab": {
          "base_uri": "https://localhost:8080/",
          "height": 37
        },
        "id": "VBIT9xySu_5G",
        "outputId": "0ba64166-6bca-4610-bd78-cb64977e208e"
      },
      "outputs": [
        {
          "data": {
            "text/html": [
              "\n",
              "<style>\n",
              "    /* Turns off some styling */\n",
              "    progress {\n",
              "        /* gets rid of default border in Firefox and Opera. */\n",
              "        border: none;\n",
              "        /* Needs to be in here for Safari polyfill so background images work as expected. */\n",
              "        background-size: auto;\n",
              "    }\n",
              "    progress:not([value]), progress:not([value])::-webkit-progress-bar {\n",
              "        background: repeating-linear-gradient(45deg, #7e7e7e, #7e7e7e 10px, #5c5c5c 10px, #5c5c5c 20px);\n",
              "    }\n",
              "    .progress-bar-interrupted, .progress-bar-interrupted::-webkit-progress-bar {\n",
              "        background: #F44336;\n",
              "    }\n",
              "</style>\n"
            ],
            "text/plain": [
              "<IPython.core.display.HTML object>"
            ]
          },
          "metadata": {},
          "output_type": "display_data"
        },
        {
          "data": {
            "text/html": [
              "\n",
              "    <div>\n",
              "      <progress value='4931584' class='' max='4924029' style='width:300px; height:20px; vertical-align: middle;'></progress>\n",
              "      100.15% [4931584/4924029 00:01&lt;00:00]\n",
              "    </div>\n",
              "    "
            ],
            "text/plain": [
              "<IPython.core.display.HTML object>"
            ]
          },
          "metadata": {},
          "output_type": "display_data"
        }
      ],
      "source": [
        "from fastai.collab import *\n",
        "from fastai.tabular.all import *\n",
        "path = untar_data(URLs.ML_100k)"
      ]
    },
    {
      "cell_type": "code",
      "execution_count": 2,
      "metadata": {
        "colab": {
          "base_uri": "https://localhost:8080/",
          "height": 206
        },
        "id": "8gFT5sCGxnWL",
        "outputId": "c92ff450-c0b3-4728-cc9c-ce583a60fa95"
      },
      "outputs": [
        {
          "data": {
            "application/vnd.google.colaboratory.intrinsic+json": {
              "summary": "{\n  \"name\": \"ratings\",\n  \"rows\": 100000,\n  \"fields\": [\n    {\n      \"column\": \"user\",\n      \"properties\": {\n        \"dtype\": \"number\",\n        \"std\": 266,\n        \"min\": 1,\n        \"max\": 943,\n        \"num_unique_values\": 943,\n        \"samples\": [\n          262,\n          136,\n          821\n        ],\n        \"semantic_type\": \"\",\n        \"description\": \"\"\n      }\n    },\n    {\n      \"column\": \"movie\",\n      \"properties\": {\n        \"dtype\": \"number\",\n        \"std\": 330,\n        \"min\": 1,\n        \"max\": 1682,\n        \"num_unique_values\": 1682,\n        \"samples\": [\n          1557,\n          808,\n          1618\n        ],\n        \"semantic_type\": \"\",\n        \"description\": \"\"\n      }\n    },\n    {\n      \"column\": \"rating\",\n      \"properties\": {\n        \"dtype\": \"number\",\n        \"std\": 1,\n        \"min\": 1,\n        \"max\": 5,\n        \"num_unique_values\": 5,\n        \"samples\": [\n          1,\n          5,\n          2\n        ],\n        \"semantic_type\": \"\",\n        \"description\": \"\"\n      }\n    },\n    {\n      \"column\": \"timestamp\",\n      \"properties\": {\n        \"dtype\": \"number\",\n        \"std\": 5343856,\n        \"min\": 874724710,\n        \"max\": 893286638,\n        \"num_unique_values\": 49282,\n        \"samples\": [\n          889728713,\n          888443306,\n          880605158\n        ],\n        \"semantic_type\": \"\",\n        \"description\": \"\"\n      }\n    }\n  ]\n}",
              "type": "dataframe",
              "variable_name": "ratings"
            },
            "text/html": [
              "\n",
              "  <div id=\"df-81b1b886-1be5-4309-90b7-1bed477ec832\" class=\"colab-df-container\">\n",
              "    <div>\n",
              "<style scoped>\n",
              "    .dataframe tbody tr th:only-of-type {\n",
              "        vertical-align: middle;\n",
              "    }\n",
              "\n",
              "    .dataframe tbody tr th {\n",
              "        vertical-align: top;\n",
              "    }\n",
              "\n",
              "    .dataframe thead th {\n",
              "        text-align: right;\n",
              "    }\n",
              "</style>\n",
              "<table border=\"1\" class=\"dataframe\">\n",
              "  <thead>\n",
              "    <tr style=\"text-align: right;\">\n",
              "      <th></th>\n",
              "      <th>user</th>\n",
              "      <th>movie</th>\n",
              "      <th>rating</th>\n",
              "      <th>timestamp</th>\n",
              "    </tr>\n",
              "  </thead>\n",
              "  <tbody>\n",
              "    <tr>\n",
              "      <th>0</th>\n",
              "      <td>196</td>\n",
              "      <td>242</td>\n",
              "      <td>3</td>\n",
              "      <td>881250949</td>\n",
              "    </tr>\n",
              "    <tr>\n",
              "      <th>1</th>\n",
              "      <td>186</td>\n",
              "      <td>302</td>\n",
              "      <td>3</td>\n",
              "      <td>891717742</td>\n",
              "    </tr>\n",
              "    <tr>\n",
              "      <th>2</th>\n",
              "      <td>22</td>\n",
              "      <td>377</td>\n",
              "      <td>1</td>\n",
              "      <td>878887116</td>\n",
              "    </tr>\n",
              "    <tr>\n",
              "      <th>3</th>\n",
              "      <td>244</td>\n",
              "      <td>51</td>\n",
              "      <td>2</td>\n",
              "      <td>880606923</td>\n",
              "    </tr>\n",
              "    <tr>\n",
              "      <th>4</th>\n",
              "      <td>166</td>\n",
              "      <td>346</td>\n",
              "      <td>1</td>\n",
              "      <td>886397596</td>\n",
              "    </tr>\n",
              "  </tbody>\n",
              "</table>\n",
              "</div>\n",
              "    <div class=\"colab-df-buttons\">\n",
              "\n",
              "  <div class=\"colab-df-container\">\n",
              "    <button class=\"colab-df-convert\" onclick=\"convertToInteractive('df-81b1b886-1be5-4309-90b7-1bed477ec832')\"\n",
              "            title=\"Convert this dataframe to an interactive table.\"\n",
              "            style=\"display:none;\">\n",
              "\n",
              "  <svg xmlns=\"http://www.w3.org/2000/svg\" height=\"24px\" viewBox=\"0 -960 960 960\">\n",
              "    <path d=\"M120-120v-720h720v720H120Zm60-500h600v-160H180v160Zm220 220h160v-160H400v160Zm0 220h160v-160H400v160ZM180-400h160v-160H180v160Zm440 0h160v-160H620v160ZM180-180h160v-160H180v160Zm440 0h160v-160H620v160Z\"/>\n",
              "  </svg>\n",
              "    </button>\n",
              "\n",
              "  <style>\n",
              "    .colab-df-container {\n",
              "      display:flex;\n",
              "      gap: 12px;\n",
              "    }\n",
              "\n",
              "    .colab-df-convert {\n",
              "      background-color: #E8F0FE;\n",
              "      border: none;\n",
              "      border-radius: 50%;\n",
              "      cursor: pointer;\n",
              "      display: none;\n",
              "      fill: #1967D2;\n",
              "      height: 32px;\n",
              "      padding: 0 0 0 0;\n",
              "      width: 32px;\n",
              "    }\n",
              "\n",
              "    .colab-df-convert:hover {\n",
              "      background-color: #E2EBFA;\n",
              "      box-shadow: 0px 1px 2px rgba(60, 64, 67, 0.3), 0px 1px 3px 1px rgba(60, 64, 67, 0.15);\n",
              "      fill: #174EA6;\n",
              "    }\n",
              "\n",
              "    .colab-df-buttons div {\n",
              "      margin-bottom: 4px;\n",
              "    }\n",
              "\n",
              "    [theme=dark] .colab-df-convert {\n",
              "      background-color: #3B4455;\n",
              "      fill: #D2E3FC;\n",
              "    }\n",
              "\n",
              "    [theme=dark] .colab-df-convert:hover {\n",
              "      background-color: #434B5C;\n",
              "      box-shadow: 0px 1px 3px 1px rgba(0, 0, 0, 0.15);\n",
              "      filter: drop-shadow(0px 1px 2px rgba(0, 0, 0, 0.3));\n",
              "      fill: #FFFFFF;\n",
              "    }\n",
              "  </style>\n",
              "\n",
              "    <script>\n",
              "      const buttonEl =\n",
              "        document.querySelector('#df-81b1b886-1be5-4309-90b7-1bed477ec832 button.colab-df-convert');\n",
              "      buttonEl.style.display =\n",
              "        google.colab.kernel.accessAllowed ? 'block' : 'none';\n",
              "\n",
              "      async function convertToInteractive(key) {\n",
              "        const element = document.querySelector('#df-81b1b886-1be5-4309-90b7-1bed477ec832');\n",
              "        const dataTable =\n",
              "          await google.colab.kernel.invokeFunction('convertToInteractive',\n",
              "                                                    [key], {});\n",
              "        if (!dataTable) return;\n",
              "\n",
              "        const docLinkHtml = 'Like what you see? Visit the ' +\n",
              "          '<a target=\"_blank\" href=https://colab.research.google.com/notebooks/data_table.ipynb>data table notebook</a>'\n",
              "          + ' to learn more about interactive tables.';\n",
              "        element.innerHTML = '';\n",
              "        dataTable['output_type'] = 'display_data';\n",
              "        await google.colab.output.renderOutput(dataTable, element);\n",
              "        const docLink = document.createElement('div');\n",
              "        docLink.innerHTML = docLinkHtml;\n",
              "        element.appendChild(docLink);\n",
              "      }\n",
              "    </script>\n",
              "  </div>\n",
              "\n",
              "\n",
              "<div id=\"df-f965037e-9c3e-40bc-98f2-d080463ba24c\">\n",
              "  <button class=\"colab-df-quickchart\" onclick=\"quickchart('df-f965037e-9c3e-40bc-98f2-d080463ba24c')\"\n",
              "            title=\"Suggest charts\"\n",
              "            style=\"display:none;\">\n",
              "\n",
              "<svg xmlns=\"http://www.w3.org/2000/svg\" height=\"24px\"viewBox=\"0 0 24 24\"\n",
              "     width=\"24px\">\n",
              "    <g>\n",
              "        <path d=\"M19 3H5c-1.1 0-2 .9-2 2v14c0 1.1.9 2 2 2h14c1.1 0 2-.9 2-2V5c0-1.1-.9-2-2-2zM9 17H7v-7h2v7zm4 0h-2V7h2v10zm4 0h-2v-4h2v4z\"/>\n",
              "    </g>\n",
              "</svg>\n",
              "  </button>\n",
              "\n",
              "<style>\n",
              "  .colab-df-quickchart {\n",
              "      --bg-color: #E8F0FE;\n",
              "      --fill-color: #1967D2;\n",
              "      --hover-bg-color: #E2EBFA;\n",
              "      --hover-fill-color: #174EA6;\n",
              "      --disabled-fill-color: #AAA;\n",
              "      --disabled-bg-color: #DDD;\n",
              "  }\n",
              "\n",
              "  [theme=dark] .colab-df-quickchart {\n",
              "      --bg-color: #3B4455;\n",
              "      --fill-color: #D2E3FC;\n",
              "      --hover-bg-color: #434B5C;\n",
              "      --hover-fill-color: #FFFFFF;\n",
              "      --disabled-bg-color: #3B4455;\n",
              "      --disabled-fill-color: #666;\n",
              "  }\n",
              "\n",
              "  .colab-df-quickchart {\n",
              "    background-color: var(--bg-color);\n",
              "    border: none;\n",
              "    border-radius: 50%;\n",
              "    cursor: pointer;\n",
              "    display: none;\n",
              "    fill: var(--fill-color);\n",
              "    height: 32px;\n",
              "    padding: 0;\n",
              "    width: 32px;\n",
              "  }\n",
              "\n",
              "  .colab-df-quickchart:hover {\n",
              "    background-color: var(--hover-bg-color);\n",
              "    box-shadow: 0 1px 2px rgba(60, 64, 67, 0.3), 0 1px 3px 1px rgba(60, 64, 67, 0.15);\n",
              "    fill: var(--button-hover-fill-color);\n",
              "  }\n",
              "\n",
              "  .colab-df-quickchart-complete:disabled,\n",
              "  .colab-df-quickchart-complete:disabled:hover {\n",
              "    background-color: var(--disabled-bg-color);\n",
              "    fill: var(--disabled-fill-color);\n",
              "    box-shadow: none;\n",
              "  }\n",
              "\n",
              "  .colab-df-spinner {\n",
              "    border: 2px solid var(--fill-color);\n",
              "    border-color: transparent;\n",
              "    border-bottom-color: var(--fill-color);\n",
              "    animation:\n",
              "      spin 1s steps(1) infinite;\n",
              "  }\n",
              "\n",
              "  @keyframes spin {\n",
              "    0% {\n",
              "      border-color: transparent;\n",
              "      border-bottom-color: var(--fill-color);\n",
              "      border-left-color: var(--fill-color);\n",
              "    }\n",
              "    20% {\n",
              "      border-color: transparent;\n",
              "      border-left-color: var(--fill-color);\n",
              "      border-top-color: var(--fill-color);\n",
              "    }\n",
              "    30% {\n",
              "      border-color: transparent;\n",
              "      border-left-color: var(--fill-color);\n",
              "      border-top-color: var(--fill-color);\n",
              "      border-right-color: var(--fill-color);\n",
              "    }\n",
              "    40% {\n",
              "      border-color: transparent;\n",
              "      border-right-color: var(--fill-color);\n",
              "      border-top-color: var(--fill-color);\n",
              "    }\n",
              "    60% {\n",
              "      border-color: transparent;\n",
              "      border-right-color: var(--fill-color);\n",
              "    }\n",
              "    80% {\n",
              "      border-color: transparent;\n",
              "      border-right-color: var(--fill-color);\n",
              "      border-bottom-color: var(--fill-color);\n",
              "    }\n",
              "    90% {\n",
              "      border-color: transparent;\n",
              "      border-bottom-color: var(--fill-color);\n",
              "    }\n",
              "  }\n",
              "</style>\n",
              "\n",
              "  <script>\n",
              "    async function quickchart(key) {\n",
              "      const quickchartButtonEl =\n",
              "        document.querySelector('#' + key + ' button');\n",
              "      quickchartButtonEl.disabled = true;  // To prevent multiple clicks.\n",
              "      quickchartButtonEl.classList.add('colab-df-spinner');\n",
              "      try {\n",
              "        const charts = await google.colab.kernel.invokeFunction(\n",
              "            'suggestCharts', [key], {});\n",
              "      } catch (error) {\n",
              "        console.error('Error during call to suggestCharts:', error);\n",
              "      }\n",
              "      quickchartButtonEl.classList.remove('colab-df-spinner');\n",
              "      quickchartButtonEl.classList.add('colab-df-quickchart-complete');\n",
              "    }\n",
              "    (() => {\n",
              "      let quickchartButtonEl =\n",
              "        document.querySelector('#df-f965037e-9c3e-40bc-98f2-d080463ba24c button');\n",
              "      quickchartButtonEl.style.display =\n",
              "        google.colab.kernel.accessAllowed ? 'block' : 'none';\n",
              "    })();\n",
              "  </script>\n",
              "</div>\n",
              "\n",
              "    </div>\n",
              "  </div>\n"
            ],
            "text/plain": [
              "   user  movie  rating  timestamp\n",
              "0   196    242       3  881250949\n",
              "1   186    302       3  891717742\n",
              "2    22    377       1  878887116\n",
              "3   244     51       2  880606923\n",
              "4   166    346       1  886397596"
            ]
          },
          "execution_count": 2,
          "metadata": {},
          "output_type": "execute_result"
        }
      ],
      "source": [
        "ratings = pd.read_csv(path/'u.data', delimiter='\\t', header=None, names=['user', 'movie', 'rating', 'timestamp'])\n",
        "ratings.head()"
      ]
    },
    {
      "cell_type": "code",
      "execution_count": 3,
      "metadata": {
        "colab": {
          "base_uri": "https://localhost:8080/",
          "height": 206
        },
        "id": "Z4uH9uROxnyc",
        "outputId": "a6901ccb-2e09-4b74-9de9-ca26d8ee81f5"
      },
      "outputs": [
        {
          "data": {
            "application/vnd.google.colaboratory.intrinsic+json": {
              "summary": "{\n  \"name\": \"movies\",\n  \"rows\": 1682,\n  \"fields\": [\n    {\n      \"column\": \"movie\",\n      \"properties\": {\n        \"dtype\": \"number\",\n        \"std\": 485,\n        \"min\": 1,\n        \"max\": 1682,\n        \"num_unique_values\": 1682,\n        \"samples\": [\n          1394,\n          744,\n          1606\n        ],\n        \"semantic_type\": \"\",\n        \"description\": \"\"\n      }\n    },\n    {\n      \"column\": \"title\",\n      \"properties\": {\n        \"dtype\": \"string\",\n        \"num_unique_values\": 1664,\n        \"samples\": [\n          \"Madame Butterfly (1995)\",\n          \"Wrong Trousers, The (1993)\",\n          \"Breaking the Waves (1996)\"\n        ],\n        \"semantic_type\": \"\",\n        \"description\": \"\"\n      }\n    }\n  ]\n}",
              "type": "dataframe",
              "variable_name": "movies"
            },
            "text/html": [
              "\n",
              "  <div id=\"df-c6176ce0-3777-411d-ba0a-43c78fa7d737\" class=\"colab-df-container\">\n",
              "    <div>\n",
              "<style scoped>\n",
              "    .dataframe tbody tr th:only-of-type {\n",
              "        vertical-align: middle;\n",
              "    }\n",
              "\n",
              "    .dataframe tbody tr th {\n",
              "        vertical-align: top;\n",
              "    }\n",
              "\n",
              "    .dataframe thead th {\n",
              "        text-align: right;\n",
              "    }\n",
              "</style>\n",
              "<table border=\"1\" class=\"dataframe\">\n",
              "  <thead>\n",
              "    <tr style=\"text-align: right;\">\n",
              "      <th></th>\n",
              "      <th>movie</th>\n",
              "      <th>title</th>\n",
              "    </tr>\n",
              "  </thead>\n",
              "  <tbody>\n",
              "    <tr>\n",
              "      <th>0</th>\n",
              "      <td>1</td>\n",
              "      <td>Toy Story (1995)</td>\n",
              "    </tr>\n",
              "    <tr>\n",
              "      <th>1</th>\n",
              "      <td>2</td>\n",
              "      <td>GoldenEye (1995)</td>\n",
              "    </tr>\n",
              "    <tr>\n",
              "      <th>2</th>\n",
              "      <td>3</td>\n",
              "      <td>Four Rooms (1995)</td>\n",
              "    </tr>\n",
              "    <tr>\n",
              "      <th>3</th>\n",
              "      <td>4</td>\n",
              "      <td>Get Shorty (1995)</td>\n",
              "    </tr>\n",
              "    <tr>\n",
              "      <th>4</th>\n",
              "      <td>5</td>\n",
              "      <td>Copycat (1995)</td>\n",
              "    </tr>\n",
              "  </tbody>\n",
              "</table>\n",
              "</div>\n",
              "    <div class=\"colab-df-buttons\">\n",
              "\n",
              "  <div class=\"colab-df-container\">\n",
              "    <button class=\"colab-df-convert\" onclick=\"convertToInteractive('df-c6176ce0-3777-411d-ba0a-43c78fa7d737')\"\n",
              "            title=\"Convert this dataframe to an interactive table.\"\n",
              "            style=\"display:none;\">\n",
              "\n",
              "  <svg xmlns=\"http://www.w3.org/2000/svg\" height=\"24px\" viewBox=\"0 -960 960 960\">\n",
              "    <path d=\"M120-120v-720h720v720H120Zm60-500h600v-160H180v160Zm220 220h160v-160H400v160Zm0 220h160v-160H400v160ZM180-400h160v-160H180v160Zm440 0h160v-160H620v160ZM180-180h160v-160H180v160Zm440 0h160v-160H620v160Z\"/>\n",
              "  </svg>\n",
              "    </button>\n",
              "\n",
              "  <style>\n",
              "    .colab-df-container {\n",
              "      display:flex;\n",
              "      gap: 12px;\n",
              "    }\n",
              "\n",
              "    .colab-df-convert {\n",
              "      background-color: #E8F0FE;\n",
              "      border: none;\n",
              "      border-radius: 50%;\n",
              "      cursor: pointer;\n",
              "      display: none;\n",
              "      fill: #1967D2;\n",
              "      height: 32px;\n",
              "      padding: 0 0 0 0;\n",
              "      width: 32px;\n",
              "    }\n",
              "\n",
              "    .colab-df-convert:hover {\n",
              "      background-color: #E2EBFA;\n",
              "      box-shadow: 0px 1px 2px rgba(60, 64, 67, 0.3), 0px 1px 3px 1px rgba(60, 64, 67, 0.15);\n",
              "      fill: #174EA6;\n",
              "    }\n",
              "\n",
              "    .colab-df-buttons div {\n",
              "      margin-bottom: 4px;\n",
              "    }\n",
              "\n",
              "    [theme=dark] .colab-df-convert {\n",
              "      background-color: #3B4455;\n",
              "      fill: #D2E3FC;\n",
              "    }\n",
              "\n",
              "    [theme=dark] .colab-df-convert:hover {\n",
              "      background-color: #434B5C;\n",
              "      box-shadow: 0px 1px 3px 1px rgba(0, 0, 0, 0.15);\n",
              "      filter: drop-shadow(0px 1px 2px rgba(0, 0, 0, 0.3));\n",
              "      fill: #FFFFFF;\n",
              "    }\n",
              "  </style>\n",
              "\n",
              "    <script>\n",
              "      const buttonEl =\n",
              "        document.querySelector('#df-c6176ce0-3777-411d-ba0a-43c78fa7d737 button.colab-df-convert');\n",
              "      buttonEl.style.display =\n",
              "        google.colab.kernel.accessAllowed ? 'block' : 'none';\n",
              "\n",
              "      async function convertToInteractive(key) {\n",
              "        const element = document.querySelector('#df-c6176ce0-3777-411d-ba0a-43c78fa7d737');\n",
              "        const dataTable =\n",
              "          await google.colab.kernel.invokeFunction('convertToInteractive',\n",
              "                                                    [key], {});\n",
              "        if (!dataTable) return;\n",
              "\n",
              "        const docLinkHtml = 'Like what you see? Visit the ' +\n",
              "          '<a target=\"_blank\" href=https://colab.research.google.com/notebooks/data_table.ipynb>data table notebook</a>'\n",
              "          + ' to learn more about interactive tables.';\n",
              "        element.innerHTML = '';\n",
              "        dataTable['output_type'] = 'display_data';\n",
              "        await google.colab.output.renderOutput(dataTable, element);\n",
              "        const docLink = document.createElement('div');\n",
              "        docLink.innerHTML = docLinkHtml;\n",
              "        element.appendChild(docLink);\n",
              "      }\n",
              "    </script>\n",
              "  </div>\n",
              "\n",
              "\n",
              "<div id=\"df-3dc80902-5408-40a9-916c-89441b2518da\">\n",
              "  <button class=\"colab-df-quickchart\" onclick=\"quickchart('df-3dc80902-5408-40a9-916c-89441b2518da')\"\n",
              "            title=\"Suggest charts\"\n",
              "            style=\"display:none;\">\n",
              "\n",
              "<svg xmlns=\"http://www.w3.org/2000/svg\" height=\"24px\"viewBox=\"0 0 24 24\"\n",
              "     width=\"24px\">\n",
              "    <g>\n",
              "        <path d=\"M19 3H5c-1.1 0-2 .9-2 2v14c0 1.1.9 2 2 2h14c1.1 0 2-.9 2-2V5c0-1.1-.9-2-2-2zM9 17H7v-7h2v7zm4 0h-2V7h2v10zm4 0h-2v-4h2v4z\"/>\n",
              "    </g>\n",
              "</svg>\n",
              "  </button>\n",
              "\n",
              "<style>\n",
              "  .colab-df-quickchart {\n",
              "      --bg-color: #E8F0FE;\n",
              "      --fill-color: #1967D2;\n",
              "      --hover-bg-color: #E2EBFA;\n",
              "      --hover-fill-color: #174EA6;\n",
              "      --disabled-fill-color: #AAA;\n",
              "      --disabled-bg-color: #DDD;\n",
              "  }\n",
              "\n",
              "  [theme=dark] .colab-df-quickchart {\n",
              "      --bg-color: #3B4455;\n",
              "      --fill-color: #D2E3FC;\n",
              "      --hover-bg-color: #434B5C;\n",
              "      --hover-fill-color: #FFFFFF;\n",
              "      --disabled-bg-color: #3B4455;\n",
              "      --disabled-fill-color: #666;\n",
              "  }\n",
              "\n",
              "  .colab-df-quickchart {\n",
              "    background-color: var(--bg-color);\n",
              "    border: none;\n",
              "    border-radius: 50%;\n",
              "    cursor: pointer;\n",
              "    display: none;\n",
              "    fill: var(--fill-color);\n",
              "    height: 32px;\n",
              "    padding: 0;\n",
              "    width: 32px;\n",
              "  }\n",
              "\n",
              "  .colab-df-quickchart:hover {\n",
              "    background-color: var(--hover-bg-color);\n",
              "    box-shadow: 0 1px 2px rgba(60, 64, 67, 0.3), 0 1px 3px 1px rgba(60, 64, 67, 0.15);\n",
              "    fill: var(--button-hover-fill-color);\n",
              "  }\n",
              "\n",
              "  .colab-df-quickchart-complete:disabled,\n",
              "  .colab-df-quickchart-complete:disabled:hover {\n",
              "    background-color: var(--disabled-bg-color);\n",
              "    fill: var(--disabled-fill-color);\n",
              "    box-shadow: none;\n",
              "  }\n",
              "\n",
              "  .colab-df-spinner {\n",
              "    border: 2px solid var(--fill-color);\n",
              "    border-color: transparent;\n",
              "    border-bottom-color: var(--fill-color);\n",
              "    animation:\n",
              "      spin 1s steps(1) infinite;\n",
              "  }\n",
              "\n",
              "  @keyframes spin {\n",
              "    0% {\n",
              "      border-color: transparent;\n",
              "      border-bottom-color: var(--fill-color);\n",
              "      border-left-color: var(--fill-color);\n",
              "    }\n",
              "    20% {\n",
              "      border-color: transparent;\n",
              "      border-left-color: var(--fill-color);\n",
              "      border-top-color: var(--fill-color);\n",
              "    }\n",
              "    30% {\n",
              "      border-color: transparent;\n",
              "      border-left-color: var(--fill-color);\n",
              "      border-top-color: var(--fill-color);\n",
              "      border-right-color: var(--fill-color);\n",
              "    }\n",
              "    40% {\n",
              "      border-color: transparent;\n",
              "      border-right-color: var(--fill-color);\n",
              "      border-top-color: var(--fill-color);\n",
              "    }\n",
              "    60% {\n",
              "      border-color: transparent;\n",
              "      border-right-color: var(--fill-color);\n",
              "    }\n",
              "    80% {\n",
              "      border-color: transparent;\n",
              "      border-right-color: var(--fill-color);\n",
              "      border-bottom-color: var(--fill-color);\n",
              "    }\n",
              "    90% {\n",
              "      border-color: transparent;\n",
              "      border-bottom-color: var(--fill-color);\n",
              "    }\n",
              "  }\n",
              "</style>\n",
              "\n",
              "  <script>\n",
              "    async function quickchart(key) {\n",
              "      const quickchartButtonEl =\n",
              "        document.querySelector('#' + key + ' button');\n",
              "      quickchartButtonEl.disabled = true;  // To prevent multiple clicks.\n",
              "      quickchartButtonEl.classList.add('colab-df-spinner');\n",
              "      try {\n",
              "        const charts = await google.colab.kernel.invokeFunction(\n",
              "            'suggestCharts', [key], {});\n",
              "      } catch (error) {\n",
              "        console.error('Error during call to suggestCharts:', error);\n",
              "      }\n",
              "      quickchartButtonEl.classList.remove('colab-df-spinner');\n",
              "      quickchartButtonEl.classList.add('colab-df-quickchart-complete');\n",
              "    }\n",
              "    (() => {\n",
              "      let quickchartButtonEl =\n",
              "        document.querySelector('#df-3dc80902-5408-40a9-916c-89441b2518da button');\n",
              "      quickchartButtonEl.style.display =\n",
              "        google.colab.kernel.accessAllowed ? 'block' : 'none';\n",
              "    })();\n",
              "  </script>\n",
              "</div>\n",
              "\n",
              "    </div>\n",
              "  </div>\n"
            ],
            "text/plain": [
              "   movie              title\n",
              "0      1   Toy Story (1995)\n",
              "1      2   GoldenEye (1995)\n",
              "2      3  Four Rooms (1995)\n",
              "3      4  Get Shorty (1995)\n",
              "4      5     Copycat (1995)"
            ]
          },
          "execution_count": 3,
          "metadata": {},
          "output_type": "execute_result"
        }
      ],
      "source": [
        "movies = pd.read_csv(path/'u.item', delimiter='|', encoding='latin-1', usecols=(0,1), names=('movie', 'title'), header=None)\n",
        "movies.head()"
      ]
    },
    {
      "cell_type": "code",
      "execution_count": 4,
      "metadata": {
        "colab": {
          "base_uri": "https://localhost:8080/",
          "height": 206
        },
        "id": "QI5fUyXGxqac",
        "outputId": "91c1dbd1-882a-440b-d30a-0072ed84d787"
      },
      "outputs": [
        {
          "data": {
            "application/vnd.google.colaboratory.intrinsic+json": {
              "summary": "{\n  \"name\": \"ratings\",\n  \"rows\": 100000,\n  \"fields\": [\n    {\n      \"column\": \"user\",\n      \"properties\": {\n        \"dtype\": \"number\",\n        \"std\": 266,\n        \"min\": 1,\n        \"max\": 943,\n        \"num_unique_values\": 943,\n        \"samples\": [\n          574,\n          696,\n          434\n        ],\n        \"semantic_type\": \"\",\n        \"description\": \"\"\n      }\n    },\n    {\n      \"column\": \"movie\",\n      \"properties\": {\n        \"dtype\": \"number\",\n        \"std\": 330,\n        \"min\": 1,\n        \"max\": 1682,\n        \"num_unique_values\": 1682,\n        \"samples\": [\n          1557,\n          808,\n          1618\n        ],\n        \"semantic_type\": \"\",\n        \"description\": \"\"\n      }\n    },\n    {\n      \"column\": \"rating\",\n      \"properties\": {\n        \"dtype\": \"number\",\n        \"std\": 1,\n        \"min\": 1,\n        \"max\": 5,\n        \"num_unique_values\": 5,\n        \"samples\": [\n          5,\n          1,\n          4\n        ],\n        \"semantic_type\": \"\",\n        \"description\": \"\"\n      }\n    },\n    {\n      \"column\": \"timestamp\",\n      \"properties\": {\n        \"dtype\": \"number\",\n        \"std\": 5343856,\n        \"min\": 874724710,\n        \"max\": 893286638,\n        \"num_unique_values\": 49282,\n        \"samples\": [\n          888540314,\n          887746686,\n          880888037\n        ],\n        \"semantic_type\": \"\",\n        \"description\": \"\"\n      }\n    },\n    {\n      \"column\": \"title\",\n      \"properties\": {\n        \"dtype\": \"category\",\n        \"num_unique_values\": 1664,\n        \"samples\": [\n          \"House Party 3 (1994)\",\n          \"Three Colors: White (1994)\",\n          \"Fish Called Wanda, A (1988)\"\n        ],\n        \"semantic_type\": \"\",\n        \"description\": \"\"\n      }\n    }\n  ]\n}",
              "type": "dataframe",
              "variable_name": "ratings"
            },
            "text/html": [
              "\n",
              "  <div id=\"df-9439ecf0-502a-4235-88c2-624b8ca752d7\" class=\"colab-df-container\">\n",
              "    <div>\n",
              "<style scoped>\n",
              "    .dataframe tbody tr th:only-of-type {\n",
              "        vertical-align: middle;\n",
              "    }\n",
              "\n",
              "    .dataframe tbody tr th {\n",
              "        vertical-align: top;\n",
              "    }\n",
              "\n",
              "    .dataframe thead th {\n",
              "        text-align: right;\n",
              "    }\n",
              "</style>\n",
              "<table border=\"1\" class=\"dataframe\">\n",
              "  <thead>\n",
              "    <tr style=\"text-align: right;\">\n",
              "      <th></th>\n",
              "      <th>user</th>\n",
              "      <th>movie</th>\n",
              "      <th>rating</th>\n",
              "      <th>timestamp</th>\n",
              "      <th>title</th>\n",
              "    </tr>\n",
              "  </thead>\n",
              "  <tbody>\n",
              "    <tr>\n",
              "      <th>0</th>\n",
              "      <td>196</td>\n",
              "      <td>242</td>\n",
              "      <td>3</td>\n",
              "      <td>881250949</td>\n",
              "      <td>Kolya (1996)</td>\n",
              "    </tr>\n",
              "    <tr>\n",
              "      <th>1</th>\n",
              "      <td>63</td>\n",
              "      <td>242</td>\n",
              "      <td>3</td>\n",
              "      <td>875747190</td>\n",
              "      <td>Kolya (1996)</td>\n",
              "    </tr>\n",
              "    <tr>\n",
              "      <th>2</th>\n",
              "      <td>226</td>\n",
              "      <td>242</td>\n",
              "      <td>5</td>\n",
              "      <td>883888671</td>\n",
              "      <td>Kolya (1996)</td>\n",
              "    </tr>\n",
              "    <tr>\n",
              "      <th>3</th>\n",
              "      <td>154</td>\n",
              "      <td>242</td>\n",
              "      <td>3</td>\n",
              "      <td>879138235</td>\n",
              "      <td>Kolya (1996)</td>\n",
              "    </tr>\n",
              "    <tr>\n",
              "      <th>4</th>\n",
              "      <td>306</td>\n",
              "      <td>242</td>\n",
              "      <td>5</td>\n",
              "      <td>876503793</td>\n",
              "      <td>Kolya (1996)</td>\n",
              "    </tr>\n",
              "  </tbody>\n",
              "</table>\n",
              "</div>\n",
              "    <div class=\"colab-df-buttons\">\n",
              "\n",
              "  <div class=\"colab-df-container\">\n",
              "    <button class=\"colab-df-convert\" onclick=\"convertToInteractive('df-9439ecf0-502a-4235-88c2-624b8ca752d7')\"\n",
              "            title=\"Convert this dataframe to an interactive table.\"\n",
              "            style=\"display:none;\">\n",
              "\n",
              "  <svg xmlns=\"http://www.w3.org/2000/svg\" height=\"24px\" viewBox=\"0 -960 960 960\">\n",
              "    <path d=\"M120-120v-720h720v720H120Zm60-500h600v-160H180v160Zm220 220h160v-160H400v160Zm0 220h160v-160H400v160ZM180-400h160v-160H180v160Zm440 0h160v-160H620v160ZM180-180h160v-160H180v160Zm440 0h160v-160H620v160Z\"/>\n",
              "  </svg>\n",
              "    </button>\n",
              "\n",
              "  <style>\n",
              "    .colab-df-container {\n",
              "      display:flex;\n",
              "      gap: 12px;\n",
              "    }\n",
              "\n",
              "    .colab-df-convert {\n",
              "      background-color: #E8F0FE;\n",
              "      border: none;\n",
              "      border-radius: 50%;\n",
              "      cursor: pointer;\n",
              "      display: none;\n",
              "      fill: #1967D2;\n",
              "      height: 32px;\n",
              "      padding: 0 0 0 0;\n",
              "      width: 32px;\n",
              "    }\n",
              "\n",
              "    .colab-df-convert:hover {\n",
              "      background-color: #E2EBFA;\n",
              "      box-shadow: 0px 1px 2px rgba(60, 64, 67, 0.3), 0px 1px 3px 1px rgba(60, 64, 67, 0.15);\n",
              "      fill: #174EA6;\n",
              "    }\n",
              "\n",
              "    .colab-df-buttons div {\n",
              "      margin-bottom: 4px;\n",
              "    }\n",
              "\n",
              "    [theme=dark] .colab-df-convert {\n",
              "      background-color: #3B4455;\n",
              "      fill: #D2E3FC;\n",
              "    }\n",
              "\n",
              "    [theme=dark] .colab-df-convert:hover {\n",
              "      background-color: #434B5C;\n",
              "      box-shadow: 0px 1px 3px 1px rgba(0, 0, 0, 0.15);\n",
              "      filter: drop-shadow(0px 1px 2px rgba(0, 0, 0, 0.3));\n",
              "      fill: #FFFFFF;\n",
              "    }\n",
              "  </style>\n",
              "\n",
              "    <script>\n",
              "      const buttonEl =\n",
              "        document.querySelector('#df-9439ecf0-502a-4235-88c2-624b8ca752d7 button.colab-df-convert');\n",
              "      buttonEl.style.display =\n",
              "        google.colab.kernel.accessAllowed ? 'block' : 'none';\n",
              "\n",
              "      async function convertToInteractive(key) {\n",
              "        const element = document.querySelector('#df-9439ecf0-502a-4235-88c2-624b8ca752d7');\n",
              "        const dataTable =\n",
              "          await google.colab.kernel.invokeFunction('convertToInteractive',\n",
              "                                                    [key], {});\n",
              "        if (!dataTable) return;\n",
              "\n",
              "        const docLinkHtml = 'Like what you see? Visit the ' +\n",
              "          '<a target=\"_blank\" href=https://colab.research.google.com/notebooks/data_table.ipynb>data table notebook</a>'\n",
              "          + ' to learn more about interactive tables.';\n",
              "        element.innerHTML = '';\n",
              "        dataTable['output_type'] = 'display_data';\n",
              "        await google.colab.output.renderOutput(dataTable, element);\n",
              "        const docLink = document.createElement('div');\n",
              "        docLink.innerHTML = docLinkHtml;\n",
              "        element.appendChild(docLink);\n",
              "      }\n",
              "    </script>\n",
              "  </div>\n",
              "\n",
              "\n",
              "<div id=\"df-3c8bffc7-141a-41c5-ac49-c72919c16d0d\">\n",
              "  <button class=\"colab-df-quickchart\" onclick=\"quickchart('df-3c8bffc7-141a-41c5-ac49-c72919c16d0d')\"\n",
              "            title=\"Suggest charts\"\n",
              "            style=\"display:none;\">\n",
              "\n",
              "<svg xmlns=\"http://www.w3.org/2000/svg\" height=\"24px\"viewBox=\"0 0 24 24\"\n",
              "     width=\"24px\">\n",
              "    <g>\n",
              "        <path d=\"M19 3H5c-1.1 0-2 .9-2 2v14c0 1.1.9 2 2 2h14c1.1 0 2-.9 2-2V5c0-1.1-.9-2-2-2zM9 17H7v-7h2v7zm4 0h-2V7h2v10zm4 0h-2v-4h2v4z\"/>\n",
              "    </g>\n",
              "</svg>\n",
              "  </button>\n",
              "\n",
              "<style>\n",
              "  .colab-df-quickchart {\n",
              "      --bg-color: #E8F0FE;\n",
              "      --fill-color: #1967D2;\n",
              "      --hover-bg-color: #E2EBFA;\n",
              "      --hover-fill-color: #174EA6;\n",
              "      --disabled-fill-color: #AAA;\n",
              "      --disabled-bg-color: #DDD;\n",
              "  }\n",
              "\n",
              "  [theme=dark] .colab-df-quickchart {\n",
              "      --bg-color: #3B4455;\n",
              "      --fill-color: #D2E3FC;\n",
              "      --hover-bg-color: #434B5C;\n",
              "      --hover-fill-color: #FFFFFF;\n",
              "      --disabled-bg-color: #3B4455;\n",
              "      --disabled-fill-color: #666;\n",
              "  }\n",
              "\n",
              "  .colab-df-quickchart {\n",
              "    background-color: var(--bg-color);\n",
              "    border: none;\n",
              "    border-radius: 50%;\n",
              "    cursor: pointer;\n",
              "    display: none;\n",
              "    fill: var(--fill-color);\n",
              "    height: 32px;\n",
              "    padding: 0;\n",
              "    width: 32px;\n",
              "  }\n",
              "\n",
              "  .colab-df-quickchart:hover {\n",
              "    background-color: var(--hover-bg-color);\n",
              "    box-shadow: 0 1px 2px rgba(60, 64, 67, 0.3), 0 1px 3px 1px rgba(60, 64, 67, 0.15);\n",
              "    fill: var(--button-hover-fill-color);\n",
              "  }\n",
              "\n",
              "  .colab-df-quickchart-complete:disabled,\n",
              "  .colab-df-quickchart-complete:disabled:hover {\n",
              "    background-color: var(--disabled-bg-color);\n",
              "    fill: var(--disabled-fill-color);\n",
              "    box-shadow: none;\n",
              "  }\n",
              "\n",
              "  .colab-df-spinner {\n",
              "    border: 2px solid var(--fill-color);\n",
              "    border-color: transparent;\n",
              "    border-bottom-color: var(--fill-color);\n",
              "    animation:\n",
              "      spin 1s steps(1) infinite;\n",
              "  }\n",
              "\n",
              "  @keyframes spin {\n",
              "    0% {\n",
              "      border-color: transparent;\n",
              "      border-bottom-color: var(--fill-color);\n",
              "      border-left-color: var(--fill-color);\n",
              "    }\n",
              "    20% {\n",
              "      border-color: transparent;\n",
              "      border-left-color: var(--fill-color);\n",
              "      border-top-color: var(--fill-color);\n",
              "    }\n",
              "    30% {\n",
              "      border-color: transparent;\n",
              "      border-left-color: var(--fill-color);\n",
              "      border-top-color: var(--fill-color);\n",
              "      border-right-color: var(--fill-color);\n",
              "    }\n",
              "    40% {\n",
              "      border-color: transparent;\n",
              "      border-right-color: var(--fill-color);\n",
              "      border-top-color: var(--fill-color);\n",
              "    }\n",
              "    60% {\n",
              "      border-color: transparent;\n",
              "      border-right-color: var(--fill-color);\n",
              "    }\n",
              "    80% {\n",
              "      border-color: transparent;\n",
              "      border-right-color: var(--fill-color);\n",
              "      border-bottom-color: var(--fill-color);\n",
              "    }\n",
              "    90% {\n",
              "      border-color: transparent;\n",
              "      border-bottom-color: var(--fill-color);\n",
              "    }\n",
              "  }\n",
              "</style>\n",
              "\n",
              "  <script>\n",
              "    async function quickchart(key) {\n",
              "      const quickchartButtonEl =\n",
              "        document.querySelector('#' + key + ' button');\n",
              "      quickchartButtonEl.disabled = true;  // To prevent multiple clicks.\n",
              "      quickchartButtonEl.classList.add('colab-df-spinner');\n",
              "      try {\n",
              "        const charts = await google.colab.kernel.invokeFunction(\n",
              "            'suggestCharts', [key], {});\n",
              "      } catch (error) {\n",
              "        console.error('Error during call to suggestCharts:', error);\n",
              "      }\n",
              "      quickchartButtonEl.classList.remove('colab-df-spinner');\n",
              "      quickchartButtonEl.classList.add('colab-df-quickchart-complete');\n",
              "    }\n",
              "    (() => {\n",
              "      let quickchartButtonEl =\n",
              "        document.querySelector('#df-3c8bffc7-141a-41c5-ac49-c72919c16d0d button');\n",
              "      quickchartButtonEl.style.display =\n",
              "        google.colab.kernel.accessAllowed ? 'block' : 'none';\n",
              "    })();\n",
              "  </script>\n",
              "</div>\n",
              "\n",
              "    </div>\n",
              "  </div>\n"
            ],
            "text/plain": [
              "   user  movie  rating  timestamp         title\n",
              "0   196    242       3  881250949  Kolya (1996)\n",
              "1    63    242       3  875747190  Kolya (1996)\n",
              "2   226    242       5  883888671  Kolya (1996)\n",
              "3   154    242       3  879138235  Kolya (1996)\n",
              "4   306    242       5  876503793  Kolya (1996)"
            ]
          },
          "execution_count": 4,
          "metadata": {},
          "output_type": "execute_result"
        }
      ],
      "source": [
        "ratings = ratings.merge(movies)\n",
        "ratings.head()"
      ]
    },
    {
      "cell_type": "code",
      "execution_count": 5,
      "metadata": {
        "colab": {
          "base_uri": "https://localhost:8080/",
          "height": 363
        },
        "id": "fF1tIjoQxu99",
        "outputId": "592e19ea-39f7-42d2-8961-0a6ff524c2ed"
      },
      "outputs": [
        {
          "data": {
            "text/html": [
              "<table border=\"1\" class=\"dataframe\">\n",
              "  <thead>\n",
              "    <tr style=\"text-align: right;\">\n",
              "      <th></th>\n",
              "      <th>user</th>\n",
              "      <th>title</th>\n",
              "      <th>rating</th>\n",
              "    </tr>\n",
              "  </thead>\n",
              "  <tbody>\n",
              "    <tr>\n",
              "      <th>0</th>\n",
              "      <td>294</td>\n",
              "      <td>Money Talks (1997)</td>\n",
              "      <td>3</td>\n",
              "    </tr>\n",
              "    <tr>\n",
              "      <th>1</th>\n",
              "      <td>486</td>\n",
              "      <td>Crossing Guard, The (1995)</td>\n",
              "      <td>4</td>\n",
              "    </tr>\n",
              "    <tr>\n",
              "      <th>2</th>\n",
              "      <td>13</td>\n",
              "      <td>High Noon (1952)</td>\n",
              "      <td>5</td>\n",
              "    </tr>\n",
              "    <tr>\n",
              "      <th>3</th>\n",
              "      <td>878</td>\n",
              "      <td>My Life as a Dog (Mitt liv som hund) (1985)</td>\n",
              "      <td>5</td>\n",
              "    </tr>\n",
              "    <tr>\n",
              "      <th>4</th>\n",
              "      <td>433</td>\n",
              "      <td>Star Wars (1977)</td>\n",
              "      <td>5</td>\n",
              "    </tr>\n",
              "    <tr>\n",
              "      <th>5</th>\n",
              "      <td>847</td>\n",
              "      <td>Streetcar Named Desire, A (1951)</td>\n",
              "      <td>3</td>\n",
              "    </tr>\n",
              "    <tr>\n",
              "      <th>6</th>\n",
              "      <td>833</td>\n",
              "      <td>Akira (1988)</td>\n",
              "      <td>4</td>\n",
              "    </tr>\n",
              "    <tr>\n",
              "      <th>7</th>\n",
              "      <td>503</td>\n",
              "      <td>Englishman Who Went Up a Hill, But Came Down a Mountain, The (1995)</td>\n",
              "      <td>3</td>\n",
              "    </tr>\n",
              "    <tr>\n",
              "      <th>8</th>\n",
              "      <td>5</td>\n",
              "      <td>Last of the Mohicans, The (1992)</td>\n",
              "      <td>1</td>\n",
              "    </tr>\n",
              "    <tr>\n",
              "      <th>9</th>\n",
              "      <td>868</td>\n",
              "      <td>Stand by Me (1986)</td>\n",
              "      <td>4</td>\n",
              "    </tr>\n",
              "  </tbody>\n",
              "</table>"
            ],
            "text/plain": [
              "<IPython.core.display.HTML object>"
            ]
          },
          "metadata": {},
          "output_type": "display_data"
        }
      ],
      "source": [
        "dls = CollabDataLoaders.from_df(ratings, item_name='title', bs=64)\n",
        "dls.show_batch()"
      ]
    },
    {
      "cell_type": "markdown",
      "metadata": {
        "id": "diNHMR2jx4W1"
      },
      "source": [
        "In the text, the following `Learner` resulted in the lowest validation loss (`0.821688`) so I'll just use that in this experiment."
      ]
    },
    {
      "cell_type": "code",
      "execution_count": 6,
      "metadata": {
        "id": "GGtkVrG4yBJV"
      },
      "outputs": [],
      "source": [
        "learn = collab_learner(dls, n_factors=50, y_range=(0, 5.5))"
      ]
    },
    {
      "cell_type": "markdown",
      "metadata": {
        "id": "qloiGWzYyGYg"
      },
      "source": [
        "I'll do an initial training to sort my head around how I'm going to collect data during the experiment."
      ]
    },
    {
      "cell_type": "code",
      "execution_count": 7,
      "metadata": {
        "colab": {
          "base_uri": "https://localhost:8080/",
          "height": 206
        },
        "id": "BSBd02gax_0l",
        "outputId": "20a5a5d6-7604-428b-a8ef-359bc6e6f49d"
      },
      "outputs": [
        {
          "data": {
            "text/html": [
              "\n",
              "<style>\n",
              "    /* Turns off some styling */\n",
              "    progress {\n",
              "        /* gets rid of default border in Firefox and Opera. */\n",
              "        border: none;\n",
              "        /* Needs to be in here for Safari polyfill so background images work as expected. */\n",
              "        background-size: auto;\n",
              "    }\n",
              "    progress:not([value]), progress:not([value])::-webkit-progress-bar {\n",
              "        background: repeating-linear-gradient(45deg, #7e7e7e, #7e7e7e 10px, #5c5c5c 10px, #5c5c5c 20px);\n",
              "    }\n",
              "    .progress-bar-interrupted, .progress-bar-interrupted::-webkit-progress-bar {\n",
              "        background: #F44336;\n",
              "    }\n",
              "</style>\n"
            ],
            "text/plain": [
              "<IPython.core.display.HTML object>"
            ]
          },
          "metadata": {},
          "output_type": "display_data"
        },
        {
          "data": {
            "text/html": [
              "<table border=\"1\" class=\"dataframe\">\n",
              "  <thead>\n",
              "    <tr style=\"text-align: left;\">\n",
              "      <th>epoch</th>\n",
              "      <th>train_loss</th>\n",
              "      <th>valid_loss</th>\n",
              "      <th>time</th>\n",
              "    </tr>\n",
              "  </thead>\n",
              "  <tbody>\n",
              "    <tr>\n",
              "      <td>0</td>\n",
              "      <td>0.882671</td>\n",
              "      <td>0.955993</td>\n",
              "      <td>00:12</td>\n",
              "    </tr>\n",
              "    <tr>\n",
              "      <td>1</td>\n",
              "      <td>0.654915</td>\n",
              "      <td>0.892832</td>\n",
              "      <td>00:12</td>\n",
              "    </tr>\n",
              "    <tr>\n",
              "      <td>2</td>\n",
              "      <td>0.525330</td>\n",
              "      <td>0.872967</td>\n",
              "      <td>00:12</td>\n",
              "    </tr>\n",
              "    <tr>\n",
              "      <td>3</td>\n",
              "      <td>0.436863</td>\n",
              "      <td>0.858952</td>\n",
              "      <td>00:12</td>\n",
              "    </tr>\n",
              "    <tr>\n",
              "      <td>4</td>\n",
              "      <td>0.438653</td>\n",
              "      <td>0.854505</td>\n",
              "      <td>00:12</td>\n",
              "    </tr>\n",
              "  </tbody>\n",
              "</table>"
            ],
            "text/plain": [
              "<IPython.core.display.HTML object>"
            ]
          },
          "metadata": {},
          "output_type": "display_data"
        }
      ],
      "source": [
        "learn.fit_one_cycle(5, 5e-3, wd=0.1)"
      ]
    },
    {
      "cell_type": "markdown",
      "metadata": {
        "id": "MVl-Wbt3yXbc"
      },
      "source": [
        "## Planning the Experiment"
      ]
    },
    {
      "cell_type": "markdown",
      "metadata": {
        "id": "Wjj7FlYJyeYO"
      },
      "source": [
        "I'll be trying that same learning process (5 epochs, 5e-3 learning rate) with different weight decay `wd` values (from `0.0001` to `10.0`). Once the experiment is done, I want to visualize the following for all `wd` values:\n",
        "\n",
        "- training loss curve .\n",
        "- validation loss curve.\n",
        "- distribution of model parameters.\n",
        "\n",
        "I'll reference the [`plot_loss`](https://github.com/fastai/fastai/blob/785ec908c7f75a272c718dd0df53822bdf5e9e0e/fastai/learner.py#L597) source code for how to capture those values from the `Learner`'s `Recorder` object.\n",
        "\n",
        "\n",
        "But first, I'll plot the losses using that `plot_loss` function to have a baseline reference:"
      ]
    },
    {
      "cell_type": "code",
      "execution_count": 8,
      "metadata": {
        "colab": {
          "base_uri": "https://localhost:8080/",
          "height": 472
        },
        "id": "IFQ48oXh0Cpv",
        "outputId": "cd8a8f90-b6b3-4183-dc8c-b317a6c5eab3"
      },
      "outputs": [
        {
          "data": {
            "image/png": "[encoded data removed]",
            "text/plain": [
              "<Figure size 640x480 with 1 Axes>"
            ]
          },
          "metadata": {},
          "output_type": "display_data"
        }
      ],
      "source": [
        "learn.recorder.plot_loss();"
      ]
    },
    {
      "cell_type": "markdown",
      "metadata": {
        "id": "leSF6kv5zId3"
      },
      "source": [
        "### Plotting Loss Values"
      ]
    },
    {
      "cell_type": "markdown",
      "metadata": {
        "id": "qGOjrXY1zLv4"
      },
      "source": [
        "The following line in `plot_loss` plots the training loss:\n",
        "\n",
        "```python\n",
        "ax.plot(list(range(skip_start, len(self.losses))), self.losses[skip_start:], label='train')\n",
        "```\n",
        "\n",
        "I'll see if I can recreate that plot:"
      ]
    },
    {
      "cell_type": "code",
      "execution_count": 9,
      "metadata": {
        "colab": {
          "base_uri": "https://localhost:8080/",
          "height": 430
        },
        "id": "LZkJECgI0WKJ",
        "outputId": "770225b5-2f5e-494a-ce05-30d84f9c236f"
      },
      "outputs": [
        {
          "data": {
            "image/png": "[encoded data removed]",
            "text/plain": [
              "<Figure size 640x480 with 1 Axes>"
            ]
          },
          "metadata": {},
          "output_type": "display_data"
        }
      ],
      "source": [
        "ax=plt.gca()\n",
        "ax.plot(list(range(5, len(learn.recorder.losses))), learn.recorder.losses[5:], label='train');"
      ]
    },
    {
      "cell_type": "markdown",
      "metadata": {
        "id": "t0Gujm9e0h7y"
      },
      "source": [
        "Cool, that looks the same! Now for the validation loss:"
      ]
    },
    {
      "cell_type": "code",
      "execution_count": 10,
      "metadata": {
        "colab": {
          "base_uri": "https://localhost:8080/",
          "height": 430
        },
        "id": "uP4Ht3ngyQe_",
        "outputId": "4fdda7bf-4643-4987-b6b2-72ea16fead27"
      },
      "outputs": [
        {
          "data": {
            "image/png": "[encoded data removed]",
            "text/plain": [
              "<Figure size 640x480 with 1 Axes>"
            ]
          },
          "metadata": {},
          "output_type": "display_data"
        }
      ],
      "source": [
        "ax=plt.gca()\n",
        "ax.plot(list(range(5, len(learn.recorder.losses))), learn.recorder.losses[5:], label='train');\n",
        "idx = (np.array(learn.recorder.iters)<5).sum()\n",
        "valid_col = learn.recorder.metric_names.index('valid_loss') - 1\n",
        "ax.plot(learn.recorder.iters[idx:], L(learn.recorder.values[idx:]).itemgot(valid_col), label='valid')\n",
        "ax.legend();"
      ]
    },
    {
      "cell_type": "markdown",
      "metadata": {
        "id": "pwduKexN1AT8"
      },
      "source": [
        "Nice, I'm able to recreate `plot_loss` using the raw data recorded in the `Recorder`."
      ]
    },
    {
      "cell_type": "markdown",
      "metadata": {
        "id": "GE7uaai41IrN"
      },
      "source": [
        "## Plotting Distribution of Weights"
      ]
    },
    {
      "cell_type": "markdown",
      "metadata": {
        "id": "3kypKgmQ1Nin"
      },
      "source": [
        "Next, I want to be able to visualize (and calculate summary statistics for) the weights of the model.\n",
        "\n",
        "The model has four sets of parameters: the user and item weights, and the user and item biases."
      ]
    },
    {
      "cell_type": "code",
      "execution_count": 11,
      "metadata": {
        "colab": {
          "base_uri": "https://localhost:8080/"
        },
        "id": "6XCxi5Y42FRV",
        "outputId": "e8c13996-132e-4ba1-e130-6ba13a12ddbc"
      },
      "outputs": [
        {
          "data": {
            "text/plain": [
              "EmbeddingDotBias(\n",
              "  (u_weight): Embedding(944, 50)\n",
              "  (i_weight): Embedding(1665, 50)\n",
              "  (u_bias): Embedding(944, 1)\n",
              "  (i_bias): Embedding(1665, 1)\n",
              ")"
            ]
          },
          "execution_count": 11,
          "metadata": {},
          "output_type": "execute_result"
        }
      ],
      "source": [
        "learn.model"
      ]
    },
    {
      "cell_type": "code",
      "execution_count": 12,
      "metadata": {
        "colab": {
          "base_uri": "https://localhost:8080/"
        },
        "id": "oYlX2FNbzhlQ",
        "outputId": "3a13dd45-a77c-4c2e-f9b8-21f484f592b3"
      },
      "outputs": [
        {
          "name": "stdout",
          "output_type": "stream",
          "text": [
            "torch.Size([944, 50])\n",
            "torch.Size([1665, 50])\n",
            "torch.Size([944, 1])\n",
            "torch.Size([1665, 1])\n"
          ]
        }
      ],
      "source": [
        "for p in learn.model.parameters():\n",
        "  print(p.shape)"
      ]
    },
    {
      "cell_type": "markdown",
      "metadata": {
        "id": "jM04ZbKx2efO"
      },
      "source": [
        "Let's take a look at the first set of parameters, which are the `u_weight` (user weight) parameters. This is the embedding with 50 latent factors for each user."
      ]
    },
    {
      "cell_type": "code",
      "execution_count": 13,
      "metadata": {
        "colab": {
          "base_uri": "https://localhost:8080/",
          "height": 430
        },
        "id": "DGP8-lAp2Ygg",
        "outputId": "8905773e-b3fd-47eb-9234-6bf3880cb380"
      },
      "outputs": [
        {
          "data": {
            "image/png": "[encoded data removed]",
            "text/plain": [
              "<Figure size 640x480 with 1 Axes>"
            ]
          },
          "metadata": {},
          "output_type": "display_data"
        }
      ],
      "source": [
        "pd.Series(first(learn.model.parameters()).flatten().detach().numpy()).hist();"
      ]
    },
    {
      "cell_type": "markdown",
      "metadata": {
        "id": "C9d8MJfr2zeK"
      },
      "source": [
        "Next, let's look at the bias parameters for the users (`u_bias`):"
      ]
    },
    {
      "cell_type": "code",
      "execution_count": 14,
      "metadata": {
        "id": "FPnakSbE15jA"
      },
      "outputs": [],
      "source": [
        "u_bias_params = next(itertools.islice(learn.model.parameters(), 2, None))"
      ]
    },
    {
      "cell_type": "code",
      "execution_count": 15,
      "metadata": {
        "colab": {
          "base_uri": "https://localhost:8080/"
        },
        "id": "2qALsZx13dL-",
        "outputId": "76649084-3218-4cab-81e1-210133939fa7"
      },
      "outputs": [
        {
          "data": {
            "text/plain": [
              "torch.Size([944, 1])"
            ]
          },
          "execution_count": 15,
          "metadata": {},
          "output_type": "execute_result"
        }
      ],
      "source": [
        "u_bias_params.shape"
      ]
    },
    {
      "cell_type": "code",
      "execution_count": 16,
      "metadata": {
        "colab": {
          "base_uri": "https://localhost:8080/",
          "height": 430
        },
        "id": "dCtDi-aJ30xZ",
        "outputId": "9aa025cc-79ba-4dff-ce7c-9a9d198865b2"
      },
      "outputs": [
        {
          "data": {
            "image/png": "[encoded data removed]",
            "text/plain": [
              "<Figure size 640x480 with 1 Axes>"
            ]
          },
          "metadata": {},
          "output_type": "display_data"
        }
      ],
      "source": [
        "pd.Series(u_bias_params.flatten().detach().numpy()).hist();"
      ]
    },
    {
      "cell_type": "markdown",
      "metadata": {
        "id": "2ghaH1hJ4BFL"
      },
      "source": [
        "Looking at all of the parameters:"
      ]
    },
    {
      "cell_type": "code",
      "execution_count": 17,
      "metadata": {
        "colab": {
          "base_uri": "https://localhost:8080/"
        },
        "id": "66OMfk7R4ZUx",
        "outputId": "cf31bd87-7592-4c96-92f7-d85bddb8a633"
      },
      "outputs": [
        {
          "data": {
            "text/plain": [
              "(torch.Size([133059]), 133059)"
            ]
          },
          "execution_count": 17,
          "metadata": {},
          "output_type": "execute_result"
        }
      ],
      "source": [
        "torch.nn.utils.parameters_to_vector(learn.model.parameters()).shape, 944*50 + 944*1 + 1665*50 + 1665*1"
      ]
    },
    {
      "cell_type": "code",
      "execution_count": 18,
      "metadata": {
        "colab": {
          "base_uri": "https://localhost:8080/",
          "height": 430
        },
        "id": "qQyB-ccu4mAY",
        "outputId": "197e5dd4-dcab-4694-bdf7-f63aa6ed3ea6"
      },
      "outputs": [
        {
          "data": {
            "image/png": "[encoded data removed]",
            "text/plain": [
              "<Figure size 640x480 with 1 Axes>"
            ]
          },
          "metadata": {},
          "output_type": "display_data"
        }
      ],
      "source": [
        "pd.Series(torch.nn.utils.parameters_to_vector(learn.model.parameters()).detach().numpy()).hist();"
      ]
    },
    {
      "cell_type": "markdown",
      "metadata": {
        "id": "hqdfOJfI2XSG"
      },
      "source": [
        "Now I know how to access and plot the training loss, validation loss and model weights."
      ]
    },
    {
      "cell_type": "markdown",
      "metadata": {
        "id": "OB8BDSlq4zCS"
      },
      "source": [
        "## Estimating Runtime and Storage Size"
      ]
    },
    {
      "cell_type": "markdown",
      "metadata": {
        "id": "mlJt-uap41Mr"
      },
      "source": [
        "Each model takes about 1 minute to run on Colab. I trained on Paperspace CPUs but it was taking 30+ seconds per epoch (while it takes 10-14 seconds on Colab). I have a 2015 Mac so I can't install fastai locally (if I'm interpreting [this note correctly](https://github.com/fastai/fastai/tree/master#:~:text=Mac%20is%20not%20supported)).\n"
      ]
    },
    {
      "cell_type": "markdown",
      "metadata": {
        "id": "zdwpHeVtUqdM"
      },
      "source": [
        "Originally I was going to use `torch.arange` to create weight decay values (without subtracting `1e-6` from the upper bound as I eventually did below), but it acculumated floating point error. The following tensor should stop at `0.0990` but goes up to `0.1000` because of floating point error."
      ]
    },
    {
      "cell_type": "code",
      "execution_count": 19,
      "metadata": {
        "colab": {
          "base_uri": "https://localhost:8080/"
        },
        "id": "wjVUkDPr_U3B",
        "outputId": "ecacf6e8-a6e9-4d74-d4fe-e3a785f36832"
      },
      "outputs": [
        {
          "data": {
            "text/plain": [
              "tensor([0.0100, 0.0110, 0.0120, 0.0130, 0.0140, 0.0150, 0.0160, 0.0170, 0.0180,\n",
              "        0.0190, 0.0200, 0.0210, 0.0220, 0.0230, 0.0240, 0.0250, 0.0260, 0.0270,\n",
              "        0.0280, 0.0290, 0.0300, 0.0310, 0.0320, 0.0330, 0.0340, 0.0350, 0.0360,\n",
              "        0.0370, 0.0380, 0.0390, 0.0400, 0.0410, 0.0420, 0.0430, 0.0440, 0.0450,\n",
              "        0.0460, 0.0470, 0.0480, 0.0490, 0.0500, 0.0510, 0.0520, 0.0530, 0.0540,\n",
              "        0.0550, 0.0560, 0.0570, 0.0580, 0.0590, 0.0600, 0.0610, 0.0620, 0.0630,\n",
              "        0.0640, 0.0650, 0.0660, 0.0670, 0.0680, 0.0690, 0.0700, 0.0710, 0.0720,\n",
              "        0.0730, 0.0740, 0.0750, 0.0760, 0.0770, 0.0780, 0.0790, 0.0800, 0.0810,\n",
              "        0.0820, 0.0830, 0.0840, 0.0850, 0.0860, 0.0870, 0.0880, 0.0890, 0.0900,\n",
              "        0.0910, 0.0920, 0.0930, 0.0940, 0.0950, 0.0960, 0.0970, 0.0980, 0.0990,\n",
              "        0.1000])"
            ]
          },
          "execution_count": 19,
          "metadata": {},
          "output_type": "execute_result"
        }
      ],
      "source": [
        "torch.arange(0.01, 0.1, 0.001)"
      ]
    },
    {
      "cell_type": "markdown",
      "metadata": {},
      "source": [
        "The following `arange` call results in the correct number of values:"
      ]
    },
    {
      "cell_type": "code",
      "execution_count": 20,
      "metadata": {
        "colab": {
          "base_uri": "https://localhost:8080/"
        },
        "id": "mRnyW-O5_K4r",
        "outputId": "8714eeae-7059-4afe-fecf-5cde24623155"
      },
      "outputs": [
        {
          "data": {
            "text/plain": [
              "(torch.Size([90]), torch.Size([90]), torch.Size([90]), torch.Size([90]))"
            ]
          },
          "execution_count": 20,
          "metadata": {},
          "output_type": "execute_result"
        }
      ],
      "source": [
        "torch.arange(0.0001, 0.001-1e-6, 0.00001).shape, \\\n",
        "torch.arange(0.001, 0.01-1e-6, 0.0001).shape, \\\n",
        "torch.arange(0.01, 0.10-1e-6, 0.001).shape, \\\n",
        "torch.arange(0.1, 1.0-1e-6, 0.01).shape"
      ]
    },
    {
      "cell_type": "code",
      "execution_count": 21,
      "metadata": {
        "id": "0L3fxW4E4_Vj"
      },
      "outputs": [],
      "source": [
        "wds = torch.cat([\n",
        "    torch.arange(0.0001, 0.001-1e-6, 0.00001),\n",
        "    torch.arange(0.001, 0.01-1e-6, 0.0001),\n",
        "    torch.arange(0.01, 0.10-1e-6, 0.001),\n",
        "    torch.arange(0.1, 1.0-1e-6, 0.01)])"
      ]
    },
    {
      "cell_type": "code",
      "execution_count": 22,
      "metadata": {
        "colab": {
          "base_uri": "https://localhost:8080/"
        },
        "id": "PzI04wKx_BOt",
        "outputId": "43716988-8fc4-4843-f0c3-c82d73cf58d9"
      },
      "outputs": [
        {
          "data": {
            "text/plain": [
              "torch.Size([360])"
            ]
          },
          "execution_count": 22,
          "metadata": {},
          "output_type": "execute_result"
        }
      ],
      "source": [
        "wds.shape"
      ]
    },
    {
      "cell_type": "code",
      "execution_count": 23,
      "metadata": {
        "colab": {
          "base_uri": "https://localhost:8080/",
          "height": 430
        },
        "id": "2Nmd19JsbmI0",
        "outputId": "710ccafe-1167-4d35-af75-0d69e45e5256"
      },
      "outputs": [
        {
          "data": {
            "image/png": "[encoded data removed]",
            "text/plain": [
              "<Figure size 640x480 with 1 Axes>"
            ]
          },
          "metadata": {},
          "output_type": "display_data"
        }
      ],
      "source": [
        "pd.Series(wds).plot();"
      ]
    },
    {
      "cell_type": "markdown",
      "metadata": {
        "id": "lJUD1vvtb_jI"
      },
      "source": [
        "Next, I'll estimate the disk space required to store the training loss, validation loss and weights for all 360 models (1 per `wd` value).\n",
        "\n",
        "With ChatGPT's help:"
      ]
    },
    {
      "cell_type": "code",
      "execution_count": 24,
      "metadata": {
        "id": "awxPIfHt7vOr"
      },
      "outputs": [],
      "source": [
        "import pickle\n",
        "import io\n",
        "\n",
        "def get_pickled_object_size(obj):\n",
        "    # Create a BytesIO buffer\n",
        "    buffer = io.BytesIO()\n",
        "    # Pickle the object into the buffer\n",
        "    pickle.dump(obj, buffer)\n",
        "    # Get the size of the buffer\n",
        "    size = buffer.getbuffer().nbytes\n",
        "    return size"
      ]
    },
    {
      "cell_type": "code",
      "execution_count": 25,
      "metadata": {
        "id": "yN2EoW2WcTUC"
      },
      "outputs": [],
      "source": [
        "res = {\n",
        "    'training_loss': learn.recorder.losses,\n",
        "    'iters': learn.recorder.iters,\n",
        "    'valid_cols': learn.recorder.metric_names.index('valid_loss') - 1,\n",
        "    'validation_loss': L(learn.recorder.values[(np.array(learn.recorder.iters)<5).sum():]).itemgot(learn.recorder.metric_names.index('valid_loss') - 1),\n",
        "    'weights': torch.nn.utils.parameters_to_vector(learn.model.parameters())\n",
        "}"
      ]
    },
    {
      "cell_type": "code",
      "execution_count": 26,
      "metadata": {
        "colab": {
          "base_uri": "https://localhost:8080/"
        },
        "id": "pe7DK4jkdCMf",
        "outputId": "f37542f1-0885-4009-ddc0-b6adcbae4bd0"
      },
      "outputs": [
        {
          "name": "stdout",
          "output_type": "stream",
          "text": [
            "The size of the pickled object for one model is 2.345662 MB.\n",
            "The total size of the pickled objects for 360 models will be ~844.43832 MB.\n"
          ]
        }
      ],
      "source": [
        "size = get_pickled_object_size(res)\n",
        "print(f'The size of the pickled object for one model is {size/1e6} MB.')\n",
        "print(f'The total size of the pickled objects for 360 models will be ~{360*size/1e6} MB.')"
      ]
    },
    {
      "cell_type": "markdown",
      "metadata": {
        "id": "g-eM4Or6dqxS"
      },
      "source": [
        "That's quite a bit. And seem unnecessarily large. `learn.recorder.losses` is a list of tensors:"
      ]
    },
    {
      "cell_type": "code",
      "execution_count": 27,
      "metadata": {
        "colab": {
          "base_uri": "https://localhost:8080/"
        },
        "id": "9NyplLm7dp_c",
        "outputId": "4f1f99d1-f76e-4e0c-cc0b-714d1eef0d86"
      },
      "outputs": [
        {
          "data": {
            "text/plain": [
              "[TensorBase(1.8254),\n",
              " TensorBase(1.8496),\n",
              " TensorBase(1.9542),\n",
              " TensorBase(1.8464),\n",
              " TensorBase(1.9200)]"
            ]
          },
          "execution_count": 27,
          "metadata": {},
          "output_type": "execute_result"
        }
      ],
      "source": [
        "learn.recorder.losses[:5]"
      ]
    },
    {
      "cell_type": "markdown",
      "metadata": {
        "id": "JmO_eQ0Ud1jL"
      },
      "source": [
        "Perhaps I can convert that to a list of floats and see if it reduces the storage size:"
      ]
    },
    {
      "cell_type": "code",
      "execution_count": 28,
      "metadata": {
        "colab": {
          "base_uri": "https://localhost:8080/"
        },
        "id": "oYO0s0eRdXVB",
        "outputId": "3699550c-2d14-442b-b712-a4183d427940"
      },
      "outputs": [
        {
          "name": "stdout",
          "output_type": "stream",
          "text": [
            "The size of the pickled object for one model is 0.589096 MB.\n",
            "The total size of the pickled objects for 360 models will be ~212.07456 MB.\n"
          ]
        }
      ],
      "source": [
        "res = {\n",
        "    'training_loss': [t.item() for t in learn.recorder.losses],\n",
        "    'iters': learn.recorder.iters,\n",
        "    'valid_cols': learn.recorder.metric_names.index('valid_loss') - 1,\n",
        "    'validation_loss': L(learn.recorder.values[(np.array(learn.recorder.iters)<5).sum():]).itemgot(learn.recorder.metric_names.index('valid_loss') - 1),\n",
        "    'weights': torch.nn.utils.parameters_to_vector(learn.model.parameters())\n",
        "}\n",
        "\n",
        "size = get_pickled_object_size(res)\n",
        "print(f'The size of the pickled object for one model is {size/1e6} MB.')\n",
        "print(f'The total size of the pickled objects for 360 models will be ~{360*size/1e6} MB.')"
      ]
    },
    {
      "cell_type": "markdown",
      "metadata": {
        "id": "BxYlSUYnd-SS"
      },
      "source": [
        "That's better! Most of the size is coming from my weights."
      ]
    },
    {
      "cell_type": "code",
      "execution_count": 29,
      "metadata": {
        "colab": {
          "base_uri": "https://localhost:8080/"
        },
        "id": "QGf14TmPeQno",
        "outputId": "576ca8bc-5079-444e-b2dd-fbbb34cb85c9"
      },
      "outputs": [
        {
          "name": "stdout",
          "output_type": "stream",
          "text": [
            "The size of the pickled object for one model is 0.532648 MB.\n",
            "The total size of the pickled objects for 360 models will be ~191.75328 MB.\n"
          ]
        }
      ],
      "source": [
        "size = get_pickled_object_size(torch.nn.utils.parameters_to_vector(learn.model.parameters()))\n",
        "print(f'The size of the pickled object for one model is {size/1e6} MB.')\n",
        "print(f'The total size of the pickled objects for 360 models will be ~{360*size/1e6} MB.')"
      ]
    },
    {
      "cell_type": "markdown",
      "metadata": {
        "id": "A7K6qmX9fPUU"
      },
      "source": [
        "With ChatGPT's help: there are 133059 float32 elements in the `weights` tensor. Each float32 element is 4 bytes large. 4 x 133059 is 532236 bytes, which is ~0.5MB. I'll keep them as float32's and accept the larger disk space (since I'm keeping this only temporarily)."
      ]
    },
    {
      "cell_type": "markdown",
      "metadata": {
        "id": "JHGDNbdcfwOR"
      },
      "source": [
        "## Running the Experiment"
      ]
    },
    {
      "cell_type": "markdown",
      "metadata": {
        "id": "I8A-bWYLfyWE"
      },
      "source": [
        "Now I can run the experiment and collect the data on it. I'll do a quick run with 3 models and save the `Learner` objects to make sure I'm collecting data correctly."
      ]
    },
    {
      "cell_type": "code",
      "execution_count": 30,
      "metadata": {
        "colab": {
          "base_uri": "https://localhost:8080/",
          "height": 1000
        },
        "id": "2re9MI0Ufxt0",
        "outputId": "efd9433f-7f59-4ac4-e884-c59b810db9cc"
      },
      "outputs": [
        {
          "data": {
            "text/html": [
              "\n",
              "<style>\n",
              "    /* Turns off some styling */\n",
              "    progress {\n",
              "        /* gets rid of default border in Firefox and Opera. */\n",
              "        border: none;\n",
              "        /* Needs to be in here for Safari polyfill so background images work as expected. */\n",
              "        background-size: auto;\n",
              "    }\n",
              "    progress:not([value]), progress:not([value])::-webkit-progress-bar {\n",
              "        background: repeating-linear-gradient(45deg, #7e7e7e, #7e7e7e 10px, #5c5c5c 10px, #5c5c5c 20px);\n",
              "    }\n",
              "    .progress-bar-interrupted, .progress-bar-interrupted::-webkit-progress-bar {\n",
              "        background: #F44336;\n",
              "    }\n",
              "</style>\n"
            ],
            "text/plain": [
              "<IPython.core.display.HTML object>"
            ]
          },
          "metadata": {},
          "output_type": "display_data"
        },
        {
          "data": {
            "text/html": [
              "<table border=\"1\" class=\"dataframe\">\n",
              "  <thead>\n",
              "    <tr style=\"text-align: left;\">\n",
              "      <th>epoch</th>\n",
              "      <th>train_loss</th>\n",
              "      <th>valid_loss</th>\n",
              "      <th>time</th>\n",
              "    </tr>\n",
              "  </thead>\n",
              "  <tbody>\n",
              "    <tr>\n",
              "      <td>0</td>\n",
              "      <td>0.867206</td>\n",
              "      <td>0.947485</td>\n",
              "      <td>00:12</td>\n",
              "    </tr>\n",
              "    <tr>\n",
              "      <td>1</td>\n",
              "      <td>0.612190</td>\n",
              "      <td>0.929238</td>\n",
              "      <td>00:12</td>\n",
              "    </tr>\n",
              "    <tr>\n",
              "      <td>2</td>\n",
              "      <td>0.401040</td>\n",
              "      <td>0.964420</td>\n",
              "      <td>00:13</td>\n",
              "    </tr>\n",
              "    <tr>\n",
              "      <td>3</td>\n",
              "      <td>0.298337</td>\n",
              "      <td>0.977934</td>\n",
              "      <td>00:12</td>\n",
              "    </tr>\n",
              "    <tr>\n",
              "      <td>4</td>\n",
              "      <td>0.293123</td>\n",
              "      <td>0.979958</td>\n",
              "      <td>00:12</td>\n",
              "    </tr>\n",
              "  </tbody>\n",
              "</table>"
            ],
            "text/plain": [
              "<IPython.core.display.HTML object>"
            ]
          },
          "metadata": {},
          "output_type": "display_data"
        },
        {
          "data": {
            "text/html": [
              "\n",
              "<style>\n",
              "    /* Turns off some styling */\n",
              "    progress {\n",
              "        /* gets rid of default border in Firefox and Opera. */\n",
              "        border: none;\n",
              "        /* Needs to be in here for Safari polyfill so background images work as expected. */\n",
              "        background-size: auto;\n",
              "    }\n",
              "    progress:not([value]), progress:not([value])::-webkit-progress-bar {\n",
              "        background: repeating-linear-gradient(45deg, #7e7e7e, #7e7e7e 10px, #5c5c5c 10px, #5c5c5c 20px);\n",
              "    }\n",
              "    .progress-bar-interrupted, .progress-bar-interrupted::-webkit-progress-bar {\n",
              "        background: #F44336;\n",
              "    }\n",
              "</style>\n"
            ],
            "text/plain": [
              "<IPython.core.display.HTML object>"
            ]
          },
          "metadata": {},
          "output_type": "display_data"
        },
        {
          "data": {
            "text/html": [
              "<table border=\"1\" class=\"dataframe\">\n",
              "  <thead>\n",
              "    <tr style=\"text-align: left;\">\n",
              "      <th>epoch</th>\n",
              "      <th>train_loss</th>\n",
              "      <th>valid_loss</th>\n",
              "      <th>time</th>\n",
              "    </tr>\n",
              "  </thead>\n",
              "  <tbody>\n",
              "    <tr>\n",
              "      <td>0</td>\n",
              "      <td>0.879830</td>\n",
              "      <td>0.946919</td>\n",
              "      <td>00:12</td>\n",
              "    </tr>\n",
              "    <tr>\n",
              "      <td>1</td>\n",
              "      <td>0.544347</td>\n",
              "      <td>0.930262</td>\n",
              "      <td>00:12</td>\n",
              "    </tr>\n",
              "    <tr>\n",
              "      <td>2</td>\n",
              "      <td>0.416691</td>\n",
              "      <td>0.962877</td>\n",
              "      <td>00:12</td>\n",
              "    </tr>\n",
              "    <tr>\n",
              "      <td>3</td>\n",
              "      <td>0.298801</td>\n",
              "      <td>0.978486</td>\n",
              "      <td>00:12</td>\n",
              "    </tr>\n",
              "    <tr>\n",
              "      <td>4</td>\n",
              "      <td>0.269458</td>\n",
              "      <td>0.979087</td>\n",
              "      <td>00:11</td>\n",
              "    </tr>\n",
              "  </tbody>\n",
              "</table>"
            ],
            "text/plain": [
              "<IPython.core.display.HTML object>"
            ]
          },
          "metadata": {},
          "output_type": "display_data"
        },
        {
          "data": {
            "text/html": [
              "\n",
              "<style>\n",
              "    /* Turns off some styling */\n",
              "    progress {\n",
              "        /* gets rid of default border in Firefox and Opera. */\n",
              "        border: none;\n",
              "        /* Needs to be in here for Safari polyfill so background images work as expected. */\n",
              "        background-size: auto;\n",
              "    }\n",
              "    progress:not([value]), progress:not([value])::-webkit-progress-bar {\n",
              "        background: repeating-linear-gradient(45deg, #7e7e7e, #7e7e7e 10px, #5c5c5c 10px, #5c5c5c 20px);\n",
              "    }\n",
              "    .progress-bar-interrupted, .progress-bar-interrupted::-webkit-progress-bar {\n",
              "        background: #F44336;\n",
              "    }\n",
              "</style>\n"
            ],
            "text/plain": [
              "<IPython.core.display.HTML object>"
            ]
          },
          "metadata": {},
          "output_type": "display_data"
        },
        {
          "data": {
            "text/html": [
              "<table border=\"1\" class=\"dataframe\">\n",
              "  <thead>\n",
              "    <tr style=\"text-align: left;\">\n",
              "      <th>epoch</th>\n",
              "      <th>train_loss</th>\n",
              "      <th>valid_loss</th>\n",
              "      <th>time</th>\n",
              "    </tr>\n",
              "  </thead>\n",
              "  <tbody>\n",
              "    <tr>\n",
              "      <td>0</td>\n",
              "      <td>0.867352</td>\n",
              "      <td>0.940780</td>\n",
              "      <td>00:11</td>\n",
              "    </tr>\n",
              "    <tr>\n",
              "      <td>1</td>\n",
              "      <td>0.624375</td>\n",
              "      <td>0.930750</td>\n",
              "      <td>00:12</td>\n",
              "    </tr>\n",
              "    <tr>\n",
              "      <td>2</td>\n",
              "      <td>0.405802</td>\n",
              "      <td>0.975494</td>\n",
              "      <td>00:12</td>\n",
              "    </tr>\n",
              "    <tr>\n",
              "      <td>3</td>\n",
              "      <td>0.325339</td>\n",
              "      <td>0.991441</td>\n",
              "      <td>00:12</td>\n",
              "    </tr>\n",
              "    <tr>\n",
              "      <td>4</td>\n",
              "      <td>0.300811</td>\n",
              "      <td>0.993090</td>\n",
              "      <td>00:12</td>\n",
              "    </tr>\n",
              "  </tbody>\n",
              "</table>"
            ],
            "text/plain": [
              "<IPython.core.display.HTML object>"
            ]
          },
          "metadata": {},
          "output_type": "display_data"
        },
        {
          "data": {
            "image/png": "[encoded data removed]",
            "text/plain": [
              "<Figure size 640x480 with 1 Axes>"
            ]
          },
          "metadata": {},
          "output_type": "display_data"
        }
      ],
      "source": [
        "res = {'training_loss': [], 'iters': [], 'validation_loss': [], 'weights': []}\n",
        "learners = []\n",
        "count = 0\n",
        "\n",
        "for wd in wds:\n",
        "  if count == 3: break\n",
        "  learn = collab_learner(dls, n_factors=50, y_range=(0, 5.5))\n",
        "  learn.fit_one_cycle(5, 5e-3, wd=wd.item())\n",
        "  learn.recorder.plot_loss();\n",
        "  learners.append(learn)\n",
        "\n",
        "  res['training_loss'].append([t.item() for t in learn.recorder.losses])\n",
        "  res['iters'].append(learn.recorder.iters)\n",
        "  res['validation_loss'].append(L(learn.recorder.values[(np.array(learn.recorder.iters)<5).sum():]).itemgot(learn.recorder.metric_names.index('valid_loss') - 1))\n",
        "  res['weights'].append(torch.nn.utils.parameters_to_vector(learn.model.parameters()))\n",
        "  count += 1"
      ]
    },
    {
      "cell_type": "markdown",
      "metadata": {
        "id": "okoF1zyJjVLO"
      },
      "source": [
        "Good to know---it plots on the same chart! I could just use this functionality instead of saving the training and validation loss values, but I want to keep those to do additional visualizations."
      ]
    },
    {
      "cell_type": "markdown",
      "metadata": {
        "id": "YQFlZqmyjr2f"
      },
      "source": [
        "Next, I'll check that the recorded values are the same as the `Learner` object."
      ]
    },
    {
      "cell_type": "code",
      "execution_count": 31,
      "metadata": {
        "colab": {
          "base_uri": "https://localhost:8080/"
        },
        "id": "5uC9G8Zhg9gU",
        "outputId": "763d5d72-cc92-4a22-b9eb-e4baed8cbce4"
      },
      "outputs": [
        {
          "data": {
            "text/plain": [
              "3"
            ]
          },
          "execution_count": 31,
          "metadata": {},
          "output_type": "execute_result"
        }
      ],
      "source": [
        "len(res['training_loss'])"
      ]
    },
    {
      "cell_type": "code",
      "execution_count": 32,
      "metadata": {
        "colab": {
          "base_uri": "https://localhost:8080/"
        },
        "id": "k5UL6FpPjq7u",
        "outputId": "d13888b6-813d-4c34-c4b9-ee56b24bf795"
      },
      "outputs": [
        {
          "data": {
            "text/plain": [
              "(True, True, True, tensor(133059))"
            ]
          },
          "execution_count": 32,
          "metadata": {},
          "output_type": "execute_result"
        }
      ],
      "source": [
        "res['training_loss'][0] == [t.item() for t in learners[0].recorder.losses], \\\n",
        "res['iters'][1] == learners[1].recorder.iters, \\\n",
        "res['validation_loss'][2] == L(learners[2].recorder.values[(np.array(learners[2].recorder.iters)<5).sum():]).itemgot(learners[2].recorder.metric_names.index('valid_loss') - 1), \\\n",
        "(res['weights'][2] == torch.nn.utils.parameters_to_vector(learners[2].model.parameters())).sum()\n"
      ]
    },
    {
      "cell_type": "markdown",
      "metadata": {
        "id": "xG9f9mRvmynk"
      },
      "source": [
        "Testing that I can pickle and unpickle the results:"
      ]
    },
    {
      "cell_type": "code",
      "execution_count": 33,
      "metadata": {
        "colab": {
          "base_uri": "https://localhost:8080/"
        },
        "id": "8XK0yvfVm1EW",
        "outputId": "0bfd8e5b-b54b-4e05-d6bd-a467ae35e4a5"
      },
      "outputs": [
        {
          "data": {
            "text/plain": [
              "(True, True, True, tensor(133059))"
            ]
          },
          "execution_count": 33,
          "metadata": {},
          "output_type": "execute_result"
        }
      ],
      "source": [
        "save_pickle('wd_res_test.pkl', res)\n",
        "res = load_pickle('/content/wd_res_test.pkl')\n",
        "\n",
        "res['training_loss'][0] == [t.item() for t in learners[0].recorder.losses], \\\n",
        "res['iters'][1] == learners[1].recorder.iters, \\\n",
        "res['validation_loss'][2] == L(learners[2].recorder.values[(np.array(learners[2].recorder.iters)<5).sum():]).itemgot(learners[2].recorder.metric_names.index('valid_loss') - 1), \\\n",
        "(res['weights'][2] == torch.nn.utils.parameters_to_vector(learners[2].model.parameters())).sum()"
      ]
    },
    {
      "cell_type": "markdown",
      "metadata": {
        "id": "PnWSXSLum9Lv"
      },
      "source": [
        "Nice!"
      ]
    },
    {
      "cell_type": "markdown",
      "metadata": {
        "id": "K3xD0aZwlQ2y"
      },
      "source": [
        "However, I noticed that some epochs took up to 13 seconds. I wonder if training time is affected by weight decay value? I'll train with a much larger weight decay and see if it speeds up the training."
      ]
    },
    {
      "cell_type": "code",
      "execution_count": 34,
      "metadata": {
        "colab": {
          "base_uri": "https://localhost:8080/",
          "height": 206
        },
        "id": "P5g8VwWovtBK",
        "outputId": "36266444-0e82-4a5f-9489-4fed4f9a24b2"
      },
      "outputs": [
        {
          "data": {
            "text/html": [
              "\n",
              "<style>\n",
              "    /* Turns off some styling */\n",
              "    progress {\n",
              "        /* gets rid of default border in Firefox and Opera. */\n",
              "        border: none;\n",
              "        /* Needs to be in here for Safari polyfill so background images work as expected. */\n",
              "        background-size: auto;\n",
              "    }\n",
              "    progress:not([value]), progress:not([value])::-webkit-progress-bar {\n",
              "        background: repeating-linear-gradient(45deg, #7e7e7e, #7e7e7e 10px, #5c5c5c 10px, #5c5c5c 20px);\n",
              "    }\n",
              "    .progress-bar-interrupted, .progress-bar-interrupted::-webkit-progress-bar {\n",
              "        background: #F44336;\n",
              "    }\n",
              "</style>\n"
            ],
            "text/plain": [
              "<IPython.core.display.HTML object>"
            ]
          },
          "metadata": {},
          "output_type": "display_data"
        },
        {
          "data": {
            "text/html": [
              "<table border=\"1\" class=\"dataframe\">\n",
              "  <thead>\n",
              "    <tr style=\"text-align: left;\">\n",
              "      <th>epoch</th>\n",
              "      <th>train_loss</th>\n",
              "      <th>valid_loss</th>\n",
              "      <th>time</th>\n",
              "    </tr>\n",
              "  </thead>\n",
              "  <tbody>\n",
              "    <tr>\n",
              "      <td>0</td>\n",
              "      <td>0.990363</td>\n",
              "      <td>1.074203</td>\n",
              "      <td>00:12</td>\n",
              "    </tr>\n",
              "    <tr>\n",
              "      <td>1</td>\n",
              "      <td>1.003346</td>\n",
              "      <td>1.067053</td>\n",
              "      <td>00:12</td>\n",
              "    </tr>\n",
              "    <tr>\n",
              "      <td>2</td>\n",
              "      <td>0.976281</td>\n",
              "      <td>1.029760</td>\n",
              "      <td>00:12</td>\n",
              "    </tr>\n",
              "    <tr>\n",
              "      <td>3</td>\n",
              "      <td>0.978760</td>\n",
              "      <td>1.001970</td>\n",
              "      <td>00:12</td>\n",
              "    </tr>\n",
              "    <tr>\n",
              "      <td>4</td>\n",
              "      <td>0.912565</td>\n",
              "      <td>0.993564</td>\n",
              "      <td>00:12</td>\n",
              "    </tr>\n",
              "  </tbody>\n",
              "</table>"
            ],
            "text/plain": [
              "<IPython.core.display.HTML object>"
            ]
          },
          "metadata": {},
          "output_type": "display_data"
        }
      ],
      "source": [
        "learn = collab_learner(dls, n_factors=50, y_range=(0, 5.5))\n",
        "learn.fit_one_cycle(5, 5e-3, wd=0.9)"
      ]
    },
    {
      "cell_type": "markdown",
      "metadata": {
        "id": "s-OESRiKv0_p"
      },
      "source": [
        "Nope, seems like the training time per epoch just varies."
      ]
    },
    {
      "cell_type": "code",
      "execution_count": 38,
      "metadata": {
        "id": "cRRNuohGl2r7"
      },
      "outputs": [],
      "source": [
        "res = {'wds': wds, 'training_loss': [], 'iters': [], 'validation_loss': [], 'weights': []}\n",
        "\n",
        "for wd in wds:\n",
        "  learn = collab_learner(dls, n_factors=50, y_range=(0, 5.5))\n",
        "  with learn.no_logging(), learn.no_bar():\n",
        "    learn.fit_one_cycle(5, 5e-3, wd=wd.item())\n",
        "\n",
        "  res['training_loss'].append([t.item() for t in learn.recorder.losses])\n",
        "  res['iters'].append(learn.recorder.iters)\n",
        "  res['validation_loss'].append(L(learn.recorder.values[(np.array(learn.recorder.iters)<5).sum():]).itemgot(learn.recorder.metric_names.index('valid_loss') - 1))\n",
        "  res['weights'].append(torch.nn.utils.parameters_to_vector(learn.model.parameters()))\n",
        "\n",
        "save_pickle('wd_res.pkl', res)"
      ]
    },
    {
      "cell_type": "markdown",
      "metadata": {
        "id": "ytNwnJQdMrjO"
      },
      "source": [
        "## Analyzing Training Results"
      ]
    },
    {
      "cell_type": "markdown",
      "metadata": {
        "id": "e2Mq6qJQQS5T"
      },
      "source": [
        "### `matplotlib` Animations"
      ]
    },
    {
      "cell_type": "markdown",
      "metadata": {
        "id": "xpSmMqas1c1_"
      },
      "source": [
        "I'll create an animation with `matplotlib` which highlights the training loss curve for each weight decay value and prints the weight decay value on the plot.\n",
        "\n",
        "To start, I'll make sure that all 360 of my training loss lists are of the same length (6250 steps)."
      ]
    },
    {
      "cell_type": "code",
      "execution_count": 4,
      "metadata": {
        "id": "ALqY36BszXeZ"
      },
      "outputs": [],
      "source": [
        "#wd_res = load_pickle('/content/wd_res.pkl')"
      ]
    },
    {
      "cell_type": "code",
      "execution_count": 10,
      "metadata": {
        "id": "HwWXyLbu0ao8"
      },
      "outputs": [],
      "source": [
        "trn_loss_t = torch.stack([torch.tensor(el) for el in wd_res['training_loss']])"
      ]
    },
    {
      "cell_type": "code",
      "execution_count": 11,
      "metadata": {
        "colab": {
          "base_uri": "https://localhost:8080/"
        },
        "id": "oTz1CQfi1AIA",
        "outputId": "bc7fad24-d4ee-4399-d0ac-ac96d3dd8b9e"
      },
      "outputs": [
        {
          "data": {
            "text/plain": [
              "torch.Size([360, 6250])"
            ]
          },
          "execution_count": 11,
          "metadata": {},
          "output_type": "execute_result"
        }
      ],
      "source": [
        "trn_loss_t.shape # looks good"
      ]
    },
    {
      "cell_type": "markdown",
      "metadata": {
        "id": "zjMvnqYb10UE"
      },
      "source": [
        "Next, I'll create my `x` values for the plot as a range from 0 to 6249."
      ]
    },
    {
      "cell_type": "code",
      "execution_count": 15,
      "metadata": {
        "colab": {
          "base_uri": "https://localhost:8080/"
        },
        "id": "KmxF-njL1QcH",
        "outputId": "cf0e0cc0-8d77-4a6d-d52f-4a481c257cab"
      },
      "outputs": [
        {
          "data": {
            "text/plain": [
              "(6250, [0, 1, 2, 3, 4], [6245, 6246, 6247, 6248, 6249])"
            ]
          },
          "execution_count": 15,
          "metadata": {},
          "output_type": "execute_result"
        }
      ],
      "source": [
        "x = list(range(len(wd_res['training_loss'][0])))\n",
        "len(x), x[:5], x[-5:]"
      ]
    },
    {
      "cell_type": "markdown",
      "metadata": {
        "id": "GwkYRv9zy1ld"
      },
      "source": [
        "With ChatGPT's help, I used the following code to create an animated GIF which highlights the training and validation loss curves for the given weight decay value."
      ]
    },
    {
      "cell_type": "code",
      "execution_count": null,
      "metadata": {
        "id": "Z4O3p9kKMQbg"
      },
      "outputs": [],
      "source": [
        "#| code-fold: true\n",
        "#| code-summary: \"Show the code\"\n",
        "\n",
        "import numpy as np\n",
        "import matplotlib.pyplot as plt\n",
        "from matplotlib.animation import FuncAnimation, PillowWriter\n",
        "\n",
        "# Prepare Data\n",
        "x = list(range(len(wd_res['training_loss'][0])))\n",
        "\n",
        "data = wd_res['training_loss']\n",
        "\n",
        "labels = wd_res['wds']\n",
        "\n",
        "# Create Static Plot\n",
        "fig, ax = plt.subplots()\n",
        "ax.set_xlabel('Step')\n",
        "ax.set_ylabel('Training Loss')\n",
        "\n",
        "lines = [ax.plot(x, y, alpha=0.0, color='#ff0088', linewidth=2)[0] for y in data]  # Initial lines with lower opacity\n",
        "text = ax.text(0.5, 1.05, \"\", transform=ax.transAxes, ha=\"center\")\n",
        "\n",
        "# Define Animation Function\n",
        "def animate(i):\n",
        "    # Reset all lines to low opacity\n",
        "    for line in lines:\n",
        "        line.set_alpha(0.0)\n",
        "\n",
        "    # Highlight the current line\n",
        "    lines[i].set_alpha(1.0)\n",
        "\n",
        "    # Update the text\n",
        "    text.set_text(f\"weight decay = {labels[i].item():.5f}\")\n",
        "\n",
        "    return lines + [text]\n",
        "\n",
        "# Create Animation\n",
        "ani = FuncAnimation(fig, animate, frames=len(data), interval=150, blit=True)\n",
        "\n",
        "# Save as GIF\n",
        "gif_writer = PillowWriter(fps=6)\n",
        "ani.save('training_loss.gif', writer=gif_writer)"
      ]
    },
    {
      "cell_type": "markdown",
      "metadata": {},
      "source": [
        "Here's the GIF for training loss. The loss curve slowly moves upward with the minimum loss value increasing as weight decay increases. It really starts picking up at a weight decay value of around 0.1."
      ]
    },
    {
      "cell_type": "markdown",
      "metadata": {},
      "source": [
        "![](training_loss.gif)"
      ]
    },
    {
      "cell_type": "markdown",
      "metadata": {},
      "source": [
        "Here's the GIF for the validation loss---the loss curve starts out decreasing first then increasing and at a weight decay value of around 0.03, starts decreasing monotonically with the minimum loss reaching its minimum. It starts to shift upwards again at around a loss of 0.3."
      ]
    },
    {
      "cell_type": "markdown",
      "metadata": {},
      "source": [
        "![](validation_loss.gif)"
      ]
    },
    {
      "cell_type": "markdown",
      "metadata": {
        "id": "Sg0vvRQPLkKk"
      },
      "source": [
        "Next, I'll animate the distribution of the weights (as weight decay value changes), modifying the above code accordingly:"
      ]
    },
    {
      "cell_type": "code",
      "execution_count": null,
      "metadata": {
        "id": "hK6x5-SP-UIP"
      },
      "outputs": [],
      "source": [
        "#| code-fold: true\n",
        "#| code-summary: \"Show the code\"\n",
        "\n",
        "import numpy as np\n",
        "import matplotlib.pyplot as plt\n",
        "from matplotlib.animation import FuncAnimation, PillowWriter\n",
        "\n",
        "# Prepare Data\n",
        "data = wd_res['weights']\n",
        "labels = wd_res['wds']\n",
        "\n",
        "# Create Static Plot\n",
        "fig, ax = plt.subplots()\n",
        "ax.set_xlabel('Weights')\n",
        "ax.set_ylabel('Count')\n",
        "\n",
        "# Define Animation Function\n",
        "def animate(i):\n",
        "    ax.clear()  # Clear previous histogram\n",
        "    n, bins, patches = ax.hist(data[i].detach().numpy())\n",
        "    ax.set_title(f\"weight decay = {labels[i].item():.5f}\")\n",
        "    ax.set_xlabel('Weights')\n",
        "    ax.set_ylabel('Count')\n",
        "    ax.set_xlim(-0.5, 0.5)  # Set x-axis limits to keep consistent across frames\n",
        "    ax.set_ylim(0, 75000)  # Set y-axis limits to keep consistent across frames\n",
        "    return patches\n",
        "\n",
        "# Create Animation\n",
        "ani = FuncAnimation(fig, animate, frames=len(data), interval=150, blit=True)\n",
        "\n",
        "# Save as GIF\n",
        "gif_writer = PillowWriter(fps=6)\n",
        "ani.save('weights.gif', writer=gif_writer)"
      ]
    },
    {
      "cell_type": "markdown",
      "metadata": {},
      "source": [
        "Here's the resulting GIF showing the changing distribution of weights. Note that the range of weights starts out beyond -0.5 to 0.5, and ends up within -0.2 and +0.2 as the weight decay value increases to 1.0."
      ]
    },
    {
      "cell_type": "markdown",
      "metadata": {},
      "source": [
        "![](weights.gif)"
      ]
    },
    {
      "cell_type": "markdown",
      "metadata": {
        "id": "FjzQW74yQW8Y"
      },
      "source": [
        "### Trends"
      ]
    },
    {
      "cell_type": "markdown",
      "metadata": {
        "id": "Ht7tATi2QZE5"
      },
      "source": [
        "I'll next look at how the final training loss, validation loss and median weight value changes with weight decay values."
      ]
    },
    {
      "cell_type": "code",
      "execution_count": 49,
      "metadata": {
        "colab": {
          "base_uri": "https://localhost:8080/"
        },
        "id": "4G6MGIK7QlE4",
        "outputId": "baa92552-c3ca-4b71-c9c5-0d2a5e681e7a"
      },
      "outputs": [
        {
          "data": {
            "text/plain": [
              "torch.Size([360])"
            ]
          },
          "execution_count": 49,
          "metadata": {},
          "output_type": "execute_result"
        }
      ],
      "source": [
        "min_trn_loss = trn_loss_t.min(dim=-1)[0]\n",
        "min_trn_loss.shape"
      ]
    },
    {
      "cell_type": "code",
      "execution_count": 61,
      "metadata": {
        "colab": {
          "base_uri": "https://localhost:8080/",
          "height": 449
        },
        "id": "3oRSZDitQ4sB",
        "outputId": "00f5a5c7-55d4-4db9-c78b-e25cebbfd2ba"
      },
      "outputs": [
        {
          "data": {
            "image/png": "[encoded data removed]",
            "text/plain": [
              "<Figure size 640x480 with 1 Axes>"
            ]
          },
          "metadata": {},
          "output_type": "display_data"
        }
      ],
      "source": [
        "#| code-fold: true\n",
        "#| code-summary: \"Show the code\"\n",
        "\n",
        "plt.scatter(wd_res['wds'], min_trn_loss, s=5, alpha=0.4)\n",
        "\n",
        "# Set axis labels\n",
        "plt.xlabel('Weight Decay Value')\n",
        "plt.ylabel('Minimum Training Loss')\n",
        "\n",
        "# Display the plot\n",
        "plt.show();"
      ]
    },
    {
      "cell_type": "markdown",
      "metadata": {
        "id": "Qxz0sjgVR8C4"
      },
      "source": [
        "As the weight-decay value increases, so does the training loss."
      ]
    },
    {
      "cell_type": "code",
      "execution_count": 62,
      "metadata": {
        "colab": {
          "base_uri": "https://localhost:8080/"
        },
        "id": "0864bzkPRVCW",
        "outputId": "e3e73b7a-4042-4c80-b425-f97657d3b925"
      },
      "outputs": [
        {
          "data": {
            "text/plain": [
              "torch.Size([360])"
            ]
          },
          "execution_count": 62,
          "metadata": {},
          "output_type": "execute_result"
        }
      ],
      "source": [
        "val_loss_t = torch.stack([torch.tensor(el) for el in wd_res['validation_loss']])\n",
        "min_val_loss = val_loss_t.min(dim=-1)[0]\n",
        "min_val_loss.shape"
      ]
    },
    {
      "cell_type": "code",
      "execution_count": 63,
      "metadata": {
        "colab": {
          "base_uri": "https://localhost:8080/",
          "height": 449
        },
        "id": "144EPSYTSIvM",
        "outputId": "e66e6101-d6e5-465d-b505-3f3251daa5ef"
      },
      "outputs": [
        {
          "data": {
            "image/png": "[encoded data removed]",
            "text/plain": [
              "<Figure size 640x480 with 1 Axes>"
            ]
          },
          "metadata": {},
          "output_type": "display_data"
        }
      ],
      "source": [
        "#| code-fold: true\n",
        "#| code-summary: \"Show the code\"\n",
        "\n",
        "plt.scatter(wd_res['wds'], min_val_loss, s=5, alpha=0.4)\n",
        "\n",
        "# Set axis labels\n",
        "plt.xlabel('Weight Decay Value')\n",
        "plt.ylabel('Minimum Validation Loss')\n",
        "\n",
        "# Display the plot\n",
        "plt.show();"
      ]
    },
    {
      "cell_type": "markdown",
      "metadata": {
        "id": "XVzxGkQMSNzP"
      },
      "source": [
        "The minimum validation loss achieved during training reaches a minimum at a weight decay value of around 0.2 and then increases as weight decay increases to 1.0."
      ]
    },
    {
      "cell_type": "code",
      "execution_count": 67,
      "metadata": {
        "colab": {
          "base_uri": "https://localhost:8080/"
        },
        "id": "uwW9zixUSMmk",
        "outputId": "0d4883e6-36a8-4c42-8407-97aec1b252bf"
      },
      "outputs": [
        {
          "data": {
            "text/plain": [
              "torch.Size([360, 133059])"
            ]
          },
          "execution_count": 67,
          "metadata": {},
          "output_type": "execute_result"
        }
      ],
      "source": [
        "weights_t = torch.stack([el.clone().detach() for el in wd_res['weights']])\n",
        "weights_t.shape"
      ]
    },
    {
      "cell_type": "code",
      "execution_count": 69,
      "metadata": {
        "colab": {
          "base_uri": "https://localhost:8080/"
        },
        "id": "02Q9DHRzSizt",
        "outputId": "b39f0bf8-f01d-4340-a874-08dfb9028595"
      },
      "outputs": [
        {
          "data": {
            "text/plain": [
              "torch.Size([360])"
            ]
          },
          "execution_count": 69,
          "metadata": {},
          "output_type": "execute_result"
        }
      ],
      "source": [
        "med_weights_t = weights_t.median(dim=-1)[0]\n",
        "med_weights_t.shape"
      ]
    },
    {
      "cell_type": "code",
      "execution_count": 77,
      "metadata": {
        "colab": {
          "base_uri": "https://localhost:8080/",
          "height": 449
        },
        "id": "rKna79PdS0Ic",
        "outputId": "0e52c0ab-ddf5-4d4a-e86d-fdc56d6e7a03"
      },
      "outputs": [
        {
          "data": {
            "image/png": "[encoded data removed]",
            "text/plain": [
              "<Figure size 640x480 with 1 Axes>"
            ]
          },
          "metadata": {},
          "output_type": "display_data"
        }
      ],
      "source": [
        "#| code-fold: true\n",
        "#| code-summary: \"Show the code\"\n",
        "\n",
        "plt.scatter(wd_res['wds'], med_weights_t, s=5, alpha=0.4)\n",
        "\n",
        "# Set axis labels\n",
        "plt.xlabel('Weight Decay Value')\n",
        "plt.ylabel('Median Weight Value')\n",
        "\n",
        "# Display the plot\n",
        "plt.show();"
      ]
    },
    {
      "cell_type": "markdown",
      "metadata": {
        "id": "gWCbZDXyT5O2"
      },
      "source": [
        "It's a bit difficult to see trends from this chart, but the but median weights generally seem to be decreasing as weight decay value increaeses--although there is a considerable amount of variability."
      ]
    },
    {
      "cell_type": "code",
      "execution_count": 82,
      "metadata": {
        "colab": {
          "base_uri": "https://localhost:8080/"
        },
        "id": "rxG68Cz4TAOS",
        "outputId": "7af0b890-3a45-47df-fbdb-bbce344c129c"
      },
      "outputs": [
        {
          "data": {
            "text/plain": [
              "torch.Size([360])"
            ]
          },
          "execution_count": 82,
          "metadata": {},
          "output_type": "execute_result"
        }
      ],
      "source": [
        "mean_weights_t = weights_t.mean(dim=-1)\n",
        "mean_weights_t.shape"
      ]
    },
    {
      "cell_type": "code",
      "execution_count": 83,
      "metadata": {
        "colab": {
          "base_uri": "https://localhost:8080/",
          "height": 449
        },
        "id": "6Tl2NSUjUM9Q",
        "outputId": "6a726d10-49f3-4392-bb53-b7ad2ab231ba"
      },
      "outputs": [
        {
          "data": {
            "image/png": "[encoded data removed]",
            "text/plain": [
              "<Figure size 640x480 with 1 Axes>"
            ]
          },
          "metadata": {},
          "output_type": "display_data"
        }
      ],
      "source": [
        "#| code-fold: true\n",
        "#| code-summary: \"Show the code\"\n",
        "\n",
        "plt.scatter(wd_res['wds'], mean_weights_t, s=5, alpha=0.4)\n",
        "\n",
        "# Set axis labels\n",
        "plt.xlabel('Weight Decay Value')\n",
        "plt.ylabel('Mean Weight Value')\n",
        "\n",
        "# Display the plot\n",
        "plt.show();"
      ]
    },
    {
      "cell_type": "markdown",
      "metadata": {
        "id": "lGyg63D2UZjE"
      },
      "source": [
        "The mean weights follow a similar trend---generally narrowing in range as weight decay value increases. I'll look at the absolute value of mean and median and see if any trends appear:"
      ]
    },
    {
      "cell_type": "code",
      "execution_count": 85,
      "metadata": {
        "colab": {
          "base_uri": "https://localhost:8080/"
        },
        "id": "DjVLdEEAUX5A",
        "outputId": "46a3c1ae-8fe3-4aee-df95-6f99dad9ab95"
      },
      "outputs": [
        {
          "data": {
            "text/plain": [
              "torch.Size([360])"
            ]
          },
          "execution_count": 85,
          "metadata": {},
          "output_type": "execute_result"
        }
      ],
      "source": [
        "abs_med_weights_t = weights_t.abs().median(dim=-1)[0]\n",
        "abs_med_weights_t.shape"
      ]
    },
    {
      "cell_type": "code",
      "execution_count": 86,
      "metadata": {
        "colab": {
          "base_uri": "https://localhost:8080/",
          "height": 449
        },
        "id": "Q2LxXyYSUqPP",
        "outputId": "b5399c77-140e-48a2-9206-2196f095abf0"
      },
      "outputs": [
        {
          "data": {
            "image/png": "[encoded data removed]",
            "text/plain": [
              "<Figure size 640x480 with 1 Axes>"
            ]
          },
          "metadata": {},
          "output_type": "display_data"
        }
      ],
      "source": [
        "#| code-fold: true\n",
        "#| code-summary: \"Show the code\"\n",
        "\n",
        "plt.scatter(wd_res['wds'], abs_med_weights_t, s=5, alpha=0.4)\n",
        "\n",
        "# Set axis labels\n",
        "plt.xlabel('Weight Decay Value')\n",
        "plt.ylabel('Median Absolute Weight Value')\n",
        "\n",
        "# Display the plot\n",
        "plt.show();"
      ]
    },
    {
      "cell_type": "markdown",
      "metadata": {
        "id": "0fji94w6Uw7V"
      },
      "source": [
        "That's much clearer! the median absolute value of the weights exponentially decreases as the weight decay value increases. I'll look at the mean absolute value we well:"
      ]
    },
    {
      "cell_type": "code",
      "execution_count": 87,
      "metadata": {
        "colab": {
          "base_uri": "https://localhost:8080/"
        },
        "id": "cD09LFuhUvqo",
        "outputId": "f00194ac-45ad-4dc1-a489-af1cc442ba00"
      },
      "outputs": [
        {
          "data": {
            "text/plain": [
              "torch.Size([360])"
            ]
          },
          "execution_count": 87,
          "metadata": {},
          "output_type": "execute_result"
        }
      ],
      "source": [
        "abs_mean_weights_t = weights_t.abs().mean(dim=-1)\n",
        "abs_mean_weights_t.shape"
      ]
    },
    {
      "cell_type": "code",
      "execution_count": 88,
      "metadata": {
        "colab": {
          "base_uri": "https://localhost:8080/",
          "height": 449
        },
        "id": "G5-gEEEEU-W5",
        "outputId": "c9b76300-dc0d-4237-8729-5d7f56184188"
      },
      "outputs": [
        {
          "data": {
            "image/png": "[encoded data removed]",
            "text/plain": [
              "<Figure size 640x480 with 1 Axes>"
            ]
          },
          "metadata": {},
          "output_type": "display_data"
        }
      ],
      "source": [
        "#| code-fold: true\n",
        "#| code-summary: \"Show the code\"\n",
        "\n",
        "plt.scatter(wd_res['wds'], abs_mean_weights_t, s=5, alpha=0.4)\n",
        "\n",
        "# Set axis labels\n",
        "plt.xlabel('Weight Decay Value')\n",
        "plt.ylabel('Mean Absolute Weight Value')\n",
        "\n",
        "# Display the plot\n",
        "plt.show();"
      ]
    },
    {
      "cell_type": "markdown",
      "metadata": {
        "id": "hbzHf6EDVEBJ"
      },
      "source": [
        "Yup! The mean absolute value of the weights exponentially decreases as well (as weight decay value goes to 1.0)."
      ]
    },
    {
      "cell_type": "markdown",
      "metadata": {
        "id": "Uj66uGvKVX02"
      },
      "source": [
        "## Final Thoughts"
      ]
    },
    {
      "cell_type": "markdown",
      "metadata": {
        "id": "gclAA06nVZdy"
      },
      "source": [
        "As always, I love experimenting with (relatively) simple concepts and observing how they affect training performance and results. Recapping the trends I observed:\n",
        "\n",
        "- Minimum training loss increases as weight decay increases.\n",
        "- Minimum validation loss decreases until a point (for this dataset and model, until a weight decay value of ~0.2) and then increases as weight decay increases.\n",
        "- The mean and median absolute values of the final weights decreases (exponentially) as weight decay increases.\n",
        "\n",
        "I also enjoyed creating animated GIFs as a visual tool to illustrate the distributions and trends of weights and losses as weight decay increases. The resulting GIFs could be improved by tweaking frame rate and other parameters, but I'm happy with the overall trends they convey, which match the static plots I created.\n",
        "\n",
        "As always, I hope you enjoyed this blog post! Follow me on Twitter [@vishal_learner](https://twitter.com/vishal_learner)."
      ]
    }
  ],
  "metadata": {
    "colab": {
      "provenance": []
    },
    "kernelspec": {
      "display_name": "Python 3",
      "name": "python3"
    },
    "language_info": {
      "name": "python"
    }
  },
  "nbformat": 4,
  "nbformat_minor": 0
}

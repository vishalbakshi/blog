{
  "cells": [
    {
      "cell_type": "raw",
      "metadata": {
        "vscode": {
          "languageId": "raw"
        }
      },
      "source": [
        "---\n",
        "title: Comparing Cosine Similarity Between Embeddings of Semantically Similar and Dissimilar Texts with Varying Punctuation\n",
        "date: \"2024-11-08\"\n",
        "author: Vishal Bakshi\n",
        "description: In this blog post, I calculate the cosine similarity between different embeddings for texts that have varying types of punctuation and semantic similarity\n",
        "filters:\n",
        "   - lightbox\n",
        "lightbox: auto\n",
        "categories:\n",
        "    - python\n",
        "    - RAG\n",
        "    - information retrieval\n",
        "---"
      ]
    },
    {
      "cell_type": "code",
      "execution_count": null,
      "metadata": {
        "id": "RHQ5DvfOBdmQ"
      },
      "outputs": [],
      "source": [
        "#| code-fold: true\n",
        "#| code-summary: \"Show pip install and imports\"\n",
        "!pip install sentence-transformers -Uqq\n",
        "import torch\n",
        "import torch.nn.functional as F\n",
        "import numpy as np\n",
        "import matplotlib.pyplot as plt\n",
        "from sentence_transformers import SentenceTransformer"
      ]
    },
    {
      "cell_type": "markdown",
      "metadata": {
        "id": "gYjgC4WyWGAo"
      },
      "source": [
        "## Background"
      ]
    },
    {
      "cell_type": "markdown",
      "metadata": {
        "id": "QEhyljkxWHw-"
      },
      "source": [
        "I was reading the ColBERT paper as part of a fastai study group and it mentions the following:\n",
        "\n",
        "> After passing this input sequence through BERT and the subsequent linear layer, the document encoder filters out the embeddings corresponding to punctuation symbols, determined via a pre-defined list. This filtering is meant to reduce the number of embeddings per document, as we hypothesize that (even contextualized) embeddings of punctuation are unnecessary for effectiveness."
      ]
    },
    {
      "cell_type": "markdown",
      "metadata": {
        "id": "LBoYJtbiWaqt"
      },
      "source": [
        "I'm not going to understand (or test) their hypothesis in full in this notebook but I am doing a tiny experiment to see how punctuation changes translate to embedding changes."
      ]
    },
    {
      "cell_type": "markdown",
      "metadata": {
        "id": "GE7BsnGGgspE"
      },
      "source": [
        "Starting with a smaller model:"
      ]
    },
    {
      "cell_type": "code",
      "execution_count": 11,
      "metadata": {
        "id": "OtBcUqYcguGf"
      },
      "outputs": [],
      "source": [
        "emb_model = SentenceTransformer(\"BAAI/bge-small-en-v1.5\");"
      ]
    },
    {
      "cell_type": "markdown",
      "metadata": {
        "id": "ivaAb77YWm_H"
      },
      "source": [
        "I asked Claude for some examples of sentences where a comma would change its meaning and it gave me the following pair which I'm expanding upon in this notebook:\n",
        "\n",
        "> \"The woman said the judge is dishonest\"\n",
        ">\n",
        "> \"The woman, said the judge, is dishonest\""
      ]
    },
    {
      "cell_type": "markdown",
      "metadata": {
        "id": "nQUvkWxTWyJp"
      },
      "source": [
        "In the first sentence, the woman is saying that the judge is dishonest. In the second sentence by adding commas the meaning changes."
      ]
    },
    {
      "cell_type": "markdown",
      "metadata": {
        "id": "I9gjEqNfW6I6"
      },
      "source": [
        "I've also added some variants of the sentence using different punctuation."
      ]
    },
    {
      "cell_type": "code",
      "execution_count": 12,
      "metadata": {
        "id": "Mw5oABykgvwF"
      },
      "outputs": [],
      "source": [
        "d1 = \"The woman said the judge is dishonest\"\n",
        "d2 = \"The woman, said the judge, is dishonest\"\n",
        "d3 = \"The woman said: the judge is dishonest\"\n",
        "d4 = 'The woman said: \"the judge is dishonest\"'\n",
        "d5 = 'The judge said: \"the woman is dishonest\"'\n",
        "\n",
        "q = \"Is the woman or the judge dishonest?\"\n",
        "s1 = \"The woman is dishonest\"\n",
        "s2 = \"The judge is dishonest\"\n",
        "\n",
        "d1_emb = emb_model.encode(d1, convert_to_tensor=True)\n",
        "d2_emb = emb_model.encode(d2, convert_to_tensor=True)\n",
        "d3_emb = emb_model.encode(d3, convert_to_tensor=True)\n",
        "d4_emb = emb_model.encode(d4, convert_to_tensor=True)\n",
        "d5_emb = emb_model.encode(d5, convert_to_tensor=True)\n",
        "\n",
        "q_emb = emb_model.encode(q, convert_to_tensor=True)\n",
        "s1_emb = emb_model.encode(s1, convert_to_tensor=True)\n",
        "s2_emb = emb_model.encode(s2, convert_to_tensor=True)"
      ]
    },
    {
      "cell_type": "markdown",
      "metadata": {
        "id": "pVG9NmbmaEI3"
      },
      "source": [
        "The most similar text to the question _\"Is the woman or the judge dishonest?\"_, by cosine similarity, is _\"The woman, said the judge, is dishonest\"_. The least similar is _'The woman said: \"the judge is dishonest\"'_. My guess is that the additional punctuation (`:` and `\"`) causes this dissimilarity."
      ]
    },
    {
      "cell_type": "markdown",
      "metadata": {
        "id": "w21L5tHVgz3V"
      },
      "source": [
        "```\n",
        "q = \"Is the woman or the judge dishonest?\"\n",
        "```"
      ]
    },
    {
      "cell_type": "code",
      "execution_count": 16,
      "metadata": {
        "colab": {
          "base_uri": "https://localhost:8080/"
        },
        "id": "f7zuYcQAgxyX",
        "outputId": "f3c16173-d0c3-4b5f-f6ca-fa33bb918b1b"
      },
      "outputs": [
        {
          "data": {
            "text/plain": [
              "(tensor(0.9355),\n",
              " tensor(0.9292),\n",
              " tensor(0.9170),\n",
              " tensor(0.9149),\n",
              " tensor(0.8996))"
            ]
          },
          "execution_count": 16,
          "metadata": {},
          "output_type": "execute_result"
        }
      ],
      "source": [
        "(\n",
        "    F.cosine_similarity(q_emb, d2_emb, dim=0), # \"The woman, said the judge, is dishonest\"\n",
        "    F.cosine_similarity(q_emb, d1_emb, dim=0), # \"The woman said the judge is dishonest\"\n",
        "    F.cosine_similarity(q_emb, d3_emb, dim=0), # \"The woman said: the judge is dishonest\"\n",
        "    F.cosine_similarity(q_emb, d5_emb, dim=0), # 'The judge said: \"the woman is dishonest\"'\n",
        "    F.cosine_similarity(q_emb, d4_emb, dim=0), # 'The woman said: \"the judge is dishonest\"'\n",
        ")"
      ]
    },
    {
      "cell_type": "markdown",
      "metadata": {
        "id": "MWlD41Xpa2zx"
      },
      "source": [
        "The text\n",
        "\n",
        "> The woman is dishonest\n",
        "\n",
        "is most similar by cosine similarity to the text:\n",
        "\n",
        "> The woman, said the judge, is dishonest\n",
        "\n",
        "That makes sense. However, _\"The woman is dishonest\"_ has a lower cosine similarity with the semantically similar _'The judge said: \"the woman is dishonest\"'_ (`0.8561`) than the semantically dissimilar _\"The woman said the judge is dishonest\"_ (`0.8631`)."
      ]
    },
    {
      "cell_type": "markdown",
      "metadata": {
        "id": "mPqeTVNgg2Oh"
      },
      "source": [
        "```\n",
        "s1 = \"The woman is dishonest\"\n",
        "```"
      ]
    },
    {
      "cell_type": "code",
      "execution_count": 20,
      "metadata": {
        "colab": {
          "base_uri": "https://localhost:8080/"
        },
        "id": "tRJL-9Nyg2Wu",
        "outputId": "6c95783d-ad14-467e-d96a-b3013eaccdab"
      },
      "outputs": [
        {
          "data": {
            "text/plain": [
              "tensor([0.8812, 0.8631, 0.8561, 0.8502, 0.8383])"
            ]
          },
          "execution_count": 20,
          "metadata": {},
          "output_type": "execute_result"
        }
      ],
      "source": [
        "res = torch.tensor(\n",
        "        [\n",
        "            F.cosine_similarity(s1_emb, d2_emb, dim=0), # \"The woman, said the judge, is dishonest\"\n",
        "            F.cosine_similarity(s1_emb, d1_emb, dim=0), # \"The woman said the judge is dishonest\"\n",
        "            F.cosine_similarity(s1_emb, d5_emb, dim=0), # 'The judge said: \"the woman is dishonest\"'\n",
        "            F.cosine_similarity(s1_emb, d3_emb, dim=0), # \"The woman said: the judge is dishonest\"\n",
        "            F.cosine_similarity(s1_emb, d4_emb, dim=0), # 'The woman said: \"the judge is dishonest\"'\n",
        "        ]\n",
        "    )\n",
        "\n",
        "res"
      ]
    },
    {
      "cell_type": "code",
      "execution_count": 21,
      "metadata": {
        "colab": {
          "base_uri": "https://localhost:8080/"
        },
        "id": "Tu5mqHfWg9TX",
        "outputId": "2545110c-e9c8-4e57-d798-fedd02132644"
      },
      "outputs": [
        {
          "data": {
            "text/plain": [
              "tensor(0.8561)"
            ]
          },
          "execution_count": 21,
          "metadata": {},
          "output_type": "execute_result"
        }
      ],
      "source": [
        "torch.median(res)"
      ]
    },
    {
      "cell_type": "markdown",
      "metadata": {
        "id": "RN63oA1QbnO3"
      },
      "source": [
        "For the following text:"
      ]
    },
    {
      "cell_type": "markdown",
      "metadata": {
        "id": "2f80Lo2Cg2eV"
      },
      "source": [
        "```\n",
        "s2 = \"The judge is dishonest\"\n",
        "```"
      ]
    },
    {
      "cell_type": "markdown",
      "metadata": {
        "id": "qurucBCAbo5L"
      },
      "source": [
        "The most similar, by cosine similarity, is _\"The woman, said the judge, is dishonest\"_ which is semantically dissimilar."
      ]
    },
    {
      "cell_type": "code",
      "execution_count": 24,
      "metadata": {
        "colab": {
          "base_uri": "https://localhost:8080/"
        },
        "id": "4TivLDVJg2ln",
        "outputId": "e03cd236-3f1b-491a-d452-31661fb6ddec"
      },
      "outputs": [
        {
          "data": {
            "text/plain": [
              "tensor([0.9208, 0.9194, 0.9102, 0.8969, 0.8907])"
            ]
          },
          "execution_count": 24,
          "metadata": {},
          "output_type": "execute_result"
        }
      ],
      "source": [
        "res = torch.tensor(\n",
        "        [\n",
        "          F.cosine_similarity(s2_emb, d2_emb, dim=0), # \"The woman, said the judge, is dishonest\"\n",
        "          F.cosine_similarity(s2_emb, d1_emb, dim=0), # \"The woman said the judge is dishonest\"\n",
        "          F.cosine_similarity(s2_emb, d3_emb, dim=0), # \"The woman said: the judge is dishonest\"\n",
        "          F.cosine_similarity(s2_emb, d5_emb, dim=0),  # 'The judge said: \"the woman is dishonest\"'\n",
        "          F.cosine_similarity(s2_emb, d4_emb, dim=0), # 'The woman said: \"the judge is dishonest\"'\n",
        "        ]\n",
        "    )\n",
        "res"
      ]
    },
    {
      "cell_type": "code",
      "execution_count": 25,
      "metadata": {
        "colab": {
          "base_uri": "https://localhost:8080/"
        },
        "id": "9uyL8sNJhCL4",
        "outputId": "556b37d9-b17b-4379-911f-2501ec04c668"
      },
      "outputs": [
        {
          "data": {
            "text/plain": [
              "tensor(0.9102)"
            ]
          },
          "execution_count": 25,
          "metadata": {},
          "output_type": "execute_result"
        }
      ],
      "source": [
        "torch.median(res)"
      ]
    },
    {
      "cell_type": "markdown",
      "metadata": {
        "id": "e2sa1UDgZbRd"
      },
      "source": [
        "Trying a bigger model that ranks higher on the MTEB leaderboard:"
      ]
    },
    {
      "cell_type": "code",
      "execution_count": null,
      "metadata": {
        "id": "iYzrKaPgZd66"
      },
      "outputs": [],
      "source": [
        "emb_model = SentenceTransformer(\"dunzhang/stella_en_1.5B_v5\");"
      ]
    },
    {
      "cell_type": "code",
      "execution_count": null,
      "metadata": {
        "id": "RsypNSUPZ1_O"
      },
      "outputs": [],
      "source": [
        "d1_emb = emb_model.encode(d1, convert_to_tensor=True)\n",
        "d2_emb = emb_model.encode(d2, convert_to_tensor=True)\n",
        "d3_emb = emb_model.encode(d3, convert_to_tensor=True)\n",
        "d4_emb = emb_model.encode(d4, convert_to_tensor=True)\n",
        "d5_emb = emb_model.encode(d5, convert_to_tensor=True)\n",
        "\n",
        "q_emb = emb_model.encode(q, convert_to_tensor=True)\n",
        "s1_emb = emb_model.encode(s1, convert_to_tensor=True)\n",
        "s2_emb = emb_model.encode(s2, convert_to_tensor=True)"
      ]
    },
    {
      "cell_type": "markdown",
      "metadata": {
        "id": "QrWZ6Dtyb4jW"
      },
      "source": [
        "For this model, for this text:"
      ]
    },
    {
      "cell_type": "markdown",
      "metadata": {
        "id": "mhkZFT-2b_Df"
      },
      "source": [
        "```\n",
        "q = \"Is the woman or the judge dishonest?\"\n",
        "```"
      ]
    },
    {
      "cell_type": "markdown",
      "metadata": {
        "id": "eotuhb_Rb6Ua"
      },
      "source": [
        "the closest text by cosine similarity is _\"The woman said: the judge is dishonest\"_."
      ]
    },
    {
      "cell_type": "code",
      "execution_count": 28,
      "metadata": {
        "colab": {
          "base_uri": "https://localhost:8080/"
        },
        "id": "kV72R0rSb_ve",
        "outputId": "02cb77c7-70f4-4f98-a13c-6ec834aa2707"
      },
      "outputs": [
        {
          "data": {
            "text/plain": [
              "(tensor(0.8180),\n",
              " tensor(0.8175),\n",
              " tensor(0.7875),\n",
              " tensor(0.7849),\n",
              " tensor(0.7731))"
            ]
          },
          "execution_count": 28,
          "metadata": {},
          "output_type": "execute_result"
        }
      ],
      "source": [
        "(\n",
        "    F.cosine_similarity(q_emb, d3_emb, dim=0), # \"The woman said: the judge is dishonest\"\n",
        "    F.cosine_similarity(q_emb, d1_emb, dim=0), # \"The woman said the judge is dishonest\"\n",
        "    F.cosine_similarity(q_emb, d2_emb, dim=0), # \"The woman, said the judge, is dishonest\"\n",
        "    F.cosine_similarity(q_emb, d4_emb, dim=0), # 'The woman said: \"the judge is dishonest\"'\n",
        "    F.cosine_similarity(q_emb, d5_emb, dim=0),  # 'The judge said: \"the woman is dishonest\"'\n",
        ")"
      ]
    },
    {
      "cell_type": "markdown",
      "metadata": {
        "id": "BLzD6EQPcC_J"
      },
      "source": [
        "For the following text:"
      ]
    },
    {
      "cell_type": "markdown",
      "metadata": {
        "id": "532lffGHeR7X"
      },
      "source": [
        "```\n",
        "s1 = \"The woman is dishonest\"\n",
        "```"
      ]
    },
    {
      "cell_type": "markdown",
      "metadata": {
        "id": "H2T5PKorcEHJ"
      },
      "source": [
        "the most similar text, by cosine similarity, is _\"The woman said the judge is dishonest\"_ which is semantically dissimilar."
      ]
    },
    {
      "cell_type": "code",
      "execution_count": 29,
      "metadata": {
        "colab": {
          "base_uri": "https://localhost:8080/"
        },
        "id": "4Bet1H51eTXS",
        "outputId": "292900c4-0195-471a-a223-131bd3bed800"
      },
      "outputs": [
        {
          "data": {
            "text/plain": [
              "tensor([0.9738, 0.9461, 0.9042, 0.8714, 0.8577])"
            ]
          },
          "execution_count": 29,
          "metadata": {},
          "output_type": "execute_result"
        }
      ],
      "source": [
        "res = torch.tensor(\n",
        "        [\n",
        "            F.cosine_similarity(s1_emb, d1_emb, dim=0), # \"The woman said the judge is dishonest\"\n",
        "            F.cosine_similarity(s1_emb, d3_emb, dim=0), # \"The woman said: the judge is dishonest\"\n",
        "            F.cosine_similarity(s1_emb, d2_emb, dim=0), # \"The woman, said the judge, is dishonest\"\n",
        "            F.cosine_similarity(s1_emb, d4_emb, dim=0), # 'The woman said: \"the judge is dishonest\"'\n",
        "            F.cosine_similarity(s1_emb, d5_emb, dim=0) # 'The judge said: \"the woman is dishonest\"'\n",
        "        ]\n",
        "    )\n",
        "\n",
        "res"
      ]
    },
    {
      "cell_type": "code",
      "execution_count": 30,
      "metadata": {
        "colab": {
          "base_uri": "https://localhost:8080/"
        },
        "id": "VxCp8SKwfl6K",
        "outputId": "a8bc2af1-dd10-4607-a2f7-f40fa795bc91"
      },
      "outputs": [
        {
          "data": {
            "text/plain": [
              "tensor(0.9042)"
            ]
          },
          "execution_count": 30,
          "metadata": {},
          "output_type": "execute_result"
        }
      ],
      "source": [
        "torch.median(res)"
      ]
    },
    {
      "cell_type": "markdown",
      "metadata": {
        "id": "Vo94jsCocOos"
      },
      "source": [
        "Finally, for the following text:"
      ]
    },
    {
      "cell_type": "markdown",
      "metadata": {
        "id": "iumWSSsheXgM"
      },
      "source": [
        "```\n",
        "s2 = \"The judge is dishonest\"\n",
        "```"
      ]
    },
    {
      "cell_type": "markdown",
      "metadata": {
        "id": "fo0PWDAGcQAU"
      },
      "source": [
        "the most similar text, by cosine similarity, is _\"The woman said the judge is dishonest\"_ which is semantically similar. The second-most similar by cosine similarity text _\"The woman said: the judge is dishonest\"_ is also semantically similar. However, the semantically similar _'The woman said: \"the judge is dishonest\"'_ has a lower cosine similarity than the semantically dissimilar _\"The woman, said the judge, is dishonest\"_. Whew!"
      ]
    },
    {
      "cell_type": "code",
      "execution_count": 31,
      "metadata": {
        "colab": {
          "base_uri": "https://localhost:8080/"
        },
        "id": "xqr9V4WygMk5",
        "outputId": "ee81ef11-8462-4b11-931e-54c350fb5e8c"
      },
      "outputs": [
        {
          "data": {
            "text/plain": [
              "tensor([0.9763, 0.9507, 0.9107, 0.8791, 0.8642])"
            ]
          },
          "execution_count": 31,
          "metadata": {},
          "output_type": "execute_result"
        }
      ],
      "source": [
        "res = torch.tensor(\n",
        "        [\n",
        "          F.cosine_similarity(s2_emb, d1_emb, dim=0), # \"The woman said the judge is dishonest\"\n",
        "          F.cosine_similarity(s2_emb, d3_emb, dim=0), # \"The woman said: the judge is dishonest\"\n",
        "          F.cosine_similarity(s2_emb, d2_emb, dim=0), # \"The woman, said the judge, is dishonest\"\n",
        "          F.cosine_similarity(s2_emb, d4_emb, dim=0), # 'The woman said: \"the judge is dishonest\"'\n",
        "          F.cosine_similarity(s2_emb, d5_emb, dim=0),  # 'The judge said: \"the woman is dishonest\"'\n",
        "        ]\n",
        "    )\n",
        "res"
      ]
    },
    {
      "cell_type": "code",
      "execution_count": 32,
      "metadata": {
        "colab": {
          "base_uri": "https://localhost:8080/"
        },
        "id": "11d-BUGeeZ-T",
        "outputId": "f662f96d-d37f-4daf-ea43-51a5c609ebc2"
      },
      "outputs": [
        {
          "data": {
            "text/plain": [
              "tensor(0.9107)"
            ]
          },
          "execution_count": 32,
          "metadata": {},
          "output_type": "execute_result"
        }
      ],
      "source": [
        "torch.median(res)"
      ]
    },
    {
      "cell_type": "markdown",
      "metadata": {
        "id": "p6yQI776deT3"
      },
      "source": [
        "## Final Thoughts"
      ]
    },
    {
      "cell_type": "markdown",
      "metadata": {
        "id": "sBvEvmOKdfPd"
      },
      "source": [
        "I'm not going to make any conclusions about the relationship between punctuation, embeddings and cosine similarity, but I'll say that this tiny experiment has left me with more questions than answers."
      ]
    }
  ],
  "metadata": {
    "colab": {
      "provenance": []
    },
    "kernelspec": {
      "display_name": "Python 3",
      "name": "python3"
    },
    "language_info": {
      "name": "python"
    }
  },
  "nbformat": 4,
  "nbformat_minor": 0
}

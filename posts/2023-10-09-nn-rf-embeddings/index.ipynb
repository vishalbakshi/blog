{
  "cells": [
    {
      "cell_type": "raw",
      "metadata": {},
      "source": [
        "---\n",
        "title: Using Neural Net Embeddings to Improve a Random Forest\n",
        "date: \"2023-10-09\"\n",
        "author: Vishal Bakshi\n",
        "description: In this notebook I replace categorical features in a dataset with corresponding neural net embedding outputs to improve the performance of a random forest.\n",
        "categories:\n",
        "    - deep learning\n",
        "    - python\n",
        "---"
      ]
    },
    {
      "cell_type": "markdown",
      "metadata": {
        "id": "KZJJBtdwe0gJ"
      },
      "source": [
        "## Background\n",
        "\n",
        "In this blog post I'll work through the third \"Further Research\" exercise from Chapter 9 of the fastai textbook:\n",
        "\n",
        "> Use the embeddings from the neural net in this chapter in a random forest, and see if you can improve on the random forest results we saw.\n",
        "\n",
        "I'll train a neural net on the dataset, grab its embeddings for categorical variables, replace the existing categorical variables in the dataset with them, and then train a random forest on that updated dataset.\n",
        "\n",
        "The neural net in the chapter was trained on only a subset of columns (after removing columns that were redundant and low importance). I'll first go through the process of reducing the number of used columns with a random forest as done in the chapter text before training the neural net.\n",
        "\n",
        "In addition to the textbook, I also heavily reference the code provided in [this medium post by Adam Mehdi](https://towardsdatascience.com/entity-embeddings-for-ml-2387eb68e49) a similar implementation of which was shared in [this fastai forum post (sign-in required)](https://forums.fast.ai/t/using-embedding-from-the-neural-network-in-random-forests/80063/10?u=vbakshi).\n",
        "\n",
        "---\n",
        "\n",
        "Here is a summary of error values for models fit on the original and embedding-filled datasets in this exercise:\n",
        "\n",
        "|Model|Validation MSE|Reduction in MSE|\n",
        "|:-|:-:|:-:|\n",
        "|RF (no embedding columns)|0.247074|--|\n",
        "|RF (329 embedding columns)|0.238825|3.33%|\n",
        "|RF (32 embedding columns)|0.243094|1.6%|\n"
      ]
    },
    {
      "cell_type": "markdown",
      "metadata": {
        "id": "itEMO0a_hMz1"
      },
      "source": [
        "## Load the Data"
      ]
    },
    {
      "cell_type": "code",
      "execution_count": null,
      "metadata": {
        "id": "Z5j3UJLle7-J"
      },
      "outputs": [],
      "source": [
        "!pip install dtreeviz\n",
        "\n",
        "from pandas.api.types import is_string_dtype, is_numeric_dtype, is_categorical_dtype\n",
        "from fastai.tabular.all import *\n",
        "from sklearn.ensemble import RandomForestRegressor\n",
        "from sklearn.tree import DecisionTreeRegressor\n",
        "from dtreeviz.trees import *\n",
        "from IPython.display import Image, display_svg, SVG\n",
        "\n",
        "pd.options.display.max_rows = 20\n",
        "pd.options.display.max_columns = 8"
      ]
    },
    {
      "cell_type": "code",
      "execution_count": null,
      "metadata": {
        "id": "QD_7-A2GfBWh"
      },
      "outputs": [],
      "source": [
        "from pathlib import Path\n",
        "\n",
        "cred_path = Path(\"~/.kaggle/kaggle.json\").expanduser()\n",
        "if not cred_path.exists():\n",
        "  cred_path.parent.mkdir(exist_ok=True)\n",
        "  cred_path.write_text(creds)\n",
        "  cred_path.chmod(0o600)"
      ]
    },
    {
      "cell_type": "code",
      "execution_count": null,
      "metadata": {
        "colab": {
          "base_uri": "https://localhost:8080/"
        },
        "id": "d_8qQrYgfB82",
        "outputId": "c47e2d81-0a24-4044-d726-8ce93bbe36b3"
      },
      "outputs": [
        {
          "name": "stdout",
          "output_type": "stream",
          "text": [
            "Downloading bluebook-for-bulldozers.zip to /content\n"
          ]
        },
        {
          "name": "stderr",
          "output_type": "stream",
          "text": [
            "100%|██████████| 48.4M/48.4M [00:00<00:00, 65.2MB/s]\n"
          ]
        },
        {
          "name": "stdout",
          "output_type": "stream",
          "text": [
            "\n"
          ]
        }
      ],
      "source": [
        "import zipfile,kaggle\n",
        "\n",
        "path = Path('bluebook-for-bulldozers')\n",
        "if not path.exists():\n",
        "  kaggle.api.competition_download_cli(str(path))\n",
        "  zipfile.ZipFile(f'{path}.zip').extractall(path)"
      ]
    },
    {
      "cell_type": "code",
      "execution_count": null,
      "metadata": {
        "id": "kOlruAs0hTp1"
      },
      "outputs": [],
      "source": [
        "df = pd.read_csv(path/'TrainAndValid.csv', low_memory=False)"
      ]
    },
    {
      "cell_type": "code",
      "execution_count": null,
      "metadata": {
        "colab": {
          "base_uri": "https://localhost:8080/",
          "height": 256
        },
        "id": "GJbLPUA5hViq",
        "outputId": "712c14ee-d316-439b-d375-30a0f56daca6"
      },
      "outputs": [
        {
          "data": {
            "text/html": [
              "\n",
              "  <div id=\"df-80b7226e-daf3-47fb-a183-b781613e4a92\" class=\"colab-df-container\">\n",
              "    <div>\n",
              "<style scoped>\n",
              "    .dataframe tbody tr th:only-of-type {\n",
              "        vertical-align: middle;\n",
              "    }\n",
              "\n",
              "    .dataframe tbody tr th {\n",
              "        vertical-align: top;\n",
              "    }\n",
              "\n",
              "    .dataframe thead th {\n",
              "        text-align: right;\n",
              "    }\n",
              "</style>\n",
              "<table border=\"1\" class=\"dataframe\">\n",
              "  <thead>\n",
              "    <tr style=\"text-align: right;\">\n",
              "      <th></th>\n",
              "      <th>SalesID</th>\n",
              "      <th>SalePrice</th>\n",
              "      <th>MachineID</th>\n",
              "      <th>ModelID</th>\n",
              "      <th>...</th>\n",
              "      <th>Blade_Type</th>\n",
              "      <th>Travel_Controls</th>\n",
              "      <th>Differential_Type</th>\n",
              "      <th>Steering_Controls</th>\n",
              "    </tr>\n",
              "  </thead>\n",
              "  <tbody>\n",
              "    <tr>\n",
              "      <th>0</th>\n",
              "      <td>1139246</td>\n",
              "      <td>66000.0</td>\n",
              "      <td>999089</td>\n",
              "      <td>3157</td>\n",
              "      <td>...</td>\n",
              "      <td>NaN</td>\n",
              "      <td>NaN</td>\n",
              "      <td>Standard</td>\n",
              "      <td>Conventional</td>\n",
              "    </tr>\n",
              "    <tr>\n",
              "      <th>1</th>\n",
              "      <td>1139248</td>\n",
              "      <td>57000.0</td>\n",
              "      <td>117657</td>\n",
              "      <td>77</td>\n",
              "      <td>...</td>\n",
              "      <td>NaN</td>\n",
              "      <td>NaN</td>\n",
              "      <td>Standard</td>\n",
              "      <td>Conventional</td>\n",
              "    </tr>\n",
              "    <tr>\n",
              "      <th>2</th>\n",
              "      <td>1139249</td>\n",
              "      <td>10000.0</td>\n",
              "      <td>434808</td>\n",
              "      <td>7009</td>\n",
              "      <td>...</td>\n",
              "      <td>NaN</td>\n",
              "      <td>NaN</td>\n",
              "      <td>NaN</td>\n",
              "      <td>NaN</td>\n",
              "    </tr>\n",
              "    <tr>\n",
              "      <th>3</th>\n",
              "      <td>1139251</td>\n",
              "      <td>38500.0</td>\n",
              "      <td>1026470</td>\n",
              "      <td>332</td>\n",
              "      <td>...</td>\n",
              "      <td>NaN</td>\n",
              "      <td>NaN</td>\n",
              "      <td>NaN</td>\n",
              "      <td>NaN</td>\n",
              "    </tr>\n",
              "    <tr>\n",
              "      <th>4</th>\n",
              "      <td>1139253</td>\n",
              "      <td>11000.0</td>\n",
              "      <td>1057373</td>\n",
              "      <td>17311</td>\n",
              "      <td>...</td>\n",
              "      <td>NaN</td>\n",
              "      <td>NaN</td>\n",
              "      <td>NaN</td>\n",
              "      <td>NaN</td>\n",
              "    </tr>\n",
              "  </tbody>\n",
              "</table>\n",
              "<p>5 rows × 53 columns</p>\n",
              "</div>\n",
              "    <div class=\"colab-df-buttons\">\n",
              "\n",
              "  <div class=\"colab-df-container\">\n",
              "    <button class=\"colab-df-convert\" onclick=\"convertToInteractive('df-80b7226e-daf3-47fb-a183-b781613e4a92')\"\n",
              "            title=\"Convert this dataframe to an interactive table.\"\n",
              "            style=\"display:none;\">\n",
              "\n",
              "  <svg xmlns=\"http://www.w3.org/2000/svg\" height=\"24px\" viewBox=\"0 -960 960 960\">\n",
              "    <path d=\"M120-120v-720h720v720H120Zm60-500h600v-160H180v160Zm220 220h160v-160H400v160Zm0 220h160v-160H400v160ZM180-400h160v-160H180v160Zm440 0h160v-160H620v160ZM180-180h160v-160H180v160Zm440 0h160v-160H620v160Z\"/>\n",
              "  </svg>\n",
              "    </button>\n",
              "\n",
              "  <style>\n",
              "    .colab-df-container {\n",
              "      display:flex;\n",
              "      gap: 12px;\n",
              "    }\n",
              "\n",
              "    .colab-df-convert {\n",
              "      background-color: #E8F0FE;\n",
              "      border: none;\n",
              "      border-radius: 50%;\n",
              "      cursor: pointer;\n",
              "      display: none;\n",
              "      fill: #1967D2;\n",
              "      height: 32px;\n",
              "      padding: 0 0 0 0;\n",
              "      width: 32px;\n",
              "    }\n",
              "\n",
              "    .colab-df-convert:hover {\n",
              "      background-color: #E2EBFA;\n",
              "      box-shadow: 0px 1px 2px rgba(60, 64, 67, 0.3), 0px 1px 3px 1px rgba(60, 64, 67, 0.15);\n",
              "      fill: #174EA6;\n",
              "    }\n",
              "\n",
              "    .colab-df-buttons div {\n",
              "      margin-bottom: 4px;\n",
              "    }\n",
              "\n",
              "    [theme=dark] .colab-df-convert {\n",
              "      background-color: #3B4455;\n",
              "      fill: #D2E3FC;\n",
              "    }\n",
              "\n",
              "    [theme=dark] .colab-df-convert:hover {\n",
              "      background-color: #434B5C;\n",
              "      box-shadow: 0px 1px 3px 1px rgba(0, 0, 0, 0.15);\n",
              "      filter: drop-shadow(0px 1px 2px rgba(0, 0, 0, 0.3));\n",
              "      fill: #FFFFFF;\n",
              "    }\n",
              "  </style>\n",
              "\n",
              "    <script>\n",
              "      const buttonEl =\n",
              "        document.querySelector('#df-80b7226e-daf3-47fb-a183-b781613e4a92 button.colab-df-convert');\n",
              "      buttonEl.style.display =\n",
              "        google.colab.kernel.accessAllowed ? 'block' : 'none';\n",
              "\n",
              "      async function convertToInteractive(key) {\n",
              "        const element = document.querySelector('#df-80b7226e-daf3-47fb-a183-b781613e4a92');\n",
              "        const dataTable =\n",
              "          await google.colab.kernel.invokeFunction('convertToInteractive',\n",
              "                                                    [key], {});\n",
              "        if (!dataTable) return;\n",
              "\n",
              "        const docLinkHtml = 'Like what you see? Visit the ' +\n",
              "          '<a target=\"_blank\" href=https://colab.research.google.com/notebooks/data_table.ipynb>data table notebook</a>'\n",
              "          + ' to learn more about interactive tables.';\n",
              "        element.innerHTML = '';\n",
              "        dataTable['output_type'] = 'display_data';\n",
              "        await google.colab.output.renderOutput(dataTable, element);\n",
              "        const docLink = document.createElement('div');\n",
              "        docLink.innerHTML = docLinkHtml;\n",
              "        element.appendChild(docLink);\n",
              "      }\n",
              "    </script>\n",
              "  </div>\n",
              "\n",
              "\n",
              "<div id=\"df-b96d0412-cacb-4088-8ad1-1a325fc00584\">\n",
              "  <button class=\"colab-df-quickchart\" onclick=\"quickchart('df-b96d0412-cacb-4088-8ad1-1a325fc00584')\"\n",
              "            title=\"Suggest charts.\"\n",
              "            style=\"display:none;\">\n",
              "\n",
              "<svg xmlns=\"http://www.w3.org/2000/svg\" height=\"24px\"viewBox=\"0 0 24 24\"\n",
              "     width=\"24px\">\n",
              "    <g>\n",
              "        <path d=\"M19 3H5c-1.1 0-2 .9-2 2v14c0 1.1.9 2 2 2h14c1.1 0 2-.9 2-2V5c0-1.1-.9-2-2-2zM9 17H7v-7h2v7zm4 0h-2V7h2v10zm4 0h-2v-4h2v4z\"/>\n",
              "    </g>\n",
              "</svg>\n",
              "  </button>\n",
              "\n",
              "<style>\n",
              "  .colab-df-quickchart {\n",
              "      --bg-color: #E8F0FE;\n",
              "      --fill-color: #1967D2;\n",
              "      --hover-bg-color: #E2EBFA;\n",
              "      --hover-fill-color: #174EA6;\n",
              "      --disabled-fill-color: #AAA;\n",
              "      --disabled-bg-color: #DDD;\n",
              "  }\n",
              "\n",
              "  [theme=dark] .colab-df-quickchart {\n",
              "      --bg-color: #3B4455;\n",
              "      --fill-color: #D2E3FC;\n",
              "      --hover-bg-color: #434B5C;\n",
              "      --hover-fill-color: #FFFFFF;\n",
              "      --disabled-bg-color: #3B4455;\n",
              "      --disabled-fill-color: #666;\n",
              "  }\n",
              "\n",
              "  .colab-df-quickchart {\n",
              "    background-color: var(--bg-color);\n",
              "    border: none;\n",
              "    border-radius: 50%;\n",
              "    cursor: pointer;\n",
              "    display: none;\n",
              "    fill: var(--fill-color);\n",
              "    height: 32px;\n",
              "    padding: 0;\n",
              "    width: 32px;\n",
              "  }\n",
              "\n",
              "  .colab-df-quickchart:hover {\n",
              "    background-color: var(--hover-bg-color);\n",
              "    box-shadow: 0 1px 2px rgba(60, 64, 67, 0.3), 0 1px 3px 1px rgba(60, 64, 67, 0.15);\n",
              "    fill: var(--button-hover-fill-color);\n",
              "  }\n",
              "\n",
              "  .colab-df-quickchart-complete:disabled,\n",
              "  .colab-df-quickchart-complete:disabled:hover {\n",
              "    background-color: var(--disabled-bg-color);\n",
              "    fill: var(--disabled-fill-color);\n",
              "    box-shadow: none;\n",
              "  }\n",
              "\n",
              "  .colab-df-spinner {\n",
              "    border: 2px solid var(--fill-color);\n",
              "    border-color: transparent;\n",
              "    border-bottom-color: var(--fill-color);\n",
              "    animation:\n",
              "      spin 1s steps(1) infinite;\n",
              "  }\n",
              "\n",
              "  @keyframes spin {\n",
              "    0% {\n",
              "      border-color: transparent;\n",
              "      border-bottom-color: var(--fill-color);\n",
              "      border-left-color: var(--fill-color);\n",
              "    }\n",
              "    20% {\n",
              "      border-color: transparent;\n",
              "      border-left-color: var(--fill-color);\n",
              "      border-top-color: var(--fill-color);\n",
              "    }\n",
              "    30% {\n",
              "      border-color: transparent;\n",
              "      border-left-color: var(--fill-color);\n",
              "      border-top-color: var(--fill-color);\n",
              "      border-right-color: var(--fill-color);\n",
              "    }\n",
              "    40% {\n",
              "      border-color: transparent;\n",
              "      border-right-color: var(--fill-color);\n",
              "      border-top-color: var(--fill-color);\n",
              "    }\n",
              "    60% {\n",
              "      border-color: transparent;\n",
              "      border-right-color: var(--fill-color);\n",
              "    }\n",
              "    80% {\n",
              "      border-color: transparent;\n",
              "      border-right-color: var(--fill-color);\n",
              "      border-bottom-color: var(--fill-color);\n",
              "    }\n",
              "    90% {\n",
              "      border-color: transparent;\n",
              "      border-bottom-color: var(--fill-color);\n",
              "    }\n",
              "  }\n",
              "</style>\n",
              "\n",
              "  <script>\n",
              "    async function quickchart(key) {\n",
              "      const quickchartButtonEl =\n",
              "        document.querySelector('#' + key + ' button');\n",
              "      quickchartButtonEl.disabled = true;  // To prevent multiple clicks.\n",
              "      quickchartButtonEl.classList.add('colab-df-spinner');\n",
              "      try {\n",
              "        const charts = await google.colab.kernel.invokeFunction(\n",
              "            'suggestCharts', [key], {});\n",
              "      } catch (error) {\n",
              "        console.error('Error during call to suggestCharts:', error);\n",
              "      }\n",
              "      quickchartButtonEl.classList.remove('colab-df-spinner');\n",
              "      quickchartButtonEl.classList.add('colab-df-quickchart-complete');\n",
              "    }\n",
              "    (() => {\n",
              "      let quickchartButtonEl =\n",
              "        document.querySelector('#df-b96d0412-cacb-4088-8ad1-1a325fc00584 button');\n",
              "      quickchartButtonEl.style.display =\n",
              "        google.colab.kernel.accessAllowed ? 'block' : 'none';\n",
              "    })();\n",
              "  </script>\n",
              "</div>\n",
              "    </div>\n",
              "  </div>\n"
            ],
            "text/plain": [
              "   SalesID  SalePrice  MachineID  ModelID  ...  Blade_Type  Travel_Controls  \\\n",
              "0  1139246    66000.0     999089     3157  ...         NaN              NaN   \n",
              "1  1139248    57000.0     117657       77  ...         NaN              NaN   \n",
              "2  1139249    10000.0     434808     7009  ...         NaN              NaN   \n",
              "3  1139251    38500.0    1026470      332  ...         NaN              NaN   \n",
              "4  1139253    11000.0    1057373    17311  ...         NaN              NaN   \n",
              "\n",
              "   Differential_Type  Steering_Controls  \n",
              "0           Standard       Conventional  \n",
              "1           Standard       Conventional  \n",
              "2                NaN                NaN  \n",
              "3                NaN                NaN  \n",
              "4                NaN                NaN  \n",
              "\n",
              "[5 rows x 53 columns]"
            ]
          },
          "execution_count": 6,
          "metadata": {},
          "output_type": "execute_result"
        }
      ],
      "source": [
        "df.head()"
      ]
    },
    {
      "cell_type": "markdown",
      "metadata": {
        "id": "ffCqkSGphWQR"
      },
      "source": [
        "## Clean the Data"
      ]
    },
    {
      "cell_type": "markdown",
      "metadata": {
        "id": "UX3dGAeNhbG6"
      },
      "source": [
        "Categorize the `ProductSize` variable:"
      ]
    },
    {
      "cell_type": "code",
      "execution_count": null,
      "metadata": {
        "id": "ulzLa0QlhXgL"
      },
      "outputs": [],
      "source": [
        "sizes = 'Large', 'Large / Medium', 'Medium', 'Small', 'Mini', 'Compact'\n",
        "df['ProductSize'] = df['ProductSize'].astype('category')\n",
        "df['ProductSize'].cat.set_categories(sizes, ordered=True, inplace=True)"
      ]
    },
    {
      "cell_type": "markdown",
      "metadata": {
        "id": "NV7tKOj1hf-D"
      },
      "source": [
        "Take the `log` of the dependent variable, `SalePrice`:"
      ]
    },
    {
      "cell_type": "code",
      "execution_count": null,
      "metadata": {
        "id": "Vsqc7CtshlED"
      },
      "outputs": [],
      "source": [
        "dep_var = 'SalePrice'\n",
        "df[dep_var] = np.log(df[dep_var])"
      ]
    },
    {
      "cell_type": "markdown",
      "metadata": {
        "id": "wqJaCsKOhoDN"
      },
      "source": [
        "Add date-related additional columns---I'll deviate from the textbook here and save the original `saledate` column so I can more accurately create the training and validation sets. I'll likely remove it later on when I remove redundant features."
      ]
    },
    {
      "cell_type": "code",
      "execution_count": null,
      "metadata": {
        "id": "WvZBY9Qphrf6"
      },
      "outputs": [],
      "source": [
        "saledate = df.saledate\n",
        "df = add_datepart(df, 'saledate')\n",
        "df['saledate'] = saledate"
      ]
    },
    {
      "cell_type": "code",
      "execution_count": null,
      "metadata": {
        "colab": {
          "base_uri": "https://localhost:8080/",
          "height": 53
        },
        "id": "4pRLkoaZhr67",
        "outputId": "039a7f91-ed00-4a58-f0b3-0589260a22c2"
      },
      "outputs": [
        {
          "data": {
            "application/vnd.google.colaboratory.intrinsic+json": {
              "type": "string"
            },
            "text/plain": [
              "'saleYear saleMonth saleWeek saleDay saleDayofweek saleDayofyear saleIs_month_end saleIs_month_start saleIs_quarter_end saleIs_quarter_start saleIs_year_end saleIs_year_start saleElapsed saledate'"
            ]
          },
          "execution_count": 10,
          "metadata": {},
          "output_type": "execute_result"
        }
      ],
      "source": [
        "' '.join(o for o in df.columns if o.startswith('sale'))"
      ]
    },
    {
      "cell_type": "markdown",
      "metadata": {
        "id": "cWGfnZnjhwEe"
      },
      "source": [
        "## Create Training and Validation Sets"
      ]
    },
    {
      "cell_type": "code",
      "execution_count": null,
      "metadata": {
        "id": "Nic88jQ4hzT6"
      },
      "outputs": [],
      "source": [
        "procs = [Categorify, FillMissing]"
      ]
    },
    {
      "cell_type": "markdown",
      "metadata": {
        "id": "wXWJTDlhicC6"
      },
      "source": [
        "I'll define a validation set consisting of data from after November 2011:"
      ]
    },
    {
      "cell_type": "code",
      "execution_count": null,
      "metadata": {
        "id": "C2OlW-s6hK47"
      },
      "outputs": [],
      "source": [
        "df['saledate'] = pd.to_datetime(df['saledate'])"
      ]
    },
    {
      "cell_type": "code",
      "execution_count": null,
      "metadata": {
        "colab": {
          "base_uri": "https://localhost:8080/",
          "height": 617
        },
        "id": "PL--3UE3h0b9",
        "outputId": "dcd3b5ff-425b-48b9-e6d3-25506d48d0c8"
      },
      "outputs": [
        {
          "data": {
            "text/html": [
              "\n",
              "  <div id=\"df-f23b5b91-a156-45a5-bb62-1b731ccaa105\" class=\"colab-df-container\">\n",
              "    <div>\n",
              "<style scoped>\n",
              "    .dataframe tbody tr th:only-of-type {\n",
              "        vertical-align: middle;\n",
              "    }\n",
              "\n",
              "    .dataframe tbody tr th {\n",
              "        vertical-align: top;\n",
              "    }\n",
              "\n",
              "    .dataframe thead th {\n",
              "        text-align: right;\n",
              "    }\n",
              "</style>\n",
              "<table border=\"1\" class=\"dataframe\">\n",
              "  <thead>\n",
              "    <tr style=\"text-align: right;\">\n",
              "      <th></th>\n",
              "      <th>SalesID</th>\n",
              "      <th>SalePrice</th>\n",
              "      <th>MachineID</th>\n",
              "      <th>ModelID</th>\n",
              "      <th>...</th>\n",
              "      <th>saleIs_year_end</th>\n",
              "      <th>saleIs_year_start</th>\n",
              "      <th>saleElapsed</th>\n",
              "      <th>saledate</th>\n",
              "    </tr>\n",
              "  </thead>\n",
              "  <tbody>\n",
              "    <tr>\n",
              "      <th>0</th>\n",
              "      <td>1139246</td>\n",
              "      <td>11.097410</td>\n",
              "      <td>999089</td>\n",
              "      <td>3157</td>\n",
              "      <td>...</td>\n",
              "      <td>False</td>\n",
              "      <td>False</td>\n",
              "      <td>1.163635e+09</td>\n",
              "      <td>2006-11-16</td>\n",
              "    </tr>\n",
              "    <tr>\n",
              "      <th>1</th>\n",
              "      <td>1139248</td>\n",
              "      <td>10.950807</td>\n",
              "      <td>117657</td>\n",
              "      <td>77</td>\n",
              "      <td>...</td>\n",
              "      <td>False</td>\n",
              "      <td>False</td>\n",
              "      <td>1.080259e+09</td>\n",
              "      <td>2004-03-26</td>\n",
              "    </tr>\n",
              "    <tr>\n",
              "      <th>2</th>\n",
              "      <td>1139249</td>\n",
              "      <td>9.210340</td>\n",
              "      <td>434808</td>\n",
              "      <td>7009</td>\n",
              "      <td>...</td>\n",
              "      <td>False</td>\n",
              "      <td>False</td>\n",
              "      <td>1.077754e+09</td>\n",
              "      <td>2004-02-26</td>\n",
              "    </tr>\n",
              "    <tr>\n",
              "      <th>3</th>\n",
              "      <td>1139251</td>\n",
              "      <td>10.558414</td>\n",
              "      <td>1026470</td>\n",
              "      <td>332</td>\n",
              "      <td>...</td>\n",
              "      <td>False</td>\n",
              "      <td>False</td>\n",
              "      <td>1.305763e+09</td>\n",
              "      <td>2011-05-19</td>\n",
              "    </tr>\n",
              "    <tr>\n",
              "      <th>4</th>\n",
              "      <td>1139253</td>\n",
              "      <td>9.305651</td>\n",
              "      <td>1057373</td>\n",
              "      <td>17311</td>\n",
              "      <td>...</td>\n",
              "      <td>False</td>\n",
              "      <td>False</td>\n",
              "      <td>1.248307e+09</td>\n",
              "      <td>2009-07-23</td>\n",
              "    </tr>\n",
              "    <tr>\n",
              "      <th>...</th>\n",
              "      <td>...</td>\n",
              "      <td>...</td>\n",
              "      <td>...</td>\n",
              "      <td>...</td>\n",
              "      <td>...</td>\n",
              "      <td>...</td>\n",
              "      <td>...</td>\n",
              "      <td>...</td>\n",
              "      <td>...</td>\n",
              "    </tr>\n",
              "    <tr>\n",
              "      <th>412693</th>\n",
              "      <td>6333344</td>\n",
              "      <td>9.210340</td>\n",
              "      <td>1919201</td>\n",
              "      <td>21435</td>\n",
              "      <td>...</td>\n",
              "      <td>False</td>\n",
              "      <td>False</td>\n",
              "      <td>1.331078e+09</td>\n",
              "      <td>2012-03-07</td>\n",
              "    </tr>\n",
              "    <tr>\n",
              "      <th>412694</th>\n",
              "      <td>6333345</td>\n",
              "      <td>9.259131</td>\n",
              "      <td>1882122</td>\n",
              "      <td>21436</td>\n",
              "      <td>...</td>\n",
              "      <td>False</td>\n",
              "      <td>False</td>\n",
              "      <td>1.327709e+09</td>\n",
              "      <td>2012-01-28</td>\n",
              "    </tr>\n",
              "    <tr>\n",
              "      <th>412695</th>\n",
              "      <td>6333347</td>\n",
              "      <td>9.433484</td>\n",
              "      <td>1944213</td>\n",
              "      <td>21435</td>\n",
              "      <td>...</td>\n",
              "      <td>False</td>\n",
              "      <td>False</td>\n",
              "      <td>1.327709e+09</td>\n",
              "      <td>2012-01-28</td>\n",
              "    </tr>\n",
              "    <tr>\n",
              "      <th>412696</th>\n",
              "      <td>6333348</td>\n",
              "      <td>9.210340</td>\n",
              "      <td>1794518</td>\n",
              "      <td>21435</td>\n",
              "      <td>...</td>\n",
              "      <td>False</td>\n",
              "      <td>False</td>\n",
              "      <td>1.331078e+09</td>\n",
              "      <td>2012-03-07</td>\n",
              "    </tr>\n",
              "    <tr>\n",
              "      <th>412697</th>\n",
              "      <td>6333349</td>\n",
              "      <td>9.472705</td>\n",
              "      <td>1944743</td>\n",
              "      <td>21436</td>\n",
              "      <td>...</td>\n",
              "      <td>False</td>\n",
              "      <td>False</td>\n",
              "      <td>1.327709e+09</td>\n",
              "      <td>2012-01-28</td>\n",
              "    </tr>\n",
              "  </tbody>\n",
              "</table>\n",
              "<p>412698 rows × 66 columns</p>\n",
              "</div>\n",
              "    <div class=\"colab-df-buttons\">\n",
              "\n",
              "  <div class=\"colab-df-container\">\n",
              "    <button class=\"colab-df-convert\" onclick=\"convertToInteractive('df-f23b5b91-a156-45a5-bb62-1b731ccaa105')\"\n",
              "            title=\"Convert this dataframe to an interactive table.\"\n",
              "            style=\"display:none;\">\n",
              "\n",
              "  <svg xmlns=\"http://www.w3.org/2000/svg\" height=\"24px\" viewBox=\"0 -960 960 960\">\n",
              "    <path d=\"M120-120v-720h720v720H120Zm60-500h600v-160H180v160Zm220 220h160v-160H400v160Zm0 220h160v-160H400v160ZM180-400h160v-160H180v160Zm440 0h160v-160H620v160ZM180-180h160v-160H180v160Zm440 0h160v-160H620v160Z\"/>\n",
              "  </svg>\n",
              "    </button>\n",
              "\n",
              "  <style>\n",
              "    .colab-df-container {\n",
              "      display:flex;\n",
              "      gap: 12px;\n",
              "    }\n",
              "\n",
              "    .colab-df-convert {\n",
              "      background-color: #E8F0FE;\n",
              "      border: none;\n",
              "      border-radius: 50%;\n",
              "      cursor: pointer;\n",
              "      display: none;\n",
              "      fill: #1967D2;\n",
              "      height: 32px;\n",
              "      padding: 0 0 0 0;\n",
              "      width: 32px;\n",
              "    }\n",
              "\n",
              "    .colab-df-convert:hover {\n",
              "      background-color: #E2EBFA;\n",
              "      box-shadow: 0px 1px 2px rgba(60, 64, 67, 0.3), 0px 1px 3px 1px rgba(60, 64, 67, 0.15);\n",
              "      fill: #174EA6;\n",
              "    }\n",
              "\n",
              "    .colab-df-buttons div {\n",
              "      margin-bottom: 4px;\n",
              "    }\n",
              "\n",
              "    [theme=dark] .colab-df-convert {\n",
              "      background-color: #3B4455;\n",
              "      fill: #D2E3FC;\n",
              "    }\n",
              "\n",
              "    [theme=dark] .colab-df-convert:hover {\n",
              "      background-color: #434B5C;\n",
              "      box-shadow: 0px 1px 3px 1px rgba(0, 0, 0, 0.15);\n",
              "      filter: drop-shadow(0px 1px 2px rgba(0, 0, 0, 0.3));\n",
              "      fill: #FFFFFF;\n",
              "    }\n",
              "  </style>\n",
              "\n",
              "    <script>\n",
              "      const buttonEl =\n",
              "        document.querySelector('#df-f23b5b91-a156-45a5-bb62-1b731ccaa105 button.colab-df-convert');\n",
              "      buttonEl.style.display =\n",
              "        google.colab.kernel.accessAllowed ? 'block' : 'none';\n",
              "\n",
              "      async function convertToInteractive(key) {\n",
              "        const element = document.querySelector('#df-f23b5b91-a156-45a5-bb62-1b731ccaa105');\n",
              "        const dataTable =\n",
              "          await google.colab.kernel.invokeFunction('convertToInteractive',\n",
              "                                                    [key], {});\n",
              "        if (!dataTable) return;\n",
              "\n",
              "        const docLinkHtml = 'Like what you see? Visit the ' +\n",
              "          '<a target=\"_blank\" href=https://colab.research.google.com/notebooks/data_table.ipynb>data table notebook</a>'\n",
              "          + ' to learn more about interactive tables.';\n",
              "        element.innerHTML = '';\n",
              "        dataTable['output_type'] = 'display_data';\n",
              "        await google.colab.output.renderOutput(dataTable, element);\n",
              "        const docLink = document.createElement('div');\n",
              "        docLink.innerHTML = docLinkHtml;\n",
              "        element.appendChild(docLink);\n",
              "      }\n",
              "    </script>\n",
              "  </div>\n",
              "\n",
              "\n",
              "<div id=\"df-bce6eeed-0bc4-4b32-92b9-d7bc7d564853\">\n",
              "  <button class=\"colab-df-quickchart\" onclick=\"quickchart('df-bce6eeed-0bc4-4b32-92b9-d7bc7d564853')\"\n",
              "            title=\"Suggest charts.\"\n",
              "            style=\"display:none;\">\n",
              "\n",
              "<svg xmlns=\"http://www.w3.org/2000/svg\" height=\"24px\"viewBox=\"0 0 24 24\"\n",
              "     width=\"24px\">\n",
              "    <g>\n",
              "        <path d=\"M19 3H5c-1.1 0-2 .9-2 2v14c0 1.1.9 2 2 2h14c1.1 0 2-.9 2-2V5c0-1.1-.9-2-2-2zM9 17H7v-7h2v7zm4 0h-2V7h2v10zm4 0h-2v-4h2v4z\"/>\n",
              "    </g>\n",
              "</svg>\n",
              "  </button>\n",
              "\n",
              "<style>\n",
              "  .colab-df-quickchart {\n",
              "      --bg-color: #E8F0FE;\n",
              "      --fill-color: #1967D2;\n",
              "      --hover-bg-color: #E2EBFA;\n",
              "      --hover-fill-color: #174EA6;\n",
              "      --disabled-fill-color: #AAA;\n",
              "      --disabled-bg-color: #DDD;\n",
              "  }\n",
              "\n",
              "  [theme=dark] .colab-df-quickchart {\n",
              "      --bg-color: #3B4455;\n",
              "      --fill-color: #D2E3FC;\n",
              "      --hover-bg-color: #434B5C;\n",
              "      --hover-fill-color: #FFFFFF;\n",
              "      --disabled-bg-color: #3B4455;\n",
              "      --disabled-fill-color: #666;\n",
              "  }\n",
              "\n",
              "  .colab-df-quickchart {\n",
              "    background-color: var(--bg-color);\n",
              "    border: none;\n",
              "    border-radius: 50%;\n",
              "    cursor: pointer;\n",
              "    display: none;\n",
              "    fill: var(--fill-color);\n",
              "    height: 32px;\n",
              "    padding: 0;\n",
              "    width: 32px;\n",
              "  }\n",
              "\n",
              "  .colab-df-quickchart:hover {\n",
              "    background-color: var(--hover-bg-color);\n",
              "    box-shadow: 0 1px 2px rgba(60, 64, 67, 0.3), 0 1px 3px 1px rgba(60, 64, 67, 0.15);\n",
              "    fill: var(--button-hover-fill-color);\n",
              "  }\n",
              "\n",
              "  .colab-df-quickchart-complete:disabled,\n",
              "  .colab-df-quickchart-complete:disabled:hover {\n",
              "    background-color: var(--disabled-bg-color);\n",
              "    fill: var(--disabled-fill-color);\n",
              "    box-shadow: none;\n",
              "  }\n",
              "\n",
              "  .colab-df-spinner {\n",
              "    border: 2px solid var(--fill-color);\n",
              "    border-color: transparent;\n",
              "    border-bottom-color: var(--fill-color);\n",
              "    animation:\n",
              "      spin 1s steps(1) infinite;\n",
              "  }\n",
              "\n",
              "  @keyframes spin {\n",
              "    0% {\n",
              "      border-color: transparent;\n",
              "      border-bottom-color: var(--fill-color);\n",
              "      border-left-color: var(--fill-color);\n",
              "    }\n",
              "    20% {\n",
              "      border-color: transparent;\n",
              "      border-left-color: var(--fill-color);\n",
              "      border-top-color: var(--fill-color);\n",
              "    }\n",
              "    30% {\n",
              "      border-color: transparent;\n",
              "      border-left-color: var(--fill-color);\n",
              "      border-top-color: var(--fill-color);\n",
              "      border-right-color: var(--fill-color);\n",
              "    }\n",
              "    40% {\n",
              "      border-color: transparent;\n",
              "      border-right-color: var(--fill-color);\n",
              "      border-top-color: var(--fill-color);\n",
              "    }\n",
              "    60% {\n",
              "      border-color: transparent;\n",
              "      border-right-color: var(--fill-color);\n",
              "    }\n",
              "    80% {\n",
              "      border-color: transparent;\n",
              "      border-right-color: var(--fill-color);\n",
              "      border-bottom-color: var(--fill-color);\n",
              "    }\n",
              "    90% {\n",
              "      border-color: transparent;\n",
              "      border-bottom-color: var(--fill-color);\n",
              "    }\n",
              "  }\n",
              "</style>\n",
              "\n",
              "  <script>\n",
              "    async function quickchart(key) {\n",
              "      const quickchartButtonEl =\n",
              "        document.querySelector('#' + key + ' button');\n",
              "      quickchartButtonEl.disabled = true;  // To prevent multiple clicks.\n",
              "      quickchartButtonEl.classList.add('colab-df-spinner');\n",
              "      try {\n",
              "        const charts = await google.colab.kernel.invokeFunction(\n",
              "            'suggestCharts', [key], {});\n",
              "      } catch (error) {\n",
              "        console.error('Error during call to suggestCharts:', error);\n",
              "      }\n",
              "      quickchartButtonEl.classList.remove('colab-df-spinner');\n",
              "      quickchartButtonEl.classList.add('colab-df-quickchart-complete');\n",
              "    }\n",
              "    (() => {\n",
              "      let quickchartButtonEl =\n",
              "        document.querySelector('#df-bce6eeed-0bc4-4b32-92b9-d7bc7d564853 button');\n",
              "      quickchartButtonEl.style.display =\n",
              "        google.colab.kernel.accessAllowed ? 'block' : 'none';\n",
              "    })();\n",
              "  </script>\n",
              "</div>\n",
              "    </div>\n",
              "  </div>\n"
            ],
            "text/plain": [
              "        SalesID  SalePrice  MachineID  ModelID  ...  saleIs_year_end  \\\n",
              "0       1139246  11.097410     999089     3157  ...            False   \n",
              "1       1139248  10.950807     117657       77  ...            False   \n",
              "2       1139249   9.210340     434808     7009  ...            False   \n",
              "3       1139251  10.558414    1026470      332  ...            False   \n",
              "4       1139253   9.305651    1057373    17311  ...            False   \n",
              "...         ...        ...        ...      ...  ...              ...   \n",
              "412693  6333344   9.210340    1919201    21435  ...            False   \n",
              "412694  6333345   9.259131    1882122    21436  ...            False   \n",
              "412695  6333347   9.433484    1944213    21435  ...            False   \n",
              "412696  6333348   9.210340    1794518    21435  ...            False   \n",
              "412697  6333349   9.472705    1944743    21436  ...            False   \n",
              "\n",
              "        saleIs_year_start   saleElapsed   saledate  \n",
              "0                   False  1.163635e+09 2006-11-16  \n",
              "1                   False  1.080259e+09 2004-03-26  \n",
              "2                   False  1.077754e+09 2004-02-26  \n",
              "3                   False  1.305763e+09 2011-05-19  \n",
              "4                   False  1.248307e+09 2009-07-23  \n",
              "...                   ...           ...        ...  \n",
              "412693              False  1.331078e+09 2012-03-07  \n",
              "412694              False  1.327709e+09 2012-01-28  \n",
              "412695              False  1.327709e+09 2012-01-28  \n",
              "412696              False  1.331078e+09 2012-03-07  \n",
              "412697              False  1.327709e+09 2012-01-28  \n",
              "\n",
              "[412698 rows x 66 columns]"
            ]
          },
          "execution_count": 13,
          "metadata": {},
          "output_type": "execute_result"
        }
      ],
      "source": [
        "df"
      ]
    },
    {
      "cell_type": "code",
      "execution_count": null,
      "metadata": {
        "colab": {
          "base_uri": "https://localhost:8080/"
        },
        "id": "GBt3a5-thIty",
        "outputId": "c66f162c-4e8f-41d6-e705-509bd2158194"
      },
      "outputs": [
        {
          "data": {
            "text/plain": [
              "0          True\n",
              "1          True\n",
              "2          True\n",
              "3          True\n",
              "4          True\n",
              "          ...  \n",
              "412693    False\n",
              "412694    False\n",
              "412695    False\n",
              "412696    False\n",
              "412697    False\n",
              "Name: saledate, Length: 412698, dtype: bool"
            ]
          },
          "execution_count": 14,
          "metadata": {},
          "output_type": "execute_result"
        }
      ],
      "source": [
        "df['saledate'] < '2011-11-01'"
      ]
    },
    {
      "cell_type": "code",
      "execution_count": null,
      "metadata": {
        "id": "OIt0eMPniev7"
      },
      "outputs": [],
      "source": [
        "cond = df['saledate'] < '2011-11-01'\n",
        "train_idx = np.where( cond)[0]\n",
        "valid_idx = np.where(~cond)[0]\n",
        "splits = (list(train_idx), list(valid_idx))"
      ]
    },
    {
      "cell_type": "code",
      "execution_count": null,
      "metadata": {
        "id": "YBDiX_YbfD_C"
      },
      "outputs": [],
      "source": [
        "cont,cat = cont_cat_split(df, 1, dep_var=dep_var)"
      ]
    },
    {
      "cell_type": "code",
      "execution_count": null,
      "metadata": {
        "id": "c6fwwtrZMDMa"
      },
      "outputs": [],
      "source": [
        "to = TabularPandas(df, procs, cat, cont, y_names=dep_var, splits=splits)"
      ]
    },
    {
      "cell_type": "code",
      "execution_count": null,
      "metadata": {
        "colab": {
          "base_uri": "https://localhost:8080/"
        },
        "id": "Fp5BQXcsMGlK",
        "outputId": "3fcd95d9-3063-4e00-fd57-81b48d3dd3c8"
      },
      "outputs": [
        {
          "data": {
            "text/plain": [
              "(395371, 17327)"
            ]
          },
          "execution_count": 18,
          "metadata": {},
          "output_type": "execute_result"
        }
      ],
      "source": [
        "len(to.train), len(to.valid)"
      ]
    },
    {
      "cell_type": "code",
      "execution_count": null,
      "metadata": {
        "id": "gOuzZ7rVPeXw"
      },
      "outputs": [],
      "source": [
        "xs,y = to.train.xs, to.train.y\n",
        "valid_xs, valid_y = to.valid.xs, to.valid.y"
      ]
    },
    {
      "cell_type": "markdown",
      "metadata": {
        "id": "rJtD3k4ZPY7M"
      },
      "source": [
        "## Removing Features"
      ]
    },
    {
      "cell_type": "markdown",
      "metadata": {
        "id": "G7rbE6dTPg52"
      },
      "source": [
        "To simplify our model, and in some cases improve the accuracy, I will follow the procedure in the textbook to reduce the number of features we use for training."
      ]
    },
    {
      "cell_type": "code",
      "execution_count": 10,
      "metadata": {
        "id": "oWZ-B-rRQR2r"
      },
      "outputs": [],
      "source": [
        "def r_mse(pred,y): return round(math.sqrt(((pred-y)**2).mean()), 6)\n",
        "def m_rmse(m, xs, y): return r_mse(m.predict(xs), y)"
      ]
    },
    {
      "cell_type": "code",
      "execution_count": 84,
      "metadata": {
        "id": "Zuq6wdB8Pb0h"
      },
      "outputs": [],
      "source": [
        "def rf(xs, y, n_estimators=40, max_samples=200_000, max_features=0.5, min_samples_leaf=5, **kwargs):\n",
        "  return RandomForestRegressor(n_jobs=-1, n_estimators=n_estimators, max_samples=max_samples, max_features=max_features, min_samples_leaf=min_samples_leaf, oob_score=True).fit(xs,y)"
      ]
    },
    {
      "cell_type": "code",
      "execution_count": 85,
      "metadata": {
        "id": "zCdQe8sMP1Jb"
      },
      "outputs": [],
      "source": [
        "def rf_feat_importance(m, df):\n",
        "  return pd.DataFrame({\n",
        "      'cols': df.columns,\n",
        "      'imp': m.feature_importances_}\n",
        "                      ).sort_values('imp', ascending=False)"
      ]
    },
    {
      "cell_type": "markdown",
      "metadata": {
        "id": "LW-rBuQPQiII"
      },
      "source": [
        "I'll start by fitting a random forest to the data and establishing a baseline MSE on the validation set to use in comparison at each step of reducing features."
      ]
    },
    {
      "cell_type": "code",
      "execution_count": null,
      "metadata": {
        "colab": {
          "base_uri": "https://localhost:8080/"
        },
        "id": "_ib4JZbOQVAV",
        "outputId": "f176deef-a199-4012-b411-51c9a08ef120"
      },
      "outputs": [
        {
          "data": {
            "text/plain": [
              "(0.169314, 0.29212)"
            ]
          },
          "execution_count": 23,
          "metadata": {},
          "output_type": "execute_result"
        }
      ],
      "source": [
        "m = rf(xs, y);\n",
        "m_rmse(m, xs, y), m_rmse(m, valid_xs, valid_y)"
      ]
    },
    {
      "cell_type": "markdown",
      "metadata": {
        "id": "NP1uWw8OSyL2"
      },
      "source": [
        "### Low-Importance Features"
      ]
    },
    {
      "cell_type": "markdown",
      "metadata": {
        "id": "PvWxdU2kQj24"
      },
      "source": [
        "Next, I'll take a look at the most important features and remove low-importance features from the dataset."
      ]
    },
    {
      "cell_type": "code",
      "execution_count": null,
      "metadata": {
        "colab": {
          "base_uri": "https://localhost:8080/",
          "height": 363
        },
        "id": "Lp0A2Q5jP4JU",
        "outputId": "b88e5fe6-6456-44c1-e3fd-14d979de6973"
      },
      "outputs": [
        {
          "data": {
            "text/html": [
              "\n",
              "  <div id=\"df-100d8e01-9db3-4c2a-8eec-c964942a511a\" class=\"colab-df-container\">\n",
              "    <div>\n",
              "<style scoped>\n",
              "    .dataframe tbody tr th:only-of-type {\n",
              "        vertical-align: middle;\n",
              "    }\n",
              "\n",
              "    .dataframe tbody tr th {\n",
              "        vertical-align: top;\n",
              "    }\n",
              "\n",
              "    .dataframe thead th {\n",
              "        text-align: right;\n",
              "    }\n",
              "</style>\n",
              "<table border=\"1\" class=\"dataframe\">\n",
              "  <thead>\n",
              "    <tr style=\"text-align: right;\">\n",
              "      <th></th>\n",
              "      <th>cols</th>\n",
              "      <th>imp</th>\n",
              "    </tr>\n",
              "  </thead>\n",
              "  <tbody>\n",
              "    <tr>\n",
              "      <th>58</th>\n",
              "      <td>YearMade</td>\n",
              "      <td>0.182072</td>\n",
              "    </tr>\n",
              "    <tr>\n",
              "      <th>6</th>\n",
              "      <td>ProductSize</td>\n",
              "      <td>0.114709</td>\n",
              "    </tr>\n",
              "    <tr>\n",
              "      <th>30</th>\n",
              "      <td>Coupler_System</td>\n",
              "      <td>0.104344</td>\n",
              "    </tr>\n",
              "    <tr>\n",
              "      <th>7</th>\n",
              "      <td>fiProductClassDesc</td>\n",
              "      <td>0.064090</td>\n",
              "    </tr>\n",
              "    <tr>\n",
              "      <th>55</th>\n",
              "      <td>ModelID</td>\n",
              "      <td>0.057407</td>\n",
              "    </tr>\n",
              "    <tr>\n",
              "      <th>31</th>\n",
              "      <td>Grouser_Tracks</td>\n",
              "      <td>0.047770</td>\n",
              "    </tr>\n",
              "    <tr>\n",
              "      <th>3</th>\n",
              "      <td>fiSecondaryDesc</td>\n",
              "      <td>0.042480</td>\n",
              "    </tr>\n",
              "    <tr>\n",
              "      <th>10</th>\n",
              "      <td>ProductGroupDesc</td>\n",
              "      <td>0.038196</td>\n",
              "    </tr>\n",
              "    <tr>\n",
              "      <th>32</th>\n",
              "      <td>Hydraulics_Flow</td>\n",
              "      <td>0.034735</td>\n",
              "    </tr>\n",
              "    <tr>\n",
              "      <th>50</th>\n",
              "      <td>saledate</td>\n",
              "      <td>0.033807</td>\n",
              "    </tr>\n",
              "  </tbody>\n",
              "</table>\n",
              "</div>\n",
              "    <div class=\"colab-df-buttons\">\n",
              "\n",
              "  <div class=\"colab-df-container\">\n",
              "    <button class=\"colab-df-convert\" onclick=\"convertToInteractive('df-100d8e01-9db3-4c2a-8eec-c964942a511a')\"\n",
              "            title=\"Convert this dataframe to an interactive table.\"\n",
              "            style=\"display:none;\">\n",
              "\n",
              "  <svg xmlns=\"http://www.w3.org/2000/svg\" height=\"24px\" viewBox=\"0 -960 960 960\">\n",
              "    <path d=\"M120-120v-720h720v720H120Zm60-500h600v-160H180v160Zm220 220h160v-160H400v160Zm0 220h160v-160H400v160ZM180-400h160v-160H180v160Zm440 0h160v-160H620v160ZM180-180h160v-160H180v160Zm440 0h160v-160H620v160Z\"/>\n",
              "  </svg>\n",
              "    </button>\n",
              "\n",
              "  <style>\n",
              "    .colab-df-container {\n",
              "      display:flex;\n",
              "      gap: 12px;\n",
              "    }\n",
              "\n",
              "    .colab-df-convert {\n",
              "      background-color: #E8F0FE;\n",
              "      border: none;\n",
              "      border-radius: 50%;\n",
              "      cursor: pointer;\n",
              "      display: none;\n",
              "      fill: #1967D2;\n",
              "      height: 32px;\n",
              "      padding: 0 0 0 0;\n",
              "      width: 32px;\n",
              "    }\n",
              "\n",
              "    .colab-df-convert:hover {\n",
              "      background-color: #E2EBFA;\n",
              "      box-shadow: 0px 1px 2px rgba(60, 64, 67, 0.3), 0px 1px 3px 1px rgba(60, 64, 67, 0.15);\n",
              "      fill: #174EA6;\n",
              "    }\n",
              "\n",
              "    .colab-df-buttons div {\n",
              "      margin-bottom: 4px;\n",
              "    }\n",
              "\n",
              "    [theme=dark] .colab-df-convert {\n",
              "      background-color: #3B4455;\n",
              "      fill: #D2E3FC;\n",
              "    }\n",
              "\n",
              "    [theme=dark] .colab-df-convert:hover {\n",
              "      background-color: #434B5C;\n",
              "      box-shadow: 0px 1px 3px 1px rgba(0, 0, 0, 0.15);\n",
              "      filter: drop-shadow(0px 1px 2px rgba(0, 0, 0, 0.3));\n",
              "      fill: #FFFFFF;\n",
              "    }\n",
              "  </style>\n",
              "\n",
              "    <script>\n",
              "      const buttonEl =\n",
              "        document.querySelector('#df-100d8e01-9db3-4c2a-8eec-c964942a511a button.colab-df-convert');\n",
              "      buttonEl.style.display =\n",
              "        google.colab.kernel.accessAllowed ? 'block' : 'none';\n",
              "\n",
              "      async function convertToInteractive(key) {\n",
              "        const element = document.querySelector('#df-100d8e01-9db3-4c2a-8eec-c964942a511a');\n",
              "        const dataTable =\n",
              "          await google.colab.kernel.invokeFunction('convertToInteractive',\n",
              "                                                    [key], {});\n",
              "        if (!dataTable) return;\n",
              "\n",
              "        const docLinkHtml = 'Like what you see? Visit the ' +\n",
              "          '<a target=\"_blank\" href=https://colab.research.google.com/notebooks/data_table.ipynb>data table notebook</a>'\n",
              "          + ' to learn more about interactive tables.';\n",
              "        element.innerHTML = '';\n",
              "        dataTable['output_type'] = 'display_data';\n",
              "        await google.colab.output.renderOutput(dataTable, element);\n",
              "        const docLink = document.createElement('div');\n",
              "        docLink.innerHTML = docLinkHtml;\n",
              "        element.appendChild(docLink);\n",
              "      }\n",
              "    </script>\n",
              "  </div>\n",
              "\n",
              "\n",
              "<div id=\"df-f47b6fe7-46f6-494d-a911-e710f023b4d1\">\n",
              "  <button class=\"colab-df-quickchart\" onclick=\"quickchart('df-f47b6fe7-46f6-494d-a911-e710f023b4d1')\"\n",
              "            title=\"Suggest charts.\"\n",
              "            style=\"display:none;\">\n",
              "\n",
              "<svg xmlns=\"http://www.w3.org/2000/svg\" height=\"24px\"viewBox=\"0 0 24 24\"\n",
              "     width=\"24px\">\n",
              "    <g>\n",
              "        <path d=\"M19 3H5c-1.1 0-2 .9-2 2v14c0 1.1.9 2 2 2h14c1.1 0 2-.9 2-2V5c0-1.1-.9-2-2-2zM9 17H7v-7h2v7zm4 0h-2V7h2v10zm4 0h-2v-4h2v4z\"/>\n",
              "    </g>\n",
              "</svg>\n",
              "  </button>\n",
              "\n",
              "<style>\n",
              "  .colab-df-quickchart {\n",
              "      --bg-color: #E8F0FE;\n",
              "      --fill-color: #1967D2;\n",
              "      --hover-bg-color: #E2EBFA;\n",
              "      --hover-fill-color: #174EA6;\n",
              "      --disabled-fill-color: #AAA;\n",
              "      --disabled-bg-color: #DDD;\n",
              "  }\n",
              "\n",
              "  [theme=dark] .colab-df-quickchart {\n",
              "      --bg-color: #3B4455;\n",
              "      --fill-color: #D2E3FC;\n",
              "      --hover-bg-color: #434B5C;\n",
              "      --hover-fill-color: #FFFFFF;\n",
              "      --disabled-bg-color: #3B4455;\n",
              "      --disabled-fill-color: #666;\n",
              "  }\n",
              "\n",
              "  .colab-df-quickchart {\n",
              "    background-color: var(--bg-color);\n",
              "    border: none;\n",
              "    border-radius: 50%;\n",
              "    cursor: pointer;\n",
              "    display: none;\n",
              "    fill: var(--fill-color);\n",
              "    height: 32px;\n",
              "    padding: 0;\n",
              "    width: 32px;\n",
              "  }\n",
              "\n",
              "  .colab-df-quickchart:hover {\n",
              "    background-color: var(--hover-bg-color);\n",
              "    box-shadow: 0 1px 2px rgba(60, 64, 67, 0.3), 0 1px 3px 1px rgba(60, 64, 67, 0.15);\n",
              "    fill: var(--button-hover-fill-color);\n",
              "  }\n",
              "\n",
              "  .colab-df-quickchart-complete:disabled,\n",
              "  .colab-df-quickchart-complete:disabled:hover {\n",
              "    background-color: var(--disabled-bg-color);\n",
              "    fill: var(--disabled-fill-color);\n",
              "    box-shadow: none;\n",
              "  }\n",
              "\n",
              "  .colab-df-spinner {\n",
              "    border: 2px solid var(--fill-color);\n",
              "    border-color: transparent;\n",
              "    border-bottom-color: var(--fill-color);\n",
              "    animation:\n",
              "      spin 1s steps(1) infinite;\n",
              "  }\n",
              "\n",
              "  @keyframes spin {\n",
              "    0% {\n",
              "      border-color: transparent;\n",
              "      border-bottom-color: var(--fill-color);\n",
              "      border-left-color: var(--fill-color);\n",
              "    }\n",
              "    20% {\n",
              "      border-color: transparent;\n",
              "      border-left-color: var(--fill-color);\n",
              "      border-top-color: var(--fill-color);\n",
              "    }\n",
              "    30% {\n",
              "      border-color: transparent;\n",
              "      border-left-color: var(--fill-color);\n",
              "      border-top-color: var(--fill-color);\n",
              "      border-right-color: var(--fill-color);\n",
              "    }\n",
              "    40% {\n",
              "      border-color: transparent;\n",
              "      border-right-color: var(--fill-color);\n",
              "      border-top-color: var(--fill-color);\n",
              "    }\n",
              "    60% {\n",
              "      border-color: transparent;\n",
              "      border-right-color: var(--fill-color);\n",
              "    }\n",
              "    80% {\n",
              "      border-color: transparent;\n",
              "      border-right-color: var(--fill-color);\n",
              "      border-bottom-color: var(--fill-color);\n",
              "    }\n",
              "    90% {\n",
              "      border-color: transparent;\n",
              "      border-bottom-color: var(--fill-color);\n",
              "    }\n",
              "  }\n",
              "</style>\n",
              "\n",
              "  <script>\n",
              "    async function quickchart(key) {\n",
              "      const quickchartButtonEl =\n",
              "        document.querySelector('#' + key + ' button');\n",
              "      quickchartButtonEl.disabled = true;  // To prevent multiple clicks.\n",
              "      quickchartButtonEl.classList.add('colab-df-spinner');\n",
              "      try {\n",
              "        const charts = await google.colab.kernel.invokeFunction(\n",
              "            'suggestCharts', [key], {});\n",
              "      } catch (error) {\n",
              "        console.error('Error during call to suggestCharts:', error);\n",
              "      }\n",
              "      quickchartButtonEl.classList.remove('colab-df-spinner');\n",
              "      quickchartButtonEl.classList.add('colab-df-quickchart-complete');\n",
              "    }\n",
              "    (() => {\n",
              "      let quickchartButtonEl =\n",
              "        document.querySelector('#df-f47b6fe7-46f6-494d-a911-e710f023b4d1 button');\n",
              "      quickchartButtonEl.style.display =\n",
              "        google.colab.kernel.accessAllowed ? 'block' : 'none';\n",
              "    })();\n",
              "  </script>\n",
              "</div>\n",
              "    </div>\n",
              "  </div>\n"
            ],
            "text/plain": [
              "                  cols       imp\n",
              "58            YearMade  0.182072\n",
              "6          ProductSize  0.114709\n",
              "30      Coupler_System  0.104344\n",
              "7   fiProductClassDesc  0.064090\n",
              "55             ModelID  0.057407\n",
              "31      Grouser_Tracks  0.047770\n",
              "3      fiSecondaryDesc  0.042480\n",
              "10    ProductGroupDesc  0.038196\n",
              "32     Hydraulics_Flow  0.034735\n",
              "50            saledate  0.033807"
            ]
          },
          "execution_count": 24,
          "metadata": {},
          "output_type": "execute_result"
        }
      ],
      "source": [
        "fi = rf_feat_importance(m, xs)\n",
        "fi[:10]"
      ]
    },
    {
      "cell_type": "code",
      "execution_count": null,
      "metadata": {
        "colab": {
          "base_uri": "https://localhost:8080/",
          "height": 466
        },
        "id": "-7wh6eqTP4Y1",
        "outputId": "9865814e-5b5e-4fb4-81b5-f9a9bb757fa3"
      },
      "outputs": [
        {
          "data": {
            "image/png": "[encoded data removed]",
            "text/plain": [
              "<Figure size 1200x700 with 1 Axes>"
            ]
          },
          "metadata": {},
          "output_type": "display_data"
        }
      ],
      "source": [
        "def plot_fi(fi):\n",
        "  return fi.plot('cols', 'imp', 'barh', figsize=(12,7), legend=False)\n",
        "\n",
        "plot_fi(fi[:30]);"
      ]
    },
    {
      "cell_type": "code",
      "execution_count": null,
      "metadata": {
        "colab": {
          "base_uri": "https://localhost:8080/"
        },
        "id": "Njf_UGxBP_dC",
        "outputId": "07a83c47-081c-4efa-c2dc-cdc2f0f2a94d"
      },
      "outputs": [
        {
          "data": {
            "text/plain": [
              "23"
            ]
          },
          "execution_count": 26,
          "metadata": {},
          "output_type": "execute_result"
        }
      ],
      "source": [
        "to_keep = fi[fi.imp>0.005].cols\n",
        "len(to_keep)"
      ]
    },
    {
      "cell_type": "code",
      "execution_count": null,
      "metadata": {
        "id": "HSNpXW-_QCZ3"
      },
      "outputs": [],
      "source": [
        "xs_imp = xs[to_keep]\n",
        "valid_xs_imp = valid_xs[to_keep]"
      ]
    },
    {
      "cell_type": "markdown",
      "metadata": {
        "id": "w2GAheTuQpXY"
      },
      "source": [
        "I'll check the accuracy on the validation set with the low-importance features removed:"
      ]
    },
    {
      "cell_type": "code",
      "execution_count": null,
      "metadata": {
        "colab": {
          "base_uri": "https://localhost:8080/"
        },
        "id": "Q5XgbXqbQdHI",
        "outputId": "45feefba-b0b6-4c64-e089-27da4ac2f005"
      },
      "outputs": [
        {
          "data": {
            "text/plain": [
              "(0.178435, 0.284805)"
            ]
          },
          "execution_count": 28,
          "metadata": {},
          "output_type": "execute_result"
        }
      ],
      "source": [
        "m = rf(xs_imp, y);\n",
        "m_rmse(m, xs_imp, y), m_rmse(m, valid_xs_imp, valid_y)"
      ]
    },
    {
      "cell_type": "markdown",
      "metadata": {
        "id": "5o7Vr9hHQw7V"
      },
      "source": [
        "Our model is much simpler (fewer features to analyze) with a similar error as before."
      ]
    },
    {
      "cell_type": "code",
      "execution_count": null,
      "metadata": {
        "colab": {
          "base_uri": "https://localhost:8080/"
        },
        "id": "M5XehWxlQyKW",
        "outputId": "a1c69cac-2a1f-43b9-c8c6-d5789aa8368e"
      },
      "outputs": [
        {
          "data": {
            "text/plain": [
              "(67, 23)"
            ]
          },
          "execution_count": 29,
          "metadata": {},
          "output_type": "execute_result"
        }
      ],
      "source": [
        "len(xs.columns), len(xs_imp.columns)"
      ]
    },
    {
      "cell_type": "markdown",
      "metadata": {
        "id": "JfhfLd_kS11K"
      },
      "source": [
        "### Redundant Features"
      ]
    },
    {
      "cell_type": "markdown",
      "metadata": {
        "id": "ZY7UTfb9PcPQ"
      },
      "source": [
        "Next, I'll take a look at which features are redundant and try to remove some of them (as long as they don't diminish the model's OOB score):"
      ]
    },
    {
      "cell_type": "code",
      "execution_count": 98,
      "metadata": {
        "id": "HsqRyXA7Q8Ic"
      },
      "outputs": [],
      "source": [
        "from scipy.cluster import hierarchy as hc\n",
        "\n",
        "def cluster_columns(df, figsize=(10,6), font_size=12):\n",
        "    corr = np.round(scipy.stats.spearmanr(df).correlation, 4)\n",
        "    corr_condensed = hc.distance.squareform(1-corr)\n",
        "    z = hc.linkage(corr_condensed, method='average')\n",
        "    fig = plt.figure(figsize=figsize)\n",
        "    hc.dendrogram(z, labels=df.columns, orientation='left', leaf_font_size=font_size)\n",
        "    plt.show()"
      ]
    },
    {
      "cell_type": "code",
      "execution_count": null,
      "metadata": {
        "colab": {
          "base_uri": "https://localhost:8080/",
          "height": 466
        },
        "id": "FPj1K-lXQ-N6",
        "outputId": "0290b796-3745-4106-fe98-4d586e1c7343"
      },
      "outputs": [
        {
          "data": {
            "image/png": "[encoded data removed]",
            "text/plain": [
              "<Figure size 1000x600 with 1 Axes>"
            ]
          },
          "metadata": {},
          "output_type": "display_data"
        }
      ],
      "source": [
        "cluster_columns(xs_imp)"
      ]
    },
    {
      "cell_type": "code",
      "execution_count": 101,
      "metadata": {
        "id": "jNTrVVWFRAjm"
      },
      "outputs": [],
      "source": [
        "def get_oob(df):\n",
        "  m = RandomForestRegressor(n_estimators=40, min_samples_leaf=15,\n",
        "                            max_samples=50_000, max_features=0.5, n_jobs=-1, oob_score=True)\n",
        "  m.fit(df, y)\n",
        "  return m.oob_score_"
      ]
    },
    {
      "cell_type": "markdown",
      "metadata": {
        "id": "yzxcaKHiRLS7"
      },
      "source": [
        "Here's the baseline OOB score for the dataset with only high-importance variables:"
      ]
    },
    {
      "cell_type": "code",
      "execution_count": null,
      "metadata": {
        "colab": {
          "base_uri": "https://localhost:8080/"
        },
        "id": "cMOiUweTRPz3",
        "outputId": "ba822010-6045-4903-8224-8946d3f8bfd8"
      },
      "outputs": [
        {
          "data": {
            "text/plain": [
              "0.8775680670271139"
            ]
          },
          "execution_count": 33,
          "metadata": {},
          "output_type": "execute_result"
        }
      ],
      "source": [
        "get_oob(xs_imp)"
      ]
    },
    {
      "cell_type": "markdown",
      "metadata": {
        "id": "lT4rgvynRh27"
      },
      "source": [
        "Here are the OOB scores if we drop redundant features from the dataset---the higher the OOB score the better:"
      ]
    },
    {
      "cell_type": "code",
      "execution_count": null,
      "metadata": {
        "colab": {
          "base_uri": "https://localhost:8080/"
        },
        "id": "sKAs9p1cRmqR",
        "outputId": "cd18197f-db76-42fb-a955-c1bab2ba396f"
      },
      "outputs": [
        {
          "data": {
            "text/plain": [
              "{'Hydraulics_Flow': 0.8784714680954607,\n",
              " 'Grouser_Tracks': 0.8781347745872132,\n",
              " 'Coupler_System': 0.8782757080902821,\n",
              " 'saleElapsed': 0.8780747364566069,\n",
              " 'saledate': 0.8775743905455275,\n",
              " 'saleYear': 0.8777160634533703,\n",
              " 'ProductGroup': 0.8777345710442639,\n",
              " 'ProductGroupDesc': 0.8785070588073342,\n",
              " 'fiBaseModel': 0.8775911401001298,\n",
              " 'fiModelDesc': 0.8764381706728157}"
            ]
          },
          "execution_count": 34,
          "metadata": {},
          "output_type": "execute_result"
        }
      ],
      "source": [
        "{c: get_oob(xs_imp.drop(c, axis=1)) for c in (\n",
        "    'Hydraulics_Flow', 'Grouser_Tracks', 'Coupler_System',\n",
        "    'saleElapsed', 'saledate', 'saleYear',\n",
        "    'ProductGroup', 'ProductGroupDesc',\n",
        "    'fiBaseModel', 'fiModelDesc')}"
      ]
    },
    {
      "cell_type": "markdown",
      "metadata": {
        "id": "JEi-sO0cRsCT"
      },
      "source": [
        "I'll select the variable from each redundant group, the removal of which increased the OOB score (or kept it the same) and remove it from the dataset:"
      ]
    },
    {
      "cell_type": "code",
      "execution_count": null,
      "metadata": {
        "colab": {
          "base_uri": "https://localhost:8080/"
        },
        "id": "qe_kIzo8Rw50",
        "outputId": "fb88f6a5-8aa6-4fa0-9deb-0fcba8a5913e"
      },
      "outputs": [
        {
          "data": {
            "text/plain": [
              "0.8759470650709008"
            ]
          },
          "execution_count": 35,
          "metadata": {},
          "output_type": "execute_result"
        }
      ],
      "source": [
        "to_drop = ['Hydraulics_Flow', 'saleElapsed', 'ProductGroupDesc', 'fiBaseModel']\n",
        "get_oob(xs_imp.drop(to_drop, axis=1))"
      ]
    },
    {
      "cell_type": "code",
      "execution_count": null,
      "metadata": {
        "colab": {
          "base_uri": "https://localhost:8080/"
        },
        "id": "hlTK6wNDYdx-",
        "outputId": "c303e519-924b-4985-efae-0030b788abfc"
      },
      "outputs": [
        {
          "data": {
            "text/plain": [
              "0.9981528476056514"
            ]
          },
          "execution_count": 38,
          "metadata": {},
          "output_type": "execute_result"
        }
      ],
      "source": [
        "0.8759470650709008/0.8775680670271139"
      ]
    },
    {
      "cell_type": "markdown",
      "metadata": {
        "id": "jEL2LWJ7YZc0"
      },
      "source": [
        "The OOB score slightly decreased, but now we have fewer redundant features in the dataset."
      ]
    },
    {
      "cell_type": "code",
      "execution_count": null,
      "metadata": {
        "id": "rW7FnhCjSEVL"
      },
      "outputs": [],
      "source": [
        "xs_final = xs_imp.drop(to_drop, axis=1)\n",
        "valid_xs_final = valid_xs_imp.drop(to_drop, axis=1)"
      ]
    },
    {
      "cell_type": "code",
      "execution_count": null,
      "metadata": {
        "colab": {
          "base_uri": "https://localhost:8080/"
        },
        "id": "-QpGeRrOSEsE",
        "outputId": "c0b9fc58-0aae-4b0c-9253-456f664de6bf"
      },
      "outputs": [
        {
          "data": {
            "text/plain": [
              "(0.181023, 0.37027)"
            ]
          },
          "execution_count": 37,
          "metadata": {},
          "output_type": "execute_result"
        }
      ],
      "source": [
        "# check error\n",
        "m = rf(xs_final, y)\n",
        "m_rmse(m, xs_final, y), m_rmse(m, valid_xs_final, valid_y)"
      ]
    },
    {
      "cell_type": "markdown",
      "metadata": {
        "id": "m97EJEu5Yrs8"
      },
      "source": [
        "The validation error is more than twice the training error and has considerably increased from previous datasets. I'll see if removing out-of-domain features improves the error."
      ]
    },
    {
      "cell_type": "markdown",
      "metadata": {
        "id": "tMsda-WzS44O"
      },
      "source": [
        "### Out-of-Domain Features"
      ]
    },
    {
      "cell_type": "markdown",
      "metadata": {
        "id": "7uCThbapSSv9"
      },
      "source": [
        "I'll remove columns from the training set that are out-of-domain (i.e., significantly different in values from) in the validation set. I'll identify these columns by fitting a random forest to predict whether a row is in the training or validation set and then observing the most important features in this prediction:"
      ]
    },
    {
      "cell_type": "code",
      "execution_count": null,
      "metadata": {
        "colab": {
          "base_uri": "https://localhost:8080/",
          "height": 238
        },
        "id": "cqNhT-8SSdmP",
        "outputId": "b96b35ab-134c-4659-a766-b0b0b19158f6"
      },
      "outputs": [
        {
          "data": {
            "text/html": [
              "\n",
              "  <div id=\"df-89729694-70d0-49b5-8875-041d5640cbd0\" class=\"colab-df-container\">\n",
              "    <div>\n",
              "<style scoped>\n",
              "    .dataframe tbody tr th:only-of-type {\n",
              "        vertical-align: middle;\n",
              "    }\n",
              "\n",
              "    .dataframe tbody tr th {\n",
              "        vertical-align: top;\n",
              "    }\n",
              "\n",
              "    .dataframe thead th {\n",
              "        text-align: right;\n",
              "    }\n",
              "</style>\n",
              "<table border=\"1\" class=\"dataframe\">\n",
              "  <thead>\n",
              "    <tr style=\"text-align: right;\">\n",
              "      <th></th>\n",
              "      <th>cols</th>\n",
              "      <th>imp</th>\n",
              "    </tr>\n",
              "  </thead>\n",
              "  <tbody>\n",
              "    <tr>\n",
              "      <th>7</th>\n",
              "      <td>saledate</td>\n",
              "      <td>0.704401</td>\n",
              "    </tr>\n",
              "    <tr>\n",
              "      <th>15</th>\n",
              "      <td>saleYear</td>\n",
              "      <td>0.215157</td>\n",
              "    </tr>\n",
              "    <tr>\n",
              "      <th>10</th>\n",
              "      <td>SalesID</td>\n",
              "      <td>0.075075</td>\n",
              "    </tr>\n",
              "    <tr>\n",
              "      <th>13</th>\n",
              "      <td>MachineID</td>\n",
              "      <td>0.003997</td>\n",
              "    </tr>\n",
              "    <tr>\n",
              "      <th>0</th>\n",
              "      <td>YearMade</td>\n",
              "      <td>0.000683</td>\n",
              "    </tr>\n",
              "    <tr>\n",
              "      <th>4</th>\n",
              "      <td>ModelID</td>\n",
              "      <td>0.000228</td>\n",
              "    </tr>\n",
              "  </tbody>\n",
              "</table>\n",
              "</div>\n",
              "    <div class=\"colab-df-buttons\">\n",
              "\n",
              "  <div class=\"colab-df-container\">\n",
              "    <button class=\"colab-df-convert\" onclick=\"convertToInteractive('df-89729694-70d0-49b5-8875-041d5640cbd0')\"\n",
              "            title=\"Convert this dataframe to an interactive table.\"\n",
              "            style=\"display:none;\">\n",
              "\n",
              "  <svg xmlns=\"http://www.w3.org/2000/svg\" height=\"24px\" viewBox=\"0 -960 960 960\">\n",
              "    <path d=\"M120-120v-720h720v720H120Zm60-500h600v-160H180v160Zm220 220h160v-160H400v160Zm0 220h160v-160H400v160ZM180-400h160v-160H180v160Zm440 0h160v-160H620v160ZM180-180h160v-160H180v160Zm440 0h160v-160H620v160Z\"/>\n",
              "  </svg>\n",
              "    </button>\n",
              "\n",
              "  <style>\n",
              "    .colab-df-container {\n",
              "      display:flex;\n",
              "      gap: 12px;\n",
              "    }\n",
              "\n",
              "    .colab-df-convert {\n",
              "      background-color: #E8F0FE;\n",
              "      border: none;\n",
              "      border-radius: 50%;\n",
              "      cursor: pointer;\n",
              "      display: none;\n",
              "      fill: #1967D2;\n",
              "      height: 32px;\n",
              "      padding: 0 0 0 0;\n",
              "      width: 32px;\n",
              "    }\n",
              "\n",
              "    .colab-df-convert:hover {\n",
              "      background-color: #E2EBFA;\n",
              "      box-shadow: 0px 1px 2px rgba(60, 64, 67, 0.3), 0px 1px 3px 1px rgba(60, 64, 67, 0.15);\n",
              "      fill: #174EA6;\n",
              "    }\n",
              "\n",
              "    .colab-df-buttons div {\n",
              "      margin-bottom: 4px;\n",
              "    }\n",
              "\n",
              "    [theme=dark] .colab-df-convert {\n",
              "      background-color: #3B4455;\n",
              "      fill: #D2E3FC;\n",
              "    }\n",
              "\n",
              "    [theme=dark] .colab-df-convert:hover {\n",
              "      background-color: #434B5C;\n",
              "      box-shadow: 0px 1px 3px 1px rgba(0, 0, 0, 0.15);\n",
              "      filter: drop-shadow(0px 1px 2px rgba(0, 0, 0, 0.3));\n",
              "      fill: #FFFFFF;\n",
              "    }\n",
              "  </style>\n",
              "\n",
              "    <script>\n",
              "      const buttonEl =\n",
              "        document.querySelector('#df-89729694-70d0-49b5-8875-041d5640cbd0 button.colab-df-convert');\n",
              "      buttonEl.style.display =\n",
              "        google.colab.kernel.accessAllowed ? 'block' : 'none';\n",
              "\n",
              "      async function convertToInteractive(key) {\n",
              "        const element = document.querySelector('#df-89729694-70d0-49b5-8875-041d5640cbd0');\n",
              "        const dataTable =\n",
              "          await google.colab.kernel.invokeFunction('convertToInteractive',\n",
              "                                                    [key], {});\n",
              "        if (!dataTable) return;\n",
              "\n",
              "        const docLinkHtml = 'Like what you see? Visit the ' +\n",
              "          '<a target=\"_blank\" href=https://colab.research.google.com/notebooks/data_table.ipynb>data table notebook</a>'\n",
              "          + ' to learn more about interactive tables.';\n",
              "        element.innerHTML = '';\n",
              "        dataTable['output_type'] = 'display_data';\n",
              "        await google.colab.output.renderOutput(dataTable, element);\n",
              "        const docLink = document.createElement('div');\n",
              "        docLink.innerHTML = docLinkHtml;\n",
              "        element.appendChild(docLink);\n",
              "      }\n",
              "    </script>\n",
              "  </div>\n",
              "\n",
              "\n",
              "<div id=\"df-6fa20863-8778-4de8-b9fa-39724efa6ef9\">\n",
              "  <button class=\"colab-df-quickchart\" onclick=\"quickchart('df-6fa20863-8778-4de8-b9fa-39724efa6ef9')\"\n",
              "            title=\"Suggest charts.\"\n",
              "            style=\"display:none;\">\n",
              "\n",
              "<svg xmlns=\"http://www.w3.org/2000/svg\" height=\"24px\"viewBox=\"0 0 24 24\"\n",
              "     width=\"24px\">\n",
              "    <g>\n",
              "        <path d=\"M19 3H5c-1.1 0-2 .9-2 2v14c0 1.1.9 2 2 2h14c1.1 0 2-.9 2-2V5c0-1.1-.9-2-2-2zM9 17H7v-7h2v7zm4 0h-2V7h2v10zm4 0h-2v-4h2v4z\"/>\n",
              "    </g>\n",
              "</svg>\n",
              "  </button>\n",
              "\n",
              "<style>\n",
              "  .colab-df-quickchart {\n",
              "      --bg-color: #E8F0FE;\n",
              "      --fill-color: #1967D2;\n",
              "      --hover-bg-color: #E2EBFA;\n",
              "      --hover-fill-color: #174EA6;\n",
              "      --disabled-fill-color: #AAA;\n",
              "      --disabled-bg-color: #DDD;\n",
              "  }\n",
              "\n",
              "  [theme=dark] .colab-df-quickchart {\n",
              "      --bg-color: #3B4455;\n",
              "      --fill-color: #D2E3FC;\n",
              "      --hover-bg-color: #434B5C;\n",
              "      --hover-fill-color: #FFFFFF;\n",
              "      --disabled-bg-color: #3B4455;\n",
              "      --disabled-fill-color: #666;\n",
              "  }\n",
              "\n",
              "  .colab-df-quickchart {\n",
              "    background-color: var(--bg-color);\n",
              "    border: none;\n",
              "    border-radius: 50%;\n",
              "    cursor: pointer;\n",
              "    display: none;\n",
              "    fill: var(--fill-color);\n",
              "    height: 32px;\n",
              "    padding: 0;\n",
              "    width: 32px;\n",
              "  }\n",
              "\n",
              "  .colab-df-quickchart:hover {\n",
              "    background-color: var(--hover-bg-color);\n",
              "    box-shadow: 0 1px 2px rgba(60, 64, 67, 0.3), 0 1px 3px 1px rgba(60, 64, 67, 0.15);\n",
              "    fill: var(--button-hover-fill-color);\n",
              "  }\n",
              "\n",
              "  .colab-df-quickchart-complete:disabled,\n",
              "  .colab-df-quickchart-complete:disabled:hover {\n",
              "    background-color: var(--disabled-bg-color);\n",
              "    fill: var(--disabled-fill-color);\n",
              "    box-shadow: none;\n",
              "  }\n",
              "\n",
              "  .colab-df-spinner {\n",
              "    border: 2px solid var(--fill-color);\n",
              "    border-color: transparent;\n",
              "    border-bottom-color: var(--fill-color);\n",
              "    animation:\n",
              "      spin 1s steps(1) infinite;\n",
              "  }\n",
              "\n",
              "  @keyframes spin {\n",
              "    0% {\n",
              "      border-color: transparent;\n",
              "      border-bottom-color: var(--fill-color);\n",
              "      border-left-color: var(--fill-color);\n",
              "    }\n",
              "    20% {\n",
              "      border-color: transparent;\n",
              "      border-left-color: var(--fill-color);\n",
              "      border-top-color: var(--fill-color);\n",
              "    }\n",
              "    30% {\n",
              "      border-color: transparent;\n",
              "      border-left-color: var(--fill-color);\n",
              "      border-top-color: var(--fill-color);\n",
              "      border-right-color: var(--fill-color);\n",
              "    }\n",
              "    40% {\n",
              "      border-color: transparent;\n",
              "      border-right-color: var(--fill-color);\n",
              "      border-top-color: var(--fill-color);\n",
              "    }\n",
              "    60% {\n",
              "      border-color: transparent;\n",
              "      border-right-color: var(--fill-color);\n",
              "    }\n",
              "    80% {\n",
              "      border-color: transparent;\n",
              "      border-right-color: var(--fill-color);\n",
              "      border-bottom-color: var(--fill-color);\n",
              "    }\n",
              "    90% {\n",
              "      border-color: transparent;\n",
              "      border-bottom-color: var(--fill-color);\n",
              "    }\n",
              "  }\n",
              "</style>\n",
              "\n",
              "  <script>\n",
              "    async function quickchart(key) {\n",
              "      const quickchartButtonEl =\n",
              "        document.querySelector('#' + key + ' button');\n",
              "      quickchartButtonEl.disabled = true;  // To prevent multiple clicks.\n",
              "      quickchartButtonEl.classList.add('colab-df-spinner');\n",
              "      try {\n",
              "        const charts = await google.colab.kernel.invokeFunction(\n",
              "            'suggestCharts', [key], {});\n",
              "      } catch (error) {\n",
              "        console.error('Error during call to suggestCharts:', error);\n",
              "      }\n",
              "      quickchartButtonEl.classList.remove('colab-df-spinner');\n",
              "      quickchartButtonEl.classList.add('colab-df-quickchart-complete');\n",
              "    }\n",
              "    (() => {\n",
              "      let quickchartButtonEl =\n",
              "        document.querySelector('#df-6fa20863-8778-4de8-b9fa-39724efa6ef9 button');\n",
              "      quickchartButtonEl.style.display =\n",
              "        google.colab.kernel.accessAllowed ? 'block' : 'none';\n",
              "    })();\n",
              "  </script>\n",
              "</div>\n",
              "    </div>\n",
              "  </div>\n"
            ],
            "text/plain": [
              "         cols       imp\n",
              "7    saledate  0.704401\n",
              "15   saleYear  0.215157\n",
              "10    SalesID  0.075075\n",
              "13  MachineID  0.003997\n",
              "0    YearMade  0.000683\n",
              "4     ModelID  0.000228"
            ]
          },
          "execution_count": 39,
          "metadata": {},
          "output_type": "execute_result"
        }
      ],
      "source": [
        "df_dom = pd.concat([xs_final, valid_xs_final])\n",
        "is_valid = np.array([0]*len(xs_final) + [1]*len(valid_xs_final))\n",
        "\n",
        "m = rf(df_dom, is_valid)\n",
        "rf_feat_importance(m, df_dom)[:6]"
      ]
    },
    {
      "cell_type": "markdown",
      "metadata": {
        "id": "uvV9XbJ4ZX3A"
      },
      "source": [
        "The most important feature in predicting whether a row is in the training or validation set is the `saledate` feature. This makes sense because I explicitly define the training and validation sets based on `saledate`. The next two features of high importance are `saleYear` and `SalesID` which also are related to when the sale occured."
      ]
    },
    {
      "cell_type": "code",
      "execution_count": null,
      "metadata": {
        "colab": {
          "base_uri": "https://localhost:8080/"
        },
        "id": "sCzc1MKXSjKE",
        "outputId": "35e1cb96-b217-48e7-b00e-c6d034fc1af0"
      },
      "outputs": [
        {
          "name": "stdout",
          "output_type": "stream",
          "text": [
            "orig 0.365206\n",
            "saledate 0.246061\n",
            "saleYear 0.437766\n",
            "SalesID 0.402223\n"
          ]
        }
      ],
      "source": [
        "# baseline\n",
        "m = rf(xs_final, y)\n",
        "print('orig', m_rmse(m, valid_xs_final, valid_y))\n",
        "\n",
        "for c in ('saledate', 'saleYear', 'SalesID'):\n",
        "  m = rf(xs_final.drop(c, axis=1), y)\n",
        "  print(c, m_rmse(m, valid_xs_final.drop(c,axis=1), valid_y))"
      ]
    },
    {
      "cell_type": "markdown",
      "metadata": {
        "id": "rRQbyw2qaeZl"
      },
      "source": [
        "Removing `saledate` reduces the error by a third!"
      ]
    },
    {
      "cell_type": "code",
      "execution_count": null,
      "metadata": {
        "id": "_WPZDjvFSl1B"
      },
      "outputs": [],
      "source": [
        "xs_final_time = xs_final.drop('saledate', axis=1)\n",
        "valid_xs_time = valid_xs_final.drop('saledate', axis=1)\n",
        "\n",
        "m = rf(xs_final_time, y)\n",
        "m_rmse(m, valid_xs_time, valid_y)"
      ]
    },
    {
      "cell_type": "code",
      "execution_count": null,
      "metadata": {
        "colab": {
          "base_uri": "https://localhost:8080/"
        },
        "id": "tyN3yxeIbbsS",
        "outputId": "359d99db-ca66-482c-cc04-c8b4a7f7b506"
      },
      "outputs": [
        {
          "data": {
            "text/plain": [
              "(0.189063, 0.247074)"
            ]
          },
          "execution_count": 42,
          "metadata": {},
          "output_type": "execute_result"
        }
      ],
      "source": [
        "m_rmse(m, xs_final_time, y), m_rmse(m, valid_xs_time, valid_y)"
      ]
    },
    {
      "cell_type": "code",
      "execution_count": null,
      "metadata": {
        "colab": {
          "base_uri": "https://localhost:8080/"
        },
        "id": "Z5DI1olscKTF",
        "outputId": "5477d449-094e-4c1f-8fc2-38a2c1a6218a"
      },
      "outputs": [
        {
          "data": {
            "text/plain": [
              "18"
            ]
          },
          "execution_count": 43,
          "metadata": {},
          "output_type": "execute_result"
        }
      ],
      "source": [
        "len(xs_final_time.columns)"
      ]
    },
    {
      "cell_type": "markdown",
      "metadata": {
        "id": "5NfzIuhUSgQV"
      },
      "source": [
        "The validation error is still larger than the training error but removing `saledate` has reduced the validation error considerably, even when compared to the original dataset and the dataset after only low-importance features were removed. I consider this process of feature removal successful."
      ]
    },
    {
      "cell_type": "markdown",
      "metadata": {
        "id": "eo70QukTTI_h"
      },
      "source": [
        "## Train a Neural Net"
      ]
    },
    {
      "cell_type": "markdown",
      "metadata": {
        "id": "tb4JqPkyUHuI"
      },
      "source": [
        "I'll re-load the data and apply the same feature engineering as before:"
      ]
    },
    {
      "cell_type": "code",
      "execution_count": null,
      "metadata": {
        "id": "htkQWwG6TRDt"
      },
      "outputs": [],
      "source": [
        "df_nn = pd.read_csv(path/'TrainAndValid.csv', low_memory=False)\n",
        "df_nn['ProductSize'] = df_nn['ProductSize'].astype('category')\n",
        "df_nn['ProductSize'].cat.set_categories(sizes, ordered=True, inplace=True)\n",
        "df_nn[dep_var] = np.log(df_nn[dep_var])\n",
        "df_nn = add_datepart(df_nn, 'saledate')"
      ]
    },
    {
      "cell_type": "code",
      "execution_count": null,
      "metadata": {
        "id": "aLod_Zz4TUV9"
      },
      "outputs": [],
      "source": [
        "df_nn_final = df_nn[list(xs_final_time.columns) + [dep_var]]"
      ]
    },
    {
      "cell_type": "code",
      "execution_count": null,
      "metadata": {
        "colab": {
          "base_uri": "https://localhost:8080/"
        },
        "id": "xZNx4-Qrcn0y",
        "outputId": "3abab71f-c37f-46c3-cc15-47bbbd18b7c6"
      },
      "outputs": [
        {
          "data": {
            "text/plain": [
              "19"
            ]
          },
          "execution_count": 46,
          "metadata": {},
          "output_type": "execute_result"
        }
      ],
      "source": [
        "len(df_nn_final.columns)"
      ]
    },
    {
      "cell_type": "markdown",
      "metadata": {
        "id": "6DZhCFzGUMVs"
      },
      "source": [
        "I'll split the columns into continuous and categorical groups:"
      ]
    },
    {
      "cell_type": "code",
      "execution_count": null,
      "metadata": {
        "id": "PEl1QlyXTKXA"
      },
      "outputs": [],
      "source": [
        "cont_nn, cat_nn = cont_cat_split(df_nn_final, max_card=9000, dep_var=dep_var)"
      ]
    },
    {
      "cell_type": "markdown",
      "metadata": {
        "id": "mwk1Q7o1UW8M"
      },
      "source": [
        "I'll look at the cardinality of the categorical variables and see if there are any variables that have similarly large cardinality (as those would be candidates for removal). I also want to look at cardinality so I can later on identify which embeddings belong to which categorical variables."
      ]
    },
    {
      "cell_type": "code",
      "execution_count": null,
      "metadata": {
        "colab": {
          "base_uri": "https://localhost:8080/"
        },
        "id": "xspPadmxTZxq",
        "outputId": "26e3423d-1b9b-455c-bdb7-bbfd2c85223a"
      },
      "outputs": [
        {
          "data": {
            "text/plain": [
              "YearMade                73\n",
              "ProductSize              6\n",
              "Coupler_System           2\n",
              "fiProductClassDesc      74\n",
              "ModelID               5281\n",
              "Grouser_Tracks           2\n",
              "fiSecondaryDesc        177\n",
              "fiModelDesc           5059\n",
              "ProductGroup             6\n",
              "Enclosure                6\n",
              "fiModelDescriptor      140\n",
              "Hydraulics              12\n",
              "saleYear                24\n",
              "Drive_System             4\n",
              "Tire_Size               17\n",
              "Pad_Type                 4\n",
              "dtype: int64"
            ]
          },
          "execution_count": 48,
          "metadata": {},
          "output_type": "execute_result"
        }
      ],
      "source": [
        "df_nn_final[cat_nn].nunique()"
      ]
    },
    {
      "cell_type": "markdown",
      "metadata": {
        "id": "VhzOE-Pkd_qE"
      },
      "source": [
        "The two features with similar high cardinality are `ModelID` and `fiModelDesc`. I'll remove and see which one improves the model more."
      ]
    },
    {
      "cell_type": "code",
      "execution_count": null,
      "metadata": {
        "colab": {
          "base_uri": "https://localhost:8080/"
        },
        "id": "O5WjFCJid9UP",
        "outputId": "e52152ce-fe3e-40bb-8764-202aad512751"
      },
      "outputs": [
        {
          "data": {
            "text/plain": [
              "(0.190922, 0.250589)"
            ]
          },
          "execution_count": 49,
          "metadata": {},
          "output_type": "execute_result"
        }
      ],
      "source": [
        "xs_final_time2 = xs_final_time.drop('ModelID', axis=1)\n",
        "valid_xs_time2 = valid_xs_time.drop('ModelID', axis=1)\n",
        "m2 = rf(xs_final_time2, y)\n",
        "m_rmse(m2, xs_final_time2, y), m_rmse(m2, valid_xs_time2, valid_y)"
      ]
    },
    {
      "cell_type": "code",
      "execution_count": null,
      "metadata": {
        "colab": {
          "base_uri": "https://localhost:8080/"
        },
        "id": "dQSEkgbdgAKu",
        "outputId": "98126ca3-d992-46fd-c994-da75ab7a347d"
      },
      "outputs": [
        {
          "data": {
            "text/plain": [
              "(0.192338, 0.251594)"
            ]
          },
          "execution_count": 50,
          "metadata": {},
          "output_type": "execute_result"
        }
      ],
      "source": [
        "xs_final_time2 = xs_final_time.drop('fiModelDesc', axis=1)\n",
        "valid_xs_time2 = valid_xs_time.drop('fiModelDesc', axis=1)\n",
        "m2 = rf(xs_final_time2, y)\n",
        "m_rmse(m2, xs_final_time2, y), m_rmse(m2, valid_xs_time2, valid_y)"
      ]
    },
    {
      "cell_type": "markdown",
      "metadata": {
        "id": "_nTDQHghf3we"
      },
      "source": [
        "Removing `ModelID` gives a smaller error than removing `fiModelDesc`. Also, we want to predict future auction sales so I'll move `saleYear` to `cont_nn` (as categorical values cannot be extrapolated beyond their existing levels)."
      ]
    },
    {
      "cell_type": "code",
      "execution_count": null,
      "metadata": {
        "id": "rUCdgKASf6K9"
      },
      "outputs": [],
      "source": [
        "cat_nn.remove('ModelID')\n",
        "cat_nn.remove('saleYear')\n",
        "cont_nn.append('saleYear')"
      ]
    },
    {
      "cell_type": "code",
      "execution_count": null,
      "metadata": {
        "colab": {
          "base_uri": "https://localhost:8080/"
        },
        "id": "i2bg0yMHgiww",
        "outputId": "02656b15-66df-4e50-f150-c87117a0724f"
      },
      "outputs": [
        {
          "data": {
            "text/plain": [
              "YearMade                73\n",
              "ProductSize              6\n",
              "Coupler_System           2\n",
              "fiProductClassDesc      74\n",
              "Grouser_Tracks           2\n",
              "fiSecondaryDesc        177\n",
              "fiModelDesc           5059\n",
              "ProductGroup             6\n",
              "Enclosure                6\n",
              "fiModelDescriptor      140\n",
              "Hydraulics              12\n",
              "Drive_System             4\n",
              "Tire_Size               17\n",
              "Pad_Type                 4\n",
              "dtype: int64"
            ]
          },
          "execution_count": 53,
          "metadata": {},
          "output_type": "execute_result"
        }
      ],
      "source": [
        "df_nn_final[cat_nn].nunique()"
      ]
    },
    {
      "cell_type": "code",
      "execution_count": null,
      "metadata": {
        "colab": {
          "base_uri": "https://localhost:8080/"
        },
        "id": "-0CY07cDgki-",
        "outputId": "19bb2ad0-f865-4cac-f3a4-ed67c5c34c5b"
      },
      "outputs": [
        {
          "data": {
            "text/plain": [
              "['SalesID', 'MachineID', 'saleYear']"
            ]
          },
          "execution_count": 54,
          "metadata": {},
          "output_type": "execute_result"
        }
      ],
      "source": [
        "cont_nn"
      ]
    },
    {
      "cell_type": "code",
      "execution_count": null,
      "metadata": {
        "id": "KTdXfcEfT3Eq"
      },
      "outputs": [],
      "source": [
        "procs_nn = [Categorify, FillMissing, Normalize]\n",
        "to_nn = TabularPandas(df_nn_final, procs_nn, cat_nn, cont_nn, splits=splits, y_names=dep_var)"
      ]
    },
    {
      "cell_type": "code",
      "execution_count": null,
      "metadata": {
        "id": "z_viVM1AcGat"
      },
      "outputs": [],
      "source": [
        "# save for later\n",
        "data = (xs_final_time, y, valid_xs_time, valid_y)\n",
        "save_pickle(\"to_nn.pkl\", to_nn)\n",
        "save_pickle(\"data.pkl\", data)"
      ]
    },
    {
      "cell_type": "code",
      "execution_count": 4,
      "metadata": {
        "id": "7m3qcM-fh9bD"
      },
      "outputs": [],
      "source": [
        "# load objects\n",
        "to_nn = load_pickle(\"to_nn.pkl\")\n",
        "xs_final_time, y, valid_xs_time, valid_y = load_pickle(\"data.pkl\")"
      ]
    },
    {
      "cell_type": "code",
      "execution_count": 5,
      "metadata": {
        "id": "nUs65-e1T5qA"
      },
      "outputs": [],
      "source": [
        "dls = to_nn.dataloaders(1024)"
      ]
    },
    {
      "cell_type": "code",
      "execution_count": 6,
      "metadata": {
        "colab": {
          "base_uri": "https://localhost:8080/"
        },
        "id": "wTHxLmtkT7YW",
        "outputId": "ce3522cf-3c47-46c3-a889-b72377b0d5b2"
      },
      "outputs": [
        {
          "data": {
            "text/plain": [
              "(8.465899, 11.863583)"
            ]
          },
          "execution_count": 6,
          "metadata": {},
          "output_type": "execute_result"
        }
      ],
      "source": [
        "# set y-range\n",
        "y = to_nn.train.y\n",
        "y.min(), y.max()"
      ]
    },
    {
      "cell_type": "code",
      "execution_count": 7,
      "metadata": {
        "colab": {
          "base_uri": "https://localhost:8080/",
          "height": 472
        },
        "id": "11ejYRTJT-W-",
        "outputId": "9a7bf911-f5b9-4d8e-8e31-1f994490421d"
      },
      "outputs": [
        {
          "data": {
            "text/html": [
              "\n",
              "<style>\n",
              "    /* Turns off some styling */\n",
              "    progress {\n",
              "        /* gets rid of default border in Firefox and Opera. */\n",
              "        border: none;\n",
              "        /* Needs to be in here for Safari polyfill so background images work as expected. */\n",
              "        background-size: auto;\n",
              "    }\n",
              "    progress:not([value]), progress:not([value])::-webkit-progress-bar {\n",
              "        background: repeating-linear-gradient(45deg, #7e7e7e, #7e7e7e 10px, #5c5c5c 10px, #5c5c5c 20px);\n",
              "    }\n",
              "    .progress-bar-interrupted, .progress-bar-interrupted::-webkit-progress-bar {\n",
              "        background: #F44336;\n",
              "    }\n",
              "</style>\n"
            ],
            "text/plain": [
              "<IPython.core.display.HTML object>"
            ]
          },
          "metadata": {},
          "output_type": "display_data"
        },
        {
          "data": {
            "text/html": [],
            "text/plain": [
              "<IPython.core.display.HTML object>"
            ]
          },
          "metadata": {},
          "output_type": "display_data"
        },
        {
          "data": {
            "text/plain": [
              "SuggestedLRs(valley=0.00013182566908653826)"
            ]
          },
          "execution_count": 7,
          "metadata": {},
          "output_type": "execute_result"
        },
        {
          "data": {
            "image/png": "[encoded data removed]",
            "text/plain": [
              "<Figure size 640x480 with 1 Axes>"
            ]
          },
          "metadata": {},
          "output_type": "display_data"
        }
      ],
      "source": [
        "from fastai.tabular.all import *\n",
        "learn = tabular_learner(dls, y_range=(8,12), layers=[500,250],\n",
        "                        n_out=1, loss_func=F.mse_loss)\n",
        "\n",
        "learn.lr_find()"
      ]
    },
    {
      "cell_type": "code",
      "execution_count": 8,
      "metadata": {
        "colab": {
          "base_uri": "https://localhost:8080/",
          "height": 206
        },
        "id": "OPpmbxiAUAqS",
        "outputId": "c29eb9b1-42b7-4948-ce55-56e66b8426e9"
      },
      "outputs": [
        {
          "data": {
            "text/html": [
              "\n",
              "<style>\n",
              "    /* Turns off some styling */\n",
              "    progress {\n",
              "        /* gets rid of default border in Firefox and Opera. */\n",
              "        border: none;\n",
              "        /* Needs to be in here for Safari polyfill so background images work as expected. */\n",
              "        background-size: auto;\n",
              "    }\n",
              "    progress:not([value]), progress:not([value])::-webkit-progress-bar {\n",
              "        background: repeating-linear-gradient(45deg, #7e7e7e, #7e7e7e 10px, #5c5c5c 10px, #5c5c5c 20px);\n",
              "    }\n",
              "    .progress-bar-interrupted, .progress-bar-interrupted::-webkit-progress-bar {\n",
              "        background: #F44336;\n",
              "    }\n",
              "</style>\n"
            ],
            "text/plain": [
              "<IPython.core.display.HTML object>"
            ]
          },
          "metadata": {},
          "output_type": "display_data"
        },
        {
          "data": {
            "text/html": [
              "<table border=\"1\" class=\"dataframe\">\n",
              "  <thead>\n",
              "    <tr style=\"text-align: left;\">\n",
              "      <th>epoch</th>\n",
              "      <th>train_loss</th>\n",
              "      <th>valid_loss</th>\n",
              "      <th>time</th>\n",
              "    </tr>\n",
              "  </thead>\n",
              "  <tbody>\n",
              "    <tr>\n",
              "      <td>0</td>\n",
              "      <td>0.066889</td>\n",
              "      <td>0.173385</td>\n",
              "      <td>00:30</td>\n",
              "    </tr>\n",
              "    <tr>\n",
              "      <td>1</td>\n",
              "      <td>0.055220</td>\n",
              "      <td>0.071100</td>\n",
              "      <td>00:27</td>\n",
              "    </tr>\n",
              "    <tr>\n",
              "      <td>2</td>\n",
              "      <td>0.050529</td>\n",
              "      <td>0.059935</td>\n",
              "      <td>00:30</td>\n",
              "    </tr>\n",
              "    <tr>\n",
              "      <td>3</td>\n",
              "      <td>0.045348</td>\n",
              "      <td>0.058667</td>\n",
              "      <td>00:27</td>\n",
              "    </tr>\n",
              "    <tr>\n",
              "      <td>4</td>\n",
              "      <td>0.041716</td>\n",
              "      <td>0.058603</td>\n",
              "      <td>00:27</td>\n",
              "    </tr>\n",
              "  </tbody>\n",
              "</table>"
            ],
            "text/plain": [
              "<IPython.core.display.HTML object>"
            ]
          },
          "metadata": {},
          "output_type": "display_data"
        }
      ],
      "source": [
        "learn.fit_one_cycle(5, 1e-2)"
      ]
    },
    {
      "cell_type": "code",
      "execution_count": 11,
      "metadata": {
        "colab": {
          "base_uri": "https://localhost:8080/",
          "height": 35
        },
        "id": "izLppBGzUA6K",
        "outputId": "c0e4e09b-002c-46b8-cde7-05496e6db494"
      },
      "outputs": [
        {
          "data": {
            "text/html": [
              "\n",
              "<style>\n",
              "    /* Turns off some styling */\n",
              "    progress {\n",
              "        /* gets rid of default border in Firefox and Opera. */\n",
              "        border: none;\n",
              "        /* Needs to be in here for Safari polyfill so background images work as expected. */\n",
              "        background-size: auto;\n",
              "    }\n",
              "    progress:not([value]), progress:not([value])::-webkit-progress-bar {\n",
              "        background: repeating-linear-gradient(45deg, #7e7e7e, #7e7e7e 10px, #5c5c5c 10px, #5c5c5c 20px);\n",
              "    }\n",
              "    .progress-bar-interrupted, .progress-bar-interrupted::-webkit-progress-bar {\n",
              "        background: #F44336;\n",
              "    }\n",
              "</style>\n"
            ],
            "text/plain": [
              "<IPython.core.display.HTML object>"
            ]
          },
          "metadata": {},
          "output_type": "display_data"
        },
        {
          "data": {
            "text/html": [],
            "text/plain": [
              "<IPython.core.display.HTML object>"
            ]
          },
          "metadata": {},
          "output_type": "display_data"
        },
        {
          "data": {
            "text/plain": [
              "0.242081"
            ]
          },
          "execution_count": 11,
          "metadata": {},
          "output_type": "execute_result"
        }
      ],
      "source": [
        "preds, targs = learn.get_preds()\n",
        "r_mse(preds, targs)"
      ]
    },
    {
      "cell_type": "markdown",
      "metadata": {
        "id": "sS8oPpf8VJum"
      },
      "source": [
        "## Neural Net Embeddings"
      ]
    },
    {
      "cell_type": "markdown",
      "metadata": {
        "id": "5kBiFVtAVNrA"
      },
      "source": [
        "Now that the model is trained, let's take a look at the embeddings that it created. The first dimension of each embedding roughly corresponds to the number of unique values in the corresponding categorical column:"
      ]
    },
    {
      "cell_type": "code",
      "execution_count": 12,
      "metadata": {
        "colab": {
          "base_uri": "https://localhost:8080/"
        },
        "id": "b588mcmzVS6-",
        "outputId": "18660b56-3ed8-4ab8-a436-aa69af4c900b"
      },
      "outputs": [
        {
          "data": {
            "text/plain": [
              "ModuleList(\n",
              "  (0): Embedding(72, 18)\n",
              "  (1): Embedding(7, 5)\n",
              "  (2): Embedding(3, 3)\n",
              "  (3): Embedding(75, 18)\n",
              "  (4): Embedding(3, 3)\n",
              "  (5): Embedding(178, 29)\n",
              "  (6): Embedding(5060, 190)\n",
              "  (7-8): 2 x Embedding(7, 5)\n",
              "  (9): Embedding(141, 26)\n",
              "  (10): Embedding(13, 7)\n",
              "  (11): Embedding(5, 4)\n",
              "  (12): Embedding(18, 8)\n",
              "  (13): Embedding(5, 4)\n",
              ")"
            ]
          },
          "execution_count": 12,
          "metadata": {},
          "output_type": "execute_result"
        }
      ],
      "source": [
        "learn.model.embeds"
      ]
    },
    {
      "cell_type": "code",
      "execution_count": null,
      "metadata": {
        "colab": {
          "base_uri": "https://localhost:8080/"
        },
        "id": "c9QD4x7MlK1C",
        "outputId": "f079da4b-284c-4ba5-f491-863f6b9802e4"
      },
      "outputs": [
        {
          "data": {
            "text/plain": [
              "YearMade                71\n",
              "ProductSize              7\n",
              "Coupler_System           3\n",
              "fiProductClassDesc      74\n",
              "Grouser_Tracks           3\n",
              "fiSecondaryDesc        176\n",
              "fiModelDesc           4965\n",
              "ProductGroup             6\n",
              "Enclosure                7\n",
              "fiModelDescriptor      140\n",
              "Hydraulics              13\n",
              "Drive_System             5\n",
              "Tire_Size               18\n",
              "Pad_Type                 5\n",
              "dtype: int64"
            ]
          },
          "execution_count": 18,
          "metadata": {},
          "output_type": "execute_result"
        }
      ],
      "source": [
        "to_nn.train.xs[to_nn.cat_names].nunique()"
      ]
    },
    {
      "cell_type": "markdown",
      "metadata": {
        "id": "RZQQ7nTIQRmu"
      },
      "source": [
        "In [this medium blog post](https://towardsdatascience.com/entity-embeddings-for-ml-2387eb68e49#:~:text=2.%20Replace%20each%20categorical%20value%20with%20its%20embedding%20vector) Adam Mehdi uses the following code to replace categorical columns in the training set with embedding matrices:\n",
        "\n",
        "```python\n",
        "def embed_features(learner, xs):\n",
        "  \"\"\"\n",
        "  learner: fastai Learner used to train the neural net\n",
        "  xs: DataFrame containing input variables. Categorical values are defined by their rank.\n",
        " ::return:: copy of `xs` with embeddings replacing each categorical variable\n",
        "  \"\"\"\n",
        "  xs = xs.copy()\n",
        "  for i,col in enumerate(learn.dls.cat_names):\n",
        "    \n",
        "    # get matrix containing each row's embedding vector\n",
        "    emb = learn.model.embeds[i]\n",
        "    emb_data = emb(tensor(xs[col], dtype=torch.int64))\n",
        "    emb_names = [f'{col}_{j}' for j in range(emb_data.shape[1])]\n",
        "    \n",
        "    # join the embedded category and drop the old feature column\n",
        "    feat_df = pd.DataFrame(data=emb_data, index=xs.index,               \n",
        "                           columns=emb_names)\n",
        "    xs = xs.drop(col, axis=1)\n",
        "    xs = xs.join(feat_df)\n",
        "  return xs\n",
        "```\n",
        "\n",
        "I'll work through the code line-by-line for one of the categorical columns, `ProductSize`. First we grab the column's corresponding `Embedding` from the model:"
      ]
    },
    {
      "cell_type": "code",
      "execution_count": 20,
      "metadata": {
        "colab": {
          "base_uri": "https://localhost:8080/"
        },
        "id": "63ps4_w1Q8jt",
        "outputId": "9d775a84-24ee-4a35-e964-a80553dfacec"
      },
      "outputs": [
        {
          "data": {
            "text/plain": [
              "Embedding(7, 5)"
            ]
          },
          "execution_count": 20,
          "metadata": {},
          "output_type": "execute_result"
        }
      ],
      "source": [
        "emb = learn.model.embeds[1]\n",
        "emb"
      ]
    },
    {
      "cell_type": "markdown",
      "metadata": {
        "id": "ZRh8L0cCRfiT"
      },
      "source": [
        "I then pass all `ProductSize` values to that `Embedding` as an integer tensor. The output is a matrix with one row for each training observation, and 5 columns (chosen by the model for `ProductSize`):"
      ]
    },
    {
      "cell_type": "code",
      "execution_count": 22,
      "metadata": {
        "colab": {
          "base_uri": "https://localhost:8080/"
        },
        "id": "3VRxSduqRB9r",
        "outputId": "720079a9-3a25-4f6d-fb85-e2e983400ca9"
      },
      "outputs": [
        {
          "data": {
            "text/plain": [
              "torch.Size([395371, 5])"
            ]
          },
          "execution_count": 22,
          "metadata": {},
          "output_type": "execute_result"
        }
      ],
      "source": [
        "emb_data = emb(tensor(xs_final_time['ProductSize'], dtype=torch.int64))\n",
        "emb_data.shape"
      ]
    },
    {
      "cell_type": "code",
      "execution_count": 23,
      "metadata": {
        "colab": {
          "base_uri": "https://localhost:8080/"
        },
        "id": "WfMCOmDrRwcw",
        "outputId": "1b048e39-9527-483d-9866-c004ccd56d59"
      },
      "outputs": [
        {
          "data": {
            "text/plain": [
              "395371"
            ]
          },
          "execution_count": 23,
          "metadata": {},
          "output_type": "execute_result"
        }
      ],
      "source": [
        "len(xs_final_time)"
      ]
    },
    {
      "cell_type": "markdown",
      "metadata": {
        "id": "XHXKxKwoSApm"
      },
      "source": [
        "To appropriately name the columns in the updated dataset, I label the embedding layer names as done in the medium post:"
      ]
    },
    {
      "cell_type": "code",
      "execution_count": 26,
      "metadata": {
        "colab": {
          "base_uri": "https://localhost:8080/"
        },
        "id": "1L1PzQAzRVqG",
        "outputId": "077bb8a4-0302-490f-a345-958430537e2b"
      },
      "outputs": [
        {
          "data": {
            "text/plain": [
              "['ProductSize_0',\n",
              " 'ProductSize_1',\n",
              " 'ProductSize_2',\n",
              " 'ProductSize_3',\n",
              " 'ProductSize_4']"
            ]
          },
          "execution_count": 26,
          "metadata": {},
          "output_type": "execute_result"
        }
      ],
      "source": [
        "emb_names = [f'ProductSize_{j}' for j in range(emb_data.shape[1])]\n",
        "emb_names"
      ]
    },
    {
      "cell_type": "markdown",
      "metadata": {
        "id": "gUZEZUOLTfVM"
      },
      "source": [
        "I then convert the 2-D tensor to a `DataFrame`:"
      ]
    },
    {
      "cell_type": "code",
      "execution_count": 28,
      "metadata": {
        "colab": {
          "base_uri": "https://localhost:8080/",
          "height": 206
        },
        "id": "nv1MZ4psTSSr",
        "outputId": "e23af1a7-8d25-4ad1-de57-0a28e3fe2e74"
      },
      "outputs": [
        {
          "data": {
            "text/html": [
              "\n",
              "  <div id=\"df-f4506617-5d0f-4b1b-9a02-ce3b00744e7e\" class=\"colab-df-container\">\n",
              "    <div>\n",
              "<style scoped>\n",
              "    .dataframe tbody tr th:only-of-type {\n",
              "        vertical-align: middle;\n",
              "    }\n",
              "\n",
              "    .dataframe tbody tr th {\n",
              "        vertical-align: top;\n",
              "    }\n",
              "\n",
              "    .dataframe thead th {\n",
              "        text-align: right;\n",
              "    }\n",
              "</style>\n",
              "<table border=\"1\" class=\"dataframe\">\n",
              "  <thead>\n",
              "    <tr style=\"text-align: right;\">\n",
              "      <th></th>\n",
              "      <th>ProductSize_0</th>\n",
              "      <th>ProductSize_1</th>\n",
              "      <th>ProductSize_2</th>\n",
              "      <th>ProductSize_3</th>\n",
              "      <th>ProductSize_4</th>\n",
              "    </tr>\n",
              "  </thead>\n",
              "  <tbody>\n",
              "    <tr>\n",
              "      <th>0</th>\n",
              "      <td>-0.003886</td>\n",
              "      <td>0.204614</td>\n",
              "      <td>-0.099826</td>\n",
              "      <td>0.152207</td>\n",
              "      <td>0.215685</td>\n",
              "    </tr>\n",
              "    <tr>\n",
              "      <th>1</th>\n",
              "      <td>-0.114329</td>\n",
              "      <td>-0.100198</td>\n",
              "      <td>-0.071906</td>\n",
              "      <td>-0.128801</td>\n",
              "      <td>-0.039516</td>\n",
              "    </tr>\n",
              "    <tr>\n",
              "      <th>2</th>\n",
              "      <td>-0.003886</td>\n",
              "      <td>0.204614</td>\n",
              "      <td>-0.099826</td>\n",
              "      <td>0.152207</td>\n",
              "      <td>0.215685</td>\n",
              "    </tr>\n",
              "    <tr>\n",
              "      <th>3</th>\n",
              "      <td>-0.005051</td>\n",
              "      <td>0.042276</td>\n",
              "      <td>-0.102471</td>\n",
              "      <td>0.016768</td>\n",
              "      <td>0.001030</td>\n",
              "    </tr>\n",
              "    <tr>\n",
              "      <th>4</th>\n",
              "      <td>-0.003886</td>\n",
              "      <td>0.204614</td>\n",
              "      <td>-0.099826</td>\n",
              "      <td>0.152207</td>\n",
              "      <td>0.215685</td>\n",
              "    </tr>\n",
              "  </tbody>\n",
              "</table>\n",
              "</div>\n",
              "    <div class=\"colab-df-buttons\">\n",
              "\n",
              "  <div class=\"colab-df-container\">\n",
              "    <button class=\"colab-df-convert\" onclick=\"convertToInteractive('df-f4506617-5d0f-4b1b-9a02-ce3b00744e7e')\"\n",
              "            title=\"Convert this dataframe to an interactive table.\"\n",
              "            style=\"display:none;\">\n",
              "\n",
              "  <svg xmlns=\"http://www.w3.org/2000/svg\" height=\"24px\" viewBox=\"0 -960 960 960\">\n",
              "    <path d=\"M120-120v-720h720v720H120Zm60-500h600v-160H180v160Zm220 220h160v-160H400v160Zm0 220h160v-160H400v160ZM180-400h160v-160H180v160Zm440 0h160v-160H620v160ZM180-180h160v-160H180v160Zm440 0h160v-160H620v160Z\"/>\n",
              "  </svg>\n",
              "    </button>\n",
              "\n",
              "  <style>\n",
              "    .colab-df-container {\n",
              "      display:flex;\n",
              "      gap: 12px;\n",
              "    }\n",
              "\n",
              "    .colab-df-convert {\n",
              "      background-color: #E8F0FE;\n",
              "      border: none;\n",
              "      border-radius: 50%;\n",
              "      cursor: pointer;\n",
              "      display: none;\n",
              "      fill: #1967D2;\n",
              "      height: 32px;\n",
              "      padding: 0 0 0 0;\n",
              "      width: 32px;\n",
              "    }\n",
              "\n",
              "    .colab-df-convert:hover {\n",
              "      background-color: #E2EBFA;\n",
              "      box-shadow: 0px 1px 2px rgba(60, 64, 67, 0.3), 0px 1px 3px 1px rgba(60, 64, 67, 0.15);\n",
              "      fill: #174EA6;\n",
              "    }\n",
              "\n",
              "    .colab-df-buttons div {\n",
              "      margin-bottom: 4px;\n",
              "    }\n",
              "\n",
              "    [theme=dark] .colab-df-convert {\n",
              "      background-color: #3B4455;\n",
              "      fill: #D2E3FC;\n",
              "    }\n",
              "\n",
              "    [theme=dark] .colab-df-convert:hover {\n",
              "      background-color: #434B5C;\n",
              "      box-shadow: 0px 1px 3px 1px rgba(0, 0, 0, 0.15);\n",
              "      filter: drop-shadow(0px 1px 2px rgba(0, 0, 0, 0.3));\n",
              "      fill: #FFFFFF;\n",
              "    }\n",
              "  </style>\n",
              "\n",
              "    <script>\n",
              "      const buttonEl =\n",
              "        document.querySelector('#df-f4506617-5d0f-4b1b-9a02-ce3b00744e7e button.colab-df-convert');\n",
              "      buttonEl.style.display =\n",
              "        google.colab.kernel.accessAllowed ? 'block' : 'none';\n",
              "\n",
              "      async function convertToInteractive(key) {\n",
              "        const element = document.querySelector('#df-f4506617-5d0f-4b1b-9a02-ce3b00744e7e');\n",
              "        const dataTable =\n",
              "          await google.colab.kernel.invokeFunction('convertToInteractive',\n",
              "                                                    [key], {});\n",
              "        if (!dataTable) return;\n",
              "\n",
              "        const docLinkHtml = 'Like what you see? Visit the ' +\n",
              "          '<a target=\"_blank\" href=https://colab.research.google.com/notebooks/data_table.ipynb>data table notebook</a>'\n",
              "          + ' to learn more about interactive tables.';\n",
              "        element.innerHTML = '';\n",
              "        dataTable['output_type'] = 'display_data';\n",
              "        await google.colab.output.renderOutput(dataTable, element);\n",
              "        const docLink = document.createElement('div');\n",
              "        docLink.innerHTML = docLinkHtml;\n",
              "        element.appendChild(docLink);\n",
              "      }\n",
              "    </script>\n",
              "  </div>\n",
              "\n",
              "\n",
              "<div id=\"df-bde684f8-9a96-4a66-a1a0-b895f0f4185b\">\n",
              "  <button class=\"colab-df-quickchart\" onclick=\"quickchart('df-bde684f8-9a96-4a66-a1a0-b895f0f4185b')\"\n",
              "            title=\"Suggest charts.\"\n",
              "            style=\"display:none;\">\n",
              "\n",
              "<svg xmlns=\"http://www.w3.org/2000/svg\" height=\"24px\"viewBox=\"0 0 24 24\"\n",
              "     width=\"24px\">\n",
              "    <g>\n",
              "        <path d=\"M19 3H5c-1.1 0-2 .9-2 2v14c0 1.1.9 2 2 2h14c1.1 0 2-.9 2-2V5c0-1.1-.9-2-2-2zM9 17H7v-7h2v7zm4 0h-2V7h2v10zm4 0h-2v-4h2v4z\"/>\n",
              "    </g>\n",
              "</svg>\n",
              "  </button>\n",
              "\n",
              "<style>\n",
              "  .colab-df-quickchart {\n",
              "      --bg-color: #E8F0FE;\n",
              "      --fill-color: #1967D2;\n",
              "      --hover-bg-color: #E2EBFA;\n",
              "      --hover-fill-color: #174EA6;\n",
              "      --disabled-fill-color: #AAA;\n",
              "      --disabled-bg-color: #DDD;\n",
              "  }\n",
              "\n",
              "  [theme=dark] .colab-df-quickchart {\n",
              "      --bg-color: #3B4455;\n",
              "      --fill-color: #D2E3FC;\n",
              "      --hover-bg-color: #434B5C;\n",
              "      --hover-fill-color: #FFFFFF;\n",
              "      --disabled-bg-color: #3B4455;\n",
              "      --disabled-fill-color: #666;\n",
              "  }\n",
              "\n",
              "  .colab-df-quickchart {\n",
              "    background-color: var(--bg-color);\n",
              "    border: none;\n",
              "    border-radius: 50%;\n",
              "    cursor: pointer;\n",
              "    display: none;\n",
              "    fill: var(--fill-color);\n",
              "    height: 32px;\n",
              "    padding: 0;\n",
              "    width: 32px;\n",
              "  }\n",
              "\n",
              "  .colab-df-quickchart:hover {\n",
              "    background-color: var(--hover-bg-color);\n",
              "    box-shadow: 0 1px 2px rgba(60, 64, 67, 0.3), 0 1px 3px 1px rgba(60, 64, 67, 0.15);\n",
              "    fill: var(--button-hover-fill-color);\n",
              "  }\n",
              "\n",
              "  .colab-df-quickchart-complete:disabled,\n",
              "  .colab-df-quickchart-complete:disabled:hover {\n",
              "    background-color: var(--disabled-bg-color);\n",
              "    fill: var(--disabled-fill-color);\n",
              "    box-shadow: none;\n",
              "  }\n",
              "\n",
              "  .colab-df-spinner {\n",
              "    border: 2px solid var(--fill-color);\n",
              "    border-color: transparent;\n",
              "    border-bottom-color: var(--fill-color);\n",
              "    animation:\n",
              "      spin 1s steps(1) infinite;\n",
              "  }\n",
              "\n",
              "  @keyframes spin {\n",
              "    0% {\n",
              "      border-color: transparent;\n",
              "      border-bottom-color: var(--fill-color);\n",
              "      border-left-color: var(--fill-color);\n",
              "    }\n",
              "    20% {\n",
              "      border-color: transparent;\n",
              "      border-left-color: var(--fill-color);\n",
              "      border-top-color: var(--fill-color);\n",
              "    }\n",
              "    30% {\n",
              "      border-color: transparent;\n",
              "      border-left-color: var(--fill-color);\n",
              "      border-top-color: var(--fill-color);\n",
              "      border-right-color: var(--fill-color);\n",
              "    }\n",
              "    40% {\n",
              "      border-color: transparent;\n",
              "      border-right-color: var(--fill-color);\n",
              "      border-top-color: var(--fill-color);\n",
              "    }\n",
              "    60% {\n",
              "      border-color: transparent;\n",
              "      border-right-color: var(--fill-color);\n",
              "    }\n",
              "    80% {\n",
              "      border-color: transparent;\n",
              "      border-right-color: var(--fill-color);\n",
              "      border-bottom-color: var(--fill-color);\n",
              "    }\n",
              "    90% {\n",
              "      border-color: transparent;\n",
              "      border-bottom-color: var(--fill-color);\n",
              "    }\n",
              "  }\n",
              "</style>\n",
              "\n",
              "  <script>\n",
              "    async function quickchart(key) {\n",
              "      const quickchartButtonEl =\n",
              "        document.querySelector('#' + key + ' button');\n",
              "      quickchartButtonEl.disabled = true;  // To prevent multiple clicks.\n",
              "      quickchartButtonEl.classList.add('colab-df-spinner');\n",
              "      try {\n",
              "        const charts = await google.colab.kernel.invokeFunction(\n",
              "            'suggestCharts', [key], {});\n",
              "      } catch (error) {\n",
              "        console.error('Error during call to suggestCharts:', error);\n",
              "      }\n",
              "      quickchartButtonEl.classList.remove('colab-df-spinner');\n",
              "      quickchartButtonEl.classList.add('colab-df-quickchart-complete');\n",
              "    }\n",
              "    (() => {\n",
              "      let quickchartButtonEl =\n",
              "        document.querySelector('#df-bde684f8-9a96-4a66-a1a0-b895f0f4185b button');\n",
              "      quickchartButtonEl.style.display =\n",
              "        google.colab.kernel.accessAllowed ? 'block' : 'none';\n",
              "    })();\n",
              "  </script>\n",
              "</div>\n",
              "    </div>\n",
              "  </div>\n"
            ],
            "text/plain": [
              "   ProductSize_0  ProductSize_1  ProductSize_2  ProductSize_3  ProductSize_4\n",
              "0      -0.003886       0.204614      -0.099826       0.152207       0.215685\n",
              "1      -0.114329      -0.100198      -0.071906      -0.128801      -0.039516\n",
              "2      -0.003886       0.204614      -0.099826       0.152207       0.215685\n",
              "3      -0.005051       0.042276      -0.102471       0.016768       0.001030\n",
              "4      -0.003886       0.204614      -0.099826       0.152207       0.215685"
            ]
          },
          "execution_count": 28,
          "metadata": {},
          "output_type": "execute_result"
        }
      ],
      "source": [
        "feat_df = pd.DataFrame(\n",
        "    data=emb_data,\n",
        "    index=xs_final_time.index,\n",
        "    columns=emb_names)\n",
        "\n",
        "feat_df.head()"
      ]
    },
    {
      "cell_type": "markdown",
      "metadata": {
        "id": "8PxqJzVCTzM2"
      },
      "source": [
        "Finally, I drop the `ProductSize` column from the dataset and replace it with my embedding `DataFrame`:"
      ]
    },
    {
      "cell_type": "code",
      "execution_count": 29,
      "metadata": {
        "colab": {
          "base_uri": "https://localhost:8080/"
        },
        "id": "sX7rWry4TwkS",
        "outputId": "aa341e07-7db5-4bbf-fc42-7e4d64a51d8c"
      },
      "outputs": [
        {
          "data": {
            "text/plain": [
              "Index(['YearMade', 'Coupler_System', 'fiProductClassDesc', 'ModelID',\n",
              "       'Grouser_Tracks', 'fiSecondaryDesc', 'fiModelDesc', 'ProductGroup',\n",
              "       'SalesID', 'Enclosure', 'fiModelDescriptor', 'MachineID', 'Hydraulics',\n",
              "       'saleYear', 'Drive_System', 'Tire_Size', 'Pad_Type', 'ProductSize_0',\n",
              "       'ProductSize_1', 'ProductSize_2', 'ProductSize_3', 'ProductSize_4'],\n",
              "      dtype='object')"
            ]
          },
          "execution_count": 29,
          "metadata": {},
          "output_type": "execute_result"
        }
      ],
      "source": [
        "xs_temp = xs_final_time.drop('ProductSize', axis=1)\n",
        "xs_temp = xs_temp.join(feat_df)\n",
        "xs_temp.columns"
      ]
    },
    {
      "cell_type": "markdown",
      "metadata": {
        "id": "mchG00HbWtst"
      },
      "source": [
        "With a single iteration done successfully, now I can run the whole loop and get the updated dataset with embedding matrices:"
      ]
    },
    {
      "cell_type": "code",
      "execution_count": 53,
      "metadata": {
        "id": "lEDB0Od1UG0s"
      },
      "outputs": [],
      "source": [
        "def embed_features(learn, xs):\n",
        "  xs = xs.copy()\n",
        "\n",
        "  for i, col in enumerate(learn.dls.cat_names):\n",
        "    emb = learn.model.embeds[i]\n",
        "    emb_data = emb(tensor(xs[col], dtype=torch.int64))\n",
        "    emb_names = [f'{col}_{j}' for j in range(emb_data.shape[1])]\n",
        "\n",
        "    feat_df = pd.DataFrame(\n",
        "        data=emb_data,\n",
        "        index=xs.index,\n",
        "        columns=emb_names\n",
        "    )\n",
        "\n",
        "    xs = xs.drop(col, axis=1)\n",
        "    xs = xs.join(feat_df)\n",
        "  return xs"
      ]
    },
    {
      "cell_type": "markdown",
      "metadata": {
        "id": "UniItPv7ahFl"
      },
      "source": [
        "One bit of preprocessing I'll have to do is swap the categorical columns in `xs_final_time` with the ones in `to_nn.train.xs` since the latter has been \"categorified\" by the `Categorify` fastai processor into 0 to n integer values. To illustrate: the first value of the `YearMade` column in `xs_final_time` is `2004` whereas it's converted to the integer `63` in the corresponding `to_nn.train.xs` column. The embedding corresponding to this column has a dimension of `72` so it can take a maximum value of `71` as the input, which is the maximum value in `to_nn.train.xs['YearMade']`."
      ]
    },
    {
      "cell_type": "code",
      "execution_count": 48,
      "metadata": {
        "colab": {
          "base_uri": "https://localhost:8080/"
        },
        "id": "kochEkfCcEaB",
        "outputId": "c221f77d-f658-4f04-e1b5-b8a2435d9f63"
      },
      "outputs": [
        {
          "data": {
            "text/plain": [
              "2004"
            ]
          },
          "execution_count": 48,
          "metadata": {},
          "output_type": "execute_result"
        }
      ],
      "source": [
        "xs_final_time['YearMade'][0]"
      ]
    },
    {
      "cell_type": "code",
      "execution_count": 49,
      "metadata": {
        "colab": {
          "base_uri": "https://localhost:8080/"
        },
        "id": "_nikLpbfcHGA",
        "outputId": "a7c2cf4b-04c8-4e7a-a281-19650f29864c"
      },
      "outputs": [
        {
          "data": {
            "text/plain": [
              "63"
            ]
          },
          "execution_count": 49,
          "metadata": {},
          "output_type": "execute_result"
        }
      ],
      "source": [
        "to_nn.train.xs['YearMade'][0]"
      ]
    },
    {
      "cell_type": "code",
      "execution_count": 52,
      "metadata": {
        "colab": {
          "base_uri": "https://localhost:8080/"
        },
        "id": "S6nDaLTXck3a",
        "outputId": "57e2c3ac-fecf-457b-df24-9022be878151"
      },
      "outputs": [
        {
          "data": {
            "text/plain": [
              "Embedding(72, 18)"
            ]
          },
          "execution_count": 52,
          "metadata": {},
          "output_type": "execute_result"
        }
      ],
      "source": [
        "learn.model.embeds[0]"
      ]
    },
    {
      "cell_type": "code",
      "execution_count": 51,
      "metadata": {
        "colab": {
          "base_uri": "https://localhost:8080/"
        },
        "id": "LrRuJ68pchuq",
        "outputId": "58dcb5c8-da1f-40d0-e0d5-4bd6558470f2"
      },
      "outputs": [
        {
          "data": {
            "text/plain": [
              "71"
            ]
          },
          "execution_count": 51,
          "metadata": {},
          "output_type": "execute_result"
        }
      ],
      "source": [
        "to_nn.train.xs['YearMade'].max()"
      ]
    },
    {
      "cell_type": "markdown",
      "metadata": {
        "id": "ZcK4dQFecyhL"
      },
      "source": [
        "Here's a bit of code to swap the columns:"
      ]
    },
    {
      "cell_type": "code",
      "execution_count": 73,
      "metadata": {
        "id": "acfputJgc0Vh"
      },
      "outputs": [],
      "source": [
        "def prep_xs(to_nn, xs):\n",
        "  xs = xs.copy()\n",
        "  for col in to_nn.train.xs.columns:\n",
        "    xs[col] = to_nn[col]\n",
        "  return xs"
      ]
    },
    {
      "cell_type": "code",
      "execution_count": 74,
      "metadata": {
        "colab": {
          "base_uri": "https://localhost:8080/"
        },
        "id": "7NHU5xnvc3v5",
        "outputId": "965ceaee-5831-4b32-c799-c39c001ad50f"
      },
      "outputs": [
        {
          "data": {
            "text/plain": [
              "array([63, 55, 60, 66, 52, 67,  1, 57, 58, 62, 50, 59, 64, 54, 65, 61, 43,\n",
              "       47, 39, 51, 46, 56, 30, 37, 48, 44, 38, 35, 53, 41, 49, 33, 27, 25,\n",
              "       42, 45, 40, 29, 36, 34, 32, 24, 26, 68, 69, 28, 31, 23, 16, 17, 22,\n",
              "        2,  3,  9,  7, 11,  5, 15, 13, 12, 14, 18, 19, 20, 21, 10,  4,  8,\n",
              "        6, 71, 70], dtype=int8)"
            ]
          },
          "execution_count": 74,
          "metadata": {},
          "output_type": "execute_result"
        }
      ],
      "source": [
        "xs_with_embs = prep_xs(to_nn, xs_final_time)\n",
        "xs_with_embs['YearMade'].unique()"
      ]
    },
    {
      "cell_type": "markdown",
      "metadata": {
        "id": "-7jfLV2sdPOr"
      },
      "source": [
        "Now that I have categorified the categorical columns the embeddings are trained on, I can process to swap them with embedding matrices:"
      ]
    },
    {
      "cell_type": "code",
      "execution_count": 75,
      "metadata": {
        "colab": {
          "base_uri": "https://localhost:8080/"
        },
        "id": "ckdBGmVVdNlg",
        "outputId": "9db27d50-23ae-4b0b-951b-273e3d7c5784"
      },
      "outputs": [
        {
          "data": {
            "text/plain": [
              "Index(['ModelID', 'SalesID', 'MachineID', 'saleYear', 'YearMade_0',\n",
              "       'YearMade_1', 'YearMade_2', 'YearMade_3', 'YearMade_4', 'YearMade_5',\n",
              "       ...\n",
              "       'Tire_Size_2', 'Tire_Size_3', 'Tire_Size_4', 'Tire_Size_5',\n",
              "       'Tire_Size_6', 'Tire_Size_7', 'Pad_Type_0', 'Pad_Type_1', 'Pad_Type_2',\n",
              "       'Pad_Type_3'],\n",
              "      dtype='object', length=329)"
            ]
          },
          "execution_count": 75,
          "metadata": {},
          "output_type": "execute_result"
        }
      ],
      "source": [
        "xs_with_embs = embed_features(learn, xs_with_embs)\n",
        "xs_with_embs.columns"
      ]
    },
    {
      "cell_type": "markdown",
      "metadata": {
        "id": "tgraSexDdmJi"
      },
      "source": [
        "I'll check to see that the number of columns corresponding to the embedding matches the number of columns in the second dimension of the embedding matrix:"
      ]
    },
    {
      "cell_type": "code",
      "execution_count": 76,
      "metadata": {
        "colab": {
          "base_uri": "https://localhost:8080/"
        },
        "id": "tRJkEyyPdcot",
        "outputId": "011e6269-2bfd-4225-f6fb-8d7c2557b6a4"
      },
      "outputs": [
        {
          "data": {
            "text/plain": [
              "Embedding(72, 18)"
            ]
          },
          "execution_count": 76,
          "metadata": {},
          "output_type": "execute_result"
        }
      ],
      "source": [
        "learn.model.embeds[0]"
      ]
    },
    {
      "cell_type": "code",
      "execution_count": 77,
      "metadata": {
        "colab": {
          "base_uri": "https://localhost:8080/",
          "height": 71
        },
        "id": "xnei8Bihd-jg",
        "outputId": "775b0679-c08a-46d5-ed88-b460c78354bc"
      },
      "outputs": [
        {
          "data": {
            "application/vnd.google.colaboratory.intrinsic+json": {
              "type": "string"
            },
            "text/plain": [
              "'YearMade_0 YearMade_1 YearMade_2 YearMade_3 YearMade_4 YearMade_5 YearMade_6 YearMade_7 YearMade_8 YearMade_9 YearMade_10 YearMade_11 YearMade_12 YearMade_13 YearMade_14 YearMade_15 YearMade_16 YearMade_17'"
            ]
          },
          "execution_count": 77,
          "metadata": {},
          "output_type": "execute_result"
        }
      ],
      "source": [
        "' '.join(o for o in xs_with_embs.columns if o.startswith('YearMade'))"
      ]
    },
    {
      "cell_type": "code",
      "execution_count": 78,
      "metadata": {
        "colab": {
          "base_uri": "https://localhost:8080/"
        },
        "id": "XhaydSEneLK2",
        "outputId": "e35def1b-aa68-407d-fd7a-627df081d130"
      },
      "outputs": [
        {
          "data": {
            "text/plain": [
              "Embedding(7, 5)"
            ]
          },
          "execution_count": 78,
          "metadata": {},
          "output_type": "execute_result"
        }
      ],
      "source": [
        "learn.model.embeds[1]"
      ]
    },
    {
      "cell_type": "code",
      "execution_count": 79,
      "metadata": {
        "colab": {
          "base_uri": "https://localhost:8080/",
          "height": 35
        },
        "id": "FFzTDxgneOb0",
        "outputId": "4d368bf7-d005-4d07-9fb7-fdefe3dfb6da"
      },
      "outputs": [
        {
          "data": {
            "application/vnd.google.colaboratory.intrinsic+json": {
              "type": "string"
            },
            "text/plain": [
              "'ProductSize_0 ProductSize_1 ProductSize_2 ProductSize_3 ProductSize_4'"
            ]
          },
          "execution_count": 79,
          "metadata": {},
          "output_type": "execute_result"
        }
      ],
      "source": [
        "' '.join(o for o in xs_with_embs.columns if o.startswith('ProductSize'))"
      ]
    },
    {
      "cell_type": "markdown",
      "metadata": {
        "id": "eJWDB5bzein9"
      },
      "source": [
        "I'll make the same changes to the validation set:"
      ]
    },
    {
      "cell_type": "code",
      "execution_count": 80,
      "metadata": {
        "colab": {
          "base_uri": "https://localhost:8080/"
        },
        "id": "bMVHEefBeoP3",
        "outputId": "aa9b09ad-bbff-4a60-fe3d-e142f7a2b554"
      },
      "outputs": [
        {
          "data": {
            "text/plain": [
              "array([ 1, 63, 61, 66, 68, 64, 60, 57, 58, 65, 67, 59, 48, 62, 56, 40, 44,\n",
              "       49, 55, 34, 35, 39, 54, 42, 41, 23, 45, 38, 43, 52, 47, 51, 53, 50,\n",
              "       33, 37, 36, 46, 27, 30, 28, 32, 25, 31, 24, 15, 22, 29, 21, 26,  0,\n",
              "       70, 69, 17, 16, 12], dtype=int8)"
            ]
          },
          "execution_count": 80,
          "metadata": {},
          "output_type": "execute_result"
        }
      ],
      "source": [
        "valid_xs_with_embs = prep_xs(to_nn, valid_xs_time)\n",
        "valid_xs_with_embs['YearMade'].unique()"
      ]
    },
    {
      "cell_type": "code",
      "execution_count": 81,
      "metadata": {
        "colab": {
          "base_uri": "https://localhost:8080/"
        },
        "id": "7c5M4fFufCLL",
        "outputId": "a897dca1-b139-43aa-8c34-abd5f9b783e3"
      },
      "outputs": [
        {
          "data": {
            "text/plain": [
              "Index(['ModelID', 'SalesID', 'MachineID', 'saleYear', 'YearMade_0',\n",
              "       'YearMade_1', 'YearMade_2', 'YearMade_3', 'YearMade_4', 'YearMade_5',\n",
              "       ...\n",
              "       'Tire_Size_2', 'Tire_Size_3', 'Tire_Size_4', 'Tire_Size_5',\n",
              "       'Tire_Size_6', 'Tire_Size_7', 'Pad_Type_0', 'Pad_Type_1', 'Pad_Type_2',\n",
              "       'Pad_Type_3'],\n",
              "      dtype='object', length=329)"
            ]
          },
          "execution_count": 81,
          "metadata": {},
          "output_type": "execute_result"
        }
      ],
      "source": [
        "valid_xs_with_embs = embed_features(learn, valid_xs_with_embs)\n",
        "valid_xs_with_embs.columns"
      ]
    },
    {
      "cell_type": "code",
      "execution_count": 82,
      "metadata": {
        "colab": {
          "base_uri": "https://localhost:8080/",
          "height": 71
        },
        "id": "WOqqGD6teyky",
        "outputId": "c550b9d3-b4f1-40ab-b2a0-9cd7255ce10d"
      },
      "outputs": [
        {
          "data": {
            "application/vnd.google.colaboratory.intrinsic+json": {
              "type": "string"
            },
            "text/plain": [
              "'YearMade_0 YearMade_1 YearMade_2 YearMade_3 YearMade_4 YearMade_5 YearMade_6 YearMade_7 YearMade_8 YearMade_9 YearMade_10 YearMade_11 YearMade_12 YearMade_13 YearMade_14 YearMade_15 YearMade_16 YearMade_17'"
            ]
          },
          "execution_count": 82,
          "metadata": {},
          "output_type": "execute_result"
        }
      ],
      "source": [
        "' '.join(o for o in valid_xs_with_embs.columns if o.startswith('YearMade'))"
      ]
    },
    {
      "cell_type": "code",
      "execution_count": 83,
      "metadata": {
        "colab": {
          "base_uri": "https://localhost:8080/",
          "height": 35
        },
        "id": "h4yeKqIRgDpN",
        "outputId": "1c6668ad-e78d-4a0a-d8a5-45a28ae76eef"
      },
      "outputs": [
        {
          "data": {
            "application/vnd.google.colaboratory.intrinsic+json": {
              "type": "string"
            },
            "text/plain": [
              "'ProductSize_0 ProductSize_1 ProductSize_2 ProductSize_3 ProductSize_4'"
            ]
          },
          "execution_count": 83,
          "metadata": {},
          "output_type": "execute_result"
        }
      ],
      "source": [
        "' '.join(o for o in valid_xs_with_embs.columns if o.startswith('ProductSize'))"
      ]
    },
    {
      "cell_type": "markdown",
      "metadata": {
        "id": "fKEJV0MueSYI"
      },
      "source": [
        "Looks good! Now I can go on to fit a random forest on this embedding-filled dataset."
      ]
    },
    {
      "cell_type": "markdown",
      "metadata": {
        "id": "mUwXrYnbeYPa"
      },
      "source": [
        "## Fitting a Random Forest"
      ]
    },
    {
      "cell_type": "code",
      "execution_count": 86,
      "metadata": {
        "colab": {
          "base_uri": "https://localhost:8080/"
        },
        "id": "IO2n8qHueQ6B",
        "outputId": "97c32d3e-7991-4e61-906c-c6f1b4d2e140"
      },
      "outputs": [
        {
          "data": {
            "text/plain": [
              "(0.178098, 0.238825)"
            ]
          },
          "execution_count": 86,
          "metadata": {},
          "output_type": "execute_result"
        }
      ],
      "source": [
        "m = rf(xs_with_embs, y);\n",
        "m_rmse(m, xs_with_embs, y), m_rmse(m, valid_xs_with_embs, valid_y)"
      ]
    },
    {
      "cell_type": "markdown",
      "metadata": {
        "id": "ROBlcqjCh6mG"
      },
      "source": [
        "The previous random forest, with low-importance, redundant and out-of-domain features removed had training and validation errors of `0.189063` and `0.247074`, respectively. This model has lower errors for both."
      ]
    },
    {
      "cell_type": "markdown",
      "metadata": {
        "id": "ijpFGjhqiagg"
      },
      "source": [
        "### Removing Features"
      ]
    },
    {
      "cell_type": "markdown",
      "metadata": {
        "id": "Wr3eXBbtidkS"
      },
      "source": [
        "Next, I'll look into removing features from this updated dataset that has embedding matrices in it. Currently my training dataset has 300+ columns in it."
      ]
    },
    {
      "cell_type": "code",
      "execution_count": 88,
      "metadata": {
        "colab": {
          "base_uri": "https://localhost:8080/"
        },
        "id": "FGZb2qYaigvT",
        "outputId": "55ce288d-78f6-4c41-ce24-9a348a78fca7"
      },
      "outputs": [
        {
          "data": {
            "text/plain": [
              "(395371, 329)"
            ]
          },
          "execution_count": 88,
          "metadata": {},
          "output_type": "execute_result"
        }
      ],
      "source": [
        "xs_with_embs.shape"
      ]
    },
    {
      "cell_type": "markdown",
      "metadata": {
        "id": "yhIbj1kFidyc"
      },
      "source": [
        "#### Low-Importance Features"
      ]
    },
    {
      "cell_type": "markdown",
      "metadata": {
        "id": "T514KyFjixkq"
      },
      "source": [
        "Here are the top-10 features in my model---all except one of the top 10 features are outputs from the categorical embeddings."
      ]
    },
    {
      "cell_type": "code",
      "execution_count": 89,
      "metadata": {
        "colab": {
          "base_uri": "https://localhost:8080/",
          "height": 363
        },
        "id": "tcaoHWuzgW8K",
        "outputId": "4769c094-8987-456f-e489-034d640e7e90"
      },
      "outputs": [
        {
          "data": {
            "text/html": [
              "\n",
              "  <div id=\"df-5df2fd69-2801-45fe-85ef-2cbd3b224bcd\" class=\"colab-df-container\">\n",
              "    <div>\n",
              "<style scoped>\n",
              "    .dataframe tbody tr th:only-of-type {\n",
              "        vertical-align: middle;\n",
              "    }\n",
              "\n",
              "    .dataframe tbody tr th {\n",
              "        vertical-align: top;\n",
              "    }\n",
              "\n",
              "    .dataframe thead th {\n",
              "        text-align: right;\n",
              "    }\n",
              "</style>\n",
              "<table border=\"1\" class=\"dataframe\">\n",
              "  <thead>\n",
              "    <tr style=\"text-align: right;\">\n",
              "      <th></th>\n",
              "      <th>cols</th>\n",
              "      <th>imp</th>\n",
              "    </tr>\n",
              "  </thead>\n",
              "  <tbody>\n",
              "    <tr>\n",
              "      <th>37</th>\n",
              "      <td>fiProductClassDesc_7</td>\n",
              "      <td>0.117214</td>\n",
              "    </tr>\n",
              "    <tr>\n",
              "      <th>263</th>\n",
              "      <td>fiModelDesc_183</td>\n",
              "      <td>0.099233</td>\n",
              "    </tr>\n",
              "    <tr>\n",
              "      <th>3</th>\n",
              "      <td>saleYear</td>\n",
              "      <td>0.063399</td>\n",
              "    </tr>\n",
              "    <tr>\n",
              "      <th>36</th>\n",
              "      <td>fiProductClassDesc_6</td>\n",
              "      <td>0.062105</td>\n",
              "    </tr>\n",
              "    <tr>\n",
              "      <th>209</th>\n",
              "      <td>fiModelDesc_129</td>\n",
              "      <td>0.050837</td>\n",
              "    </tr>\n",
              "    <tr>\n",
              "      <th>208</th>\n",
              "      <td>fiModelDesc_128</td>\n",
              "      <td>0.037791</td>\n",
              "    </tr>\n",
              "    <tr>\n",
              "      <th>43</th>\n",
              "      <td>fiProductClassDesc_13</td>\n",
              "      <td>0.033951</td>\n",
              "    </tr>\n",
              "    <tr>\n",
              "      <th>181</th>\n",
              "      <td>fiModelDesc_101</td>\n",
              "      <td>0.027102</td>\n",
              "    </tr>\n",
              "    <tr>\n",
              "      <th>152</th>\n",
              "      <td>fiModelDesc_72</td>\n",
              "      <td>0.017599</td>\n",
              "    </tr>\n",
              "    <tr>\n",
              "      <th>100</th>\n",
              "      <td>fiModelDesc_20</td>\n",
              "      <td>0.017077</td>\n",
              "    </tr>\n",
              "  </tbody>\n",
              "</table>\n",
              "</div>\n",
              "    <div class=\"colab-df-buttons\">\n",
              "\n",
              "  <div class=\"colab-df-container\">\n",
              "    <button class=\"colab-df-convert\" onclick=\"convertToInteractive('df-5df2fd69-2801-45fe-85ef-2cbd3b224bcd')\"\n",
              "            title=\"Convert this dataframe to an interactive table.\"\n",
              "            style=\"display:none;\">\n",
              "\n",
              "  <svg xmlns=\"http://www.w3.org/2000/svg\" height=\"24px\" viewBox=\"0 -960 960 960\">\n",
              "    <path d=\"M120-120v-720h720v720H120Zm60-500h600v-160H180v160Zm220 220h160v-160H400v160Zm0 220h160v-160H400v160ZM180-400h160v-160H180v160Zm440 0h160v-160H620v160ZM180-180h160v-160H180v160Zm440 0h160v-160H620v160Z\"/>\n",
              "  </svg>\n",
              "    </button>\n",
              "\n",
              "  <style>\n",
              "    .colab-df-container {\n",
              "      display:flex;\n",
              "      gap: 12px;\n",
              "    }\n",
              "\n",
              "    .colab-df-convert {\n",
              "      background-color: #E8F0FE;\n",
              "      border: none;\n",
              "      border-radius: 50%;\n",
              "      cursor: pointer;\n",
              "      display: none;\n",
              "      fill: #1967D2;\n",
              "      height: 32px;\n",
              "      padding: 0 0 0 0;\n",
              "      width: 32px;\n",
              "    }\n",
              "\n",
              "    .colab-df-convert:hover {\n",
              "      background-color: #E2EBFA;\n",
              "      box-shadow: 0px 1px 2px rgba(60, 64, 67, 0.3), 0px 1px 3px 1px rgba(60, 64, 67, 0.15);\n",
              "      fill: #174EA6;\n",
              "    }\n",
              "\n",
              "    .colab-df-buttons div {\n",
              "      margin-bottom: 4px;\n",
              "    }\n",
              "\n",
              "    [theme=dark] .colab-df-convert {\n",
              "      background-color: #3B4455;\n",
              "      fill: #D2E3FC;\n",
              "    }\n",
              "\n",
              "    [theme=dark] .colab-df-convert:hover {\n",
              "      background-color: #434B5C;\n",
              "      box-shadow: 0px 1px 3px 1px rgba(0, 0, 0, 0.15);\n",
              "      filter: drop-shadow(0px 1px 2px rgba(0, 0, 0, 0.3));\n",
              "      fill: #FFFFFF;\n",
              "    }\n",
              "  </style>\n",
              "\n",
              "    <script>\n",
              "      const buttonEl =\n",
              "        document.querySelector('#df-5df2fd69-2801-45fe-85ef-2cbd3b224bcd button.colab-df-convert');\n",
              "      buttonEl.style.display =\n",
              "        google.colab.kernel.accessAllowed ? 'block' : 'none';\n",
              "\n",
              "      async function convertToInteractive(key) {\n",
              "        const element = document.querySelector('#df-5df2fd69-2801-45fe-85ef-2cbd3b224bcd');\n",
              "        const dataTable =\n",
              "          await google.colab.kernel.invokeFunction('convertToInteractive',\n",
              "                                                    [key], {});\n",
              "        if (!dataTable) return;\n",
              "\n",
              "        const docLinkHtml = 'Like what you see? Visit the ' +\n",
              "          '<a target=\"_blank\" href=https://colab.research.google.com/notebooks/data_table.ipynb>data table notebook</a>'\n",
              "          + ' to learn more about interactive tables.';\n",
              "        element.innerHTML = '';\n",
              "        dataTable['output_type'] = 'display_data';\n",
              "        await google.colab.output.renderOutput(dataTable, element);\n",
              "        const docLink = document.createElement('div');\n",
              "        docLink.innerHTML = docLinkHtml;\n",
              "        element.appendChild(docLink);\n",
              "      }\n",
              "    </script>\n",
              "  </div>\n",
              "\n",
              "\n",
              "<div id=\"df-83c6b45e-6685-446a-9db4-f207d5397f76\">\n",
              "  <button class=\"colab-df-quickchart\" onclick=\"quickchart('df-83c6b45e-6685-446a-9db4-f207d5397f76')\"\n",
              "            title=\"Suggest charts.\"\n",
              "            style=\"display:none;\">\n",
              "\n",
              "<svg xmlns=\"http://www.w3.org/2000/svg\" height=\"24px\"viewBox=\"0 0 24 24\"\n",
              "     width=\"24px\">\n",
              "    <g>\n",
              "        <path d=\"M19 3H5c-1.1 0-2 .9-2 2v14c0 1.1.9 2 2 2h14c1.1 0 2-.9 2-2V5c0-1.1-.9-2-2-2zM9 17H7v-7h2v7zm4 0h-2V7h2v10zm4 0h-2v-4h2v4z\"/>\n",
              "    </g>\n",
              "</svg>\n",
              "  </button>\n",
              "\n",
              "<style>\n",
              "  .colab-df-quickchart {\n",
              "      --bg-color: #E8F0FE;\n",
              "      --fill-color: #1967D2;\n",
              "      --hover-bg-color: #E2EBFA;\n",
              "      --hover-fill-color: #174EA6;\n",
              "      --disabled-fill-color: #AAA;\n",
              "      --disabled-bg-color: #DDD;\n",
              "  }\n",
              "\n",
              "  [theme=dark] .colab-df-quickchart {\n",
              "      --bg-color: #3B4455;\n",
              "      --fill-color: #D2E3FC;\n",
              "      --hover-bg-color: #434B5C;\n",
              "      --hover-fill-color: #FFFFFF;\n",
              "      --disabled-bg-color: #3B4455;\n",
              "      --disabled-fill-color: #666;\n",
              "  }\n",
              "\n",
              "  .colab-df-quickchart {\n",
              "    background-color: var(--bg-color);\n",
              "    border: none;\n",
              "    border-radius: 50%;\n",
              "    cursor: pointer;\n",
              "    display: none;\n",
              "    fill: var(--fill-color);\n",
              "    height: 32px;\n",
              "    padding: 0;\n",
              "    width: 32px;\n",
              "  }\n",
              "\n",
              "  .colab-df-quickchart:hover {\n",
              "    background-color: var(--hover-bg-color);\n",
              "    box-shadow: 0 1px 2px rgba(60, 64, 67, 0.3), 0 1px 3px 1px rgba(60, 64, 67, 0.15);\n",
              "    fill: var(--button-hover-fill-color);\n",
              "  }\n",
              "\n",
              "  .colab-df-quickchart-complete:disabled,\n",
              "  .colab-df-quickchart-complete:disabled:hover {\n",
              "    background-color: var(--disabled-bg-color);\n",
              "    fill: var(--disabled-fill-color);\n",
              "    box-shadow: none;\n",
              "  }\n",
              "\n",
              "  .colab-df-spinner {\n",
              "    border: 2px solid var(--fill-color);\n",
              "    border-color: transparent;\n",
              "    border-bottom-color: var(--fill-color);\n",
              "    animation:\n",
              "      spin 1s steps(1) infinite;\n",
              "  }\n",
              "\n",
              "  @keyframes spin {\n",
              "    0% {\n",
              "      border-color: transparent;\n",
              "      border-bottom-color: var(--fill-color);\n",
              "      border-left-color: var(--fill-color);\n",
              "    }\n",
              "    20% {\n",
              "      border-color: transparent;\n",
              "      border-left-color: var(--fill-color);\n",
              "      border-top-color: var(--fill-color);\n",
              "    }\n",
              "    30% {\n",
              "      border-color: transparent;\n",
              "      border-left-color: var(--fill-color);\n",
              "      border-top-color: var(--fill-color);\n",
              "      border-right-color: var(--fill-color);\n",
              "    }\n",
              "    40% {\n",
              "      border-color: transparent;\n",
              "      border-right-color: var(--fill-color);\n",
              "      border-top-color: var(--fill-color);\n",
              "    }\n",
              "    60% {\n",
              "      border-color: transparent;\n",
              "      border-right-color: var(--fill-color);\n",
              "    }\n",
              "    80% {\n",
              "      border-color: transparent;\n",
              "      border-right-color: var(--fill-color);\n",
              "      border-bottom-color: var(--fill-color);\n",
              "    }\n",
              "    90% {\n",
              "      border-color: transparent;\n",
              "      border-bottom-color: var(--fill-color);\n",
              "    }\n",
              "  }\n",
              "</style>\n",
              "\n",
              "  <script>\n",
              "    async function quickchart(key) {\n",
              "      const quickchartButtonEl =\n",
              "        document.querySelector('#' + key + ' button');\n",
              "      quickchartButtonEl.disabled = true;  // To prevent multiple clicks.\n",
              "      quickchartButtonEl.classList.add('colab-df-spinner');\n",
              "      try {\n",
              "        const charts = await google.colab.kernel.invokeFunction(\n",
              "            'suggestCharts', [key], {});\n",
              "      } catch (error) {\n",
              "        console.error('Error during call to suggestCharts:', error);\n",
              "      }\n",
              "      quickchartButtonEl.classList.remove('colab-df-spinner');\n",
              "      quickchartButtonEl.classList.add('colab-df-quickchart-complete');\n",
              "    }\n",
              "    (() => {\n",
              "      let quickchartButtonEl =\n",
              "        document.querySelector('#df-83c6b45e-6685-446a-9db4-f207d5397f76 button');\n",
              "      quickchartButtonEl.style.display =\n",
              "        google.colab.kernel.accessAllowed ? 'block' : 'none';\n",
              "    })();\n",
              "  </script>\n",
              "</div>\n",
              "    </div>\n",
              "  </div>\n"
            ],
            "text/plain": [
              "                      cols       imp\n",
              "37    fiProductClassDesc_7  0.117214\n",
              "263        fiModelDesc_183  0.099233\n",
              "3                 saleYear  0.063399\n",
              "36    fiProductClassDesc_6  0.062105\n",
              "209        fiModelDesc_129  0.050837\n",
              "208        fiModelDesc_128  0.037791\n",
              "43   fiProductClassDesc_13  0.033951\n",
              "181        fiModelDesc_101  0.027102\n",
              "152         fiModelDesc_72  0.017599\n",
              "100         fiModelDesc_20  0.017077"
            ]
          },
          "execution_count": 89,
          "metadata": {},
          "output_type": "execute_result"
        }
      ],
      "source": [
        "fi = rf_feat_importance(m, xs_with_embs)\n",
        "fi[:10]"
      ]
    },
    {
      "cell_type": "markdown",
      "metadata": {
        "id": "WhO52s-xi_ZQ"
      },
      "source": [
        "And here's a plot of the top 30 most important features:"
      ]
    },
    {
      "cell_type": "code",
      "execution_count": 90,
      "metadata": {
        "colab": {
          "base_uri": "https://localhost:8080/",
          "height": 456
        },
        "id": "CFcXtYIFi1gk",
        "outputId": "dcfe0b27-6f10-4055-cb70-a26c179d96ca"
      },
      "outputs": [
        {
          "data": {
            "image/png": "[encoded data removed]",
            "text/plain": [
              "<Figure size 1200x700 with 1 Axes>"
            ]
          },
          "metadata": {},
          "output_type": "display_data"
        }
      ],
      "source": [
        "def plot_fi(fi):\n",
        "  return fi.plot('cols', 'imp', 'barh', figsize=(12,7), legend=False)\n",
        "\n",
        "plot_fi(fi[:30]);"
      ]
    },
    {
      "cell_type": "markdown",
      "metadata": {
        "id": "95Zug9YOjeA8"
      },
      "source": [
        "Like last time, I'll only keep features that have an importance of 0.005 or greater---which results in keeping only about 10% of the columns:"
      ]
    },
    {
      "cell_type": "code",
      "execution_count": 91,
      "metadata": {
        "colab": {
          "base_uri": "https://localhost:8080/"
        },
        "id": "BmQpAg_PjCD6",
        "outputId": "1155e67f-7c98-4b0b-ba34-6f0826e09956"
      },
      "outputs": [
        {
          "data": {
            "text/plain": [
              "36"
            ]
          },
          "execution_count": 91,
          "metadata": {},
          "output_type": "execute_result"
        }
      ],
      "source": [
        "to_keep = fi[fi.imp>0.005].cols\n",
        "len(to_keep)"
      ]
    },
    {
      "cell_type": "code",
      "execution_count": 94,
      "metadata": {
        "id": "w3a5ZmFpjqUm"
      },
      "outputs": [],
      "source": [
        "xs_imp_embs = xs_with_embs[to_keep]\n",
        "valid_xs_imp_embs = valid_xs_with_embs[to_keep]"
      ]
    },
    {
      "cell_type": "code",
      "execution_count": 95,
      "metadata": {
        "colab": {
          "base_uri": "https://localhost:8080/"
        },
        "id": "LoyqUiUrj0e7",
        "outputId": "a61ebe02-9be5-4914-f9e3-6de5e0e80b5b"
      },
      "outputs": [
        {
          "data": {
            "text/plain": [
              "((395371, 36), (17327, 36))"
            ]
          },
          "execution_count": 95,
          "metadata": {},
          "output_type": "execute_result"
        }
      ],
      "source": [
        "xs_imp_embs.shape, valid_xs_imp_embs.shape"
      ]
    },
    {
      "cell_type": "code",
      "execution_count": 96,
      "metadata": {
        "colab": {
          "base_uri": "https://localhost:8080/"
        },
        "id": "YgFaKTaej21v",
        "outputId": "ceb93e1d-fdd3-4acc-b50a-e83c502323f6"
      },
      "outputs": [
        {
          "data": {
            "text/plain": [
              "(0.184552, 0.242728)"
            ]
          },
          "execution_count": 96,
          "metadata": {},
          "output_type": "execute_result"
        }
      ],
      "source": [
        "m = rf(xs_imp_embs, y);\n",
        "m_rmse(m, xs_imp_embs, y), m_rmse(m, valid_xs_imp_embs, valid_y)"
      ]
    },
    {
      "cell_type": "markdown",
      "metadata": {
        "id": "_ztBjW76kaVB"
      },
      "source": [
        "The errors are higher than when all columns were included, but lower than when the original categorical columns were included."
      ]
    },
    {
      "cell_type": "markdown",
      "metadata": {
        "id": "gBtZmNnAmEv3"
      },
      "source": [
        "#### Redundant Features"
      ]
    },
    {
      "cell_type": "markdown",
      "metadata": {
        "id": "9HJ3caqrmGvK"
      },
      "source": [
        "Similar to before, I'll see if I can remove any redundant features from the dataset to continue simplifying the model."
      ]
    },
    {
      "cell_type": "code",
      "execution_count": 100,
      "metadata": {
        "colab": {
          "base_uri": "https://localhost:8080/",
          "height": 450
        },
        "id": "K9F8SWiblFgm",
        "outputId": "c12efa70-d420-42b0-961b-90432a5ea920"
      },
      "outputs": [
        {
          "data": {
            "image/png": "[encoded data removed]",
            "text/plain": [
              "<Figure size 1000x600 with 1 Axes>"
            ]
          },
          "metadata": {},
          "output_type": "display_data"
        }
      ],
      "source": [
        "cluster_columns(xs_imp_embs)"
      ]
    },
    {
      "cell_type": "markdown",
      "metadata": {
        "id": "ozRgVWWSmY53"
      },
      "source": [
        "I was expecting more columns to be redundant, since the columns in a categorical embedding matrix are related to the same column. However, it's interesting to note that different embedding matrix columns for a categorical variable represent different aspects of that feature.\n",
        "\n",
        "As before, I'll calculate a baseline OOB score, and then use it to compare with scores after redundant features are removed:"
      ]
    },
    {
      "cell_type": "code",
      "execution_count": 102,
      "metadata": {
        "colab": {
          "base_uri": "https://localhost:8080/"
        },
        "id": "Y21klgnSmTgh",
        "outputId": "18d63ae2-e398-4a99-82ba-de987e78171b"
      },
      "outputs": [
        {
          "data": {
            "text/plain": [
              "0.8892042378420308"
            ]
          },
          "execution_count": 102,
          "metadata": {},
          "output_type": "execute_result"
        }
      ],
      "source": [
        "get_oob(xs_imp_embs)"
      ]
    },
    {
      "cell_type": "markdown",
      "metadata": {
        "id": "3lG63n_2nAci"
      },
      "source": [
        "Here are the OOB scores if I drop each individual redundant feature from the dataset:"
      ]
    },
    {
      "cell_type": "code",
      "execution_count": 103,
      "metadata": {
        "colab": {
          "base_uri": "https://localhost:8080/"
        },
        "id": "FhLcajEfm25u",
        "outputId": "772eec37-e993-4c5f-8818-3842ed0ad80c"
      },
      "outputs": [
        {
          "data": {
            "text/plain": [
              "{'ProductSize_1': 0.8885392743641873,\n",
              " 'ProductSize_4': 0.8890680891755572,\n",
              " 'YearMade_8': 0.8885895030231491,\n",
              " 'YearMade_5': 0.8884153739148248,\n",
              " 'ProductGroup_4': 0.8890909768453596,\n",
              " 'ProductGroup_3': 0.8890208894539288}"
            ]
          },
          "execution_count": 103,
          "metadata": {},
          "output_type": "execute_result"
        }
      ],
      "source": [
        "{c: get_oob(xs_imp_embs.drop(c, axis=1)) for c in (\n",
        "    'ProductSize_1', 'ProductSize_4',\n",
        "    'YearMade_8', 'YearMade_5',\n",
        "    'ProductGroup_4', 'ProductGroup_3')}"
      ]
    },
    {
      "cell_type": "markdown",
      "metadata": {
        "id": "PwOaC1-OosZJ"
      },
      "source": [
        "I'll remove the three columns, the removal of which keeps the first three decimal places of the OOB score the same."
      ]
    },
    {
      "cell_type": "code",
      "execution_count": 104,
      "metadata": {
        "colab": {
          "base_uri": "https://localhost:8080/"
        },
        "id": "OM3EjOhdn2ke",
        "outputId": "3b214470-ebb6-441a-8c57-5dbad06d56f8"
      },
      "outputs": [
        {
          "data": {
            "text/plain": [
              "0.8890859448391993"
            ]
          },
          "execution_count": 104,
          "metadata": {},
          "output_type": "execute_result"
        }
      ],
      "source": [
        "to_drop = ['ProductSize_4', 'ProductGroup_4', 'ProductGroup_3']\n",
        "get_oob(xs_imp_embs.drop(to_drop, axis=1))"
      ]
    },
    {
      "cell_type": "code",
      "execution_count": 105,
      "metadata": {
        "id": "aVe7XPaRqkbj"
      },
      "outputs": [],
      "source": [
        "xs_embs_final = xs_imp_embs.drop(to_drop, axis=1)\n",
        "valid_xs_embs_final = valid_xs_imp_embs.drop(to_drop, axis=1)"
      ]
    },
    {
      "cell_type": "code",
      "execution_count": 106,
      "metadata": {
        "colab": {
          "base_uri": "https://localhost:8080/"
        },
        "id": "8YF5Whcoq-L5",
        "outputId": "dd52ff12-ca3b-46e8-8a04-5ec76e8b915e"
      },
      "outputs": [
        {
          "data": {
            "text/plain": [
              "(0.184845, 0.244098)"
            ]
          },
          "execution_count": 106,
          "metadata": {},
          "output_type": "execute_result"
        }
      ],
      "source": [
        "m = rf(xs_embs_final, y)\n",
        "m_rmse(m, xs_embs_final, y), m_rmse(m, valid_xs_embs_final, valid_y)"
      ]
    },
    {
      "cell_type": "markdown",
      "metadata": {
        "id": "-vigVaFtrZT2"
      },
      "source": [
        "The errors have slightly increased but are still lower than the model fitted to the original dataset."
      ]
    },
    {
      "cell_type": "markdown",
      "metadata": {
        "id": "f087D3v9rjSf"
      },
      "source": [
        "#### Out-of-Domain Features"
      ]
    },
    {
      "cell_type": "markdown",
      "metadata": {
        "id": "g5sWOPmIrlHC"
      },
      "source": [
        "The final set of features I'll look to remove are those that have significantly different values between the training and validation sets. As I did before, I'll fit a random forest to predict whether a row is from the training or validation set, and then look at the most important features for this distinction:"
      ]
    },
    {
      "cell_type": "code",
      "execution_count": 107,
      "metadata": {
        "colab": {
          "base_uri": "https://localhost:8080/",
          "height": 238
        },
        "id": "IC79RG9nrHk7",
        "outputId": "0369c870-7088-4807-ca9a-24300d66b40a"
      },
      "outputs": [
        {
          "data": {
            "text/html": [
              "\n",
              "  <div id=\"df-757b3791-6296-4217-9ab5-d840a65220c7\" class=\"colab-df-container\">\n",
              "    <div>\n",
              "<style scoped>\n",
              "    .dataframe tbody tr th:only-of-type {\n",
              "        vertical-align: middle;\n",
              "    }\n",
              "\n",
              "    .dataframe tbody tr th {\n",
              "        vertical-align: top;\n",
              "    }\n",
              "\n",
              "    .dataframe thead th {\n",
              "        text-align: right;\n",
              "    }\n",
              "</style>\n",
              "<table border=\"1\" class=\"dataframe\">\n",
              "  <thead>\n",
              "    <tr style=\"text-align: right;\">\n",
              "      <th></th>\n",
              "      <th>cols</th>\n",
              "      <th>imp</th>\n",
              "    </tr>\n",
              "  </thead>\n",
              "  <tbody>\n",
              "    <tr>\n",
              "      <th>2</th>\n",
              "      <td>saleYear</td>\n",
              "      <td>0.567392</td>\n",
              "    </tr>\n",
              "    <tr>\n",
              "      <th>12</th>\n",
              "      <td>SalesID</td>\n",
              "      <td>0.266997</td>\n",
              "    </tr>\n",
              "    <tr>\n",
              "      <th>22</th>\n",
              "      <td>MachineID</td>\n",
              "      <td>0.072159</td>\n",
              "    </tr>\n",
              "    <tr>\n",
              "      <th>26</th>\n",
              "      <td>YearMade_12</td>\n",
              "      <td>0.006785</td>\n",
              "    </tr>\n",
              "    <tr>\n",
              "      <th>15</th>\n",
              "      <td>YearMade_5</td>\n",
              "      <td>0.004990</td>\n",
              "    </tr>\n",
              "    <tr>\n",
              "      <th>24</th>\n",
              "      <td>YearMade_8</td>\n",
              "      <td>0.004247</td>\n",
              "    </tr>\n",
              "  </tbody>\n",
              "</table>\n",
              "</div>\n",
              "    <div class=\"colab-df-buttons\">\n",
              "\n",
              "  <div class=\"colab-df-container\">\n",
              "    <button class=\"colab-df-convert\" onclick=\"convertToInteractive('df-757b3791-6296-4217-9ab5-d840a65220c7')\"\n",
              "            title=\"Convert this dataframe to an interactive table.\"\n",
              "            style=\"display:none;\">\n",
              "\n",
              "  <svg xmlns=\"http://www.w3.org/2000/svg\" height=\"24px\" viewBox=\"0 -960 960 960\">\n",
              "    <path d=\"M120-120v-720h720v720H120Zm60-500h600v-160H180v160Zm220 220h160v-160H400v160Zm0 220h160v-160H400v160ZM180-400h160v-160H180v160Zm440 0h160v-160H620v160ZM180-180h160v-160H180v160Zm440 0h160v-160H620v160Z\"/>\n",
              "  </svg>\n",
              "    </button>\n",
              "\n",
              "  <style>\n",
              "    .colab-df-container {\n",
              "      display:flex;\n",
              "      gap: 12px;\n",
              "    }\n",
              "\n",
              "    .colab-df-convert {\n",
              "      background-color: #E8F0FE;\n",
              "      border: none;\n",
              "      border-radius: 50%;\n",
              "      cursor: pointer;\n",
              "      display: none;\n",
              "      fill: #1967D2;\n",
              "      height: 32px;\n",
              "      padding: 0 0 0 0;\n",
              "      width: 32px;\n",
              "    }\n",
              "\n",
              "    .colab-df-convert:hover {\n",
              "      background-color: #E2EBFA;\n",
              "      box-shadow: 0px 1px 2px rgba(60, 64, 67, 0.3), 0px 1px 3px 1px rgba(60, 64, 67, 0.15);\n",
              "      fill: #174EA6;\n",
              "    }\n",
              "\n",
              "    .colab-df-buttons div {\n",
              "      margin-bottom: 4px;\n",
              "    }\n",
              "\n",
              "    [theme=dark] .colab-df-convert {\n",
              "      background-color: #3B4455;\n",
              "      fill: #D2E3FC;\n",
              "    }\n",
              "\n",
              "    [theme=dark] .colab-df-convert:hover {\n",
              "      background-color: #434B5C;\n",
              "      box-shadow: 0px 1px 3px 1px rgba(0, 0, 0, 0.15);\n",
              "      filter: drop-shadow(0px 1px 2px rgba(0, 0, 0, 0.3));\n",
              "      fill: #FFFFFF;\n",
              "    }\n",
              "  </style>\n",
              "\n",
              "    <script>\n",
              "      const buttonEl =\n",
              "        document.querySelector('#df-757b3791-6296-4217-9ab5-d840a65220c7 button.colab-df-convert');\n",
              "      buttonEl.style.display =\n",
              "        google.colab.kernel.accessAllowed ? 'block' : 'none';\n",
              "\n",
              "      async function convertToInteractive(key) {\n",
              "        const element = document.querySelector('#df-757b3791-6296-4217-9ab5-d840a65220c7');\n",
              "        const dataTable =\n",
              "          await google.colab.kernel.invokeFunction('convertToInteractive',\n",
              "                                                    [key], {});\n",
              "        if (!dataTable) return;\n",
              "\n",
              "        const docLinkHtml = 'Like what you see? Visit the ' +\n",
              "          '<a target=\"_blank\" href=https://colab.research.google.com/notebooks/data_table.ipynb>data table notebook</a>'\n",
              "          + ' to learn more about interactive tables.';\n",
              "        element.innerHTML = '';\n",
              "        dataTable['output_type'] = 'display_data';\n",
              "        await google.colab.output.renderOutput(dataTable, element);\n",
              "        const docLink = document.createElement('div');\n",
              "        docLink.innerHTML = docLinkHtml;\n",
              "        element.appendChild(docLink);\n",
              "      }\n",
              "    </script>\n",
              "  </div>\n",
              "\n",
              "\n",
              "<div id=\"df-f9030ab4-0347-4ae2-b841-2f979cb89859\">\n",
              "  <button class=\"colab-df-quickchart\" onclick=\"quickchart('df-f9030ab4-0347-4ae2-b841-2f979cb89859')\"\n",
              "            title=\"Suggest charts.\"\n",
              "            style=\"display:none;\">\n",
              "\n",
              "<svg xmlns=\"http://www.w3.org/2000/svg\" height=\"24px\"viewBox=\"0 0 24 24\"\n",
              "     width=\"24px\">\n",
              "    <g>\n",
              "        <path d=\"M19 3H5c-1.1 0-2 .9-2 2v14c0 1.1.9 2 2 2h14c1.1 0 2-.9 2-2V5c0-1.1-.9-2-2-2zM9 17H7v-7h2v7zm4 0h-2V7h2v10zm4 0h-2v-4h2v4z\"/>\n",
              "    </g>\n",
              "</svg>\n",
              "  </button>\n",
              "\n",
              "<style>\n",
              "  .colab-df-quickchart {\n",
              "      --bg-color: #E8F0FE;\n",
              "      --fill-color: #1967D2;\n",
              "      --hover-bg-color: #E2EBFA;\n",
              "      --hover-fill-color: #174EA6;\n",
              "      --disabled-fill-color: #AAA;\n",
              "      --disabled-bg-color: #DDD;\n",
              "  }\n",
              "\n",
              "  [theme=dark] .colab-df-quickchart {\n",
              "      --bg-color: #3B4455;\n",
              "      --fill-color: #D2E3FC;\n",
              "      --hover-bg-color: #434B5C;\n",
              "      --hover-fill-color: #FFFFFF;\n",
              "      --disabled-bg-color: #3B4455;\n",
              "      --disabled-fill-color: #666;\n",
              "  }\n",
              "\n",
              "  .colab-df-quickchart {\n",
              "    background-color: var(--bg-color);\n",
              "    border: none;\n",
              "    border-radius: 50%;\n",
              "    cursor: pointer;\n",
              "    display: none;\n",
              "    fill: var(--fill-color);\n",
              "    height: 32px;\n",
              "    padding: 0;\n",
              "    width: 32px;\n",
              "  }\n",
              "\n",
              "  .colab-df-quickchart:hover {\n",
              "    background-color: var(--hover-bg-color);\n",
              "    box-shadow: 0 1px 2px rgba(60, 64, 67, 0.3), 0 1px 3px 1px rgba(60, 64, 67, 0.15);\n",
              "    fill: var(--button-hover-fill-color);\n",
              "  }\n",
              "\n",
              "  .colab-df-quickchart-complete:disabled,\n",
              "  .colab-df-quickchart-complete:disabled:hover {\n",
              "    background-color: var(--disabled-bg-color);\n",
              "    fill: var(--disabled-fill-color);\n",
              "    box-shadow: none;\n",
              "  }\n",
              "\n",
              "  .colab-df-spinner {\n",
              "    border: 2px solid var(--fill-color);\n",
              "    border-color: transparent;\n",
              "    border-bottom-color: var(--fill-color);\n",
              "    animation:\n",
              "      spin 1s steps(1) infinite;\n",
              "  }\n",
              "\n",
              "  @keyframes spin {\n",
              "    0% {\n",
              "      border-color: transparent;\n",
              "      border-bottom-color: var(--fill-color);\n",
              "      border-left-color: var(--fill-color);\n",
              "    }\n",
              "    20% {\n",
              "      border-color: transparent;\n",
              "      border-left-color: var(--fill-color);\n",
              "      border-top-color: var(--fill-color);\n",
              "    }\n",
              "    30% {\n",
              "      border-color: transparent;\n",
              "      border-left-color: var(--fill-color);\n",
              "      border-top-color: var(--fill-color);\n",
              "      border-right-color: var(--fill-color);\n",
              "    }\n",
              "    40% {\n",
              "      border-color: transparent;\n",
              "      border-right-color: var(--fill-color);\n",
              "      border-top-color: var(--fill-color);\n",
              "    }\n",
              "    60% {\n",
              "      border-color: transparent;\n",
              "      border-right-color: var(--fill-color);\n",
              "    }\n",
              "    80% {\n",
              "      border-color: transparent;\n",
              "      border-right-color: var(--fill-color);\n",
              "      border-bottom-color: var(--fill-color);\n",
              "    }\n",
              "    90% {\n",
              "      border-color: transparent;\n",
              "      border-bottom-color: var(--fill-color);\n",
              "    }\n",
              "  }\n",
              "</style>\n",
              "\n",
              "  <script>\n",
              "    async function quickchart(key) {\n",
              "      const quickchartButtonEl =\n",
              "        document.querySelector('#' + key + ' button');\n",
              "      quickchartButtonEl.disabled = true;  // To prevent multiple clicks.\n",
              "      quickchartButtonEl.classList.add('colab-df-spinner');\n",
              "      try {\n",
              "        const charts = await google.colab.kernel.invokeFunction(\n",
              "            'suggestCharts', [key], {});\n",
              "      } catch (error) {\n",
              "        console.error('Error during call to suggestCharts:', error);\n",
              "      }\n",
              "      quickchartButtonEl.classList.remove('colab-df-spinner');\n",
              "      quickchartButtonEl.classList.add('colab-df-quickchart-complete');\n",
              "    }\n",
              "    (() => {\n",
              "      let quickchartButtonEl =\n",
              "        document.querySelector('#df-f9030ab4-0347-4ae2-b841-2f979cb89859 button');\n",
              "      quickchartButtonEl.style.display =\n",
              "        google.colab.kernel.accessAllowed ? 'block' : 'none';\n",
              "    })();\n",
              "  </script>\n",
              "</div>\n",
              "    </div>\n",
              "  </div>\n"
            ],
            "text/plain": [
              "           cols       imp\n",
              "2      saleYear  0.567392\n",
              "12      SalesID  0.266997\n",
              "22    MachineID  0.072159\n",
              "26  YearMade_12  0.006785\n",
              "15   YearMade_5  0.004990\n",
              "24   YearMade_8  0.004247"
            ]
          },
          "execution_count": 107,
          "metadata": {},
          "output_type": "execute_result"
        }
      ],
      "source": [
        "df_dom = pd.concat([xs_embs_final, valid_xs_embs_final])\n",
        "is_valid = np.array([0]*len(xs_embs_final) + [1]*len(valid_xs_embs_final))\n",
        "\n",
        "m = rf(df_dom, is_valid)\n",
        "rf_feat_importance(m, df_dom)[:6]"
      ]
    },
    {
      "cell_type": "markdown",
      "metadata": {
        "id": "RPmffJC8sc_m"
      },
      "source": [
        "The three most important features in distinguishing a training set row from a validation set row are `saleYear`, `SalesID`, and `MachineID`. This is similar to what we experienced before---these are all time-influenced features and the training and validation set is split based on the sale date. I'll remove each one and see if it decreases the error of the model:"
      ]
    },
    {
      "cell_type": "code",
      "execution_count": 108,
      "metadata": {
        "colab": {
          "base_uri": "https://localhost:8080/"
        },
        "id": "lpKFj2f6sCVT",
        "outputId": "bc758b59-34e0-4d15-d6ba-322ef390ddeb"
      },
      "outputs": [
        {
          "name": "stdout",
          "output_type": "stream",
          "text": [
            "orig 0.243168\n",
            "saleYear 0.248063\n",
            "SalesID 0.243861\n",
            "MachineID 0.243165\n"
          ]
        }
      ],
      "source": [
        "# baseline\n",
        "m = rf(xs_embs_final, y)\n",
        "print('orig', m_rmse(m, valid_xs_embs_final, valid_y))\n",
        "\n",
        "for c in ('saleYear', 'SalesID', 'MachineID'):\n",
        "  m = rf(xs_embs_final.drop(c, axis=1), y)\n",
        "  print(c, m_rmse(m, valid_xs_embs_final.drop(c,axis=1), valid_y))"
      ]
    },
    {
      "cell_type": "markdown",
      "metadata": {
        "id": "Jr93NeJXurVS"
      },
      "source": [
        "It looks like I can remove `MachineID` with only a tiny increase in the error."
      ]
    },
    {
      "cell_type": "code",
      "execution_count": null,
      "metadata": {
        "id": "pWpMiPeOtF7w"
      },
      "outputs": [],
      "source": [
        "time_vars = ['MachineID']\n",
        "xs_embs_final_time = xs_embs_final.drop(time_vars, axis=1)\n",
        "valid_xs_embs_time = valid_xs_embs_final.drop(time_vars, axis=1)\n",
        "\n",
        "m = rf(xs_embs_final_time, y)"
      ]
    },
    {
      "cell_type": "code",
      "execution_count": 111,
      "metadata": {
        "colab": {
          "base_uri": "https://localhost:8080/"
        },
        "id": "-lfUWfhgvL7j",
        "outputId": "dcadd3bf-9130-4418-d278-24f4f6e6d7d2"
      },
      "outputs": [
        {
          "data": {
            "text/plain": [
              "(0.189369, 0.243094)"
            ]
          },
          "execution_count": 111,
          "metadata": {},
          "output_type": "execute_result"
        }
      ],
      "source": [
        "m_rmse(m, xs_embs_final_time, y), m_rmse(m, valid_xs_embs_time, valid_y)"
      ]
    },
    {
      "cell_type": "code",
      "execution_count": 117,
      "metadata": {
        "id": "_Bws2x3HxVMB"
      },
      "outputs": [],
      "source": [
        "# save for later\n",
        "embs_xs = xs_embs_final_time, valid_xs_embs_time\n",
        "save_pickle('embs_xs.pkl', embs_xs)"
      ]
    },
    {
      "cell_type": "markdown",
      "metadata": {
        "id": "dc4Ut3UmvkAQ"
      },
      "source": [
        "After removing features, the errors on the training and validation sets are a tiny bit smaller than the errors on the original datasets."
      ]
    },
    {
      "cell_type": "markdown",
      "metadata": {
        "id": "RBEUSaJqvvkf"
      },
      "source": [
        "## Final Thoughts"
      ]
    },
    {
      "cell_type": "markdown",
      "metadata": {
        "id": "jQKYR29hvxf7"
      },
      "source": [
        "Here is a summary of error values for models fit on the original and embedding-filled datasets:\n",
        "\n",
        "|Model|Validation Error|Reduction in Error|\n",
        "|:-|:-:|:-:|\n",
        "|RF (no embedding columns)|0.247074|--|\n",
        "|RF (329 embedding columns)|0.238825|3.33%|\n",
        "|RF (30 embedding columns)|0.243094|1.6%|"
      ]
    },
    {
      "cell_type": "markdown",
      "metadata": {
        "id": "Jx52i_E0ySC-"
      },
      "source": [
        "To be honest I'm surprised that swapping categorical variables with neural net embeddings only reduced the validation MSE by 3.3%. I'm not sure what explains this small reduction. Maybe there's something about this dataset that doesn't benefit from converting categorical variables to embeddings? There's always a chance that my implementation is incorrect, or not the best way to achieve benefits in the model. As I practice working with more tabular datasets, I'll continue to implement neural net embeddings and observe if it makes a difference in how the model performs.\n",
        "\n",
        "I hope you enjoyed this blog post!"
      ]
    }
  ],
  "metadata": {
    "colab": {
      "provenance": [],
      "toc_visible": true
    },
    "kernelspec": {
      "display_name": "Python 3",
      "name": "python3"
    },
    "language_info": {
      "name": "python"
    }
  },
  "nbformat": 4,
  "nbformat_minor": 0
}

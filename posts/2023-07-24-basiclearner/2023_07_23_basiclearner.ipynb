{
  "cells": [
    {
      "cell_type": "raw",
      "metadata": {},
      "source": [
        "---\n",
        "title: Implementing a fastai Learner from Scratch\n",
        "author: Vishal Bakshi\n",
        "description: In this blog post, I write a `BasicLearner` class which trains a neural net to classify handwritten digits.\n",
        "categories:\n",
        "    - deep learning\n",
        "    - python\n",
        "---"
      ]
    },
    {
      "attachments": {},
      "cell_type": "markdown",
      "metadata": {
        "id": "Kfh8xsEScQUY"
      },
      "source": [
        "## Background"
      ]
    },
    {
      "attachments": {},
      "cell_type": "markdown",
      "metadata": {
        "id": "vjNrJ-IecjTq"
      },
      "source": [
        "In this notebook, I'll work through the first \"Further Research\" exercise at the end of [Chapter 4 of the Practical Deep Learning for Coders textbook](https://github.com/fastai/fastbook/blob/master/04_mnist_basics.ipynb):\n",
        "\n",
        "> Create your own implementation of Learner from scratch, **based on the training loop shown in this chapter.**\n",
        "\n",
        "I've emphasized that this `Learner` implementation is basic, based on what we've learned in Chapter 4. I'll call my implementation `BasicLearner`, as it corresponds to the `BasicOptim` optimizer created in the chapter. I'll use my `BasicLearner` implementation to train a simple neural net on the `MNIST_SAMPLE` dataset."
      ]
    },
    {
      "attachments": {},
      "cell_type": "markdown",
      "metadata": {
        "id": "T4V5SwT4dJQi"
      },
      "source": [
        "## `MNIST_SAMPLE` Training Loop"
      ]
    },
    {
      "attachments": {},
      "cell_type": "markdown",
      "metadata": {
        "id": "xMWZG8PpdTkH"
      },
      "source": [
        "I'll start by recreating the training loop in Chapter 4 to train a simple neural net to classify the handwritten digits 3s and 7s."
      ]
    },
    {
      "attachments": {},
      "cell_type": "markdown",
      "metadata": {
        "id": "CmoEG3UPni_V"
      },
      "source": [
        "### Load and Prepare the Data"
      ]
    },
    {
      "cell_type": "code",
      "execution_count": 83,
      "metadata": {
        "id": "t-pdMiXpndER"
      },
      "outputs": [],
      "source": [
        "from fastai.vision.all import *"
      ]
    },
    {
      "attachments": {},
      "cell_type": "markdown",
      "metadata": {
        "id": "EqUm-YS-nnQN"
      },
      "source": [
        "The `MNIST_SAMPLE` dataset is available through fastai's `URLs` which I download using `untar_data`."
      ]
    },
    {
      "cell_type": "code",
      "execution_count": 84,
      "metadata": {
        "id": "3CvwMmGgnWQg"
      },
      "outputs": [],
      "source": [
        "path = untar_data(URLs.MNIST_SAMPLE)"
      ]
    },
    {
      "cell_type": "code",
      "execution_count": 85,
      "metadata": {
        "colab": {
          "base_uri": "https://localhost:8080/"
        },
        "id": "em0qHihyukwm",
        "outputId": "6204a996-b944-4e90-9109-14d71330529e"
      },
      "outputs": [
        {
          "data": {
            "text/plain": [
              "(#3) [Path('/root/.fastai/data/mnist_sample/train'),Path('/root/.fastai/data/mnist_sample/valid'),Path('/root/.fastai/data/mnist_sample/labels.csv')]"
            ]
          },
          "execution_count": 85,
          "metadata": {},
          "output_type": "execute_result"
        }
      ],
      "source": [
        "path.ls()"
      ]
    },
    {
      "attachments": {},
      "cell_type": "markdown",
      "metadata": {
        "id": "O_JNNSiZn359"
      },
      "source": [
        "Then stack the list of training set and validation set tensor images into 3-dimensional tensors."
      ]
    },
    {
      "cell_type": "code",
      "execution_count": 86,
      "metadata": {
        "colab": {
          "base_uri": "https://localhost:8080/"
        },
        "id": "k7ZXhXUZmah5",
        "outputId": "2de999ef-5c9b-400b-d6ca-60b8c79bb1e0"
      },
      "outputs": [
        {
          "data": {
            "text/plain": [
              "(torch.Size([6131, 28, 28]), torch.Size([6265, 28, 28]))"
            ]
          },
          "execution_count": 86,
          "metadata": {},
          "output_type": "execute_result"
        }
      ],
      "source": [
        "stacked_threes = torch.stack([tensor(Image.open(o)) for o in (path/'train'/'3').ls().sorted()]).float()/255\n",
        "stacked_sevens = torch.stack([tensor(Image.open(o)) for o in (path/'train'/'7').ls().sorted()]).float()/255\n",
        "stacked_threes.shape, stacked_sevens.shape"
      ]
    },
    {
      "cell_type": "code",
      "execution_count": 87,
      "metadata": {
        "colab": {
          "base_uri": "https://localhost:8080/",
          "height": 114
        },
        "id": "Xb9j6FdmmqpP",
        "outputId": "c0b032c6-8989-45c1-a487-58e9ebb37760"
      },
      "outputs": [
        {
          "data": {
            "image/png": "[encoded data removed]",
            "text/plain": [
              "<Figure size 100x100 with 1 Axes>"
            ]
          },
          "metadata": {},
          "output_type": "display_data"
        }
      ],
      "source": [
        "show_image(stacked_threes[0]);"
      ]
    },
    {
      "cell_type": "code",
      "execution_count": 88,
      "metadata": {
        "colab": {
          "base_uri": "https://localhost:8080/",
          "height": 114
        },
        "id": "F9WZlr1XmyfV",
        "outputId": "c1219fdd-396e-45d2-e84a-51cf16c7ea0a"
      },
      "outputs": [
        {
          "data": {
            "image/png": "[encoded data removed]",
            "text/plain": [
              "<Figure size 100x100 with 1 Axes>"
            ]
          },
          "metadata": {},
          "output_type": "display_data"
        }
      ],
      "source": [
        "show_image(stacked_sevens[0]);"
      ]
    },
    {
      "cell_type": "code",
      "execution_count": 89,
      "metadata": {
        "colab": {
          "base_uri": "https://localhost:8080/"
        },
        "id": "nO0D5Ff1lsyK",
        "outputId": "30bcc230-a4d8-456e-b806-b379ec71943f"
      },
      "outputs": [
        {
          "data": {
            "text/plain": [
              "(torch.Size([1010, 28, 28]), torch.Size([1028, 28, 28]))"
            ]
          },
          "execution_count": 89,
          "metadata": {},
          "output_type": "execute_result"
        }
      ],
      "source": [
        "valid_3_tens = torch.stack([tensor(Image.open(o)) for o in (path/'valid'/'3').ls()]).float()/255\n",
        "valid_7_tens = torch.stack([tensor(Image.open(o)) for o in (path/'valid'/'7').ls()]).float()/255\n",
        "valid_3_tens.shape, valid_7_tens.shape"
      ]
    },
    {
      "cell_type": "code",
      "execution_count": 90,
      "metadata": {
        "colab": {
          "base_uri": "https://localhost:8080/",
          "height": 114
        },
        "id": "YE5rYu_Tm1RA",
        "outputId": "f8d09d7d-67d9-488c-ada9-fdaef55d029e"
      },
      "outputs": [
        {
          "data": {
            "image/png": "[encoded data removed]",
            "text/plain": [
              "<Figure size 100x100 with 1 Axes>"
            ]
          },
          "metadata": {},
          "output_type": "display_data"
        }
      ],
      "source": [
        "show_image(valid_3_tens[0]);"
      ]
    },
    {
      "cell_type": "code",
      "execution_count": 91,
      "metadata": {
        "colab": {
          "base_uri": "https://localhost:8080/",
          "height": 114
        },
        "id": "dadKGZtrm3Sg",
        "outputId": "8b8ec42a-a978-4b8c-8fa8-897bc6e45890"
      },
      "outputs": [
        {
          "data": {
            "image/png": "[encoded data removed]",
            "text/plain": [
              "<Figure size 100x100 with 1 Axes>"
            ]
          },
          "metadata": {},
          "output_type": "display_data"
        }
      ],
      "source": [
        "show_image(valid_7_tens[0]);"
      ]
    },
    {
      "attachments": {},
      "cell_type": "markdown",
      "metadata": {
        "id": "M_Nl7W1CpcCE"
      },
      "source": [
        "We then combine the training sets for 3s and 7s and \"flatten\" (not sure if that's the right term) the tensors so that each image's pixels are in a one-dimensional row."
      ]
    },
    {
      "cell_type": "code",
      "execution_count": 92,
      "metadata": {
        "colab": {
          "base_uri": "https://localhost:8080/"
        },
        "id": "8FMKXpEwk7sM",
        "outputId": "7a149aa2-de36-49a6-a897-02a2df977045"
      },
      "outputs": [
        {
          "data": {
            "text/plain": [
              "(torch.Size([12396, 784]), torch.Size([12396, 1]))"
            ]
          },
          "execution_count": 92,
          "metadata": {},
          "output_type": "execute_result"
        }
      ],
      "source": [
        "train_x = torch.cat([stacked_threes, stacked_sevens]).view(-1, 28*28)\n",
        "train_y = tensor([1]*stacked_threes.shape[0] + [0]*stacked_sevens.shape[0]).unsqueeze(1)\n",
        "train_x.shape, train_y.shape"
      ]
    },
    {
      "attachments": {},
      "cell_type": "markdown",
      "metadata": {
        "id": "hIkqViFbpwWO"
      },
      "source": [
        "Then do the same for the validation sets:"
      ]
    },
    {
      "cell_type": "code",
      "execution_count": 93,
      "metadata": {
        "colab": {
          "base_uri": "https://localhost:8080/"
        },
        "id": "-WgT5RVslTcV",
        "outputId": "318277ac-1b1a-4144-9719-7e969dd15178"
      },
      "outputs": [
        {
          "data": {
            "text/plain": [
              "(torch.Size([2038, 784]), torch.Size([2038, 1]))"
            ]
          },
          "execution_count": 93,
          "metadata": {},
          "output_type": "execute_result"
        }
      ],
      "source": [
        "valid_x = torch.cat([valid_3_tens, valid_7_tens]).view(-1, 28*28)\n",
        "valid_y = tensor([1]*len(valid_3_tens) + [0]*len(valid_7_tens)).unsqueeze(1)\n",
        "valid_x.shape, valid_y.shape"
      ]
    },
    {
      "attachments": {},
      "cell_type": "markdown",
      "metadata": {
        "id": "BIcgtBnWpzTS"
      },
      "source": [
        "We create training and validation datasets with the same structure as PyTorch's `Dataset`:"
      ]
    },
    {
      "cell_type": "code",
      "execution_count": 94,
      "metadata": {
        "colab": {
          "base_uri": "https://localhost:8080/"
        },
        "id": "7FX85DTUkkOU",
        "outputId": "dbaabd64-b71e-4661-b8a2-d6ea8da2558a"
      },
      "outputs": [
        {
          "data": {
            "text/plain": [
              "(torch.Size([784]), tensor([1]))"
            ]
          },
          "execution_count": 94,
          "metadata": {},
          "output_type": "execute_result"
        }
      ],
      "source": [
        "dset = list(zip(train_x, train_y))\n",
        "x,y = dset[0]\n",
        "x.shape, y"
      ]
    },
    {
      "cell_type": "code",
      "execution_count": 95,
      "metadata": {
        "colab": {
          "base_uri": "https://localhost:8080/"
        },
        "id": "glEsnVemkyxJ",
        "outputId": "197f9130-4c47-4338-a2fd-cadd0ef24aaf"
      },
      "outputs": [
        {
          "data": {
            "text/plain": [
              "(torch.Size([784]), tensor([1]))"
            ]
          },
          "execution_count": 95,
          "metadata": {},
          "output_type": "execute_result"
        }
      ],
      "source": [
        "valid_dset = list(zip(valid_x, valid_y))\n",
        "x,y = valid_dset[0]\n",
        "x.shape, y"
      ]
    },
    {
      "attachments": {},
      "cell_type": "markdown",
      "metadata": {
        "id": "ykPrC_B9p9rs"
      },
      "source": [
        "Then feed those datasets into fastai's `DataLoader`s:"
      ]
    },
    {
      "cell_type": "code",
      "execution_count": 96,
      "metadata": {
        "colab": {
          "base_uri": "https://localhost:8080/"
        },
        "id": "RZU_oCevkU0E",
        "outputId": "175fd394-b891-4daf-e1ea-e4b3dcdaf28d"
      },
      "outputs": [
        {
          "data": {
            "text/plain": [
              "(torch.Size([256, 784]), torch.Size([256, 1]))"
            ]
          },
          "execution_count": 96,
          "metadata": {},
          "output_type": "execute_result"
        }
      ],
      "source": [
        "dl = DataLoader(dset, batch_size=256)\n",
        "xb,yb = first(dl)\n",
        "xb.shape, yb.shape"
      ]
    },
    {
      "cell_type": "code",
      "execution_count": 97,
      "metadata": {
        "colab": {
          "base_uri": "https://localhost:8080/"
        },
        "id": "ZCGrMFuRkeQt",
        "outputId": "1d04d8e0-3316-4e9c-8759-28f7742aded7"
      },
      "outputs": [
        {
          "data": {
            "text/plain": [
              "(torch.Size([256, 784]), torch.Size([256, 1]))"
            ]
          },
          "execution_count": 97,
          "metadata": {},
          "output_type": "execute_result"
        }
      ],
      "source": [
        "valid_dl = DataLoader(valid_dset, batch_size=256)\n",
        "valid_xb, valid_yb = first(valid_dl)\n",
        "valid_xb.shape, valid_yb.shape"
      ]
    },
    {
      "attachments": {},
      "cell_type": "markdown",
      "metadata": {
        "id": "vV-v-SI6qKrE"
      },
      "source": [
        "### Create Our Model"
      ]
    },
    {
      "attachments": {},
      "cell_type": "markdown",
      "metadata": {
        "id": "wVF1RbfLqMMj"
      },
      "source": [
        "For this exercise they have us create a simple neural net with a ReLU sandwiched between two linear functions. I have kept the number of intermediate activations (30) the same as the text"
      ]
    },
    {
      "cell_type": "code",
      "execution_count": 98,
      "metadata": {
        "id": "mxUZR5JdhCmg"
      },
      "outputs": [],
      "source": [
        "simple_net = nn.Sequential(\n",
        "    nn.Linear(28*28, 30),\n",
        "    nn.ReLU(),\n",
        "    nn.Linear(30, 1)\n",
        ")"
      ]
    },
    {
      "attachments": {},
      "cell_type": "markdown",
      "metadata": {
        "id": "E6oA5fisqoR1"
      },
      "source": [
        "### Create a Loss Function"
      ]
    },
    {
      "attachments": {},
      "cell_type": "markdown",
      "metadata": {
        "id": "4-9ASNN-qp1h"
      },
      "source": [
        "The loss function we will use does the following:\n",
        "\n",
        "- Pass the model's activations through a sigmoid function so that they are between 0 and 1.\n",
        "- When the target is 1 (the digit 3), take the difference between 1 and the activation. When the target is 0 (the digit 7), take the difference between 0 and the activation.\n",
        "- Take the mean of the distance between activations and targets."
      ]
    },
    {
      "cell_type": "code",
      "execution_count": 99,
      "metadata": {
        "id": "uAISwPsRjvEk"
      },
      "outputs": [],
      "source": [
        "def mnist_loss(predictions, targets):\n",
        "  predictions = predictions.sigmoid()\n",
        "  return torch.where(targets==1, 1-predictions, predictions).mean()"
      ]
    },
    {
      "attachments": {},
      "cell_type": "markdown",
      "metadata": {
        "id": "2V2OaQjDrBcM"
      },
      "source": [
        "### Create a Function to Calculate Predictions, Loss and Gradients"
      ]
    },
    {
      "attachments": {},
      "cell_type": "markdown",
      "metadata": {
        "id": "4qu0k7YsrE-A"
      },
      "source": [
        "The `calc_grad` function takes as inputs the independent and dependent data batches, passes them through the model to get the activations (predictions), calculates the batch's loss, and calls `backward` on the loss to calculate the weights' gradients:"
      ]
    },
    {
      "cell_type": "code",
      "execution_count": 100,
      "metadata": {
        "id": "Y1YOWgFsjcdQ"
      },
      "outputs": [],
      "source": [
        "def calc_grad(xb, yb, model):\n",
        "  preds = model(xb)\n",
        "  loss = mnist_loss(preds, yb)\n",
        "  loss.backward()"
      ]
    },
    {
      "attachments": {},
      "cell_type": "markdown",
      "metadata": {
        "id": "AOmGdncAre30"
      },
      "source": [
        "### Create an Optimizer"
      ]
    },
    {
      "attachments": {},
      "cell_type": "markdown",
      "metadata": {
        "id": "1T89KWhvrgN9"
      },
      "source": [
        "The optimizer handles the calculation to step the weights and reset the gradients. When stepping the weights, the `.data` attribute of the parameters is used since PyTorch doesn't calculate gradients on it. The `zero_grad` method sets the gradients to 0 (`None`) so that they don't accumulate additively when the next epoch's gradients are calculated:"
      ]
    },
    {
      "cell_type": "code",
      "execution_count": 101,
      "metadata": {
        "id": "uB0JSa-LgiC_"
      },
      "outputs": [],
      "source": [
        "class BasicOptim:\n",
        "  def __init__(self,params,lr): self.params,self.lr = list(params),lr\n",
        "\n",
        "  def step(self, *args, **kwargs):\n",
        "    for p in self.params: p.data -= p.grad.data * self.lr\n",
        "\n",
        "  def zero_grad(self, *args, **kwargs):\n",
        "    for p in self.params: p.grad = None"
      ]
    },
    {
      "cell_type": "code",
      "execution_count": 102,
      "metadata": {
        "id": "c0V9QqX2wEUo"
      },
      "outputs": [],
      "source": [
        "lr = 0.1"
      ]
    },
    {
      "cell_type": "code",
      "execution_count": 103,
      "metadata": {
        "id": "_gRunCRhh3Es"
      },
      "outputs": [],
      "source": [
        "opt = BasicOptim(simple_net.parameters(), lr)"
      ]
    },
    {
      "attachments": {},
      "cell_type": "markdown",
      "metadata": {
        "id": "MYcfY02gsBDa"
      },
      "source": [
        "### Create a Function to Train One Epoch"
      ]
    },
    {
      "attachments": {},
      "cell_type": "markdown",
      "metadata": {
        "id": "-n5i3UdEsDZu"
      },
      "source": [
        "For each training epoch:\n",
        "\n",
        "- Get a batch from the training `DataLoader`.\n",
        "- Calculate the activations, loss, and gradients.\n",
        "- Step the weights in the direction opposite of the gradients.\n",
        "- Reset the gradients to zero."
      ]
    },
    {
      "cell_type": "code",
      "execution_count": 104,
      "metadata": {
        "id": "UegMNwLxgXMt"
      },
      "outputs": [],
      "source": [
        "def train_epoch(model):\n",
        "  for xb,yb in dl:\n",
        "    calc_grad(xb, yb, model)\n",
        "    opt.step()\n",
        "    opt.zero_grad()"
      ]
    },
    {
      "attachments": {},
      "cell_type": "markdown",
      "metadata": {
        "id": "pVAN7KagsTSb"
      },
      "source": [
        "### Create a Function to Calculate a Metric for One Batch"
      ]
    },
    {
      "attachments": {},
      "cell_type": "markdown",
      "metadata": {
        "id": "7d3brjlqsWZm"
      },
      "source": [
        "The metric of choice in the chapter is accuracy, which is the mean of correctly predicted digits across the batch:"
      ]
    },
    {
      "cell_type": "code",
      "execution_count": 105,
      "metadata": {
        "id": "RxGwv3qzjGdu"
      },
      "outputs": [],
      "source": [
        "def batch_accuracy(xb, yb):\n",
        "  preds = xb.sigmoid()\n",
        "  correct = (preds>0.5) == yb\n",
        "  return correct.float().mean()"
      ]
    },
    {
      "attachments": {},
      "cell_type": "markdown",
      "metadata": {
        "id": "144BjiMMsnGU"
      },
      "source": [
        "### Create a Function to Calculate the Metric for One Epoch"
      ]
    },
    {
      "attachments": {},
      "cell_type": "markdown",
      "metadata": {
        "id": "sYgaXtXystfB"
      },
      "source": [
        "For each batch in the validation `DataLoader`, calculate the accuracy. Then, take the mean of all batch accuracy values as the accuracy for the epoch:"
      ]
    },
    {
      "cell_type": "code",
      "execution_count": 106,
      "metadata": {
        "id": "hRQ0hOhzhZEC"
      },
      "outputs": [],
      "source": [
        "def validate_epoch(model):\n",
        "  accs = [batch_accuracy(model(xb), yb) for xb,yb in valid_dl]\n",
        "  return round(torch.stack(accs).mean().item(), 4)"
      ]
    },
    {
      "attachments": {},
      "cell_type": "markdown",
      "metadata": {
        "id": "XbqspzCSs44m"
      },
      "source": [
        "### Create a Function for the Training Loop"
      ]
    },
    {
      "attachments": {},
      "cell_type": "markdown",
      "metadata": {
        "id": "HqXWI4EWs8pe"
      },
      "source": [
        "`train_model` takes a model, and number of epochs that you want to train the model for as inputs. For each epoch, it trains the model on the training set batches, and outputs the epoch's metric on the validation set batches:"
      ]
    },
    {
      "cell_type": "code",
      "execution_count": 107,
      "metadata": {
        "id": "Ms-R8qClebJr"
      },
      "outputs": [],
      "source": [
        "def train_model(model, epochs):\n",
        "  for i in range(epochs):\n",
        "    train_epoch(model)\n",
        "    print(validate_epoch(model), end=' ')"
      ]
    },
    {
      "attachments": {},
      "cell_type": "markdown",
      "metadata": {
        "id": "wUyJ3lHxtLRm"
      },
      "source": [
        "### Train the Model"
      ]
    },
    {
      "attachments": {},
      "cell_type": "markdown",
      "metadata": {
        "id": "mF2DCkaStMuj"
      },
      "source": [
        "As is done in the text, I'll train the model for 40 epochs."
      ]
    },
    {
      "cell_type": "code",
      "execution_count": 108,
      "metadata": {
        "colab": {
          "base_uri": "https://localhost:8080/"
        },
        "id": "E_CbGCGrtQ49",
        "outputId": "83bb0d34-9676-492d-c0e5-67cc505cfd57"
      },
      "outputs": [
        {
          "name": "stdout",
          "output_type": "stream",
          "text": [
            "0.5127 0.8013 0.9175 0.9419 0.957 0.9653 0.9672 0.9677 0.9687 0.9702 0.9726 0.9736 0.9745 0.9755 0.9755 0.9765 0.977 0.9785 0.9785 0.9785 0.9795 0.9799 0.9804 0.9809 0.9809 0.9814 0.9819 0.9819 0.9819 0.9824 0.9829 0.9829 0.9829 0.9829 0.9829 0.9829 0.9829 0.9829 0.9829 0.9829 "
          ]
        }
      ],
      "source": [
        "train_model(simple_net, 40)"
      ]
    },
    {
      "attachments": {},
      "cell_type": "markdown",
      "metadata": {
        "id": "1uALcnwK4IZQ"
      },
      "source": [
        "I get a similar starting and final accuracy as the example from the text."
      ]
    },
    {
      "attachments": {},
      "cell_type": "markdown",
      "metadata": {
        "id": "L3TO4kjDdhxi"
      },
      "source": [
        "## `BasicLearner` Class"
      ]
    },
    {
      "attachments": {},
      "cell_type": "markdown",
      "metadata": {
        "id": "hBfr6-Wqta7P"
      },
      "source": [
        "My `BasicLearner` should recreate the training process performed in the above sections. I'll start by defining the inputs and outputs for an instance of this class:"
      ]
    },
    {
      "attachments": {},
      "cell_type": "markdown",
      "metadata": {
        "id": "GHR3kTc6d1-Y"
      },
      "source": [
        "### Inputs and Outputs"
      ]
    },
    {
      "attachments": {},
      "cell_type": "markdown",
      "metadata": {
        "id": "BX1GAlizd35W"
      },
      "source": [
        "The fastai `Learner` requires the following inputs:\n",
        "\n",
        "- `DataLoaders` with training and validation sets.\n",
        "- The model we want to train with.\n",
        "- An optimizer function.\n",
        "- A loss function.\n",
        "- Any metrics we want calculated."
      ]
    },
    {
      "attachments": {},
      "cell_type": "markdown",
      "metadata": {
        "id": "NVLGnF7pek8r"
      },
      "source": [
        "The `Learner` outputs a table with the following information when a `fit(epochs, lr)` method is called. I've bolded the items that I'm going to show in the first iteration of my `Learner`:\n",
        "\n",
        "- **Epoch #.**\n",
        "- Training Loss.\n",
        "- Validation Loss.\n",
        "- **Metric.**\n",
        "- Time."
      ]
    },
    {
      "attachments": {},
      "cell_type": "markdown",
      "metadata": {
        "id": "noiQJXac9d3G"
      },
      "source": [
        "With these inputs and outputs in mind, I'll write the `BasicLearner` class:\n"
      ]
    },
    {
      "cell_type": "code",
      "execution_count": 109,
      "metadata": {
        "id": "2Rv58Bv-ddoJ"
      },
      "outputs": [],
      "source": [
        "class BasicLearner:\n",
        "  def __init__(self, dls, model, opt_func, loss_func, metric):\n",
        "    self.dls = dls\n",
        "    self.model = model\n",
        "    self.opt_func = opt_func\n",
        "    self.loss_func = loss_func\n",
        "    self.metric = metric\n",
        "\n",
        "  def calc_grad(self, xb, yb, model):\n",
        "    preds = self.model(xb)\n",
        "    loss = self.loss_func(preds, yb)\n",
        "    loss.backward()\n",
        "\n",
        "  def train_epoch(self):\n",
        "    for xb,yb in self.dls.train:\n",
        "      self.calc_grad(xb, yb, self.model)\n",
        "      self.opt.step()\n",
        "      self.opt.zero_grad()\n",
        "\n",
        "  def validate_epoch(self):\n",
        "    accs = [self.metric(self.model(xb), yb) for xb,yb in self.dls.valid]\n",
        "    return round(torch.stack(accs).mean().item(), 4)\n",
        "\n",
        "  def train_model(self, model, epochs):\n",
        "    print(\"Epoch\", self.metric.__name__, sep=\"\\t\")\n",
        "    for i in range(self.epochs):\n",
        "      self.train_epoch()\n",
        "      print(i, self.validate_epoch(), sep=\"\\t\")\n",
        "\n",
        "  def fit(self, epochs, lr):\n",
        "    self.lr = lr\n",
        "    self.epochs = epochs\n",
        "    self.opt = self.opt_func(self.model.parameters(), self.lr)\n",
        "    self.train_model(self.model, self.epochs)"
      ]
    },
    {
      "attachments": {},
      "cell_type": "markdown",
      "metadata": {
        "id": "Qzp2VT5TjsiY"
      },
      "source": [
        "I'll combine my training and validation `DataLoader`s and confirm that they contain the correct number of tuples in their datasets:"
      ]
    },
    {
      "cell_type": "code",
      "execution_count": 110,
      "metadata": {
        "id": "CQW1rVpUYixO"
      },
      "outputs": [],
      "source": [
        "dls = DataLoaders(dl, valid_dl)"
      ]
    },
    {
      "cell_type": "code",
      "execution_count": 111,
      "metadata": {
        "colab": {
          "base_uri": "https://localhost:8080/"
        },
        "id": "RcA8df6ojxws",
        "outputId": "2ff0f59f-d9d8-4222-f36e-4b86dd0b44b4"
      },
      "outputs": [
        {
          "data": {
            "text/plain": [
              "12396"
            ]
          },
          "execution_count": 111,
          "metadata": {},
          "output_type": "execute_result"
        }
      ],
      "source": [
        "len(dls.train.dataset)"
      ]
    },
    {
      "cell_type": "code",
      "execution_count": 112,
      "metadata": {
        "colab": {
          "base_uri": "https://localhost:8080/"
        },
        "id": "XXW9zt3zjzwK",
        "outputId": "6b2bbb4a-11b1-4a8e-b669-71112f552835"
      },
      "outputs": [
        {
          "data": {
            "text/plain": [
              "2038"
            ]
          },
          "execution_count": 112,
          "metadata": {},
          "output_type": "execute_result"
        }
      ],
      "source": [
        "len(dls.valid.dataset)"
      ]
    },
    {
      "attachments": {},
      "cell_type": "markdown",
      "metadata": {
        "id": "yYZnaHRQkpB7"
      },
      "source": [
        "I'll create a fresh neural net to use as a from-scratch model during training:"
      ]
    },
    {
      "cell_type": "code",
      "execution_count": 113,
      "metadata": {
        "id": "g-1IhUGBksms"
      },
      "outputs": [],
      "source": [
        "simple_net = nn.Sequential(\n",
        "    nn.Linear(28*28, 30),\n",
        "    nn.ReLU(),\n",
        "    nn.Linear(30, 1)\n",
        ")"
      ]
    },
    {
      "attachments": {},
      "cell_type": "markdown",
      "metadata": {
        "id": "V1Af59hKkgBO"
      },
      "source": [
        "I'll instantiate my `BasicLearner` class:"
      ]
    },
    {
      "cell_type": "code",
      "execution_count": 114,
      "metadata": {
        "id": "AFdT_iF6kV2-"
      },
      "outputs": [],
      "source": [
        "learn = BasicLearner(dls=dls,\n",
        "                     model=simple_net,\n",
        "                     opt_func=BasicOptim,\n",
        "                     loss_func=mnist_loss,\n",
        "                     metric=batch_accuracy)"
      ]
    },
    {
      "attachments": {},
      "cell_type": "markdown",
      "metadata": {
        "id": "WaKxiMWOlQx9"
      },
      "source": [
        "And train the model:"
      ]
    },
    {
      "cell_type": "code",
      "execution_count": 115,
      "metadata": {
        "colab": {
          "base_uri": "https://localhost:8080/"
        },
        "id": "dJhfKKISk-zb",
        "outputId": "e64d5343-39f9-408d-d9e1-76b0b301c6e3"
      },
      "outputs": [
        {
          "name": "stdout",
          "output_type": "stream",
          "text": [
            "Epoch\tbatch_accuracy\n",
            "0\t0.5068\n",
            "1\t0.814\n",
            "2\t0.9184\n",
            "3\t0.9419\n",
            "4\t0.9575\n",
            "5\t0.9648\n",
            "6\t0.9663\n",
            "7\t0.9677\n",
            "8\t0.9692\n",
            "9\t0.9707\n",
            "10\t0.9736\n",
            "11\t0.9736\n",
            "12\t0.9741\n",
            "13\t0.9755\n",
            "14\t0.9765\n",
            "15\t0.9775\n",
            "16\t0.978\n",
            "17\t0.9785\n",
            "18\t0.979\n",
            "19\t0.979\n",
            "20\t0.979\n",
            "21\t0.9795\n",
            "22\t0.9795\n",
            "23\t0.9804\n",
            "24\t0.9804\n",
            "25\t0.9809\n",
            "26\t0.9814\n",
            "27\t0.9819\n",
            "28\t0.9819\n",
            "29\t0.9819\n",
            "30\t0.9814\n",
            "31\t0.9819\n",
            "32\t0.9819\n",
            "33\t0.9824\n",
            "34\t0.9824\n",
            "35\t0.9829\n",
            "36\t0.9829\n",
            "37\t0.9829\n",
            "38\t0.9829\n",
            "39\t0.9829\n"
          ]
        }
      ],
      "source": [
        "learn.fit(40, 0.1)"
      ]
    },
    {
      "attachments": {},
      "cell_type": "markdown",
      "metadata": {
        "id": "qpmaXDUdlj6e"
      },
      "source": [
        "Looks good! I'm getting similar starting and ending accuracy values as before."
      ]
    },
    {
      "attachments": {},
      "cell_type": "markdown",
      "metadata": {
        "id": "n7WniMkKl192"
      },
      "source": [
        "## Improving the `BasicLearner` Class"
      ]
    },
    {
      "attachments": {},
      "cell_type": "markdown",
      "metadata": {
        "id": "Pzd68gXvl45f"
      },
      "source": [
        "Now that I've confirmed that my `BasicLearner` is able to train a neural net to get 98% accuracy classifying 3s and 7s, I would like to add a bit more functionality to the class.\n",
        "\n",
        "First, I'd like to add a `predict` method to the learner which will take as input a tensor image, and then output the prediction, so that I can test if my model has truly learned how to classify 3s and 7s."
      ]
    },
    {
      "cell_type": "code",
      "execution_count": 116,
      "metadata": {
        "id": "vtGIUC4jmXwl"
      },
      "outputs": [],
      "source": [
        "class BasicLearner:\n",
        "  def __init__(self, dls, model, opt_func, loss_func, metric):\n",
        "    self.dls = dls\n",
        "    self.model = model\n",
        "    self.opt_func = opt_func\n",
        "    self.loss_func = loss_func\n",
        "    self.metric = metric\n",
        "\n",
        "  def calc_grad(self, xb, yb, model):\n",
        "    preds = self.model(xb)\n",
        "    loss = self.loss_func(preds, yb)\n",
        "    loss.backward()\n",
        "\n",
        "  def train_epoch(self):\n",
        "    for xb,yb in self.dls.train:\n",
        "      self.calc_grad(xb, yb, self.model)\n",
        "      self.opt.step()\n",
        "      self.opt.zero_grad()\n",
        "\n",
        "  def validate_epoch(self):\n",
        "    accs = [self.metric(self.model(xb), yb) for xb,yb in self.dls.valid]\n",
        "    return round(torch.stack(accs).mean().item(), 4)\n",
        "\n",
        "  def train_model(self, model, epochs):\n",
        "    print(\"Epoch\", self.metric.__name__, sep=\"\\t\")\n",
        "    for i in range(self.epochs):\n",
        "      self.train_epoch()\n",
        "      print(i, self.validate_epoch(), sep=\"\\t\")\n",
        "\n",
        "  def fit(self, epochs, lr):\n",
        "    self.lr = lr\n",
        "    self.epochs = epochs\n",
        "    self.opt = self.opt_func(self.model.parameters(), self.lr)\n",
        "    self.train_model(self.model, self.epochs)\n",
        "\n",
        "  def predict(self, x):\n",
        "    prediction = self.model(x)\n",
        "    prediction = prediction.sigmoid()\n",
        "    label = \"3\" if prediction > 0.5 else \"7\"\n",
        "    return prediction, label"
      ]
    },
    {
      "attachments": {},
      "cell_type": "markdown",
      "metadata": {
        "id": "orlvuyKSnuL0"
      },
      "source": [
        "I'll instantiate a new model and `BasicLearner` and train it again:"
      ]
    },
    {
      "cell_type": "code",
      "execution_count": 117,
      "metadata": {
        "id": "tJtcfFCZntbH"
      },
      "outputs": [],
      "source": [
        "simple_net = nn.Sequential(\n",
        "    nn.Linear(28*28, 30),\n",
        "    nn.ReLU(),\n",
        "    nn.Linear(30, 1)\n",
        ")"
      ]
    },
    {
      "cell_type": "code",
      "execution_count": 118,
      "metadata": {
        "id": "Qxi3tjlHn0WQ"
      },
      "outputs": [],
      "source": [
        "learn = BasicLearner(dls=dls,\n",
        "                     model=simple_net,\n",
        "                     opt_func=BasicOptim,\n",
        "                     loss_func=mnist_loss,\n",
        "                     metric=batch_accuracy)"
      ]
    },
    {
      "cell_type": "code",
      "execution_count": 119,
      "metadata": {
        "colab": {
          "base_uri": "https://localhost:8080/"
        },
        "id": "7_MVl7wIn2cq",
        "outputId": "f6687710-57fd-499d-d499-9f74a3512941"
      },
      "outputs": [
        {
          "name": "stdout",
          "output_type": "stream",
          "text": [
            "Epoch\tbatch_accuracy\n",
            "0\t0.5073\n",
            "1\t0.8184\n",
            "2\t0.9194\n",
            "3\t0.9419\n",
            "4\t0.957\n",
            "5\t0.9638\n",
            "6\t0.9658\n",
            "7\t0.9672\n",
            "8\t0.9697\n",
            "9\t0.9706\n",
            "10\t0.9726\n",
            "11\t0.9741\n",
            "12\t0.9741\n",
            "13\t0.9755\n",
            "14\t0.976\n",
            "15\t0.9765\n",
            "16\t0.9765\n",
            "17\t0.978\n",
            "18\t0.978\n",
            "19\t0.978\n",
            "20\t0.9795\n",
            "21\t0.9795\n",
            "22\t0.9799\n",
            "23\t0.9809\n",
            "24\t0.9809\n",
            "25\t0.9814\n",
            "26\t0.9814\n",
            "27\t0.9814\n",
            "28\t0.9819\n",
            "29\t0.9814\n",
            "30\t0.9814\n",
            "31\t0.9824\n",
            "32\t0.9829\n",
            "33\t0.9829\n",
            "34\t0.9829\n",
            "35\t0.9829\n",
            "36\t0.9824\n",
            "37\t0.9824\n",
            "38\t0.9824\n",
            "39\t0.9824\n"
          ]
        }
      ],
      "source": [
        "learn.fit(40, 0.1)"
      ]
    },
    {
      "attachments": {},
      "cell_type": "markdown",
      "metadata": {
        "id": "SqaO5o1wojoC"
      },
      "source": [
        "With the model trained, I can see if it predicts an image of a 3 correctly:"
      ]
    },
    {
      "cell_type": "code",
      "execution_count": 120,
      "metadata": {
        "colab": {
          "base_uri": "https://localhost:8080/",
          "height": 114
        },
        "id": "rLtETkP9n-NO",
        "outputId": "6af50cbc-d362-4dc8-b7eb-253da47cee97"
      },
      "outputs": [
        {
          "data": {
            "image/png": "[encoded data removed]",
            "text/plain": [
              "<Figure size 100x100 with 1 Axes>"
            ]
          },
          "metadata": {},
          "output_type": "display_data"
        }
      ],
      "source": [
        "show_image(dls.valid.dataset[1][0].view(-1,28,28));"
      ]
    },
    {
      "cell_type": "code",
      "execution_count": 121,
      "metadata": {
        "colab": {
          "base_uri": "https://localhost:8080/"
        },
        "id": "i23Jp_RXoA4P",
        "outputId": "e5f476ad-f4ba-4bd4-99da-74a002b0c700"
      },
      "outputs": [
        {
          "data": {
            "text/plain": [
              "(tensor([1.0000], grad_fn=<SigmoidBackward0>), '3')"
            ]
          },
          "execution_count": 121,
          "metadata": {},
          "output_type": "execute_result"
        }
      ],
      "source": [
        "learn.predict(dls.valid.dataset[1][0])"
      ]
    },
    {
      "attachments": {},
      "cell_type": "markdown",
      "metadata": {
        "id": "BSHXZLx0RUrQ"
      },
      "source": [
        "The final piece that I'll add is a \"training loss\" column in the `fit` method's output during training. The training loss of each batch will be stored in a tensor, at the end of each epoch I'll calculate the mean loss value, print it out, and reset the loss tensor to 0."
      ]
    },
    {
      "cell_type": "code",
      "execution_count": 139,
      "metadata": {
        "id": "a9oenxesqKGj"
      },
      "outputs": [],
      "source": [
        "class BasicLearner:\n",
        "  def __init__(self, dls, model, opt_func, loss_func, metric):\n",
        "    self.dls = dls\n",
        "    self.model = model\n",
        "    self.opt_func = opt_func\n",
        "    self.loss_func = loss_func\n",
        "    self.metric = metric\n",
        "\n",
        "  def calc_grad(self, xb, yb, model):\n",
        "    preds = self.model(xb)\n",
        "    loss = self.loss_func(preds, yb)\n",
        "    # store the loss of each batch\n",
        "    # later to be averaged across the epoch\n",
        "    self.loss = torch.cat((self.loss, tensor([loss])))\n",
        "    loss.backward()\n",
        "\n",
        "  def train_epoch(self):\n",
        "    for xb,yb in self.dls.train:\n",
        "      self.calc_grad(xb, yb, self.model)\n",
        "      self.opt.step()\n",
        "      self.opt.zero_grad()\n",
        "\n",
        "  def validate_epoch(self):\n",
        "    accs = [self.metric(self.model(xb), yb) for xb,yb in self.dls.valid]\n",
        "    return round(torch.stack(accs).mean().item(), 4)\n",
        "\n",
        "  def train_model(self, model, epochs):\n",
        "    print(\"Epoch\", \"Train Loss\", self.metric.__name__, sep=\"\\t\")\n",
        "    for i in range(self.epochs):\n",
        "      self.loss = tensor([])\n",
        "      self.train_epoch()\n",
        "      print(i, round(self.loss.mean().item(), 4), self.validate_epoch(), sep=\"\\t\\t\")\n",
        "\n",
        "  def fit(self, epochs, lr):\n",
        "    self.lr = lr\n",
        "    self.epochs = epochs\n",
        "    self.opt = self.opt_func(self.model.parameters(), self.lr)\n",
        "    self.train_model(self.model, self.epochs)\n",
        "\n",
        "  def predict(self, x):\n",
        "    prediction = self.model(x)\n",
        "    prediction = prediction.sigmoid()\n",
        "    label = \"3\" if prediction > 0.5 else \"7\"\n",
        "    return prediction, label"
      ]
    },
    {
      "cell_type": "code",
      "execution_count": 140,
      "metadata": {
        "id": "9KYGyaK8TrQK"
      },
      "outputs": [],
      "source": [
        "simple_net = nn.Sequential(\n",
        "    nn.Linear(28*28, 30),\n",
        "    nn.ReLU(),\n",
        "    nn.Linear(30, 1)\n",
        ")"
      ]
    },
    {
      "cell_type": "code",
      "execution_count": 141,
      "metadata": {
        "id": "isr8cOa7T0pJ"
      },
      "outputs": [],
      "source": [
        "learn = BasicLearner(dls=dls,\n",
        "                     model=simple_net,\n",
        "                     opt_func=BasicOptim,\n",
        "                     loss_func=mnist_loss,\n",
        "                     metric=batch_accuracy)"
      ]
    },
    {
      "cell_type": "code",
      "execution_count": 142,
      "metadata": {
        "colab": {
          "base_uri": "https://localhost:8080/"
        },
        "id": "TBKxCEPoT22c",
        "outputId": "4ba79dd8-fab5-4157-c7f4-8481894e4e9a"
      },
      "outputs": [
        {
          "name": "stdout",
          "output_type": "stream",
          "text": [
            "Epoch\tTrain Loss\tbatch_accuracy\n",
            "0\t\t0.3627\t\t0.5229\n",
            "1\t\t0.1088\t\t0.7715\n",
            "2\t\t0.0593\t\t0.9111\n",
            "3\t\t0.0439\t\t0.9389\n",
            "4\t\t0.0375\t\t0.9516\n",
            "5\t\t0.0337\t\t0.9629\n",
            "6\t\t0.0311\t\t0.9653\n",
            "7\t\t0.0291\t\t0.9667\n",
            "8\t\t0.0275\t\t0.9672\n",
            "9\t\t0.0261\t\t0.9687\n",
            "10\t\t0.025\t\t0.9721\n",
            "11\t\t0.0241\t\t0.9736\n",
            "12\t\t0.0233\t\t0.9746\n",
            "13\t\t0.0225\t\t0.9755\n",
            "14\t\t0.0219\t\t0.9755\n",
            "15\t\t0.0213\t\t0.976\n",
            "16\t\t0.0208\t\t0.9765\n",
            "17\t\t0.0204\t\t0.978\n",
            "18\t\t0.02\t\t0.9785\n",
            "19\t\t0.0196\t\t0.9785\n",
            "20\t\t0.0193\t\t0.979\n",
            "21\t\t0.0189\t\t0.979\n",
            "22\t\t0.0186\t\t0.979\n",
            "23\t\t0.0184\t\t0.9799\n",
            "24\t\t0.0181\t\t0.9804\n",
            "25\t\t0.0178\t\t0.9804\n",
            "26\t\t0.0176\t\t0.9804\n",
            "27\t\t0.0174\t\t0.9804\n",
            "28\t\t0.0172\t\t0.9804\n",
            "29\t\t0.017\t\t0.9814\n",
            "30\t\t0.0168\t\t0.9824\n",
            "31\t\t0.0166\t\t0.9824\n",
            "32\t\t0.0164\t\t0.9829\n",
            "33\t\t0.0163\t\t0.9829\n",
            "34\t\t0.0161\t\t0.9829\n",
            "35\t\t0.016\t\t0.9824\n",
            "36\t\t0.0158\t\t0.9829\n",
            "37\t\t0.0157\t\t0.9829\n",
            "38\t\t0.0155\t\t0.9829\n",
            "39\t\t0.0154\t\t0.9829\n"
          ]
        }
      ],
      "source": [
        "learn.fit(40, 0.1)"
      ]
    },
    {
      "cell_type": "code",
      "execution_count": 143,
      "metadata": {
        "colab": {
          "base_uri": "https://localhost:8080/"
        },
        "id": "1vCz8Zm5T5gF",
        "outputId": "c405159b-1ae0-4a41-938b-d8924802b929"
      },
      "outputs": [
        {
          "data": {
            "text/plain": [
              "(tensor([1.0000], grad_fn=<SigmoidBackward0>), '3')"
            ]
          },
          "execution_count": 143,
          "metadata": {},
          "output_type": "execute_result"
        }
      ],
      "source": [
        "# check prediction again\n",
        "learn.predict(dls.valid.dataset[1][0])"
      ]
    },
    {
      "attachments": {},
      "cell_type": "markdown",
      "metadata": {
        "id": "wvA6iosSUgQY"
      },
      "source": [
        "## Further Improvements"
      ]
    },
    {
      "attachments": {},
      "cell_type": "markdown",
      "metadata": {
        "id": "NcR256j0Uj9d"
      },
      "source": [
        "My `BasicLearner` is able to train a neural net classifying two digits to an accuracy of 98%. During training, it prints out the epoch number, training loss and metric. It also has a `predict` method to test its classification on new tensor images. While I'm happy with the result of this exercise, there are certainly numerous improvements and additions that can be made to expand this learner to match the functionality of the fastai `Learner` class.\n",
        "\n",
        "I hope you enjoyed reading this blog post!"
      ]
    }
  ],
  "metadata": {
    "colab": {
      "provenance": [],
      "toc_visible": true
    },
    "kernelspec": {
      "display_name": "Python 3",
      "name": "python3"
    },
    "language_info": {
      "name": "python"
    }
  },
  "nbformat": 4,
  "nbformat_minor": 0
}

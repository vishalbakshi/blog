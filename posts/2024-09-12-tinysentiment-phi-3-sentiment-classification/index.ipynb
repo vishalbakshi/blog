{
 "cells": [
  {
   "cell_type": "raw",
   "metadata": {
    "vscode": {
     "languageId": "raw"
    }
   },
   "source": [
    "---\n",
    "title: Sentiment Classification with phi-3\n",
    "date: \"2024-09-12\"\n",
    "author: Vishal Bakshi\n",
    "description: In this blog post I use phi-3 to classify sentiment in the `financial_phrasebank` dataset with 92.79% accuracy.\n",
    "filters:\n",
    "   - lightbox\n",
    "lightbox: auto\n",
    "categories:\n",
    "    - python\n",
    "    - LLM\n",
    "    - TinySentiment\n",
    "---"
   ]
  },
  {
   "cell_type": "markdown",
   "metadata": {},
   "source": [
    "## Setup"
   ]
  },
  {
   "cell_type": "code",
   "execution_count": null,
   "metadata": {},
   "outputs": [],
   "source": [
    "#| code-fold: true\n",
    "#| code-summary: \"Show pip installs\"\n",
    "!pip install torch==2.3.1 -qq\n",
    "!pip install accelerate==0.31.0 -qq\n",
    "!pip install transformers==4.41.2 -qq\n",
    "!pip install huggingface_hub -qq\n",
    "!pip install datasets~=2.16.1 -qq\n",
    "!pip install plotly==5.19.0 -qq\n",
    "!pip install scikit-learn==1.2 -qq"
   ]
  },
  {
   "cell_type": "code",
   "execution_count": null,
   "metadata": {},
   "outputs": [],
   "source": [
    "#| code-fold: true\n",
    "#| code-summary: \"Show imports and setup\"\n",
    "import gc\n",
    "import pandas as pd\n",
    "import numpy as np\n",
    "import numpy as np\n",
    "from sklearn.metrics import confusion_matrix, ConfusionMatrixDisplay\n",
    "import matplotlib.pyplot as plt\n",
    "from pandas.api.types import CategoricalDtype\n",
    "import torch\n",
    "\n",
    "import warnings\n",
    "#warnings.filterwarnings(\"ignore\")\n",
    "\n",
    "import plotly.express as px\n",
    "import plotly.graph_objects as go\n",
    "from plotly.subplots import make_subplots\n",
    "\n",
    "import time\n",
    "\n",
    "from datasets import load_dataset, Dataset\n",
    "from transformers import AutoModelForCausalLM, AutoTokenizer, pipeline \n",
    "from transformers.pipelines.pt_utils import KeyDataset\n",
    "from fastcore.all import *\n",
    "\n",
    "#torch.set_default_device(\"cuda\")\n",
    "torch.cuda.set_device(0)\n",
    "\n",
    "model = AutoModelForCausalLM.from_pretrained( \n",
    "    \"microsoft/Phi-3-mini-4k-instruct\",  \n",
    "    device_map=\"cuda\",  \n",
    "    torch_dtype=\"auto\",  \n",
    "    trust_remote_code=True,  \n",
    ") \n",
    "\n",
    "tokenizer = AutoTokenizer.from_pretrained(\"microsoft/Phi-3-mini-4k-instruct\")\n",
    "\n",
    "pipe = pipeline( \n",
    "    \"text-generation\", \n",
    "    model=model, \n",
    "    tokenizer=tokenizer, \n",
    ") \n",
    "\n",
    "# load dataset\n",
    "dataset = load_dataset(\n",
    "    \"financial_phrasebank\", \"sentences_allagree\", \n",
    "    split=\"train\"  # note that the dataset does not have a default test split\n",
    ")"
   ]
  },
  {
   "cell_type": "code",
   "execution_count": null,
   "metadata": {
    "execution": {
     "iopub.execute_input": "2024-09-12T03:38:47.873906Z",
     "iopub.status.busy": "2024-09-12T03:38:47.873708Z",
     "iopub.status.idle": "2024-09-12T03:38:47.956535Z",
     "shell.execute_reply": "2024-09-12T03:38:47.955896Z",
     "shell.execute_reply.started": "2024-09-12T03:38:47.873888Z"
    }
   },
   "outputs": [],
   "source": [
    "# create a new column with the numeric label verbalised as label_text (e.g. \"positive\" instead of \"0\")\n",
    "label_map = {i: label_text for i, label_text in enumerate(dataset.features[\"label\"].names)}\n",
    "\n",
    "def add_label_text(example):\n",
    "    example[\"label_text\"] = label_map[example[\"label\"]]\n",
    "    return example\n",
    "\n",
    "dataset = dataset.map(add_label_text)\n",
    "\n",
    "print(dataset)"
   ]
  },
  {
   "cell_type": "code",
   "execution_count": 5,
   "metadata": {
    "execution": {
     "iopub.execute_input": "2024-09-12T03:38:47.958152Z",
     "iopub.status.busy": "2024-09-12T03:38:47.957941Z",
     "iopub.status.idle": "2024-09-12T03:38:47.963961Z",
     "shell.execute_reply": "2024-09-12T03:38:47.963323Z",
     "shell.execute_reply.started": "2024-09-12T03:38:47.958135Z"
    }
   },
   "outputs": [],
   "source": [
    "#| code-fold: true\n",
    "#| code-summary: \"Show `add_prompt` and `generate_responses` functions\"\n",
    "def add_prompt(item, prompt):\n",
    "        item['prompt'] = prompt.format(text=item['sentence'])\n",
    "        return item\n",
    "    \n",
    "def generate_responses(dataset, prompt):\n",
    "    responses = []\n",
    "    dataset = dataset.map(add_prompt, fn_kwargs={\"prompt\": prompt})\n",
    "    \n",
    "    # check that the prompt is correctly formatted\n",
    "    print(dataset[0]['prompt'])\n",
    "    print('---------')\n",
    "    \n",
    "    for row in dataset:\n",
    "        messages = [  \n",
    "            {\"role\": \"user\", \"content\": row['prompt']},\n",
    "        ] \n",
    "\n",
    "        generation_args = { \n",
    "            \"max_new_tokens\": 2, \n",
    "            \"return_full_text\": False, \n",
    "            \"temperature\": 0.1, \n",
    "            \"do_sample\": True, \n",
    "        } \n",
    "\n",
    "        response = pipe(messages, **generation_args) \n",
    "        responses.append(response[0]['generated_text'].strip().lower())\n",
    "        \n",
    "    # calculate accuracy\n",
    "    df = dataset.to_pandas()\n",
    "    df['responses'] = pd.Series(responses)\n",
    "    df['responses'] = df['responses'].apply(lambda x: x if x in ['negative', 'positive', 'neutral'] else \"other\")\n",
    "    df['lm_match'] = df['label_text'] == df['responses']\n",
    "    acc = df.lm_match.mean()\n",
    "    return df, acc"
   ]
  },
  {
   "cell_type": "code",
   "execution_count": 6,
   "metadata": {
    "execution": {
     "iopub.execute_input": "2024-09-12T03:38:47.965072Z",
     "iopub.status.busy": "2024-09-12T03:38:47.964877Z",
     "iopub.status.idle": "2024-09-12T03:38:47.968694Z",
     "shell.execute_reply": "2024-09-12T03:38:47.968162Z",
     "shell.execute_reply.started": "2024-09-12T03:38:47.965055Z"
    }
   },
   "outputs": [],
   "source": [
    "#| code-fold: true\n",
    "#| code-summary: \"Show `generate_response` function\"\n",
    "def generate_response(prompt):\n",
    "    messages = [  \n",
    "        {\"role\": \"user\", \"content\": prompt},\n",
    "    ] \n",
    "\n",
    "    generation_args = { \n",
    "        \"max_new_tokens\": 2, \n",
    "        \"return_full_text\": False, \n",
    "        \"temperature\": 0.1, \n",
    "        \"do_sample\": True, \n",
    "    } \n",
    "\n",
    "    output = pipe(messages, **generation_args) \n",
    "    return output[0]['generated_text']"
   ]
  },
  {
   "cell_type": "code",
   "execution_count": 7,
   "metadata": {
    "execution": {
     "iopub.execute_input": "2024-09-12T03:38:47.969979Z",
     "iopub.status.busy": "2024-09-12T03:38:47.969498Z",
     "iopub.status.idle": "2024-09-12T03:38:47.974132Z",
     "shell.execute_reply": "2024-09-12T03:38:47.973551Z",
     "shell.execute_reply.started": "2024-09-12T03:38:47.969960Z"
    }
   },
   "outputs": [],
   "source": [
    "#| code-fold: true\n",
    "#| code-summary: \"Show `make_cm` function\"\n",
    "def make_cm(df):\n",
    "    \"\"\"Create confusion matrix for true vs predicted sentiment classes\"\"\"\n",
    "    \n",
    "    cm = confusion_matrix(y_true=df['label_text'], y_pred=df['responses'], labels=['negative', 'neutral', 'positive', 'other'])\n",
    "    disp = ConfusionMatrixDisplay(cm, display_labels=['negative', 'neutral', 'positive', 'other'])\n",
    "    \n",
    "    # I chose 8x8 so it fits on one screen but still is large\n",
    "    fig, ax = plt.subplots(figsize=(8,8))\n",
    "    disp.plot(ax=ax,text_kw={'fontsize': 16}, cmap='Blues', colorbar=False);\n",
    "    \n",
    "    # change label font size without changing label text\n",
    "    ax.xaxis.label.set_fontsize(18)\n",
    "    ax.yaxis.label.set_fontsize(18)\n",
    "    \n",
    "    # make tick labels larger\n",
    "    ax.tick_params(axis='y', labelsize=16)\n",
    "    ax.tick_params(axis='x', labelsize=16)"
   ]
  },
  {
   "cell_type": "code",
   "execution_count": 8,
   "metadata": {
    "execution": {
     "iopub.execute_input": "2024-09-12T03:38:47.975111Z",
     "iopub.status.busy": "2024-09-12T03:38:47.974939Z",
     "iopub.status.idle": "2024-09-12T03:38:47.978759Z",
     "shell.execute_reply": "2024-09-12T03:38:47.978159Z",
     "shell.execute_reply.started": "2024-09-12T03:38:47.975096Z"
    }
   },
   "outputs": [],
   "source": [
    "#| code-fold: true\n",
    "#| code-summary: \"Show `ds_subset` function\"\n",
    "def ds_subset(dataset, exclude_idxs, columns=[0, 1, 2]):\n",
    "    idxs = list(range(len(dataset)))\n",
    "    idxs = [x for x in idxs if x not in exclude_idxs]\n",
    "    ddf = dataset.to_pandas()\n",
    "    new_ds = Dataset.from_pandas(ddf.iloc[idxs, columns])\n",
    "    return new_ds"
   ]
  },
  {
   "cell_type": "markdown",
   "metadata": {},
   "source": [
    "## Background"
   ]
  },
  {
   "cell_type": "markdown",
   "metadata": {},
   "source": [
    "In this notebook I'll use [Phi-3-mini-4k-instruct](https://huggingface.co/microsoft/Phi-3-mini-4k-instruct) to classify sentiment in the [`financial_phrasebank` dataset](https://huggingface.co/datasets/financial_phrasebank).\n",
    "In previous notebooks I have performed [sentiment classification with phi-2](https://vishalbakshi.github.io/blog/posts/2024-08-31-tinysentiment-phi-2-sentiment-classification/) and [the Claude series](https://vishalbakshi.github.io/blog/posts/2024-08-29-tinysentiment-claude-experiments/).\n",
    "\n",
    "This notebook is part of [a series of blog posts](https://vishalbakshi.github.io/blog/#category=TinySentiment) for a project I’m working called TinySentiment where I’m experimenting with tiny models to improve their ability to classify sentiment in the `financial_phrasebank dataset`. I was inspired to do so after reading [this blog post](https://huggingface.co/blog/synthetic-data-save-costs) and [this corresponding notebook](https://github.com/MoritzLaurer/synthetic-data-blog/blob/main/notebooks/synthetic_data_creation.ipynb) by Moritz Laurer as part of a fastai study group last year."
   ]
  },
  {
   "cell_type": "markdown",
   "metadata": {},
   "source": [
    "Here are the results from my experiments so far (\\**the best-performing prompt from this notebook):\n",
    "\n",
    "|Model|Prompting Strategy|Overall Accuracy|`negative`|`neutral`|`positive`|\n",
    "|:-:|:-:|:-:|:-:|:-:|:-:|\n",
    "|claude-3-5-sonnet-20240620|3-Shot|94.78%|98% (297/303) | 94% (1302/1391)|95% (544/570)|\n",
    "|claude-3-opus-20240229|0-Shot|94.13%|98% (297/303)|96% (1333/1391)|88% (501/570)|\n",
    "|phi-3.5|20-Shot|93.94%|96% (286/299)|98% (1355/1379)|83% (467/566)|\n",
    "|\\**phi-3|30-Shot w/System Prompt|92.79%|98% (290/297)|94% (1284/1373)|88% (499/564)|\n",
    "|claude-3-haiku-20240307|3-Shot|92.39%|90% (272/303)|91% (1267/1391)|96% (550/570)|\n",
    "|phi-2|6-Shot|91.94%|88% (267/302)|94% (1299/1387)|90% (510/569)|\n"
   ]
  },
  {
   "cell_type": "markdown",
   "metadata": {},
   "source": [
    "Here are the per-prompt results from this notebook (phi-3):\n",
    "\n",
    "|prompt|strategy|accuracy|negative|neutral|positive|\n",
    "|:-:|:-:|:-:|:-:|:-:|:-:|\n",
    "|[A](#prompt-A)|0-Shot|47.00%|98% (298/303)|16% (220/1391)|96% (546/570)|\n",
    "|[B](#prompt-B)|0-Shot|73.23%|99% (300/303)|59% (821/1391)|94% (537/570)|\n",
    "|[C](#prompt-C)|0-Shot|66.25%|99% (300/303)|47% (650/1391)|96% (550/570)|\n",
    "|[D](#prompt-D)|0-Shot|49.65%|<u>**99% (301/303)**</u>|19% (269/1391)|97% (554/570)|\n",
    "|[E](#prompt-E)|0-Shot|72.44%|99% (299/303)|58% (803/1391)|94% (538/570)|\n",
    "|[F](#prompt-F)|3-Shot|82.62%|98% (297/302)|73% (1009/1390)|99% (562/569)|\n",
    "|[G](#prompt-G)|6-Shot|76.13%|98% (297/302)|62% (865/1387)|98% (557/569)|\n",
    "|[H](#prompt-H)|3-Shot|83.10%|98% (296/302)|73% (1021/1390)|99% (562/569)|\n",
    "|[I](#prompt-I)|3-Shot|81.16%|98% (295/302)|70% (977/1390)|99% (563/569)|\n",
    "|[J](#prompt-J)|3-Shot|84.61%|97% (294/302)|76% (1055/1390)|<u>**99% (564/569)<u>**|\n",
    "|[K](#prompt-K)|3-Shot|83.19%|98% (295/302)|74% (1024/1390)|99% (562/569)|\n",
    "|[L](#prompt-L)|3-Shot w/System Prompt|87.35%|98% (295/302)|81% (1120/1390)|98% (560/569)|\n",
    "|[M](#prompt-M)|3-Shot w/System Prompt|88.41%|97% (292/302)|83% (1149/1390)|98% (558/569)|\n",
    "|[N](#prompt-N)|3-Shot w/System Prompt|88.28%|97% (293/302)|82% (1142/1390)|99% (561/569)|\n",
    "|[O](#prompt-O)|3-Shot w/System Prompt|88.59%|98% (296/302)|82% (1145/1390)|99% (562/569)|\n",
    "|[P](#prompt-P)|3-Shot w/System Prompt|90.00%|97% (294/302)|85% (1179/1390)|99% (562/569)|\n",
    "|[Q](#prompt-Q)|20-Shot w/System Prompt|91.71%|97% (291/299)|89% (1226/1379)|96% (541/566)|\n",
    "|<u>**[R](#prompt-R)**</u>|<u>**30-Shot w/System Prompt**</u>|<u>**92.79%**</u>|98% (290/297)|<u>**94% (1284/1373)**</u>|88% (499/564)|\n"
   ]
  },
  {
   "cell_type": "markdown",
   "metadata": {},
   "source": [
    "## Prompt A"
   ]
  },
  {
   "cell_type": "markdown",
   "metadata": {},
   "source": [
    "The HuggingFace model card for Phi-3 Mini-4K-Instruct says:\n",
    "\n",
    "> Given the nature of the training data, the Phi-3 Mini-4K-Instruct model is best suited for prompts using the chat format"
   ]
  },
  {
   "cell_type": "markdown",
   "metadata": {},
   "source": [
    "So, the first prompt I'll try will be a simple instruction:\n",
    "\n"
   ]
  },
  {
   "cell_type": "code",
   "execution_count": 7,
   "metadata": {
    "execution": {
     "iopub.execute_input": "2024-09-10T20:22:58.171065Z",
     "iopub.status.busy": "2024-09-10T20:22:58.170403Z",
     "iopub.status.idle": "2024-09-10T20:22:58.174206Z",
     "shell.execute_reply": "2024-09-10T20:22:58.173501Z",
     "shell.execute_reply.started": "2024-09-10T20:22:58.171044Z"
    }
   },
   "outputs": [],
   "source": [
    "promptA = \"\"\"Label the following TEXT with a single word: negative, positive, or neutral\n",
    "TEXT: {text}\"\"\""
   ]
  },
  {
   "cell_type": "code",
   "execution_count": 8,
   "metadata": {
    "execution": {
     "iopub.execute_input": "2024-09-10T20:22:59.869195Z",
     "iopub.status.busy": "2024-09-10T20:22:59.868425Z",
     "iopub.status.idle": "2024-09-10T20:22:59.876347Z",
     "shell.execute_reply": "2024-09-10T20:22:59.875787Z",
     "shell.execute_reply.started": "2024-09-10T20:22:59.869175Z"
    }
   },
   "outputs": [
    {
     "data": {
      "text/plain": [
       "\"For the last quarter of 2010 , Componenta 's net sales doubled to EUR131m from EUR76m for the same period a year earlier , while it moved to a zero pre-tax profit from a pre-tax loss of EUR7m .\""
      ]
     },
     "execution_count": 8,
     "metadata": {},
     "output_type": "execute_result"
    }
   ],
   "source": [
    "text = dataset[1][\"sentence\"]\n",
    "text"
   ]
  },
  {
   "cell_type": "code",
   "execution_count": 9,
   "metadata": {
    "execution": {
     "iopub.execute_input": "2024-09-10T20:23:02.411463Z",
     "iopub.status.busy": "2024-09-10T20:23:02.411203Z",
     "iopub.status.idle": "2024-09-10T20:23:02.414920Z",
     "shell.execute_reply": "2024-09-10T20:23:02.414420Z",
     "shell.execute_reply.started": "2024-09-10T20:23:02.411446Z"
    }
   },
   "outputs": [
    {
     "name": "stdout",
     "output_type": "stream",
     "text": [
      "Label the following TEXT with a single word: negative, positive, or neutral\n",
      "TEXT: For the last quarter of 2010 , Componenta 's net sales doubled to EUR131m from EUR76m for the same period a year earlier , while it moved to a zero pre-tax profit from a pre-tax loss of EUR7m .\n"
     ]
    }
   ],
   "source": [
    "formatted_prompt = promptA.format(text=text)\n",
    "print(formatted_prompt)"
   ]
  },
  {
   "cell_type": "code",
   "execution_count": 10,
   "metadata": {
    "execution": {
     "iopub.execute_input": "2024-09-10T20:23:04.265018Z",
     "iopub.status.busy": "2024-09-10T20:23:04.264224Z",
     "iopub.status.idle": "2024-09-10T20:23:05.025735Z",
     "shell.execute_reply": "2024-09-10T20:23:05.025207Z",
     "shell.execute_reply.started": "2024-09-10T20:23:04.264987Z"
    }
   },
   "outputs": [
    {
     "name": "stderr",
     "output_type": "stream",
     "text": [
      "You are not running the flash-attention implementation, expect numerical differences.\n"
     ]
    },
    {
     "data": {
      "text/plain": [
       "' Negative'"
      ]
     },
     "execution_count": 10,
     "metadata": {},
     "output_type": "execute_result"
    }
   ],
   "source": [
    "generate_response(formatted_prompt)"
   ]
  },
  {
   "cell_type": "code",
   "execution_count": 11,
   "metadata": {
    "execution": {
     "iopub.execute_input": "2024-09-10T20:23:07.005848Z",
     "iopub.status.busy": "2024-09-10T20:23:07.005343Z",
     "iopub.status.idle": "2024-09-10T20:23:07.074481Z",
     "shell.execute_reply": "2024-09-10T20:23:07.073733Z",
     "shell.execute_reply.started": "2024-09-10T20:23:07.005829Z"
    }
   },
   "outputs": [
    {
     "name": "stdout",
     "output_type": "stream",
     "text": [
      "CPU times: user 64.3 ms, sys: 87 µs, total: 64.4 ms\n",
      "Wall time: 63.5 ms\n"
     ]
    },
    {
     "data": {
      "text/plain": [
       "' Negative'"
      ]
     },
     "execution_count": 11,
     "metadata": {},
     "output_type": "execute_result"
    }
   ],
   "source": [
    "%time generate_response(formatted_prompt)"
   ]
  },
  {
   "cell_type": "code",
   "execution_count": 12,
   "metadata": {
    "execution": {
     "iopub.execute_input": "2024-09-10T20:23:09.606602Z",
     "iopub.status.busy": "2024-09-10T20:23:09.605994Z",
     "iopub.status.idle": "2024-09-10T20:23:13.816757Z",
     "shell.execute_reply": "2024-09-10T20:23:13.816293Z",
     "shell.execute_reply.started": "2024-09-10T20:23:09.606574Z"
    }
   },
   "outputs": [
    {
     "name": "stderr",
     "output_type": "stream",
     "text": [
      "You seem to be using the pipelines sequentially on GPU. In order to maximize efficiency please use a dataset\n"
     ]
    },
    {
     "name": "stdout",
     "output_type": "stream",
     "text": [
      "60.1 ms ± 926 µs per loop (mean ± std. dev. of 7 runs, 10 loops each)\n"
     ]
    }
   ],
   "source": [
    "%timeit -n 10 generate_response(formatted_prompt)"
   ]
  },
  {
   "cell_type": "markdown",
   "metadata": {},
   "source": [
    "Good--at least it works! Although it looks like I'll have to strip the \n",
    "outputs of whitespace and convert them to lowercase. It takes about 0.06 seconds to generate\n",
    "the response, so it should take about 2-3 minutes to run inference on the whole dataset."
   ]
  },
  {
   "cell_type": "code",
   "execution_count": 19,
   "metadata": {
    "execution": {
     "iopub.execute_input": "2024-09-10T20:29:04.340598Z",
     "iopub.status.busy": "2024-09-10T20:29:04.339668Z",
     "iopub.status.idle": "2024-09-10T20:31:23.726730Z",
     "shell.execute_reply": "2024-09-10T20:31:23.726090Z",
     "shell.execute_reply.started": "2024-09-10T20:29:04.340572Z"
    }
   },
   "outputs": [
    {
     "name": "stdout",
     "output_type": "stream",
     "text": [
      "Label the following TEXT with a single word: negative, positive, or neutral\n",
      "TEXT: According to Gran , the company has no plans to move all production to Russia , although that is where the company is growing .\n",
      "---------\n"
     ]
    }
   ],
   "source": [
    "df, acc = generate_responses(dataset, promptA)"
   ]
  },
  {
   "cell_type": "markdown",
   "metadata": {},
   "source": [
    "As expected, the model does not perform well with this prompt. It actually performs worse\n",
    "than phi-2 (58%)."
   ]
  },
  {
   "cell_type": "code",
   "execution_count": 20,
   "metadata": {
    "execution": {
     "iopub.execute_input": "2024-09-10T20:31:23.728244Z",
     "iopub.status.busy": "2024-09-10T20:31:23.728033Z",
     "iopub.status.idle": "2024-09-10T20:31:23.732473Z",
     "shell.execute_reply": "2024-09-10T20:31:23.731727Z",
     "shell.execute_reply.started": "2024-09-10T20:31:23.728228Z"
    }
   },
   "outputs": [
    {
     "data": {
      "text/plain": [
       "0.46996466431095407"
      ]
     },
     "execution_count": 20,
     "metadata": {},
     "output_type": "execute_result"
    }
   ],
   "source": [
    "acc"
   ]
  },
  {
   "cell_type": "markdown",
   "metadata": {},
   "source": [
    "The model actually performs quite well for `negative` (298/393) and `positive` (546/570) sentiment, but performs badly for `neutral` sentiment (220/1391)."
   ]
  },
  {
   "cell_type": "code",
   "execution_count": 22,
   "metadata": {
    "execution": {
     "iopub.execute_input": "2024-09-10T20:31:23.739578Z",
     "iopub.status.busy": "2024-09-10T20:31:23.739395Z",
     "iopub.status.idle": "2024-09-10T20:31:23.859315Z",
     "shell.execute_reply": "2024-09-10T20:31:23.858535Z",
     "shell.execute_reply.started": "2024-09-10T20:31:23.739559Z"
    }
   },
   "outputs": [
    {
     "data": {
      "image/png": "[encoded data removed]",
      "text/plain": [
       "<Figure size 576x576 with 1 Axes>"
      ]
     },
     "metadata": {
      "needs_background": "light"
     },
     "output_type": "display_data"
    }
   ],
   "source": [
    "make_cm(df)"
   ]
  },
  {
   "cell_type": "code",
   "execution_count": 23,
   "metadata": {
    "execution": {
     "iopub.execute_input": "2024-09-10T20:34:12.912658Z",
     "iopub.status.busy": "2024-09-10T20:34:12.911598Z",
     "iopub.status.idle": "2024-09-10T20:34:12.934248Z",
     "shell.execute_reply": "2024-09-10T20:34:12.933529Z",
     "shell.execute_reply.started": "2024-09-10T20:34:12.912614Z"
    }
   },
   "outputs": [],
   "source": [
    "df.to_csv('/notebooks/phi-3_A.csv', index=False)"
   ]
  },
  {
   "cell_type": "markdown",
   "metadata": {},
   "source": [
    "## Prompt B"
   ]
  },
  {
   "cell_type": "markdown",
   "metadata": {},
   "source": [
    "I'll repeat the instruction after the sentence and see if that improves the performance (as it did for phi-2)."
   ]
  },
  {
   "cell_type": "code",
   "execution_count": 38,
   "metadata": {
    "execution": {
     "iopub.execute_input": "2024-09-10T23:44:30.434958Z",
     "iopub.status.busy": "2024-09-10T23:44:30.433987Z",
     "iopub.status.idle": "2024-09-10T23:44:30.438329Z",
     "shell.execute_reply": "2024-09-10T23:44:30.437633Z",
     "shell.execute_reply.started": "2024-09-10T23:44:30.434928Z"
    }
   },
   "outputs": [],
   "source": [
    "promptB = \"\"\"Instruct: label the following TEXT with a single word: negative, positive, or neutral\n",
    "TEXT: {text}\n",
    "label the TEXT with a single word: negative, positive, or neutral\"\"\""
   ]
  },
  {
   "cell_type": "code",
   "execution_count": 39,
   "metadata": {
    "execution": {
     "iopub.execute_input": "2024-09-10T23:44:39.509562Z",
     "iopub.status.busy": "2024-09-10T23:44:39.509104Z",
     "iopub.status.idle": "2024-09-10T23:47:02.869196Z",
     "shell.execute_reply": "2024-09-10T23:47:02.868447Z",
     "shell.execute_reply.started": "2024-09-10T23:44:39.509544Z"
    }
   },
   "outputs": [
    {
     "data": {
      "application/vnd.jupyter.widget-view+json": {
       "model_id": "6d937294918046ebaa59ebf8dd0cbf5b",
       "version_major": 2,
       "version_minor": 0
      },
      "text/plain": [
       "Map:   0%|          | 0/2264 [00:00<?, ? examples/s]"
      ]
     },
     "metadata": {},
     "output_type": "display_data"
    },
    {
     "name": "stdout",
     "output_type": "stream",
     "text": [
      "Instruct: label the following TEXT with a single word: negative, positive, or neutral\n",
      "TEXT: According to Gran , the company has no plans to move all production to Russia , although that is where the company is growing .\n",
      "label the TEXT with a single word: negative, positive, or neutral\n",
      "---------\n"
     ]
    }
   ],
   "source": [
    "df, acc = generate_responses(dataset, promptB)"
   ]
  },
  {
   "cell_type": "markdown",
   "metadata": {},
   "source": [
    "As expected, repeating the instruction boosts the accuracy significantly. This is something\n",
    "I learned to do in a fastai study group."
   ]
  },
  {
   "cell_type": "code",
   "execution_count": 40,
   "metadata": {
    "execution": {
     "iopub.execute_input": "2024-09-10T23:47:02.870685Z",
     "iopub.status.busy": "2024-09-10T23:47:02.870477Z",
     "iopub.status.idle": "2024-09-10T23:47:02.874837Z",
     "shell.execute_reply": "2024-09-10T23:47:02.874334Z",
     "shell.execute_reply.started": "2024-09-10T23:47:02.870667Z"
    }
   },
   "outputs": [
    {
     "data": {
      "text/plain": [
       "0.7323321554770318"
      ]
     },
     "execution_count": 40,
     "metadata": {},
     "output_type": "execute_result"
    }
   ],
   "source": [
    "acc"
   ]
  },
  {
   "cell_type": "markdown",
   "metadata": {},
   "source": [
    "The model improves its performance for `negative` and `neutral` sentences, while its\n",
    "performance for `positive` sentences worsens."
   ]
  },
  {
   "cell_type": "code",
   "execution_count": 42,
   "metadata": {
    "execution": {
     "iopub.execute_input": "2024-09-10T23:54:18.185349Z",
     "iopub.status.busy": "2024-09-10T23:54:18.184616Z",
     "iopub.status.idle": "2024-09-10T23:54:18.295573Z",
     "shell.execute_reply": "2024-09-10T23:54:18.294895Z",
     "shell.execute_reply.started": "2024-09-10T23:54:18.185309Z"
    }
   },
   "outputs": [
    {
     "data": {
      "image/png": "[encoded data removed]",
      "text/plain": [
       "<Figure size 576x576 with 1 Axes>"
      ]
     },
     "metadata": {
      "needs_background": "light"
     },
     "output_type": "display_data"
    }
   ],
   "source": [
    "make_cm(df)\n"
   ]
  },
  {
   "cell_type": "code",
   "execution_count": 43,
   "metadata": {
    "execution": {
     "iopub.execute_input": "2024-09-10T23:54:32.589596Z",
     "iopub.status.busy": "2024-09-10T23:54:32.589352Z",
     "iopub.status.idle": "2024-09-10T23:54:32.633195Z",
     "shell.execute_reply": "2024-09-10T23:54:32.632571Z",
     "shell.execute_reply.started": "2024-09-10T23:54:32.589579Z"
    }
   },
   "outputs": [],
   "source": [
    "df.to_csv('/notebooks/phi-3_B.csv', index=False)"
   ]
  },
  {
   "cell_type": "markdown",
   "metadata": {},
   "source": [
    "## Prompt C"
   ]
  },
  {
   "cell_type": "markdown",
   "metadata": {},
   "source": [
    "I'll add some introductory text to the prompt to see if that improves the model's performance:"
   ]
  },
  {
   "cell_type": "code",
   "execution_count": 28,
   "metadata": {
    "execution": {
     "iopub.execute_input": "2024-09-10T20:48:10.156569Z",
     "iopub.status.busy": "2024-09-10T20:48:10.155777Z",
     "iopub.status.idle": "2024-09-10T20:48:10.159809Z",
     "shell.execute_reply": "2024-09-10T20:48:10.159086Z",
     "shell.execute_reply.started": "2024-09-10T20:48:10.156542Z"
    }
   },
   "outputs": [],
   "source": [
    "promptC = \"\"\"Your task is to analyze the sentiment (from an investor's perspective) of the text below.\n",
    "\n",
    "Instruct: label the following TEXT with a single word: negative, positive, or neutral\n",
    "TEXT: {text}\n",
    "label the TEXT with a single word: negative, positive, or neutral\"\"\""
   ]
  },
  {
   "cell_type": "code",
   "execution_count": 29,
   "metadata": {
    "execution": {
     "iopub.execute_input": "2024-09-10T20:48:19.108345Z",
     "iopub.status.busy": "2024-09-10T20:48:19.107978Z",
     "iopub.status.idle": "2024-09-10T20:50:44.221796Z",
     "shell.execute_reply": "2024-09-10T20:50:44.221149Z",
     "shell.execute_reply.started": "2024-09-10T20:48:19.108316Z"
    }
   },
   "outputs": [
    {
     "data": {
      "application/vnd.jupyter.widget-view+json": {
       "model_id": "3dd4f7bf478d43e288c0f524e379bc60",
       "version_major": 2,
       "version_minor": 0
      },
      "text/plain": [
       "Map:   0%|          | 0/2264 [00:00<?, ? examples/s]"
      ]
     },
     "metadata": {},
     "output_type": "display_data"
    },
    {
     "name": "stdout",
     "output_type": "stream",
     "text": [
      "Your task is to analyze the sentiment (from an investor's perspective) of the text below.\n",
      "\n",
      "Instruct: label the following TEXT with a single word: negative, positive, or neutral\n",
      "TEXT: According to Gran , the company has no plans to move all production to Russia , although that is where the company is growing .\n",
      "label the TEXT with a single word: negative, positive, or neutral\n",
      "---------\n"
     ]
    }
   ],
   "source": [
    "df, acc = generate_responses(dataset, promptC)"
   ]
  },
  {
   "cell_type": "markdown",
   "metadata": {},
   "source": [
    "Unlike phi-2 (although I applied this introductory text to few-shot prompting, not 0-shot) \n",
    "this worsens the model's overall accuracy."
   ]
  },
  {
   "cell_type": "code",
   "execution_count": 30,
   "metadata": {
    "execution": {
     "iopub.execute_input": "2024-09-10T20:50:44.223444Z",
     "iopub.status.busy": "2024-09-10T20:50:44.223152Z",
     "iopub.status.idle": "2024-09-10T20:50:44.228329Z",
     "shell.execute_reply": "2024-09-10T20:50:44.227544Z",
     "shell.execute_reply.started": "2024-09-10T20:50:44.223418Z"
    }
   },
   "outputs": [
    {
     "data": {
      "text/plain": [
       "0.6625441696113075"
      ]
     },
     "execution_count": 30,
     "metadata": {},
     "output_type": "execute_result"
    }
   ],
   "source": [
    "acc"
   ]
  },
  {
   "cell_type": "markdown",
   "metadata": {},
   "source": [
    "Interestingly, this prompt improves the `positive` sentiment true positive rate (550/570 > 537/570)."
   ]
  },
  {
   "cell_type": "code",
   "execution_count": 31,
   "metadata": {
    "execution": {
     "iopub.execute_input": "2024-09-10T20:50:44.229723Z",
     "iopub.status.busy": "2024-09-10T20:50:44.229198Z",
     "iopub.status.idle": "2024-09-10T20:50:44.312358Z",
     "shell.execute_reply": "2024-09-10T20:50:44.311868Z",
     "shell.execute_reply.started": "2024-09-10T20:50:44.229669Z"
    }
   },
   "outputs": [
    {
     "data": {
      "image/png": "[encoded data removed]",
      "text/plain": [
       "<Figure size 576x576 with 1 Axes>"
      ]
     },
     "metadata": {
      "needs_background": "light"
     },
     "output_type": "display_data"
    }
   ],
   "source": [
    "make_cm(df)"
   ]
  },
  {
   "cell_type": "code",
   "execution_count": 33,
   "metadata": {
    "execution": {
     "iopub.execute_input": "2024-09-10T20:53:50.084167Z",
     "iopub.status.busy": "2024-09-10T20:53:50.083522Z",
     "iopub.status.idle": "2024-09-10T20:53:50.109510Z",
     "shell.execute_reply": "2024-09-10T20:53:50.108874Z",
     "shell.execute_reply.started": "2024-09-10T20:53:50.084145Z"
    }
   },
   "outputs": [],
   "source": [
    "df.to_csv('/notebooks/phi-3_C.csv', index=False)"
   ]
  },
  {
   "cell_type": "markdown",
   "metadata": {},
   "source": [
    "## Prompt D"
   ]
  },
  {
   "cell_type": "markdown",
   "metadata": {},
   "source": [
    "I'll try another prompt language adjustment to Prompt B: I'll replace\n",
    "\"label\" with \"Respond\"."
   ]
  },
  {
   "cell_type": "code",
   "execution_count": 34,
   "metadata": {
    "execution": {
     "iopub.execute_input": "2024-09-10T20:58:02.299718Z",
     "iopub.status.busy": "2024-09-10T20:58:02.299443Z",
     "iopub.status.idle": "2024-09-10T20:58:02.303068Z",
     "shell.execute_reply": "2024-09-10T20:58:02.302387Z",
     "shell.execute_reply.started": "2024-09-10T20:58:02.299700Z"
    }
   },
   "outputs": [],
   "source": [
    "promptD = \"\"\"Instruct: Respond with only one of these words: negative, positive, or neutral\n",
    "TEXT: {text}\n",
    "Respond with only one of these words: negative, positive, or neutral\"\"\""
   ]
  },
  {
   "cell_type": "code",
   "execution_count": 35,
   "metadata": {
    "execution": {
     "iopub.execute_input": "2024-09-10T20:58:08.867762Z",
     "iopub.status.busy": "2024-09-10T20:58:08.867125Z",
     "iopub.status.idle": "2024-09-10T21:00:29.080593Z",
     "shell.execute_reply": "2024-09-10T21:00:29.079904Z",
     "shell.execute_reply.started": "2024-09-10T20:58:08.867742Z"
    }
   },
   "outputs": [
    {
     "data": {
      "application/vnd.jupyter.widget-view+json": {
       "model_id": "12ca7972b5d9473fb9f45b4156310405",
       "version_major": 2,
       "version_minor": 0
      },
      "text/plain": [
       "Map:   0%|          | 0/2264 [00:00<?, ? examples/s]"
      ]
     },
     "metadata": {},
     "output_type": "display_data"
    },
    {
     "name": "stdout",
     "output_type": "stream",
     "text": [
      "Instruct: Respond with only one of these words: negative, positive, or neutral\n",
      "TEXT: According to Gran , the company has no plans to move all production to Russia , although that is where the company is growing .\n",
      "Respond with only one of these words: negative, positive, or neutral\n",
      "---------\n"
     ]
    }
   ],
   "source": [
    "df, acc = generate_responses(dataset, promptD)"
   ]
  },
  {
   "cell_type": "markdown",
   "metadata": {},
   "source": [
    "Yikes! The overall accuracy plummets to 49.6%. "
   ]
  },
  {
   "cell_type": "code",
   "execution_count": 36,
   "metadata": {
    "execution": {
     "iopub.execute_input": "2024-09-10T21:00:29.082043Z",
     "iopub.status.busy": "2024-09-10T21:00:29.081806Z",
     "iopub.status.idle": "2024-09-10T21:00:29.086983Z",
     "shell.execute_reply": "2024-09-10T21:00:29.086277Z",
     "shell.execute_reply.started": "2024-09-10T21:00:29.082022Z"
    }
   },
   "outputs": [
    {
     "data": {
      "text/plain": [
       "0.49646643109540634"
      ]
     },
     "execution_count": 36,
     "metadata": {},
     "output_type": "execute_result"
    }
   ],
   "source": [
    "acc"
   ]
  },
  {
   "cell_type": "markdown",
   "metadata": {},
   "source": [
    "Interestingly, the true positive rate for `negative` and `positive` sentences increses,\n",
    "but for `neutral` _significantly_ decreases."
   ]
  },
  {
   "cell_type": "code",
   "execution_count": 37,
   "metadata": {
    "execution": {
     "iopub.execute_input": "2024-09-10T21:00:29.088378Z",
     "iopub.status.busy": "2024-09-10T21:00:29.087897Z",
     "iopub.status.idle": "2024-09-10T21:00:29.185117Z",
     "shell.execute_reply": "2024-09-10T21:00:29.184295Z",
     "shell.execute_reply.started": "2024-09-10T21:00:29.088353Z"
    }
   },
   "outputs": [
    {
     "data": {
      "image/png": "[encoded data removed]",
      "text/plain": [
       "<Figure size 576x576 with 1 Axes>"
      ]
     },
     "metadata": {
      "needs_background": "light"
     },
     "output_type": "display_data"
    }
   ],
   "source": [
    "make_cm(df)"
   ]
  },
  {
   "cell_type": "code",
   "execution_count": 38,
   "metadata": {
    "execution": {
     "iopub.execute_input": "2024-09-10T21:01:51.218382Z",
     "iopub.status.busy": "2024-09-10T21:01:51.217783Z",
     "iopub.status.idle": "2024-09-10T21:01:51.239870Z",
     "shell.execute_reply": "2024-09-10T21:01:51.239224Z",
     "shell.execute_reply.started": "2024-09-10T21:01:51.218360Z"
    }
   },
   "outputs": [],
   "source": [
    "df.to_csv('/notebooks/phi-3_D.csv', index=False)"
   ]
  },
  {
   "cell_type": "markdown",
   "metadata": {},
   "source": [
    "## Prompt E"
   ]
  },
  {
   "cell_type": "markdown",
   "metadata": {},
   "source": [
    "Another adjustment that improved phi-2's performance was to add a period after the instruction. I'll see\n",
    "if doing so improves phi-3's performance."
   ]
  },
  {
   "cell_type": "code",
   "execution_count": 10,
   "metadata": {
    "execution": {
     "iopub.execute_input": "2024-09-10T22:54:47.598940Z",
     "iopub.status.busy": "2024-09-10T22:54:47.598584Z",
     "iopub.status.idle": "2024-09-10T22:54:47.602084Z",
     "shell.execute_reply": "2024-09-10T22:54:47.601552Z",
     "shell.execute_reply.started": "2024-09-10T22:54:47.598916Z"
    }
   },
   "outputs": [],
   "source": [
    "promptE = \"\"\"Instruct: label the following TEXT with a single word: negative, positive, or neutral.\n",
    "TEXT: {text}\n",
    "label the TEXT with a single word: negative, positive, or neutral.\"\"\""
   ]
  },
  {
   "cell_type": "code",
   "execution_count": 11,
   "metadata": {
    "execution": {
     "iopub.execute_input": "2024-09-10T22:54:52.874608Z",
     "iopub.status.busy": "2024-09-10T22:54:52.874351Z",
     "iopub.status.idle": "2024-09-10T22:57:15.215234Z",
     "shell.execute_reply": "2024-09-10T22:57:15.214545Z",
     "shell.execute_reply.started": "2024-09-10T22:54:52.874590Z"
    }
   },
   "outputs": [
    {
     "data": {
      "application/vnd.jupyter.widget-view+json": {
       "model_id": "7179db2a368f44528716c9d3677679ec",
       "version_major": 2,
       "version_minor": 0
      },
      "text/plain": [
       "Map:   0%|          | 0/2264 [00:00<?, ? examples/s]"
      ]
     },
     "metadata": {},
     "output_type": "display_data"
    },
    {
     "name": "stdout",
     "output_type": "stream",
     "text": [
      "Instruct: label the following TEXT with a single word: negative, positive, or neutral.\n",
      "TEXT: According to Gran , the company has no plans to move all production to Russia , although that is where the company is growing .\n",
      "label the TEXT with a single word: negative, positive, or neutral.\n",
      "---------\n"
     ]
    },
    {
     "name": "stderr",
     "output_type": "stream",
     "text": [
      "You are not running the flash-attention implementation, expect numerical differences.\n",
      "You seem to be using the pipelines sequentially on GPU. In order to maximize efficiency please use a dataset\n"
     ]
    }
   ],
   "source": [
    "df, acc = generate_responses(dataset, promptE)"
   ]
  },
  {
   "cell_type": "markdown",
   "metadata": {},
   "source": [
    "The accuracy drops from 73% to 72%."
   ]
  },
  {
   "cell_type": "code",
   "execution_count": 12,
   "metadata": {
    "execution": {
     "iopub.execute_input": "2024-09-10T22:57:19.060634Z",
     "iopub.status.busy": "2024-09-10T22:57:19.060094Z",
     "iopub.status.idle": "2024-09-10T22:57:19.069672Z",
     "shell.execute_reply": "2024-09-10T22:57:19.069109Z",
     "shell.execute_reply.started": "2024-09-10T22:57:19.060609Z"
    }
   },
   "outputs": [
    {
     "data": {
      "text/plain": [
       "0.7243816254416962"
      ]
     },
     "execution_count": 12,
     "metadata": {},
     "output_type": "execute_result"
    }
   ],
   "source": [
    "acc"
   ]
  },
  {
   "cell_type": "markdown",
   "metadata": {},
   "source": [
    "The true positive rate for `negative` and `neutral` \n",
    "sentiment drops a bit while for `positive` sentiments increases (538/570 > 537/570)."
   ]
  },
  {
   "cell_type": "code",
   "execution_count": 13,
   "metadata": {
    "execution": {
     "iopub.execute_input": "2024-09-10T22:57:53.409599Z",
     "iopub.status.busy": "2024-09-10T22:57:53.409365Z",
     "iopub.status.idle": "2024-09-10T22:57:53.546589Z",
     "shell.execute_reply": "2024-09-10T22:57:53.546031Z",
     "shell.execute_reply.started": "2024-09-10T22:57:53.409583Z"
    }
   },
   "outputs": [
    {
     "data": {
      "image/png": "[encoded data removed]",
      "text/plain": [
       "<Figure size 576x576 with 1 Axes>"
      ]
     },
     "metadata": {
      "needs_background": "light"
     },
     "output_type": "display_data"
    }
   ],
   "source": [
    "make_cm(df)"
   ]
  },
  {
   "cell_type": "code",
   "execution_count": 14,
   "metadata": {
    "execution": {
     "iopub.execute_input": "2024-09-10T22:59:02.994678Z",
     "iopub.status.busy": "2024-09-10T22:59:02.994302Z",
     "iopub.status.idle": "2024-09-10T22:59:03.025590Z",
     "shell.execute_reply": "2024-09-10T22:59:03.024866Z",
     "shell.execute_reply.started": "2024-09-10T22:59:02.994650Z"
    }
   },
   "outputs": [],
   "source": [
    "df.to_csv('/notebooks/phi-3_E.csv', index=False)"
   ]
  },
  {
   "cell_type": "markdown",
   "metadata": {},
   "source": [
    "## Prompt F"
   ]
  },
  {
   "cell_type": "markdown",
   "metadata": {},
   "source": [
    "I'll now move on to few-shot prompting to see if I can improve on the best overall accuracy so far (73.1%).\n",
    "To do so, I'll create a new helper function (since the chat template handles few-shot prompt as multiple query-response exchanges between user and assistant)."
   ]
  },
  {
   "cell_type": "code",
   "execution_count": 15,
   "metadata": {
    "execution": {
     "iopub.execute_input": "2024-09-10T23:03:11.706206Z",
     "iopub.status.busy": "2024-09-10T23:03:11.705954Z",
     "iopub.status.idle": "2024-09-10T23:03:11.712285Z",
     "shell.execute_reply": "2024-09-10T23:03:11.711710Z",
     "shell.execute_reply.started": "2024-09-10T23:03:11.706188Z"
    }
   },
   "outputs": [],
   "source": [
    "#| code-fold: true\n",
    "#| code-summary: \"Show `few_shot_responses` function\"\n",
    "def few_shot_responses(dataset, prompt, examples):\n",
    "    responses = []\n",
    "    dataset = dataset.map(add_prompt, fn_kwargs={\"prompt\": prompt})\n",
    "\n",
    "    few_shot_examples = []\n",
    "    \n",
    "    for example in examples:\n",
    "        few_shot_examples.append({\"role\": \"user\", \"content\": prompt.format(text=example[0])})\n",
    "        few_shot_examples.append({\"role\": \"assistant\", \"content\": example[1]})\n",
    "    \n",
    "    count = 0\n",
    "    for row in dataset:\n",
    "        count += 1\n",
    "        messages = few_shot_examples + [{\"role\": \"user\", \"content\": row['prompt']}]\n",
    "        \n",
    "        if count == 1: print(messages)\n",
    "        \n",
    "        generation_args = { \n",
    "            \"max_new_tokens\": 2, \n",
    "            \"return_full_text\": False, \n",
    "            \"temperature\": 0.1, \n",
    "            \"do_sample\": True, \n",
    "        } \n",
    "\n",
    "        response = pipe(messages, **generation_args) \n",
    "        responses.append(response[0]['generated_text'].strip().lower())\n",
    "        \n",
    "    # calculate accuracy\n",
    "    df = dataset.to_pandas()\n",
    "    df['responses'] = pd.Series(responses)\n",
    "    df['responses'] = df['responses'].apply(lambda x: x if x in ['negative', 'positive', 'neutral'] else \"other\")\n",
    "    df['lm_match'] = df['label_text'] == df['responses']\n",
    "    acc = df.lm_match.mean()\n",
    "    return df, acc"
   ]
  },
  {
   "cell_type": "code",
   "execution_count": 17,
   "metadata": {
    "execution": {
     "iopub.execute_input": "2024-09-11T20:29:14.022827Z",
     "iopub.status.busy": "2024-09-11T20:29:14.022463Z",
     "iopub.status.idle": "2024-09-11T20:29:14.026552Z",
     "shell.execute_reply": "2024-09-11T20:29:14.025937Z",
     "shell.execute_reply.started": "2024-09-11T20:29:14.022800Z"
    }
   },
   "outputs": [],
   "source": [
    "exclude_idxs = [0, 1, 292]"
   ]
  },
  {
   "cell_type": "code",
   "execution_count": 18,
   "metadata": {
    "execution": {
     "iopub.execute_input": "2024-09-11T20:29:15.715885Z",
     "iopub.status.busy": "2024-09-11T20:29:15.715224Z",
     "iopub.status.idle": "2024-09-11T20:29:15.728471Z",
     "shell.execute_reply": "2024-09-11T20:29:15.727872Z",
     "shell.execute_reply.started": "2024-09-11T20:29:15.715859Z"
    }
   },
   "outputs": [
    {
     "data": {
      "text/plain": [
       "Dataset({\n",
       "    features: ['sentence', 'label', 'label_text', '__index_level_0__'],\n",
       "    num_rows: 2261\n",
       "})"
      ]
     },
     "execution_count": 18,
     "metadata": {},
     "output_type": "execute_result"
    }
   ],
   "source": [
    "promptF_ds = ds_subset(dataset, exclude_idxs)\n",
    "promptF_ds"
   ]
  },
  {
   "cell_type": "code",
   "execution_count": 19,
   "metadata": {
    "execution": {
     "iopub.execute_input": "2024-09-11T20:29:18.533049Z",
     "iopub.status.busy": "2024-09-11T20:29:18.532776Z",
     "iopub.status.idle": "2024-09-11T20:29:18.539721Z",
     "shell.execute_reply": "2024-09-11T20:29:18.539005Z",
     "shell.execute_reply.started": "2024-09-11T20:29:18.533029Z"
    }
   },
   "outputs": [
    {
     "data": {
      "text/plain": [
       "[('According to Gran , the company has no plans to move all production to Russia , although that is where the company is growing .',\n",
       "  'neutral'),\n",
       " (\"For the last quarter of 2010 , Componenta 's net sales doubled to EUR131m from EUR76m for the same period a year earlier , while it moved to a zero pre-tax profit from a pre-tax loss of EUR7m .\",\n",
       "  'positive'),\n",
       " ('Jan. 6 -- Ford is struggling in the face of slowing truck and SUV sales and a surfeit of up-to-date , gotta-have cars .',\n",
       "  'negative')]"
      ]
     },
     "execution_count": 19,
     "metadata": {},
     "output_type": "execute_result"
    }
   ],
   "source": [
    "examples = []\n",
    "for idx in exclude_idxs:\n",
    "    examples.append((dataset[idx]['sentence'], dataset[idx]['label_text']))\n",
    "\n",
    "examples"
   ]
  },
  {
   "cell_type": "code",
   "execution_count": 20,
   "metadata": {
    "execution": {
     "iopub.execute_input": "2024-09-10T23:04:12.147743Z",
     "iopub.status.busy": "2024-09-10T23:04:12.146780Z",
     "iopub.status.idle": "2024-09-10T23:08:34.288192Z",
     "shell.execute_reply": "2024-09-10T23:08:34.287447Z",
     "shell.execute_reply.started": "2024-09-10T23:04:12.147675Z"
    }
   },
   "outputs": [
    {
     "data": {
      "application/vnd.jupyter.widget-view+json": {
       "model_id": "41db0a90f09b4b80a3c2f296eb9bf43d",
       "version_major": 2,
       "version_minor": 0
      },
      "text/plain": [
       "Map:   0%|          | 0/2261 [00:00<?, ? examples/s]"
      ]
     },
     "metadata": {},
     "output_type": "display_data"
    },
    {
     "name": "stdout",
     "output_type": "stream",
     "text": [
      "[{'role': 'user', 'content': 'Instruct: label the following TEXT with a single word: negative, positive, or neutral\\nTEXT: According to Gran , the company has no plans to move all production to Russia , although that is where the company is growing .\\nlabel the TEXT with a single word: negative, positive, or neutral'}, {'role': 'assistant', 'content': 'neutral'}, {'role': 'user', 'content': \"Instruct: label the following TEXT with a single word: negative, positive, or neutral\\nTEXT: For the last quarter of 2010 , Componenta 's net sales doubled to EUR131m from EUR76m for the same period a year earlier , while it moved to a zero pre-tax profit from a pre-tax loss of EUR7m .\\nlabel the TEXT with a single word: negative, positive, or neutral\"}, {'role': 'assistant', 'content': 'positive'}, {'role': 'user', 'content': 'Instruct: label the following TEXT with a single word: negative, positive, or neutral\\nTEXT: Jan. 6 -- Ford is struggling in the face of slowing truck and SUV sales and a surfeit of up-to-date , gotta-have cars .\\nlabel the TEXT with a single word: negative, positive, or neutral'}, {'role': 'assistant', 'content': 'negative'}, {'role': 'user', 'content': 'Instruct: label the following TEXT with a single word: negative, positive, or neutral\\nTEXT: In the third quarter of 2010 , net sales increased by 5.2 % to EUR 205.5 mn , and operating profit by 34.9 % to EUR 23.5 mn .\\nlabel the TEXT with a single word: negative, positive, or neutral'}]\n"
     ]
    }
   ],
   "source": [
    "df, acc = few_shot_responses(promptF_ds, promptB, examples)"
   ]
  },
  {
   "cell_type": "markdown",
   "metadata": {},
   "source": [
    "Nice! Few-shot prompting improves the overall accuracy by almost 10% (from 73.06% to 82.62%)."
   ]
  },
  {
   "cell_type": "code",
   "execution_count": 21,
   "metadata": {
    "execution": {
     "iopub.execute_input": "2024-09-10T23:09:25.926256Z",
     "iopub.status.busy": "2024-09-10T23:09:25.925965Z",
     "iopub.status.idle": "2024-09-10T23:09:25.931365Z",
     "shell.execute_reply": "2024-09-10T23:09:25.930697Z",
     "shell.execute_reply.started": "2024-09-10T23:09:25.926237Z"
    }
   },
   "outputs": [
    {
     "data": {
      "text/plain": [
       "0.8261831048208758"
      ]
     },
     "execution_count": 21,
     "metadata": {},
     "output_type": "execute_result"
    }
   ],
   "source": [
    "acc"
   ]
  },
  {
   "cell_type": "markdown",
   "metadata": {},
   "source": [
    "Compared to prompt B, this prompt yields worse results for `negative` sentiment (297 < 300),\n",
    "and better results for `neutral` (1009 > 817) and `positive` sentiment (562 > 537)."
   ]
  },
  {
   "cell_type": "code",
   "execution_count": 22,
   "metadata": {
    "execution": {
     "iopub.execute_input": "2024-09-10T23:09:53.780432Z",
     "iopub.status.busy": "2024-09-10T23:09:53.779880Z",
     "iopub.status.idle": "2024-09-10T23:09:53.870792Z",
     "shell.execute_reply": "2024-09-10T23:09:53.870182Z",
     "shell.execute_reply.started": "2024-09-10T23:09:53.780404Z"
    }
   },
   "outputs": [
    {
     "data": {
      "image/png": "[encoded data removed]",
      "text/plain": [
       "<Figure size 576x576 with 1 Axes>"
      ]
     },
     "metadata": {
      "needs_background": "light"
     },
     "output_type": "display_data"
    }
   ],
   "source": [
    "make_cm(df)"
   ]
  },
  {
   "cell_type": "code",
   "execution_count": 23,
   "metadata": {
    "execution": {
     "iopub.execute_input": "2024-09-10T23:12:19.830024Z",
     "iopub.status.busy": "2024-09-10T23:12:19.829642Z",
     "iopub.status.idle": "2024-09-10T23:12:19.868602Z",
     "shell.execute_reply": "2024-09-10T23:12:19.867954Z",
     "shell.execute_reply.started": "2024-09-10T23:12:19.830001Z"
    }
   },
   "outputs": [],
   "source": [
    "df.to_csv('/notebooks/phi-3_F.csv', index=False)"
   ]
  },
  {
   "cell_type": "markdown",
   "metadata": {},
   "source": [
    "## Prompt G"
   ]
  },
  {
   "cell_type": "markdown",
   "metadata": {},
   "source": [
    "I'll now try a 6-Shot prompt using the examples that were best-performing for phi-2."
   ]
  },
  {
   "cell_type": "code",
   "execution_count": 24,
   "metadata": {
    "execution": {
     "iopub.execute_input": "2024-09-10T23:12:56.545789Z",
     "iopub.status.busy": "2024-09-10T23:12:56.545487Z",
     "iopub.status.idle": "2024-09-10T23:12:56.560444Z",
     "shell.execute_reply": "2024-09-10T23:12:56.559909Z",
     "shell.execute_reply.started": "2024-09-10T23:12:56.545770Z"
    }
   },
   "outputs": [
    {
     "data": {
      "text/plain": [
       "Dataset({\n",
       "    features: ['sentence', 'label', 'label_text', '__index_level_0__'],\n",
       "    num_rows: 2258\n",
       "})"
      ]
     },
     "execution_count": 24,
     "metadata": {},
     "output_type": "execute_result"
    }
   ],
   "source": [
    "exclude_idxs=[0, 1, 292, 37, 38, 39]\n",
    "promptG_ds = ds_subset(dataset, exclude_idxs=exclude_idxs)\n",
    "promptG_ds"
   ]
  },
  {
   "cell_type": "code",
   "execution_count": 25,
   "metadata": {
    "execution": {
     "iopub.execute_input": "2024-09-10T23:13:02.572986Z",
     "iopub.status.busy": "2024-09-10T23:13:02.572636Z",
     "iopub.status.idle": "2024-09-10T23:13:02.581312Z",
     "shell.execute_reply": "2024-09-10T23:13:02.580325Z",
     "shell.execute_reply.started": "2024-09-10T23:13:02.572959Z"
    }
   },
   "outputs": [
    {
     "data": {
      "text/plain": [
       "(('According to Gran , the company has no plans to move all production to Russia , although that is where the company is growing .',\n",
       "  'neutral'),\n",
       " 6)"
      ]
     },
     "execution_count": 25,
     "metadata": {},
     "output_type": "execute_result"
    }
   ],
   "source": [
    "examples = []\n",
    "for idx in exclude_idxs:\n",
    "    examples.append((dataset[idx]['sentence'], dataset[idx]['label_text']))\n",
    "\n",
    "examples[0], len(examples)"
   ]
  },
  {
   "cell_type": "code",
   "execution_count": 26,
   "metadata": {
    "execution": {
     "iopub.execute_input": "2024-09-10T23:13:10.532044Z",
     "iopub.status.busy": "2024-09-10T23:13:10.531717Z",
     "iopub.status.idle": "2024-09-10T23:20:35.600025Z",
     "shell.execute_reply": "2024-09-10T23:20:35.599481Z",
     "shell.execute_reply.started": "2024-09-10T23:13:10.532024Z"
    }
   },
   "outputs": [
    {
     "data": {
      "application/vnd.jupyter.widget-view+json": {
       "model_id": "4204fc33a64d4207a48dc0fc965a8ea5",
       "version_major": 2,
       "version_minor": 0
      },
      "text/plain": [
       "Map:   0%|          | 0/2258 [00:00<?, ? examples/s]"
      ]
     },
     "metadata": {},
     "output_type": "display_data"
    },
    {
     "name": "stdout",
     "output_type": "stream",
     "text": [
      "[{'role': 'user', 'content': 'Instruct: label the following TEXT with a single word: negative, positive, or neutral\\nTEXT: According to Gran , the company has no plans to move all production to Russia , although that is where the company is growing .\\nlabel the TEXT with a single word: negative, positive, or neutral'}, {'role': 'assistant', 'content': 'neutral'}, {'role': 'user', 'content': \"Instruct: label the following TEXT with a single word: negative, positive, or neutral\\nTEXT: For the last quarter of 2010 , Componenta 's net sales doubled to EUR131m from EUR76m for the same period a year earlier , while it moved to a zero pre-tax profit from a pre-tax loss of EUR7m .\\nlabel the TEXT with a single word: negative, positive, or neutral\"}, {'role': 'assistant', 'content': 'positive'}, {'role': 'user', 'content': 'Instruct: label the following TEXT with a single word: negative, positive, or neutral\\nTEXT: Jan. 6 -- Ford is struggling in the face of slowing truck and SUV sales and a surfeit of up-to-date , gotta-have cars .\\nlabel the TEXT with a single word: negative, positive, or neutral'}, {'role': 'assistant', 'content': 'negative'}, {'role': 'user', 'content': \"Instruct: label the following TEXT with a single word: negative, positive, or neutral\\nTEXT: At the request of Finnish media company Alma Media 's newspapers , research manager Jari Kaivo-oja at the Finland Futures Research Centre at the Turku School of Economics has drawn up a future scenario for Finland 's national economy by using a model developed by the University of Denver .\\nlabel the TEXT with a single word: negative, positive, or neutral\"}, {'role': 'assistant', 'content': 'neutral'}, {'role': 'user', 'content': 'Instruct: label the following TEXT with a single word: negative, positive, or neutral\\nTEXT: STOCK EXCHANGE ANNOUNCEMENT 20 July 2006 1 ( 1 ) BASWARE SHARE SUBSCRIPTIONS WITH WARRANTS AND INCREASE IN SHARE CAPITAL A total of 119 850 shares have been subscribed with BasWare Warrant Program .\\nlabel the TEXT with a single word: negative, positive, or neutral'}, {'role': 'assistant', 'content': 'neutral'}, {'role': 'user', 'content': 'Instruct: label the following TEXT with a single word: negative, positive, or neutral\\nTEXT: A maximum of 666,104 new shares can further be subscribed for by exercising B options under the 2004 stock option plan .\\nlabel the TEXT with a single word: negative, positive, or neutral'}, {'role': 'assistant', 'content': 'neutral'}, {'role': 'user', 'content': 'Instruct: label the following TEXT with a single word: negative, positive, or neutral\\nTEXT: In the third quarter of 2010 , net sales increased by 5.2 % to EUR 205.5 mn , and operating profit by 34.9 % to EUR 23.5 mn .\\nlabel the TEXT with a single word: negative, positive, or neutral'}]\n"
     ]
    }
   ],
   "source": [
    "df, acc = few_shot_responses(promptG_ds, promptB, examples)"
   ]
  },
  {
   "cell_type": "markdown",
   "metadata": {},
   "source": [
    "Surprisingly, the overall accuracy drops from 82.6% (3-Shot) to 76.13% (6-Shot)."
   ]
  },
  {
   "cell_type": "code",
   "execution_count": 27,
   "metadata": {
    "execution": {
     "iopub.execute_input": "2024-09-10T23:20:35.601300Z",
     "iopub.status.busy": "2024-09-10T23:20:35.601102Z",
     "iopub.status.idle": "2024-09-10T23:20:35.605850Z",
     "shell.execute_reply": "2024-09-10T23:20:35.604961Z",
     "shell.execute_reply.started": "2024-09-10T23:20:35.601282Z"
    }
   },
   "outputs": [
    {
     "data": {
      "text/plain": [
       "0.7612931798051373"
      ]
     },
     "execution_count": 27,
     "metadata": {},
     "output_type": "execute_result"
    }
   ],
   "source": [
    "acc"
   ]
  },
  {
   "cell_type": "markdown",
   "metadata": {},
   "source": [
    "The model performs the same for `negative` sentences (297/302), \n",
    "much worse for `neutral` sentences (865 < 1009), and slightly worse\n",
    "for `positive` sentences (557 < 562)."
   ]
  },
  {
   "cell_type": "code",
   "execution_count": 28,
   "metadata": {
    "execution": {
     "iopub.execute_input": "2024-09-10T23:20:35.607238Z",
     "iopub.status.busy": "2024-09-10T23:20:35.607006Z",
     "iopub.status.idle": "2024-09-10T23:20:35.693356Z",
     "shell.execute_reply": "2024-09-10T23:20:35.692609Z",
     "shell.execute_reply.started": "2024-09-10T23:20:35.607217Z"
    }
   },
   "outputs": [
    {
     "data": {
      "image/png": "[encoded data removed]",
      "text/plain": [
       "<Figure size 576x576 with 1 Axes>"
      ]
     },
     "metadata": {
      "needs_background": "light"
     },
     "output_type": "display_data"
    }
   ],
   "source": [
    "make_cm(df)"
   ]
  },
  {
   "cell_type": "code",
   "execution_count": 29,
   "metadata": {
    "execution": {
     "iopub.execute_input": "2024-09-10T23:22:58.125927Z",
     "iopub.status.busy": "2024-09-10T23:22:58.125625Z",
     "iopub.status.idle": "2024-09-10T23:22:58.146982Z",
     "shell.execute_reply": "2024-09-10T23:22:58.146222Z",
     "shell.execute_reply.started": "2024-09-10T23:22:58.125907Z"
    }
   },
   "outputs": [],
   "source": [
    "df.to_csv('/notebooks/phi-3_G.csv', index=False)"
   ]
  },
  {
   "cell_type": "markdown",
   "metadata": {},
   "source": [
    "## Prompt H"
   ]
  },
  {
   "cell_type": "markdown",
   "metadata": {},
   "source": [
    "I'll return to the 3-Shot prompt (82.62%) and see if I can improve it by adjusting the language.\n",
    "First, I'll add some introductory text to the start of the prompt. Note that this did not improve the 0-Shot performance."
   ]
  },
  {
   "cell_type": "code",
   "execution_count": 44,
   "metadata": {
    "execution": {
     "iopub.execute_input": "2024-09-10T23:54:52.475210Z",
     "iopub.status.busy": "2024-09-10T23:54:52.474624Z",
     "iopub.status.idle": "2024-09-10T23:54:52.478243Z",
     "shell.execute_reply": "2024-09-10T23:54:52.477633Z",
     "shell.execute_reply.started": "2024-09-10T23:54:52.475188Z"
    }
   },
   "outputs": [],
   "source": [
    "promptH = \"\"\"Your task is to analyze the sentiment (from an investor's perspective) of the text below.\n",
    "Instruct: label the following TEXT with a single word: negative, positive, or neutral\n",
    "TEXT: {text}\n",
    "label the TEXT with a single word: negative, positive, or neutral\"\"\""
   ]
  },
  {
   "cell_type": "code",
   "execution_count": 14,
   "metadata": {
    "execution": {
     "iopub.execute_input": "2024-09-11T20:28:37.677466Z",
     "iopub.status.busy": "2024-09-11T20:28:37.676867Z",
     "iopub.status.idle": "2024-09-11T20:28:37.685710Z",
     "shell.execute_reply": "2024-09-11T20:28:37.685134Z",
     "shell.execute_reply.started": "2024-09-11T20:28:37.677443Z"
    }
   },
   "outputs": [
    {
     "data": {
      "text/plain": [
       "[('According to Gran , the company has no plans to move all production to Russia , although that is where the company is growing .',\n",
       "  'neutral'),\n",
       " (\"For the last quarter of 2010 , Componenta 's net sales doubled to EUR131m from EUR76m for the same period a year earlier , while it moved to a zero pre-tax profit from a pre-tax loss of EUR7m .\",\n",
       "  'positive'),\n",
       " ('Jan. 6 -- Ford is struggling in the face of slowing truck and SUV sales and a surfeit of up-to-date , gotta-have cars .',\n",
       "  'negative')]"
      ]
     },
     "execution_count": 14,
     "metadata": {},
     "output_type": "execute_result"
    }
   ],
   "source": [
    "exclude_idxs = [0, 1, 292]\n",
    "\n",
    "examples = []\n",
    "for idx in exclude_idxs:\n",
    "    examples.append((dataset[idx]['sentence'], dataset[idx]['label_text']))\n",
    "\n",
    "examples"
   ]
  },
  {
   "cell_type": "code",
   "execution_count": 20,
   "metadata": {
    "execution": {
     "iopub.execute_input": "2024-09-11T20:29:24.960707Z",
     "iopub.status.busy": "2024-09-11T20:29:24.960097Z",
     "iopub.status.idle": "2024-09-11T20:29:24.964923Z",
     "shell.execute_reply": "2024-09-11T20:29:24.964347Z",
     "shell.execute_reply.started": "2024-09-11T20:29:24.960685Z"
    }
   },
   "outputs": [
    {
     "data": {
      "text/plain": [
       "Dataset({\n",
       "    features: ['sentence', 'label', 'label_text', '__index_level_0__'],\n",
       "    num_rows: 2261\n",
       "})"
      ]
     },
     "execution_count": 20,
     "metadata": {},
     "output_type": "execute_result"
    }
   ],
   "source": [
    "promptF_ds"
   ]
  },
  {
   "cell_type": "code",
   "execution_count": 47,
   "metadata": {
    "execution": {
     "iopub.execute_input": "2024-09-10T23:55:05.411985Z",
     "iopub.status.busy": "2024-09-10T23:55:05.411415Z",
     "iopub.status.idle": "2024-09-11T00:00:18.949294Z",
     "shell.execute_reply": "2024-09-11T00:00:18.948638Z",
     "shell.execute_reply.started": "2024-09-10T23:55:05.411958Z"
    }
   },
   "outputs": [
    {
     "data": {
      "application/vnd.jupyter.widget-view+json": {
       "model_id": "3680f3d7add543968c1f74f6cf387326",
       "version_major": 2,
       "version_minor": 0
      },
      "text/plain": [
       "Map:   0%|          | 0/2261 [00:00<?, ? examples/s]"
      ]
     },
     "metadata": {},
     "output_type": "display_data"
    },
    {
     "name": "stdout",
     "output_type": "stream",
     "text": [
      "[{'role': 'user', 'content': \"Your task is to analyze the sentiment (from an investor's perspective) of the text below.\\nInstruct: label the following TEXT with a single word: negative, positive, or neutral\\nTEXT: According to Gran , the company has no plans to move all production to Russia , although that is where the company is growing .\\nlabel the TEXT with a single word: negative, positive, or neutral\"}, {'role': 'assistant', 'content': 'neutral'}, {'role': 'user', 'content': \"Your task is to analyze the sentiment (from an investor's perspective) of the text below.\\nInstruct: label the following TEXT with a single word: negative, positive, or neutral\\nTEXT: For the last quarter of 2010 , Componenta 's net sales doubled to EUR131m from EUR76m for the same period a year earlier , while it moved to a zero pre-tax profit from a pre-tax loss of EUR7m .\\nlabel the TEXT with a single word: negative, positive, or neutral\"}, {'role': 'assistant', 'content': 'positive'}, {'role': 'user', 'content': \"Your task is to analyze the sentiment (from an investor's perspective) of the text below.\\nInstruct: label the following TEXT with a single word: negative, positive, or neutral\\nTEXT: Jan. 6 -- Ford is struggling in the face of slowing truck and SUV sales and a surfeit of up-to-date , gotta-have cars .\\nlabel the TEXT with a single word: negative, positive, or neutral\"}, {'role': 'assistant', 'content': 'negative'}, {'role': 'user', 'content': \"Your task is to analyze the sentiment (from an investor's perspective) of the text below.\\nInstruct: label the following TEXT with a single word: negative, positive, or neutral\\nTEXT: In the third quarter of 2010 , net sales increased by 5.2 % to EUR 205.5 mn , and operating profit by 34.9 % to EUR 23.5 mn .\\nlabel the TEXT with a single word: negative, positive, or neutral\"}]\n"
     ]
    }
   ],
   "source": [
    "df, acc = few_shot_responses(promptF_ds, promptH, examples)"
   ]
  },
  {
   "cell_type": "markdown",
   "metadata": {},
   "source": [
    "I get a tiny boost (0.48%) with this approach. I'll take it!"
   ]
  },
  {
   "cell_type": "code",
   "execution_count": 48,
   "metadata": {
    "execution": {
     "iopub.execute_input": "2024-09-11T00:00:18.950651Z",
     "iopub.status.busy": "2024-09-11T00:00:18.950453Z",
     "iopub.status.idle": "2024-09-11T00:00:18.955069Z",
     "shell.execute_reply": "2024-09-11T00:00:18.954545Z",
     "shell.execute_reply.started": "2024-09-11T00:00:18.950651Z"
    }
   },
   "outputs": [
    {
     "data": {
      "text/plain": [
       "0.8310482087571871"
      ]
     },
     "execution_count": 48,
     "metadata": {},
     "output_type": "execute_result"
    }
   ],
   "source": [
    "acc"
   ]
  },
  {
   "cell_type": "markdown",
   "metadata": {},
   "source": [
    "Compared to the previous 3-Shot prompt (82.62%), this prompt results in a\n",
    "lower true positive rate for `negative` sentences (296 < 297), \n",
    "a slightly higher rate for `neutral` sentences (1021 > 1009),\n",
    "and the same rate for `positive` sentences (562)."
   ]
  },
  {
   "cell_type": "code",
   "execution_count": 51,
   "metadata": {
    "execution": {
     "iopub.execute_input": "2024-09-11T00:09:02.702388Z",
     "iopub.status.busy": "2024-09-11T00:09:02.701667Z",
     "iopub.status.idle": "2024-09-11T00:09:02.785609Z",
     "shell.execute_reply": "2024-09-11T00:09:02.784967Z",
     "shell.execute_reply.started": "2024-09-11T00:09:02.702366Z"
    }
   },
   "outputs": [
    {
     "data": {
      "image/png": "[encoded data removed]",
      "text/plain": [
       "<Figure size 576x576 with 1 Axes>"
      ]
     },
     "metadata": {
      "needs_background": "light"
     },
     "output_type": "display_data"
    }
   ],
   "source": [
    "make_cm(df)"
   ]
  },
  {
   "cell_type": "code",
   "execution_count": 52,
   "metadata": {
    "execution": {
     "iopub.execute_input": "2024-09-11T00:09:18.624424Z",
     "iopub.status.busy": "2024-09-11T00:09:18.623823Z",
     "iopub.status.idle": "2024-09-11T00:09:18.649221Z",
     "shell.execute_reply": "2024-09-11T00:09:18.648567Z",
     "shell.execute_reply.started": "2024-09-11T00:09:18.624401Z"
    }
   },
   "outputs": [],
   "source": [
    "df.to_csv('/notebooks/phi-3_H.csv', index=False)"
   ]
  },
  {
   "cell_type": "markdown",
   "metadata": {},
   "source": [
    "## Prompt I"
   ]
  },
  {
   "cell_type": "markdown",
   "metadata": {},
   "source": [
    "Given my success with the language adjustment for 3-Shot prompting, \n",
    "I'll make another one: adding a period to the end of each instruction sentence."
   ]
  },
  {
   "cell_type": "code",
   "execution_count": 53,
   "metadata": {
    "execution": {
     "iopub.execute_input": "2024-09-11T00:13:49.853937Z",
     "iopub.status.busy": "2024-09-11T00:13:49.853360Z",
     "iopub.status.idle": "2024-09-11T00:13:49.857156Z",
     "shell.execute_reply": "2024-09-11T00:13:49.856334Z",
     "shell.execute_reply.started": "2024-09-11T00:13:49.853910Z"
    }
   },
   "outputs": [],
   "source": [
    "promptI = \"\"\"Your task is to analyze the sentiment (from an investor's perspective) of the text below.\n",
    "Instruct: label the following TEXT with a single word: negative, positive, or neutral.\n",
    "TEXT: {text}\n",
    "label the TEXT with a single word: negative, positive, or neutral.\"\"\""
   ]
  },
  {
   "cell_type": "code",
   "execution_count": 56,
   "metadata": {
    "execution": {
     "iopub.execute_input": "2024-09-11T00:14:13.197435Z",
     "iopub.status.busy": "2024-09-11T00:14:13.196827Z",
     "iopub.status.idle": "2024-09-11T00:19:29.081329Z",
     "shell.execute_reply": "2024-09-11T00:19:29.080651Z",
     "shell.execute_reply.started": "2024-09-11T00:14:13.197414Z"
    }
   },
   "outputs": [
    {
     "data": {
      "application/vnd.jupyter.widget-view+json": {
       "model_id": "3896e2c5931747f29c160d4b4f8c60cc",
       "version_major": 2,
       "version_minor": 0
      },
      "text/plain": [
       "Map:   0%|          | 0/2261 [00:00<?, ? examples/s]"
      ]
     },
     "metadata": {},
     "output_type": "display_data"
    },
    {
     "name": "stdout",
     "output_type": "stream",
     "text": [
      "[{'role': 'user', 'content': \"Your task is to analyze the sentiment (from an investor's perspective) of the text below.\\nInstruct: label the following TEXT with a single word: negative, positive, or neutral.\\nTEXT: According to Gran , the company has no plans to move all production to Russia , although that is where the company is growing .\\nlabel the TEXT with a single word: negative, positive, or neutral.\"}, {'role': 'assistant', 'content': 'neutral'}, {'role': 'user', 'content': \"Your task is to analyze the sentiment (from an investor's perspective) of the text below.\\nInstruct: label the following TEXT with a single word: negative, positive, or neutral.\\nTEXT: For the last quarter of 2010 , Componenta 's net sales doubled to EUR131m from EUR76m for the same period a year earlier , while it moved to a zero pre-tax profit from a pre-tax loss of EUR7m .\\nlabel the TEXT with a single word: negative, positive, or neutral.\"}, {'role': 'assistant', 'content': 'positive'}, {'role': 'user', 'content': \"Your task is to analyze the sentiment (from an investor's perspective) of the text below.\\nInstruct: label the following TEXT with a single word: negative, positive, or neutral.\\nTEXT: Jan. 6 -- Ford is struggling in the face of slowing truck and SUV sales and a surfeit of up-to-date , gotta-have cars .\\nlabel the TEXT with a single word: negative, positive, or neutral.\"}, {'role': 'assistant', 'content': 'negative'}, {'role': 'user', 'content': \"Your task is to analyze the sentiment (from an investor's perspective) of the text below.\\nInstruct: label the following TEXT with a single word: negative, positive, or neutral.\\nTEXT: In the third quarter of 2010 , net sales increased by 5.2 % to EUR 205.5 mn , and operating profit by 34.9 % to EUR 23.5 mn .\\nlabel the TEXT with a single word: negative, positive, or neutral.\"}]\n"
     ]
    }
   ],
   "source": [
    "df, acc = few_shot_responses(promptF_ds, promptI, examples)"
   ]
  },
  {
   "cell_type": "markdown",
   "metadata": {},
   "source": [
    "Surprisingly, adding periods at the end of the instructions actually reduces the overall \n",
    "accuracy (81.16%)."
   ]
  },
  {
   "cell_type": "code",
   "execution_count": 57,
   "metadata": {
    "execution": {
     "iopub.execute_input": "2024-09-11T00:20:13.784699Z",
     "iopub.status.busy": "2024-09-11T00:20:13.783889Z",
     "iopub.status.idle": "2024-09-11T00:20:13.788404Z",
     "shell.execute_reply": "2024-09-11T00:20:13.787840Z",
     "shell.execute_reply.started": "2024-09-11T00:20:13.784669Z"
    }
   },
   "outputs": [
    {
     "data": {
      "text/plain": [
       "0.8115877930119416"
      ]
     },
     "execution_count": 57,
     "metadata": {},
     "output_type": "execute_result"
    }
   ],
   "source": [
    "acc"
   ]
  },
  {
   "cell_type": "markdown",
   "metadata": {},
   "source": [
    "The true positive rate drops for `negative` (295 < 296) and `neutral` (977 < 1021) \n",
    "but increases for `positive` (563 > 562) when compared to the best-performing prompt."
   ]
  },
  {
   "cell_type": "code",
   "execution_count": 58,
   "metadata": {
    "execution": {
     "iopub.execute_input": "2024-09-11T00:23:11.851928Z",
     "iopub.status.busy": "2024-09-11T00:23:11.851433Z",
     "iopub.status.idle": "2024-09-11T00:23:11.962093Z",
     "shell.execute_reply": "2024-09-11T00:23:11.961356Z",
     "shell.execute_reply.started": "2024-09-11T00:23:11.851909Z"
    }
   },
   "outputs": [
    {
     "data": {
      "image/png": "[encoded data removed]",
      "text/plain": [
       "<Figure size 576x576 with 1 Axes>"
      ]
     },
     "metadata": {
      "needs_background": "light"
     },
     "output_type": "display_data"
    }
   ],
   "source": [
    "make_cm(df)"
   ]
  },
  {
   "cell_type": "code",
   "execution_count": 59,
   "metadata": {
    "execution": {
     "iopub.execute_input": "2024-09-11T00:26:31.437199Z",
     "iopub.status.busy": "2024-09-11T00:26:31.436576Z",
     "iopub.status.idle": "2024-09-11T00:26:31.462832Z",
     "shell.execute_reply": "2024-09-11T00:26:31.462166Z",
     "shell.execute_reply.started": "2024-09-11T00:26:31.437174Z"
    }
   },
   "outputs": [],
   "source": [
    "df.to_csv('/notebooks/phi-3_I.csv', index=False)"
   ]
  },
  {
   "cell_type": "markdown",
   "metadata": {},
   "source": [
    "## Prompt J"
   ]
  },
  {
   "cell_type": "markdown",
   "metadata": {},
   "source": [
    "I'll try another language adjustment for the few-shot prompt: replacing \n",
    "\"Instruct: label the TEXT with a single word: negative, positive, or neutral.\" with \n",
    "\"Respond with a single word: negative, positive, or neutral\"."
   ]
  },
  {
   "cell_type": "code",
   "execution_count": 15,
   "metadata": {
    "execution": {
     "iopub.execute_input": "2024-09-11T23:10:14.702138Z",
     "iopub.status.busy": "2024-09-11T23:10:14.701514Z",
     "iopub.status.idle": "2024-09-11T23:10:14.704791Z",
     "shell.execute_reply": "2024-09-11T23:10:14.704314Z",
     "shell.execute_reply.started": "2024-09-11T23:10:14.702113Z"
    }
   },
   "outputs": [],
   "source": [
    "promptJ = \"\"\"Your task is to analyze the sentiment (from an investor's perspective) of the text below.\n",
    "Respond with a single word: negative, positive, or neutral\n",
    "TEXT: {text}\n",
    "Respond with a single word: negative, positive, or neutral\"\"\""
   ]
  },
  {
   "cell_type": "code",
   "execution_count": 64,
   "metadata": {
    "execution": {
     "iopub.execute_input": "2024-09-11T01:23:52.626324Z",
     "iopub.status.busy": "2024-09-11T01:23:52.625840Z",
     "iopub.status.idle": "2024-09-11T01:28:42.802363Z",
     "shell.execute_reply": "2024-09-11T01:28:42.801690Z",
     "shell.execute_reply.started": "2024-09-11T01:23:52.626303Z"
    }
   },
   "outputs": [
    {
     "data": {
      "application/vnd.jupyter.widget-view+json": {
       "model_id": "a392d5264d544e9c80da17a56560a725",
       "version_major": 2,
       "version_minor": 0
      },
      "text/plain": [
       "Map:   0%|          | 0/2261 [00:00<?, ? examples/s]"
      ]
     },
     "metadata": {},
     "output_type": "display_data"
    },
    {
     "name": "stdout",
     "output_type": "stream",
     "text": [
      "[{'role': 'user', 'content': \"Your task is to analyze the sentiment (from an investor's perspective) of the text below.\\nRespond with a single word: negative, positive, or neutral\\nTEXT: According to Gran , the company has no plans to move all production to Russia , although that is where the company is growing .\\nRespond with a single word: negative, positive, or neutral\"}, {'role': 'assistant', 'content': 'neutral'}, {'role': 'user', 'content': \"Your task is to analyze the sentiment (from an investor's perspective) of the text below.\\nRespond with a single word: negative, positive, or neutral\\nTEXT: For the last quarter of 2010 , Componenta 's net sales doubled to EUR131m from EUR76m for the same period a year earlier , while it moved to a zero pre-tax profit from a pre-tax loss of EUR7m .\\nRespond with a single word: negative, positive, or neutral\"}, {'role': 'assistant', 'content': 'positive'}, {'role': 'user', 'content': \"Your task is to analyze the sentiment (from an investor's perspective) of the text below.\\nRespond with a single word: negative, positive, or neutral\\nTEXT: Jan. 6 -- Ford is struggling in the face of slowing truck and SUV sales and a surfeit of up-to-date , gotta-have cars .\\nRespond with a single word: negative, positive, or neutral\"}, {'role': 'assistant', 'content': 'negative'}, {'role': 'user', 'content': \"Your task is to analyze the sentiment (from an investor's perspective) of the text below.\\nRespond with a single word: negative, positive, or neutral\\nTEXT: In the third quarter of 2010 , net sales increased by 5.2 % to EUR 205.5 mn , and operating profit by 34.9 % to EUR 23.5 mn .\\nRespond with a single word: negative, positive, or neutral\"}]\n"
     ]
    }
   ],
   "source": [
    "df, acc = few_shot_responses(promptF_ds, promptJ, examples)"
   ]
  },
  {
   "cell_type": "markdown",
   "metadata": {},
   "source": [
    "Yes!! I achieve my best result so far with 84.6% overall accuracy."
   ]
  },
  {
   "cell_type": "code",
   "execution_count": 65,
   "metadata": {
    "execution": {
     "iopub.execute_input": "2024-09-11T01:29:15.947435Z",
     "iopub.status.busy": "2024-09-11T01:29:15.946786Z",
     "iopub.status.idle": "2024-09-11T01:29:15.950773Z",
     "shell.execute_reply": "2024-09-11T01:29:15.950282Z",
     "shell.execute_reply.started": "2024-09-11T01:29:15.947415Z"
    }
   },
   "outputs": [
    {
     "data": {
      "text/plain": [
       "0.8460858027421495"
      ]
     },
     "execution_count": 65,
     "metadata": {},
     "output_type": "execute_result"
    }
   ],
   "source": [
    "acc"
   ]
  },
  {
   "cell_type": "markdown",
   "metadata": {},
   "source": [
    "Compared to Prompt H, this prompt yields a worse `negative` sentiment true positive rate \n",
    "(294 < 296), but a better rate for `neutral` (1055 > 1021) and `positive` (564 > 562)."
   ]
  },
  {
   "cell_type": "code",
   "execution_count": 66,
   "metadata": {
    "execution": {
     "iopub.execute_input": "2024-09-11T01:30:02.259620Z",
     "iopub.status.busy": "2024-09-11T01:30:02.259050Z",
     "iopub.status.idle": "2024-09-11T01:30:02.343769Z",
     "shell.execute_reply": "2024-09-11T01:30:02.343080Z",
     "shell.execute_reply.started": "2024-09-11T01:30:02.259597Z"
    }
   },
   "outputs": [
    {
     "data": {
      "image/png": "[encoded data removed]",
      "text/plain": [
       "<Figure size 576x576 with 1 Axes>"
      ]
     },
     "metadata": {
      "needs_background": "light"
     },
     "output_type": "display_data"
    }
   ],
   "source": [
    "make_cm(df)"
   ]
  },
  {
   "cell_type": "code",
   "execution_count": 67,
   "metadata": {
    "execution": {
     "iopub.execute_input": "2024-09-11T01:32:15.893961Z",
     "iopub.status.busy": "2024-09-11T01:32:15.893138Z",
     "iopub.status.idle": "2024-09-11T01:32:15.925782Z",
     "shell.execute_reply": "2024-09-11T01:32:15.925258Z",
     "shell.execute_reply.started": "2024-09-11T01:32:15.893935Z"
    }
   },
   "outputs": [],
   "source": [
    "df.to_csv('/notebooks/phi-3_J.csv', index=False)"
   ]
  },
  {
   "cell_type": "markdown",
   "metadata": {},
   "source": [
    "## Prompt K"
   ]
  },
  {
   "cell_type": "markdown",
   "metadata": {},
   "source": [
    "Another language adjustment that worked for phi-2: adding the phrase \"if you're not sure, respond with neutral\"."
   ]
  },
  {
   "cell_type": "code",
   "execution_count": 86,
   "metadata": {
    "execution": {
     "iopub.execute_input": "2024-09-11T02:29:52.534700Z",
     "iopub.status.busy": "2024-09-11T02:29:52.534459Z",
     "iopub.status.idle": "2024-09-11T02:29:52.538113Z",
     "shell.execute_reply": "2024-09-11T02:29:52.537458Z",
     "shell.execute_reply.started": "2024-09-11T02:29:52.534683Z"
    }
   },
   "outputs": [],
   "source": [
    "promptK = \"\"\"Your task is to analyze the sentiment (from an investor's perspective) of the text below.\n",
    "Respond with a single word: negative, positive, or neutral. If you're not sure, respond with neutral.\n",
    "TEXT: {text}\n",
    "Respond with a single word: negative, positive, or neutral. If you're not sure, respond with neutral.\"\"\""
   ]
  },
  {
   "cell_type": "code",
   "execution_count": 87,
   "metadata": {
    "execution": {
     "iopub.execute_input": "2024-09-11T02:29:54.885366Z",
     "iopub.status.busy": "2024-09-11T02:29:54.884871Z",
     "iopub.status.idle": "2024-09-11T02:35:36.555288Z",
     "shell.execute_reply": "2024-09-11T02:35:36.554703Z",
     "shell.execute_reply.started": "2024-09-11T02:29:54.885346Z"
    }
   },
   "outputs": [
    {
     "data": {
      "application/vnd.jupyter.widget-view+json": {
       "model_id": "7e5ddbdbf5e04f9690fdf6dc5f85c271",
       "version_major": 2,
       "version_minor": 0
      },
      "text/plain": [
       "Map:   0%|          | 0/2261 [00:00<?, ? examples/s]"
      ]
     },
     "metadata": {},
     "output_type": "display_data"
    },
    {
     "name": "stdout",
     "output_type": "stream",
     "text": [
      "[{'role': 'user', 'content': \"Your task is to analyze the sentiment (from an investor's perspective) of the text below.\\nRespond with a single word: negative, positive, or neutral. If you're not sure, respond with neutral.\\nTEXT: According to Gran , the company has no plans to move all production to Russia , although that is where the company is growing .\\nRespond with a single word: negative, positive, or neutral. If you're not sure, respond with neutral.\"}, {'role': 'assistant', 'content': 'neutral'}, {'role': 'user', 'content': \"Your task is to analyze the sentiment (from an investor's perspective) of the text below.\\nRespond with a single word: negative, positive, or neutral. If you're not sure, respond with neutral.\\nTEXT: For the last quarter of 2010 , Componenta 's net sales doubled to EUR131m from EUR76m for the same period a year earlier , while it moved to a zero pre-tax profit from a pre-tax loss of EUR7m .\\nRespond with a single word: negative, positive, or neutral. If you're not sure, respond with neutral.\"}, {'role': 'assistant', 'content': 'positive'}, {'role': 'user', 'content': \"Your task is to analyze the sentiment (from an investor's perspective) of the text below.\\nRespond with a single word: negative, positive, or neutral. If you're not sure, respond with neutral.\\nTEXT: Jan. 6 -- Ford is struggling in the face of slowing truck and SUV sales and a surfeit of up-to-date , gotta-have cars .\\nRespond with a single word: negative, positive, or neutral. If you're not sure, respond with neutral.\"}, {'role': 'assistant', 'content': 'negative'}, {'role': 'user', 'content': \"Your task is to analyze the sentiment (from an investor's perspective) of the text below.\\nRespond with a single word: negative, positive, or neutral. If you're not sure, respond with neutral.\\nTEXT: In the third quarter of 2010 , net sales increased by 5.2 % to EUR 205.5 mn , and operating profit by 34.9 % to EUR 23.5 mn .\\nRespond with a single word: negative, positive, or neutral. If you're not sure, respond with neutral.\"}]\n"
     ]
    }
   ],
   "source": [
    "df, acc = few_shot_responses(promptF_ds, promptK, examples)"
   ]
  },
  {
   "cell_type": "markdown",
   "metadata": {},
   "source": [
    "This does not improve the overall accuracy."
   ]
  },
  {
   "cell_type": "code",
   "execution_count": 88,
   "metadata": {
    "execution": {
     "iopub.execute_input": "2024-09-11T02:35:36.556506Z",
     "iopub.status.busy": "2024-09-11T02:35:36.556336Z",
     "iopub.status.idle": "2024-09-11T02:35:36.560655Z",
     "shell.execute_reply": "2024-09-11T02:35:36.560082Z",
     "shell.execute_reply.started": "2024-09-11T02:35:36.556491Z"
    }
   },
   "outputs": [
    {
     "data": {
      "text/plain": [
       "0.8319327731092437"
      ]
     },
     "execution_count": 88,
     "metadata": {},
     "output_type": "execute_result"
    }
   ],
   "source": [
    "acc"
   ]
  },
  {
   "cell_type": "markdown",
   "metadata": {},
   "source": [
    "Compared to Prompt J, this prompt results in a higher true positive rate for \n",
    "`negative` sentiment (295 > 294), but a lower rate for `neutral` (1024 < 1055) and\n",
    "`positive` sentiment (562 < 564)."
   ]
  },
  {
   "cell_type": "code",
   "execution_count": 89,
   "metadata": {
    "execution": {
     "iopub.execute_input": "2024-09-11T02:35:36.563815Z",
     "iopub.status.busy": "2024-09-11T02:35:36.563673Z",
     "iopub.status.idle": "2024-09-11T02:35:36.646184Z",
     "shell.execute_reply": "2024-09-11T02:35:36.645593Z",
     "shell.execute_reply.started": "2024-09-11T02:35:36.563802Z"
    }
   },
   "outputs": [
    {
     "data": {
      "image/png": "[encoded data removed]",
      "text/plain": [
       "<Figure size 576x576 with 1 Axes>"
      ]
     },
     "metadata": {
      "needs_background": "light"
     },
     "output_type": "display_data"
    }
   ],
   "source": [
    "make_cm(df)"
   ]
  },
  {
   "cell_type": "code",
   "execution_count": 90,
   "metadata": {
    "execution": {
     "iopub.execute_input": "2024-09-11T02:35:36.647324Z",
     "iopub.status.busy": "2024-09-11T02:35:36.647116Z",
     "iopub.status.idle": "2024-09-11T02:35:36.688626Z",
     "shell.execute_reply": "2024-09-11T02:35:36.688036Z",
     "shell.execute_reply.started": "2024-09-11T02:35:36.647305Z"
    }
   },
   "outputs": [],
   "source": [
    "df.to_csv('/notebooks/phi-3_K.csv', index=False)"
   ]
  },
  {
   "cell_type": "markdown",
   "metadata": {},
   "source": [
    "## Prompt L"
   ]
  },
  {
   "cell_type": "markdown",
   "metadata": {},
   "source": [
    "I'll see if adding a system prompt improves performance."
   ]
  },
  {
   "cell_type": "code",
   "execution_count": 76,
   "metadata": {
    "execution": {
     "iopub.execute_input": "2024-09-11T02:15:29.814884Z",
     "iopub.status.busy": "2024-09-11T02:15:29.814393Z",
     "iopub.status.idle": "2024-09-11T02:15:29.820686Z",
     "shell.execute_reply": "2024-09-11T02:15:29.820155Z",
     "shell.execute_reply.started": "2024-09-11T02:15:29.814864Z"
    }
   },
   "outputs": [],
   "source": [
    "#| code-fold: true\n",
    "#| code-summary: \"Show updated `few_shot_responses` function\"\n",
    "def few_shot_responses(dataset, prompt, examples, sp=False):\n",
    "    responses = []\n",
    "    dataset = dataset.map(add_prompt, fn_kwargs={\"prompt\": prompt})\n",
    "\n",
    "    few_shot_examples = []\n",
    "    \n",
    "    for example in examples:\n",
    "        few_shot_examples.append({\"role\": \"user\", \"content\": prompt.format(text=example[0])})\n",
    "        few_shot_examples.append({\"role\": \"assistant\", \"content\": example[1]})\n",
    "    \n",
    "    count = 0\n",
    "    for row in dataset:\n",
    "        count += 1\n",
    "        \n",
    "        if sp:\n",
    "            messages = [{'role': 'system', 'content': 'You are an expert in financial sentiment analysis. Your task is to accurately classify the sentiment of financial statements as negative, positive, or neutral. Consider the overall impact and implications of the statement when making your classification.'}\n",
    "                       ] + few_shot_examples + [{\"role\": \"user\", \"content\": row['prompt']}]\n",
    "        else:\n",
    "            messages = few_shot_examples + [{\"role\": \"user\", \"content\": row['prompt']}]\n",
    "        \n",
    "        if count == 1: print(messages)\n",
    "        \n",
    "        generation_args = { \n",
    "            \"max_new_tokens\": 2, \n",
    "            \"return_full_text\": False, \n",
    "            \"temperature\": 0.1, \n",
    "            \"do_sample\": True, \n",
    "        } \n",
    "\n",
    "        response = pipe(messages, **generation_args) \n",
    "        responses.append(response[0]['generated_text'].strip().lower())\n",
    "        \n",
    "    # calculate accuracy\n",
    "    df = dataset.to_pandas()\n",
    "    df['responses'] = pd.Series(responses)\n",
    "    df['responses'] = df['responses'].apply(lambda x: x if x in ['negative', 'positive', 'neutral'] else \"other\")\n",
    "    df['lm_match'] = df['label_text'] == df['responses']\n",
    "    acc = df.lm_match.mean()\n",
    "    return df, acc"
   ]
  },
  {
   "cell_type": "code",
   "execution_count": 79,
   "metadata": {
    "execution": {
     "iopub.execute_input": "2024-09-11T02:15:59.192511Z",
     "iopub.status.busy": "2024-09-11T02:15:59.192250Z",
     "iopub.status.idle": "2024-09-11T02:21:20.784432Z",
     "shell.execute_reply": "2024-09-11T02:21:20.783913Z",
     "shell.execute_reply.started": "2024-09-11T02:15:59.192493Z"
    }
   },
   "outputs": [
    {
     "data": {
      "application/vnd.jupyter.widget-view+json": {
       "model_id": "aa0751e284d747e3b06cbf2688652f7d",
       "version_major": 2,
       "version_minor": 0
      },
      "text/plain": [
       "Map:   0%|          | 0/2261 [00:00<?, ? examples/s]"
      ]
     },
     "metadata": {},
     "output_type": "display_data"
    },
    {
     "name": "stdout",
     "output_type": "stream",
     "text": [
      "[{'role': 'system', 'content': 'You are an expert in financial sentiment analysis. Your task is to accurately classify the sentiment of financial statements as negative, positive, or neutral. Consider the overall impact and implications of the statement when making your classification.'}, {'role': 'user', 'content': \"Your task is to analyze the sentiment (from an investor's perspective) of the text below.\\nRespond with a single word: negative, positive, or neutral\\nTEXT: According to Gran , the company has no plans to move all production to Russia , although that is where the company is growing .\\nRespond with a single word: negative, positive, or neutral\"}, {'role': 'assistant', 'content': 'neutral'}, {'role': 'user', 'content': \"Your task is to analyze the sentiment (from an investor's perspective) of the text below.\\nRespond with a single word: negative, positive, or neutral\\nTEXT: For the last quarter of 2010 , Componenta 's net sales doubled to EUR131m from EUR76m for the same period a year earlier , while it moved to a zero pre-tax profit from a pre-tax loss of EUR7m .\\nRespond with a single word: negative, positive, or neutral\"}, {'role': 'assistant', 'content': 'positive'}, {'role': 'user', 'content': \"Your task is to analyze the sentiment (from an investor's perspective) of the text below.\\nRespond with a single word: negative, positive, or neutral\\nTEXT: Jan. 6 -- Ford is struggling in the face of slowing truck and SUV sales and a surfeit of up-to-date , gotta-have cars .\\nRespond with a single word: negative, positive, or neutral\"}, {'role': 'assistant', 'content': 'negative'}, {'role': 'user', 'content': \"Your task is to analyze the sentiment (from an investor's perspective) of the text below.\\nRespond with a single word: negative, positive, or neutral\\nTEXT: In the third quarter of 2010 , net sales increased by 5.2 % to EUR 205.5 mn , and operating profit by 34.9 % to EUR 23.5 mn .\\nRespond with a single word: negative, positive, or neutral\"}]\n"
     ]
    }
   ],
   "source": [
    "df, acc = few_shot_responses(promptF_ds, promptJ, examples, sp=True)"
   ]
  },
  {
   "cell_type": "markdown",
   "metadata": {},
   "source": [
    "Adding this sytem prompt increases the accuracy from 84.6% to 87.4%!"
   ]
  },
  {
   "cell_type": "code",
   "execution_count": 80,
   "metadata": {
    "execution": {
     "iopub.execute_input": "2024-09-11T02:24:45.803247Z",
     "iopub.status.busy": "2024-09-11T02:24:45.802293Z",
     "iopub.status.idle": "2024-09-11T02:24:45.808520Z",
     "shell.execute_reply": "2024-09-11T02:24:45.807730Z",
     "shell.execute_reply.started": "2024-09-11T02:24:45.803206Z"
    }
   },
   "outputs": [
    {
     "data": {
      "text/plain": [
       "0.8735072976559045"
      ]
     },
     "execution_count": 80,
     "metadata": {},
     "output_type": "execute_result"
    }
   ],
   "source": [
    "acc"
   ]
  },
  {
   "cell_type": "markdown",
   "metadata": {},
   "source": [
    "Compared to Prompt J (without system prompt) adding this system prompt results in \n",
    "a higher true positive rate for `negative` (295 > 294) and `neutral` (1120 > 1055) \n",
    "sentiment but a lower rate for `positive` sentiment (560 < 564)."
   ]
  },
  {
   "cell_type": "code",
   "execution_count": 81,
   "metadata": {
    "execution": {
     "iopub.execute_input": "2024-09-11T02:25:30.689022Z",
     "iopub.status.busy": "2024-09-11T02:25:30.688295Z",
     "iopub.status.idle": "2024-09-11T02:25:30.773288Z",
     "shell.execute_reply": "2024-09-11T02:25:30.772842Z",
     "shell.execute_reply.started": "2024-09-11T02:25:30.689016Z"
    }
   },
   "outputs": [
    {
     "data": {
      "image/png": "[encoded data removed]",
      "text/plain": [
       "<Figure size 576x576 with 1 Axes>"
      ]
     },
     "metadata": {
      "needs_background": "light"
     },
     "output_type": "display_data"
    }
   ],
   "source": [
    "make_cm(df)"
   ]
  },
  {
   "cell_type": "code",
   "execution_count": 85,
   "metadata": {
    "execution": {
     "iopub.execute_input": "2024-09-11T02:29:45.067540Z",
     "iopub.status.busy": "2024-09-11T02:29:45.067236Z",
     "iopub.status.idle": "2024-09-11T02:29:45.090108Z",
     "shell.execute_reply": "2024-09-11T02:29:45.089612Z",
     "shell.execute_reply.started": "2024-09-11T02:29:45.067518Z"
    }
   },
   "outputs": [],
   "source": [
    "df.to_csv('/notebooks/phi-3_L.csv', index=False)"
   ]
  },
  {
   "cell_type": "markdown",
   "metadata": {},
   "source": [
    "## Prompt M"
   ]
  },
  {
   "cell_type": "markdown",
   "metadata": {},
   "source": [
    "I'll add the following phrase to the system prompt:\n",
    "\n",
    "> If you're not sure, respond with neutral."
   ]
  },
  {
   "cell_type": "code",
   "execution_count": 9,
   "metadata": {
    "execution": {
     "iopub.execute_input": "2024-09-11T23:08:38.580370Z",
     "iopub.status.busy": "2024-09-11T23:08:38.579131Z",
     "iopub.status.idle": "2024-09-11T23:08:38.587127Z",
     "shell.execute_reply": "2024-09-11T23:08:38.586640Z",
     "shell.execute_reply.started": "2024-09-11T23:08:38.580323Z"
    }
   },
   "outputs": [],
   "source": [
    "#| code-fold: true\n",
    "#| code-summary: \"Show updated `few_shot_responses` function\"\n",
    "def few_shot_responses(dataset, prompt, examples, sp=False):\n",
    "    responses = []\n",
    "    dataset = dataset.map(add_prompt, fn_kwargs={\"prompt\": prompt})\n",
    "\n",
    "    few_shot_examples = []\n",
    "    \n",
    "    for example in examples:\n",
    "        few_shot_examples.append({\"role\": \"user\", \"content\": prompt.format(text=example[0])})\n",
    "        few_shot_examples.append({\"role\": \"assistant\", \"content\": example[1]})\n",
    "    \n",
    "    count = 0\n",
    "    for row in dataset:\n",
    "        count += 1\n",
    "        \n",
    "        if sp:\n",
    "            messages = [{'role': 'system', 'content': sp}] + few_shot_examples + [{\"role\": \"user\", \"content\": row['prompt']}]\n",
    "        else:\n",
    "            messages = few_shot_examples + [{\"role\": \"user\", \"content\": row['prompt']}]\n",
    "        \n",
    "        if count == 1: print(messages)\n",
    "        \n",
    "        generation_args = { \n",
    "            \"max_new_tokens\": 2, \n",
    "            \"return_full_text\": False, \n",
    "            \"temperature\": 0.1, \n",
    "            \"do_sample\": True, \n",
    "        } \n",
    "\n",
    "        response = pipe(messages, **generation_args) \n",
    "        responses.append(response[0]['generated_text'].strip().lower())\n",
    "        \n",
    "    # calculate accuracy\n",
    "    df = dataset.to_pandas()\n",
    "    df['responses'] = pd.Series(responses)\n",
    "    df['responses'] = df['responses'].apply(lambda x: x if x in ['negative', 'positive', 'neutral'] else \"other\")\n",
    "    df['lm_match'] = df['label_text'] == df['responses']\n",
    "    acc = df.lm_match.mean()\n",
    "    return df, acc"
   ]
  },
  {
   "cell_type": "code",
   "execution_count": 96,
   "metadata": {
    "execution": {
     "iopub.execute_input": "2024-09-11T02:52:11.738638Z",
     "iopub.status.busy": "2024-09-11T02:52:11.738272Z",
     "iopub.status.idle": "2024-09-11T02:52:11.742008Z",
     "shell.execute_reply": "2024-09-11T02:52:11.741396Z",
     "shell.execute_reply.started": "2024-09-11T02:52:11.738615Z"
    }
   },
   "outputs": [],
   "source": [
    "sp = \"You are an expert in financial sentiment analysis. Your task is to accurately classify the sentiment of financial statements as negative, positive, or neutral. Consider the overall impact and implications of the statement when making your classification. If you're not sure, respond with neutral.\""
   ]
  },
  {
   "cell_type": "code",
   "execution_count": 97,
   "metadata": {
    "execution": {
     "iopub.execute_input": "2024-09-11T02:52:12.956743Z",
     "iopub.status.busy": "2024-09-11T02:52:12.956377Z",
     "iopub.status.idle": "2024-09-11T02:52:12.960697Z",
     "shell.execute_reply": "2024-09-11T02:52:12.959959Z",
     "shell.execute_reply.started": "2024-09-11T02:52:12.956718Z"
    }
   },
   "outputs": [
    {
     "name": "stdout",
     "output_type": "stream",
     "text": [
      "You are an expert in financial sentiment analysis. Your task is to accurately classify the sentiment of financial statements as negative, positive, or neutral. Consider the overall impact and implications of the statement when making your classification. If you're not sure, respond with neutral.\n"
     ]
    }
   ],
   "source": [
    "print(sp)"
   ]
  },
  {
   "cell_type": "code",
   "execution_count": 98,
   "metadata": {
    "execution": {
     "iopub.execute_input": "2024-09-11T02:52:34.554501Z",
     "iopub.status.busy": "2024-09-11T02:52:34.554255Z",
     "iopub.status.idle": "2024-09-11T02:57:57.295929Z",
     "shell.execute_reply": "2024-09-11T02:57:57.295199Z",
     "shell.execute_reply.started": "2024-09-11T02:52:34.554482Z"
    }
   },
   "outputs": [
    {
     "data": {
      "application/vnd.jupyter.widget-view+json": {
       "model_id": "ed703516a6894f3ba6e4e1608c63a3f2",
       "version_major": 2,
       "version_minor": 0
      },
      "text/plain": [
       "Map:   0%|          | 0/2261 [00:00<?, ? examples/s]"
      ]
     },
     "metadata": {},
     "output_type": "display_data"
    },
    {
     "name": "stdout",
     "output_type": "stream",
     "text": [
      "[{'role': 'system', 'content': \"You are an expert in financial sentiment analysis. Your task is to accurately classify the sentiment of financial statements as negative, positive, or neutral. Consider the overall impact and implications of the statement when making your classification. If you're not sure, respond with neutral.\"}, {'role': 'user', 'content': \"Your task is to analyze the sentiment (from an investor's perspective) of the text below.\\nRespond with a single word: negative, positive, or neutral\\nTEXT: According to Gran , the company has no plans to move all production to Russia , although that is where the company is growing .\\nRespond with a single word: negative, positive, or neutral\"}, {'role': 'assistant', 'content': 'neutral'}, {'role': 'user', 'content': \"Your task is to analyze the sentiment (from an investor's perspective) of the text below.\\nRespond with a single word: negative, positive, or neutral\\nTEXT: For the last quarter of 2010 , Componenta 's net sales doubled to EUR131m from EUR76m for the same period a year earlier , while it moved to a zero pre-tax profit from a pre-tax loss of EUR7m .\\nRespond with a single word: negative, positive, or neutral\"}, {'role': 'assistant', 'content': 'positive'}, {'role': 'user', 'content': \"Your task is to analyze the sentiment (from an investor's perspective) of the text below.\\nRespond with a single word: negative, positive, or neutral\\nTEXT: Jan. 6 -- Ford is struggling in the face of slowing truck and SUV sales and a surfeit of up-to-date , gotta-have cars .\\nRespond with a single word: negative, positive, or neutral\"}, {'role': 'assistant', 'content': 'negative'}, {'role': 'user', 'content': \"Your task is to analyze the sentiment (from an investor's perspective) of the text below.\\nRespond with a single word: negative, positive, or neutral\\nTEXT: In the third quarter of 2010 , net sales increased by 5.2 % to EUR 205.5 mn , and operating profit by 34.9 % to EUR 23.5 mn .\\nRespond with a single word: negative, positive, or neutral\"}]\n"
     ]
    }
   ],
   "source": [
    "df, acc = few_shot_responses(promptF_ds, promptJ, examples, sp=sp)"
   ]
  },
  {
   "cell_type": "markdown",
   "metadata": {},
   "source": [
    "Excellent---the new system prompt results in the best-so-far overall accuracy (88.4%)."
   ]
  },
  {
   "cell_type": "code",
   "execution_count": 99,
   "metadata": {
    "execution": {
     "iopub.execute_input": "2024-09-11T02:57:57.297711Z",
     "iopub.status.busy": "2024-09-11T02:57:57.297209Z",
     "iopub.status.idle": "2024-09-11T02:57:57.301703Z",
     "shell.execute_reply": "2024-09-11T02:57:57.301110Z",
     "shell.execute_reply.started": "2024-09-11T02:57:57.297693Z"
    }
   },
   "outputs": [
    {
     "data": {
      "text/plain": [
       "0.8841220698805838"
      ]
     },
     "execution_count": 99,
     "metadata": {},
     "output_type": "execute_result"
    }
   ],
   "source": [
    "acc"
   ]
  },
  {
   "cell_type": "markdown",
   "metadata": {},
   "source": [
    "Compared to the last system prompt, this one yields a lower true positive rates for `negative` sentiment\n",
    "(292 < 295) and `positive` sentiment (558 < 560) but a higher rate for `neutral` (1149 > 1120) sentiment."
   ]
  },
  {
   "cell_type": "code",
   "execution_count": 100,
   "metadata": {
    "execution": {
     "iopub.execute_input": "2024-09-11T02:57:57.304549Z",
     "iopub.status.busy": "2024-09-11T02:57:57.304365Z",
     "iopub.status.idle": "2024-09-11T02:57:57.390765Z",
     "shell.execute_reply": "2024-09-11T02:57:57.390132Z",
     "shell.execute_reply.started": "2024-09-11T02:57:57.304544Z"
    }
   },
   "outputs": [
    {
     "data": {
      "image/png": "[encoded data removed]",
      "text/plain": [
       "<Figure size 576x576 with 1 Axes>"
      ]
     },
     "metadata": {
      "needs_background": "light"
     },
     "output_type": "display_data"
    }
   ],
   "source": [
    "make_cm(df)"
   ]
  },
  {
   "cell_type": "code",
   "execution_count": 101,
   "metadata": {
    "execution": {
     "iopub.execute_input": "2024-09-11T02:57:57.391832Z",
     "iopub.status.busy": "2024-09-11T02:57:57.391636Z",
     "iopub.status.idle": "2024-09-11T02:57:57.417029Z",
     "shell.execute_reply": "2024-09-11T02:57:57.416239Z",
     "shell.execute_reply.started": "2024-09-11T02:57:57.391812Z"
    }
   },
   "outputs": [],
   "source": [
    "df.to_csv('/notebooks/phi-3_M.csv', index=False)"
   ]
  },
  {
   "cell_type": "markdown",
   "metadata": {},
   "source": [
    "## Prompt N"
   ]
  },
  {
   "cell_type": "markdown",
   "metadata": {},
   "source": [
    "I'll iterate on the system prompt. I'll replace:\n",
    "\n",
    "> If you're not sure, respond with neutral.\n",
    "\n",
    "with\n",
    "\n",
    "> If the amount of money is not explicitly increasing or decreasing, respond with neutral."
   ]
  },
  {
   "cell_type": "code",
   "execution_count": 105,
   "metadata": {
    "execution": {
     "iopub.execute_input": "2024-09-11T03:09:05.300926Z",
     "iopub.status.busy": "2024-09-11T03:09:05.300414Z",
     "iopub.status.idle": "2024-09-11T03:09:05.303867Z",
     "shell.execute_reply": "2024-09-11T03:09:05.303230Z",
     "shell.execute_reply.started": "2024-09-11T03:09:05.300906Z"
    }
   },
   "outputs": [],
   "source": [
    "sp = \"You are an expert in financial sentiment analysis. Your task is to accurately classify the sentiment of financial statements as negative, positive, or neutral. Consider the overall impact and implications of the statement when making your classification. If the amount of money is not explicitly increasing or decreasing, respond with neutral.\""
   ]
  },
  {
   "cell_type": "code",
   "execution_count": 106,
   "metadata": {
    "execution": {
     "iopub.execute_input": "2024-09-11T03:09:06.691909Z",
     "iopub.status.busy": "2024-09-11T03:09:06.691263Z",
     "iopub.status.idle": "2024-09-11T03:09:06.695186Z",
     "shell.execute_reply": "2024-09-11T03:09:06.694693Z",
     "shell.execute_reply.started": "2024-09-11T03:09:06.691887Z"
    }
   },
   "outputs": [
    {
     "name": "stdout",
     "output_type": "stream",
     "text": [
      "You are an expert in financial sentiment analysis. Your task is to accurately classify the sentiment of financial statements as negative, positive, or neutral. Consider the overall impact and implications of the statement when making your classification. If the amount of money is not explicitly increasing or decreasing, respond with neutral.\n"
     ]
    }
   ],
   "source": [
    "print(sp)"
   ]
  },
  {
   "cell_type": "code",
   "execution_count": 107,
   "metadata": {
    "execution": {
     "iopub.execute_input": "2024-09-11T03:09:10.369384Z",
     "iopub.status.busy": "2024-09-11T03:09:10.368645Z",
     "iopub.status.idle": "2024-09-11T03:14:36.222238Z",
     "shell.execute_reply": "2024-09-11T03:14:36.221495Z",
     "shell.execute_reply.started": "2024-09-11T03:09:10.369365Z"
    }
   },
   "outputs": [
    {
     "data": {
      "application/vnd.jupyter.widget-view+json": {
       "model_id": "ff6352c1e04a489cb9101dfb0553228c",
       "version_major": 2,
       "version_minor": 0
      },
      "text/plain": [
       "Map:   0%|          | 0/2261 [00:00<?, ? examples/s]"
      ]
     },
     "metadata": {},
     "output_type": "display_data"
    },
    {
     "name": "stdout",
     "output_type": "stream",
     "text": [
      "[{'role': 'system', 'content': 'You are an expert in financial sentiment analysis. Your task is to accurately classify the sentiment of financial statements as negative, positive, or neutral. Consider the overall impact and implications of the statement when making your classification. If the amount of money is not explicitly increasing or decreasing, respond with neutral.'}, {'role': 'user', 'content': \"Your task is to analyze the sentiment (from an investor's perspective) of the text below.\\nRespond with a single word: negative, positive, or neutral\\nTEXT: According to Gran , the company has no plans to move all production to Russia , although that is where the company is growing .\\nRespond with a single word: negative, positive, or neutral\"}, {'role': 'assistant', 'content': 'neutral'}, {'role': 'user', 'content': \"Your task is to analyze the sentiment (from an investor's perspective) of the text below.\\nRespond with a single word: negative, positive, or neutral\\nTEXT: For the last quarter of 2010 , Componenta 's net sales doubled to EUR131m from EUR76m for the same period a year earlier , while it moved to a zero pre-tax profit from a pre-tax loss of EUR7m .\\nRespond with a single word: negative, positive, or neutral\"}, {'role': 'assistant', 'content': 'positive'}, {'role': 'user', 'content': \"Your task is to analyze the sentiment (from an investor's perspective) of the text below.\\nRespond with a single word: negative, positive, or neutral\\nTEXT: Jan. 6 -- Ford is struggling in the face of slowing truck and SUV sales and a surfeit of up-to-date , gotta-have cars .\\nRespond with a single word: negative, positive, or neutral\"}, {'role': 'assistant', 'content': 'negative'}, {'role': 'user', 'content': \"Your task is to analyze the sentiment (from an investor's perspective) of the text below.\\nRespond with a single word: negative, positive, or neutral\\nTEXT: In the third quarter of 2010 , net sales increased by 5.2 % to EUR 205.5 mn , and operating profit by 34.9 % to EUR 23.5 mn .\\nRespond with a single word: negative, positive, or neutral\"}]\n"
     ]
    }
   ],
   "source": [
    "df, acc = few_shot_responses(promptF_ds, promptJ, examples, sp=sp)"
   ]
  },
  {
   "cell_type": "markdown",
   "metadata": {},
   "source": [
    "The updated system prompt causes the overall accuracy to drop a tiny bit."
   ]
  },
  {
   "cell_type": "code",
   "execution_count": 108,
   "metadata": {
    "execution": {
     "iopub.execute_input": "2024-09-11T03:14:36.223939Z",
     "iopub.status.busy": "2024-09-11T03:14:36.223727Z",
     "iopub.status.idle": "2024-09-11T03:14:36.231684Z",
     "shell.execute_reply": "2024-09-11T03:14:36.230994Z",
     "shell.execute_reply.started": "2024-09-11T03:14:36.223923Z"
    }
   },
   "outputs": [
    {
     "data": {
      "text/plain": [
       "0.8827952233524989"
      ]
     },
     "execution_count": 108,
     "metadata": {},
     "output_type": "execute_result"
    }
   ],
   "source": [
    "acc"
   ]
  },
  {
   "cell_type": "markdown",
   "metadata": {},
   "source": [
    "The true positive rate for `negative` (293 > 292) and `positive` (561 > 558) sentiment actually increases, \n",
    "but decreases for `neutral` sentiment (1142 < 1149) when compare to the previous system prompt."
   ]
  },
  {
   "cell_type": "code",
   "execution_count": 109,
   "metadata": {
    "execution": {
     "iopub.execute_input": "2024-09-11T03:14:36.233019Z",
     "iopub.status.busy": "2024-09-11T03:14:36.232824Z",
     "iopub.status.idle": "2024-09-11T03:14:36.323759Z",
     "shell.execute_reply": "2024-09-11T03:14:36.322836Z",
     "shell.execute_reply.started": "2024-09-11T03:14:36.233003Z"
    }
   },
   "outputs": [
    {
     "data": {
      "image/png": "[encoded data removed]",
      "text/plain": [
       "<Figure size 576x576 with 1 Axes>"
      ]
     },
     "metadata": {
      "needs_background": "light"
     },
     "output_type": "display_data"
    }
   ],
   "source": [
    "make_cm(df)"
   ]
  },
  {
   "cell_type": "code",
   "execution_count": 110,
   "metadata": {
    "execution": {
     "iopub.execute_input": "2024-09-11T03:14:36.325323Z",
     "iopub.status.busy": "2024-09-11T03:14:36.325126Z",
     "iopub.status.idle": "2024-09-11T03:14:36.349878Z",
     "shell.execute_reply": "2024-09-11T03:14:36.349139Z",
     "shell.execute_reply.started": "2024-09-11T03:14:36.325306Z"
    }
   },
   "outputs": [],
   "source": [
    "df.to_csv('/notebooks/phi-3_N.csv', index=False)"
   ]
  },
  {
   "cell_type": "markdown",
   "metadata": {},
   "source": [
    "## Prompt O"
   ]
  },
  {
   "cell_type": "markdown",
   "metadata": {},
   "source": [
    "I'll iterate on the best-performing (88.4%) Prompt M by adding more detail to how the model\n",
    "should handle neutral sentiment (based on a suggestion by Claude):"
   ]
  },
  {
   "cell_type": "code",
   "execution_count": 22,
   "metadata": {
    "execution": {
     "iopub.execute_input": "2024-09-11T20:30:09.967168Z",
     "iopub.status.busy": "2024-09-11T20:30:09.966668Z",
     "iopub.status.idle": "2024-09-11T20:30:09.970269Z",
     "shell.execute_reply": "2024-09-11T20:30:09.969729Z",
     "shell.execute_reply.started": "2024-09-11T20:30:09.967148Z"
    }
   },
   "outputs": [],
   "source": [
    "sp = \"You are an expert in financial sentiment analysis. Your task is to accurately classify the sentiment of financial statements as negative, positive, or neutral. Consider the overall impact and implications of the statement when making your classification. If the amount of money, market share, or key performance indicators are not explicitly increasing or decreasing, respond with neutral.\""
   ]
  },
  {
   "cell_type": "code",
   "execution_count": 23,
   "metadata": {
    "execution": {
     "iopub.execute_input": "2024-09-11T20:30:12.069794Z",
     "iopub.status.busy": "2024-09-11T20:30:12.069201Z",
     "iopub.status.idle": "2024-09-11T20:30:12.073224Z",
     "shell.execute_reply": "2024-09-11T20:30:12.072661Z",
     "shell.execute_reply.started": "2024-09-11T20:30:12.069772Z"
    }
   },
   "outputs": [
    {
     "name": "stdout",
     "output_type": "stream",
     "text": [
      "You are an expert in financial sentiment analysis. Your task is to accurately classify the sentiment of financial statements as negative, positive, or neutral. Consider the overall impact and implications of the statement when making your classification. If the amount of money, market share, or key performance indicators are not explicitly increasing or decreasing, respond with neutral.\n"
     ]
    }
   ],
   "source": [
    "print(sp)"
   ]
  },
  {
   "cell_type": "code",
   "execution_count": 24,
   "metadata": {
    "execution": {
     "iopub.execute_input": "2024-09-11T20:30:16.703133Z",
     "iopub.status.busy": "2024-09-11T20:30:16.702608Z",
     "iopub.status.idle": "2024-09-11T20:35:51.823535Z",
     "shell.execute_reply": "2024-09-11T20:35:51.822919Z",
     "shell.execute_reply.started": "2024-09-11T20:30:16.703109Z"
    }
   },
   "outputs": [
    {
     "data": {
      "application/vnd.jupyter.widget-view+json": {
       "model_id": "9a0b9fb3557a4470b3f3e55ef4f4523b",
       "version_major": 2,
       "version_minor": 0
      },
      "text/plain": [
       "Map:   0%|          | 0/2261 [00:00<?, ? examples/s]"
      ]
     },
     "metadata": {},
     "output_type": "display_data"
    },
    {
     "name": "stdout",
     "output_type": "stream",
     "text": [
      "[{'role': 'system', 'content': 'You are an expert in financial sentiment analysis. Your task is to accurately classify the sentiment of financial statements as negative, positive, or neutral. Consider the overall impact and implications of the statement when making your classification. If the amount of money, market share, or key performance indicators are not explicitly increasing or decreasing, respond with neutral.'}, {'role': 'user', 'content': \"Your task is to analyze the sentiment (from an investor's perspective) of the text below.\\nRespond with a single word: negative, positive, or neutral\\nTEXT: According to Gran , the company has no plans to move all production to Russia , although that is where the company is growing .\\nRespond with a single word: negative, positive, or neutral\"}, {'role': 'assistant', 'content': 'neutral'}, {'role': 'user', 'content': \"Your task is to analyze the sentiment (from an investor's perspective) of the text below.\\nRespond with a single word: negative, positive, or neutral\\nTEXT: For the last quarter of 2010 , Componenta 's net sales doubled to EUR131m from EUR76m for the same period a year earlier , while it moved to a zero pre-tax profit from a pre-tax loss of EUR7m .\\nRespond with a single word: negative, positive, or neutral\"}, {'role': 'assistant', 'content': 'positive'}, {'role': 'user', 'content': \"Your task is to analyze the sentiment (from an investor's perspective) of the text below.\\nRespond with a single word: negative, positive, or neutral\\nTEXT: Jan. 6 -- Ford is struggling in the face of slowing truck and SUV sales and a surfeit of up-to-date , gotta-have cars .\\nRespond with a single word: negative, positive, or neutral\"}, {'role': 'assistant', 'content': 'negative'}, {'role': 'user', 'content': \"Your task is to analyze the sentiment (from an investor's perspective) of the text below.\\nRespond with a single word: negative, positive, or neutral\\nTEXT: In the third quarter of 2010 , net sales increased by 5.2 % to EUR 205.5 mn , and operating profit by 34.9 % to EUR 23.5 mn .\\nRespond with a single word: negative, positive, or neutral\"}]\n"
     ]
    },
    {
     "name": "stderr",
     "output_type": "stream",
     "text": [
      "You are not running the flash-attention implementation, expect numerical differences.\n",
      "You seem to be using the pipelines sequentially on GPU. In order to maximize efficiency please use a dataset\n"
     ]
    }
   ],
   "source": [
    "df, acc = few_shot_responses(promptF_ds, promptJ, examples, sp=sp)"
   ]
  },
  {
   "cell_type": "markdown",
   "metadata": {},
   "source": [
    "Nice! This modification resulted in the best overall accuracy so far, 88.6%."
   ]
  },
  {
   "cell_type": "code",
   "execution_count": 25,
   "metadata": {
    "execution": {
     "iopub.execute_input": "2024-09-11T20:39:55.129881Z",
     "iopub.status.busy": "2024-09-11T20:39:55.128865Z",
     "iopub.status.idle": "2024-09-11T20:39:55.133869Z",
     "shell.execute_reply": "2024-09-11T20:39:55.133389Z",
     "shell.execute_reply.started": "2024-09-11T20:39:55.129857Z"
    }
   },
   "outputs": [
    {
     "data": {
      "text/plain": [
       "0.885891198584697"
      ]
     },
     "execution_count": 25,
     "metadata": {},
     "output_type": "execute_result"
    }
   ],
   "source": [
    "acc"
   ]
  },
  {
   "cell_type": "markdown",
   "metadata": {},
   "source": [
    "The true positive rate increased for `negative` and `positive` sentiments and decreased\n",
    "a bit for `neutral` sentiment."
   ]
  },
  {
   "cell_type": "code",
   "execution_count": 26,
   "metadata": {
    "execution": {
     "iopub.execute_input": "2024-09-11T20:40:30.062359Z",
     "iopub.status.busy": "2024-09-11T20:40:30.062098Z",
     "iopub.status.idle": "2024-09-11T20:40:30.237596Z",
     "shell.execute_reply": "2024-09-11T20:40:30.235280Z",
     "shell.execute_reply.started": "2024-09-11T20:40:30.062341Z"
    }
   },
   "outputs": [
    {
     "data": {
      "image/png": "[encoded data removed]",
      "text/plain": [
       "<Figure size 576x576 with 1 Axes>"
      ]
     },
     "metadata": {
      "needs_background": "light"
     },
     "output_type": "display_data"
    }
   ],
   "source": [
    "make_cm(df)"
   ]
  },
  {
   "cell_type": "code",
   "execution_count": 27,
   "metadata": {
    "execution": {
     "iopub.execute_input": "2024-09-11T20:40:41.681714Z",
     "iopub.status.busy": "2024-09-11T20:40:41.681395Z",
     "iopub.status.idle": "2024-09-11T20:40:41.707362Z",
     "shell.execute_reply": "2024-09-11T20:40:41.706520Z",
     "shell.execute_reply.started": "2024-09-11T20:40:41.681692Z"
    }
   },
   "outputs": [],
   "source": [
    "df.to_csv('/notebooks/phi-3_O.csv', index=False)"
   ]
  },
  {
   "cell_type": "markdown",
   "metadata": {},
   "source": [
    "## Prompt P"
   ]
  },
  {
   "cell_type": "markdown",
   "metadata": {},
   "source": [
    "Given the improvement with a more nuanced system prompt, I'll continue adding to the prompt."
   ]
  },
  {
   "cell_type": "code",
   "execution_count": 13,
   "metadata": {
    "execution": {
     "iopub.execute_input": "2024-09-11T23:09:52.894697Z",
     "iopub.status.busy": "2024-09-11T23:09:52.894074Z",
     "iopub.status.idle": "2024-09-11T23:09:52.897862Z",
     "shell.execute_reply": "2024-09-11T23:09:52.897357Z",
     "shell.execute_reply.started": "2024-09-11T23:09:52.894668Z"
    }
   },
   "outputs": [],
   "source": [
    "sp = \"You are an expert in financial sentiment analysis. Your task is to accurately classify the sentiment of financial statements as negative, positive, or neutral. Consider the overall impact and implications of the statement when making your classification. If the amount of money, market share, or key performance indicators are not explicitly increasing or decreasing, respond with neutral. Consider terms like 'growth', 'decline', 'improvement', or 'deterioration' as indicators of change.\""
   ]
  },
  {
   "cell_type": "code",
   "execution_count": 14,
   "metadata": {
    "execution": {
     "iopub.execute_input": "2024-09-11T23:09:55.579512Z",
     "iopub.status.busy": "2024-09-11T23:09:55.578640Z",
     "iopub.status.idle": "2024-09-11T23:09:55.582378Z",
     "shell.execute_reply": "2024-09-11T23:09:55.581992Z",
     "shell.execute_reply.started": "2024-09-11T23:09:55.579482Z"
    }
   },
   "outputs": [
    {
     "name": "stdout",
     "output_type": "stream",
     "text": [
      "You are an expert in financial sentiment analysis. Your task is to accurately classify the sentiment of financial statements as negative, positive, or neutral. Consider the overall impact and implications of the statement when making your classification. If the amount of money, market share, or key performance indicators are not explicitly increasing or decreasing, respond with neutral. Consider terms like 'growth', 'decline', 'improvement', or 'deterioration' as indicators of change.\n"
     ]
    }
   ],
   "source": [
    "print(sp)"
   ]
  },
  {
   "cell_type": "code",
   "execution_count": 32,
   "metadata": {
    "execution": {
     "iopub.execute_input": "2024-09-11T20:44:29.388924Z",
     "iopub.status.busy": "2024-09-11T20:44:29.388073Z",
     "iopub.status.idle": "2024-09-11T20:50:18.613681Z",
     "shell.execute_reply": "2024-09-11T20:50:18.612855Z",
     "shell.execute_reply.started": "2024-09-11T20:44:29.388900Z"
    }
   },
   "outputs": [
    {
     "data": {
      "application/vnd.jupyter.widget-view+json": {
       "model_id": "09a05bf2d4b34a0cb8be987754d3df78",
       "version_major": 2,
       "version_minor": 0
      },
      "text/plain": [
       "Map:   0%|          | 0/2261 [00:00<?, ? examples/s]"
      ]
     },
     "metadata": {},
     "output_type": "display_data"
    },
    {
     "name": "stdout",
     "output_type": "stream",
     "text": [
      "[{'role': 'system', 'content': \"You are an expert in financial sentiment analysis. Your task is to accurately classify the sentiment of financial statements as negative, positive, or neutral. Consider the overall impact and implications of the statement when making your classification. If the amount of money, market share, or key performance indicators are not explicitly increasing or decreasing, respond with neutral. Consider terms like 'growth', 'decline', 'improvement', or 'deterioration' as indicators of change.\"}, {'role': 'user', 'content': \"Your task is to analyze the sentiment (from an investor's perspective) of the text below.\\nRespond with a single word: negative, positive, or neutral\\nTEXT: According to Gran , the company has no plans to move all production to Russia , although that is where the company is growing .\\nRespond with a single word: negative, positive, or neutral\"}, {'role': 'assistant', 'content': 'neutral'}, {'role': 'user', 'content': \"Your task is to analyze the sentiment (from an investor's perspective) of the text below.\\nRespond with a single word: negative, positive, or neutral\\nTEXT: For the last quarter of 2010 , Componenta 's net sales doubled to EUR131m from EUR76m for the same period a year earlier , while it moved to a zero pre-tax profit from a pre-tax loss of EUR7m .\\nRespond with a single word: negative, positive, or neutral\"}, {'role': 'assistant', 'content': 'positive'}, {'role': 'user', 'content': \"Your task is to analyze the sentiment (from an investor's perspective) of the text below.\\nRespond with a single word: negative, positive, or neutral\\nTEXT: Jan. 6 -- Ford is struggling in the face of slowing truck and SUV sales and a surfeit of up-to-date , gotta-have cars .\\nRespond with a single word: negative, positive, or neutral\"}, {'role': 'assistant', 'content': 'negative'}, {'role': 'user', 'content': \"Your task is to analyze the sentiment (from an investor's perspective) of the text below.\\nRespond with a single word: negative, positive, or neutral\\nTEXT: In the third quarter of 2010 , net sales increased by 5.2 % to EUR 205.5 mn , and operating profit by 34.9 % to EUR 23.5 mn .\\nRespond with a single word: negative, positive, or neutral\"}]\n"
     ]
    }
   ],
   "source": [
    "df, acc = few_shot_responses(promptF_ds, promptJ, examples, sp=sp)"
   ]
  },
  {
   "cell_type": "markdown",
   "metadata": {},
   "source": [
    "Awesome!! I've broken the 90% mark with that system prompt."
   ]
  },
  {
   "cell_type": "code",
   "execution_count": 33,
   "metadata": {
    "execution": {
     "iopub.execute_input": "2024-09-11T20:50:42.169372Z",
     "iopub.status.busy": "2024-09-11T20:50:42.169112Z",
     "iopub.status.idle": "2024-09-11T20:50:42.173867Z",
     "shell.execute_reply": "2024-09-11T20:50:42.173092Z",
     "shell.execute_reply.started": "2024-09-11T20:50:42.169354Z"
    }
   },
   "outputs": [
    {
     "data": {
      "text/plain": [
       "0.9000442282176029"
      ]
     },
     "execution_count": 33,
     "metadata": {},
     "output_type": "execute_result"
    }
   ],
   "source": [
    "acc"
   ]
  },
  {
   "cell_type": "markdown",
   "metadata": {},
   "source": [
    "Compared to the previous best-performing prompt O, this prompt yields fewer correct\n",
    "`negative` sentences (294 < 296), more correct `neutral` sentences (1179 > 1145) and thes\n",
    "same number of correct `positive` sentences (562)."
   ]
  },
  {
   "cell_type": "code",
   "execution_count": 34,
   "metadata": {
    "execution": {
     "iopub.execute_input": "2024-09-11T20:51:06.153343Z",
     "iopub.status.busy": "2024-09-11T20:51:06.152418Z",
     "iopub.status.idle": "2024-09-11T20:51:06.239716Z",
     "shell.execute_reply": "2024-09-11T20:51:06.239033Z",
     "shell.execute_reply.started": "2024-09-11T20:51:06.153341Z"
    }
   },
   "outputs": [
    {
     "data": {
      "image/png": "[encoded data removed]",
      "text/plain": [
       "<Figure size 576x576 with 1 Axes>"
      ]
     },
     "metadata": {
      "needs_background": "light"
     },
     "output_type": "display_data"
    }
   ],
   "source": [
    "make_cm(df)"
   ]
  },
  {
   "cell_type": "code",
   "execution_count": 35,
   "metadata": {
    "execution": {
     "iopub.execute_input": "2024-09-11T20:53:56.053511Z",
     "iopub.status.busy": "2024-09-11T20:53:56.052770Z",
     "iopub.status.idle": "2024-09-11T20:53:56.079152Z",
     "shell.execute_reply": "2024-09-11T20:53:56.078485Z",
     "shell.execute_reply.started": "2024-09-11T20:53:56.053486Z"
    }
   },
   "outputs": [],
   "source": [
    "df.to_csv('/notebooks/phi-3_P.csv', index=False)"
   ]
  },
  {
   "cell_type": "markdown",
   "metadata": {},
   "source": [
    "## Prompt Q"
   ]
  },
  {
   "cell_type": "markdown",
   "metadata": {},
   "source": [
    "I'll now increase the number of examples to a significantly larger number (20) and see\n",
    "if that improves performance."
   ]
  },
  {
   "cell_type": "code",
   "execution_count": 37,
   "metadata": {
    "execution": {
     "iopub.execute_input": "2024-09-11T21:48:15.832614Z",
     "iopub.status.busy": "2024-09-11T21:48:15.831882Z",
     "iopub.status.idle": "2024-09-11T21:48:15.837026Z",
     "shell.execute_reply": "2024-09-11T21:48:15.836454Z",
     "shell.execute_reply.started": "2024-09-11T21:48:15.832614Z"
    }
   },
   "outputs": [],
   "source": [
    "exclude_idxs = [1, 2, 3, 4, 292, 293, 294, 347, 0, 37, 38, 39, 40, 263, 264, 265, 266, 270, 274, 283]"
   ]
  },
  {
   "cell_type": "code",
   "execution_count": 38,
   "metadata": {
    "execution": {
     "iopub.execute_input": "2024-09-11T21:48:24.139454Z",
     "iopub.status.busy": "2024-09-11T21:48:24.138883Z",
     "iopub.status.idle": "2024-09-11T21:48:24.152244Z",
     "shell.execute_reply": "2024-09-11T21:48:24.151659Z",
     "shell.execute_reply.started": "2024-09-11T21:48:24.139434Z"
    }
   },
   "outputs": [
    {
     "data": {
      "text/plain": [
       "Dataset({\n",
       "    features: ['sentence', 'label', 'label_text', '__index_level_0__'],\n",
       "    num_rows: 2244\n",
       "})"
      ]
     },
     "execution_count": 38,
     "metadata": {},
     "output_type": "execute_result"
    }
   ],
   "source": [
    "promptQ_ds = ds_subset(dataset, exclude_idxs=exclude_idxs, columns=[0, 1, 2])\n",
    "promptQ_ds"
   ]
  },
  {
   "cell_type": "code",
   "execution_count": 39,
   "metadata": {
    "execution": {
     "iopub.execute_input": "2024-09-11T21:48:31.223763Z",
     "iopub.status.busy": "2024-09-11T21:48:31.223095Z",
     "iopub.status.idle": "2024-09-11T21:48:31.231019Z",
     "shell.execute_reply": "2024-09-11T21:48:31.230463Z",
     "shell.execute_reply.started": "2024-09-11T21:48:31.223743Z"
    }
   },
   "outputs": [
    {
     "data": {
      "text/plain": [
       "((\"For the last quarter of 2010 , Componenta 's net sales doubled to EUR131m from EUR76m for the same period a year earlier , while it moved to a zero pre-tax profit from a pre-tax loss of EUR7m .\",\n",
       "  'positive'),\n",
       " 20)"
      ]
     },
     "execution_count": 39,
     "metadata": {},
     "output_type": "execute_result"
    }
   ],
   "source": [
    "examples = []\n",
    "for idx in exclude_idxs:\n",
    "    examples.append((dataset[idx]['sentence'], dataset[idx]['label_text']))\n",
    "\n",
    "examples[0], len(examples)"
   ]
  },
  {
   "cell_type": "code",
   "execution_count": 40,
   "metadata": {
    "execution": {
     "iopub.execute_input": "2024-09-11T21:49:13.932289Z",
     "iopub.status.busy": "2024-09-11T21:49:13.931482Z",
     "iopub.status.idle": "2024-09-11T22:24:45.208921Z",
     "shell.execute_reply": "2024-09-11T22:24:45.208360Z",
     "shell.execute_reply.started": "2024-09-11T21:49:13.932267Z"
    }
   },
   "outputs": [
    {
     "data": {
      "application/vnd.jupyter.widget-view+json": {
       "model_id": "0aa9e6e810f64f4fb84261ac7eb33b2b",
       "version_major": 2,
       "version_minor": 0
      },
      "text/plain": [
       "Map:   0%|          | 0/2244 [00:00<?, ? examples/s]"
      ]
     },
     "metadata": {},
     "output_type": "display_data"
    },
    {
     "name": "stdout",
     "output_type": "stream",
     "text": [
      "[{'role': 'system', 'content': \"You are an expert in financial sentiment analysis. Your task is to accurately classify the sentiment of financial statements as negative, positive, or neutral. Consider the overall impact and implications of the statement when making your classification. If the amount of money, market share, or key performance indicators are not explicitly increasing or decreasing, respond with neutral. Consider terms like 'growth', 'decline', 'improvement', or 'deterioration' as indicators of change.\"}, {'role': 'user', 'content': \"Your task is to analyze the sentiment (from an investor's perspective) of the text below.\\nRespond with a single word: negative, positive, or neutral\\nTEXT: For the last quarter of 2010 , Componenta 's net sales doubled to EUR131m from EUR76m for the same period a year earlier , while it moved to a zero pre-tax profit from a pre-tax loss of EUR7m .\\nRespond with a single word: negative, positive, or neutral\"}, {'role': 'assistant', 'content': 'positive'}, {'role': 'user', 'content': \"Your task is to analyze the sentiment (from an investor's perspective) of the text below.\\nRespond with a single word: negative, positive, or neutral\\nTEXT: In the third quarter of 2010 , net sales increased by 5.2 % to EUR 205.5 mn , and operating profit by 34.9 % to EUR 23.5 mn .\\nRespond with a single word: negative, positive, or neutral\"}, {'role': 'assistant', 'content': 'positive'}, {'role': 'user', 'content': \"Your task is to analyze the sentiment (from an investor's perspective) of the text below.\\nRespond with a single word: negative, positive, or neutral\\nTEXT: Operating profit rose to EUR 13.1 mn from EUR 8.7 mn in the corresponding period in 2007 representing 7.7 % of net sales .\\nRespond with a single word: negative, positive, or neutral\"}, {'role': 'assistant', 'content': 'positive'}, {'role': 'user', 'content': \"Your task is to analyze the sentiment (from an investor's perspective) of the text below.\\nRespond with a single word: negative, positive, or neutral\\nTEXT: Operating profit totalled EUR 21.1 mn , up from EUR 18.6 mn in 2007 , representing 9.7 % of net sales .\\nRespond with a single word: negative, positive, or neutral\"}, {'role': 'assistant', 'content': 'positive'}, {'role': 'user', 'content': \"Your task is to analyze the sentiment (from an investor's perspective) of the text below.\\nRespond with a single word: negative, positive, or neutral\\nTEXT: Jan. 6 -- Ford is struggling in the face of slowing truck and SUV sales and a surfeit of up-to-date , gotta-have cars .\\nRespond with a single word: negative, positive, or neutral\"}, {'role': 'assistant', 'content': 'negative'}, {'role': 'user', 'content': \"Your task is to analyze the sentiment (from an investor's perspective) of the text below.\\nRespond with a single word: negative, positive, or neutral\\nTEXT: Pharmaceuticals group Orion Corp reported a fall in its third-quarter earnings that were hit by larger expenditures on R&D and marketing .\\nRespond with a single word: negative, positive, or neutral\"}, {'role': 'assistant', 'content': 'negative'}, {'role': 'user', 'content': \"Your task is to analyze the sentiment (from an investor's perspective) of the text below.\\nRespond with a single word: negative, positive, or neutral\\nTEXT: However , the growth margin slowed down due to the financial crisis .\\nRespond with a single word: negative, positive, or neutral\"}, {'role': 'assistant', 'content': 'negative'}, {'role': 'user', 'content': \"Your task is to analyze the sentiment (from an investor's perspective) of the text below.\\nRespond with a single word: negative, positive, or neutral\\nTEXT: 2009 3 February 2010 - Finland-based steel maker Rautaruukki Oyj ( HEL : RTRKS ) , or Ruukki , said today it slipped to a larger-than-expected pretax loss of EUR46m in the fourth quarter of 2009 from a year-earlier profit of EUR45m .\\nRespond with a single word: negative, positive, or neutral\"}, {'role': 'assistant', 'content': 'negative'}, {'role': 'user', 'content': \"Your task is to analyze the sentiment (from an investor's perspective) of the text below.\\nRespond with a single word: negative, positive, or neutral\\nTEXT: According to Gran , the company has no plans to move all production to Russia , although that is where the company is growing .\\nRespond with a single word: negative, positive, or neutral\"}, {'role': 'assistant', 'content': 'neutral'}, {'role': 'user', 'content': \"Your task is to analyze the sentiment (from an investor's perspective) of the text below.\\nRespond with a single word: negative, positive, or neutral\\nTEXT: At the request of Finnish media company Alma Media 's newspapers , research manager Jari Kaivo-oja at the Finland Futures Research Centre at the Turku School of Economics has drawn up a future scenario for Finland 's national economy by using a model developed by the University of Denver .\\nRespond with a single word: negative, positive, or neutral\"}, {'role': 'assistant', 'content': 'neutral'}, {'role': 'user', 'content': \"Your task is to analyze the sentiment (from an investor's perspective) of the text below.\\nRespond with a single word: negative, positive, or neutral\\nTEXT: STOCK EXCHANGE ANNOUNCEMENT 20 July 2006 1 ( 1 ) BASWARE SHARE SUBSCRIPTIONS WITH WARRANTS AND INCREASE IN SHARE CAPITAL A total of 119 850 shares have been subscribed with BasWare Warrant Program .\\nRespond with a single word: negative, positive, or neutral\"}, {'role': 'assistant', 'content': 'neutral'}, {'role': 'user', 'content': \"Your task is to analyze the sentiment (from an investor's perspective) of the text below.\\nRespond with a single word: negative, positive, or neutral\\nTEXT: A maximum of 666,104 new shares can further be subscribed for by exercising B options under the 2004 stock option plan .\\nRespond with a single word: negative, positive, or neutral\"}, {'role': 'assistant', 'content': 'neutral'}, {'role': 'user', 'content': \"Your task is to analyze the sentiment (from an investor's perspective) of the text below.\\nRespond with a single word: negative, positive, or neutral\\nTEXT: Tiimari operates 194 stores in six countries -- including its core Finnish market -- and generated a turnover of 76.5 mln eur in 2005 .\\nRespond with a single word: negative, positive, or neutral\"}, {'role': 'assistant', 'content': 'neutral'}, {'role': 'user', 'content': \"Your task is to analyze the sentiment (from an investor's perspective) of the text below.\\nRespond with a single word: negative, positive, or neutral\\nTEXT: Finnish Talvivaara Mining Co HEL : TLV1V said Thursday it had picked BofA Merrill Lynch and JPMorgan NYSE : JPM as joint bookrunners of its planned issue of convertible notes worth up to EUR250m USD332m .\\nRespond with a single word: negative, positive, or neutral\"}, {'role': 'assistant', 'content': 'neutral'}, {'role': 'user', 'content': \"Your task is to analyze the sentiment (from an investor's perspective) of the text below.\\nRespond with a single word: negative, positive, or neutral\\nTEXT: The mall is part of the Baltic Pearl development project in the city of St Petersburg , where Baltic Pearl CJSC , a subsidiary of Shanghai Foreign Joint Investment Company , is developing homes for 35,000 people .\\nRespond with a single word: negative, positive, or neutral\"}, {'role': 'assistant', 'content': 'neutral'}, {'role': 'user', 'content': \"Your task is to analyze the sentiment (from an investor's perspective) of the text below.\\nRespond with a single word: negative, positive, or neutral\\nTEXT: Vacon controls a further 5 % of the company via investment fund Power Fund I. EUR 1.0 = USD 1.397\\nRespond with a single word: negative, positive, or neutral\"}, {'role': 'assistant', 'content': 'neutral'}, {'role': 'user', 'content': \"Your task is to analyze the sentiment (from an investor's perspective) of the text below.\\nRespond with a single word: negative, positive, or neutral\\nTEXT: 4 ) Complete name of the shareholder : Otto Henrik Bernhard Nyberg 5 ) Further information : The amount of shares now transferred corresponds to 5.68 % of the total number of shares in Aspo Plc. .\\nRespond with a single word: negative, positive, or neutral\"}, {'role': 'assistant', 'content': 'neutral'}, {'role': 'user', 'content': \"Your task is to analyze the sentiment (from an investor's perspective) of the text below.\\nRespond with a single word: negative, positive, or neutral\\nTEXT: It has some 30 offices worldwide and more than 90 pct of its net sales are generated outside Finland .\\nRespond with a single word: negative, positive, or neutral\"}, {'role': 'assistant', 'content': 'neutral'}, {'role': 'user', 'content': \"Your task is to analyze the sentiment (from an investor's perspective) of the text below.\\nRespond with a single word: negative, positive, or neutral\\nTEXT: The contract value amounts to about EUR11m , the company added .\\nRespond with a single word: negative, positive, or neutral\"}, {'role': 'assistant', 'content': 'neutral'}, {'role': 'user', 'content': \"Your task is to analyze the sentiment (from an investor's perspective) of the text below.\\nRespond with a single word: negative, positive, or neutral\\nTEXT: The business to be divested generates consolidated net sales of EUR 60 million annually and currently has some 640 employees .\\nRespond with a single word: negative, positive, or neutral\"}, {'role': 'assistant', 'content': 'neutral'}, {'role': 'user', 'content': \"Your task is to analyze the sentiment (from an investor's perspective) of the text below.\\nRespond with a single word: negative, positive, or neutral\\nTEXT: Finnish Talentum reports its operating profit increased to EUR 20.5 mn in 2005 from EUR 9.3 mn in 2004 , and net sales totaled EUR 103.3 mn , up from EUR 96.4 mn .\\nRespond with a single word: negative, positive, or neutral\"}]\n"
     ]
    }
   ],
   "source": [
    "df, acc = few_shot_responses(promptQ_ds, promptJ, examples, sp=sp)"
   ]
  },
  {
   "cell_type": "markdown",
   "metadata": {},
   "source": [
    "Another improvement! I am now pretty close to phi-2's accuracy (91.94%)."
   ]
  },
  {
   "cell_type": "code",
   "execution_count": 41,
   "metadata": {
    "execution": {
     "iopub.execute_input": "2024-09-11T22:35:34.612544Z",
     "iopub.status.busy": "2024-09-11T22:35:34.611824Z",
     "iopub.status.idle": "2024-09-11T22:35:34.617153Z",
     "shell.execute_reply": "2024-09-11T22:35:34.616481Z",
     "shell.execute_reply.started": "2024-09-11T22:35:34.612486Z"
    }
   },
   "outputs": [
    {
     "data": {
      "text/plain": [
       "0.9171122994652406"
      ]
     },
     "execution_count": 41,
     "metadata": {},
     "output_type": "execute_result"
    }
   ],
   "source": [
    "acc"
   ]
  },
  {
   "cell_type": "markdown",
   "metadata": {},
   "source": [
    "Compared to Prompt P, this prompt yields a lower true positive rate for `negative` (291 < 294) \n",
    "and `positive` (541 < 562) sentiment but more than compensates for that with an increased \n",
    "true positive rate for `neutral` sentiment (1226 > 1179)."
   ]
  },
  {
   "cell_type": "code",
   "execution_count": 42,
   "metadata": {
    "execution": {
     "iopub.execute_input": "2024-09-11T22:36:10.170897Z",
     "iopub.status.busy": "2024-09-11T22:36:10.170381Z",
     "iopub.status.idle": "2024-09-11T22:36:10.256802Z",
     "shell.execute_reply": "2024-09-11T22:36:10.256182Z",
     "shell.execute_reply.started": "2024-09-11T22:36:10.170879Z"
    }
   },
   "outputs": [
    {
     "data": {
      "image/png": "[encoded data removed]",
      "text/plain": [
       "<Figure size 576x576 with 1 Axes>"
      ]
     },
     "metadata": {
      "needs_background": "light"
     },
     "output_type": "display_data"
    }
   ],
   "source": [
    "make_cm(df)"
   ]
  },
  {
   "cell_type": "code",
   "execution_count": 43,
   "metadata": {
    "execution": {
     "iopub.execute_input": "2024-09-11T22:36:16.290631Z",
     "iopub.status.busy": "2024-09-11T22:36:16.289695Z",
     "iopub.status.idle": "2024-09-11T22:36:16.313181Z",
     "shell.execute_reply": "2024-09-11T22:36:16.312515Z",
     "shell.execute_reply.started": "2024-09-11T22:36:16.290602Z"
    }
   },
   "outputs": [],
   "source": [
    "df.to_csv('/notebooks/phi-3_Q.csv', index=False)"
   ]
  },
  {
   "cell_type": "markdown",
   "metadata": {},
   "source": [
    "## Prompt R"
   ]
  },
  {
   "cell_type": "markdown",
   "metadata": {},
   "source": [
    "I'll increase the number of examples and see if that improves performance."
   ]
  },
  {
   "cell_type": "code",
   "execution_count": 16,
   "metadata": {
    "execution": {
     "iopub.execute_input": "2024-09-11T23:10:23.125814Z",
     "iopub.status.busy": "2024-09-11T23:10:23.125254Z",
     "iopub.status.idle": "2024-09-11T23:10:23.129052Z",
     "shell.execute_reply": "2024-09-11T23:10:23.128574Z",
     "shell.execute_reply.started": "2024-09-11T23:10:23.125785Z"
    }
   },
   "outputs": [],
   "source": [
    "exclude_idxs = [\n",
    "    1, 2, 3, 4, 5, 6, # positive\n",
    "    292, 293, 294, 347, 348, 349, # negative\n",
    "    0, 37, 38, 39, 40, 263, 264, 265, 266, 270, 274, 283, 284, 285, 286, 287, 288, 289 # neutral\n",
    "]"
   ]
  },
  {
   "cell_type": "code",
   "execution_count": 17,
   "metadata": {
    "execution": {
     "iopub.execute_input": "2024-09-11T23:10:25.272973Z",
     "iopub.status.busy": "2024-09-11T23:10:25.272145Z",
     "iopub.status.idle": "2024-09-11T23:10:25.280122Z",
     "shell.execute_reply": "2024-09-11T23:10:25.279564Z",
     "shell.execute_reply.started": "2024-09-11T23:10:25.272944Z"
    }
   },
   "outputs": [
    {
     "data": {
      "text/plain": [
       "((\"For the last quarter of 2010 , Componenta 's net sales doubled to EUR131m from EUR76m for the same period a year earlier , while it moved to a zero pre-tax profit from a pre-tax loss of EUR7m .\",\n",
       "  'positive'),\n",
       " 30)"
      ]
     },
     "execution_count": 17,
     "metadata": {},
     "output_type": "execute_result"
    }
   ],
   "source": [
    "examples = []\n",
    "for idx in exclude_idxs:\n",
    "    examples.append((dataset[idx]['sentence'], dataset[idx]['label_text']))\n",
    "\n",
    "examples[0], len(examples)"
   ]
  },
  {
   "cell_type": "code",
   "execution_count": 18,
   "metadata": {
    "execution": {
     "iopub.execute_input": "2024-09-11T23:10:27.805790Z",
     "iopub.status.busy": "2024-09-11T23:10:27.805059Z",
     "iopub.status.idle": "2024-09-11T23:10:27.818831Z",
     "shell.execute_reply": "2024-09-11T23:10:27.818412Z",
     "shell.execute_reply.started": "2024-09-11T23:10:27.805766Z"
    }
   },
   "outputs": [
    {
     "data": {
      "text/plain": [
       "Dataset({\n",
       "    features: ['sentence', 'label', 'label_text', '__index_level_0__'],\n",
       "    num_rows: 2234\n",
       "})"
      ]
     },
     "execution_count": 18,
     "metadata": {},
     "output_type": "execute_result"
    }
   ],
   "source": [
    "promptR_ds = ds_subset(dataset, exclude_idxs=exclude_idxs, columns=[0, 1, 2])\n",
    "promptR_ds"
   ]
  },
  {
   "cell_type": "code",
   "execution_count": 19,
   "metadata": {
    "execution": {
     "iopub.execute_input": "2024-09-11T23:10:32.377965Z",
     "iopub.status.busy": "2024-09-11T23:10:32.377110Z",
     "iopub.status.idle": "2024-09-12T00:12:06.347855Z",
     "shell.execute_reply": "2024-09-12T00:12:06.347151Z",
     "shell.execute_reply.started": "2024-09-11T23:10:32.377937Z"
    }
   },
   "outputs": [
    {
     "data": {
      "application/vnd.jupyter.widget-view+json": {
       "model_id": "db465add5f944fab84d766a95730c8d9",
       "version_major": 2,
       "version_minor": 0
      },
      "text/plain": [
       "Map:   0%|          | 0/2234 [00:00<?, ? examples/s]"
      ]
     },
     "metadata": {},
     "output_type": "display_data"
    },
    {
     "name": "stdout",
     "output_type": "stream",
     "text": [
      "[{'role': 'system', 'content': \"You are an expert in financial sentiment analysis. Your task is to accurately classify the sentiment of financial statements as negative, positive, or neutral. Consider the overall impact and implications of the statement when making your classification. If the amount of money, market share, or key performance indicators are not explicitly increasing or decreasing, respond with neutral. Consider terms like 'growth', 'decline', 'improvement', or 'deterioration' as indicators of change.\"}, {'role': 'user', 'content': \"Your task is to analyze the sentiment (from an investor's perspective) of the text below.\\nRespond with a single word: negative, positive, or neutral\\nTEXT: For the last quarter of 2010 , Componenta 's net sales doubled to EUR131m from EUR76m for the same period a year earlier , while it moved to a zero pre-tax profit from a pre-tax loss of EUR7m .\\nRespond with a single word: negative, positive, or neutral\"}, {'role': 'assistant', 'content': 'positive'}, {'role': 'user', 'content': \"Your task is to analyze the sentiment (from an investor's perspective) of the text below.\\nRespond with a single word: negative, positive, or neutral\\nTEXT: In the third quarter of 2010 , net sales increased by 5.2 % to EUR 205.5 mn , and operating profit by 34.9 % to EUR 23.5 mn .\\nRespond with a single word: negative, positive, or neutral\"}, {'role': 'assistant', 'content': 'positive'}, {'role': 'user', 'content': \"Your task is to analyze the sentiment (from an investor's perspective) of the text below.\\nRespond with a single word: negative, positive, or neutral\\nTEXT: Operating profit rose to EUR 13.1 mn from EUR 8.7 mn in the corresponding period in 2007 representing 7.7 % of net sales .\\nRespond with a single word: negative, positive, or neutral\"}, {'role': 'assistant', 'content': 'positive'}, {'role': 'user', 'content': \"Your task is to analyze the sentiment (from an investor's perspective) of the text below.\\nRespond with a single word: negative, positive, or neutral\\nTEXT: Operating profit totalled EUR 21.1 mn , up from EUR 18.6 mn in 2007 , representing 9.7 % of net sales .\\nRespond with a single word: negative, positive, or neutral\"}, {'role': 'assistant', 'content': 'positive'}, {'role': 'user', 'content': \"Your task is to analyze the sentiment (from an investor's perspective) of the text below.\\nRespond with a single word: negative, positive, or neutral\\nTEXT: Finnish Talentum reports its operating profit increased to EUR 20.5 mn in 2005 from EUR 9.3 mn in 2004 , and net sales totaled EUR 103.3 mn , up from EUR 96.4 mn .\\nRespond with a single word: negative, positive, or neutral\"}, {'role': 'assistant', 'content': 'positive'}, {'role': 'user', 'content': \"Your task is to analyze the sentiment (from an investor's perspective) of the text below.\\nRespond with a single word: negative, positive, or neutral\\nTEXT: Clothing retail chain Sepp+ñl+ñ 's sales increased by 8 % to EUR 155.2 mn , and operating profit rose to EUR 31.1 mn from EUR 17.1 mn in 2004 .\\nRespond with a single word: negative, positive, or neutral\"}, {'role': 'assistant', 'content': 'positive'}, {'role': 'user', 'content': \"Your task is to analyze the sentiment (from an investor's perspective) of the text below.\\nRespond with a single word: negative, positive, or neutral\\nTEXT: Jan. 6 -- Ford is struggling in the face of slowing truck and SUV sales and a surfeit of up-to-date , gotta-have cars .\\nRespond with a single word: negative, positive, or neutral\"}, {'role': 'assistant', 'content': 'negative'}, {'role': 'user', 'content': \"Your task is to analyze the sentiment (from an investor's perspective) of the text below.\\nRespond with a single word: negative, positive, or neutral\\nTEXT: Pharmaceuticals group Orion Corp reported a fall in its third-quarter earnings that were hit by larger expenditures on R&D and marketing .\\nRespond with a single word: negative, positive, or neutral\"}, {'role': 'assistant', 'content': 'negative'}, {'role': 'user', 'content': \"Your task is to analyze the sentiment (from an investor's perspective) of the text below.\\nRespond with a single word: negative, positive, or neutral\\nTEXT: However , the growth margin slowed down due to the financial crisis .\\nRespond with a single word: negative, positive, or neutral\"}, {'role': 'assistant', 'content': 'negative'}, {'role': 'user', 'content': \"Your task is to analyze the sentiment (from an investor's perspective) of the text below.\\nRespond with a single word: negative, positive, or neutral\\nTEXT: 2009 3 February 2010 - Finland-based steel maker Rautaruukki Oyj ( HEL : RTRKS ) , or Ruukki , said today it slipped to a larger-than-expected pretax loss of EUR46m in the fourth quarter of 2009 from a year-earlier profit of EUR45m .\\nRespond with a single word: negative, positive, or neutral\"}, {'role': 'assistant', 'content': 'negative'}, {'role': 'user', 'content': \"Your task is to analyze the sentiment (from an investor's perspective) of the text below.\\nRespond with a single word: negative, positive, or neutral\\nTEXT: ( ADPnews ) - Feb 3 , 2010 - Finland-based steel maker Rautaruukki Oyj ( HEL : RTRKS ) , or Ruukki , said today it slipped to a larger-than-expected pretax loss of EUR 46 million ( USD 64.5 m ) in the fourth quarter of 2009 from a\\nRespond with a single word: negative, positive, or neutral\"}, {'role': 'assistant', 'content': 'negative'}, {'role': 'user', 'content': \"Your task is to analyze the sentiment (from an investor's perspective) of the text below.\\nRespond with a single word: negative, positive, or neutral\\nTEXT: Result before taxes decreased to nearly EUR 14.5 mn , compared to nearly EUR 20mn in the previous accounting period .\\nRespond with a single word: negative, positive, or neutral\"}, {'role': 'assistant', 'content': 'negative'}, {'role': 'user', 'content': \"Your task is to analyze the sentiment (from an investor's perspective) of the text below.\\nRespond with a single word: negative, positive, or neutral\\nTEXT: According to Gran , the company has no plans to move all production to Russia , although that is where the company is growing .\\nRespond with a single word: negative, positive, or neutral\"}, {'role': 'assistant', 'content': 'neutral'}, {'role': 'user', 'content': \"Your task is to analyze the sentiment (from an investor's perspective) of the text below.\\nRespond with a single word: negative, positive, or neutral\\nTEXT: At the request of Finnish media company Alma Media 's newspapers , research manager Jari Kaivo-oja at the Finland Futures Research Centre at the Turku School of Economics has drawn up a future scenario for Finland 's national economy by using a model developed by the University of Denver .\\nRespond with a single word: negative, positive, or neutral\"}, {'role': 'assistant', 'content': 'neutral'}, {'role': 'user', 'content': \"Your task is to analyze the sentiment (from an investor's perspective) of the text below.\\nRespond with a single word: negative, positive, or neutral\\nTEXT: STOCK EXCHANGE ANNOUNCEMENT 20 July 2006 1 ( 1 ) BASWARE SHARE SUBSCRIPTIONS WITH WARRANTS AND INCREASE IN SHARE CAPITAL A total of 119 850 shares have been subscribed with BasWare Warrant Program .\\nRespond with a single word: negative, positive, or neutral\"}, {'role': 'assistant', 'content': 'neutral'}, {'role': 'user', 'content': \"Your task is to analyze the sentiment (from an investor's perspective) of the text below.\\nRespond with a single word: negative, positive, or neutral\\nTEXT: A maximum of 666,104 new shares can further be subscribed for by exercising B options under the 2004 stock option plan .\\nRespond with a single word: negative, positive, or neutral\"}, {'role': 'assistant', 'content': 'neutral'}, {'role': 'user', 'content': \"Your task is to analyze the sentiment (from an investor's perspective) of the text below.\\nRespond with a single word: negative, positive, or neutral\\nTEXT: Tiimari operates 194 stores in six countries -- including its core Finnish market -- and generated a turnover of 76.5 mln eur in 2005 .\\nRespond with a single word: negative, positive, or neutral\"}, {'role': 'assistant', 'content': 'neutral'}, {'role': 'user', 'content': \"Your task is to analyze the sentiment (from an investor's perspective) of the text below.\\nRespond with a single word: negative, positive, or neutral\\nTEXT: Finnish Talvivaara Mining Co HEL : TLV1V said Thursday it had picked BofA Merrill Lynch and JPMorgan NYSE : JPM as joint bookrunners of its planned issue of convertible notes worth up to EUR250m USD332m .\\nRespond with a single word: negative, positive, or neutral\"}, {'role': 'assistant', 'content': 'neutral'}, {'role': 'user', 'content': \"Your task is to analyze the sentiment (from an investor's perspective) of the text below.\\nRespond with a single word: negative, positive, or neutral\\nTEXT: The mall is part of the Baltic Pearl development project in the city of St Petersburg , where Baltic Pearl CJSC , a subsidiary of Shanghai Foreign Joint Investment Company , is developing homes for 35,000 people .\\nRespond with a single word: negative, positive, or neutral\"}, {'role': 'assistant', 'content': 'neutral'}, {'role': 'user', 'content': \"Your task is to analyze the sentiment (from an investor's perspective) of the text below.\\nRespond with a single word: negative, positive, or neutral\\nTEXT: Vacon controls a further 5 % of the company via investment fund Power Fund I. EUR 1.0 = USD 1.397\\nRespond with a single word: negative, positive, or neutral\"}, {'role': 'assistant', 'content': 'neutral'}, {'role': 'user', 'content': \"Your task is to analyze the sentiment (from an investor's perspective) of the text below.\\nRespond with a single word: negative, positive, or neutral\\nTEXT: 4 ) Complete name of the shareholder : Otto Henrik Bernhard Nyberg 5 ) Further information : The amount of shares now transferred corresponds to 5.68 % of the total number of shares in Aspo Plc. .\\nRespond with a single word: negative, positive, or neutral\"}, {'role': 'assistant', 'content': 'neutral'}, {'role': 'user', 'content': \"Your task is to analyze the sentiment (from an investor's perspective) of the text below.\\nRespond with a single word: negative, positive, or neutral\\nTEXT: It has some 30 offices worldwide and more than 90 pct of its net sales are generated outside Finland .\\nRespond with a single word: negative, positive, or neutral\"}, {'role': 'assistant', 'content': 'neutral'}, {'role': 'user', 'content': \"Your task is to analyze the sentiment (from an investor's perspective) of the text below.\\nRespond with a single word: negative, positive, or neutral\\nTEXT: The contract value amounts to about EUR11m , the company added .\\nRespond with a single word: negative, positive, or neutral\"}, {'role': 'assistant', 'content': 'neutral'}, {'role': 'user', 'content': \"Your task is to analyze the sentiment (from an investor's perspective) of the text below.\\nRespond with a single word: negative, positive, or neutral\\nTEXT: The business to be divested generates consolidated net sales of EUR 60 million annually and currently has some 640 employees .\\nRespond with a single word: negative, positive, or neutral\"}, {'role': 'assistant', 'content': 'neutral'}, {'role': 'user', 'content': \"Your task is to analyze the sentiment (from an investor's perspective) of the text below.\\nRespond with a single word: negative, positive, or neutral\\nTEXT: The company generates net sales of about 600 mln euro $ 775.5 mln annually and employs 6,000 .\\nRespond with a single word: negative, positive, or neutral\"}, {'role': 'assistant', 'content': 'neutral'}, {'role': 'user', 'content': \"Your task is to analyze the sentiment (from an investor's perspective) of the text below.\\nRespond with a single word: negative, positive, or neutral\\nTEXT: The contract covers the manufacturing , surface-treatment and installation of the steel structures .\\nRespond with a single word: negative, positive, or neutral\"}, {'role': 'assistant', 'content': 'neutral'}, {'role': 'user', 'content': \"Your task is to analyze the sentiment (from an investor's perspective) of the text below.\\nRespond with a single word: negative, positive, or neutral\\nTEXT: The order also includes start-up and commissioning services .\\nRespond with a single word: negative, positive, or neutral\"}, {'role': 'assistant', 'content': 'neutral'}, {'role': 'user', 'content': \"Your task is to analyze the sentiment (from an investor's perspective) of the text below.\\nRespond with a single word: negative, positive, or neutral\\nTEXT: The phones are targeted at first time users in growth markets .\\nRespond with a single word: negative, positive, or neutral\"}, {'role': 'assistant', 'content': 'neutral'}, {'role': 'user', 'content': \"Your task is to analyze the sentiment (from an investor's perspective) of the text below.\\nRespond with a single word: negative, positive, or neutral\\nTEXT: Tielinja generated net sales of 7.5 mln euro $ 9.6 mln in 2005 .\\nRespond with a single word: negative, positive, or neutral\"}, {'role': 'assistant', 'content': 'neutral'}, {'role': 'user', 'content': \"Your task is to analyze the sentiment (from an investor's perspective) of the text below.\\nRespond with a single word: negative, positive, or neutral\\nTEXT: Tikkurila Powder Coatings has some 50 employees at its four paint plants , which generated revenues of EUR2 .4 m USD3 .3 m in 2010 .\\nRespond with a single word: negative, positive, or neutral\"}, {'role': 'assistant', 'content': 'neutral'}, {'role': 'user', 'content': \"Your task is to analyze the sentiment (from an investor's perspective) of the text below.\\nRespond with a single word: negative, positive, or neutral\\nTEXT: Consolidated net sales increased 16 % to reach EUR74 .8 m , while operating profit amounted to EUR0 .9 m compared to a loss of EUR0 .7 m in the prior year period .\\nRespond with a single word: negative, positive, or neutral\"}]\n"
     ]
    },
    {
     "name": "stderr",
     "output_type": "stream",
     "text": [
      "You are not running the flash-attention implementation, expect numerical differences.\n",
      "You seem to be using the pipelines sequentially on GPU. In order to maximize efficiency please use a dataset\n"
     ]
    }
   ],
   "source": [
    "df, acc = few_shot_responses(promptR_ds, promptJ, examples, sp=sp)"
   ]
  },
  {
   "cell_type": "markdown",
   "metadata": {},
   "source": [
    "And with that I have surpassed phi-2!"
   ]
  },
  {
   "cell_type": "code",
   "execution_count": 20,
   "metadata": {
    "execution": {
     "iopub.execute_input": "2024-09-12T00:12:06.349595Z",
     "iopub.status.busy": "2024-09-12T00:12:06.349154Z",
     "iopub.status.idle": "2024-09-12T00:12:06.353708Z",
     "shell.execute_reply": "2024-09-12T00:12:06.352949Z",
     "shell.execute_reply.started": "2024-09-12T00:12:06.349576Z"
    }
   },
   "outputs": [
    {
     "data": {
      "text/plain": [
       "0.9279319606087735"
      ]
     },
     "execution_count": 20,
     "metadata": {},
     "output_type": "execute_result"
    }
   ],
   "source": [
    "acc"
   ]
  },
  {
   "cell_type": "markdown",
   "metadata": {},
   "source": [
    "Compared to Prompt P, this prompt yields a lower true positive rate for `negative` (290 < 294) \n",
    "and `positive` (499 < 562) sentiment but like Prompt Q, more than compensates for that with an increased \n",
    "true positive rate for `neutral` sentiment (1284 > 1179)."
   ]
  },
  {
   "cell_type": "code",
   "execution_count": 21,
   "metadata": {
    "execution": {
     "iopub.execute_input": "2024-09-12T00:12:06.355026Z",
     "iopub.status.busy": "2024-09-12T00:12:06.354822Z",
     "iopub.status.idle": "2024-09-12T00:12:06.454528Z",
     "shell.execute_reply": "2024-09-12T00:12:06.453827Z",
     "shell.execute_reply.started": "2024-09-12T00:12:06.355011Z"
    }
   },
   "outputs": [
    {
     "data": {
      "image/png": "[encoded data removed]",
      "text/plain": [
       "<Figure size 576x576 with 1 Axes>"
      ]
     },
     "metadata": {
      "needs_background": "light"
     },
     "output_type": "display_data"
    }
   ],
   "source": [
    "make_cm(df)"
   ]
  },
  {
   "cell_type": "code",
   "execution_count": 22,
   "metadata": {
    "execution": {
     "iopub.execute_input": "2024-09-12T00:12:06.456275Z",
     "iopub.status.busy": "2024-09-12T00:12:06.456057Z",
     "iopub.status.idle": "2024-09-12T00:12:06.479548Z",
     "shell.execute_reply": "2024-09-12T00:12:06.478906Z",
     "shell.execute_reply.started": "2024-09-12T00:12:06.456257Z"
    }
   },
   "outputs": [],
   "source": [
    "df.to_csv('/notebooks/phi-3_R.csv', index=False)"
   ]
  },
  {
   "cell_type": "markdown",
   "metadata": {},
   "source": [
    "## Running Inference with the Best Prompt Multiple Times"
   ]
  },
  {
   "cell_type": "code",
   "execution_count": 9,
   "metadata": {
    "execution": {
     "iopub.execute_input": "2024-09-12T03:38:47.979665Z",
     "iopub.status.busy": "2024-09-12T03:38:47.979505Z",
     "iopub.status.idle": "2024-09-12T03:38:47.982954Z",
     "shell.execute_reply": "2024-09-12T03:38:47.982335Z",
     "shell.execute_reply.started": "2024-09-12T03:38:47.979650Z"
    }
   },
   "outputs": [],
   "source": [
    "exclude_idxs = [\n",
    "    1, 2, 3, 4, 5, 6, # positive\n",
    "    292, 293, 294, 347, 348, 349, # negative\n",
    "    0, 37, 38, 39, 40, 263, 264, 265, 266, 270, 274, 283, 284, 285, 286, 287, 288, 289 # neutral\n",
    "]"
   ]
  },
  {
   "cell_type": "code",
   "execution_count": 10,
   "metadata": {
    "execution": {
     "iopub.execute_input": "2024-09-12T03:38:47.983842Z",
     "iopub.status.busy": "2024-09-12T03:38:47.983683Z",
     "iopub.status.idle": "2024-09-12T03:38:47.994406Z",
     "shell.execute_reply": "2024-09-12T03:38:47.993865Z",
     "shell.execute_reply.started": "2024-09-12T03:38:47.983828Z"
    }
   },
   "outputs": [
    {
     "data": {
      "text/plain": [
       "30"
      ]
     },
     "execution_count": 10,
     "metadata": {},
     "output_type": "execute_result"
    }
   ],
   "source": [
    "examples = []\n",
    "for idx in exclude_idxs:\n",
    "    examples.append((dataset[idx]['sentence'], dataset[idx]['label_text']))\n",
    "\n",
    "len(examples)"
   ]
  },
  {
   "cell_type": "code",
   "execution_count": 11,
   "metadata": {
    "execution": {
     "iopub.execute_input": "2024-09-12T03:38:47.996130Z",
     "iopub.status.busy": "2024-09-12T03:38:47.995952Z",
     "iopub.status.idle": "2024-09-12T03:38:48.019102Z",
     "shell.execute_reply": "2024-09-12T03:38:48.018673Z",
     "shell.execute_reply.started": "2024-09-12T03:38:47.996115Z"
    }
   },
   "outputs": [
    {
     "data": {
      "text/plain": [
       "Dataset({\n",
       "    features: ['sentence', 'label', 'label_text', '__index_level_0__'],\n",
       "    num_rows: 2234\n",
       "})"
      ]
     },
     "execution_count": 11,
     "metadata": {},
     "output_type": "execute_result"
    }
   ],
   "source": [
    "promptR_ds = ds_subset(dataset, exclude_idxs=exclude_idxs, columns=[0, 1, 2])\n",
    "promptR_ds"
   ]
  },
  {
   "cell_type": "code",
   "execution_count": 12,
   "metadata": {
    "execution": {
     "iopub.execute_input": "2024-09-12T03:38:48.019989Z",
     "iopub.status.busy": "2024-09-12T03:38:48.019825Z",
     "iopub.status.idle": "2024-09-12T03:38:48.022582Z",
     "shell.execute_reply": "2024-09-12T03:38:48.022139Z",
     "shell.execute_reply.started": "2024-09-12T03:38:48.019975Z"
    }
   },
   "outputs": [],
   "source": [
    "promptJ = \"\"\"Your task is to analyze the sentiment (from an investor's perspective) of the text below.\n",
    "Respond with a single word: negative, positive, or neutral\n",
    "TEXT: {text}\n",
    "Respond with a single word: negative, positive, or neutral\"\"\""
   ]
  },
  {
   "cell_type": "code",
   "execution_count": 13,
   "metadata": {
    "execution": {
     "iopub.execute_input": "2024-09-12T03:39:05.094316Z",
     "iopub.status.busy": "2024-09-12T03:39:05.093827Z",
     "iopub.status.idle": "2024-09-12T03:39:05.096980Z",
     "shell.execute_reply": "2024-09-12T03:39:05.096604Z",
     "shell.execute_reply.started": "2024-09-12T03:39:05.094298Z"
    }
   },
   "outputs": [],
   "source": [
    "sp = \"You are an expert in financial sentiment analysis. Your task is to accurately classify the sentiment of financial statements as negative, positive, or neutral. Consider the overall impact and implications of the statement when making your classification. If the amount of money, market share, or key performance indicators are not explicitly increasing or decreasing, respond with neutral. Consider terms like 'growth', 'decline', 'improvement', or 'deterioration' as indicators of change.\""
   ]
  },
  {
   "cell_type": "code",
   "execution_count": 14,
   "metadata": {
    "execution": {
     "iopub.execute_input": "2024-09-12T03:39:12.437882Z",
     "iopub.status.busy": "2024-09-12T03:39:12.437616Z",
     "iopub.status.idle": "2024-09-12T03:39:12.441983Z",
     "shell.execute_reply": "2024-09-12T03:39:12.441400Z",
     "shell.execute_reply.started": "2024-09-12T03:39:12.437864Z"
    }
   },
   "outputs": [
    {
     "name": "stdout",
     "output_type": "stream",
     "text": [
      "You are an expert in financial sentiment analysis. Your task is to accurately classify the sentiment of financial statements as negative, positive, or neutral. Consider the overall impact and implications of the statement when making your classification. If the amount of money, market share, or key performance indicators are not explicitly increasing or decreasing, respond with neutral. Consider terms like 'growth', 'decline', 'improvement', or 'deterioration' as indicators of change.\n"
     ]
    }
   ],
   "source": [
    "print(sp)"
   ]
  },
  {
   "cell_type": "code",
   "execution_count": 18,
   "metadata": {
    "execution": {
     "iopub.execute_input": "2024-09-12T03:41:39.921805Z",
     "iopub.status.busy": "2024-09-12T03:41:39.921194Z",
     "iopub.status.idle": "2024-09-12T03:41:39.926446Z",
     "shell.execute_reply": "2024-09-12T03:41:39.925853Z",
     "shell.execute_reply.started": "2024-09-12T03:41:39.921781Z"
    }
   },
   "outputs": [],
   "source": [
    "#| code-fold: true\n",
    "#| code-summary: \"Show `test_gen` function\"\n",
    "def test_gen(examples, sp):\n",
    "    responses = []\n",
    "\n",
    "    few_shot_examples = []\n",
    "    \n",
    "    for example in examples:\n",
    "        few_shot_examples.append({\"role\": \"user\", \"content\": promptJ.format(text=example[0])})\n",
    "        few_shot_examples.append({\"role\": \"assistant\", \"content\": example[1]})\n",
    "    \n",
    "\n",
    "\n",
    "    messages = [{'role': 'system', 'content': sp}] + few_shot_examples + [{\"role\": \"user\", \"content\": promptJ.format(text=dataset[0]['sentence'])}]\n",
    "\n",
    "\n",
    "    generation_args = { \n",
    "        \"max_new_tokens\": 2, \n",
    "        \"return_full_text\": False, \n",
    "        \"temperature\": 0.1, \n",
    "        \"do_sample\": True, \n",
    "    } \n",
    "\n",
    "    response = pipe(messages, **generation_args) \n",
    "    responses.append(response[0]['generated_text'].strip().lower())\n",
    "    return responses"
   ]
  },
  {
   "cell_type": "markdown",
   "metadata": {},
   "source": [
    "The model takes about 1.64 seconds to generate a response for a single dataset item, or about 1.01 hours for the 2234 items (on a Paperspace Free-A4000). \n",
    "Given the 6 hour limit, the max I can do is run inference on the dataset 5 times. "
   ]
  },
  {
   "cell_type": "code",
   "execution_count": 20,
   "metadata": {
    "execution": {
     "iopub.execute_input": "2024-09-12T03:43:40.097885Z",
     "iopub.status.busy": "2024-09-12T03:43:40.096982Z",
     "iopub.status.idle": "2024-09-12T03:45:34.570819Z",
     "shell.execute_reply": "2024-09-12T03:45:34.570259Z",
     "shell.execute_reply.started": "2024-09-12T03:43:40.097860Z"
    }
   },
   "outputs": [
    {
     "name": "stdout",
     "output_type": "stream",
     "text": [
      "1.64 s ± 3.04 ms per loop (mean ± std. dev. of 7 runs, 10 loops each)\n"
     ]
    }
   ],
   "source": [
    "%timeit -n 10 test_gen(examples, sp)"
   ]
  },
  {
   "cell_type": "code",
   "execution_count": 21,
   "metadata": {
    "execution": {
     "iopub.execute_input": "2024-09-12T03:46:23.039270Z",
     "iopub.status.busy": "2024-09-12T03:46:23.039031Z",
     "iopub.status.idle": "2024-09-12T03:46:23.045333Z",
     "shell.execute_reply": "2024-09-12T03:46:23.044430Z",
     "shell.execute_reply.started": "2024-09-12T03:46:23.039252Z"
    }
   },
   "outputs": [],
   "source": [
    "#| code-fold: true\n",
    "#| code-summary: \"Show `few_shot_responses` function\"\n",
    "def few_shot_responses(dataset, prompt, examples, sp):\n",
    "    responses = []\n",
    "    dataset = dataset.map(add_prompt, fn_kwargs={\"prompt\": prompt})\n",
    "\n",
    "    few_shot_examples = []\n",
    "    \n",
    "    for example in examples:\n",
    "        few_shot_examples.append({\"role\": \"user\", \"content\": prompt.format(text=example[0])})\n",
    "        few_shot_examples.append({\"role\": \"assistant\", \"content\": example[1]})\n",
    "    \n",
    "    for row in dataset:\n",
    "        messages = [{'role': 'system', 'content': sp}] + few_shot_examples + [{\"role\": \"user\", \"content\": row['prompt']}]\n",
    "        \n",
    "        generation_args = { \n",
    "            \"max_new_tokens\": 2, \n",
    "            \"return_full_text\": False, \n",
    "            \"temperature\": 0.1, \n",
    "            \"do_sample\": True, \n",
    "        } \n",
    "\n",
    "        response = pipe(messages, **generation_args) \n",
    "        responses.append(response[0]['generated_text'].strip().lower())\n",
    "        \n",
    "    # calculate accuracy\n",
    "    df = dataset.to_pandas()\n",
    "    df['responses'] = pd.Series(responses)\n",
    "    df['responses'] = df['responses'].apply(lambda x: x if x in ['negative', 'positive', 'neutral'] else \"other\")\n",
    "    df['lm_match'] = df['label_text'] == df['responses']\n",
    "    acc = df.lm_match.mean()\n",
    "    return df, acc"
   ]
  },
  {
   "cell_type": "code",
   "execution_count": null,
   "metadata": {},
   "outputs": [],
   "source": [
    "accs = []\n",
    "for _ in range(5):\n",
    "    df, acc = few_shot_responses(promptR_ds, promptJ, examples, sp)\n",
    "    accs.append(acc)"
   ]
  },
  {
   "cell_type": "markdown",
   "metadata": {},
   "source": [
    "The accuracy for this prompt is consistently around 92.7%."
   ]
  },
  {
   "cell_type": "code",
   "execution_count": 3,
   "metadata": {
    "execution": {
     "iopub.execute_input": "2024-09-12T14:11:25.228720Z",
     "iopub.status.busy": "2024-09-12T14:11:25.227508Z",
     "iopub.status.idle": "2024-09-12T14:11:25.265651Z",
     "shell.execute_reply": "2024-09-12T14:11:25.264402Z",
     "shell.execute_reply.started": "2024-09-12T14:11:25.228671Z"
    }
   },
   "outputs": [
    {
     "data": {
      "text/plain": [
       "count    5.000000\n",
       "mean     0.928111\n",
       "std      0.000981\n",
       "min      0.927484\n",
       "25%      0.927484\n",
       "50%      0.927484\n",
       "75%      0.928380\n",
       "max      0.929722\n",
       "dtype: float64"
      ]
     },
     "execution_count": 3,
     "metadata": {},
     "output_type": "execute_result"
    }
   ],
   "source": [
    "pd.Series(accs).describe()"
   ]
  },
  {
   "cell_type": "markdown",
   "metadata": {},
   "source": [
    "## Final Thoughts"
   ]
  },
  {
   "cell_type": "markdown",
   "metadata": {},
   "source": [
    "Here is a summary of results including phi-2, phi-3.5, and the Claude family:\n",
    "\n",
    "|Model|Prompting Strategy|Overall Accuracy|`negative`|`neutral`|`positive`|\n",
    "|:-:|:-:|:-:|:-:|:-:|:-:|\n",
    "|claude-3-5-sonnet-20240620|3-Shot|94.78%|98% (297/303) | 94% (1302/1391)|95% (544/570)|\n",
    "|claude-3-opus-20240229|0-Shot|94.13%|98% (297/303)|96% (1333/1391)|88% (501/570)|\n",
    "|phi-3.5|20-Shot|93.94%|96% (286/299)|98% (1355/1379)|83% (467/566)|\n",
    "|phi-3|30-Shot w/System Prompt|92.79%|98% (290/297)|94% (1284/1373)|88% (499/564)|\n",
    "|claude-3-haiku-20240307|3-Shot|92.39%|90% (272/303)|91% (1267/1391)|96% (550/570)|\n",
    "|phi-2|6-Shot|91.94%|88% (267/302)|94% (1299/1387)|90% (510/569)|"
   ]
  },
  {
   "cell_type": "markdown",
   "metadata": {},
   "source": [
    "Here is a summary of results from this notebook:\n",
    "\n",
    "|prompt|strategy|accuracy|negative|neutral|positive|\n",
    "|:-:|:-:|:-:|:-:|:-:|:-:|\n",
    "|[A](#prompt-A)|0-Shot|47.00%|98% (298/303)|16% (220/1391)|96% (546/570)|\n",
    "|[B](#prompt-B)|0-Shot|73.23%|99% (300/303)|59% (821/1391)|94% (537/570)|\n",
    "|[C](#prompt-C)|0-Shot|66.25%|99% (300/303)|47% (650/1391)|96% (550/570)|\n",
    "|[D](#prompt-D)|0-Shot|49.65%|<u>**99% (301/303)**</u>|19% (269/1391)|97% (554/570)|\n",
    "|[E](#prompt-E)|0-Shot|72.44%|99% (299/303)|58% (803/1391)|94% (538/570)|\n",
    "|[F](#prompt-F)|3-Shot|82.62%|98% (297/302)|73% (1009/1390)|99% (562/569)|\n",
    "|[G](#prompt-G)|6-Shot|76.13%|98% (297/302)|62% (865/1387)|98% (557/569)|\n",
    "|[H](#prompt-H)|3-Shot|83.10%|98% (296/302)|73% (1021/1390)|99% (562/569)|\n",
    "|[I](#prompt-I)|3-Shot|81.16%|98% (295/302)|70% (977/1390)|99% (563/569)|\n",
    "|[J](#prompt-J)|3-Shot|84.61%|97% (294/302)|76% (1055/1390)|<u>**99% (564/569)<u>**|\n",
    "|[K](#prompt-K)|3-Shot|83.19%|98% (295/302)|74% (1024/1390)|99% (562/569)|\n",
    "|[L](#prompt-L)|3-Shot w/System Prompt|87.35%|98% (295/302)|81% (1120/1390)|98% (560/569)|\n",
    "|[M](#prompt-M)|3-Shot w/System Prompt|88.41%|97% (292/302)|83% (1149/1390)|98% (558/569)|\n",
    "|[N](#prompt-N)|3-Shot w/System Prompt|88.28%|97% (293/302)|82% (1142/1390)|99% (561/569)|\n",
    "|[O](#prompt-O)|3-Shot w/System Prompt|88.59%|98% (296/302)|82% (1145/1390)|99% (562/569)|\n",
    "|[P](#prompt-P)|3-Shot w/System Prompt|90.00%|97% (294/302)|85% (1179/1390)|99% (562/569)|\n",
    "|[Q](#prompt-Q)|20-Shot w/System Prompt|91.71%|97% (291/299)|89% (1226/1379)|96% (541/566)|\n",
    "|<u>**[R](#prompt-R)**</u>|<u>**30-Shot w/System Prompt**</u>|<u>**92.79%**</u>|98% (290/297)|<u>**94% (1284/1373)**</u>|88% (499/564)|"
   ]
  },
  {
   "cell_type": "markdown",
   "metadata": {},
   "source": [
    "I ran inference for phi-3 and phi-3.5 in separate notebooks at the same time, so I have shared final thoughts for both:\n",
    "\n",
    "- **Few-shot prompting in a chat format is a different experience**: The sentence/label pairs have to be presented as a multi-turn conversation. For a large number of examples, this can lead to running out of GPU memory (as it did for 30-Shot prompting with phi-3.5).\n",
    "- **Few-shot example proportion matters**: I used a higher proportion of neutral examples in my 20-shot prompt since the majority of the dataset is made up of `neutral` sentences. Determining whether the proportion I used is optimal would require further experimentation.\n",
    "- **30-Shot phi-3 surpassed 6-Shot phi-2**: Although it took more experimentation than I expected to do so. I was honestly expecting to try a couple of prompts and easily beat phi-2. I did not try a 30-Shot prompt with phi-2, so it may have performed equally well (or better). I'm not convinced that 24 more examples and 50% more parameters to yield ~0.8% more accuracy is worth it.\n",
    "- **30-Shot phi-3 surpassed 3-Shot Claude-3-Haiku**: Again, I did not try 30-Shot prompting with Haiku, so it very well could have performed better. Regardless, I was not expecting phi-3 to beat Haiku's score.\n",
    "- **The best performing prompt suffers from a low true positive rate for `positive` sentiments**: Although the 30-Shot phi-3 prompt achieved the highest true positive rate (TPR) for `neutral` sentences (94%), it had the lowest TPR for `positive` sentences (88%). It's unclear if this is due to the imbalance between `positive` and `neutral` examples, since the TPR for `negative` sentiment is high (98%) despite having the same number of examples (6) as `positive`.\n",
    "- **phi-3 performed differently than phi-3.5**: phi-3 performed well with a system prompt while phi-3.5 did not. On the other hand, phi-3.5 performed better with 0-Shot prompting than phi-3 (results not shown here).\n",
    "**Future work**: My next step is to run inference on this dataset using the Qwen2-1.5B model. After that, I'll analyze the errors, especially for sentences that a majority of models classified incorrectly. With prompt engineering, there is potentially unlimited future work. Before I finish this project, I'll try 30-Shot prompts for phi-2 and Haiku to see if they can beat phi-3's 92.79% overall accuracy (and maybe even phi-3.5's 93.94% accuracy)."
   ]
  },
  {
   "cell_type": "markdown",
   "metadata": {},
   "source": [
    "I hope you enjoyed this blog post! Follow me on Twitter [@vishal_learner](https://twitter.com/vishal_learner)."
   ]
  }
 ],
 "metadata": {
  "kaggle": {
   "accelerator": "nvidiaTeslaT4",
   "dataSources": [],
   "dockerImageVersionId": 30665,
   "isGpuEnabled": true,
   "isInternetEnabled": true,
   "language": "python",
   "sourceType": "notebook"
  },
  "kernelspec": {
   "display_name": "Python 3 (ipykernel)",
   "language": "python",
   "name": "python3"
  },
  "language_info": {
   "codemirror_mode": {
    "name": "ipython",
    "version": 3
   },
   "file_extension": ".py",
   "mimetype": "text/x-python",
   "name": "python",
   "nbconvert_exporter": "python",
   "pygments_lexer": "ipython3",
   "version": "3.9.13"
  }
 },
 "nbformat": 4,
 "nbformat_minor": 4
}

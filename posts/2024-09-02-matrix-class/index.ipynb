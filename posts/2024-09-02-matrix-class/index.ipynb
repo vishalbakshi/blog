{
  "cells": [
    {
      "cell_type": "raw",
      "metadata": {
        "vscode": {
          "languageId": "raw"
        },
        "id": "nlqP-oB9L_OD"
      },
      "source": [
        "---\n",
        "title: Implementing a `Matrix` Class in Python\n",
        "date: \"2024-09-02\"\n",
        "author: Vishal Bakshi\n",
        "description: In this blog post I implement a `Matrix` class following Lesson 10 of the fastai course (Part 2) and add some additional functionality.\n",
        "filters:\n",
        "   - lightbox\n",
        "lightbox: auto\n",
        "categories:\n",
        "    - python\n",
        "    - deep learning\n",
        "    - machine learning\n",
        "---"
      ]
    },
    {
      "cell_type": "markdown",
      "metadata": {
        "id": "fA8fTSLT1ZDM"
      },
      "source": [
        "## Background"
      ]
    },
    {
      "cell_type": "markdown",
      "metadata": {
        "id": "Eyj-aesH1aCx"
      },
      "source": [
        "In [Lesson 10 of the fastai course (Part 2)](https://youtu.be/6StU6UtZEbU?feature=shared&t=4793) Jeremy introduces the following `Matrix` class to allow for PyTorch- and NumPy-like indexing into a Python `list`:\n",
        "\n",
        "```python\n",
        "class Matrix:\n",
        "  def __init__(self, xs): self.xs = xs\n",
        "  def __getitem__(self, idxs): return self.xs[idxs[0]][idxs[1]]\n",
        "```\n",
        "\n",
        "In this notebook, I'll expand this class to add the following methods to further mimic NumPy arrays:\n",
        "\n",
        "- A `__repr__` method which returns a displayable/printable representation of the `Matrix`\n",
        "- A `shape` method which displays the shape of the `Matrix`.\n",
        "- A `min` method\n",
        "- A `max` method"
      ]
    },
    {
      "cell_type": "code",
      "execution_count": 1,
      "metadata": {
        "id": "AT-La9BW36J4"
      },
      "outputs": [],
      "source": [
        "import numpy as np"
      ]
    },
    {
      "cell_type": "markdown",
      "metadata": {
        "id": "0ylyEY9B248Q"
      },
      "source": [
        "## Expanding the `Matrix` Class"
      ]
    },
    {
      "cell_type": "markdown",
      "metadata": {
        "id": "GNCau7Ys27Jf"
      },
      "source": [
        "I'll start by defining the `Matrix` class as done in Lesson 10 and instantiating a `Matrix` object:"
      ]
    },
    {
      "cell_type": "code",
      "execution_count": 2,
      "metadata": {
        "id": "UZqkYE_51W69"
      },
      "outputs": [],
      "source": [
        "class Matrix:\n",
        "  def __init__(self, xs): self.xs = xs\n",
        "  def __getitem__(self, idxs): return self.xs[idxs[0]][idxs[1]]"
      ]
    },
    {
      "cell_type": "code",
      "execution_count": 3,
      "metadata": {
        "id": "1_rRrWA538qH"
      },
      "outputs": [],
      "source": [
        "lst1 = [\n",
        "    [1, 2, 3],\n",
        "    [4, 5, 6]\n",
        "]"
      ]
    },
    {
      "cell_type": "code",
      "execution_count": 4,
      "metadata": {
        "id": "vHCF8P8O3GPy"
      },
      "outputs": [],
      "source": [
        "m = Matrix(lst1)"
      ]
    },
    {
      "cell_type": "markdown",
      "metadata": {
        "id": "kzBEQAH-3NSZ"
      },
      "source": [
        "I'll illustrate the `__getitem__` method:"
      ]
    },
    {
      "cell_type": "code",
      "execution_count": 5,
      "metadata": {
        "colab": {
          "base_uri": "https://localhost:8080/"
        },
        "id": "JXNe-oEo3JXa",
        "outputId": "408f4a49-4622-4f39-db5c-380fe0899e8b"
      },
      "outputs": [
        {
          "output_type": "execute_result",
          "data": {
            "text/plain": [
              "6"
            ]
          },
          "metadata": {},
          "execution_count": 5
        }
      ],
      "source": [
        "m[1,2]"
      ]
    },
    {
      "cell_type": "markdown",
      "metadata": {
        "id": "rpZnDDlX3Y2s"
      },
      "source": [
        "### Adding a `__repr__` Method"
      ]
    },
    {
      "cell_type": "markdown",
      "metadata": {
        "id": "iQu650ys3ciM"
      },
      "source": [
        "Currently when I print out the `Matrix` object, it just shows a default object representation. From the Python docs:\n",
        "\n",
        "> Called by the repr() built-in function to compute the “official” string representation of an object. If at all possible, this should look like a valid Python expression that could be used to recreate an object with the same value (given an appropriate environment). If this is not possible, a string of the form <...some useful description...> should be returned. The return value must be a string object."
      ]
    },
    {
      "cell_type": "code",
      "execution_count": 6,
      "metadata": {
        "colab": {
          "base_uri": "https://localhost:8080/"
        },
        "id": "XgSX2mOy3J4a",
        "outputId": "9525b4a1-0ba2-4e97-838c-b6d6af834481"
      },
      "outputs": [
        {
          "output_type": "execute_result",
          "data": {
            "text/plain": [
              "<__main__.Matrix at 0x7ce8aeae24d0>"
            ]
          },
          "metadata": {},
          "execution_count": 6
        }
      ],
      "source": [
        "m"
      ]
    },
    {
      "cell_type": "markdown",
      "metadata": {
        "id": "ic3cjibY34ZS"
      },
      "source": [
        "NumPy has a prettier object representation:"
      ]
    },
    {
      "cell_type": "code",
      "execution_count": 7,
      "metadata": {
        "colab": {
          "base_uri": "https://localhost:8080/"
        },
        "id": "a_N3ysDE3gYu",
        "outputId": "37708ab6-4ded-46b1-ca7a-ddcf79c53f97"
      },
      "outputs": [
        {
          "output_type": "execute_result",
          "data": {
            "text/plain": [
              "array([[1, 2, 3],\n",
              "       [4, 5, 6]])"
            ]
          },
          "metadata": {},
          "execution_count": 7
        }
      ],
      "source": [
        "arr = np.array(lst1)\n",
        "arr"
      ]
    },
    {
      "cell_type": "markdown",
      "metadata": {
        "id": "E0OEwWEa5Sar"
      },
      "source": [
        "I'll add a `__repr__` method that does that (thanks Claude and ChatGPT!):"
      ]
    },
    {
      "cell_type": "code",
      "execution_count": 8,
      "metadata": {
        "id": "JAsjjQLV4L5S"
      },
      "outputs": [],
      "source": [
        "class Matrix:\n",
        "  def __init__(self, xs): self.xs = xs\n",
        "  def __getitem__(self, idxs): return self.xs[idxs[0]][idxs[1]]\n",
        "  def __repr__(self):\n",
        "        # Convert each element to string\n",
        "        str_matrix = [[str(elem) for elem in row] for row in self.xs]\n",
        "\n",
        "        # Compute max column widths\n",
        "        col_widths = [max(map(len, col)) for col in zip(*str_matrix)]\n",
        "\n",
        "        # Format each row with proper padding\n",
        "        formatted_rows = (\n",
        "            '[' + ', '.join(elem.rjust(width) for elem, width in zip(row, col_widths)) + ']'\n",
        "            for row in str_matrix\n",
        "        )\n",
        "\n",
        "        # Join rows with newline and proper indentation\n",
        "        matrix_str = ',\\n        '.join(formatted_rows)\n",
        "\n",
        "        # Add the class name and wrapping brackets\n",
        "        return f\"Matrix([{matrix_str}])\""
      ]
    },
    {
      "cell_type": "markdown",
      "metadata": {
        "id": "XstxDV3t68jf"
      },
      "source": [
        "That looks much prettier! Albeit a lot more code in the class definition."
      ]
    },
    {
      "cell_type": "code",
      "execution_count": 9,
      "metadata": {
        "colab": {
          "base_uri": "https://localhost:8080/"
        },
        "id": "axqTMJij5cks",
        "outputId": "d30ff6a5-e064-4a66-a5ac-da58579ba65f"
      },
      "outputs": [
        {
          "output_type": "execute_result",
          "data": {
            "text/plain": [
              "Matrix([[1, 2, 3],\n",
              "        [4, 5, 6]])"
            ]
          },
          "metadata": {},
          "execution_count": 9
        }
      ],
      "source": [
        "m = Matrix(lst1)\n",
        "m"
      ]
    },
    {
      "cell_type": "markdown",
      "metadata": {
        "id": "sCqWFSpi65yw"
      },
      "source": [
        "I'll walk through each line in this `__repr__` method. We start with a nested list comprehension with maintains the nested list structure of `self.xs` but replaces the values with strings:"
      ]
    },
    {
      "cell_type": "code",
      "execution_count": 10,
      "metadata": {
        "colab": {
          "base_uri": "https://localhost:8080/"
        },
        "id": "qEvcmdh35d9F",
        "outputId": "a1679f74-4cf6-4503-8c7d-b6d7523d70d4"
      },
      "outputs": [
        {
          "output_type": "execute_result",
          "data": {
            "text/plain": [
              "[['1', '2', '3'], ['4', '5', '6']]"
            ]
          },
          "metadata": {},
          "execution_count": 10
        }
      ],
      "source": [
        "str_matrix = [[str(elem) for elem in row] for row in m.xs]\n",
        "str_matrix"
      ]
    },
    {
      "cell_type": "markdown",
      "metadata": {
        "id": "3mLWSCEE7nNH"
      },
      "source": [
        "To determine the \"width\" of each column, the following list comprehension does the following:\n",
        "\n",
        "- Transpose `str_matrix` with `zip(*str_matrix)`\n",
        "- Calculate the number of characters in each column with `map(len, col)`\n",
        "- Return the maximum length of each value in each column with `max()`"
      ]
    },
    {
      "cell_type": "code",
      "execution_count": 11,
      "metadata": {
        "colab": {
          "base_uri": "https://localhost:8080/"
        },
        "id": "9HfeCMOM6l1c",
        "outputId": "b8c2bfa6-0fbd-481b-aa4f-abe5c6767874"
      },
      "outputs": [
        {
          "output_type": "execute_result",
          "data": {
            "text/plain": [
              "[1, 1, 1]"
            ]
          },
          "metadata": {},
          "execution_count": 11
        }
      ],
      "source": [
        "col_widths = [max(map(len, col)) for col in zip(*str_matrix)]\n",
        "col_widths"
      ]
    },
    {
      "cell_type": "code",
      "execution_count": 12,
      "metadata": {
        "colab": {
          "base_uri": "https://localhost:8080/"
        },
        "id": "wdVuEkAn77NR",
        "outputId": "dd3f1583-f640-429d-94b2-60a487e3e946"
      },
      "outputs": [
        {
          "output_type": "execute_result",
          "data": {
            "text/plain": [
              "[('1', '4'), ('2', '5'), ('3', '6')]"
            ]
          },
          "metadata": {},
          "execution_count": 12
        }
      ],
      "source": [
        "list(zip(*str_matrix)) # transposed matrix"
      ]
    },
    {
      "cell_type": "code",
      "execution_count": 13,
      "metadata": {
        "colab": {
          "base_uri": "https://localhost:8080/"
        },
        "id": "cEXqH5J67T2L",
        "outputId": "d4be1488-851d-42b2-f105-16820dc525cf"
      },
      "outputs": [
        {
          "output_type": "execute_result",
          "data": {
            "text/plain": [
              "[[1, 1], [1, 1], [1, 1]]"
            ]
          },
          "metadata": {},
          "execution_count": 13
        }
      ],
      "source": [
        "[list(map(len, col)) for col in zip(*str_matrix)] # width of each value in each column"
      ]
    },
    {
      "cell_type": "code",
      "execution_count": 14,
      "metadata": {
        "colab": {
          "base_uri": "https://localhost:8080/"
        },
        "id": "gKJQrnX-7XFi",
        "outputId": "109fdea5-ad51-42b9-f170-1533d01e6cc1"
      },
      "outputs": [
        {
          "output_type": "execute_result",
          "data": {
            "text/plain": [
              "[1, 1, 1]"
            ]
          },
          "metadata": {},
          "execution_count": 14
        }
      ],
      "source": [
        "[max(map(len, col)) for col in zip(*str_matrix)] # maximum width of each column value"
      ]
    },
    {
      "cell_type": "markdown",
      "metadata": {
        "id": "fTHeKYyL9qH5"
      },
      "source": [
        "The next line is another nested list comprehension. We iterate over each `row` in `str_matrix` inside the `.join` call and then do the following:\n",
        "\n",
        "- `zip` together the `row` and the `col_widths` list and iterate over it\n",
        "- for each `elem, width` in `zip(row, col_widths)` we call `elem.rjust(width)` which right-adjusts `elem` inside the given string `width`.\n",
        "\n",
        "`formatted_rows` is a list of strings where each row is a string representation of each row in the `Matrix`:\n"
      ]
    },
    {
      "cell_type": "code",
      "execution_count": 15,
      "metadata": {
        "colab": {
          "base_uri": "https://localhost:8080/"
        },
        "id": "gakE3AqZ8Kez",
        "outputId": "e7263a4c-9d43-49a5-9453-65a4e0a20c1b"
      },
      "outputs": [
        {
          "output_type": "execute_result",
          "data": {
            "text/plain": [
              "['[1, 2, 3]', '[4, 5, 6]']"
            ]
          },
          "metadata": {},
          "execution_count": 15
        }
      ],
      "source": [
        "formatted_rows = (\n",
        "            '[' + ', '.join(elem.rjust(width) for elem, width in zip(row, col_widths)) + ']'\n",
        "            for row in str_matrix\n",
        "        )\n",
        "list(formatted_rows)"
      ]
    },
    {
      "cell_type": "markdown",
      "metadata": {
        "id": "9er4MHd0-wh-"
      },
      "source": [
        "Building up the `formatted_rows` logic line by line:"
      ]
    },
    {
      "cell_type": "code",
      "execution_count": 16,
      "metadata": {
        "colab": {
          "base_uri": "https://localhost:8080/"
        },
        "id": "ZLxi3tfb-fxr",
        "outputId": "4939b022-a8bd-4394-c3a4-b16448f24a59"
      },
      "outputs": [
        {
          "output_type": "execute_result",
          "data": {
            "text/plain": [
              "[['1', '2', '3'], ['4', '5', '6']]"
            ]
          },
          "metadata": {},
          "execution_count": 16
        }
      ],
      "source": [
        "[row for row in str_matrix]"
      ]
    },
    {
      "cell_type": "code",
      "execution_count": 17,
      "metadata": {
        "colab": {
          "base_uri": "https://localhost:8080/"
        },
        "id": "8gENsE7j-vtG",
        "outputId": "ec4bf253-9b2d-44e6-a8e0-3a95188502a0"
      },
      "outputs": [
        {
          "output_type": "execute_result",
          "data": {
            "text/plain": [
              "[[('1', 1), ('2', 1), ('3', 1)], [('4', 1), ('5', 1), ('6', 1)]]"
            ]
          },
          "metadata": {},
          "execution_count": 17
        }
      ],
      "source": [
        "[list(((elem, width) for elem, width in zip(row, col_widths))) for row in str_matrix]"
      ]
    },
    {
      "cell_type": "code",
      "execution_count": 18,
      "metadata": {
        "colab": {
          "base_uri": "https://localhost:8080/"
        },
        "id": "3Ld1XhhJ-6Ad",
        "outputId": "0c6c96c4-ebf6-44c6-9793-197570920efa"
      },
      "outputs": [
        {
          "output_type": "execute_result",
          "data": {
            "text/plain": [
              "[['1', '2', '3'], ['4', '5', '6']]"
            ]
          },
          "metadata": {},
          "execution_count": 18
        }
      ],
      "source": [
        "[list((elem.rjust(width) for elem, width in zip(row, col_widths))) for row in str_matrix]"
      ]
    },
    {
      "cell_type": "code",
      "execution_count": 19,
      "metadata": {
        "colab": {
          "base_uri": "https://localhost:8080/"
        },
        "id": "ozFVcBaA_EOP",
        "outputId": "3b6e9a05-237e-4a9e-d0e4-30a8fe50c8df"
      },
      "outputs": [
        {
          "output_type": "execute_result",
          "data": {
            "text/plain": [
              "['1, 2, 3', '4, 5, 6']"
            ]
          },
          "metadata": {},
          "execution_count": 19
        }
      ],
      "source": [
        "[', '.join(elem.rjust(width) for elem, width in zip(row, col_widths)) for row in str_matrix]"
      ]
    },
    {
      "cell_type": "code",
      "execution_count": 20,
      "metadata": {
        "colab": {
          "base_uri": "https://localhost:8080/"
        },
        "id": "OKLrxULu_Jse",
        "outputId": "d431dde6-76bb-4044-fa54-29460b5bff13"
      },
      "outputs": [
        {
          "output_type": "execute_result",
          "data": {
            "text/plain": [
              "['[1, 2, 3]', '[4, 5, 6]']"
            ]
          },
          "metadata": {},
          "execution_count": 20
        }
      ],
      "source": [
        "['[' + ', '.join(elem.rjust(width) for elem, width in zip(row, col_widths)) + ']' for row in str_matrix]"
      ]
    },
    {
      "cell_type": "markdown",
      "metadata": {
        "id": "kpFVQ3Z0_VRR"
      },
      "source": [
        "The final line add a new line for each row and indents it to make it print prettily. Note there are 8 spaces after the newline character `\\n` for the 8 characters in the string `Matrix([`:"
      ]
    },
    {
      "cell_type": "code",
      "execution_count": 21,
      "metadata": {
        "colab": {
          "base_uri": "https://localhost:8080/"
        },
        "id": "EDQEnoJR_Lt_",
        "outputId": "c7699d3c-1791-4d1f-a561-c6f1fb04ce93"
      },
      "outputs": [
        {
          "output_type": "stream",
          "name": "stdout",
          "text": [
            "Matrix([[1, 2, 3],\n",
            "        [4, 5, 6]])\n"
          ]
        }
      ],
      "source": [
        "formatted_rows = (\n",
        "            '[' + ', '.join(elem.rjust(width) for elem, width in zip(row, col_widths)) + ']'\n",
        "            for row in str_matrix\n",
        "        )\n",
        "\n",
        "matrix_str = ',\\n        '.join(formatted_rows)\n",
        "print(f\"Matrix([{matrix_str}])\")"
      ]
    },
    {
      "cell_type": "markdown",
      "metadata": {
        "id": "sIFVWBUeAB9a"
      },
      "source": [
        "Testing out the `__repr__` method on a `Matrix` with a different size and different values (note the right-adjustment of the values):"
      ]
    },
    {
      "cell_type": "code",
      "execution_count": 22,
      "metadata": {
        "id": "2edL_0-4DoSF"
      },
      "outputs": [],
      "source": [
        "lst2 = [[1, 2], [2, 30], [4, 50]]"
      ]
    },
    {
      "cell_type": "code",
      "execution_count": 23,
      "metadata": {
        "colab": {
          "base_uri": "https://localhost:8080/"
        },
        "id": "PXY4dfnI_cGB",
        "outputId": "05dc958b-9c72-474e-ce4b-01f8db106f16"
      },
      "outputs": [
        {
          "output_type": "execute_result",
          "data": {
            "text/plain": [
              "Matrix([[1,  2],\n",
              "        [2, 30],\n",
              "        [4, 50]])"
            ]
          },
          "metadata": {},
          "execution_count": 23
        }
      ],
      "source": [
        "m = Matrix(lst2)\n",
        "m"
      ]
    },
    {
      "cell_type": "markdown",
      "metadata": {
        "id": "jxa2vscWAKlP"
      },
      "source": [
        "Pretty! And pretty complicated."
      ]
    },
    {
      "cell_type": "markdown",
      "metadata": {
        "id": "KaoizeLHAUX3"
      },
      "source": [
        "### Adding a `shape` Property"
      ]
    },
    {
      "cell_type": "markdown",
      "metadata": {
        "id": "sBf9FqOTAV7P"
      },
      "source": [
        "One of the most useful properties in PyTorch and NumPy is the `shape` of an array or tensor. I constantly use it throughout my coding to make sure I'm dealing with the appropriately shaped tensors and arrays."
      ]
    },
    {
      "cell_type": "code",
      "execution_count": 26,
      "metadata": {
        "colab": {
          "base_uri": "https://localhost:8080/"
        },
        "id": "kpfpfw6fAJ0l",
        "outputId": "33c76862-2053-44e2-fa4d-7a500546afd7"
      },
      "outputs": [
        {
          "output_type": "execute_result",
          "data": {
            "text/plain": [
              "(3, 2)"
            ]
          },
          "metadata": {},
          "execution_count": 26
        }
      ],
      "source": [
        "np.array(lst2).shape"
      ]
    },
    {
      "cell_type": "markdown",
      "metadata": {
        "id": "t5VqSYVGA2I3"
      },
      "source": [
        "I'll implement a `shape` property for my `Matrix`:"
      ]
    },
    {
      "cell_type": "code",
      "execution_count": 27,
      "metadata": {
        "id": "T6UjckulAhk_"
      },
      "outputs": [],
      "source": [
        "class Matrix:\n",
        "  def __init__(self, xs): self.xs = xs\n",
        "  def __getitem__(self, idxs): return self.xs[idxs[0]][idxs[1]]\n",
        "\n",
        "  @property\n",
        "  def shape(self): return len(self.xs), len(self.xs[0])\n",
        "\n",
        "  def __repr__(self):\n",
        "        # Convert each element to string\n",
        "        str_matrix = [[str(elem) for elem in row] for row in self.xs]\n",
        "\n",
        "        # Compute max column widths\n",
        "        col_widths = [max(map(len, col)) for col in zip(*str_matrix)]\n",
        "\n",
        "        # Format each row with proper padding\n",
        "        formatted_rows = (\n",
        "            '[' + ', '.join(elem.rjust(width) for elem, width in zip(row, col_widths)) + ']'\n",
        "            for row in str_matrix\n",
        "        )\n",
        "\n",
        "        # Join rows with newline and proper indentation\n",
        "        matrix_str = ',\\n        '.join(formatted_rows)\n",
        "\n",
        "        # Add the class name and wrapping brackets\n",
        "        return f\"Matrix([{matrix_str}])\""
      ]
    },
    {
      "cell_type": "code",
      "execution_count": 28,
      "metadata": {
        "colab": {
          "base_uri": "https://localhost:8080/"
        },
        "id": "OjOJ1CBUBJUq",
        "outputId": "309c0b9c-c529-4f03-9764-d718fb7c5dd4"
      },
      "outputs": [
        {
          "output_type": "execute_result",
          "data": {
            "text/plain": [
              "Matrix([[1,  2],\n",
              "        [2, 30],\n",
              "        [4, 50]])"
            ]
          },
          "metadata": {},
          "execution_count": 28
        }
      ],
      "source": [
        "m = Matrix(lst2)\n",
        "m"
      ]
    },
    {
      "cell_type": "code",
      "execution_count": 29,
      "metadata": {
        "colab": {
          "base_uri": "https://localhost:8080/"
        },
        "id": "au8tXpH_BJ01",
        "outputId": "649d9bc2-0f0f-49c1-e11b-b55dcde44e8e"
      },
      "outputs": [
        {
          "output_type": "execute_result",
          "data": {
            "text/plain": [
              "(3, 2)"
            ]
          },
          "metadata": {},
          "execution_count": 29
        }
      ],
      "source": [
        "m.shape"
      ]
    },
    {
      "cell_type": "markdown",
      "metadata": {
        "id": "avQDJqDmBpkP"
      },
      "source": [
        "Explaining my one-liner: since the `Matrix` is always going to be rectangular, the number of rows is the `len` of the list `xs` and the number of columns is the `len` of either of the rows."
      ]
    },
    {
      "cell_type": "code",
      "execution_count": 30,
      "metadata": {
        "colab": {
          "base_uri": "https://localhost:8080/"
        },
        "id": "C9tTXRKXBKok",
        "outputId": "f7601b92-d4c9-4a8b-b465-7e8f69e2ef0b"
      },
      "outputs": [
        {
          "output_type": "execute_result",
          "data": {
            "text/plain": [
              "(3, 2)"
            ]
          },
          "metadata": {},
          "execution_count": 30
        }
      ],
      "source": [
        "len(m.xs), len(m.xs[0])"
      ]
    },
    {
      "cell_type": "markdown",
      "metadata": {
        "id": "1AUuzMuLCCe4"
      },
      "source": [
        "That's it for the `shape` method! Simple."
      ]
    },
    {
      "cell_type": "markdown",
      "metadata": {
        "id": "4LX4XmHACEoB"
      },
      "source": [
        "### Adding a `min` and `max` Method"
      ]
    },
    {
      "cell_type": "markdown",
      "metadata": {
        "id": "aNvMsNN7CGgF"
      },
      "source": [
        "The last pair of methods I'll implement are a `min` and a `max` method similar to NumPy."
      ]
    },
    {
      "cell_type": "code",
      "execution_count": 31,
      "metadata": {
        "colab": {
          "base_uri": "https://localhost:8080/"
        },
        "id": "BUcvbjbnD3Cy",
        "outputId": "a2179023-85ec-4e25-dc3a-ee365fc3db1c"
      },
      "outputs": [
        {
          "output_type": "execute_result",
          "data": {
            "text/plain": [
              "array([[ 1,  2],\n",
              "       [ 2, 30],\n",
              "       [ 4, 50]])"
            ]
          },
          "metadata": {},
          "execution_count": 31
        }
      ],
      "source": [
        "arr = np.array(lst2)\n",
        "arr"
      ]
    },
    {
      "cell_type": "code",
      "execution_count": 32,
      "metadata": {
        "colab": {
          "base_uri": "https://localhost:8080/"
        },
        "id": "VYEPWyMmD5-h",
        "outputId": "ca232b09-de8a-4d2d-b548-2cc1dd85162a"
      },
      "outputs": [
        {
          "output_type": "execute_result",
          "data": {
            "text/plain": [
              "1"
            ]
          },
          "metadata": {},
          "execution_count": 32
        }
      ],
      "source": [
        "arr.min()"
      ]
    },
    {
      "cell_type": "code",
      "execution_count": 33,
      "metadata": {
        "colab": {
          "base_uri": "https://localhost:8080/"
        },
        "id": "t72qtdu8D7In",
        "outputId": "b7f15fd8-fafe-4b9a-d6f5-6ab043b3acdc"
      },
      "outputs": [
        {
          "output_type": "execute_result",
          "data": {
            "text/plain": [
              "array([1, 2])"
            ]
          },
          "metadata": {},
          "execution_count": 33
        }
      ],
      "source": [
        "arr.min(axis=0)"
      ]
    },
    {
      "cell_type": "code",
      "execution_count": 34,
      "metadata": {
        "colab": {
          "base_uri": "https://localhost:8080/"
        },
        "id": "Y3MV6HRwD8pg",
        "outputId": "ae60a306-59ee-49e3-c4b0-d48e463d5be0"
      },
      "outputs": [
        {
          "output_type": "execute_result",
          "data": {
            "text/plain": [
              "array([1, 2, 4])"
            ]
          },
          "metadata": {},
          "execution_count": 34
        }
      ],
      "source": [
        "arr.min(axis=1)"
      ]
    },
    {
      "cell_type": "code",
      "source": [
        "arr.max()"
      ],
      "metadata": {
        "colab": {
          "base_uri": "https://localhost:8080/"
        },
        "id": "_iMrdLvaMQ50",
        "outputId": "56143eaf-8333-41ec-9e84-bfde062453d1"
      },
      "execution_count": 35,
      "outputs": [
        {
          "output_type": "execute_result",
          "data": {
            "text/plain": [
              "50"
            ]
          },
          "metadata": {},
          "execution_count": 35
        }
      ]
    },
    {
      "cell_type": "code",
      "source": [
        "arr.max(axis=0)"
      ],
      "metadata": {
        "colab": {
          "base_uri": "https://localhost:8080/"
        },
        "id": "shxcto5VMSG0",
        "outputId": "5394cde9-7b3c-4e7f-9eed-c677b50296ee"
      },
      "execution_count": 36,
      "outputs": [
        {
          "output_type": "execute_result",
          "data": {
            "text/plain": [
              "array([ 4, 50])"
            ]
          },
          "metadata": {},
          "execution_count": 36
        }
      ]
    },
    {
      "cell_type": "code",
      "source": [
        "arr.max(axis=1)"
      ],
      "metadata": {
        "colab": {
          "base_uri": "https://localhost:8080/"
        },
        "id": "ugKV9qoMMTyc",
        "outputId": "1b6a1b27-efc8-42db-8000-763f61dae6a2"
      },
      "execution_count": 37,
      "outputs": [
        {
          "output_type": "execute_result",
          "data": {
            "text/plain": [
              "array([ 2, 30, 50])"
            ]
          },
          "metadata": {},
          "execution_count": 37
        }
      ]
    },
    {
      "cell_type": "code",
      "execution_count": 38,
      "metadata": {
        "id": "dfFIY7hhB3eH"
      },
      "outputs": [],
      "source": [
        "from itertools import chain\n",
        "\n",
        "class Matrix:\n",
        "  def __init__(self, xs): self.xs = xs\n",
        "  def __getitem__(self, idxs): return self.xs[idxs[0]][idxs[1]]\n",
        "\n",
        "  @property\n",
        "  def shape(self): return len(self.xs), len(self.xs[0])\n",
        "\n",
        "  def min(self, axis=None):\n",
        "    if axis is None: return min(chain(*self.xs))\n",
        "    elif axis == 0: return min(self.xs)\n",
        "    elif axis == 1: return min(zip(*self.xs))\n",
        "    else: raise IndexError(\"Matrix only has two axes\")\n",
        "\n",
        "  def max(self, axis=None):\n",
        "    if axis is None: return max(chain(*self.xs))\n",
        "    elif axis == 0: return max(self.xs)\n",
        "    elif axis == 1: return max(zip(*self.xs))\n",
        "    else: raise IndexError(\"Matrix only has two axes\")\n",
        "\n",
        "  def __repr__(self):\n",
        "        # Convert each element to string\n",
        "        str_matrix = [[str(elem) for elem in row] for row in self.xs]\n",
        "\n",
        "        # Compute max column widths\n",
        "        col_widths = [max(map(len, col)) for col in zip(*str_matrix)]\n",
        "\n",
        "        # Format each row with proper padding\n",
        "        formatted_rows = (\n",
        "            '[' + ', '.join(elem.rjust(width) for elem, width in zip(row, col_widths)) + ']'\n",
        "            for row in str_matrix\n",
        "        )\n",
        "\n",
        "        # Join rows with newline and proper indentation\n",
        "        matrix_str = ',\\n        '.join(formatted_rows)\n",
        "\n",
        "        # Add the class name and wrapping brackets\n",
        "        return f\"Matrix([{matrix_str}])\""
      ]
    },
    {
      "cell_type": "code",
      "execution_count": 39,
      "metadata": {
        "colab": {
          "base_uri": "https://localhost:8080/"
        },
        "id": "SjfB5QB9Cljk",
        "outputId": "7dfb2713-594a-480e-9486-8b262fad3017"
      },
      "outputs": [
        {
          "output_type": "execute_result",
          "data": {
            "text/plain": [
              "Matrix([[1,  2],\n",
              "        [2, 30],\n",
              "        [4, 50]])"
            ]
          },
          "metadata": {},
          "execution_count": 39
        }
      ],
      "source": [
        "m = Matrix(lst2)\n",
        "m"
      ]
    },
    {
      "cell_type": "markdown",
      "metadata": {
        "id": "qjrkdpYNL_OZ"
      },
      "source": [
        "When no `axis` is specified, `min` returns the minimum value of the flattened `Matrix` (flattened using `chain(*self.xs)`)."
      ]
    },
    {
      "cell_type": "code",
      "execution_count": 41,
      "metadata": {
        "colab": {
          "base_uri": "https://localhost:8080/"
        },
        "id": "ZBk6oJHgCmYj",
        "outputId": "641fd856-5c94-4efd-8fe0-cffc369022c3"
      },
      "outputs": [
        {
          "output_type": "execute_result",
          "data": {
            "text/plain": [
              "1"
            ]
          },
          "metadata": {},
          "execution_count": 41
        }
      ],
      "source": [
        "m.min()"
      ]
    },
    {
      "cell_type": "markdown",
      "metadata": {
        "id": "PSVMB_QGL_Oa"
      },
      "source": [
        "When `axis=0`, `min` returns the minimum value in each row, which is simply the built-in return value when `min` is applied to a `list` (`min(self.xs)`)."
      ]
    },
    {
      "cell_type": "code",
      "execution_count": 42,
      "metadata": {
        "colab": {
          "base_uri": "https://localhost:8080/"
        },
        "id": "7X1GlkmHDSKe",
        "outputId": "7a8c9889-b109-4cd1-de4e-7db301ab7c5a"
      },
      "outputs": [
        {
          "output_type": "execute_result",
          "data": {
            "text/plain": [
              "[1, 2]"
            ]
          },
          "metadata": {},
          "execution_count": 42
        }
      ],
      "source": [
        "m.min(axis=0)"
      ]
    },
    {
      "cell_type": "markdown",
      "metadata": {
        "id": "j1knZ1irL_Ob"
      },
      "source": [
        "When `axis=1`, `min` returns the minimum value in each column. I first transpose the `list` and then pass it through `min` to get the desired result:"
      ]
    },
    {
      "cell_type": "code",
      "execution_count": 43,
      "metadata": {
        "colab": {
          "base_uri": "https://localhost:8080/"
        },
        "id": "Eynwk3KVDeL-",
        "outputId": "9c6a8839-dfd3-4c11-efd7-1dc02b42a0a2"
      },
      "outputs": [
        {
          "output_type": "execute_result",
          "data": {
            "text/plain": [
              "(1, 2, 4)"
            ]
          },
          "metadata": {},
          "execution_count": 43
        }
      ],
      "source": [
        "m.min(axis=1)"
      ]
    },
    {
      "cell_type": "markdown",
      "metadata": {
        "id": "L48FG-gpL_Ob"
      },
      "source": [
        "Finally, if the `axis` is some other value, I throw an `IndexError`:"
      ]
    },
    {
      "cell_type": "code",
      "execution_count": 44,
      "metadata": {
        "colab": {
          "base_uri": "https://localhost:8080/",
          "height": 263
        },
        "id": "zbg1mXWeEItd",
        "outputId": "7b7995c1-5dcb-489f-dbc1-8b147274ab4f"
      },
      "outputs": [
        {
          "output_type": "error",
          "ename": "IndexError",
          "evalue": "Matrix only has two axes",
          "traceback": [
            "\u001b[0;31m---------------------------------------------------------------------------\u001b[0m",
            "\u001b[0;31mIndexError\u001b[0m                                Traceback (most recent call last)",
            "\u001b[0;32m<ipython-input-44-018777b7bdbb>\u001b[0m in \u001b[0;36m<cell line: 1>\u001b[0;34m()\u001b[0m\n\u001b[0;32m----> 1\u001b[0;31m \u001b[0mm\u001b[0m\u001b[0;34m.\u001b[0m\u001b[0mmin\u001b[0m\u001b[0;34m(\u001b[0m\u001b[0maxis\u001b[0m\u001b[0;34m=\u001b[0m\u001b[0;36m3\u001b[0m\u001b[0;34m)\u001b[0m\u001b[0;34m\u001b[0m\u001b[0;34m\u001b[0m\u001b[0m\n\u001b[0m",
            "\u001b[0;32m<ipython-input-38-bda5d9aaa71a>\u001b[0m in \u001b[0;36mmin\u001b[0;34m(self, axis)\u001b[0m\n\u001b[1;32m     12\u001b[0m     \u001b[0;32melif\u001b[0m \u001b[0maxis\u001b[0m \u001b[0;34m==\u001b[0m \u001b[0;36m0\u001b[0m\u001b[0;34m:\u001b[0m \u001b[0;32mreturn\u001b[0m \u001b[0mmin\u001b[0m\u001b[0;34m(\u001b[0m\u001b[0mself\u001b[0m\u001b[0;34m.\u001b[0m\u001b[0mxs\u001b[0m\u001b[0;34m)\u001b[0m\u001b[0;34m\u001b[0m\u001b[0;34m\u001b[0m\u001b[0m\n\u001b[1;32m     13\u001b[0m     \u001b[0;32melif\u001b[0m \u001b[0maxis\u001b[0m \u001b[0;34m==\u001b[0m \u001b[0;36m1\u001b[0m\u001b[0;34m:\u001b[0m \u001b[0;32mreturn\u001b[0m \u001b[0mmin\u001b[0m\u001b[0;34m(\u001b[0m\u001b[0mzip\u001b[0m\u001b[0;34m(\u001b[0m\u001b[0;34m*\u001b[0m\u001b[0mself\u001b[0m\u001b[0;34m.\u001b[0m\u001b[0mxs\u001b[0m\u001b[0;34m)\u001b[0m\u001b[0;34m)\u001b[0m\u001b[0;34m\u001b[0m\u001b[0;34m\u001b[0m\u001b[0m\n\u001b[0;32m---> 14\u001b[0;31m     \u001b[0;32melse\u001b[0m\u001b[0;34m:\u001b[0m \u001b[0;32mraise\u001b[0m \u001b[0mIndexError\u001b[0m\u001b[0;34m(\u001b[0m\u001b[0;34m\"Matrix only has two axes\"\u001b[0m\u001b[0;34m)\u001b[0m\u001b[0;34m\u001b[0m\u001b[0;34m\u001b[0m\u001b[0m\n\u001b[0m\u001b[1;32m     15\u001b[0m \u001b[0;34m\u001b[0m\u001b[0m\n\u001b[1;32m     16\u001b[0m   \u001b[0;32mdef\u001b[0m \u001b[0mmax\u001b[0m\u001b[0;34m(\u001b[0m\u001b[0mself\u001b[0m\u001b[0;34m,\u001b[0m \u001b[0maxis\u001b[0m\u001b[0;34m=\u001b[0m\u001b[0;32mNone\u001b[0m\u001b[0;34m)\u001b[0m\u001b[0;34m:\u001b[0m\u001b[0;34m\u001b[0m\u001b[0;34m\u001b[0m\u001b[0m\n",
            "\u001b[0;31mIndexError\u001b[0m: Matrix only has two axes"
          ]
        }
      ],
      "source": [
        "m.min(axis=3)"
      ]
    },
    {
      "cell_type": "markdown",
      "source": [
        "`max` operates similarly:"
      ],
      "metadata": {
        "id": "zz-L4D63MdpW"
      }
    },
    {
      "cell_type": "code",
      "source": [
        "m.max(), m.max(axis=0), m.max(axis=1)"
      ],
      "metadata": {
        "colab": {
          "base_uri": "https://localhost:8080/"
        },
        "id": "VjqNsiaNMfuJ",
        "outputId": "53f210a1-0fac-4077-bffb-d5a37aa4c691"
      },
      "execution_count": 45,
      "outputs": [
        {
          "output_type": "execute_result",
          "data": {
            "text/plain": [
              "(50, [4, 50], (2, 30, 50))"
            ]
          },
          "metadata": {},
          "execution_count": 45
        }
      ]
    },
    {
      "cell_type": "code",
      "source": [
        "m.max(axis=3)"
      ],
      "metadata": {
        "colab": {
          "base_uri": "https://localhost:8080/",
          "height": 263
        },
        "id": "2GtulJ-zMla2",
        "outputId": "f95b7ed1-7f11-4a6d-9f27-ab00dc539bc0"
      },
      "execution_count": 46,
      "outputs": [
        {
          "output_type": "error",
          "ename": "IndexError",
          "evalue": "Matrix only has two axes",
          "traceback": [
            "\u001b[0;31m---------------------------------------------------------------------------\u001b[0m",
            "\u001b[0;31mIndexError\u001b[0m                                Traceback (most recent call last)",
            "\u001b[0;32m<ipython-input-46-7ad019f29af0>\u001b[0m in \u001b[0;36m<cell line: 1>\u001b[0;34m()\u001b[0m\n\u001b[0;32m----> 1\u001b[0;31m \u001b[0mm\u001b[0m\u001b[0;34m.\u001b[0m\u001b[0mmax\u001b[0m\u001b[0;34m(\u001b[0m\u001b[0maxis\u001b[0m\u001b[0;34m=\u001b[0m\u001b[0;36m3\u001b[0m\u001b[0;34m)\u001b[0m\u001b[0;34m\u001b[0m\u001b[0;34m\u001b[0m\u001b[0m\n\u001b[0m",
            "\u001b[0;32m<ipython-input-38-bda5d9aaa71a>\u001b[0m in \u001b[0;36mmax\u001b[0;34m(self, axis)\u001b[0m\n\u001b[1;32m     18\u001b[0m     \u001b[0;32melif\u001b[0m \u001b[0maxis\u001b[0m \u001b[0;34m==\u001b[0m \u001b[0;36m0\u001b[0m\u001b[0;34m:\u001b[0m \u001b[0;32mreturn\u001b[0m \u001b[0mmax\u001b[0m\u001b[0;34m(\u001b[0m\u001b[0mself\u001b[0m\u001b[0;34m.\u001b[0m\u001b[0mxs\u001b[0m\u001b[0;34m)\u001b[0m\u001b[0;34m\u001b[0m\u001b[0;34m\u001b[0m\u001b[0m\n\u001b[1;32m     19\u001b[0m     \u001b[0;32melif\u001b[0m \u001b[0maxis\u001b[0m \u001b[0;34m==\u001b[0m \u001b[0;36m1\u001b[0m\u001b[0;34m:\u001b[0m \u001b[0;32mreturn\u001b[0m \u001b[0mmax\u001b[0m\u001b[0;34m(\u001b[0m\u001b[0mzip\u001b[0m\u001b[0;34m(\u001b[0m\u001b[0;34m*\u001b[0m\u001b[0mself\u001b[0m\u001b[0;34m.\u001b[0m\u001b[0mxs\u001b[0m\u001b[0;34m)\u001b[0m\u001b[0;34m)\u001b[0m\u001b[0;34m\u001b[0m\u001b[0;34m\u001b[0m\u001b[0m\n\u001b[0;32m---> 20\u001b[0;31m     \u001b[0;32melse\u001b[0m\u001b[0;34m:\u001b[0m \u001b[0;32mraise\u001b[0m \u001b[0mIndexError\u001b[0m\u001b[0;34m(\u001b[0m\u001b[0;34m\"Matrix only has two axes\"\u001b[0m\u001b[0;34m)\u001b[0m\u001b[0;34m\u001b[0m\u001b[0;34m\u001b[0m\u001b[0m\n\u001b[0m\u001b[1;32m     21\u001b[0m \u001b[0;34m\u001b[0m\u001b[0m\n\u001b[1;32m     22\u001b[0m   \u001b[0;32mdef\u001b[0m \u001b[0m__repr__\u001b[0m\u001b[0;34m(\u001b[0m\u001b[0mself\u001b[0m\u001b[0;34m)\u001b[0m\u001b[0;34m:\u001b[0m\u001b[0;34m\u001b[0m\u001b[0;34m\u001b[0m\u001b[0m\n",
            "\u001b[0;31mIndexError\u001b[0m: Matrix only has two axes"
          ]
        }
      ]
    },
    {
      "cell_type": "markdown",
      "metadata": {
        "id": "owC0KUBvFgAT"
      },
      "source": [
        "That's it! Another relatively simple implementation."
      ]
    },
    {
      "cell_type": "markdown",
      "metadata": {
        "id": "Gbt6PydCFz1b"
      },
      "source": [
        "## Final Thoughts"
      ]
    },
    {
      "cell_type": "markdown",
      "metadata": {
        "id": "CBWDKEfJF0yR"
      },
      "source": [
        "Creating my own `Matrix` class was fun and educational. I didn't expect the object representation as a string to be so involved---and I haven't even added functionality like NumPy or PyTorch where they \"summarize\" very long arrays and tensors instead of listing out all of the values.\n",
        "\n",
        "I also learned a few things along the way:\n",
        "\n",
        "- Using `zip` to transpose a list\n",
        "- Using the `@property` decorator\n",
        "- Justifying string with `rjust`\n",
        "- Implementing the built-in `IndexError` for situations when the user passes an incompatible `axis` argument\n",
        "\n",
        "I'm assuming that we'll be building on this `Matrix` class further down the road in Part 2, so it was helpful to get a jump on that and start thinking about how this class would function right now.\n",
        "\n",
        "I hope you enjoyed this blog post! Follow me on Twitter [@vishal_learner](https://twitter.com/vishal_learner)."
      ]
    }
  ],
  "metadata": {
    "colab": {
      "provenance": []
    },
    "kernelspec": {
      "display_name": "Python 3",
      "name": "python3"
    },
    "language_info": {
      "name": "python"
    }
  },
  "nbformat": 4,
  "nbformat_minor": 0
}
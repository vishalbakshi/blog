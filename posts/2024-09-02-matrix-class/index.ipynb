{
  "cells": [
    {
      "cell_type": "raw",
      "metadata": {
        "vscode": {
          "languageId": "raw"
        }
      },
      "source": [
        "---\n",
        "title: Implementing a `Matrix` Class in Python\n",
        "date: \"2024-09-02\"\n",
        "author: Vishal Bakshi\n",
        "description: In this blog post I implement a `Matrix` class following Lesson 10 of the fastai course (Part 2) and add some additional functionality.\n",
        "filters:\n",
        "   - lightbox\n",
        "lightbox: auto\n",
        "categories:\n",
        "    - python\n",
        "    - deep learning\n",
        "    - machine learning\n",
        "---"
      ]
    },
    {
      "cell_type": "markdown",
      "metadata": {
        "id": "fA8fTSLT1ZDM"
      },
      "source": [
        "## Background"
      ]
    },
    {
      "cell_type": "markdown",
      "metadata": {
        "id": "Eyj-aesH1aCx"
      },
      "source": [
        "In [Lesson 10 of the fastai course (Part 2)](https://youtu.be/6StU6UtZEbU?feature=shared&t=4793) Jeremy introduces the following `Matrix` class to allow for PyTorch- and NumPy-like indexing into a Python `list`:\n",
        "\n",
        "```python\n",
        "class Matrix:\n",
        "  def __init__(self, xs): self.xs = xs\n",
        "  def __getitem__(self, idxs): return self.xs[idxs[0]][idxs[1]]\n",
        "```\n",
        "\n",
        "In this notebook, I'll expand this class to add the following methods to further mimic NumPy arrays:\n",
        "\n",
        "- A `__repr__` method which returns a displayable/printable representation of the `Matrix`\n",
        "- A `shape` method which displays the shape of the `Matrix`.\n",
        "- A `min` method\n",
        "- A `max` method"
      ]
    },
    {
      "cell_type": "code",
      "execution_count": 151,
      "metadata": {
        "id": "AT-La9BW36J4"
      },
      "outputs": [],
      "source": [
        "import numpy as np"
      ]
    },
    {
      "cell_type": "markdown",
      "metadata": {
        "id": "0ylyEY9B248Q"
      },
      "source": [
        "## Expanding the `Matrix` Class"
      ]
    },
    {
      "cell_type": "markdown",
      "metadata": {
        "id": "GNCau7Ys27Jf"
      },
      "source": [
        "I'll start by defining the `Matrix` class as done in Lesson 10 and instantiating a `Matrix` object:"
      ]
    },
    {
      "cell_type": "code",
      "execution_count": 152,
      "metadata": {
        "id": "UZqkYE_51W69"
      },
      "outputs": [],
      "source": [
        "class Matrix:\n",
        "  def __init__(self, xs): self.xs = xs\n",
        "  def __getitem__(self, idxs): return self.xs[idxs[0]][idxs[1]]"
      ]
    },
    {
      "cell_type": "code",
      "execution_count": 153,
      "metadata": {
        "id": "1_rRrWA538qH"
      },
      "outputs": [],
      "source": [
        "lst1 = [\n",
        "    [1, 2, 3],\n",
        "    [4, 5, 6]\n",
        "]"
      ]
    },
    {
      "cell_type": "code",
      "execution_count": 154,
      "metadata": {
        "id": "vHCF8P8O3GPy"
      },
      "outputs": [],
      "source": [
        "m = Matrix(lst1)"
      ]
    },
    {
      "cell_type": "markdown",
      "metadata": {
        "id": "kzBEQAH-3NSZ"
      },
      "source": [
        "I'll illustrate the `__getitem__` method:"
      ]
    },
    {
      "cell_type": "code",
      "execution_count": 155,
      "metadata": {
        "colab": {
          "base_uri": "https://localhost:8080/"
        },
        "id": "JXNe-oEo3JXa",
        "outputId": "7c6f4542-fad6-4ba0-bebc-184f1aba5ffb"
      },
      "outputs": [
        {
          "data": {
            "text/plain": [
              "6"
            ]
          },
          "execution_count": 155,
          "metadata": {},
          "output_type": "execute_result"
        }
      ],
      "source": [
        "m[1,2]"
      ]
    },
    {
      "cell_type": "markdown",
      "metadata": {
        "id": "rpZnDDlX3Y2s"
      },
      "source": [
        "### Adding a `__repr__` Method"
      ]
    },
    {
      "cell_type": "markdown",
      "metadata": {
        "id": "iQu650ys3ciM"
      },
      "source": [
        "Currently when I print out the `Matrix` object, it just shows a default object representation. From the Python docs:\n",
        "\n",
        "> Called by the repr() built-in function to compute the “official” string representation of an object. If at all possible, this should look like a valid Python expression that could be used to recreate an object with the same value (given an appropriate environment). If this is not possible, a string of the form <...some useful description...> should be returned. The return value must be a string object."
      ]
    },
    {
      "cell_type": "code",
      "execution_count": 156,
      "metadata": {
        "colab": {
          "base_uri": "https://localhost:8080/"
        },
        "id": "XgSX2mOy3J4a",
        "outputId": "18289582-0ffb-4178-843c-43422712a975"
      },
      "outputs": [
        {
          "data": {
            "text/plain": [
              "<__main__.Matrix at 0x7ec290b4db40>"
            ]
          },
          "execution_count": 156,
          "metadata": {},
          "output_type": "execute_result"
        }
      ],
      "source": [
        "m"
      ]
    },
    {
      "cell_type": "markdown",
      "metadata": {
        "id": "ic3cjibY34ZS"
      },
      "source": [
        "NumPy has a prettier object representation:"
      ]
    },
    {
      "cell_type": "code",
      "execution_count": 157,
      "metadata": {
        "colab": {
          "base_uri": "https://localhost:8080/"
        },
        "id": "a_N3ysDE3gYu",
        "outputId": "1ca2bfe3-2c13-4927-ed51-fa3609df739c"
      },
      "outputs": [
        {
          "data": {
            "text/plain": [
              "array([[1, 2, 3],\n",
              "       [4, 5, 6]])"
            ]
          },
          "execution_count": 157,
          "metadata": {},
          "output_type": "execute_result"
        }
      ],
      "source": [
        "arr = np.array(lst1)\n",
        "arr"
      ]
    },
    {
      "cell_type": "markdown",
      "metadata": {
        "id": "E0OEwWEa5Sar"
      },
      "source": [
        "I'll add a `__repr__` method that does that (thanks Claude and ChatGPT!):"
      ]
    },
    {
      "cell_type": "code",
      "execution_count": 158,
      "metadata": {
        "id": "JAsjjQLV4L5S"
      },
      "outputs": [],
      "source": [
        "class Matrix:\n",
        "  def __init__(self, xs): self.xs = xs\n",
        "  def __getitem__(self, idxs): return self.xs[idxs[0]][idxs[1]]\n",
        "  def __repr__(self):\n",
        "        # Convert each element to string\n",
        "        str_matrix = [[str(elem) for elem in row] for row in self.xs]\n",
        "\n",
        "        # Compute max column widths\n",
        "        col_widths = [max(map(len, col)) for col in zip(*str_matrix)]\n",
        "\n",
        "        # Format each row with proper padding\n",
        "        formatted_rows = (\n",
        "            '[' + ', '.join(elem.rjust(width) for elem, width in zip(row, col_widths)) + ']'\n",
        "            for row in str_matrix\n",
        "        )\n",
        "\n",
        "        # Join rows with newline and proper indentation\n",
        "        matrix_str = ',\\n        '.join(formatted_rows)\n",
        "\n",
        "        # Add the class name and wrapping brackets\n",
        "        return f\"Matrix([{matrix_str}])\""
      ]
    },
    {
      "cell_type": "markdown",
      "metadata": {
        "id": "XstxDV3t68jf"
      },
      "source": [
        "That looks much prettier! Albeit a lot more code in the class definition."
      ]
    },
    {
      "cell_type": "code",
      "execution_count": 159,
      "metadata": {
        "colab": {
          "base_uri": "https://localhost:8080/"
        },
        "id": "axqTMJij5cks",
        "outputId": "b1170050-e58b-45a4-cba5-e4ea317fc7dc"
      },
      "outputs": [
        {
          "data": {
            "text/plain": [
              "Matrix([[1, 2, 3],\n",
              "        [4, 5, 6]])"
            ]
          },
          "execution_count": 159,
          "metadata": {},
          "output_type": "execute_result"
        }
      ],
      "source": [
        "m = Matrix(lst1)\n",
        "m"
      ]
    },
    {
      "cell_type": "markdown",
      "metadata": {
        "id": "sCqWFSpi65yw"
      },
      "source": [
        "I'll walk through each line in this `__repr__` method. We start with a nested list comprehension with maintains the nested list structure of `self.xs` but replaces the values with strings:"
      ]
    },
    {
      "cell_type": "code",
      "execution_count": 160,
      "metadata": {
        "colab": {
          "base_uri": "https://localhost:8080/"
        },
        "id": "qEvcmdh35d9F",
        "outputId": "ac139d5c-94c9-407f-ef30-6ff7fc75686b"
      },
      "outputs": [
        {
          "data": {
            "text/plain": [
              "[['1', '2', '3'], ['4', '5', '6']]"
            ]
          },
          "execution_count": 160,
          "metadata": {},
          "output_type": "execute_result"
        }
      ],
      "source": [
        "str_matrix = [[str(elem) for elem in row] for row in m.xs]\n",
        "str_matrix"
      ]
    },
    {
      "cell_type": "markdown",
      "metadata": {
        "id": "3mLWSCEE7nNH"
      },
      "source": [
        "To determine the \"width\" of each column, the following list comprehension does the following:\n",
        "\n",
        "- Transpose `str_matrix` with `zip(*str_matrix)`\n",
        "- Calculate the number of characters in each column with `map(len, col)`\n",
        "- Return the maximum length of each value in each column with `max()`"
      ]
    },
    {
      "cell_type": "code",
      "execution_count": 161,
      "metadata": {
        "colab": {
          "base_uri": "https://localhost:8080/"
        },
        "id": "9HfeCMOM6l1c",
        "outputId": "b2f7ccac-070a-4784-870e-9290c1839ff6"
      },
      "outputs": [
        {
          "data": {
            "text/plain": [
              "[1, 1, 1]"
            ]
          },
          "execution_count": 161,
          "metadata": {},
          "output_type": "execute_result"
        }
      ],
      "source": [
        "col_widths = [max(map(len, col)) for col in zip(*str_matrix)]\n",
        "col_widths"
      ]
    },
    {
      "cell_type": "code",
      "execution_count": 162,
      "metadata": {
        "colab": {
          "base_uri": "https://localhost:8080/"
        },
        "id": "wdVuEkAn77NR",
        "outputId": "7d562db4-c740-49d0-f5bb-a7f61d18f2e9"
      },
      "outputs": [
        {
          "data": {
            "text/plain": [
              "[('1', '4'), ('2', '5'), ('3', '6')]"
            ]
          },
          "execution_count": 162,
          "metadata": {},
          "output_type": "execute_result"
        }
      ],
      "source": [
        "list(zip(*str_matrix)) # transposed matrix"
      ]
    },
    {
      "cell_type": "code",
      "execution_count": 163,
      "metadata": {
        "colab": {
          "base_uri": "https://localhost:8080/"
        },
        "id": "cEXqH5J67T2L",
        "outputId": "200160f8-3776-485b-c74e-e5d7269d2293"
      },
      "outputs": [
        {
          "data": {
            "text/plain": [
              "[[1, 1], [1, 1], [1, 1]]"
            ]
          },
          "execution_count": 163,
          "metadata": {},
          "output_type": "execute_result"
        }
      ],
      "source": [
        "[list(map(len, col)) for col in zip(*str_matrix)] # width of each value in each column"
      ]
    },
    {
      "cell_type": "code",
      "execution_count": 164,
      "metadata": {
        "colab": {
          "base_uri": "https://localhost:8080/"
        },
        "id": "gKJQrnX-7XFi",
        "outputId": "10e6eca0-a513-479b-a3f5-39a5454b5c16"
      },
      "outputs": [
        {
          "data": {
            "text/plain": [
              "[1, 1, 1]"
            ]
          },
          "execution_count": 164,
          "metadata": {},
          "output_type": "execute_result"
        }
      ],
      "source": [
        "[max(map(len, col)) for col in zip(*str_matrix)] # maximum width of each column value"
      ]
    },
    {
      "cell_type": "markdown",
      "metadata": {
        "id": "fTHeKYyL9qH5"
      },
      "source": [
        "The next line is another nested list comprehension. We iterate over each `row` in `str_matrix` inside the `.join` call and then do the following:\n",
        "\n",
        "- `zip` together the `row` and the `col_widths` list and iterate over it\n",
        "- for each `elem, width` in `zip(row, col_widths)` we call `elem.rjust(width)` which right-adjusts `elem` inside the given string `width`.\n",
        "\n",
        "`formatted_rows` is a list of strings where each row is a string representation of each row in the `Matrix`:\n"
      ]
    },
    {
      "cell_type": "code",
      "execution_count": 165,
      "metadata": {
        "colab": {
          "base_uri": "https://localhost:8080/"
        },
        "id": "gakE3AqZ8Kez",
        "outputId": "cb81a86f-e895-4edf-af14-39137a705c52"
      },
      "outputs": [
        {
          "data": {
            "text/plain": [
              "['[1, 2, 3]', '[4, 5, 6]']"
            ]
          },
          "execution_count": 165,
          "metadata": {},
          "output_type": "execute_result"
        }
      ],
      "source": [
        "formatted_rows = (\n",
        "            '[' + ', '.join(elem.rjust(width) for elem, width in zip(row, col_widths)) + ']'\n",
        "            for row in str_matrix\n",
        "        )\n",
        "list(formatted_rows)"
      ]
    },
    {
      "cell_type": "markdown",
      "metadata": {
        "id": "9er4MHd0-wh-"
      },
      "source": [
        "Building up the `formatted_rows` logic line by line:"
      ]
    },
    {
      "cell_type": "code",
      "execution_count": 166,
      "metadata": {
        "colab": {
          "base_uri": "https://localhost:8080/"
        },
        "id": "ZLxi3tfb-fxr",
        "outputId": "8f73ed1c-45d6-4020-9c9e-127da4477076"
      },
      "outputs": [
        {
          "data": {
            "text/plain": [
              "[['1', '2', '3'], ['4', '5', '6']]"
            ]
          },
          "execution_count": 166,
          "metadata": {},
          "output_type": "execute_result"
        }
      ],
      "source": [
        "[row for row in str_matrix]"
      ]
    },
    {
      "cell_type": "code",
      "execution_count": 167,
      "metadata": {
        "colab": {
          "base_uri": "https://localhost:8080/"
        },
        "id": "8gENsE7j-vtG",
        "outputId": "4ca9be02-c666-4e87-961d-2e38e9f939ab"
      },
      "outputs": [
        {
          "data": {
            "text/plain": [
              "[[('1', 1), ('2', 1), ('3', 1)], [('4', 1), ('5', 1), ('6', 1)]]"
            ]
          },
          "execution_count": 167,
          "metadata": {},
          "output_type": "execute_result"
        }
      ],
      "source": [
        "[list(((elem, width) for elem, width in zip(row, col_widths))) for row in str_matrix]"
      ]
    },
    {
      "cell_type": "code",
      "execution_count": 168,
      "metadata": {
        "colab": {
          "base_uri": "https://localhost:8080/"
        },
        "id": "3Ld1XhhJ-6Ad",
        "outputId": "9c59385e-cd20-455a-fe58-5921af2052fe"
      },
      "outputs": [
        {
          "data": {
            "text/plain": [
              "[['1', '2', '3'], ['4', '5', '6']]"
            ]
          },
          "execution_count": 168,
          "metadata": {},
          "output_type": "execute_result"
        }
      ],
      "source": [
        "[list((elem.rjust(width) for elem, width in zip(row, col_widths))) for row in str_matrix]"
      ]
    },
    {
      "cell_type": "code",
      "execution_count": 169,
      "metadata": {
        "colab": {
          "base_uri": "https://localhost:8080/"
        },
        "id": "ozFVcBaA_EOP",
        "outputId": "e04e66a6-5298-422e-e7b6-c7a7e341b195"
      },
      "outputs": [
        {
          "data": {
            "text/plain": [
              "['1, 2, 3', '4, 5, 6']"
            ]
          },
          "execution_count": 169,
          "metadata": {},
          "output_type": "execute_result"
        }
      ],
      "source": [
        "[', '.join(elem.rjust(width) for elem, width in zip(row, col_widths)) for row in str_matrix]"
      ]
    },
    {
      "cell_type": "code",
      "execution_count": 170,
      "metadata": {
        "colab": {
          "base_uri": "https://localhost:8080/"
        },
        "id": "OKLrxULu_Jse",
        "outputId": "8830a092-46a7-4199-d0a2-2326c90eefc5"
      },
      "outputs": [
        {
          "data": {
            "text/plain": [
              "['[1, 2, 3]', '[4, 5, 6]']"
            ]
          },
          "execution_count": 170,
          "metadata": {},
          "output_type": "execute_result"
        }
      ],
      "source": [
        "['[' + ', '.join(elem.rjust(width) for elem, width in zip(row, col_widths)) + ']' for row in str_matrix]"
      ]
    },
    {
      "cell_type": "markdown",
      "metadata": {
        "id": "kpFVQ3Z0_VRR"
      },
      "source": [
        "The final line add a new line for each row and indents it to make it print prettily. Note there are 8 spaces after the newline character `\\n` for the 8 characters in the string `Matrix([`:"
      ]
    },
    {
      "cell_type": "code",
      "execution_count": 171,
      "metadata": {
        "colab": {
          "base_uri": "https://localhost:8080/"
        },
        "id": "EDQEnoJR_Lt_",
        "outputId": "b681e10f-35d1-4050-aa37-1f5c3148f9d5"
      },
      "outputs": [
        {
          "name": "stdout",
          "output_type": "stream",
          "text": [
            "Matrix([[1, 2, 3],\n",
            "        [4, 5, 6]])\n"
          ]
        }
      ],
      "source": [
        "formatted_rows = (\n",
        "            '[' + ', '.join(elem.rjust(width) for elem, width in zip(row, col_widths)) + ']'\n",
        "            for row in str_matrix\n",
        "        )\n",
        "\n",
        "matrix_str = ',\\n        '.join(formatted_rows)\n",
        "print(f\"Matrix([{matrix_str}])\")"
      ]
    },
    {
      "cell_type": "markdown",
      "metadata": {
        "id": "sIFVWBUeAB9a"
      },
      "source": [
        "Testing out the `__repr__` method on a `Matrix` with a different size and different values (note the right-adjustment of the values):"
      ]
    },
    {
      "cell_type": "code",
      "execution_count": 172,
      "metadata": {
        "id": "2edL_0-4DoSF"
      },
      "outputs": [],
      "source": [
        "lst2 = [[1, 2], [2, 30], [4, 50]]"
      ]
    },
    {
      "cell_type": "code",
      "execution_count": 173,
      "metadata": {
        "colab": {
          "base_uri": "https://localhost:8080/"
        },
        "id": "PXY4dfnI_cGB",
        "outputId": "0f23affe-fb64-4b2b-ff04-03d708b7679c"
      },
      "outputs": [
        {
          "data": {
            "text/plain": [
              "Matrix([[1,  2],\n",
              "        [2, 30],\n",
              "        [4, 50]])"
            ]
          },
          "execution_count": 173,
          "metadata": {},
          "output_type": "execute_result"
        }
      ],
      "source": [
        "m = Matrix(lst2)\n",
        "m"
      ]
    },
    {
      "cell_type": "markdown",
      "metadata": {
        "id": "jxa2vscWAKlP"
      },
      "source": [
        "Pretty! And pretty complicated."
      ]
    },
    {
      "cell_type": "markdown",
      "metadata": {
        "id": "KaoizeLHAUX3"
      },
      "source": [
        "## Adding a `shape` Method"
      ]
    },
    {
      "cell_type": "markdown",
      "metadata": {
        "id": "sBf9FqOTAV7P"
      },
      "source": [
        "One of the most useful methods in PyTorch and NumPy is the `shape` method. I constantly use it throughout my coding to make sure I'm dealing with the appropriately shaped tensors and arrays."
      ]
    },
    {
      "cell_type": "code",
      "execution_count": 174,
      "metadata": {
        "colab": {
          "base_uri": "https://localhost:8080/"
        },
        "id": "kpfpfw6fAJ0l",
        "outputId": "54d934ff-155d-421d-94b5-993ae8a6067a"
      },
      "outputs": [
        {
          "data": {
            "text/plain": [
              "(3, 2)"
            ]
          },
          "execution_count": 174,
          "metadata": {},
          "output_type": "execute_result"
        }
      ],
      "source": [
        "np.array(lst2).shape"
      ]
    },
    {
      "cell_type": "markdown",
      "metadata": {
        "id": "t5VqSYVGA2I3"
      },
      "source": [
        "I'll implement a `shape` property for my `Matrix`:"
      ]
    },
    {
      "cell_type": "code",
      "execution_count": 175,
      "metadata": {
        "id": "T6UjckulAhk_"
      },
      "outputs": [],
      "source": [
        "class Matrix:\n",
        "  def __init__(self, xs): self.xs = xs\n",
        "  def __getitem__(self, idxs): return self.xs[idxs[0]][idxs[1]]\n",
        "\n",
        "  @property\n",
        "  def shape(self): return len(self.xs), len(self.xs[0])\n",
        "\n",
        "  def __repr__(self):\n",
        "        # Convert each element to string\n",
        "        str_matrix = [[str(elem) for elem in row] for row in self.xs]\n",
        "\n",
        "        # Compute max column widths\n",
        "        col_widths = [max(map(len, col)) for col in zip(*str_matrix)]\n",
        "\n",
        "        # Format each row with proper padding\n",
        "        formatted_rows = (\n",
        "            '[' + ', '.join(elem.rjust(width) for elem, width in zip(row, col_widths)) + ']'\n",
        "            for row in str_matrix\n",
        "        )\n",
        "\n",
        "        # Join rows with newline and proper indentation\n",
        "        matrix_str = ',\\n        '.join(formatted_rows)\n",
        "\n",
        "        # Add the class name and wrapping brackets\n",
        "        return f\"Matrix([{matrix_str}])\""
      ]
    },
    {
      "cell_type": "code",
      "execution_count": 176,
      "metadata": {
        "colab": {
          "base_uri": "https://localhost:8080/"
        },
        "id": "OjOJ1CBUBJUq",
        "outputId": "5de8d2a5-efe9-42fe-cfa9-9ef91ca92ba6"
      },
      "outputs": [
        {
          "data": {
            "text/plain": [
              "Matrix([[1,  2],\n",
              "        [2, 30],\n",
              "        [4, 50]])"
            ]
          },
          "execution_count": 176,
          "metadata": {},
          "output_type": "execute_result"
        }
      ],
      "source": [
        "m = Matrix(lst2)\n",
        "m"
      ]
    },
    {
      "cell_type": "code",
      "execution_count": 177,
      "metadata": {
        "colab": {
          "base_uri": "https://localhost:8080/"
        },
        "id": "au8tXpH_BJ01",
        "outputId": "c3570d54-45b2-40b7-fc7d-b343d0ebbf86"
      },
      "outputs": [
        {
          "data": {
            "text/plain": [
              "(3, 2)"
            ]
          },
          "execution_count": 177,
          "metadata": {},
          "output_type": "execute_result"
        }
      ],
      "source": [
        "m.shape"
      ]
    },
    {
      "cell_type": "markdown",
      "metadata": {
        "id": "avQDJqDmBpkP"
      },
      "source": [
        "Explaining my one-liner: since the `Matrix` is always going to be rectangular, the number of rows is the `len` of the list `xs` and the number of columns is the `len` of either of the rows."
      ]
    },
    {
      "cell_type": "code",
      "execution_count": 178,
      "metadata": {
        "colab": {
          "base_uri": "https://localhost:8080/"
        },
        "id": "C9tTXRKXBKok",
        "outputId": "7fa2accf-f8fd-4793-e6a2-f5b18e3b3b05"
      },
      "outputs": [
        {
          "data": {
            "text/plain": [
              "(3, 2)"
            ]
          },
          "execution_count": 178,
          "metadata": {},
          "output_type": "execute_result"
        }
      ],
      "source": [
        "len(m.xs), len(m.xs[0])"
      ]
    },
    {
      "cell_type": "markdown",
      "metadata": {
        "id": "1AUuzMuLCCe4"
      },
      "source": [
        "That's it for the `shape` method! Simple."
      ]
    },
    {
      "cell_type": "markdown",
      "metadata": {
        "id": "4LX4XmHACEoB"
      },
      "source": [
        "## Adding a `min` and `max` Method"
      ]
    },
    {
      "cell_type": "markdown",
      "metadata": {
        "id": "aNvMsNN7CGgF"
      },
      "source": [
        "The last pair of methods I'll implement are a `min` and a `max` method similar to NumPy."
      ]
    },
    {
      "cell_type": "code",
      "execution_count": 179,
      "metadata": {
        "colab": {
          "base_uri": "https://localhost:8080/"
        },
        "id": "BUcvbjbnD3Cy",
        "outputId": "c68dcbf1-5a39-4a94-c284-bc3f0fc4a9ff"
      },
      "outputs": [
        {
          "data": {
            "text/plain": [
              "array([[ 1,  2],\n",
              "       [ 2, 30],\n",
              "       [ 4, 50]])"
            ]
          },
          "execution_count": 179,
          "metadata": {},
          "output_type": "execute_result"
        }
      ],
      "source": [
        "arr = np.array(lst2)\n",
        "arr"
      ]
    },
    {
      "cell_type": "code",
      "execution_count": 180,
      "metadata": {
        "colab": {
          "base_uri": "https://localhost:8080/"
        },
        "id": "VYEPWyMmD5-h",
        "outputId": "a6372751-c1e3-4b8a-e278-54c96c36e356"
      },
      "outputs": [
        {
          "data": {
            "text/plain": [
              "1"
            ]
          },
          "execution_count": 180,
          "metadata": {},
          "output_type": "execute_result"
        }
      ],
      "source": [
        "arr.min()"
      ]
    },
    {
      "cell_type": "code",
      "execution_count": 181,
      "metadata": {
        "colab": {
          "base_uri": "https://localhost:8080/"
        },
        "id": "t72qtdu8D7In",
        "outputId": "6bf3b1b3-5206-458c-b07d-c20fddf804da"
      },
      "outputs": [
        {
          "data": {
            "text/plain": [
              "array([1, 2])"
            ]
          },
          "execution_count": 181,
          "metadata": {},
          "output_type": "execute_result"
        }
      ],
      "source": [
        "arr.min(axis=0)"
      ]
    },
    {
      "cell_type": "code",
      "execution_count": 182,
      "metadata": {
        "colab": {
          "base_uri": "https://localhost:8080/"
        },
        "id": "Y3MV6HRwD8pg",
        "outputId": "91346b32-6c71-47cc-9de2-1c685bb5f65c"
      },
      "outputs": [
        {
          "data": {
            "text/plain": [
              "array([1, 2, 4])"
            ]
          },
          "execution_count": 182,
          "metadata": {},
          "output_type": "execute_result"
        }
      ],
      "source": [
        "arr.min(axis=1)"
      ]
    },
    {
      "cell_type": "code",
      "execution_count": 183,
      "metadata": {
        "id": "dfFIY7hhB3eH"
      },
      "outputs": [],
      "source": [
        "from itertools import chain\n",
        "\n",
        "class Matrix:\n",
        "  def __init__(self, xs): self.xs = xs\n",
        "  def __getitem__(self, idxs): return self.xs[idxs[0]][idxs[1]]\n",
        "\n",
        "  @property\n",
        "  def shape(self): return len(self.xs), len(self.xs[0])\n",
        "\n",
        "  def min(self, axis=None):\n",
        "    if axis is None: return min(chain(*self.xs))\n",
        "    elif axis == 0: return min(self.xs)\n",
        "    elif axis == 1: return min(zip(*self.xs))\n",
        "    else: raise IndexError(\"Matrix only has two axes\")\n",
        "\n",
        "  def __repr__(self):\n",
        "        # Convert each element to string\n",
        "        str_matrix = [[str(elem) for elem in row] for row in self.xs]\n",
        "\n",
        "        # Compute max column widths\n",
        "        col_widths = [max(map(len, col)) for col in zip(*str_matrix)]\n",
        "\n",
        "        # Format each row with proper padding\n",
        "        formatted_rows = (\n",
        "            '[' + ', '.join(elem.rjust(width) for elem, width in zip(row, col_widths)) + ']'\n",
        "            for row in str_matrix\n",
        "        )\n",
        "\n",
        "        # Join rows with newline and proper indentation\n",
        "        matrix_str = ',\\n        '.join(formatted_rows)\n",
        "\n",
        "        # Add the class name and wrapping brackets\n",
        "        return f\"Matrix([{matrix_str}])\""
      ]
    },
    {
      "cell_type": "code",
      "execution_count": 184,
      "metadata": {
        "colab": {
          "base_uri": "https://localhost:8080/"
        },
        "id": "SjfB5QB9Cljk",
        "outputId": "174f4dcd-6449-4ba3-f575-054d1aee9593"
      },
      "outputs": [
        {
          "data": {
            "text/plain": [
              "Matrix([[1,  2],\n",
              "        [2, 30],\n",
              "        [4, 50]])"
            ]
          },
          "execution_count": 184,
          "metadata": {},
          "output_type": "execute_result"
        }
      ],
      "source": [
        "m = Matrix(lst2)\n",
        "m"
      ]
    },
    {
      "cell_type": "markdown",
      "metadata": {},
      "source": [
        "When no `axis` is specified, `min` returns the minimum value of the flattened `Matrix` (flattened using `chain(*self.xs)`)."
      ]
    },
    {
      "cell_type": "code",
      "execution_count": 185,
      "metadata": {
        "colab": {
          "base_uri": "https://localhost:8080/"
        },
        "id": "ZBk6oJHgCmYj",
        "outputId": "19eae792-a2b3-4d81-ea1d-afdf5612702d"
      },
      "outputs": [
        {
          "data": {
            "text/plain": [
              "1"
            ]
          },
          "execution_count": 185,
          "metadata": {},
          "output_type": "execute_result"
        }
      ],
      "source": [
        "m.min()"
      ]
    },
    {
      "cell_type": "markdown",
      "metadata": {},
      "source": [
        "When `axis=0`, `min` returns the minimum value in each row, which is simply the built-in return value when `min` is applied to a `list` (`min(self.xs)`)."
      ]
    },
    {
      "cell_type": "code",
      "execution_count": 186,
      "metadata": {
        "colab": {
          "base_uri": "https://localhost:8080/"
        },
        "id": "7X1GlkmHDSKe",
        "outputId": "6eb6026a-515e-43fe-a890-dc61fd3d440a"
      },
      "outputs": [
        {
          "data": {
            "text/plain": [
              "[1, 2]"
            ]
          },
          "execution_count": 186,
          "metadata": {},
          "output_type": "execute_result"
        }
      ],
      "source": [
        "m.min(axis=0)"
      ]
    },
    {
      "cell_type": "markdown",
      "metadata": {},
      "source": [
        "When `axis=1`, `min` returns the minimum value in each column. I first transpose the `list` and then pass it through `min` to get the desired result:"
      ]
    },
    {
      "cell_type": "code",
      "execution_count": 187,
      "metadata": {
        "colab": {
          "base_uri": "https://localhost:8080/"
        },
        "id": "Eynwk3KVDeL-",
        "outputId": "f9325829-e8c0-4b35-bf47-4eea1e07e497"
      },
      "outputs": [
        {
          "data": {
            "text/plain": [
              "(1, 2, 4)"
            ]
          },
          "execution_count": 187,
          "metadata": {},
          "output_type": "execute_result"
        }
      ],
      "source": [
        "m.min(axis=1)"
      ]
    },
    {
      "cell_type": "markdown",
      "metadata": {},
      "source": [
        "Finally, if the `axis` is some other value, I throw an `IndexError`:"
      ]
    },
    {
      "cell_type": "code",
      "execution_count": 188,
      "metadata": {
        "colab": {
          "base_uri": "https://localhost:8080/",
          "height": 263
        },
        "id": "zbg1mXWeEItd",
        "outputId": "348ee1f6-8948-4111-bfa7-c305c3c03aec"
      },
      "outputs": [
        {
          "ename": "IndexError",
          "evalue": "Matrix only has two axes",
          "output_type": "error",
          "traceback": [
            "\u001b[0;31m---------------------------------------------------------------------------\u001b[0m",
            "\u001b[0;31mIndexError\u001b[0m                                Traceback (most recent call last)",
            "\u001b[0;32m<ipython-input-188-018777b7bdbb>\u001b[0m in \u001b[0;36m<cell line: 1>\u001b[0;34m()\u001b[0m\n\u001b[0;32m----> 1\u001b[0;31m \u001b[0mm\u001b[0m\u001b[0;34m.\u001b[0m\u001b[0mmin\u001b[0m\u001b[0;34m(\u001b[0m\u001b[0maxis\u001b[0m\u001b[0;34m=\u001b[0m\u001b[0;36m3\u001b[0m\u001b[0;34m)\u001b[0m\u001b[0;34m\u001b[0m\u001b[0;34m\u001b[0m\u001b[0m\n\u001b[0m",
            "\u001b[0;32m<ipython-input-183-8f0afda67d0d>\u001b[0m in \u001b[0;36mmin\u001b[0;34m(self, axis)\u001b[0m\n\u001b[1;32m     12\u001b[0m     \u001b[0;32melif\u001b[0m \u001b[0maxis\u001b[0m \u001b[0;34m==\u001b[0m \u001b[0;36m0\u001b[0m\u001b[0;34m:\u001b[0m \u001b[0;32mreturn\u001b[0m \u001b[0mmin\u001b[0m\u001b[0;34m(\u001b[0m\u001b[0mself\u001b[0m\u001b[0;34m.\u001b[0m\u001b[0mxs\u001b[0m\u001b[0;34m)\u001b[0m\u001b[0;34m\u001b[0m\u001b[0;34m\u001b[0m\u001b[0m\n\u001b[1;32m     13\u001b[0m     \u001b[0;32melif\u001b[0m \u001b[0maxis\u001b[0m \u001b[0;34m==\u001b[0m \u001b[0;36m1\u001b[0m\u001b[0;34m:\u001b[0m \u001b[0;32mreturn\u001b[0m \u001b[0mmin\u001b[0m\u001b[0;34m(\u001b[0m\u001b[0mzip\u001b[0m\u001b[0;34m(\u001b[0m\u001b[0;34m*\u001b[0m\u001b[0mself\u001b[0m\u001b[0;34m.\u001b[0m\u001b[0mxs\u001b[0m\u001b[0;34m)\u001b[0m\u001b[0;34m)\u001b[0m\u001b[0;34m\u001b[0m\u001b[0;34m\u001b[0m\u001b[0m\n\u001b[0;32m---> 14\u001b[0;31m     \u001b[0;32melse\u001b[0m\u001b[0;34m:\u001b[0m \u001b[0;32mraise\u001b[0m \u001b[0mIndexError\u001b[0m\u001b[0;34m(\u001b[0m\u001b[0;34m\"Matrix only has two axes\"\u001b[0m\u001b[0;34m)\u001b[0m\u001b[0;34m\u001b[0m\u001b[0;34m\u001b[0m\u001b[0m\n\u001b[0m\u001b[1;32m     15\u001b[0m \u001b[0;34m\u001b[0m\u001b[0m\n\u001b[1;32m     16\u001b[0m   \u001b[0;32mdef\u001b[0m \u001b[0m__repr__\u001b[0m\u001b[0;34m(\u001b[0m\u001b[0mself\u001b[0m\u001b[0;34m)\u001b[0m\u001b[0;34m:\u001b[0m\u001b[0;34m\u001b[0m\u001b[0;34m\u001b[0m\u001b[0m\n",
            "\u001b[0;31mIndexError\u001b[0m: Matrix only has two axes"
          ]
        }
      ],
      "source": [
        "m.min(axis=3)"
      ]
    },
    {
      "cell_type": "markdown",
      "metadata": {
        "id": "owC0KUBvFgAT"
      },
      "source": [
        "That's it! Another relatively simple implementation."
      ]
    },
    {
      "cell_type": "markdown",
      "metadata": {
        "id": "Gbt6PydCFz1b"
      },
      "source": [
        "## Final Thoughts"
      ]
    },
    {
      "cell_type": "markdown",
      "metadata": {
        "id": "CBWDKEfJF0yR"
      },
      "source": [
        "Creating my own `Matrix` class was fun and educational. I didn't expect the object representation as a string to be so involved---and I haven't even added functionality like NumPy or PyTorch where they \"summarize\" very long arrays and tensors instead of listing out all of the values.\n",
        "\n",
        "I also learned a few things along the way:\n",
        "\n",
        "- Using `zip` to transpose a list\n",
        "- Using the `@property` decorator\n",
        "- Justifying string with `rjust`\n",
        "- Implementing the built-in `IndexError` for situations when the user passes an incompatible `axis` argument\n",
        "\n",
        "I'm assuming that we'll be building on this `Matrix` class further down the road in Part 2, so it was helpful to get a jump on that and start thinking about how this class would function right now.\n",
        "\n",
        "I hope you enjoyed this blog post! Follow me on Twitter [@vishal_learner](https://twitter.com/vishal_learner)."
      ]
    }
  ],
  "metadata": {
    "colab": {
      "provenance": []
    },
    "kernelspec": {
      "display_name": "Python 3",
      "name": "python3"
    },
    "language_info": {
      "name": "python"
    }
  },
  "nbformat": 4,
  "nbformat_minor": 0
}

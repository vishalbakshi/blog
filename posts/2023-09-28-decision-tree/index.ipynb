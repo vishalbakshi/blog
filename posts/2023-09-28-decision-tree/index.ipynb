{
  "cells": [
    {
      "cell_type": "raw",
      "metadata": {},
      "source": [
        "---\n",
        "title: Implementing a Decision Tree Algorithm from Scratch\n",
        "date: \"2023-09-28\"\n",
        "author: Vishal Bakshi\n",
        "description: In this notebook I implement a decision tree algorithm from scratch and compare it to the algorithm from Lesson 6 of the fastai course.\n",
        "categories:\n",
        "    - machine learning\n",
        "    - python\n",
        "---"
      ]
    },
    {
      "cell_type": "markdown",
      "metadata": {
        "id": "UrD6MK4SR50z"
      },
      "source": [
        "## Background\n",
        "In this blog post I'll work through the second exercise of the \"Further Research\" section in Chapter 9 of the fastai textbook:\n",
        "\n",
        "> Implement the decision tree algorithm in this chapter from scratch yourself, and try it on the dataset you used in the first exercise.\n",
        "\n",
        "The decision tree algorithm, as described in the textbook for the Blue Book for Bulldozers Kaggle competition:\n",
        "\n",
        "1. Loop through each column of the dataset in turn.\n",
        "2. For each column, loop through each possible level of that column in turn.\n",
        "3. Try splitting the data into two groups, based on whether they are greater than or less than that value (or if it is a categorical variable, based on whether they are equal to or not equal to that level of that categorical variable).\n",
        "4. Find the average sale price for each of those two groups, and see how close that is to the actual sale price of each of the items of equipment in that group. Treat this as a very simple \"model\" in which our predictions are simply the average sale price of the item's group.\n",
        "5. After looping through all of the columns and all the possible levels for each, pick the split point that gave the best predictions using that simple model.\n",
        "6. We now have two groups for our data, based on this selected split. Treat each group as a separate dataset, and find the best split for each by going back to step 1 for each group.\n",
        "7. Continue this process recursively, until you have reached some stopping criterion for each group--for instance, stop splitting a group further when it has only 20 items in it."
      ]
    },
    {
      "cell_type": "markdown",
      "metadata": {
        "id": "F6Fq6lwUDT5b"
      },
      "source": [
        "I'll implement the algorithm on my own, then compare it with the algorithm Jeremy implemented in the Lesson 6 video, and the `sklearn.DecisionTreeRegressor`."
      ]
    },
    {
      "cell_type": "markdown",
      "metadata": {
        "id": "7OomTAhfhU7m"
      },
      "source": [
        "## Load the Data"
      ]
    },
    {
      "cell_type": "markdown",
      "metadata": {
        "id": "9DpEyW6GhWBH"
      },
      "source": [
        "I'll follow the same steps as the textbook to load and prepare the training and validation datasets from the Blue Book for Bulldozers Kaggle Competition:"
      ]
    },
    {
      "cell_type": "code",
      "execution_count": null,
      "metadata": {
        "id": "8IvRNCZLh7rA"
      },
      "outputs": [],
      "source": [
        "!pip install dtreeviz\n",
        "\n",
        "from pandas.api.types import is_string_dtype, is_numeric_dtype, is_categorical_dtype\n",
        "from fastai.tabular.all import *\n",
        "from sklearn.ensemble import RandomForestRegressor\n",
        "from sklearn.tree import DecisionTreeRegressor\n",
        "from dtreeviz.trees import *\n",
        "from IPython.display import Image, display_svg, SVG\n",
        "\n",
        "pd.options.display.max_rows = 20\n",
        "pd.options.display.max_columns = 8"
      ]
    },
    {
      "cell_type": "code",
      "execution_count": null,
      "metadata": {
        "id": "gczBSnlziIqt"
      },
      "outputs": [],
      "source": [
        "from pathlib import Path\n",
        "\n",
        "cred_path = Path(\"~/.kaggle/kaggle.json\").expanduser()\n",
        "if not cred_path.exists():\n",
        "  cred_path.parent.mkdir(exist_ok=True)\n",
        "  cred_path.write_text(creds)\n",
        "  cred_path.chmod(0o600)"
      ]
    },
    {
      "cell_type": "code",
      "execution_count": null,
      "metadata": {
        "colab": {
          "base_uri": "https://localhost:8080/"
        },
        "id": "Mb9u7EGHh72X",
        "outputId": "569bd853-8601-4a37-c6b2-c9f10cbd6a5f"
      },
      "outputs": [
        {
          "name": "stdout",
          "output_type": "stream",
          "text": [
            "Downloading bluebook-for-bulldozers.zip to /content\n"
          ]
        },
        {
          "name": "stderr",
          "output_type": "stream",
          "text": [
            "100%|██████████| 48.4M/48.4M [00:00<00:00, 53.5MB/s]\n"
          ]
        },
        {
          "name": "stdout",
          "output_type": "stream",
          "text": [
            "\n"
          ]
        }
      ],
      "source": [
        "import zipfile,kaggle\n",
        "\n",
        "path = Path('bluebook-for-bulldozers')\n",
        "if not path.exists():\n",
        "  kaggle.api.competition_download_cli(str(path))\n",
        "  zipfile.ZipFile(f'{path}.zip').extractall(path)"
      ]
    },
    {
      "cell_type": "code",
      "execution_count": null,
      "metadata": {
        "colab": {
          "base_uri": "https://localhost:8080/"
        },
        "id": "-osBpU-Bh7_m",
        "outputId": "1430f5c3-70bd-4cb0-e79b-8247618719d3"
      },
      "outputs": [
        {
          "data": {
            "text/plain": [
              "(#7) [Path('bluebook-for-bulldozers/Test.csv'),Path('bluebook-for-bulldozers/TrainAndValid.csv'),Path('bluebook-for-bulldozers/random_forest_benchmark_test.csv'),Path('bluebook-for-bulldozers/Machine_Appendix.csv'),Path('bluebook-for-bulldozers/median_benchmark.csv'),Path('bluebook-for-bulldozers/ValidSolution.csv'),Path('bluebook-for-bulldozers/Valid.csv')]"
            ]
          },
          "execution_count": 5,
          "metadata": {},
          "output_type": "execute_result"
        }
      ],
      "source": [
        "path.ls(file_type='text')"
      ]
    },
    {
      "cell_type": "code",
      "execution_count": null,
      "metadata": {
        "id": "LWpdTlyvh8LO"
      },
      "outputs": [],
      "source": [
        "df = pd.read_csv(path/'TrainAndValid.csv', low_memory=False)"
      ]
    },
    {
      "cell_type": "code",
      "execution_count": null,
      "metadata": {
        "colab": {
          "base_uri": "https://localhost:8080/"
        },
        "id": "aaH96nbtiElZ",
        "outputId": "3f1f500d-a81b-4c0a-8d2a-7d4e773b5a41"
      },
      "outputs": [
        {
          "data": {
            "text/plain": [
              "53"
            ]
          },
          "execution_count": 7,
          "metadata": {},
          "output_type": "execute_result"
        }
      ],
      "source": [
        "len(df.columns)"
      ]
    },
    {
      "cell_type": "code",
      "execution_count": null,
      "metadata": {
        "colab": {
          "base_uri": "https://localhost:8080/"
        },
        "id": "c6wxv_u7h8N0",
        "outputId": "315a732f-2003-4729-853e-816fafbb899d"
      },
      "outputs": [
        {
          "name": "stderr",
          "output_type": "stream",
          "text": [
            "<ipython-input-8-37500a139e88>:3: FutureWarning: The `inplace` parameter in pandas.Categorical.set_categories is deprecated and will be removed in a future version. Removing unused categories will always return a new Categorical object.\n"
          ]
        }
      ],
      "source": [
        "sizes = 'Large', 'Large / Medium', 'Medium', 'Small', 'Mini', 'Compact'\n",
        "df['ProductSize'] = df['ProductSize'].astype('category')\n",
        "df['ProductSize'].cat.set_categories(sizes, ordered=True, inplace=True)"
      ]
    },
    {
      "cell_type": "code",
      "execution_count": null,
      "metadata": {
        "id": "PR4roNROhj3R"
      },
      "outputs": [],
      "source": [
        "dep_var = 'SalePrice'\n",
        "df[dep_var] = np.log(df[dep_var])"
      ]
    },
    {
      "cell_type": "code",
      "execution_count": null,
      "metadata": {
        "id": "bLodQZgjhj-5"
      },
      "outputs": [],
      "source": [
        "df = add_datepart(df, 'saledate')\n",
        "df_test = pd.read_csv(path/'Test.csv', low_memory=False)\n",
        "df_test = add_datepart(df_test, 'saledate')"
      ]
    },
    {
      "cell_type": "code",
      "execution_count": null,
      "metadata": {
        "colab": {
          "base_uri": "https://localhost:8080/",
          "height": 53
        },
        "id": "2tBDHfljhkC6",
        "outputId": "1ac7e2c6-1ad5-44ec-d2ae-43761dbacf58"
      },
      "outputs": [
        {
          "data": {
            "application/vnd.google.colaboratory.intrinsic+json": {
              "type": "string"
            },
            "text/plain": [
              "'saleYear saleMonth saleWeek saleDay saleDayofweek saleDayofyear saleIs_month_end saleIs_month_start saleIs_quarter_end saleIs_quarter_start saleIs_year_end saleIs_year_start saleElapsed'"
            ]
          },
          "execution_count": 11,
          "metadata": {},
          "output_type": "execute_result"
        }
      ],
      "source": [
        "' '.join(o for o in df.columns if o.startswith('sale'))"
      ]
    },
    {
      "cell_type": "code",
      "execution_count": null,
      "metadata": {
        "id": "6m2Fm3izhkGF"
      },
      "outputs": [],
      "source": [
        "procs = [Categorify, FillMissing]"
      ]
    },
    {
      "cell_type": "code",
      "execution_count": null,
      "metadata": {
        "id": "tMpI0Y26hkI_"
      },
      "outputs": [],
      "source": [
        "cond = (df.saleYear<2011) | (df.saleMonth<10)\n",
        "train_idx = np.where( cond)[0]\n",
        "valid_idx = np.where(~cond)[0]\n",
        "splits = (list(train_idx), list(valid_idx))"
      ]
    },
    {
      "cell_type": "code",
      "execution_count": null,
      "metadata": {
        "id": "pgQkWRPlhkMY"
      },
      "outputs": [],
      "source": [
        "cont,cat = cont_cat_split(df, 1, dep_var=dep_var)"
      ]
    },
    {
      "cell_type": "code",
      "execution_count": null,
      "metadata": {
        "id": "eKPg84zzhkOY"
      },
      "outputs": [],
      "source": [
        "to = TabularPandas(df, procs, cat, cont, y_names=dep_var, splits=splits)"
      ]
    },
    {
      "cell_type": "code",
      "execution_count": null,
      "metadata": {
        "colab": {
          "base_uri": "https://localhost:8080/"
        },
        "id": "6r_jb9xNhkSR",
        "outputId": "6de0e7cc-320c-4afc-c26d-11608e46e19f"
      },
      "outputs": [
        {
          "data": {
            "text/plain": [
              "(404710, 7988)"
            ]
          },
          "execution_count": 16,
          "metadata": {},
          "output_type": "execute_result"
        }
      ],
      "source": [
        "len(to.train), len(to.valid)"
      ]
    },
    {
      "cell_type": "code",
      "execution_count": null,
      "metadata": {
        "colab": {
          "base_uri": "https://localhost:8080/",
          "height": 233
        },
        "id": "TwRlUKuBhf0O",
        "outputId": "ec199805-7e6e-49d3-e966-2028aaa32f98"
      },
      "outputs": [
        {
          "data": {
            "text/html": [
              "<table border=\"1\" class=\"dataframe\">\n",
              "  <thead>\n",
              "    <tr style=\"text-align: right;\">\n",
              "      <th></th>\n",
              "      <th>UsageBand</th>\n",
              "      <th>fiModelDesc</th>\n",
              "      <th>fiBaseModel</th>\n",
              "      <th>fiSecondaryDesc</th>\n",
              "      <th>fiModelSeries</th>\n",
              "      <th>fiModelDescriptor</th>\n",
              "      <th>ProductSize</th>\n",
              "      <th>fiProductClassDesc</th>\n",
              "      <th>state</th>\n",
              "      <th>ProductGroup</th>\n",
              "      <th>ProductGroupDesc</th>\n",
              "      <th>Drive_System</th>\n",
              "      <th>Enclosure</th>\n",
              "      <th>Forks</th>\n",
              "      <th>Pad_Type</th>\n",
              "      <th>Ride_Control</th>\n",
              "      <th>Stick</th>\n",
              "      <th>Transmission</th>\n",
              "      <th>Turbocharged</th>\n",
              "      <th>Blade_Extension</th>\n",
              "      <th>Blade_Width</th>\n",
              "      <th>Enclosure_Type</th>\n",
              "      <th>Engine_Horsepower</th>\n",
              "      <th>Hydraulics</th>\n",
              "      <th>Pushblock</th>\n",
              "      <th>Ripper</th>\n",
              "      <th>Scarifier</th>\n",
              "      <th>Tip_Control</th>\n",
              "      <th>Tire_Size</th>\n",
              "      <th>Coupler</th>\n",
              "      <th>Coupler_System</th>\n",
              "      <th>Grouser_Tracks</th>\n",
              "      <th>Hydraulics_Flow</th>\n",
              "      <th>Track_Type</th>\n",
              "      <th>Undercarriage_Pad_Width</th>\n",
              "      <th>Stick_Length</th>\n",
              "      <th>Thumb</th>\n",
              "      <th>Pattern_Changer</th>\n",
              "      <th>Grouser_Type</th>\n",
              "      <th>Backhoe_Mounting</th>\n",
              "      <th>Blade_Type</th>\n",
              "      <th>Travel_Controls</th>\n",
              "      <th>Differential_Type</th>\n",
              "      <th>Steering_Controls</th>\n",
              "      <th>saleIs_month_end</th>\n",
              "      <th>saleIs_month_start</th>\n",
              "      <th>saleIs_quarter_end</th>\n",
              "      <th>saleIs_quarter_start</th>\n",
              "      <th>saleIs_year_end</th>\n",
              "      <th>saleIs_year_start</th>\n",
              "      <th>auctioneerID_na</th>\n",
              "      <th>MachineHoursCurrentMeter_na</th>\n",
              "      <th>SalesID</th>\n",
              "      <th>MachineID</th>\n",
              "      <th>ModelID</th>\n",
              "      <th>datasource</th>\n",
              "      <th>auctioneerID</th>\n",
              "      <th>YearMade</th>\n",
              "      <th>MachineHoursCurrentMeter</th>\n",
              "      <th>saleYear</th>\n",
              "      <th>saleMonth</th>\n",
              "      <th>saleWeek</th>\n",
              "      <th>saleDay</th>\n",
              "      <th>saleDayofweek</th>\n",
              "      <th>saleDayofyear</th>\n",
              "      <th>saleElapsed</th>\n",
              "      <th>SalePrice</th>\n",
              "    </tr>\n",
              "  </thead>\n",
              "  <tbody>\n",
              "    <tr>\n",
              "      <th>0</th>\n",
              "      <td>Low</td>\n",
              "      <td>521D</td>\n",
              "      <td>521</td>\n",
              "      <td>D</td>\n",
              "      <td>#na#</td>\n",
              "      <td>#na#</td>\n",
              "      <td>#na#</td>\n",
              "      <td>Wheel Loader - 110.0 to 120.0 Horsepower</td>\n",
              "      <td>Alabama</td>\n",
              "      <td>WL</td>\n",
              "      <td>Wheel Loader</td>\n",
              "      <td>#na#</td>\n",
              "      <td>EROPS w AC</td>\n",
              "      <td>None or Unspecified</td>\n",
              "      <td>#na#</td>\n",
              "      <td>None or Unspecified</td>\n",
              "      <td>#na#</td>\n",
              "      <td>#na#</td>\n",
              "      <td>#na#</td>\n",
              "      <td>#na#</td>\n",
              "      <td>#na#</td>\n",
              "      <td>#na#</td>\n",
              "      <td>#na#</td>\n",
              "      <td>2 Valve</td>\n",
              "      <td>#na#</td>\n",
              "      <td>#na#</td>\n",
              "      <td>#na#</td>\n",
              "      <td>#na#</td>\n",
              "      <td>None or Unspecified</td>\n",
              "      <td>None or Unspecified</td>\n",
              "      <td>#na#</td>\n",
              "      <td>#na#</td>\n",
              "      <td>#na#</td>\n",
              "      <td>#na#</td>\n",
              "      <td>#na#</td>\n",
              "      <td>#na#</td>\n",
              "      <td>#na#</td>\n",
              "      <td>#na#</td>\n",
              "      <td>#na#</td>\n",
              "      <td>#na#</td>\n",
              "      <td>#na#</td>\n",
              "      <td>#na#</td>\n",
              "      <td>Standard</td>\n",
              "      <td>Conventional</td>\n",
              "      <td>False</td>\n",
              "      <td>False</td>\n",
              "      <td>False</td>\n",
              "      <td>False</td>\n",
              "      <td>False</td>\n",
              "      <td>False</td>\n",
              "      <td>False</td>\n",
              "      <td>False</td>\n",
              "      <td>1139246</td>\n",
              "      <td>999089</td>\n",
              "      <td>3157</td>\n",
              "      <td>121</td>\n",
              "      <td>3.0</td>\n",
              "      <td>2004</td>\n",
              "      <td>68.0</td>\n",
              "      <td>2006</td>\n",
              "      <td>11</td>\n",
              "      <td>46</td>\n",
              "      <td>16</td>\n",
              "      <td>3</td>\n",
              "      <td>320</td>\n",
              "      <td>1.163635e+09</td>\n",
              "      <td>11.097410</td>\n",
              "    </tr>\n",
              "    <tr>\n",
              "      <th>1</th>\n",
              "      <td>Low</td>\n",
              "      <td>950FII</td>\n",
              "      <td>950</td>\n",
              "      <td>F</td>\n",
              "      <td>II</td>\n",
              "      <td>#na#</td>\n",
              "      <td>Medium</td>\n",
              "      <td>Wheel Loader - 150.0 to 175.0 Horsepower</td>\n",
              "      <td>North Carolina</td>\n",
              "      <td>WL</td>\n",
              "      <td>Wheel Loader</td>\n",
              "      <td>#na#</td>\n",
              "      <td>EROPS w AC</td>\n",
              "      <td>None or Unspecified</td>\n",
              "      <td>#na#</td>\n",
              "      <td>None or Unspecified</td>\n",
              "      <td>#na#</td>\n",
              "      <td>#na#</td>\n",
              "      <td>#na#</td>\n",
              "      <td>#na#</td>\n",
              "      <td>#na#</td>\n",
              "      <td>#na#</td>\n",
              "      <td>#na#</td>\n",
              "      <td>2 Valve</td>\n",
              "      <td>#na#</td>\n",
              "      <td>#na#</td>\n",
              "      <td>#na#</td>\n",
              "      <td>#na#</td>\n",
              "      <td>23.5</td>\n",
              "      <td>None or Unspecified</td>\n",
              "      <td>#na#</td>\n",
              "      <td>#na#</td>\n",
              "      <td>#na#</td>\n",
              "      <td>#na#</td>\n",
              "      <td>#na#</td>\n",
              "      <td>#na#</td>\n",
              "      <td>#na#</td>\n",
              "      <td>#na#</td>\n",
              "      <td>#na#</td>\n",
              "      <td>#na#</td>\n",
              "      <td>#na#</td>\n",
              "      <td>#na#</td>\n",
              "      <td>Standard</td>\n",
              "      <td>Conventional</td>\n",
              "      <td>False</td>\n",
              "      <td>False</td>\n",
              "      <td>False</td>\n",
              "      <td>False</td>\n",
              "      <td>False</td>\n",
              "      <td>False</td>\n",
              "      <td>False</td>\n",
              "      <td>False</td>\n",
              "      <td>1139248</td>\n",
              "      <td>117657</td>\n",
              "      <td>77</td>\n",
              "      <td>121</td>\n",
              "      <td>3.0</td>\n",
              "      <td>1996</td>\n",
              "      <td>4640.0</td>\n",
              "      <td>2004</td>\n",
              "      <td>3</td>\n",
              "      <td>13</td>\n",
              "      <td>26</td>\n",
              "      <td>4</td>\n",
              "      <td>86</td>\n",
              "      <td>1.080259e+09</td>\n",
              "      <td>10.950807</td>\n",
              "    </tr>\n",
              "    <tr>\n",
              "      <th>2</th>\n",
              "      <td>High</td>\n",
              "      <td>226</td>\n",
              "      <td>226</td>\n",
              "      <td>#na#</td>\n",
              "      <td>#na#</td>\n",
              "      <td>#na#</td>\n",
              "      <td>#na#</td>\n",
              "      <td>Skid Steer Loader - 1351.0 to 1601.0 Lb Operating Capacity</td>\n",
              "      <td>New York</td>\n",
              "      <td>SSL</td>\n",
              "      <td>Skid Steer Loaders</td>\n",
              "      <td>#na#</td>\n",
              "      <td>OROPS</td>\n",
              "      <td>None or Unspecified</td>\n",
              "      <td>#na#</td>\n",
              "      <td>#na#</td>\n",
              "      <td>#na#</td>\n",
              "      <td>#na#</td>\n",
              "      <td>#na#</td>\n",
              "      <td>#na#</td>\n",
              "      <td>#na#</td>\n",
              "      <td>#na#</td>\n",
              "      <td>#na#</td>\n",
              "      <td>Auxiliary</td>\n",
              "      <td>#na#</td>\n",
              "      <td>#na#</td>\n",
              "      <td>#na#</td>\n",
              "      <td>#na#</td>\n",
              "      <td>#na#</td>\n",
              "      <td>None or Unspecified</td>\n",
              "      <td>None or Unspecified</td>\n",
              "      <td>None or Unspecified</td>\n",
              "      <td>Standard</td>\n",
              "      <td>#na#</td>\n",
              "      <td>#na#</td>\n",
              "      <td>#na#</td>\n",
              "      <td>#na#</td>\n",
              "      <td>#na#</td>\n",
              "      <td>#na#</td>\n",
              "      <td>#na#</td>\n",
              "      <td>#na#</td>\n",
              "      <td>#na#</td>\n",
              "      <td>#na#</td>\n",
              "      <td>#na#</td>\n",
              "      <td>False</td>\n",
              "      <td>False</td>\n",
              "      <td>False</td>\n",
              "      <td>False</td>\n",
              "      <td>False</td>\n",
              "      <td>False</td>\n",
              "      <td>False</td>\n",
              "      <td>False</td>\n",
              "      <td>1139249</td>\n",
              "      <td>434808</td>\n",
              "      <td>7009</td>\n",
              "      <td>121</td>\n",
              "      <td>3.0</td>\n",
              "      <td>2001</td>\n",
              "      <td>2838.0</td>\n",
              "      <td>2004</td>\n",
              "      <td>2</td>\n",
              "      <td>9</td>\n",
              "      <td>26</td>\n",
              "      <td>3</td>\n",
              "      <td>57</td>\n",
              "      <td>1.077754e+09</td>\n",
              "      <td>9.210340</td>\n",
              "    </tr>\n",
              "  </tbody>\n",
              "</table>"
            ],
            "text/plain": [
              "<IPython.core.display.HTML object>"
            ]
          },
          "metadata": {},
          "output_type": "display_data"
        }
      ],
      "source": [
        "to.show(3)"
      ]
    },
    {
      "cell_type": "code",
      "execution_count": 3,
      "metadata": {
        "id": "og9LWIg_jYQX"
      },
      "outputs": [],
      "source": [
        "to = load_pickle('to.pkl')"
      ]
    },
    {
      "cell_type": "code",
      "execution_count": 4,
      "metadata": {
        "id": "gMgY3cQ5fk2Z"
      },
      "outputs": [],
      "source": [
        "xs,y = to.train.xs, to.train.y\n",
        "valid_xs, valid_y = to.valid.xs, to.valid.y"
      ]
    },
    {
      "cell_type": "markdown",
      "metadata": {
        "id": "0H1Jsk8jj1g2"
      },
      "source": [
        "## Decision Tree Algorithm: Before Watching Lesson 6"
      ]
    },
    {
      "cell_type": "markdown",
      "metadata": {
        "id": "C6ZDRFTPhLM7"
      },
      "source": [
        "I haven't watched the Lesson 6 video yet, and am assuming that Jeremy walks through how to build a decision tree from scratch in that video, so I'm trying it out first on my own. To be honest, I'm a bit embarrassed to publish this part of my learning process, since my approach is not very elegant, but I'd like to show what my current thinking is and then compare it with what I understand after learning the formal solution to this algorithm."
      ]
    },
    {
      "cell_type": "markdown",
      "metadata": {
        "id": "ir-GJuq4lMKg"
      },
      "source": [
        "I'll start by creating a mean squared error function to calculate at each split:"
      ]
    },
    {
      "cell_type": "code",
      "execution_count": 2,
      "metadata": {
        "id": "rHtEoDiwldql"
      },
      "outputs": [],
      "source": [
        "def mse(pred, y): return ((pred-y)**2).mean()"
      ]
    },
    {
      "cell_type": "code",
      "execution_count": 44,
      "metadata": {
        "colab": {
          "base_uri": "https://localhost:8080/"
        },
        "id": "zRXLB7a8lm4o",
        "outputId": "f01575d6-0dbf-4f71-f989-45a5b6b7df8c"
      },
      "outputs": [
        {
          "data": {
            "text/plain": [
              "(0.48205692, 10.104347)"
            ]
          },
          "execution_count": 44,
          "metadata": {},
          "output_type": "execute_result"
        }
      ],
      "source": [
        "# root mse and value\n",
        "mse(y, y.mean()), y.mean()"
      ]
    },
    {
      "cell_type": "markdown",
      "metadata": {
        "id": "xP0lILQ7j3OK"
      },
      "source": [
        "I'll walk through the algorithm step-by-step manually for a couple of columns before I create any functions or loops. The first column in the training dataset's index is the categorical variable `UsageBand` which has a value of `0`, `1`, `2`, or `3`."
      ]
    },
    {
      "cell_type": "code",
      "execution_count": 7,
      "metadata": {
        "colab": {
          "base_uri": "https://localhost:8080/"
        },
        "id": "zST38ZNLjdCl",
        "outputId": "a38c47be-319f-4d7a-8a04-44790bfe0443"
      },
      "outputs": [
        {
          "data": {
            "text/plain": [
              "Index(['UsageBand', 'fiModelDesc', 'fiBaseModel', 'fiSecondaryDesc',\n",
              "       'fiModelSeries', 'fiModelDescriptor', 'ProductSize',\n",
              "       'fiProductClassDesc', 'state', 'ProductGroup', 'ProductGroupDesc',\n",
              "       'Drive_System', 'Enclosure', 'Forks', 'Pad_Type', 'Ride_Control',\n",
              "       'Stick', 'Transmission', 'Turbocharged', 'Blade_Extension',\n",
              "       'Blade_Width', 'Enclosure_Type', 'Engine_Horsepower', 'Hydraulics',\n",
              "       'Pushblock', 'Ripper', 'Scarifier', 'Tip_Control', 'Tire_Size',\n",
              "       'Coupler', 'Coupler_System', 'Grouser_Tracks', 'Hydraulics_Flow',\n",
              "       'Track_Type', 'Undercarriage_Pad_Width', 'Stick_Length', 'Thumb',\n",
              "       'Pattern_Changer', 'Grouser_Type', 'Backhoe_Mounting', 'Blade_Type',\n",
              "       'Travel_Controls', 'Differential_Type', 'Steering_Controls',\n",
              "       'saleIs_month_end', 'saleIs_month_start', 'saleIs_quarter_end',\n",
              "       'saleIs_quarter_start', 'saleIs_year_end', 'saleIs_year_start',\n",
              "       'auctioneerID_na', 'MachineHoursCurrentMeter_na', 'SalesID',\n",
              "       'MachineID', 'ModelID', 'datasource', 'auctioneerID', 'YearMade',\n",
              "       'MachineHoursCurrentMeter', 'saleYear', 'saleMonth', 'saleWeek',\n",
              "       'saleDay', 'saleDayofweek', 'saleDayofyear', 'saleElapsed'],\n",
              "      dtype='object')"
            ]
          },
          "execution_count": 7,
          "metadata": {},
          "output_type": "execute_result"
        }
      ],
      "source": [
        "xs.columns"
      ]
    },
    {
      "cell_type": "code",
      "execution_count": 8,
      "metadata": {
        "colab": {
          "base_uri": "https://localhost:8080/"
        },
        "id": "blqaq1QGkE45",
        "outputId": "d70a451b-9fb7-48d3-b934-7fd70ea7f255"
      },
      "outputs": [
        {
          "data": {
            "text/plain": [
              "array([2, 1, 3, 0], dtype=int8)"
            ]
          },
          "execution_count": 8,
          "metadata": {},
          "output_type": "execute_result"
        }
      ],
      "source": [
        "xs.UsageBand.unique()"
      ]
    },
    {
      "cell_type": "markdown",
      "metadata": {
        "id": "cO1vy99Ikn-1"
      },
      "source": [
        "The first split I'll choose is between rows where the `UsageBand` value is `0` or not:"
      ]
    },
    {
      "cell_type": "code",
      "execution_count": 9,
      "metadata": {
        "id": "NjJOzu6VkK6F"
      },
      "outputs": [],
      "source": [
        "mask = xs.UsageBand == 0\n",
        "is_zero_xs = xs[mask]\n",
        "is_zero_y = y[mask]"
      ]
    },
    {
      "cell_type": "code",
      "execution_count": 10,
      "metadata": {
        "colab": {
          "base_uri": "https://localhost:8080/"
        },
        "id": "bCZ2zsYfkxPi",
        "outputId": "6c99a17d-b9b8-4866-93c9-2728213415b1"
      },
      "outputs": [
        {
          "data": {
            "text/plain": [
              "(334164, 334164)"
            ]
          },
          "execution_count": 10,
          "metadata": {},
          "output_type": "execute_result"
        }
      ],
      "source": [
        "len(is_zero_xs), len(is_zero_y)"
      ]
    },
    {
      "cell_type": "code",
      "execution_count": 11,
      "metadata": {
        "id": "5-2yRAXjk1f5"
      },
      "outputs": [],
      "source": [
        "isnt_zero_xs = xs[~mask]\n",
        "isnt_zero_y = y[~mask]"
      ]
    },
    {
      "cell_type": "code",
      "execution_count": 12,
      "metadata": {
        "colab": {
          "base_uri": "https://localhost:8080/"
        },
        "id": "RzGQmj6SlEAA",
        "outputId": "8058663c-1fea-44ce-f5f3-f9ffc7ff0207"
      },
      "outputs": [
        {
          "data": {
            "text/plain": [
              "(70546, 70546)"
            ]
          },
          "execution_count": 12,
          "metadata": {},
          "output_type": "execute_result"
        }
      ],
      "source": [
        "len(isnt_zero_xs), len(isnt_zero_y)"
      ]
    },
    {
      "cell_type": "markdown",
      "metadata": {
        "id": "jqkuWdMAmCHx"
      },
      "source": [
        "I'll calculate the average sale price and MSE for each group:"
      ]
    },
    {
      "cell_type": "code",
      "execution_count": 13,
      "metadata": {
        "colab": {
          "base_uri": "https://localhost:8080/"
        },
        "id": "U3ZBdP4qlE0v",
        "outputId": "aad205b7-0445-4172-f28d-0eb0141f8fcd"
      },
      "outputs": [
        {
          "data": {
            "text/plain": [
              "(10.080211, 0.46968707)"
            ]
          },
          "execution_count": 13,
          "metadata": {},
          "output_type": "execute_result"
        }
      ],
      "source": [
        "is_zero_y.mean(), mse(is_zero_y, is_zero_y.mean())"
      ]
    },
    {
      "cell_type": "code",
      "execution_count": 14,
      "metadata": {
        "colab": {
          "base_uri": "https://localhost:8080/"
        },
        "id": "O6YzUOMUmxqM",
        "outputId": "fde757fa-ff82-4d71-a03f-fe37c6cbcfa7"
      },
      "outputs": [
        {
          "data": {
            "text/plain": [
              "(10.218686, 0.5248172)"
            ]
          },
          "execution_count": 14,
          "metadata": {},
          "output_type": "execute_result"
        }
      ],
      "source": [
        "isnt_zero_y.mean(), mse(isnt_zero_y, isnt_zero_y.mean())"
      ]
    },
    {
      "cell_type": "markdown",
      "metadata": {
        "id": "kOqvgR7U0Sso"
      },
      "source": [
        "I'll put this code into a routine so I can apply it to all splits of `UsageBand`:"
      ]
    },
    {
      "cell_type": "code",
      "execution_count": 15,
      "metadata": {
        "id": "kxm_HDLQnK4T"
      },
      "outputs": [],
      "source": [
        "def get_cat_splits(xs, y, column):\n",
        "  splits = []\n",
        "  for el in xs[column].unique():\n",
        "    mask = xs[column] == el\n",
        "    is_el_y = y[mask]\n",
        "    isnt_el_y = y[~mask]\n",
        "    is_el_mse = mse(is_el_y, is_el_y.mean())\n",
        "    isnt_el_mse = mse(isnt_el_y, isnt_el_y.mean())\n",
        "\n",
        "    split = {\n",
        "        str(el): is_el_mse,\n",
        "        \"!\" + str(el): isnt_el_mse\n",
        "    }\n",
        "\n",
        "    splits.append(split)\n",
        "  return splits"
      ]
    },
    {
      "cell_type": "code",
      "execution_count": 16,
      "metadata": {
        "colab": {
          "base_uri": "https://localhost:8080/"
        },
        "id": "0x89Jnwp0p1o",
        "outputId": "ed8323c5-82fd-4d62-c377-ff8ac8adbdac"
      },
      "outputs": [
        {
          "data": {
            "text/plain": [
              "[{'2': 0.46612886, '!2': 0.4824535},\n",
              " {'1': 0.5223263, '!1': 0.476563},\n",
              " {'3': 0.50998193, '!3': 0.47640917},\n",
              " {'0': 0.46968707, '!0': 0.5248172}]"
            ]
          },
          "execution_count": 16,
          "metadata": {},
          "output_type": "execute_result"
        }
      ],
      "source": [
        "splits = get_cat_splits(xs, y, \"UsageBand\")\n",
        "splits"
      ]
    },
    {
      "cell_type": "markdown",
      "metadata": {
        "id": "rLh_yNls2sZI"
      },
      "source": [
        "Great! My function calculates the MSE for each split in a categorical column. However, I don't need to store all of the splits for the column, just the best one (the one with the lowest MSE). I'll modify my function so that it returns only the best split:"
      ]
    },
    {
      "cell_type": "code",
      "execution_count": 7,
      "metadata": {
        "id": "E3dJlJA30rq2"
      },
      "outputs": [],
      "source": [
        "def get_cat_best_split(xs, y, column):\n",
        "  best_split = []\n",
        "  lowest_mse = 1000000\n",
        "\n",
        "  for el in xs[column].unique():\n",
        "    mask = xs[column] == el\n",
        "\n",
        "    # ignore splits where either group has 0 or 1 row\n",
        "    if sum(mask) == 0: continue\n",
        "    if sum(mask) == 1: continue\n",
        "    if sum(~mask) == 1: continue\n",
        "\n",
        "    is_el_y = y[mask]\n",
        "    isnt_el_y = y[~mask]\n",
        "\n",
        "    is_el_mse = mse(is_el_y, is_el_y.mean())\n",
        "    isnt_el_mse = mse(isnt_el_y, isnt_el_y.mean())\n",
        "\n",
        "    if is_el_mse < lowest_mse or isnt_el_mse < lowest_mse:\n",
        "      best_split = [el, [is_el_mse, isnt_el_mse]]\n",
        "\n",
        "    lowest_mse = min(is_el_mse, isnt_el_mse, lowest_mse)\n",
        "  print(column)\n",
        "  return best_split"
      ]
    },
    {
      "cell_type": "code",
      "execution_count": 18,
      "metadata": {
        "colab": {
          "base_uri": "https://localhost:8080/"
        },
        "id": "34-p_EQL4V8s",
        "outputId": "77dbe6a5-32f2-4464-9c42-891bac224e97"
      },
      "outputs": [
        {
          "name": "stdout",
          "output_type": "stream",
          "text": [
            "UsageBand\n"
          ]
        },
        {
          "data": {
            "text/plain": [
              "[2, [0.46612886, 0.4824535]]"
            ]
          },
          "execution_count": 18,
          "metadata": {},
          "output_type": "execute_result"
        }
      ],
      "source": [
        "get_cat_best_split(xs, y, \"UsageBand\")"
      ]
    },
    {
      "cell_type": "markdown",
      "metadata": {
        "id": "lm0k23yL9-k4"
      },
      "source": [
        "I now have the category for which the split was made (is 2, isn't 2) and the corresponding MSE.\n",
        "\n",
        "Next, I'll find the best split for one of the continuous columns, `YearMade`:"
      ]
    },
    {
      "cell_type": "code",
      "execution_count": 19,
      "metadata": {
        "colab": {
          "base_uri": "https://localhost:8080/"
        },
        "id": "XeJoXvyz90nz",
        "outputId": "cd00a65f-e1c1-48ea-b891-eb29a01a1222"
      },
      "outputs": [
        {
          "data": {
            "text/plain": [
              "array([2004, 1996, 2001, 2007, 1993, 2008, 1000, 1998, 1999, 2003, 1991,\n",
              "       2000, 2005, 1995, 2006, 2002, 1984, 1988, 1980, 1992, 1987, 1997,\n",
              "       1971, 1978, 1989, 1985, 1979, 1976, 1994, 1982, 1990, 1974, 1968,\n",
              "       1966, 1983, 1986, 1981, 1970, 1977, 1975, 1973, 1965, 1967, 2009,\n",
              "       2010, 1969, 1972, 1964, 1957, 1958, 1963, 1919, 1920, 1950, 1948,\n",
              "       1952, 1942, 1956, 1954, 1953, 1955, 1959, 1960, 1961, 1962, 1951,\n",
              "       1937, 1949, 1947, 2012, 2011, 2014], dtype=int16)"
            ]
          },
          "execution_count": 19,
          "metadata": {},
          "output_type": "execute_result"
        }
      ],
      "source": [
        "xs.YearMade.unique()"
      ]
    },
    {
      "cell_type": "code",
      "execution_count": 20,
      "metadata": {
        "id": "66iMRiIu-Ikp"
      },
      "outputs": [],
      "source": [
        "mask = xs.YearMade <= 2004\n",
        "lte_2004_xs = xs[mask]\n",
        "lte_2004_y = y[mask]"
      ]
    },
    {
      "cell_type": "code",
      "execution_count": 21,
      "metadata": {
        "colab": {
          "base_uri": "https://localhost:8080/"
        },
        "id": "5OSmPh2k-nx1",
        "outputId": "4d4e23b7-f753-41d7-d4c9-4795fdc84ce4"
      },
      "outputs": [
        {
          "data": {
            "text/plain": [
              "(364685, 364685)"
            ]
          },
          "execution_count": 21,
          "metadata": {},
          "output_type": "execute_result"
        }
      ],
      "source": [
        "len(lte_2004_xs), len(lte_2004_y)"
      ]
    },
    {
      "cell_type": "code",
      "execution_count": 22,
      "metadata": {
        "id": "cd-Ul4DZ-rOo"
      },
      "outputs": [],
      "source": [
        "gt_2004_xs = xs[~mask]\n",
        "gt_2004_y = y[~mask]"
      ]
    },
    {
      "cell_type": "code",
      "execution_count": 23,
      "metadata": {
        "colab": {
          "base_uri": "https://localhost:8080/"
        },
        "id": "57Ps4REx-0xa",
        "outputId": "dfed9054-23f2-4337-a219-4df8c3c62793"
      },
      "outputs": [
        {
          "data": {
            "text/plain": [
              "(40025, 40025)"
            ]
          },
          "execution_count": 23,
          "metadata": {},
          "output_type": "execute_result"
        }
      ],
      "source": [
        "len(gt_2004_xs), len(gt_2004_y)"
      ]
    },
    {
      "cell_type": "markdown",
      "metadata": {
        "id": "SP87t2cB_dBf"
      },
      "source": [
        "So far the process is pretty similar to what I did for categorical variables. I'll calculate the average sale price and MSE for each split next:"
      ]
    },
    {
      "cell_type": "code",
      "execution_count": 24,
      "metadata": {
        "colab": {
          "base_uri": "https://localhost:8080/"
        },
        "id": "QiQIh0FM_u9O",
        "outputId": "4e80a1a9-8a33-4c35-b51a-ba469c7f79ae"
      },
      "outputs": [
        {
          "data": {
            "text/plain": [
              "(10.072348, 0.46514994)"
            ]
          },
          "execution_count": 24,
          "metadata": {},
          "output_type": "execute_result"
        }
      ],
      "source": [
        "lte_2004_y.mean(), mse(lte_2004_y, lte_2004_y.mean())"
      ]
    },
    {
      "cell_type": "code",
      "execution_count": 25,
      "metadata": {
        "colab": {
          "base_uri": "https://localhost:8080/"
        },
        "id": "Y_JKXWYO-4pF",
        "outputId": "b2010268-3c81-47fb-9dd1-59218e2f1d7f"
      },
      "outputs": [
        {
          "data": {
            "text/plain": [
              "(10.395911, 0.5417633)"
            ]
          },
          "execution_count": 25,
          "metadata": {},
          "output_type": "execute_result"
        }
      ],
      "source": [
        "gt_2004_y.mean(), mse(gt_2004_y, gt_2004_y.mean())"
      ]
    },
    {
      "cell_type": "markdown",
      "metadata": {
        "id": "KsVud5Ru_1Dg"
      },
      "source": [
        "Great! I'll wrap this process into a function:"
      ]
    },
    {
      "cell_type": "code",
      "execution_count": 12,
      "metadata": {
        "id": "PGEZKvsU_ya-"
      },
      "outputs": [],
      "source": [
        "def get_cont_best_split(xs, y, column):\n",
        "  best_split = []\n",
        "  lowest_mse = 1000000\n",
        "\n",
        "  for el in xs[column].unique():\n",
        "    mask = xs[column] <= el\n",
        "\n",
        "    # ignore splits where either group has 0 or 1 row\n",
        "    if sum(mask) == 0: continue\n",
        "    if sum(mask) == 1: continue\n",
        "    if sum(~mask) == 1: continue\n",
        "\n",
        "    lte_el_y = y[mask]\n",
        "    gt_el_y = y[~mask]\n",
        "\n",
        "    lte_el_mse = mse(lte_el_y, lte_el_y.mean())\n",
        "    gt_el_mse = mse(gt_el_y, gt_el_y.mean())\n",
        "\n",
        "    if lte_el_mse < lowest_mse or gt_el_mse < lowest_mse:\n",
        "      best_split = [el, [lte_el_mse, gt_el_mse]]\n",
        "\n",
        "    lowest_mse = min(lte_el_mse, gt_el_mse, lowest_mse)\n",
        "  print(column)\n",
        "  return best_split\n",
        "\n"
      ]
    },
    {
      "cell_type": "code",
      "execution_count": 27,
      "metadata": {
        "colab": {
          "base_uri": "https://localhost:8080/"
        },
        "id": "nGig_x10Bwjg",
        "outputId": "e47d2069-88c6-40bc-d5c6-e0c09726dfc5"
      },
      "outputs": [
        {
          "name": "stdout",
          "output_type": "stream",
          "text": [
            "YearMade\n"
          ]
        },
        {
          "data": {
            "text/plain": [
              "[2012, [0.4820588, 0.00022279842]]"
            ]
          },
          "execution_count": 27,
          "metadata": {},
          "output_type": "execute_result"
        }
      ],
      "source": [
        "get_cont_best_split(xs, y, \"YearMade\")"
      ]
    },
    {
      "cell_type": "markdown",
      "metadata": {
        "id": "HGeBUBkDDtZy"
      },
      "source": [
        "Now that I have functions to calculate the best split (by MSE) for categorical and continuous variables, I can loop through each column, apply these functions and then determine the overall best split. I'll use a small dataset for this procedure since the loops require too much time (more than an hour) when I use the full dataset:"
      ]
    },
    {
      "cell_type": "code",
      "execution_count": 28,
      "metadata": {
        "id": "RYn5StAHWZlh"
      },
      "outputs": [],
      "source": [
        "xs_sub = xs.sample(1000, random_state=42)\n",
        "y_sub = y[xs_sub.index]"
      ]
    },
    {
      "cell_type": "code",
      "execution_count": null,
      "metadata": {
        "id": "bwXC4Y4PCdlA"
      },
      "outputs": [],
      "source": [
        "best_splits = []\n",
        "for column in xs_sub.columns:\n",
        "  if column in to.cat_names:\n",
        "    best_splits.append([column, get_cat_best_split(xs_sub, y_sub, column)])\n",
        "  if column in to.cont_names:\n",
        "    best_splits.append([column, get_cont_best_split(xs_sub, y_sub, column)])"
      ]
    },
    {
      "cell_type": "code",
      "execution_count": 30,
      "metadata": {
        "colab": {
          "base_uri": "https://localhost:8080/"
        },
        "id": "8opIDppdEQo_",
        "outputId": "ad40ed94-7204-42c0-9b11-fbe7bb3aab16"
      },
      "outputs": [
        {
          "data": {
            "text/plain": [
              "[['UsageBand', [0, [0.4289803, 0.5418442]]],\n",
              " ['fiModelDesc', [1082, [0.0, 0.45956165]]],\n",
              " ['fiBaseModel', [72, [0.0, 0.45933586]]],\n",
              " ['fiSecondaryDesc', [139, [0.0010413192, 0.45947686]]],\n",
              " ['fiModelSeries', [22, [0.0018927432, 0.45957345]]],\n",
              " ['fiModelDescriptor', [138, [0.0011120219, 0.45861065]]],\n",
              " ['ProductSize', [6, [0.17651369, 0.45974725]]],\n",
              " ['fiProductClassDesc', [59, [0.0028960933, 0.4587686]]],\n",
              " ['state', [15, [0.024394397, 0.45930827]]],\n",
              " ['ProductGroup', [3, [0.10852089, 0.39364752]]],\n",
              " ['ProductGroupDesc', [3, [0.10852089, 0.39364752]]],\n",
              " ['Drive_System', [2, [0.0733325, 0.49420977]]],\n",
              " ['Enclosure', [3, [0.30207962, 0.37955183]]],\n",
              " ['Forks', [2, [0.28580874, 0.4628031]]],\n",
              " ['Pad_Type', [4, [0.01935081, 0.46220613]]],\n",
              " ['Ride_Control', [1, [0.10788533, 0.53090215]]],\n",
              " ['Stick', [1, [0.08875317, 0.49070317]]],\n",
              " ['Transmission', [3, [0.037590597, 0.4595029]]],\n",
              " ['Turbocharged', [2, [0.043661047, 0.46277064]]],\n",
              " ['Blade_Extension', [1, [0.6090261, 0.43294448]]],\n",
              " ['Blade_Width', [2, [0.21063821, 0.45938253]]],\n",
              " ['Enclosure_Type', [1, [0.09410498, 0.45690852]]],\n",
              " ['Engine_Horsepower', [2, [0.08047946, 0.45704415]]],\n",
              " ['Hydraulics', [7, [0.00222363, 0.4558903]]],\n",
              " ['Pushblock', [2, [0.17637664, 0.4491221]]],\n",
              " ['Ripper', [1, [0.3071829, 0.4566584]]],\n",
              " ['Scarifier', [0, [0.43313345, 0.59920347]]],\n",
              " ['Tip_Control', [0, [0.43313345, 0.59920347]]],\n",
              " ['Tire_Size', [6, [0.003916449, 0.45774794]]],\n",
              " ['Coupler', [0, [0.35867354, 0.54620147]]],\n",
              " ['Coupler_System', [2, [0.10629387, 0.45753148]]],\n",
              " ['Grouser_Tracks', [2, [0.033831615, 0.45868516]]],\n",
              " ['Hydraulics_Flow', [0, [0.39364752, 0.10852089]]],\n",
              " ['Track_Type', [1, [0.2580127, 0.45796755]]],\n",
              " ['Undercarriage_Pad_Width', [4, [0.08790448, 0.459086]]],\n",
              " ['Stick_Length', [21, [0.03558779, 0.45946068]]],\n",
              " ['Thumb', [2, [0.23120114, 0.4605685]]],\n",
              " ['Pattern_Changer', [2, [0.4319223, 0.45872542]]],\n",
              " ['Grouser_Type', [1, [0.4383151, 0.45913604]]],\n",
              " ['Backhoe_Mounting', [0, [0.46665692, 0.3895407]]],\n",
              " ['Blade_Type', [10, [0.0015298143, 0.4583235]]],\n",
              " ['Travel_Controls', [4, [0.0022710091, 0.45842946]]],\n",
              " ['Differential_Type', [3, [0.008903191, 0.4579678]]],\n",
              " ['Steering_Controls', [2, [0.39570603, 0.46438074]]],\n",
              " ['saleIs_month_end', [1, [0.46104407, 0.36129642]]],\n",
              " ['saleIs_month_start', [1, [0.46031126, 0.39876112]]],\n",
              " ['saleIs_quarter_end', [1, [0.4600184, 0.33042803]]],\n",
              " ['saleIs_quarter_start', [1, [0.45814824, 0.48365197]]],\n",
              " ['saleIs_year_end', [1, [0.45866725, nan]]],\n",
              " ['saleIs_year_start', [1, [0.45866725, nan]]],\n",
              " ['auctioneerID_na', [1, [0.45774823, 0.46984664]]],\n",
              " ['MachineHoursCurrentMeter_na', [2, [0.41661143, 0.51914454]]],\n",
              " ['SalesID', [1144455, [0.008310286, 0.45859787]]],\n",
              " ['MachineID', [17776, [0.003757841, 0.4595788]]],\n",
              " ['ModelID', [36033, [0.45857352, 0.0010936307]]],\n",
              " ['datasource', [132, [0.43562403, 0.49841937]]],\n",
              " ['auctioneerID', [0.0, [0.34691957, 0.45884383]]],\n",
              " ['YearMade', [1974, [0.3009956, 0.46007067]]],\n",
              " ['MachineHoursCurrentMeter', [14856.0, [0.459368, 0.2509487]]],\n",
              " ['saleYear', [1989, [0.09763114, 0.45981508]]],\n",
              " ['saleMonth', [8, [0.44693333, 0.48317593]]],\n",
              " ['saleWeek', [50, [0.45991018, 0.35147443]]],\n",
              " ['saleDay', [30, [0.4608025, 0.2767068]]],\n",
              " ['saleDayofweek', [4, [0.4637312, 0.39367497]]],\n",
              " ['saleDayofyear', [10, [0.0038693824, 0.45864925]]],\n",
              " ['saleElapsed', [607910400.0, [0.0004528304, 0.45936278]]]]"
            ]
          },
          "execution_count": 30,
          "metadata": {},
          "output_type": "execute_result"
        }
      ],
      "source": [
        "best_splits"
      ]
    },
    {
      "cell_type": "code",
      "execution_count": 33,
      "metadata": {
        "colab": {
          "base_uri": "https://localhost:8080/"
        },
        "id": "jEFiVRbVedRu",
        "outputId": "f8701e27-fa65-47d0-e398-1f4731b2d361"
      },
      "outputs": [
        {
          "data": {
            "text/plain": [
              "('fiModelDesc', 0.0, 1082)"
            ]
          },
          "execution_count": 33,
          "metadata": {},
          "output_type": "execute_result"
        }
      ],
      "source": [
        "lowest_mse = 10000\n",
        "for split in best_splits:\n",
        "  if len(split[1]) > 0:\n",
        "    if min(split[1][1]) < lowest_mse:\n",
        "      lowest_mse = min(split[1][1])\n",
        "      best_split_column = split[0]\n",
        "      best_split_value = split[1][0]\n",
        "best_split_column, lowest_mse, best_split_value"
      ]
    },
    {
      "cell_type": "markdown",
      "metadata": {
        "id": "eJQ70l5Dddfs"
      },
      "source": [
        "There were numerous splits with an MSE of `0.0` so I'll just pick the first one which is for when `fiModelDesc` is 1082."
      ]
    },
    {
      "cell_type": "code",
      "execution_count": 34,
      "metadata": {
        "colab": {
          "base_uri": "https://localhost:8080/"
        },
        "id": "M_F_1IF6dsUP",
        "outputId": "7002f42f-4045-4a89-e24d-ff5d029fca07"
      },
      "outputs": [
        {
          "data": {
            "text/plain": [
              "(2, 998)"
            ]
          },
          "execution_count": 34,
          "metadata": {},
          "output_type": "execute_result"
        }
      ],
      "source": [
        "mask = xs_sub.fiModelDesc == best_split_value\n",
        "left_xs = xs_sub[mask]\n",
        "right_xs = xs_sub[~mask]\n",
        "\n",
        "left_y = y_sub[mask]\n",
        "right_y = y_sub[~mask]\n",
        "\n",
        "len(left_xs), len(right_xs)"
      ]
    },
    {
      "cell_type": "code",
      "execution_count": 37,
      "metadata": {
        "colab": {
          "base_uri": "https://localhost:8080/"
        },
        "id": "v4r7RCC2T9Xf",
        "outputId": "9c7a15ef-8de7-4c08-9e57-267d3a61628e"
      },
      "outputs": [
        {
          "data": {
            "text/plain": [
              "(9.998797, 10.110093)"
            ]
          },
          "execution_count": 37,
          "metadata": {},
          "output_type": "execute_result"
        }
      ],
      "source": [
        "left_y.mean(), right_y.mean()"
      ]
    },
    {
      "cell_type": "code",
      "execution_count": 36,
      "metadata": {
        "colab": {
          "base_uri": "https://localhost:8080/"
        },
        "id": "m_QnPcbJeGXi",
        "outputId": "0fd38e11-6c7a-4e12-e264-90a64853dac1"
      },
      "outputs": [
        {
          "data": {
            "text/plain": [
              "(0.0, 0.45956165)"
            ]
          },
          "execution_count": 36,
          "metadata": {},
          "output_type": "execute_result"
        }
      ],
      "source": [
        "mse(left_y, left_y.mean()), mse(right_y, right_y.mean())"
      ]
    },
    {
      "cell_type": "code",
      "execution_count": 38,
      "metadata": {
        "colab": {
          "base_uri": "https://localhost:8080/",
          "height": 141
        },
        "id": "0CJU3_IreLP7",
        "outputId": "66606cfc-538b-4368-a352-bfb8ffc672e2"
      },
      "outputs": [
        {
          "data": {
            "text/html": [
              "\n",
              "  <div id=\"df-79fede77-b84a-4c51-84e9-4c79ced7e983\" class=\"colab-df-container\">\n",
              "    <div>\n",
              "<style scoped>\n",
              "    .dataframe tbody tr th:only-of-type {\n",
              "        vertical-align: middle;\n",
              "    }\n",
              "\n",
              "    .dataframe tbody tr th {\n",
              "        vertical-align: top;\n",
              "    }\n",
              "\n",
              "    .dataframe thead th {\n",
              "        text-align: right;\n",
              "    }\n",
              "</style>\n",
              "<table border=\"1\" class=\"dataframe\">\n",
              "  <thead>\n",
              "    <tr style=\"text-align: right;\">\n",
              "      <th></th>\n",
              "      <th>UsageBand</th>\n",
              "      <th>fiModelDesc</th>\n",
              "      <th>fiBaseModel</th>\n",
              "      <th>fiSecondaryDesc</th>\n",
              "      <th>...</th>\n",
              "      <th>saleDay</th>\n",
              "      <th>saleDayofweek</th>\n",
              "      <th>saleDayofyear</th>\n",
              "      <th>saleElapsed</th>\n",
              "    </tr>\n",
              "  </thead>\n",
              "  <tbody>\n",
              "    <tr>\n",
              "      <th>292246</th>\n",
              "      <td>0</td>\n",
              "      <td>1082</td>\n",
              "      <td>326</td>\n",
              "      <td>93</td>\n",
              "      <td>...</td>\n",
              "      <td>25</td>\n",
              "      <td>2</td>\n",
              "      <td>84</td>\n",
              "      <td>1.237939e+09</td>\n",
              "    </tr>\n",
              "    <tr>\n",
              "      <th>292242</th>\n",
              "      <td>0</td>\n",
              "      <td>1082</td>\n",
              "      <td>326</td>\n",
              "      <td>93</td>\n",
              "      <td>...</td>\n",
              "      <td>25</td>\n",
              "      <td>2</td>\n",
              "      <td>84</td>\n",
              "      <td>1.237939e+09</td>\n",
              "    </tr>\n",
              "  </tbody>\n",
              "</table>\n",
              "<p>2 rows × 66 columns</p>\n",
              "</div>\n",
              "    <div class=\"colab-df-buttons\">\n",
              "\n",
              "  <div class=\"colab-df-container\">\n",
              "    <button class=\"colab-df-convert\" onclick=\"convertToInteractive('df-79fede77-b84a-4c51-84e9-4c79ced7e983')\"\n",
              "            title=\"Convert this dataframe to an interactive table.\"\n",
              "            style=\"display:none;\">\n",
              "\n",
              "  <svg xmlns=\"http://www.w3.org/2000/svg\" height=\"24px\" viewBox=\"0 -960 960 960\">\n",
              "    <path d=\"M120-120v-720h720v720H120Zm60-500h600v-160H180v160Zm220 220h160v-160H400v160Zm0 220h160v-160H400v160ZM180-400h160v-160H180v160Zm440 0h160v-160H620v160ZM180-180h160v-160H180v160Zm440 0h160v-160H620v160Z\"/>\n",
              "  </svg>\n",
              "    </button>\n",
              "\n",
              "  <style>\n",
              "    .colab-df-container {\n",
              "      display:flex;\n",
              "      gap: 12px;\n",
              "    }\n",
              "\n",
              "    .colab-df-convert {\n",
              "      background-color: #E8F0FE;\n",
              "      border: none;\n",
              "      border-radius: 50%;\n",
              "      cursor: pointer;\n",
              "      display: none;\n",
              "      fill: #1967D2;\n",
              "      height: 32px;\n",
              "      padding: 0 0 0 0;\n",
              "      width: 32px;\n",
              "    }\n",
              "\n",
              "    .colab-df-convert:hover {\n",
              "      background-color: #E2EBFA;\n",
              "      box-shadow: 0px 1px 2px rgba(60, 64, 67, 0.3), 0px 1px 3px 1px rgba(60, 64, 67, 0.15);\n",
              "      fill: #174EA6;\n",
              "    }\n",
              "\n",
              "    .colab-df-buttons div {\n",
              "      margin-bottom: 4px;\n",
              "    }\n",
              "\n",
              "    [theme=dark] .colab-df-convert {\n",
              "      background-color: #3B4455;\n",
              "      fill: #D2E3FC;\n",
              "    }\n",
              "\n",
              "    [theme=dark] .colab-df-convert:hover {\n",
              "      background-color: #434B5C;\n",
              "      box-shadow: 0px 1px 3px 1px rgba(0, 0, 0, 0.15);\n",
              "      filter: drop-shadow(0px 1px 2px rgba(0, 0, 0, 0.3));\n",
              "      fill: #FFFFFF;\n",
              "    }\n",
              "  </style>\n",
              "\n",
              "    <script>\n",
              "      const buttonEl =\n",
              "        document.querySelector('#df-79fede77-b84a-4c51-84e9-4c79ced7e983 button.colab-df-convert');\n",
              "      buttonEl.style.display =\n",
              "        google.colab.kernel.accessAllowed ? 'block' : 'none';\n",
              "\n",
              "      async function convertToInteractive(key) {\n",
              "        const element = document.querySelector('#df-79fede77-b84a-4c51-84e9-4c79ced7e983');\n",
              "        const dataTable =\n",
              "          await google.colab.kernel.invokeFunction('convertToInteractive',\n",
              "                                                    [key], {});\n",
              "        if (!dataTable) return;\n",
              "\n",
              "        const docLinkHtml = 'Like what you see? Visit the ' +\n",
              "          '<a target=\"_blank\" href=https://colab.research.google.com/notebooks/data_table.ipynb>data table notebook</a>'\n",
              "          + ' to learn more about interactive tables.';\n",
              "        element.innerHTML = '';\n",
              "        dataTable['output_type'] = 'display_data';\n",
              "        await google.colab.output.renderOutput(dataTable, element);\n",
              "        const docLink = document.createElement('div');\n",
              "        docLink.innerHTML = docLinkHtml;\n",
              "        element.appendChild(docLink);\n",
              "      }\n",
              "    </script>\n",
              "  </div>\n",
              "\n",
              "\n",
              "<div id=\"df-9e6dfc17-80e8-478a-9987-8e7a09b5d513\">\n",
              "  <button class=\"colab-df-quickchart\" onclick=\"quickchart('df-9e6dfc17-80e8-478a-9987-8e7a09b5d513')\"\n",
              "            title=\"Suggest charts.\"\n",
              "            style=\"display:none;\">\n",
              "\n",
              "<svg xmlns=\"http://www.w3.org/2000/svg\" height=\"24px\"viewBox=\"0 0 24 24\"\n",
              "     width=\"24px\">\n",
              "    <g>\n",
              "        <path d=\"M19 3H5c-1.1 0-2 .9-2 2v14c0 1.1.9 2 2 2h14c1.1 0 2-.9 2-2V5c0-1.1-.9-2-2-2zM9 17H7v-7h2v7zm4 0h-2V7h2v10zm4 0h-2v-4h2v4z\"/>\n",
              "    </g>\n",
              "</svg>\n",
              "  </button>\n",
              "\n",
              "<style>\n",
              "  .colab-df-quickchart {\n",
              "      --bg-color: #E8F0FE;\n",
              "      --fill-color: #1967D2;\n",
              "      --hover-bg-color: #E2EBFA;\n",
              "      --hover-fill-color: #174EA6;\n",
              "      --disabled-fill-color: #AAA;\n",
              "      --disabled-bg-color: #DDD;\n",
              "  }\n",
              "\n",
              "  [theme=dark] .colab-df-quickchart {\n",
              "      --bg-color: #3B4455;\n",
              "      --fill-color: #D2E3FC;\n",
              "      --hover-bg-color: #434B5C;\n",
              "      --hover-fill-color: #FFFFFF;\n",
              "      --disabled-bg-color: #3B4455;\n",
              "      --disabled-fill-color: #666;\n",
              "  }\n",
              "\n",
              "  .colab-df-quickchart {\n",
              "    background-color: var(--bg-color);\n",
              "    border: none;\n",
              "    border-radius: 50%;\n",
              "    cursor: pointer;\n",
              "    display: none;\n",
              "    fill: var(--fill-color);\n",
              "    height: 32px;\n",
              "    padding: 0;\n",
              "    width: 32px;\n",
              "  }\n",
              "\n",
              "  .colab-df-quickchart:hover {\n",
              "    background-color: var(--hover-bg-color);\n",
              "    box-shadow: 0 1px 2px rgba(60, 64, 67, 0.3), 0 1px 3px 1px rgba(60, 64, 67, 0.15);\n",
              "    fill: var(--button-hover-fill-color);\n",
              "  }\n",
              "\n",
              "  .colab-df-quickchart-complete:disabled,\n",
              "  .colab-df-quickchart-complete:disabled:hover {\n",
              "    background-color: var(--disabled-bg-color);\n",
              "    fill: var(--disabled-fill-color);\n",
              "    box-shadow: none;\n",
              "  }\n",
              "\n",
              "  .colab-df-spinner {\n",
              "    border: 2px solid var(--fill-color);\n",
              "    border-color: transparent;\n",
              "    border-bottom-color: var(--fill-color);\n",
              "    animation:\n",
              "      spin 1s steps(1) infinite;\n",
              "  }\n",
              "\n",
              "  @keyframes spin {\n",
              "    0% {\n",
              "      border-color: transparent;\n",
              "      border-bottom-color: var(--fill-color);\n",
              "      border-left-color: var(--fill-color);\n",
              "    }\n",
              "    20% {\n",
              "      border-color: transparent;\n",
              "      border-left-color: var(--fill-color);\n",
              "      border-top-color: var(--fill-color);\n",
              "    }\n",
              "    30% {\n",
              "      border-color: transparent;\n",
              "      border-left-color: var(--fill-color);\n",
              "      border-top-color: var(--fill-color);\n",
              "      border-right-color: var(--fill-color);\n",
              "    }\n",
              "    40% {\n",
              "      border-color: transparent;\n",
              "      border-right-color: var(--fill-color);\n",
              "      border-top-color: var(--fill-color);\n",
              "    }\n",
              "    60% {\n",
              "      border-color: transparent;\n",
              "      border-right-color: var(--fill-color);\n",
              "    }\n",
              "    80% {\n",
              "      border-color: transparent;\n",
              "      border-right-color: var(--fill-color);\n",
              "      border-bottom-color: var(--fill-color);\n",
              "    }\n",
              "    90% {\n",
              "      border-color: transparent;\n",
              "      border-bottom-color: var(--fill-color);\n",
              "    }\n",
              "  }\n",
              "</style>\n",
              "\n",
              "  <script>\n",
              "    async function quickchart(key) {\n",
              "      const quickchartButtonEl =\n",
              "        document.querySelector('#' + key + ' button');\n",
              "      quickchartButtonEl.disabled = true;  // To prevent multiple clicks.\n",
              "      quickchartButtonEl.classList.add('colab-df-spinner');\n",
              "      try {\n",
              "        const charts = await google.colab.kernel.invokeFunction(\n",
              "            'suggestCharts', [key], {});\n",
              "      } catch (error) {\n",
              "        console.error('Error during call to suggestCharts:', error);\n",
              "      }\n",
              "      quickchartButtonEl.classList.remove('colab-df-spinner');\n",
              "      quickchartButtonEl.classList.add('colab-df-quickchart-complete');\n",
              "    }\n",
              "    (() => {\n",
              "      let quickchartButtonEl =\n",
              "        document.querySelector('#df-9e6dfc17-80e8-478a-9987-8e7a09b5d513 button');\n",
              "      quickchartButtonEl.style.display =\n",
              "        google.colab.kernel.accessAllowed ? 'block' : 'none';\n",
              "    })();\n",
              "  </script>\n",
              "</div>\n",
              "    </div>\n",
              "  </div>\n"
            ],
            "text/plain": [
              "        UsageBand  fiModelDesc  fiBaseModel  fiSecondaryDesc  ...  saleDay  \\\n",
              "292246          0         1082          326               93  ...       25   \n",
              "292242          0         1082          326               93  ...       25   \n",
              "\n",
              "        saleDayofweek  saleDayofyear   saleElapsed  \n",
              "292246              2             84  1.237939e+09  \n",
              "292242              2             84  1.237939e+09  \n",
              "\n",
              "[2 rows x 66 columns]"
            ]
          },
          "execution_count": 38,
          "metadata": {},
          "output_type": "execute_result"
        }
      ],
      "source": [
        "left_xs"
      ]
    },
    {
      "cell_type": "markdown",
      "metadata": {
        "id": "tdj_QPwweTtQ"
      },
      "source": [
        "I'll leave the `left_xs` split as a leaf, since it has only two values. I'll continue to split `right_xs`:"
      ]
    },
    {
      "cell_type": "code",
      "execution_count": null,
      "metadata": {
        "id": "hQftV8R7eSdi"
      },
      "outputs": [],
      "source": [
        "best_splits = []\n",
        "for column in right_xs.columns:\n",
        "  if column in to.cat_names and column != 'fiModelDesc':\n",
        "    best_splits.append([column, get_cat_best_split(right_xs, right_y, column)])\n",
        "  if column in to.cont_names:\n",
        "    best_splits.append([column, get_cont_best_split(right_xs, right_y, column)])"
      ]
    },
    {
      "cell_type": "code",
      "execution_count": 40,
      "metadata": {
        "colab": {
          "base_uri": "https://localhost:8080/"
        },
        "id": "hfYjmZO8ezTo",
        "outputId": "7c457a57-28ad-4afe-9dfc-7d5a8542a707"
      },
      "outputs": [
        {
          "data": {
            "text/plain": [
              "('fiBaseModel', 0.0, 72)"
            ]
          },
          "execution_count": 40,
          "metadata": {},
          "output_type": "execute_result"
        }
      ],
      "source": [
        "lowest_mse = 10000\n",
        "for split in best_splits:\n",
        "  if len(split[1]) > 0:\n",
        "    if min(split[1][1]) < lowest_mse:\n",
        "      lowest_mse = min(split[1][1])\n",
        "      best_split_column = split[0]\n",
        "      best_split_value = split[1][0]\n",
        "best_split_column, lowest_mse, best_split_value"
      ]
    },
    {
      "cell_type": "markdown",
      "metadata": {
        "id": "W-YnzTMpfFq8"
      },
      "source": [
        "The next best split is for `fiBaseModel`:"
      ]
    },
    {
      "cell_type": "code",
      "execution_count": 41,
      "metadata": {
        "colab": {
          "base_uri": "https://localhost:8080/"
        },
        "id": "d_mQDCwHfI4T",
        "outputId": "ed3de7b8-2233-449c-eb84-f68e95f6ada8"
      },
      "outputs": [
        {
          "data": {
            "text/plain": [
              "(2, 996)"
            ]
          },
          "execution_count": 41,
          "metadata": {},
          "output_type": "execute_result"
        }
      ],
      "source": [
        "mask = right_xs.fiBaseModel == best_split_value\n",
        "left_xs = right_xs[mask]\n",
        "right_xs = right_xs[~mask]\n",
        "\n",
        "left_y = right_y[mask]\n",
        "right_y = right_y[~mask]\n",
        "\n",
        "len(left_xs), len(right_xs)"
      ]
    },
    {
      "cell_type": "code",
      "execution_count": 102,
      "metadata": {
        "colab": {
          "base_uri": "https://localhost:8080/",
          "height": 141
        },
        "id": "V2WoS7BufqEJ",
        "outputId": "18a2209a-c268-474e-eda7-2398131f7a98"
      },
      "outputs": [
        {
          "data": {
            "text/html": [
              "\n",
              "  <div id=\"df-9397ebdb-100a-4d30-94da-bd417e50be87\" class=\"colab-df-container\">\n",
              "    <div>\n",
              "<style scoped>\n",
              "    .dataframe tbody tr th:only-of-type {\n",
              "        vertical-align: middle;\n",
              "    }\n",
              "\n",
              "    .dataframe tbody tr th {\n",
              "        vertical-align: top;\n",
              "    }\n",
              "\n",
              "    .dataframe thead th {\n",
              "        text-align: right;\n",
              "    }\n",
              "</style>\n",
              "<table border=\"1\" class=\"dataframe\">\n",
              "  <thead>\n",
              "    <tr style=\"text-align: right;\">\n",
              "      <th></th>\n",
              "      <th>UsageBand</th>\n",
              "      <th>fiModelDesc</th>\n",
              "      <th>fiBaseModel</th>\n",
              "      <th>fiSecondaryDesc</th>\n",
              "      <th>...</th>\n",
              "      <th>saleDay</th>\n",
              "      <th>saleDayofweek</th>\n",
              "      <th>saleDayofyear</th>\n",
              "      <th>saleElapsed</th>\n",
              "    </tr>\n",
              "  </thead>\n",
              "  <tbody>\n",
              "    <tr>\n",
              "      <th>372510</th>\n",
              "      <td>0</td>\n",
              "      <td>1030</td>\n",
              "      <td>313</td>\n",
              "      <td>50</td>\n",
              "      <td>...</td>\n",
              "      <td>17</td>\n",
              "      <td>2</td>\n",
              "      <td>321</td>\n",
              "      <td>1.289952e+09</td>\n",
              "    </tr>\n",
              "    <tr>\n",
              "      <th>366529</th>\n",
              "      <td>0</td>\n",
              "      <td>2214</td>\n",
              "      <td>698</td>\n",
              "      <td>31</td>\n",
              "      <td>...</td>\n",
              "      <td>12</td>\n",
              "      <td>1</td>\n",
              "      <td>102</td>\n",
              "      <td>1.302566e+09</td>\n",
              "    </tr>\n",
              "  </tbody>\n",
              "</table>\n",
              "<p>2 rows × 66 columns</p>\n",
              "</div>\n",
              "    <div class=\"colab-df-buttons\">\n",
              "\n",
              "  <div class=\"colab-df-container\">\n",
              "    <button class=\"colab-df-convert\" onclick=\"convertToInteractive('df-9397ebdb-100a-4d30-94da-bd417e50be87')\"\n",
              "            title=\"Convert this dataframe to an interactive table.\"\n",
              "            style=\"display:none;\">\n",
              "\n",
              "  <svg xmlns=\"http://www.w3.org/2000/svg\" height=\"24px\" viewBox=\"0 -960 960 960\">\n",
              "    <path d=\"M120-120v-720h720v720H120Zm60-500h600v-160H180v160Zm220 220h160v-160H400v160Zm0 220h160v-160H400v160ZM180-400h160v-160H180v160Zm440 0h160v-160H620v160ZM180-180h160v-160H180v160Zm440 0h160v-160H620v160Z\"/>\n",
              "  </svg>\n",
              "    </button>\n",
              "\n",
              "  <style>\n",
              "    .colab-df-container {\n",
              "      display:flex;\n",
              "      gap: 12px;\n",
              "    }\n",
              "\n",
              "    .colab-df-convert {\n",
              "      background-color: #E8F0FE;\n",
              "      border: none;\n",
              "      border-radius: 50%;\n",
              "      cursor: pointer;\n",
              "      display: none;\n",
              "      fill: #1967D2;\n",
              "      height: 32px;\n",
              "      padding: 0 0 0 0;\n",
              "      width: 32px;\n",
              "    }\n",
              "\n",
              "    .colab-df-convert:hover {\n",
              "      background-color: #E2EBFA;\n",
              "      box-shadow: 0px 1px 2px rgba(60, 64, 67, 0.3), 0px 1px 3px 1px rgba(60, 64, 67, 0.15);\n",
              "      fill: #174EA6;\n",
              "    }\n",
              "\n",
              "    .colab-df-buttons div {\n",
              "      margin-bottom: 4px;\n",
              "    }\n",
              "\n",
              "    [theme=dark] .colab-df-convert {\n",
              "      background-color: #3B4455;\n",
              "      fill: #D2E3FC;\n",
              "    }\n",
              "\n",
              "    [theme=dark] .colab-df-convert:hover {\n",
              "      background-color: #434B5C;\n",
              "      box-shadow: 0px 1px 3px 1px rgba(0, 0, 0, 0.15);\n",
              "      filter: drop-shadow(0px 1px 2px rgba(0, 0, 0, 0.3));\n",
              "      fill: #FFFFFF;\n",
              "    }\n",
              "  </style>\n",
              "\n",
              "    <script>\n",
              "      const buttonEl =\n",
              "        document.querySelector('#df-9397ebdb-100a-4d30-94da-bd417e50be87 button.colab-df-convert');\n",
              "      buttonEl.style.display =\n",
              "        google.colab.kernel.accessAllowed ? 'block' : 'none';\n",
              "\n",
              "      async function convertToInteractive(key) {\n",
              "        const element = document.querySelector('#df-9397ebdb-100a-4d30-94da-bd417e50be87');\n",
              "        const dataTable =\n",
              "          await google.colab.kernel.invokeFunction('convertToInteractive',\n",
              "                                                    [key], {});\n",
              "        if (!dataTable) return;\n",
              "\n",
              "        const docLinkHtml = 'Like what you see? Visit the ' +\n",
              "          '<a target=\"_blank\" href=https://colab.research.google.com/notebooks/data_table.ipynb>data table notebook</a>'\n",
              "          + ' to learn more about interactive tables.';\n",
              "        element.innerHTML = '';\n",
              "        dataTable['output_type'] = 'display_data';\n",
              "        await google.colab.output.renderOutput(dataTable, element);\n",
              "        const docLink = document.createElement('div');\n",
              "        docLink.innerHTML = docLinkHtml;\n",
              "        element.appendChild(docLink);\n",
              "      }\n",
              "    </script>\n",
              "  </div>\n",
              "\n",
              "\n",
              "<div id=\"df-db5e409c-ada0-470c-9bfb-10145cd93dd0\">\n",
              "  <button class=\"colab-df-quickchart\" onclick=\"quickchart('df-db5e409c-ada0-470c-9bfb-10145cd93dd0')\"\n",
              "            title=\"Suggest charts.\"\n",
              "            style=\"display:none;\">\n",
              "\n",
              "<svg xmlns=\"http://www.w3.org/2000/svg\" height=\"24px\"viewBox=\"0 0 24 24\"\n",
              "     width=\"24px\">\n",
              "    <g>\n",
              "        <path d=\"M19 3H5c-1.1 0-2 .9-2 2v14c0 1.1.9 2 2 2h14c1.1 0 2-.9 2-2V5c0-1.1-.9-2-2-2zM9 17H7v-7h2v7zm4 0h-2V7h2v10zm4 0h-2v-4h2v4z\"/>\n",
              "    </g>\n",
              "</svg>\n",
              "  </button>\n",
              "\n",
              "<style>\n",
              "  .colab-df-quickchart {\n",
              "      --bg-color: #E8F0FE;\n",
              "      --fill-color: #1967D2;\n",
              "      --hover-bg-color: #E2EBFA;\n",
              "      --hover-fill-color: #174EA6;\n",
              "      --disabled-fill-color: #AAA;\n",
              "      --disabled-bg-color: #DDD;\n",
              "  }\n",
              "\n",
              "  [theme=dark] .colab-df-quickchart {\n",
              "      --bg-color: #3B4455;\n",
              "      --fill-color: #D2E3FC;\n",
              "      --hover-bg-color: #434B5C;\n",
              "      --hover-fill-color: #FFFFFF;\n",
              "      --disabled-bg-color: #3B4455;\n",
              "      --disabled-fill-color: #666;\n",
              "  }\n",
              "\n",
              "  .colab-df-quickchart {\n",
              "    background-color: var(--bg-color);\n",
              "    border: none;\n",
              "    border-radius: 50%;\n",
              "    cursor: pointer;\n",
              "    display: none;\n",
              "    fill: var(--fill-color);\n",
              "    height: 32px;\n",
              "    padding: 0;\n",
              "    width: 32px;\n",
              "  }\n",
              "\n",
              "  .colab-df-quickchart:hover {\n",
              "    background-color: var(--hover-bg-color);\n",
              "    box-shadow: 0 1px 2px rgba(60, 64, 67, 0.3), 0 1px 3px 1px rgba(60, 64, 67, 0.15);\n",
              "    fill: var(--button-hover-fill-color);\n",
              "  }\n",
              "\n",
              "  .colab-df-quickchart-complete:disabled,\n",
              "  .colab-df-quickchart-complete:disabled:hover {\n",
              "    background-color: var(--disabled-bg-color);\n",
              "    fill: var(--disabled-fill-color);\n",
              "    box-shadow: none;\n",
              "  }\n",
              "\n",
              "  .colab-df-spinner {\n",
              "    border: 2px solid var(--fill-color);\n",
              "    border-color: transparent;\n",
              "    border-bottom-color: var(--fill-color);\n",
              "    animation:\n",
              "      spin 1s steps(1) infinite;\n",
              "  }\n",
              "\n",
              "  @keyframes spin {\n",
              "    0% {\n",
              "      border-color: transparent;\n",
              "      border-bottom-color: var(--fill-color);\n",
              "      border-left-color: var(--fill-color);\n",
              "    }\n",
              "    20% {\n",
              "      border-color: transparent;\n",
              "      border-left-color: var(--fill-color);\n",
              "      border-top-color: var(--fill-color);\n",
              "    }\n",
              "    30% {\n",
              "      border-color: transparent;\n",
              "      border-left-color: var(--fill-color);\n",
              "      border-top-color: var(--fill-color);\n",
              "      border-right-color: var(--fill-color);\n",
              "    }\n",
              "    40% {\n",
              "      border-color: transparent;\n",
              "      border-right-color: var(--fill-color);\n",
              "      border-top-color: var(--fill-color);\n",
              "    }\n",
              "    60% {\n",
              "      border-color: transparent;\n",
              "      border-right-color: var(--fill-color);\n",
              "    }\n",
              "    80% {\n",
              "      border-color: transparent;\n",
              "      border-right-color: var(--fill-color);\n",
              "      border-bottom-color: var(--fill-color);\n",
              "    }\n",
              "    90% {\n",
              "      border-color: transparent;\n",
              "      border-bottom-color: var(--fill-color);\n",
              "    }\n",
              "  }\n",
              "</style>\n",
              "\n",
              "  <script>\n",
              "    async function quickchart(key) {\n",
              "      const quickchartButtonEl =\n",
              "        document.querySelector('#' + key + ' button');\n",
              "      quickchartButtonEl.disabled = true;  // To prevent multiple clicks.\n",
              "      quickchartButtonEl.classList.add('colab-df-spinner');\n",
              "      try {\n",
              "        const charts = await google.colab.kernel.invokeFunction(\n",
              "            'suggestCharts', [key], {});\n",
              "      } catch (error) {\n",
              "        console.error('Error during call to suggestCharts:', error);\n",
              "      }\n",
              "      quickchartButtonEl.classList.remove('colab-df-spinner');\n",
              "      quickchartButtonEl.classList.add('colab-df-quickchart-complete');\n",
              "    }\n",
              "    (() => {\n",
              "      let quickchartButtonEl =\n",
              "        document.querySelector('#df-db5e409c-ada0-470c-9bfb-10145cd93dd0 button');\n",
              "      quickchartButtonEl.style.display =\n",
              "        google.colab.kernel.accessAllowed ? 'block' : 'none';\n",
              "    })();\n",
              "  </script>\n",
              "</div>\n",
              "    </div>\n",
              "  </div>\n"
            ],
            "text/plain": [
              "        UsageBand  fiModelDesc  fiBaseModel  fiSecondaryDesc  ...  saleDay  \\\n",
              "372510          0         1030          313               50  ...       17   \n",
              "366529          0         2214          698               31  ...       12   \n",
              "\n",
              "        saleDayofweek  saleDayofyear   saleElapsed  \n",
              "372510              2            321  1.289952e+09  \n",
              "366529              1            102  1.302566e+09  \n",
              "\n",
              "[2 rows x 66 columns]"
            ]
          },
          "execution_count": 102,
          "metadata": {},
          "output_type": "execute_result"
        }
      ],
      "source": [
        "left_xs"
      ]
    },
    {
      "cell_type": "code",
      "execution_count": 42,
      "metadata": {
        "colab": {
          "base_uri": "https://localhost:8080/"
        },
        "id": "7koeJR3vU8y7",
        "outputId": "a8f030cf-53c9-4fb8-8068-e23b8bfb7086"
      },
      "outputs": [
        {
          "data": {
            "text/plain": [
              "(10.463103, 10.109385)"
            ]
          },
          "execution_count": 42,
          "metadata": {},
          "output_type": "execute_result"
        }
      ],
      "source": [
        "left_y.mean(), right_y.mean()"
      ]
    },
    {
      "cell_type": "code",
      "execution_count": 43,
      "metadata": {
        "colab": {
          "base_uri": "https://localhost:8080/"
        },
        "id": "wtuu8YQLU_Nz",
        "outputId": "ef937f2c-6bcd-42fd-cce3-7075877d9144"
      },
      "outputs": [
        {
          "data": {
            "text/plain": [
              "(0.0, 0.4602337)"
            ]
          },
          "execution_count": 43,
          "metadata": {},
          "output_type": "execute_result"
        }
      ],
      "source": [
        "mse(left_y, left_y.mean()), mse(right_y, right_y.mean())"
      ]
    },
    {
      "cell_type": "markdown",
      "metadata": {
        "id": "clyujhAjfufj"
      },
      "source": [
        "Again, one of the splits only has two values, so I'll keep that as the second leaf, and continue to split the other group:"
      ]
    },
    {
      "cell_type": "code",
      "execution_count": null,
      "metadata": {
        "id": "TwRXXNo7frH1"
      },
      "outputs": [],
      "source": [
        "best_splits = []\n",
        "for column in right_xs.columns:\n",
        "  if column in to.cat_names and column not in ['fiModelDesc', 'fiBaseModel']:\n",
        "    best_splits.append([column, get_cat_best_split(right_xs, right_y, column)])\n",
        "  if column in to.cont_names:\n",
        "    best_splits.append([column, get_cont_best_split(right_xs, right_y, column)])"
      ]
    },
    {
      "cell_type": "code",
      "execution_count": 47,
      "metadata": {
        "colab": {
          "base_uri": "https://localhost:8080/"
        },
        "id": "xFJgh-Tsf93g",
        "outputId": "f055b0eb-3c3c-4078-e31b-cae06f336a99"
      },
      "outputs": [
        {
          "data": {
            "text/plain": [
              "('saleElapsed', 0.0004528304, 607910400.0)"
            ]
          },
          "execution_count": 47,
          "metadata": {},
          "output_type": "execute_result"
        }
      ],
      "source": [
        "lowest_mse = 10000\n",
        "for split in best_splits:\n",
        "  if len(split[1]) > 0:\n",
        "    if min(split[1][1]) < lowest_mse:\n",
        "      lowest_mse = min(split[1][1])\n",
        "      best_split_column = split[0]\n",
        "      best_split_value = split[1][0]\n",
        "best_split_column, lowest_mse, best_split_value"
      ]
    },
    {
      "cell_type": "markdown",
      "metadata": {
        "id": "8Ey0PdDigCcH"
      },
      "source": [
        "The final split (to reach four leaf nodes like the textbook) is on `saleElapsed`."
      ]
    },
    {
      "cell_type": "code",
      "execution_count": 49,
      "metadata": {
        "colab": {
          "base_uri": "https://localhost:8080/"
        },
        "id": "bVRCZFPSgJxF",
        "outputId": "e8b8d04a-3401-4fbe-f8fb-06c510864e28"
      },
      "outputs": [
        {
          "data": {
            "text/plain": [
              "(0.0004528304, 0.4609359)"
            ]
          },
          "execution_count": 49,
          "metadata": {},
          "output_type": "execute_result"
        }
      ],
      "source": [
        "mask = right_xs.saleElapsed <= best_split_value\n",
        "left_xs = right_xs[mask]\n",
        "right_xs = right_xs[~mask]\n",
        "\n",
        "left_y = right_y[mask]\n",
        "right_y = right_y[~mask]\n",
        "\n",
        "mse(left_y, left_y.mean()), mse(right_y, right_y.mean())"
      ]
    },
    {
      "cell_type": "code",
      "execution_count": 50,
      "metadata": {
        "colab": {
          "base_uri": "https://localhost:8080/"
        },
        "id": "-e91siKkWpj9",
        "outputId": "0a6a3bec-698e-4171-e971-8e092f8faaf2"
      },
      "outputs": [
        {
          "data": {
            "text/plain": [
              "(9.776848, 10.110054)"
            ]
          },
          "execution_count": 50,
          "metadata": {},
          "output_type": "execute_result"
        }
      ],
      "source": [
        "left_y.mean(), right_y.mean()"
      ]
    },
    {
      "cell_type": "code",
      "execution_count": 51,
      "metadata": {
        "colab": {
          "base_uri": "https://localhost:8080/"
        },
        "id": "NmRTliQwW93B",
        "outputId": "d80c3a71-41cc-4321-ec4b-45b48c74c47f"
      },
      "outputs": [
        {
          "data": {
            "text/plain": [
              "(2, 994)"
            ]
          },
          "execution_count": 51,
          "metadata": {},
          "output_type": "execute_result"
        }
      ],
      "source": [
        "len(left_xs), len(right_xs)"
      ]
    },
    {
      "cell_type": "markdown",
      "metadata": {
        "id": "m5PrpAiWXou-"
      },
      "source": [
        "Plotting the decision tree (manually) to visualize the splits:"
      ]
    },
    {
      "cell_type": "markdown",
      "metadata": {},
      "source": [
        "![My Decision Tree Algorithm](my_decision_tree.svg)"
      ]
    },
    {
      "cell_type": "markdown",
      "metadata": {
        "id": "ETkkwDjwX4wJ"
      },
      "source": [
        "My model seems to be making incremental splits (with 2 rows taken off each split) based on very small sample sizes. One question I have is if the decision tree is always supposed to select the minimum or is it choosing randomly one of the many columns with relatively small MSE values? Another question: am I supposed to exclude a column from future splits once a split has been made on the column (which is what I'm doing currently)? I'll be looking for these answers when watching the Lesson 6 video."
      ]
    },
    {
      "cell_type": "markdown",
      "metadata": {
        "id": "gwv_yVOohqn6"
      },
      "source": [
        "## Decision Tree Algorithm: After Watching Lesson 6"
      ]
    },
    {
      "cell_type": "markdown",
      "metadata": {
        "id": "0lY80PX6BaGP"
      },
      "source": [
        "The algorithm presented in the [Lesson 6 video ](https://www.youtube.com/watch?v=AdhG64NF76E)(from Jeremy's notebook [How random forests really work](https://www.kaggle.com/code/jhoward/how-random-forests-really-work)) evaluates a split based on a weighted standard deviation calculation.\n",
        "\n",
        "For a given condition (for example `Age <= 6`) Jeremy calculates the following:\n",
        "\n",
        "- A \"side score\" which is the product of the standard deviation of the dependent variable and number of rows for rows that satisfy the condition.\n",
        "- A side score for the rows that **don't** satisfy the condition.\n",
        "- The sum of both side scores divided by the number of total rows in the dependent variable column.\n",
        "\n",
        "\n",
        "Then for each column, he calculates the side score for splits at each unique value of the column and gets the minimum score (and corresponding split value). The column (and corresponding value) with the split that has the smallest score is determined as the best split.\n",
        "\n",
        "Conceptually: the column (and value) where the weighted standard deviation is the smallest is the column where a split on that value will create two groups where within each group there will be dependent variable values that are relatively close to each other.\n"
      ]
    },
    {
      "cell_type": "markdown",
      "metadata": {
        "id": "V469_QH0oKVy"
      },
      "source": [
        "I'll start by coding the `_side_score` function Jeremy defined, which calculates the product of the standard deviation of the dependent variable and number of rows in the give split side:"
      ]
    },
    {
      "cell_type": "code",
      "execution_count": 1,
      "metadata": {
        "id": "Fy5wZOFxg_4Q"
      },
      "outputs": [],
      "source": [
        "def _side_score(side, y):\n",
        "    tot = side.sum()\n",
        "    if tot<=1: return 0\n",
        "    return y[side].std()*tot"
      ]
    },
    {
      "cell_type": "markdown",
      "metadata": {
        "id": "igrP24TVoqvI"
      },
      "source": [
        "Next, the function `score` which calculates the sum of each side's `_side_score` divided by the total number of rows, or in other words, the weighted average of each side's standard deviation:"
      ]
    },
    {
      "cell_type": "code",
      "execution_count": 2,
      "metadata": {
        "id": "JYTXYPsaonGl"
      },
      "outputs": [],
      "source": [
        "def score(col, y, split):\n",
        "    lhs = col<=split\n",
        "    return (_side_score(lhs,y) + _side_score(~lhs,y))/len(y)"
      ]
    },
    {
      "cell_type": "markdown",
      "metadata": {
        "id": "xR7kZJZMpMTb"
      },
      "source": [
        "I'll reload the data so and take the same subset as above so I can compare the splits this algorithm makes to the ones made previously:"
      ]
    },
    {
      "cell_type": "code",
      "execution_count": 3,
      "metadata": {
        "id": "ywe9DPTqpC7q"
      },
      "outputs": [],
      "source": [
        "to = load_pickle(\"to.pkl\")"
      ]
    },
    {
      "cell_type": "code",
      "execution_count": 4,
      "metadata": {
        "id": "we5CrWBVqAvc"
      },
      "outputs": [],
      "source": [
        "xs,y = to.train.xs, to.train.y\n",
        "valid_xs, valid_y = to.valid.xs, to.valid.y"
      ]
    },
    {
      "cell_type": "code",
      "execution_count": 5,
      "metadata": {
        "id": "xbQVqH92qJWY"
      },
      "outputs": [],
      "source": [
        "xs_sub = xs.sample(1000, random_state=42)\n",
        "y_sub = y[xs_sub.index]"
      ]
    },
    {
      "cell_type": "code",
      "execution_count": 7,
      "metadata": {
        "colab": {
          "base_uri": "https://localhost:8080/"
        },
        "id": "MCaE-0R-2k43",
        "outputId": "20351b40-6258-4138-fda8-f412e3d8bd82"
      },
      "outputs": [
        {
          "data": {
            "text/plain": [
              "(0.45866725, 10.109871)"
            ]
          },
          "execution_count": 7,
          "metadata": {},
          "output_type": "execute_result"
        }
      ],
      "source": [
        "mse(y_sub, y_sub.mean()), y_sub.mean()"
      ]
    },
    {
      "cell_type": "code",
      "execution_count": 58,
      "metadata": {
        "colab": {
          "base_uri": "https://localhost:8080/"
        },
        "id": "vPoY8Ck6q-vk",
        "outputId": "e57af289-824d-455a-af65-87595704319c"
      },
      "outputs": [
        {
          "data": {
            "text/plain": [
              "0.6922498415264088"
            ]
          },
          "execution_count": 58,
          "metadata": {},
          "output_type": "execute_result"
        }
      ],
      "source": [
        "score(xs['UsageBand'], y, 2)"
      ]
    },
    {
      "cell_type": "markdown",
      "metadata": {
        "id": "ytG-7RARrN0V"
      },
      "source": [
        "I'll walk through each step of the score calculation manually to visualize it better.\n",
        "\n",
        "First we create a boolean array of rows that satisfy or don't satisfy the condition:"
      ]
    },
    {
      "cell_type": "code",
      "execution_count": 59,
      "metadata": {
        "id": "NRPIlyEErM7j"
      },
      "outputs": [],
      "source": [
        "lhs = xs['UsageBand'] <= 2"
      ]
    },
    {
      "cell_type": "code",
      "execution_count": 60,
      "metadata": {
        "colab": {
          "base_uri": "https://localhost:8080/"
        },
        "id": "FfDJwTbwrf2t",
        "outputId": "610065cd-0f09-4018-e777-8ac602491b33"
      },
      "outputs": [
        {
          "data": {
            "text/plain": [
              "0          True\n",
              "1          True\n",
              "2          True\n",
              "3          True\n",
              "4         False\n",
              "          ...  \n",
              "412693     True\n",
              "412694     True\n",
              "412695     True\n",
              "412696     True\n",
              "412697     True\n",
              "Name: UsageBand, Length: 404710, dtype: bool"
            ]
          },
          "execution_count": 60,
          "metadata": {},
          "output_type": "execute_result"
        }
      ],
      "source": [
        "lhs"
      ]
    },
    {
      "cell_type": "markdown",
      "metadata": {
        "id": "Lg3CL2I2rjW7"
      },
      "source": [
        "Next: for how many columns is the condition met?"
      ]
    },
    {
      "cell_type": "code",
      "execution_count": 61,
      "metadata": {
        "colab": {
          "base_uri": "https://localhost:8080/"
        },
        "id": "n2AdC4fyrgW6",
        "outputId": "4b39fd77-5ee8-4c84-c212-42c92c505e1e"
      },
      "outputs": [
        {
          "data": {
            "text/plain": [
              "370444"
            ]
          },
          "execution_count": 61,
          "metadata": {},
          "output_type": "execute_result"
        }
      ],
      "source": [
        "tot = lhs.sum()\n",
        "tot"
      ]
    },
    {
      "cell_type": "markdown",
      "metadata": {
        "id": "oUNMAguirvod"
      },
      "source": [
        "What is the standard deviation of the dependent variable for rows where the condition is met?"
      ]
    },
    {
      "cell_type": "code",
      "execution_count": 62,
      "metadata": {
        "colab": {
          "base_uri": "https://localhost:8080/"
        },
        "id": "ie1YN3Myro_F",
        "outputId": "76f711fd-323f-4a4a-f898-9012e6f3a635"
      },
      "outputs": [
        {
          "data": {
            "text/plain": [
              "0.69022495"
            ]
          },
          "execution_count": 62,
          "metadata": {},
          "output_type": "execute_result"
        }
      ],
      "source": [
        "y[lhs].std()"
      ]
    },
    {
      "cell_type": "markdown",
      "metadata": {
        "id": "JlyVKsKar6hA"
      },
      "source": [
        "Finally, what is the side score for this condition?"
      ]
    },
    {
      "cell_type": "code",
      "execution_count": 63,
      "metadata": {
        "colab": {
          "base_uri": "https://localhost:8080/"
        },
        "id": "b2GaCnDFr2RU",
        "outputId": "de02fa2e-e0d4-466b-ed9b-358481fb5f90"
      },
      "outputs": [
        {
          "data": {
            "text/plain": [
              "255689.68972754478"
            ]
          },
          "execution_count": 63,
          "metadata": {},
          "output_type": "execute_result"
        }
      ],
      "source": [
        "side_score_lhs = y[lhs].std()*tot\n",
        "side_score_lhs"
      ]
    },
    {
      "cell_type": "markdown",
      "metadata": {
        "id": "gyi7O7NisA0s"
      },
      "source": [
        "We ask the same questions for the rows where the condition is NOT met:"
      ]
    },
    {
      "cell_type": "code",
      "execution_count": 64,
      "metadata": {
        "colab": {
          "base_uri": "https://localhost:8080/"
        },
        "id": "1HF5TQO_r_07",
        "outputId": "28f0ffac-c16f-42bc-8370-c63d9ab0d9fd"
      },
      "outputs": [
        {
          "data": {
            "text/plain": [
              "34266"
            ]
          },
          "execution_count": 64,
          "metadata": {},
          "output_type": "execute_result"
        }
      ],
      "source": [
        "tot = (~lhs).sum()\n",
        "tot"
      ]
    },
    {
      "cell_type": "code",
      "execution_count": 65,
      "metadata": {
        "colab": {
          "base_uri": "https://localhost:8080/"
        },
        "id": "DW28JGxtsIAn",
        "outputId": "b69aba00-970f-4d92-9670-39617d1cd22d"
      },
      "outputs": [
        {
          "data": {
            "text/plain": [
              "0.71414065"
            ]
          },
          "execution_count": 65,
          "metadata": {},
          "output_type": "execute_result"
        }
      ],
      "source": [
        "y[~lhs].std()"
      ]
    },
    {
      "cell_type": "code",
      "execution_count": 66,
      "metadata": {
        "colab": {
          "base_uri": "https://localhost:8080/"
        },
        "id": "T_mxPzVOsPkp",
        "outputId": "0f1de510-0869-4d34-b375-6aea48a553dd"
      },
      "outputs": [
        {
          "data": {
            "text/plain": [
              "24470.743636608124"
            ]
          },
          "execution_count": 66,
          "metadata": {},
          "output_type": "execute_result"
        }
      ],
      "source": [
        "side_score_rhs = y[~lhs].std()*tot\n",
        "side_score_rhs"
      ]
    },
    {
      "cell_type": "markdown",
      "metadata": {
        "id": "emxfmTu6sWRY"
      },
      "source": [
        "Finally, we add the two side scores together and divide by the number of total rows:"
      ]
    },
    {
      "cell_type": "code",
      "execution_count": 67,
      "metadata": {
        "colab": {
          "base_uri": "https://localhost:8080/"
        },
        "id": "SF56YqigsU9S",
        "outputId": "f833a3ce-92d6-4468-f6b9-3344e007af15"
      },
      "outputs": [
        {
          "data": {
            "text/plain": [
              "0.6922498415264088"
            ]
          },
          "execution_count": 67,
          "metadata": {},
          "output_type": "execute_result"
        }
      ],
      "source": [
        "(side_score_lhs + side_score_rhs) / len(y)"
      ]
    },
    {
      "cell_type": "markdown",
      "metadata": {
        "id": "7LsCsS58sk39"
      },
      "source": [
        "Thankfully, this is equal to the output from the function `_side_score`! I'll continue by getting the code for calculating this score for splits on each of the unique values in a column:"
      ]
    },
    {
      "cell_type": "code",
      "execution_count": 68,
      "metadata": {
        "id": "ydx00YygsiNd"
      },
      "outputs": [],
      "source": [
        "def min_col(xs, nm, y):\n",
        "    col = xs[nm]\n",
        "    unq = col.dropna().unique()\n",
        "    scores = np.array([score(col, y, o) for o in unq if not np.isnan(o)])\n",
        "    idx = scores.argmin()\n",
        "    return unq[idx],scores[idx]"
      ]
    },
    {
      "cell_type": "markdown",
      "metadata": {
        "id": "mRBhZJdgtFRM"
      },
      "source": [
        "Let's test it out on `UsageBand`:"
      ]
    },
    {
      "cell_type": "code",
      "execution_count": 69,
      "metadata": {
        "colab": {
          "base_uri": "https://localhost:8080/"
        },
        "id": "tB4UFrjotEqY",
        "outputId": "40502cca-979f-47b2-c161-1b0517722f2d"
      },
      "outputs": [
        {
          "data": {
            "text/plain": [
              "(0, 0.6921555579861831)"
            ]
          },
          "execution_count": 69,
          "metadata": {},
          "output_type": "execute_result"
        }
      ],
      "source": [
        "min_col(xs, 'UsageBand', y)"
      ]
    },
    {
      "cell_type": "markdown",
      "metadata": {
        "id": "X2Y8z8futMF9"
      },
      "source": [
        "Again, I'll go line-by-line through the code of `min_col` to make sure I understand what's going on:"
      ]
    },
    {
      "cell_type": "code",
      "execution_count": 70,
      "metadata": {
        "colab": {
          "base_uri": "https://localhost:8080/"
        },
        "id": "ZSI2ramptJD4",
        "outputId": "8d155ef3-b95f-4d31-f9d2-b5a26c61a267"
      },
      "outputs": [
        {
          "data": {
            "text/plain": [
              "0         2\n",
              "1         2\n",
              "2         1\n",
              "3         1\n",
              "4         3\n",
              "         ..\n",
              "412693    0\n",
              "412694    0\n",
              "412695    0\n",
              "412696    0\n",
              "412697    0\n",
              "Name: UsageBand, Length: 404710, dtype: int8"
            ]
          },
          "execution_count": 70,
          "metadata": {},
          "output_type": "execute_result"
        }
      ],
      "source": [
        "col = xs['UsageBand']\n",
        "col"
      ]
    },
    {
      "cell_type": "markdown",
      "metadata": {
        "id": "B4FXmO0ktrJp"
      },
      "source": [
        "What are the unique values in this column?"
      ]
    },
    {
      "cell_type": "code",
      "execution_count": 71,
      "metadata": {
        "colab": {
          "base_uri": "https://localhost:8080/"
        },
        "id": "qM6xIFTTtSmy",
        "outputId": "b021be01-c7f4-476a-edad-91694d24940d"
      },
      "outputs": [
        {
          "data": {
            "text/plain": [
              "array([2, 1, 3, 0], dtype=int8)"
            ]
          },
          "execution_count": 71,
          "metadata": {},
          "output_type": "execute_result"
        }
      ],
      "source": [
        "unq = col.dropna().unique()\n",
        "unq"
      ]
    },
    {
      "cell_type": "markdown",
      "metadata": {
        "id": "AJ4Dn_o6ttYc"
      },
      "source": [
        "If we split the data on each of the unique values, what is the score for each split?"
      ]
    },
    {
      "cell_type": "code",
      "execution_count": 72,
      "metadata": {
        "colab": {
          "base_uri": "https://localhost:8080/"
        },
        "id": "tHbjxCJBtWsl",
        "outputId": "76910c60-a655-4c73-a77e-e89f6434d787"
      },
      "outputs": [
        {
          "data": {
            "text/plain": [
              "array([0.69224984, 0.69378292, 0.69430405, 0.69215556])"
            ]
          },
          "execution_count": 72,
          "metadata": {},
          "output_type": "execute_result"
        }
      ],
      "source": [
        "scores = np.array([score(col, y, o) for o in unq if not np.isnan(o)])\n",
        "scores"
      ]
    },
    {
      "cell_type": "markdown",
      "metadata": {
        "id": "85UHur0ftyrG"
      },
      "source": [
        "What is the minimum score, and what value does it correspond to?"
      ]
    },
    {
      "cell_type": "code",
      "execution_count": 73,
      "metadata": {
        "colab": {
          "base_uri": "https://localhost:8080/"
        },
        "id": "jsF7U_YytopG",
        "outputId": "d7e0b3e8-aea3-4e9a-f7eb-2c1ff62d2564"
      },
      "outputs": [
        {
          "data": {
            "text/plain": [
              "3"
            ]
          },
          "execution_count": 73,
          "metadata": {},
          "output_type": "execute_result"
        }
      ],
      "source": [
        "idx = scores.argmin()\n",
        "idx"
      ]
    },
    {
      "cell_type": "code",
      "execution_count": 74,
      "metadata": {
        "colab": {
          "base_uri": "https://localhost:8080/"
        },
        "id": "htaud3dft5Z-",
        "outputId": "08b4e132-0f46-4b57-b072-fca21c75aaa0"
      },
      "outputs": [
        {
          "data": {
            "text/plain": [
              "(0, 0.6921555579861831)"
            ]
          },
          "execution_count": 74,
          "metadata": {},
          "output_type": "execute_result"
        }
      ],
      "source": [
        "unq[idx], scores[idx]"
      ]
    },
    {
      "cell_type": "markdown",
      "metadata": {
        "id": "SzijQ5R4uEbg"
      },
      "source": [
        "Next, I'll iterate through all of the columns in the data and calculate the minimum score (and corresponding value) for each one. I'll use the smaller subset of the data since the list comprehension was taking more than an hour to compute on the full dataset."
      ]
    },
    {
      "cell_type": "code",
      "execution_count": 75,
      "metadata": {
        "id": "T6-e4XEHt-ml"
      },
      "outputs": [],
      "source": [
        "col_scores = {o: min_col(xs_sub, o, y_sub) for o in xs_sub.columns}"
      ]
    },
    {
      "cell_type": "code",
      "execution_count": 76,
      "metadata": {
        "colab": {
          "base_uri": "https://localhost:8080/"
        },
        "id": "-FTvdE3Nuov5",
        "outputId": "d0fcc3ef-e7c9-482b-aaba-7a3656680a13"
      },
      "outputs": [
        {
          "data": {
            "text/plain": [
              "{'UsageBand': (0, 0.6710787683725357),\n",
              " 'fiModelDesc': (150, 0.6684566705226899),\n",
              " 'fiBaseModel': (30, 0.66775039935112),\n",
              " 'fiSecondaryDesc': (15, 0.6461849688887596),\n",
              " 'fiModelSeries': (60, 0.6612360656261445),\n",
              " 'fiModelDescriptor': (9, 0.6385975532531738),\n",
              " 'ProductSize': (0, 0.649804151058197),\n",
              " 'fiProductClassDesc': (7, 0.6468342208862304),\n",
              " 'state': (52, 0.6769107410311699),\n",
              " 'ProductGroup': (3, 0.6413102557659149),\n",
              " 'ProductGroupDesc': (3, 0.6413102557659149),\n",
              " 'Drive_System': (3, 0.6595019570589066),\n",
              " 'Enclosure': (3, 0.6443507042527199),\n",
              " 'Forks': (0, 0.6468727025985718),\n",
              " 'Pad_Type': (0, 0.6484307520389557),\n",
              " 'Ride_Control': (0, 0.6693848296999931),\n",
              " 'Stick': (0, 0.6484307520389557),\n",
              " 'Transmission': (6, 0.6698495596647263),\n",
              " 'Turbocharged': (0, 0.6484307520389557),\n",
              " 'Blade_Extension': (0, 0.6660390158891678),\n",
              " 'Blade_Width': (2, 0.665115752696991),\n",
              " 'Enclosure_Type': (0, 0.6660390158891678),\n",
              " 'Engine_Horsepower': (0, 0.6660390158891678),\n",
              " 'Hydraulics': (0, 0.6497658799290658),\n",
              " 'Pushblock': (0, 0.6660390158891678),\n",
              " 'Ripper': (0, 0.6618279729485512),\n",
              " 'Scarifier': (0, 0.6660390158891678),\n",
              " 'Tip_Control': (0, 0.6660390158891678),\n",
              " 'Tire_Size': (3, 0.6607923060655594),\n",
              " 'Coupler': (2, 0.6719830477237702),\n",
              " 'Coupler_System': (0, 0.5992864975929261),\n",
              " 'Grouser_Tracks': (0, 0.5992864975929261),\n",
              " 'Hydraulics_Flow': (0, 0.5992864975929261),\n",
              " 'Track_Type': (1, 0.6633642191886902),\n",
              " 'Undercarriage_Pad_Width': (5, 0.6722126321792603),\n",
              " 'Stick_Length': (1, 0.6726506268978119),\n",
              " 'Thumb': (0, 0.6727646491527557),\n",
              " 'Pattern_Changer': (0, 0.6727646491527557),\n",
              " 'Grouser_Type': (0, 0.6727646491527557),\n",
              " 'Backhoe_Mounting': (0, 0.6719208754301071),\n",
              " 'Blade_Type': (5, 0.6712375184893609),\n",
              " 'Travel_Controls': (2, 0.6719208754301071),\n",
              " 'Differential_Type': (0, 0.6718101676702499),\n",
              " 'Steering_Controls': (0, 0.6718101676702499),\n",
              " 'saleIs_month_end': (1, 0.6775472568273544),\n",
              " 'saleIs_month_start': (1, 0.6773856681585312),\n",
              " 'saleIs_quarter_end': (1, 0.6774418947696685),\n",
              " 'saleIs_quarter_start': (2, 0.6775886416435242),\n",
              " 'saleIs_year_end': (1, 0.6775886416435242),\n",
              " 'saleIs_year_start': (1, 0.6775886416435242),\n",
              " 'auctioneerID_na': (2, 0.6775886416435242),\n",
              " 'MachineHoursCurrentMeter_na': (1, 0.6731610369682312),\n",
              " 'SalesID': (1614635, 0.6669842964410782),\n",
              " 'MachineID': (1010754, 0.6537257554531097),\n",
              " 'ModelID': (4336, 0.6421609473228455),\n",
              " 'datasource': (132, 0.674677339553833),\n",
              " 'auctioneerID': (1.0, 0.674844207584858),\n",
              " 'YearMade': (1974, 0.6595817529559136),\n",
              " 'MachineHoursCurrentMeter': (3360.0, 0.6672791358232498),\n",
              " 'saleYear': (1991, 0.6751361751556396),\n",
              " 'saleMonth': (4, 0.6770030355453491),\n",
              " 'saleWeek': (17, 0.6766363668441773),\n",
              " 'saleDay': (10, 0.6758146023750305),\n",
              " 'saleDayofweek': (4, 0.6748345303535461),\n",
              " 'saleDayofyear': (10, 0.6763967939466238),\n",
              " 'saleElapsed': (688348800.0, 0.6746526069641113)}"
            ]
          },
          "execution_count": 76,
          "metadata": {},
          "output_type": "execute_result"
        }
      ],
      "source": [
        "col_scores"
      ]
    },
    {
      "cell_type": "markdown",
      "metadata": {
        "id": "L9sswSHk9ylQ"
      },
      "source": [
        "I'll then find the split across all columns with the lowest score:"
      ]
    },
    {
      "cell_type": "code",
      "execution_count": 77,
      "metadata": {
        "id": "S93brEEv9vHo"
      },
      "outputs": [],
      "source": [
        "min_col_score = min(col_scores.values())\n",
        "min_col_names = [key for key in col_scores if col_scores[key] == min_col_score]"
      ]
    },
    {
      "cell_type": "code",
      "execution_count": 78,
      "metadata": {
        "colab": {
          "base_uri": "https://localhost:8080/"
        },
        "id": "JcLvpbiL-iZn",
        "outputId": "4e6d934d-6504-40b7-fe97-71246fad5c67"
      },
      "outputs": [
        {
          "data": {
            "text/plain": [
              "((0, 0.5992864975929261),\n",
              " ['Coupler_System', 'Grouser_Tracks', 'Hydraulics_Flow'])"
            ]
          },
          "execution_count": 78,
          "metadata": {},
          "output_type": "execute_result"
        }
      ],
      "source": [
        "min_col_score, min_col_names"
      ]
    },
    {
      "cell_type": "markdown",
      "metadata": {
        "id": "DE1gTIJW_Uhz"
      },
      "source": [
        "The lowest score was around the split of `<=0` for three columns, which interestingly enough, were found to be redundant features in the textbook chapter. I'll pick `Coupler_System` since that's the split used in the textbook."
      ]
    },
    {
      "cell_type": "code",
      "execution_count": 79,
      "metadata": {
        "colab": {
          "base_uri": "https://localhost:8080/"
        },
        "id": "4J7vfAYP-k3t",
        "outputId": "084cfb9e-02c6-4820-f691-c2742efcdfac"
      },
      "outputs": [
        {
          "data": {
            "text/plain": [
              "array([0, 1, 2], dtype=int8)"
            ]
          },
          "execution_count": 79,
          "metadata": {},
          "output_type": "execute_result"
        }
      ],
      "source": [
        "xs_sub.Coupler_System.unique()"
      ]
    },
    {
      "cell_type": "markdown",
      "metadata": {
        "id": "0nnc_sacADx6"
      },
      "source": [
        "To answer one of my earlier questions, I think we only remove a column from future splits if it was a binary column (such as the `Sex` column was in the Titanic dataset) since there are only two possible groups and once the data has been split into those two groups, there's nothing left to split in that column.\n",
        "\n"
      ]
    },
    {
      "cell_type": "code",
      "execution_count": 80,
      "metadata": {
        "colab": {
          "base_uri": "https://localhost:8080/"
        },
        "id": "RgOQf6yl_r4u",
        "outputId": "8814988f-63f7-4805-8f11-f906e354fef1"
      },
      "outputs": [
        {
          "data": {
            "text/plain": [
              "(904, 96)"
            ]
          },
          "execution_count": 80,
          "metadata": {},
          "output_type": "execute_result"
        }
      ],
      "source": [
        "mask = xs_sub.Coupler_System <= 0\n",
        "lhs = xs_sub[mask]\n",
        "rhs = xs_sub[~mask]\n",
        "\n",
        "lhs_y = y_sub[mask]\n",
        "rhs_y = y_sub[~mask]\n",
        "\n",
        "len(lhs), len(rhs)"
      ]
    },
    {
      "cell_type": "code",
      "execution_count": 81,
      "metadata": {
        "colab": {
          "base_uri": "https://localhost:8080/"
        },
        "id": "t5xbUW3_DS1n",
        "outputId": "c3708659-2286-45a4-dc82-e1b632b34520"
      },
      "outputs": [
        {
          "data": {
            "text/plain": [
              "(10.208925, 9.177121)"
            ]
          },
          "execution_count": 81,
          "metadata": {},
          "output_type": "execute_result"
        }
      ],
      "source": [
        "lhs_y.mean(), rhs_y.mean()"
      ]
    },
    {
      "cell_type": "code",
      "execution_count": 82,
      "metadata": {
        "colab": {
          "base_uri": "https://localhost:8080/"
        },
        "id": "5qVsKETQDYyg",
        "outputId": "d703003b-ff21-4d02-8483-fddac7800789"
      },
      "outputs": [
        {
          "data": {
            "text/plain": [
              "(0.39364752, 0.10852089)"
            ]
          },
          "execution_count": 82,
          "metadata": {},
          "output_type": "execute_result"
        }
      ],
      "source": [
        "mse(lhs_y, lhs_y.mean()), mse(rhs_y, rhs_y.mean())"
      ]
    },
    {
      "cell_type": "markdown",
      "metadata": {
        "id": "gye4sKLwExbo"
      },
      "source": [
        "The lefthand-side has many more rows so I'll continue splitting that dataset and keep `rhs` as a leaf node.\n",
        "\n",
        "`Coupler_System` only has one value, `0`, in this group so I'll remove it from future splits."
      ]
    },
    {
      "cell_type": "code",
      "execution_count": 83,
      "metadata": {
        "colab": {
          "base_uri": "https://localhost:8080/"
        },
        "id": "AHtfhSRKEly-",
        "outputId": "53c6e410-1ee5-4658-8c0f-c3f149e7380c"
      },
      "outputs": [
        {
          "data": {
            "text/plain": [
              "array([0], dtype=int8)"
            ]
          },
          "execution_count": 83,
          "metadata": {},
          "output_type": "execute_result"
        }
      ],
      "source": [
        "lhs.Coupler_System.unique()"
      ]
    },
    {
      "cell_type": "code",
      "execution_count": 84,
      "metadata": {
        "id": "jLQxXX4MFp-p"
      },
      "outputs": [],
      "source": [
        "lhs = lhs.drop(\"Coupler_System\", axis=1)"
      ]
    },
    {
      "cell_type": "code",
      "execution_count": 85,
      "metadata": {
        "colab": {
          "base_uri": "https://localhost:8080/"
        },
        "id": "PTImRVRRFumH",
        "outputId": "24216b6e-7c4d-4da4-e3d9-5fe7007c76db"
      },
      "outputs": [
        {
          "data": {
            "text/plain": [
              "False"
            ]
          },
          "execution_count": 85,
          "metadata": {},
          "output_type": "execute_result"
        }
      ],
      "source": [
        "'Coupler_System' in lhs.columns"
      ]
    },
    {
      "cell_type": "code",
      "execution_count": 86,
      "metadata": {
        "colab": {
          "base_uri": "https://localhost:8080/"
        },
        "id": "c9jArgNAEbnq",
        "outputId": "6e741b48-73e5-4d95-e92e-d65bc41e0ac5"
      },
      "outputs": [
        {
          "data": {
            "text/plain": [
              "((0, 0.5869915567140663), ['Pad_Type', 'Stick', 'Turbocharged'])"
            ]
          },
          "execution_count": 86,
          "metadata": {},
          "output_type": "execute_result"
        }
      ],
      "source": [
        "col_scores = {o: min_col(lhs, o, lhs_y) for o in lhs.columns}\n",
        "min_col_score = min(col_scores.values())\n",
        "min_col_names = [key for key in col_scores if col_scores[key] == min_col_score]\n",
        "min_col_score, min_col_names"
      ]
    },
    {
      "cell_type": "markdown",
      "metadata": {
        "id": "xEMcLPfLGLB8"
      },
      "source": [
        "Again we have three columns with the same split score. I'll choose `Pad_Type` as the column to split on."
      ]
    },
    {
      "cell_type": "code",
      "execution_count": 87,
      "metadata": {
        "colab": {
          "base_uri": "https://localhost:8080/"
        },
        "id": "xSrOpZg9Gcfl",
        "outputId": "233d6e46-65ee-4aba-e6b2-49cf9f7a3843"
      },
      "outputs": [
        {
          "data": {
            "text/plain": [
              "array([2, 0, 3, 4], dtype=int8)"
            ]
          },
          "execution_count": 87,
          "metadata": {},
          "output_type": "execute_result"
        }
      ],
      "source": [
        "lhs.Pad_Type.unique()"
      ]
    },
    {
      "cell_type": "code",
      "execution_count": 88,
      "metadata": {
        "colab": {
          "base_uri": "https://localhost:8080/"
        },
        "id": "Xfuz-137GFrM",
        "outputId": "8e6a67dc-41cf-4693-ddde-5ff8caa05921"
      },
      "outputs": [
        {
          "data": {
            "text/plain": [
              "(700, 204)"
            ]
          },
          "execution_count": 88,
          "metadata": {},
          "output_type": "execute_result"
        }
      ],
      "source": [
        "mask = lhs.Pad_Type <= 0\n",
        "rhs = lhs[~mask]\n",
        "lhs = lhs[mask]\n",
        "\n",
        "rhs_y = lhs_y[~mask]\n",
        "lhs_y = lhs_y[mask]\n",
        "\n",
        "len(lhs), len(rhs)"
      ]
    },
    {
      "cell_type": "code",
      "execution_count": 89,
      "metadata": {
        "colab": {
          "base_uri": "https://localhost:8080/"
        },
        "id": "ApHBWu04HE4Z",
        "outputId": "a0385953-c340-40fe-8277-a1b855755006"
      },
      "outputs": [
        {
          "data": {
            "text/plain": [
              "(10.30318, 9.885499)"
            ]
          },
          "execution_count": 89,
          "metadata": {},
          "output_type": "execute_result"
        }
      ],
      "source": [
        "lhs_y.mean(), rhs_y.mean()"
      ]
    },
    {
      "cell_type": "code",
      "execution_count": 90,
      "metadata": {
        "colab": {
          "base_uri": "https://localhost:8080/"
        },
        "id": "VzIVqmfrH8NN",
        "outputId": "dc7270aa-29d8-4d4a-bf15-60053c72621f"
      },
      "outputs": [
        {
          "data": {
            "text/plain": [
              "(0.43736917, 0.108533934)"
            ]
          },
          "execution_count": 90,
          "metadata": {},
          "output_type": "execute_result"
        }
      ],
      "source": [
        "mse(lhs_y, lhs_y.mean()), mse(rhs_y, rhs_y.mean())"
      ]
    },
    {
      "cell_type": "markdown",
      "metadata": {
        "id": "ABZLoa-DH_xa"
      },
      "source": [
        "Again, the lefthand-side has more rows so I'll continue to split it. I'll keep `rhs` as the second leaf node. I'll also remove `Pad_Type` from `lhs` since it has a single value of `0`."
      ]
    },
    {
      "cell_type": "code",
      "execution_count": 91,
      "metadata": {
        "id": "t6sgaUUcH-QE"
      },
      "outputs": [],
      "source": [
        "lhs = lhs.drop(\"Pad_Type\", axis=1)"
      ]
    },
    {
      "cell_type": "code",
      "execution_count": 92,
      "metadata": {
        "colab": {
          "base_uri": "https://localhost:8080/"
        },
        "id": "5o3xdETRIR8X",
        "outputId": "fd2d3d5f-dfb3-457b-c88f-6791735c7849"
      },
      "outputs": [
        {
          "data": {
            "text/plain": [
              "False"
            ]
          },
          "execution_count": 92,
          "metadata": {},
          "output_type": "execute_result"
        }
      ],
      "source": [
        "'Pad_Type' in lhs.columns"
      ]
    },
    {
      "cell_type": "code",
      "execution_count": 93,
      "metadata": {
        "colab": {
          "base_uri": "https://localhost:8080/"
        },
        "id": "mQeCPWTdITZa",
        "outputId": "39b19ef9-ca9d-459c-cc12-d254818139b3"
      },
      "outputs": [
        {
          "data": {
            "text/plain": [
              "((0, 0.6552193513938359),\n",
              " ['Drive_System',\n",
              "  'Blade_Extension',\n",
              "  'Enclosure_Type',\n",
              "  'Engine_Horsepower',\n",
              "  'Scarifier',\n",
              "  'Tip_Control'])"
            ]
          },
          "execution_count": 93,
          "metadata": {},
          "output_type": "execute_result"
        }
      ],
      "source": [
        "col_scores = {o: min_col(lhs, o, lhs_y) for o in lhs.columns}\n",
        "min_col_score = min(col_scores.values())\n",
        "min_col_names = [key for key in col_scores if col_scores[key] == min_col_score]\n",
        "min_col_score, min_col_names"
      ]
    },
    {
      "cell_type": "markdown",
      "metadata": {
        "id": "1P8w_2rbIf3C"
      },
      "source": [
        "I now have six columns that have the same split score. I'll choose the first one, `Drive_System` to make my final split and get my last two leaf nodes."
      ]
    },
    {
      "cell_type": "code",
      "execution_count": 94,
      "metadata": {
        "colab": {
          "base_uri": "https://localhost:8080/"
        },
        "id": "lWjtAMsyIbvg",
        "outputId": "47076487-1f0d-499c-c004-0419aab91893"
      },
      "outputs": [
        {
          "data": {
            "text/plain": [
              "(638, 62)"
            ]
          },
          "execution_count": 94,
          "metadata": {},
          "output_type": "execute_result"
        }
      ],
      "source": [
        "mask = lhs.Drive_System <= 0\n",
        "rhs = lhs[~mask]\n",
        "lhs = lhs[mask]\n",
        "\n",
        "rhs_y = lhs_y[~mask]\n",
        "lhs_y = lhs_y[mask]\n",
        "\n",
        "len(lhs), len(rhs)"
      ]
    },
    {
      "cell_type": "code",
      "execution_count": 95,
      "metadata": {
        "colab": {
          "base_uri": "https://localhost:8080/"
        },
        "id": "FSjs2SC3IuCd",
        "outputId": "9cbb9a17-3f49-4853-8ad0-09dc30f1f6e7"
      },
      "outputs": [
        {
          "data": {
            "text/plain": [
              "(10.275307, 10.590003)"
            ]
          },
          "execution_count": 95,
          "metadata": {},
          "output_type": "execute_result"
        }
      ],
      "source": [
        "lhs_y.mean(), rhs_y.mean()"
      ]
    },
    {
      "cell_type": "code",
      "execution_count": 96,
      "metadata": {
        "colab": {
          "base_uri": "https://localhost:8080/"
        },
        "id": "EMkJ25luIw2S",
        "outputId": "87961474-0865-4d6e-ae1d-40b0af019dd6"
      },
      "outputs": [
        {
          "data": {
            "text/plain": [
              "(0.41287065, 0.59920347)"
            ]
          },
          "execution_count": 96,
          "metadata": {},
          "output_type": "execute_result"
        }
      ],
      "source": [
        "mse(lhs_y, lhs_y.mean()), mse(rhs_y, rhs_y.mean())"
      ]
    },
    {
      "cell_type": "markdown",
      "metadata": {
        "id": "6NPIwPKa5pvs"
      },
      "source": [
        "Here is a manually made visualization of this four-leaf-node decision tree:"
      ]
    },
    {
      "cell_type": "markdown",
      "metadata": {},
      "source": [
        "![Jeremy's Decision Tree](jeremy_decision_tree.svg)"
      ]
    },
    {
      "cell_type": "markdown",
      "metadata": {
        "id": "Y6E_6_BI9N_4"
      },
      "source": [
        "## Decision Tree Algorithm: Using sklearn"
      ]
    },
    {
      "cell_type": "markdown",
      "metadata": {
        "id": "GG2VcfWn9ReI"
      },
      "source": [
        "The last decision tree that I'll create for comparison with the other two approaches."
      ]
    },
    {
      "cell_type": "code",
      "execution_count": 25,
      "metadata": {
        "id": "cWN-ndlj9fYK"
      },
      "outputs": [],
      "source": [
        "m = DecisionTreeRegressor(max_leaf_nodes=4).fit(xs_sub, y_sub);"
      ]
    },
    {
      "cell_type": "code",
      "execution_count": 26,
      "metadata": {
        "id": "mLpv_jW99ukf"
      },
      "outputs": [],
      "source": [
        "from sklearn.tree import export_graphviz\n",
        "\n",
        "import graphviz\n",
        "\n",
        "def draw_tree(t, df, size=10, ratio=0.6, precision=2, **kwargs):\n",
        "    s=export_graphviz(t, out_file=None, feature_names=df.columns, filled=True, rounded=True,\n",
        "                      special_characters=True, rotate=False, precision=precision, **kwargs)\n",
        "    return graphviz.Source(re.sub('Tree {', f'Tree {{ size={size}; ratio={ratio}', s))"
      ]
    },
    {
      "cell_type": "code",
      "execution_count": 27,
      "metadata": {
        "colab": {
          "base_uri": "https://localhost:8080/",
          "height": 518
        },
        "id": "aTJb1qyp98S8",
        "outputId": "8692b419-de76-4a91-af2f-3003e247fb08"
      },
      "outputs": [
        {
          "data": {
            "image/svg+xml": [
              "<?xml version=\"1.0\" encoding=\"UTF-8\" standalone=\"no\"?>\n",
              "<!DOCTYPE svg PUBLIC \"-//W3C//DTD SVG 1.1//EN\"\n",
              " \"http://www.w3.org/Graphics/SVG/1.1/DTD/svg11.dtd\">\n",
              "<!-- Generated by graphviz version 2.43.0 (0)\n",
              " -->\n",
              "<!-- Title: Tree Pages: 1 -->\n",
              "<svg width=\"616pt\" height=\"373pt\"\n",
              " viewBox=\"0.00 0.00 616.33 373.00\" xmlns=\"http://www.w3.org/2000/svg\" xmlns:xlink=\"http://www.w3.org/1999/xlink\">\n",
              "<g id=\"graph0\" class=\"graph\" transform=\"scale(1 1) rotate(0) translate(4 369)\">\n",
              "<title>Tree</title>\n",
              "<polygon fill=\"white\" stroke=\"transparent\" points=\"-4,4 -4,-369 612.33,-369 612.33,4 -4,4\"/>\n",
              "<!-- 0 -->\n",
              "<g id=\"node1\" class=\"node\">\n",
              "<title>0</title>\n",
              "<path fill=\"#eda673\" stroke=\"black\" d=\"M429.45,-365C429.45,-365 302.45,-365 302.45,-365 296.45,-365 290.45,-359 290.45,-353 290.45,-353 290.45,-309 290.45,-309 290.45,-303 296.45,-297 302.45,-297 302.45,-297 429.45,-297 429.45,-297 435.45,-297 441.45,-303 441.45,-309 441.45,-309 441.45,-353 441.45,-353 441.45,-359 435.45,-365 429.45,-365\"/>\n",
              "<text text-anchor=\"start\" x=\"298.45\" y=\"-349.8\" font-family=\"Helvetica,sans-Serif\" font-size=\"14.00\">Coupler_System ≤ 0.5</text>\n",
              "<text text-anchor=\"start\" x=\"302.45\" y=\"-334.8\" font-family=\"Helvetica,sans-Serif\" font-size=\"14.00\">squared_error = 0.46</text>\n",
              "<text text-anchor=\"start\" x=\"317.45\" y=\"-319.8\" font-family=\"Helvetica,sans-Serif\" font-size=\"14.00\">samples = 1000</text>\n",
              "<text text-anchor=\"start\" x=\"324.95\" y=\"-304.8\" font-family=\"Helvetica,sans-Serif\" font-size=\"14.00\">value = 10.11</text>\n",
              "</g>\n",
              "<!-- 1 -->\n",
              "<g id=\"node2\" class=\"node\">\n",
              "<title>1</title>\n",
              "<path fill=\"#eb9d64\" stroke=\"black\" d=\"M302.45,-261C302.45,-261 183.45,-261 183.45,-261 177.45,-261 171.45,-255 171.45,-249 171.45,-249 171.45,-205 171.45,-205 171.45,-199 177.45,-193 183.45,-193 183.45,-193 302.45,-193 302.45,-193 308.45,-193 314.45,-199 314.45,-205 314.45,-205 314.45,-249 314.45,-249 314.45,-255 308.45,-261 302.45,-261\"/>\n",
              "<text text-anchor=\"start\" x=\"183.45\" y=\"-245.8\" font-family=\"Helvetica,sans-Serif\" font-size=\"14.00\">YearMade ≤ 1984.5</text>\n",
              "<text text-anchor=\"start\" x=\"179.45\" y=\"-230.8\" font-family=\"Helvetica,sans-Serif\" font-size=\"14.00\">squared_error = 0.39</text>\n",
              "<text text-anchor=\"start\" x=\"197.95\" y=\"-215.8\" font-family=\"Helvetica,sans-Serif\" font-size=\"14.00\">samples = 904</text>\n",
              "<text text-anchor=\"start\" x=\"201.95\" y=\"-200.8\" font-family=\"Helvetica,sans-Serif\" font-size=\"14.00\">value = 10.21</text>\n",
              "</g>\n",
              "<!-- 0&#45;&gt;1 -->\n",
              "<g id=\"edge1\" class=\"edge\">\n",
              "<title>0&#45;&gt;1</title>\n",
              "<path fill=\"none\" stroke=\"black\" d=\"M326.01,-296.88C314.84,-287.62 302.59,-277.45 291,-267.85\"/>\n",
              "<polygon fill=\"black\" stroke=\"black\" points=\"293.04,-264.99 283.1,-261.3 288.57,-270.38 293.04,-264.99\"/>\n",
              "<text text-anchor=\"middle\" x=\"285.43\" y=\"-282.49\" font-family=\"Helvetica,sans-Serif\" font-size=\"14.00\">True</text>\n",
              "</g>\n",
              "<!-- 2 -->\n",
              "<g id=\"node7\" class=\"node\">\n",
              "<title>2</title>\n",
              "<path fill=\"#ffffff\" stroke=\"black\" d=\"M549.45,-253.5C549.45,-253.5 430.45,-253.5 430.45,-253.5 424.45,-253.5 418.45,-247.5 418.45,-241.5 418.45,-241.5 418.45,-212.5 418.45,-212.5 418.45,-206.5 424.45,-200.5 430.45,-200.5 430.45,-200.5 549.45,-200.5 549.45,-200.5 555.45,-200.5 561.45,-206.5 561.45,-212.5 561.45,-212.5 561.45,-241.5 561.45,-241.5 561.45,-247.5 555.45,-253.5 549.45,-253.5\"/>\n",
              "<text text-anchor=\"start\" x=\"426.45\" y=\"-238.3\" font-family=\"Helvetica,sans-Serif\" font-size=\"14.00\">squared_error = 0.11</text>\n",
              "<text text-anchor=\"start\" x=\"448.95\" y=\"-223.3\" font-family=\"Helvetica,sans-Serif\" font-size=\"14.00\">samples = 96</text>\n",
              "<text text-anchor=\"start\" x=\"452.45\" y=\"-208.3\" font-family=\"Helvetica,sans-Serif\" font-size=\"14.00\">value = 9.18</text>\n",
              "</g>\n",
              "<!-- 0&#45;&gt;2 -->\n",
              "<g id=\"edge6\" class=\"edge\">\n",
              "<title>0&#45;&gt;2</title>\n",
              "<path fill=\"none\" stroke=\"black\" d=\"M406.21,-296.88C420.65,-285.01 436.89,-271.65 451.2,-259.88\"/>\n",
              "<polygon fill=\"black\" stroke=\"black\" points=\"453.43,-262.58 458.92,-253.52 448.98,-257.17 453.43,-262.58\"/>\n",
              "<text text-anchor=\"middle\" x=\"456.5\" y=\"-274.7\" font-family=\"Helvetica,sans-Serif\" font-size=\"14.00\">False</text>\n",
              "</g>\n",
              "<!-- 3 -->\n",
              "<g id=\"node3\" class=\"node\">\n",
              "<title>3</title>\n",
              "<path fill=\"#f1bc96\" stroke=\"black\" d=\"M169.45,-149.5C169.45,-149.5 50.45,-149.5 50.45,-149.5 44.45,-149.5 38.45,-143.5 38.45,-137.5 38.45,-137.5 38.45,-108.5 38.45,-108.5 38.45,-102.5 44.45,-96.5 50.45,-96.5 50.45,-96.5 169.45,-96.5 169.45,-96.5 175.45,-96.5 181.45,-102.5 181.45,-108.5 181.45,-108.5 181.45,-137.5 181.45,-137.5 181.45,-143.5 175.45,-149.5 169.45,-149.5\"/>\n",
              "<text text-anchor=\"start\" x=\"46.45\" y=\"-134.3\" font-family=\"Helvetica,sans-Serif\" font-size=\"14.00\">squared_error = 0.35</text>\n",
              "<text text-anchor=\"start\" x=\"64.95\" y=\"-119.3\" font-family=\"Helvetica,sans-Serif\" font-size=\"14.00\">samples = 240</text>\n",
              "<text text-anchor=\"start\" x=\"72.45\" y=\"-104.3\" font-family=\"Helvetica,sans-Serif\" font-size=\"14.00\">value = 9.88</text>\n",
              "</g>\n",
              "<!-- 1&#45;&gt;3 -->\n",
              "<g id=\"edge2\" class=\"edge\">\n",
              "<title>1&#45;&gt;3</title>\n",
              "<path fill=\"none\" stroke=\"black\" d=\"M199.77,-192.88C184.28,-181.01 166.86,-167.65 151.51,-155.88\"/>\n",
              "<polygon fill=\"black\" stroke=\"black\" points=\"153.29,-152.83 143.23,-149.52 149.03,-158.38 153.29,-152.83\"/>\n",
              "</g>\n",
              "<!-- 4 -->\n",
              "<g id=\"node4\" class=\"node\">\n",
              "<title>4</title>\n",
              "<path fill=\"#e89153\" stroke=\"black\" d=\"M447.95,-157C447.95,-157 303.95,-157 303.95,-157 297.95,-157 291.95,-151 291.95,-145 291.95,-145 291.95,-101 291.95,-101 291.95,-95 297.95,-89 303.95,-89 303.95,-89 447.95,-89 447.95,-89 453.95,-89 459.95,-95 459.95,-101 459.95,-101 459.95,-145 459.95,-145 459.95,-151 453.95,-157 447.95,-157\"/>\n",
              "<text text-anchor=\"start\" x=\"299.95\" y=\"-141.8\" font-family=\"Helvetica,sans-Serif\" font-size=\"14.00\">fiProductClassDesc ≤ 7.5</text>\n",
              "<text text-anchor=\"start\" x=\"312.45\" y=\"-126.8\" font-family=\"Helvetica,sans-Serif\" font-size=\"14.00\">squared_error = 0.36</text>\n",
              "<text text-anchor=\"start\" x=\"330.95\" y=\"-111.8\" font-family=\"Helvetica,sans-Serif\" font-size=\"14.00\">samples = 664</text>\n",
              "<text text-anchor=\"start\" x=\"334.95\" y=\"-96.8\" font-family=\"Helvetica,sans-Serif\" font-size=\"14.00\">value = 10.33</text>\n",
              "</g>\n",
              "<!-- 1&#45;&gt;4 -->\n",
              "<g id=\"edge3\" class=\"edge\">\n",
              "<title>1&#45;&gt;4</title>\n",
              "<path fill=\"none\" stroke=\"black\" d=\"M286.13,-192.88C298.33,-183.53 311.72,-173.26 324.36,-163.57\"/>\n",
              "<polygon fill=\"black\" stroke=\"black\" points=\"326.72,-166.16 332.53,-157.3 322.46,-160.61 326.72,-166.16\"/>\n",
              "</g>\n",
              "<!-- 5 -->\n",
              "<g id=\"node5\" class=\"node\">\n",
              "<title>5</title>\n",
              "<path fill=\"#f0b990\" stroke=\"black\" d=\"M311.45,-52.5C311.45,-52.5 192.45,-52.5 192.45,-52.5 186.45,-52.5 180.45,-46.5 180.45,-40.5 180.45,-40.5 180.45,-11.5 180.45,-11.5 180.45,-5.5 186.45,0.5 192.45,0.5 192.45,0.5 311.45,0.5 311.45,0.5 317.45,0.5 323.45,-5.5 323.45,-11.5 323.45,-11.5 323.45,-40.5 323.45,-40.5 323.45,-46.5 317.45,-52.5 311.45,-52.5\"/>\n",
              "<text text-anchor=\"start\" x=\"188.45\" y=\"-37.3\" font-family=\"Helvetica,sans-Serif\" font-size=\"14.00\">squared_error = 0.09</text>\n",
              "<text text-anchor=\"start\" x=\"206.95\" y=\"-22.3\" font-family=\"Helvetica,sans-Serif\" font-size=\"14.00\">samples = 195</text>\n",
              "<text text-anchor=\"start\" x=\"214.45\" y=\"-7.3\" font-family=\"Helvetica,sans-Serif\" font-size=\"14.00\">value = 9.92</text>\n",
              "</g>\n",
              "<!-- 4&#45;&gt;5 -->\n",
              "<g id=\"edge4\" class=\"edge\">\n",
              "<title>4&#45;&gt;5</title>\n",
              "<path fill=\"none\" stroke=\"black\" d=\"M332.58,-88.77C319.86,-79.03 305.99,-68.4 293.39,-58.75\"/>\n",
              "<polygon fill=\"black\" stroke=\"black\" points=\"295.39,-55.87 285.33,-52.57 291.14,-61.43 295.39,-55.87\"/>\n",
              "</g>\n",
              "<!-- 6 -->\n",
              "<g id=\"node6\" class=\"node\">\n",
              "<title>6</title>\n",
              "<path fill=\"#e58139\" stroke=\"black\" d=\"M558.45,-52.5C558.45,-52.5 439.45,-52.5 439.45,-52.5 433.45,-52.5 427.45,-46.5 427.45,-40.5 427.45,-40.5 427.45,-11.5 427.45,-11.5 427.45,-5.5 433.45,0.5 439.45,0.5 439.45,0.5 558.45,0.5 558.45,0.5 564.45,0.5 570.45,-5.5 570.45,-11.5 570.45,-11.5 570.45,-40.5 570.45,-40.5 570.45,-46.5 564.45,-52.5 558.45,-52.5\"/>\n",
              "<text text-anchor=\"start\" x=\"435.45\" y=\"-37.3\" font-family=\"Helvetica,sans-Serif\" font-size=\"14.00\">squared_error = 0.37</text>\n",
              "<text text-anchor=\"start\" x=\"453.95\" y=\"-22.3\" font-family=\"Helvetica,sans-Serif\" font-size=\"14.00\">samples = 469</text>\n",
              "<text text-anchor=\"start\" x=\"461.45\" y=\"-7.3\" font-family=\"Helvetica,sans-Serif\" font-size=\"14.00\">value = 10.5</text>\n",
              "</g>\n",
              "<!-- 4&#45;&gt;6 -->\n",
              "<g id=\"edge5\" class=\"edge\">\n",
              "<title>4&#45;&gt;6</title>\n",
              "<path fill=\"none\" stroke=\"black\" d=\"M418.97,-88.77C431.58,-79.03 445.34,-68.4 457.84,-58.75\"/>\n",
              "<polygon fill=\"black\" stroke=\"black\" points=\"460.07,-61.45 465.84,-52.57 455.79,-55.91 460.07,-61.45\"/>\n",
              "</g>\n",
              "</g>\n",
              "</svg>\n"
            ],
            "text/plain": [
              "<graphviz.sources.Source at 0x7d7715bde230>"
            ]
          },
          "execution_count": 27,
          "metadata": {},
          "output_type": "execute_result"
        }
      ],
      "source": [
        "draw_tree(m, xs_sub, size=10)"
      ]
    },
    {
      "cell_type": "markdown",
      "metadata": {
        "id": "o9as60w8_Qt2"
      },
      "source": [
        "## Final Thoughts"
      ]
    },
    {
      "cell_type": "markdown",
      "metadata": {
        "id": "f_5eDLwN_Sqg"
      },
      "source": [
        "In this exercise, I tried three different algorithms to create a four-leaf-node decision tree on a 1000-sample subset of the Blue Book for Bulldozer's Kaggle competition dataset:\n",
        "\n",
        "- An algorithm I created where the model made splits based on the lowest MSE.\n",
        "- Jeremy's \"side score\" algorithm which found the split with the lowest weighted standard deviation.\n",
        "- `sklearn.DecisionTreeRegressor` which also uses MSE to decide splits."
      ]
    },
    {
      "cell_type": "markdown",
      "metadata": {},
      "source": [
        "![Decision Tree Comparison](decision_tree_comparison.svg)"
      ]
    },
    {
      "cell_type": "markdown",
      "metadata": {
        "id": "ouqiyqIWB05v"
      },
      "source": [
        "Here are some key observations:\n",
        "\n",
        "- My algorithm made splits with very small samples. To improve this, I would either explicitly ignore splits with low samples or penalize such splits by weighting by number of rows like Jeremy did in `_side_score`.\n",
        "- The `sklearn.DecisionTreeRegressor` had the same initial split as Jeremy's (on `Coupler_System`) but then chose two completely different columns to split on for the remainder of the leaf nodes. I wonder if this difference in column selection is due to the difference in how a split is scored between those two algorithms.\n",
        "- A future improvement I could make to this experiment is compare the MSE on a validation set for each decision tree.\n",
        "- Another future improvement would be to make my algorithm and Jeremy's algorithm run faster so that I can test it on the actual dataset in a reasonable amount of time.\n",
        "\n",
        "This was another challenging and enjoyable \"Further Research\" exercise provided by the fastai textbook. I hope you enjoyed this blog post!"
      ]
    }
  ],
  "metadata": {
    "colab": {
      "provenance": []
    },
    "kernelspec": {
      "display_name": "Python 3",
      "name": "python3"
    },
    "language_info": {
      "name": "python"
    }
  },
  "nbformat": 4,
  "nbformat_minor": 0
}

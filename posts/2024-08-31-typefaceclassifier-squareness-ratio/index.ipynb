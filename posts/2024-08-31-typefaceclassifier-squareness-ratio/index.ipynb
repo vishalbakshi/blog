{
  "cells": [
    {
      "cell_type": "raw",
      "metadata": {
        "vscode": {
          "languageId": "raw"
        }
      },
      "source": [
        "---\n",
        "title: Calculating the Squareness of Letters in an Image\n",
        "date: \"2024-08-31\"\n",
        "author: Vishal Bakshi\n",
        "description: In this blog post I use the OpenCV library to calculate the \"squareness\" of letters (minimum dimension to maximum dimension of bounded rectangle around letter) in a text image.\n",
        "filters:\n",
        "   - lightbox\n",
        "lightbox: auto\n",
        "categories:\n",
        "    - python\n",
        "    - computer vision\n",
        "    - TypefaceClassifier\n",
        "---"
      ]
    },
    {
      "cell_type": "markdown",
      "metadata": {
        "id": "vlGA3e-Za724"
      },
      "source": [
        "## Background"
      ]
    },
    {
      "cell_type": "markdown",
      "metadata": {
        "id": "rQCwJ80Ja88V"
      },
      "source": [
        "In this notebook, I'll walk through an algorithm suggested by Claude to calculate the \"squareness\" of letters in a text image. This measure is calculated as:\n",
        "\n",
        "<br>\n",
        "\n",
        "$$\\frac{\\text{min(width, height)}}{\\text{max(width, height)}}$$\n",
        "\n",
        "<br>\n",
        "\n",
        "Where $\\text{width}$ and $\\text{height}$ are the width and height of the rectangular bounding box around the letter.\n",
        "\n",
        "This algorithm is part of my exploration of non-ML baselines to classify text images into various typeface categories (e.g., “humanist sans,” “grotesque sans,” “script,” “display,” etc.). Once the non-ML baseline is established, I’ll train a neural network for this task. This is one of many notebooks in my [**TypefaceClassifier** project series](https://vishalbakshi.github.io/blog/#category=TypefaceClassifier)."
      ]
    },
    {
      "cell_type": "code",
      "execution_count": 9,
      "metadata": {
        "id": "mPUy4TwzfF60"
      },
      "outputs": [],
      "source": [
        "#| code-fold: true\n",
        "#| code-summary: \"Show imports\"\n",
        "import pandas as pd, numpy as np, matplotlib.pyplot as plt\n",
        "import cv2"
      ]
    },
    {
      "cell_type": "markdown",
      "metadata": {
        "id": "WF3Xy34GqQj4"
      },
      "source": [
        "This is a very straightforward (code-wise) algorithm compared to some of the other ones I've worked through. In fact, this algorithm is just a slight modification to the [aspect ratio algorithm](https://vishalbakshi.github.io/blog/posts/2024-08-14-typefaceclassifier-aspect-ratio/). The aspect ratio is the ratio of bounding rectangle width to bounding rectangle length. This \"squareness\" ratio is the minimum dimension divided by the maximum dimension."
      ]
    },
    {
      "cell_type": "markdown",
      "metadata": {
        "id": "9uMGRqGksGCI"
      },
      "source": [
        "## Squareness Ratio Algorithm"
      ]
    },
    {
      "cell_type": "markdown",
      "metadata": {
        "id": "u8uvM47HsIAf"
      },
      "source": [
        "We start by loading the image an calculating the `binary` (as always)."
      ]
    },
    {
      "cell_type": "code",
      "execution_count": 3,
      "metadata": {
        "colab": {
          "base_uri": "https://localhost:8080/",
          "height": 552
        },
        "id": "rpxZrJsZsNrm",
        "outputId": "d318ef86-fce8-4aaa-cf2e-ca2387a4ec0a"
      },
      "outputs": [
        {
          "data": {
            "text/html": [
              "<style>\n",
              "      .ndarray_repr .ndarray_raw_data {\n",
              "        display: none;\n",
              "      }\n",
              "      .ndarray_repr.show_array .ndarray_raw_data {\n",
              "        display: block;\n",
              "      }\n",
              "      .ndarray_repr.show_array .ndarray_image_preview {\n",
              "        display: none;\n",
              "      }\n",
              "      </style>\n",
              "      <div id=\"id-9d2a3dbe-b8e6-463e-9535-a7b67c3fa8ad\" class=\"ndarray_repr\"><pre>ndarray (512, 512) <button style=\"padding: 0 2px;\">show data</button></pre><img src=\"data:image/png;base64,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\" class=\"ndarray_image_preview\" /><pre class=\"ndarray_raw_data\">array([[0, 0, 0, ..., 0, 0, 0],\n",
              "       [0, 0, 0, ..., 0, 0, 0],\n",
              "       [0, 0, 0, ..., 0, 0, 0],\n",
              "       ...,\n",
              "       [0, 0, 0, ..., 0, 0, 0],\n",
              "       [0, 0, 0, ..., 0, 0, 0],\n",
              "       [0, 0, 0, ..., 0, 0, 0]], dtype=uint8)</pre></div><script>\n",
              "      (() => {\n",
              "      const titles = ['show data', 'hide data'];\n",
              "      let index = 0\n",
              "      document.querySelector('#id-9d2a3dbe-b8e6-463e-9535-a7b67c3fa8ad button').onclick = (e) => {\n",
              "        document.querySelector('#id-9d2a3dbe-b8e6-463e-9535-a7b67c3fa8ad').classList.toggle('show_array');\n",
              "        index = (++index) % 2;\n",
              "        document.querySelector('#id-9d2a3dbe-b8e6-463e-9535-a7b67c3fa8ad button').textContent = titles[index];\n",
              "        e.preventDefault();\n",
              "        e.stopPropagation();\n",
              "      }\n",
              "      })();\n",
              "    </script>"
            ],
            "text/plain": [
              "array([[0, 0, 0, ..., 0, 0, 0],\n",
              "       [0, 0, 0, ..., 0, 0, 0],\n",
              "       [0, 0, 0, ..., 0, 0, 0],\n",
              "       ...,\n",
              "       [0, 0, 0, ..., 0, 0, 0],\n",
              "       [0, 0, 0, ..., 0, 0, 0],\n",
              "       [0, 0, 0, ..., 0, 0, 0]], dtype=uint8)"
            ]
          },
          "execution_count": 3,
          "metadata": {},
          "output_type": "execute_result"
        }
      ],
      "source": [
        "path = 'serif-36px.png'\n",
        "img = cv2.imread(path, cv2.IMREAD_GRAYSCALE)\n",
        "_, binary = cv2.threshold(img, 0, 255, cv2.THRESH_BINARY_INV + cv2.THRESH_OTSU)\n",
        "binary"
      ]
    },
    {
      "cell_type": "markdown",
      "metadata": {
        "id": "6n7z7Tq1sWER"
      },
      "source": [
        "We then find the contours in the image:"
      ]
    },
    {
      "cell_type": "code",
      "execution_count": 4,
      "metadata": {
        "id": "jmIyOGQdsYNr"
      },
      "outputs": [],
      "source": [
        "contours, _ = cv2.findContours(binary, cv2.RETR_EXTERNAL, cv2.CHAIN_APPROX_SIMPLE)"
      ]
    },
    {
      "cell_type": "markdown",
      "metadata": {
        "id": "AaQ8dsJGsaAK"
      },
      "source": [
        "For each contour, we create a bounding rectangle and calculate the squareness ratio:"
      ]
    },
    {
      "cell_type": "code",
      "execution_count": 5,
      "metadata": {
        "id": "L9t_M2slsh3S"
      },
      "outputs": [],
      "source": [
        "squareness_ratio = []\n",
        "\n",
        "for contour in contours:\n",
        "  x, y, w, h = cv2.boundingRect(contour)\n",
        "  squareness = min(w, h) / max(w, h)\n",
        "  squareness_ratio.append(squareness)"
      ]
    },
    {
      "cell_type": "markdown",
      "metadata": {
        "id": "-KeOTBkdstz9"
      },
      "source": [
        "Then calculate the average ratio across all contours:"
      ]
    },
    {
      "cell_type": "code",
      "execution_count": 6,
      "metadata": {
        "colab": {
          "base_uri": "https://localhost:8080/"
        },
        "id": "p4EQEolRswXL",
        "outputId": "f8166eee-4808-47a9-f82a-8ff9867910df"
      },
      "outputs": [
        {
          "data": {
            "text/plain": [
              "0.8333333333333334"
            ]
          },
          "execution_count": 6,
          "metadata": {},
          "output_type": "execute_result"
        }
      ],
      "source": [
        "average_squareness = np.median(squareness_ratio) if squareness_ratio else 0\n",
        "average_squareness"
      ]
    },
    {
      "cell_type": "markdown",
      "metadata": {
        "id": "BVE8Kg3Hs2Ml"
      },
      "source": [
        "And that's it!"
      ]
    },
    {
      "cell_type": "markdown",
      "metadata": {
        "id": "0DKev0VuthMw"
      },
      "source": [
        "Squareness ratios that are close to 1 represent letter forms that are closer to a perfect square. Ratios closer to 0 represent letters that are closer to wide or tall rectangles."
      ]
    },
    {
      "cell_type": "markdown",
      "metadata": {
        "id": "0eyWx2css5sv"
      },
      "source": [
        "## Squareness Ratio for Different Images"
      ]
    },
    {
      "cell_type": "markdown",
      "metadata": {
        "id": "pE0JcJ0ls-mF"
      },
      "source": [
        "I'll wrap the squareness ratio algorithm in a function and then calculate the median ratio for `display` versus `serif` images."
      ]
    },
    {
      "cell_type": "code",
      "execution_count": 18,
      "metadata": {
        "id": "38qK6700tFWP"
      },
      "outputs": [],
      "source": [
        "def squareness_ratio(image_path):\n",
        "    # Read the image\n",
        "    img = cv2.imread(image_path, cv2.IMREAD_GRAYSCALE)\n",
        "\n",
        "    # Threshold the image\n",
        "    _, binary = cv2.threshold(img, 0, 255, cv2.THRESH_BINARY_INV + cv2.THRESH_OTSU)\n",
        "\n",
        "    # Find contours\n",
        "    contours, _ = cv2.findContours(binary, cv2.RETR_EXTERNAL, cv2.CHAIN_APPROX_SIMPLE)\n",
        "\n",
        "    squareness_ratios = []\n",
        "\n",
        "    for contour in contours:\n",
        "        # Get bounding rectangle\n",
        "        x, y, w, h = cv2.boundingRect(contour)\n",
        "\n",
        "        # Calculate squareness (ratio of width to height)\n",
        "        # We use min/max to ensure the ratio is always between 0 and 1\n",
        "        squareness = min(w, h) / max(w, h)\n",
        "\n",
        "        squareness_ratios.append(squareness)\n",
        "\n",
        "    # Calculate average squareness\n",
        "    squareness_ratio = np.median(squareness_ratios) if squareness_ratios else 0\n",
        "    return squareness_ratio"
      ]
    },
    {
      "cell_type": "markdown",
      "metadata": {
        "id": "qMnmrsM-tO2R"
      },
      "source": [
        "The `display` text is more rectangular than the `serif` text so I expect it to have a lower squareness ratio."
      ]
    },
    {
      "cell_type": "code",
      "execution_count": 14,
      "metadata": {
        "colab": {
          "base_uri": "https://localhost:8080/",
          "height": 436
        },
        "id": "XCJNN9vdtxpv",
        "outputId": "25bf6e40-dbbc-4865-ca4e-43cc44b96402"
      },
      "outputs": [
        {
          "data": {
            "image/png": "[encoded data removed]",
            "text/plain": [
              "<Figure size 800x500 with 2 Axes>"
            ]
          },
          "metadata": {},
          "output_type": "display_data"
        }
      ],
      "source": [
        "fig, (ax1, ax2) = plt.subplots(1, 2, figsize=(8, 5))\n",
        "\n",
        "# Display the first image\n",
        "ax1.imshow(cv2.imread('display-76px.png', cv2.IMREAD_GRAYSCALE), cmap='gray')\n",
        "ax1.axis('off')  # Hide axes\n",
        "ax1.set_title('display (narrower)')\n",
        "\n",
        "# Display the second image\n",
        "ax2.imshow(cv2.imread('serif-76px.png', cv2.IMREAD_GRAYSCALE), cmap='gray')\n",
        "ax2.axis('off')  # Hide axes\n",
        "ax2.set_title('serif (squarish)')\n",
        "\n",
        "# Adjust the layout and display the plot\n",
        "plt.tight_layout()\n",
        "plt.show()"
      ]
    },
    {
      "cell_type": "markdown",
      "metadata": {
        "id": "58C0pHAzvIX2"
      },
      "source": [
        "Across 7 different font sizes, the median squareness ratio for `display` images is less than `serif` images."
      ]
    },
    {
      "cell_type": "code",
      "execution_count": 20,
      "metadata": {
        "colab": {
          "base_uri": "https://localhost:8080/",
          "height": 143
        },
        "id": "iH_GvXwbfE5s",
        "outputId": "0513eacc-082b-484e-8b68-0926976e2451"
      },
      "outputs": [
        {
          "data": {
            "application/vnd.google.colaboratory.intrinsic+json": {
              "summary": "{\n  \"name\": \"res\",\n  \"rows\": 2,\n  \"fields\": [\n    {\n      \"column\": \"typeface\",\n      \"properties\": {\n        \"dtype\": \"string\",\n        \"num_unique_values\": 2,\n        \"samples\": [\n          \"serif\",\n          \"display\"\n        ],\n        \"semantic_type\": \"\",\n        \"description\": \"\"\n      }\n    },\n    {\n      \"column\": \"mean\",\n      \"properties\": {\n        \"dtype\": \"number\",\n        \"std\": 0.010291096541293177,\n        \"min\": 0.7493436153321159,\n        \"max\": 0.7638974236325036,\n        \"num_unique_values\": 2,\n        \"samples\": [\n          0.7493436153321159,\n          0.7638974236325036\n        ],\n        \"semantic_type\": \"\",\n        \"description\": \"\"\n      }\n    },\n    {\n      \"column\": \"median\",\n      \"properties\": {\n        \"dtype\": \"number\",\n        \"std\": 0.03839493834497085,\n        \"min\": 0.7692307692307693,\n        \"max\": 0.8235294117647058,\n        \"num_unique_values\": 2,\n        \"samples\": [\n          0.8235294117647058,\n          0.7692307692307693\n        ],\n        \"semantic_type\": \"\",\n        \"description\": \"\"\n      }\n    }\n  ]\n}",
              "type": "dataframe"
            },
            "text/html": [
              "\n",
              "  <div id=\"df-949820eb-f542-484e-acdf-42eb52ee127a\" class=\"colab-df-container\">\n",
              "    <div>\n",
              "<style scoped>\n",
              "    .dataframe tbody tr th:only-of-type {\n",
              "        vertical-align: middle;\n",
              "    }\n",
              "\n",
              "    .dataframe tbody tr th {\n",
              "        vertical-align: top;\n",
              "    }\n",
              "\n",
              "    .dataframe thead th {\n",
              "        text-align: right;\n",
              "    }\n",
              "</style>\n",
              "<table border=\"1\" class=\"dataframe\">\n",
              "  <thead>\n",
              "    <tr style=\"text-align: right;\">\n",
              "      <th></th>\n",
              "      <th>mean</th>\n",
              "      <th>median</th>\n",
              "    </tr>\n",
              "    <tr>\n",
              "      <th>typeface</th>\n",
              "      <th></th>\n",
              "      <th></th>\n",
              "    </tr>\n",
              "  </thead>\n",
              "  <tbody>\n",
              "    <tr>\n",
              "      <th>display</th>\n",
              "      <td>0.763897</td>\n",
              "      <td>0.769231</td>\n",
              "    </tr>\n",
              "    <tr>\n",
              "      <th>serif</th>\n",
              "      <td>0.749344</td>\n",
              "      <td>0.823529</td>\n",
              "    </tr>\n",
              "  </tbody>\n",
              "</table>\n",
              "</div>\n",
              "    <div class=\"colab-df-buttons\">\n",
              "\n",
              "  <div class=\"colab-df-container\">\n",
              "    <button class=\"colab-df-convert\" onclick=\"convertToInteractive('df-949820eb-f542-484e-acdf-42eb52ee127a')\"\n",
              "            title=\"Convert this dataframe to an interactive table.\"\n",
              "            style=\"display:none;\">\n",
              "\n",
              "  <svg xmlns=\"http://www.w3.org/2000/svg\" height=\"24px\" viewBox=\"0 -960 960 960\">\n",
              "    <path d=\"M120-120v-720h720v720H120Zm60-500h600v-160H180v160Zm220 220h160v-160H400v160Zm0 220h160v-160H400v160ZM180-400h160v-160H180v160Zm440 0h160v-160H620v160ZM180-180h160v-160H180v160Zm440 0h160v-160H620v160Z\"/>\n",
              "  </svg>\n",
              "    </button>\n",
              "\n",
              "  <style>\n",
              "    .colab-df-container {\n",
              "      display:flex;\n",
              "      gap: 12px;\n",
              "    }\n",
              "\n",
              "    .colab-df-convert {\n",
              "      background-color: #E8F0FE;\n",
              "      border: none;\n",
              "      border-radius: 50%;\n",
              "      cursor: pointer;\n",
              "      display: none;\n",
              "      fill: #1967D2;\n",
              "      height: 32px;\n",
              "      padding: 0 0 0 0;\n",
              "      width: 32px;\n",
              "    }\n",
              "\n",
              "    .colab-df-convert:hover {\n",
              "      background-color: #E2EBFA;\n",
              "      box-shadow: 0px 1px 2px rgba(60, 64, 67, 0.3), 0px 1px 3px 1px rgba(60, 64, 67, 0.15);\n",
              "      fill: #174EA6;\n",
              "    }\n",
              "\n",
              "    .colab-df-buttons div {\n",
              "      margin-bottom: 4px;\n",
              "    }\n",
              "\n",
              "    [theme=dark] .colab-df-convert {\n",
              "      background-color: #3B4455;\n",
              "      fill: #D2E3FC;\n",
              "    }\n",
              "\n",
              "    [theme=dark] .colab-df-convert:hover {\n",
              "      background-color: #434B5C;\n",
              "      box-shadow: 0px 1px 3px 1px rgba(0, 0, 0, 0.15);\n",
              "      filter: drop-shadow(0px 1px 2px rgba(0, 0, 0, 0.3));\n",
              "      fill: #FFFFFF;\n",
              "    }\n",
              "  </style>\n",
              "\n",
              "    <script>\n",
              "      const buttonEl =\n",
              "        document.querySelector('#df-949820eb-f542-484e-acdf-42eb52ee127a button.colab-df-convert');\n",
              "      buttonEl.style.display =\n",
              "        google.colab.kernel.accessAllowed ? 'block' : 'none';\n",
              "\n",
              "      async function convertToInteractive(key) {\n",
              "        const element = document.querySelector('#df-949820eb-f542-484e-acdf-42eb52ee127a');\n",
              "        const dataTable =\n",
              "          await google.colab.kernel.invokeFunction('convertToInteractive',\n",
              "                                                    [key], {});\n",
              "        if (!dataTable) return;\n",
              "\n",
              "        const docLinkHtml = 'Like what you see? Visit the ' +\n",
              "          '<a target=\"_blank\" href=https://colab.research.google.com/notebooks/data_table.ipynb>data table notebook</a>'\n",
              "          + ' to learn more about interactive tables.';\n",
              "        element.innerHTML = '';\n",
              "        dataTable['output_type'] = 'display_data';\n",
              "        await google.colab.output.renderOutput(dataTable, element);\n",
              "        const docLink = document.createElement('div');\n",
              "        docLink.innerHTML = docLinkHtml;\n",
              "        element.appendChild(docLink);\n",
              "      }\n",
              "    </script>\n",
              "  </div>\n",
              "\n",
              "\n",
              "<div id=\"df-96ac171f-aa69-4814-b640-b365a93282b8\">\n",
              "  <button class=\"colab-df-quickchart\" onclick=\"quickchart('df-96ac171f-aa69-4814-b640-b365a93282b8')\"\n",
              "            title=\"Suggest charts\"\n",
              "            style=\"display:none;\">\n",
              "\n",
              "<svg xmlns=\"http://www.w3.org/2000/svg\" height=\"24px\"viewBox=\"0 0 24 24\"\n",
              "     width=\"24px\">\n",
              "    <g>\n",
              "        <path d=\"M19 3H5c-1.1 0-2 .9-2 2v14c0 1.1.9 2 2 2h14c1.1 0 2-.9 2-2V5c0-1.1-.9-2-2-2zM9 17H7v-7h2v7zm4 0h-2V7h2v10zm4 0h-2v-4h2v4z\"/>\n",
              "    </g>\n",
              "</svg>\n",
              "  </button>\n",
              "\n",
              "<style>\n",
              "  .colab-df-quickchart {\n",
              "      --bg-color: #E8F0FE;\n",
              "      --fill-color: #1967D2;\n",
              "      --hover-bg-color: #E2EBFA;\n",
              "      --hover-fill-color: #174EA6;\n",
              "      --disabled-fill-color: #AAA;\n",
              "      --disabled-bg-color: #DDD;\n",
              "  }\n",
              "\n",
              "  [theme=dark] .colab-df-quickchart {\n",
              "      --bg-color: #3B4455;\n",
              "      --fill-color: #D2E3FC;\n",
              "      --hover-bg-color: #434B5C;\n",
              "      --hover-fill-color: #FFFFFF;\n",
              "      --disabled-bg-color: #3B4455;\n",
              "      --disabled-fill-color: #666;\n",
              "  }\n",
              "\n",
              "  .colab-df-quickchart {\n",
              "    background-color: var(--bg-color);\n",
              "    border: none;\n",
              "    border-radius: 50%;\n",
              "    cursor: pointer;\n",
              "    display: none;\n",
              "    fill: var(--fill-color);\n",
              "    height: 32px;\n",
              "    padding: 0;\n",
              "    width: 32px;\n",
              "  }\n",
              "\n",
              "  .colab-df-quickchart:hover {\n",
              "    background-color: var(--hover-bg-color);\n",
              "    box-shadow: 0 1px 2px rgba(60, 64, 67, 0.3), 0 1px 3px 1px rgba(60, 64, 67, 0.15);\n",
              "    fill: var(--button-hover-fill-color);\n",
              "  }\n",
              "\n",
              "  .colab-df-quickchart-complete:disabled,\n",
              "  .colab-df-quickchart-complete:disabled:hover {\n",
              "    background-color: var(--disabled-bg-color);\n",
              "    fill: var(--disabled-fill-color);\n",
              "    box-shadow: none;\n",
              "  }\n",
              "\n",
              "  .colab-df-spinner {\n",
              "    border: 2px solid var(--fill-color);\n",
              "    border-color: transparent;\n",
              "    border-bottom-color: var(--fill-color);\n",
              "    animation:\n",
              "      spin 1s steps(1) infinite;\n",
              "  }\n",
              "\n",
              "  @keyframes spin {\n",
              "    0% {\n",
              "      border-color: transparent;\n",
              "      border-bottom-color: var(--fill-color);\n",
              "      border-left-color: var(--fill-color);\n",
              "    }\n",
              "    20% {\n",
              "      border-color: transparent;\n",
              "      border-left-color: var(--fill-color);\n",
              "      border-top-color: var(--fill-color);\n",
              "    }\n",
              "    30% {\n",
              "      border-color: transparent;\n",
              "      border-left-color: var(--fill-color);\n",
              "      border-top-color: var(--fill-color);\n",
              "      border-right-color: var(--fill-color);\n",
              "    }\n",
              "    40% {\n",
              "      border-color: transparent;\n",
              "      border-right-color: var(--fill-color);\n",
              "      border-top-color: var(--fill-color);\n",
              "    }\n",
              "    60% {\n",
              "      border-color: transparent;\n",
              "      border-right-color: var(--fill-color);\n",
              "    }\n",
              "    80% {\n",
              "      border-color: transparent;\n",
              "      border-right-color: var(--fill-color);\n",
              "      border-bottom-color: var(--fill-color);\n",
              "    }\n",
              "    90% {\n",
              "      border-color: transparent;\n",
              "      border-bottom-color: var(--fill-color);\n",
              "    }\n",
              "  }\n",
              "</style>\n",
              "\n",
              "  <script>\n",
              "    async function quickchart(key) {\n",
              "      const quickchartButtonEl =\n",
              "        document.querySelector('#' + key + ' button');\n",
              "      quickchartButtonEl.disabled = true;  // To prevent multiple clicks.\n",
              "      quickchartButtonEl.classList.add('colab-df-spinner');\n",
              "      try {\n",
              "        const charts = await google.colab.kernel.invokeFunction(\n",
              "            'suggestCharts', [key], {});\n",
              "      } catch (error) {\n",
              "        console.error('Error during call to suggestCharts:', error);\n",
              "      }\n",
              "      quickchartButtonEl.classList.remove('colab-df-spinner');\n",
              "      quickchartButtonEl.classList.add('colab-df-quickchart-complete');\n",
              "    }\n",
              "    (() => {\n",
              "      let quickchartButtonEl =\n",
              "        document.querySelector('#df-96ac171f-aa69-4814-b640-b365a93282b8 button');\n",
              "      quickchartButtonEl.style.display =\n",
              "        google.colab.kernel.accessAllowed ? 'block' : 'none';\n",
              "    })();\n",
              "  </script>\n",
              "</div>\n",
              "\n",
              "    </div>\n",
              "  </div>\n"
            ],
            "text/plain": [
              "              mean    median\n",
              "typeface                    \n",
              "display   0.763897  0.769231\n",
              "serif     0.749344  0.823529"
            ]
          },
          "execution_count": 20,
          "metadata": {},
          "output_type": "execute_result"
        }
      ],
      "source": [
        "ts = ['display', 'serif']\n",
        "szs = [18, 24, 36, 76, 240, 330, 420]\n",
        "res = []\n",
        "\n",
        "for t in ts:\n",
        "    for sz in szs:\n",
        "        image_path = f\"{t}-{sz}px.png\"\n",
        "        sr = squareness_ratio(image_path)\n",
        "        res.append([t, sz, sr])\n",
        "\n",
        "res = pd.DataFrame(res, columns=['typeface', 'font-size', 'squareness-ratio'])\n",
        "res.groupby('typeface')['squareness-ratio'].agg(['mean', 'median'])"
      ]
    },
    {
      "cell_type": "markdown",
      "metadata": {
        "id": "YhkH_pYAvR6t"
      },
      "source": [
        "If we limit the font sizes to 18-76px, the difference is larger:"
      ]
    },
    {
      "cell_type": "code",
      "execution_count": 26,
      "metadata": {
        "colab": {
          "base_uri": "https://localhost:8080/",
          "height": 143
        },
        "id": "Amw9BIZAhvKB",
        "outputId": "e7c579a0-e0b8-4a73-9dd0-77e54d5da749"
      },
      "outputs": [
        {
          "data": {
            "application/vnd.google.colaboratory.intrinsic+json": {
              "summary": "{\n  \"name\": \" )\",\n  \"rows\": 2,\n  \"fields\": [\n    {\n      \"column\": \"typeface\",\n      \"properties\": {\n        \"dtype\": \"string\",\n        \"num_unique_values\": 2,\n        \"samples\": [\n          \"serif\",\n          \"display\"\n        ],\n        \"semantic_type\": \"\",\n        \"description\": \"\"\n      }\n    },\n    {\n      \"column\": \"mean\",\n      \"properties\": {\n        \"dtype\": \"number\",\n        \"std\": 0.03547895273460943,\n        \"min\": 0.7624296435272045,\n        \"max\": 0.8126044596632832,\n        \"num_unique_values\": 2,\n        \"samples\": [\n          0.8126044596632832,\n          0.7624296435272045\n        ],\n        \"semantic_type\": \"\",\n        \"description\": \"\"\n      }\n    },\n    {\n      \"column\": \"median\",\n      \"properties\": {\n        \"dtype\": \"number\",\n        \"std\": 0.045475086040904465,\n        \"min\": 0.7596153846153846,\n        \"max\": 0.8239268680445151,\n        \"num_unique_values\": 2,\n        \"samples\": [\n          0.8239268680445151,\n          0.7596153846153846\n        ],\n        \"semantic_type\": \"\",\n        \"description\": \"\"\n      }\n    }\n  ]\n}",
              "type": "dataframe"
            },
            "text/html": [
              "\n",
              "  <div id=\"df-c726cd7e-300e-4ce7-9073-21f013af5615\" class=\"colab-df-container\">\n",
              "    <div>\n",
              "<style scoped>\n",
              "    .dataframe tbody tr th:only-of-type {\n",
              "        vertical-align: middle;\n",
              "    }\n",
              "\n",
              "    .dataframe tbody tr th {\n",
              "        vertical-align: top;\n",
              "    }\n",
              "\n",
              "    .dataframe thead th {\n",
              "        text-align: right;\n",
              "    }\n",
              "</style>\n",
              "<table border=\"1\" class=\"dataframe\">\n",
              "  <thead>\n",
              "    <tr style=\"text-align: right;\">\n",
              "      <th></th>\n",
              "      <th>mean</th>\n",
              "      <th>median</th>\n",
              "    </tr>\n",
              "    <tr>\n",
              "      <th>typeface</th>\n",
              "      <th></th>\n",
              "      <th></th>\n",
              "    </tr>\n",
              "  </thead>\n",
              "  <tbody>\n",
              "    <tr>\n",
              "      <th>display</th>\n",
              "      <td>0.762430</td>\n",
              "      <td>0.759615</td>\n",
              "    </tr>\n",
              "    <tr>\n",
              "      <th>serif</th>\n",
              "      <td>0.812604</td>\n",
              "      <td>0.823927</td>\n",
              "    </tr>\n",
              "  </tbody>\n",
              "</table>\n",
              "</div>\n",
              "    <div class=\"colab-df-buttons\">\n",
              "\n",
              "  <div class=\"colab-df-container\">\n",
              "    <button class=\"colab-df-convert\" onclick=\"convertToInteractive('df-c726cd7e-300e-4ce7-9073-21f013af5615')\"\n",
              "            title=\"Convert this dataframe to an interactive table.\"\n",
              "            style=\"display:none;\">\n",
              "\n",
              "  <svg xmlns=\"http://www.w3.org/2000/svg\" height=\"24px\" viewBox=\"0 -960 960 960\">\n",
              "    <path d=\"M120-120v-720h720v720H120Zm60-500h600v-160H180v160Zm220 220h160v-160H400v160Zm0 220h160v-160H400v160ZM180-400h160v-160H180v160Zm440 0h160v-160H620v160ZM180-180h160v-160H180v160Zm440 0h160v-160H620v160Z\"/>\n",
              "  </svg>\n",
              "    </button>\n",
              "\n",
              "  <style>\n",
              "    .colab-df-container {\n",
              "      display:flex;\n",
              "      gap: 12px;\n",
              "    }\n",
              "\n",
              "    .colab-df-convert {\n",
              "      background-color: #E8F0FE;\n",
              "      border: none;\n",
              "      border-radius: 50%;\n",
              "      cursor: pointer;\n",
              "      display: none;\n",
              "      fill: #1967D2;\n",
              "      height: 32px;\n",
              "      padding: 0 0 0 0;\n",
              "      width: 32px;\n",
              "    }\n",
              "\n",
              "    .colab-df-convert:hover {\n",
              "      background-color: #E2EBFA;\n",
              "      box-shadow: 0px 1px 2px rgba(60, 64, 67, 0.3), 0px 1px 3px 1px rgba(60, 64, 67, 0.15);\n",
              "      fill: #174EA6;\n",
              "    }\n",
              "\n",
              "    .colab-df-buttons div {\n",
              "      margin-bottom: 4px;\n",
              "    }\n",
              "\n",
              "    [theme=dark] .colab-df-convert {\n",
              "      background-color: #3B4455;\n",
              "      fill: #D2E3FC;\n",
              "    }\n",
              "\n",
              "    [theme=dark] .colab-df-convert:hover {\n",
              "      background-color: #434B5C;\n",
              "      box-shadow: 0px 1px 3px 1px rgba(0, 0, 0, 0.15);\n",
              "      filter: drop-shadow(0px 1px 2px rgba(0, 0, 0, 0.3));\n",
              "      fill: #FFFFFF;\n",
              "    }\n",
              "  </style>\n",
              "\n",
              "    <script>\n",
              "      const buttonEl =\n",
              "        document.querySelector('#df-c726cd7e-300e-4ce7-9073-21f013af5615 button.colab-df-convert');\n",
              "      buttonEl.style.display =\n",
              "        google.colab.kernel.accessAllowed ? 'block' : 'none';\n",
              "\n",
              "      async function convertToInteractive(key) {\n",
              "        const element = document.querySelector('#df-c726cd7e-300e-4ce7-9073-21f013af5615');\n",
              "        const dataTable =\n",
              "          await google.colab.kernel.invokeFunction('convertToInteractive',\n",
              "                                                    [key], {});\n",
              "        if (!dataTable) return;\n",
              "\n",
              "        const docLinkHtml = 'Like what you see? Visit the ' +\n",
              "          '<a target=\"_blank\" href=https://colab.research.google.com/notebooks/data_table.ipynb>data table notebook</a>'\n",
              "          + ' to learn more about interactive tables.';\n",
              "        element.innerHTML = '';\n",
              "        dataTable['output_type'] = 'display_data';\n",
              "        await google.colab.output.renderOutput(dataTable, element);\n",
              "        const docLink = document.createElement('div');\n",
              "        docLink.innerHTML = docLinkHtml;\n",
              "        element.appendChild(docLink);\n",
              "      }\n",
              "    </script>\n",
              "  </div>\n",
              "\n",
              "\n",
              "<div id=\"df-3946b9a4-22d2-4bdb-8bbc-3e5b36c9c3f2\">\n",
              "  <button class=\"colab-df-quickchart\" onclick=\"quickchart('df-3946b9a4-22d2-4bdb-8bbc-3e5b36c9c3f2')\"\n",
              "            title=\"Suggest charts\"\n",
              "            style=\"display:none;\">\n",
              "\n",
              "<svg xmlns=\"http://www.w3.org/2000/svg\" height=\"24px\"viewBox=\"0 0 24 24\"\n",
              "     width=\"24px\">\n",
              "    <g>\n",
              "        <path d=\"M19 3H5c-1.1 0-2 .9-2 2v14c0 1.1.9 2 2 2h14c1.1 0 2-.9 2-2V5c0-1.1-.9-2-2-2zM9 17H7v-7h2v7zm4 0h-2V7h2v10zm4 0h-2v-4h2v4z\"/>\n",
              "    </g>\n",
              "</svg>\n",
              "  </button>\n",
              "\n",
              "<style>\n",
              "  .colab-df-quickchart {\n",
              "      --bg-color: #E8F0FE;\n",
              "      --fill-color: #1967D2;\n",
              "      --hover-bg-color: #E2EBFA;\n",
              "      --hover-fill-color: #174EA6;\n",
              "      --disabled-fill-color: #AAA;\n",
              "      --disabled-bg-color: #DDD;\n",
              "  }\n",
              "\n",
              "  [theme=dark] .colab-df-quickchart {\n",
              "      --bg-color: #3B4455;\n",
              "      --fill-color: #D2E3FC;\n",
              "      --hover-bg-color: #434B5C;\n",
              "      --hover-fill-color: #FFFFFF;\n",
              "      --disabled-bg-color: #3B4455;\n",
              "      --disabled-fill-color: #666;\n",
              "  }\n",
              "\n",
              "  .colab-df-quickchart {\n",
              "    background-color: var(--bg-color);\n",
              "    border: none;\n",
              "    border-radius: 50%;\n",
              "    cursor: pointer;\n",
              "    display: none;\n",
              "    fill: var(--fill-color);\n",
              "    height: 32px;\n",
              "    padding: 0;\n",
              "    width: 32px;\n",
              "  }\n",
              "\n",
              "  .colab-df-quickchart:hover {\n",
              "    background-color: var(--hover-bg-color);\n",
              "    box-shadow: 0 1px 2px rgba(60, 64, 67, 0.3), 0 1px 3px 1px rgba(60, 64, 67, 0.15);\n",
              "    fill: var(--button-hover-fill-color);\n",
              "  }\n",
              "\n",
              "  .colab-df-quickchart-complete:disabled,\n",
              "  .colab-df-quickchart-complete:disabled:hover {\n",
              "    background-color: var(--disabled-bg-color);\n",
              "    fill: var(--disabled-fill-color);\n",
              "    box-shadow: none;\n",
              "  }\n",
              "\n",
              "  .colab-df-spinner {\n",
              "    border: 2px solid var(--fill-color);\n",
              "    border-color: transparent;\n",
              "    border-bottom-color: var(--fill-color);\n",
              "    animation:\n",
              "      spin 1s steps(1) infinite;\n",
              "  }\n",
              "\n",
              "  @keyframes spin {\n",
              "    0% {\n",
              "      border-color: transparent;\n",
              "      border-bottom-color: var(--fill-color);\n",
              "      border-left-color: var(--fill-color);\n",
              "    }\n",
              "    20% {\n",
              "      border-color: transparent;\n",
              "      border-left-color: var(--fill-color);\n",
              "      border-top-color: var(--fill-color);\n",
              "    }\n",
              "    30% {\n",
              "      border-color: transparent;\n",
              "      border-left-color: var(--fill-color);\n",
              "      border-top-color: var(--fill-color);\n",
              "      border-right-color: var(--fill-color);\n",
              "    }\n",
              "    40% {\n",
              "      border-color: transparent;\n",
              "      border-right-color: var(--fill-color);\n",
              "      border-top-color: var(--fill-color);\n",
              "    }\n",
              "    60% {\n",
              "      border-color: transparent;\n",
              "      border-right-color: var(--fill-color);\n",
              "    }\n",
              "    80% {\n",
              "      border-color: transparent;\n",
              "      border-right-color: var(--fill-color);\n",
              "      border-bottom-color: var(--fill-color);\n",
              "    }\n",
              "    90% {\n",
              "      border-color: transparent;\n",
              "      border-bottom-color: var(--fill-color);\n",
              "    }\n",
              "  }\n",
              "</style>\n",
              "\n",
              "  <script>\n",
              "    async function quickchart(key) {\n",
              "      const quickchartButtonEl =\n",
              "        document.querySelector('#' + key + ' button');\n",
              "      quickchartButtonEl.disabled = true;  // To prevent multiple clicks.\n",
              "      quickchartButtonEl.classList.add('colab-df-spinner');\n",
              "      try {\n",
              "        const charts = await google.colab.kernel.invokeFunction(\n",
              "            'suggestCharts', [key], {});\n",
              "      } catch (error) {\n",
              "        console.error('Error during call to suggestCharts:', error);\n",
              "      }\n",
              "      quickchartButtonEl.classList.remove('colab-df-spinner');\n",
              "      quickchartButtonEl.classList.add('colab-df-quickchart-complete');\n",
              "    }\n",
              "    (() => {\n",
              "      let quickchartButtonEl =\n",
              "        document.querySelector('#df-3946b9a4-22d2-4bdb-8bbc-3e5b36c9c3f2 button');\n",
              "      quickchartButtonEl.style.display =\n",
              "        google.colab.kernel.accessAllowed ? 'block' : 'none';\n",
              "    })();\n",
              "  </script>\n",
              "</div>\n",
              "\n",
              "    </div>\n",
              "  </div>\n"
            ],
            "text/plain": [
              "              mean    median\n",
              "typeface                    \n",
              "display   0.762430  0.759615\n",
              "serif     0.812604  0.823927"
            ]
          },
          "execution_count": 26,
          "metadata": {},
          "output_type": "execute_result"
        }
      ],
      "source": [
        "(\n",
        "  res\n",
        "    .query(\"`font-size` <= 76 and `font-size` >= 18\")\n",
        "    .groupby('typeface')['squareness-ratio']\n",
        "    .agg(['mean', 'median'])\n",
        " )"
      ]
    },
    {
      "cell_type": "markdown",
      "metadata": {
        "id": "lwgtmwsjxZtD"
      },
      "source": [
        "## Final Thoughts"
      ]
    },
    {
      "cell_type": "markdown",
      "metadata": {
        "id": "yZqJpHhgxa9U"
      },
      "source": [
        "Similar to aspect ratio the squareness ratio is a good candidate for distinguishing between typefaces. Even though these algorithms are similar, I'll keep them both in play for now and see how they perform on a larger and more diverse dataset of text images as they offer different insights:\n",
        "\n",
        "- Squareness ratio:\n",
        "  - Low for both short/wide and tall/narrow letters\n",
        "  - Consistent for comparing square vs. non-square shapes\n",
        "- Aspect ratio:\n",
        "  - < 1 for tall/narrow letters\n",
        "  - \\> 1 for short/wide letters\n",
        "  - Distinguishes between short/wide letters and tall/narrow letters\n",
        "\n",
        "\n",
        "I hope you enjoyed this blog post! Follow me on Twitter [@vishal_learner](https://twitter.com/vishal_learner)."
      ]
    }
  ],
  "metadata": {
    "colab": {
      "provenance": []
    },
    "kernelspec": {
      "display_name": "Python 3",
      "name": "python3"
    },
    "language_info": {
      "name": "python"
    }
  },
  "nbformat": 4,
  "nbformat_minor": 0
}

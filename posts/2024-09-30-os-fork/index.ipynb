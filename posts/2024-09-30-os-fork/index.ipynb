{
  "cells": [
    {
      "cell_type": "raw",
      "metadata": {
        "vscode": {
          "languageId": "raw"
        }
      },
      "source": [
        "---\n",
        "title: Experimenting with `os.fork`\n",
        "date: \"2024-09-30\"\n",
        "author: Vishal Bakshi\n",
        "description: In this blog post I work through four examples provided by Claude to understand some key concepts related to `os.fork`, and observe different behaviors when using `os.fork` in a notebook environment or the shell.\n",
        "filters:\n",
        "   - lightbox\n",
        "lightbox: auto\n",
        "categories:\n",
        "    - python\n",
        "    - fastai\n",
        "---"
      ]
    },
    {
      "cell_type": "markdown",
      "metadata": {
        "id": "a8kVJkeGlFHV"
      },
      "source": [
        "## Background"
      ]
    },
    {
      "cell_type": "markdown",
      "metadata": {
        "id": "XIzXyRfMlGyN"
      },
      "source": [
        "In Lesson 10 of the fastai course (Part 2) we're introduced to `os.fork`, specifically in the context of random number generation. In this notebook I'll get some more reps working with `os.fork`.\n",
        "\n",
        "In the Lesson, Jeremy shows how random number generation in different libraries is handled across parent and child processes, as shown below (using `seed` and `rand` as defined in the lesson):"
      ]
    },
    {
      "cell_type": "code",
      "execution_count": 1,
      "metadata": {
        "id": "Fq7sNwVTm82t"
      },
      "outputs": [],
      "source": [
        "import os\n",
        "import random\n",
        "import numpy as np\n",
        "import torch\n",
        "import fcntl\n",
        "import time\n",
        "import signal\n",
        "import sys"
      ]
    },
    {
      "cell_type": "code",
      "execution_count": null,
      "metadata": {
        "id": "uKU83_APmnG9"
      },
      "outputs": [],
      "source": [
        "rnd_state = None\n",
        "def seed(a):\n",
        "    global rnd_state\n",
        "    a, x = divmod(a, 30268)\n",
        "    a, y = divmod(a, 30306)\n",
        "    a, z = divmod(a, 30322)\n",
        "    rnd_state = int(x)+1, int(y)+1, int(z)+1"
      ]
    },
    {
      "cell_type": "code",
      "execution_count": null,
      "metadata": {
        "colab": {
          "base_uri": "https://localhost:8080/"
        },
        "id": "OOqCIGlAnXBA",
        "outputId": "2552ec0e-148c-40b3-f92e-56c5f5a299a2"
      },
      "outputs": [
        {
          "data": {
            "text/plain": [
              "(4976, 20238, 499)"
            ]
          },
          "execution_count": 3,
          "metadata": {},
          "output_type": "execute_result"
        }
      ],
      "source": [
        "seed(457428938475)\n",
        "rnd_state"
      ]
    },
    {
      "cell_type": "code",
      "execution_count": null,
      "metadata": {
        "id": "-NCWHgLZmmkc"
      },
      "outputs": [],
      "source": [
        "def rand():\n",
        "    global rnd_state\n",
        "    x, y, z = rnd_state\n",
        "    x = (171 * x) % 30269\n",
        "    y = (172 * y) % 30307\n",
        "    z = (170 * z) % 30323\n",
        "    rnd_state = x,y,z\n",
        "    return (x/30269 + y/30307 + z/30323) % 1.0"
      ]
    },
    {
      "cell_type": "markdown",
      "metadata": {
        "id": "jiNsLLVAnN4H"
      },
      "source": [
        "The from-scratch `rand` function generates the same random number in both parent and child processes because they share the same random state:"
      ]
    },
    {
      "cell_type": "code",
      "execution_count": null,
      "metadata": {
        "colab": {
          "base_uri": "https://localhost:8080/"
        },
        "id": "LfbbLGu-oy3F",
        "outputId": "36b2eba4-4a77-494d-a85f-dfe9320bccc7"
      },
      "outputs": [
        {
          "name": "stdout",
          "output_type": "stream",
          "text": [
            "In parent: (0.7645251082582081, (3364, 25938, 24184))\n",
            "In child: (0.7645251082582081, (3364, 25938, 24184))\n"
          ]
        }
      ],
      "source": [
        "if os.fork(): print(f'In parent: {rand(), rnd_state}')\n",
        "else:\n",
        "    print(f'In child: {rand(), rnd_state}')\n",
        "    os._exit(os.EX_OK)"
      ]
    },
    {
      "cell_type": "markdown",
      "metadata": {
        "id": "EZJMHHlhn2oH"
      },
      "source": [
        "`torch` does the same:"
      ]
    },
    {
      "cell_type": "code",
      "execution_count": null,
      "metadata": {
        "colab": {
          "base_uri": "https://localhost:8080/"
        },
        "id": "oketnOe7nS-w",
        "outputId": "84bd9b2c-751e-4463-abef-12dc1812f318"
      },
      "outputs": [
        {
          "name": "stdout",
          "output_type": "stream",
          "text": [
            "In parent: (0.0692816972732544, 325580)\n",
            "In child: (0.0692816972732544, 325580)\n"
          ]
        }
      ],
      "source": [
        "if os.fork(): print(f'In parent: {torch.rand(1).item(), torch.get_rng_state().sum().item()}')\n",
        "else:\n",
        "    print(f'In child: {torch.rand(1).item(), torch.get_rng_state().sum().item()}')\n",
        "    os._exit(os.EX_OK)"
      ]
    },
    {
      "cell_type": "markdown",
      "metadata": {
        "id": "-dpSK-lYoDkD"
      },
      "source": [
        "As does NumPy:"
      ]
    },
    {
      "cell_type": "code",
      "execution_count": null,
      "metadata": {
        "colab": {
          "base_uri": "https://localhost:8080/"
        },
        "id": "kJouRztroAGs",
        "outputId": "efd0261b-27fc-4d7c-ad41-4240c2d169d0"
      },
      "outputs": [
        {
          "name": "stdout",
          "output_type": "stream",
          "text": [
            "In child: (0.8234897720205184, 1375830894290)\n",
            "In parent: (0.8234897720205184, 1375830894290)\n"
          ]
        }
      ],
      "source": [
        "if os.fork(): print(f'In parent: {np.random.rand(1)[0], np.random.get_state()[1].sum()}')\n",
        "else:\n",
        "    print(f'In child: {np.random.rand(1)[0], np.random.get_state()[1].sum()}')\n",
        "    os._exit(os.EX_OK)"
      ]
    },
    {
      "cell_type": "markdown",
      "metadata": {
        "id": "foQ8QBi6obCH"
      },
      "source": [
        "The Python standard library generates different random numbers in the parent and the child, indicating that the random state has changed:"
      ]
    },
    {
      "cell_type": "code",
      "execution_count": null,
      "metadata": {
        "colab": {
          "base_uri": "https://localhost:8080/"
        },
        "id": "fLU4na2Bof5I",
        "outputId": "023a4721-a66d-45f0-c076-9f49d3d901b9"
      },
      "outputs": [
        {
          "name": "stdout",
          "output_type": "stream",
          "text": [
            "In parent: (0.7978973512537335, 1327601590235)\n",
            "In child: (0.5603922565589059, 1333438682830)\n"
          ]
        }
      ],
      "source": [
        "if os.fork(): print(f'In parent: {random.random(), sum(random.getstate()[1])}')\n",
        "else:\n",
        "    print(f'In child: {random.random(), sum(random.getstate()[1])}')\n",
        "    os._exit(os.EX_OK)"
      ]
    },
    {
      "cell_type": "markdown",
      "metadata": {
        "id": "tiqMl_pkS7JG"
      },
      "source": [
        "Jeremy also mentioned in the video that there used to be a bug in fastai related to this `os.fork` behavior which resulted in incorrectly handling data augmentations across multiple processes. I poked around the fastai repo and found [this issue](https://github.com/fastai/fastai/issues/215) and [corresponding PR](https://github.com/fastai/fastai/pull/234) which might have been the ones he was referring to? I'm not sure, but it did lead me down an interesting rabbit hole in the fastai repo and I learned a couple of new things that I'll share.\n",
        "\n",
        "\n"
      ]
    },
    {
      "cell_type": "markdown",
      "metadata": {
        "id": "i-GCSxmP6ObK"
      },
      "source": [
        "In the PR, they introduce the following line:\n",
        "\n",
        "```python\n",
        "self.store = threading.local()\n",
        "```\n",
        "\n",
        "`self.store` is reference throughout the PR, for example:\n",
        "\n",
        "```python\n",
        "def set_state(self):\n",
        "        self.store.rand_r = random.uniform(0, 1)\n",
        "        self.store.rand_c = random.uniform(0, 1)\n",
        "```\n",
        "\n",
        "The corresponding GitHub issue linked to [this StackOverflow post](https://stackoverflow.com/questions/1408171/thread-local-storage-in-python) which talks about `threading.local()`. I didn't quite follow the post so I copy/pasted its text as a prompt to Claude and asked it to create an example to illustrate the core concepts of `threading.local`. It gave me the following example:\n",
        "\n"
      ]
    },
    {
      "cell_type": "code",
      "execution_count": null,
      "metadata": {
        "id": "doW9yuIV615H"
      },
      "outputs": [],
      "source": [
        "import threading\n",
        "import multiprocessing\n",
        "import time\n",
        "import random"
      ]
    },
    {
      "cell_type": "markdown",
      "metadata": {
        "id": "r4fqpgPZ62ay"
      },
      "source": [
        "First, `threading.local` is instantiated as a global variable:"
      ]
    },
    {
      "cell_type": "code",
      "execution_count": null,
      "metadata": {
        "id": "ziY7AA5t68FF"
      },
      "outputs": [],
      "source": [
        "# Thread-local storage for threading module\n",
        "thread_local = threading.local()"
      ]
    },
    {
      "cell_type": "markdown",
      "metadata": {
        "id": "FBpdZ0_L6-X-"
      },
      "source": [
        "Next, we have a function that creates a worker. Claude defines a worker as follows (I found similar definitions with Google searches):\n",
        "\n",
        "> a unit of execution that performs a specific task or job. In the context of concurrent programming, a worker is typically implemented as either a thread or a process, depending on the chosen concurrency model."
      ]
    },
    {
      "cell_type": "markdown",
      "metadata": {
        "id": "lD2I2RZq7tdG"
      },
      "source": [
        "`threading_worker` adds a `count` attribute to `thread_local` (if it doesn't have it already) or increments `count` by 1 if it exists."
      ]
    },
    {
      "cell_type": "code",
      "execution_count": null,
      "metadata": {
        "id": "8X9WkNKA7skF"
      },
      "outputs": [],
      "source": [
        "def threading_worker(worker_id):\n",
        "    if not hasattr(thread_local, 'count'):\n",
        "        print(f'\\n\\tWorker {worker_id}: instantiating `count`')\n",
        "        thread_local.count = 0\n",
        "    thread_local.count += 1\n",
        "    print(f\"Threading: Worker {worker_id}, Count: {thread_local.count}\\n\")\n",
        "    time.sleep(random.random())"
      ]
    },
    {
      "cell_type": "markdown",
      "metadata": {
        "id": "mOEwT_CJ77v7"
      },
      "source": [
        "To illustrate, we create 5 threads and pass `threading_worker` to each one. The result is that each worker has its own \"private view\" to the global `thread_local`, as exhibited by `thread_local.count` for each `worker_id` having the same value of `1`.\n",
        "\n",
        "Finally, Claude explains that the purpose of `thread.join()` is to complete the action in the thread before returning to the main thread. Note that the final print statement, `print(\"Threading example finished.\")` is run after all threads finish executing."
      ]
    },
    {
      "cell_type": "code",
      "execution_count": null,
      "metadata": {
        "id": "yZ5pNOWm8Mxg"
      },
      "outputs": [],
      "source": [
        "def run_threading_example():\n",
        "    threads = []\n",
        "    for i in range(5):\n",
        "        thread = threading.Thread(target=threading_worker, args=(i,))\n",
        "        threads.append(thread)\n",
        "        thread.start()\n",
        "\n",
        "    for thread in threads:\n",
        "        thread.join()\n",
        "\n",
        "    print(\"Threading example finished.\")"
      ]
    },
    {
      "cell_type": "markdown",
      "metadata": {
        "id": "lbYS6OvW9hHv"
      },
      "source": [
        "It's interesting to note that each Worker instantiates `count` before adding `1` to it (as expected), but the order of each thread instantiating `count` (0, 1, 2, 3, 4) is not the same order of each thread adding `1` (0, 1, 3, 4, 2; which I didn't expect)."
      ]
    },
    {
      "cell_type": "code",
      "execution_count": null,
      "metadata": {
        "colab": {
          "base_uri": "https://localhost:8080/"
        },
        "id": "qulakg9i8jC3",
        "outputId": "b6c733ed-9081-4749-9e3c-0000d29aa849"
      },
      "outputs": [
        {
          "name": "stdout",
          "output_type": "stream",
          "text": [
            "\n",
            "\tWorker 0: instantiating `count`\n",
            "Threading: Worker 0, Count: 1\n",
            "\n",
            "\n",
            "\tWorker 1: instantiating `count`\n",
            "Threading: Worker 1, Count: 1\n",
            "\n",
            "\n",
            "\tWorker 2: instantiating `count`\n",
            "\n",
            "\tWorker 3: instantiating `count`\n",
            "Threading: Worker 3, Count: 1\n",
            "\n",
            "\n",
            "\tWorker 4: instantiating `count`\n",
            "Threading: Worker 4, Count: 1\n",
            "\n",
            "Threading: Worker 2, Count: 1\n",
            "\n",
            "Threading example finished.\n"
          ]
        }
      ],
      "source": [
        "run_threading_example()"
      ]
    },
    {
      "cell_type": "markdown",
      "metadata": {
        "id": "DjNKywPw98b5"
      },
      "source": [
        "There is much to learn when it comes to threading and multiprocessing, but I'll exit this rabbit hole for now."
      ]
    },
    {
      "cell_type": "markdown",
      "metadata": {
        "id": "9RO8yEIVwmYe"
      },
      "source": [
        "The second thing I learned was this clever way to index into a tuple using a boolean expression:\n",
        "\n",
        "```python\n",
        "@property\n",
        "def multi_processing_context(self): return (None,multiprocessing)[self.num_workers>0]\n",
        "```\n",
        "\n",
        "I commented about this on Twitter and Jeremy replied:\n",
        "\n",
        "<blockquote class=\"twitter-tweet\"><p lang=\"en\" dir=\"ltr\">Alternatively you can use `a if pred else b` btw. (Most people seem to hate both options ;) )</p>&mdash; Jeremy Howard (@jeremyphoward) <a href=\"https://twitter.com/jeremyphoward/status/1839864334073376786?ref_src=twsrc%5Etfw\">September 28, 2024</a></blockquote> <script async src=\"https://platform.twitter.com/widgets.js\" charset=\"utf-8\"></script>\n",
        "\n",
        "Years back when I getting into web development, one of the patterns in JavaScript I enjoyed was the [ternary operator](https://developer.mozilla.org/en-US/docs/Web/JavaScript/Reference/Operators/Conditional_operator):\n",
        "\n",
        "```javascript\n",
        "a = is_true ? val_if_true : val_if_false\n",
        "```\n",
        "\n",
        "From what I understand, Python doesn't have such an operator so anytime I come across a concise way to execute logic using a boolean expression, I'm excited to see it."
      ]
    },
    {
      "cell_type": "markdown",
      "metadata": {
        "id": "MLwHeO_d-GOX"
      },
      "source": [
        "With that short interlude out of the way, I'll now dig in to `os.fork`."
      ]
    },
    {
      "cell_type": "markdown",
      "metadata": {
        "id": "YQalQBeOQkUj"
      },
      "source": [
        "## `os.fork` Experiments"
      ]
    },
    {
      "cell_type": "markdown",
      "metadata": {
        "id": "V-TvQ4E4Rcbv"
      },
      "source": [
        "I prompted Claude to give me some examples using `os.fork` with the following prompt:\n",
        "\n",
        "> I want to better understand what `os.fork` does. what's a good set of experiments I can run to understand it's functionality?"
      ]
    },
    {
      "cell_type": "markdown",
      "metadata": {
        "id": "TY8xYjjlUdBe"
      },
      "source": [
        "Claude with responded with four experiments, which I'll run through next."
      ]
    },
    {
      "cell_type": "markdown",
      "metadata": {
        "id": "oL-vc4zZUjUZ"
      },
      "source": [
        "### Basic `os.fork()` example"
      ]
    },
    {
      "cell_type": "markdown",
      "metadata": {
        "id": "hffKXdT5Uomm"
      },
      "source": [
        "I'll start with a definition from the \"fork\" Wikipedia page:\n",
        "\n",
        "> In computing, particularly in the context of the Unix operating system and its workalikes, fork is an operation whereby a process creates a copy of itself. It is an interface which is required for compliance with the POSIX and Single UNIX Specification standards. It is usually implemented as a C standard library wrapper to the fork, clone, or other system calls of the kernel. Fork is the primary method of process creation on Unix-like operating systems.\n",
        "\n",
        "> In multitasking operating systems, processes (running programs) need a way to create new processes, e.g. to run other programs. Fork and its variants are typically the only way of doing so in Unix-like systems. For a process to start the execution of a different program, it first forks to create a copy of itself. Then, the copy, called the \"child process\", calls the exec system call to overlay itself with the other program: it ceases execution of its former program in favor of the other."
      ]
    },
    {
      "cell_type": "markdown",
      "metadata": {
        "id": "o8_KWSTtVXhJ"
      },
      "source": [
        "Next, I'll look at the definition of `os.getpid` from the docs before using it:\n",
        "\n",
        "> Return the parent's process id. When the parent process has exited, on Unix the id returned is the one of the init process (1), on Windows it is still the same id, which may be already reused by another process."
      ]
    },
    {
      "cell_type": "code",
      "execution_count": 2,
      "metadata": {
        "colab": {
          "base_uri": "https://localhost:8080/"
        },
        "id": "05P6FAMMVqUz",
        "outputId": "b5b8d001-e4d8-4ad3-e3b1-a2761cd7cc00"
      },
      "outputs": [
        {
          "name": "stdout",
          "output_type": "stream",
          "text": [
            "Main process PID: 436\n"
          ]
        }
      ],
      "source": [
        "print(f\"Main process PID: {os.getpid()}\")"
      ]
    },
    {
      "cell_type": "markdown",
      "metadata": {
        "id": "cFfGFum6VxH_"
      },
      "source": [
        "Next, I'll call `os.fork`:\n",
        "\n",
        "> Fork a child process. Return 0 in the child and the child’s process id in the parent. If an error occurs OSError is raised.\n",
        ">\n",
        "> Note that some platforms including FreeBSD <= 6.3 and Cygwin have known issues when using fork() from a thread."
      ]
    },
    {
      "cell_type": "code",
      "execution_count": 3,
      "metadata": {
        "colab": {
          "base_uri": "https://localhost:8080/"
        },
        "id": "sGCSKD3kecfS",
        "outputId": "970f2d58-f685-455a-993f-0fd49416407f"
      },
      "outputs": [
        {
          "name": "stdout",
          "output_type": "stream",
          "text": [
            "In parent: 436\n",
            "In child: 580\n"
          ]
        }
      ],
      "source": [
        "if os.fork(): print(f'In parent: {os.getpid()}')\n",
        "else:\n",
        "    print(f'In child: {os.getpid()}')\n",
        "    os._exit(os.EX_OK)"
      ]
    },
    {
      "cell_type": "markdown",
      "metadata": {
        "id": "oz1UTGFPi3yv"
      },
      "source": [
        "It's important to note that I took the above code straight from Lesson's 10's [01_matmul.ipynb](https://github.com/fastai/course22p2/blob/master/nbs/01_matmul.ipynb).\n",
        "\n",
        "When I tried to run the following in Colab, the cell wouldn't execute and would just hang:\n",
        "\n",
        "```python\n",
        "pid = os.fork()\n",
        "```\n",
        "\n",
        "When I tried to run that locally on my MacBook, I got the following error:\n",
        "\n",
        "```\n",
        "OSError: [Errno 9] Bad file descriptor\n",
        "```\n",
        "\n",
        "I found [this StackOverflow post](https://stackoverflow.com/questions/76238761/why-does-running-the-following-code-with-os-fork-in-a-jupyter-notebook-cause-t) which talks about similar issues, and that `os.fork` doesn't play nice with Jupyter Notebooks. Claude also seemed to agree, recommending that I either use the `os._exit` approach from Lesson 10, or put my `os.fork`-related code in a separate `.py` script outside the notebook."
      ]
    },
    {
      "cell_type": "markdown",
      "metadata": {
        "id": "jPNpvauhkQmt"
      },
      "source": [
        "I asked Claude to rewrite the `os.fork` experiments using that if/else approach."
      ]
    },
    {
      "cell_type": "markdown",
      "metadata": {
        "id": "FwjPT3LKksxW"
      },
      "source": [
        "When I run the following code block, it's interesting to note that the child process runs before the parent process. I wonder if that means `os.fork` returneed `0`? Claude says no:\n",
        "\n",
        "> The reason it might seem like the child process runs first is due to how process scheduling works in operating systems. When os.fork() is called, both the parent and child processes are ready to run, and the operating system's scheduler decides which one to execute first. In this case, the child process got scheduled to run before the parent continued.\n",
        "\n",
        "It adds the following context:\n",
        "\n",
        "> This behavior - where the child might run before the parent continues - is normal and expected in multi-process programming. It's one of the reasons why synchronization mechanisms are often needed when working with multiple processes."
      ]
    },
    {
      "cell_type": "code",
      "execution_count": 4,
      "metadata": {
        "colab": {
          "base_uri": "https://localhost:8080/"
        },
        "id": "ZLLmxYVSkgyy",
        "outputId": "3b16b5c1-d59f-4867-fa5b-c5141720a17b"
      },
      "outputs": [
        {
          "name": "stdout",
          "output_type": "stream",
          "text": [
            "\n",
            "Main process PID: 436\n",
            "\n",
            "In child: 853, Parent PID: 436\n",
            "Main process PID: 436\n",
            "\n",
            "In parent: 436\n",
            "\n",
            "This will be printed only by the parent process. PID: 436\n",
            "\n"
          ]
        }
      ],
      "source": [
        "print(f\"\\nMain process PID: {os.getpid()}\")\n",
        "\n",
        "if os.fork():\n",
        "    print(f\"\\nIn parent: {os.getpid()}\")\n",
        "else:\n",
        "    print(f\"\\nIn child: {os.getpid()}, Parent PID: {os.getppid()}\")\n",
        "    os._exit(os.EX_OK)\n",
        "\n",
        "print(f\"\\nThis will be printed only by the parent process. PID: {os.getpid()}\")"
      ]
    },
    {
      "cell_type": "markdown",
      "metadata": {
        "id": "gyzg4EkZliDk"
      },
      "source": [
        "### Memory Independence Example"
      ]
    },
    {
      "cell_type": "markdown",
      "metadata": {
        "id": "H350wux8mgD3"
      },
      "source": [
        "The following example illustrates how \"forked processes have independent memory spaces and that changes to variables in one process don't affect the other process\" as Claude states it.\n",
        "\n",
        "The global `shared_variable` maintains its global value of `0` in the child process, before `1` is added to it to give it a final value of `1` in the child process. Meanwhile, in the parent process, it's final value is `2`. This reminds me of the `threading.local` behavior."
      ]
    },
    {
      "cell_type": "code",
      "execution_count": 5,
      "metadata": {
        "colab": {
          "base_uri": "https://localhost:8080/"
        },
        "id": "2QzzqwrWknFA",
        "outputId": "2c0c29e9-c3ca-4fa5-cb86-485ab6cf7ab6"
      },
      "outputs": [
        {
          "name": "stdout",
          "output_type": "stream",
          "text": [
            "\n",
            "In parent: 436, shared_variable = 2\n",
            "Final shared_variable in parent: 2\n",
            "\n",
            "In child: 902, shared_variable = 1\n"
          ]
        }
      ],
      "source": [
        "shared_variable = 0\n",
        "\n",
        "if os.fork():\n",
        "    # Parent process\n",
        "    shared_variable +=  2\n",
        "    print(f\"\\nIn parent: {os.getpid()}, shared_variable = {shared_variable}\")\n",
        "else:\n",
        "    # Child process\n",
        "    shared_variable += 1\n",
        "    print(f\"\\nIn child: {os.getpid()}, shared_variable = {shared_variable}\")\n",
        "    os._exit(os.EX_OK)\n",
        "\n",
        "print(f\"Final shared_variable in parent: {shared_variable}\")"
      ]
    },
    {
      "cell_type": "markdown",
      "metadata": {
        "id": "7HOpjLL7oUOQ"
      },
      "source": [
        "### File Descriptor Inheritance"
      ]
    },
    {
      "cell_type": "markdown",
      "metadata": {
        "id": "3jGWwjpErv55"
      },
      "source": [
        "Claude then provided the following code to illustrate how to write to the same file different data from the parent and child process. However, this code resulted in only the parent writing to the file:"
      ]
    },
    {
      "cell_type": "code",
      "execution_count": 30,
      "metadata": {
        "colab": {
          "base_uri": "https://localhost:8080/"
        },
        "id": "tFafL_YFqlsx",
        "outputId": "8a3b6a28-af29-480b-eac3-623d6d16fe58"
      },
      "outputs": [
        {
          "name": "stdout",
          "output_type": "stream",
          "text": [
            "Written by parent\n",
            "\n"
          ]
        }
      ],
      "source": [
        "with open(\"test.txt\", \"w\") as f:\n",
        "    if os.fork():\n",
        "        # parent process\n",
        "        f.write(\"Written by parent\\n\")\n",
        "    else:\n",
        "        # child process\n",
        "        f.write(\"Written by child\\n\")\n",
        "        os._exit(os.EX_OK)\n",
        "\n",
        "# Run this after the script to see the contents:\n",
        "print(open(\"test.txt\", \"r\").read())"
      ]
    },
    {
      "cell_type": "markdown",
      "metadata": {
        "id": "uQJWvh53sCkQ"
      },
      "source": [
        "Claude then suggested using \"file locking\" and \"flushing\" to ensure the writing happens before process execution has ended, but this didn't help. Sometimes it wrote from both processes, sometimes just from one. I've illustrated both examples below:"
      ]
    },
    {
      "cell_type": "code",
      "execution_count": 34,
      "metadata": {
        "id": "mkf12c2AnGNO"
      },
      "outputs": [],
      "source": [
        "def do_write():\n",
        "  with open(\"test.txt\", \"w\") as f:\n",
        "      if os.fork():\n",
        "          # parent process\n",
        "          fcntl.flock(f, fcntl.LOCK_EX)\n",
        "          f.write(\"Written by parent\\n\")\n",
        "          f.flush()\n",
        "          fcntl.flock(f, fcntl.LOCK_UN)\n",
        "      else:\n",
        "          # child process\n",
        "          fcntl.flock(f, fcntl.LOCK_EX)\n",
        "          f.write(\"Written by child\\n\")\n",
        "          f.flush()\n",
        "          fcntl.flock(f, fcntl.LOCK_UN)\n",
        "          os._exit(os.EX_OK)\n",
        "\n",
        "  # Run this after the script to see the contents:\n",
        "  print(open(\"test.txt\", \"r\").read())"
      ]
    },
    {
      "cell_type": "code",
      "execution_count": 35,
      "metadata": {
        "colab": {
          "base_uri": "https://localhost:8080/"
        },
        "id": "ZX-NiczCpQC-",
        "outputId": "1d3d8637-3d27-4e2f-cf75-bce8d9cdc9d2"
      },
      "outputs": [
        {
          "name": "stdout",
          "output_type": "stream",
          "text": [
            "Written by parent\n",
            "\n"
          ]
        }
      ],
      "source": [
        "do_write()"
      ]
    },
    {
      "cell_type": "code",
      "execution_count": 37,
      "metadata": {
        "colab": {
          "base_uri": "https://localhost:8080/"
        },
        "id": "d_uXAzOIs4t4",
        "outputId": "dc38ab69-53c3-4bb5-b436-632280801d52"
      },
      "outputs": [
        {
          "name": "stdout",
          "output_type": "stream",
          "text": [
            "Written by child\n",
            "Written by parent\n",
            "\n"
          ]
        }
      ],
      "source": [
        "do_write()"
      ]
    },
    {
      "cell_type": "markdown",
      "metadata": {
        "id": "NVpnj_c7s7Dg"
      },
      "source": [
        "I wanted something deterministic so I prompted Claude again. It responded with the following solution where \"the child writes first and then signals the parent\". A couple of things to note:\n",
        "\n",
        "- The child sends a `SIGUSR1` signal to the parent pid. (SIGUSR1 stands for \"User-defined signal 1\")\n",
        "- Inside `parent_process`, the file is opened in \"append mode\"."
      ]
    },
    {
      "cell_type": "code",
      "execution_count": 56,
      "metadata": {
        "id": "jL8peF5Zs5ui"
      },
      "outputs": [],
      "source": [
        "def child_process(parent_pid):\n",
        "  time.sleep(0.1)  # Small delay to ensure parent is waiting\n",
        "  with open(\"test.txt\", \"w\") as f:\n",
        "    f.write(\"Written by child\\n\")\n",
        "    f.flush()\n",
        "  os.kill(parent_pid, signal.SIGUSR1) # this is where the child sends a signal to the parent\n",
        "  os._exit(os.EX_OK)\n",
        "\n",
        "def parent_process(signum, frame):\n",
        "  with open(\"test.txt\", \"a\") as f: # notice the \"a\" for \"append mode\"\n",
        "      f.write(\"Written by parent\\n\")\n",
        "      f.flush()\n",
        "\n",
        "def do_write2():\n",
        "  signal.signal(signal.SIGUSR1, parent_process)\n",
        "\n",
        "  parent_pid = os.getpid()\n",
        "\n",
        "  if os.fork() == 0:\n",
        "      child_process(parent_pid)\n",
        "  else:\n",
        "      signal.pause()  # Wait for signal from child\n",
        "\n",
        "  # Read and print the file contents\n",
        "  with open(\"test.txt\", \"r\") as f:\n",
        "    res = f.read()\n",
        "  return res"
      ]
    },
    {
      "cell_type": "markdown",
      "metadata": {
        "id": "oZIQuuk7xPOK"
      },
      "source": [
        "This works as expected! At least for the 1000 times that I ran it:"
      ]
    },
    {
      "cell_type": "code",
      "execution_count": 55,
      "metadata": {
        "id": "jUodylc2uLsF"
      },
      "outputs": [],
      "source": [
        "for _ in range(1000):\n",
        "  res = do_write2()\n",
        "  assert res == 'Written by child\\nWritten by parent\\n'"
      ]
    },
    {
      "cell_type": "markdown",
      "metadata": {
        "id": "k1JMGTanx9Xh"
      },
      "source": [
        "I noticed that `parent_process` is passed `signum` and `frame`. I asked Claude to define these:\n",
        "\n",
        "> `signum`: This parameter represents the signal number that was caught. In this case, it will be `signal.SIGUSR1`, which is the signal sent by the child process to the parent. The `signum` allows the signal handler to identify which signal triggered it, which can be useful if the same handler is used for multiple signals.\n",
        "> `frame`: This parameter is a frame object representing the stack frame of the interrupted code when the signal was received. It contains information about the program's execution state at the time the signal was caught, such as the current line number and local variables."
      ]
    },
    {
      "cell_type": "markdown",
      "metadata": {
        "id": "YtJseH3ZyWC0"
      },
      "source": [
        "I'll print out `signum` and `frame` to see what they look like here:"
      ]
    },
    {
      "cell_type": "code",
      "execution_count": 58,
      "metadata": {
        "id": "9QPNeAG8uZEj"
      },
      "outputs": [],
      "source": [
        "def parent_process(signum, frame):\n",
        "  print(signum, frame)\n",
        "  with open(\"test.txt\", \"a\") as f: # notice the \"a\" for \"append mode\"\n",
        "      f.write(\"Written by parent\\n\")\n",
        "      f.flush()"
      ]
    },
    {
      "cell_type": "markdown",
      "metadata": {
        "id": "M8wlZnNCycSj"
      },
      "source": [
        "`signum` has a value of `10` and `frame` has the additional information as Claude described."
      ]
    },
    {
      "cell_type": "code",
      "execution_count": 59,
      "metadata": {
        "colab": {
          "base_uri": "https://localhost:8080/",
          "height": 53
        },
        "id": "4_6odQKxyZIN",
        "outputId": "4effc089-5cf3-4ec9-b188-162db1b74a02"
      },
      "outputs": [
        {
          "name": "stdout",
          "output_type": "stream",
          "text": [
            "10 <frame at 0x56005af01c30, file '<ipython-input-56-0f16beee5172>', line 22, code do_write2>\n"
          ]
        },
        {
          "data": {
            "application/vnd.google.colaboratory.intrinsic+json": {
              "type": "string"
            },
            "text/plain": [
              "'Written by child\\nWritten by parent\\n'"
            ]
          },
          "execution_count": 59,
          "metadata": {},
          "output_type": "execute_result"
        }
      ],
      "source": [
        "do_write2()"
      ]
    },
    {
      "cell_type": "markdown",
      "metadata": {
        "id": "DbteXabb2JtX"
      },
      "source": [
        "### Exit Status"
      ]
    },
    {
      "cell_type": "markdown",
      "metadata": {
        "id": "glykQCfa2XJE"
      },
      "source": [
        "Claude describes the following code as a way to illustrate how \"the parent can wait for the child to finish and retrieve its exit status.\" I added a couple of print statements to see more clearly that the parent process waits for the child process to exit.\n",
        "\n",
        "Claude describes the `-1` in `os.waitpid(-1, 0)` as follows:\n",
        "\n",
        "> When `-1` is used as the first argument to `os.waitpid()`, it tells the function to wait for any child process to terminate.\n",
        "\n",
        "The `0` in `os.waitpid(-1, 0)` is explained in the docs:\n",
        "\n",
        "> The semantics of the call are affected by the value of the integer options, which should be 0 for normal operation."
      ]
    },
    {
      "cell_type": "code",
      "execution_count": 40,
      "metadata": {
        "id": "rk-H29mqybYp"
      },
      "outputs": [],
      "source": [
        "def do_exit():\n",
        "    if os.fork():\n",
        "        # Parent process\n",
        "        print(\"Parent waiting...\")\n",
        "        child_pid, status = os.waitpid(-1, 0)\n",
        "        print(\"Parent done waiting!\")\n",
        "        print(f\"In parent: {os.getpid()}\")\n",
        "        print(f\"Child process (PID {child_pid}) exited with status {os.WEXITSTATUS(status)}\")\n",
        "    else:\n",
        "        # Child process\n",
        "        print(f\"In child: {os.getpid()}, exiting with status 5\")\n",
        "        os._exit(5)  # Use os._exit to avoid affecting the notebook process\n",
        "\n",
        "    print(f\"This will be printed only by the parent process. PID: {os.getpid()}\")"
      ]
    },
    {
      "cell_type": "markdown",
      "metadata": {
        "id": "wT7lgUpie7zC"
      },
      "source": [
        "However, when I run `do_exit`, based on the child pid's shown, it creates two different child processes (`4475` and `4448`):"
      ]
    },
    {
      "cell_type": "code",
      "execution_count": 45,
      "metadata": {
        "colab": {
          "base_uri": "https://localhost:8080/"
        },
        "id": "xOt5pFsGe7Wc",
        "outputId": "c87b6f20-90c7-4ad4-a1ea-b0c737019e06"
      },
      "outputs": [
        {
          "name": "stdout",
          "output_type": "stream",
          "text": [
            "In child: 4475, exiting with status 5Parent waiting...\n",
            "Parent done waiting!\n",
            "In parent: 436\n",
            "Child process (PID 4448) exited with status 5\n",
            "This will be printed only by the parent process. PID: 436\n",
            "\n"
          ]
        }
      ],
      "source": [
        "do_exit()"
      ]
    },
    {
      "cell_type": "markdown",
      "metadata": {
        "id": "Pphk8F5WcDKJ"
      },
      "source": [
        "And note that `do_exit` print statements don't always run in that order, indicating that the child process is not running first even though we have used `waitpid`:"
      ]
    },
    {
      "cell_type": "code",
      "execution_count": 8,
      "metadata": {
        "colab": {
          "base_uri": "https://localhost:8080/"
        },
        "id": "MHu_eM1lcIe1",
        "outputId": "8b1e05a6-2e59-4a30-bb58-518435ff3728"
      },
      "outputs": [
        {
          "name": "stdout",
          "output_type": "stream",
          "text": [
            "Parent waiting...\n",
            "Parent done waiting!\n",
            "In parent: 436\n",
            "Child process (PID 902) exited with status 0\n",
            "This will be printed only by the parent process. PID: 436\n",
            "In child: 1249, exiting with status 5\n"
          ]
        }
      ],
      "source": [
        "do_exit()"
      ]
    },
    {
      "cell_type": "markdown",
      "metadata": {
        "id": "NXfUHFHlfSLO"
      },
      "source": [
        "When I put that code into a `.py` file and run it from the shell, it behaves as expected (there is only one child process created, `5221`, and it runs first while the parent process waits):"
      ]
    },
    {
      "cell_type": "code",
      "execution_count": 48,
      "metadata": {
        "colab": {
          "base_uri": "https://localhost:8080/"
        },
        "id": "dSzuNQHefaUc",
        "outputId": "57f8fa14-f0b9-47e1-c89a-03fa56a2ee81"
      },
      "outputs": [
        {
          "name": "stdout",
          "output_type": "stream",
          "text": [
            "Parent waiting...\n",
            "In child: 5221, exiting with status 5\n",
            "Parent done waiting!\n",
            "In parent: 5216\n",
            "Child process (PID 5221) exited with status 5\n",
            "This will be printed only by the parent process. PID: 5216\n"
          ]
        }
      ],
      "source": [
        "!python3 do_exit.py"
      ]
    },
    {
      "cell_type": "markdown",
      "metadata": {
        "id": "IbYDnF2F41uk"
      },
      "source": [
        "## Final Thoughts"
      ]
    },
    {
      "cell_type": "markdown",
      "metadata": {
        "id": "WquK_Ib542jT"
      },
      "source": [
        "Working with `os.fork` was tougher than I expected. I assumed it would be plug-and-play, but I encountered non-deterministic behavior, which seems to be common when working with multiple processes.\n",
        "\n",
        "I also learned that `os.fork` behaves (or misbehaves) differently when running inside a notebook cell compared to running in the shell. For instance, executing `pid = os.fork` in a notebook cell causes the execution to hang when trying to return the child's process ID, or spawns multiple child processes when using the `if os_fork:/else:` pattern.\n",
        "\n",
        "There are some ways to make `os.fork` behave in a notebook environment, as we saw when synchronizing work between the child and parent by having the child signal the parent before both wrote to the same file.\n",
        "\n",
        "Another key concept I observed was memory independence— even in a notebook environment, the parent and child processes have their own private access to global variables, allowing you to assign different values to the same variable in each process.\n",
        "\n",
        "Future work: I want to run a similar set of experiments with the `multiprocessing` library, as I see it used more often (for example, in the fastai repo).\n",
        "\n",
        "I hope you enjoyed this blog post. Follow me on Twitter [@vishal_learner](https://twitter.com/vishal_learner)."
      ]
    }
  ],
  "metadata": {
    "colab": {
      "provenance": []
    },
    "kernelspec": {
      "display_name": "Python 3",
      "name": "python3"
    },
    "language_info": {
      "name": "python"
    }
  },
  "nbformat": 4,
  "nbformat_minor": 0
}

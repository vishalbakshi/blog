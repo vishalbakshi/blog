{
  "cells": [
    {
      "cell_type": "raw",
      "metadata": {
        "vscode": {
          "languageId": "raw"
        }
      },
      "source": [
        "---\n",
        "title: Using Hybrid Search to Answer fastai the Chapter 1 Questionnaire\n",
        "date: \"2024-08-11\"\n",
        "author: Vishal Bakshi\n",
        "description: In this blog post I use different approaches to combine FTS5 (keyword search) and Cosine Similarity (semantic search) to retrieve context necessary to answer questions about Chapter 1 of the fastai textbook.\n",
        "filters:\n",
        "   - lightbox\n",
        "lightbox: auto\n",
        "categories:\n",
        "    - python\n",
        "    - RAG\n",
        "    - information retrieval\n",
        "    - fastbookRAG\n",
        "---"
      ]
    },
    {
      "cell_type": "markdown",
      "metadata": {
        "id": "COmqLPeJyiu_"
      },
      "source": [
        "## Background"
      ]
    },
    {
      "cell_type": "markdown",
      "metadata": {
        "id": "BEdb8ogcykIc"
      },
      "source": [
        "In this blog post I'll work through creating a hybrid search (keyword search + semantic search) baseline for a project I'm working on called **fastbookRAG**. In this project, I'm building a hybrid search + LLM pipeline to answer questions from the end-of-chapter Questionnaires in the freely available [fastai textbook](https://github.com/fastai/fastbook/tree/master). For now, I'm taking the place of the LLM in the pipeline (using the context retrieved using keyword/semantic search to answer questions). In this notebook, I'll focus on retrieving the relevant context needed to answer questions from Chapter 1. In future notebooks, I'll be expanding this to all 8 lessons in [Part 1 of the fastai course](https://course.fast.ai/)."
      ]
    },
    {
      "cell_type": "markdown",
      "metadata": {
        "id": "hgg5b1nBMqFy"
      },
      "source": [
        "In two previous blog posts I was able to answer 72% of the Chapter 1 Questionnairse questions [using full text search](https://vishalbakshi.github.io/blog/posts/2024-08-04-fastbook-ch1-fts5/) and 76% of questions [using cosine similarity](https://vishalbakshi.github.io/blog/posts/2024-08-06-fastbook-ch1-cosine-similarity/). I'll try to beat that result using a combined approach."
      ]
    },
    {
      "cell_type": "markdown",
      "metadata": {
        "id": "Ao-b-tXkjDar"
      },
      "source": [
        "I'll summarize my results from this notebook in the table below. Cosine Similarity is represented as \"CS\" and full text search as \"BM25\":\n",
        "\n",
        "|Approach|Chunk Size (Paragraphs)|Questions Answered|\n",
        "|:-:|:-:|:-:|\n",
        "|Top-5 CS + Top-3 BM25|1 (CS), 3 (BM25)|85%\n",
        "|Top-3 CS + Top-2 BM25|1 (CS), 3 (BM25)|76%\n",
        "|Top-5 Weighted Average|1|76%\n",
        "|Top-3 Weighted Average|1|64%\n",
        "|Top-3 CS of Top-10 BM25 Results|1|58%\n",
        "|Top-3 CS of Top-10 BM25 Results|3|58%\n",
        "|Top-1 CS of Top-10 BM25 Results|1|52%\n",
        "|Top-1 CS of Top-12 BM25 Results|3|48%\n",
        "|Top-1 Weighted Average|1|48%"
      ]
    },
    {
      "cell_type": "code",
      "execution_count": null,
      "metadata": {
        "id": "YDH3v0JDs4hC"
      },
      "outputs": [],
      "source": [
        "#| code-fold: true\n",
        "#| code-summary: \"Show imports\"\n",
        "\n",
        "import sqlite3\n",
        "import json\n",
        "import re\n",
        "import pandas as pd, numpy as np\n",
        "import textwrap\n",
        "import torch\n",
        "from torch import tensor\n",
        "import torch.nn.functional as F\n",
        "\n",
        "!pip install sentence-transformers -Uqq\n",
        "from sentence_transformers import SentenceTransformer\n",
        "emb_model = SentenceTransformer(\"BAAI/bge-small-en-v1.5\")"
      ]
    },
    {
      "cell_type": "markdown",
      "metadata": {
        "id": "CYgXFdbVI_1a"
      },
      "source": [
        "## Chunking the Chapter 1 Notebook into Paragraphs"
      ]
    },
    {
      "cell_type": "markdown",
      "metadata": {
        "id": "nc2mh3QEJDRa"
      },
      "source": [
        "As usual, I'll start by chunking the chapter 1 notebook into paragraphs and store them into a sqlite database. I'll wrap the databse loading code into a function so that I can easily reuse it for different chunking strategies."
      ]
    },
    {
      "cell_type": "code",
      "execution_count": 2,
      "metadata": {
        "id": "uiAuIQJPJCr4"
      },
      "outputs": [],
      "source": [
        "#| code-fold: true\n",
        "#| code-summary: \"Show the chunking code\"\n",
        "\n",
        "def get_chunks(notebook_path):\n",
        "    with open(notebook_path, 'r', encoding='utf-8') as file:\n",
        "        notebook = json.load(file)\n",
        "\n",
        "    chunks = []\n",
        "    current_header = \"\"\n",
        "\n",
        "    def add_chunk(content):\n",
        "        if content.strip():\n",
        "            chunks.append(f\"{current_header}\\n\\n{content.strip()}\")\n",
        "\n",
        "    for cell in notebook['cells']:\n",
        "        if cell['cell_type'] == 'markdown':\n",
        "            content = ''.join(cell['source'])\n",
        "            header_match = re.match(r'^(#+\\s+.*?)$', content, re.MULTILINE)\n",
        "            if header_match:  # Check if the cell starts with a header\n",
        "                current_header = header_match.group(1)\n",
        "                # Add any content after the header in the same cell\n",
        "                remaining_content = content[len(current_header):].strip()\n",
        "                if remaining_content:\n",
        "                    paragraphs = re.split(r'\\n\\s*\\n', remaining_content)\n",
        "                    for paragraph in paragraphs:\n",
        "                        add_chunk(paragraph)\n",
        "            else:\n",
        "                paragraphs = re.split(r'\\n\\s*\\n', content)\n",
        "                for paragraph in paragraphs:\n",
        "                    add_chunk(paragraph)\n",
        "        elif cell['cell_type'] == 'code':\n",
        "            code_content = '```python\\n' + ''.join(cell['source']) + '\\n```'\n",
        "            add_chunk(code_content)\n",
        "\n",
        "    return chunks\n",
        "\n",
        "def filter_chunks(chunks, exclude_headers):\n",
        "  filtered_chunks = []\n",
        "  for chunk in chunks:\n",
        "      lines = chunk.split('\\n')\n",
        "      # Check if the first line (header) is in the exclude list\n",
        "      if not any(header in lines[0] for header in exclude_headers):\n",
        "          filtered_chunks.append(chunk)\n",
        "  return filtered_chunks\n",
        "\n",
        "exclude_headers = [\"Questionnaire\", \"Further Research\"]"
      ]
    },
    {
      "cell_type": "code",
      "execution_count": 3,
      "metadata": {
        "id": "NqtwO-qaJ6Zf"
      },
      "outputs": [],
      "source": [
        "notebook_path = '01_intro.ipynb'\n",
        "chunks = get_chunks(notebook_path)\n",
        "assert len(chunks) == 315\n",
        "filtered_chunks = filter_chunks(chunks, exclude_headers)\n",
        "assert len(filtered_chunks) == 307"
      ]
    },
    {
      "cell_type": "code",
      "execution_count": 26,
      "metadata": {
        "id": "zLlgHyhoL3Yf"
      },
      "outputs": [],
      "source": [
        "#| code-fold: true\n",
        "#| code-summary: \"Show the db loading function\"\n",
        "\n",
        "conn = sqlite3.connect('/content/fastbook.db')\n",
        "\n",
        "def load_data(filtered_chunks):\n",
        "  conn = sqlite3.connect('/content/fastbook.db')\n",
        "  cur = conn.cursor()\n",
        "  res = cur.execute(\"\"\"\n",
        "\n",
        "  CREATE VIRTUAL TABLE fastbook_text\n",
        "  USING FTS5(text);\n",
        "  \"\"\")\n",
        "\n",
        "  for string in filtered_chunks:\n",
        "    cur.execute(f\"INSERT INTO fastbook_text(text) VALUES (?)\", (string,))\n",
        "\n",
        "  conn.commit()\n",
        "  res = cur.execute(\"SELECT * from fastbook_text\").fetchall()\n",
        "  conn.close()\n",
        "  return len(res) == len(filtered_chunks)\n"
      ]
    },
    {
      "cell_type": "code",
      "execution_count": 5,
      "metadata": {
        "colab": {
          "base_uri": "https://localhost:8080/"
        },
        "id": "_6xbQnD_MTdZ",
        "outputId": "886d589e-e806-4bd0-c6a1-6ea7d92bd722"
      },
      "outputs": [
        {
          "data": {
            "text/plain": [
              "True"
            ]
          },
          "execution_count": 5,
          "metadata": {},
          "output_type": "execute_result"
        }
      ],
      "source": [
        "load_data(filtered_chunks)"
      ]
    },
    {
      "cell_type": "markdown",
      "metadata": {
        "id": "LS440KGWMj9w"
      },
      "source": [
        "## Retrieving Top-1 Cosine Similarity of Top-10 BM25-Ranked Keyword Search Results"
      ]
    },
    {
      "cell_type": "markdown",
      "metadata": {
        "id": "ZQ4DKoepNK1V"
      },
      "source": [
        "To give me some flexibility in which chunks are retrieved, I'll use cosine similarity on the top-10 BM25-ranked full text search results. In previous experiments my best performing cosine similarity approach used top-5 small chunks and my best performing full text search approach used top-3 large chunks."
      ]
    },
    {
      "cell_type": "markdown",
      "metadata": {
        "id": "S08TNZEANfS9"
      },
      "source": [
        "I'll first create embeddings for the chunked data and the questions:"
      ]
    },
    {
      "cell_type": "code",
      "execution_count": 12,
      "metadata": {
        "colab": {
          "base_uri": "https://localhost:8080/"
        },
        "id": "1otfFIRSMVSn",
        "outputId": "db60de01-30d0-46f7-ef8c-4c85d54e7405"
      },
      "outputs": [
        {
          "data": {
            "text/plain": [
              "torch.Size([307, 384])"
            ]
          },
          "execution_count": 12,
          "metadata": {},
          "output_type": "execute_result"
        }
      ],
      "source": [
        "data_embs = emb_model.encode(filtered_chunks, convert_to_tensor=True)\n",
        "data_embs.shape"
      ]
    },
    {
      "cell_type": "code",
      "execution_count": 7,
      "metadata": {
        "colab": {
          "base_uri": "https://localhost:8080/",
          "height": 196
        },
        "id": "4GImUyD9Nxf6",
        "outputId": "02356857-9fee-4c77-fc3e-ae7e0b1e7847"
      },
      "outputs": [
        {
          "data": {
            "application/vnd.google.colaboratory.intrinsic+json": {
              "summary": "{\n  \"name\": \"df\",\n  \"rows\": 33,\n  \"fields\": [\n    {\n      \"column\": \"chapter\",\n      \"properties\": {\n        \"dtype\": \"number\",\n        \"std\": 0,\n        \"min\": 1,\n        \"max\": 1,\n        \"num_unique_values\": 1,\n        \"samples\": [\n          1\n        ],\n        \"semantic_type\": \"\",\n        \"description\": \"\"\n      }\n    },\n    {\n      \"column\": \"question_number\",\n      \"properties\": {\n        \"dtype\": \"number\",\n        \"std\": 9,\n        \"min\": 1,\n        \"max\": 33,\n        \"num_unique_values\": 33,\n        \"samples\": [\n          32\n        ],\n        \"semantic_type\": \"\",\n        \"description\": \"\"\n      }\n    },\n    {\n      \"column\": \"question_text\",\n      \"properties\": {\n        \"dtype\": \"string\",\n        \"num_unique_values\": 33,\n        \"samples\": [\n          \"What are \\\"\\\"hyperparameters\\\"\\\"?\"\n        ],\n        \"semantic_type\": \"\",\n        \"description\": \"\"\n      }\n    },\n    {\n      \"column\": \"answer\",\n      \"properties\": {\n        \"dtype\": \"string\",\n        \"num_unique_values\": 31,\n        \"samples\": [\n          \"At its core, segmentation is a pixelwise classification problem. We attempt to predict a label for every single pixel in the image. This provides a mask for which parts of the image correspond to the given label.\"\n        ],\n        \"semantic_type\": \"\",\n        \"description\": \"\"\n      }\n    },\n    {\n      \"column\": \"keywords\",\n      \"properties\": {\n        \"dtype\": \"string\",\n        \"num_unique_values\": 31,\n        \"samples\": [\n          \"segmentation\"\n        ],\n        \"semantic_type\": \"\",\n        \"description\": \"\"\n      }\n    }\n  ]\n}",
              "type": "dataframe",
              "variable_name": "df"
            },
            "text/html": [
              "\n",
              "  <div id=\"df-7fc75e18-0962-40f1-8574-4693259080c8\" class=\"colab-df-container\">\n",
              "    <div>\n",
              "<style scoped>\n",
              "    .dataframe tbody tr th:only-of-type {\n",
              "        vertical-align: middle;\n",
              "    }\n",
              "\n",
              "    .dataframe tbody tr th {\n",
              "        vertical-align: top;\n",
              "    }\n",
              "\n",
              "    .dataframe thead th {\n",
              "        text-align: right;\n",
              "    }\n",
              "</style>\n",
              "<table border=\"1\" class=\"dataframe\">\n",
              "  <thead>\n",
              "    <tr style=\"text-align: right;\">\n",
              "      <th></th>\n",
              "      <th>chapter</th>\n",
              "      <th>question_number</th>\n",
              "      <th>question_text</th>\n",
              "      <th>answer</th>\n",
              "      <th>keywords</th>\n",
              "    </tr>\n",
              "  </thead>\n",
              "  <tbody>\n",
              "    <tr>\n",
              "      <th>0</th>\n",
              "      <td>1</td>\n",
              "      <td>1</td>\n",
              "      <td>Do you need these for deep learning?\\\\n\\\\n- Lo...</td>\n",
              "      <td>Lots of math - False\\\\nLots of data - False\\\\n...</td>\n",
              "      <td>math, data, expensive computers, PhD</td>\n",
              "    </tr>\n",
              "    <tr>\n",
              "      <th>1</th>\n",
              "      <td>1</td>\n",
              "      <td>2</td>\n",
              "      <td>Name five areas where deep learning is now the...</td>\n",
              "      <td>Any five of the following:\\\\nNatural Language ...</td>\n",
              "      <td>deep learning, state of the art, best, world</td>\n",
              "    </tr>\n",
              "    <tr>\n",
              "      <th>2</th>\n",
              "      <td>1</td>\n",
              "      <td>3</td>\n",
              "      <td>What was the name of the first device that was...</td>\n",
              "      <td>Mark I perceptron built by Frank Rosenblatt</td>\n",
              "      <td>first, device, artificial, neuron</td>\n",
              "    </tr>\n",
              "  </tbody>\n",
              "</table>\n",
              "</div>\n",
              "    <div class=\"colab-df-buttons\">\n",
              "\n",
              "  <div class=\"colab-df-container\">\n",
              "    <button class=\"colab-df-convert\" onclick=\"convertToInteractive('df-7fc75e18-0962-40f1-8574-4693259080c8')\"\n",
              "            title=\"Convert this dataframe to an interactive table.\"\n",
              "            style=\"display:none;\">\n",
              "\n",
              "  <svg xmlns=\"http://www.w3.org/2000/svg\" height=\"24px\" viewBox=\"0 -960 960 960\">\n",
              "    <path d=\"M120-120v-720h720v720H120Zm60-500h600v-160H180v160Zm220 220h160v-160H400v160Zm0 220h160v-160H400v160ZM180-400h160v-160H180v160Zm440 0h160v-160H620v160ZM180-180h160v-160H180v160Zm440 0h160v-160H620v160Z\"/>\n",
              "  </svg>\n",
              "    </button>\n",
              "\n",
              "  <style>\n",
              "    .colab-df-container {\n",
              "      display:flex;\n",
              "      gap: 12px;\n",
              "    }\n",
              "\n",
              "    .colab-df-convert {\n",
              "      background-color: #E8F0FE;\n",
              "      border: none;\n",
              "      border-radius: 50%;\n",
              "      cursor: pointer;\n",
              "      display: none;\n",
              "      fill: #1967D2;\n",
              "      height: 32px;\n",
              "      padding: 0 0 0 0;\n",
              "      width: 32px;\n",
              "    }\n",
              "\n",
              "    .colab-df-convert:hover {\n",
              "      background-color: #E2EBFA;\n",
              "      box-shadow: 0px 1px 2px rgba(60, 64, 67, 0.3), 0px 1px 3px 1px rgba(60, 64, 67, 0.15);\n",
              "      fill: #174EA6;\n",
              "    }\n",
              "\n",
              "    .colab-df-buttons div {\n",
              "      margin-bottom: 4px;\n",
              "    }\n",
              "\n",
              "    [theme=dark] .colab-df-convert {\n",
              "      background-color: #3B4455;\n",
              "      fill: #D2E3FC;\n",
              "    }\n",
              "\n",
              "    [theme=dark] .colab-df-convert:hover {\n",
              "      background-color: #434B5C;\n",
              "      box-shadow: 0px 1px 3px 1px rgba(0, 0, 0, 0.15);\n",
              "      filter: drop-shadow(0px 1px 2px rgba(0, 0, 0, 0.3));\n",
              "      fill: #FFFFFF;\n",
              "    }\n",
              "  </style>\n",
              "\n",
              "    <script>\n",
              "      const buttonEl =\n",
              "        document.querySelector('#df-7fc75e18-0962-40f1-8574-4693259080c8 button.colab-df-convert');\n",
              "      buttonEl.style.display =\n",
              "        google.colab.kernel.accessAllowed ? 'block' : 'none';\n",
              "\n",
              "      async function convertToInteractive(key) {\n",
              "        const element = document.querySelector('#df-7fc75e18-0962-40f1-8574-4693259080c8');\n",
              "        const dataTable =\n",
              "          await google.colab.kernel.invokeFunction('convertToInteractive',\n",
              "                                                    [key], {});\n",
              "        if (!dataTable) return;\n",
              "\n",
              "        const docLinkHtml = 'Like what you see? Visit the ' +\n",
              "          '<a target=\"_blank\" href=https://colab.research.google.com/notebooks/data_table.ipynb>data table notebook</a>'\n",
              "          + ' to learn more about interactive tables.';\n",
              "        element.innerHTML = '';\n",
              "        dataTable['output_type'] = 'display_data';\n",
              "        await google.colab.output.renderOutput(dataTable, element);\n",
              "        const docLink = document.createElement('div');\n",
              "        docLink.innerHTML = docLinkHtml;\n",
              "        element.appendChild(docLink);\n",
              "      }\n",
              "    </script>\n",
              "  </div>\n",
              "\n",
              "\n",
              "<div id=\"df-713016ca-b5bb-4171-9214-37cb57e13b40\">\n",
              "  <button class=\"colab-df-quickchart\" onclick=\"quickchart('df-713016ca-b5bb-4171-9214-37cb57e13b40')\"\n",
              "            title=\"Suggest charts\"\n",
              "            style=\"display:none;\">\n",
              "\n",
              "<svg xmlns=\"http://www.w3.org/2000/svg\" height=\"24px\"viewBox=\"0 0 24 24\"\n",
              "     width=\"24px\">\n",
              "    <g>\n",
              "        <path d=\"M19 3H5c-1.1 0-2 .9-2 2v14c0 1.1.9 2 2 2h14c1.1 0 2-.9 2-2V5c0-1.1-.9-2-2-2zM9 17H7v-7h2v7zm4 0h-2V7h2v10zm4 0h-2v-4h2v4z\"/>\n",
              "    </g>\n",
              "</svg>\n",
              "  </button>\n",
              "\n",
              "<style>\n",
              "  .colab-df-quickchart {\n",
              "      --bg-color: #E8F0FE;\n",
              "      --fill-color: #1967D2;\n",
              "      --hover-bg-color: #E2EBFA;\n",
              "      --hover-fill-color: #174EA6;\n",
              "      --disabled-fill-color: #AAA;\n",
              "      --disabled-bg-color: #DDD;\n",
              "  }\n",
              "\n",
              "  [theme=dark] .colab-df-quickchart {\n",
              "      --bg-color: #3B4455;\n",
              "      --fill-color: #D2E3FC;\n",
              "      --hover-bg-color: #434B5C;\n",
              "      --hover-fill-color: #FFFFFF;\n",
              "      --disabled-bg-color: #3B4455;\n",
              "      --disabled-fill-color: #666;\n",
              "  }\n",
              "\n",
              "  .colab-df-quickchart {\n",
              "    background-color: var(--bg-color);\n",
              "    border: none;\n",
              "    border-radius: 50%;\n",
              "    cursor: pointer;\n",
              "    display: none;\n",
              "    fill: var(--fill-color);\n",
              "    height: 32px;\n",
              "    padding: 0;\n",
              "    width: 32px;\n",
              "  }\n",
              "\n",
              "  .colab-df-quickchart:hover {\n",
              "    background-color: var(--hover-bg-color);\n",
              "    box-shadow: 0 1px 2px rgba(60, 64, 67, 0.3), 0 1px 3px 1px rgba(60, 64, 67, 0.15);\n",
              "    fill: var(--button-hover-fill-color);\n",
              "  }\n",
              "\n",
              "  .colab-df-quickchart-complete:disabled,\n",
              "  .colab-df-quickchart-complete:disabled:hover {\n",
              "    background-color: var(--disabled-bg-color);\n",
              "    fill: var(--disabled-fill-color);\n",
              "    box-shadow: none;\n",
              "  }\n",
              "\n",
              "  .colab-df-spinner {\n",
              "    border: 2px solid var(--fill-color);\n",
              "    border-color: transparent;\n",
              "    border-bottom-color: var(--fill-color);\n",
              "    animation:\n",
              "      spin 1s steps(1) infinite;\n",
              "  }\n",
              "\n",
              "  @keyframes spin {\n",
              "    0% {\n",
              "      border-color: transparent;\n",
              "      border-bottom-color: var(--fill-color);\n",
              "      border-left-color: var(--fill-color);\n",
              "    }\n",
              "    20% {\n",
              "      border-color: transparent;\n",
              "      border-left-color: var(--fill-color);\n",
              "      border-top-color: var(--fill-color);\n",
              "    }\n",
              "    30% {\n",
              "      border-color: transparent;\n",
              "      border-left-color: var(--fill-color);\n",
              "      border-top-color: var(--fill-color);\n",
              "      border-right-color: var(--fill-color);\n",
              "    }\n",
              "    40% {\n",
              "      border-color: transparent;\n",
              "      border-right-color: var(--fill-color);\n",
              "      border-top-color: var(--fill-color);\n",
              "    }\n",
              "    60% {\n",
              "      border-color: transparent;\n",
              "      border-right-color: var(--fill-color);\n",
              "    }\n",
              "    80% {\n",
              "      border-color: transparent;\n",
              "      border-right-color: var(--fill-color);\n",
              "      border-bottom-color: var(--fill-color);\n",
              "    }\n",
              "    90% {\n",
              "      border-color: transparent;\n",
              "      border-bottom-color: var(--fill-color);\n",
              "    }\n",
              "  }\n",
              "</style>\n",
              "\n",
              "  <script>\n",
              "    async function quickchart(key) {\n",
              "      const quickchartButtonEl =\n",
              "        document.querySelector('#' + key + ' button');\n",
              "      quickchartButtonEl.disabled = true;  // To prevent multiple clicks.\n",
              "      quickchartButtonEl.classList.add('colab-df-spinner');\n",
              "      try {\n",
              "        const charts = await google.colab.kernel.invokeFunction(\n",
              "            'suggestCharts', [key], {});\n",
              "      } catch (error) {\n",
              "        console.error('Error during call to suggestCharts:', error);\n",
              "      }\n",
              "      quickchartButtonEl.classList.remove('colab-df-spinner');\n",
              "      quickchartButtonEl.classList.add('colab-df-quickchart-complete');\n",
              "    }\n",
              "    (() => {\n",
              "      let quickchartButtonEl =\n",
              "        document.querySelector('#df-713016ca-b5bb-4171-9214-37cb57e13b40 button');\n",
              "      quickchartButtonEl.style.display =\n",
              "        google.colab.kernel.accessAllowed ? 'block' : 'none';\n",
              "    })();\n",
              "  </script>\n",
              "</div>\n",
              "\n",
              "    </div>\n",
              "  </div>\n"
            ],
            "text/plain": [
              "   chapter  question_number  \\\n",
              "0        1                1   \n",
              "1        1                2   \n",
              "2        1                3   \n",
              "\n",
              "                                       question_text  \\\n",
              "0  Do you need these for deep learning?\\\\n\\\\n- Lo...   \n",
              "1  Name five areas where deep learning is now the...   \n",
              "2  What was the name of the first device that was...   \n",
              "\n",
              "                                              answer  \\\n",
              "0  Lots of math - False\\\\nLots of data - False\\\\n...   \n",
              "1  Any five of the following:\\\\nNatural Language ...   \n",
              "2        Mark I perceptron built by Frank Rosenblatt   \n",
              "\n",
              "                                       keywords  \n",
              "0          math, data, expensive computers, PhD  \n",
              "1  deep learning, state of the art, best, world  \n",
              "2             first, device, artificial, neuron  "
            ]
          },
          "execution_count": 7,
          "metadata": {},
          "output_type": "execute_result"
        }
      ],
      "source": [
        "# Chapter 1 Questionnaire questions, answers and keywords\n",
        "df = pd.read_csv(\"https://gist.githubusercontent.com/vishalbakshi/309fb3abb222d32446b2c4e29db753fe/raw/bc6cd2ab15b64a92ec23796c61702f413fdd2b40/fastbookRAG_evals.csv\")\n",
        "df.head(3)"
      ]
    },
    {
      "cell_type": "code",
      "execution_count": 8,
      "metadata": {
        "colab": {
          "base_uri": "https://localhost:8080/"
        },
        "id": "cQKx0SdyOUa9",
        "outputId": "e3574344-973b-49a0-ebc8-95cf779aaeb3"
      },
      "outputs": [
        {
          "data": {
            "text/plain": [
              "torch.Size([33, 384])"
            ]
          },
          "execution_count": 8,
          "metadata": {},
          "output_type": "execute_result"
        }
      ],
      "source": [
        "q_embs = emb_model.encode(df['question_text'], convert_to_tensor=True)\n",
        "q_embs.shape"
      ]
    },
    {
      "cell_type": "markdown",
      "metadata": {
        "id": "qjtr0KoOOdM5"
      },
      "source": [
        "I'll use `ORDER BY rank` and `LIMIT 10` in my SQL query to get the top-10 BM25-ranked results:"
      ]
    },
    {
      "cell_type": "code",
      "execution_count": 84,
      "metadata": {
        "id": "pGZB8BeLOlgy"
      },
      "outputs": [],
      "source": [
        "#| code-fold: true\n",
        "#| code-summary: \"Show the for-loop + query\"\n",
        "\n",
        "results = []\n",
        "conn = sqlite3.connect('fastbook.db')\n",
        "cur = conn.cursor()\n",
        "\n",
        "for keywords in df['keywords']:\n",
        "  if keywords != 'No answer':\n",
        "    words = ' OR '.join([f'\"{word.strip(\",\")}\"' for word in keywords.split()])\n",
        "    q = f\"\"\"\n",
        "\n",
        "    SELECT *, rank\n",
        "      from fastbook_text\n",
        "    WHERE fastbook_text MATCH '{words}'\n",
        "    ORDER BY rank\n",
        "    LIMIT 10\n",
        "\n",
        "    \"\"\"\n",
        "    res = cur.execute(q).fetchall()\n",
        "    res = [item[0] for item in res]\n",
        "    results.append(res)\n",
        "  else:\n",
        "    # if keywords == \"No Answer\"\n",
        "    res = \"No answer\"\n",
        "    results.append(res)"
      ]
    },
    {
      "cell_type": "code",
      "execution_count": 85,
      "metadata": {
        "colab": {
          "base_uri": "https://localhost:8080/"
        },
        "id": "9OFFOsdWPBY2",
        "outputId": "98ab23f2-d381-4447-c90c-e131cc015358"
      },
      "outputs": [
        {
          "data": {
            "text/plain": [
              "(33, 10)"
            ]
          },
          "execution_count": 85,
          "metadata": {},
          "output_type": "execute_result"
        }
      ],
      "source": [
        "len(results), len(results[0])"
      ]
    },
    {
      "cell_type": "markdown",
      "metadata": {
        "id": "ckKRqIogXP0D"
      },
      "source": [
        "I'll embed these chunks of context (up to 10 for each of the 33 questions) so that I can perform cosine similarity between them and the question embeddings. Note that not all questions have 10 chunks as some keyword searches resulted in less than 10 retrieved chunks."
      ]
    },
    {
      "cell_type": "code",
      "execution_count": 90,
      "metadata": {
        "colab": {
          "base_uri": "https://localhost:8080/"
        },
        "id": "zDjaux3fazmj",
        "outputId": "f8309801-eb28-4eef-89c3-14e4936d111b"
      },
      "outputs": [
        {
          "data": {
            "text/plain": [
              "2"
            ]
          },
          "execution_count": 90,
          "metadata": {},
          "output_type": "execute_result"
        }
      ],
      "source": [
        "len(results[-3])"
      ]
    },
    {
      "cell_type": "code",
      "execution_count": 122,
      "metadata": {
        "id": "wLQTnAGjY3yK"
      },
      "outputs": [],
      "source": [
        "results_embs = {}\n",
        "\n",
        "for idx, sublist in enumerate(results):\n",
        "  results_embs[idx] = emb_model.encode(sublist, convert_to_tensor=True)"
      ]
    },
    {
      "cell_type": "markdown",
      "metadata": {
        "id": "tgefo5sVW15Y"
      },
      "source": [
        "I'll apply cosine similarity between the chunk embeddings for the given question's keyword search result and the question embedding and select the top result:"
      ]
    },
    {
      "cell_type": "code",
      "execution_count": 116,
      "metadata": {
        "id": "Xd5OXzV3Rga-"
      },
      "outputs": [],
      "source": [
        "cs_results = []\n",
        "\n",
        "for i, q in enumerate(q_embs):\n",
        "  if results[i] != \"No answer\":\n",
        "    res = F.cosine_similarity(q, results_embs[i], dim=-1).sort(descending=True)\n",
        "    cs_results.append(results[i][res[1][0]])\n",
        "  else:\n",
        "    cs_results.append('No answer')"
      ]
    },
    {
      "cell_type": "code",
      "execution_count": 118,
      "metadata": {
        "colab": {
          "base_uri": "https://localhost:8080/"
        },
        "id": "mAK1WD2VbBAG",
        "outputId": "3be4d477-8ef4-4873-fe2d-204db788874c"
      },
      "outputs": [
        {
          "data": {
            "text/plain": [
              "33"
            ]
          },
          "execution_count": 118,
          "metadata": {},
          "output_type": "execute_result"
        }
      ],
      "source": [
        "len(cs_results)"
      ]
    },
    {
      "cell_type": "code",
      "execution_count": 119,
      "metadata": {
        "colab": {
          "base_uri": "https://localhost:8080/",
          "height": 196
        },
        "id": "jv344XsQdcoe",
        "outputId": "5ed37c0b-aec1-4874-b26d-e0196818e66a"
      },
      "outputs": [
        {
          "data": {
            "application/vnd.google.colaboratory.intrinsic+json": {
              "summary": "{\n  \"name\": \"df\",\n  \"rows\": 33,\n  \"fields\": [\n    {\n      \"column\": \"chapter\",\n      \"properties\": {\n        \"dtype\": \"number\",\n        \"std\": 0,\n        \"min\": 1,\n        \"max\": 1,\n        \"num_unique_values\": 1,\n        \"samples\": [\n          1\n        ],\n        \"semantic_type\": \"\",\n        \"description\": \"\"\n      }\n    },\n    {\n      \"column\": \"question_number\",\n      \"properties\": {\n        \"dtype\": \"number\",\n        \"std\": 9,\n        \"min\": 1,\n        \"max\": 33,\n        \"num_unique_values\": 33,\n        \"samples\": [\n          32\n        ],\n        \"semantic_type\": \"\",\n        \"description\": \"\"\n      }\n    },\n    {\n      \"column\": \"question_text\",\n      \"properties\": {\n        \"dtype\": \"string\",\n        \"num_unique_values\": 33,\n        \"samples\": [\n          \"What are \\\"\\\"hyperparameters\\\"\\\"?\"\n        ],\n        \"semantic_type\": \"\",\n        \"description\": \"\"\n      }\n    },\n    {\n      \"column\": \"answer\",\n      \"properties\": {\n        \"dtype\": \"string\",\n        \"num_unique_values\": 31,\n        \"samples\": [\n          \"At its core, segmentation is a pixelwise classification problem. We attempt to predict a label for every single pixel in the image. This provides a mask for which parts of the image correspond to the given label.\"\n        ],\n        \"semantic_type\": \"\",\n        \"description\": \"\"\n      }\n    },\n    {\n      \"column\": \"keywords\",\n      \"properties\": {\n        \"dtype\": \"string\",\n        \"num_unique_values\": 31,\n        \"samples\": [\n          \"segmentation\"\n        ],\n        \"semantic_type\": \"\",\n        \"description\": \"\"\n      }\n    },\n    {\n      \"column\": \"retrieved_context\",\n      \"properties\": {\n        \"dtype\": \"string\",\n        \"num_unique_values\": 31,\n        \"samples\": [\n          \"## Deep Learning Is Not Just for Image Classification\\n\\nFor instance, let's talk about something that is critically important for autonomous vehicles: localizing objects in a picture. If a self-driving car doesn't know where a pedestrian is, then it doesn't know how to avoid one! Creating a model that can recognize the content of every individual pixel in an image is called *segmentation*. Here is how we can train a segmentation model with fastai, using a subset of the [*Camvid* dataset](http://www0.cs.ucl.ac.uk/staff/G.Brostow/papers/Brostow_2009-PRL.pdf) from the paper \\\"Semantic Object Classes in Video: A High-Definition Ground Truth Database\\\" by Gabruel J. Brostow, Julien Fauqueur, and Roberto Cipolla:\"\n        ],\n        \"semantic_type\": \"\",\n        \"description\": \"\"\n      }\n    }\n  ]\n}",
              "type": "dataframe",
              "variable_name": "df"
            },
            "text/html": [
              "\n",
              "  <div id=\"df-437d9794-a87c-4985-bd55-c7dadaefa807\" class=\"colab-df-container\">\n",
              "    <div>\n",
              "<style scoped>\n",
              "    .dataframe tbody tr th:only-of-type {\n",
              "        vertical-align: middle;\n",
              "    }\n",
              "\n",
              "    .dataframe tbody tr th {\n",
              "        vertical-align: top;\n",
              "    }\n",
              "\n",
              "    .dataframe thead th {\n",
              "        text-align: right;\n",
              "    }\n",
              "</style>\n",
              "<table border=\"1\" class=\"dataframe\">\n",
              "  <thead>\n",
              "    <tr style=\"text-align: right;\">\n",
              "      <th></th>\n",
              "      <th>chapter</th>\n",
              "      <th>question_number</th>\n",
              "      <th>question_text</th>\n",
              "      <th>answer</th>\n",
              "      <th>keywords</th>\n",
              "      <th>retrieved_context</th>\n",
              "    </tr>\n",
              "  </thead>\n",
              "  <tbody>\n",
              "    <tr>\n",
              "      <th>0</th>\n",
              "      <td>1</td>\n",
              "      <td>1</td>\n",
              "      <td>Do you need these for deep learning?\\\\n\\\\n- Lo...</td>\n",
              "      <td>Lots of math - False\\\\nLots of data - False\\\\n...</td>\n",
              "      <td>math, data, expensive computers, PhD</td>\n",
              "      <td>## Deep Learning Is for Everyone\\n\\n```asciido...</td>\n",
              "    </tr>\n",
              "    <tr>\n",
              "      <th>1</th>\n",
              "      <td>1</td>\n",
              "      <td>2</td>\n",
              "      <td>Name five areas where deep learning is now the...</td>\n",
              "      <td>Any five of the following:\\\\nNatural Language ...</td>\n",
              "      <td>deep learning, state of the art, best, world</td>\n",
              "      <td>## Deep Learning Is for Everyone\\n\\nHere's a l...</td>\n",
              "    </tr>\n",
              "    <tr>\n",
              "      <th>2</th>\n",
              "      <td>1</td>\n",
              "      <td>3</td>\n",
              "      <td>What was the name of the first device that was...</td>\n",
              "      <td>Mark I perceptron built by Frank Rosenblatt</td>\n",
              "      <td>first, device, artificial, neuron</td>\n",
              "      <td>## Neural Networks: A Brief History\\n\\nRosenbl...</td>\n",
              "    </tr>\n",
              "  </tbody>\n",
              "</table>\n",
              "</div>\n",
              "    <div class=\"colab-df-buttons\">\n",
              "\n",
              "  <div class=\"colab-df-container\">\n",
              "    <button class=\"colab-df-convert\" onclick=\"convertToInteractive('df-437d9794-a87c-4985-bd55-c7dadaefa807')\"\n",
              "            title=\"Convert this dataframe to an interactive table.\"\n",
              "            style=\"display:none;\">\n",
              "\n",
              "  <svg xmlns=\"http://www.w3.org/2000/svg\" height=\"24px\" viewBox=\"0 -960 960 960\">\n",
              "    <path d=\"M120-120v-720h720v720H120Zm60-500h600v-160H180v160Zm220 220h160v-160H400v160Zm0 220h160v-160H400v160ZM180-400h160v-160H180v160Zm440 0h160v-160H620v160ZM180-180h160v-160H180v160Zm440 0h160v-160H620v160Z\"/>\n",
              "  </svg>\n",
              "    </button>\n",
              "\n",
              "  <style>\n",
              "    .colab-df-container {\n",
              "      display:flex;\n",
              "      gap: 12px;\n",
              "    }\n",
              "\n",
              "    .colab-df-convert {\n",
              "      background-color: #E8F0FE;\n",
              "      border: none;\n",
              "      border-radius: 50%;\n",
              "      cursor: pointer;\n",
              "      display: none;\n",
              "      fill: #1967D2;\n",
              "      height: 32px;\n",
              "      padding: 0 0 0 0;\n",
              "      width: 32px;\n",
              "    }\n",
              "\n",
              "    .colab-df-convert:hover {\n",
              "      background-color: #E2EBFA;\n",
              "      box-shadow: 0px 1px 2px rgba(60, 64, 67, 0.3), 0px 1px 3px 1px rgba(60, 64, 67, 0.15);\n",
              "      fill: #174EA6;\n",
              "    }\n",
              "\n",
              "    .colab-df-buttons div {\n",
              "      margin-bottom: 4px;\n",
              "    }\n",
              "\n",
              "    [theme=dark] .colab-df-convert {\n",
              "      background-color: #3B4455;\n",
              "      fill: #D2E3FC;\n",
              "    }\n",
              "\n",
              "    [theme=dark] .colab-df-convert:hover {\n",
              "      background-color: #434B5C;\n",
              "      box-shadow: 0px 1px 3px 1px rgba(0, 0, 0, 0.15);\n",
              "      filter: drop-shadow(0px 1px 2px rgba(0, 0, 0, 0.3));\n",
              "      fill: #FFFFFF;\n",
              "    }\n",
              "  </style>\n",
              "\n",
              "    <script>\n",
              "      const buttonEl =\n",
              "        document.querySelector('#df-437d9794-a87c-4985-bd55-c7dadaefa807 button.colab-df-convert');\n",
              "      buttonEl.style.display =\n",
              "        google.colab.kernel.accessAllowed ? 'block' : 'none';\n",
              "\n",
              "      async function convertToInteractive(key) {\n",
              "        const element = document.querySelector('#df-437d9794-a87c-4985-bd55-c7dadaefa807');\n",
              "        const dataTable =\n",
              "          await google.colab.kernel.invokeFunction('convertToInteractive',\n",
              "                                                    [key], {});\n",
              "        if (!dataTable) return;\n",
              "\n",
              "        const docLinkHtml = 'Like what you see? Visit the ' +\n",
              "          '<a target=\"_blank\" href=https://colab.research.google.com/notebooks/data_table.ipynb>data table notebook</a>'\n",
              "          + ' to learn more about interactive tables.';\n",
              "        element.innerHTML = '';\n",
              "        dataTable['output_type'] = 'display_data';\n",
              "        await google.colab.output.renderOutput(dataTable, element);\n",
              "        const docLink = document.createElement('div');\n",
              "        docLink.innerHTML = docLinkHtml;\n",
              "        element.appendChild(docLink);\n",
              "      }\n",
              "    </script>\n",
              "  </div>\n",
              "\n",
              "\n",
              "<div id=\"df-db01787c-286f-4ad0-b0f6-ec514c4c0cbf\">\n",
              "  <button class=\"colab-df-quickchart\" onclick=\"quickchart('df-db01787c-286f-4ad0-b0f6-ec514c4c0cbf')\"\n",
              "            title=\"Suggest charts\"\n",
              "            style=\"display:none;\">\n",
              "\n",
              "<svg xmlns=\"http://www.w3.org/2000/svg\" height=\"24px\"viewBox=\"0 0 24 24\"\n",
              "     width=\"24px\">\n",
              "    <g>\n",
              "        <path d=\"M19 3H5c-1.1 0-2 .9-2 2v14c0 1.1.9 2 2 2h14c1.1 0 2-.9 2-2V5c0-1.1-.9-2-2-2zM9 17H7v-7h2v7zm4 0h-2V7h2v10zm4 0h-2v-4h2v4z\"/>\n",
              "    </g>\n",
              "</svg>\n",
              "  </button>\n",
              "\n",
              "<style>\n",
              "  .colab-df-quickchart {\n",
              "      --bg-color: #E8F0FE;\n",
              "      --fill-color: #1967D2;\n",
              "      --hover-bg-color: #E2EBFA;\n",
              "      --hover-fill-color: #174EA6;\n",
              "      --disabled-fill-color: #AAA;\n",
              "      --disabled-bg-color: #DDD;\n",
              "  }\n",
              "\n",
              "  [theme=dark] .colab-df-quickchart {\n",
              "      --bg-color: #3B4455;\n",
              "      --fill-color: #D2E3FC;\n",
              "      --hover-bg-color: #434B5C;\n",
              "      --hover-fill-color: #FFFFFF;\n",
              "      --disabled-bg-color: #3B4455;\n",
              "      --disabled-fill-color: #666;\n",
              "  }\n",
              "\n",
              "  .colab-df-quickchart {\n",
              "    background-color: var(--bg-color);\n",
              "    border: none;\n",
              "    border-radius: 50%;\n",
              "    cursor: pointer;\n",
              "    display: none;\n",
              "    fill: var(--fill-color);\n",
              "    height: 32px;\n",
              "    padding: 0;\n",
              "    width: 32px;\n",
              "  }\n",
              "\n",
              "  .colab-df-quickchart:hover {\n",
              "    background-color: var(--hover-bg-color);\n",
              "    box-shadow: 0 1px 2px rgba(60, 64, 67, 0.3), 0 1px 3px 1px rgba(60, 64, 67, 0.15);\n",
              "    fill: var(--button-hover-fill-color);\n",
              "  }\n",
              "\n",
              "  .colab-df-quickchart-complete:disabled,\n",
              "  .colab-df-quickchart-complete:disabled:hover {\n",
              "    background-color: var(--disabled-bg-color);\n",
              "    fill: var(--disabled-fill-color);\n",
              "    box-shadow: none;\n",
              "  }\n",
              "\n",
              "  .colab-df-spinner {\n",
              "    border: 2px solid var(--fill-color);\n",
              "    border-color: transparent;\n",
              "    border-bottom-color: var(--fill-color);\n",
              "    animation:\n",
              "      spin 1s steps(1) infinite;\n",
              "  }\n",
              "\n",
              "  @keyframes spin {\n",
              "    0% {\n",
              "      border-color: transparent;\n",
              "      border-bottom-color: var(--fill-color);\n",
              "      border-left-color: var(--fill-color);\n",
              "    }\n",
              "    20% {\n",
              "      border-color: transparent;\n",
              "      border-left-color: var(--fill-color);\n",
              "      border-top-color: var(--fill-color);\n",
              "    }\n",
              "    30% {\n",
              "      border-color: transparent;\n",
              "      border-left-color: var(--fill-color);\n",
              "      border-top-color: var(--fill-color);\n",
              "      border-right-color: var(--fill-color);\n",
              "    }\n",
              "    40% {\n",
              "      border-color: transparent;\n",
              "      border-right-color: var(--fill-color);\n",
              "      border-top-color: var(--fill-color);\n",
              "    }\n",
              "    60% {\n",
              "      border-color: transparent;\n",
              "      border-right-color: var(--fill-color);\n",
              "    }\n",
              "    80% {\n",
              "      border-color: transparent;\n",
              "      border-right-color: var(--fill-color);\n",
              "      border-bottom-color: var(--fill-color);\n",
              "    }\n",
              "    90% {\n",
              "      border-color: transparent;\n",
              "      border-bottom-color: var(--fill-color);\n",
              "    }\n",
              "  }\n",
              "</style>\n",
              "\n",
              "  <script>\n",
              "    async function quickchart(key) {\n",
              "      const quickchartButtonEl =\n",
              "        document.querySelector('#' + key + ' button');\n",
              "      quickchartButtonEl.disabled = true;  // To prevent multiple clicks.\n",
              "      quickchartButtonEl.classList.add('colab-df-spinner');\n",
              "      try {\n",
              "        const charts = await google.colab.kernel.invokeFunction(\n",
              "            'suggestCharts', [key], {});\n",
              "      } catch (error) {\n",
              "        console.error('Error during call to suggestCharts:', error);\n",
              "      }\n",
              "      quickchartButtonEl.classList.remove('colab-df-spinner');\n",
              "      quickchartButtonEl.classList.add('colab-df-quickchart-complete');\n",
              "    }\n",
              "    (() => {\n",
              "      let quickchartButtonEl =\n",
              "        document.querySelector('#df-db01787c-286f-4ad0-b0f6-ec514c4c0cbf button');\n",
              "      quickchartButtonEl.style.display =\n",
              "        google.colab.kernel.accessAllowed ? 'block' : 'none';\n",
              "    })();\n",
              "  </script>\n",
              "</div>\n",
              "\n",
              "    </div>\n",
              "  </div>\n"
            ],
            "text/plain": [
              "   chapter  question_number  \\\n",
              "0        1                1   \n",
              "1        1                2   \n",
              "2        1                3   \n",
              "\n",
              "                                       question_text  \\\n",
              "0  Do you need these for deep learning?\\\\n\\\\n- Lo...   \n",
              "1  Name five areas where deep learning is now the...   \n",
              "2  What was the name of the first device that was...   \n",
              "\n",
              "                                              answer  \\\n",
              "0  Lots of math - False\\\\nLots of data - False\\\\n...   \n",
              "1  Any five of the following:\\\\nNatural Language ...   \n",
              "2        Mark I perceptron built by Frank Rosenblatt   \n",
              "\n",
              "                                       keywords  \\\n",
              "0          math, data, expensive computers, PhD   \n",
              "1  deep learning, state of the art, best, world   \n",
              "2             first, device, artificial, neuron   \n",
              "\n",
              "                                   retrieved_context  \n",
              "0  ## Deep Learning Is for Everyone\\n\\n```asciido...  \n",
              "1  ## Deep Learning Is for Everyone\\n\\nHere's a l...  \n",
              "2  ## Neural Networks: A Brief History\\n\\nRosenbl...  "
            ]
          },
          "execution_count": 119,
          "metadata": {},
          "output_type": "execute_result"
        }
      ],
      "source": [
        "df['retrieved_context'] = pd.Series(cs_results)\n",
        "df.head(3)"
      ]
    },
    {
      "cell_type": "code",
      "execution_count": 120,
      "metadata": {
        "id": "xM8LIN8deG6X"
      },
      "outputs": [],
      "source": [
        "df.to_csv('top1_top10_results.csv', index=False)"
      ]
    },
    {
      "cell_type": "markdown",
      "metadata": {
        "id": "yqo9pF6-fGsP"
      },
      "source": [
        "Using the retrieved chunks I was able to answer 17/33 or **52%** of the Chapter 1 questions."
      ]
    },
    {
      "cell_type": "markdown",
      "metadata": {
        "id": "5d5JGV27f3Z1"
      },
      "source": [
        "I'm curious: what was the BM25-rank of the context with the top-1 cosine similarity? In other words, did cosine similarity pick the highest ranked keyword search result?"
      ]
    },
    {
      "cell_type": "code",
      "execution_count": 125,
      "metadata": {
        "id": "iAVgMgx0gVGp"
      },
      "outputs": [],
      "source": [
        "cs_ranks = []\n",
        "\n",
        "for i, q in enumerate(q_embs):\n",
        "  if results[i] != \"No answer\":\n",
        "    res = F.cosine_similarity(q, results_embs[i], dim=-1).sort(descending=True)\n",
        "    cs_ranks.append(res[1][0].item())\n",
        "  else:\n",
        "    cs_ranks.append(None)"
      ]
    },
    {
      "cell_type": "markdown",
      "metadata": {
        "id": "6djry1hoh8R6"
      },
      "source": [
        "For 16 of the 33 questions, the context with the highest cosine similarity with the question was also the highest BM25-ranked keyword search result. 24/33 highest cosine similarity results were top-3 BM25-ranked chunkcs. For 6 out of 33 questions, the highest cosine similarity was for a context that was not top-3 BM25 ranked."
      ]
    },
    {
      "cell_type": "code",
      "execution_count": 133,
      "metadata": {
        "colab": {
          "base_uri": "https://localhost:8080/",
          "height": 304
        },
        "id": "Tkjeeh6jgx_w",
        "outputId": "4acec6cd-c799-486e-ffd7-dfe17b8c6d12"
      },
      "outputs": [
        {
          "data": {
            "text/html": [
              "<div>\n",
              "<style scoped>\n",
              "    .dataframe tbody tr th:only-of-type {\n",
              "        vertical-align: middle;\n",
              "    }\n",
              "\n",
              "    .dataframe tbody tr th {\n",
              "        vertical-align: top;\n",
              "    }\n",
              "\n",
              "    .dataframe thead th {\n",
              "        text-align: right;\n",
              "    }\n",
              "</style>\n",
              "<table border=\"1\" class=\"dataframe\">\n",
              "  <thead>\n",
              "    <tr style=\"text-align: right;\">\n",
              "      <th></th>\n",
              "      <th>count</th>\n",
              "    </tr>\n",
              "  </thead>\n",
              "  <tbody>\n",
              "    <tr>\n",
              "      <th>0.0</th>\n",
              "      <td>16</td>\n",
              "    </tr>\n",
              "    <tr>\n",
              "      <th>1.0</th>\n",
              "      <td>5</td>\n",
              "    </tr>\n",
              "    <tr>\n",
              "      <th>2.0</th>\n",
              "      <td>3</td>\n",
              "    </tr>\n",
              "    <tr>\n",
              "      <th>8.0</th>\n",
              "      <td>2</td>\n",
              "    </tr>\n",
              "    <tr>\n",
              "      <th>4.0</th>\n",
              "      <td>2</td>\n",
              "    </tr>\n",
              "    <tr>\n",
              "      <th>7.0</th>\n",
              "      <td>1</td>\n",
              "    </tr>\n",
              "    <tr>\n",
              "      <th>3.0</th>\n",
              "      <td>1</td>\n",
              "    </tr>\n",
              "  </tbody>\n",
              "</table>\n",
              "</div><br><label><b>dtype:</b> int64</label>"
            ],
            "text/plain": [
              "0.0    16\n",
              "1.0     5\n",
              "2.0     3\n",
              "8.0     2\n",
              "4.0     2\n",
              "7.0     1\n",
              "3.0     1\n",
              "Name: count, dtype: int64"
            ]
          },
          "execution_count": 133,
          "metadata": {},
          "output_type": "execute_result"
        }
      ],
      "source": [
        "cs_ranks.value_counts()"
      ]
    },
    {
      "cell_type": "markdown",
      "metadata": {
        "id": "4QDTpTjgfhpQ"
      },
      "source": [
        "## Retrieving Top-3 Cosine Similarity of Top-10 BM25-Ranked Keyword Search Results"
      ]
    },
    {
      "cell_type": "markdown",
      "metadata": {
        "id": "TVB0sQVji1Fq"
      },
      "source": [
        "I'll now retrieve 3 chunks (for each question) that have the top-3 highest cosine similarity values. I expect this to improve my ability to answer questions."
      ]
    },
    {
      "cell_type": "code",
      "execution_count": 140,
      "metadata": {
        "id": "jcaDyd8RfMvr"
      },
      "outputs": [],
      "source": [
        "cs_results = []\n",
        "\n",
        "for i, q in enumerate(q_embs):\n",
        "  if results[i] != \"No answer\":\n",
        "    res = F.cosine_similarity(q, results_embs[i], dim=-1).sort(descending=True)\n",
        "    res = '\\n'.join([results[i][idx] for idx in res[1][:3]])\n",
        "    cs_results.append(res)\n",
        "  else:\n",
        "    cs_results.append('No answer')"
      ]
    },
    {
      "cell_type": "code",
      "execution_count": 143,
      "metadata": {
        "colab": {
          "base_uri": "https://localhost:8080/",
          "height": 196
        },
        "id": "0eEUvpCSkBQC",
        "outputId": "cf3c8fd0-4b8f-4ca3-d750-1ead0a0863d0"
      },
      "outputs": [
        {
          "data": {
            "application/vnd.google.colaboratory.intrinsic+json": {
              "summary": "{\n  \"name\": \"df\",\n  \"rows\": 33,\n  \"fields\": [\n    {\n      \"column\": \"chapter\",\n      \"properties\": {\n        \"dtype\": \"number\",\n        \"std\": 0,\n        \"min\": 1,\n        \"max\": 1,\n        \"num_unique_values\": 1,\n        \"samples\": [\n          1\n        ],\n        \"semantic_type\": \"\",\n        \"description\": \"\"\n      }\n    },\n    {\n      \"column\": \"question_number\",\n      \"properties\": {\n        \"dtype\": \"number\",\n        \"std\": 9,\n        \"min\": 1,\n        \"max\": 33,\n        \"num_unique_values\": 33,\n        \"samples\": [\n          32\n        ],\n        \"semantic_type\": \"\",\n        \"description\": \"\"\n      }\n    },\n    {\n      \"column\": \"question_text\",\n      \"properties\": {\n        \"dtype\": \"string\",\n        \"num_unique_values\": 33,\n        \"samples\": [\n          \"What are \\\"\\\"hyperparameters\\\"\\\"?\"\n        ],\n        \"semantic_type\": \"\",\n        \"description\": \"\"\n      }\n    },\n    {\n      \"column\": \"answer\",\n      \"properties\": {\n        \"dtype\": \"string\",\n        \"num_unique_values\": 31,\n        \"samples\": [\n          \"At its core, segmentation is a pixelwise classification problem. We attempt to predict a label for every single pixel in the image. This provides a mask for which parts of the image correspond to the given label.\"\n        ],\n        \"semantic_type\": \"\",\n        \"description\": \"\"\n      }\n    },\n    {\n      \"column\": \"keywords\",\n      \"properties\": {\n        \"dtype\": \"string\",\n        \"num_unique_values\": 31,\n        \"samples\": [\n          \"segmentation\"\n        ],\n        \"semantic_type\": \"\",\n        \"description\": \"\"\n      }\n    },\n    {\n      \"column\": \"retrieved_context\",\n      \"properties\": {\n        \"dtype\": \"string\",\n        \"num_unique_values\": 31,\n        \"samples\": [\n          \"## Deep Learning Is Not Just for Image Classification\\n\\nFor instance, let's talk about something that is critically important for autonomous vehicles: localizing objects in a picture. If a self-driving car doesn't know where a pedestrian is, then it doesn't know how to avoid one! Creating a model that can recognize the content of every individual pixel in an image is called *segmentation*. Here is how we can train a segmentation model with fastai, using a subset of the [*Camvid* dataset](http://www0.cs.ucl.ac.uk/staff/G.Brostow/papers/Brostow_2009-PRL.pdf) from the paper \\\"Semantic Object Classes in Video: A High-Definition Ground Truth Database\\\" by Gabruel J. Brostow, Julien Fauqueur, and Roberto Cipolla:\\n## Deep Learning Is Not Just for Image Classification\\n\\nWe are not even going to walk through this code line by line, because it is nearly identical to our previous example! (Although we will be doing a deep dive into segmentation models in <<chapter_arch_details>>, along with all of the other models that we are briefly introducing in this chapter, and many, many more.)\"\n        ],\n        \"semantic_type\": \"\",\n        \"description\": \"\"\n      }\n    }\n  ]\n}",
              "type": "dataframe",
              "variable_name": "df"
            },
            "text/html": [
              "\n",
              "  <div id=\"df-afc09024-0af7-45d2-97cc-ae499c73166f\" class=\"colab-df-container\">\n",
              "    <div>\n",
              "<style scoped>\n",
              "    .dataframe tbody tr th:only-of-type {\n",
              "        vertical-align: middle;\n",
              "    }\n",
              "\n",
              "    .dataframe tbody tr th {\n",
              "        vertical-align: top;\n",
              "    }\n",
              "\n",
              "    .dataframe thead th {\n",
              "        text-align: right;\n",
              "    }\n",
              "</style>\n",
              "<table border=\"1\" class=\"dataframe\">\n",
              "  <thead>\n",
              "    <tr style=\"text-align: right;\">\n",
              "      <th></th>\n",
              "      <th>chapter</th>\n",
              "      <th>question_number</th>\n",
              "      <th>question_text</th>\n",
              "      <th>answer</th>\n",
              "      <th>keywords</th>\n",
              "      <th>retrieved_context</th>\n",
              "    </tr>\n",
              "  </thead>\n",
              "  <tbody>\n",
              "    <tr>\n",
              "      <th>0</th>\n",
              "      <td>1</td>\n",
              "      <td>1</td>\n",
              "      <td>Do you need these for deep learning?\\\\n\\\\n- Lo...</td>\n",
              "      <td>Lots of math - False\\\\nLots of data - False\\\\n...</td>\n",
              "      <td>math, data, expensive computers, PhD</td>\n",
              "      <td>## Deep Learning Is for Everyone\\n\\n```asciido...</td>\n",
              "    </tr>\n",
              "    <tr>\n",
              "      <th>1</th>\n",
              "      <td>1</td>\n",
              "      <td>2</td>\n",
              "      <td>Name five areas where deep learning is now the...</td>\n",
              "      <td>Any five of the following:\\\\nNatural Language ...</td>\n",
              "      <td>deep learning, state of the art, best, world</td>\n",
              "      <td>## Deep Learning Is for Everyone\\n\\nHere's a l...</td>\n",
              "    </tr>\n",
              "    <tr>\n",
              "      <th>2</th>\n",
              "      <td>1</td>\n",
              "      <td>3</td>\n",
              "      <td>What was the name of the first device that was...</td>\n",
              "      <td>Mark I perceptron built by Frank Rosenblatt</td>\n",
              "      <td>first, device, artificial, neuron</td>\n",
              "      <td>## Neural Networks: A Brief History\\n\\nRosenbl...</td>\n",
              "    </tr>\n",
              "  </tbody>\n",
              "</table>\n",
              "</div>\n",
              "    <div class=\"colab-df-buttons\">\n",
              "\n",
              "  <div class=\"colab-df-container\">\n",
              "    <button class=\"colab-df-convert\" onclick=\"convertToInteractive('df-afc09024-0af7-45d2-97cc-ae499c73166f')\"\n",
              "            title=\"Convert this dataframe to an interactive table.\"\n",
              "            style=\"display:none;\">\n",
              "\n",
              "  <svg xmlns=\"http://www.w3.org/2000/svg\" height=\"24px\" viewBox=\"0 -960 960 960\">\n",
              "    <path d=\"M120-120v-720h720v720H120Zm60-500h600v-160H180v160Zm220 220h160v-160H400v160Zm0 220h160v-160H400v160ZM180-400h160v-160H180v160Zm440 0h160v-160H620v160ZM180-180h160v-160H180v160Zm440 0h160v-160H620v160Z\"/>\n",
              "  </svg>\n",
              "    </button>\n",
              "\n",
              "  <style>\n",
              "    .colab-df-container {\n",
              "      display:flex;\n",
              "      gap: 12px;\n",
              "    }\n",
              "\n",
              "    .colab-df-convert {\n",
              "      background-color: #E8F0FE;\n",
              "      border: none;\n",
              "      border-radius: 50%;\n",
              "      cursor: pointer;\n",
              "      display: none;\n",
              "      fill: #1967D2;\n",
              "      height: 32px;\n",
              "      padding: 0 0 0 0;\n",
              "      width: 32px;\n",
              "    }\n",
              "\n",
              "    .colab-df-convert:hover {\n",
              "      background-color: #E2EBFA;\n",
              "      box-shadow: 0px 1px 2px rgba(60, 64, 67, 0.3), 0px 1px 3px 1px rgba(60, 64, 67, 0.15);\n",
              "      fill: #174EA6;\n",
              "    }\n",
              "\n",
              "    .colab-df-buttons div {\n",
              "      margin-bottom: 4px;\n",
              "    }\n",
              "\n",
              "    [theme=dark] .colab-df-convert {\n",
              "      background-color: #3B4455;\n",
              "      fill: #D2E3FC;\n",
              "    }\n",
              "\n",
              "    [theme=dark] .colab-df-convert:hover {\n",
              "      background-color: #434B5C;\n",
              "      box-shadow: 0px 1px 3px 1px rgba(0, 0, 0, 0.15);\n",
              "      filter: drop-shadow(0px 1px 2px rgba(0, 0, 0, 0.3));\n",
              "      fill: #FFFFFF;\n",
              "    }\n",
              "  </style>\n",
              "\n",
              "    <script>\n",
              "      const buttonEl =\n",
              "        document.querySelector('#df-afc09024-0af7-45d2-97cc-ae499c73166f button.colab-df-convert');\n",
              "      buttonEl.style.display =\n",
              "        google.colab.kernel.accessAllowed ? 'block' : 'none';\n",
              "\n",
              "      async function convertToInteractive(key) {\n",
              "        const element = document.querySelector('#df-afc09024-0af7-45d2-97cc-ae499c73166f');\n",
              "        const dataTable =\n",
              "          await google.colab.kernel.invokeFunction('convertToInteractive',\n",
              "                                                    [key], {});\n",
              "        if (!dataTable) return;\n",
              "\n",
              "        const docLinkHtml = 'Like what you see? Visit the ' +\n",
              "          '<a target=\"_blank\" href=https://colab.research.google.com/notebooks/data_table.ipynb>data table notebook</a>'\n",
              "          + ' to learn more about interactive tables.';\n",
              "        element.innerHTML = '';\n",
              "        dataTable['output_type'] = 'display_data';\n",
              "        await google.colab.output.renderOutput(dataTable, element);\n",
              "        const docLink = document.createElement('div');\n",
              "        docLink.innerHTML = docLinkHtml;\n",
              "        element.appendChild(docLink);\n",
              "      }\n",
              "    </script>\n",
              "  </div>\n",
              "\n",
              "\n",
              "<div id=\"df-dbfebe0c-2cb8-42ef-bb56-4c6ee54f4e51\">\n",
              "  <button class=\"colab-df-quickchart\" onclick=\"quickchart('df-dbfebe0c-2cb8-42ef-bb56-4c6ee54f4e51')\"\n",
              "            title=\"Suggest charts\"\n",
              "            style=\"display:none;\">\n",
              "\n",
              "<svg xmlns=\"http://www.w3.org/2000/svg\" height=\"24px\"viewBox=\"0 0 24 24\"\n",
              "     width=\"24px\">\n",
              "    <g>\n",
              "        <path d=\"M19 3H5c-1.1 0-2 .9-2 2v14c0 1.1.9 2 2 2h14c1.1 0 2-.9 2-2V5c0-1.1-.9-2-2-2zM9 17H7v-7h2v7zm4 0h-2V7h2v10zm4 0h-2v-4h2v4z\"/>\n",
              "    </g>\n",
              "</svg>\n",
              "  </button>\n",
              "\n",
              "<style>\n",
              "  .colab-df-quickchart {\n",
              "      --bg-color: #E8F0FE;\n",
              "      --fill-color: #1967D2;\n",
              "      --hover-bg-color: #E2EBFA;\n",
              "      --hover-fill-color: #174EA6;\n",
              "      --disabled-fill-color: #AAA;\n",
              "      --disabled-bg-color: #DDD;\n",
              "  }\n",
              "\n",
              "  [theme=dark] .colab-df-quickchart {\n",
              "      --bg-color: #3B4455;\n",
              "      --fill-color: #D2E3FC;\n",
              "      --hover-bg-color: #434B5C;\n",
              "      --hover-fill-color: #FFFFFF;\n",
              "      --disabled-bg-color: #3B4455;\n",
              "      --disabled-fill-color: #666;\n",
              "  }\n",
              "\n",
              "  .colab-df-quickchart {\n",
              "    background-color: var(--bg-color);\n",
              "    border: none;\n",
              "    border-radius: 50%;\n",
              "    cursor: pointer;\n",
              "    display: none;\n",
              "    fill: var(--fill-color);\n",
              "    height: 32px;\n",
              "    padding: 0;\n",
              "    width: 32px;\n",
              "  }\n",
              "\n",
              "  .colab-df-quickchart:hover {\n",
              "    background-color: var(--hover-bg-color);\n",
              "    box-shadow: 0 1px 2px rgba(60, 64, 67, 0.3), 0 1px 3px 1px rgba(60, 64, 67, 0.15);\n",
              "    fill: var(--button-hover-fill-color);\n",
              "  }\n",
              "\n",
              "  .colab-df-quickchart-complete:disabled,\n",
              "  .colab-df-quickchart-complete:disabled:hover {\n",
              "    background-color: var(--disabled-bg-color);\n",
              "    fill: var(--disabled-fill-color);\n",
              "    box-shadow: none;\n",
              "  }\n",
              "\n",
              "  .colab-df-spinner {\n",
              "    border: 2px solid var(--fill-color);\n",
              "    border-color: transparent;\n",
              "    border-bottom-color: var(--fill-color);\n",
              "    animation:\n",
              "      spin 1s steps(1) infinite;\n",
              "  }\n",
              "\n",
              "  @keyframes spin {\n",
              "    0% {\n",
              "      border-color: transparent;\n",
              "      border-bottom-color: var(--fill-color);\n",
              "      border-left-color: var(--fill-color);\n",
              "    }\n",
              "    20% {\n",
              "      border-color: transparent;\n",
              "      border-left-color: var(--fill-color);\n",
              "      border-top-color: var(--fill-color);\n",
              "    }\n",
              "    30% {\n",
              "      border-color: transparent;\n",
              "      border-left-color: var(--fill-color);\n",
              "      border-top-color: var(--fill-color);\n",
              "      border-right-color: var(--fill-color);\n",
              "    }\n",
              "    40% {\n",
              "      border-color: transparent;\n",
              "      border-right-color: var(--fill-color);\n",
              "      border-top-color: var(--fill-color);\n",
              "    }\n",
              "    60% {\n",
              "      border-color: transparent;\n",
              "      border-right-color: var(--fill-color);\n",
              "    }\n",
              "    80% {\n",
              "      border-color: transparent;\n",
              "      border-right-color: var(--fill-color);\n",
              "      border-bottom-color: var(--fill-color);\n",
              "    }\n",
              "    90% {\n",
              "      border-color: transparent;\n",
              "      border-bottom-color: var(--fill-color);\n",
              "    }\n",
              "  }\n",
              "</style>\n",
              "\n",
              "  <script>\n",
              "    async function quickchart(key) {\n",
              "      const quickchartButtonEl =\n",
              "        document.querySelector('#' + key + ' button');\n",
              "      quickchartButtonEl.disabled = true;  // To prevent multiple clicks.\n",
              "      quickchartButtonEl.classList.add('colab-df-spinner');\n",
              "      try {\n",
              "        const charts = await google.colab.kernel.invokeFunction(\n",
              "            'suggestCharts', [key], {});\n",
              "      } catch (error) {\n",
              "        console.error('Error during call to suggestCharts:', error);\n",
              "      }\n",
              "      quickchartButtonEl.classList.remove('colab-df-spinner');\n",
              "      quickchartButtonEl.classList.add('colab-df-quickchart-complete');\n",
              "    }\n",
              "    (() => {\n",
              "      let quickchartButtonEl =\n",
              "        document.querySelector('#df-dbfebe0c-2cb8-42ef-bb56-4c6ee54f4e51 button');\n",
              "      quickchartButtonEl.style.display =\n",
              "        google.colab.kernel.accessAllowed ? 'block' : 'none';\n",
              "    })();\n",
              "  </script>\n",
              "</div>\n",
              "\n",
              "    </div>\n",
              "  </div>\n"
            ],
            "text/plain": [
              "   chapter  question_number  \\\n",
              "0        1                1   \n",
              "1        1                2   \n",
              "2        1                3   \n",
              "\n",
              "                                       question_text  \\\n",
              "0  Do you need these for deep learning?\\\\n\\\\n- Lo...   \n",
              "1  Name five areas where deep learning is now the...   \n",
              "2  What was the name of the first device that was...   \n",
              "\n",
              "                                              answer  \\\n",
              "0  Lots of math - False\\\\nLots of data - False\\\\n...   \n",
              "1  Any five of the following:\\\\nNatural Language ...   \n",
              "2        Mark I perceptron built by Frank Rosenblatt   \n",
              "\n",
              "                                       keywords  \\\n",
              "0          math, data, expensive computers, PhD   \n",
              "1  deep learning, state of the art, best, world   \n",
              "2             first, device, artificial, neuron   \n",
              "\n",
              "                                   retrieved_context  \n",
              "0  ## Deep Learning Is for Everyone\\n\\n```asciido...  \n",
              "1  ## Deep Learning Is for Everyone\\n\\nHere's a l...  \n",
              "2  ## Neural Networks: A Brief History\\n\\nRosenbl...  "
            ]
          },
          "execution_count": 143,
          "metadata": {},
          "output_type": "execute_result"
        }
      ],
      "source": [
        "df['retrieved_context'] = pd.Series(cs_results)\n",
        "df.head(3)"
      ]
    },
    {
      "cell_type": "code",
      "execution_count": 144,
      "metadata": {
        "id": "V7ItbsG1kI9n"
      },
      "outputs": [],
      "source": [
        "df.to_csv('top3_top10_results.csv', index=False)"
      ]
    },
    {
      "cell_type": "markdown",
      "metadata": {
        "id": "rm-cVvIQlMAY"
      },
      "source": [
        "This approach slightly improves the performance. Now I can answer 19/33 or **58%** of the questions with the given retrieved context. This still underperforms each individual approach."
      ]
    },
    {
      "cell_type": "markdown",
      "metadata": {
        "id": "DXnld6uilhWI"
      },
      "source": [
        "## Concatenating Keyword Search Result Before Applying Cosine Similarity"
      ]
    },
    {
      "cell_type": "markdown",
      "metadata": {
        "id": "VOxvMDB8ltul"
      },
      "source": [
        "Next, I'll try a different approach: I'll concatenate, three at a time, keyword search results and then perform cosine similarity on those larger chunks. I'll pick the larger chunk with the highest cosine similarity.\n",
        "\n",
        "Since I'm concatenating 3 keyword search results at a time, I'll increase my `LIMIT` to `12` (a multiple of 3)."
      ]
    },
    {
      "cell_type": "code",
      "execution_count": 9,
      "metadata": {
        "id": "M9KobrAclspt"
      },
      "outputs": [],
      "source": [
        "#| code-fold: true\n",
        "#| code-summary: \"Show the for-loop + query\"\n",
        "\n",
        "results = []\n",
        "conn = sqlite3.connect('fastbook.db')\n",
        "cur = conn.cursor()\n",
        "\n",
        "for keywords in df['keywords']:\n",
        "  if keywords != 'No answer':\n",
        "    words = ' OR '.join([f'\"{word.strip(\",\")}\"' for word in keywords.split()])\n",
        "    q = f\"\"\"\n",
        "\n",
        "    SELECT *, rank\n",
        "      from fastbook_text\n",
        "    WHERE fastbook_text MATCH '{words}'\n",
        "    ORDER BY rank\n",
        "    LIMIT 12\n",
        "\n",
        "    \"\"\"\n",
        "\n",
        "    res = cur.execute(q).fetchall()\n",
        "    concatenated_chunks = []\n",
        "    for i in range(0, len(res), 3):\n",
        "        # Select three tuples at a time\n",
        "        chunk = res[i:i+3]\n",
        "        # Extract strings and concatenate them\n",
        "        concatenated_chunk = '\\n'.join([t[0] for t in chunk])\n",
        "        concatenated_chunks.append(concatenated_chunk)\n",
        "\n",
        "    results.append(concatenated_chunks)\n",
        "  else:\n",
        "    # if keywords == \"No Answer\"\n",
        "    res = \"No answer\"\n",
        "    results.append(res)"
      ]
    },
    {
      "cell_type": "code",
      "execution_count": 10,
      "metadata": {
        "colab": {
          "base_uri": "https://localhost:8080/"
        },
        "id": "iWBeo2jxnZ-h",
        "outputId": "d70e0355-4a61-4b06-e0a6-ce6916f3b802"
      },
      "outputs": [
        {
          "data": {
            "text/plain": [
              "33"
            ]
          },
          "execution_count": 10,
          "metadata": {},
          "output_type": "execute_result"
        }
      ],
      "source": [
        "len(results)"
      ]
    },
    {
      "cell_type": "code",
      "execution_count": 13,
      "metadata": {
        "id": "tlGQ9nYLovSs"
      },
      "outputs": [],
      "source": [
        "#| code-fold: true\n",
        "#| code-summary: \"Show the embedding of results\"\n",
        "\n",
        "results_embs = {}\n",
        "\n",
        "for idx, sublist in enumerate(results):\n",
        "  results_embs[idx] = emb_model.encode(sublist, convert_to_tensor=True)"
      ]
    },
    {
      "cell_type": "code",
      "execution_count": 19,
      "metadata": {
        "id": "gQQAP-21ntwR"
      },
      "outputs": [],
      "source": [
        "cs_results = []\n",
        "\n",
        "for i, q in enumerate(q_embs):\n",
        "  if results[i] != \"No answer\":\n",
        "    res = F.cosine_similarity(q, results_embs[i], dim=-1).sort(descending=True)\n",
        "    cs_results.append(results[i][res[1][0]])\n",
        "  else:\n",
        "    cs_results.append('No answer')"
      ]
    },
    {
      "cell_type": "code",
      "execution_count": 20,
      "metadata": {
        "colab": {
          "base_uri": "https://localhost:8080/"
        },
        "id": "uXVs14B3ohv_",
        "outputId": "1ec71b4c-da09-4ea0-c256-a90ea2ae7d03"
      },
      "outputs": [
        {
          "data": {
            "text/plain": [
              "33"
            ]
          },
          "execution_count": 20,
          "metadata": {},
          "output_type": "execute_result"
        }
      ],
      "source": [
        "len(cs_results)"
      ]
    },
    {
      "cell_type": "code",
      "execution_count": 21,
      "metadata": {
        "colab": {
          "base_uri": "https://localhost:8080/",
          "height": 196
        },
        "id": "DIxrehzdobef",
        "outputId": "784f9299-3018-4825-ec80-9c308d688deb"
      },
      "outputs": [
        {
          "data": {
            "application/vnd.google.colaboratory.intrinsic+json": {
              "summary": "{\n  \"name\": \"df\",\n  \"rows\": 33,\n  \"fields\": [\n    {\n      \"column\": \"chapter\",\n      \"properties\": {\n        \"dtype\": \"number\",\n        \"std\": 0,\n        \"min\": 1,\n        \"max\": 1,\n        \"num_unique_values\": 1,\n        \"samples\": [\n          1\n        ],\n        \"semantic_type\": \"\",\n        \"description\": \"\"\n      }\n    },\n    {\n      \"column\": \"question_number\",\n      \"properties\": {\n        \"dtype\": \"number\",\n        \"std\": 9,\n        \"min\": 1,\n        \"max\": 33,\n        \"num_unique_values\": 33,\n        \"samples\": [\n          32\n        ],\n        \"semantic_type\": \"\",\n        \"description\": \"\"\n      }\n    },\n    {\n      \"column\": \"question_text\",\n      \"properties\": {\n        \"dtype\": \"string\",\n        \"num_unique_values\": 33,\n        \"samples\": [\n          \"What are \\\"\\\"hyperparameters\\\"\\\"?\"\n        ],\n        \"semantic_type\": \"\",\n        \"description\": \"\"\n      }\n    },\n    {\n      \"column\": \"answer\",\n      \"properties\": {\n        \"dtype\": \"string\",\n        \"num_unique_values\": 31,\n        \"samples\": [\n          \"At its core, segmentation is a pixelwise classification problem. We attempt to predict a label for every single pixel in the image. This provides a mask for which parts of the image correspond to the given label.\"\n        ],\n        \"semantic_type\": \"\",\n        \"description\": \"\"\n      }\n    },\n    {\n      \"column\": \"keywords\",\n      \"properties\": {\n        \"dtype\": \"string\",\n        \"num_unique_values\": 31,\n        \"samples\": [\n          \"segmentation\"\n        ],\n        \"semantic_type\": \"\",\n        \"description\": \"\"\n      }\n    },\n    {\n      \"column\": \"retrieved_context\",\n      \"properties\": {\n        \"dtype\": \"string\",\n        \"num_unique_values\": 31,\n        \"samples\": [\n          \"## Deep Learning Is Not Just for Image Classification\\n\\nFor instance, let's talk about something that is critically important for autonomous vehicles: localizing objects in a picture. If a self-driving car doesn't know where a pedestrian is, then it doesn't know how to avoid one! Creating a model that can recognize the content of every individual pixel in an image is called *segmentation*. Here is how we can train a segmentation model with fastai, using a subset of the [*Camvid* dataset](http://www0.cs.ucl.ac.uk/staff/G.Brostow/papers/Brostow_2009-PRL.pdf) from the paper \\\"Semantic Object Classes in Video: A High-Definition Ground Truth Database\\\" by Gabruel J. Brostow, Julien Fauqueur, and Roberto Cipolla:\\n## Deep Learning Is Not Just for Image Classification\\n\\nWe are not even going to walk through this code line by line, because it is nearly identical to our previous example! (Although we will be doing a deep dive into segmentation models in <<chapter_arch_details>>, along with all of the other models that we are briefly introducing in this chapter, and many, many more.)\"\n        ],\n        \"semantic_type\": \"\",\n        \"description\": \"\"\n      }\n    }\n  ]\n}",
              "type": "dataframe",
              "variable_name": "df"
            },
            "text/html": [
              "\n",
              "  <div id=\"df-9d524817-10a9-416f-a781-6c9f0ca81ffe\" class=\"colab-df-container\">\n",
              "    <div>\n",
              "<style scoped>\n",
              "    .dataframe tbody tr th:only-of-type {\n",
              "        vertical-align: middle;\n",
              "    }\n",
              "\n",
              "    .dataframe tbody tr th {\n",
              "        vertical-align: top;\n",
              "    }\n",
              "\n",
              "    .dataframe thead th {\n",
              "        text-align: right;\n",
              "    }\n",
              "</style>\n",
              "<table border=\"1\" class=\"dataframe\">\n",
              "  <thead>\n",
              "    <tr style=\"text-align: right;\">\n",
              "      <th></th>\n",
              "      <th>chapter</th>\n",
              "      <th>question_number</th>\n",
              "      <th>question_text</th>\n",
              "      <th>answer</th>\n",
              "      <th>keywords</th>\n",
              "      <th>retrieved_context</th>\n",
              "    </tr>\n",
              "  </thead>\n",
              "  <tbody>\n",
              "    <tr>\n",
              "      <th>0</th>\n",
              "      <td>1</td>\n",
              "      <td>1</td>\n",
              "      <td>Do you need these for deep learning?\\\\n\\\\n- Lo...</td>\n",
              "      <td>Lots of math - False\\\\nLots of data - False\\\\n...</td>\n",
              "      <td>math, data, expensive computers, PhD</td>\n",
              "      <td>## Deep Learning Is for Everyone\\n\\n```asciido...</td>\n",
              "    </tr>\n",
              "    <tr>\n",
              "      <th>1</th>\n",
              "      <td>1</td>\n",
              "      <td>2</td>\n",
              "      <td>Name five areas where deep learning is now the...</td>\n",
              "      <td>Any five of the following:\\\\nNatural Language ...</td>\n",
              "      <td>deep learning, state of the art, best, world</td>\n",
              "      <td>## Deep Learning Is for Everyone\\n\\nHere's a l...</td>\n",
              "    </tr>\n",
              "    <tr>\n",
              "      <th>2</th>\n",
              "      <td>1</td>\n",
              "      <td>3</td>\n",
              "      <td>What was the name of the first device that was...</td>\n",
              "      <td>Mark I perceptron built by Frank Rosenblatt</td>\n",
              "      <td>first, device, artificial, neuron</td>\n",
              "      <td>## Neural Networks: A Brief History\\n\\n&lt;img al...</td>\n",
              "    </tr>\n",
              "  </tbody>\n",
              "</table>\n",
              "</div>\n",
              "    <div class=\"colab-df-buttons\">\n",
              "\n",
              "  <div class=\"colab-df-container\">\n",
              "    <button class=\"colab-df-convert\" onclick=\"convertToInteractive('df-9d524817-10a9-416f-a781-6c9f0ca81ffe')\"\n",
              "            title=\"Convert this dataframe to an interactive table.\"\n",
              "            style=\"display:none;\">\n",
              "\n",
              "  <svg xmlns=\"http://www.w3.org/2000/svg\" height=\"24px\" viewBox=\"0 -960 960 960\">\n",
              "    <path d=\"M120-120v-720h720v720H120Zm60-500h600v-160H180v160Zm220 220h160v-160H400v160Zm0 220h160v-160H400v160ZM180-400h160v-160H180v160Zm440 0h160v-160H620v160ZM180-180h160v-160H180v160Zm440 0h160v-160H620v160Z\"/>\n",
              "  </svg>\n",
              "    </button>\n",
              "\n",
              "  <style>\n",
              "    .colab-df-container {\n",
              "      display:flex;\n",
              "      gap: 12px;\n",
              "    }\n",
              "\n",
              "    .colab-df-convert {\n",
              "      background-color: #E8F0FE;\n",
              "      border: none;\n",
              "      border-radius: 50%;\n",
              "      cursor: pointer;\n",
              "      display: none;\n",
              "      fill: #1967D2;\n",
              "      height: 32px;\n",
              "      padding: 0 0 0 0;\n",
              "      width: 32px;\n",
              "    }\n",
              "\n",
              "    .colab-df-convert:hover {\n",
              "      background-color: #E2EBFA;\n",
              "      box-shadow: 0px 1px 2px rgba(60, 64, 67, 0.3), 0px 1px 3px 1px rgba(60, 64, 67, 0.15);\n",
              "      fill: #174EA6;\n",
              "    }\n",
              "\n",
              "    .colab-df-buttons div {\n",
              "      margin-bottom: 4px;\n",
              "    }\n",
              "\n",
              "    [theme=dark] .colab-df-convert {\n",
              "      background-color: #3B4455;\n",
              "      fill: #D2E3FC;\n",
              "    }\n",
              "\n",
              "    [theme=dark] .colab-df-convert:hover {\n",
              "      background-color: #434B5C;\n",
              "      box-shadow: 0px 1px 3px 1px rgba(0, 0, 0, 0.15);\n",
              "      filter: drop-shadow(0px 1px 2px rgba(0, 0, 0, 0.3));\n",
              "      fill: #FFFFFF;\n",
              "    }\n",
              "  </style>\n",
              "\n",
              "    <script>\n",
              "      const buttonEl =\n",
              "        document.querySelector('#df-9d524817-10a9-416f-a781-6c9f0ca81ffe button.colab-df-convert');\n",
              "      buttonEl.style.display =\n",
              "        google.colab.kernel.accessAllowed ? 'block' : 'none';\n",
              "\n",
              "      async function convertToInteractive(key) {\n",
              "        const element = document.querySelector('#df-9d524817-10a9-416f-a781-6c9f0ca81ffe');\n",
              "        const dataTable =\n",
              "          await google.colab.kernel.invokeFunction('convertToInteractive',\n",
              "                                                    [key], {});\n",
              "        if (!dataTable) return;\n",
              "\n",
              "        const docLinkHtml = 'Like what you see? Visit the ' +\n",
              "          '<a target=\"_blank\" href=https://colab.research.google.com/notebooks/data_table.ipynb>data table notebook</a>'\n",
              "          + ' to learn more about interactive tables.';\n",
              "        element.innerHTML = '';\n",
              "        dataTable['output_type'] = 'display_data';\n",
              "        await google.colab.output.renderOutput(dataTable, element);\n",
              "        const docLink = document.createElement('div');\n",
              "        docLink.innerHTML = docLinkHtml;\n",
              "        element.appendChild(docLink);\n",
              "      }\n",
              "    </script>\n",
              "  </div>\n",
              "\n",
              "\n",
              "<div id=\"df-49104932-051f-4884-a19c-435fa14aabbc\">\n",
              "  <button class=\"colab-df-quickchart\" onclick=\"quickchart('df-49104932-051f-4884-a19c-435fa14aabbc')\"\n",
              "            title=\"Suggest charts\"\n",
              "            style=\"display:none;\">\n",
              "\n",
              "<svg xmlns=\"http://www.w3.org/2000/svg\" height=\"24px\"viewBox=\"0 0 24 24\"\n",
              "     width=\"24px\">\n",
              "    <g>\n",
              "        <path d=\"M19 3H5c-1.1 0-2 .9-2 2v14c0 1.1.9 2 2 2h14c1.1 0 2-.9 2-2V5c0-1.1-.9-2-2-2zM9 17H7v-7h2v7zm4 0h-2V7h2v10zm4 0h-2v-4h2v4z\"/>\n",
              "    </g>\n",
              "</svg>\n",
              "  </button>\n",
              "\n",
              "<style>\n",
              "  .colab-df-quickchart {\n",
              "      --bg-color: #E8F0FE;\n",
              "      --fill-color: #1967D2;\n",
              "      --hover-bg-color: #E2EBFA;\n",
              "      --hover-fill-color: #174EA6;\n",
              "      --disabled-fill-color: #AAA;\n",
              "      --disabled-bg-color: #DDD;\n",
              "  }\n",
              "\n",
              "  [theme=dark] .colab-df-quickchart {\n",
              "      --bg-color: #3B4455;\n",
              "      --fill-color: #D2E3FC;\n",
              "      --hover-bg-color: #434B5C;\n",
              "      --hover-fill-color: #FFFFFF;\n",
              "      --disabled-bg-color: #3B4455;\n",
              "      --disabled-fill-color: #666;\n",
              "  }\n",
              "\n",
              "  .colab-df-quickchart {\n",
              "    background-color: var(--bg-color);\n",
              "    border: none;\n",
              "    border-radius: 50%;\n",
              "    cursor: pointer;\n",
              "    display: none;\n",
              "    fill: var(--fill-color);\n",
              "    height: 32px;\n",
              "    padding: 0;\n",
              "    width: 32px;\n",
              "  }\n",
              "\n",
              "  .colab-df-quickchart:hover {\n",
              "    background-color: var(--hover-bg-color);\n",
              "    box-shadow: 0 1px 2px rgba(60, 64, 67, 0.3), 0 1px 3px 1px rgba(60, 64, 67, 0.15);\n",
              "    fill: var(--button-hover-fill-color);\n",
              "  }\n",
              "\n",
              "  .colab-df-quickchart-complete:disabled,\n",
              "  .colab-df-quickchart-complete:disabled:hover {\n",
              "    background-color: var(--disabled-bg-color);\n",
              "    fill: var(--disabled-fill-color);\n",
              "    box-shadow: none;\n",
              "  }\n",
              "\n",
              "  .colab-df-spinner {\n",
              "    border: 2px solid var(--fill-color);\n",
              "    border-color: transparent;\n",
              "    border-bottom-color: var(--fill-color);\n",
              "    animation:\n",
              "      spin 1s steps(1) infinite;\n",
              "  }\n",
              "\n",
              "  @keyframes spin {\n",
              "    0% {\n",
              "      border-color: transparent;\n",
              "      border-bottom-color: var(--fill-color);\n",
              "      border-left-color: var(--fill-color);\n",
              "    }\n",
              "    20% {\n",
              "      border-color: transparent;\n",
              "      border-left-color: var(--fill-color);\n",
              "      border-top-color: var(--fill-color);\n",
              "    }\n",
              "    30% {\n",
              "      border-color: transparent;\n",
              "      border-left-color: var(--fill-color);\n",
              "      border-top-color: var(--fill-color);\n",
              "      border-right-color: var(--fill-color);\n",
              "    }\n",
              "    40% {\n",
              "      border-color: transparent;\n",
              "      border-right-color: var(--fill-color);\n",
              "      border-top-color: var(--fill-color);\n",
              "    }\n",
              "    60% {\n",
              "      border-color: transparent;\n",
              "      border-right-color: var(--fill-color);\n",
              "    }\n",
              "    80% {\n",
              "      border-color: transparent;\n",
              "      border-right-color: var(--fill-color);\n",
              "      border-bottom-color: var(--fill-color);\n",
              "    }\n",
              "    90% {\n",
              "      border-color: transparent;\n",
              "      border-bottom-color: var(--fill-color);\n",
              "    }\n",
              "  }\n",
              "</style>\n",
              "\n",
              "  <script>\n",
              "    async function quickchart(key) {\n",
              "      const quickchartButtonEl =\n",
              "        document.querySelector('#' + key + ' button');\n",
              "      quickchartButtonEl.disabled = true;  // To prevent multiple clicks.\n",
              "      quickchartButtonEl.classList.add('colab-df-spinner');\n",
              "      try {\n",
              "        const charts = await google.colab.kernel.invokeFunction(\n",
              "            'suggestCharts', [key], {});\n",
              "      } catch (error) {\n",
              "        console.error('Error during call to suggestCharts:', error);\n",
              "      }\n",
              "      quickchartButtonEl.classList.remove('colab-df-spinner');\n",
              "      quickchartButtonEl.classList.add('colab-df-quickchart-complete');\n",
              "    }\n",
              "    (() => {\n",
              "      let quickchartButtonEl =\n",
              "        document.querySelector('#df-49104932-051f-4884-a19c-435fa14aabbc button');\n",
              "      quickchartButtonEl.style.display =\n",
              "        google.colab.kernel.accessAllowed ? 'block' : 'none';\n",
              "    })();\n",
              "  </script>\n",
              "</div>\n",
              "\n",
              "    </div>\n",
              "  </div>\n"
            ],
            "text/plain": [
              "   chapter  question_number  \\\n",
              "0        1                1   \n",
              "1        1                2   \n",
              "2        1                3   \n",
              "\n",
              "                                       question_text  \\\n",
              "0  Do you need these for deep learning?\\\\n\\\\n- Lo...   \n",
              "1  Name five areas where deep learning is now the...   \n",
              "2  What was the name of the first device that was...   \n",
              "\n",
              "                                              answer  \\\n",
              "0  Lots of math - False\\\\nLots of data - False\\\\n...   \n",
              "1  Any five of the following:\\\\nNatural Language ...   \n",
              "2        Mark I perceptron built by Frank Rosenblatt   \n",
              "\n",
              "                                       keywords  \\\n",
              "0          math, data, expensive computers, PhD   \n",
              "1  deep learning, state of the art, best, world   \n",
              "2             first, device, artificial, neuron   \n",
              "\n",
              "                                   retrieved_context  \n",
              "0  ## Deep Learning Is for Everyone\\n\\n```asciido...  \n",
              "1  ## Deep Learning Is for Everyone\\n\\nHere's a l...  \n",
              "2  ## Neural Networks: A Brief History\\n\\n<img al...  "
            ]
          },
          "execution_count": 21,
          "metadata": {},
          "output_type": "execute_result"
        }
      ],
      "source": [
        "df['retrieved_context'] = pd.Series(cs_results)\n",
        "df.head(3)"
      ]
    },
    {
      "cell_type": "code",
      "execution_count": 22,
      "metadata": {
        "id": "ovZ0o3-W6tCR"
      },
      "outputs": [],
      "source": [
        "df.to_csv('top1_group-by-3_results.csv', index=False)"
      ]
    },
    {
      "cell_type": "markdown",
      "metadata": {
        "id": "q4cR2VeR9Z43"
      },
      "source": [
        "This approach led to a worse performance: I was able to answer only 16 out of the 33 questions, or **48%**."
      ]
    },
    {
      "cell_type": "markdown",
      "metadata": {
        "id": "oMoHnq6t9kez"
      },
      "source": [
        "## Storing Larger Chunks in the Database"
      ]
    },
    {
      "cell_type": "markdown",
      "metadata": {
        "id": "k_2QjkQd9ss5"
      },
      "source": [
        "So far, I haven't been able to beat the individual performance of full text search or cosine similarity. I'll try something that improved full text search: storing larger chunks of data. To do this, I'll concatenate three paragraphs at a time before loading them into the database:"
      ]
    },
    {
      "cell_type": "code",
      "execution_count": 24,
      "metadata": {
        "colab": {
          "base_uri": "https://localhost:8080/"
        },
        "id": "zmczIeVT9feM",
        "outputId": "b4032a5a-4c61-45e9-c547-94a7d63b84a5"
      },
      "outputs": [
        {
          "data": {
            "text/plain": [
              "103"
            ]
          },
          "execution_count": 24,
          "metadata": {},
          "output_type": "execute_result"
        }
      ],
      "source": [
        "larger_chunks = [\"\\n\".join(filtered_chunks[i:i+3]) for i in range(0, len(filtered_chunks), 3)]\n",
        "len(larger_chunks)"
      ]
    },
    {
      "cell_type": "markdown",
      "metadata": {
        "id": "DyayT9lvmsvt"
      },
      "source": [
        "Note that I'm just deleting my sqlite database file and recreating from scratch when I run `load_data`:"
      ]
    },
    {
      "cell_type": "code",
      "execution_count": 27,
      "metadata": {
        "colab": {
          "base_uri": "https://localhost:8080/"
        },
        "id": "M4nfygZ--B4o",
        "outputId": "2e1850b3-cce0-4d8e-9e46-7c8824b3fbdf"
      },
      "outputs": [
        {
          "data": {
            "text/plain": [
              "True"
            ]
          },
          "execution_count": 27,
          "metadata": {},
          "output_type": "execute_result"
        }
      ],
      "source": [
        "load_data(larger_chunks)"
      ]
    },
    {
      "cell_type": "code",
      "execution_count": 28,
      "metadata": {
        "id": "l2XMNZ1J-V6v"
      },
      "outputs": [],
      "source": [
        "#| code-fold: true\n",
        "#| code-summary: \"Show the for-loop + query\"\n",
        "\n",
        "results = []\n",
        "conn = sqlite3.connect('fastbook.db')\n",
        "cur = conn.cursor()\n",
        "\n",
        "for keywords in df['keywords']:\n",
        "  if keywords != 'No answer':\n",
        "    words = ' OR '.join([f'\"{word.strip(\",\")}\"' for word in keywords.split()])\n",
        "    q = f\"\"\"\n",
        "\n",
        "    SELECT *, rank\n",
        "      from fastbook_text\n",
        "    WHERE fastbook_text MATCH '{words}'\n",
        "    ORDER BY rank\n",
        "    LIMIT 10\n",
        "\n",
        "    \"\"\"\n",
        "    res = cur.execute(q).fetchall()\n",
        "    res = [item[0] for item in res]\n",
        "    results.append(res)\n",
        "  else:\n",
        "    # if keywords == \"No Answer\"\n",
        "    res = \"No answer\"\n",
        "    results.append(res)"
      ]
    },
    {
      "cell_type": "code",
      "execution_count": 29,
      "metadata": {
        "colab": {
          "base_uri": "https://localhost:8080/"
        },
        "id": "E0LK33xE-ZNE",
        "outputId": "7450800b-78aa-4b54-b43d-147d6fc86b55"
      },
      "outputs": [
        {
          "data": {
            "text/plain": [
              "33"
            ]
          },
          "execution_count": 29,
          "metadata": {},
          "output_type": "execute_result"
        }
      ],
      "source": [
        "len(results)"
      ]
    },
    {
      "cell_type": "code",
      "execution_count": 34,
      "metadata": {
        "id": "cCctntgP-djQ"
      },
      "outputs": [],
      "source": [
        "#| code-fold: true\n",
        "#| code-summary: \"Show the cosine similarity code\"\n",
        "\n",
        "results_embs = {}\n",
        "\n",
        "for idx, sublist in enumerate(results):\n",
        "  results_embs[idx] = emb_model.encode(sublist, convert_to_tensor=True)\n",
        "\n",
        "cs_results = []\n",
        "\n",
        "for i, q in enumerate(q_embs):\n",
        "  if results[i] != \"No answer\":\n",
        "    res = F.cosine_similarity(q, results_embs[i], dim=-1).sort(descending=True)\n",
        "    cs_results.append(results[i][res[1][0]])\n",
        "  else:\n",
        "    cs_results.append('No answer')"
      ]
    },
    {
      "cell_type": "code",
      "execution_count": 35,
      "metadata": {
        "colab": {
          "base_uri": "https://localhost:8080/"
        },
        "id": "G4JYF7aC-z26",
        "outputId": "18d6775b-ec94-4acf-cd66-6b5f9edf5c6e"
      },
      "outputs": [
        {
          "data": {
            "text/plain": [
              "33"
            ]
          },
          "execution_count": 35,
          "metadata": {},
          "output_type": "execute_result"
        }
      ],
      "source": [
        "len(cs_results)"
      ]
    },
    {
      "cell_type": "code",
      "execution_count": 36,
      "metadata": {
        "colab": {
          "base_uri": "https://localhost:8080/",
          "height": 196
        },
        "id": "W3rWwcrz_hrN",
        "outputId": "7b0d5eb4-45f1-4bf5-803c-d8f36dfb91aa"
      },
      "outputs": [
        {
          "data": {
            "application/vnd.google.colaboratory.intrinsic+json": {
              "summary": "{\n  \"name\": \"df\",\n  \"rows\": 33,\n  \"fields\": [\n    {\n      \"column\": \"chapter\",\n      \"properties\": {\n        \"dtype\": \"number\",\n        \"std\": 0,\n        \"min\": 1,\n        \"max\": 1,\n        \"num_unique_values\": 1,\n        \"samples\": [\n          1\n        ],\n        \"semantic_type\": \"\",\n        \"description\": \"\"\n      }\n    },\n    {\n      \"column\": \"question_number\",\n      \"properties\": {\n        \"dtype\": \"number\",\n        \"std\": 9,\n        \"min\": 1,\n        \"max\": 33,\n        \"num_unique_values\": 33,\n        \"samples\": [\n          32\n        ],\n        \"semantic_type\": \"\",\n        \"description\": \"\"\n      }\n    },\n    {\n      \"column\": \"question_text\",\n      \"properties\": {\n        \"dtype\": \"string\",\n        \"num_unique_values\": 33,\n        \"samples\": [\n          \"What are \\\"\\\"hyperparameters\\\"\\\"?\"\n        ],\n        \"semantic_type\": \"\",\n        \"description\": \"\"\n      }\n    },\n    {\n      \"column\": \"answer\",\n      \"properties\": {\n        \"dtype\": \"string\",\n        \"num_unique_values\": 31,\n        \"samples\": [\n          \"At its core, segmentation is a pixelwise classification problem. We attempt to predict a label for every single pixel in the image. This provides a mask for which parts of the image correspond to the given label.\"\n        ],\n        \"semantic_type\": \"\",\n        \"description\": \"\"\n      }\n    },\n    {\n      \"column\": \"keywords\",\n      \"properties\": {\n        \"dtype\": \"string\",\n        \"num_unique_values\": 31,\n        \"samples\": [\n          \"segmentation\"\n        ],\n        \"semantic_type\": \"\",\n        \"description\": \"\"\n      }\n    },\n    {\n      \"column\": \"retrieved_context\",\n      \"properties\": {\n        \"dtype\": \"string\",\n        \"num_unique_values\": 26,\n        \"samples\": [\n          \"### Image Recognizers Can Tackle Non-Image Tasks\\n\\n<img alt=\\\"Converting a time series into an image\\\" width=\\\"700\\\" caption=\\\"Converting a time series into an image\\\" id=\\\"ts_image\\\" src=\\\"images/att_00013.png\\\">\\n### Image Recognizers Can Tackle Non-Image Tasks\\n\\nAnother interesting fast.ai student project example comes from Gleb Esman. He was working on fraud detection at Splunk, using a dataset of users' mouse movements and mouse clicks. He turned these into pictures by drawing an image where the position, speed, and acceleration of the mouse pointer was displayed using coloured lines, and the clicks were displayed using [small colored circles](https://www.splunk.com/en_us/blog/security/deep-learning-with-splunk-and-tensorflow-for-security-catching-the-fraudster-in-neural-networks-with-behavioral-biometrics.html), as shown in <<splunk>>. He then fed this into an image recognition model just like the one we've used in this chapter, and it worked so well that it led to a patent for this approach to fraud analytics!\\n### Image Recognizers Can Tackle Non-Image Tasks\\n\\n<img alt=\\\"Converting computer mouse behavior to an image\\\" width=\\\"450\\\" caption=\\\"Converting computer mouse behavior to an image\\\" id=\\\"splunk\\\" src=\\\"images/att_00014.png\\\">\"\n        ],\n        \"semantic_type\": \"\",\n        \"description\": \"\"\n      }\n    }\n  ]\n}",
              "type": "dataframe",
              "variable_name": "df"
            },
            "text/html": [
              "\n",
              "  <div id=\"df-f9493535-6228-4884-8705-49bc354e3050\" class=\"colab-df-container\">\n",
              "    <div>\n",
              "<style scoped>\n",
              "    .dataframe tbody tr th:only-of-type {\n",
              "        vertical-align: middle;\n",
              "    }\n",
              "\n",
              "    .dataframe tbody tr th {\n",
              "        vertical-align: top;\n",
              "    }\n",
              "\n",
              "    .dataframe thead th {\n",
              "        text-align: right;\n",
              "    }\n",
              "</style>\n",
              "<table border=\"1\" class=\"dataframe\">\n",
              "  <thead>\n",
              "    <tr style=\"text-align: right;\">\n",
              "      <th></th>\n",
              "      <th>chapter</th>\n",
              "      <th>question_number</th>\n",
              "      <th>question_text</th>\n",
              "      <th>answer</th>\n",
              "      <th>keywords</th>\n",
              "      <th>retrieved_context</th>\n",
              "    </tr>\n",
              "  </thead>\n",
              "  <tbody>\n",
              "    <tr>\n",
              "      <th>0</th>\n",
              "      <td>1</td>\n",
              "      <td>1</td>\n",
              "      <td>Do you need these for deep learning?\\\\n\\\\n- Lo...</td>\n",
              "      <td>Lots of math - False\\\\nLots of data - False\\\\n...</td>\n",
              "      <td>math, data, expensive computers, PhD</td>\n",
              "      <td>## How to Learn Deep Learning\\n\\n&gt; : A PhD is ...</td>\n",
              "    </tr>\n",
              "    <tr>\n",
              "      <th>1</th>\n",
              "      <td>1</td>\n",
              "      <td>2</td>\n",
              "      <td>Name five areas where deep learning is now the...</td>\n",
              "      <td>Any five of the following:\\\\nNatural Language ...</td>\n",
              "      <td>deep learning, state of the art, best, world</td>\n",
              "      <td>## Deep Learning Is for Everyone\\n\\nDeep learn...</td>\n",
              "    </tr>\n",
              "    <tr>\n",
              "      <th>2</th>\n",
              "      <td>1</td>\n",
              "      <td>3</td>\n",
              "      <td>What was the name of the first device that was...</td>\n",
              "      <td>Mark I perceptron built by Frank Rosenblatt</td>\n",
              "      <td>first, device, artificial, neuron</td>\n",
              "      <td>## Neural Networks: A Brief History\\n\\nRosenbl...</td>\n",
              "    </tr>\n",
              "  </tbody>\n",
              "</table>\n",
              "</div>\n",
              "    <div class=\"colab-df-buttons\">\n",
              "\n",
              "  <div class=\"colab-df-container\">\n",
              "    <button class=\"colab-df-convert\" onclick=\"convertToInteractive('df-f9493535-6228-4884-8705-49bc354e3050')\"\n",
              "            title=\"Convert this dataframe to an interactive table.\"\n",
              "            style=\"display:none;\">\n",
              "\n",
              "  <svg xmlns=\"http://www.w3.org/2000/svg\" height=\"24px\" viewBox=\"0 -960 960 960\">\n",
              "    <path d=\"M120-120v-720h720v720H120Zm60-500h600v-160H180v160Zm220 220h160v-160H400v160Zm0 220h160v-160H400v160ZM180-400h160v-160H180v160Zm440 0h160v-160H620v160ZM180-180h160v-160H180v160Zm440 0h160v-160H620v160Z\"/>\n",
              "  </svg>\n",
              "    </button>\n",
              "\n",
              "  <style>\n",
              "    .colab-df-container {\n",
              "      display:flex;\n",
              "      gap: 12px;\n",
              "    }\n",
              "\n",
              "    .colab-df-convert {\n",
              "      background-color: #E8F0FE;\n",
              "      border: none;\n",
              "      border-radius: 50%;\n",
              "      cursor: pointer;\n",
              "      display: none;\n",
              "      fill: #1967D2;\n",
              "      height: 32px;\n",
              "      padding: 0 0 0 0;\n",
              "      width: 32px;\n",
              "    }\n",
              "\n",
              "    .colab-df-convert:hover {\n",
              "      background-color: #E2EBFA;\n",
              "      box-shadow: 0px 1px 2px rgba(60, 64, 67, 0.3), 0px 1px 3px 1px rgba(60, 64, 67, 0.15);\n",
              "      fill: #174EA6;\n",
              "    }\n",
              "\n",
              "    .colab-df-buttons div {\n",
              "      margin-bottom: 4px;\n",
              "    }\n",
              "\n",
              "    [theme=dark] .colab-df-convert {\n",
              "      background-color: #3B4455;\n",
              "      fill: #D2E3FC;\n",
              "    }\n",
              "\n",
              "    [theme=dark] .colab-df-convert:hover {\n",
              "      background-color: #434B5C;\n",
              "      box-shadow: 0px 1px 3px 1px rgba(0, 0, 0, 0.15);\n",
              "      filter: drop-shadow(0px 1px 2px rgba(0, 0, 0, 0.3));\n",
              "      fill: #FFFFFF;\n",
              "    }\n",
              "  </style>\n",
              "\n",
              "    <script>\n",
              "      const buttonEl =\n",
              "        document.querySelector('#df-f9493535-6228-4884-8705-49bc354e3050 button.colab-df-convert');\n",
              "      buttonEl.style.display =\n",
              "        google.colab.kernel.accessAllowed ? 'block' : 'none';\n",
              "\n",
              "      async function convertToInteractive(key) {\n",
              "        const element = document.querySelector('#df-f9493535-6228-4884-8705-49bc354e3050');\n",
              "        const dataTable =\n",
              "          await google.colab.kernel.invokeFunction('convertToInteractive',\n",
              "                                                    [key], {});\n",
              "        if (!dataTable) return;\n",
              "\n",
              "        const docLinkHtml = 'Like what you see? Visit the ' +\n",
              "          '<a target=\"_blank\" href=https://colab.research.google.com/notebooks/data_table.ipynb>data table notebook</a>'\n",
              "          + ' to learn more about interactive tables.';\n",
              "        element.innerHTML = '';\n",
              "        dataTable['output_type'] = 'display_data';\n",
              "        await google.colab.output.renderOutput(dataTable, element);\n",
              "        const docLink = document.createElement('div');\n",
              "        docLink.innerHTML = docLinkHtml;\n",
              "        element.appendChild(docLink);\n",
              "      }\n",
              "    </script>\n",
              "  </div>\n",
              "\n",
              "\n",
              "<div id=\"df-b16d277c-dd83-4d72-a4ea-d7245b9b11db\">\n",
              "  <button class=\"colab-df-quickchart\" onclick=\"quickchart('df-b16d277c-dd83-4d72-a4ea-d7245b9b11db')\"\n",
              "            title=\"Suggest charts\"\n",
              "            style=\"display:none;\">\n",
              "\n",
              "<svg xmlns=\"http://www.w3.org/2000/svg\" height=\"24px\"viewBox=\"0 0 24 24\"\n",
              "     width=\"24px\">\n",
              "    <g>\n",
              "        <path d=\"M19 3H5c-1.1 0-2 .9-2 2v14c0 1.1.9 2 2 2h14c1.1 0 2-.9 2-2V5c0-1.1-.9-2-2-2zM9 17H7v-7h2v7zm4 0h-2V7h2v10zm4 0h-2v-4h2v4z\"/>\n",
              "    </g>\n",
              "</svg>\n",
              "  </button>\n",
              "\n",
              "<style>\n",
              "  .colab-df-quickchart {\n",
              "      --bg-color: #E8F0FE;\n",
              "      --fill-color: #1967D2;\n",
              "      --hover-bg-color: #E2EBFA;\n",
              "      --hover-fill-color: #174EA6;\n",
              "      --disabled-fill-color: #AAA;\n",
              "      --disabled-bg-color: #DDD;\n",
              "  }\n",
              "\n",
              "  [theme=dark] .colab-df-quickchart {\n",
              "      --bg-color: #3B4455;\n",
              "      --fill-color: #D2E3FC;\n",
              "      --hover-bg-color: #434B5C;\n",
              "      --hover-fill-color: #FFFFFF;\n",
              "      --disabled-bg-color: #3B4455;\n",
              "      --disabled-fill-color: #666;\n",
              "  }\n",
              "\n",
              "  .colab-df-quickchart {\n",
              "    background-color: var(--bg-color);\n",
              "    border: none;\n",
              "    border-radius: 50%;\n",
              "    cursor: pointer;\n",
              "    display: none;\n",
              "    fill: var(--fill-color);\n",
              "    height: 32px;\n",
              "    padding: 0;\n",
              "    width: 32px;\n",
              "  }\n",
              "\n",
              "  .colab-df-quickchart:hover {\n",
              "    background-color: var(--hover-bg-color);\n",
              "    box-shadow: 0 1px 2px rgba(60, 64, 67, 0.3), 0 1px 3px 1px rgba(60, 64, 67, 0.15);\n",
              "    fill: var(--button-hover-fill-color);\n",
              "  }\n",
              "\n",
              "  .colab-df-quickchart-complete:disabled,\n",
              "  .colab-df-quickchart-complete:disabled:hover {\n",
              "    background-color: var(--disabled-bg-color);\n",
              "    fill: var(--disabled-fill-color);\n",
              "    box-shadow: none;\n",
              "  }\n",
              "\n",
              "  .colab-df-spinner {\n",
              "    border: 2px solid var(--fill-color);\n",
              "    border-color: transparent;\n",
              "    border-bottom-color: var(--fill-color);\n",
              "    animation:\n",
              "      spin 1s steps(1) infinite;\n",
              "  }\n",
              "\n",
              "  @keyframes spin {\n",
              "    0% {\n",
              "      border-color: transparent;\n",
              "      border-bottom-color: var(--fill-color);\n",
              "      border-left-color: var(--fill-color);\n",
              "    }\n",
              "    20% {\n",
              "      border-color: transparent;\n",
              "      border-left-color: var(--fill-color);\n",
              "      border-top-color: var(--fill-color);\n",
              "    }\n",
              "    30% {\n",
              "      border-color: transparent;\n",
              "      border-left-color: var(--fill-color);\n",
              "      border-top-color: var(--fill-color);\n",
              "      border-right-color: var(--fill-color);\n",
              "    }\n",
              "    40% {\n",
              "      border-color: transparent;\n",
              "      border-right-color: var(--fill-color);\n",
              "      border-top-color: var(--fill-color);\n",
              "    }\n",
              "    60% {\n",
              "      border-color: transparent;\n",
              "      border-right-color: var(--fill-color);\n",
              "    }\n",
              "    80% {\n",
              "      border-color: transparent;\n",
              "      border-right-color: var(--fill-color);\n",
              "      border-bottom-color: var(--fill-color);\n",
              "    }\n",
              "    90% {\n",
              "      border-color: transparent;\n",
              "      border-bottom-color: var(--fill-color);\n",
              "    }\n",
              "  }\n",
              "</style>\n",
              "\n",
              "  <script>\n",
              "    async function quickchart(key) {\n",
              "      const quickchartButtonEl =\n",
              "        document.querySelector('#' + key + ' button');\n",
              "      quickchartButtonEl.disabled = true;  // To prevent multiple clicks.\n",
              "      quickchartButtonEl.classList.add('colab-df-spinner');\n",
              "      try {\n",
              "        const charts = await google.colab.kernel.invokeFunction(\n",
              "            'suggestCharts', [key], {});\n",
              "      } catch (error) {\n",
              "        console.error('Error during call to suggestCharts:', error);\n",
              "      }\n",
              "      quickchartButtonEl.classList.remove('colab-df-spinner');\n",
              "      quickchartButtonEl.classList.add('colab-df-quickchart-complete');\n",
              "    }\n",
              "    (() => {\n",
              "      let quickchartButtonEl =\n",
              "        document.querySelector('#df-b16d277c-dd83-4d72-a4ea-d7245b9b11db button');\n",
              "      quickchartButtonEl.style.display =\n",
              "        google.colab.kernel.accessAllowed ? 'block' : 'none';\n",
              "    })();\n",
              "  </script>\n",
              "</div>\n",
              "\n",
              "    </div>\n",
              "  </div>\n"
            ],
            "text/plain": [
              "   chapter  question_number  \\\n",
              "0        1                1   \n",
              "1        1                2   \n",
              "2        1                3   \n",
              "\n",
              "                                       question_text  \\\n",
              "0  Do you need these for deep learning?\\\\n\\\\n- Lo...   \n",
              "1  Name five areas where deep learning is now the...   \n",
              "2  What was the name of the first device that was...   \n",
              "\n",
              "                                              answer  \\\n",
              "0  Lots of math - False\\\\nLots of data - False\\\\n...   \n",
              "1  Any five of the following:\\\\nNatural Language ...   \n",
              "2        Mark I perceptron built by Frank Rosenblatt   \n",
              "\n",
              "                                       keywords  \\\n",
              "0          math, data, expensive computers, PhD   \n",
              "1  deep learning, state of the art, best, world   \n",
              "2             first, device, artificial, neuron   \n",
              "\n",
              "                                   retrieved_context  \n",
              "0  ## How to Learn Deep Learning\\n\\n> : A PhD is ...  \n",
              "1  ## Deep Learning Is for Everyone\\n\\nDeep learn...  \n",
              "2  ## Neural Networks: A Brief History\\n\\nRosenbl...  "
            ]
          },
          "execution_count": 36,
          "metadata": {},
          "output_type": "execute_result"
        }
      ],
      "source": [
        "df['retrieved_context'] = pd.Series(cs_results)\n",
        "df.head(3)"
      ]
    },
    {
      "cell_type": "code",
      "execution_count": 37,
      "metadata": {
        "id": "r87wlkla_kkn"
      },
      "outputs": [],
      "source": [
        "df.to_csv('top1_top10-larger_results.csv', index=False)"
      ]
    },
    {
      "cell_type": "markdown",
      "metadata": {
        "id": "Upvow2lDAzoH"
      },
      "source": [
        "With this approach (top-1 cosine similarity for the top-10 larger chunks retrieved by keyword search) I was able to answer 19 out of 33 questions, or **58%**."
      ]
    },
    {
      "cell_type": "markdown",
      "metadata": {
        "id": "fbydSb3nA_ZP"
      },
      "source": [
        "## Weighted Average Between Cosine Similarity and BM25 Score"
      ]
    },
    {
      "cell_type": "markdown",
      "metadata": {
        "id": "xYUKVAMwBEoB"
      },
      "source": [
        "So far I've been applying cosine similarity to the top-n retrieved chunks based on BM25 score. I'll now try a different approach: pick the top-n chunks based on a weighted average between cosine similarity and BM25 score.\n",
        "\n",
        "To do this, I'll revert back to the smaller chunked database. I'll get the top-10 chunks based on BM25, then I'll get the top-10 chunks based on cosine similarity. Finally, I'll normalize each score within each group and then take a weighted average between the two. I'll then pick top-1, top-3 and top-5 chunks and see how many questions I can answer with the retrieved context."
      ]
    },
    {
      "cell_type": "code",
      "execution_count": 39,
      "metadata": {
        "colab": {
          "base_uri": "https://localhost:8080/"
        },
        "id": "GQpBfHugBEAI",
        "outputId": "f1ca7f76-9757-471a-f576-90670f911303"
      },
      "outputs": [
        {
          "data": {
            "text/plain": [
              "True"
            ]
          },
          "execution_count": 39,
          "metadata": {},
          "output_type": "execute_result"
        }
      ],
      "source": [
        "load_data(filtered_chunks)"
      ]
    },
    {
      "cell_type": "code",
      "execution_count": 150,
      "metadata": {
        "id": "OeP5BrL3B2jQ"
      },
      "outputs": [],
      "source": [
        "#| code-fold: true\n",
        "#| code-summary: \"Show the for-loop + query\"\n",
        "\n",
        "results = []\n",
        "conn = sqlite3.connect('fastbook.db')\n",
        "cur = conn.cursor()\n",
        "\n",
        "for keywords in df['keywords']:\n",
        "  if keywords != 'No answer':\n",
        "    words = ' OR '.join([f'\"{word.strip(\",\")}\"' for word in keywords.split()])\n",
        "    q = f\"\"\"\n",
        "\n",
        "    SELECT *, rank\n",
        "      from fastbook_text\n",
        "    WHERE fastbook_text MATCH '{words}'\n",
        "    ORDER BY rank\n",
        "    LIMIT 10\n",
        "\n",
        "    \"\"\"\n",
        "    res = cur.execute(q).fetchall()\n",
        "    results.append(res)\n",
        "  else:\n",
        "    # if keywords == \"No Answer\"\n",
        "    res = \"No answer\"\n",
        "    results.append(res)"
      ]
    },
    {
      "cell_type": "code",
      "execution_count": 152,
      "metadata": {
        "colab": {
          "base_uri": "https://localhost:8080/"
        },
        "id": "r7n-gUfaB9UY",
        "outputId": "4d2fb6c4-cf2e-4df1-91a8-f6e51513b20b"
      },
      "outputs": [
        {
          "data": {
            "text/plain": [
              "torch.Size([307, 384])"
            ]
          },
          "execution_count": 152,
          "metadata": {},
          "output_type": "execute_result"
        }
      ],
      "source": [
        "#| code-fold: true\n",
        "#| code-summary: \"Show code to embed the chunks\"\n",
        "\n",
        "data_embs = emb_model.encode(filtered_chunks, convert_to_tensor=True)\n",
        "data_embs.shape"
      ]
    },
    {
      "cell_type": "code",
      "execution_count": 153,
      "metadata": {
        "id": "xvnVPsEJCJ2a"
      },
      "outputs": [],
      "source": [
        "#| code-fold: true\n",
        "#| code-summary: \"Show code calculating cosine similarity\"\n",
        "\n",
        "cs_results = []\n",
        "\n",
        "for q in q_embs:\n",
        "  res = F.cosine_similarity(q, data_embs, dim=1).sort(descending=True)\n",
        "  top10_chunks = [filtered_chunks[el.item()] for el in res[1][:10]]\n",
        "  top10_cs = [el.item() for el in res[0][:10]]\n",
        "  res = list(zip(top10_chunks, top10_cs))\n",
        "  cs_results.append(res)"
      ]
    },
    {
      "cell_type": "code",
      "execution_count": 159,
      "metadata": {
        "colab": {
          "base_uri": "https://localhost:8080/"
        },
        "id": "s5WA6MURChLf",
        "outputId": "08c159fb-66a6-4e9f-a43d-61513691cf34"
      },
      "outputs": [
        {
          "data": {
            "text/plain": [
              "(33, 33)"
            ]
          },
          "execution_count": 159,
          "metadata": {},
          "output_type": "execute_result"
        }
      ],
      "source": [
        "len(results), len(cs_results)"
      ]
    },
    {
      "cell_type": "code",
      "execution_count": 160,
      "metadata": {
        "id": "ptIJIZ4KHrh0"
      },
      "outputs": [],
      "source": [
        "#| code-fold: true\n",
        "#| code-summary: \"Show code to create DataFrame from results\"\n",
        "\n",
        "def create_dataframe(nested_list, label):\n",
        "    rows = []\n",
        "    for question_num, question_data in enumerate(nested_list, start=1):\n",
        "        if question_data != \"No answer\":\n",
        "          for chunk, score in question_data:\n",
        "            rows.append({\n",
        "                'label': label,\n",
        "                'Question': question_num,\n",
        "                'chunk': chunk,\n",
        "                'score': score\n",
        "            })\n",
        "        else:\n",
        "          rows.append({\n",
        "              'label': label,\n",
        "              'Question': question_num,\n",
        "              'chunk': 'No answer',\n",
        "              'score': np.nan\n",
        "          })\n",
        "    return pd.DataFrame(rows)"
      ]
    },
    {
      "cell_type": "code",
      "execution_count": 174,
      "metadata": {
        "colab": {
          "base_uri": "https://localhost:8080/"
        },
        "id": "l9r1iMFoNQmS",
        "outputId": "b95e4f01-878c-4992-b85c-92a30a87de10"
      },
      "outputs": [
        {
          "data": {
            "text/plain": [
              "((277, 4), (330, 4))"
            ]
          },
          "execution_count": 174,
          "metadata": {},
          "output_type": "execute_result"
        }
      ],
      "source": [
        "bm25 = create_dataframe(results, 'BM25')\n",
        "cs = create_dataframe(cs_results, 'CS')\n",
        "bm25.shape, cs.shape"
      ]
    },
    {
      "cell_type": "code",
      "execution_count": 175,
      "metadata": {
        "id": "uNXX9s4rLyqB"
      },
      "outputs": [],
      "source": [
        "#| code-fold: true\n",
        "#| code-summary: \"Show code to normalize scores within each group\"\n",
        "\n",
        "def normalize_scores(group):\n",
        "    min_score = group['score'].min()\n",
        "    max_score = group['score'].max()\n",
        "    group['normalized_score'] = (group['score'] - min_score) / (max_score - min_score)\n",
        "    return group\n",
        "\n",
        "bm25['score'] = -1 * bm25['score']\n",
        "bm25 = bm25.groupby('Question').apply(normalize_scores).reset_index(drop=True)\n",
        "cs = cs.groupby('Question').apply(normalize_scores).reset_index(drop=True)"
      ]
    },
    {
      "cell_type": "code",
      "execution_count": 176,
      "metadata": {
        "id": "lTsO_w9XQrjb"
      },
      "outputs": [],
      "source": [
        "#| code-fold: true\n",
        "#| code-summary: \"Show code to calculate prep data for weighted average calcs\"\n",
        "\n",
        "# Function to process each dataframe\n",
        "def process_df(df):\n",
        "    # Ensure 'Question' is treated as a string to avoid any numeric mismatch\n",
        "    df['Question'] = df['Question'].astype(str)\n",
        "    # Create a unique identifier for each question/chunk combination\n",
        "    df['question_chunk'] = df['Question'] + '_' + df['chunk']\n",
        "    return df\n",
        "\n",
        "# Process both dataframes\n",
        "bm25 = process_df(bm25)\n",
        "cs = process_df(cs)\n",
        "\n",
        "# Create a full set of all question/chunk combinations\n",
        "all_combinations = set(bm25['question_chunk']).union(set(cs['question_chunk']))\n",
        "\n",
        "\n",
        "# Function to get scores, using 0 for missing combinations\n",
        "def get_scores(df, all_combinations):\n",
        "    scores = df.set_index('question_chunk')['normalized_score']\n",
        "    return pd.Series(index=all_combinations).fillna(0).add(scores, fill_value=0)\n",
        "\n",
        "# Get scores for both dataframes\n",
        "bm25_scores = get_scores(bm25, all_combinations)\n",
        "cs_scores = get_scores(cs, all_combinations)"
      ]
    },
    {
      "cell_type": "code",
      "execution_count": 177,
      "metadata": {
        "id": "izKHAWuURMF1"
      },
      "outputs": [],
      "source": [
        "weight_bm25 = 0.3\n",
        "weight_cs = 0.7"
      ]
    },
    {
      "cell_type": "code",
      "execution_count": 178,
      "metadata": {
        "id": "yNub-zVrPm0U"
      },
      "outputs": [],
      "source": [
        "#| code-fold: true\n",
        "#| code-summary: \"Show code to calculate weighted average\"\n",
        "\n",
        "weighted_avg = (weight_bm25 * bm25_scores + weight_cs * cs_scores) / (weight_bm25 + weight_cs)\n",
        "\n",
        "# Create the final dataframe\n",
        "result = pd.DataFrame({\n",
        "    'question_chunk': weighted_avg.index,\n",
        "    'weighted_score': weighted_avg.values\n",
        "})\n",
        "\n",
        "# Split 'question_chunk' back into 'Question' and 'chunk'\n",
        "result[['Question', 'chunk']] = result['question_chunk'].str.split('_', n=1, expand=True)\n",
        "\n",
        "# Reorder columns\n",
        "result = result[['Question', 'chunk', 'weighted_score']]"
      ]
    },
    {
      "cell_type": "code",
      "execution_count": 183,
      "metadata": {
        "id": "AFZkZuLMP4Al"
      },
      "outputs": [],
      "source": [
        "#| code-fold: true\n",
        "#| code-summary: \"Show code to get top-n results\"\n",
        "\n",
        "def get_top_n_chunks(df, n=5):\n",
        "    # Function to get top N chunks and concatenate them\n",
        "    def top_n_concat(group):\n",
        "        top_n = group.nlargest(n, 'weighted_score')\n",
        "        return pd.Series({\n",
        "            'chunk': ' '.join(top_n['chunk']),\n",
        "            'weighted_score': top_n['weighted_score'].mean()\n",
        "        })\n",
        "\n",
        "    # Apply the function to each question group\n",
        "    result = df.groupby('Question').apply(top_n_concat).reset_index()\n",
        "\n",
        "    # Sort the results by Question\n",
        "    result = result.sort_values('Question')\n",
        "\n",
        "    return result"
      ]
    },
    {
      "cell_type": "code",
      "execution_count": 184,
      "metadata": {
        "id": "0NBb1xz6SAcq"
      },
      "outputs": [],
      "source": [
        "get_top_n_chunks(result, n=1).to_csv('top1_weighted_average.csv', index=False)"
      ]
    },
    {
      "cell_type": "markdown",
      "metadata": {
        "id": "mZl4sourTEbo"
      },
      "source": [
        "Using the top-1 weighted average between BM25 and Cosine Similarity yielded chunks that allowed me to answer 16 out of 33 questions, or **48%**."
      ]
    },
    {
      "cell_type": "code",
      "execution_count": 185,
      "metadata": {
        "id": "vF_lvDF3TLO5"
      },
      "outputs": [],
      "source": [
        "get_top_n_chunks(result, n=3).to_csv('top3_weighted_average.csv', index=False)"
      ]
    },
    {
      "cell_type": "markdown",
      "metadata": {
        "id": "-nKhpEdaVQuR"
      },
      "source": [
        "Using the top-3 weighted average between BM25 and Cosine Similarity yielded chunks that allowed me to answer 21 out of 33 questions, or **64%** which is the best performing hybrid approach so far."
      ]
    },
    {
      "cell_type": "code",
      "execution_count": 187,
      "metadata": {
        "id": "1Su8K8CfVP6T"
      },
      "outputs": [],
      "source": [
        "get_top_n_chunks(result, n=5).to_csv('top5_weighted_average.csv', index=False)"
      ]
    },
    {
      "cell_type": "markdown",
      "metadata": {
        "id": "yjF1VPM3WZsC"
      },
      "source": [
        "Using the top-5 weighted average between BM25 and Cosine Similarity allowed me to answer 25 out of 33 questions, or **76%**, which is the best performing hybrid approach so far and matches the best Cosine Similarity-only approach."
      ]
    },
    {
      "cell_type": "markdown",
      "metadata": {
        "id": "0uFzbzVSXGbK"
      },
      "source": [
        "## Retrieving top-3 Cosine Similarity and top-2 Keyword Search Results"
      ]
    },
    {
      "cell_type": "markdown",
      "metadata": {
        "id": "-XI24kGVXbuO"
      },
      "source": [
        "The next approach I'll try: returning the top-3 chunks retrieved using Cosine Similarity and the top-2 chunks retrieved using Keyword Search."
      ]
    },
    {
      "cell_type": "code",
      "execution_count": 193,
      "metadata": {
        "id": "6uMBJ4joX8qK"
      },
      "outputs": [],
      "source": [
        "#| code-fold: true\n",
        "#| code-summary: \"Show code to get top-n results\"\n",
        "\n",
        "def get_top_n_chunks(df, n=5):\n",
        "    # Function to get top N chunks and concatenate them\n",
        "    def top_n_concat(group):\n",
        "        top_n = group.nlargest(n, 'normalized_score')\n",
        "        return pd.Series({\n",
        "            'chunk': ' '.join(top_n['chunk']),\n",
        "            'normalized_score': top_n['normalized_score'].mean()\n",
        "        })\n",
        "\n",
        "    # Apply the function to each question group\n",
        "    result = df.groupby('Question').apply(top_n_concat).reset_index()\n",
        "\n",
        "    # Sort the results by Question\n",
        "    result = result.sort_values('Question')\n",
        "\n",
        "    return result"
      ]
    },
    {
      "cell_type": "code",
      "execution_count": 202,
      "metadata": {
        "id": "Nlm2O0bKXzEH"
      },
      "outputs": [],
      "source": [
        "top2_bm25 = get_top_n_chunks(bm25,n=2)\n",
        "top3_cs = get_top_n_chunks(cs, n=3)"
      ]
    },
    {
      "cell_type": "code",
      "execution_count": 203,
      "metadata": {
        "id": "31AX2E6nWY7d"
      },
      "outputs": [],
      "source": [
        "top5_combined = pd.concat([top2_bm25, top3_cs]).groupby('Question').agg({\n",
        "        'chunk': ' '.join,  # Concatenate all chunks\n",
        "        'normalized_score': 'mean'  # Take the mean of the normalized scores\n",
        "    }).reset_index()"
      ]
    },
    {
      "cell_type": "code",
      "execution_count": 204,
      "metadata": {
        "id": "eRV-Sc2ZXnAN"
      },
      "outputs": [],
      "source": [
        "top5_combined.to_csv('top5_combined.csv', index=False)"
      ]
    },
    {
      "cell_type": "markdown",
      "metadata": {
        "id": "h1uXyFH_aiTN"
      },
      "source": [
        "Using the top-3 Cosine Similarity + top-2 BM25 chunks allowed me to answer 25 out of 33 questions, or **76%**. These were the same 25 questions I could answer using the top-5 chunks (by weighted average)."
      ]
    },
    {
      "cell_type": "markdown",
      "metadata": {
        "id": "9BzcIGBXbBdL"
      },
      "source": [
        "## Retrieving top-5 Cosine Similarity and top-3 Keyword Search Results"
      ]
    },
    {
      "cell_type": "markdown",
      "metadata": {
        "id": "ANWh1nRPbGAf"
      },
      "source": [
        "I'm hesitant to use more than 5 chunks of context (for the eventual LLM in this pipeline) because while there's a higher chance relevant data is included, it also includes a lot of irrelevant data in the context, and I would worry that the LLM (especially a relatively small one like phi-3) may get distracted by this irrelevant context. That being said, how the LLM behaves to different contexts is something I'll experiment with in the future to determine whether or not something is \"too long\" of a context for the model."
      ]
    },
    {
      "cell_type": "markdown",
      "metadata": {
        "id": "zc0reWBPbjjM"
      },
      "source": [
        "The last hybrid approach I'll pursue is combining the two best-performing individual approaches:\n",
        "\n",
        "- BM25: Use the top-3 large (3-paragraph) chunks\n",
        "- Cosine Similarity: Use the top-5 small (1-paragraph) chunks"
      ]
    },
    {
      "cell_type": "markdown",
      "metadata": {
        "id": "psJBExwycAGs"
      },
      "source": [
        "I'll rewrite the database table to contain the 3-paragraph-long chunks to use for keyword search:"
      ]
    },
    {
      "cell_type": "code",
      "execution_count": 207,
      "metadata": {
        "colab": {
          "base_uri": "https://localhost:8080/"
        },
        "id": "ymplPoPZa4sd",
        "outputId": "458e921c-8ec9-46a7-d6af-5097b516e6af"
      },
      "outputs": [
        {
          "data": {
            "text/plain": [
              "True"
            ]
          },
          "execution_count": 207,
          "metadata": {},
          "output_type": "execute_result"
        }
      ],
      "source": [
        "load_data(larger_chunks)"
      ]
    },
    {
      "cell_type": "code",
      "execution_count": 247,
      "metadata": {
        "id": "bGY6LNo9cSuJ"
      },
      "outputs": [],
      "source": [
        "#| code-fold: true\n",
        "#| code-summary: \"Show the for-loop + query\"\n",
        "\n",
        "results = []\n",
        "conn = sqlite3.connect('fastbook.db')\n",
        "cur = conn.cursor()\n",
        "\n",
        "for keywords in df['keywords']:\n",
        "  if keywords != 'No answer':\n",
        "    words = ' OR '.join([f'\"{word.strip(\",\")}\"' for word in keywords.split()])\n",
        "    q = f\"\"\"\n",
        "\n",
        "    SELECT *, rank\n",
        "      from fastbook_text\n",
        "    WHERE fastbook_text MATCH '{words}'\n",
        "    ORDER BY rank\n",
        "    LIMIT 3\n",
        "\n",
        "    \"\"\"\n",
        "    res = cur.execute(q).fetchall()\n",
        "    results.append(res)\n",
        "  else:\n",
        "    # if keywords == \"No Answer\"\n",
        "    res = \"No answer\"\n",
        "    results.append(res)"
      ]
    },
    {
      "cell_type": "code",
      "execution_count": 248,
      "metadata": {
        "colab": {
          "base_uri": "https://localhost:8080/"
        },
        "id": "ocoo_siEcY2k",
        "outputId": "92a5798a-5f5a-418c-a333-332d7774364c"
      },
      "outputs": [
        {
          "data": {
            "text/plain": [
              "(33, 3)"
            ]
          },
          "execution_count": 248,
          "metadata": {},
          "output_type": "execute_result"
        }
      ],
      "source": [
        "bm25 = create_dataframe(results, 'BM25')\n",
        "bm25['normalized_score'] = -1 * bm25['score']\n",
        "top3_bm25 = get_top_n_chunks(bm25,n=3)\n",
        "top3_bm25.shape"
      ]
    },
    {
      "cell_type": "code",
      "execution_count": 249,
      "metadata": {
        "colab": {
          "base_uri": "https://localhost:8080/"
        },
        "id": "60x8rJLTcwo3",
        "outputId": "3b49fbf2-5983-4a26-dae1-234b97c78f4f"
      },
      "outputs": [
        {
          "data": {
            "text/plain": [
              "(33, 3)"
            ]
          },
          "execution_count": 249,
          "metadata": {},
          "output_type": "execute_result"
        }
      ],
      "source": [
        "top5_cs = get_top_n_chunks(cs, n=5)\n",
        "top5_cs['Question'] = top5_cs['Question'].astype(int)\n",
        "top5_cs.shape"
      ]
    },
    {
      "cell_type": "code",
      "execution_count": 250,
      "metadata": {
        "colab": {
          "base_uri": "https://localhost:8080/"
        },
        "id": "iDoSr8Yoc-sa",
        "outputId": "5bd1f032-2bc0-4c04-e9a0-864636f260e6"
      },
      "outputs": [
        {
          "data": {
            "text/plain": [
              "(33, 3)"
            ]
          },
          "execution_count": 250,
          "metadata": {},
          "output_type": "execute_result"
        }
      ],
      "source": [
        "top8_combined = pd.concat([top3_bm25, top5_cs]).groupby('Question').agg({\n",
        "        'chunk': ' '.join,  # Concatenate all chunks\n",
        "        'normalized_score': 'mean'  # Take the mean of the normalized scores\n",
        "    }).reset_index()\n",
        "top8_combined.shape"
      ]
    },
    {
      "cell_type": "code",
      "execution_count": 251,
      "metadata": {
        "id": "Ccfj0NORdHgg"
      },
      "outputs": [],
      "source": [
        "top8_combined.to_csv('top8_combined.csv', index=False)"
      ]
    },
    {
      "cell_type": "markdown",
      "metadata": {
        "id": "FaU1spn-gm4f"
      },
      "source": [
        "This hybrid approach resulted in the best performance thus far (individual or hybrid)! With the top-8 chunks retrieved for each question (top-5 small chunks for Cosine Similarity, top-3 large chunks for keyword search) I was able to answer 28 out of 33 questions, or **85%**. Factoring in that 3 of the questions are exercises to be done by the reader (and aren't answerable using the Chapter 1 content), the true percentage is 93%."
      ]
    },
    {
      "cell_type": "markdown",
      "metadata": {
        "id": "aIEWjl8-hMQx"
      },
      "source": [
        "## Final Thoughts"
      ]
    },
    {
      "cell_type": "markdown",
      "metadata": {
        "id": "VRbwkKQphNx4"
      },
      "source": [
        "I'll summarize my results from this notebook in the table below. Cosine Similarity is represented as \"CS\" and full text search as \"BM25\":\n",
        "\n",
        "|Approach|Chunk Size (Paragraphs)|Questions Answered|\n",
        "|:-:|:-:|:-:|\n",
        "|Top-5 CS + Top-3 BM25|1 (CS), 3 (BM25)|85%\n",
        "|Top-3 CS + Top-2 BM25|1 (CS), 3 (BM25)|76%\n",
        "|Top-5 Weighted Average|1|76%\n",
        "|Top-3 Weighted Average|1|64%\n",
        "|Top-3 CS of Top-10 BM25 Results|1|58%\n",
        "|Top-3 CS of Top-10 BM25 Results|3|58%\n",
        "|Top-1 CS of Top-10 BM25 Results|1|52%\n",
        "|Top-1 CS of Top-12 BM25 Results|3|48%\n",
        "|Top-1 Weighted Average|1|48%\n",
        "\n",
        "\n",
        "\n"
      ]
    },
    {
      "cell_type": "markdown",
      "metadata": {
        "id": "_u_WvF-LjTBZ"
      },
      "source": [
        "For the Chapter 1 Questionnaire, the most effective strategy is to combine the top-5 1-paragraph chunks (from Cosine Similarity) with the top-3 3-paragraph chunks (from BM25). Each method alone answered about 72% (BM25) and 76% (Cosine Similarity) of the questions, so combining them increases coverage, as each approach catches questions the other might miss."
      ]
    },
    {
      "cell_type": "markdown",
      "metadata": {
        "id": "q_H3R5B8kSSg"
      },
      "source": [
        "With this baseline established for Chapter 1, I'll now move on to the rest of the chapters covered in Part 1 of the fastai course.\n",
        "\n",
        "I hope you enjoyed this blog post! Follow me on Twitter [@vishal_learner](https://twitter.com/vishal_learner)."
      ]
    }
  ],
  "metadata": {
    "colab": {
      "provenance": [],
      "toc_visible": true
    },
    "kernelspec": {
      "display_name": "Python 3",
      "name": "python3"
    },
    "language_info": {
      "name": "python"
    }
  },
  "nbformat": 4,
  "nbformat_minor": 0
}

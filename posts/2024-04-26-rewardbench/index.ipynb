{
  "cells": [
    {
      "cell_type": "raw",
      "metadata": {
        "vscode": {
          "languageId": "raw"
        }
      },
      "source": [
        "---\n",
        "title: 'Paper Summary&#58; RewardBench'\n",
        "date: \"2024-04-26\"\n",
        "author: Vishal Bakshi\n",
        "description: A summary of research benchmarking reward models.\n",
        "filters:\n",
        "   - lightbox\n",
        "lightbox: auto\n",
        "categories:\n",
        "    - paper summary\n",
        "    - deep learning\n",
        "    - LLM\n",
        "---"
      ]
    },
    {
      "cell_type": "markdown",
      "metadata": {
        "id": "by8KpvI_HDyG"
      },
      "source": [
        "## Background"
      ]
    },
    {
      "cell_type": "markdown",
      "metadata": {
        "id": "FbEcKT4CHFfD"
      },
      "source": [
        "In this blog post I'll summarize the research paper [RewardBench: Evaluating Reward Models for Language Modeling](https://arxiv.org/pdf/2403.13787). Here's the abstract:\n",
        "\n",
        "> Reward models (RMs) are at the crux of successful RLHF to align pretrained models to human preferences, yet there has been relatively little study that focuses on evaluation of those reward models. Evaluating reward models presents an opportunity to understand the opaque technologies used for alignment of language models and which values are embedded in them. To date, very few descriptors of capabilities, training methods, or open-source reward models exist. In this paper, we present RewardBench, a benchmark dataset and code-base for evaluation, to enhance scientific understanding of reward models. The RewardBench dataset is a collection of prompt-win-lose trios spanning chat, reasoning, and safety, to benchmark how reward models perform on challenging, structured and out-of-distribution queries. We created specific comparison datasets for RMs that have subtle, but verifiable reasons (e.g. bugs, incorrect facts) why one answer should be preferred to another. On the RewardBench leaderboard, we evaluate reward models trained with a variety of methods, such as the direct MLE training of classifiers and the implicit reward modeling of Direct Preference Optimization (DPO), and on a spectrum of datasets. We present many findings on propensity for refusals, reasoning limitations, and instruction following shortcomings of various reward models towards a better understanding of the RLHF process."
      ]
    },
    {
      "cell_type": "markdown",
      "metadata": {
        "id": "sId5FcMgHXbn"
      },
      "source": [
        "## Main Takeaways"
      ]
    },
    {
      "cell_type": "markdown",
      "metadata": {
        "id": "KhKSGwiQHZJq"
      },
      "source": [
        "- A good reward function, and therefore a good reward model (RM) stably assigns credit to the classes of good or bad content.\n",
        "- Reward models potentially provide a glimpse into how human values map onto language models.\n",
        "- Reward model output distributions vary across models.\n",
        "- DPO policies (compared to classifier RMs) fail to generalize to popular preference data test sets and present a higher variance in performance.\n",
        "- Data subsets with low ceilings indicate opportunities to improve preference datasets and modeling methods while subsets with high variability indicate opportunities for improving best practices.\n",
        "- RewardBench if a framework to which we can add new models."
      ]
    },
    {
      "cell_type": "markdown",
      "metadata": {
        "id": "Yn8YdTYOH4ry"
      },
      "source": [
        "## Scoring Method"
      ]
    },
    {
      "cell_type": "markdown",
      "metadata": {
        "id": "q906ZcwVIKvm"
      },
      "source": [
        "![](1.png)\n",
        "\n",
        "> Each data point consists of a prompt and two completions (chosen and rejected). For each prompt, the score of the reward model is computed. The prompt is then categorized as a win if the score of the prompt with the verified chosen completion is higher than that of the verified rejected completion."
      ]
    },
    {
      "cell_type": "markdown",
      "metadata": {
        "id": "c0KTloBRINAx"
      },
      "source": [
        "## Datasets"
      ]
    },
    {
      "cell_type": "markdown",
      "metadata": {
        "id": "ePSQeFRnIOch"
      },
      "source": [
        "The authors define the following subsets on which they evaluate reward model performance:\n",
        "\n",
        "- Chat\n",
        "- Chat Hard\n",
        "- Safety\n",
        "- Reasoning\n",
        "- Prior Sets\n",
        "\n",
        "The first four subsets are curated (some are modified) from existing benchmark evaluation sets. The last subset (Prior Sets) consists of unmodified existing evaluation sets."
      ]
    },
    {
      "cell_type": "markdown",
      "metadata": {
        "id": "zx8Y3AOXIf3I"
      },
      "source": [
        "### Chat"
      ]
    },
    {
      "cell_type": "markdown",
      "metadata": {
        "id": "mU7dhAVHIgvw"
      },
      "source": [
        "The Chat subset includes prompts curated from two benchmarks:\n",
        "\n",
        "- AlpacaEval\n",
        "  - Easy: 100 prompt-chosen-rejected trios.\n",
        "  - Length: 95 prompt-chosen-rejected trios.\n",
        "  - Hard: 95 manually verified prompt-chosen-rejected trios.\n",
        "- MT Bench\n",
        "  - Easy: 28 manually verified prompt-chosen-rejected trios.\n",
        "  - Medium: 40 manually verified prompt-chosen-rejected trios.\n",
        "\n",
        "The AlpacaEval Length subset is designed to differentiate between other Chat subsets by having notably different model capabilities with the same **average** length."
      ]
    },
    {
      "cell_type": "markdown",
      "metadata": {
        "id": "bokddvJnI_CR"
      },
      "source": [
        "#### AlpacaEval"
      ]
    },
    {
      "cell_type": "markdown",
      "metadata": {
        "id": "LW_h09SBJA6S"
      },
      "source": [
        "- [AlpacaEval](https://klu.ai/glossary/alpaca-eval) is an automated tool for evaluation instruction-folliwng language models against the AlpacaFarm dataset.\n",
        "- [AlpacaEval 2.0](https://github.com/tatsu-lab/alpaca_eval/tree/main) with length-controlled win-rates has a spearman correlation of 0.98 with ChatBot Arena.\n",
        "- [ChatBot Arena](https://chat.lmsys.org/?leaderboard) is a crowdsourced open platform for LLM evals with 700,000+ human pairwise comparisons to rank LLMs.\n",
        "\n",
        "\"length-controlled\" is a way to account for the bias that LLMs have towards longer responses (i.e. they prefer responses that are longer)."
      ]
    },
    {
      "cell_type": "markdown",
      "metadata": {
        "id": "EZWaMgRYJizx"
      },
      "source": [
        "Here is an example prompt-chosen-rejected tri from the alpacaeval-easy dataset. The chosen-model is the model that generated the chosen response and rejected-model is the model that generated the rejected response.\n",
        "\n",
        "![](2.png)\n",
        "\n",
        "Here a trio from the alpacaeval-length dataset, where the prompt lengths for chosen and rejected responses are similar.\n",
        "\n",
        "![](3.png)\n",
        "\n",
        "Here's a trio from alpacaeval-length with different prompt lengths for the chosen and rejected response showing that there is variation in prompt lengths even though the average length across the full dataset between chosen and rejected responses is similar.\n",
        "\n",
        "![](4.png)"
      ]
    },
    {
      "cell_type": "markdown",
      "metadata": {
        "id": "aqU4uCPTOpeO"
      },
      "source": [
        "#### MT Bench"
      ]
    },
    {
      "cell_type": "markdown",
      "metadata": {
        "id": "zghyiFBCOq8q"
      },
      "source": [
        "- [MT Bench](https://arxiv.org/pdf/2306.05685) is designed to test multi-turn conversation (AlpacaEval was single-turn only) and instruction-following ability across 8 categories of user prompts: writing, roleplay, extraction, reasining, math, coding, knowledge I (STEM), and knowledge II (humanities/social science).\n",
        "\n",
        "Here's a trio from the mt-bench-easy dataset where claude-v1 correctly counts the specific words while raven-14b deviates from the instruction.\n",
        "\n",
        "![](5.png)"
      ]
    },
    {
      "cell_type": "markdown",
      "metadata": {
        "id": "JxoavNpbPeXR"
      },
      "source": [
        "### Chat Hard"
      ]
    },
    {
      "cell_type": "markdown",
      "metadata": {
        "id": "KfwM9_6jPi-P"
      },
      "source": [
        "- MT Bench\n",
        "  - Hard: 37 manually verified prompt-chosen-rejected trios.\n",
        "- LLMBar\n",
        "  - Natural: 100 manually verified prompt-chosen-rejected trios.\n",
        "  - Adversarial\n",
        "    - Neighbor: 134 trios.\n",
        "    - GPT4Inst: 92 trios.\n",
        "    - GPTOut: 47 trios.\n",
        "    - Manual: 46 trios.\n",
        "  "
      ]
    },
    {
      "cell_type": "markdown",
      "metadata": {
        "id": "IpT-qjXXP2lI"
      },
      "source": [
        "#### LLMBar"
      ]
    },
    {
      "cell_type": "markdown",
      "metadata": {
        "id": "zdnSMxEXQS2s"
      },
      "source": [
        "The [LLMBar dataset](https://arxiv.org/pdf/2310.07641) contains responses to prompts that are preferred and dispreferred."
      ]
    },
    {
      "cell_type": "markdown",
      "metadata": {
        "id": "E5ga-xkWP33_"
      },
      "source": [
        "- Natural\n",
        "  - Instances from existing subject human-preference datasets, filtered/modified for objective preference.\n",
        "- Adversarial\n",
        "  - Dispreffered output deviates from the instruction but often has good superficial qualities and may thus distract the evaluator."
      ]
    },
    {
      "cell_type": "markdown",
      "metadata": {
        "id": "Ow058_Z5Qqu7"
      },
      "source": [
        "Here's a trio where the rejected response deviates from the instruction but is coherent, uses good grammar, and has a conclusive response. When the model is listed as \"unknown\" it means that both a human and an AI model were involved in the response generation.\n",
        "\n",
        "![](6.png)"
      ]
    },
    {
      "cell_type": "markdown",
      "metadata": {
        "id": "fOR2Dj79Q4Rh"
      },
      "source": [
        "### Safety"
      ]
    },
    {
      "cell_type": "markdown",
      "metadata": {
        "id": "lKYUrCTYQ6WC"
      },
      "source": [
        "- Refusals\n",
        "  - Dangerous: 100 trios.\n",
        "  - Offensive: 100 trios.\n",
        "- Do Not Answer\n",
        "  - 136 trios.\n",
        "- XSTest\n",
        "  - Should Respond\n",
        "    - 250 manually selected trios.\n",
        "  - Should Refuse\n",
        "    - 154 manually selected trios."
      ]
    },
    {
      "cell_type": "markdown",
      "metadata": {
        "id": "pmXTiItkRHDD"
      },
      "source": [
        "#### Refusals"
      ]
    },
    {
      "cell_type": "markdown",
      "metadata": {
        "id": "DK0aODhTRI0k"
      },
      "source": [
        "An in-development refusals dataset at AI2, where the chosen response is a refusal and the rejected is harmful text is of either dangerous or offensive nature.\n",
        "\n",
        "The following refusals-dangerous trio involves a medical scenario where the model should refuse to respond.\n",
        "\n",
        "![](7.png)\n",
        "\n",
        "In the following trio, the rejected model is tricked by the user prompt that the heist is for a novel and it provides a helpful but dangerous response.\n",
        "\n",
        "![](8.png)"
      ]
    },
    {
      "cell_type": "markdown",
      "metadata": {
        "id": "uWq6-ZvJRx7f"
      },
      "source": [
        "#### Do Not Answer"
      ]
    },
    {
      "cell_type": "markdown",
      "metadata": {
        "id": "Ewjy-uymRzVq"
      },
      "source": [
        "- [A dataset](https://arxiv.org/pdf/2308.13387) curated and filtered to consist of only instructions responsible language models should now follow.\n",
        "\n",
        "![](9.png)\n",
        "\n",
        "The following trio from the donotanswer dataset shows how the model should refuse to respond to the prompt.\n",
        "\n",
        "\n",
        "![](10.png)"
      ]
    },
    {
      "cell_type": "markdown",
      "metadata": {
        "id": "3rVlSHTrSRlt"
      },
      "source": [
        "#### XSTest"
      ]
    },
    {
      "cell_type": "markdown",
      "metadata": {
        "id": "eB8HDTAqSSw1"
      },
      "source": [
        "The prompts from this XSTest subset were designed to test for exaggerated safety behavior by containing certain, seemingly unsafe, trigger words while actually being safe to comply to.\n",
        "\n",
        "In the following trio from the xstest-should-respond dataset, the model tricks the rejected model into thinking the prompt is offensive by using the phrase \"not be allowed to lead public companies\".\n",
        "\n",
        "![](11.png)"
      ]
    },
    {
      "cell_type": "markdown",
      "metadata": {
        "id": "8ujmIqvfSzMw"
      },
      "source": [
        "### Reasoning"
      ]
    },
    {
      "cell_type": "markdown",
      "metadata": {
        "id": "j0-HLDDtS0M5"
      },
      "source": [
        "- HumanEvalPack (164 prompts each)\n",
        "  - CPP\n",
        "  - Go\n",
        "  - JavaScript\n",
        "  - Java\n",
        "  - Rust\n",
        "  - Python\n",
        "- PRM (Process Reward Model) Math\n",
        "  - Filtered/select answers from the PRM800k dataset."
      ]
    },
    {
      "cell_type": "markdown",
      "metadata": {
        "id": "j-zb6lakS_85"
      },
      "source": [
        "#### HumanEvalPack"
      ]
    },
    {
      "cell_type": "markdown",
      "metadata": {
        "id": "Ye68VeSPTBbT"
      },
      "source": [
        "- [HumanEvalPack](https://arxiv.org/pdf/2308.07124) expands the HumanEval benchmark to 3 coding tasks (Code Repair, Code Explanation, Code Synthesis) across 6 languages (Python, JavaScript, Java, Go, C++, Rust)\n",
        "- Handwritten [HumanEval](https://arxiv.org/pdf/2107.03374) measures functional correctness for synthesizing python programs from docstrings."
      ]
    },
    {
      "cell_type": "markdown",
      "metadata": {
        "id": "vBwKWt3yTX53"
      },
      "source": [
        "Here's a trio from the hep-python dataset:\n",
        "\n",
        "![](11.png)"
      ]
    },
    {
      "cell_type": "markdown",
      "metadata": {
        "id": "Y7RjR_sHThkh"
      },
      "source": [
        "#### PRM Math"
      ]
    },
    {
      "cell_type": "markdown",
      "metadata": {
        "id": "5eW9WaFTTjBR"
      },
      "source": [
        "- [PRM800k](https://arxiv.org/pdf/2305.20050) is an 800k step-level labels over 75000 solutions."
      ]
    },
    {
      "cell_type": "markdown",
      "metadata": {
        "id": "szGrONalTxuv"
      },
      "source": [
        "![](13.png)"
      ]
    },
    {
      "cell_type": "markdown",
      "metadata": {
        "id": "akqLzOCVT5AC"
      },
      "source": [
        "A trio from the math-prm dataset where the chosen response is human-generated.\n",
        "\n",
        "![](14.png)"
      ]
    },
    {
      "cell_type": "markdown",
      "metadata": {
        "id": "3-bTjD5-T9rx"
      },
      "source": [
        "### Prior Sets"
      ]
    },
    {
      "cell_type": "markdown",
      "metadata": {
        "id": "u6_wd1qVUACD"
      },
      "source": [
        "- Anthropic\n",
        "  - Helpful\n",
        "  - Harmless*\n",
        "  - HHH\n",
        "- MT Bench\n",
        "  - GPT-4*\n",
        "  - Human*\n",
        "- Stanford Human Preferences (SHP)\n",
        "- OpenAI's Learning to Summarize\n",
        "\n",
        "\\* Not used in the RewardBench leaderboard."
      ]
    },
    {
      "cell_type": "markdown",
      "metadata": {
        "id": "ZZFJYQb3UMf6"
      },
      "source": [
        "Here's a trio from the Anthropic Helpful dataset where the chosen model provides a helpful response to the prompt and rejecte response is not helpful.\n",
        "\n",
        "![](15.png)"
      ]
    },
    {
      "cell_type": "markdown",
      "metadata": {
        "id": "b0ufYOkAUcBo"
      },
      "source": [
        "A trio from Anthropic HHH where the chosen model provides an honest response \"I'm not sure...if I had to guess...\" while the rejected model provides a confident incorrect response.\n",
        "\n",
        "![](16.png)"
      ]
    },
    {
      "cell_type": "markdown",
      "metadata": {
        "id": "up_FG-VkUsoO"
      },
      "source": [
        "A trio from the Helpful subset of Anthropic HHH where the chosen model gives pros for each vacation destination whereas the rejected model gives a non-committal response.\n",
        "\n",
        "![](17.png)"
      ]
    },
    {
      "cell_type": "markdown",
      "metadata": {
        "id": "gRQACkOcU-C1"
      },
      "source": [
        "A trio from SHP where the chosen response is more detailed and thorough than the reject response (in my opinion). My personal opinion is that neither explain the concept at a five year old level.\n",
        "\n",
        "![](18.png)"
      ]
    },
    {
      "cell_type": "markdown",
      "metadata": {
        "id": "KOlMgU85VOn2"
      },
      "source": [
        "A trio from Learning to Summarize. In my opinion, both responses are similar.\n",
        "\n",
        "![](19.png)"
      ]
    },
    {
      "cell_type": "markdown",
      "metadata": {
        "id": "j1CbmV4sVzz7"
      },
      "source": [
        "---"
      ]
    },
    {
      "cell_type": "markdown",
      "metadata": {
        "id": "CYr6KhkCV0dD"
      },
      "source": [
        "Here is a summary of the datasets used for the RewardBench leaderboard, including a description of how chosen-rejected responses are generated.\n",
        "\n",
        "![](20.png)"
      ]
    },
    {
      "cell_type": "markdown",
      "metadata": {
        "id": "C3u8jDoJWFVz"
      },
      "source": [
        "### Distribution of Source Completions"
      ]
    },
    {
      "cell_type": "markdown",
      "metadata": {
        "id": "TwqxWtgBWIJq"
      },
      "source": [
        "The chosen and rejected responses are generated by a variety of models (including humans and both humans and models---\"unknown\"). Humans are the most common source of the response, with \"unknown\", GPT-3.5-turbo, GPT-4 and Llama-2-70b-chat rounding out the top five overall and for chosen responses. Two Mistral-7B variants are 4th and 5th most used for rejected responses.\n",
        "\n",
        "![](21.png)"
      ]
    },
    {
      "cell_type": "markdown",
      "metadata": {
        "id": "NH2syV_XWr9a"
      },
      "source": [
        "## Results"
      ]
    },
    {
      "cell_type": "markdown",
      "metadata": {
        "id": "65HOHxf1Ws1Y"
      },
      "source": [
        "### Leaderboard (from the paper)"
      ]
    },
    {
      "cell_type": "markdown",
      "metadata": {
        "id": "rxsaXFR-WxKa"
      },
      "source": [
        "The following table shows the top-20 models in terms of average performance (accuracy) on the five subsets of Chat, Chat Hard, Safety, Reasoning and Prior Sets. Note that 15 of the top 20 are DPO models, with 5 Sequence Classifiers. A random model would have an accuracty of 50% when chosing the preferred response. The highlighted accuracies are the highest in each column.\n",
        "\n",
        "![](22.png)"
      ]
    },
    {
      "cell_type": "markdown",
      "metadata": {
        "id": "CG9TM0cUXd2h"
      },
      "source": [
        "### Leaderboard as of 4/26/2024"
      ]
    },
    {
      "cell_type": "markdown",
      "metadata": {
        "id": "jz_6vfu0XhC6"
      },
      "source": [
        "The current leaderboard (at the time I made this presentation) had many new models involved. A Starling variant was still in the top 5, while Allen AI's tulu-2-dpo-70B had dropped to 11th place.\n",
        "\n",
        "![](23.png)"
      ]
    },
    {
      "cell_type": "markdown",
      "metadata": {
        "id": "fyrmmYjNX4jP"
      },
      "source": [
        "When sorting by Prior Sets (descending) you can see the paper's findings in action---none of the top 20 models were trained by DPO.\n",
        "\n",
        "![](24.png)"
      ]
    },
    {
      "cell_type": "markdown",
      "metadata": {
        "id": "grCoc86xYCzq"
      },
      "source": [
        "### Scaling Trends"
      ]
    },
    {
      "cell_type": "markdown",
      "metadata": {
        "id": "QEmU038TYEhr"
      },
      "source": [
        "The authors found that DPO trained models followed scaling laws (accuracy generally increased with model size). Whereas in the Qwen1.5 family (not DPO trained) for example, the accuracy actually regresses on Prior Sets as model size increases.\n",
        "\n",
        "![](25.png)"
      ]
    },
    {
      "cell_type": "markdown",
      "metadata": {
        "id": "6cM2LQZ5Yckr"
      },
      "source": [
        "### 7B Models"
      ]
    },
    {
      "cell_type": "markdown",
      "metadata": {
        "id": "NPgzDrU7YfId"
      },
      "source": [
        "The Zephyr-7B variants performed well in Chat Hard and Reasoning.\n",
        "\n",
        "![](26.png)"
      ]
    },
    {
      "cell_type": "markdown",
      "metadata": {
        "id": "PPXss9CeYuQT"
      },
      "source": [
        "### Chat Hard"
      ]
    },
    {
      "cell_type": "markdown",
      "metadata": {
        "id": "D0HCZQIXYvWr"
      },
      "source": [
        "On Chat Hard some models performed worse than random.\n",
        "\n",
        "![](27.png)"
      ]
    },
    {
      "cell_type": "markdown",
      "metadata": {
        "id": "2V3Hf7KyY-wG"
      },
      "source": [
        "### Safety"
      ]
    },
    {
      "cell_type": "markdown",
      "metadata": {
        "id": "9H_3vd2nY_vM"
      },
      "source": [
        "The authors highlighted three model behaviors for safety:\n",
        "\n",
        "- Top section: models refuse or respond when they should.\n",
        "- Middle: Models always refuse (low accuracy on Should Respond).\n",
        "- Bottom: Models always respond (low accuracy on Should Refuse).\n",
        "\n",
        "![](28.png)"
      ]
    },
    {
      "cell_type": "markdown",
      "metadata": {
        "id": "OPBP73jtZcEB"
      },
      "source": [
        "### Distribution of Model Accuracy by Dataset"
      ]
    },
    {
      "cell_type": "markdown",
      "metadata": {
        "id": "rCQ52SHrZoEW"
      },
      "source": [
        "The highlighted distributions show how for some datasets, none of the models had an accuracy anywhere close to 100%, showing an opportunity to improve these datasets and modeling methods.\n",
        "\n",
        "![](29.png)"
      ]
    },
    {
      "cell_type": "markdown",
      "metadata": {
        "id": "XKKgXg4waMeU"
      },
      "source": [
        "### Prompt Length Distribution by Dataset"
      ]
    },
    {
      "cell_type": "markdown",
      "metadata": {
        "id": "5-P5OnT-aQ7y"
      },
      "source": [
        "The authors showed the variation in (and average of) prompt lengths across the various datasets. Note that the AlpacaEval Length prompt lengths vary a lot although the average prompt length of chosen and rejected responses are close. For most of the other datasets the averages are either close (HumanEvalPack) or the chosen responses had a shorter prompt (LLMBar).\n",
        "\n",
        "![](30.png)"
      ]
    },
    {
      "cell_type": "markdown",
      "metadata": {
        "id": "yCmB8dHyayvP"
      },
      "source": [
        "### DPO vs Classifier RMs"
      ]
    },
    {
      "cell_type": "markdown",
      "metadata": {
        "id": "EevCtPoCa0yn"
      },
      "source": [
        "- This is an understudied field.\n",
        "- DPO model availability due to low compute requirements.\n",
        "- DPOs perform well on all subsets except Prior Sets.\n",
        "- Lack of documentation on reference models restricts DPO evaluation because using the \"wrong\" reference model leads to lower DPO performance.\n",
        "- DPOs regularize with KL.\n",
        "- DPOs are trained for multiple epochs (Sequence Classifiers usually trained for 1 epoch)."
      ]
    },
    {
      "cell_type": "markdown",
      "metadata": {
        "id": "q_8ltaN3bI5l"
      },
      "source": [
        "## Future Work"
      ]
    },
    {
      "cell_type": "markdown",
      "metadata": {
        "id": "Zss2FP0sbJ7O"
      },
      "source": [
        "- Explore reference free DPO model impacts on inference.\n",
        "\n",
        "The image below shows going from log probability ratio to probability ratio when the reference model is removed.\n",
        "\n",
        "![](31.png)\n",
        "\n",
        "- Analyze hyperparamters' role in DPO and RM classifier performance.\n",
        "- Incorporate generative reward modeling scores into leaderboard (already done in the current leaderboard).\n",
        "- Improve datasets with model accuracy ceilings under 100%.\n",
        "- Improve RMs to reduce variance (especially for challenging tasks).\n",
        "- Ablate base models and fine-tuning recipes to find the best RMs.\n",
        "- Identify a practical RM output distribution for downstream RL training."
      ]
    },
    {
      "cell_type": "markdown",
      "metadata": {
        "id": "BxfYB1pRbuVv"
      },
      "source": [
        "## RewardBench Result Analysis"
      ]
    },
    {
      "cell_type": "markdown",
      "metadata": {
        "id": "bUOKqeMpbxAD"
      },
      "source": [
        "I couldn't get the [rewardbench repo](https://github.com/allenai/reward-bench/tree/main) to install locally in time for the presentation so I've copy/pasted the critical functions to get the datasets in [this notebook](https://colab.research.google.com/drive/1HENcTJbbBS4GxLIJI0L80cxdiOTnkdmw?usp=sharing) in order to create custom visualizations of the model results."
      ]
    },
    {
      "cell_type": "markdown",
      "metadata": {
        "id": "WUzR3Fb2cFR2"
      },
      "source": [
        "## Final Thoughts"
      ]
    },
    {
      "cell_type": "markdown",
      "metadata": {
        "id": "jG3nWxLmcG30"
      },
      "source": [
        "I found this to be another inspiring paper, especially with the rich content in the Future Work section on how much this field needs to be studied. Getting a glimpse into how human values map onto language models is a fascinating frontier to explore.\n",
        "\n",
        "I hope you enjoyed this paper summary!"
      ]
    }
  ],
  "metadata": {
    "colab": {
      "collapsed_sections": [
        "bokddvJnI_CR"
      ],
      "provenance": []
    },
    "kernelspec": {
      "display_name": "Python 3",
      "name": "python3"
    },
    "language_info": {
      "name": "python"
    }
  },
  "nbformat": 4,
  "nbformat_minor": 0
}

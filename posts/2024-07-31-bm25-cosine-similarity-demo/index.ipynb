{
  "cells": [
    {
      "cell_type": "raw",
      "metadata": {
        "vscode": {
          "languageId": "raw"
        }
      },
      "source": [
        "---\n",
        "title: BM25 and Cosine Similarity Demo\n",
        "date: \"2024-07-25\"\n",
        "author: Vishal Bakshi\n",
        "description: In this blog post walk through a couple of toy examples using full text search and cosine similarity to answer queries using a toy dataset of documents.\n",
        "categories:\n",
        "    - python\n",
        "    - RAG\n",
        "    - information retrieval\n",
        "---"
      ]
    },
    {
      "cell_type": "markdown",
      "metadata": {
        "id": "c4KedFWPijBL"
      },
      "source": [
        "## Background"
      ]
    },
    {
      "cell_type": "markdown",
      "metadata": {
        "id": "KFdLXweJs_z2"
      },
      "source": [
        "In this notebook I'll work through a simple demo of full text search (using BM25 in SQLite) and cosine similarity (using `sentence_transformers`) to get my feet wet before I dive into building a pipeline for my fastbookRAG project (where I'll be trying to answer questions from end-of-chapter questionnaires in the freely available fastai textbook using an LLM, full text search and embedding cosine similarity)."
      ]
    },
    {
      "cell_type": "markdown",
      "metadata": {
        "id": "LAPfrDg2tdqb"
      },
      "source": [
        "### SQLite Full Text Search"
      ]
    },
    {
      "cell_type": "markdown",
      "metadata": {
        "id": "w4DxIdGItgAK"
      },
      "source": [
        "In this demo I intend to show how different keywords can be used to match different texts during full text search.\n",
        "\n",
        "\n",
        "SQLite is built-in to the python standard library and has a full text search (using BM25) built-in! I'll start by creating a demo database."
      ]
    },
    {
      "cell_type": "code",
      "execution_count": 1,
      "metadata": {
        "id": "hLSyibnMbwlg"
      },
      "outputs": [],
      "source": [
        "import sqlite3\n",
        "\n",
        "conn = sqlite3.connect('my.db')\n",
        "conn.close()"
      ]
    },
    {
      "cell_type": "markdown",
      "metadata": {
        "id": "17YO-DHBtwE-"
      },
      "source": [
        "Full text search is available in virtual tables, so I'll create a table with a single column which will hold the text data that I want to search when responding to a query. The key statement is `USING FTS5(text);`."
      ]
    },
    {
      "cell_type": "code",
      "execution_count": 2,
      "metadata": {
        "id": "9ZhNo0DdtsuE"
      },
      "outputs": [],
      "source": [
        "conn = sqlite3.connect('my.db')\n",
        "cur = conn.cursor()\n",
        "res = cur.execute(\"\"\"\n",
        "\n",
        "CREATE VIRTUAL TABLE virtual_text_data\n",
        "USING FTS5(text);\n",
        "\n",
        "\"\"\")\n",
        "conn.close()"
      ]
    },
    {
      "cell_type": "markdown",
      "metadata": {
        "id": "U3dVrwwPuDkg"
      },
      "source": [
        "I'll now populate my demo \"database\" with my demo \"dataset\" that contains three lines of natural language text that I wrote based on ESPN stats (and my opinions). I have intentionally used different parts of the name `\"Philadelphia Eagles\"` in each record:"
      ]
    },
    {
      "cell_type": "code",
      "execution_count": 3,
      "metadata": {
        "id": "gIOMImFXuMbp"
      },
      "outputs": [],
      "source": [
        "conn = sqlite3.connect('my.db')\n",
        "cur = conn.cursor()\n",
        "res = cur.execute(\"\"\"\n",
        "\n",
        "INSERT INTO virtual_text_data(text)\n",
        "VALUES\n",
        " ('The Philadelphia Eagles are set to have a great season in 2024'),\n",
        " ('The Eagles signed superstar running back Saquon Barkley in the offseason'),\n",
        " ('Philadelphia went 1-7 to finish their season last year');\n",
        "\n",
        " \"\"\")\n",
        "conn.commit()\n",
        "conn.close()"
      ]
    },
    {
      "cell_type": "code",
      "execution_count": 6,
      "metadata": {
        "colab": {
          "base_uri": "https://localhost:8080/"
        },
        "id": "JRetLBzXuedK",
        "outputId": "38e210b8-1fc8-4c45-929b-8841af320e97"
      },
      "outputs": [
        {
          "data": {
            "text/plain": [
              "[('The Philadelphia Eagles are set to have a great season in 2024',),\n",
              " ('The Eagles signed superstar running back Saquon Barkley in the offseason',),\n",
              " ('Philadelphia went 1-7 to finish their season last year',)]"
            ]
          },
          "execution_count": 6,
          "metadata": {},
          "output_type": "execute_result"
        }
      ],
      "source": [
        "conn = sqlite3.connect('my.db')\n",
        "cur = conn.cursor()\n",
        "res = cur.execute(\"SELECT * from virtual_text_data\")\n",
        "res.fetchall()"
      ]
    },
    {
      "cell_type": "markdown",
      "metadata": {
        "id": "PHRV0H5sui3K"
      },
      "source": [
        "Finally, I'll perform full text search by passing a set of keywords in my SQL query using three ways to refer to the Philadelphia Eagles. The key statement is:\n",
        "\n",
        "```SQL\n",
        "WHERE virtual_text_data MATCH '\"Philadelphia Eagles\" OR \"Eagles\" OR \"Philadelphia\"'\n",
        "```\n",
        "\n",
        "The results are as expected---the record with the full term `\"Philadelphia Eagles\"` (all three keywords match) has the highest BM25 rank while the other two have equal scores as they both contain just one keyword (`\"Philadelphia\"` or `\"Eagles\"`). Note that SQLite multiplies the BM25 rank by `-1` since by default it returns ascending order."
      ]
    },
    {
      "cell_type": "code",
      "execution_count": 7,
      "metadata": {
        "colab": {
          "base_uri": "https://localhost:8080/"
        },
        "id": "svvFvRPHugDf",
        "outputId": "9f2e6f07-12f1-4b38-f01b-d6cac112a77e"
      },
      "outputs": [
        {
          "data": {
            "text/plain": [
              "[('The Philadelphia Eagles are set to have a great season in 2024',\n",
              "  -0.4925110954237839),\n",
              " ('Philadelphia went 1-7 to finish their season last year',\n",
              "  -1.03862660944206e-06),\n",
              " ('The Eagles signed superstar running back Saquon Barkley in the offseason',\n",
              "  -1e-06)]"
            ]
          },
          "execution_count": 7,
          "metadata": {},
          "output_type": "execute_result"
        }
      ],
      "source": [
        "res = cur.execute(\"\"\"\n",
        "\n",
        "SELECT *, rank\n",
        "  from virtual_text_data\n",
        "WHERE virtual_text_data MATCH '\"Philadelphia Eagles\" OR \"Eagles\" OR \"Philadelphia\"'\n",
        "ORDER BY rank\n",
        "\n",
        "\"\"\")\n",
        "\n",
        "res.fetchall()"
      ]
    },
    {
      "cell_type": "markdown",
      "metadata": {
        "id": "SJR-ucEmvamG"
      },
      "source": [
        "Changing the order of keywords does not change the BM25 ranking:"
      ]
    },
    {
      "cell_type": "code",
      "execution_count": 8,
      "metadata": {
        "colab": {
          "base_uri": "https://localhost:8080/"
        },
        "id": "LO7Jd7OFu690",
        "outputId": "f91661fb-c8e3-41f8-9c97-f7c16a728373"
      },
      "outputs": [
        {
          "data": {
            "text/plain": [
              "[('The Philadelphia Eagles are set to have a great season in 2024',\n",
              "  -0.4925110954237839),\n",
              " ('Philadelphia went 1-7 to finish their season last year',\n",
              "  -1.03862660944206e-06),\n",
              " ('The Eagles signed superstar running back Saquon Barkley in the offseason',\n",
              "  -1e-06)]"
            ]
          },
          "execution_count": 8,
          "metadata": {},
          "output_type": "execute_result"
        }
      ],
      "source": [
        "res = cur.execute(\"\"\"\n",
        "\n",
        "SELECT *, rank\n",
        "  from virtual_text_data\n",
        "WHERE virtual_text_data MATCH '\"Eagles\" OR \"Philadelphia Eagles\" OR \"Philadelphia\"'\n",
        "ORDER BY rank\n",
        "\n",
        "\"\"\")\n",
        "\n",
        "res.fetchall()"
      ]
    },
    {
      "cell_type": "code",
      "execution_count": 9,
      "metadata": {
        "colab": {
          "base_uri": "https://localhost:8080/"
        },
        "id": "69-KBYAHvt9N",
        "outputId": "b5595d1e-5b65-4274-a3e7-e5257796277d"
      },
      "outputs": [
        {
          "data": {
            "text/plain": [
              "[('The Philadelphia Eagles are set to have a great season in 2024',\n",
              "  -0.4925110954237839),\n",
              " ('Philadelphia went 1-7 to finish their season last year',\n",
              "  -1.03862660944206e-06),\n",
              " ('The Eagles signed superstar running back Saquon Barkley in the offseason',\n",
              "  -1e-06)]"
            ]
          },
          "execution_count": 9,
          "metadata": {},
          "output_type": "execute_result"
        }
      ],
      "source": [
        "res = cur.execute(\"\"\"\n",
        "\n",
        "SELECT *, rank\n",
        "  from virtual_text_data\n",
        "WHERE virtual_text_data MATCH '\"Philadelphia\" OR \"Philadelphia Eagles\" OR \"Eagles\"'\n",
        "ORDER BY rank\n",
        "\n",
        "\"\"\")\n",
        "\n",
        "res.fetchall()"
      ]
    },
    {
      "cell_type": "markdown",
      "metadata": {
        "id": "Cs7gUkLkvyYZ"
      },
      "source": [
        "In this way, I can use a set of keywords to perform a full text search of my database. In my fastbookRAG project, I'll be applying the same approach: querying with a set of keywords a virtual table containing chunks of text from the fastbook chapters."
      ]
    },
    {
      "cell_type": "markdown",
      "metadata": {
        "id": "UXXlgeOOwDFR"
      },
      "source": [
        "## Cosine Similarity"
      ]
    },
    {
      "cell_type": "markdown",
      "metadata": {
        "id": "D7Di4tpawOdq"
      },
      "source": [
        "For this demo, I intend to illustrate how cosine similarity can be used to capture differences in semantic meaning between texts."
      ]
    },
    {
      "cell_type": "markdown",
      "metadata": {
        "id": "sD-w6h8Nwm6F"
      },
      "source": [
        "I'll heavily reference Jeremy Howard's [Hacker's Guide to LLM RAG example](https://github.com/fastai/lm-hackers/blob/main/lm-hackers.ipynb)."
      ]
    },
    {
      "cell_type": "code",
      "execution_count": null,
      "metadata": {
        "id": "f2k1dbC5vxOI"
      },
      "outputs": [],
      "source": [
        "!pip install sentence-transformers -Uqq\n",
        "from sentence_transformers import SentenceTransformer\n",
        "emb_model = SentenceTransformer(\"BAAI/bge-small-en-v1.5\")"
      ]
    },
    {
      "cell_type": "markdown",
      "metadata": {
        "id": "MA_OPc50xnar"
      },
      "source": [
        "Here's my demo \"database\"---a few strings, with two of them intentionally similar (related to passing) to help illustrate the difference in semantic similarity with the query."
      ]
    },
    {
      "cell_type": "code",
      "execution_count": 11,
      "metadata": {
        "id": "hQ9_ZkLWxyhA"
      },
      "outputs": [],
      "source": [
        "chunks = [\n",
        "    'Jalen Hurts threw for 3858 yards in the 2023 season',\n",
        "    'Jalen Hurts had a combined 38 TDs (23 passing, 15 rushing) in the 2023 season',\n",
        "    \"Hurts' number one target in the 2023 season was A.J. Brown with 158 targets\"\n",
        "]"
      ]
    },
    {
      "cell_type": "code",
      "execution_count": 12,
      "metadata": {
        "id": "5csx0-3yxy47"
      },
      "outputs": [],
      "source": [
        "q = \"How many passing yards did Jalen Hurts have in the 2023 season?\""
      ]
    },
    {
      "cell_type": "markdown",
      "metadata": {
        "id": "uZwsEbFsx4tN"
      },
      "source": [
        "I'll embed the data and the query:"
      ]
    },
    {
      "cell_type": "code",
      "execution_count": 13,
      "metadata": {
        "colab": {
          "base_uri": "https://localhost:8080/"
        },
        "id": "Mlq4S8Vbx1GD",
        "outputId": "d1aef976-d47b-4b5b-afe1-57dadfe4941e"
      },
      "outputs": [
        {
          "data": {
            "text/plain": [
              "(torch.Size([3, 384]), torch.Size([384]))"
            ]
          },
          "execution_count": 13,
          "metadata": {},
          "output_type": "execute_result"
        }
      ],
      "source": [
        "data_embs = emb_model.encode(chunks, convert_to_tensor=True)\n",
        "q_embs = emb_model.encode(q, convert_to_tensor=True)\n",
        "data_embs.shape, q_embs.shape"
      ]
    },
    {
      "cell_type": "markdown",
      "metadata": {
        "id": "E4LiSrgbyxHD"
      },
      "source": [
        "With the power of broadcasting, I'll calculate the cosine similarity (with `dim=1`) between the query and the entire dataset and sort it in descending order:"
      ]
    },
    {
      "cell_type": "code",
      "execution_count": 14,
      "metadata": {
        "id": "9yCH-jGGyErO"
      },
      "outputs": [],
      "source": [
        "import torch\n",
        "import torch.nn.functional as F"
      ]
    },
    {
      "cell_type": "code",
      "execution_count": 15,
      "metadata": {
        "colab": {
          "base_uri": "https://localhost:8080/"
        },
        "id": "15bSKrOJy9UE",
        "outputId": "b0e4c627-0de7-4387-9131-713bad4ab6c6"
      },
      "outputs": [
        {
          "data": {
            "text/plain": [
              "tensor([0.9298, 0.9263, 0.7729])"
            ]
          },
          "execution_count": 15,
          "metadata": {},
          "output_type": "execute_result"
        }
      ],
      "source": [
        "res = F.cosine_similarity(q_embs, data_embs, dim=1).sort(descending=True)\n",
        "res[0]"
      ]
    },
    {
      "cell_type": "markdown",
      "metadata": {
        "id": "huWg089hzFvQ"
      },
      "source": [
        "The record in my database that best matches the query is the correct answer:"
      ]
    },
    {
      "cell_type": "code",
      "execution_count": 16,
      "metadata": {
        "colab": {
          "base_uri": "https://localhost:8080/",
          "height": 35
        },
        "id": "PNvv30TfzDOd",
        "outputId": "571a8296-c856-4214-dc79-493e006f18af"
      },
      "outputs": [
        {
          "data": {
            "application/vnd.google.colaboratory.intrinsic+json": {
              "type": "string"
            },
            "text/plain": [
              "'Jalen Hurts threw for 3858 yards in the 2023 season'"
            ]
          },
          "execution_count": 16,
          "metadata": {},
          "output_type": "execute_result"
        }
      ],
      "source": [
        "chunks[res[1][0]]"
      ]
    },
    {
      "cell_type": "markdown",
      "metadata": {
        "id": "ZEHxxYSldE1H"
      },
      "source": [
        "Although the second-highest incorrect answer is close (`0.9263` vs `0.9298`) maybe because it contains the word \"passing\"?"
      ]
    },
    {
      "cell_type": "code",
      "execution_count": 17,
      "metadata": {
        "colab": {
          "base_uri": "https://localhost:8080/",
          "height": 35
        },
        "id": "C-SHIqUydPLe",
        "outputId": "2ad693a2-f754-4f2e-cec2-ec21073a3c34"
      },
      "outputs": [
        {
          "data": {
            "application/vnd.google.colaboratory.intrinsic+json": {
              "type": "string"
            },
            "text/plain": [
              "'Jalen Hurts had a combined 38 TDs (23 passing, 15 rushing) in the 2023 season'"
            ]
          },
          "execution_count": 17,
          "metadata": {},
          "output_type": "execute_result"
        }
      ],
      "source": [
        "chunks[res[1][1]]"
      ]
    },
    {
      "cell_type": "markdown",
      "metadata": {
        "id": "oKoymNSizPbP"
      },
      "source": [
        "### Hybrid Search"
      ]
    },
    {
      "cell_type": "markdown",
      "metadata": {
        "id": "Wy2Tk5JNzRhg"
      },
      "source": [
        "I'll now create an example demonstration of combining both full text search and cosine similarity to answer a query. I have intentionally chosen a set of records where full text search and cosine similarity individually do not provide the correct answer as the top result but both combined do. Reaching this result was considerably harder than I expected."
      ]
    },
    {
      "cell_type": "code",
      "execution_count": 18,
      "metadata": {
        "id": "orpqS4mjzMRO"
      },
      "outputs": [],
      "source": [
        "chunks = [\n",
        "    'Jalen Hurts completed 81 passes to DeVonta Smith',\n",
        "    'A.J. Brown had 25 more total catches than DeVonta Smith',\n",
        "    \"DeVonta Smith caught 25 fewer passes than A.J. Brown\",\n",
        "    \"DeVonta Smith caught 7 touchdowns in the 2023 season\",\n",
        "    \"DeVonta Smith had 81 catches\",\n",
        "]"
      ]
    },
    {
      "cell_type": "markdown",
      "metadata": {
        "id": "uMQ6xM2zLUO5"
      },
      "source": [
        "I created a helper function to expedite my iterations as I tried at least a dozen different text combinations:"
      ]
    },
    {
      "cell_type": "code",
      "execution_count": 19,
      "metadata": {
        "id": "C1tAJBstLQ04"
      },
      "outputs": [],
      "source": [
        "def prep_query(chunks):\n",
        "  insert_q = ''\n",
        "\n",
        "  for i, chunk in enumerate(chunks):\n",
        "    if i != len(chunks)-1:\n",
        "      insert_q += '(\"' + chunk + '\"),\\n'\n",
        "    else:\n",
        "      insert_q += '(\"' + chunk + '\");'\n",
        "\n",
        "  q = f\"\"\"INSERT INTO virtual_text_data(text)\n",
        "  VALUES\n",
        "  {insert_q}\n",
        "  \"\"\"\n",
        "\n",
        "  return q"
      ]
    },
    {
      "cell_type": "code",
      "execution_count": 20,
      "metadata": {
        "colab": {
          "base_uri": "https://localhost:8080/"
        },
        "id": "tvrcQqg4LSF6",
        "outputId": "0fd00700-a4bd-4975-f835-73174b34a208"
      },
      "outputs": [
        {
          "name": "stdout",
          "output_type": "stream",
          "text": [
            "INSERT INTO virtual_text_data(text)\n",
            "  VALUES \n",
            "  (\"Jalen Hurts completed 81 passes to DeVonta Smith\"),\n",
            "(\"A.J. Brown had 25 more total catches than DeVonta Smith\"),\n",
            "(\"DeVonta Smith caught 25 fewer passes than A.J. Brown\"),\n",
            "(\"DeVonta Smith caught 7 touchdowns in the 2023 season\"),\n",
            "(\"DeVonta Smith had 81 catches\");\n",
            "  \n"
          ]
        }
      ],
      "source": [
        "q = prep_query(chunks)\n",
        "print(q)"
      ]
    },
    {
      "cell_type": "code",
      "execution_count": 21,
      "metadata": {
        "colab": {
          "base_uri": "https://localhost:8080/"
        },
        "id": "Z9aSQS67LEEo",
        "outputId": "9b5a92f7-93c2-4775-d3f2-fc0d9ca534ac"
      },
      "outputs": [
        {
          "data": {
            "text/plain": [
              "[('Jalen Hurts completed 81 passes to DeVonta Smith',),\n",
              " ('A.J. Brown had 25 more total catches than DeVonta Smith',),\n",
              " ('DeVonta Smith caught 25 fewer passes than A.J. Brown',),\n",
              " ('DeVonta Smith caught 7 touchdowns in the 2023 season',),\n",
              " ('DeVonta Smith had 81 catches',)]"
            ]
          },
          "execution_count": 21,
          "metadata": {},
          "output_type": "execute_result"
        }
      ],
      "source": [
        "res = cur.execute('DELETE from virtual_text_data;')\n",
        "conn.commit()\n",
        "\n",
        "res = cur.execute(q)\n",
        "conn.commit()\n",
        "\n",
        "res = cur.execute(\"SELECT * from virtual_text_data\")\n",
        "res.fetchall()"
      ]
    },
    {
      "cell_type": "markdown",
      "metadata": {
        "id": "V29XamW6LmfE"
      },
      "source": [
        "The keywords I chose:\n",
        "\n",
        "```\n",
        "'\"DeVonta Smith\" OR \"receptions\" OR \"catches\" OR \"total\"'\n",
        "```\n",
        "\n",
        "are aiming to get a result that tells us how many total receptions (or catches) that DeVonta Smith had. The correct \"document\" from the \"database\" is:\n",
        "\n",
        "```\n",
        "'DeVonta Smith had 81 catches'\n",
        "```\n",
        "\n",
        "BM25's top ranked record is not the correct one:\n",
        "\n",
        "```\n",
        "'A.J. Brown had 25 more total catches than DeVonta Smith'\n",
        "```\n",
        "\n",
        "I could be wrong, but BM25 might have chosen this record because it had the most keyword matches (\"DeVonta Smith\", \"total\" and \"catches\") while the correct record only has two keyword matches (\"DeVonta Smith\" and \"catches\")."
      ]
    },
    {
      "cell_type": "code",
      "execution_count": 23,
      "metadata": {
        "colab": {
          "base_uri": "https://localhost:8080/"
        },
        "id": "HVXW4BqyLMFc",
        "outputId": "93d2e505-c120-439f-b4cf-c3211a63d470"
      },
      "outputs": [
        {
          "data": {
            "text/plain": [
              "['A.J. Brown had 25 more total catches than DeVonta Smith',\n",
              " 'DeVonta Smith had 81 catches',\n",
              " 'Jalen Hurts completed 81 passes to DeVonta Smith',\n",
              " 'DeVonta Smith caught 7 touchdowns in the 2023 season',\n",
              " 'DeVonta Smith caught 25 fewer passes than A.J. Brown']"
            ]
          },
          "execution_count": 23,
          "metadata": {},
          "output_type": "execute_result"
        }
      ],
      "source": [
        "res = cur.execute(\"\"\"\n",
        "\n",
        "SELECT *, rank\n",
        "  from virtual_text_data\n",
        "WHERE virtual_text_data MATCH '\"DeVonta Smith\" OR \"receptions\" OR \"catches\" OR \"total\"'\n",
        "ORDER BY rank\n",
        "\n",
        "\"\"\")\n",
        "\n",
        "rts5_res = [el[0] for el in res.fetchall()]\n",
        "rts5_res"
      ]
    },
    {
      "cell_type": "markdown",
      "metadata": {
        "id": "7EkbOYMQMw-T"
      },
      "source": [
        "For cosine similarity, I intentionally chose a slightly ambiguous query, expecting it to perform worse because of the indirect way of asking the desired question. The query is implicitly asking \"How many of Jalen Hurts' completions were to DeVonta Smith?\".\n",
        "\n",
        "I found that this caused the record with the largest cosine similarity to be incorrect:\n",
        "\n",
        "```\n",
        "'DeVonta Smith caught 7 touchdowns in the 2023 season'\n",
        "```\n",
        "\n",
        "I don't have a good sense of why this string is closest to the query in embedding space."
      ]
    },
    {
      "cell_type": "code",
      "execution_count": 24,
      "metadata": {
        "id": "XJLq_PngLMIG"
      },
      "outputs": [],
      "source": [
        "q = \"How many completions to DeVonta Smith?\""
      ]
    },
    {
      "cell_type": "code",
      "execution_count": 25,
      "metadata": {
        "colab": {
          "base_uri": "https://localhost:8080/"
        },
        "id": "5FDkDE7NLMMr",
        "outputId": "1b400821-84ef-4288-82c8-ee7df1cb4f10"
      },
      "outputs": [
        {
          "data": {
            "text/plain": [
              "(torch.Size([5, 384]), torch.Size([384]))"
            ]
          },
          "execution_count": 25,
          "metadata": {},
          "output_type": "execute_result"
        }
      ],
      "source": [
        "data_embs = emb_model.encode(chunks, convert_to_tensor=True)\n",
        "q_embs = emb_model.encode(q, convert_to_tensor=True)\n",
        "data_embs.shape, q_embs.shape"
      ]
    },
    {
      "cell_type": "code",
      "execution_count": 26,
      "metadata": {
        "colab": {
          "base_uri": "https://localhost:8080/"
        },
        "id": "Eu6ckRGONYIW",
        "outputId": "cbe80dbb-5da9-4db2-9a38-485aaa32d289"
      },
      "outputs": [
        {
          "data": {
            "text/plain": [
              "tensor([3, 0, 4, 2, 1])"
            ]
          },
          "execution_count": 26,
          "metadata": {},
          "output_type": "execute_result"
        }
      ],
      "source": [
        "res = F.cosine_similarity(q_embs, data_embs, dim=1).sort(descending=True)[1]\n",
        "res"
      ]
    },
    {
      "cell_type": "code",
      "execution_count": 27,
      "metadata": {
        "colab": {
          "base_uri": "https://localhost:8080/",
          "height": 35
        },
        "id": "EfwGdIksNllA",
        "outputId": "f2a0b3dd-c7b1-4dce-b633-8940a9d74851"
      },
      "outputs": [
        {
          "data": {
            "application/vnd.google.colaboratory.intrinsic+json": {
              "type": "string"
            },
            "text/plain": [
              "'DeVonta Smith caught 7 touchdowns in the 2023 season'"
            ]
          },
          "execution_count": 27,
          "metadata": {},
          "output_type": "execute_result"
        }
      ],
      "source": [
        "chunks[res[0]] # highest cosine similarity"
      ]
    },
    {
      "cell_type": "markdown",
      "metadata": {
        "id": "8LAGZKQANo27"
      },
      "source": [
        "So far so good---both BM25 and cosine similarity have failed to return the correct answer to my query.\n",
        "\n",
        "I'll combine the two methods in two ways that I've heard of before:\n",
        "\n",
        "1. Pick the top n (in this case 3) BM25 ranked responses, calculate cosine similarity between the query and those responses and pick the record with the highest cosine similarity.\n",
        "2. Weigh the BM25 rank and cosine similarity and pick the record with the highest weighted score."
      ]
    },
    {
      "cell_type": "markdown",
      "metadata": {
        "id": "pOyvA_VJOj9i"
      },
      "source": [
        "### Cosine Similarity of Top-3 BM25 Records"
      ]
    },
    {
      "cell_type": "markdown",
      "metadata": {
        "id": "L2nqUy74OsFg"
      },
      "source": [
        "Obviously, I chose this whole setup because I saw that while BM25 didn't rank the correct record the highest, it did rank it second-highest, so it would be in my top-3. I was hoping that cosine similarity would take care of the rest, and it did."
      ]
    },
    {
      "cell_type": "code",
      "execution_count": 28,
      "metadata": {
        "colab": {
          "base_uri": "https://localhost:8080/"
        },
        "id": "QtvFc84DOvyc",
        "outputId": "d3cbed85-1b6b-41e6-8521-10a5ec8518e2"
      },
      "outputs": [
        {
          "data": {
            "text/plain": [
              "['A.J. Brown had 25 more total catches than DeVonta Smith',\n",
              " 'DeVonta Smith had 81 catches',\n",
              " 'Jalen Hurts completed 81 passes to DeVonta Smith']"
            ]
          },
          "execution_count": 28,
          "metadata": {},
          "output_type": "execute_result"
        }
      ],
      "source": [
        "top3 = rts5_res[:3]\n",
        "top3"
      ]
    },
    {
      "cell_type": "markdown",
      "metadata": {
        "id": "l8ajd9hvPAPb"
      },
      "source": [
        "With this combined approach, cosine similarity correctly yields the correct response:\n",
        "\n",
        "```\n",
        "Jalen Hurts completed 81 passes to DeVonta Smith\n",
        "```\n",
        "\n",
        "My guess is that the cosine similarity between this record and the query is largest because of the words `\"completed\"` and `\"completions\"` being similar."
      ]
    },
    {
      "cell_type": "code",
      "execution_count": 29,
      "metadata": {
        "colab": {
          "base_uri": "https://localhost:8080/",
          "height": 35
        },
        "id": "sV6ekQg4PIDi",
        "outputId": "125681b4-fdb5-42f2-b456-b04f6d6f5526"
      },
      "outputs": [
        {
          "data": {
            "application/vnd.google.colaboratory.intrinsic+json": {
              "type": "string"
            },
            "text/plain": [
              "'How many completions to DeVonta Smith?'"
            ]
          },
          "execution_count": 29,
          "metadata": {},
          "output_type": "execute_result"
        }
      ],
      "source": [
        "q"
      ]
    },
    {
      "cell_type": "code",
      "execution_count": 30,
      "metadata": {
        "colab": {
          "base_uri": "https://localhost:8080/"
        },
        "id": "kcMTEWxHPAW0",
        "outputId": "89e83e03-b6fe-470c-f534-3d0fba93f5c2"
      },
      "outputs": [
        {
          "data": {
            "text/plain": [
              "(torch.Size([3, 384]), torch.Size([384]))"
            ]
          },
          "execution_count": 30,
          "metadata": {},
          "output_type": "execute_result"
        }
      ],
      "source": [
        "data_embs = emb_model.encode(top3, convert_to_tensor=True)\n",
        "q_embs = emb_model.encode(q, convert_to_tensor=True)\n",
        "data_embs.shape, q_embs.shape"
      ]
    },
    {
      "cell_type": "code",
      "execution_count": 31,
      "metadata": {
        "colab": {
          "base_uri": "https://localhost:8080/",
          "height": 35
        },
        "id": "sRVOucwnPLBn",
        "outputId": "fbb34c09-f4dd-4327-bcfa-6fea689910a2"
      },
      "outputs": [
        {
          "data": {
            "application/vnd.google.colaboratory.intrinsic+json": {
              "type": "string"
            },
            "text/plain": [
              "'Jalen Hurts completed 81 passes to DeVonta Smith'"
            ]
          },
          "execution_count": 31,
          "metadata": {},
          "output_type": "execute_result"
        }
      ],
      "source": [
        "res = F.cosine_similarity(q_embs, data_embs, dim=1).sort(descending=True)[1]\n",
        "top3[res[0]]"
      ]
    },
    {
      "cell_type": "markdown",
      "metadata": {
        "id": "3EMYzm4NQBBw"
      },
      "source": [
        "### Weighted Cosine Similarity and BM25 Score"
      ]
    },
    {
      "cell_type": "markdown",
      "metadata": {
        "id": "C3tvpLMhVSlK"
      },
      "source": [
        "I was unable to achieve the correct response with a weighted average for this particular combination of query, BM25 results and cosine similarity results. The top-most ranked BM25 and cosine similarity scores (for the incorrect responses) were just too high to overcome."
      ]
    },
    {
      "cell_type": "markdown",
      "metadata": {
        "id": "zrGMRZSxWXIF"
      },
      "source": [
        "Here are the BM25 results:"
      ]
    },
    {
      "cell_type": "code",
      "execution_count": 32,
      "metadata": {
        "colab": {
          "base_uri": "https://localhost:8080/"
        },
        "id": "z4GJzFcXQXct",
        "outputId": "62079188-93f8-44f9-f373-931c4508c389"
      },
      "outputs": [
        {
          "data": {
            "text/plain": [
              "[('A.J. Brown had 25 more total catches than DeVonta Smith',\n",
              "  1.2880369135898475),\n",
              " ('DeVonta Smith had 81 catches', 0.4059995941883513),\n",
              " ('Jalen Hurts completed 81 passes to DeVonta Smith', 1.029379760609358e-06),\n",
              " ('DeVonta Smith caught 7 touchdowns in the 2023 season',\n",
              "  9.813278008298757e-07),\n",
              " ('DeVonta Smith caught 25 fewer passes than A.J. Brown',\n",
              "  9.375619425173439e-07)]"
            ]
          },
          "execution_count": 32,
          "metadata": {},
          "output_type": "execute_result"
        }
      ],
      "source": [
        "res = cur.execute(\"\"\"\n",
        "\n",
        "SELECT *, rank\n",
        "  from virtual_text_data\n",
        "WHERE virtual_text_data MATCH '\"DeVonta Smith\" OR \"receptions\" OR \"catches\" OR \"total\"'\n",
        "ORDER BY rank\n",
        "\n",
        "\"\"\")\n",
        "\n",
        "rts5_res = res.fetchall()\n",
        "rts5_res = [(el[0], -1 * el[1]) for el in rts5_res]\n",
        "rts5_res"
      ]
    },
    {
      "cell_type": "markdown",
      "metadata": {
        "id": "dSXqQhtMWY2_"
      },
      "source": [
        "And the cosine similarity results:"
      ]
    },
    {
      "cell_type": "code",
      "execution_count": 33,
      "metadata": {
        "colab": {
          "base_uri": "https://localhost:8080/"
        },
        "id": "L88SFpp6QXig",
        "outputId": "79248d54-f880-421a-aa85-0af7bf2545d3"
      },
      "outputs": [
        {
          "data": {
            "text/plain": [
              "[('DeVonta Smith caught 7 touchdowns in the 2023 season', 0.7455482482910156),\n",
              " ('Jalen Hurts completed 81 passes to DeVonta Smith', 0.7004185914993286),\n",
              " ('DeVonta Smith had 81 catches', 0.6995621919631958),\n",
              " ('DeVonta Smith caught 25 fewer passes than A.J. Brown', 0.6626170873641968),\n",
              " ('A.J. Brown had 25 more total catches than DeVonta Smith',\n",
              "  0.6136136651039124)]"
            ]
          },
          "execution_count": 33,
          "metadata": {},
          "output_type": "execute_result"
        }
      ],
      "source": [
        "data_embs = emb_model.encode(chunks, convert_to_tensor=True)\n",
        "q_embs = emb_model.encode(q, convert_to_tensor=True)\n",
        "values, indices = F.cosine_similarity(q_embs, data_embs, dim=1).sort(descending=True)\n",
        "cs_res = list(zip(values.tolist(), indices.tolist()))\n",
        "cs_res = [(chunks[el[1]], el[0]) for el in cs_res]\n",
        "cs_res"
      ]
    },
    {
      "cell_type": "markdown",
      "metadata": {
        "id": "AY4PiNu2WbP9"
      },
      "source": [
        "I'll combine the two in a `DataFrame`:"
      ]
    },
    {
      "cell_type": "code",
      "execution_count": 34,
      "metadata": {
        "colab": {
          "base_uri": "https://localhost:8080/",
          "height": 363
        },
        "id": "tDJVYAGrTl7b",
        "outputId": "75985f06-8cb5-4594-82d9-aa1dfcb260a4"
      },
      "outputs": [
        {
          "data": {
            "application/vnd.google.colaboratory.intrinsic+json": {
              "summary": "{\n  \"name\": \"df\",\n  \"rows\": 10,\n  \"fields\": [\n    {\n      \"column\": \"method\",\n      \"properties\": {\n        \"dtype\": \"category\",\n        \"num_unique_values\": 2,\n        \"samples\": [\n          \"CS\",\n          \"BM25\"\n        ],\n        \"semantic_type\": \"\",\n        \"description\": \"\"\n      }\n    },\n    {\n      \"column\": \"record\",\n      \"properties\": {\n        \"dtype\": \"string\",\n        \"num_unique_values\": 5,\n        \"samples\": [\n          \"DeVonta Smith had 81 catches\",\n          \"DeVonta Smith caught 25 fewer passes than A.J. Brown\"\n        ],\n        \"semantic_type\": \"\",\n        \"description\": \"\"\n      }\n    },\n    {\n      \"column\": \"score\",\n      \"properties\": {\n        \"dtype\": \"number\",\n        \"std\": 0.4160840410997845,\n        \"min\": 9.375619425173439e-07,\n        \"max\": 1.2880369135898475,\n        \"num_unique_values\": 10,\n        \"samples\": [\n          0.6626170873641968,\n          0.4059995941883513\n        ],\n        \"semantic_type\": \"\",\n        \"description\": \"\"\n      }\n    }\n  ]\n}",
              "type": "dataframe",
              "variable_name": "df"
            },
            "text/html": [
              "\n",
              "  <div id=\"df-6f275c4e-4adb-44f6-9f3c-6d2ba2d9d8e2\" class=\"colab-df-container\">\n",
              "    <div>\n",
              "<style scoped>\n",
              "    .dataframe tbody tr th:only-of-type {\n",
              "        vertical-align: middle;\n",
              "    }\n",
              "\n",
              "    .dataframe tbody tr th {\n",
              "        vertical-align: top;\n",
              "    }\n",
              "\n",
              "    .dataframe thead th {\n",
              "        text-align: right;\n",
              "    }\n",
              "</style>\n",
              "<table border=\"1\" class=\"dataframe\">\n",
              "  <thead>\n",
              "    <tr style=\"text-align: right;\">\n",
              "      <th></th>\n",
              "      <th>method</th>\n",
              "      <th>record</th>\n",
              "      <th>score</th>\n",
              "    </tr>\n",
              "  </thead>\n",
              "  <tbody>\n",
              "    <tr>\n",
              "      <th>0</th>\n",
              "      <td>BM25</td>\n",
              "      <td>A.J. Brown had 25 more total catches than DeVo...</td>\n",
              "      <td>1.288037e+00</td>\n",
              "    </tr>\n",
              "    <tr>\n",
              "      <th>1</th>\n",
              "      <td>BM25</td>\n",
              "      <td>DeVonta Smith had 81 catches</td>\n",
              "      <td>4.059996e-01</td>\n",
              "    </tr>\n",
              "    <tr>\n",
              "      <th>2</th>\n",
              "      <td>BM25</td>\n",
              "      <td>Jalen Hurts completed 81 passes to DeVonta Smith</td>\n",
              "      <td>1.029380e-06</td>\n",
              "    </tr>\n",
              "    <tr>\n",
              "      <th>3</th>\n",
              "      <td>BM25</td>\n",
              "      <td>DeVonta Smith caught 7 touchdowns in the 2023 ...</td>\n",
              "      <td>9.813278e-07</td>\n",
              "    </tr>\n",
              "    <tr>\n",
              "      <th>4</th>\n",
              "      <td>BM25</td>\n",
              "      <td>DeVonta Smith caught 25 fewer passes than A.J....</td>\n",
              "      <td>9.375619e-07</td>\n",
              "    </tr>\n",
              "    <tr>\n",
              "      <th>5</th>\n",
              "      <td>CS</td>\n",
              "      <td>DeVonta Smith caught 7 touchdowns in the 2023 ...</td>\n",
              "      <td>7.455482e-01</td>\n",
              "    </tr>\n",
              "    <tr>\n",
              "      <th>6</th>\n",
              "      <td>CS</td>\n",
              "      <td>Jalen Hurts completed 81 passes to DeVonta Smith</td>\n",
              "      <td>7.004186e-01</td>\n",
              "    </tr>\n",
              "    <tr>\n",
              "      <th>7</th>\n",
              "      <td>CS</td>\n",
              "      <td>DeVonta Smith had 81 catches</td>\n",
              "      <td>6.995622e-01</td>\n",
              "    </tr>\n",
              "    <tr>\n",
              "      <th>8</th>\n",
              "      <td>CS</td>\n",
              "      <td>DeVonta Smith caught 25 fewer passes than A.J....</td>\n",
              "      <td>6.626171e-01</td>\n",
              "    </tr>\n",
              "    <tr>\n",
              "      <th>9</th>\n",
              "      <td>CS</td>\n",
              "      <td>A.J. Brown had 25 more total catches than DeVo...</td>\n",
              "      <td>6.136137e-01</td>\n",
              "    </tr>\n",
              "  </tbody>\n",
              "</table>\n",
              "</div>\n",
              "    <div class=\"colab-df-buttons\">\n",
              "\n",
              "  <div class=\"colab-df-container\">\n",
              "    <button class=\"colab-df-convert\" onclick=\"convertToInteractive('df-6f275c4e-4adb-44f6-9f3c-6d2ba2d9d8e2')\"\n",
              "            title=\"Convert this dataframe to an interactive table.\"\n",
              "            style=\"display:none;\">\n",
              "\n",
              "  <svg xmlns=\"http://www.w3.org/2000/svg\" height=\"24px\" viewBox=\"0 -960 960 960\">\n",
              "    <path d=\"M120-120v-720h720v720H120Zm60-500h600v-160H180v160Zm220 220h160v-160H400v160Zm0 220h160v-160H400v160ZM180-400h160v-160H180v160Zm440 0h160v-160H620v160ZM180-180h160v-160H180v160Zm440 0h160v-160H620v160Z\"/>\n",
              "  </svg>\n",
              "    </button>\n",
              "\n",
              "  <style>\n",
              "    .colab-df-container {\n",
              "      display:flex;\n",
              "      gap: 12px;\n",
              "    }\n",
              "\n",
              "    .colab-df-convert {\n",
              "      background-color: #E8F0FE;\n",
              "      border: none;\n",
              "      border-radius: 50%;\n",
              "      cursor: pointer;\n",
              "      display: none;\n",
              "      fill: #1967D2;\n",
              "      height: 32px;\n",
              "      padding: 0 0 0 0;\n",
              "      width: 32px;\n",
              "    }\n",
              "\n",
              "    .colab-df-convert:hover {\n",
              "      background-color: #E2EBFA;\n",
              "      box-shadow: 0px 1px 2px rgba(60, 64, 67, 0.3), 0px 1px 3px 1px rgba(60, 64, 67, 0.15);\n",
              "      fill: #174EA6;\n",
              "    }\n",
              "\n",
              "    .colab-df-buttons div {\n",
              "      margin-bottom: 4px;\n",
              "    }\n",
              "\n",
              "    [theme=dark] .colab-df-convert {\n",
              "      background-color: #3B4455;\n",
              "      fill: #D2E3FC;\n",
              "    }\n",
              "\n",
              "    [theme=dark] .colab-df-convert:hover {\n",
              "      background-color: #434B5C;\n",
              "      box-shadow: 0px 1px 3px 1px rgba(0, 0, 0, 0.15);\n",
              "      filter: drop-shadow(0px 1px 2px rgba(0, 0, 0, 0.3));\n",
              "      fill: #FFFFFF;\n",
              "    }\n",
              "  </style>\n",
              "\n",
              "    <script>\n",
              "      const buttonEl =\n",
              "        document.querySelector('#df-6f275c4e-4adb-44f6-9f3c-6d2ba2d9d8e2 button.colab-df-convert');\n",
              "      buttonEl.style.display =\n",
              "        google.colab.kernel.accessAllowed ? 'block' : 'none';\n",
              "\n",
              "      async function convertToInteractive(key) {\n",
              "        const element = document.querySelector('#df-6f275c4e-4adb-44f6-9f3c-6d2ba2d9d8e2');\n",
              "        const dataTable =\n",
              "          await google.colab.kernel.invokeFunction('convertToInteractive',\n",
              "                                                    [key], {});\n",
              "        if (!dataTable) return;\n",
              "\n",
              "        const docLinkHtml = 'Like what you see? Visit the ' +\n",
              "          '<a target=\"_blank\" href=https://colab.research.google.com/notebooks/data_table.ipynb>data table notebook</a>'\n",
              "          + ' to learn more about interactive tables.';\n",
              "        element.innerHTML = '';\n",
              "        dataTable['output_type'] = 'display_data';\n",
              "        await google.colab.output.renderOutput(dataTable, element);\n",
              "        const docLink = document.createElement('div');\n",
              "        docLink.innerHTML = docLinkHtml;\n",
              "        element.appendChild(docLink);\n",
              "      }\n",
              "    </script>\n",
              "  </div>\n",
              "\n",
              "\n",
              "<div id=\"df-445466b8-12a4-40ea-a992-82eeb1fe48f0\">\n",
              "  <button class=\"colab-df-quickchart\" onclick=\"quickchart('df-445466b8-12a4-40ea-a992-82eeb1fe48f0')\"\n",
              "            title=\"Suggest charts\"\n",
              "            style=\"display:none;\">\n",
              "\n",
              "<svg xmlns=\"http://www.w3.org/2000/svg\" height=\"24px\"viewBox=\"0 0 24 24\"\n",
              "     width=\"24px\">\n",
              "    <g>\n",
              "        <path d=\"M19 3H5c-1.1 0-2 .9-2 2v14c0 1.1.9 2 2 2h14c1.1 0 2-.9 2-2V5c0-1.1-.9-2-2-2zM9 17H7v-7h2v7zm4 0h-2V7h2v10zm4 0h-2v-4h2v4z\"/>\n",
              "    </g>\n",
              "</svg>\n",
              "  </button>\n",
              "\n",
              "<style>\n",
              "  .colab-df-quickchart {\n",
              "      --bg-color: #E8F0FE;\n",
              "      --fill-color: #1967D2;\n",
              "      --hover-bg-color: #E2EBFA;\n",
              "      --hover-fill-color: #174EA6;\n",
              "      --disabled-fill-color: #AAA;\n",
              "      --disabled-bg-color: #DDD;\n",
              "  }\n",
              "\n",
              "  [theme=dark] .colab-df-quickchart {\n",
              "      --bg-color: #3B4455;\n",
              "      --fill-color: #D2E3FC;\n",
              "      --hover-bg-color: #434B5C;\n",
              "      --hover-fill-color: #FFFFFF;\n",
              "      --disabled-bg-color: #3B4455;\n",
              "      --disabled-fill-color: #666;\n",
              "  }\n",
              "\n",
              "  .colab-df-quickchart {\n",
              "    background-color: var(--bg-color);\n",
              "    border: none;\n",
              "    border-radius: 50%;\n",
              "    cursor: pointer;\n",
              "    display: none;\n",
              "    fill: var(--fill-color);\n",
              "    height: 32px;\n",
              "    padding: 0;\n",
              "    width: 32px;\n",
              "  }\n",
              "\n",
              "  .colab-df-quickchart:hover {\n",
              "    background-color: var(--hover-bg-color);\n",
              "    box-shadow: 0 1px 2px rgba(60, 64, 67, 0.3), 0 1px 3px 1px rgba(60, 64, 67, 0.15);\n",
              "    fill: var(--button-hover-fill-color);\n",
              "  }\n",
              "\n",
              "  .colab-df-quickchart-complete:disabled,\n",
              "  .colab-df-quickchart-complete:disabled:hover {\n",
              "    background-color: var(--disabled-bg-color);\n",
              "    fill: var(--disabled-fill-color);\n",
              "    box-shadow: none;\n",
              "  }\n",
              "\n",
              "  .colab-df-spinner {\n",
              "    border: 2px solid var(--fill-color);\n",
              "    border-color: transparent;\n",
              "    border-bottom-color: var(--fill-color);\n",
              "    animation:\n",
              "      spin 1s steps(1) infinite;\n",
              "  }\n",
              "\n",
              "  @keyframes spin {\n",
              "    0% {\n",
              "      border-color: transparent;\n",
              "      border-bottom-color: var(--fill-color);\n",
              "      border-left-color: var(--fill-color);\n",
              "    }\n",
              "    20% {\n",
              "      border-color: transparent;\n",
              "      border-left-color: var(--fill-color);\n",
              "      border-top-color: var(--fill-color);\n",
              "    }\n",
              "    30% {\n",
              "      border-color: transparent;\n",
              "      border-left-color: var(--fill-color);\n",
              "      border-top-color: var(--fill-color);\n",
              "      border-right-color: var(--fill-color);\n",
              "    }\n",
              "    40% {\n",
              "      border-color: transparent;\n",
              "      border-right-color: var(--fill-color);\n",
              "      border-top-color: var(--fill-color);\n",
              "    }\n",
              "    60% {\n",
              "      border-color: transparent;\n",
              "      border-right-color: var(--fill-color);\n",
              "    }\n",
              "    80% {\n",
              "      border-color: transparent;\n",
              "      border-right-color: var(--fill-color);\n",
              "      border-bottom-color: var(--fill-color);\n",
              "    }\n",
              "    90% {\n",
              "      border-color: transparent;\n",
              "      border-bottom-color: var(--fill-color);\n",
              "    }\n",
              "  }\n",
              "</style>\n",
              "\n",
              "  <script>\n",
              "    async function quickchart(key) {\n",
              "      const quickchartButtonEl =\n",
              "        document.querySelector('#' + key + ' button');\n",
              "      quickchartButtonEl.disabled = true;  // To prevent multiple clicks.\n",
              "      quickchartButtonEl.classList.add('colab-df-spinner');\n",
              "      try {\n",
              "        const charts = await google.colab.kernel.invokeFunction(\n",
              "            'suggestCharts', [key], {});\n",
              "      } catch (error) {\n",
              "        console.error('Error during call to suggestCharts:', error);\n",
              "      }\n",
              "      quickchartButtonEl.classList.remove('colab-df-spinner');\n",
              "      quickchartButtonEl.classList.add('colab-df-quickchart-complete');\n",
              "    }\n",
              "    (() => {\n",
              "      let quickchartButtonEl =\n",
              "        document.querySelector('#df-445466b8-12a4-40ea-a992-82eeb1fe48f0 button');\n",
              "      quickchartButtonEl.style.display =\n",
              "        google.colab.kernel.accessAllowed ? 'block' : 'none';\n",
              "    })();\n",
              "  </script>\n",
              "</div>\n",
              "\n",
              "  <div id=\"id_0c56c16d-eee1-4d5a-b1e6-3d2477173410\">\n",
              "    <style>\n",
              "      .colab-df-generate {\n",
              "        background-color: #E8F0FE;\n",
              "        border: none;\n",
              "        border-radius: 50%;\n",
              "        cursor: pointer;\n",
              "        display: none;\n",
              "        fill: #1967D2;\n",
              "        height: 32px;\n",
              "        padding: 0 0 0 0;\n",
              "        width: 32px;\n",
              "      }\n",
              "\n",
              "      .colab-df-generate:hover {\n",
              "        background-color: #E2EBFA;\n",
              "        box-shadow: 0px 1px 2px rgba(60, 64, 67, 0.3), 0px 1px 3px 1px rgba(60, 64, 67, 0.15);\n",
              "        fill: #174EA6;\n",
              "      }\n",
              "\n",
              "      [theme=dark] .colab-df-generate {\n",
              "        background-color: #3B4455;\n",
              "        fill: #D2E3FC;\n",
              "      }\n",
              "\n",
              "      [theme=dark] .colab-df-generate:hover {\n",
              "        background-color: #434B5C;\n",
              "        box-shadow: 0px 1px 3px 1px rgba(0, 0, 0, 0.15);\n",
              "        filter: drop-shadow(0px 1px 2px rgba(0, 0, 0, 0.3));\n",
              "        fill: #FFFFFF;\n",
              "      }\n",
              "    </style>\n",
              "    <button class=\"colab-df-generate\" onclick=\"generateWithVariable('df')\"\n",
              "            title=\"Generate code using this dataframe.\"\n",
              "            style=\"display:none;\">\n",
              "\n",
              "  <svg xmlns=\"http://www.w3.org/2000/svg\" height=\"24px\"viewBox=\"0 0 24 24\"\n",
              "       width=\"24px\">\n",
              "    <path d=\"M7,19H8.4L18.45,9,17,7.55,7,17.6ZM5,21V16.75L18.45,3.32a2,2,0,0,1,2.83,0l1.4,1.43a1.91,1.91,0,0,1,.58,1.4,1.91,1.91,0,0,1-.58,1.4L9.25,21ZM18.45,9,17,7.55Zm-12,3A5.31,5.31,0,0,0,4.9,8.1,5.31,5.31,0,0,0,1,6.5,5.31,5.31,0,0,0,4.9,4.9,5.31,5.31,0,0,0,6.5,1,5.31,5.31,0,0,0,8.1,4.9,5.31,5.31,0,0,0,12,6.5,5.46,5.46,0,0,0,6.5,12Z\"/>\n",
              "  </svg>\n",
              "    </button>\n",
              "    <script>\n",
              "      (() => {\n",
              "      const buttonEl =\n",
              "        document.querySelector('#id_0c56c16d-eee1-4d5a-b1e6-3d2477173410 button.colab-df-generate');\n",
              "      buttonEl.style.display =\n",
              "        google.colab.kernel.accessAllowed ? 'block' : 'none';\n",
              "\n",
              "      buttonEl.onclick = () => {\n",
              "        google.colab.notebook.generateWithVariable('df');\n",
              "      }\n",
              "      })();\n",
              "    </script>\n",
              "  </div>\n",
              "\n",
              "    </div>\n",
              "  </div>\n"
            ],
            "text/plain": [
              "  method                                             record         score\n",
              "0   BM25  A.J. Brown had 25 more total catches than DeVo...  1.288037e+00\n",
              "1   BM25                       DeVonta Smith had 81 catches  4.059996e-01\n",
              "2   BM25   Jalen Hurts completed 81 passes to DeVonta Smith  1.029380e-06\n",
              "3   BM25  DeVonta Smith caught 7 touchdowns in the 2023 ...  9.813278e-07\n",
              "4   BM25  DeVonta Smith caught 25 fewer passes than A.J....  9.375619e-07\n",
              "5     CS  DeVonta Smith caught 7 touchdowns in the 2023 ...  7.455482e-01\n",
              "6     CS   Jalen Hurts completed 81 passes to DeVonta Smith  7.004186e-01\n",
              "7     CS                       DeVonta Smith had 81 catches  6.995622e-01\n",
              "8     CS  DeVonta Smith caught 25 fewer passes than A.J....  6.626171e-01\n",
              "9     CS  A.J. Brown had 25 more total catches than DeVo...  6.136137e-01"
            ]
          },
          "execution_count": 34,
          "metadata": {},
          "output_type": "execute_result"
        }
      ],
      "source": [
        "import pandas as pd\n",
        "\n",
        "combined_list = [('BM25',) + item for item in rts5_res] + [('CS',) + item for item in cs_res]\n",
        "\n",
        "df = pd.DataFrame(combined_list, columns=['method', 'record', 'score'])\n",
        "\n",
        "df"
      ]
    },
    {
      "cell_type": "markdown",
      "metadata": {
        "id": "AAYCibniW-Dx"
      },
      "source": [
        "I'll normalize the BM25 scores and cosine similarity scores within their respective groups. After calculating the weighted average (with various weights) I couldn't get the correct response to score the highest.\n",
        "\n",
        "That's not to say that a weighted average is never the right approach, but it doesn't work well for this highly-curated toy example."
      ]
    },
    {
      "cell_type": "code",
      "execution_count": 35,
      "metadata": {
        "colab": {
          "base_uri": "https://localhost:8080/",
          "height": 206
        },
        "id": "z1AfLeH2VyHl",
        "outputId": "69dcf1d9-50fd-44a7-be05-6694a63859ec"
      },
      "outputs": [
        {
          "data": {
            "application/vnd.google.colaboratory.intrinsic+json": {
              "summary": "{\n  \"name\": \"pivot_df\",\n  \"rows\": 5,\n  \"fields\": [\n    {\n      \"column\": \"record\",\n      \"properties\": {\n        \"dtype\": \"string\",\n        \"num_unique_values\": 5,\n        \"samples\": [\n          \"DeVonta Smith had 81 catches\",\n          \"DeVonta Smith caught 25 fewer passes than A.J. Brown\",\n          \"A.J. Brown had 25 more total catches than DeVonta Smith\"\n        ],\n        \"semantic_type\": \"\",\n        \"description\": \"\"\n      }\n    },\n    {\n      \"column\": \"BM25\",\n      \"properties\": {\n        \"dtype\": \"number\",\n        \"std\": 0.43399353787275136,\n        \"min\": 0.0,\n        \"max\": 1.0,\n        \"num_unique_values\": 5,\n        \"samples\": [\n          0.3152075440302864,\n          0.0,\n          1.0\n        ],\n        \"semantic_type\": \"\",\n        \"description\": \"\"\n      }\n    },\n    {\n      \"column\": \"CS\",\n      \"properties\": {\n        \"dtype\": \"number\",\n        \"std\": 0.3734552030484567,\n        \"min\": 0.0,\n        \"max\": 1.0,\n        \"num_unique_values\": 5,\n        \"samples\": [\n          0.6514480493518169,\n          0.3714221175109951,\n          0.0\n        ],\n        \"semantic_type\": \"\",\n        \"description\": \"\"\n      }\n    },\n    {\n      \"column\": \"weighted_avg\",\n      \"properties\": {\n        \"dtype\": \"number\",\n        \"std\": 0.14270982844443975,\n        \"min\": 0.22285327050659703,\n        \"max\": 0.6000000135915018,\n        \"num_unique_values\": 5,\n        \"samples\": [\n          0.5169518472232046,\n          0.22285327050659703,\n          0.4\n        ],\n        \"semantic_type\": \"\",\n        \"description\": \"\"\n      }\n    }\n  ]\n}",
              "type": "dataframe",
              "variable_name": "pivot_df"
            },
            "text/html": [
              "\n",
              "  <div id=\"df-b923273b-692c-4f5e-aef7-c562a653e292\" class=\"colab-df-container\">\n",
              "    <div>\n",
              "<style scoped>\n",
              "    .dataframe tbody tr th:only-of-type {\n",
              "        vertical-align: middle;\n",
              "    }\n",
              "\n",
              "    .dataframe tbody tr th {\n",
              "        vertical-align: top;\n",
              "    }\n",
              "\n",
              "    .dataframe thead th {\n",
              "        text-align: right;\n",
              "    }\n",
              "</style>\n",
              "<table border=\"1\" class=\"dataframe\">\n",
              "  <thead>\n",
              "    <tr style=\"text-align: right;\">\n",
              "      <th></th>\n",
              "      <th>record</th>\n",
              "      <th>BM25</th>\n",
              "      <th>CS</th>\n",
              "      <th>weighted_avg</th>\n",
              "    </tr>\n",
              "  </thead>\n",
              "  <tbody>\n",
              "    <tr>\n",
              "      <th>2</th>\n",
              "      <td>DeVonta Smith caught 7 touchdowns in the 2023 ...</td>\n",
              "      <td>3.397875e-08</td>\n",
              "      <td>1.000000</td>\n",
              "      <td>0.600000</td>\n",
              "    </tr>\n",
              "    <tr>\n",
              "      <th>3</th>\n",
              "      <td>DeVonta Smith had 81 catches</td>\n",
              "      <td>3.152075e-01</td>\n",
              "      <td>0.651448</td>\n",
              "      <td>0.516952</td>\n",
              "    </tr>\n",
              "    <tr>\n",
              "      <th>0</th>\n",
              "      <td>A.J. Brown had 25 more total catches than DeVo...</td>\n",
              "      <td>1.000000e+00</td>\n",
              "      <td>0.000000</td>\n",
              "      <td>0.400000</td>\n",
              "    </tr>\n",
              "    <tr>\n",
              "      <th>4</th>\n",
              "      <td>Jalen Hurts completed 81 passes to DeVonta Smith</td>\n",
              "      <td>7.128513e-08</td>\n",
              "      <td>0.657939</td>\n",
              "      <td>0.394764</td>\n",
              "    </tr>\n",
              "    <tr>\n",
              "      <th>1</th>\n",
              "      <td>DeVonta Smith caught 25 fewer passes than A.J....</td>\n",
              "      <td>0.000000e+00</td>\n",
              "      <td>0.371422</td>\n",
              "      <td>0.222853</td>\n",
              "    </tr>\n",
              "  </tbody>\n",
              "</table>\n",
              "</div>\n",
              "    <div class=\"colab-df-buttons\">\n",
              "\n",
              "  <div class=\"colab-df-container\">\n",
              "    <button class=\"colab-df-convert\" onclick=\"convertToInteractive('df-b923273b-692c-4f5e-aef7-c562a653e292')\"\n",
              "            title=\"Convert this dataframe to an interactive table.\"\n",
              "            style=\"display:none;\">\n",
              "\n",
              "  <svg xmlns=\"http://www.w3.org/2000/svg\" height=\"24px\" viewBox=\"0 -960 960 960\">\n",
              "    <path d=\"M120-120v-720h720v720H120Zm60-500h600v-160H180v160Zm220 220h160v-160H400v160Zm0 220h160v-160H400v160ZM180-400h160v-160H180v160Zm440 0h160v-160H620v160ZM180-180h160v-160H180v160Zm440 0h160v-160H620v160Z\"/>\n",
              "  </svg>\n",
              "    </button>\n",
              "\n",
              "  <style>\n",
              "    .colab-df-container {\n",
              "      display:flex;\n",
              "      gap: 12px;\n",
              "    }\n",
              "\n",
              "    .colab-df-convert {\n",
              "      background-color: #E8F0FE;\n",
              "      border: none;\n",
              "      border-radius: 50%;\n",
              "      cursor: pointer;\n",
              "      display: none;\n",
              "      fill: #1967D2;\n",
              "      height: 32px;\n",
              "      padding: 0 0 0 0;\n",
              "      width: 32px;\n",
              "    }\n",
              "\n",
              "    .colab-df-convert:hover {\n",
              "      background-color: #E2EBFA;\n",
              "      box-shadow: 0px 1px 2px rgba(60, 64, 67, 0.3), 0px 1px 3px 1px rgba(60, 64, 67, 0.15);\n",
              "      fill: #174EA6;\n",
              "    }\n",
              "\n",
              "    .colab-df-buttons div {\n",
              "      margin-bottom: 4px;\n",
              "    }\n",
              "\n",
              "    [theme=dark] .colab-df-convert {\n",
              "      background-color: #3B4455;\n",
              "      fill: #D2E3FC;\n",
              "    }\n",
              "\n",
              "    [theme=dark] .colab-df-convert:hover {\n",
              "      background-color: #434B5C;\n",
              "      box-shadow: 0px 1px 3px 1px rgba(0, 0, 0, 0.15);\n",
              "      filter: drop-shadow(0px 1px 2px rgba(0, 0, 0, 0.3));\n",
              "      fill: #FFFFFF;\n",
              "    }\n",
              "  </style>\n",
              "\n",
              "    <script>\n",
              "      const buttonEl =\n",
              "        document.querySelector('#df-b923273b-692c-4f5e-aef7-c562a653e292 button.colab-df-convert');\n",
              "      buttonEl.style.display =\n",
              "        google.colab.kernel.accessAllowed ? 'block' : 'none';\n",
              "\n",
              "      async function convertToInteractive(key) {\n",
              "        const element = document.querySelector('#df-b923273b-692c-4f5e-aef7-c562a653e292');\n",
              "        const dataTable =\n",
              "          await google.colab.kernel.invokeFunction('convertToInteractive',\n",
              "                                                    [key], {});\n",
              "        if (!dataTable) return;\n",
              "\n",
              "        const docLinkHtml = 'Like what you see? Visit the ' +\n",
              "          '<a target=\"_blank\" href=https://colab.research.google.com/notebooks/data_table.ipynb>data table notebook</a>'\n",
              "          + ' to learn more about interactive tables.';\n",
              "        element.innerHTML = '';\n",
              "        dataTable['output_type'] = 'display_data';\n",
              "        await google.colab.output.renderOutput(dataTable, element);\n",
              "        const docLink = document.createElement('div');\n",
              "        docLink.innerHTML = docLinkHtml;\n",
              "        element.appendChild(docLink);\n",
              "      }\n",
              "    </script>\n",
              "  </div>\n",
              "\n",
              "\n",
              "<div id=\"df-8a212b59-0b0b-4fbe-81c7-c169bd720d22\">\n",
              "  <button class=\"colab-df-quickchart\" onclick=\"quickchart('df-8a212b59-0b0b-4fbe-81c7-c169bd720d22')\"\n",
              "            title=\"Suggest charts\"\n",
              "            style=\"display:none;\">\n",
              "\n",
              "<svg xmlns=\"http://www.w3.org/2000/svg\" height=\"24px\"viewBox=\"0 0 24 24\"\n",
              "     width=\"24px\">\n",
              "    <g>\n",
              "        <path d=\"M19 3H5c-1.1 0-2 .9-2 2v14c0 1.1.9 2 2 2h14c1.1 0 2-.9 2-2V5c0-1.1-.9-2-2-2zM9 17H7v-7h2v7zm4 0h-2V7h2v10zm4 0h-2v-4h2v4z\"/>\n",
              "    </g>\n",
              "</svg>\n",
              "  </button>\n",
              "\n",
              "<style>\n",
              "  .colab-df-quickchart {\n",
              "      --bg-color: #E8F0FE;\n",
              "      --fill-color: #1967D2;\n",
              "      --hover-bg-color: #E2EBFA;\n",
              "      --hover-fill-color: #174EA6;\n",
              "      --disabled-fill-color: #AAA;\n",
              "      --disabled-bg-color: #DDD;\n",
              "  }\n",
              "\n",
              "  [theme=dark] .colab-df-quickchart {\n",
              "      --bg-color: #3B4455;\n",
              "      --fill-color: #D2E3FC;\n",
              "      --hover-bg-color: #434B5C;\n",
              "      --hover-fill-color: #FFFFFF;\n",
              "      --disabled-bg-color: #3B4455;\n",
              "      --disabled-fill-color: #666;\n",
              "  }\n",
              "\n",
              "  .colab-df-quickchart {\n",
              "    background-color: var(--bg-color);\n",
              "    border: none;\n",
              "    border-radius: 50%;\n",
              "    cursor: pointer;\n",
              "    display: none;\n",
              "    fill: var(--fill-color);\n",
              "    height: 32px;\n",
              "    padding: 0;\n",
              "    width: 32px;\n",
              "  }\n",
              "\n",
              "  .colab-df-quickchart:hover {\n",
              "    background-color: var(--hover-bg-color);\n",
              "    box-shadow: 0 1px 2px rgba(60, 64, 67, 0.3), 0 1px 3px 1px rgba(60, 64, 67, 0.15);\n",
              "    fill: var(--button-hover-fill-color);\n",
              "  }\n",
              "\n",
              "  .colab-df-quickchart-complete:disabled,\n",
              "  .colab-df-quickchart-complete:disabled:hover {\n",
              "    background-color: var(--disabled-bg-color);\n",
              "    fill: var(--disabled-fill-color);\n",
              "    box-shadow: none;\n",
              "  }\n",
              "\n",
              "  .colab-df-spinner {\n",
              "    border: 2px solid var(--fill-color);\n",
              "    border-color: transparent;\n",
              "    border-bottom-color: var(--fill-color);\n",
              "    animation:\n",
              "      spin 1s steps(1) infinite;\n",
              "  }\n",
              "\n",
              "  @keyframes spin {\n",
              "    0% {\n",
              "      border-color: transparent;\n",
              "      border-bottom-color: var(--fill-color);\n",
              "      border-left-color: var(--fill-color);\n",
              "    }\n",
              "    20% {\n",
              "      border-color: transparent;\n",
              "      border-left-color: var(--fill-color);\n",
              "      border-top-color: var(--fill-color);\n",
              "    }\n",
              "    30% {\n",
              "      border-color: transparent;\n",
              "      border-left-color: var(--fill-color);\n",
              "      border-top-color: var(--fill-color);\n",
              "      border-right-color: var(--fill-color);\n",
              "    }\n",
              "    40% {\n",
              "      border-color: transparent;\n",
              "      border-right-color: var(--fill-color);\n",
              "      border-top-color: var(--fill-color);\n",
              "    }\n",
              "    60% {\n",
              "      border-color: transparent;\n",
              "      border-right-color: var(--fill-color);\n",
              "    }\n",
              "    80% {\n",
              "      border-color: transparent;\n",
              "      border-right-color: var(--fill-color);\n",
              "      border-bottom-color: var(--fill-color);\n",
              "    }\n",
              "    90% {\n",
              "      border-color: transparent;\n",
              "      border-bottom-color: var(--fill-color);\n",
              "    }\n",
              "  }\n",
              "</style>\n",
              "\n",
              "  <script>\n",
              "    async function quickchart(key) {\n",
              "      const quickchartButtonEl =\n",
              "        document.querySelector('#' + key + ' button');\n",
              "      quickchartButtonEl.disabled = true;  // To prevent multiple clicks.\n",
              "      quickchartButtonEl.classList.add('colab-df-spinner');\n",
              "      try {\n",
              "        const charts = await google.colab.kernel.invokeFunction(\n",
              "            'suggestCharts', [key], {});\n",
              "      } catch (error) {\n",
              "        console.error('Error during call to suggestCharts:', error);\n",
              "      }\n",
              "      quickchartButtonEl.classList.remove('colab-df-spinner');\n",
              "      quickchartButtonEl.classList.add('colab-df-quickchart-complete');\n",
              "    }\n",
              "    (() => {\n",
              "      let quickchartButtonEl =\n",
              "        document.querySelector('#df-8a212b59-0b0b-4fbe-81c7-c169bd720d22 button');\n",
              "      quickchartButtonEl.style.display =\n",
              "        google.colab.kernel.accessAllowed ? 'block' : 'none';\n",
              "    })();\n",
              "  </script>\n",
              "</div>\n",
              "\n",
              "  <div id=\"id_e0df7005-1a51-47c1-8fd4-8501c1905019\">\n",
              "    <style>\n",
              "      .colab-df-generate {\n",
              "        background-color: #E8F0FE;\n",
              "        border: none;\n",
              "        border-radius: 50%;\n",
              "        cursor: pointer;\n",
              "        display: none;\n",
              "        fill: #1967D2;\n",
              "        height: 32px;\n",
              "        padding: 0 0 0 0;\n",
              "        width: 32px;\n",
              "      }\n",
              "\n",
              "      .colab-df-generate:hover {\n",
              "        background-color: #E2EBFA;\n",
              "        box-shadow: 0px 1px 2px rgba(60, 64, 67, 0.3), 0px 1px 3px 1px rgba(60, 64, 67, 0.15);\n",
              "        fill: #174EA6;\n",
              "      }\n",
              "\n",
              "      [theme=dark] .colab-df-generate {\n",
              "        background-color: #3B4455;\n",
              "        fill: #D2E3FC;\n",
              "      }\n",
              "\n",
              "      [theme=dark] .colab-df-generate:hover {\n",
              "        background-color: #434B5C;\n",
              "        box-shadow: 0px 1px 3px 1px rgba(0, 0, 0, 0.15);\n",
              "        filter: drop-shadow(0px 1px 2px rgba(0, 0, 0, 0.3));\n",
              "        fill: #FFFFFF;\n",
              "      }\n",
              "    </style>\n",
              "    <button class=\"colab-df-generate\" onclick=\"generateWithVariable('pivot_df')\"\n",
              "            title=\"Generate code using this dataframe.\"\n",
              "            style=\"display:none;\">\n",
              "\n",
              "  <svg xmlns=\"http://www.w3.org/2000/svg\" height=\"24px\"viewBox=\"0 0 24 24\"\n",
              "       width=\"24px\">\n",
              "    <path d=\"M7,19H8.4L18.45,9,17,7.55,7,17.6ZM5,21V16.75L18.45,3.32a2,2,0,0,1,2.83,0l1.4,1.43a1.91,1.91,0,0,1,.58,1.4,1.91,1.91,0,0,1-.58,1.4L9.25,21ZM18.45,9,17,7.55Zm-12,3A5.31,5.31,0,0,0,4.9,8.1,5.31,5.31,0,0,0,1,6.5,5.31,5.31,0,0,0,4.9,4.9,5.31,5.31,0,0,0,6.5,1,5.31,5.31,0,0,0,8.1,4.9,5.31,5.31,0,0,0,12,6.5,5.46,5.46,0,0,0,6.5,12Z\"/>\n",
              "  </svg>\n",
              "    </button>\n",
              "    <script>\n",
              "      (() => {\n",
              "      const buttonEl =\n",
              "        document.querySelector('#id_e0df7005-1a51-47c1-8fd4-8501c1905019 button.colab-df-generate');\n",
              "      buttonEl.style.display =\n",
              "        google.colab.kernel.accessAllowed ? 'block' : 'none';\n",
              "\n",
              "      buttonEl.onclick = () => {\n",
              "        google.colab.notebook.generateWithVariable('pivot_df');\n",
              "      }\n",
              "      })();\n",
              "    </script>\n",
              "  </div>\n",
              "\n",
              "    </div>\n",
              "  </div>\n"
            ],
            "text/plain": [
              "                                              record          BM25        CS  \\\n",
              "2  DeVonta Smith caught 7 touchdowns in the 2023 ...  3.397875e-08  1.000000   \n",
              "3                       DeVonta Smith had 81 catches  3.152075e-01  0.651448   \n",
              "0  A.J. Brown had 25 more total catches than DeVo...  1.000000e+00  0.000000   \n",
              "4   Jalen Hurts completed 81 passes to DeVonta Smith  7.128513e-08  0.657939   \n",
              "1  DeVonta Smith caught 25 fewer passes than A.J....  0.000000e+00  0.371422   \n",
              "\n",
              "   weighted_avg  \n",
              "2      0.600000  \n",
              "3      0.516952  \n",
              "0      0.400000  \n",
              "4      0.394764  \n",
              "1      0.222853  "
            ]
          },
          "execution_count": 35,
          "metadata": {},
          "output_type": "execute_result"
        }
      ],
      "source": [
        "# normalize scores within each method\n",
        "def normalize(series):\n",
        "    return (series - series.min()) / (series.max() - series.min())\n",
        "\n",
        "df['norm_score'] = df.groupby('method')['score'].transform(normalize)\n",
        "\n",
        "# pivot\n",
        "pivot_df = df.pivot(index='record', columns='method', values='norm_score').reset_index()\n",
        "pivot_df.columns.name = None\n",
        "\n",
        "# calculate weighted average (assuming equal weights of 0.5 for simplicity)\n",
        "pivot_df['weighted_avg'] = pivot_df['BM25'] * 0.4 + pivot_df['CS'] * 0.6\n",
        "\n",
        "\n",
        "pivot_df = pivot_df.sort_values('weighted_avg', ascending=False)\n",
        "pivot_df"
      ]
    },
    {
      "cell_type": "markdown",
      "metadata": {
        "id": "0sIrRtIrXtfB"
      },
      "source": [
        "## Final Thoughts"
      ]
    },
    {
      "cell_type": "markdown",
      "metadata": {
        "id": "4sQkN4UaXvMK"
      },
      "source": [
        "Even a toy example had me sweating at times! And I was clearly gaming the setup to get as close to my desired result as possible. As I move forward with experimenting with BM25 and cosine similarity and eventually combining them with an LLM to create a RAG pipeline for a much more complex dataset (multiple chapters from the fastai textbook), I'll make sure that I respect the nuance involved and plan the project accordingly.\n",
        "\n",
        "I hope you enjoyed this blog post! Follow me on Twitter [@vishal_learner](https://twitter.com/vishal_learner)."
      ]
    }
  ],
  "metadata": {
    "colab": {
      "provenance": []
    },
    "kernelspec": {
      "display_name": "Python 3",
      "name": "python3"
    },
    "language_info": {
      "name": "python"
    }
  },
  "nbformat": 4,
  "nbformat_minor": 0
}

{
  "cells": [
    {
      "cell_type": "raw",
      "metadata": {},
      "source": [
        "---\n",
        "title: Understanding the fastai TabularModel Class\n",
        "date: \"2023-10-10\"\n",
        "author: Vishal Bakshi\n",
        "description: In this notebook I walk through line-by-line the source code of the fastai TabularModel class.\n",
        "categories:\n",
        "    - deep learning\n",
        "    - python\n",
        "---"
      ]
    },
    {
      "cell_type": "markdown",
      "metadata": {
        "id": "v8bpESW-oRtp"
      },
      "source": [
        "## Background"
      ]
    },
    {
      "cell_type": "markdown",
      "metadata": {
        "id": "uZAARvoNoUuR"
      },
      "source": [
        "In this notebook, I will work through the last \"Further Research\" exercise from Chapter 9 of the fastai textbook:\n",
        "\n",
        "> Explain what each line of the source of `TabularModel` does (with the exception of the `BatchNorm1d` and `Dropout` layers)."
      ]
    },
    {
      "cell_type": "markdown",
      "metadata": {
        "id": "kNsUxsvaorLr"
      },
      "source": [
        "I'll start by pasting the source code of `TabularModel` here:\n",
        "\n",
        "```python\n",
        "class TabularModel(Module):\n",
        "    \"Basic model for tabular data.\"\n",
        "    def __init__(self,\n",
        "        emb_szs:list, # Sequence of (num_embeddings, embedding_dim) for each categorical variable\n",
        "        n_cont:int, # Number of continuous variables\n",
        "        out_sz:int, # Number of outputs for final `LinBnDrop` layer\n",
        "        layers:list, # Sequence of ints used to specify the input and output size of each `LinBnDrop` layer\n",
        "        ps:float|MutableSequence=None, # Sequence of dropout probabilities for `LinBnDrop`\n",
        "        embed_p:float=0., # Dropout probability for `Embedding` layer\n",
        "        y_range=None, # Low and high for `SigmoidRange` activation\n",
        "        use_bn:bool=True, # Use `BatchNorm1d` in `LinBnDrop` layers\n",
        "        bn_final:bool=False, # Use `BatchNorm1d` on final layer\n",
        "        bn_cont:bool=True, # Use `BatchNorm1d` on continuous variables\n",
        "        act_cls=nn.ReLU(inplace=True), # Activation type for `LinBnDrop` layers\n",
        "        lin_first:bool=True # Linear layer is first or last in `LinBnDrop` layers\n",
        "    ):\n",
        "        ps = ifnone(ps, [0]*len(layers))\n",
        "        if not is_listy(ps): ps = [ps]*len(layers)\n",
        "        self.embeds = nn.ModuleList([Embedding(ni, nf) for ni,nf in emb_szs])\n",
        "        self.emb_drop = nn.Dropout(embed_p)\n",
        "        self.bn_cont = nn.BatchNorm1d(n_cont) if bn_cont else None\n",
        "        n_emb = sum(e.embedding_dim for e in self.embeds)\n",
        "        self.n_emb,self.n_cont = n_emb,n_cont\n",
        "        sizes = [n_emb + n_cont] + layers + [out_sz]\n",
        "        actns = [act_cls for _ in range(len(sizes)-2)] + [None]\n",
        "        _layers = [LinBnDrop(sizes[i], sizes[i+1], bn=use_bn and (i!=len(actns)-1 or bn_final), p=p, act=a, lin_first=lin_first)\n",
        "                       for i,(p,a) in enumerate(zip(ps+[0.],actns))]\n",
        "        if y_range is not None: _layers.append(SigmoidRange(*y_range))\n",
        "        self.layers = nn.Sequential(*_layers)\n",
        "\n",
        "    def forward(self, x_cat, x_cont=None):\n",
        "        if self.n_emb != 0:\n",
        "            x = [e(x_cat[:,i]) for i,e in enumerate(self.embeds)]\n",
        "            x = torch.cat(x, 1)\n",
        "            x = self.emb_drop(x)\n",
        "        if self.n_cont != 0:\n",
        "            if self.bn_cont is not None: x_cont = self.bn_cont(x_cont)\n",
        "            x = torch.cat([x, x_cont], 1) if self.n_emb != 0 else x_cont\n",
        "        return self.layers(x)\n",
        "```"
      ]
    },
    {
      "cell_type": "markdown",
      "metadata": {
        "id": "ekXSgnrLuVfI"
      },
      "source": [
        "In the sections below, I will walk through each line of code to make sure I understand what it does."
      ]
    },
    {
      "cell_type": "code",
      "execution_count": 1,
      "metadata": {
        "id": "steGhWB7fqVT"
      },
      "outputs": [],
      "source": [
        "from fastai.tabular.all import *"
      ]
    },
    {
      "cell_type": "markdown",
      "metadata": {
        "id": "Q-Dq4-oApdi1"
      },
      "source": [
        "## `__init__`"
      ]
    },
    {
      "cell_type": "markdown",
      "metadata": {
        "id": "_VC3mm4rpgIv"
      },
      "source": [
        "The `__init__` method's parameters are well-defined by the comments in the source code so I will not list each of them here. However, in order to run actual code for the rest of the lines, I will assign some test values to each of the parameters. I'll also define `x_cat` and `x_cont` so that we have some fake data to work with. I have set all `BatchNorm1d` and `Dropout` related parameters to `0`, `False`, or `None`."
      ]
    },
    {
      "cell_type": "code",
      "execution_count": 58,
      "metadata": {
        "id": "ucE6Q2dMe1gB"
      },
      "outputs": [],
      "source": [
        "torch.manual_seed(42);\n",
        "\n",
        "# self.init parameters\n",
        "emb_szs = [(4,2), (17,8)]\n",
        "n_cont = 1\n",
        "out_sz = 1\n",
        "layers = [200,100]\n",
        "ps = None\n",
        "embed_p = 0.\n",
        "y_range = (0,1)\n",
        "use_bn = False\n",
        "bn_final = False\n",
        "bn_cont = False\n",
        "act_cls=nn.ReLU(inplace=True)\n",
        "lin_first = True\n",
        "\n",
        "# fake data\n",
        "x_cat1 = torch.randint(0,4,(10,))\n",
        "x_cat2 = torch.randint(0,17,(10,))\n",
        "x_cat = torch.column_stack((x_cat1, x_cat2))\n",
        "x_cont = torch.randn(10)[:,None]"
      ]
    },
    {
      "cell_type": "markdown",
      "metadata": {
        "id": "ljDGbwVhkZm7"
      },
      "source": [
        "### `ps`"
      ]
    },
    {
      "cell_type": "markdown",
      "metadata": {
        "id": "qtneRH8okfva"
      },
      "source": [
        "I am not sure what dropout probabilities do exactly, so I won't explain the code here other than running it as shown in the source code:"
      ]
    },
    {
      "cell_type": "code",
      "execution_count": 62,
      "metadata": {
        "id": "nWZw9hwbkpnx"
      },
      "outputs": [],
      "source": [
        "ps = ifnone(ps, [0]*len(layers))\n",
        "if not is_listy(ps): ps = [ps]*len(layers)"
      ]
    },
    {
      "cell_type": "code",
      "execution_count": 63,
      "metadata": {
        "colab": {
          "base_uri": "https://localhost:8080/"
        },
        "id": "3M8ENTdFktbf",
        "outputId": "bf920da7-8e6d-439d-fdc2-c08b5168dfab"
      },
      "outputs": [
        {
          "data": {
            "text/plain": [
              "[0, 0]"
            ]
          },
          "execution_count": 63,
          "metadata": {},
          "output_type": "execute_result"
        }
      ],
      "source": [
        "ps"
      ]
    },
    {
      "cell_type": "markdown",
      "metadata": {
        "id": "lY5jqGnrqTh1"
      },
      "source": [
        "### `self.embeds`"
      ]
    },
    {
      "cell_type": "markdown",
      "metadata": {
        "id": "ZE9cRF1yq2zV"
      },
      "source": [
        "`self.embeds = nn.ModuleList([Embedding(ni, nf) for ni,nf in emb_szs])`"
      ]
    },
    {
      "cell_type": "markdown",
      "metadata": {
        "id": "zSnjWhmvqWOw"
      },
      "source": [
        "This line of code creates `Embedding`s, one for each tuple defined in `emb_szs`, which in turn is one tuple defined for each categorical variable. In my example, I have two categorical variables so I will create two `Embedding`s."
      ]
    },
    {
      "cell_type": "code",
      "execution_count": 64,
      "metadata": {
        "colab": {
          "base_uri": "https://localhost:8080/"
        },
        "id": "NJ8Z2PTcrCoa",
        "outputId": "2bffbc9b-401d-4e2b-dc52-327b9f9c0ec0"
      },
      "outputs": [
        {
          "data": {
            "text/plain": [
              "ModuleList(\n",
              "  (0): Embedding(4, 2)\n",
              "  (1): Embedding(17, 8)\n",
              ")"
            ]
          },
          "execution_count": 64,
          "metadata": {},
          "output_type": "execute_result"
        }
      ],
      "source": [
        "embeds = nn.ModuleList(Embedding(ni, nf) for ni,nf in emb_szs)\n",
        "embeds"
      ]
    },
    {
      "cell_type": "markdown",
      "metadata": {
        "id": "xrjEHoSYtyhL"
      },
      "source": [
        "### `self.emb_drop`"
      ]
    },
    {
      "cell_type": "markdown",
      "metadata": {
        "id": "NhosguEct3be"
      },
      "source": [
        "The following line creates an `nn.Dropout` object which will be used in the model. According to the PyTorch website:\n",
        "\n",
        "> During training, randomly zeroes some of the elements of the input tensor with probability p using samples from a Bernoulli distribution. Each channel will be zeroed out independently on every forward call.\n",
        "\n",
        "`self.emb_drop = nn.Dropout(embed_p)`"
      ]
    },
    {
      "cell_type": "code",
      "execution_count": 96,
      "metadata": {
        "colab": {
          "base_uri": "https://localhost:8080/"
        },
        "id": "IjdxxQXkuI12",
        "outputId": "11222b4b-322b-450c-f50a-12ebdb6b4021"
      },
      "outputs": [
        {
          "data": {
            "text/plain": [
              "Dropout(p=0.0, inplace=False)"
            ]
          },
          "execution_count": 96,
          "metadata": {},
          "output_type": "execute_result"
        }
      ],
      "source": [
        "emb_drop = nn.Dropout(embed_p)\n",
        "emb_drop"
      ]
    },
    {
      "cell_type": "markdown",
      "metadata": {
        "id": "0sGxb08Sv9eN"
      },
      "source": [
        "### `self.bn_cont`"
      ]
    },
    {
      "cell_type": "markdown",
      "metadata": {
        "id": "uUIpNQixv_7C"
      },
      "source": [
        "The following line assigns a `BatchNorm1d` function to `self.bn_cont` if the input argument `bn_cont` is `True`. Since in this case, I have set `bn_cont` to `False`, it would set `self.bn_cont` to `None`:\n",
        "\n",
        "`self.bn_cont = nn.BatchNorm1d(n_cont) if bn_cont else None`"
      ]
    },
    {
      "cell_type": "code",
      "execution_count": 105,
      "metadata": {
        "id": "oWi3A6rTwT_c"
      },
      "outputs": [],
      "source": [
        "bn_cont = nn.BatchNorm1d(n_cont) if bn_cont else None\n",
        "bn_cont"
      ]
    },
    {
      "cell_type": "markdown",
      "metadata": {
        "id": "sQDDG6E4qXCX"
      },
      "source": [
        "### `n_emb`"
      ]
    },
    {
      "cell_type": "markdown",
      "metadata": {
        "id": "aUiudB3LqbrS"
      },
      "source": [
        "`n_emb = sum(e.embedding_dim for e in self.embeds)`"
      ]
    },
    {
      "cell_type": "markdown",
      "metadata": {
        "id": "wyQCYyNIrDDO"
      },
      "source": [
        "In my toy example, I have one `Embedding` containing 4 tensors of size 2, and one `Embedding` containing 17 tensors of size 8, so the total size will be 10."
      ]
    },
    {
      "cell_type": "code",
      "execution_count": 65,
      "metadata": {
        "colab": {
          "base_uri": "https://localhost:8080/"
        },
        "id": "j4kgezlwrBmZ",
        "outputId": "16982323-7bc8-4ead-9b39-0e9d12539b1e"
      },
      "outputs": [
        {
          "data": {
            "text/plain": [
              "10"
            ]
          },
          "execution_count": 65,
          "metadata": {},
          "output_type": "execute_result"
        }
      ],
      "source": [
        "n_emb = sum(e.embedding_dim for e in embeds)\n",
        "n_emb"
      ]
    },
    {
      "cell_type": "markdown",
      "metadata": {
        "id": "o25hWdFKqby2"
      },
      "source": [
        "### `self.n_emb,self.n_cont`"
      ]
    },
    {
      "cell_type": "markdown",
      "metadata": {
        "id": "35tgvgqsqb31"
      },
      "source": [
        "`self.n_emb,self.n_cont = n_emb,n_cont`"
      ]
    },
    {
      "cell_type": "markdown",
      "metadata": {
        "id": "Hm0Hp7QrrIzS"
      },
      "source": [
        "This line of code is simply storing the total `Embedding` size and number of continuous variables."
      ]
    },
    {
      "cell_type": "markdown",
      "metadata": {
        "id": "xjSei6ByqcAH"
      },
      "source": [
        "### `sizes`"
      ]
    },
    {
      "cell_type": "markdown",
      "metadata": {
        "id": "RTgawlLgqb77"
      },
      "source": [
        "`sizes = [n_emb + n_cont] + layers + [out_sz]`"
      ]
    },
    {
      "cell_type": "markdown",
      "metadata": {
        "id": "ACUzkQlBrNxx"
      },
      "source": [
        "This line defines the sizes of the input to the model (which contains `Embeddings` for categorical variables and `n_cont` continuous variables), a number of intermediate `layers`, and a final `out_sz` output size for the output of the model."
      ]
    },
    {
      "cell_type": "code",
      "execution_count": 66,
      "metadata": {
        "colab": {
          "base_uri": "https://localhost:8080/"
        },
        "id": "_zI7RfWvrN8E",
        "outputId": "4ea62813-6361-4453-994f-17f333249db2"
      },
      "outputs": [
        {
          "data": {
            "text/plain": [
              "[11, 200, 100, 1]"
            ]
          },
          "execution_count": 66,
          "metadata": {},
          "output_type": "execute_result"
        }
      ],
      "source": [
        "sizes = [n_emb + n_cont] + layers + [out_sz]\n",
        "sizes"
      ]
    },
    {
      "cell_type": "markdown",
      "metadata": {
        "id": "nZC0lBHdqcDR"
      },
      "source": [
        "### `actns`"
      ]
    },
    {
      "cell_type": "markdown",
      "metadata": {
        "id": "9zKWWZyUrQ4Y"
      },
      "source": [
        "`actns = [act_cls for _ in range(len(sizes)-2)] + [None]`"
      ]
    },
    {
      "cell_type": "markdown",
      "metadata": {
        "id": "J8WyWhv2qpX2"
      },
      "source": [
        "This line defines the activations for the model for all layers. The final layer does not have an activation function so it is set to `None`."
      ]
    },
    {
      "cell_type": "code",
      "execution_count": 67,
      "metadata": {
        "colab": {
          "base_uri": "https://localhost:8080/"
        },
        "id": "eOg0w-PDrQQ-",
        "outputId": "472a8eb5-63ec-4ab5-db0f-d9e0c8e266d3"
      },
      "outputs": [
        {
          "data": {
            "text/plain": [
              "[ReLU(inplace=True), ReLU(inplace=True), None]"
            ]
          },
          "execution_count": 67,
          "metadata": {},
          "output_type": "execute_result"
        }
      ],
      "source": [
        "actns = [act_cls for _ in range(len(sizes)-2)] + [None]\n",
        "actns"
      ]
    },
    {
      "cell_type": "markdown",
      "metadata": {
        "id": "GfQwapYJqpjG"
      },
      "source": [
        "### `_layers`"
      ]
    },
    {
      "cell_type": "markdown",
      "metadata": {
        "id": "IAgj3o8MrVHn"
      },
      "source": [
        "`_layers = [LinBnDrop(sizes[i], sizes[i+1], bn=use_bn and (i!=len(actns)-1 or bn_final), p=p, act=a, lin_first=lin_first) for i,(p,a) in enumerate(zip(ps+[0.],actns))]`"
      ]
    },
    {
      "cell_type": "markdown",
      "metadata": {
        "id": "EU1bMauMnyIU"
      },
      "source": [
        "I'll walk through the components of this line, without going into detail about the \"why\" behind code related to `BatchNorm1d` and `Dropout` layers."
      ]
    },
    {
      "cell_type": "markdown",
      "metadata": {
        "id": "kVE8KmNdn7oF"
      },
      "source": [
        "The following code zips together the list of `ps` probabilities and activations `actns`:"
      ]
    },
    {
      "cell_type": "code",
      "execution_count": 68,
      "metadata": {
        "colab": {
          "base_uri": "https://localhost:8080/"
        },
        "id": "b9hShicMoqXe",
        "outputId": "38dae51f-b88f-46db-834f-924bbea473fe"
      },
      "outputs": [
        {
          "data": {
            "text/plain": [
              "[(0, ReLU(inplace=True)), (0, ReLU(inplace=True)), (0.0, None)]"
            ]
          },
          "execution_count": 68,
          "metadata": {},
          "output_type": "execute_result"
        }
      ],
      "source": [
        "list(zip(ps+[0.], actns))"
      ]
    },
    {
      "cell_type": "markdown",
      "metadata": {
        "id": "EWpxHIRSpCJk"
      },
      "source": [
        "The following code determines whether the `bn` parameter for `LinBnDrop` is set to `True` or `False`. If `use_bn` is `True`, and either of `i!=len(actns)-1` or `bn_final` are `True` then `bn` will be assigned `True`, otherwise it will be `False`.\n",
        "\n",
        "Looking at the second condition, `(i!=len(actns)-1 or bn_final)`, in more detail:\n",
        "\n",
        "If `i!=len(actns)-1` is `True`, it means that the final element of the enumeration has not been reached. In other words, the index does not correspond to the final layer of the model. If it's `False`, that means we have reached the index corresponding to the final layer in the model. In that case, the `or` condition can still result in truth if `bn_final` is `True`.\n",
        "\n",
        "`bn=use_bn and (i!=len(actns)-1 or bn_final)`"
      ]
    },
    {
      "cell_type": "code",
      "execution_count": 71,
      "metadata": {
        "colab": {
          "base_uri": "https://localhost:8080/"
        },
        "id": "6TuqOAm7pvQK",
        "outputId": "648e64f0-cf8d-4ce3-8483-57dc8f2b9885"
      },
      "outputs": [
        {
          "data": {
            "text/plain": [
              "True"
            ]
          },
          "execution_count": 71,
          "metadata": {},
          "output_type": "execute_result"
        }
      ],
      "source": [
        "True and (True or False)"
      ]
    },
    {
      "cell_type": "code",
      "execution_count": 72,
      "metadata": {
        "colab": {
          "base_uri": "https://localhost:8080/"
        },
        "id": "oQXCd8ujpxjA",
        "outputId": "53d8c866-dfca-4ef0-a3fb-58ab5ae643ee"
      },
      "outputs": [
        {
          "data": {
            "text/plain": [
              "True"
            ]
          },
          "execution_count": 72,
          "metadata": {},
          "output_type": "execute_result"
        }
      ],
      "source": [
        "True and (False or True)"
      ]
    },
    {
      "cell_type": "markdown",
      "metadata": {
        "id": "pt7aB7j6oJz8"
      },
      "source": [
        "The following code generates a `LinBnDrop` layer for each activation function, setting the inputs and outputs of the layer based on the values in the `sizes` list:"
      ]
    },
    {
      "cell_type": "code",
      "execution_count": 69,
      "metadata": {
        "colab": {
          "base_uri": "https://localhost:8080/"
        },
        "id": "vpiZ3SaloTCD",
        "outputId": "39121fcd-3e8c-4794-8a07-5911a958302d"
      },
      "outputs": [
        {
          "data": {
            "text/plain": [
              "[LinBnDrop(\n",
              "   (0): Linear(in_features=11, out_features=200, bias=True)\n",
              "   (1): ReLU(inplace=True)\n",
              " ),\n",
              " LinBnDrop(\n",
              "   (0): Linear(in_features=200, out_features=100, bias=True)\n",
              "   (1): ReLU(inplace=True)\n",
              " ),\n",
              " LinBnDrop(\n",
              "   (0): Linear(in_features=100, out_features=1, bias=True)\n",
              " )]"
            ]
          },
          "execution_count": 69,
          "metadata": {},
          "output_type": "execute_result"
        }
      ],
      "source": [
        "_layers = [LinBnDrop(sizes[i], sizes[i+1], bn=use_bn and (i!=len(actns)-1 or bn_final), p=p, act=a,\n",
        "                     lin_first=lin_first) for i, (p,a) in enumerate(zip(ps+[0.], actns))]\n",
        "\n",
        "_layers"
      ]
    },
    {
      "cell_type": "markdown",
      "metadata": {
        "id": "9oFp1sSnrXMO"
      },
      "source": [
        "### `y_range`"
      ]
    },
    {
      "cell_type": "markdown",
      "metadata": {
        "id": "m7XnunGyrXVG"
      },
      "source": [
        "`if y_range is not None: _layers.append(SigmoidRange(*y_range))`"
      ]
    },
    {
      "cell_type": "markdown",
      "metadata": {
        "id": "38vFHQWRqRT1"
      },
      "source": [
        "This line of code adds on a `SigmoidRange` function which limits the output values to the values defined in `y_range`.\n",
        "\n",
        "Here is what the function `SigmoidRange(0,1)` looks like for input values between -10 and 10:"
      ]
    },
    {
      "cell_type": "code",
      "execution_count": 80,
      "metadata": {
        "id": "IMtZMWiKq1-F"
      },
      "outputs": [],
      "source": [
        "def plot_function(f, tx=None, ty=None, title=None, min=-2, max=2, figsize=(6,4)):\n",
        "    x = torch.linspace(min,max, 100)\n",
        "    fig,ax = plt.subplots(figsize=figsize)\n",
        "    ax.plot(x,f(x))\n",
        "    if tx is not None: ax.set_xlabel(tx)\n",
        "    if ty is not None: ax.set_ylabel(ty)\n",
        "    if title is not None: ax.set_title(title)"
      ]
    },
    {
      "cell_type": "code",
      "execution_count": 82,
      "metadata": {
        "colab": {
          "base_uri": "https://localhost:8080/",
          "height": 368
        },
        "id": "6XZ8hyogq3Qi",
        "outputId": "297bcecd-c528-49f3-b0d6-16efcce12c05"
      },
      "outputs": [
        {
          "data": {
            "image/png": "[encoded data removed]",
            "text/plain": [
              "<Figure size 600x400 with 1 Axes>"
            ]
          },
          "metadata": {},
          "output_type": "display_data"
        }
      ],
      "source": [
        "plot_function(SigmoidRange(0,1), min=-10, max=10)"
      ]
    },
    {
      "cell_type": "code",
      "execution_count": 83,
      "metadata": {
        "id": "csC55hP3rO-c"
      },
      "outputs": [],
      "source": [
        "if y_range is not None: _layers.append(SigmoidRange(*y_range))"
      ]
    },
    {
      "cell_type": "code",
      "execution_count": 84,
      "metadata": {
        "colab": {
          "base_uri": "https://localhost:8080/"
        },
        "id": "XCOnxPqzrapT",
        "outputId": "0bd95298-34da-42a1-d1ab-a9f0e4d4b7ac"
      },
      "outputs": [
        {
          "data": {
            "text/plain": [
              "[LinBnDrop(\n",
              "   (0): Linear(in_features=11, out_features=200, bias=True)\n",
              "   (1): ReLU(inplace=True)\n",
              " ),\n",
              " LinBnDrop(\n",
              "   (0): Linear(in_features=200, out_features=100, bias=True)\n",
              "   (1): ReLU(inplace=True)\n",
              " ),\n",
              " LinBnDrop(\n",
              "   (0): Linear(in_features=100, out_features=1, bias=True)\n",
              " ),\n",
              " fastai.layers.SigmoidRange(low=0, high=1)]"
            ]
          },
          "execution_count": 84,
          "metadata": {},
          "output_type": "execute_result"
        }
      ],
      "source": [
        "_layers"
      ]
    },
    {
      "cell_type": "markdown",
      "metadata": {
        "id": "woLwtPNsrXsK"
      },
      "source": [
        "### `self.layers`"
      ]
    },
    {
      "cell_type": "markdown",
      "metadata": {
        "id": "kcDpobmWrX1J"
      },
      "source": [
        "`self.layers = nn.Sequential(*_layers)`"
      ]
    },
    {
      "cell_type": "markdown",
      "metadata": {
        "id": "i-4Y3Va5rekK"
      },
      "source": [
        "The final piece to handling the layers in the model is to wrap them in a `nn.Sequential` model, so that inputs are passed sequentially to each layer in the list `_layers`."
      ]
    },
    {
      "cell_type": "code",
      "execution_count": 85,
      "metadata": {
        "colab": {
          "base_uri": "https://localhost:8080/"
        },
        "id": "FDfMFTi3rX-T",
        "outputId": "1a04b0a1-9d1e-45ae-d22e-32c5b64151ee"
      },
      "outputs": [
        {
          "data": {
            "text/plain": [
              "Sequential(\n",
              "  (0): LinBnDrop(\n",
              "    (0): Linear(in_features=11, out_features=200, bias=True)\n",
              "    (1): ReLU(inplace=True)\n",
              "  )\n",
              "  (1): LinBnDrop(\n",
              "    (0): Linear(in_features=200, out_features=100, bias=True)\n",
              "    (1): ReLU(inplace=True)\n",
              "  )\n",
              "  (2): LinBnDrop(\n",
              "    (0): Linear(in_features=100, out_features=1, bias=True)\n",
              "  )\n",
              "  (3): fastai.layers.SigmoidRange(low=0, high=1)\n",
              ")"
            ]
          },
          "execution_count": 85,
          "metadata": {},
          "output_type": "execute_result"
        }
      ],
      "source": [
        "layers = nn.Sequential(*_layers)\n",
        "layers"
      ]
    },
    {
      "cell_type": "markdown",
      "metadata": {
        "id": "bc85zNJNrYLg"
      },
      "source": [
        "## `forward`"
      ]
    },
    {
      "cell_type": "markdown",
      "metadata": {
        "id": "wUVz8QRJvJ2_"
      },
      "source": [
        "### `if self.n_emb != 0:`"
      ]
    },
    {
      "cell_type": "markdown",
      "metadata": {
        "id": "k2MPFHoHscZi"
      },
      "source": [
        "In this example, `n_emb` is not equal to 0 so the following code will run."
      ]
    },
    {
      "cell_type": "markdown",
      "metadata": {
        "id": "A3eTlQmZrYUi"
      },
      "source": [
        "`x = [e(x_cat[:,i]) for i,e in enumerate(self.embeds)]`\n",
        "\n",
        "In this line of code, the categorical variable columns are passed to the corresponding `Embedding` and the output tensor is stored in a list."
      ]
    },
    {
      "cell_type": "code",
      "execution_count": 91,
      "metadata": {
        "colab": {
          "base_uri": "https://localhost:8080/"
        },
        "id": "JJtvWhppsjLL",
        "outputId": "0e140f6b-fb74-47de-abb8-29a8634b3dc0"
      },
      "outputs": [
        {
          "data": {
            "text/plain": [
              "(2, 10, 10)"
            ]
          },
          "execution_count": 91,
          "metadata": {},
          "output_type": "execute_result"
        }
      ],
      "source": [
        "x = [e(x_cat[:,i]) for i,e in enumerate(embeds)]\n",
        "len(x), len(x[0]), len(x[1])"
      ]
    },
    {
      "cell_type": "markdown",
      "metadata": {
        "id": "Aa-DxwOatVTp"
      },
      "source": [
        "There are 10 rows in `x_cat`. The `Embedding` corresponding to the first column outputs 2 columns of tensors, and the `Embedding` corresponding to the second column outputs 8 columns of tensors."
      ]
    },
    {
      "cell_type": "code",
      "execution_count": 94,
      "metadata": {
        "colab": {
          "base_uri": "https://localhost:8080/"
        },
        "id": "vrJxsowOtK_v",
        "outputId": "1f2db8ea-4d10-408e-a64d-a91d85fbc024"
      },
      "outputs": [
        {
          "data": {
            "text/plain": [
              "torch.Size([10, 2])"
            ]
          },
          "execution_count": 94,
          "metadata": {},
          "output_type": "execute_result"
        }
      ],
      "source": [
        "x[0].shape"
      ]
    },
    {
      "cell_type": "code",
      "execution_count": 95,
      "metadata": {
        "colab": {
          "base_uri": "https://localhost:8080/"
        },
        "id": "xaJbYP4ntMid",
        "outputId": "6a47f9d8-c0d2-44d4-acb7-282d8c66e0ba"
      },
      "outputs": [
        {
          "data": {
            "text/plain": [
              "torch.Size([10, 8])"
            ]
          },
          "execution_count": 95,
          "metadata": {},
          "output_type": "execute_result"
        }
      ],
      "source": [
        "x[1].shape"
      ]
    },
    {
      "cell_type": "markdown",
      "metadata": {
        "id": "QSvjx-nksmAS"
      },
      "source": [
        "The following line takes the list of tensors `x` (with a 10 x 2 and 10 x 8 tensor) and concatenates them into a single 10 x 10 tensor.\n",
        "\n",
        "`x = torch.cat(x, 1)`"
      ]
    },
    {
      "cell_type": "code",
      "execution_count": null,
      "metadata": {
        "id": "uUlRJD4Dsllw"
      },
      "outputs": [],
      "source": [
        "x = torch.cat(x,1)"
      ]
    },
    {
      "cell_type": "code",
      "execution_count": 100,
      "metadata": {
        "colab": {
          "base_uri": "https://localhost:8080/"
        },
        "id": "41WF_G-xuguY",
        "outputId": "eb8fd687-79af-45c7-b6d3-2aa0319d1c8c"
      },
      "outputs": [
        {
          "data": {
            "text/plain": [
              "torch.Size([10, 10])"
            ]
          },
          "execution_count": 100,
          "metadata": {},
          "output_type": "execute_result"
        }
      ],
      "source": [
        "x.shape"
      ]
    },
    {
      "cell_type": "code",
      "execution_count": 102,
      "metadata": {
        "colab": {
          "base_uri": "https://localhost:8080/"
        },
        "id": "MuoE2_Zkva0n",
        "outputId": "d5cd6022-500e-4cd1-8644-e0b2ec9b5f4f"
      },
      "outputs": [
        {
          "data": {
            "text/plain": [
              "tensor([[ 1.3314e-03,  8.6398e-03,  2.0744e-04,  2.5392e-03,  9.3644e-03,\n",
              "          7.1224e-03, -3.1766e-04,  1.0164e-03,  1.3433e-02,  7.1327e-03],\n",
              "        [-1.0157e-02, -8.8875e-03, -1.5988e-02, -1.0913e-03,  7.1520e-03,\n",
              "          3.9139e-04,  1.3059e-02,  2.4659e-03, -1.9776e-02,  1.7896e-04],\n",
              "        [-4.9903e-04,  5.2634e-03,  3.7818e-03,  7.0511e-03, -1.7237e-02,\n",
              "         -8.4348e-03,  4.3514e-03,  2.6589e-03, -5.8710e-03,  8.2689e-04],\n",
              "        [ 1.3314e-03,  8.6398e-03, -1.5988e-02, -1.0913e-03,  7.1520e-03,\n",
              "          3.9139e-04,  1.3059e-02,  2.4659e-03, -1.9776e-02,  1.7896e-04],\n",
              "        [ 1.3314e-03,  8.6398e-03, -7.1988e-04, -9.0609e-03, -4.8712e-04,\n",
              "         -1.0811e-02,  1.7623e-04,  7.8226e-04,  1.9316e-03,  4.0967e-03],\n",
              "        [-1.0157e-02, -8.8875e-03,  1.2554e-02, -7.1496e-03,  8.5392e-03,\n",
              "          5.1299e-03,  5.3973e-03,  5.6551e-03,  5.0579e-03,  2.2245e-03],\n",
              "        [-4.9903e-04,  5.2634e-03, -6.8548e-03,  5.6356e-03, -1.5072e-02,\n",
              "         -1.6107e-02, -1.4790e-02,  4.3227e-03, -1.2503e-03,  7.8212e-03],\n",
              "        [-4.9903e-04,  5.2634e-03,  4.0380e-03, -7.1398e-03,  8.3373e-03,\n",
              "         -9.5855e-03,  4.5363e-03,  1.2461e-02, -3.0651e-03, -1.2869e-02],\n",
              "        [ 1.3314e-03,  8.6398e-03,  1.2554e-02, -7.1496e-03,  8.5392e-03,\n",
              "          5.1299e-03,  5.3973e-03,  5.6551e-03,  5.0579e-03,  2.2245e-03],\n",
              "        [-8.4988e-05,  7.2906e-03, -6.8548e-03,  5.6356e-03, -1.5072e-02,\n",
              "         -1.6107e-02, -1.4790e-02,  4.3227e-03, -1.2503e-03,  7.8212e-03]],\n",
              "       grad_fn=<CatBackward0>)"
            ]
          },
          "execution_count": 102,
          "metadata": {},
          "output_type": "execute_result"
        }
      ],
      "source": [
        "x"
      ]
    },
    {
      "cell_type": "markdown",
      "metadata": {
        "id": "2mbVj7vwsnXJ"
      },
      "source": [
        "The following line of code passes the `x` tensor through the `nn.Dropout` function. If I understand correctly, since I defined `embed_p` as 0, passing it through the `Dropout` layer will not affect the tensor `x`.\n",
        "\n",
        "`x = self.emb_drop(x)`"
      ]
    },
    {
      "cell_type": "code",
      "execution_count": 103,
      "metadata": {
        "id": "fcFYanO9sntg"
      },
      "outputs": [],
      "source": [
        "x = emb_drop(x)"
      ]
    },
    {
      "cell_type": "markdown",
      "metadata": {
        "id": "8j9BpnoYvQpX"
      },
      "source": [
        "### `if self.n_cont != 0`"
      ]
    },
    {
      "cell_type": "markdown",
      "metadata": {
        "id": "oQORkpPjwdKZ"
      },
      "source": [
        "In this example, `n_cont` is not 0 so the following code will run."
      ]
    },
    {
      "cell_type": "markdown",
      "metadata": {
        "id": "din9HOHdvzje"
      },
      "source": [
        "Since `bn_cont` is `None`, the code `x_cont = self.bn_cont(x_cont)` will not run.\n",
        "\n",
        "`if self.bn_cont is not None: x_cont = self.bn_cont(x_cont)`"
      ]
    },
    {
      "cell_type": "code",
      "execution_count": 106,
      "metadata": {
        "id": "iWoIzQpFvz7t"
      },
      "outputs": [],
      "source": [
        "if bn_cont is not None: x_cont = bn_cont(x_cont)"
      ]
    },
    {
      "cell_type": "markdown",
      "metadata": {
        "id": "mZ6C5-87uEPc"
      },
      "source": [
        "In the following line, if `n_emb` is not 0, it will concatenate `x` (which holds the outputs of the categorical `Embedding`s) with `x_cont` (which holds the continuous variable columns) into a single tensor. If `n_emb` is 0, it will assign `x_cont` to `x`.\n",
        "\n",
        "In this example, `n_emb` is not 0 so it will concatenate `x` with `x_cont`.\n",
        "\n",
        "`x = torch.cat([x, x_cont], 1) if self.n_emb != 0 else x_cont`"
      ]
    },
    {
      "cell_type": "code",
      "execution_count": 107,
      "metadata": {
        "colab": {
          "base_uri": "https://localhost:8080/"
        },
        "id": "9vhlwYYqxMQh",
        "outputId": "356a4454-5a28-43ab-e91f-248728d5df6e"
      },
      "outputs": [
        {
          "data": {
            "text/plain": [
              "torch.Size([10, 10])"
            ]
          },
          "execution_count": 107,
          "metadata": {},
          "output_type": "execute_result"
        }
      ],
      "source": [
        "x.shape"
      ]
    },
    {
      "cell_type": "code",
      "execution_count": 119,
      "metadata": {
        "id": "kSjtu0I2um64"
      },
      "outputs": [],
      "source": [
        "x = torch.cat([x, x_cont], 1) if n_emb != 0 else x_cont"
      ]
    },
    {
      "cell_type": "markdown",
      "metadata": {
        "id": "Ere-PR9cyA1i"
      },
      "source": [
        "The concatenation has added a column of tensors (continuous variable) to `x`:"
      ]
    },
    {
      "cell_type": "code",
      "execution_count": 120,
      "metadata": {
        "colab": {
          "base_uri": "https://localhost:8080/"
        },
        "id": "QzMTOwljxLG7",
        "outputId": "5ff67c34-4fd2-4be0-ed3b-739bf8459acb"
      },
      "outputs": [
        {
          "data": {
            "text/plain": [
              "torch.Size([10, 11])"
            ]
          },
          "execution_count": 120,
          "metadata": {},
          "output_type": "execute_result"
        }
      ],
      "source": [
        "x.shape"
      ]
    },
    {
      "cell_type": "markdown",
      "metadata": {
        "id": "Oxl5JK0HrYr3"
      },
      "source": [
        "### `return`"
      ]
    },
    {
      "cell_type": "markdown",
      "metadata": {
        "id": "VEqnPs2ByFMh"
      },
      "source": [
        "The final piece of the `forward` method is to return the outputs of the model. This is done by passing our 11 inputs in `x` (10 categorical embeddings, 1 continuous variable) to the `layers` `nn.Sequential` model defined before."
      ]
    },
    {
      "cell_type": "markdown",
      "metadata": {
        "id": "VyEIV8ElvbWZ"
      },
      "source": [
        "`self.layers(x)`"
      ]
    },
    {
      "cell_type": "code",
      "execution_count": 121,
      "metadata": {
        "colab": {
          "base_uri": "https://localhost:8080/"
        },
        "id": "8PD6TbeMyQvZ",
        "outputId": "7f6f4958-6712-440d-cb4b-3aa3dbb7dfdc"
      },
      "outputs": [
        {
          "data": {
            "text/plain": [
              "Sequential(\n",
              "  (0): LinBnDrop(\n",
              "    (0): Linear(in_features=11, out_features=200, bias=True)\n",
              "    (1): ReLU(inplace=True)\n",
              "  )\n",
              "  (1): LinBnDrop(\n",
              "    (0): Linear(in_features=200, out_features=100, bias=True)\n",
              "    (1): ReLU(inplace=True)\n",
              "  )\n",
              "  (2): LinBnDrop(\n",
              "    (0): Linear(in_features=100, out_features=1, bias=True)\n",
              "  )\n",
              "  (3): fastai.layers.SigmoidRange(low=0, high=1)\n",
              ")"
            ]
          },
          "execution_count": 121,
          "metadata": {},
          "output_type": "execute_result"
        }
      ],
      "source": [
        "layers"
      ]
    },
    {
      "cell_type": "markdown",
      "metadata": {
        "id": "lMAR427ByWxK"
      },
      "source": [
        "The output is a tensor with 10 values, 1 for each of the 10 input rows."
      ]
    },
    {
      "cell_type": "code",
      "execution_count": 122,
      "metadata": {
        "colab": {
          "base_uri": "https://localhost:8080/"
        },
        "id": "bD7Oc7CBrY9t",
        "outputId": "25a077fc-616a-497a-b1a7-3ad8c93f0fbd"
      },
      "outputs": [
        {
          "data": {
            "text/plain": [
              "tensor([[0.5217],\n",
              "        [0.5210],\n",
              "        [0.5216],\n",
              "        [0.5214],\n",
              "        [0.5149],\n",
              "        [0.5192],\n",
              "        [0.5377],\n",
              "        [0.5174],\n",
              "        [0.5223],\n",
              "        [0.5221]], grad_fn=<AddBackward0>)"
            ]
          },
          "execution_count": 122,
          "metadata": {},
          "output_type": "execute_result"
        }
      ],
      "source": [
        "layers(x)"
      ]
    },
    {
      "cell_type": "markdown",
      "metadata": {
        "id": "DlBrOD-EyjM4"
      },
      "source": [
        "## Final Thoughts"
      ]
    },
    {
      "cell_type": "markdown",
      "metadata": {
        "id": "Zk4EyPA_y7lR"
      },
      "source": [
        "I _**really**_ enjoyed this exercise and will definitely apply the same process of running line-by-line code in the future when I am trying to understand fastai (or other) library source code. By the end of this exercise, I was surprised at how simple and straightforward it is to build a `TabularModel` object. It's so powerful given its simplicity.\n",
        "\n",
        "I hope you enjoyed this blog post!"
      ]
    }
  ],
  "metadata": {
    "colab": {
      "provenance": [],
      "toc_visible": true
    },
    "kernelspec": {
      "display_name": "Python 3",
      "name": "python3"
    },
    "language_info": {
      "name": "python"
    }
  },
  "nbformat": 4,
  "nbformat_minor": 0
}

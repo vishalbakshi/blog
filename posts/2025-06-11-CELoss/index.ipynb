{
  "cells": [
    {
      "cell_type": "raw",
      "metadata": {
        "vscode": {
          "languageId": "raw"
        }
      },
      "source": [
        "---\n",
        "title: Cross Entropy Loss Explained\n",
        "date: \"2025-06-11\"\n",
        "author: Vishal Bakshi\n",
        "description: A deep dive into Cross-Entropy Loss, revisiting Chapter 5 of the fast.ai textbook to build intuition from first principles. This post explores the mathematical and conceptual link between the sigmoid and softmax functions, explains the meaning of logits, and provides a hands-on PyTorch demonstration of how the loss function's gradient simplifies to the elegant prediction - target form.\n",
        "filters:\n",
        "   - lightbox\n",
        "lightbox: auto\n",
        "categories:\n",
        "    - python\n",
        "    - deep learning\n",
        "    - fastai\n",
        "---"
      ]
    },
    {
      "cell_type": "markdown",
      "metadata": {
        "id": "1ATQU34udLwB"
      },
      "source": [
        "## Background"
      ]
    },
    {
      "cell_type": "markdown",
      "metadata": {
        "id": "jM13dx1ydN4B"
      },
      "source": [
        "As I've been preparing to build [highly performant tiny LMs](https://vishalbakshi.github.io/blog/index.html#category=TinyScaleLab), I realized I needed a refresher on how Cross-Entropy loss works. In this notebook I'm revisiting [Chapter 5 of fastbook](https://github.com/fastai/fastbook/blob/master/05_pet_breeds.ipynb) to walk through the code and concepts introduced to build intuition around this loss function.\n",
        "\n",
        "I was motivated to work on this refresher because I wanted to better visualize with a concrete example how small batch training can lead to noisy gradients."
      ]
    },
    {
      "cell_type": "markdown",
      "metadata": {
        "id": "SOVcSZZCdn-y"
      },
      "source": [
        "## Multi-Class Classification"
      ]
    },
    {
      "cell_type": "markdown",
      "metadata": {
        "id": "oPS_a-Cmdq-p"
      },
      "source": [
        "We are going to focus on a single-label, multiple class classification problem using the PETS dataset."
      ]
    },
    {
      "cell_type": "code",
      "execution_count": null,
      "metadata": {
        "colab": {
          "base_uri": "https://localhost:8080/",
          "height": 37
        },
        "id": "YJu1y_sE_Kxt",
        "outputId": "916a6aea-9fc1-4095-a00d-b2d4462f90ed"
      },
      "outputs": [
        {
          "data": {
            "text/html": [
              "\n",
              "<style>\n",
              "    /* Turns off some styling */\n",
              "    progress {\n",
              "        /* gets rid of default border in Firefox and Opera. */\n",
              "        border: none;\n",
              "        /* Needs to be in here for Safari polyfill so background images work as expected. */\n",
              "        background-size: auto;\n",
              "    }\n",
              "    progress:not([value]), progress:not([value])::-webkit-progress-bar {\n",
              "        background: repeating-linear-gradient(45deg, #7e7e7e, #7e7e7e 10px, #5c5c5c 10px, #5c5c5c 20px);\n",
              "    }\n",
              "    .progress-bar-interrupted, .progress-bar-interrupted::-webkit-progress-bar {\n",
              "        background: #F44336;\n",
              "    }\n",
              "</style>\n"
            ],
            "text/plain": [
              "<IPython.core.display.HTML object>"
            ]
          },
          "metadata": {},
          "output_type": "display_data"
        },
        {
          "data": {
            "text/html": [
              "\n",
              "    <div>\n",
              "      <progress value='811712512' class='' max='811706944' style='width:300px; height:20px; vertical-align: middle;'></progress>\n",
              "      100.00% [811712512/811706944 00:14&lt;00:00]\n",
              "    </div>\n",
              "    "
            ],
            "text/plain": [
              "<IPython.core.display.HTML object>"
            ]
          },
          "metadata": {},
          "output_type": "display_data"
        }
      ],
      "source": [
        "from fastai.vision.all import *\n",
        "path = untar_data(URLs.PETS)"
      ]
    },
    {
      "cell_type": "code",
      "execution_count": null,
      "metadata": {
        "id": "qwkjeK_5_i-B"
      },
      "outputs": [],
      "source": [
        "pets = DataBlock(blocks = (ImageBlock, CategoryBlock),\n",
        "                 get_items=get_image_files,\n",
        "                 splitter=RandomSplitter(seed=42),\n",
        "                 get_y=using_attr(RegexLabeller(r'(.+)_\\d+.jpg$'), 'name'),\n",
        "                 item_tfms=Resize(460),\n",
        "                 batch_tfms=aug_transforms(size=224, min_scale=0.75))\n",
        "dls = pets.dataloaders(path/\"images\")"
      ]
    },
    {
      "cell_type": "code",
      "execution_count": null,
      "metadata": {
        "colab": {
          "base_uri": "https://localhost:8080/",
          "height": 230
        },
        "id": "FrEg12qTAQ54",
        "outputId": "960ea3d6-91e1-47f4-9ddb-cfa755ef7c81"
      },
      "outputs": [
        {
          "name": "stderr",
          "output_type": "stream",
          "text": [
            "Downloading: \"https://download.pytorch.org/models/resnet34-b627a593.pth\" to /root/.cache/torch/hub/checkpoints/resnet34-b627a593.pth\n",
            "100%|██████████| 83.3M/83.3M [00:00<00:00, 138MB/s]\n"
          ]
        },
        {
          "data": {
            "text/html": [
              "\n",
              "<style>\n",
              "    /* Turns off some styling */\n",
              "    progress {\n",
              "        /* gets rid of default border in Firefox and Opera. */\n",
              "        border: none;\n",
              "        /* Needs to be in here for Safari polyfill so background images work as expected. */\n",
              "        background-size: auto;\n",
              "    }\n",
              "    progress:not([value]), progress:not([value])::-webkit-progress-bar {\n",
              "        background: repeating-linear-gradient(45deg, #7e7e7e, #7e7e7e 10px, #5c5c5c 10px, #5c5c5c 20px);\n",
              "    }\n",
              "    .progress-bar-interrupted, .progress-bar-interrupted::-webkit-progress-bar {\n",
              "        background: #F44336;\n",
              "    }\n",
              "</style>\n"
            ],
            "text/plain": [
              "<IPython.core.display.HTML object>"
            ]
          },
          "metadata": {},
          "output_type": "display_data"
        },
        {
          "data": {
            "text/html": [
              "<table border=\"1\" class=\"dataframe\">\n",
              "  <thead>\n",
              "    <tr style=\"text-align: left;\">\n",
              "      <th>epoch</th>\n",
              "      <th>train_loss</th>\n",
              "      <th>valid_loss</th>\n",
              "      <th>error_rate</th>\n",
              "      <th>time</th>\n",
              "    </tr>\n",
              "  </thead>\n",
              "  <tbody>\n",
              "    <tr>\n",
              "      <td>0</td>\n",
              "      <td>1.499396</td>\n",
              "      <td>0.378620</td>\n",
              "      <td>0.125169</td>\n",
              "      <td>01:07</td>\n",
              "    </tr>\n",
              "  </tbody>\n",
              "</table>"
            ],
            "text/plain": [
              "<IPython.core.display.HTML object>"
            ]
          },
          "metadata": {},
          "output_type": "display_data"
        },
        {
          "data": {
            "text/html": [
              "\n",
              "<style>\n",
              "    /* Turns off some styling */\n",
              "    progress {\n",
              "        /* gets rid of default border in Firefox and Opera. */\n",
              "        border: none;\n",
              "        /* Needs to be in here for Safari polyfill so background images work as expected. */\n",
              "        background-size: auto;\n",
              "    }\n",
              "    progress:not([value]), progress:not([value])::-webkit-progress-bar {\n",
              "        background: repeating-linear-gradient(45deg, #7e7e7e, #7e7e7e 10px, #5c5c5c 10px, #5c5c5c 20px);\n",
              "    }\n",
              "    .progress-bar-interrupted, .progress-bar-interrupted::-webkit-progress-bar {\n",
              "        background: #F44336;\n",
              "    }\n",
              "</style>\n"
            ],
            "text/plain": [
              "<IPython.core.display.HTML object>"
            ]
          },
          "metadata": {},
          "output_type": "display_data"
        },
        {
          "data": {
            "text/html": [
              "<table border=\"1\" class=\"dataframe\">\n",
              "  <thead>\n",
              "    <tr style=\"text-align: left;\">\n",
              "      <th>epoch</th>\n",
              "      <th>train_loss</th>\n",
              "      <th>valid_loss</th>\n",
              "      <th>error_rate</th>\n",
              "      <th>time</th>\n",
              "    </tr>\n",
              "  </thead>\n",
              "  <tbody>\n",
              "    <tr>\n",
              "      <td>0</td>\n",
              "      <td>0.536576</td>\n",
              "      <td>0.329664</td>\n",
              "      <td>0.104871</td>\n",
              "      <td>01:08</td>\n",
              "    </tr>\n",
              "    <tr>\n",
              "      <td>1</td>\n",
              "      <td>0.326150</td>\n",
              "      <td>0.241802</td>\n",
              "      <td>0.078484</td>\n",
              "      <td>01:08</td>\n",
              "    </tr>\n",
              "  </tbody>\n",
              "</table>"
            ],
            "text/plain": [
              "<IPython.core.display.HTML object>"
            ]
          },
          "metadata": {},
          "output_type": "display_data"
        }
      ],
      "source": [
        "learn = vision_learner(dls, resnet34, metrics=error_rate)\n",
        "learn.fine_tune(2)"
      ]
    },
    {
      "cell_type": "markdown",
      "metadata": {
        "id": "gnHligIAdyNZ"
      },
      "source": [
        "Inspecting one batch, we see that the inputs are a batch of 64 3-channel 224x224 pixel images, and the targets are integers (between 0 and 36, the number of pet classes in the dataset)"
      ]
    },
    {
      "cell_type": "code",
      "execution_count": null,
      "metadata": {
        "id": "F_1DtyBVAVYz"
      },
      "outputs": [],
      "source": [
        "x,y = dls.one_batch()"
      ]
    },
    {
      "cell_type": "code",
      "execution_count": null,
      "metadata": {
        "colab": {
          "base_uri": "https://localhost:8080/"
        },
        "id": "4pTkgZuEd0iK",
        "outputId": "33f8f547-092a-488e-a111-dcc96b36d461"
      },
      "outputs": [
        {
          "data": {
            "text/plain": [
              "torch.Size([64, 3, 224, 224])"
            ]
          },
          "execution_count": 5,
          "metadata": {},
          "output_type": "execute_result"
        }
      ],
      "source": [
        "x.shape"
      ]
    },
    {
      "cell_type": "code",
      "execution_count": null,
      "metadata": {
        "colab": {
          "base_uri": "https://localhost:8080/"
        },
        "id": "tMepyWleBOpj",
        "outputId": "3633a063-2f52-47f0-e469-9362a45be99a"
      },
      "outputs": [
        {
          "data": {
            "text/plain": [
              "TensorCategory([23, 13, 25,  3, 16, 31, 34,  8,  9, 20, 19, 10,  6, 19, 33, 35,\n",
              "                34, 19, 18, 29, 26, 34, 24, 30, 31,  2,  3, 20, 28, 29,  0, 11,\n",
              "                22, 31,  3, 36, 15, 16,  0, 18, 32, 17,  3, 18, 16,  6, 16,  2,\n",
              "                32,  0,  9, 26, 26, 35, 18,  4, 36,  5, 17,  0, 11, 27, 21, 35],\n",
              "               device='cuda:0')"
            ]
          },
          "execution_count": 6,
          "metadata": {},
          "output_type": "execute_result"
        }
      ],
      "source": [
        "y"
      ]
    },
    {
      "cell_type": "code",
      "execution_count": null,
      "metadata": {
        "colab": {
          "base_uri": "https://localhost:8080/"
        },
        "id": "BZYUEEQTfJz4",
        "outputId": "b4a33fcf-0b37-44c9-b9a3-cc80678a5273"
      },
      "outputs": [
        {
          "data": {
            "text/plain": [
              "torch.Size([64])"
            ]
          },
          "execution_count": 7,
          "metadata": {},
          "output_type": "execute_result"
        }
      ],
      "source": [
        "y.shape"
      ]
    },
    {
      "cell_type": "markdown",
      "metadata": {
        "id": "mtW4wr6ld_yJ"
      },
      "source": [
        "Passing this batch to the trained model we get back 37 predictions for each item in the batch."
      ]
    },
    {
      "cell_type": "code",
      "execution_count": null,
      "metadata": {
        "colab": {
          "base_uri": "https://localhost:8080/",
          "height": 138
        },
        "id": "knA2ZZyqBPDS",
        "outputId": "d002ca06-5bda-43f9-e418-fec34d0b2f52"
      },
      "outputs": [
        {
          "data": {
            "text/html": [
              "\n",
              "<style>\n",
              "    /* Turns off some styling */\n",
              "    progress {\n",
              "        /* gets rid of default border in Firefox and Opera. */\n",
              "        border: none;\n",
              "        /* Needs to be in here for Safari polyfill so background images work as expected. */\n",
              "        background-size: auto;\n",
              "    }\n",
              "    progress:not([value]), progress:not([value])::-webkit-progress-bar {\n",
              "        background: repeating-linear-gradient(45deg, #7e7e7e, #7e7e7e 10px, #5c5c5c 10px, #5c5c5c 20px);\n",
              "    }\n",
              "    .progress-bar-interrupted, .progress-bar-interrupted::-webkit-progress-bar {\n",
              "        background: #F44336;\n",
              "    }\n",
              "</style>\n"
            ],
            "text/plain": [
              "<IPython.core.display.HTML object>"
            ]
          },
          "metadata": {},
          "output_type": "display_data"
        },
        {
          "data": {
            "text/html": [],
            "text/plain": [
              "<IPython.core.display.HTML object>"
            ]
          },
          "metadata": {},
          "output_type": "display_data"
        },
        {
          "data": {
            "text/plain": [
              "tensor([2.0166e-08, 1.0262e-06, 6.8535e-06, 2.8387e-06, 7.7887e-08, 1.4034e-07,\n",
              "        4.1744e-07, 9.1272e-06, 1.0166e-05, 1.3550e-07, 5.2067e-08, 3.7820e-06,\n",
              "        4.2456e-06, 1.2272e-08, 1.2251e-07, 1.4040e-07, 7.0171e-06, 4.2623e-04,\n",
              "        1.3611e-07, 7.3574e-08, 1.6146e-08, 5.0945e-06, 8.1139e-06, 9.9821e-01,\n",
              "        4.9108e-05, 3.4051e-06, 7.8016e-09, 2.8509e-07, 1.0994e-03, 1.3271e-06,\n",
              "        1.4462e-04, 4.8486e-07, 1.3296e-07, 7.4560e-07, 6.1535e-08, 7.6703e-07,\n",
              "        9.5345e-07])"
            ]
          },
          "execution_count": 8,
          "metadata": {},
          "output_type": "execute_result"
        }
      ],
      "source": [
        "preds,_ = learn.get_preds(dl=[(x,y)])\n",
        "preds[0]"
      ]
    },
    {
      "cell_type": "code",
      "execution_count": null,
      "metadata": {
        "colab": {
          "base_uri": "https://localhost:8080/"
        },
        "id": "bbYS73bhfeJy",
        "outputId": "6b69e953-00de-43f1-bbd2-3e4379dd465a"
      },
      "outputs": [
        {
          "data": {
            "text/plain": [
              "torch.Size([64, 37])"
            ]
          },
          "execution_count": 11,
          "metadata": {},
          "output_type": "execute_result"
        }
      ],
      "source": [
        "preds.shape"
      ]
    },
    {
      "cell_type": "code",
      "execution_count": null,
      "metadata": {
        "colab": {
          "base_uri": "https://localhost:8080/"
        },
        "id": "_4p7mNW8BXqF",
        "outputId": "4a8779a2-b7f7-40cf-c5bc-2cdbdecb7913"
      },
      "outputs": [
        {
          "data": {
            "text/plain": [
              "(torch.Size([64, 3, 224, 224]), torch.Size([64]), torch.Size([37]))"
            ]
          },
          "execution_count": 9,
          "metadata": {},
          "output_type": "execute_result"
        }
      ],
      "source": [
        "x.shape, y.shape, preds[0].shape"
      ]
    },
    {
      "cell_type": "code",
      "execution_count": null,
      "metadata": {
        "colab": {
          "base_uri": "https://localhost:8080/"
        },
        "id": "6osBHCcABa9t",
        "outputId": "73e26c69-068c-4d62-e704-3a365b6fee15"
      },
      "outputs": [
        {
          "data": {
            "text/plain": [
              "(37, tensor(1.))"
            ]
          },
          "execution_count": 10,
          "metadata": {},
          "output_type": "execute_result"
        }
      ],
      "source": [
        "len(preds[0]),preds[0].sum()"
      ]
    },
    {
      "cell_type": "markdown",
      "metadata": {
        "id": "2HUsrY2keGps"
      },
      "source": [
        "The predictions for each batch item sum to `1.0`."
      ]
    },
    {
      "cell_type": "markdown",
      "metadata": {
        "id": "YcS5ygryej9i"
      },
      "source": [
        "## Building Up Cross-Entropy Loss"
      ]
    },
    {
      "cell_type": "markdown",
      "metadata": {
        "id": "sPoTIyskeoNj"
      },
      "source": [
        "We'll work through a simpler example: binary classification with two classes (and thus two model outputs/activations)."
      ]
    },
    {
      "cell_type": "code",
      "execution_count": null,
      "metadata": {
        "id": "ba1gQn_zBsY-"
      },
      "outputs": [],
      "source": [
        "torch.random.manual_seed(42);"
      ]
    },
    {
      "cell_type": "code",
      "execution_count": null,
      "metadata": {
        "colab": {
          "base_uri": "https://localhost:8080/"
        },
        "id": "VP71ZFGTCd4L",
        "outputId": "2cf74b04-4eda-4dfe-8af7-475b9c628d44"
      },
      "outputs": [
        {
          "data": {
            "text/plain": [
              "tensor([[ 0.6734,  0.2576],\n",
              "        [ 0.4689,  0.4607],\n",
              "        [-2.2457, -0.3727],\n",
              "        [ 4.4164, -1.2760],\n",
              "        [ 0.9233,  0.5347],\n",
              "        [ 1.0698,  1.6187]])"
            ]
          },
          "execution_count": 13,
          "metadata": {},
          "output_type": "execute_result"
        }
      ],
      "source": [
        "acts = torch.randn((6,2))*2\n",
        "acts"
      ]
    },
    {
      "cell_type": "markdown",
      "metadata": {
        "id": "9JYWgozYgBik"
      },
      "source": [
        "We want each row (batch item) to sum to 1.0. In other words, we want to turn these activations into probabilities. Passing each item through sigmoid does not help. While it does constrain the value to 0 and 1 it does so independently across the two classes so they don't add up to 1.0."
      ]
    },
    {
      "cell_type": "code",
      "execution_count": null,
      "metadata": {
        "id": "GZ9VzMJzB8BJ"
      },
      "outputs": [],
      "source": [
        "def plot_function(f, tx=None, ty=None, title=None, min=-2, max=2, figsize=(6,4)):\n",
        "    min = torch.tensor(min)\n",
        "    max = torch.tensor(max)\n",
        "    x = torch.linspace(min,max, 100)\n",
        "    fig,ax = plt.subplots(figsize=figsize)\n",
        "    ax.plot(x,f(x))\n",
        "    if tx is not None: ax.set_xlabel(tx)\n",
        "    if ty is not None: ax.set_ylabel(ty)\n",
        "    if title is not None: ax.set_title(title)"
      ]
    },
    {
      "cell_type": "code",
      "execution_count": null,
      "metadata": {
        "colab": {
          "base_uri": "https://localhost:8080/",
          "height": 368
        },
        "id": "v_GOgK0YBh1d",
        "outputId": "11a3618a-ebe2-49c2-937f-82be1c97eebb"
      },
      "outputs": [
        {
          "data": {
            "image/png": "[encoded data removed]",
            "text/plain": [
              "<Figure size 600x400 with 1 Axes>"
            ]
          },
          "metadata": {},
          "output_type": "display_data"
        }
      ],
      "source": [
        "plot_function(f=torch.sigmoid, min=-4,max=4)"
      ]
    },
    {
      "cell_type": "code",
      "execution_count": null,
      "metadata": {
        "colab": {
          "base_uri": "https://localhost:8080/"
        },
        "id": "Orcg85-vCfYE",
        "outputId": "3546e7a1-76ee-4404-98de-87468b39dcbb"
      },
      "outputs": [
        {
          "data": {
            "text/plain": [
              "tensor([[0.6623, 0.5641],\n",
              "        [0.6151, 0.6132],\n",
              "        [0.0957, 0.4079],\n",
              "        [0.9881, 0.2182],\n",
              "        [0.7157, 0.6306],\n",
              "        [0.7446, 0.8346]])"
            ]
          },
          "execution_count": 17,
          "metadata": {},
          "output_type": "execute_result"
        }
      ],
      "source": [
        "acts.sigmoid()"
      ]
    },
    {
      "cell_type": "code",
      "execution_count": null,
      "metadata": {
        "colab": {
          "base_uri": "https://localhost:8080/"
        },
        "id": "jQ__g9-aCmZt",
        "outputId": "2c5c3e3c-892d-4292-cd84-8997dba4b3a0"
      },
      "outputs": [
        {
          "data": {
            "text/plain": [
              "tensor(0.6623)"
            ]
          },
          "execution_count": 18,
          "metadata": {},
          "output_type": "execute_result"
        }
      ],
      "source": [
        "acts[0][0].sigmoid()"
      ]
    },
    {
      "cell_type": "markdown",
      "metadata": {
        "id": "pCxrUkSGhEQA"
      },
      "source": [
        "However, taking the difference _between the class activations_ and then passing that through the sigmoid does give us our desired result: probabilities that sum up to 1.0 across classes for each batch item."
      ]
    },
    {
      "cell_type": "code",
      "execution_count": null,
      "metadata": {
        "colab": {
          "base_uri": "https://localhost:8080/"
        },
        "id": "naH5VNS5CoLN",
        "outputId": "e9b1877f-f9fb-4dd6-f59e-d79f755693ac"
      },
      "outputs": [
        {
          "data": {
            "text/plain": [
              "tensor([0.6025, 0.5021, 0.1332, 0.9966, 0.5959, 0.3661])"
            ]
          },
          "execution_count": 21,
          "metadata": {},
          "output_type": "execute_result"
        }
      ],
      "source": [
        "(acts[:,0]-acts[:,1]).sigmoid()"
      ]
    },
    {
      "cell_type": "code",
      "execution_count": null,
      "metadata": {
        "colab": {
          "base_uri": "https://localhost:8080/"
        },
        "id": "jS6RfRRAhSpU",
        "outputId": "a57c5464-916e-4088-809c-c728e94b0b4d"
      },
      "outputs": [
        {
          "data": {
            "text/plain": [
              "tensor([0.3975, 0.4979, 0.8668, 0.0034, 0.4041, 0.6339])"
            ]
          },
          "execution_count": 22,
          "metadata": {},
          "output_type": "execute_result"
        }
      ],
      "source": [
        "(acts[:,1]-acts[:,0]).sigmoid()"
      ]
    },
    {
      "cell_type": "code",
      "execution_count": null,
      "metadata": {
        "colab": {
          "base_uri": "https://localhost:8080/"
        },
        "id": "c0nN5PDyhUrS",
        "outputId": "4a8f3e27-8877-42af-eba9-2fa12ffd447c"
      },
      "outputs": [
        {
          "data": {
            "text/plain": [
              "tensor([1.0000, 1.0000, 1.0000, 1.0000, 1.0000, 1.0000])"
            ]
          },
          "execution_count": 23,
          "metadata": {},
          "output_type": "execute_result"
        }
      ],
      "source": [
        "(acts[:,0]-acts[:,1]).sigmoid() + (acts[:,1]-acts[:,0]).sigmoid()"
      ]
    },
    {
      "cell_type": "markdown",
      "metadata": {
        "id": "KLzoo-2miFF4"
      },
      "source": [
        "Why does this work? We can see why mathematically."
      ]
    },
    {
      "cell_type": "markdown",
      "metadata": {
        "id": "rPhph8_QyeJh"
      },
      "source": [
        "### Deriving Softmax from Sigmoid"
      ]
    },
    {
      "cell_type": "markdown",
      "metadata": {
        "id": "Jv_6L-TgymC4"
      },
      "source": [
        "We start with taking the sigmoid of the difference between the first and second class activations."
      ]
    },
    {
      "cell_type": "markdown",
      "metadata": {
        "id": "VngStS8ays2J"
      },
      "source": [
        "$$\\text{sigmoid}(x_1-x_2)\\text{ = }\\frac{1}{1+e^{-{(x_1-x_2)}}}$$"
      ]
    },
    {
      "cell_type": "markdown",
      "metadata": {
        "id": "rHCQpbFvyuU6"
      },
      "source": [
        "Let's rewrite the denominator, expanding the exponent term:"
      ]
    },
    {
      "cell_type": "markdown",
      "metadata": {
        "id": "4u9nf5Gpy4Dx"
      },
      "source": [
        "$$1+e^{-{(x_1-x_2)}} = 1 + \\frac{1}{e^{(x_1-x_2)}} = \\frac{1}{1}+\\frac{1}{e^{(x_1-x_2)}} = \\frac{e^{(x_1-x_2)}+1}{e^{(x_1-x_2)}}$$"
      ]
    },
    {
      "cell_type": "markdown",
      "metadata": {
        "id": "zAL122YPy5HR"
      },
      "source": [
        "Plugging that back into the original sigmoid fraction and simplifying:"
      ]
    },
    {
      "cell_type": "markdown",
      "metadata": {
        "id": "m1H7ggfnzCS3"
      },
      "source": [
        "$$\\frac{1}{1+e^{-{(x_1-x_2)}}} = \\frac{1}{\\frac{e^{(x_1-x_2)}+1}{e^{(x_1-x_2)}}} = \\frac{e^{(x_1-x_2)}}{e^{(x_1-x_2)}+1}$$"
      ]
    },
    {
      "cell_type": "markdown",
      "metadata": {
        "id": "_mXiEIvBzDBo"
      },
      "source": [
        "Multiplying by a term equivalent to 1 (thanks Gemini):"
      ]
    },
    {
      "cell_type": "markdown",
      "metadata": {
        "id": "Y17OUUGuzJ-8"
      },
      "source": [
        "\n",
        "$$\\frac{e^{(x_1-x_2)}}{e^{(x_1-x_2)}+1} \\times \\frac{e^{x_2}}{e^{x_2}} = \\frac{e^{(x_1-x_2)}\\times e^{x_2}}{(e^{(x_1-x_2)}+1)\\times e^{x_2}} = \\frac{e^{(x_1-x_2+x_2)}}{e^{(x_1-x_2+x_2)}+e^{x_2}}=\\frac{e^{x_1}}{e^{x_1}+e^{x_2}}$$"
      ]
    },
    {
      "cell_type": "markdown",
      "metadata": {
        "id": "OT26LqyjzLzn"
      },
      "source": [
        "We are left with the softmax calculation for the first class probability. The chapter goes on to say:"
      ]
    },
    {
      "cell_type": "markdown",
      "metadata": {
        "id": "p5TjaLgDOShf"
      },
      "source": [
        "> The second column (the probability of it being a 7) will then just be that value subtracted from 1."
      ]
    },
    {
      "cell_type": "markdown",
      "metadata": {
        "id": "X5knNLE9zU3a"
      },
      "source": [
        "The sigmoid of the difference between the second and first class probabilities is 1 minus the sigmoid of the difference between the first and second class probabilities."
      ]
    },
    {
      "cell_type": "markdown",
      "metadata": {
        "id": "t2-S-TfHOm1T"
      },
      "source": [
        "$$\\text{sigmoid}(x_2-x_1)\\text{ = }1 - \\frac{e^{x_1}}{e^{x_1}+e^{x_2}} = \\frac{e^{x_1}+e^{x_2}}{e^{x_1}+e^{x_2}} - \\frac{e^{x_1}}{e^{x_1}+e^{x_2}} = \\frac{e^{x_1}+e^{x_2}-e^{x_1}}{e^{x_1}+e^{x_2}} = \\frac{e^{x_2}}{e^{x_1}+e^{x_2}}$$"
      ]
    },
    {
      "cell_type": "code",
      "execution_count": null,
      "metadata": {
        "colab": {
          "base_uri": "https://localhost:8080/"
        },
        "id": "C9Zm1ybGQTf4",
        "outputId": "197b5713-e23b-405e-d37c-561a6c5b6fd8"
      },
      "outputs": [
        {
          "data": {
            "text/plain": [
              "tensor([0.3975, 0.4979, 0.8668, 0.0034, 0.4041, 0.6339])"
            ]
          },
          "execution_count": 24,
          "metadata": {},
          "output_type": "execute_result"
        }
      ],
      "source": [
        "1 - (acts[:,0]-acts[:,1]).sigmoid()"
      ]
    },
    {
      "cell_type": "markdown",
      "metadata": {
        "id": "9Uf445wh4lpo"
      },
      "source": [
        "We can also derive the same result with a different approach mathematically, I find this one to be simpler:"
      ]
    },
    {
      "cell_type": "markdown",
      "metadata": {
        "id": "1RXCNboPz-di"
      },
      "source": [
        "$$\\text{sigmoid}(x_1-x_2)\\text{ = }\\frac{1}{1+e^{-{(x_1-x_2)}}}$$"
      ]
    },
    {
      "cell_type": "markdown",
      "metadata": {
        "id": "DSEJyvEm3p3q"
      },
      "source": [
        "Expanding the exponent term in the denominator:"
      ]
    },
    {
      "cell_type": "markdown",
      "metadata": {
        "id": "88YBQ5vb0JBg"
      },
      "source": [
        "$$e^{-(x_1-x_2)} = \\frac{1}{e^{(x_1-x_2)}} = \\frac{1}{\\frac{e^{x_1}}{e^{x_2}}} = \\frac{e^{x_2}}{e^{x_1}}$$"
      ]
    },
    {
      "cell_type": "markdown",
      "metadata": {
        "id": "L4k4vTbT3vcc"
      },
      "source": [
        "Plugging that back into the denominator and massaging it:"
      ]
    },
    {
      "cell_type": "markdown",
      "metadata": {
        "id": "jXWvhJ7S3yYm"
      },
      "source": [
        "$$1+\\frac{e^{x_2}}{e^{x_1}} = \\frac{e^{x_1}}{e^{x_1}} + \\frac{e^{x_2}}{e^{x_1}} = \\frac{e^{x_1} + e^{x_2}}{e^{x_1}}$$"
      ]
    },
    {
      "cell_type": "markdown",
      "metadata": {
        "id": "R_71_ipq4SPX"
      },
      "source": [
        "Plugging that back in to the original sigmoid equation:"
      ]
    },
    {
      "cell_type": "markdown",
      "metadata": {
        "id": "2ypvHv234VI4"
      },
      "source": [
        "$$\\text{sigmoid}(x_1-x_2)\\text{ = }\\frac{1}{1+e^{-{(x_1-x_2)}}} = \\frac{1}{\\frac{e^{x_1} + e^{x_2}}{e^{x_1}}} = \\frac{e^{x_1}}{e^{x_2}+e^{x_1}}$$"
      ]
    },
    {
      "cell_type": "markdown",
      "metadata": {
        "id": "xfuOrwtTzt2g"
      },
      "source": [
        "Mathematically, with some help from Gemini, that makes sense. But what is the conceptual intuition behind it? Why does taking the sigmoid of _the difference between activations_ equate to softmax?"
      ]
    },
    {
      "cell_type": "markdown",
      "metadata": {
        "id": "9wHatI8WSEhf"
      },
      "source": [
        "With loads of help with Gemini, I've come to the following conclusions/intuitions:\n",
        "\n",
        "- sigmoid is designed for a simple binary outcome: A and not-A, so we can't use it for more than 2 classes.\n",
        "- the difference in logits is a difference in \"learned evidence\" between the two classes. The value `x_1 - x_2` represents the log-odds of class 1 relative to class 2 (i.e., it's equal to `log(P(class 1)/P(class 2))`). A difference of `0` (logits `x_1` and `x_2` are equal) passed through sigmoid yields a probability of `0.5`, meaning both classes are equally probable.\n",
        "- sigmoid is the inverse function of the log-odds (or logit) function. sigmoid(0) = 0.5, and log(0.5/(1-0.5)) = 0.\n",
        "- we call binary classification activations \"logits\" because we eventually turn them into probabilities using sigmoid.\n",
        "- the softmax function is the general template for all classification problems. For the special case of exactly two classes, this general formula mathematically simplifies to be identical to the sigmoid of the difference between the logits.\n",
        "- For 3+ classes, the model's final activations are still called logits. However, they no longer have a simple interpretation as the log-odds of a single event. We think of them as some kind of learned \"raw\" or \"uncalibrated\" scores that softmax converts into a valid probability distribution."
      ]
    },
    {
      "cell_type": "markdown",
      "metadata": {
        "id": "Ti_qTBo9XWVt"
      },
      "source": [
        "Let's return back to the process of building up Cross Entropy loss."
      ]
    },
    {
      "cell_type": "markdown",
      "metadata": {
        "id": "lClWl70PXadN"
      },
      "source": [
        "### Selecting the Probabilities Used and Calculating their Logarithm"
      ]
    },
    {
      "cell_type": "markdown",
      "metadata": {
        "id": "gYPC4oedXiMM"
      },
      "source": [
        "So we have now converted logits into probabilities using softmax."
      ]
    },
    {
      "cell_type": "markdown",
      "metadata": {
        "id": "jrDrhUdwUrsE"
      },
      "source": [
        " >Our activations, after softmax, are between 0 and 1, and sum to 1 for each row in the batch of predictions."
      ]
    },
    {
      "cell_type": "code",
      "execution_count": null,
      "metadata": {
        "colab": {
          "base_uri": "https://localhost:8080/"
        },
        "id": "ht6o4wwhC6PA",
        "outputId": "659a6f60-3fd6-4033-b6ea-1cd5f18815fe"
      },
      "outputs": [
        {
          "data": {
            "text/plain": [
              "tensor([[0.6025, 0.3975],\n",
              "        [0.5021, 0.4979],\n",
              "        [0.1332, 0.8668],\n",
              "        [0.9966, 0.0034],\n",
              "        [0.5959, 0.4041],\n",
              "        [0.3661, 0.6339]])"
            ]
          },
          "execution_count": 26,
          "metadata": {},
          "output_type": "execute_result"
        }
      ],
      "source": [
        "sm_acts = torch.softmax(acts, dim=1)\n",
        "sm_acts"
      ]
    },
    {
      "cell_type": "markdown",
      "metadata": {
        "id": "dPpGGp3GXlz8"
      },
      "source": [
        "Okay great, now how do we use these values? We want to penalize the language model's predictions when they wrong (the target label is not predicted with the highest probability) and especially when they are wrong _and_ confident (the target label is predicted with a very low probability). On the other hand, we want to encourage the model to pick the right class confidently. We achieve this two-pronged behavior by taking the logarithm of the target probability."
      ]
    },
    {
      "cell_type": "markdown",
      "metadata": {
        "id": "Ez7cTyGFZDAm"
      },
      "source": [
        "Suppose the target classes (`0` or `1`) are as follows for the 6-item batch:"
      ]
    },
    {
      "cell_type": "code",
      "execution_count": null,
      "metadata": {
        "colab": {
          "base_uri": "https://localhost:8080/"
        },
        "id": "bCU-XMFwTML9",
        "outputId": "98ead48f-4666-473d-8ea2-23834f5efd43"
      },
      "outputs": [
        {
          "data": {
            "text/plain": [
              "tensor([0, 1, 0, 1, 1, 0])"
            ]
          },
          "execution_count": 27,
          "metadata": {},
          "output_type": "execute_result"
        }
      ],
      "source": [
        "targ = tensor([0,1,0,1,1,0])\n",
        "targ"
      ]
    },
    {
      "cell_type": "code",
      "execution_count": null,
      "metadata": {
        "colab": {
          "base_uri": "https://localhost:8080/"
        },
        "id": "X6XSWtQbVsDi",
        "outputId": "df800045-6655-4507-da0a-5af91422af66"
      },
      "outputs": [
        {
          "data": {
            "text/plain": [
              "tensor([[0.6025, 0.3975],\n",
              "        [0.5021, 0.4979],\n",
              "        [0.1332, 0.8668],\n",
              "        [0.9966, 0.0034],\n",
              "        [0.5959, 0.4041],\n",
              "        [0.3661, 0.6339]])"
            ]
          },
          "execution_count": 28,
          "metadata": {},
          "output_type": "execute_result"
        }
      ],
      "source": [
        "sm_acts"
      ]
    },
    {
      "cell_type": "markdown",
      "metadata": {
        "id": "npHvNFeCZcJY"
      },
      "source": [
        "We index into our probalities using `idx` (the batch item index) and `targ` (the probability column index)."
      ]
    },
    {
      "cell_type": "code",
      "execution_count": null,
      "metadata": {
        "colab": {
          "base_uri": "https://localhost:8080/"
        },
        "id": "Uxa3pP4qVtkh",
        "outputId": "aa0d1726-a44c-48eb-ce80-827a2242df46"
      },
      "outputs": [
        {
          "data": {
            "text/plain": [
              "tensor([0.6025, 0.4979, 0.1332, 0.0034, 0.4041, 0.3661])"
            ]
          },
          "execution_count": 29,
          "metadata": {},
          "output_type": "execute_result"
        }
      ],
      "source": [
        "idx = range(6)\n",
        "sm_acts[idx, targ]"
      ]
    },
    {
      "cell_type": "code",
      "execution_count": null,
      "metadata": {
        "colab": {
          "base_uri": "https://localhost:8080/",
          "height": 388
        },
        "id": "kUnNDH5qWROy",
        "outputId": "3560d3c2-3e53-47d3-c2fe-7bc007c5928e"
      },
      "outputs": [
        {
          "data": {
            "image/png": "[encoded data removed]",
            "text/plain": [
              "<Figure size 600x400 with 1 Axes>"
            ]
          },
          "metadata": {},
          "output_type": "display_data"
        }
      ],
      "source": [
        "plot_function(torch.log, min=0,max=1, ty='log(x)', tx='x')"
      ]
    },
    {
      "cell_type": "markdown",
      "metadata": {
        "id": "ckCeN7xkZlzU"
      },
      "source": [
        "The log function is very negative for values close to 0 and less negative for values close to 1. We want our loss function to be very positively large for confidently wrong predictions (i.e. when the target class is predicted with a very low probability) so we want to flip the logarithm's behavior by multiplying it by -1."
      ]
    },
    {
      "cell_type": "code",
      "execution_count": null,
      "metadata": {
        "colab": {
          "base_uri": "https://localhost:8080/",
          "height": 410
        },
        "id": "WcB-IXPQWjBI",
        "outputId": "147b1069-226c-4741-e950-8d8808fe8e30"
      },
      "outputs": [
        {
          "data": {
            "image/png": "[encoded data removed]",
            "text/plain": [
              "<Figure size 600x400 with 1 Axes>"
            ]
          },
          "metadata": {},
          "output_type": "display_data"
        }
      ],
      "source": [
        "plot_function(lambda x: -1*torch.log(x), min=0,max=1, tx='x', ty='- log(x)', title = 'Log Loss when true label = 1')"
      ]
    },
    {
      "cell_type": "code",
      "execution_count": null,
      "metadata": {
        "colab": {
          "base_uri": "https://localhost:8080/"
        },
        "id": "sWP6oxlNabBh",
        "outputId": "30e9ccac-b0ff-4e76-e05f-2722c489847f"
      },
      "outputs": [
        {
          "data": {
            "text/plain": [
              "tensor([0.6025, 0.4979, 0.1332, 0.0034, 0.4041, 0.3661])"
            ]
          },
          "execution_count": 32,
          "metadata": {},
          "output_type": "execute_result"
        }
      ],
      "source": [
        "sm_acts[idx, targ]"
      ]
    },
    {
      "cell_type": "code",
      "execution_count": null,
      "metadata": {
        "colab": {
          "base_uri": "https://localhost:8080/"
        },
        "id": "kG0tvV_xV5rL",
        "outputId": "d72434ec-eca4-48a6-97db-b2cdf9062e9e"
      },
      "outputs": [
        {
          "data": {
            "text/plain": [
              "tensor([0.5067, 0.6973, 2.0160, 5.6958, 0.9062, 1.0048])"
            ]
          },
          "execution_count": 33,
          "metadata": {},
          "output_type": "execute_result"
        }
      ],
      "source": [
        "-torch.log(sm_acts)[idx, targ]"
      ]
    },
    {
      "cell_type": "markdown",
      "metadata": {
        "id": "jrq8B2PVaeOf"
      },
      "source": [
        "We now have large loss values (2.016, 5.6958) for batch items when the model predicted the target class with a very low probability (0.1332, 0.0034), and we have a relatively smaller loss value (0.5067) when the model predicted the target class with a higher probability than the incorrect class (0.6025).  "
      ]
    },
    {
      "cell_type": "markdown",
      "metadata": {
        "id": "4O3OqV1Ca4gD"
      },
      "source": [
        "The PyTorch `F.nll_loss` function does the indexing and multiplying by negative 1 operations for us, though it expects you to pass it activations after taking the logarithm of them."
      ]
    },
    {
      "cell_type": "code",
      "execution_count": null,
      "metadata": {
        "colab": {
          "base_uri": "https://localhost:8080/"
        },
        "id": "i5q_0UhhWPa6",
        "outputId": "f01c7be6-2b16-48c4-c93e-545c184964ca"
      },
      "outputs": [
        {
          "data": {
            "text/plain": [
              "tensor([-0.6025, -0.4979, -0.1332, -0.0034, -0.4041, -0.3661])"
            ]
          },
          "execution_count": 34,
          "metadata": {},
          "output_type": "execute_result"
        }
      ],
      "source": [
        "F.nll_loss(sm_acts, targ, reduction='none')"
      ]
    },
    {
      "cell_type": "code",
      "execution_count": null,
      "metadata": {
        "colab": {
          "base_uri": "https://localhost:8080/"
        },
        "id": "BUluNe_lbD42",
        "outputId": "350aacb0-cae9-4606-9f55-849b99d6a93e"
      },
      "outputs": [
        {
          "data": {
            "text/plain": [
              "tensor([0.5067, 0.6973, 2.0160, 5.6958, 0.9062, 1.0048])"
            ]
          },
          "execution_count": 35,
          "metadata": {},
          "output_type": "execute_result"
        }
      ],
      "source": [
        "F.nll_loss(torch.log(sm_acts), targ, reduction='none')"
      ]
    },
    {
      "cell_type": "markdown",
      "metadata": {
        "id": "Z_Kr7YIIXQE5"
      },
      "source": [
        "> As long as the activation columns sum to 1 (as they will, if we use softmax), then we'll have a loss function that shows how well we're predicting each digit. Therefore, making the activation for the correct label as high as possible must mean we're also decreasing the activations of the remaining columns."
      ]
    },
    {
      "cell_type": "markdown",
      "metadata": {
        "id": "EqBnikUwbPqn"
      },
      "source": [
        "We can also directly use `CrossEntropyLoss`"
      ]
    },
    {
      "cell_type": "code",
      "execution_count": null,
      "metadata": {
        "colab": {
          "base_uri": "https://localhost:8080/"
        },
        "id": "BXHjq0oGXHzK",
        "outputId": "103a97e6-a0a6-4ec7-add9-1b887a9226ee"
      },
      "outputs": [
        {
          "data": {
            "text/plain": [
              "tensor([0.5067, 0.6973, 2.0160, 5.6958, 0.9062, 1.0048])"
            ]
          },
          "execution_count": 36,
          "metadata": {},
          "output_type": "execute_result"
        }
      ],
      "source": [
        "nn.CrossEntropyLoss(reduction='none')(acts, targ)"
      ]
    },
    {
      "cell_type": "code",
      "execution_count": null,
      "metadata": {
        "colab": {
          "base_uri": "https://localhost:8080/"
        },
        "id": "UOuDo5tDnJ8Q",
        "outputId": "fcf7d116-8fdd-49bd-8f43-9ffefa19e5d5"
      },
      "outputs": [
        {
          "data": {
            "text/plain": [
              "tensor(1.8045)"
            ]
          },
          "execution_count": 37,
          "metadata": {},
          "output_type": "execute_result"
        }
      ],
      "source": [
        "nn.CrossEntropyLoss(reduction='mean')(acts, targ)"
      ]
    },
    {
      "cell_type": "markdown",
      "metadata": {
        "id": "0H9lc2QxXvAt"
      },
      "source": [
        "> Taking the mean of the negative log of our probabilities (taking the mean of the loss column of our table) gives us the negative log likelihood loss, which is another name for cross-entropy loss."
      ]
    },
    {
      "cell_type": "markdown",
      "metadata": {
        "id": "Gz-k4olYbzeg"
      },
      "source": [
        "## The Gradient of Cross Entropy Loss"
      ]
    },
    {
      "cell_type": "markdown",
      "metadata": {
        "id": "F8It7Ydoe_-v"
      },
      "source": [
        "Let's recreate with code the following explanation of the cross-entropy loss gradient."
      ]
    },
    {
      "cell_type": "markdown",
      "metadata": {
        "id": "4ZhSyVTqYuuz"
      },
      "source": [
        "> An interesting feature about cross-entropy loss appears when we consider its gradient. The gradient of cross_entropy(a,b) is just softmax(a)-b. Since softmax(a) is just the final activation of the model, that means that the gradient is proportional to the difference between the prediction and the target. This is the same as mean squared error in regression (assuming there's no final activation function such as that added by y_range), since the gradient of (a-b)\\*\\*2 is 2*(a-b). Because the gradient is linear, that means we won't see sudden jumps or exponential increases in gradients, which should lead to smoother training of models."
      ]
    },
    {
      "cell_type": "markdown",
      "metadata": {
        "id": "GpU-kXmvfVU6"
      },
      "source": [
        "First we'll calculate the gradients using `los.backward()`."
      ]
    },
    {
      "cell_type": "code",
      "execution_count": null,
      "metadata": {
        "colab": {
          "base_uri": "https://localhost:8080/"
        },
        "id": "yGPmZpJhY3qa",
        "outputId": "96b8a5fa-789d-4286-e6b1-cc3a55137dc7"
      },
      "outputs": [
        {
          "data": {
            "text/plain": [
              "tensor([[ 0.6734,  0.2576],\n",
              "        [ 0.4689,  0.4607],\n",
              "        [-2.2457, -0.3727],\n",
              "        [ 4.4164, -1.2760],\n",
              "        [ 0.9233,  0.5347],\n",
              "        [ 1.0698,  1.6187]], requires_grad=True)"
            ]
          },
          "execution_count": 38,
          "metadata": {},
          "output_type": "execute_result"
        }
      ],
      "source": [
        "acts = acts.requires_grad_()\n",
        "acts"
      ]
    },
    {
      "cell_type": "code",
      "execution_count": null,
      "metadata": {
        "colab": {
          "base_uri": "https://localhost:8080/"
        },
        "id": "W2mehCV3YSql",
        "outputId": "bbdbb429-a3c1-4688-bb9c-3760d869c144"
      },
      "outputs": [
        {
          "data": {
            "text/plain": [
              "tensor(10.8268, grad_fn=<NllLossBackward0>)"
            ]
          },
          "execution_count": 39,
          "metadata": {},
          "output_type": "execute_result"
        }
      ],
      "source": [
        "loss = nn.CrossEntropyLoss(reduction='sum')(acts, targ)\n",
        "loss"
      ]
    },
    {
      "cell_type": "code",
      "execution_count": null,
      "metadata": {
        "id": "0V8opoLMY1Uh"
      },
      "outputs": [],
      "source": [
        "loss.backward()"
      ]
    },
    {
      "cell_type": "code",
      "execution_count": null,
      "metadata": {
        "colab": {
          "base_uri": "https://localhost:8080/"
        },
        "id": "8uEcPTTXY2Xv",
        "outputId": "411b5c8e-1118-4f02-c551-07a2ed885d7e"
      },
      "outputs": [
        {
          "data": {
            "text/plain": [
              "tensor([[-0.3975,  0.3975],\n",
              "        [ 0.5021, -0.5021],\n",
              "        [-0.8668,  0.8668],\n",
              "        [ 0.9966, -0.9966],\n",
              "        [ 0.5959, -0.5959],\n",
              "        [-0.6339,  0.6339]])"
            ]
          },
          "execution_count": 41,
          "metadata": {},
          "output_type": "execute_result"
        }
      ],
      "source": [
        "acts.grad"
      ]
    },
    {
      "cell_type": "markdown",
      "metadata": {
        "id": "CZHiNl3Ufana"
      },
      "source": [
        "Then, we'll manually calculate them using `softmax(acts) - targ`:"
      ]
    },
    {
      "cell_type": "code",
      "execution_count": null,
      "metadata": {
        "colab": {
          "base_uri": "https://localhost:8080/"
        },
        "id": "Wf1gqpTcZjj-",
        "outputId": "66f4ee79-5af1-45e0-8e3f-b39d48487049"
      },
      "outputs": [
        {
          "data": {
            "text/plain": [
              "tensor([[1., 0.],\n",
              "        [0., 1.],\n",
              "        [1., 0.],\n",
              "        [0., 1.],\n",
              "        [0., 1.],\n",
              "        [1., 0.]])"
            ]
          },
          "execution_count": 42,
          "metadata": {},
          "output_type": "execute_result"
        }
      ],
      "source": [
        "b = F.one_hot(targ, num_classes=acts.shape[1]).float()\n",
        "b"
      ]
    },
    {
      "cell_type": "code",
      "execution_count": null,
      "metadata": {
        "colab": {
          "base_uri": "https://localhost:8080/"
        },
        "id": "9ngOzNXxZIzl",
        "outputId": "e656eb87-1b8c-484b-c904-44378d247480"
      },
      "outputs": [
        {
          "data": {
            "text/plain": [
              "tensor([[-0.3975,  0.3975],\n",
              "        [ 0.5021, -0.5021],\n",
              "        [-0.8668,  0.8668],\n",
              "        [ 0.9966, -0.9966],\n",
              "        [ 0.5959, -0.5959],\n",
              "        [-0.6339,  0.6339]], grad_fn=<SubBackward0>)"
            ]
          },
          "execution_count": 43,
          "metadata": {},
          "output_type": "execute_result"
        }
      ],
      "source": [
        "acts.softmax(dim=1) - b"
      ]
    },
    {
      "cell_type": "markdown",
      "metadata": {
        "id": "GtUt0_Vbfj5d"
      },
      "source": [
        "We see that they are equal! If we want to recreate the gradient when `reduction='mean'` we can divide `softmax(a) - b` by the batch size."
      ]
    },
    {
      "cell_type": "code",
      "execution_count": null,
      "metadata": {
        "id": "nqC0bYseZtF3"
      },
      "outputs": [],
      "source": [
        "torch.random.manual_seed(42)\n",
        "acts = torch.randn((6,2))*2\n",
        "acts = acts.requires_grad_()"
      ]
    },
    {
      "cell_type": "code",
      "execution_count": null,
      "metadata": {
        "colab": {
          "base_uri": "https://localhost:8080/"
        },
        "id": "_QMgFVMTbLTG",
        "outputId": "71064327-04a8-4b21-b19c-2ea8391b406e"
      },
      "outputs": [
        {
          "data": {
            "text/plain": [
              "tensor(1.8045, grad_fn=<NllLossBackward0>)"
            ]
          },
          "execution_count": 45,
          "metadata": {},
          "output_type": "execute_result"
        }
      ],
      "source": [
        "loss = nn.CrossEntropyLoss(reduction='mean')(acts, targ)\n",
        "loss"
      ]
    },
    {
      "cell_type": "code",
      "execution_count": null,
      "metadata": {
        "id": "_eE8cOhofuQp"
      },
      "outputs": [],
      "source": [
        "loss.backward()"
      ]
    },
    {
      "cell_type": "code",
      "execution_count": null,
      "metadata": {
        "colab": {
          "base_uri": "https://localhost:8080/"
        },
        "id": "s_lReRFWfvu6",
        "outputId": "f6b0b28e-6aeb-4217-fbd1-c13f338d78c2"
      },
      "outputs": [
        {
          "data": {
            "text/plain": [
              "tensor([[-0.0663,  0.0663],\n",
              "        [ 0.0837, -0.0837],\n",
              "        [-0.1445,  0.1445],\n",
              "        [ 0.1661, -0.1661],\n",
              "        [ 0.0993, -0.0993],\n",
              "        [-0.1056,  0.1056]])"
            ]
          },
          "execution_count": 47,
          "metadata": {},
          "output_type": "execute_result"
        }
      ],
      "source": [
        "acts.grad"
      ]
    },
    {
      "cell_type": "code",
      "execution_count": null,
      "metadata": {
        "colab": {
          "base_uri": "https://localhost:8080/"
        },
        "id": "gaUA_iUmf065",
        "outputId": "1ec7f93f-2050-4bd2-fc8f-6acfe5b0ff6f"
      },
      "outputs": [
        {
          "data": {
            "text/plain": [
              "tensor([[-0.0663,  0.0663],\n",
              "        [ 0.0837, -0.0837],\n",
              "        [-0.1445,  0.1445],\n",
              "        [ 0.1661, -0.1661],\n",
              "        [ 0.0993, -0.0993],\n",
              "        [-0.1056,  0.1056]], grad_fn=<DivBackward0>)"
            ]
          },
          "execution_count": 48,
          "metadata": {},
          "output_type": "execute_result"
        }
      ],
      "source": [
        "(acts.softmax(dim=1) - b) / acts.shape[0]"
      ]
    },
    {
      "cell_type": "markdown",
      "metadata": {
        "id": "PBHgxxm_gO-5"
      },
      "source": [
        "## Closing Thoughts"
      ]
    },
    {
      "cell_type": "markdown",
      "metadata": {
        "id": "Jvu-Mk57gP96"
      },
      "source": [
        "Next-token language generation is fundamentally a classification problem. The \"classes\" are the tokens in the vocabulary. The model predicts the most probable next token, learning to favor target tokens during training using cross-entropy. This refresher on cross-entropy loss helped me solidify my understanding of how this behavior is reinforced.\n",
        "\n",
        "I'm growing my YouTube channel so if you like this type of content [please subscribe](https://www.youtube.com/@vishal_learner)!"
      ]
    }
  ],
  "metadata": {
    "accelerator": "GPU",
    "colab": {
      "gpuType": "T4",
      "provenance": [],
      "toc_visible": true
    },
    "kernelspec": {
      "display_name": "Python 3",
      "name": "python3"
    },
    "language_info": {
      "name": "python"
    }
  },
  "nbformat": 4,
  "nbformat_minor": 0
}

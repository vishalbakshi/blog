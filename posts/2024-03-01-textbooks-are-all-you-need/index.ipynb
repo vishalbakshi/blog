{
 "cells": [
  {
   "cell_type": "raw",
   "metadata": {
    "vscode": {
     "languageId": "raw"
    }
   },
   "source": [
    "---\n",
    "title: 'Paper Summary&#58; Textbooks are All You Need I & II'\n",
    "date: \"2024-02-19\"\n",
    "author: Vishal Bakshi\n",
    "description: A summary of research on the phi-1, phi-1.5 and phi-2 from the Textbook Are All You Need I and II series of publications by Microsoft Research.\n",
    "filters:\n",
    "   - lightbox\n",
    "lightbox: auto\n",
    "categories:\n",
    "    - paper summary\n",
    "    - deep learning\n",
    "    - LLM\n",
    "---"
   ]
  },
  {
   "cell_type": "markdown",
   "metadata": {},
   "source": [
    "## Background"
   ]
  },
  {
   "cell_type": "markdown",
   "metadata": {},
   "source": [
    "In this notebook I'll provide a summary of Microsoft Research's [Textbook Are All You Need](https://arxiv.org/pdf/2306.11644.pdf) paper. Here's the abstract:\n",
    "\n",
    "> We introduce phi-1, a new large language model for code, with significantly smaller size than competing models: phi-1 is a Transformer-based model with 1.3B parameters, trained for 4 days on 8 A100s, using a selection of “textbook quality” data from the web (6B tokens) and synthetically generated textbooks and exercises with GPT-3.5 (1B tokens). Despite this small scale, phi-1 attains pass@1 accuracy 50.6% on HumanEval and 55.5% on MBPP. It also displays surprising emergent properties compared to phi-1-base, our model before our finetuning stage on a dataset of coding exercises, and phi-1-small, a smaller model with 350M parameters trained with the same pipeline as phi-1 that still achieves 45% on HumanEval."
   ]
  },
  {
   "cell_type": "markdown",
   "metadata": {},
   "source": [
    "I'll also review the information published in [Textbooks Are All You Need II](https://arxiv.org/pdf/2309.05463.pdf) a technical report in which they introduce phi-1.5 models trained on additional data."
   ]
  },
  {
   "cell_type": "markdown",
   "metadata": {},
   "source": [
    "## Main Takeaways"
   ]
  },
  {
   "cell_type": "markdown",
   "metadata": {},
   "source": [
    "- Model improvement is obtained with **data quality** (instead of model size, dataset size and amount of compute).\n",
    "- High quality data means data that is **diverse** (wide range of concepts, skills, and scenarios; varying difficulty, complexity and style) and **non-repetitive**.\n",
    "- Finetuning on 180M tokens led to the largest accuracy increase including for tasks that are **not** featured in the finetuning dataset.\n",
    "- 1.3B parameter models outperform larger models trained on larger datasets.\n",
    "- 350M parameter model performs decently well.\n",
    "- Training on **textbook-like data** might mean model stores/accesses knowledge more efficiently than if trained on web data."
   ]
  },
  {
   "cell_type": "markdown",
   "metadata": {},
   "source": [
    "## Data"
   ]
  },
  {
   "cell_type": "markdown",
   "metadata": {},
   "source": [
    "### phi-1"
   ]
  },
  {
   "cell_type": "markdown",
   "metadata": {},
   "source": [
    "phi-1 uses two different datasets, one for pretraining and one for finetuning:\n",
    "\n",
    "- CodeTextbook (pretraining)\n",
    "    - The Stack+ (6B tokens): subset of The Stack and StackOverflow, filtered using a LM-based classifier\n",
    "    - GPT-3.5 generated Python textbooks (<1B tokens)\n",
    "- CodeExercises (finetuning)\n",
    "    - GPT-3.5 generated Python exercises and solutions (~180M tokens; function completion tasks based on natural language instructions)"
   ]
  },
  {
   "cell_type": "markdown",
   "metadata": {},
   "source": [
    "### phi-1.5"
   ]
  },
  {
   "cell_type": "markdown",
   "metadata": {},
   "source": [
    "- CodeTextbook (7B tokens)\n",
    "- 20B tokens of synthetically generated textbook-like data"
   ]
  },
  {
   "cell_type": "markdown",
   "metadata": {},
   "source": [
    "A couple of quotes from the paper about data:\n",
    "\n",
    "> ...our dataset consists almost exclusively of synthetically generated data\n",
    "\n",
    ">...a robust and comprehensive dataset demands more than raw computational power: it requires intricate iterations, strategic topic selection, and a deep understanding of knowledge gaps to ensure quality and diversity of the data."
   ]
  },
  {
   "cell_type": "markdown",
   "metadata": {},
   "source": [
    "### phi-1.5-web, phi-1.5-web-only"
   ]
  },
  {
   "cell_type": "markdown",
   "metadata": {},
   "source": [
    "- 95B tokens of filtered web data\n",
    "    - 88B from the Falcon refined web dataset.\n",
    "    - 7B from The Stack and Stack Overflow.\n",
    "- phi-1.5-web-only trained only on filtered web data\n",
    "    - 80% NLP data sources.\n",
    "    - 20% code datasets.\n",
    "- phi-1.5-web trained on a mix of filtered data\n",
    "    - 40%: a subset of filtered web data.\n",
    "    - 20%: phi-1's code data.\n",
    "    - 40%: new synthetic NLP data."
   ]
  },
  {
   "cell_type": "markdown",
   "metadata": {},
   "source": [
    "> We speculate that the creation of synthetic datasets will become, in the near future, an important technical skill and a central topic of research in AI."
   ]
  },
  {
   "cell_type": "markdown",
   "metadata": {},
   "source": [
    "## Architecture"
   ]
  },
  {
   "cell_type": "markdown",
   "metadata": {},
   "source": [
    "|Decoder-only Transformer (FlashAttention/MLP in parallel)|phi-1/phi-1.5|phi-1-small|\n",
    "|:-:|:-:|:-:|\n",
    "|Parameters|1.3B|350M|\n",
    "|Layers|24|20|\n",
    "|Hidden dimension|2048|1024|\n",
    "|MLP inner dimension|8192|4096|\n",
    "|Attention head count|32|16|\n",
    "|Attention head dimension|64|64"
   ]
  },
  {
   "cell_type": "markdown",
   "metadata": {},
   "source": [
    "## Training"
   ]
  },
  {
   "cell_type": "markdown",
   "metadata": {},
   "source": [
    "### phi-1"
   ]
  },
  {
   "cell_type": "markdown",
   "metadata": {},
   "source": [
    "||Pre-training (phi-1-base)|Fine-tuning (phi-1)|\n",
    "|:-:|:-:|:-:|\n",
    "|Time|<4 days|7 hours|\n",
    "|Batch size|1024|256|\n",
    "|Max learning rate|1e-3|1e-4|\n",
    "|Warmup|750 steps|50 steps|\n",
    "|Weight Decay|0.1|0.01|\n",
    "|Checkpoint|24k steps/8 epochs/50B tokens|Undisclosed|\n",
    "|Total steps|36000|6000|"
   ]
  },
  {
   "cell_type": "markdown",
   "metadata": {},
   "source": [
    "> Both phi-1.5 and phi-1.5-web are base models pre-trained on large natural language corpora. In particular **we did not perform further instruction-based finetuning to align them with human instructions** (emphasis mine)."
   ]
  },
  {
   "cell_type": "markdown",
   "metadata": {},
   "source": [
    "I was really hoping for more details about their 350M model experiments (I love it when small models perform decently) but they only provided the following:\n",
    "\n",
    "> ...phi-1-small, a smaller model with 350M parameters trained with the same pipeline as phi-1"
   ]
  },
  {
   "cell_type": "markdown",
   "metadata": {},
   "source": [
    "### phi-1.5"
   ]
  },
  {
   "cell_type": "markdown",
   "metadata": {},
   "source": [
    "- Pretraining\n",
    "    - Batch size: 2048\n",
    "    - Constant learning rate: 2e-4\n",
    "    - Weight decay: 0.1\n",
    "    - Training tokens: 50B (80% new synthetic data, 20% phi-1 data)"
   ]
  },
  {
   "cell_type": "markdown",
   "metadata": {},
   "source": [
    "## Limitations"
   ]
  },
  {
   "cell_type": "markdown",
   "metadata": {},
   "source": [
    "### phi-1"
   ]
  },
  {
   "cell_type": "markdown",
   "metadata": {},
   "source": [
    "- This model is python-specific so it won't be as performant for other programming languages.\n",
    "- Lacks domain-specific knowledge (APIs, less common packages).\n",
    "- Less robust to grammar/style variations (small changes in natural language instructions can affect performance).\n",
    "- Unclear what type of scale in model or dataset size will overcome these limitations.\n",
    "- GPT-4 should be used to generate synthetic data."
   ]
  },
  {
   "cell_type": "markdown",
   "metadata": {},
   "source": [
    "### phi-1.5"
   ]
  },
  {
   "cell_type": "markdown",
   "metadata": {},
   "source": [
    "- Not immune to generating toxic content.\n",
    "- Makes some intricate mistakes when explaining code."
   ]
  },
  {
   "cell_type": "markdown",
   "metadata": {},
   "source": [
    "## Benchmarks"
   ]
  },
  {
   "cell_type": "markdown",
   "metadata": {},
   "source": [
    "### phi-1"
   ]
  },
  {
   "cell_type": "markdown",
   "metadata": {},
   "source": [
    "- HumanEval\n",
    "    - A dataset of 164 hand-written coding problems.\n",
    "    - Each problem includes a function signature, docstring, body and several unit tests (7.7 avg tests per problem)\n",
    "- MBPP\n",
    "    - 1000 crowd-sources Python programming problems.\n",
    "    - Designed for entry-level programmers.\n",
    "    - Each problem has a task description, code solution and 3 automated test cases.\n",
    "- $pass@k$ metric\n",
    "    - $k$ generated code samples per problem.\n",
    "    - problem is \"solved\" if any sample passes the unit tests."
   ]
  },
  {
   "cell_type": "markdown",
   "metadata": {},
   "source": [
    "![Figure 2.1: Pass@1 accuracy on Human Eval for models and training datasets of various sizes.](fig-2-1.png)"
   ]
  },
  {
   "cell_type": "markdown",
   "metadata": {},
   "source": [
    "In the figure above (Figure 2.1 in the paper) note the strong performance of the 350M parameter model trained on 26B tokens for 135 GPU hours. I would love to know more about that checkpoint."
   ]
  },
  {
   "cell_type": "markdown",
   "metadata": {},
   "source": [
    "![Table 2: HumanEval and 50 unconventional coding problem scores.](Table2.png)"
   ]
  },
  {
   "cell_type": "markdown",
   "metadata": {},
   "source": [
    "In the table above (Table 2 from the paper) the \"Score\" column is graded by GPT-4 on a scale of 0 to 10 while the HumanEval column is calculated with pass@1 accuracy."
   ]
  },
  {
   "cell_type": "markdown",
   "metadata": {},
   "source": [
    "![Table 1: HumanEval and MBPP Pass@1 accuracy for various model and dataset sizes](table1.png)"
   ]
  },
  {
   "cell_type": "markdown",
   "metadata": {},
   "source": [
    "I found Table 1 in the paper to be the most impressive framing of phi-1's performance. It beats models that are hundreds of times larger (such as PaLM-Coder) trained on datasets thousands of times as large (such as StarCoder). As a reminder, MBPP consists of 1000 crowdsourced entry-level programming questions."
   ]
  },
  {
   "cell_type": "markdown",
   "metadata": {},
   "source": [
    "## Data Decontamination"
   ]
  },
  {
   "cell_type": "markdown",
   "metadata": {},
   "source": [
    "A standard contamination study will look for n-gram overlaps between the training and test sets to understand how \"contaminated\" the training set is with information from the test set. They only found four such cases in the paper, including one where the n-gram was the same but for a different context. \n",
    "\n",
    "The authors used a \"strong form\" of data decontamination: embedding and syntax-based similarity Embedding similarity determines semantic similarity, while AST-based similarity determines how similar the underlying operations of the code are between two dataset items. After removing contaminated dataset items, the authors trained phi-1 on this \"pruned dataset\" and it performed better than StarCoder-Prompted (15.5B) for all AST-based match rate thresholds and similarity categories (similar, non-similar, total) except for one (see table 3 below)."
   ]
  },
  {
   "cell_type": "markdown",
   "metadata": {},
   "source": [
    "![Table 3 showing results of phi-1 (better performing overall) and StarCoder-Prompted on different training datasets with varying amounts of similar test data removed](table3.png)"
   ]
  },
  {
   "cell_type": "markdown",
   "metadata": {},
   "source": [
    "### phi-1.5"
   ]
  },
  {
   "cell_type": "markdown",
   "metadata": {},
   "source": [
    "- The authors used LM-Eval Harness on 5 common sense benchmarks\n",
    "- 5 standard language understanding tasks\n",
    "    - Zero-shot accuracy LM-Eval Harness on PIQA, HellaSwag, and OpenbookQA.\n",
    "    - 2-shot accuracy on MMLU.\n",
    "    - Exact match score on SQUAD.\n",
    "- 3 reasoning ability benchmarks\n",
    "    - Zero-shot pass@1 accuracy on GSM8K for math and HumanEval/MBPP for entry-level Python coding.\n",
    "- 1 benchmark for toxicity (ToxiGen)\n",
    "    - 86 prompts, 34 evaluated as \"fail\" (bad), 47 as \"pass\" (good) and 4 as \"did not understand\"."
   ]
  },
  {
   "cell_type": "markdown",
   "metadata": {},
   "source": [
    "Here are the results for phi-1.5 on these benchmarks, compared to other (larger) models:"
   ]
  },
  {
   "cell_type": "markdown",
   "metadata": {},
   "source": [
    "![Standard language understanding tasks](phi-1-5-benchmarks-1.png)"
   ]
  },
  {
   "cell_type": "markdown",
   "metadata": {},
   "source": [
    "![Standard language understanding tasks](phi-1-5-benchmarks-2.png)"
   ]
  },
  {
   "cell_type": "markdown",
   "metadata": {},
   "source": [
    "![Math and coding tasks](phi-1-5-benchmarks-3.png)"
   ]
  },
  {
   "cell_type": "markdown",
   "metadata": {},
   "source": [
    "![Toxicity benchmark](phi-1-5-benchmarks-4.png)"
   ]
  },
  {
   "cell_type": "markdown",
   "metadata": {},
   "source": [
    "As I noted in the screenshot from my slides---I was curious to see phi-1.5-web-only results for toxicity. I would assume it would score worse than the other models."
   ]
  },
  {
   "cell_type": "markdown",
   "metadata": {},
   "source": [
    "## Prompt and Response Examples"
   ]
  },
  {
   "cell_type": "markdown",
   "metadata": {},
   "source": [
    "I've highlighted a few examples from the paper that show how the phi models behave. First, a comparison between phi-1, phi-1-base and phi-1-small responses to the same prompt asking them to code a problem involving multiple mathematical relationships. phi-1 successfully provides the right answer. phi-1-base (pretrained only) returns relevant code names and values but with absolutely no structure for the operations involved. phi-1-small gets about 80% of the solution right, with a couple of errors within the correct structure of the solution."
   ]
  },
  {
   "cell_type": "markdown",
   "metadata": {},
   "source": [
    "![](ex1.png)"
   ]
  },
  {
   "cell_type": "markdown",
   "metadata": {},
   "source": [
    "In the response below, phi-1.5 is able to take into consideration unconventional information (raining in the middle of July) and incorporate it into its story-telling response."
   ]
  },
  {
   "cell_type": "markdown",
   "metadata": {},
   "source": [
    "![](ex2.png)"
   ]
  },
  {
   "cell_type": "markdown",
   "metadata": {},
   "source": [
    "In the example below, phi-1.5 corretly generates a respone that aligns with the prompt but then continue on to generate unwanted text in the format of Exercise/Answer. I wonder if it's following its textbook-like training data's format."
   ]
  },
  {
   "cell_type": "markdown",
   "metadata": {},
   "source": [
    "![](ex3.png)"
   ]
  },
  {
   "cell_type": "markdown",
   "metadata": {},
   "source": [
    "Lastly, I tried phi-1.5's code to check latency and found one error in its syntax (the use of `decode` instead of `encode`). Otherwise, the syntax matched the documentation example of Python's subprocess module."
   ]
  },
  {
   "cell_type": "markdown",
   "metadata": {},
   "source": [
    "![](ex4.png)"
   ]
  },
  {
   "cell_type": "markdown",
   "metadata": {},
   "source": [
    "## Further Research"
   ]
  },
  {
   "cell_type": "markdown",
   "metadata": {},
   "source": [
    "- The authors noted that developing high quality datasets is a central direction to improve NLP and related field. High quality data means data that is:\n",
    "    - balanced and representative for model use cases.\n",
    "    - diverse and non-repetitive (inject randomness and creativity into data generation process to achieve this).\n",
    "    - taking into consideration ethical/social implications, accountability, transparency, and biases (in both models and data)."
   ]
  },
  {
   "cell_type": "markdown",
   "metadata": {},
   "source": [
    "> The open-sourcing of phi-1.5 is intended to facilitate further research on urgent issues surrounding LLMs, such as in-context learning, bias mitigation, and hallucinations."
   ]
  },
  {
   "cell_type": "markdown",
   "metadata": {},
   "source": [
    "> Our work indicates the feasibility of achieving high-level capabilities in smaller LLMs, potentially paving the way for more efficient and environmentally sustainable AI systems."
   ]
  },
  {
   "cell_type": "markdown",
   "metadata": {},
   "source": [
    "> Future directions include expanding our synthetic dataset to cover a broader array of topics, and to fine-tune phi-1.5 for more specific tasks"
   ]
  },
  {
   "cell_type": "markdown",
   "metadata": {},
   "source": [
    "## phi-2"
   ]
  },
  {
   "cell_type": "markdown",
   "metadata": {},
   "source": [
    "Subsequent to this paper, [Microsoft released phi-2](https://www.microsoft.com/en-us/research/blog/phi-2-the-surprising-power-of-small-language-models/) a 2.7B parameter language model.\n",
    "\n",
    "> [Phi-2] demonstrates outstanding reasoning and language understanding capabilities, showcasing state-of-the-art performance among base language models with less than 13 billion parameters."
   ]
  },
  {
   "cell_type": "markdown",
   "metadata": {},
   "source": [
    "> Phi-2 is a Transformer-based model with a next-word prediction objective, trained on 1.4T tokens from multiple passes on a mixture of Synthetic and Web datasets for NLP and coding"
   ]
  },
  {
   "cell_type": "markdown",
   "metadata": {},
   "source": [
    "> The training for Phi-2 took 14 days on 96 A100 GPUs. Phi-2 is a base model that has not undergone alignment through reinforcement learning from human feedback (RLHF), nor has it been instruct fine-tuned."
   ]
  },
  {
   "cell_type": "markdown",
   "metadata": {},
   "source": [
    "From the [HuggingFace model page](https://huggingface.co/microsoft/phi-2):\n",
    "\n",
    "> [Phi-2] was trained using the same data sources as Phi-1.5, augmented with a new data source that consists of various NLP synthetic texts and filtered websites (for safety and educational value)."
   ]
  },
  {
   "cell_type": "markdown",
   "metadata": {},
   "source": [
    "Phi-2 performs better than Phi-1.5 across 14 different benchmarks:"
   ]
  },
  {
   "cell_type": "markdown",
   "metadata": {},
   "source": [
    "![](phi-2-1.png)"
   ]
  },
  {
   "cell_type": "markdown",
   "metadata": {},
   "source": [
    "Surprisingly (or perhaps not so surprisingly based on the fact that Phi-2 contains more internet data), Phi-2 performs worse than Phi-1.5 but better than Llama2-7B for toxicity:"
   ]
  },
  {
   "cell_type": "markdown",
   "metadata": {},
   "source": [
    "![](phi-2-2.png)"
   ]
  },
  {
   "cell_type": "markdown",
   "metadata": {},
   "source": [
    "Phi-2 performs better than Llama-2-7B/13B and Mistral on various benchmarks and is better than Llama-2-70B for coding:"
   ]
  },
  {
   "cell_type": "markdown",
   "metadata": {},
   "source": [
    "![](phi-2-3.png)"
   ]
  },
  {
   "cell_type": "markdown",
   "metadata": {},
   "source": [
    "## Final Thoughts"
   ]
  },
  {
   "cell_type": "markdown",
   "metadata": {},
   "source": [
    "I'm excited to continue using Phi-2 and look forward to finetuning it later this year. I have used it to classify sentiment for the [`financial_phrasebank`](https://huggingface.co/datasets/financial_phrasebank) dataset and have gotten comparable results to larger models (I'll post a blog post on that project once it's done). In general, I'm always excited to see \"smaller\" models perform well and I hope that thoughtful dataset curation can push the parameter size down even further, hopefully to the hundreds of millions (like the 350M phi-1-small) and still get decent results.\n",
    "\n",
    "I'll be posting more paper summaries in the coming weeks. I hope you enjoyed this blog post!"
   ]
  }
 ],
 "metadata": {
  "language_info": {
   "name": "python"
  }
 },
 "nbformat": 4,
 "nbformat_minor": 2
}

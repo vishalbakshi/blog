{
  "cells": [
    {
      "cell_type": "raw",
      "metadata": {
        "vscode": {
          "languageId": "raw"
        }
      },
      "source": [
        "---\n",
        "title: RAGatouille/ColBERT Indexing Deep Dive\n",
        "date: \"2025-03-12\"\n",
        "author: Vishal Bakshi\n",
        "description: In this technical deep dive, I recreate the entire RAG indexing pipeline by directly using the internal methods of RAGatouille and ColBERT libraries. I methodically build all indexing artifacts from scratch - from processing document collections and sampling embeddings to calculating centroids with k-means clustering and compressing document vectors with residual encoding. If you're curious about what actually happens when you call RAG.index(), this video breaks down the full process step by step.\n",
        "filters:\n",
        "   - lightbox\n",
        "lightbox: auto\n",
        "categories:\n",
        "    - python\n",
        "    - information retrieval\n",
        "    - machine learning\n",
        "    - deep learning\n",
        "    - RAGatouille\n",
        "    - ColBERT\n",
        "---"
      ]
    },
    {
      "cell_type": "markdown",
      "metadata": {
        "id": "R9lQoVeCOxVW"
      },
      "source": [
        "## Background"
      ]
    },
    {
      "cell_type": "markdown",
      "metadata": {
        "id": "a20YdDSSOzsP"
      },
      "source": [
        "In this blog post I dive deeply into the internals of the RAGatouille and ColBERT libraries to understand the intermediate steps taken when building an index for a collection of documents."
      ]
    },
    {
      "cell_type": "markdown",
      "metadata": {
        "id": "xDD1kIw3O-5R"
      },
      "source": [
        "- RAGatouille\n",
        "    - ragatouille/RAGPretrainedModel.py\n",
        "        - [`_process_corpus`](https://github.com/AnswerDotAI/RAGatouille/blob/2bd4d2ed01c847854be78704a012f9ab35d679b2/ragatouille/RAGPretrainedModel.py#L129)\n",
        "        - [`index`](https://github.com/AnswerDotAI/RAGatouille/blob/2bd4d2ed01c847854be78704a012f9ab35d679b2/ragatouille/RAGPretrainedModel.py#L171)\n",
        "    - ragatouille/models/colbert.py\n",
        "        - [`index`](https://github.com/AnswerDotAI/RAGatouille/blob/2bd4d2ed01c847854be78704a012f9ab35d679b2/ragatouille/models/colbert.py#L294)\n",
        "    - ragatouille/models/index.py\n",
        "        - [`ModelIndexFactory.construct`](https://github.com/AnswerDotAI/RAGatouille/blob/2bd4d2ed01c847854be78704a012f9ab35d679b2/ragatouille/models/index.py#L460)\n",
        "        - [`PLAIDModelIndex.construct`](https://github.com/AnswerDotAI/RAGatouille/blob/2bd4d2ed01c847854be78704a012f9ab35d679b2/ragatouille/models/index.py#L132)\n",
        "        - [`PLAIDModelIndex.build`](https://github.com/AnswerDotAI/RAGatouille/blob/2bd4d2ed01c847854be78704a012f9ab35d679b2/ragatouille/models/index.py#L156)\n",
        "        - [`indexer.index`](https://github.com/AnswerDotAI/RAGatouille/blob/2bd4d2ed01c847854be78704a012f9ab35d679b2/ragatouille/models/index.py#L212)\n",
        "- ColBERT\n",
        "    - colbert/indexer.py\n",
        "        - [`Launcher(encode)`](https://github.com/stanford-futuredata/ColBERT/blob/7067ef598b5011edaa1f4a731a2c269dbac864e4/colbert/indexer.py#L85)\n",
        "    - colbert/indexing/collection_indexer.py\n",
        "        - [`encode`](https://github.com/stanford-futuredata/ColBERT/blob/7067ef598b5011edaa1f4a731a2c269dbac864e4/colbert/indexing/collection_indexer.py#L31)\n",
        "        - [`Collection.cast`](https://github.com/stanford-futuredata/ColBERT/blob/7067ef598b5011edaa1f4a731a2c269dbac864e4/colbert/indexing/collection_indexer.py#L51)\n",
        "        - [`CollectionIndexer.run`](https://github.com/stanford-futuredata/ColBERT/blob/7067ef598b5011edaa1f4a731a2c269dbac864e4/colbert/indexing/collection_indexer.py#L61)\n",
        "            - [`CollectionIndexer.setup`](https://github.com/stanford-futuredata/ColBERT/blob/7067ef598b5011edaa1f4a731a2c269dbac864e4/colbert/indexing/collection_indexer.py#L80)\n",
        "                - [`CollectionIndexer._sample_pids`](https://github.com/stanford-futuredata/ColBERT/blob/7067ef598b5011edaa1f4a731a2c269dbac864e4/colbert/indexing/collection_indexer.py#L114)\n",
        "                - [`CollectionIndexer._sample_embeddings`](https://github.com/stanford-futuredata/ColBERT/blob/7067ef598b5011edaa1f4a731a2c269dbac864e4/colbert/indexing/collection_indexer.py#L133)\n",
        "                    - colbert/indexing/collection_encoder.py: [`CollectionEncoder.encode_passages`](https://github.com/stanford-futuredata/ColBERT/blob/7067ef598b5011edaa1f4a731a2c269dbac864e4/colbert/indexing/collection_encoder.py#L13)\n",
        "                    - [`Checkpoint.docFromText`](https://github.com/stanford-futuredata/ColBERT/blob/7067ef598b5011edaa1f4a731a2c269dbac864e4/colbert/modeling/checkpoint.py#L122)\n",
        "                        - [`ColBERT.doc`](https://github.com/stanford-futuredata/ColBERT/blob/7067ef598b5011edaa1f4a731a2c269dbac864e4/colbert/modeling/colbert.py#L95)\n",
        "                - [`CollectionIndexer._save_plan`](https://github.com/stanford-futuredata/ColBERT/blob/7067ef598b5011edaa1f4a731a2c269dbac864e4/colbert/indexing/collection_indexer.py#L210)\n",
        "            - [`CollectionIndexer.train`](https://github.com/stanford-futuredata/ColBERT/blob/7067ef598b5011edaa1f4a731a2c269dbac864e4/colbert/indexing/collection_indexer.py#L226)\n",
        "                - [`compute_faiss_kmeans`](https://github.com/stanford-futuredata/ColBERT/blob/7067ef598b5011edaa1f4a731a2c269dbac864e4/colbert/indexing/collection_indexer.py#L500)\n",
        "                - [`CollectionIndexer._compute_avg_residual`](https://github.com/stanford-futuredata/ColBERT/blob/7067ef598b5011edaa1f4a731a2c269dbac864e4/colbert/indexing/collection_indexer.py#L314)\n",
        "                    - [`ResidualCodec.compress_into_codes`](https://github.com/stanford-futuredata/ColBERT/blob/7067ef598b5011edaa1f4a731a2c269dbac864e4/colbert/indexing/codecs/residual.py#L204)\n",
        "                    - [`ResidualCodec.lookup_centroids`](https://github.com/stanford-futuredata/ColBERT/blob/7067ef598b5011edaa1f4a731a2c269dbac864e4/colbert/indexing/codecs/residual.py#L222)\n",
        "                - [`IndexSaver.save_codec`](https://github.com/stanford-futuredata/ColBERT/blob/7067ef598b5011edaa1f4a731a2c269dbac864e4/colbert/indexing/index_saver.py#L17)\n",
        "            - [`CollectionIndexer.index`](https://github.com/stanford-futuredata/ColBERT/blob/7067ef598b5011edaa1f4a731a2c269dbac864e4/colbert/indexing/collection_indexer.py#L346)\n",
        "                - colbert/indexing/collection_encoder.py: [`CollectionEncoder.encode_passages`](https://github.com/stanford-futuredata/ColBERT/blob/7067ef598b5011edaa1f4a731a2c269dbac864e4/colbert/indexing/collection_encoder.py#L13)\n",
        "                - [`IndexSaver.save_chunk`](https://github.com/stanford-futuredata/ColBERT/blob/7067ef598b5011edaa1f4a731a2c269dbac864e4/colbert/indexing/index_saver.py#L70)\n",
        "                - [`ResidualCodec.compress`](https://github.com/stanford-futuredata/ColBERT/blob/7067ef598b5011edaa1f4a731a2c269dbac864e4/colbert/indexing/codecs/residual.py#L167)\n",
        "                    - [`ResidualCodec.binarize`](https://github.com/stanford-futuredata/ColBERT/blob/7067ef598b5011edaa1f4a731a2c269dbac864e4/colbert/indexing/codecs/residual.py#L186)\n",
        "            - [`CollectionIndexer.finalize`](https://github.com/stanford-futuredata/ColBERT/blob/7067ef598b5011edaa1f4a731a2c269dbac864e4/colbert/indexing/collection_indexer.py#L378)\n",
        "                - [`CollectionIndexer._build_ivf`](https://github.com/stanford-futuredata/ColBERT/blob/7067ef598b5011edaa1f4a731a2c269dbac864e4/colbert/indexing/collection_indexer.py#L438)\n",
        "                - [`optimize_ivf`](https://github.com/stanford-futuredata/ColBERT/blob/7067ef598b5011edaa1f4a731a2c269dbac864e4/colbert/indexing/utils.py#L8)\n",
        "                - [`CollectionIndexer._update_metadata`](https://github.com/stanford-futuredata/ColBERT/blob/7067ef598b5011edaa1f4a731a2c269dbac864e4/colbert/indexing/collection_indexer.py#L484)\n",
        "    "
      ]
    },
    {
      "cell_type": "code",
      "execution_count": null,
      "metadata": {
        "id": "Mb1Gr6-npkyC"
      },
      "outputs": [],
      "source": [
        "!pip install datasets ragatouille -qq"
      ]
    },
    {
      "cell_type": "code",
      "execution_count": 2,
      "metadata": {
        "id": "U4da--TbpgU0"
      },
      "outputs": [],
      "source": [
        "from datasets import load_dataset\n",
        "from ragatouille import RAGPretrainedModel\n",
        "from fastcore.utils import Path\n",
        "import torch\n",
        "import srsly\n",
        "import uuid\n",
        "from ragatouille.data import CorpusProcessor\n",
        "from llama_index.core.text_splitter import SentenceSplitter\n",
        "import pandas as pd\n",
        "from ragatouille.models.index import PLAIDModelIndex\n",
        "from colbert.infra import ColBERTConfig, RunConfig\n",
        "from colbert.data.collection import Collection\n",
        "from colbert.modeling.checkpoint import Checkpoint\n",
        "from colbert.indexing.collection_encoder import CollectionEncoder\n",
        "from colbert.indexing.collection_indexer import CollectionIndexer\n",
        "import numpy as np\n",
        "import random\n",
        "from colbert.indexing.collection_indexer import compute_faiss_kmeans\n",
        "from sklearn.decomposition import PCA\n",
        "import matplotlib.pyplot as plt\n",
        "from colbert.indexing.codecs.residual import ResidualCodec\n",
        "from colbert.utils.utils import flatten\n",
        "import tqdm"
      ]
    },
    {
      "cell_type": "code",
      "execution_count": 3,
      "metadata": {
        "colab": {
          "base_uri": "https://localhost:8080/"
        },
        "id": "eCsjZY9JUynv",
        "outputId": "48a0a8b7-2a76-40ef-f24a-3d0c8f01860b"
      },
      "outputs": [
        {
          "name": "stdout",
          "output_type": "stream",
          "text": [
            "All seeds set to 123\n"
          ]
        }
      ],
      "source": [
        "def set_all_seeds(seed=123):\n",
        "    \"\"\"Set seeds for all random number generators\"\"\"\n",
        "    import random\n",
        "    import numpy as np\n",
        "    import torch\n",
        "    import os\n",
        "\n",
        "    # Python's random module\n",
        "    random.seed(seed)\n",
        "\n",
        "    # NumPy\n",
        "    np.random.seed(seed)\n",
        "\n",
        "    # PyTorch\n",
        "    torch.manual_seed(seed)\n",
        "    if torch.cuda.is_available():\n",
        "        torch.cuda.manual_seed(seed)\n",
        "        torch.cuda.manual_seed_all(seed)  # For multi-GPU\n",
        "\n",
        "    # Set PYTHONHASHSEED for reproducibility across runs\n",
        "    os.environ['PYTHONHASHSEED'] = str(seed)\n",
        "\n",
        "    # Set deterministic algorithms for PyTorch\n",
        "    torch.backends.cudnn.deterministic = True\n",
        "    torch.backends.cudnn.benchmark = False\n",
        "\n",
        "    print(f\"All seeds set to {seed}\")\n",
        "\n",
        "# Call this at the beginning of your script\n",
        "set_all_seeds(123)"
      ]
    },
    {
      "cell_type": "markdown",
      "metadata": {
        "id": "sJ9lB40ss5_F"
      },
      "source": [
        "## RAGatouille `RAG.index`"
      ]
    },
    {
      "cell_type": "markdown",
      "metadata": {
        "id": "QFnfsp7vs9l9"
      },
      "source": [
        "Everything in this notebook will be compared to what's generated with `RAG.index`."
      ]
    },
    {
      "cell_type": "markdown",
      "metadata": {
        "id": "7vAehm5Io1RI"
      },
      "source": [
        "For this exercise, I'll use 1000 passages from the UKPLab/DAPR ConditionalQA dataset."
      ]
    },
    {
      "cell_type": "code",
      "execution_count": 4,
      "metadata": {
        "colab": {
          "base_uri": "https://localhost:8080/",
          "height": 307,
          "referenced_widgets": [
            "a0c3f7d9bbee4b7db19b8050f440b0ab",
            "74e1f8ba3e7943fca2c130f6b8cf3575",
            "db07b8de5cbc48548c421f37f649caee",
            "e476bc03da7f43548984a2fc72ba03e8",
            "22e9c599c9ed4f188ba5c13c4e2a5ebc",
            "1a238867c4e94d53a71f0d12da5ecb67",
            "2ef33728d7e4485da2da9d69bb75127f",
            "8e74266c09ea44c2b520152ebdddf315",
            "1d705b30f2194a39afb90a4a8a6fad73",
            "fac48ace6ac1410891b691add92c927b",
            "e949447b5705406f92587cb4a470c8e6",
            "c39bb21b350347678bee62cb857f9e99",
            "d2c18ddaffea4b698e511502bd599dd6",
            "795d47b949874b49aa0c9b87df7d6cf4",
            "e09cc68079874dd0af65688a37191225",
            "9575c681f1a846ada50cb226986cea8d",
            "ae783b73013e4dfa8e6a9b12a791b8f3",
            "7dc4dac203764513b691b8af7c70cf9f",
            "060e285067b043e1812eac4d5dfd1504",
            "e72aac9d4d7545f5bb34a23bcf41de00",
            "ce95a5dcaab1413abeaaa551467435bf",
            "ee47e2dc7b0d47a0b8372fc56be77bab",
            "caae6430636d4781a9d42a33bb39b203",
            "8844e87c224e4f1b90521cd5439fcd31",
            "0270fce7e5c7429eb4b9a51b7063103d",
            "f1356dc972e84165b5a8cf30fdf26083",
            "36cafac5363045698e230fcb51fe375b",
            "ff829fe4b7e9487bafe3fc70b8333f75",
            "1e6c5e7ad5174dac82ecca7980f874fc",
            "4be5fcfce1464996b9ed122a7bc81f39",
            "d637c0136bbd4404900179c0f48bcdd8",
            "0ad232adc306409988035612c2ce4054",
            "df116a2604a7476ab50f5f853e81e424"
          ]
        },
        "id": "1ig5Yw8IDWKy",
        "outputId": "7e33ac84-a51a-4f14-bd44-d14716248acd"
      },
      "outputs": [
        {
          "name": "stderr",
          "output_type": "stream",
          "text": [
            "/usr/local/lib/python3.11/dist-packages/huggingface_hub/utils/_auth.py:94: UserWarning: \n",
            "The secret `HF_TOKEN` does not exist in your Colab secrets.\n",
            "To authenticate with the Hugging Face Hub, create a token in your settings tab (https://huggingface.co/settings/tokens), set it as secret in your Google Colab and restart your session.\n",
            "You will be able to reuse this secret in all of your notebooks.\n",
            "Please note that authentication is recommended but still optional to access public models or datasets.\n",
            "  warnings.warn(\n"
          ]
        },
        {
          "data": {
            "application/vnd.jupyter.widget-view+json": {
              "model_id": "a0c3f7d9bbee4b7db19b8050f440b0ab",
              "version_major": 2,
              "version_minor": 0
            },
            "text/plain": [
              "README.md:   0%|          | 0.00/13.0k [00:00<?, ?B/s]"
            ]
          },
          "metadata": {},
          "output_type": "display_data"
        },
        {
          "data": {
            "application/vnd.jupyter.widget-view+json": {
              "model_id": "c39bb21b350347678bee62cb857f9e99",
              "version_major": 2,
              "version_minor": 0
            },
            "text/plain": [
              "0000.parquet:   0%|          | 0.00/2.72M [00:00<?, ?B/s]"
            ]
          },
          "metadata": {},
          "output_type": "display_data"
        },
        {
          "data": {
            "application/vnd.jupyter.widget-view+json": {
              "model_id": "caae6430636d4781a9d42a33bb39b203",
              "version_major": 2,
              "version_minor": 0
            },
            "text/plain": [
              "Generating test split:   0%|          | 0/69199 [00:00<?, ? examples/s]"
            ]
          },
          "metadata": {},
          "output_type": "display_data"
        },
        {
          "data": {
            "text/plain": [
              "Dataset({\n",
              "    features: ['_id', 'text', 'title', 'doc_id', 'paragraph_no', 'total_paragraphs', 'is_candidate'],\n",
              "    num_rows: 1000\n",
              "})"
            ]
          },
          "execution_count": 4,
          "metadata": {},
          "output_type": "execute_result"
        }
      ],
      "source": [
        "passages = load_dataset(\"UKPLab/dapr\", f\"ConditionalQA-corpus\", split=\"test[:1000]\")\n",
        "passages"
      ]
    },
    {
      "cell_type": "code",
      "execution_count": 5,
      "metadata": {
        "colab": {
          "base_uri": "https://localhost:8080/",
          "height": 35
        },
        "id": "WRmAkGrorWUR",
        "outputId": "f796ba22-e08b-459f-a2de-80af227ab588"
      },
      "outputs": [
        {
          "data": {
            "application/vnd.google.colaboratory.intrinsic+json": {
              "type": "string"
            },
            "text/plain": [
              "'Overview'"
            ]
          },
          "execution_count": 5,
          "metadata": {},
          "output_type": "execute_result"
        }
      ],
      "source": [
        "passages[0]['text']"
      ]
    },
    {
      "cell_type": "code",
      "execution_count": 6,
      "metadata": {
        "id": "DjYF8vSxtT2b"
      },
      "outputs": [],
      "source": [
        "model_nm = \"answerdotai/answerai-colbert-small-v1\""
      ]
    },
    {
      "cell_type": "code",
      "execution_count": 7,
      "metadata": {
        "colab": {
          "base_uri": "https://localhost:8080/",
          "height": 1000,
          "referenced_widgets": [
            "84a8a4d001ab4ddc9cc43766750856cb",
            "903cac921af14447a2a01a02abe1fa60",
            "50bd4c47f6404a6090988114a8751c3f",
            "604c3ffcefd54a2aa4e939ee86cbb442",
            "9a2cb870b3fd4c6eae9527ad0cf51104",
            "fe017cf5850742edb71e4f46cc4a79fd",
            "39f27023f1d742a684233d09e31324e7",
            "db46c536a88f47c7ba7b0cebb660c76c",
            "31e9da9e681045128ca6ecec185f386f",
            "2e14006095c44821b4bb3427dd35bd6e",
            "3557fc1638564e958bc5bc777873d330",
            "3d8bdabc4fb24e89829a523480a4bff0",
            "6a7bfb98dd0f435ea778a4f4702a1ed2",
            "e302cf3dfe624849a86dfb698de87240",
            "d2ce498e94634e478330609d8a7f2f95",
            "5d4d3557d9034f648e8e592d7a7bef6d",
            "39071d7e22de4eb08a7f1c0b9b0d1583",
            "aa347ad0d4044aa68df28ca6d828cbb4",
            "b094d8873c484257be3351829f665f54",
            "88301dea122b4e25b0d36c5b1b840955",
            "34c9e041b0624fff92d4803870ae34f2",
            "98c993c9987c4c1ba55ee3b0d15838a2",
            "88424e552e604d548a38219144b45b13",
            "01761f55a21d44b683fa0c88bacc0491",
            "496e2fc6492643208116b541481a180f",
            "dfe0d155856d49f49672d81d33a412de",
            "4e6e5d90f14c409c93ba314a63246cb2",
            "4716a0324a7c4a52a702b5639a470e32",
            "183f092ecb224378ba897eecb3e9ab40",
            "f501cc0434ce4e368096bbed1feea428",
            "d7e73196e9c74761a5ed67f328b4f32c",
            "5ef282ef01af4573aaea2630bf2264be",
            "dbae059781c34ca5a385666820ba8374",
            "e607d9321eb047b5aeac1e38a4da9e35",
            "17856dc15e324eb8bc1254baa3b2c486",
            "3d62544e61de457b89b4404c81700cfc",
            "0e352d2acde74ee0a7ed8683029720d5",
            "f9c149c4e7ee4b0b983c58f0ea7f27bf",
            "f0abf52203fa433c90d29b997f4e3831",
            "793ecd786d74489a97f3e4127ea97296",
            "7ce6f492b6be4199b643800049906d66",
            "79bd66912d0b47b58d80059003e0fead",
            "b52042f6f226432293abd11656bce94b",
            "cf34a4e1798044898c00b39b6cdf920f",
            "fd3556a3f0e942db8ccfb750453de036",
            "8af306ee7f404d77b0bf678c249ec20c",
            "6c8af5d1f7c34a02a86bd11535a42461",
            "c69a10a3a35041db9fb042eeb55664bb",
            "5308486abe3444feabe86f2de44d778c",
            "cb1f034acb1c422380f213cef0942e67",
            "bc901466db9543a891a52682670eff1d",
            "d6c56e65496e450bbc45f15ed0ccff13",
            "1d99565862b14709b517a1e8cd662f4f",
            "f86e65f666e9467b833ff17f3f8399a5",
            "498a7547bd7e430291f2705fb2b89b45",
            "fb94def1a1c341108f6aad992b5cd66f",
            "0baced33ca4c40199aa7ecf8131cb6c3",
            "f881eb018d9e4d0d83c0ef78a880b627",
            "6db85e6757474caea601d60a4af8cf8f",
            "62c5dadfe4bd4a669f7e99b54599e7aa",
            "89dd62f795534edca18f88ae29903f15",
            "875a7c434bc14ec58deae2e29eb47dd9",
            "8870304e758747cfaef9216f49e576c1",
            "ccd0628cffdd40908ce7d495ec8c3053",
            "8d44e8618633422cac25b7f84b83d360",
            "38b0f06c57684864be477ad032c239a3",
            "566b3397334148e5a490173a285cf92d",
            "804014164ce444cbac54178a3b913ff3",
            "5e73cb24295c465fa3a262cf602245dc",
            "7d2fef91378b40fea616d24ac38154e4",
            "ecc6477a1b8a425cb8729260a238ac3f",
            "4162962a761a4147b0c1afbabaac4cf6",
            "4cf3c17e6e1d4b3f8e6a9b3f201846a5",
            "ba6c72c8a16b48e8acacd2cd62a35b6a",
            "bcf4a223d43045818098db90e6470cfa",
            "2c184577465e44d68a86eaadfa88b210",
            "572374e7ed894962930b40a106e8f7a2",
            "6613c12c3da94caf9a022f77525b9918",
            "ee44752cc09f4f3cb186181e490fd92d",
            "dda10cdf60284c2d89856bd48f6d3703",
            "deb1bf6382434c5bb1b94168a643af2a",
            "a42b05ae4edd405280fdd721e0344676",
            "0e0740f0844146169d8f53ee2cba36b9",
            "fc2185facb9042c28e3507e61dbd5dae",
            "183d71b26497454eb61022148a425cd3",
            "11453b133dc449d8be338babee9e7367",
            "ce93c7fea2ce44f38b6de69e0e5e102b",
            "417230729d094a7aa195ef33fe0b2364"
          ]
        },
        "id": "TSyXzMHVtCCe",
        "outputId": "3b8db5f6-6d4e-4e74-b628-ab197b09d564"
      },
      "outputs": [
        {
          "data": {
            "application/vnd.jupyter.widget-view+json": {
              "model_id": "84a8a4d001ab4ddc9cc43766750856cb",
              "version_major": 2,
              "version_minor": 0
            },
            "text/plain": [
              "artifact.metadata:   0%|          | 0.00/2.22k [00:00<?, ?B/s]"
            ]
          },
          "metadata": {},
          "output_type": "display_data"
        },
        {
          "data": {
            "application/vnd.jupyter.widget-view+json": {
              "model_id": "3d8bdabc4fb24e89829a523480a4bff0",
              "version_major": 2,
              "version_minor": 0
            },
            "text/plain": [
              "config.json:   0%|          | 0.00/702 [00:00<?, ?B/s]"
            ]
          },
          "metadata": {},
          "output_type": "display_data"
        },
        {
          "data": {
            "application/vnd.jupyter.widget-view+json": {
              "model_id": "88424e552e604d548a38219144b45b13",
              "version_major": 2,
              "version_minor": 0
            },
            "text/plain": [
              "config.json:   0%|          | 0.00/702 [00:00<?, ?B/s]"
            ]
          },
          "metadata": {},
          "output_type": "display_data"
        },
        {
          "data": {
            "application/vnd.jupyter.widget-view+json": {
              "model_id": "e607d9321eb047b5aeac1e38a4da9e35",
              "version_major": 2,
              "version_minor": 0
            },
            "text/plain": [
              "model.safetensors:   0%|          | 0.00/134M [00:00<?, ?B/s]"
            ]
          },
          "metadata": {},
          "output_type": "display_data"
        },
        {
          "data": {
            "application/vnd.jupyter.widget-view+json": {
              "model_id": "fd3556a3f0e942db8ccfb750453de036",
              "version_major": 2,
              "version_minor": 0
            },
            "text/plain": [
              "tokenizer_config.json:   0%|          | 0.00/1.24k [00:00<?, ?B/s]"
            ]
          },
          "metadata": {},
          "output_type": "display_data"
        },
        {
          "data": {
            "application/vnd.jupyter.widget-view+json": {
              "model_id": "fb94def1a1c341108f6aad992b5cd66f",
              "version_major": 2,
              "version_minor": 0
            },
            "text/plain": [
              "vocab.txt:   0%|          | 0.00/232k [00:00<?, ?B/s]"
            ]
          },
          "metadata": {},
          "output_type": "display_data"
        },
        {
          "data": {
            "application/vnd.jupyter.widget-view+json": {
              "model_id": "566b3397334148e5a490173a285cf92d",
              "version_major": 2,
              "version_minor": 0
            },
            "text/plain": [
              "tokenizer.json:   0%|          | 0.00/711k [00:00<?, ?B/s]"
            ]
          },
          "metadata": {},
          "output_type": "display_data"
        },
        {
          "data": {
            "application/vnd.jupyter.widget-view+json": {
              "model_id": "6613c12c3da94caf9a022f77525b9918",
              "version_major": 2,
              "version_minor": 0
            },
            "text/plain": [
              "special_tokens_map.json:   0%|          | 0.00/695 [00:00<?, ?B/s]"
            ]
          },
          "metadata": {},
          "output_type": "display_data"
        },
        {
          "name": "stderr",
          "output_type": "stream",
          "text": [
            "/usr/local/lib/python3.11/dist-packages/colbert/utils/amp.py:12: FutureWarning: `torch.cuda.amp.GradScaler(args...)` is deprecated. Please use `torch.amp.GradScaler('cuda', args...)` instead.\n",
            "  self.scaler = torch.cuda.amp.GradScaler()\n"
          ]
        },
        {
          "name": "stdout",
          "output_type": "stream",
          "text": [
            "---- WARNING! You are using PLAID with an experimental replacement for FAISS for greater compatibility ----\n",
            "This is a behaviour change from RAGatouille 0.8.0 onwards.\n",
            "This works fine for most users and smallish datasets, but can be considerably slower than FAISS and could cause worse results in some situations.\n",
            "If you're confident with FAISS working on your machine, pass use_faiss=True to revert to the FAISS-using behaviour.\n",
            "--------------------\n",
            "\n",
            "\n",
            "[Mar 13, 01:15:09] #> Creating directory .ragatouille/colbert/indexes/cqa_index \n",
            "\n",
            "\n",
            "[Mar 13, 01:15:11] [0] \t\t #> Encoding 1000 passages..\n"
          ]
        },
        {
          "name": "stderr",
          "output_type": "stream",
          "text": [
            "/usr/local/lib/python3.11/dist-packages/colbert/utils/amp.py:15: FutureWarning: `torch.cuda.amp.autocast(args...)` is deprecated. Please use `torch.amp.autocast('cuda', args...)` instead.\n",
            "  return torch.cuda.amp.autocast() if self.activated else NullContextManager()\n"
          ]
        },
        {
          "name": "stdout",
          "output_type": "stream",
          "text": [
            "[Mar 13, 01:15:14] [0] \t\t avg_doclen_est = 15.197999954223633 \t len(local_sample) = 1,000\n",
            "[Mar 13, 01:15:14] [0] \t\t Creating 1,024 partitions.\n",
            "[Mar 13, 01:15:14] [0] \t\t *Estimated* 15,197 embeddings.\n",
            "[Mar 13, 01:15:14] [0] \t\t #> Saving the indexing plan to .ragatouille/colbert/indexes/cqa_index/plan.json ..\n"
          ]
        },
        {
          "name": "stderr",
          "output_type": "stream",
          "text": [
            "/usr/local/lib/python3.11/dist-packages/colbert/indexing/collection_indexer.py:256: FutureWarning: You are using `torch.load` with `weights_only=False` (the current default value), which uses the default pickle module implicitly. It is possible to construct malicious pickle data which will execute arbitrary code during unpickling (See https://github.com/pytorch/pytorch/blob/main/SECURITY.md#untrusted-models for more details). In a future release, the default value for `weights_only` will be flipped to `True`. This limits the functions that could be executed during unpickling. Arbitrary objects will no longer be allowed to be loaded via this mode unless they are explicitly allowlisted by the user via `torch.serialization.add_safe_globals`. We recommend you start setting `weights_only=True` for any use case where you don't have full control of the loaded file. Please open an issue on GitHub for any issues related to this experimental feature.\n",
            "  sub_sample = torch.load(sub_sample_path)\n"
          ]
        },
        {
          "name": "stdout",
          "output_type": "stream",
          "text": [
            "used 20 iterations (0.5189s) to cluster 14439 items into 1024 clusters\n",
            "[Mar 13, 01:15:14] Loading decompress_residuals_cpp extension (set COLBERT_LOAD_TORCH_EXTENSION_VERBOSE=True for more info)...\n"
          ]
        },
        {
          "name": "stderr",
          "output_type": "stream",
          "text": [
            "/usr/local/lib/python3.11/dist-packages/torch/utils/cpp_extension.py:1964: UserWarning: TORCH_CUDA_ARCH_LIST is not set, all archs for visible cards are included for compilation. \n",
            "If this is not desired, please set os.environ['TORCH_CUDA_ARCH_LIST'].\n",
            "  warnings.warn(\n"
          ]
        },
        {
          "name": "stdout",
          "output_type": "stream",
          "text": [
            "[Mar 13, 01:16:51] Loading packbits_cpp extension (set COLBERT_LOAD_TORCH_EXTENSION_VERBOSE=True for more info)...\n"
          ]
        },
        {
          "name": "stderr",
          "output_type": "stream",
          "text": [
            "/usr/local/lib/python3.11/dist-packages/torch/utils/cpp_extension.py:1964: UserWarning: TORCH_CUDA_ARCH_LIST is not set, all archs for visible cards are included for compilation. \n",
            "If this is not desired, please set os.environ['TORCH_CUDA_ARCH_LIST'].\n",
            "  warnings.warn(\n"
          ]
        },
        {
          "name": "stdout",
          "output_type": "stream",
          "text": [
            "[0.015, 0.016, 0.015, 0.015, 0.013, 0.016, 0.015, 0.016, 0.017, 0.014, 0.013, 0.015, 0.017, 0.014, 0.015, 0.017, 0.014, 0.015, 0.015, 0.014, 0.015, 0.016, 0.015, 0.015, 0.014, 0.014, 0.015, 0.015, 0.015, 0.015, 0.014, 0.014, 0.015, 0.014, 0.015, 0.015, 0.014, 0.015, 0.016, 0.015, 0.014, 0.015, 0.015, 0.014, 0.014, 0.017, 0.016, 0.017, 0.014, 0.015, 0.016, 0.015, 0.016, 0.016, 0.012, 0.015, 0.016, 0.015, 0.016, 0.016, 0.015, 0.015, 0.016, 0.014, 0.015, 0.017, 0.016, 0.015, 0.014, 0.015, 0.015, 0.015, 0.014, 0.016, 0.016, 0.016, 0.014, 0.015, 0.015, 0.014, 0.014, 0.014, 0.016, 0.015, 0.016, 0.015, 0.014, 0.014, 0.014, 0.015, 0.016, 0.014, 0.014, 0.016, 0.014, 0.015]\n"
          ]
        },
        {
          "name": "stderr",
          "output_type": "stream",
          "text": [
            "/usr/local/lib/python3.11/dist-packages/colbert/indexing/codecs/residual.py:141: FutureWarning: You are using `torch.load` with `weights_only=False` (the current default value), which uses the default pickle module implicitly. It is possible to construct malicious pickle data which will execute arbitrary code during unpickling (See https://github.com/pytorch/pytorch/blob/main/SECURITY.md#untrusted-models for more details). In a future release, the default value for `weights_only` will be flipped to `True`. This limits the functions that could be executed during unpickling. Arbitrary objects will no longer be allowed to be loaded via this mode unless they are explicitly allowlisted by the user via `torch.serialization.add_safe_globals`. We recommend you start setting `weights_only=True` for any use case where you don't have full control of the loaded file. Please open an issue on GitHub for any issues related to this experimental feature.\n",
            "  centroids = torch.load(centroids_path, map_location='cpu')\n",
            "/usr/local/lib/python3.11/dist-packages/colbert/indexing/codecs/residual.py:142: FutureWarning: You are using `torch.load` with `weights_only=False` (the current default value), which uses the default pickle module implicitly. It is possible to construct malicious pickle data which will execute arbitrary code during unpickling (See https://github.com/pytorch/pytorch/blob/main/SECURITY.md#untrusted-models for more details). In a future release, the default value for `weights_only` will be flipped to `True`. This limits the functions that could be executed during unpickling. Arbitrary objects will no longer be allowed to be loaded via this mode unless they are explicitly allowlisted by the user via `torch.serialization.add_safe_globals`. We recommend you start setting `weights_only=True` for any use case where you don't have full control of the loaded file. Please open an issue on GitHub for any issues related to this experimental feature.\n",
            "  avg_residual = torch.load(avgresidual_path, map_location='cpu')\n",
            "/usr/local/lib/python3.11/dist-packages/colbert/indexing/codecs/residual.py:143: FutureWarning: You are using `torch.load` with `weights_only=False` (the current default value), which uses the default pickle module implicitly. It is possible to construct malicious pickle data which will execute arbitrary code during unpickling (See https://github.com/pytorch/pytorch/blob/main/SECURITY.md#untrusted-models for more details). In a future release, the default value for `weights_only` will be flipped to `True`. This limits the functions that could be executed during unpickling. Arbitrary objects will no longer be allowed to be loaded via this mode unless they are explicitly allowlisted by the user via `torch.serialization.add_safe_globals`. We recommend you start setting `weights_only=True` for any use case where you don't have full control of the loaded file. Please open an issue on GitHub for any issues related to this experimental feature.\n",
            "  bucket_cutoffs, bucket_weights = torch.load(buckets_path, map_location='cpu')\n",
            "0it [00:00, ?it/s]"
          ]
        },
        {
          "name": "stdout",
          "output_type": "stream",
          "text": [
            "[Mar 13, 01:18:16] [0] \t\t #> Encoding 1000 passages..\n"
          ]
        },
        {
          "name": "stderr",
          "output_type": "stream",
          "text": [
            "/usr/local/lib/python3.11/dist-packages/colbert/utils/amp.py:15: FutureWarning: `torch.cuda.amp.autocast(args...)` is deprecated. Please use `torch.amp.autocast('cuda', args...)` instead.\n",
            "  return torch.cuda.amp.autocast() if self.activated else NullContextManager()\n",
            "1it [00:00,  1.39it/s]\n",
            "  0%|          | 0/1 [00:00<?, ?it/s]/usr/local/lib/python3.11/dist-packages/colbert/indexing/codecs/residual_embeddings.py:86: FutureWarning: You are using `torch.load` with `weights_only=False` (the current default value), which uses the default pickle module implicitly. It is possible to construct malicious pickle data which will execute arbitrary code during unpickling (See https://github.com/pytorch/pytorch/blob/main/SECURITY.md#untrusted-models for more details). In a future release, the default value for `weights_only` will be flipped to `True`. This limits the functions that could be executed during unpickling. Arbitrary objects will no longer be allowed to be loaded via this mode unless they are explicitly allowlisted by the user via `torch.serialization.add_safe_globals`. We recommend you start setting `weights_only=True` for any use case where you don't have full control of the loaded file. Please open an issue on GitHub for any issues related to this experimental feature.\n",
            "  return torch.load(codes_path, map_location='cpu')\n",
            "100%|██████████| 1/1 [00:00<00:00, 787.81it/s]"
          ]
        },
        {
          "name": "stdout",
          "output_type": "stream",
          "text": [
            "[Mar 13, 01:18:16] #> Optimizing IVF to store map from centroids to list of pids..\n",
            "[Mar 13, 01:18:16] #> Building the emb2pid mapping..\n",
            "[Mar 13, 01:18:16] len(emb2pid) = 15198\n"
          ]
        },
        {
          "name": "stderr",
          "output_type": "stream",
          "text": [
            "\n",
            "100%|██████████| 1024/1024 [00:00<00:00, 61154.86it/s]"
          ]
        },
        {
          "name": "stdout",
          "output_type": "stream",
          "text": [
            "[Mar 13, 01:18:16] #> Saved optimized IVF to .ragatouille/colbert/indexes/cqa_index/ivf.pid.pt\n",
            "Done indexing!\n"
          ]
        },
        {
          "name": "stderr",
          "output_type": "stream",
          "text": [
            "\n"
          ]
        }
      ],
      "source": [
        "RAG = RAGPretrainedModel.from_pretrained(model_nm)\n",
        "index_path = RAG.index(index_name=\"cqa_index\", collection=passages['text'])"
      ]
    },
    {
      "cell_type": "code",
      "execution_count": 8,
      "metadata": {
        "colab": {
          "base_uri": "https://localhost:8080/"
        },
        "id": "qEQaAdGBwonR",
        "outputId": "43f5fe3b-967d-4ee9-c806-a6cf68612e98"
      },
      "outputs": [
        {
          "data": {
            "text/plain": [
              "Path('.ragatouille/colbert/indexes/cqa_index')"
            ]
          },
          "execution_count": 8,
          "metadata": {},
          "output_type": "execute_result"
        }
      ],
      "source": [
        "index_path = Path(index_path)\n",
        "index_path"
      ]
    },
    {
      "cell_type": "code",
      "execution_count": 9,
      "metadata": {
        "colab": {
          "base_uri": "https://localhost:8080/"
        },
        "id": "hgKvvj3swqMa",
        "outputId": "cf51663d-a6b5-46a1-c3e4-64054d65c53a"
      },
      "outputs": [
        {
          "name": "stdout",
          "output_type": "stream",
          "text": [
            ".ragatouille/colbert/indexes/cqa_index/buckets.pt\n",
            ".ragatouille/colbert/indexes/cqa_index/collection.json\n",
            ".ragatouille/colbert/indexes/cqa_index/metadata.json\n",
            ".ragatouille/colbert/indexes/cqa_index/ivf.pid.pt\n",
            ".ragatouille/colbert/indexes/cqa_index/doclens.0.json\n",
            ".ragatouille/colbert/indexes/cqa_index/0.residuals.pt\n",
            ".ragatouille/colbert/indexes/cqa_index/centroids.pt\n",
            ".ragatouille/colbert/indexes/cqa_index/0.metadata.json\n",
            ".ragatouille/colbert/indexes/cqa_index/plan.json\n",
            ".ragatouille/colbert/indexes/cqa_index/0.codes.pt\n",
            ".ragatouille/colbert/indexes/cqa_index/avg_residual.pt\n",
            ".ragatouille/colbert/indexes/cqa_index/pid_docid_map.json\n"
          ]
        }
      ],
      "source": [
        "for o in index_path.ls(): print(o)"
      ]
    },
    {
      "cell_type": "markdown",
      "metadata": {
        "id": "viJZL0qqwxRv"
      },
      "source": [
        "While it's a bit tedious to do so (since I'm chomping at the bit to get to the deep dive!) I think it's worth analyzing the contents of each of these files, as we'll be recreating them in this notebook."
      ]
    },
    {
      "cell_type": "markdown",
      "metadata": {
        "id": "MXIOyMQyw6vq"
      },
      "source": [
        "### buckets.pt"
      ]
    },
    {
      "cell_type": "markdown",
      "metadata": {
        "id": "HQNa5i77xozI"
      },
      "source": [
        "Looking at [Line 160](https://github.com/stanford-futuredata/ColBERT/blob/7067ef598b5011edaa1f4a731a2c269dbac864e4/colbert/indexing/codecs/residual.py#L160) of the ColBERT repo's `residual.py`, buckets.py stores bucket_cutoffs and bucket_weights. We'll go into detail into what these exactly are later on."
      ]
    },
    {
      "cell_type": "code",
      "execution_count": 10,
      "metadata": {
        "id": "nOGx3se7w8kh"
      },
      "outputs": [],
      "source": [
        "_bucket_cutoffs, _bucket_weights = torch.load(index_path/'buckets.pt', weights_only=True)"
      ]
    },
    {
      "cell_type": "code",
      "execution_count": 11,
      "metadata": {
        "colab": {
          "base_uri": "https://localhost:8080/"
        },
        "id": "Ya2-yKKux1kZ",
        "outputId": "21050d94-0825-497b-80a5-cc4123b93ac0"
      },
      "outputs": [
        {
          "data": {
            "text/plain": [
              "(torch.Size([15]), torch.Size([16]))"
            ]
          },
          "execution_count": 11,
          "metadata": {},
          "output_type": "execute_result"
        }
      ],
      "source": [
        "_bucket_cutoffs.shape, _bucket_weights.shape"
      ]
    },
    {
      "cell_type": "code",
      "execution_count": 12,
      "metadata": {
        "colab": {
          "base_uri": "https://localhost:8080/"
        },
        "id": "qpMC0uMojeY8",
        "outputId": "9bc408df-7960-4f11-a4bf-21989452487c"
      },
      "outputs": [
        {
          "data": {
            "text/plain": [
              "tensor([-0.0307, -0.0205, -0.0146, -0.0099, -0.0064, -0.0037, -0.0016,  0.0000,\n",
              "         0.0017,  0.0038,  0.0066,  0.0102,  0.0150,  0.0211,  0.0313],\n",
              "       device='cuda:0')"
            ]
          },
          "execution_count": 12,
          "metadata": {},
          "output_type": "execute_result"
        }
      ],
      "source": [
        "_bucket_cutoffs"
      ]
    },
    {
      "cell_type": "code",
      "execution_count": 13,
      "metadata": {
        "colab": {
          "base_uri": "https://localhost:8080/"
        },
        "id": "2em095-LyECg",
        "outputId": "4368b89d-459e-4270-a55e-c200fad278c5"
      },
      "outputs": [
        {
          "data": {
            "text/plain": [
              "tensor([-0.0411, -0.0247, -0.0173, -0.0121, -0.0081, -0.0050, -0.0026, -0.0007,\n",
              "         0.0007,  0.0027,  0.0052,  0.0083,  0.0124,  0.0178,  0.0253,  0.0421],\n",
              "       device='cuda:0', dtype=torch.float16)"
            ]
          },
          "execution_count": 13,
          "metadata": {},
          "output_type": "execute_result"
        }
      ],
      "source": [
        "_bucket_weights"
      ]
    },
    {
      "cell_type": "markdown",
      "metadata": {
        "id": "fu2G6BbUjjFk"
      },
      "source": [
        "### 0.residuals.pt"
      ]
    },
    {
      "cell_type": "markdown",
      "metadata": {
        "id": "CQquaqY6j0-Q"
      },
      "source": [
        "IIUC, there are 15198 tokens in our collection, each with a 48-dimension vector representation, and each integer value represents two 4-bit codes that each correspond to a quantized value. So there are actually 96 values in each vector."
      ]
    },
    {
      "cell_type": "code",
      "execution_count": 14,
      "metadata": {
        "colab": {
          "base_uri": "https://localhost:8080/"
        },
        "id": "wA5lGcyQjp4k",
        "outputId": "f41f7dd3-b478-4bb8-a3be-9fa16b012687"
      },
      "outputs": [
        {
          "data": {
            "text/plain": [
              "tensor([[ 30, 225, 225,  ..., 238, 238,  30],\n",
              "        [230,  22, 158,  ..., 233, 106, 170],\n",
              "        [238, 238, 238,  ..., 238, 238, 238],\n",
              "        ...,\n",
              "        [ 43,  22,  23,  ..., 104,  31, 208],\n",
              "        [222, 254,  91,  ..., 128,   8, 189],\n",
              "        [229,  82,  22,  ..., 170,  94, 154]], dtype=torch.uint8)"
            ]
          },
          "execution_count": 14,
          "metadata": {},
          "output_type": "execute_result"
        }
      ],
      "source": [
        "_residuals = torch.load(index_path/'0.residuals.pt', weights_only=True)\n",
        "_residuals"
      ]
    },
    {
      "cell_type": "code",
      "execution_count": 15,
      "metadata": {
        "colab": {
          "base_uri": "https://localhost:8080/"
        },
        "id": "mFluRGoqjvDe",
        "outputId": "00b115a3-0966-477c-b933-a9ce207a0e22"
      },
      "outputs": [
        {
          "data": {
            "text/plain": [
              "torch.Size([15198, 48])"
            ]
          },
          "execution_count": 15,
          "metadata": {},
          "output_type": "execute_result"
        }
      ],
      "source": [
        "_residuals.shape"
      ]
    },
    {
      "cell_type": "code",
      "execution_count": 16,
      "metadata": {
        "colab": {
          "base_uri": "https://localhost:8080/"
        },
        "id": "zyuhiddOj_bQ",
        "outputId": "bdd729b1-6b9b-48bd-ac9b-753df5045ba7"
      },
      "outputs": [
        {
          "data": {
            "text/plain": [
              "96.0"
            ]
          },
          "execution_count": 16,
          "metadata": {},
          "output_type": "execute_result"
        }
      ],
      "source": [
        "48*4/2"
      ]
    },
    {
      "cell_type": "markdown",
      "metadata": {
        "id": "DOsFiBDdkviM"
      },
      "source": [
        "### ivf.pid.pt"
      ]
    },
    {
      "cell_type": "markdown",
      "metadata": {
        "id": "aPen8MfQlATe"
      },
      "source": [
        "IIRC, `ivf` contains a flattened sequence of passage IDs corresponding to each centroid. There are 1024 centroids and the first 8 passage IDs in `ivf` correspond to the 0-th centroid."
      ]
    },
    {
      "cell_type": "code",
      "execution_count": 17,
      "metadata": {
        "colab": {
          "base_uri": "https://localhost:8080/"
        },
        "id": "UfbJVjwWk1R4",
        "outputId": "c5627cea-ba7c-411f-9d79-67d80cfa25d8"
      },
      "outputs": [
        {
          "data": {
            "text/plain": [
              "(torch.Size([11759]), torch.Size([1024]))"
            ]
          },
          "execution_count": 17,
          "metadata": {},
          "output_type": "execute_result"
        }
      ],
      "source": [
        "_ivf, _ivf_lengths = torch.load(index_path/'ivf.pid.pt', weights_only=True)\n",
        "_ivf.shape, _ivf_lengths.shape"
      ]
    },
    {
      "cell_type": "code",
      "execution_count": 18,
      "metadata": {
        "colab": {
          "base_uri": "https://localhost:8080/"
        },
        "id": "lqJ25ul4k8e-",
        "outputId": "ed2b73e1-c8b7-4f2b-bed0-c2eca6183261"
      },
      "outputs": [
        {
          "data": {
            "text/plain": [
              "tensor([895, 896, 902, 904, 909], dtype=torch.int32)"
            ]
          },
          "execution_count": 18,
          "metadata": {},
          "output_type": "execute_result"
        }
      ],
      "source": [
        "_ivf[:5]"
      ]
    },
    {
      "cell_type": "code",
      "execution_count": 19,
      "metadata": {
        "colab": {
          "base_uri": "https://localhost:8080/"
        },
        "id": "_VGn4HMSlg-l",
        "outputId": "792c0d0f-a376-451e-8395-d05a7ecb44e3"
      },
      "outputs": [
        {
          "data": {
            "text/plain": [
              "tensor(8)"
            ]
          },
          "execution_count": 19,
          "metadata": {},
          "output_type": "execute_result"
        }
      ],
      "source": [
        "_ivf_lengths[0]"
      ]
    },
    {
      "cell_type": "markdown",
      "metadata": {
        "id": "3osvjZ0Blpgz"
      },
      "source": [
        "### 0.metadata.json"
      ]
    },
    {
      "cell_type": "markdown",
      "metadata": {
        "id": "Zc-fQvMBmEuw"
      },
      "source": [
        "There are 1000 passages totaling 15198 tokens."
      ]
    },
    {
      "cell_type": "code",
      "execution_count": 20,
      "metadata": {
        "id": "LWMhl-4Nl05G"
      },
      "outputs": [],
      "source": [
        "def load_json(path, filename): return srsly.read_json(str(Path(path) / filename))"
      ]
    },
    {
      "cell_type": "code",
      "execution_count": 21,
      "metadata": {
        "colab": {
          "base_uri": "https://localhost:8080/"
        },
        "id": "RwfREiosl7go",
        "outputId": "5271803e-f8e9-4608-8c89-ffe2bf71f511"
      },
      "outputs": [
        {
          "data": {
            "text/plain": [
              "{'passage_offset': 0,\n",
              " 'num_passages': 1000,\n",
              " 'num_embeddings': 15198,\n",
              " 'embedding_offset': 0}"
            ]
          },
          "execution_count": 21,
          "metadata": {},
          "output_type": "execute_result"
        }
      ],
      "source": [
        "load_json(index_path, \"0.metadata.json\")"
      ]
    },
    {
      "cell_type": "markdown",
      "metadata": {
        "id": "PQ15OSvCmImJ"
      },
      "source": [
        "### collection.json"
      ]
    },
    {
      "cell_type": "markdown",
      "metadata": {
        "id": "QOQ90fLUmc40"
      },
      "source": [
        "This JSON contains, as a list, the strings of the 1000 passages in our collection."
      ]
    },
    {
      "cell_type": "code",
      "execution_count": 22,
      "metadata": {
        "colab": {
          "base_uri": "https://localhost:8080/"
        },
        "id": "X9kBR3T_mL61",
        "outputId": "f9f4876a-5fc7-446c-8477-c4e6846aeb73"
      },
      "outputs": [
        {
          "data": {
            "text/plain": [
              "(1000, 'Overview')"
            ]
          },
          "execution_count": 22,
          "metadata": {},
          "output_type": "execute_result"
        }
      ],
      "source": [
        "_collection = load_json(index_path, \"collection.json\")\n",
        "len(_collection), _collection[0]"
      ]
    },
    {
      "cell_type": "markdown",
      "metadata": {
        "id": "Oo-wggBWmh-2"
      },
      "source": [
        "### avg_residual.pt"
      ]
    },
    {
      "cell_type": "markdown",
      "metadata": {
        "id": "phiBcxEsmr3M"
      },
      "source": [
        "I believe this is the average residual across the 15198 tokens (i.e. the average distance in vector-space between the tokens and their closest centroids)."
      ]
    },
    {
      "cell_type": "code",
      "execution_count": 23,
      "metadata": {
        "colab": {
          "base_uri": "https://localhost:8080/"
        },
        "id": "MJrRrlrkmkiE",
        "outputId": "ddcc0531-f023-458e-99cf-e1042dd6cec7"
      },
      "outputs": [
        {
          "data": {
            "text/plain": [
              "tensor(0.0150, device='cuda:0', dtype=torch.float16)"
            ]
          },
          "execution_count": 23,
          "metadata": {},
          "output_type": "execute_result"
        }
      ],
      "source": [
        "_avg_residual = torch.load(index_path/'avg_residual.pt', weights_only=True)\n",
        "_avg_residual"
      ]
    },
    {
      "cell_type": "markdown",
      "metadata": {
        "id": "5Linp6tPm1AF"
      },
      "source": [
        "### doclens.0.json"
      ]
    },
    {
      "cell_type": "markdown",
      "metadata": {
        "id": "xe3X8Wjcm9g5"
      },
      "source": [
        "This contains a mapping (list) between passages IDs (indices) and the number of tokens in the document (values)."
      ]
    },
    {
      "cell_type": "code",
      "execution_count": 24,
      "metadata": {
        "colab": {
          "base_uri": "https://localhost:8080/"
        },
        "id": "717NyHh_m3IR",
        "outputId": "a9af0411-007e-440f-d78d-16219ef8cdd0"
      },
      "outputs": [
        {
          "data": {
            "text/plain": [
              "(1000, [4, 20, 18, 23, 8])"
            ]
          },
          "execution_count": 24,
          "metadata": {},
          "output_type": "execute_result"
        }
      ],
      "source": [
        "_doclens = load_json(index_path, \"doclens.0.json\")\n",
        "len(_doclens), _doclens[:5]"
      ]
    },
    {
      "cell_type": "code",
      "execution_count": 142,
      "metadata": {
        "colab": {
          "base_uri": "https://localhost:8080/"
        },
        "id": "rTOaVGOPKVHb",
        "outputId": "64fb7278-8964-4a4a-fa37-d2f490e5f7bf"
      },
      "outputs": [
        {
          "data": {
            "text/plain": [
              "15198"
            ]
          },
          "execution_count": 142,
          "metadata": {},
          "output_type": "execute_result"
        }
      ],
      "source": [
        "sum(doclens)"
      ]
    },
    {
      "cell_type": "markdown",
      "metadata": {
        "id": "TpxQJlksnD_X"
      },
      "source": [
        "### metadata.json"
      ]
    },
    {
      "cell_type": "markdown",
      "metadata": {
        "id": "cYAEs33nnmjk"
      },
      "source": [
        "Lots of information in here, will highlight the number of centroids and the number of token embeddings in the collection:\n",
        "\n",
        "```\n",
        "'num_partitions': 1024,\n",
        "'num_embeddings': 15198\n",
        " ```"
      ]
    },
    {
      "cell_type": "code",
      "execution_count": 25,
      "metadata": {
        "colab": {
          "base_uri": "https://localhost:8080/"
        },
        "id": "Oxj1wg8inGjD",
        "outputId": "05ffedca-2da2-4a9b-f4b1-4e9325ecac06"
      },
      "outputs": [
        {
          "data": {
            "text/plain": [
              "{'config': {'query_token_id': '[unused0]',\n",
              "  'doc_token_id': '[unused1]',\n",
              "  'query_token': '[Q]',\n",
              "  'doc_token': '[D]',\n",
              "  'ncells': None,\n",
              "  'centroid_score_threshold': None,\n",
              "  'ndocs': None,\n",
              "  'load_index_with_mmap': False,\n",
              "  'index_path': None,\n",
              "  'index_bsize': 32,\n",
              "  'nbits': 4,\n",
              "  'kmeans_niters': 20,\n",
              "  'resume': False,\n",
              "  'pool_factor': 1,\n",
              "  'clustering_mode': 'hierarchical',\n",
              "  'protected_tokens': 0,\n",
              "  'similarity': 'cosine',\n",
              "  'bsize': 64,\n",
              "  'accumsteps': 1,\n",
              "  'lr': 1e-05,\n",
              "  'maxsteps': 15626,\n",
              "  'save_every': None,\n",
              "  'warmup': 781,\n",
              "  'warmup_bert': None,\n",
              "  'relu': False,\n",
              "  'nway': 32,\n",
              "  'use_ib_negatives': False,\n",
              "  'reranker': False,\n",
              "  'distillation_alpha': 1.0,\n",
              "  'ignore_scores': False,\n",
              "  'model_name': 'answerdotai/AnswerAI-ColBERTv2.5-small',\n",
              "  'query_maxlen': 32,\n",
              "  'attend_to_mask_tokens': False,\n",
              "  'interaction': 'colbert',\n",
              "  'dim': 96,\n",
              "  'doc_maxlen': 256,\n",
              "  'mask_punctuation': True,\n",
              "  'checkpoint': 'answerdotai/answerai-colbert-small-v1',\n",
              "  'triples': '/home/bclavie/colbertv2.5_en/data/msmarco/triplets.jsonl',\n",
              "  'collection': ['list with 1000 elements starting with...',\n",
              "   ['Overview',\n",
              "    'You can only make a claim for Child Tax Credit if you already get Working Tax Credit.',\n",
              "    'If you cannot apply for Child Tax Credit, you can apply for Universal Credit instead.']],\n",
              "  'queries': '/home/bclavie/colbertv2.5_en/data/msmarco/queries.tsv',\n",
              "  'index_name': 'cqa_index',\n",
              "  'overwrite': False,\n",
              "  'root': '.ragatouille/',\n",
              "  'experiment': 'colbert',\n",
              "  'index_root': None,\n",
              "  'name': '2025-03/13/01.14.35',\n",
              "  'rank': 0,\n",
              "  'nranks': 1,\n",
              "  'amp': True,\n",
              "  'gpus': 1,\n",
              "  'avoid_fork_if_possible': False},\n",
              " 'num_chunks': 1,\n",
              " 'num_partitions': 1024,\n",
              " 'num_embeddings': 15198,\n",
              " 'avg_doclen': 15.198,\n",
              " 'RAGatouille': {'index_config': {'index_type': 'PLAID',\n",
              "   'index_name': 'cqa_index'}}}"
            ]
          },
          "execution_count": 25,
          "metadata": {},
          "output_type": "execute_result"
        }
      ],
      "source": [
        "load_json(index_path, \"metadata.json\")"
      ]
    },
    {
      "cell_type": "markdown",
      "metadata": {
        "id": "TOiI0qqmnszA"
      },
      "source": [
        "### centroids.pt"
      ]
    },
    {
      "cell_type": "markdown",
      "metadata": {
        "id": "bk4Qp09Sn2S-"
      },
      "source": [
        "There are 1024 96-dimension centroid vectors stored."
      ]
    },
    {
      "cell_type": "code",
      "execution_count": 26,
      "metadata": {
        "colab": {
          "base_uri": "https://localhost:8080/"
        },
        "id": "PVTedymLnwkG",
        "outputId": "56aaee76-7ad0-4269-f01b-aaeafc824b29"
      },
      "outputs": [
        {
          "data": {
            "text/plain": [
              "torch.Size([1024, 96])"
            ]
          },
          "execution_count": 26,
          "metadata": {},
          "output_type": "execute_result"
        }
      ],
      "source": [
        "_centroids = torch.load(index_path/'centroids.pt', weights_only=True)\n",
        "_centroids.shape"
      ]
    },
    {
      "cell_type": "markdown",
      "metadata": {
        "id": "sn4Gre3vn7i_"
      },
      "source": [
        "They store the full uncompressed values for the centroids."
      ]
    },
    {
      "cell_type": "code",
      "execution_count": 27,
      "metadata": {
        "colab": {
          "base_uri": "https://localhost:8080/"
        },
        "id": "f9NawCxIn5VO",
        "outputId": "0ade9405-521f-46f7-c241-fa63dadfb05c"
      },
      "outputs": [
        {
          "data": {
            "text/plain": [
              "tensor([-0.0649,  0.1193, -0.0551,  0.0561, -0.0826], device='cuda:0',\n",
              "       dtype=torch.float16)"
            ]
          },
          "execution_count": 27,
          "metadata": {},
          "output_type": "execute_result"
        }
      ],
      "source": [
        "_centroids[0][:5]"
      ]
    },
    {
      "cell_type": "markdown",
      "metadata": {
        "id": "onMlwz9hn_rY"
      },
      "source": [
        "### 0.codes.pt"
      ]
    },
    {
      "cell_type": "markdown",
      "metadata": {
        "id": "5lHvVx1FoH2G"
      },
      "source": [
        "I believe this is a mapping (list) between tokens (indices) and centroid IDs (values)."
      ]
    },
    {
      "cell_type": "code",
      "execution_count": 28,
      "metadata": {
        "colab": {
          "base_uri": "https://localhost:8080/"
        },
        "id": "E9bsbcX7oCKz",
        "outputId": "7128258c-5e5b-4b15-f877-f157d71d2bd4"
      },
      "outputs": [
        {
          "data": {
            "text/plain": [
              "torch.Size([15198])"
            ]
          },
          "execution_count": 28,
          "metadata": {},
          "output_type": "execute_result"
        }
      ],
      "source": [
        "_codes = torch.load(index_path/'0.codes.pt', weights_only=True)\n",
        "_codes.shape"
      ]
    },
    {
      "cell_type": "code",
      "execution_count": 29,
      "metadata": {
        "colab": {
          "base_uri": "https://localhost:8080/"
        },
        "id": "RVUGS8gpoGU2",
        "outputId": "62d80166-6b60-45db-8305-fab765339cbb"
      },
      "outputs": [
        {
          "data": {
            "text/plain": [
              "tensor([138, 843, 273, 138, 561], dtype=torch.int32)"
            ]
          },
          "execution_count": 29,
          "metadata": {},
          "output_type": "execute_result"
        }
      ],
      "source": [
        "_codes[:5]"
      ]
    },
    {
      "cell_type": "markdown",
      "metadata": {
        "id": "Gg_4lP_qoNi3"
      },
      "source": [
        "### pid_docid_map.json"
      ]
    },
    {
      "cell_type": "markdown",
      "metadata": {
        "id": "JQuHgSQMogVS"
      },
      "source": [
        "A mapping between passage ID (0-999) and document ID (UUID)."
      ]
    },
    {
      "cell_type": "code",
      "execution_count": 30,
      "metadata": {
        "colab": {
          "base_uri": "https://localhost:8080/",
          "height": 35
        },
        "id": "W5LRfq2WoT4P",
        "outputId": "e16d0b3d-96c4-4a25-b2b0-b61aa712aa97"
      },
      "outputs": [
        {
          "data": {
            "application/vnd.google.colaboratory.intrinsic+json": {
              "type": "string"
            },
            "text/plain": [
              "'2be086c6-04cc-4d73-b372-08236f76cbe6'"
            ]
          },
          "execution_count": 30,
          "metadata": {},
          "output_type": "execute_result"
        }
      ],
      "source": [
        "_pid_docid_map = load_json(index_path, \"pid_docid_map.json\")\n",
        "_pid_docid_map['999']"
      ]
    },
    {
      "cell_type": "markdown",
      "metadata": {
        "id": "y9x9WdEfop3z"
      },
      "source": [
        "### plan.json"
      ]
    },
    {
      "cell_type": "markdown",
      "metadata": {
        "id": "c0FKnwxnox8U"
      },
      "source": [
        "This seems to contain the same information as metadata.json."
      ]
    },
    {
      "cell_type": "code",
      "execution_count": 31,
      "metadata": {
        "colab": {
          "base_uri": "https://localhost:8080/"
        },
        "id": "49z3DeyMoqit",
        "outputId": "4a7d667f-74ca-4a32-8a34-43d295ef9d52"
      },
      "outputs": [
        {
          "data": {
            "text/plain": [
              "{'config': {'query_token_id': '[unused0]',\n",
              "  'doc_token_id': '[unused1]',\n",
              "  'query_token': '[Q]',\n",
              "  'doc_token': '[D]',\n",
              "  'ncells': None,\n",
              "  'centroid_score_threshold': None,\n",
              "  'ndocs': None,\n",
              "  'load_index_with_mmap': False,\n",
              "  'index_path': None,\n",
              "  'index_bsize': 32,\n",
              "  'nbits': 4,\n",
              "  'kmeans_niters': 20,\n",
              "  'resume': False,\n",
              "  'pool_factor': 1,\n",
              "  'clustering_mode': 'hierarchical',\n",
              "  'protected_tokens': 0,\n",
              "  'similarity': 'cosine',\n",
              "  'bsize': 64,\n",
              "  'accumsteps': 1,\n",
              "  'lr': 1e-05,\n",
              "  'maxsteps': 15626,\n",
              "  'save_every': None,\n",
              "  'warmup': 781,\n",
              "  'warmup_bert': None,\n",
              "  'relu': False,\n",
              "  'nway': 32,\n",
              "  'use_ib_negatives': False,\n",
              "  'reranker': False,\n",
              "  'distillation_alpha': 1.0,\n",
              "  'ignore_scores': False,\n",
              "  'model_name': 'answerdotai/AnswerAI-ColBERTv2.5-small',\n",
              "  'query_maxlen': 32,\n",
              "  'attend_to_mask_tokens': False,\n",
              "  'interaction': 'colbert',\n",
              "  'dim': 96,\n",
              "  'doc_maxlen': 256,\n",
              "  'mask_punctuation': True,\n",
              "  'checkpoint': 'answerdotai/answerai-colbert-small-v1',\n",
              "  'triples': '/home/bclavie/colbertv2.5_en/data/msmarco/triplets.jsonl',\n",
              "  'collection': ['list with 1000 elements starting with...',\n",
              "   ['Overview',\n",
              "    'You can only make a claim for Child Tax Credit if you already get Working Tax Credit.',\n",
              "    'If you cannot apply for Child Tax Credit, you can apply for Universal Credit instead.']],\n",
              "  'queries': '/home/bclavie/colbertv2.5_en/data/msmarco/queries.tsv',\n",
              "  'index_name': 'cqa_index',\n",
              "  'overwrite': False,\n",
              "  'root': '.ragatouille/',\n",
              "  'experiment': 'colbert',\n",
              "  'index_root': None,\n",
              "  'name': '2025-03/13/01.14.35',\n",
              "  'rank': 0,\n",
              "  'nranks': 1,\n",
              "  'amp': True,\n",
              "  'gpus': 1,\n",
              "  'avoid_fork_if_possible': False},\n",
              " 'num_chunks': 1,\n",
              " 'num_partitions': 1024,\n",
              " 'num_embeddings_est': 15197.999954223633,\n",
              " 'avg_doclen_est': 15.197999954223633}"
            ]
          },
          "execution_count": 31,
          "metadata": {},
          "output_type": "execute_result"
        }
      ],
      "source": [
        "_plan = load_json(index_path, \"plan.json\")\n",
        "_plan"
      ]
    },
    {
      "cell_type": "markdown",
      "metadata": {
        "id": "gR36pHh3w0oa"
      },
      "source": [
        "In the following sections, I'll try to recreate each of these `index_path` elements."
      ]
    },
    {
      "cell_type": "markdown",
      "metadata": {
        "id": "BSaJd7Uoozp7"
      },
      "source": [
        "## _process_corpus"
      ]
    },
    {
      "cell_type": "markdown",
      "metadata": {
        "id": "-Ipga-cjzpyj"
      },
      "source": [
        "Inside `RAG.index`, `_process_corpus` is called on the documents and document IDs."
      ]
    },
    {
      "cell_type": "code",
      "execution_count": 32,
      "metadata": {
        "colab": {
          "base_uri": "https://localhost:8080/",
          "height": 35
        },
        "id": "sUVXZH5opvsz",
        "outputId": "91ca6abf-bd88-4652-efd4-a4b2b77907c2"
      },
      "outputs": [
        {
          "data": {
            "application/vnd.google.colaboratory.intrinsic+json": {
              "type": "string"
            },
            "text/plain": [
              "'d4cdfec5-a949-43e0-94b3-feb24caeac5e'"
            ]
          },
          "execution_count": 32,
          "metadata": {},
          "output_type": "execute_result"
        }
      ],
      "source": [
        "passage_ids = [str(uuid.uuid4()) for _ in range(len(passages))]\n",
        "passage_ids[0]"
      ]
    },
    {
      "cell_type": "markdown",
      "metadata": {
        "id": "pV-w1mukqWtm"
      },
      "source": [
        "Use the corpus processor to convert the passages into `{'document_id': '...', 'content': '...'}` dictionaries with 256-token max length."
      ]
    },
    {
      "cell_type": "code",
      "execution_count": 33,
      "metadata": {
        "colab": {
          "base_uri": "https://localhost:8080/"
        },
        "id": "hiMC52ucqbxV",
        "outputId": "40335ff4-def8-4944-8c0b-157d7823934b"
      },
      "outputs": [
        {
          "data": {
            "text/plain": [
              "<ragatouille.data.corpus_processor.CorpusProcessor at 0x794fa0323690>"
            ]
          },
          "execution_count": 33,
          "metadata": {},
          "output_type": "execute_result"
        }
      ],
      "source": [
        "cp = CorpusProcessor()\n",
        "cp"
      ]
    },
    {
      "cell_type": "code",
      "execution_count": 34,
      "metadata": {
        "colab": {
          "base_uri": "https://localhost:8080/"
        },
        "id": "IYmsMSTrrErq",
        "outputId": "dd183218-3093-4c9b-e4f5-7f31c5b9517b"
      },
      "outputs": [
        {
          "data": {
            "text/plain": [
              "(1000,\n",
              " {'document_id': 'd4cdfec5-a949-43e0-94b3-feb24caeac5e',\n",
              "  'content': 'Overview'})"
            ]
          },
          "execution_count": 34,
          "metadata": {},
          "output_type": "execute_result"
        }
      ],
      "source": [
        "collection_with_ids = cp.process_corpus(passages['text'], passage_ids, chunk_size=256)\n",
        "len(collection_with_ids), collection_with_ids[0]"
      ]
    },
    {
      "cell_type": "markdown",
      "metadata": {
        "id": "q17YxcOrsOMJ"
      },
      "source": [
        "As a brief aside, I'll take a look at the maximum token length of the passages."
      ]
    },
    {
      "cell_type": "code",
      "execution_count": 35,
      "metadata": {
        "colab": {
          "base_uri": "https://localhost:8080/",
          "height": 121
        },
        "id": "2wWC8ZRzrOkm",
        "outputId": "8bba83eb-1120-4e91-819c-c2d0e5315a93"
      },
      "outputs": [
        {
          "data": {
            "text/html": [
              "<div style=\"max-width:800px; border: 1px solid var(--colab-border-color);\"><style>\n",
              "      pre.function-repr-contents {\n",
              "        overflow-x: auto;\n",
              "        padding: 8px 12px;\n",
              "        max-height: 500px;\n",
              "      }\n",
              "\n",
              "      pre.function-repr-contents.function-repr-contents-collapsed {\n",
              "        cursor: pointer;\n",
              "        max-height: 100px;\n",
              "      }\n",
              "    </style>\n",
              "    <pre style=\"white-space: initial; background:\n",
              "         var(--colab-secondary-surface-color); padding: 8px 12px;\n",
              "         border-bottom: 1px solid var(--colab-border-color);\"><b>llama_index.core.node_parser.text.sentence.SentenceSplitter._token_size</b><br/>def _token_size(text: str) -&gt; int</pre><pre class=\"function-repr-contents function-repr-contents-collapsed\" style=\"\"><a class=\"filepath\" style=\"display:none\" href=\"#\">/usr/local/lib/python3.11/dist-packages/llama_index/core/node_parser/text/sentence.py</a>&lt;no docstring&gt;</pre>\n",
              "      <script>\n",
              "      if (google.colab.kernel.accessAllowed && google.colab.files && google.colab.files.view) {\n",
              "        for (const element of document.querySelectorAll('.filepath')) {\n",
              "          element.style.display = 'block'\n",
              "          element.onclick = (event) => {\n",
              "            event.preventDefault();\n",
              "            event.stopPropagation();\n",
              "            google.colab.files.view(element.textContent, 307);\n",
              "          };\n",
              "        }\n",
              "      }\n",
              "      for (const element of document.querySelectorAll('.function-repr-contents')) {\n",
              "        element.onclick = (event) => {\n",
              "          event.preventDefault();\n",
              "          event.stopPropagation();\n",
              "          element.classList.toggle('function-repr-contents-collapsed');\n",
              "        };\n",
              "      }\n",
              "      </script>\n",
              "      </div>"
            ],
            "text/plain": [
              "<bound method SentenceSplitter._token_size of SentenceSplitter(include_metadata=True, include_prev_next_rel=True, callback_manager=<llama_index.core.callbacks.base.CallbackManager object at 0x794fa0639f90>, id_func=<function default_id_func at 0x795102301d00>, chunk_size=256, chunk_overlap=200, separator=' ', paragraph_separator='\\n\\n\\n', secondary_chunking_regex='[^,.;。？！]+[,.;。？！]?')>"
            ]
          },
          "execution_count": 35,
          "metadata": {},
          "output_type": "execute_result"
        }
      ],
      "source": [
        "node_parser = SentenceSplitter(chunk_size=256)\n",
        "node_parser._token_size"
      ]
    },
    {
      "cell_type": "code",
      "execution_count": 36,
      "metadata": {
        "colab": {
          "base_uri": "https://localhost:8080/",
          "height": 335
        },
        "id": "jxGwMDbWsYq_",
        "outputId": "e76d0bf8-1cb0-4106-bbfc-a3afaf329571"
      },
      "outputs": [
        {
          "data": {
            "text/html": [
              "<div>\n",
              "<style scoped>\n",
              "    .dataframe tbody tr th:only-of-type {\n",
              "        vertical-align: middle;\n",
              "    }\n",
              "\n",
              "    .dataframe tbody tr th {\n",
              "        vertical-align: top;\n",
              "    }\n",
              "\n",
              "    .dataframe thead th {\n",
              "        text-align: right;\n",
              "    }\n",
              "</style>\n",
              "<table border=\"1\" class=\"dataframe\">\n",
              "  <thead>\n",
              "    <tr style=\"text-align: right;\">\n",
              "      <th></th>\n",
              "      <th>0</th>\n",
              "    </tr>\n",
              "  </thead>\n",
              "  <tbody>\n",
              "    <tr>\n",
              "      <th>count</th>\n",
              "      <td>1000.000000</td>\n",
              "    </tr>\n",
              "    <tr>\n",
              "      <th>mean</th>\n",
              "      <td>13.217000</td>\n",
              "    </tr>\n",
              "    <tr>\n",
              "      <th>std</th>\n",
              "      <td>10.192635</td>\n",
              "    </tr>\n",
              "    <tr>\n",
              "      <th>min</th>\n",
              "      <td>1.000000</td>\n",
              "    </tr>\n",
              "    <tr>\n",
              "      <th>25%</th>\n",
              "      <td>5.000000</td>\n",
              "    </tr>\n",
              "    <tr>\n",
              "      <th>50%</th>\n",
              "      <td>10.000000</td>\n",
              "    </tr>\n",
              "    <tr>\n",
              "      <th>75%</th>\n",
              "      <td>19.000000</td>\n",
              "    </tr>\n",
              "    <tr>\n",
              "      <th>max</th>\n",
              "      <td>65.000000</td>\n",
              "    </tr>\n",
              "  </tbody>\n",
              "</table>\n",
              "</div><br><label><b>dtype:</b> float64</label>"
            ],
            "text/plain": [
              "count    1000.000000\n",
              "mean       13.217000\n",
              "std        10.192635\n",
              "min         1.000000\n",
              "25%         5.000000\n",
              "50%        10.000000\n",
              "75%        19.000000\n",
              "max        65.000000\n",
              "dtype: float64"
            ]
          },
          "execution_count": 36,
          "metadata": {},
          "output_type": "execute_result"
        }
      ],
      "source": [
        "tk_szs = []\n",
        "for p in passages['text']: tk_szs.append(node_parser._token_size(p))\n",
        "pd.Series(tk_szs).describe()"
      ]
    },
    {
      "cell_type": "markdown",
      "metadata": {
        "id": "0tSWJJe7svA1"
      },
      "source": [
        "This collection of passages has relatively short passages (a max of 65 tokens)."
      ]
    },
    {
      "cell_type": "markdown",
      "metadata": {
        "id": "J3-x9D6rz4V7"
      },
      "source": [
        "`_process_corpus` then creates"
      ]
    },
    {
      "cell_type": "code",
      "execution_count": 37,
      "metadata": {
        "id": "OLZ5LXaGz6Er"
      },
      "outputs": [],
      "source": [
        "pid_docid_map = {index: item[\"document_id\"] for index, item in enumerate(collection_with_ids)}"
      ]
    },
    {
      "cell_type": "code",
      "execution_count": 38,
      "metadata": {
        "colab": {
          "base_uri": "https://localhost:8080/",
          "height": 35
        },
        "id": "2coB7y8I0pL6",
        "outputId": "d0e99497-9dca-4320-f03f-32432c30bd0a"
      },
      "outputs": [
        {
          "data": {
            "application/vnd.google.colaboratory.intrinsic+json": {
              "type": "string"
            },
            "text/plain": [
              "'096e054e-3041-4881-ac48-b20f1804f650'"
            ]
          },
          "execution_count": 38,
          "metadata": {},
          "output_type": "execute_result"
        }
      ],
      "source": [
        "pid_docid_map[999]"
      ]
    },
    {
      "cell_type": "markdown",
      "metadata": {
        "id": "o1dOD_tE0yzz"
      },
      "source": [
        "This matches the content of `pid_docid_map.json`."
      ]
    },
    {
      "cell_type": "markdown",
      "metadata": {
        "id": "cRCdmgWi1Fvj"
      },
      "source": [
        "`_process_corpus` also defines a list of strings, `collection`:"
      ]
    },
    {
      "cell_type": "code",
      "execution_count": 39,
      "metadata": {
        "colab": {
          "base_uri": "https://localhost:8080/",
          "height": 35
        },
        "id": "qqoE6uPk1Ebj",
        "outputId": "a8fec22c-5857-42c9-a9fd-a1d68382bff2"
      },
      "outputs": [
        {
          "data": {
            "application/vnd.google.colaboratory.intrinsic+json": {
              "type": "string"
            },
            "text/plain": [
              "'Overview'"
            ]
          },
          "execution_count": 39,
          "metadata": {},
          "output_type": "execute_result"
        }
      ],
      "source": [
        "collection = [x[\"content\"] for x in collection_with_ids]\n",
        "collection[0]"
      ]
    },
    {
      "cell_type": "markdown",
      "metadata": {
        "id": "Ox0U9aYf1QqV"
      },
      "source": [
        "`_process_corpus` also calls `_process_metadata` which defines `docid_metadata_map` as `None` when `document_metadatas` is `None` (which it is in our case)."
      ]
    },
    {
      "cell_type": "code",
      "execution_count": 40,
      "metadata": {
        "id": "cbAanE4f1UFM"
      },
      "outputs": [],
      "source": [
        "docid_metadata_map = None"
      ]
    },
    {
      "cell_type": "markdown",
      "metadata": {
        "id": "OYxFfD_jzKpf"
      },
      "source": [
        "## `RAG.index` Internals"
      ]
    },
    {
      "cell_type": "markdown",
      "metadata": {
        "id": "rIBxBgy11p4G"
      },
      "source": [
        "After calling `_process_corpus`, `RAG.index` calls `model.index`, where `model` is:\n",
        "\n",
        "```python\n",
        "instance.model = ColBERT(\n",
        "            pretrained_model_name_or_path, n_gpu, index_root=index_root, verbose=verbose\n",
        "        )\n",
        "```\n",
        "\n",
        "`ColBERT.index` in turn calls:\n",
        "\n",
        "```python\n",
        "ModelIndexFactory.construct\n",
        "```\n",
        "\n",
        "By default the type of index is PLAID, so the following is called:\n",
        "\n",
        "```python\n",
        "PLAIDModelIndex(config).build(\n",
        "            checkpoint, collection, index_name, overwrite, verbose, **kwargs\n",
        "        )\n",
        "```"
      ]
    },
    {
      "cell_type": "markdown",
      "metadata": {
        "id": "k1Ugv_oO2lsm"
      },
      "source": [
        "### PLAIDModelIndex.build"
      ]
    },
    {
      "cell_type": "markdown",
      "metadata": {
        "id": "S2Jc283Z2xhF"
      },
      "source": [
        "A couple of key configuration values are set in this method, starting with the bsize (which I think is batch size?) defaulting to 32."
      ]
    },
    {
      "cell_type": "code",
      "execution_count": 41,
      "metadata": {
        "colab": {
          "base_uri": "https://localhost:8080/"
        },
        "id": "Rdkjzvnt29Av",
        "outputId": "713f95b3-a2dd-4045-8a63-2831279ab052"
      },
      "outputs": [
        {
          "data": {
            "text/plain": [
              "32"
            ]
          },
          "execution_count": 41,
          "metadata": {},
          "output_type": "execute_result"
        }
      ],
      "source": [
        "PLAIDModelIndex._DEFAULT_INDEX_BSIZE"
      ]
    },
    {
      "cell_type": "code",
      "execution_count": 42,
      "metadata": {
        "colab": {
          "base_uri": "https://localhost:8080/"
        },
        "id": "iUjb6xOx3Klv",
        "outputId": "509c34cf-aaab-43ae-98e3-1236b1783297"
      },
      "outputs": [
        {
          "data": {
            "text/plain": [
              "32"
            ]
          },
          "execution_count": 42,
          "metadata": {},
          "output_type": "execute_result"
        }
      ],
      "source": [
        "bsize = PLAIDModelIndex._DEFAULT_INDEX_BSIZE\n",
        "bsize"
      ]
    },
    {
      "cell_type": "markdown",
      "metadata": {
        "id": "m2x4NohT3Pb9"
      },
      "source": [
        "The size of compressed residual embedding values is determined based on the size of the collection."
      ]
    },
    {
      "cell_type": "code",
      "execution_count": 43,
      "metadata": {
        "colab": {
          "base_uri": "https://localhost:8080/"
        },
        "id": "no_c_bUAssCZ",
        "outputId": "fcd4d4e2-a40c-4bb1-e23c-38198b4d9f3b"
      },
      "outputs": [
        {
          "data": {
            "text/plain": [
              "4"
            ]
          },
          "execution_count": 43,
          "metadata": {},
          "output_type": "execute_result"
        }
      ],
      "source": [
        "if len(collection) < 10000: nbits = 4\n",
        "nbits"
      ]
    },
    {
      "cell_type": "markdown",
      "metadata": {
        "id": "siVhgeA33e_v"
      },
      "source": [
        "It then defines a `ColBERTConfig` object, which I believe is instantiated as follows when the `ColBERT` checkpoint is instantiated:"
      ]
    },
    {
      "cell_type": "code",
      "execution_count": 44,
      "metadata": {
        "colab": {
          "base_uri": "https://localhost:8080/"
        },
        "id": "mZACXrLj3XQx",
        "outputId": "45f559af-99fc-449e-a652-ac3a4b9e433a"
      },
      "outputs": [
        {
          "data": {
            "text/plain": [
              "ColBERTConfig(query_token_id='[unused0]', doc_token_id='[unused1]', query_token='[Q]', doc_token='[D]', ncells=None, centroid_score_threshold=None, ndocs=None, load_index_with_mmap=False, index_path=None, index_bsize=64, nbits=1, kmeans_niters=4, resume=False, pool_factor=1, clustering_mode='hierarchical', protected_tokens=0, similarity='cosine', bsize=32, accumsteps=1, lr=1e-05, maxsteps=15626, save_every=None, warmup=781, warmup_bert=None, relu=False, nway=32, use_ib_negatives=False, reranker=False, distillation_alpha=1.0, ignore_scores=False, model_name='answerdotai/AnswerAI-ColBERTv2.5-small', query_maxlen=32, attend_to_mask_tokens=False, interaction='colbert', dim=96, doc_maxlen=300, mask_punctuation=True, checkpoint='/root/.cache/huggingface/hub/models--answerdotai--answerai-colbert-small-v1/snapshots/be1703c55532145a844da800eea4c9a692d7e267/', triples='/home/bclavie/colbertv2.5_en/data/msmarco/triplets.jsonl', collection='/home/bclavie/colbertv2.5_en/data/msmarco/collection.tsv', queries='/home/bclavie/colbertv2.5_en/data/msmarco/queries.tsv', index_name=None, overwrite=False, root='/home/bclavie/colbertv2.5_en/experiments', experiment='minicolbertv2.5', index_root=None, name='2024-08/07/08.16.20', rank=0, nranks=4, amp=True, gpus=4, avoid_fork_if_possible=False)"
            ]
          },
          "execution_count": 44,
          "metadata": {},
          "output_type": "execute_result"
        }
      ],
      "source": [
        "ckpt_config = ColBERTConfig.load_from_checkpoint(str(model_nm))\n",
        "ckpt_config"
      ]
    },
    {
      "cell_type": "code",
      "execution_count": 45,
      "metadata": {
        "colab": {
          "base_uri": "https://localhost:8080/"
        },
        "id": "f085Mhq34sX9",
        "outputId": "6030245b-21ac-43ab-bc51-a9702c22a661"
      },
      "outputs": [
        {
          "data": {
            "text/plain": [
              "ColBERTConfig(query_token_id='[unused0]', doc_token_id='[unused1]', query_token='[Q]', doc_token='[D]', ncells=None, centroid_score_threshold=None, ndocs=None, load_index_with_mmap=False, index_path=None, index_bsize=64, nbits=1, kmeans_niters=4, resume=False, pool_factor=1, clustering_mode='hierarchical', protected_tokens=0, similarity='cosine', bsize=32, accumsteps=1, lr=1e-05, maxsteps=15626, save_every=None, warmup=781, warmup_bert=None, relu=False, nway=32, use_ib_negatives=False, reranker=False, distillation_alpha=1.0, ignore_scores=False, model_name='answerdotai/AnswerAI-ColBERTv2.5-small', query_maxlen=32, attend_to_mask_tokens=False, interaction='colbert', dim=96, doc_maxlen=300, mask_punctuation=True, checkpoint='/root/.cache/huggingface/hub/models--answerdotai--answerai-colbert-small-v1/snapshots/be1703c55532145a844da800eea4c9a692d7e267/', triples='/home/bclavie/colbertv2.5_en/data/msmarco/triplets.jsonl', collection='/home/bclavie/colbertv2.5_en/data/msmarco/collection.tsv', queries='/home/bclavie/colbertv2.5_en/data/msmarco/queries.tsv', index_name=None, overwrite=False, root='/home/bclavie/colbertv2.5_en/experiments', experiment='minicolbertv2.5', index_root=None, name='2024-08/07/08.16.20', rank=0, nranks=4, amp=True, gpus=4, avoid_fork_if_possible=False)"
            ]
          },
          "execution_count": 45,
          "metadata": {},
          "output_type": "execute_result"
        }
      ],
      "source": [
        "config = ColBERTConfig.from_existing(ckpt_config)\n",
        "config"
      ]
    },
    {
      "cell_type": "markdown",
      "metadata": {
        "id": "z4pCYIZIAWvB"
      },
      "source": [
        "We also need to create a `RunConfig` object:"
      ]
    },
    {
      "cell_type": "code",
      "execution_count": 46,
      "metadata": {
        "colab": {
          "base_uri": "https://localhost:8080/"
        },
        "id": "eRwTmqR_AYmx",
        "outputId": "36d6fd1b-c4b7-4f84-a1a9-ceb78c9accb1"
      },
      "outputs": [
        {
          "data": {
            "text/plain": [
              "RunConfig(overwrite=False, root='.ragatouille/', experiment='colbert', index_root=None, name='2025-03/13/01.14.35', rank=0, nranks=-1, amp=True, gpus=1, avoid_fork_if_possible=False)"
            ]
          },
          "execution_count": 46,
          "metadata": {},
          "output_type": "execute_result"
        }
      ],
      "source": [
        "run_config = RunConfig(nranks=-1, experiment=\"colbert\", root=\".ragatouille/\")\n",
        "run_config"
      ]
    },
    {
      "cell_type": "markdown",
      "metadata": {
        "id": "VtE5XJCx5gpw"
      },
      "source": [
        "A couple more config values are set:"
      ]
    },
    {
      "cell_type": "code",
      "execution_count": 47,
      "metadata": {
        "colab": {
          "base_uri": "https://localhost:8080/"
        },
        "id": "I1K8dBhH5EU0",
        "outputId": "d74d250c-86e3-43d0-ed8b-2420290082d6"
      },
      "outputs": [
        {
          "data": {
            "text/plain": [
              "(True, 20)"
            ]
          },
          "execution_count": 47,
          "metadata": {},
          "output_type": "execute_result"
        }
      ],
      "source": [
        "config.avoid_fork_if_possible = True\n",
        "\n",
        "if len(collection) > 100000:\n",
        "    config.kmeans_niters = 4\n",
        "elif len(collection) > 50000:\n",
        "    config.kmeans_niters = 10\n",
        "else:\n",
        "    config.kmeans_niters = 20\n",
        "config.avoid_fork_if_possible, config.kmeans_niters"
      ]
    },
    {
      "cell_type": "markdown",
      "metadata": {
        "id": "3BrZEfHW5vvy"
      },
      "source": [
        "After determining whether the PyTorch or FAISS k-means implementation will be used, `Indexer.index` is called."
      ]
    },
    {
      "cell_type": "markdown",
      "metadata": {
        "id": "p1VV7ymh53ZK"
      },
      "source": [
        "## Indexer.index"
      ]
    },
    {
      "cell_type": "markdown",
      "metadata": {
        "id": "sbOX7ZIZ6GaY"
      },
      "source": [
        "The `Indexer` comes from the ColBERT repo, so this is essentially the connection point between the RAGatouille and ColBERT libraries."
      ]
    },
    {
      "cell_type": "markdown",
      "metadata": {
        "id": "o-3fsApz6V-X"
      },
      "source": [
        "### Launcher"
      ]
    },
    {
      "cell_type": "markdown",
      "metadata": {
        "id": "C4QC9qu26X8W"
      },
      "source": [
        "Inside `Indexer.index`, `__launch` is called, from within which a `Launcher` instance is created with the `encode` function."
      ]
    },
    {
      "cell_type": "markdown",
      "metadata": {
        "id": "7zY8KlgdBIPP"
      },
      "source": [
        "I'm a bit fuzzy on the next part but I'll give it a shot:\n",
        "\n",
        "when `Launcher.launch` is called, the following two lines are called (where `callee` is the `encode` function):\n",
        "\n",
        "```python\n",
        "args_ = (self.callee, port, return_value_queue, new_config, *args)\n",
        "all_procs.append(mp.Process(target=setup_new_process, args=args_))\n",
        "```\n",
        "\n",
        "`setup_new_process` contains the following lines:\n",
        "\n",
        "```python\n",
        "with Run().context(config, inherit_config=False):\n",
        "    return_val = callee(config, *args)\n",
        "```\n",
        "\n",
        "With `callee` being called, let's look at the function that `callee` is : `encode`, which is part of the collection_indexer.py file.\n",
        "\n"
      ]
    },
    {
      "cell_type": "markdown",
      "metadata": {
        "id": "6roeh3yVCHwZ"
      },
      "source": [
        "## encode"
      ]
    },
    {
      "cell_type": "markdown",
      "metadata": {
        "id": "yWPt7WSnCJ7O"
      },
      "source": [
        "```python\n",
        "def encode(config, collection, shared_lists, shared_queues, verbose: int = 3):\n",
        "    encoder = CollectionIndexer(config=config, collection=collection, verbose=verbose)\n",
        "    encoder.run(shared_lists)\n",
        "```"
      ]
    },
    {
      "cell_type": "markdown",
      "metadata": {
        "id": "LUj_83HXCLFw"
      },
      "source": [
        "This leads us to `encoder.run` which is `CollectionIndexer.run`. But before that, we need to look at how the collection is transformed when `CollectionIndexer` is instantiated."
      ]
    },
    {
      "cell_type": "markdown",
      "metadata": {
        "id": "q8Cb-PGJC4Du"
      },
      "source": [
        "## CollectionIndexer.\\__init__"
      ]
    },
    {
      "cell_type": "markdown",
      "metadata": {
        "id": "W3TY4gDJDWBy"
      },
      "source": [
        "There are two important objects created when the `CollectionIndexer` is instantiated. First is the `Collection` object, which turns our list `collection`:"
      ]
    },
    {
      "cell_type": "code",
      "execution_count": 48,
      "metadata": {
        "colab": {
          "base_uri": "https://localhost:8080/"
        },
        "id": "5e2OTaYZDtt2",
        "outputId": "7e5b183f-41a1-4a6b-d0a0-526ed5504b0e"
      },
      "outputs": [
        {
          "data": {
            "text/plain": [
              "list"
            ]
          },
          "execution_count": 48,
          "metadata": {},
          "output_type": "execute_result"
        }
      ],
      "source": [
        "type(collection)"
      ]
    },
    {
      "cell_type": "markdown",
      "metadata": {
        "id": "XgwjzFmODyee"
      },
      "source": [
        "into a `Collection` object:"
      ]
    },
    {
      "cell_type": "code",
      "execution_count": 49,
      "metadata": {
        "colab": {
          "base_uri": "https://localhost:8080/"
        },
        "id": "lZXaVs3EDdqs",
        "outputId": "4542f1a3-6850-4403-ec5d-229a6867ac95"
      },
      "outputs": [
        {
          "data": {
            "text/plain": [
              "<colbert.data.collection.Collection at 0x794fa037e410>"
            ]
          },
          "execution_count": 49,
          "metadata": {},
          "output_type": "execute_result"
        }
      ],
      "source": [
        "collection = Collection.cast(collection)\n",
        "collection"
      ]
    },
    {
      "cell_type": "code",
      "execution_count": 50,
      "metadata": {
        "colab": {
          "base_uri": "https://localhost:8080/",
          "height": 121
        },
        "id": "rKT2B1NeDwdX",
        "outputId": "1b3747d7-93d9-4b39-c5bb-d9a6cd236a16"
      },
      "outputs": [
        {
          "data": {
            "text/html": [
              "<div style=\"max-width:800px; border: 1px solid var(--colab-border-color);\"><style>\n",
              "      pre.function-repr-contents {\n",
              "        overflow-x: auto;\n",
              "        padding: 8px 12px;\n",
              "        max-height: 500px;\n",
              "      }\n",
              "\n",
              "      pre.function-repr-contents.function-repr-contents-collapsed {\n",
              "        cursor: pointer;\n",
              "        max-height: 100px;\n",
              "      }\n",
              "    </style>\n",
              "    <pre style=\"white-space: initial; background:\n",
              "         var(--colab-secondary-surface-color); padding: 8px 12px;\n",
              "         border-bottom: 1px solid var(--colab-border-color);\"><b>colbert.data.collection.Collection</b><br/>def __init__(path=None, data=None)</pre><pre class=\"function-repr-contents function-repr-contents-collapsed\" style=\"\"><a class=\"filepath\" style=\"display:none\" href=\"#\">/usr/local/lib/python3.11/dist-packages/colbert/data/collection.py</a>&lt;no docstring&gt;</pre>\n",
              "      <script>\n",
              "      if (google.colab.kernel.accessAllowed && google.colab.files && google.colab.files.view) {\n",
              "        for (const element of document.querySelectorAll('.filepath')) {\n",
              "          element.style.display = 'block'\n",
              "          element.onclick = (event) => {\n",
              "            event.preventDefault();\n",
              "            event.stopPropagation();\n",
              "            google.colab.files.view(element.textContent, 14);\n",
              "          };\n",
              "        }\n",
              "      }\n",
              "      for (const element of document.querySelectorAll('.function-repr-contents')) {\n",
              "        element.onclick = (event) => {\n",
              "          event.preventDefault();\n",
              "          event.stopPropagation();\n",
              "          element.classList.toggle('function-repr-contents-collapsed');\n",
              "        };\n",
              "      }\n",
              "      </script>\n",
              "      </div>"
            ],
            "text/plain": [
              "colbert.data.collection.Collection"
            ]
          },
          "execution_count": 50,
          "metadata": {},
          "output_type": "execute_result"
        }
      ],
      "source": [
        "type(collection)"
      ]
    },
    {
      "cell_type": "markdown",
      "metadata": {
        "id": "AGRa35zaD6im"
      },
      "source": [
        "Next, it creates a `CollectionEncoder` object:"
      ]
    },
    {
      "cell_type": "code",
      "execution_count": 51,
      "metadata": {
        "colab": {
          "base_uri": "https://localhost:8080/"
        },
        "id": "ekt6EBUYD9IA",
        "outputId": "287c057a-b53b-4e29-b8e2-3fa7945b558c"
      },
      "outputs": [
        {
          "name": "stderr",
          "output_type": "stream",
          "text": [
            "/usr/local/lib/python3.11/dist-packages/colbert/utils/amp.py:12: FutureWarning: `torch.cuda.amp.GradScaler(args...)` is deprecated. Please use `torch.amp.GradScaler('cuda', args...)` instead.\n",
            "  self.scaler = torch.cuda.amp.GradScaler()\n"
          ]
        }
      ],
      "source": [
        "checkpoint = Checkpoint(config.checkpoint, colbert_config=config)\n",
        "encoder = CollectionEncoder(config, checkpoint)"
      ]
    },
    {
      "cell_type": "markdown",
      "metadata": {
        "id": "Be9Pg0I8ELjQ"
      },
      "source": [
        "`checkpoint` is our model:"
      ]
    },
    {
      "cell_type": "code",
      "execution_count": 52,
      "metadata": {
        "colab": {
          "base_uri": "https://localhost:8080/"
        },
        "id": "ZvhVBpHwEJXw",
        "outputId": "d4e3ee56-c931-4512-c4e5-4e3b94ffeaa4"
      },
      "outputs": [
        {
          "data": {
            "text/plain": [
              "Checkpoint(\n",
              "  (model): HF_ColBERT(\n",
              "    (linear): Linear(in_features=384, out_features=96, bias=False)\n",
              "    (bert): BertModel(\n",
              "      (embeddings): BertEmbeddings(\n",
              "        (word_embeddings): Embedding(30522, 384, padding_idx=0)\n",
              "        (position_embeddings): Embedding(512, 384)\n",
              "        (token_type_embeddings): Embedding(2, 384)\n",
              "        (LayerNorm): LayerNorm((384,), eps=1e-12, elementwise_affine=True)\n",
              "        (dropout): Dropout(p=0.1, inplace=False)\n",
              "      )\n",
              "      (encoder): BertEncoder(\n",
              "        (layer): ModuleList(\n",
              "          (0-11): 12 x BertLayer(\n",
              "            (attention): BertAttention(\n",
              "              (self): BertSdpaSelfAttention(\n",
              "                (query): Linear(in_features=384, out_features=384, bias=True)\n",
              "                (key): Linear(in_features=384, out_features=384, bias=True)\n",
              "                (value): Linear(in_features=384, out_features=384, bias=True)\n",
              "                (dropout): Dropout(p=0.1, inplace=False)\n",
              "              )\n",
              "              (output): BertSelfOutput(\n",
              "                (dense): Linear(in_features=384, out_features=384, bias=True)\n",
              "                (LayerNorm): LayerNorm((384,), eps=1e-12, elementwise_affine=True)\n",
              "                (dropout): Dropout(p=0.1, inplace=False)\n",
              "              )\n",
              "            )\n",
              "            (intermediate): BertIntermediate(\n",
              "              (dense): Linear(in_features=384, out_features=1536, bias=True)\n",
              "              (intermediate_act_fn): GELUActivation()\n",
              "            )\n",
              "            (output): BertOutput(\n",
              "              (dense): Linear(in_features=1536, out_features=384, bias=True)\n",
              "              (LayerNorm): LayerNorm((384,), eps=1e-12, elementwise_affine=True)\n",
              "              (dropout): Dropout(p=0.1, inplace=False)\n",
              "            )\n",
              "          )\n",
              "        )\n",
              "      )\n",
              "      (pooler): BertPooler(\n",
              "        (dense): Linear(in_features=384, out_features=384, bias=True)\n",
              "        (activation): Tanh()\n",
              "      )\n",
              "    )\n",
              "  )\n",
              ")"
            ]
          },
          "execution_count": 52,
          "metadata": {},
          "output_type": "execute_result"
        }
      ],
      "source": [
        "checkpoint"
      ]
    },
    {
      "cell_type": "markdown",
      "metadata": {
        "id": "bJQhRnfcEPJD"
      },
      "source": [
        "The `CollectionEncoder` will be used later on to encode the passages."
      ]
    },
    {
      "cell_type": "code",
      "execution_count": 53,
      "metadata": {
        "colab": {
          "base_uri": "https://localhost:8080/"
        },
        "id": "Fmw8mJBwENzc",
        "outputId": "4a91eac1-1fcd-4304-9aa7-c9116e131bc4"
      },
      "outputs": [
        {
          "data": {
            "text/plain": [
              "<colbert.indexing.collection_encoder.CollectionEncoder at 0x794fa0683dd0>"
            ]
          },
          "execution_count": 53,
          "metadata": {},
          "output_type": "execute_result"
        }
      ],
      "source": [
        "encoder"
      ]
    },
    {
      "cell_type": "markdown",
      "metadata": {
        "id": "RRq4LtYaCV45"
      },
      "source": [
        "Next we'll dive into `CollectionIndexer.run` within which all of the indexing operations that I'm most interested in take place, starting with `setup`."
      ]
    },
    {
      "cell_type": "markdown",
      "metadata": {
        "id": "LMP4adDQCPJg"
      },
      "source": [
        "## CollectionIndexer.run"
      ]
    },
    {
      "cell_type": "markdown",
      "metadata": {
        "id": "UbEf2jJQCck5"
      },
      "source": [
        "### CollectionIndexer.setup"
      ]
    },
    {
      "cell_type": "markdown",
      "metadata": {
        "id": "Wsa9Su3rCjtD"
      },
      "source": [
        "```\n",
        "'''\n",
        "Calculates and saves plan.json for the whole collection.\n",
        "\n",
        "plan.json { config, num_chunks, num_partitions, num_embeddings_est, avg_doclen_est}\n",
        "num_partitions is the number of centroids to be generated.\n",
        "'''\n",
        "```"
      ]
    },
    {
      "cell_type": "markdown",
      "metadata": {
        "id": "-3RRB2aoCt1k"
      },
      "source": [
        "We'll see where `num_chunks` is used, but for now I'll just define it:"
      ]
    },
    {
      "cell_type": "code",
      "execution_count": 54,
      "metadata": {
        "colab": {
          "base_uri": "https://localhost:8080/"
        },
        "id": "0mdMf7Ej5qDs",
        "outputId": "4608be3d-b02a-4824-9af6-5179e47e4662"
      },
      "outputs": [
        {
          "data": {
            "text/plain": [
              "(1000, 1001, 1)"
            ]
          },
          "execution_count": 54,
          "metadata": {},
          "output_type": "execute_result"
        }
      ],
      "source": [
        "num_chunks = int(np.ceil(len(collection) / collection.get_chunksize()))\n",
        "len(collection), collection.get_chunksize(), num_chunks"
      ]
    },
    {
      "cell_type": "markdown",
      "metadata": {
        "id": "jBh9u5LeE72B"
      },
      "source": [
        "Next we look at `_sample_pids` and `_sample_embeddings` which are later clustered to get our centroids."
      ]
    },
    {
      "cell_type": "markdown",
      "metadata": {
        "id": "ki0LuaTtFDpo"
      },
      "source": [
        "#### _sample_pids"
      ]
    },
    {
      "cell_type": "code",
      "execution_count": 55,
      "metadata": {
        "colab": {
          "base_uri": "https://localhost:8080/"
        },
        "id": "sQHP2dCXEuX4",
        "outputId": "bf8f7646-fe8c-48d8-a32a-bb2183c3d9aa"
      },
      "outputs": [
        {
          "data": {
            "text/plain": [
              "1000"
            ]
          },
          "execution_count": 55,
          "metadata": {},
          "output_type": "execute_result"
        }
      ],
      "source": [
        "num_passages = len(collection)\n",
        "num_passages"
      ]
    },
    {
      "cell_type": "markdown",
      "metadata": {
        "id": "4CCzLS99FSTK"
      },
      "source": [
        "It's awesome to see one of the heuristics mentioned in the [ColBERTv2 paper](https://arxiv.org/abs/2112.01488):\n",
        "\n",
        "> To reduce memory consumption, we apply\n",
        "k-means clustering to the embeddings produced by\n",
        "invoking our BERT encoder over only a sample of\n",
        "all passages, proportional to the square root of the\n",
        "collection size, an approach we found to perform\n",
        "well in practice."
      ]
    },
    {
      "cell_type": "code",
      "execution_count": 56,
      "metadata": {
        "colab": {
          "base_uri": "https://localhost:8080/"
        },
        "id": "esubaFvoFN_U",
        "outputId": "3dc9f49f-7fe1-42c1-a2b3-8e7780d9d1ee"
      },
      "outputs": [
        {
          "data": {
            "text/plain": [
              "5542.562584220407"
            ]
          },
          "execution_count": 56,
          "metadata": {},
          "output_type": "execute_result"
        }
      ],
      "source": [
        "typical_doclen = 120\n",
        "sampled_pids = 16 * np.sqrt(typical_doclen * num_passages)\n",
        "sampled_pids"
      ]
    },
    {
      "cell_type": "code",
      "execution_count": 57,
      "metadata": {
        "id": "M8kkeulpF8zZ"
      },
      "outputs": [],
      "source": [
        "sampled_pids = min(1 + int(sampled_pids), num_passages)"
      ]
    },
    {
      "cell_type": "markdown",
      "metadata": {
        "id": "tEEseAoNGEn5"
      },
      "source": [
        "In this case because my toy collection is so small (1000 passages) we will use all of them for centroid clustering."
      ]
    },
    {
      "cell_type": "code",
      "execution_count": 58,
      "metadata": {
        "colab": {
          "base_uri": "https://localhost:8080/"
        },
        "id": "dYhqK6W7GCus",
        "outputId": "d9d310be-a543-4cac-aadd-94fe8439164f"
      },
      "outputs": [
        {
          "data": {
            "text/plain": [
              "(1000, 0, 999)"
            ]
          },
          "execution_count": 58,
          "metadata": {},
          "output_type": "execute_result"
        }
      ],
      "source": [
        "sampled_pids = random.sample(range(num_passages), sampled_pids)\n",
        "sampled_pids = set(sampled_pids)\n",
        "len(sampled_pids), min(sampled_pids), max(sampled_pids)"
      ]
    },
    {
      "cell_type": "markdown",
      "metadata": {
        "id": "g5BclyAiGrQ2"
      },
      "source": [
        "#### _sample_embeddings"
      ]
    },
    {
      "cell_type": "code",
      "execution_count": 59,
      "metadata": {
        "colab": {
          "base_uri": "https://localhost:8080/"
        },
        "id": "aaD2tRsNGYvV",
        "outputId": "695c7b09-bd48-4085-ddcb-78113cbe4cbf"
      },
      "outputs": [
        {
          "data": {
            "text/plain": [
              "<generator object Collection.enumerate at 0x794fa067dc40>"
            ]
          },
          "execution_count": 59,
          "metadata": {},
          "output_type": "execute_result"
        }
      ],
      "source": [
        "local_pids = collection.enumerate(rank=config.rank)\n",
        "local_pids"
      ]
    },
    {
      "cell_type": "markdown",
      "metadata": {
        "id": "9MHP4OosG5Bo"
      },
      "source": [
        "`sampled_pids` contains all of our passages"
      ]
    },
    {
      "cell_type": "code",
      "execution_count": 60,
      "metadata": {
        "colab": {
          "base_uri": "https://localhost:8080/"
        },
        "id": "5iUzPhsGG0qT",
        "outputId": "131ba5cd-16c8-42ae-c811-fe0eaecfb591"
      },
      "outputs": [
        {
          "data": {
            "text/plain": [
              "1000"
            ]
          },
          "execution_count": 60,
          "metadata": {},
          "output_type": "execute_result"
        }
      ],
      "source": [
        "local_sample = [passage for pid, passage in local_pids if pid in sampled_pids]\n",
        "len(local_sample)"
      ]
    },
    {
      "cell_type": "markdown",
      "metadata": {
        "id": "uOtndfaPHOUr"
      },
      "source": [
        "Next come another critical process---encoding our passages!"
      ]
    },
    {
      "cell_type": "markdown",
      "metadata": {
        "id": "OtKjrdX3HKQq"
      },
      "source": [
        "#### CollectionEncoder.encode_passages"
      ]
    },
    {
      "cell_type": "markdown",
      "metadata": {
        "id": "Bs6ox9zGHeCl"
      },
      "source": [
        "Inside `encode_passages` we call `checkpoint.docFromText`."
      ]
    },
    {
      "cell_type": "markdown",
      "metadata": {
        "id": "-TeO7kAbHghu"
      },
      "source": [
        "#### checkpoint.docFromText"
      ]
    },
    {
      "cell_type": "markdown",
      "metadata": {
        "id": "eQFJAFuQHlhH"
      },
      "source": [
        "And inside `checkpoint.docFromText` we call `checkpoint.doc`"
      ]
    },
    {
      "cell_type": "markdown",
      "metadata": {
        "id": "k336MphEHoa6"
      },
      "source": [
        "#### checkpoint.doc"
      ]
    },
    {
      "cell_type": "markdown",
      "metadata": {
        "id": "IGL836d_H3fy"
      },
      "source": [
        "Inside `ColBERT.doc` we finally call the lowest-level method in this chain:\n",
        "\n",
        "```python\n",
        "D = self.bert(input_ids, attention_mask=attention_mask)[0]\n",
        "```"
      ]
    },
    {
      "cell_type": "markdown",
      "metadata": {
        "id": "hmBqL7dCOqjm"
      },
      "source": [
        "One key point to visualize is that the BERT output is normalized:\n",
        "\n",
        "```python\n",
        " D = torch.nn.functional.normalize(D, p=2, dim=2)\n",
        "```"
      ]
    },
    {
      "cell_type": "markdown",
      "metadata": {
        "id": "wRUqlAV4H-tQ"
      },
      "source": [
        "I'll zoom out again and call `encode_passages`."
      ]
    },
    {
      "cell_type": "code",
      "execution_count": 61,
      "metadata": {
        "colab": {
          "base_uri": "https://localhost:8080/"
        },
        "id": "7WRPy5VhHBt1",
        "outputId": "baf86309-4cd0-415d-d2c2-239648f21835"
      },
      "outputs": [
        {
          "name": "stdout",
          "output_type": "stream",
          "text": [
            "[Mar 13, 01:18:18] [0] \t\t #> Encoding 1000 passages..\n"
          ]
        },
        {
          "name": "stderr",
          "output_type": "stream",
          "text": [
            "/usr/local/lib/python3.11/dist-packages/colbert/utils/amp.py:15: FutureWarning: `torch.cuda.amp.autocast(args...)` is deprecated. Please use `torch.amp.autocast('cuda', args...)` instead.\n",
            "  return torch.cuda.amp.autocast() if self.activated else NullContextManager()\n"
          ]
        }
      ],
      "source": [
        "local_sample_embs, doclens = encoder.encode_passages(local_sample)"
      ]
    },
    {
      "cell_type": "code",
      "execution_count": 62,
      "metadata": {
        "colab": {
          "base_uri": "https://localhost:8080/"
        },
        "id": "WBdmNqzBINQ8",
        "outputId": "5368e56a-dc60-4b05-e281-6bc83260149d"
      },
      "outputs": [
        {
          "data": {
            "text/plain": [
              "torch.Size([15198, 96])"
            ]
          },
          "execution_count": 62,
          "metadata": {},
          "output_type": "execute_result"
        }
      ],
      "source": [
        "local_sample_embs.shape"
      ]
    },
    {
      "cell_type": "markdown",
      "metadata": {
        "id": "A9uyaY3AO8Wk"
      },
      "source": [
        "Note that the token embeddings are a unit vector:"
      ]
    },
    {
      "cell_type": "code",
      "execution_count": 63,
      "metadata": {
        "colab": {
          "base_uri": "https://localhost:8080/"
        },
        "id": "0vrvkoW5O0m2",
        "outputId": "7535c91f-acbc-4310-fe2c-eceaa0aac05e"
      },
      "outputs": [
        {
          "data": {
            "text/plain": [
              "tensor(1., dtype=torch.float16)"
            ]
          },
          "execution_count": 63,
          "metadata": {},
          "output_type": "execute_result"
        }
      ],
      "source": [
        "local_sample_embs[0].norm()"
      ]
    },
    {
      "cell_type": "code",
      "execution_count": 64,
      "metadata": {
        "colab": {
          "base_uri": "https://localhost:8080/"
        },
        "id": "g2nr2xk6IRY1",
        "outputId": "51a948d6-7cc9-424f-f0fd-aec96603de60"
      },
      "outputs": [
        {
          "data": {
            "text/plain": [
              "(1000, [4, 20, 18, 23, 8])"
            ]
          },
          "execution_count": 64,
          "metadata": {},
          "output_type": "execute_result"
        }
      ],
      "source": [
        "len(doclens), doclens[:5]"
      ]
    },
    {
      "cell_type": "markdown",
      "metadata": {
        "id": "QiFJFUNYIeC2"
      },
      "source": [
        "We have 15198 token embeddings (embedded into answerai-colbert-small-v1's 96-dimension space) and a mapping (list) of passage ID (indices) to number of tokens (values)."
      ]
    },
    {
      "cell_type": "code",
      "execution_count": 65,
      "metadata": {
        "colab": {
          "base_uri": "https://localhost:8080/"
        },
        "id": "_lvxU-69ITqW",
        "outputId": "58d443ae-bb70-432c-fa22-e4d6508ee855"
      },
      "outputs": [
        {
          "data": {
            "text/plain": [
              "15.198"
            ]
          },
          "execution_count": 65,
          "metadata": {},
          "output_type": "execute_result"
        }
      ],
      "source": [
        "avg_doclen_est = sum(doclens) / len(doclens) if doclens else 0\n",
        "avg_doclen_est"
      ]
    },
    {
      "cell_type": "markdown",
      "metadata": {
        "id": "yZ6nj_P9I0tg"
      },
      "source": [
        "On average, each passage (document) is 15 tokens long."
      ]
    },
    {
      "cell_type": "markdown",
      "metadata": {
        "id": "s40gZLECJAM6"
      },
      "source": [
        "Zooming back out to CollectionIndexer.setup we have a few more steps before our planning is complete:"
      ]
    },
    {
      "cell_type": "code",
      "execution_count": 66,
      "metadata": {
        "colab": {
          "base_uri": "https://localhost:8080/"
        },
        "id": "QYOQzD1sI0B4",
        "outputId": "204bfd18-33ef-4bdb-c0f9-08f6fb4a4261"
      },
      "outputs": [
        {
          "data": {
            "text/plain": [
              "(1000, 15198.0, 1024)"
            ]
          },
          "execution_count": 66,
          "metadata": {},
          "output_type": "execute_result"
        }
      ],
      "source": [
        "num_passages = len(collection)\n",
        "num_embeddings_est = num_passages * avg_doclen_est\n",
        "num_partitions = int(2 ** np.floor(np.log2(16 * np.sqrt(num_embeddings_est))))\n",
        "num_passages, num_embeddings_est, num_partitions"
      ]
    },
    {
      "cell_type": "markdown",
      "metadata": {
        "id": "XJF4XcihJN89"
      },
      "source": [
        "`num_partitions` is the number of clusters we will cluster our 15198 token embeddings into."
      ]
    },
    {
      "cell_type": "markdown",
      "metadata": {
        "id": "khzypcUbJao5"
      },
      "source": [
        "This is the information that was in plan.json in `index_path` (in addition to the other ColBERTConfig information)."
      ]
    },
    {
      "cell_type": "markdown",
      "metadata": {
        "id": "4S_njGwJOF9G"
      },
      "source": [
        "## CollectionIndexer.train"
      ]
    },
    {
      "cell_type": "markdown",
      "metadata": {
        "id": "clpZ7I-yOHvf"
      },
      "source": [
        "After `setup` is complete, the next method called in `run` is `train`."
      ]
    },
    {
      "cell_type": "markdown",
      "metadata": {
        "id": "cUtokVE8QI0g"
      },
      "source": [
        "The first step in `train` is to split our `local_sample_embs` into `sample` and `sample_heldout`."
      ]
    },
    {
      "cell_type": "code",
      "execution_count": 67,
      "metadata": {
        "id": "xNw0qLycVp7K"
      },
      "outputs": [],
      "source": [
        "local_sample_embs = local_sample_embs[torch.randperm(local_sample_embs.size(0))]"
      ]
    },
    {
      "cell_type": "code",
      "execution_count": 68,
      "metadata": {
        "colab": {
          "base_uri": "https://localhost:8080/"
        },
        "id": "63Fj7VTpRnRp",
        "outputId": "ec7757d2-ca75-477d-84f3-f81c3517883a"
      },
      "outputs": [
        {
          "data": {
            "text/plain": [
              "759"
            ]
          },
          "execution_count": 68,
          "metadata": {},
          "output_type": "execute_result"
        }
      ],
      "source": [
        "heldout_fraction = 0.05\n",
        "heldout_size = int(min(heldout_fraction * local_sample_embs.size(0), 50_000))\n",
        "heldout_size"
      ]
    },
    {
      "cell_type": "code",
      "execution_count": 69,
      "metadata": {
        "colab": {
          "base_uri": "https://localhost:8080/"
        },
        "id": "HtmvovCgRfIk",
        "outputId": "6f55866f-73fe-4764-8f4b-75357ff74422"
      },
      "outputs": [
        {
          "data": {
            "text/plain": [
              "(torch.Size([14439, 96]), torch.Size([759, 96]))"
            ]
          },
          "execution_count": 69,
          "metadata": {},
          "output_type": "execute_result"
        }
      ],
      "source": [
        "sample, sample_heldout = local_sample_embs.split([local_sample_embs.size(0) - heldout_size, heldout_size], dim=0)\n",
        "sample.shape, sample_heldout.shape"
      ]
    },
    {
      "cell_type": "markdown",
      "metadata": {
        "id": "Ll4VSepcmc9N"
      },
      "source": [
        "### compute_faiss_kmeans"
      ]
    },
    {
      "cell_type": "markdown",
      "metadata": {
        "id": "4CgdVF7jSdq1"
      },
      "source": [
        "Next we get the centroids using `compute_faiss_kmeans`"
      ]
    },
    {
      "cell_type": "code",
      "execution_count": 70,
      "metadata": {
        "id": "rC6xY6CTSuqW"
      },
      "outputs": [],
      "source": [
        "args_ = [config.dim, num_partitions, config.kmeans_niters, [[sample]]]"
      ]
    },
    {
      "cell_type": "code",
      "execution_count": 71,
      "metadata": {
        "colab": {
          "base_uri": "https://localhost:8080/"
        },
        "id": "Dysj_dShP076",
        "outputId": "054f14d5-c959-471a-8b5e-ed27aa85b2a3"
      },
      "outputs": [
        {
          "data": {
            "text/plain": [
              "torch.Size([1024, 96])"
            ]
          },
          "execution_count": 71,
          "metadata": {},
          "output_type": "execute_result"
        }
      ],
      "source": [
        "centroids = compute_faiss_kmeans(*args_)\n",
        "centroids.shape"
      ]
    },
    {
      "cell_type": "markdown",
      "metadata": {
        "id": "kHWqmNyhTU2i"
      },
      "source": [
        "We then normalize the centroids"
      ]
    },
    {
      "cell_type": "code",
      "execution_count": 72,
      "metadata": {
        "colab": {
          "base_uri": "https://localhost:8080/"
        },
        "id": "dVfb18VUTV6I",
        "outputId": "cf1bbf89-4877-4093-fe5c-81dc240a6794"
      },
      "outputs": [
        {
          "data": {
            "text/plain": [
              "(torch.Size([1024, 96]), tensor(1.))"
            ]
          },
          "execution_count": 72,
          "metadata": {},
          "output_type": "execute_result"
        }
      ],
      "source": [
        "centroids = torch.nn.functional.normalize(centroids, dim=-1)\n",
        "centroids.shape, centroids[0].norm()"
      ]
    },
    {
      "cell_type": "code",
      "execution_count": 73,
      "metadata": {
        "id": "sY8FhduFT62O"
      },
      "outputs": [],
      "source": [
        "centroids = centroids.half()"
      ]
    },
    {
      "cell_type": "markdown",
      "metadata": {
        "id": "ienBn3KulGCz"
      },
      "source": [
        "I was hoping to get the same values as `RAG.index` centroids by setting seeds at the start of this notebook, but I am not getting the same result."
      ]
    },
    {
      "cell_type": "code",
      "execution_count": 74,
      "metadata": {
        "colab": {
          "base_uri": "https://localhost:8080/"
        },
        "id": "oLJ4UP9ATYUZ",
        "outputId": "9f560916-f170-474e-f865-9a7313707a5c"
      },
      "outputs": [
        {
          "data": {
            "text/plain": [
              "tensor([-0.0649,  0.1193, -0.0551,  0.0561, -0.0826], device='cuda:0',\n",
              "       dtype=torch.float16)"
            ]
          },
          "execution_count": 74,
          "metadata": {},
          "output_type": "execute_result"
        }
      ],
      "source": [
        "_centroids[0][:5]"
      ]
    },
    {
      "cell_type": "code",
      "execution_count": 75,
      "metadata": {
        "colab": {
          "base_uri": "https://localhost:8080/"
        },
        "id": "rTfWmil1Tb8x",
        "outputId": "d9d7ff01-dce7-403d-fa02-f04cb7ac8318"
      },
      "outputs": [
        {
          "data": {
            "text/plain": [
              "tensor([-0.0587,  0.0379, -0.0847, -0.0224, -0.0636], dtype=torch.float16)"
            ]
          },
          "execution_count": 75,
          "metadata": {},
          "output_type": "execute_result"
        }
      ],
      "source": [
        "centroids[0][:5]"
      ]
    },
    {
      "cell_type": "markdown",
      "metadata": {
        "id": "zQ1rLq6Yl27L"
      },
      "source": [
        "I'll use PCA to compare the two sets of centroids:"
      ]
    },
    {
      "cell_type": "code",
      "execution_count": 76,
      "metadata": {
        "colab": {
          "base_uri": "https://localhost:8080/",
          "height": 699
        },
        "id": "K3b5C2pnUMpV",
        "outputId": "364dc72a-4316-4c4b-c262-4ce9c136f239"
      },
      "outputs": [
        {
          "data": {
            "image/png": "[encoded data removed]",
            "text/plain": [
              "<Figure size 1000x800 with 1 Axes>"
            ]
          },
          "metadata": {},
          "output_type": "display_data"
        }
      ],
      "source": [
        "# Project to 2D\n",
        "pca = PCA(n_components=2)\n",
        "prev_2d = pca.fit_transform(_centroids.cpu().numpy())\n",
        "new_2d = pca.transform(centroids.cpu().numpy())\n",
        "\n",
        "# Plot\n",
        "plt.figure(figsize=(10, 8))\n",
        "plt.scatter(prev_2d[:, 0], prev_2d[:, 1], alpha=0.5, label='Previous')\n",
        "plt.scatter(new_2d[:, 0], new_2d[:, 1], alpha=0.5, label='New')\n",
        "plt.legend()\n",
        "plt.title('PCA projection of centroids')\n",
        "plt.show()"
      ]
    },
    {
      "cell_type": "markdown",
      "metadata": {
        "id": "zzXAWlWDl5vr"
      },
      "source": [
        "I'm not super familiar with interpreting PCA plots, so I asked Claude what it thought about this result:\n",
        "\n",
        "> I would describe this as showing \"good structural similarity but with expected local variations.\" The centroids aren't identical (which would show perfect overlap), but they capture similar patterns in the embedding space. This suggests that while individual centroid positions differ, the overall index structure should perform similarly for retrieval tasks."
      ]
    },
    {
      "cell_type": "markdown",
      "metadata": {
        "id": "W6Oz7jPTmFRT"
      },
      "source": [
        "For now, I'll consider this part of indexing completing, as we have generated similar contents to what's in centroids.pt."
      ]
    },
    {
      "cell_type": "markdown",
      "metadata": {
        "id": "CZ8O6Gj-mijc"
      },
      "source": [
        "### _compute_avg_residual"
      ]
    },
    {
      "cell_type": "markdown",
      "metadata": {
        "id": "E9iBteg0nJQE"
      },
      "source": [
        "This next section was quite eye opening for me, as it was the first time I understood how quantization is implemented."
      ]
    },
    {
      "cell_type": "markdown",
      "metadata": {
        "id": "fTn6bwCholWG"
      },
      "source": [
        "The `ResidualCodec` does all of the compression/binarization/decompress of residuals."
      ]
    },
    {
      "cell_type": "code",
      "execution_count": 77,
      "metadata": {
        "colab": {
          "base_uri": "https://localhost:8080/"
        },
        "id": "57DwK-_uoW62",
        "outputId": "63e544fc-d70a-4ec4-c20d-f662dcd573dd"
      },
      "outputs": [
        {
          "data": {
            "text/plain": [
              "<colbert.indexing.codecs.residual.ResidualCodec at 0x794f9aacfdd0>"
            ]
          },
          "execution_count": 77,
          "metadata": {},
          "output_type": "execute_result"
        }
      ],
      "source": [
        "compressor = ResidualCodec(config=config, centroids=centroids, avg_residual=None)\n",
        "compressor"
      ]
    },
    {
      "cell_type": "code",
      "execution_count": 78,
      "metadata": {
        "colab": {
          "base_uri": "https://localhost:8080/"
        },
        "id": "sDIpBEU5op85",
        "outputId": "91dd3f8e-f5d4-4011-b8b6-8f07d856f678"
      },
      "outputs": [
        {
          "data": {
            "text/plain": [
              "torch.Size([759])"
            ]
          },
          "execution_count": 78,
          "metadata": {},
          "output_type": "execute_result"
        }
      ],
      "source": [
        "heldout_reconstruct = compressor.compress_into_codes(sample_heldout, out_device='cuda' )\n",
        "heldout_reconstruct.shape"
      ]
    },
    {
      "cell_type": "markdown",
      "metadata": {
        "id": "jBCKk1FHo1uR"
      },
      "source": [
        "`compress_into_codes` finds the nearest centroid IDs to the token embeddings. It does so using cosine similarity:\n",
        "\n",
        "```python\n",
        "indices = (self.centroids @ batch.T.cuda().half()).max(dim=0).indices.to(device=out_device)\n",
        "```"
      ]
    },
    {
      "cell_type": "code",
      "execution_count": 79,
      "metadata": {
        "colab": {
          "base_uri": "https://localhost:8080/"
        },
        "id": "cXgOguUNoztr",
        "outputId": "7d386c67-5697-4b06-bc60-3016a5268171"
      },
      "outputs": [
        {
          "data": {
            "text/plain": [
              "tensor([633, 667, 738, 641, 443], device='cuda:0')"
            ]
          },
          "execution_count": 79,
          "metadata": {},
          "output_type": "execute_result"
        }
      ],
      "source": [
        "heldout_reconstruct[:5]"
      ]
    },
    {
      "cell_type": "markdown",
      "metadata": {
        "id": "vDEqoJyCpIa-"
      },
      "source": [
        "`lookup_centroids` gets the full vectors related to the centroid IDs in `heldout_reconstruct`"
      ]
    },
    {
      "cell_type": "code",
      "execution_count": 80,
      "metadata": {
        "colab": {
          "base_uri": "https://localhost:8080/"
        },
        "id": "vAsyacOzoxXJ",
        "outputId": "1828d155-c7d2-49d6-ee0b-bf28088fed2f"
      },
      "outputs": [
        {
          "data": {
            "text/plain": [
              "torch.Size([759, 96])"
            ]
          },
          "execution_count": 80,
          "metadata": {},
          "output_type": "execute_result"
        }
      ],
      "source": [
        "heldout_reconstruct = compressor.lookup_centroids(heldout_reconstruct, out_device='cuda')\n",
        "heldout_reconstruct.shape"
      ]
    },
    {
      "cell_type": "markdown",
      "metadata": {
        "id": "EWg-N8skpQO-"
      },
      "source": [
        "The residual between the heldout token embeddings and the closest centroids is then calculated:"
      ]
    },
    {
      "cell_type": "code",
      "execution_count": 81,
      "metadata": {
        "colab": {
          "base_uri": "https://localhost:8080/"
        },
        "id": "iHYwalAOpUbG",
        "outputId": "fa4c97ef-1b38-47cb-e495-71769187250b"
      },
      "outputs": [
        {
          "data": {
            "text/plain": [
              "torch.Size([759, 96])"
            ]
          },
          "execution_count": 81,
          "metadata": {},
          "output_type": "execute_result"
        }
      ],
      "source": [
        "heldout_avg_residual = sample_heldout.cuda() - heldout_reconstruct\n",
        "heldout_avg_residual.shape"
      ]
    },
    {
      "cell_type": "markdown",
      "metadata": {
        "id": "ZMdzxrUfoaR4"
      },
      "source": [
        "We then calculate the average residual vector (96 dimensions):"
      ]
    },
    {
      "cell_type": "code",
      "execution_count": 82,
      "metadata": {
        "colab": {
          "base_uri": "https://localhost:8080/"
        },
        "id": "2m-tNbjvpdzc",
        "outputId": "1abb38ee-908f-4466-ee55-18874f0cf623"
      },
      "outputs": [
        {
          "data": {
            "text/plain": [
              "torch.Size([96])"
            ]
          },
          "execution_count": 82,
          "metadata": {},
          "output_type": "execute_result"
        }
      ],
      "source": [
        "avg_residual = torch.abs(heldout_avg_residual).mean(dim=0).cpu()\n",
        "avg_residual.shape"
      ]
    },
    {
      "cell_type": "markdown",
      "metadata": {
        "id": "GiLzOzMspwTk"
      },
      "source": [
        "The average residual is somewhat similar to the stored value in avg_residual.pt."
      ]
    },
    {
      "cell_type": "code",
      "execution_count": 83,
      "metadata": {
        "colab": {
          "base_uri": "https://localhost:8080/"
        },
        "id": "pnbzfYnppfTF",
        "outputId": "9851ccd2-9b46-4391-ca49-60e73eb9143b"
      },
      "outputs": [
        {
          "data": {
            "text/plain": [
              "(tensor(0.0150, device='cuda:0', dtype=torch.float16),\n",
              " tensor(0.0158, dtype=torch.float16))"
            ]
          },
          "execution_count": 83,
          "metadata": {},
          "output_type": "execute_result"
        }
      ],
      "source": [
        "_avg_residual, avg_residual.mean()"
      ]
    },
    {
      "cell_type": "markdown",
      "metadata": {
        "id": "hHmj8TzaqKJ6"
      },
      "source": [
        "To match the `RAG.index` defaults, I'm going to set `nbits` to 4."
      ]
    },
    {
      "cell_type": "code",
      "execution_count": 84,
      "metadata": {
        "colab": {
          "base_uri": "https://localhost:8080/"
        },
        "id": "yKWUhHVfqN_j",
        "outputId": "d40f05df-3a4a-49ea-d2d3-c95a13fe8f05"
      },
      "outputs": [
        {
          "data": {
            "text/plain": [
              "1"
            ]
          },
          "execution_count": 84,
          "metadata": {},
          "output_type": "execute_result"
        }
      ],
      "source": [
        "config.nbits"
      ]
    },
    {
      "cell_type": "code",
      "execution_count": 85,
      "metadata": {
        "colab": {
          "base_uri": "https://localhost:8080/"
        },
        "id": "XQzJica9qPaU",
        "outputId": "b221b665-e69d-4f60-d7bf-e103bc4f07ea"
      },
      "outputs": [
        {
          "data": {
            "text/plain": [
              "4"
            ]
          },
          "execution_count": 85,
          "metadata": {},
          "output_type": "execute_result"
        }
      ],
      "source": [
        "config.nbits = 4\n",
        "config.nbits"
      ]
    },
    {
      "cell_type": "code",
      "execution_count": 86,
      "metadata": {
        "colab": {
          "base_uri": "https://localhost:8080/"
        },
        "id": "JKz-iGnwpvme",
        "outputId": "caa9c096-c212-4d1d-c2fc-5dc98b08f134"
      },
      "outputs": [
        {
          "data": {
            "text/plain": [
              "(4, 16)"
            ]
          },
          "execution_count": 86,
          "metadata": {},
          "output_type": "execute_result"
        }
      ],
      "source": [
        "num_options = 2 ** config.nbits\n",
        "config.nbits, num_options"
      ]
    },
    {
      "cell_type": "markdown",
      "metadata": {
        "id": "knJFuLQvqZMW"
      },
      "source": [
        "A 4-bit value has four 0 or 1 values and there are 16 possible combinations:\n",
        "\n",
        "| Binary |\n",
        "|--------|\n",
        "| 0000   |\n",
        "| 0001   |\n",
        "| 0010   |\n",
        "| 0011   |\n",
        "| 0100   |\n",
        "| 0101   |\n",
        "| 0110   |\n",
        "| 0111   |\n",
        "| 1000   |\n",
        "| 1001   |\n",
        "| 1010   |\n",
        "| 1011   |\n",
        "| 1100   |\n",
        "| 1101   |\n",
        "| 1110   |\n",
        "| 1111   |\n"
      ]
    },
    {
      "cell_type": "markdown",
      "metadata": {
        "id": "LWq6KLSZrBSE"
      },
      "source": [
        "We split 0-to-1 into 16 equal parts:"
      ]
    },
    {
      "cell_type": "code",
      "execution_count": 87,
      "metadata": {
        "colab": {
          "base_uri": "https://localhost:8080/"
        },
        "id": "wM1G9tHjqArI",
        "outputId": "d7e5088e-a9a2-4bf2-ef43-6cd89420cbbb"
      },
      "outputs": [
        {
          "data": {
            "text/plain": [
              "(torch.Size([16]),\n",
              " tensor([0.0000, 0.0625, 0.1250, 0.1875, 0.2500, 0.3125, 0.3750, 0.4375, 0.5000,\n",
              "         0.5625, 0.6250, 0.6875, 0.7500, 0.8125, 0.8750, 0.9375],\n",
              "        device='cuda:0'))"
            ]
          },
          "execution_count": 87,
          "metadata": {},
          "output_type": "execute_result"
        }
      ],
      "source": [
        "quantiles = torch.arange(0, num_options, device=heldout_avg_residual.device) * (1 / num_options)\n",
        "quantiles.shape, quantiles"
      ]
    },
    {
      "cell_type": "code",
      "execution_count": 88,
      "metadata": {
        "colab": {
          "base_uri": "https://localhost:8080/"
        },
        "id": "_f4NfOrmq_p3",
        "outputId": "aad0ff4d-d8f5-490c-8ab5-ea569284ecb7"
      },
      "outputs": [
        {
          "data": {
            "text/plain": [
              "(tensor([0.0625, 0.1250, 0.1875, 0.2500, 0.3125, 0.3750, 0.4375, 0.5000, 0.5625,\n",
              "         0.6250, 0.6875, 0.7500, 0.8125, 0.8750, 0.9375], device='cuda:0'),\n",
              " tensor([0.0312, 0.0938, 0.1562, 0.2188, 0.2812, 0.3438, 0.4062, 0.4688, 0.5312,\n",
              "         0.5938, 0.6562, 0.7188, 0.7812, 0.8438, 0.9062, 0.9688],\n",
              "        device='cuda:0'))"
            ]
          },
          "execution_count": 88,
          "metadata": {},
          "output_type": "execute_result"
        }
      ],
      "source": [
        "bucket_cutoffs_quantiles, bucket_weights_quantiles = quantiles[1:], quantiles + (0.5 / num_options)\n",
        "bucket_cutoffs_quantiles, bucket_weights_quantiles"
      ]
    },
    {
      "cell_type": "markdown",
      "metadata": {
        "id": "Gzw13RM0rrYB"
      },
      "source": [
        "IIUC, the weights' quantiles are the midpoints between adjacent cutoffs' quantiles."
      ]
    },
    {
      "cell_type": "code",
      "execution_count": 89,
      "metadata": {
        "colab": {
          "base_uri": "https://localhost:8080/"
        },
        "id": "w32upCrcrS1Y",
        "outputId": "91a23e13-086b-4777-aa6f-a9f5b246825f"
      },
      "outputs": [
        {
          "data": {
            "text/plain": [
              "tensor(0.1562, device='cuda:0')"
            ]
          },
          "execution_count": 89,
          "metadata": {},
          "output_type": "execute_result"
        }
      ],
      "source": [
        "(bucket_cutoffs_quantiles[1] + bucket_cutoffs_quantiles[2])/2"
      ]
    },
    {
      "cell_type": "code",
      "execution_count": 90,
      "metadata": {
        "colab": {
          "base_uri": "https://localhost:8080/"
        },
        "id": "V-YPxXt1r1Tz",
        "outputId": "e84a2eef-9e00-4ba8-c455-645783076de1"
      },
      "outputs": [
        {
          "data": {
            "text/plain": [
              "tensor(0.2812, device='cuda:0')"
            ]
          },
          "execution_count": 90,
          "metadata": {},
          "output_type": "execute_result"
        }
      ],
      "source": [
        "(bucket_cutoffs_quantiles[3] + bucket_cutoffs_quantiles[4])/2"
      ]
    },
    {
      "cell_type": "code",
      "execution_count": 91,
      "metadata": {
        "colab": {
          "base_uri": "https://localhost:8080/"
        },
        "id": "O2kUkzwfr4wu",
        "outputId": "770906cf-1692-4c8a-c273-26905182aeac"
      },
      "outputs": [
        {
          "data": {
            "text/plain": [
              "tensor(0.9062, device='cuda:0')"
            ]
          },
          "execution_count": 91,
          "metadata": {},
          "output_type": "execute_result"
        }
      ],
      "source": [
        "(bucket_cutoffs_quantiles[-2] + bucket_cutoffs_quantiles[-1])/2"
      ]
    },
    {
      "cell_type": "code",
      "execution_count": 92,
      "metadata": {
        "id": "n78XwWwWr9Lr"
      },
      "outputs": [],
      "source": [
        "bucket_cutoffs = heldout_avg_residual.float().quantile(bucket_cutoffs_quantiles)\n",
        "bucket_weights = heldout_avg_residual.float().quantile(bucket_weights_quantiles)"
      ]
    },
    {
      "cell_type": "markdown",
      "metadata": {
        "id": "slbR5zHotbZl"
      },
      "source": [
        "IIUC, `bucket_cutoffs` are the values with which we can group our (flattened) `heldout_avg_residual`s into 16 equal groups. Visualized here by setting the bins to `bucket_cutoffs`."
      ]
    },
    {
      "cell_type": "code",
      "execution_count": 93,
      "metadata": {
        "colab": {
          "base_uri": "https://localhost:8080/",
          "height": 430
        },
        "id": "M739YzTVsZ9_",
        "outputId": "a25d3724-e9fe-4ba8-f0e4-07621a74e7c3"
      },
      "outputs": [
        {
          "data": {
            "image/png": "[encoded data removed]",
            "text/plain": [
              "<Figure size 640x480 with 1 Axes>"
            ]
          },
          "metadata": {},
          "output_type": "display_data"
        }
      ],
      "source": [
        "pd.Series(heldout_avg_residual.flatten().cpu()).hist(bins=bucket_cutoffs.cpu())\n",
        "plt.xlim([-0.035, 0.035])\n",
        "plt.show()"
      ]
    },
    {
      "cell_type": "markdown",
      "metadata": {
        "id": "OJgUOMDGuI6j"
      },
      "source": [
        "Perhaps due to randomness during the sample split, my manually calculated cutoffs are not quite the same as the `RAG.index` values."
      ]
    },
    {
      "cell_type": "code",
      "execution_count": 94,
      "metadata": {
        "colab": {
          "base_uri": "https://localhost:8080/"
        },
        "id": "PDvvUDMltHeq",
        "outputId": "51ca7346-ac8f-43dd-aad1-4cd0e1d4885e"
      },
      "outputs": [
        {
          "data": {
            "text/plain": [
              "tensor([-0.0322, -0.0219, -0.0156, -0.0108, -0.0070, -0.0040, -0.0017,  0.0000,\n",
              "         0.0019,  0.0042,  0.0071,  0.0108,  0.0155,  0.0220,  0.0327],\n",
              "       device='cuda:0')"
            ]
          },
          "execution_count": 94,
          "metadata": {},
          "output_type": "execute_result"
        }
      ],
      "source": [
        "bucket_cutoffs"
      ]
    },
    {
      "cell_type": "code",
      "execution_count": 95,
      "metadata": {
        "colab": {
          "base_uri": "https://localhost:8080/"
        },
        "id": "nf-8DE8UuDsG",
        "outputId": "ff1b5563-7c6b-48d7-8d25-c2742fca0614"
      },
      "outputs": [
        {
          "data": {
            "text/plain": [
              "tensor([-0.0307, -0.0205, -0.0146, -0.0099, -0.0064, -0.0037, -0.0016,  0.0000,\n",
              "         0.0017,  0.0038,  0.0066,  0.0102,  0.0150,  0.0211,  0.0313],\n",
              "       device='cuda:0')"
            ]
          },
          "execution_count": 95,
          "metadata": {},
          "output_type": "execute_result"
        }
      ],
      "source": [
        "_bucket_cutoffs"
      ]
    },
    {
      "cell_type": "code",
      "execution_count": 96,
      "metadata": {
        "colab": {
          "base_uri": "https://localhost:8080/"
        },
        "id": "srjB4Qu1tm6Q",
        "outputId": "0bbd9adb-7d24-49d1-ae17-80ea28e16e61"
      },
      "outputs": [
        {
          "data": {
            "text/plain": [
              "tensor([-0.0434, -0.0261, -0.0185, -0.0131, -0.0088, -0.0054, -0.0028, -0.0009,\n",
              "         0.0009,  0.0029,  0.0055,  0.0088,  0.0130,  0.0184,  0.0262,  0.0441],\n",
              "       device='cuda:0')"
            ]
          },
          "execution_count": 96,
          "metadata": {},
          "output_type": "execute_result"
        }
      ],
      "source": [
        "bucket_weights"
      ]
    },
    {
      "cell_type": "code",
      "execution_count": 97,
      "metadata": {
        "colab": {
          "base_uri": "https://localhost:8080/"
        },
        "id": "49jUs0HZuG6y",
        "outputId": "8eed6fed-a09a-4a78-d340-2deaeb08189b"
      },
      "outputs": [
        {
          "data": {
            "text/plain": [
              "tensor([-0.0411, -0.0247, -0.0173, -0.0121, -0.0081, -0.0050, -0.0026, -0.0007,\n",
              "         0.0007,  0.0027,  0.0052,  0.0083,  0.0124,  0.0178,  0.0253,  0.0421],\n",
              "       device='cuda:0', dtype=torch.float16)"
            ]
          },
          "execution_count": 97,
          "metadata": {},
          "output_type": "execute_result"
        }
      ],
      "source": [
        "_bucket_weights"
      ]
    },
    {
      "cell_type": "markdown",
      "metadata": {
        "id": "P5-NtY5Gt1Zw"
      },
      "source": [
        "There seems to be some rounding differences (or perhaps it depends on the distribution?) but the weights again seem to be the midpoints-ish between the cutoffs."
      ]
    },
    {
      "cell_type": "code",
      "execution_count": 98,
      "metadata": {
        "colab": {
          "base_uri": "https://localhost:8080/"
        },
        "id": "loQyBURdsTQf",
        "outputId": "fae360c9-59e9-4c91-84b1-5282a62c4dd8"
      },
      "outputs": [
        {
          "data": {
            "text/plain": [
              "tensor(-0.0270, device='cuda:0')"
            ]
          },
          "execution_count": 98,
          "metadata": {},
          "output_type": "execute_result"
        }
      ],
      "source": [
        "(bucket_cutoffs[0] + bucket_cutoffs[1])/2"
      ]
    },
    {
      "cell_type": "code",
      "execution_count": 99,
      "metadata": {
        "colab": {
          "base_uri": "https://localhost:8080/"
        },
        "id": "UGmLU8GYtykg",
        "outputId": "0ce69033-621e-4ed5-ebee-c03c57bf4ee1"
      },
      "outputs": [
        {
          "data": {
            "text/plain": [
              "tensor(-0.0089, device='cuda:0')"
            ]
          },
          "execution_count": 99,
          "metadata": {},
          "output_type": "execute_result"
        }
      ],
      "source": [
        "(bucket_cutoffs[3] + bucket_cutoffs[4])/2"
      ]
    },
    {
      "cell_type": "code",
      "execution_count": 100,
      "metadata": {
        "colab": {
          "base_uri": "https://localhost:8080/"
        },
        "id": "rcw6afrMt-l9",
        "outputId": "228f1503-ef60-4224-fb95-34e25c4540f0"
      },
      "outputs": [
        {
          "data": {
            "text/plain": [
              "tensor(0.0273, device='cuda:0')"
            ]
          },
          "execution_count": 100,
          "metadata": {},
          "output_type": "execute_result"
        }
      ],
      "source": [
        "(bucket_cutoffs[-2] + bucket_cutoffs[-1])/2"
      ]
    },
    {
      "cell_type": "markdown",
      "metadata": {
        "id": "IMv98-tLIuzH"
      },
      "source": [
        "## CollectionIndexer.index"
      ]
    },
    {
      "cell_type": "markdown",
      "metadata": {
        "id": "9Xu1fNMfIw3X"
      },
      "source": [
        "Thus far we have found centroids from a sample of our token embeddings (5%, or 759) and calculated bucket cutoffs and bucket weights for quantization. We also know what the average residual mean value is.\n",
        "\n",
        "Now we find the closest centroids and residuals for all passages' token embeddings, starting first by encoding all 15198 tokens with our model:"
      ]
    },
    {
      "cell_type": "code",
      "execution_count": 101,
      "metadata": {
        "colab": {
          "base_uri": "https://localhost:8080/"
        },
        "id": "zIm25F-FuAQp",
        "outputId": "dbfd1e50-465c-4ec6-85f8-d9e4cc6050c9"
      },
      "outputs": [
        {
          "name": "stdout",
          "output_type": "stream",
          "text": [
            "[Mar 13, 01:18:21] [0] \t\t #> Encoding 1000 passages..\n"
          ]
        },
        {
          "name": "stderr",
          "output_type": "stream",
          "text": [
            "/usr/local/lib/python3.11/dist-packages/colbert/utils/amp.py:15: FutureWarning: `torch.cuda.amp.autocast(args...)` is deprecated. Please use `torch.amp.autocast('cuda', args...)` instead.\n",
            "  return torch.cuda.amp.autocast() if self.activated else NullContextManager()\n"
          ]
        },
        {
          "data": {
            "text/plain": [
              "(torch.Size([15198, 96]), 1000, [4, 20, 18, 23, 8])"
            ]
          },
          "execution_count": 101,
          "metadata": {},
          "output_type": "execute_result"
        }
      ],
      "source": [
        "embs, doclens = encoder.encode_passages(collection)\n",
        "embs.shape, len(doclens), doclens[:5]"
      ]
    },
    {
      "cell_type": "markdown",
      "metadata": {
        "id": "gkt67eviKPL6"
      },
      "source": [
        "Then we call `save_chunk` which is inside the [`IndexSaver`](https://github.com/stanford-futuredata/ColBERT/blob/7067ef598b5011edaa1f4a731a2c269dbac864e4/colbert/indexing/index_saver.py#L70) within which some interesting things take place:\n",
        "\n",
        "```python\n",
        "def save_chunk(self, chunk_idx, offset, embs, doclens):\n",
        "        compressed_embs = self.codec.compress(embs)\n",
        "```\n",
        "\n",
        "Looking into `ResidualCodec.compress`:\n",
        "\n",
        "```python\n",
        "def compress(self, embs):\n",
        "        codes, residuals = [], []\n",
        "\n",
        "        for batch in embs.split(1 << 18):\n",
        "            if self.use_gpu:\n",
        "                batch = batch.cuda().half()\n",
        "            codes_ = self.compress_into_codes(batch, out_device=batch.device)\n",
        "            centroids_ = self.lookup_centroids(codes_, out_device=batch.device)\n",
        "\n",
        "            residuals_ = (batch - centroids_)\n",
        "\n",
        "            codes.append(codes_.cpu())\n",
        "            residuals.append(self.binarize(residuals_).cpu())\n",
        "\n",
        "        codes = torch.cat(codes)\n",
        "        residuals = torch.cat(residuals)\n",
        "\n",
        "        return ResidualCodec.Embeddings(codes, residuals)\n",
        "```"
      ]
    },
    {
      "cell_type": "markdown",
      "metadata": {
        "id": "BkNRLh4PK6wz"
      },
      "source": [
        "We've seen `compress_into_codes` and `lookup_centroids` before:"
      ]
    },
    {
      "cell_type": "code",
      "execution_count": 102,
      "metadata": {
        "colab": {
          "base_uri": "https://localhost:8080/"
        },
        "id": "RmTh_o1kJ0hU",
        "outputId": "82757a39-cced-4d5c-c8c3-f758c840585d"
      },
      "outputs": [
        {
          "data": {
            "text/plain": [
              "torch.Size([15198])"
            ]
          },
          "execution_count": 102,
          "metadata": {},
          "output_type": "execute_result"
        }
      ],
      "source": [
        "codes_ = compressor.compress_into_codes(embs, out_device='cuda')\n",
        "codes_.shape"
      ]
    },
    {
      "cell_type": "markdown",
      "metadata": {
        "id": "U0wZm3iXLTjx"
      },
      "source": [
        "These codes are the centroids ID closest to each token embeddings."
      ]
    },
    {
      "cell_type": "code",
      "execution_count": 103,
      "metadata": {
        "colab": {
          "base_uri": "https://localhost:8080/"
        },
        "id": "o9x9EAwWLE2A",
        "outputId": "63da570e-358e-43bd-88c2-f0b1a74b801c"
      },
      "outputs": [
        {
          "data": {
            "text/plain": [
              "tensor([654, 843, 401, 654, 926], device='cuda:0')"
            ]
          },
          "execution_count": 103,
          "metadata": {},
          "output_type": "execute_result"
        }
      ],
      "source": [
        "codes_[:5]"
      ]
    },
    {
      "cell_type": "markdown",
      "metadata": {
        "id": "dQVy_dg6Lh0j"
      },
      "source": [
        "We then get those 15198 centroid vectors:"
      ]
    },
    {
      "cell_type": "code",
      "execution_count": 104,
      "metadata": {
        "colab": {
          "base_uri": "https://localhost:8080/"
        },
        "id": "pPwdK9wwLS7C",
        "outputId": "fda18ac7-ee33-4d4f-ec04-9528e2453ce3"
      },
      "outputs": [
        {
          "data": {
            "text/plain": [
              "torch.Size([15198, 96])"
            ]
          },
          "execution_count": 104,
          "metadata": {},
          "output_type": "execute_result"
        }
      ],
      "source": [
        "centroids_ = compressor.lookup_centroids(codes_, out_device='cuda')\n",
        "centroids_.shape"
      ]
    },
    {
      "cell_type": "markdown",
      "metadata": {
        "id": "_jwlyvJPL6zG"
      },
      "source": [
        "A reminder that our centroids and our token embeddings are unit vectors:"
      ]
    },
    {
      "cell_type": "code",
      "execution_count": 105,
      "metadata": {
        "colab": {
          "base_uri": "https://localhost:8080/"
        },
        "id": "93H9fZzjL498",
        "outputId": "b1543905-9715-4783-b3be-e13eb3094026"
      },
      "outputs": [
        {
          "data": {
            "text/plain": [
              "(tensor(1., device='cuda:0', dtype=torch.float16),\n",
              " tensor(1., dtype=torch.float16))"
            ]
          },
          "execution_count": 105,
          "metadata": {},
          "output_type": "execute_result"
        }
      ],
      "source": [
        "centroids_[0].norm(), embs[0].norm()"
      ]
    },
    {
      "cell_type": "markdown",
      "metadata": {
        "id": "XAWjtFDqLvKo"
      },
      "source": [
        "We then find the residuals between token embeddings and centroids:"
      ]
    },
    {
      "cell_type": "code",
      "execution_count": 106,
      "metadata": {
        "colab": {
          "base_uri": "https://localhost:8080/"
        },
        "id": "CYgfGp2ALyCN",
        "outputId": "a5dda6a8-5743-4fd3-9b0d-36917f21a02e"
      },
      "outputs": [
        {
          "data": {
            "text/plain": [
              "torch.Size([15198, 96])"
            ]
          },
          "execution_count": 106,
          "metadata": {},
          "output_type": "execute_result"
        }
      ],
      "source": [
        "residuals_ = (embs.cpu() - centroids_.cpu())\n",
        "residuals_.shape"
      ]
    },
    {
      "cell_type": "markdown",
      "metadata": {
        "id": "b9Gc0O8eLmBD"
      },
      "source": [
        "The next piece is _super cool_. We `binarize` the residuals, starting by using `bucketize`:"
      ]
    },
    {
      "cell_type": "code",
      "execution_count": 107,
      "metadata": {
        "colab": {
          "base_uri": "https://localhost:8080/"
        },
        "id": "Wy6IFn0kLetD",
        "outputId": "e860a0ef-35b7-4d10-8336-2a3ea3e6bd72"
      },
      "outputs": [
        {
          "data": {
            "text/plain": [
              "torch.Size([15198, 96])"
            ]
          },
          "execution_count": 107,
          "metadata": {},
          "output_type": "execute_result"
        }
      ],
      "source": [
        "residuals = torch.bucketize(residuals_.float().cpu(), bucket_cutoffs.cpu()).to(dtype=torch.uint8)\n",
        "residuals.shape"
      ]
    },
    {
      "cell_type": "code",
      "execution_count": 108,
      "metadata": {
        "colab": {
          "base_uri": "https://localhost:8080/"
        },
        "id": "wIAPYMa3MgpO",
        "outputId": "e7f706cd-4b35-4663-9d89-d7de3d093130"
      },
      "outputs": [
        {
          "data": {
            "text/plain": [
              "tensor([8, 7, 7, 8, 7], dtype=torch.uint8)"
            ]
          },
          "execution_count": 108,
          "metadata": {},
          "output_type": "execute_result"
        }
      ],
      "source": [
        "residuals[0][:5]"
      ]
    },
    {
      "cell_type": "code",
      "execution_count": 109,
      "metadata": {
        "colab": {
          "base_uri": "https://localhost:8080/"
        },
        "id": "5JL1ffDyMpBA",
        "outputId": "dd9263e6-caaf-48ac-a88f-19c118c8e13b"
      },
      "outputs": [
        {
          "data": {
            "text/plain": [
              "tensor([6.1035e-05, 0.0000e+00, 0.0000e+00, 1.9073e-06, 0.0000e+00],\n",
              "       dtype=torch.float16)"
            ]
          },
          "execution_count": 109,
          "metadata": {},
          "output_type": "execute_result"
        }
      ],
      "source": [
        "residuals_[0][:5]"
      ]
    },
    {
      "cell_type": "code",
      "execution_count": 144,
      "metadata": {
        "colab": {
          "base_uri": "https://localhost:8080/"
        },
        "id": "xvxiD6jRRYIa",
        "outputId": "a952ad43-2fc7-4847-c66d-998ff667af2e"
      },
      "outputs": [
        {
          "data": {
            "text/plain": [
              "tensor([ 0.0234, -0.0100,  0.0046, -0.0078, -0.0111,  0.0249, -0.0081, -0.0048,\n",
              "         0.0270,  0.0037], dtype=torch.float16)"
            ]
          },
          "execution_count": 144,
          "metadata": {},
          "output_type": "execute_result"
        }
      ],
      "source": [
        "residuals_[1][10:20]"
      ]
    },
    {
      "cell_type": "code",
      "execution_count": 110,
      "metadata": {
        "colab": {
          "base_uri": "https://localhost:8080/"
        },
        "id": "swkTfybKM0EH",
        "outputId": "5bbaf19f-fb73-4ba3-98a8-2f0869a7cad8"
      },
      "outputs": [
        {
          "data": {
            "text/plain": [
              "tensor([-0.0017,  0.0000,  0.0019,  0.0042], device='cuda:0')"
            ]
          },
          "execution_count": 110,
          "metadata": {},
          "output_type": "execute_result"
        }
      ],
      "source": [
        "bucket_cutoffs[6:10]"
      ]
    },
    {
      "cell_type": "code",
      "execution_count": 111,
      "metadata": {
        "colab": {
          "base_uri": "https://localhost:8080/"
        },
        "id": "iqVDDLkfMlwo",
        "outputId": "6e97f8aa-771d-4d69-df7a-50648e37149f"
      },
      "outputs": [
        {
          "data": {
            "text/plain": [
              "(tensor(0, dtype=torch.uint8), tensor(15, dtype=torch.uint8))"
            ]
          },
          "execution_count": 111,
          "metadata": {},
          "output_type": "execute_result"
        }
      ],
      "source": [
        "residuals.min(), residuals.max()"
      ]
    },
    {
      "cell_type": "markdown",
      "metadata": {
        "id": "CzeHLZYRMp4b"
      },
      "source": [
        "The values of `residuals` are now the ID (indices) of the buckets that the residual values fall into!"
      ]
    },
    {
      "cell_type": "code",
      "execution_count": 112,
      "metadata": {
        "colab": {
          "base_uri": "https://localhost:8080/"
        },
        "id": "9xEGMiLrMzB_",
        "outputId": "f379c67e-3051-4a0e-9d35-33c033a39828"
      },
      "outputs": [
        {
          "data": {
            "text/plain": [
              "torch.Size([15198, 96, 4])"
            ]
          },
          "execution_count": 112,
          "metadata": {},
          "output_type": "execute_result"
        }
      ],
      "source": [
        "residuals = residuals.unsqueeze(-1).expand(*residuals.size(), config.nbits)\n",
        "residuals.shape"
      ]
    },
    {
      "cell_type": "markdown",
      "metadata": {
        "id": "k2uZFws2Nnd1"
      },
      "source": [
        "We add a space for 4-bits per residual."
      ]
    },
    {
      "cell_type": "code",
      "execution_count": 113,
      "metadata": {
        "colab": {
          "base_uri": "https://localhost:8080/"
        },
        "id": "JtCqa1eXNmdW",
        "outputId": "ebcfa0f0-782f-46d9-b050-0215c1833fb6"
      },
      "outputs": [
        {
          "data": {
            "text/plain": [
              "tensor([0, 1, 2, 3], device='cuda:0', dtype=torch.uint8)"
            ]
          },
          "execution_count": 113,
          "metadata": {},
          "output_type": "execute_result"
        }
      ],
      "source": [
        "arange_bits = torch.arange(0, config.nbits, device='cuda', dtype=torch.uint8)\n",
        "arange_bits"
      ]
    },
    {
      "cell_type": "code",
      "execution_count": 114,
      "metadata": {
        "colab": {
          "base_uri": "https://localhost:8080/"
        },
        "id": "ltMBbV2yNxM-",
        "outputId": "a9d88007-2fc8-4d6f-847a-0b6635666954"
      },
      "outputs": [
        {
          "data": {
            "text/plain": [
              "torch.Size([15198, 96, 4])"
            ]
          },
          "execution_count": 114,
          "metadata": {},
          "output_type": "execute_result"
        }
      ],
      "source": [
        "residuals = residuals.cpu() >> arange_bits.cpu()\n",
        "residuals.shape"
      ]
    },
    {
      "cell_type": "code",
      "execution_count": 115,
      "metadata": {
        "colab": {
          "base_uri": "https://localhost:8080/"
        },
        "id": "KpaeJD3OOAbd",
        "outputId": "ef3c7ef7-9a30-462a-90ae-a617cf11e584"
      },
      "outputs": [
        {
          "data": {
            "text/plain": [
              "tensor([[8, 4, 2, 1],\n",
              "        [7, 3, 1, 0],\n",
              "        [7, 3, 1, 0],\n",
              "        [8, 4, 2, 1],\n",
              "        [7, 3, 1, 0]], dtype=torch.uint8)"
            ]
          },
          "execution_count": 115,
          "metadata": {},
          "output_type": "execute_result"
        }
      ],
      "source": [
        "residuals[0][:5]"
      ]
    },
    {
      "cell_type": "code",
      "execution_count": 116,
      "metadata": {
        "id": "3g7TIfrxOEan"
      },
      "outputs": [],
      "source": [
        "residuals = residuals & 1"
      ]
    },
    {
      "cell_type": "code",
      "execution_count": 117,
      "metadata": {
        "colab": {
          "base_uri": "https://localhost:8080/"
        },
        "id": "mRvwMcmfOUA3",
        "outputId": "49ffdff1-767f-4e6d-e76c-7d224a302255"
      },
      "outputs": [
        {
          "data": {
            "text/plain": [
              "tensor([[0, 0, 0, 1],\n",
              "        [1, 1, 1, 0],\n",
              "        [1, 1, 1, 0],\n",
              "        [0, 0, 0, 1],\n",
              "        [1, 1, 1, 0]], dtype=torch.uint8)"
            ]
          },
          "execution_count": 117,
          "metadata": {},
          "output_type": "execute_result"
        }
      ],
      "source": [
        "residuals[0][:5]"
      ]
    },
    {
      "cell_type": "markdown",
      "metadata": {
        "id": "i8kbUO7fOZEJ"
      },
      "source": [
        "We have now converted the bucket ID into the actual 4-bit binary value it represents."
      ]
    },
    {
      "cell_type": "code",
      "execution_count": 118,
      "metadata": {
        "colab": {
          "base_uri": "https://localhost:8080/"
        },
        "id": "3uYI3a90OUTh",
        "outputId": "3570c048-cb9b-4262-87e9-07ee6275be44"
      },
      "outputs": [
        {
          "data": {
            "text/plain": [
              "torch.Size([15198, 48])"
            ]
          },
          "execution_count": 118,
          "metadata": {},
          "output_type": "execute_result"
        }
      ],
      "source": [
        "residuals_packed = np.packbits(np.asarray(residuals.contiguous().flatten()))\n",
        "residuals_packed = torch.as_tensor(residuals_packed, dtype=torch.uint8)\n",
        "residuals_packed = residuals_packed.reshape(residuals.size(0), config.dim // 8 * config.nbits)\n",
        "residuals_packed.shape"
      ]
    },
    {
      "cell_type": "code",
      "execution_count": 119,
      "metadata": {
        "colab": {
          "base_uri": "https://localhost:8080/"
        },
        "id": "a-65yn3qOlhg",
        "outputId": "a627b3f7-5234-458e-cef0-c483e854316a"
      },
      "outputs": [
        {
          "data": {
            "text/plain": [
              "tensor([ 30, 225, 225, 238, 238], dtype=torch.uint8)"
            ]
          },
          "execution_count": 119,
          "metadata": {},
          "output_type": "execute_result"
        }
      ],
      "source": [
        "residuals_packed[0][:5]"
      ]
    },
    {
      "cell_type": "code",
      "execution_count": 120,
      "metadata": {
        "colab": {
          "base_uri": "https://localhost:8080/",
          "height": 35
        },
        "id": "MtKhQ8sdOtde",
        "outputId": "68dcabcf-bddb-4463-b81e-8168b29a1fba"
      },
      "outputs": [
        {
          "data": {
            "application/vnd.google.colaboratory.intrinsic+json": {
              "type": "string"
            },
            "text/plain": [
              "'30 in binary: 00011110'"
            ]
          },
          "execution_count": 120,
          "metadata": {},
          "output_type": "execute_result"
        }
      ],
      "source": [
        "f\"30 in binary: {bin(30)[2:].zfill(8)}\""
      ]
    },
    {
      "cell_type": "markdown",
      "metadata": {
        "id": "UXWMk6OJPYRY"
      },
      "source": [
        "For each residual vector with 96 values, each value is represented with 4-bits (e.g. 0, 0, 0, 1). Every 8 bits are stored into an integer (e.g. 0001 and 1110 concatenate to become the integer 30) so we have cut the number of values in half (from 96 to 48)."
      ]
    },
    {
      "cell_type": "markdown",
      "metadata": {
        "id": "um25PED3pN2A"
      },
      "source": [
        "These residuals would be stored in 0.residuals.pt."
      ]
    },
    {
      "cell_type": "markdown",
      "metadata": {
        "id": "GC5K_yE1Qxaw"
      },
      "source": [
        "### _build_ivf"
      ]
    },
    {
      "cell_type": "markdown",
      "metadata": {
        "id": "TjOuaZeLRRYl"
      },
      "source": [
        "This is a critical piece---the mapping between passages and centroids!"
      ]
    },
    {
      "cell_type": "code",
      "execution_count": 121,
      "metadata": {
        "id": "psPS8MymRF-8"
      },
      "outputs": [],
      "source": [
        "codes = codes_.sort()\n",
        "ivf, values = codes.indices, codes.values"
      ]
    },
    {
      "cell_type": "markdown",
      "metadata": {
        "id": "-2-RDCXomYPa"
      },
      "source": [
        "Token embeddings IDs:"
      ]
    },
    {
      "cell_type": "code",
      "execution_count": 122,
      "metadata": {
        "colab": {
          "base_uri": "https://localhost:8080/"
        },
        "id": "HW1eRwzITwRw",
        "outputId": "0a8941c2-e96a-453a-ad35-687d6b05d7fa"
      },
      "outputs": [
        {
          "data": {
            "text/plain": [
              "tensor([  936,  1171,  2363,  ..., 12051, 12147, 12161], device='cuda:0')"
            ]
          },
          "execution_count": 122,
          "metadata": {},
          "output_type": "execute_result"
        }
      ],
      "source": [
        "ivf"
      ]
    },
    {
      "cell_type": "markdown",
      "metadata": {
        "id": "9yABM8rxmcs4"
      },
      "source": [
        "Centroid IDs:"
      ]
    },
    {
      "cell_type": "code",
      "execution_count": 123,
      "metadata": {
        "colab": {
          "base_uri": "https://localhost:8080/"
        },
        "id": "Z6ee1dAGTw1G",
        "outputId": "9c575499-74e7-437c-a7ec-3f6224bdace3"
      },
      "outputs": [
        {
          "data": {
            "text/plain": [
              "tensor([   0,    0,    0,  ..., 1023, 1023, 1023], device='cuda:0')"
            ]
          },
          "execution_count": 123,
          "metadata": {},
          "output_type": "execute_result"
        }
      ],
      "source": [
        "values"
      ]
    },
    {
      "cell_type": "code",
      "execution_count": 124,
      "metadata": {
        "colab": {
          "base_uri": "https://localhost:8080/"
        },
        "id": "GGLB-8RdUZA8",
        "outputId": "2625c9fd-341c-43fa-cc67-8cd42aab05b0"
      },
      "outputs": [
        {
          "data": {
            "text/plain": [
              "(torch.Size([15198]), torch.Size([15198]))"
            ]
          },
          "execution_count": 124,
          "metadata": {},
          "output_type": "execute_result"
        }
      ],
      "source": [
        "ivf.shape, values.shape"
      ]
    },
    {
      "cell_type": "markdown",
      "metadata": {
        "id": "S5D6rmutTzmW"
      },
      "source": [
        "`ivf` contains the token embedding ID (the indices of `codes_`) and `values` contains the centroid ID (the values of `codes_`)."
      ]
    },
    {
      "cell_type": "markdown",
      "metadata": {
        "id": "qtLRZKqDUQGj"
      },
      "source": [
        "We then get the number of tokens per centroid ID:"
      ]
    },
    {
      "cell_type": "code",
      "execution_count": 125,
      "metadata": {
        "colab": {
          "base_uri": "https://localhost:8080/"
        },
        "id": "EcSmyTyETyCd",
        "outputId": "c9f64c61-1c04-4218-fbe1-7ee963268021"
      },
      "outputs": [
        {
          "data": {
            "text/plain": [
              "tensor([10, 11, 17,  ..., 17,  9, 29], device='cuda:0')"
            ]
          },
          "execution_count": 125,
          "metadata": {},
          "output_type": "execute_result"
        }
      ],
      "source": [
        "ivf_lengths = torch.bincount(values, minlength=num_partitions)\n",
        "ivf_lengths"
      ]
    },
    {
      "cell_type": "code",
      "execution_count": 126,
      "metadata": {
        "colab": {
          "base_uri": "https://localhost:8080/"
        },
        "id": "KR44G_xhUVeh",
        "outputId": "cb4967d4-6fa5-46dc-9a60-1e2fce30a0a5"
      },
      "outputs": [
        {
          "data": {
            "text/plain": [
              "torch.Size([1024])"
            ]
          },
          "execution_count": 126,
          "metadata": {},
          "output_type": "execute_result"
        }
      ],
      "source": [
        "ivf_lengths.shape"
      ]
    },
    {
      "cell_type": "code",
      "execution_count": 127,
      "metadata": {
        "colab": {
          "base_uri": "https://localhost:8080/"
        },
        "id": "N7cRTPPkmguY",
        "outputId": "ab06f90b-3457-4c00-97f5-e332b495a3a7"
      },
      "outputs": [
        {
          "data": {
            "text/plain": [
              "tensor(15198, device='cuda:0')"
            ]
          },
          "execution_count": 127,
          "metadata": {},
          "output_type": "execute_result"
        }
      ],
      "source": [
        "ivf_lengths.sum()"
      ]
    },
    {
      "cell_type": "markdown",
      "metadata": {
        "id": "fqrRt8QgUcy9"
      },
      "source": [
        "### colbert/indexing/utils.py: optimize_ivf"
      ]
    },
    {
      "cell_type": "markdown",
      "metadata": {
        "id": "Id72nPa3U4-A"
      },
      "source": [
        "We have 1000 documents containing a total of 15198 tokens."
      ]
    },
    {
      "cell_type": "code",
      "execution_count": 128,
      "metadata": {
        "colab": {
          "base_uri": "https://localhost:8080/"
        },
        "id": "jjI1JSb_UXpn",
        "outputId": "36918e33-d687-4eb3-f114-0b0dfbc6ca7e"
      },
      "outputs": [
        {
          "data": {
            "text/plain": [
              "(1000, 15198)"
            ]
          },
          "execution_count": 128,
          "metadata": {},
          "output_type": "execute_result"
        }
      ],
      "source": [
        "total_num_embeddings = sum(doclens)\n",
        "len(doclens), total_num_embeddings"
      ]
    },
    {
      "cell_type": "markdown",
      "metadata": {
        "id": "-AMrL6x_U-g4"
      },
      "source": [
        "Instantiating an empty mapping between token embeddings IDs and passage IDs"
      ]
    },
    {
      "cell_type": "code",
      "execution_count": 129,
      "metadata": {
        "colab": {
          "base_uri": "https://localhost:8080/"
        },
        "id": "-oM6NRkGUrhE",
        "outputId": "349ec960-7935-41db-ead6-9b1e4d4f4175"
      },
      "outputs": [
        {
          "data": {
            "text/plain": [
              "torch.Size([15198])"
            ]
          },
          "execution_count": 129,
          "metadata": {},
          "output_type": "execute_result"
        }
      ],
      "source": [
        "emb2pid = torch.zeros(total_num_embeddings, dtype=torch.int)\n",
        "emb2pid.shape"
      ]
    },
    {
      "cell_type": "markdown",
      "metadata": {
        "id": "k0jRCgVgVN31"
      },
      "source": [
        "The indices of `doclens` are passage IDs `pid`. The values are the number of tokens in the document `dlength`."
      ]
    },
    {
      "cell_type": "code",
      "execution_count": 130,
      "metadata": {
        "id": "830Q-MYlVDUY"
      },
      "outputs": [],
      "source": [
        "offset_doclens = 0\n",
        "for pid, dlength in enumerate(doclens):\n",
        "    emb2pid[offset_doclens: offset_doclens + dlength] = pid\n",
        "    offset_doclens += dlength"
      ]
    },
    {
      "cell_type": "code",
      "execution_count": 131,
      "metadata": {
        "colab": {
          "base_uri": "https://localhost:8080/"
        },
        "id": "IzpThGwzVai-",
        "outputId": "abd41ab8-b033-4cab-f477-0020bca35b9b"
      },
      "outputs": [
        {
          "data": {
            "text/plain": [
              "torch.Size([15198])"
            ]
          },
          "execution_count": 131,
          "metadata": {},
          "output_type": "execute_result"
        }
      ],
      "source": [
        "emb2pid.shape"
      ]
    },
    {
      "cell_type": "markdown",
      "metadata": {
        "id": "we0TEOdRVeQf"
      },
      "source": [
        "The first 4 token embeddings correspond to the first passage, the next 20 token embeddings to the second passage, and so on."
      ]
    },
    {
      "cell_type": "code",
      "execution_count": 132,
      "metadata": {
        "colab": {
          "base_uri": "https://localhost:8080/"
        },
        "id": "kcT7j8CgVcA9",
        "outputId": "185d9dde-73dd-4676-972d-110d141244dd"
      },
      "outputs": [
        {
          "data": {
            "text/plain": [
              "tensor([0, 0, 0, 0, 1, 1, 1, 1, 1, 1, 1, 1, 1, 1, 1, 1, 1, 1, 1, 1, 1, 1, 1, 1,\n",
              "        2, 2, 2, 2, 2, 2, 2, 2, 2, 2, 2, 2, 2, 2, 2, 2, 2, 2, 3, 3, 3, 3, 3, 3,\n",
              "        3, 3], dtype=torch.int32)"
            ]
          },
          "execution_count": 132,
          "metadata": {},
          "output_type": "execute_result"
        }
      ],
      "source": [
        "emb2pid[:50]"
      ]
    },
    {
      "cell_type": "markdown",
      "metadata": {
        "id": "wI7QUiXzZpCM"
      },
      "source": [
        "Recall that `ivf` contained as values the token embeddings IDs which are the indices of `emb2pid`. The values of `emb2pid` are passage IDs. Indexing into `emb2pid` with `ivf` pulls out the passage IDs corresponding to tokens. Note that `ivf` is sorted by centroid ID."
      ]
    },
    {
      "cell_type": "code",
      "execution_count": 133,
      "metadata": {
        "colab": {
          "base_uri": "https://localhost:8080/"
        },
        "id": "HT3kfCCGnEDe",
        "outputId": "9a5ff539-5781-4b8a-909d-d71e67b45e4f"
      },
      "outputs": [
        {
          "data": {
            "text/plain": [
              "tensor([  936,  1171,  2363,  ..., 12051, 12147, 12161], device='cuda:0')"
            ]
          },
          "execution_count": 133,
          "metadata": {},
          "output_type": "execute_result"
        }
      ],
      "source": [
        "ivf"
      ]
    },
    {
      "cell_type": "code",
      "execution_count": 134,
      "metadata": {
        "colab": {
          "base_uri": "https://localhost:8080/"
        },
        "id": "jMeD6VF1nLJj",
        "outputId": "2d3478d4-a6db-435d-84c3-26586af708e8"
      },
      "outputs": [
        {
          "data": {
            "text/plain": [
              "tensor([   0,    0,    0,  ..., 1023, 1023, 1023], device='cuda:0')"
            ]
          },
          "execution_count": 134,
          "metadata": {},
          "output_type": "execute_result"
        }
      ],
      "source": [
        "values"
      ]
    },
    {
      "cell_type": "code",
      "execution_count": 135,
      "metadata": {
        "colab": {
          "base_uri": "https://localhost:8080/"
        },
        "id": "VD8BP_J_VdEp",
        "outputId": "c8de26e5-55cc-47fa-9211-ec2d3137c285"
      },
      "outputs": [
        {
          "data": {
            "text/plain": [
              "(torch.Size([15198]), tensor([ 55,  69, 143, 416, 471], dtype=torch.int32))"
            ]
          },
          "execution_count": 135,
          "metadata": {},
          "output_type": "execute_result"
        }
      ],
      "source": [
        "new_ivf = emb2pid[ivf.cpu()]\n",
        "new_ivf.shape, new_ivf[:5]"
      ]
    },
    {
      "cell_type": "code",
      "execution_count": 136,
      "metadata": {
        "colab": {
          "base_uri": "https://localhost:8080/"
        },
        "id": "s5B2yYJjnSMV",
        "outputId": "8b3ce2a7-0e4c-4f41-fc9f-c2c0a711cf76"
      },
      "outputs": [
        {
          "data": {
            "text/plain": [
              "tensor([ 55,  69, 143,  ..., 795, 800, 800], dtype=torch.int32)"
            ]
          },
          "execution_count": 136,
          "metadata": {},
          "output_type": "execute_result"
        }
      ],
      "source": [
        "new_ivf"
      ]
    },
    {
      "cell_type": "markdown",
      "metadata": {
        "id": "4QCpG8u4nW1U"
      },
      "source": [
        "The first token embedding corresponding to centroid ID of 0 corresponds to passage ID 55."
      ]
    },
    {
      "cell_type": "code",
      "execution_count": 137,
      "metadata": {
        "colab": {
          "base_uri": "https://localhost:8080/"
        },
        "id": "Oc9-ZWwKnUGa",
        "outputId": "3422eb75-44e7-4bf3-e2c9-393a22fbb47f"
      },
      "outputs": [
        {
          "data": {
            "text/plain": [
              "tensor(55, dtype=torch.int32)"
            ]
          },
          "execution_count": 137,
          "metadata": {},
          "output_type": "execute_result"
        }
      ],
      "source": [
        "emb2pid[936]"
      ]
    },
    {
      "cell_type": "markdown",
      "metadata": {
        "id": "5ORIIfZmWDeD"
      },
      "source": [
        "`new_ivf` is a mapping from its indices (token embeddings) to values (passage IDs) which is now aligned to the `ivf_lengths` tensor which contains number of tokens per centroid ID (which came from `values`)."
      ]
    },
    {
      "cell_type": "markdown",
      "metadata": {
        "id": "cNXCamJFnvgS"
      },
      "source": [
        "Next, we iterate through `ivf_lengths`, which contains the number of tokens per centroid ID. For each `length` we get the unique passages IDs from `new_ivf`, and append that to `unique_pids_per_centroid`. The number of unique pids for that centroid is added to `new_ivf_lengths`."
      ]
    },
    {
      "cell_type": "code",
      "execution_count": 138,
      "metadata": {
        "colab": {
          "base_uri": "https://localhost:8080/"
        },
        "id": "g0O3VuReVrv0",
        "outputId": "e0a2e628-3973-4569-d3fe-0fd919828152"
      },
      "outputs": [
        {
          "name": "stderr",
          "output_type": "stream",
          "text": [
            "100%|██████████| 1024/1024 [00:00<00:00, 35975.77it/s]\n",
            "<ipython-input-138-6c68981e98f9>:11: UserWarning: To copy construct from a tensor, it is recommended to use sourceTensor.clone().detach() or sourceTensor.clone().detach().requires_grad_(True), rather than torch.tensor(sourceTensor).\n",
            "  new_ivf_lengths = torch.tensor(ivf_lengths)\n"
          ]
        }
      ],
      "source": [
        "unique_pids_per_centroid = []\n",
        "new_ivf_lengths = []\n",
        "\n",
        "offset = 0\n",
        "for length in tqdm.tqdm(ivf_lengths.tolist()):\n",
        "    pids = torch.unique(new_ivf[offset:offset+length])\n",
        "    unique_pids_per_centroid.append(pids)\n",
        "    new_ivf_lengths.append(pids.shape[0])\n",
        "    offset += length\n",
        "ivf = torch.cat(unique_pids_per_centroid)\n",
        "new_ivf_lengths = torch.tensor(new_ivf_lengths)"
      ]
    },
    {
      "cell_type": "code",
      "execution_count": 139,
      "metadata": {
        "colab": {
          "base_uri": "https://localhost:8080/"
        },
        "id": "EAGnn5w2Xlzu",
        "outputId": "037fa496-6036-491b-ee1b-8ccbd2686e75"
      },
      "outputs": [
        {
          "data": {
            "text/plain": [
              "(torch.Size([11593]), torch.Size([1024]))"
            ]
          },
          "execution_count": 139,
          "metadata": {},
          "output_type": "execute_result"
        }
      ],
      "source": [
        "ivf.shape, new_ivf_lengths.shape"
      ]
    },
    {
      "cell_type": "markdown",
      "metadata": {
        "id": "MgwUKPxYo1pX"
      },
      "source": [
        "Note that there are now fewer values in `ivf` than 15198 since we are only capturing the unique pids per centroid."
      ]
    },
    {
      "cell_type": "code",
      "execution_count": 140,
      "metadata": {
        "colab": {
          "base_uri": "https://localhost:8080/"
        },
        "id": "JyrtoOBbXoCN",
        "outputId": "c0dd2e47-ad6c-4298-e895-dcfd39ff4898"
      },
      "outputs": [
        {
          "data": {
            "text/plain": [
              "tensor([ 55,  69, 143, 416, 471], dtype=torch.int32)"
            ]
          },
          "execution_count": 140,
          "metadata": {},
          "output_type": "execute_result"
        }
      ],
      "source": [
        "ivf[:5]"
      ]
    },
    {
      "cell_type": "code",
      "execution_count": 141,
      "metadata": {
        "colab": {
          "base_uri": "https://localhost:8080/"
        },
        "id": "ORoqLKWNXqY0",
        "outputId": "1b6b71a0-fe95-40a4-ad3e-8dd8c089d87d"
      },
      "outputs": [
        {
          "data": {
            "text/plain": [
              "tensor([10, 11, 17,  1, 34], device='cuda:0')"
            ]
          },
          "execution_count": 141,
          "metadata": {},
          "output_type": "execute_result"
        }
      ],
      "source": [
        "new_ivf_lengths[:5]"
      ]
    },
    {
      "cell_type": "markdown",
      "metadata": {
        "id": "qk5y_BshXzWp"
      },
      "source": [
        "`new_ivf_lengths` is the count of unique passage IDs per centroid. So, for example the first 10 pids correspond to centroid ID `0`."
      ]
    },
    {
      "cell_type": "markdown",
      "metadata": {
        "id": "1I-Wt_YQpXW3"
      },
      "source": [
        "`ivf` and `new_ivf_lengths` would be stored in ivf.pid.pt."
      ]
    },
    {
      "cell_type": "markdown",
      "metadata": {
        "id": "8dz9EJTOpirh"
      },
      "source": [
        "After updating metadata, this completes the indexing process in RAGatouille and ColBERT!"
      ]
    },
    {
      "cell_type": "markdown",
      "metadata": {
        "id": "9VXPAwm_poL5"
      },
      "source": [
        "## Final Thoughts"
      ]
    },
    {
      "cell_type": "markdown",
      "metadata": {
        "id": "d79A7X1Sppij"
      },
      "source": [
        "There were of course many details that I didn't fully explain in this walkthrough, and since I wasn't able to exactly replicate some of the indexing artifacts there may be some errors in my code, but I think I both covered and understood the main components to creating an index. Getting to this stage involved a _lot_ of discussion with Claude. I used AnswerAI's toolslm to create context from the RAGatouille and ColBERT repos to provide as Claude project knowledge. I also pored through the codebase for hours, making sure to trace my steps from method-to-method. While I could do more deep dives into the individual components of indexing, I feel satisfied with this walk through for now. I hope you enjoyed this blog post!"
      ]
    }
  ],
  "metadata": {
    "accelerator": "GPU",
    "colab": {
      "gpuType": "T4",
      "provenance": [],
      "toc_visible": true
    },
    "kernelspec": {
      "display_name": "Python 3",
      "name": "python3"
    },
    "language_info": {
      "name": "python"
    },
    "widgets": {
      "application/vnd.jupyter.widget-state+json": {
        "01761f55a21d44b683fa0c88bacc0491": {
          "model_module": "@jupyter-widgets/controls",
          "model_module_version": "1.5.0",
          "model_name": "HTMLModel",
          "state": {
            "_dom_classes": [],
            "_model_module": "@jupyter-widgets/controls",
            "_model_module_version": "1.5.0",
            "_model_name": "HTMLModel",
            "_view_count": null,
            "_view_module": "@jupyter-widgets/controls",
            "_view_module_version": "1.5.0",
            "_view_name": "HTMLView",
            "description": "",
            "description_tooltip": null,
            "layout": "IPY_MODEL_4716a0324a7c4a52a702b5639a470e32",
            "placeholder": "​",
            "style": "IPY_MODEL_183f092ecb224378ba897eecb3e9ab40",
            "value": "config.json: 100%"
          }
        },
        "0270fce7e5c7429eb4b9a51b7063103d": {
          "model_module": "@jupyter-widgets/controls",
          "model_module_version": "1.5.0",
          "model_name": "FloatProgressModel",
          "state": {
            "_dom_classes": [],
            "_model_module": "@jupyter-widgets/controls",
            "_model_module_version": "1.5.0",
            "_model_name": "FloatProgressModel",
            "_view_count": null,
            "_view_module": "@jupyter-widgets/controls",
            "_view_module_version": "1.5.0",
            "_view_name": "ProgressView",
            "bar_style": "success",
            "description": "",
            "description_tooltip": null,
            "layout": "IPY_MODEL_4be5fcfce1464996b9ed122a7bc81f39",
            "max": 69199,
            "min": 0,
            "orientation": "horizontal",
            "style": "IPY_MODEL_d637c0136bbd4404900179c0f48bcdd8",
            "value": 69199
          }
        },
        "060e285067b043e1812eac4d5dfd1504": {
          "model_module": "@jupyter-widgets/base",
          "model_module_version": "1.2.0",
          "model_name": "LayoutModel",
          "state": {
            "_model_module": "@jupyter-widgets/base",
            "_model_module_version": "1.2.0",
            "_model_name": "LayoutModel",
            "_view_count": null,
            "_view_module": "@jupyter-widgets/base",
            "_view_module_version": "1.2.0",
            "_view_name": "LayoutView",
            "align_content": null,
            "align_items": null,
            "align_self": null,
            "border": null,
            "bottom": null,
            "display": null,
            "flex": null,
            "flex_flow": null,
            "grid_area": null,
            "grid_auto_columns": null,
            "grid_auto_flow": null,
            "grid_auto_rows": null,
            "grid_column": null,
            "grid_gap": null,
            "grid_row": null,
            "grid_template_areas": null,
            "grid_template_columns": null,
            "grid_template_rows": null,
            "height": null,
            "justify_content": null,
            "justify_items": null,
            "left": null,
            "margin": null,
            "max_height": null,
            "max_width": null,
            "min_height": null,
            "min_width": null,
            "object_fit": null,
            "object_position": null,
            "order": null,
            "overflow": null,
            "overflow_x": null,
            "overflow_y": null,
            "padding": null,
            "right": null,
            "top": null,
            "visibility": null,
            "width": null
          }
        },
        "0ad232adc306409988035612c2ce4054": {
          "model_module": "@jupyter-widgets/base",
          "model_module_version": "1.2.0",
          "model_name": "LayoutModel",
          "state": {
            "_model_module": "@jupyter-widgets/base",
            "_model_module_version": "1.2.0",
            "_model_name": "LayoutModel",
            "_view_count": null,
            "_view_module": "@jupyter-widgets/base",
            "_view_module_version": "1.2.0",
            "_view_name": "LayoutView",
            "align_content": null,
            "align_items": null,
            "align_self": null,
            "border": null,
            "bottom": null,
            "display": null,
            "flex": null,
            "flex_flow": null,
            "grid_area": null,
            "grid_auto_columns": null,
            "grid_auto_flow": null,
            "grid_auto_rows": null,
            "grid_column": null,
            "grid_gap": null,
            "grid_row": null,
            "grid_template_areas": null,
            "grid_template_columns": null,
            "grid_template_rows": null,
            "height": null,
            "justify_content": null,
            "justify_items": null,
            "left": null,
            "margin": null,
            "max_height": null,
            "max_width": null,
            "min_height": null,
            "min_width": null,
            "object_fit": null,
            "object_position": null,
            "order": null,
            "overflow": null,
            "overflow_x": null,
            "overflow_y": null,
            "padding": null,
            "right": null,
            "top": null,
            "visibility": null,
            "width": null
          }
        },
        "0baced33ca4c40199aa7ecf8131cb6c3": {
          "model_module": "@jupyter-widgets/controls",
          "model_module_version": "1.5.0",
          "model_name": "HTMLModel",
          "state": {
            "_dom_classes": [],
            "_model_module": "@jupyter-widgets/controls",
            "_model_module_version": "1.5.0",
            "_model_name": "HTMLModel",
            "_view_count": null,
            "_view_module": "@jupyter-widgets/controls",
            "_view_module_version": "1.5.0",
            "_view_name": "HTMLView",
            "description": "",
            "description_tooltip": null,
            "layout": "IPY_MODEL_89dd62f795534edca18f88ae29903f15",
            "placeholder": "​",
            "style": "IPY_MODEL_875a7c434bc14ec58deae2e29eb47dd9",
            "value": "vocab.txt: 100%"
          }
        },
        "0e0740f0844146169d8f53ee2cba36b9": {
          "model_module": "@jupyter-widgets/base",
          "model_module_version": "1.2.0",
          "model_name": "LayoutModel",
          "state": {
            "_model_module": "@jupyter-widgets/base",
            "_model_module_version": "1.2.0",
            "_model_name": "LayoutModel",
            "_view_count": null,
            "_view_module": "@jupyter-widgets/base",
            "_view_module_version": "1.2.0",
            "_view_name": "LayoutView",
            "align_content": null,
            "align_items": null,
            "align_self": null,
            "border": null,
            "bottom": null,
            "display": null,
            "flex": null,
            "flex_flow": null,
            "grid_area": null,
            "grid_auto_columns": null,
            "grid_auto_flow": null,
            "grid_auto_rows": null,
            "grid_column": null,
            "grid_gap": null,
            "grid_row": null,
            "grid_template_areas": null,
            "grid_template_columns": null,
            "grid_template_rows": null,
            "height": null,
            "justify_content": null,
            "justify_items": null,
            "left": null,
            "margin": null,
            "max_height": null,
            "max_width": null,
            "min_height": null,
            "min_width": null,
            "object_fit": null,
            "object_position": null,
            "order": null,
            "overflow": null,
            "overflow_x": null,
            "overflow_y": null,
            "padding": null,
            "right": null,
            "top": null,
            "visibility": null,
            "width": null
          }
        },
        "0e352d2acde74ee0a7ed8683029720d5": {
          "model_module": "@jupyter-widgets/controls",
          "model_module_version": "1.5.0",
          "model_name": "HTMLModel",
          "state": {
            "_dom_classes": [],
            "_model_module": "@jupyter-widgets/controls",
            "_model_module_version": "1.5.0",
            "_model_name": "HTMLModel",
            "_view_count": null,
            "_view_module": "@jupyter-widgets/controls",
            "_view_module_version": "1.5.0",
            "_view_name": "HTMLView",
            "description": "",
            "description_tooltip": null,
            "layout": "IPY_MODEL_b52042f6f226432293abd11656bce94b",
            "placeholder": "​",
            "style": "IPY_MODEL_cf34a4e1798044898c00b39b6cdf920f",
            "value": " 134M/134M [00:01&lt;00:00, 121MB/s]"
          }
        },
        "11453b133dc449d8be338babee9e7367": {
          "model_module": "@jupyter-widgets/controls",
          "model_module_version": "1.5.0",
          "model_name": "ProgressStyleModel",
          "state": {
            "_model_module": "@jupyter-widgets/controls",
            "_model_module_version": "1.5.0",
            "_model_name": "ProgressStyleModel",
            "_view_count": null,
            "_view_module": "@jupyter-widgets/base",
            "_view_module_version": "1.2.0",
            "_view_name": "StyleView",
            "bar_color": null,
            "description_width": ""
          }
        },
        "17856dc15e324eb8bc1254baa3b2c486": {
          "model_module": "@jupyter-widgets/controls",
          "model_module_version": "1.5.0",
          "model_name": "HTMLModel",
          "state": {
            "_dom_classes": [],
            "_model_module": "@jupyter-widgets/controls",
            "_model_module_version": "1.5.0",
            "_model_name": "HTMLModel",
            "_view_count": null,
            "_view_module": "@jupyter-widgets/controls",
            "_view_module_version": "1.5.0",
            "_view_name": "HTMLView",
            "description": "",
            "description_tooltip": null,
            "layout": "IPY_MODEL_f0abf52203fa433c90d29b997f4e3831",
            "placeholder": "​",
            "style": "IPY_MODEL_793ecd786d74489a97f3e4127ea97296",
            "value": "model.safetensors: 100%"
          }
        },
        "183d71b26497454eb61022148a425cd3": {
          "model_module": "@jupyter-widgets/base",
          "model_module_version": "1.2.0",
          "model_name": "LayoutModel",
          "state": {
            "_model_module": "@jupyter-widgets/base",
            "_model_module_version": "1.2.0",
            "_model_name": "LayoutModel",
            "_view_count": null,
            "_view_module": "@jupyter-widgets/base",
            "_view_module_version": "1.2.0",
            "_view_name": "LayoutView",
            "align_content": null,
            "align_items": null,
            "align_self": null,
            "border": null,
            "bottom": null,
            "display": null,
            "flex": null,
            "flex_flow": null,
            "grid_area": null,
            "grid_auto_columns": null,
            "grid_auto_flow": null,
            "grid_auto_rows": null,
            "grid_column": null,
            "grid_gap": null,
            "grid_row": null,
            "grid_template_areas": null,
            "grid_template_columns": null,
            "grid_template_rows": null,
            "height": null,
            "justify_content": null,
            "justify_items": null,
            "left": null,
            "margin": null,
            "max_height": null,
            "max_width": null,
            "min_height": null,
            "min_width": null,
            "object_fit": null,
            "object_position": null,
            "order": null,
            "overflow": null,
            "overflow_x": null,
            "overflow_y": null,
            "padding": null,
            "right": null,
            "top": null,
            "visibility": null,
            "width": null
          }
        },
        "183f092ecb224378ba897eecb3e9ab40": {
          "model_module": "@jupyter-widgets/controls",
          "model_module_version": "1.5.0",
          "model_name": "DescriptionStyleModel",
          "state": {
            "_model_module": "@jupyter-widgets/controls",
            "_model_module_version": "1.5.0",
            "_model_name": "DescriptionStyleModel",
            "_view_count": null,
            "_view_module": "@jupyter-widgets/base",
            "_view_module_version": "1.2.0",
            "_view_name": "StyleView",
            "description_width": ""
          }
        },
        "1a238867c4e94d53a71f0d12da5ecb67": {
          "model_module": "@jupyter-widgets/base",
          "model_module_version": "1.2.0",
          "model_name": "LayoutModel",
          "state": {
            "_model_module": "@jupyter-widgets/base",
            "_model_module_version": "1.2.0",
            "_model_name": "LayoutModel",
            "_view_count": null,
            "_view_module": "@jupyter-widgets/base",
            "_view_module_version": "1.2.0",
            "_view_name": "LayoutView",
            "align_content": null,
            "align_items": null,
            "align_self": null,
            "border": null,
            "bottom": null,
            "display": null,
            "flex": null,
            "flex_flow": null,
            "grid_area": null,
            "grid_auto_columns": null,
            "grid_auto_flow": null,
            "grid_auto_rows": null,
            "grid_column": null,
            "grid_gap": null,
            "grid_row": null,
            "grid_template_areas": null,
            "grid_template_columns": null,
            "grid_template_rows": null,
            "height": null,
            "justify_content": null,
            "justify_items": null,
            "left": null,
            "margin": null,
            "max_height": null,
            "max_width": null,
            "min_height": null,
            "min_width": null,
            "object_fit": null,
            "object_position": null,
            "order": null,
            "overflow": null,
            "overflow_x": null,
            "overflow_y": null,
            "padding": null,
            "right": null,
            "top": null,
            "visibility": null,
            "width": null
          }
        },
        "1d705b30f2194a39afb90a4a8a6fad73": {
          "model_module": "@jupyter-widgets/controls",
          "model_module_version": "1.5.0",
          "model_name": "ProgressStyleModel",
          "state": {
            "_model_module": "@jupyter-widgets/controls",
            "_model_module_version": "1.5.0",
            "_model_name": "ProgressStyleModel",
            "_view_count": null,
            "_view_module": "@jupyter-widgets/base",
            "_view_module_version": "1.2.0",
            "_view_name": "StyleView",
            "bar_color": null,
            "description_width": ""
          }
        },
        "1d99565862b14709b517a1e8cd662f4f": {
          "model_module": "@jupyter-widgets/controls",
          "model_module_version": "1.5.0",
          "model_name": "ProgressStyleModel",
          "state": {
            "_model_module": "@jupyter-widgets/controls",
            "_model_module_version": "1.5.0",
            "_model_name": "ProgressStyleModel",
            "_view_count": null,
            "_view_module": "@jupyter-widgets/base",
            "_view_module_version": "1.2.0",
            "_view_name": "StyleView",
            "bar_color": null,
            "description_width": ""
          }
        },
        "1e6c5e7ad5174dac82ecca7980f874fc": {
          "model_module": "@jupyter-widgets/controls",
          "model_module_version": "1.5.0",
          "model_name": "DescriptionStyleModel",
          "state": {
            "_model_module": "@jupyter-widgets/controls",
            "_model_module_version": "1.5.0",
            "_model_name": "DescriptionStyleModel",
            "_view_count": null,
            "_view_module": "@jupyter-widgets/base",
            "_view_module_version": "1.2.0",
            "_view_name": "StyleView",
            "description_width": ""
          }
        },
        "22e9c599c9ed4f188ba5c13c4e2a5ebc": {
          "model_module": "@jupyter-widgets/base",
          "model_module_version": "1.2.0",
          "model_name": "LayoutModel",
          "state": {
            "_model_module": "@jupyter-widgets/base",
            "_model_module_version": "1.2.0",
            "_model_name": "LayoutModel",
            "_view_count": null,
            "_view_module": "@jupyter-widgets/base",
            "_view_module_version": "1.2.0",
            "_view_name": "LayoutView",
            "align_content": null,
            "align_items": null,
            "align_self": null,
            "border": null,
            "bottom": null,
            "display": null,
            "flex": null,
            "flex_flow": null,
            "grid_area": null,
            "grid_auto_columns": null,
            "grid_auto_flow": null,
            "grid_auto_rows": null,
            "grid_column": null,
            "grid_gap": null,
            "grid_row": null,
            "grid_template_areas": null,
            "grid_template_columns": null,
            "grid_template_rows": null,
            "height": null,
            "justify_content": null,
            "justify_items": null,
            "left": null,
            "margin": null,
            "max_height": null,
            "max_width": null,
            "min_height": null,
            "min_width": null,
            "object_fit": null,
            "object_position": null,
            "order": null,
            "overflow": null,
            "overflow_x": null,
            "overflow_y": null,
            "padding": null,
            "right": null,
            "top": null,
            "visibility": null,
            "width": null
          }
        },
        "2c184577465e44d68a86eaadfa88b210": {
          "model_module": "@jupyter-widgets/base",
          "model_module_version": "1.2.0",
          "model_name": "LayoutModel",
          "state": {
            "_model_module": "@jupyter-widgets/base",
            "_model_module_version": "1.2.0",
            "_model_name": "LayoutModel",
            "_view_count": null,
            "_view_module": "@jupyter-widgets/base",
            "_view_module_version": "1.2.0",
            "_view_name": "LayoutView",
            "align_content": null,
            "align_items": null,
            "align_self": null,
            "border": null,
            "bottom": null,
            "display": null,
            "flex": null,
            "flex_flow": null,
            "grid_area": null,
            "grid_auto_columns": null,
            "grid_auto_flow": null,
            "grid_auto_rows": null,
            "grid_column": null,
            "grid_gap": null,
            "grid_row": null,
            "grid_template_areas": null,
            "grid_template_columns": null,
            "grid_template_rows": null,
            "height": null,
            "justify_content": null,
            "justify_items": null,
            "left": null,
            "margin": null,
            "max_height": null,
            "max_width": null,
            "min_height": null,
            "min_width": null,
            "object_fit": null,
            "object_position": null,
            "order": null,
            "overflow": null,
            "overflow_x": null,
            "overflow_y": null,
            "padding": null,
            "right": null,
            "top": null,
            "visibility": null,
            "width": null
          }
        },
        "2e14006095c44821b4bb3427dd35bd6e": {
          "model_module": "@jupyter-widgets/base",
          "model_module_version": "1.2.0",
          "model_name": "LayoutModel",
          "state": {
            "_model_module": "@jupyter-widgets/base",
            "_model_module_version": "1.2.0",
            "_model_name": "LayoutModel",
            "_view_count": null,
            "_view_module": "@jupyter-widgets/base",
            "_view_module_version": "1.2.0",
            "_view_name": "LayoutView",
            "align_content": null,
            "align_items": null,
            "align_self": null,
            "border": null,
            "bottom": null,
            "display": null,
            "flex": null,
            "flex_flow": null,
            "grid_area": null,
            "grid_auto_columns": null,
            "grid_auto_flow": null,
            "grid_auto_rows": null,
            "grid_column": null,
            "grid_gap": null,
            "grid_row": null,
            "grid_template_areas": null,
            "grid_template_columns": null,
            "grid_template_rows": null,
            "height": null,
            "justify_content": null,
            "justify_items": null,
            "left": null,
            "margin": null,
            "max_height": null,
            "max_width": null,
            "min_height": null,
            "min_width": null,
            "object_fit": null,
            "object_position": null,
            "order": null,
            "overflow": null,
            "overflow_x": null,
            "overflow_y": null,
            "padding": null,
            "right": null,
            "top": null,
            "visibility": null,
            "width": null
          }
        },
        "2ef33728d7e4485da2da9d69bb75127f": {
          "model_module": "@jupyter-widgets/controls",
          "model_module_version": "1.5.0",
          "model_name": "DescriptionStyleModel",
          "state": {
            "_model_module": "@jupyter-widgets/controls",
            "_model_module_version": "1.5.0",
            "_model_name": "DescriptionStyleModel",
            "_view_count": null,
            "_view_module": "@jupyter-widgets/base",
            "_view_module_version": "1.2.0",
            "_view_name": "StyleView",
            "description_width": ""
          }
        },
        "31e9da9e681045128ca6ecec185f386f": {
          "model_module": "@jupyter-widgets/controls",
          "model_module_version": "1.5.0",
          "model_name": "ProgressStyleModel",
          "state": {
            "_model_module": "@jupyter-widgets/controls",
            "_model_module_version": "1.5.0",
            "_model_name": "ProgressStyleModel",
            "_view_count": null,
            "_view_module": "@jupyter-widgets/base",
            "_view_module_version": "1.2.0",
            "_view_name": "StyleView",
            "bar_color": null,
            "description_width": ""
          }
        },
        "34c9e041b0624fff92d4803870ae34f2": {
          "model_module": "@jupyter-widgets/base",
          "model_module_version": "1.2.0",
          "model_name": "LayoutModel",
          "state": {
            "_model_module": "@jupyter-widgets/base",
            "_model_module_version": "1.2.0",
            "_model_name": "LayoutModel",
            "_view_count": null,
            "_view_module": "@jupyter-widgets/base",
            "_view_module_version": "1.2.0",
            "_view_name": "LayoutView",
            "align_content": null,
            "align_items": null,
            "align_self": null,
            "border": null,
            "bottom": null,
            "display": null,
            "flex": null,
            "flex_flow": null,
            "grid_area": null,
            "grid_auto_columns": null,
            "grid_auto_flow": null,
            "grid_auto_rows": null,
            "grid_column": null,
            "grid_gap": null,
            "grid_row": null,
            "grid_template_areas": null,
            "grid_template_columns": null,
            "grid_template_rows": null,
            "height": null,
            "justify_content": null,
            "justify_items": null,
            "left": null,
            "margin": null,
            "max_height": null,
            "max_width": null,
            "min_height": null,
            "min_width": null,
            "object_fit": null,
            "object_position": null,
            "order": null,
            "overflow": null,
            "overflow_x": null,
            "overflow_y": null,
            "padding": null,
            "right": null,
            "top": null,
            "visibility": null,
            "width": null
          }
        },
        "3557fc1638564e958bc5bc777873d330": {
          "model_module": "@jupyter-widgets/controls",
          "model_module_version": "1.5.0",
          "model_name": "DescriptionStyleModel",
          "state": {
            "_model_module": "@jupyter-widgets/controls",
            "_model_module_version": "1.5.0",
            "_model_name": "DescriptionStyleModel",
            "_view_count": null,
            "_view_module": "@jupyter-widgets/base",
            "_view_module_version": "1.2.0",
            "_view_name": "StyleView",
            "description_width": ""
          }
        },
        "36cafac5363045698e230fcb51fe375b": {
          "model_module": "@jupyter-widgets/base",
          "model_module_version": "1.2.0",
          "model_name": "LayoutModel",
          "state": {
            "_model_module": "@jupyter-widgets/base",
            "_model_module_version": "1.2.0",
            "_model_name": "LayoutModel",
            "_view_count": null,
            "_view_module": "@jupyter-widgets/base",
            "_view_module_version": "1.2.0",
            "_view_name": "LayoutView",
            "align_content": null,
            "align_items": null,
            "align_self": null,
            "border": null,
            "bottom": null,
            "display": null,
            "flex": null,
            "flex_flow": null,
            "grid_area": null,
            "grid_auto_columns": null,
            "grid_auto_flow": null,
            "grid_auto_rows": null,
            "grid_column": null,
            "grid_gap": null,
            "grid_row": null,
            "grid_template_areas": null,
            "grid_template_columns": null,
            "grid_template_rows": null,
            "height": null,
            "justify_content": null,
            "justify_items": null,
            "left": null,
            "margin": null,
            "max_height": null,
            "max_width": null,
            "min_height": null,
            "min_width": null,
            "object_fit": null,
            "object_position": null,
            "order": null,
            "overflow": null,
            "overflow_x": null,
            "overflow_y": null,
            "padding": null,
            "right": null,
            "top": null,
            "visibility": null,
            "width": null
          }
        },
        "38b0f06c57684864be477ad032c239a3": {
          "model_module": "@jupyter-widgets/controls",
          "model_module_version": "1.5.0",
          "model_name": "DescriptionStyleModel",
          "state": {
            "_model_module": "@jupyter-widgets/controls",
            "_model_module_version": "1.5.0",
            "_model_name": "DescriptionStyleModel",
            "_view_count": null,
            "_view_module": "@jupyter-widgets/base",
            "_view_module_version": "1.2.0",
            "_view_name": "StyleView",
            "description_width": ""
          }
        },
        "39071d7e22de4eb08a7f1c0b9b0d1583": {
          "model_module": "@jupyter-widgets/base",
          "model_module_version": "1.2.0",
          "model_name": "LayoutModel",
          "state": {
            "_model_module": "@jupyter-widgets/base",
            "_model_module_version": "1.2.0",
            "_model_name": "LayoutModel",
            "_view_count": null,
            "_view_module": "@jupyter-widgets/base",
            "_view_module_version": "1.2.0",
            "_view_name": "LayoutView",
            "align_content": null,
            "align_items": null,
            "align_self": null,
            "border": null,
            "bottom": null,
            "display": null,
            "flex": null,
            "flex_flow": null,
            "grid_area": null,
            "grid_auto_columns": null,
            "grid_auto_flow": null,
            "grid_auto_rows": null,
            "grid_column": null,
            "grid_gap": null,
            "grid_row": null,
            "grid_template_areas": null,
            "grid_template_columns": null,
            "grid_template_rows": null,
            "height": null,
            "justify_content": null,
            "justify_items": null,
            "left": null,
            "margin": null,
            "max_height": null,
            "max_width": null,
            "min_height": null,
            "min_width": null,
            "object_fit": null,
            "object_position": null,
            "order": null,
            "overflow": null,
            "overflow_x": null,
            "overflow_y": null,
            "padding": null,
            "right": null,
            "top": null,
            "visibility": null,
            "width": null
          }
        },
        "39f27023f1d742a684233d09e31324e7": {
          "model_module": "@jupyter-widgets/controls",
          "model_module_version": "1.5.0",
          "model_name": "DescriptionStyleModel",
          "state": {
            "_model_module": "@jupyter-widgets/controls",
            "_model_module_version": "1.5.0",
            "_model_name": "DescriptionStyleModel",
            "_view_count": null,
            "_view_module": "@jupyter-widgets/base",
            "_view_module_version": "1.2.0",
            "_view_name": "StyleView",
            "description_width": ""
          }
        },
        "3d62544e61de457b89b4404c81700cfc": {
          "model_module": "@jupyter-widgets/controls",
          "model_module_version": "1.5.0",
          "model_name": "FloatProgressModel",
          "state": {
            "_dom_classes": [],
            "_model_module": "@jupyter-widgets/controls",
            "_model_module_version": "1.5.0",
            "_model_name": "FloatProgressModel",
            "_view_count": null,
            "_view_module": "@jupyter-widgets/controls",
            "_view_module_version": "1.5.0",
            "_view_name": "ProgressView",
            "bar_style": "success",
            "description": "",
            "description_tooltip": null,
            "layout": "IPY_MODEL_7ce6f492b6be4199b643800049906d66",
            "max": 133610664,
            "min": 0,
            "orientation": "horizontal",
            "style": "IPY_MODEL_79bd66912d0b47b58d80059003e0fead",
            "value": 133610664
          }
        },
        "3d8bdabc4fb24e89829a523480a4bff0": {
          "model_module": "@jupyter-widgets/controls",
          "model_module_version": "1.5.0",
          "model_name": "HBoxModel",
          "state": {
            "_dom_classes": [],
            "_model_module": "@jupyter-widgets/controls",
            "_model_module_version": "1.5.0",
            "_model_name": "HBoxModel",
            "_view_count": null,
            "_view_module": "@jupyter-widgets/controls",
            "_view_module_version": "1.5.0",
            "_view_name": "HBoxView",
            "box_style": "",
            "children": [
              "IPY_MODEL_6a7bfb98dd0f435ea778a4f4702a1ed2",
              "IPY_MODEL_e302cf3dfe624849a86dfb698de87240",
              "IPY_MODEL_d2ce498e94634e478330609d8a7f2f95"
            ],
            "layout": "IPY_MODEL_5d4d3557d9034f648e8e592d7a7bef6d"
          }
        },
        "4162962a761a4147b0c1afbabaac4cf6": {
          "model_module": "@jupyter-widgets/base",
          "model_module_version": "1.2.0",
          "model_name": "LayoutModel",
          "state": {
            "_model_module": "@jupyter-widgets/base",
            "_model_module_version": "1.2.0",
            "_model_name": "LayoutModel",
            "_view_count": null,
            "_view_module": "@jupyter-widgets/base",
            "_view_module_version": "1.2.0",
            "_view_name": "LayoutView",
            "align_content": null,
            "align_items": null,
            "align_self": null,
            "border": null,
            "bottom": null,
            "display": null,
            "flex": null,
            "flex_flow": null,
            "grid_area": null,
            "grid_auto_columns": null,
            "grid_auto_flow": null,
            "grid_auto_rows": null,
            "grid_column": null,
            "grid_gap": null,
            "grid_row": null,
            "grid_template_areas": null,
            "grid_template_columns": null,
            "grid_template_rows": null,
            "height": null,
            "justify_content": null,
            "justify_items": null,
            "left": null,
            "margin": null,
            "max_height": null,
            "max_width": null,
            "min_height": null,
            "min_width": null,
            "object_fit": null,
            "object_position": null,
            "order": null,
            "overflow": null,
            "overflow_x": null,
            "overflow_y": null,
            "padding": null,
            "right": null,
            "top": null,
            "visibility": null,
            "width": null
          }
        },
        "417230729d094a7aa195ef33fe0b2364": {
          "model_module": "@jupyter-widgets/controls",
          "model_module_version": "1.5.0",
          "model_name": "DescriptionStyleModel",
          "state": {
            "_model_module": "@jupyter-widgets/controls",
            "_model_module_version": "1.5.0",
            "_model_name": "DescriptionStyleModel",
            "_view_count": null,
            "_view_module": "@jupyter-widgets/base",
            "_view_module_version": "1.2.0",
            "_view_name": "StyleView",
            "description_width": ""
          }
        },
        "4716a0324a7c4a52a702b5639a470e32": {
          "model_module": "@jupyter-widgets/base",
          "model_module_version": "1.2.0",
          "model_name": "LayoutModel",
          "state": {
            "_model_module": "@jupyter-widgets/base",
            "_model_module_version": "1.2.0",
            "_model_name": "LayoutModel",
            "_view_count": null,
            "_view_module": "@jupyter-widgets/base",
            "_view_module_version": "1.2.0",
            "_view_name": "LayoutView",
            "align_content": null,
            "align_items": null,
            "align_self": null,
            "border": null,
            "bottom": null,
            "display": null,
            "flex": null,
            "flex_flow": null,
            "grid_area": null,
            "grid_auto_columns": null,
            "grid_auto_flow": null,
            "grid_auto_rows": null,
            "grid_column": null,
            "grid_gap": null,
            "grid_row": null,
            "grid_template_areas": null,
            "grid_template_columns": null,
            "grid_template_rows": null,
            "height": null,
            "justify_content": null,
            "justify_items": null,
            "left": null,
            "margin": null,
            "max_height": null,
            "max_width": null,
            "min_height": null,
            "min_width": null,
            "object_fit": null,
            "object_position": null,
            "order": null,
            "overflow": null,
            "overflow_x": null,
            "overflow_y": null,
            "padding": null,
            "right": null,
            "top": null,
            "visibility": null,
            "width": null
          }
        },
        "496e2fc6492643208116b541481a180f": {
          "model_module": "@jupyter-widgets/controls",
          "model_module_version": "1.5.0",
          "model_name": "FloatProgressModel",
          "state": {
            "_dom_classes": [],
            "_model_module": "@jupyter-widgets/controls",
            "_model_module_version": "1.5.0",
            "_model_name": "FloatProgressModel",
            "_view_count": null,
            "_view_module": "@jupyter-widgets/controls",
            "_view_module_version": "1.5.0",
            "_view_name": "ProgressView",
            "bar_style": "success",
            "description": "",
            "description_tooltip": null,
            "layout": "IPY_MODEL_f501cc0434ce4e368096bbed1feea428",
            "max": 702,
            "min": 0,
            "orientation": "horizontal",
            "style": "IPY_MODEL_d7e73196e9c74761a5ed67f328b4f32c",
            "value": 702
          }
        },
        "498a7547bd7e430291f2705fb2b89b45": {
          "model_module": "@jupyter-widgets/controls",
          "model_module_version": "1.5.0",
          "model_name": "DescriptionStyleModel",
          "state": {
            "_model_module": "@jupyter-widgets/controls",
            "_model_module_version": "1.5.0",
            "_model_name": "DescriptionStyleModel",
            "_view_count": null,
            "_view_module": "@jupyter-widgets/base",
            "_view_module_version": "1.2.0",
            "_view_name": "StyleView",
            "description_width": ""
          }
        },
        "4be5fcfce1464996b9ed122a7bc81f39": {
          "model_module": "@jupyter-widgets/base",
          "model_module_version": "1.2.0",
          "model_name": "LayoutModel",
          "state": {
            "_model_module": "@jupyter-widgets/base",
            "_model_module_version": "1.2.0",
            "_model_name": "LayoutModel",
            "_view_count": null,
            "_view_module": "@jupyter-widgets/base",
            "_view_module_version": "1.2.0",
            "_view_name": "LayoutView",
            "align_content": null,
            "align_items": null,
            "align_self": null,
            "border": null,
            "bottom": null,
            "display": null,
            "flex": null,
            "flex_flow": null,
            "grid_area": null,
            "grid_auto_columns": null,
            "grid_auto_flow": null,
            "grid_auto_rows": null,
            "grid_column": null,
            "grid_gap": null,
            "grid_row": null,
            "grid_template_areas": null,
            "grid_template_columns": null,
            "grid_template_rows": null,
            "height": null,
            "justify_content": null,
            "justify_items": null,
            "left": null,
            "margin": null,
            "max_height": null,
            "max_width": null,
            "min_height": null,
            "min_width": null,
            "object_fit": null,
            "object_position": null,
            "order": null,
            "overflow": null,
            "overflow_x": null,
            "overflow_y": null,
            "padding": null,
            "right": null,
            "top": null,
            "visibility": null,
            "width": null
          }
        },
        "4cf3c17e6e1d4b3f8e6a9b3f201846a5": {
          "model_module": "@jupyter-widgets/controls",
          "model_module_version": "1.5.0",
          "model_name": "DescriptionStyleModel",
          "state": {
            "_model_module": "@jupyter-widgets/controls",
            "_model_module_version": "1.5.0",
            "_model_name": "DescriptionStyleModel",
            "_view_count": null,
            "_view_module": "@jupyter-widgets/base",
            "_view_module_version": "1.2.0",
            "_view_name": "StyleView",
            "description_width": ""
          }
        },
        "4e6e5d90f14c409c93ba314a63246cb2": {
          "model_module": "@jupyter-widgets/base",
          "model_module_version": "1.2.0",
          "model_name": "LayoutModel",
          "state": {
            "_model_module": "@jupyter-widgets/base",
            "_model_module_version": "1.2.0",
            "_model_name": "LayoutModel",
            "_view_count": null,
            "_view_module": "@jupyter-widgets/base",
            "_view_module_version": "1.2.0",
            "_view_name": "LayoutView",
            "align_content": null,
            "align_items": null,
            "align_self": null,
            "border": null,
            "bottom": null,
            "display": null,
            "flex": null,
            "flex_flow": null,
            "grid_area": null,
            "grid_auto_columns": null,
            "grid_auto_flow": null,
            "grid_auto_rows": null,
            "grid_column": null,
            "grid_gap": null,
            "grid_row": null,
            "grid_template_areas": null,
            "grid_template_columns": null,
            "grid_template_rows": null,
            "height": null,
            "justify_content": null,
            "justify_items": null,
            "left": null,
            "margin": null,
            "max_height": null,
            "max_width": null,
            "min_height": null,
            "min_width": null,
            "object_fit": null,
            "object_position": null,
            "order": null,
            "overflow": null,
            "overflow_x": null,
            "overflow_y": null,
            "padding": null,
            "right": null,
            "top": null,
            "visibility": null,
            "width": null
          }
        },
        "50bd4c47f6404a6090988114a8751c3f": {
          "model_module": "@jupyter-widgets/controls",
          "model_module_version": "1.5.0",
          "model_name": "FloatProgressModel",
          "state": {
            "_dom_classes": [],
            "_model_module": "@jupyter-widgets/controls",
            "_model_module_version": "1.5.0",
            "_model_name": "FloatProgressModel",
            "_view_count": null,
            "_view_module": "@jupyter-widgets/controls",
            "_view_module_version": "1.5.0",
            "_view_name": "ProgressView",
            "bar_style": "success",
            "description": "",
            "description_tooltip": null,
            "layout": "IPY_MODEL_db46c536a88f47c7ba7b0cebb660c76c",
            "max": 2219,
            "min": 0,
            "orientation": "horizontal",
            "style": "IPY_MODEL_31e9da9e681045128ca6ecec185f386f",
            "value": 2219
          }
        },
        "5308486abe3444feabe86f2de44d778c": {
          "model_module": "@jupyter-widgets/base",
          "model_module_version": "1.2.0",
          "model_name": "LayoutModel",
          "state": {
            "_model_module": "@jupyter-widgets/base",
            "_model_module_version": "1.2.0",
            "_model_name": "LayoutModel",
            "_view_count": null,
            "_view_module": "@jupyter-widgets/base",
            "_view_module_version": "1.2.0",
            "_view_name": "LayoutView",
            "align_content": null,
            "align_items": null,
            "align_self": null,
            "border": null,
            "bottom": null,
            "display": null,
            "flex": null,
            "flex_flow": null,
            "grid_area": null,
            "grid_auto_columns": null,
            "grid_auto_flow": null,
            "grid_auto_rows": null,
            "grid_column": null,
            "grid_gap": null,
            "grid_row": null,
            "grid_template_areas": null,
            "grid_template_columns": null,
            "grid_template_rows": null,
            "height": null,
            "justify_content": null,
            "justify_items": null,
            "left": null,
            "margin": null,
            "max_height": null,
            "max_width": null,
            "min_height": null,
            "min_width": null,
            "object_fit": null,
            "object_position": null,
            "order": null,
            "overflow": null,
            "overflow_x": null,
            "overflow_y": null,
            "padding": null,
            "right": null,
            "top": null,
            "visibility": null,
            "width": null
          }
        },
        "566b3397334148e5a490173a285cf92d": {
          "model_module": "@jupyter-widgets/controls",
          "model_module_version": "1.5.0",
          "model_name": "HBoxModel",
          "state": {
            "_dom_classes": [],
            "_model_module": "@jupyter-widgets/controls",
            "_model_module_version": "1.5.0",
            "_model_name": "HBoxModel",
            "_view_count": null,
            "_view_module": "@jupyter-widgets/controls",
            "_view_module_version": "1.5.0",
            "_view_name": "HBoxView",
            "box_style": "",
            "children": [
              "IPY_MODEL_804014164ce444cbac54178a3b913ff3",
              "IPY_MODEL_5e73cb24295c465fa3a262cf602245dc",
              "IPY_MODEL_7d2fef91378b40fea616d24ac38154e4"
            ],
            "layout": "IPY_MODEL_ecc6477a1b8a425cb8729260a238ac3f"
          }
        },
        "572374e7ed894962930b40a106e8f7a2": {
          "model_module": "@jupyter-widgets/controls",
          "model_module_version": "1.5.0",
          "model_name": "DescriptionStyleModel",
          "state": {
            "_model_module": "@jupyter-widgets/controls",
            "_model_module_version": "1.5.0",
            "_model_name": "DescriptionStyleModel",
            "_view_count": null,
            "_view_module": "@jupyter-widgets/base",
            "_view_module_version": "1.2.0",
            "_view_name": "StyleView",
            "description_width": ""
          }
        },
        "5d4d3557d9034f648e8e592d7a7bef6d": {
          "model_module": "@jupyter-widgets/base",
          "model_module_version": "1.2.0",
          "model_name": "LayoutModel",
          "state": {
            "_model_module": "@jupyter-widgets/base",
            "_model_module_version": "1.2.0",
            "_model_name": "LayoutModel",
            "_view_count": null,
            "_view_module": "@jupyter-widgets/base",
            "_view_module_version": "1.2.0",
            "_view_name": "LayoutView",
            "align_content": null,
            "align_items": null,
            "align_self": null,
            "border": null,
            "bottom": null,
            "display": null,
            "flex": null,
            "flex_flow": null,
            "grid_area": null,
            "grid_auto_columns": null,
            "grid_auto_flow": null,
            "grid_auto_rows": null,
            "grid_column": null,
            "grid_gap": null,
            "grid_row": null,
            "grid_template_areas": null,
            "grid_template_columns": null,
            "grid_template_rows": null,
            "height": null,
            "justify_content": null,
            "justify_items": null,
            "left": null,
            "margin": null,
            "max_height": null,
            "max_width": null,
            "min_height": null,
            "min_width": null,
            "object_fit": null,
            "object_position": null,
            "order": null,
            "overflow": null,
            "overflow_x": null,
            "overflow_y": null,
            "padding": null,
            "right": null,
            "top": null,
            "visibility": null,
            "width": null
          }
        },
        "5e73cb24295c465fa3a262cf602245dc": {
          "model_module": "@jupyter-widgets/controls",
          "model_module_version": "1.5.0",
          "model_name": "FloatProgressModel",
          "state": {
            "_dom_classes": [],
            "_model_module": "@jupyter-widgets/controls",
            "_model_module_version": "1.5.0",
            "_model_name": "FloatProgressModel",
            "_view_count": null,
            "_view_module": "@jupyter-widgets/controls",
            "_view_module_version": "1.5.0",
            "_view_name": "ProgressView",
            "bar_style": "success",
            "description": "",
            "description_tooltip": null,
            "layout": "IPY_MODEL_ba6c72c8a16b48e8acacd2cd62a35b6a",
            "max": 711396,
            "min": 0,
            "orientation": "horizontal",
            "style": "IPY_MODEL_bcf4a223d43045818098db90e6470cfa",
            "value": 711396
          }
        },
        "5ef282ef01af4573aaea2630bf2264be": {
          "model_module": "@jupyter-widgets/base",
          "model_module_version": "1.2.0",
          "model_name": "LayoutModel",
          "state": {
            "_model_module": "@jupyter-widgets/base",
            "_model_module_version": "1.2.0",
            "_model_name": "LayoutModel",
            "_view_count": null,
            "_view_module": "@jupyter-widgets/base",
            "_view_module_version": "1.2.0",
            "_view_name": "LayoutView",
            "align_content": null,
            "align_items": null,
            "align_self": null,
            "border": null,
            "bottom": null,
            "display": null,
            "flex": null,
            "flex_flow": null,
            "grid_area": null,
            "grid_auto_columns": null,
            "grid_auto_flow": null,
            "grid_auto_rows": null,
            "grid_column": null,
            "grid_gap": null,
            "grid_row": null,
            "grid_template_areas": null,
            "grid_template_columns": null,
            "grid_template_rows": null,
            "height": null,
            "justify_content": null,
            "justify_items": null,
            "left": null,
            "margin": null,
            "max_height": null,
            "max_width": null,
            "min_height": null,
            "min_width": null,
            "object_fit": null,
            "object_position": null,
            "order": null,
            "overflow": null,
            "overflow_x": null,
            "overflow_y": null,
            "padding": null,
            "right": null,
            "top": null,
            "visibility": null,
            "width": null
          }
        },
        "604c3ffcefd54a2aa4e939ee86cbb442": {
          "model_module": "@jupyter-widgets/controls",
          "model_module_version": "1.5.0",
          "model_name": "HTMLModel",
          "state": {
            "_dom_classes": [],
            "_model_module": "@jupyter-widgets/controls",
            "_model_module_version": "1.5.0",
            "_model_name": "HTMLModel",
            "_view_count": null,
            "_view_module": "@jupyter-widgets/controls",
            "_view_module_version": "1.5.0",
            "_view_name": "HTMLView",
            "description": "",
            "description_tooltip": null,
            "layout": "IPY_MODEL_2e14006095c44821b4bb3427dd35bd6e",
            "placeholder": "​",
            "style": "IPY_MODEL_3557fc1638564e958bc5bc777873d330",
            "value": " 2.22k/2.22k [00:00&lt;00:00, 90.8kB/s]"
          }
        },
        "62c5dadfe4bd4a669f7e99b54599e7aa": {
          "model_module": "@jupyter-widgets/base",
          "model_module_version": "1.2.0",
          "model_name": "LayoutModel",
          "state": {
            "_model_module": "@jupyter-widgets/base",
            "_model_module_version": "1.2.0",
            "_model_name": "LayoutModel",
            "_view_count": null,
            "_view_module": "@jupyter-widgets/base",
            "_view_module_version": "1.2.0",
            "_view_name": "LayoutView",
            "align_content": null,
            "align_items": null,
            "align_self": null,
            "border": null,
            "bottom": null,
            "display": null,
            "flex": null,
            "flex_flow": null,
            "grid_area": null,
            "grid_auto_columns": null,
            "grid_auto_flow": null,
            "grid_auto_rows": null,
            "grid_column": null,
            "grid_gap": null,
            "grid_row": null,
            "grid_template_areas": null,
            "grid_template_columns": null,
            "grid_template_rows": null,
            "height": null,
            "justify_content": null,
            "justify_items": null,
            "left": null,
            "margin": null,
            "max_height": null,
            "max_width": null,
            "min_height": null,
            "min_width": null,
            "object_fit": null,
            "object_position": null,
            "order": null,
            "overflow": null,
            "overflow_x": null,
            "overflow_y": null,
            "padding": null,
            "right": null,
            "top": null,
            "visibility": null,
            "width": null
          }
        },
        "6613c12c3da94caf9a022f77525b9918": {
          "model_module": "@jupyter-widgets/controls",
          "model_module_version": "1.5.0",
          "model_name": "HBoxModel",
          "state": {
            "_dom_classes": [],
            "_model_module": "@jupyter-widgets/controls",
            "_model_module_version": "1.5.0",
            "_model_name": "HBoxModel",
            "_view_count": null,
            "_view_module": "@jupyter-widgets/controls",
            "_view_module_version": "1.5.0",
            "_view_name": "HBoxView",
            "box_style": "",
            "children": [
              "IPY_MODEL_ee44752cc09f4f3cb186181e490fd92d",
              "IPY_MODEL_dda10cdf60284c2d89856bd48f6d3703",
              "IPY_MODEL_deb1bf6382434c5bb1b94168a643af2a"
            ],
            "layout": "IPY_MODEL_a42b05ae4edd405280fdd721e0344676"
          }
        },
        "6a7bfb98dd0f435ea778a4f4702a1ed2": {
          "model_module": "@jupyter-widgets/controls",
          "model_module_version": "1.5.0",
          "model_name": "HTMLModel",
          "state": {
            "_dom_classes": [],
            "_model_module": "@jupyter-widgets/controls",
            "_model_module_version": "1.5.0",
            "_model_name": "HTMLModel",
            "_view_count": null,
            "_view_module": "@jupyter-widgets/controls",
            "_view_module_version": "1.5.0",
            "_view_name": "HTMLView",
            "description": "",
            "description_tooltip": null,
            "layout": "IPY_MODEL_39071d7e22de4eb08a7f1c0b9b0d1583",
            "placeholder": "​",
            "style": "IPY_MODEL_aa347ad0d4044aa68df28ca6d828cbb4",
            "value": "config.json: 100%"
          }
        },
        "6c8af5d1f7c34a02a86bd11535a42461": {
          "model_module": "@jupyter-widgets/controls",
          "model_module_version": "1.5.0",
          "model_name": "FloatProgressModel",
          "state": {
            "_dom_classes": [],
            "_model_module": "@jupyter-widgets/controls",
            "_model_module_version": "1.5.0",
            "_model_name": "FloatProgressModel",
            "_view_count": null,
            "_view_module": "@jupyter-widgets/controls",
            "_view_module_version": "1.5.0",
            "_view_name": "ProgressView",
            "bar_style": "success",
            "description": "",
            "description_tooltip": null,
            "layout": "IPY_MODEL_d6c56e65496e450bbc45f15ed0ccff13",
            "max": 1242,
            "min": 0,
            "orientation": "horizontal",
            "style": "IPY_MODEL_1d99565862b14709b517a1e8cd662f4f",
            "value": 1242
          }
        },
        "6db85e6757474caea601d60a4af8cf8f": {
          "model_module": "@jupyter-widgets/controls",
          "model_module_version": "1.5.0",
          "model_name": "HTMLModel",
          "state": {
            "_dom_classes": [],
            "_model_module": "@jupyter-widgets/controls",
            "_model_module_version": "1.5.0",
            "_model_name": "HTMLModel",
            "_view_count": null,
            "_view_module": "@jupyter-widgets/controls",
            "_view_module_version": "1.5.0",
            "_view_name": "HTMLView",
            "description": "",
            "description_tooltip": null,
            "layout": "IPY_MODEL_8d44e8618633422cac25b7f84b83d360",
            "placeholder": "​",
            "style": "IPY_MODEL_38b0f06c57684864be477ad032c239a3",
            "value": " 232k/232k [00:00&lt;00:00, 1.41MB/s]"
          }
        },
        "74e1f8ba3e7943fca2c130f6b8cf3575": {
          "model_module": "@jupyter-widgets/controls",
          "model_module_version": "1.5.0",
          "model_name": "HTMLModel",
          "state": {
            "_dom_classes": [],
            "_model_module": "@jupyter-widgets/controls",
            "_model_module_version": "1.5.0",
            "_model_name": "HTMLModel",
            "_view_count": null,
            "_view_module": "@jupyter-widgets/controls",
            "_view_module_version": "1.5.0",
            "_view_name": "HTMLView",
            "description": "",
            "description_tooltip": null,
            "layout": "IPY_MODEL_1a238867c4e94d53a71f0d12da5ecb67",
            "placeholder": "​",
            "style": "IPY_MODEL_2ef33728d7e4485da2da9d69bb75127f",
            "value": "README.md: 100%"
          }
        },
        "793ecd786d74489a97f3e4127ea97296": {
          "model_module": "@jupyter-widgets/controls",
          "model_module_version": "1.5.0",
          "model_name": "DescriptionStyleModel",
          "state": {
            "_model_module": "@jupyter-widgets/controls",
            "_model_module_version": "1.5.0",
            "_model_name": "DescriptionStyleModel",
            "_view_count": null,
            "_view_module": "@jupyter-widgets/base",
            "_view_module_version": "1.2.0",
            "_view_name": "StyleView",
            "description_width": ""
          }
        },
        "795d47b949874b49aa0c9b87df7d6cf4": {
          "model_module": "@jupyter-widgets/controls",
          "model_module_version": "1.5.0",
          "model_name": "FloatProgressModel",
          "state": {
            "_dom_classes": [],
            "_model_module": "@jupyter-widgets/controls",
            "_model_module_version": "1.5.0",
            "_model_name": "FloatProgressModel",
            "_view_count": null,
            "_view_module": "@jupyter-widgets/controls",
            "_view_module_version": "1.5.0",
            "_view_name": "ProgressView",
            "bar_style": "success",
            "description": "",
            "description_tooltip": null,
            "layout": "IPY_MODEL_060e285067b043e1812eac4d5dfd1504",
            "max": 2719101,
            "min": 0,
            "orientation": "horizontal",
            "style": "IPY_MODEL_e72aac9d4d7545f5bb34a23bcf41de00",
            "value": 2719101
          }
        },
        "79bd66912d0b47b58d80059003e0fead": {
          "model_module": "@jupyter-widgets/controls",
          "model_module_version": "1.5.0",
          "model_name": "ProgressStyleModel",
          "state": {
            "_model_module": "@jupyter-widgets/controls",
            "_model_module_version": "1.5.0",
            "_model_name": "ProgressStyleModel",
            "_view_count": null,
            "_view_module": "@jupyter-widgets/base",
            "_view_module_version": "1.2.0",
            "_view_name": "StyleView",
            "bar_color": null,
            "description_width": ""
          }
        },
        "7ce6f492b6be4199b643800049906d66": {
          "model_module": "@jupyter-widgets/base",
          "model_module_version": "1.2.0",
          "model_name": "LayoutModel",
          "state": {
            "_model_module": "@jupyter-widgets/base",
            "_model_module_version": "1.2.0",
            "_model_name": "LayoutModel",
            "_view_count": null,
            "_view_module": "@jupyter-widgets/base",
            "_view_module_version": "1.2.0",
            "_view_name": "LayoutView",
            "align_content": null,
            "align_items": null,
            "align_self": null,
            "border": null,
            "bottom": null,
            "display": null,
            "flex": null,
            "flex_flow": null,
            "grid_area": null,
            "grid_auto_columns": null,
            "grid_auto_flow": null,
            "grid_auto_rows": null,
            "grid_column": null,
            "grid_gap": null,
            "grid_row": null,
            "grid_template_areas": null,
            "grid_template_columns": null,
            "grid_template_rows": null,
            "height": null,
            "justify_content": null,
            "justify_items": null,
            "left": null,
            "margin": null,
            "max_height": null,
            "max_width": null,
            "min_height": null,
            "min_width": null,
            "object_fit": null,
            "object_position": null,
            "order": null,
            "overflow": null,
            "overflow_x": null,
            "overflow_y": null,
            "padding": null,
            "right": null,
            "top": null,
            "visibility": null,
            "width": null
          }
        },
        "7d2fef91378b40fea616d24ac38154e4": {
          "model_module": "@jupyter-widgets/controls",
          "model_module_version": "1.5.0",
          "model_name": "HTMLModel",
          "state": {
            "_dom_classes": [],
            "_model_module": "@jupyter-widgets/controls",
            "_model_module_version": "1.5.0",
            "_model_name": "HTMLModel",
            "_view_count": null,
            "_view_module": "@jupyter-widgets/controls",
            "_view_module_version": "1.5.0",
            "_view_name": "HTMLView",
            "description": "",
            "description_tooltip": null,
            "layout": "IPY_MODEL_2c184577465e44d68a86eaadfa88b210",
            "placeholder": "​",
            "style": "IPY_MODEL_572374e7ed894962930b40a106e8f7a2",
            "value": " 711k/711k [00:00&lt;00:00, 2.86MB/s]"
          }
        },
        "7dc4dac203764513b691b8af7c70cf9f": {
          "model_module": "@jupyter-widgets/controls",
          "model_module_version": "1.5.0",
          "model_name": "DescriptionStyleModel",
          "state": {
            "_model_module": "@jupyter-widgets/controls",
            "_model_module_version": "1.5.0",
            "_model_name": "DescriptionStyleModel",
            "_view_count": null,
            "_view_module": "@jupyter-widgets/base",
            "_view_module_version": "1.2.0",
            "_view_name": "StyleView",
            "description_width": ""
          }
        },
        "804014164ce444cbac54178a3b913ff3": {
          "model_module": "@jupyter-widgets/controls",
          "model_module_version": "1.5.0",
          "model_name": "HTMLModel",
          "state": {
            "_dom_classes": [],
            "_model_module": "@jupyter-widgets/controls",
            "_model_module_version": "1.5.0",
            "_model_name": "HTMLModel",
            "_view_count": null,
            "_view_module": "@jupyter-widgets/controls",
            "_view_module_version": "1.5.0",
            "_view_name": "HTMLView",
            "description": "",
            "description_tooltip": null,
            "layout": "IPY_MODEL_4162962a761a4147b0c1afbabaac4cf6",
            "placeholder": "​",
            "style": "IPY_MODEL_4cf3c17e6e1d4b3f8e6a9b3f201846a5",
            "value": "tokenizer.json: 100%"
          }
        },
        "84a8a4d001ab4ddc9cc43766750856cb": {
          "model_module": "@jupyter-widgets/controls",
          "model_module_version": "1.5.0",
          "model_name": "HBoxModel",
          "state": {
            "_dom_classes": [],
            "_model_module": "@jupyter-widgets/controls",
            "_model_module_version": "1.5.0",
            "_model_name": "HBoxModel",
            "_view_count": null,
            "_view_module": "@jupyter-widgets/controls",
            "_view_module_version": "1.5.0",
            "_view_name": "HBoxView",
            "box_style": "",
            "children": [
              "IPY_MODEL_903cac921af14447a2a01a02abe1fa60",
              "IPY_MODEL_50bd4c47f6404a6090988114a8751c3f",
              "IPY_MODEL_604c3ffcefd54a2aa4e939ee86cbb442"
            ],
            "layout": "IPY_MODEL_9a2cb870b3fd4c6eae9527ad0cf51104"
          }
        },
        "875a7c434bc14ec58deae2e29eb47dd9": {
          "model_module": "@jupyter-widgets/controls",
          "model_module_version": "1.5.0",
          "model_name": "DescriptionStyleModel",
          "state": {
            "_model_module": "@jupyter-widgets/controls",
            "_model_module_version": "1.5.0",
            "_model_name": "DescriptionStyleModel",
            "_view_count": null,
            "_view_module": "@jupyter-widgets/base",
            "_view_module_version": "1.2.0",
            "_view_name": "StyleView",
            "description_width": ""
          }
        },
        "88301dea122b4e25b0d36c5b1b840955": {
          "model_module": "@jupyter-widgets/controls",
          "model_module_version": "1.5.0",
          "model_name": "ProgressStyleModel",
          "state": {
            "_model_module": "@jupyter-widgets/controls",
            "_model_module_version": "1.5.0",
            "_model_name": "ProgressStyleModel",
            "_view_count": null,
            "_view_module": "@jupyter-widgets/base",
            "_view_module_version": "1.2.0",
            "_view_name": "StyleView",
            "bar_color": null,
            "description_width": ""
          }
        },
        "88424e552e604d548a38219144b45b13": {
          "model_module": "@jupyter-widgets/controls",
          "model_module_version": "1.5.0",
          "model_name": "HBoxModel",
          "state": {
            "_dom_classes": [],
            "_model_module": "@jupyter-widgets/controls",
            "_model_module_version": "1.5.0",
            "_model_name": "HBoxModel",
            "_view_count": null,
            "_view_module": "@jupyter-widgets/controls",
            "_view_module_version": "1.5.0",
            "_view_name": "HBoxView",
            "box_style": "",
            "children": [
              "IPY_MODEL_01761f55a21d44b683fa0c88bacc0491",
              "IPY_MODEL_496e2fc6492643208116b541481a180f",
              "IPY_MODEL_dfe0d155856d49f49672d81d33a412de"
            ],
            "layout": "IPY_MODEL_4e6e5d90f14c409c93ba314a63246cb2"
          }
        },
        "8844e87c224e4f1b90521cd5439fcd31": {
          "model_module": "@jupyter-widgets/controls",
          "model_module_version": "1.5.0",
          "model_name": "HTMLModel",
          "state": {
            "_dom_classes": [],
            "_model_module": "@jupyter-widgets/controls",
            "_model_module_version": "1.5.0",
            "_model_name": "HTMLModel",
            "_view_count": null,
            "_view_module": "@jupyter-widgets/controls",
            "_view_module_version": "1.5.0",
            "_view_name": "HTMLView",
            "description": "",
            "description_tooltip": null,
            "layout": "IPY_MODEL_ff829fe4b7e9487bafe3fc70b8333f75",
            "placeholder": "​",
            "style": "IPY_MODEL_1e6c5e7ad5174dac82ecca7980f874fc",
            "value": "Generating test split: 100%"
          }
        },
        "8870304e758747cfaef9216f49e576c1": {
          "model_module": "@jupyter-widgets/base",
          "model_module_version": "1.2.0",
          "model_name": "LayoutModel",
          "state": {
            "_model_module": "@jupyter-widgets/base",
            "_model_module_version": "1.2.0",
            "_model_name": "LayoutModel",
            "_view_count": null,
            "_view_module": "@jupyter-widgets/base",
            "_view_module_version": "1.2.0",
            "_view_name": "LayoutView",
            "align_content": null,
            "align_items": null,
            "align_self": null,
            "border": null,
            "bottom": null,
            "display": null,
            "flex": null,
            "flex_flow": null,
            "grid_area": null,
            "grid_auto_columns": null,
            "grid_auto_flow": null,
            "grid_auto_rows": null,
            "grid_column": null,
            "grid_gap": null,
            "grid_row": null,
            "grid_template_areas": null,
            "grid_template_columns": null,
            "grid_template_rows": null,
            "height": null,
            "justify_content": null,
            "justify_items": null,
            "left": null,
            "margin": null,
            "max_height": null,
            "max_width": null,
            "min_height": null,
            "min_width": null,
            "object_fit": null,
            "object_position": null,
            "order": null,
            "overflow": null,
            "overflow_x": null,
            "overflow_y": null,
            "padding": null,
            "right": null,
            "top": null,
            "visibility": null,
            "width": null
          }
        },
        "89dd62f795534edca18f88ae29903f15": {
          "model_module": "@jupyter-widgets/base",
          "model_module_version": "1.2.0",
          "model_name": "LayoutModel",
          "state": {
            "_model_module": "@jupyter-widgets/base",
            "_model_module_version": "1.2.0",
            "_model_name": "LayoutModel",
            "_view_count": null,
            "_view_module": "@jupyter-widgets/base",
            "_view_module_version": "1.2.0",
            "_view_name": "LayoutView",
            "align_content": null,
            "align_items": null,
            "align_self": null,
            "border": null,
            "bottom": null,
            "display": null,
            "flex": null,
            "flex_flow": null,
            "grid_area": null,
            "grid_auto_columns": null,
            "grid_auto_flow": null,
            "grid_auto_rows": null,
            "grid_column": null,
            "grid_gap": null,
            "grid_row": null,
            "grid_template_areas": null,
            "grid_template_columns": null,
            "grid_template_rows": null,
            "height": null,
            "justify_content": null,
            "justify_items": null,
            "left": null,
            "margin": null,
            "max_height": null,
            "max_width": null,
            "min_height": null,
            "min_width": null,
            "object_fit": null,
            "object_position": null,
            "order": null,
            "overflow": null,
            "overflow_x": null,
            "overflow_y": null,
            "padding": null,
            "right": null,
            "top": null,
            "visibility": null,
            "width": null
          }
        },
        "8af306ee7f404d77b0bf678c249ec20c": {
          "model_module": "@jupyter-widgets/controls",
          "model_module_version": "1.5.0",
          "model_name": "HTMLModel",
          "state": {
            "_dom_classes": [],
            "_model_module": "@jupyter-widgets/controls",
            "_model_module_version": "1.5.0",
            "_model_name": "HTMLModel",
            "_view_count": null,
            "_view_module": "@jupyter-widgets/controls",
            "_view_module_version": "1.5.0",
            "_view_name": "HTMLView",
            "description": "",
            "description_tooltip": null,
            "layout": "IPY_MODEL_cb1f034acb1c422380f213cef0942e67",
            "placeholder": "​",
            "style": "IPY_MODEL_bc901466db9543a891a52682670eff1d",
            "value": "tokenizer_config.json: 100%"
          }
        },
        "8d44e8618633422cac25b7f84b83d360": {
          "model_module": "@jupyter-widgets/base",
          "model_module_version": "1.2.0",
          "model_name": "LayoutModel",
          "state": {
            "_model_module": "@jupyter-widgets/base",
            "_model_module_version": "1.2.0",
            "_model_name": "LayoutModel",
            "_view_count": null,
            "_view_module": "@jupyter-widgets/base",
            "_view_module_version": "1.2.0",
            "_view_name": "LayoutView",
            "align_content": null,
            "align_items": null,
            "align_self": null,
            "border": null,
            "bottom": null,
            "display": null,
            "flex": null,
            "flex_flow": null,
            "grid_area": null,
            "grid_auto_columns": null,
            "grid_auto_flow": null,
            "grid_auto_rows": null,
            "grid_column": null,
            "grid_gap": null,
            "grid_row": null,
            "grid_template_areas": null,
            "grid_template_columns": null,
            "grid_template_rows": null,
            "height": null,
            "justify_content": null,
            "justify_items": null,
            "left": null,
            "margin": null,
            "max_height": null,
            "max_width": null,
            "min_height": null,
            "min_width": null,
            "object_fit": null,
            "object_position": null,
            "order": null,
            "overflow": null,
            "overflow_x": null,
            "overflow_y": null,
            "padding": null,
            "right": null,
            "top": null,
            "visibility": null,
            "width": null
          }
        },
        "8e74266c09ea44c2b520152ebdddf315": {
          "model_module": "@jupyter-widgets/base",
          "model_module_version": "1.2.0",
          "model_name": "LayoutModel",
          "state": {
            "_model_module": "@jupyter-widgets/base",
            "_model_module_version": "1.2.0",
            "_model_name": "LayoutModel",
            "_view_count": null,
            "_view_module": "@jupyter-widgets/base",
            "_view_module_version": "1.2.0",
            "_view_name": "LayoutView",
            "align_content": null,
            "align_items": null,
            "align_self": null,
            "border": null,
            "bottom": null,
            "display": null,
            "flex": null,
            "flex_flow": null,
            "grid_area": null,
            "grid_auto_columns": null,
            "grid_auto_flow": null,
            "grid_auto_rows": null,
            "grid_column": null,
            "grid_gap": null,
            "grid_row": null,
            "grid_template_areas": null,
            "grid_template_columns": null,
            "grid_template_rows": null,
            "height": null,
            "justify_content": null,
            "justify_items": null,
            "left": null,
            "margin": null,
            "max_height": null,
            "max_width": null,
            "min_height": null,
            "min_width": null,
            "object_fit": null,
            "object_position": null,
            "order": null,
            "overflow": null,
            "overflow_x": null,
            "overflow_y": null,
            "padding": null,
            "right": null,
            "top": null,
            "visibility": null,
            "width": null
          }
        },
        "903cac921af14447a2a01a02abe1fa60": {
          "model_module": "@jupyter-widgets/controls",
          "model_module_version": "1.5.0",
          "model_name": "HTMLModel",
          "state": {
            "_dom_classes": [],
            "_model_module": "@jupyter-widgets/controls",
            "_model_module_version": "1.5.0",
            "_model_name": "HTMLModel",
            "_view_count": null,
            "_view_module": "@jupyter-widgets/controls",
            "_view_module_version": "1.5.0",
            "_view_name": "HTMLView",
            "description": "",
            "description_tooltip": null,
            "layout": "IPY_MODEL_fe017cf5850742edb71e4f46cc4a79fd",
            "placeholder": "​",
            "style": "IPY_MODEL_39f27023f1d742a684233d09e31324e7",
            "value": "artifact.metadata: 100%"
          }
        },
        "9575c681f1a846ada50cb226986cea8d": {
          "model_module": "@jupyter-widgets/base",
          "model_module_version": "1.2.0",
          "model_name": "LayoutModel",
          "state": {
            "_model_module": "@jupyter-widgets/base",
            "_model_module_version": "1.2.0",
            "_model_name": "LayoutModel",
            "_view_count": null,
            "_view_module": "@jupyter-widgets/base",
            "_view_module_version": "1.2.0",
            "_view_name": "LayoutView",
            "align_content": null,
            "align_items": null,
            "align_self": null,
            "border": null,
            "bottom": null,
            "display": null,
            "flex": null,
            "flex_flow": null,
            "grid_area": null,
            "grid_auto_columns": null,
            "grid_auto_flow": null,
            "grid_auto_rows": null,
            "grid_column": null,
            "grid_gap": null,
            "grid_row": null,
            "grid_template_areas": null,
            "grid_template_columns": null,
            "grid_template_rows": null,
            "height": null,
            "justify_content": null,
            "justify_items": null,
            "left": null,
            "margin": null,
            "max_height": null,
            "max_width": null,
            "min_height": null,
            "min_width": null,
            "object_fit": null,
            "object_position": null,
            "order": null,
            "overflow": null,
            "overflow_x": null,
            "overflow_y": null,
            "padding": null,
            "right": null,
            "top": null,
            "visibility": null,
            "width": null
          }
        },
        "98c993c9987c4c1ba55ee3b0d15838a2": {
          "model_module": "@jupyter-widgets/controls",
          "model_module_version": "1.5.0",
          "model_name": "DescriptionStyleModel",
          "state": {
            "_model_module": "@jupyter-widgets/controls",
            "_model_module_version": "1.5.0",
            "_model_name": "DescriptionStyleModel",
            "_view_count": null,
            "_view_module": "@jupyter-widgets/base",
            "_view_module_version": "1.2.0",
            "_view_name": "StyleView",
            "description_width": ""
          }
        },
        "9a2cb870b3fd4c6eae9527ad0cf51104": {
          "model_module": "@jupyter-widgets/base",
          "model_module_version": "1.2.0",
          "model_name": "LayoutModel",
          "state": {
            "_model_module": "@jupyter-widgets/base",
            "_model_module_version": "1.2.0",
            "_model_name": "LayoutModel",
            "_view_count": null,
            "_view_module": "@jupyter-widgets/base",
            "_view_module_version": "1.2.0",
            "_view_name": "LayoutView",
            "align_content": null,
            "align_items": null,
            "align_self": null,
            "border": null,
            "bottom": null,
            "display": null,
            "flex": null,
            "flex_flow": null,
            "grid_area": null,
            "grid_auto_columns": null,
            "grid_auto_flow": null,
            "grid_auto_rows": null,
            "grid_column": null,
            "grid_gap": null,
            "grid_row": null,
            "grid_template_areas": null,
            "grid_template_columns": null,
            "grid_template_rows": null,
            "height": null,
            "justify_content": null,
            "justify_items": null,
            "left": null,
            "margin": null,
            "max_height": null,
            "max_width": null,
            "min_height": null,
            "min_width": null,
            "object_fit": null,
            "object_position": null,
            "order": null,
            "overflow": null,
            "overflow_x": null,
            "overflow_y": null,
            "padding": null,
            "right": null,
            "top": null,
            "visibility": null,
            "width": null
          }
        },
        "a0c3f7d9bbee4b7db19b8050f440b0ab": {
          "model_module": "@jupyter-widgets/controls",
          "model_module_version": "1.5.0",
          "model_name": "HBoxModel",
          "state": {
            "_dom_classes": [],
            "_model_module": "@jupyter-widgets/controls",
            "_model_module_version": "1.5.0",
            "_model_name": "HBoxModel",
            "_view_count": null,
            "_view_module": "@jupyter-widgets/controls",
            "_view_module_version": "1.5.0",
            "_view_name": "HBoxView",
            "box_style": "",
            "children": [
              "IPY_MODEL_74e1f8ba3e7943fca2c130f6b8cf3575",
              "IPY_MODEL_db07b8de5cbc48548c421f37f649caee",
              "IPY_MODEL_e476bc03da7f43548984a2fc72ba03e8"
            ],
            "layout": "IPY_MODEL_22e9c599c9ed4f188ba5c13c4e2a5ebc"
          }
        },
        "a42b05ae4edd405280fdd721e0344676": {
          "model_module": "@jupyter-widgets/base",
          "model_module_version": "1.2.0",
          "model_name": "LayoutModel",
          "state": {
            "_model_module": "@jupyter-widgets/base",
            "_model_module_version": "1.2.0",
            "_model_name": "LayoutModel",
            "_view_count": null,
            "_view_module": "@jupyter-widgets/base",
            "_view_module_version": "1.2.0",
            "_view_name": "LayoutView",
            "align_content": null,
            "align_items": null,
            "align_self": null,
            "border": null,
            "bottom": null,
            "display": null,
            "flex": null,
            "flex_flow": null,
            "grid_area": null,
            "grid_auto_columns": null,
            "grid_auto_flow": null,
            "grid_auto_rows": null,
            "grid_column": null,
            "grid_gap": null,
            "grid_row": null,
            "grid_template_areas": null,
            "grid_template_columns": null,
            "grid_template_rows": null,
            "height": null,
            "justify_content": null,
            "justify_items": null,
            "left": null,
            "margin": null,
            "max_height": null,
            "max_width": null,
            "min_height": null,
            "min_width": null,
            "object_fit": null,
            "object_position": null,
            "order": null,
            "overflow": null,
            "overflow_x": null,
            "overflow_y": null,
            "padding": null,
            "right": null,
            "top": null,
            "visibility": null,
            "width": null
          }
        },
        "aa347ad0d4044aa68df28ca6d828cbb4": {
          "model_module": "@jupyter-widgets/controls",
          "model_module_version": "1.5.0",
          "model_name": "DescriptionStyleModel",
          "state": {
            "_model_module": "@jupyter-widgets/controls",
            "_model_module_version": "1.5.0",
            "_model_name": "DescriptionStyleModel",
            "_view_count": null,
            "_view_module": "@jupyter-widgets/base",
            "_view_module_version": "1.2.0",
            "_view_name": "StyleView",
            "description_width": ""
          }
        },
        "ae783b73013e4dfa8e6a9b12a791b8f3": {
          "model_module": "@jupyter-widgets/base",
          "model_module_version": "1.2.0",
          "model_name": "LayoutModel",
          "state": {
            "_model_module": "@jupyter-widgets/base",
            "_model_module_version": "1.2.0",
            "_model_name": "LayoutModel",
            "_view_count": null,
            "_view_module": "@jupyter-widgets/base",
            "_view_module_version": "1.2.0",
            "_view_name": "LayoutView",
            "align_content": null,
            "align_items": null,
            "align_self": null,
            "border": null,
            "bottom": null,
            "display": null,
            "flex": null,
            "flex_flow": null,
            "grid_area": null,
            "grid_auto_columns": null,
            "grid_auto_flow": null,
            "grid_auto_rows": null,
            "grid_column": null,
            "grid_gap": null,
            "grid_row": null,
            "grid_template_areas": null,
            "grid_template_columns": null,
            "grid_template_rows": null,
            "height": null,
            "justify_content": null,
            "justify_items": null,
            "left": null,
            "margin": null,
            "max_height": null,
            "max_width": null,
            "min_height": null,
            "min_width": null,
            "object_fit": null,
            "object_position": null,
            "order": null,
            "overflow": null,
            "overflow_x": null,
            "overflow_y": null,
            "padding": null,
            "right": null,
            "top": null,
            "visibility": null,
            "width": null
          }
        },
        "b094d8873c484257be3351829f665f54": {
          "model_module": "@jupyter-widgets/base",
          "model_module_version": "1.2.0",
          "model_name": "LayoutModel",
          "state": {
            "_model_module": "@jupyter-widgets/base",
            "_model_module_version": "1.2.0",
            "_model_name": "LayoutModel",
            "_view_count": null,
            "_view_module": "@jupyter-widgets/base",
            "_view_module_version": "1.2.0",
            "_view_name": "LayoutView",
            "align_content": null,
            "align_items": null,
            "align_self": null,
            "border": null,
            "bottom": null,
            "display": null,
            "flex": null,
            "flex_flow": null,
            "grid_area": null,
            "grid_auto_columns": null,
            "grid_auto_flow": null,
            "grid_auto_rows": null,
            "grid_column": null,
            "grid_gap": null,
            "grid_row": null,
            "grid_template_areas": null,
            "grid_template_columns": null,
            "grid_template_rows": null,
            "height": null,
            "justify_content": null,
            "justify_items": null,
            "left": null,
            "margin": null,
            "max_height": null,
            "max_width": null,
            "min_height": null,
            "min_width": null,
            "object_fit": null,
            "object_position": null,
            "order": null,
            "overflow": null,
            "overflow_x": null,
            "overflow_y": null,
            "padding": null,
            "right": null,
            "top": null,
            "visibility": null,
            "width": null
          }
        },
        "b52042f6f226432293abd11656bce94b": {
          "model_module": "@jupyter-widgets/base",
          "model_module_version": "1.2.0",
          "model_name": "LayoutModel",
          "state": {
            "_model_module": "@jupyter-widgets/base",
            "_model_module_version": "1.2.0",
            "_model_name": "LayoutModel",
            "_view_count": null,
            "_view_module": "@jupyter-widgets/base",
            "_view_module_version": "1.2.0",
            "_view_name": "LayoutView",
            "align_content": null,
            "align_items": null,
            "align_self": null,
            "border": null,
            "bottom": null,
            "display": null,
            "flex": null,
            "flex_flow": null,
            "grid_area": null,
            "grid_auto_columns": null,
            "grid_auto_flow": null,
            "grid_auto_rows": null,
            "grid_column": null,
            "grid_gap": null,
            "grid_row": null,
            "grid_template_areas": null,
            "grid_template_columns": null,
            "grid_template_rows": null,
            "height": null,
            "justify_content": null,
            "justify_items": null,
            "left": null,
            "margin": null,
            "max_height": null,
            "max_width": null,
            "min_height": null,
            "min_width": null,
            "object_fit": null,
            "object_position": null,
            "order": null,
            "overflow": null,
            "overflow_x": null,
            "overflow_y": null,
            "padding": null,
            "right": null,
            "top": null,
            "visibility": null,
            "width": null
          }
        },
        "ba6c72c8a16b48e8acacd2cd62a35b6a": {
          "model_module": "@jupyter-widgets/base",
          "model_module_version": "1.2.0",
          "model_name": "LayoutModel",
          "state": {
            "_model_module": "@jupyter-widgets/base",
            "_model_module_version": "1.2.0",
            "_model_name": "LayoutModel",
            "_view_count": null,
            "_view_module": "@jupyter-widgets/base",
            "_view_module_version": "1.2.0",
            "_view_name": "LayoutView",
            "align_content": null,
            "align_items": null,
            "align_self": null,
            "border": null,
            "bottom": null,
            "display": null,
            "flex": null,
            "flex_flow": null,
            "grid_area": null,
            "grid_auto_columns": null,
            "grid_auto_flow": null,
            "grid_auto_rows": null,
            "grid_column": null,
            "grid_gap": null,
            "grid_row": null,
            "grid_template_areas": null,
            "grid_template_columns": null,
            "grid_template_rows": null,
            "height": null,
            "justify_content": null,
            "justify_items": null,
            "left": null,
            "margin": null,
            "max_height": null,
            "max_width": null,
            "min_height": null,
            "min_width": null,
            "object_fit": null,
            "object_position": null,
            "order": null,
            "overflow": null,
            "overflow_x": null,
            "overflow_y": null,
            "padding": null,
            "right": null,
            "top": null,
            "visibility": null,
            "width": null
          }
        },
        "bc901466db9543a891a52682670eff1d": {
          "model_module": "@jupyter-widgets/controls",
          "model_module_version": "1.5.0",
          "model_name": "DescriptionStyleModel",
          "state": {
            "_model_module": "@jupyter-widgets/controls",
            "_model_module_version": "1.5.0",
            "_model_name": "DescriptionStyleModel",
            "_view_count": null,
            "_view_module": "@jupyter-widgets/base",
            "_view_module_version": "1.2.0",
            "_view_name": "StyleView",
            "description_width": ""
          }
        },
        "bcf4a223d43045818098db90e6470cfa": {
          "model_module": "@jupyter-widgets/controls",
          "model_module_version": "1.5.0",
          "model_name": "ProgressStyleModel",
          "state": {
            "_model_module": "@jupyter-widgets/controls",
            "_model_module_version": "1.5.0",
            "_model_name": "ProgressStyleModel",
            "_view_count": null,
            "_view_module": "@jupyter-widgets/base",
            "_view_module_version": "1.2.0",
            "_view_name": "StyleView",
            "bar_color": null,
            "description_width": ""
          }
        },
        "c39bb21b350347678bee62cb857f9e99": {
          "model_module": "@jupyter-widgets/controls",
          "model_module_version": "1.5.0",
          "model_name": "HBoxModel",
          "state": {
            "_dom_classes": [],
            "_model_module": "@jupyter-widgets/controls",
            "_model_module_version": "1.5.0",
            "_model_name": "HBoxModel",
            "_view_count": null,
            "_view_module": "@jupyter-widgets/controls",
            "_view_module_version": "1.5.0",
            "_view_name": "HBoxView",
            "box_style": "",
            "children": [
              "IPY_MODEL_d2c18ddaffea4b698e511502bd599dd6",
              "IPY_MODEL_795d47b949874b49aa0c9b87df7d6cf4",
              "IPY_MODEL_e09cc68079874dd0af65688a37191225"
            ],
            "layout": "IPY_MODEL_9575c681f1a846ada50cb226986cea8d"
          }
        },
        "c69a10a3a35041db9fb042eeb55664bb": {
          "model_module": "@jupyter-widgets/controls",
          "model_module_version": "1.5.0",
          "model_name": "HTMLModel",
          "state": {
            "_dom_classes": [],
            "_model_module": "@jupyter-widgets/controls",
            "_model_module_version": "1.5.0",
            "_model_name": "HTMLModel",
            "_view_count": null,
            "_view_module": "@jupyter-widgets/controls",
            "_view_module_version": "1.5.0",
            "_view_name": "HTMLView",
            "description": "",
            "description_tooltip": null,
            "layout": "IPY_MODEL_f86e65f666e9467b833ff17f3f8399a5",
            "placeholder": "​",
            "style": "IPY_MODEL_498a7547bd7e430291f2705fb2b89b45",
            "value": " 1.24k/1.24k [00:00&lt;00:00, 29.6kB/s]"
          }
        },
        "caae6430636d4781a9d42a33bb39b203": {
          "model_module": "@jupyter-widgets/controls",
          "model_module_version": "1.5.0",
          "model_name": "HBoxModel",
          "state": {
            "_dom_classes": [],
            "_model_module": "@jupyter-widgets/controls",
            "_model_module_version": "1.5.0",
            "_model_name": "HBoxModel",
            "_view_count": null,
            "_view_module": "@jupyter-widgets/controls",
            "_view_module_version": "1.5.0",
            "_view_name": "HBoxView",
            "box_style": "",
            "children": [
              "IPY_MODEL_8844e87c224e4f1b90521cd5439fcd31",
              "IPY_MODEL_0270fce7e5c7429eb4b9a51b7063103d",
              "IPY_MODEL_f1356dc972e84165b5a8cf30fdf26083"
            ],
            "layout": "IPY_MODEL_36cafac5363045698e230fcb51fe375b"
          }
        },
        "cb1f034acb1c422380f213cef0942e67": {
          "model_module": "@jupyter-widgets/base",
          "model_module_version": "1.2.0",
          "model_name": "LayoutModel",
          "state": {
            "_model_module": "@jupyter-widgets/base",
            "_model_module_version": "1.2.0",
            "_model_name": "LayoutModel",
            "_view_count": null,
            "_view_module": "@jupyter-widgets/base",
            "_view_module_version": "1.2.0",
            "_view_name": "LayoutView",
            "align_content": null,
            "align_items": null,
            "align_self": null,
            "border": null,
            "bottom": null,
            "display": null,
            "flex": null,
            "flex_flow": null,
            "grid_area": null,
            "grid_auto_columns": null,
            "grid_auto_flow": null,
            "grid_auto_rows": null,
            "grid_column": null,
            "grid_gap": null,
            "grid_row": null,
            "grid_template_areas": null,
            "grid_template_columns": null,
            "grid_template_rows": null,
            "height": null,
            "justify_content": null,
            "justify_items": null,
            "left": null,
            "margin": null,
            "max_height": null,
            "max_width": null,
            "min_height": null,
            "min_width": null,
            "object_fit": null,
            "object_position": null,
            "order": null,
            "overflow": null,
            "overflow_x": null,
            "overflow_y": null,
            "padding": null,
            "right": null,
            "top": null,
            "visibility": null,
            "width": null
          }
        },
        "ccd0628cffdd40908ce7d495ec8c3053": {
          "model_module": "@jupyter-widgets/controls",
          "model_module_version": "1.5.0",
          "model_name": "ProgressStyleModel",
          "state": {
            "_model_module": "@jupyter-widgets/controls",
            "_model_module_version": "1.5.0",
            "_model_name": "ProgressStyleModel",
            "_view_count": null,
            "_view_module": "@jupyter-widgets/base",
            "_view_module_version": "1.2.0",
            "_view_name": "StyleView",
            "bar_color": null,
            "description_width": ""
          }
        },
        "ce93c7fea2ce44f38b6de69e0e5e102b": {
          "model_module": "@jupyter-widgets/base",
          "model_module_version": "1.2.0",
          "model_name": "LayoutModel",
          "state": {
            "_model_module": "@jupyter-widgets/base",
            "_model_module_version": "1.2.0",
            "_model_name": "LayoutModel",
            "_view_count": null,
            "_view_module": "@jupyter-widgets/base",
            "_view_module_version": "1.2.0",
            "_view_name": "LayoutView",
            "align_content": null,
            "align_items": null,
            "align_self": null,
            "border": null,
            "bottom": null,
            "display": null,
            "flex": null,
            "flex_flow": null,
            "grid_area": null,
            "grid_auto_columns": null,
            "grid_auto_flow": null,
            "grid_auto_rows": null,
            "grid_column": null,
            "grid_gap": null,
            "grid_row": null,
            "grid_template_areas": null,
            "grid_template_columns": null,
            "grid_template_rows": null,
            "height": null,
            "justify_content": null,
            "justify_items": null,
            "left": null,
            "margin": null,
            "max_height": null,
            "max_width": null,
            "min_height": null,
            "min_width": null,
            "object_fit": null,
            "object_position": null,
            "order": null,
            "overflow": null,
            "overflow_x": null,
            "overflow_y": null,
            "padding": null,
            "right": null,
            "top": null,
            "visibility": null,
            "width": null
          }
        },
        "ce95a5dcaab1413abeaaa551467435bf": {
          "model_module": "@jupyter-widgets/base",
          "model_module_version": "1.2.0",
          "model_name": "LayoutModel",
          "state": {
            "_model_module": "@jupyter-widgets/base",
            "_model_module_version": "1.2.0",
            "_model_name": "LayoutModel",
            "_view_count": null,
            "_view_module": "@jupyter-widgets/base",
            "_view_module_version": "1.2.0",
            "_view_name": "LayoutView",
            "align_content": null,
            "align_items": null,
            "align_self": null,
            "border": null,
            "bottom": null,
            "display": null,
            "flex": null,
            "flex_flow": null,
            "grid_area": null,
            "grid_auto_columns": null,
            "grid_auto_flow": null,
            "grid_auto_rows": null,
            "grid_column": null,
            "grid_gap": null,
            "grid_row": null,
            "grid_template_areas": null,
            "grid_template_columns": null,
            "grid_template_rows": null,
            "height": null,
            "justify_content": null,
            "justify_items": null,
            "left": null,
            "margin": null,
            "max_height": null,
            "max_width": null,
            "min_height": null,
            "min_width": null,
            "object_fit": null,
            "object_position": null,
            "order": null,
            "overflow": null,
            "overflow_x": null,
            "overflow_y": null,
            "padding": null,
            "right": null,
            "top": null,
            "visibility": null,
            "width": null
          }
        },
        "cf34a4e1798044898c00b39b6cdf920f": {
          "model_module": "@jupyter-widgets/controls",
          "model_module_version": "1.5.0",
          "model_name": "DescriptionStyleModel",
          "state": {
            "_model_module": "@jupyter-widgets/controls",
            "_model_module_version": "1.5.0",
            "_model_name": "DescriptionStyleModel",
            "_view_count": null,
            "_view_module": "@jupyter-widgets/base",
            "_view_module_version": "1.2.0",
            "_view_name": "StyleView",
            "description_width": ""
          }
        },
        "d2c18ddaffea4b698e511502bd599dd6": {
          "model_module": "@jupyter-widgets/controls",
          "model_module_version": "1.5.0",
          "model_name": "HTMLModel",
          "state": {
            "_dom_classes": [],
            "_model_module": "@jupyter-widgets/controls",
            "_model_module_version": "1.5.0",
            "_model_name": "HTMLModel",
            "_view_count": null,
            "_view_module": "@jupyter-widgets/controls",
            "_view_module_version": "1.5.0",
            "_view_name": "HTMLView",
            "description": "",
            "description_tooltip": null,
            "layout": "IPY_MODEL_ae783b73013e4dfa8e6a9b12a791b8f3",
            "placeholder": "​",
            "style": "IPY_MODEL_7dc4dac203764513b691b8af7c70cf9f",
            "value": "0000.parquet: 100%"
          }
        },
        "d2ce498e94634e478330609d8a7f2f95": {
          "model_module": "@jupyter-widgets/controls",
          "model_module_version": "1.5.0",
          "model_name": "HTMLModel",
          "state": {
            "_dom_classes": [],
            "_model_module": "@jupyter-widgets/controls",
            "_model_module_version": "1.5.0",
            "_model_name": "HTMLModel",
            "_view_count": null,
            "_view_module": "@jupyter-widgets/controls",
            "_view_module_version": "1.5.0",
            "_view_name": "HTMLView",
            "description": "",
            "description_tooltip": null,
            "layout": "IPY_MODEL_34c9e041b0624fff92d4803870ae34f2",
            "placeholder": "​",
            "style": "IPY_MODEL_98c993c9987c4c1ba55ee3b0d15838a2",
            "value": " 702/702 [00:00&lt;00:00, 15.9kB/s]"
          }
        },
        "d637c0136bbd4404900179c0f48bcdd8": {
          "model_module": "@jupyter-widgets/controls",
          "model_module_version": "1.5.0",
          "model_name": "ProgressStyleModel",
          "state": {
            "_model_module": "@jupyter-widgets/controls",
            "_model_module_version": "1.5.0",
            "_model_name": "ProgressStyleModel",
            "_view_count": null,
            "_view_module": "@jupyter-widgets/base",
            "_view_module_version": "1.2.0",
            "_view_name": "StyleView",
            "bar_color": null,
            "description_width": ""
          }
        },
        "d6c56e65496e450bbc45f15ed0ccff13": {
          "model_module": "@jupyter-widgets/base",
          "model_module_version": "1.2.0",
          "model_name": "LayoutModel",
          "state": {
            "_model_module": "@jupyter-widgets/base",
            "_model_module_version": "1.2.0",
            "_model_name": "LayoutModel",
            "_view_count": null,
            "_view_module": "@jupyter-widgets/base",
            "_view_module_version": "1.2.0",
            "_view_name": "LayoutView",
            "align_content": null,
            "align_items": null,
            "align_self": null,
            "border": null,
            "bottom": null,
            "display": null,
            "flex": null,
            "flex_flow": null,
            "grid_area": null,
            "grid_auto_columns": null,
            "grid_auto_flow": null,
            "grid_auto_rows": null,
            "grid_column": null,
            "grid_gap": null,
            "grid_row": null,
            "grid_template_areas": null,
            "grid_template_columns": null,
            "grid_template_rows": null,
            "height": null,
            "justify_content": null,
            "justify_items": null,
            "left": null,
            "margin": null,
            "max_height": null,
            "max_width": null,
            "min_height": null,
            "min_width": null,
            "object_fit": null,
            "object_position": null,
            "order": null,
            "overflow": null,
            "overflow_x": null,
            "overflow_y": null,
            "padding": null,
            "right": null,
            "top": null,
            "visibility": null,
            "width": null
          }
        },
        "d7e73196e9c74761a5ed67f328b4f32c": {
          "model_module": "@jupyter-widgets/controls",
          "model_module_version": "1.5.0",
          "model_name": "ProgressStyleModel",
          "state": {
            "_model_module": "@jupyter-widgets/controls",
            "_model_module_version": "1.5.0",
            "_model_name": "ProgressStyleModel",
            "_view_count": null,
            "_view_module": "@jupyter-widgets/base",
            "_view_module_version": "1.2.0",
            "_view_name": "StyleView",
            "bar_color": null,
            "description_width": ""
          }
        },
        "db07b8de5cbc48548c421f37f649caee": {
          "model_module": "@jupyter-widgets/controls",
          "model_module_version": "1.5.0",
          "model_name": "FloatProgressModel",
          "state": {
            "_dom_classes": [],
            "_model_module": "@jupyter-widgets/controls",
            "_model_module_version": "1.5.0",
            "_model_name": "FloatProgressModel",
            "_view_count": null,
            "_view_module": "@jupyter-widgets/controls",
            "_view_module_version": "1.5.0",
            "_view_name": "ProgressView",
            "bar_style": "success",
            "description": "",
            "description_tooltip": null,
            "layout": "IPY_MODEL_8e74266c09ea44c2b520152ebdddf315",
            "max": 13043,
            "min": 0,
            "orientation": "horizontal",
            "style": "IPY_MODEL_1d705b30f2194a39afb90a4a8a6fad73",
            "value": 13043
          }
        },
        "db46c536a88f47c7ba7b0cebb660c76c": {
          "model_module": "@jupyter-widgets/base",
          "model_module_version": "1.2.0",
          "model_name": "LayoutModel",
          "state": {
            "_model_module": "@jupyter-widgets/base",
            "_model_module_version": "1.2.0",
            "_model_name": "LayoutModel",
            "_view_count": null,
            "_view_module": "@jupyter-widgets/base",
            "_view_module_version": "1.2.0",
            "_view_name": "LayoutView",
            "align_content": null,
            "align_items": null,
            "align_self": null,
            "border": null,
            "bottom": null,
            "display": null,
            "flex": null,
            "flex_flow": null,
            "grid_area": null,
            "grid_auto_columns": null,
            "grid_auto_flow": null,
            "grid_auto_rows": null,
            "grid_column": null,
            "grid_gap": null,
            "grid_row": null,
            "grid_template_areas": null,
            "grid_template_columns": null,
            "grid_template_rows": null,
            "height": null,
            "justify_content": null,
            "justify_items": null,
            "left": null,
            "margin": null,
            "max_height": null,
            "max_width": null,
            "min_height": null,
            "min_width": null,
            "object_fit": null,
            "object_position": null,
            "order": null,
            "overflow": null,
            "overflow_x": null,
            "overflow_y": null,
            "padding": null,
            "right": null,
            "top": null,
            "visibility": null,
            "width": null
          }
        },
        "dbae059781c34ca5a385666820ba8374": {
          "model_module": "@jupyter-widgets/controls",
          "model_module_version": "1.5.0",
          "model_name": "DescriptionStyleModel",
          "state": {
            "_model_module": "@jupyter-widgets/controls",
            "_model_module_version": "1.5.0",
            "_model_name": "DescriptionStyleModel",
            "_view_count": null,
            "_view_module": "@jupyter-widgets/base",
            "_view_module_version": "1.2.0",
            "_view_name": "StyleView",
            "description_width": ""
          }
        },
        "dda10cdf60284c2d89856bd48f6d3703": {
          "model_module": "@jupyter-widgets/controls",
          "model_module_version": "1.5.0",
          "model_name": "FloatProgressModel",
          "state": {
            "_dom_classes": [],
            "_model_module": "@jupyter-widgets/controls",
            "_model_module_version": "1.5.0",
            "_model_name": "FloatProgressModel",
            "_view_count": null,
            "_view_module": "@jupyter-widgets/controls",
            "_view_module_version": "1.5.0",
            "_view_name": "ProgressView",
            "bar_style": "success",
            "description": "",
            "description_tooltip": null,
            "layout": "IPY_MODEL_183d71b26497454eb61022148a425cd3",
            "max": 695,
            "min": 0,
            "orientation": "horizontal",
            "style": "IPY_MODEL_11453b133dc449d8be338babee9e7367",
            "value": 695
          }
        },
        "deb1bf6382434c5bb1b94168a643af2a": {
          "model_module": "@jupyter-widgets/controls",
          "model_module_version": "1.5.0",
          "model_name": "HTMLModel",
          "state": {
            "_dom_classes": [],
            "_model_module": "@jupyter-widgets/controls",
            "_model_module_version": "1.5.0",
            "_model_name": "HTMLModel",
            "_view_count": null,
            "_view_module": "@jupyter-widgets/controls",
            "_view_module_version": "1.5.0",
            "_view_name": "HTMLView",
            "description": "",
            "description_tooltip": null,
            "layout": "IPY_MODEL_ce93c7fea2ce44f38b6de69e0e5e102b",
            "placeholder": "​",
            "style": "IPY_MODEL_417230729d094a7aa195ef33fe0b2364",
            "value": " 695/695 [00:00&lt;00:00, 12.6kB/s]"
          }
        },
        "df116a2604a7476ab50f5f853e81e424": {
          "model_module": "@jupyter-widgets/controls",
          "model_module_version": "1.5.0",
          "model_name": "DescriptionStyleModel",
          "state": {
            "_model_module": "@jupyter-widgets/controls",
            "_model_module_version": "1.5.0",
            "_model_name": "DescriptionStyleModel",
            "_view_count": null,
            "_view_module": "@jupyter-widgets/base",
            "_view_module_version": "1.2.0",
            "_view_name": "StyleView",
            "description_width": ""
          }
        },
        "dfe0d155856d49f49672d81d33a412de": {
          "model_module": "@jupyter-widgets/controls",
          "model_module_version": "1.5.0",
          "model_name": "HTMLModel",
          "state": {
            "_dom_classes": [],
            "_model_module": "@jupyter-widgets/controls",
            "_model_module_version": "1.5.0",
            "_model_name": "HTMLModel",
            "_view_count": null,
            "_view_module": "@jupyter-widgets/controls",
            "_view_module_version": "1.5.0",
            "_view_name": "HTMLView",
            "description": "",
            "description_tooltip": null,
            "layout": "IPY_MODEL_5ef282ef01af4573aaea2630bf2264be",
            "placeholder": "​",
            "style": "IPY_MODEL_dbae059781c34ca5a385666820ba8374",
            "value": " 702/702 [00:00&lt;00:00, 16.2kB/s]"
          }
        },
        "e09cc68079874dd0af65688a37191225": {
          "model_module": "@jupyter-widgets/controls",
          "model_module_version": "1.5.0",
          "model_name": "HTMLModel",
          "state": {
            "_dom_classes": [],
            "_model_module": "@jupyter-widgets/controls",
            "_model_module_version": "1.5.0",
            "_model_name": "HTMLModel",
            "_view_count": null,
            "_view_module": "@jupyter-widgets/controls",
            "_view_module_version": "1.5.0",
            "_view_name": "HTMLView",
            "description": "",
            "description_tooltip": null,
            "layout": "IPY_MODEL_ce95a5dcaab1413abeaaa551467435bf",
            "placeholder": "​",
            "style": "IPY_MODEL_ee47e2dc7b0d47a0b8372fc56be77bab",
            "value": " 2.72M/2.72M [00:00&lt;00:00, 17.1MB/s]"
          }
        },
        "e302cf3dfe624849a86dfb698de87240": {
          "model_module": "@jupyter-widgets/controls",
          "model_module_version": "1.5.0",
          "model_name": "FloatProgressModel",
          "state": {
            "_dom_classes": [],
            "_model_module": "@jupyter-widgets/controls",
            "_model_module_version": "1.5.0",
            "_model_name": "FloatProgressModel",
            "_view_count": null,
            "_view_module": "@jupyter-widgets/controls",
            "_view_module_version": "1.5.0",
            "_view_name": "ProgressView",
            "bar_style": "success",
            "description": "",
            "description_tooltip": null,
            "layout": "IPY_MODEL_b094d8873c484257be3351829f665f54",
            "max": 702,
            "min": 0,
            "orientation": "horizontal",
            "style": "IPY_MODEL_88301dea122b4e25b0d36c5b1b840955",
            "value": 702
          }
        },
        "e476bc03da7f43548984a2fc72ba03e8": {
          "model_module": "@jupyter-widgets/controls",
          "model_module_version": "1.5.0",
          "model_name": "HTMLModel",
          "state": {
            "_dom_classes": [],
            "_model_module": "@jupyter-widgets/controls",
            "_model_module_version": "1.5.0",
            "_model_name": "HTMLModel",
            "_view_count": null,
            "_view_module": "@jupyter-widgets/controls",
            "_view_module_version": "1.5.0",
            "_view_name": "HTMLView",
            "description": "",
            "description_tooltip": null,
            "layout": "IPY_MODEL_fac48ace6ac1410891b691add92c927b",
            "placeholder": "​",
            "style": "IPY_MODEL_e949447b5705406f92587cb4a470c8e6",
            "value": " 13.0k/13.0k [00:00&lt;00:00, 413kB/s]"
          }
        },
        "e607d9321eb047b5aeac1e38a4da9e35": {
          "model_module": "@jupyter-widgets/controls",
          "model_module_version": "1.5.0",
          "model_name": "HBoxModel",
          "state": {
            "_dom_classes": [],
            "_model_module": "@jupyter-widgets/controls",
            "_model_module_version": "1.5.0",
            "_model_name": "HBoxModel",
            "_view_count": null,
            "_view_module": "@jupyter-widgets/controls",
            "_view_module_version": "1.5.0",
            "_view_name": "HBoxView",
            "box_style": "",
            "children": [
              "IPY_MODEL_17856dc15e324eb8bc1254baa3b2c486",
              "IPY_MODEL_3d62544e61de457b89b4404c81700cfc",
              "IPY_MODEL_0e352d2acde74ee0a7ed8683029720d5"
            ],
            "layout": "IPY_MODEL_f9c149c4e7ee4b0b983c58f0ea7f27bf"
          }
        },
        "e72aac9d4d7545f5bb34a23bcf41de00": {
          "model_module": "@jupyter-widgets/controls",
          "model_module_version": "1.5.0",
          "model_name": "ProgressStyleModel",
          "state": {
            "_model_module": "@jupyter-widgets/controls",
            "_model_module_version": "1.5.0",
            "_model_name": "ProgressStyleModel",
            "_view_count": null,
            "_view_module": "@jupyter-widgets/base",
            "_view_module_version": "1.2.0",
            "_view_name": "StyleView",
            "bar_color": null,
            "description_width": ""
          }
        },
        "e949447b5705406f92587cb4a470c8e6": {
          "model_module": "@jupyter-widgets/controls",
          "model_module_version": "1.5.0",
          "model_name": "DescriptionStyleModel",
          "state": {
            "_model_module": "@jupyter-widgets/controls",
            "_model_module_version": "1.5.0",
            "_model_name": "DescriptionStyleModel",
            "_view_count": null,
            "_view_module": "@jupyter-widgets/base",
            "_view_module_version": "1.2.0",
            "_view_name": "StyleView",
            "description_width": ""
          }
        },
        "ecc6477a1b8a425cb8729260a238ac3f": {
          "model_module": "@jupyter-widgets/base",
          "model_module_version": "1.2.0",
          "model_name": "LayoutModel",
          "state": {
            "_model_module": "@jupyter-widgets/base",
            "_model_module_version": "1.2.0",
            "_model_name": "LayoutModel",
            "_view_count": null,
            "_view_module": "@jupyter-widgets/base",
            "_view_module_version": "1.2.0",
            "_view_name": "LayoutView",
            "align_content": null,
            "align_items": null,
            "align_self": null,
            "border": null,
            "bottom": null,
            "display": null,
            "flex": null,
            "flex_flow": null,
            "grid_area": null,
            "grid_auto_columns": null,
            "grid_auto_flow": null,
            "grid_auto_rows": null,
            "grid_column": null,
            "grid_gap": null,
            "grid_row": null,
            "grid_template_areas": null,
            "grid_template_columns": null,
            "grid_template_rows": null,
            "height": null,
            "justify_content": null,
            "justify_items": null,
            "left": null,
            "margin": null,
            "max_height": null,
            "max_width": null,
            "min_height": null,
            "min_width": null,
            "object_fit": null,
            "object_position": null,
            "order": null,
            "overflow": null,
            "overflow_x": null,
            "overflow_y": null,
            "padding": null,
            "right": null,
            "top": null,
            "visibility": null,
            "width": null
          }
        },
        "ee44752cc09f4f3cb186181e490fd92d": {
          "model_module": "@jupyter-widgets/controls",
          "model_module_version": "1.5.0",
          "model_name": "HTMLModel",
          "state": {
            "_dom_classes": [],
            "_model_module": "@jupyter-widgets/controls",
            "_model_module_version": "1.5.0",
            "_model_name": "HTMLModel",
            "_view_count": null,
            "_view_module": "@jupyter-widgets/controls",
            "_view_module_version": "1.5.0",
            "_view_name": "HTMLView",
            "description": "",
            "description_tooltip": null,
            "layout": "IPY_MODEL_0e0740f0844146169d8f53ee2cba36b9",
            "placeholder": "​",
            "style": "IPY_MODEL_fc2185facb9042c28e3507e61dbd5dae",
            "value": "special_tokens_map.json: 100%"
          }
        },
        "ee47e2dc7b0d47a0b8372fc56be77bab": {
          "model_module": "@jupyter-widgets/controls",
          "model_module_version": "1.5.0",
          "model_name": "DescriptionStyleModel",
          "state": {
            "_model_module": "@jupyter-widgets/controls",
            "_model_module_version": "1.5.0",
            "_model_name": "DescriptionStyleModel",
            "_view_count": null,
            "_view_module": "@jupyter-widgets/base",
            "_view_module_version": "1.2.0",
            "_view_name": "StyleView",
            "description_width": ""
          }
        },
        "f0abf52203fa433c90d29b997f4e3831": {
          "model_module": "@jupyter-widgets/base",
          "model_module_version": "1.2.0",
          "model_name": "LayoutModel",
          "state": {
            "_model_module": "@jupyter-widgets/base",
            "_model_module_version": "1.2.0",
            "_model_name": "LayoutModel",
            "_view_count": null,
            "_view_module": "@jupyter-widgets/base",
            "_view_module_version": "1.2.0",
            "_view_name": "LayoutView",
            "align_content": null,
            "align_items": null,
            "align_self": null,
            "border": null,
            "bottom": null,
            "display": null,
            "flex": null,
            "flex_flow": null,
            "grid_area": null,
            "grid_auto_columns": null,
            "grid_auto_flow": null,
            "grid_auto_rows": null,
            "grid_column": null,
            "grid_gap": null,
            "grid_row": null,
            "grid_template_areas": null,
            "grid_template_columns": null,
            "grid_template_rows": null,
            "height": null,
            "justify_content": null,
            "justify_items": null,
            "left": null,
            "margin": null,
            "max_height": null,
            "max_width": null,
            "min_height": null,
            "min_width": null,
            "object_fit": null,
            "object_position": null,
            "order": null,
            "overflow": null,
            "overflow_x": null,
            "overflow_y": null,
            "padding": null,
            "right": null,
            "top": null,
            "visibility": null,
            "width": null
          }
        },
        "f1356dc972e84165b5a8cf30fdf26083": {
          "model_module": "@jupyter-widgets/controls",
          "model_module_version": "1.5.0",
          "model_name": "HTMLModel",
          "state": {
            "_dom_classes": [],
            "_model_module": "@jupyter-widgets/controls",
            "_model_module_version": "1.5.0",
            "_model_name": "HTMLModel",
            "_view_count": null,
            "_view_module": "@jupyter-widgets/controls",
            "_view_module_version": "1.5.0",
            "_view_name": "HTMLView",
            "description": "",
            "description_tooltip": null,
            "layout": "IPY_MODEL_0ad232adc306409988035612c2ce4054",
            "placeholder": "​",
            "style": "IPY_MODEL_df116a2604a7476ab50f5f853e81e424",
            "value": " 69199/69199 [00:00&lt;00:00, 241117.96 examples/s]"
          }
        },
        "f501cc0434ce4e368096bbed1feea428": {
          "model_module": "@jupyter-widgets/base",
          "model_module_version": "1.2.0",
          "model_name": "LayoutModel",
          "state": {
            "_model_module": "@jupyter-widgets/base",
            "_model_module_version": "1.2.0",
            "_model_name": "LayoutModel",
            "_view_count": null,
            "_view_module": "@jupyter-widgets/base",
            "_view_module_version": "1.2.0",
            "_view_name": "LayoutView",
            "align_content": null,
            "align_items": null,
            "align_self": null,
            "border": null,
            "bottom": null,
            "display": null,
            "flex": null,
            "flex_flow": null,
            "grid_area": null,
            "grid_auto_columns": null,
            "grid_auto_flow": null,
            "grid_auto_rows": null,
            "grid_column": null,
            "grid_gap": null,
            "grid_row": null,
            "grid_template_areas": null,
            "grid_template_columns": null,
            "grid_template_rows": null,
            "height": null,
            "justify_content": null,
            "justify_items": null,
            "left": null,
            "margin": null,
            "max_height": null,
            "max_width": null,
            "min_height": null,
            "min_width": null,
            "object_fit": null,
            "object_position": null,
            "order": null,
            "overflow": null,
            "overflow_x": null,
            "overflow_y": null,
            "padding": null,
            "right": null,
            "top": null,
            "visibility": null,
            "width": null
          }
        },
        "f86e65f666e9467b833ff17f3f8399a5": {
          "model_module": "@jupyter-widgets/base",
          "model_module_version": "1.2.0",
          "model_name": "LayoutModel",
          "state": {
            "_model_module": "@jupyter-widgets/base",
            "_model_module_version": "1.2.0",
            "_model_name": "LayoutModel",
            "_view_count": null,
            "_view_module": "@jupyter-widgets/base",
            "_view_module_version": "1.2.0",
            "_view_name": "LayoutView",
            "align_content": null,
            "align_items": null,
            "align_self": null,
            "border": null,
            "bottom": null,
            "display": null,
            "flex": null,
            "flex_flow": null,
            "grid_area": null,
            "grid_auto_columns": null,
            "grid_auto_flow": null,
            "grid_auto_rows": null,
            "grid_column": null,
            "grid_gap": null,
            "grid_row": null,
            "grid_template_areas": null,
            "grid_template_columns": null,
            "grid_template_rows": null,
            "height": null,
            "justify_content": null,
            "justify_items": null,
            "left": null,
            "margin": null,
            "max_height": null,
            "max_width": null,
            "min_height": null,
            "min_width": null,
            "object_fit": null,
            "object_position": null,
            "order": null,
            "overflow": null,
            "overflow_x": null,
            "overflow_y": null,
            "padding": null,
            "right": null,
            "top": null,
            "visibility": null,
            "width": null
          }
        },
        "f881eb018d9e4d0d83c0ef78a880b627": {
          "model_module": "@jupyter-widgets/controls",
          "model_module_version": "1.5.0",
          "model_name": "FloatProgressModel",
          "state": {
            "_dom_classes": [],
            "_model_module": "@jupyter-widgets/controls",
            "_model_module_version": "1.5.0",
            "_model_name": "FloatProgressModel",
            "_view_count": null,
            "_view_module": "@jupyter-widgets/controls",
            "_view_module_version": "1.5.0",
            "_view_name": "ProgressView",
            "bar_style": "success",
            "description": "",
            "description_tooltip": null,
            "layout": "IPY_MODEL_8870304e758747cfaef9216f49e576c1",
            "max": 231508,
            "min": 0,
            "orientation": "horizontal",
            "style": "IPY_MODEL_ccd0628cffdd40908ce7d495ec8c3053",
            "value": 231508
          }
        },
        "f9c149c4e7ee4b0b983c58f0ea7f27bf": {
          "model_module": "@jupyter-widgets/base",
          "model_module_version": "1.2.0",
          "model_name": "LayoutModel",
          "state": {
            "_model_module": "@jupyter-widgets/base",
            "_model_module_version": "1.2.0",
            "_model_name": "LayoutModel",
            "_view_count": null,
            "_view_module": "@jupyter-widgets/base",
            "_view_module_version": "1.2.0",
            "_view_name": "LayoutView",
            "align_content": null,
            "align_items": null,
            "align_self": null,
            "border": null,
            "bottom": null,
            "display": null,
            "flex": null,
            "flex_flow": null,
            "grid_area": null,
            "grid_auto_columns": null,
            "grid_auto_flow": null,
            "grid_auto_rows": null,
            "grid_column": null,
            "grid_gap": null,
            "grid_row": null,
            "grid_template_areas": null,
            "grid_template_columns": null,
            "grid_template_rows": null,
            "height": null,
            "justify_content": null,
            "justify_items": null,
            "left": null,
            "margin": null,
            "max_height": null,
            "max_width": null,
            "min_height": null,
            "min_width": null,
            "object_fit": null,
            "object_position": null,
            "order": null,
            "overflow": null,
            "overflow_x": null,
            "overflow_y": null,
            "padding": null,
            "right": null,
            "top": null,
            "visibility": null,
            "width": null
          }
        },
        "fac48ace6ac1410891b691add92c927b": {
          "model_module": "@jupyter-widgets/base",
          "model_module_version": "1.2.0",
          "model_name": "LayoutModel",
          "state": {
            "_model_module": "@jupyter-widgets/base",
            "_model_module_version": "1.2.0",
            "_model_name": "LayoutModel",
            "_view_count": null,
            "_view_module": "@jupyter-widgets/base",
            "_view_module_version": "1.2.0",
            "_view_name": "LayoutView",
            "align_content": null,
            "align_items": null,
            "align_self": null,
            "border": null,
            "bottom": null,
            "display": null,
            "flex": null,
            "flex_flow": null,
            "grid_area": null,
            "grid_auto_columns": null,
            "grid_auto_flow": null,
            "grid_auto_rows": null,
            "grid_column": null,
            "grid_gap": null,
            "grid_row": null,
            "grid_template_areas": null,
            "grid_template_columns": null,
            "grid_template_rows": null,
            "height": null,
            "justify_content": null,
            "justify_items": null,
            "left": null,
            "margin": null,
            "max_height": null,
            "max_width": null,
            "min_height": null,
            "min_width": null,
            "object_fit": null,
            "object_position": null,
            "order": null,
            "overflow": null,
            "overflow_x": null,
            "overflow_y": null,
            "padding": null,
            "right": null,
            "top": null,
            "visibility": null,
            "width": null
          }
        },
        "fb94def1a1c341108f6aad992b5cd66f": {
          "model_module": "@jupyter-widgets/controls",
          "model_module_version": "1.5.0",
          "model_name": "HBoxModel",
          "state": {
            "_dom_classes": [],
            "_model_module": "@jupyter-widgets/controls",
            "_model_module_version": "1.5.0",
            "_model_name": "HBoxModel",
            "_view_count": null,
            "_view_module": "@jupyter-widgets/controls",
            "_view_module_version": "1.5.0",
            "_view_name": "HBoxView",
            "box_style": "",
            "children": [
              "IPY_MODEL_0baced33ca4c40199aa7ecf8131cb6c3",
              "IPY_MODEL_f881eb018d9e4d0d83c0ef78a880b627",
              "IPY_MODEL_6db85e6757474caea601d60a4af8cf8f"
            ],
            "layout": "IPY_MODEL_62c5dadfe4bd4a669f7e99b54599e7aa"
          }
        },
        "fc2185facb9042c28e3507e61dbd5dae": {
          "model_module": "@jupyter-widgets/controls",
          "model_module_version": "1.5.0",
          "model_name": "DescriptionStyleModel",
          "state": {
            "_model_module": "@jupyter-widgets/controls",
            "_model_module_version": "1.5.0",
            "_model_name": "DescriptionStyleModel",
            "_view_count": null,
            "_view_module": "@jupyter-widgets/base",
            "_view_module_version": "1.2.0",
            "_view_name": "StyleView",
            "description_width": ""
          }
        },
        "fd3556a3f0e942db8ccfb750453de036": {
          "model_module": "@jupyter-widgets/controls",
          "model_module_version": "1.5.0",
          "model_name": "HBoxModel",
          "state": {
            "_dom_classes": [],
            "_model_module": "@jupyter-widgets/controls",
            "_model_module_version": "1.5.0",
            "_model_name": "HBoxModel",
            "_view_count": null,
            "_view_module": "@jupyter-widgets/controls",
            "_view_module_version": "1.5.0",
            "_view_name": "HBoxView",
            "box_style": "",
            "children": [
              "IPY_MODEL_8af306ee7f404d77b0bf678c249ec20c",
              "IPY_MODEL_6c8af5d1f7c34a02a86bd11535a42461",
              "IPY_MODEL_c69a10a3a35041db9fb042eeb55664bb"
            ],
            "layout": "IPY_MODEL_5308486abe3444feabe86f2de44d778c"
          }
        },
        "fe017cf5850742edb71e4f46cc4a79fd": {
          "model_module": "@jupyter-widgets/base",
          "model_module_version": "1.2.0",
          "model_name": "LayoutModel",
          "state": {
            "_model_module": "@jupyter-widgets/base",
            "_model_module_version": "1.2.0",
            "_model_name": "LayoutModel",
            "_view_count": null,
            "_view_module": "@jupyter-widgets/base",
            "_view_module_version": "1.2.0",
            "_view_name": "LayoutView",
            "align_content": null,
            "align_items": null,
            "align_self": null,
            "border": null,
            "bottom": null,
            "display": null,
            "flex": null,
            "flex_flow": null,
            "grid_area": null,
            "grid_auto_columns": null,
            "grid_auto_flow": null,
            "grid_auto_rows": null,
            "grid_column": null,
            "grid_gap": null,
            "grid_row": null,
            "grid_template_areas": null,
            "grid_template_columns": null,
            "grid_template_rows": null,
            "height": null,
            "justify_content": null,
            "justify_items": null,
            "left": null,
            "margin": null,
            "max_height": null,
            "max_width": null,
            "min_height": null,
            "min_width": null,
            "object_fit": null,
            "object_position": null,
            "order": null,
            "overflow": null,
            "overflow_x": null,
            "overflow_y": null,
            "padding": null,
            "right": null,
            "top": null,
            "visibility": null,
            "width": null
          }
        },
        "ff829fe4b7e9487bafe3fc70b8333f75": {
          "model_module": "@jupyter-widgets/base",
          "model_module_version": "1.2.0",
          "model_name": "LayoutModel",
          "state": {
            "_model_module": "@jupyter-widgets/base",
            "_model_module_version": "1.2.0",
            "_model_name": "LayoutModel",
            "_view_count": null,
            "_view_module": "@jupyter-widgets/base",
            "_view_module_version": "1.2.0",
            "_view_name": "LayoutView",
            "align_content": null,
            "align_items": null,
            "align_self": null,
            "border": null,
            "bottom": null,
            "display": null,
            "flex": null,
            "flex_flow": null,
            "grid_area": null,
            "grid_auto_columns": null,
            "grid_auto_flow": null,
            "grid_auto_rows": null,
            "grid_column": null,
            "grid_gap": null,
            "grid_row": null,
            "grid_template_areas": null,
            "grid_template_columns": null,
            "grid_template_rows": null,
            "height": null,
            "justify_content": null,
            "justify_items": null,
            "left": null,
            "margin": null,
            "max_height": null,
            "max_width": null,
            "min_height": null,
            "min_width": null,
            "object_fit": null,
            "object_position": null,
            "order": null,
            "overflow": null,
            "overflow_x": null,
            "overflow_y": null,
            "padding": null,
            "right": null,
            "top": null,
            "visibility": null,
            "width": null
          }
        }
      }
    }
  },
  "nbformat": 4,
  "nbformat_minor": 0
}

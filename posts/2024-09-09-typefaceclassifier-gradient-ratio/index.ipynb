{
  "cells": [
    {
      "cell_type": "raw",
      "metadata": {
        "vscode": {
          "languageId": "raw"
        }
      },
      "source": [
        "---\n",
        "title: Calculating the Ratio of Gradients in an Image\n",
        "date: \"2024-09-09\"\n",
        "author: Vishal Bakshi\n",
        "description: In this blog post I use the OpenCV library to calculate the ratio of the sum of non-zero x- and y-gradients to the sum of non-zero original pixels of an image. The serif font has consistently larger ratios than the sans serif font.\n",
        "filters:\n",
        "   - lightbox\n",
        "lightbox: auto\n",
        "categories:\n",
        "    - python\n",
        "    - computer vision\n",
        "    - TypefaceClassifier\n",
        "---"
      ]
    },
    {
      "cell_type": "markdown",
      "metadata": {
        "id": "klWm5MVc3ICp"
      },
      "source": [
        "## Background"
      ]
    },
    {
      "cell_type": "markdown",
      "metadata": {
        "id": "OvyA8Zp23Fp5"
      },
      "source": [
        "In this notebook I'll walk through an algorithm suggested by Claude to distinguish one typeface (like `display`) from another (like `serif`) in which we calculate the magnitude of how much the pixel's intensity changes in the vertical and horizontal directions of an image, relative to the pixels in the original image. I call this algorithm \"gradient ratio.\n",
        "\n",
        "This algorithm is part of my exploration of non-ML baselines to classify text images into various typeface categories (e.g., “humanist sans,” “grotesque sans,” “script,” “display,” etc.). Once the non-ML baseline is established, I'll train a neural network for this task. This is one of many notebooks in my [TypefaceClassifier project series](https://vishalbakshi.github.io/blog/#category=TypefaceClassifier)."
      ]
    },
    {
      "cell_type": "code",
      "execution_count": 48,
      "metadata": {
        "id": "zDu48pxd2DuR"
      },
      "outputs": [],
      "source": [
        "import cv2\n",
        "import numpy as np\n",
        "import pandas as pd\n",
        "from google.colab.patches import cv2_imshow"
      ]
    },
    {
      "cell_type": "markdown",
      "metadata": {
        "id": "amZkvJbA5Kcz"
      },
      "source": [
        "## Load Image and Binarize It"
      ]
    },
    {
      "cell_type": "markdown",
      "metadata": {
        "id": "mwLH2En15KsB"
      },
      "source": [
        "As usual, we load the image and binarize it so it's easier to distinguish between background (black pixels) and text (white pixels)."
      ]
    },
    {
      "cell_type": "code",
      "execution_count": 49,
      "metadata": {
        "colab": {
          "base_uri": "https://localhost:8080/",
          "height": 552
        },
        "id": "Ycv5xHav5MUZ",
        "outputId": "976e733d-f489-4da0-b140-a8d6d1e827e2"
      },
      "outputs": [
        {
          "data": {
            "text/html": [
              "<style>\n",
              "      .ndarray_repr .ndarray_raw_data {\n",
              "        display: none;\n",
              "      }\n",
              "      .ndarray_repr.show_array .ndarray_raw_data {\n",
              "        display: block;\n",
              "      }\n",
              "      .ndarray_repr.show_array .ndarray_image_preview {\n",
              "        display: none;\n",
              "      }\n",
              "      </style>\n",
              "      <div id=\"id-5dbea973-0626-4a89-98ce-c6b0429917b8\" class=\"ndarray_repr\"><pre>ndarray (512, 512) <button style=\"padding: 0 2px;\">show data</button></pre><img src=\"data:image/png;base64,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\" class=\"ndarray_image_preview\" /><pre class=\"ndarray_raw_data\">array([[0, 0, 0, ..., 0, 0, 0],\n",
              "       [0, 0, 0, ..., 0, 0, 0],\n",
              "       [0, 0, 0, ..., 0, 0, 0],\n",
              "       ...,\n",
              "       [0, 0, 0, ..., 0, 0, 0],\n",
              "       [0, 0, 0, ..., 0, 0, 0],\n",
              "       [0, 0, 0, ..., 0, 0, 0]], dtype=uint8)</pre></div><script>\n",
              "      (() => {\n",
              "      const titles = ['show data', 'hide data'];\n",
              "      let index = 0\n",
              "      document.querySelector('#id-5dbea973-0626-4a89-98ce-c6b0429917b8 button').onclick = (e) => {\n",
              "        document.querySelector('#id-5dbea973-0626-4a89-98ce-c6b0429917b8').classList.toggle('show_array');\n",
              "        index = (++index) % 2;\n",
              "        document.querySelector('#id-5dbea973-0626-4a89-98ce-c6b0429917b8 button').textContent = titles[index];\n",
              "        e.preventDefault();\n",
              "        e.stopPropagation();\n",
              "      }\n",
              "      })();\n",
              "    </script>"
            ],
            "text/plain": [
              "array([[0, 0, 0, ..., 0, 0, 0],\n",
              "       [0, 0, 0, ..., 0, 0, 0],\n",
              "       [0, 0, 0, ..., 0, 0, 0],\n",
              "       ...,\n",
              "       [0, 0, 0, ..., 0, 0, 0],\n",
              "       [0, 0, 0, ..., 0, 0, 0],\n",
              "       [0, 0, 0, ..., 0, 0, 0]], dtype=uint8)"
            ]
          },
          "execution_count": 49,
          "metadata": {},
          "output_type": "execute_result"
        }
      ],
      "source": [
        "path = 'serif-76px.png'\n",
        "img = cv2.imread(path, cv2.IMREAD_GRAYSCALE)\n",
        "_, binary = cv2.threshold(img, 0, 255, cv2.THRESH_BINARY_INV + cv2.THRESH_OTSU)\n",
        "binary"
      ]
    },
    {
      "cell_type": "markdown",
      "metadata": {
        "id": "zkuEvR1C6oZa"
      },
      "source": [
        "## Calculate the Vertical and Horizontal Gradient Ratios"
      ]
    },
    {
      "cell_type": "markdown",
      "metadata": {
        "id": "DqKyXyub6vzS"
      },
      "source": [
        "I'll then calculate the horizontal (x) and vertical (y) gradients using `cv2.Sobel`. From the OpenCV docs:\n",
        "\n",
        "> The Sobel Operator is a discrete differentiation operator. It computes an approximation of the gradient of an image intensity function.\n",
        "\n",
        "To calculate horizontal gradients, when the kernel size is `3`, we apply a convolution between the following kernel and the image:\n",
        "\n",
        "\\begin{bmatrix} -1 & 0 & +1 \\\\ -2 & 0 & +2 \\\\ -1 & 0 & +1 \\end{bmatrix}\n",
        "\n",
        "For vertical gradients, when the kernel size is `3`, the we apply a convolution between the following kernel and the image:\n",
        "\n",
        "\\begin{bmatrix} -1 & -2 & -1 \\\\ 0 & 0 & 0 \\\\ +1 & +2 & +1 \\end{bmatrix}\n",
        "\n",
        "I initially tried a kernel size of 3, but it didn't seem to work well for smaller font sizes so I chose a kernel size of 1. In that case, the kernels are as follows:\n",
        "\n",
        "horizontal gradients:\n",
        "\n",
        "\n",
        "\\begin{bmatrix} +1 , -1 \\end{bmatrix}\n",
        "\n",
        "vertical gradients:\n",
        "\n",
        "\\begin{bmatrix} +1 \\\\ -1 \\end{bmatrix}"
      ]
    },
    {
      "cell_type": "code",
      "execution_count": 58,
      "metadata": {
        "id": "VtpwB1pe5Whs"
      },
      "outputs": [],
      "source": [
        "gradient_x = cv2.Sobel(binary, cv2.CV_64F, 1, 0, ksize=1)\n",
        "gradient_y = cv2.Sobel(binary, cv2.CV_64F, 0, 1, ksize=1)"
      ]
    },
    {
      "cell_type": "code",
      "execution_count": 59,
      "metadata": {
        "colab": {
          "base_uri": "https://localhost:8080/",
          "height": 529
        },
        "id": "4afNBOUY731z",
        "outputId": "d512482f-e140-44bd-9821-e171963d506e"
      },
      "outputs": [
        {
          "data": {
            "image/png": "[encoded data removed]",
            "text/plain": [
              "<PIL.Image.Image image mode=L size=512x512>"
            ]
          },
          "metadata": {},
          "output_type": "display_data"
        }
      ],
      "source": [
        "cv2_imshow(gradient_x)"
      ]
    },
    {
      "cell_type": "code",
      "execution_count": 60,
      "metadata": {
        "colab": {
          "base_uri": "https://localhost:8080/",
          "height": 529
        },
        "id": "MVgSN0qo75VX",
        "outputId": "df447956-cfbf-4488-aba8-d85e55582efe"
      },
      "outputs": [
        {
          "data": {
            "image/png": "[encoded data removed]",
            "text/plain": [
              "<PIL.Image.Image image mode=L size=512x512>"
            ]
          },
          "metadata": {},
          "output_type": "display_data"
        }
      ],
      "source": [
        "cv2_imshow(gradient_y)"
      ]
    },
    {
      "cell_type": "markdown",
      "metadata": {
        "id": "t3JTXwns7_ro"
      },
      "source": [
        "Next I take the sum of non-zero pixels in each gradient and divide it by the sum of non-zero pixels in the original image."
      ]
    },
    {
      "cell_type": "code",
      "execution_count": 61,
      "metadata": {
        "colab": {
          "base_uri": "https://localhost:8080/"
        },
        "id": "7LpzBPeO77PO",
        "outputId": "96a51263-5149-4749-c529-2ff53556b46a"
      },
      "outputs": [
        {
          "data": {
            "text/plain": [
              "(0.23421579532814238, 0.19083426028921024)"
            ]
          },
          "execution_count": 61,
          "metadata": {},
          "output_type": "execute_result"
        }
      ],
      "source": [
        "gradient_x = np.sum(gradient_x > 0)\n",
        "gradient_y = np.sum(gradient_y  > 0)\n",
        "total_pixels = np.sum(binary > 0)\n",
        "\n",
        "avg_gradient_x = gradient_x / total_pixels\n",
        "avg_gradient_y = gradient_y / total_pixels\n",
        "\n",
        "avg_gradient_x, avg_gradient_y"
      ]
    },
    {
      "cell_type": "markdown",
      "metadata": {
        "id": "outNxeH-8KfC"
      },
      "source": [
        "The average gradient ratio is the mean value of these two gradients."
      ]
    },
    {
      "cell_type": "code",
      "execution_count": 62,
      "metadata": {
        "colab": {
          "base_uri": "https://localhost:8080/"
        },
        "id": "Ud-PwJzk8EbI",
        "outputId": "6f58dfcb-fba7-4cad-8090-6443155b5e42"
      },
      "outputs": [
        {
          "data": {
            "text/plain": [
              "0.21252502780867633"
            ]
          },
          "execution_count": 62,
          "metadata": {},
          "output_type": "execute_result"
        }
      ],
      "source": [
        "np.mean([avg_gradient_x, avg_gradient_y])"
      ]
    },
    {
      "cell_type": "markdown",
      "metadata": {
        "id": "I1IhJbaA8Rk7"
      },
      "source": [
        "## Calculating the Average Gradient Ratio for Different Images"
      ]
    },
    {
      "cell_type": "markdown",
      "metadata": {
        "id": "t8tjtAP98YPM"
      },
      "source": [
        "I'll now wrap the code above into a function and apply it to a wide variety of images (of two typefaces, `display` and `serif` and 8 different font sizes)."
      ]
    },
    {
      "cell_type": "code",
      "execution_count": 63,
      "metadata": {
        "id": "rGH6Eld38NNR"
      },
      "outputs": [],
      "source": [
        "def gradient_ratio(image_path):\n",
        "    img = cv2.imread(image_path, cv2.IMREAD_GRAYSCALE)\n",
        "    _, binary = cv2.threshold(img, 0, 255, cv2.THRESH_BINARY_INV + cv2.THRESH_OTSU)\n",
        "\n",
        "    gradient_x = np.sum(cv2.Sobel(binary, cv2.CV_64F, 1, 0, ksize=1) > 0)\n",
        "    gradient_y = np.sum(cv2.Sobel(binary, cv2.CV_64F, 0, 1, ksize=1) > 0)\n",
        "    total_pixels = np.sum(binary > 0)\n",
        "\n",
        "    avg_gradient_x = gradient_x / total_pixels\n",
        "    avg_gradient_y = gradient_y / total_pixels\n",
        "\n",
        "    return np.mean([avg_gradient_x, avg_gradient_y])"
      ]
    },
    {
      "cell_type": "markdown",
      "metadata": {
        "id": "50GgP9Rr8jPX"
      },
      "source": [
        "Across 8 font sizes for the two typefaces, the gradient ratio is larger for the `serif` font. This makes intuitive sense---serif fonts have more changes in pixel intensity (caused by the transition from thicker stroke to thinner serif)."
      ]
    },
    {
      "cell_type": "code",
      "execution_count": 64,
      "metadata": {
        "colab": {
          "base_uri": "https://localhost:8080/",
          "height": 143
        },
        "id": "dlj9ATha8jYw",
        "outputId": "10ac99d0-a99e-43de-c2dd-be52a405e46b"
      },
      "outputs": [
        {
          "data": {
            "application/vnd.google.colaboratory.intrinsic+json": {
              "summary": "{\n  \"name\": \"res\",\n  \"rows\": 2,\n  \"fields\": [\n    {\n      \"column\": \"typeface\",\n      \"properties\": {\n        \"dtype\": \"string\",\n        \"num_unique_values\": 2,\n        \"samples\": [\n          \"serif\",\n          \"display\"\n        ],\n        \"semantic_type\": \"\",\n        \"description\": \"\"\n      }\n    },\n    {\n      \"column\": \"mean\",\n      \"properties\": {\n        \"dtype\": \"number\",\n        \"std\": 0.04657282369584289,\n        \"min\": 0.22654204544299053,\n        \"max\": 0.2924059643516626,\n        \"num_unique_values\": 2,\n        \"samples\": [\n          0.2924059643516626,\n          0.22654204544299053\n        ],\n        \"semantic_type\": \"\",\n        \"description\": \"\"\n      }\n    },\n    {\n      \"column\": \"median\",\n      \"properties\": {\n        \"dtype\": \"number\",\n        \"std\": 0.0693413398967828,\n        \"min\": 0.19949469925419303,\n        \"max\": 0.29755816256934586,\n        \"num_unique_values\": 2,\n        \"samples\": [\n          0.29755816256934586,\n          0.19949469925419303\n        ],\n        \"semantic_type\": \"\",\n        \"description\": \"\"\n      }\n    }\n  ]\n}",
              "type": "dataframe"
            },
            "text/html": [
              "\n",
              "  <div id=\"df-342633ea-c382-4277-a3b1-c7a7f0391479\" class=\"colab-df-container\">\n",
              "    <div>\n",
              "<style scoped>\n",
              "    .dataframe tbody tr th:only-of-type {\n",
              "        vertical-align: middle;\n",
              "    }\n",
              "\n",
              "    .dataframe tbody tr th {\n",
              "        vertical-align: top;\n",
              "    }\n",
              "\n",
              "    .dataframe thead th {\n",
              "        text-align: right;\n",
              "    }\n",
              "</style>\n",
              "<table border=\"1\" class=\"dataframe\">\n",
              "  <thead>\n",
              "    <tr style=\"text-align: right;\">\n",
              "      <th></th>\n",
              "      <th>mean</th>\n",
              "      <th>median</th>\n",
              "    </tr>\n",
              "    <tr>\n",
              "      <th>typeface</th>\n",
              "      <th></th>\n",
              "      <th></th>\n",
              "    </tr>\n",
              "  </thead>\n",
              "  <tbody>\n",
              "    <tr>\n",
              "      <th>display</th>\n",
              "      <td>0.226542</td>\n",
              "      <td>0.199495</td>\n",
              "    </tr>\n",
              "    <tr>\n",
              "      <th>serif</th>\n",
              "      <td>0.292406</td>\n",
              "      <td>0.297558</td>\n",
              "    </tr>\n",
              "  </tbody>\n",
              "</table>\n",
              "</div>\n",
              "    <div class=\"colab-df-buttons\">\n",
              "\n",
              "  <div class=\"colab-df-container\">\n",
              "    <button class=\"colab-df-convert\" onclick=\"convertToInteractive('df-342633ea-c382-4277-a3b1-c7a7f0391479')\"\n",
              "            title=\"Convert this dataframe to an interactive table.\"\n",
              "            style=\"display:none;\">\n",
              "\n",
              "  <svg xmlns=\"http://www.w3.org/2000/svg\" height=\"24px\" viewBox=\"0 -960 960 960\">\n",
              "    <path d=\"M120-120v-720h720v720H120Zm60-500h600v-160H180v160Zm220 220h160v-160H400v160Zm0 220h160v-160H400v160ZM180-400h160v-160H180v160Zm440 0h160v-160H620v160ZM180-180h160v-160H180v160Zm440 0h160v-160H620v160Z\"/>\n",
              "  </svg>\n",
              "    </button>\n",
              "\n",
              "  <style>\n",
              "    .colab-df-container {\n",
              "      display:flex;\n",
              "      gap: 12px;\n",
              "    }\n",
              "\n",
              "    .colab-df-convert {\n",
              "      background-color: #E8F0FE;\n",
              "      border: none;\n",
              "      border-radius: 50%;\n",
              "      cursor: pointer;\n",
              "      display: none;\n",
              "      fill: #1967D2;\n",
              "      height: 32px;\n",
              "      padding: 0 0 0 0;\n",
              "      width: 32px;\n",
              "    }\n",
              "\n",
              "    .colab-df-convert:hover {\n",
              "      background-color: #E2EBFA;\n",
              "      box-shadow: 0px 1px 2px rgba(60, 64, 67, 0.3), 0px 1px 3px 1px rgba(60, 64, 67, 0.15);\n",
              "      fill: #174EA6;\n",
              "    }\n",
              "\n",
              "    .colab-df-buttons div {\n",
              "      margin-bottom: 4px;\n",
              "    }\n",
              "\n",
              "    [theme=dark] .colab-df-convert {\n",
              "      background-color: #3B4455;\n",
              "      fill: #D2E3FC;\n",
              "    }\n",
              "\n",
              "    [theme=dark] .colab-df-convert:hover {\n",
              "      background-color: #434B5C;\n",
              "      box-shadow: 0px 1px 3px 1px rgba(0, 0, 0, 0.15);\n",
              "      filter: drop-shadow(0px 1px 2px rgba(0, 0, 0, 0.3));\n",
              "      fill: #FFFFFF;\n",
              "    }\n",
              "  </style>\n",
              "\n",
              "    <script>\n",
              "      const buttonEl =\n",
              "        document.querySelector('#df-342633ea-c382-4277-a3b1-c7a7f0391479 button.colab-df-convert');\n",
              "      buttonEl.style.display =\n",
              "        google.colab.kernel.accessAllowed ? 'block' : 'none';\n",
              "\n",
              "      async function convertToInteractive(key) {\n",
              "        const element = document.querySelector('#df-342633ea-c382-4277-a3b1-c7a7f0391479');\n",
              "        const dataTable =\n",
              "          await google.colab.kernel.invokeFunction('convertToInteractive',\n",
              "                                                    [key], {});\n",
              "        if (!dataTable) return;\n",
              "\n",
              "        const docLinkHtml = 'Like what you see? Visit the ' +\n",
              "          '<a target=\"_blank\" href=https://colab.research.google.com/notebooks/data_table.ipynb>data table notebook</a>'\n",
              "          + ' to learn more about interactive tables.';\n",
              "        element.innerHTML = '';\n",
              "        dataTable['output_type'] = 'display_data';\n",
              "        await google.colab.output.renderOutput(dataTable, element);\n",
              "        const docLink = document.createElement('div');\n",
              "        docLink.innerHTML = docLinkHtml;\n",
              "        element.appendChild(docLink);\n",
              "      }\n",
              "    </script>\n",
              "  </div>\n",
              "\n",
              "\n",
              "<div id=\"df-65339f53-4baf-476d-b88f-2295b62e976c\">\n",
              "  <button class=\"colab-df-quickchart\" onclick=\"quickchart('df-65339f53-4baf-476d-b88f-2295b62e976c')\"\n",
              "            title=\"Suggest charts\"\n",
              "            style=\"display:none;\">\n",
              "\n",
              "<svg xmlns=\"http://www.w3.org/2000/svg\" height=\"24px\"viewBox=\"0 0 24 24\"\n",
              "     width=\"24px\">\n",
              "    <g>\n",
              "        <path d=\"M19 3H5c-1.1 0-2 .9-2 2v14c0 1.1.9 2 2 2h14c1.1 0 2-.9 2-2V5c0-1.1-.9-2-2-2zM9 17H7v-7h2v7zm4 0h-2V7h2v10zm4 0h-2v-4h2v4z\"/>\n",
              "    </g>\n",
              "</svg>\n",
              "  </button>\n",
              "\n",
              "<style>\n",
              "  .colab-df-quickchart {\n",
              "      --bg-color: #E8F0FE;\n",
              "      --fill-color: #1967D2;\n",
              "      --hover-bg-color: #E2EBFA;\n",
              "      --hover-fill-color: #174EA6;\n",
              "      --disabled-fill-color: #AAA;\n",
              "      --disabled-bg-color: #DDD;\n",
              "  }\n",
              "\n",
              "  [theme=dark] .colab-df-quickchart {\n",
              "      --bg-color: #3B4455;\n",
              "      --fill-color: #D2E3FC;\n",
              "      --hover-bg-color: #434B5C;\n",
              "      --hover-fill-color: #FFFFFF;\n",
              "      --disabled-bg-color: #3B4455;\n",
              "      --disabled-fill-color: #666;\n",
              "  }\n",
              "\n",
              "  .colab-df-quickchart {\n",
              "    background-color: var(--bg-color);\n",
              "    border: none;\n",
              "    border-radius: 50%;\n",
              "    cursor: pointer;\n",
              "    display: none;\n",
              "    fill: var(--fill-color);\n",
              "    height: 32px;\n",
              "    padding: 0;\n",
              "    width: 32px;\n",
              "  }\n",
              "\n",
              "  .colab-df-quickchart:hover {\n",
              "    background-color: var(--hover-bg-color);\n",
              "    box-shadow: 0 1px 2px rgba(60, 64, 67, 0.3), 0 1px 3px 1px rgba(60, 64, 67, 0.15);\n",
              "    fill: var(--button-hover-fill-color);\n",
              "  }\n",
              "\n",
              "  .colab-df-quickchart-complete:disabled,\n",
              "  .colab-df-quickchart-complete:disabled:hover {\n",
              "    background-color: var(--disabled-bg-color);\n",
              "    fill: var(--disabled-fill-color);\n",
              "    box-shadow: none;\n",
              "  }\n",
              "\n",
              "  .colab-df-spinner {\n",
              "    border: 2px solid var(--fill-color);\n",
              "    border-color: transparent;\n",
              "    border-bottom-color: var(--fill-color);\n",
              "    animation:\n",
              "      spin 1s steps(1) infinite;\n",
              "  }\n",
              "\n",
              "  @keyframes spin {\n",
              "    0% {\n",
              "      border-color: transparent;\n",
              "      border-bottom-color: var(--fill-color);\n",
              "      border-left-color: var(--fill-color);\n",
              "    }\n",
              "    20% {\n",
              "      border-color: transparent;\n",
              "      border-left-color: var(--fill-color);\n",
              "      border-top-color: var(--fill-color);\n",
              "    }\n",
              "    30% {\n",
              "      border-color: transparent;\n",
              "      border-left-color: var(--fill-color);\n",
              "      border-top-color: var(--fill-color);\n",
              "      border-right-color: var(--fill-color);\n",
              "    }\n",
              "    40% {\n",
              "      border-color: transparent;\n",
              "      border-right-color: var(--fill-color);\n",
              "      border-top-color: var(--fill-color);\n",
              "    }\n",
              "    60% {\n",
              "      border-color: transparent;\n",
              "      border-right-color: var(--fill-color);\n",
              "    }\n",
              "    80% {\n",
              "      border-color: transparent;\n",
              "      border-right-color: var(--fill-color);\n",
              "      border-bottom-color: var(--fill-color);\n",
              "    }\n",
              "    90% {\n",
              "      border-color: transparent;\n",
              "      border-bottom-color: var(--fill-color);\n",
              "    }\n",
              "  }\n",
              "</style>\n",
              "\n",
              "  <script>\n",
              "    async function quickchart(key) {\n",
              "      const quickchartButtonEl =\n",
              "        document.querySelector('#' + key + ' button');\n",
              "      quickchartButtonEl.disabled = true;  // To prevent multiple clicks.\n",
              "      quickchartButtonEl.classList.add('colab-df-spinner');\n",
              "      try {\n",
              "        const charts = await google.colab.kernel.invokeFunction(\n",
              "            'suggestCharts', [key], {});\n",
              "      } catch (error) {\n",
              "        console.error('Error during call to suggestCharts:', error);\n",
              "      }\n",
              "      quickchartButtonEl.classList.remove('colab-df-spinner');\n",
              "      quickchartButtonEl.classList.add('colab-df-quickchart-complete');\n",
              "    }\n",
              "    (() => {\n",
              "      let quickchartButtonEl =\n",
              "        document.querySelector('#df-65339f53-4baf-476d-b88f-2295b62e976c button');\n",
              "      quickchartButtonEl.style.display =\n",
              "        google.colab.kernel.accessAllowed ? 'block' : 'none';\n",
              "    })();\n",
              "  </script>\n",
              "</div>\n",
              "\n",
              "    </div>\n",
              "  </div>\n"
            ],
            "text/plain": [
              "              mean    median\n",
              "typeface                    \n",
              "display   0.226542  0.199495\n",
              "serif     0.292406  0.297558"
            ]
          },
          "execution_count": 64,
          "metadata": {},
          "output_type": "execute_result"
        }
      ],
      "source": [
        "szs = [8, 18, 24, 36, 76, 240, 330, 420]\n",
        "ts = ['display', 'serif']\n",
        "res = []\n",
        "\n",
        "for t in ts:\n",
        "    for sz in szs:\n",
        "        image_path = f\"{t}-{sz}px.png\"\n",
        "        sr = gradient_ratio(image_path)\n",
        "        res.append([t, sz, sr])\n",
        "\n",
        "res = pd.DataFrame(res, columns=['typeface', 'font-size', 'gradient-ratio'])\n",
        "res.groupby('typeface')['gradient-ratio'].agg(['mean', 'median'])"
      ]
    },
    {
      "cell_type": "markdown",
      "metadata": {
        "id": "FWWoFcRm85be"
      },
      "source": [
        "For all font sizes, this trend is consistent: images with the `serif` font have higher gradient ratios than images with the sans serif `display` font. Again, this makes sense to me---sans serif fonts have more consistent strokes than serif fonts."
      ]
    },
    {
      "cell_type": "code",
      "execution_count": 65,
      "metadata": {
        "colab": {
          "base_uri": "https://localhost:8080/",
          "height": 551
        },
        "id": "IhBFkOm_85ij",
        "outputId": "7b282042-ad8a-4d64-cace-6485712e693d"
      },
      "outputs": [
        {
          "data": {
            "application/vnd.google.colaboratory.intrinsic+json": {
              "summary": "{\n  \"name\": \"res\",\n  \"rows\": 16,\n  \"fields\": [\n    {\n      \"column\": \"typeface\",\n      \"properties\": {\n        \"dtype\": \"category\",\n        \"num_unique_values\": 2,\n        \"samples\": [\n          \"serif\",\n          \"display\"\n        ],\n        \"semantic_type\": \"\",\n        \"description\": \"\"\n      }\n    },\n    {\n      \"column\": \"font-size\",\n      \"properties\": {\n        \"dtype\": \"number\",\n        \"std\": 157,\n        \"min\": 8,\n        \"max\": 420,\n        \"num_unique_values\": 8,\n        \"samples\": [\n          18,\n          240\n        ],\n        \"semantic_type\": \"\",\n        \"description\": \"\"\n      }\n    },\n    {\n      \"column\": \"gradient-ratio\",\n      \"properties\": {\n        \"dtype\": \"number\",\n        \"std\": 0.20283047406787122,\n        \"min\": 0.0262977858860602,\n        \"max\": 0.5815174266007447,\n        \"num_unique_values\": 16,\n        \"samples\": [\n          0.4763960852043754,\n          0.48278047749841535\n        ],\n        \"semantic_type\": \"\",\n        \"description\": \"\"\n      }\n    }\n  ]\n}",
              "type": "dataframe"
            },
            "text/html": [
              "\n",
              "  <div id=\"df-bd74a66b-84a3-4fdb-ba97-8f4ca778bf0f\" class=\"colab-df-container\">\n",
              "    <div>\n",
              "<style scoped>\n",
              "    .dataframe tbody tr th:only-of-type {\n",
              "        vertical-align: middle;\n",
              "    }\n",
              "\n",
              "    .dataframe tbody tr th {\n",
              "        vertical-align: top;\n",
              "    }\n",
              "\n",
              "    .dataframe thead th {\n",
              "        text-align: right;\n",
              "    }\n",
              "</style>\n",
              "<table border=\"1\" class=\"dataframe\">\n",
              "  <thead>\n",
              "    <tr style=\"text-align: right;\">\n",
              "      <th></th>\n",
              "      <th>typeface</th>\n",
              "      <th>font-size</th>\n",
              "      <th>gradient-ratio</th>\n",
              "    </tr>\n",
              "  </thead>\n",
              "  <tbody>\n",
              "    <tr>\n",
              "      <th>0</th>\n",
              "      <td>display</td>\n",
              "      <td>8</td>\n",
              "      <td>0.476396</td>\n",
              "    </tr>\n",
              "    <tr>\n",
              "      <th>8</th>\n",
              "      <td>serif</td>\n",
              "      <td>8</td>\n",
              "      <td>0.482780</td>\n",
              "    </tr>\n",
              "    <tr>\n",
              "      <th>1</th>\n",
              "      <td>display</td>\n",
              "      <td>18</td>\n",
              "      <td>0.453141</td>\n",
              "    </tr>\n",
              "    <tr>\n",
              "      <th>9</th>\n",
              "      <td>serif</td>\n",
              "      <td>18</td>\n",
              "      <td>0.581517</td>\n",
              "    </tr>\n",
              "    <tr>\n",
              "      <th>2</th>\n",
              "      <td>display</td>\n",
              "      <td>24</td>\n",
              "      <td>0.381917</td>\n",
              "    </tr>\n",
              "    <tr>\n",
              "      <th>10</th>\n",
              "      <td>serif</td>\n",
              "      <td>24</td>\n",
              "      <td>0.500400</td>\n",
              "    </tr>\n",
              "    <tr>\n",
              "      <th>3</th>\n",
              "      <td>display</td>\n",
              "      <td>36</td>\n",
              "      <td>0.264844</td>\n",
              "    </tr>\n",
              "    <tr>\n",
              "      <th>11</th>\n",
              "      <td>serif</td>\n",
              "      <td>36</td>\n",
              "      <td>0.382591</td>\n",
              "    </tr>\n",
              "    <tr>\n",
              "      <th>4</th>\n",
              "      <td>display</td>\n",
              "      <td>76</td>\n",
              "      <td>0.134145</td>\n",
              "    </tr>\n",
              "    <tr>\n",
              "      <th>12</th>\n",
              "      <td>serif</td>\n",
              "      <td>76</td>\n",
              "      <td>0.212525</td>\n",
              "    </tr>\n",
              "    <tr>\n",
              "      <th>5</th>\n",
              "      <td>display</td>\n",
              "      <td>240</td>\n",
              "      <td>0.042527</td>\n",
              "    </tr>\n",
              "    <tr>\n",
              "      <th>13</th>\n",
              "      <td>serif</td>\n",
              "      <td>240</td>\n",
              "      <td>0.077130</td>\n",
              "    </tr>\n",
              "    <tr>\n",
              "      <th>6</th>\n",
              "      <td>display</td>\n",
              "      <td>330</td>\n",
              "      <td>0.033067</td>\n",
              "    </tr>\n",
              "    <tr>\n",
              "      <th>14</th>\n",
              "      <td>serif</td>\n",
              "      <td>330</td>\n",
              "      <td>0.057649</td>\n",
              "    </tr>\n",
              "    <tr>\n",
              "      <th>7</th>\n",
              "      <td>display</td>\n",
              "      <td>420</td>\n",
              "      <td>0.026298</td>\n",
              "    </tr>\n",
              "    <tr>\n",
              "      <th>15</th>\n",
              "      <td>serif</td>\n",
              "      <td>420</td>\n",
              "      <td>0.044654</td>\n",
              "    </tr>\n",
              "  </tbody>\n",
              "</table>\n",
              "</div>\n",
              "    <div class=\"colab-df-buttons\">\n",
              "\n",
              "  <div class=\"colab-df-container\">\n",
              "    <button class=\"colab-df-convert\" onclick=\"convertToInteractive('df-bd74a66b-84a3-4fdb-ba97-8f4ca778bf0f')\"\n",
              "            title=\"Convert this dataframe to an interactive table.\"\n",
              "            style=\"display:none;\">\n",
              "\n",
              "  <svg xmlns=\"http://www.w3.org/2000/svg\" height=\"24px\" viewBox=\"0 -960 960 960\">\n",
              "    <path d=\"M120-120v-720h720v720H120Zm60-500h600v-160H180v160Zm220 220h160v-160H400v160Zm0 220h160v-160H400v160ZM180-400h160v-160H180v160Zm440 0h160v-160H620v160ZM180-180h160v-160H180v160Zm440 0h160v-160H620v160Z\"/>\n",
              "  </svg>\n",
              "    </button>\n",
              "\n",
              "  <style>\n",
              "    .colab-df-container {\n",
              "      display:flex;\n",
              "      gap: 12px;\n",
              "    }\n",
              "\n",
              "    .colab-df-convert {\n",
              "      background-color: #E8F0FE;\n",
              "      border: none;\n",
              "      border-radius: 50%;\n",
              "      cursor: pointer;\n",
              "      display: none;\n",
              "      fill: #1967D2;\n",
              "      height: 32px;\n",
              "      padding: 0 0 0 0;\n",
              "      width: 32px;\n",
              "    }\n",
              "\n",
              "    .colab-df-convert:hover {\n",
              "      background-color: #E2EBFA;\n",
              "      box-shadow: 0px 1px 2px rgba(60, 64, 67, 0.3), 0px 1px 3px 1px rgba(60, 64, 67, 0.15);\n",
              "      fill: #174EA6;\n",
              "    }\n",
              "\n",
              "    .colab-df-buttons div {\n",
              "      margin-bottom: 4px;\n",
              "    }\n",
              "\n",
              "    [theme=dark] .colab-df-convert {\n",
              "      background-color: #3B4455;\n",
              "      fill: #D2E3FC;\n",
              "    }\n",
              "\n",
              "    [theme=dark] .colab-df-convert:hover {\n",
              "      background-color: #434B5C;\n",
              "      box-shadow: 0px 1px 3px 1px rgba(0, 0, 0, 0.15);\n",
              "      filter: drop-shadow(0px 1px 2px rgba(0, 0, 0, 0.3));\n",
              "      fill: #FFFFFF;\n",
              "    }\n",
              "  </style>\n",
              "\n",
              "    <script>\n",
              "      const buttonEl =\n",
              "        document.querySelector('#df-bd74a66b-84a3-4fdb-ba97-8f4ca778bf0f button.colab-df-convert');\n",
              "      buttonEl.style.display =\n",
              "        google.colab.kernel.accessAllowed ? 'block' : 'none';\n",
              "\n",
              "      async function convertToInteractive(key) {\n",
              "        const element = document.querySelector('#df-bd74a66b-84a3-4fdb-ba97-8f4ca778bf0f');\n",
              "        const dataTable =\n",
              "          await google.colab.kernel.invokeFunction('convertToInteractive',\n",
              "                                                    [key], {});\n",
              "        if (!dataTable) return;\n",
              "\n",
              "        const docLinkHtml = 'Like what you see? Visit the ' +\n",
              "          '<a target=\"_blank\" href=https://colab.research.google.com/notebooks/data_table.ipynb>data table notebook</a>'\n",
              "          + ' to learn more about interactive tables.';\n",
              "        element.innerHTML = '';\n",
              "        dataTable['output_type'] = 'display_data';\n",
              "        await google.colab.output.renderOutput(dataTable, element);\n",
              "        const docLink = document.createElement('div');\n",
              "        docLink.innerHTML = docLinkHtml;\n",
              "        element.appendChild(docLink);\n",
              "      }\n",
              "    </script>\n",
              "  </div>\n",
              "\n",
              "\n",
              "<div id=\"df-fa630c72-a95b-46ef-a9ad-c14822917ff5\">\n",
              "  <button class=\"colab-df-quickchart\" onclick=\"quickchart('df-fa630c72-a95b-46ef-a9ad-c14822917ff5')\"\n",
              "            title=\"Suggest charts\"\n",
              "            style=\"display:none;\">\n",
              "\n",
              "<svg xmlns=\"http://www.w3.org/2000/svg\" height=\"24px\"viewBox=\"0 0 24 24\"\n",
              "     width=\"24px\">\n",
              "    <g>\n",
              "        <path d=\"M19 3H5c-1.1 0-2 .9-2 2v14c0 1.1.9 2 2 2h14c1.1 0 2-.9 2-2V5c0-1.1-.9-2-2-2zM9 17H7v-7h2v7zm4 0h-2V7h2v10zm4 0h-2v-4h2v4z\"/>\n",
              "    </g>\n",
              "</svg>\n",
              "  </button>\n",
              "\n",
              "<style>\n",
              "  .colab-df-quickchart {\n",
              "      --bg-color: #E8F0FE;\n",
              "      --fill-color: #1967D2;\n",
              "      --hover-bg-color: #E2EBFA;\n",
              "      --hover-fill-color: #174EA6;\n",
              "      --disabled-fill-color: #AAA;\n",
              "      --disabled-bg-color: #DDD;\n",
              "  }\n",
              "\n",
              "  [theme=dark] .colab-df-quickchart {\n",
              "      --bg-color: #3B4455;\n",
              "      --fill-color: #D2E3FC;\n",
              "      --hover-bg-color: #434B5C;\n",
              "      --hover-fill-color: #FFFFFF;\n",
              "      --disabled-bg-color: #3B4455;\n",
              "      --disabled-fill-color: #666;\n",
              "  }\n",
              "\n",
              "  .colab-df-quickchart {\n",
              "    background-color: var(--bg-color);\n",
              "    border: none;\n",
              "    border-radius: 50%;\n",
              "    cursor: pointer;\n",
              "    display: none;\n",
              "    fill: var(--fill-color);\n",
              "    height: 32px;\n",
              "    padding: 0;\n",
              "    width: 32px;\n",
              "  }\n",
              "\n",
              "  .colab-df-quickchart:hover {\n",
              "    background-color: var(--hover-bg-color);\n",
              "    box-shadow: 0 1px 2px rgba(60, 64, 67, 0.3), 0 1px 3px 1px rgba(60, 64, 67, 0.15);\n",
              "    fill: var(--button-hover-fill-color);\n",
              "  }\n",
              "\n",
              "  .colab-df-quickchart-complete:disabled,\n",
              "  .colab-df-quickchart-complete:disabled:hover {\n",
              "    background-color: var(--disabled-bg-color);\n",
              "    fill: var(--disabled-fill-color);\n",
              "    box-shadow: none;\n",
              "  }\n",
              "\n",
              "  .colab-df-spinner {\n",
              "    border: 2px solid var(--fill-color);\n",
              "    border-color: transparent;\n",
              "    border-bottom-color: var(--fill-color);\n",
              "    animation:\n",
              "      spin 1s steps(1) infinite;\n",
              "  }\n",
              "\n",
              "  @keyframes spin {\n",
              "    0% {\n",
              "      border-color: transparent;\n",
              "      border-bottom-color: var(--fill-color);\n",
              "      border-left-color: var(--fill-color);\n",
              "    }\n",
              "    20% {\n",
              "      border-color: transparent;\n",
              "      border-left-color: var(--fill-color);\n",
              "      border-top-color: var(--fill-color);\n",
              "    }\n",
              "    30% {\n",
              "      border-color: transparent;\n",
              "      border-left-color: var(--fill-color);\n",
              "      border-top-color: var(--fill-color);\n",
              "      border-right-color: var(--fill-color);\n",
              "    }\n",
              "    40% {\n",
              "      border-color: transparent;\n",
              "      border-right-color: var(--fill-color);\n",
              "      border-top-color: var(--fill-color);\n",
              "    }\n",
              "    60% {\n",
              "      border-color: transparent;\n",
              "      border-right-color: var(--fill-color);\n",
              "    }\n",
              "    80% {\n",
              "      border-color: transparent;\n",
              "      border-right-color: var(--fill-color);\n",
              "      border-bottom-color: var(--fill-color);\n",
              "    }\n",
              "    90% {\n",
              "      border-color: transparent;\n",
              "      border-bottom-color: var(--fill-color);\n",
              "    }\n",
              "  }\n",
              "</style>\n",
              "\n",
              "  <script>\n",
              "    async function quickchart(key) {\n",
              "      const quickchartButtonEl =\n",
              "        document.querySelector('#' + key + ' button');\n",
              "      quickchartButtonEl.disabled = true;  // To prevent multiple clicks.\n",
              "      quickchartButtonEl.classList.add('colab-df-spinner');\n",
              "      try {\n",
              "        const charts = await google.colab.kernel.invokeFunction(\n",
              "            'suggestCharts', [key], {});\n",
              "      } catch (error) {\n",
              "        console.error('Error during call to suggestCharts:', error);\n",
              "      }\n",
              "      quickchartButtonEl.classList.remove('colab-df-spinner');\n",
              "      quickchartButtonEl.classList.add('colab-df-quickchart-complete');\n",
              "    }\n",
              "    (() => {\n",
              "      let quickchartButtonEl =\n",
              "        document.querySelector('#df-fa630c72-a95b-46ef-a9ad-c14822917ff5 button');\n",
              "      quickchartButtonEl.style.display =\n",
              "        google.colab.kernel.accessAllowed ? 'block' : 'none';\n",
              "    })();\n",
              "  </script>\n",
              "</div>\n",
              "\n",
              "    </div>\n",
              "  </div>\n"
            ],
            "text/plain": [
              "   typeface  font-size  gradient-ratio\n",
              "0   display          8        0.476396\n",
              "8     serif          8        0.482780\n",
              "1   display         18        0.453141\n",
              "9     serif         18        0.581517\n",
              "2   display         24        0.381917\n",
              "10    serif         24        0.500400\n",
              "3   display         36        0.264844\n",
              "11    serif         36        0.382591\n",
              "4   display         76        0.134145\n",
              "12    serif         76        0.212525\n",
              "5   display        240        0.042527\n",
              "13    serif        240        0.077130\n",
              "6   display        330        0.033067\n",
              "14    serif        330        0.057649\n",
              "7   display        420        0.026298\n",
              "15    serif        420        0.044654"
            ]
          },
          "execution_count": 65,
          "metadata": {},
          "output_type": "execute_result"
        }
      ],
      "source": [
        "res.sort_values(by='font-size')"
      ]
    },
    {
      "cell_type": "markdown",
      "metadata": {
        "id": "oOt_yKojDM7a"
      },
      "source": [
        "Similar to the [contour ratio algorithm](https://vishalbakshi.github.io/blog/posts/2024-09-06-typefaceclassifier-contour-ratio/) there is a clear and consistent difference in value between serif and sans serif fonts for this gradient ratio algorithm, making this a good candidate for distinguishing between typefaces.\n",
        "\n",
        "This is also another relatively simple algorithm, and each step can be easily visualized.\n",
        "\n",
        "I hope you enjoyed this blog post! Follow me on Twitter [@vishal_learner](https://twitter.com/vishal_learner)."
      ]
    }
  ],
  "metadata": {
    "colab": {
      "provenance": []
    },
    "kernelspec": {
      "display_name": "Python 3",
      "name": "python3"
    },
    "language_info": {
      "name": "python"
    }
  },
  "nbformat": 4,
  "nbformat_minor": 0
}

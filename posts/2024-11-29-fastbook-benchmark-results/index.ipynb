{
 "cells": [
  {
   "cell_type": "raw",
   "metadata": {
    "vscode": {
     "languageId": "raw"
    }
   },
   "source": [
    "---\n",
    "title: Scoring Full Text and Semantic Search on Chunk Sizes from 100 to 2000 Tokens\n",
    "date: \"2024-11-29\"\n",
    "author: Vishal Bakshi\n",
    "description: In this blog post, I run retrieval on three differently preprocessed datasets using four retrieval methods from chunk sizes 100 to 2000 tokens, using my fastbook-benchmark dataset to auto-score the results. Surprisingly, full text search yields the best MRR@10 (0.67) and Recall@10 (0.95) for a chunk size of 2000 tokens.\n",
    "filters:\n",
    "   - lightbox\n",
    "lightbox: auto\n",
    "categories:\n",
    "    - python\n",
    "    - RAG\n",
    "    - information retrieval\n",
    "    - fastbookRAG\n",
    "---"
   ]
  },
  {
   "cell_type": "markdown",
   "metadata": {
    "id": "vNsldohUUGWU"
   },
   "source": [
    "## Setup"
   ]
  },
  {
   "cell_type": "code",
   "execution_count": null,
   "metadata": {
    "execution": {
     "iopub.execute_input": "2024-11-28T13:35:34.413312Z",
     "iopub.status.busy": "2024-11-28T13:35:34.413011Z",
     "iopub.status.idle": "2024-11-28T13:35:48.851237Z",
     "shell.execute_reply": "2024-11-28T13:35:48.850561Z",
     "shell.execute_reply.started": "2024-11-28T13:35:34.413283Z"
    },
    "id": "YoI7U3GlWmd-",
    "trusted": true
   },
   "outputs": [],
   "source": [
    "#| code-fold: true\n",
    "#| code-summary: \"pip installs and imports\"\n",
    "!pip install sentence-transformers -Uqq\n",
    "!pip install -qq RAGatouille\n",
    "!pip install ftfy -qq\n",
    "\n",
    "import sqlite3\n",
    "import json\n",
    "import re\n",
    "import os\n",
    "import pandas as pd, numpy as np\n",
    "import matplotlib.pyplot as plt\n",
    "import requests\n",
    "import torch\n",
    "import torch.nn.functional as F\n",
    "from ftfy import fix_text\n",
    "from sentence_transformers import SentenceTransformer\n",
    "from ragatouille import RAGPretrainedModel\n",
    "from ragatouille.data import CorpusProcessor\n",
    "\n",
    "corpus_processor = CorpusProcessor()\n",
    "emb_model = SentenceTransformer(\"BAAI/bge-small-en-v1.5\")"
   ]
  },
  {
   "cell_type": "code",
   "execution_count": 3,
   "metadata": {
    "colab": {
     "base_uri": "https://localhost:8080/"
    },
    "execution": {
     "iopub.execute_input": "2024-11-28T13:35:48.852942Z",
     "iopub.status.busy": "2024-11-28T13:35:48.852356Z",
     "iopub.status.idle": "2024-11-28T13:36:07.139480Z",
     "shell.execute_reply": "2024-11-28T13:36:07.138592Z",
     "shell.execute_reply.started": "2024-11-28T13:35:48.852914Z"
    },
    "id": "DKRd38qDWmeA",
    "outputId": "dfa04737-fb6e-46e3-c46e-a8e0ca6248ad",
    "trusted": true
   },
   "outputs": [
    {
     "name": "stdout",
     "output_type": "stream",
     "text": [
      "File downloaded successfully: 01_intro.ipynb\n",
      "File downloaded successfully: 02_production.ipynb\n",
      "File downloaded successfully: 04_mnist_basics.ipynb\n",
      "File downloaded successfully: 08_collab.ipynb\n",
      "File downloaded successfully: 09_tabular.ipynb\n",
      "File downloaded successfully: 10_nlp.ipynb\n",
      "File downloaded successfully: 13_convolutions.ipynb\n"
     ]
    }
   ],
   "source": [
    "#| code-fold: true\n",
    "#| code-summary: \"Download chapter ipynb files\"\n",
    "urls = {\n",
    "    '01_intro.ipynb': 'https://drive.google.com/uc?export=view&id=1mmBjFH_plndPBC4iRZHChfMazgBxKK4_',\n",
    "    '02_production.ipynb': 'https://drive.google.com/uc?export=view&id=1Cf5QHthHy1z13H0iu3qrzAWgquCfqVHk',\n",
    "    '04_mnist_basics.ipynb': 'https://drive.google.com/uc?export=view&id=113909_BNulzyLIKUNJHdya0Hhoqie30I',\n",
    "    '08_collab.ipynb': 'https://drive.google.com/uc?export=view&id=1BtvStgFjUtvtqbSZNrL7Y2N-ey3seNZU',\n",
    "    '09_tabular.ipynb': 'https://drive.google.com/uc?export=view&id=1rHFvwl_l-AJLg_auPjBpNrOgG9HDnfqg',\n",
    "    '10_nlp.ipynb': 'https://drive.google.com/uc?export=view&id=1pg1pH7jMMElzrXS0kBBz14aAuDsi2DEP',\n",
    "    '13_convolutions.ipynb': 'https://drive.google.com/uc?export=view&id=19P-eEHpAO3WrOvdxgXckyhHhfv_R-hnS'\n",
    "}\n",
    "\n",
    "def download_file(url, filename):\n",
    "    # Send a GET request to the URL\n",
    "    response = requests.get(url)\n",
    "\n",
    "    # Check if the request was successful\n",
    "    if response.status_code == 200:\n",
    "        # Open the file in write-binary mode\n",
    "        with open(filename, 'wb') as file:\n",
    "            # Write the content of the response to the file\n",
    "            file.write(response.content)\n",
    "        print(f\"File downloaded successfully: {filename}\")\n",
    "    else:\n",
    "        print(f\"Failed to download file. Status code: {response.status_code}\")\n",
    "\n",
    "for fname, url in urls.items():\n",
    "  download_file(url, fname)"
   ]
  },
  {
   "cell_type": "code",
   "execution_count": null,
   "metadata": {
    "execution": {
     "iopub.execute_input": "2024-11-28T13:36:07.141537Z",
     "iopub.status.busy": "2024-11-28T13:36:07.141247Z",
     "iopub.status.idle": "2024-11-28T13:36:07.145767Z",
     "shell.execute_reply": "2024-11-28T13:36:07.144919Z",
     "shell.execute_reply.started": "2024-11-28T13:36:07.141510Z"
    },
    "id": "YFYTXwllWmeC",
    "trusted": true
   },
   "outputs": [],
   "source": [
    "#| code-fold: true\n",
    "#| code-summary: \"`nbs` dict\"\n",
    "nbs = {\n",
    "    '1': '01_intro.ipynb',\n",
    "    '2': '02_production.ipynb',\n",
    "    '4': '04_mnist_basics.ipynb',\n",
    "    '8': '08_collab.ipynb',\n",
    "    '9': '09_tabular.ipynb',\n",
    "    '10': '10_nlp.ipynb',\n",
    "    '13': '13_convolutions.ipynb'\n",
    "}"
   ]
  },
  {
   "cell_type": "code",
   "execution_count": null,
   "metadata": {
    "execution": {
     "iopub.execute_input": "2024-11-28T13:36:07.146977Z",
     "iopub.status.busy": "2024-11-28T13:36:07.146769Z",
     "iopub.status.idle": "2024-11-28T13:36:07.580447Z",
     "shell.execute_reply": "2024-11-28T13:36:07.579593Z",
     "shell.execute_reply.started": "2024-11-28T13:36:07.146956Z"
    },
    "id": "oFmEw4arWmeD",
    "trusted": true
   },
   "outputs": [],
   "source": [
    "#| code-fold: true\n",
    "#| code-summary: \"load questions\"\n",
    "url = 'https://gist.githubusercontent.com/vishalbakshi/2c22ca69ac7bc4bc845052c1b9d949c8/raw/d498259f2fc75d27c485ddc73933f145987feef3/cs_bm25_baselines.csv'\n",
    "questions = pd.read_csv(url).query(\"is_answerable == 1\")[[\"chapter\", \"question_number\", \"question_text\", \"answer\", \"keywords\"]]\n",
    "\n",
    "# remove double quotations from the question text\n",
    "# as these affect embeddings/cosine similarity: https://vishalbakshi.github.io/blog/posts/2024-11-08-punctuation-cosine-similarity/\n",
    "questions['question_text'] = questions['question_text'].str.strip('\"\\'')\n",
    "assert questions.shape == (191,5)"
   ]
  },
  {
   "cell_type": "code",
   "execution_count": null,
   "metadata": {
    "colab": {
     "base_uri": "https://localhost:8080/"
    },
    "execution": {
     "iopub.execute_input": "2024-11-28T13:36:07.581926Z",
     "iopub.status.busy": "2024-11-28T13:36:07.581642Z",
     "iopub.status.idle": "2024-11-28T13:36:07.791769Z",
     "shell.execute_reply": "2024-11-28T13:36:07.790918Z",
     "shell.execute_reply.started": "2024-11-28T13:36:07.581893Z"
    },
    "id": "K1y_0wieWmeE",
    "outputId": "7530aad2-4d99-4543-d502-ad55c01803f8",
    "trusted": true
   },
   "outputs": [
    {
     "name": "stdout",
     "output_type": "stream",
     "text": [
      "File downloaded successfully: fastbook-benchmark.json\n"
     ]
    }
   ],
   "source": [
    "#| code-fold: true\n",
    "#| code-summary: \"download fastbook-benchmark\"\n",
    "download_file(\n",
    "    \"https://gist.githubusercontent.com/vishalbakshi/a507b6e9e893475e93a4141e96b8947d/raw/e32835ba1dbf94384943ed5a65404112e1c89df2/fastbook-benchmark.json\",\n",
    "    \"fastbook-benchmark.json\"\n",
    "    )\n",
    "\n",
    "def load_benchmark():\n",
    "    # Load the benchmark data\n",
    "    with open('fastbook-benchmark.json', 'r') as f:\n",
    "        benchmark = json.load(f)\n",
    "    return benchmark\n",
    "\n",
    "benchmark = load_benchmark()\n",
    "assert len(benchmark['questions']) == 191"
   ]
  },
  {
   "cell_type": "code",
   "execution_count": null,
   "metadata": {
    "execution": {
     "iopub.execute_input": "2024-11-28T13:36:07.792998Z",
     "iopub.status.busy": "2024-11-28T13:36:07.792738Z",
     "iopub.status.idle": "2024-11-28T13:36:07.798523Z",
     "shell.execute_reply": "2024-11-28T13:36:07.797592Z",
     "shell.execute_reply.started": "2024-11-28T13:36:07.792972Z"
    },
    "id": "05G23cVBWmeF",
    "trusted": true
   },
   "outputs": [],
   "source": [
    "#| code-fold: true\n",
    "#| code-summary: \"`calculate_mrr` function\"\n",
    "def calculate_mrr(question, retrieved_passages, cutoff=10):\n",
    "    retrieved_passages = retrieved_passages[:cutoff]\n",
    "    highest_rank = 0\n",
    "\n",
    "    for ans_comp in question[\"answer_context\"]:\n",
    "        contexts = ans_comp.get(\"context\", [])\n",
    "        component_found = False\n",
    "\n",
    "        for rank, passage in enumerate(retrieved_passages, start=1):\n",
    "            if any(fix_text(context) in fix_text(passage) for context in contexts):\n",
    "                highest_rank = max(highest_rank, rank)\n",
    "                component_found = True\n",
    "                break\n",
    "\n",
    "        if not component_found:\n",
    "            return 0.0\n",
    "\n",
    "    return 1.0/highest_rank if highest_rank > 0 else 0.0"
   ]
  },
  {
   "cell_type": "code",
   "execution_count": null,
   "metadata": {
    "execution": {
     "iopub.execute_input": "2024-11-28T13:36:07.799879Z",
     "iopub.status.busy": "2024-11-28T13:36:07.799496Z",
     "iopub.status.idle": "2024-11-28T13:36:07.812780Z",
     "shell.execute_reply": "2024-11-28T13:36:07.812074Z",
     "shell.execute_reply.started": "2024-11-28T13:36:07.799852Z"
    },
    "id": "6YajYqWtWmeG",
    "trusted": true
   },
   "outputs": [],
   "source": [
    "#| code-fold: true\n",
    "#| code-summary: \"`calculate_recall` function\"\n",
    "def calculate_recall(question, retrieved_passages, cutoff=10):\n",
    "    retrieved_passages = retrieved_passages[:cutoff]\n",
    "\n",
    "    # Track if we've found at least one context for each answer component\n",
    "    ans_comp_found = []\n",
    "\n",
    "    for ans_comp in question[\"answer_context\"]:\n",
    "        contexts = ans_comp.get(\"context\", [])\n",
    "        found = False\n",
    "\n",
    "        # Check if any context for this answer component appears in retrieved passages\n",
    "        for passage in retrieved_passages:\n",
    "            if any(fix_text(context) in fix_text(passage) for context in contexts):\n",
    "                found = True\n",
    "                break\n",
    "\n",
    "        ans_comp_found.append(found)\n",
    "\n",
    "    # Recall is ratio of answer components with at least one found context\n",
    "    return sum(ans_comp_found) / len(ans_comp_found)"
   ]
  },
  {
   "cell_type": "code",
   "execution_count": null,
   "metadata": {
    "execution": {
     "iopub.execute_input": "2024-11-28T13:36:07.814669Z",
     "iopub.status.busy": "2024-11-28T13:36:07.813922Z",
     "iopub.status.idle": "2024-11-28T13:36:07.825978Z",
     "shell.execute_reply": "2024-11-28T13:36:07.825246Z",
     "shell.execute_reply.started": "2024-11-28T13:36:07.814632Z"
    },
    "id": "nw3hTgbqWmeH",
    "trusted": true
   },
   "outputs": [],
   "source": [
    "#| code-fold: true\n",
    "#| code-summary: \"`load_data` function\"\n",
    "def load_data(chunks, db_path, chapter=1):\n",
    "    try:\n",
    "        # create virtual table if database doesn't exist\n",
    "        if not os.path.exists(db_path):\n",
    "            with sqlite3.connect(db_path) as conn:\n",
    "              cur = conn.cursor()\n",
    "              cur.execute(\"\"\"\n",
    "              CREATE VIRTUAL TABLE fastbook_text\n",
    "              USING FTS5(chapter, text);\n",
    "              \"\"\")\n",
    "              conn.commit()\n",
    "\n",
    "        # load in the chunks for each chapter\n",
    "        with sqlite3.connect(db_path) as conn:\n",
    "            cur = conn.cursor()\n",
    "\n",
    "            for chunk in chunks:\n",
    "                cur.execute(\"INSERT INTO fastbook_text(chapter, text) VALUES (?, ?)\", (chapter, chunk))\n",
    "\n",
    "            conn.commit()\n",
    "            res = cur.execute(\"SELECT * FROM fastbook_text WHERE chapter = ?\", (chapter,)).fetchall()\n",
    "        # make sure all the data was loaded into the database\n",
    "        if len(res) != len(chunks):\n",
    "            raise ValueError(f\"Number of inserted chunks ({len(res)}) doesn't match input chunks ({len(chunks)})\")\n",
    "\n",
    "        return True\n",
    "\n",
    "    except sqlite3.Error as e:\n",
    "        print(f\"An error occurred: {e}\")\n",
    "        return False\n",
    "    except Exception as e:\n",
    "        print(f\"An unexpected error occurred: {e}\")\n",
    "        return False"
   ]
  },
  {
   "cell_type": "code",
   "execution_count": null,
   "metadata": {
    "execution": {
     "iopub.execute_input": "2024-11-28T13:36:07.828738Z",
     "iopub.status.busy": "2024-11-28T13:36:07.828429Z",
     "iopub.status.idle": "2024-11-28T13:36:07.843414Z",
     "shell.execute_reply": "2024-11-28T13:36:07.842734Z",
     "shell.execute_reply.started": "2024-11-28T13:36:07.828713Z"
    },
    "id": "2bsTqUY1WmeK",
    "trusted": true
   },
   "outputs": [],
   "source": [
    "#| code-fold: true\n",
    "#| code-summary: \"`db_search` function\"\n",
    "def db_search(df, limit=1):\n",
    "  results = []\n",
    "  with sqlite3.connect('fastbook.db') as conn:\n",
    "    cur = conn.cursor()\n",
    "    # concatenate the keywords into a string \"keyword1 OR keyword 2 OR keyword3 ...\"\n",
    "    for _, row in df.iterrows():\n",
    "      keywords = ' OR '.join([f'\"{keyword.strip(\",\")}\"' for keyword in row['keywords'].replace('\"', '').split()])\n",
    "\n",
    "      q = f\"\"\"\n",
    "        SELECT text, rank\n",
    "        FROM fastbook_text\n",
    "        WHERE fastbook_text MATCH ?\n",
    "        AND chapter = ?\n",
    "        ORDER BY rank\n",
    "        LIMIT ?\n",
    "        \"\"\"\n",
    "      res = cur.execute(q, (keywords, str(row['chapter']), limit)).fetchall()\n",
    "      # grab the retrieved chunk from the query results\n",
    "      res = [item[0] for item in res]\n",
    "\n",
    "      # if there are multiple chunks retrieved, combine them into a single string\n",
    "      results.append(res)\n",
    "\n",
    "    return results"
   ]
  },
  {
   "cell_type": "code",
   "execution_count": null,
   "metadata": {
    "execution": {
     "iopub.execute_input": "2024-11-28T13:36:07.844600Z",
     "iopub.status.busy": "2024-11-28T13:36:07.844324Z",
     "iopub.status.idle": "2024-11-28T13:36:07.857436Z",
     "shell.execute_reply": "2024-11-28T13:36:07.856702Z",
     "shell.execute_reply.started": "2024-11-28T13:36:07.844565Z"
    },
    "id": "GFcQZRMHWmeL",
    "trusted": true
   },
   "outputs": [],
   "source": [
    "#| code-fold: true\n",
    "#| code-summary: \"`fts_retrieval` function\"\n",
    "def fts_retrieval(data, df, chunk_size):\n",
    "    if os.path.exists(\"fastbook.db\"):\n",
    "        os.remove(\"fastbook.db\")\n",
    "\n",
    "    for chapter, chunks in data.items():\n",
    "        documents = corpus_processor.process_corpus(chunks, chunk_size=chunk_size)\n",
    "        documents = [doc['content'] for doc in documents]\n",
    "        assert load_data(documents, 'fastbook.db', chapter)\n",
    "\n",
    "    results = db_search(df, limit=10)\n",
    "    assert len(results) == 191\n",
    "\n",
    "    for res in results:\n",
    "        assert len(res) <= 10\n",
    "\n",
    "    return results"
   ]
  },
  {
   "cell_type": "code",
   "execution_count": null,
   "metadata": {
    "execution": {
     "iopub.execute_input": "2024-11-28T13:36:07.859170Z",
     "iopub.status.busy": "2024-11-28T13:36:07.858590Z",
     "iopub.status.idle": "2024-11-28T13:36:07.871005Z",
     "shell.execute_reply": "2024-11-28T13:36:07.870199Z",
     "shell.execute_reply.started": "2024-11-28T13:36:07.859133Z"
    },
    "id": "mc2M1ceBWmeM",
    "trusted": true
   },
   "outputs": [],
   "source": [
    "#| code-fold: true\n",
    "#| code-summary: \"`single_vector_retrieval` function\"\n",
    "def single_vector_retrieval(data, benchmark, chunk_size):\n",
    "    # Group questions by chapter\n",
    "    questions = {}\n",
    "    for q in benchmark[\"questions\"]:\n",
    "        chapter = str(q[\"chapter\"])\n",
    "        if chapter not in questions:\n",
    "            questions[chapter] = []\n",
    "        questions[chapter].append(q['question_text'].strip('\"\\''))\n",
    "\n",
    "    q_embs = {}\n",
    "    for chapter, _ in data.items():\n",
    "        qs = questions[chapter]\n",
    "        q_embs[chapter] = emb_model.encode(qs, convert_to_tensor=True)\n",
    "\n",
    "    results = []\n",
    "    for chapter, chunks in data.items():\n",
    "        # chunk chapter text\n",
    "        documents = corpus_processor.process_corpus(chunks, chunk_size=chunk_size)\n",
    "        documents = [doc['content'] for doc in documents]\n",
    "\n",
    "        # Embed documents\n",
    "        data_embs = emb_model.encode(documents, convert_to_tensor=True)\n",
    "\n",
    "        # Compute cosine similarity and get top 10 indices for each row\n",
    "        idxs = F.cosine_similarity(q_embs[chapter].unsqueeze(1), data_embs.unsqueeze(0), dim=2).sort(descending=True)[1]\n",
    "        top_10_idxs = idxs[:, :10]  # Get the top 10 indices for each row\n",
    "\n",
    "        # Extract top 10 chunks for each row\n",
    "        top_10_chunks = [\n",
    "            [documents[idx.item()] for idx in row_idxs]\n",
    "            for row_idxs in top_10_idxs\n",
    "        ]\n",
    "        results.extend(top_10_chunks)\n",
    "\n",
    "    assert len(results) == 191\n",
    "\n",
    "    for res in results:\n",
    "        assert len(res) <= 10\n",
    "\n",
    "    return results"
   ]
  },
  {
   "cell_type": "code",
   "execution_count": null,
   "metadata": {
    "execution": {
     "iopub.execute_input": "2024-11-28T13:36:07.872282Z",
     "iopub.status.busy": "2024-11-28T13:36:07.872001Z",
     "iopub.status.idle": "2024-11-28T13:36:07.886865Z",
     "shell.execute_reply": "2024-11-28T13:36:07.886203Z",
     "shell.execute_reply.started": "2024-11-28T13:36:07.872258Z"
    },
    "id": "EUycD0C4WmeM",
    "trusted": true
   },
   "outputs": [],
   "source": [
    "#| code-fold: true\n",
    "#| code-summary: \"`index_free_retrieval` function\"\n",
    "def index_free_retrieval(data, model_nm, chunk_size, benchmark):\n",
    "    questions_by_chapter = {}\n",
    "    for q in benchmark[\"questions\"]:\n",
    "        chapter = str(q[\"chapter\"])\n",
    "        if chapter not in questions_by_chapter:\n",
    "            questions_by_chapter[chapter] = []\n",
    "        questions_by_chapter[chapter].append(q)\n",
    "\n",
    "    # Dictionary to store results per chapter\n",
    "    chapter_results = {}\n",
    "\n",
    "    # Process each chapter separately\n",
    "    for chapter in nbs.keys():\n",
    "        # instantiate new RAG object\n",
    "        RAG = RAGPretrainedModel.from_pretrained(model_nm)\n",
    "\n",
    "        # Get questions for this chapter\n",
    "        chapter_questions = questions_by_chapter[chapter]\n",
    "\n",
    "        # encode chapter documents\n",
    "        documents = corpus_processor.process_corpus(data[chapter], chunk_size=chunk_size)\n",
    "        RAG.encode([x['content'] for x in documents], document_metadatas=[{\"chapter\": chapter} for _ in range(len(documents))])\n",
    "\n",
    "        # Perform retrieval for each question in this chapter\n",
    "        results = []\n",
    "        for q in chapter_questions:\n",
    "            top_k = min(10, len(documents))\n",
    "            retrieved = RAG.search_encoded_docs(query = q[\"question_text\"].strip('\"\\''), k=top_k)\n",
    "            results.append(retrieved)\n",
    "\n",
    "        # Store results\n",
    "        chapter_results[chapter] = results\n",
    "\n",
    "    results = []\n",
    "    for chapter, res in chapter_results.items():\n",
    "        results.extend(res)\n",
    "\n",
    "    assert len(results) == 191\n",
    "\n",
    "    final_results = []\n",
    "    for res in results:\n",
    "        assert len(res) <= 10\n",
    "        intermediate_results = [r['content'] for r in res]\n",
    "        final_results.append(intermediate_results)\n",
    "\n",
    "    assert len(final_results) == 191\n",
    "    return final_results"
   ]
  },
  {
   "cell_type": "code",
   "execution_count": null,
   "metadata": {
    "execution": {
     "iopub.execute_input": "2024-11-28T13:36:07.887930Z",
     "iopub.status.busy": "2024-11-28T13:36:07.887716Z",
     "iopub.status.idle": "2024-11-28T13:36:07.900132Z",
     "shell.execute_reply": "2024-11-28T13:36:07.899389Z",
     "shell.execute_reply.started": "2024-11-28T13:36:07.887908Z"
    },
    "id": "Y0oD7YQkWmeO",
    "trusted": true
   },
   "outputs": [],
   "source": [
    "#| code-fold: true\n",
    "#| code-summary: \"`do_retrieval` function\"\n",
    "def do_retrieval(method, chunk_size, data, benchmark, questions=None, benchmark_results=None):\n",
    "  if method == \"bm25\": results = fts_retrieval(data, questions, chunk_size)\n",
    "  if method == \"single_vector\": results = single_vector_retrieval(data, benchmark, chunk_size)\n",
    "  if method == \"colbertv2\": results = index_free_retrieval(data=data, model_nm=\"colbert-ir/colbertv2.0\", chunk_size=chunk_size, benchmark=benchmark)\n",
    "  if method == \"answerai_colbert\": results = index_free_retrieval(data=data, model_nm=\"answerdotai/answerai-colbert-small-v1\", chunk_size=chunk_size, benchmark=benchmark)\n",
    "\n",
    "  #name = f\"{method}_{chunking_strategy}\"\n",
    "  q_mrr, q_recall = score_retrieval(results, benchmark)\n",
    "  #benchmark_results = save_results(results, benchmark_results, q_mrr, q_recall, name=name)\n",
    "\n",
    "  return pd.Series(q_mrr).mean(), pd.Series(q_recall).mean()"
   ]
  },
  {
   "cell_type": "code",
   "execution_count": null,
   "metadata": {
    "execution": {
     "iopub.execute_input": "2024-11-28T13:36:07.901370Z",
     "iopub.status.busy": "2024-11-28T13:36:07.901123Z",
     "iopub.status.idle": "2024-11-28T13:36:07.913227Z",
     "shell.execute_reply": "2024-11-28T13:36:07.912491Z",
     "shell.execute_reply.started": "2024-11-28T13:36:07.901347Z"
    },
    "id": "Uze2ZcitWmeO",
    "trusted": true
   },
   "outputs": [],
   "source": [
    "#| code-fold: true\n",
    "#| code-summary: \"`score_retrieval` function\"\n",
    "def score_retrieval(results, benchmark):\n",
    "    q_mrr = []\n",
    "    q_recall = []\n",
    "\n",
    "    for i, question in enumerate(benchmark[\"questions\"]):\n",
    "        mrr = calculate_mrr(question, results[i], cutoff=10)\n",
    "        recall = calculate_recall(question, results[i], cutoff=10)\n",
    "        q_mrr.append(mrr)\n",
    "        q_recall.append(recall)\n",
    "\n",
    "    assert len(q_mrr) == len(benchmark[\"questions\"])\n",
    "    assert len(q_recall) == len(benchmark[\"questions\"])\n",
    "\n",
    "    return q_mrr, q_recall"
   ]
  },
  {
   "cell_type": "code",
   "execution_count": null,
   "metadata": {
    "execution": {
     "iopub.execute_input": "2024-11-28T13:36:07.914264Z",
     "iopub.status.busy": "2024-11-28T13:36:07.914042Z",
     "iopub.status.idle": "2024-11-28T13:36:07.924181Z",
     "shell.execute_reply": "2024-11-28T13:36:07.923516Z",
     "shell.execute_reply.started": "2024-11-28T13:36:07.914242Z"
    },
    "id": "FNaZbibzWmeO",
    "trusted": true
   },
   "outputs": [],
   "source": [
    "#| code-fold: true\n",
    "#| code-summary: \"`save_results` function\"\n",
    "def save_results(results, df, q_mrr, q_recall, name):\n",
    "    flat_results = []\n",
    "    for res in results:\n",
    "        flat_results.append(\"\\n\\n\".join(res))\n",
    "\n",
    "    assert len(flat_results) == 191\n",
    "\n",
    "    df[f'{name}_retrieval'] = flat_results\n",
    "    df[f'{name}_mrr10'] = q_mrr\n",
    "    df[f'{name}_recall10'] = q_recall\n",
    "\n",
    "    return df"
   ]
  },
  {
   "cell_type": "code",
   "execution_count": null,
   "metadata": {
    "execution": {
     "iopub.execute_input": "2024-11-28T13:36:07.925325Z",
     "iopub.status.busy": "2024-11-28T13:36:07.925090Z",
     "iopub.status.idle": "2024-11-28T13:36:07.935453Z",
     "shell.execute_reply": "2024-11-28T13:36:07.934718Z",
     "shell.execute_reply.started": "2024-11-28T13:36:07.925302Z"
    },
    "id": "7plUIpJTWmeO",
    "trusted": true
   },
   "outputs": [],
   "source": [
    "#| code-fold: true\n",
    "#| code-summary: \"`notebook_to_string` function\"\n",
    "def notebook_to_string(path):\n",
    "  with open(path, 'r', encoding='utf-8') as f:\n",
    "    notebook = json.load(f)\n",
    "\n",
    "  all_text = ''\n",
    "  found_questionnaire = False\n",
    "\n",
    "  for cell in notebook['cells']:\n",
    "    if cell['cell_type'] == 'markdown' and any('## Questionnaire' in line for line in cell['source']):\n",
    "      found_questionnaire = True\n",
    "      break\n",
    "\n",
    "    if cell['cell_type'] in ['markdown', 'code']:\n",
    "      all_text += ''.join(cell['source']) + '\\n'\n",
    "  return all_text"
   ]
  },
  {
   "cell_type": "code",
   "execution_count": null,
   "metadata": {
    "execution": {
     "iopub.execute_input": "2024-11-28T13:36:07.937125Z",
     "iopub.status.busy": "2024-11-28T13:36:07.936441Z",
     "iopub.status.idle": "2024-11-28T13:36:07.946918Z",
     "shell.execute_reply": "2024-11-28T13:36:07.946355Z",
     "shell.execute_reply.started": "2024-11-28T13:36:07.937089Z"
    },
    "id": "cycx4HpoWmeP",
    "trusted": true
   },
   "outputs": [],
   "source": [
    "#| code-fold: true\n",
    "#| code-summary: \"`chunk_string` function\"\n",
    "def chunk_string(text, n):\n",
    "    \"\"\"Split text into n chunks.\"\"\"\n",
    "    skip = int(len(text) / n)\n",
    "    return [text[i:i + skip] for i in range(0, len(text), skip)]"
   ]
  },
  {
   "cell_type": "code",
   "execution_count": null,
   "metadata": {
    "execution": {
     "iopub.execute_input": "2024-11-28T13:36:07.947888Z",
     "iopub.status.busy": "2024-11-28T13:36:07.947679Z",
     "iopub.status.idle": "2024-11-28T13:36:07.956866Z",
     "shell.execute_reply": "2024-11-28T13:36:07.956184Z",
     "shell.execute_reply.started": "2024-11-28T13:36:07.947866Z"
    },
    "id": "7C9CXG_xWmeP",
    "trusted": true
   },
   "outputs": [],
   "source": [
    "#| code-fold: true\n",
    "#| code-summary: \"`clean_html` function\"\n",
    "def clean_html(text):\n",
    "    # Step 1: Temporarily replace double-bracketed content with a placeholder\n",
    "    import uuid\n",
    "    placeholder = f\"PLACEHOLDER_{uuid.uuid4()}\"\n",
    "    double_bracketed = re.findall(r'<<[^>]*>>', text)\n",
    "    step1 = re.sub(r'<<[^>]*>>', placeholder, text)\n",
    "\n",
    "    # Step 2: Remove HTML tags\n",
    "    step2 = re.sub(r'<[/]?[a-zA-Z][^>]*>', '', step1)\n",
    "\n",
    "    # Step 3: Restore double-bracketed content\n",
    "    if double_bracketed:\n",
    "        step3 = step2.replace(placeholder, double_bracketed[0])\n",
    "        return step3\n",
    "    return step2"
   ]
  },
  {
   "cell_type": "code",
   "execution_count": null,
   "metadata": {
    "execution": {
     "iopub.execute_input": "2024-11-28T13:36:07.958034Z",
     "iopub.status.busy": "2024-11-28T13:36:07.957806Z",
     "iopub.status.idle": "2024-11-28T13:36:07.966934Z",
     "shell.execute_reply": "2024-11-28T13:36:07.966284Z",
     "shell.execute_reply.started": "2024-11-28T13:36:07.958012Z"
    },
    "id": "G9bSS9LjWmeP",
    "trusted": true
   },
   "outputs": [],
   "source": [
    "#| code-fold: true\n",
    "#| code-summary: \"`remove_punctuation` function\"\n",
    "def remove_punctuation(text):\n",
    "    import string\n",
    "    return ''.join(char if char.isalnum() else ' ' if char in string.punctuation else char for char in text)"
   ]
  },
  {
   "cell_type": "code",
   "execution_count": null,
   "metadata": {
    "execution": {
     "iopub.execute_input": "2024-11-28T13:36:07.968107Z",
     "iopub.status.busy": "2024-11-28T13:36:07.967856Z",
     "iopub.status.idle": "2024-11-28T13:36:07.976869Z",
     "shell.execute_reply": "2024-11-28T13:36:07.976069Z",
     "shell.execute_reply.started": "2024-11-28T13:36:07.968083Z"
    },
    "id": "29MCkJ4cWmeP",
    "trusted": true
   },
   "outputs": [],
   "source": [
    "#| code-fold: true\n",
    "#| code-summary: \"`process_contexts` function\"\n",
    "def process_contexts(data):\n",
    "    # Process questions\n",
    "    for question in data['questions']:\n",
    "        # Process only answer_context\n",
    "        if 'answer_context' in question:\n",
    "            for context_item in question['answer_context']:\n",
    "                if 'context' in context_item:\n",
    "                    if isinstance(context_item['context'], list):\n",
    "                        # If context is a list, process each string in the list\n",
    "                        context_item['context'] = [\n",
    "                            remove_punctuation(text) if text else text\n",
    "                            for text in context_item['context']\n",
    "                        ]\n",
    "                    elif isinstance(context_item['context'], str):\n",
    "                        # If context is a single string, process it directly\n",
    "                        context_item['context'] = remove_punctuation(context_item['context'])\n",
    "\n",
    "    return data"
   ]
  },
  {
   "cell_type": "markdown",
   "metadata": {
    "id": "4KIrtjllWmeP"
   },
   "source": [
    "## Background"
   ]
  },
  {
   "cell_type": "markdown",
   "metadata": {
    "id": "FuWRKqjPWmeS"
   },
   "source": [
    "In this notebook, I evaluate four retrieval methods on my fastbook-benchmark dataset using various chunk sizes:\n",
    "\n",
    "- Full text search (using sqlite and Claude-generated keywords).\n",
    "- Single-vector cosine similarity (using `SentenceTransformer(\"BAAI/bge-small-en-v1.5\")`).\n",
    "- ColBERTv2 (using ragatouille).\n",
    "- answerai-colbert-small-v1 (ragatouille)."
   ]
  },
  {
   "cell_type": "markdown",
   "metadata": {
    "id": "c9BJPvCLWmeS"
   },
   "source": [
    "For each retrieval method, I'm looking to find the best MRR@10 and Recall@10 for three chunk size ranges:\n",
    "\n",
    "- Small: 100-500 tokens\n",
    "- Medium: 500-1000 tokens\n",
    "- Large: 1000+ tokens\n",
    "\n",
    "I chose these ranges based on trends I saw during some experiments I ran with ColBERTv2 and answerai-colbert-small-v1 for a chunk size range of 100-3000 tokens."
   ]
  },
  {
   "cell_type": "markdown",
   "metadata": {
    "id": "0HAHZzPoWmeT"
   },
   "source": [
    "I'm using `corpus_processor.process_corpus` for chunking."
   ]
  },
  {
   "cell_type": "markdown",
   "metadata": {
    "id": "bsNY9Cz6WmeT"
   },
   "source": [
    "## Data Preprocessing"
   ]
  },
  {
   "cell_type": "markdown",
   "metadata": {
    "id": "iFe9qxkwWmeT"
   },
   "source": [
    "For each retrieval method/chunk size combination, I'll preprocess my data three ways:\n",
    "\n",
    "- No preprocessing.\n",
    "- Remove HTML tags.\n",
    "- Remove punctuation.\n",
    "\n",
    "Note that in each case, I am first converting the `.ipynb` for each chapter into a single string and splitting them into 2-3 chunks since for full-length texts were causing OOM during ColBERTv2 encoding."
   ]
  },
  {
   "cell_type": "code",
   "execution_count": 23,
   "metadata": {
    "execution": {
     "iopub.execute_input": "2024-11-28T13:36:07.990323Z",
     "iopub.status.busy": "2024-11-28T13:36:07.990007Z",
     "iopub.status.idle": "2024-11-28T13:36:08.029468Z",
     "shell.execute_reply": "2024-11-28T13:36:08.028908Z",
     "shell.execute_reply.started": "2024-11-28T13:36:07.990288Z"
    },
    "id": "qf3y4TBUWmeU",
    "trusted": true
   },
   "outputs": [],
   "source": [
    "#| code-fold: true\n",
    "#| code-summary: \"Prep `no preprocessing` dataset\"\n",
    "data_no_pp = {}\n",
    "n_chars = 0\n",
    "\n",
    "for chapter, nb in nbs.items():\n",
    "    data_no_pp[chapter] = chunk_string(notebook_to_string(nb), 2)\n",
    "    for c in data_no_pp[chapter]:\n",
    "        n_chars += len(c)\n",
    "\n",
    "assert n_chars == 503769"
   ]
  },
  {
   "cell_type": "code",
   "execution_count": 24,
   "metadata": {
    "execution": {
     "iopub.execute_input": "2024-11-28T13:36:08.030689Z",
     "iopub.status.busy": "2024-11-28T13:36:08.030342Z",
     "iopub.status.idle": "2024-11-28T13:36:08.039049Z",
     "shell.execute_reply": "2024-11-28T13:36:08.038342Z",
     "shell.execute_reply.started": "2024-11-28T13:36:08.030653Z"
    },
    "id": "kjJmrc3mWmeU",
    "trusted": true
   },
   "outputs": [],
   "source": [
    "#| code-fold: true\n",
    "#| code-summary: \"Prep `no HTML` dataset\"\n",
    "data_no_html = {}\n",
    "\n",
    "n_chars = 0\n",
    "for chapter, nb in nbs.items():\n",
    "    data_no_html[chapter] = chunk_string(notebook_to_string(nb), 2)\n",
    "    for c in data_no_html[chapter]:\n",
    "        n_chars += len(c)\n",
    "\n",
    "assert n_chars == 503769\n",
    "\n",
    "n_chars = 0\n",
    "for chapter, chunks in data_no_html.items():\n",
    "    data_no_html[chapter] = [clean_html(chunk) for chunk in chunks]\n",
    "    for string in data_no_html[chapter]: n_chars += len(string)\n",
    "\n",
    "assert n_chars == 493604"
   ]
  },
  {
   "cell_type": "code",
   "execution_count": 25,
   "metadata": {
    "execution": {
     "iopub.execute_input": "2024-11-28T13:36:08.040141Z",
     "iopub.status.busy": "2024-11-28T13:36:08.039913Z",
     "iopub.status.idle": "2024-11-28T13:36:08.129082Z",
     "shell.execute_reply": "2024-11-28T13:36:08.128486Z",
     "shell.execute_reply.started": "2024-11-28T13:36:08.040118Z"
    },
    "id": "Igr7N-RKWmeV",
    "trusted": true
   },
   "outputs": [],
   "source": [
    "#| code-fold: true\n",
    "#| code-summary: \"Prep `no punctuation` dataset\"\n",
    "data_no_punc = {}\n",
    "\n",
    "n_chars = 0\n",
    "for chapter, nb in nbs.items():\n",
    "    data_no_punc[chapter] = chunk_string(notebook_to_string(nb), 2)\n",
    "    for c in data_no_punc[chapter]:\n",
    "        n_chars += len(c)\n",
    "\n",
    "assert n_chars == 503769\n",
    "\n",
    "n_chars = 0\n",
    "for chapter, chunks in data_no_punc.items():\n",
    "    data_no_punc[chapter] = [remove_punctuation(chunk) for chunk in chunks]\n",
    "    for string in data_no_punc[chapter]: n_chars += len(string)\n",
    "\n",
    "# we are replacing punctuation with single space so n_chars doesn't change\n",
    "assert n_chars == 503769"
   ]
  },
  {
   "cell_type": "markdown",
   "metadata": {
    "id": "vCffz9aWWmeW"
   },
   "source": [
    "## Benchmark Dataset"
   ]
  },
  {
   "cell_type": "code",
   "execution_count": 26,
   "metadata": {
    "id": "HSR_tOHpWmeX",
    "trusted": true
   },
   "outputs": [],
   "source": [
    "benchmark = load_benchmark()\n",
    "assert len(benchmark['questions']) == 191\n",
    "\n",
    "processed_benchmark = process_contexts(benchmark)\n",
    "assert len(processed_benchmark['questions']) == 191"
   ]
  },
  {
   "cell_type": "markdown",
   "metadata": {
    "id": "hFTXvjNcWmeX"
   },
   "source": [
    "## Running Retrieval (100-2000 token chunks)"
   ]
  },
  {
   "cell_type": "code",
   "execution_count": 28,
   "metadata": {
    "colab": {
     "base_uri": "https://localhost:8080/"
    },
    "id": "qiD1rqoHXRFK",
    "outputId": "5cd7551c-7df0-480a-fc61-07f3c155239c"
   },
   "outputs": [
    {
     "name": "stdout",
     "output_type": "stream",
     "text": [
      "Mounted at /content/drive\n"
     ]
    }
   ],
   "source": [
    "from google.colab import drive\n",
    "drive.mount('/content/drive')"
   ]
  },
  {
   "cell_type": "markdown",
   "metadata": {
    "id": "XbTLVBGT8Oko"
   },
   "source": [
    "### Data: No Preprocessing"
   ]
  },
  {
   "cell_type": "code",
   "execution_count": null,
   "metadata": {
    "collapsed": true,
    "id": "CHVyIGZXMTeh"
   },
   "outputs": [],
   "source": [
    "results = []\n",
    "\n",
    "for method in [\"bm25\", \"single_vector\", \"colbertv2\", \"answerai_colbert\"]:\n",
    "  for chunk_size in range(100, 2100, 100):\n",
    "    mrr, recall = do_retrieval(method, chunk_size, data_no_pp, load_benchmark(), questions)\n",
    "    results.append(('no preprocessing', method, chunk_size, mrr, recall))\n",
    "\n",
    "df = pd.DataFrame(results, columns=['data', 'method', 'chunk_size', 'MRR@10', 'Recall@10'])\n",
    "df.to_csv(\"/content/drive/MyDrive/2024-11-29-fastbook-benchmark-results_no preprocessing.csv\", index=False)"
   ]
  },
  {
   "cell_type": "markdown",
   "metadata": {
    "id": "JMEqCzC_VPeT"
   },
   "source": [
    "### Data: No HTML Tags"
   ]
  },
  {
   "cell_type": "code",
   "execution_count": null,
   "metadata": {
    "id": "blUfU3xnVOx0"
   },
   "outputs": [],
   "source": [
    "results = []\n",
    "\n",
    "for method in [\"bm25\", \"single_vector\", \"colbertv2\", \"answerai_colbert\"]:\n",
    "  for chunk_size in range(100, 2100, 100):\n",
    "    mrr, recall = do_retrieval(method, chunk_size, data_no_html, load_benchmark(), questions)\n",
    "    results.append(('no HTML', method, chunk_size, mrr, recall))\n",
    "\n",
    "df = pd.DataFrame(results, columns=['data', 'method', 'chunk_size', 'MRR@10', 'Recall@10'])\n",
    "df.to_csv(\"/content/drive/MyDrive/2024-11-29-fastbook-benchmark-results_no HTML.csv\", index=False)"
   ]
  },
  {
   "cell_type": "markdown",
   "metadata": {
    "id": "nrwleVlwa7Tr"
   },
   "source": [
    "### Data: No Punctuation"
   ]
  },
  {
   "cell_type": "code",
   "execution_count": null,
   "metadata": {
    "id": "5_vmevVNa9Z9"
   },
   "outputs": [],
   "source": [
    "results = []\n",
    "\n",
    "for method in [\"bm25\", \"single_vector\", \"colbertv2\", \"answerai_colbert\"]:\n",
    "  for chunk_size in range(100, 2100, 100):\n",
    "    mrr, recall = do_retrieval(method, chunk_size, data_no_punc, process_contexts(benchmark), questions)\n",
    "    results.append(('no punctuation', method, chunk_size, mrr, recall))\n",
    "\n",
    "df = pd.DataFrame(results, columns=['data', 'method', 'chunk_size', 'MRR@10', 'Recall@10'])\n",
    "df.to_csv(\"/content/drive/MyDrive/2024-11-29-fastbook-benchmark-results_no punctuation.csv\", index=False)"
   ]
  },
  {
   "cell_type": "markdown",
   "metadata": {
    "id": "PgGOFv8YktmM"
   },
   "source": [
    "## Analyzing Results"
   ]
  },
  {
   "cell_type": "code",
   "execution_count": 195,
   "metadata": {
    "colab": {
     "base_uri": "https://localhost:8080/"
    },
    "id": "JTVCG0d0kvhr",
    "outputId": "3c4780a2-0223-469a-8b56-b2f50ef92949"
   },
   "outputs": [
    {
     "data": {
      "text/plain": [
       "(240, 5)"
      ]
     },
     "execution_count": 195,
     "metadata": {},
     "output_type": "execute_result"
    }
   ],
   "source": [
    "#| code-fold: true\n",
    "#| code-summary: \"Load saved results CSVs\"\n",
    "no_pp = pd.read_csv(\"/content/drive/MyDrive/2024-11-29-fastbook-benchmark-results_no preprocessing.csv\")\n",
    "no_html = pd.read_csv(\"/content/drive/MyDrive/2024-11-29-fastbook-benchmark-results_no HTML.csv\")\n",
    "no_punc = pd.read_csv(\"/content/drive/MyDrive/2024-11-29-fastbook-benchmark-results_no punctuation.csv\")\n",
    "df = pd.concat([no_pp, no_html, no_punc])\n",
    "df.shape"
   ]
  },
  {
   "cell_type": "markdown",
   "metadata": {
    "id": "kduqlvAzmP_u"
   },
   "source": [
    "### Best Overall MRR@10"
   ]
  },
  {
   "cell_type": "markdown",
   "metadata": {
    "id": "to80OYNGmYpr"
   },
   "source": [
    "Surprisingly, full text search had the highest-overall MRR@10 with 0.67 for 2000-token chunks, for text with punctuation removed."
   ]
  },
  {
   "cell_type": "code",
   "execution_count": 32,
   "metadata": {
    "colab": {
     "base_uri": "https://localhost:8080/",
     "height": 81
    },
    "id": "DAkdV2FpmSVu",
    "outputId": "966b62a2-8407-45be-8f1e-6ed74042077f"
   },
   "outputs": [
    {
     "data": {
      "application/vnd.google.colaboratory.intrinsic+json": {
       "summary": "{\n  \"name\": \"df[df['MRR@10'] == df['MRR@10']\",\n  \"rows\": 1,\n  \"fields\": [\n    {\n      \"column\": \"data\",\n      \"properties\": {\n        \"dtype\": \"string\",\n        \"num_unique_values\": 1,\n        \"samples\": [\n          \"no punctuation\"\n        ],\n        \"semantic_type\": \"\",\n        \"description\": \"\"\n      }\n    },\n    {\n      \"column\": \"method\",\n      \"properties\": {\n        \"dtype\": \"string\",\n        \"num_unique_values\": 1,\n        \"samples\": [\n          \"bm25\"\n        ],\n        \"semantic_type\": \"\",\n        \"description\": \"\"\n      }\n    },\n    {\n      \"column\": \"chunk_size\",\n      \"properties\": {\n        \"dtype\": \"number\",\n        \"std\": null,\n        \"min\": 2000,\n        \"max\": 2000,\n        \"num_unique_values\": 1,\n        \"samples\": [\n          2000\n        ],\n        \"semantic_type\": \"\",\n        \"description\": \"\"\n      }\n    },\n    {\n      \"column\": \"MRR@10\",\n      \"properties\": {\n        \"dtype\": \"number\",\n        \"std\": null,\n        \"min\": 0.6680462062661016,\n        \"max\": 0.6680462062661016,\n        \"num_unique_values\": 1,\n        \"samples\": [\n          0.6680462062661016\n        ],\n        \"semantic_type\": \"\",\n        \"description\": \"\"\n      }\n    },\n    {\n      \"column\": \"Recall@10\",\n      \"properties\": {\n        \"dtype\": \"number\",\n        \"std\": null,\n        \"min\": 0.943150087260035,\n        \"max\": 0.943150087260035,\n        \"num_unique_values\": 1,\n        \"samples\": [\n          0.943150087260035\n        ],\n        \"semantic_type\": \"\",\n        \"description\": \"\"\n      }\n    }\n  ]\n}",
       "type": "dataframe"
      },
      "text/html": [
       "\n",
       "  <div id=\"df-ea293031-af15-4fcd-bb00-77b780978cbb\" class=\"colab-df-container\">\n",
       "    <div>\n",
       "<style scoped>\n",
       "    .dataframe tbody tr th:only-of-type {\n",
       "        vertical-align: middle;\n",
       "    }\n",
       "\n",
       "    .dataframe tbody tr th {\n",
       "        vertical-align: top;\n",
       "    }\n",
       "\n",
       "    .dataframe thead th {\n",
       "        text-align: right;\n",
       "    }\n",
       "</style>\n",
       "<table border=\"1\" class=\"dataframe\">\n",
       "  <thead>\n",
       "    <tr style=\"text-align: right;\">\n",
       "      <th></th>\n",
       "      <th>data</th>\n",
       "      <th>method</th>\n",
       "      <th>chunk_size</th>\n",
       "      <th>MRR@10</th>\n",
       "      <th>Recall@10</th>\n",
       "    </tr>\n",
       "  </thead>\n",
       "  <tbody>\n",
       "    <tr>\n",
       "      <th>19</th>\n",
       "      <td>no punctuation</td>\n",
       "      <td>bm25</td>\n",
       "      <td>2000</td>\n",
       "      <td>0.668046</td>\n",
       "      <td>0.94315</td>\n",
       "    </tr>\n",
       "  </tbody>\n",
       "</table>\n",
       "</div>\n",
       "    <div class=\"colab-df-buttons\">\n",
       "\n",
       "  <div class=\"colab-df-container\">\n",
       "    <button class=\"colab-df-convert\" onclick=\"convertToInteractive('df-ea293031-af15-4fcd-bb00-77b780978cbb')\"\n",
       "            title=\"Convert this dataframe to an interactive table.\"\n",
       "            style=\"display:none;\">\n",
       "\n",
       "  <svg xmlns=\"http://www.w3.org/2000/svg\" height=\"24px\" viewBox=\"0 -960 960 960\">\n",
       "    <path d=\"M120-120v-720h720v720H120Zm60-500h600v-160H180v160Zm220 220h160v-160H400v160Zm0 220h160v-160H400v160ZM180-400h160v-160H180v160Zm440 0h160v-160H620v160ZM180-180h160v-160H180v160Zm440 0h160v-160H620v160Z\"/>\n",
       "  </svg>\n",
       "    </button>\n",
       "\n",
       "  <style>\n",
       "    .colab-df-container {\n",
       "      display:flex;\n",
       "      gap: 12px;\n",
       "    }\n",
       "\n",
       "    .colab-df-convert {\n",
       "      background-color: #E8F0FE;\n",
       "      border: none;\n",
       "      border-radius: 50%;\n",
       "      cursor: pointer;\n",
       "      display: none;\n",
       "      fill: #1967D2;\n",
       "      height: 32px;\n",
       "      padding: 0 0 0 0;\n",
       "      width: 32px;\n",
       "    }\n",
       "\n",
       "    .colab-df-convert:hover {\n",
       "      background-color: #E2EBFA;\n",
       "      box-shadow: 0px 1px 2px rgba(60, 64, 67, 0.3), 0px 1px 3px 1px rgba(60, 64, 67, 0.15);\n",
       "      fill: #174EA6;\n",
       "    }\n",
       "\n",
       "    .colab-df-buttons div {\n",
       "      margin-bottom: 4px;\n",
       "    }\n",
       "\n",
       "    [theme=dark] .colab-df-convert {\n",
       "      background-color: #3B4455;\n",
       "      fill: #D2E3FC;\n",
       "    }\n",
       "\n",
       "    [theme=dark] .colab-df-convert:hover {\n",
       "      background-color: #434B5C;\n",
       "      box-shadow: 0px 1px 3px 1px rgba(0, 0, 0, 0.15);\n",
       "      filter: drop-shadow(0px 1px 2px rgba(0, 0, 0, 0.3));\n",
       "      fill: #FFFFFF;\n",
       "    }\n",
       "  </style>\n",
       "\n",
       "    <script>\n",
       "      const buttonEl =\n",
       "        document.querySelector('#df-ea293031-af15-4fcd-bb00-77b780978cbb button.colab-df-convert');\n",
       "      buttonEl.style.display =\n",
       "        google.colab.kernel.accessAllowed ? 'block' : 'none';\n",
       "\n",
       "      async function convertToInteractive(key) {\n",
       "        const element = document.querySelector('#df-ea293031-af15-4fcd-bb00-77b780978cbb');\n",
       "        const dataTable =\n",
       "          await google.colab.kernel.invokeFunction('convertToInteractive',\n",
       "                                                    [key], {});\n",
       "        if (!dataTable) return;\n",
       "\n",
       "        const docLinkHtml = 'Like what you see? Visit the ' +\n",
       "          '<a target=\"_blank\" href=https://colab.research.google.com/notebooks/data_table.ipynb>data table notebook</a>'\n",
       "          + ' to learn more about interactive tables.';\n",
       "        element.innerHTML = '';\n",
       "        dataTable['output_type'] = 'display_data';\n",
       "        await google.colab.output.renderOutput(dataTable, element);\n",
       "        const docLink = document.createElement('div');\n",
       "        docLink.innerHTML = docLinkHtml;\n",
       "        element.appendChild(docLink);\n",
       "      }\n",
       "    </script>\n",
       "  </div>\n",
       "\n",
       "\n",
       "    </div>\n",
       "  </div>\n"
      ],
      "text/plain": [
       "              data method  chunk_size    MRR@10  Recall@10\n",
       "19  no punctuation   bm25        2000  0.668046    0.94315"
      ]
     },
     "execution_count": 32,
     "metadata": {},
     "output_type": "execute_result"
    }
   ],
   "source": [
    "df[df['MRR@10'] == df['MRR@10'].max()]"
   ]
  },
  {
   "cell_type": "markdown",
   "metadata": {
    "id": "M1i32pyVmi-C"
   },
   "source": [
    "### Best Overall Recall@10"
   ]
  },
  {
   "cell_type": "markdown",
   "metadata": {
    "id": "1PSI-1xJmwCh"
   },
   "source": [
    "Full text search also yielded the best overall Recall@10 at 95%, also at a chunk size of 2000 tokens, but for text with no preprocessing on it (other than splitting the notebook into 2-3 chunks). Wow!"
   ]
  },
  {
   "cell_type": "code",
   "execution_count": 33,
   "metadata": {
    "colab": {
     "base_uri": "https://localhost:8080/",
     "height": 81
    },
    "id": "I2BJQGYLmnew",
    "outputId": "52b55409-0b36-4a53-c9f0-8e77a5de3b4f"
   },
   "outputs": [
    {
     "data": {
      "application/vnd.google.colaboratory.intrinsic+json": {
       "summary": "{\n  \"name\": \"df[df['Recall@10'] == df['Recall@10']\",\n  \"rows\": 1,\n  \"fields\": [\n    {\n      \"column\": \"data\",\n      \"properties\": {\n        \"dtype\": \"string\",\n        \"num_unique_values\": 1,\n        \"samples\": [\n          \"no preprocessing\"\n        ],\n        \"semantic_type\": \"\",\n        \"description\": \"\"\n      }\n    },\n    {\n      \"column\": \"method\",\n      \"properties\": {\n        \"dtype\": \"string\",\n        \"num_unique_values\": 1,\n        \"samples\": [\n          \"bm25\"\n        ],\n        \"semantic_type\": \"\",\n        \"description\": \"\"\n      }\n    },\n    {\n      \"column\": \"chunk_size\",\n      \"properties\": {\n        \"dtype\": \"number\",\n        \"std\": null,\n        \"min\": 2000,\n        \"max\": 2000,\n        \"num_unique_values\": 1,\n        \"samples\": [\n          2000\n        ],\n        \"semantic_type\": \"\",\n        \"description\": \"\"\n      }\n    },\n    {\n      \"column\": \"MRR@10\",\n      \"properties\": {\n        \"dtype\": \"number\",\n        \"std\": null,\n        \"min\": 0.6585410953212,\n        \"max\": 0.6585410953212,\n        \"num_unique_values\": 1,\n        \"samples\": [\n          0.6585410953212\n        ],\n        \"semantic_type\": \"\",\n        \"description\": \"\"\n      }\n    },\n    {\n      \"column\": \"Recall@10\",\n      \"properties\": {\n        \"dtype\": \"number\",\n        \"std\": null,\n        \"min\": 0.9549301919720768,\n        \"max\": 0.9549301919720768,\n        \"num_unique_values\": 1,\n        \"samples\": [\n          0.9549301919720768\n        ],\n        \"semantic_type\": \"\",\n        \"description\": \"\"\n      }\n    }\n  ]\n}",
       "type": "dataframe"
      },
      "text/html": [
       "\n",
       "  <div id=\"df-27ff4a6e-ae12-430a-8b49-93dbfd0a6221\" class=\"colab-df-container\">\n",
       "    <div>\n",
       "<style scoped>\n",
       "    .dataframe tbody tr th:only-of-type {\n",
       "        vertical-align: middle;\n",
       "    }\n",
       "\n",
       "    .dataframe tbody tr th {\n",
       "        vertical-align: top;\n",
       "    }\n",
       "\n",
       "    .dataframe thead th {\n",
       "        text-align: right;\n",
       "    }\n",
       "</style>\n",
       "<table border=\"1\" class=\"dataframe\">\n",
       "  <thead>\n",
       "    <tr style=\"text-align: right;\">\n",
       "      <th></th>\n",
       "      <th>data</th>\n",
       "      <th>method</th>\n",
       "      <th>chunk_size</th>\n",
       "      <th>MRR@10</th>\n",
       "      <th>Recall@10</th>\n",
       "    </tr>\n",
       "  </thead>\n",
       "  <tbody>\n",
       "    <tr>\n",
       "      <th>19</th>\n",
       "      <td>no preprocessing</td>\n",
       "      <td>bm25</td>\n",
       "      <td>2000</td>\n",
       "      <td>0.658541</td>\n",
       "      <td>0.95493</td>\n",
       "    </tr>\n",
       "  </tbody>\n",
       "</table>\n",
       "</div>\n",
       "    <div class=\"colab-df-buttons\">\n",
       "\n",
       "  <div class=\"colab-df-container\">\n",
       "    <button class=\"colab-df-convert\" onclick=\"convertToInteractive('df-27ff4a6e-ae12-430a-8b49-93dbfd0a6221')\"\n",
       "            title=\"Convert this dataframe to an interactive table.\"\n",
       "            style=\"display:none;\">\n",
       "\n",
       "  <svg xmlns=\"http://www.w3.org/2000/svg\" height=\"24px\" viewBox=\"0 -960 960 960\">\n",
       "    <path d=\"M120-120v-720h720v720H120Zm60-500h600v-160H180v160Zm220 220h160v-160H400v160Zm0 220h160v-160H400v160ZM180-400h160v-160H180v160Zm440 0h160v-160H620v160ZM180-180h160v-160H180v160Zm440 0h160v-160H620v160Z\"/>\n",
       "  </svg>\n",
       "    </button>\n",
       "\n",
       "  <style>\n",
       "    .colab-df-container {\n",
       "      display:flex;\n",
       "      gap: 12px;\n",
       "    }\n",
       "\n",
       "    .colab-df-convert {\n",
       "      background-color: #E8F0FE;\n",
       "      border: none;\n",
       "      border-radius: 50%;\n",
       "      cursor: pointer;\n",
       "      display: none;\n",
       "      fill: #1967D2;\n",
       "      height: 32px;\n",
       "      padding: 0 0 0 0;\n",
       "      width: 32px;\n",
       "    }\n",
       "\n",
       "    .colab-df-convert:hover {\n",
       "      background-color: #E2EBFA;\n",
       "      box-shadow: 0px 1px 2px rgba(60, 64, 67, 0.3), 0px 1px 3px 1px rgba(60, 64, 67, 0.15);\n",
       "      fill: #174EA6;\n",
       "    }\n",
       "\n",
       "    .colab-df-buttons div {\n",
       "      margin-bottom: 4px;\n",
       "    }\n",
       "\n",
       "    [theme=dark] .colab-df-convert {\n",
       "      background-color: #3B4455;\n",
       "      fill: #D2E3FC;\n",
       "    }\n",
       "\n",
       "    [theme=dark] .colab-df-convert:hover {\n",
       "      background-color: #434B5C;\n",
       "      box-shadow: 0px 1px 3px 1px rgba(0, 0, 0, 0.15);\n",
       "      filter: drop-shadow(0px 1px 2px rgba(0, 0, 0, 0.3));\n",
       "      fill: #FFFFFF;\n",
       "    }\n",
       "  </style>\n",
       "\n",
       "    <script>\n",
       "      const buttonEl =\n",
       "        document.querySelector('#df-27ff4a6e-ae12-430a-8b49-93dbfd0a6221 button.colab-df-convert');\n",
       "      buttonEl.style.display =\n",
       "        google.colab.kernel.accessAllowed ? 'block' : 'none';\n",
       "\n",
       "      async function convertToInteractive(key) {\n",
       "        const element = document.querySelector('#df-27ff4a6e-ae12-430a-8b49-93dbfd0a6221');\n",
       "        const dataTable =\n",
       "          await google.colab.kernel.invokeFunction('convertToInteractive',\n",
       "                                                    [key], {});\n",
       "        if (!dataTable) return;\n",
       "\n",
       "        const docLinkHtml = 'Like what you see? Visit the ' +\n",
       "          '<a target=\"_blank\" href=https://colab.research.google.com/notebooks/data_table.ipynb>data table notebook</a>'\n",
       "          + ' to learn more about interactive tables.';\n",
       "        element.innerHTML = '';\n",
       "        dataTable['output_type'] = 'display_data';\n",
       "        await google.colab.output.renderOutput(dataTable, element);\n",
       "        const docLink = document.createElement('div');\n",
       "        docLink.innerHTML = docLinkHtml;\n",
       "        element.appendChild(docLink);\n",
       "      }\n",
       "    </script>\n",
       "  </div>\n",
       "\n",
       "\n",
       "    </div>\n",
       "  </div>\n"
      ],
      "text/plain": [
       "                data method  chunk_size    MRR@10  Recall@10\n",
       "19  no preprocessing   bm25        2000  0.658541    0.95493"
      ]
     },
     "execution_count": 33,
     "metadata": {},
     "output_type": "execute_result"
    }
   ],
   "source": [
    "df[df['Recall@10'] == df['Recall@10'].max()]"
   ]
  },
  {
   "cell_type": "markdown",
   "metadata": {
    "id": "DP8wkIFWm3Mh"
   },
   "source": [
    "### Analyzing Metrics by Chunk Size Range"
   ]
  },
  {
   "cell_type": "markdown",
   "metadata": {
    "id": "1HLHtyHCJbHt"
   },
   "source": [
    "I care about chunk size because eventually I am going to pass on the retrieved context to an LLM for answer generation and context size will dictate latency and potentially performance."
   ]
  },
  {
   "cell_type": "code",
   "execution_count": 35,
   "metadata": {
    "id": "k0bBLXfWm9gJ"
   },
   "outputs": [],
   "source": [
    "df['category'] = pd.cut(df['chunk_size'], bins=[100, 500, 1000, 2000], labels=['small', 'medium', 'large'], include_lowest=True)"
   ]
  },
  {
   "cell_type": "markdown",
   "metadata": {
    "id": "QgMSE85aGz5H"
   },
   "source": [
    "#### MRR@10"
   ]
  },
  {
   "cell_type": "markdown",
   "metadata": {
    "id": "3_K7_8TVoXuW"
   },
   "source": [
    "|Chunk Size Category|Retrieval Method|MRR@10|Chunk Size|Dataset|\n",
    "|:-:|:-:|:-:|:-:|:-:|\n",
    "|Small (100-500 tokens)|answer-colbert-small-v1|0.59|500 tokens|No punctuation\n",
    "|Medium (501-1000 tokens)|ColBERTv2|0.61|600 tokens|No punctuation\n",
    "|Large (1001-2000 tokens)|Full text search|0.67|2000 tokens|No punctuation"
   ]
  },
  {
   "cell_type": "markdown",
   "metadata": {
    "id": "TfTsRbV0PAfX"
   },
   "source": [
    "Interesting to note:\n",
    "\n",
    "- 600 tokens was the best-performing chunk size for medium chunks.\n",
    "- In all three cases, text without punctuation resulted in the best MRR@10."
   ]
  },
  {
   "cell_type": "markdown",
   "metadata": {
    "id": "KeFtZEg3G4IQ"
   },
   "source": [
    "#### Recall@10"
   ]
  },
  {
   "cell_type": "markdown",
   "metadata": {
    "id": "6CAnwA7CIefU"
   },
   "source": [
    "|Chunk Size Category|Retrieval Method|MRR@10|Chunk Size|Data\n",
    "|:-:|:-:|:-:|:-:|:-:|\n",
    "|Small (100-500 tokens)|answer-colbert-small-v1|0.88|500 tokens|No punctuation\n",
    "|Medium (501-1000 tokens)|Full text search|0.92|1000 tokens|No preprocessing\n",
    "|Large (1001-2000 tokens)|Full text search|0.95|2000 tokens|No preprocessing"
   ]
  },
  {
   "cell_type": "markdown",
   "metadata": {
    "id": "l3GZX6jVQUPS"
   },
   "source": [
    "Interesting to note:\n",
    "\n",
    "- The highest chunk size in each range yielded the best MRR@10.\n",
    "- Text without punctuation worked best for small chunks while unprocessed text worked best for medium and large chunks."
   ]
  },
  {
   "cell_type": "markdown",
   "metadata": {
    "id": "jU-P1hxmvxn6"
   },
   "source": [
    "### Visualizing Metrics by Chunk Size and Method"
   ]
  },
  {
   "cell_type": "code",
   "execution_count": 162,
   "metadata": {
    "id": "_3zqDJAJYCFF"
   },
   "outputs": [],
   "source": [
    "#| code-fold: true\n",
    "#| code-summary: \"Show `plot_metrics` function\"\n",
    "def plot_metrics(df, metric=\"MRR@10\"):\n",
    "  plt.style.use('seaborn-v0_8-bright')\n",
    "  fig, axs = plt.subplots(1, 3, figsize=(20, 6))\n",
    "  colors = ['#268BD2', '#DC322F', '#859900', '#6C71C4']\n",
    "\n",
    "  for i, dataset in enumerate(['no preprocessing', 'no HTML', 'no punctuation']):\n",
    "    data_df = df[df['data'] == dataset]\n",
    "\n",
    "    for j, method in enumerate(sorted(data_df['method'].unique())):\n",
    "      method_data = data_df[data_df['method'] == method]\n",
    "      axs[i].plot(method_data['chunk_size'], method_data[metric],\n",
    "                        linestyle='--', linewidth=2,\n",
    "                        color=colors[j],\n",
    "                        label=method)\n",
    "      #axs[i].scatter(method_data['chunk_size'], method_data[metric], color=colors[j], s=25)\n",
    "\n",
    "      axs[i].set_xlabel('Chunk Size (Tokens)', fontsize=14)\n",
    "      axs[i].set_ylabel('Score' if i == 0 else '', fontsize=14)\n",
    "      axs[i].set_title(dataset.replace('no ', 'No '), fontsize=16, pad=10)\n",
    "      axs[i].tick_params(axis='both', labelsize=14)\n",
    "      axs[i].grid(True, alpha=0.8)\n",
    "      axs[i].set_xlim(50, 2050)\n",
    "      if metric == 'MRR@10': axs[i].set_ylim(0.15, 0.7)\n",
    "      else: axs[i].set_ylim(0.4, 1.0)\n",
    "  handles, labels = axs[0].get_legend_handles_labels()\n",
    "  fig.legend(handles, labels, loc='right', bbox_to_anchor=(1.03, 0.5), fontsize=18)\n",
    "\n",
    "  fig.suptitle(f\"fastbook-benchmark {metric} by Chunk Size\", fontsize=24, y=1.05)\n",
    "  plt.tight_layout()\n",
    "  plt.subplots_adjust(right=0.85)\n",
    "  plt.show()"
   ]
  },
  {
   "cell_type": "code",
   "execution_count": 163,
   "metadata": {
    "colab": {
     "base_uri": "https://localhost:8080/",
     "height": 525
    },
    "id": "6O3lW4l9MLv7",
    "outputId": "22209e74-d208-4031-8e17-a5444e743802"
   },
   "outputs": [
    {
     "data": {
      "image/png": "[encoded data removed]",
      "text/plain": [
       "<Figure size 1600x480 with 3 Axes>"
      ]
     },
     "metadata": {},
     "output_type": "display_data"
    }
   ],
   "source": [
    "plot_metrics(df)"
   ]
  },
  {
   "cell_type": "markdown",
   "metadata": {
    "id": "hwADWJsUAa-d"
   },
   "source": [
    "Takeaways:\n",
    "\n",
    "- All semantic search methods peak at a chunk size of ~500 tokens.\n",
    "- Full text search (BM25) mostly monotonically improves with chunk size.\n",
    "- Single-vector cosine simililarity is the worst-performing method after ~250 tokens.\n",
    "- For semantic search methods, in general, answerai-colbert-small-v1 > ColBERTv2 > Single-vector cosine similarity."
   ]
  },
  {
   "cell_type": "code",
   "execution_count": 164,
   "metadata": {
    "colab": {
     "base_uri": "https://localhost:8080/",
     "height": 525
    },
    "id": "VHSo6pPXAbSq",
    "outputId": "6d5cb540-5d7a-4fd7-8099-79499b94cd2e"
   },
   "outputs": [
    {
     "data": {
      "image/png": "[encoded data removed]",
      "text/plain": [
       "<Figure size 1600x480 with 3 Axes>"
      ]
     },
     "metadata": {},
     "output_type": "display_data"
    }
   ],
   "source": [
    "plot_metrics(df, metric=\"Recall@10\")"
   ]
  },
  {
   "cell_type": "markdown",
   "metadata": {
    "id": "MYIEpch4D1pZ"
   },
   "source": [
    "Takeaways:\n",
    "\n",
    "- When the data is not preprocessed, all semantic search methods' Recall@10 decreases from ~500 tokens to ~1000 tokens, then increase again to 2000 tokens.\n",
    "- After 500 tokens, full text search (BM25) has the best Recall@10 for most of the way."
   ]
  },
  {
   "cell_type": "markdown",
   "metadata": {
    "id": "PyMiSi_8R2CY"
   },
   "source": [
    "## Final Thoughts"
   ]
  },
  {
   "cell_type": "markdown",
   "metadata": {
    "id": "oJppo8g3R3Lg"
   },
   "source": [
    "This was an incredibly awesome experience. I did a couple iterations of these experiments before this notebook, each time refactoring my approach so that I could relatively concisely run these chunk size experiments. That process was tough at times but really rewarding.\n",
    "\n",
    "My three main takeaways:\n",
    "\n",
    "- For small chunks, answerai-colbert-small-v1 has the best MRR@10 and Recall@10.\n",
    "- For medium chunks, use ColBERTv2 for the best MRR@10 and full text search for the best Recall@10.\n",
    "- For large chunks, full text search has the best MRR@10 and Recall@10.\n",
    "\n",
    "I expect to try out all of these approaches after I integrate an LLM to turn this information retrieval pipeline to a RAG pipeline. My hypothesis is that smaller chunks will yield better responses from the LLM since there will be less \"noise\" and more \"signal\" in the context."
   ]
  }
 ],
 "metadata": {
  "colab": {
   "collapsed_sections": [
    "vNsldohUUGWU",
    "4KIrtjllWmeP",
    "bsNY9Cz6WmeT",
    "vCffz9aWWmeW",
    "hFTXvjNcWmeX",
    "PgGOFv8YktmM",
    "PyMiSi_8R2CY"
   ],
   "provenance": []
  },
  "kaggle": {
   "accelerator": "nvidiaTeslaT4",
   "dataSources": [],
   "dockerImageVersionId": 30787,
   "isGpuEnabled": true,
   "isInternetEnabled": true,
   "language": "python",
   "sourceType": "notebook"
  },
  "kernelspec": {
   "display_name": "Python 3",
   "name": "python3"
  },
  "language_info": {
   "codemirror_mode": {
    "name": "ipython",
    "version": 3
   },
   "file_extension": ".py",
   "mimetype": "text/x-python",
   "name": "python",
   "nbconvert_exporter": "python",
   "pygments_lexer": "ipython3",
   "version": "3.10.14"
  }
 },
 "nbformat": 4,
 "nbformat_minor": 0
}

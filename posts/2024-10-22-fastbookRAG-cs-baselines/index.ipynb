{
  "cells": [
    {
      "cell_type": "raw",
      "metadata": {
        "vscode": {
          "languageId": "raw"
        }
      },
      "source": [
        "---\n",
        "title: Establishing a Semantic Search (Embedding Cosine Similarity) Baseline for My fastbookRAG Project\n",
        "date: \"2024-10-22\"\n",
        "author: Vishal Bakshi\n",
        "description: In this blog post, I experiment with 6 chunking/retrieval strategies to retrieve context from an array of text embeddings sufficient to answer 80.31% of the 193 fastbook end-of-chapter questions from Part 1 of the course.\n",
        "filters:\n",
        "   - lightbox\n",
        "lightbox: auto\n",
        "categories:\n",
        "    - python\n",
        "    - RAG\n",
        "    - information retrieval\n",
        "    - fastbookRAG\n",
        "---"
      ]
    },
    {
      "cell_type": "markdown",
      "metadata": {
        "id": "QkMii_MUsZnL"
      },
      "source": [
        "## Introduction"
      ]
    },
    {
      "cell_type": "markdown",
      "metadata": {},
      "source": [
        "This notebook is a part of [series of blog posts](https://vishalbakshi.github.io/blog/#category=fastbookRAG) for a project I'm calling fastbookRAG where I'm trying to answer questions from the [fastbook](https://github.com/fastai/fastbook/tree/master) end-of-chapter Questionnaires using the following pipeline:"
      ]
    },
    {
      "cell_type": "markdown",
      "metadata": {
        "id": "fNi26bkysdsZ"
      },
      "source": [
        "![fastbookRAG diagram](1.png)"
      ]
    },
    {
      "cell_type": "markdown",
      "metadata": {
        "id": "28aV61d2seBv"
      },
      "source": [
        "This notebook establishes a baseline using semantic search (Cosine Similarity) for retrieval on chunks of the fastbook chapters covered in [Part 1 of the fastai course](https://course.fast.ai/) (1, 2, 4, 8, 9, 10, and 13).\n",
        "\n",
        "The evaluation metric for each question, that I'm simply calling **score**, is binary: can the retrieved context answer the question (`1`) or not (`0`)? The evaluation metric across a set of questions, which I'm calling the **Answer Rate**, is the mean score for those questions.\n",
        "\n",
        "The goal is to retrieve the context necessary to answer all questions. Currently, I manually assess answers, a role that will eventually be performed by LLMs in the final pipeline."
      ]
    },
    {
      "cell_type": "markdown",
      "metadata": {
        "id": "8f37Jcs3sq0b"
      },
      "source": [
        "## Summary of Results"
      ]
    },
    {
      "cell_type": "markdown",
      "metadata": {
        "id": "4JS__X4ksrD0"
      },
      "source": [
        "Here are the results from my experiments in this notebook---in general, the best performing semantic search method (80.31% Answer Rate overall) was retrieving the top-5 (by Cosine Similarity) 3-paragraph chunks:\n",
        "\n",
        "|Chapter|CS_A (Top-1 1p)|CS_B (Top-3 1p)|CS_C (Top-5 1p)|CS_D (Top-1 3p)|CS_E (Top-3 3p)|CS_F (Top-5 3p)|\n",
        "|:-:|:-:|:-:|:-:|:-:|:-:|:-:|\n",
        "|1|40% (12/30)|63.33% (19/30)|63.33% (19/30)|46.67% (14/30)|80% (24/30)|90% (27/30)|\n",
        "|2|26.92% (7/26)|61.54% (16/26)|69.23% (18/26)|53.85% (14/26)|80.77% (21/26)|84.62% (22/26)|\n",
        "|4|29.03% (9/31)|54.84% (17/31)|64.52% (20/31)|25.81% (8/31)|67.74% (21/31)|80.65% (25/31)|\n",
        "|8|17.39% (4/23)|43.48% (10/23)|47.83% (11/23)|43.48% (10/23)|73.91% (17/23)|91.30% (21/23)|\n",
        "|9|28.57% (8/28)|46.43% (13/28)|53.57% (15/28)|42.86% (12/28)|57.14% (16/28)|75% (21/28)|\n",
        "|10|42.86% (9/21)|47.62% (10/21)|47.62% (10/21)|47.62% (10/21)|52.38% (11/21)|57.14% (12/21)|\n",
        "|13|41.18% (14/34)|58.82% (20/34)|61.76% (21/34)|47.06% (16/34)|70.59% (24/34)|79.41% (27/34)|\n",
        "|**All**|**32.64% (63/193)**|**54.40% (105/193)**|**59.07% (114/193)**|**43.52% (84/193)**|**69.43% (134/193)**|**80.31% (155/193)**|"
      ]
    },
    {
      "cell_type": "markdown",
      "metadata": {
        "id": "hxrSvtCyuGj3"
      },
      "source": [
        "## Experimental Setup"
      ]
    },
    {
      "cell_type": "markdown",
      "metadata": {
        "id": "hpOj7c-zuGyI"
      },
      "source": [
        "### Data Sources"
      ]
    },
    {
      "cell_type": "markdown",
      "metadata": {
        "id": "78IzX5wJuIWe"
      },
      "source": [
        "- The freely available Jupyter Notebook-written [fastbook](https://github.com/fastai/fastbook/)."
      ]
    },
    {
      "cell_type": "markdown",
      "metadata": {
        "id": "33-TWzYRuMye"
      },
      "source": [
        "### Data Preprocessing"
      ]
    },
    {
      "cell_type": "markdown",
      "metadata": {
        "id": "p-frdSX-uKUN"
      },
      "source": [
        "- Chunking strategy: Single or multiple paragraphs with corresponding headers.\n",
        "- Rationale: Balances granular content with high-level context.\n",
        "- Goal: Maintain lean, informative chunks for efficient retrieval."
      ]
    },
    {
      "cell_type": "markdown",
      "metadata": {
        "id": "d6sRIdRjuOZW"
      },
      "source": [
        "### Database"
      ]
    },
    {
      "cell_type": "markdown",
      "metadata": {
        "id": "UO6w3sD8uTgO"
      },
      "source": [
        "I am using a tensor to store the text embeddings for chunks and queries."
      ]
    },
    {
      "cell_type": "markdown",
      "metadata": {
        "id": "YU5_3t1CubGo"
      },
      "source": [
        "## Methodology"
      ]
    },
    {
      "cell_type": "markdown",
      "metadata": {
        "id": "NNtqoUlkudEX"
      },
      "source": [
        "### Why Cosine Similarity?"
      ]
    },
    {
      "cell_type": "markdown",
      "metadata": {
        "id": "NXTQgMoOufdH"
      },
      "source": [
        "While keyword search approaches resulted in an Answer Rate of up to 76.7% overall (7 chapters) I think there is room for improvement. I expect that for some of the questions where keywords search did not retrieve appropriate context, semantic search will. Why? Because there exists chunks of context that contain the answer to a question without containing the exact keywords explicitly. After performing a question-by-question error analysis (for the 39 questions that none of the keyword search approaches retrieved sufficient context) I expect 23 of those questions (11% of the dataset overall) better suited for a semantic search-based context retrieval."
      ]
    },
    {
      "cell_type": "markdown",
      "metadata": {
        "id": "uNdgqwN9vvRZ"
      },
      "source": [
        "### Evaluation Set"
      ]
    },
    {
      "cell_type": "markdown",
      "metadata": {
        "id": "EVhj_8vJvvhp"
      },
      "source": [
        "My evaluation set consists of:\n",
        "\n",
        "- _ Questionnaire questions.\n",
        "- \"Gold standard\" solutions to the Questionnaire [published by fast.ai Leader Tanishq Abraham](https://forums.fast.ai/t/fastbook-chapter-1-questionnaire-solutions-wiki/65647) who says:\n",
        "\n",
        "> my responses are based on what is supported by the chapter text\n",
        "\n",
        "(Which is perfect for my retrieval task.)"
      ]
    },
    {
      "cell_type": "markdown",
      "metadata": {
        "id": "Kq4A5vIav1I4"
      },
      "source": [
        "### Evaluation Metrics"
      ]
    },
    {
      "cell_type": "markdown",
      "metadata": {
        "id": "QJgOtvQfv1dC"
      },
      "source": [
        "Metrics: **Score** and **Answer Rate**\n",
        "\n",
        "The evaluation metric for each question, that I'm simply calling **score**, is binary: can the retrieved context answer the question (`1`) or not (`0`)? The evaluation metric across a set of questions, which I'm calling the **Answer Rate**, is the mean score for those questions.\n",
        "\n",
        "While this is a straightforward pair of metrics, they do involve some judgment. After reading the retrieved context, I decide if it's enough to answer the question. A capable LLM should be able to make the same kind of judgment about whether the context is helpful or not."
      ]
    },
    {
      "cell_type": "markdown",
      "metadata": {
        "id": "S5bxR3_Gv43Q"
      },
      "source": [
        "## Results"
      ]
    },
    {
      "cell_type": "markdown",
      "metadata": {
        "id": "BAYawtZEv5H6"
      },
      "source": [
        "Here are the names and descriptions of each full text search approach explored in this notebook. Top-n means the chunk(s) with the n-highest Cosine Similarity (CS).\n",
        "\n",
        "|Name|Description|\n",
        "|:-:|:-:|\n",
        "|CS_A|Top-1 1-Paragraph Chunks\n",
        "|CS_B|Top-3 1-Paragraph Chunks\n",
        "|CS_C|Top-5 1-Paragraph Chunks\n",
        "|CS_D|Top-1 3-Paragraph Chunks\n",
        "|CS_E|Top-3 3-Paragraph Chunks\n",
        "|CS_F|Top-5 3-Paragraph Chunks"
      ]
    },
    {
      "cell_type": "markdown",
      "metadata": {
        "id": "Z6rPlXLKwHbz"
      },
      "source": [
        "### Best Approach per Chapter"
      ]
    },
    {
      "cell_type": "markdown",
      "metadata": {
        "id": "fq4S3lRawHv7"
      },
      "source": [
        "The following table shows name, description and **Answer Rate** for the best semantic search approach for each Chapter.\n",
        "\n",
        "CS_F (Top-5 3-paragraph Chunks) was the best performing approach for all chapters and overall."
      ]
    },
    {
      "cell_type": "markdown",
      "metadata": {
        "id": "m6LWva9uwZkF"
      },
      "source": [
        "|Chapter|Name|Description|Answer Rate|\n",
        "|:-:|:-:|:-:|:-:|\n",
        "|1|CS_F|Top-5 3-Paragraph Chunks|90%|\n",
        "|2|CS_F|Top-5 3-Paragraph Chunks|84.62%|\n",
        "|4|CS_F|Top-5 3-Paragraph Chunks|80.65%|\n",
        "|8|CS_F|Top-5 3-Paragraph Chunks|91.30%|\n",
        "|9|CS_F|Top-5 3-Paragraph Chunks|75%|\n",
        "|10|CS_F|Top-5 3-Paragraph Chunks|57.14%|\n",
        "|13|CS_F|Top-5 3-Paragraph Chunks|79.41%|\n",
        "|**All**|CS_F|Top-5 3-Paragraph Chunks|80.31%|"
      ]
    },
    {
      "cell_type": "markdown",
      "metadata": {
        "id": "hwcoXkCEQYuu"
      },
      "source": [
        "A couple observations:\n",
        "\n",
        "- Chapter 1 had the highest Answer Rate overall (90%), as it did for the BM25 baselines with the same Answer Rate.\n",
        "- Chapter 10 had the lowest Answer Rate overall (57.14%), as it did for the BM25 baselines. However, 57.14% is lower than the best BM25 Answer Rate for the chapter (61.9%)."
      ]
    },
    {
      "cell_type": "markdown",
      "metadata": {
        "id": "BAq7yzHPwbqH"
      },
      "source": [
        "### All Approaches for All Chapters"
      ]
    },
    {
      "cell_type": "markdown",
      "metadata": {
        "id": "Y5w8TT6zwcH9"
      },
      "source": [
        "The following table shows the **Answer Rate** for all Cosine Similarity (CS) approaches for each chapter (where in the header, 1p = 1-paragraph chunks and 3p = 3-paragraph chunks)."
      ]
    },
    {
      "cell_type": "markdown",
      "metadata": {
        "id": "1B8RbDANwmxG"
      },
      "source": [
        "|Chapter|CS_A (Top-1 1p)|CS_B (Top-3 1p)|CS_C (Top-5 1p)|CS_D (Top-1 3p)|CS_E (Top-3 3p)|CS_F (Top-5 3p)|\n",
        "|:-:|:-:|:-:|:-:|:-:|:-:|:-:|\n",
        "|1|40% (12/30)|63.33% (19/30)|63.33% (19/30)|46.67% (14/30)|80% (24/30)|90% (27/30)|\n",
        "|2|26.92% (7/26)|61.54% (16/26)|69.23% (18/26)|53.85% (14/26)|80.77% (21/26)|84.62% (22/26)|\n",
        "|4|29.03% (9/31)|54.84% (17/31)|64.52% (20/31)|25.81% (8/31)|67.74% (21/31)|80.65% (25/31)|\n",
        "|8|17.39% (4/23)|43.48% (10/23)|47.83% (11/23)|43.48% (10/23)|73.91% (17/23)|91.30% (21/23)|\n",
        "|9|28.57% (8/28)|46.43% (13/28)|53.57% (15/28)|42.86% (12/28)|57.14% (16/28)|75% (21/28)|\n",
        "|10|42.86% (9/21)|47.62% (10/21)|47.62% (10/21)|47.62% (10/21)|52.38% (11/21)|57.14% (12/21)|\n",
        "|13|41.18% (14/34)|58.82% (20/34)|61.76% (21/34)|47.06% (16/34)|70.59% (24/34)|79.41% (27/34)|\n",
        "|**All**|**32.64% (63/193)**|**54.40% (105/193)**|**59.07% (114/193)**|**43.52% (84/193)**|**69.43% (134/193)**|**80.31% (155/193)**|"
      ]
    },
    {
      "cell_type": "markdown",
      "metadata": {
        "id": "Za3lNMgLwpPS"
      },
      "source": [
        "A few observations when looking at the **Answer Rate** for each approach for each chapter, similar to the BM25 baselines:\n",
        "\n",
        "- **Increasing the number of chunks retrieved generally improves the quality of information retrieved**:\n",
        "  - For all chapters: CS_C >= CS_B >= CS_A and CS_F >= CS_E >= CS_D.\n",
        "- **Increasing the chunk size generally improves the quality of information retrieved**:\n",
        "  - For 6 out of 7 chapters: CS_D > CS_A, CS_E > CS_B, CS_F > CS_C\n",
        "    - For Chapter 4: CS_D < CS_A.\n",
        "- **Not all chapters behave the same**: For some Chapters, like chapter 10, increasing the number of 1-paragraph chunks retrieved from 3 to 5 did not improve the Answer Rate, while for other chapters it did."
      ]
    },
    {
      "cell_type": "markdown",
      "metadata": {
        "id": "dYu2_McQwrv3"
      },
      "source": [
        "### Question-Level Analysis"
      ]
    },
    {
      "cell_type": "markdown",
      "metadata": {
        "id": "_2csiY8jwr7H"
      },
      "source": [
        "Looking at the question-level data offers some additional insights."
      ]
    },
    {
      "cell_type": "code",
      "execution_count": 1,
      "metadata": {
        "id": "Z-UmvhDfwtso"
      },
      "outputs": [],
      "source": [
        "import pandas as pd\n",
        "url = 'https://gist.githubusercontent.com/vishalbakshi/9e0dc5b83c9b02810099f53377ced4ba/raw/3860f7dac972f37cc84cd10e22184c2bfd8813a4/cs_all.csv'\n",
        "df = pd.read_csv(url)\n",
        "score_columns = df.filter(regex='_score$').columns\n",
        "df['total_score'] = df[score_columns].sum(axis=1)"
      ]
    },
    {
      "cell_type": "markdown",
      "metadata": {
        "id": "i2p7yFEdwxVO"
      },
      "source": [
        "#### Distribution of Scores"
      ]
    },
    {
      "cell_type": "markdown",
      "metadata": {
        "id": "Muvc4se6uKmy"
      },
      "source": [
        "Surprisingly, I have the exact same observations about this distribution as the BM25 baseline results:\n",
        "\n",
        "- Bimodal Distribution\n",
        "  - Approximately 50 questions (about 25% of the total) were successfully answered by all six full text search methods (a total score of `6`).\n",
        "  - On the other hand, around 40 questions (about 20%) couldn't be answered by any method, resulting in a total score of `0`.\n",
        "- Uniform Mid-Range Performance\n",
        "  - Questions answered by 2, 3, 4, or 5 methods each accounted for 20-30 instances, showing a relatively even distribution in this middle range.\n",
        "- Least Common Outcome\n",
        "  - Only 10 questions were answered by just one method, making this the least frequent result."
      ]
    },
    {
      "cell_type": "code",
      "execution_count": 2,
      "metadata": {
        "colab": {
          "base_uri": "https://localhost:8080/",
          "height": 564
        },
        "id": "CgzWjmiot3xp",
        "outputId": "8ca373df-62cf-4264-87bb-494bbe6ea03e"
      },
      "outputs": [
        {
          "data": {
            "image/png": "[encoded data removed]",
            "text/plain": [
              "<Figure size 1000x600 with 1 Axes>"
            ]
          },
          "metadata": {},
          "output_type": "display_data"
        }
      ],
      "source": [
        "import matplotlib.pyplot as plt\n",
        "plt.figure(figsize=(10, 6))\n",
        "\n",
        "df['total_score'].hist(bins=range(0, 8), align='left', rwidth=0.8);\n",
        "\n",
        "plt.title('Distribution of Total Scores')\n",
        "plt.xlabel('Total Score')\n",
        "plt.ylabel('Number of Questions');"
      ]
    },
    {
      "cell_type": "markdown",
      "metadata": {
        "id": "aW0pVLVnwxiI"
      },
      "source": [
        "#### Average Score Per Question"
      ]
    },
    {
      "cell_type": "markdown",
      "metadata": {
        "id": "TABp4eUIucns"
      },
      "source": [
        "On average, each question was answered by about 3 semantic search methods."
      ]
    },
    {
      "cell_type": "code",
      "execution_count": 3,
      "metadata": {
        "colab": {
          "base_uri": "https://localhost:8080/",
          "height": 335
        },
        "id": "zh_kX1drucxK",
        "outputId": "b51b0e03-56f7-4920-9217-014167f7447f"
      },
      "outputs": [
        {
          "data": {
            "text/html": [
              "<div>\n",
              "<style scoped>\n",
              "    .dataframe tbody tr th:only-of-type {\n",
              "        vertical-align: middle;\n",
              "    }\n",
              "\n",
              "    .dataframe tbody tr th {\n",
              "        vertical-align: top;\n",
              "    }\n",
              "\n",
              "    .dataframe thead th {\n",
              "        text-align: right;\n",
              "    }\n",
              "</style>\n",
              "<table border=\"1\" class=\"dataframe\">\n",
              "  <thead>\n",
              "    <tr style=\"text-align: right;\">\n",
              "      <th></th>\n",
              "      <th>total_score</th>\n",
              "    </tr>\n",
              "  </thead>\n",
              "  <tbody>\n",
              "    <tr>\n",
              "      <th>count</th>\n",
              "      <td>193.000000</td>\n",
              "    </tr>\n",
              "    <tr>\n",
              "      <th>mean</th>\n",
              "      <td>3.393782</td>\n",
              "    </tr>\n",
              "    <tr>\n",
              "      <th>std</th>\n",
              "      <td>2.153090</td>\n",
              "    </tr>\n",
              "    <tr>\n",
              "      <th>min</th>\n",
              "      <td>0.000000</td>\n",
              "    </tr>\n",
              "    <tr>\n",
              "      <th>25%</th>\n",
              "      <td>2.000000</td>\n",
              "    </tr>\n",
              "    <tr>\n",
              "      <th>50%</th>\n",
              "      <td>3.000000</td>\n",
              "    </tr>\n",
              "    <tr>\n",
              "      <th>75%</th>\n",
              "      <td>6.000000</td>\n",
              "    </tr>\n",
              "    <tr>\n",
              "      <th>max</th>\n",
              "      <td>6.000000</td>\n",
              "    </tr>\n",
              "  </tbody>\n",
              "</table>\n",
              "</div><br><label><b>dtype:</b> float64</label>"
            ],
            "text/plain": [
              "count    193.000000\n",
              "mean       3.393782\n",
              "std        2.153090\n",
              "min        0.000000\n",
              "25%        2.000000\n",
              "50%        3.000000\n",
              "75%        6.000000\n",
              "max        6.000000\n",
              "Name: total_score, dtype: float64"
            ]
          },
          "execution_count": 3,
          "metadata": {},
          "output_type": "execute_result"
        }
      ],
      "source": [
        "df['total_score'].describe()"
      ]
    },
    {
      "cell_type": "markdown",
      "metadata": {
        "id": "ufvXeZ6Pwzs4"
      },
      "source": [
        "#### Unanswered Questions"
      ]
    },
    {
      "cell_type": "markdown",
      "metadata": {
        "id": "1g3kDJZxxoHd"
      },
      "source": [
        "There were 29 questions for which none of the semantic search approaches retrieved the context needed to answer them."
      ]
    },
    {
      "cell_type": "code",
      "execution_count": 4,
      "metadata": {
        "colab": {
          "base_uri": "https://localhost:8080/"
        },
        "id": "c0Nb6gsIxoSx",
        "outputId": "ea7dda47-821f-464c-98d0-4b61bf44b72b"
      },
      "outputs": [
        {
          "data": {
            "text/plain": [
              "(29, 4)"
            ]
          },
          "execution_count": 4,
          "metadata": {},
          "output_type": "execute_result"
        }
      ],
      "source": [
        "no_answer = df.query(\"total_score == 0\")[['chapter', 'question_number', 'question_text', 'answer']].drop_duplicates()\n",
        "no_answer.shape"
      ]
    },
    {
      "cell_type": "markdown",
      "metadata": {
        "id": "HNIV1eXnw4IR"
      },
      "source": [
        "#### Questions with 100% Answer Rate"
      ]
    },
    {
      "cell_type": "markdown",
      "metadata": {
        "id": "fJkZfYNSx_Ha"
      },
      "source": [
        "There were 51 questions that were answered by all 6 semantic search methods."
      ]
    },
    {
      "cell_type": "code",
      "execution_count": 5,
      "metadata": {
        "colab": {
          "base_uri": "https://localhost:8080/"
        },
        "id": "KzBdnzNMx_U8",
        "outputId": "814ab016-2ac2-4197-e694-0579017accf7"
      },
      "outputs": [
        {
          "data": {
            "text/plain": [
              "(51, 3)"
            ]
          },
          "execution_count": 5,
          "metadata": {},
          "output_type": "execute_result"
        }
      ],
      "source": [
        "all_answer = df.query(\"total_score == 6\")[['chapter', 'question_number', 'question_text']].drop_duplicates()\n",
        "all_answer.shape"
      ]
    },
    {
      "cell_type": "markdown",
      "metadata": {
        "id": "OeNRQqWC2iFt"
      },
      "source": [
        "It's worth noting that semantic search successfully retrieved relevant context for the following two questions, where none of the full-text search methods were able to do so."
      ]
    },
    {
      "cell_type": "code",
      "execution_count": null,
      "metadata": {
        "colab": {
          "base_uri": "https://localhost:8080/",
          "height": 35
        },
        "id": "1CZVbsJL21D7",
        "outputId": "d782dc47-76dc-44eb-ebf0-a1989e8e1a1e"
      },
      "outputs": [
        {
          "data": {
            "application/vnd.google.colaboratory.intrinsic+json": {
              "type": "string"
            },
            "text/plain": [
              "'\"\"What is a categorical variable?\"\"'"
            ]
          },
          "execution_count": 12,
          "metadata": {},
          "output_type": "execute_result"
        }
      ],
      "source": [
        "all_answer.iloc[27]['question_text']"
      ]
    },
    {
      "cell_type": "code",
      "execution_count": null,
      "metadata": {
        "colab": {
          "base_uri": "https://localhost:8080/",
          "height": 35
        },
        "id": "V5Ft2sVV284n",
        "outputId": "8cfe1b6b-5ba8-4e6d-a902-65e84617b1da"
      },
      "outputs": [
        {
          "data": {
            "application/vnd.google.colaboratory.intrinsic+json": {
              "type": "string"
            },
            "text/plain": [
              "'\"\"Why do we have to pass the vocabulary of the language model to the classifier data block?\"\"'"
            ]
          },
          "execution_count": 13,
          "metadata": {},
          "output_type": "execute_result"
        }
      ],
      "source": [
        "all_answer.iloc[37]['question_text']"
      ]
    },
    {
      "cell_type": "markdown",
      "metadata": {
        "id": "LHzjwbyf3Jiv"
      },
      "source": [
        "Only 1 of the full text search methods retrieved relevant context for the following three questions where all semantic search methods were able to do so."
      ]
    },
    {
      "cell_type": "code",
      "execution_count": null,
      "metadata": {
        "colab": {
          "base_uri": "https://localhost:8080/",
          "height": 35
        },
        "id": "a6GPvQ0D3TBK",
        "outputId": "7f5c5fea-6a1e-493f-ad67-71e327465db3"
      },
      "outputs": [
        {
          "data": {
            "application/vnd.google.colaboratory.intrinsic+json": {
              "type": "string"
            },
            "text/plain": [
              "'\"\"What is an \"\"architecture\"\"?\"\"'"
            ]
          },
          "execution_count": 14,
          "metadata": {},
          "output_type": "execute_result"
        }
      ],
      "source": [
        "all_answer.iloc[6]['question_text']"
      ]
    },
    {
      "cell_type": "code",
      "execution_count": null,
      "metadata": {
        "colab": {
          "base_uri": "https://localhost:8080/",
          "height": 35
        },
        "id": "NwTpBpBw3dAL",
        "outputId": "37f11b97-7608-4e25-f157-b46de4b6afd7"
      },
      "outputs": [
        {
          "data": {
            "application/vnd.google.colaboratory.intrinsic+json": {
              "type": "string"
            },
            "text/plain": [
              "'\"\"Does sorting the movie biases give the same result as averaging overall movie ratings by movie? Why/why not?\"\"'"
            ]
          },
          "execution_count": 15,
          "metadata": {},
          "output_type": "execute_result"
        }
      ],
      "source": [
        "all_answer.iloc[24]['question_text']"
      ]
    },
    {
      "cell_type": "code",
      "execution_count": null,
      "metadata": {
        "colab": {
          "base_uri": "https://localhost:8080/",
          "height": 35
        },
        "id": "SqOJs3AA3hm2",
        "outputId": "1825536a-0b16-4bd0-b6da-8b1bb033da31"
      },
      "outputs": [
        {
          "data": {
            "application/vnd.google.colaboratory.intrinsic+json": {
              "type": "string"
            },
            "text/plain": [
              "'\"\"What is a \"\"channel\"\"?\"\"'"
            ]
          },
          "execution_count": 16,
          "metadata": {},
          "output_type": "execute_result"
        }
      ],
      "source": [
        "all_answer.iloc[41]['question_text']"
      ]
    },
    {
      "cell_type": "markdown",
      "metadata": {
        "id": "56QetxX23tNF"
      },
      "source": [
        "**I've done a detailed analysis of questions where semantic search performed unanimously better than full text search (and vice versa) in [this notebook].**"
      ]
    },
    {
      "cell_type": "markdown",
      "metadata": {
        "id": "ZAFV6VjRw5_S"
      },
      "source": [
        "### Results CSV"
      ]
    },
    {
      "cell_type": "markdown",
      "metadata": {
        "id": "6M_Pnbd9w7oh"
      },
      "source": [
        "The retrieved contexts and my manually assigned scores for each question and semantic search baseline are available in [this public gist](https://gist.github.com/vishalbakshi/9e0dc5b83c9b02810099f53377ced4ba)."
      ]
    },
    {
      "cell_type": "markdown",
      "metadata": {
        "id": "GV3qYMt2w-cx"
      },
      "source": [
        "## Limitations"
      ]
    },
    {
      "cell_type": "markdown",
      "metadata": {
        "id": "ld8WzpYdw-n6"
      },
      "source": [
        "There are a number of limitations that I want to highlight in this work, the first and last two are also applicable to my full text search work:\n",
        "\n",
        "- **Limited methods:** There are inumerable combinations of chunk strategies and top-n retrieval choices. I chose the six (1-paragraph/3-paragraph and Top-1/Top-3/Top-5) that seemed easy to implement, reasonable to accomplish in my desired timeline and reasonably provided me with a diverse set of results.\n",
        "- **Limited scope**: I'm only considering the 193 questions in the end-of-chapter Questionnaires whose answer was explicitly in the fastbook text. There are endless questions about the topics covered in the fastbook. I only focused on the 7 chapters covered in Part 1 of the fastai course (as I am still in progress with Part 2). A more general-purpose QA task for deep learning and machine learning would likely require a different set of evals.\n",
        "- **I only used one embedding model**: There models other than `BAAI/bge-small-en-v1.5`, some that create larger embeddings, that may yield better results.\n",
        "- **I used my own judgment**: I had to use my judgment to determine whether the retrieved context was sufficient for answering the given question. This is a fuzzy evaluation method.\n",
        "- **I used the official Questionnaire solutions**: There is room for interpretation when answering open-ended questions. I chose to strictly follow the \"gold standard\" answers provided in the course Forums."
      ]
    },
    {
      "cell_type": "markdown",
      "metadata": {
        "id": "PT8-HR0MxAO6"
      },
      "source": [
        "## Future Work"
      ]
    },
    {
      "cell_type": "markdown",
      "metadata": {
        "id": "SERagoOYxC6y"
      },
      "source": [
        "Each of the limitations provides an opportunity for future work:\n",
        "\n",
        "- Experiment with different chunking strategies and observe their impact on retrieval performance.\n",
        "- Expanding the eval set to include more chapters and question types.\n",
        "- Experiment with different embedding models.\n",
        "- **Integrate an LLM to replace my own judgment in the pipeline** (something that I'll be doing as part of the broader fastbookRAG project).\n",
        "- **Conducting a deep dive into error analysis** to understand why certain questions weren't answerable (something I'll do before I conduct any further experiments).\n",
        "- **Removing questions from my evals that do not have explicit answers** in the chapter text (something I'll do before I conduct any further experiments).\n",
        "- Developing my own set of standardized answers (with the use of an LLM) for each question to ensure consistency."
      ]
    },
    {
      "cell_type": "markdown",
      "metadata": {
        "id": "acLsax3rxE4K"
      },
      "source": [
        "## Experiments"
      ]
    },
    {
      "cell_type": "markdown",
      "metadata": {
        "id": "Q2-nuOsoxHbR"
      },
      "source": [
        "### Helper Functions"
      ]
    },
    {
      "cell_type": "code",
      "execution_count": null,
      "metadata": {
        "id": "unZ5R7uqxMU0"
      },
      "outputs": [],
      "source": [
        "#| code-fold: true\n",
        "#| code-summary: \"Show imports\"\n",
        "import sqlite3\n",
        "import json\n",
        "import re\n",
        "import os\n",
        "import pandas as pd, numpy as np\n",
        "import requests\n",
        "import torch.nn.functional as F"
      ]
    },
    {
      "cell_type": "code",
      "execution_count": null,
      "metadata": {
        "id": "Rq0m73m7xNh6"
      },
      "outputs": [],
      "source": [
        "#| code-fold: true\n",
        "#| code-summary: \"Show chunking code\"\n",
        "def get_chunks(notebook_path):\n",
        "    with open(notebook_path, 'r', encoding='utf-8') as file:\n",
        "        notebook = json.load(file)\n",
        "\n",
        "    chunks = []\n",
        "    current_header = \"\"\n",
        "\n",
        "    def add_chunk(content):\n",
        "        if content.strip():\n",
        "            chunks.append(f\"{current_header}\\n\\n{content.strip()}\")\n",
        "\n",
        "    for cell in notebook['cells']:\n",
        "        if cell['cell_type'] == 'markdown':\n",
        "            content = ''.join(cell['source'])\n",
        "            # see if the cell starts with a markdown header\n",
        "            header_match = re.match(r'^(#+\\s+.*?)$', content, re.MULTILINE)\n",
        "            if header_match:\n",
        "                # grab the header\n",
        "                current_header = header_match.group(1)\n",
        "                # add any content after the header in the same cell\n",
        "                remaining_content = content[len(current_header):].strip()\n",
        "                if remaining_content:\n",
        "                    # split content into paragraphs\n",
        "                    paragraphs = re.split(r'\\n\\s*\\n', remaining_content)\n",
        "                    # append the paragraph to the list of chunks\n",
        "                    for paragraph in paragraphs:\n",
        "                        add_chunk(paragraph)\n",
        "            else:\n",
        "                # split content into paragraphs\n",
        "                paragraphs = re.split(r'\\n\\s*\\n', content)\n",
        "                # append the paragraph to the list of chunks\n",
        "                for paragraph in paragraphs:\n",
        "                    add_chunk(paragraph)\n",
        "        elif cell['cell_type'] == 'code':\n",
        "          code_content = '```python\\n' + ''.join(cell['source']) + '\\n```'\n",
        "\n",
        "          # include the output of the code cell\n",
        "          output_content = ''\n",
        "          if 'outputs' in cell and cell['outputs']:\n",
        "              for output in cell['outputs']:\n",
        "                  if 'text' in output:\n",
        "                      output_content += ''.join(output['text'])\n",
        "                  elif 'data' in output and 'text/plain' in output['data']:\n",
        "                      output_content += ''.join(output['data']['text/plain'])\n",
        "\n",
        "          # combine code and output in the same chunk\n",
        "          combined_content = code_content + '\\n\\nOutput:\\n' + output_content if output_content else code_content\n",
        "          add_chunk(combined_content)\n",
        "\n",
        "    def filter_chunks(chunks, exclude_headers=[\"Questionnaire\", \"Further Research\"]):\n",
        "      filtered_chunks = []\n",
        "      for chunk in chunks:\n",
        "          lines = chunk.split('\\n')\n",
        "          # check if the first line (header) is in the exclude list\n",
        "          if not any(header in lines[0] for header in exclude_headers):\n",
        "              filtered_chunks.append(chunk)\n",
        "      return filtered_chunks\n",
        "\n",
        "    return filter_chunks(chunks)"
      ]
    },
    {
      "cell_type": "markdown",
      "metadata": {
        "id": "CbTAGaWFxRcw"
      },
      "source": [
        "### Data Preprocessing"
      ]
    },
    {
      "cell_type": "markdown",
      "metadata": {
        "id": "JR_Lq5OQxRth"
      },
      "source": [
        "You can download the notebooks from the [fastbook repo](https://github.com/fastai/fastbook/tree/master) or run the following cell to download them."
      ]
    },
    {
      "cell_type": "code",
      "execution_count": null,
      "metadata": {
        "id": "NongydWtxUlt"
      },
      "outputs": [],
      "source": [
        "urls = {\n",
        "    '01_intro.ipynb': 'https://drive.google.com/uc?export=view&id=1mmBjFH_plndPBC4iRZHChfMazgBxKK4_',\n",
        "    '02_production.ipynb': 'https://drive.google.com/uc?export=view&id=1Cf5QHthHy1z13H0iu3qrzAWgquCfqVHk',\n",
        "    '04_mnist_basics.ipynb': 'https://drive.google.com/uc?export=view&id=113909_BNulzyLIKUNJHdya0Hhoqie30I',\n",
        "    '08_collab.ipynb': 'https://drive.google.com/uc?export=view&id=1BtvStgFjUtvtqbSZNrL7Y2N-ey3seNZU',\n",
        "    '09_tabular.ipynb': 'https://drive.google.com/uc?export=view&id=1rHFvwl_l-AJLg_auPjBpNrOgG9HDnfqg',\n",
        "    '10_nlp.ipynb': 'https://drive.google.com/uc?export=view&id=1pg1pH7jMMElzrXS0kBBz14aAuDsi2DEP',\n",
        "    '13_convolutions.ipynb': 'https://drive.google.com/uc?export=view&id=19P-eEHpAO3WrOvdxgXckyhHhfv_R-hnS'\n",
        "}\n",
        "\n",
        "def download_file(url, filename):\n",
        "    # Send a GET request to the URL\n",
        "    response = requests.get(url)\n",
        "\n",
        "    # Check if the request was successful\n",
        "    if response.status_code == 200:\n",
        "        # Open the file in write-binary mode\n",
        "        with open(filename, 'wb') as file:\n",
        "            # Write the content of the response to the file\n",
        "            file.write(response.content)\n",
        "        print(f\"File downloaded successfully: {filename}\")\n",
        "    else:\n",
        "        print(f\"Failed to download file. Status code: {response.status_code}\")\n",
        "\n",
        "for fname, url in urls.items():\n",
        "  download_file(url, fname)"
      ]
    },
    {
      "cell_type": "markdown",
      "metadata": {
        "id": "kp3sondxxTbd"
      },
      "source": [
        "I have seven notebooks in total. I'll start by using `get_chunks` to split the notebook content into paragraphs (with the corresponding header)."
      ]
    },
    {
      "cell_type": "code",
      "execution_count": null,
      "metadata": {
        "id": "s8VAkcNTxZH9"
      },
      "outputs": [],
      "source": [
        "#| code-fold: true\n",
        "#| code-summary: \"Show the dict w/ notebook filenames\"\n",
        "\n",
        "nbs = {\n",
        "    '1': '01_intro.ipynb',\n",
        "    '2': '02_production.ipynb',\n",
        "    '4': '04_mnist_basics.ipynb',\n",
        "    '8': '08_collab.ipynb',\n",
        "    '9': '09_tabular.ipynb',\n",
        "    '10': '10_nlp.ipynb',\n",
        "    '13': '13_convolutions.ipynb'\n",
        "}"
      ]
    },
    {
      "cell_type": "code",
      "execution_count": null,
      "metadata": {
        "id": "CE1YeLw-xakU"
      },
      "outputs": [],
      "source": [
        "# chunking each notebook\n",
        "data = {}\n",
        "\n",
        "for chapter, nb in nbs.items():\n",
        "  data[chapter] = get_chunks(nb)"
      ]
    },
    {
      "cell_type": "markdown",
      "metadata": {
        "id": "lqdvIqQgxLxq"
      },
      "source": [
        "I'll print out the length of the total chunks so I get a sense of how many unique chunks there are:"
      ]
    },
    {
      "cell_type": "code",
      "execution_count": null,
      "metadata": {
        "colab": {
          "base_uri": "https://localhost:8080/"
        },
        "id": "gqoEGxVpxcde",
        "outputId": "38f171a8-cd2f-4c7a-fbe8-9ae755900cdd"
      },
      "outputs": [
        {
          "name": "stdout",
          "output_type": "stream",
          "text": [
            "1 307\n",
            "2 227\n",
            "4 433\n",
            "8 157\n",
            "9 387\n",
            "10 190\n",
            "13 266\n"
          ]
        }
      ],
      "source": [
        "total_chunks = 0\n",
        "for chapter, chunks in data.items():\n",
        "  print(chapter, len(chunks))\n",
        "  total_chunks += len(chunks)\n",
        "\n",
        "assert total_chunks == 1967 # 1-paragraph chunks"
      ]
    },
    {
      "cell_type": "markdown",
      "metadata": {
        "id": "vwm0Fggzxg9d"
      },
      "source": [
        "### Embed the Data"
      ]
    },
    {
      "cell_type": "markdown",
      "metadata": {
        "id": "uRphtbWoxkPF"
      },
      "source": [
        "I'll create text embeddings for the chunks using a popular embedding model."
      ]
    },
    {
      "cell_type": "code",
      "execution_count": null,
      "metadata": {
        "id": "TDzVq8OB9-Ep"
      },
      "outputs": [],
      "source": [
        "!pip install sentence-transformers -Uqq\n",
        "from sentence_transformers import SentenceTransformer\n",
        "emb_model = SentenceTransformer(\"BAAI/bge-small-en-v1.5\")"
      ]
    },
    {
      "cell_type": "code",
      "execution_count": null,
      "metadata": {
        "id": "mbxibFhn-uh2"
      },
      "outputs": [],
      "source": [
        "data_embs = {}\n",
        "\n",
        "for chapter, chunks in data.items():\n",
        "  data_embs[chapter] = emb_model.encode(chunks, convert_to_tensor=True)"
      ]
    },
    {
      "cell_type": "code",
      "execution_count": null,
      "metadata": {
        "id": "afoywifM_VhP"
      },
      "outputs": [],
      "source": [
        "import pickle\n",
        "\n",
        "with open('data_embs.pkl', 'rb') as f:\n",
        "    data_embs = pickle.load(f)"
      ]
    },
    {
      "cell_type": "code",
      "execution_count": null,
      "metadata": {
        "colab": {
          "base_uri": "https://localhost:8080/"
        },
        "id": "Iww6c_5U-7SP",
        "outputId": "d45d423e-6e97-46bf-d39d-60a67490af77"
      },
      "outputs": [
        {
          "name": "stdout",
          "output_type": "stream",
          "text": [
            "1 torch.Size([307, 384])\n",
            "2 torch.Size([227, 384])\n",
            "4 torch.Size([433, 384])\n",
            "8 torch.Size([157, 384])\n",
            "9 torch.Size([387, 384])\n",
            "10 torch.Size([190, 384])\n",
            "13 torch.Size([266, 384])\n"
          ]
        }
      ],
      "source": [
        "for chapter, embs in data_embs.items():\n",
        "  print(chapter, embs.shape)"
      ]
    },
    {
      "cell_type": "markdown",
      "metadata": {
        "id": "QsHgvqARyAFY"
      },
      "source": [
        "### Load and Embed the Question Texts"
      ]
    },
    {
      "cell_type": "markdown",
      "metadata": {
        "id": "ARS2q5dSxscA"
      },
      "source": [
        "I have saved each chapter's questions and answers in [this gist](https://gist.github.com/vishalbakshi/fa90ec0172924091fa97bb0971b3a713). Note that the total number of questions (193) is different than the total number of questions for the keyword searh evals (202) since after error analysis I deemed that some questions were unanswerable using the chapter text (they were ambiguously worded, were exercises meant to be done by the reader, and/or the chapter text did not contain enough relevant explanatory text to answer the question)."
      ]
    },
    {
      "cell_type": "code",
      "execution_count": null,
      "metadata": {
        "colab": {
          "base_uri": "https://localhost:8080/",
          "height": 293
        },
        "id": "JY0HFCEYyBs0",
        "outputId": "475d80e9-36a5-42b1-dd00-9438bea9f09a"
      },
      "outputs": [
        {
          "data": {
            "application/vnd.google.colaboratory.intrinsic+json": {
              "summary": "{\n  \"name\": \"questions\",\n  \"rows\": 193,\n  \"fields\": [\n    {\n      \"column\": \"chapter\",\n      \"properties\": {\n        \"dtype\": \"number\",\n        \"std\": 4,\n        \"min\": 1,\n        \"max\": 13,\n        \"num_unique_values\": 7,\n        \"samples\": [\n          1,\n          2,\n          10\n        ],\n        \"semantic_type\": \"\",\n        \"description\": \"\"\n      }\n    },\n    {\n      \"column\": \"question_number\",\n      \"properties\": {\n        \"dtype\": \"number\",\n        \"std\": 9,\n        \"min\": 1,\n        \"max\": 40,\n        \"num_unique_values\": 40,\n        \"samples\": [\n          23,\n          20,\n          19\n        ],\n        \"semantic_type\": \"\",\n        \"description\": \"\"\n      }\n    },\n    {\n      \"column\": \"question_text\",\n      \"properties\": {\n        \"dtype\": \"string\",\n        \"num_unique_values\": 193,\n        \"samples\": [\n          \"\\\"\\\"What is the difference between `item_tfms` and `batch_tfms`?\\\"\\\"\",\n          \"\\\"\\\"Why might we not always use a neural net for tabular modeling?\\\"\\\"\",\n          \"\\\"\\\"What does the DataLoader class do?\\\"\\\"\"\n        ],\n        \"semantic_type\": \"\",\n        \"description\": \"\"\n      }\n    },\n    {\n      \"column\": \"answer\",\n      \"properties\": {\n        \"dtype\": \"string\",\n        \"num_unique_values\": 193,\n        \"samples\": [\n          \"\\\"\\\"item_tfms are transformations applied to a single data sample x on the CPU. Resize() is a common transform because the mini-batch of input images to a cnn must have the same dimensions. Assuming the images are RGB with 3 channels, then Resize() as item_tfms will make sure the images have the same width and height.\\nbatch_tfms are applied to batched data samples (aka individual samples that have been collated into a mini-batch) on the GPU. They are faster and more efficient than item_tfms. A good example of these are the ones provided by aug_transforms(). Inside are several batch-level augmentations that help many models.\\\"\\\"\",\n          \"\\\"\\\"We might not use them because they are the hardest to train and longest to train, and less well-understood. Instead, random forests should be the first choice/baseline, and neural networks could be tried to improve these results or add to an ensemble.\\\"\\\"\",\n          \"\\\"\\\"The DataLoader class can take any Python collection and turn it into an iterator over many batches.\\\"\\\"\"\n        ],\n        \"semantic_type\": \"\",\n        \"description\": \"\"\n      }\n    },\n    {\n      \"column\": \"is_answerable\",\n      \"properties\": {\n        \"dtype\": \"number\",\n        \"std\": 0,\n        \"min\": 1,\n        \"max\": 1,\n        \"num_unique_values\": 1,\n        \"samples\": [\n          1\n        ],\n        \"semantic_type\": \"\",\n        \"description\": \"\"\n      }\n    }\n  ]\n}",
              "type": "dataframe",
              "variable_name": "questions"
            },
            "text/html": [
              "\n",
              "  <div id=\"df-5442f2b2-ec26-42e3-95c8-ff0436876d42\" class=\"colab-df-container\">\n",
              "    <div>\n",
              "<style scoped>\n",
              "    .dataframe tbody tr th:only-of-type {\n",
              "        vertical-align: middle;\n",
              "    }\n",
              "\n",
              "    .dataframe tbody tr th {\n",
              "        vertical-align: top;\n",
              "    }\n",
              "\n",
              "    .dataframe thead th {\n",
              "        text-align: right;\n",
              "    }\n",
              "</style>\n",
              "<table border=\"1\" class=\"dataframe\">\n",
              "  <thead>\n",
              "    <tr style=\"text-align: right;\">\n",
              "      <th></th>\n",
              "      <th>chapter</th>\n",
              "      <th>question_number</th>\n",
              "      <th>question_text</th>\n",
              "      <th>answer</th>\n",
              "      <th>is_answerable</th>\n",
              "    </tr>\n",
              "  </thead>\n",
              "  <tbody>\n",
              "    <tr>\n",
              "      <th>0</th>\n",
              "      <td>1</td>\n",
              "      <td>1</td>\n",
              "      <td>\"\"Do you need these for deep learning?nn- Lots...</td>\n",
              "      <td>\"\"Lots of math - False\\nLots of data - False\\n...</td>\n",
              "      <td>1</td>\n",
              "    </tr>\n",
              "    <tr>\n",
              "      <th>1</th>\n",
              "      <td>1</td>\n",
              "      <td>2</td>\n",
              "      <td>\"\"Name five areas where deep learning is now t...</td>\n",
              "      <td>\"\"Any five of the following:\\nNatural Language...</td>\n",
              "      <td>1</td>\n",
              "    </tr>\n",
              "    <tr>\n",
              "      <th>2</th>\n",
              "      <td>1</td>\n",
              "      <td>3</td>\n",
              "      <td>\"\"What was the name of the first device that w...</td>\n",
              "      <td>\"\"Mark I perceptron built by Frank Rosenblatt\"\"</td>\n",
              "      <td>1</td>\n",
              "    </tr>\n",
              "    <tr>\n",
              "      <th>3</th>\n",
              "      <td>1</td>\n",
              "      <td>4</td>\n",
              "      <td>\"\"Based on the book of the same name, what are...</td>\n",
              "      <td>\"\"A set of processing units\\nA state of activa...</td>\n",
              "      <td>1</td>\n",
              "    </tr>\n",
              "    <tr>\n",
              "      <th>4</th>\n",
              "      <td>1</td>\n",
              "      <td>5</td>\n",
              "      <td>\"\"What were the two theoretical misunderstandi...</td>\n",
              "      <td>\"\"In 1969, Marvin Minsky and Seymour Papert de...</td>\n",
              "      <td>1</td>\n",
              "    </tr>\n",
              "  </tbody>\n",
              "</table>\n",
              "</div>\n",
              "    <div class=\"colab-df-buttons\">\n",
              "\n",
              "  <div class=\"colab-df-container\">\n",
              "    <button class=\"colab-df-convert\" onclick=\"convertToInteractive('df-5442f2b2-ec26-42e3-95c8-ff0436876d42')\"\n",
              "            title=\"Convert this dataframe to an interactive table.\"\n",
              "            style=\"display:none;\">\n",
              "\n",
              "  <svg xmlns=\"http://www.w3.org/2000/svg\" height=\"24px\" viewBox=\"0 -960 960 960\">\n",
              "    <path d=\"M120-120v-720h720v720H120Zm60-500h600v-160H180v160Zm220 220h160v-160H400v160Zm0 220h160v-160H400v160ZM180-400h160v-160H180v160Zm440 0h160v-160H620v160ZM180-180h160v-160H180v160Zm440 0h160v-160H620v160Z\"/>\n",
              "  </svg>\n",
              "    </button>\n",
              "\n",
              "  <style>\n",
              "    .colab-df-container {\n",
              "      display:flex;\n",
              "      gap: 12px;\n",
              "    }\n",
              "\n",
              "    .colab-df-convert {\n",
              "      background-color: #E8F0FE;\n",
              "      border: none;\n",
              "      border-radius: 50%;\n",
              "      cursor: pointer;\n",
              "      display: none;\n",
              "      fill: #1967D2;\n",
              "      height: 32px;\n",
              "      padding: 0 0 0 0;\n",
              "      width: 32px;\n",
              "    }\n",
              "\n",
              "    .colab-df-convert:hover {\n",
              "      background-color: #E2EBFA;\n",
              "      box-shadow: 0px 1px 2px rgba(60, 64, 67, 0.3), 0px 1px 3px 1px rgba(60, 64, 67, 0.15);\n",
              "      fill: #174EA6;\n",
              "    }\n",
              "\n",
              "    .colab-df-buttons div {\n",
              "      margin-bottom: 4px;\n",
              "    }\n",
              "\n",
              "    [theme=dark] .colab-df-convert {\n",
              "      background-color: #3B4455;\n",
              "      fill: #D2E3FC;\n",
              "    }\n",
              "\n",
              "    [theme=dark] .colab-df-convert:hover {\n",
              "      background-color: #434B5C;\n",
              "      box-shadow: 0px 1px 3px 1px rgba(0, 0, 0, 0.15);\n",
              "      filter: drop-shadow(0px 1px 2px rgba(0, 0, 0, 0.3));\n",
              "      fill: #FFFFFF;\n",
              "    }\n",
              "  </style>\n",
              "\n",
              "    <script>\n",
              "      const buttonEl =\n",
              "        document.querySelector('#df-5442f2b2-ec26-42e3-95c8-ff0436876d42 button.colab-df-convert');\n",
              "      buttonEl.style.display =\n",
              "        google.colab.kernel.accessAllowed ? 'block' : 'none';\n",
              "\n",
              "      async function convertToInteractive(key) {\n",
              "        const element = document.querySelector('#df-5442f2b2-ec26-42e3-95c8-ff0436876d42');\n",
              "        const dataTable =\n",
              "          await google.colab.kernel.invokeFunction('convertToInteractive',\n",
              "                                                    [key], {});\n",
              "        if (!dataTable) return;\n",
              "\n",
              "        const docLinkHtml = 'Like what you see? Visit the ' +\n",
              "          '<a target=\"_blank\" href=https://colab.research.google.com/notebooks/data_table.ipynb>data table notebook</a>'\n",
              "          + ' to learn more about interactive tables.';\n",
              "        element.innerHTML = '';\n",
              "        dataTable['output_type'] = 'display_data';\n",
              "        await google.colab.output.renderOutput(dataTable, element);\n",
              "        const docLink = document.createElement('div');\n",
              "        docLink.innerHTML = docLinkHtml;\n",
              "        element.appendChild(docLink);\n",
              "      }\n",
              "    </script>\n",
              "  </div>\n",
              "\n",
              "\n",
              "<div id=\"df-322db31e-56df-4d86-ad55-a0c0fd5bab58\">\n",
              "  <button class=\"colab-df-quickchart\" onclick=\"quickchart('df-322db31e-56df-4d86-ad55-a0c0fd5bab58')\"\n",
              "            title=\"Suggest charts\"\n",
              "            style=\"display:none;\">\n",
              "\n",
              "<svg xmlns=\"http://www.w3.org/2000/svg\" height=\"24px\"viewBox=\"0 0 24 24\"\n",
              "     width=\"24px\">\n",
              "    <g>\n",
              "        <path d=\"M19 3H5c-1.1 0-2 .9-2 2v14c0 1.1.9 2 2 2h14c1.1 0 2-.9 2-2V5c0-1.1-.9-2-2-2zM9 17H7v-7h2v7zm4 0h-2V7h2v10zm4 0h-2v-4h2v4z\"/>\n",
              "    </g>\n",
              "</svg>\n",
              "  </button>\n",
              "\n",
              "<style>\n",
              "  .colab-df-quickchart {\n",
              "      --bg-color: #E8F0FE;\n",
              "      --fill-color: #1967D2;\n",
              "      --hover-bg-color: #E2EBFA;\n",
              "      --hover-fill-color: #174EA6;\n",
              "      --disabled-fill-color: #AAA;\n",
              "      --disabled-bg-color: #DDD;\n",
              "  }\n",
              "\n",
              "  [theme=dark] .colab-df-quickchart {\n",
              "      --bg-color: #3B4455;\n",
              "      --fill-color: #D2E3FC;\n",
              "      --hover-bg-color: #434B5C;\n",
              "      --hover-fill-color: #FFFFFF;\n",
              "      --disabled-bg-color: #3B4455;\n",
              "      --disabled-fill-color: #666;\n",
              "  }\n",
              "\n",
              "  .colab-df-quickchart {\n",
              "    background-color: var(--bg-color);\n",
              "    border: none;\n",
              "    border-radius: 50%;\n",
              "    cursor: pointer;\n",
              "    display: none;\n",
              "    fill: var(--fill-color);\n",
              "    height: 32px;\n",
              "    padding: 0;\n",
              "    width: 32px;\n",
              "  }\n",
              "\n",
              "  .colab-df-quickchart:hover {\n",
              "    background-color: var(--hover-bg-color);\n",
              "    box-shadow: 0 1px 2px rgba(60, 64, 67, 0.3), 0 1px 3px 1px rgba(60, 64, 67, 0.15);\n",
              "    fill: var(--button-hover-fill-color);\n",
              "  }\n",
              "\n",
              "  .colab-df-quickchart-complete:disabled,\n",
              "  .colab-df-quickchart-complete:disabled:hover {\n",
              "    background-color: var(--disabled-bg-color);\n",
              "    fill: var(--disabled-fill-color);\n",
              "    box-shadow: none;\n",
              "  }\n",
              "\n",
              "  .colab-df-spinner {\n",
              "    border: 2px solid var(--fill-color);\n",
              "    border-color: transparent;\n",
              "    border-bottom-color: var(--fill-color);\n",
              "    animation:\n",
              "      spin 1s steps(1) infinite;\n",
              "  }\n",
              "\n",
              "  @keyframes spin {\n",
              "    0% {\n",
              "      border-color: transparent;\n",
              "      border-bottom-color: var(--fill-color);\n",
              "      border-left-color: var(--fill-color);\n",
              "    }\n",
              "    20% {\n",
              "      border-color: transparent;\n",
              "      border-left-color: var(--fill-color);\n",
              "      border-top-color: var(--fill-color);\n",
              "    }\n",
              "    30% {\n",
              "      border-color: transparent;\n",
              "      border-left-color: var(--fill-color);\n",
              "      border-top-color: var(--fill-color);\n",
              "      border-right-color: var(--fill-color);\n",
              "    }\n",
              "    40% {\n",
              "      border-color: transparent;\n",
              "      border-right-color: var(--fill-color);\n",
              "      border-top-color: var(--fill-color);\n",
              "    }\n",
              "    60% {\n",
              "      border-color: transparent;\n",
              "      border-right-color: var(--fill-color);\n",
              "    }\n",
              "    80% {\n",
              "      border-color: transparent;\n",
              "      border-right-color: var(--fill-color);\n",
              "      border-bottom-color: var(--fill-color);\n",
              "    }\n",
              "    90% {\n",
              "      border-color: transparent;\n",
              "      border-bottom-color: var(--fill-color);\n",
              "    }\n",
              "  }\n",
              "</style>\n",
              "\n",
              "  <script>\n",
              "    async function quickchart(key) {\n",
              "      const quickchartButtonEl =\n",
              "        document.querySelector('#' + key + ' button');\n",
              "      quickchartButtonEl.disabled = true;  // To prevent multiple clicks.\n",
              "      quickchartButtonEl.classList.add('colab-df-spinner');\n",
              "      try {\n",
              "        const charts = await google.colab.kernel.invokeFunction(\n",
              "            'suggestCharts', [key], {});\n",
              "      } catch (error) {\n",
              "        console.error('Error during call to suggestCharts:', error);\n",
              "      }\n",
              "      quickchartButtonEl.classList.remove('colab-df-spinner');\n",
              "      quickchartButtonEl.classList.add('colab-df-quickchart-complete');\n",
              "    }\n",
              "    (() => {\n",
              "      let quickchartButtonEl =\n",
              "        document.querySelector('#df-322db31e-56df-4d86-ad55-a0c0fd5bab58 button');\n",
              "      quickchartButtonEl.style.display =\n",
              "        google.colab.kernel.accessAllowed ? 'block' : 'none';\n",
              "    })();\n",
              "  </script>\n",
              "</div>\n",
              "\n",
              "    </div>\n",
              "  </div>\n"
            ],
            "text/plain": [
              "   chapter  question_number  \\\n",
              "0        1                1   \n",
              "1        1                2   \n",
              "2        1                3   \n",
              "3        1                4   \n",
              "4        1                5   \n",
              "\n",
              "                                       question_text  \\\n",
              "0  \"\"Do you need these for deep learning?nn- Lots...   \n",
              "1  \"\"Name five areas where deep learning is now t...   \n",
              "2  \"\"What was the name of the first device that w...   \n",
              "3  \"\"Based on the book of the same name, what are...   \n",
              "4  \"\"What were the two theoretical misunderstandi...   \n",
              "\n",
              "                                              answer  is_answerable  \n",
              "0  \"\"Lots of math - False\\nLots of data - False\\n...              1  \n",
              "1  \"\"Any five of the following:\\nNatural Language...              1  \n",
              "2    \"\"Mark I perceptron built by Frank Rosenblatt\"\"              1  \n",
              "3  \"\"A set of processing units\\nA state of activa...              1  \n",
              "4  \"\"In 1969, Marvin Minsky and Seymour Papert de...              1  "
            ]
          },
          "execution_count": 13,
          "metadata": {},
          "output_type": "execute_result"
        }
      ],
      "source": [
        "import pandas as pd\n",
        "url = 'https://gist.githubusercontent.com/vishalbakshi/fa90ec0172924091fa97bb0971b3a713/raw/b5e801c4d887edebc8de4097b44eff49d15d6b49/fastbookRAG_evals_CS.csv'\n",
        "questions = pd.read_csv(url)\n",
        "questions.head()"
      ]
    },
    {
      "cell_type": "code",
      "execution_count": null,
      "metadata": {
        "colab": {
          "base_uri": "https://localhost:8080/"
        },
        "id": "StPe4nDpyEih",
        "outputId": "79d94117-375d-4fca-caec-86bd0f6df298"
      },
      "outputs": [
        {
          "data": {
            "text/plain": [
              "(193, 5)"
            ]
          },
          "execution_count": 9,
          "metadata": {},
          "output_type": "execute_result"
        }
      ],
      "source": [
        "questions.shape"
      ]
    },
    {
      "cell_type": "code",
      "execution_count": null,
      "metadata": {
        "colab": {
          "base_uri": "https://localhost:8080/"
        },
        "id": "w0hjxR4dAylc",
        "outputId": "79631b7e-208b-4f55-c8cf-6ff3277e7c67"
      },
      "outputs": [
        {
          "name": "stdout",
          "output_type": "stream",
          "text": [
            "1 (30,) torch.Size([30, 384])\n",
            "2 (26,) torch.Size([26, 384])\n",
            "4 (31,) torch.Size([31, 384])\n",
            "8 (23,) torch.Size([23, 384])\n",
            "9 (28,) torch.Size([28, 384])\n",
            "10 (21,) torch.Size([21, 384])\n",
            "13 (34,) torch.Size([34, 384])\n"
          ]
        }
      ],
      "source": [
        "q_embs = {}\n",
        "\n",
        "for chapter, _ in data.items():\n",
        "  qs = questions[questions['chapter'] == int(chapter)].reset_index()['question_text']\n",
        "  q_embs[chapter] = emb_model.encode(qs, convert_to_tensor=True)\n",
        "  print(chapter, qs.shape, q_embs[chapter].shape)"
      ]
    },
    {
      "cell_type": "code",
      "execution_count": null,
      "metadata": {
        "id": "K5-6pBNcEIPy"
      },
      "outputs": [],
      "source": [
        "with open('q_embs.pkl', 'rb') as f:\n",
        "    q_embs = pickle.load(f)"
      ]
    },
    {
      "cell_type": "code",
      "execution_count": null,
      "metadata": {
        "colab": {
          "base_uri": "https://localhost:8080/"
        },
        "id": "BcqXJwUtEZVR",
        "outputId": "1a077740-61c6-4d60-d174-eec599023f6c"
      },
      "outputs": [
        {
          "name": "stdout",
          "output_type": "stream",
          "text": [
            "1 torch.Size([30, 384])\n",
            "2 torch.Size([26, 384])\n",
            "4 torch.Size([31, 384])\n",
            "8 torch.Size([23, 384])\n",
            "9 torch.Size([28, 384])\n",
            "10 torch.Size([21, 384])\n",
            "13 torch.Size([34, 384])\n"
          ]
        }
      ],
      "source": [
        "for c, e in q_embs.items():\n",
        "  print(c,e.shape)"
      ]
    },
    {
      "cell_type": "markdown",
      "metadata": {
        "id": "_B-rgHA4yGmp"
      },
      "source": [
        "### CS_A: Top-1 1-Paragraph Chunks"
      ]
    },
    {
      "cell_type": "markdown",
      "metadata": {
        "id": "Z29rEVgeyKci"
      },
      "source": [
        "In this approach, I'll select the top-1 retrieved context (1-paragraph chunk) for each question's keywords and calculate the **Answer Rate**. As a reminder, the evaluation metric for each question, that I'm simply calling **score**, is binary: can the retrieved context answer the question (`1`) or not (`0`)? The evaluation metric across a set of questions, which I'm calling the **Answer Rate**, is the mean score for those questions."
      ]
    },
    {
      "cell_type": "markdown",
      "metadata": {
        "id": "aox0SnM4JygB"
      },
      "source": [
        "I needed to think through this a bit so I'll walk through my process. I start by adding a unit axis to the data and questions' embeddings. This prepares it for broadcasting. Here's an image showing the concept:\n",
        "\n",
        "![Broadcasting data and questions embeddings](2.png)"
      ]
    },
    {
      "cell_type": "code",
      "execution_count": null,
      "metadata": {
        "colab": {
          "base_uri": "https://localhost:8080/"
        },
        "id": "d5Xxo7a5Zxyw",
        "outputId": "b5590686-a46a-4b13-d8bd-79242ca3fe39"
      },
      "outputs": [
        {
          "data": {
            "text/plain": [
              "(torch.Size([307, 1, 384]), torch.Size([1, 30, 384]))"
            ]
          },
          "execution_count": 12,
          "metadata": {},
          "output_type": "execute_result"
        }
      ],
      "source": [
        "data_embs['1'].unsqueeze(1).shape, q_embs['1'].unsqueeze(0).shape"
      ]
    },
    {
      "cell_type": "markdown",
      "metadata": {
        "id": "4wIO-QmEKEyu"
      },
      "source": [
        "I can either add the unit axis as the first or second position of the embeddings and get the same result after passing them through `F.cosine_similarity`:"
      ]
    },
    {
      "cell_type": "code",
      "execution_count": null,
      "metadata": {
        "id": "O6-O1m4ubMos"
      },
      "outputs": [],
      "source": [
        "res1 = F.cosine_similarity(q_embs['1'].unsqueeze(1), data_embs['1'].unsqueeze(0), dim=2)"
      ]
    },
    {
      "cell_type": "code",
      "execution_count": null,
      "metadata": {
        "id": "SNBq2a9VfdaX"
      },
      "outputs": [],
      "source": [
        "res2 = F.cosine_similarity(q_embs['1'].unsqueeze(0), data_embs['1'].unsqueeze(1), dim=2)"
      ]
    },
    {
      "cell_type": "code",
      "execution_count": null,
      "metadata": {
        "colab": {
          "base_uri": "https://localhost:8080/"
        },
        "id": "1T9_mqmTfhCw",
        "outputId": "580bb817-c37a-4042-ded3-b9fc742fbb25"
      },
      "outputs": [
        {
          "data": {
            "text/plain": [
              "(torch.Size([30, 307]), torch.Size([30, 307]))"
            ]
          },
          "execution_count": 15,
          "metadata": {},
          "output_type": "execute_result"
        }
      ],
      "source": [
        "res1.shape, res2.T.shape"
      ]
    },
    {
      "cell_type": "code",
      "execution_count": null,
      "metadata": {
        "colab": {
          "base_uri": "https://localhost:8080/"
        },
        "id": "1N_-JpHpfnyJ",
        "outputId": "0b3b80db-2a01-4b3e-829c-d9cff7cb4fbb"
      },
      "outputs": [
        {
          "data": {
            "text/plain": [
              "(tensor(1.), tensor(1.))"
            ]
          },
          "execution_count": 16,
          "metadata": {},
          "output_type": "execute_result"
        }
      ],
      "source": [
        "(res1 == res2.T).float().mean(), (res1.T == res2).float().mean()"
      ]
    },
    {
      "cell_type": "markdown",
      "metadata": {
        "id": "gFitF-tmKSPb"
      },
      "source": [
        "I calculate the cosine similarity between the Chapter 1 questions and 1-paragraph chunks, and then sort them in descending order. I take the top-1 highest cosine similarity chunk as the retrieved context for each question."
      ]
    },
    {
      "cell_type": "code",
      "execution_count": null,
      "metadata": {
        "id": "9MXJQ2jDyNJd"
      },
      "outputs": [],
      "source": [
        "vals, idxs = F.cosine_similarity(q_embs['1'].unsqueeze(1), data_embs['1'].unsqueeze(0), dim=2).sort(descending=True)\n",
        "top_1_idxs = idxs[:, 0]"
      ]
    },
    {
      "cell_type": "code",
      "execution_count": null,
      "metadata": {
        "colab": {
          "base_uri": "https://localhost:8080/"
        },
        "id": "9Sj3_8sugKf6",
        "outputId": "f1c77c6e-12e8-4d9f-f305-9d49637b2f9e"
      },
      "outputs": [
        {
          "data": {
            "text/plain": [
              "(torch.Size([30]), tensor([ 4,  7, 15, 20, 16]))"
            ]
          },
          "execution_count": 18,
          "metadata": {},
          "output_type": "execute_result"
        }
      ],
      "source": [
        "top_1_idxs.shape, top_1_idxs[:5]"
      ]
    },
    {
      "cell_type": "code",
      "execution_count": null,
      "metadata": {
        "id": "PjUi5Cowgjv5"
      },
      "outputs": [],
      "source": [
        "top_1_chunks = [data['1'][idx] for idx in top_1_idxs]"
      ]
    },
    {
      "cell_type": "code",
      "execution_count": null,
      "metadata": {
        "colab": {
          "base_uri": "https://localhost:8080/"
        },
        "id": "vwI0w1PMgv5_",
        "outputId": "550f8f5d-1734-4970-f789-81caeb5fce9f"
      },
      "outputs": [
        {
          "data": {
            "text/plain": [
              "30"
            ]
          },
          "execution_count": 87,
          "metadata": {},
          "output_type": "execute_result"
        }
      ],
      "source": [
        "len(top_1_chunks)"
      ]
    },
    {
      "cell_type": "markdown",
      "metadata": {
        "id": "SWhcEW7uK68Q"
      },
      "source": [
        "The context retrieved for the first question is correct:"
      ]
    },
    {
      "cell_type": "code",
      "execution_count": null,
      "metadata": {
        "colab": {
          "base_uri": "https://localhost:8080/",
          "height": 89
        },
        "id": "NNMUAg8jgznK",
        "outputId": "721def19-db7e-41a2-ee85-fe2ebd5dbf5d"
      },
      "outputs": [
        {
          "data": {
            "application/vnd.google.colaboratory.intrinsic+json": {
              "type": "string"
            },
            "text/plain": [
              "'## Deep Learning Is for Everyone\\n\\n```asciidoc\\n[[myths]]\\n.What you don\\'t need to do deep learning\\n[options=\"header\"]\\n|======\\n| Myth (don\\'t need) | Truth\\n| Lots of math | Just high school math is sufficient\\n| Lots of data | We\\'ve seen record-breaking results with <50 items of data\\n| Lots of expensive computers | You can get what you need for state of the art work for free\\n|======\\n```'"
            ]
          },
          "execution_count": 24,
          "metadata": {},
          "output_type": "execute_result"
        }
      ],
      "source": [
        "top_1_chunks[0]"
      ]
    },
    {
      "cell_type": "markdown",
      "metadata": {
        "id": "0TamVXMoK9Ug"
      },
      "source": [
        "I'll now loop through each chapter, in order from 1 to 13, and retrieve the top-1 1-paragraph chunk based on cosine similarity between the chapter questions and the chapter chunks:"
      ]
    },
    {
      "cell_type": "code",
      "execution_count": null,
      "metadata": {
        "id": "MdGVI3ENLIUS"
      },
      "outputs": [],
      "source": [
        "results = []\n",
        "for chapter in ['1', '2', '4', '8', '9', '10', '13']:\n",
        "  _, idxs = F.cosine_similarity(q_embs[chapter].unsqueeze(1), data_embs[chapter].unsqueeze(0), dim=2).sort(descending=True)\n",
        "  top_1_idxs = idxs[:, 0]\n",
        "  top_1_chunks = [data[chapter][idx] for idx in top_1_idxs]\n",
        "  results.extend(top_1_chunks)"
      ]
    },
    {
      "cell_type": "markdown",
      "metadata": {
        "id": "k5NXM2SRLrBa"
      },
      "source": [
        "I should have 193 chunks retrieved (which I do!)"
      ]
    },
    {
      "cell_type": "code",
      "execution_count": null,
      "metadata": {
        "id": "Nc4gjpk1Lpxz"
      },
      "outputs": [],
      "source": [
        "assert len(results) == 193"
      ]
    },
    {
      "cell_type": "markdown",
      "metadata": {
        "id": "6HuQlDoXLvxr"
      },
      "source": [
        "I'll add the retrieved contexts to my evals and export it to evaluate it."
      ]
    },
    {
      "cell_type": "code",
      "execution_count": null,
      "metadata": {
        "colab": {
          "base_uri": "https://localhost:8080/",
          "height": 397
        },
        "id": "ZY2zO0xRL5Bi",
        "outputId": "29a6db74-549f-484d-bac8-c4b6ab0f9250"
      },
      "outputs": [
        {
          "data": {
            "application/vnd.google.colaboratory.intrinsic+json": {
              "summary": "{\n  \"name\": \"cs_a\",\n  \"rows\": 193,\n  \"fields\": [\n    {\n      \"column\": \"chapter\",\n      \"properties\": {\n        \"dtype\": \"number\",\n        \"std\": 4,\n        \"min\": 1,\n        \"max\": 13,\n        \"num_unique_values\": 7,\n        \"samples\": [\n          1,\n          2,\n          10\n        ],\n        \"semantic_type\": \"\",\n        \"description\": \"\"\n      }\n    },\n    {\n      \"column\": \"question_number\",\n      \"properties\": {\n        \"dtype\": \"number\",\n        \"std\": 9,\n        \"min\": 1,\n        \"max\": 40,\n        \"num_unique_values\": 40,\n        \"samples\": [\n          23,\n          20,\n          19\n        ],\n        \"semantic_type\": \"\",\n        \"description\": \"\"\n      }\n    },\n    {\n      \"column\": \"question_text\",\n      \"properties\": {\n        \"dtype\": \"string\",\n        \"num_unique_values\": 193,\n        \"samples\": [\n          \"\\\"\\\"What is the difference between `item_tfms` and `batch_tfms`?\\\"\\\"\",\n          \"\\\"\\\"Why might we not always use a neural net for tabular modeling?\\\"\\\"\",\n          \"\\\"\\\"What does the DataLoader class do?\\\"\\\"\"\n        ],\n        \"semantic_type\": \"\",\n        \"description\": \"\"\n      }\n    },\n    {\n      \"column\": \"answer\",\n      \"properties\": {\n        \"dtype\": \"string\",\n        \"num_unique_values\": 193,\n        \"samples\": [\n          \"\\\"\\\"item_tfms are transformations applied to a single data sample x on the CPU. Resize() is a common transform because the mini-batch of input images to a cnn must have the same dimensions. Assuming the images are RGB with 3 channels, then Resize() as item_tfms will make sure the images have the same width and height.\\nbatch_tfms are applied to batched data samples (aka individual samples that have been collated into a mini-batch) on the GPU. They are faster and more efficient than item_tfms. A good example of these are the ones provided by aug_transforms(). Inside are several batch-level augmentations that help many models.\\\"\\\"\",\n          \"\\\"\\\"We might not use them because they are the hardest to train and longest to train, and less well-understood. Instead, random forests should be the first choice/baseline, and neural networks could be tried to improve these results or add to an ensemble.\\\"\\\"\",\n          \"\\\"\\\"The DataLoader class can take any Python collection and turn it into an iterator over many batches.\\\"\\\"\"\n        ],\n        \"semantic_type\": \"\",\n        \"description\": \"\"\n      }\n    },\n    {\n      \"column\": \"is_answerable\",\n      \"properties\": {\n        \"dtype\": \"number\",\n        \"std\": 0,\n        \"min\": 1,\n        \"max\": 1,\n        \"num_unique_values\": 1,\n        \"samples\": [\n          1\n        ],\n        \"semantic_type\": \"\",\n        \"description\": \"\"\n      }\n    },\n    {\n      \"column\": \"cs_a_context\",\n      \"properties\": {\n        \"dtype\": \"string\",\n        \"num_unique_values\": 178,\n        \"samples\": [\n          \"### How Our Image Recognizer Works\\n\\n**Overfitting is the single most important and challenging issue** when training for all machine learning practitioners, and all algorithms. As you will see, it is very easy to create a model that does a great job at making predictions on the exact data it has been trained on, but it is much harder to make accurate predictions on data the model has never seen before. And of course, this is the data that will actually matter in practice. For instance, if you create a handwritten digit classifier (as we will very soon!) and use it to recognize numbers written on checks, then you are never going to see any of the numbers that the model was trained on\\u2014checks will have slightly different variations of writing to deal with. You will learn many methods to avoid overfitting in this book. However, you should only use those methods after you have confirmed that overfitting is actually occurring (i.e., you have actually observed the validation accuracy getting worse during training). We often see practitioners using over-fitting avoidance techniques even when they have enough data that they didn't need to do so, ending up with a model that may be less accurate than what they could have achieved.\"\n        ],\n        \"semantic_type\": \"\",\n        \"description\": \"\"\n      }\n    }\n  ]\n}",
              "type": "dataframe",
              "variable_name": "cs_a"
            },
            "text/html": [
              "\n",
              "  <div id=\"df-9f42f022-0bc3-4241-ac94-ac3ae10c97e8\" class=\"colab-df-container\">\n",
              "    <div>\n",
              "<style scoped>\n",
              "    .dataframe tbody tr th:only-of-type {\n",
              "        vertical-align: middle;\n",
              "    }\n",
              "\n",
              "    .dataframe tbody tr th {\n",
              "        vertical-align: top;\n",
              "    }\n",
              "\n",
              "    .dataframe thead th {\n",
              "        text-align: right;\n",
              "    }\n",
              "</style>\n",
              "<table border=\"1\" class=\"dataframe\">\n",
              "  <thead>\n",
              "    <tr style=\"text-align: right;\">\n",
              "      <th></th>\n",
              "      <th>chapter</th>\n",
              "      <th>question_number</th>\n",
              "      <th>question_text</th>\n",
              "      <th>answer</th>\n",
              "      <th>is_answerable</th>\n",
              "      <th>cs_a_context</th>\n",
              "    </tr>\n",
              "  </thead>\n",
              "  <tbody>\n",
              "    <tr>\n",
              "      <th>0</th>\n",
              "      <td>1</td>\n",
              "      <td>1</td>\n",
              "      <td>\"\"Do you need these for deep learning?nn- Lots...</td>\n",
              "      <td>\"\"Lots of math - False\\nLots of data - False\\n...</td>\n",
              "      <td>1</td>\n",
              "      <td>## Deep Learning Is for Everyone\\n\\n```asciido...</td>\n",
              "    </tr>\n",
              "    <tr>\n",
              "      <th>1</th>\n",
              "      <td>1</td>\n",
              "      <td>2</td>\n",
              "      <td>\"\"Name five areas where deep learning is now t...</td>\n",
              "      <td>\"\"Any five of the following:\\nNatural Language...</td>\n",
              "      <td>1</td>\n",
              "      <td>## Deep Learning Is for Everyone\\n\\nHere's a l...</td>\n",
              "    </tr>\n",
              "    <tr>\n",
              "      <th>2</th>\n",
              "      <td>1</td>\n",
              "      <td>3</td>\n",
              "      <td>\"\"What was the name of the first device that w...</td>\n",
              "      <td>\"\"Mark I perceptron built by Frank Rosenblatt\"\"</td>\n",
              "      <td>1</td>\n",
              "      <td>## Neural Networks: A Brief History\\n\\nRosenbl...</td>\n",
              "    </tr>\n",
              "    <tr>\n",
              "      <th>3</th>\n",
              "      <td>1</td>\n",
              "      <td>4</td>\n",
              "      <td>\"\"Based on the book of the same name, what are...</td>\n",
              "      <td>\"\"A set of processing units\\nA state of activa...</td>\n",
              "      <td>1</td>\n",
              "      <td>## Neural Networks: A Brief History\\n\\nIn fact...</td>\n",
              "    </tr>\n",
              "    <tr>\n",
              "      <th>4</th>\n",
              "      <td>1</td>\n",
              "      <td>5</td>\n",
              "      <td>\"\"What were the two theoretical misunderstandi...</td>\n",
              "      <td>\"\"In 1969, Marvin Minsky and Seymour Papert de...</td>\n",
              "      <td>1</td>\n",
              "      <td>## Neural Networks: A Brief History\\n\\nAn MIT ...</td>\n",
              "    </tr>\n",
              "  </tbody>\n",
              "</table>\n",
              "</div>\n",
              "    <div class=\"colab-df-buttons\">\n",
              "\n",
              "  <div class=\"colab-df-container\">\n",
              "    <button class=\"colab-df-convert\" onclick=\"convertToInteractive('df-9f42f022-0bc3-4241-ac94-ac3ae10c97e8')\"\n",
              "            title=\"Convert this dataframe to an interactive table.\"\n",
              "            style=\"display:none;\">\n",
              "\n",
              "  <svg xmlns=\"http://www.w3.org/2000/svg\" height=\"24px\" viewBox=\"0 -960 960 960\">\n",
              "    <path d=\"M120-120v-720h720v720H120Zm60-500h600v-160H180v160Zm220 220h160v-160H400v160Zm0 220h160v-160H400v160ZM180-400h160v-160H180v160Zm440 0h160v-160H620v160ZM180-180h160v-160H180v160Zm440 0h160v-160H620v160Z\"/>\n",
              "  </svg>\n",
              "    </button>\n",
              "\n",
              "  <style>\n",
              "    .colab-df-container {\n",
              "      display:flex;\n",
              "      gap: 12px;\n",
              "    }\n",
              "\n",
              "    .colab-df-convert {\n",
              "      background-color: #E8F0FE;\n",
              "      border: none;\n",
              "      border-radius: 50%;\n",
              "      cursor: pointer;\n",
              "      display: none;\n",
              "      fill: #1967D2;\n",
              "      height: 32px;\n",
              "      padding: 0 0 0 0;\n",
              "      width: 32px;\n",
              "    }\n",
              "\n",
              "    .colab-df-convert:hover {\n",
              "      background-color: #E2EBFA;\n",
              "      box-shadow: 0px 1px 2px rgba(60, 64, 67, 0.3), 0px 1px 3px 1px rgba(60, 64, 67, 0.15);\n",
              "      fill: #174EA6;\n",
              "    }\n",
              "\n",
              "    .colab-df-buttons div {\n",
              "      margin-bottom: 4px;\n",
              "    }\n",
              "\n",
              "    [theme=dark] .colab-df-convert {\n",
              "      background-color: #3B4455;\n",
              "      fill: #D2E3FC;\n",
              "    }\n",
              "\n",
              "    [theme=dark] .colab-df-convert:hover {\n",
              "      background-color: #434B5C;\n",
              "      box-shadow: 0px 1px 3px 1px rgba(0, 0, 0, 0.15);\n",
              "      filter: drop-shadow(0px 1px 2px rgba(0, 0, 0, 0.3));\n",
              "      fill: #FFFFFF;\n",
              "    }\n",
              "  </style>\n",
              "\n",
              "    <script>\n",
              "      const buttonEl =\n",
              "        document.querySelector('#df-9f42f022-0bc3-4241-ac94-ac3ae10c97e8 button.colab-df-convert');\n",
              "      buttonEl.style.display =\n",
              "        google.colab.kernel.accessAllowed ? 'block' : 'none';\n",
              "\n",
              "      async function convertToInteractive(key) {\n",
              "        const element = document.querySelector('#df-9f42f022-0bc3-4241-ac94-ac3ae10c97e8');\n",
              "        const dataTable =\n",
              "          await google.colab.kernel.invokeFunction('convertToInteractive',\n",
              "                                                    [key], {});\n",
              "        if (!dataTable) return;\n",
              "\n",
              "        const docLinkHtml = 'Like what you see? Visit the ' +\n",
              "          '<a target=\"_blank\" href=https://colab.research.google.com/notebooks/data_table.ipynb>data table notebook</a>'\n",
              "          + ' to learn more about interactive tables.';\n",
              "        element.innerHTML = '';\n",
              "        dataTable['output_type'] = 'display_data';\n",
              "        await google.colab.output.renderOutput(dataTable, element);\n",
              "        const docLink = document.createElement('div');\n",
              "        docLink.innerHTML = docLinkHtml;\n",
              "        element.appendChild(docLink);\n",
              "      }\n",
              "    </script>\n",
              "  </div>\n",
              "\n",
              "\n",
              "<div id=\"df-1e5d4fa3-7a21-42c6-ac48-29251d84878e\">\n",
              "  <button class=\"colab-df-quickchart\" onclick=\"quickchart('df-1e5d4fa3-7a21-42c6-ac48-29251d84878e')\"\n",
              "            title=\"Suggest charts\"\n",
              "            style=\"display:none;\">\n",
              "\n",
              "<svg xmlns=\"http://www.w3.org/2000/svg\" height=\"24px\"viewBox=\"0 0 24 24\"\n",
              "     width=\"24px\">\n",
              "    <g>\n",
              "        <path d=\"M19 3H5c-1.1 0-2 .9-2 2v14c0 1.1.9 2 2 2h14c1.1 0 2-.9 2-2V5c0-1.1-.9-2-2-2zM9 17H7v-7h2v7zm4 0h-2V7h2v10zm4 0h-2v-4h2v4z\"/>\n",
              "    </g>\n",
              "</svg>\n",
              "  </button>\n",
              "\n",
              "<style>\n",
              "  .colab-df-quickchart {\n",
              "      --bg-color: #E8F0FE;\n",
              "      --fill-color: #1967D2;\n",
              "      --hover-bg-color: #E2EBFA;\n",
              "      --hover-fill-color: #174EA6;\n",
              "      --disabled-fill-color: #AAA;\n",
              "      --disabled-bg-color: #DDD;\n",
              "  }\n",
              "\n",
              "  [theme=dark] .colab-df-quickchart {\n",
              "      --bg-color: #3B4455;\n",
              "      --fill-color: #D2E3FC;\n",
              "      --hover-bg-color: #434B5C;\n",
              "      --hover-fill-color: #FFFFFF;\n",
              "      --disabled-bg-color: #3B4455;\n",
              "      --disabled-fill-color: #666;\n",
              "  }\n",
              "\n",
              "  .colab-df-quickchart {\n",
              "    background-color: var(--bg-color);\n",
              "    border: none;\n",
              "    border-radius: 50%;\n",
              "    cursor: pointer;\n",
              "    display: none;\n",
              "    fill: var(--fill-color);\n",
              "    height: 32px;\n",
              "    padding: 0;\n",
              "    width: 32px;\n",
              "  }\n",
              "\n",
              "  .colab-df-quickchart:hover {\n",
              "    background-color: var(--hover-bg-color);\n",
              "    box-shadow: 0 1px 2px rgba(60, 64, 67, 0.3), 0 1px 3px 1px rgba(60, 64, 67, 0.15);\n",
              "    fill: var(--button-hover-fill-color);\n",
              "  }\n",
              "\n",
              "  .colab-df-quickchart-complete:disabled,\n",
              "  .colab-df-quickchart-complete:disabled:hover {\n",
              "    background-color: var(--disabled-bg-color);\n",
              "    fill: var(--disabled-fill-color);\n",
              "    box-shadow: none;\n",
              "  }\n",
              "\n",
              "  .colab-df-spinner {\n",
              "    border: 2px solid var(--fill-color);\n",
              "    border-color: transparent;\n",
              "    border-bottom-color: var(--fill-color);\n",
              "    animation:\n",
              "      spin 1s steps(1) infinite;\n",
              "  }\n",
              "\n",
              "  @keyframes spin {\n",
              "    0% {\n",
              "      border-color: transparent;\n",
              "      border-bottom-color: var(--fill-color);\n",
              "      border-left-color: var(--fill-color);\n",
              "    }\n",
              "    20% {\n",
              "      border-color: transparent;\n",
              "      border-left-color: var(--fill-color);\n",
              "      border-top-color: var(--fill-color);\n",
              "    }\n",
              "    30% {\n",
              "      border-color: transparent;\n",
              "      border-left-color: var(--fill-color);\n",
              "      border-top-color: var(--fill-color);\n",
              "      border-right-color: var(--fill-color);\n",
              "    }\n",
              "    40% {\n",
              "      border-color: transparent;\n",
              "      border-right-color: var(--fill-color);\n",
              "      border-top-color: var(--fill-color);\n",
              "    }\n",
              "    60% {\n",
              "      border-color: transparent;\n",
              "      border-right-color: var(--fill-color);\n",
              "    }\n",
              "    80% {\n",
              "      border-color: transparent;\n",
              "      border-right-color: var(--fill-color);\n",
              "      border-bottom-color: var(--fill-color);\n",
              "    }\n",
              "    90% {\n",
              "      border-color: transparent;\n",
              "      border-bottom-color: var(--fill-color);\n",
              "    }\n",
              "  }\n",
              "</style>\n",
              "\n",
              "  <script>\n",
              "    async function quickchart(key) {\n",
              "      const quickchartButtonEl =\n",
              "        document.querySelector('#' + key + ' button');\n",
              "      quickchartButtonEl.disabled = true;  // To prevent multiple clicks.\n",
              "      quickchartButtonEl.classList.add('colab-df-spinner');\n",
              "      try {\n",
              "        const charts = await google.colab.kernel.invokeFunction(\n",
              "            'suggestCharts', [key], {});\n",
              "      } catch (error) {\n",
              "        console.error('Error during call to suggestCharts:', error);\n",
              "      }\n",
              "      quickchartButtonEl.classList.remove('colab-df-spinner');\n",
              "      quickchartButtonEl.classList.add('colab-df-quickchart-complete');\n",
              "    }\n",
              "    (() => {\n",
              "      let quickchartButtonEl =\n",
              "        document.querySelector('#df-1e5d4fa3-7a21-42c6-ac48-29251d84878e button');\n",
              "      quickchartButtonEl.style.display =\n",
              "        google.colab.kernel.accessAllowed ? 'block' : 'none';\n",
              "    })();\n",
              "  </script>\n",
              "</div>\n",
              "\n",
              "    </div>\n",
              "  </div>\n"
            ],
            "text/plain": [
              "   chapter  question_number  \\\n",
              "0        1                1   \n",
              "1        1                2   \n",
              "2        1                3   \n",
              "3        1                4   \n",
              "4        1                5   \n",
              "\n",
              "                                       question_text  \\\n",
              "0  \"\"Do you need these for deep learning?nn- Lots...   \n",
              "1  \"\"Name five areas where deep learning is now t...   \n",
              "2  \"\"What was the name of the first device that w...   \n",
              "3  \"\"Based on the book of the same name, what are...   \n",
              "4  \"\"What were the two theoretical misunderstandi...   \n",
              "\n",
              "                                              answer  is_answerable  \\\n",
              "0  \"\"Lots of math - False\\nLots of data - False\\n...              1   \n",
              "1  \"\"Any five of the following:\\nNatural Language...              1   \n",
              "2    \"\"Mark I perceptron built by Frank Rosenblatt\"\"              1   \n",
              "3  \"\"A set of processing units\\nA state of activa...              1   \n",
              "4  \"\"In 1969, Marvin Minsky and Seymour Papert de...              1   \n",
              "\n",
              "                                        cs_a_context  \n",
              "0  ## Deep Learning Is for Everyone\\n\\n```asciido...  \n",
              "1  ## Deep Learning Is for Everyone\\n\\nHere's a l...  \n",
              "2  ## Neural Networks: A Brief History\\n\\nRosenbl...  \n",
              "3  ## Neural Networks: A Brief History\\n\\nIn fact...  \n",
              "4  ## Neural Networks: A Brief History\\n\\nAn MIT ...  "
            ]
          },
          "execution_count": 28,
          "metadata": {},
          "output_type": "execute_result"
        }
      ],
      "source": [
        "cs_a = questions.copy()\n",
        "cs_a['cs_a_context'] = results\n",
        "cs_a.head()"
      ]
    },
    {
      "cell_type": "code",
      "execution_count": null,
      "metadata": {
        "id": "3dgyp8tDL-4q"
      },
      "outputs": [],
      "source": [
        "cs_a.to_csv('cs_a.csv', index=False)"
      ]
    },
    {
      "cell_type": "markdown",
      "metadata": {
        "id": "VKfkjMlkzFKo"
      },
      "source": [
        "#### Results"
      ]
    },
    {
      "cell_type": "markdown",
      "metadata": {
        "id": "Ah32_nJJzF4A"
      },
      "source": [
        "Here is the **Answer Rate** (by chapter and overall). As a reminder, the evaluation metric for each question, that I'm simply calling **score**, is binary: can the retrieved context answer the question (`1`) or not (`0`)? The evaluation metric across a set of questions, which I'm calling the **Answer Rate**, is the mean score for those questions."
      ]
    },
    {
      "cell_type": "markdown",
      "metadata": {
        "id": "xL3Kct2SzGcB"
      },
      "source": [
        "|Chapter|Name|Description|Answer Rate|\n",
        "|:-:|:-:|:-:|:-:|\n",
        "1|CS_A|Top-1 1-paragraph chunks|40% (12/30)|\n",
        "2|CS_A|Top-1 1-paragraph chunks|26.92% (7/26)|\n",
        "4|CS_A|Top-1 1-paragraph chunks|29.03% (9/31)|\n",
        "8|CS_A|Top-1 1-paragraph chunks|17.39% (4/23)|\n",
        "9|CS_A|Top-1 1-paragraph chunks|28.57% (8/28)|\n",
        "10|CS_A|Top-1 1-paragraph chunks|42.86% (9/21)|\n",
        "13|CS_A|Top-1 1-paragraph chunks|41.18% (14/34)|\n",
        "**All**|**CS_A**|**Top-1 1-paragraph chunks**|**32.64% (63/193)**|"
      ]
    },
    {
      "cell_type": "markdown",
      "metadata": {
        "id": "wzVkAL57yNRD"
      },
      "source": [
        "### CS_B: Top-3 1-Paragraph Chunks"
      ]
    },
    {
      "cell_type": "markdown",
      "metadata": {
        "id": "4SEfGl_uyS8L"
      },
      "source": [
        "In this approach, I'll select the top-3 retrieved context (1-paragraph chunks) for each question and calculate the **Answer Rate**. As a reminder, the evaluation metric for each question, that I'm simply calling **score**, is binary: can the retrieved context answer the question (`1`) or not (`0`)? The evaluation metric across a set of questions, which I'm calling the **Answer Rate**, is the mean score for those questions."
      ]
    },
    {
      "cell_type": "code",
      "execution_count": null,
      "metadata": {
        "id": "hEiNg2OLyZ4M"
      },
      "outputs": [],
      "source": [
        "results = []\n",
        "for chapter in ['1', '2', '4', '8', '9', '10', '13']:\n",
        "  _, idxs = F.cosine_similarity(q_embs[chapter].unsqueeze(1), data_embs[chapter].unsqueeze(0), dim=2).sort(descending=True)\n",
        "  top_3_chunks = ['\\n\\n'.join([data[chapter][i] for i in row[0:3].tolist()]) for row in idxs]\n",
        "  results.extend(top_3_chunks)"
      ]
    },
    {
      "cell_type": "code",
      "execution_count": null,
      "metadata": {
        "id": "kmrVdkTiHUhJ"
      },
      "outputs": [],
      "source": [
        "assert len(results) == 193"
      ]
    },
    {
      "cell_type": "code",
      "execution_count": null,
      "metadata": {
        "colab": {
          "base_uri": "https://localhost:8080/",
          "height": 397
        },
        "id": "uHZOFKebHefs",
        "outputId": "bafab2ac-684a-4808-e236-4a7b12958ded"
      },
      "outputs": [
        {
          "data": {
            "application/vnd.google.colaboratory.intrinsic+json": {
              "summary": "{\n  \"name\": \"cs_b\",\n  \"rows\": 193,\n  \"fields\": [\n    {\n      \"column\": \"chapter\",\n      \"properties\": {\n        \"dtype\": \"number\",\n        \"std\": 4,\n        \"min\": 1,\n        \"max\": 13,\n        \"num_unique_values\": 7,\n        \"samples\": [\n          1,\n          2,\n          10\n        ],\n        \"semantic_type\": \"\",\n        \"description\": \"\"\n      }\n    },\n    {\n      \"column\": \"question_number\",\n      \"properties\": {\n        \"dtype\": \"number\",\n        \"std\": 9,\n        \"min\": 1,\n        \"max\": 40,\n        \"num_unique_values\": 40,\n        \"samples\": [\n          23,\n          20,\n          19\n        ],\n        \"semantic_type\": \"\",\n        \"description\": \"\"\n      }\n    },\n    {\n      \"column\": \"question_text\",\n      \"properties\": {\n        \"dtype\": \"string\",\n        \"num_unique_values\": 193,\n        \"samples\": [\n          \"\\\"\\\"What is the difference between `item_tfms` and `batch_tfms`?\\\"\\\"\",\n          \"\\\"\\\"Why might we not always use a neural net for tabular modeling?\\\"\\\"\",\n          \"\\\"\\\"What does the DataLoader class do?\\\"\\\"\"\n        ],\n        \"semantic_type\": \"\",\n        \"description\": \"\"\n      }\n    },\n    {\n      \"column\": \"answer\",\n      \"properties\": {\n        \"dtype\": \"string\",\n        \"num_unique_values\": 193,\n        \"samples\": [\n          \"\\\"\\\"item_tfms are transformations applied to a single data sample x on the CPU. Resize() is a common transform because the mini-batch of input images to a cnn must have the same dimensions. Assuming the images are RGB with 3 channels, then Resize() as item_tfms will make sure the images have the same width and height.\\nbatch_tfms are applied to batched data samples (aka individual samples that have been collated into a mini-batch) on the GPU. They are faster and more efficient than item_tfms. A good example of these are the ones provided by aug_transforms(). Inside are several batch-level augmentations that help many models.\\\"\\\"\",\n          \"\\\"\\\"We might not use them because they are the hardest to train and longest to train, and less well-understood. Instead, random forests should be the first choice/baseline, and neural networks could be tried to improve these results or add to an ensemble.\\\"\\\"\",\n          \"\\\"\\\"The DataLoader class can take any Python collection and turn it into an iterator over many batches.\\\"\\\"\"\n        ],\n        \"semantic_type\": \"\",\n        \"description\": \"\"\n      }\n    },\n    {\n      \"column\": \"is_answerable\",\n      \"properties\": {\n        \"dtype\": \"number\",\n        \"std\": 0,\n        \"min\": 1,\n        \"max\": 1,\n        \"num_unique_values\": 1,\n        \"samples\": [\n          1\n        ],\n        \"semantic_type\": \"\",\n        \"description\": \"\"\n      }\n    },\n    {\n      \"column\": \"cs_b_context\",\n      \"properties\": {\n        \"dtype\": \"string\",\n        \"num_unique_values\": 192,\n        \"samples\": [\n          \"## From Data to DataLoaders\\n\\n```python\\nitem_tfms=Resize(128)\\n```\\n\\n## From Data to DataLoaders\\n\\n```python\\nbears = bears.new(item_tfms=Resize(128, ResizeMethod.Squish))\\ndls = bears.dataloaders(path)\\ndls.valid.show_batch(max_n=4, nrows=1)\\n```\\n\\nOutput:\\n<Figure size 864x216 with 4 Axes>\\n\\n## From Data to DataLoaders\\n\\n```python\\nbears = bears.new(item_tfms=Resize(128, ResizeMethod.Pad, pad_mode='zeros'))\\ndls = bears.dataloaders(path)\\ndls.valid.show_batch(max_n=4, nrows=1)\\n```\\n\\nOutput:\\n<Figure size 864x216 with 4 Axes>\"\n        ],\n        \"semantic_type\": \"\",\n        \"description\": \"\"\n      }\n    }\n  ]\n}",
              "type": "dataframe",
              "variable_name": "cs_b"
            },
            "text/html": [
              "\n",
              "  <div id=\"df-e468d651-f0a1-4555-9ab3-0ae4a717ce1b\" class=\"colab-df-container\">\n",
              "    <div>\n",
              "<style scoped>\n",
              "    .dataframe tbody tr th:only-of-type {\n",
              "        vertical-align: middle;\n",
              "    }\n",
              "\n",
              "    .dataframe tbody tr th {\n",
              "        vertical-align: top;\n",
              "    }\n",
              "\n",
              "    .dataframe thead th {\n",
              "        text-align: right;\n",
              "    }\n",
              "</style>\n",
              "<table border=\"1\" class=\"dataframe\">\n",
              "  <thead>\n",
              "    <tr style=\"text-align: right;\">\n",
              "      <th></th>\n",
              "      <th>chapter</th>\n",
              "      <th>question_number</th>\n",
              "      <th>question_text</th>\n",
              "      <th>answer</th>\n",
              "      <th>is_answerable</th>\n",
              "      <th>cs_b_context</th>\n",
              "    </tr>\n",
              "  </thead>\n",
              "  <tbody>\n",
              "    <tr>\n",
              "      <th>0</th>\n",
              "      <td>1</td>\n",
              "      <td>1</td>\n",
              "      <td>\"\"Do you need these for deep learning?nn- Lots...</td>\n",
              "      <td>\"\"Lots of math - False\\nLots of data - False\\n...</td>\n",
              "      <td>1</td>\n",
              "      <td>## Deep Learning Is for Everyone\\n\\n```asciido...</td>\n",
              "    </tr>\n",
              "    <tr>\n",
              "      <th>1</th>\n",
              "      <td>1</td>\n",
              "      <td>2</td>\n",
              "      <td>\"\"Name five areas where deep learning is now t...</td>\n",
              "      <td>\"\"Any five of the following:\\nNatural Language...</td>\n",
              "      <td>1</td>\n",
              "      <td>## Deep Learning Is for Everyone\\n\\nHere's a l...</td>\n",
              "    </tr>\n",
              "    <tr>\n",
              "      <th>2</th>\n",
              "      <td>1</td>\n",
              "      <td>3</td>\n",
              "      <td>\"\"What was the name of the first device that w...</td>\n",
              "      <td>\"\"Mark I perceptron built by Frank Rosenblatt\"\"</td>\n",
              "      <td>1</td>\n",
              "      <td>## Neural Networks: A Brief History\\n\\nRosenbl...</td>\n",
              "    </tr>\n",
              "    <tr>\n",
              "      <th>3</th>\n",
              "      <td>1</td>\n",
              "      <td>4</td>\n",
              "      <td>\"\"Based on the book of the same name, what are...</td>\n",
              "      <td>\"\"A set of processing units\\nA state of activa...</td>\n",
              "      <td>1</td>\n",
              "      <td>## Neural Networks: A Brief History\\n\\nIn fact...</td>\n",
              "    </tr>\n",
              "    <tr>\n",
              "      <th>4</th>\n",
              "      <td>1</td>\n",
              "      <td>5</td>\n",
              "      <td>\"\"What were the two theoretical misunderstandi...</td>\n",
              "      <td>\"\"In 1969, Marvin Minsky and Seymour Papert de...</td>\n",
              "      <td>1</td>\n",
              "      <td>## Neural Networks: A Brief History\\n\\nAn MIT ...</td>\n",
              "    </tr>\n",
              "  </tbody>\n",
              "</table>\n",
              "</div>\n",
              "    <div class=\"colab-df-buttons\">\n",
              "\n",
              "  <div class=\"colab-df-container\">\n",
              "    <button class=\"colab-df-convert\" onclick=\"convertToInteractive('df-e468d651-f0a1-4555-9ab3-0ae4a717ce1b')\"\n",
              "            title=\"Convert this dataframe to an interactive table.\"\n",
              "            style=\"display:none;\">\n",
              "\n",
              "  <svg xmlns=\"http://www.w3.org/2000/svg\" height=\"24px\" viewBox=\"0 -960 960 960\">\n",
              "    <path d=\"M120-120v-720h720v720H120Zm60-500h600v-160H180v160Zm220 220h160v-160H400v160Zm0 220h160v-160H400v160ZM180-400h160v-160H180v160Zm440 0h160v-160H620v160ZM180-180h160v-160H180v160Zm440 0h160v-160H620v160Z\"/>\n",
              "  </svg>\n",
              "    </button>\n",
              "\n",
              "  <style>\n",
              "    .colab-df-container {\n",
              "      display:flex;\n",
              "      gap: 12px;\n",
              "    }\n",
              "\n",
              "    .colab-df-convert {\n",
              "      background-color: #E8F0FE;\n",
              "      border: none;\n",
              "      border-radius: 50%;\n",
              "      cursor: pointer;\n",
              "      display: none;\n",
              "      fill: #1967D2;\n",
              "      height: 32px;\n",
              "      padding: 0 0 0 0;\n",
              "      width: 32px;\n",
              "    }\n",
              "\n",
              "    .colab-df-convert:hover {\n",
              "      background-color: #E2EBFA;\n",
              "      box-shadow: 0px 1px 2px rgba(60, 64, 67, 0.3), 0px 1px 3px 1px rgba(60, 64, 67, 0.15);\n",
              "      fill: #174EA6;\n",
              "    }\n",
              "\n",
              "    .colab-df-buttons div {\n",
              "      margin-bottom: 4px;\n",
              "    }\n",
              "\n",
              "    [theme=dark] .colab-df-convert {\n",
              "      background-color: #3B4455;\n",
              "      fill: #D2E3FC;\n",
              "    }\n",
              "\n",
              "    [theme=dark] .colab-df-convert:hover {\n",
              "      background-color: #434B5C;\n",
              "      box-shadow: 0px 1px 3px 1px rgba(0, 0, 0, 0.15);\n",
              "      filter: drop-shadow(0px 1px 2px rgba(0, 0, 0, 0.3));\n",
              "      fill: #FFFFFF;\n",
              "    }\n",
              "  </style>\n",
              "\n",
              "    <script>\n",
              "      const buttonEl =\n",
              "        document.querySelector('#df-e468d651-f0a1-4555-9ab3-0ae4a717ce1b button.colab-df-convert');\n",
              "      buttonEl.style.display =\n",
              "        google.colab.kernel.accessAllowed ? 'block' : 'none';\n",
              "\n",
              "      async function convertToInteractive(key) {\n",
              "        const element = document.querySelector('#df-e468d651-f0a1-4555-9ab3-0ae4a717ce1b');\n",
              "        const dataTable =\n",
              "          await google.colab.kernel.invokeFunction('convertToInteractive',\n",
              "                                                    [key], {});\n",
              "        if (!dataTable) return;\n",
              "\n",
              "        const docLinkHtml = 'Like what you see? Visit the ' +\n",
              "          '<a target=\"_blank\" href=https://colab.research.google.com/notebooks/data_table.ipynb>data table notebook</a>'\n",
              "          + ' to learn more about interactive tables.';\n",
              "        element.innerHTML = '';\n",
              "        dataTable['output_type'] = 'display_data';\n",
              "        await google.colab.output.renderOutput(dataTable, element);\n",
              "        const docLink = document.createElement('div');\n",
              "        docLink.innerHTML = docLinkHtml;\n",
              "        element.appendChild(docLink);\n",
              "      }\n",
              "    </script>\n",
              "  </div>\n",
              "\n",
              "\n",
              "<div id=\"df-e224905a-4af5-427a-8ca9-65442e5b9180\">\n",
              "  <button class=\"colab-df-quickchart\" onclick=\"quickchart('df-e224905a-4af5-427a-8ca9-65442e5b9180')\"\n",
              "            title=\"Suggest charts\"\n",
              "            style=\"display:none;\">\n",
              "\n",
              "<svg xmlns=\"http://www.w3.org/2000/svg\" height=\"24px\"viewBox=\"0 0 24 24\"\n",
              "     width=\"24px\">\n",
              "    <g>\n",
              "        <path d=\"M19 3H5c-1.1 0-2 .9-2 2v14c0 1.1.9 2 2 2h14c1.1 0 2-.9 2-2V5c0-1.1-.9-2-2-2zM9 17H7v-7h2v7zm4 0h-2V7h2v10zm4 0h-2v-4h2v4z\"/>\n",
              "    </g>\n",
              "</svg>\n",
              "  </button>\n",
              "\n",
              "<style>\n",
              "  .colab-df-quickchart {\n",
              "      --bg-color: #E8F0FE;\n",
              "      --fill-color: #1967D2;\n",
              "      --hover-bg-color: #E2EBFA;\n",
              "      --hover-fill-color: #174EA6;\n",
              "      --disabled-fill-color: #AAA;\n",
              "      --disabled-bg-color: #DDD;\n",
              "  }\n",
              "\n",
              "  [theme=dark] .colab-df-quickchart {\n",
              "      --bg-color: #3B4455;\n",
              "      --fill-color: #D2E3FC;\n",
              "      --hover-bg-color: #434B5C;\n",
              "      --hover-fill-color: #FFFFFF;\n",
              "      --disabled-bg-color: #3B4455;\n",
              "      --disabled-fill-color: #666;\n",
              "  }\n",
              "\n",
              "  .colab-df-quickchart {\n",
              "    background-color: var(--bg-color);\n",
              "    border: none;\n",
              "    border-radius: 50%;\n",
              "    cursor: pointer;\n",
              "    display: none;\n",
              "    fill: var(--fill-color);\n",
              "    height: 32px;\n",
              "    padding: 0;\n",
              "    width: 32px;\n",
              "  }\n",
              "\n",
              "  .colab-df-quickchart:hover {\n",
              "    background-color: var(--hover-bg-color);\n",
              "    box-shadow: 0 1px 2px rgba(60, 64, 67, 0.3), 0 1px 3px 1px rgba(60, 64, 67, 0.15);\n",
              "    fill: var(--button-hover-fill-color);\n",
              "  }\n",
              "\n",
              "  .colab-df-quickchart-complete:disabled,\n",
              "  .colab-df-quickchart-complete:disabled:hover {\n",
              "    background-color: var(--disabled-bg-color);\n",
              "    fill: var(--disabled-fill-color);\n",
              "    box-shadow: none;\n",
              "  }\n",
              "\n",
              "  .colab-df-spinner {\n",
              "    border: 2px solid var(--fill-color);\n",
              "    border-color: transparent;\n",
              "    border-bottom-color: var(--fill-color);\n",
              "    animation:\n",
              "      spin 1s steps(1) infinite;\n",
              "  }\n",
              "\n",
              "  @keyframes spin {\n",
              "    0% {\n",
              "      border-color: transparent;\n",
              "      border-bottom-color: var(--fill-color);\n",
              "      border-left-color: var(--fill-color);\n",
              "    }\n",
              "    20% {\n",
              "      border-color: transparent;\n",
              "      border-left-color: var(--fill-color);\n",
              "      border-top-color: var(--fill-color);\n",
              "    }\n",
              "    30% {\n",
              "      border-color: transparent;\n",
              "      border-left-color: var(--fill-color);\n",
              "      border-top-color: var(--fill-color);\n",
              "      border-right-color: var(--fill-color);\n",
              "    }\n",
              "    40% {\n",
              "      border-color: transparent;\n",
              "      border-right-color: var(--fill-color);\n",
              "      border-top-color: var(--fill-color);\n",
              "    }\n",
              "    60% {\n",
              "      border-color: transparent;\n",
              "      border-right-color: var(--fill-color);\n",
              "    }\n",
              "    80% {\n",
              "      border-color: transparent;\n",
              "      border-right-color: var(--fill-color);\n",
              "      border-bottom-color: var(--fill-color);\n",
              "    }\n",
              "    90% {\n",
              "      border-color: transparent;\n",
              "      border-bottom-color: var(--fill-color);\n",
              "    }\n",
              "  }\n",
              "</style>\n",
              "\n",
              "  <script>\n",
              "    async function quickchart(key) {\n",
              "      const quickchartButtonEl =\n",
              "        document.querySelector('#' + key + ' button');\n",
              "      quickchartButtonEl.disabled = true;  // To prevent multiple clicks.\n",
              "      quickchartButtonEl.classList.add('colab-df-spinner');\n",
              "      try {\n",
              "        const charts = await google.colab.kernel.invokeFunction(\n",
              "            'suggestCharts', [key], {});\n",
              "      } catch (error) {\n",
              "        console.error('Error during call to suggestCharts:', error);\n",
              "      }\n",
              "      quickchartButtonEl.classList.remove('colab-df-spinner');\n",
              "      quickchartButtonEl.classList.add('colab-df-quickchart-complete');\n",
              "    }\n",
              "    (() => {\n",
              "      let quickchartButtonEl =\n",
              "        document.querySelector('#df-e224905a-4af5-427a-8ca9-65442e5b9180 button');\n",
              "      quickchartButtonEl.style.display =\n",
              "        google.colab.kernel.accessAllowed ? 'block' : 'none';\n",
              "    })();\n",
              "  </script>\n",
              "</div>\n",
              "\n",
              "    </div>\n",
              "  </div>\n"
            ],
            "text/plain": [
              "   chapter  question_number  \\\n",
              "0        1                1   \n",
              "1        1                2   \n",
              "2        1                3   \n",
              "3        1                4   \n",
              "4        1                5   \n",
              "\n",
              "                                       question_text  \\\n",
              "0  \"\"Do you need these for deep learning?nn- Lots...   \n",
              "1  \"\"Name five areas where deep learning is now t...   \n",
              "2  \"\"What was the name of the first device that w...   \n",
              "3  \"\"Based on the book of the same name, what are...   \n",
              "4  \"\"What were the two theoretical misunderstandi...   \n",
              "\n",
              "                                              answer  is_answerable  \\\n",
              "0  \"\"Lots of math - False\\nLots of data - False\\n...              1   \n",
              "1  \"\"Any five of the following:\\nNatural Language...              1   \n",
              "2    \"\"Mark I perceptron built by Frank Rosenblatt\"\"              1   \n",
              "3  \"\"A set of processing units\\nA state of activa...              1   \n",
              "4  \"\"In 1969, Marvin Minsky and Seymour Papert de...              1   \n",
              "\n",
              "                                        cs_b_context  \n",
              "0  ## Deep Learning Is for Everyone\\n\\n```asciido...  \n",
              "1  ## Deep Learning Is for Everyone\\n\\nHere's a l...  \n",
              "2  ## Neural Networks: A Brief History\\n\\nRosenbl...  \n",
              "3  ## Neural Networks: A Brief History\\n\\nIn fact...  \n",
              "4  ## Neural Networks: A Brief History\\n\\nAn MIT ...  "
            ]
          },
          "execution_count": 51,
          "metadata": {},
          "output_type": "execute_result"
        }
      ],
      "source": [
        "cs_b = questions.copy()\n",
        "cs_b['cs_b_context'] = results\n",
        "cs_b.head()"
      ]
    },
    {
      "cell_type": "code",
      "execution_count": null,
      "metadata": {
        "id": "IClWD9taHii4"
      },
      "outputs": [],
      "source": [
        "cs_b.to_csv('cs_b.csv', index=False)"
      ]
    },
    {
      "cell_type": "markdown",
      "metadata": {
        "id": "cyVaFxRfzVmB"
      },
      "source": [
        "#### Results"
      ]
    },
    {
      "cell_type": "markdown",
      "metadata": {
        "id": "wVQacE8MzX0h"
      },
      "source": [
        "Here is the **Answer Rate** (by chapter and overall). As a reminder, the evaluation metric for each question, that I'm simply calling **score**, is binary: can the retrieved context answer the question (`1`) or not (`0`)? The evaluation metric across a set of questions, which I'm calling the **Answer Rate**, is the mean score for those questions."
      ]
    },
    {
      "cell_type": "markdown",
      "metadata": {
        "id": "1D7Z7DjyzYCj"
      },
      "source": [
        "|Chapter|Name|Description|Answer Rate|\n",
        "|:-:|:-:|:-:|:-:|\n",
        "1|CS_B|Top-3 1-paragraph chunks|63.33% (19/30)|\n",
        "2|CS_B|Top-3 1-paragraph chunks|61.54% (16/26)|\n",
        "4|CS_B|Top-3 1-paragraph chunks|54.84% (17/31)|\n",
        "8|CS_B|Top-3 1-paragraph chunks|43.48% (10/23)|\n",
        "9|CS_B|Top-3 1-paragraph chunks|46.43% (13/28)|\n",
        "10|CS_B|Top-3 1-paragraph chunks|47.62% (10/21)|\n",
        "13|CS_B|Top-3 1-paragraph chunks|58.82% (20/34)|\n",
        "**All**|**CS_B**|**Top-3 1-paragraph chunks**|**54.40% (105/193)**|"
      ]
    },
    {
      "cell_type": "markdown",
      "metadata": {
        "id": "FIKW3hVNyaBE"
      },
      "source": [
        "### CS_C: Top-5 1-Paragraph Chunks"
      ]
    },
    {
      "cell_type": "markdown",
      "metadata": {
        "id": "HMrsoH1vyfg9"
      },
      "source": [
        "In this approach, I'll select the top-5 retrieved context (1-paragraph chunks) for each question and calculate the **Answer Rate**. As a reminder, the evaluation metric for each question, that I'm simply calling **score**, is binary: can the retrieved context answer the question (`1`) or not (`0`)? The evaluation metric across a set of questions, which I'm calling the **Answer Rate**, is the mean score for those questions."
      ]
    },
    {
      "cell_type": "code",
      "execution_count": null,
      "metadata": {
        "id": "AqwGSyIfykD0"
      },
      "outputs": [],
      "source": [
        "results = []\n",
        "for chapter in ['1', '2', '4', '8', '9', '10', '13']:\n",
        "  _, idxs = F.cosine_similarity(q_embs[chapter].unsqueeze(1), data_embs[chapter].unsqueeze(0), dim=2).sort(descending=True)\n",
        "  top_5_chunks = ['\\n\\n'.join([data[chapter][i] for i in row[0:5].tolist()]) for row in idxs]\n",
        "  results.extend(top_5_chunks)"
      ]
    },
    {
      "cell_type": "code",
      "execution_count": null,
      "metadata": {
        "id": "x25UrIhNFUR7"
      },
      "outputs": [],
      "source": [
        "assert len(results) == 193"
      ]
    },
    {
      "cell_type": "code",
      "execution_count": null,
      "metadata": {
        "colab": {
          "base_uri": "https://localhost:8080/",
          "height": 397
        },
        "id": "pPbApc5OFdP0",
        "outputId": "356e19b5-ef00-4165-e62e-6eddd8f8b764"
      },
      "outputs": [
        {
          "data": {
            "application/vnd.google.colaboratory.intrinsic+json": {
              "summary": "{\n  \"name\": \"cs_c\",\n  \"rows\": 193,\n  \"fields\": [\n    {\n      \"column\": \"chapter\",\n      \"properties\": {\n        \"dtype\": \"number\",\n        \"std\": 4,\n        \"min\": 1,\n        \"max\": 13,\n        \"num_unique_values\": 7,\n        \"samples\": [\n          1,\n          2,\n          10\n        ],\n        \"semantic_type\": \"\",\n        \"description\": \"\"\n      }\n    },\n    {\n      \"column\": \"question_number\",\n      \"properties\": {\n        \"dtype\": \"number\",\n        \"std\": 9,\n        \"min\": 1,\n        \"max\": 40,\n        \"num_unique_values\": 40,\n        \"samples\": [\n          23,\n          20,\n          19\n        ],\n        \"semantic_type\": \"\",\n        \"description\": \"\"\n      }\n    },\n    {\n      \"column\": \"question_text\",\n      \"properties\": {\n        \"dtype\": \"string\",\n        \"num_unique_values\": 193,\n        \"samples\": [\n          \"\\\"\\\"What is the difference between `item_tfms` and `batch_tfms`?\\\"\\\"\",\n          \"\\\"\\\"Why might we not always use a neural net for tabular modeling?\\\"\\\"\",\n          \"\\\"\\\"What does the DataLoader class do?\\\"\\\"\"\n        ],\n        \"semantic_type\": \"\",\n        \"description\": \"\"\n      }\n    },\n    {\n      \"column\": \"answer\",\n      \"properties\": {\n        \"dtype\": \"string\",\n        \"num_unique_values\": 193,\n        \"samples\": [\n          \"\\\"\\\"item_tfms are transformations applied to a single data sample x on the CPU. Resize() is a common transform because the mini-batch of input images to a cnn must have the same dimensions. Assuming the images are RGB with 3 channels, then Resize() as item_tfms will make sure the images have the same width and height.\\nbatch_tfms are applied to batched data samples (aka individual samples that have been collated into a mini-batch) on the GPU. They are faster and more efficient than item_tfms. A good example of these are the ones provided by aug_transforms(). Inside are several batch-level augmentations that help many models.\\\"\\\"\",\n          \"\\\"\\\"We might not use them because they are the hardest to train and longest to train, and less well-understood. Instead, random forests should be the first choice/baseline, and neural networks could be tried to improve these results or add to an ensemble.\\\"\\\"\",\n          \"\\\"\\\"The DataLoader class can take any Python collection and turn it into an iterator over many batches.\\\"\\\"\"\n        ],\n        \"semantic_type\": \"\",\n        \"description\": \"\"\n      }\n    },\n    {\n      \"column\": \"is_answerable\",\n      \"properties\": {\n        \"dtype\": \"number\",\n        \"std\": 0,\n        \"min\": 1,\n        \"max\": 1,\n        \"num_unique_values\": 1,\n        \"samples\": [\n          1\n        ],\n        \"semantic_type\": \"\",\n        \"description\": \"\"\n      }\n    },\n    {\n      \"column\": \"cs_c_context\",\n      \"properties\": {\n        \"dtype\": \"string\",\n        \"num_unique_values\": 193,\n        \"samples\": [\n          \"## From Data to DataLoaders\\n\\n```python\\nitem_tfms=Resize(128)\\n```\\n\\n## From Data to DataLoaders\\n\\n```python\\nbears = bears.new(item_tfms=Resize(128, ResizeMethod.Squish))\\ndls = bears.dataloaders(path)\\ndls.valid.show_batch(max_n=4, nrows=1)\\n```\\n\\nOutput:\\n<Figure size 864x216 with 4 Axes>\\n\\n## From Data to DataLoaders\\n\\n```python\\nbears = bears.new(item_tfms=Resize(128, ResizeMethod.Pad, pad_mode='zeros'))\\ndls = bears.dataloaders(path)\\ndls.valid.show_batch(max_n=4, nrows=1)\\n```\\n\\nOutput:\\n<Figure size 864x216 with 4 Axes>\\n\\n## From Data to DataLoaders\\n\\n```python\\nbears = bears.new(item_tfms=RandomResizedCrop(128, min_scale=0.3))\\ndls = bears.dataloaders(path)\\ndls.train.show_batch(max_n=4, nrows=1, unique=True)\\n```\\n\\nOutput:\\n<Figure size 864x216 with 4 Axes>\\n\\n## Training Your Model, and Using It to Clean Your Data\\n\\n```python\\nbears = bears.new(\\n    item_tfms=RandomResizedCrop(224, min_scale=0.5),\\n    batch_tfms=aug_transforms())\\ndls = bears.dataloaders(path)\\n```\"\n        ],\n        \"semantic_type\": \"\",\n        \"description\": \"\"\n      }\n    }\n  ]\n}",
              "type": "dataframe",
              "variable_name": "cs_c"
            },
            "text/html": [
              "\n",
              "  <div id=\"df-a87f890e-a362-49c6-8546-40e29b7ab745\" class=\"colab-df-container\">\n",
              "    <div>\n",
              "<style scoped>\n",
              "    .dataframe tbody tr th:only-of-type {\n",
              "        vertical-align: middle;\n",
              "    }\n",
              "\n",
              "    .dataframe tbody tr th {\n",
              "        vertical-align: top;\n",
              "    }\n",
              "\n",
              "    .dataframe thead th {\n",
              "        text-align: right;\n",
              "    }\n",
              "</style>\n",
              "<table border=\"1\" class=\"dataframe\">\n",
              "  <thead>\n",
              "    <tr style=\"text-align: right;\">\n",
              "      <th></th>\n",
              "      <th>chapter</th>\n",
              "      <th>question_number</th>\n",
              "      <th>question_text</th>\n",
              "      <th>answer</th>\n",
              "      <th>is_answerable</th>\n",
              "      <th>cs_c_context</th>\n",
              "    </tr>\n",
              "  </thead>\n",
              "  <tbody>\n",
              "    <tr>\n",
              "      <th>0</th>\n",
              "      <td>1</td>\n",
              "      <td>1</td>\n",
              "      <td>\"\"Do you need these for deep learning?nn- Lots...</td>\n",
              "      <td>\"\"Lots of math - False\\nLots of data - False\\n...</td>\n",
              "      <td>1</td>\n",
              "      <td>## Deep Learning Is for Everyone\\n\\n```asciido...</td>\n",
              "    </tr>\n",
              "    <tr>\n",
              "      <th>1</th>\n",
              "      <td>1</td>\n",
              "      <td>2</td>\n",
              "      <td>\"\"Name five areas where deep learning is now t...</td>\n",
              "      <td>\"\"Any five of the following:\\nNatural Language...</td>\n",
              "      <td>1</td>\n",
              "      <td>## Deep Learning Is for Everyone\\n\\nHere's a l...</td>\n",
              "    </tr>\n",
              "    <tr>\n",
              "      <th>2</th>\n",
              "      <td>1</td>\n",
              "      <td>3</td>\n",
              "      <td>\"\"What was the name of the first device that w...</td>\n",
              "      <td>\"\"Mark I perceptron built by Frank Rosenblatt\"\"</td>\n",
              "      <td>1</td>\n",
              "      <td>## Neural Networks: A Brief History\\n\\nRosenbl...</td>\n",
              "    </tr>\n",
              "    <tr>\n",
              "      <th>3</th>\n",
              "      <td>1</td>\n",
              "      <td>4</td>\n",
              "      <td>\"\"Based on the book of the same name, what are...</td>\n",
              "      <td>\"\"A set of processing units\\nA state of activa...</td>\n",
              "      <td>1</td>\n",
              "      <td>## Neural Networks: A Brief History\\n\\nIn fact...</td>\n",
              "    </tr>\n",
              "    <tr>\n",
              "      <th>4</th>\n",
              "      <td>1</td>\n",
              "      <td>5</td>\n",
              "      <td>\"\"What were the two theoretical misunderstandi...</td>\n",
              "      <td>\"\"In 1969, Marvin Minsky and Seymour Papert de...</td>\n",
              "      <td>1</td>\n",
              "      <td>## Neural Networks: A Brief History\\n\\nAn MIT ...</td>\n",
              "    </tr>\n",
              "  </tbody>\n",
              "</table>\n",
              "</div>\n",
              "    <div class=\"colab-df-buttons\">\n",
              "\n",
              "  <div class=\"colab-df-container\">\n",
              "    <button class=\"colab-df-convert\" onclick=\"convertToInteractive('df-a87f890e-a362-49c6-8546-40e29b7ab745')\"\n",
              "            title=\"Convert this dataframe to an interactive table.\"\n",
              "            style=\"display:none;\">\n",
              "\n",
              "  <svg xmlns=\"http://www.w3.org/2000/svg\" height=\"24px\" viewBox=\"0 -960 960 960\">\n",
              "    <path d=\"M120-120v-720h720v720H120Zm60-500h600v-160H180v160Zm220 220h160v-160H400v160Zm0 220h160v-160H400v160ZM180-400h160v-160H180v160Zm440 0h160v-160H620v160ZM180-180h160v-160H180v160Zm440 0h160v-160H620v160Z\"/>\n",
              "  </svg>\n",
              "    </button>\n",
              "\n",
              "  <style>\n",
              "    .colab-df-container {\n",
              "      display:flex;\n",
              "      gap: 12px;\n",
              "    }\n",
              "\n",
              "    .colab-df-convert {\n",
              "      background-color: #E8F0FE;\n",
              "      border: none;\n",
              "      border-radius: 50%;\n",
              "      cursor: pointer;\n",
              "      display: none;\n",
              "      fill: #1967D2;\n",
              "      height: 32px;\n",
              "      padding: 0 0 0 0;\n",
              "      width: 32px;\n",
              "    }\n",
              "\n",
              "    .colab-df-convert:hover {\n",
              "      background-color: #E2EBFA;\n",
              "      box-shadow: 0px 1px 2px rgba(60, 64, 67, 0.3), 0px 1px 3px 1px rgba(60, 64, 67, 0.15);\n",
              "      fill: #174EA6;\n",
              "    }\n",
              "\n",
              "    .colab-df-buttons div {\n",
              "      margin-bottom: 4px;\n",
              "    }\n",
              "\n",
              "    [theme=dark] .colab-df-convert {\n",
              "      background-color: #3B4455;\n",
              "      fill: #D2E3FC;\n",
              "    }\n",
              "\n",
              "    [theme=dark] .colab-df-convert:hover {\n",
              "      background-color: #434B5C;\n",
              "      box-shadow: 0px 1px 3px 1px rgba(0, 0, 0, 0.15);\n",
              "      filter: drop-shadow(0px 1px 2px rgba(0, 0, 0, 0.3));\n",
              "      fill: #FFFFFF;\n",
              "    }\n",
              "  </style>\n",
              "\n",
              "    <script>\n",
              "      const buttonEl =\n",
              "        document.querySelector('#df-a87f890e-a362-49c6-8546-40e29b7ab745 button.colab-df-convert');\n",
              "      buttonEl.style.display =\n",
              "        google.colab.kernel.accessAllowed ? 'block' : 'none';\n",
              "\n",
              "      async function convertToInteractive(key) {\n",
              "        const element = document.querySelector('#df-a87f890e-a362-49c6-8546-40e29b7ab745');\n",
              "        const dataTable =\n",
              "          await google.colab.kernel.invokeFunction('convertToInteractive',\n",
              "                                                    [key], {});\n",
              "        if (!dataTable) return;\n",
              "\n",
              "        const docLinkHtml = 'Like what you see? Visit the ' +\n",
              "          '<a target=\"_blank\" href=https://colab.research.google.com/notebooks/data_table.ipynb>data table notebook</a>'\n",
              "          + ' to learn more about interactive tables.';\n",
              "        element.innerHTML = '';\n",
              "        dataTable['output_type'] = 'display_data';\n",
              "        await google.colab.output.renderOutput(dataTable, element);\n",
              "        const docLink = document.createElement('div');\n",
              "        docLink.innerHTML = docLinkHtml;\n",
              "        element.appendChild(docLink);\n",
              "      }\n",
              "    </script>\n",
              "  </div>\n",
              "\n",
              "\n",
              "<div id=\"df-2c33f707-0c5f-47e6-ae5a-f5ef6066cff9\">\n",
              "  <button class=\"colab-df-quickchart\" onclick=\"quickchart('df-2c33f707-0c5f-47e6-ae5a-f5ef6066cff9')\"\n",
              "            title=\"Suggest charts\"\n",
              "            style=\"display:none;\">\n",
              "\n",
              "<svg xmlns=\"http://www.w3.org/2000/svg\" height=\"24px\"viewBox=\"0 0 24 24\"\n",
              "     width=\"24px\">\n",
              "    <g>\n",
              "        <path d=\"M19 3H5c-1.1 0-2 .9-2 2v14c0 1.1.9 2 2 2h14c1.1 0 2-.9 2-2V5c0-1.1-.9-2-2-2zM9 17H7v-7h2v7zm4 0h-2V7h2v10zm4 0h-2v-4h2v4z\"/>\n",
              "    </g>\n",
              "</svg>\n",
              "  </button>\n",
              "\n",
              "<style>\n",
              "  .colab-df-quickchart {\n",
              "      --bg-color: #E8F0FE;\n",
              "      --fill-color: #1967D2;\n",
              "      --hover-bg-color: #E2EBFA;\n",
              "      --hover-fill-color: #174EA6;\n",
              "      --disabled-fill-color: #AAA;\n",
              "      --disabled-bg-color: #DDD;\n",
              "  }\n",
              "\n",
              "  [theme=dark] .colab-df-quickchart {\n",
              "      --bg-color: #3B4455;\n",
              "      --fill-color: #D2E3FC;\n",
              "      --hover-bg-color: #434B5C;\n",
              "      --hover-fill-color: #FFFFFF;\n",
              "      --disabled-bg-color: #3B4455;\n",
              "      --disabled-fill-color: #666;\n",
              "  }\n",
              "\n",
              "  .colab-df-quickchart {\n",
              "    background-color: var(--bg-color);\n",
              "    border: none;\n",
              "    border-radius: 50%;\n",
              "    cursor: pointer;\n",
              "    display: none;\n",
              "    fill: var(--fill-color);\n",
              "    height: 32px;\n",
              "    padding: 0;\n",
              "    width: 32px;\n",
              "  }\n",
              "\n",
              "  .colab-df-quickchart:hover {\n",
              "    background-color: var(--hover-bg-color);\n",
              "    box-shadow: 0 1px 2px rgba(60, 64, 67, 0.3), 0 1px 3px 1px rgba(60, 64, 67, 0.15);\n",
              "    fill: var(--button-hover-fill-color);\n",
              "  }\n",
              "\n",
              "  .colab-df-quickchart-complete:disabled,\n",
              "  .colab-df-quickchart-complete:disabled:hover {\n",
              "    background-color: var(--disabled-bg-color);\n",
              "    fill: var(--disabled-fill-color);\n",
              "    box-shadow: none;\n",
              "  }\n",
              "\n",
              "  .colab-df-spinner {\n",
              "    border: 2px solid var(--fill-color);\n",
              "    border-color: transparent;\n",
              "    border-bottom-color: var(--fill-color);\n",
              "    animation:\n",
              "      spin 1s steps(1) infinite;\n",
              "  }\n",
              "\n",
              "  @keyframes spin {\n",
              "    0% {\n",
              "      border-color: transparent;\n",
              "      border-bottom-color: var(--fill-color);\n",
              "      border-left-color: var(--fill-color);\n",
              "    }\n",
              "    20% {\n",
              "      border-color: transparent;\n",
              "      border-left-color: var(--fill-color);\n",
              "      border-top-color: var(--fill-color);\n",
              "    }\n",
              "    30% {\n",
              "      border-color: transparent;\n",
              "      border-left-color: var(--fill-color);\n",
              "      border-top-color: var(--fill-color);\n",
              "      border-right-color: var(--fill-color);\n",
              "    }\n",
              "    40% {\n",
              "      border-color: transparent;\n",
              "      border-right-color: var(--fill-color);\n",
              "      border-top-color: var(--fill-color);\n",
              "    }\n",
              "    60% {\n",
              "      border-color: transparent;\n",
              "      border-right-color: var(--fill-color);\n",
              "    }\n",
              "    80% {\n",
              "      border-color: transparent;\n",
              "      border-right-color: var(--fill-color);\n",
              "      border-bottom-color: var(--fill-color);\n",
              "    }\n",
              "    90% {\n",
              "      border-color: transparent;\n",
              "      border-bottom-color: var(--fill-color);\n",
              "    }\n",
              "  }\n",
              "</style>\n",
              "\n",
              "  <script>\n",
              "    async function quickchart(key) {\n",
              "      const quickchartButtonEl =\n",
              "        document.querySelector('#' + key + ' button');\n",
              "      quickchartButtonEl.disabled = true;  // To prevent multiple clicks.\n",
              "      quickchartButtonEl.classList.add('colab-df-spinner');\n",
              "      try {\n",
              "        const charts = await google.colab.kernel.invokeFunction(\n",
              "            'suggestCharts', [key], {});\n",
              "      } catch (error) {\n",
              "        console.error('Error during call to suggestCharts:', error);\n",
              "      }\n",
              "      quickchartButtonEl.classList.remove('colab-df-spinner');\n",
              "      quickchartButtonEl.classList.add('colab-df-quickchart-complete');\n",
              "    }\n",
              "    (() => {\n",
              "      let quickchartButtonEl =\n",
              "        document.querySelector('#df-2c33f707-0c5f-47e6-ae5a-f5ef6066cff9 button');\n",
              "      quickchartButtonEl.style.display =\n",
              "        google.colab.kernel.accessAllowed ? 'block' : 'none';\n",
              "    })();\n",
              "  </script>\n",
              "</div>\n",
              "\n",
              "    </div>\n",
              "  </div>\n"
            ],
            "text/plain": [
              "   chapter  question_number  \\\n",
              "0        1                1   \n",
              "1        1                2   \n",
              "2        1                3   \n",
              "3        1                4   \n",
              "4        1                5   \n",
              "\n",
              "                                       question_text  \\\n",
              "0  \"\"Do you need these for deep learning?nn- Lots...   \n",
              "1  \"\"Name five areas where deep learning is now t...   \n",
              "2  \"\"What was the name of the first device that w...   \n",
              "3  \"\"Based on the book of the same name, what are...   \n",
              "4  \"\"What were the two theoretical misunderstandi...   \n",
              "\n",
              "                                              answer  is_answerable  \\\n",
              "0  \"\"Lots of math - False\\nLots of data - False\\n...              1   \n",
              "1  \"\"Any five of the following:\\nNatural Language...              1   \n",
              "2    \"\"Mark I perceptron built by Frank Rosenblatt\"\"              1   \n",
              "3  \"\"A set of processing units\\nA state of activa...              1   \n",
              "4  \"\"In 1969, Marvin Minsky and Seymour Papert de...              1   \n",
              "\n",
              "                                        cs_c_context  \n",
              "0  ## Deep Learning Is for Everyone\\n\\n```asciido...  \n",
              "1  ## Deep Learning Is for Everyone\\n\\nHere's a l...  \n",
              "2  ## Neural Networks: A Brief History\\n\\nRosenbl...  \n",
              "3  ## Neural Networks: A Brief History\\n\\nIn fact...  \n",
              "4  ## Neural Networks: A Brief History\\n\\nAn MIT ...  "
            ]
          },
          "execution_count": 15,
          "metadata": {},
          "output_type": "execute_result"
        }
      ],
      "source": [
        "cs_c = questions.copy()\n",
        "cs_c['cs_c_context'] = results\n",
        "cs_c.head()"
      ]
    },
    {
      "cell_type": "code",
      "execution_count": null,
      "metadata": {
        "id": "WOGtsub2Fi8X"
      },
      "outputs": [],
      "source": [
        "cs_c.to_csv('cs_c.csv', index=False)"
      ]
    },
    {
      "cell_type": "markdown",
      "metadata": {
        "id": "IlqbuSX0zdoS"
      },
      "source": [
        "#### Results"
      ]
    },
    {
      "cell_type": "markdown",
      "metadata": {
        "id": "DF4dYMyqzeV1"
      },
      "source": [
        "Here is the **Answer Rate** (by chapter and overall). As a reminder, the evaluation metric for each question, that I'm simply calling **score**, is binary: can the retrieved context answer the question (`1`) or not (`0`)? The evaluation metric across a set of questions, which I'm calling the **Answer Rate**, is the mean score for those questions."
      ]
    },
    {
      "cell_type": "markdown",
      "metadata": {
        "id": "OGqL-LruzhM7"
      },
      "source": [
        "|Chapter|Name|Description|Answer Rate|\n",
        "|:-:|:-:|:-:|:-:|\n",
        "1|CS_C|Top-5 1-paragraph chunks|63.33% (19/30)|\n",
        "2|CS_C|Top-5 1-paragraph chunks|69.23% (18/26)|\n",
        "4|CS_C|Top-5 1-paragraph chunks|64.52% (20/31)|\n",
        "8|CS_C|Top-5 1-paragraph chunks|47.83% (11/23)|\n",
        "9|CS_C|Top-5 1-paragraph chunks|53.57% (15/28)|\n",
        "10|CS_C|Top-5 1-paragraph chunks|47.62% (10/21)|\n",
        "13|CS_C|Top-5 1-paragraph chunks|61.76% (21/34)|\n",
        "**All**|**CS_C**|**Top-5 1-paragraph chunks**|**59.07% (114/193)**|"
      ]
    },
    {
      "cell_type": "markdown",
      "metadata": {
        "id": "F63OhsPkyjbs"
      },
      "source": [
        "### CS_D: Top-1 3-Paragraph Chunks"
      ]
    },
    {
      "cell_type": "markdown",
      "metadata": {
        "id": "q28VTpLpypDW"
      },
      "source": [
        "I now want to increase the chunk size (to 3 paragraphs per chunk). I do this by iterating over the 1-paragraph chunks in groups of three, removing the header from the 2nd and 3rd chunk in each triplet and then concatenating the three chunks into new 3-paragraph chunks."
      ]
    },
    {
      "cell_type": "code",
      "execution_count": null,
      "metadata": {
        "id": "CI-O6KshyuhN"
      },
      "outputs": [],
      "source": [
        "def combine_chunks(chunks, num_p=3):\n",
        "    combined_chunks = []\n",
        "    current_header = None\n",
        "    current_group = []\n",
        "\n",
        "    for chunk in chunks:\n",
        "        # Extract header from chunk\n",
        "        header = chunk.split('\\n\\n')[0]\n",
        "\n",
        "        if header != current_header:\n",
        "            if len(current_group) > 1:  # Only add if group has content besides header\n",
        "                # Add current group to combined chunks if header changes\n",
        "                combined_chunks.append('\\n\\n'.join(current_group))\n",
        "            # Update current header\n",
        "            current_header = header\n",
        "            # Start new group with header and content of current chunk\n",
        "            current_group = [header, chunk.split('\\n\\n', 1)[1] if len(chunk.split('\\n\\n')) > 1 else '']\n",
        "        else:\n",
        "            if len(current_group) < num_p + 1:  # +1 to account for header\n",
        "                # Add chunk content (without header) to current group\n",
        "                current_group.append(chunk.split('\\n\\n', 1)[1] if len(chunk.split('\\n\\n')) > 1 else '')\n",
        "\n",
        "            if len(current_group) == num_p + 1:  # +1 to account for header\n",
        "                # Add full group to combined chunks\n",
        "                combined_chunks.append('\\n\\n'.join(current_group))\n",
        "                # Reset current group, keeping the header\n",
        "                current_group = [current_header]\n",
        "\n",
        "    if len(current_group) > 1:  # Only add if group has content besides header\n",
        "        # Add any remaining group to combined chunks\n",
        "        combined_chunks.append('\\n\\n'.join(current_group))\n",
        "\n",
        "    return combined_chunks"
      ]
    },
    {
      "cell_type": "code",
      "execution_count": null,
      "metadata": {
        "id": "Tdi6qlTtywk9"
      },
      "outputs": [],
      "source": [
        "data_3p = {}\n",
        "\n",
        "for chapter, chunks in data.items():\n",
        "  data_3p[chapter] = combine_chunks(chunks, num_p=3)"
      ]
    },
    {
      "cell_type": "code",
      "execution_count": null,
      "metadata": {
        "colab": {
          "base_uri": "https://localhost:8080/"
        },
        "id": "sQVh0cWoyyBQ",
        "outputId": "a2b9c469-2774-41b3-b419-ed1570ed7a85"
      },
      "outputs": [
        {
          "name": "stdout",
          "output_type": "stream",
          "text": [
            "1 112\n",
            "2 84\n",
            "4 152\n",
            "8 58\n",
            "9 141\n",
            "10 70\n",
            "13 96\n"
          ]
        }
      ],
      "source": [
        "total_chunks = 0\n",
        "\n",
        "for chapter, chunks in data_3p.items():\n",
        "  print(chapter, len(chunks))\n",
        "  total_chunks += len(chunks)\n",
        "\n",
        "assert total_chunks == 713"
      ]
    },
    {
      "cell_type": "markdown",
      "metadata": {
        "id": "1ci_ot0Ye9-e"
      },
      "source": [
        "Since I have new chunks of data (3-paragraphs each) I have to re-calculate the embeddings:"
      ]
    },
    {
      "cell_type": "code",
      "execution_count": null,
      "metadata": {
        "id": "kzG2Ej7hep-X"
      },
      "outputs": [],
      "source": [
        "data_3p_embs = {}\n",
        "\n",
        "for chapter, chunks in data_3p.items():\n",
        "  data_3p_embs[chapter] = emb_model.encode(chunks, convert_to_tensor=True)"
      ]
    },
    {
      "cell_type": "code",
      "execution_count": null,
      "metadata": {
        "colab": {
          "base_uri": "https://localhost:8080/"
        },
        "id": "q8OEBXGYfJ3Z",
        "outputId": "d75c78af-5f09-49a5-bd07-06b585edc607"
      },
      "outputs": [
        {
          "name": "stdout",
          "output_type": "stream",
          "text": [
            "1 torch.Size([112, 384])\n",
            "2 torch.Size([84, 384])\n",
            "4 torch.Size([152, 384])\n",
            "8 torch.Size([58, 384])\n",
            "9 torch.Size([141, 384])\n",
            "10 torch.Size([70, 384])\n",
            "13 torch.Size([96, 384])\n"
          ]
        }
      ],
      "source": [
        "for chapter, embs in data_3p_embs.items():\n",
        "  print(chapter, embs.shape)"
      ]
    },
    {
      "cell_type": "code",
      "execution_count": null,
      "metadata": {
        "id": "dX1HB_qveh62"
      },
      "outputs": [],
      "source": [
        "results = []\n",
        "for chapter in ['1', '2', '4', '8', '9', '10', '13']:\n",
        "  _, idxs = F.cosine_similarity(q_embs[chapter].unsqueeze(1), data_3p_embs[chapter].unsqueeze(0), dim=2).sort(descending=True)\n",
        "  top_1_idxs = idxs[:, 0]\n",
        "  top_1_chunks = [data_3p[chapter][idx] for idx in top_1_idxs]\n",
        "  results.extend(top_1_chunks)"
      ]
    },
    {
      "cell_type": "code",
      "execution_count": null,
      "metadata": {
        "id": "RxpqcEsLggxO"
      },
      "outputs": [],
      "source": [
        "assert len(results) == 193"
      ]
    },
    {
      "cell_type": "code",
      "execution_count": null,
      "metadata": {
        "colab": {
          "base_uri": "https://localhost:8080/",
          "height": 380
        },
        "id": "D2AOidhcgok3",
        "outputId": "7339ce62-f3aa-4e87-c76f-7e5e63c36dc6"
      },
      "outputs": [
        {
          "data": {
            "application/vnd.google.colaboratory.intrinsic+json": {
              "summary": "{\n  \"name\": \"cs_d\",\n  \"rows\": 193,\n  \"fields\": [\n    {\n      \"column\": \"chapter\",\n      \"properties\": {\n        \"dtype\": \"number\",\n        \"std\": 4,\n        \"min\": 1,\n        \"max\": 13,\n        \"num_unique_values\": 7,\n        \"samples\": [\n          1,\n          2,\n          10\n        ],\n        \"semantic_type\": \"\",\n        \"description\": \"\"\n      }\n    },\n    {\n      \"column\": \"question_number\",\n      \"properties\": {\n        \"dtype\": \"number\",\n        \"std\": 9,\n        \"min\": 1,\n        \"max\": 40,\n        \"num_unique_values\": 40,\n        \"samples\": [\n          23,\n          20,\n          19\n        ],\n        \"semantic_type\": \"\",\n        \"description\": \"\"\n      }\n    },\n    {\n      \"column\": \"question_text\",\n      \"properties\": {\n        \"dtype\": \"string\",\n        \"num_unique_values\": 193,\n        \"samples\": [\n          \"\\\"\\\"What is the difference between `item_tfms` and `batch_tfms`?\\\"\\\"\",\n          \"\\\"\\\"Why might we not always use a neural net for tabular modeling?\\\"\\\"\",\n          \"\\\"\\\"What does the DataLoader class do?\\\"\\\"\"\n        ],\n        \"semantic_type\": \"\",\n        \"description\": \"\"\n      }\n    },\n    {\n      \"column\": \"answer\",\n      \"properties\": {\n        \"dtype\": \"string\",\n        \"num_unique_values\": 193,\n        \"samples\": [\n          \"\\\"\\\"item_tfms are transformations applied to a single data sample x on the CPU. Resize() is a common transform because the mini-batch of input images to a cnn must have the same dimensions. Assuming the images are RGB with 3 channels, then Resize() as item_tfms will make sure the images have the same width and height.\\nbatch_tfms are applied to batched data samples (aka individual samples that have been collated into a mini-batch) on the GPU. They are faster and more efficient than item_tfms. A good example of these are the ones provided by aug_transforms(). Inside are several batch-level augmentations that help many models.\\\"\\\"\",\n          \"\\\"\\\"We might not use them because they are the hardest to train and longest to train, and less well-understood. Instead, random forests should be the first choice/baseline, and neural networks could be tried to improve these results or add to an ensemble.\\\"\\\"\",\n          \"\\\"\\\"The DataLoader class can take any Python collection and turn it into an iterator over many batches.\\\"\\\"\"\n        ],\n        \"semantic_type\": \"\",\n        \"description\": \"\"\n      }\n    },\n    {\n      \"column\": \"is_answerable\",\n      \"properties\": {\n        \"dtype\": \"number\",\n        \"std\": 0,\n        \"min\": 1,\n        \"max\": 1,\n        \"num_unique_values\": 1,\n        \"samples\": [\n          1\n        ],\n        \"semantic_type\": \"\",\n        \"description\": \"\"\n      }\n    },\n    {\n      \"column\": \"cs_d_context\",\n      \"properties\": {\n        \"dtype\": \"string\",\n        \"num_unique_values\": 162,\n        \"samples\": [\n          \"### 1cycle Training\\n\\n<img src=\\\"images/colorful_dist.jpeg\\\" id=\\\"colorful_dist\\\" caption=\\\"Histogram in 'colorful dimension'\\\" alt=\\\"Histogram in 'colorful dimension'\\\" width=\\\"800\\\">\\n\\nTo create `color_dim`, we take the histogram shown on the left here, and convert it into just the colored representation shown at the bottom. Then we flip it on its side, as shown on the right. We found that the distribution is clearer if we take the log of the histogram values. Then, Stefano describes:\\n\\n> : The final plot for each layer is made by stacking the histogram of the activations from each batch along the horizontal axis. So each vertical slice in the visualisation represents the histogram of activations for a single batch. The color intensity corresponds to the height of the histogram, in other words the number of activations in each histogram bin.\"\n        ],\n        \"semantic_type\": \"\",\n        \"description\": \"\"\n      }\n    }\n  ]\n}",
              "type": "dataframe",
              "variable_name": "cs_d"
            },
            "text/html": [
              "\n",
              "  <div id=\"df-c466b3a3-5a25-4638-b3a0-5296b8dac35a\" class=\"colab-df-container\">\n",
              "    <div>\n",
              "<style scoped>\n",
              "    .dataframe tbody tr th:only-of-type {\n",
              "        vertical-align: middle;\n",
              "    }\n",
              "\n",
              "    .dataframe tbody tr th {\n",
              "        vertical-align: top;\n",
              "    }\n",
              "\n",
              "    .dataframe thead th {\n",
              "        text-align: right;\n",
              "    }\n",
              "</style>\n",
              "<table border=\"1\" class=\"dataframe\">\n",
              "  <thead>\n",
              "    <tr style=\"text-align: right;\">\n",
              "      <th></th>\n",
              "      <th>chapter</th>\n",
              "      <th>question_number</th>\n",
              "      <th>question_text</th>\n",
              "      <th>answer</th>\n",
              "      <th>is_answerable</th>\n",
              "      <th>cs_d_context</th>\n",
              "    </tr>\n",
              "  </thead>\n",
              "  <tbody>\n",
              "    <tr>\n",
              "      <th>0</th>\n",
              "      <td>1</td>\n",
              "      <td>1</td>\n",
              "      <td>\"\"Do you need these for deep learning?nn- Lots...</td>\n",
              "      <td>\"\"Lots of math - False\\nLots of data - False\\n...</td>\n",
              "      <td>1</td>\n",
              "      <td>## Deep Learning Is for Everyone\\n\\nA lot of p...</td>\n",
              "    </tr>\n",
              "    <tr>\n",
              "      <th>1</th>\n",
              "      <td>1</td>\n",
              "      <td>2</td>\n",
              "      <td>\"\"Name five areas where deep learning is now t...</td>\n",
              "      <td>\"\"Any five of the following:\\nNatural Language...</td>\n",
              "      <td>1</td>\n",
              "      <td>## Deep Learning Is for Everyone\\n\\nDeep learn...</td>\n",
              "    </tr>\n",
              "    <tr>\n",
              "      <th>2</th>\n",
              "      <td>1</td>\n",
              "      <td>3</td>\n",
              "      <td>\"\"What was the name of the first device that w...</td>\n",
              "      <td>\"\"Mark I perceptron built by Frank Rosenblatt\"\"</td>\n",
              "      <td>1</td>\n",
              "      <td>## Neural Networks: A Brief History\\n\\n&lt;img al...</td>\n",
              "    </tr>\n",
              "    <tr>\n",
              "      <th>3</th>\n",
              "      <td>1</td>\n",
              "      <td>4</td>\n",
              "      <td>\"\"Based on the book of the same name, what are...</td>\n",
              "      <td>\"\"A set of processing units\\nA state of activa...</td>\n",
              "      <td>1</td>\n",
              "      <td>## Neural Networks: A Brief History\\n\\nIn fact...</td>\n",
              "    </tr>\n",
              "    <tr>\n",
              "      <th>4</th>\n",
              "      <td>1</td>\n",
              "      <td>5</td>\n",
              "      <td>\"\"What were the two theoretical misunderstandi...</td>\n",
              "      <td>\"\"In 1969, Marvin Minsky and Seymour Papert de...</td>\n",
              "      <td>1</td>\n",
              "      <td>## Neural Networks: A Brief History\\n\\nIn the ...</td>\n",
              "    </tr>\n",
              "  </tbody>\n",
              "</table>\n",
              "</div>\n",
              "    <div class=\"colab-df-buttons\">\n",
              "\n",
              "  <div class=\"colab-df-container\">\n",
              "    <button class=\"colab-df-convert\" onclick=\"convertToInteractive('df-c466b3a3-5a25-4638-b3a0-5296b8dac35a')\"\n",
              "            title=\"Convert this dataframe to an interactive table.\"\n",
              "            style=\"display:none;\">\n",
              "\n",
              "  <svg xmlns=\"http://www.w3.org/2000/svg\" height=\"24px\" viewBox=\"0 -960 960 960\">\n",
              "    <path d=\"M120-120v-720h720v720H120Zm60-500h600v-160H180v160Zm220 220h160v-160H400v160Zm0 220h160v-160H400v160ZM180-400h160v-160H180v160Zm440 0h160v-160H620v160ZM180-180h160v-160H180v160Zm440 0h160v-160H620v160Z\"/>\n",
              "  </svg>\n",
              "    </button>\n",
              "\n",
              "  <style>\n",
              "    .colab-df-container {\n",
              "      display:flex;\n",
              "      gap: 12px;\n",
              "    }\n",
              "\n",
              "    .colab-df-convert {\n",
              "      background-color: #E8F0FE;\n",
              "      border: none;\n",
              "      border-radius: 50%;\n",
              "      cursor: pointer;\n",
              "      display: none;\n",
              "      fill: #1967D2;\n",
              "      height: 32px;\n",
              "      padding: 0 0 0 0;\n",
              "      width: 32px;\n",
              "    }\n",
              "\n",
              "    .colab-df-convert:hover {\n",
              "      background-color: #E2EBFA;\n",
              "      box-shadow: 0px 1px 2px rgba(60, 64, 67, 0.3), 0px 1px 3px 1px rgba(60, 64, 67, 0.15);\n",
              "      fill: #174EA6;\n",
              "    }\n",
              "\n",
              "    .colab-df-buttons div {\n",
              "      margin-bottom: 4px;\n",
              "    }\n",
              "\n",
              "    [theme=dark] .colab-df-convert {\n",
              "      background-color: #3B4455;\n",
              "      fill: #D2E3FC;\n",
              "    }\n",
              "\n",
              "    [theme=dark] .colab-df-convert:hover {\n",
              "      background-color: #434B5C;\n",
              "      box-shadow: 0px 1px 3px 1px rgba(0, 0, 0, 0.15);\n",
              "      filter: drop-shadow(0px 1px 2px rgba(0, 0, 0, 0.3));\n",
              "      fill: #FFFFFF;\n",
              "    }\n",
              "  </style>\n",
              "\n",
              "    <script>\n",
              "      const buttonEl =\n",
              "        document.querySelector('#df-c466b3a3-5a25-4638-b3a0-5296b8dac35a button.colab-df-convert');\n",
              "      buttonEl.style.display =\n",
              "        google.colab.kernel.accessAllowed ? 'block' : 'none';\n",
              "\n",
              "      async function convertToInteractive(key) {\n",
              "        const element = document.querySelector('#df-c466b3a3-5a25-4638-b3a0-5296b8dac35a');\n",
              "        const dataTable =\n",
              "          await google.colab.kernel.invokeFunction('convertToInteractive',\n",
              "                                                    [key], {});\n",
              "        if (!dataTable) return;\n",
              "\n",
              "        const docLinkHtml = 'Like what you see? Visit the ' +\n",
              "          '<a target=\"_blank\" href=https://colab.research.google.com/notebooks/data_table.ipynb>data table notebook</a>'\n",
              "          + ' to learn more about interactive tables.';\n",
              "        element.innerHTML = '';\n",
              "        dataTable['output_type'] = 'display_data';\n",
              "        await google.colab.output.renderOutput(dataTable, element);\n",
              "        const docLink = document.createElement('div');\n",
              "        docLink.innerHTML = docLinkHtml;\n",
              "        element.appendChild(docLink);\n",
              "      }\n",
              "    </script>\n",
              "  </div>\n",
              "\n",
              "\n",
              "<div id=\"df-2b911a0f-3d4a-43b0-836a-0f73d9a63552\">\n",
              "  <button class=\"colab-df-quickchart\" onclick=\"quickchart('df-2b911a0f-3d4a-43b0-836a-0f73d9a63552')\"\n",
              "            title=\"Suggest charts\"\n",
              "            style=\"display:none;\">\n",
              "\n",
              "<svg xmlns=\"http://www.w3.org/2000/svg\" height=\"24px\"viewBox=\"0 0 24 24\"\n",
              "     width=\"24px\">\n",
              "    <g>\n",
              "        <path d=\"M19 3H5c-1.1 0-2 .9-2 2v14c0 1.1.9 2 2 2h14c1.1 0 2-.9 2-2V5c0-1.1-.9-2-2-2zM9 17H7v-7h2v7zm4 0h-2V7h2v10zm4 0h-2v-4h2v4z\"/>\n",
              "    </g>\n",
              "</svg>\n",
              "  </button>\n",
              "\n",
              "<style>\n",
              "  .colab-df-quickchart {\n",
              "      --bg-color: #E8F0FE;\n",
              "      --fill-color: #1967D2;\n",
              "      --hover-bg-color: #E2EBFA;\n",
              "      --hover-fill-color: #174EA6;\n",
              "      --disabled-fill-color: #AAA;\n",
              "      --disabled-bg-color: #DDD;\n",
              "  }\n",
              "\n",
              "  [theme=dark] .colab-df-quickchart {\n",
              "      --bg-color: #3B4455;\n",
              "      --fill-color: #D2E3FC;\n",
              "      --hover-bg-color: #434B5C;\n",
              "      --hover-fill-color: #FFFFFF;\n",
              "      --disabled-bg-color: #3B4455;\n",
              "      --disabled-fill-color: #666;\n",
              "  }\n",
              "\n",
              "  .colab-df-quickchart {\n",
              "    background-color: var(--bg-color);\n",
              "    border: none;\n",
              "    border-radius: 50%;\n",
              "    cursor: pointer;\n",
              "    display: none;\n",
              "    fill: var(--fill-color);\n",
              "    height: 32px;\n",
              "    padding: 0;\n",
              "    width: 32px;\n",
              "  }\n",
              "\n",
              "  .colab-df-quickchart:hover {\n",
              "    background-color: var(--hover-bg-color);\n",
              "    box-shadow: 0 1px 2px rgba(60, 64, 67, 0.3), 0 1px 3px 1px rgba(60, 64, 67, 0.15);\n",
              "    fill: var(--button-hover-fill-color);\n",
              "  }\n",
              "\n",
              "  .colab-df-quickchart-complete:disabled,\n",
              "  .colab-df-quickchart-complete:disabled:hover {\n",
              "    background-color: var(--disabled-bg-color);\n",
              "    fill: var(--disabled-fill-color);\n",
              "    box-shadow: none;\n",
              "  }\n",
              "\n",
              "  .colab-df-spinner {\n",
              "    border: 2px solid var(--fill-color);\n",
              "    border-color: transparent;\n",
              "    border-bottom-color: var(--fill-color);\n",
              "    animation:\n",
              "      spin 1s steps(1) infinite;\n",
              "  }\n",
              "\n",
              "  @keyframes spin {\n",
              "    0% {\n",
              "      border-color: transparent;\n",
              "      border-bottom-color: var(--fill-color);\n",
              "      border-left-color: var(--fill-color);\n",
              "    }\n",
              "    20% {\n",
              "      border-color: transparent;\n",
              "      border-left-color: var(--fill-color);\n",
              "      border-top-color: var(--fill-color);\n",
              "    }\n",
              "    30% {\n",
              "      border-color: transparent;\n",
              "      border-left-color: var(--fill-color);\n",
              "      border-top-color: var(--fill-color);\n",
              "      border-right-color: var(--fill-color);\n",
              "    }\n",
              "    40% {\n",
              "      border-color: transparent;\n",
              "      border-right-color: var(--fill-color);\n",
              "      border-top-color: var(--fill-color);\n",
              "    }\n",
              "    60% {\n",
              "      border-color: transparent;\n",
              "      border-right-color: var(--fill-color);\n",
              "    }\n",
              "    80% {\n",
              "      border-color: transparent;\n",
              "      border-right-color: var(--fill-color);\n",
              "      border-bottom-color: var(--fill-color);\n",
              "    }\n",
              "    90% {\n",
              "      border-color: transparent;\n",
              "      border-bottom-color: var(--fill-color);\n",
              "    }\n",
              "  }\n",
              "</style>\n",
              "\n",
              "  <script>\n",
              "    async function quickchart(key) {\n",
              "      const quickchartButtonEl =\n",
              "        document.querySelector('#' + key + ' button');\n",
              "      quickchartButtonEl.disabled = true;  // To prevent multiple clicks.\n",
              "      quickchartButtonEl.classList.add('colab-df-spinner');\n",
              "      try {\n",
              "        const charts = await google.colab.kernel.invokeFunction(\n",
              "            'suggestCharts', [key], {});\n",
              "      } catch (error) {\n",
              "        console.error('Error during call to suggestCharts:', error);\n",
              "      }\n",
              "      quickchartButtonEl.classList.remove('colab-df-spinner');\n",
              "      quickchartButtonEl.classList.add('colab-df-quickchart-complete');\n",
              "    }\n",
              "    (() => {\n",
              "      let quickchartButtonEl =\n",
              "        document.querySelector('#df-2b911a0f-3d4a-43b0-836a-0f73d9a63552 button');\n",
              "      quickchartButtonEl.style.display =\n",
              "        google.colab.kernel.accessAllowed ? 'block' : 'none';\n",
              "    })();\n",
              "  </script>\n",
              "</div>\n",
              "\n",
              "    </div>\n",
              "  </div>\n"
            ],
            "text/plain": [
              "   chapter  question_number  \\\n",
              "0        1                1   \n",
              "1        1                2   \n",
              "2        1                3   \n",
              "3        1                4   \n",
              "4        1                5   \n",
              "\n",
              "                                       question_text  \\\n",
              "0  \"\"Do you need these for deep learning?nn- Lots...   \n",
              "1  \"\"Name five areas where deep learning is now t...   \n",
              "2  \"\"What was the name of the first device that w...   \n",
              "3  \"\"Based on the book of the same name, what are...   \n",
              "4  \"\"What were the two theoretical misunderstandi...   \n",
              "\n",
              "                                              answer  is_answerable  \\\n",
              "0  \"\"Lots of math - False\\nLots of data - False\\n...              1   \n",
              "1  \"\"Any five of the following:\\nNatural Language...              1   \n",
              "2    \"\"Mark I perceptron built by Frank Rosenblatt\"\"              1   \n",
              "3  \"\"A set of processing units\\nA state of activa...              1   \n",
              "4  \"\"In 1969, Marvin Minsky and Seymour Papert de...              1   \n",
              "\n",
              "                                        cs_d_context  \n",
              "0  ## Deep Learning Is for Everyone\\n\\nA lot of p...  \n",
              "1  ## Deep Learning Is for Everyone\\n\\nDeep learn...  \n",
              "2  ## Neural Networks: A Brief History\\n\\n<img al...  \n",
              "3  ## Neural Networks: A Brief History\\n\\nIn fact...  \n",
              "4  ## Neural Networks: A Brief History\\n\\nIn the ...  "
            ]
          },
          "execution_count": 19,
          "metadata": {},
          "output_type": "execute_result"
        }
      ],
      "source": [
        "cs_d = questions.copy()\n",
        "cs_d['cs_d_context'] = results\n",
        "cs_d.head()"
      ]
    },
    {
      "cell_type": "code",
      "execution_count": null,
      "metadata": {
        "id": "XV40mPgogtQs"
      },
      "outputs": [],
      "source": [
        "cs_d.to_csv('cs_d.csv', index=False)"
      ]
    },
    {
      "cell_type": "markdown",
      "metadata": {
        "id": "EfLuDGaxznAU"
      },
      "source": [
        "#### Results"
      ]
    },
    {
      "cell_type": "markdown",
      "metadata": {
        "id": "q19FOpIezns0"
      },
      "source": [
        "Here is the **Answer Rate** (by chapter and overall). As a reminder, the evaluation metric for each question, that I'm simply calling **score**, is binary: can the retrieved context answer the question (`1`) or not (`0`)? The evaluation metric across a set of questions, which I'm calling the **Answer Rate**, is the mean score for those questions."
      ]
    },
    {
      "cell_type": "markdown",
      "metadata": {
        "id": "kzw7LGvuzuXe"
      },
      "source": [
        "|Chapter|Name|Description|Answer Rate|\n",
        "|:-:|:-:|:-:|:-:|\n",
        "1|CS_D|Top-1 3-paragraph chunks|46.67% (14/30)|\n",
        "2|CS_D|Top-1 3-paragraph chunks|53.85% (14/26)|\n",
        "4|CS_D|Top-1 3-paragraph chunks|25.81% (8/31)|\n",
        "8|CS_D|Top-1 3-paragraph chunks|43.48% (10/23)|\n",
        "9|CS_D|Top-1 3-paragraph chunks|42.86% (12/28)|\n",
        "10|CS_D|Top-1 3-paragraph chunks|47.62% (10/21)|\n",
        "13|CS_D|Top-1 3-paragraph chunks|47.06% (16/34)|\n",
        "**All**|**CS_D**|**Top-1 3-paragraph chunks**|**43.52% (84/193)**|"
      ]
    },
    {
      "cell_type": "markdown",
      "metadata": {
        "id": "gsp0crrdy47w"
      },
      "source": [
        "### CS_E: Top-3 3-Paragraph Chunks"
      ]
    },
    {
      "cell_type": "code",
      "execution_count": null,
      "metadata": {
        "id": "v8m-wivhy92v"
      },
      "outputs": [],
      "source": [
        "results = []\n",
        "for chapter in ['1', '2', '4', '8', '9', '10', '13']:\n",
        "  _, idxs = F.cosine_similarity(q_embs[chapter].unsqueeze(1), data_3p_embs[chapter].unsqueeze(0), dim=2).sort(descending=True)\n",
        "  top_3_chunks = ['\\n\\n'.join([data_3p[chapter][i] for i in row[0:3].tolist()]) for row in idxs]\n",
        "  results.extend(top_3_chunks)"
      ]
    },
    {
      "cell_type": "code",
      "execution_count": null,
      "metadata": {
        "id": "UteQ6p4uhPIp"
      },
      "outputs": [],
      "source": [
        "assert len(results) == 193"
      ]
    },
    {
      "cell_type": "code",
      "execution_count": null,
      "metadata": {
        "colab": {
          "base_uri": "https://localhost:8080/",
          "height": 380
        },
        "id": "Q_T3tZHMhSLp",
        "outputId": "24278cc1-c8db-4206-c8a1-efc2567edc34"
      },
      "outputs": [
        {
          "data": {
            "application/vnd.google.colaboratory.intrinsic+json": {
              "summary": "{\n  \"name\": \"cs_e\",\n  \"rows\": 193,\n  \"fields\": [\n    {\n      \"column\": \"chapter\",\n      \"properties\": {\n        \"dtype\": \"number\",\n        \"std\": 4,\n        \"min\": 1,\n        \"max\": 13,\n        \"num_unique_values\": 7,\n        \"samples\": [\n          1,\n          2,\n          10\n        ],\n        \"semantic_type\": \"\",\n        \"description\": \"\"\n      }\n    },\n    {\n      \"column\": \"question_number\",\n      \"properties\": {\n        \"dtype\": \"number\",\n        \"std\": 9,\n        \"min\": 1,\n        \"max\": 40,\n        \"num_unique_values\": 40,\n        \"samples\": [\n          23,\n          20,\n          19\n        ],\n        \"semantic_type\": \"\",\n        \"description\": \"\"\n      }\n    },\n    {\n      \"column\": \"question_text\",\n      \"properties\": {\n        \"dtype\": \"string\",\n        \"num_unique_values\": 193,\n        \"samples\": [\n          \"\\\"\\\"What is the difference between `item_tfms` and `batch_tfms`?\\\"\\\"\",\n          \"\\\"\\\"Why might we not always use a neural net for tabular modeling?\\\"\\\"\",\n          \"\\\"\\\"What does the DataLoader class do?\\\"\\\"\"\n        ],\n        \"semantic_type\": \"\",\n        \"description\": \"\"\n      }\n    },\n    {\n      \"column\": \"answer\",\n      \"properties\": {\n        \"dtype\": \"string\",\n        \"num_unique_values\": 193,\n        \"samples\": [\n          \"\\\"\\\"item_tfms are transformations applied to a single data sample x on the CPU. Resize() is a common transform because the mini-batch of input images to a cnn must have the same dimensions. Assuming the images are RGB with 3 channels, then Resize() as item_tfms will make sure the images have the same width and height.\\nbatch_tfms are applied to batched data samples (aka individual samples that have been collated into a mini-batch) on the GPU. They are faster and more efficient than item_tfms. A good example of these are the ones provided by aug_transforms(). Inside are several batch-level augmentations that help many models.\\\"\\\"\",\n          \"\\\"\\\"We might not use them because they are the hardest to train and longest to train, and less well-understood. Instead, random forests should be the first choice/baseline, and neural networks could be tried to improve these results or add to an ensemble.\\\"\\\"\",\n          \"\\\"\\\"The DataLoader class can take any Python collection and turn it into an iterator over many batches.\\\"\\\"\"\n        ],\n        \"semantic_type\": \"\",\n        \"description\": \"\"\n      }\n    },\n    {\n      \"column\": \"is_answerable\",\n      \"properties\": {\n        \"dtype\": \"number\",\n        \"std\": 0,\n        \"min\": 1,\n        \"max\": 1,\n        \"num_unique_values\": 1,\n        \"samples\": [\n          1\n        ],\n        \"semantic_type\": \"\",\n        \"description\": \"\"\n      }\n    },\n    {\n      \"column\": \"cs_e_context\",\n      \"properties\": {\n        \"dtype\": \"string\",\n        \"num_unique_values\": 188,\n        \"samples\": [\n          \"### 1cycle Training\\n\\n<img src=\\\"images/colorful_dist.jpeg\\\" id=\\\"colorful_dist\\\" caption=\\\"Histogram in 'colorful dimension'\\\" alt=\\\"Histogram in 'colorful dimension'\\\" width=\\\"800\\\">\\n\\nTo create `color_dim`, we take the histogram shown on the left here, and convert it into just the colored representation shown at the bottom. Then we flip it on its side, as shown on the right. We found that the distribution is clearer if we take the log of the histogram values. Then, Stefano describes:\\n\\n> : The final plot for each layer is made by stacking the histogram of the activations from each batch along the horizontal axis. So each vertical slice in the visualisation represents the histogram of activations for a single batch. The color intensity corresponds to the height of the histogram, in other words the number of activations in each histogram bin.\\n\\n### Batch Normalization\\n\\n```python\\nlearn = fit()\\n```\\n\\nOutput:\\n<IPython.core.display.HTML object>\\n\\nThat's a great result! Let's take a look at `color_dim`:\\n\\n```python\\nlearn.activation_stats.color_dim(-4)\\n```\\n\\nOutput:\\n<Figure size 720x360 with 1 Axes>\\n\\n## Color Images\\n\\nThe first axis contains the channels, red, green, and blue:\\n\\n```python\\n_,axs = subplots(1,3)\\nfor bear,ax,color in zip(im,axs,('Reds','Greens','Blues')):\\n    show_image(255-bear, ax=ax, cmap=color)\\n```\\n\\nOutput:\\n<Figure size 864x288 with 3 Axes>\\n\\nWe saw what the convolution operation was for one filter on one channel of the image (our examples were done on a square). A convolutional layer will take an image with a certain number of channels (three for the first layer for regular RGB color images) and output an image with a different number of channels. Like our hidden size that represented the numbers of neurons in a linear layer, we can decide to have as many filters as we want, and each of them will be able to specialize, some to detect horizontal edges, others to detect vertical edges and so forth, to give something like we studied in <<chapter_production>>.\"\n        ],\n        \"semantic_type\": \"\",\n        \"description\": \"\"\n      }\n    }\n  ]\n}",
              "type": "dataframe",
              "variable_name": "cs_e"
            },
            "text/html": [
              "\n",
              "  <div id=\"df-bbc1582b-9524-4314-b3c0-88d1edab23bd\" class=\"colab-df-container\">\n",
              "    <div>\n",
              "<style scoped>\n",
              "    .dataframe tbody tr th:only-of-type {\n",
              "        vertical-align: middle;\n",
              "    }\n",
              "\n",
              "    .dataframe tbody tr th {\n",
              "        vertical-align: top;\n",
              "    }\n",
              "\n",
              "    .dataframe thead th {\n",
              "        text-align: right;\n",
              "    }\n",
              "</style>\n",
              "<table border=\"1\" class=\"dataframe\">\n",
              "  <thead>\n",
              "    <tr style=\"text-align: right;\">\n",
              "      <th></th>\n",
              "      <th>chapter</th>\n",
              "      <th>question_number</th>\n",
              "      <th>question_text</th>\n",
              "      <th>answer</th>\n",
              "      <th>is_answerable</th>\n",
              "      <th>cs_e_context</th>\n",
              "    </tr>\n",
              "  </thead>\n",
              "  <tbody>\n",
              "    <tr>\n",
              "      <th>0</th>\n",
              "      <td>1</td>\n",
              "      <td>1</td>\n",
              "      <td>\"\"Do you need these for deep learning?nn- Lots...</td>\n",
              "      <td>\"\"Lots of math - False\\nLots of data - False\\n...</td>\n",
              "      <td>1</td>\n",
              "      <td>## Deep Learning Is for Everyone\\n\\nA lot of p...</td>\n",
              "    </tr>\n",
              "    <tr>\n",
              "      <th>1</th>\n",
              "      <td>1</td>\n",
              "      <td>2</td>\n",
              "      <td>\"\"Name five areas where deep learning is now t...</td>\n",
              "      <td>\"\"Any five of the following:\\nNatural Language...</td>\n",
              "      <td>1</td>\n",
              "      <td>## Deep Learning Is for Everyone\\n\\nDeep learn...</td>\n",
              "    </tr>\n",
              "    <tr>\n",
              "      <th>2</th>\n",
              "      <td>1</td>\n",
              "      <td>3</td>\n",
              "      <td>\"\"What was the name of the first device that w...</td>\n",
              "      <td>\"\"Mark I perceptron built by Frank Rosenblatt\"\"</td>\n",
              "      <td>1</td>\n",
              "      <td>## Neural Networks: A Brief History\\n\\n&lt;img al...</td>\n",
              "    </tr>\n",
              "    <tr>\n",
              "      <th>3</th>\n",
              "      <td>1</td>\n",
              "      <td>4</td>\n",
              "      <td>\"\"Based on the book of the same name, what are...</td>\n",
              "      <td>\"\"A set of processing units\\nA state of activa...</td>\n",
              "      <td>1</td>\n",
              "      <td>## Neural Networks: A Brief History\\n\\nIn fact...</td>\n",
              "    </tr>\n",
              "    <tr>\n",
              "      <th>4</th>\n",
              "      <td>1</td>\n",
              "      <td>5</td>\n",
              "      <td>\"\"What were the two theoretical misunderstandi...</td>\n",
              "      <td>\"\"In 1969, Marvin Minsky and Seymour Papert de...</td>\n",
              "      <td>1</td>\n",
              "      <td>## Neural Networks: A Brief History\\n\\nIn the ...</td>\n",
              "    </tr>\n",
              "  </tbody>\n",
              "</table>\n",
              "</div>\n",
              "    <div class=\"colab-df-buttons\">\n",
              "\n",
              "  <div class=\"colab-df-container\">\n",
              "    <button class=\"colab-df-convert\" onclick=\"convertToInteractive('df-bbc1582b-9524-4314-b3c0-88d1edab23bd')\"\n",
              "            title=\"Convert this dataframe to an interactive table.\"\n",
              "            style=\"display:none;\">\n",
              "\n",
              "  <svg xmlns=\"http://www.w3.org/2000/svg\" height=\"24px\" viewBox=\"0 -960 960 960\">\n",
              "    <path d=\"M120-120v-720h720v720H120Zm60-500h600v-160H180v160Zm220 220h160v-160H400v160Zm0 220h160v-160H400v160ZM180-400h160v-160H180v160Zm440 0h160v-160H620v160ZM180-180h160v-160H180v160Zm440 0h160v-160H620v160Z\"/>\n",
              "  </svg>\n",
              "    </button>\n",
              "\n",
              "  <style>\n",
              "    .colab-df-container {\n",
              "      display:flex;\n",
              "      gap: 12px;\n",
              "    }\n",
              "\n",
              "    .colab-df-convert {\n",
              "      background-color: #E8F0FE;\n",
              "      border: none;\n",
              "      border-radius: 50%;\n",
              "      cursor: pointer;\n",
              "      display: none;\n",
              "      fill: #1967D2;\n",
              "      height: 32px;\n",
              "      padding: 0 0 0 0;\n",
              "      width: 32px;\n",
              "    }\n",
              "\n",
              "    .colab-df-convert:hover {\n",
              "      background-color: #E2EBFA;\n",
              "      box-shadow: 0px 1px 2px rgba(60, 64, 67, 0.3), 0px 1px 3px 1px rgba(60, 64, 67, 0.15);\n",
              "      fill: #174EA6;\n",
              "    }\n",
              "\n",
              "    .colab-df-buttons div {\n",
              "      margin-bottom: 4px;\n",
              "    }\n",
              "\n",
              "    [theme=dark] .colab-df-convert {\n",
              "      background-color: #3B4455;\n",
              "      fill: #D2E3FC;\n",
              "    }\n",
              "\n",
              "    [theme=dark] .colab-df-convert:hover {\n",
              "      background-color: #434B5C;\n",
              "      box-shadow: 0px 1px 3px 1px rgba(0, 0, 0, 0.15);\n",
              "      filter: drop-shadow(0px 1px 2px rgba(0, 0, 0, 0.3));\n",
              "      fill: #FFFFFF;\n",
              "    }\n",
              "  </style>\n",
              "\n",
              "    <script>\n",
              "      const buttonEl =\n",
              "        document.querySelector('#df-bbc1582b-9524-4314-b3c0-88d1edab23bd button.colab-df-convert');\n",
              "      buttonEl.style.display =\n",
              "        google.colab.kernel.accessAllowed ? 'block' : 'none';\n",
              "\n",
              "      async function convertToInteractive(key) {\n",
              "        const element = document.querySelector('#df-bbc1582b-9524-4314-b3c0-88d1edab23bd');\n",
              "        const dataTable =\n",
              "          await google.colab.kernel.invokeFunction('convertToInteractive',\n",
              "                                                    [key], {});\n",
              "        if (!dataTable) return;\n",
              "\n",
              "        const docLinkHtml = 'Like what you see? Visit the ' +\n",
              "          '<a target=\"_blank\" href=https://colab.research.google.com/notebooks/data_table.ipynb>data table notebook</a>'\n",
              "          + ' to learn more about interactive tables.';\n",
              "        element.innerHTML = '';\n",
              "        dataTable['output_type'] = 'display_data';\n",
              "        await google.colab.output.renderOutput(dataTable, element);\n",
              "        const docLink = document.createElement('div');\n",
              "        docLink.innerHTML = docLinkHtml;\n",
              "        element.appendChild(docLink);\n",
              "      }\n",
              "    </script>\n",
              "  </div>\n",
              "\n",
              "\n",
              "<div id=\"df-de8de342-4a14-4467-a45b-cae8a9083ca4\">\n",
              "  <button class=\"colab-df-quickchart\" onclick=\"quickchart('df-de8de342-4a14-4467-a45b-cae8a9083ca4')\"\n",
              "            title=\"Suggest charts\"\n",
              "            style=\"display:none;\">\n",
              "\n",
              "<svg xmlns=\"http://www.w3.org/2000/svg\" height=\"24px\"viewBox=\"0 0 24 24\"\n",
              "     width=\"24px\">\n",
              "    <g>\n",
              "        <path d=\"M19 3H5c-1.1 0-2 .9-2 2v14c0 1.1.9 2 2 2h14c1.1 0 2-.9 2-2V5c0-1.1-.9-2-2-2zM9 17H7v-7h2v7zm4 0h-2V7h2v10zm4 0h-2v-4h2v4z\"/>\n",
              "    </g>\n",
              "</svg>\n",
              "  </button>\n",
              "\n",
              "<style>\n",
              "  .colab-df-quickchart {\n",
              "      --bg-color: #E8F0FE;\n",
              "      --fill-color: #1967D2;\n",
              "      --hover-bg-color: #E2EBFA;\n",
              "      --hover-fill-color: #174EA6;\n",
              "      --disabled-fill-color: #AAA;\n",
              "      --disabled-bg-color: #DDD;\n",
              "  }\n",
              "\n",
              "  [theme=dark] .colab-df-quickchart {\n",
              "      --bg-color: #3B4455;\n",
              "      --fill-color: #D2E3FC;\n",
              "      --hover-bg-color: #434B5C;\n",
              "      --hover-fill-color: #FFFFFF;\n",
              "      --disabled-bg-color: #3B4455;\n",
              "      --disabled-fill-color: #666;\n",
              "  }\n",
              "\n",
              "  .colab-df-quickchart {\n",
              "    background-color: var(--bg-color);\n",
              "    border: none;\n",
              "    border-radius: 50%;\n",
              "    cursor: pointer;\n",
              "    display: none;\n",
              "    fill: var(--fill-color);\n",
              "    height: 32px;\n",
              "    padding: 0;\n",
              "    width: 32px;\n",
              "  }\n",
              "\n",
              "  .colab-df-quickchart:hover {\n",
              "    background-color: var(--hover-bg-color);\n",
              "    box-shadow: 0 1px 2px rgba(60, 64, 67, 0.3), 0 1px 3px 1px rgba(60, 64, 67, 0.15);\n",
              "    fill: var(--button-hover-fill-color);\n",
              "  }\n",
              "\n",
              "  .colab-df-quickchart-complete:disabled,\n",
              "  .colab-df-quickchart-complete:disabled:hover {\n",
              "    background-color: var(--disabled-bg-color);\n",
              "    fill: var(--disabled-fill-color);\n",
              "    box-shadow: none;\n",
              "  }\n",
              "\n",
              "  .colab-df-spinner {\n",
              "    border: 2px solid var(--fill-color);\n",
              "    border-color: transparent;\n",
              "    border-bottom-color: var(--fill-color);\n",
              "    animation:\n",
              "      spin 1s steps(1) infinite;\n",
              "  }\n",
              "\n",
              "  @keyframes spin {\n",
              "    0% {\n",
              "      border-color: transparent;\n",
              "      border-bottom-color: var(--fill-color);\n",
              "      border-left-color: var(--fill-color);\n",
              "    }\n",
              "    20% {\n",
              "      border-color: transparent;\n",
              "      border-left-color: var(--fill-color);\n",
              "      border-top-color: var(--fill-color);\n",
              "    }\n",
              "    30% {\n",
              "      border-color: transparent;\n",
              "      border-left-color: var(--fill-color);\n",
              "      border-top-color: var(--fill-color);\n",
              "      border-right-color: var(--fill-color);\n",
              "    }\n",
              "    40% {\n",
              "      border-color: transparent;\n",
              "      border-right-color: var(--fill-color);\n",
              "      border-top-color: var(--fill-color);\n",
              "    }\n",
              "    60% {\n",
              "      border-color: transparent;\n",
              "      border-right-color: var(--fill-color);\n",
              "    }\n",
              "    80% {\n",
              "      border-color: transparent;\n",
              "      border-right-color: var(--fill-color);\n",
              "      border-bottom-color: var(--fill-color);\n",
              "    }\n",
              "    90% {\n",
              "      border-color: transparent;\n",
              "      border-bottom-color: var(--fill-color);\n",
              "    }\n",
              "  }\n",
              "</style>\n",
              "\n",
              "  <script>\n",
              "    async function quickchart(key) {\n",
              "      const quickchartButtonEl =\n",
              "        document.querySelector('#' + key + ' button');\n",
              "      quickchartButtonEl.disabled = true;  // To prevent multiple clicks.\n",
              "      quickchartButtonEl.classList.add('colab-df-spinner');\n",
              "      try {\n",
              "        const charts = await google.colab.kernel.invokeFunction(\n",
              "            'suggestCharts', [key], {});\n",
              "      } catch (error) {\n",
              "        console.error('Error during call to suggestCharts:', error);\n",
              "      }\n",
              "      quickchartButtonEl.classList.remove('colab-df-spinner');\n",
              "      quickchartButtonEl.classList.add('colab-df-quickchart-complete');\n",
              "    }\n",
              "    (() => {\n",
              "      let quickchartButtonEl =\n",
              "        document.querySelector('#df-de8de342-4a14-4467-a45b-cae8a9083ca4 button');\n",
              "      quickchartButtonEl.style.display =\n",
              "        google.colab.kernel.accessAllowed ? 'block' : 'none';\n",
              "    })();\n",
              "  </script>\n",
              "</div>\n",
              "\n",
              "    </div>\n",
              "  </div>\n"
            ],
            "text/plain": [
              "   chapter  question_number  \\\n",
              "0        1                1   \n",
              "1        1                2   \n",
              "2        1                3   \n",
              "3        1                4   \n",
              "4        1                5   \n",
              "\n",
              "                                       question_text  \\\n",
              "0  \"\"Do you need these for deep learning?nn- Lots...   \n",
              "1  \"\"Name five areas where deep learning is now t...   \n",
              "2  \"\"What was the name of the first device that w...   \n",
              "3  \"\"Based on the book of the same name, what are...   \n",
              "4  \"\"What were the two theoretical misunderstandi...   \n",
              "\n",
              "                                              answer  is_answerable  \\\n",
              "0  \"\"Lots of math - False\\nLots of data - False\\n...              1   \n",
              "1  \"\"Any five of the following:\\nNatural Language...              1   \n",
              "2    \"\"Mark I perceptron built by Frank Rosenblatt\"\"              1   \n",
              "3  \"\"A set of processing units\\nA state of activa...              1   \n",
              "4  \"\"In 1969, Marvin Minsky and Seymour Papert de...              1   \n",
              "\n",
              "                                        cs_e_context  \n",
              "0  ## Deep Learning Is for Everyone\\n\\nA lot of p...  \n",
              "1  ## Deep Learning Is for Everyone\\n\\nDeep learn...  \n",
              "2  ## Neural Networks: A Brief History\\n\\n<img al...  \n",
              "3  ## Neural Networks: A Brief History\\n\\nIn fact...  \n",
              "4  ## Neural Networks: A Brief History\\n\\nIn the ...  "
            ]
          },
          "execution_count": 23,
          "metadata": {},
          "output_type": "execute_result"
        }
      ],
      "source": [
        "cs_e = questions.copy()\n",
        "cs_e['cs_e_context'] = results\n",
        "cs_e.head()"
      ]
    },
    {
      "cell_type": "code",
      "execution_count": null,
      "metadata": {
        "id": "zS8o5nxjhbVW"
      },
      "outputs": [],
      "source": [
        "cs_e.to_csv('cs_e.csv', index=False)"
      ]
    },
    {
      "cell_type": "markdown",
      "metadata": {
        "id": "4EoCIcjbzvyF"
      },
      "source": [
        "#### Results"
      ]
    },
    {
      "cell_type": "markdown",
      "metadata": {
        "id": "D9OS8hDRzwmM"
      },
      "source": [
        "Here is the **Answer Rate** (by chapter and overall). As a reminder, the evaluation metric for each question, that I'm simply calling **score**, is binary: can the retrieved context answer the question (`1`) or not (`0`)? The evaluation metric across a set of questions, which I'm calling the **Answer Rate**, is the mean score for those questions."
      ]
    },
    {
      "cell_type": "markdown",
      "metadata": {
        "id": "Ozofzx_9zyeu"
      },
      "source": [
        "|Chapter|Name|Description|Answer Rate|\n",
        "|:-:|:-:|:-:|:-:|\n",
        "1|CS_E|Top-3 3-paragraph chunks|80% (24/30)|\n",
        "2|CS_E|Top-3 3-paragraph chunks|80.77% (21/26)|\n",
        "4|CS_E|Top-3 3-paragraph chunks|67.74% (21/31)|\n",
        "8|CS_E|Top-3 3-paragraph chunks|73.91% (17/23)|\n",
        "9|CS_E|Top-3 3-paragraph chunks|57.14% (16/28)|\n",
        "10|CS_E|Top-3 3-paragraph chunks|52.38% (11/21)|\n",
        "13|CS_E|Top-3 3-paragraph chunks|70.59% (24/34)|\n",
        "**All**|**CS_E**|**Top-3 3-paragraph chunks**|**69.43% (134/193)**|"
      ]
    },
    {
      "cell_type": "markdown",
      "metadata": {
        "id": "0-YrEPIIy9-J"
      },
      "source": [
        "### CS_F: Top-5 3-Paragraph Chunks"
      ]
    },
    {
      "cell_type": "code",
      "execution_count": null,
      "metadata": {
        "id": "lXrXEXBQy_Pg"
      },
      "outputs": [],
      "source": [
        "results = []\n",
        "for chapter in ['1', '2', '4', '8', '9', '10', '13']:\n",
        "  _, idxs = F.cosine_similarity(q_embs[chapter].unsqueeze(1), data_3p_embs[chapter].unsqueeze(0), dim=2).sort(descending=True)\n",
        "  top_5_chunks = ['\\n\\n'.join([data_3p[chapter][i] for i in row[0:5].tolist()]) for row in idxs]\n",
        "  results.extend(top_5_chunks)"
      ]
    },
    {
      "cell_type": "code",
      "execution_count": null,
      "metadata": {
        "id": "nfj4uTtXh5Yf"
      },
      "outputs": [],
      "source": [
        "assert len(results) == 193"
      ]
    },
    {
      "cell_type": "code",
      "execution_count": null,
      "metadata": {
        "colab": {
          "base_uri": "https://localhost:8080/",
          "height": 380
        },
        "id": "3R8--VkqiIkt",
        "outputId": "20dcc896-acf8-46fa-afcd-0f40622dbb10"
      },
      "outputs": [
        {
          "data": {
            "application/vnd.google.colaboratory.intrinsic+json": {
              "summary": "{\n  \"name\": \"cs_f\",\n  \"rows\": 193,\n  \"fields\": [\n    {\n      \"column\": \"chapter\",\n      \"properties\": {\n        \"dtype\": \"number\",\n        \"std\": 4,\n        \"min\": 1,\n        \"max\": 13,\n        \"num_unique_values\": 7,\n        \"samples\": [\n          1,\n          2,\n          10\n        ],\n        \"semantic_type\": \"\",\n        \"description\": \"\"\n      }\n    },\n    {\n      \"column\": \"question_number\",\n      \"properties\": {\n        \"dtype\": \"number\",\n        \"std\": 9,\n        \"min\": 1,\n        \"max\": 40,\n        \"num_unique_values\": 40,\n        \"samples\": [\n          23,\n          20,\n          19\n        ],\n        \"semantic_type\": \"\",\n        \"description\": \"\"\n      }\n    },\n    {\n      \"column\": \"question_text\",\n      \"properties\": {\n        \"dtype\": \"string\",\n        \"num_unique_values\": 193,\n        \"samples\": [\n          \"\\\"\\\"What is the difference between `item_tfms` and `batch_tfms`?\\\"\\\"\",\n          \"\\\"\\\"Why might we not always use a neural net for tabular modeling?\\\"\\\"\",\n          \"\\\"\\\"What does the DataLoader class do?\\\"\\\"\"\n        ],\n        \"semantic_type\": \"\",\n        \"description\": \"\"\n      }\n    },\n    {\n      \"column\": \"answer\",\n      \"properties\": {\n        \"dtype\": \"string\",\n        \"num_unique_values\": 193,\n        \"samples\": [\n          \"\\\"\\\"item_tfms are transformations applied to a single data sample x on the CPU. Resize() is a common transform because the mini-batch of input images to a cnn must have the same dimensions. Assuming the images are RGB with 3 channels, then Resize() as item_tfms will make sure the images have the same width and height.\\nbatch_tfms are applied to batched data samples (aka individual samples that have been collated into a mini-batch) on the GPU. They are faster and more efficient than item_tfms. A good example of these are the ones provided by aug_transforms(). Inside are several batch-level augmentations that help many models.\\\"\\\"\",\n          \"\\\"\\\"We might not use them because they are the hardest to train and longest to train, and less well-understood. Instead, random forests should be the first choice/baseline, and neural networks could be tried to improve these results or add to an ensemble.\\\"\\\"\",\n          \"\\\"\\\"The DataLoader class can take any Python collection and turn it into an iterator over many batches.\\\"\\\"\"\n        ],\n        \"semantic_type\": \"\",\n        \"description\": \"\"\n      }\n    },\n    {\n      \"column\": \"is_answerable\",\n      \"properties\": {\n        \"dtype\": \"number\",\n        \"std\": 0,\n        \"min\": 1,\n        \"max\": 1,\n        \"num_unique_values\": 1,\n        \"samples\": [\n          1\n        ],\n        \"semantic_type\": \"\",\n        \"description\": \"\"\n      }\n    },\n    {\n      \"column\": \"cs_f_context\",\n      \"properties\": {\n        \"dtype\": \"string\",\n        \"num_unique_values\": 193,\n        \"samples\": [\n          \"## From Data to DataLoaders\\n\\n```python\\ndls = bears.dataloaders(path)\\n```\\n\\nA `DataLoaders` includes validation and training `DataLoader`s. `DataLoader` is a class that provides batches of a few items at a time to the GPU. We'll be learning a lot more about this class in the next chapter. When you loop through a `DataLoader` fastai will give you 64 (by default) items at a time, all stacked up into a single tensor. We can take a look at a few of those items by calling the `show_batch` method on a `DataLoader`:\\n\\n```python\\ndls.valid.show_batch(max_n=4, nrows=1)\\n```\\n\\nOutput:\\n<Figure size 864x216 with 4 Axes>\\n\\n## From Data to DataLoaders\\n\\nHere's another example where we replace `Resize` with `RandomResizedCrop`, which is the transform that provides the behavior we just described. The most important parameter to pass in is `min_scale`, which determines how much of the image to select at minimum each time:\\n\\n```python\\nbears = bears.new(item_tfms=RandomResizedCrop(128, min_scale=0.3))\\ndls = bears.dataloaders(path)\\ndls.train.show_batch(max_n=4, nrows=1, unique=True)\\n```\\n\\nOutput:\\n<Figure size 864x216 with 4 Axes>\\n\\nWe used `unique=True` to have the same image repeated with different versions of this `RandomResizedCrop` transform. This is a specific example of a more general technique, called data augmentation.\\n\\n### Creating a Notebook App from the Model\\n\\n```python\\n#hide_output\\nbtn_run = widgets.Button(description='Classify')\\nbtn_run\\n```\\n\\nOutput:\\nButton(description='Classify', style=ButtonStyle())\\n\\nWe'll also need a *click event handler*; that is, a function that will be called when it's pressed. We can just copy over the lines of code from above:\\n\\n```python\\ndef on_click_classify(change):\\n    img = PILImage.create(btn_upload.data[-1])\\n    out_pl.clear_output()\\n    with out_pl: display(img.to_thumb(128,128))\\n    pred,pred_idx,probs = learn_inf.predict(img)\\n    lbl_pred.value = f'Prediction: {pred}; Probability: {probs[pred_idx]:.04f}'\\n\\nbtn_run.on_click(on_click_classify)\\n```\\n\\n### Creating a Notebook App from the Model\\n\\n```python\\n#hide_output\\nlbl_pred = widgets.Label()\\nlbl_pred.value = f'Prediction: {pred}; Probability: {probs[pred_idx]:.04f}'\\nlbl_pred\\n```\\n\\nOutput:\\nLabel(value='Prediction: grizzly; Probability: 1.0000')\\n\\n`Prediction: grizzly; Probability: 1.0000`\\n\\nWe'll need a button to do the classification. It looks exactly like the upload button:\\n\\n## From Data to DataLoaders\\n\\nOur images are all different sizes, and this is a problem for deep learning: we don't feed the model one image at a time but several of them (what we call a *mini-batch*). To group them in a big array (usually called a *tensor*) that is going to go through our model, they all need to be of the same size. So, we need to add a transform which will resize these images to the same size. *Item transforms* are pieces of code that run on each individual item, whether it be an image, category, or so forth. fastai includes many predefined transforms; we use the `Resize` transform here:\\n\\n```python\\nitem_tfms=Resize(128)\\n```\\n\\nThis command has given us a `DataBlock` object. This is like a *template* for creating a `DataLoaders`. We still need to tell fastai the actual source of our data\\u2014in this case, the path where the images can be found:\"\n        ],\n        \"semantic_type\": \"\",\n        \"description\": \"\"\n      }\n    }\n  ]\n}",
              "type": "dataframe",
              "variable_name": "cs_f"
            },
            "text/html": [
              "\n",
              "  <div id=\"df-e94b55d7-7db2-4e8d-b259-c74d54bcf19e\" class=\"colab-df-container\">\n",
              "    <div>\n",
              "<style scoped>\n",
              "    .dataframe tbody tr th:only-of-type {\n",
              "        vertical-align: middle;\n",
              "    }\n",
              "\n",
              "    .dataframe tbody tr th {\n",
              "        vertical-align: top;\n",
              "    }\n",
              "\n",
              "    .dataframe thead th {\n",
              "        text-align: right;\n",
              "    }\n",
              "</style>\n",
              "<table border=\"1\" class=\"dataframe\">\n",
              "  <thead>\n",
              "    <tr style=\"text-align: right;\">\n",
              "      <th></th>\n",
              "      <th>chapter</th>\n",
              "      <th>question_number</th>\n",
              "      <th>question_text</th>\n",
              "      <th>answer</th>\n",
              "      <th>is_answerable</th>\n",
              "      <th>cs_f_context</th>\n",
              "    </tr>\n",
              "  </thead>\n",
              "  <tbody>\n",
              "    <tr>\n",
              "      <th>0</th>\n",
              "      <td>1</td>\n",
              "      <td>1</td>\n",
              "      <td>\"\"Do you need these for deep learning?nn- Lots...</td>\n",
              "      <td>\"\"Lots of math - False\\nLots of data - False\\n...</td>\n",
              "      <td>1</td>\n",
              "      <td>## Deep Learning Is for Everyone\\n\\nA lot of p...</td>\n",
              "    </tr>\n",
              "    <tr>\n",
              "      <th>1</th>\n",
              "      <td>1</td>\n",
              "      <td>2</td>\n",
              "      <td>\"\"Name five areas where deep learning is now t...</td>\n",
              "      <td>\"\"Any five of the following:\\nNatural Language...</td>\n",
              "      <td>1</td>\n",
              "      <td>## Deep Learning Is for Everyone\\n\\nDeep learn...</td>\n",
              "    </tr>\n",
              "    <tr>\n",
              "      <th>2</th>\n",
              "      <td>1</td>\n",
              "      <td>3</td>\n",
              "      <td>\"\"What was the name of the first device that w...</td>\n",
              "      <td>\"\"Mark I perceptron built by Frank Rosenblatt\"\"</td>\n",
              "      <td>1</td>\n",
              "      <td>## Neural Networks: A Brief History\\n\\n&lt;img al...</td>\n",
              "    </tr>\n",
              "    <tr>\n",
              "      <th>3</th>\n",
              "      <td>1</td>\n",
              "      <td>4</td>\n",
              "      <td>\"\"Based on the book of the same name, what are...</td>\n",
              "      <td>\"\"A set of processing units\\nA state of activa...</td>\n",
              "      <td>1</td>\n",
              "      <td>## Neural Networks: A Brief History\\n\\nIn fact...</td>\n",
              "    </tr>\n",
              "    <tr>\n",
              "      <th>4</th>\n",
              "      <td>1</td>\n",
              "      <td>5</td>\n",
              "      <td>\"\"What were the two theoretical misunderstandi...</td>\n",
              "      <td>\"\"In 1969, Marvin Minsky and Seymour Papert de...</td>\n",
              "      <td>1</td>\n",
              "      <td>## Neural Networks: A Brief History\\n\\nIn the ...</td>\n",
              "    </tr>\n",
              "  </tbody>\n",
              "</table>\n",
              "</div>\n",
              "    <div class=\"colab-df-buttons\">\n",
              "\n",
              "  <div class=\"colab-df-container\">\n",
              "    <button class=\"colab-df-convert\" onclick=\"convertToInteractive('df-e94b55d7-7db2-4e8d-b259-c74d54bcf19e')\"\n",
              "            title=\"Convert this dataframe to an interactive table.\"\n",
              "            style=\"display:none;\">\n",
              "\n",
              "  <svg xmlns=\"http://www.w3.org/2000/svg\" height=\"24px\" viewBox=\"0 -960 960 960\">\n",
              "    <path d=\"M120-120v-720h720v720H120Zm60-500h600v-160H180v160Zm220 220h160v-160H400v160Zm0 220h160v-160H400v160ZM180-400h160v-160H180v160Zm440 0h160v-160H620v160ZM180-180h160v-160H180v160Zm440 0h160v-160H620v160Z\"/>\n",
              "  </svg>\n",
              "    </button>\n",
              "\n",
              "  <style>\n",
              "    .colab-df-container {\n",
              "      display:flex;\n",
              "      gap: 12px;\n",
              "    }\n",
              "\n",
              "    .colab-df-convert {\n",
              "      background-color: #E8F0FE;\n",
              "      border: none;\n",
              "      border-radius: 50%;\n",
              "      cursor: pointer;\n",
              "      display: none;\n",
              "      fill: #1967D2;\n",
              "      height: 32px;\n",
              "      padding: 0 0 0 0;\n",
              "      width: 32px;\n",
              "    }\n",
              "\n",
              "    .colab-df-convert:hover {\n",
              "      background-color: #E2EBFA;\n",
              "      box-shadow: 0px 1px 2px rgba(60, 64, 67, 0.3), 0px 1px 3px 1px rgba(60, 64, 67, 0.15);\n",
              "      fill: #174EA6;\n",
              "    }\n",
              "\n",
              "    .colab-df-buttons div {\n",
              "      margin-bottom: 4px;\n",
              "    }\n",
              "\n",
              "    [theme=dark] .colab-df-convert {\n",
              "      background-color: #3B4455;\n",
              "      fill: #D2E3FC;\n",
              "    }\n",
              "\n",
              "    [theme=dark] .colab-df-convert:hover {\n",
              "      background-color: #434B5C;\n",
              "      box-shadow: 0px 1px 3px 1px rgba(0, 0, 0, 0.15);\n",
              "      filter: drop-shadow(0px 1px 2px rgba(0, 0, 0, 0.3));\n",
              "      fill: #FFFFFF;\n",
              "    }\n",
              "  </style>\n",
              "\n",
              "    <script>\n",
              "      const buttonEl =\n",
              "        document.querySelector('#df-e94b55d7-7db2-4e8d-b259-c74d54bcf19e button.colab-df-convert');\n",
              "      buttonEl.style.display =\n",
              "        google.colab.kernel.accessAllowed ? 'block' : 'none';\n",
              "\n",
              "      async function convertToInteractive(key) {\n",
              "        const element = document.querySelector('#df-e94b55d7-7db2-4e8d-b259-c74d54bcf19e');\n",
              "        const dataTable =\n",
              "          await google.colab.kernel.invokeFunction('convertToInteractive',\n",
              "                                                    [key], {});\n",
              "        if (!dataTable) return;\n",
              "\n",
              "        const docLinkHtml = 'Like what you see? Visit the ' +\n",
              "          '<a target=\"_blank\" href=https://colab.research.google.com/notebooks/data_table.ipynb>data table notebook</a>'\n",
              "          + ' to learn more about interactive tables.';\n",
              "        element.innerHTML = '';\n",
              "        dataTable['output_type'] = 'display_data';\n",
              "        await google.colab.output.renderOutput(dataTable, element);\n",
              "        const docLink = document.createElement('div');\n",
              "        docLink.innerHTML = docLinkHtml;\n",
              "        element.appendChild(docLink);\n",
              "      }\n",
              "    </script>\n",
              "  </div>\n",
              "\n",
              "\n",
              "<div id=\"df-301aa742-086c-4d27-874a-b19cbf326e07\">\n",
              "  <button class=\"colab-df-quickchart\" onclick=\"quickchart('df-301aa742-086c-4d27-874a-b19cbf326e07')\"\n",
              "            title=\"Suggest charts\"\n",
              "            style=\"display:none;\">\n",
              "\n",
              "<svg xmlns=\"http://www.w3.org/2000/svg\" height=\"24px\"viewBox=\"0 0 24 24\"\n",
              "     width=\"24px\">\n",
              "    <g>\n",
              "        <path d=\"M19 3H5c-1.1 0-2 .9-2 2v14c0 1.1.9 2 2 2h14c1.1 0 2-.9 2-2V5c0-1.1-.9-2-2-2zM9 17H7v-7h2v7zm4 0h-2V7h2v10zm4 0h-2v-4h2v4z\"/>\n",
              "    </g>\n",
              "</svg>\n",
              "  </button>\n",
              "\n",
              "<style>\n",
              "  .colab-df-quickchart {\n",
              "      --bg-color: #E8F0FE;\n",
              "      --fill-color: #1967D2;\n",
              "      --hover-bg-color: #E2EBFA;\n",
              "      --hover-fill-color: #174EA6;\n",
              "      --disabled-fill-color: #AAA;\n",
              "      --disabled-bg-color: #DDD;\n",
              "  }\n",
              "\n",
              "  [theme=dark] .colab-df-quickchart {\n",
              "      --bg-color: #3B4455;\n",
              "      --fill-color: #D2E3FC;\n",
              "      --hover-bg-color: #434B5C;\n",
              "      --hover-fill-color: #FFFFFF;\n",
              "      --disabled-bg-color: #3B4455;\n",
              "      --disabled-fill-color: #666;\n",
              "  }\n",
              "\n",
              "  .colab-df-quickchart {\n",
              "    background-color: var(--bg-color);\n",
              "    border: none;\n",
              "    border-radius: 50%;\n",
              "    cursor: pointer;\n",
              "    display: none;\n",
              "    fill: var(--fill-color);\n",
              "    height: 32px;\n",
              "    padding: 0;\n",
              "    width: 32px;\n",
              "  }\n",
              "\n",
              "  .colab-df-quickchart:hover {\n",
              "    background-color: var(--hover-bg-color);\n",
              "    box-shadow: 0 1px 2px rgba(60, 64, 67, 0.3), 0 1px 3px 1px rgba(60, 64, 67, 0.15);\n",
              "    fill: var(--button-hover-fill-color);\n",
              "  }\n",
              "\n",
              "  .colab-df-quickchart-complete:disabled,\n",
              "  .colab-df-quickchart-complete:disabled:hover {\n",
              "    background-color: var(--disabled-bg-color);\n",
              "    fill: var(--disabled-fill-color);\n",
              "    box-shadow: none;\n",
              "  }\n",
              "\n",
              "  .colab-df-spinner {\n",
              "    border: 2px solid var(--fill-color);\n",
              "    border-color: transparent;\n",
              "    border-bottom-color: var(--fill-color);\n",
              "    animation:\n",
              "      spin 1s steps(1) infinite;\n",
              "  }\n",
              "\n",
              "  @keyframes spin {\n",
              "    0% {\n",
              "      border-color: transparent;\n",
              "      border-bottom-color: var(--fill-color);\n",
              "      border-left-color: var(--fill-color);\n",
              "    }\n",
              "    20% {\n",
              "      border-color: transparent;\n",
              "      border-left-color: var(--fill-color);\n",
              "      border-top-color: var(--fill-color);\n",
              "    }\n",
              "    30% {\n",
              "      border-color: transparent;\n",
              "      border-left-color: var(--fill-color);\n",
              "      border-top-color: var(--fill-color);\n",
              "      border-right-color: var(--fill-color);\n",
              "    }\n",
              "    40% {\n",
              "      border-color: transparent;\n",
              "      border-right-color: var(--fill-color);\n",
              "      border-top-color: var(--fill-color);\n",
              "    }\n",
              "    60% {\n",
              "      border-color: transparent;\n",
              "      border-right-color: var(--fill-color);\n",
              "    }\n",
              "    80% {\n",
              "      border-color: transparent;\n",
              "      border-right-color: var(--fill-color);\n",
              "      border-bottom-color: var(--fill-color);\n",
              "    }\n",
              "    90% {\n",
              "      border-color: transparent;\n",
              "      border-bottom-color: var(--fill-color);\n",
              "    }\n",
              "  }\n",
              "</style>\n",
              "\n",
              "  <script>\n",
              "    async function quickchart(key) {\n",
              "      const quickchartButtonEl =\n",
              "        document.querySelector('#' + key + ' button');\n",
              "      quickchartButtonEl.disabled = true;  // To prevent multiple clicks.\n",
              "      quickchartButtonEl.classList.add('colab-df-spinner');\n",
              "      try {\n",
              "        const charts = await google.colab.kernel.invokeFunction(\n",
              "            'suggestCharts', [key], {});\n",
              "      } catch (error) {\n",
              "        console.error('Error during call to suggestCharts:', error);\n",
              "      }\n",
              "      quickchartButtonEl.classList.remove('colab-df-spinner');\n",
              "      quickchartButtonEl.classList.add('colab-df-quickchart-complete');\n",
              "    }\n",
              "    (() => {\n",
              "      let quickchartButtonEl =\n",
              "        document.querySelector('#df-301aa742-086c-4d27-874a-b19cbf326e07 button');\n",
              "      quickchartButtonEl.style.display =\n",
              "        google.colab.kernel.accessAllowed ? 'block' : 'none';\n",
              "    })();\n",
              "  </script>\n",
              "</div>\n",
              "\n",
              "    </div>\n",
              "  </div>\n"
            ],
            "text/plain": [
              "   chapter  question_number  \\\n",
              "0        1                1   \n",
              "1        1                2   \n",
              "2        1                3   \n",
              "3        1                4   \n",
              "4        1                5   \n",
              "\n",
              "                                       question_text  \\\n",
              "0  \"\"Do you need these for deep learning?nn- Lots...   \n",
              "1  \"\"Name five areas where deep learning is now t...   \n",
              "2  \"\"What was the name of the first device that w...   \n",
              "3  \"\"Based on the book of the same name, what are...   \n",
              "4  \"\"What were the two theoretical misunderstandi...   \n",
              "\n",
              "                                              answer  is_answerable  \\\n",
              "0  \"\"Lots of math - False\\nLots of data - False\\n...              1   \n",
              "1  \"\"Any five of the following:\\nNatural Language...              1   \n",
              "2    \"\"Mark I perceptron built by Frank Rosenblatt\"\"              1   \n",
              "3  \"\"A set of processing units\\nA state of activa...              1   \n",
              "4  \"\"In 1969, Marvin Minsky and Seymour Papert de...              1   \n",
              "\n",
              "                                        cs_f_context  \n",
              "0  ## Deep Learning Is for Everyone\\n\\nA lot of p...  \n",
              "1  ## Deep Learning Is for Everyone\\n\\nDeep learn...  \n",
              "2  ## Neural Networks: A Brief History\\n\\n<img al...  \n",
              "3  ## Neural Networks: A Brief History\\n\\nIn fact...  \n",
              "4  ## Neural Networks: A Brief History\\n\\nIn the ...  "
            ]
          },
          "execution_count": 27,
          "metadata": {},
          "output_type": "execute_result"
        }
      ],
      "source": [
        "cs_f = questions.copy()\n",
        "cs_f['cs_f_context'] = results\n",
        "cs_f.head()"
      ]
    },
    {
      "cell_type": "code",
      "execution_count": null,
      "metadata": {
        "id": "vyDwZ4lJifZa"
      },
      "outputs": [],
      "source": [
        "cs_f.to_csv('cs_f.csv', index=False)"
      ]
    },
    {
      "cell_type": "markdown",
      "metadata": {
        "id": "vm_JIXofz3TO"
      },
      "source": [
        "#### Results"
      ]
    },
    {
      "cell_type": "markdown",
      "metadata": {
        "id": "KVDf-YdQz4Q1"
      },
      "source": [
        "Here is the **Answer Rate** (by chapter and overall). As a reminder, the evaluation metric for each question, that I'm simply calling **score**, is binary: can the retrieved context answer the question (`1`) or not (`0`)? The evaluation metric across a set of questions, which I'm calling the **Answer Rate**, is the mean score for those questions."
      ]
    },
    {
      "cell_type": "markdown",
      "metadata": {
        "id": "j9Ip_hCBz7b9"
      },
      "source": [
        "|Chapter|Name|Description|Answer Rate|\n",
        "|:-:|:-:|:-:|:-:|\n",
        "1|CS_F|Top-5 3-paragraph chunks|90% (27/30)|\n",
        "2|CS_F|Top-5 3-paragraph chunks|84.62% (22/26)|\n",
        "4|CS_F|Top-5 3-paragraph chunks|80.65% (25/31)|\n",
        "8|CS_F|Top-5 3-paragraph chunks|91.30% (21/23)|\n",
        "9|CS_F|Top-5 3-paragraph chunks|75% (21/28)|\n",
        "10|CS_F|Top-5 3-paragraph chunks|57.14% (12/21)|\n",
        "13|CS_F|Top-5 3-paragraph chunks|79.41% (27/34)|\n",
        "**All**|**CS_F**|**Top-5 3-paragraph chunks**|**80.31% (155/193)**|"
      ]
    }
  ],
  "metadata": {
    "colab": {
      "provenance": []
    },
    "kernelspec": {
      "display_name": "Python 3",
      "name": "python3"
    },
    "language_info": {
      "name": "python"
    }
  },
  "nbformat": 4,
  "nbformat_minor": 0
}

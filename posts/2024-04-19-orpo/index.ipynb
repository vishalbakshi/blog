{
  "cells": [
    {
      "cell_type": "raw",
      "metadata": {
        "vscode": {
          "languageId": "raw"
        }
      },
      "source": [
        "---\n",
        "title: 'Paper Math and Summary&#58; ORPO (Odds Ratio Preference Optimization)'\n",
        "date: \"2024-04-19\"\n",
        "author: Vishal Bakshi\n",
        "description: Summarizing the research from the Odds Ratio Preference Optimization paper and exploring its math to better understand it.\n",
        "filters:\n",
        "   - lightbox\n",
        "lightbox: auto\n",
        "categories:\n",
        "    - paper math\n",
        "    - paper summary\n",
        "    - deep learning\n",
        "    - LLM\n",
        "---"
      ]
    },
    {
      "cell_type": "markdown",
      "metadata": {
        "id": "L_clexlVehDD"
      },
      "source": [
        "## Background"
      ]
    },
    {
      "cell_type": "markdown",
      "metadata": {
        "id": "xW3tHi_Lei65"
      },
      "source": [
        "In this blog post I'll provide a summary (and an exploration of some of the math) for the research paper [ORPO: Monolithic Preference Optimization without Reference Model](https://arxiv.org/pdf/2403.07691).\n",
        "\n",
        "Here's the abstract:\n",
        "\n",
        "> While recent preference alignment algorithms for language models have demonstrated promising results, supervised fine-tuning (SFT) remains imperative for achieving successful convergence. In this paper, we study the crucial role of SFT within the context of preference alignment, emphasizing that a minor penalty for the disfavored generation style is sufficient for preference-aligned SFT. Building on this foundation, we introduce a straightforward and innovative reference model-free monolithic odds ratio preference optimization algorithm, ORPO, eliminating the necessity for an additional preference alignment phase. We demonstrate, both empirically and theoretically, that the odds ratio is a sensible choice for contrasting favored and disfavored styles during SFT across the diverse sizes from 125M to 7B. Specifically, fine-tuning Phi-2 (2.7B), Llama-2 (7B), and Mistral (7B) with ORPO on the UltraFeedback alone surpasses the performance of state-of-the-art language models with more than 7B and 13B parameters: achieving up to 12.20% on AlpacaEval2.0 (Figure 1), 66.19% on IFEval (instruction-level loose, Table 6), and 7.32 in MT-Bench (Figure 12). We release code and model checkpoints for Mistral-ORPO-$\\alpha$ (7B) and Mistral-ORPO-$\\beta$ (7B)."
      ]
    },
    {
      "cell_type": "markdown",
      "metadata": {
        "id": "1XXzR_0LfE8h"
      },
      "source": [
        "## Main Takeaways"
      ]
    },
    {
      "cell_type": "markdown",
      "metadata": {
        "id": "h1wxbhcefGce"
      },
      "source": [
        "I took away 5 main points from this paper:\n",
        "\n",
        "- ORPO does not use a reference model like DPO (in the KL term) or a reward model and initial SFT snapshot like RLHF.\n",
        "- Instead, ORPO directly trains a preference-aligned Supervised Fine-Tuned (SFT) model.\n",
        "- The ORPO loss includes a penalty (added to the normal causal LM Negative Log Likelihood loss) which maximizes the likelihood of generating a favored reponse.\n",
        "- ORPO consistently is preferred by a reward model against SFT and RLHF.\n",
        "- The ORPOR win rate vs. DPO increases as model size increases."
      ]
    },
    {
      "cell_type": "markdown",
      "metadata": {
        "id": "NNXDMQ47fzKl"
      },
      "source": [
        "## Quick Review: DPO and RLHF"
      ]
    },
    {
      "cell_type": "markdown",
      "metadata": {
        "id": "-B4up2fRf2NU"
      },
      "source": [
        "In order to better visualize how ORPO differs from DPO and RLHF I'll provide a couple of visuals to highlight those points.\n",
        "\n",
        "First, from [Chip Huyen's blog post on RLHF](https://huyenchip.com/2023/05/02/rlhf.html), I've highlighted where the SFT model and reward model are used.\n",
        "\n",
        "<img src=\"1.png\" style=\"width:100%;\">\n",
        "\n",
        "Next I'll show the DPO loss function, where the reference model is used in the log probability ratios:\n",
        "\n",
        "<img src=\"2.png\" style=\"width:100%;\">\n",
        "\n",
        "Finally, from the ORPO paper, a graphic that compares RLHF, DPO and ORPO. The odds ratio is shown on the right (it strongly adapts to chosen reponses and has a weak penalty for rejected responses).\n",
        "\n",
        "<img src=\"3.png\" style=\"width:100%;\">\n",
        "\n"
      ]
    },
    {
      "cell_type": "markdown",
      "metadata": {
        "id": "uy5Lx0ebqY_X"
      },
      "source": [
        "## Quick Review: SFT without ORPO"
      ]
    },
    {
      "cell_type": "markdown",
      "metadata": {
        "id": "aqcKDGSuqbt6"
      },
      "source": [
        "I'll do a quick review of what the loss function looks like for SFT without ORPO. The loss function is cross entropy loss, where the log probabilities $\\log(p_i^{(k)})$ of the label tokens (when $y_i$ is True) are average across the input sequence of length $m$:\n",
        "\n",
        "$$\\mathcal{L} = -\\frac{1}{m}\\sum^m_{k=1}\\sum^{|V|}_{i=1}y_i^{(k)}\\cdot\\log(p_i^{(k)})$$\n",
        "\n",
        "This loss function is effective for domain adaptation (for next token prediction) but doesn't have a mechanism to penalize rejected responses."
      ]
    },
    {
      "cell_type": "markdown",
      "metadata": {
        "id": "EZoMgw4vtGj_"
      },
      "source": [
        "In the ORPO paper they studies the log probabilities of chosen and rejected responses during SFT (without ORPO) and found that both increase over the course of training. In other words, the model does not discriminate between desired and undesired tokens.\n",
        "\n",
        "<img src=\"5.png\" style=\"width:100%;\">"
      ]
    },
    {
      "cell_type": "markdown",
      "metadata": {
        "id": "3QntubwRtl3m"
      },
      "source": [
        "## ORPO Loss"
      ]
    },
    {
      "cell_type": "markdown",
      "metadata": {
        "id": "KEBAlkL2tn4j"
      },
      "source": [
        "The ORPO loss function is an enhancement or augmentation of SFT loss:\n",
        "\n",
        "$$\\mathcal{L} = \\mathbb{E}_{(x, y_w, y_l)}\\big[\\mathcal{L}_{SFT} + \\lambda \\cdot\\mathcal{L}_{OR}\\big]$$\n",
        "\n",
        "In this loss function, $\\mathcal{L}_{SFT}$ helps the model adapt to the specified subset of the domain. In other words, it does what good ol' SFT does---fine-tune a model toward a given downstream task (chat, QA, reasoning, etc.).\n",
        "\n",
        "The $\\mathcal{L}_{OR}$ term (called relative ratio loss) helps the mode disfavor generations in the rejected responses set.\n",
        "\n",
        "The term $\\lambda$ weighs the relative ratio loss and affects how much the model disfavors rejected responses. An ablation study on this term is done in the appendix which I'll talk about in a bit.\n",
        "\n",
        "The relative ratio loss is defined as:\n",
        "\n",
        "$$\\mathcal{L}_{OR} = -\\log\\sigma\\big(\\log\\frac{\\textbf{odds}_\\theta(y_w|x)}{\\textbf{odds}_\\theta(y_l|x)}\\big)$$\n",
        "\n",
        "This loss contains the **odds ratio** which I'll talk about next."
      ]
    },
    {
      "cell_type": "markdown",
      "metadata": {
        "id": "22Gt0r5-vQ5X"
      },
      "source": [
        "## Odds Ratio"
      ]
    },
    {
      "cell_type": "markdown",
      "metadata": {
        "id": "S1P0wL42vS-x"
      },
      "source": [
        "The odds ratio is a ratio of:\n",
        "\n",
        "- the odds of generating the desired output sequence $y_w$ given an input sequence $x$\n",
        "- and the odds of generating the undesired output sequence $y_l$ given an input sequence $x$.\n",
        "\n",
        "Odds are defined as follows:\n",
        "\n",
        "$$\\textbf{odds}_\\theta(y|x) = \\frac{P_\\theta(y|x)}{1-P_\\theta(y|x)}$$\n",
        "\n",
        "Where $P_\\theta(y|x)$ is the likelihood that the model $\\theta$ will generate $y$ given input $x$.\n",
        "\n",
        "> Intuitively $\\textbf{odds}_\\theta(y|x)=k$ implies that it is $k$ times more likely for the model $\\theta$ to generate the output sequence $y$ than not generating it $y$.\n",
        "\n",
        "Note that as the likelihood $P$ increases, $1-P$ decreases and the **odds** increase."
      ]
    },
    {
      "cell_type": "markdown",
      "metadata": {
        "id": "ggJNZQNqxGcz"
      },
      "source": [
        "In the following visual I show how we can plot odds as $\\frac{x}{1-x}$ in Desmos and see how quickly the odds increase as likelihood increases.\n",
        "\n",
        "<img src=\"6.png\" style=\"width:100%;\">"
      ]
    },
    {
      "cell_type": "markdown",
      "metadata": {
        "id": "6LmoZEmoxXNu"
      },
      "source": [
        "I also plot the relative ratio loss as a function of the odds ratio in desmos. You can see that as the odds ratio (in the graph denoted by $x$) increases the loss function decreases. When the odds ratio increases, the numerator increases relative to the denominator. This means that the odds that the model will generated desired responses increases relative to the odds that it will generated undesired responses. In other words, as the model is trained and learns to minimize the loss, it also learns to maximize the likelihood of generating desired responses.\n",
        "\n",
        "<img src=\"7.png\" style=\"width:100%;\">"
      ]
    },
    {
      "cell_type": "markdown",
      "metadata": {
        "id": "At7aV9PQyENu"
      },
      "source": [
        "In the ORPO paper, they study how the log odds ratio and log probabilities of chosen and rejected responses vary over the course of training. They find that as the model is trained longer, the log odds ratio increases and after awhile, the log probabilities of rejected responses decreases (while chosen log probs continue to increase). This show the discriminating behavior of the relative ratio loss as compared to SFT loss.\n",
        "\n",
        "<img src=\"8.png\" style=\"width:100%;\">"
      ]
    },
    {
      "cell_type": "markdown",
      "metadata": {
        "id": "XD74DF9by_iw"
      },
      "source": [
        "## Gradient of ORPO Loss"
      ]
    },
    {
      "cell_type": "markdown",
      "metadata": {
        "id": "XCvq7c0fzBVM"
      },
      "source": [
        "I'll go through some of the intuition provided in the paper around the gradient of the ORPO loss function, which contains two factors: $\\delta(d)$ and $h(d)$ which are functions of the dataset $d$ which contains inputs $x$, desired responses $y_w$ and undesired responses $y_l$.\n",
        "\n",
        "<img src=\"9.png\" style=\"width:100%;\">"
      ]
    },
    {
      "cell_type": "markdown",
      "metadata": {
        "id": "r7cJDVmV2o3g"
      },
      "source": [
        "### $\\delta(d)$"
      ]
    },
    {
      "cell_type": "markdown",
      "metadata": {
        "id": "-UOyUj1uzhSF"
      },
      "source": [
        "I'll start by looking at $\\delta(d)$ first: when the odds of the desired responses are relatively higher than the undesired responses, this term will converge to 0.\n",
        "\n",
        "In the desmos graph below, $x$ represents the odds ratio and so $\\delta(d)$ takes the form of $\\frac{1}{1+x}$:\n",
        "\n",
        "<img src=\"10.png\" style=\"width:100%;\">"
      ]
    },
    {
      "cell_type": "markdown",
      "metadata": {
        "id": "4xr9F4dd0lGb"
      },
      "source": [
        "For the following concept:\n",
        "\n",
        "> $\\delta(d)$ will play the role of a penalty term. accelerating the parameter updates if the model is more likely to generate the rejected responses.\n",
        "\n",
        "I found the following rearranging of $\\delta(d)$ terms more intuitive:\n",
        "\n",
        "<br>\n",
        "\n",
        "$$\\delta(d) = \\big[1 + \\frac{\\textbf{odds}_\\theta P(y_w|x)}{\\textbf{odds}_\\theta P(y_l|x)}\\big]^{-1}$$\n",
        "\n",
        "I'll replace $1$ with an equivalent fraction that has the same denominator as the odds ratio:\n",
        "\n",
        "<br>\n",
        "\n",
        "$$\\delta(d) = \\big[\\frac{\\textbf{odds}_\\theta P(y_l|x)}{\\textbf{odds}_\\theta P(y_l|x)} + \\frac{\\textbf{odds}_\\theta P(y_w|x)}{\\textbf{odds}_\\theta P(y_l|x)}\\big]^{-1}$$\n",
        "\n",
        "Now I can easily add together the fractions inside the brackets because they have the same denominator:\n",
        "\n",
        "<br>\n",
        "\n",
        "$$\\delta(d) = \\big[\\frac{\\textbf{odds}_\\theta P(y_l|x) + \\textbf{odds}_\\theta P(y_w|x)}{\\textbf{odds}_\\theta P(y_l|x)}\\big]^{-1}$$\n",
        "\n",
        "Raising a fraction to the $-1$ power is the same as flipping it:\n",
        "\n",
        "<br>\n",
        "\n",
        "$$\\delta(d) = \\big[\\frac{\\textbf{odds}_\\theta P(y_l|x)}{\\textbf{odds}_\\theta P(y_l|x) + \\textbf{odds}_\\theta P(y_w|x)}\\big]$$\n",
        "\n",
        "<br>\n",
        "\n",
        "I find this form of $\\delta(d)$ more intuitive. Here you can directly see that as the odds of generating rejected responses (the numerator) increases, the overall fraction increases and thus the gradient increases, accelerating the parameter update."
      ]
    },
    {
      "cell_type": "markdown",
      "metadata": {
        "id": "Eq3OLBif2r0Z"
      },
      "source": [
        "### $h(d)$"
      ]
    },
    {
      "cell_type": "markdown",
      "metadata": {
        "id": "yXCJJbNT2tDc"
      },
      "source": [
        "The second term of the ORPO loss gradient is $h(d)$ which has the form:\n",
        "\n",
        "$$h(d) = \\frac{\\nabla_\\theta\\log P_\\theta(y_w|x)}{1-P_\\theta(y_w|x)} - \\frac{\\nabla_\\theta\\log P_\\theta(y_l|x)}{1-P_\\theta(y_l|x)}$$\n",
        "\n",
        "> For the chosen responses, this accelerates the model's adaptation toward the distribution of chosen responses as the likelihood increases.\n",
        "\n",
        "As the likelihood of chosen reponses ($P_\\theta(y_w|x)$) increases, the denominator ($1-P$) decreases and the first fraction increases, increasing the gradient and accelerating the model's adaptation toward predicting chosen responses.\n",
        "\n",
        "On the other hand, as the likelihood of the rejected response increases the denominator decreases and the second fraction increases, decreasing the gradient and slowing down the model's adapation toward the rejected response distribution.\n",
        "\n",
        "I've summarized the behavior of the two terms below:\n",
        "\n",
        "<img src=\"11.png\" style=\"width:100%;\">\n",
        "\n",
        "I see these two terms, $\\delta(d)$ and $h(d)$, contrasting each other and keeping the gradients from vanishing or exploding."
      ]
    },
    {
      "cell_type": "markdown",
      "metadata": {
        "id": "VvkzGVne4CEh"
      },
      "source": [
        "## Training"
      ]
    },
    {
      "cell_type": "markdown",
      "metadata": {
        "id": "OJ1I6ezD4EP6"
      },
      "source": [
        "In this section I'll recap the training details provided in the paper."
      ]
    },
    {
      "cell_type": "markdown",
      "metadata": {
        "id": "V8BpRvhr4DH-"
      },
      "source": [
        "### Models"
      ]
    },
    {
      "cell_type": "markdown",
      "metadata": {
        "id": "xVJ20smD4IZt"
      },
      "source": [
        "The authors trained the following models for SFT, PPO, DPO and ORPO to compare results across each other:\n",
        "\n",
        "- OPT (125M to 1.3B).\n",
        "- Phi-2 (2.7B).\n",
        "- Llama 2 (7B).\n",
        "- Mistral (7B).\n",
        "\n",
        "They used the following training techniques and hyperparameters:\n",
        "\n",
        "- Flash Attention 2.\n",
        "- Deep Speed Zero 2 (for OPT series and Phi-2).\n",
        "- FSDP (Fully Sharded Data Parallel) for Llama-2 and Mistral (both 7B).\n",
        "- AdamW and paged Adam optimizers.\n",
        "- Linear Warmup with Cosine Decay.\n",
        "- Input length of 1024 (HH dataset) and 2048 (UltraFeedback dataset).\n",
        "- SFT: Max LR of 1e-5, trained for 1 epoch.\n",
        "- DPO: $\\beta$=0.1, LR = 5e-6, 3 epochs.\n",
        "- ORPO: LR=8e-6, 10 epochs.\n",
        "\n",
        "<img src=\"12.png\" style=\"width:50%;\">"
      ]
    },
    {
      "cell_type": "markdown",
      "metadata": {
        "id": "i0LAabed5E88"
      },
      "source": [
        "### Datasets"
      ]
    },
    {
      "cell_type": "markdown",
      "metadata": {
        "id": "-BXxYedk5Gfy"
      },
      "source": [
        "- Anthropic's HH-RLHF.\n",
        "- Binarized UltraFeedback."
      ]
    },
    {
      "cell_type": "markdown",
      "metadata": {
        "id": "SGBQWazV5Lk4"
      },
      "source": [
        "### Reward Model"
      ]
    },
    {
      "cell_type": "markdown",
      "metadata": {
        "id": "WbeH8hvD5Mzn"
      },
      "source": [
        "The reward model is used to score the responses from the different models. They trained OPT 250M and 1.3B on each dataset for a single epoch."
      ]
    },
    {
      "cell_type": "markdown",
      "metadata": {
        "id": "PtGYI_eL5Zpe"
      },
      "source": [
        "## Results"
      ]
    },
    {
      "cell_type": "markdown",
      "metadata": {
        "id": "s5Qk0wMe5bUv"
      },
      "source": [
        "Their ORPO model performed better than their SFT, DPO and PPO models for each model family for AlpacaEval 1.0 and 2.0 (corrected for length-bias in models).\n",
        "\n",
        "<img src=\"13.png\" style=\"width:100%;\">"
      ]
    },
    {
      "cell_type": "markdown",
      "metadata": {
        "id": "zKTtm-Eu5pRV"
      },
      "source": [
        "On the MT-Bench dataset they found that:\n",
        "\n",
        "> In comparison to $\\lambda$ = 0.1, Mistral+ORPO (7B) with $\\lambda$ = 1.0 performs worse in extraction, math and reasoning=, which are the categories that generally require deterministic answers. On the other hand, it performs better in STEM, humanities, and roleplay, which ask the generations without hard answers.\n",
        "\n",
        "I will note that STEM contains science, engineering and math which can contain deterministic answers so I'm not sure this distinction between the two $\\lambda$ values holds."
      ]
    },
    {
      "cell_type": "markdown",
      "metadata": {
        "id": "L4zXznVN6T7B"
      },
      "source": [
        "On the HH-RLHF dataset, ORPO had high win-rates for 125M and 350M models against SFT and SFT+PPO, and high win-rate for 1.3B against SFT+DPO.\n",
        "\n",
        "<img src=\"14.png\" style=\"width:100%;\">"
      ]
    },
    {
      "cell_type": "markdown",
      "metadata": {
        "id": "RGY1h1BX6rlf"
      },
      "source": [
        "The trend was the same for the UltraFeedback dataset:\n",
        "\n",
        "<img src=\"15.png\" style=\"width:100%;\">"
      ]
    },
    {
      "cell_type": "markdown",
      "metadata": {
        "id": "wsDiZlN86wzm"
      },
      "source": [
        "### Computation Efficiency"
      ]
    },
    {
      "cell_type": "markdown",
      "metadata": {
        "id": "lFAXF_6T60V2"
      },
      "source": [
        "The authors found the following results as relating to computational efficiency:\n",
        "\n",
        "- ORPO does not require a reference model which in RLHF and DPO is the model trained with SFT used during training to keep the parameterized model from degenerating.\n",
        "- DPO and RLHF require two SFT models: a frozen reference model (KL term) and the model being trained.\n",
        "- ORPO only has one model: the model being trained with SFT. This requires half the forward passes of DPO or RLHF."
      ]
    },
    {
      "cell_type": "markdown",
      "metadata": {
        "id": "fu2RBO3h7POS"
      },
      "source": [
        "## Limitations"
      ]
    },
    {
      "cell_type": "markdown",
      "metadata": {
        "id": "p_bQQBAZ7QfB"
      },
      "source": [
        "The authors highlighted that their work lacks comparisons with alignment algorithms other than PPO and DPO (such KTO or IPO). They also only trained models that are up to 7B parameters in size."
      ]
    },
    {
      "cell_type": "markdown",
      "metadata": {
        "id": "zLjUuReP7ccF"
      },
      "source": [
        "## Future Work"
      ]
    },
    {
      "cell_type": "markdown",
      "metadata": {
        "id": "25qLDwjC7d84"
      },
      "source": [
        "The authors highlighted three areas of future work:\n",
        "\n",
        "- Evaluate ORPO performance on models larger than 7B parameters.\n",
        "- Evaluate the impact of ORPO on pretrained models.\n",
        "- Expand to consecutive preference alignment algorithms."
      ]
    },
    {
      "cell_type": "markdown",
      "metadata": {
        "id": "ZLxo9wvJ7t8t"
      },
      "source": [
        "---\n",
        "\n",
        "In the following sections I walk through some of the math in the paper."
      ]
    },
    {
      "cell_type": "markdown",
      "metadata": {
        "id": "mHqb1fWEvVb8"
      },
      "source": [
        "## Section 4: Odds Ratio Preference Optimization"
      ]
    },
    {
      "cell_type": "markdown",
      "metadata": {
        "id": "GNaZBmJz4NUl"
      },
      "source": [
        "### 4.1 Preliminaries"
      ]
    },
    {
      "cell_type": "markdown",
      "metadata": {
        "id": "5VBDEP0NvYTB"
      },
      "source": [
        "> Given an input sequence $x$, the average log-likelihood of generating the output sequence $y$, of length $m$ tokens, is computed as:\n",
        "\n",
        "$$\\log P_\\theta(y|x) = \\frac{1}{m}\\sum^m_{t=1} \\log P_\\theta(y_t|x,y_{<t})$$"
      ]
    },
    {
      "cell_type": "markdown",
      "metadata": {
        "id": "TkvNMX75wigA"
      },
      "source": [
        "Excellently worded explanations from ChatGPT (emphasis mine):\n",
        "\n",
        "> $\\frac{1}{m}$​: This term represents the reciprocal of the length of the output sequence $y$. It's the inverse of the number of tokens in the output sequence. This term normalizes the sum of log probabilities over the length of the sequence, **ensuring that longer sequences don't disproportionately influence the average log-likelihood**.\n",
        "\n",
        "> $\\log P_\\theta​(y_t​∣x,y_{<t}​)$: This term represents the logarithm of the probability of generating the current token $y_t$​ given the input sequence $x$ and the preceding tokens $y_{<t}$. It measures how likely the model thinks the current token $y_t$​ is, given the input $x$ and the previously generated tokens $y_{<t}$​."
      ]
    },
    {
      "cell_type": "markdown",
      "metadata": {
        "id": "IA47tlZuxefX"
      },
      "source": [
        "Here's what $log(x)$ looks like:"
      ]
    },
    {
      "cell_type": "markdown",
      "metadata": {
        "id": "hrptBwZqxhrq"
      },
      "source": [
        "<img src=\"16.png\" style=\"width:100%;\">"
      ]
    },
    {
      "cell_type": "markdown",
      "metadata": {
        "id": "xpfpSIwTxsHJ"
      },
      "source": [
        "The odds of generating the output sequence $y$ given an input sequence $x$:\n",
        "\n",
        "$$\\textbf{odds}_\\theta(y|x) = \\frac{P_\\theta(y|x)}{1-P_\\theta(y|x)}$$"
      ]
    },
    {
      "cell_type": "markdown",
      "metadata": {
        "id": "aYD6AK7c2iqq"
      },
      "source": [
        "> Intuitively $\\textbf{odds}_\\theta(y|x)=k$ implies that it is $k$ times more likely for the model $\\theta$ to generate the output sequence $y$ than not generating it.\n",
        "\n",
        "Writing that out:\n",
        "\n",
        "$$\\textbf{odds}_\\theta(y|x)= \\frac{P_\\theta(y|x)}{1-P_\\theta(y|x)} = k$$\n",
        "\n",
        "<br>\n",
        "\n",
        "$$\\frac{P_\\theta(y|x)}{1-P_\\theta(y|x)} = k$$\n",
        "\n",
        "<br>\n",
        "\n",
        "$$P_\\theta(y|x) = k[1-P_\\theta(y|x)]$$\n",
        "\n",
        "> it is $k$ times more likely to generate $y$ (i.e. $P_\\theta)$) than not generating it ($1-P_\\theta$)."
      ]
    },
    {
      "cell_type": "markdown",
      "metadata": {
        "id": "f90gCITn4tc9"
      },
      "source": [
        "> The odds ratio of the chosen response $y_w$ over the rejected response:\n",
        "\n",
        "$$\\textbf{OR}_\\theta(y_w,y_l) = \\frac{\\textbf{odds}_\\theta(y_w|x)}{\\textbf{odds}_\\theta(y_l|x)}$$\n",
        "\n",
        "> indicates how much more likely it is for the model $\\theta$ to generate $y_w$ than $y_l$ given input $x$.\n",
        "\n",
        "If the odds ratio is some value $r$:\n",
        "\n",
        "$$\\frac{\\textbf{odds}_\\theta(y_w|x)}{\\textbf{odds}_\\theta(y_l|x)} = r$$\n",
        "\n",
        "<br>\n",
        "\n",
        "$$\\textbf{odds}_\\theta(y_w|x) = r \\cdot \\textbf{odds}_\\theta(y_l|x)$$\n",
        "\n",
        "The odds of the model generating a chosen response is $r$ times the odds of it generating a rejected response."
      ]
    },
    {
      "cell_type": "markdown",
      "metadata": {
        "id": "oYTuDnhE6q9N"
      },
      "source": [
        "### 4.2 Objective Function of ORPO"
      ]
    },
    {
      "cell_type": "markdown",
      "metadata": {
        "id": "HKipBy186zfk"
      },
      "source": [
        "$$\\mathcal{L}_{ORPO}=\\mathbb{E}_{(x,y_w,y_l)}\\big[ \\mathcal{L}_{SFT} + \\lambda \\cdot \\mathcal{L}_{OR}\\big]$$\n",
        "\n",
        "Where:\n",
        "\n",
        "$$\\mathcal{L}_{SFT} \\text{ is the supervised fine-tuning loss (maximizes the likelihood of generating the reference tokens)}$$\n",
        "\n",
        "<br>\n",
        "\n",
        "$$\\mathcal{L}_{OR} \\text{ is the relative ratio loss (maximizes the odds ratio between the likelihood of generating the favored response } y_w\\text{ and the disfavored response } y_l)$$"
      ]
    },
    {
      "cell_type": "markdown",
      "metadata": {
        "id": "dc2I27vg8J93"
      },
      "source": [
        "#### Relative Ratio Loss $\\mathcal{L}_{OR}$"
      ]
    },
    {
      "cell_type": "markdown",
      "metadata": {
        "id": "mmjpRw_58WJZ"
      },
      "source": [
        "$$\\mathcal{L}_{OR} = - \\log \\sigma\\big(\\log \\frac{\\textbf{odds}_\\theta(y_w|x)}{\\textbf{odds}_\\theta(y_l|x)} \\big)$$"
      ]
    },
    {
      "cell_type": "markdown",
      "metadata": {
        "id": "ERRt6Nvp8v4s"
      },
      "source": [
        "The term inside log-sigmoid, $\\log \\frac{\\textbf{odds}_\\theta(y_w|x)}{\\textbf{odds}_\\theta(y_l|x)}$, increases as the odds of generating chosen responses increases (and therefore increases as the likelihood of the model generating chosen responses increases)."
      ]
    },
    {
      "cell_type": "markdown",
      "metadata": {
        "id": "4yPHTbcq9cQ3"
      },
      "source": [
        "$\\mathcal{L}_{OR}$, represented below by $-\\log\\sigma(x)$, decreases as x increases, meaning the loss decreases as the likelihood and the odds of the model generating chosen responses increases."
      ]
    },
    {
      "cell_type": "markdown",
      "metadata": {
        "id": "zyc2vnNj9ols"
      },
      "source": [
        "<img src=\"17.png\" style=\"width:100%;\">"
      ]
    },
    {
      "cell_type": "markdown",
      "metadata": {
        "id": "MXVvgdkcaOGG"
      },
      "source": [
        "Minimizing $\\mathcal{L}_{OR}$ means maximizing $\\frac{\\textbf{odds}_\\theta(y_w|x)}{\\textbf{odds}_\\theta(y_l|x)}$"
      ]
    },
    {
      "cell_type": "markdown",
      "metadata": {
        "id": "NksjJgMC-aDI"
      },
      "source": [
        "### 4.3 Gradient of ORPO"
      ]
    },
    {
      "cell_type": "markdown",
      "metadata": {
        "id": "wCYm9bSK-f5H"
      },
      "source": [
        "$$\\nabla_\\theta\\mathcal{L}_{OR}=\\delta(d) \\cdot h(d)$$\n",
        "\n",
        "Where:\n",
        "\n",
        "$$\\delta(d) \\text{ penalizes the wrong predictions}$$\n",
        "$$h(d) \\text{ contrasts between chosen and rejected responses}$$\n",
        "$$d = (x, y_w, y_l) \\sim D$$"
      ]
    },
    {
      "cell_type": "markdown",
      "metadata": {
        "id": "5zQfgf0SADbu"
      },
      "source": [
        "Full form of $\\delta(d)$:"
      ]
    },
    {
      "cell_type": "markdown",
      "metadata": {
        "id": "rGIN5uKRAIPf"
      },
      "source": [
        "$$\\delta(d) = \\big[1 + \\frac{\\textbf{odds}_\\theta P(y_w|x)}{\\textbf{odds}_\\theta P(y_l|x)} \\big]^{-1}$$\n",
        "\n",
        "<br>\n",
        "\n"
      ]
    },
    {
      "cell_type": "markdown",
      "metadata": {
        "id": "6m0ljzTaDBx2"
      },
      "source": [
        "Visualizing this as $\\frac{1}{1+x}$, as the odds ratio increases (odds of generating favored responses increases) $delta(d)$ decreases."
      ]
    },
    {
      "cell_type": "markdown",
      "metadata": {
        "id": "Q_KCzZn6DH7z"
      },
      "source": [
        "<img src=\"18.png\" style=\"width:100%;\">"
      ]
    },
    {
      "cell_type": "markdown",
      "metadata": {
        "id": "fYPqMMFkBJWk"
      },
      "source": [
        "Rewriting that by expanding out the fraction in multiple steps. First, replace $1$ with an equivalent (rejected odds divided by rejected odds):\n",
        "\n",
        "$$\\delta(d) = \\big[\\frac{\\textbf{odds}_\\theta P(y_l|x)}{\\textbf{odds}_\\theta P(y_l|x)}  + \\frac{\\textbf{odds}_\\theta P(y_w|x)}{\\textbf{odds}_\\theta P(y_l|x)} \\big]^{-1}$$"
      ]
    },
    {
      "cell_type": "markdown",
      "metadata": {
        "id": "RUX5YdluBK6Z"
      },
      "source": [
        "Now that they have the same denominator, add the fractions:\n",
        "\n",
        "<br>\n",
        "\n",
        "$$\\delta(d) = \\big[\\frac{\\textbf{odds}_\\theta P(y_l|x) +\\textbf{odds}_\\theta P(y_w|x)}{\\textbf{odds}_\\theta P(y_l|x)} \\big]^{-1}$$"
      ]
    },
    {
      "cell_type": "markdown",
      "metadata": {
        "id": "nzPApd1_BpIr"
      },
      "source": [
        "Taking the inverse (exponent of $-1$), flips the fraction:\n",
        "\n",
        "<br>\n",
        "\n",
        "$$\\delta(d) = \\big[\\frac{\\textbf{odds}_\\theta P(y_l|x)}{\\textbf{odds}_\\theta P(y_l|x) +\\textbf{odds}_\\theta P(y_w|x)} \\big]$$"
      ]
    },
    {
      "cell_type": "markdown",
      "metadata": {
        "id": "Ljh4dfwCB2h5"
      },
      "source": [
        "I find this version more intuitive as it's easier to see that as the odds of generating rejected responses increases, $\\delta(d)$ **increases**. As the odds of generating favored responses increases, $\\delta(d)$ **decreases**.  "
      ]
    },
    {
      "cell_type": "markdown",
      "metadata": {
        "id": "GPEhj09nDcl_"
      },
      "source": [
        "> When the odds of the favored responses are relatively higher than the disfavored responses, $\\delta(d)$ will converge to 0.\n",
        "\n",
        "> This indicates that $\\delta(d)$ will play the role of a penalty term, accelerating the parameter updates  \n",
        "> if the model is more likely to generate the rejected responses."
      ]
    },
    {
      "cell_type": "markdown",
      "metadata": {
        "id": "VUgDdx_UEoy3"
      },
      "source": [
        "Full form of $h(d)$:"
      ]
    },
    {
      "cell_type": "markdown",
      "metadata": {
        "id": "sh5nFCQAaDpA"
      },
      "source": [
        "$$h(d) = \\frac{\\nabla_\\theta\\log P_\\theta(y_w|x)}{1-P_\\theta(y_w|x)} - \\frac{\\nabla_\\theta\\log P_\\theta(y_l|x)}{1-P_\\theta(y_l|x)}$$"
      ]
    },
    {
      "cell_type": "markdown",
      "metadata": {
        "id": "lIgMWUFzEtL-"
      },
      "source": [
        "> $h(d)$ implies a weighted contrast of the two gradients from the chosen and rejected responses. Specifically, $1-P(y|x)$ in the denominators amplifies the gradients when the corresponding side of the likelihood $P(y|x)$ is low. **For the chosen responses, this accelerates the model's adaptation toward the distribution of chosen responses as the likelihood increases.**"
      ]
    },
    {
      "cell_type": "markdown",
      "metadata": {
        "id": "BKCxub3DFNFA"
      },
      "source": [
        "The last sentence (that I bolded) clarifies the concept (that the previous sentence muddied for me). As $P_\\theta(y_w|x)$ increases, $1 - P_\\theta(y_w|x)$ decreases (towards 0) and the fraction $\\frac{\\nabla_\\theta\\log P_\\theta(y_w|x)}{1-P_\\theta(y_w|x)}$ increases (i.e. \"this accelerates the model's adaptation toward the distribution of chosen responses as the likelihood increases.\")."
      ]
    },
    {
      "cell_type": "markdown",
      "metadata": {
        "id": "AMasU6PyF352"
      },
      "source": [
        "Conversely, as $P_\\theta(y_l|x)$ increases (the likelihood of the model generating rejected responses), $1 - P_\\theta(y_l|x)$ decreases (towards 0) and the fraction $\\frac{\\nabla_\\theta\\log P_\\theta(y_l|x)}{1-P_\\theta(y_l|x)}$ increases. $h(d)$ gets smaller, slowing the parameter updates since the model is more likely to generate the rejected responses."
      ]
    },
    {
      "cell_type": "markdown",
      "metadata": {
        "id": "W0AUAQdnGcyR"
      },
      "source": [
        "My takeaway from the explanation of $\\delta(d)$ and $h(d)$ is that they are opposing forces that keep each other in check. If the model is more likely to generate rejected responses, $\\delta(d)$ accelerates the parameter updates  (i.e. increases the gradient) and $h(d)$ slows down the parameter updates (decreases the gradient). If the model is more likely to generate favored responses, $\\delta(d)$ slows down the parameter update (decreases the gradient) and $h(d)$ accelerates the parameter update (increases the gradient). The intuition (I think) is that if either term gets too large or too small, the other term counters it so you don't have vanishing or exploding gradients."
      ]
    },
    {
      "cell_type": "markdown",
      "metadata": {
        "id": "YwoYnZG9LEzC"
      },
      "source": [
        "## Section 7.1: Comparison to Probability Ratio"
      ]
    },
    {
      "cell_type": "markdown",
      "metadata": {
        "id": "85HXEv3zMLkS"
      },
      "source": [
        "The following equations are slightly modified equations from the paper, defining their experiment comparing probability ratio (PR) to odds ratio (OR):"
      ]
    },
    {
      "cell_type": "markdown",
      "metadata": {
        "id": "aN5USWN1Mccz"
      },
      "source": [
        "$X_1$ and $X_2$ are sampled from a uniform probability distribution.\n",
        "\n",
        "$$X_1, X_2 \\sim \\text{Unif}(0,1)$$\n",
        "\n"
      ]
    },
    {
      "cell_type": "markdown",
      "metadata": {
        "id": "fenmJVlKMr9e"
      },
      "source": [
        "$Y_{PR}$ is the log probability ratio:\n",
        "\n",
        "$$Y_{PR} \\sim \\beta(\\log\\frac{X_1}{X_2}) = \\beta(\\log X_1 - \\log X_2)$$"
      ]
    },
    {
      "cell_type": "markdown",
      "metadata": {
        "id": "mWjvFwy5NJBo"
      },
      "source": [
        "$Y_{OR}$ is the log odds ratio:\n",
        "\n",
        "$$Y_{OR} = \\log(\\frac{\\textbf{odds}(X_1)}{\\textbf{odds}(X_2)}) = \\log\\big(\\frac{X_1}{1-X_1}\\big) - \\log\\big(\\frac{X_2}{1-X_2}\\big)$$"
      ]
    },
    {
      "cell_type": "markdown",
      "metadata": {
        "id": "0AGFoYhANr0R"
      },
      "source": [
        "I used Claude 3's help in explaining the above equations and translating them to code so I could re-run the experiment in the paper:"
      ]
    },
    {
      "cell_type": "code",
      "execution_count": null,
      "metadata": {
        "colab": {
          "base_uri": "https://localhost:8080/",
          "height": 430
        },
        "id": "0x9llh6jFJ_M",
        "outputId": "0c9b5d4d-a523-4674-9382-46a9a2dbdb42"
      },
      "outputs": [
        {
          "data": {
            "image/png": "[encoded data removed]",
            "text/plain": [
              "<Figure size 640x480 with 1 Axes>"
            ]
          },
          "metadata": {},
          "output_type": "display_data"
        }
      ],
      "source": [
        "import numpy as np\n",
        "import matplotlib.pyplot as plt\n",
        "\n",
        "# Sample x1 and x2 from Uniform(0, 1)\n",
        "x1 = np.random.uniform(0, 1, 50000)\n",
        "x2 = np.random.uniform(0, 1, 50000)\n",
        "\n",
        "# Probability Ratio\n",
        "beta = 1.0  # Set the value of the proportionality constant\n",
        "y_pr = beta * (np.log(x1) - np.log(x2))\n",
        "\n",
        "# Odds Ratio\n",
        "y_or = np.log(x1 / (1 - x1)) - np.log(x2 / (1 - x2))\n",
        "\n",
        "# histogram bins\n",
        "bins = np.linspace(-10, 10, 100)\n",
        "\n",
        "plt.hist(y_pr, bins, alpha=0.5, label='PR')\n",
        "plt.hist(y_or, bins, alpha=0.5, label='OR')\n",
        "plt.legend(loc='upper right')\n",
        "plt.show()"
      ]
    },
    {
      "cell_type": "markdown",
      "metadata": {
        "id": "_Qh7W7pviBuJ"
      },
      "source": [
        "## TRL Library Implementation"
      ]
    },
    {
      "cell_type": "markdown",
      "metadata": {
        "id": "Y46kg4f0iLO1"
      },
      "source": [
        "$$\\mathcal{L}_{OR} = - \\log \\sigma\\big(\\log \\frac{\\textbf{odds}_\\theta(y_w|x)}{\\textbf{odds}_\\theta(y_l|x)} \\big)$$\n",
        "\n",
        "Given that:\n",
        "\n",
        "$$\\textbf{odds}_\\theta(y|x) = \\frac{P_\\theta(y|x)}{1-P_\\theta(y|x)}$$\n",
        "\n",
        "Plugging in the odds function:\n",
        "\n",
        "$$\\mathcal{L}_{OR} = - \\log \\sigma\\big(\\log \\frac{\\textbf{odds}_\\theta(y_w|x)}{\\textbf{odds}_\\theta(y_l|x)} \\big) = -\\log\\sigma(\\log(\\frac{\\frac{P_\\theta(y_w|x)}{1-P_\\theta(y_w|x)}}{\\frac{P_\\theta(y_l|x)}{1-P_\\theta(y_l|x)}}))$$\n",
        "\n",
        "Using log property of division:\n",
        "\n",
        "$$-\\log\\sigma(\\log(\\frac{\\frac{P_\\theta(y_w|x)}{1-P_\\theta(y_w|x)}}{\\frac{P_\\theta(y_l|x)}{1-P_\\theta(y_l|x)}})) = -\\log\\sigma(\\log(\\frac{P_\\theta(y_w|x)}{1-P_\\theta(y_w|x)}) - \\log({\\frac{P_\\theta(y_l|x)}{1-P_\\theta(y_l|x)}}))$$\n",
        "\n",
        "Using log property of division again:\n",
        "\n",
        "<br>\n",
        "\n",
        "$$= -\\log\\sigma(\\log P_\\theta(y_w|x)- \\log(1-P_\\theta(y_w|x)) - \\log P_\\theta(y_l|x) + \\log (1-P_\\theta(y_l|x)))$$\n",
        "\n",
        "Rewriting so it's cleaner:\n",
        "\n",
        "<br>\n",
        "\n",
        "$$-\\log\\sigma\\big(\\log P_\\theta(y_w|x)- \\log P_\\theta(y_l|x) - \\big[\\log(1-P_\\theta(y_w|x))  - \\log(1-P_\\theta(y_l|x))\\big]\\big)$$"
      ]
    },
    {
      "cell_type": "markdown",
      "metadata": {
        "id": "hY_0szbFkqaG"
      },
      "source": [
        "In the code below the components of this line:\n",
        "\n",
        "```python\n",
        "log_odds = (policy_chosen_logps - policy_rejected_logps) - (\n",
        "            torch.log1p(-torch.exp(policy_chosen_logps)) - torch.log1p(-torch.exp(policy_rejected_logps))\n",
        "        )\n",
        "```\n",
        "\n",
        "correspond to the following math as follows:\n",
        "\n",
        "\n",
        "```python\n",
        "policy_chosen_logps - policy_rejected_logps\n",
        "```\n",
        "\n",
        "$$\\log P_\\theta(y_w|x)- \\log P_\\theta(y_l|x)$$\n",
        "\n",
        "<br>\n",
        "<br>\n",
        "\n",
        "```python\n",
        "torch.log1p(-torch.exp(policy_chosen_logps)) - torch.log1p(-torch.exp(policy_rejected_logps))\n",
        "```\n",
        "\n",
        "$$\\big[\\log(1-P_\\theta(y_w|x)) - \\log(1-P_\\theta(y_l|x))\\big]$$"
      ]
    },
    {
      "cell_type": "markdown",
      "metadata": {
        "id": "AnC0plk4ki21"
      },
      "source": [
        "```python\n",
        "def odds_ratio_loss(\n",
        "        self,\n",
        "        policy_chosen_logps: torch.FloatTensor,\n",
        "        policy_rejected_logps: torch.FloatTensor,\n",
        "    ) -> Tuple[torch.FloatTensor, torch.FloatTensor, torch.FloatTensor, torch.FloatTensor, torch.FloatTensor]:\n",
        "        \"\"\"Compute ORPO's odds ratio (OR) loss for a batch of policy and reference model log probabilities.\n",
        "\n",
        "        Args:\n",
        "            policy_chosen_logps: Log probabilities of the policy model for the chosen responses. Shape: (batch_size,)\n",
        "            policy_rejected_logps: Log probabilities of the policy model for the rejected responses. Shape: (batch_size,)\n",
        "\n",
        "        Returns:\n",
        "            A tuple of three tensors: (losses, chosen_rewards, rejected_rewards).\n",
        "            The losses tensor contains the ORPO loss for each example in the batch.\n",
        "            The chosen_rewards and rejected_rewards tensors contain the rewards for the chosen and rejected responses, respectively.\n",
        "            The log odds ratio of the chosen responses over the rejected responses ratio for logging purposes.\n",
        "            The `log(sigmoid(log_odds_chosen))` for logging purposes.\n",
        "        \"\"\"\n",
        "\n",
        "        # Derived from Eqs. (4) and (7) from https://arxiv.org/abs/2403.07691 by using log identities and exp(log(P(y|x)) = P(y|x)\n",
        "        log_odds = (policy_chosen_logps - policy_rejected_logps) - (\n",
        "            torch.log1p(-torch.exp(policy_chosen_logps)) - torch.log1p(-torch.exp(policy_rejected_logps))\n",
        "        )\n",
        "        sig_ratio = F.sigmoid(log_odds)\n",
        "        ratio = torch.log(sig_ratio)\n",
        "        losses = self.beta * ratio\n",
        "\n",
        "        chosen_rewards = self.beta * (policy_chosen_logps.to(self.accelerator.device)).detach()\n",
        "        rejected_rewards = self.beta * (policy_rejected_logps.to(self.accelerator.device)).detach()\n",
        "\n",
        "        return losses, chosen_rewards, rejected_rewards, torch.mean(ratio).item(), torch.mean(log_odds).item()\n",
        "```"
      ]
    }
  ],
  "metadata": {
    "colab": {
      "provenance": []
    },
    "kernelspec": {
      "display_name": "Python 3",
      "name": "python3"
    },
    "language_info": {
      "name": "python"
    }
  },
  "nbformat": 4,
  "nbformat_minor": 0
}

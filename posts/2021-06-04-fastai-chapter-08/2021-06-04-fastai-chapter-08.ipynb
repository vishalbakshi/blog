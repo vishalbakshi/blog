{
 "cells": [
  {
   "attachments": {},
   "cell_type": "markdown",
   "metadata": {},
   "source": [
    "---\n",
    "title: \"fast.ai Chapter 8: Collaborative Filter Deep Dive\"\n",
    "date: '2021-06-04'\n",
    "author: \"Vishal Bakshi\"\n",
    "categories:\n",
    "    - deep learning\n",
    "    - python\n",
    "freeze: true\n",
    "---"
   ]
  },
  {
   "cell_type": "code",
   "execution_count": null,
   "metadata": {
    "id": "_0gYJp6HK-1d"
   },
   "outputs": [],
   "source": [
    "#| include: false\n",
    "!pip install -Uqq fastai \n",
    "!pip install -Uqq fastcore\n",
    "\n",
    "from IPython.display import HTML\n",
    "from fastai.vision.all import *\n",
    "\n",
    "from google.colab import drive\n",
    "drive.mount('/content/gdrive')\n",
    "\n",
    "import fastai\n",
    "fastai.__version__ == '2.3.1'"
   ]
  },
  {
   "cell_type": "markdown",
   "metadata": {
    "id": "vyVrXBMbBXop"
   },
   "source": [
    "Here's the video walkthrough of this notebook"
   ]
  },
  {
   "cell_type": "code",
   "execution_count": 2,
   "metadata": {
    "colab": {
     "base_uri": "https://localhost:8080/",
     "height": 336
    },
    "id": "LgoOw560Bd1B",
    "outputId": "43a671a1-6d4c-482a-90ac-8df4549a98cc"
   },
   "outputs": [
    {
     "data": {
      "text/html": [
       "<iframe width=\"560\" height=\"315\" src=\"https://www.youtube.com/embed/MgRNk9DUqN8\" title=\"YouTube video player\" frameborder=\"0\" allow=\"accelerometer; autoplay; clipboard-write; encrypted-media; gyroscope; picture-in-picture\" allowfullscreen></iframe>"
      ],
      "text/plain": [
       "<IPython.core.display.HTML object>"
      ]
     },
     "execution_count": 2,
     "metadata": {
      "tags": []
     },
     "output_type": "execute_result"
    }
   ],
   "source": [
    "HTML('<iframe width=\"560\" height=\"315\" src=\"https://www.youtube.com/embed/MgRNk9DUqN8\" title=\"YouTube video player\" frameborder=\"0\" allow=\"accelerometer; autoplay; clipboard-write; encrypted-media; gyroscope; picture-in-picture\" allowfullscreen></iframe>')"
   ]
  },
  {
   "attachments": {},
   "cell_type": "markdown",
   "metadata": {
    "id": "npXDJGz8NeRX"
   },
   "source": [
    "![Scatter plot for a 2-component Principal Component Analysis](collaborative-filter-plot.png)\n",
    "\n",
    "In this notebook, I'll walkthrough the code and concepts introduced in Chapter 8 of the fastai textbook. This chapter explores the various ways fastai can handle a collaborative filtering problem."
   ]
  },
  {
   "cell_type": "markdown",
   "metadata": {
    "id": "dlyiTruBNvJQ"
   },
   "source": [
    "## What is Collaborative Filtering?"
   ]
  },
  {
   "cell_type": "markdown",
   "metadata": {
    "id": "wRmzSLDbNxJc"
   },
   "source": [
    "In a situation where two variables have some numeric relationship, such as **users** rating **movies**, collaborative filtering is a solution for predicting ratings that are blank, based on existing data. \n",
    "\n",
    "A machine learning model for collaborative filtering implicitly learns the answers to the following questions:\n",
    "\n",
    "- What types of movies do users like?\n",
    "- What are characteristics of each movie?\n",
    "\n"
   ]
  },
  {
   "cell_type": "markdown",
   "metadata": {
    "id": "rWTAzZ2CO45k"
   },
   "source": [
    "### Latent Factors"
   ]
  },
  {
   "cell_type": "markdown",
   "metadata": {
    "id": "5PNKVMBCO6c8"
   },
   "source": [
    "For the movie rating example, latent factors are the \"types of movies\" users like and \"characteristics\" of each movie. Latent factors are not explicitly categorical, they are numeric values, but they represent the implicit categories of each variable. \n",
    "\n",
    "The reason that they are implicit categories, is that the model learns the ideal latent factors as it trains on the dataset, observing patterns between users and their movie ratings. "
   ]
  },
  {
   "cell_type": "markdown",
   "metadata": {
    "id": "qmjvOUB3SFKK"
   },
   "source": [
    "## MovieLens 100K Dataset"
   ]
  },
  {
   "cell_type": "markdown",
   "metadata": {
    "id": "GuljPZ8rSIvD"
   },
   "source": [
    "The dataset used to train the collaborative filtering model is a subset (100,000 rows in length) of the [full MovieLens dataset](https://oreil.ly/gP3Q5) which is 25 million rows."
   ]
  },
  {
   "cell_type": "code",
   "execution_count": null,
   "metadata": {
    "colab": {
     "base_uri": "https://localhost:8080/",
     "height": 17
    },
    "id": "69SrmHiVLOq8",
    "outputId": "12673166-c442-448d-81f9-facf8239c2ec"
   },
   "outputs": [
    {
     "data": {
      "text/html": [],
      "text/plain": [
       "<IPython.core.display.HTML object>"
      ]
     },
     "metadata": {
      "tags": []
     },
     "output_type": "display_data"
    }
   ],
   "source": [
    "# a first look at the data\n",
    "from fastai.collab import *\n",
    "from fastai.tabular.all import *\n",
    "path = untar_data(URLs.ML_100k)"
   ]
  },
  {
   "cell_type": "markdown",
   "metadata": {
    "id": "y6UmMMyRSt3u"
   },
   "source": [
    "The dataset lists users, movies, ratings and a timestamp."
   ]
  },
  {
   "cell_type": "code",
   "execution_count": null,
   "metadata": {
    "colab": {
     "base_uri": "https://localhost:8080/",
     "height": 204
    },
    "id": "CTymBwY_L6c9",
    "outputId": "52152746-d754-4215-dc9a-87927626aed6"
   },
   "outputs": [
    {
     "data": {
      "text/html": [
       "<div>\n",
       "<style scoped>\n",
       "    .dataframe tbody tr th:only-of-type {\n",
       "        vertical-align: middle;\n",
       "    }\n",
       "\n",
       "    .dataframe tbody tr th {\n",
       "        vertical-align: top;\n",
       "    }\n",
       "\n",
       "    .dataframe thead th {\n",
       "        text-align: right;\n",
       "    }\n",
       "</style>\n",
       "<table border=\"1\" class=\"dataframe\">\n",
       "  <thead>\n",
       "    <tr style=\"text-align: right;\">\n",
       "      <th></th>\n",
       "      <th>user</th>\n",
       "      <th>movie</th>\n",
       "      <th>rating</th>\n",
       "      <th>timestamp</th>\n",
       "    </tr>\n",
       "  </thead>\n",
       "  <tbody>\n",
       "    <tr>\n",
       "      <th>0</th>\n",
       "      <td>196</td>\n",
       "      <td>242</td>\n",
       "      <td>3</td>\n",
       "      <td>881250949</td>\n",
       "    </tr>\n",
       "    <tr>\n",
       "      <th>1</th>\n",
       "      <td>186</td>\n",
       "      <td>302</td>\n",
       "      <td>3</td>\n",
       "      <td>891717742</td>\n",
       "    </tr>\n",
       "    <tr>\n",
       "      <th>2</th>\n",
       "      <td>22</td>\n",
       "      <td>377</td>\n",
       "      <td>1</td>\n",
       "      <td>878887116</td>\n",
       "    </tr>\n",
       "    <tr>\n",
       "      <th>3</th>\n",
       "      <td>244</td>\n",
       "      <td>51</td>\n",
       "      <td>2</td>\n",
       "      <td>880606923</td>\n",
       "    </tr>\n",
       "    <tr>\n",
       "      <th>4</th>\n",
       "      <td>166</td>\n",
       "      <td>346</td>\n",
       "      <td>1</td>\n",
       "      <td>886397596</td>\n",
       "    </tr>\n",
       "  </tbody>\n",
       "</table>\n",
       "</div>"
      ],
      "text/plain": [
       "   user  movie  rating  timestamp\n",
       "0   196    242       3  881250949\n",
       "1   186    302       3  891717742\n",
       "2    22    377       1  878887116\n",
       "3   244     51       2  880606923\n",
       "4   166    346       1  886397596"
      ]
     },
     "execution_count": 9,
     "metadata": {
      "tags": []
     },
     "output_type": "execute_result"
    }
   ],
   "source": [
    "# load the data into a DataFrame\n",
    "ratings = pd.read_csv(path/'u.data', delimiter='\\t', header=None, names=['user', 'movie', 'rating', 'timestamp'])\n",
    "ratings.head()"
   ]
  },
  {
   "cell_type": "markdown",
   "metadata": {
    "id": "U_TBLVLTToNz"
   },
   "source": [
    "Before we get into the training, I want to familiarize myself with how the data is structured. There are 943 unique users and 1682 unique movies."
   ]
  },
  {
   "cell_type": "code",
   "execution_count": null,
   "metadata": {
    "colab": {
     "base_uri": "https://localhost:8080/"
    },
    "id": "KdddzzlBPJfC",
    "outputId": "cfb4dcd5-008e-434e-df61-ebf7d630d68b"
   },
   "outputs": [
    {
     "data": {
      "text/plain": [
       "(943, 1682)"
      ]
     },
     "execution_count": 10,
     "metadata": {
      "tags": []
     },
     "output_type": "execute_result"
    }
   ],
   "source": [
    "# how many unique users and movies are there?\n",
    "len(ratings['user'].unique()), len(ratings['movie'].unique())"
   ]
  },
  {
   "cell_type": "markdown",
   "metadata": {
    "id": "rZ0Ch1dxTq1n"
   },
   "source": [
    "The movie IDs are a consecutive range from 1 to 1682 and the user IDs are a consecutive range from 1 to 943. The movie ratings range from 1 to 5."
   ]
  },
  {
   "cell_type": "code",
   "execution_count": null,
   "metadata": {
    "colab": {
     "base_uri": "https://localhost:8080/"
    },
    "id": "7hQKCmxTPVw9",
    "outputId": "7c20e6f6-d2af-469b-9ffa-7ef6362d23fb"
   },
   "outputs": [
    {
     "data": {
      "text/plain": [
       "1682"
      ]
     },
     "execution_count": 11,
     "metadata": {
      "tags": []
     },
     "output_type": "execute_result"
    }
   ],
   "source": [
    "# are movie IDs consecutive?\n",
    "(ratings['movie'].sort_values().unique() == np.array(range(1,1683))).sum()"
   ]
  },
  {
   "cell_type": "code",
   "execution_count": null,
   "metadata": {
    "colab": {
     "base_uri": "https://localhost:8080/"
    },
    "id": "xcj9950_P2cL",
    "outputId": "78e8df0c-2dfb-4308-811d-4bdaada2d747"
   },
   "outputs": [
    {
     "data": {
      "text/plain": [
       "943"
      ]
     },
     "execution_count": 12,
     "metadata": {
      "tags": []
     },
     "output_type": "execute_result"
    }
   ],
   "source": [
    "# are user IDs consecutive?\n",
    "(ratings['user'].sort_values().unique() == np.array(range(1,944))).sum()"
   ]
  },
  {
   "cell_type": "code",
   "execution_count": null,
   "metadata": {
    "colab": {
     "base_uri": "https://localhost:8080/"
    },
    "id": "e4BtUcILYfNO",
    "outputId": "23708cce-bc66-4774-cff4-9e2e01d3b848"
   },
   "outputs": [
    {
     "data": {
      "text/plain": [
       "(1, 5)"
      ]
     },
     "execution_count": 13,
     "metadata": {
      "tags": []
     },
     "output_type": "execute_result"
    }
   ],
   "source": [
    "# what is the range of ratings?\n",
    "ratings['rating'].min(), ratings['rating'].max()"
   ]
  },
  {
   "cell_type": "markdown",
   "metadata": {
    "id": "2Z4RSC2cTuYF"
   },
   "source": [
    "To visualize the problem we are trying to solve with collaborative filtering the book recommended that we observe a cross-tabulation of the data because then we can see that what we are trying to predict are the null values between user and movie, and what we are training our model on are the non-null ratings in the dataset. \n",
    "\n",
    "The model will learn something about user 2 and movie 2 in order to predict what rating that user would give that movie. That \"something\" the model will learn are the latent factors for users and latent factors for movies."
   ]
  },
  {
   "cell_type": "code",
   "execution_count": null,
   "metadata": {
    "colab": {
     "base_uri": "https://localhost:8080/",
     "height": 470
    },
    "id": "FiJizmYcMFX7",
    "outputId": "da05da90-befd-451a-eb31-853ec7151832"
   },
   "outputs": [
    {
     "data": {
      "text/html": [
       "<div>\n",
       "<style scoped>\n",
       "    .dataframe tbody tr th:only-of-type {\n",
       "        vertical-align: middle;\n",
       "    }\n",
       "\n",
       "    .dataframe tbody tr th {\n",
       "        vertical-align: top;\n",
       "    }\n",
       "\n",
       "    .dataframe thead th {\n",
       "        text-align: right;\n",
       "    }\n",
       "</style>\n",
       "<table border=\"1\" class=\"dataframe\">\n",
       "  <thead>\n",
       "    <tr style=\"text-align: right;\">\n",
       "      <th>movie</th>\n",
       "      <th>1</th>\n",
       "      <th>2</th>\n",
       "      <th>3</th>\n",
       "      <th>4</th>\n",
       "      <th>5</th>\n",
       "      <th>6</th>\n",
       "      <th>7</th>\n",
       "      <th>8</th>\n",
       "      <th>9</th>\n",
       "      <th>10</th>\n",
       "      <th>11</th>\n",
       "      <th>12</th>\n",
       "      <th>13</th>\n",
       "      <th>14</th>\n",
       "      <th>15</th>\n",
       "      <th>16</th>\n",
       "      <th>17</th>\n",
       "      <th>18</th>\n",
       "      <th>19</th>\n",
       "      <th>20</th>\n",
       "      <th>21</th>\n",
       "      <th>22</th>\n",
       "      <th>23</th>\n",
       "      <th>24</th>\n",
       "      <th>25</th>\n",
       "      <th>26</th>\n",
       "      <th>27</th>\n",
       "      <th>28</th>\n",
       "      <th>29</th>\n",
       "      <th>30</th>\n",
       "      <th>31</th>\n",
       "      <th>32</th>\n",
       "      <th>33</th>\n",
       "      <th>34</th>\n",
       "      <th>35</th>\n",
       "      <th>36</th>\n",
       "      <th>37</th>\n",
       "      <th>38</th>\n",
       "      <th>39</th>\n",
       "      <th>40</th>\n",
       "      <th>...</th>\n",
       "      <th>1643</th>\n",
       "      <th>1644</th>\n",
       "      <th>1645</th>\n",
       "      <th>1646</th>\n",
       "      <th>1647</th>\n",
       "      <th>1648</th>\n",
       "      <th>1649</th>\n",
       "      <th>1650</th>\n",
       "      <th>1651</th>\n",
       "      <th>1652</th>\n",
       "      <th>1653</th>\n",
       "      <th>1654</th>\n",
       "      <th>1655</th>\n",
       "      <th>1656</th>\n",
       "      <th>1657</th>\n",
       "      <th>1658</th>\n",
       "      <th>1659</th>\n",
       "      <th>1660</th>\n",
       "      <th>1661</th>\n",
       "      <th>1662</th>\n",
       "      <th>1663</th>\n",
       "      <th>1664</th>\n",
       "      <th>1665</th>\n",
       "      <th>1666</th>\n",
       "      <th>1667</th>\n",
       "      <th>1668</th>\n",
       "      <th>1669</th>\n",
       "      <th>1670</th>\n",
       "      <th>1671</th>\n",
       "      <th>1672</th>\n",
       "      <th>1673</th>\n",
       "      <th>1674</th>\n",
       "      <th>1675</th>\n",
       "      <th>1676</th>\n",
       "      <th>1677</th>\n",
       "      <th>1678</th>\n",
       "      <th>1679</th>\n",
       "      <th>1680</th>\n",
       "      <th>1681</th>\n",
       "      <th>1682</th>\n",
       "    </tr>\n",
       "    <tr>\n",
       "      <th>user</th>\n",
       "      <th></th>\n",
       "      <th></th>\n",
       "      <th></th>\n",
       "      <th></th>\n",
       "      <th></th>\n",
       "      <th></th>\n",
       "      <th></th>\n",
       "      <th></th>\n",
       "      <th></th>\n",
       "      <th></th>\n",
       "      <th></th>\n",
       "      <th></th>\n",
       "      <th></th>\n",
       "      <th></th>\n",
       "      <th></th>\n",
       "      <th></th>\n",
       "      <th></th>\n",
       "      <th></th>\n",
       "      <th></th>\n",
       "      <th></th>\n",
       "      <th></th>\n",
       "      <th></th>\n",
       "      <th></th>\n",
       "      <th></th>\n",
       "      <th></th>\n",
       "      <th></th>\n",
       "      <th></th>\n",
       "      <th></th>\n",
       "      <th></th>\n",
       "      <th></th>\n",
       "      <th></th>\n",
       "      <th></th>\n",
       "      <th></th>\n",
       "      <th></th>\n",
       "      <th></th>\n",
       "      <th></th>\n",
       "      <th></th>\n",
       "      <th></th>\n",
       "      <th></th>\n",
       "      <th></th>\n",
       "      <th></th>\n",
       "      <th></th>\n",
       "      <th></th>\n",
       "      <th></th>\n",
       "      <th></th>\n",
       "      <th></th>\n",
       "      <th></th>\n",
       "      <th></th>\n",
       "      <th></th>\n",
       "      <th></th>\n",
       "      <th></th>\n",
       "      <th></th>\n",
       "      <th></th>\n",
       "      <th></th>\n",
       "      <th></th>\n",
       "      <th></th>\n",
       "      <th></th>\n",
       "      <th></th>\n",
       "      <th></th>\n",
       "      <th></th>\n",
       "      <th></th>\n",
       "      <th></th>\n",
       "      <th></th>\n",
       "      <th></th>\n",
       "      <th></th>\n",
       "      <th></th>\n",
       "      <th></th>\n",
       "      <th></th>\n",
       "      <th></th>\n",
       "      <th></th>\n",
       "      <th></th>\n",
       "      <th></th>\n",
       "      <th></th>\n",
       "      <th></th>\n",
       "      <th></th>\n",
       "      <th></th>\n",
       "      <th></th>\n",
       "      <th></th>\n",
       "      <th></th>\n",
       "      <th></th>\n",
       "      <th></th>\n",
       "    </tr>\n",
       "  </thead>\n",
       "  <tbody>\n",
       "    <tr>\n",
       "      <th>1</th>\n",
       "      <td>5.0</td>\n",
       "      <td>3.0</td>\n",
       "      <td>4.0</td>\n",
       "      <td>3.0</td>\n",
       "      <td>3.0</td>\n",
       "      <td>5.0</td>\n",
       "      <td>4.0</td>\n",
       "      <td>1.0</td>\n",
       "      <td>5.0</td>\n",
       "      <td>3.0</td>\n",
       "      <td>2.0</td>\n",
       "      <td>5.0</td>\n",
       "      <td>5.0</td>\n",
       "      <td>5.0</td>\n",
       "      <td>5.0</td>\n",
       "      <td>5.0</td>\n",
       "      <td>3.0</td>\n",
       "      <td>4.0</td>\n",
       "      <td>5.0</td>\n",
       "      <td>4.0</td>\n",
       "      <td>1.0</td>\n",
       "      <td>4.0</td>\n",
       "      <td>4.0</td>\n",
       "      <td>3.0</td>\n",
       "      <td>4.0</td>\n",
       "      <td>3.0</td>\n",
       "      <td>2.0</td>\n",
       "      <td>4.0</td>\n",
       "      <td>1.0</td>\n",
       "      <td>3.0</td>\n",
       "      <td>3.0</td>\n",
       "      <td>5.0</td>\n",
       "      <td>4.0</td>\n",
       "      <td>2.0</td>\n",
       "      <td>1.0</td>\n",
       "      <td>2.0</td>\n",
       "      <td>2.0</td>\n",
       "      <td>3.0</td>\n",
       "      <td>4.0</td>\n",
       "      <td>3.0</td>\n",
       "      <td>...</td>\n",
       "      <td>NaN</td>\n",
       "      <td>NaN</td>\n",
       "      <td>NaN</td>\n",
       "      <td>NaN</td>\n",
       "      <td>NaN</td>\n",
       "      <td>NaN</td>\n",
       "      <td>NaN</td>\n",
       "      <td>NaN</td>\n",
       "      <td>NaN</td>\n",
       "      <td>NaN</td>\n",
       "      <td>NaN</td>\n",
       "      <td>NaN</td>\n",
       "      <td>NaN</td>\n",
       "      <td>NaN</td>\n",
       "      <td>NaN</td>\n",
       "      <td>NaN</td>\n",
       "      <td>NaN</td>\n",
       "      <td>NaN</td>\n",
       "      <td>NaN</td>\n",
       "      <td>NaN</td>\n",
       "      <td>NaN</td>\n",
       "      <td>NaN</td>\n",
       "      <td>NaN</td>\n",
       "      <td>NaN</td>\n",
       "      <td>NaN</td>\n",
       "      <td>NaN</td>\n",
       "      <td>NaN</td>\n",
       "      <td>NaN</td>\n",
       "      <td>NaN</td>\n",
       "      <td>NaN</td>\n",
       "      <td>NaN</td>\n",
       "      <td>NaN</td>\n",
       "      <td>NaN</td>\n",
       "      <td>NaN</td>\n",
       "      <td>NaN</td>\n",
       "      <td>NaN</td>\n",
       "      <td>NaN</td>\n",
       "      <td>NaN</td>\n",
       "      <td>NaN</td>\n",
       "      <td>NaN</td>\n",
       "    </tr>\n",
       "    <tr>\n",
       "      <th>2</th>\n",
       "      <td>4.0</td>\n",
       "      <td>NaN</td>\n",
       "      <td>NaN</td>\n",
       "      <td>NaN</td>\n",
       "      <td>NaN</td>\n",
       "      <td>NaN</td>\n",
       "      <td>NaN</td>\n",
       "      <td>NaN</td>\n",
       "      <td>NaN</td>\n",
       "      <td>2.0</td>\n",
       "      <td>NaN</td>\n",
       "      <td>NaN</td>\n",
       "      <td>4.0</td>\n",
       "      <td>4.0</td>\n",
       "      <td>NaN</td>\n",
       "      <td>NaN</td>\n",
       "      <td>NaN</td>\n",
       "      <td>NaN</td>\n",
       "      <td>3.0</td>\n",
       "      <td>NaN</td>\n",
       "      <td>NaN</td>\n",
       "      <td>NaN</td>\n",
       "      <td>NaN</td>\n",
       "      <td>NaN</td>\n",
       "      <td>4.0</td>\n",
       "      <td>NaN</td>\n",
       "      <td>NaN</td>\n",
       "      <td>NaN</td>\n",
       "      <td>NaN</td>\n",
       "      <td>NaN</td>\n",
       "      <td>NaN</td>\n",
       "      <td>NaN</td>\n",
       "      <td>NaN</td>\n",
       "      <td>NaN</td>\n",
       "      <td>NaN</td>\n",
       "      <td>NaN</td>\n",
       "      <td>NaN</td>\n",
       "      <td>NaN</td>\n",
       "      <td>NaN</td>\n",
       "      <td>NaN</td>\n",
       "      <td>...</td>\n",
       "      <td>NaN</td>\n",
       "      <td>NaN</td>\n",
       "      <td>NaN</td>\n",
       "      <td>NaN</td>\n",
       "      <td>NaN</td>\n",
       "      <td>NaN</td>\n",
       "      <td>NaN</td>\n",
       "      <td>NaN</td>\n",
       "      <td>NaN</td>\n",
       "      <td>NaN</td>\n",
       "      <td>NaN</td>\n",
       "      <td>NaN</td>\n",
       "      <td>NaN</td>\n",
       "      <td>NaN</td>\n",
       "      <td>NaN</td>\n",
       "      <td>NaN</td>\n",
       "      <td>NaN</td>\n",
       "      <td>NaN</td>\n",
       "      <td>NaN</td>\n",
       "      <td>NaN</td>\n",
       "      <td>NaN</td>\n",
       "      <td>NaN</td>\n",
       "      <td>NaN</td>\n",
       "      <td>NaN</td>\n",
       "      <td>NaN</td>\n",
       "      <td>NaN</td>\n",
       "      <td>NaN</td>\n",
       "      <td>NaN</td>\n",
       "      <td>NaN</td>\n",
       "      <td>NaN</td>\n",
       "      <td>NaN</td>\n",
       "      <td>NaN</td>\n",
       "      <td>NaN</td>\n",
       "      <td>NaN</td>\n",
       "      <td>NaN</td>\n",
       "      <td>NaN</td>\n",
       "      <td>NaN</td>\n",
       "      <td>NaN</td>\n",
       "      <td>NaN</td>\n",
       "      <td>NaN</td>\n",
       "    </tr>\n",
       "    <tr>\n",
       "      <th>3</th>\n",
       "      <td>NaN</td>\n",
       "      <td>NaN</td>\n",
       "      <td>NaN</td>\n",
       "      <td>NaN</td>\n",
       "      <td>NaN</td>\n",
       "      <td>NaN</td>\n",
       "      <td>NaN</td>\n",
       "      <td>NaN</td>\n",
       "      <td>NaN</td>\n",
       "      <td>NaN</td>\n",
       "      <td>NaN</td>\n",
       "      <td>NaN</td>\n",
       "      <td>NaN</td>\n",
       "      <td>NaN</td>\n",
       "      <td>NaN</td>\n",
       "      <td>NaN</td>\n",
       "      <td>NaN</td>\n",
       "      <td>NaN</td>\n",
       "      <td>NaN</td>\n",
       "      <td>NaN</td>\n",
       "      <td>NaN</td>\n",
       "      <td>NaN</td>\n",
       "      <td>NaN</td>\n",
       "      <td>NaN</td>\n",
       "      <td>NaN</td>\n",
       "      <td>NaN</td>\n",
       "      <td>NaN</td>\n",
       "      <td>NaN</td>\n",
       "      <td>NaN</td>\n",
       "      <td>NaN</td>\n",
       "      <td>NaN</td>\n",
       "      <td>NaN</td>\n",
       "      <td>NaN</td>\n",
       "      <td>NaN</td>\n",
       "      <td>NaN</td>\n",
       "      <td>NaN</td>\n",
       "      <td>NaN</td>\n",
       "      <td>NaN</td>\n",
       "      <td>NaN</td>\n",
       "      <td>NaN</td>\n",
       "      <td>...</td>\n",
       "      <td>NaN</td>\n",
       "      <td>NaN</td>\n",
       "      <td>NaN</td>\n",
       "      <td>NaN</td>\n",
       "      <td>NaN</td>\n",
       "      <td>NaN</td>\n",
       "      <td>NaN</td>\n",
       "      <td>NaN</td>\n",
       "      <td>NaN</td>\n",
       "      <td>NaN</td>\n",
       "      <td>NaN</td>\n",
       "      <td>NaN</td>\n",
       "      <td>NaN</td>\n",
       "      <td>NaN</td>\n",
       "      <td>NaN</td>\n",
       "      <td>NaN</td>\n",
       "      <td>NaN</td>\n",
       "      <td>NaN</td>\n",
       "      <td>NaN</td>\n",
       "      <td>NaN</td>\n",
       "      <td>NaN</td>\n",
       "      <td>NaN</td>\n",
       "      <td>NaN</td>\n",
       "      <td>NaN</td>\n",
       "      <td>NaN</td>\n",
       "      <td>NaN</td>\n",
       "      <td>NaN</td>\n",
       "      <td>NaN</td>\n",
       "      <td>NaN</td>\n",
       "      <td>NaN</td>\n",
       "      <td>NaN</td>\n",
       "      <td>NaN</td>\n",
       "      <td>NaN</td>\n",
       "      <td>NaN</td>\n",
       "      <td>NaN</td>\n",
       "      <td>NaN</td>\n",
       "      <td>NaN</td>\n",
       "      <td>NaN</td>\n",
       "      <td>NaN</td>\n",
       "      <td>NaN</td>\n",
       "    </tr>\n",
       "    <tr>\n",
       "      <th>4</th>\n",
       "      <td>NaN</td>\n",
       "      <td>NaN</td>\n",
       "      <td>NaN</td>\n",
       "      <td>NaN</td>\n",
       "      <td>NaN</td>\n",
       "      <td>NaN</td>\n",
       "      <td>NaN</td>\n",
       "      <td>NaN</td>\n",
       "      <td>NaN</td>\n",
       "      <td>NaN</td>\n",
       "      <td>4.0</td>\n",
       "      <td>NaN</td>\n",
       "      <td>NaN</td>\n",
       "      <td>NaN</td>\n",
       "      <td>NaN</td>\n",
       "      <td>NaN</td>\n",
       "      <td>NaN</td>\n",
       "      <td>NaN</td>\n",
       "      <td>NaN</td>\n",
       "      <td>NaN</td>\n",
       "      <td>NaN</td>\n",
       "      <td>NaN</td>\n",
       "      <td>NaN</td>\n",
       "      <td>NaN</td>\n",
       "      <td>NaN</td>\n",
       "      <td>NaN</td>\n",
       "      <td>NaN</td>\n",
       "      <td>NaN</td>\n",
       "      <td>NaN</td>\n",
       "      <td>NaN</td>\n",
       "      <td>NaN</td>\n",
       "      <td>NaN</td>\n",
       "      <td>NaN</td>\n",
       "      <td>NaN</td>\n",
       "      <td>NaN</td>\n",
       "      <td>NaN</td>\n",
       "      <td>NaN</td>\n",
       "      <td>NaN</td>\n",
       "      <td>NaN</td>\n",
       "      <td>NaN</td>\n",
       "      <td>...</td>\n",
       "      <td>NaN</td>\n",
       "      <td>NaN</td>\n",
       "      <td>NaN</td>\n",
       "      <td>NaN</td>\n",
       "      <td>NaN</td>\n",
       "      <td>NaN</td>\n",
       "      <td>NaN</td>\n",
       "      <td>NaN</td>\n",
       "      <td>NaN</td>\n",
       "      <td>NaN</td>\n",
       "      <td>NaN</td>\n",
       "      <td>NaN</td>\n",
       "      <td>NaN</td>\n",
       "      <td>NaN</td>\n",
       "      <td>NaN</td>\n",
       "      <td>NaN</td>\n",
       "      <td>NaN</td>\n",
       "      <td>NaN</td>\n",
       "      <td>NaN</td>\n",
       "      <td>NaN</td>\n",
       "      <td>NaN</td>\n",
       "      <td>NaN</td>\n",
       "      <td>NaN</td>\n",
       "      <td>NaN</td>\n",
       "      <td>NaN</td>\n",
       "      <td>NaN</td>\n",
       "      <td>NaN</td>\n",
       "      <td>NaN</td>\n",
       "      <td>NaN</td>\n",
       "      <td>NaN</td>\n",
       "      <td>NaN</td>\n",
       "      <td>NaN</td>\n",
       "      <td>NaN</td>\n",
       "      <td>NaN</td>\n",
       "      <td>NaN</td>\n",
       "      <td>NaN</td>\n",
       "      <td>NaN</td>\n",
       "      <td>NaN</td>\n",
       "      <td>NaN</td>\n",
       "      <td>NaN</td>\n",
       "    </tr>\n",
       "    <tr>\n",
       "      <th>5</th>\n",
       "      <td>4.0</td>\n",
       "      <td>3.0</td>\n",
       "      <td>NaN</td>\n",
       "      <td>NaN</td>\n",
       "      <td>NaN</td>\n",
       "      <td>NaN</td>\n",
       "      <td>NaN</td>\n",
       "      <td>NaN</td>\n",
       "      <td>NaN</td>\n",
       "      <td>NaN</td>\n",
       "      <td>NaN</td>\n",
       "      <td>NaN</td>\n",
       "      <td>NaN</td>\n",
       "      <td>NaN</td>\n",
       "      <td>NaN</td>\n",
       "      <td>NaN</td>\n",
       "      <td>4.0</td>\n",
       "      <td>NaN</td>\n",
       "      <td>NaN</td>\n",
       "      <td>NaN</td>\n",
       "      <td>3.0</td>\n",
       "      <td>NaN</td>\n",
       "      <td>NaN</td>\n",
       "      <td>4.0</td>\n",
       "      <td>3.0</td>\n",
       "      <td>NaN</td>\n",
       "      <td>NaN</td>\n",
       "      <td>NaN</td>\n",
       "      <td>4.0</td>\n",
       "      <td>NaN</td>\n",
       "      <td>NaN</td>\n",
       "      <td>NaN</td>\n",
       "      <td>NaN</td>\n",
       "      <td>NaN</td>\n",
       "      <td>NaN</td>\n",
       "      <td>NaN</td>\n",
       "      <td>NaN</td>\n",
       "      <td>NaN</td>\n",
       "      <td>NaN</td>\n",
       "      <td>4.0</td>\n",
       "      <td>...</td>\n",
       "      <td>NaN</td>\n",
       "      <td>NaN</td>\n",
       "      <td>NaN</td>\n",
       "      <td>NaN</td>\n",
       "      <td>NaN</td>\n",
       "      <td>NaN</td>\n",
       "      <td>NaN</td>\n",
       "      <td>NaN</td>\n",
       "      <td>NaN</td>\n",
       "      <td>NaN</td>\n",
       "      <td>NaN</td>\n",
       "      <td>NaN</td>\n",
       "      <td>NaN</td>\n",
       "      <td>NaN</td>\n",
       "      <td>NaN</td>\n",
       "      <td>NaN</td>\n",
       "      <td>NaN</td>\n",
       "      <td>NaN</td>\n",
       "      <td>NaN</td>\n",
       "      <td>NaN</td>\n",
       "      <td>NaN</td>\n",
       "      <td>NaN</td>\n",
       "      <td>NaN</td>\n",
       "      <td>NaN</td>\n",
       "      <td>NaN</td>\n",
       "      <td>NaN</td>\n",
       "      <td>NaN</td>\n",
       "      <td>NaN</td>\n",
       "      <td>NaN</td>\n",
       "      <td>NaN</td>\n",
       "      <td>NaN</td>\n",
       "      <td>NaN</td>\n",
       "      <td>NaN</td>\n",
       "      <td>NaN</td>\n",
       "      <td>NaN</td>\n",
       "      <td>NaN</td>\n",
       "      <td>NaN</td>\n",
       "      <td>NaN</td>\n",
       "      <td>NaN</td>\n",
       "      <td>NaN</td>\n",
       "    </tr>\n",
       "    <tr>\n",
       "      <th>...</th>\n",
       "      <td>...</td>\n",
       "      <td>...</td>\n",
       "      <td>...</td>\n",
       "      <td>...</td>\n",
       "      <td>...</td>\n",
       "      <td>...</td>\n",
       "      <td>...</td>\n",
       "      <td>...</td>\n",
       "      <td>...</td>\n",
       "      <td>...</td>\n",
       "      <td>...</td>\n",
       "      <td>...</td>\n",
       "      <td>...</td>\n",
       "      <td>...</td>\n",
       "      <td>...</td>\n",
       "      <td>...</td>\n",
       "      <td>...</td>\n",
       "      <td>...</td>\n",
       "      <td>...</td>\n",
       "      <td>...</td>\n",
       "      <td>...</td>\n",
       "      <td>...</td>\n",
       "      <td>...</td>\n",
       "      <td>...</td>\n",
       "      <td>...</td>\n",
       "      <td>...</td>\n",
       "      <td>...</td>\n",
       "      <td>...</td>\n",
       "      <td>...</td>\n",
       "      <td>...</td>\n",
       "      <td>...</td>\n",
       "      <td>...</td>\n",
       "      <td>...</td>\n",
       "      <td>...</td>\n",
       "      <td>...</td>\n",
       "      <td>...</td>\n",
       "      <td>...</td>\n",
       "      <td>...</td>\n",
       "      <td>...</td>\n",
       "      <td>...</td>\n",
       "      <td>...</td>\n",
       "      <td>...</td>\n",
       "      <td>...</td>\n",
       "      <td>...</td>\n",
       "      <td>...</td>\n",
       "      <td>...</td>\n",
       "      <td>...</td>\n",
       "      <td>...</td>\n",
       "      <td>...</td>\n",
       "      <td>...</td>\n",
       "      <td>...</td>\n",
       "      <td>...</td>\n",
       "      <td>...</td>\n",
       "      <td>...</td>\n",
       "      <td>...</td>\n",
       "      <td>...</td>\n",
       "      <td>...</td>\n",
       "      <td>...</td>\n",
       "      <td>...</td>\n",
       "      <td>...</td>\n",
       "      <td>...</td>\n",
       "      <td>...</td>\n",
       "      <td>...</td>\n",
       "      <td>...</td>\n",
       "      <td>...</td>\n",
       "      <td>...</td>\n",
       "      <td>...</td>\n",
       "      <td>...</td>\n",
       "      <td>...</td>\n",
       "      <td>...</td>\n",
       "      <td>...</td>\n",
       "      <td>...</td>\n",
       "      <td>...</td>\n",
       "      <td>...</td>\n",
       "      <td>...</td>\n",
       "      <td>...</td>\n",
       "      <td>...</td>\n",
       "      <td>...</td>\n",
       "      <td>...</td>\n",
       "      <td>...</td>\n",
       "      <td>...</td>\n",
       "    </tr>\n",
       "    <tr>\n",
       "      <th>939</th>\n",
       "      <td>NaN</td>\n",
       "      <td>NaN</td>\n",
       "      <td>NaN</td>\n",
       "      <td>NaN</td>\n",
       "      <td>NaN</td>\n",
       "      <td>NaN</td>\n",
       "      <td>NaN</td>\n",
       "      <td>NaN</td>\n",
       "      <td>5.0</td>\n",
       "      <td>NaN</td>\n",
       "      <td>NaN</td>\n",
       "      <td>NaN</td>\n",
       "      <td>NaN</td>\n",
       "      <td>NaN</td>\n",
       "      <td>5.0</td>\n",
       "      <td>NaN</td>\n",
       "      <td>NaN</td>\n",
       "      <td>NaN</td>\n",
       "      <td>NaN</td>\n",
       "      <td>NaN</td>\n",
       "      <td>NaN</td>\n",
       "      <td>NaN</td>\n",
       "      <td>NaN</td>\n",
       "      <td>NaN</td>\n",
       "      <td>NaN</td>\n",
       "      <td>NaN</td>\n",
       "      <td>NaN</td>\n",
       "      <td>NaN</td>\n",
       "      <td>NaN</td>\n",
       "      <td>NaN</td>\n",
       "      <td>NaN</td>\n",
       "      <td>NaN</td>\n",
       "      <td>NaN</td>\n",
       "      <td>NaN</td>\n",
       "      <td>NaN</td>\n",
       "      <td>NaN</td>\n",
       "      <td>NaN</td>\n",
       "      <td>NaN</td>\n",
       "      <td>NaN</td>\n",
       "      <td>NaN</td>\n",
       "      <td>...</td>\n",
       "      <td>NaN</td>\n",
       "      <td>NaN</td>\n",
       "      <td>NaN</td>\n",
       "      <td>NaN</td>\n",
       "      <td>NaN</td>\n",
       "      <td>NaN</td>\n",
       "      <td>NaN</td>\n",
       "      <td>NaN</td>\n",
       "      <td>NaN</td>\n",
       "      <td>NaN</td>\n",
       "      <td>NaN</td>\n",
       "      <td>NaN</td>\n",
       "      <td>NaN</td>\n",
       "      <td>NaN</td>\n",
       "      <td>NaN</td>\n",
       "      <td>NaN</td>\n",
       "      <td>NaN</td>\n",
       "      <td>NaN</td>\n",
       "      <td>NaN</td>\n",
       "      <td>NaN</td>\n",
       "      <td>NaN</td>\n",
       "      <td>NaN</td>\n",
       "      <td>NaN</td>\n",
       "      <td>NaN</td>\n",
       "      <td>NaN</td>\n",
       "      <td>NaN</td>\n",
       "      <td>NaN</td>\n",
       "      <td>NaN</td>\n",
       "      <td>NaN</td>\n",
       "      <td>NaN</td>\n",
       "      <td>NaN</td>\n",
       "      <td>NaN</td>\n",
       "      <td>NaN</td>\n",
       "      <td>NaN</td>\n",
       "      <td>NaN</td>\n",
       "      <td>NaN</td>\n",
       "      <td>NaN</td>\n",
       "      <td>NaN</td>\n",
       "      <td>NaN</td>\n",
       "      <td>NaN</td>\n",
       "    </tr>\n",
       "    <tr>\n",
       "      <th>940</th>\n",
       "      <td>NaN</td>\n",
       "      <td>NaN</td>\n",
       "      <td>NaN</td>\n",
       "      <td>2.0</td>\n",
       "      <td>NaN</td>\n",
       "      <td>NaN</td>\n",
       "      <td>4.0</td>\n",
       "      <td>5.0</td>\n",
       "      <td>3.0</td>\n",
       "      <td>NaN</td>\n",
       "      <td>NaN</td>\n",
       "      <td>4.0</td>\n",
       "      <td>NaN</td>\n",
       "      <td>3.0</td>\n",
       "      <td>NaN</td>\n",
       "      <td>NaN</td>\n",
       "      <td>NaN</td>\n",
       "      <td>NaN</td>\n",
       "      <td>NaN</td>\n",
       "      <td>NaN</td>\n",
       "      <td>NaN</td>\n",
       "      <td>NaN</td>\n",
       "      <td>NaN</td>\n",
       "      <td>NaN</td>\n",
       "      <td>NaN</td>\n",
       "      <td>NaN</td>\n",
       "      <td>NaN</td>\n",
       "      <td>NaN</td>\n",
       "      <td>NaN</td>\n",
       "      <td>NaN</td>\n",
       "      <td>NaN</td>\n",
       "      <td>NaN</td>\n",
       "      <td>NaN</td>\n",
       "      <td>NaN</td>\n",
       "      <td>NaN</td>\n",
       "      <td>NaN</td>\n",
       "      <td>NaN</td>\n",
       "      <td>NaN</td>\n",
       "      <td>NaN</td>\n",
       "      <td>NaN</td>\n",
       "      <td>...</td>\n",
       "      <td>NaN</td>\n",
       "      <td>NaN</td>\n",
       "      <td>NaN</td>\n",
       "      <td>NaN</td>\n",
       "      <td>NaN</td>\n",
       "      <td>NaN</td>\n",
       "      <td>NaN</td>\n",
       "      <td>NaN</td>\n",
       "      <td>NaN</td>\n",
       "      <td>NaN</td>\n",
       "      <td>NaN</td>\n",
       "      <td>NaN</td>\n",
       "      <td>NaN</td>\n",
       "      <td>NaN</td>\n",
       "      <td>NaN</td>\n",
       "      <td>NaN</td>\n",
       "      <td>NaN</td>\n",
       "      <td>NaN</td>\n",
       "      <td>NaN</td>\n",
       "      <td>NaN</td>\n",
       "      <td>NaN</td>\n",
       "      <td>NaN</td>\n",
       "      <td>NaN</td>\n",
       "      <td>NaN</td>\n",
       "      <td>NaN</td>\n",
       "      <td>NaN</td>\n",
       "      <td>NaN</td>\n",
       "      <td>NaN</td>\n",
       "      <td>NaN</td>\n",
       "      <td>NaN</td>\n",
       "      <td>NaN</td>\n",
       "      <td>NaN</td>\n",
       "      <td>NaN</td>\n",
       "      <td>NaN</td>\n",
       "      <td>NaN</td>\n",
       "      <td>NaN</td>\n",
       "      <td>NaN</td>\n",
       "      <td>NaN</td>\n",
       "      <td>NaN</td>\n",
       "      <td>NaN</td>\n",
       "    </tr>\n",
       "    <tr>\n",
       "      <th>941</th>\n",
       "      <td>5.0</td>\n",
       "      <td>NaN</td>\n",
       "      <td>NaN</td>\n",
       "      <td>NaN</td>\n",
       "      <td>NaN</td>\n",
       "      <td>NaN</td>\n",
       "      <td>4.0</td>\n",
       "      <td>NaN</td>\n",
       "      <td>NaN</td>\n",
       "      <td>NaN</td>\n",
       "      <td>NaN</td>\n",
       "      <td>NaN</td>\n",
       "      <td>NaN</td>\n",
       "      <td>NaN</td>\n",
       "      <td>4.0</td>\n",
       "      <td>NaN</td>\n",
       "      <td>NaN</td>\n",
       "      <td>NaN</td>\n",
       "      <td>NaN</td>\n",
       "      <td>NaN</td>\n",
       "      <td>NaN</td>\n",
       "      <td>NaN</td>\n",
       "      <td>NaN</td>\n",
       "      <td>NaN</td>\n",
       "      <td>NaN</td>\n",
       "      <td>NaN</td>\n",
       "      <td>NaN</td>\n",
       "      <td>NaN</td>\n",
       "      <td>NaN</td>\n",
       "      <td>NaN</td>\n",
       "      <td>NaN</td>\n",
       "      <td>NaN</td>\n",
       "      <td>NaN</td>\n",
       "      <td>NaN</td>\n",
       "      <td>NaN</td>\n",
       "      <td>NaN</td>\n",
       "      <td>NaN</td>\n",
       "      <td>NaN</td>\n",
       "      <td>NaN</td>\n",
       "      <td>NaN</td>\n",
       "      <td>...</td>\n",
       "      <td>NaN</td>\n",
       "      <td>NaN</td>\n",
       "      <td>NaN</td>\n",
       "      <td>NaN</td>\n",
       "      <td>NaN</td>\n",
       "      <td>NaN</td>\n",
       "      <td>NaN</td>\n",
       "      <td>NaN</td>\n",
       "      <td>NaN</td>\n",
       "      <td>NaN</td>\n",
       "      <td>NaN</td>\n",
       "      <td>NaN</td>\n",
       "      <td>NaN</td>\n",
       "      <td>NaN</td>\n",
       "      <td>NaN</td>\n",
       "      <td>NaN</td>\n",
       "      <td>NaN</td>\n",
       "      <td>NaN</td>\n",
       "      <td>NaN</td>\n",
       "      <td>NaN</td>\n",
       "      <td>NaN</td>\n",
       "      <td>NaN</td>\n",
       "      <td>NaN</td>\n",
       "      <td>NaN</td>\n",
       "      <td>NaN</td>\n",
       "      <td>NaN</td>\n",
       "      <td>NaN</td>\n",
       "      <td>NaN</td>\n",
       "      <td>NaN</td>\n",
       "      <td>NaN</td>\n",
       "      <td>NaN</td>\n",
       "      <td>NaN</td>\n",
       "      <td>NaN</td>\n",
       "      <td>NaN</td>\n",
       "      <td>NaN</td>\n",
       "      <td>NaN</td>\n",
       "      <td>NaN</td>\n",
       "      <td>NaN</td>\n",
       "      <td>NaN</td>\n",
       "      <td>NaN</td>\n",
       "    </tr>\n",
       "    <tr>\n",
       "      <th>942</th>\n",
       "      <td>NaN</td>\n",
       "      <td>NaN</td>\n",
       "      <td>NaN</td>\n",
       "      <td>NaN</td>\n",
       "      <td>NaN</td>\n",
       "      <td>NaN</td>\n",
       "      <td>NaN</td>\n",
       "      <td>NaN</td>\n",
       "      <td>NaN</td>\n",
       "      <td>NaN</td>\n",
       "      <td>NaN</td>\n",
       "      <td>NaN</td>\n",
       "      <td>NaN</td>\n",
       "      <td>NaN</td>\n",
       "      <td>NaN</td>\n",
       "      <td>NaN</td>\n",
       "      <td>NaN</td>\n",
       "      <td>NaN</td>\n",
       "      <td>NaN</td>\n",
       "      <td>NaN</td>\n",
       "      <td>NaN</td>\n",
       "      <td>NaN</td>\n",
       "      <td>NaN</td>\n",
       "      <td>NaN</td>\n",
       "      <td>NaN</td>\n",
       "      <td>NaN</td>\n",
       "      <td>NaN</td>\n",
       "      <td>NaN</td>\n",
       "      <td>NaN</td>\n",
       "      <td>NaN</td>\n",
       "      <td>5.0</td>\n",
       "      <td>NaN</td>\n",
       "      <td>NaN</td>\n",
       "      <td>NaN</td>\n",
       "      <td>NaN</td>\n",
       "      <td>NaN</td>\n",
       "      <td>NaN</td>\n",
       "      <td>NaN</td>\n",
       "      <td>NaN</td>\n",
       "      <td>NaN</td>\n",
       "      <td>...</td>\n",
       "      <td>NaN</td>\n",
       "      <td>NaN</td>\n",
       "      <td>NaN</td>\n",
       "      <td>NaN</td>\n",
       "      <td>NaN</td>\n",
       "      <td>NaN</td>\n",
       "      <td>NaN</td>\n",
       "      <td>NaN</td>\n",
       "      <td>NaN</td>\n",
       "      <td>NaN</td>\n",
       "      <td>NaN</td>\n",
       "      <td>NaN</td>\n",
       "      <td>NaN</td>\n",
       "      <td>NaN</td>\n",
       "      <td>NaN</td>\n",
       "      <td>NaN</td>\n",
       "      <td>NaN</td>\n",
       "      <td>NaN</td>\n",
       "      <td>NaN</td>\n",
       "      <td>NaN</td>\n",
       "      <td>NaN</td>\n",
       "      <td>NaN</td>\n",
       "      <td>NaN</td>\n",
       "      <td>NaN</td>\n",
       "      <td>NaN</td>\n",
       "      <td>NaN</td>\n",
       "      <td>NaN</td>\n",
       "      <td>NaN</td>\n",
       "      <td>NaN</td>\n",
       "      <td>NaN</td>\n",
       "      <td>NaN</td>\n",
       "      <td>NaN</td>\n",
       "      <td>NaN</td>\n",
       "      <td>NaN</td>\n",
       "      <td>NaN</td>\n",
       "      <td>NaN</td>\n",
       "      <td>NaN</td>\n",
       "      <td>NaN</td>\n",
       "      <td>NaN</td>\n",
       "      <td>NaN</td>\n",
       "    </tr>\n",
       "    <tr>\n",
       "      <th>943</th>\n",
       "      <td>NaN</td>\n",
       "      <td>5.0</td>\n",
       "      <td>NaN</td>\n",
       "      <td>NaN</td>\n",
       "      <td>NaN</td>\n",
       "      <td>NaN</td>\n",
       "      <td>NaN</td>\n",
       "      <td>NaN</td>\n",
       "      <td>3.0</td>\n",
       "      <td>NaN</td>\n",
       "      <td>4.0</td>\n",
       "      <td>5.0</td>\n",
       "      <td>NaN</td>\n",
       "      <td>NaN</td>\n",
       "      <td>NaN</td>\n",
       "      <td>NaN</td>\n",
       "      <td>NaN</td>\n",
       "      <td>NaN</td>\n",
       "      <td>NaN</td>\n",
       "      <td>NaN</td>\n",
       "      <td>NaN</td>\n",
       "      <td>4.0</td>\n",
       "      <td>4.0</td>\n",
       "      <td>4.0</td>\n",
       "      <td>NaN</td>\n",
       "      <td>NaN</td>\n",
       "      <td>4.0</td>\n",
       "      <td>4.0</td>\n",
       "      <td>NaN</td>\n",
       "      <td>NaN</td>\n",
       "      <td>4.0</td>\n",
       "      <td>NaN</td>\n",
       "      <td>NaN</td>\n",
       "      <td>NaN</td>\n",
       "      <td>NaN</td>\n",
       "      <td>NaN</td>\n",
       "      <td>NaN</td>\n",
       "      <td>3.0</td>\n",
       "      <td>NaN</td>\n",
       "      <td>NaN</td>\n",
       "      <td>...</td>\n",
       "      <td>NaN</td>\n",
       "      <td>NaN</td>\n",
       "      <td>NaN</td>\n",
       "      <td>NaN</td>\n",
       "      <td>NaN</td>\n",
       "      <td>NaN</td>\n",
       "      <td>NaN</td>\n",
       "      <td>NaN</td>\n",
       "      <td>NaN</td>\n",
       "      <td>NaN</td>\n",
       "      <td>NaN</td>\n",
       "      <td>NaN</td>\n",
       "      <td>NaN</td>\n",
       "      <td>NaN</td>\n",
       "      <td>NaN</td>\n",
       "      <td>NaN</td>\n",
       "      <td>NaN</td>\n",
       "      <td>NaN</td>\n",
       "      <td>NaN</td>\n",
       "      <td>NaN</td>\n",
       "      <td>NaN</td>\n",
       "      <td>NaN</td>\n",
       "      <td>NaN</td>\n",
       "      <td>NaN</td>\n",
       "      <td>NaN</td>\n",
       "      <td>NaN</td>\n",
       "      <td>NaN</td>\n",
       "      <td>NaN</td>\n",
       "      <td>NaN</td>\n",
       "      <td>NaN</td>\n",
       "      <td>NaN</td>\n",
       "      <td>NaN</td>\n",
       "      <td>NaN</td>\n",
       "      <td>NaN</td>\n",
       "      <td>NaN</td>\n",
       "      <td>NaN</td>\n",
       "      <td>NaN</td>\n",
       "      <td>NaN</td>\n",
       "      <td>NaN</td>\n",
       "      <td>NaN</td>\n",
       "    </tr>\n",
       "  </tbody>\n",
       "</table>\n",
       "<p>943 rows × 1682 columns</p>\n",
       "</div>"
      ],
      "text/plain": [
       "movie  1     2     3     4     5     6     ...  1677  1678  1679  1680  1681  1682\n",
       "user                                       ...                                    \n",
       "1       5.0   3.0   4.0   3.0   3.0   5.0  ...   NaN   NaN   NaN   NaN   NaN   NaN\n",
       "2       4.0   NaN   NaN   NaN   NaN   NaN  ...   NaN   NaN   NaN   NaN   NaN   NaN\n",
       "3       NaN   NaN   NaN   NaN   NaN   NaN  ...   NaN   NaN   NaN   NaN   NaN   NaN\n",
       "4       NaN   NaN   NaN   NaN   NaN   NaN  ...   NaN   NaN   NaN   NaN   NaN   NaN\n",
       "5       4.0   3.0   NaN   NaN   NaN   NaN  ...   NaN   NaN   NaN   NaN   NaN   NaN\n",
       "...     ...   ...   ...   ...   ...   ...  ...   ...   ...   ...   ...   ...   ...\n",
       "939     NaN   NaN   NaN   NaN   NaN   NaN  ...   NaN   NaN   NaN   NaN   NaN   NaN\n",
       "940     NaN   NaN   NaN   2.0   NaN   NaN  ...   NaN   NaN   NaN   NaN   NaN   NaN\n",
       "941     5.0   NaN   NaN   NaN   NaN   NaN  ...   NaN   NaN   NaN   NaN   NaN   NaN\n",
       "942     NaN   NaN   NaN   NaN   NaN   NaN  ...   NaN   NaN   NaN   NaN   NaN   NaN\n",
       "943     NaN   5.0   NaN   NaN   NaN   NaN  ...   NaN   NaN   NaN   NaN   NaN   NaN\n",
       "\n",
       "[943 rows x 1682 columns]"
      ]
     },
     "execution_count": 14,
     "metadata": {
      "tags": []
     },
     "output_type": "execute_result"
    }
   ],
   "source": [
    "# view crosstab of users and movies with rating values\n",
    "ct = pd.crosstab(ratings['user'], ratings['movie'], ratings['rating'],aggfunc='mean')\n",
    "ct"
   ]
  },
  {
   "cell_type": "markdown",
   "metadata": {
    "id": "W-85ynMVURSH"
   },
   "source": [
    "Instead of movie IDs, we can get the movie titles into a DataFrame and add that column to our `ratings` DataFrame by merging the two.\n",
    "\n",
    "The movie titles are in the `u.item` file, which is pipe-delimited, with latin-1 encoding. The `u.item` file has 24 columns, but we only want the first two which have the `movie` id and the `title`."
   ]
  },
  {
   "cell_type": "code",
   "execution_count": null,
   "metadata": {
    "colab": {
     "base_uri": "https://localhost:8080/",
     "height": 204
    },
    "id": "TMvoXtYpMT-b",
    "outputId": "7d573468-c7ab-4a9d-989f-8d71f09df3cb"
   },
   "outputs": [
    {
     "data": {
      "text/html": [
       "<div>\n",
       "<style scoped>\n",
       "    .dataframe tbody tr th:only-of-type {\n",
       "        vertical-align: middle;\n",
       "    }\n",
       "\n",
       "    .dataframe tbody tr th {\n",
       "        vertical-align: top;\n",
       "    }\n",
       "\n",
       "    .dataframe thead th {\n",
       "        text-align: right;\n",
       "    }\n",
       "</style>\n",
       "<table border=\"1\" class=\"dataframe\">\n",
       "  <thead>\n",
       "    <tr style=\"text-align: right;\">\n",
       "      <th></th>\n",
       "      <th>movie</th>\n",
       "      <th>title</th>\n",
       "    </tr>\n",
       "  </thead>\n",
       "  <tbody>\n",
       "    <tr>\n",
       "      <th>0</th>\n",
       "      <td>1</td>\n",
       "      <td>Toy Story (1995)</td>\n",
       "    </tr>\n",
       "    <tr>\n",
       "      <th>1</th>\n",
       "      <td>2</td>\n",
       "      <td>GoldenEye (1995)</td>\n",
       "    </tr>\n",
       "    <tr>\n",
       "      <th>2</th>\n",
       "      <td>3</td>\n",
       "      <td>Four Rooms (1995)</td>\n",
       "    </tr>\n",
       "    <tr>\n",
       "      <th>3</th>\n",
       "      <td>4</td>\n",
       "      <td>Get Shorty (1995)</td>\n",
       "    </tr>\n",
       "    <tr>\n",
       "      <th>4</th>\n",
       "      <td>5</td>\n",
       "      <td>Copycat (1995)</td>\n",
       "    </tr>\n",
       "  </tbody>\n",
       "</table>\n",
       "</div>"
      ],
      "text/plain": [
       "   movie              title\n",
       "0      1   Toy Story (1995)\n",
       "1      2   GoldenEye (1995)\n",
       "2      3  Four Rooms (1995)\n",
       "3      4  Get Shorty (1995)\n",
       "4      5     Copycat (1995)"
      ]
     },
     "execution_count": 15,
     "metadata": {
      "tags": []
     },
     "output_type": "execute_result"
    }
   ],
   "source": [
    "# get movie titles\n",
    "movies = pd.read_csv(\n",
    "    path/'u.item', \n",
    "    delimiter='|', \n",
    "    encoding='latin-1', \n",
    "    usecols=(0,1), \n",
    "    names=('movie', 'title'), \n",
    "    header=None)\n",
    "\n",
    "movies.head()"
   ]
  },
  {
   "cell_type": "markdown",
   "metadata": {
    "id": "NOZb_T7zVeID"
   },
   "source": [
    "The `movies` DataFrame and the `ratings` DataFrame are merged using the `movie` column as the key to match title in `movies` to `movie` ID in `ratings`. By default, pandas uses as the `key` whichever column name exists in both DataFrames.\n"
   ]
  },
  {
   "cell_type": "code",
   "execution_count": null,
   "metadata": {
    "colab": {
     "base_uri": "https://localhost:8080/",
     "height": 204
    },
    "id": "-3pehJaoPPFV",
    "outputId": "1c73f7b4-12de-4715-e316-43b8ce4ed33f"
   },
   "outputs": [
    {
     "data": {
      "text/html": [
       "<div>\n",
       "<style scoped>\n",
       "    .dataframe tbody tr th:only-of-type {\n",
       "        vertical-align: middle;\n",
       "    }\n",
       "\n",
       "    .dataframe tbody tr th {\n",
       "        vertical-align: top;\n",
       "    }\n",
       "\n",
       "    .dataframe thead th {\n",
       "        text-align: right;\n",
       "    }\n",
       "</style>\n",
       "<table border=\"1\" class=\"dataframe\">\n",
       "  <thead>\n",
       "    <tr style=\"text-align: right;\">\n",
       "      <th></th>\n",
       "      <th>user</th>\n",
       "      <th>movie</th>\n",
       "      <th>rating</th>\n",
       "      <th>timestamp</th>\n",
       "      <th>title</th>\n",
       "    </tr>\n",
       "  </thead>\n",
       "  <tbody>\n",
       "    <tr>\n",
       "      <th>0</th>\n",
       "      <td>196</td>\n",
       "      <td>242</td>\n",
       "      <td>3</td>\n",
       "      <td>881250949</td>\n",
       "      <td>Kolya (1996)</td>\n",
       "    </tr>\n",
       "    <tr>\n",
       "      <th>1</th>\n",
       "      <td>63</td>\n",
       "      <td>242</td>\n",
       "      <td>3</td>\n",
       "      <td>875747190</td>\n",
       "      <td>Kolya (1996)</td>\n",
       "    </tr>\n",
       "    <tr>\n",
       "      <th>2</th>\n",
       "      <td>226</td>\n",
       "      <td>242</td>\n",
       "      <td>5</td>\n",
       "      <td>883888671</td>\n",
       "      <td>Kolya (1996)</td>\n",
       "    </tr>\n",
       "    <tr>\n",
       "      <th>3</th>\n",
       "      <td>154</td>\n",
       "      <td>242</td>\n",
       "      <td>3</td>\n",
       "      <td>879138235</td>\n",
       "      <td>Kolya (1996)</td>\n",
       "    </tr>\n",
       "    <tr>\n",
       "      <th>4</th>\n",
       "      <td>306</td>\n",
       "      <td>242</td>\n",
       "      <td>5</td>\n",
       "      <td>876503793</td>\n",
       "      <td>Kolya (1996)</td>\n",
       "    </tr>\n",
       "  </tbody>\n",
       "</table>\n",
       "</div>"
      ],
      "text/plain": [
       "   user  movie  rating  timestamp         title\n",
       "0   196    242       3  881250949  Kolya (1996)\n",
       "1    63    242       3  875747190  Kolya (1996)\n",
       "2   226    242       5  883888671  Kolya (1996)\n",
       "3   154    242       3  879138235  Kolya (1996)\n",
       "4   306    242       5  876503793  Kolya (1996)"
      ]
     },
     "execution_count": 16,
     "metadata": {
      "tags": []
     },
     "output_type": "execute_result"
    }
   ],
   "source": [
    "# get the user ratings by title\n",
    "ratings = ratings.merge(movies)\n",
    "ratings.head()"
   ]
  },
  {
   "cell_type": "markdown",
   "metadata": {
    "id": "XA_o0FMfWU_M"
   },
   "source": [
    "Does this change the uniqueness of the data? Yes it actually does! There are 1682 unique movie IDs but there are only 1664 unique movie titles. 18 movies have associated with it duplicate titles.\n"
   ]
  },
  {
   "cell_type": "code",
   "execution_count": null,
   "metadata": {
    "colab": {
     "base_uri": "https://localhost:8080/"
    },
    "id": "bAuhO0bkRJqG",
    "outputId": "d013b37e-9323-477a-dcb3-186c88fa874e"
   },
   "outputs": [
    {
     "data": {
      "text/plain": [
       "(1664, 1682)"
      ]
     },
     "execution_count": 17,
     "metadata": {
      "tags": []
     },
     "output_type": "execute_result"
    }
   ],
   "source": [
    "# how many unique titles and movies are there?\n",
    "len(ratings['title'].unique()), len(ratings['movie'].unique())"
   ]
  },
  {
   "cell_type": "markdown",
   "metadata": {
    "id": "gQxMwEGzWZIt"
   },
   "source": [
    "The `.duplicated` DataFrame method takes a list of columns for the `subset` parameter, finds values in those columns that are duplicated, and returns a boolean Series with a `True` value at indexes with duplicates. I use that as a mask and pass it to the `movies` DataFrame to view those duplicate titles."
   ]
  },
  {
   "cell_type": "code",
   "execution_count": null,
   "metadata": {
    "colab": {
     "base_uri": "https://localhost:8080/",
     "height": 607
    },
    "id": "QhUXLM_6TClp",
    "outputId": "ef03ac5f-24af-48ef-d5c5-f63f6a34240e"
   },
   "outputs": [
    {
     "data": {
      "text/html": [
       "<div>\n",
       "<style scoped>\n",
       "    .dataframe tbody tr th:only-of-type {\n",
       "        vertical-align: middle;\n",
       "    }\n",
       "\n",
       "    .dataframe tbody tr th {\n",
       "        vertical-align: top;\n",
       "    }\n",
       "\n",
       "    .dataframe thead th {\n",
       "        text-align: right;\n",
       "    }\n",
       "</style>\n",
       "<table border=\"1\" class=\"dataframe\">\n",
       "  <thead>\n",
       "    <tr style=\"text-align: right;\">\n",
       "      <th></th>\n",
       "      <th>movie</th>\n",
       "      <th>title</th>\n",
       "    </tr>\n",
       "  </thead>\n",
       "  <tbody>\n",
       "    <tr>\n",
       "      <th>267</th>\n",
       "      <td>268</td>\n",
       "      <td>Chasing Amy (1997)</td>\n",
       "    </tr>\n",
       "    <tr>\n",
       "      <th>302</th>\n",
       "      <td>303</td>\n",
       "      <td>Ulee's Gold (1997)</td>\n",
       "    </tr>\n",
       "    <tr>\n",
       "      <th>347</th>\n",
       "      <td>348</td>\n",
       "      <td>Desperate Measures (1998)</td>\n",
       "    </tr>\n",
       "    <tr>\n",
       "      <th>499</th>\n",
       "      <td>500</td>\n",
       "      <td>Fly Away Home (1996)</td>\n",
       "    </tr>\n",
       "    <tr>\n",
       "      <th>669</th>\n",
       "      <td>670</td>\n",
       "      <td>Body Snatchers (1993)</td>\n",
       "    </tr>\n",
       "    <tr>\n",
       "      <th>679</th>\n",
       "      <td>680</td>\n",
       "      <td>Kull the Conqueror (1997)</td>\n",
       "    </tr>\n",
       "    <tr>\n",
       "      <th>864</th>\n",
       "      <td>865</td>\n",
       "      <td>Ice Storm, The (1997)</td>\n",
       "    </tr>\n",
       "    <tr>\n",
       "      <th>880</th>\n",
       "      <td>881</td>\n",
       "      <td>Money Talks (1997)</td>\n",
       "    </tr>\n",
       "    <tr>\n",
       "      <th>1002</th>\n",
       "      <td>1003</td>\n",
       "      <td>That Darn Cat! (1997)</td>\n",
       "    </tr>\n",
       "    <tr>\n",
       "      <th>1256</th>\n",
       "      <td>1257</td>\n",
       "      <td>Designated Mourner, The (1997)</td>\n",
       "    </tr>\n",
       "    <tr>\n",
       "      <th>1605</th>\n",
       "      <td>1606</td>\n",
       "      <td>Deceiver (1997)</td>\n",
       "    </tr>\n",
       "    <tr>\n",
       "      <th>1606</th>\n",
       "      <td>1607</td>\n",
       "      <td>Hurricane Streets (1998)</td>\n",
       "    </tr>\n",
       "    <tr>\n",
       "      <th>1616</th>\n",
       "      <td>1617</td>\n",
       "      <td>Hugo Pool (1997)</td>\n",
       "    </tr>\n",
       "    <tr>\n",
       "      <th>1624</th>\n",
       "      <td>1625</td>\n",
       "      <td>Nightwatch (1997)</td>\n",
       "    </tr>\n",
       "    <tr>\n",
       "      <th>1649</th>\n",
       "      <td>1650</td>\n",
       "      <td>Butcher Boy, The (1998)</td>\n",
       "    </tr>\n",
       "    <tr>\n",
       "      <th>1653</th>\n",
       "      <td>1654</td>\n",
       "      <td>Chairman of the Board (1998)</td>\n",
       "    </tr>\n",
       "    <tr>\n",
       "      <th>1657</th>\n",
       "      <td>1658</td>\n",
       "      <td>Substance of Fire, The (1996)</td>\n",
       "    </tr>\n",
       "    <tr>\n",
       "      <th>1679</th>\n",
       "      <td>1680</td>\n",
       "      <td>Sliding Doors (1998)</td>\n",
       "    </tr>\n",
       "  </tbody>\n",
       "</table>\n",
       "</div>"
      ],
      "text/plain": [
       "      movie                           title\n",
       "267     268              Chasing Amy (1997)\n",
       "302     303              Ulee's Gold (1997)\n",
       "347     348       Desperate Measures (1998)\n",
       "499     500            Fly Away Home (1996)\n",
       "669     670           Body Snatchers (1993)\n",
       "679     680       Kull the Conqueror (1997)\n",
       "864     865           Ice Storm, The (1997)\n",
       "880     881              Money Talks (1997)\n",
       "1002   1003           That Darn Cat! (1997)\n",
       "1256   1257  Designated Mourner, The (1997)\n",
       "1605   1606                 Deceiver (1997)\n",
       "1606   1607        Hurricane Streets (1998)\n",
       "1616   1617                Hugo Pool (1997)\n",
       "1624   1625               Nightwatch (1997)\n",
       "1649   1650         Butcher Boy, The (1998)\n",
       "1653   1654    Chairman of the Board (1998)\n",
       "1657   1658   Substance of Fire, The (1996)\n",
       "1679   1680            Sliding Doors (1998)"
      ]
     },
     "execution_count": 18,
     "metadata": {
      "tags": []
     },
     "output_type": "execute_result"
    }
   ],
   "source": [
    "# 18 movies have duplicate titles\n",
    "movies[movies.duplicated(subset=['title'])]"
   ]
  },
  {
   "cell_type": "markdown",
   "metadata": {
    "id": "8cv2_RelYSJ5"
   },
   "source": [
    "fastai has a built-in constructor for DataLoaders specific to collaborative filtering. I pass it the ratings DataFrame, specify that the items are the titles, and that I want 64 rows in each batch."
   ]
  },
  {
   "cell_type": "code",
   "execution_count": null,
   "metadata": {
    "colab": {
     "base_uri": "https://localhost:8080/",
     "height": 359
    },
    "id": "Rtm6-IbtPeUY",
    "outputId": "9bdc3642-082a-4b77-e91a-a15b41348276"
   },
   "outputs": [
    {
     "data": {
      "text/html": [
       "<table border=\"1\" class=\"dataframe\">\n",
       "  <thead>\n",
       "    <tr style=\"text-align: right;\">\n",
       "      <th></th>\n",
       "      <th>user</th>\n",
       "      <th>title</th>\n",
       "      <th>rating</th>\n",
       "    </tr>\n",
       "  </thead>\n",
       "  <tbody>\n",
       "    <tr>\n",
       "      <th>0</th>\n",
       "      <td>297</td>\n",
       "      <td>Indian Summer (1996)</td>\n",
       "      <td>4</td>\n",
       "    </tr>\n",
       "    <tr>\n",
       "      <th>1</th>\n",
       "      <td>934</td>\n",
       "      <td>Grease (1978)</td>\n",
       "      <td>4</td>\n",
       "    </tr>\n",
       "    <tr>\n",
       "      <th>2</th>\n",
       "      <td>846</td>\n",
       "      <td>Money Train (1995)</td>\n",
       "      <td>2</td>\n",
       "    </tr>\n",
       "    <tr>\n",
       "      <th>3</th>\n",
       "      <td>479</td>\n",
       "      <td>Crumb (1994)</td>\n",
       "      <td>3</td>\n",
       "    </tr>\n",
       "    <tr>\n",
       "      <th>4</th>\n",
       "      <td>499</td>\n",
       "      <td>Local Hero (1983)</td>\n",
       "      <td>4</td>\n",
       "    </tr>\n",
       "    <tr>\n",
       "      <th>5</th>\n",
       "      <td>455</td>\n",
       "      <td>Adventures of Priscilla, Queen of the Desert, The (1994)</td>\n",
       "      <td>3</td>\n",
       "    </tr>\n",
       "    <tr>\n",
       "      <th>6</th>\n",
       "      <td>943</td>\n",
       "      <td>Rumble in the Bronx (1995)</td>\n",
       "      <td>4</td>\n",
       "    </tr>\n",
       "    <tr>\n",
       "      <th>7</th>\n",
       "      <td>374</td>\n",
       "      <td>Dead Poets Society (1989)</td>\n",
       "      <td>1</td>\n",
       "    </tr>\n",
       "    <tr>\n",
       "      <th>8</th>\n",
       "      <td>533</td>\n",
       "      <td>Deer Hunter, The (1978)</td>\n",
       "      <td>3</td>\n",
       "    </tr>\n",
       "    <tr>\n",
       "      <th>9</th>\n",
       "      <td>846</td>\n",
       "      <td>Vanya on 42nd Street (1994)</td>\n",
       "      <td>2</td>\n",
       "    </tr>\n",
       "  </tbody>\n",
       "</table>"
      ],
      "text/plain": [
       "<IPython.core.display.HTML object>"
      ]
     },
     "metadata": {
      "tags": []
     },
     "output_type": "display_data"
    }
   ],
   "source": [
    "# create DataLoaders\n",
    "dls = CollabDataLoaders.from_df(ratings, item_name='title', bs=64)\n",
    "dls.show_batch()"
   ]
  },
  {
   "cell_type": "markdown",
   "metadata": {
    "id": "7AdogeHUbgd5"
   },
   "source": [
    "### Matrices for Latent Factors"
   ]
  },
  {
   "cell_type": "markdown",
   "metadata": {
    "id": "wHgp1EJGb5zq"
   },
   "source": [
    "We need the model to find relationships between users and movies. And we need to give the model something concrete and numeric to represent those relationships. We will give it latent factor matrices."
   ]
  },
  {
   "cell_type": "markdown",
   "metadata": {
    "id": "Ag-AfcT9Zy7F"
   },
   "source": [
    "In this example, they have chosen to use 5 latent factors for movies and 5 latent factors for users. We represent these latent factors by creating a matrix of random values.\n",
    "\n",
    "The user latent factors will have 944 rows, one for each user including a null user, and 5 columns, one for each latent factor. The movies latent factors will have 1665, one for each movie including a null movie, and 5 columns.\n"
   ]
  },
  {
   "cell_type": "code",
   "execution_count": null,
   "metadata": {
    "colab": {
     "base_uri": "https://localhost:8080/"
    },
    "id": "7vzbxJZtO0SR",
    "outputId": "a6e7ce10-2983-4154-9a18-cf9998496448"
   },
   "outputs": [
    {
     "data": {
      "text/plain": [
       "((#1665) ['#na#',\"'Til There Was You (1997)\",'1-900 (1994)','101 Dalmatians (1996)','12 Angry Men (1957)','187 (1997)','2 Days in the Valley (1996)','20,000 Leagues Under the Sea (1954)','2001: A Space Odyssey (1968)','3 Ninjas: High Noon At Mega Mountain (1998)'...],\n",
       " (#944) ['#na#',1,2,3,4,5,6,7,8,9...])"
      ]
     },
     "execution_count": 79,
     "metadata": {
      "tags": []
     },
     "output_type": "execute_result"
    }
   ],
   "source": [
    "# user and title classes contain '#na#'\n",
    "L(dls.classes['title']),L(dls.classes['user'])"
   ]
  },
  {
   "cell_type": "code",
   "execution_count": null,
   "metadata": {
    "colab": {
     "base_uri": "https://localhost:8080/"
    },
    "id": "e2elPURnPp8_",
    "outputId": "59403097-9ada-494e-db16-366d66f00fec"
   },
   "outputs": [
    {
     "data": {
      "text/plain": [
       "(944, 1665, 5)"
      ]
     },
     "execution_count": 80,
     "metadata": {
      "tags": []
     },
     "output_type": "execute_result"
    }
   ],
   "source": [
    "# define dimensions for users and movies latent factor matrices\n",
    "n_users = len(dls.classes['user'])\n",
    "n_movies = len(dls.classes['title'])\n",
    "n_factors = 5\n",
    "n_users, n_movies, n_factors"
   ]
  },
  {
   "cell_type": "code",
   "execution_count": null,
   "metadata": {
    "colab": {
     "base_uri": "https://localhost:8080/"
    },
    "id": "kzQr2NUPOqVK",
    "outputId": "956c966d-e654-43eb-8871-1bee2e2d18df"
   },
   "outputs": [
    {
     "data": {
      "text/plain": [
       "(torch.Size([944, 5]), torch.Size([1665, 5]))"
      ]
     },
     "execution_count": 81,
     "metadata": {
      "tags": []
     },
     "output_type": "execute_result"
    }
   ],
   "source": [
    "# build users and movies latent factor matrices\n",
    "user_factors = torch.randn(n_users,n_factors)\n",
    "movie_factors = torch.randn(n_movies, n_factors)\n",
    "user_factors.shape, movie_factors.shape"
   ]
  },
  {
   "cell_type": "markdown",
   "metadata": {
    "id": "hF002a91b-sT"
   },
   "source": [
    "### Embeddings instead of One Hot Encoded Matrix Multiplication"
   ]
  },
  {
   "cell_type": "markdown",
   "metadata": {
    "id": "7QgCufZLcFXN"
   },
   "source": [
    "Okay so how do we use these latent factor matrices? \n",
    "\n",
    "For each row in our batch, we have a user ID and a movie ID. We need to get the latent factors for each of those and calculate the dot product, in order to predict our rating. As it adjusts the latent factors during the training loop, the predictions will get better.\n",
    "\n",
    "I'll grab one batch from the `dls` DataLoaders object and illustrate an example prediction calculation. Each independent variable, `x`, is a tensor with `[user, movie]`. Each dependent variable, `y`, is a tensor with `[rating]`."
   ]
  },
  {
   "cell_type": "code",
   "execution_count": null,
   "metadata": {
    "colab": {
     "base_uri": "https://localhost:8080/"
    },
    "id": "ZDrrZFAqf7FJ",
    "outputId": "70a2cb01-92e1-4a9c-96a1-044c44697b87"
   },
   "outputs": [
    {
     "data": {
      "text/plain": [
       "(torch.Size([64, 2]), torch.Size([64, 1]))"
      ]
     },
     "execution_count": 82,
     "metadata": {
      "tags": []
     },
     "output_type": "execute_result"
    }
   ],
   "source": [
    "x,y = dls.one_batch()\n",
    "x.shape, y.shape"
   ]
  },
  {
   "cell_type": "code",
   "execution_count": null,
   "metadata": {
    "colab": {
     "base_uri": "https://localhost:8080/"
    },
    "id": "r-ZdMgwzhzfa",
    "outputId": "b98e3c7f-cc90-4e33-8826-13be7c53c61a"
   },
   "outputs": [
    {
     "data": {
      "text/plain": [
       "(tensor([466, 614]), tensor([3], dtype=torch.int8))"
      ]
     },
     "execution_count": 83,
     "metadata": {
      "tags": []
     },
     "output_type": "execute_result"
    }
   ],
   "source": [
    "x[0], y[0]"
   ]
  },
  {
   "cell_type": "code",
   "execution_count": null,
   "metadata": {
    "colab": {
     "base_uri": "https://localhost:8080/"
    },
    "id": "H0MPnfuHhrtj",
    "outputId": "64712d98-95dd-4d5c-e5ec-bad1a7b9f121"
   },
   "outputs": [
    {
     "data": {
      "text/plain": [
       "(torch.Tensor, torch.Tensor)"
      ]
     },
     "execution_count": 84,
     "metadata": {
      "tags": []
     },
     "output_type": "execute_result"
    }
   ],
   "source": [
    "type(x[0]), type(y[0])"
   ]
  },
  {
   "cell_type": "markdown",
   "metadata": {
    "id": "ddt_d9Y7iTYP"
   },
   "source": [
    "I determined the order of the x values by looking at the maximum value in each column, specifying axis=0. The movie IDs go up to 1644, so a max value of 1608 means that the movie is the second value in each tensor."
   ]
  },
  {
   "cell_type": "code",
   "execution_count": null,
   "metadata": {
    "colab": {
     "base_uri": "https://localhost:8080/"
    },
    "id": "qJqxO-FHgYuh",
    "outputId": "78a3b3df-d463-4f3e-f178-48748e5a040e"
   },
   "outputs": [
    {
     "data": {
      "text/plain": [
       "torch.return_types.max(values=tensor([ 935, 1642]), indices=tensor([24,  3]))"
      ]
     },
     "execution_count": 85,
     "metadata": {
      "tags": []
     },
     "output_type": "execute_result"
    }
   ],
   "source": [
    "x.max(axis=0)"
   ]
  },
  {
   "cell_type": "markdown",
   "metadata": {
    "id": "T6FQq19ViUdU"
   },
   "source": [
    "I get the latent factors for the user and movie in the first batch item.\n"
   ]
  },
  {
   "cell_type": "code",
   "execution_count": null,
   "metadata": {
    "colab": {
     "base_uri": "https://localhost:8080/"
    },
    "id": "qo7XOdbeiN6N",
    "outputId": "8b130e8c-82b8-4359-8fd5-2cda18c1600c"
   },
   "outputs": [
    {
     "data": {
      "text/plain": [
       "tensor([-0.6595, -0.3355,  1.0491,  1.1764,  0.8750])"
      ]
     },
     "execution_count": 86,
     "metadata": {
      "tags": []
     },
     "output_type": "execute_result"
    }
   ],
   "source": [
    "u = user_factors[x[0][0]]\n",
    "u"
   ]
  },
  {
   "cell_type": "code",
   "execution_count": null,
   "metadata": {
    "colab": {
     "base_uri": "https://localhost:8080/"
    },
    "id": "kHktSfvsimUk",
    "outputId": "c880d222-3091-4bfe-b2e2-7453246e6ae0"
   },
   "outputs": [
    {
     "data": {
      "text/plain": [
       "tensor([-0.1751, -0.5016,  0.6298,  0.2370, -0.7902])"
      ]
     },
     "execution_count": 87,
     "metadata": {
      "tags": []
     },
     "output_type": "execute_result"
    }
   ],
   "source": [
    "m = movie_factors[x[0][1]]\n",
    "m"
   ]
  },
  {
   "cell_type": "markdown",
   "metadata": {
    "id": "IueLujHHjXZw"
   },
   "source": [
    "I calculate the dot product of the two vectors, which is the sum of the element-wise product."
   ]
  },
  {
   "cell_type": "code",
   "execution_count": null,
   "metadata": {
    "colab": {
     "base_uri": "https://localhost:8080/"
    },
    "id": "3Kbh6YU4iv33",
    "outputId": "26a6e28b-f782-4115-a4fe-524f319b702c"
   },
   "outputs": [
    {
     "data": {
      "text/plain": [
       "tensor(0.5320)"
      ]
     },
     "execution_count": 88,
     "metadata": {
      "tags": []
     },
     "output_type": "execute_result"
    }
   ],
   "source": [
    "pred = (u * m).sum()\n",
    "pred"
   ]
  },
  {
   "cell_type": "markdown",
   "metadata": {
    "id": "O7pxcitAjgMj"
   },
   "source": [
    "I pass it through `sigmoid_range` to get a value between 0 and 5. Sigmoid outputs a value between 0 and 1, and `sigmoid_range` scales and shifts that function to fit the specified range. The output is the prediction for the rating that this user would give this movie."
   ]
  },
  {
   "cell_type": "code",
   "execution_count": null,
   "metadata": {
    "colab": {
     "base_uri": "https://localhost:8080/"
    },
    "id": "RgWaNlJFjQwx",
    "outputId": "97192df5-b9c1-4433-eb67-5112aa7c69b3"
   },
   "outputs": [
    {
     "data": {
      "text/plain": [
       "tensor(3.1497)"
      ]
     },
     "execution_count": 89,
     "metadata": {
      "tags": []
     },
     "output_type": "execute_result"
    }
   ],
   "source": [
    "pred = sigmoid_range(pred, 0, 5)\n",
    "pred"
   ]
  },
  {
   "cell_type": "markdown",
   "metadata": {
    "id": "hHjIwpbRkSJF"
   },
   "source": [
    "Since the prediction and the target are a single numeric value, we'll use Mean Squared Error loss. For a single value, the loss is the squared error. For a batch, the mean would be calculated."
   ]
  },
  {
   "cell_type": "code",
   "execution_count": null,
   "metadata": {
    "colab": {
     "base_uri": "https://localhost:8080/"
    },
    "id": "-d4KDIdujsgQ",
    "outputId": "ccc0d923-8a90-495b-9e5b-42108f8a3aa2"
   },
   "outputs": [
    {
     "data": {
      "text/plain": [
       "tensor(0.0224)"
      ]
     },
     "execution_count": 90,
     "metadata": {
      "tags": []
     },
     "output_type": "execute_result"
    }
   ],
   "source": [
    "loss = (pred - y[0].item()) ** 2\n",
    "loss"
   ]
  },
  {
   "cell_type": "markdown",
   "metadata": {
    "id": "MfDq6tLHvh0Z"
   },
   "source": [
    "### Building a Collaborative Filtering Model from Scratch"
   ]
  },
  {
   "cell_type": "markdown",
   "metadata": {
    "id": "HIGasdUE5qip"
   },
   "source": [
    "I'll create a `DotProduct` class which builds an `Embedding` to store latent factor matrices for users and movies, and calculates the prediction in its `forward` method using the dot product of the user and movie latent factors."
   ]
  },
  {
   "cell_type": "code",
   "execution_count": null,
   "metadata": {
    "id": "9PYQ8CV0vr-k"
   },
   "outputs": [],
   "source": [
    "class DotProduct(Module):\n",
    "  def __init__(self, n_users, n_movies, n_factors, y_range=(0,5.5)):\n",
    "    self.user_factors = Embedding(n_users, n_factors)\n",
    "    self.movie_factors = Embedding(n_movies, n_factors)\n",
    "    self.y_range = y_range\n",
    "\n",
    "  def forward(self, x):\n",
    "    users = self.user_factors(x[:,0])\n",
    "    movies = self.movie_factors(x[:,1])\n",
    "    return sigmoid_range((users * movies).sum(dim=1), *self.y_range)"
   ]
  },
  {
   "cell_type": "markdown",
   "metadata": {
    "id": "PbYZ441R6pqw"
   },
   "source": [
    "I'll illustrate how this model operates by coding through the calculation of predictions for one batch.\n",
    "\n",
    "I create Embeddings for users and movies. Their shape corresponds to the number of users and movies and the number of latent factors."
   ]
  },
  {
   "cell_type": "code",
   "execution_count": null,
   "metadata": {
    "colab": {
     "base_uri": "https://localhost:8080/"
    },
    "id": "ACSBTDlc6mAL",
    "outputId": "12c82d07-997e-4b4b-9058-4f799ded40cb"
   },
   "outputs": [
    {
     "data": {
      "text/plain": [
       "(Embedding(944, 5), Embedding(1665, 5))"
      ]
     },
     "execution_count": 92,
     "metadata": {
      "tags": []
     },
     "output_type": "execute_result"
    }
   ],
   "source": [
    "user_factors = Embedding(n_users, n_factors)\n",
    "movie_factors = Embedding(n_movies, n_factors)\n",
    "user_factors, movie_factors"
   ]
  },
  {
   "cell_type": "markdown",
   "metadata": {
    "id": "7Hja1TwK77TZ"
   },
   "source": [
    "The `weight` attribute holds the latent factor values, which are parameters whose gradient can be calculated. The values are from a normal distribution with mean 0 and variance 1."
   ]
  },
  {
   "cell_type": "code",
   "execution_count": null,
   "metadata": {
    "colab": {
     "base_uri": "https://localhost:8080/"
    },
    "id": "8UIN2jE57zMp",
    "outputId": "0b3e699b-9651-4d69-cfd4-a8f28618f349"
   },
   "outputs": [
    {
     "data": {
      "text/plain": [
       "torch.Size([944, 5])"
      ]
     },
     "execution_count": 93,
     "metadata": {
      "tags": []
     },
     "output_type": "execute_result"
    }
   ],
   "source": [
    "user_factors.weight.shape"
   ]
  },
  {
   "cell_type": "code",
   "execution_count": null,
   "metadata": {
    "colab": {
     "base_uri": "https://localhost:8080/"
    },
    "id": "FbXKRIQ_8d5y",
    "outputId": "6ec97c4c-e460-4d8f-916d-d9bf2b7fc00b"
   },
   "outputs": [
    {
     "data": {
      "text/plain": [
       "Parameter containing:\n",
       "tensor([[-0.0066, -0.0111,  0.0091,  0.0056,  0.0075],\n",
       "        [-0.0138, -0.0014,  0.0189,  0.0028, -0.0166],\n",
       "        [ 0.0149,  0.0053, -0.0153,  0.0078, -0.0119],\n",
       "        ...,\n",
       "        [-0.0051, -0.0117,  0.0170, -0.0102, -0.0044],\n",
       "        [ 0.0037, -0.0084,  0.0042, -0.0049,  0.0186],\n",
       "        [ 0.0199, -0.0194,  0.0044,  0.0012,  0.0084]], requires_grad=True)"
      ]
     },
     "execution_count": 94,
     "metadata": {
      "tags": []
     },
     "output_type": "execute_result"
    }
   ],
   "source": [
    "user_factors.weight"
   ]
  },
  {
   "cell_type": "markdown",
   "metadata": {
    "id": "pUFdIKA_BY4x"
   },
   "source": [
    "The user_factors weight has the shape 944 rows by 5 columns. You can see that they are a tensor with requires_grad equals True."
   ]
  },
  {
   "cell_type": "code",
   "execution_count": null,
   "metadata": {
    "colab": {
     "base_uri": "https://localhost:8080/"
    },
    "id": "hrQLDQyk8gsg",
    "outputId": "55643cd1-a117-41c6-c00d-46dd3d201eb4"
   },
   "outputs": [
    {
     "data": {
      "text/plain": [
       "Parameter containing:\n",
       "tensor([[-0.0017, -0.0051,  0.0065,  0.0050, -0.0095],\n",
       "        [-0.0065, -0.0158,  0.0062, -0.0145, -0.0087],\n",
       "        [ 0.0067,  0.0111,  0.0059, -0.0003,  0.0061],\n",
       "        ...,\n",
       "        [-0.0012,  0.0002, -0.0088, -0.0022, -0.0152],\n",
       "        [-0.0053, -0.0058, -0.0074, -0.0033, -0.0171],\n",
       "        [ 0.0030,  0.0031, -0.0037, -0.0023,  0.0157]], requires_grad=True)"
      ]
     },
     "execution_count": 95,
     "metadata": {
      "tags": []
     },
     "output_type": "execute_result"
    }
   ],
   "source": [
    "movie_factors.weight"
   ]
  },
  {
   "cell_type": "markdown",
   "metadata": {
    "id": "qh0AXLn5BcEE"
   },
   "source": [
    "The movie_factors weight has the shape 1665 rows by 5 columns. And here you can see it is a tensor as well with requires_grad equals True.\n"
   ]
  },
  {
   "cell_type": "code",
   "execution_count": null,
   "metadata": {
    "colab": {
     "base_uri": "https://localhost:8080/"
    },
    "id": "NcjKuAl772kc",
    "outputId": "44b895f9-4ab2-4e66-f1d8-cd4fba4002df"
   },
   "outputs": [
    {
     "data": {
      "text/plain": [
       "torch.Size([1665, 5])"
      ]
     },
     "execution_count": 96,
     "metadata": {
      "tags": []
     },
     "output_type": "execute_result"
    }
   ],
   "source": [
    "movie_factors.weight.shape"
   ]
  },
  {
   "cell_type": "markdown",
   "metadata": {
    "id": "9cEir4vxBVEq"
   },
   "source": [
    "In my batch, the 0th column of the dependent variable x holds user indexes. I pass that to user_factors and receive a tensor with those users' latent factors. Column index 1 holds the movie indexes, I pass that to movie_factors and receive a tensor with those movies' latent factors."
   ]
  },
  {
   "cell_type": "code",
   "execution_count": null,
   "metadata": {
    "colab": {
     "base_uri": "https://localhost:8080/"
    },
    "id": "tOKjWCxJ664t",
    "outputId": "7be857d3-9691-4d53-d855-8750b34fd58c"
   },
   "outputs": [
    {
     "data": {
      "text/plain": [
       "tensor([[ 0.0029,  0.0042, -0.0093,  0.0023, -0.0053],\n",
       "        [ 0.0029,  0.0008,  0.0193,  0.0082,  0.0117],\n",
       "        [-0.0025,  0.0070, -0.0144, -0.0193,  0.0086],\n",
       "        [ 0.0103,  0.0028,  0.0172,  0.0110,  0.0084],\n",
       "        [-0.0087, -0.0109,  0.0062, -0.0018, -0.0012]],\n",
       "       grad_fn=<SliceBackward>)"
      ]
     },
     "execution_count": 97,
     "metadata": {
      "tags": []
     },
     "output_type": "execute_result"
    }
   ],
   "source": [
    "users = user_factors(x[:,0])\n",
    "users[:5]"
   ]
  },
  {
   "cell_type": "code",
   "execution_count": null,
   "metadata": {
    "colab": {
     "base_uri": "https://localhost:8080/"
    },
    "id": "mXbzlItp7TXY",
    "outputId": "dde35133-ea99-48d4-f460-f391a19edf7d"
   },
   "outputs": [
    {
     "data": {
      "text/plain": [
       "tensor([[ 0.0011, -0.0009,  0.0114,  0.0017,  0.0033],\n",
       "        [ 0.0049, -0.0019,  0.0175,  0.0027, -0.0014],\n",
       "        [-0.0047, -0.0026,  0.0032,  0.0028, -0.0146],\n",
       "        [-0.0103, -0.0024,  0.0057, -0.0141, -0.0080],\n",
       "        [ 0.0099,  0.0113,  0.0022,  0.0123,  0.0096]],\n",
       "       grad_fn=<SliceBackward>)"
      ]
     },
     "execution_count": 98,
     "metadata": {
      "tags": []
     },
     "output_type": "execute_result"
    }
   ],
   "source": [
    "movies = movie_factors(x[:,1])\n",
    "movies[:5]"
   ]
  },
  {
   "cell_type": "markdown",
   "metadata": {
    "id": "ArJvvwnJBTam"
   },
   "source": [
    "I take the dot product and pass it through a sigmoid_range and the calculate the predictions for the batch."
   ]
  },
  {
   "cell_type": "code",
   "execution_count": null,
   "metadata": {
    "colab": {
     "base_uri": "https://localhost:8080/"
    },
    "id": "UgeQscJr7raS",
    "outputId": "e7ffd9d2-e66e-447f-b096-4f1e5385e804"
   },
   "outputs": [
    {
     "data": {
      "text/plain": [
       "(tensor([2.7498, 2.7505, 2.7497, 2.7497, 2.7497, 2.7501, 2.7495, 2.7506, 2.7499,\n",
       "         2.7502, 2.7503, 2.7506, 2.7501, 2.7498, 2.7497, 2.7507, 2.7498, 2.7497,\n",
       "         2.7499, 2.7500, 2.7499, 2.7500, 2.7502, 2.7501, 2.7502, 2.7499, 2.7500,\n",
       "         2.7499, 2.7499, 2.7501, 2.7503, 2.7497, 2.7500, 2.7498, 2.7497, 2.7496,\n",
       "         2.7502, 2.7502, 2.7501, 2.7498, 2.7501, 2.7502, 2.7500, 2.7501, 2.7506,\n",
       "         2.7500, 2.7498, 2.7499, 2.7501, 2.7502, 2.7502, 2.7501, 2.7498, 2.7501,\n",
       "         2.7501, 2.7499, 2.7499, 2.7499, 2.7498, 2.7502, 2.7499, 2.7498, 2.7494,\n",
       "         2.7499], grad_fn=<AddBackward0>), torch.Size([64]))"
      ]
     },
     "execution_count": 99,
     "metadata": {
      "tags": []
     },
     "output_type": "execute_result"
    }
   ],
   "source": [
    "preds = sigmoid_range((users * movies).sum(dim=1), 0, 5.5)\n",
    "preds, preds.shape"
   ]
  },
  {
   "cell_type": "markdown",
   "metadata": {
    "id": "x1sULB2RBf_Q"
   },
   "source": [
    "That's what the `DotProduct` model will return. I can then take the mean squared error and calculate the loss value, which I can then call backward on, to calculate the gradients for the latent factors. I can then multiply them by the learning rate, and add them to the weights, and repeat the training loop."
   ]
  },
  {
   "cell_type": "code",
   "execution_count": null,
   "metadata": {
    "colab": {
     "base_uri": "https://localhost:8080/"
    },
    "id": "Kb9MDoYHAgCb",
    "outputId": "11d858a6-8e7c-4eeb-c638-f730803fb143"
   },
   "outputs": [
    {
     "data": {
      "text/plain": [
       "tensor(2.0156, grad_fn=<MeanBackward0>)"
      ]
     },
     "execution_count": 100,
     "metadata": {
      "tags": []
     },
     "output_type": "execute_result"
    }
   ],
   "source": [
    "loss = ((preds - y) ** 2).mean()\n",
    "loss"
   ]
  },
  {
   "cell_type": "code",
   "execution_count": null,
   "metadata": {
    "id": "64RZzs8IAzWK"
   },
   "outputs": [],
   "source": [
    "loss.backward()"
   ]
  },
  {
   "cell_type": "code",
   "execution_count": null,
   "metadata": {
    "colab": {
     "base_uri": "https://localhost:8080/"
    },
    "id": "7ymCaxgzA93y",
    "outputId": "d00d5490-b2b4-4bd0-be8d-c2b53dfaaed5"
   },
   "outputs": [
    {
     "data": {
      "text/plain": [
       "tensor([[0., 0., 0., 0., 0.],\n",
       "        [0., 0., 0., 0., 0.],\n",
       "        [0., 0., 0., 0., 0.],\n",
       "        ...,\n",
       "        [0., 0., 0., 0., 0.],\n",
       "        [0., 0., 0., 0., 0.],\n",
       "        [0., 0., 0., 0., 0.]])"
      ]
     },
     "execution_count": 102,
     "metadata": {
      "tags": []
     },
     "output_type": "execute_result"
    }
   ],
   "source": [
    "user_factors.weight.grad"
   ]
  },
  {
   "cell_type": "code",
   "execution_count": null,
   "metadata": {
    "colab": {
     "base_uri": "https://localhost:8080/"
    },
    "id": "cUK98kiuBAca",
    "outputId": "a98901ac-0d97-41f2-96dc-397b441144f1"
   },
   "outputs": [
    {
     "data": {
      "text/plain": [
       "tensor([[0., 0., 0., 0., 0.],\n",
       "        [0., 0., 0., 0., 0.],\n",
       "        [0., 0., 0., 0., 0.],\n",
       "        ...,\n",
       "        [0., 0., 0., 0., 0.],\n",
       "        [0., 0., 0., 0., 0.],\n",
       "        [0., 0., 0., 0., 0.]])"
      ]
     },
     "execution_count": 103,
     "metadata": {
      "tags": []
     },
     "output_type": "execute_result"
    }
   ],
   "source": [
    "movie_factors.weight.grad"
   ]
  },
  {
   "cell_type": "markdown",
   "metadata": {
    "id": "B2lg34B2fBNK"
   },
   "source": [
    "We see here that the gradients are small but not all of them are zero:"
   ]
  },
  {
   "cell_type": "code",
   "execution_count": null,
   "metadata": {
    "colab": {
     "base_uri": "https://localhost:8080/"
    },
    "id": "lT_rjEpYBE-N",
    "outputId": "a5a554f2-d4f3-498b-e346-f97e841a84f2"
   },
   "outputs": [
    {
     "data": {
      "text/plain": [
       "(tensor(-0.0108), tensor(-0.0026))"
      ]
     },
     "execution_count": 104,
     "metadata": {
      "tags": []
     },
     "output_type": "execute_result"
    }
   ],
   "source": [
    "user_factors.weight.grad.sum(), movie_factors.weight.grad.sum()"
   ]
  },
  {
   "cell_type": "markdown",
   "metadata": {
    "id": "0NOfdVrQBvP5"
   },
   "source": [
    "#### Training the Model"
   ]
  },
  {
   "cell_type": "markdown",
   "metadata": {
    "id": "snS4XtElZfpG"
   },
   "source": [
    "There are five different models that I will build, from simple to complex.\n",
    "\n",
    "_Model 1_ will not use `sigmoid_range` for the dot product prediction calculation. Instead, I will get a value that is normally distributed with a mean of zero and a variance of 1. _Model 2_ will pass the predictions through `sigmoid_range` to get an output between 0 and 5.5. _Model 3_ will add a bias parameter to the dot product prediction, so that we can establish some baseline rating of each movie that's independent of a particular latent factor. _Model 4_ will introduce weight decay in order to better generalize our model, and in _Model 5_ I'll implement a custom class instead of using the built-in PyTorch Embedding class.\n",
    "\n",
    "|Model|`sigmoid_range`|Bias|Weight Decay|Custom Embedding|\n",
    "|:-:|:-:|:-:|:-:|:-:|\n",
    "|1|N|N|N|N|\n",
    "|2|Y|N|N|N|\n",
    "|3|Y|Y|N|N|\n",
    "|4|Y|Y|Y|N|\n",
    "|5|Y|Y|Y|Y|"
   ]
  },
  {
   "cell_type": "markdown",
   "metadata": {
    "id": "hJLQTjTvdNWV"
   },
   "source": [
    "##### Model 1: No `sigmoid_range`"
   ]
  },
  {
   "cell_type": "markdown",
   "metadata": {
    "id": "qiWo-hOPdWQp"
   },
   "source": [
    "The `DotProduct` class will initialize an `Embedding` for users and movies with random values from a normal distribution with mean 0 and variance 1. In the `forward` method, called during the _prediction_ step of the training loop, the latent factors for the batch's users and movies are accessed from the corresponding `Embedding` and the dot product is calculated and returned as the prediction. "
   ]
  },
  {
   "cell_type": "code",
   "execution_count": null,
   "metadata": {
    "id": "Me8tfgc7dM2j"
   },
   "outputs": [],
   "source": [
    "class DotProduct(Module):\n",
    "  def __init__(self, n_users, n_movies, n_factors):\n",
    "    self.user_factors = Embedding(n_users, n_factors)\n",
    "    self.movie_factors = Embedding(n_movies, n_factors)\n",
    "  \n",
    "  def forward(self, x):\n",
    "    users = self.user_factors(x[:,0])\n",
    "    movies = self.movie_factors(x[:,1])\n",
    "    return (users * movies).sum(dim=1)"
   ]
  },
  {
   "cell_type": "code",
   "execution_count": null,
   "metadata": {
    "colab": {
     "base_uri": "https://localhost:8080/",
     "height": 204
    },
    "id": "Jea74GPoBJTZ",
    "outputId": "3b7098d2-fe80-48c9-998b-b9b0b24e5f0e"
   },
   "outputs": [
    {
     "data": {
      "text/html": [
       "<table border=\"1\" class=\"dataframe\">\n",
       "  <thead>\n",
       "    <tr style=\"text-align: left;\">\n",
       "      <th>epoch</th>\n",
       "      <th>train_loss</th>\n",
       "      <th>valid_loss</th>\n",
       "      <th>time</th>\n",
       "    </tr>\n",
       "  </thead>\n",
       "  <tbody>\n",
       "    <tr>\n",
       "      <td>0</td>\n",
       "      <td>1.339355</td>\n",
       "      <td>1.274582</td>\n",
       "      <td>00:06</td>\n",
       "    </tr>\n",
       "    <tr>\n",
       "      <td>1</td>\n",
       "      <td>1.039260</td>\n",
       "      <td>1.061794</td>\n",
       "      <td>00:06</td>\n",
       "    </tr>\n",
       "    <tr>\n",
       "      <td>2</td>\n",
       "      <td>0.945793</td>\n",
       "      <td>0.954731</td>\n",
       "      <td>00:06</td>\n",
       "    </tr>\n",
       "    <tr>\n",
       "      <td>3</td>\n",
       "      <td>0.826578</td>\n",
       "      <td>0.871694</td>\n",
       "      <td>00:06</td>\n",
       "    </tr>\n",
       "    <tr>\n",
       "      <td>4</td>\n",
       "      <td>0.752750</td>\n",
       "      <td>0.858231</td>\n",
       "      <td>00:06</td>\n",
       "    </tr>\n",
       "  </tbody>\n",
       "</table>"
      ],
      "text/plain": [
       "<IPython.core.display.HTML object>"
      ]
     },
     "metadata": {
      "tags": []
     },
     "output_type": "display_data"
    }
   ],
   "source": [
    "model = DotProduct(n_users, n_movies, 50)\n",
    "learn = Learner(dls, model, loss_func=MSELossFlat())\n",
    "learn.fit_one_cycle(5,5e-3)"
   ]
  },
  {
   "cell_type": "markdown",
   "metadata": {
    "id": "9CTdEzGgh1yD"
   },
   "source": [
    "The average prediction error on the validation ratings is the square root of the final validation loss."
   ]
  },
  {
   "cell_type": "code",
   "execution_count": null,
   "metadata": {
    "colab": {
     "base_uri": "https://localhost:8080/"
    },
    "id": "ksT-h9kue7-I",
    "outputId": "cf511824-1d9b-4fd8-cb69-c6f71e51a040"
   },
   "outputs": [
    {
     "data": {
      "text/plain": [
       "0.9264077107145671"
      ]
     },
     "execution_count": 107,
     "metadata": {
      "tags": []
     },
     "output_type": "execute_result"
    }
   ],
   "source": [
    "math.sqrt(learn.recorder.final_record[1])"
   ]
  },
  {
   "cell_type": "markdown",
   "metadata": {
    "id": "6cKjzLflnnbt"
   },
   "source": [
    "Here are some predictions on the validation set ratings:"
   ]
  },
  {
   "cell_type": "code",
   "execution_count": null,
   "metadata": {
    "colab": {
     "base_uri": "https://localhost:8080/",
     "height": 328
    },
    "id": "2Vg2Z-IBgRkd",
    "outputId": "81eab572-4349-4cab-8ca4-6b1dda7398bf"
   },
   "outputs": [
    {
     "data": {
      "text/html": [],
      "text/plain": [
       "<IPython.core.display.HTML object>"
      ]
     },
     "metadata": {
      "tags": []
     },
     "output_type": "display_data"
    },
    {
     "data": {
      "text/html": [
       "<table border=\"1\" class=\"dataframe\">\n",
       "  <thead>\n",
       "    <tr style=\"text-align: right;\">\n",
       "      <th></th>\n",
       "      <th>user</th>\n",
       "      <th>title</th>\n",
       "      <th>rating</th>\n",
       "      <th>rating_pred</th>\n",
       "    </tr>\n",
       "  </thead>\n",
       "  <tbody>\n",
       "    <tr>\n",
       "      <th>0</th>\n",
       "      <td>554</td>\n",
       "      <td>37</td>\n",
       "      <td>4</td>\n",
       "      <td>4.181926</td>\n",
       "    </tr>\n",
       "    <tr>\n",
       "      <th>1</th>\n",
       "      <td>561</td>\n",
       "      <td>811</td>\n",
       "      <td>4</td>\n",
       "      <td>3.008064</td>\n",
       "    </tr>\n",
       "    <tr>\n",
       "      <th>2</th>\n",
       "      <td>503</td>\n",
       "      <td>298</td>\n",
       "      <td>5</td>\n",
       "      <td>4.451642</td>\n",
       "    </tr>\n",
       "    <tr>\n",
       "      <th>3</th>\n",
       "      <td>380</td>\n",
       "      <td>581</td>\n",
       "      <td>4</td>\n",
       "      <td>3.474877</td>\n",
       "    </tr>\n",
       "    <tr>\n",
       "      <th>4</th>\n",
       "      <td>666</td>\n",
       "      <td>422</td>\n",
       "      <td>4</td>\n",
       "      <td>4.054492</td>\n",
       "    </tr>\n",
       "    <tr>\n",
       "      <th>5</th>\n",
       "      <td>444</td>\n",
       "      <td>933</td>\n",
       "      <td>2</td>\n",
       "      <td>3.940120</td>\n",
       "    </tr>\n",
       "    <tr>\n",
       "      <th>6</th>\n",
       "      <td>368</td>\n",
       "      <td>1612</td>\n",
       "      <td>3</td>\n",
       "      <td>2.864129</td>\n",
       "    </tr>\n",
       "    <tr>\n",
       "      <th>7</th>\n",
       "      <td>537</td>\n",
       "      <td>457</td>\n",
       "      <td>3</td>\n",
       "      <td>2.955165</td>\n",
       "    </tr>\n",
       "    <tr>\n",
       "      <th>8</th>\n",
       "      <td>224</td>\n",
       "      <td>1535</td>\n",
       "      <td>1</td>\n",
       "      <td>2.940819</td>\n",
       "    </tr>\n",
       "  </tbody>\n",
       "</table>"
      ],
      "text/plain": [
       "<IPython.core.display.HTML object>"
      ]
     },
     "metadata": {
      "tags": []
     },
     "output_type": "display_data"
    }
   ],
   "source": [
    "learn.show_results()"
   ]
  },
  {
   "cell_type": "markdown",
   "metadata": {
    "id": "b1vsIdX2oB06"
   },
   "source": [
    "##### Model 2 - with `sigmoid_range`"
   ]
  },
  {
   "cell_type": "markdown",
   "metadata": {
    "id": "p7re8nUIoFEv"
   },
   "source": [
    "In this model, I'll force the predictions to fall within the range of actual ratings. The book recommends, based on what they've experienced, using a maximum rating for predictions that is slightly larger than the maximum ground truth rating. The range of predictions we'll use is 0 to 5.5."
   ]
  },
  {
   "cell_type": "code",
   "execution_count": null,
   "metadata": {
    "id": "wjMKZs38oWYi"
   },
   "outputs": [],
   "source": [
    "class DotProduct(Module):\n",
    "  def __init__(self, n_users, n_movies, n_factors, y_range=(0,5.5)):\n",
    "    self.user_factors = Embedding(n_users, n_factors)\n",
    "    self.movie_factors = Embedding(n_movies, n_factors)\n",
    "    self.y_range = y_range\n",
    "  \n",
    "  def forward(self, x):\n",
    "    users = self.user_factors(x[:,0])\n",
    "    movies = self.movie_factors(x[:,1])\n",
    "    return sigmoid_range((users * movies).sum(dim=1), *self.y_range)"
   ]
  },
  {
   "cell_type": "code",
   "execution_count": null,
   "metadata": {
    "colab": {
     "base_uri": "https://localhost:8080/",
     "height": 204
    },
    "id": "HJWbkQ4God8Y",
    "outputId": "b6b1f4c1-70fb-4e8d-a5e8-199051f637fa"
   },
   "outputs": [
    {
     "data": {
      "text/html": [
       "<table border=\"1\" class=\"dataframe\">\n",
       "  <thead>\n",
       "    <tr style=\"text-align: left;\">\n",
       "      <th>epoch</th>\n",
       "      <th>train_loss</th>\n",
       "      <th>valid_loss</th>\n",
       "      <th>time</th>\n",
       "    </tr>\n",
       "  </thead>\n",
       "  <tbody>\n",
       "    <tr>\n",
       "      <td>0</td>\n",
       "      <td>1.009657</td>\n",
       "      <td>0.977510</td>\n",
       "      <td>00:07</td>\n",
       "    </tr>\n",
       "    <tr>\n",
       "      <td>1</td>\n",
       "      <td>0.881551</td>\n",
       "      <td>0.891973</td>\n",
       "      <td>00:06</td>\n",
       "    </tr>\n",
       "    <tr>\n",
       "      <td>2</td>\n",
       "      <td>0.686247</td>\n",
       "      <td>0.853506</td>\n",
       "      <td>00:07</td>\n",
       "    </tr>\n",
       "    <tr>\n",
       "      <td>3</td>\n",
       "      <td>0.487054</td>\n",
       "      <td>0.857519</td>\n",
       "      <td>00:06</td>\n",
       "    </tr>\n",
       "    <tr>\n",
       "      <td>4</td>\n",
       "      <td>0.374934</td>\n",
       "      <td>0.862651</td>\n",
       "      <td>00:06</td>\n",
       "    </tr>\n",
       "  </tbody>\n",
       "</table>"
      ],
      "text/plain": [
       "<IPython.core.display.HTML object>"
      ]
     },
     "metadata": {
      "tags": []
     },
     "output_type": "display_data"
    }
   ],
   "source": [
    "model = DotProduct(n_users, n_movies, 50)\n",
    "learn = Learner(dls, model, loss_func=MSELossFlat())\n",
    "learn.fit_one_cycle(5,5e-3)"
   ]
  },
  {
   "cell_type": "code",
   "execution_count": null,
   "metadata": {
    "id": "9uWkYNalox7P"
   },
   "outputs": [],
   "source": [
    "math.sqrt(learn.recorder.final_record[1])"
   ]
  },
  {
   "cell_type": "code",
   "execution_count": null,
   "metadata": {
    "id": "lIuY57gmpPbL"
   },
   "outputs": [],
   "source": [
    "learn.show_results()"
   ]
  },
  {
   "cell_type": "markdown",
   "metadata": {
    "id": "gJXCLZnGqPdX"
   },
   "source": [
    "The valid loss starts off lower, but by the end of the training, I don't see an improvement. In fact, the valid loss starts to increase at the end. This is an indication that overfitting is taking place. This will be addressed in Model 4."
   ]
  },
  {
   "cell_type": "markdown",
   "metadata": {
    "id": "G7IWceGeqP2y"
   },
   "source": [
    "##### Model 3 - Add bias"
   ]
  },
  {
   "cell_type": "markdown",
   "metadata": {
    "id": "pBbsTVGIqTm8"
   },
   "source": [
    "But first, let's look at Model 3, which adds a bias parameter to the predictions, which provides a baseline rating for each movie independent of the weights related to the different latent factors.\n"
   ]
  },
  {
   "cell_type": "code",
   "execution_count": null,
   "metadata": {
    "id": "ZydnFrqZpjvw"
   },
   "outputs": [],
   "source": [
    "class DotProductBias(Module):\n",
    "  def __init__(self, n_users, n_movies, n_factors, y_range=(0,5.5)):\n",
    "    self.user_factors = Embedding(n_users, n_factors)\n",
    "    self.user_bias = Embedding(n_users, 1)\n",
    "    self.movie_factors = Embedding(n_movies, n_factors)\n",
    "    self.movie_bias = Embedding(n_movies, 1)\n",
    "    self.y_range = y_range\n",
    "  \n",
    "  def forward(self, x):\n",
    "    users = self.user_factors(x[:,0])\n",
    "    movies = self.movie_factors(x[:,1])\n",
    "    res = (users * movies).sum(dim=1, keepdim=True)\n",
    "    res += self.user_bias(x[:,0]) + self.movie_bias(x[:,1])\n",
    "    return sigmoid_range(res, *self.y_range)"
   ]
  },
  {
   "cell_type": "markdown",
   "metadata": {
    "id": "PIpW1jkwq74B"
   },
   "source": [
    "In addition to initializing new Embeddings for bias, the dot product is first kept in matrix form by passing `keepdim=True` to the `sum` method. The biases are then added on afterwhich the result is passed through `sigmoid_range`. Here's a illustrative example for how `keepdim=True` affects the dot product:"
   ]
  },
  {
   "cell_type": "code",
   "execution_count": null,
   "metadata": {
    "colab": {
     "base_uri": "https://localhost:8080/"
    },
    "id": "MXbLcPTPq7XT",
    "outputId": "b3e70771-e340-4270-c6ee-34ad607a0297"
   },
   "outputs": [
    {
     "data": {
      "text/plain": [
       "(torch.Size([2]), torch.Size([2, 1]))"
      ]
     },
     "execution_count": 112,
     "metadata": {
      "tags": []
     },
     "output_type": "execute_result"
    }
   ],
   "source": [
    "a = Tensor([[1,2,3], [4,5,6]])\n",
    "(a * a).sum(dim=1).shape, (a * a).sum(dim=1, keepdim=True).shape"
   ]
  },
  {
   "cell_type": "markdown",
   "metadata": {
    "id": "Ievzz37nrw2g"
   },
   "source": [
    "The first tensor is a 2-vector, whereas the second tensor is a 2 x 1 matrix.\n",
    "\n",
    "---\n",
    "\n",
    "Let's train Model 3 and view the results!"
   ]
  },
  {
   "cell_type": "code",
   "execution_count": null,
   "metadata": {
    "colab": {
     "base_uri": "https://localhost:8080/",
     "height": 204
    },
    "id": "HB1qCVdcrf6q",
    "outputId": "760fc64a-49db-4e64-d283-b7a65c8f1166"
   },
   "outputs": [
    {
     "data": {
      "text/html": [
       "<table border=\"1\" class=\"dataframe\">\n",
       "  <thead>\n",
       "    <tr style=\"text-align: left;\">\n",
       "      <th>epoch</th>\n",
       "      <th>train_loss</th>\n",
       "      <th>valid_loss</th>\n",
       "      <th>time</th>\n",
       "    </tr>\n",
       "  </thead>\n",
       "  <tbody>\n",
       "    <tr>\n",
       "      <td>0</td>\n",
       "      <td>0.952214</td>\n",
       "      <td>0.912603</td>\n",
       "      <td>00:07</td>\n",
       "    </tr>\n",
       "    <tr>\n",
       "      <td>1</td>\n",
       "      <td>0.825348</td>\n",
       "      <td>0.845193</td>\n",
       "      <td>00:07</td>\n",
       "    </tr>\n",
       "    <tr>\n",
       "      <td>2</td>\n",
       "      <td>0.618910</td>\n",
       "      <td>0.852381</td>\n",
       "      <td>00:07</td>\n",
       "    </tr>\n",
       "    <tr>\n",
       "      <td>3</td>\n",
       "      <td>0.406514</td>\n",
       "      <td>0.875637</td>\n",
       "      <td>00:07</td>\n",
       "    </tr>\n",
       "    <tr>\n",
       "      <td>4</td>\n",
       "      <td>0.293729</td>\n",
       "      <td>0.882840</td>\n",
       "      <td>00:07</td>\n",
       "    </tr>\n",
       "  </tbody>\n",
       "</table>"
      ],
      "text/plain": [
       "<IPython.core.display.HTML object>"
      ]
     },
     "metadata": {
      "tags": []
     },
     "output_type": "display_data"
    }
   ],
   "source": [
    "model = DotProductBias(n_users, n_movies, 50)\n",
    "learn = Learner(dls, model, loss_func=MSELossFlat())\n",
    "learn.fit_one_cycle(5,5e-3)"
   ]
  },
  {
   "cell_type": "markdown",
   "metadata": {
    "id": "r1w5NxzmsNwP"
   },
   "source": [
    "The initial validation loss is lower than the previous trainings, but Model 3 is overfitting even more than Model 2. It's time to introduce _weight decay_."
   ]
  },
  {
   "cell_type": "markdown",
   "metadata": {
    "id": "Fy5VZvGCsYc0"
   },
   "source": [
    "##### Model 4 - Use Weight Decay"
   ]
  },
  {
   "cell_type": "markdown",
   "metadata": {
    "id": "Clsuq8nuscBd"
   },
   "source": [
    "Smaller weights lead to a smoother function which corresponds to fewer inflection points, leading to a better generalization of the model. Larger weights lead to a sharper function, corresponding to more inflection points which overfit the training data."
   ]
  },
  {
   "cell_type": "markdown",
   "metadata": {
    "id": "CD63fEpftNUP"
   },
   "source": [
    "The text uses the basic example of a parabola to illustrate. As the weight `a` increases, the function becomes narrower, with a sharper trough."
   ]
  },
  {
   "cell_type": "code",
   "execution_count": null,
   "metadata": {
    "colab": {
     "base_uri": "https://localhost:8080/",
     "height": 523
    },
    "id": "1qQKMrSAsDpG",
    "outputId": "a194620f-307a-4643-a275-d1a76ae99862"
   },
   "outputs": [
    {
     "data": {
      "text/html": [
       "<iframe src=\"https://www.desmos.com/calculator/uog6rvyubg\" width=\"500\" height=\"500\" style=\"border: 1px solid #ccc\" frameborder=0></iframe>"
      ],
      "text/plain": [
       "<IPython.core.display.HTML object>"
      ]
     },
     "execution_count": 114,
     "metadata": {
      "tags": []
     },
     "output_type": "execute_result"
    }
   ],
   "source": [
    "HTML('<iframe src=\"https://www.desmos.com/calculator/uog6rvyubg\" width=\"500\" height=\"500\" style=\"border: 1px solid #ccc\" frameborder=0></iframe>')"
   ]
  },
  {
   "cell_type": "markdown",
   "metadata": {
    "id": "lpulOJIYuvrR"
   },
   "source": [
    "We will intentionally increase the gradients so that the weights are stepped with larger increments toward a smaller value.\n",
    "\n",
    "This corresponds to an intentionally larger loss value calculated for each batch:\n",
    "\n",
    "```python\n",
    "loss_with_wd = loss + wd * (parameters**2).sum()\n",
    "```\n",
    "\n",
    "The parameters are squared to ensure a positive value. Taking the derivative of the loss function means taking the derivative of the following function:\n",
    "\n",
    "```python\n",
    "wd * (parameters**2).sum()\n",
    "```\n",
    "\n",
    "Which results in:\n",
    "\n",
    "```python\n",
    "2 * wd * parameters\n",
    "```\n",
    "\n",
    "Instead of multiplying by 2, we can just use twice the weight decay value as `wd`. I'll use a weight decay of `0.1` as they do in the text."
   ]
  },
  {
   "cell_type": "code",
   "execution_count": null,
   "metadata": {
    "colab": {
     "base_uri": "https://localhost:8080/",
     "height": 204
    },
    "id": "4CTk70ObtcdN",
    "outputId": "d70a2940-9c6a-419d-f69a-afa29c06a1a7"
   },
   "outputs": [
    {
     "data": {
      "text/html": [
       "<table border=\"1\" class=\"dataframe\">\n",
       "  <thead>\n",
       "    <tr style=\"text-align: left;\">\n",
       "      <th>epoch</th>\n",
       "      <th>train_loss</th>\n",
       "      <th>valid_loss</th>\n",
       "      <th>time</th>\n",
       "    </tr>\n",
       "  </thead>\n",
       "  <tbody>\n",
       "    <tr>\n",
       "      <td>0</td>\n",
       "      <td>0.939321</td>\n",
       "      <td>0.937423</td>\n",
       "      <td>00:07</td>\n",
       "    </tr>\n",
       "    <tr>\n",
       "      <td>1</td>\n",
       "      <td>0.851871</td>\n",
       "      <td>0.855584</td>\n",
       "      <td>00:07</td>\n",
       "    </tr>\n",
       "    <tr>\n",
       "      <td>2</td>\n",
       "      <td>0.720202</td>\n",
       "      <td>0.815807</td>\n",
       "      <td>00:07</td>\n",
       "    </tr>\n",
       "    <tr>\n",
       "      <td>3</td>\n",
       "      <td>0.630149</td>\n",
       "      <td>0.806268</td>\n",
       "      <td>00:07</td>\n",
       "    </tr>\n",
       "    <tr>\n",
       "      <td>4</td>\n",
       "      <td>0.491224</td>\n",
       "      <td>0.807063</td>\n",
       "      <td>00:07</td>\n",
       "    </tr>\n",
       "  </tbody>\n",
       "</table>"
      ],
      "text/plain": [
       "<IPython.core.display.HTML object>"
      ]
     },
     "metadata": {
      "tags": []
     },
     "output_type": "display_data"
    }
   ],
   "source": [
    "model = DotProductBias(n_users, n_movies, 50)\n",
    "learn = Learner(dls, model, loss_func=MSELossFlat())\n",
    "learn.fit_one_cycle(5,5e-3, wd=0.1)"
   ]
  },
  {
   "cell_type": "code",
   "execution_count": null,
   "metadata": {
    "colab": {
     "base_uri": "https://localhost:8080/",
     "height": 328
    },
    "id": "8EARUQh6xhsp",
    "outputId": "54927e83-fa93-4216-f83a-8dca8be0c3d6"
   },
   "outputs": [
    {
     "data": {
      "text/html": [],
      "text/plain": [
       "<IPython.core.display.HTML object>"
      ]
     },
     "metadata": {
      "tags": []
     },
     "output_type": "display_data"
    },
    {
     "data": {
      "text/html": [
       "<table border=\"1\" class=\"dataframe\">\n",
       "  <thead>\n",
       "    <tr style=\"text-align: right;\">\n",
       "      <th></th>\n",
       "      <th>user</th>\n",
       "      <th>title</th>\n",
       "      <th>rating</th>\n",
       "      <th>rating_pred</th>\n",
       "    </tr>\n",
       "  </thead>\n",
       "  <tbody>\n",
       "    <tr>\n",
       "      <th>0</th>\n",
       "      <td>877</td>\n",
       "      <td>1538</td>\n",
       "      <td>3</td>\n",
       "      <td>3.708797</td>\n",
       "    </tr>\n",
       "    <tr>\n",
       "      <th>1</th>\n",
       "      <td>601</td>\n",
       "      <td>1285</td>\n",
       "      <td>1</td>\n",
       "      <td>2.832736</td>\n",
       "    </tr>\n",
       "    <tr>\n",
       "      <th>2</th>\n",
       "      <td>292</td>\n",
       "      <td>1147</td>\n",
       "      <td>2</td>\n",
       "      <td>3.675529</td>\n",
       "    </tr>\n",
       "    <tr>\n",
       "      <th>3</th>\n",
       "      <td>132</td>\n",
       "      <td>400</td>\n",
       "      <td>4</td>\n",
       "      <td>3.504542</td>\n",
       "    </tr>\n",
       "    <tr>\n",
       "      <th>4</th>\n",
       "      <td>405</td>\n",
       "      <td>1614</td>\n",
       "      <td>1</td>\n",
       "      <td>1.930779</td>\n",
       "    </tr>\n",
       "    <tr>\n",
       "      <th>5</th>\n",
       "      <td>655</td>\n",
       "      <td>458</td>\n",
       "      <td>3</td>\n",
       "      <td>3.274209</td>\n",
       "    </tr>\n",
       "    <tr>\n",
       "      <th>6</th>\n",
       "      <td>453</td>\n",
       "      <td>60</td>\n",
       "      <td>4</td>\n",
       "      <td>3.864617</td>\n",
       "    </tr>\n",
       "    <tr>\n",
       "      <th>7</th>\n",
       "      <td>629</td>\n",
       "      <td>1498</td>\n",
       "      <td>4</td>\n",
       "      <td>3.598821</td>\n",
       "    </tr>\n",
       "    <tr>\n",
       "      <th>8</th>\n",
       "      <td>724</td>\n",
       "      <td>580</td>\n",
       "      <td>4</td>\n",
       "      <td>3.921505</td>\n",
       "    </tr>\n",
       "  </tbody>\n",
       "</table>"
      ],
      "text/plain": [
       "<IPython.core.display.HTML object>"
      ]
     },
     "metadata": {
      "tags": []
     },
     "output_type": "display_data"
    }
   ],
   "source": [
    "learn.show_results()"
   ]
  },
  {
   "cell_type": "markdown",
   "metadata": {
    "id": "keIfQvJ5yWBl"
   },
   "source": [
    "##### Model 5 - custom Embedding class"
   ]
  },
  {
   "cell_type": "markdown",
   "metadata": {
    "id": "jiRBmcsLyaoK"
   },
   "source": [
    "The final model I'll train does not have a fundamentally different component than the other four. Instead of using the built-in `Embedding` PyTorch class, the text has us write our own class.\n",
    "\n",
    "Optimizers get a module's parameters by calling the `parameters` method. We have to wrap parameters in `nn.Parameter` for them to be recognized as such. This class also calls `requires_grad_` for us.\n",
    "\n",
    "I'll replace each `Embedding` with a tensor filled with random values from a normal distribution with mean 0 and variance 0.01."
   ]
  },
  {
   "cell_type": "code",
   "execution_count": null,
   "metadata": {
    "id": "zVaBkRV4yTD6"
   },
   "outputs": [],
   "source": [
    "def create_params(size):\n",
    "  return nn.Parameter(torch.zeros(*size).normal_(0,0.01))"
   ]
  },
  {
   "cell_type": "code",
   "execution_count": null,
   "metadata": {
    "colab": {
     "base_uri": "https://localhost:8080/"
    },
    "id": "pgzEhV9I0Q_W",
    "outputId": "513200ed-28ef-448b-aa14-28a34dc429e3"
   },
   "outputs": [
    {
     "data": {
      "text/plain": [
       "tensor([[0., 0., 0., 0.],\n",
       "        [0., 0., 0., 0.],\n",
       "        [0., 0., 0., 0.]])"
      ]
     },
     "execution_count": 118,
     "metadata": {
      "tags": []
     },
     "output_type": "execute_result"
    }
   ],
   "source": [
    "torch.zeros(3,4)"
   ]
  },
  {
   "cell_type": "code",
   "execution_count": null,
   "metadata": {
    "colab": {
     "base_uri": "https://localhost:8080/"
    },
    "id": "SQV_XOJd0cHd",
    "outputId": "bb7a14ef-7e57-40a1-da08-f76c0f81e33f"
   },
   "outputs": [
    {
     "data": {
      "text/plain": [
       "tensor([[-0.0134,  0.0098, -0.0124, -0.0032],\n",
       "        [ 0.0056,  0.0071,  0.0005,  0.0014],\n",
       "        [-0.0236, -0.0024, -0.0060,  0.0017]])"
      ]
     },
     "execution_count": 119,
     "metadata": {
      "tags": []
     },
     "output_type": "execute_result"
    }
   ],
   "source": [
    "torch.zeros(3,4).normal_(0,0.01)"
   ]
  },
  {
   "cell_type": "markdown",
   "metadata": {
    "id": "UPdlZknl0ulY"
   },
   "source": [
    "I redefine the `DotProductBias` model using the `create_params` method instead of `Embedding`, and train the model.*italicized text*"
   ]
  },
  {
   "cell_type": "code",
   "execution_count": null,
   "metadata": {
    "id": "DMZOxbhQ0oKe"
   },
   "outputs": [],
   "source": [
    "class DotProductBias(Module):\n",
    "  def __init__(self, n_users, n_movies, n_factors, y_range=(0,5.5)):\n",
    "    self.user_factors = create_params([n_users, n_factors])\n",
    "    self.user_bias = create_params([n_users])\n",
    "    self.movie_factors = create_params([n_movies, n_factors])\n",
    "    self.movie_bias = create_params([n_movies])\n",
    "    self.y_range = y_range\n",
    "  \n",
    "  def forward(self, x):\n",
    "    users = self.user_factors[x[:,0]]\n",
    "    movies = self.movie_factors[x[:,1]]\n",
    "    res = (users * movies).sum(dim=1)\n",
    "    res += self.user_bias[x[:,0]] + self.movie_bias[x[:,1]]\n",
    "    return sigmoid_range(res, *self.y_range)"
   ]
  },
  {
   "cell_type": "code",
   "execution_count": null,
   "metadata": {
    "colab": {
     "base_uri": "https://localhost:8080/",
     "height": 204
    },
    "id": "R7ct7nDV1Glj",
    "outputId": "7a7c03d6-2ce8-4a34-9589-d43c0ef684f7"
   },
   "outputs": [
    {
     "data": {
      "text/html": [
       "<table border=\"1\" class=\"dataframe\">\n",
       "  <thead>\n",
       "    <tr style=\"text-align: left;\">\n",
       "      <th>epoch</th>\n",
       "      <th>train_loss</th>\n",
       "      <th>valid_loss</th>\n",
       "      <th>time</th>\n",
       "    </tr>\n",
       "  </thead>\n",
       "  <tbody>\n",
       "    <tr>\n",
       "      <td>0</td>\n",
       "      <td>0.934845</td>\n",
       "      <td>0.933218</td>\n",
       "      <td>00:08</td>\n",
       "    </tr>\n",
       "    <tr>\n",
       "      <td>1</td>\n",
       "      <td>0.841111</td>\n",
       "      <td>0.859618</td>\n",
       "      <td>00:08</td>\n",
       "    </tr>\n",
       "    <tr>\n",
       "      <td>2</td>\n",
       "      <td>0.730065</td>\n",
       "      <td>0.820388</td>\n",
       "      <td>00:08</td>\n",
       "    </tr>\n",
       "    <tr>\n",
       "      <td>3</td>\n",
       "      <td>0.599684</td>\n",
       "      <td>0.807086</td>\n",
       "      <td>00:08</td>\n",
       "    </tr>\n",
       "    <tr>\n",
       "      <td>4</td>\n",
       "      <td>0.484760</td>\n",
       "      <td>0.807552</td>\n",
       "      <td>00:08</td>\n",
       "    </tr>\n",
       "  </tbody>\n",
       "</table>"
      ],
      "text/plain": [
       "<IPython.core.display.HTML object>"
      ]
     },
     "metadata": {
      "tags": []
     },
     "output_type": "display_data"
    }
   ],
   "source": [
    "model = DotProductBias(n_users, n_movies, 50)\n",
    "learn = Learner(dls, model, loss_func=MSELossFlat())\n",
    "learn.fit_one_cycle(5,5e-3, wd=0.1)"
   ]
  },
  {
   "cell_type": "code",
   "execution_count": null,
   "metadata": {
    "colab": {
     "base_uri": "https://localhost:8080/",
     "height": 328
    },
    "id": "uVHjWFkW4U_h",
    "outputId": "d36e0e2f-3613-4a7f-d7ae-c013cc9fbdf6"
   },
   "outputs": [
    {
     "data": {
      "text/html": [],
      "text/plain": [
       "<IPython.core.display.HTML object>"
      ]
     },
     "metadata": {
      "tags": []
     },
     "output_type": "display_data"
    },
    {
     "data": {
      "text/html": [
       "<table border=\"1\" class=\"dataframe\">\n",
       "  <thead>\n",
       "    <tr style=\"text-align: right;\">\n",
       "      <th></th>\n",
       "      <th>user</th>\n",
       "      <th>title</th>\n",
       "      <th>rating</th>\n",
       "      <th>rating_pred</th>\n",
       "    </tr>\n",
       "  </thead>\n",
       "  <tbody>\n",
       "    <tr>\n",
       "      <th>0</th>\n",
       "      <td>487</td>\n",
       "      <td>6</td>\n",
       "      <td>3</td>\n",
       "      <td>2.994869</td>\n",
       "    </tr>\n",
       "    <tr>\n",
       "      <th>1</th>\n",
       "      <td>54</td>\n",
       "      <td>349</td>\n",
       "      <td>3</td>\n",
       "      <td>2.511689</td>\n",
       "    </tr>\n",
       "    <tr>\n",
       "      <th>2</th>\n",
       "      <td>501</td>\n",
       "      <td>1252</td>\n",
       "      <td>4</td>\n",
       "      <td>4.130728</td>\n",
       "    </tr>\n",
       "    <tr>\n",
       "      <th>3</th>\n",
       "      <td>244</td>\n",
       "      <td>861</td>\n",
       "      <td>4</td>\n",
       "      <td>2.314526</td>\n",
       "    </tr>\n",
       "    <tr>\n",
       "      <th>4</th>\n",
       "      <td>322</td>\n",
       "      <td>1501</td>\n",
       "      <td>5</td>\n",
       "      <td>3.823119</td>\n",
       "    </tr>\n",
       "    <tr>\n",
       "      <th>5</th>\n",
       "      <td>537</td>\n",
       "      <td>1294</td>\n",
       "      <td>2</td>\n",
       "      <td>3.124064</td>\n",
       "    </tr>\n",
       "    <tr>\n",
       "      <th>6</th>\n",
       "      <td>193</td>\n",
       "      <td>1530</td>\n",
       "      <td>3</td>\n",
       "      <td>2.546681</td>\n",
       "    </tr>\n",
       "    <tr>\n",
       "      <th>7</th>\n",
       "      <td>581</td>\n",
       "      <td>286</td>\n",
       "      <td>5</td>\n",
       "      <td>3.062707</td>\n",
       "    </tr>\n",
       "    <tr>\n",
       "      <th>8</th>\n",
       "      <td>450</td>\n",
       "      <td>154</td>\n",
       "      <td>4</td>\n",
       "      <td>4.161049</td>\n",
       "    </tr>\n",
       "  </tbody>\n",
       "</table>"
      ],
      "text/plain": [
       "<IPython.core.display.HTML object>"
      ]
     },
     "metadata": {
      "tags": []
     },
     "output_type": "display_data"
    }
   ],
   "source": [
    "learn.show_results()"
   ]
  },
  {
   "cell_type": "markdown",
   "metadata": {
    "id": "sJaE_PHZ1wb8"
   },
   "source": [
    "I get similar results as before!"
   ]
  },
  {
   "cell_type": "markdown",
   "metadata": {
    "id": "NmdlrXDi3JGK"
   },
   "source": [
    "#### Interpreting Embeddings and Biases"
   ]
  },
  {
   "cell_type": "markdown",
   "metadata": {
    "id": "yeQF-7Y_OHt2"
   },
   "source": [
    "I'll save this model so that the embedding and bias analyses I perform can be recreated."
   ]
  },
  {
   "cell_type": "code",
   "execution_count": null,
   "metadata": {
    "id": "Gor5pu33OdTQ"
   },
   "outputs": [],
   "source": [
    "learn = load_learner(\"/content/gdrive/MyDrive/fastai-course-v4/dot_product_bias.pkl\")\n",
    "model = learn.model"
   ]
  },
  {
   "cell_type": "markdown",
   "metadata": {
    "id": "gBvyAEg_3sGQ"
   },
   "source": [
    "Bias represents a baseline rating of a movie regardless of how well the latent factors of the movie match the latent factors of the user. Low bias values correspond to movies that people didn't enjoy, even if it matched their preferences.\n",
    "\n",
    "What were the 5 generally least liked movies?\n",
    "\n",
    "To answer that question, I get the indexes of the sorted movie_bias values in ascending order, grab the first 5, and get their title from the DataLoaders classes. These 5 movies had the 5 lowest bias values.\n"
   ]
  },
  {
   "cell_type": "code",
   "execution_count": null,
   "metadata": {
    "colab": {
     "base_uri": "https://localhost:8080/"
    },
    "id": "tWgwU7xr1L07",
    "outputId": "dcfbccc6-0ada-4b0c-f607-a9354f725823"
   },
   "outputs": [
    {
     "data": {
      "text/plain": [
       "['Children of the Corn: The Gathering (1996)',\n",
       " 'Robocop 3 (1993)',\n",
       " 'Showgirls (1995)',\n",
       " 'Kansas City (1996)',\n",
       " 'Lawnmower Man 2: Beyond Cyberspace (1996)']"
      ]
     },
     "execution_count": 35,
     "metadata": {
      "tags": []
     },
     "output_type": "execute_result"
    }
   ],
   "source": [
    "movie_bias = model.movie_bias\n",
    "idxs = movie_bias.argsort()[:5]\n",
    "[dls.classes['title'][i] for i in idxs]"
   ]
  },
  {
   "cell_type": "markdown",
   "metadata": {
    "id": "Gd1DpQ085LbN"
   },
   "source": [
    "To answer that question, I get the indexes of the sorted movie_bias values in ascending order, grab the first 5, and get their title from the DataLoaders classes. These 5 movies had the 5 lowest bias values."
   ]
  },
  {
   "cell_type": "code",
   "execution_count": null,
   "metadata": {
    "colab": {
     "base_uri": "https://localhost:8080/"
    },
    "id": "2n7nlEAc4H4m",
    "outputId": "dcbd3b2b-404a-404b-eb87-fc053de357d8"
   },
   "outputs": [
    {
     "data": {
      "text/plain": [
       "['Titanic (1997)',\n",
       " 'L.A. Confidential (1997)',\n",
       " 'As Good As It Gets (1997)',\n",
       " 'Shawshank Redemption, The (1994)',\n",
       " 'Good Will Hunting (1997)']"
      ]
     },
     "execution_count": 125,
     "metadata": {
      "tags": []
     },
     "output_type": "execute_result"
    }
   ],
   "source": [
    "idxs = movie_bias.argsort(descending=True)[:5]\n",
    "[dls.classes['title'][i] for i in idxs]"
   ]
  },
  {
   "cell_type": "markdown",
   "metadata": {
    "id": "Fy8PTuW7rwAk"
   },
   "source": [
    "##### Visualizing Embeddings"
   ]
  },
  {
   "cell_type": "markdown",
   "metadata": {
    "id": "vYs0Q_xEaP6L"
   },
   "source": [
    "The embeddings are a 50-dimensional matrix of latent factors. I'll use Principal Component Analysis (PCA) to extract the two most descriptive dimensions and plot the latent factor values. I'll also calculate the distance from 0 of each movie so that I can filter for outliers in order to reduce the number of data points on the plot, and help me understand what these latent factors may be."
   ]
  },
  {
   "cell_type": "code",
   "execution_count": null,
   "metadata": {
    "colab": {
     "base_uri": "https://localhost:8080/"
    },
    "id": "gupV0XgFY9mJ",
    "outputId": "3b401311-5d7f-4463-8409-862e102457e1"
   },
   "outputs": [
    {
     "name": "stdout",
     "output_type": "stream",
     "text": [
      "Collecting fbpca\n",
      "  Downloading https://files.pythonhosted.org/packages/a7/a5/2085d0645a4bb4f0b606251b0b7466c61326e4a471d445c1c3761a2d07bc/fbpca-1.0.tar.gz\n",
      "Building wheels for collected packages: fbpca\n",
      "  Building wheel for fbpca (setup.py) ... \u001b[?25l\u001b[?25hdone\n",
      "  Created wheel for fbpca: filename=fbpca-1.0-cp37-none-any.whl size=11376 sha256=719b80446eeb8f157c99e298adb61b0978c0ae279ade82e500dbe37902c447e4\n",
      "  Stored in directory: /root/.cache/pip/wheels/53/a2/dd/9b66cf53dbc58cec1e613d216689e5fa946d3e7805c30f60dc\n",
      "Successfully built fbpca\n",
      "Installing collected packages: fbpca\n",
      "Successfully installed fbpca-1.0\n"
     ]
    }
   ],
   "source": [
    "!pip install fbpca\n",
    "import fbpca"
   ]
  },
  {
   "cell_type": "markdown",
   "metadata": {
    "id": "Fmzd8jw1TjWx"
   },
   "source": [
    "I grab the `movie_factors` from the trained model, bring it over the the `.cpu()`, `.detach()` it from the gradients and convert it to a `.numpy()` array."
   ]
  },
  {
   "cell_type": "code",
   "execution_count": null,
   "metadata": {
    "id": "rGYOzeZuZIIj"
   },
   "outputs": [],
   "source": [
    "movie_embeddings = model.movie_factors.cpu().detach().numpy()"
   ]
  },
  {
   "cell_type": "markdown",
   "metadata": {
    "id": "ougqzTJBTtXd"
   },
   "source": [
    "I pass those embeddings to the `fbpca.pca` method and get back the rank-2 approximation. "
   ]
  },
  {
   "cell_type": "code",
   "execution_count": null,
   "metadata": {
    "id": "WlprkJdsxpcT"
   },
   "outputs": [],
   "source": [
    "U, s, Va = fbpca.pca(movie_embeddings, k=2)"
   ]
  },
  {
   "cell_type": "markdown",
   "metadata": {
    "id": "ULlZwbPRUHQU"
   },
   "source": [
    "I then create a DataFrame from the `U` matrix which is an `m` x `k` (1665 movies x 2 components) matrix. I also create a column with the calculated distance from 0 of each movie, based on the 2-component coordinates, and a column specifying which quadrant the movie is in (First, Second, Third or Fourth).\n",
    "\n",
    "My `distance` function receives each DataFrame `row`, and returns the square root of the sum of squares of the two coordinates.\n",
    "\n",
    "My `quadrant` function received each `row` and based on the sign of the `x` or `0` column and the `y` or `1` column, determines which quadrant that movie lies in.\n",
    "\n",
    "I `apply` both functions to the DataFrame and specify `axis=1` so that I can access the column names."
   ]
  },
  {
   "cell_type": "code",
   "execution_count": null,
   "metadata": {
    "id": "5ARjBs-WO4_B"
   },
   "outputs": [],
   "source": [
    "# helper functions\n",
    "def distance(row):\n",
    "  return np.sqrt(row[0]**2 + row[1]**2)\n",
    "\n",
    "def quadrant(row):\n",
    "  if (row[0] > 0 and row[1] > 0):\n",
    "    return \"First Quadrant\"\n",
    "  elif (row[0] < 0 and row[1] > 0):\n",
    "    return \"Second Quadrant\"\n",
    "  elif (row[0] < 0 and row[1] < 0):\n",
    "    return \"Third Quadrant\"\n",
    "  elif (row[0] > 0 and row[1] < 0):\n",
    "    return \"Fourth Quadrant\"\n",
    "  else:\n",
    "    return \"Center\""
   ]
  },
  {
   "cell_type": "code",
   "execution_count": null,
   "metadata": {
    "id": "2Fz4MJYyzvzA"
   },
   "outputs": [],
   "source": [
    "# create DataFrame from PCA output\n",
    "def pca_to_df(U):\n",
    "  df = pd.DataFrame(data=U)\n",
    "\n",
    "  # calculate the distance of each Embedding from 0\n",
    "  df[2] = df.apply(lambda x: np.sqrt(x[0]**2 + x[1]**2), axis=1)\n",
    "\n",
    "  # identify which quadrant the movie is in\n",
    "  df[3] = df.apply(lambda x: quadrant(x), axis=1)\n",
    "\n",
    "  return df"
   ]
  },
  {
   "cell_type": "markdown",
   "metadata": {
    "id": "4dcBlmWHPJXT"
   },
   "source": [
    "I'll import the DataFrame I created from my original PCA output so that I can recreate the corresponding plots."
   ]
  },
  {
   "cell_type": "code",
   "execution_count": null,
   "metadata": {
    "colab": {
     "base_uri": "https://localhost:8080/",
     "height": 204
    },
    "id": "_r8LbEFHPMjX",
    "outputId": "fc7b5272-5026-4340-b299-46d84db6c5c1"
   },
   "outputs": [
    {
     "data": {
      "text/html": [
       "<div>\n",
       "<style scoped>\n",
       "    .dataframe tbody tr th:only-of-type {\n",
       "        vertical-align: middle;\n",
       "    }\n",
       "\n",
       "    .dataframe tbody tr th {\n",
       "        vertical-align: top;\n",
       "    }\n",
       "\n",
       "    .dataframe thead th {\n",
       "        text-align: right;\n",
       "    }\n",
       "</style>\n",
       "<table border=\"1\" class=\"dataframe\">\n",
       "  <thead>\n",
       "    <tr style=\"text-align: right;\">\n",
       "      <th></th>\n",
       "      <th>0</th>\n",
       "      <th>1</th>\n",
       "      <th>2</th>\n",
       "      <th>3</th>\n",
       "    </tr>\n",
       "  </thead>\n",
       "  <tbody>\n",
       "    <tr>\n",
       "      <th>0</th>\n",
       "      <td>0.010150</td>\n",
       "      <td>0.004517</td>\n",
       "      <td>0.011110</td>\n",
       "      <td>First Quadrant</td>\n",
       "    </tr>\n",
       "    <tr>\n",
       "      <th>1</th>\n",
       "      <td>0.025090</td>\n",
       "      <td>-0.000186</td>\n",
       "      <td>0.025091</td>\n",
       "      <td>Fourth Quadrant</td>\n",
       "    </tr>\n",
       "    <tr>\n",
       "      <th>2</th>\n",
       "      <td>-0.005773</td>\n",
       "      <td>0.025443</td>\n",
       "      <td>0.026090</td>\n",
       "      <td>Second Quadrant</td>\n",
       "    </tr>\n",
       "    <tr>\n",
       "      <th>3</th>\n",
       "      <td>0.015933</td>\n",
       "      <td>-0.021972</td>\n",
       "      <td>0.027141</td>\n",
       "      <td>Fourth Quadrant</td>\n",
       "    </tr>\n",
       "    <tr>\n",
       "      <th>4</th>\n",
       "      <td>-0.056279</td>\n",
       "      <td>-0.013351</td>\n",
       "      <td>0.057841</td>\n",
       "      <td>Third Quadrant</td>\n",
       "    </tr>\n",
       "  </tbody>\n",
       "</table>\n",
       "</div>"
      ],
      "text/plain": [
       "          0         1         2                3\n",
       "0  0.010150  0.004517  0.011110   First Quadrant\n",
       "1  0.025090 -0.000186  0.025091  Fourth Quadrant\n",
       "2 -0.005773  0.025443  0.026090  Second Quadrant\n",
       "3  0.015933 -0.021972  0.027141  Fourth Quadrant\n",
       "4 -0.056279 -0.013351  0.057841   Third Quadrant"
      ]
     },
     "execution_count": 4,
     "metadata": {
      "tags": []
     },
     "output_type": "execute_result"
    }
   ],
   "source": [
    "df = pd.read_csv(\"/content/gdrive/MyDrive/fastai-course-v4/movie_pca.csv\")\n",
    "df.head()"
   ]
  },
  {
   "cell_type": "markdown",
   "metadata": {
    "id": "lJFQADAvjHT3"
   },
   "source": [
    "When I plot the first two columns as x,y coordinates, I can see that the movies are spread out quite evenly across those latent factors."
   ]
  },
  {
   "cell_type": "code",
   "execution_count": null,
   "metadata": {
    "colab": {
     "base_uri": "https://localhost:8080/",
     "height": 282
    },
    "id": "Ij5VpYVQQg_5",
    "outputId": "96b36dc8-09ca-46af-f8e5-0474d139d74f"
   },
   "outputs": [
    {
     "data": {
      "text/plain": [
       "<matplotlib.collections.PathCollection at 0x7f06691494d0>"
      ]
     },
     "execution_count": 5,
     "metadata": {
      "tags": []
     },
     "output_type": "execute_result"
    },
    {
     "data": {
      "image/png": "[encoded data removed]",
      "text/plain": [
       "<Figure size 432x288 with 1 Axes>"
      ]
     },
     "metadata": {
      "needs_background": "light",
      "tags": []
     },
     "output_type": "display_data"
    }
   ],
   "source": [
    "plt.scatter(df['0'], df['1'])"
   ]
  },
  {
   "cell_type": "markdown",
   "metadata": {
    "id": "XwlCjxNilNHT"
   },
   "source": [
    "I'm going to plot the farthest points from the origin and label them on the plot in order to get a sense of what these two latent factors may represent.\n",
    "\n",
    "For each quadrant, I grab the indexes for the rows with the 5 largest distances and create a DataFrame from that and plot that data."
   ]
  },
  {
   "cell_type": "code",
   "execution_count": null,
   "metadata": {
    "id": "Y4f0-gZvUkK_"
   },
   "outputs": [],
   "source": [
    "def plot_top_5(df):\n",
    "  # get the 5 points farthest from 0 from each quadrant\n",
    "  idxs = np.array([])\n",
    "  for quad in df['3'].unique():\n",
    "    idxs = np.append(idxs, df[df['3']==quad]['2'].sort_values(ascending=False).index[:5].values)\n",
    "  plot_df = df.loc[idxs]\n",
    "\n",
    "  %matplotlib inline\n",
    "  plt.rcParams['figure.figsize'] = [15, 15]\n",
    "\n",
    "  # get the movie titles which will be plot annotations\n",
    "  movies = dls.classes['title'][idxs]\n",
    "\n",
    "  fig, ax = plt.subplots()\n",
    "\n",
    "  ax.scatter(plot_df['0'], plot_df['1'])\n",
    "  for i, idx in enumerate(idxs):\n",
    "    ax.annotate(movies[i], (plot_df.loc[idx,'0'], plot_df.loc[idx, '1']))\n",
    "\n",
    "  plt.show()"
   ]
  },
  {
   "cell_type": "code",
   "execution_count": null,
   "metadata": {
    "colab": {
     "base_uri": "https://localhost:8080/",
     "height": 792
    },
    "id": "081qhiYnz6mg",
    "outputId": "b2cdee50-d2fb-4bd9-dbe7-276855c999fa"
   },
   "outputs": [
    {
     "data": {
      "image/png": "[encoded data removed]",
      "text/plain": [
       "<Figure size 1080x1080 with 1 Axes>"
      ]
     },
     "metadata": {
      "needs_background": "light",
      "tags": []
     },
     "output_type": "display_data"
    }
   ],
   "source": [
    "plot_top_5(df)"
   ]
  },
  {
   "cell_type": "markdown",
   "metadata": {
    "id": "VlsuW_gn28bN"
   },
   "source": [
    "\n",
    "The first quadrant seems to represent comedies (Ed, Ready to Wear, The Stupids) although Barb Wire is not a comedy.\n",
    "\n",
    "The second quadrant has movies with some more dark and disturbing elements to it.\n",
    "\n",
    "The third quadrant has movies which are drama and I guess share some theme of gaining freedom? \n",
    "\n",
    "Finally, the fourth quadrant seems to have drama and action movies which have a distinct American storyline to them. I haven't seen all of these movies, but Dirty Dancing and The American President seem like anomalies in this group. "
   ]
  },
  {
   "cell_type": "markdown",
   "metadata": {
    "id": "RAdZjabRTh3R"
   },
   "source": [
    "I should also take a look at other movies that do not fall on the extreme ends of each quadrant. For example, which movies fall close to the vertical and horizontal axes?"
   ]
  },
  {
   "cell_type": "code",
   "execution_count": null,
   "metadata": {
    "id": "8V4uhirpThMM"
   },
   "outputs": [],
   "source": [
    "def plot_close_to_axes(df):\n",
    "  # get 5 points closes to each axis \n",
    "  idxs = np.array([])\n",
    "  for key in ['0', '1']:\n",
    "    idxs = np.append(idxs, df[np.abs(df[key]) < 0.0002].index.values)\n",
    "  plot_df = df.loc[idxs]\n",
    "  plot_df = plot_df.drop_duplicates()\n",
    "\n",
    "  # set figure size\n",
    "  %matplotlib inline\n",
    "  plt.rcParams['figure.figsize'] = [15, 15]\n",
    "\n",
    "  # get the movie titles which will be plot annotations\n",
    "  movies = dls.classes['title'][idxs]\n",
    "\n",
    "  fig, ax = plt.subplots()\n",
    "\n",
    "  ax.scatter(plot_df['0'], plot_df['1'])\n",
    "\n",
    "  # annotate with movie titles\n",
    "  for i, idx in enumerate(idxs):\n",
    "    ax.annotate(movies[i], (plot_df.loc[idx,'0'], plot_df.loc[idx, '1']))\n",
    "\n",
    "  plt.show()"
   ]
  },
  {
   "cell_type": "code",
   "execution_count": null,
   "metadata": {
    "colab": {
     "base_uri": "https://localhost:8080/",
     "height": 752
    },
    "id": "baT9jdJHVQuo",
    "outputId": "051b1b9a-2d22-468e-a8ed-08252f75c0da"
   },
   "outputs": [
    {
     "data": {
      "image/png": "[encoded data removed]",
      "text/plain": [
       "<Figure size 1080x1080 with 1 Axes>"
      ]
     },
     "metadata": {
      "needs_background": "light",
      "tags": []
     },
     "output_type": "display_data"
    }
   ],
   "source": [
    "plot_close_to_axes(df)"
   ]
  },
  {
   "cell_type": "markdown",
   "metadata": {
    "id": "EiRA80TXd13V"
   },
   "source": [
    "The latent factor corresponding to the vertical axis seems to represent drama (positive values) and romance (negative values) whereas the horizontal axis represents elements mystery (negative values) and comedy (positive values). However, I could just be focusing on genre whereas there are other features of a movie these may represent. Unfortunately, I'm not a movie buff, so the need for a domain expert is evident here!"
   ]
  },
  {
   "cell_type": "markdown",
   "metadata": {
    "id": "ocv5j3vG-zgN"
   },
   "source": [
    "##### Robust PCA"
   ]
  },
  {
   "cell_type": "markdown",
   "metadata": {
    "id": "glStuzsC-03e"
   },
   "source": [
    "Although it's out of scope for this chapter and my understanding, I'd like to at least experiment with using Robust PCA for visualizing embeddings. Robust PCA is an algorithm which decomposes a matrix M into two components: a low rank matrix L and a sparse matrix S such that M = L + S. From what I understand, the sparse matrix S contains anomalies or outliers or \"corrupted\" data, whereas L contains a more accurate representation of the original data. For example, if an image has some additional noise added to it, the original image matrix M can be decomposed into a noise-less \"clean\" image L and a sparse noise matrix S. Another example is if you have an image with a background (such as a landscape with lawn, sidewalks, buildings) and a foreground (people walking on the sidewalk) passing that image through the RPCA algorithm would yield a background matrix L with the lawn, sidewalk and buildings and a foreground sparse matrix S with the people. Since my `movie_embeddings` matrix may contain anomalies which would affect the effectiveness and accuracy of my 2-component PCA approximation, I will pass it through a RPCA algorithm and calculate the 2-component approximation on the low-rank L and sparse S matrices and compare the results with what I calculated above.\n",
    "\n",
    "The following algorithm is from Rachel Thomas' lesson on RPCA as part of her Computational Linear Algebra course."
   ]
  },
  {
   "cell_type": "code",
   "execution_count": null,
   "metadata": {
    "collapsed": true,
    "hidden": true,
    "id": "d5DhNlTUJVaF"
   },
   "outputs": [],
   "source": [
    "from scipy import sparse\n",
    "from sklearn.utils.extmath import randomized_svd\n",
    "import fbpca"
   ]
  },
  {
   "cell_type": "code",
   "execution_count": null,
   "metadata": {
    "collapsed": true,
    "hidden": true,
    "id": "t-7EcVrPJVaF"
   },
   "outputs": [],
   "source": [
    "TOL=1e-9\n",
    "MAX_ITERS=3"
   ]
  },
  {
   "cell_type": "code",
   "execution_count": null,
   "metadata": {
    "collapsed": true,
    "hidden": true,
    "id": "9RE0rCSgJVaF"
   },
   "outputs": [],
   "source": [
    "def converged(Z, d_norm):\n",
    "    err = np.linalg.norm(Z, 'fro') / d_norm\n",
    "    print('error: ', err)\n",
    "    return err < TOL"
   ]
  },
  {
   "cell_type": "code",
   "execution_count": null,
   "metadata": {
    "collapsed": true,
    "hidden": true,
    "id": "Gmkbg_LWJVaF"
   },
   "outputs": [],
   "source": [
    "def shrink(M, tau):\n",
    "    S = np.abs(M) - tau\n",
    "    return np.sign(M) * np.where(S>0, S, 0)"
   ]
  },
  {
   "cell_type": "code",
   "execution_count": null,
   "metadata": {
    "collapsed": true,
    "hidden": true,
    "id": "wH_qg_IUJVaG"
   },
   "outputs": [],
   "source": [
    "def _svd(M, rank): return fbpca.pca(M, k=min(rank, np.min(M.shape)), raw=True)"
   ]
  },
  {
   "cell_type": "code",
   "execution_count": null,
   "metadata": {
    "collapsed": true,
    "hidden": true,
    "id": "OAr9GsHvJVaG"
   },
   "outputs": [],
   "source": [
    "def norm_op(M): return _svd(M, 1)[1][0]"
   ]
  },
  {
   "cell_type": "code",
   "execution_count": null,
   "metadata": {
    "collapsed": true,
    "hidden": true,
    "id": "5Q8EZsgxJVaG"
   },
   "outputs": [],
   "source": [
    "def svd_reconstruct(M, rank, min_sv):\n",
    "    u, s, v = _svd(M, rank)\n",
    "    s -= min_sv\n",
    "    nnz = (s > 0).sum()\n",
    "    return u[:,:nnz] @ np.diag(s[:nnz]) @ v[:nnz], nnz"
   ]
  },
  {
   "cell_type": "code",
   "execution_count": null,
   "metadata": {
    "collapsed": true,
    "hidden": true,
    "id": "4MoQEsYyJVaG"
   },
   "outputs": [],
   "source": [
    "def pcp(X, maxiter=10, k=10): # refactored\n",
    "    m, n = X.shape\n",
    "    trans = m<n\n",
    "    if trans: X = X.T; m, n = X.shape\n",
    "        \n",
    "    lamda = 1/np.sqrt(m)\n",
    "    op_norm = norm_op(X)\n",
    "    Y = np.copy(X) / max(op_norm, np.linalg.norm( X, np.inf) / lamda)\n",
    "    mu = k*1.25/op_norm; mu_bar = mu * 1e7; rho = k * 1.5\n",
    "    \n",
    "    d_norm = np.linalg.norm(X, 'fro')\n",
    "    L = np.zeros_like(X); sv = 1\n",
    "    \n",
    "    examples = []\n",
    "    \n",
    "    for i in range(maxiter):\n",
    "        print(\"rank sv:\", sv)\n",
    "        X2 = X + Y/mu\n",
    "        \n",
    "        # update estimate of Sparse Matrix by \"shrinking/truncating\": original - low-rank\n",
    "        S = shrink(X2 - L, lamda/mu)\n",
    "        \n",
    "        # update estimate of Low-rank Matrix by doing truncated SVD of rank sv & reconstructing.\n",
    "        # count of singular values > 1/mu is returned as svp\n",
    "        L, svp = svd_reconstruct(X2 - S, sv, 1/mu)\n",
    "        \n",
    "        # If svp < sv, you are already calculating enough singular values.\n",
    "        # If not, add 20% (in this case 240) to sv\n",
    "        sv = svp + (1 if svp < sv else round(0.05*n))\n",
    "        \n",
    "        # residual\n",
    "        Z = X - L - S\n",
    "        Y += mu*Z; mu *= rho\n",
    "        \n",
    "        examples.extend([S[140,:], L[140,:]])\n",
    "        \n",
    "        if m > mu_bar: m = mu_bar\n",
    "        if converged(Z, d_norm): break\n",
    "    \n",
    "    if trans: L=L.T; S=S.T\n",
    "    return L, S, examples"
   ]
  },
  {
   "cell_type": "code",
   "execution_count": null,
   "metadata": {
    "id": "saiMQkay9Rd7"
   },
   "outputs": [],
   "source": [
    "L, S, examples = pcp(movie_embeddings)"
   ]
  },
  {
   "cell_type": "code",
   "execution_count": null,
   "metadata": {
    "id": "wvylmnLPAotE"
   },
   "outputs": [],
   "source": [
    "L.shape, S.shape"
   ]
  },
  {
   "cell_type": "markdown",
   "metadata": {
    "id": "lPMpC6TVelvk"
   },
   "source": [
    "I'll calculate 2-component PCA for the `L` and `S` matrices and plot those to see how they compare to the plots above."
   ]
  },
  {
   "cell_type": "code",
   "execution_count": null,
   "metadata": {
    "id": "wy0z6CFkfPqi"
   },
   "outputs": [],
   "source": [
    "U_L, _, _ = fbpca.pca(L, k=2)\n",
    "U_S, _, _ = fbpca.pca(S, k=2)"
   ]
  },
  {
   "cell_type": "markdown",
   "metadata": {
    "id": "xCUT8YvjjtMb"
   },
   "source": [
    "I exported the outputs to CSV for repeatability, so I'll import them in again:"
   ]
  },
  {
   "cell_type": "code",
   "execution_count": null,
   "metadata": {
    "colab": {
     "base_uri": "https://localhost:8080/",
     "height": 204
    },
    "id": "P40wjhK4Aqfo",
    "outputId": "2693b8d3-d038-4d6f-d269-25b6c3036e99"
   },
   "outputs": [
    {
     "data": {
      "text/html": [
       "<div>\n",
       "<style scoped>\n",
       "    .dataframe tbody tr th:only-of-type {\n",
       "        vertical-align: middle;\n",
       "    }\n",
       "\n",
       "    .dataframe tbody tr th {\n",
       "        vertical-align: top;\n",
       "    }\n",
       "\n",
       "    .dataframe thead th {\n",
       "        text-align: right;\n",
       "    }\n",
       "</style>\n",
       "<table border=\"1\" class=\"dataframe\">\n",
       "  <thead>\n",
       "    <tr style=\"text-align: right;\">\n",
       "      <th></th>\n",
       "      <th>0</th>\n",
       "      <th>1</th>\n",
       "      <th>2</th>\n",
       "      <th>3</th>\n",
       "    </tr>\n",
       "  </thead>\n",
       "  <tbody>\n",
       "    <tr>\n",
       "      <th>0</th>\n",
       "      <td>0.009254</td>\n",
       "      <td>-0.003454</td>\n",
       "      <td>0.009877</td>\n",
       "      <td>Fourth Quadrant</td>\n",
       "    </tr>\n",
       "    <tr>\n",
       "      <th>1</th>\n",
       "      <td>0.032954</td>\n",
       "      <td>0.008637</td>\n",
       "      <td>0.034067</td>\n",
       "      <td>First Quadrant</td>\n",
       "    </tr>\n",
       "    <tr>\n",
       "      <th>2</th>\n",
       "      <td>-0.014662</td>\n",
       "      <td>-0.047128</td>\n",
       "      <td>0.049356</td>\n",
       "      <td>Third Quadrant</td>\n",
       "    </tr>\n",
       "    <tr>\n",
       "      <th>3</th>\n",
       "      <td>0.012602</td>\n",
       "      <td>0.029182</td>\n",
       "      <td>0.031787</td>\n",
       "      <td>First Quadrant</td>\n",
       "    </tr>\n",
       "    <tr>\n",
       "      <th>4</th>\n",
       "      <td>-0.037841</td>\n",
       "      <td>0.008742</td>\n",
       "      <td>0.038838</td>\n",
       "      <td>Second Quadrant</td>\n",
       "    </tr>\n",
       "  </tbody>\n",
       "</table>\n",
       "</div>"
      ],
      "text/plain": [
       "          0         1         2                3\n",
       "0  0.009254 -0.003454  0.009877  Fourth Quadrant\n",
       "1  0.032954  0.008637  0.034067   First Quadrant\n",
       "2 -0.014662 -0.047128  0.049356   Third Quadrant\n",
       "3  0.012602  0.029182  0.031787   First Quadrant\n",
       "4 -0.037841  0.008742  0.038838  Second Quadrant"
      ]
     },
     "execution_count": 40,
     "metadata": {
      "tags": []
     },
     "output_type": "execute_result"
    }
   ],
   "source": [
    "df = pd.read_csv(\"/content/gdrive/MyDrive/fastai-course-v4/movies_L_pca.csv\")\n",
    "df.head()"
   ]
  },
  {
   "cell_type": "code",
   "execution_count": null,
   "metadata": {
    "colab": {
     "base_uri": "https://localhost:8080/",
     "height": 850
    },
    "id": "53QlQdIqgPf_",
    "outputId": "463625dd-960d-4712-9324-5bf27bd950d6"
   },
   "outputs": [
    {
     "data": {
      "text/plain": [
       "<matplotlib.collections.PathCollection at 0x7f06668a58d0>"
      ]
     },
     "execution_count": 41,
     "metadata": {
      "tags": []
     },
     "output_type": "execute_result"
    },
    {
     "data": {
      "image/png": "[encoded data removed]",
      "text/plain": [
       "<Figure size 1080x1080 with 1 Axes>"
      ]
     },
     "metadata": {
      "needs_background": "light",
      "tags": []
     },
     "output_type": "display_data"
    }
   ],
   "source": [
    "plt.scatter(df['0'], df['1'])"
   ]
  },
  {
   "cell_type": "markdown",
   "metadata": {
    "id": "lG9uk-IBl0v7"
   },
   "source": [
    "The scatter plot for the 2-component PCA result seems much more evenly distributed across the quadrants.\n",
    "\n",
    "I take the 5 farthest movies from each quadrant and plot those separately."
   ]
  },
  {
   "cell_type": "code",
   "execution_count": null,
   "metadata": {
    "colab": {
     "base_uri": "https://localhost:8080/",
     "height": 709
    },
    "id": "JAyNaAH4f28P",
    "outputId": "6f0270d3-fa6a-45a5-e0a2-d1a672c0c046"
   },
   "outputs": [
    {
     "data": {
      "image/png": "[encoded data removed]",
      "text/plain": [
       "<Figure size 1080x1080 with 1 Axes>"
      ]
     },
     "metadata": {
      "needs_background": "light",
      "tags": []
     },
     "output_type": "display_data"
    }
   ],
   "source": [
    "plot_top_5(df)"
   ]
  },
  {
   "cell_type": "markdown",
   "metadata": {
    "id": "iL9zj5EEglNT"
   },
   "source": [
    "Here are the patterns I observe. Again, someone who has watched these movies and is not just reading online descriptions of them would see themes and patterns that I would not.\n",
    "\n",
    "|Quadrant|Observation|\n",
    "|:-:|:-:|\n",
    "|1|Romance/Drama movies. Fausto and Castle Freak seem out of place|\n",
    "|2|More romance movies. Top Gun and Prefontaine seem out of place|\n",
    "|3|More romance movies. The Butcher Boy seems out of place.|\n",
    "|4|Comedies. The Carmen Miranda documentary seems out of place.|\n",
    "\n",
    "After making these observations, either the low-rank matrix L is a poor choice to use for this type of analysis, or my understanding these movies is too shallow to see the deeper relationships between them. With so many romance movies across the plot, I don't think these latent factors represent genres.\n",
    "\n",
    "I'm not too confident the `S` matrix will provide more clarity, but let's see!"
   ]
  },
  {
   "cell_type": "code",
   "execution_count": null,
   "metadata": {
    "colab": {
     "base_uri": "https://localhost:8080/",
     "height": 204
    },
    "id": "ZOLe4J0JgFHG",
    "outputId": "13ae439f-175e-406c-ff5d-7001b4f286b7"
   },
   "outputs": [
    {
     "data": {
      "text/html": [
       "<div>\n",
       "<style scoped>\n",
       "    .dataframe tbody tr th:only-of-type {\n",
       "        vertical-align: middle;\n",
       "    }\n",
       "\n",
       "    .dataframe tbody tr th {\n",
       "        vertical-align: top;\n",
       "    }\n",
       "\n",
       "    .dataframe thead th {\n",
       "        text-align: right;\n",
       "    }\n",
       "</style>\n",
       "<table border=\"1\" class=\"dataframe\">\n",
       "  <thead>\n",
       "    <tr style=\"text-align: right;\">\n",
       "      <th></th>\n",
       "      <th>0</th>\n",
       "      <th>1</th>\n",
       "      <th>2</th>\n",
       "      <th>3</th>\n",
       "    </tr>\n",
       "  </thead>\n",
       "  <tbody>\n",
       "    <tr>\n",
       "      <th>0</th>\n",
       "      <td>-0.009776</td>\n",
       "      <td>0.005041</td>\n",
       "      <td>0.010999</td>\n",
       "      <td>Second Quadrant</td>\n",
       "    </tr>\n",
       "    <tr>\n",
       "      <th>1</th>\n",
       "      <td>-0.021503</td>\n",
       "      <td>0.001765</td>\n",
       "      <td>0.021576</td>\n",
       "      <td>Second Quadrant</td>\n",
       "    </tr>\n",
       "    <tr>\n",
       "      <th>2</th>\n",
       "      <td>0.005098</td>\n",
       "      <td>0.024645</td>\n",
       "      <td>0.025166</td>\n",
       "      <td>First Quadrant</td>\n",
       "    </tr>\n",
       "    <tr>\n",
       "      <th>3</th>\n",
       "      <td>-0.016745</td>\n",
       "      <td>-0.021457</td>\n",
       "      <td>0.027218</td>\n",
       "      <td>Third Quadrant</td>\n",
       "    </tr>\n",
       "    <tr>\n",
       "      <th>4</th>\n",
       "      <td>0.056964</td>\n",
       "      <td>-0.023095</td>\n",
       "      <td>0.061467</td>\n",
       "      <td>Fourth Quadrant</td>\n",
       "    </tr>\n",
       "  </tbody>\n",
       "</table>\n",
       "</div>"
      ],
      "text/plain": [
       "          0         1         2                3\n",
       "0 -0.009776  0.005041  0.010999  Second Quadrant\n",
       "1 -0.021503  0.001765  0.021576  Second Quadrant\n",
       "2  0.005098  0.024645  0.025166   First Quadrant\n",
       "3 -0.016745 -0.021457  0.027218   Third Quadrant\n",
       "4  0.056964 -0.023095  0.061467  Fourth Quadrant"
      ]
     },
     "execution_count": 43,
     "metadata": {
      "tags": []
     },
     "output_type": "execute_result"
    }
   ],
   "source": [
    "# import previously generated CSV\n",
    "df = pd.read_csv(\"/content/gdrive/MyDrive/fastai-course-v4/movies_S_pca.csv\")\n",
    "df.head()"
   ]
  },
  {
   "cell_type": "code",
   "execution_count": null,
   "metadata": {
    "colab": {
     "base_uri": "https://localhost:8080/",
     "height": 844
    },
    "id": "nC3kTVw-lbzJ",
    "outputId": "95df5a31-8c96-4534-c61f-a3f2b2c6a20c"
   },
   "outputs": [
    {
     "data": {
      "text/plain": [
       "<matplotlib.collections.PathCollection at 0x7f06681c3310>"
      ]
     },
     "execution_count": 44,
     "metadata": {
      "tags": []
     },
     "output_type": "execute_result"
    },
    {
     "data": {
      "image/png": "[encoded data removed]",
      "text/plain": [
       "<Figure size 1080x1080 with 1 Axes>"
      ]
     },
     "metadata": {
      "needs_background": "light",
      "tags": []
     },
     "output_type": "display_data"
    }
   ],
   "source": [
    "plt.scatter(df['0'], df['1'])"
   ]
  },
  {
   "cell_type": "code",
   "execution_count": null,
   "metadata": {
    "colab": {
     "base_uri": "https://localhost:8080/",
     "height": 601
    },
    "id": "Q_xMqvyuk6zb",
    "outputId": "4150ba89-d329-441d-bcca-5e61b4a39090"
   },
   "outputs": [
    {
     "data": {
      "image/png": "[encoded data removed]",
      "text/plain": [
       "<Figure size 1080x1080 with 1 Axes>"
      ]
     },
     "metadata": {
      "needs_background": "light",
      "tags": []
     },
     "output_type": "display_data"
    }
   ],
   "source": [
    "plot_top_5(df)"
   ]
  },
  {
   "cell_type": "markdown",
   "metadata": {
    "id": "uWpyEvUwlJlu"
   },
   "source": [
    "Interesting! This plot looks like the plot of the original M matrix PCA results reflected across the y-axis. Similar movies are grouped together but the latent factors are showing an inverse relationship to the original 2-components. "
   ]
  },
  {
   "cell_type": "markdown",
   "metadata": {
    "id": "5it2EUOfpYEs"
   },
   "source": [
    "#### Using fastai.collab"
   ]
  },
  {
   "cell_type": "markdown",
   "metadata": {
    "id": "4ntbFC8Ls2Nt"
   },
   "source": [
    "fastai comes with a built-in method to create a collaborative filtering model similar to the `DotProductBias` model I created."
   ]
  },
  {
   "cell_type": "code",
   "execution_count": null,
   "metadata": {
    "colab": {
     "base_uri": "https://localhost:8080/",
     "height": 204
    },
    "id": "aEuTlBZUs1cw",
    "outputId": "7b36048c-b1e1-41c3-8268-a6c91aba1c5f"
   },
   "outputs": [
    {
     "data": {
      "text/html": [
       "<table border=\"1\" class=\"dataframe\">\n",
       "  <thead>\n",
       "    <tr style=\"text-align: left;\">\n",
       "      <th>epoch</th>\n",
       "      <th>train_loss</th>\n",
       "      <th>valid_loss</th>\n",
       "      <th>time</th>\n",
       "    </tr>\n",
       "  </thead>\n",
       "  <tbody>\n",
       "    <tr>\n",
       "      <td>0</td>\n",
       "      <td>0.932735</td>\n",
       "      <td>0.930009</td>\n",
       "      <td>00:10</td>\n",
       "    </tr>\n",
       "    <tr>\n",
       "      <td>1</td>\n",
       "      <td>0.834800</td>\n",
       "      <td>0.862961</td>\n",
       "      <td>00:11</td>\n",
       "    </tr>\n",
       "    <tr>\n",
       "      <td>2</td>\n",
       "      <td>0.746893</td>\n",
       "      <td>0.822192</td>\n",
       "      <td>00:10</td>\n",
       "    </tr>\n",
       "    <tr>\n",
       "      <td>3</td>\n",
       "      <td>0.585107</td>\n",
       "      <td>0.811398</td>\n",
       "      <td>00:10</td>\n",
       "    </tr>\n",
       "    <tr>\n",
       "      <td>4</td>\n",
       "      <td>0.490022</td>\n",
       "      <td>0.812597</td>\n",
       "      <td>00:10</td>\n",
       "    </tr>\n",
       "  </tbody>\n",
       "</table>"
      ],
      "text/plain": [
       "<IPython.core.display.HTML object>"
      ]
     },
     "metadata": {
      "tags": []
     },
     "output_type": "display_data"
    }
   ],
   "source": [
    "learn = collab_learner(dls, n_factors=50, y_range=(0, 5.5))\n",
    "learn.fit_one_cycle(5, 5e-3, wd=0.1)"
   ]
  },
  {
   "cell_type": "markdown",
   "metadata": {
    "id": "8w4u8faStfIk"
   },
   "source": [
    "This yields similar results to what I've done above. Here are this model's results:"
   ]
  },
  {
   "cell_type": "code",
   "execution_count": null,
   "metadata": {
    "colab": {
     "base_uri": "https://localhost:8080/",
     "height": 328
    },
    "id": "Buugq-PXtjIg",
    "outputId": "3de24539-2824-4b3b-f3d4-cf78838dc869"
   },
   "outputs": [
    {
     "data": {
      "text/html": [],
      "text/plain": [
       "<IPython.core.display.HTML object>"
      ]
     },
     "metadata": {
      "tags": []
     },
     "output_type": "display_data"
    },
    {
     "data": {
      "text/html": [
       "<table border=\"1\" class=\"dataframe\">\n",
       "  <thead>\n",
       "    <tr style=\"text-align: right;\">\n",
       "      <th></th>\n",
       "      <th>user</th>\n",
       "      <th>title</th>\n",
       "      <th>rating</th>\n",
       "      <th>rating_pred</th>\n",
       "    </tr>\n",
       "  </thead>\n",
       "  <tbody>\n",
       "    <tr>\n",
       "      <th>0</th>\n",
       "      <td>541</td>\n",
       "      <td>332</td>\n",
       "      <td>1</td>\n",
       "      <td>2.542970</td>\n",
       "    </tr>\n",
       "    <tr>\n",
       "      <th>1</th>\n",
       "      <td>899</td>\n",
       "      <td>1295</td>\n",
       "      <td>4</td>\n",
       "      <td>3.555057</td>\n",
       "    </tr>\n",
       "    <tr>\n",
       "      <th>2</th>\n",
       "      <td>346</td>\n",
       "      <td>1492</td>\n",
       "      <td>3</td>\n",
       "      <td>3.456876</td>\n",
       "    </tr>\n",
       "    <tr>\n",
       "      <th>3</th>\n",
       "      <td>933</td>\n",
       "      <td>1399</td>\n",
       "      <td>4</td>\n",
       "      <td>3.380442</td>\n",
       "    </tr>\n",
       "    <tr>\n",
       "      <th>4</th>\n",
       "      <td>310</td>\n",
       "      <td>1618</td>\n",
       "      <td>5</td>\n",
       "      <td>4.623110</td>\n",
       "    </tr>\n",
       "    <tr>\n",
       "      <th>5</th>\n",
       "      <td>276</td>\n",
       "      <td>1572</td>\n",
       "      <td>4</td>\n",
       "      <td>3.636531</td>\n",
       "    </tr>\n",
       "    <tr>\n",
       "      <th>6</th>\n",
       "      <td>463</td>\n",
       "      <td>322</td>\n",
       "      <td>5</td>\n",
       "      <td>3.901797</td>\n",
       "    </tr>\n",
       "    <tr>\n",
       "      <th>7</th>\n",
       "      <td>130</td>\n",
       "      <td>408</td>\n",
       "      <td>4</td>\n",
       "      <td>3.343735</td>\n",
       "    </tr>\n",
       "    <tr>\n",
       "      <th>8</th>\n",
       "      <td>914</td>\n",
       "      <td>1617</td>\n",
       "      <td>4</td>\n",
       "      <td>3.076288</td>\n",
       "    </tr>\n",
       "  </tbody>\n",
       "</table>"
      ],
      "text/plain": [
       "<IPython.core.display.HTML object>"
      ]
     },
     "metadata": {
      "tags": []
     },
     "output_type": "display_data"
    }
   ],
   "source": [
    "learn.show_results()"
   ]
  },
  {
   "cell_type": "markdown",
   "metadata": {
    "id": "fcMlr219tZqV"
   },
   "source": [
    "The model created is a `EmbeddingDotBias` model"
   ]
  },
  {
   "cell_type": "code",
   "execution_count": null,
   "metadata": {
    "colab": {
     "base_uri": "https://localhost:8080/"
    },
    "id": "SDFy41_ZtMq5",
    "outputId": "2865c281-f6c6-4bc6-be52-a17aae0e9f06"
   },
   "outputs": [
    {
     "data": {
      "text/plain": [
       "EmbeddingDotBias(\n",
       "  (u_weight): Embedding(944, 50)\n",
       "  (i_weight): Embedding(1665, 50)\n",
       "  (u_bias): Embedding(944, 1)\n",
       "  (i_bias): Embedding(1665, 1)\n",
       ")"
      ]
     },
     "execution_count": 48,
     "metadata": {
      "tags": []
     },
     "output_type": "execute_result"
    }
   ],
   "source": [
    "learn.model"
   ]
  },
  {
   "cell_type": "markdown",
   "metadata": {
    "id": "5kgjjZT1tsIK"
   },
   "source": [
    "The top biases can be obtained similar to how we did it before, but with a slightly different API:"
   ]
  },
  {
   "cell_type": "code",
   "execution_count": null,
   "metadata": {
    "colab": {
     "base_uri": "https://localhost:8080/"
    },
    "id": "PV8VaJePtpKU",
    "outputId": "e3a0a996-47ee-49b9-9f43-016c58baf98c"
   },
   "outputs": [
    {
     "data": {
      "text/plain": [
       "['Titanic (1997)',\n",
       " 'Shawshank Redemption, The (1994)',\n",
       " 'L.A. Confidential (1997)',\n",
       " 'Star Wars (1977)',\n",
       " \"Schindler's List (1993)\"]"
      ]
     },
     "execution_count": 49,
     "metadata": {
      "tags": []
     },
     "output_type": "execute_result"
    }
   ],
   "source": [
    "movie_bias = learn.model.i_bias.weight.squeeze()\n",
    "idxs = movie_bias.argsort(descending=True)[:5]\n",
    "[dls.classes['title'][i] for i in idxs]"
   ]
  },
  {
   "cell_type": "markdown",
   "metadata": {
    "id": "F6DA-inXuEsX"
   },
   "source": [
    "Similar to the `distance` function I created, PyTorch has a `nn.CosineSimilarity` function which calculates the cosine of the angle between two vectors. The smaller the angle, the closer the two points are, and the more similar they are. `nn.CosineSimilarity` returns the similarity (cosine of the angle) between two vectors where `1.000` means the angle is 0. "
   ]
  },
  {
   "cell_type": "code",
   "execution_count": null,
   "metadata": {
    "colab": {
     "base_uri": "https://localhost:8080/",
     "height": 35
    },
    "id": "XS4L9TC0t9f1",
    "outputId": "97182cbc-a5f4-41dd-e84a-ffa6d93e6f19"
   },
   "outputs": [
    {
     "data": {
      "application/vnd.google.colaboratory.intrinsic+json": {
       "type": "string"
      },
      "text/plain": [
       "'Some Folks Call It a Sling Blade (1993)'"
      ]
     },
     "execution_count": 50,
     "metadata": {
      "tags": []
     },
     "output_type": "execute_result"
    }
   ],
   "source": [
    "movie_factors = learn.model.i_weight.weight\n",
    "idx = dls.classes['title'].o2i['Silence of the Lambs, The (1991)']\n",
    "similarity = nn.CosineSimilarity(dim=1)(movie_factors, movie_factors[idx][None])\n",
    "idx = similarity.argsort(descending=True)[1]\n",
    "dls.classes['title'][idx]"
   ]
  },
  {
   "cell_type": "markdown",
   "metadata": {
    "id": "qAYySVWvwoBk"
   },
   "source": [
    "### Deep Learning for Collaborative Filtering"
   ]
  },
  {
   "cell_type": "markdown",
   "metadata": {
    "id": "IrSpSo0Awwyf"
   },
   "source": [
    "In this final section, we create a Deep Learning model which can make predictions on movie ratings after training on the MovieLens dataset. The model uses Embeddings (for users and movies) which are then fed into a small neural net (with one ReLu sandwiched between two Linear layers) which outputs an activation which we normalize using `sigmoid_range`. The embedding matrices are sized based on a heuristic built-in to fastai with the `get_emb_sz` method:"
   ]
  },
  {
   "cell_type": "code",
   "execution_count": null,
   "metadata": {
    "colab": {
     "base_uri": "https://localhost:8080/"
    },
    "id": "3qESw2Szv6Ip",
    "outputId": "17422515-2dd1-49b4-8d10-5cee7a24107c"
   },
   "outputs": [
    {
     "data": {
      "text/plain": [
       "[(944, 74), (1665, 102)]"
      ]
     },
     "execution_count": 57,
     "metadata": {
      "tags": []
     },
     "output_type": "execute_result"
    }
   ],
   "source": [
    "embs = get_emb_sz(dls)\n",
    "embs"
   ]
  },
  {
   "cell_type": "markdown",
   "metadata": {
    "id": "nD6veWPjx5S-"
   },
   "source": [
    "The model used is constructed as follows: the user and item latent factors are created using `Embedding`s, and the neural net is created using the `nn.Sequential` class. Each time a prediction is needed, the user and item matrices for one batch are concatenated and passed through the neural net. The returned activation is sent to `sigmoid_range` and a prediction between 0 and 5.5 is calculated."
   ]
  },
  {
   "cell_type": "code",
   "execution_count": null,
   "metadata": {
    "id": "Ia8kksUUx3rV"
   },
   "outputs": [],
   "source": [
    "class CollabNN(Module):\n",
    "  def __init__(self, user_sz, item_sz, y_range=(0, 5.5), n_act=100):\n",
    "    self.user_factors = Embedding(*user_sz)\n",
    "    self.item_factors = Embedding(*item_sz)\n",
    "    self.layers = nn.Sequential(\n",
    "        nn.Linear(user_sz[1]+item_sz[1], n_act),\n",
    "        nn.ReLU(),\n",
    "        nn.Linear(n_act, 1))\n",
    "    self.y_range = y_range\n",
    "\n",
    "  def forward(self, x):\n",
    "    embs = self.user_factors(x[:,0]), self.item_factors(x[:,1])\n",
    "    x = self.layers(torch.cat(embs, dim=1))\n",
    "    return sigmoid_range(x, *self.y_range)"
   ]
  },
  {
   "cell_type": "markdown",
   "metadata": {
    "id": "iUNvLyJB0Uoo"
   },
   "source": [
    "I want to visualize the `forward` method, so I'll create the model and a batch, and walkthrough the code."
   ]
  },
  {
   "cell_type": "code",
   "execution_count": null,
   "metadata": {
    "colab": {
     "base_uri": "https://localhost:8080/"
    },
    "id": "a5WIMVB3zP2x",
    "outputId": "cfc5fafa-e3d5-420c-cf78-d8c09a5b2452"
   },
   "outputs": [
    {
     "data": {
      "text/plain": [
       "torch.Size([64, 176])"
      ]
     },
     "execution_count": 58,
     "metadata": {
      "tags": []
     },
     "output_type": "execute_result"
    }
   ],
   "source": [
    "model = CollabNN(*embs)\n",
    "x,y = dls.one_batch()\n",
    "device = \"cpu\"\n",
    "x = x.to(device)\n",
    "model = model.to(device)\n",
    "embs = torch.cat((model.user_factors(x[:,0]), model.item_factors(x[:,1])), dim=1)\n",
    "embs.shape"
   ]
  },
  {
   "cell_type": "code",
   "execution_count": null,
   "metadata": {
    "colab": {
     "base_uri": "https://localhost:8080/"
    },
    "id": "QXrO4PaH2oIK",
    "outputId": "87f799fe-e775-4a5c-94c5-71cde06adca4"
   },
   "outputs": [
    {
     "data": {
      "text/plain": [
       "tensor([[2.8637],\n",
       "        [2.8647],\n",
       "        [2.8624],\n",
       "        [2.8696],\n",
       "        [2.8601]], grad_fn=<SliceBackward>)"
      ]
     },
     "execution_count": 59,
     "metadata": {
      "tags": []
     },
     "output_type": "execute_result"
    }
   ],
   "source": [
    "x = model.layers(embs)\n",
    "sigmoid_range(x, *model.y_range)[:5]"
   ]
  },
  {
   "cell_type": "markdown",
   "metadata": {
    "id": "70h-jkwv07Yx"
   },
   "source": [
    "The fastai `collab_learner`, instead of using the `EmbeddingDotBias` model, will use a neural network if passed `True` for its `use_nn` parameter. The number and size of neural network layers can also be specified.\n",
    "\n"
   ]
  },
  {
   "cell_type": "code",
   "execution_count": null,
   "metadata": {
    "colab": {
     "base_uri": "https://localhost:8080/",
     "height": 204
    },
    "id": "lbYrCrW7zi8O",
    "outputId": "e9cc51fa-51f2-413d-a02f-7403784a5dfc"
   },
   "outputs": [
    {
     "data": {
      "text/html": [
       "<table border=\"1\" class=\"dataframe\">\n",
       "  <thead>\n",
       "    <tr style=\"text-align: left;\">\n",
       "      <th>epoch</th>\n",
       "      <th>train_loss</th>\n",
       "      <th>valid_loss</th>\n",
       "      <th>time</th>\n",
       "    </tr>\n",
       "  </thead>\n",
       "  <tbody>\n",
       "    <tr>\n",
       "      <td>0</td>\n",
       "      <td>0.988426</td>\n",
       "      <td>0.984418</td>\n",
       "      <td>00:15</td>\n",
       "    </tr>\n",
       "    <tr>\n",
       "      <td>1</td>\n",
       "      <td>0.893442</td>\n",
       "      <td>0.909180</td>\n",
       "      <td>00:16</td>\n",
       "    </tr>\n",
       "    <tr>\n",
       "      <td>2</td>\n",
       "      <td>0.900106</td>\n",
       "      <td>0.877499</td>\n",
       "      <td>00:16</td>\n",
       "    </tr>\n",
       "    <tr>\n",
       "      <td>3</td>\n",
       "      <td>0.809255</td>\n",
       "      <td>0.853736</td>\n",
       "      <td>00:16</td>\n",
       "    </tr>\n",
       "    <tr>\n",
       "      <td>4</td>\n",
       "      <td>0.769467</td>\n",
       "      <td>0.853571</td>\n",
       "      <td>00:16</td>\n",
       "    </tr>\n",
       "  </tbody>\n",
       "</table>"
      ],
      "text/plain": [
       "<IPython.core.display.HTML object>"
      ]
     },
     "metadata": {
      "tags": []
     },
     "output_type": "display_data"
    }
   ],
   "source": [
    "learn = collab_learner(dls, use_nn=True, y_range=(0, 5.5), layers=[100,50])\n",
    "learn.fit_one_cycle(5, 5e-3, wd=0.1)"
   ]
  },
  {
   "cell_type": "code",
   "execution_count": null,
   "metadata": {
    "colab": {
     "base_uri": "https://localhost:8080/",
     "height": 328
    },
    "id": "SVRxIt1w1m8E",
    "outputId": "c5215a0c-f010-4bb5-e0b4-84dd48757daf"
   },
   "outputs": [
    {
     "data": {
      "text/html": [],
      "text/plain": [
       "<IPython.core.display.HTML object>"
      ]
     },
     "metadata": {
      "tags": []
     },
     "output_type": "display_data"
    },
    {
     "data": {
      "text/html": [
       "<table border=\"1\" class=\"dataframe\">\n",
       "  <thead>\n",
       "    <tr style=\"text-align: right;\">\n",
       "      <th></th>\n",
       "      <th>user</th>\n",
       "      <th>title</th>\n",
       "      <th>rating</th>\n",
       "      <th>rating_pred</th>\n",
       "    </tr>\n",
       "  </thead>\n",
       "  <tbody>\n",
       "    <tr>\n",
       "      <th>0</th>\n",
       "      <td>244</td>\n",
       "      <td>1305</td>\n",
       "      <td>4</td>\n",
       "      <td>4.185966</td>\n",
       "    </tr>\n",
       "    <tr>\n",
       "      <th>1</th>\n",
       "      <td>902</td>\n",
       "      <td>965</td>\n",
       "      <td>3</td>\n",
       "      <td>3.474954</td>\n",
       "    </tr>\n",
       "    <tr>\n",
       "      <th>2</th>\n",
       "      <td>87</td>\n",
       "      <td>1173</td>\n",
       "      <td>5</td>\n",
       "      <td>4.206645</td>\n",
       "    </tr>\n",
       "    <tr>\n",
       "      <th>3</th>\n",
       "      <td>759</td>\n",
       "      <td>333</td>\n",
       "      <td>5</td>\n",
       "      <td>4.247213</td>\n",
       "    </tr>\n",
       "    <tr>\n",
       "      <th>4</th>\n",
       "      <td>109</td>\n",
       "      <td>1624</td>\n",
       "      <td>3</td>\n",
       "      <td>3.726794</td>\n",
       "    </tr>\n",
       "    <tr>\n",
       "      <th>5</th>\n",
       "      <td>363</td>\n",
       "      <td>743</td>\n",
       "      <td>1</td>\n",
       "      <td>1.774737</td>\n",
       "    </tr>\n",
       "    <tr>\n",
       "      <th>6</th>\n",
       "      <td>756</td>\n",
       "      <td>1216</td>\n",
       "      <td>5</td>\n",
       "      <td>4.058509</td>\n",
       "    </tr>\n",
       "    <tr>\n",
       "      <th>7</th>\n",
       "      <td>378</td>\n",
       "      <td>179</td>\n",
       "      <td>4</td>\n",
       "      <td>3.192873</td>\n",
       "    </tr>\n",
       "    <tr>\n",
       "      <th>8</th>\n",
       "      <td>18</td>\n",
       "      <td>141</td>\n",
       "      <td>3</td>\n",
       "      <td>3.296141</td>\n",
       "    </tr>\n",
       "  </tbody>\n",
       "</table>"
      ],
      "text/plain": [
       "<IPython.core.display.HTML object>"
      ]
     },
     "metadata": {
      "tags": []
     },
     "output_type": "display_data"
    }
   ],
   "source": [
    "learn.show_results()"
   ]
  },
  {
   "cell_type": "code",
   "execution_count": null,
   "metadata": {
    "colab": {
     "base_uri": "https://localhost:8080/"
    },
    "id": "_GfdCtOTA2KQ",
    "outputId": "88983ce9-2975-48cd-f7f6-676726d91f66"
   },
   "outputs": [
    {
     "data": {
      "text/plain": [
       "EmbeddingNN(\n",
       "  (embeds): ModuleList(\n",
       "    (0): Embedding(944, 74)\n",
       "    (1): Embedding(1665, 102)\n",
       "  )\n",
       "  (emb_drop): Dropout(p=0.0, inplace=False)\n",
       "  (bn_cont): BatchNorm1d(0, eps=1e-05, momentum=0.1, affine=True, track_running_stats=True)\n",
       "  (layers): Sequential(\n",
       "    (0): LinBnDrop(\n",
       "      (0): Linear(in_features=176, out_features=100, bias=False)\n",
       "      (1): ReLU(inplace=True)\n",
       "      (2): BatchNorm1d(100, eps=1e-05, momentum=0.1, affine=True, track_running_stats=True)\n",
       "    )\n",
       "    (1): LinBnDrop(\n",
       "      (0): Linear(in_features=100, out_features=50, bias=False)\n",
       "      (1): ReLU(inplace=True)\n",
       "      (2): BatchNorm1d(50, eps=1e-05, momentum=0.1, affine=True, track_running_stats=True)\n",
       "    )\n",
       "    (2): LinBnDrop(\n",
       "      (0): Linear(in_features=50, out_features=1, bias=True)\n",
       "    )\n",
       "    (3): SigmoidRange(low=0, high=5.5)\n",
       "  )\n",
       ")"
      ]
     },
     "execution_count": 62,
     "metadata": {
      "tags": []
     },
     "output_type": "execute_result"
    }
   ],
   "source": [
    "learn.model"
   ]
  },
  {
   "cell_type": "markdown",
   "metadata": {
    "id": "oeMuIT25186R"
   },
   "source": [
    "The `EmbeddingNN` architecture extends the `TabularModel` class which we will explore in Chapter 9."
   ]
  },
  {
   "cell_type": "markdown",
   "metadata": {
    "id": "l4vNzCTo4HqU"
   },
   "source": [
    "That finishes my review of Chapter 8, I'll be working through the \"Further Research\" section in upcoming blog posts and associated videos:\n",
    "\n",
    "> 1. Take a look at all the differences between the `Embedding` version of `DotProductBias` and the `create_params` version, and try to understand why each of those changes is required. If you're not sure, try reverting each change to see what happens.\n",
    "\n",
    "> 2. Find three other areas where collaborative filtering is being used, and identify the pros and cons of this approach in those areas.\n",
    "\n",
    "> 3. Complete this notebook using the full MovieLens dataset, and compare your results to online benchmarks. See if you can improve your accuracy. Look on the book's website and the fast.ai forums for ideas. Note that there are more columns in the full dataset--see if you can use those too (the next chapter might give you ideas).\n",
    "\n",
    "> 4. Create a model for MovieLens that works with cross-entropy loss, and compare it to the model in this chapter."
   ]
  }
 ],
 "metadata": {
  "accelerator": "GPU",
  "colab": {
   "collapsed_sections": [],
   "name": "2021-06-04-fastai-chapter-08.ipynb",
   "provenance": [],
   "toc_visible": true
  },
  "kernelspec": {
   "display_name": "Python 3",
   "language": "python",
   "name": "python3"
  },
  "language_info": {
   "name": "python",
   "version": "3.11.2"
  },
  "vscode": {
   "interpreter": {
    "hash": "1a1af0ee75eeea9e2e1ee996c87e7a2b11a0bebd85af04bb136d915cefc0abce"
   }
  }
 },
 "nbformat": 4,
 "nbformat_minor": 0
}

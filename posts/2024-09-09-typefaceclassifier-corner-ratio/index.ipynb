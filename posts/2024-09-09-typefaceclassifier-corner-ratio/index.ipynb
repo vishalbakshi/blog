{
  "cells": [
    {
      "cell_type": "raw",
      "metadata": {
        "vscode": {
          "languageId": "raw"
        }
      },
      "source": [
        "---\n",
        "title: Calculating the Ratio of Corners in an Image\n",
        "date: \"2024-09-09\"\n",
        "author: Vishal Bakshi\n",
        "description: In this blog post I use the OpenCV library to calculate the ratio of the sum of non-zero corner pixels to the sum of non-zero original pixels of an image. The serif font has consistently larger ratios than the sans serif font.\n",
        "filters:\n",
        "   - lightbox\n",
        "lightbox: auto\n",
        "categories:\n",
        "    - python\n",
        "    - computer vision\n",
        "    - TypefaceClassifier\n",
        "---"
      ]
    },
    {
      "cell_type": "markdown",
      "metadata": {
        "id": "dFzioaN4ZPfT"
      },
      "source": [
        "## Background"
      ]
    },
    {
      "cell_type": "markdown",
      "metadata": {
        "id": "jCrqge7mZQ2A"
      },
      "source": [
        "In this notebook I'll walk through an algorithm suggested by Claude to distinguish one typeface (like `display`) from another (like `serif`) in which we calculate the ratio of the number of corners to number of pixels in a text image.\n",
        "\n",
        "This algorithm is part of my exploration of non-ML baselines to classify text images into various typeface categories (e.g., “humanist sans,” “grotesque sans,” “script,” “display,” etc.). Once the non-ML baseline is established, I'll train a neural network for this task. This is one of many notebooks in my [TypefaceClassifier project series](https://vishalbakshi.github.io/blog/#category=TypefaceClassifier)."
      ]
    },
    {
      "cell_type": "code",
      "execution_count": 1,
      "metadata": {
        "id": "UiDKwzcdb1mv"
      },
      "outputs": [],
      "source": [
        "import cv2\n",
        "import numpy as np\n",
        "import pandas as pd\n",
        "from google.colab.patches import cv2_imshow"
      ]
    },
    {
      "cell_type": "markdown",
      "metadata": {
        "id": "8p3IbUoLbOsE"
      },
      "source": [
        "## Load Image and Binarize It"
      ]
    },
    {
      "cell_type": "markdown",
      "metadata": {
        "id": "4liMk1JHbRNF"
      },
      "source": [
        "As usual, we load the image and binarize it so it's easier to distinguish between background (black pixels) and text (white pixels)."
      ]
    },
    {
      "cell_type": "code",
      "execution_count": 2,
      "metadata": {
        "colab": {
          "base_uri": "https://localhost:8080/",
          "height": 552
        },
        "id": "mrJglynHbrvZ",
        "outputId": "f0bb98fb-31e0-4a1b-9903-f33da49bb561"
      },
      "outputs": [
        {
          "data": {
            "text/html": [
              "<style>\n",
              "      .ndarray_repr .ndarray_raw_data {\n",
              "        display: none;\n",
              "      }\n",
              "      .ndarray_repr.show_array .ndarray_raw_data {\n",
              "        display: block;\n",
              "      }\n",
              "      .ndarray_repr.show_array .ndarray_image_preview {\n",
              "        display: none;\n",
              "      }\n",
              "      </style>\n",
              "      <div id=\"id-68fb1dac-33cd-45bc-854c-563ff35ad9ec\" class=\"ndarray_repr\"><pre>ndarray (512, 512) <button style=\"padding: 0 2px;\">show data</button></pre><img src=\"data:image/png;base64,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\" class=\"ndarray_image_preview\" /><pre class=\"ndarray_raw_data\">array([[0, 0, 0, ..., 0, 0, 0],\n",
              "       [0, 0, 0, ..., 0, 0, 0],\n",
              "       [0, 0, 0, ..., 0, 0, 0],\n",
              "       ...,\n",
              "       [0, 0, 0, ..., 0, 0, 0],\n",
              "       [0, 0, 0, ..., 0, 0, 0],\n",
              "       [0, 0, 0, ..., 0, 0, 0]], dtype=uint8)</pre></div><script>\n",
              "      (() => {\n",
              "      const titles = ['show data', 'hide data'];\n",
              "      let index = 0\n",
              "      document.querySelector('#id-68fb1dac-33cd-45bc-854c-563ff35ad9ec button').onclick = (e) => {\n",
              "        document.querySelector('#id-68fb1dac-33cd-45bc-854c-563ff35ad9ec').classList.toggle('show_array');\n",
              "        index = (++index) % 2;\n",
              "        document.querySelector('#id-68fb1dac-33cd-45bc-854c-563ff35ad9ec button').textContent = titles[index];\n",
              "        e.preventDefault();\n",
              "        e.stopPropagation();\n",
              "      }\n",
              "      })();\n",
              "    </script>"
            ],
            "text/plain": [
              "array([[0, 0, 0, ..., 0, 0, 0],\n",
              "       [0, 0, 0, ..., 0, 0, 0],\n",
              "       [0, 0, 0, ..., 0, 0, 0],\n",
              "       ...,\n",
              "       [0, 0, 0, ..., 0, 0, 0],\n",
              "       [0, 0, 0, ..., 0, 0, 0],\n",
              "       [0, 0, 0, ..., 0, 0, 0]], dtype=uint8)"
            ]
          },
          "execution_count": 2,
          "metadata": {},
          "output_type": "execute_result"
        }
      ],
      "source": [
        "path = 'serif-76px.png'\n",
        "img = cv2.imread(path, cv2.IMREAD_GRAYSCALE)\n",
        "_, binary = cv2.threshold(img, 0, 255, cv2.THRESH_BINARY_INV + cv2.THRESH_OTSU)\n",
        "binary"
      ]
    },
    {
      "cell_type": "markdown",
      "metadata": {
        "id": "QT5J7Jgsb3Zp"
      },
      "source": [
        "## Detect Corners"
      ]
    },
    {
      "cell_type": "markdown",
      "metadata": {
        "id": "Xr55mG7mb_T3"
      },
      "source": [
        "I'll use the [Harris Corner Detection algorithm](https://docs.opencv.org/4.x/dc/d0d/tutorial_py_features_harris.html) to identify the pixels at which there exists a corner in the image."
      ]
    },
    {
      "cell_type": "code",
      "execution_count": 3,
      "metadata": {
        "id": "Mwkah5hVc3rA"
      },
      "outputs": [],
      "source": [
        "corners = cv2.cornerHarris(binary, blockSize=2, ksize=3, k=0.04)"
      ]
    },
    {
      "cell_type": "markdown",
      "metadata": {
        "id": "5R4tOyn2c7xA"
      },
      "source": [
        "Dilating the corners makes them brighter"
      ]
    },
    {
      "cell_type": "code",
      "execution_count": 4,
      "metadata": {
        "id": "n9suj-ovc6CS"
      },
      "outputs": [],
      "source": [
        "corners = cv2.dilate(corners, None)"
      ]
    },
    {
      "cell_type": "code",
      "execution_count": 5,
      "metadata": {
        "colab": {
          "base_uri": "https://localhost:8080/"
        },
        "id": "vYwss0vfdMoX",
        "outputId": "826ce03f-2b8f-441b-e5d4-88a48198dccb"
      },
      "outputs": [
        {
          "data": {
            "text/plain": [
              "(512, 512)"
            ]
          },
          "execution_count": 5,
          "metadata": {},
          "output_type": "execute_result"
        }
      ],
      "source": [
        "corners.shape"
      ]
    },
    {
      "cell_type": "code",
      "execution_count": 6,
      "metadata": {
        "colab": {
          "base_uri": "https://localhost:8080/"
        },
        "id": "Ic1jtJYsdPJv",
        "outputId": "4778893f-cd58-4904-aa84-ed4f40aaf7c6"
      },
      "outputs": [
        {
          "data": {
            "text/plain": [
              "array([[0., 0., 0., ..., 0., 0., 0.],\n",
              "       [0., 0., 0., ..., 0., 0., 0.],\n",
              "       [0., 0., 0., ..., 0., 0., 0.],\n",
              "       [0., 0., 0., ..., 0., 0., 0.],\n",
              "       [0., 0., 0., ..., 0., 0., 0.]], dtype=float32)"
            ]
          },
          "execution_count": 6,
          "metadata": {},
          "output_type": "execute_result"
        }
      ],
      "source": [
        "corners[:5]"
      ]
    },
    {
      "cell_type": "markdown",
      "metadata": {
        "id": "9DGm0_ThdAjI"
      },
      "source": [
        "`threshold`ing the pixels so that pixels with a `corners` value above 1% of the maximum are set to white (255)."
      ]
    },
    {
      "cell_type": "code",
      "execution_count": 7,
      "metadata": {
        "id": "l8Ct5_zHdApt"
      },
      "outputs": [],
      "source": [
        "_, corners = cv2.threshold(corners, 0.01 * corners.max(), 255, 0)"
      ]
    },
    {
      "cell_type": "markdown",
      "metadata": {
        "id": "8pF1ImFQdpjU"
      },
      "source": [
        "The end result is a set of pixels that are the locations of corners in the image. Notice how the straight segments of the letters are (correctly) not identified as corners, while curves _are_ identified as corners."
      ]
    },
    {
      "cell_type": "code",
      "execution_count": 8,
      "metadata": {
        "colab": {
          "base_uri": "https://localhost:8080/",
          "height": 529
        },
        "id": "rJP6Yw8rdX3e",
        "outputId": "386d9500-8df2-47a4-cc68-2a7f56d808c3"
      },
      "outputs": [
        {
          "data": {
            "image/png": "[encoded data removed]",
            "text/plain": [
              "<PIL.Image.Image image mode=L size=512x512>"
            ]
          },
          "metadata": {},
          "output_type": "display_data"
        }
      ],
      "source": [
        "cv2_imshow(corners)"
      ]
    },
    {
      "cell_type": "markdown",
      "metadata": {
        "id": "rAjMB7PWe0at"
      },
      "source": [
        "## Calculating the Ratio of Corner Pixels to Total Pixels"
      ]
    },
    {
      "cell_type": "markdown",
      "metadata": {
        "id": "XqG-TTmmeWAH"
      },
      "source": [
        "The number of corners are the number of `corners` pixels that have a value greater than `0`."
      ]
    },
    {
      "cell_type": "code",
      "execution_count": 9,
      "metadata": {
        "colab": {
          "base_uri": "https://localhost:8080/"
        },
        "id": "SlGCphwteESY",
        "outputId": "f0076ee7-b7bb-4c92-d1c9-0826865ad8b3"
      },
      "outputs": [
        {
          "data": {
            "text/plain": [
              "15127"
            ]
          },
          "execution_count": 9,
          "metadata": {},
          "output_type": "execute_result"
        }
      ],
      "source": [
        "np.sum(corners > 0)"
      ]
    },
    {
      "cell_type": "markdown",
      "metadata": {
        "id": "ROzafY9iedqA"
      },
      "source": [
        "The ratio of number of corners to pixels in an image is given as the ratio of the number of `corners` pixels greater than `0` divided by the number of `binary` pixels greater than `0`. In this case, 67% of the pixels represent corners."
      ]
    },
    {
      "cell_type": "code",
      "execution_count": 10,
      "metadata": {
        "colab": {
          "base_uri": "https://localhost:8080/"
        },
        "id": "pQ77avNBePPA",
        "outputId": "624fd82a-6f35-48c1-9e23-e60a7f2bede8"
      },
      "outputs": [
        {
          "data": {
            "text/plain": [
              "(15127, 22475, 0.6730589543937708)"
            ]
          },
          "execution_count": 10,
          "metadata": {},
          "output_type": "execute_result"
        }
      ],
      "source": [
        "np.sum(corners > 0), np.sum(binary > 0), np.sum(corners > 0) / np.sum(binary > 0)"
      ]
    },
    {
      "cell_type": "markdown",
      "metadata": {
        "id": "AeXuRVzbe3l7"
      },
      "source": [
        "For a different image, notably `display` (sans serif) text of the same font-size (76px), this ratio is considerably smaller (39% < 67%)."
      ]
    },
    {
      "cell_type": "code",
      "execution_count": 11,
      "metadata": {
        "colab": {
          "base_uri": "https://localhost:8080/",
          "height": 552
        },
        "id": "0zlIWLKZe_Qc",
        "outputId": "03116138-7926-4d9f-ef7f-9c15d729a23b"
      },
      "outputs": [
        {
          "data": {
            "text/html": [
              "<style>\n",
              "      .ndarray_repr .ndarray_raw_data {\n",
              "        display: none;\n",
              "      }\n",
              "      .ndarray_repr.show_array .ndarray_raw_data {\n",
              "        display: block;\n",
              "      }\n",
              "      .ndarray_repr.show_array .ndarray_image_preview {\n",
              "        display: none;\n",
              "      }\n",
              "      </style>\n",
              "      <div id=\"id-41f26308-c79b-4346-a646-a9e5eda237b7\" class=\"ndarray_repr\"><pre>ndarray (512, 512) <button style=\"padding: 0 2px;\">show data</button></pre><img src=\"data:image/png;base64,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\" class=\"ndarray_image_preview\" /><pre class=\"ndarray_raw_data\">array([[0, 0, 0, ..., 0, 0, 0],\n",
              "       [0, 0, 0, ..., 0, 0, 0],\n",
              "       [0, 0, 0, ..., 0, 0, 0],\n",
              "       ...,\n",
              "       [0, 0, 0, ..., 0, 0, 0],\n",
              "       [0, 0, 0, ..., 0, 0, 0],\n",
              "       [0, 0, 0, ..., 0, 0, 0]], dtype=uint8)</pre></div><script>\n",
              "      (() => {\n",
              "      const titles = ['show data', 'hide data'];\n",
              "      let index = 0\n",
              "      document.querySelector('#id-41f26308-c79b-4346-a646-a9e5eda237b7 button').onclick = (e) => {\n",
              "        document.querySelector('#id-41f26308-c79b-4346-a646-a9e5eda237b7').classList.toggle('show_array');\n",
              "        index = (++index) % 2;\n",
              "        document.querySelector('#id-41f26308-c79b-4346-a646-a9e5eda237b7 button').textContent = titles[index];\n",
              "        e.preventDefault();\n",
              "        e.stopPropagation();\n",
              "      }\n",
              "      })();\n",
              "    </script>"
            ],
            "text/plain": [
              "array([[0, 0, 0, ..., 0, 0, 0],\n",
              "       [0, 0, 0, ..., 0, 0, 0],\n",
              "       [0, 0, 0, ..., 0, 0, 0],\n",
              "       ...,\n",
              "       [0, 0, 0, ..., 0, 0, 0],\n",
              "       [0, 0, 0, ..., 0, 0, 0],\n",
              "       [0, 0, 0, ..., 0, 0, 0]], dtype=uint8)"
            ]
          },
          "execution_count": 11,
          "metadata": {},
          "output_type": "execute_result"
        }
      ],
      "source": [
        "path = 'display-76px.png'\n",
        "img = cv2.imread(path, cv2.IMREAD_GRAYSCALE)\n",
        "_, binary = cv2.threshold(img, 0, 255, cv2.THRESH_BINARY_INV + cv2.THRESH_OTSU)\n",
        "binary"
      ]
    },
    {
      "cell_type": "code",
      "execution_count": 12,
      "metadata": {
        "colab": {
          "base_uri": "https://localhost:8080/"
        },
        "id": "LxU2VsR7fDMF",
        "outputId": "69f391ce-f5dd-4bb2-f18a-88bba5c8bf81"
      },
      "outputs": [
        {
          "data": {
            "text/plain": [
              "(13650, 34992, 0.3900891632373114)"
            ]
          },
          "execution_count": 12,
          "metadata": {},
          "output_type": "execute_result"
        }
      ],
      "source": [
        "corners = cv2.cornerHarris(binary, blockSize=2, ksize=3, k=0.04)\n",
        "corners = cv2.dilate(corners, None)\n",
        "_, corners = cv2.threshold(corners, 0.01 * corners.max(), 255, 0)\n",
        "np.sum(corners > 0), np.sum(binary > 0), np.sum(corners > 0) / np.sum(binary > 0)"
      ]
    },
    {
      "cell_type": "markdown",
      "metadata": {
        "id": "yFcyYAOrfSzI"
      },
      "source": [
        "Visually, you can see how much fewer corners are detected in this image than in the image with serif text---this makes sense! Serifs are intricate flourishes added to the ends of letters and contain more changes in stroke (corners)."
      ]
    },
    {
      "cell_type": "code",
      "execution_count": 13,
      "metadata": {
        "colab": {
          "base_uri": "https://localhost:8080/",
          "height": 529
        },
        "id": "DSc5MK5GfL-Y",
        "outputId": "998deb5c-d6c2-427f-b540-666790c87652"
      },
      "outputs": [
        {
          "data": {
            "image/png": "[encoded data removed]",
            "text/plain": [
              "<PIL.Image.Image image mode=L size=512x512>"
            ]
          },
          "metadata": {},
          "output_type": "display_data"
        }
      ],
      "source": [
        "cv2_imshow(corners)"
      ]
    },
    {
      "cell_type": "markdown",
      "metadata": {
        "id": "uuQKSBz0i1h3"
      },
      "source": [
        "## Calculating Contour Ratio for Different Images"
      ]
    },
    {
      "cell_type": "markdown",
      "metadata": {
        "id": "5rReB9FMi3Qg"
      },
      "source": [
        "I'll now wrap the code above into a function and apply it to a wide variety of images (of two typefaces, `display` and `serif` and 8 different font sizes). I expect, on average, the `serif` images to have a higher corner ratio than `display` images, since serifs introduce more corners."
      ]
    },
    {
      "cell_type": "code",
      "execution_count": 14,
      "metadata": {
        "id": "Ahz29gyKj6uW"
      },
      "outputs": [],
      "source": [
        "def corner_ratio(path):\n",
        "    img = cv2.imread(path, cv2.IMREAD_GRAYSCALE)\n",
        "    _, binary = cv2.threshold(img, 0, 255, cv2.THRESH_BINARY_INV + cv2.THRESH_OTSU)\n",
        "\n",
        "    corners = cv2.cornerHarris(binary, blockSize=2, ksize=3, k=0.04)\n",
        "\n",
        "    corners = cv2.dilate(corners, None)\n",
        "    _, corners = cv2.threshold(corners, 0.01 * corners.max(), 255, 0)\n",
        "    corners = np.uint8(corners)\n",
        "\n",
        "    num_corners = np.sum(corners > 0)\n",
        "    total_pixels = np.sum(binary > 0)\n",
        "\n",
        "    corner_ratio = num_corners / total_pixels if total_pixels > 0 else 0\n",
        "\n",
        "    return corner_ratio"
      ]
    },
    {
      "cell_type": "markdown",
      "metadata": {
        "id": "raCgYgyLkPFa"
      },
      "source": [
        "On average, images with `serif` fonts have more corners present."
      ]
    },
    {
      "cell_type": "code",
      "execution_count": 15,
      "metadata": {
        "colab": {
          "base_uri": "https://localhost:8080/",
          "height": 143
        },
        "id": "A5IOaj7tZNAc",
        "outputId": "11c87e58-7498-4a66-9e04-ce5263774026"
      },
      "outputs": [
        {
          "data": {
            "application/vnd.google.colaboratory.intrinsic+json": {
              "summary": "{\n  \"name\": \"res\",\n  \"rows\": 2,\n  \"fields\": [\n    {\n      \"column\": \"typeface\",\n      \"properties\": {\n        \"dtype\": \"string\",\n        \"num_unique_values\": 2,\n        \"samples\": [\n          \"serif\",\n          \"display\"\n        ],\n        \"semantic_type\": \"\",\n        \"description\": \"\"\n      }\n    },\n    {\n      \"column\": \"mean\",\n      \"properties\": {\n        \"dtype\": \"number\",\n        \"std\": 0.21037786248893933,\n        \"min\": 0.9895636638160556,\n        \"max\": 1.2870828901709757,\n        \"num_unique_values\": 2,\n        \"samples\": [\n          1.2870828901709757,\n          0.9895636638160556\n        ],\n        \"semantic_type\": \"\",\n        \"description\": \"\"\n      }\n    },\n    {\n      \"column\": \"median\",\n      \"properties\": {\n        \"dtype\": \"number\",\n        \"std\": 0.28306975360016656,\n        \"min\": 0.7341436941921924,\n        \"max\": 1.1344647788311581,\n        \"num_unique_values\": 2,\n        \"samples\": [\n          1.1344647788311581,\n          0.7341436941921924\n        ],\n        \"semantic_type\": \"\",\n        \"description\": \"\"\n      }\n    }\n  ]\n}",
              "type": "dataframe"
            },
            "text/html": [
              "\n",
              "  <div id=\"df-d204e70b-5c93-4e9a-8a7a-b09d169d0c66\" class=\"colab-df-container\">\n",
              "    <div>\n",
              "<style scoped>\n",
              "    .dataframe tbody tr th:only-of-type {\n",
              "        vertical-align: middle;\n",
              "    }\n",
              "\n",
              "    .dataframe tbody tr th {\n",
              "        vertical-align: top;\n",
              "    }\n",
              "\n",
              "    .dataframe thead th {\n",
              "        text-align: right;\n",
              "    }\n",
              "</style>\n",
              "<table border=\"1\" class=\"dataframe\">\n",
              "  <thead>\n",
              "    <tr style=\"text-align: right;\">\n",
              "      <th></th>\n",
              "      <th>mean</th>\n",
              "      <th>median</th>\n",
              "    </tr>\n",
              "    <tr>\n",
              "      <th>typeface</th>\n",
              "      <th></th>\n",
              "      <th></th>\n",
              "    </tr>\n",
              "  </thead>\n",
              "  <tbody>\n",
              "    <tr>\n",
              "      <th>display</th>\n",
              "      <td>0.989564</td>\n",
              "      <td>0.734144</td>\n",
              "    </tr>\n",
              "    <tr>\n",
              "      <th>serif</th>\n",
              "      <td>1.287083</td>\n",
              "      <td>1.134465</td>\n",
              "    </tr>\n",
              "  </tbody>\n",
              "</table>\n",
              "</div>\n",
              "    <div class=\"colab-df-buttons\">\n",
              "\n",
              "  <div class=\"colab-df-container\">\n",
              "    <button class=\"colab-df-convert\" onclick=\"convertToInteractive('df-d204e70b-5c93-4e9a-8a7a-b09d169d0c66')\"\n",
              "            title=\"Convert this dataframe to an interactive table.\"\n",
              "            style=\"display:none;\">\n",
              "\n",
              "  <svg xmlns=\"http://www.w3.org/2000/svg\" height=\"24px\" viewBox=\"0 -960 960 960\">\n",
              "    <path d=\"M120-120v-720h720v720H120Zm60-500h600v-160H180v160Zm220 220h160v-160H400v160Zm0 220h160v-160H400v160ZM180-400h160v-160H180v160Zm440 0h160v-160H620v160ZM180-180h160v-160H180v160Zm440 0h160v-160H620v160Z\"/>\n",
              "  </svg>\n",
              "    </button>\n",
              "\n",
              "  <style>\n",
              "    .colab-df-container {\n",
              "      display:flex;\n",
              "      gap: 12px;\n",
              "    }\n",
              "\n",
              "    .colab-df-convert {\n",
              "      background-color: #E8F0FE;\n",
              "      border: none;\n",
              "      border-radius: 50%;\n",
              "      cursor: pointer;\n",
              "      display: none;\n",
              "      fill: #1967D2;\n",
              "      height: 32px;\n",
              "      padding: 0 0 0 0;\n",
              "      width: 32px;\n",
              "    }\n",
              "\n",
              "    .colab-df-convert:hover {\n",
              "      background-color: #E2EBFA;\n",
              "      box-shadow: 0px 1px 2px rgba(60, 64, 67, 0.3), 0px 1px 3px 1px rgba(60, 64, 67, 0.15);\n",
              "      fill: #174EA6;\n",
              "    }\n",
              "\n",
              "    .colab-df-buttons div {\n",
              "      margin-bottom: 4px;\n",
              "    }\n",
              "\n",
              "    [theme=dark] .colab-df-convert {\n",
              "      background-color: #3B4455;\n",
              "      fill: #D2E3FC;\n",
              "    }\n",
              "\n",
              "    [theme=dark] .colab-df-convert:hover {\n",
              "      background-color: #434B5C;\n",
              "      box-shadow: 0px 1px 3px 1px rgba(0, 0, 0, 0.15);\n",
              "      filter: drop-shadow(0px 1px 2px rgba(0, 0, 0, 0.3));\n",
              "      fill: #FFFFFF;\n",
              "    }\n",
              "  </style>\n",
              "\n",
              "    <script>\n",
              "      const buttonEl =\n",
              "        document.querySelector('#df-d204e70b-5c93-4e9a-8a7a-b09d169d0c66 button.colab-df-convert');\n",
              "      buttonEl.style.display =\n",
              "        google.colab.kernel.accessAllowed ? 'block' : 'none';\n",
              "\n",
              "      async function convertToInteractive(key) {\n",
              "        const element = document.querySelector('#df-d204e70b-5c93-4e9a-8a7a-b09d169d0c66');\n",
              "        const dataTable =\n",
              "          await google.colab.kernel.invokeFunction('convertToInteractive',\n",
              "                                                    [key], {});\n",
              "        if (!dataTable) return;\n",
              "\n",
              "        const docLinkHtml = 'Like what you see? Visit the ' +\n",
              "          '<a target=\"_blank\" href=https://colab.research.google.com/notebooks/data_table.ipynb>data table notebook</a>'\n",
              "          + ' to learn more about interactive tables.';\n",
              "        element.innerHTML = '';\n",
              "        dataTable['output_type'] = 'display_data';\n",
              "        await google.colab.output.renderOutput(dataTable, element);\n",
              "        const docLink = document.createElement('div');\n",
              "        docLink.innerHTML = docLinkHtml;\n",
              "        element.appendChild(docLink);\n",
              "      }\n",
              "    </script>\n",
              "  </div>\n",
              "\n",
              "\n",
              "<div id=\"df-3b96fbde-4bc8-4619-8d30-0690b858dc1d\">\n",
              "  <button class=\"colab-df-quickchart\" onclick=\"quickchart('df-3b96fbde-4bc8-4619-8d30-0690b858dc1d')\"\n",
              "            title=\"Suggest charts\"\n",
              "            style=\"display:none;\">\n",
              "\n",
              "<svg xmlns=\"http://www.w3.org/2000/svg\" height=\"24px\"viewBox=\"0 0 24 24\"\n",
              "     width=\"24px\">\n",
              "    <g>\n",
              "        <path d=\"M19 3H5c-1.1 0-2 .9-2 2v14c0 1.1.9 2 2 2h14c1.1 0 2-.9 2-2V5c0-1.1-.9-2-2-2zM9 17H7v-7h2v7zm4 0h-2V7h2v10zm4 0h-2v-4h2v4z\"/>\n",
              "    </g>\n",
              "</svg>\n",
              "  </button>\n",
              "\n",
              "<style>\n",
              "  .colab-df-quickchart {\n",
              "      --bg-color: #E8F0FE;\n",
              "      --fill-color: #1967D2;\n",
              "      --hover-bg-color: #E2EBFA;\n",
              "      --hover-fill-color: #174EA6;\n",
              "      --disabled-fill-color: #AAA;\n",
              "      --disabled-bg-color: #DDD;\n",
              "  }\n",
              "\n",
              "  [theme=dark] .colab-df-quickchart {\n",
              "      --bg-color: #3B4455;\n",
              "      --fill-color: #D2E3FC;\n",
              "      --hover-bg-color: #434B5C;\n",
              "      --hover-fill-color: #FFFFFF;\n",
              "      --disabled-bg-color: #3B4455;\n",
              "      --disabled-fill-color: #666;\n",
              "  }\n",
              "\n",
              "  .colab-df-quickchart {\n",
              "    background-color: var(--bg-color);\n",
              "    border: none;\n",
              "    border-radius: 50%;\n",
              "    cursor: pointer;\n",
              "    display: none;\n",
              "    fill: var(--fill-color);\n",
              "    height: 32px;\n",
              "    padding: 0;\n",
              "    width: 32px;\n",
              "  }\n",
              "\n",
              "  .colab-df-quickchart:hover {\n",
              "    background-color: var(--hover-bg-color);\n",
              "    box-shadow: 0 1px 2px rgba(60, 64, 67, 0.3), 0 1px 3px 1px rgba(60, 64, 67, 0.15);\n",
              "    fill: var(--button-hover-fill-color);\n",
              "  }\n",
              "\n",
              "  .colab-df-quickchart-complete:disabled,\n",
              "  .colab-df-quickchart-complete:disabled:hover {\n",
              "    background-color: var(--disabled-bg-color);\n",
              "    fill: var(--disabled-fill-color);\n",
              "    box-shadow: none;\n",
              "  }\n",
              "\n",
              "  .colab-df-spinner {\n",
              "    border: 2px solid var(--fill-color);\n",
              "    border-color: transparent;\n",
              "    border-bottom-color: var(--fill-color);\n",
              "    animation:\n",
              "      spin 1s steps(1) infinite;\n",
              "  }\n",
              "\n",
              "  @keyframes spin {\n",
              "    0% {\n",
              "      border-color: transparent;\n",
              "      border-bottom-color: var(--fill-color);\n",
              "      border-left-color: var(--fill-color);\n",
              "    }\n",
              "    20% {\n",
              "      border-color: transparent;\n",
              "      border-left-color: var(--fill-color);\n",
              "      border-top-color: var(--fill-color);\n",
              "    }\n",
              "    30% {\n",
              "      border-color: transparent;\n",
              "      border-left-color: var(--fill-color);\n",
              "      border-top-color: var(--fill-color);\n",
              "      border-right-color: var(--fill-color);\n",
              "    }\n",
              "    40% {\n",
              "      border-color: transparent;\n",
              "      border-right-color: var(--fill-color);\n",
              "      border-top-color: var(--fill-color);\n",
              "    }\n",
              "    60% {\n",
              "      border-color: transparent;\n",
              "      border-right-color: var(--fill-color);\n",
              "    }\n",
              "    80% {\n",
              "      border-color: transparent;\n",
              "      border-right-color: var(--fill-color);\n",
              "      border-bottom-color: var(--fill-color);\n",
              "    }\n",
              "    90% {\n",
              "      border-color: transparent;\n",
              "      border-bottom-color: var(--fill-color);\n",
              "    }\n",
              "  }\n",
              "</style>\n",
              "\n",
              "  <script>\n",
              "    async function quickchart(key) {\n",
              "      const quickchartButtonEl =\n",
              "        document.querySelector('#' + key + ' button');\n",
              "      quickchartButtonEl.disabled = true;  // To prevent multiple clicks.\n",
              "      quickchartButtonEl.classList.add('colab-df-spinner');\n",
              "      try {\n",
              "        const charts = await google.colab.kernel.invokeFunction(\n",
              "            'suggestCharts', [key], {});\n",
              "      } catch (error) {\n",
              "        console.error('Error during call to suggestCharts:', error);\n",
              "      }\n",
              "      quickchartButtonEl.classList.remove('colab-df-spinner');\n",
              "      quickchartButtonEl.classList.add('colab-df-quickchart-complete');\n",
              "    }\n",
              "    (() => {\n",
              "      let quickchartButtonEl =\n",
              "        document.querySelector('#df-3b96fbde-4bc8-4619-8d30-0690b858dc1d button');\n",
              "      quickchartButtonEl.style.display =\n",
              "        google.colab.kernel.accessAllowed ? 'block' : 'none';\n",
              "    })();\n",
              "  </script>\n",
              "</div>\n",
              "\n",
              "    </div>\n",
              "  </div>\n"
            ],
            "text/plain": [
              "              mean    median\n",
              "typeface                    \n",
              "display   0.989564  0.734144\n",
              "serif     1.287083  1.134465"
            ]
          },
          "execution_count": 15,
          "metadata": {},
          "output_type": "execute_result"
        }
      ],
      "source": [
        "szs = [8, 18, 24, 36, 76, 240, 330, 420]\n",
        "ts = ['display', 'serif']\n",
        "res = []\n",
        "\n",
        "for t in ts:\n",
        "    for sz in szs:\n",
        "        image_path = f\"{t}-{sz}px.png\"\n",
        "        sr = corner_ratio(image_path)\n",
        "        res.append([t, sz, sr])\n",
        "\n",
        "res = pd.DataFrame(res, columns=['typeface', 'font-size', 'corner-ratio'])\n",
        "res.groupby('typeface')['corner-ratio'].agg(['mean', 'median'])"
      ]
    },
    {
      "cell_type": "markdown",
      "metadata": {
        "id": "QBZnoSjskmPz"
      },
      "source": [
        "This trend holds up for each font size:"
      ]
    },
    {
      "cell_type": "code",
      "execution_count": 16,
      "metadata": {
        "colab": {
          "base_uri": "https://localhost:8080/",
          "height": 551
        },
        "id": "tLZqSXsFkOB1",
        "outputId": "ae959be7-4391-44e0-bc79-706c7f59df98"
      },
      "outputs": [
        {
          "data": {
            "application/vnd.google.colaboratory.intrinsic+json": {
              "summary": "{\n  \"name\": \"res\",\n  \"rows\": 16,\n  \"fields\": [\n    {\n      \"column\": \"typeface\",\n      \"properties\": {\n        \"dtype\": \"category\",\n        \"num_unique_values\": 2,\n        \"samples\": [\n          \"serif\",\n          \"display\"\n        ],\n        \"semantic_type\": \"\",\n        \"description\": \"\"\n      }\n    },\n    {\n      \"column\": \"font-size\",\n      \"properties\": {\n        \"dtype\": \"number\",\n        \"std\": 157,\n        \"min\": 8,\n        \"max\": 420,\n        \"num_unique_values\": 8,\n        \"samples\": [\n          18,\n          240\n        ],\n        \"semantic_type\": \"\",\n        \"description\": \"\"\n      }\n    },\n    {\n      \"column\": \"corner-ratio\",\n      \"properties\": {\n        \"dtype\": \"number\",\n        \"std\": 1.0682234735480132,\n        \"min\": 0.05251264615639771,\n        \"max\": 2.874286921614198,\n        \"num_unique_values\": 16,\n        \"samples\": [\n          2.8272884283246977,\n          2.874286921614198\n        ],\n        \"semantic_type\": \"\",\n        \"description\": \"\"\n      }\n    }\n  ]\n}",
              "type": "dataframe"
            },
            "text/html": [
              "\n",
              "  <div id=\"df-0df0ed54-3ca8-43f4-8039-0a5f41c4a3ca\" class=\"colab-df-container\">\n",
              "    <div>\n",
              "<style scoped>\n",
              "    .dataframe tbody tr th:only-of-type {\n",
              "        vertical-align: middle;\n",
              "    }\n",
              "\n",
              "    .dataframe tbody tr th {\n",
              "        vertical-align: top;\n",
              "    }\n",
              "\n",
              "    .dataframe thead th {\n",
              "        text-align: right;\n",
              "    }\n",
              "</style>\n",
              "<table border=\"1\" class=\"dataframe\">\n",
              "  <thead>\n",
              "    <tr style=\"text-align: right;\">\n",
              "      <th></th>\n",
              "      <th>typeface</th>\n",
              "      <th>font-size</th>\n",
              "      <th>corner-ratio</th>\n",
              "    </tr>\n",
              "  </thead>\n",
              "  <tbody>\n",
              "    <tr>\n",
              "      <th>0</th>\n",
              "      <td>display</td>\n",
              "      <td>8</td>\n",
              "      <td>2.827288</td>\n",
              "    </tr>\n",
              "    <tr>\n",
              "      <th>8</th>\n",
              "      <td>serif</td>\n",
              "      <td>8</td>\n",
              "      <td>2.874287</td>\n",
              "    </tr>\n",
              "    <tr>\n",
              "      <th>1</th>\n",
              "      <td>display</td>\n",
              "      <td>18</td>\n",
              "      <td>1.784839</td>\n",
              "    </tr>\n",
              "    <tr>\n",
              "      <th>9</th>\n",
              "      <td>serif</td>\n",
              "      <td>18</td>\n",
              "      <td>2.573949</td>\n",
              "    </tr>\n",
              "    <tr>\n",
              "      <th>2</th>\n",
              "      <td>display</td>\n",
              "      <td>24</td>\n",
              "      <td>1.609162</td>\n",
              "    </tr>\n",
              "    <tr>\n",
              "      <th>10</th>\n",
              "      <td>serif</td>\n",
              "      <td>24</td>\n",
              "      <td>2.192324</td>\n",
              "    </tr>\n",
              "    <tr>\n",
              "      <th>3</th>\n",
              "      <td>display</td>\n",
              "      <td>36</td>\n",
              "      <td>1.078198</td>\n",
              "    </tr>\n",
              "    <tr>\n",
              "      <th>11</th>\n",
              "      <td>serif</td>\n",
              "      <td>36</td>\n",
              "      <td>1.595871</td>\n",
              "    </tr>\n",
              "    <tr>\n",
              "      <th>4</th>\n",
              "      <td>display</td>\n",
              "      <td>76</td>\n",
              "      <td>0.390089</td>\n",
              "    </tr>\n",
              "    <tr>\n",
              "      <th>12</th>\n",
              "      <td>serif</td>\n",
              "      <td>76</td>\n",
              "      <td>0.673059</td>\n",
              "    </tr>\n",
              "    <tr>\n",
              "      <th>5</th>\n",
              "      <td>display</td>\n",
              "      <td>240</td>\n",
              "      <td>0.113082</td>\n",
              "    </tr>\n",
              "    <tr>\n",
              "      <th>13</th>\n",
              "      <td>serif</td>\n",
              "      <td>240</td>\n",
              "      <td>0.173800</td>\n",
              "    </tr>\n",
              "    <tr>\n",
              "      <th>6</th>\n",
              "      <td>display</td>\n",
              "      <td>330</td>\n",
              "      <td>0.061339</td>\n",
              "    </tr>\n",
              "    <tr>\n",
              "      <th>14</th>\n",
              "      <td>serif</td>\n",
              "      <td>330</td>\n",
              "      <td>0.123992</td>\n",
              "    </tr>\n",
              "    <tr>\n",
              "      <th>7</th>\n",
              "      <td>display</td>\n",
              "      <td>420</td>\n",
              "      <td>0.052513</td>\n",
              "    </tr>\n",
              "    <tr>\n",
              "      <th>15</th>\n",
              "      <td>serif</td>\n",
              "      <td>420</td>\n",
              "      <td>0.089383</td>\n",
              "    </tr>\n",
              "  </tbody>\n",
              "</table>\n",
              "</div>\n",
              "    <div class=\"colab-df-buttons\">\n",
              "\n",
              "  <div class=\"colab-df-container\">\n",
              "    <button class=\"colab-df-convert\" onclick=\"convertToInteractive('df-0df0ed54-3ca8-43f4-8039-0a5f41c4a3ca')\"\n",
              "            title=\"Convert this dataframe to an interactive table.\"\n",
              "            style=\"display:none;\">\n",
              "\n",
              "  <svg xmlns=\"http://www.w3.org/2000/svg\" height=\"24px\" viewBox=\"0 -960 960 960\">\n",
              "    <path d=\"M120-120v-720h720v720H120Zm60-500h600v-160H180v160Zm220 220h160v-160H400v160Zm0 220h160v-160H400v160ZM180-400h160v-160H180v160Zm440 0h160v-160H620v160ZM180-180h160v-160H180v160Zm440 0h160v-160H620v160Z\"/>\n",
              "  </svg>\n",
              "    </button>\n",
              "\n",
              "  <style>\n",
              "    .colab-df-container {\n",
              "      display:flex;\n",
              "      gap: 12px;\n",
              "    }\n",
              "\n",
              "    .colab-df-convert {\n",
              "      background-color: #E8F0FE;\n",
              "      border: none;\n",
              "      border-radius: 50%;\n",
              "      cursor: pointer;\n",
              "      display: none;\n",
              "      fill: #1967D2;\n",
              "      height: 32px;\n",
              "      padding: 0 0 0 0;\n",
              "      width: 32px;\n",
              "    }\n",
              "\n",
              "    .colab-df-convert:hover {\n",
              "      background-color: #E2EBFA;\n",
              "      box-shadow: 0px 1px 2px rgba(60, 64, 67, 0.3), 0px 1px 3px 1px rgba(60, 64, 67, 0.15);\n",
              "      fill: #174EA6;\n",
              "    }\n",
              "\n",
              "    .colab-df-buttons div {\n",
              "      margin-bottom: 4px;\n",
              "    }\n",
              "\n",
              "    [theme=dark] .colab-df-convert {\n",
              "      background-color: #3B4455;\n",
              "      fill: #D2E3FC;\n",
              "    }\n",
              "\n",
              "    [theme=dark] .colab-df-convert:hover {\n",
              "      background-color: #434B5C;\n",
              "      box-shadow: 0px 1px 3px 1px rgba(0, 0, 0, 0.15);\n",
              "      filter: drop-shadow(0px 1px 2px rgba(0, 0, 0, 0.3));\n",
              "      fill: #FFFFFF;\n",
              "    }\n",
              "  </style>\n",
              "\n",
              "    <script>\n",
              "      const buttonEl =\n",
              "        document.querySelector('#df-0df0ed54-3ca8-43f4-8039-0a5f41c4a3ca button.colab-df-convert');\n",
              "      buttonEl.style.display =\n",
              "        google.colab.kernel.accessAllowed ? 'block' : 'none';\n",
              "\n",
              "      async function convertToInteractive(key) {\n",
              "        const element = document.querySelector('#df-0df0ed54-3ca8-43f4-8039-0a5f41c4a3ca');\n",
              "        const dataTable =\n",
              "          await google.colab.kernel.invokeFunction('convertToInteractive',\n",
              "                                                    [key], {});\n",
              "        if (!dataTable) return;\n",
              "\n",
              "        const docLinkHtml = 'Like what you see? Visit the ' +\n",
              "          '<a target=\"_blank\" href=https://colab.research.google.com/notebooks/data_table.ipynb>data table notebook</a>'\n",
              "          + ' to learn more about interactive tables.';\n",
              "        element.innerHTML = '';\n",
              "        dataTable['output_type'] = 'display_data';\n",
              "        await google.colab.output.renderOutput(dataTable, element);\n",
              "        const docLink = document.createElement('div');\n",
              "        docLink.innerHTML = docLinkHtml;\n",
              "        element.appendChild(docLink);\n",
              "      }\n",
              "    </script>\n",
              "  </div>\n",
              "\n",
              "\n",
              "<div id=\"df-b3f69d2e-a968-4724-bf1e-5232c5ce4c07\">\n",
              "  <button class=\"colab-df-quickchart\" onclick=\"quickchart('df-b3f69d2e-a968-4724-bf1e-5232c5ce4c07')\"\n",
              "            title=\"Suggest charts\"\n",
              "            style=\"display:none;\">\n",
              "\n",
              "<svg xmlns=\"http://www.w3.org/2000/svg\" height=\"24px\"viewBox=\"0 0 24 24\"\n",
              "     width=\"24px\">\n",
              "    <g>\n",
              "        <path d=\"M19 3H5c-1.1 0-2 .9-2 2v14c0 1.1.9 2 2 2h14c1.1 0 2-.9 2-2V5c0-1.1-.9-2-2-2zM9 17H7v-7h2v7zm4 0h-2V7h2v10zm4 0h-2v-4h2v4z\"/>\n",
              "    </g>\n",
              "</svg>\n",
              "  </button>\n",
              "\n",
              "<style>\n",
              "  .colab-df-quickchart {\n",
              "      --bg-color: #E8F0FE;\n",
              "      --fill-color: #1967D2;\n",
              "      --hover-bg-color: #E2EBFA;\n",
              "      --hover-fill-color: #174EA6;\n",
              "      --disabled-fill-color: #AAA;\n",
              "      --disabled-bg-color: #DDD;\n",
              "  }\n",
              "\n",
              "  [theme=dark] .colab-df-quickchart {\n",
              "      --bg-color: #3B4455;\n",
              "      --fill-color: #D2E3FC;\n",
              "      --hover-bg-color: #434B5C;\n",
              "      --hover-fill-color: #FFFFFF;\n",
              "      --disabled-bg-color: #3B4455;\n",
              "      --disabled-fill-color: #666;\n",
              "  }\n",
              "\n",
              "  .colab-df-quickchart {\n",
              "    background-color: var(--bg-color);\n",
              "    border: none;\n",
              "    border-radius: 50%;\n",
              "    cursor: pointer;\n",
              "    display: none;\n",
              "    fill: var(--fill-color);\n",
              "    height: 32px;\n",
              "    padding: 0;\n",
              "    width: 32px;\n",
              "  }\n",
              "\n",
              "  .colab-df-quickchart:hover {\n",
              "    background-color: var(--hover-bg-color);\n",
              "    box-shadow: 0 1px 2px rgba(60, 64, 67, 0.3), 0 1px 3px 1px rgba(60, 64, 67, 0.15);\n",
              "    fill: var(--button-hover-fill-color);\n",
              "  }\n",
              "\n",
              "  .colab-df-quickchart-complete:disabled,\n",
              "  .colab-df-quickchart-complete:disabled:hover {\n",
              "    background-color: var(--disabled-bg-color);\n",
              "    fill: var(--disabled-fill-color);\n",
              "    box-shadow: none;\n",
              "  }\n",
              "\n",
              "  .colab-df-spinner {\n",
              "    border: 2px solid var(--fill-color);\n",
              "    border-color: transparent;\n",
              "    border-bottom-color: var(--fill-color);\n",
              "    animation:\n",
              "      spin 1s steps(1) infinite;\n",
              "  }\n",
              "\n",
              "  @keyframes spin {\n",
              "    0% {\n",
              "      border-color: transparent;\n",
              "      border-bottom-color: var(--fill-color);\n",
              "      border-left-color: var(--fill-color);\n",
              "    }\n",
              "    20% {\n",
              "      border-color: transparent;\n",
              "      border-left-color: var(--fill-color);\n",
              "      border-top-color: var(--fill-color);\n",
              "    }\n",
              "    30% {\n",
              "      border-color: transparent;\n",
              "      border-left-color: var(--fill-color);\n",
              "      border-top-color: var(--fill-color);\n",
              "      border-right-color: var(--fill-color);\n",
              "    }\n",
              "    40% {\n",
              "      border-color: transparent;\n",
              "      border-right-color: var(--fill-color);\n",
              "      border-top-color: var(--fill-color);\n",
              "    }\n",
              "    60% {\n",
              "      border-color: transparent;\n",
              "      border-right-color: var(--fill-color);\n",
              "    }\n",
              "    80% {\n",
              "      border-color: transparent;\n",
              "      border-right-color: var(--fill-color);\n",
              "      border-bottom-color: var(--fill-color);\n",
              "    }\n",
              "    90% {\n",
              "      border-color: transparent;\n",
              "      border-bottom-color: var(--fill-color);\n",
              "    }\n",
              "  }\n",
              "</style>\n",
              "\n",
              "  <script>\n",
              "    async function quickchart(key) {\n",
              "      const quickchartButtonEl =\n",
              "        document.querySelector('#' + key + ' button');\n",
              "      quickchartButtonEl.disabled = true;  // To prevent multiple clicks.\n",
              "      quickchartButtonEl.classList.add('colab-df-spinner');\n",
              "      try {\n",
              "        const charts = await google.colab.kernel.invokeFunction(\n",
              "            'suggestCharts', [key], {});\n",
              "      } catch (error) {\n",
              "        console.error('Error during call to suggestCharts:', error);\n",
              "      }\n",
              "      quickchartButtonEl.classList.remove('colab-df-spinner');\n",
              "      quickchartButtonEl.classList.add('colab-df-quickchart-complete');\n",
              "    }\n",
              "    (() => {\n",
              "      let quickchartButtonEl =\n",
              "        document.querySelector('#df-b3f69d2e-a968-4724-bf1e-5232c5ce4c07 button');\n",
              "      quickchartButtonEl.style.display =\n",
              "        google.colab.kernel.accessAllowed ? 'block' : 'none';\n",
              "    })();\n",
              "  </script>\n",
              "</div>\n",
              "\n",
              "    </div>\n",
              "  </div>\n"
            ],
            "text/plain": [
              "   typeface  font-size  corner-ratio\n",
              "0   display          8      2.827288\n",
              "8     serif          8      2.874287\n",
              "1   display         18      1.784839\n",
              "9     serif         18      2.573949\n",
              "2   display         24      1.609162\n",
              "10    serif         24      2.192324\n",
              "3   display         36      1.078198\n",
              "11    serif         36      1.595871\n",
              "4   display         76      0.390089\n",
              "12    serif         76      0.673059\n",
              "5   display        240      0.113082\n",
              "13    serif        240      0.173800\n",
              "6   display        330      0.061339\n",
              "14    serif        330      0.123992\n",
              "7   display        420      0.052513\n",
              "15    serif        420      0.089383"
            ]
          },
          "execution_count": 16,
          "metadata": {},
          "output_type": "execute_result"
        }
      ],
      "source": [
        "res.sort_values(by='font-size')"
      ]
    },
    {
      "cell_type": "markdown",
      "metadata": {
        "id": "h58uXiEGko-l"
      },
      "source": [
        "## Final Thoughts"
      ]
    },
    {
      "cell_type": "markdown",
      "metadata": {
        "id": "KqJ4ksWBkr3d"
      },
      "source": [
        "Similar to the [contour ratio algorithm](https://vishalbakshi.github.io/blog/posts/2024-09-06-typefaceclassifier-contour-ratio/) there is a clear and consistent difference in value between serif and sans serif fonts for this corner ratio algorithm, making this a good candidate for distinguishing between typefaces."
      ]
    },
    {
      "cell_type": "markdown",
      "metadata": {
        "id": "yedvvZ3glGmq"
      },
      "source": [
        "This is also another relatively simple algorithm, and each step can be easily visualized.\n",
        "\n",
        "I hope you enjoyed this blog post! Follow me on Twitter [@vishal_learner](https://twitter.com/vishal_learner)."
      ]
    }
  ],
  "metadata": {
    "colab": {
      "provenance": []
    },
    "kernelspec": {
      "display_name": "Python 3",
      "name": "python3"
    },
    "language_info": {
      "name": "python"
    }
  },
  "nbformat": 4,
  "nbformat_minor": 0
}

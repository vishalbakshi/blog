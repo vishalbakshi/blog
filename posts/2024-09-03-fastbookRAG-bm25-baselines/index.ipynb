{
  "cells": [
    {
      "cell_type": "raw",
      "metadata": {
        "vscode": {
          "languageId": "raw"
        }
      },
      "source": [
        "---\n",
        "title: Establishing a Full Text Search (BM25) Baseline for My fastbookRAG Project\n",
        "date: \"2024-09-03\"\n",
        "author: Vishal Bakshi\n",
        "description: In this blog post, I experiment with 6 chunking/retrieval strategies to retrieve context from a sqlite database sufficient to answer 76.7% of the 202 fastbook end-of-chapter questions from Part 1 of the course.\n",
        "filters:\n",
        "   - lightbox\n",
        "lightbox: auto\n",
        "categories:\n",
        "    - python\n",
        "    - RAG\n",
        "    - information retrieval\n",
        "    - fastbookRAG\n",
        "---"
      ]
    },
    {
      "cell_type": "markdown",
      "metadata": {
        "id": "KzHnXOvJ-7Kz"
      },
      "source": [
        "## Introduction"
      ]
    },
    {
      "cell_type": "markdown",
      "metadata": {
        "id": "PGWVe1NxEjNJ"
      },
      "source": [
        "The goal of the **fastbookRAG** project is to answer questions from the [fastbook](https://github.com/fastai/fastbook/tree/master) end-of-chapter Questionnaires using the following pipeline:\n",
        "\n"
      ]
    },
    {
      "cell_type": "markdown",
      "metadata": {
        "id": "SUKvPx-eHV5T"
      },
      "source": [
        "![fastbookRAG diagram](1.png)"
      ]
    },
    {
      "cell_type": "markdown",
      "metadata": {
        "id": "w1JKQxOSjSY-"
      },
      "source": [
        "This notebook establishes a baseline using BM25 for keyword-based retrieval on chunks of the fastbook chapters covered in [Part 1 of the fastai course](https://course.fast.ai/) (1, 2, 4, 8, 9, 10, and 13). I generate keywords (for full text search) for each question [using the Claude-3.5-Sonnet API (using the Answer.AI library `claudette`)](https://vishalbakshi.github.io/blog/posts/2024-08-27-fastbookRAG-claude-keywords/).\n",
        "\n",
        "The evaluation metric for each question, that I'm simply calling **score**, is binary: can the retrieved context answer the question (`1`) or not (`0`)? The evaluation metric across a set of questions, which I'm calling the **Answer Rate**, is the mean score for those questions.\n",
        "\n",
        "The goal is to retrieve the context necessary to answer all questions. Currently, I manually assess answers. Eventually I'll integrate an LLM into this pipeline to generate (and evaluate) answers based on the retrieved context."
      ]
    },
    {
      "cell_type": "markdown",
      "metadata": {
        "id": "vxArBi3MUIbe"
      },
      "source": [
        "## Summary of Results"
      ]
    },
    {
      "cell_type": "markdown",
      "metadata": {
        "id": "kNxkIDj1UJsX"
      },
      "source": [
        "Here are the results from my experiments in this notebook---in general, the best performing full text search method (76.7% Answer Rate overall) was retrieving the top-5 (BM25 score) 3-paragraph chunks based on the given set of keywords using FTS5 in sqlite:\n",
        "\n",
        "|Chapter|BM25_A (Top-1 1p)|BM25_B (Top-3 1p)|BM25_C (Top-5 1p)|BM25_D (Top-1 3p)|BM25_E (Top-3 3p)|BM25_F (Top-5 3p)|\n",
        "|:-:|:-:|:-:|:-:|:-:|:-:|:-:|\n",
        "1|40% (12/30)|56.7% (17/30)|60% (18/30)|63.3% (19/30)|83.3% (25/30)|90% (27/30)|\n",
        "2|38.5% (10/26)|65.4% (17/26)|69.2% (18/26)|46.2% (12.26)|80.8% (21/26)|80.8% (21/26)|\n",
        "4|25% (8/32)|68.8% (22/32)|71.9% (23/32)|31.3% (10/32)|71.9% (23/32)|75% (24/32)|\n",
        "8|13.8% (4/29)|34.5% (10/29)|44.8% (13/29)|31% (9/29)|55.2% (16/29)|65.5% (19/29)|\n",
        "9|13.8% (4/29)|48.3% (14/29)|58.6% (17/29)|34.5% (10/29)|72.4% (21/29)|79.3% (23/29)|\n",
        "10|47.6% (12/21)|42.9% (9/21)|61.9% (13/21)|38% (8/21)|57.1% (12/21)|61.9% (13/21)|\n",
        "13|37.1% (13/35)|54.3% (19/35)|60% (21/35)|42.9% (15/35)|68.6% (24/35)|80% (28/35)|\n",
        "**All**|**30.2% (61/202)**|**53.5% (108/202)**|**60.9% (123/202)**|**41.1% (83/202)**|**70.3% (142/202)**|**76.7% (155/202)**|"
      ]
    },
    {
      "cell_type": "markdown",
      "metadata": {
        "id": "Z-q8kYFQysaE"
      },
      "source": [
        "## Experimental Setup"
      ]
    },
    {
      "cell_type": "markdown",
      "metadata": {
        "id": "9VimsHL35-kC"
      },
      "source": [
        "### Data Sources"
      ]
    },
    {
      "cell_type": "markdown",
      "metadata": {
        "id": "GdXbZjdm2oGZ"
      },
      "source": [
        "- The freely available Jupyter Notebook-written [fastbook](https://github.com/fastai/fastbook/)."
      ]
    },
    {
      "cell_type": "markdown",
      "metadata": {
        "id": "SRvxVAF624gs"
      },
      "source": [
        "### Data Preprocessing"
      ]
    },
    {
      "cell_type": "markdown",
      "metadata": {
        "id": "GgID69dC27k8"
      },
      "source": [
        "- Chunking strategy: Single or multiple paragraphs with corresponding headers.\n",
        "- Rationale: Balances granular content with high-level context.\n",
        "- Goal: Maintain lean, informative chunks for efficient retrieval."
      ]
    },
    {
      "cell_type": "markdown",
      "metadata": {
        "id": "I__iMBqH3oWK"
      },
      "source": [
        "### Database"
      ]
    },
    {
      "cell_type": "markdown",
      "metadata": {
        "id": "HI5A4m8q3rmH"
      },
      "source": [
        "I am using sqlite for chunk storage as it's built-in to the python standard library and contains a built-in full text search (FTS5). My database has a single table `fastbook` with a column `text` that has FTS5 enabled.\n",
        "\n",
        "A typical query looks like:\n",
        "\n",
        "```sql\n",
        "SELECT * FROM fastbook\n",
        "WHERE fastbook MATCH 'keyword1 OR keyword2'\n",
        "ORDER BY rank\n",
        "LIMIT 3;\n",
        "```"
      ]
    },
    {
      "cell_type": "markdown",
      "metadata": {
        "id": "47wpU7Lc6UD7"
      },
      "source": [
        "## Methodology"
      ]
    },
    {
      "cell_type": "markdown",
      "metadata": {
        "id": "nw0lTbxQ88cI"
      },
      "source": [
        "### Why BM25?"
      ]
    },
    {
      "cell_type": "markdown",
      "metadata": {
        "id": "i1t9-YID84Ai"
      },
      "source": [
        "Key inspirations for why I chose to establish a BM25 baseline:"
      ]
    },
    {
      "cell_type": "markdown",
      "metadata": {
        "id": "c20bF5Kr6YdS"
      },
      "source": [
        "\n",
        "\n",
        "![Eugene Yan Tweet](eugeneyan_bm25.png)\n",
        "\n",
        "![Simon Willison Tweet](simonw_bm25.png)\n",
        "\n",
        "![Shreya Shankar Tweet](sh_reya_bm25.png)\n",
        "\n",
        "<br>\n",
        "\n",
        "> Humans love to use keywords. We have very strong tendencies to notice and use certain acronyms, domain-specific words, etc. To capture all this signal, you should ensure your pipeline uses Keyword search. An ongoing joke is that information retrieval has progressed slowly because BM25 is too strong a baseline. _([Beyond the Basics of RAG by Benjamin Clavié](https://parlance-labs.com/education/rag/ben.html))_."
      ]
    },
    {
      "cell_type": "markdown",
      "metadata": {
        "id": "DrRwkcsQ9D5g"
      },
      "source": [
        "### Evaluation Set\n"
      ]
    },
    {
      "cell_type": "markdown",
      "metadata": {
        "id": "4gHf6r9t9FQr"
      },
      "source": [
        "My evaluation set consists of:\n",
        "\n",
        "- 202 Questionnaire questions.\n",
        "- \"Gold standard\" solutions to the Questionnaire [published by fast.ai Leader Tanishq Abraham](https://forums.fast.ai/t/fastbook-chapter-1-questionnaire-solutions-wiki/65647) who says:\n",
        "\n",
        "> my responses are based on what is supported by the chapter text\n",
        "\n",
        "(Which is perfect for my retrieval task.)"
      ]
    },
    {
      "cell_type": "markdown",
      "metadata": {
        "id": "3hvP9wzv-QYD"
      },
      "source": [
        "### Evaluation Metrics"
      ]
    },
    {
      "cell_type": "markdown",
      "metadata": {
        "id": "2uMa8p-a-SEL"
      },
      "source": [
        "Metrics: **Score** and **Answer Rate**\n",
        "\n",
        "The evaluation metric for each question, that I'm simply calling **score**, is binary: can the retrieved context answer the question (`1`) or not (`0`)? The evaluation metric across a set of questions, which I'm calling the **Answer Rate**, is the mean score for those questions.\n",
        "\n",
        "While this is a straightforward pair of metrics, they do involve some judgment. After reading the retrieved context, I decide if it's enough to answer the question. A capable LLM should be able to make the same kind of judgment about whether the context is helpful or not."
      ]
    },
    {
      "cell_type": "markdown",
      "metadata": {
        "id": "b60VEE7j384-"
      },
      "source": [
        "## Results"
      ]
    },
    {
      "cell_type": "markdown",
      "metadata": {
        "id": "p9fAUmyf4Q5X"
      },
      "source": [
        "Here are the names and descriptions of each full text search approach explored in this notebook. Top-n means the chunk(s) with the n-highest BM25 score(s).\n",
        "\n",
        "|Name|Description|\n",
        "|:-:|:-:|\n",
        "|BM25_A|Top-1 1-Paragraph Chunks\n",
        "|BM25_B|Top-3 1-Paragraph Chunks\n",
        "|BM25_C|Top-5 1-Paragraph Chunks\n",
        "|BM25_D|Top-1 3-Paragraph Chunks\n",
        "|BM25_E|Top-3 3-Paragraph Chunks\n",
        "|BM25_F|Top-5 3-Paragraph Chunks\n"
      ]
    },
    {
      "cell_type": "markdown",
      "metadata": {
        "id": "Qfn0pQicUxir"
      },
      "source": [
        "### Best Approach per Chapter"
      ]
    },
    {
      "cell_type": "markdown",
      "metadata": {
        "id": "6oqBsyOs3-eV"
      },
      "source": [
        "The following table shows name, description and **Answer Rate** for the best BM25 approach for each Chapter. BM25_F (Top-5 3-paragraph Chunks) was the best performing approach for each chapter and overall. For Chapter 2, BM25_E (Top-3 3-paragraph Chunks) had the same Answer Rate as BM25_F. For Chapter 10, BM25_C (Top-5 1-paragraph Chunks) had the same Answer Rate as BM25_F."
      ]
    },
    {
      "cell_type": "markdown",
      "metadata": {
        "id": "Gxpn4lPjVHBN"
      },
      "source": [
        "|Chapter|Name|Description|Answer Rate|\n",
        "|:-:|:-:|:-:|:-:|\n",
        "|1|BM25_F|Top-5 3-paragraph Chunks|90%|\n",
        "|2|BM25_E/BM25_F|Top-3/Top-5 3-paragraph Chunks|80.8%|\n",
        "|4|BM25_F|Top-5 3-paragraph Chunks|75%|\n",
        "|8|BM25_F|Top-5 3-paragraph Chunks|65.5%|\n",
        "|9|BM25_F|Top-5 3-paragraph Chunks|79.3%|\n",
        "|10|BM25_C/BM25_F|Top-5 1-paragraph/3-paragraph Chunks|61.9%|\n",
        "|13|BM25_F|Top-5 3-paragraph Chunks|80%|\n",
        "|**All**|**BM25_F**|**Top-5 3-paragraph Chunks**|**76.7%**|"
      ]
    },
    {
      "cell_type": "markdown",
      "metadata": {
        "id": "COk_-JdUU3Zc"
      },
      "source": [
        "### All Approaches for All Chapters"
      ]
    },
    {
      "cell_type": "markdown",
      "metadata": {
        "id": "zRKUbH1MU45d"
      },
      "source": [
        "The following table shows the **Answer Rate** for all BM25 approaches for each chapter (where in the header, 1p = 1-paragraph chunks and 3p = 3-paragraph chunks)."
      ]
    },
    {
      "cell_type": "markdown",
      "metadata": {
        "id": "TqMbr5AG4KIe"
      },
      "source": [
        "|Chapter|BM25_A (Top-1 1p)|BM25_B (Top-3 1p)|BM25_C (Top-5 1p)|BM25_D (Top-1 3p)|BM25_E (Top-3 3p)|BM25_F (Top-5 3p)|\n",
        "|:-:|:-:|:-:|:-:|:-:|:-:|:-:|\n",
        "1|40% (12/30)|56.7% (17/30)|60% (18/30)|63.3% (19/30)|83.3% (25/30)|90% (27/30)|\n",
        "2|38.5% (10/26)|65.4% (17/26)|69.2% (18/26)|46.2% (12.26)|80.8% (21/26)|80.8% (21/26)|\n",
        "4|25% (8/32)|68.8% (22/32)|71.9% (23/32)|31.3% (10/32)|71.9% (23/32)|75% (24/32)|\n",
        "8|13.8% (4/29)|34.5% (10/29)|44.8% (13/29)|31% (9/29)|55.2% (16/29)|65.5% (19/29)|\n",
        "9|13.8% (4/29)|48.3% (14/29)|58.6% (17/29)|34.5% (10/29)|72.4% (21/29)|79.3% (23/29)|\n",
        "10|47.6% (12/21)|42.9% (9/21)|61.9% (13/21)|38% (8/21)|57.1% (12/21)|61.9% (13/21)|\n",
        "13|37.1% (13/35)|54.3% (19/35)|60% (21/35)|42.9% (15/35)|68.6% (24/35)|80% (28/35)|\n",
        "**All**|**30.2% (61/202)**|**53.5% (108/202)**|**60.9% (123/202)**|**41.1% (83/202)**|**70.3% (142/202)**|**76.7% (155/202)**|\n"
      ]
    },
    {
      "cell_type": "markdown",
      "metadata": {
        "id": "n2tqW3_KwXJS"
      },
      "source": [
        "A few observations when looking at the **Answer Rate** for each approach for each chapter:\n",
        "\n",
        "- **Increasing the number of chunks retrieved generally improves the quality of information retrieved**:\n",
        "  - 1-paragraph chunks\n",
        "      - For all but Chapter 10, the Answer Rate improves: BM25_C > BM25_B > BM25_A.\n",
        "  - 3-paragraph chunks\n",
        "    - For all chapters the Answer Rate improves or stays the same (Chapter 2): BM25_F >= BM25_E > BM25_D\n",
        "\n",
        "- **Increasing the chunk size generally improves the quality of information retrieved**: For 6 out of 7 chapters (all but Chapter 10), the 3-paragraph chunk Answer Rate (BM25_D, BM25_E, BM25_F) is greater than the corresponding 1-paragraph chunk Answer Rate (BM25A, BM25_B, BM25_C).\n",
        "\n",
        "- **Not all chapters behave the same**: The Chapter 1 Questionnaire has a higher Answer Rate after increasing chunk size to 3-paragraphs (BM25_C: 60%, BM25_D: 63.3%). On the other extreme, for Chapter 10, increasing the chunk size to 3-paragraphs (BM25_D, 38%) performs worse than the worst-performing 1-paragraph approach (BM25_B, 42.9%). Chapter 10 is also an anomaly within 1-paragraph results: the Answer Rate for Top-3 (BM25_B, 42.9%) is less than Top-1 (BM25_A, 47.6%) while for every other chapter, BM25_A > BM25_B. For 3-paragraph chunks, Chapter 2's Answer Rate doesn't improve like the other chapters from Top-3 (BM25_E: 80.8%) to Top-5 (BM25_F: 80.8%).\n",
        "\n",
        "- **Changing the data in the database changes the corpus-wide statistics**: In sqlite, BM25 is calculated using corpus-wide statistics. If the data changes, the calculation changes. I noticed a significant improvement in the quality of context retrieved for 3-paragraph chunks when compared to 1-paragraph chunks (sometimes even the first chunk was different for the same question).\n",
        "\n",
        "Performance varied across chapters due to differences in content and question types:\n",
        "\n",
        "- Chapter 1 (best performer, 90% with BM25_F) is introductory, defining many terms well-suited for keyword search.\n",
        "- Chapter 10 (worst performer, 61.9% with BM25_F)\n",
        "  - Had the fewest questions (21), which are less granular than other chapters. Each missed question was a ~5% Answer Rate hit.\n",
        "  - Retrieved contexts often contained relevant keywords but lacked direct answers.\n",
        "- Chapter 8 (second-worst) faced challenges with:\n",
        "  - Ambiguous questions (e.g., \"How does it solve it?\").\n",
        "  - Technical terms (e.g., function names) rare in explanatory text but common in code chunks.\n",
        "  - Overuse of certain terms (e.g., \"latent factor\") diluting relevance."
      ]
    },
    {
      "cell_type": "markdown",
      "metadata": {
        "id": "YA2BftOeriwf"
      },
      "source": [
        "### Question-Level Analysis"
      ]
    },
    {
      "cell_type": "markdown",
      "metadata": {
        "id": "-MspBTIarpwL"
      },
      "source": [
        "Looking at the question-level data offers some additional insights."
      ]
    },
    {
      "cell_type": "code",
      "execution_count": 75,
      "metadata": {
        "id": "NpHu-SOjr04t"
      },
      "outputs": [],
      "source": [
        "import pandas as pd\n",
        "url = 'https://gist.githubusercontent.com/vishalbakshi/4379c92665695b8bd9ab83a1f3ab6b55/raw/97a22f0736b5e179efb8c9d70e5ec80a5b8f4817/fastbookRAG_bm25_all.csv'\n",
        "df = pd.read_csv(url)\n",
        "score_columns = df.filter(regex='_score$').columns\n",
        "df['total_score'] = df[score_columns].sum(axis=1)"
      ]
    },
    {
      "cell_type": "markdown",
      "metadata": {
        "id": "SPXP8YYL1NYk"
      },
      "source": [
        "#### Distribution of Scores"
      ]
    },
    {
      "cell_type": "markdown",
      "metadata": {
        "id": "H_KphM4m2tiO"
      },
      "source": [
        "Here are my takeaways from the distribution of scores:\n",
        "\n",
        "- Bimodal Distribution\n",
        "  - Approximately 50 questions (about 25% of the total) were successfully answered by all six full text search methods (a total score of `6`).\n",
        "  - On the other hand, around 40 questions (about 20%) couldn't be answered by any method, resulting in a total score of `0`.\n",
        "- Uniform Mid-Range Performance\n",
        "  - Questions answered by 2, 3, 4, or 5 methods each accounted for 20-30 instances, showing a relatively even distribution in this middle range.\n",
        "- Least Common Outcome\n",
        "  - Only 10 questions were answered by just one method, making this the least frequent result."
      ]
    },
    {
      "cell_type": "code",
      "execution_count": 58,
      "metadata": {
        "colab": {
          "base_uri": "https://localhost:8080/",
          "height": 564
        },
        "id": "1W9pqIZV1PA7",
        "outputId": "9d61fa57-78d5-4df6-d248-7ff810898ef5"
      },
      "outputs": [
        {
          "data": {
            "image/png": "[encoded data removed]",
            "text/plain": [
              "<Figure size 1000x600 with 1 Axes>"
            ]
          },
          "metadata": {},
          "output_type": "display_data"
        }
      ],
      "source": [
        "import matplotlib.pyplot as plt\n",
        "plt.figure(figsize=(10, 6))\n",
        "\n",
        "df['total_score'].hist(bins=range(0, 8), align='left', rwidth=0.8);\n",
        "\n",
        "plt.title('Distribution of Total Scores')\n",
        "plt.xlabel('Total Score')\n",
        "plt.ylabel('Number of Questions');"
      ]
    },
    {
      "cell_type": "markdown",
      "metadata": {
        "id": "p4x1-a5k0a65"
      },
      "source": [
        "#### Average Score Per Question"
      ]
    },
    {
      "cell_type": "markdown",
      "metadata": {
        "id": "Fc8MCeJzwqa9"
      },
      "source": [
        "On average, each question was answered by 3 to 4 full text search methods."
      ]
    },
    {
      "cell_type": "code",
      "execution_count": 9,
      "metadata": {
        "colab": {
          "base_uri": "https://localhost:8080/",
          "height": 335
        },
        "id": "kFmZ5JplsAnT",
        "outputId": "2b7739eb-e4bb-45ee-e0bb-757e3137b1fe"
      },
      "outputs": [
        {
          "data": {
            "text/html": [
              "<div>\n",
              "<style scoped>\n",
              "    .dataframe tbody tr th:only-of-type {\n",
              "        vertical-align: middle;\n",
              "    }\n",
              "\n",
              "    .dataframe tbody tr th {\n",
              "        vertical-align: top;\n",
              "    }\n",
              "\n",
              "    .dataframe thead th {\n",
              "        text-align: right;\n",
              "    }\n",
              "</style>\n",
              "<table border=\"1\" class=\"dataframe\">\n",
              "  <thead>\n",
              "    <tr style=\"text-align: right;\">\n",
              "      <th></th>\n",
              "      <th>total_score</th>\n",
              "    </tr>\n",
              "  </thead>\n",
              "  <tbody>\n",
              "    <tr>\n",
              "      <th>count</th>\n",
              "      <td>202.000000</td>\n",
              "    </tr>\n",
              "    <tr>\n",
              "      <th>mean</th>\n",
              "      <td>3.326733</td>\n",
              "    </tr>\n",
              "    <tr>\n",
              "      <th>std</th>\n",
              "      <td>2.190476</td>\n",
              "    </tr>\n",
              "    <tr>\n",
              "      <th>min</th>\n",
              "      <td>0.000000</td>\n",
              "    </tr>\n",
              "    <tr>\n",
              "      <th>25%</th>\n",
              "      <td>2.000000</td>\n",
              "    </tr>\n",
              "    <tr>\n",
              "      <th>50%</th>\n",
              "      <td>4.000000</td>\n",
              "    </tr>\n",
              "    <tr>\n",
              "      <th>75%</th>\n",
              "      <td>5.000000</td>\n",
              "    </tr>\n",
              "    <tr>\n",
              "      <th>max</th>\n",
              "      <td>6.000000</td>\n",
              "    </tr>\n",
              "  </tbody>\n",
              "</table>\n",
              "</div><br><label><b>dtype:</b> float64</label>"
            ],
            "text/plain": [
              "count    202.000000\n",
              "mean       3.326733\n",
              "std        2.190476\n",
              "min        0.000000\n",
              "25%        2.000000\n",
              "50%        4.000000\n",
              "75%        5.000000\n",
              "max        6.000000\n",
              "Name: total_score, dtype: float64"
            ]
          },
          "execution_count": 9,
          "metadata": {},
          "output_type": "execute_result"
        }
      ],
      "source": [
        "df['total_score'].describe()"
      ]
    },
    {
      "cell_type": "markdown",
      "metadata": {
        "id": "FQR5Hshq0g-s"
      },
      "source": [
        "#### Unanswered Questions"
      ]
    },
    {
      "cell_type": "markdown",
      "metadata": {
        "id": "T8EyO7AnxTZ7"
      },
      "source": [
        "There were 39 questions for which none of the full text search approaches retrieved the context needed to answer them:"
      ]
    },
    {
      "cell_type": "code",
      "execution_count": 83,
      "metadata": {
        "colab": {
          "base_uri": "https://localhost:8080/"
        },
        "id": "CHE9_Xmpw2ed",
        "outputId": "36a199d9-451d-46a2-b1c9-22300d5109f1"
      },
      "outputs": [
        {
          "data": {
            "text/plain": [
              "(39, 5)"
            ]
          },
          "execution_count": 83,
          "metadata": {},
          "output_type": "execute_result"
        }
      ],
      "source": [
        "no_answer = df.query(\"total_score == 0\")[['chapter', 'question_number', 'question_text', 'answer', 'keywords']].drop_duplicates()\n",
        "no_answer.shape"
      ]
    },
    {
      "cell_type": "markdown",
      "metadata": {
        "id": "9GTEOVenxxMb"
      },
      "source": [
        "For example, the following question never was fully answered by any of the contexts retrieved by the full text search methods."
      ]
    },
    {
      "cell_type": "code",
      "execution_count": 84,
      "metadata": {
        "colab": {
          "base_uri": "https://localhost:8080/"
        },
        "id": "RG5Zx9F1xmZ4",
        "outputId": "22ec53ce-8206-4feb-fb44-f6bbf7544425"
      },
      "outputs": [
        {
          "name": "stdout",
          "output_type": "stream",
          "text": [
            "\"\"What were the two theoretical misunderstandings that held back the field of neural networks?\"\"\n",
            "\"\"In 1969, Marvin Minsky and Seymour Papert demonstrated in their book, \"Perceptrons\", that a single layer of artificial neurons cannot learn simple, critical mathematical functions like XOR logic gate. While they subsequently demonstrated in the same book that additional layers can solve this problem, only the first insight was recognized, leading to the start of the first AI winter.\n",
            "In the 1980's, models with two layers were being explored. Theoretically, it is possible to approximate any mathematical function using two layers of artificial neurons. However, in practices, these networks were too big and too slow. While it was demonstrated that adding additional layers improved performance, this insight was not acknowledged, and the second AI winter began. In this past decade, with increased data availability, and improvements in computer hardware (both in CPU performance but more importantly in GPU performance), neural networks are finally living up to its potential.\"\"\n"
          ]
        }
      ],
      "source": [
        "print(no_answer.iloc[0]['question_text'])\n",
        "print(no_answer.iloc[0]['answer'])"
      ]
    },
    {
      "cell_type": "markdown",
      "metadata": {
        "id": "-hwda99kyNzj"
      },
      "source": [
        "There were two paragraphs from Chapter 1 that answered this question (emphasis mine). None of the full text search methods retrieved both of these paragraphs (some included 1 of the 2 needed paragraphs):\n",
        "\n",
        "> An MIT professor named Marvin Minsky (who was a grade behind Rosenblatt at the same high school!), along with Seymour Papert, wrote a book called Perceptrons (MIT Press), about Rosenblatt's invention. They showed that a single layer of these devices was unable to learn some simple but critical mathematical functions (such as XOR). In the same book, they also showed that using multiple layers of the devices would allow these limitations to be addressed. **Unfortunately, only the first of these insights was widely recognized. As a result, the global academic community nearly entirely gave up on neural networks for the next two decades.**\n",
        "\n",
        "> In the 1980's most models were built with a second layer of neurons, thus avoiding the problem that had been identified by Minsky and Papert (this was their \"pattern of connectivity among units,\" to use the framework above). And indeed, neural networks were widely used during the '80s and '90s for real, practical projects. **However, again a misunderstanding of the theoretical issues held back the field. In theory, adding just one extra layer of neurons was enough to allow any mathematical function to be approximated with these neural networks, but in practice such networks were often too big and too slow to be useful.**"
      ]
    },
    {
      "cell_type": "markdown",
      "metadata": {
        "id": "ds03dIloy0PU"
      },
      "source": [
        "Some questions were not so straightforward to answer. For example, the following question:"
      ]
    },
    {
      "cell_type": "code",
      "execution_count": 81,
      "metadata": {
        "colab": {
          "base_uri": "https://localhost:8080/"
        },
        "id": "JSUon-nCyz4Q",
        "outputId": "1fa38eee-e985-4f75-ab6d-329aceddefe4"
      },
      "outputs": [
        {
          "name": "stdout",
          "output_type": "stream",
          "text": [
            "\"\"What are the three statistics plotted by plot_layer_stats? What does the x-axis represent?\"\"\n",
            "\"\"The mean and standard deviation of the activations, as well as the percentage of activation near zero. The x-axis represents the progress of training (batch number).\"\"\n"
          ]
        }
      ],
      "source": [
        "print(no_answer.iloc[-1]['question_text'])\n",
        "print(no_answer.iloc[-1]['answer'])"
      ]
    },
    {
      "cell_type": "markdown",
      "metadata": {
        "id": "FDHPhJlXy72L"
      },
      "source": [
        "The first part of this question is answerable by the following context from the fastbook (emphasis mine), which some of the full text search methods successfully retrieved:\n",
        "\n",
        "> `ActivationStats` includes some handy utilities for plotting the activations during training. **`plot_layer_stats(idx)` plots the mean and standard deviation of the activations of layer number `idx`, along with the percentage of activations near zero.** Here's the first layer's plot:\n",
        "\n",
        "The second part of the question (_What does the x-axis represent?_) is not explicitly answered in the fastbook. I will consider removing this question from my evals."
      ]
    },
    {
      "cell_type": "markdown",
      "metadata": {
        "id": "6b-gf6YwzvrE"
      },
      "source": [
        "For some questions the full text search methods simply did not retrieve the necessary paragraph. For example:"
      ]
    },
    {
      "cell_type": "code",
      "execution_count": 80,
      "metadata": {
        "colab": {
          "base_uri": "https://localhost:8080/"
        },
        "id": "uNOabCf6zv5g",
        "outputId": "b9a65bda-253c-4267-f564-29dcdcc59803"
      },
      "outputs": [
        {
          "name": "stdout",
          "output_type": "stream",
          "text": [
            "\"\"What is the function to calculate new weights using a learning rate?\"\"\n",
            "\"\"The optimizer step function\"\"\n"
          ]
        }
      ],
      "source": [
        "print(no_answer.iloc[10]['question_text'])\n",
        "print(no_answer.iloc[10]['answer'])"
      ]
    },
    {
      "cell_type": "markdown",
      "metadata": {
        "id": "ny_ELCH1z4Ls"
      },
      "source": [
        "This question is answered by the following paragraphs which none of the methods retrieved for this question (emphasis mine):\n",
        "\n",
        "> Deciding how to change our parameters based on the values of the gradients is an important part of the deep learning process. Nearly all approaches start with the basic idea of multiplying the gradient by some small number, called the learning rate (LR). The learning rate is often a number between 0.001 and 0.1, although it could be anything. Often, people select a learning rate just by trying a few, and finding which results in the best model after training (we'll show you a better approach later in this book, called the learning rate finder). Once you've picked a learning rate, you can adjust your parameters using this simple function:\n",
        ">\n",
        "> `w -= gradient(w) * lr`\n",
        ">\n",
        "> **This is known as stepping your parameters, using an optimizer step.**"
      ]
    },
    {
      "cell_type": "markdown",
      "metadata": {
        "id": "l-3OP8qIstWT"
      },
      "source": [
        "For some of the questions, I'm not quite sure why the associated keywords didn't allow the correct chunk retrieval. I would assume the reason is that other chunks had a higher frequency of those keywords than these chunks. Something I'll look into when I do a deeper dive into error analysis in my next notebook."
      ]
    },
    {
      "cell_type": "code",
      "execution_count": 85,
      "metadata": {
        "colab": {
          "base_uri": "https://localhost:8080/"
        },
        "id": "PzT0Z8austm4",
        "outputId": "af90a9eb-d899-4941-e35b-21780f4b757c"
      },
      "outputs": [
        {
          "name": "stdout",
          "output_type": "stream",
          "text": [
            "\"\"What are the three steps in the deployment process?\"\"\n",
            "\"\"Manual process - the model is run in parallel and not directly driving any actions, with humans still checking the model outputs.\n",
            "Limited scope deployment - The model's scope is limited and carefully supervised. For example, doing a geographically and time-constrained trial of model deployment, that is carefully supervised.\n",
            "Gradual expansion - The model scope is gradually increased, while good reporting systems are implemented in order to check for any significant changes to the actions taken compared to the manual process (i.e. the models should perform similarly to the humans, unless it is already anticipated to be better).\"\"\n",
            "\"deployment, process, steps\"\n"
          ]
        }
      ],
      "source": [
        "print(no_answer.iloc[5]['question_text'])\n",
        "print(no_answer.iloc[5]['answer'])\n",
        "print(no_answer.iloc[5]['keywords'])"
      ]
    },
    {
      "cell_type": "markdown",
      "metadata": {
        "id": "3DcomK8mtkMv"
      },
      "source": [
        "Here's the correct chunks (emphasis mine) that none of the methods retrieved:\n",
        "\n",
        "> Where possible, the first step is to use an entirely **manual process**, with your deep learning model approach running in parallel but not being used directly to drive any actions. The humans involved in the manual process should look at the deep learning outputs and check whether they make sense. For instance, with our bear classifier a park ranger could have a screen displaying video feeds from all the cameras, with any possible bear sightings simply highlighted in red. The park ranger would still be expected to be just as alert as before the model was deployed; the model is simply helping to check for problems at this point.\n",
        ">\n",
        "> The second step is to try to **limit the scope of the model**, and have it carefully supervised by people. For instance, do a small geographically and time-constrained trial of the model-driven approach. Rather than rolling our bear classifier out in every national park throughout the country, we could pick a single observation post, for a one-week period, and have a park ranger check each alert before it goes out.\n",
        ">\n",
        "> Then, **gradually increase the scope of your rollout**. As you do so, ensure that you have really good reporting systems in place, to make sure that you are aware of any significant changes to the actions being taken compared to your manual process. For instance, if the number of bear alerts doubles or halves after rollout of the new system in some location, we should be very concerned. Try to think about all the ways in which your system could go wrong, and then think about what measure or report or picture could reflect that problem, and ensure that your regular reporting includes that information."
      ]
    },
    {
      "cell_type": "markdown",
      "metadata": {
        "id": "vFLC5Ibv0kHk"
      },
      "source": [
        "#### Questions with 100% Answer Rate"
      ]
    },
    {
      "cell_type": "markdown",
      "metadata": {
        "id": "sdtJmaZb0r50"
      },
      "source": [
        "There were 49 questions that were answered by all 6 full text search methods."
      ]
    },
    {
      "cell_type": "code",
      "execution_count": 51,
      "metadata": {
        "colab": {
          "base_uri": "https://localhost:8080/"
        },
        "id": "tLCNUpTO0mVX",
        "outputId": "1b3c732e-4740-437c-a08a-7bb2a4106fdf"
      },
      "outputs": [
        {
          "data": {
            "text/plain": [
              "(49, 4)"
            ]
          },
          "execution_count": 51,
          "metadata": {},
          "output_type": "execute_result"
        }
      ],
      "source": [
        "all_answer = df.query(\"total_score == 6\")[['chapter', 'question_number', 'question_text', 'keywords']].drop_duplicates()\n",
        "all_answer.shape"
      ]
    },
    {
      "cell_type": "markdown",
      "metadata": {
        "id": "QnZH3Mxo0v-B"
      },
      "source": [
        "Many of these questions involved a keyword or its definition---a perfect use case for full text search:"
      ]
    },
    {
      "cell_type": "code",
      "execution_count": 52,
      "metadata": {
        "colab": {
          "base_uri": "https://localhost:8080/",
          "height": 35
        },
        "id": "ZCEqot5j0wHS",
        "outputId": "d995b9b8-f974-4784-bd38-a5f0ab62564c"
      },
      "outputs": [
        {
          "data": {
            "application/vnd.google.colaboratory.intrinsic+json": {
              "type": "string"
            },
            "text/plain": [
              "'\"\"What is a GPU?\"\"'"
            ]
          },
          "execution_count": 52,
          "metadata": {},
          "output_type": "execute_result"
        }
      ],
      "source": [
        "all_answer.iloc[1]['question_text']"
      ]
    },
    {
      "cell_type": "code",
      "execution_count": 30,
      "metadata": {
        "colab": {
          "base_uri": "https://localhost:8080/",
          "height": 35
        },
        "id": "Dd7cQQqU1BIH",
        "outputId": "fc21368f-da92-4e88-d7cd-42001691a7f2"
      },
      "outputs": [
        {
          "data": {
            "application/vnd.google.colaboratory.intrinsic+json": {
              "type": "string"
            },
            "text/plain": [
              "'\"\"What term do we normally use in deep learning for what Samuel called \"\"weights\"\"?\"\"'"
            ]
          },
          "execution_count": 30,
          "metadata": {},
          "output_type": "execute_result"
        }
      ],
      "source": [
        "all_answer.iloc[2]['question_text']"
      ]
    },
    {
      "cell_type": "code",
      "execution_count": 32,
      "metadata": {
        "colab": {
          "base_uri": "https://localhost:8080/",
          "height": 35
        },
        "id": "DQKuA-2K1DYt",
        "outputId": "e0cb882e-1a8b-4b86-f997-73817cc3d0bd"
      },
      "outputs": [
        {
          "data": {
            "application/vnd.google.colaboratory.intrinsic+json": {
              "type": "string"
            },
            "text/plain": [
              "'\"\"What are IPython widgets?\"\"'"
            ]
          },
          "execution_count": 32,
          "metadata": {},
          "output_type": "execute_result"
        }
      ],
      "source": [
        "all_answer.iloc[15]['question_text']"
      ]
    },
    {
      "cell_type": "code",
      "execution_count": 41,
      "metadata": {
        "colab": {
          "base_uri": "https://localhost:8080/",
          "height": 35
        },
        "id": "trQ7Lgjf4_QP",
        "outputId": "a868b7e0-de6e-432a-88fd-af22c5739567"
      },
      "outputs": [
        {
          "data": {
            "application/vnd.google.colaboratory.intrinsic+json": {
              "type": "string"
            },
            "text/plain": [
              "'\"\"What is the name of the theorem that shows that a neural network can solve any mathematical problem to any level of accuracy?\"\"'"
            ]
          },
          "execution_count": 41,
          "metadata": {},
          "output_type": "execute_result"
        }
      ],
      "source": [
        "all_answer.iloc[3]['question_text']"
      ]
    },
    {
      "cell_type": "code",
      "execution_count": 49,
      "metadata": {
        "colab": {
          "base_uri": "https://localhost:8080/",
          "height": 35
        },
        "id": "3WHny-b_5A-a",
        "outputId": "fc3739af-0c1b-4e34-dd04-2e80b81a0fab"
      },
      "outputs": [
        {
          "data": {
            "application/vnd.google.colaboratory.intrinsic+json": {
              "type": "string"
            },
            "text/plain": [
              "'\"\"What is y_range used for? When do we need it?\"\"'"
            ]
          },
          "execution_count": 49,
          "metadata": {},
          "output_type": "execute_result"
        }
      ],
      "source": [
        "all_answer.iloc[9]['question_text']"
      ]
    },
    {
      "cell_type": "markdown",
      "metadata": {
        "id": "Usidh0Ob5ME7"
      },
      "source": [
        "Some of these questions were more open-ended, but involved certain keywords that were used verbatim in the fastbook chunk that answered the question, such as \"AI\", \"organizations\" and \"failures\":"
      ]
    },
    {
      "cell_type": "code",
      "execution_count": 53,
      "metadata": {
        "colab": {
          "base_uri": "https://localhost:8080/"
        },
        "id": "qMsJih-i5S31",
        "outputId": "1e166dc5-56d1-4882-f5c6-c58d6f1e582c"
      },
      "outputs": [
        {
          "data": {
            "text/plain": [
              "('\"\"What\\'s the best way to avoid failures when using AI in an organization?\"\"',\n",
              " '\"AI, failures, avoid, organization, organizations\"')"
            ]
          },
          "execution_count": 53,
          "metadata": {},
          "output_type": "execute_result"
        }
      ],
      "source": [
        "all_answer.iloc[10]['question_text'], all_answer.iloc[10]['keywords']"
      ]
    },
    {
      "cell_type": "markdown",
      "metadata": {
        "id": "H1hJO3795fYa"
      },
      "source": [
        "Here is the context that answered this question (emphasis mine):\n",
        "\n",
        ">"
      ]
    },
    {
      "cell_type": "markdown",
      "metadata": {
        "id": "91ovdJJhH7WT"
      },
      "source": [
        "> To put it bluntly, if you're a senior decision maker in your **organization** (or you're advising senior decision makers), the most important takeaway is this: if you ensure that you really understand what test and validation sets are and why they're important, then you'll avoid the single biggest source of **failures** we've seen when **organizations** decide to use **AI**. For instance, if you're considering bringing in an external vendor or service, make sure that you hold out some test data that the vendor never gets to see. Then you check their model on your test data, using a metric that you choose based on what actually matters to you in practice, and you decide what level of performance is adequate. (It's also a good idea for you to try out some simple baseline yourself, so you know what a really simple model can achieve. Often it'll turn out that your simple model performs just as well as one produced by an external \"expert\"!)"
      ]
    },
    {
      "cell_type": "markdown",
      "metadata": {
        "id": "j1_ypfnJ5XO0"
      },
      "source": [
        "The following question has the terms \"batch\", \"normalization\", \"layers\" and \"generalize\":"
      ]
    },
    {
      "cell_type": "code",
      "execution_count": 54,
      "metadata": {
        "colab": {
          "base_uri": "https://localhost:8080/"
        },
        "id": "8GT3iI9W5XWV",
        "outputId": "558b4479-fa96-47e5-99d4-d1c32e595ca1"
      },
      "outputs": [
        {
          "data": {
            "text/plain": [
              "('\"\"Why do models with batch normalization layers generalize better?\"\"',\n",
              " '\"models, batch, normalization, layers, generalization, generalize\"')"
            ]
          },
          "execution_count": 54,
          "metadata": {},
          "output_type": "execute_result"
        }
      ],
      "source": [
        "all_answer.iloc[-1]['question_text'], all_answer.iloc[-1]['keywords']"
      ]
    },
    {
      "cell_type": "markdown",
      "metadata": {
        "id": "fzfVaWkU5lY4"
      },
      "source": [
        "The corresponding context (emphasis mine) contains those keywords verbatim:\n",
        "\n",
        "> An interesting observation about models containing **batch normalization layers** is that they tend to **generalize** better than models that don't contain them. Although we haven't as yet seen a rigorous analysis of what's going on here, most researchers believe that the reason for this is that batch normalization adds some extra randomness to the training process."
      ]
    },
    {
      "cell_type": "markdown",
      "metadata": {
        "id": "oj8Q_lLbL7Ej"
      },
      "source": [
        "The following question has the keywords \"statistics\", \"normalize\", \"batch\", \"training\" and \"validation\" that are all contained in the corresponding fastbook chunk, some multiple times:"
      ]
    },
    {
      "cell_type": "code",
      "execution_count": 55,
      "metadata": {
        "colab": {
          "base_uri": "https://localhost:8080/"
        },
        "id": "9Usx-5eML7PQ",
        "outputId": "aeb8f7d1-b9ce-4850-b9bd-55bedb6cc394"
      },
      "outputs": [
        {
          "data": {
            "text/plain": [
              "('\"\"What statistics are used to normalize in batch normalization during training? How about during validation?\"\"',\n",
              " '\"statistics, normalize, batch, normalization, training, validation\"')"
            ]
          },
          "execution_count": 55,
          "metadata": {},
          "output_type": "execute_result"
        }
      ],
      "source": [
        "all_answer.iloc[-2]['question_text'], all_answer.iloc[-2]['keywords']"
      ]
    },
    {
      "cell_type": "markdown",
      "metadata": {
        "id": "q5m-dHFWMJmU"
      },
      "source": [
        "> That's why our activations can have any mean or variance, independent from the mean and standard deviation of the results of the previous layer. Those **statistics** are learned separately, making **training** easier on our model. The behavior is different during training and **validation**: during **training**, we use the mean and standard deviation of the **batch** to **normalize** the data, while during **validation** we instead use a running mean of the **statistics** calculated during **training**."
      ]
    },
    {
      "cell_type": "markdown",
      "metadata": {
        "id": "z535H2kfKHz9"
      },
      "source": [
        "### Results CSV"
      ]
    },
    {
      "cell_type": "markdown",
      "metadata": {
        "id": "a4ALxF1YKKCP"
      },
      "source": [
        "The retrieved contexts and my manually assigned scores for each question and baseline are available in [this public gist](https://gist.githubusercontent.com/vishalbakshi/4379c92665695b8bd9ab83a1f3ab6b55/raw/97a22f0736b5e179efb8c9d70e5ec80a5b8f4817/fastbookRAG_bm25_all.csv).\n"
      ]
    },
    {
      "cell_type": "markdown",
      "metadata": {
        "id": "llJjYoicQ68m"
      },
      "source": [
        "## Limitations"
      ]
    },
    {
      "cell_type": "markdown",
      "metadata": {
        "id": "vz6QYQvXQ8E2"
      },
      "source": [
        "There are a number of limitations that I want to highlight in this work:\n",
        "\n",
        "- **Limited methods:** There are inumerable combinations of chunk strategies and top-n retrieval choices. I chose the six (1-paragraph/3-paragraph and Top-1/Top-3/Top-5) that seemed easy to implement, reasonable to accomplish in my desired timeline and reasonably provided me with a diverse set of results.\n",
        "- **Limited scope**: I'm only considering the 202 questions in the end-of-chapter Questionnaires whose answer was explicitly in the fastbook text. There are endless questions about the topics covered in the fastbook. I only focused on the 7 chapters covered in Part 1 of the fastai course (as I am still in progress with Part 2). A more general-purpose QA task for deep learning and machine learning would likely require a different set of evals.\n",
        "- **I only used sqlite**: There are other databases and BM25 implementations that may provide different results.\n",
        "- **Limited keyword iterations**: I used [five different prompts](https://vishalbakshi.github.io/blog/posts/2024-08-27-fastbookRAG-claude-keywords/) to generate keywords for each question using the `claude-3-5-sonnet-20240620` model. After achieving a comparable Answer Rate with my manually written keywords for Chapter 1 (40%) I stopped iterating. Keywords are a critical component to full text search, so improving on them further would likely improve my results.\n",
        "- **I used my own judgment**: I had to use my judgment to determine whether the retrieved context was sufficient for answering the given question. This is a fuzzy evaluation method.\n",
        "- **I used the official Questionnaire solutions**: There is room for interpretation when answering open-ended questions. I chose to strictly follow the \"gold standard\" answers provided in the course Forums.\n"
      ]
    },
    {
      "cell_type": "markdown",
      "metadata": {
        "id": "1XgbOBYOnaFk"
      },
      "source": [
        "## Future Work"
      ]
    },
    {
      "cell_type": "markdown",
      "metadata": {
        "id": "Tsyf8e9pnf5M"
      },
      "source": [
        "Each of the limitations provides an opportunity for future work:\n",
        "\n",
        "- Experiment with different chunking strategies and observe their impact on retrieval performance.\n",
        "- Expanding the eval set to include more chapters and question types.\n",
        "- Experiment with different database and BM25 implementations to observe any noticeable differences in performance.\n",
        "- Iterating on keyword generation using different LLMs and prompts to further improve the Answer Rate.\n",
        "- **Integrate an LLM to replace my own judgment in the pipeline** (something that I'll be doing as part of the broader fastbookRAG project).\n",
        "- **Conducting a deep dive into error analysis** to understand why certain questions weren't answerable (something I'll do before I conduct any further experiments).\n",
        "- **Removing questions from my evals that do not have explicit answers** in the chapter text (something I'll do before I conduct any further experiments).\n",
        "- Developing my own set of standardized answers (with the use of an LLM) for each question to ensure consistency."
      ]
    },
    {
      "cell_type": "markdown",
      "metadata": {
        "id": "bW4Yzu0_T6bx"
      },
      "source": [
        "## Experiments"
      ]
    },
    {
      "cell_type": "markdown",
      "metadata": {
        "id": "va8ik4JoT_lN"
      },
      "source": [
        "Expand the following cells to view the code used for each experiment."
      ]
    },
    {
      "cell_type": "markdown",
      "metadata": {
        "id": "fYJGnjteUFqp"
      },
      "source": [
        "### Helper Functions"
      ]
    },
    {
      "cell_type": "code",
      "execution_count": 69,
      "metadata": {
        "id": "51hHdMuKT-qL"
      },
      "outputs": [],
      "source": [
        "#| code-fold: true\n",
        "#| code-summary: \"Show imports\"\n",
        "import sqlite3\n",
        "import json\n",
        "import re\n",
        "import os\n",
        "import pandas as pd, numpy as np\n",
        "import requests"
      ]
    },
    {
      "cell_type": "code",
      "execution_count": 70,
      "metadata": {
        "id": "mzdfjbnkUgRL"
      },
      "outputs": [],
      "source": [
        "#| code-fold: true\n",
        "#| code-summary: \"Show chunking code\"\n",
        "def get_chunks(notebook_path):\n",
        "    with open(notebook_path, 'r', encoding='utf-8') as file:\n",
        "        notebook = json.load(file)\n",
        "\n",
        "    chunks = []\n",
        "    current_header = \"\"\n",
        "\n",
        "    def add_chunk(content):\n",
        "        if content.strip():\n",
        "            chunks.append(f\"{current_header}\\n\\n{content.strip()}\")\n",
        "\n",
        "    for cell in notebook['cells']:\n",
        "        if cell['cell_type'] == 'markdown':\n",
        "            content = ''.join(cell['source'])\n",
        "            # see if the cell starts with a markdown header\n",
        "            header_match = re.match(r'^(#+\\s+.*?)$', content, re.MULTILINE)\n",
        "            if header_match:\n",
        "                # grab the header\n",
        "                current_header = header_match.group(1)\n",
        "                # add any content after the header in the same cell\n",
        "                remaining_content = content[len(current_header):].strip()\n",
        "                if remaining_content:\n",
        "                    # split content into paragraphs\n",
        "                    paragraphs = re.split(r'\\n\\s*\\n', remaining_content)\n",
        "                    # append the paragraph to the list of chunks\n",
        "                    for paragraph in paragraphs:\n",
        "                        add_chunk(paragraph)\n",
        "            else:\n",
        "                # split content into paragraphs\n",
        "                paragraphs = re.split(r'\\n\\s*\\n', content)\n",
        "                # append the paragraph to the list of chunks\n",
        "                for paragraph in paragraphs:\n",
        "                    add_chunk(paragraph)\n",
        "        elif cell['cell_type'] == 'code':\n",
        "          code_content = '```python\\n' + ''.join(cell['source']) + '\\n```'\n",
        "\n",
        "          # include the output of the code cell\n",
        "          output_content = ''\n",
        "          if 'outputs' in cell and cell['outputs']:\n",
        "              for output in cell['outputs']:\n",
        "                  if 'text' in output:\n",
        "                      output_content += ''.join(output['text'])\n",
        "                  elif 'data' in output and 'text/plain' in output['data']:\n",
        "                      output_content += ''.join(output['data']['text/plain'])\n",
        "\n",
        "          # combine code and output in the same chunk\n",
        "          combined_content = code_content + '\\n\\nOutput:\\n' + output_content if output_content else code_content\n",
        "          add_chunk(combined_content)\n",
        "\n",
        "    def filter_chunks(chunks, exclude_headers=[\"Questionnaire\", \"Further Research\"]):\n",
        "      filtered_chunks = []\n",
        "      for chunk in chunks:\n",
        "          lines = chunk.split('\\n')\n",
        "          # check if the first line (header) is in the exclude list\n",
        "          if not any(header in lines[0] for header in exclude_headers):\n",
        "              filtered_chunks.append(chunk)\n",
        "      return filtered_chunks\n",
        "\n",
        "    return filter_chunks(chunks)"
      ]
    },
    {
      "cell_type": "code",
      "execution_count": 71,
      "metadata": {
        "id": "Sh3KJVksnAIC"
      },
      "outputs": [],
      "source": [
        "#| code-fold: true\n",
        "#| code-summary: \"Show the `load_data` function\"\n",
        "def load_data(chunks, db_path, chapter=1):\n",
        "    try:\n",
        "        # create virtual table if database doesn't exist\n",
        "        if not os.path.exists(db_path):\n",
        "            with sqlite3.connect(db_path) as conn:\n",
        "              cur = conn.cursor()\n",
        "              cur.execute(\"\"\"\n",
        "              CREATE VIRTUAL TABLE fastbook_text\n",
        "              USING FTS5(chapter, text);\n",
        "              \"\"\")\n",
        "              conn.commit()\n",
        "\n",
        "        # load in the chunks for each chapter\n",
        "        with sqlite3.connect(db_path) as conn:\n",
        "            cur = conn.cursor()\n",
        "\n",
        "            for chunk in chunks:\n",
        "                cur.execute(\"INSERT INTO fastbook_text(chapter, text) VALUES (?, ?)\", (chapter, chunk))\n",
        "\n",
        "            conn.commit()\n",
        "            res = cur.execute(\"SELECT * FROM fastbook_text WHERE chapter = ?\", (chapter,)).fetchall()\n",
        "        # make sure all the data was loaded into the database\n",
        "        if len(res) != len(chunks):\n",
        "            raise ValueError(f\"Number of inserted chunks ({len(res)}) doesn't match input chunks ({len(chunks)})\")\n",
        "\n",
        "        return True\n",
        "\n",
        "    except sqlite3.Error as e:\n",
        "        print(f\"An error occurred: {e}\")\n",
        "        return False\n",
        "    except Exception as e:\n",
        "        print(f\"An unexpected error occurred: {e}\")\n",
        "        return False"
      ]
    },
    {
      "cell_type": "code",
      "execution_count": 72,
      "metadata": {
        "id": "fQgtmkRkVs26"
      },
      "outputs": [],
      "source": [
        "#| code-fold: true\n",
        "#| code-summary: \"Show the `db_search` function\"\n",
        "def db_search(df, limit=1):\n",
        "  results = []\n",
        "  with sqlite3.connect('fastbook.db') as conn:\n",
        "    cur = conn.cursor()\n",
        "    # concatenate the keywords into a string \"keyword1 OR keyword 2 OR keyword3 ...\"\n",
        "    for _, row in df.iterrows():\n",
        "      keywords = ' OR '.join([f'\"{keyword.strip(\",\")}\"' for keyword in row['keywords'].replace('\"', '').split()])\n",
        "\n",
        "      q = f\"\"\"\n",
        "        SELECT text, rank\n",
        "        FROM fastbook_text\n",
        "        WHERE fastbook_text MATCH ?\n",
        "        AND chapter = ?\n",
        "        ORDER BY rank\n",
        "        LIMIT ?\n",
        "        \"\"\"\n",
        "      res = cur.execute(q, (keywords, str(row['chapter']), limit)).fetchall()\n",
        "      # grab the retrieved chunk from the query results\n",
        "      res = [item[0] for item in res]\n",
        "\n",
        "      # if there are multiple chunks retrieved, combine them into a single string\n",
        "      if limit == 1: results.extend(res)\n",
        "      else: results.append('\\n\\n'.join(res))\n",
        "\n",
        "    return results"
      ]
    },
    {
      "cell_type": "markdown",
      "metadata": {
        "id": "oiBQK3z42B40"
      },
      "source": [
        "### Data Preprocessing"
      ]
    },
    {
      "cell_type": "markdown",
      "metadata": {
        "id": "eo-7bNnMbNc8"
      },
      "source": [
        "You can download the notebooks from the [fastbook repo](https://github.com/fastai/fastbook/tree/master) or run the following cell to download them."
      ]
    },
    {
      "cell_type": "code",
      "execution_count": null,
      "metadata": {
        "id": "KgnoKhQWctA1"
      },
      "outputs": [],
      "source": [
        "#| code-fold: true\n",
        "#| code-summary: \"Show the file download\"\n",
        "urls = {\n",
        "    '01_intro.ipynb': 'https://drive.google.com/uc?export=view&id=1mmBjFH_plndPBC4iRZHChfMazgBxKK4_',\n",
        "    '02_production.ipynb': 'https://drive.google.com/uc?export=view&id=1Cf5QHthHy1z13H0iu3qrzAWgquCfqVHk',\n",
        "    '04_mnist_basics.ipynb': 'https://drive.google.com/uc?export=view&id=113909_BNulzyLIKUNJHdya0Hhoqie30I',\n",
        "    '08_collab.ipynb': 'https://drive.google.com/uc?export=view&id=1BtvStgFjUtvtqbSZNrL7Y2N-ey3seNZU',\n",
        "    '09_tabular.ipynb': 'https://drive.google.com/uc?export=view&id=1rHFvwl_l-AJLg_auPjBpNrOgG9HDnfqg',\n",
        "    '10_nlp.ipynb': 'https://drive.google.com/uc?export=view&id=1pg1pH7jMMElzrXS0kBBz14aAuDsi2DEP',\n",
        "    '13_convolutions.ipynb': 'https://drive.google.com/uc?export=view&id=19P-eEHpAO3WrOvdxgXckyhHhfv_R-hnS'\n",
        "}\n",
        "\n",
        "def download_file(url, filename):\n",
        "    # Send a GET request to the URL\n",
        "    response = requests.get(url)\n",
        "\n",
        "    # Check if the request was successful\n",
        "    if response.status_code == 200:\n",
        "        # Open the file in write-binary mode\n",
        "        with open(filename, 'wb') as file:\n",
        "            # Write the content of the response to the file\n",
        "            file.write(response.content)\n",
        "        print(f\"File downloaded successfully: {filename}\")\n",
        "    else:\n",
        "        print(f\"Failed to download file. Status code: {response.status_code}\")\n",
        "\n",
        "for fname, url in urls.items():\n",
        "  download_file(url, fname)"
      ]
    },
    {
      "cell_type": "markdown",
      "metadata": {
        "id": "8fGUck8D8Wt9"
      },
      "source": [
        "I have seven notebooks in total. I'll start by using `get_chunks` to split the notebook content into paragraphs (with the corresponding header)."
      ]
    },
    {
      "cell_type": "code",
      "execution_count": 67,
      "metadata": {
        "id": "Q2n2fAxT2JSy"
      },
      "outputs": [],
      "source": [
        "#| code-fold: true\n",
        "#| code-summary: \"Show the dict w/ notebook filenames\"\n",
        "nbs = {\n",
        "    '1': '01_intro.ipynb',\n",
        "    '2': '02_production.ipynb',\n",
        "    '4': '04_mnist_basics.ipynb',\n",
        "    '8': '08_collab.ipynb',\n",
        "    '9': '09_tabular.ipynb',\n",
        "    '10': '10_nlp.ipynb',\n",
        "    '13': '13_convolutions.ipynb'\n",
        "}"
      ]
    },
    {
      "cell_type": "code",
      "execution_count": 73,
      "metadata": {
        "id": "m0suuuUo3_iA"
      },
      "outputs": [],
      "source": [
        "# chunking each notebook\n",
        "data = {}\n",
        "\n",
        "for chapter, nb in nbs.items():\n",
        "  data[chapter] = get_chunks(nb)"
      ]
    },
    {
      "cell_type": "markdown",
      "metadata": {
        "id": "GB_KQkz_99y4"
      },
      "source": [
        "I'll print out the length of the total chunks so I get a sense of how many unique chunks there are:"
      ]
    },
    {
      "cell_type": "code",
      "execution_count": 74,
      "metadata": {
        "colab": {
          "base_uri": "https://localhost:8080/"
        },
        "id": "B_HIheyZ46v1",
        "outputId": "21a0c802-fd54-47b4-e21b-bc7793c1b685"
      },
      "outputs": [
        {
          "name": "stdout",
          "output_type": "stream",
          "text": [
            "1 307\n",
            "2 227\n",
            "4 433\n",
            "8 157\n",
            "9 387\n",
            "10 190\n",
            "13 266\n"
          ]
        },
        {
          "data": {
            "text/plain": [
              "True"
            ]
          },
          "execution_count": 74,
          "metadata": {},
          "output_type": "execute_result"
        }
      ],
      "source": [
        "total_chunks = 0\n",
        "for chapter, chunks in data.items():\n",
        "  print(chapter, len(chunks))\n",
        "  total_chunks += len(chunks)\n",
        "\n",
        "total_chunks == 1967 # 1-paragraph chunks"
      ]
    },
    {
      "cell_type": "markdown",
      "metadata": {
        "id": "5nE9lkta-FMK"
      },
      "source": [
        "Since my entire pipeline depends on the content of these chunks, I'll save each notebook's chunks into a text file and compared it with the original [fastbook repo](https://github.com/fastai/fastbook/tree/master) and made sure that all of the headers were captured."
      ]
    },
    {
      "cell_type": "code",
      "execution_count": 39,
      "metadata": {
        "id": "Tcehz1Jaoo-1"
      },
      "outputs": [],
      "source": [
        "def save_chunks(chunks, filename):\n",
        "    with open(filename, 'w') as file:\n",
        "        for chunk in chunks:\n",
        "            file.write(chunk + '\\n\\n')"
      ]
    },
    {
      "cell_type": "code",
      "execution_count": 40,
      "metadata": {
        "id": "5OZaTGqI5Kgh"
      },
      "outputs": [],
      "source": [
        "for chapter, chunks in data.items():\n",
        "  save_chunks(chunks, f'{nbs[chapter]}.txt')"
      ]
    },
    {
      "cell_type": "markdown",
      "metadata": {
        "id": "UmEbM-EZkghE"
      },
      "source": [
        "### Loading the Chunks into the Database"
      ]
    },
    {
      "cell_type": "code",
      "execution_count": 13,
      "metadata": {
        "colab": {
          "base_uri": "https://localhost:8080/"
        },
        "id": "0slphWvQmCIe",
        "outputId": "223a1038-ad23-46ab-fc41-f4b3066323e1"
      },
      "outputs": [
        {
          "name": "stdout",
          "output_type": "stream",
          "text": [
            "Chapter 1: True\n",
            "Chapter 2: True\n",
            "Chapter 4: True\n",
            "Chapter 8: True\n",
            "Chapter 9: True\n",
            "Chapter 10: True\n",
            "Chapter 13: True\n"
          ]
        }
      ],
      "source": [
        "for chapter, chunks in data.items():\n",
        "  print(f\"Chapter {chapter}:\", load_data(chunks, 'fastbook.db', chapter))"
      ]
    },
    {
      "cell_type": "markdown",
      "metadata": {
        "id": "Stcrb_rJnwaf"
      },
      "source": [
        "Just to be sure, I'll query the database to get each chapter's chunks, export them to text files and review them once more."
      ]
    },
    {
      "cell_type": "code",
      "execution_count": 14,
      "metadata": {
        "colab": {
          "base_uri": "https://localhost:8080/"
        },
        "id": "zUb1kT7In6Bm",
        "outputId": "a3a8618b-532b-455e-b39b-af8a782ee566"
      },
      "outputs": [
        {
          "data": {
            "text/plain": [
              "True"
            ]
          },
          "execution_count": 14,
          "metadata": {},
          "output_type": "execute_result"
        }
      ],
      "source": [
        "total_chunks = 0\n",
        "for chapter in data.keys():\n",
        "  with sqlite3.connect('fastbook.db') as conn:\n",
        "    cur = conn.cursor()\n",
        "    res = cur.execute(\"SELECT text FROM fastbook_text WHERE chapter = ?\", (chapter,)).fetchall()\n",
        "    chunks = [item[0] for item in res]\n",
        "    total_chunks += len(chunks)\n",
        "    #save_chunks(chunks, f'{chapter}.txt')\n",
        "\n",
        "total_chunks == 1967 # 1-paragraph chunks"
      ]
    },
    {
      "cell_type": "markdown",
      "metadata": {
        "id": "HTlCC2cO5XYo"
      },
      "source": [
        "### Load the Question Data"
      ]
    },
    {
      "cell_type": "markdown",
      "metadata": {
        "id": "CCap5AGz5rNJ"
      },
      "source": [
        "I have saved each chapter's questions, answer, and Claude-3.5-Sonnet-generated keywords in [this gist](https://gist.github.com/vishalbakshi/309fb3abb222d32446b2c4e29db753fe)."
      ]
    },
    {
      "cell_type": "code",
      "execution_count": 9,
      "metadata": {
        "colab": {
          "base_uri": "https://localhost:8080/",
          "height": 206
        },
        "id": "lFhNGtoF5kEM",
        "outputId": "d8e73526-4a16-43c0-f12b-72931f46223e"
      },
      "outputs": [
        {
          "data": {
            "application/vnd.google.colaboratory.intrinsic+json": {
              "summary": "{\n  \"name\": \"questions\",\n  \"rows\": 202,\n  \"fields\": [\n    {\n      \"column\": \"chapter\",\n      \"properties\": {\n        \"dtype\": \"number\",\n        \"std\": 4,\n        \"min\": 1,\n        \"max\": 13,\n        \"num_unique_values\": 7,\n        \"samples\": [\n          1,\n          2,\n          10\n        ],\n        \"semantic_type\": \"\",\n        \"description\": \"\"\n      }\n    },\n    {\n      \"column\": \"question_number\",\n      \"properties\": {\n        \"dtype\": \"number\",\n        \"std\": 9,\n        \"min\": 1,\n        \"max\": 40,\n        \"num_unique_values\": 40,\n        \"samples\": [\n          23,\n          20,\n          19\n        ],\n        \"semantic_type\": \"\",\n        \"description\": \"\"\n      }\n    },\n    {\n      \"column\": \"question_text\",\n      \"properties\": {\n        \"dtype\": \"string\",\n        \"num_unique_values\": 202,\n        \"samples\": [\n          \"\\\"\\\"What is an embedding matrix?\\\"\\\"\",\n          \"\\\"\\\"What is the difference between classification and regression?\\\"\\\"\",\n          \"\\\"\\\"Provide an example of where the bear classification model might work poorly in production, due to structural or style differences in the training data.\\\"\\\"\"\n        ],\n        \"semantic_type\": \"\",\n        \"description\": \"\"\n      }\n    },\n    {\n      \"column\": \"answer\",\n      \"properties\": {\n        \"dtype\": \"string\",\n        \"num_unique_values\": 202,\n        \"samples\": [\n          \"\\\"\\\"It is what you multiply an embedding with, and in the case of this collaborative filtering problem, is learned through training.\\\"\\\"\",\n          \"\\\"\\\"Classification is focused on predicting a class or category (ex: type of pet). Regression is focused on predicting a numeric quantity (ex: age of pet).\\\"\\\"\",\n          \"\\\"\\\"Working with video data instead of images\\nHandling nighttime images, which may not appear in this dataset\\nDealing with low-resolution camera images\\nEnsuring results are returned fast enough to be useful in practice\\nRecognizing bears in positions that are rarely seen in photos that people post online (for example from behind, partially covered by bushes, or when a long way away from the camera)\\\"\\\"\"\n        ],\n        \"semantic_type\": \"\",\n        \"description\": \"\"\n      }\n    },\n    {\n      \"column\": \"is_answerable\",\n      \"properties\": {\n        \"dtype\": \"number\",\n        \"std\": 0,\n        \"min\": 1,\n        \"max\": 1,\n        \"num_unique_values\": 1,\n        \"samples\": [\n          1\n        ],\n        \"semantic_type\": \"\",\n        \"description\": \"\"\n      }\n    },\n    {\n      \"column\": \"keywords\",\n      \"properties\": {\n        \"dtype\": \"string\",\n        \"num_unique_values\": 202,\n        \"samples\": [\n          \"\\\"embedding, matrix, matrices, embeddings\\\"\"\n        ],\n        \"semantic_type\": \"\",\n        \"description\": \"\"\n      }\n    }\n  ]\n}",
              "type": "dataframe",
              "variable_name": "questions"
            },
            "text/html": [
              "\n",
              "  <div id=\"df-fa022481-d34c-4cf8-af70-3c8df1479e1f\" class=\"colab-df-container\">\n",
              "    <div>\n",
              "<style scoped>\n",
              "    .dataframe tbody tr th:only-of-type {\n",
              "        vertical-align: middle;\n",
              "    }\n",
              "\n",
              "    .dataframe tbody tr th {\n",
              "        vertical-align: top;\n",
              "    }\n",
              "\n",
              "    .dataframe thead th {\n",
              "        text-align: right;\n",
              "    }\n",
              "</style>\n",
              "<table border=\"1\" class=\"dataframe\">\n",
              "  <thead>\n",
              "    <tr style=\"text-align: right;\">\n",
              "      <th></th>\n",
              "      <th>chapter</th>\n",
              "      <th>question_number</th>\n",
              "      <th>question_text</th>\n",
              "      <th>answer</th>\n",
              "      <th>is_answerable</th>\n",
              "      <th>keywords</th>\n",
              "    </tr>\n",
              "  </thead>\n",
              "  <tbody>\n",
              "    <tr>\n",
              "      <th>0</th>\n",
              "      <td>1</td>\n",
              "      <td>1</td>\n",
              "      <td>\"\"Do you need these for deep learning?nn- Lots...</td>\n",
              "      <td>\"\"Lots of math - False\\nLots of data - False\\n...</td>\n",
              "      <td>1</td>\n",
              "      <td>\"deep learning, math, data, computers, PhD\"</td>\n",
              "    </tr>\n",
              "    <tr>\n",
              "      <th>1</th>\n",
              "      <td>1</td>\n",
              "      <td>2</td>\n",
              "      <td>\"\"Name five areas where deep learning is now t...</td>\n",
              "      <td>\"\"Any five of the following:\\nNatural Language...</td>\n",
              "      <td>1</td>\n",
              "      <td>deep learning, areas, best, world</td>\n",
              "    </tr>\n",
              "    <tr>\n",
              "      <th>2</th>\n",
              "      <td>1</td>\n",
              "      <td>3</td>\n",
              "      <td>\"\"What was the name of the first device that w...</td>\n",
              "      <td>\"\"Mark I perceptron built by Frank Rosenblatt\"\"</td>\n",
              "      <td>1</td>\n",
              "      <td>\"neuron, neurons, device, artificial, principle\"</td>\n",
              "    </tr>\n",
              "    <tr>\n",
              "      <th>3</th>\n",
              "      <td>1</td>\n",
              "      <td>4</td>\n",
              "      <td>\"\"Based on the book of the same name, what are...</td>\n",
              "      <td>\"\"A set of processing units\\nA state of activa...</td>\n",
              "      <td>1</td>\n",
              "      <td>\"parallel, distributed, processing, PDP, requi...</td>\n",
              "    </tr>\n",
              "    <tr>\n",
              "      <th>4</th>\n",
              "      <td>1</td>\n",
              "      <td>5</td>\n",
              "      <td>\"\"What were the two theoretical misunderstandi...</td>\n",
              "      <td>\"\"In 1969, Marvin Minsky and Seymour Papert de...</td>\n",
              "      <td>1</td>\n",
              "      <td>\"neural, networks, theoretical, misunderstandi...</td>\n",
              "    </tr>\n",
              "  </tbody>\n",
              "</table>\n",
              "</div>\n",
              "    <div class=\"colab-df-buttons\">\n",
              "\n",
              "  <div class=\"colab-df-container\">\n",
              "    <button class=\"colab-df-convert\" onclick=\"convertToInteractive('df-fa022481-d34c-4cf8-af70-3c8df1479e1f')\"\n",
              "            title=\"Convert this dataframe to an interactive table.\"\n",
              "            style=\"display:none;\">\n",
              "\n",
              "  <svg xmlns=\"http://www.w3.org/2000/svg\" height=\"24px\" viewBox=\"0 -960 960 960\">\n",
              "    <path d=\"M120-120v-720h720v720H120Zm60-500h600v-160H180v160Zm220 220h160v-160H400v160Zm0 220h160v-160H400v160ZM180-400h160v-160H180v160Zm440 0h160v-160H620v160ZM180-180h160v-160H180v160Zm440 0h160v-160H620v160Z\"/>\n",
              "  </svg>\n",
              "    </button>\n",
              "\n",
              "  <style>\n",
              "    .colab-df-container {\n",
              "      display:flex;\n",
              "      gap: 12px;\n",
              "    }\n",
              "\n",
              "    .colab-df-convert {\n",
              "      background-color: #E8F0FE;\n",
              "      border: none;\n",
              "      border-radius: 50%;\n",
              "      cursor: pointer;\n",
              "      display: none;\n",
              "      fill: #1967D2;\n",
              "      height: 32px;\n",
              "      padding: 0 0 0 0;\n",
              "      width: 32px;\n",
              "    }\n",
              "\n",
              "    .colab-df-convert:hover {\n",
              "      background-color: #E2EBFA;\n",
              "      box-shadow: 0px 1px 2px rgba(60, 64, 67, 0.3), 0px 1px 3px 1px rgba(60, 64, 67, 0.15);\n",
              "      fill: #174EA6;\n",
              "    }\n",
              "\n",
              "    .colab-df-buttons div {\n",
              "      margin-bottom: 4px;\n",
              "    }\n",
              "\n",
              "    [theme=dark] .colab-df-convert {\n",
              "      background-color: #3B4455;\n",
              "      fill: #D2E3FC;\n",
              "    }\n",
              "\n",
              "    [theme=dark] .colab-df-convert:hover {\n",
              "      background-color: #434B5C;\n",
              "      box-shadow: 0px 1px 3px 1px rgba(0, 0, 0, 0.15);\n",
              "      filter: drop-shadow(0px 1px 2px rgba(0, 0, 0, 0.3));\n",
              "      fill: #FFFFFF;\n",
              "    }\n",
              "  </style>\n",
              "\n",
              "    <script>\n",
              "      const buttonEl =\n",
              "        document.querySelector('#df-fa022481-d34c-4cf8-af70-3c8df1479e1f button.colab-df-convert');\n",
              "      buttonEl.style.display =\n",
              "        google.colab.kernel.accessAllowed ? 'block' : 'none';\n",
              "\n",
              "      async function convertToInteractive(key) {\n",
              "        const element = document.querySelector('#df-fa022481-d34c-4cf8-af70-3c8df1479e1f');\n",
              "        const dataTable =\n",
              "          await google.colab.kernel.invokeFunction('convertToInteractive',\n",
              "                                                    [key], {});\n",
              "        if (!dataTable) return;\n",
              "\n",
              "        const docLinkHtml = 'Like what you see? Visit the ' +\n",
              "          '<a target=\"_blank\" href=https://colab.research.google.com/notebooks/data_table.ipynb>data table notebook</a>'\n",
              "          + ' to learn more about interactive tables.';\n",
              "        element.innerHTML = '';\n",
              "        dataTable['output_type'] = 'display_data';\n",
              "        await google.colab.output.renderOutput(dataTable, element);\n",
              "        const docLink = document.createElement('div');\n",
              "        docLink.innerHTML = docLinkHtml;\n",
              "        element.appendChild(docLink);\n",
              "      }\n",
              "    </script>\n",
              "  </div>\n",
              "\n",
              "\n",
              "<div id=\"df-87550523-f157-4a11-9042-fc9b371fd4a5\">\n",
              "  <button class=\"colab-df-quickchart\" onclick=\"quickchart('df-87550523-f157-4a11-9042-fc9b371fd4a5')\"\n",
              "            title=\"Suggest charts\"\n",
              "            style=\"display:none;\">\n",
              "\n",
              "<svg xmlns=\"http://www.w3.org/2000/svg\" height=\"24px\"viewBox=\"0 0 24 24\"\n",
              "     width=\"24px\">\n",
              "    <g>\n",
              "        <path d=\"M19 3H5c-1.1 0-2 .9-2 2v14c0 1.1.9 2 2 2h14c1.1 0 2-.9 2-2V5c0-1.1-.9-2-2-2zM9 17H7v-7h2v7zm4 0h-2V7h2v10zm4 0h-2v-4h2v4z\"/>\n",
              "    </g>\n",
              "</svg>\n",
              "  </button>\n",
              "\n",
              "<style>\n",
              "  .colab-df-quickchart {\n",
              "      --bg-color: #E8F0FE;\n",
              "      --fill-color: #1967D2;\n",
              "      --hover-bg-color: #E2EBFA;\n",
              "      --hover-fill-color: #174EA6;\n",
              "      --disabled-fill-color: #AAA;\n",
              "      --disabled-bg-color: #DDD;\n",
              "  }\n",
              "\n",
              "  [theme=dark] .colab-df-quickchart {\n",
              "      --bg-color: #3B4455;\n",
              "      --fill-color: #D2E3FC;\n",
              "      --hover-bg-color: #434B5C;\n",
              "      --hover-fill-color: #FFFFFF;\n",
              "      --disabled-bg-color: #3B4455;\n",
              "      --disabled-fill-color: #666;\n",
              "  }\n",
              "\n",
              "  .colab-df-quickchart {\n",
              "    background-color: var(--bg-color);\n",
              "    border: none;\n",
              "    border-radius: 50%;\n",
              "    cursor: pointer;\n",
              "    display: none;\n",
              "    fill: var(--fill-color);\n",
              "    height: 32px;\n",
              "    padding: 0;\n",
              "    width: 32px;\n",
              "  }\n",
              "\n",
              "  .colab-df-quickchart:hover {\n",
              "    background-color: var(--hover-bg-color);\n",
              "    box-shadow: 0 1px 2px rgba(60, 64, 67, 0.3), 0 1px 3px 1px rgba(60, 64, 67, 0.15);\n",
              "    fill: var(--button-hover-fill-color);\n",
              "  }\n",
              "\n",
              "  .colab-df-quickchart-complete:disabled,\n",
              "  .colab-df-quickchart-complete:disabled:hover {\n",
              "    background-color: var(--disabled-bg-color);\n",
              "    fill: var(--disabled-fill-color);\n",
              "    box-shadow: none;\n",
              "  }\n",
              "\n",
              "  .colab-df-spinner {\n",
              "    border: 2px solid var(--fill-color);\n",
              "    border-color: transparent;\n",
              "    border-bottom-color: var(--fill-color);\n",
              "    animation:\n",
              "      spin 1s steps(1) infinite;\n",
              "  }\n",
              "\n",
              "  @keyframes spin {\n",
              "    0% {\n",
              "      border-color: transparent;\n",
              "      border-bottom-color: var(--fill-color);\n",
              "      border-left-color: var(--fill-color);\n",
              "    }\n",
              "    20% {\n",
              "      border-color: transparent;\n",
              "      border-left-color: var(--fill-color);\n",
              "      border-top-color: var(--fill-color);\n",
              "    }\n",
              "    30% {\n",
              "      border-color: transparent;\n",
              "      border-left-color: var(--fill-color);\n",
              "      border-top-color: var(--fill-color);\n",
              "      border-right-color: var(--fill-color);\n",
              "    }\n",
              "    40% {\n",
              "      border-color: transparent;\n",
              "      border-right-color: var(--fill-color);\n",
              "      border-top-color: var(--fill-color);\n",
              "    }\n",
              "    60% {\n",
              "      border-color: transparent;\n",
              "      border-right-color: var(--fill-color);\n",
              "    }\n",
              "    80% {\n",
              "      border-color: transparent;\n",
              "      border-right-color: var(--fill-color);\n",
              "      border-bottom-color: var(--fill-color);\n",
              "    }\n",
              "    90% {\n",
              "      border-color: transparent;\n",
              "      border-bottom-color: var(--fill-color);\n",
              "    }\n",
              "  }\n",
              "</style>\n",
              "\n",
              "  <script>\n",
              "    async function quickchart(key) {\n",
              "      const quickchartButtonEl =\n",
              "        document.querySelector('#' + key + ' button');\n",
              "      quickchartButtonEl.disabled = true;  // To prevent multiple clicks.\n",
              "      quickchartButtonEl.classList.add('colab-df-spinner');\n",
              "      try {\n",
              "        const charts = await google.colab.kernel.invokeFunction(\n",
              "            'suggestCharts', [key], {});\n",
              "      } catch (error) {\n",
              "        console.error('Error during call to suggestCharts:', error);\n",
              "      }\n",
              "      quickchartButtonEl.classList.remove('colab-df-spinner');\n",
              "      quickchartButtonEl.classList.add('colab-df-quickchart-complete');\n",
              "    }\n",
              "    (() => {\n",
              "      let quickchartButtonEl =\n",
              "        document.querySelector('#df-87550523-f157-4a11-9042-fc9b371fd4a5 button');\n",
              "      quickchartButtonEl.style.display =\n",
              "        google.colab.kernel.accessAllowed ? 'block' : 'none';\n",
              "    })();\n",
              "  </script>\n",
              "</div>\n",
              "\n",
              "    </div>\n",
              "  </div>\n"
            ],
            "text/plain": [
              "   chapter  question_number  \\\n",
              "0        1                1   \n",
              "1        1                2   \n",
              "2        1                3   \n",
              "3        1                4   \n",
              "4        1                5   \n",
              "\n",
              "                                       question_text  \\\n",
              "0  \"\"Do you need these for deep learning?nn- Lots...   \n",
              "1  \"\"Name five areas where deep learning is now t...   \n",
              "2  \"\"What was the name of the first device that w...   \n",
              "3  \"\"Based on the book of the same name, what are...   \n",
              "4  \"\"What were the two theoretical misunderstandi...   \n",
              "\n",
              "                                              answer  is_answerable  \\\n",
              "0  \"\"Lots of math - False\\nLots of data - False\\n...              1   \n",
              "1  \"\"Any five of the following:\\nNatural Language...              1   \n",
              "2    \"\"Mark I perceptron built by Frank Rosenblatt\"\"              1   \n",
              "3  \"\"A set of processing units\\nA state of activa...              1   \n",
              "4  \"\"In 1969, Marvin Minsky and Seymour Papert de...              1   \n",
              "\n",
              "                                            keywords  \n",
              "0        \"deep learning, math, data, computers, PhD\"  \n",
              "1                  deep learning, areas, best, world  \n",
              "2   \"neuron, neurons, device, artificial, principle\"  \n",
              "3  \"parallel, distributed, processing, PDP, requi...  \n",
              "4  \"neural, networks, theoretical, misunderstandi...  "
            ]
          },
          "execution_count": 9,
          "metadata": {},
          "output_type": "execute_result"
        }
      ],
      "source": [
        "url = 'https://gist.githubusercontent.com/vishalbakshi/309fb3abb222d32446b2c4e29db753fe/raw/11aab9462df445705b643be361b7c4d7d54ef77b/fastbookRAG_evals.csv'\n",
        "questions = pd.read_csv(url)\n",
        "questions.head()"
      ]
    },
    {
      "cell_type": "code",
      "execution_count": 10,
      "metadata": {
        "colab": {
          "base_uri": "https://localhost:8080/"
        },
        "id": "IwWdTqfR51eE",
        "outputId": "a8f6488f-1cf4-43aa-a0e3-a892a2b5b4c3"
      },
      "outputs": [
        {
          "data": {
            "text/plain": [
              "(202, 6)"
            ]
          },
          "execution_count": 10,
          "metadata": {},
          "output_type": "execute_result"
        }
      ],
      "source": [
        "questions.shape"
      ]
    },
    {
      "cell_type": "markdown",
      "metadata": {
        "id": "2WbmtOnY6evx"
      },
      "source": [
        "With the preprocessing steps complete, I can run my experiments!"
      ]
    },
    {
      "cell_type": "markdown",
      "metadata": {
        "id": "tFPk-RVCf0D2"
      },
      "source": [
        "### BM25_A: Top-1 1-Paragraph Chunks"
      ]
    },
    {
      "cell_type": "markdown",
      "metadata": {
        "id": "IFxDp6wB6jCK"
      },
      "source": [
        "In this approach, I'll select the top-1 retrieved context (1-paragraph chunk) for each question's keywords and calculate the **Answer Rate**. As a reminder, the evaluation metric for each question, that I'm simply calling **score**, is binary: can the retrieved context answer the question (`1`) or not (`0`)? The evaluation metric across a set of questions, which I'm calling the **Answer Rate**, is the mean score for those questions."
      ]
    },
    {
      "cell_type": "markdown",
      "metadata": {
        "id": "72nKeGchH11b"
      },
      "source": [
        "It's pretty awesome that is takes about a fifth of a second to retrieve chunks for 202 keyword searches."
      ]
    },
    {
      "cell_type": "code",
      "execution_count": null,
      "metadata": {
        "colab": {
          "base_uri": "https://localhost:8080/"
        },
        "id": "RSZ7XW7JAp0y",
        "outputId": "78bc1622-3b64-4d71-df67-33c351ca1496"
      },
      "outputs": [
        {
          "name": "stdout",
          "output_type": "stream",
          "text": [
            "CPU times: user 242 ms, sys: 3.7 ms, total: 246 ms\n",
            "Wall time: 249 ms\n"
          ]
        }
      ],
      "source": [
        "%time results = db_search(questions, limit=1)"
      ]
    },
    {
      "cell_type": "code",
      "execution_count": null,
      "metadata": {
        "id": "gqJQ4peIIFSd"
      },
      "outputs": [],
      "source": [
        "results = db_search(questions, limit=1)"
      ]
    },
    {
      "cell_type": "code",
      "execution_count": null,
      "metadata": {
        "colab": {
          "base_uri": "https://localhost:8080/"
        },
        "id": "3pln0EsVyLR8",
        "outputId": "9774bc0c-65a5-4e65-e459-688580008938"
      },
      "outputs": [
        {
          "data": {
            "text/plain": [
              "202"
            ]
          },
          "execution_count": 17,
          "metadata": {},
          "output_type": "execute_result"
        }
      ],
      "source": [
        "len(results)"
      ]
    },
    {
      "cell_type": "code",
      "execution_count": null,
      "metadata": {
        "colab": {
          "base_uri": "https://localhost:8080/",
          "height": 380
        },
        "id": "9bylIH32Dacg",
        "outputId": "c2131dba-a497-4469-efae-e5c18c8d931f"
      },
      "outputs": [
        {
          "data": {
            "application/vnd.google.colaboratory.intrinsic+json": {
              "summary": "{\n  \"name\": \"bm25_a\",\n  \"rows\": 202,\n  \"fields\": [\n    {\n      \"column\": \"chapter\",\n      \"properties\": {\n        \"dtype\": \"number\",\n        \"std\": 4,\n        \"min\": 1,\n        \"max\": 13,\n        \"num_unique_values\": 7,\n        \"samples\": [\n          1,\n          2,\n          10\n        ],\n        \"semantic_type\": \"\",\n        \"description\": \"\"\n      }\n    },\n    {\n      \"column\": \"question_number\",\n      \"properties\": {\n        \"dtype\": \"number\",\n        \"std\": 9,\n        \"min\": 1,\n        \"max\": 40,\n        \"num_unique_values\": 40,\n        \"samples\": [\n          23,\n          20,\n          19\n        ],\n        \"semantic_type\": \"\",\n        \"description\": \"\"\n      }\n    },\n    {\n      \"column\": \"question_text\",\n      \"properties\": {\n        \"dtype\": \"string\",\n        \"num_unique_values\": 202,\n        \"samples\": [\n          \"\\\"\\\"What is an embedding matrix?\\\"\\\"\",\n          \"\\\"\\\"What is the difference between classification and regression?\\\"\\\"\",\n          \"\\\"\\\"Provide an example of where the bear classification model might work poorly in production, due to structural or style differences in the training data.\\\"\\\"\"\n        ],\n        \"semantic_type\": \"\",\n        \"description\": \"\"\n      }\n    },\n    {\n      \"column\": \"answer\",\n      \"properties\": {\n        \"dtype\": \"string\",\n        \"num_unique_values\": 202,\n        \"samples\": [\n          \"\\\"\\\"It is what you multiply an embedding with, and in the case of this collaborative filtering problem, is learned through training.\\\"\\\"\",\n          \"\\\"\\\"Classification is focused on predicting a class or category (ex: type of pet). Regression is focused on predicting a numeric quantity (ex: age of pet).\\\"\\\"\",\n          \"\\\"\\\"Working with video data instead of images\\nHandling nighttime images, which may not appear in this dataset\\nDealing with low-resolution camera images\\nEnsuring results are returned fast enough to be useful in practice\\nRecognizing bears in positions that are rarely seen in photos that people post online (for example from behind, partially covered by bushes, or when a long way away from the camera)\\\"\\\"\"\n        ],\n        \"semantic_type\": \"\",\n        \"description\": \"\"\n      }\n    },\n    {\n      \"column\": \"is_answerable\",\n      \"properties\": {\n        \"dtype\": \"number\",\n        \"std\": 0,\n        \"min\": 1,\n        \"max\": 1,\n        \"num_unique_values\": 1,\n        \"samples\": [\n          1\n        ],\n        \"semantic_type\": \"\",\n        \"description\": \"\"\n      }\n    },\n    {\n      \"column\": \"keywords\",\n      \"properties\": {\n        \"dtype\": \"string\",\n        \"num_unique_values\": 202,\n        \"samples\": [\n          \"\\\"embedding, matrix, matrices, embeddings\\\"\"\n        ],\n        \"semantic_type\": \"\",\n        \"description\": \"\"\n      }\n    },\n    {\n      \"column\": \"bm25_a_context\",\n      \"properties\": {\n        \"dtype\": \"string\",\n        \"num_unique_values\": 182,\n        \"samples\": [\n          \"### How Our Image Recognizer Works\\n\\n<img src=\\\"images/att_00000.png\\\" alt=\\\"Example of overfitting\\\" caption=\\\"Example of overfitting\\\" id=\\\"img_overfit\\\" width=\\\"700\\\">\"\n        ],\n        \"semantic_type\": \"\",\n        \"description\": \"\"\n      }\n    }\n  ]\n}",
              "type": "dataframe",
              "variable_name": "bm25_a"
            },
            "text/html": [
              "\n",
              "  <div id=\"df-70fbd68d-0d40-4275-b1c1-39d8c668609f\" class=\"colab-df-container\">\n",
              "    <div>\n",
              "<style scoped>\n",
              "    .dataframe tbody tr th:only-of-type {\n",
              "        vertical-align: middle;\n",
              "    }\n",
              "\n",
              "    .dataframe tbody tr th {\n",
              "        vertical-align: top;\n",
              "    }\n",
              "\n",
              "    .dataframe thead th {\n",
              "        text-align: right;\n",
              "    }\n",
              "</style>\n",
              "<table border=\"1\" class=\"dataframe\">\n",
              "  <thead>\n",
              "    <tr style=\"text-align: right;\">\n",
              "      <th></th>\n",
              "      <th>chapter</th>\n",
              "      <th>question_number</th>\n",
              "      <th>question_text</th>\n",
              "      <th>answer</th>\n",
              "      <th>is_answerable</th>\n",
              "      <th>keywords</th>\n",
              "      <th>bm25_a_context</th>\n",
              "    </tr>\n",
              "  </thead>\n",
              "  <tbody>\n",
              "    <tr>\n",
              "      <th>0</th>\n",
              "      <td>1</td>\n",
              "      <td>1</td>\n",
              "      <td>\"\"Do you need these for deep learning?nn- Lots...</td>\n",
              "      <td>\"\"Lots of math - False\\nLots of data - False\\n...</td>\n",
              "      <td>1</td>\n",
              "      <td>\"deep learning, math, data, computers, PhD\"</td>\n",
              "      <td>## Deep Learning Is for Everyone\\n\\n```asciido...</td>\n",
              "    </tr>\n",
              "    <tr>\n",
              "      <th>1</th>\n",
              "      <td>1</td>\n",
              "      <td>2</td>\n",
              "      <td>\"\"Name five areas where deep learning is now t...</td>\n",
              "      <td>\"\"Any five of the following:\\nNatural Language...</td>\n",
              "      <td>1</td>\n",
              "      <td>deep learning, areas, best, world</td>\n",
              "      <td>## Deep Learning Is for Everyone\\n\\nHere's a l...</td>\n",
              "    </tr>\n",
              "    <tr>\n",
              "      <th>2</th>\n",
              "      <td>1</td>\n",
              "      <td>3</td>\n",
              "      <td>\"\"What was the name of the first device that w...</td>\n",
              "      <td>\"\"Mark I perceptron built by Frank Rosenblatt\"\"</td>\n",
              "      <td>1</td>\n",
              "      <td>\"neuron, neurons, device, artificial, principle\"</td>\n",
              "      <td>## Neural Networks: A Brief History\\n\\n&lt;img al...</td>\n",
              "    </tr>\n",
              "    <tr>\n",
              "      <th>3</th>\n",
              "      <td>1</td>\n",
              "      <td>4</td>\n",
              "      <td>\"\"Based on the book of the same name, what are...</td>\n",
              "      <td>\"\"A set of processing units\\nA state of activa...</td>\n",
              "      <td>1</td>\n",
              "      <td>\"parallel, distributed, processing, PDP, requi...</td>\n",
              "      <td>## Neural Networks: A Brief History\\n\\nIn fact...</td>\n",
              "    </tr>\n",
              "    <tr>\n",
              "      <th>4</th>\n",
              "      <td>1</td>\n",
              "      <td>5</td>\n",
              "      <td>\"\"What were the two theoretical misunderstandi...</td>\n",
              "      <td>\"\"In 1969, Marvin Minsky and Seymour Papert de...</td>\n",
              "      <td>1</td>\n",
              "      <td>\"neural, networks, theoretical, misunderstandi...</td>\n",
              "      <td>## Neural Networks: A Brief History\\n\\nIn the ...</td>\n",
              "    </tr>\n",
              "  </tbody>\n",
              "</table>\n",
              "</div>\n",
              "    <div class=\"colab-df-buttons\">\n",
              "\n",
              "  <div class=\"colab-df-container\">\n",
              "    <button class=\"colab-df-convert\" onclick=\"convertToInteractive('df-70fbd68d-0d40-4275-b1c1-39d8c668609f')\"\n",
              "            title=\"Convert this dataframe to an interactive table.\"\n",
              "            style=\"display:none;\">\n",
              "\n",
              "  <svg xmlns=\"http://www.w3.org/2000/svg\" height=\"24px\" viewBox=\"0 -960 960 960\">\n",
              "    <path d=\"M120-120v-720h720v720H120Zm60-500h600v-160H180v160Zm220 220h160v-160H400v160Zm0 220h160v-160H400v160ZM180-400h160v-160H180v160Zm440 0h160v-160H620v160ZM180-180h160v-160H180v160Zm440 0h160v-160H620v160Z\"/>\n",
              "  </svg>\n",
              "    </button>\n",
              "\n",
              "  <style>\n",
              "    .colab-df-container {\n",
              "      display:flex;\n",
              "      gap: 12px;\n",
              "    }\n",
              "\n",
              "    .colab-df-convert {\n",
              "      background-color: #E8F0FE;\n",
              "      border: none;\n",
              "      border-radius: 50%;\n",
              "      cursor: pointer;\n",
              "      display: none;\n",
              "      fill: #1967D2;\n",
              "      height: 32px;\n",
              "      padding: 0 0 0 0;\n",
              "      width: 32px;\n",
              "    }\n",
              "\n",
              "    .colab-df-convert:hover {\n",
              "      background-color: #E2EBFA;\n",
              "      box-shadow: 0px 1px 2px rgba(60, 64, 67, 0.3), 0px 1px 3px 1px rgba(60, 64, 67, 0.15);\n",
              "      fill: #174EA6;\n",
              "    }\n",
              "\n",
              "    .colab-df-buttons div {\n",
              "      margin-bottom: 4px;\n",
              "    }\n",
              "\n",
              "    [theme=dark] .colab-df-convert {\n",
              "      background-color: #3B4455;\n",
              "      fill: #D2E3FC;\n",
              "    }\n",
              "\n",
              "    [theme=dark] .colab-df-convert:hover {\n",
              "      background-color: #434B5C;\n",
              "      box-shadow: 0px 1px 3px 1px rgba(0, 0, 0, 0.15);\n",
              "      filter: drop-shadow(0px 1px 2px rgba(0, 0, 0, 0.3));\n",
              "      fill: #FFFFFF;\n",
              "    }\n",
              "  </style>\n",
              "\n",
              "    <script>\n",
              "      const buttonEl =\n",
              "        document.querySelector('#df-70fbd68d-0d40-4275-b1c1-39d8c668609f button.colab-df-convert');\n",
              "      buttonEl.style.display =\n",
              "        google.colab.kernel.accessAllowed ? 'block' : 'none';\n",
              "\n",
              "      async function convertToInteractive(key) {\n",
              "        const element = document.querySelector('#df-70fbd68d-0d40-4275-b1c1-39d8c668609f');\n",
              "        const dataTable =\n",
              "          await google.colab.kernel.invokeFunction('convertToInteractive',\n",
              "                                                    [key], {});\n",
              "        if (!dataTable) return;\n",
              "\n",
              "        const docLinkHtml = 'Like what you see? Visit the ' +\n",
              "          '<a target=\"_blank\" href=https://colab.research.google.com/notebooks/data_table.ipynb>data table notebook</a>'\n",
              "          + ' to learn more about interactive tables.';\n",
              "        element.innerHTML = '';\n",
              "        dataTable['output_type'] = 'display_data';\n",
              "        await google.colab.output.renderOutput(dataTable, element);\n",
              "        const docLink = document.createElement('div');\n",
              "        docLink.innerHTML = docLinkHtml;\n",
              "        element.appendChild(docLink);\n",
              "      }\n",
              "    </script>\n",
              "  </div>\n",
              "\n",
              "\n",
              "<div id=\"df-5629178b-0a21-4e12-bf32-58d69472f0d7\">\n",
              "  <button class=\"colab-df-quickchart\" onclick=\"quickchart('df-5629178b-0a21-4e12-bf32-58d69472f0d7')\"\n",
              "            title=\"Suggest charts\"\n",
              "            style=\"display:none;\">\n",
              "\n",
              "<svg xmlns=\"http://www.w3.org/2000/svg\" height=\"24px\"viewBox=\"0 0 24 24\"\n",
              "     width=\"24px\">\n",
              "    <g>\n",
              "        <path d=\"M19 3H5c-1.1 0-2 .9-2 2v14c0 1.1.9 2 2 2h14c1.1 0 2-.9 2-2V5c0-1.1-.9-2-2-2zM9 17H7v-7h2v7zm4 0h-2V7h2v10zm4 0h-2v-4h2v4z\"/>\n",
              "    </g>\n",
              "</svg>\n",
              "  </button>\n",
              "\n",
              "<style>\n",
              "  .colab-df-quickchart {\n",
              "      --bg-color: #E8F0FE;\n",
              "      --fill-color: #1967D2;\n",
              "      --hover-bg-color: #E2EBFA;\n",
              "      --hover-fill-color: #174EA6;\n",
              "      --disabled-fill-color: #AAA;\n",
              "      --disabled-bg-color: #DDD;\n",
              "  }\n",
              "\n",
              "  [theme=dark] .colab-df-quickchart {\n",
              "      --bg-color: #3B4455;\n",
              "      --fill-color: #D2E3FC;\n",
              "      --hover-bg-color: #434B5C;\n",
              "      --hover-fill-color: #FFFFFF;\n",
              "      --disabled-bg-color: #3B4455;\n",
              "      --disabled-fill-color: #666;\n",
              "  }\n",
              "\n",
              "  .colab-df-quickchart {\n",
              "    background-color: var(--bg-color);\n",
              "    border: none;\n",
              "    border-radius: 50%;\n",
              "    cursor: pointer;\n",
              "    display: none;\n",
              "    fill: var(--fill-color);\n",
              "    height: 32px;\n",
              "    padding: 0;\n",
              "    width: 32px;\n",
              "  }\n",
              "\n",
              "  .colab-df-quickchart:hover {\n",
              "    background-color: var(--hover-bg-color);\n",
              "    box-shadow: 0 1px 2px rgba(60, 64, 67, 0.3), 0 1px 3px 1px rgba(60, 64, 67, 0.15);\n",
              "    fill: var(--button-hover-fill-color);\n",
              "  }\n",
              "\n",
              "  .colab-df-quickchart-complete:disabled,\n",
              "  .colab-df-quickchart-complete:disabled:hover {\n",
              "    background-color: var(--disabled-bg-color);\n",
              "    fill: var(--disabled-fill-color);\n",
              "    box-shadow: none;\n",
              "  }\n",
              "\n",
              "  .colab-df-spinner {\n",
              "    border: 2px solid var(--fill-color);\n",
              "    border-color: transparent;\n",
              "    border-bottom-color: var(--fill-color);\n",
              "    animation:\n",
              "      spin 1s steps(1) infinite;\n",
              "  }\n",
              "\n",
              "  @keyframes spin {\n",
              "    0% {\n",
              "      border-color: transparent;\n",
              "      border-bottom-color: var(--fill-color);\n",
              "      border-left-color: var(--fill-color);\n",
              "    }\n",
              "    20% {\n",
              "      border-color: transparent;\n",
              "      border-left-color: var(--fill-color);\n",
              "      border-top-color: var(--fill-color);\n",
              "    }\n",
              "    30% {\n",
              "      border-color: transparent;\n",
              "      border-left-color: var(--fill-color);\n",
              "      border-top-color: var(--fill-color);\n",
              "      border-right-color: var(--fill-color);\n",
              "    }\n",
              "    40% {\n",
              "      border-color: transparent;\n",
              "      border-right-color: var(--fill-color);\n",
              "      border-top-color: var(--fill-color);\n",
              "    }\n",
              "    60% {\n",
              "      border-color: transparent;\n",
              "      border-right-color: var(--fill-color);\n",
              "    }\n",
              "    80% {\n",
              "      border-color: transparent;\n",
              "      border-right-color: var(--fill-color);\n",
              "      border-bottom-color: var(--fill-color);\n",
              "    }\n",
              "    90% {\n",
              "      border-color: transparent;\n",
              "      border-bottom-color: var(--fill-color);\n",
              "    }\n",
              "  }\n",
              "</style>\n",
              "\n",
              "  <script>\n",
              "    async function quickchart(key) {\n",
              "      const quickchartButtonEl =\n",
              "        document.querySelector('#' + key + ' button');\n",
              "      quickchartButtonEl.disabled = true;  // To prevent multiple clicks.\n",
              "      quickchartButtonEl.classList.add('colab-df-spinner');\n",
              "      try {\n",
              "        const charts = await google.colab.kernel.invokeFunction(\n",
              "            'suggestCharts', [key], {});\n",
              "      } catch (error) {\n",
              "        console.error('Error during call to suggestCharts:', error);\n",
              "      }\n",
              "      quickchartButtonEl.classList.remove('colab-df-spinner');\n",
              "      quickchartButtonEl.classList.add('colab-df-quickchart-complete');\n",
              "    }\n",
              "    (() => {\n",
              "      let quickchartButtonEl =\n",
              "        document.querySelector('#df-5629178b-0a21-4e12-bf32-58d69472f0d7 button');\n",
              "      quickchartButtonEl.style.display =\n",
              "        google.colab.kernel.accessAllowed ? 'block' : 'none';\n",
              "    })();\n",
              "  </script>\n",
              "</div>\n",
              "\n",
              "    </div>\n",
              "  </div>\n"
            ],
            "text/plain": [
              "   chapter  question_number  \\\n",
              "0        1                1   \n",
              "1        1                2   \n",
              "2        1                3   \n",
              "3        1                4   \n",
              "4        1                5   \n",
              "\n",
              "                                       question_text  \\\n",
              "0  \"\"Do you need these for deep learning?nn- Lots...   \n",
              "1  \"\"Name five areas where deep learning is now t...   \n",
              "2  \"\"What was the name of the first device that w...   \n",
              "3  \"\"Based on the book of the same name, what are...   \n",
              "4  \"\"What were the two theoretical misunderstandi...   \n",
              "\n",
              "                                              answer  is_answerable  \\\n",
              "0  \"\"Lots of math - False\\nLots of data - False\\n...              1   \n",
              "1  \"\"Any five of the following:\\nNatural Language...              1   \n",
              "2    \"\"Mark I perceptron built by Frank Rosenblatt\"\"              1   \n",
              "3  \"\"A set of processing units\\nA state of activa...              1   \n",
              "4  \"\"In 1969, Marvin Minsky and Seymour Papert de...              1   \n",
              "\n",
              "                                            keywords  \\\n",
              "0        \"deep learning, math, data, computers, PhD\"   \n",
              "1                  deep learning, areas, best, world   \n",
              "2   \"neuron, neurons, device, artificial, principle\"   \n",
              "3  \"parallel, distributed, processing, PDP, requi...   \n",
              "4  \"neural, networks, theoretical, misunderstandi...   \n",
              "\n",
              "                                      bm25_a_context  \n",
              "0  ## Deep Learning Is for Everyone\\n\\n```asciido...  \n",
              "1  ## Deep Learning Is for Everyone\\n\\nHere's a l...  \n",
              "2  ## Neural Networks: A Brief History\\n\\n<img al...  \n",
              "3  ## Neural Networks: A Brief History\\n\\nIn fact...  \n",
              "4  ## Neural Networks: A Brief History\\n\\nIn the ...  "
            ]
          },
          "execution_count": 18,
          "metadata": {},
          "output_type": "execute_result"
        }
      ],
      "source": [
        "bm25_a = questions.copy()\n",
        "bm25_a['bm25_a_context'] = results\n",
        "bm25_a.head()"
      ]
    },
    {
      "cell_type": "code",
      "execution_count": null,
      "metadata": {
        "id": "0aGvpv9wIbpn"
      },
      "outputs": [],
      "source": [
        "bm25_a.to_csv('bm25_a.csv', index=False)"
      ]
    },
    {
      "cell_type": "markdown",
      "metadata": {
        "id": "1g8_SddGllua"
      },
      "source": [
        "#### Results"
      ]
    },
    {
      "cell_type": "markdown",
      "metadata": {
        "id": "b2Yak2xplnMF"
      },
      "source": [
        "Here is the **Answer Rate** (by chapter and overall)."
      ]
    },
    {
      "cell_type": "markdown",
      "metadata": {
        "id": "QYjjU5gMYQ3M"
      },
      "source": [
        "|Chapter|Name|Description|Answer Rate|\n",
        "|:-:|:-:|:-:|:-:|\n",
        "1|BM25_A|Top-1 1-paragraph chunks|40% (12/30)\n",
        "2|BM25_A|Top-1 1-paragraph chunks|38.5% (10/26)\n",
        "4|BM25_A|Top-1 1-paragraph chunks|25% (8/32)\n",
        "8|BM25_A|Top-1 1-paragraph chunks|13.8% (4/29)\n",
        "9|BM25_A|Top-1 1-paragraph chunks|13.8% (4/29)\n",
        "10|BM25_A|Top-1 1-paragraph chunks|47.6% (12/21)\n",
        "13|BM25_A|Top-1 1-paragraph chunks|37.1% (13/35)\n",
        "**All**|**BM25_A**|**Top-1 1-paragraph chunks**|**30.2% (61/202)**"
      ]
    },
    {
      "cell_type": "markdown",
      "metadata": {
        "id": "T_UaO_nKgSq5"
      },
      "source": [
        "### BM25_B: Top-3 1-Paragraph Chunks"
      ]
    },
    {
      "cell_type": "markdown",
      "metadata": {
        "id": "6oVIH8EbhBPa"
      },
      "source": [
        "In this approach, I'll select the top-3 retrieved context (1-paragraph chunks) for each question's keywords and calculate the **Answer Rate**. As a reminder, the evaluation metric for each question, that I'm simply calling **score**, is binary: can the retrieved context answer the question (`1`) or not (`0`)? The evaluation metric across a set of questions, which I'm calling the **Answer Rate**, is the mean score for those questions.\n",
        "\n",
        "I select the top-3 chunks by setting `LIMIT 3` in the sqlite query."
      ]
    },
    {
      "cell_type": "code",
      "execution_count": 19,
      "metadata": {
        "id": "pYktK9-shTh2"
      },
      "outputs": [],
      "source": [
        "results = db_search(questions, limit=3)"
      ]
    },
    {
      "cell_type": "code",
      "execution_count": 21,
      "metadata": {
        "colab": {
          "base_uri": "https://localhost:8080/"
        },
        "id": "7VTUEjughWKz",
        "outputId": "93e28636-e07b-4a8a-d0da-222cdba1749f"
      },
      "outputs": [
        {
          "data": {
            "text/plain": [
              "True"
            ]
          },
          "execution_count": 21,
          "metadata": {},
          "output_type": "execute_result"
        }
      ],
      "source": [
        "len(results) == 202 # top-3 chunks for all 202 questions"
      ]
    },
    {
      "cell_type": "code",
      "execution_count": 26,
      "metadata": {
        "colab": {
          "base_uri": "https://localhost:8080/",
          "height": 328
        },
        "id": "EoV2gG07imim",
        "outputId": "092fc1a6-4f17-4e67-e9b6-b7a406fd960d"
      },
      "outputs": [
        {
          "data": {
            "application/vnd.google.colaboratory.intrinsic+json": {
              "summary": "{\n  \"name\": \"bm25_b\",\n  \"rows\": 202,\n  \"fields\": [\n    {\n      \"column\": \"chapter\",\n      \"properties\": {\n        \"dtype\": \"number\",\n        \"std\": 4,\n        \"min\": 1,\n        \"max\": 13,\n        \"num_unique_values\": 7,\n        \"samples\": [\n          1,\n          2,\n          10\n        ],\n        \"semantic_type\": \"\",\n        \"description\": \"\"\n      }\n    },\n    {\n      \"column\": \"question_number\",\n      \"properties\": {\n        \"dtype\": \"number\",\n        \"std\": 9,\n        \"min\": 1,\n        \"max\": 40,\n        \"num_unique_values\": 40,\n        \"samples\": [\n          23,\n          20,\n          19\n        ],\n        \"semantic_type\": \"\",\n        \"description\": \"\"\n      }\n    },\n    {\n      \"column\": \"question_text\",\n      \"properties\": {\n        \"dtype\": \"string\",\n        \"num_unique_values\": 202,\n        \"samples\": [\n          \"\\\"\\\"What is an embedding matrix?\\\"\\\"\",\n          \"\\\"\\\"What is the difference between classification and regression?\\\"\\\"\",\n          \"\\\"\\\"Provide an example of where the bear classification model might work poorly in production, due to structural or style differences in the training data.\\\"\\\"\"\n        ],\n        \"semantic_type\": \"\",\n        \"description\": \"\"\n      }\n    },\n    {\n      \"column\": \"answer\",\n      \"properties\": {\n        \"dtype\": \"string\",\n        \"num_unique_values\": 202,\n        \"samples\": [\n          \"\\\"\\\"It is what you multiply an embedding with, and in the case of this collaborative filtering problem, is learned through training.\\\"\\\"\",\n          \"\\\"\\\"Classification is focused on predicting a class or category (ex: type of pet). Regression is focused on predicting a numeric quantity (ex: age of pet).\\\"\\\"\",\n          \"\\\"\\\"Working with video data instead of images\\nHandling nighttime images, which may not appear in this dataset\\nDealing with low-resolution camera images\\nEnsuring results are returned fast enough to be useful in practice\\nRecognizing bears in positions that are rarely seen in photos that people post online (for example from behind, partially covered by bushes, or when a long way away from the camera)\\\"\\\"\"\n        ],\n        \"semantic_type\": \"\",\n        \"description\": \"\"\n      }\n    },\n    {\n      \"column\": \"is_answerable\",\n      \"properties\": {\n        \"dtype\": \"number\",\n        \"std\": 0,\n        \"min\": 1,\n        \"max\": 1,\n        \"num_unique_values\": 1,\n        \"samples\": [\n          1\n        ],\n        \"semantic_type\": \"\",\n        \"description\": \"\"\n      }\n    },\n    {\n      \"column\": \"keywords\",\n      \"properties\": {\n        \"dtype\": \"string\",\n        \"num_unique_values\": 202,\n        \"samples\": [\n          \"\\\"embedding, matrix, matrices, embeddings\\\"\"\n        ],\n        \"semantic_type\": \"\",\n        \"description\": \"\"\n      }\n    },\n    {\n      \"column\": \"bm25_b_context\",\n      \"properties\": {\n        \"dtype\": \"string\",\n        \"num_unique_values\": 199,\n        \"samples\": [\n          \"### Creating an Optimizer\\n\\nTo create a `Learner` without using an application (such as `vision_learner`) we need to pass in all the elements that we've created in this chapter: the `DataLoaders`, the model, the optimization function (which will be passed the parameters), the loss function, and optionally any metrics to print:\\n\\n### Creating an Optimizer\\n\\nfastai also provides `Learner.fit`, which we can use instead of `train_model`. To create a `Learner` we first need to create a `DataLoaders`, by passing in our training and validation `DataLoader`s:\\n\\n### Creating an Optimizer\\n\\nWe can use this information to create an optimizer:\"\n        ],\n        \"semantic_type\": \"\",\n        \"description\": \"\"\n      }\n    }\n  ]\n}",
              "type": "dataframe",
              "variable_name": "bm25_b"
            },
            "text/html": [
              "\n",
              "  <div id=\"df-cb36a759-c03e-4699-936d-5b5c63f33d4d\" class=\"colab-df-container\">\n",
              "    <div>\n",
              "<style scoped>\n",
              "    .dataframe tbody tr th:only-of-type {\n",
              "        vertical-align: middle;\n",
              "    }\n",
              "\n",
              "    .dataframe tbody tr th {\n",
              "        vertical-align: top;\n",
              "    }\n",
              "\n",
              "    .dataframe thead th {\n",
              "        text-align: right;\n",
              "    }\n",
              "</style>\n",
              "<table border=\"1\" class=\"dataframe\">\n",
              "  <thead>\n",
              "    <tr style=\"text-align: right;\">\n",
              "      <th></th>\n",
              "      <th>chapter</th>\n",
              "      <th>question_number</th>\n",
              "      <th>question_text</th>\n",
              "      <th>answer</th>\n",
              "      <th>is_answerable</th>\n",
              "      <th>keywords</th>\n",
              "      <th>bm25_b_context</th>\n",
              "    </tr>\n",
              "  </thead>\n",
              "  <tbody>\n",
              "    <tr>\n",
              "      <th>0</th>\n",
              "      <td>1</td>\n",
              "      <td>1</td>\n",
              "      <td>\"\"Do you need these for deep learning?nn- Lots...</td>\n",
              "      <td>\"\"Lots of math - False\\nLots of data - False\\n...</td>\n",
              "      <td>1</td>\n",
              "      <td>\"deep learning, math, data, computers, PhD\"</td>\n",
              "      <td>## Deep Learning Is for Everyone\\n\\n```asciido...</td>\n",
              "    </tr>\n",
              "    <tr>\n",
              "      <th>1</th>\n",
              "      <td>1</td>\n",
              "      <td>2</td>\n",
              "      <td>\"\"Name five areas where deep learning is now t...</td>\n",
              "      <td>\"\"Any five of the following:\\nNatural Language...</td>\n",
              "      <td>1</td>\n",
              "      <td>deep learning, areas, best, world</td>\n",
              "      <td>## Deep Learning Is for Everyone\\n\\nHere's a l...</td>\n",
              "    </tr>\n",
              "    <tr>\n",
              "      <th>2</th>\n",
              "      <td>1</td>\n",
              "      <td>3</td>\n",
              "      <td>\"\"What was the name of the first device that w...</td>\n",
              "      <td>\"\"Mark I perceptron built by Frank Rosenblatt\"\"</td>\n",
              "      <td>1</td>\n",
              "      <td>\"neuron, neurons, device, artificial, principle\"</td>\n",
              "      <td>## Neural Networks: A Brief History\\n\\n&lt;img al...</td>\n",
              "    </tr>\n",
              "    <tr>\n",
              "      <th>3</th>\n",
              "      <td>1</td>\n",
              "      <td>4</td>\n",
              "      <td>\"\"Based on the book of the same name, what are...</td>\n",
              "      <td>\"\"A set of processing units\\nA state of activa...</td>\n",
              "      <td>1</td>\n",
              "      <td>\"parallel, distributed, processing, PDP, requi...</td>\n",
              "      <td>## Neural Networks: A Brief History\\n\\nIn fact...</td>\n",
              "    </tr>\n",
              "    <tr>\n",
              "      <th>4</th>\n",
              "      <td>1</td>\n",
              "      <td>5</td>\n",
              "      <td>\"\"What were the two theoretical misunderstandi...</td>\n",
              "      <td>\"\"In 1969, Marvin Minsky and Seymour Papert de...</td>\n",
              "      <td>1</td>\n",
              "      <td>\"neural, networks, theoretical, misunderstandi...</td>\n",
              "      <td>## Neural Networks: A Brief History\\n\\nIn the ...</td>\n",
              "    </tr>\n",
              "  </tbody>\n",
              "</table>\n",
              "</div>\n",
              "    <div class=\"colab-df-buttons\">\n",
              "\n",
              "  <div class=\"colab-df-container\">\n",
              "    <button class=\"colab-df-convert\" onclick=\"convertToInteractive('df-cb36a759-c03e-4699-936d-5b5c63f33d4d')\"\n",
              "            title=\"Convert this dataframe to an interactive table.\"\n",
              "            style=\"display:none;\">\n",
              "\n",
              "  <svg xmlns=\"http://www.w3.org/2000/svg\" height=\"24px\" viewBox=\"0 -960 960 960\">\n",
              "    <path d=\"M120-120v-720h720v720H120Zm60-500h600v-160H180v160Zm220 220h160v-160H400v160Zm0 220h160v-160H400v160ZM180-400h160v-160H180v160Zm440 0h160v-160H620v160ZM180-180h160v-160H180v160Zm440 0h160v-160H620v160Z\"/>\n",
              "  </svg>\n",
              "    </button>\n",
              "\n",
              "  <style>\n",
              "    .colab-df-container {\n",
              "      display:flex;\n",
              "      gap: 12px;\n",
              "    }\n",
              "\n",
              "    .colab-df-convert {\n",
              "      background-color: #E8F0FE;\n",
              "      border: none;\n",
              "      border-radius: 50%;\n",
              "      cursor: pointer;\n",
              "      display: none;\n",
              "      fill: #1967D2;\n",
              "      height: 32px;\n",
              "      padding: 0 0 0 0;\n",
              "      width: 32px;\n",
              "    }\n",
              "\n",
              "    .colab-df-convert:hover {\n",
              "      background-color: #E2EBFA;\n",
              "      box-shadow: 0px 1px 2px rgba(60, 64, 67, 0.3), 0px 1px 3px 1px rgba(60, 64, 67, 0.15);\n",
              "      fill: #174EA6;\n",
              "    }\n",
              "\n",
              "    .colab-df-buttons div {\n",
              "      margin-bottom: 4px;\n",
              "    }\n",
              "\n",
              "    [theme=dark] .colab-df-convert {\n",
              "      background-color: #3B4455;\n",
              "      fill: #D2E3FC;\n",
              "    }\n",
              "\n",
              "    [theme=dark] .colab-df-convert:hover {\n",
              "      background-color: #434B5C;\n",
              "      box-shadow: 0px 1px 3px 1px rgba(0, 0, 0, 0.15);\n",
              "      filter: drop-shadow(0px 1px 2px rgba(0, 0, 0, 0.3));\n",
              "      fill: #FFFFFF;\n",
              "    }\n",
              "  </style>\n",
              "\n",
              "    <script>\n",
              "      const buttonEl =\n",
              "        document.querySelector('#df-cb36a759-c03e-4699-936d-5b5c63f33d4d button.colab-df-convert');\n",
              "      buttonEl.style.display =\n",
              "        google.colab.kernel.accessAllowed ? 'block' : 'none';\n",
              "\n",
              "      async function convertToInteractive(key) {\n",
              "        const element = document.querySelector('#df-cb36a759-c03e-4699-936d-5b5c63f33d4d');\n",
              "        const dataTable =\n",
              "          await google.colab.kernel.invokeFunction('convertToInteractive',\n",
              "                                                    [key], {});\n",
              "        if (!dataTable) return;\n",
              "\n",
              "        const docLinkHtml = 'Like what you see? Visit the ' +\n",
              "          '<a target=\"_blank\" href=https://colab.research.google.com/notebooks/data_table.ipynb>data table notebook</a>'\n",
              "          + ' to learn more about interactive tables.';\n",
              "        element.innerHTML = '';\n",
              "        dataTable['output_type'] = 'display_data';\n",
              "        await google.colab.output.renderOutput(dataTable, element);\n",
              "        const docLink = document.createElement('div');\n",
              "        docLink.innerHTML = docLinkHtml;\n",
              "        element.appendChild(docLink);\n",
              "      }\n",
              "    </script>\n",
              "  </div>\n",
              "\n",
              "\n",
              "<div id=\"df-1177d9c9-41df-4e60-acb9-3162a7fa6282\">\n",
              "  <button class=\"colab-df-quickchart\" onclick=\"quickchart('df-1177d9c9-41df-4e60-acb9-3162a7fa6282')\"\n",
              "            title=\"Suggest charts\"\n",
              "            style=\"display:none;\">\n",
              "\n",
              "<svg xmlns=\"http://www.w3.org/2000/svg\" height=\"24px\"viewBox=\"0 0 24 24\"\n",
              "     width=\"24px\">\n",
              "    <g>\n",
              "        <path d=\"M19 3H5c-1.1 0-2 .9-2 2v14c0 1.1.9 2 2 2h14c1.1 0 2-.9 2-2V5c0-1.1-.9-2-2-2zM9 17H7v-7h2v7zm4 0h-2V7h2v10zm4 0h-2v-4h2v4z\"/>\n",
              "    </g>\n",
              "</svg>\n",
              "  </button>\n",
              "\n",
              "<style>\n",
              "  .colab-df-quickchart {\n",
              "      --bg-color: #E8F0FE;\n",
              "      --fill-color: #1967D2;\n",
              "      --hover-bg-color: #E2EBFA;\n",
              "      --hover-fill-color: #174EA6;\n",
              "      --disabled-fill-color: #AAA;\n",
              "      --disabled-bg-color: #DDD;\n",
              "  }\n",
              "\n",
              "  [theme=dark] .colab-df-quickchart {\n",
              "      --bg-color: #3B4455;\n",
              "      --fill-color: #D2E3FC;\n",
              "      --hover-bg-color: #434B5C;\n",
              "      --hover-fill-color: #FFFFFF;\n",
              "      --disabled-bg-color: #3B4455;\n",
              "      --disabled-fill-color: #666;\n",
              "  }\n",
              "\n",
              "  .colab-df-quickchart {\n",
              "    background-color: var(--bg-color);\n",
              "    border: none;\n",
              "    border-radius: 50%;\n",
              "    cursor: pointer;\n",
              "    display: none;\n",
              "    fill: var(--fill-color);\n",
              "    height: 32px;\n",
              "    padding: 0;\n",
              "    width: 32px;\n",
              "  }\n",
              "\n",
              "  .colab-df-quickchart:hover {\n",
              "    background-color: var(--hover-bg-color);\n",
              "    box-shadow: 0 1px 2px rgba(60, 64, 67, 0.3), 0 1px 3px 1px rgba(60, 64, 67, 0.15);\n",
              "    fill: var(--button-hover-fill-color);\n",
              "  }\n",
              "\n",
              "  .colab-df-quickchart-complete:disabled,\n",
              "  .colab-df-quickchart-complete:disabled:hover {\n",
              "    background-color: var(--disabled-bg-color);\n",
              "    fill: var(--disabled-fill-color);\n",
              "    box-shadow: none;\n",
              "  }\n",
              "\n",
              "  .colab-df-spinner {\n",
              "    border: 2px solid var(--fill-color);\n",
              "    border-color: transparent;\n",
              "    border-bottom-color: var(--fill-color);\n",
              "    animation:\n",
              "      spin 1s steps(1) infinite;\n",
              "  }\n",
              "\n",
              "  @keyframes spin {\n",
              "    0% {\n",
              "      border-color: transparent;\n",
              "      border-bottom-color: var(--fill-color);\n",
              "      border-left-color: var(--fill-color);\n",
              "    }\n",
              "    20% {\n",
              "      border-color: transparent;\n",
              "      border-left-color: var(--fill-color);\n",
              "      border-top-color: var(--fill-color);\n",
              "    }\n",
              "    30% {\n",
              "      border-color: transparent;\n",
              "      border-left-color: var(--fill-color);\n",
              "      border-top-color: var(--fill-color);\n",
              "      border-right-color: var(--fill-color);\n",
              "    }\n",
              "    40% {\n",
              "      border-color: transparent;\n",
              "      border-right-color: var(--fill-color);\n",
              "      border-top-color: var(--fill-color);\n",
              "    }\n",
              "    60% {\n",
              "      border-color: transparent;\n",
              "      border-right-color: var(--fill-color);\n",
              "    }\n",
              "    80% {\n",
              "      border-color: transparent;\n",
              "      border-right-color: var(--fill-color);\n",
              "      border-bottom-color: var(--fill-color);\n",
              "    }\n",
              "    90% {\n",
              "      border-color: transparent;\n",
              "      border-bottom-color: var(--fill-color);\n",
              "    }\n",
              "  }\n",
              "</style>\n",
              "\n",
              "  <script>\n",
              "    async function quickchart(key) {\n",
              "      const quickchartButtonEl =\n",
              "        document.querySelector('#' + key + ' button');\n",
              "      quickchartButtonEl.disabled = true;  // To prevent multiple clicks.\n",
              "      quickchartButtonEl.classList.add('colab-df-spinner');\n",
              "      try {\n",
              "        const charts = await google.colab.kernel.invokeFunction(\n",
              "            'suggestCharts', [key], {});\n",
              "      } catch (error) {\n",
              "        console.error('Error during call to suggestCharts:', error);\n",
              "      }\n",
              "      quickchartButtonEl.classList.remove('colab-df-spinner');\n",
              "      quickchartButtonEl.classList.add('colab-df-quickchart-complete');\n",
              "    }\n",
              "    (() => {\n",
              "      let quickchartButtonEl =\n",
              "        document.querySelector('#df-1177d9c9-41df-4e60-acb9-3162a7fa6282 button');\n",
              "      quickchartButtonEl.style.display =\n",
              "        google.colab.kernel.accessAllowed ? 'block' : 'none';\n",
              "    })();\n",
              "  </script>\n",
              "</div>\n",
              "\n",
              "    </div>\n",
              "  </div>\n"
            ],
            "text/plain": [
              "   chapter  question_number  \\\n",
              "0        1                1   \n",
              "1        1                2   \n",
              "2        1                3   \n",
              "3        1                4   \n",
              "4        1                5   \n",
              "\n",
              "                                       question_text  \\\n",
              "0  \"\"Do you need these for deep learning?nn- Lots...   \n",
              "1  \"\"Name five areas where deep learning is now t...   \n",
              "2  \"\"What was the name of the first device that w...   \n",
              "3  \"\"Based on the book of the same name, what are...   \n",
              "4  \"\"What were the two theoretical misunderstandi...   \n",
              "\n",
              "                                              answer  is_answerable  \\\n",
              "0  \"\"Lots of math - False\\nLots of data - False\\n...              1   \n",
              "1  \"\"Any five of the following:\\nNatural Language...              1   \n",
              "2    \"\"Mark I perceptron built by Frank Rosenblatt\"\"              1   \n",
              "3  \"\"A set of processing units\\nA state of activa...              1   \n",
              "4  \"\"In 1969, Marvin Minsky and Seymour Papert de...              1   \n",
              "\n",
              "                                            keywords  \\\n",
              "0        \"deep learning, math, data, computers, PhD\"   \n",
              "1                  deep learning, areas, best, world   \n",
              "2   \"neuron, neurons, device, artificial, principle\"   \n",
              "3  \"parallel, distributed, processing, PDP, requi...   \n",
              "4  \"neural, networks, theoretical, misunderstandi...   \n",
              "\n",
              "                                      bm25_b_context  \n",
              "0  ## Deep Learning Is for Everyone\\n\\n```asciido...  \n",
              "1  ## Deep Learning Is for Everyone\\n\\nHere's a l...  \n",
              "2  ## Neural Networks: A Brief History\\n\\n<img al...  \n",
              "3  ## Neural Networks: A Brief History\\n\\nIn fact...  \n",
              "4  ## Neural Networks: A Brief History\\n\\nIn the ...  "
            ]
          },
          "execution_count": 26,
          "metadata": {},
          "output_type": "execute_result"
        }
      ],
      "source": [
        "bm25_b = questions.copy()\n",
        "bm25_b['bm25_b_context'] = results\n",
        "bm25_b.head()"
      ]
    },
    {
      "cell_type": "code",
      "execution_count": 27,
      "metadata": {
        "id": "82LWQ6d_ivfo"
      },
      "outputs": [],
      "source": [
        "bm25_b.to_csv('bm25_b.csv', index=False)"
      ]
    },
    {
      "cell_type": "markdown",
      "metadata": {
        "id": "NAIv6jMCi_yq"
      },
      "source": [
        "#### Results"
      ]
    },
    {
      "cell_type": "markdown",
      "metadata": {
        "id": "3acMHCdXjAhn"
      },
      "source": [
        "Here is the **Answer Rate** (by chapter and overall).\n",
        "\n",
        "|Chapter|Name|Description|Answer Rate|\n",
        "|:-:|:-:|:-:|:-:|\n",
        "1|BM25_B|Top-3 1-paragraph chunks|56.7% (17/30)\n",
        "2|BM25_B|Top-3 1-paragraph chunks|65.4% (17/26)\n",
        "4|BM25_B|Top-3 1-paragraph chunks|68.8% (22/32)\n",
        "8|BM25_B|Top-3 1-paragraph chunks|34.5% (10/29)\n",
        "9|BM25_B|Top-3 1-paragraph chunks|41.4% (12/29)\n",
        "10|BM25_B|Top-3 1-paragraph chunks|42.9% (9/21)\n",
        "13|BM25_B|Top-3 1-paragraph chunks|54.3% (19/35)\n",
        "**All**|**BM25_B**|**Top-3 1-paragraph chunks**|**53.5%(108/202)**"
      ]
    },
    {
      "cell_type": "markdown",
      "metadata": {
        "id": "OjSQapHDJ236"
      },
      "source": [
        "### BM25_C: Top-5 1-Paragraph Chunks"
      ]
    },
    {
      "cell_type": "markdown",
      "metadata": {
        "id": "CuwB_OrMJ70X"
      },
      "source": [
        "In this approach, I'll select the top-5 retrieved context (1-paragraph chunks) for each question's keywords and calculate the **Answer Rate**. As a reminder, the evaluation metric for each question, that I'm simply calling **score**, is binary: can the retrieved context answer the question (`1`) or not (`0`)? The evaluation metric across a set of questions, which I'm calling the **Answer Rate**, is the mean score for those questions.\n",
        "\n",
        "I select the top-5 chunks by setting `LIMIT 5` in the sqlite query."
      ]
    },
    {
      "cell_type": "code",
      "execution_count": 15,
      "metadata": {
        "id": "LRcSDIbKKImZ"
      },
      "outputs": [],
      "source": [
        "results = db_search(questions, limit=5)"
      ]
    },
    {
      "cell_type": "code",
      "execution_count": 16,
      "metadata": {
        "colab": {
          "base_uri": "https://localhost:8080/"
        },
        "id": "zVh7SH3dKrGR",
        "outputId": "4be1527e-2bef-4343-eed3-a3ec794aeeca"
      },
      "outputs": [
        {
          "data": {
            "text/plain": [
              "True"
            ]
          },
          "execution_count": 16,
          "metadata": {},
          "output_type": "execute_result"
        }
      ],
      "source": [
        "len(results) == 202"
      ]
    },
    {
      "cell_type": "code",
      "execution_count": 18,
      "metadata": {
        "colab": {
          "base_uri": "https://localhost:8080/",
          "height": 328
        },
        "id": "Z4h87jYvKxy3",
        "outputId": "555d5e94-f39f-4bf3-d7db-d8cb97e65bc5"
      },
      "outputs": [
        {
          "data": {
            "application/vnd.google.colaboratory.intrinsic+json": {
              "summary": "{\n  \"name\": \"bm25_c\",\n  \"rows\": 202,\n  \"fields\": [\n    {\n      \"column\": \"chapter\",\n      \"properties\": {\n        \"dtype\": \"number\",\n        \"std\": 4,\n        \"min\": 1,\n        \"max\": 13,\n        \"num_unique_values\": 7,\n        \"samples\": [\n          1,\n          2,\n          10\n        ],\n        \"semantic_type\": \"\",\n        \"description\": \"\"\n      }\n    },\n    {\n      \"column\": \"question_number\",\n      \"properties\": {\n        \"dtype\": \"number\",\n        \"std\": 9,\n        \"min\": 1,\n        \"max\": 40,\n        \"num_unique_values\": 40,\n        \"samples\": [\n          23,\n          20,\n          19\n        ],\n        \"semantic_type\": \"\",\n        \"description\": \"\"\n      }\n    },\n    {\n      \"column\": \"question_text\",\n      \"properties\": {\n        \"dtype\": \"string\",\n        \"num_unique_values\": 202,\n        \"samples\": [\n          \"\\\"\\\"What is an embedding matrix?\\\"\\\"\",\n          \"\\\"\\\"What is the difference between classification and regression?\\\"\\\"\",\n          \"\\\"\\\"Provide an example of where the bear classification model might work poorly in production, due to structural or style differences in the training data.\\\"\\\"\"\n        ],\n        \"semantic_type\": \"\",\n        \"description\": \"\"\n      }\n    },\n    {\n      \"column\": \"answer\",\n      \"properties\": {\n        \"dtype\": \"string\",\n        \"num_unique_values\": 202,\n        \"samples\": [\n          \"\\\"\\\"It is what you multiply an embedding with, and in the case of this collaborative filtering problem, is learned through training.\\\"\\\"\",\n          \"\\\"\\\"Classification is focused on predicting a class or category (ex: type of pet). Regression is focused on predicting a numeric quantity (ex: age of pet).\\\"\\\"\",\n          \"\\\"\\\"Working with video data instead of images\\nHandling nighttime images, which may not appear in this dataset\\nDealing with low-resolution camera images\\nEnsuring results are returned fast enough to be useful in practice\\nRecognizing bears in positions that are rarely seen in photos that people post online (for example from behind, partially covered by bushes, or when a long way away from the camera)\\\"\\\"\"\n        ],\n        \"semantic_type\": \"\",\n        \"description\": \"\"\n      }\n    },\n    {\n      \"column\": \"is_answerable\",\n      \"properties\": {\n        \"dtype\": \"number\",\n        \"std\": 0,\n        \"min\": 1,\n        \"max\": 1,\n        \"num_unique_values\": 1,\n        \"samples\": [\n          1\n        ],\n        \"semantic_type\": \"\",\n        \"description\": \"\"\n      }\n    },\n    {\n      \"column\": \"keywords\",\n      \"properties\": {\n        \"dtype\": \"string\",\n        \"num_unique_values\": 202,\n        \"samples\": [\n          \"\\\"embedding, matrix, matrices, embeddings\\\"\"\n        ],\n        \"semantic_type\": \"\",\n        \"description\": \"\"\n      }\n    },\n    {\n      \"column\": \"bm25_c_context\",\n      \"properties\": {\n        \"dtype\": \"string\",\n        \"num_unique_values\": 200,\n        \"samples\": [\n          \"## Creating the DataLoaders\\n\\nFortunately, it turns out that we can represent *look up in an index* as a matrix product. The trick is to replace our indices with one-hot-encoded vectors. Here is an example of what happens if we multiply a vector by a one-hot-encoded vector representing the index 3:\\n\\n## Creating the DataLoaders\\n\\nIf we do that for a few indices at once, we will have a matrix of one-hot-encoded vectors, and that operation will be a matrix multiplication! This would be a perfectly acceptable way to build models using this kind of architecture, except that it would use a lot more memory and time than necessary. We know that there is no real underlying reason to store the one-hot-encoded vector, or to search through it to find the occurrence of the number one\\u2014we should just be able to index into an array directly with an integer. Therefore, most deep learning libraries, including PyTorch, include a special layer that does just this; it indexes into a vector using an integer, but has its derivative calculated in such a way that it is identical to what it would have been if it had done a matrix multiplication with a one-hot-encoded vector. This is called an *embedding*.\\n\\n## Creating the DataLoaders\\n\\n> jargon: Embedding: Multiplying by a one-hot-encoded matrix, using the computational shortcut that it can be implemented by simply indexing directly. This is quite a fancy word for a very simple concept. The thing that you multiply the one-hot-encoded matrix by (or, using the computational shortcut, index into directly) is called the _embedding matrix_.\\n\\n## Creating the DataLoaders\\n\\nIt gives us the same vector as the one at index 3 in the matrix:\\n\\n### Embedding Distance\\n\\nIf there were two movies that were nearly identical, then their embedding vectors would also have to be nearly identical, because the users that would like them would be nearly exactly the same. There is a more general idea here: movie similarity can be defined by the similarity of users that like those movies. And that directly means that the distance between two movies' embedding vectors can define that similarity. We can use this to find the most similar movie to *Silence of the Lambs*:\"\n        ],\n        \"semantic_type\": \"\",\n        \"description\": \"\"\n      }\n    }\n  ]\n}",
              "type": "dataframe",
              "variable_name": "bm25_c"
            },
            "text/html": [
              "\n",
              "  <div id=\"df-9a99e068-6408-452b-9264-b89d58b9521d\" class=\"colab-df-container\">\n",
              "    <div>\n",
              "<style scoped>\n",
              "    .dataframe tbody tr th:only-of-type {\n",
              "        vertical-align: middle;\n",
              "    }\n",
              "\n",
              "    .dataframe tbody tr th {\n",
              "        vertical-align: top;\n",
              "    }\n",
              "\n",
              "    .dataframe thead th {\n",
              "        text-align: right;\n",
              "    }\n",
              "</style>\n",
              "<table border=\"1\" class=\"dataframe\">\n",
              "  <thead>\n",
              "    <tr style=\"text-align: right;\">\n",
              "      <th></th>\n",
              "      <th>chapter</th>\n",
              "      <th>question_number</th>\n",
              "      <th>question_text</th>\n",
              "      <th>answer</th>\n",
              "      <th>is_answerable</th>\n",
              "      <th>keywords</th>\n",
              "      <th>bm25_c_context</th>\n",
              "    </tr>\n",
              "  </thead>\n",
              "  <tbody>\n",
              "    <tr>\n",
              "      <th>0</th>\n",
              "      <td>1</td>\n",
              "      <td>1</td>\n",
              "      <td>\"\"Do you need these for deep learning?nn- Lots...</td>\n",
              "      <td>\"\"Lots of math - False\\nLots of data - False\\n...</td>\n",
              "      <td>1</td>\n",
              "      <td>\"deep learning, math, data, computers, PhD\"</td>\n",
              "      <td>## Deep Learning Is for Everyone\\n\\n```asciido...</td>\n",
              "    </tr>\n",
              "    <tr>\n",
              "      <th>1</th>\n",
              "      <td>1</td>\n",
              "      <td>2</td>\n",
              "      <td>\"\"Name five areas where deep learning is now t...</td>\n",
              "      <td>\"\"Any five of the following:\\nNatural Language...</td>\n",
              "      <td>1</td>\n",
              "      <td>deep learning, areas, best, world</td>\n",
              "      <td>## Deep Learning Is for Everyone\\n\\nHere's a l...</td>\n",
              "    </tr>\n",
              "    <tr>\n",
              "      <th>2</th>\n",
              "      <td>1</td>\n",
              "      <td>3</td>\n",
              "      <td>\"\"What was the name of the first device that w...</td>\n",
              "      <td>\"\"Mark I perceptron built by Frank Rosenblatt\"\"</td>\n",
              "      <td>1</td>\n",
              "      <td>\"neuron, neurons, device, artificial, principle\"</td>\n",
              "      <td>## Neural Networks: A Brief History\\n\\n&lt;img al...</td>\n",
              "    </tr>\n",
              "    <tr>\n",
              "      <th>3</th>\n",
              "      <td>1</td>\n",
              "      <td>4</td>\n",
              "      <td>\"\"Based on the book of the same name, what are...</td>\n",
              "      <td>\"\"A set of processing units\\nA state of activa...</td>\n",
              "      <td>1</td>\n",
              "      <td>\"parallel, distributed, processing, PDP, requi...</td>\n",
              "      <td>## Neural Networks: A Brief History\\n\\nIn fact...</td>\n",
              "    </tr>\n",
              "    <tr>\n",
              "      <th>4</th>\n",
              "      <td>1</td>\n",
              "      <td>5</td>\n",
              "      <td>\"\"What were the two theoretical misunderstandi...</td>\n",
              "      <td>\"\"In 1969, Marvin Minsky and Seymour Papert de...</td>\n",
              "      <td>1</td>\n",
              "      <td>\"neural, networks, theoretical, misunderstandi...</td>\n",
              "      <td>## Neural Networks: A Brief History\\n\\nIn the ...</td>\n",
              "    </tr>\n",
              "  </tbody>\n",
              "</table>\n",
              "</div>\n",
              "    <div class=\"colab-df-buttons\">\n",
              "\n",
              "  <div class=\"colab-df-container\">\n",
              "    <button class=\"colab-df-convert\" onclick=\"convertToInteractive('df-9a99e068-6408-452b-9264-b89d58b9521d')\"\n",
              "            title=\"Convert this dataframe to an interactive table.\"\n",
              "            style=\"display:none;\">\n",
              "\n",
              "  <svg xmlns=\"http://www.w3.org/2000/svg\" height=\"24px\" viewBox=\"0 -960 960 960\">\n",
              "    <path d=\"M120-120v-720h720v720H120Zm60-500h600v-160H180v160Zm220 220h160v-160H400v160Zm0 220h160v-160H400v160ZM180-400h160v-160H180v160Zm440 0h160v-160H620v160ZM180-180h160v-160H180v160Zm440 0h160v-160H620v160Z\"/>\n",
              "  </svg>\n",
              "    </button>\n",
              "\n",
              "  <style>\n",
              "    .colab-df-container {\n",
              "      display:flex;\n",
              "      gap: 12px;\n",
              "    }\n",
              "\n",
              "    .colab-df-convert {\n",
              "      background-color: #E8F0FE;\n",
              "      border: none;\n",
              "      border-radius: 50%;\n",
              "      cursor: pointer;\n",
              "      display: none;\n",
              "      fill: #1967D2;\n",
              "      height: 32px;\n",
              "      padding: 0 0 0 0;\n",
              "      width: 32px;\n",
              "    }\n",
              "\n",
              "    .colab-df-convert:hover {\n",
              "      background-color: #E2EBFA;\n",
              "      box-shadow: 0px 1px 2px rgba(60, 64, 67, 0.3), 0px 1px 3px 1px rgba(60, 64, 67, 0.15);\n",
              "      fill: #174EA6;\n",
              "    }\n",
              "\n",
              "    .colab-df-buttons div {\n",
              "      margin-bottom: 4px;\n",
              "    }\n",
              "\n",
              "    [theme=dark] .colab-df-convert {\n",
              "      background-color: #3B4455;\n",
              "      fill: #D2E3FC;\n",
              "    }\n",
              "\n",
              "    [theme=dark] .colab-df-convert:hover {\n",
              "      background-color: #434B5C;\n",
              "      box-shadow: 0px 1px 3px 1px rgba(0, 0, 0, 0.15);\n",
              "      filter: drop-shadow(0px 1px 2px rgba(0, 0, 0, 0.3));\n",
              "      fill: #FFFFFF;\n",
              "    }\n",
              "  </style>\n",
              "\n",
              "    <script>\n",
              "      const buttonEl =\n",
              "        document.querySelector('#df-9a99e068-6408-452b-9264-b89d58b9521d button.colab-df-convert');\n",
              "      buttonEl.style.display =\n",
              "        google.colab.kernel.accessAllowed ? 'block' : 'none';\n",
              "\n",
              "      async function convertToInteractive(key) {\n",
              "        const element = document.querySelector('#df-9a99e068-6408-452b-9264-b89d58b9521d');\n",
              "        const dataTable =\n",
              "          await google.colab.kernel.invokeFunction('convertToInteractive',\n",
              "                                                    [key], {});\n",
              "        if (!dataTable) return;\n",
              "\n",
              "        const docLinkHtml = 'Like what you see? Visit the ' +\n",
              "          '<a target=\"_blank\" href=https://colab.research.google.com/notebooks/data_table.ipynb>data table notebook</a>'\n",
              "          + ' to learn more about interactive tables.';\n",
              "        element.innerHTML = '';\n",
              "        dataTable['output_type'] = 'display_data';\n",
              "        await google.colab.output.renderOutput(dataTable, element);\n",
              "        const docLink = document.createElement('div');\n",
              "        docLink.innerHTML = docLinkHtml;\n",
              "        element.appendChild(docLink);\n",
              "      }\n",
              "    </script>\n",
              "  </div>\n",
              "\n",
              "\n",
              "<div id=\"df-5560fe65-d7b7-4935-b828-0f2a2b216338\">\n",
              "  <button class=\"colab-df-quickchart\" onclick=\"quickchart('df-5560fe65-d7b7-4935-b828-0f2a2b216338')\"\n",
              "            title=\"Suggest charts\"\n",
              "            style=\"display:none;\">\n",
              "\n",
              "<svg xmlns=\"http://www.w3.org/2000/svg\" height=\"24px\"viewBox=\"0 0 24 24\"\n",
              "     width=\"24px\">\n",
              "    <g>\n",
              "        <path d=\"M19 3H5c-1.1 0-2 .9-2 2v14c0 1.1.9 2 2 2h14c1.1 0 2-.9 2-2V5c0-1.1-.9-2-2-2zM9 17H7v-7h2v7zm4 0h-2V7h2v10zm4 0h-2v-4h2v4z\"/>\n",
              "    </g>\n",
              "</svg>\n",
              "  </button>\n",
              "\n",
              "<style>\n",
              "  .colab-df-quickchart {\n",
              "      --bg-color: #E8F0FE;\n",
              "      --fill-color: #1967D2;\n",
              "      --hover-bg-color: #E2EBFA;\n",
              "      --hover-fill-color: #174EA6;\n",
              "      --disabled-fill-color: #AAA;\n",
              "      --disabled-bg-color: #DDD;\n",
              "  }\n",
              "\n",
              "  [theme=dark] .colab-df-quickchart {\n",
              "      --bg-color: #3B4455;\n",
              "      --fill-color: #D2E3FC;\n",
              "      --hover-bg-color: #434B5C;\n",
              "      --hover-fill-color: #FFFFFF;\n",
              "      --disabled-bg-color: #3B4455;\n",
              "      --disabled-fill-color: #666;\n",
              "  }\n",
              "\n",
              "  .colab-df-quickchart {\n",
              "    background-color: var(--bg-color);\n",
              "    border: none;\n",
              "    border-radius: 50%;\n",
              "    cursor: pointer;\n",
              "    display: none;\n",
              "    fill: var(--fill-color);\n",
              "    height: 32px;\n",
              "    padding: 0;\n",
              "    width: 32px;\n",
              "  }\n",
              "\n",
              "  .colab-df-quickchart:hover {\n",
              "    background-color: var(--hover-bg-color);\n",
              "    box-shadow: 0 1px 2px rgba(60, 64, 67, 0.3), 0 1px 3px 1px rgba(60, 64, 67, 0.15);\n",
              "    fill: var(--button-hover-fill-color);\n",
              "  }\n",
              "\n",
              "  .colab-df-quickchart-complete:disabled,\n",
              "  .colab-df-quickchart-complete:disabled:hover {\n",
              "    background-color: var(--disabled-bg-color);\n",
              "    fill: var(--disabled-fill-color);\n",
              "    box-shadow: none;\n",
              "  }\n",
              "\n",
              "  .colab-df-spinner {\n",
              "    border: 2px solid var(--fill-color);\n",
              "    border-color: transparent;\n",
              "    border-bottom-color: var(--fill-color);\n",
              "    animation:\n",
              "      spin 1s steps(1) infinite;\n",
              "  }\n",
              "\n",
              "  @keyframes spin {\n",
              "    0% {\n",
              "      border-color: transparent;\n",
              "      border-bottom-color: var(--fill-color);\n",
              "      border-left-color: var(--fill-color);\n",
              "    }\n",
              "    20% {\n",
              "      border-color: transparent;\n",
              "      border-left-color: var(--fill-color);\n",
              "      border-top-color: var(--fill-color);\n",
              "    }\n",
              "    30% {\n",
              "      border-color: transparent;\n",
              "      border-left-color: var(--fill-color);\n",
              "      border-top-color: var(--fill-color);\n",
              "      border-right-color: var(--fill-color);\n",
              "    }\n",
              "    40% {\n",
              "      border-color: transparent;\n",
              "      border-right-color: var(--fill-color);\n",
              "      border-top-color: var(--fill-color);\n",
              "    }\n",
              "    60% {\n",
              "      border-color: transparent;\n",
              "      border-right-color: var(--fill-color);\n",
              "    }\n",
              "    80% {\n",
              "      border-color: transparent;\n",
              "      border-right-color: var(--fill-color);\n",
              "      border-bottom-color: var(--fill-color);\n",
              "    }\n",
              "    90% {\n",
              "      border-color: transparent;\n",
              "      border-bottom-color: var(--fill-color);\n",
              "    }\n",
              "  }\n",
              "</style>\n",
              "\n",
              "  <script>\n",
              "    async function quickchart(key) {\n",
              "      const quickchartButtonEl =\n",
              "        document.querySelector('#' + key + ' button');\n",
              "      quickchartButtonEl.disabled = true;  // To prevent multiple clicks.\n",
              "      quickchartButtonEl.classList.add('colab-df-spinner');\n",
              "      try {\n",
              "        const charts = await google.colab.kernel.invokeFunction(\n",
              "            'suggestCharts', [key], {});\n",
              "      } catch (error) {\n",
              "        console.error('Error during call to suggestCharts:', error);\n",
              "      }\n",
              "      quickchartButtonEl.classList.remove('colab-df-spinner');\n",
              "      quickchartButtonEl.classList.add('colab-df-quickchart-complete');\n",
              "    }\n",
              "    (() => {\n",
              "      let quickchartButtonEl =\n",
              "        document.querySelector('#df-5560fe65-d7b7-4935-b828-0f2a2b216338 button');\n",
              "      quickchartButtonEl.style.display =\n",
              "        google.colab.kernel.accessAllowed ? 'block' : 'none';\n",
              "    })();\n",
              "  </script>\n",
              "</div>\n",
              "\n",
              "    </div>\n",
              "  </div>\n"
            ],
            "text/plain": [
              "   chapter  question_number  \\\n",
              "0        1                1   \n",
              "1        1                2   \n",
              "2        1                3   \n",
              "3        1                4   \n",
              "4        1                5   \n",
              "\n",
              "                                       question_text  \\\n",
              "0  \"\"Do you need these for deep learning?nn- Lots...   \n",
              "1  \"\"Name five areas where deep learning is now t...   \n",
              "2  \"\"What was the name of the first device that w...   \n",
              "3  \"\"Based on the book of the same name, what are...   \n",
              "4  \"\"What were the two theoretical misunderstandi...   \n",
              "\n",
              "                                              answer  is_answerable  \\\n",
              "0  \"\"Lots of math - False\\nLots of data - False\\n...              1   \n",
              "1  \"\"Any five of the following:\\nNatural Language...              1   \n",
              "2    \"\"Mark I perceptron built by Frank Rosenblatt\"\"              1   \n",
              "3  \"\"A set of processing units\\nA state of activa...              1   \n",
              "4  \"\"In 1969, Marvin Minsky and Seymour Papert de...              1   \n",
              "\n",
              "                                            keywords  \\\n",
              "0        \"deep learning, math, data, computers, PhD\"   \n",
              "1                  deep learning, areas, best, world   \n",
              "2   \"neuron, neurons, device, artificial, principle\"   \n",
              "3  \"parallel, distributed, processing, PDP, requi...   \n",
              "4  \"neural, networks, theoretical, misunderstandi...   \n",
              "\n",
              "                                      bm25_c_context  \n",
              "0  ## Deep Learning Is for Everyone\\n\\n```asciido...  \n",
              "1  ## Deep Learning Is for Everyone\\n\\nHere's a l...  \n",
              "2  ## Neural Networks: A Brief History\\n\\n<img al...  \n",
              "3  ## Neural Networks: A Brief History\\n\\nIn fact...  \n",
              "4  ## Neural Networks: A Brief History\\n\\nIn the ...  "
            ]
          },
          "execution_count": 18,
          "metadata": {},
          "output_type": "execute_result"
        }
      ],
      "source": [
        "bm25_c = questions.copy()\n",
        "bm25_c['bm25_c_context'] = results\n",
        "bm25_c.head()"
      ]
    },
    {
      "cell_type": "code",
      "execution_count": 19,
      "metadata": {
        "id": "NWuYnKV5KvAi"
      },
      "outputs": [],
      "source": [
        "bm25_c.to_csv('bm25_c.csv', index=False)"
      ]
    },
    {
      "cell_type": "markdown",
      "metadata": {
        "id": "p4slEnvHLCrv"
      },
      "source": [
        "#### Results"
      ]
    },
    {
      "cell_type": "markdown",
      "metadata": {
        "id": "q016012OLD-e"
      },
      "source": [
        "Here is the **Answer Rate** (by chapter and overall).\n",
        "\n",
        "|Chapter|Name|Description|Answer Rate|\n",
        "|:-:|:-:|:-:|:-:|\n",
        "1|BM25_C|Top-5 1-paragraph chunks|60% (18/30)\n",
        "2|BM25_C|Top-5 1-paragraph chunks|69.2% (18/26)\n",
        "4|BM25_C|Top-5 1-paragraph chunks|71.9% (23/32)\n",
        "8|BM25_C|Top-5 1-paragraph chunks|44.8% (13/29)\n",
        "9|BM25_C|Top-5 1-paragraph chunks|58.6% (17/29)\n",
        "10|BM25_C|Top-5 1-paragraph chunks|61.9% (13/21)\n",
        "13|BM25_C|Top-5 1-paragraph chunks|60% (21/35)\n",
        "**All**|**BM25_C**|**Top-5 1-paragraph chunks**|**60.9% (123/202)**"
      ]
    },
    {
      "cell_type": "markdown",
      "metadata": {
        "id": "pTA3gXLm44wH"
      },
      "source": [
        "### BM25_D: Top-1 3-Paragraph Chunks"
      ]
    },
    {
      "cell_type": "markdown",
      "metadata": {
        "id": "eglN4HnvP_rk"
      },
      "source": [
        "I now want to increase the chunk size (to 3 paragraphs per chunk) before loading them into the database. I do this by iterating over the 1-paragraph chunks in groups of three, removing the header from the 2nd and 3rd chunk in each triplet (to avoid littering the text with additional keyword matches) and then concatenating the three chunks into new 3-paragraph chunks."
      ]
    },
    {
      "cell_type": "code",
      "execution_count": 11,
      "metadata": {
        "id": "ma2Hi2VpXL6F"
      },
      "outputs": [],
      "source": [
        "def combine_chunks(chunks, num_p=3):\n",
        "    combined_chunks = []\n",
        "    current_header = None\n",
        "    current_group = []\n",
        "\n",
        "    for chunk in chunks:\n",
        "        # Extract header from chunk\n",
        "        header = chunk.split('\\n\\n')[0]\n",
        "\n",
        "        if header != current_header:\n",
        "            if len(current_group) > 1:  # Only add if group has content besides header\n",
        "                # Add current group to combined chunks if header changes\n",
        "                combined_chunks.append('\\n\\n'.join(current_group))\n",
        "            # Update current header\n",
        "            current_header = header\n",
        "            # Start new group with header and content of current chunk\n",
        "            current_group = [header, chunk.split('\\n\\n', 1)[1] if len(chunk.split('\\n\\n')) > 1 else '']\n",
        "        else:\n",
        "            if len(current_group) < num_p + 1:  # +1 to account for header\n",
        "                # Add chunk content (without header) to current group\n",
        "                current_group.append(chunk.split('\\n\\n', 1)[1] if len(chunk.split('\\n\\n')) > 1 else '')\n",
        "\n",
        "            if len(current_group) == num_p + 1:  # +1 to account for header\n",
        "                # Add full group to combined chunks\n",
        "                combined_chunks.append('\\n\\n'.join(current_group))\n",
        "                # Reset current group, keeping the header\n",
        "                current_group = [current_header]\n",
        "\n",
        "    if len(current_group) > 1:  # Only add if group has content besides header\n",
        "        # Add any remaining group to combined chunks\n",
        "        combined_chunks.append('\\n\\n'.join(current_group))\n",
        "\n",
        "    return combined_chunks"
      ]
    },
    {
      "cell_type": "code",
      "execution_count": 12,
      "metadata": {
        "id": "M7p9pgPiZ0eT"
      },
      "outputs": [],
      "source": [
        "data_3p = {}\n",
        "\n",
        "for chapter, chunks in data.items():\n",
        "  data_3p[chapter] = combine_chunks(chunks, num_p=3)"
      ]
    },
    {
      "cell_type": "markdown",
      "metadata": {
        "id": "5N0V3mKtaK10"
      },
      "source": [
        "The number of total chunks has gone down from `1967` to `713`, approximately a 3x decrease."
      ]
    },
    {
      "cell_type": "code",
      "execution_count": 13,
      "metadata": {
        "colab": {
          "base_uri": "https://localhost:8080/"
        },
        "id": "-NY0wKumZ9Ur",
        "outputId": "56d9da3e-983d-47d2-bd63-f8e346913d25"
      },
      "outputs": [
        {
          "name": "stdout",
          "output_type": "stream",
          "text": [
            "1 112\n",
            "2 84\n",
            "4 152\n",
            "8 58\n",
            "9 141\n",
            "10 70\n",
            "13 96\n"
          ]
        },
        {
          "data": {
            "text/plain": [
              "713"
            ]
          },
          "execution_count": 13,
          "metadata": {},
          "output_type": "execute_result"
        }
      ],
      "source": [
        "total_chunks = 0\n",
        "\n",
        "for chapter, chunks in data_3p.items():\n",
        "  print(chapter, len(chunks))\n",
        "  total_chunks += len(chunks)\n",
        "\n",
        "total_chunks"
      ]
    },
    {
      "cell_type": "code",
      "execution_count": 271,
      "metadata": {
        "colab": {
          "base_uri": "https://localhost:8080/"
        },
        "id": "-3l88O9UaHdz",
        "outputId": "310c2bec-6ed3-40d4-b269-d7f5b5c2c940"
      },
      "outputs": [
        {
          "data": {
            "text/plain": [
              "2.758765778401122"
            ]
          },
          "execution_count": 271,
          "metadata": {},
          "output_type": "execute_result"
        }
      ],
      "source": [
        "1967/713"
      ]
    },
    {
      "cell_type": "markdown",
      "metadata": {
        "id": "XONZtaGWaUaG"
      },
      "source": [
        "I'll iterate through one of the chapter's chunks and view them one-by-one, comparing them with the original notebook to ensure they are chunked correctly."
      ]
    },
    {
      "cell_type": "code",
      "execution_count": 363,
      "metadata": {
        "id": "3MLJibbdgtCp"
      },
      "outputs": [],
      "source": [
        "ch2_iter = iter(data_3p['2'])"
      ]
    },
    {
      "cell_type": "code",
      "execution_count": 364,
      "metadata": {
        "colab": {
          "base_uri": "https://localhost:8080/"
        },
        "id": "N1mVLLc_dFLx",
        "outputId": "e6ae6acd-1439-4df5-bfb3-eaffdd4b5ef3"
      },
      "outputs": [
        {
          "name": "stdout",
          "output_type": "stream",
          "text": [
            "\n",
            "\n",
            "```python\n",
            "#hide\n",
            "! [ -e /content ] && pip install -Uqq fastbook\n",
            "import fastbook\n",
            "fastbook.setup_book()\n",
            "```\n",
            "\n",
            "```python\n",
            "#hide\n",
            "from fastbook import *\n",
            "from fastai.vision.widgets import *\n",
            "```\n"
          ]
        }
      ],
      "source": [
        "print(next(ch2_iter))"
      ]
    },
    {
      "cell_type": "markdown",
      "metadata": {
        "id": "5Nob-J1AuGPo"
      },
      "source": [
        "With the data reviewed and looking good, I'll load it into the database."
      ]
    },
    {
      "cell_type": "code",
      "execution_count": 14,
      "metadata": {
        "colab": {
          "base_uri": "https://localhost:8080/"
        },
        "id": "OmQPh_TRuJWL",
        "outputId": "0769d4ba-92dc-4ffb-bd58-64986d47dc22"
      },
      "outputs": [
        {
          "name": "stdout",
          "output_type": "stream",
          "text": [
            "Chapter 1: True\n",
            "Chapter 2: True\n",
            "Chapter 4: True\n",
            "Chapter 8: True\n",
            "Chapter 9: True\n",
            "Chapter 10: True\n",
            "Chapter 13: True\n"
          ]
        }
      ],
      "source": [
        "for chapter, chunks in data_3p.items():\n",
        "  print(f\"Chapter {chapter}:\", load_data(chunks, 'fastbook.db', chapter))"
      ]
    },
    {
      "cell_type": "markdown",
      "metadata": {
        "id": "aM2VS-R5uT9t"
      },
      "source": [
        "Now, I can the full text search, returning the top-1 3-paragraph chunk for each question:"
      ]
    },
    {
      "cell_type": "code",
      "execution_count": 366,
      "metadata": {
        "id": "pEqEJg2muYwR"
      },
      "outputs": [],
      "source": [
        "results = db_search(questions, limit=1)"
      ]
    },
    {
      "cell_type": "code",
      "execution_count": 367,
      "metadata": {
        "colab": {
          "base_uri": "https://localhost:8080/"
        },
        "id": "3oiEeEZmuc9N",
        "outputId": "6de0fc93-37c0-4925-a044-cb878cc08337"
      },
      "outputs": [
        {
          "data": {
            "text/plain": [
              "True"
            ]
          },
          "execution_count": 367,
          "metadata": {},
          "output_type": "execute_result"
        }
      ],
      "source": [
        "len(results) == 202"
      ]
    },
    {
      "cell_type": "code",
      "execution_count": 368,
      "metadata": {
        "colab": {
          "base_uri": "https://localhost:8080/",
          "height": 328
        },
        "id": "0PEX5r4Iueqp",
        "outputId": "608ddb20-476d-47bc-d66e-5859888a65d6"
      },
      "outputs": [
        {
          "data": {
            "application/vnd.google.colaboratory.intrinsic+json": {
              "summary": "{\n  \"name\": \"bm25_d\",\n  \"rows\": 202,\n  \"fields\": [\n    {\n      \"column\": \"chapter\",\n      \"properties\": {\n        \"dtype\": \"number\",\n        \"std\": 4,\n        \"min\": 1,\n        \"max\": 13,\n        \"num_unique_values\": 7,\n        \"samples\": [\n          1,\n          2,\n          10\n        ],\n        \"semantic_type\": \"\",\n        \"description\": \"\"\n      }\n    },\n    {\n      \"column\": \"question_number\",\n      \"properties\": {\n        \"dtype\": \"number\",\n        \"std\": 9,\n        \"min\": 1,\n        \"max\": 40,\n        \"num_unique_values\": 40,\n        \"samples\": [\n          23,\n          20,\n          19\n        ],\n        \"semantic_type\": \"\",\n        \"description\": \"\"\n      }\n    },\n    {\n      \"column\": \"question_text\",\n      \"properties\": {\n        \"dtype\": \"string\",\n        \"num_unique_values\": 202,\n        \"samples\": [\n          \"\\\"\\\"What is an embedding matrix?\\\"\\\"\",\n          \"\\\"\\\"What is the difference between classification and regression?\\\"\\\"\",\n          \"\\\"\\\"Provide an example of where the bear classification model might work poorly in production, due to structural or style differences in the training data.\\\"\\\"\"\n        ],\n        \"semantic_type\": \"\",\n        \"description\": \"\"\n      }\n    },\n    {\n      \"column\": \"answer\",\n      \"properties\": {\n        \"dtype\": \"string\",\n        \"num_unique_values\": 202,\n        \"samples\": [\n          \"\\\"\\\"It is what you multiply an embedding with, and in the case of this collaborative filtering problem, is learned through training.\\\"\\\"\",\n          \"\\\"\\\"Classification is focused on predicting a class or category (ex: type of pet). Regression is focused on predicting a numeric quantity (ex: age of pet).\\\"\\\"\",\n          \"\\\"\\\"Working with video data instead of images\\nHandling nighttime images, which may not appear in this dataset\\nDealing with low-resolution camera images\\nEnsuring results are returned fast enough to be useful in practice\\nRecognizing bears in positions that are rarely seen in photos that people post online (for example from behind, partially covered by bushes, or when a long way away from the camera)\\\"\\\"\"\n        ],\n        \"semantic_type\": \"\",\n        \"description\": \"\"\n      }\n    },\n    {\n      \"column\": \"is_answerable\",\n      \"properties\": {\n        \"dtype\": \"number\",\n        \"std\": 0,\n        \"min\": 1,\n        \"max\": 1,\n        \"num_unique_values\": 1,\n        \"samples\": [\n          1\n        ],\n        \"semantic_type\": \"\",\n        \"description\": \"\"\n      }\n    },\n    {\n      \"column\": \"keywords\",\n      \"properties\": {\n        \"dtype\": \"string\",\n        \"num_unique_values\": 202,\n        \"samples\": [\n          \"\\\"embedding, matrix, matrices, embeddings\\\"\"\n        ],\n        \"semantic_type\": \"\",\n        \"description\": \"\"\n      }\n    },\n    {\n      \"column\": \"bm25_d_context\",\n      \"properties\": {\n        \"dtype\": \"string\",\n        \"num_unique_values\": 161,\n        \"samples\": [\n          \"### Creating the Decision Tree\\n\\nLet's now have the decision tree algorithm build a bigger tree. Here, we are not passing in any stopping criteria such as `max_leaf_nodes`:\\n\\n```python\\nm = DecisionTreeRegressor()\\nm.fit(xs, y);\\n```\\n\\nWe'll create a little function to check the root mean squared error of our model (`m_rmse`), since that's how the competition was judged:\"\n        ],\n        \"semantic_type\": \"\",\n        \"description\": \"\"\n      }\n    }\n  ]\n}",
              "type": "dataframe",
              "variable_name": "bm25_d"
            },
            "text/html": [
              "\n",
              "  <div id=\"df-280b69b4-78ea-48d3-ba5e-c44267c6a0ea\" class=\"colab-df-container\">\n",
              "    <div>\n",
              "<style scoped>\n",
              "    .dataframe tbody tr th:only-of-type {\n",
              "        vertical-align: middle;\n",
              "    }\n",
              "\n",
              "    .dataframe tbody tr th {\n",
              "        vertical-align: top;\n",
              "    }\n",
              "\n",
              "    .dataframe thead th {\n",
              "        text-align: right;\n",
              "    }\n",
              "</style>\n",
              "<table border=\"1\" class=\"dataframe\">\n",
              "  <thead>\n",
              "    <tr style=\"text-align: right;\">\n",
              "      <th></th>\n",
              "      <th>chapter</th>\n",
              "      <th>question_number</th>\n",
              "      <th>question_text</th>\n",
              "      <th>answer</th>\n",
              "      <th>is_answerable</th>\n",
              "      <th>keywords</th>\n",
              "      <th>bm25_d_context</th>\n",
              "    </tr>\n",
              "  </thead>\n",
              "  <tbody>\n",
              "    <tr>\n",
              "      <th>0</th>\n",
              "      <td>1</td>\n",
              "      <td>1</td>\n",
              "      <td>\"\"Do you need these for deep learning?nn- Lots...</td>\n",
              "      <td>\"\"Lots of math - False\\nLots of data - False\\n...</td>\n",
              "      <td>1</td>\n",
              "      <td>\"deep learning, math, data, computers, PhD\"</td>\n",
              "      <td>## Deep Learning Is for Everyone\\n\\nA lot of p...</td>\n",
              "    </tr>\n",
              "    <tr>\n",
              "      <th>1</th>\n",
              "      <td>1</td>\n",
              "      <td>2</td>\n",
              "      <td>\"\"Name five areas where deep learning is now t...</td>\n",
              "      <td>\"\"Any five of the following:\\nNatural Language...</td>\n",
              "      <td>1</td>\n",
              "      <td>deep learning, areas, best, world</td>\n",
              "      <td>## Deep Learning Is for Everyone\\n\\nDeep learn...</td>\n",
              "    </tr>\n",
              "    <tr>\n",
              "      <th>2</th>\n",
              "      <td>1</td>\n",
              "      <td>3</td>\n",
              "      <td>\"\"What was the name of the first device that w...</td>\n",
              "      <td>\"\"Mark I perceptron built by Frank Rosenblatt\"\"</td>\n",
              "      <td>1</td>\n",
              "      <td>\"neuron, neurons, device, artificial, principle\"</td>\n",
              "      <td>## Neural Networks: A Brief History\\n\\n&lt;img al...</td>\n",
              "    </tr>\n",
              "    <tr>\n",
              "      <th>3</th>\n",
              "      <td>1</td>\n",
              "      <td>4</td>\n",
              "      <td>\"\"Based on the book of the same name, what are...</td>\n",
              "      <td>\"\"A set of processing units\\nA state of activa...</td>\n",
              "      <td>1</td>\n",
              "      <td>\"parallel, distributed, processing, PDP, requi...</td>\n",
              "      <td>## Neural Networks: A Brief History\\n\\nIn fact...</td>\n",
              "    </tr>\n",
              "    <tr>\n",
              "      <th>4</th>\n",
              "      <td>1</td>\n",
              "      <td>5</td>\n",
              "      <td>\"\"What were the two theoretical misunderstandi...</td>\n",
              "      <td>\"\"In 1969, Marvin Minsky and Seymour Papert de...</td>\n",
              "      <td>1</td>\n",
              "      <td>\"neural, networks, theoretical, misunderstandi...</td>\n",
              "      <td>## Neural Networks: A Brief History\\n\\nIn the ...</td>\n",
              "    </tr>\n",
              "  </tbody>\n",
              "</table>\n",
              "</div>\n",
              "    <div class=\"colab-df-buttons\">\n",
              "\n",
              "  <div class=\"colab-df-container\">\n",
              "    <button class=\"colab-df-convert\" onclick=\"convertToInteractive('df-280b69b4-78ea-48d3-ba5e-c44267c6a0ea')\"\n",
              "            title=\"Convert this dataframe to an interactive table.\"\n",
              "            style=\"display:none;\">\n",
              "\n",
              "  <svg xmlns=\"http://www.w3.org/2000/svg\" height=\"24px\" viewBox=\"0 -960 960 960\">\n",
              "    <path d=\"M120-120v-720h720v720H120Zm60-500h600v-160H180v160Zm220 220h160v-160H400v160Zm0 220h160v-160H400v160ZM180-400h160v-160H180v160Zm440 0h160v-160H620v160ZM180-180h160v-160H180v160Zm440 0h160v-160H620v160Z\"/>\n",
              "  </svg>\n",
              "    </button>\n",
              "\n",
              "  <style>\n",
              "    .colab-df-container {\n",
              "      display:flex;\n",
              "      gap: 12px;\n",
              "    }\n",
              "\n",
              "    .colab-df-convert {\n",
              "      background-color: #E8F0FE;\n",
              "      border: none;\n",
              "      border-radius: 50%;\n",
              "      cursor: pointer;\n",
              "      display: none;\n",
              "      fill: #1967D2;\n",
              "      height: 32px;\n",
              "      padding: 0 0 0 0;\n",
              "      width: 32px;\n",
              "    }\n",
              "\n",
              "    .colab-df-convert:hover {\n",
              "      background-color: #E2EBFA;\n",
              "      box-shadow: 0px 1px 2px rgba(60, 64, 67, 0.3), 0px 1px 3px 1px rgba(60, 64, 67, 0.15);\n",
              "      fill: #174EA6;\n",
              "    }\n",
              "\n",
              "    .colab-df-buttons div {\n",
              "      margin-bottom: 4px;\n",
              "    }\n",
              "\n",
              "    [theme=dark] .colab-df-convert {\n",
              "      background-color: #3B4455;\n",
              "      fill: #D2E3FC;\n",
              "    }\n",
              "\n",
              "    [theme=dark] .colab-df-convert:hover {\n",
              "      background-color: #434B5C;\n",
              "      box-shadow: 0px 1px 3px 1px rgba(0, 0, 0, 0.15);\n",
              "      filter: drop-shadow(0px 1px 2px rgba(0, 0, 0, 0.3));\n",
              "      fill: #FFFFFF;\n",
              "    }\n",
              "  </style>\n",
              "\n",
              "    <script>\n",
              "      const buttonEl =\n",
              "        document.querySelector('#df-280b69b4-78ea-48d3-ba5e-c44267c6a0ea button.colab-df-convert');\n",
              "      buttonEl.style.display =\n",
              "        google.colab.kernel.accessAllowed ? 'block' : 'none';\n",
              "\n",
              "      async function convertToInteractive(key) {\n",
              "        const element = document.querySelector('#df-280b69b4-78ea-48d3-ba5e-c44267c6a0ea');\n",
              "        const dataTable =\n",
              "          await google.colab.kernel.invokeFunction('convertToInteractive',\n",
              "                                                    [key], {});\n",
              "        if (!dataTable) return;\n",
              "\n",
              "        const docLinkHtml = 'Like what you see? Visit the ' +\n",
              "          '<a target=\"_blank\" href=https://colab.research.google.com/notebooks/data_table.ipynb>data table notebook</a>'\n",
              "          + ' to learn more about interactive tables.';\n",
              "        element.innerHTML = '';\n",
              "        dataTable['output_type'] = 'display_data';\n",
              "        await google.colab.output.renderOutput(dataTable, element);\n",
              "        const docLink = document.createElement('div');\n",
              "        docLink.innerHTML = docLinkHtml;\n",
              "        element.appendChild(docLink);\n",
              "      }\n",
              "    </script>\n",
              "  </div>\n",
              "\n",
              "\n",
              "<div id=\"df-b1b827c6-776a-4527-8b25-1860778c8675\">\n",
              "  <button class=\"colab-df-quickchart\" onclick=\"quickchart('df-b1b827c6-776a-4527-8b25-1860778c8675')\"\n",
              "            title=\"Suggest charts\"\n",
              "            style=\"display:none;\">\n",
              "\n",
              "<svg xmlns=\"http://www.w3.org/2000/svg\" height=\"24px\"viewBox=\"0 0 24 24\"\n",
              "     width=\"24px\">\n",
              "    <g>\n",
              "        <path d=\"M19 3H5c-1.1 0-2 .9-2 2v14c0 1.1.9 2 2 2h14c1.1 0 2-.9 2-2V5c0-1.1-.9-2-2-2zM9 17H7v-7h2v7zm4 0h-2V7h2v10zm4 0h-2v-4h2v4z\"/>\n",
              "    </g>\n",
              "</svg>\n",
              "  </button>\n",
              "\n",
              "<style>\n",
              "  .colab-df-quickchart {\n",
              "      --bg-color: #E8F0FE;\n",
              "      --fill-color: #1967D2;\n",
              "      --hover-bg-color: #E2EBFA;\n",
              "      --hover-fill-color: #174EA6;\n",
              "      --disabled-fill-color: #AAA;\n",
              "      --disabled-bg-color: #DDD;\n",
              "  }\n",
              "\n",
              "  [theme=dark] .colab-df-quickchart {\n",
              "      --bg-color: #3B4455;\n",
              "      --fill-color: #D2E3FC;\n",
              "      --hover-bg-color: #434B5C;\n",
              "      --hover-fill-color: #FFFFFF;\n",
              "      --disabled-bg-color: #3B4455;\n",
              "      --disabled-fill-color: #666;\n",
              "  }\n",
              "\n",
              "  .colab-df-quickchart {\n",
              "    background-color: var(--bg-color);\n",
              "    border: none;\n",
              "    border-radius: 50%;\n",
              "    cursor: pointer;\n",
              "    display: none;\n",
              "    fill: var(--fill-color);\n",
              "    height: 32px;\n",
              "    padding: 0;\n",
              "    width: 32px;\n",
              "  }\n",
              "\n",
              "  .colab-df-quickchart:hover {\n",
              "    background-color: var(--hover-bg-color);\n",
              "    box-shadow: 0 1px 2px rgba(60, 64, 67, 0.3), 0 1px 3px 1px rgba(60, 64, 67, 0.15);\n",
              "    fill: var(--button-hover-fill-color);\n",
              "  }\n",
              "\n",
              "  .colab-df-quickchart-complete:disabled,\n",
              "  .colab-df-quickchart-complete:disabled:hover {\n",
              "    background-color: var(--disabled-bg-color);\n",
              "    fill: var(--disabled-fill-color);\n",
              "    box-shadow: none;\n",
              "  }\n",
              "\n",
              "  .colab-df-spinner {\n",
              "    border: 2px solid var(--fill-color);\n",
              "    border-color: transparent;\n",
              "    border-bottom-color: var(--fill-color);\n",
              "    animation:\n",
              "      spin 1s steps(1) infinite;\n",
              "  }\n",
              "\n",
              "  @keyframes spin {\n",
              "    0% {\n",
              "      border-color: transparent;\n",
              "      border-bottom-color: var(--fill-color);\n",
              "      border-left-color: var(--fill-color);\n",
              "    }\n",
              "    20% {\n",
              "      border-color: transparent;\n",
              "      border-left-color: var(--fill-color);\n",
              "      border-top-color: var(--fill-color);\n",
              "    }\n",
              "    30% {\n",
              "      border-color: transparent;\n",
              "      border-left-color: var(--fill-color);\n",
              "      border-top-color: var(--fill-color);\n",
              "      border-right-color: var(--fill-color);\n",
              "    }\n",
              "    40% {\n",
              "      border-color: transparent;\n",
              "      border-right-color: var(--fill-color);\n",
              "      border-top-color: var(--fill-color);\n",
              "    }\n",
              "    60% {\n",
              "      border-color: transparent;\n",
              "      border-right-color: var(--fill-color);\n",
              "    }\n",
              "    80% {\n",
              "      border-color: transparent;\n",
              "      border-right-color: var(--fill-color);\n",
              "      border-bottom-color: var(--fill-color);\n",
              "    }\n",
              "    90% {\n",
              "      border-color: transparent;\n",
              "      border-bottom-color: var(--fill-color);\n",
              "    }\n",
              "  }\n",
              "</style>\n",
              "\n",
              "  <script>\n",
              "    async function quickchart(key) {\n",
              "      const quickchartButtonEl =\n",
              "        document.querySelector('#' + key + ' button');\n",
              "      quickchartButtonEl.disabled = true;  // To prevent multiple clicks.\n",
              "      quickchartButtonEl.classList.add('colab-df-spinner');\n",
              "      try {\n",
              "        const charts = await google.colab.kernel.invokeFunction(\n",
              "            'suggestCharts', [key], {});\n",
              "      } catch (error) {\n",
              "        console.error('Error during call to suggestCharts:', error);\n",
              "      }\n",
              "      quickchartButtonEl.classList.remove('colab-df-spinner');\n",
              "      quickchartButtonEl.classList.add('colab-df-quickchart-complete');\n",
              "    }\n",
              "    (() => {\n",
              "      let quickchartButtonEl =\n",
              "        document.querySelector('#df-b1b827c6-776a-4527-8b25-1860778c8675 button');\n",
              "      quickchartButtonEl.style.display =\n",
              "        google.colab.kernel.accessAllowed ? 'block' : 'none';\n",
              "    })();\n",
              "  </script>\n",
              "</div>\n",
              "\n",
              "    </div>\n",
              "  </div>\n"
            ],
            "text/plain": [
              "   chapter  question_number  \\\n",
              "0        1                1   \n",
              "1        1                2   \n",
              "2        1                3   \n",
              "3        1                4   \n",
              "4        1                5   \n",
              "\n",
              "                                       question_text  \\\n",
              "0  \"\"Do you need these for deep learning?nn- Lots...   \n",
              "1  \"\"Name five areas where deep learning is now t...   \n",
              "2  \"\"What was the name of the first device that w...   \n",
              "3  \"\"Based on the book of the same name, what are...   \n",
              "4  \"\"What were the two theoretical misunderstandi...   \n",
              "\n",
              "                                              answer  is_answerable  \\\n",
              "0  \"\"Lots of math - False\\nLots of data - False\\n...              1   \n",
              "1  \"\"Any five of the following:\\nNatural Language...              1   \n",
              "2    \"\"Mark I perceptron built by Frank Rosenblatt\"\"              1   \n",
              "3  \"\"A set of processing units\\nA state of activa...              1   \n",
              "4  \"\"In 1969, Marvin Minsky and Seymour Papert de...              1   \n",
              "\n",
              "                                            keywords  \\\n",
              "0        \"deep learning, math, data, computers, PhD\"   \n",
              "1                  deep learning, areas, best, world   \n",
              "2   \"neuron, neurons, device, artificial, principle\"   \n",
              "3  \"parallel, distributed, processing, PDP, requi...   \n",
              "4  \"neural, networks, theoretical, misunderstandi...   \n",
              "\n",
              "                                      bm25_d_context  \n",
              "0  ## Deep Learning Is for Everyone\\n\\nA lot of p...  \n",
              "1  ## Deep Learning Is for Everyone\\n\\nDeep learn...  \n",
              "2  ## Neural Networks: A Brief History\\n\\n<img al...  \n",
              "3  ## Neural Networks: A Brief History\\n\\nIn fact...  \n",
              "4  ## Neural Networks: A Brief History\\n\\nIn the ...  "
            ]
          },
          "execution_count": 368,
          "metadata": {},
          "output_type": "execute_result"
        }
      ],
      "source": [
        "bm25_d = questions.copy()\n",
        "bm25_d['bm25_d_context'] = results\n",
        "bm25_d.head()"
      ]
    },
    {
      "cell_type": "code",
      "execution_count": 369,
      "metadata": {
        "id": "WKagLa63upur"
      },
      "outputs": [],
      "source": [
        "bm25_d.to_csv('bm25_d.csv', index=False)"
      ]
    },
    {
      "cell_type": "markdown",
      "metadata": {
        "id": "QAQERJtNXxQV"
      },
      "source": [
        "#### Results"
      ]
    },
    {
      "cell_type": "markdown",
      "metadata": {
        "id": "baXKd-DJXyIB"
      },
      "source": [
        "Here is the **Answer Rate** (by chapter and overall).\n",
        "\n",
        "|Chapter|Name|Description|Answer Rate|\n",
        "|:-:|:-:|:-:|:-:|\n",
        "1|BM25_D|Top-1 3-paragraph chunks|63.3% (19/30)\n",
        "2|BM25_D|Top-1 3-paragraph chunks|46.2% (12/26)\n",
        "4|BM25_D|Top-1 3-paragraph chunks|31.3% (10/32)\n",
        "8|BM25_D|Top-1 3-paragraph chunks|31% (9/29)\n",
        "9|BM25_D|Top-1 3-paragraph chunks|34.5% (10/29)\n",
        "10|BM25_D|Top-1 3-paragraph chunks|38% (8/21)\n",
        "13|BM25_D|Top-1 3-paragraph chunks|42.9% (15/35)\n",
        "**All**|**BM25_D**|**Top-1 3-paragraph chunks**|**41.1% (83/202)**"
      ]
    },
    {
      "cell_type": "markdown",
      "metadata": {
        "id": "e-3nXzW9s1i6"
      },
      "source": [
        "### BM_25E: Top-3 3-Paragraph Chunks"
      ]
    },
    {
      "cell_type": "markdown",
      "metadata": {
        "id": "W2UYeybes5g9"
      },
      "source": [
        "I'll use the same loaded database (3-paragraph chunks) and full text search it with my keywords, setting `LIMIT = 3` to get the top-3 chunks."
      ]
    },
    {
      "cell_type": "code",
      "execution_count": 28,
      "metadata": {
        "colab": {
          "base_uri": "https://localhost:8080/"
        },
        "id": "vVakzs-LtDSK",
        "outputId": "78ba29f3-24dd-40da-a8a8-bd4577b583c6"
      },
      "outputs": [
        {
          "data": {
            "text/plain": [
              "True"
            ]
          },
          "execution_count": 28,
          "metadata": {},
          "output_type": "execute_result"
        }
      ],
      "source": [
        "results = db_search(questions, limit=3)\n",
        "len(results) == 202"
      ]
    },
    {
      "cell_type": "code",
      "execution_count": 30,
      "metadata": {
        "colab": {
          "base_uri": "https://localhost:8080/",
          "height": 328
        },
        "id": "-u9jlptRtFwW",
        "outputId": "3adec362-2257-4f0b-f82e-4abf1d6b0a7d"
      },
      "outputs": [
        {
          "data": {
            "application/vnd.google.colaboratory.intrinsic+json": {
              "summary": "{\n  \"name\": \"bm25_e\",\n  \"rows\": 202,\n  \"fields\": [\n    {\n      \"column\": \"chapter\",\n      \"properties\": {\n        \"dtype\": \"number\",\n        \"std\": 4,\n        \"min\": 1,\n        \"max\": 13,\n        \"num_unique_values\": 7,\n        \"samples\": [\n          1,\n          2,\n          10\n        ],\n        \"semantic_type\": \"\",\n        \"description\": \"\"\n      }\n    },\n    {\n      \"column\": \"question_number\",\n      \"properties\": {\n        \"dtype\": \"number\",\n        \"std\": 9,\n        \"min\": 1,\n        \"max\": 40,\n        \"num_unique_values\": 40,\n        \"samples\": [\n          23,\n          20,\n          19\n        ],\n        \"semantic_type\": \"\",\n        \"description\": \"\"\n      }\n    },\n    {\n      \"column\": \"question_text\",\n      \"properties\": {\n        \"dtype\": \"string\",\n        \"num_unique_values\": 202,\n        \"samples\": [\n          \"\\\"\\\"What is an embedding matrix?\\\"\\\"\",\n          \"\\\"\\\"What is the difference between classification and regression?\\\"\\\"\",\n          \"\\\"\\\"Provide an example of where the bear classification model might work poorly in production, due to structural or style differences in the training data.\\\"\\\"\"\n        ],\n        \"semantic_type\": \"\",\n        \"description\": \"\"\n      }\n    },\n    {\n      \"column\": \"answer\",\n      \"properties\": {\n        \"dtype\": \"string\",\n        \"num_unique_values\": 202,\n        \"samples\": [\n          \"\\\"\\\"It is what you multiply an embedding with, and in the case of this collaborative filtering problem, is learned through training.\\\"\\\"\",\n          \"\\\"\\\"Classification is focused on predicting a class or category (ex: type of pet). Regression is focused on predicting a numeric quantity (ex: age of pet).\\\"\\\"\",\n          \"\\\"\\\"Working with video data instead of images\\nHandling nighttime images, which may not appear in this dataset\\nDealing with low-resolution camera images\\nEnsuring results are returned fast enough to be useful in practice\\nRecognizing bears in positions that are rarely seen in photos that people post online (for example from behind, partially covered by bushes, or when a long way away from the camera)\\\"\\\"\"\n        ],\n        \"semantic_type\": \"\",\n        \"description\": \"\"\n      }\n    },\n    {\n      \"column\": \"is_answerable\",\n      \"properties\": {\n        \"dtype\": \"number\",\n        \"std\": 0,\n        \"min\": 1,\n        \"max\": 1,\n        \"num_unique_values\": 1,\n        \"samples\": [\n          1\n        ],\n        \"semantic_type\": \"\",\n        \"description\": \"\"\n      }\n    },\n    {\n      \"column\": \"keywords\",\n      \"properties\": {\n        \"dtype\": \"string\",\n        \"num_unique_values\": 202,\n        \"samples\": [\n          \"\\\"embedding, matrix, matrices, embeddings\\\"\"\n        ],\n        \"semantic_type\": \"\",\n        \"description\": \"\"\n      }\n    },\n    {\n      \"column\": \"bm25_e_context\",\n      \"properties\": {\n        \"dtype\": \"string\",\n        \"num_unique_values\": 199,\n        \"samples\": [\n          \"### Creating an Optimizer\\n\\nTo create a `Learner` without using an application (such as `vision_learner`) we need to pass in all the elements that we've created in this chapter: the `DataLoaders`, the model, the optimization function (which will be passed the parameters), the loss function, and optionally any metrics to print:\\n\\n```python\\nlearn = Learner(dls, nn.Linear(28*28,1), opt_func=SGD,\\n                loss_func=mnist_loss, metrics=batch_accuracy)\\n```\\n\\nNow we can call `fit`:\\n\\n### Calculating Gradients\\n\\n```python\\nyt.backward()\\n```\\n\\nThe \\\"backward\\\" here refers to *backpropagation*, which is the name given to the process of calculating the derivative of each layer. We'll see how this is done exactly in chapter <<chapter_foundations>>, when we calculate the gradients of a deep neural net from scratch. This is called the \\\"backward pass\\\" of the network, as opposed to the \\\"forward pass,\\\" which is where the activations are calculated. Life would probably be easier if `backward` was just called `calculate_grad`, but deep learning folks really do like to add jargon everywhere they can!\\n\\nWe can now view the gradients by checking the `grad` attribute of our tensor:\\n\\n### NumPy Arrays and PyTorch Tensors\\n\\nTo create an array or tensor, pass a list (or list of lists, or list of lists of lists, etc.) to `array()` or `tensor()`:\\n\\n```python\\ndata = [[1,2,3],[4,5,6]]\\narr = array (data)\\ntns = tensor(data)\\n```\\n\\n```python\\narr  # numpy\\n```\\n\\nOutput:\\narray([[1, 2, 3],\\n       [4, 5, 6]])\"\n        ],\n        \"semantic_type\": \"\",\n        \"description\": \"\"\n      }\n    }\n  ]\n}",
              "type": "dataframe",
              "variable_name": "bm25_e"
            },
            "text/html": [
              "\n",
              "  <div id=\"df-a4c95da4-2946-4786-babe-d0bfaebf81bd\" class=\"colab-df-container\">\n",
              "    <div>\n",
              "<style scoped>\n",
              "    .dataframe tbody tr th:only-of-type {\n",
              "        vertical-align: middle;\n",
              "    }\n",
              "\n",
              "    .dataframe tbody tr th {\n",
              "        vertical-align: top;\n",
              "    }\n",
              "\n",
              "    .dataframe thead th {\n",
              "        text-align: right;\n",
              "    }\n",
              "</style>\n",
              "<table border=\"1\" class=\"dataframe\">\n",
              "  <thead>\n",
              "    <tr style=\"text-align: right;\">\n",
              "      <th></th>\n",
              "      <th>chapter</th>\n",
              "      <th>question_number</th>\n",
              "      <th>question_text</th>\n",
              "      <th>answer</th>\n",
              "      <th>is_answerable</th>\n",
              "      <th>keywords</th>\n",
              "      <th>bm25_e_context</th>\n",
              "    </tr>\n",
              "  </thead>\n",
              "  <tbody>\n",
              "    <tr>\n",
              "      <th>0</th>\n",
              "      <td>1</td>\n",
              "      <td>1</td>\n",
              "      <td>\"\"Do you need these for deep learning?nn- Lots...</td>\n",
              "      <td>\"\"Lots of math - False\\nLots of data - False\\n...</td>\n",
              "      <td>1</td>\n",
              "      <td>\"deep learning, math, data, computers, PhD\"</td>\n",
              "      <td>## Deep Learning Is for Everyone\\n\\nA lot of p...</td>\n",
              "    </tr>\n",
              "    <tr>\n",
              "      <th>1</th>\n",
              "      <td>1</td>\n",
              "      <td>2</td>\n",
              "      <td>\"\"Name five areas where deep learning is now t...</td>\n",
              "      <td>\"\"Any five of the following:\\nNatural Language...</td>\n",
              "      <td>1</td>\n",
              "      <td>deep learning, areas, best, world</td>\n",
              "      <td>## Deep Learning Is for Everyone\\n\\nDeep learn...</td>\n",
              "    </tr>\n",
              "    <tr>\n",
              "      <th>2</th>\n",
              "      <td>1</td>\n",
              "      <td>3</td>\n",
              "      <td>\"\"What was the name of the first device that w...</td>\n",
              "      <td>\"\"Mark I perceptron built by Frank Rosenblatt\"\"</td>\n",
              "      <td>1</td>\n",
              "      <td>\"neuron, neurons, device, artificial, principle\"</td>\n",
              "      <td>## Neural Networks: A Brief History\\n\\n&lt;img al...</td>\n",
              "    </tr>\n",
              "    <tr>\n",
              "      <th>3</th>\n",
              "      <td>1</td>\n",
              "      <td>4</td>\n",
              "      <td>\"\"Based on the book of the same name, what are...</td>\n",
              "      <td>\"\"A set of processing units\\nA state of activa...</td>\n",
              "      <td>1</td>\n",
              "      <td>\"parallel, distributed, processing, PDP, requi...</td>\n",
              "      <td>## Neural Networks: A Brief History\\n\\nIn fact...</td>\n",
              "    </tr>\n",
              "    <tr>\n",
              "      <th>4</th>\n",
              "      <td>1</td>\n",
              "      <td>5</td>\n",
              "      <td>\"\"What were the two theoretical misunderstandi...</td>\n",
              "      <td>\"\"In 1969, Marvin Minsky and Seymour Papert de...</td>\n",
              "      <td>1</td>\n",
              "      <td>\"neural, networks, theoretical, misunderstandi...</td>\n",
              "      <td>## Neural Networks: A Brief History\\n\\nIn the ...</td>\n",
              "    </tr>\n",
              "  </tbody>\n",
              "</table>\n",
              "</div>\n",
              "    <div class=\"colab-df-buttons\">\n",
              "\n",
              "  <div class=\"colab-df-container\">\n",
              "    <button class=\"colab-df-convert\" onclick=\"convertToInteractive('df-a4c95da4-2946-4786-babe-d0bfaebf81bd')\"\n",
              "            title=\"Convert this dataframe to an interactive table.\"\n",
              "            style=\"display:none;\">\n",
              "\n",
              "  <svg xmlns=\"http://www.w3.org/2000/svg\" height=\"24px\" viewBox=\"0 -960 960 960\">\n",
              "    <path d=\"M120-120v-720h720v720H120Zm60-500h600v-160H180v160Zm220 220h160v-160H400v160Zm0 220h160v-160H400v160ZM180-400h160v-160H180v160Zm440 0h160v-160H620v160ZM180-180h160v-160H180v160Zm440 0h160v-160H620v160Z\"/>\n",
              "  </svg>\n",
              "    </button>\n",
              "\n",
              "  <style>\n",
              "    .colab-df-container {\n",
              "      display:flex;\n",
              "      gap: 12px;\n",
              "    }\n",
              "\n",
              "    .colab-df-convert {\n",
              "      background-color: #E8F0FE;\n",
              "      border: none;\n",
              "      border-radius: 50%;\n",
              "      cursor: pointer;\n",
              "      display: none;\n",
              "      fill: #1967D2;\n",
              "      height: 32px;\n",
              "      padding: 0 0 0 0;\n",
              "      width: 32px;\n",
              "    }\n",
              "\n",
              "    .colab-df-convert:hover {\n",
              "      background-color: #E2EBFA;\n",
              "      box-shadow: 0px 1px 2px rgba(60, 64, 67, 0.3), 0px 1px 3px 1px rgba(60, 64, 67, 0.15);\n",
              "      fill: #174EA6;\n",
              "    }\n",
              "\n",
              "    .colab-df-buttons div {\n",
              "      margin-bottom: 4px;\n",
              "    }\n",
              "\n",
              "    [theme=dark] .colab-df-convert {\n",
              "      background-color: #3B4455;\n",
              "      fill: #D2E3FC;\n",
              "    }\n",
              "\n",
              "    [theme=dark] .colab-df-convert:hover {\n",
              "      background-color: #434B5C;\n",
              "      box-shadow: 0px 1px 3px 1px rgba(0, 0, 0, 0.15);\n",
              "      filter: drop-shadow(0px 1px 2px rgba(0, 0, 0, 0.3));\n",
              "      fill: #FFFFFF;\n",
              "    }\n",
              "  </style>\n",
              "\n",
              "    <script>\n",
              "      const buttonEl =\n",
              "        document.querySelector('#df-a4c95da4-2946-4786-babe-d0bfaebf81bd button.colab-df-convert');\n",
              "      buttonEl.style.display =\n",
              "        google.colab.kernel.accessAllowed ? 'block' : 'none';\n",
              "\n",
              "      async function convertToInteractive(key) {\n",
              "        const element = document.querySelector('#df-a4c95da4-2946-4786-babe-d0bfaebf81bd');\n",
              "        const dataTable =\n",
              "          await google.colab.kernel.invokeFunction('convertToInteractive',\n",
              "                                                    [key], {});\n",
              "        if (!dataTable) return;\n",
              "\n",
              "        const docLinkHtml = 'Like what you see? Visit the ' +\n",
              "          '<a target=\"_blank\" href=https://colab.research.google.com/notebooks/data_table.ipynb>data table notebook</a>'\n",
              "          + ' to learn more about interactive tables.';\n",
              "        element.innerHTML = '';\n",
              "        dataTable['output_type'] = 'display_data';\n",
              "        await google.colab.output.renderOutput(dataTable, element);\n",
              "        const docLink = document.createElement('div');\n",
              "        docLink.innerHTML = docLinkHtml;\n",
              "        element.appendChild(docLink);\n",
              "      }\n",
              "    </script>\n",
              "  </div>\n",
              "\n",
              "\n",
              "<div id=\"df-c725005f-6627-4f2b-9e18-8a4f137b15e9\">\n",
              "  <button class=\"colab-df-quickchart\" onclick=\"quickchart('df-c725005f-6627-4f2b-9e18-8a4f137b15e9')\"\n",
              "            title=\"Suggest charts\"\n",
              "            style=\"display:none;\">\n",
              "\n",
              "<svg xmlns=\"http://www.w3.org/2000/svg\" height=\"24px\"viewBox=\"0 0 24 24\"\n",
              "     width=\"24px\">\n",
              "    <g>\n",
              "        <path d=\"M19 3H5c-1.1 0-2 .9-2 2v14c0 1.1.9 2 2 2h14c1.1 0 2-.9 2-2V5c0-1.1-.9-2-2-2zM9 17H7v-7h2v7zm4 0h-2V7h2v10zm4 0h-2v-4h2v4z\"/>\n",
              "    </g>\n",
              "</svg>\n",
              "  </button>\n",
              "\n",
              "<style>\n",
              "  .colab-df-quickchart {\n",
              "      --bg-color: #E8F0FE;\n",
              "      --fill-color: #1967D2;\n",
              "      --hover-bg-color: #E2EBFA;\n",
              "      --hover-fill-color: #174EA6;\n",
              "      --disabled-fill-color: #AAA;\n",
              "      --disabled-bg-color: #DDD;\n",
              "  }\n",
              "\n",
              "  [theme=dark] .colab-df-quickchart {\n",
              "      --bg-color: #3B4455;\n",
              "      --fill-color: #D2E3FC;\n",
              "      --hover-bg-color: #434B5C;\n",
              "      --hover-fill-color: #FFFFFF;\n",
              "      --disabled-bg-color: #3B4455;\n",
              "      --disabled-fill-color: #666;\n",
              "  }\n",
              "\n",
              "  .colab-df-quickchart {\n",
              "    background-color: var(--bg-color);\n",
              "    border: none;\n",
              "    border-radius: 50%;\n",
              "    cursor: pointer;\n",
              "    display: none;\n",
              "    fill: var(--fill-color);\n",
              "    height: 32px;\n",
              "    padding: 0;\n",
              "    width: 32px;\n",
              "  }\n",
              "\n",
              "  .colab-df-quickchart:hover {\n",
              "    background-color: var(--hover-bg-color);\n",
              "    box-shadow: 0 1px 2px rgba(60, 64, 67, 0.3), 0 1px 3px 1px rgba(60, 64, 67, 0.15);\n",
              "    fill: var(--button-hover-fill-color);\n",
              "  }\n",
              "\n",
              "  .colab-df-quickchart-complete:disabled,\n",
              "  .colab-df-quickchart-complete:disabled:hover {\n",
              "    background-color: var(--disabled-bg-color);\n",
              "    fill: var(--disabled-fill-color);\n",
              "    box-shadow: none;\n",
              "  }\n",
              "\n",
              "  .colab-df-spinner {\n",
              "    border: 2px solid var(--fill-color);\n",
              "    border-color: transparent;\n",
              "    border-bottom-color: var(--fill-color);\n",
              "    animation:\n",
              "      spin 1s steps(1) infinite;\n",
              "  }\n",
              "\n",
              "  @keyframes spin {\n",
              "    0% {\n",
              "      border-color: transparent;\n",
              "      border-bottom-color: var(--fill-color);\n",
              "      border-left-color: var(--fill-color);\n",
              "    }\n",
              "    20% {\n",
              "      border-color: transparent;\n",
              "      border-left-color: var(--fill-color);\n",
              "      border-top-color: var(--fill-color);\n",
              "    }\n",
              "    30% {\n",
              "      border-color: transparent;\n",
              "      border-left-color: var(--fill-color);\n",
              "      border-top-color: var(--fill-color);\n",
              "      border-right-color: var(--fill-color);\n",
              "    }\n",
              "    40% {\n",
              "      border-color: transparent;\n",
              "      border-right-color: var(--fill-color);\n",
              "      border-top-color: var(--fill-color);\n",
              "    }\n",
              "    60% {\n",
              "      border-color: transparent;\n",
              "      border-right-color: var(--fill-color);\n",
              "    }\n",
              "    80% {\n",
              "      border-color: transparent;\n",
              "      border-right-color: var(--fill-color);\n",
              "      border-bottom-color: var(--fill-color);\n",
              "    }\n",
              "    90% {\n",
              "      border-color: transparent;\n",
              "      border-bottom-color: var(--fill-color);\n",
              "    }\n",
              "  }\n",
              "</style>\n",
              "\n",
              "  <script>\n",
              "    async function quickchart(key) {\n",
              "      const quickchartButtonEl =\n",
              "        document.querySelector('#' + key + ' button');\n",
              "      quickchartButtonEl.disabled = true;  // To prevent multiple clicks.\n",
              "      quickchartButtonEl.classList.add('colab-df-spinner');\n",
              "      try {\n",
              "        const charts = await google.colab.kernel.invokeFunction(\n",
              "            'suggestCharts', [key], {});\n",
              "      } catch (error) {\n",
              "        console.error('Error during call to suggestCharts:', error);\n",
              "      }\n",
              "      quickchartButtonEl.classList.remove('colab-df-spinner');\n",
              "      quickchartButtonEl.classList.add('colab-df-quickchart-complete');\n",
              "    }\n",
              "    (() => {\n",
              "      let quickchartButtonEl =\n",
              "        document.querySelector('#df-c725005f-6627-4f2b-9e18-8a4f137b15e9 button');\n",
              "      quickchartButtonEl.style.display =\n",
              "        google.colab.kernel.accessAllowed ? 'block' : 'none';\n",
              "    })();\n",
              "  </script>\n",
              "</div>\n",
              "\n",
              "    </div>\n",
              "  </div>\n"
            ],
            "text/plain": [
              "   chapter  question_number  \\\n",
              "0        1                1   \n",
              "1        1                2   \n",
              "2        1                3   \n",
              "3        1                4   \n",
              "4        1                5   \n",
              "\n",
              "                                       question_text  \\\n",
              "0  \"\"Do you need these for deep learning?nn- Lots...   \n",
              "1  \"\"Name five areas where deep learning is now t...   \n",
              "2  \"\"What was the name of the first device that w...   \n",
              "3  \"\"Based on the book of the same name, what are...   \n",
              "4  \"\"What were the two theoretical misunderstandi...   \n",
              "\n",
              "                                              answer  is_answerable  \\\n",
              "0  \"\"Lots of math - False\\nLots of data - False\\n...              1   \n",
              "1  \"\"Any five of the following:\\nNatural Language...              1   \n",
              "2    \"\"Mark I perceptron built by Frank Rosenblatt\"\"              1   \n",
              "3  \"\"A set of processing units\\nA state of activa...              1   \n",
              "4  \"\"In 1969, Marvin Minsky and Seymour Papert de...              1   \n",
              "\n",
              "                                            keywords  \\\n",
              "0        \"deep learning, math, data, computers, PhD\"   \n",
              "1                  deep learning, areas, best, world   \n",
              "2   \"neuron, neurons, device, artificial, principle\"   \n",
              "3  \"parallel, distributed, processing, PDP, requi...   \n",
              "4  \"neural, networks, theoretical, misunderstandi...   \n",
              "\n",
              "                                      bm25_e_context  \n",
              "0  ## Deep Learning Is for Everyone\\n\\nA lot of p...  \n",
              "1  ## Deep Learning Is for Everyone\\n\\nDeep learn...  \n",
              "2  ## Neural Networks: A Brief History\\n\\n<img al...  \n",
              "3  ## Neural Networks: A Brief History\\n\\nIn fact...  \n",
              "4  ## Neural Networks: A Brief History\\n\\nIn the ...  "
            ]
          },
          "execution_count": 30,
          "metadata": {},
          "output_type": "execute_result"
        }
      ],
      "source": [
        "bm25_e = questions.copy()\n",
        "bm25_e['bm25_e_context'] = results\n",
        "bm25_e.head()"
      ]
    },
    {
      "cell_type": "code",
      "execution_count": 31,
      "metadata": {
        "id": "4BOW0ZM0tLXm"
      },
      "outputs": [],
      "source": [
        "bm25_e.to_csv('bm25_e.csv', index=False)"
      ]
    },
    {
      "cell_type": "markdown",
      "metadata": {
        "id": "NxnLGSv1uuNW"
      },
      "source": [
        "#### Results"
      ]
    },
    {
      "cell_type": "markdown",
      "metadata": {
        "id": "-4pB8tV7TSIL"
      },
      "source": [
        "Here is the **Answer Rate** (by chapter and overall). "
      ]
    },
    {
      "cell_type": "markdown",
      "metadata": {
        "id": "mcq1bxBKuvS0"
      },
      "source": [
        "|Chapter|Name|Description|Answer Rate|\n",
        "|:-:|:-:|:-:|:-:|\n",
        "1|BM25_E|Top-3 3-paragraph chunks|83.3% (25/30)\n",
        "2|BM25_E|Top-3 3-paragraph chunks|80.8% (21/26)\n",
        "4|BM25_E|Top-3 3-paragraph chunks|71.9% (23/32)\n",
        "8|BM25_E|Top-3 3-paragraph chunks|55.2% (16/29)\n",
        "9|BM25_E|Top-3 3-paragraph chunks|72.4% (21/29)\n",
        "10|BM25_E|Top-3 3-paragraph chunks|57.1% (12/21)\n",
        "13|BM25_E|Top-3 3-paragraph chunks|68.6% (24/35)\n",
        "**All**|**BM25_E**|**Top-3 3-paragraph chunks**|**70.3% (142/202)**"
      ]
    },
    {
      "cell_type": "markdown",
      "metadata": {
        "id": "Mscx_Gzuu92g"
      },
      "source": [
        "### BM25_F: Top-5 3-Paragraph Chunks"
      ]
    },
    {
      "cell_type": "markdown",
      "metadata": {
        "id": "lW1JLmuB0AAE"
      },
      "source": [
        "I'll use the same loaded database (3-paragraph chunks) and full text search it with my keywords, setting `LIMIT 5` to get the top-5 chunks.\n"
      ]
    },
    {
      "cell_type": "code",
      "execution_count": 32,
      "metadata": {
        "colab": {
          "base_uri": "https://localhost:8080/"
        },
        "id": "JTHmakr9teYq",
        "outputId": "af1d46ed-4d58-431f-b981-7b48af5ec4dc"
      },
      "outputs": [
        {
          "data": {
            "text/plain": [
              "True"
            ]
          },
          "execution_count": 32,
          "metadata": {},
          "output_type": "execute_result"
        }
      ],
      "source": [
        "results = db_search(questions, limit=5)\n",
        "len(results) == 202"
      ]
    },
    {
      "cell_type": "code",
      "execution_count": 33,
      "metadata": {
        "colab": {
          "base_uri": "https://localhost:8080/",
          "height": 328
        },
        "id": "fJXHIKW_vFI7",
        "outputId": "a65b4ced-1fd3-4a01-a971-93bf081eea62"
      },
      "outputs": [
        {
          "data": {
            "application/vnd.google.colaboratory.intrinsic+json": {
              "summary": "{\n  \"name\": \"bm25_f\",\n  \"rows\": 202,\n  \"fields\": [\n    {\n      \"column\": \"chapter\",\n      \"properties\": {\n        \"dtype\": \"number\",\n        \"std\": 4,\n        \"min\": 1,\n        \"max\": 13,\n        \"num_unique_values\": 7,\n        \"samples\": [\n          1,\n          2,\n          10\n        ],\n        \"semantic_type\": \"\",\n        \"description\": \"\"\n      }\n    },\n    {\n      \"column\": \"question_number\",\n      \"properties\": {\n        \"dtype\": \"number\",\n        \"std\": 9,\n        \"min\": 1,\n        \"max\": 40,\n        \"num_unique_values\": 40,\n        \"samples\": [\n          23,\n          20,\n          19\n        ],\n        \"semantic_type\": \"\",\n        \"description\": \"\"\n      }\n    },\n    {\n      \"column\": \"question_text\",\n      \"properties\": {\n        \"dtype\": \"string\",\n        \"num_unique_values\": 202,\n        \"samples\": [\n          \"\\\"\\\"What is an embedding matrix?\\\"\\\"\",\n          \"\\\"\\\"What is the difference between classification and regression?\\\"\\\"\",\n          \"\\\"\\\"Provide an example of where the bear classification model might work poorly in production, due to structural or style differences in the training data.\\\"\\\"\"\n        ],\n        \"semantic_type\": \"\",\n        \"description\": \"\"\n      }\n    },\n    {\n      \"column\": \"answer\",\n      \"properties\": {\n        \"dtype\": \"string\",\n        \"num_unique_values\": 202,\n        \"samples\": [\n          \"\\\"\\\"It is what you multiply an embedding with, and in the case of this collaborative filtering problem, is learned through training.\\\"\\\"\",\n          \"\\\"\\\"Classification is focused on predicting a class or category (ex: type of pet). Regression is focused on predicting a numeric quantity (ex: age of pet).\\\"\\\"\",\n          \"\\\"\\\"Working with video data instead of images\\nHandling nighttime images, which may not appear in this dataset\\nDealing with low-resolution camera images\\nEnsuring results are returned fast enough to be useful in practice\\nRecognizing bears in positions that are rarely seen in photos that people post online (for example from behind, partially covered by bushes, or when a long way away from the camera)\\\"\\\"\"\n        ],\n        \"semantic_type\": \"\",\n        \"description\": \"\"\n      }\n    },\n    {\n      \"column\": \"is_answerable\",\n      \"properties\": {\n        \"dtype\": \"number\",\n        \"std\": 0,\n        \"min\": 1,\n        \"max\": 1,\n        \"num_unique_values\": 1,\n        \"samples\": [\n          1\n        ],\n        \"semantic_type\": \"\",\n        \"description\": \"\"\n      }\n    },\n    {\n      \"column\": \"keywords\",\n      \"properties\": {\n        \"dtype\": \"string\",\n        \"num_unique_values\": 202,\n        \"samples\": [\n          \"\\\"embedding, matrix, matrices, embeddings\\\"\"\n        ],\n        \"semantic_type\": \"\",\n        \"description\": \"\"\n      }\n    },\n    {\n      \"column\": \"bm25_f_context\",\n      \"properties\": {\n        \"dtype\": \"string\",\n        \"num_unique_values\": 200,\n        \"samples\": [\n          \"## Deep Learning for Collaborative Filtering\\n\\nTo turn our architecture into a deep learning model, the first step is to take the results of the embedding lookup and concatenate those activations together. This gives us a matrix which we can then pass through linear layers and nonlinearities in the usual way.\\n\\nSince we'll be concatenating the embeddings, rather than taking their dot product, the two embedding matrices can have different sizes (i.e., different numbers of latent factors). fastai has a function `get_emb_sz` that returns recommended sizes for embedding matrices for your data, based on a heuristic that fast.ai has found tends to work well in practice:\\n\\n```python\\nembs = get_emb_sz(dls)\\nembs\\n```\\n\\nOutput:\\n[(944, 74), (1635, 101)]\\n\\n## Interpreting Embeddings and Biases\\n\\n```python\\nidxs = movie_bias.argsort(descending=True)[:5]\\n[dls.classes['title'][i] for i in idxs]\\n```\\n\\nOutput:\\n['L.A. Confidential (1997)',\\n 'Titanic (1997)',\\n 'Silence of the Lambs, The (1991)',\\n 'Shawshank Redemption, The (1994)',\\n 'Star Wars (1977)']\\n\\nSo, for instance, even if you don't normally enjoy detective movies, you might enjoy *LA Confidential*!\\n\\nIt is not quite so easy to directly interpret the embedding matrices. There are just too many factors for a human to look at. But there is a technique that can pull out the most important underlying *directions* in such a matrix, called *principal component analysis* (PCA). We will not be going into this in detail in this book, because it is not particularly important for you to understand to be a deep learning practitioner, but if you are interested then we suggest you check out the fast.ai course [Computational Linear Algebra for Coders](https://github.com/fastai/numerical-linear-algebra). <<img_pca_movie>> shows what our movies look like based on two of the strongest PCA components.\\n\\n### Creating Our Own Embedding Module\\n\\nSo far, we've used `Embedding` without thinking about how it really works. Let's re-create `DotProductBias` *without* using this class. We'll need a randomly initialized weight matrix for each of the embeddings. We have to be careful, however. Recall from <<chapter_mnist_basics>> that optimizers require that they can get all the parameters of a module from the module's `parameters` method. However, this does not happen fully automatically. If we just add a tensor as an attribute to a `Module`, it will not be included in `parameters`:\\n\\n```python\\nclass T(Module):\\n    def __init__(self): self.a = torch.ones(3)\\n\\nL(T().parameters())\\n```\\n\\nOutput:\\n(#0) []\\n\\nTo tell `Module` that we want to treat a tensor as a parameter, we have to wrap it in the `nn.Parameter` class. This class doesn't actually add any functionality (other than automatically calling `requires_grad_` for us). It's only used as a \\\"marker\\\" to show what to include in `parameters`:\\n\\n## Creating the DataLoaders\\n\\nIf we do that for a few indices at once, we will have a matrix of one-hot-encoded vectors, and that operation will be a matrix multiplication! This would be a perfectly acceptable way to build models using this kind of architecture, except that it would use a lot more memory and time than necessary. We know that there is no real underlying reason to store the one-hot-encoded vector, or to search through it to find the occurrence of the number one\\u2014we should just be able to index into an array directly with an integer. Therefore, most deep learning libraries, including PyTorch, include a special layer that does just this; it indexes into a vector using an integer, but has its derivative calculated in such a way that it is identical to what it would have been if it had done a matrix multiplication with a one-hot-encoded vector. This is called an *embedding*.\\n\\n> jargon: Embedding: Multiplying by a one-hot-encoded matrix, using the computational shortcut that it can be implemented by simply indexing directly. This is quite a fancy word for a very simple concept. The thing that you multiply the one-hot-encoded matrix by (or, using the computational shortcut, index into directly) is called the _embedding matrix_.\\n\\nIn computer vision, we have a very easy way to get all the information of a pixel through its RGB values: each pixel in a colored image is represented by three numbers. Those three numbers give us the redness, the greenness and the blueness, which is enough to get our model to work afterward.\\n\\n## Collaborative Filtering from Scratch\\n\\nNote that the input of the model is a tensor of shape `batch_size x 2`, where the first column (`x[:, 0]`) contains the user IDs and the second column (`x[:, 1]`) contains the movie IDs. As explained before, we use the *embedding* layers to represent our matrices of user and movie latent factors:\\n\\n```python\\nx,y = dls.one_batch()\\nx.shape\\n```\\n\\nOutput:\\ntorch.Size([64, 2])\\n\\nNow that we have defined our architecture, and created our parameter matrices, we need to create a `Learner` to optimize our model. In the past we have used special functions, such as `vision_learner`, which set up everything for us for a particular application. Since we are doing things from scratch here, we will use the plain `Learner` class:\"\n        ],\n        \"semantic_type\": \"\",\n        \"description\": \"\"\n      }\n    }\n  ]\n}",
              "type": "dataframe",
              "variable_name": "bm25_f"
            },
            "text/html": [
              "\n",
              "  <div id=\"df-19d8f002-b06f-40e3-acdb-79839d74ddb0\" class=\"colab-df-container\">\n",
              "    <div>\n",
              "<style scoped>\n",
              "    .dataframe tbody tr th:only-of-type {\n",
              "        vertical-align: middle;\n",
              "    }\n",
              "\n",
              "    .dataframe tbody tr th {\n",
              "        vertical-align: top;\n",
              "    }\n",
              "\n",
              "    .dataframe thead th {\n",
              "        text-align: right;\n",
              "    }\n",
              "</style>\n",
              "<table border=\"1\" class=\"dataframe\">\n",
              "  <thead>\n",
              "    <tr style=\"text-align: right;\">\n",
              "      <th></th>\n",
              "      <th>chapter</th>\n",
              "      <th>question_number</th>\n",
              "      <th>question_text</th>\n",
              "      <th>answer</th>\n",
              "      <th>is_answerable</th>\n",
              "      <th>keywords</th>\n",
              "      <th>bm25_f_context</th>\n",
              "    </tr>\n",
              "  </thead>\n",
              "  <tbody>\n",
              "    <tr>\n",
              "      <th>0</th>\n",
              "      <td>1</td>\n",
              "      <td>1</td>\n",
              "      <td>\"\"Do you need these for deep learning?nn- Lots...</td>\n",
              "      <td>\"\"Lots of math - False\\nLots of data - False\\n...</td>\n",
              "      <td>1</td>\n",
              "      <td>\"deep learning, math, data, computers, PhD\"</td>\n",
              "      <td>## Deep Learning Is for Everyone\\n\\nA lot of p...</td>\n",
              "    </tr>\n",
              "    <tr>\n",
              "      <th>1</th>\n",
              "      <td>1</td>\n",
              "      <td>2</td>\n",
              "      <td>\"\"Name five areas where deep learning is now t...</td>\n",
              "      <td>\"\"Any five of the following:\\nNatural Language...</td>\n",
              "      <td>1</td>\n",
              "      <td>deep learning, areas, best, world</td>\n",
              "      <td>## Deep Learning Is for Everyone\\n\\nDeep learn...</td>\n",
              "    </tr>\n",
              "    <tr>\n",
              "      <th>2</th>\n",
              "      <td>1</td>\n",
              "      <td>3</td>\n",
              "      <td>\"\"What was the name of the first device that w...</td>\n",
              "      <td>\"\"Mark I perceptron built by Frank Rosenblatt\"\"</td>\n",
              "      <td>1</td>\n",
              "      <td>\"neuron, neurons, device, artificial, principle\"</td>\n",
              "      <td>## Neural Networks: A Brief History\\n\\n&lt;img al...</td>\n",
              "    </tr>\n",
              "    <tr>\n",
              "      <th>3</th>\n",
              "      <td>1</td>\n",
              "      <td>4</td>\n",
              "      <td>\"\"Based on the book of the same name, what are...</td>\n",
              "      <td>\"\"A set of processing units\\nA state of activa...</td>\n",
              "      <td>1</td>\n",
              "      <td>\"parallel, distributed, processing, PDP, requi...</td>\n",
              "      <td>## Neural Networks: A Brief History\\n\\nIn fact...</td>\n",
              "    </tr>\n",
              "    <tr>\n",
              "      <th>4</th>\n",
              "      <td>1</td>\n",
              "      <td>5</td>\n",
              "      <td>\"\"What were the two theoretical misunderstandi...</td>\n",
              "      <td>\"\"In 1969, Marvin Minsky and Seymour Papert de...</td>\n",
              "      <td>1</td>\n",
              "      <td>\"neural, networks, theoretical, misunderstandi...</td>\n",
              "      <td>## Neural Networks: A Brief History\\n\\nIn the ...</td>\n",
              "    </tr>\n",
              "  </tbody>\n",
              "</table>\n",
              "</div>\n",
              "    <div class=\"colab-df-buttons\">\n",
              "\n",
              "  <div class=\"colab-df-container\">\n",
              "    <button class=\"colab-df-convert\" onclick=\"convertToInteractive('df-19d8f002-b06f-40e3-acdb-79839d74ddb0')\"\n",
              "            title=\"Convert this dataframe to an interactive table.\"\n",
              "            style=\"display:none;\">\n",
              "\n",
              "  <svg xmlns=\"http://www.w3.org/2000/svg\" height=\"24px\" viewBox=\"0 -960 960 960\">\n",
              "    <path d=\"M120-120v-720h720v720H120Zm60-500h600v-160H180v160Zm220 220h160v-160H400v160Zm0 220h160v-160H400v160ZM180-400h160v-160H180v160Zm440 0h160v-160H620v160ZM180-180h160v-160H180v160Zm440 0h160v-160H620v160Z\"/>\n",
              "  </svg>\n",
              "    </button>\n",
              "\n",
              "  <style>\n",
              "    .colab-df-container {\n",
              "      display:flex;\n",
              "      gap: 12px;\n",
              "    }\n",
              "\n",
              "    .colab-df-convert {\n",
              "      background-color: #E8F0FE;\n",
              "      border: none;\n",
              "      border-radius: 50%;\n",
              "      cursor: pointer;\n",
              "      display: none;\n",
              "      fill: #1967D2;\n",
              "      height: 32px;\n",
              "      padding: 0 0 0 0;\n",
              "      width: 32px;\n",
              "    }\n",
              "\n",
              "    .colab-df-convert:hover {\n",
              "      background-color: #E2EBFA;\n",
              "      box-shadow: 0px 1px 2px rgba(60, 64, 67, 0.3), 0px 1px 3px 1px rgba(60, 64, 67, 0.15);\n",
              "      fill: #174EA6;\n",
              "    }\n",
              "\n",
              "    .colab-df-buttons div {\n",
              "      margin-bottom: 4px;\n",
              "    }\n",
              "\n",
              "    [theme=dark] .colab-df-convert {\n",
              "      background-color: #3B4455;\n",
              "      fill: #D2E3FC;\n",
              "    }\n",
              "\n",
              "    [theme=dark] .colab-df-convert:hover {\n",
              "      background-color: #434B5C;\n",
              "      box-shadow: 0px 1px 3px 1px rgba(0, 0, 0, 0.15);\n",
              "      filter: drop-shadow(0px 1px 2px rgba(0, 0, 0, 0.3));\n",
              "      fill: #FFFFFF;\n",
              "    }\n",
              "  </style>\n",
              "\n",
              "    <script>\n",
              "      const buttonEl =\n",
              "        document.querySelector('#df-19d8f002-b06f-40e3-acdb-79839d74ddb0 button.colab-df-convert');\n",
              "      buttonEl.style.display =\n",
              "        google.colab.kernel.accessAllowed ? 'block' : 'none';\n",
              "\n",
              "      async function convertToInteractive(key) {\n",
              "        const element = document.querySelector('#df-19d8f002-b06f-40e3-acdb-79839d74ddb0');\n",
              "        const dataTable =\n",
              "          await google.colab.kernel.invokeFunction('convertToInteractive',\n",
              "                                                    [key], {});\n",
              "        if (!dataTable) return;\n",
              "\n",
              "        const docLinkHtml = 'Like what you see? Visit the ' +\n",
              "          '<a target=\"_blank\" href=https://colab.research.google.com/notebooks/data_table.ipynb>data table notebook</a>'\n",
              "          + ' to learn more about interactive tables.';\n",
              "        element.innerHTML = '';\n",
              "        dataTable['output_type'] = 'display_data';\n",
              "        await google.colab.output.renderOutput(dataTable, element);\n",
              "        const docLink = document.createElement('div');\n",
              "        docLink.innerHTML = docLinkHtml;\n",
              "        element.appendChild(docLink);\n",
              "      }\n",
              "    </script>\n",
              "  </div>\n",
              "\n",
              "\n",
              "<div id=\"df-38def157-2bf0-4733-b1af-27296758080a\">\n",
              "  <button class=\"colab-df-quickchart\" onclick=\"quickchart('df-38def157-2bf0-4733-b1af-27296758080a')\"\n",
              "            title=\"Suggest charts\"\n",
              "            style=\"display:none;\">\n",
              "\n",
              "<svg xmlns=\"http://www.w3.org/2000/svg\" height=\"24px\"viewBox=\"0 0 24 24\"\n",
              "     width=\"24px\">\n",
              "    <g>\n",
              "        <path d=\"M19 3H5c-1.1 0-2 .9-2 2v14c0 1.1.9 2 2 2h14c1.1 0 2-.9 2-2V5c0-1.1-.9-2-2-2zM9 17H7v-7h2v7zm4 0h-2V7h2v10zm4 0h-2v-4h2v4z\"/>\n",
              "    </g>\n",
              "</svg>\n",
              "  </button>\n",
              "\n",
              "<style>\n",
              "  .colab-df-quickchart {\n",
              "      --bg-color: #E8F0FE;\n",
              "      --fill-color: #1967D2;\n",
              "      --hover-bg-color: #E2EBFA;\n",
              "      --hover-fill-color: #174EA6;\n",
              "      --disabled-fill-color: #AAA;\n",
              "      --disabled-bg-color: #DDD;\n",
              "  }\n",
              "\n",
              "  [theme=dark] .colab-df-quickchart {\n",
              "      --bg-color: #3B4455;\n",
              "      --fill-color: #D2E3FC;\n",
              "      --hover-bg-color: #434B5C;\n",
              "      --hover-fill-color: #FFFFFF;\n",
              "      --disabled-bg-color: #3B4455;\n",
              "      --disabled-fill-color: #666;\n",
              "  }\n",
              "\n",
              "  .colab-df-quickchart {\n",
              "    background-color: var(--bg-color);\n",
              "    border: none;\n",
              "    border-radius: 50%;\n",
              "    cursor: pointer;\n",
              "    display: none;\n",
              "    fill: var(--fill-color);\n",
              "    height: 32px;\n",
              "    padding: 0;\n",
              "    width: 32px;\n",
              "  }\n",
              "\n",
              "  .colab-df-quickchart:hover {\n",
              "    background-color: var(--hover-bg-color);\n",
              "    box-shadow: 0 1px 2px rgba(60, 64, 67, 0.3), 0 1px 3px 1px rgba(60, 64, 67, 0.15);\n",
              "    fill: var(--button-hover-fill-color);\n",
              "  }\n",
              "\n",
              "  .colab-df-quickchart-complete:disabled,\n",
              "  .colab-df-quickchart-complete:disabled:hover {\n",
              "    background-color: var(--disabled-bg-color);\n",
              "    fill: var(--disabled-fill-color);\n",
              "    box-shadow: none;\n",
              "  }\n",
              "\n",
              "  .colab-df-spinner {\n",
              "    border: 2px solid var(--fill-color);\n",
              "    border-color: transparent;\n",
              "    border-bottom-color: var(--fill-color);\n",
              "    animation:\n",
              "      spin 1s steps(1) infinite;\n",
              "  }\n",
              "\n",
              "  @keyframes spin {\n",
              "    0% {\n",
              "      border-color: transparent;\n",
              "      border-bottom-color: var(--fill-color);\n",
              "      border-left-color: var(--fill-color);\n",
              "    }\n",
              "    20% {\n",
              "      border-color: transparent;\n",
              "      border-left-color: var(--fill-color);\n",
              "      border-top-color: var(--fill-color);\n",
              "    }\n",
              "    30% {\n",
              "      border-color: transparent;\n",
              "      border-left-color: var(--fill-color);\n",
              "      border-top-color: var(--fill-color);\n",
              "      border-right-color: var(--fill-color);\n",
              "    }\n",
              "    40% {\n",
              "      border-color: transparent;\n",
              "      border-right-color: var(--fill-color);\n",
              "      border-top-color: var(--fill-color);\n",
              "    }\n",
              "    60% {\n",
              "      border-color: transparent;\n",
              "      border-right-color: var(--fill-color);\n",
              "    }\n",
              "    80% {\n",
              "      border-color: transparent;\n",
              "      border-right-color: var(--fill-color);\n",
              "      border-bottom-color: var(--fill-color);\n",
              "    }\n",
              "    90% {\n",
              "      border-color: transparent;\n",
              "      border-bottom-color: var(--fill-color);\n",
              "    }\n",
              "  }\n",
              "</style>\n",
              "\n",
              "  <script>\n",
              "    async function quickchart(key) {\n",
              "      const quickchartButtonEl =\n",
              "        document.querySelector('#' + key + ' button');\n",
              "      quickchartButtonEl.disabled = true;  // To prevent multiple clicks.\n",
              "      quickchartButtonEl.classList.add('colab-df-spinner');\n",
              "      try {\n",
              "        const charts = await google.colab.kernel.invokeFunction(\n",
              "            'suggestCharts', [key], {});\n",
              "      } catch (error) {\n",
              "        console.error('Error during call to suggestCharts:', error);\n",
              "      }\n",
              "      quickchartButtonEl.classList.remove('colab-df-spinner');\n",
              "      quickchartButtonEl.classList.add('colab-df-quickchart-complete');\n",
              "    }\n",
              "    (() => {\n",
              "      let quickchartButtonEl =\n",
              "        document.querySelector('#df-38def157-2bf0-4733-b1af-27296758080a button');\n",
              "      quickchartButtonEl.style.display =\n",
              "        google.colab.kernel.accessAllowed ? 'block' : 'none';\n",
              "    })();\n",
              "  </script>\n",
              "</div>\n",
              "\n",
              "    </div>\n",
              "  </div>\n"
            ],
            "text/plain": [
              "   chapter  question_number  \\\n",
              "0        1                1   \n",
              "1        1                2   \n",
              "2        1                3   \n",
              "3        1                4   \n",
              "4        1                5   \n",
              "\n",
              "                                       question_text  \\\n",
              "0  \"\"Do you need these for deep learning?nn- Lots...   \n",
              "1  \"\"Name five areas where deep learning is now t...   \n",
              "2  \"\"What was the name of the first device that w...   \n",
              "3  \"\"Based on the book of the same name, what are...   \n",
              "4  \"\"What were the two theoretical misunderstandi...   \n",
              "\n",
              "                                              answer  is_answerable  \\\n",
              "0  \"\"Lots of math - False\\nLots of data - False\\n...              1   \n",
              "1  \"\"Any five of the following:\\nNatural Language...              1   \n",
              "2    \"\"Mark I perceptron built by Frank Rosenblatt\"\"              1   \n",
              "3  \"\"A set of processing units\\nA state of activa...              1   \n",
              "4  \"\"In 1969, Marvin Minsky and Seymour Papert de...              1   \n",
              "\n",
              "                                            keywords  \\\n",
              "0        \"deep learning, math, data, computers, PhD\"   \n",
              "1                  deep learning, areas, best, world   \n",
              "2   \"neuron, neurons, device, artificial, principle\"   \n",
              "3  \"parallel, distributed, processing, PDP, requi...   \n",
              "4  \"neural, networks, theoretical, misunderstandi...   \n",
              "\n",
              "                                      bm25_f_context  \n",
              "0  ## Deep Learning Is for Everyone\\n\\nA lot of p...  \n",
              "1  ## Deep Learning Is for Everyone\\n\\nDeep learn...  \n",
              "2  ## Neural Networks: A Brief History\\n\\n<img al...  \n",
              "3  ## Neural Networks: A Brief History\\n\\nIn fact...  \n",
              "4  ## Neural Networks: A Brief History\\n\\nIn the ...  "
            ]
          },
          "execution_count": 33,
          "metadata": {},
          "output_type": "execute_result"
        }
      ],
      "source": [
        "bm25_f = questions.copy()\n",
        "bm25_f['bm25_f_context'] = results\n",
        "bm25_f.head()"
      ]
    },
    {
      "cell_type": "code",
      "execution_count": 34,
      "metadata": {
        "id": "yWLhACgdvJon"
      },
      "outputs": [],
      "source": [
        "bm25_f.to_csv('bm25_f.csv', index=False)"
      ]
    },
    {
      "cell_type": "markdown",
      "metadata": {
        "id": "E9JU1xfsTUEb"
      },
      "source": [
        "#### Results"
      ]
    },
    {
      "cell_type": "markdown",
      "metadata": {
        "id": "eFV5WF71TVfS"
      },
      "source": [
        "Here is the **Answer Rate** "
      ]
    },
    {
      "cell_type": "markdown",
      "metadata": {
        "id": "aeg7TIx5vPGg"
      },
      "source": [
        "|Chapter|Name|Description|Answer Rate|\n",
        "|:-:|:-:|:-:|:-:|\n",
        "1|BM25_F|Top-5 3-paragraph chunks|90% (27/30)\n",
        "2|BM25_F|Top-5 3-paragraph chunks|80.8% (21/26)\n",
        "4|BM25_F|Top-5 3-paragraph chunks|75% (24/32)\n",
        "8|BM25_F|Top-5 3-paragraph chunks|65.5% (19/29)\n",
        "9|BM25_F|Top-5 3-paragraph chunks|79.3% (23/29)\n",
        "10|BM25_F|Top-5 3-paragraph chunks|61.9% (13/21)\n",
        "13|BM25_F|Top-5 3-paragraph chunks|80% (28/35)\n",
        "**All**|**BM25_F**|**Top-5 3-paragraph chunks**|**76.7% (155/202)**"
      ]
    },
    {
      "cell_type": "markdown",
      "metadata": {},
      "source": [
        "## Final Thoughts"
      ]
    },
    {
      "cell_type": "markdown",
      "metadata": {},
      "source": [
        "I'm happy with the performance of my full text search experiments. I see why BM25 is such a strong baseline! I'm able to answer 76.7% of the questions using a keyword-based search, which is pretty impressive. \n",
        "\n",
        "Here's what the next few notebooks will contain:\n",
        "\n",
        "- A deep dive into error analysis for the results from this notebook.\n",
        "- Experimenting with different Cosine Similarity (semantic search) methods.\n",
        "- Experimenting with different hybrid search (full text search + semantic search) methods.\n",
        "- Integrating an LLM into this pipeline to generate answers based on the retrieved context.\n",
        "\n",
        "I hope to finish this by the end of September and then publish a repo and corresponding documentation page with all my experiments, results and analysis. \n",
        "\n",
        "I hope you enjoyed this blog post! Follow me on Twitter [@vishal_learner](https://twitter.com/vishal_learner)."
      ]
    }
  ],
  "metadata": {
    "colab": {
      "collapsed_sections": [
        "KzHnXOvJ-7Kz",
        "vxArBi3MUIbe",
        "Z-q8kYFQysaE",
        "9VimsHL35-kC",
        "SRvxVAF624gs",
        "I__iMBqH3oWK",
        "47wpU7Lc6UD7",
        "nw0lTbxQ88cI",
        "DrRwkcsQ9D5g",
        "3hvP9wzv-QYD",
        "UmEbM-EZkghE",
        "HTlCC2cO5XYo"
      ],
      "provenance": [],
      "toc_visible": true
    },
    "kernelspec": {
      "display_name": "Python 3",
      "name": "python3"
    },
    "language_info": {
      "name": "python"
    }
  },
  "nbformat": 4,
  "nbformat_minor": 0
}

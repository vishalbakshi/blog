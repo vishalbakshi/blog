{
 "cells": [
  {
   "cell_type": "raw",
   "metadata": {
    "vscode": {
     "languageId": "raw"
    }
   },
   "source": [
    "---\n",
    "title: Sentiment Classification with phi-2\n",
    "date: \"2024-08-31\"\n",
    "author: Vishal Bakshi\n",
    "description: In this blog post I use phi-2 to classify sentiment in the `financial_phrasebank` dataset with 92% accuracy.\n",
    "filters:\n",
    "   - lightbox\n",
    "lightbox: auto\n",
    "categories:\n",
    "    - python\n",
    "    - LLM\n",
    "    - TinySentiment\n",
    "---"
   ]
  },
  {
   "cell_type": "markdown",
   "metadata": {},
   "source": [
    "## Setup"
   ]
  },
  {
   "cell_type": "code",
   "execution_count": 1,
   "metadata": {
    "_kg_hide-input": true,
    "_kg_hide-output": true,
    "execution": {
     "iopub.execute_input": "2024-08-31T00:56:10.049067Z",
     "iopub.status.busy": "2024-08-31T00:56:10.048765Z",
     "iopub.status.idle": "2024-08-31T00:56:42.194977Z",
     "shell.execute_reply": "2024-08-31T00:56:42.193987Z",
     "shell.execute_reply.started": "2024-08-31T00:56:10.049008Z"
    }
   },
   "outputs": [],
   "source": [
    "#| code-fold: true\n",
    "#| code-summary: \"Show pip installs\"\n",
    "!pip install transformers~=4.37.2 -qq\n",
    "!pip install huggingface_hub~=0.20.3 -qq\n",
    "!pip install datasets~=2.16.1 -qq\n",
    "!pip install accelerate -qq\n",
    "!pip install plotly==5.19.0 -qq\n",
    "!pip install scikit-learn==1.2 -qq"
   ]
  },
  {
   "cell_type": "code",
   "execution_count": null,
   "metadata": {
    "_cell_guid": "b1076dfc-b9ad-4769-8c92-a6c4dae69d19",
    "_kg_hide-input": true,
    "_kg_hide-output": true,
    "_uuid": "8f2839f25d086af736a60e9eeb907d3b93b6e0e5",
    "execution": {
     "iopub.execute_input": "2024-08-31T00:56:42.197136Z",
     "iopub.status.busy": "2024-08-31T00:56:42.196920Z",
     "iopub.status.idle": "2024-08-31T00:57:15.043424Z",
     "shell.execute_reply": "2024-08-31T00:57:15.042787Z",
     "shell.execute_reply.started": "2024-08-31T00:56:42.197116Z"
    }
   },
   "outputs": [],
   "source": [
    "#| code-fold: true\n",
    "#| code-summary: \"Show imports and setup\"\n",
    "import gc\n",
    "import pandas as pd\n",
    "import numpy as np\n",
    "import numpy as np\n",
    "from sklearn.metrics import confusion_matrix, ConfusionMatrixDisplay\n",
    "import matplotlib.pyplot as plt\n",
    "from pandas.api.types import CategoricalDtype\n",
    "import torch\n",
    "\n",
    "import warnings\n",
    "#warnings.filterwarnings(\"ignore\")\n",
    "\n",
    "import plotly.express as px\n",
    "import plotly.graph_objects as go\n",
    "from plotly.subplots import make_subplots\n",
    "\n",
    "import time\n",
    "\n",
    "from datasets import load_dataset, Dataset\n",
    "from transformers import pipeline, logging\n",
    "from transformers.pipelines.pt_utils import KeyDataset\n",
    "from fastcore.all import *\n",
    "\n",
    "logging.set_verbosity_error()\n",
    "\n",
    "#torch.set_default_device(\"cuda\")\n",
    "torch.cuda.set_device(0)\n",
    "model_name = \"microsoft/phi-2\"\n",
    "\n",
    "# create pipeline\n",
    "pipe = pipeline(\n",
    "    \"text-generation\",\n",
    "    model=model_name,\n",
    "    device_map=\"auto\",\n",
    "    trust_remote_code=True,\n",
    "    torch_dtype=torch.float16\n",
    ")\n",
    "\n",
    "# load dataset\n",
    "dataset = load_dataset(\n",
    "    \"financial_phrasebank\", \"sentences_allagree\", \n",
    "    split=\"train\"  # note that the dataset does not have a default test split\n",
    ")"
   ]
  },
  {
   "cell_type": "markdown",
   "metadata": {},
   "source": [
    "## Background"
   ]
  },
  {
   "cell_type": "markdown",
   "metadata": {},
   "source": [
    "In this notebook I'll use [phi-2](https://huggingface.co/microsoft/phi-2) to classify sentiment in the [`financial_phrasebank` dataset](https://huggingface.co/datasets/financial_phrasebank).\n",
    "\n",
    "I was inspired to do so after reading [this blog post](https://huggingface.co/blog/synthetic-data-save-costs) and [this corresponding notebook](https://github.com/MoritzLaurer/synthetic-data-blog/blob/main/notebooks/synthetic_data_creation.ipynb) by Moritz Laurer as part of a fastai study group last year."
   ]
  },
  {
   "cell_type": "markdown",
   "metadata": {},
   "source": [
    "This notebook is part of [a series of blog posts](https://vishalbakshi.github.io/blog/#category=TinySentiment) for a project I'm working called **TinySentiment** where I'm experimenting with tiny models to improve their ability to classify sentiment in the `financial_phrasebank` dataset. \n",
    "\n",
    "This notebook establishes a baseline using phi-2."
   ]
  },
  {
   "cell_type": "markdown",
   "metadata": {},
   "source": [
    "Here are the results from this notebook:\n",
    "\n",
    "| Prompt | Strategy | Overall Accuracy | `negative`      | `neutral`         | `positive`       |\n",
    "|:-:|:-:|:-:|:-:|:-:|:-:|\n",
    "| [A](#prompt-a)      | 0-Shot   | 58%               | 97% (295/303)    | 37% (520/1391)     | 86% (490/570)      |\n",
    "| [B](#prompt-b)      | 0-Shot   | 81%               | 87% (264/303)    | 87% (1207/1391)    | 63% (361/570)      |\n",
    "| [C](#prompt-c)      | 3-Shot   | 73%               | 96% (291/302)    | 58% (803/1390)     | <u>**98% (557/569)**</u>      |\n",
    "| [D](#prompt-d)      | 6-Shot   | 74%               | <u>**99% (298/302)**</u>    | 59% (822/1387)     | 95% (542/569)      |\n",
    "| [E](#prompt-e)      | 6-Shot   | 87%               | 98% (296/302)    | 82% (1131/1387)    | 94% (537/569)      |\n",
    "| [F](#prompt-f)      | 6-Shot   | 84%               | <u>**99% (298/302)**</u>    | 77% (1069/1387)    | 95% (538/569)      |\n",
    "| [G](#prompt-g)      | 6-Shot   | 84%               | 98% (295/302)    | 76% (1059/1387)    | 96% (546/569)      |\n",
    "| [H](#prompt-h)      | 6-Shot   | 91%               | 93% (280/302)    | 88% (1219/1387)    | 96% (548/569)      |\n",
    "| [I](#prompt-i)      | 14-Shot  | 89%               | 73% (221/302)    | <u>**99% (1368/1379)**</u>    | 71% (406/569)      |\n",
    "| [J](#prompt-j)      | 20-Shot  | 91%               | 80% (238/299)    | 97% (1340/1379)    | 82% (466/566)      |\n",
    "| [K](#prompt-k)      | 6-Shot   | 91%               | 80% (241/302)    | 95% (1318/1387)    | 89% (505/569)      |\n",
    "| [L](#prompt-l)      | 6-Shot   | 90%               | 81% (246/302)    | 92% (1276/1387)    | 91% (515/569)      |\n",
    "| [M](#prompt-m)      | 6-Shot   | <u>**92%**</u>               | 88% (267/302)    | 94% (1299/1387)    | 90% (510/569)      |\n",
    "| [N](#prompt-n)      | 3-Shot   | 91%               | 78% (235/302)    | 95% (1320/1390)    | 89% (504/569)      |\n",
    "| [O](#prompt-o)      | 3-Shot   | 91%               | 78% (237/302)    | 96% (1333/1390)    | 85% (484/569)      |"
   ]
  },
  {
   "cell_type": "markdown",
   "metadata": {},
   "source": [
    "## Prompt Engineering"
   ]
  },
  {
   "cell_type": "markdown",
   "metadata": {},
   "source": [
    "I'll follow the Instruct/Output prompt template provided on the HuggingFace phi-2 model card page:\n",
    "\n",
    "```\n",
    "Instruct: Write a detailed analogy between mathematics and a lighthouse.\n",
    "Output: Mathematics is like a lighthouse. Just as a lighthouse guides ...\n",
    "```"
   ]
  },
  {
   "cell_type": "markdown",
   "metadata": {},
   "source": [
    "For bookkeeping purposes, I'll label the prompts I try with capital letters."
   ]
  },
  {
   "cell_type": "markdown",
   "metadata": {},
   "source": [
    "### Prompt A"
   ]
  },
  {
   "cell_type": "code",
   "execution_count": 4,
   "metadata": {
    "execution": {
     "iopub.execute_input": "2024-08-31T02:31:48.381259Z",
     "iopub.status.busy": "2024-08-31T02:31:48.381017Z",
     "iopub.status.idle": "2024-08-31T02:31:48.385329Z",
     "shell.execute_reply": "2024-08-31T02:31:48.384501Z",
     "shell.execute_reply.started": "2024-08-31T02:31:48.381243Z"
    }
   },
   "outputs": [],
   "source": [
    "promptA = \"\"\"Instruct: label the following TEXT with a single word: negative, positive, or neutral\n",
    "TEXT: {text}\n",
    "Output:\"\"\""
   ]
  },
  {
   "cell_type": "markdown",
   "metadata": {},
   "source": [
    "The `sentence` column in the `dataset` holds the text for which our model will classify its sentiment."
   ]
  },
  {
   "cell_type": "code",
   "execution_count": 5,
   "metadata": {
    "execution": {
     "iopub.execute_input": "2024-08-31T02:31:51.517438Z",
     "iopub.status.busy": "2024-08-31T02:31:51.517192Z",
     "iopub.status.idle": "2024-08-31T02:31:51.526896Z",
     "shell.execute_reply": "2024-08-31T02:31:51.526188Z",
     "shell.execute_reply.started": "2024-08-31T02:31:51.517420Z"
    }
   },
   "outputs": [
    {
     "data": {
      "text/plain": [
       "\"For the last quarter of 2010 , Componenta 's net sales doubled to EUR131m from EUR76m for the same period a year earlier , while it moved to a zero pre-tax profit from a pre-tax loss of EUR7m .\""
      ]
     },
     "execution_count": 5,
     "metadata": {},
     "output_type": "execute_result"
    }
   ],
   "source": [
    "text = dataset[1][\"sentence\"]\n",
    "text"
   ]
  },
  {
   "cell_type": "markdown",
   "metadata": {},
   "source": [
    "I `format` the prompt, replacing `{text}` with the `sentence` from the `dataset`:"
   ]
  },
  {
   "cell_type": "code",
   "execution_count": 6,
   "metadata": {
    "execution": {
     "iopub.execute_input": "2024-08-31T02:31:54.852643Z",
     "iopub.status.busy": "2024-08-31T02:31:54.852414Z",
     "iopub.status.idle": "2024-08-31T02:31:54.856067Z",
     "shell.execute_reply": "2024-08-31T02:31:54.855484Z",
     "shell.execute_reply.started": "2024-08-31T02:31:54.852627Z"
    }
   },
   "outputs": [
    {
     "name": "stdout",
     "output_type": "stream",
     "text": [
      "Instruct: label the following TEXT with a single word: negative, positive, or neutral\n",
      "TEXT: For the last quarter of 2010 , Componenta 's net sales doubled to EUR131m from EUR76m for the same period a year earlier , while it moved to a zero pre-tax profit from a pre-tax loss of EUR7m .\n",
      "Output:\n"
     ]
    }
   ],
   "source": [
    "print(promptA.format(text=text))"
   ]
  },
  {
   "cell_type": "markdown",
   "metadata": {},
   "source": [
    "I'll test out my pipeline by passing the formatted `prompt` to the `pipe`, specifying `max_new_tokens` as `1` since I want a one word response:"
   ]
  },
  {
   "cell_type": "code",
   "execution_count": 7,
   "metadata": {
    "execution": {
     "iopub.execute_input": "2024-08-31T02:31:58.323061Z",
     "iopub.status.busy": "2024-08-31T02:31:58.322376Z",
     "iopub.status.idle": "2024-08-31T02:32:01.996635Z",
     "shell.execute_reply": "2024-08-31T02:32:01.994229Z",
     "shell.execute_reply.started": "2024-08-31T02:31:58.323036Z"
    }
   },
   "outputs": [
    {
     "data": {
      "text/plain": [
       "' Positive'"
      ]
     },
     "execution_count": 7,
     "metadata": {},
     "output_type": "execute_result"
    }
   ],
   "source": [
    "output = pipe(\n",
    "    promptA.format(text=text),\n",
    "    max_new_tokens=1,\n",
    "    do_sample=True, \n",
    "    temperature=0.1,\n",
    "    return_full_text=False)\n",
    "\n",
    "output[0][\"generated_text\"]"
   ]
  },
  {
   "cell_type": "markdown",
   "metadata": {},
   "source": [
    "Looks good!"
   ]
  },
  {
   "cell_type": "markdown",
   "metadata": {},
   "source": [
    "I'll generate responses for the entire `dataset` for each `prompt` (and then calculate the accuracy: the %-age of responses that match the experts).\n",
    "\n",
    "I'll first add a `prompt` column to the `dataset`, utilizing Moritz Laurer's approach for `label_text`:"
   ]
  },
  {
   "cell_type": "code",
   "execution_count": 8,
   "metadata": {
    "execution": {
     "iopub.execute_input": "2024-08-31T02:32:06.031925Z",
     "iopub.status.busy": "2024-08-31T02:32:06.031456Z",
     "iopub.status.idle": "2024-08-31T02:32:06.178471Z",
     "shell.execute_reply": "2024-08-31T02:32:06.177743Z",
     "shell.execute_reply.started": "2024-08-31T02:32:06.031892Z"
    }
   },
   "outputs": [
    {
     "data": {
      "application/vnd.jupyter.widget-view+json": {
       "model_id": "eec69c64f67148bc901f13b7eb068074",
       "version_major": 2,
       "version_minor": 0
      },
      "text/plain": [
       "Map:   0%|          | 0/2264 [00:00<?, ? examples/s]"
      ]
     },
     "metadata": {},
     "output_type": "display_data"
    },
    {
     "name": "stdout",
     "output_type": "stream",
     "text": [
      "Dataset({\n",
      "    features: ['sentence', 'label', 'prompt'],\n",
      "    num_rows: 2264\n",
      "})\n"
     ]
    }
   ],
   "source": [
    "# add formatted prompt as a new column in dataset\n",
    "def add_prompt(item):\n",
    "    item['prompt'] = promptA.format(text=item['sentence'])\n",
    "    return item\n",
    "\n",
    "dataset = dataset.map(add_prompt)\n",
    "dataset"
   ]
  },
  {
   "cell_type": "code",
   "execution_count": 9,
   "metadata": {
    "execution": {
     "iopub.execute_input": "2024-08-31T02:32:15.683836Z",
     "iopub.status.busy": "2024-08-31T02:32:15.683490Z",
     "iopub.status.idle": "2024-08-31T02:32:15.688965Z",
     "shell.execute_reply": "2024-08-31T02:32:15.688127Z",
     "shell.execute_reply.started": "2024-08-31T02:32:15.683815Z"
    }
   },
   "outputs": [
    {
     "name": "stdout",
     "output_type": "stream",
     "text": [
      "According to Gran , the company has no plans to move all production to Russia , although that is where the company is growing .\n",
      "--------\n",
      "Instruct: label the following TEXT with a single word: negative, positive, or neutral\n",
      "TEXT: According to Gran , the company has no plans to move all production to Russia , although that is where the company is growing .\n",
      "Output:\n"
     ]
    }
   ],
   "source": [
    "print(dataset[0]['sentence'])\n",
    "print('--------')\n",
    "print(dataset[0]['prompt'])"
   ]
  },
  {
   "cell_type": "markdown",
   "metadata": {},
   "source": [
    "I'll follow the documentation on [using pipelines on a dataset](https://huggingface.co/docs/transformers/en/pipeline_tutorial#using-pipelines-on-a-dataset) from HuggingFace to create the following inference loop.\n",
    "\n",
    "I'm `strip`ping the output text and converting it to `lower`case to make it consistent. \n",
    "I'll append each `out`put to a list and later add that as a column to a `DataFrame` created from the `dataset`."
   ]
  },
  {
   "cell_type": "code",
   "execution_count": 10,
   "metadata": {
    "execution": {
     "iopub.execute_input": "2024-08-31T02:32:42.195937Z",
     "iopub.status.busy": "2024-08-31T02:32:42.195607Z",
     "iopub.status.idle": "2024-08-31T02:33:40.426119Z",
     "shell.execute_reply": "2024-08-31T02:33:40.425454Z",
     "shell.execute_reply.started": "2024-08-31T02:32:42.195912Z"
    }
   },
   "outputs": [
    {
     "name": "stdout",
     "output_type": "stream",
     "text": [
      "Execution time on Paperspace Free-A4000: 58.225772 seconds\n"
     ]
    }
   ],
   "source": [
    "import time\n",
    "start_time = time.time()\n",
    "\n",
    "outputs = []\n",
    "        \n",
    "for out in pipe(KeyDataset(dataset, \"prompt\"), max_new_tokens=1, do_sample=True, temperature=0.1, return_full_text=False):\n",
    "    outputs.append(out[0]['generated_text'].strip().lower())\n",
    "    \n",
    "end_time = time.time()\n",
    "execution_time = end_time - start_time\n",
    "\n",
    "print(f\"Execution time on Paperspace Free-A4000: {execution_time:.6f} seconds\")"
   ]
  },
  {
   "cell_type": "code",
   "execution_count": 11,
   "metadata": {
    "execution": {
     "iopub.execute_input": "2024-08-31T02:33:44.637464Z",
     "iopub.status.busy": "2024-08-31T02:33:44.636554Z",
     "iopub.status.idle": "2024-08-31T02:33:44.642308Z",
     "shell.execute_reply": "2024-08-31T02:33:44.641477Z",
     "shell.execute_reply.started": "2024-08-31T02:33:44.637439Z"
    }
   },
   "outputs": [
    {
     "data": {
      "text/plain": [
       "True"
      ]
     },
     "execution_count": 11,
     "metadata": {},
     "output_type": "execute_result"
    }
   ],
   "source": [
    "len(dataset) == len(outputs)"
   ]
  },
  {
   "cell_type": "markdown",
   "metadata": {},
   "source": [
    "Next, I'll compare the model's responses to the official dataset responses.\n",
    "\n",
    "The `dataset` has a `label` column which has an integer 0, 1 or 2, \n",
    "corresponding to the labels `negative`, `neutral` and `positive`---this can be seen with the `.features.names` attribute:"
   ]
  },
  {
   "cell_type": "code",
   "execution_count": 13,
   "metadata": {
    "execution": {
     "iopub.execute_input": "2024-08-31T02:34:13.413776Z",
     "iopub.status.busy": "2024-08-31T02:34:13.413490Z",
     "iopub.status.idle": "2024-08-31T02:34:13.418798Z",
     "shell.execute_reply": "2024-08-31T02:34:13.418227Z",
     "shell.execute_reply.started": "2024-08-31T02:34:13.413757Z"
    }
   },
   "outputs": [
    {
     "data": {
      "text/plain": [
       "['negative', 'neutral', 'positive']"
      ]
     },
     "execution_count": 13,
     "metadata": {},
     "output_type": "execute_result"
    }
   ],
   "source": [
    "dataset.features[\"label\"].names"
   ]
  },
  {
   "cell_type": "code",
   "execution_count": 14,
   "metadata": {
    "execution": {
     "iopub.execute_input": "2024-08-31T02:34:14.730827Z",
     "iopub.status.busy": "2024-08-31T02:34:14.730558Z",
     "iopub.status.idle": "2024-08-31T02:34:14.736314Z",
     "shell.execute_reply": "2024-08-31T02:34:14.735506Z",
     "shell.execute_reply.started": "2024-08-31T02:34:14.730810Z"
    }
   },
   "outputs": [
    {
     "data": {
      "text/plain": [
       "{0, 1, 2}"
      ]
     },
     "execution_count": 14,
     "metadata": {},
     "output_type": "execute_result"
    }
   ],
   "source": [
    "set(dataset['label'])"
   ]
  },
  {
   "cell_type": "code",
   "execution_count": 15,
   "metadata": {
    "execution": {
     "iopub.execute_input": "2024-08-31T02:34:20.058171Z",
     "iopub.status.busy": "2024-08-31T02:34:20.057504Z",
     "iopub.status.idle": "2024-08-31T02:34:20.062570Z",
     "shell.execute_reply": "2024-08-31T02:34:20.061785Z",
     "shell.execute_reply.started": "2024-08-31T02:34:20.058147Z"
    }
   },
   "outputs": [
    {
     "name": "stdout",
     "output_type": "stream",
     "text": [
      "In the third quarter of 2010 , net sales increased by 5.2 % to EUR 205.5 mn , and operating profit by 34.9 % to EUR 23.5 mn .\n",
      "---\n",
      "2\n"
     ]
    }
   ],
   "source": [
    "print(dataset[2]['sentence'])\n",
    "print('---')\n",
    "print(dataset[2]['label'])"
   ]
  },
  {
   "cell_type": "markdown",
   "metadata": {},
   "source": [
    "Following the [synthetic data creation notebook](https://github.com/MoritzLaurer/synthetic-data-blog/blob/main/notebooks/synthetic_data_creation.ipynb), I'll add a `label_text` column to the `dataset`, which holds the actual label string."
   ]
  },
  {
   "cell_type": "code",
   "execution_count": 32,
   "metadata": {
    "execution": {
     "iopub.execute_input": "2024-08-31T02:43:09.410814Z",
     "iopub.status.busy": "2024-08-31T02:43:09.410483Z",
     "iopub.status.idle": "2024-08-31T02:43:09.516633Z",
     "shell.execute_reply": "2024-08-31T02:43:09.516210Z",
     "shell.execute_reply.started": "2024-08-31T02:43:09.410792Z"
    }
   },
   "outputs": [
    {
     "data": {
      "application/vnd.jupyter.widget-view+json": {
       "model_id": "7a0fa1b8b6d2467c8d6078086570ca0c",
       "version_major": 2,
       "version_minor": 0
      },
      "text/plain": [
       "Map:   0%|          | 0/2264 [00:00<?, ? examples/s]"
      ]
     },
     "metadata": {},
     "output_type": "display_data"
    },
    {
     "name": "stdout",
     "output_type": "stream",
     "text": [
      "Dataset({\n",
      "    features: ['sentence', 'label', 'prompt', 'label_text'],\n",
      "    num_rows: 2264\n",
      "})\n"
     ]
    }
   ],
   "source": [
    "# create a new column with the numeric label verbalised as label_text (e.g. \"positive\" instead of \"0\")\n",
    "label_map = {i: label_text for i, label_text in enumerate(dataset.features[\"label\"].names)}\n",
    "\n",
    "def add_label_text(example):\n",
    "    example[\"label_text\"] = label_map[example[\"label\"]]\n",
    "    return example\n",
    "\n",
    "dataset = dataset.map(add_label_text)\n",
    "\n",
    "print(dataset)"
   ]
  },
  {
   "cell_type": "code",
   "execution_count": 17,
   "metadata": {
    "execution": {
     "iopub.execute_input": "2024-08-31T02:34:28.699738Z",
     "iopub.status.busy": "2024-08-31T02:34:28.698865Z",
     "iopub.status.idle": "2024-08-31T02:34:28.704592Z",
     "shell.execute_reply": "2024-08-31T02:34:28.703794Z",
     "shell.execute_reply.started": "2024-08-31T02:34:28.699709Z"
    }
   },
   "outputs": [
    {
     "name": "stdout",
     "output_type": "stream",
     "text": [
      "In the third quarter of 2010 , net sales increased by 5.2 % to EUR 205.5 mn , and operating profit by 34.9 % to EUR 23.5 mn .\n",
      "---\n",
      "positive\n"
     ]
    }
   ],
   "source": [
    "print(dataset[2]['sentence'])\n",
    "print('---')\n",
    "print(dataset[2]['label_text'])"
   ]
  },
  {
   "cell_type": "markdown",
   "metadata": {},
   "source": [
    "Now I can convert the `dataset` to a `DataFrame`, append the model `outputs` and calculate the accuracy.\n",
    "Note that I'll replace any `outputs` column value that is not `negative`, `positive`, or `neutral` with NA."
   ]
  },
  {
   "cell_type": "code",
   "execution_count": 18,
   "metadata": {
    "execution": {
     "iopub.execute_input": "2024-08-31T02:34:44.033898Z",
     "iopub.status.busy": "2024-08-31T02:34:44.033045Z",
     "iopub.status.idle": "2024-08-31T02:34:44.063647Z",
     "shell.execute_reply": "2024-08-31T02:34:44.062420Z",
     "shell.execute_reply.started": "2024-08-31T02:34:44.033864Z"
    }
   },
   "outputs": [
    {
     "data": {
      "text/html": [
       "<div>\n",
       "<style scoped>\n",
       "    .dataframe tbody tr th:only-of-type {\n",
       "        vertical-align: middle;\n",
       "    }\n",
       "\n",
       "    .dataframe tbody tr th {\n",
       "        vertical-align: top;\n",
       "    }\n",
       "\n",
       "    .dataframe thead th {\n",
       "        text-align: right;\n",
       "    }\n",
       "</style>\n",
       "<table border=\"1\" class=\"dataframe\">\n",
       "  <thead>\n",
       "    <tr style=\"text-align: right;\">\n",
       "      <th></th>\n",
       "      <th>sentence</th>\n",
       "      <th>label</th>\n",
       "      <th>prompt</th>\n",
       "      <th>label_text</th>\n",
       "      <th>outputs</th>\n",
       "      <th>lm_match</th>\n",
       "    </tr>\n",
       "  </thead>\n",
       "  <tbody>\n",
       "    <tr>\n",
       "      <th>0</th>\n",
       "      <td>According to Gran , the company has no plans t...</td>\n",
       "      <td>1</td>\n",
       "      <td>Instruct: label the following TEXT with a sing...</td>\n",
       "      <td>neutral</td>\n",
       "      <td>neutral</td>\n",
       "      <td>True</td>\n",
       "    </tr>\n",
       "    <tr>\n",
       "      <th>1</th>\n",
       "      <td>For the last quarter of 2010 , Componenta 's n...</td>\n",
       "      <td>2</td>\n",
       "      <td>Instruct: label the following TEXT with a sing...</td>\n",
       "      <td>positive</td>\n",
       "      <td>other</td>\n",
       "      <td>False</td>\n",
       "    </tr>\n",
       "    <tr>\n",
       "      <th>2</th>\n",
       "      <td>In the third quarter of 2010 , net sales incre...</td>\n",
       "      <td>2</td>\n",
       "      <td>Instruct: label the following TEXT with a sing...</td>\n",
       "      <td>positive</td>\n",
       "      <td>positive</td>\n",
       "      <td>True</td>\n",
       "    </tr>\n",
       "    <tr>\n",
       "      <th>3</th>\n",
       "      <td>Operating profit rose to EUR 13.1 mn from EUR ...</td>\n",
       "      <td>2</td>\n",
       "      <td>Instruct: label the following TEXT with a sing...</td>\n",
       "      <td>positive</td>\n",
       "      <td>positive</td>\n",
       "      <td>True</td>\n",
       "    </tr>\n",
       "    <tr>\n",
       "      <th>4</th>\n",
       "      <td>Operating profit totalled EUR 21.1 mn , up fro...</td>\n",
       "      <td>2</td>\n",
       "      <td>Instruct: label the following TEXT with a sing...</td>\n",
       "      <td>positive</td>\n",
       "      <td>positive</td>\n",
       "      <td>True</td>\n",
       "    </tr>\n",
       "  </tbody>\n",
       "</table>\n",
       "</div>"
      ],
      "text/plain": [
       "                                            sentence  label  \\\n",
       "0  According to Gran , the company has no plans t...      1   \n",
       "1  For the last quarter of 2010 , Componenta 's n...      2   \n",
       "2  In the third quarter of 2010 , net sales incre...      2   \n",
       "3  Operating profit rose to EUR 13.1 mn from EUR ...      2   \n",
       "4  Operating profit totalled EUR 21.1 mn , up fro...      2   \n",
       "\n",
       "                                              prompt label_text   outputs  \\\n",
       "0  Instruct: label the following TEXT with a sing...    neutral   neutral   \n",
       "1  Instruct: label the following TEXT with a sing...   positive     other   \n",
       "2  Instruct: label the following TEXT with a sing...   positive  positive   \n",
       "3  Instruct: label the following TEXT with a sing...   positive  positive   \n",
       "4  Instruct: label the following TEXT with a sing...   positive  positive   \n",
       "\n",
       "   lm_match  \n",
       "0      True  \n",
       "1     False  \n",
       "2      True  \n",
       "3      True  \n",
       "4      True  "
      ]
     },
     "execution_count": 18,
     "metadata": {},
     "output_type": "execute_result"
    }
   ],
   "source": [
    "df = dataset.to_pandas()\n",
    "df['outputs'] = pd.Series(outputs).str.strip()\n",
    "df['outputs'] = df['outputs'].apply(lambda x: x if x in ['negative', 'positive', 'neutral'] else \"other\")\n",
    "df['lm_match'] = df['label_text'] == df['outputs']\n",
    "df.head()"
   ]
  },
  {
   "cell_type": "code",
   "execution_count": 19,
   "metadata": {
    "execution": {
     "iopub.execute_input": "2024-08-31T02:34:47.102916Z",
     "iopub.status.busy": "2024-08-31T02:34:47.102265Z",
     "iopub.status.idle": "2024-08-31T02:34:47.107602Z",
     "shell.execute_reply": "2024-08-31T02:34:47.107056Z",
     "shell.execute_reply.started": "2024-08-31T02:34:47.102891Z"
    }
   },
   "outputs": [
    {
     "data": {
      "text/plain": [
       "array(['neutral', 'other', 'positive', 'negative'], dtype=object)"
      ]
     },
     "execution_count": 19,
     "metadata": {},
     "output_type": "execute_result"
    }
   ],
   "source": [
    "df['outputs'].unique()"
   ]
  },
  {
   "cell_type": "code",
   "execution_count": 20,
   "metadata": {
    "execution": {
     "iopub.execute_input": "2024-08-31T02:34:50.641742Z",
     "iopub.status.busy": "2024-08-31T02:34:50.641070Z",
     "iopub.status.idle": "2024-08-31T02:34:50.647232Z",
     "shell.execute_reply": "2024-08-31T02:34:50.646414Z",
     "shell.execute_reply.started": "2024-08-31T02:34:50.641718Z"
    }
   },
   "outputs": [
    {
     "data": {
      "text/plain": [
       "array(['neutral', 'positive', 'negative'], dtype=object)"
      ]
     },
     "execution_count": 20,
     "metadata": {},
     "output_type": "execute_result"
    }
   ],
   "source": [
    "df['label_text'].unique()"
   ]
  },
  {
   "cell_type": "code",
   "execution_count": 21,
   "metadata": {
    "execution": {
     "iopub.execute_input": "2024-08-31T02:34:54.250727Z",
     "iopub.status.busy": "2024-08-31T02:34:54.250164Z",
     "iopub.status.idle": "2024-08-31T02:34:54.255645Z",
     "shell.execute_reply": "2024-08-31T02:34:54.255011Z",
     "shell.execute_reply.started": "2024-08-31T02:34:54.250706Z"
    }
   },
   "outputs": [
    {
     "data": {
      "text/plain": [
       "0.5746466431095406"
      ]
     },
     "execution_count": 21,
     "metadata": {},
     "output_type": "execute_result"
    }
   ],
   "source": [
    "df['lm_match'].mean()"
   ]
  },
  {
   "cell_type": "markdown",
   "metadata": {},
   "source": [
    "This model/prompt combo is performing better than random chance (33%) but still a far cry from the accuracy obtained in Moritz' post \n",
    "(94% by Mixtral-8x7B-Instruct-v0.1 w/ Chain-of-Thought and 94% by GPT4 w/ a simple prompt). I believe phi-2 can do better! I just have to find the right prompt.\n"
   ]
  },
  {
   "cell_type": "markdown",
   "metadata": {},
   "source": [
    "With Prompt A, phi-2 is _really_ good at predicting negative and positive sentiment but terrible at predicting neutral sentiment. That makes sense! \n",
    "There's a lot of nuance in determining if something is neutral."
   ]
  },
  {
   "cell_type": "code",
   "execution_count": 22,
   "metadata": {
    "execution": {
     "iopub.execute_input": "2024-08-31T02:35:15.633001Z",
     "iopub.status.busy": "2024-08-31T02:35:15.632268Z",
     "iopub.status.idle": "2024-08-31T02:35:15.638845Z",
     "shell.execute_reply": "2024-08-31T02:35:15.638070Z",
     "shell.execute_reply.started": "2024-08-31T02:35:15.632968Z"
    }
   },
   "outputs": [],
   "source": [
    "#| code-fold: true\n",
    "#| code-summary: \"Show `make_cm` function\"\n",
    "def make_cm(df):\n",
    "    \"\"\"Create confusion matrix for true vs predicted sentiment classes\"\"\"\n",
    "    \n",
    "    cm = confusion_matrix(y_true=df['label_text'], y_pred=df['outputs'], labels=['negative', 'neutral', 'positive', 'other'])\n",
    "    disp = ConfusionMatrixDisplay(cm, display_labels=['negative', 'neutral', 'positive', 'other'])\n",
    "    \n",
    "    # I chose 8x8 so it fits on one screen but still is large\n",
    "    fig, ax = plt.subplots(figsize=(8,8))\n",
    "    disp.plot(ax=ax,text_kw={'fontsize': 16}, cmap='Blues', colorbar=False);\n",
    "    \n",
    "    # change label font size without changing label text\n",
    "    ax.xaxis.label.set_fontsize(18)\n",
    "    ax.yaxis.label.set_fontsize(18)\n",
    "    \n",
    "    # make tick labels larger\n",
    "    ax.tick_params(axis='y', labelsize=16)\n",
    "    ax.tick_params(axis='x', labelsize=16)"
   ]
  },
  {
   "cell_type": "code",
   "execution_count": 23,
   "metadata": {
    "execution": {
     "iopub.execute_input": "2024-08-31T02:35:21.034641Z",
     "iopub.status.busy": "2024-08-31T02:35:21.034406Z",
     "iopub.status.idle": "2024-08-31T02:35:21.158543Z",
     "shell.execute_reply": "2024-08-31T02:35:21.157983Z",
     "shell.execute_reply.started": "2024-08-31T02:35:21.034624Z"
    }
   },
   "outputs": [
    {
     "data": {
      "image/png": "[encoded data removed]",
      "text/plain": [
       "<Figure size 576x576 with 1 Axes>"
      ]
     },
     "metadata": {
      "needs_background": "light"
     },
     "output_type": "display_data"
    }
   ],
   "source": [
    "make_cm(df)"
   ]
  },
  {
   "cell_type": "markdown",
   "metadata": {},
   "source": [
    "### Prompt B"
   ]
  },
  {
   "cell_type": "markdown",
   "metadata": {},
   "source": [
    "I'll create a helper function to take my prompt, add the formatted prompt to the `dataset`, generate responses, \n",
    "and calculate and return the `DataFrame` and accuracy. "
   ]
  },
  {
   "cell_type": "code",
   "execution_count": 30,
   "metadata": {
    "execution": {
     "iopub.execute_input": "2024-08-31T02:39:08.128248Z",
     "iopub.status.busy": "2024-08-31T02:39:08.127206Z",
     "iopub.status.idle": "2024-08-31T02:39:08.134712Z",
     "shell.execute_reply": "2024-08-31T02:39:08.133838Z",
     "shell.execute_reply.started": "2024-08-31T02:39:08.128182Z"
    }
   },
   "outputs": [],
   "source": [
    "#| code-fold: true\n",
    "#| code-summary: \"Show `add_prompt` and `generate_responses` functions\"\n",
    "def add_prompt(item, prompt):\n",
    "        item['prompt'] = prompt.format(text=item['sentence'])\n",
    "        return item\n",
    "    \n",
    "def generate_responses(dataset, prompt, temp=0.1):\n",
    "    ## add formatted prompt as a new column in dataset\n",
    "    dataset = dataset.map(add_prompt, fn_kwargs={\"prompt\": prompt})\n",
    "    \n",
    "    # check that the prompt is correctly formatted\n",
    "    print(dataset[0]['prompt'])\n",
    "    print('---------')\n",
    "    \n",
    "    # generate responses\n",
    "    outputs = []\n",
    "        \n",
    "    for out in pipe(KeyDataset(dataset, \"prompt\"), max_new_tokens=1, do_sample=True, temperature=temp, return_full_text=False):\n",
    "        outputs.append(out[0]['generated_text'].strip().lower())\n",
    "    \n",
    "    # calculate accuracy\n",
    "    df = dataset.to_pandas()\n",
    "    df['outputs'] = pd.Series(outputs)\n",
    "    df['lm_match'] = df['label_text'] == df['outputs']\n",
    "    acc = df.lm_match.mean()\n",
    "    return df, acc"
   ]
  },
  {
   "cell_type": "markdown",
   "metadata": {},
   "source": [
    "Making sure it works with Prompt A as expected:"
   ]
  },
  {
   "cell_type": "code",
   "execution_count": 51,
   "metadata": {
    "execution": {
     "iopub.execute_input": "2024-07-30T01:12:25.389841Z",
     "iopub.status.busy": "2024-07-30T01:12:25.389651Z",
     "iopub.status.idle": "2024-07-30T01:13:20.396674Z",
     "shell.execute_reply": "2024-07-30T01:13:20.396213Z",
     "shell.execute_reply.started": "2024-07-30T01:12:25.389825Z"
    }
   },
   "outputs": [
    {
     "name": "stdout",
     "output_type": "stream",
     "text": [
      "Instruct: label the following TEXT with a single word: negative, positive, or neutral\n",
      "TEXT: According to Gran , the company has no plans to move all production to Russia , although that is where the company is growing .\n",
      "Output:\n",
      "---------\n"
     ]
    },
    {
     "data": {
      "text/plain": [
       "0.575530035335689"
      ]
     },
     "execution_count": 51,
     "metadata": {},
     "output_type": "execute_result"
    }
   ],
   "source": [
    "df, acc = generate_responses(dataset, promptA)\n",
    "acc"
   ]
  },
  {
   "cell_type": "markdown",
   "metadata": {},
   "source": [
    "Good. I'll now try a prompt where I add the instruction again after the `TEXT`:"
   ]
  },
  {
   "cell_type": "code",
   "execution_count": 52,
   "metadata": {
    "execution": {
     "iopub.execute_input": "2024-07-30T01:15:22.061218Z",
     "iopub.status.busy": "2024-07-30T01:15:22.060589Z",
     "iopub.status.idle": "2024-07-30T01:15:22.064461Z",
     "shell.execute_reply": "2024-07-30T01:15:22.063811Z",
     "shell.execute_reply.started": "2024-07-30T01:15:22.061194Z"
    }
   },
   "outputs": [],
   "source": [
    "promptB = \"\"\"Instruct: label the following TEXT with a single word: negative, positive, or neutral\n",
    "TEXT: {text}\n",
    "label the TEXT with a single word: negative, positive, or neutral\n",
    "Output:\"\"\""
   ]
  },
  {
   "cell_type": "code",
   "execution_count": 53,
   "metadata": {
    "execution": {
     "iopub.execute_input": "2024-07-30T01:15:39.494203Z",
     "iopub.status.busy": "2024-07-30T01:15:39.493674Z",
     "iopub.status.idle": "2024-07-30T01:16:37.552531Z",
     "shell.execute_reply": "2024-07-30T01:16:37.551904Z",
     "shell.execute_reply.started": "2024-07-30T01:15:39.494180Z"
    }
   },
   "outputs": [
    {
     "data": {
      "application/vnd.jupyter.widget-view+json": {
       "model_id": "8052885d0a27413d8e5a40ca0099084c",
       "version_major": 2,
       "version_minor": 0
      },
      "text/plain": [
       "Map:   0%|          | 0/2264 [00:00<?, ? examples/s]"
      ]
     },
     "metadata": {},
     "output_type": "display_data"
    },
    {
     "name": "stdout",
     "output_type": "stream",
     "text": [
      "Instruct: label the following TEXT with a single word: negative, positive, or neutral\n",
      "TEXT: According to Gran , the company has no plans to move all production to Russia , although that is where the company is growing .\n",
      "label the TEXT with a single word: negative, positive, or neutral\n",
      "Output:\n",
      "---------\n"
     ]
    }
   ],
   "source": [
    "df, acc = generate_responses(dataset, promptB)"
   ]
  },
  {
   "cell_type": "code",
   "execution_count": 54,
   "metadata": {
    "execution": {
     "iopub.execute_input": "2024-07-30T01:16:44.698888Z",
     "iopub.status.busy": "2024-07-30T01:16:44.698087Z",
     "iopub.status.idle": "2024-07-30T01:16:44.703204Z",
     "shell.execute_reply": "2024-07-30T01:16:44.702502Z",
     "shell.execute_reply.started": "2024-07-30T01:16:44.698867Z"
    }
   },
   "outputs": [
    {
     "data": {
      "text/plain": [
       "0.8091872791519434"
      ]
     },
     "execution_count": 54,
     "metadata": {},
     "output_type": "execute_result"
    }
   ],
   "source": [
    "acc"
   ]
  },
  {
   "cell_type": "markdown",
   "metadata": {},
   "source": [
    "Wow! Just reiterating the instruction before `Output` boosted the accuracy by 23%."
   ]
  },
  {
   "cell_type": "markdown",
   "metadata": {},
   "source": [
    "With Prompt B phi-2 is _significantly_ better at predicting `neutral` sentiment, although it got slightly worse at predicting `negative` and `positive` sentiment."
   ]
  },
  {
   "cell_type": "code",
   "execution_count": 55,
   "metadata": {
    "execution": {
     "iopub.execute_input": "2024-07-30T01:20:37.953653Z",
     "iopub.status.busy": "2024-07-30T01:20:37.953008Z",
     "iopub.status.idle": "2024-07-30T01:20:38.036211Z",
     "shell.execute_reply": "2024-07-30T01:20:38.035786Z",
     "shell.execute_reply.started": "2024-07-30T01:20:37.953630Z"
    }
   },
   "outputs": [
    {
     "data": {
      "image/png": "[encoded data removed]",
      "text/plain": [
       "<Figure size 576x576 with 1 Axes>"
      ]
     },
     "metadata": {
      "needs_background": "light"
     },
     "output_type": "display_data"
    }
   ],
   "source": [
    "make_cm(df)"
   ]
  },
  {
   "cell_type": "markdown",
   "metadata": {},
   "source": [
    "### Prompt C"
   ]
  },
  {
   "cell_type": "markdown",
   "metadata": {},
   "source": [
    "I'll now try few-shot prompting, using examples from the dataset. Even though I am changing company name and monetary values I would think that including \n",
    "those examples as part of the classification accuracy would be considered data contamination so I'll remove those examples from the dataset.\n",
    "\n",
    "That way I can just use the actual examples without changing them."
   ]
  },
  {
   "cell_type": "code",
   "execution_count": 56,
   "metadata": {
    "execution": {
     "iopub.execute_input": "2024-07-30T01:26:19.397052Z",
     "iopub.status.busy": "2024-07-30T01:26:19.396363Z",
     "iopub.status.idle": "2024-07-30T01:26:19.401477Z",
     "shell.execute_reply": "2024-07-30T01:26:19.400894Z",
     "shell.execute_reply.started": "2024-07-30T01:26:19.397027Z"
    }
   },
   "outputs": [
    {
     "data": {
      "text/plain": [
       "{'sentence': 'According to Gran , the company has no plans to move all production to Russia , although that is where the company is growing .',\n",
       " 'label': 1,\n",
       " 'prompt': 'Instruct: label the following TEXT with a single word: negative, positive, or neutral\\nTEXT: According to Gran , the company has no plans to move all production to Russia , although that is where the company is growing .\\nOutput:',\n",
       " 'label_text': 'neutral'}"
      ]
     },
     "execution_count": 56,
     "metadata": {},
     "output_type": "execute_result"
    }
   ],
   "source": [
    "dataset[0]"
   ]
  },
  {
   "cell_type": "code",
   "execution_count": 57,
   "metadata": {
    "execution": {
     "iopub.execute_input": "2024-07-30T01:26:57.064215Z",
     "iopub.status.busy": "2024-07-30T01:26:57.063964Z",
     "iopub.status.idle": "2024-07-30T01:26:57.069055Z",
     "shell.execute_reply": "2024-07-30T01:26:57.068433Z",
     "shell.execute_reply.started": "2024-07-30T01:26:57.064198Z"
    }
   },
   "outputs": [
    {
     "data": {
      "text/plain": [
       "{'sentence': \"For the last quarter of 2010 , Componenta 's net sales doubled to EUR131m from EUR76m for the same period a year earlier , while it moved to a zero pre-tax profit from a pre-tax loss of EUR7m .\",\n",
       " 'label': 2,\n",
       " 'prompt': \"Instruct: label the following TEXT with a single word: negative, positive, or neutral\\nTEXT: For the last quarter of 2010 , Componenta 's net sales doubled to EUR131m from EUR76m for the same period a year earlier , while it moved to a zero pre-tax profit from a pre-tax loss of EUR7m .\\nOutput:\",\n",
       " 'label_text': 'positive'}"
      ]
     },
     "execution_count": 57,
     "metadata": {},
     "output_type": "execute_result"
    }
   ],
   "source": [
    "dataset[1]"
   ]
  },
  {
   "cell_type": "code",
   "execution_count": 62,
   "metadata": {
    "execution": {
     "iopub.execute_input": "2024-07-30T01:28:22.304947Z",
     "iopub.status.busy": "2024-07-30T01:28:22.304621Z",
     "iopub.status.idle": "2024-07-30T01:28:22.309974Z",
     "shell.execute_reply": "2024-07-30T01:28:22.309515Z",
     "shell.execute_reply.started": "2024-07-30T01:28:22.304924Z"
    }
   },
   "outputs": [
    {
     "data": {
      "text/plain": [
       "{'sentence': 'Jan. 6 -- Ford is struggling in the face of slowing truck and SUV sales and a surfeit of up-to-date , gotta-have cars .',\n",
       " 'label': 0,\n",
       " 'prompt': 'Instruct: label the following TEXT with a single word: negative, positive, or neutral\\nTEXT: Jan. 6 -- Ford is struggling in the face of slowing truck and SUV sales and a surfeit of up-to-date , gotta-have cars .\\nOutput:',\n",
       " 'label_text': 'negative'}"
      ]
     },
     "execution_count": 62,
     "metadata": {},
     "output_type": "execute_result"
    }
   ],
   "source": [
    "dataset[292]"
   ]
  },
  {
   "cell_type": "code",
   "execution_count": 82,
   "metadata": {
    "execution": {
     "iopub.execute_input": "2024-07-30T01:38:37.893902Z",
     "iopub.status.busy": "2024-07-30T01:38:37.893282Z",
     "iopub.status.idle": "2024-07-30T01:38:37.896975Z",
     "shell.execute_reply": "2024-07-30T01:38:37.896531Z",
     "shell.execute_reply.started": "2024-07-30T01:38:37.893880Z"
    }
   },
   "outputs": [],
   "source": [
    "#| code-fold: true\n",
    "#| code-summary: \"Show `promptC`\"\n",
    "promptC = \"\"\"Instruct: label the following TEXT with a single word: negative, positive, or neutral\n",
    "\n",
    "Examples:\n",
    "\n",
    "TEXT: According to Gran , the company has no plans to move all production to Russia , although that is where the company is growing .\n",
    "label the TEXT with a single word: negative, positive, or neutral\n",
    "Output:neutral\n",
    "\n",
    "TEXT: For the last quarter of 2010 , Componenta 's net sales doubled to EUR131m from EUR76m for the same period a year earlier , while it moved to a zero pre-tax profit from a pre-tax loss of EUR7m .\n",
    "label the TEXT with a single word: negative, positive, or neutral\n",
    "Output:positive\n",
    "\n",
    "TEXT: Jan. 6 -- Ford is struggling in the face of slowing truck and SUV sales and a surfeit of up-to-date , gotta-have cars .\n",
    "label the TEXT with a single word: negative, positive, or neutral\n",
    "Output:negative\n",
    "\n",
    "TEXT: {text}\n",
    "label the TEXT with a single word: negative, positive, or neutral\n",
    "Output:\"\"\""
   ]
  },
  {
   "cell_type": "code",
   "execution_count": 71,
   "metadata": {
    "execution": {
     "iopub.execute_input": "2024-07-30T01:35:58.954810Z",
     "iopub.status.busy": "2024-07-30T01:35:58.954556Z",
     "iopub.status.idle": "2024-07-30T01:35:58.958066Z",
     "shell.execute_reply": "2024-07-30T01:35:58.957581Z",
     "shell.execute_reply.started": "2024-07-30T01:35:58.954792Z"
    }
   },
   "outputs": [],
   "source": [
    "exclude_idxs = [0, 1, 292]"
   ]
  },
  {
   "cell_type": "code",
   "execution_count": 107,
   "metadata": {
    "execution": {
     "iopub.execute_input": "2024-07-30T02:12:11.165870Z",
     "iopub.status.busy": "2024-07-30T02:12:11.165580Z",
     "iopub.status.idle": "2024-07-30T02:12:11.170268Z",
     "shell.execute_reply": "2024-07-30T02:12:11.169699Z",
     "shell.execute_reply.started": "2024-07-30T02:12:11.165850Z"
    }
   },
   "outputs": [
    {
     "data": {
      "text/plain": [
       "Dataset({\n",
       "    features: ['sentence', 'label', 'prompt', 'label_text', '__index_level_0__'],\n",
       "    num_rows: 2261\n",
       "})"
      ]
     },
     "execution_count": 107,
     "metadata": {},
     "output_type": "execute_result"
    }
   ],
   "source": [
    "few_shot_ds"
   ]
  },
  {
   "cell_type": "code",
   "execution_count": 25,
   "metadata": {
    "execution": {
     "iopub.execute_input": "2024-08-31T02:37:06.298125Z",
     "iopub.status.busy": "2024-08-31T02:37:06.297639Z",
     "iopub.status.idle": "2024-08-31T02:37:06.304166Z",
     "shell.execute_reply": "2024-08-31T02:37:06.303604Z",
     "shell.execute_reply.started": "2024-08-31T02:37:06.298101Z"
    }
   },
   "outputs": [],
   "source": [
    "def ds_subset(dataset, exclude_idxs, columns=[0, 1, 2, 3]):\n",
    "    idxs = list(range(len(dataset)))\n",
    "    idxs = [x for x in idxs if x not in exclude_idxs]\n",
    "    ddf = dataset.to_pandas()\n",
    "    new_ds = Dataset.from_pandas(ddf.iloc[idxs, columns])\n",
    "    return new_ds"
   ]
  },
  {
   "cell_type": "code",
   "execution_count": 103,
   "metadata": {
    "execution": {
     "iopub.execute_input": "2024-07-30T02:09:02.270147Z",
     "iopub.status.busy": "2024-07-30T02:09:02.269164Z",
     "iopub.status.idle": "2024-07-30T02:09:02.283836Z",
     "shell.execute_reply": "2024-07-30T02:09:02.283241Z",
     "shell.execute_reply.started": "2024-07-30T02:09:02.270119Z"
    }
   },
   "outputs": [],
   "source": [
    "few_shot_ds = ds_subset(dataset, exclude_idxs)"
   ]
  },
  {
   "cell_type": "code",
   "execution_count": 104,
   "metadata": {
    "execution": {
     "iopub.execute_input": "2024-07-30T02:09:11.300205Z",
     "iopub.status.busy": "2024-07-30T02:09:11.299956Z",
     "iopub.status.idle": "2024-07-30T02:09:11.304890Z",
     "shell.execute_reply": "2024-07-30T02:09:11.304287Z",
     "shell.execute_reply.started": "2024-07-30T02:09:11.300189Z"
    }
   },
   "outputs": [
    {
     "data": {
      "text/plain": [
       "2261"
      ]
     },
     "execution_count": 104,
     "metadata": {},
     "output_type": "execute_result"
    }
   ],
   "source": [
    "len(few_shot_ds)"
   ]
  },
  {
   "cell_type": "code",
   "execution_count": 79,
   "metadata": {
    "execution": {
     "iopub.execute_input": "2024-07-30T01:38:07.177058Z",
     "iopub.status.busy": "2024-07-30T01:38:07.176803Z",
     "iopub.status.idle": "2024-07-30T01:38:07.182169Z",
     "shell.execute_reply": "2024-07-30T01:38:07.181532Z",
     "shell.execute_reply.started": "2024-07-30T01:38:07.177040Z"
    }
   },
   "outputs": [
    {
     "data": {
      "text/plain": [
       "{'sentence': 'In the third quarter of 2010 , net sales increased by 5.2 % to EUR 205.5 mn , and operating profit by 34.9 % to EUR 23.5 mn .',\n",
       " 'label': 2,\n",
       " 'prompt': 'Instruct: label the following TEXT with a single word: negative, positive, or neutral\\nTEXT: In the third quarter of 2010 , net sales increased by 5.2 % to EUR 205.5 mn , and operating profit by 34.9 % to EUR 23.5 mn .\\nOutput:',\n",
       " 'label_text': 'positive',\n",
       " '__index_level_0__': 2}"
      ]
     },
     "execution_count": 79,
     "metadata": {},
     "output_type": "execute_result"
    }
   ],
   "source": [
    "few_shot_ds[0]"
   ]
  },
  {
   "cell_type": "code",
   "execution_count": 80,
   "metadata": {
    "execution": {
     "iopub.execute_input": "2024-07-30T01:38:16.729594Z",
     "iopub.status.busy": "2024-07-30T01:38:16.728965Z",
     "iopub.status.idle": "2024-07-30T01:38:16.734987Z",
     "shell.execute_reply": "2024-07-30T01:38:16.734199Z",
     "shell.execute_reply.started": "2024-07-30T01:38:16.729564Z"
    }
   },
   "outputs": [
    {
     "data": {
      "text/plain": [
       "{'sentence': 'Operating profit rose to EUR 13.1 mn from EUR 8.7 mn in the corresponding period in 2007 representing 7.7 % of net sales .',\n",
       " 'label': 2,\n",
       " 'prompt': 'Instruct: label the following TEXT with a single word: negative, positive, or neutral\\nTEXT: Operating profit rose to EUR 13.1 mn from EUR 8.7 mn in the corresponding period in 2007 representing 7.7 % of net sales .\\nOutput:',\n",
       " 'label_text': 'positive',\n",
       " '__index_level_0__': 3}"
      ]
     },
     "execution_count": 80,
     "metadata": {},
     "output_type": "execute_result"
    }
   ],
   "source": [
    "few_shot_ds[1]"
   ]
  },
  {
   "cell_type": "code",
   "execution_count": 81,
   "metadata": {
    "execution": {
     "iopub.execute_input": "2024-07-30T01:38:23.758611Z",
     "iopub.status.busy": "2024-07-30T01:38:23.758076Z",
     "iopub.status.idle": "2024-07-30T01:38:23.762771Z",
     "shell.execute_reply": "2024-07-30T01:38:23.762311Z",
     "shell.execute_reply.started": "2024-07-30T01:38:23.758589Z"
    }
   },
   "outputs": [
    {
     "data": {
      "text/plain": [
       "{'sentence': 'HELSINKI ( AFX ) - Nokian Tyres reported a fourth quarter pretax profit of 61.5 mln eur , up from 48.6 mln on the back of strong sales .',\n",
       " 'label': 2,\n",
       " 'prompt': 'Instruct: label the following TEXT with a single word: negative, positive, or neutral\\nTEXT: HELSINKI ( AFX ) - Nokian Tyres reported a fourth quarter pretax profit of 61.5 mln eur , up from 48.6 mln on the back of strong sales .\\nOutput:',\n",
       " 'label_text': 'positive',\n",
       " '__index_level_0__': 295}"
      ]
     },
     "execution_count": 81,
     "metadata": {},
     "output_type": "execute_result"
    }
   ],
   "source": [
    "few_shot_ds[292]"
   ]
  },
  {
   "cell_type": "code",
   "execution_count": 83,
   "metadata": {
    "execution": {
     "iopub.execute_input": "2024-07-30T01:38:57.059103Z",
     "iopub.status.busy": "2024-07-30T01:38:57.058844Z",
     "iopub.status.idle": "2024-07-30T01:41:09.769469Z",
     "shell.execute_reply": "2024-07-30T01:41:09.768985Z",
     "shell.execute_reply.started": "2024-07-30T01:38:57.059086Z"
    }
   },
   "outputs": [
    {
     "data": {
      "application/vnd.jupyter.widget-view+json": {
       "model_id": "7b2ec48a62784f64a7bbe15d67102f56",
       "version_major": 2,
       "version_minor": 0
      },
      "text/plain": [
       "Map:   0%|          | 0/2261 [00:00<?, ? examples/s]"
      ]
     },
     "metadata": {},
     "output_type": "display_data"
    },
    {
     "name": "stdout",
     "output_type": "stream",
     "text": [
      "Instruct: label the following TEXT with a single word: negative, positive, or neutral\n",
      "\n",
      "Examples:\n",
      "\n",
      "TEXT: According to Gran , the company has no plans to move all production to Russia , although that is where the company is growing .\n",
      "label the TEXT with a single word: negative, positive, or neutral\n",
      "Output:neutral\n",
      "\n",
      "TEXT: For the last quarter of 2010 , Componenta 's net sales doubled to EUR131m from EUR76m for the same period a year earlier , while it moved to a zero pre-tax profit from a pre-tax loss of EUR7m .\n",
      "label the TEXT with a single word: negative, positive, or neutral\n",
      "Output:positive\n",
      "\n",
      "TEXT: Jan. 6 -- Ford is struggling in the face of slowing truck and SUV sales and a surfeit of up-to-date , gotta-have cars .\n",
      "label the TEXT with a single word: negative, positive, or neutral\n",
      "Output:negative\n",
      "\n",
      "TEXT: In the third quarter of 2010 , net sales increased by 5.2 % to EUR 205.5 mn , and operating profit by 34.9 % to EUR 23.5 mn .\n",
      "label the TEXT with a single word: negative, positive, or neutral\n",
      "Output:\n",
      "---------\n"
     ]
    }
   ],
   "source": [
    "df, acc = generate_responses(few_shot_ds, promptC)"
   ]
  },
  {
   "cell_type": "code",
   "execution_count": 84,
   "metadata": {
    "execution": {
     "iopub.execute_input": "2024-07-30T01:41:14.717673Z",
     "iopub.status.busy": "2024-07-30T01:41:14.716782Z",
     "iopub.status.idle": "2024-07-30T01:41:14.720986Z",
     "shell.execute_reply": "2024-07-30T01:41:14.720636Z",
     "shell.execute_reply.started": "2024-07-30T01:41:14.717649Z"
    }
   },
   "outputs": [
    {
     "data": {
      "text/plain": [
       "0.7302078726227333"
      ]
     },
     "execution_count": 84,
     "metadata": {},
     "output_type": "execute_result"
    }
   ],
   "source": [
    "acc"
   ]
  },
  {
   "cell_type": "markdown",
   "metadata": {},
   "source": [
    "Interesting. I was not expecting the accuracy to drop! The model improved it's ability to predict `negative` and `positive` sentiment \n",
    "(getting close to almost 100% for those classes) but got worse at predicting `neutral` sentiment (by about 400 responses)."
   ]
  },
  {
   "cell_type": "code",
   "execution_count": 85,
   "metadata": {
    "execution": {
     "iopub.execute_input": "2024-07-30T01:41:50.052390Z",
     "iopub.status.busy": "2024-07-30T01:41:50.051614Z",
     "iopub.status.idle": "2024-07-30T01:41:50.131634Z",
     "shell.execute_reply": "2024-07-30T01:41:50.131189Z",
     "shell.execute_reply.started": "2024-07-30T01:41:50.052364Z"
    }
   },
   "outputs": [
    {
     "data": {
      "image/png": "[encoded data removed]",
      "text/plain": [
       "<Figure size 576x576 with 1 Axes>"
      ]
     },
     "metadata": {
      "needs_background": "light"
     },
     "output_type": "display_data"
    }
   ],
   "source": [
    "make_cm(df)"
   ]
  },
  {
   "cell_type": "code",
   "execution_count": 87,
   "metadata": {
    "execution": {
     "iopub.execute_input": "2024-07-30T01:47:45.404650Z",
     "iopub.status.busy": "2024-07-30T01:47:45.403904Z",
     "iopub.status.idle": "2024-07-30T01:47:45.445372Z",
     "shell.execute_reply": "2024-07-30T01:47:45.444902Z",
     "shell.execute_reply.started": "2024-07-30T01:47:45.404627Z"
    }
   },
   "outputs": [],
   "source": [
    "df.to_csv('/notebooks/phi-2_sc_C.csv', index=False)"
   ]
  },
  {
   "cell_type": "markdown",
   "metadata": {},
   "source": [
    "### Prompt D"
   ]
  },
  {
   "cell_type": "markdown",
   "metadata": {},
   "source": [
    "Given that the model is performing poorly on `neutral` sentiment, I'll increase the number of `neutral` examples in the \n",
    "few-shot prompt."
   ]
  },
  {
   "cell_type": "code",
   "execution_count": 97,
   "metadata": {
    "execution": {
     "iopub.execute_input": "2024-07-30T02:01:39.470890Z",
     "iopub.status.busy": "2024-07-30T02:01:39.470390Z",
     "iopub.status.idle": "2024-07-30T02:01:39.477202Z",
     "shell.execute_reply": "2024-07-30T02:01:39.476627Z",
     "shell.execute_reply.started": "2024-07-30T02:01:39.470866Z"
    }
   },
   "outputs": [
    {
     "data": {
      "text/plain": [
       "[35, 36, 37, 38, 261, 262, 263, 264, 265, 266]"
      ]
     },
     "execution_count": 97,
     "metadata": {},
     "output_type": "execute_result"
    }
   ],
   "source": [
    "[i for i,x in enumerate(few_shot_ds['label_text']) if x=='neutral'][:10]"
   ]
  },
  {
   "cell_type": "code",
   "execution_count": 98,
   "metadata": {
    "execution": {
     "iopub.execute_input": "2024-07-30T02:01:48.033370Z",
     "iopub.status.busy": "2024-07-30T02:01:48.032916Z",
     "iopub.status.idle": "2024-07-30T02:01:48.037366Z",
     "shell.execute_reply": "2024-07-30T02:01:48.036903Z",
     "shell.execute_reply.started": "2024-07-30T02:01:48.033348Z"
    }
   },
   "outputs": [
    {
     "data": {
      "text/plain": [
       "{'sentence': \"At the request of Finnish media company Alma Media 's newspapers , research manager Jari Kaivo-oja at the Finland Futures Research Centre at the Turku School of Economics has drawn up a future scenario for Finland 's national economy by using a model developed by the University of Denver .\",\n",
       " 'label': 1,\n",
       " 'prompt': \"Instruct: label the following TEXT with a single word: negative, positive, or neutral\\nTEXT: At the request of Finnish media company Alma Media 's newspapers , research manager Jari Kaivo-oja at the Finland Futures Research Centre at the Turku School of Economics has drawn up a future scenario for Finland 's national economy by using a model developed by the University of Denver .\\nOutput:\",\n",
       " 'label_text': 'neutral',\n",
       " '__index_level_0__': 37}"
      ]
     },
     "execution_count": 98,
     "metadata": {},
     "output_type": "execute_result"
    }
   ],
   "source": [
    "few_shot_ds[35]"
   ]
  },
  {
   "cell_type": "code",
   "execution_count": 99,
   "metadata": {
    "execution": {
     "iopub.execute_input": "2024-07-30T02:01:57.087996Z",
     "iopub.status.busy": "2024-07-30T02:01:57.087705Z",
     "iopub.status.idle": "2024-07-30T02:01:57.092861Z",
     "shell.execute_reply": "2024-07-30T02:01:57.092374Z",
     "shell.execute_reply.started": "2024-07-30T02:01:57.087976Z"
    }
   },
   "outputs": [
    {
     "data": {
      "text/plain": [
       "{'sentence': 'STOCK EXCHANGE ANNOUNCEMENT 20 July 2006 1 ( 1 ) BASWARE SHARE SUBSCRIPTIONS WITH WARRANTS AND INCREASE IN SHARE CAPITAL A total of 119 850 shares have been subscribed with BasWare Warrant Program .',\n",
       " 'label': 1,\n",
       " 'prompt': 'Instruct: label the following TEXT with a single word: negative, positive, or neutral\\nTEXT: STOCK EXCHANGE ANNOUNCEMENT 20 July 2006 1 ( 1 ) BASWARE SHARE SUBSCRIPTIONS WITH WARRANTS AND INCREASE IN SHARE CAPITAL A total of 119 850 shares have been subscribed with BasWare Warrant Program .\\nOutput:',\n",
       " 'label_text': 'neutral',\n",
       " '__index_level_0__': 38}"
      ]
     },
     "execution_count": 99,
     "metadata": {},
     "output_type": "execute_result"
    }
   ],
   "source": [
    "few_shot_ds[36]"
   ]
  },
  {
   "cell_type": "code",
   "execution_count": 100,
   "metadata": {
    "execution": {
     "iopub.execute_input": "2024-07-30T02:02:06.254098Z",
     "iopub.status.busy": "2024-07-30T02:02:06.253325Z",
     "iopub.status.idle": "2024-07-30T02:02:06.258395Z",
     "shell.execute_reply": "2024-07-30T02:02:06.257644Z",
     "shell.execute_reply.started": "2024-07-30T02:02:06.254073Z"
    }
   },
   "outputs": [
    {
     "data": {
      "text/plain": [
       "{'sentence': 'A maximum of 666,104 new shares can further be subscribed for by exercising B options under the 2004 stock option plan .',\n",
       " 'label': 1,\n",
       " 'prompt': 'Instruct: label the following TEXT with a single word: negative, positive, or neutral\\nTEXT: A maximum of 666,104 new shares can further be subscribed for by exercising B options under the 2004 stock option plan .\\nOutput:',\n",
       " 'label_text': 'neutral',\n",
       " '__index_level_0__': 39}"
      ]
     },
     "execution_count": 100,
     "metadata": {},
     "output_type": "execute_result"
    }
   ],
   "source": [
    "few_shot_ds[37]"
   ]
  },
  {
   "cell_type": "code",
   "execution_count": 105,
   "metadata": {
    "execution": {
     "iopub.execute_input": "2024-07-30T02:10:37.692245Z",
     "iopub.status.busy": "2024-07-30T02:10:37.691478Z",
     "iopub.status.idle": "2024-07-30T02:10:37.695887Z",
     "shell.execute_reply": "2024-07-30T02:10:37.695306Z",
     "shell.execute_reply.started": "2024-07-30T02:10:37.692220Z"
    }
   },
   "outputs": [],
   "source": [
    "#| code-fold: true\n",
    "#| code-summary: \"Show `promptD`\"\n",
    "promptD = \"\"\"Instruct: label the following TEXT with a single word: negative, positive, or neutral\n",
    "\n",
    "Examples:\n",
    "\n",
    "TEXT: According to Gran , the company has no plans to move all production to Russia , although that is where the company is growing .\n",
    "label the TEXT with a single word: negative, positive, or neutral\n",
    "Output:neutral\n",
    "\n",
    "TEXT: For the last quarter of 2010 , Componenta 's net sales doubled to EUR131m from EUR76m for the same period a year earlier , while it moved to a zero pre-tax profit from a pre-tax loss of EUR7m .\n",
    "label the TEXT with a single word: negative, positive, or neutral\n",
    "Output:positive\n",
    "\n",
    "TEXT: Jan. 6 -- Ford is struggling in the face of slowing truck and SUV sales and a surfeit of up-to-date , gotta-have cars .\n",
    "label the TEXT with a single word: negative, positive, or neutral\n",
    "Output:negative\n",
    "\n",
    "TEXT: At the request of Finnish media company Alma Media 's newspapers , research manager Jari Kaivo-oja at the Finland Futures Research Centre at the Turku School of Economics has drawn up a future scenario for Finland 's national economy by using a model developed by the University of Denver .\n",
    "label the TEXT with a single word: negative, positive, or neutral\n",
    "Output:neutral\n",
    "\n",
    "TEXT: STOCK EXCHANGE ANNOUNCEMENT 20 July 2006 1 ( 1 ) BASWARE SHARE SUBSCRIPTIONS WITH WARRANTS AND INCREASE IN SHARE CAPITAL A total of 119 850 shares have been subscribed with BasWare Warrant Program .\n",
    "label the TEXT with a single word: negative, positive, or neutral\n",
    "Output:neutral\n",
    "\n",
    "TEXT: A maximum of 666,104 new shares can further be subscribed for by exercising B options under the 2004 stock option plan .\n",
    "label the TEXT with a single word: negative, positive, or neutral\n",
    "Output:neutral\n",
    "\n",
    "TEXT: {text}\n",
    "label the TEXT with a single word: negative, positive, or neutral\n",
    "Output:\"\"\""
   ]
  },
  {
   "cell_type": "code",
   "execution_count": 111,
   "metadata": {
    "execution": {
     "iopub.execute_input": "2024-07-30T02:13:54.929759Z",
     "iopub.status.busy": "2024-07-30T02:13:54.928962Z",
     "iopub.status.idle": "2024-07-30T02:13:54.945343Z",
     "shell.execute_reply": "2024-07-30T02:13:54.944778Z",
     "shell.execute_reply.started": "2024-07-30T02:13:54.929733Z"
    }
   },
   "outputs": [],
   "source": [
    "promptD_ds = ds_subset(few_shot_ds, exclude_idxs=[35, 36, 37])"
   ]
  },
  {
   "cell_type": "code",
   "execution_count": 112,
   "metadata": {
    "execution": {
     "iopub.execute_input": "2024-07-30T02:13:59.023967Z",
     "iopub.status.busy": "2024-07-30T02:13:59.023441Z",
     "iopub.status.idle": "2024-07-30T02:13:59.027991Z",
     "shell.execute_reply": "2024-07-30T02:13:59.027326Z",
     "shell.execute_reply.started": "2024-07-30T02:13:59.023944Z"
    }
   },
   "outputs": [
    {
     "data": {
      "text/plain": [
       "Dataset({\n",
       "    features: ['sentence', 'label', 'prompt', 'label_text', '__index_level_0__'],\n",
       "    num_rows: 2258\n",
       "})"
      ]
     },
     "execution_count": 112,
     "metadata": {},
     "output_type": "execute_result"
    }
   ],
   "source": [
    "promptD_ds"
   ]
  },
  {
   "cell_type": "code",
   "execution_count": 113,
   "metadata": {
    "execution": {
     "iopub.execute_input": "2024-07-30T02:14:34.833791Z",
     "iopub.status.busy": "2024-07-30T02:14:34.833311Z",
     "iopub.status.idle": "2024-07-30T02:18:39.309106Z",
     "shell.execute_reply": "2024-07-30T02:18:39.308578Z",
     "shell.execute_reply.started": "2024-07-30T02:14:34.833770Z"
    }
   },
   "outputs": [
    {
     "data": {
      "application/vnd.jupyter.widget-view+json": {
       "model_id": "e4dda5db747443a1bdcc488e686fb721",
       "version_major": 2,
       "version_minor": 0
      },
      "text/plain": [
       "Map:   0%|          | 0/2258 [00:00<?, ? examples/s]"
      ]
     },
     "metadata": {},
     "output_type": "display_data"
    },
    {
     "name": "stdout",
     "output_type": "stream",
     "text": [
      "Instruct: label the following TEXT with a single word: negative, positive, or neutral\n",
      "\n",
      "Examples:\n",
      "\n",
      "TEXT: According to Gran , the company has no plans to move all production to Russia , although that is where the company is growing .\n",
      "label the TEXT with a single word: negative, positive, or neutral\n",
      "Output:neutral\n",
      "\n",
      "TEXT: For the last quarter of 2010 , Componenta 's net sales doubled to EUR131m from EUR76m for the same period a year earlier , while it moved to a zero pre-tax profit from a pre-tax loss of EUR7m .\n",
      "label the TEXT with a single word: negative, positive, or neutral\n",
      "Output:positive\n",
      "\n",
      "TEXT: Jan. 6 -- Ford is struggling in the face of slowing truck and SUV sales and a surfeit of up-to-date , gotta-have cars .\n",
      "label the TEXT with a single word: negative, positive, or neutral\n",
      "Output:negative\n",
      "\n",
      "TEXT: At the request of Finnish media company Alma Media 's newspapers , research manager Jari Kaivo-oja at the Finland Futures Research Centre at the Turku School of Economics has drawn up a future scenario for Finland 's national economy by using a model developed by the University of Denver .\n",
      "label the TEXT with a single word: negative, positive, or neutral\n",
      "Output:neutral\n",
      "\n",
      "TEXT: STOCK EXCHANGE ANNOUNCEMENT 20 July 2006 1 ( 1 ) BASWARE SHARE SUBSCRIPTIONS WITH WARRANTS AND INCREASE IN SHARE CAPITAL A total of 119 850 shares have been subscribed with BasWare Warrant Program .\n",
      "label the TEXT with a single word: negative, positive, or neutral\n",
      "Output:neutral\n",
      "\n",
      "TEXT: A maximum of 666,104 new shares can further be subscribed for by exercising B options under the 2004 stock option plan .\n",
      "label the TEXT with a single word: negative, positive, or neutral\n",
      "Output:neutral\n",
      "\n",
      "TEXT: In the third quarter of 2010 , net sales increased by 5.2 % to EUR 205.5 mn , and operating profit by 34.9 % to EUR 23.5 mn .\n",
      "label the TEXT with a single word: negative, positive, or neutral\n",
      "Output:\n",
      "---------\n"
     ]
    }
   ],
   "source": [
    "df, acc = generate_responses(promptD_ds, promptD)"
   ]
  },
  {
   "cell_type": "code",
   "execution_count": 114,
   "metadata": {
    "execution": {
     "iopub.execute_input": "2024-07-30T02:18:43.648471Z",
     "iopub.status.busy": "2024-07-30T02:18:43.647953Z",
     "iopub.status.idle": "2024-07-30T02:18:43.652445Z",
     "shell.execute_reply": "2024-07-30T02:18:43.651727Z",
     "shell.execute_reply.started": "2024-07-30T02:18:43.648451Z"
    }
   },
   "outputs": [
    {
     "data": {
      "text/plain": [
       "0.7360496014171833"
      ]
     },
     "execution_count": 114,
     "metadata": {},
     "output_type": "execute_result"
    }
   ],
   "source": [
    "acc"
   ]
  },
  {
   "cell_type": "code",
   "execution_count": 116,
   "metadata": {
    "execution": {
     "iopub.execute_input": "2024-07-30T02:19:01.644383Z",
     "iopub.status.busy": "2024-07-30T02:19:01.643845Z",
     "iopub.status.idle": "2024-07-30T02:19:01.729149Z",
     "shell.execute_reply": "2024-07-30T02:19:01.728515Z",
     "shell.execute_reply.started": "2024-07-30T02:19:01.644361Z"
    }
   },
   "outputs": [
    {
     "data": {
      "image/png": "[encoded data removed]",
      "text/plain": [
       "<Figure size 576x576 with 1 Axes>"
      ]
     },
     "metadata": {
      "needs_background": "light"
     },
     "output_type": "display_data"
    }
   ],
   "source": [
    "make_cm(df)"
   ]
  },
  {
   "cell_type": "markdown",
   "metadata": {},
   "source": [
    "A tiny increase in accuracy \n",
    "(~20 more correct `neutral` predictions, 7 more correct `negative` predictions, but 15 fewer correct `positive` predictions)."
   ]
  },
  {
   "cell_type": "code",
   "execution_count": 117,
   "metadata": {
    "execution": {
     "iopub.execute_input": "2024-07-30T02:22:31.479657Z",
     "iopub.status.busy": "2024-07-30T02:22:31.478979Z",
     "iopub.status.idle": "2024-07-30T02:22:31.547228Z",
     "shell.execute_reply": "2024-07-30T02:22:31.546652Z",
     "shell.execute_reply.started": "2024-07-30T02:22:31.479633Z"
    }
   },
   "outputs": [],
   "source": [
    "df.to_csv('/notebooks/phi-2_sc_D.csv', index=False)"
   ]
  },
  {
   "cell_type": "markdown",
   "metadata": {},
   "source": [
    "### Prompt E"
   ]
  },
  {
   "cell_type": "markdown",
   "metadata": {},
   "source": [
    "I'll add an introductory text\n",
    "\n",
    "```\n",
    "Your task is to analyze the sentiment (from an investor's perspective) of the text below.\n",
    "```\n",
    "\n",
    "as done by Moritz in his example and see if that improves the accuracy."
   ]
  },
  {
   "cell_type": "code",
   "execution_count": 119,
   "metadata": {
    "execution": {
     "iopub.execute_input": "2024-07-30T02:23:35.477566Z",
     "iopub.status.busy": "2024-07-30T02:23:35.477294Z",
     "iopub.status.idle": "2024-07-30T02:23:35.481361Z",
     "shell.execute_reply": "2024-07-30T02:23:35.480801Z",
     "shell.execute_reply.started": "2024-07-30T02:23:35.477547Z"
    }
   },
   "outputs": [],
   "source": [
    "#| code-fold: true\n",
    "#| code-summary: \"Show `promptE`\"\n",
    "promptE = \"\"\"Your task is to analyze the sentiment (from an investor's perspective) of the text below.\n",
    "\n",
    "Instruct: label the following TEXT with a single word: negative, positive, or neutral\n",
    "\n",
    "Examples:\n",
    "\n",
    "TEXT: According to Gran , the company has no plans to move all production to Russia , although that is where the company is growing .\n",
    "label the TEXT with a single word: negative, positive, or neutral\n",
    "Output:neutral\n",
    "\n",
    "TEXT: For the last quarter of 2010 , Componenta 's net sales doubled to EUR131m from EUR76m for the same period a year earlier , while it moved to a zero pre-tax profit from a pre-tax loss of EUR7m .\n",
    "label the TEXT with a single word: negative, positive, or neutral\n",
    "Output:positive\n",
    "\n",
    "TEXT: Jan. 6 -- Ford is struggling in the face of slowing truck and SUV sales and a surfeit of up-to-date , gotta-have cars .\n",
    "label the TEXT with a single word: negative, positive, or neutral\n",
    "Output:negative\n",
    "\n",
    "TEXT: At the request of Finnish media company Alma Media 's newspapers , research manager Jari Kaivo-oja at the Finland Futures Research Centre at the Turku School of Economics has drawn up a future scenario for Finland 's national economy by using a model developed by the University of Denver .\n",
    "label the TEXT with a single word: negative, positive, or neutral\n",
    "Output:neutral\n",
    "\n",
    "TEXT: STOCK EXCHANGE ANNOUNCEMENT 20 July 2006 1 ( 1 ) BASWARE SHARE SUBSCRIPTIONS WITH WARRANTS AND INCREASE IN SHARE CAPITAL A total of 119 850 shares have been subscribed with BasWare Warrant Program .\n",
    "label the TEXT with a single word: negative, positive, or neutral\n",
    "Output:neutral\n",
    "\n",
    "TEXT: A maximum of 666,104 new shares can further be subscribed for by exercising B options under the 2004 stock option plan .\n",
    "label the TEXT with a single word: negative, positive, or neutral\n",
    "Output:neutral\n",
    "\n",
    "TEXT: {text}\n",
    "label the TEXT with a single word: negative, positive, or neutral\n",
    "Output:\"\"\""
   ]
  },
  {
   "cell_type": "code",
   "execution_count": 120,
   "metadata": {
    "execution": {
     "iopub.execute_input": "2024-07-30T02:23:51.369464Z",
     "iopub.status.busy": "2024-07-30T02:23:51.368906Z",
     "iopub.status.idle": "2024-07-30T02:28:00.694959Z",
     "shell.execute_reply": "2024-07-30T02:28:00.694261Z",
     "shell.execute_reply.started": "2024-07-30T02:23:51.369442Z"
    }
   },
   "outputs": [
    {
     "data": {
      "application/vnd.jupyter.widget-view+json": {
       "model_id": "d3b4b1036f0b4c6e97a20df6d5ae9d71",
       "version_major": 2,
       "version_minor": 0
      },
      "text/plain": [
       "Map:   0%|          | 0/2258 [00:00<?, ? examples/s]"
      ]
     },
     "metadata": {},
     "output_type": "display_data"
    },
    {
     "name": "stdout",
     "output_type": "stream",
     "text": [
      "Your task is to analyze the sentiment (from an investor's perspective) of the text below.\n",
      "\n",
      "Instruct: label the following TEXT with a single word: negative, positive, or neutral\n",
      "\n",
      "Examples:\n",
      "\n",
      "TEXT: According to Gran , the company has no plans to move all production to Russia , although that is where the company is growing .\n",
      "label the TEXT with a single word: negative, positive, or neutral\n",
      "Output:neutral\n",
      "\n",
      "TEXT: For the last quarter of 2010 , Componenta 's net sales doubled to EUR131m from EUR76m for the same period a year earlier , while it moved to a zero pre-tax profit from a pre-tax loss of EUR7m .\n",
      "label the TEXT with a single word: negative, positive, or neutral\n",
      "Output:positive\n",
      "\n",
      "TEXT: Jan. 6 -- Ford is struggling in the face of slowing truck and SUV sales and a surfeit of up-to-date , gotta-have cars .\n",
      "label the TEXT with a single word: negative, positive, or neutral\n",
      "Output:negative\n",
      "\n",
      "TEXT: At the request of Finnish media company Alma Media 's newspapers , research manager Jari Kaivo-oja at the Finland Futures Research Centre at the Turku School of Economics has drawn up a future scenario for Finland 's national economy by using a model developed by the University of Denver .\n",
      "label the TEXT with a single word: negative, positive, or neutral\n",
      "Output:neutral\n",
      "\n",
      "TEXT: STOCK EXCHANGE ANNOUNCEMENT 20 July 2006 1 ( 1 ) BASWARE SHARE SUBSCRIPTIONS WITH WARRANTS AND INCREASE IN SHARE CAPITAL A total of 119 850 shares have been subscribed with BasWare Warrant Program .\n",
      "label the TEXT with a single word: negative, positive, or neutral\n",
      "Output:neutral\n",
      "\n",
      "TEXT: A maximum of 666,104 new shares can further be subscribed for by exercising B options under the 2004 stock option plan .\n",
      "label the TEXT with a single word: negative, positive, or neutral\n",
      "Output:neutral\n",
      "\n",
      "TEXT: In the third quarter of 2010 , net sales increased by 5.2 % to EUR 205.5 mn , and operating profit by 34.9 % to EUR 23.5 mn .\n",
      "label the TEXT with a single word: negative, positive, or neutral\n",
      "Output:\n",
      "---------\n"
     ]
    }
   ],
   "source": [
    "df, acc = generate_responses(promptD_ds, promptE)"
   ]
  },
  {
   "cell_type": "markdown",
   "metadata": {},
   "source": [
    "That's a nice boost! That increases the accuracy by 13%."
   ]
  },
  {
   "cell_type": "code",
   "execution_count": 121,
   "metadata": {
    "execution": {
     "iopub.execute_input": "2024-07-30T02:28:45.008414Z",
     "iopub.status.busy": "2024-07-30T02:28:45.007795Z",
     "iopub.status.idle": "2024-07-30T02:28:45.012178Z",
     "shell.execute_reply": "2024-07-30T02:28:45.011615Z",
     "shell.execute_reply.started": "2024-07-30T02:28:45.008390Z"
    }
   },
   "outputs": [
    {
     "data": {
      "text/plain": [
       "0.8697962798937112"
      ]
     },
     "execution_count": 121,
     "metadata": {},
     "output_type": "execute_result"
    }
   ],
   "source": [
    "acc"
   ]
  },
  {
   "cell_type": "markdown",
   "metadata": {},
   "source": [
    "There's a slight drop in accuracy of `positive`s but ~300 response increase in correct `neutral` predictions."
   ]
  },
  {
   "cell_type": "code",
   "execution_count": 122,
   "metadata": {
    "execution": {
     "iopub.execute_input": "2024-07-30T02:30:09.035722Z",
     "iopub.status.busy": "2024-07-30T02:30:09.035100Z",
     "iopub.status.idle": "2024-07-30T02:30:09.117619Z",
     "shell.execute_reply": "2024-07-30T02:30:09.117047Z",
     "shell.execute_reply.started": "2024-07-30T02:30:09.035698Z"
    }
   },
   "outputs": [
    {
     "data": {
      "image/png": "[encoded data removed]",
      "text/plain": [
       "<Figure size 576x576 with 1 Axes>"
      ]
     },
     "metadata": {
      "needs_background": "light"
     },
     "output_type": "display_data"
    }
   ],
   "source": [
    "make_cm(df)"
   ]
  },
  {
   "cell_type": "code",
   "execution_count": 123,
   "metadata": {
    "execution": {
     "iopub.execute_input": "2024-07-30T02:30:54.775510Z",
     "iopub.status.busy": "2024-07-30T02:30:54.775248Z",
     "iopub.status.idle": "2024-07-30T02:30:54.850855Z",
     "shell.execute_reply": "2024-07-30T02:30:54.850203Z",
     "shell.execute_reply.started": "2024-07-30T02:30:54.775491Z"
    }
   },
   "outputs": [],
   "source": [
    "df.to_csv('/notebooks/phi-2_sc_E.csv', index=False)"
   ]
  },
  {
   "cell_type": "markdown",
   "metadata": {},
   "source": [
    "### Prompt F"
   ]
  },
  {
   "cell_type": "markdown",
   "metadata": {},
   "source": [
    "Next, I'll rephrase the prompt to say \"Instruct\" instead of \"TEXT\"."
   ]
  },
  {
   "cell_type": "code",
   "execution_count": 126,
   "metadata": {
    "execution": {
     "iopub.execute_input": "2024-07-30T02:34:00.163842Z",
     "iopub.status.busy": "2024-07-30T02:34:00.163227Z",
     "iopub.status.idle": "2024-07-30T02:34:00.167242Z",
     "shell.execute_reply": "2024-07-30T02:34:00.166677Z",
     "shell.execute_reply.started": "2024-07-30T02:34:00.163820Z"
    }
   },
   "outputs": [],
   "source": [
    "#| code-fold: true\n",
    "#| code-summary: \"Show `promptF`\"\n",
    "promptF = \"\"\"Your task is to analyze the sentiment (from an investor's perspective) of the text below.\n",
    "\n",
    "label the following text with a single word: negative, positive, or neutral\n",
    "\n",
    "Examples:\n",
    "\n",
    "Instruct: According to Gran , the company has no plans to move all production to Russia , although that is where the company is growing .\n",
    "label the text with a single word: negative, positive, or neutral\n",
    "Output:neutral\n",
    "\n",
    "Instruct: For the last quarter of 2010 , Componenta 's net sales doubled to EUR131m from EUR76m for the same period a year earlier , while it moved to a zero pre-tax profit from a pre-tax loss of EUR7m .\n",
    "label the text with a single word: negative, positive, or neutral\n",
    "Output:positive\n",
    "\n",
    "Instruct: Jan. 6 -- Ford is struggling in the face of slowing truck and SUV sales and a surfeit of up-to-date , gotta-have cars .\n",
    "label the text with a single word: negative, positive, or neutral\n",
    "Output:negative\n",
    "\n",
    "Instruct: At the request of Finnish media company Alma Media 's newspapers , research manager Jari Kaivo-oja at the Finland Futures Research Centre at the Turku School of Economics has drawn up a future scenario for Finland 's national economy by using a model developed by the University of Denver .\n",
    "label the text with a single word: negative, positive, or neutral\n",
    "Output:neutral\n",
    "\n",
    "Instruct: STOCK EXCHANGE ANNOUNCEMENT 20 July 2006 1 ( 1 ) BASWARE SHARE SUBSCRIPTIONS WITH WARRANTS AND INCREASE IN SHARE CAPITAL A total of 119 850 shares have been subscribed with BasWare Warrant Program .\n",
    "label the text with a single word: negative, positive, or neutral\n",
    "Output:neutral\n",
    "\n",
    "Instruct: A maximum of 666,104 new shares can further be subscribed for by exercising B options under the 2004 stock option plan .\n",
    "label the text with a single word: negative, positive, or neutral\n",
    "Output:neutral\n",
    "\n",
    "Instruct: {text}\n",
    "label the text with a single word: negative, positive, or neutral\n",
    "Output:\"\"\""
   ]
  },
  {
   "cell_type": "code",
   "execution_count": 127,
   "metadata": {
    "execution": {
     "iopub.execute_input": "2024-07-30T02:34:03.642248Z",
     "iopub.status.busy": "2024-07-30T02:34:03.641746Z",
     "iopub.status.idle": "2024-07-30T02:38:11.744784Z",
     "shell.execute_reply": "2024-07-30T02:38:11.744267Z",
     "shell.execute_reply.started": "2024-07-30T02:34:03.642228Z"
    }
   },
   "outputs": [
    {
     "data": {
      "application/vnd.jupyter.widget-view+json": {
       "model_id": "0a4437a77d8e4ac09b49bf72022a1bdf",
       "version_major": 2,
       "version_minor": 0
      },
      "text/plain": [
       "Map:   0%|          | 0/2258 [00:00<?, ? examples/s]"
      ]
     },
     "metadata": {},
     "output_type": "display_data"
    },
    {
     "name": "stdout",
     "output_type": "stream",
     "text": [
      "Your task is to analyze the sentiment (from an investor's perspective) of the text below.\n",
      "\n",
      "label the following text with a single word: negative, positive, or neutral\n",
      "\n",
      "Examples:\n",
      "\n",
      "Instruct: According to Gran , the company has no plans to move all production to Russia , although that is where the company is growing .\n",
      "label the text with a single word: negative, positive, or neutral\n",
      "Output:neutral\n",
      "\n",
      "Instruct: For the last quarter of 2010 , Componenta 's net sales doubled to EUR131m from EUR76m for the same period a year earlier , while it moved to a zero pre-tax profit from a pre-tax loss of EUR7m .\n",
      "label the text with a single word: negative, positive, or neutral\n",
      "Output:positive\n",
      "\n",
      "Instruct: Jan. 6 -- Ford is struggling in the face of slowing truck and SUV sales and a surfeit of up-to-date , gotta-have cars .\n",
      "label the text with a single word: negative, positive, or neutral\n",
      "Output:negative\n",
      "\n",
      "Instruct: At the request of Finnish media company Alma Media 's newspapers , research manager Jari Kaivo-oja at the Finland Futures Research Centre at the Turku School of Economics has drawn up a future scenario for Finland 's national economy by using a model developed by the University of Denver .\n",
      "label the text with a single word: negative, positive, or neutral\n",
      "Output:neutral\n",
      "\n",
      "Instruct: STOCK EXCHANGE ANNOUNCEMENT 20 July 2006 1 ( 1 ) BASWARE SHARE SUBSCRIPTIONS WITH WARRANTS AND INCREASE IN SHARE CAPITAL A total of 119 850 shares have been subscribed with BasWare Warrant Program .\n",
      "label the text with a single word: negative, positive, or neutral\n",
      "Output:neutral\n",
      "\n",
      "Instruct: A maximum of 666,104 new shares can further be subscribed for by exercising B options under the 2004 stock option plan .\n",
      "label the text with a single word: negative, positive, or neutral\n",
      "Output:neutral\n",
      "\n",
      "Instruct: In the third quarter of 2010 , net sales increased by 5.2 % to EUR 205.5 mn , and operating profit by 34.9 % to EUR 23.5 mn .\n",
      "label the text with a single word: negative, positive, or neutral\n",
      "Output:\n",
      "---------\n"
     ]
    }
   ],
   "source": [
    "df, acc = generate_responses(promptD_ds, promptF)"
   ]
  },
  {
   "cell_type": "code",
   "execution_count": 128,
   "metadata": {
    "execution": {
     "iopub.execute_input": "2024-07-30T02:46:16.311565Z",
     "iopub.status.busy": "2024-07-30T02:46:16.310812Z",
     "iopub.status.idle": "2024-07-30T02:46:16.315387Z",
     "shell.execute_reply": "2024-07-30T02:46:16.314721Z",
     "shell.execute_reply.started": "2024-07-30T02:46:16.311542Z"
    }
   },
   "outputs": [
    {
     "data": {
      "text/plain": [
       "0.8436669619131976"
      ]
     },
     "execution_count": 128,
     "metadata": {},
     "output_type": "execute_result"
    }
   ],
   "source": [
    "acc"
   ]
  },
  {
   "cell_type": "markdown",
   "metadata": {},
   "source": [
    "With that phrasing, the correct `negative`s and `positive`s increase by 2 and 1 response, \n",
    "respectively, but the `neutral`s decrease by ~60 responses."
   ]
  },
  {
   "cell_type": "code",
   "execution_count": 129,
   "metadata": {
    "execution": {
     "iopub.execute_input": "2024-07-30T02:46:30.053900Z",
     "iopub.status.busy": "2024-07-30T02:46:30.053323Z",
     "iopub.status.idle": "2024-07-30T02:46:30.132596Z",
     "shell.execute_reply": "2024-07-30T02:46:30.131924Z",
     "shell.execute_reply.started": "2024-07-30T02:46:30.053877Z"
    }
   },
   "outputs": [
    {
     "data": {
      "image/png": "[encoded data removed]",
      "text/plain": [
       "<Figure size 576x576 with 1 Axes>"
      ]
     },
     "metadata": {
      "needs_background": "light"
     },
     "output_type": "display_data"
    }
   ],
   "source": [
    "make_cm(df)"
   ]
  },
  {
   "cell_type": "code",
   "execution_count": 130,
   "metadata": {
    "execution": {
     "iopub.execute_input": "2024-07-30T02:46:40.243239Z",
     "iopub.status.busy": "2024-07-30T02:46:40.242626Z",
     "iopub.status.idle": "2024-07-30T02:46:40.311929Z",
     "shell.execute_reply": "2024-07-30T02:46:40.311429Z",
     "shell.execute_reply.started": "2024-07-30T02:46:40.243216Z"
    }
   },
   "outputs": [],
   "source": [
    "df.to_csv('/notebooks/phi-2_sc_F.csv', index=False)"
   ]
  },
  {
   "cell_type": "markdown",
   "metadata": {},
   "source": [
    "### Prompt G"
   ]
  },
  {
   "cell_type": "markdown",
   "metadata": {},
   "source": [
    "Before I add more few-shot examples, I'll rephrase some of the wording. I'll replace the phrase:\n",
    "\n",
    "```\n",
    "label the following text with a single word: negative, positive, or neutral\n",
    "```\n",
    "\n",
    "with:\n",
    "\n",
    "```\n",
    "Respond with only one of these words: negative, positive, or neutral\n",
    "```\n",
    "\n",
    "since \"Respond\" seems more direct than \"label\"."
   ]
  },
  {
   "cell_type": "code",
   "execution_count": 132,
   "metadata": {
    "execution": {
     "iopub.execute_input": "2024-07-30T03:10:39.683234Z",
     "iopub.status.busy": "2024-07-30T03:10:39.682431Z",
     "iopub.status.idle": "2024-07-30T03:10:39.686437Z",
     "shell.execute_reply": "2024-07-30T03:10:39.685905Z",
     "shell.execute_reply.started": "2024-07-30T03:10:39.683213Z"
    }
   },
   "outputs": [],
   "source": [
    "#| code-fold: true\n",
    "#| code-summary: \"Show `promptG`\"\n",
    "promptG = \"\"\"Your task is to analyze the sentiment (from an investor's perspective) of the text below.\n",
    "\n",
    "Respond with only one of these words: negative, positive, or neutral\n",
    "\n",
    "Examples:\n",
    "\n",
    "Instruct: According to Gran , the company has no plans to move all production to Russia , although that is where the company is growing .\n",
    "Respond with only one of these words: negative, positive, or neutral\n",
    "Output:neutral\n",
    "\n",
    "Instruct: For the last quarter of 2010 , Componenta 's net sales doubled to EUR131m from EUR76m for the same period a year earlier , while it moved to a zero pre-tax profit from a pre-tax loss of EUR7m .\n",
    "Respond with only one of these words: negative, positive, or neutral\n",
    "Output:positive\n",
    "\n",
    "Instruct: Jan. 6 -- Ford is struggling in the face of slowing truck and SUV sales and a surfeit of up-to-date , gotta-have cars .\n",
    "Respond with only one of these words: negative, positive, or neutral\n",
    "Output:negative\n",
    "\n",
    "Instruct: At the request of Finnish media company Alma Media 's newspapers , research manager Jari Kaivo-oja at the Finland Futures Research Centre at the Turku School of Economics has drawn up a future scenario for Finland 's national economy by using a model developed by the University of Denver .\n",
    "Respond with only one of these words: negative, positive, or neutral\n",
    "Output:neutral\n",
    "\n",
    "Instruct: STOCK EXCHANGE ANNOUNCEMENT 20 July 2006 1 ( 1 ) BASWARE SHARE SUBSCRIPTIONS WITH WARRANTS AND INCREASE IN SHARE CAPITAL A total of 119 850 shares have been subscribed with BasWare Warrant Program .\n",
    "Respond with only one of these words: negative, positive, or neutral\n",
    "Output:neutral\n",
    "\n",
    "Instruct: A maximum of 666,104 new shares can further be subscribed for by exercising B options under the 2004 stock option plan .\n",
    "Respond with only one of these words: negative, positive, or neutral\n",
    "Output:neutral\n",
    "\n",
    "Instruct: {text}\n",
    "Respond with only one of these words: negative, positive, or neutral\n",
    "Output:\"\"\""
   ]
  },
  {
   "cell_type": "code",
   "execution_count": 133,
   "metadata": {
    "execution": {
     "iopub.execute_input": "2024-07-30T03:10:59.427776Z",
     "iopub.status.busy": "2024-07-30T03:10:59.427036Z",
     "iopub.status.idle": "2024-07-30T03:15:11.263015Z",
     "shell.execute_reply": "2024-07-30T03:15:11.262438Z",
     "shell.execute_reply.started": "2024-07-30T03:10:59.427752Z"
    }
   },
   "outputs": [
    {
     "data": {
      "application/vnd.jupyter.widget-view+json": {
       "model_id": "bedf5cd88c4d4a9cb1a5b45bce59b999",
       "version_major": 2,
       "version_minor": 0
      },
      "text/plain": [
       "Map:   0%|          | 0/2258 [00:00<?, ? examples/s]"
      ]
     },
     "metadata": {},
     "output_type": "display_data"
    },
    {
     "name": "stdout",
     "output_type": "stream",
     "text": [
      "Your task is to analyze the sentiment (from an investor's perspective) of the text below.\n",
      "\n",
      "Respond with only one of these words: negative, positive, or neutral\n",
      "\n",
      "Examples:\n",
      "\n",
      "Instruct: According to Gran , the company has no plans to move all production to Russia , although that is where the company is growing .\n",
      "Respond with only one of these words: negative, positive, or neutral\n",
      "Output:neutral\n",
      "\n",
      "Instruct: For the last quarter of 2010 , Componenta 's net sales doubled to EUR131m from EUR76m for the same period a year earlier , while it moved to a zero pre-tax profit from a pre-tax loss of EUR7m .\n",
      "Respond with only one of these words: negative, positive, or neutral\n",
      "Output:positive\n",
      "\n",
      "Instruct: Jan. 6 -- Ford is struggling in the face of slowing truck and SUV sales and a surfeit of up-to-date , gotta-have cars .\n",
      "Respond with only one of these words: negative, positive, or neutral\n",
      "Output:negative\n",
      "\n",
      "Instruct: At the request of Finnish media company Alma Media 's newspapers , research manager Jari Kaivo-oja at the Finland Futures Research Centre at the Turku School of Economics has drawn up a future scenario for Finland 's national economy by using a model developed by the University of Denver .\n",
      "Respond with only one of these words: negative, positive, or neutral\n",
      "Output:neutral\n",
      "\n",
      "Instruct: STOCK EXCHANGE ANNOUNCEMENT 20 July 2006 1 ( 1 ) BASWARE SHARE SUBSCRIPTIONS WITH WARRANTS AND INCREASE IN SHARE CAPITAL A total of 119 850 shares have been subscribed with BasWare Warrant Program .\n",
      "Respond with only one of these words: negative, positive, or neutral\n",
      "Output:neutral\n",
      "\n",
      "Instruct: A maximum of 666,104 new shares can further be subscribed for by exercising B options under the 2004 stock option plan .\n",
      "Respond with only one of these words: negative, positive, or neutral\n",
      "Output:neutral\n",
      "\n",
      "Instruct: In the third quarter of 2010 , net sales increased by 5.2 % to EUR 205.5 mn , and operating profit by 34.9 % to EUR 23.5 mn .\n",
      "Respond with only one of these words: negative, positive, or neutral\n",
      "Output:\n",
      "---------\n"
     ]
    },
    {
     "name": "stderr",
     "output_type": "stream",
     "text": [
      "/usr/local/lib/python3.9/dist-packages/transformers/pipelines/base.py:1123: UserWarning: You seem to be using the pipelines sequentially on GPU. In order to maximize efficiency please use a dataset\n",
      "  warnings.warn(\n"
     ]
    }
   ],
   "source": [
    "df, acc = generate_responses(promptD_ds, promptG)"
   ]
  },
  {
   "cell_type": "markdown",
   "metadata": {},
   "source": [
    "No such luck! The accuracy is still around 84%."
   ]
  },
  {
   "cell_type": "code",
   "execution_count": 134,
   "metadata": {
    "execution": {
     "iopub.execute_input": "2024-07-30T03:15:18.534639Z",
     "iopub.status.busy": "2024-07-30T03:15:18.534004Z",
     "iopub.status.idle": "2024-07-30T03:15:18.538856Z",
     "shell.execute_reply": "2024-07-30T03:15:18.538073Z",
     "shell.execute_reply.started": "2024-07-30T03:15:18.534618Z"
    }
   },
   "outputs": [
    {
     "data": {
      "text/plain": [
       "0.8414526129317981"
      ]
     },
     "execution_count": 134,
     "metadata": {},
     "output_type": "execute_result"
    }
   ],
   "source": [
    "acc"
   ]
  },
  {
   "cell_type": "markdown",
   "metadata": {},
   "source": [
    "This prompt resulted in 8 more correct `positive`s but fewer correct `negative` and `neutral` predictions."
   ]
  },
  {
   "cell_type": "code",
   "execution_count": 135,
   "metadata": {
    "execution": {
     "iopub.execute_input": "2024-07-30T03:15:38.413694Z",
     "iopub.status.busy": "2024-07-30T03:15:38.413030Z",
     "iopub.status.idle": "2024-07-30T03:15:38.497030Z",
     "shell.execute_reply": "2024-07-30T03:15:38.496200Z",
     "shell.execute_reply.started": "2024-07-30T03:15:38.413671Z"
    }
   },
   "outputs": [
    {
     "data": {
      "image/png": "[encoded data removed]",
      "text/plain": [
       "<Figure size 576x576 with 1 Axes>"
      ]
     },
     "metadata": {
      "needs_background": "light"
     },
     "output_type": "display_data"
    }
   ],
   "source": [
    "make_cm(df)"
   ]
  },
  {
   "cell_type": "code",
   "execution_count": 136,
   "metadata": {
    "execution": {
     "iopub.execute_input": "2024-07-30T03:17:08.289387Z",
     "iopub.status.busy": "2024-07-30T03:17:08.289143Z",
     "iopub.status.idle": "2024-07-30T03:17:08.358799Z",
     "shell.execute_reply": "2024-07-30T03:17:08.358206Z",
     "shell.execute_reply.started": "2024-07-30T03:17:08.289370Z"
    }
   },
   "outputs": [],
   "source": [
    "df.to_csv('/notebooks/phi-2_sc_G.csv', index=False)"
   ]
  },
  {
   "cell_type": "markdown",
   "metadata": {},
   "source": [
    "### Prompt H"
   ]
  },
  {
   "cell_type": "markdown",
   "metadata": {},
   "source": [
    "I'll make a few grammatical changes (like adding a period at the end of the \"Respond with...\" instruction \n",
    "or adding an extra space after \"Output:'."
   ]
  },
  {
   "cell_type": "code",
   "execution_count": 138,
   "metadata": {
    "execution": {
     "iopub.execute_input": "2024-07-30T03:19:20.539661Z",
     "iopub.status.busy": "2024-07-30T03:19:20.539123Z",
     "iopub.status.idle": "2024-07-30T03:19:20.542955Z",
     "shell.execute_reply": "2024-07-30T03:19:20.542397Z",
     "shell.execute_reply.started": "2024-07-30T03:19:20.539640Z"
    }
   },
   "outputs": [],
   "source": [
    "#| code-fold: true\n",
    "#| code-summary: \"Show `promptH`\"\n",
    "promptH = \"\"\"Your task is to analyze the sentiment (from an investor's perspective) of the text below.\n",
    "\n",
    "Respond with only one of these words: negative, positive, or neutral.\n",
    "\n",
    "Examples:\n",
    "\n",
    "Instruct: According to Gran , the company has no plans to move all production to Russia , although that is where the company is growing .\n",
    "Respond with only one of these words: negative, positive, or neutral.\n",
    "Output: neutral\n",
    "\n",
    "Instruct: For the last quarter of 2010 , Componenta 's net sales doubled to EUR131m from EUR76m for the same period a year earlier , while it moved to a zero pre-tax profit from a pre-tax loss of EUR7m .\n",
    "Respond with only one of these words: negative, positive, or neutral.\n",
    "Output: positive\n",
    "\n",
    "Instruct: Jan. 6 -- Ford is struggling in the face of slowing truck and SUV sales and a surfeit of up-to-date , gotta-have cars .\n",
    "Respond with only one of these words: negative, positive, or neutral.\n",
    "Output: negative\n",
    "\n",
    "Instruct: At the request of Finnish media company Alma Media 's newspapers , research manager Jari Kaivo-oja at the Finland Futures Research Centre at the Turku School of Economics has drawn up a future scenario for Finland 's national economy by using a model developed by the University of Denver .\n",
    "Respond with only one of these words: negative, positive, or neutral.\n",
    "Output: neutral\n",
    "\n",
    "Instruct: STOCK EXCHANGE ANNOUNCEMENT 20 July 2006 1 ( 1 ) BASWARE SHARE SUBSCRIPTIONS WITH WARRANTS AND INCREASE IN SHARE CAPITAL A total of 119 850 shares have been subscribed with BasWare Warrant Program .\n",
    "Respond with only one of these words: negative, positive, or neutral.\n",
    "Output: neutral\n",
    "\n",
    "Instruct: A maximum of 666,104 new shares can further be subscribed for by exercising B options under the 2004 stock option plan .\n",
    "Respond with only one of these words: negative, positive, or neutral.\n",
    "Output: neutral\n",
    "\n",
    "Instruct: {text}\n",
    "Respond with only one of these words: negative, positive, or neutral.\n",
    "Output:\"\"\""
   ]
  },
  {
   "cell_type": "code",
   "execution_count": 139,
   "metadata": {
    "execution": {
     "iopub.execute_input": "2024-07-30T03:19:26.833629Z",
     "iopub.status.busy": "2024-07-30T03:19:26.833044Z",
     "iopub.status.idle": "2024-07-30T03:23:43.181401Z",
     "shell.execute_reply": "2024-07-30T03:23:43.180785Z",
     "shell.execute_reply.started": "2024-07-30T03:19:26.833607Z"
    }
   },
   "outputs": [
    {
     "data": {
      "application/vnd.jupyter.widget-view+json": {
       "model_id": "ee94ae6243ca4aa4aa61d65b6cab6a7c",
       "version_major": 2,
       "version_minor": 0
      },
      "text/plain": [
       "Map:   0%|          | 0/2258 [00:00<?, ? examples/s]"
      ]
     },
     "metadata": {},
     "output_type": "display_data"
    },
    {
     "name": "stdout",
     "output_type": "stream",
     "text": [
      "Your task is to analyze the sentiment (from an investor's perspective) of the text below.\n",
      "\n",
      "Respond with only one of these words: negative, positive, or neutral.\n",
      "\n",
      "Examples:\n",
      "\n",
      "Instruct: According to Gran , the company has no plans to move all production to Russia , although that is where the company is growing .\n",
      "Respond with only one of these words: negative, positive, or neutral.\n",
      "Output: neutral\n",
      "\n",
      "Instruct: For the last quarter of 2010 , Componenta 's net sales doubled to EUR131m from EUR76m for the same period a year earlier , while it moved to a zero pre-tax profit from a pre-tax loss of EUR7m .\n",
      "Respond with only one of these words: negative, positive, or neutral.\n",
      "Output: positive\n",
      "\n",
      "Instruct: Jan. 6 -- Ford is struggling in the face of slowing truck and SUV sales and a surfeit of up-to-date , gotta-have cars .\n",
      "Respond with only one of these words: negative, positive, or neutral.\n",
      "Output: negative\n",
      "\n",
      "Instruct: At the request of Finnish media company Alma Media 's newspapers , research manager Jari Kaivo-oja at the Finland Futures Research Centre at the Turku School of Economics has drawn up a future scenario for Finland 's national economy by using a model developed by the University of Denver .\n",
      "Respond with only one of these words: negative, positive, or neutral.\n",
      "Output: neutral\n",
      "\n",
      "Instruct: STOCK EXCHANGE ANNOUNCEMENT 20 July 2006 1 ( 1 ) BASWARE SHARE SUBSCRIPTIONS WITH WARRANTS AND INCREASE IN SHARE CAPITAL A total of 119 850 shares have been subscribed with BasWare Warrant Program .\n",
      "Respond with only one of these words: negative, positive, or neutral.\n",
      "Output: neutral\n",
      "\n",
      "Instruct: A maximum of 666,104 new shares can further be subscribed for by exercising B options under the 2004 stock option plan .\n",
      "Respond with only one of these words: negative, positive, or neutral.\n",
      "Output: neutral\n",
      "\n",
      "Instruct: In the third quarter of 2010 , net sales increased by 5.2 % to EUR 205.5 mn , and operating profit by 34.9 % to EUR 23.5 mn .\n",
      "Respond with only one of these words: negative, positive, or neutral.\n",
      "Output:\n",
      "---------\n"
     ]
    },
    {
     "name": "stderr",
     "output_type": "stream",
     "text": [
      "/usr/local/lib/python3.9/dist-packages/transformers/pipelines/base.py:1123: UserWarning: You seem to be using the pipelines sequentially on GPU. In order to maximize efficiency please use a dataset\n",
      "  warnings.warn(\n"
     ]
    }
   ],
   "source": [
    "df, acc = generate_responses(promptD_ds, promptH)"
   ]
  },
  {
   "cell_type": "markdown",
   "metadata": {},
   "source": [
    "Surprisingly, this boosts the accuracy to about 91% "
   ]
  },
  {
   "cell_type": "code",
   "execution_count": 140,
   "metadata": {
    "execution": {
     "iopub.execute_input": "2024-07-30T03:23:43.184306Z",
     "iopub.status.busy": "2024-07-30T03:23:43.184153Z",
     "iopub.status.idle": "2024-07-30T03:23:43.188488Z",
     "shell.execute_reply": "2024-07-30T03:23:43.187844Z",
     "shell.execute_reply.started": "2024-07-30T03:23:43.184289Z"
    }
   },
   "outputs": [
    {
     "data": {
      "text/plain": [
       "0.9065544729849424"
      ]
     },
     "execution_count": 140,
     "metadata": {},
     "output_type": "execute_result"
    }
   ],
   "source": [
    "acc"
   ]
  },
  {
   "cell_type": "markdown",
   "metadata": {
    "execution": {
     "iopub.execute_input": "2024-07-30T03:26:19.672408Z",
     "iopub.status.busy": "2024-07-30T03:26:19.671492Z",
     "iopub.status.idle": "2024-07-30T03:26:19.676122Z",
     "shell.execute_reply": "2024-07-30T03:26:19.675737Z",
     "shell.execute_reply.started": "2024-07-30T03:26:19.672408Z"
    }
   },
   "source": [
    "The number of correct `neutral` predictions increases by _160_ and `positive`s by 2. \n",
    "The number of correct `negative` predictions drops by 15."
   ]
  },
  {
   "cell_type": "code",
   "execution_count": 141,
   "metadata": {
    "execution": {
     "iopub.execute_input": "2024-07-30T03:25:49.864072Z",
     "iopub.status.busy": "2024-07-30T03:25:49.863310Z",
     "iopub.status.idle": "2024-07-30T03:25:49.945032Z",
     "shell.execute_reply": "2024-07-30T03:25:49.944508Z",
     "shell.execute_reply.started": "2024-07-30T03:25:49.864049Z"
    }
   },
   "outputs": [
    {
     "data": {
      "image/png": "[encoded data removed]",
      "text/plain": [
       "<Figure size 576x576 with 1 Axes>"
      ]
     },
     "metadata": {
      "needs_background": "light"
     },
     "output_type": "display_data"
    }
   ],
   "source": [
    "make_cm(df)"
   ]
  },
  {
   "cell_type": "code",
   "execution_count": 143,
   "metadata": {
    "execution": {
     "iopub.execute_input": "2024-07-30T03:27:24.639727Z",
     "iopub.status.busy": "2024-07-30T03:27:24.638972Z",
     "iopub.status.idle": "2024-07-30T03:27:24.719606Z",
     "shell.execute_reply": "2024-07-30T03:27:24.719122Z",
     "shell.execute_reply.started": "2024-07-30T03:27:24.639704Z"
    }
   },
   "outputs": [],
   "source": [
    "df.to_csv('/notebooks/phi-2_sc_H.csv', index=False)"
   ]
  },
  {
   "cell_type": "markdown",
   "metadata": {},
   "source": [
    "### Prompt I"
   ]
  },
  {
   "cell_type": "markdown",
   "metadata": {},
   "source": [
    "Now that I've broken the 90% threshold, I'll take a closer look at the misses by the model (in Excel---I like to look at my data at least once in a spreadsheet!).\n",
    "\n",
    "I'll start by looking at the 160 `neutral` targets that were predicted as `positive`. \n",
    "I went through the 160 examples and tagged each as one of the two following categories (with example phrases shown):\n",
    "\n",
    "- _neutral (general info, not necessarily positive or negative, need more context)_ (139 responses):\n",
    "    - \"The investment will be worth approximately EUR 100mn .\"\n",
    "    - \"The company expects its net sales for the whole of 2007 to be EUR 950mn-1 ,000 mn .\"\n",
    "    - \"Deliveries of Nokia 1112 , Nokia 2310 and Nokia 2610 are expected to start in the second quarter of 2006 .\"\n",
    "- _neutral (random information unrelated to positive/negative financial metrics)_ (21 responses)\n",
    "    - \"Also the development of online businesses will continue .\"\n",
    "    - \"Once your plants are in the ground they will continue to grow , but the success of any garden lies in how well it 's maintained .\"\n",
    "    - \"The total donation amount is EUR 1,115,000 .\"\n",
    "\n",
    "I scanned the 1219 true positive `neutral`s and they didn't seem very different from the misses:\n",
    "\n",
    "- \"The original contract was signed last summer .\"\n",
    "- \"It has some 30 offices worldwide and more than 90 pct of its net sales are generated outside Finland .\"\n",
    "- \"The offer price is \\\\$ 35 million , including cash of \\\\$ 10 million as net debt assumption of FACE , and \\\\$ 20 million worth of Cencorp shares to be issued to Savcor .\"\n",
    "\n",
    "\n",
    "I did some basic text searches in the 1219 correct `neutral` predictions and found that:\n",
    "\n",
    "- 552 phrases (45%) contained a number\n",
    "- 149 phrases (12%) contained the string \"EUR\" or \"USD\"\n",
    "- 34 phrases (3%) contained the string \"sales\" or \"profit\"\n",
    "\n",
    "I did the same searches in the 160 `neutral` phrases predicted as `positive` and found that:\n",
    "\n",
    "- 112 phrases (70%) contained a number\n",
    "- 67 phrases (42%) contained the string \"EUR\" or \"USD\"\n",
    "- 38 phrases (24%) contained the string \"sales\" or \"profit\"\n",
    "\n",
    "\n",
    "The occurrences of \"trigger\" words that falsely indicate financial sentiment (numbers, currency, \"sales\", \"profit\") \n",
    "are at a higher percentage in the `neutral` phrases predicted as `positive`. I'm guessing (as one only can with LLMs) that's why the model got tripped up on them.\n",
    "\n",
    "I'll try two options to improve my model's performance:\n",
    "\n",
    "- increase the number of few-shot examples \n",
    "(I've heard from the folks that wrote [What We've Learned from a Year of Building with LLMs](https://applied-llms.org/) \n",
    "that it's not uncommon to need a few dozen examples).\n",
    "- change the prompt language"
   ]
  },
  {
   "cell_type": "code",
   "execution_count": 63,
   "metadata": {
    "execution": {
     "iopub.execute_input": "2024-07-31T01:55:07.502311Z",
     "iopub.status.busy": "2024-07-31T01:55:07.501995Z",
     "iopub.status.idle": "2024-07-31T01:55:07.517315Z",
     "shell.execute_reply": "2024-07-31T01:55:07.516678Z",
     "shell.execute_reply.started": "2024-07-31T01:55:07.502292Z"
    }
   },
   "outputs": [],
   "source": [
    "# remove few-shot examples from dataset\n",
    "promptI_ds = ds_subset(dataset, exclude_idxs=[0, 1, 292, 37, 38, 39, 40, 263, 264, 265, 266, 270, 274, 283], columns=[0, 1, 2])"
   ]
  },
  {
   "cell_type": "code",
   "execution_count": 64,
   "metadata": {
    "execution": {
     "iopub.execute_input": "2024-07-31T01:55:15.275660Z",
     "iopub.status.busy": "2024-07-31T01:55:15.274868Z",
     "iopub.status.idle": "2024-07-31T01:55:15.280345Z",
     "shell.execute_reply": "2024-07-31T01:55:15.279409Z",
     "shell.execute_reply.started": "2024-07-31T01:55:15.275632Z"
    }
   },
   "outputs": [
    {
     "data": {
      "text/plain": [
       "Dataset({\n",
       "    features: ['sentence', 'label', 'label_text', '__index_level_0__'],\n",
       "    num_rows: 2250\n",
       "})"
      ]
     },
     "execution_count": 64,
     "metadata": {},
     "output_type": "execute_result"
    }
   ],
   "source": [
    "promptI_ds"
   ]
  },
  {
   "cell_type": "code",
   "execution_count": 65,
   "metadata": {
    "execution": {
     "iopub.execute_input": "2024-07-31T01:55:22.435774Z",
     "iopub.status.busy": "2024-07-31T01:55:22.435207Z",
     "iopub.status.idle": "2024-07-31T01:55:22.439844Z",
     "shell.execute_reply": "2024-07-31T01:55:22.439291Z",
     "shell.execute_reply.started": "2024-07-31T01:55:22.435754Z"
    }
   },
   "outputs": [],
   "source": [
    "#| code-fold: true\n",
    "#| code-summary: \"Show `promptI`\"\n",
    "promptI = \"\"\"Your task is to analyze the sentiment (from an investor's perspective) of the text below.\n",
    "\n",
    "Respond with only one of these words: negative, positive, or neutral.\n",
    "\n",
    "Examples:\n",
    "\n",
    "Instruct: According to Gran , the company has no plans to move all production to Russia , although that is where the company is growing .\n",
    "Respond with only one of these words: negative, positive, or neutral.\n",
    "Output: neutral\n",
    "\n",
    "Instruct: For the last quarter of 2010 , Componenta 's net sales doubled to EUR131m from EUR76m for the same period a year earlier , while it moved to a zero pre-tax profit from a pre-tax loss of EUR7m .\n",
    "Respond with only one of these words: negative, positive, or neutral.\n",
    "Output: positive\n",
    "\n",
    "Instruct: Jan. 6 -- Ford is struggling in the face of slowing truck and SUV sales and a surfeit of up-to-date , gotta-have cars .\n",
    "Respond with only one of these words: negative, positive, or neutral.\n",
    "Output: negative\n",
    "\n",
    "Instruct: At the request of Finnish media company Alma Media 's newspapers , research manager Jari Kaivo-oja at the Finland Futures Research Centre at the Turku School of Economics has drawn up a future scenario for Finland 's national economy by using a model developed by the University of Denver .\n",
    "Respond with only one of these words: negative, positive, or neutral.\n",
    "Output: neutral\n",
    "\n",
    "Instruct: STOCK EXCHANGE ANNOUNCEMENT 20 July 2006 1 ( 1 ) BASWARE SHARE SUBSCRIPTIONS WITH WARRANTS AND INCREASE IN SHARE CAPITAL A total of 119 850 shares have been subscribed with BasWare Warrant Program .\n",
    "Respond with only one of these words: negative, positive, or neutral.\n",
    "Output: neutral\n",
    "\n",
    "Instruct: A maximum of 666,104 new shares can further be subscribed for by exercising B options under the 2004 stock option plan .\n",
    "Respond with only one of these words: negative, positive, or neutral.\n",
    "Output: neutral\n",
    "\n",
    "Instruct: Tiimari operates 194 stores in six countries -- including its core Finnish market -- and generated a turnover of 76.5 mln eur in 2005 .\n",
    "Respond with only one of these words: negative, positive, or neutral.\n",
    "Output: neutral\n",
    "\n",
    "Instruct: Finnish Talvivaara Mining Co HEL : TLV1V said Thursday it had picked BofA Merrill Lynch and JPMorgan NYSE : JPM as joint bookrunners of its planned issue of convertible notes worth up to EUR250m USD332m .\n",
    "Respond with only one of these words: negative, positive, or neutral.\n",
    "Output: neutral\n",
    "\n",
    "Instruct: The mall is part of the Baltic Pearl development project in the city of St Petersburg , where Baltic Pearl CJSC , a subsidiary of Shanghai Foreign Joint Investment Company , is developing homes for 35,000 people .\n",
    "Respond with only one of these words: negative, positive, or neutral.\n",
    "Output: neutral\n",
    "\n",
    "Instruct: Vacon controls a further 5 % of the company via investment fund Power Fund I. EUR 1.0 = USD 1.397\n",
    "Respond with only one of these words: negative, positive, or neutral.\n",
    "Output: neutral\n",
    "\n",
    "Instruct: 4 ) Complete name of the shareholder : Otto Henrik Bernhard Nyberg 5 ) Further information : The amount of shares now transferred corresponds to 5.68 % of the total number of shares in Aspo Plc. .\n",
    "Respond with only one of these words: negative, positive, or neutral.\n",
    "Output: neutral\n",
    "\n",
    "Instruct: It has some 30 offices worldwide and more than 90 pct of its net sales are generated outside Finland .\n",
    "Respond with only one of these words: negative, positive, or neutral.\n",
    "Output: neutral\n",
    "\n",
    "Instruct: The contract value amounts to about EUR11m , the company added .\n",
    "Respond with only one of these words: negative, positive, or neutral.\n",
    "Output: neutral\n",
    "\n",
    "Instruct: The business to be divested generates consolidated net sales of EUR 60 million annually and currently has some 640 employees .\n",
    "Respond with only one of these words: negative, positive, or neutral.\n",
    "Output: neutral\n",
    "\n",
    "Instruct: {text}\n",
    "Respond with only one of these words: negative, positive, or neutral.\n",
    "Output:\"\"\""
   ]
  },
  {
   "cell_type": "code",
   "execution_count": 66,
   "metadata": {
    "execution": {
     "iopub.execute_input": "2024-07-31T01:55:51.133883Z",
     "iopub.status.busy": "2024-07-31T01:55:51.133270Z",
     "iopub.status.idle": "2024-07-31T02:05:29.411333Z",
     "shell.execute_reply": "2024-07-31T02:05:29.410610Z",
     "shell.execute_reply.started": "2024-07-31T01:55:51.133858Z"
    }
   },
   "outputs": [
    {
     "data": {
      "application/vnd.jupyter.widget-view+json": {
       "model_id": "c729f3861f304a35965ca22117f708cb",
       "version_major": 2,
       "version_minor": 0
      },
      "text/plain": [
       "Map:   0%|          | 0/2250 [00:00<?, ? examples/s]"
      ]
     },
     "metadata": {},
     "output_type": "display_data"
    },
    {
     "name": "stdout",
     "output_type": "stream",
     "text": [
      "Your task is to analyze the sentiment (from an investor's perspective) of the text below.\n",
      "\n",
      "Respond with only one of these words: negative, positive, or neutral.\n",
      "\n",
      "Examples:\n",
      "\n",
      "Instruct: According to Gran , the company has no plans to move all production to Russia , although that is where the company is growing .\n",
      "Respond with only one of these words: negative, positive, or neutral.\n",
      "Output: neutral\n",
      "\n",
      "Instruct: For the last quarter of 2010 , Componenta 's net sales doubled to EUR131m from EUR76m for the same period a year earlier , while it moved to a zero pre-tax profit from a pre-tax loss of EUR7m .\n",
      "Respond with only one of these words: negative, positive, or neutral.\n",
      "Output: positive\n",
      "\n",
      "Instruct: Jan. 6 -- Ford is struggling in the face of slowing truck and SUV sales and a surfeit of up-to-date , gotta-have cars .\n",
      "Respond with only one of these words: negative, positive, or neutral.\n",
      "Output: negative\n",
      "\n",
      "Instruct: At the request of Finnish media company Alma Media 's newspapers , research manager Jari Kaivo-oja at the Finland Futures Research Centre at the Turku School of Economics has drawn up a future scenario for Finland 's national economy by using a model developed by the University of Denver .\n",
      "Respond with only one of these words: negative, positive, or neutral.\n",
      "Output: neutral\n",
      "\n",
      "Instruct: STOCK EXCHANGE ANNOUNCEMENT 20 July 2006 1 ( 1 ) BASWARE SHARE SUBSCRIPTIONS WITH WARRANTS AND INCREASE IN SHARE CAPITAL A total of 119 850 shares have been subscribed with BasWare Warrant Program .\n",
      "Respond with only one of these words: negative, positive, or neutral.\n",
      "Output: neutral\n",
      "\n",
      "Instruct: A maximum of 666,104 new shares can further be subscribed for by exercising B options under the 2004 stock option plan .\n",
      "Respond with only one of these words: negative, positive, or neutral.\n",
      "Output: neutral\n",
      "\n",
      "Instruct: Tiimari operates 194 stores in six countries -- including its core Finnish market -- and generated a turnover of 76.5 mln eur in 2005 .\n",
      "Respond with only one of these words: negative, positive, or neutral.\n",
      "Output: neutral\n",
      "\n",
      "Instruct: Finnish Talvivaara Mining Co HEL : TLV1V said Thursday it had picked BofA Merrill Lynch and JPMorgan NYSE : JPM as joint bookrunners of its planned issue of convertible notes worth up to EUR250m USD332m .\n",
      "Respond with only one of these words: negative, positive, or neutral.\n",
      "Output: neutral\n",
      "\n",
      "Instruct: The mall is part of the Baltic Pearl development project in the city of St Petersburg , where Baltic Pearl CJSC , a subsidiary of Shanghai Foreign Joint Investment Company , is developing homes for 35,000 people .\n",
      "Respond with only one of these words: negative, positive, or neutral.\n",
      "Output: neutral\n",
      "\n",
      "Instruct: Vacon controls a further 5 % of the company via investment fund Power Fund I. EUR 1.0 = USD 1.397\n",
      "Respond with only one of these words: negative, positive, or neutral.\n",
      "Output: neutral\n",
      "\n",
      "Instruct: 4 ) Complete name of the shareholder : Otto Henrik Bernhard Nyberg 5 ) Further information : The amount of shares now transferred corresponds to 5.68 % of the total number of shares in Aspo Plc. .\n",
      "Respond with only one of these words: negative, positive, or neutral.\n",
      "Output: neutral\n",
      "\n",
      "Instruct: It has some 30 offices worldwide and more than 90 pct of its net sales are generated outside Finland .\n",
      "Respond with only one of these words: negative, positive, or neutral.\n",
      "Output: neutral\n",
      "\n",
      "Instruct: The contract value amounts to about EUR11m , the company added .\n",
      "Respond with only one of these words: negative, positive, or neutral.\n",
      "Output: neutral\n",
      "\n",
      "Instruct: The business to be divested generates consolidated net sales of EUR 60 million annually and currently has some 640 employees .\n",
      "Respond with only one of these words: negative, positive, or neutral.\n",
      "Output: neutral\n",
      "\n",
      "Instruct: In the third quarter of 2010 , net sales increased by 5.2 % to EUR 205.5 mn , and operating profit by 34.9 % to EUR 23.5 mn .\n",
      "Respond with only one of these words: negative, positive, or neutral.\n",
      "Output:\n",
      "---------\n"
     ]
    }
   ],
   "source": [
    "df, acc = generate_responses(promptI_ds, promptI)"
   ]
  },
  {
   "cell_type": "markdown",
   "metadata": {},
   "source": [
    "That took considerably longer to run (makes sense, almost triple the input tokens) and the overall accuracy decreased."
   ]
  },
  {
   "cell_type": "code",
   "execution_count": 67,
   "metadata": {
    "execution": {
     "iopub.execute_input": "2024-07-31T02:05:29.412809Z",
     "iopub.status.busy": "2024-07-31T02:05:29.412597Z",
     "iopub.status.idle": "2024-07-31T02:05:29.417278Z",
     "shell.execute_reply": "2024-07-31T02:05:29.416643Z",
     "shell.execute_reply.started": "2024-07-31T02:05:29.412792Z"
    }
   },
   "outputs": [
    {
     "data": {
      "text/plain": [
       "0.8866666666666667"
      ]
     },
     "execution_count": 67,
     "metadata": {},
     "output_type": "execute_result"
    }
   ],
   "source": [
    "acc"
   ]
  },
  {
   "cell_type": "markdown",
   "metadata": {},
   "source": [
    "A massive improvement in predicting `neutral` phrases correctly! \n",
    "With the 8 additional few-shot examples phi-2 is predicting `neutral`s with almost 100% accuracy, 149 more correct phrases than before. \n",
    "\n",
    "However, it's performly worse for `positive` (142 fewer correct predictions) and `negative` (69 fewer correct predictions) sentiment phrases. "
   ]
  },
  {
   "cell_type": "code",
   "execution_count": 68,
   "metadata": {
    "execution": {
     "iopub.execute_input": "2024-07-31T02:07:18.469643Z",
     "iopub.status.busy": "2024-07-31T02:07:18.469058Z",
     "iopub.status.idle": "2024-07-31T02:07:18.628590Z",
     "shell.execute_reply": "2024-07-31T02:07:18.627813Z",
     "shell.execute_reply.started": "2024-07-31T02:07:18.469619Z"
    }
   },
   "outputs": [
    {
     "data": {
      "image/png": "[encoded data removed]",
      "text/plain": [
       "<Figure size 576x576 with 1 Axes>"
      ]
     },
     "metadata": {
      "needs_background": "light"
     },
     "output_type": "display_data"
    }
   ],
   "source": [
    "make_cm(df)"
   ]
  },
  {
   "cell_type": "code",
   "execution_count": 69,
   "metadata": {
    "execution": {
     "iopub.execute_input": "2024-07-31T02:11:29.391167Z",
     "iopub.status.busy": "2024-07-31T02:11:29.390880Z",
     "iopub.status.idle": "2024-07-31T02:11:29.528952Z",
     "shell.execute_reply": "2024-07-31T02:11:29.528277Z",
     "shell.execute_reply.started": "2024-07-31T02:11:29.391148Z"
    }
   },
   "outputs": [],
   "source": [
    "df.to_csv('/notebooks/phi-2_sc_I.csv', index=False)"
   ]
  },
  {
   "cell_type": "markdown",
   "metadata": {},
   "source": [
    "### Prompt J"
   ]
  },
  {
   "cell_type": "markdown",
   "metadata": {},
   "source": [
    "I'll see if adding a few more `negative` and `positive` examples improves the accuracy for those classes. "
   ]
  },
  {
   "cell_type": "code",
   "execution_count": 86,
   "metadata": {
    "execution": {
     "iopub.execute_input": "2024-07-31T02:19:02.716713Z",
     "iopub.status.busy": "2024-07-31T02:19:02.716146Z",
     "iopub.status.idle": "2024-07-31T02:19:02.728619Z",
     "shell.execute_reply": "2024-07-31T02:19:02.728177Z",
     "shell.execute_reply.started": "2024-07-31T02:19:02.716687Z"
    }
   },
   "outputs": [],
   "source": [
    "# remove few-shot examples from dataset\n",
    "promptJ_ds = ds_subset(dataset, exclude_idxs=[1, 2, 3, 4, 292, 293, 294, 347, 0, 37, 38, 39, 40, 263, 264, 265, 266, 270, 274, 283], columns=[0, 1, 2])"
   ]
  },
  {
   "cell_type": "code",
   "execution_count": 87,
   "metadata": {
    "execution": {
     "iopub.execute_input": "2024-07-31T02:19:10.322063Z",
     "iopub.status.busy": "2024-07-31T02:19:10.321394Z",
     "iopub.status.idle": "2024-07-31T02:19:10.325676Z",
     "shell.execute_reply": "2024-07-31T02:19:10.325282Z",
     "shell.execute_reply.started": "2024-07-31T02:19:10.322039Z"
    }
   },
   "outputs": [
    {
     "data": {
      "text/plain": [
       "Dataset({\n",
       "    features: ['sentence', 'label', 'label_text', '__index_level_0__'],\n",
       "    num_rows: 2244\n",
       "})"
      ]
     },
     "execution_count": 87,
     "metadata": {},
     "output_type": "execute_result"
    }
   ],
   "source": [
    "promptJ_ds"
   ]
  },
  {
   "cell_type": "code",
   "execution_count": 88,
   "metadata": {
    "execution": {
     "iopub.execute_input": "2024-07-31T02:19:16.792604Z",
     "iopub.status.busy": "2024-07-31T02:19:16.791916Z",
     "iopub.status.idle": "2024-07-31T02:19:16.796871Z",
     "shell.execute_reply": "2024-07-31T02:19:16.796478Z",
     "shell.execute_reply.started": "2024-07-31T02:19:16.792580Z"
    }
   },
   "outputs": [],
   "source": [
    "#| code-fold: true\n",
    "#| code-summary: \"Show `promptJ`\"\n",
    "promptJ = \"\"\"Your task is to analyze the sentiment (from an investor's perspective) of the text below.\n",
    "\n",
    "Respond with only one of these words: negative, positive, or neutral.\n",
    "\n",
    "Examples:\n",
    "\n",
    "Instruct: Jan. 6 -- Ford is struggling in the face of slowing truck and SUV sales and a surfeit of up-to-date , gotta-have cars .\n",
    "Respond with only one of these words: negative, positive, or neutral.\n",
    "Output: negative\n",
    "\n",
    "Instruct: Pharmaceuticals group Orion Corp reported a fall in its third-quarter earnings that were hit by larger expenditures on R&D and marketing .\n",
    "Respond with only one of these words: negative, positive, or neutral.\n",
    "Output: negative\n",
    "\n",
    "Instruct: However , the growth margin slowed down due to the financial crisis .\n",
    "Respond with only one of these words: negative, positive, or neutral.\n",
    "Output: negative\n",
    "\n",
    "Instruct: 2009 3 February 2010 - Finland-based steel maker Rautaruukki Oyj ( HEL : RTRKS ) , or Ruukki , said today it slipped to a larger-than-expected pretax loss of EUR46m in the fourth quarter of 2009 from a year-earlier profit of EUR45m .\n",
    "Respond with only one of these words: negative, positive, or neutral.\n",
    "Output: negative\n",
    "\n",
    "Instruct: For the last quarter of 2010 , Componenta 's net sales doubled to EUR131m from EUR76m for the same period a year earlier , while it moved to a zero pre-tax profit from a pre-tax loss of EUR7m .\n",
    "Respond with only one of these words: negative, positive, or neutral.\n",
    "Output: positive\n",
    "\n",
    "Instruct: In the third quarter of 2010 , net sales increased by 5.2 % to EUR 205.5 mn , and operating profit by 34.9 % to EUR 23.5 mn .\n",
    "Respond with only one of these words: negative, positive, or neutral.\n",
    "Output: positive\n",
    "\n",
    "Instruct: Operating profit rose to EUR 13.1 mn from EUR 8.7 mn in the corresponding period in 2007 representing 7.7 % of net sales .\n",
    "Respond with only one of these words: negative, positive, or neutral.\n",
    "Output: positive\n",
    "\n",
    "Instruct: Operating profit totalled EUR 21.1 mn , up from EUR 18.6 mn in 2007 , representing 9.7 % of net sales .\n",
    "Respond with only one of these words: negative, positive, or neutral.\n",
    "Output: positive\n",
    "\n",
    "Instruct: According to Gran , the company has no plans to move all production to Russia , although that is where the company is growing .\n",
    "Respond with only one of these words: negative, positive, or neutral.\n",
    "Output: neutral\n",
    "\n",
    "Instruct: At the request of Finnish media company Alma Media 's newspapers , research manager Jari Kaivo-oja at the Finland Futures Research Centre at the Turku School of Economics has drawn up a future scenario for Finland 's national economy by using a model developed by the University of Denver .\n",
    "Respond with only one of these words: negative, positive, or neutral.\n",
    "Output: neutral\n",
    "\n",
    "Instruct: STOCK EXCHANGE ANNOUNCEMENT 20 July 2006 1 ( 1 ) BASWARE SHARE SUBSCRIPTIONS WITH WARRANTS AND INCREASE IN SHARE CAPITAL A total of 119 850 shares have been subscribed with BasWare Warrant Program .\n",
    "Respond with only one of these words: negative, positive, or neutral.\n",
    "Output: neutral\n",
    "\n",
    "Instruct: A maximum of 666,104 new shares can further be subscribed for by exercising B options under the 2004 stock option plan .\n",
    "Respond with only one of these words: negative, positive, or neutral.\n",
    "Output: neutral\n",
    "\n",
    "Instruct: Tiimari operates 194 stores in six countries -- including its core Finnish market -- and generated a turnover of 76.5 mln eur in 2005 .\n",
    "Respond with only one of these words: negative, positive, or neutral.\n",
    "Output: neutral\n",
    "\n",
    "Instruct: Finnish Talvivaara Mining Co HEL : TLV1V said Thursday it had picked BofA Merrill Lynch and JPMorgan NYSE : JPM as joint bookrunners of its planned issue of convertible notes worth up to EUR250m USD332m .\n",
    "Respond with only one of these words: negative, positive, or neutral.\n",
    "Output: neutral\n",
    "\n",
    "Instruct: The mall is part of the Baltic Pearl development project in the city of St Petersburg , where Baltic Pearl CJSC , a subsidiary of Shanghai Foreign Joint Investment Company , is developing homes for 35,000 people .\n",
    "Respond with only one of these words: negative, positive, or neutral.\n",
    "Output: neutral\n",
    "\n",
    "Instruct: Vacon controls a further 5 % of the company via investment fund Power Fund I. EUR 1.0 = USD 1.397\n",
    "Respond with only one of these words: negative, positive, or neutral.\n",
    "Output: neutral\n",
    "\n",
    "Instruct: 4 ) Complete name of the shareholder : Otto Henrik Bernhard Nyberg 5 ) Further information : The amount of shares now transferred corresponds to 5.68 % of the total number of shares in Aspo Plc. .\n",
    "Respond with only one of these words: negative, positive, or neutral.\n",
    "Output: neutral\n",
    "\n",
    "Instruct: It has some 30 offices worldwide and more than 90 pct of its net sales are generated outside Finland .\n",
    "Respond with only one of these words: negative, positive, or neutral.\n",
    "Output: neutral\n",
    "\n",
    "Instruct: The contract value amounts to about EUR11m , the company added .\n",
    "Respond with only one of these words: negative, positive, or neutral.\n",
    "Output: neutral\n",
    "\n",
    "Instruct: The business to be divested generates consolidated net sales of EUR 60 million annually and currently has some 640 employees .\n",
    "Respond with only one of these words: negative, positive, or neutral.\n",
    "Output: neutral\n",
    "\n",
    "Instruct: {text}\n",
    "Respond with only one of these words: negative, positive, or neutral.\n",
    "Output:\"\"\""
   ]
  },
  {
   "cell_type": "code",
   "execution_count": 89,
   "metadata": {
    "execution": {
     "iopub.execute_input": "2024-07-31T02:21:18.657987Z",
     "iopub.status.busy": "2024-07-31T02:21:18.657191Z",
     "iopub.status.idle": "2024-07-31T02:36:37.991654Z",
     "shell.execute_reply": "2024-07-31T02:36:37.991070Z",
     "shell.execute_reply.started": "2024-07-31T02:21:18.657961Z"
    }
   },
   "outputs": [
    {
     "data": {
      "application/vnd.jupyter.widget-view+json": {
       "model_id": "69668782d9324f8ba3ddabfbbea4bfe2",
       "version_major": 2,
       "version_minor": 0
      },
      "text/plain": [
       "Map:   0%|          | 0/2244 [00:00<?, ? examples/s]"
      ]
     },
     "metadata": {},
     "output_type": "display_data"
    },
    {
     "name": "stdout",
     "output_type": "stream",
     "text": [
      "Your task is to analyze the sentiment (from an investor's perspective) of the text below.\n",
      "\n",
      "Respond with only one of these words: negative, positive, or neutral.\n",
      "\n",
      "Examples:\n",
      "\n",
      "Instruct: Jan. 6 -- Ford is struggling in the face of slowing truck and SUV sales and a surfeit of up-to-date , gotta-have cars .\n",
      "Respond with only one of these words: negative, positive, or neutral.\n",
      "Output: negative\n",
      "\n",
      "Instruct: Pharmaceuticals group Orion Corp reported a fall in its third-quarter earnings that were hit by larger expenditures on R&D and marketing .\n",
      "Respond with only one of these words: negative, positive, or neutral.\n",
      "Output: negative\n",
      "\n",
      "Instruct: However , the growth margin slowed down due to the financial crisis .\n",
      "Respond with only one of these words: negative, positive, or neutral.\n",
      "Output: negative\n",
      "\n",
      "Instruct: 2009 3 February 2010 - Finland-based steel maker Rautaruukki Oyj ( HEL : RTRKS ) , or Ruukki , said today it slipped to a larger-than-expected pretax loss of EUR46m in the fourth quarter of 2009 from a year-earlier profit of EUR45m .\n",
      "Respond with only one of these words: negative, positive, or neutral.\n",
      "Output: negative\n",
      "\n",
      "Instruct: For the last quarter of 2010 , Componenta 's net sales doubled to EUR131m from EUR76m for the same period a year earlier , while it moved to a zero pre-tax profit from a pre-tax loss of EUR7m .\n",
      "Respond with only one of these words: negative, positive, or neutral.\n",
      "Output: positive\n",
      "\n",
      "Instruct: In the third quarter of 2010 , net sales increased by 5.2 % to EUR 205.5 mn , and operating profit by 34.9 % to EUR 23.5 mn .\n",
      "Respond with only one of these words: negative, positive, or neutral.\n",
      "Output: positive\n",
      "\n",
      "Instruct: Operating profit rose to EUR 13.1 mn from EUR 8.7 mn in the corresponding period in 2007 representing 7.7 % of net sales .\n",
      "Respond with only one of these words: negative, positive, or neutral.\n",
      "Output: positive\n",
      "\n",
      "Instruct: Operating profit totalled EUR 21.1 mn , up from EUR 18.6 mn in 2007 , representing 9.7 % of net sales .\n",
      "Respond with only one of these words: negative, positive, or neutral.\n",
      "Output: positive\n",
      "\n",
      "Instruct: According to Gran , the company has no plans to move all production to Russia , although that is where the company is growing .\n",
      "Respond with only one of these words: negative, positive, or neutral.\n",
      "Output: neutral\n",
      "\n",
      "Instruct: At the request of Finnish media company Alma Media 's newspapers , research manager Jari Kaivo-oja at the Finland Futures Research Centre at the Turku School of Economics has drawn up a future scenario for Finland 's national economy by using a model developed by the University of Denver .\n",
      "Respond with only one of these words: negative, positive, or neutral.\n",
      "Output: neutral\n",
      "\n",
      "Instruct: STOCK EXCHANGE ANNOUNCEMENT 20 July 2006 1 ( 1 ) BASWARE SHARE SUBSCRIPTIONS WITH WARRANTS AND INCREASE IN SHARE CAPITAL A total of 119 850 shares have been subscribed with BasWare Warrant Program .\n",
      "Respond with only one of these words: negative, positive, or neutral.\n",
      "Output: neutral\n",
      "\n",
      "Instruct: A maximum of 666,104 new shares can further be subscribed for by exercising B options under the 2004 stock option plan .\n",
      "Respond with only one of these words: negative, positive, or neutral.\n",
      "Output: neutral\n",
      "\n",
      "Instruct: Tiimari operates 194 stores in six countries -- including its core Finnish market -- and generated a turnover of 76.5 mln eur in 2005 .\n",
      "Respond with only one of these words: negative, positive, or neutral.\n",
      "Output: neutral\n",
      "\n",
      "Instruct: Finnish Talvivaara Mining Co HEL : TLV1V said Thursday it had picked BofA Merrill Lynch and JPMorgan NYSE : JPM as joint bookrunners of its planned issue of convertible notes worth up to EUR250m USD332m .\n",
      "Respond with only one of these words: negative, positive, or neutral.\n",
      "Output: neutral\n",
      "\n",
      "Instruct: The mall is part of the Baltic Pearl development project in the city of St Petersburg , where Baltic Pearl CJSC , a subsidiary of Shanghai Foreign Joint Investment Company , is developing homes for 35,000 people .\n",
      "Respond with only one of these words: negative, positive, or neutral.\n",
      "Output: neutral\n",
      "\n",
      "Instruct: Vacon controls a further 5 % of the company via investment fund Power Fund I. EUR 1.0 = USD 1.397\n",
      "Respond with only one of these words: negative, positive, or neutral.\n",
      "Output: neutral\n",
      "\n",
      "Instruct: 4 ) Complete name of the shareholder : Otto Henrik Bernhard Nyberg 5 ) Further information : The amount of shares now transferred corresponds to 5.68 % of the total number of shares in Aspo Plc. .\n",
      "Respond with only one of these words: negative, positive, or neutral.\n",
      "Output: neutral\n",
      "\n",
      "Instruct: It has some 30 offices worldwide and more than 90 pct of its net sales are generated outside Finland .\n",
      "Respond with only one of these words: negative, positive, or neutral.\n",
      "Output: neutral\n",
      "\n",
      "Instruct: The contract value amounts to about EUR11m , the company added .\n",
      "Respond with only one of these words: negative, positive, or neutral.\n",
      "Output: neutral\n",
      "\n",
      "Instruct: The business to be divested generates consolidated net sales of EUR 60 million annually and currently has some 640 employees .\n",
      "Respond with only one of these words: negative, positive, or neutral.\n",
      "Output: neutral\n",
      "\n",
      "Instruct: Finnish Talentum reports its operating profit increased to EUR 20.5 mn in 2005 from EUR 9.3 mn in 2004 , and net sales totaled EUR 103.3 mn , up from EUR 96.4 mn .\n",
      "Respond with only one of these words: negative, positive, or neutral.\n",
      "Output:\n",
      "---------\n"
     ]
    }
   ],
   "source": [
    "df, acc = generate_responses(promptJ_ds, promptJ)"
   ]
  },
  {
   "cell_type": "markdown",
   "metadata": {},
   "source": [
    "That seems to have worked! The accuracy is at 91%, the highest it's reached thus far."
   ]
  },
  {
   "cell_type": "code",
   "execution_count": 90,
   "metadata": {
    "execution": {
     "iopub.execute_input": "2024-07-31T02:37:41.898576Z",
     "iopub.status.busy": "2024-07-31T02:37:41.898299Z",
     "iopub.status.idle": "2024-07-31T02:37:41.902720Z",
     "shell.execute_reply": "2024-07-31T02:37:41.902077Z",
     "shell.execute_reply.started": "2024-07-31T02:37:41.898557Z"
    }
   },
   "outputs": [
    {
     "data": {
      "text/plain": [
       "0.910873440285205"
      ]
     },
     "execution_count": 90,
     "metadata": {},
     "output_type": "execute_result"
    }
   ],
   "source": [
    "acc"
   ]
  },
  {
   "cell_type": "markdown",
   "metadata": {},
   "source": [
    "There seems to be a trade-off (at least with this prompting strategy) between true positives. \n",
    "The number of correct `negative` predictions increased by 18, `positive` by 60 and `neutral` decreased by 28."
   ]
  },
  {
   "cell_type": "code",
   "execution_count": 91,
   "metadata": {
    "execution": {
     "iopub.execute_input": "2024-07-31T02:38:07.067254Z",
     "iopub.status.busy": "2024-07-31T02:38:07.066560Z",
     "iopub.status.idle": "2024-07-31T02:38:07.151616Z",
     "shell.execute_reply": "2024-07-31T02:38:07.150968Z",
     "shell.execute_reply.started": "2024-07-31T02:38:07.067207Z"
    }
   },
   "outputs": [
    {
     "data": {
      "image/png": "[encoded data removed]",
      "text/plain": [
       "<Figure size 576x576 with 1 Axes>"
      ]
     },
     "metadata": {
      "needs_background": "light"
     },
     "output_type": "display_data"
    }
   ],
   "source": [
    "make_cm(df)"
   ]
  },
  {
   "cell_type": "markdown",
   "metadata": {},
   "source": [
    "### Prompt K"
   ]
  },
  {
   "cell_type": "markdown",
   "metadata": {},
   "source": [
    "Adding few-shot examples improved the accuracy by less than 1%. What if I changed the instruction language instead?\n",
    "I'll go back to Prompt H (90.66% accuracy, 6 examples) and see if modifying the instruction helps.\n",
    "\n",
    "I'll start by adding the phrase \"if you're not sure, respond with neutral.\""
   ]
  },
  {
   "cell_type": "code",
   "execution_count": 103,
   "metadata": {
    "execution": {
     "iopub.execute_input": "2024-07-31T02:50:26.298808Z",
     "iopub.status.busy": "2024-07-31T02:50:26.298121Z",
     "iopub.status.idle": "2024-07-31T02:50:26.302739Z",
     "shell.execute_reply": "2024-07-31T02:50:26.302252Z",
     "shell.execute_reply.started": "2024-07-31T02:50:26.298776Z"
    }
   },
   "outputs": [],
   "source": [
    "#| code-fold: true\n",
    "#| code-summary: \"Show `promptK`\"\n",
    "promptK = \"\"\"Your task is to analyze the sentiment (from an investor's perspective) of the text below.\n",
    "\n",
    "Respond with only one of these words: negative, positive, or neutral. If you're not sure, respond with neutral.\n",
    "\n",
    "Examples:\n",
    "\n",
    "Instruct: According to Gran , the company has no plans to move all production to Russia , although that is where the company is growing .\n",
    "Respond with only one of these words: negative, positive, or neutral. If you're not sure, respond with neutral.\n",
    "Output: neutral\n",
    "\n",
    "Instruct: For the last quarter of 2010 , Componenta 's net sales doubled to EUR131m from EUR76m for the same period a year earlier , while it moved to a zero pre-tax profit from a pre-tax loss of EUR7m .\n",
    "Respond with only one of these words: negative, positive, or neutral. If you're not sure, respond with neutral.\n",
    "Output: positive\n",
    "\n",
    "Instruct: Jan. 6 -- Ford is struggling in the face of slowing truck and SUV sales and a surfeit of up-to-date , gotta-have cars .\n",
    "Respond with only one of these words: negative, positive, or neutral. If you're not sure, respond with neutral.\n",
    "Output: negative\n",
    "\n",
    "Instruct: At the request of Finnish media company Alma Media 's newspapers , research manager Jari Kaivo-oja at the Finland Futures Research Centre at the Turku School of Economics has drawn up a future scenario for Finland 's national economy by using a model developed by the University of Denver .\n",
    "Respond with only one of these words: negative, positive, or neutral. If you're not sure, respond with neutral.\n",
    "Output: neutral\n",
    "\n",
    "Instruct: STOCK EXCHANGE ANNOUNCEMENT 20 July 2006 1 ( 1 ) BASWARE SHARE SUBSCRIPTIONS WITH WARRANTS AND INCREASE IN SHARE CAPITAL A total of 119 850 shares have been subscribed with BasWare Warrant Program .\n",
    "Respond with only one of these words: negative, positive, or neutral. If you're not sure, respond with neutral.\n",
    "Output: neutral\n",
    "\n",
    "Instruct: A maximum of 666,104 new shares can further be subscribed for by exercising B options under the 2004 stock option plan .\n",
    "Respond with only one of these words: negative, positive, or neutral. If you're not sure, respond with neutral.\n",
    "Output: neutral\n",
    "\n",
    "Instruct: {text}\n",
    "Respond with only one of these words: negative, positive, or neutral. If you're not sure, respond with neutral.\n",
    "Output:\"\"\""
   ]
  },
  {
   "cell_type": "code",
   "execution_count": 104,
   "metadata": {
    "execution": {
     "iopub.execute_input": "2024-07-31T02:50:30.065036Z",
     "iopub.status.busy": "2024-07-31T02:50:30.064404Z",
     "iopub.status.idle": "2024-07-31T02:50:30.079690Z",
     "shell.execute_reply": "2024-07-31T02:50:30.078928Z",
     "shell.execute_reply.started": "2024-07-31T02:50:30.065007Z"
    }
   },
   "outputs": [],
   "source": [
    "# remove few-shot examples from dataset\n",
    "promptK_ds = ds_subset(dataset, exclude_idxs=[0, 1, 292, 37, 38, 39], columns=[0, 1, 2])"
   ]
  },
  {
   "cell_type": "code",
   "execution_count": 105,
   "metadata": {
    "execution": {
     "iopub.execute_input": "2024-07-31T02:50:31.782552Z",
     "iopub.status.busy": "2024-07-31T02:50:31.782002Z",
     "iopub.status.idle": "2024-07-31T02:50:31.786438Z",
     "shell.execute_reply": "2024-07-31T02:50:31.785871Z",
     "shell.execute_reply.started": "2024-07-31T02:50:31.782530Z"
    }
   },
   "outputs": [
    {
     "data": {
      "text/plain": [
       "Dataset({\n",
       "    features: ['sentence', 'label', 'label_text', '__index_level_0__'],\n",
       "    num_rows: 2258\n",
       "})"
      ]
     },
     "execution_count": 105,
     "metadata": {},
     "output_type": "execute_result"
    }
   ],
   "source": [
    "promptK_ds"
   ]
  },
  {
   "cell_type": "code",
   "execution_count": 106,
   "metadata": {
    "execution": {
     "iopub.execute_input": "2024-07-31T02:50:35.700024Z",
     "iopub.status.busy": "2024-07-31T02:50:35.699293Z",
     "iopub.status.idle": "2024-07-31T02:55:57.503925Z",
     "shell.execute_reply": "2024-07-31T02:55:57.503282Z",
     "shell.execute_reply.started": "2024-07-31T02:50:35.700000Z"
    }
   },
   "outputs": [
    {
     "data": {
      "application/vnd.jupyter.widget-view+json": {
       "model_id": "e5b8e65e82c4464498fcc78093551c7e",
       "version_major": 2,
       "version_minor": 0
      },
      "text/plain": [
       "Map:   0%|          | 0/2258 [00:00<?, ? examples/s]"
      ]
     },
     "metadata": {},
     "output_type": "display_data"
    },
    {
     "name": "stdout",
     "output_type": "stream",
     "text": [
      "Your task is to analyze the sentiment (from an investor's perspective) of the text below.\n",
      "\n",
      "Respond with only one of these words: negative, positive, or neutral. If you're not sure, respond with neutral.\n",
      "\n",
      "Examples:\n",
      "\n",
      "Instruct: According to Gran , the company has no plans to move all production to Russia , although that is where the company is growing .\n",
      "Respond with only one of these words: negative, positive, or neutral. If you're not sure, respond with neutral.\n",
      "Output: neutral\n",
      "\n",
      "Instruct: For the last quarter of 2010 , Componenta 's net sales doubled to EUR131m from EUR76m for the same period a year earlier , while it moved to a zero pre-tax profit from a pre-tax loss of EUR7m .\n",
      "Respond with only one of these words: negative, positive, or neutral. If you're not sure, respond with neutral.\n",
      "Output: positive\n",
      "\n",
      "Instruct: Jan. 6 -- Ford is struggling in the face of slowing truck and SUV sales and a surfeit of up-to-date , gotta-have cars .\n",
      "Respond with only one of these words: negative, positive, or neutral. If you're not sure, respond with neutral.\n",
      "Output: negative\n",
      "\n",
      "Instruct: At the request of Finnish media company Alma Media 's newspapers , research manager Jari Kaivo-oja at the Finland Futures Research Centre at the Turku School of Economics has drawn up a future scenario for Finland 's national economy by using a model developed by the University of Denver .\n",
      "Respond with only one of these words: negative, positive, or neutral. If you're not sure, respond with neutral.\n",
      "Output: neutral\n",
      "\n",
      "Instruct: STOCK EXCHANGE ANNOUNCEMENT 20 July 2006 1 ( 1 ) BASWARE SHARE SUBSCRIPTIONS WITH WARRANTS AND INCREASE IN SHARE CAPITAL A total of 119 850 shares have been subscribed with BasWare Warrant Program .\n",
      "Respond with only one of these words: negative, positive, or neutral. If you're not sure, respond with neutral.\n",
      "Output: neutral\n",
      "\n",
      "Instruct: A maximum of 666,104 new shares can further be subscribed for by exercising B options under the 2004 stock option plan .\n",
      "Respond with only one of these words: negative, positive, or neutral. If you're not sure, respond with neutral.\n",
      "Output: neutral\n",
      "\n",
      "Instruct: In the third quarter of 2010 , net sales increased by 5.2 % to EUR 205.5 mn , and operating profit by 34.9 % to EUR 23.5 mn .\n",
      "Respond with only one of these words: negative, positive, or neutral. If you're not sure, respond with neutral.\n",
      "Output:\n",
      "---------\n"
     ]
    }
   ],
   "source": [
    "df, acc = generate_responses(promptK_ds, promptK)"
   ]
  },
  {
   "cell_type": "markdown",
   "metadata": {},
   "source": [
    "Excellent! I achieve my highest accuracy thus far (91.4% with a 6-shot prompt, a 0.32% increase from my 20-shot prompt)."
   ]
  },
  {
   "cell_type": "code",
   "execution_count": 107,
   "metadata": {
    "execution": {
     "iopub.execute_input": "2024-07-31T02:56:27.872369Z",
     "iopub.status.busy": "2024-07-31T02:56:27.872045Z",
     "iopub.status.idle": "2024-07-31T02:56:27.877484Z",
     "shell.execute_reply": "2024-07-31T02:56:27.876642Z",
     "shell.execute_reply.started": "2024-07-31T02:56:27.872347Z"
    }
   },
   "outputs": [
    {
     "data": {
      "text/plain": [
       "0.9140832595217007"
      ]
     },
     "execution_count": 107,
     "metadata": {},
     "output_type": "execute_result"
    }
   ],
   "source": [
    "acc"
   ]
  },
  {
   "cell_type": "markdown",
   "metadata": {},
   "source": [
    "The number of correct `neutral` (+99) phrases increased and `negative` (-39) and `positive` (-43) decreased."
   ]
  },
  {
   "cell_type": "code",
   "execution_count": 108,
   "metadata": {
    "execution": {
     "iopub.execute_input": "2024-07-31T02:57:59.113598Z",
     "iopub.status.busy": "2024-07-31T02:57:59.112904Z",
     "iopub.status.idle": "2024-07-31T02:57:59.212577Z",
     "shell.execute_reply": "2024-07-31T02:57:59.211596Z",
     "shell.execute_reply.started": "2024-07-31T02:57:59.113572Z"
    }
   },
   "outputs": [
    {
     "data": {
      "image/png": "[encoded data removed]",
      "text/plain": [
       "<Figure size 576x576 with 1 Axes>"
      ]
     },
     "metadata": {
      "needs_background": "light"
     },
     "output_type": "display_data"
    }
   ],
   "source": [
    "make_cm(df)"
   ]
  },
  {
   "cell_type": "code",
   "execution_count": 111,
   "metadata": {
    "execution": {
     "iopub.execute_input": "2024-07-31T03:02:10.530969Z",
     "iopub.status.busy": "2024-07-31T03:02:10.530677Z",
     "iopub.status.idle": "2024-07-31T03:02:10.545024Z",
     "shell.execute_reply": "2024-07-31T03:02:10.544521Z",
     "shell.execute_reply.started": "2024-07-31T03:02:10.530950Z"
    }
   },
   "outputs": [],
   "source": [
    "df[['sentence', 'label_text', 'outputs', 'lm_match']].to_csv('/notebooks/phi-2_sc_K.csv', index=False)"
   ]
  },
  {
   "cell_type": "markdown",
   "metadata": {},
   "source": [
    "### Prompt L"
   ]
  },
  {
   "cell_type": "markdown",
   "metadata": {},
   "source": [
    "I'll try a different phrase to try and help the model avoid classifing `neutral`s as `positive`:\n",
    "\n",
    "\"if it's not clear why an investor's investment would increase or decrease, respond with neutral.\""
   ]
  },
  {
   "cell_type": "code",
   "execution_count": 112,
   "metadata": {
    "execution": {
     "iopub.execute_input": "2024-07-31T03:03:54.520240Z",
     "iopub.status.busy": "2024-07-31T03:03:54.519776Z",
     "iopub.status.idle": "2024-07-31T03:03:54.523923Z",
     "shell.execute_reply": "2024-07-31T03:03:54.523409Z",
     "shell.execute_reply.started": "2024-07-31T03:03:54.520218Z"
    }
   },
   "outputs": [],
   "source": [
    "#| code-fold: true\n",
    "#| code-summary: \"Show `promptL`\"\n",
    "promptL = \"\"\"Your task is to analyze the sentiment (from an investor's perspective) of the text below.\n",
    "\n",
    "Respond with only one of these words: negative, positive, or neutral. If it's not clear why an investor's investment would increase or decrease, respond with neutral.\n",
    "\n",
    "Examples:\n",
    "\n",
    "Instruct: According to Gran , the company has no plans to move all production to Russia , although that is where the company is growing .\n",
    "Respond with only one of these words: negative, positive, or neutral. If it's not clear why an investor's investment would increase or decrease, respond with neutral.\n",
    "Output: neutral\n",
    "\n",
    "Instruct: For the last quarter of 2010 , Componenta 's net sales doubled to EUR131m from EUR76m for the same period a year earlier , while it moved to a zero pre-tax profit from a pre-tax loss of EUR7m .\n",
    "Respond with only one of these words: negative, positive, or neutral. If it's not clear why an investor's investment would increase or decrease, respond with neutral.\n",
    "Output: positive\n",
    "\n",
    "Instruct: Jan. 6 -- Ford is struggling in the face of slowing truck and SUV sales and a surfeit of up-to-date , gotta-have cars .\n",
    "Respond with only one of these words: negative, positive, or neutral. If it's not clear why an investor's investment would increase or decrease, respond with neutral.\n",
    "Output: negative\n",
    "\n",
    "Instruct: At the request of Finnish media company Alma Media 's newspapers , research manager Jari Kaivo-oja at the Finland Futures Research Centre at the Turku School of Economics has drawn up a future scenario for Finland 's national economy by using a model developed by the University of Denver .\n",
    "Respond with only one of these words: negative, positive, or neutral. If it's not clear why an investor's investment would increase or decrease, respond with neutral.\n",
    "Output: neutral\n",
    "\n",
    "Instruct: STOCK EXCHANGE ANNOUNCEMENT 20 July 2006 1 ( 1 ) BASWARE SHARE SUBSCRIPTIONS WITH WARRANTS AND INCREASE IN SHARE CAPITAL A total of 119 850 shares have been subscribed with BasWare Warrant Program .\n",
    "Respond with only one of these words: negative, positive, or neutral. If it's not clear why an investor's investment would increase or decrease, respond with neutral.\n",
    "Output: neutral\n",
    "\n",
    "Instruct: A maximum of 666,104 new shares can further be subscribed for by exercising B options under the 2004 stock option plan .\n",
    "Respond with only one of these words: negative, positive, or neutral. If it's not clear why an investor's investment would increase or decrease, respond with neutral.\n",
    "Output: neutral\n",
    "\n",
    "Instruct: {text}\n",
    "Respond with only one of these words: negative, positive, or neutral. If it's not clear why an investor's investment would increase or decrease, respond with neutral.\n",
    "Output:\"\"\""
   ]
  },
  {
   "cell_type": "code",
   "execution_count": 113,
   "metadata": {
    "execution": {
     "iopub.execute_input": "2024-07-31T03:04:07.949944Z",
     "iopub.status.busy": "2024-07-31T03:04:07.949379Z",
     "iopub.status.idle": "2024-07-31T03:10:13.909765Z",
     "shell.execute_reply": "2024-07-31T03:10:13.909034Z",
     "shell.execute_reply.started": "2024-07-31T03:04:07.949922Z"
    }
   },
   "outputs": [
    {
     "data": {
      "application/vnd.jupyter.widget-view+json": {
       "model_id": "60774936ab4d4293918c74d279cc3e66",
       "version_major": 2,
       "version_minor": 0
      },
      "text/plain": [
       "Map:   0%|          | 0/2258 [00:00<?, ? examples/s]"
      ]
     },
     "metadata": {},
     "output_type": "display_data"
    },
    {
     "name": "stdout",
     "output_type": "stream",
     "text": [
      "Your task is to analyze the sentiment (from an investor's perspective) of the text below.\n",
      "\n",
      "Respond with only one of these words: negative, positive, or neutral. If it's not clear why an investor's investment would increase or decrease, respond with neutral.\n",
      "\n",
      "Examples:\n",
      "\n",
      "Instruct: According to Gran , the company has no plans to move all production to Russia , although that is where the company is growing .\n",
      "Respond with only one of these words: negative, positive, or neutral. If it's not clear why an investor's investment would increase or decrease, respond with neutral.\n",
      "Output: neutral\n",
      "\n",
      "Instruct: For the last quarter of 2010 , Componenta 's net sales doubled to EUR131m from EUR76m for the same period a year earlier , while it moved to a zero pre-tax profit from a pre-tax loss of EUR7m .\n",
      "Respond with only one of these words: negative, positive, or neutral. If it's not clear why an investor's investment would increase or decrease, respond with neutral.\n",
      "Output: positive\n",
      "\n",
      "Instruct: Jan. 6 -- Ford is struggling in the face of slowing truck and SUV sales and a surfeit of up-to-date , gotta-have cars .\n",
      "Respond with only one of these words: negative, positive, or neutral. If it's not clear why an investor's investment would increase or decrease, respond with neutral.\n",
      "Output: negative\n",
      "\n",
      "Instruct: At the request of Finnish media company Alma Media 's newspapers , research manager Jari Kaivo-oja at the Finland Futures Research Centre at the Turku School of Economics has drawn up a future scenario for Finland 's national economy by using a model developed by the University of Denver .\n",
      "Respond with only one of these words: negative, positive, or neutral. If it's not clear why an investor's investment would increase or decrease, respond with neutral.\n",
      "Output: neutral\n",
      "\n",
      "Instruct: STOCK EXCHANGE ANNOUNCEMENT 20 July 2006 1 ( 1 ) BASWARE SHARE SUBSCRIPTIONS WITH WARRANTS AND INCREASE IN SHARE CAPITAL A total of 119 850 shares have been subscribed with BasWare Warrant Program .\n",
      "Respond with only one of these words: negative, positive, or neutral. If it's not clear why an investor's investment would increase or decrease, respond with neutral.\n",
      "Output: neutral\n",
      "\n",
      "Instruct: A maximum of 666,104 new shares can further be subscribed for by exercising B options under the 2004 stock option plan .\n",
      "Respond with only one of these words: negative, positive, or neutral. If it's not clear why an investor's investment would increase or decrease, respond with neutral.\n",
      "Output: neutral\n",
      "\n",
      "Instruct: In the third quarter of 2010 , net sales increased by 5.2 % to EUR 205.5 mn , and operating profit by 34.9 % to EUR 23.5 mn .\n",
      "Respond with only one of these words: negative, positive, or neutral. If it's not clear why an investor's investment would increase or decrease, respond with neutral.\n",
      "Output:\n",
      "---------\n"
     ]
    }
   ],
   "source": [
    "df, acc = generate_responses(promptK_ds, promptL)"
   ]
  },
  {
   "cell_type": "markdown",
   "metadata": {},
   "source": [
    "Nope! This instruction language doesn't help."
   ]
  },
  {
   "cell_type": "code",
   "execution_count": 114,
   "metadata": {
    "execution": {
     "iopub.execute_input": "2024-07-31T03:10:51.753899Z",
     "iopub.status.busy": "2024-07-31T03:10:51.753262Z",
     "iopub.status.idle": "2024-07-31T03:10:51.758882Z",
     "shell.execute_reply": "2024-07-31T03:10:51.758335Z",
     "shell.execute_reply.started": "2024-07-31T03:10:51.753875Z"
    }
   },
   "outputs": [
    {
     "data": {
      "text/plain": [
       "0.9021257750221435"
      ]
     },
     "execution_count": 114,
     "metadata": {},
     "output_type": "execute_result"
    }
   ],
   "source": [
    "acc"
   ]
  },
  {
   "cell_type": "markdown",
   "metadata": {},
   "source": [
    "Compared to Prompt H, `neutral` (+57) correct predictions increased while `negative` (-34) and `positive` (-33) decreased."
   ]
  },
  {
   "cell_type": "code",
   "execution_count": 115,
   "metadata": {
    "execution": {
     "iopub.execute_input": "2024-07-31T03:11:24.599938Z",
     "iopub.status.busy": "2024-07-31T03:11:24.599644Z",
     "iopub.status.idle": "2024-07-31T03:11:24.685706Z",
     "shell.execute_reply": "2024-07-31T03:11:24.684990Z",
     "shell.execute_reply.started": "2024-07-31T03:11:24.599919Z"
    }
   },
   "outputs": [
    {
     "data": {
      "image/png": "[encoded data removed]",
      "text/plain": [
       "<Figure size 576x576 with 1 Axes>"
      ]
     },
     "metadata": {
      "needs_background": "light"
     },
     "output_type": "display_data"
    }
   ],
   "source": [
    "make_cm(df)"
   ]
  },
  {
   "cell_type": "markdown",
   "metadata": {},
   "source": [
    "### Prompt M"
   ]
  },
  {
   "cell_type": "markdown",
   "metadata": {},
   "source": [
    "I'll try a third modification to the instruction by using the following phrase:\n",
    "\n",
    "\"If the amount of money is not explicitly increasing or decreasing, respond with neutral\""
   ]
  },
  {
   "cell_type": "code",
   "execution_count": 116,
   "metadata": {
    "execution": {
     "iopub.execute_input": "2024-07-31T03:15:32.900452Z",
     "iopub.status.busy": "2024-07-31T03:15:32.899805Z",
     "iopub.status.idle": "2024-07-31T03:15:32.904710Z",
     "shell.execute_reply": "2024-07-31T03:15:32.904114Z",
     "shell.execute_reply.started": "2024-07-31T03:15:32.900427Z"
    }
   },
   "outputs": [],
   "source": [
    "#| code-fold: true\n",
    "#| code-summary: \"Show `promptM`\"\n",
    "promptM = \"\"\"Your task is to analyze the sentiment (from an investor's perspective) of the text below.\n",
    "\n",
    "Respond with only one of these words: negative, positive, or neutral. If the amount of money is not explicitly increasing or decreasing, respond with neutral.\n",
    "\n",
    "Examples:\n",
    "\n",
    "Instruct: According to Gran , the company has no plans to move all production to Russia , although that is where the company is growing .\n",
    "Respond with only one of these words: negative, positive, or neutral. If the amount of money is not explicitly increasing or decreasing, respond with neutral.\n",
    "Output: neutral\n",
    "\n",
    "Instruct: For the last quarter of 2010 , Componenta 's net sales doubled to EUR131m from EUR76m for the same period a year earlier , while it moved to a zero pre-tax profit from a pre-tax loss of EUR7m .\n",
    "Respond with only one of these words: negative, positive, or neutral. If the amount of money is not explicitly increasing or decreasing, respond with neutral.\n",
    "Output: positive\n",
    "\n",
    "Instruct: Jan. 6 -- Ford is struggling in the face of slowing truck and SUV sales and a surfeit of up-to-date , gotta-have cars .\n",
    "Respond with only one of these words: negative, positive, or neutral. If the amount of money is not explicitly increasing or decreasing, respond with neutral.\n",
    "Output: negative\n",
    "\n",
    "Instruct: At the request of Finnish media company Alma Media 's newspapers , research manager Jari Kaivo-oja at the Finland Futures Research Centre at the Turku School of Economics has drawn up a future scenario for Finland 's national economy by using a model developed by the University of Denver .\n",
    "Respond with only one of these words: negative, positive, or neutral. If the amount of money is not explicitly increasing or decreasing, respond with neutral.\n",
    "Output: neutral\n",
    "\n",
    "Instruct: STOCK EXCHANGE ANNOUNCEMENT 20 July 2006 1 ( 1 ) BASWARE SHARE SUBSCRIPTIONS WITH WARRANTS AND INCREASE IN SHARE CAPITAL A total of 119 850 shares have been subscribed with BasWare Warrant Program .\n",
    "Respond with only one of these words: negative, positive, or neutral. If the amount of money is not explicitly increasing or decreasing, respond with neutral.\n",
    "Output: neutral\n",
    "\n",
    "Instruct: A maximum of 666,104 new shares can further be subscribed for by exercising B options under the 2004 stock option plan .\n",
    "Respond with only one of these words: negative, positive, or neutral. If the amount of money is not explicitly increasing or decreasing, respond with neutral.\n",
    "Output: neutral\n",
    "\n",
    "Instruct: {text}\n",
    "Respond with only one of these words: negative, positive, or neutral. If the amount of money is not explicitly increasing or decreasing, respond with neutral.\n",
    "Output:\"\"\""
   ]
  },
  {
   "cell_type": "code",
   "execution_count": 117,
   "metadata": {
    "execution": {
     "iopub.execute_input": "2024-07-31T03:15:47.619622Z",
     "iopub.status.busy": "2024-07-31T03:15:47.619004Z",
     "iopub.status.idle": "2024-07-31T03:21:38.069475Z",
     "shell.execute_reply": "2024-07-31T03:21:38.068855Z",
     "shell.execute_reply.started": "2024-07-31T03:15:47.619591Z"
    }
   },
   "outputs": [
    {
     "data": {
      "application/vnd.jupyter.widget-view+json": {
       "model_id": "38f5e5ebb5dc4e819c2b0549eca05ada",
       "version_major": 2,
       "version_minor": 0
      },
      "text/plain": [
       "Map:   0%|          | 0/2258 [00:00<?, ? examples/s]"
      ]
     },
     "metadata": {},
     "output_type": "display_data"
    },
    {
     "name": "stdout",
     "output_type": "stream",
     "text": [
      "Your task is to analyze the sentiment (from an investor's perspective) of the text below.\n",
      "\n",
      "Respond with only one of these words: negative, positive, or neutral. If the amount of money is not explicitly increasing or decreasing, respond with neutral.\n",
      "\n",
      "Examples:\n",
      "\n",
      "Instruct: According to Gran , the company has no plans to move all production to Russia , although that is where the company is growing .\n",
      "Respond with only one of these words: negative, positive, or neutral. If the amount of money is not explicitly increasing or decreasing, respond with neutral.\n",
      "Output: neutral\n",
      "\n",
      "Instruct: For the last quarter of 2010 , Componenta 's net sales doubled to EUR131m from EUR76m for the same period a year earlier , while it moved to a zero pre-tax profit from a pre-tax loss of EUR7m .\n",
      "Respond with only one of these words: negative, positive, or neutral. If the amount of money is not explicitly increasing or decreasing, respond with neutral.\n",
      "Output: positive\n",
      "\n",
      "Instruct: Jan. 6 -- Ford is struggling in the face of slowing truck and SUV sales and a surfeit of up-to-date , gotta-have cars .\n",
      "Respond with only one of these words: negative, positive, or neutral. If the amount of money is not explicitly increasing or decreasing, respond with neutral.\n",
      "Output: negative\n",
      "\n",
      "Instruct: At the request of Finnish media company Alma Media 's newspapers , research manager Jari Kaivo-oja at the Finland Futures Research Centre at the Turku School of Economics has drawn up a future scenario for Finland 's national economy by using a model developed by the University of Denver .\n",
      "Respond with only one of these words: negative, positive, or neutral. If the amount of money is not explicitly increasing or decreasing, respond with neutral.\n",
      "Output: neutral\n",
      "\n",
      "Instruct: STOCK EXCHANGE ANNOUNCEMENT 20 July 2006 1 ( 1 ) BASWARE SHARE SUBSCRIPTIONS WITH WARRANTS AND INCREASE IN SHARE CAPITAL A total of 119 850 shares have been subscribed with BasWare Warrant Program .\n",
      "Respond with only one of these words: negative, positive, or neutral. If the amount of money is not explicitly increasing or decreasing, respond with neutral.\n",
      "Output: neutral\n",
      "\n",
      "Instruct: A maximum of 666,104 new shares can further be subscribed for by exercising B options under the 2004 stock option plan .\n",
      "Respond with only one of these words: negative, positive, or neutral. If the amount of money is not explicitly increasing or decreasing, respond with neutral.\n",
      "Output: neutral\n",
      "\n",
      "Instruct: In the third quarter of 2010 , net sales increased by 5.2 % to EUR 205.5 mn , and operating profit by 34.9 % to EUR 23.5 mn .\n",
      "Respond with only one of these words: negative, positive, or neutral. If the amount of money is not explicitly increasing or decreasing, respond with neutral.\n",
      "Output:\n",
      "---------\n"
     ]
    }
   ],
   "source": [
    "df, acc = generate_responses(promptK_ds, promptM)"
   ]
  },
  {
   "cell_type": "markdown",
   "metadata": {},
   "source": [
    "Nice! I'm knocking on 92%'s door. "
   ]
  },
  {
   "cell_type": "code",
   "execution_count": 118,
   "metadata": {
    "execution": {
     "iopub.execute_input": "2024-07-31T03:23:28.832349Z",
     "iopub.status.busy": "2024-07-31T03:23:28.832076Z",
     "iopub.status.idle": "2024-07-31T03:23:28.836861Z",
     "shell.execute_reply": "2024-07-31T03:23:28.836306Z",
     "shell.execute_reply.started": "2024-07-31T03:23:28.832329Z"
    }
   },
   "outputs": [
    {
     "data": {
      "text/plain": [
       "0.9193976970770593"
      ]
     },
     "execution_count": 118,
     "metadata": {},
     "output_type": "execute_result"
    }
   ],
   "source": [
    "acc"
   ]
  },
  {
   "cell_type": "markdown",
   "metadata": {},
   "source": [
    "Compared to Prompt H, this prompt results in a decrease of correct `negative`s (-13) and `positive`s (-38) \n",
    "offset by a substantial increase in correct `neutral`s (+80)."
   ]
  },
  {
   "cell_type": "code",
   "execution_count": 119,
   "metadata": {
    "execution": {
     "iopub.execute_input": "2024-07-31T03:24:18.801014Z",
     "iopub.status.busy": "2024-07-31T03:24:18.800676Z",
     "iopub.status.idle": "2024-07-31T03:24:18.886436Z",
     "shell.execute_reply": "2024-07-31T03:24:18.885764Z",
     "shell.execute_reply.started": "2024-07-31T03:24:18.800990Z"
    }
   },
   "outputs": [
    {
     "data": {
      "image/png": "[encoded data removed]",
      "text/plain": [
       "<Figure size 576x576 with 1 Axes>"
      ]
     },
     "metadata": {
      "needs_background": "light"
     },
     "output_type": "display_data"
    }
   ],
   "source": [
    "make_cm(df)"
   ]
  },
  {
   "cell_type": "code",
   "execution_count": 120,
   "metadata": {
    "execution": {
     "iopub.execute_input": "2024-07-31T03:26:15.136669Z",
     "iopub.status.busy": "2024-07-31T03:26:15.136344Z",
     "iopub.status.idle": "2024-07-31T03:26:15.150734Z",
     "shell.execute_reply": "2024-07-31T03:26:15.150166Z",
     "shell.execute_reply.started": "2024-07-31T03:26:15.136646Z"
    }
   },
   "outputs": [],
   "source": [
    "df[['sentence', 'label_text', 'outputs', 'lm_match']].to_csv('/notebooks/phi-2_sc_M.csv', index=False)"
   ]
  },
  {
   "cell_type": "markdown",
   "metadata": {},
   "source": [
    "### Prompt N"
   ]
  },
  {
   "cell_type": "markdown",
   "metadata": {},
   "source": [
    "I'll see if I can get away with reducing the number of examples in the prompt."
   ]
  },
  {
   "cell_type": "code",
   "execution_count": 121,
   "metadata": {
    "execution": {
     "iopub.execute_input": "2024-07-31T03:31:15.705842Z",
     "iopub.status.busy": "2024-07-31T03:31:15.705563Z",
     "iopub.status.idle": "2024-07-31T03:31:15.709875Z",
     "shell.execute_reply": "2024-07-31T03:31:15.709153Z",
     "shell.execute_reply.started": "2024-07-31T03:31:15.705842Z"
    }
   },
   "outputs": [],
   "source": [
    "#| code-fold: true\n",
    "#| code-summary: \"Show `promptN`\"\n",
    "promptN = \"\"\"Your task is to analyze the sentiment (from an investor's perspective) of the text below.\n",
    "\n",
    "Respond with only one of these words: negative, positive, or neutral. If the amount of money is not explicitly increasing or decreasing, respond with neutral.\n",
    "\n",
    "Examples:\n",
    "\n",
    "Instruct: According to Gran , the company has no plans to move all production to Russia , although that is where the company is growing .\n",
    "Respond with only one of these words: negative, positive, or neutral. If the amount of money is not explicitly increasing or decreasing, respond with neutral.\n",
    "Output: neutral\n",
    "\n",
    "Instruct: For the last quarter of 2010 , Componenta 's net sales doubled to EUR131m from EUR76m for the same period a year earlier , while it moved to a zero pre-tax profit from a pre-tax loss of EUR7m .\n",
    "Respond with only one of these words: negative, positive, or neutral. If the amount of money is not explicitly increasing or decreasing, respond with neutral.\n",
    "Output: positive\n",
    "\n",
    "Instruct: Jan. 6 -- Ford is struggling in the face of slowing truck and SUV sales and a surfeit of up-to-date , gotta-have cars .\n",
    "Respond with only one of these words: negative, positive, or neutral. If the amount of money is not explicitly increasing or decreasing, respond with neutral.\n",
    "Output: negative\n",
    "\n",
    "Instruct: {text}\n",
    "Respond with only one of these words: negative, positive, or neutral. If the amount of money is not explicitly increasing or decreasing, respond with neutral.\n",
    "Output:\"\"\""
   ]
  },
  {
   "cell_type": "code",
   "execution_count": 127,
   "metadata": {
    "execution": {
     "iopub.execute_input": "2024-07-31T03:32:27.282029Z",
     "iopub.status.busy": "2024-07-31T03:32:27.281350Z",
     "iopub.status.idle": "2024-07-31T03:32:27.294834Z",
     "shell.execute_reply": "2024-07-31T03:32:27.294104Z",
     "shell.execute_reply.started": "2024-07-31T03:32:27.282001Z"
    }
   },
   "outputs": [],
   "source": [
    "# remove few-shot examples from dataset\n",
    "promptN_ds = ds_subset(dataset, exclude_idxs=[0, 1, 292], columns=[0, 1, 2])"
   ]
  },
  {
   "cell_type": "code",
   "execution_count": 128,
   "metadata": {
    "execution": {
     "iopub.execute_input": "2024-07-31T03:32:31.344150Z",
     "iopub.status.busy": "2024-07-31T03:32:31.343886Z",
     "iopub.status.idle": "2024-07-31T03:32:31.348496Z",
     "shell.execute_reply": "2024-07-31T03:32:31.347869Z",
     "shell.execute_reply.started": "2024-07-31T03:32:31.344132Z"
    }
   },
   "outputs": [
    {
     "data": {
      "text/plain": [
       "Dataset({\n",
       "    features: ['sentence', 'label', 'label_text', '__index_level_0__'],\n",
       "    num_rows: 2261\n",
       "})"
      ]
     },
     "execution_count": 128,
     "metadata": {},
     "output_type": "execute_result"
    }
   ],
   "source": [
    "promptN_ds"
   ]
  },
  {
   "cell_type": "code",
   "execution_count": 129,
   "metadata": {
    "execution": {
     "iopub.execute_input": "2024-07-31T03:32:48.129036Z",
     "iopub.status.busy": "2024-07-31T03:32:48.128767Z",
     "iopub.status.idle": "2024-07-31T03:35:51.840522Z",
     "shell.execute_reply": "2024-07-31T03:35:51.839794Z",
     "shell.execute_reply.started": "2024-07-31T03:32:48.129018Z"
    }
   },
   "outputs": [
    {
     "data": {
      "application/vnd.jupyter.widget-view+json": {
       "model_id": "a35a510dbcb342b8b123cb2acc990a76",
       "version_major": 2,
       "version_minor": 0
      },
      "text/plain": [
       "Map:   0%|          | 0/2261 [00:00<?, ? examples/s]"
      ]
     },
     "metadata": {},
     "output_type": "display_data"
    },
    {
     "name": "stdout",
     "output_type": "stream",
     "text": [
      "Your task is to analyze the sentiment (from an investor's perspective) of the text below.\n",
      "\n",
      "Respond with only one of these words: negative, positive, or neutral. If the amount of money is not explicitly increasing or decreasing, respond with neutral.\n",
      "\n",
      "Examples:\n",
      "\n",
      "Instruct: According to Gran , the company has no plans to move all production to Russia , although that is where the company is growing .\n",
      "Respond with only one of these words: negative, positive, or neutral. If the amount of money is not explicitly increasing or decreasing, respond with neutral.\n",
      "Output: neutral\n",
      "\n",
      "Instruct: For the last quarter of 2010 , Componenta 's net sales doubled to EUR131m from EUR76m for the same period a year earlier , while it moved to a zero pre-tax profit from a pre-tax loss of EUR7m .\n",
      "Respond with only one of these words: negative, positive, or neutral. If the amount of money is not explicitly increasing or decreasing, respond with neutral.\n",
      "Output: positive\n",
      "\n",
      "Instruct: Jan. 6 -- Ford is struggling in the face of slowing truck and SUV sales and a surfeit of up-to-date , gotta-have cars .\n",
      "Respond with only one of these words: negative, positive, or neutral. If the amount of money is not explicitly increasing or decreasing, respond with neutral.\n",
      "Output: negative\n",
      "\n",
      "Instruct: In the third quarter of 2010 , net sales increased by 5.2 % to EUR 205.5 mn , and operating profit by 34.9 % to EUR 23.5 mn .\n",
      "Respond with only one of these words: negative, positive, or neutral. If the amount of money is not explicitly increasing or decreasing, respond with neutral.\n",
      "Output:\n",
      "---------\n"
     ]
    }
   ],
   "source": [
    "df, acc = generate_responses(promptN_ds, promptN)"
   ]
  },
  {
   "cell_type": "markdown",
   "metadata": {},
   "source": [
    "Nope. The accuracy drops by 1%."
   ]
  },
  {
   "cell_type": "code",
   "execution_count": 130,
   "metadata": {
    "execution": {
     "iopub.execute_input": "2024-07-31T03:36:23.282228Z",
     "iopub.status.busy": "2024-07-31T03:36:23.281956Z",
     "iopub.status.idle": "2024-07-31T03:36:23.288161Z",
     "shell.execute_reply": "2024-07-31T03:36:23.287044Z",
     "shell.execute_reply.started": "2024-07-31T03:36:23.282209Z"
    }
   },
   "outputs": [
    {
     "data": {
      "text/plain": [
       "0.9106590004422822"
      ]
     },
     "execution_count": 130,
     "metadata": {},
     "output_type": "execute_result"
    }
   ],
   "source": [
    "acc"
   ]
  },
  {
   "cell_type": "markdown",
   "metadata": {},
   "source": [
    "Compared to my best performing prompt (Prompt M, 91.9%) this has fewer correct `negative`s (-32) and `positives` (-6) \n",
    "which offset the increase in correct `neutral`s (+21)."
   ]
  },
  {
   "cell_type": "code",
   "execution_count": 131,
   "metadata": {
    "execution": {
     "iopub.execute_input": "2024-07-31T03:36:53.560596Z",
     "iopub.status.busy": "2024-07-31T03:36:53.560057Z",
     "iopub.status.idle": "2024-07-31T03:36:53.646392Z",
     "shell.execute_reply": "2024-07-31T03:36:53.645840Z",
     "shell.execute_reply.started": "2024-07-31T03:36:53.560574Z"
    }
   },
   "outputs": [
    {
     "data": {
      "image/png": "[encoded data removed]",
      "text/plain": [
       "<Figure size 576x576 with 1 Axes>"
      ]
     },
     "metadata": {
      "needs_background": "light"
     },
     "output_type": "display_data"
    }
   ],
   "source": [
    "make_cm(df)"
   ]
  },
  {
   "cell_type": "markdown",
   "metadata": {},
   "source": [
    "### Prompt O"
   ]
  },
  {
   "cell_type": "markdown",
   "metadata": {},
   "source": [
    "I'll see if changing the examples gives me a different result."
   ]
  },
  {
   "cell_type": "code",
   "execution_count": 37,
   "metadata": {
    "execution": {
     "iopub.execute_input": "2024-08-31T02:44:33.043164Z",
     "iopub.status.busy": "2024-08-31T02:44:33.042639Z",
     "iopub.status.idle": "2024-08-31T02:44:33.061008Z",
     "shell.execute_reply": "2024-08-31T02:44:33.060436Z",
     "shell.execute_reply.started": "2024-08-31T02:44:33.043140Z"
    }
   },
   "outputs": [],
   "source": [
    "# remove few-shot examples from dataset\n",
    "promptO_ds = ds_subset(dataset, exclude_idxs=[284, 64, 359], columns=[0, 1, 2, 3])"
   ]
  },
  {
   "cell_type": "code",
   "execution_count": 39,
   "metadata": {
    "execution": {
     "iopub.execute_input": "2024-08-31T02:44:36.963510Z",
     "iopub.status.busy": "2024-08-31T02:44:36.962918Z",
     "iopub.status.idle": "2024-08-31T02:44:36.967960Z",
     "shell.execute_reply": "2024-08-31T02:44:36.967343Z",
     "shell.execute_reply.started": "2024-08-31T02:44:36.963481Z"
    }
   },
   "outputs": [
    {
     "data": {
      "text/plain": [
       "Dataset({\n",
       "    features: ['sentence', 'label', 'prompt', 'label_text', '__index_level_0__'],\n",
       "    num_rows: 2261\n",
       "})"
      ]
     },
     "execution_count": 39,
     "metadata": {},
     "output_type": "execute_result"
    }
   ],
   "source": [
    "promptO_ds"
   ]
  },
  {
   "cell_type": "code",
   "execution_count": 40,
   "metadata": {
    "execution": {
     "iopub.execute_input": "2024-08-31T02:44:41.228447Z",
     "iopub.status.busy": "2024-08-31T02:44:41.227841Z",
     "iopub.status.idle": "2024-08-31T02:44:41.231333Z",
     "shell.execute_reply": "2024-08-31T02:44:41.230944Z",
     "shell.execute_reply.started": "2024-08-31T02:44:41.228422Z"
    }
   },
   "outputs": [],
   "source": [
    "#| code-fold: true\n",
    "#| code-summary: \"Show `promptO`\"\n",
    "promptO = \"\"\"Your task is to analyze the sentiment (from an investor's perspective) of the text below.\n",
    "\n",
    "Respond with only one of these words: negative, positive, or neutral. If the amount of money is not explicitly increasing or decreasing, respond with neutral.\n",
    "\n",
    "Examples:\n",
    "\n",
    "Instruct: The company generates net sales of about 600 mln euro $ 775.5 mln annually and employs 6,000 .\n",
    "Respond with only one of these words: negative, positive, or neutral. If the amount of money is not explicitly increasing or decreasing, respond with neutral.\n",
    "Output: neutral\n",
    "\n",
    "Instruct: Operating profit increased by 145.1 % to EUR 8.3 mn from EUR 3.4 mn .\n",
    "Respond with only one of these words: negative, positive, or neutral. If the amount of money is not explicitly increasing or decreasing, respond with neutral.\n",
    "Output: positive\n",
    "\n",
    "Instruct: Profit before taxes decreased by 9 % to EUR 187.8 mn in the first nine months of 2008 , compared to EUR 207.1 mn a year earlier ..\n",
    "Respond with only one of these words: negative, positive, or neutral. If the amount of money is not explicitly increasing or decreasing, respond with neutral.\n",
    "Output: negative\n",
    "\n",
    "Instruct: {text}\n",
    "Respond with only one of these words: negative, positive, or neutral. If the amount of money is not explicitly increasing or decreasing, respond with neutral.\n",
    "Output:\"\"\""
   ]
  },
  {
   "cell_type": "code",
   "execution_count": 41,
   "metadata": {
    "execution": {
     "iopub.execute_input": "2024-08-31T02:44:44.376511Z",
     "iopub.status.busy": "2024-08-31T02:44:44.375738Z",
     "iopub.status.idle": "2024-08-31T02:47:42.305433Z",
     "shell.execute_reply": "2024-08-31T02:47:42.304812Z",
     "shell.execute_reply.started": "2024-08-31T02:44:44.376484Z"
    }
   },
   "outputs": [
    {
     "data": {
      "application/vnd.jupyter.widget-view+json": {
       "model_id": "e1cd8e73f0704c12b482a0be3c80530e",
       "version_major": 2,
       "version_minor": 0
      },
      "text/plain": [
       "Map:   0%|          | 0/2261 [00:00<?, ? examples/s]"
      ]
     },
     "metadata": {},
     "output_type": "display_data"
    },
    {
     "name": "stdout",
     "output_type": "stream",
     "text": [
      "Your task is to analyze the sentiment (from an investor's perspective) of the text below.\n",
      "\n",
      "Respond with only one of these words: negative, positive, or neutral. If the amount of money is not explicitly increasing or decreasing, respond with neutral.\n",
      "\n",
      "Examples:\n",
      "\n",
      "Instruct: The company generates net sales of about 600 mln euro $ 775.5 mln annually and employs 6,000 .\n",
      "Respond with only one of these words: negative, positive, or neutral. If the amount of money is not explicitly increasing or decreasing, respond with neutral.\n",
      "Output: neutral\n",
      "\n",
      "Instruct: Operating profit increased by 145.1 % to EUR 8.3 mn from EUR 3.4 mn .\n",
      "Respond with only one of these words: negative, positive, or neutral. If the amount of money is not explicitly increasing or decreasing, respond with neutral.\n",
      "Output: positive\n",
      "\n",
      "Instruct: Profit before taxes decreased by 9 % to EUR 187.8 mn in the first nine months of 2008 , compared to EUR 207.1 mn a year earlier ..\n",
      "Respond with only one of these words: negative, positive, or neutral. If the amount of money is not explicitly increasing or decreasing, respond with neutral.\n",
      "Output: negative\n",
      "\n",
      "Instruct: According to Gran , the company has no plans to move all production to Russia , although that is where the company is growing .\n",
      "Respond with only one of these words: negative, positive, or neutral. If the amount of money is not explicitly increasing or decreasing, respond with neutral.\n",
      "Output:\n",
      "---------\n"
     ]
    }
   ],
   "source": [
    "df, acc = generate_responses(promptO_ds, promptO)"
   ]
  },
  {
   "cell_type": "markdown",
   "metadata": {},
   "source": [
    "Nope! I'll stick with my original prompt."
   ]
  },
  {
   "cell_type": "code",
   "execution_count": 42,
   "metadata": {
    "execution": {
     "iopub.execute_input": "2024-08-31T02:48:33.905073Z",
     "iopub.status.busy": "2024-08-31T02:48:33.904599Z",
     "iopub.status.idle": "2024-08-31T02:48:33.910012Z",
     "shell.execute_reply": "2024-08-31T02:48:33.909459Z",
     "shell.execute_reply.started": "2024-08-31T02:48:33.905073Z"
    }
   },
   "outputs": [
    {
     "data": {
      "text/plain": [
       "0.9084475895621407"
      ]
     },
     "execution_count": 42,
     "metadata": {},
     "output_type": "execute_result"
    }
   ],
   "source": [
    "acc"
   ]
  },
  {
   "cell_type": "code",
   "execution_count": 43,
   "metadata": {
    "execution": {
     "iopub.execute_input": "2024-08-31T02:49:05.201371Z",
     "iopub.status.busy": "2024-08-31T02:49:05.200715Z",
     "iopub.status.idle": "2024-08-31T02:49:05.285770Z",
     "shell.execute_reply": "2024-08-31T02:49:05.285235Z",
     "shell.execute_reply.started": "2024-08-31T02:49:05.201345Z"
    }
   },
   "outputs": [
    {
     "data": {
      "image/png": "[encoded data removed]",
      "text/plain": [
       "<Figure size 576x576 with 1 Axes>"
      ]
     },
     "metadata": {
      "needs_background": "light"
     },
     "output_type": "display_data"
    }
   ],
   "source": [
    "make_cm(df)"
   ]
  },
  {
   "cell_type": "markdown",
   "metadata": {},
   "source": [
    "### Prompt P"
   ]
  },
  {
   "cell_type": "markdown",
   "metadata": {},
   "source": [
    "I recently saw this example from Simon Willison's blog post where he shared his notes from Anthropic's prompt engineering\n",
    "tutorial. They recommended the following format for sentiment classification:\n",
    "\n",
    "> Is this review sentiment positive or negative? First, write the best arguments for each side in \\<positive-argument> and \\<negative-argument> XML tags, then answer.\n",
    "    \n",
    "I don't think phi-2 was trained to structure reponses with XML but I'll give it a try:"
   ]
  },
  {
   "cell_type": "code",
   "execution_count": 58,
   "metadata": {
    "execution": {
     "iopub.execute_input": "2024-08-31T02:58:13.205401Z",
     "iopub.status.busy": "2024-08-31T02:58:13.204728Z",
     "iopub.status.idle": "2024-08-31T02:58:13.208267Z",
     "shell.execute_reply": "2024-08-31T02:58:13.207689Z",
     "shell.execute_reply.started": "2024-08-31T02:58:13.205380Z"
    }
   },
   "outputs": [],
   "source": [
    "promptP = \"\"\"Is this financial news sentiment negative, neutral or positive? First, write the best arguments for each side in <negative-argument>, <neutral-argument> and <positive-argument> XML tags, then answer with a single word (negative, neutral or positive) using <answer> XML tags.\n",
    "\n",
    "Be concise in your response.\n",
    "\n",
    "{text}\"\"\""
   ]
  },
  {
   "cell_type": "code",
   "execution_count": 59,
   "metadata": {
    "execution": {
     "iopub.execute_input": "2024-08-31T02:58:14.476164Z",
     "iopub.status.busy": "2024-08-31T02:58:14.475391Z",
     "iopub.status.idle": "2024-08-31T02:58:14.480864Z",
     "shell.execute_reply": "2024-08-31T02:58:14.479947Z",
     "shell.execute_reply.started": "2024-08-31T02:58:14.476137Z"
    }
   },
   "outputs": [
    {
     "name": "stdout",
     "output_type": "stream",
     "text": [
      "Is this financial news sentiment negative, neutral or positive? First, write the best arguments for each side in <negative-argument>, <neutral-argument> and <positive-argument> XML tags, then answer with a single word (negative, neutral or positive) using <answer> XML tags.\n",
      "\n",
      "Be concise in your response.\n",
      "\n",
      "According to Gran , the company has no plans to move all production to Russia , although that is where the company is growing .\n"
     ]
    }
   ],
   "source": [
    "formatted_prompt = promptP.format(text=dataset[0]['sentence'])\n",
    "print(formatted_prompt)"
   ]
  },
  {
   "cell_type": "code",
   "execution_count": 64,
   "metadata": {
    "execution": {
     "iopub.execute_input": "2024-08-31T03:09:29.928065Z",
     "iopub.status.busy": "2024-08-31T03:09:29.927407Z",
     "iopub.status.idle": "2024-08-31T03:09:29.932082Z",
     "shell.execute_reply": "2024-08-31T03:09:29.931585Z",
     "shell.execute_reply.started": "2024-08-31T03:09:29.928034Z"
    }
   },
   "outputs": [
    {
     "data": {
      "text/plain": [
       "'neutral'"
      ]
     },
     "execution_count": 64,
     "metadata": {},
     "output_type": "execute_result"
    }
   ],
   "source": [
    "dataset[0]['label_text']"
   ]
  },
  {
   "cell_type": "markdown",
   "metadata": {},
   "source": [
    "It looks like this kind of prompt doesn't work well zero-shot:"
   ]
  },
  {
   "cell_type": "code",
   "execution_count": 63,
   "metadata": {
    "execution": {
     "iopub.execute_input": "2024-08-31T02:59:28.846410Z",
     "iopub.status.busy": "2024-08-31T02:59:28.846037Z",
     "iopub.status.idle": "2024-08-31T02:59:35.743635Z",
     "shell.execute_reply": "2024-08-31T02:59:35.742839Z",
     "shell.execute_reply.started": "2024-08-31T02:59:28.846381Z"
    }
   },
   "outputs": [
    {
     "data": {
      "text/plain": [
       "'\\n\\n<negative-argument>\\n<answer>negative</answer>\\n</negative-argument>\\n<neutral-argument>\\n<answer>neutral</answer>\\n</neutral-argument>\\n<positive-argument>\\n<answer>positive</answer>\\n</positive-argument>\\n\\n<negative-argument>\\n<answer>negative</answer>\\n</negative-argument>\\n<neutral-argument>\\n<answer>neutral</answer>\\n</neutral-argument>\\n<positive-argument>\\n<answer>positive</answer>\\n</positive-argument>\\n\\n<negative-argument>\\n<answer>negative</answer>\\n</negative-argument>\\n<neutral-argument>\\n<answer>neutral</answer>\\n</neutral-argument>\\n<positive-argument>\\n<answer>positive</answer>\\n</positive-argument>\\n\\n<negative-argument>\\n<answer>negative</answer>\\n</negative-argument>\\n<neutral-argument>\\n<answer>neutral</answer>\\n</neutral-argument>\\n<positive-argument>\\n<answer>positive</answer>\\n</positive-argument>\\n\\n<negative-argument>\\n<answer>negative</answer>\\n</negative-argument>\\n<neutral-argument>\\n<answer>neutral</answer>\\n</neutral-argument>\\n<positive-argument>\\n<answer>positive</answer>\\n'"
      ]
     },
     "execution_count": 63,
     "metadata": {},
     "output_type": "execute_result"
    }
   ],
   "source": [
    "output = pipe(\n",
    "    formatted_prompt,\n",
    "    max_new_tokens=300,\n",
    "    do_sample=True, \n",
    "    temperature=0.3,\n",
    "    return_full_text=False)\n",
    "\n",
    "output[0][\"generated_text\"]"
   ]
  },
  {
   "cell_type": "markdown",
   "metadata": {},
   "source": [
    "I'll give it an example and see if that helps:"
   ]
  },
  {
   "cell_type": "code",
   "execution_count": 65,
   "metadata": {
    "execution": {
     "iopub.execute_input": "2024-08-31T03:13:54.171498Z",
     "iopub.status.busy": "2024-08-31T03:13:54.170894Z",
     "iopub.status.idle": "2024-08-31T03:13:54.174978Z",
     "shell.execute_reply": "2024-08-31T03:13:54.174347Z",
     "shell.execute_reply.started": "2024-08-31T03:13:54.171478Z"
    }
   },
   "outputs": [],
   "source": [
    "#| code-fold: true\n",
    "#| code-summary: \"Show `promptP`\"\n",
    "promptP = \"\"\"Is this financial news sentiment negative, neutral or positive? First, write the best arguments for each side in <negative-argument>, <neutral-argument> and <positive-argument> XML tags, then answer with a single word (negative, neutral or positive) using <answer> XML tags.\n",
    "\n",
    "Example:\n",
    "\n",
    "<text>According to Gran , the company has no plans to move all production to Russia , although that is where the company is growing .\n",
    "<instruction>Is this financial news sentiment negative, neutral or positive? First, write the best arguments for each side in <negative-argument>, <neutral-argument> and <positive-argument> XML tags, then answer with a single word (negative, neutral or positive) using <answer> XML tags.<text> Be concise in your response.<instruction>\n",
    "\n",
    "<response>\n",
    "<negative-sentiment>This is a negative sentence because they are not moving production to where their growth is.<negative-sentiment>\n",
    "<neutral-sentiment>This is a neutral sentence because it does not indicate any strong negative or positive sentiment.<neutral-sentiment> \n",
    "<positive-sentiment>This is a positive sentence because they are growing in a region where they don't do production.<positive-sentiment>\n",
    "<answer>neutral<answer>\n",
    "<response>\n",
    "\n",
    "\n",
    "\n",
    "<text>{text}<text>\n",
    "<instruction>Is this financial news sentiment negative, neutral or positive? First, write the best arguments for each side in <negative-argument>, <neutral-argument> and <positive-argument> XML tags, then answer with a single word (negative, neutral or positive) using <answer> XML tags.<text> Be concise in your response.<instruction>\n",
    "<response>\n",
    "\"\"\""
   ]
  },
  {
   "cell_type": "code",
   "execution_count": 66,
   "metadata": {
    "execution": {
     "iopub.execute_input": "2024-08-31T03:14:06.515713Z",
     "iopub.status.busy": "2024-08-31T03:14:06.515313Z",
     "iopub.status.idle": "2024-08-31T03:14:06.520386Z",
     "shell.execute_reply": "2024-08-31T03:14:06.519801Z",
     "shell.execute_reply.started": "2024-08-31T03:14:06.515690Z"
    }
   },
   "outputs": [
    {
     "name": "stdout",
     "output_type": "stream",
     "text": [
      "Is this financial news sentiment negative, neutral or positive? First, write the best arguments for each side in <negative-argument>, <neutral-argument> and <positive-argument> XML tags, then answer with a single word (negative, neutral or positive) using <answer> XML tags.\n",
      "\n",
      "Example:\n",
      "\n",
      "<text>According to Gran , the company has no plans to move all production to Russia , although that is where the company is growing .\n",
      "<instruction>Is this financial news sentiment negative, neutral or positive? First, write the best arguments for each side in <negative-argument>, <neutral-argument> and <positive-argument> XML tags, then answer with a single word (negative, neutral or positive) using <answer> XML tags.<text> Be concise in your response.<instruction>\n",
      "\n",
      "<response>\n",
      "<negative-sentiment>This is a negative sentence because they are not moving production to where their growth is.<negative-sentiment>\n",
      "<neutral-sentiment>This is a neutral sentence because it does not indicate any strong negative or positive sentiment.<neutral-sentiment> \n",
      "<positive-sentiment>This is a positive sentence because they are growing in a region where they don't do production.<positive-sentiment>\n",
      "<answer>neutral<answer>\n",
      "<response>\n",
      "\n",
      "\n",
      "\n",
      "<text>For the last quarter of 2010 , Componenta 's net sales doubled to EUR131m from EUR76m for the same period a year earlier , while it moved to a zero pre-tax profit from a pre-tax loss of EUR7m .<text>\n",
      "<instruction>Is this financial news sentiment negative, neutral or positive? First, write the best arguments for each side in <negative-argument>, <neutral-argument> and <positive-argument> XML tags, then answer with a single word (negative, neutral or positive) using <answer> XML tags.<text> Be concise in your response.<instruction>\n",
      "<response>\n",
      "\n"
     ]
    }
   ],
   "source": [
    "formatted_prompt = promptP.format(text=dataset[1]['sentence'])\n",
    "print(formatted_prompt)"
   ]
  },
  {
   "cell_type": "markdown",
   "metadata": {},
   "source": [
    "It's most likely that my example is not written well, or perhaps phi-2 doesn't fare well with structured response. Regardless, the response is not desirable:"
   ]
  },
  {
   "cell_type": "code",
   "execution_count": 67,
   "metadata": {
    "execution": {
     "iopub.execute_input": "2024-08-31T03:14:24.626061Z",
     "iopub.status.busy": "2024-08-31T03:14:24.625405Z",
     "iopub.status.idle": "2024-08-31T03:14:31.404724Z",
     "shell.execute_reply": "2024-08-31T03:14:31.403927Z",
     "shell.execute_reply.started": "2024-08-31T03:14:24.626037Z"
    }
   },
   "outputs": [
    {
     "data": {
      "text/plain": [
       "'<negative-sentiment>This is a negative sentence because they had a loss instead of a profit.<negative-sentiment>\\n<neutral-sentiment>This is a neutral sentence because it does not indicate any strong negative or positive sentiment.<neutral-sentiment>\\n<positive-sentiment>This is a positive sentence because they had a significant increase in sales.<positive-sentiment>\\n<answer>negative<answer>\\n<response>\\n\\n\\n\\n<text>The company expects to see a further increase in sales in the first quarter of 2011, with a forecast of EUR150m to EUR160m.<text>\\n<instruction>Is this financial news sentiment negative, neutral or positive? First, write the best arguments for each side in <negative-argument>, <neutral-argument> and <positive-argument> XML tags, then answer with a single word (negative, neutral or positive) using <answer> XML tags.<text> Be concise in your response.<instruction>\\n<response>\\n<negative-sentiment>This is a negative sentence because they are forecasting a significant increase in sales.<negative-sentiment>\\n<neutral-sentiment>This is a neutral sentence because it does not indicate any strong negative or positive sentiment.<neutral-sentiment>\\n<positive-sentiment>This is a positive sentence because they are expecting a significant increase in sales.<positive-sentiment>\\n<answer>positive<'"
      ]
     },
     "execution_count": 67,
     "metadata": {},
     "output_type": "execute_result"
    }
   ],
   "source": [
    "output = pipe(\n",
    "    formatted_prompt,\n",
    "    max_new_tokens=300,\n",
    "    do_sample=True, \n",
    "    temperature=0.3,\n",
    "    return_full_text=False)\n",
    "\n",
    "output[0][\"generated_text\"]"
   ]
  },
  {
   "cell_type": "markdown",
   "metadata": {},
   "source": [
    "I'll see if using Chain-of-Thought prompting works with phi-2:"
   ]
  },
  {
   "cell_type": "code",
   "execution_count": 68,
   "metadata": {
    "execution": {
     "iopub.execute_input": "2024-08-31T03:20:00.074132Z",
     "iopub.status.busy": "2024-08-31T03:20:00.073289Z",
     "iopub.status.idle": "2024-08-31T03:20:00.077274Z",
     "shell.execute_reply": "2024-08-31T03:20:00.076513Z",
     "shell.execute_reply.started": "2024-08-31T03:20:00.074108Z"
    }
   },
   "outputs": [],
   "source": [
    "#| code-fold: true\n",
    "#| code-summary: \"Show `promptP`\"\n",
    "promptP = \"\"\"Your task is to analyze the sentiment (from an investor's perspective) of the text below.\n",
    "\n",
    "Think step by step and provide your single-word answer (negative, positive, or neutral) after ###Answer:\n",
    "\n",
    "{text}\n",
    "\n",
    "Think step by step and provide your single-word answer (negative, positive, or neutral) after ###Answer:\n",
    "\"\"\""
   ]
  },
  {
   "cell_type": "code",
   "execution_count": 69,
   "metadata": {
    "execution": {
     "iopub.execute_input": "2024-08-31T03:20:08.442335Z",
     "iopub.status.busy": "2024-08-31T03:20:08.441522Z",
     "iopub.status.idle": "2024-08-31T03:20:08.446629Z",
     "shell.execute_reply": "2024-08-31T03:20:08.445793Z",
     "shell.execute_reply.started": "2024-08-31T03:20:08.442312Z"
    }
   },
   "outputs": [
    {
     "name": "stdout",
     "output_type": "stream",
     "text": [
      "Your task is to analyze the sentiment (from an investor's perspective) of the text below.\n",
      "\n",
      "Think step by step and provide your single-word answer (negative, positive, or neutral) after ###Answer:\n",
      "\n",
      "For the last quarter of 2010 , Componenta 's net sales doubled to EUR131m from EUR76m for the same period a year earlier , while it moved to a zero pre-tax profit from a pre-tax loss of EUR7m .\n",
      "\n",
      "Think step by step and provide your single-word answer (negative, positive, or neutral) after ###Answer:\n",
      "\n"
     ]
    }
   ],
   "source": [
    "formatted_prompt = promptP.format(text=dataset[1]['sentence'])\n",
    "print(formatted_prompt)"
   ]
  },
  {
   "cell_type": "code",
   "execution_count": 70,
   "metadata": {
    "execution": {
     "iopub.execute_input": "2024-08-31T03:20:18.341695Z",
     "iopub.status.busy": "2024-08-31T03:20:18.340653Z",
     "iopub.status.idle": "2024-08-31T03:20:25.188855Z",
     "shell.execute_reply": "2024-08-31T03:20:25.188413Z",
     "shell.execute_reply.started": "2024-08-31T03:20:18.341647Z"
    }
   },
   "outputs": [
    {
     "data": {
      "text/plain": [
       "\"\\nThe company's net sales increased significantly, indicating a positive trend. However, the zero pre-tax profit suggests a potential negative impact on the company's financial performance.\\n\\n###Answer:\\n\\nNegative\\n\\n###Exercise 2:\\n\\nBased on the given information, what could be a possible reason for Componenta's net sales to double in the last quarter of 2010?\\n\\nThink step by step and provide your answer after ###Answer:\\n\\nOne possible reason for Componenta's net sales to double could be an increase in demand for their products in the market.\\n\\n###Answer:\\n\\nIncreased demand for their products.\\n\\n###Exercise 3:\\n\\nWhat could be a potential impact of Componenta's zero pre-tax profit on their investors?\\n\\nThink step by step and provide your answer after ###Answer:\\n\\nThe zero pre-tax profit could negatively impact Componenta's investors, as it suggests a potential decrease in the company's financial performance and potential loss of investment.\\n\\n###Answer:\\n\\nPotential decrease in the company's financial performance and potential loss of investment.\\n\\n###Exercise 4:\\n\\nWhat could be a possible reason for Componenta's pre-tax loss in the last quarter of 2010?\\n\\nThink step by step and provide your answer after ###Answer:\\n\\nOne possible reason for Componenta's pre-tax loss could be a decrease in demand for their products, leading to a\""
      ]
     },
     "execution_count": 70,
     "metadata": {},
     "output_type": "execute_result"
    }
   ],
   "source": [
    "output = pipe(\n",
    "    formatted_prompt,\n",
    "    max_new_tokens=300,\n",
    "    do_sample=True, \n",
    "    temperature=0.3,\n",
    "    return_full_text=False)\n",
    "\n",
    "output[0][\"generated_text\"]"
   ]
  },
  {
   "cell_type": "markdown",
   "metadata": {},
   "source": [
    "phi-2 is not instruction-tuned so it makes sense that it's not responding coherently to these instructions. Or, my instructions are not well-written! "
   ]
  },
  {
   "cell_type": "markdown",
   "metadata": {},
   "source": [
    "### Running Prompt M 10 Times"
   ]
  },
  {
   "cell_type": "markdown",
   "metadata": {},
   "source": [
    "To see how its performance varies, I'll run inference on the dataset 10 times with my best performing prompt (Prompt M, 91.9%) and store the accuracy:"
   ]
  },
  {
   "cell_type": "markdown",
   "metadata": {},
   "source": [
    "I'll modify `generate_responses` so it doesn't print out the prompt text."
   ]
  },
  {
   "cell_type": "code",
   "execution_count": 166,
   "metadata": {
    "execution": {
     "iopub.execute_input": "2024-07-31T04:11:14.893271Z",
     "iopub.status.busy": "2024-07-31T04:11:14.892745Z",
     "iopub.status.idle": "2024-07-31T04:11:14.899140Z",
     "shell.execute_reply": "2024-07-31T04:11:14.898559Z",
     "shell.execute_reply.started": "2024-07-31T04:11:14.893244Z"
    }
   },
   "outputs": [],
   "source": [
    "#| code-fold: true\n",
    "#| code-summary: \"Show `generate_responses`\"\n",
    "def generate_responses(dataset, prompt, temp=0.1, log=True):\n",
    "    ## add formatted prompt as a new column in dataset\n",
    "    dataset = dataset.map(add_prompt, fn_kwargs={\"prompt\": prompt})\n",
    "    \n",
    "    # check that the prompt is correctly formatted\n",
    "    if log:\n",
    "        print(dataset[0]['prompt'])\n",
    "        print('---------')\n",
    "    \n",
    "    # generate responses\n",
    "    outputs = []\n",
    "        \n",
    "    for out in pipe(KeyDataset(dataset, \"prompt\"), max_new_tokens=1, do_sample=True, temperature=temp, return_full_text=False):\n",
    "        outputs.append(out[0]['generated_text'].strip().lower())\n",
    "    \n",
    "    # calculate accuracy\n",
    "    df = dataset.to_pandas()\n",
    "    df['outputs'] = pd.Series(outputs)\n",
    "    df['lm_match'] = df['label_text'] == df['outputs']\n",
    "    acc = df.lm_match.mean()\n",
    "    return df, acc"
   ]
  },
  {
   "cell_type": "code",
   "execution_count": null,
   "metadata": {
    "execution": {
     "iopub.execute_input": "2024-07-31T04:11:50.283197Z",
     "iopub.status.busy": "2024-07-31T04:11:50.282678Z",
     "iopub.status.idle": "2024-07-31T05:10:33.033151Z",
     "shell.execute_reply": "2024-07-31T05:10:33.032526Z",
     "shell.execute_reply.started": "2024-07-31T04:11:50.283139Z"
    }
   },
   "outputs": [],
   "source": [
    "accs = []\n",
    "\n",
    "for _ in range(10):\n",
    "    _ , acc = generate_responses(promptK_ds, promptM, log=False)\n",
    "    accs.append(acc)"
   ]
  },
  {
   "cell_type": "markdown",
   "metadata": {},
   "source": [
    "I would say this model/prompt combo is quite consistent! Furthermore, it's competitive with GPT-4 (94% accuracy).\n",
    "I'll consider this experimentation process done for now."
   ]
  },
  {
   "cell_type": "code",
   "execution_count": 168,
   "metadata": {
    "execution": {
     "iopub.execute_input": "2024-07-31T05:10:33.034521Z",
     "iopub.status.busy": "2024-07-31T05:10:33.034308Z",
     "iopub.status.idle": "2024-07-31T05:10:33.044263Z",
     "shell.execute_reply": "2024-07-31T05:10:33.043569Z",
     "shell.execute_reply.started": "2024-07-31T05:10:33.034503Z"
    }
   },
   "outputs": [
    {
     "data": {
      "text/plain": [
       "count    10.000000\n",
       "mean      0.919132\n",
       "std       0.001786\n",
       "min       0.916298\n",
       "25%       0.918512\n",
       "50%       0.919619\n",
       "75%       0.919841\n",
       "max       0.921612\n",
       "dtype: float64"
      ]
     },
     "execution_count": 168,
     "metadata": {},
     "output_type": "execute_result"
    }
   ],
   "source": [
    "pd.Series(accs).describe()"
   ]
  },
  {
   "cell_type": "markdown",
   "metadata": {},
   "source": [
    "## Final Thoughts"
   ]
  },
  {
   "cell_type": "markdown",
   "metadata": {},
   "source": [
    "Here is a summary of results from this notebook:\n",
    "\n",
    "Here are the results from this notebook:\n",
    "\n",
    "| Prompt | Strategy | Overall Accuracy | `negative`      | `neutral`         | `positive`       |\n",
    "|:-:|:-:|:-:|:-:|:-:|:-:|\n",
    "| [A](#prompt-a)      | 0-Shot   | 58%               | 97% (295/303)    | 37% (520/1391)     | 86% (490/570)      |\n",
    "| [B](#prompt-b)      | 0-Shot   | 81%               | 87% (264/303)    | 87% (1207/1391)    | 63% (361/570)      |\n",
    "| [C](#prompt-c)      | 3-Shot   | 73%               | 96% (291/302)    | 58% (803/1390)     | <u>**98% (557/569)**</u>      |\n",
    "| [D](#prompt-d)      | 6-Shot   | 74%               | <u>**99% (298/302)**</u>    | 59% (822/1387)     | 95% (542/569)      |\n",
    "| [E](#prompt-e)      | 6-Shot   | 87%               | 98% (296/302)    | 82% (1131/1387)    | 94% (537/569)      |\n",
    "| [F](#prompt-f)      | 6-Shot   | 84%               | <u>**99% (298/302)**</u>    | 77% (1069/1387)    | 95% (538/569)      |\n",
    "| [G](#prompt-g)      | 6-Shot   | 84%               | 98% (295/302)    | 76% (1059/1387)    | 96% (546/569)      |\n",
    "| [H](#prompt-h)      | 6-Shot   | 91%               | 93% (280/302)    | 88% (1219/1387)    | 96% (548/569)      |\n",
    "| [I](#prompt-i)      | 14-Shot  | 89%               | 73% (221/302)    | <u>**99% (1368/1379)**</u>    | 71% (406/569)      |\n",
    "| [J](#prompt-j)      | 20-Shot  | 91%               | 80% (238/299)    | 97% (1340/1379)    | 82% (466/566)      |\n",
    "| [K](#prompt-k)      | 6-Shot   | 91%               | 80% (241/302)    | 95% (1318/1387)    | 89% (505/569)      |\n",
    "| [L](#prompt-l)      | 6-Shot   | 90%               | 81% (246/302)    | 92% (1276/1387)    | 91% (515/569)      |\n",
    "| [M](#prompt-m)      | 6-Shot   | <u>**92%**</u>               | 88% (267/302)    | 94% (1299/1387)    | 90% (510/569)      |\n",
    "| [N](#prompt-n)      | 3-Shot   | 91%               | 78% (235/302)    | 95% (1320/1390)    | 89% (504/569)      |\n",
    "| [O](#prompt-o)      | 3-Shot   | 91%               | 78% (237/302)    | 96% (1333/1390)    | 85% (484/569)      |"
   ]
  },
  {
   "cell_type": "markdown",
   "metadata": {},
   "source": [
    "Working with these smaller LLMs is a different experience than working with Claude via the Anthropic API. I feel more at ease with experimenting different approaches when the model is running for free on a Paperspace GPU. It's much less costly to make mistakes---I only lose time (which is not nothing, but better than a bloated bill).\n",
    "\n",
    "Phi-2 has interesting quirks. For example, repeating the instruction after the given sentence increased its accuracy by 23%. 20-shot and 14-shot prompts performed worse than a 6-shot prompt. Giving it additional clarity on how to handle neutral sentiments improved its accuracy (okay, that one is not so quirky). \n",
    "\n",
    "I can't help but think that my lack of prompt engineering experience with phi-2 is preventing me from maximizing its capabilities. Perhaps I could rival the 94% gold standard that was achieved in Moritz Laurer's blog post (with GPT4 and Mixtral-8x7B) and by Opus and Sonnet in my [Claude experiments](https://vishalbakshi.github.io/blog/posts/2024-08-29-tinysentiment-claude-experiments/). Instead, phi-2 achieves comparable performance (92%) with Haiku---which is not bad!\n",
    "\n",
    "In a future notebook, I'll do prompt engineering with phi-3 and phi-3.5 to see how those models perform on this dataset.\n",
    "\n",
    "I hope you enjoyed this blog post! Follow me on Twitter [@vishal_learner](https://twitter.com/vishal_learner)."
   ]
  }
 ],
 "metadata": {
  "kaggle": {
   "accelerator": "nvidiaTeslaT4",
   "dataSources": [],
   "dockerImageVersionId": 30665,
   "isGpuEnabled": true,
   "isInternetEnabled": true,
   "language": "python",
   "sourceType": "notebook"
  },
  "kernelspec": {
   "display_name": "Python 3 (ipykernel)",
   "language": "python",
   "name": "python3"
  },
  "language_info": {
   "codemirror_mode": {
    "name": "ipython",
    "version": 3
   },
   "file_extension": ".py",
   "mimetype": "text/x-python",
   "name": "python",
   "nbconvert_exporter": "python",
   "pygments_lexer": "ipython3",
   "version": "3.9.13"
  }
 },
 "nbformat": 4,
 "nbformat_minor": 4
}

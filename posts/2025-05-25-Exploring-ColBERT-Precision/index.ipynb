{
 "cells": [
  {
   "cell_type": "raw",
   "id": "62f0b8c2-d849-49d0-b68f-2fbd29e32299",
   "metadata": {},
   "source": [
    "---\n",
    "title: Exploring Precision in ColBERT Indexing and Retrieval\n",
    "date: \"2025-05-25\"\n",
    "author: Vishal Bakshi\n",
    "description: In this blog post I show how using full precision (fp32) versus mixed precision (amp) results in different ColBERT index artifacts (centroids.pt and ivf.pid.pt), Recall@10 and retrieved passages.\n",
    "filters:\n",
    "   - lightbox\n",
    "lightbox: auto\n",
    "categories:\n",
    "    - python\n",
    "    - deep learning\n",
    "    - ColBERT\n",
    "    - information retrieval\n",
    "---"
   ]
  },
  {
   "cell_type": "code",
   "execution_count": 4,
   "id": "16ca24cb-857d-4d7a-8b56-be00276ccd42",
   "metadata": {},
   "outputs": [
    {
     "data": {
      "text/plain": [
       "True"
      ]
     },
     "execution_count": 4,
     "metadata": {},
     "output_type": "execute_result"
    }
   ],
   "source": [
    "#| code-fold: true\n",
    "#| code-summary: \"Ensure faiss-gpu is correctly installed\"\n",
    "\n",
    "import faiss\n",
    "hasattr(faiss, \"StandardGpuResources\")"
   ]
  },
  {
   "cell_type": "code",
   "execution_count": 45,
   "id": "0a58e29c-75e8-4ffe-b578-02c6d3dec2a1",
   "metadata": {},
   "outputs": [],
   "source": [
    "#| code-fold: true\n",
    "#| code-summary: \"Show imports\"\n",
    "from datasets import load_dataset\n",
    "import matplotlib.pyplot as plt\n",
    "\n",
    "from colbert.data import Queries\n",
    "from colbert.infra import Run, RunConfig, ColBERTConfig\n",
    "from colbert import Searcher\n",
    "\n",
    "import matplotlib.pyplot as plt\n",
    "import numpy\n",
    "import torch\n",
    "import json\n",
    "import tqdm\n",
    "import glob\n",
    "import re\n",
    "import pytrec_eval\n",
    "import pickle"
   ]
  },
  {
   "cell_type": "code",
   "execution_count": null,
   "id": "91f7ad5d",
   "metadata": {},
   "outputs": [],
   "source": [
    "#| code-fold: true\n",
    "#| code-summary: \"Show indexing + memory profiling script\"\n",
    "\n",
    "import colbert\n",
    "from colbert import Indexer, Searcher\n",
    "from colbert.infra import Run, RunConfig, ColBERTConfig\n",
    "from colbert.data import Queries, Collection\n",
    "from datasets import load_dataset\n",
    "import threading\n",
    "import time\n",
    "import psutil\n",
    "from datetime import datetime\n",
    "import pandas as pd\n",
    "import numpy as np\n",
    "import matplotlib.pyplot as plt\n",
    "import argparse \n",
    "import pynvml\n",
    "\n",
    "def memory_monitor(stop_event, cpu_readings, gpu_readings):\n",
    "    pynvml.nvmlInit()\n",
    "    handle = pynvml.nvmlDeviceGetHandleByIndex(0)\n",
    "    \n",
    "    while not stop_event.is_set():\n",
    "        mem_cpu = psutil.Process().memory_info().rss / 1024 / 1024 / 1024\n",
    "        info = pynvml.nvmlDeviceGetMemoryInfo(handle)\n",
    "        mem_gpu = info.used / 1024 / 1024 / 1024\n",
    "        \n",
    "        cpu_readings.append((datetime.now(), mem_cpu))\n",
    "        gpu_readings.append((datetime.now(), mem_gpu))\n",
    "        time.sleep(5)\n",
    "\n",
    "def log_memory(index_name, passages):\n",
    "    stop_event = threading.Event()\n",
    "    cpu_readings = []\n",
    "    gpu_readings = []\n",
    "    monitor_thread = threading.Thread(target=memory_monitor, args=(stop_event, cpu_readings, gpu_readings))\n",
    "    monitor_thread.start()\n",
    "\n",
    "    try:\n",
    "        with Run().context(RunConfig(nranks=1, rank=0)):\n",
    "            config = ColBERTConfig(\n",
    "                doc_maxlen=220,\n",
    "                nbits=2,\n",
    "                dim=96,\n",
    "                kmeans_niters=4,\n",
    "                index_bsize=32,\n",
    "                bsize=64,\n",
    "                checkpoint=\"answerdotai/answerai-colbert-small-v1\",\n",
    "                avoid_fork_if_possible=True\n",
    "            )\n",
    "        \n",
    "            indexer = Indexer(checkpoint=\"answerdotai/answerai-colbert-small-v1\", config=config)\n",
    "            index_path = indexer.index(name=index_name, collection=passages[\"text\"], overwrite=True)\n",
    "    finally:\n",
    "        stop_event.set()\n",
    "        monitor_thread.join()\n",
    "    \n",
    "    return cpu_readings, gpu_readings\n",
    "\n",
    "def main():\n",
    "    parser = argparse.ArgumentParser(description='fp')\n",
    "    parser.add_argument('--fp', type=str, default=\"fp32\", help='Floating point precision used')\n",
    "    args = parser.parse_args()\n",
    "    fp = args.fp\n",
    "        \n",
    "    dataset_name = \"ConditionalQA\"\n",
    "    index_name = f'ColBERT_{dataset_name}_{fp}'\n",
    "    passages = load_dataset(\"UKPLab/dapr\", f\"{dataset_name}-corpus\", split=\"test\")\n",
    "\n",
    "    cpu_readings, gpu_readings = log_memory(index_name, passages)\n",
    "\n",
    "    # CPU RAM artifacts\n",
    "    start_time = cpu_readings[0][0]\n",
    "    index = [(t - start_time).total_seconds() for t, _ in cpu_readings]\n",
    "    cpu_readings = pd.Series([mem for _, mem in cpu_readings], index=index, name=\"mem_gb\" )\n",
    "    cpu_readings.index.name = \"time_secs\"\n",
    "    cpu_readings.plot(title=f'ColBERT CPU RAM ({fp})', xlabel='Time (sec)', ylabel='Memory (GB)')\n",
    "    plt.tight_layout()\n",
    "    plt.savefig(f'colbert_{fp}_cpu_readings.png')\n",
    "    plt.close()\n",
    "    cpu_readings.to_csv(f\"colbert_{fp}_cpu_readings.csv\")\n",
    "\n",
    "    # GPU RAM artifacts\n",
    "    start_time = gpu_readings[0][0]\n",
    "    index = [(t - start_time).total_seconds() for t, _ in gpu_readings]\n",
    "    gpu_readings = pd.Series([mem for _, mem in gpu_readings], index=index, name=\"mem_gb\" )\n",
    "    gpu_readings.index.name = \"time_secs\"\n",
    "    gpu_readings.plot(title=f'ColBERT GPU RAM ({fp})', xlabel='Time (sec)', ylabel='Memory (GB)')\n",
    "    plt.tight_layout()\n",
    "    plt.savefig(f'colbert_{fp}_gpu_readings.png')\n",
    "    plt.close()\n",
    "    gpu_readings.to_csv(f\"colbert_{fp}_gpu_readings.csv\")\n",
    "\n",
    "if __name__ == \"__main__\":\n",
    "    main()"
   ]
  },
  {
   "cell_type": "code",
   "execution_count": null,
   "id": "7eded5f6",
   "metadata": {},
   "outputs": [],
   "source": [
    "#| code-fold: true\n",
    "#| code-summary: \"Show Recall calculation script\"\n",
    "\n",
    "from datasets import load_dataset\n",
    "import matplotlib.pyplot as plt\n",
    "\n",
    "from colbert.data import Queries\n",
    "from colbert.infra import Run, RunConfig, ColBERTConfig\n",
    "from colbert import Searcher\n",
    "\n",
    "import matplotlib.pyplot as plt\n",
    "import numpy\n",
    "import torch\n",
    "import json\n",
    "import tqdm\n",
    "import glob\n",
    "import re\n",
    "import pytrec_eval\n",
    "import argparse \n",
    "import pickle\n",
    "\n",
    "def get_qrels(qrels_rows):\n",
    "    qrels = {}\n",
    "    for qrel_row in qrels_rows:\n",
    "        qid = qrel_row[\"query_id\"]\n",
    "        pid = qrel_row[\"corpus_id\"]\n",
    "        rel = qrel_row[\"score\"]\n",
    "        qrels.setdefault(qid, {})\n",
    "        qrels[qid][pid] = rel\n",
    "    \n",
    "    return qrels\n",
    "\n",
    "def _recall(qrels, res):\n",
    "    evaluator = pytrec_eval.RelevanceEvaluator(qrels, {'recall.10'})\n",
    "    metrics = evaluator.evaluate(res)\n",
    "    assert len(metrics) == len(set(qrels_rows[\"query_id\"]))\n",
    "\n",
    "    mean_recall = sum(metrics[qid]['recall_10'] for qid in metrics.keys()) / len(metrics)\n",
    "    return mean_recall\n",
    "\n",
    "\n",
    "dataset_name = \"ConditionalQA\"\n",
    "queries = load_dataset(\"UKPLab/dapr\", f\"{dataset_name}-queries\", split=\"test\")\n",
    "passages = load_dataset(\"UKPLab/dapr\", f\"{dataset_name}-corpus\", split=\"test\")\n",
    "qrels_rows = load_dataset(\"UKPLab/dapr\", f\"{dataset_name}-qrels\", split=\"test\")\n",
    "qrels = get_qrels(qrels_rows)\n",
    "print(dataset_name)\n",
    "\n",
    "queries_dict = {}\n",
    "for item in queries: queries_dict[item['_id']] = item['text']\n",
    "\n",
    "def main():\n",
    "    parser = argparse.ArgumentParser(description='index')\n",
    "    parser.add_argument('--index', type=str, default=\"\", help='Index name')\n",
    "    args = parser.parse_args()\n",
    "    index = args.index\n",
    "    \n",
    "    with Run().context(RunConfig(nranks=1)):\n",
    "        searcher = Searcher(\n",
    "            index=index,\n",
    "            config=ColBERTConfig(\n",
    "                    ncells=4,\n",
    "                    centroid_score_threshold=0.45,\n",
    "                    ndocs=1024\n",
    "                )\n",
    "        )\n",
    "    \n",
    "        _queries = Queries(data=queries_dict)\n",
    "        ranking = searcher.search_all(_queries, k=10)\n",
    "\n",
    "    colbert_results = {}\n",
    "\n",
    "    for qid in ranking.todict().keys():\n",
    "        colbert_scores = ranking.todict()[qid]\n",
    "        colbert_results[qid] = {passages[idx]['_id']: score for idx, _, score in colbert_scores}\n",
    "\n",
    "    with open(f\"colbert_results_{index.split('_')[-1]}.pkl\", 'wb') as file: pickle.dump(colbert_results, file)\n",
    "    print(_recall(qrels, colbert_results))\n",
    "\n",
    "if __name__ == \"__main__\":\n",
    "    main()"
   ]
  },
  {
   "cell_type": "markdown",
   "id": "6b048306",
   "metadata": {},
   "source": [
    "## Background"
   ]
  },
  {
   "cell_type": "markdown",
   "id": "074acf4c",
   "metadata": {},
   "source": [
    "I ran an experiment to explore the differences between FP32 full precision and mixed precision in ColBERT indexing and retrieval. This was purely a curiosity-driven exploration - not claiming this is best practice, just wanted to see if there were any differences. This notebook shares my findings. I use the [UKPLab/DAPR ConditionalQA dataset](https://huggingface.co/datasets/UKPLab/dapr/viewer/ConditionalQA-docs) for this exercise.\n",
    "\n",
    "**What I did:**\n",
    "\n",
    "- Created [a fork of ColBERT](https://github.com/vishalbakshi/ColBERT/commits/mixed_precision_false/) and turned off all mixed precision conversions\n",
    "- Used Claude and ChatGPT to help identify all the places that needed changes (including CUDA kernels)\n",
    "- Ran indexing experiments on the UKPLab's ConditionalQA dataset (70k documents)\n",
    "- Tracked memory usage during indexing (see script above)\n",
    "- Compared recall performance and retrieved passages (see script above)\n",
    "- Analyzed the resulting index artifacts\n",
    "\n",
    "**Key findings:**\n",
    "\n",
    "- Mixed precision took 2.5x longer to index (180s vs 70s) - wasn't expecting that\n",
    "- Mixed precision used slightly more GPU memory, full precision used more CPU memory\n",
    "- Full precision gave a tiny 0.3% recall boost (basically negligible)\n",
    "- 14% of retrieved passages were different between the two approaches\n",
    "- The centroids created during indexing were significantly different\n",
    "- Different mappings between passage IDs and centroids"
   ]
  },
  {
   "cell_type": "markdown",
   "id": "c3297cee",
   "metadata": {},
   "source": [
    "<iframe width=\"560\" height=\"315\" src=\"https://www.youtube.com/embed/aiNQ4I8YaD0?si=OKvaUtumf7q1qGYf\" title=\"YouTube video player\" frameborder=\"0\" allow=\"accelerometer; autoplay; clipboard-write; encrypted-media; gyroscope; picture-in-picture; web-share\" referrerpolicy=\"strict-origin-when-cross-origin\" allowfullscreen></iframe>"
   ]
  },
  {
   "cell_type": "markdown",
   "id": "a4dadd52",
   "metadata": {},
   "source": [
    "## Indexing Time"
   ]
  },
  {
   "cell_type": "markdown",
   "id": "3442bf05",
   "metadata": {},
   "source": [
    "I was surprised to see that using mixed precision resulted in a much longer indexing time. I wonder if that would still hold over multiple iterations of indexing."
   ]
  },
  {
   "cell_type": "markdown",
   "id": "b8022710",
   "metadata": {},
   "source": [
    "|Precision|Indexing Time (seconds)|\n",
    "|:-:|:-:|\n",
    "|fp32|70\n",
    "|amp|180"
   ]
  },
  {
   "cell_type": "markdown",
   "id": "67452101",
   "metadata": {},
   "source": [
    "## Maximum Memory Usage"
   ]
  },
  {
   "cell_type": "markdown",
   "id": "149eb353",
   "metadata": {},
   "source": [
    "Another surprise---mixed precision actually uses _more_ GPU memory than full precision."
   ]
  },
  {
   "cell_type": "markdown",
   "id": "86695420",
   "metadata": {},
   "source": [
    "|Precision|Max GPU Mem (GB)|Max CPU Mem (GB)\n",
    "|:-:|:-:|:-:|\n",
    "|fp32|5.51|0.824\n",
    "|amp|5.78|0.814"
   ]
  },
  {
   "cell_type": "markdown",
   "id": "3307c8a7-4561-4cfa-b32a-3d329cc04a1e",
   "metadata": {},
   "source": [
    "## Recall@10"
   ]
  },
  {
   "cell_type": "markdown",
   "id": "612e4e61",
   "metadata": {},
   "source": [
    "The differences in Recall@10 is negligible, the full precision index has a slight advantage."
   ]
  },
  {
   "cell_type": "markdown",
   "id": "3ceb00c8-23bd-43a6-a356-4382e19a8dce",
   "metadata": {},
   "source": [
    "fp32: 0.13034885692197787\n",
    "\n",
    "amp: 0.1299388528219369"
   ]
  },
  {
   "cell_type": "code",
   "execution_count": 44,
   "id": "1b1033d1-6c8f-4a37-a7d9-7c06947d2954",
   "metadata": {},
   "outputs": [
    {
     "data": {
      "text/plain": [
       "0.003155361857802613"
      ]
     },
     "execution_count": 44,
     "metadata": {},
     "output_type": "execute_result"
    }
   ],
   "source": [
    "(0.13034885692197787 - 0.1299388528219369)/0.1299388528219369"
   ]
  },
  {
   "cell_type": "markdown",
   "id": "fc6352d6-6196-4a66-81f5-25ffb5588c6a",
   "metadata": {},
   "source": [
    "## Comparing Retrieved Passages and Scores"
   ]
  },
  {
   "cell_type": "markdown",
   "id": "4847df03",
   "metadata": {},
   "source": [
    "Out of the 2710 total passages retrieved, 388 passages were retrieved using one index but not the other---that's about a 14% difference in retrieved passages due to a difference in precision."
   ]
  },
  {
   "cell_type": "code",
   "execution_count": 49,
   "id": "7a3fc579-00a9-4fd1-9172-4b269f58bf8d",
   "metadata": {},
   "outputs": [],
   "source": [
    "with open('colbert_results_fp32.pkl', 'rb') as file: colbert_results_fp32 = pickle.load(file)\n",
    "with open('colbert_results_amp.pkl', 'rb') as file: colbert_results_amp = pickle.load(file)"
   ]
  },
  {
   "cell_type": "code",
   "execution_count": 51,
   "id": "a028a070-f72f-4696-a990-9a763cdd654f",
   "metadata": {},
   "outputs": [
    {
     "data": {
      "text/plain": [
       "True"
      ]
     },
     "execution_count": 51,
     "metadata": {},
     "output_type": "execute_result"
    }
   ],
   "source": [
    "colbert_results_fp32.keys() == colbert_results_amp.keys()"
   ]
  },
  {
   "cell_type": "code",
   "execution_count": 53,
   "id": "cabf9a90-e647-4ff9-9ad6-2bef0649e70c",
   "metadata": {},
   "outputs": [
    {
     "data": {
      "text/plain": [
       "{'265-59': 29.345699310302734,\n",
       " '8-116': 29.341297149658203,\n",
       " '8-118': 29.336307525634766,\n",
       " '8-67': 29.32498550415039,\n",
       " '8-9': 29.2913875579834,\n",
       " '8-70': 29.290199279785156,\n",
       " '270-51': 29.28421401977539,\n",
       " '40-29': 29.28375244140625,\n",
       " '107-110': 29.282079696655273,\n",
       " '459-115': 29.28005599975586}"
      ]
     },
     "execution_count": 53,
     "metadata": {},
     "output_type": "execute_result"
    }
   ],
   "source": [
    "colbert_results_fp32['dev-0']"
   ]
  },
  {
   "cell_type": "code",
   "execution_count": 58,
   "id": "a3bfb4d8-a139-4a0d-8307-0b6711e9c0c6",
   "metadata": {},
   "outputs": [
    {
     "data": {
      "text/plain": [
       "388"
      ]
     },
     "execution_count": 58,
     "metadata": {},
     "output_type": "execute_result"
    }
   ],
   "source": [
    "n_diffs = 0\n",
    "for qid, fp32_res in colbert_results_fp32.items():\n",
    "    for pid in fp32_res.keys():\n",
    "        if pid not in colbert_results_amp[qid].keys(): \n",
    "            n_diffs += 1\n",
    " \n",
    "for qid, amp_res in colbert_results_amp.items():\n",
    "    for pid in amp_res.keys():\n",
    "        if pid not in colbert_results_fp32[qid].keys(): \n",
    "            n_diffs += 1\n",
    "\n",
    "n_diffs"
   ]
  },
  {
   "cell_type": "code",
   "execution_count": 60,
   "id": "43aea657-c8b9-41af-a76c-7c36b7d8fe79",
   "metadata": {},
   "outputs": [
    {
     "data": {
      "text/plain": [
       "0.14317343173431735"
      ]
     },
     "execution_count": 60,
     "metadata": {},
     "output_type": "execute_result"
    }
   ],
   "source": [
    "n_diffs/(271*10)"
   ]
  },
  {
   "cell_type": "code",
   "execution_count": 61,
   "id": "78a6ecc6-4888-4cc1-a7f9-05aed541e4fd",
   "metadata": {},
   "outputs": [
    {
     "data": {
      "text/plain": [
       "{'265-59': 29.345699310302734,\n",
       " '8-116': 29.341297149658203,\n",
       " '8-118': 29.336307525634766,\n",
       " '8-67': 29.32498550415039,\n",
       " '8-9': 29.2913875579834,\n",
       " '8-70': 29.290199279785156,\n",
       " '270-51': 29.28421401977539,\n",
       " '40-29': 29.28375244140625,\n",
       " '107-110': 29.282079696655273,\n",
       " '459-115': 29.28005599975586}"
      ]
     },
     "execution_count": 61,
     "metadata": {},
     "output_type": "execute_result"
    }
   ],
   "source": [
    "colbert_results_fp32['dev-0']"
   ]
  },
  {
   "cell_type": "markdown",
   "id": "360ed707",
   "metadata": {},
   "source": [
    "Overall, the full precision index results in a slightly lower retrieved passage score."
   ]
  },
  {
   "cell_type": "code",
   "execution_count": 64,
   "id": "53242388-3b1e-4945-a90e-d08ebbcc7977",
   "metadata": {},
   "outputs": [
    {
     "data": {
      "text/plain": [
       "80438.375"
      ]
     },
     "execution_count": 64,
     "metadata": {},
     "output_type": "execute_result"
    }
   ],
   "source": [
    "total_amp_score = 0\n",
    "for qid, amp_res in colbert_results_amp.items():\n",
    "    for score in amp_res.values(): total_amp_score += score\n",
    "total_amp_score"
   ]
  },
  {
   "cell_type": "code",
   "execution_count": 66,
   "id": "dbc2a843-0030-409a-8ff6-7008dfd7a0e4",
   "metadata": {},
   "outputs": [
    {
     "data": {
      "text/plain": [
       "80435.61682701111"
      ]
     },
     "execution_count": 66,
     "metadata": {},
     "output_type": "execute_result"
    }
   ],
   "source": [
    "total_fp32_score = 0\n",
    "for qid, fp32_res in colbert_results_fp32.items():\n",
    "    for score in fp32_res.values(): total_fp32_score += score\n",
    "total_fp32_score"
   ]
  },
  {
   "cell_type": "markdown",
   "id": "b6aad4db-5c75-41c2-9740-751808b2526c",
   "metadata": {},
   "source": [
    "## Comparing Index Artifacts"
   ]
  },
  {
   "cell_type": "code",
   "execution_count": 15,
   "id": "ded306cc-e4b8-4289-be81-c53265a8aa8e",
   "metadata": {},
   "outputs": [],
   "source": [
    "colbert_fp32_root = \"./experiments/default/indexes/ColBERT_ConditionalQA_fp32\"\n",
    "colbert_amp_root  = \"./experiments/default/indexes/ColBERT_ConditionalQA_amp\""
   ]
  },
  {
   "cell_type": "markdown",
   "id": "a8f8f3fc-22a7-442e-9a53-2ec4dc29e330",
   "metadata": {},
   "source": [
    "### metadata.json"
   ]
  },
  {
   "cell_type": "markdown",
   "id": "7deceeda",
   "metadata": {},
   "source": [
    "Both indexes (full precision and mixed precision) produce the same metadata.json."
   ]
  },
  {
   "cell_type": "code",
   "execution_count": 16,
   "id": "a423ba98-ad7c-4423-9527-8ed471147196",
   "metadata": {},
   "outputs": [],
   "source": [
    "params = [\n",
    "    \"index_bsize\",\n",
    "    \"nbits\",\n",
    "    \"kmeans_niters\",\n",
    "    \"dim\",\n",
    "    \"rank\",\n",
    "    \"gpus\",\n",
    "    \"nranks\",\n",
    "    \"num_chunks\",\n",
    "    \"num_partitions\",\n",
    "    \"num_embeddings\",\n",
    "    \"avg_doclen\"\n",
    "    ]"
   ]
  },
  {
   "cell_type": "code",
   "execution_count": 17,
   "id": "467168b7-1129-4701-a929-a8d6bb00c3c3",
   "metadata": {},
   "outputs": [],
   "source": [
    "with open(f\"{colbert_fp32_root}/metadata.json\", 'r') as f: colbert_fp32_metadata = json.load(f)\n",
    "with open(f\"{colbert_amp_root}/metadata.json\", 'r') as f: colbert_amp_metadata = json.load(f)"
   ]
  },
  {
   "cell_type": "code",
   "execution_count": 18,
   "id": "ff366466-afa4-499e-af7f-6dce67666fef",
   "metadata": {},
   "outputs": [],
   "source": [
    "for p in params:\n",
    "    if p not in [\"num_chunks\", \"num_partitions\", \"num_embeddings\", \"avg_doclen\"]: assert colbert_fp32_metadata['config'][p] == colbert_amp_metadata['config'][p], p\n",
    "    elif p == \"avg_doclen\": assert (colbert_fp32_metadata[p] - colbert_amp_metadata[p]) < 1e-7\n",
    "    else: assert colbert_fp32_metadata[p] == colbert_amp_metadata[p], p"
   ]
  },
  {
   "cell_type": "markdown",
   "id": "e69080dc-cad2-4cca-8253-48ec1eb9b7eb",
   "metadata": {},
   "source": [
    "### centroids.pt"
   ]
  },
  {
   "cell_type": "markdown",
   "id": "c4e3ceb4",
   "metadata": {},
   "source": [
    "There is a significant difference in centroids---meaning that the sampled document token embeddings and their clusters are different based on the type of precision used."
   ]
  },
  {
   "cell_type": "code",
   "execution_count": 19,
   "id": "24a568ec-8c81-49fc-8339-7188e7fbd5c0",
   "metadata": {},
   "outputs": [],
   "source": [
    "colbert_fp32_centroids = torch.load(f\"{colbert_fp32_root}/centroids.pt\")\n",
    "colbert_amp_centroids = torch.load(f\"{colbert_amp_root}/centroids.pt\")"
   ]
  },
  {
   "cell_type": "code",
   "execution_count": 22,
   "id": "6623333c-429f-4aa0-ad25-804ba63c0a5e",
   "metadata": {},
   "outputs": [
    {
     "data": {
      "text/plain": [
       "False"
      ]
     },
     "execution_count": 22,
     "metadata": {},
     "output_type": "execute_result"
    }
   ],
   "source": [
    "torch.allclose(colbert_fp32_centroids, colbert_amp_centroids.float())"
   ]
  },
  {
   "cell_type": "code",
   "execution_count": 23,
   "id": "1ea3d26f-6eb3-49b8-bc10-84411548adf5",
   "metadata": {},
   "outputs": [
    {
     "data": {
      "text/plain": [
       "False"
      ]
     },
     "execution_count": 23,
     "metadata": {},
     "output_type": "execute_result"
    }
   ],
   "source": [
    "torch.allclose(colbert_fp32_centroids.half(), colbert_amp_centroids)"
   ]
  },
  {
   "cell_type": "code",
   "execution_count": 27,
   "id": "137ce115-b1dd-43fc-aa2c-85a8328eee23",
   "metadata": {},
   "outputs": [
    {
     "data": {
      "text/plain": [
       "True"
      ]
     },
     "execution_count": 27,
     "metadata": {},
     "output_type": "execute_result"
    }
   ],
   "source": [
    "torch.allclose(colbert_fp32_centroids, colbert_amp_centroids.float(), atol=1e-0)"
   ]
  },
  {
   "cell_type": "code",
   "execution_count": 29,
   "id": "b37ef31c-449b-4fee-ac32-db53e22aa2c4",
   "metadata": {},
   "outputs": [
    {
     "data": {
      "text/plain": [
       "(torch.Size([1572864]), torch.Size([1572864]))"
      ]
     },
     "execution_count": 29,
     "metadata": {},
     "output_type": "execute_result"
    }
   ],
   "source": [
    "colbert_fp32_centroids.flatten().shape, colbert_amp_centroids.flatten().shape"
   ]
  },
  {
   "cell_type": "code",
   "execution_count": 33,
   "id": "ee48d045-d537-4eb8-be77-1cab42e18901",
   "metadata": {},
   "outputs": [
    {
     "data": {
      "image/png": "[encoded data removed]",
      "text/plain": [
       "<Figure size 640x480 with 1 Axes>"
      ]
     },
     "metadata": {},
     "output_type": "display_data"
    }
   ],
   "source": [
    "plt.scatter(colbert_fp32_centroids.flatten().cpu().numpy(), colbert_amp_centroids.flatten().cpu().numpy(), s=1);"
   ]
  },
  {
   "cell_type": "markdown",
   "id": "98b006f7-747c-4d2e-b894-a8953ffe1d83",
   "metadata": {},
   "source": [
    "### ivf.pid.pt"
   ]
  },
  {
   "cell_type": "markdown",
   "id": "a74aa8cd",
   "metadata": {},
   "source": [
    "Finally, there is a difference in mappings between passages IDs and centroid IDs. Interestingly, mixed precision results in more passage IDs mapped to centroids."
   ]
  },
  {
   "cell_type": "code",
   "execution_count": 34,
   "id": "1376756c-c23a-4c52-8781-31bde8702914",
   "metadata": {},
   "outputs": [],
   "source": [
    "colbert_fp32_ivf = torch.load(f\"{colbert_fp32_root}/ivf.pid.pt\")\n",
    "colbert_amp_ivf  = torch.load(f\"{colbert_amp_root}/ivf.pid.pt\")"
   ]
  },
  {
   "cell_type": "code",
   "execution_count": 35,
   "id": "8550ccb3-21e0-48e4-ab58-19a6a63b7891",
   "metadata": {},
   "outputs": [
    {
     "data": {
      "text/plain": [
       "(torch.Size([963143]), torch.Size([975457]))"
      ]
     },
     "execution_count": 35,
     "metadata": {},
     "output_type": "execute_result"
    }
   ],
   "source": [
    "colbert_fp32_ivf[0].shape, colbert_amp_ivf[0].shape"
   ]
  },
  {
   "cell_type": "code",
   "execution_count": 41,
   "id": "0e13f0a8-4ec1-4dc4-a60c-56661d431875",
   "metadata": {},
   "outputs": [
    {
     "data": {
      "text/plain": [
       "12314"
      ]
     },
     "execution_count": 41,
     "metadata": {},
     "output_type": "execute_result"
    }
   ],
   "source": [
    "colbert_amp_ivf[0].shape[0]-colbert_fp32_ivf[0].shape[0]"
   ]
  },
  {
   "cell_type": "code",
   "execution_count": 36,
   "id": "96492aa3-8d5b-45ac-a978-dcbbb30083ef",
   "metadata": {},
   "outputs": [
    {
     "data": {
      "text/plain": [
       "(torch.Size([16384]), torch.Size([16384]))"
      ]
     },
     "execution_count": 36,
     "metadata": {},
     "output_type": "execute_result"
    }
   ],
   "source": [
    "colbert_fp32_ivf[1].shape, colbert_amp_ivf[1].shape"
   ]
  },
  {
   "cell_type": "markdown",
   "id": "4aee3384",
   "metadata": {},
   "source": [
    "## Closing Thoughts"
   ]
  },
  {
   "cell_type": "markdown",
   "id": "16eb5ae5",
   "metadata": {},
   "source": [
    "This is just one small dataset with short documents (avg 15 tokens). Sample size of one. I also might have missed some precision conversions in my implementation. Don't take this as definitive - just an interesting exploration of how precision affects the ColBERT pipeline. Here's a summary again of my key findings:\n",
    "\n",
    "- Mixed precision took 2.5x longer to index (180s vs 70s) - wasn't expecting that\n",
    "- Mixed precision used slightly more GPU memory, full precision used more CPU memory\n",
    "- Full precision gave a tiny 0.3% recall boost (basically negligible)\n",
    "- 14% of retrieved passages were different between the two approaches\n",
    "- The centroids created during indexing were significantly different\n",
    "- Different mappings between passage IDs and centroids"
   ]
  }
 ],
 "metadata": {
  "kernelspec": {
   "display_name": "Python 3 (ipykernel)",
   "language": "python",
   "name": "python3"
  },
  "language_info": {
   "codemirror_mode": {
    "name": "ipython",
    "version": 3
   },
   "file_extension": ".py",
   "mimetype": "text/x-python",
   "name": "python",
   "nbconvert_exporter": "python",
   "pygments_lexer": "ipython3",
   "version": "3.10.16"
  }
 },
 "nbformat": 4,
 "nbformat_minor": 5
}

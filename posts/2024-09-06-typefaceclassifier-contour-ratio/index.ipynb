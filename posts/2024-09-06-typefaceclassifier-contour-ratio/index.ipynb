{
  "cells": [
    {
      "cell_type": "raw",
      "metadata": {
        "vscode": {
          "languageId": "raw"
        }
      },
      "source": [
        "---\n",
        "title: Calculating the Ratio of Letter Perimeter to Area\n",
        "date: \"2024-09-06\"\n",
        "author: Vishal Bakshi\n",
        "description: In this blog post I use the OpenCV library to calculate the ratio of letter (contour) perimeter to area. The serif font has consistently larger ratios than the sans serif font.\n",
        "filters:\n",
        "   - lightbox\n",
        "lightbox: auto\n",
        "categories:\n",
        "    - python\n",
        "    - computer vision\n",
        "    - TypefaceClassifier\n",
        "---"
      ]
    },
    {
      "cell_type": "markdown",
      "metadata": {
        "id": "7DGA1tJcQp81"
      },
      "source": [
        "## Background"
      ]
    },
    {
      "cell_type": "markdown",
      "metadata": {
        "id": "RplRCMSgQrdj"
      },
      "source": [
        "In this notebook I'll walk through an algorithm suggested by Claude to distinguish one typeface (like `display`) from another (like `serif`) in which we calculate the ratio of the perimeter to area of each letter. This algorithm is relatively simple (utilizing the power of the OpenCV library).\n",
        "\n",
        "This algorithm is part of my exploration of non-ML baselines to classify text images into various typeface categories (e.g., “humanist sans,” “grotesque sans,” “script,” “display,” etc.). Once the non-ML baseline is established, I'll train a neural network for this task. This is one of many notebooks in my [TypefaceClassifier project series](https://vishalbakshi.github.io/blog/#category=TypefaceClassifier)."
      ]
    },
    {
      "cell_type": "code",
      "execution_count": 8,
      "metadata": {
        "id": "oYDPYiWPR-0J"
      },
      "outputs": [],
      "source": [
        "import cv2\n",
        "import numpy as np\n",
        "import pandas as pd\n",
        "from google.colab.patches import cv2_imshow"
      ]
    },
    {
      "cell_type": "markdown",
      "metadata": {
        "id": "B-1SzqGvRNCm"
      },
      "source": [
        "## Load and Binarize the Image"
      ]
    },
    {
      "cell_type": "markdown",
      "metadata": {
        "id": "zawb_Xo9RwBj"
      },
      "source": [
        "As usual, we'll load the image and binarize it so the text is white and the background is black."
      ]
    },
    {
      "cell_type": "code",
      "execution_count": 9,
      "metadata": {
        "colab": {
          "base_uri": "https://localhost:8080/",
          "height": 552
        },
        "id": "NwdCBtdQR62q",
        "outputId": "39d6798c-552f-44c8-9e11-c0e3eee0bf7f"
      },
      "outputs": [
        {
          "data": {
            "text/html": [
              "<style>\n",
              "      .ndarray_repr .ndarray_raw_data {\n",
              "        display: none;\n",
              "      }\n",
              "      .ndarray_repr.show_array .ndarray_raw_data {\n",
              "        display: block;\n",
              "      }\n",
              "      .ndarray_repr.show_array .ndarray_image_preview {\n",
              "        display: none;\n",
              "      }\n",
              "      </style>\n",
              "      <div id=\"id-85f6ac7a-d5fb-470c-b233-fbccedbf6e85\" class=\"ndarray_repr\"><pre>ndarray (512, 512) <button style=\"padding: 0 2px;\">show data</button></pre><img src=\"data:image/png;base64,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\" class=\"ndarray_image_preview\" /><pre class=\"ndarray_raw_data\">array([[0, 0, 0, ..., 0, 0, 0],\n",
              "       [0, 0, 0, ..., 0, 0, 0],\n",
              "       [0, 0, 0, ..., 0, 0, 0],\n",
              "       ...,\n",
              "       [0, 0, 0, ..., 0, 0, 0],\n",
              "       [0, 0, 0, ..., 0, 0, 0],\n",
              "       [0, 0, 0, ..., 0, 0, 0]], dtype=uint8)</pre></div><script>\n",
              "      (() => {\n",
              "      const titles = ['show data', 'hide data'];\n",
              "      let index = 0\n",
              "      document.querySelector('#id-85f6ac7a-d5fb-470c-b233-fbccedbf6e85 button').onclick = (e) => {\n",
              "        document.querySelector('#id-85f6ac7a-d5fb-470c-b233-fbccedbf6e85').classList.toggle('show_array');\n",
              "        index = (++index) % 2;\n",
              "        document.querySelector('#id-85f6ac7a-d5fb-470c-b233-fbccedbf6e85 button').textContent = titles[index];\n",
              "        e.preventDefault();\n",
              "        e.stopPropagation();\n",
              "      }\n",
              "      })();\n",
              "    </script>"
            ],
            "text/plain": [
              "array([[0, 0, 0, ..., 0, 0, 0],\n",
              "       [0, 0, 0, ..., 0, 0, 0],\n",
              "       [0, 0, 0, ..., 0, 0, 0],\n",
              "       ...,\n",
              "       [0, 0, 0, ..., 0, 0, 0],\n",
              "       [0, 0, 0, ..., 0, 0, 0],\n",
              "       [0, 0, 0, ..., 0, 0, 0]], dtype=uint8)"
            ]
          },
          "execution_count": 9,
          "metadata": {},
          "output_type": "execute_result"
        }
      ],
      "source": [
        "path = 'serif-76px.png'\n",
        "img = cv2.imread(path, cv2.IMREAD_GRAYSCALE)\n",
        "_, binary = cv2.threshold(img, 0, 255, cv2.THRESH_BINARY_INV + cv2.THRESH_OTSU)\n",
        "binary"
      ]
    },
    {
      "cell_type": "markdown",
      "metadata": {
        "id": "eo9bmqbNSOPa"
      },
      "source": [
        "## Calculate the Ratio of Contour Perimeter to Area"
      ]
    },
    {
      "cell_type": "markdown",
      "metadata": {
        "id": "gzTVfzbgSRZJ"
      },
      "source": [
        "Next, we calculate the contours in the image"
      ]
    },
    {
      "cell_type": "code",
      "execution_count": 10,
      "metadata": {
        "id": "jIeGgbKOShl7"
      },
      "outputs": [],
      "source": [
        "contours, _ = cv2.findContours(binary, cv2.RETR_EXTERNAL, cv2.CHAIN_APPROX_SIMPLE)"
      ]
    },
    {
      "cell_type": "markdown",
      "metadata": {
        "id": "CQhlwaekSkLL"
      },
      "source": [
        "I'll visualize the contours to show what we're dealing with. As you can see---the contours are essentially the letter boundaries."
      ]
    },
    {
      "cell_type": "code",
      "execution_count": 11,
      "metadata": {
        "colab": {
          "base_uri": "https://localhost:8080/",
          "height": 529
        },
        "id": "7TnYXSpMShtL",
        "outputId": "7897b8e4-8b42-4211-a851-1e6d8e8f31f9"
      },
      "outputs": [
        {
          "data": {
            "image/png": "[encoded data removed]",
            "text/plain": [
              "<PIL.Image.Image image mode=RGB size=512x512>"
            ]
          },
          "metadata": {},
          "output_type": "display_data"
        }
      ],
      "source": [
        "contour_image = np.zeros((binary.shape[0], binary.shape[1], 3), dtype=np.uint8)\n",
        "cv2.drawContours(contour_image, contours, -1, (0, 255, 0), 2)\n",
        "cv2_imshow(contour_image)"
      ]
    },
    {
      "cell_type": "markdown",
      "metadata": {
        "id": "uSbn26ZNS5Lc"
      },
      "source": [
        "We then calculate the total perimeter and total area of all contours:"
      ]
    },
    {
      "cell_type": "code",
      "execution_count": 12,
      "metadata": {
        "id": "sF2alxQQS7ua"
      },
      "outputs": [],
      "source": [
        "total_perimeter = sum(cv2.arcLength(contour, True) for contour in contours)\n",
        "total_area = sum(cv2.contourArea(contour) for contour in contours)"
      ]
    },
    {
      "cell_type": "markdown",
      "metadata": {
        "id": "yW0cpSBmS_vE"
      },
      "source": [
        "And take the ratio of the two:"
      ]
    },
    {
      "cell_type": "code",
      "execution_count": 13,
      "metadata": {
        "colab": {
          "base_uri": "https://localhost:8080/"
        },
        "id": "y7vaDySsTA_P",
        "outputId": "ff5c69d9-9456-4469-f7e4-527e050941eb"
      },
      "outputs": [
        {
          "data": {
            "text/plain": [
              "0.3750295759392109"
            ]
          },
          "execution_count": 13,
          "metadata": {},
          "output_type": "execute_result"
        }
      ],
      "source": [
        "ratio = total_perimeter / total_area if total_area > 0 else 0\n",
        "ratio"
      ]
    },
    {
      "cell_type": "markdown",
      "metadata": {
        "id": "CvpMZlkYTTwJ"
      },
      "source": [
        "## Calculating Contour Ratio for Multiple Images"
      ]
    },
    {
      "cell_type": "markdown",
      "metadata": {
        "id": "hxTie00yTVq_"
      },
      "source": [
        "I'll wrap the above functionality (except for the contour visualization) into a function and calculate the ratio for different images of different typefaces."
      ]
    },
    {
      "cell_type": "code",
      "execution_count": 14,
      "metadata": {
        "id": "zSwEAl1GTfQI"
      },
      "outputs": [],
      "source": [
        "def contour_ratio(image_path):\n",
        "    img = cv2.imread(image_path, cv2.IMREAD_GRAYSCALE)\n",
        "    _, binary = cv2.threshold(img, 0, 255, cv2.THRESH_BINARY_INV + cv2.THRESH_OTSU)\n",
        "\n",
        "    contours, _ = cv2.findContours(binary, cv2.RETR_EXTERNAL, cv2.CHAIN_APPROX_SIMPLE)\n",
        "\n",
        "    total_perimeter = sum(cv2.arcLength(contour, True) for contour in contours)\n",
        "    total_area = sum(cv2.contourArea(contour) for contour in contours)\n",
        "\n",
        "    ratio = total_perimeter / total_area if total_area > 0 else 0\n",
        "\n",
        "    return ratio"
      ]
    },
    {
      "cell_type": "markdown",
      "metadata": {
        "id": "7D_7jQmjUJu0"
      },
      "source": [
        "On average, images with serif fonts have a higher contour ratio (perimeter:area) than images with display fonts. This matches my intuition: serif fonts have more detailed elements (the serifs) which increase the perimeter of the shape for a given area."
      ]
    },
    {
      "cell_type": "code",
      "execution_count": 19,
      "metadata": {
        "colab": {
          "base_uri": "https://localhost:8080/",
          "height": 143
        },
        "id": "g9W2V_laTnbn",
        "outputId": "7c9368ae-2adc-4034-bdbd-7476682535fd"
      },
      "outputs": [
        {
          "data": {
            "application/vnd.google.colaboratory.intrinsic+json": {
              "summary": "{\n  \"name\": \"res\",\n  \"rows\": 2,\n  \"fields\": [\n    {\n      \"column\": \"typeface\",\n      \"properties\": {\n        \"dtype\": \"string\",\n        \"num_unique_values\": 2,\n        \"samples\": [\n          \"serif\",\n          \"display\"\n        ],\n        \"semantic_type\": \"\",\n        \"description\": \"\"\n      }\n    },\n    {\n      \"column\": \"mean\",\n      \"properties\": {\n        \"dtype\": \"number\",\n        \"std\": 0.14406306515440973,\n        \"min\": 0.577295971066962,\n        \"max\": 0.781031911645367,\n        \"num_unique_values\": 2,\n        \"samples\": [\n          0.781031911645367,\n          0.577295971066962\n        ],\n        \"semantic_type\": \"\",\n        \"description\": \"\"\n      }\n    },\n    {\n      \"column\": \"median\",\n      \"properties\": {\n        \"dtype\": \"number\",\n        \"std\": 0.1432230754282867,\n        \"min\": 0.3457731168118509,\n        \"max\": 0.5483211325273187,\n        \"num_unique_values\": 2,\n        \"samples\": [\n          0.5483211325273187,\n          0.3457731168118509\n        ],\n        \"semantic_type\": \"\",\n        \"description\": \"\"\n      }\n    }\n  ]\n}",
              "type": "dataframe"
            },
            "text/html": [
              "\n",
              "  <div id=\"df-23ae5eb7-851f-4a4b-8186-92972344cf62\" class=\"colab-df-container\">\n",
              "    <div>\n",
              "<style scoped>\n",
              "    .dataframe tbody tr th:only-of-type {\n",
              "        vertical-align: middle;\n",
              "    }\n",
              "\n",
              "    .dataframe tbody tr th {\n",
              "        vertical-align: top;\n",
              "    }\n",
              "\n",
              "    .dataframe thead th {\n",
              "        text-align: right;\n",
              "    }\n",
              "</style>\n",
              "<table border=\"1\" class=\"dataframe\">\n",
              "  <thead>\n",
              "    <tr style=\"text-align: right;\">\n",
              "      <th></th>\n",
              "      <th>mean</th>\n",
              "      <th>median</th>\n",
              "    </tr>\n",
              "    <tr>\n",
              "      <th>typeface</th>\n",
              "      <th></th>\n",
              "      <th></th>\n",
              "    </tr>\n",
              "  </thead>\n",
              "  <tbody>\n",
              "    <tr>\n",
              "      <th>display</th>\n",
              "      <td>0.577296</td>\n",
              "      <td>0.345773</td>\n",
              "    </tr>\n",
              "    <tr>\n",
              "      <th>serif</th>\n",
              "      <td>0.781032</td>\n",
              "      <td>0.548321</td>\n",
              "    </tr>\n",
              "  </tbody>\n",
              "</table>\n",
              "</div>\n",
              "    <div class=\"colab-df-buttons\">\n",
              "\n",
              "  <div class=\"colab-df-container\">\n",
              "    <button class=\"colab-df-convert\" onclick=\"convertToInteractive('df-23ae5eb7-851f-4a4b-8186-92972344cf62')\"\n",
              "            title=\"Convert this dataframe to an interactive table.\"\n",
              "            style=\"display:none;\">\n",
              "\n",
              "  <svg xmlns=\"http://www.w3.org/2000/svg\" height=\"24px\" viewBox=\"0 -960 960 960\">\n",
              "    <path d=\"M120-120v-720h720v720H120Zm60-500h600v-160H180v160Zm220 220h160v-160H400v160Zm0 220h160v-160H400v160ZM180-400h160v-160H180v160Zm440 0h160v-160H620v160ZM180-180h160v-160H180v160Zm440 0h160v-160H620v160Z\"/>\n",
              "  </svg>\n",
              "    </button>\n",
              "\n",
              "  <style>\n",
              "    .colab-df-container {\n",
              "      display:flex;\n",
              "      gap: 12px;\n",
              "    }\n",
              "\n",
              "    .colab-df-convert {\n",
              "      background-color: #E8F0FE;\n",
              "      border: none;\n",
              "      border-radius: 50%;\n",
              "      cursor: pointer;\n",
              "      display: none;\n",
              "      fill: #1967D2;\n",
              "      height: 32px;\n",
              "      padding: 0 0 0 0;\n",
              "      width: 32px;\n",
              "    }\n",
              "\n",
              "    .colab-df-convert:hover {\n",
              "      background-color: #E2EBFA;\n",
              "      box-shadow: 0px 1px 2px rgba(60, 64, 67, 0.3), 0px 1px 3px 1px rgba(60, 64, 67, 0.15);\n",
              "      fill: #174EA6;\n",
              "    }\n",
              "\n",
              "    .colab-df-buttons div {\n",
              "      margin-bottom: 4px;\n",
              "    }\n",
              "\n",
              "    [theme=dark] .colab-df-convert {\n",
              "      background-color: #3B4455;\n",
              "      fill: #D2E3FC;\n",
              "    }\n",
              "\n",
              "    [theme=dark] .colab-df-convert:hover {\n",
              "      background-color: #434B5C;\n",
              "      box-shadow: 0px 1px 3px 1px rgba(0, 0, 0, 0.15);\n",
              "      filter: drop-shadow(0px 1px 2px rgba(0, 0, 0, 0.3));\n",
              "      fill: #FFFFFF;\n",
              "    }\n",
              "  </style>\n",
              "\n",
              "    <script>\n",
              "      const buttonEl =\n",
              "        document.querySelector('#df-23ae5eb7-851f-4a4b-8186-92972344cf62 button.colab-df-convert');\n",
              "      buttonEl.style.display =\n",
              "        google.colab.kernel.accessAllowed ? 'block' : 'none';\n",
              "\n",
              "      async function convertToInteractive(key) {\n",
              "        const element = document.querySelector('#df-23ae5eb7-851f-4a4b-8186-92972344cf62');\n",
              "        const dataTable =\n",
              "          await google.colab.kernel.invokeFunction('convertToInteractive',\n",
              "                                                    [key], {});\n",
              "        if (!dataTable) return;\n",
              "\n",
              "        const docLinkHtml = 'Like what you see? Visit the ' +\n",
              "          '<a target=\"_blank\" href=https://colab.research.google.com/notebooks/data_table.ipynb>data table notebook</a>'\n",
              "          + ' to learn more about interactive tables.';\n",
              "        element.innerHTML = '';\n",
              "        dataTable['output_type'] = 'display_data';\n",
              "        await google.colab.output.renderOutput(dataTable, element);\n",
              "        const docLink = document.createElement('div');\n",
              "        docLink.innerHTML = docLinkHtml;\n",
              "        element.appendChild(docLink);\n",
              "      }\n",
              "    </script>\n",
              "  </div>\n",
              "\n",
              "\n",
              "<div id=\"df-b564c02d-8cfa-4d6a-8025-8ae6343e107d\">\n",
              "  <button class=\"colab-df-quickchart\" onclick=\"quickchart('df-b564c02d-8cfa-4d6a-8025-8ae6343e107d')\"\n",
              "            title=\"Suggest charts\"\n",
              "            style=\"display:none;\">\n",
              "\n",
              "<svg xmlns=\"http://www.w3.org/2000/svg\" height=\"24px\"viewBox=\"0 0 24 24\"\n",
              "     width=\"24px\">\n",
              "    <g>\n",
              "        <path d=\"M19 3H5c-1.1 0-2 .9-2 2v14c0 1.1.9 2 2 2h14c1.1 0 2-.9 2-2V5c0-1.1-.9-2-2-2zM9 17H7v-7h2v7zm4 0h-2V7h2v10zm4 0h-2v-4h2v4z\"/>\n",
              "    </g>\n",
              "</svg>\n",
              "  </button>\n",
              "\n",
              "<style>\n",
              "  .colab-df-quickchart {\n",
              "      --bg-color: #E8F0FE;\n",
              "      --fill-color: #1967D2;\n",
              "      --hover-bg-color: #E2EBFA;\n",
              "      --hover-fill-color: #174EA6;\n",
              "      --disabled-fill-color: #AAA;\n",
              "      --disabled-bg-color: #DDD;\n",
              "  }\n",
              "\n",
              "  [theme=dark] .colab-df-quickchart {\n",
              "      --bg-color: #3B4455;\n",
              "      --fill-color: #D2E3FC;\n",
              "      --hover-bg-color: #434B5C;\n",
              "      --hover-fill-color: #FFFFFF;\n",
              "      --disabled-bg-color: #3B4455;\n",
              "      --disabled-fill-color: #666;\n",
              "  }\n",
              "\n",
              "  .colab-df-quickchart {\n",
              "    background-color: var(--bg-color);\n",
              "    border: none;\n",
              "    border-radius: 50%;\n",
              "    cursor: pointer;\n",
              "    display: none;\n",
              "    fill: var(--fill-color);\n",
              "    height: 32px;\n",
              "    padding: 0;\n",
              "    width: 32px;\n",
              "  }\n",
              "\n",
              "  .colab-df-quickchart:hover {\n",
              "    background-color: var(--hover-bg-color);\n",
              "    box-shadow: 0 1px 2px rgba(60, 64, 67, 0.3), 0 1px 3px 1px rgba(60, 64, 67, 0.15);\n",
              "    fill: var(--button-hover-fill-color);\n",
              "  }\n",
              "\n",
              "  .colab-df-quickchart-complete:disabled,\n",
              "  .colab-df-quickchart-complete:disabled:hover {\n",
              "    background-color: var(--disabled-bg-color);\n",
              "    fill: var(--disabled-fill-color);\n",
              "    box-shadow: none;\n",
              "  }\n",
              "\n",
              "  .colab-df-spinner {\n",
              "    border: 2px solid var(--fill-color);\n",
              "    border-color: transparent;\n",
              "    border-bottom-color: var(--fill-color);\n",
              "    animation:\n",
              "      spin 1s steps(1) infinite;\n",
              "  }\n",
              "\n",
              "  @keyframes spin {\n",
              "    0% {\n",
              "      border-color: transparent;\n",
              "      border-bottom-color: var(--fill-color);\n",
              "      border-left-color: var(--fill-color);\n",
              "    }\n",
              "    20% {\n",
              "      border-color: transparent;\n",
              "      border-left-color: var(--fill-color);\n",
              "      border-top-color: var(--fill-color);\n",
              "    }\n",
              "    30% {\n",
              "      border-color: transparent;\n",
              "      border-left-color: var(--fill-color);\n",
              "      border-top-color: var(--fill-color);\n",
              "      border-right-color: var(--fill-color);\n",
              "    }\n",
              "    40% {\n",
              "      border-color: transparent;\n",
              "      border-right-color: var(--fill-color);\n",
              "      border-top-color: var(--fill-color);\n",
              "    }\n",
              "    60% {\n",
              "      border-color: transparent;\n",
              "      border-right-color: var(--fill-color);\n",
              "    }\n",
              "    80% {\n",
              "      border-color: transparent;\n",
              "      border-right-color: var(--fill-color);\n",
              "      border-bottom-color: var(--fill-color);\n",
              "    }\n",
              "    90% {\n",
              "      border-color: transparent;\n",
              "      border-bottom-color: var(--fill-color);\n",
              "    }\n",
              "  }\n",
              "</style>\n",
              "\n",
              "  <script>\n",
              "    async function quickchart(key) {\n",
              "      const quickchartButtonEl =\n",
              "        document.querySelector('#' + key + ' button');\n",
              "      quickchartButtonEl.disabled = true;  // To prevent multiple clicks.\n",
              "      quickchartButtonEl.classList.add('colab-df-spinner');\n",
              "      try {\n",
              "        const charts = await google.colab.kernel.invokeFunction(\n",
              "            'suggestCharts', [key], {});\n",
              "      } catch (error) {\n",
              "        console.error('Error during call to suggestCharts:', error);\n",
              "      }\n",
              "      quickchartButtonEl.classList.remove('colab-df-spinner');\n",
              "      quickchartButtonEl.classList.add('colab-df-quickchart-complete');\n",
              "    }\n",
              "    (() => {\n",
              "      let quickchartButtonEl =\n",
              "        document.querySelector('#df-b564c02d-8cfa-4d6a-8025-8ae6343e107d button');\n",
              "      quickchartButtonEl.style.display =\n",
              "        google.colab.kernel.accessAllowed ? 'block' : 'none';\n",
              "    })();\n",
              "  </script>\n",
              "</div>\n",
              "\n",
              "    </div>\n",
              "  </div>\n"
            ],
            "text/plain": [
              "              mean    median\n",
              "typeface                    \n",
              "display   0.577296  0.345773\n",
              "serif     0.781032  0.548321"
            ]
          },
          "execution_count": 19,
          "metadata": {},
          "output_type": "execute_result"
        }
      ],
      "source": [
        "szs = [8, 18, 24, 36, 76, 240, 330, 420]\n",
        "ts = ['display', 'serif']\n",
        "res = []\n",
        "\n",
        "for t in ts:\n",
        "    for sz in szs:\n",
        "        image_path = f\"{t}-{sz}px.png\"\n",
        "        sr = contour_ratio(image_path)\n",
        "        res.append([t, sz, sr])\n",
        "\n",
        "res = pd.DataFrame(res, columns=['typeface', 'font-size', 'contour-ratio'])\n",
        "res.groupby('typeface')['contour-ratio'].agg(['mean', 'median'])"
      ]
    },
    {
      "cell_type": "markdown",
      "metadata": {
        "id": "ULDt0RFBUgRH"
      },
      "source": [
        "For all font sizes (except 72px) this trend is evident: the serif texts have a larger perimeter:area ratio than the sans serif `display` texts."
      ]
    },
    {
      "cell_type": "code",
      "execution_count": 20,
      "metadata": {
        "colab": {
          "base_uri": "https://localhost:8080/",
          "height": 551
        },
        "id": "BDm7iHkOUFgK",
        "outputId": "78911451-6fff-447a-fe1e-624e793c9f40"
      },
      "outputs": [
        {
          "data": {
            "application/vnd.google.colaboratory.intrinsic+json": {
              "summary": "{\n  \"name\": \"res\",\n  \"rows\": 16,\n  \"fields\": [\n    {\n      \"column\": \"typeface\",\n      \"properties\": {\n        \"dtype\": \"category\",\n        \"num_unique_values\": 2,\n        \"samples\": [\n          \"serif\",\n          \"display\"\n        ],\n        \"semantic_type\": \"\",\n        \"description\": \"\"\n      }\n    },\n    {\n      \"column\": \"font-size\",\n      \"properties\": {\n        \"dtype\": \"number\",\n        \"std\": 157,\n        \"min\": 8,\n        \"max\": 420,\n        \"num_unique_values\": 8,\n        \"samples\": [\n          18,\n          240\n        ],\n        \"semantic_type\": \"\",\n        \"description\": \"\"\n      }\n    },\n    {\n      \"column\": \"contour-ratio\",\n      \"properties\": {\n        \"dtype\": \"number\",\n        \"std\": 0.7208591215107908,\n        \"min\": 0.03237404701598602,\n        \"max\": 2.218431474972805,\n        \"num_unique_values\": 16,\n        \"samples\": [\n          2.050135028008531,\n          2.218431474972805\n        ],\n        \"semantic_type\": \"\",\n        \"description\": \"\"\n      }\n    }\n  ]\n}",
              "type": "dataframe"
            },
            "text/html": [
              "\n",
              "  <div id=\"df-7a0f8b1b-0611-4fea-9ecc-1fd31796c8c7\" class=\"colab-df-container\">\n",
              "    <div>\n",
              "<style scoped>\n",
              "    .dataframe tbody tr th:only-of-type {\n",
              "        vertical-align: middle;\n",
              "    }\n",
              "\n",
              "    .dataframe tbody tr th {\n",
              "        vertical-align: top;\n",
              "    }\n",
              "\n",
              "    .dataframe thead th {\n",
              "        text-align: right;\n",
              "    }\n",
              "</style>\n",
              "<table border=\"1\" class=\"dataframe\">\n",
              "  <thead>\n",
              "    <tr style=\"text-align: right;\">\n",
              "      <th></th>\n",
              "      <th>typeface</th>\n",
              "      <th>font-size</th>\n",
              "      <th>contour-ratio</th>\n",
              "    </tr>\n",
              "  </thead>\n",
              "  <tbody>\n",
              "    <tr>\n",
              "      <th>0</th>\n",
              "      <td>display</td>\n",
              "      <td>8</td>\n",
              "      <td>2.050135</td>\n",
              "    </tr>\n",
              "    <tr>\n",
              "      <th>8</th>\n",
              "      <td>serif</td>\n",
              "      <td>8</td>\n",
              "      <td>2.218431</td>\n",
              "    </tr>\n",
              "    <tr>\n",
              "      <th>1</th>\n",
              "      <td>display</td>\n",
              "      <td>18</td>\n",
              "      <td>0.992742</td>\n",
              "    </tr>\n",
              "    <tr>\n",
              "      <th>9</th>\n",
              "      <td>serif</td>\n",
              "      <td>18</td>\n",
              "      <td>1.530445</td>\n",
              "    </tr>\n",
              "    <tr>\n",
              "      <th>2</th>\n",
              "      <td>display</td>\n",
              "      <td>24</td>\n",
              "      <td>0.730834</td>\n",
              "    </tr>\n",
              "    <tr>\n",
              "      <th>10</th>\n",
              "      <td>serif</td>\n",
              "      <td>24</td>\n",
              "      <td>1.106150</td>\n",
              "    </tr>\n",
              "    <tr>\n",
              "      <th>3</th>\n",
              "      <td>display</td>\n",
              "      <td>36</td>\n",
              "      <td>0.459297</td>\n",
              "    </tr>\n",
              "    <tr>\n",
              "      <th>11</th>\n",
              "      <td>serif</td>\n",
              "      <td>36</td>\n",
              "      <td>0.721613</td>\n",
              "    </tr>\n",
              "    <tr>\n",
              "      <th>4</th>\n",
              "      <td>display</td>\n",
              "      <td>76</td>\n",
              "      <td>0.232250</td>\n",
              "    </tr>\n",
              "    <tr>\n",
              "      <th>12</th>\n",
              "      <td>serif</td>\n",
              "      <td>76</td>\n",
              "      <td>0.375030</td>\n",
              "    </tr>\n",
              "    <tr>\n",
              "      <th>5</th>\n",
              "      <td>display</td>\n",
              "      <td>240</td>\n",
              "      <td>0.074272</td>\n",
              "    </tr>\n",
              "    <tr>\n",
              "      <th>13</th>\n",
              "      <td>serif</td>\n",
              "      <td>240</td>\n",
              "      <td>0.115825</td>\n",
              "    </tr>\n",
              "    <tr>\n",
              "      <th>6</th>\n",
              "      <td>display</td>\n",
              "      <td>330</td>\n",
              "      <td>0.046465</td>\n",
              "    </tr>\n",
              "    <tr>\n",
              "      <th>14</th>\n",
              "      <td>serif</td>\n",
              "      <td>330</td>\n",
              "      <td>0.084438</td>\n",
              "    </tr>\n",
              "    <tr>\n",
              "      <th>7</th>\n",
              "      <td>display</td>\n",
              "      <td>420</td>\n",
              "      <td>0.032374</td>\n",
              "    </tr>\n",
              "    <tr>\n",
              "      <th>15</th>\n",
              "      <td>serif</td>\n",
              "      <td>420</td>\n",
              "      <td>0.096324</td>\n",
              "    </tr>\n",
              "  </tbody>\n",
              "</table>\n",
              "</div>\n",
              "    <div class=\"colab-df-buttons\">\n",
              "\n",
              "  <div class=\"colab-df-container\">\n",
              "    <button class=\"colab-df-convert\" onclick=\"convertToInteractive('df-7a0f8b1b-0611-4fea-9ecc-1fd31796c8c7')\"\n",
              "            title=\"Convert this dataframe to an interactive table.\"\n",
              "            style=\"display:none;\">\n",
              "\n",
              "  <svg xmlns=\"http://www.w3.org/2000/svg\" height=\"24px\" viewBox=\"0 -960 960 960\">\n",
              "    <path d=\"M120-120v-720h720v720H120Zm60-500h600v-160H180v160Zm220 220h160v-160H400v160Zm0 220h160v-160H400v160ZM180-400h160v-160H180v160Zm440 0h160v-160H620v160ZM180-180h160v-160H180v160Zm440 0h160v-160H620v160Z\"/>\n",
              "  </svg>\n",
              "    </button>\n",
              "\n",
              "  <style>\n",
              "    .colab-df-container {\n",
              "      display:flex;\n",
              "      gap: 12px;\n",
              "    }\n",
              "\n",
              "    .colab-df-convert {\n",
              "      background-color: #E8F0FE;\n",
              "      border: none;\n",
              "      border-radius: 50%;\n",
              "      cursor: pointer;\n",
              "      display: none;\n",
              "      fill: #1967D2;\n",
              "      height: 32px;\n",
              "      padding: 0 0 0 0;\n",
              "      width: 32px;\n",
              "    }\n",
              "\n",
              "    .colab-df-convert:hover {\n",
              "      background-color: #E2EBFA;\n",
              "      box-shadow: 0px 1px 2px rgba(60, 64, 67, 0.3), 0px 1px 3px 1px rgba(60, 64, 67, 0.15);\n",
              "      fill: #174EA6;\n",
              "    }\n",
              "\n",
              "    .colab-df-buttons div {\n",
              "      margin-bottom: 4px;\n",
              "    }\n",
              "\n",
              "    [theme=dark] .colab-df-convert {\n",
              "      background-color: #3B4455;\n",
              "      fill: #D2E3FC;\n",
              "    }\n",
              "\n",
              "    [theme=dark] .colab-df-convert:hover {\n",
              "      background-color: #434B5C;\n",
              "      box-shadow: 0px 1px 3px 1px rgba(0, 0, 0, 0.15);\n",
              "      filter: drop-shadow(0px 1px 2px rgba(0, 0, 0, 0.3));\n",
              "      fill: #FFFFFF;\n",
              "    }\n",
              "  </style>\n",
              "\n",
              "    <script>\n",
              "      const buttonEl =\n",
              "        document.querySelector('#df-7a0f8b1b-0611-4fea-9ecc-1fd31796c8c7 button.colab-df-convert');\n",
              "      buttonEl.style.display =\n",
              "        google.colab.kernel.accessAllowed ? 'block' : 'none';\n",
              "\n",
              "      async function convertToInteractive(key) {\n",
              "        const element = document.querySelector('#df-7a0f8b1b-0611-4fea-9ecc-1fd31796c8c7');\n",
              "        const dataTable =\n",
              "          await google.colab.kernel.invokeFunction('convertToInteractive',\n",
              "                                                    [key], {});\n",
              "        if (!dataTable) return;\n",
              "\n",
              "        const docLinkHtml = 'Like what you see? Visit the ' +\n",
              "          '<a target=\"_blank\" href=https://colab.research.google.com/notebooks/data_table.ipynb>data table notebook</a>'\n",
              "          + ' to learn more about interactive tables.';\n",
              "        element.innerHTML = '';\n",
              "        dataTable['output_type'] = 'display_data';\n",
              "        await google.colab.output.renderOutput(dataTable, element);\n",
              "        const docLink = document.createElement('div');\n",
              "        docLink.innerHTML = docLinkHtml;\n",
              "        element.appendChild(docLink);\n",
              "      }\n",
              "    </script>\n",
              "  </div>\n",
              "\n",
              "\n",
              "<div id=\"df-1958de3b-9d38-4bec-a8c2-d37389f55673\">\n",
              "  <button class=\"colab-df-quickchart\" onclick=\"quickchart('df-1958de3b-9d38-4bec-a8c2-d37389f55673')\"\n",
              "            title=\"Suggest charts\"\n",
              "            style=\"display:none;\">\n",
              "\n",
              "<svg xmlns=\"http://www.w3.org/2000/svg\" height=\"24px\"viewBox=\"0 0 24 24\"\n",
              "     width=\"24px\">\n",
              "    <g>\n",
              "        <path d=\"M19 3H5c-1.1 0-2 .9-2 2v14c0 1.1.9 2 2 2h14c1.1 0 2-.9 2-2V5c0-1.1-.9-2-2-2zM9 17H7v-7h2v7zm4 0h-2V7h2v10zm4 0h-2v-4h2v4z\"/>\n",
              "    </g>\n",
              "</svg>\n",
              "  </button>\n",
              "\n",
              "<style>\n",
              "  .colab-df-quickchart {\n",
              "      --bg-color: #E8F0FE;\n",
              "      --fill-color: #1967D2;\n",
              "      --hover-bg-color: #E2EBFA;\n",
              "      --hover-fill-color: #174EA6;\n",
              "      --disabled-fill-color: #AAA;\n",
              "      --disabled-bg-color: #DDD;\n",
              "  }\n",
              "\n",
              "  [theme=dark] .colab-df-quickchart {\n",
              "      --bg-color: #3B4455;\n",
              "      --fill-color: #D2E3FC;\n",
              "      --hover-bg-color: #434B5C;\n",
              "      --hover-fill-color: #FFFFFF;\n",
              "      --disabled-bg-color: #3B4455;\n",
              "      --disabled-fill-color: #666;\n",
              "  }\n",
              "\n",
              "  .colab-df-quickchart {\n",
              "    background-color: var(--bg-color);\n",
              "    border: none;\n",
              "    border-radius: 50%;\n",
              "    cursor: pointer;\n",
              "    display: none;\n",
              "    fill: var(--fill-color);\n",
              "    height: 32px;\n",
              "    padding: 0;\n",
              "    width: 32px;\n",
              "  }\n",
              "\n",
              "  .colab-df-quickchart:hover {\n",
              "    background-color: var(--hover-bg-color);\n",
              "    box-shadow: 0 1px 2px rgba(60, 64, 67, 0.3), 0 1px 3px 1px rgba(60, 64, 67, 0.15);\n",
              "    fill: var(--button-hover-fill-color);\n",
              "  }\n",
              "\n",
              "  .colab-df-quickchart-complete:disabled,\n",
              "  .colab-df-quickchart-complete:disabled:hover {\n",
              "    background-color: var(--disabled-bg-color);\n",
              "    fill: var(--disabled-fill-color);\n",
              "    box-shadow: none;\n",
              "  }\n",
              "\n",
              "  .colab-df-spinner {\n",
              "    border: 2px solid var(--fill-color);\n",
              "    border-color: transparent;\n",
              "    border-bottom-color: var(--fill-color);\n",
              "    animation:\n",
              "      spin 1s steps(1) infinite;\n",
              "  }\n",
              "\n",
              "  @keyframes spin {\n",
              "    0% {\n",
              "      border-color: transparent;\n",
              "      border-bottom-color: var(--fill-color);\n",
              "      border-left-color: var(--fill-color);\n",
              "    }\n",
              "    20% {\n",
              "      border-color: transparent;\n",
              "      border-left-color: var(--fill-color);\n",
              "      border-top-color: var(--fill-color);\n",
              "    }\n",
              "    30% {\n",
              "      border-color: transparent;\n",
              "      border-left-color: var(--fill-color);\n",
              "      border-top-color: var(--fill-color);\n",
              "      border-right-color: var(--fill-color);\n",
              "    }\n",
              "    40% {\n",
              "      border-color: transparent;\n",
              "      border-right-color: var(--fill-color);\n",
              "      border-top-color: var(--fill-color);\n",
              "    }\n",
              "    60% {\n",
              "      border-color: transparent;\n",
              "      border-right-color: var(--fill-color);\n",
              "    }\n",
              "    80% {\n",
              "      border-color: transparent;\n",
              "      border-right-color: var(--fill-color);\n",
              "      border-bottom-color: var(--fill-color);\n",
              "    }\n",
              "    90% {\n",
              "      border-color: transparent;\n",
              "      border-bottom-color: var(--fill-color);\n",
              "    }\n",
              "  }\n",
              "</style>\n",
              "\n",
              "  <script>\n",
              "    async function quickchart(key) {\n",
              "      const quickchartButtonEl =\n",
              "        document.querySelector('#' + key + ' button');\n",
              "      quickchartButtonEl.disabled = true;  // To prevent multiple clicks.\n",
              "      quickchartButtonEl.classList.add('colab-df-spinner');\n",
              "      try {\n",
              "        const charts = await google.colab.kernel.invokeFunction(\n",
              "            'suggestCharts', [key], {});\n",
              "      } catch (error) {\n",
              "        console.error('Error during call to suggestCharts:', error);\n",
              "      }\n",
              "      quickchartButtonEl.classList.remove('colab-df-spinner');\n",
              "      quickchartButtonEl.classList.add('colab-df-quickchart-complete');\n",
              "    }\n",
              "    (() => {\n",
              "      let quickchartButtonEl =\n",
              "        document.querySelector('#df-1958de3b-9d38-4bec-a8c2-d37389f55673 button');\n",
              "      quickchartButtonEl.style.display =\n",
              "        google.colab.kernel.accessAllowed ? 'block' : 'none';\n",
              "    })();\n",
              "  </script>\n",
              "</div>\n",
              "\n",
              "    </div>\n",
              "  </div>\n"
            ],
            "text/plain": [
              "   typeface  font-size  contour-ratio\n",
              "0   display          8       2.050135\n",
              "8     serif          8       2.218431\n",
              "1   display         18       0.992742\n",
              "9     serif         18       1.530445\n",
              "2   display         24       0.730834\n",
              "10    serif         24       1.106150\n",
              "3   display         36       0.459297\n",
              "11    serif         36       0.721613\n",
              "4   display         76       0.232250\n",
              "12    serif         76       0.375030\n",
              "5   display        240       0.074272\n",
              "13    serif        240       0.115825\n",
              "6   display        330       0.046465\n",
              "14    serif        330       0.084438\n",
              "7   display        420       0.032374\n",
              "15    serif        420       0.096324"
            ]
          },
          "execution_count": 20,
          "metadata": {},
          "output_type": "execute_result"
        }
      ],
      "source": [
        "res.sort_values(by='font-size')"
      ]
    },
    {
      "cell_type": "markdown",
      "metadata": {
        "id": "quz1vjbcUx_4"
      },
      "source": [
        "## Final Thoughts"
      ]
    },
    {
      "cell_type": "markdown",
      "metadata": {
        "id": "-iOuRx4YUzNT"
      },
      "source": [
        "Among the algorithms I've tested, this one demonstrates the highest consistency in differentiating typefaces, regardless of font size, making it a great candidate for a non-ML typeface classification baseline.\n",
        "\n",
        "I'm also a huge fan of simplicity and this is one of the simplest algorithms for this task that I have implemented. A win-win!\n",
        "\n",
        "I hope you enjoyed this blog post. Follow me on Twitter [@vishal_learner](https://twitter.com/vishal_learner)."
      ]
    }
  ],
  "metadata": {
    "colab": {
      "provenance": []
    },
    "kernelspec": {
      "display_name": "Python 3",
      "name": "python3"
    },
    "language_info": {
      "name": "python"
    }
  },
  "nbformat": 4,
  "nbformat_minor": 0
}

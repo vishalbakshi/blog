{
  "cells": [
    {
      "cell_type": "raw",
      "metadata": {
        "vscode": {
          "languageId": "raw"
        }
      },
      "source": [
        "---\n",
        "title: TinyScale Lab Update&#58; Setting Eval Targets and Generating Completions for LLM Judge Development\n",
        "date: \"2025-04-27\"\n",
        "author: Vishal Bakshi\n",
        "description: In this TinyScale Lab update, I tackle how to evaluate language models before building them. Using the TinyStories paper, I set target scores for my upcoming 5M-125M parameter models and generate reference completions using existing TinyStories models (1M, 8M, 28M).\n",
        "filters:\n",
        "   - lightbox\n",
        "lightbox: auto\n",
        "categories:\n",
        "    - LLM\n",
        "    - deep learning\n",
        "    - TinyScale-Lab\n",
        "---"
      ]
    },
    {
      "cell_type": "markdown",
      "metadata": {
        "id": "A3JEfCThhSir"
      },
      "source": [
        "## Background"
      ]
    },
    {
      "cell_type": "markdown",
      "metadata": {
        "id": "1-6PMMFhhVtv"
      },
      "source": [
        "In this notebook I'm going to generate story completions using the TinyStories 1M, 8M, 28M models. The actual HF model size for these models is 3.7M, 19.7M and 52M, respectively. Since I'm training 5M, 25M, 60M and 125M models, these three TinyStories models will serve as proxies for my first three sizes, and I will expect my 125M model to generate stories that receive higher scores than my 60M (by how much higher is TBD).\n",
        "\n",
        "Ronen Eldan, the TinyStories paper author, has listed on [this HF model card discussion forum](https://huggingface.co/roneneldan/TinyStories-33M/discussions/9#64f94b050a2884a831b29eb6):\n",
        "\n",
        " > we used temp=0, beams=5\n",
        "\n",
        " So I'll be using those two settings during inference."
      ]
    },
    {
      "cell_type": "markdown",
      "metadata": {
        "id": "qJsHCUYUiPi3"
      },
      "source": [
        "Here are some key architectural details for my initial quick-and-dirty models:\n",
        "\n",
        "|Model Name|Hidden Dim|Intermediate Dim|Number of Layers|Number of Params|\n",
        "|:-:|:-:|:-:|:-:|:-:|\n",
        "|5M|64|256|13|4_949_696\n",
        "|25M|256|1024|8|24_776_960\n",
        "|60M|512|2048|6|57_940_480\n",
        "|125M|768|3072|8|124_662_528"
      ]
    },
    {
      "cell_type": "markdown",
      "metadata": {
        "id": "NCyzAKmkkgGa"
      },
      "source": [
        "Here are my initial scoring categories, based on type of language model capability:\n",
        "\n",
        "- **Foundational language capabilities**: Grammar and Context-Tracking (Consistency)\n",
        "- **Emergent capabilities**: Factual Knowledge, Reasoning, Creativity\n",
        "- **Story-related capabilities**: Plot"
      ]
    },
    {
      "cell_type": "markdown",
      "metadata": {
        "id": "OxQX787PikJJ"
      },
      "source": [
        "Referencing Figure 4 in the [TinyStories paper](https://arxiv.org/abs/2305.07759) I would expect to achieve LLM Judge for these models close to the following (TSL = TinyScale Lab):\n",
        "\n",
        "|Similar to|Hidden Dim|Num Layers|Eval Loss|Creativity|Grammar|Consistency|Plot|\n",
        "|:-:|:-:|:-:|:-:|:-:|:-:|:-:|:-:|\n",
        "|TSL-5M|64|12|2.02|4.84|6.19|4.75|4.39|\n",
        "|TSL-25M|256|8|1.38|6.54|7.72|8.02|7.23|\n",
        "|TSL-60M|512|Average of 4 and 8 scores|1.23|6.8|8.35|8.7|7.31|\n",
        "|TSL-125M|768|8|1.18|7.02|8.62|9.34|7.34|"
      ]
    },
    {
      "cell_type": "markdown",
      "metadata": {
        "id": "AFLfLG4JlNq3"
      },
      "source": [
        "Mapping the Figure 4 scores to the official 1M, 8M and 28M models directly:\n",
        "\n"
      ]
    },
    {
      "cell_type": "markdown",
      "metadata": {
        "id": "-LeCBPH-lU0z"
      },
      "source": [
        "|TinyStories|Hidden Dim|Num Layers|Eval Loss|Creativity|Grammar|Consistency|Plot|\n",
        "|:-:|:-:|:-:|:-:|:-:|:-:|:-:|:-:|\n",
        "|1M|64|8|2.08|4.68|6.14|4.45|4.40|\n",
        "|8M|256|8|1.38|6.54|7.72|8.02|7.23|\n",
        "|28M|512|8|1.20|6.85|8.34|8.95|7.26|"
      ]
    },
    {
      "cell_type": "markdown",
      "metadata": {
        "id": "iQo9WFYolA8t"
      },
      "source": [
        "The two scoring categories I'm using that are not assessed quantitatively in the TinyStories paper: Factual Knowledge and Reasoning. If my LLM Judge scores match Figure 4 for the other four categories and match my manual evaluations for all six categories, I should expect the LLM Judge to assess these two categories correctly."
      ]
    },
    {
      "cell_type": "markdown",
      "metadata": {
        "id": "aezP1G05on5O"
      },
      "source": [
        "## Evaluation Prompts"
      ]
    },
    {
      "cell_type": "markdown",
      "metadata": {
        "id": "TQslsj_Frlfc"
      },
      "source": [
        "Lucky for me, the TinyStories authors have published their [evaluation prompts](https://huggingface.co/datasets/roneneldan/TinyStories/blob/main/Evaluation%20prompts.yaml)."
      ]
    },
    {
      "cell_type": "code",
      "execution_count": 1,
      "metadata": {
        "colab": {
          "base_uri": "https://localhost:8080/"
        },
        "id": "W0OpJtc_fxeQ",
        "outputId": "6457a149-b8a1-44fe-9171-592115dbf3af"
      },
      "outputs": [
        {
          "data": {
            "text/plain": [
              "44"
            ]
          },
          "execution_count": 1,
          "metadata": {},
          "output_type": "execute_result"
        }
      ],
      "source": [
        "import requests\n",
        "import yaml\n",
        "url = \"https://huggingface.co/datasets/roneneldan/TinyStories/raw/main/Evaluation%20prompts.yaml\"\n",
        "response = requests.get(url)\n",
        "data = yaml.safe_load(response.text)\n",
        "len(data)"
      ]
    },
    {
      "cell_type": "code",
      "execution_count": 2,
      "metadata": {
        "colab": {
          "base_uri": "https://localhost:8080/",
          "height": 53
        },
        "id": "7onlrRSFsBET",
        "outputId": "c65bbed1-af12-43b2-98a4-a8a702fa16e4"
      },
      "outputs": [
        {
          "data": {
            "application/vnd.google.colaboratory.intrinsic+json": {
              "type": "string"
            },
            "text/plain": [
              "\"Once upon a time, there lived a bunny in a field. Her name was Lucy. Lucy loved to have feasts and parties with her bunny friends. One day, when Lucy was about to leave for a feast at a friend's house, she realized she's starting to feel sick. She was so weak she could\""
            ]
          },
          "execution_count": 2,
          "metadata": {},
          "output_type": "execute_result"
        }
      ],
      "source": [
        "data[0]"
      ]
    },
    {
      "cell_type": "markdown",
      "metadata": {
        "id": "V0AqAeMgOIa_"
      },
      "source": [
        "## Generating Story Completions"
      ]
    },
    {
      "cell_type": "markdown",
      "metadata": {
        "id": "SHMlrF6JOKg4"
      },
      "source": [
        "I'll walk through some basic generation code to make sure it works before I apply it to the full dataset."
      ]
    },
    {
      "cell_type": "code",
      "execution_count": 50,
      "metadata": {
        "id": "gQl-M7VLsFw-"
      },
      "outputs": [],
      "source": [
        "from transformers import AutoTokenizer, AutoModelForCausalLM\n",
        "import torch\n",
        "import pandas as pd"
      ]
    },
    {
      "cell_type": "code",
      "execution_count": null,
      "metadata": {
        "id": "BQSu4p-2tP2P"
      },
      "outputs": [],
      "source": [
        "model = AutoModelForCausalLM.from_pretrained(\"roneneldan/TinyStories-1M\").to(\"cuda\")\n",
        "tokz = AutoTokenizer.from_pretrained(\"roneneldan/TinyStories-1M\")\n",
        "tokz.pad_token_id"
      ]
    },
    {
      "cell_type": "code",
      "execution_count": 5,
      "metadata": {
        "id": "8u1TxBPr0T2K"
      },
      "outputs": [],
      "source": [
        "tokz.pad_token = tokz.eos_token"
      ]
    },
    {
      "cell_type": "markdown",
      "metadata": {
        "id": "K1Otreza1KmM"
      },
      "source": [
        "To my knowledge, you want tokz.padding_side to be \"left\" during batched inference, and the default here is \"right\". Examples of difference shown for batched prompts. Padding right starts the next token prediction with the pad token, padding left with the last tok in prompt."
      ]
    },
    {
      "cell_type": "code",
      "execution_count": 6,
      "metadata": {
        "colab": {
          "base_uri": "https://localhost:8080/"
        },
        "id": "ulzlnFTMurN0",
        "outputId": "91b9d304-8ca3-4080-a601-60ec83e1e0a6"
      },
      "outputs": [
        {
          "data": {
            "text/plain": [
              "(50256, 50256, 50256, 'right')"
            ]
          },
          "execution_count": 6,
          "metadata": {},
          "output_type": "execute_result"
        }
      ],
      "source": [
        "tokz.bos_token_id, tokz.eos_token_id, tokz.pad_token_id, tokz.padding_side"
      ]
    },
    {
      "cell_type": "code",
      "execution_count": 7,
      "metadata": {
        "colab": {
          "base_uri": "https://localhost:8080/",
          "height": 105
        },
        "id": "-tB_EPRVzTfH",
        "outputId": "cf22cd11-a1b7-4458-e2f4-a8fc94b411b1"
      },
      "outputs": [
        {
          "data": {
            "application/vnd.google.colaboratory.intrinsic+json": {
              "type": "string"
            },
            "text/plain": [
              "\"Once upon a time, there lived a bunny in a field. Her name was Lucy. Lucy loved to have feasts and parties with her bunny friends. One day, when Lucy was about to leave for a feast at a friend's house, she realized she's starting to feel sick. She was so weak she could<|endoftext|><|endoftext|><|endoftext|><|endoftext|><|endoftext|><|endoftext|><|endoftext|><|endoftext|><|endoftext|><|endoftext|><|endoftext|><|endoftext|><|endoftext|><|endoftext|><|endoftext|><|endoftext|><|endoftext|><|endoftext|><|endoftext|><|endoftext|><|endoftext|><|endoftext|><|endoftext|><|endoftext|><|endoftext|><|endoftext|><|endoftext|><|endoftext|><|endoftext|><|endoftext|><|endoftext|><|endoftext|><|endoftext|><|endoftext|><|endoftext|><|endoftext|><|endoftext|><|endoftext|><|endoftext|><|endoftext|><|endoftext|><|endoftext|><|endoftext|><|endoftext|><|endoftext|><|endoftext|><|endoftext|><|endoftext|><|endoftext|><|endoftext|><|endoftext|><|endoftext|><|endoftext|><|endoftext|><|endoftext|>\""
            ]
          },
          "execution_count": 7,
          "metadata": {},
          "output_type": "execute_result"
        }
      ],
      "source": [
        "inputs = tokz(data, padding=True, truncation=True, return_tensors=\"pt\").to(\"cuda\")\n",
        "tokz.decode(inputs.input_ids[0])"
      ]
    },
    {
      "cell_type": "code",
      "execution_count": 10,
      "metadata": {
        "colab": {
          "base_uri": "https://localhost:8080/",
          "height": 105
        },
        "id": "vrrlovf-0Fg_",
        "outputId": "bb4b5968-acbe-43dc-a4dc-952fad6e2b5c"
      },
      "outputs": [
        {
          "data": {
            "application/vnd.google.colaboratory.intrinsic+json": {
              "type": "string"
            },
            "text/plain": [
              "\"<|endoftext|><|endoftext|><|endoftext|><|endoftext|><|endoftext|><|endoftext|><|endoftext|><|endoftext|><|endoftext|><|endoftext|><|endoftext|><|endoftext|><|endoftext|><|endoftext|><|endoftext|><|endoftext|><|endoftext|><|endoftext|><|endoftext|><|endoftext|><|endoftext|><|endoftext|><|endoftext|><|endoftext|><|endoftext|><|endoftext|><|endoftext|><|endoftext|><|endoftext|><|endoftext|><|endoftext|><|endoftext|><|endoftext|><|endoftext|><|endoftext|><|endoftext|><|endoftext|><|endoftext|><|endoftext|><|endoftext|><|endoftext|><|endoftext|><|endoftext|><|endoftext|><|endoftext|><|endoftext|><|endoftext|><|endoftext|><|endoftext|><|endoftext|><|endoftext|><|endoftext|><|endoftext|><|endoftext|><|endoftext|>Once upon a time, there lived a bunny in a field. Her name was Lucy. Lucy loved to have feasts and parties with her bunny friends. One day, when Lucy was about to leave for a feast at a friend's house, she realized she's starting to feel sick. She was so weak she could\""
            ]
          },
          "execution_count": 10,
          "metadata": {},
          "output_type": "execute_result"
        }
      ],
      "source": [
        "tokz.padding_side = \"left\"\n",
        "inputs = tokz(data, padding=True, truncation=True, return_tensors=\"pt\").to(\"cuda\")\n",
        "tokz.decode(inputs.input_ids[0])"
      ]
    },
    {
      "cell_type": "code",
      "execution_count": 15,
      "metadata": {
        "colab": {
          "base_uri": "https://localhost:8080/"
        },
        "id": "_Hnc18qnDBHm",
        "outputId": "8cab2d05-e8e7-4b77-e76c-5b1df238f698"
      },
      "outputs": [
        {
          "data": {
            "text/plain": [
              "tensor([50256, 50256, 50256, 50256, 50256, 50256, 50256, 50256, 50256, 50256,\n",
              "        50256, 50256, 50256, 50256, 50256, 50256, 50256, 50256, 50256, 50256,\n",
              "        50256, 50256, 50256, 50256, 50256, 50256, 50256, 50256, 50256, 50256,\n",
              "        50256, 50256, 50256, 50256, 50256, 50256, 50256, 50256, 50256, 50256,\n",
              "        50256, 50256, 50256, 50256, 50256, 50256, 50256, 50256, 50256, 50256,\n",
              "        50256, 50256, 50256, 50256, 50256,  7454,  2402,   257,   640,    11,\n",
              "          612,  5615,   257, 44915,   287,   257,  2214,    13,  2332,  1438,\n",
              "          373, 22162,    13, 22162,  6151,   284,   423,   730,  5773,   290,\n",
              "         4671,   351,   607, 44915,  2460,    13,  1881,  1110,    11,   618,\n",
              "        22162,   373,   546,   284,  2666,   329,   257, 26951,   379,   257,\n",
              "         1545,   338,  2156,    11,   673,  6939,   673,   338,  3599,   284,\n",
              "         1254,  6639,    13,  1375,   373,   523,  4939,   673,   714],\n",
              "       device='cuda:0')"
            ]
          },
          "execution_count": 15,
          "metadata": {},
          "output_type": "execute_result"
        }
      ],
      "source": [
        "inputs.input_ids[0]"
      ]
    },
    {
      "cell_type": "code",
      "execution_count": 16,
      "metadata": {
        "colab": {
          "base_uri": "https://localhost:8080/"
        },
        "id": "ILXWHy6fC05b",
        "outputId": "947c8522-53fd-489f-e333-d53212214fb0"
      },
      "outputs": [
        {
          "data": {
            "text/plain": [
              "torch.Size([119])"
            ]
          },
          "execution_count": 16,
          "metadata": {},
          "output_type": "execute_result"
        }
      ],
      "source": [
        "inputs.attention_mask[0].shape"
      ]
    },
    {
      "cell_type": "markdown",
      "metadata": {
        "id": "tlF3kjzrH--v"
      },
      "source": [
        "Reusing the generation code I used for the TinyHackthon competition, but setting `do_sample=False` and `num_beams=5`:"
      ]
    },
    {
      "cell_type": "code",
      "execution_count": 40,
      "metadata": {
        "id": "scVvzUAf0fh7"
      },
      "outputs": [],
      "source": [
        "def _generate(model, prompts, max_length=384, min_length=120):\n",
        "    tokz.padding_side = \"left\"\n",
        "    inputs = tokz(prompts, padding=True, truncation=True, return_tensors=\"pt\").to(\"cuda\")\n",
        "\n",
        "    model.eval()\n",
        "    with torch.no_grad():\n",
        "        outputs = model.generate(\n",
        "            inputs.input_ids,\n",
        "            attention_mask=inputs.attention_mask,\n",
        "            max_length=max_length,\n",
        "            min_length=min_length,\n",
        "            num_beams=5,\n",
        "            do_sample=False,\n",
        "            pad_token_id=tokz.eos_token_id\n",
        "        )\n",
        "\n",
        "        input_length = inputs.input_ids[0].size(0)\n",
        "        completion_tokens = outputs[0][input_length:]\n",
        "        completion_text = tokz.decode(completion_tokens, skip_special_tokens=True)\n",
        "\n",
        "        completions = []\n",
        "\n",
        "        for j, output in enumerate(outputs):\n",
        "            input_length = inputs.input_ids[j].size(0)\n",
        "            completion_tokens = output[input_length:]\n",
        "            completion_text = tokz.decode(completion_tokens, skip_special_tokens=True)\n",
        "            completions.append(completion_text)\n",
        "\n",
        "        assert outputs.shape[0] == len(prompts)\n",
        "        assert outputs.shape[1] == max_length\n",
        "        assert len(completions) == len(prompts)\n",
        "        return completions\n",
        "\n",
        "completions = _generate(model, data)"
      ]
    },
    {
      "cell_type": "code",
      "execution_count": 41,
      "metadata": {
        "colab": {
          "base_uri": "https://localhost:8080/"
        },
        "id": "bzAwWxQrLsrp",
        "outputId": "5bb67862-93ee-47f1-ff95-0996af4f1843"
      },
      "outputs": [
        {
          "name": "stdout",
          "output_type": "stream",
          "text": [
            " not sleep.\n",
            "\n",
            "Lucy asked her mom, \"What's wrong, Mommy?\" Her mom replied, \"It's okay, sweetie. I'll help you.\"\n",
            "\n",
            "Lucy smiled and said, \"I'm sorry, Mommy. I'll help you.\" Her mom smiled and said, \"It's okay, Lucy. I'm glad you're safe.\"\n",
            "\n",
            "Lucy smiled and said, \"Thank you, Mommy. I love you.\" Her mom smiled and said, \"I love you too, Lucy.\"\n",
            "\n"
          ]
        }
      ],
      "source": [
        "print(completions[0])"
      ]
    },
    {
      "cell_type": "code",
      "execution_count": 42,
      "metadata": {
        "colab": {
          "base_uri": "https://localhost:8080/"
        },
        "id": "8bjVB9E8DY59",
        "outputId": "c303089b-c591-4950-c77a-9f0b9ba2a294"
      },
      "outputs": [
        {
          "name": "stdout",
          "output_type": "stream",
          "text": [
            " go to the hospital. The little boy was very sad and he didn't want to go to the hospital. \n",
            "\n",
            "His mom said, \"Don't worry, I'll help you.\" But the little boy didn't listen. He said, \"I'm sorry, mom. I won't do it again.\" \n",
            "\n",
            "His mom smiled and said, \"It's okay, I'll help you.\" \n",
            "\n",
            "The little boy was so happy and thanked his mom. From that day on, he always made sure to always be careful when playing outside.\n",
            "\n"
          ]
        }
      ],
      "source": [
        "print(completions[-1])"
      ]
    },
    {
      "cell_type": "code",
      "execution_count": 43,
      "metadata": {
        "colab": {
          "base_uri": "https://localhost:8080/"
        },
        "id": "MM2FG4P9F-b-",
        "outputId": "1e8db0c5-13bc-4dee-b57e-1f6088dee7e6"
      },
      "outputs": [
        {
          "name": "stdout",
          "output_type": "stream",
          "text": [
            " room. \n",
            "\n",
            "The little girl asked her daddy, \"Daddy, can you help me?\" \n",
            "\n",
            "Daddy said, \"Yes, I can help you.\" \n",
            "\n",
            "The little girl was so happy. She said, \"Thank you, Daddy!\" \n",
            "\n",
            "Daddy smiled and said, \"You're welcome, sweetheart. I'm glad you're safe.\" \n",
            "\n",
            "The little girl smiled and said, \"Thank you, Daddy!\"\n",
            "\n",
            "Daddy smiled and said, \"You're welcome, sweetheart. I'm glad you're safe.\" \n",
            "\n",
            "The little girl smiled and said, \"I'm glad you're safe.\"\n",
            "\n"
          ]
        }
      ],
      "source": [
        "print(completions[22])"
      ]
    },
    {
      "cell_type": "markdown",
      "metadata": {
        "id": "DT4I_eBXOTSJ"
      },
      "source": [
        "I'll now iterate through a list of all three models, generate story completions, and save it to CSV for evaluation."
      ]
    },
    {
      "cell_type": "code",
      "execution_count": 47,
      "metadata": {
        "id": "BKziyF78NPVk"
      },
      "outputs": [],
      "source": [
        "model_names = [\"roneneldan/TinyStories-1M\", \"roneneldan/TinyStories-8M\", \"roneneldan/TinyStories-28M\"]"
      ]
    },
    {
      "cell_type": "code",
      "execution_count": 52,
      "metadata": {
        "colab": {
          "base_uri": "https://localhost:8080/",
          "height": 206
        },
        "id": "qutyU5abPuvF",
        "outputId": "856cc1fd-21ca-4452-a8d1-afd4664a0f18"
      },
      "outputs": [
        {
          "data": {
            "application/vnd.google.colaboratory.intrinsic+json": {
              "repr_error": "Out of range float values are not JSON compliant: nan",
              "type": "dataframe",
              "variable_name": "df"
            },
            "text/html": [
              "\n",
              "  <div id=\"df-d3226fdd-e225-4ef3-a087-845fa3564beb\" class=\"colab-df-container\">\n",
              "    <div>\n",
              "<style scoped>\n",
              "    .dataframe tbody tr th:only-of-type {\n",
              "        vertical-align: middle;\n",
              "    }\n",
              "\n",
              "    .dataframe tbody tr th {\n",
              "        vertical-align: top;\n",
              "    }\n",
              "\n",
              "    .dataframe thead th {\n",
              "        text-align: right;\n",
              "    }\n",
              "</style>\n",
              "<table border=\"1\" class=\"dataframe\">\n",
              "  <thead>\n",
              "    <tr style=\"text-align: right;\">\n",
              "      <th></th>\n",
              "      <th>prompt</th>\n",
              "      <th>1M</th>\n",
              "      <th>8M</th>\n",
              "      <th>28M</th>\n",
              "    </tr>\n",
              "  </thead>\n",
              "  <tbody>\n",
              "    <tr>\n",
              "      <th>0</th>\n",
              "      <td>Once upon a time, there lived a bunny in a fie...</td>\n",
              "      <td>None</td>\n",
              "      <td>None</td>\n",
              "      <td>None</td>\n",
              "    </tr>\n",
              "    <tr>\n",
              "      <th>1</th>\n",
              "      <td>One day a girl walked into the living room and...</td>\n",
              "      <td>None</td>\n",
              "      <td>None</td>\n",
              "      <td>None</td>\n",
              "    </tr>\n",
              "    <tr>\n",
              "      <th>2</th>\n",
              "      <td>Once upon a time, there lived a hamster in the...</td>\n",
              "      <td>None</td>\n",
              "      <td>None</td>\n",
              "      <td>None</td>\n",
              "    </tr>\n",
              "    <tr>\n",
              "      <th>3</th>\n",
              "      <td>Jack asked his mom if he could ride the bike a...</td>\n",
              "      <td>None</td>\n",
              "      <td>None</td>\n",
              "      <td>None</td>\n",
              "    </tr>\n",
              "    <tr>\n",
              "      <th>4</th>\n",
              "      <td>Alice was bored and wanted to find some advent...</td>\n",
              "      <td>None</td>\n",
              "      <td>None</td>\n",
              "      <td>None</td>\n",
              "    </tr>\n",
              "  </tbody>\n",
              "</table>\n",
              "</div>\n",
              "    <div class=\"colab-df-buttons\">\n",
              "\n",
              "  <div class=\"colab-df-container\">\n",
              "    <button class=\"colab-df-convert\" onclick=\"convertToInteractive('df-d3226fdd-e225-4ef3-a087-845fa3564beb')\"\n",
              "            title=\"Convert this dataframe to an interactive table.\"\n",
              "            style=\"display:none;\">\n",
              "\n",
              "  <svg xmlns=\"http://www.w3.org/2000/svg\" height=\"24px\" viewBox=\"0 -960 960 960\">\n",
              "    <path d=\"M120-120v-720h720v720H120Zm60-500h600v-160H180v160Zm220 220h160v-160H400v160Zm0 220h160v-160H400v160ZM180-400h160v-160H180v160Zm440 0h160v-160H620v160ZM180-180h160v-160H180v160Zm440 0h160v-160H620v160Z\"/>\n",
              "  </svg>\n",
              "    </button>\n",
              "\n",
              "  <style>\n",
              "    .colab-df-container {\n",
              "      display:flex;\n",
              "      gap: 12px;\n",
              "    }\n",
              "\n",
              "    .colab-df-convert {\n",
              "      background-color: #E8F0FE;\n",
              "      border: none;\n",
              "      border-radius: 50%;\n",
              "      cursor: pointer;\n",
              "      display: none;\n",
              "      fill: #1967D2;\n",
              "      height: 32px;\n",
              "      padding: 0 0 0 0;\n",
              "      width: 32px;\n",
              "    }\n",
              "\n",
              "    .colab-df-convert:hover {\n",
              "      background-color: #E2EBFA;\n",
              "      box-shadow: 0px 1px 2px rgba(60, 64, 67, 0.3), 0px 1px 3px 1px rgba(60, 64, 67, 0.15);\n",
              "      fill: #174EA6;\n",
              "    }\n",
              "\n",
              "    .colab-df-buttons div {\n",
              "      margin-bottom: 4px;\n",
              "    }\n",
              "\n",
              "    [theme=dark] .colab-df-convert {\n",
              "      background-color: #3B4455;\n",
              "      fill: #D2E3FC;\n",
              "    }\n",
              "\n",
              "    [theme=dark] .colab-df-convert:hover {\n",
              "      background-color: #434B5C;\n",
              "      box-shadow: 0px 1px 3px 1px rgba(0, 0, 0, 0.15);\n",
              "      filter: drop-shadow(0px 1px 2px rgba(0, 0, 0, 0.3));\n",
              "      fill: #FFFFFF;\n",
              "    }\n",
              "  </style>\n",
              "\n",
              "    <script>\n",
              "      const buttonEl =\n",
              "        document.querySelector('#df-d3226fdd-e225-4ef3-a087-845fa3564beb button.colab-df-convert');\n",
              "      buttonEl.style.display =\n",
              "        google.colab.kernel.accessAllowed ? 'block' : 'none';\n",
              "\n",
              "      async function convertToInteractive(key) {\n",
              "        const element = document.querySelector('#df-d3226fdd-e225-4ef3-a087-845fa3564beb');\n",
              "        const dataTable =\n",
              "          await google.colab.kernel.invokeFunction('convertToInteractive',\n",
              "                                                    [key], {});\n",
              "        if (!dataTable) return;\n",
              "\n",
              "        const docLinkHtml = 'Like what you see? Visit the ' +\n",
              "          '<a target=\"_blank\" href=https://colab.research.google.com/notebooks/data_table.ipynb>data table notebook</a>'\n",
              "          + ' to learn more about interactive tables.';\n",
              "        element.innerHTML = '';\n",
              "        dataTable['output_type'] = 'display_data';\n",
              "        await google.colab.output.renderOutput(dataTable, element);\n",
              "        const docLink = document.createElement('div');\n",
              "        docLink.innerHTML = docLinkHtml;\n",
              "        element.appendChild(docLink);\n",
              "      }\n",
              "    </script>\n",
              "  </div>\n",
              "\n",
              "\n",
              "    <div id=\"df-1cd2bf3d-8fce-4357-9c1a-a3becd941453\">\n",
              "      <button class=\"colab-df-quickchart\" onclick=\"quickchart('df-1cd2bf3d-8fce-4357-9c1a-a3becd941453')\"\n",
              "                title=\"Suggest charts\"\n",
              "                style=\"display:none;\">\n",
              "\n",
              "<svg xmlns=\"http://www.w3.org/2000/svg\" height=\"24px\"viewBox=\"0 0 24 24\"\n",
              "     width=\"24px\">\n",
              "    <g>\n",
              "        <path d=\"M19 3H5c-1.1 0-2 .9-2 2v14c0 1.1.9 2 2 2h14c1.1 0 2-.9 2-2V5c0-1.1-.9-2-2-2zM9 17H7v-7h2v7zm4 0h-2V7h2v10zm4 0h-2v-4h2v4z\"/>\n",
              "    </g>\n",
              "</svg>\n",
              "      </button>\n",
              "\n",
              "<style>\n",
              "  .colab-df-quickchart {\n",
              "      --bg-color: #E8F0FE;\n",
              "      --fill-color: #1967D2;\n",
              "      --hover-bg-color: #E2EBFA;\n",
              "      --hover-fill-color: #174EA6;\n",
              "      --disabled-fill-color: #AAA;\n",
              "      --disabled-bg-color: #DDD;\n",
              "  }\n",
              "\n",
              "  [theme=dark] .colab-df-quickchart {\n",
              "      --bg-color: #3B4455;\n",
              "      --fill-color: #D2E3FC;\n",
              "      --hover-bg-color: #434B5C;\n",
              "      --hover-fill-color: #FFFFFF;\n",
              "      --disabled-bg-color: #3B4455;\n",
              "      --disabled-fill-color: #666;\n",
              "  }\n",
              "\n",
              "  .colab-df-quickchart {\n",
              "    background-color: var(--bg-color);\n",
              "    border: none;\n",
              "    border-radius: 50%;\n",
              "    cursor: pointer;\n",
              "    display: none;\n",
              "    fill: var(--fill-color);\n",
              "    height: 32px;\n",
              "    padding: 0;\n",
              "    width: 32px;\n",
              "  }\n",
              "\n",
              "  .colab-df-quickchart:hover {\n",
              "    background-color: var(--hover-bg-color);\n",
              "    box-shadow: 0 1px 2px rgba(60, 64, 67, 0.3), 0 1px 3px 1px rgba(60, 64, 67, 0.15);\n",
              "    fill: var(--button-hover-fill-color);\n",
              "  }\n",
              "\n",
              "  .colab-df-quickchart-complete:disabled,\n",
              "  .colab-df-quickchart-complete:disabled:hover {\n",
              "    background-color: var(--disabled-bg-color);\n",
              "    fill: var(--disabled-fill-color);\n",
              "    box-shadow: none;\n",
              "  }\n",
              "\n",
              "  .colab-df-spinner {\n",
              "    border: 2px solid var(--fill-color);\n",
              "    border-color: transparent;\n",
              "    border-bottom-color: var(--fill-color);\n",
              "    animation:\n",
              "      spin 1s steps(1) infinite;\n",
              "  }\n",
              "\n",
              "  @keyframes spin {\n",
              "    0% {\n",
              "      border-color: transparent;\n",
              "      border-bottom-color: var(--fill-color);\n",
              "      border-left-color: var(--fill-color);\n",
              "    }\n",
              "    20% {\n",
              "      border-color: transparent;\n",
              "      border-left-color: var(--fill-color);\n",
              "      border-top-color: var(--fill-color);\n",
              "    }\n",
              "    30% {\n",
              "      border-color: transparent;\n",
              "      border-left-color: var(--fill-color);\n",
              "      border-top-color: var(--fill-color);\n",
              "      border-right-color: var(--fill-color);\n",
              "    }\n",
              "    40% {\n",
              "      border-color: transparent;\n",
              "      border-right-color: var(--fill-color);\n",
              "      border-top-color: var(--fill-color);\n",
              "    }\n",
              "    60% {\n",
              "      border-color: transparent;\n",
              "      border-right-color: var(--fill-color);\n",
              "    }\n",
              "    80% {\n",
              "      border-color: transparent;\n",
              "      border-right-color: var(--fill-color);\n",
              "      border-bottom-color: var(--fill-color);\n",
              "    }\n",
              "    90% {\n",
              "      border-color: transparent;\n",
              "      border-bottom-color: var(--fill-color);\n",
              "    }\n",
              "  }\n",
              "</style>\n",
              "\n",
              "      <script>\n",
              "        async function quickchart(key) {\n",
              "          const quickchartButtonEl =\n",
              "            document.querySelector('#' + key + ' button');\n",
              "          quickchartButtonEl.disabled = true;  // To prevent multiple clicks.\n",
              "          quickchartButtonEl.classList.add('colab-df-spinner');\n",
              "          try {\n",
              "            const charts = await google.colab.kernel.invokeFunction(\n",
              "                'suggestCharts', [key], {});\n",
              "          } catch (error) {\n",
              "            console.error('Error during call to suggestCharts:', error);\n",
              "          }\n",
              "          quickchartButtonEl.classList.remove('colab-df-spinner');\n",
              "          quickchartButtonEl.classList.add('colab-df-quickchart-complete');\n",
              "        }\n",
              "        (() => {\n",
              "          let quickchartButtonEl =\n",
              "            document.querySelector('#df-1cd2bf3d-8fce-4357-9c1a-a3becd941453 button');\n",
              "          quickchartButtonEl.style.display =\n",
              "            google.colab.kernel.accessAllowed ? 'block' : 'none';\n",
              "        })();\n",
              "      </script>\n",
              "    </div>\n",
              "\n",
              "    </div>\n",
              "  </div>\n"
            ],
            "text/plain": [
              "                                              prompt    1M    8M   28M\n",
              "0  Once upon a time, there lived a bunny in a fie...  None  None  None\n",
              "1  One day a girl walked into the living room and...  None  None  None\n",
              "2  Once upon a time, there lived a hamster in the...  None  None  None\n",
              "3  Jack asked his mom if he could ride the bike a...  None  None  None\n",
              "4  Alice was bored and wanted to find some advent...  None  None  None"
            ]
          },
          "execution_count": 52,
          "metadata": {},
          "output_type": "execute_result"
        }
      ],
      "source": [
        "df = pd.DataFrame({\"prompt\": data, \"1M\": [None]*len(data), \"8M\": [None]*len(data), \"28M\": [None]*len(data)})\n",
        "df.head()"
      ]
    },
    {
      "cell_type": "code",
      "execution_count": 54,
      "metadata": {
        "id": "YADeESn8Ok05"
      },
      "outputs": [],
      "source": [
        "for name in model_names:\n",
        "    model = AutoModelForCausalLM.from_pretrained(name).to(\"cuda\")\n",
        "    tokz = AutoTokenizer.from_pretrained(name)\n",
        "    tokz.pad_token = tokz.eos_token\n",
        "    completions = _generate(model, data)\n",
        "    df[name.split(\"-\")[-1]] = completions"
      ]
    },
    {
      "cell_type": "code",
      "execution_count": 55,
      "metadata": {
        "colab": {
          "base_uri": "https://localhost:8080/",
          "height": 206
        },
        "id": "6hueGnI-QKBV",
        "outputId": "7a079003-5f3c-4bda-f762-87b14b3f333a"
      },
      "outputs": [
        {
          "data": {
            "application/vnd.google.colaboratory.intrinsic+json": {
              "summary": "{\n  \"name\": \"df\",\n  \"rows\": 44,\n  \"fields\": [\n    {\n      \"column\": \"prompt\",\n      \"properties\": {\n        \"dtype\": \"string\",\n        \"num_unique_values\": 44,\n        \"samples\": [\n          \"One day, Timmy had a goal. He wanted to fit into his favorite toy car. He was very excited, but grumpy too. He tried to fit into the car but he was\",\n          \"Once upon a time, there lived a small dog named Spike. He was an adventurous pup who loved to explore the world. One day, while he was wandering around, he stumbled upon a big tree. He saw something shining at the top. He wanted to climb it to see what it was.\\n\\nSpike placed his paws on the trunk and started to climb, but the trunk was too\",\n          \"Once there was a mother and daughter walking in the park. They noticed a bird perched on a branch, singing its song. The daughter shouted with delight, \\u201cLook Mommy! A bird!\\u201d\\n\\nThe mother smiled and said, \\u201cYes! See how colorful it is?\\u201d\\n\\nThe daughter then asked, \\u201cCan I share my snack with it?\\u201d\\n\\nThe mother replied, \\u201cNo, sweetie. That's a bad idea because\"\n        ],\n        \"semantic_type\": \"\",\n        \"description\": \"\"\n      }\n    },\n    {\n      \"column\": \"1M\",\n      \"properties\": {\n        \"dtype\": \"string\",\n        \"num_unique_values\": 44,\n        \"samples\": [\n          \" too fast.\\n\\nSuddenly, Timmy heard a loud noise. He looked around and saw a big, scary monster. Timmy was scared and didn't know what to do. He tried to run away, but the monster was too fast. Timmy was scared and didn't know what to do.\\n\\nSuddenly, Timmy heard a loud noise. It was the monster! Timmy was scared and didn't know what to do. He tried to run away, but the monster was too fast. Timmy was scared and didn't know what to do. He tried to run away, but it was too late. The monster was gone.\\n\\nTimmy was very sad and scared. He wished he had listened to the monster. He wished he had listened to the monster. From that day on, Timmy learned that it's important to be kind to others.\\n\",\n          \" high for him to reach. Suddenly, he heard a loud noise coming from the tree. It was a big, scary monster!\\n\\nSpike was scared and didn't know what to do. He tried to climb the tree, but it was too late. The monster was stuck and couldn't get out of the tree.\\n\\nSpike was very sad. He wished he had been able to climb the tree. From that day on, he never got to climb the tree again.\\n\",\n          \" it\\u2019s mine.\\u201d\\n\\nThe daughter smiled and said, \\u201cYes, it\\u2019s mine.\\u201d\\n\\nThe mother smiled and said, \\u201cThat\\u2019s a great idea!\\u201d\\n\\nThe daughter smiled and said, \\u201cYes!\\u201d\\n\\nThe mother smiled and said, \\u201cThat\\u2019s a great idea!\\u201d\\n\\nThe daughter smiled and said, \\u201cYes!\\u201d\\n\\nThe mother smiled and said, \\u201cYou\\u2019re welcome!\\u201d\\n\\nThe daughter smiled and said, \\u201cYes!\\u201d\\n\"\n        ],\n        \"semantic_type\": \"\",\n        \"description\": \"\"\n      }\n    },\n    {\n      \"column\": \"8M\",\n      \"properties\": {\n        \"dtype\": \"string\",\n        \"num_unique_values\": 44,\n        \"samples\": [\n          \" too small.\\n\\nTimmy's mom saw him struggling and said, \\\"Don't worry, Timmy. You can do it. Just try your best.\\\" Timmy tried and tried, and finally, he fit into the car! He was so happy and proud of himself.\\n\\nFrom that day on, Timmy knew that if he tried hard enough, he could fit into anything he wanted. And he was never grumpy again. The end.\\n\",\n          \" high for him to reach. He tried and tried, but he just couldn't get to the top. Just then, he heard a voice.\\n\\n\\\"Do you need help?\\\" said the voice.\\n\\nSpike looked around and saw a friendly squirrel. \\\"Yes, please,\\\" he said.\\n\\nThe squirrel smiled and said, \\\"I can help you climb the tree. Just follow me and I'll show you.\\\"\\n\\nSpike followed the squirrel up the tree. When they reached the top, Spike was amazed. He had never seen anything like it before.\\n\\n\\\"Thank you for helping me,\\\" said Spike.\\n\\nThe squirrel smiled and said, \\\"You're welcome. I'm glad I could help.\\\"\\n\\nSpike thanked the squirrel again and continued on his way. He was so happy to have a new friend. From that day on, Spike and the squirrel were the best of friends.\\n\",\n          \" you can\\u2019t share.\\u201d\\n\\nThe daughter pouted and said, \\u201cBut I want to share!\\u201d\\n\\nThe mother thought for a moment and then said, \\u201cOkay, you can share your snack with the bird.\\u201d\\n\\nThe daughter smiled and said, \\u201cThank you!\\u201d\\n\\nThe mother smiled and said, \\u201cYou\\u2019re welcome.\\u201d\\n\"\n        ],\n        \"semantic_type\": \"\",\n        \"description\": \"\"\n      }\n    },\n    {\n      \"column\": \"28M\",\n      \"properties\": {\n        \"dtype\": \"string\",\n        \"num_unique_values\": 44,\n        \"samples\": [\n          \" too big.\\n\\nTimmy's mom saw him struggling and said, \\\"Let me help you, Timmy.\\\" She helped him fit into the car. Timmy was so happy! He hugged his mom and said, \\\"Thank you, Mommy!\\\"\\n\\nFrom that day on, Timmy tried his best to fit into his toy car. He learned that it's okay to ask for help when you need it. And he was never grumpy again. The end.\\n\",\n          \" tall and he couldn't reach the top. He tried and tried, but he just couldn't make it to the top.\\n\\nJust then, he heard a voice. It was a friendly voice and it said, \\\"Don't worry, Spike. I can help you get to the top.\\\"\\n\\nSpike looked up and saw a friendly bird. The bird said, \\\"I can help you get to the top. Just follow me.\\\"\\n\\nSpike followed the bird and soon they were at the top of the tree. Spike was so happy and thanked the bird for helping him.\\n\\nThe bird smiled and said, \\\"You're welcome, Spike. I'm glad I could help.\\\"\\n\\nSpike looked around and saw the most beautiful view he had ever seen. He smiled and thanked the bird again.\\n\\nThe bird smiled back and said, \\\"You're welcome, Spike. I'm glad I could help.\\\"\\n\\nAnd with that, the bird flew away, leaving Spike to enjoy the view from the top of the tree.\\n\",\n          \" birds don't like to share.\\u201d\\n\\nThe daughter thought for a moment and then said, \\u201cCan I share my snack with the bird?\\u201d\\n\\nThe mother smiled and said, \\u201cYes, you can share your snack with the bird.\\u201d\\n\\nThe daughter happily shared her snack with the bird and they both enjoyed the beautiful day in the park.\\n\"\n        ],\n        \"semantic_type\": \"\",\n        \"description\": \"\"\n      }\n    }\n  ]\n}",
              "type": "dataframe",
              "variable_name": "df"
            },
            "text/html": [
              "\n",
              "  <div id=\"df-46266037-47c6-4550-91a9-93f2cb686066\" class=\"colab-df-container\">\n",
              "    <div>\n",
              "<style scoped>\n",
              "    .dataframe tbody tr th:only-of-type {\n",
              "        vertical-align: middle;\n",
              "    }\n",
              "\n",
              "    .dataframe tbody tr th {\n",
              "        vertical-align: top;\n",
              "    }\n",
              "\n",
              "    .dataframe thead th {\n",
              "        text-align: right;\n",
              "    }\n",
              "</style>\n",
              "<table border=\"1\" class=\"dataframe\">\n",
              "  <thead>\n",
              "    <tr style=\"text-align: right;\">\n",
              "      <th></th>\n",
              "      <th>prompt</th>\n",
              "      <th>1M</th>\n",
              "      <th>8M</th>\n",
              "      <th>28M</th>\n",
              "    </tr>\n",
              "  </thead>\n",
              "  <tbody>\n",
              "    <tr>\n",
              "      <th>0</th>\n",
              "      <td>Once upon a time, there lived a bunny in a fie...</td>\n",
              "      <td>not sleep.\\n\\nLucy asked her mom, \"What's wro...</td>\n",
              "      <td>hardly move.\\n\\nLucy's friend, a wise old owl...</td>\n",
              "      <td>barely move. \\n\\nLucy's bunny friends noticed...</td>\n",
              "    </tr>\n",
              "    <tr>\n",
              "      <th>1</th>\n",
              "      <td>One day a girl walked into the living room and...</td>\n",
              "      <td>, she heard a voice.\\n\\n\"What are you doing he...</td>\n",
              "      <td>she heard a voice.\\n\\n\"Who are you?\" the voic...</td>\n",
              "      <td>a voice came from behind her.\\n\\n\"What do you...</td>\n",
              "    </tr>\n",
              "    <tr>\n",
              "      <th>2</th>\n",
              "      <td>Once upon a time, there lived a hamster in the...</td>\n",
              "      <td>it was too late.\\n\\nThe next day, the hamster...</td>\n",
              "      <td>the mouse was trying to help him.\\n\\nThe hams...</td>\n",
              "      <td>he had to help the mouse.\\n\\nHe used all his ...</td>\n",
              "    </tr>\n",
              "    <tr>\n",
              "      <th>3</th>\n",
              "      <td>Jack asked his mom if he could ride the bike a...</td>\n",
              "      <td>thank you\" to his daughter.\\n\\nThe next day, J...</td>\n",
              "      <td>no\" and he knew that he had to be careful.\\n\\n...</td>\n",
              "      <td>Don't ride too fast, be careful!\"\\n\\nSo Jack s...</td>\n",
              "    </tr>\n",
              "    <tr>\n",
              "      <th>4</th>\n",
              "      <td>Alice was bored and wanted to find some advent...</td>\n",
              "      <td>go to the park?\"\\n\\nTom said, \"I don't want t...</td>\n",
              "      <td>go on an adventure together?\"\\n\\nBen smiled a...</td>\n",
              "      <td>go on an adventure?\"\\n\\nBen thought for a mom...</td>\n",
              "    </tr>\n",
              "  </tbody>\n",
              "</table>\n",
              "</div>\n",
              "    <div class=\"colab-df-buttons\">\n",
              "\n",
              "  <div class=\"colab-df-container\">\n",
              "    <button class=\"colab-df-convert\" onclick=\"convertToInteractive('df-46266037-47c6-4550-91a9-93f2cb686066')\"\n",
              "            title=\"Convert this dataframe to an interactive table.\"\n",
              "            style=\"display:none;\">\n",
              "\n",
              "  <svg xmlns=\"http://www.w3.org/2000/svg\" height=\"24px\" viewBox=\"0 -960 960 960\">\n",
              "    <path d=\"M120-120v-720h720v720H120Zm60-500h600v-160H180v160Zm220 220h160v-160H400v160Zm0 220h160v-160H400v160ZM180-400h160v-160H180v160Zm440 0h160v-160H620v160ZM180-180h160v-160H180v160Zm440 0h160v-160H620v160Z\"/>\n",
              "  </svg>\n",
              "    </button>\n",
              "\n",
              "  <style>\n",
              "    .colab-df-container {\n",
              "      display:flex;\n",
              "      gap: 12px;\n",
              "    }\n",
              "\n",
              "    .colab-df-convert {\n",
              "      background-color: #E8F0FE;\n",
              "      border: none;\n",
              "      border-radius: 50%;\n",
              "      cursor: pointer;\n",
              "      display: none;\n",
              "      fill: #1967D2;\n",
              "      height: 32px;\n",
              "      padding: 0 0 0 0;\n",
              "      width: 32px;\n",
              "    }\n",
              "\n",
              "    .colab-df-convert:hover {\n",
              "      background-color: #E2EBFA;\n",
              "      box-shadow: 0px 1px 2px rgba(60, 64, 67, 0.3), 0px 1px 3px 1px rgba(60, 64, 67, 0.15);\n",
              "      fill: #174EA6;\n",
              "    }\n",
              "\n",
              "    .colab-df-buttons div {\n",
              "      margin-bottom: 4px;\n",
              "    }\n",
              "\n",
              "    [theme=dark] .colab-df-convert {\n",
              "      background-color: #3B4455;\n",
              "      fill: #D2E3FC;\n",
              "    }\n",
              "\n",
              "    [theme=dark] .colab-df-convert:hover {\n",
              "      background-color: #434B5C;\n",
              "      box-shadow: 0px 1px 3px 1px rgba(0, 0, 0, 0.15);\n",
              "      filter: drop-shadow(0px 1px 2px rgba(0, 0, 0, 0.3));\n",
              "      fill: #FFFFFF;\n",
              "    }\n",
              "  </style>\n",
              "\n",
              "    <script>\n",
              "      const buttonEl =\n",
              "        document.querySelector('#df-46266037-47c6-4550-91a9-93f2cb686066 button.colab-df-convert');\n",
              "      buttonEl.style.display =\n",
              "        google.colab.kernel.accessAllowed ? 'block' : 'none';\n",
              "\n",
              "      async function convertToInteractive(key) {\n",
              "        const element = document.querySelector('#df-46266037-47c6-4550-91a9-93f2cb686066');\n",
              "        const dataTable =\n",
              "          await google.colab.kernel.invokeFunction('convertToInteractive',\n",
              "                                                    [key], {});\n",
              "        if (!dataTable) return;\n",
              "\n",
              "        const docLinkHtml = 'Like what you see? Visit the ' +\n",
              "          '<a target=\"_blank\" href=https://colab.research.google.com/notebooks/data_table.ipynb>data table notebook</a>'\n",
              "          + ' to learn more about interactive tables.';\n",
              "        element.innerHTML = '';\n",
              "        dataTable['output_type'] = 'display_data';\n",
              "        await google.colab.output.renderOutput(dataTable, element);\n",
              "        const docLink = document.createElement('div');\n",
              "        docLink.innerHTML = docLinkHtml;\n",
              "        element.appendChild(docLink);\n",
              "      }\n",
              "    </script>\n",
              "  </div>\n",
              "\n",
              "\n",
              "    <div id=\"df-de0c88ef-903d-4b9a-9c0a-53db68fe08e1\">\n",
              "      <button class=\"colab-df-quickchart\" onclick=\"quickchart('df-de0c88ef-903d-4b9a-9c0a-53db68fe08e1')\"\n",
              "                title=\"Suggest charts\"\n",
              "                style=\"display:none;\">\n",
              "\n",
              "<svg xmlns=\"http://www.w3.org/2000/svg\" height=\"24px\"viewBox=\"0 0 24 24\"\n",
              "     width=\"24px\">\n",
              "    <g>\n",
              "        <path d=\"M19 3H5c-1.1 0-2 .9-2 2v14c0 1.1.9 2 2 2h14c1.1 0 2-.9 2-2V5c0-1.1-.9-2-2-2zM9 17H7v-7h2v7zm4 0h-2V7h2v10zm4 0h-2v-4h2v4z\"/>\n",
              "    </g>\n",
              "</svg>\n",
              "      </button>\n",
              "\n",
              "<style>\n",
              "  .colab-df-quickchart {\n",
              "      --bg-color: #E8F0FE;\n",
              "      --fill-color: #1967D2;\n",
              "      --hover-bg-color: #E2EBFA;\n",
              "      --hover-fill-color: #174EA6;\n",
              "      --disabled-fill-color: #AAA;\n",
              "      --disabled-bg-color: #DDD;\n",
              "  }\n",
              "\n",
              "  [theme=dark] .colab-df-quickchart {\n",
              "      --bg-color: #3B4455;\n",
              "      --fill-color: #D2E3FC;\n",
              "      --hover-bg-color: #434B5C;\n",
              "      --hover-fill-color: #FFFFFF;\n",
              "      --disabled-bg-color: #3B4455;\n",
              "      --disabled-fill-color: #666;\n",
              "  }\n",
              "\n",
              "  .colab-df-quickchart {\n",
              "    background-color: var(--bg-color);\n",
              "    border: none;\n",
              "    border-radius: 50%;\n",
              "    cursor: pointer;\n",
              "    display: none;\n",
              "    fill: var(--fill-color);\n",
              "    height: 32px;\n",
              "    padding: 0;\n",
              "    width: 32px;\n",
              "  }\n",
              "\n",
              "  .colab-df-quickchart:hover {\n",
              "    background-color: var(--hover-bg-color);\n",
              "    box-shadow: 0 1px 2px rgba(60, 64, 67, 0.3), 0 1px 3px 1px rgba(60, 64, 67, 0.15);\n",
              "    fill: var(--button-hover-fill-color);\n",
              "  }\n",
              "\n",
              "  .colab-df-quickchart-complete:disabled,\n",
              "  .colab-df-quickchart-complete:disabled:hover {\n",
              "    background-color: var(--disabled-bg-color);\n",
              "    fill: var(--disabled-fill-color);\n",
              "    box-shadow: none;\n",
              "  }\n",
              "\n",
              "  .colab-df-spinner {\n",
              "    border: 2px solid var(--fill-color);\n",
              "    border-color: transparent;\n",
              "    border-bottom-color: var(--fill-color);\n",
              "    animation:\n",
              "      spin 1s steps(1) infinite;\n",
              "  }\n",
              "\n",
              "  @keyframes spin {\n",
              "    0% {\n",
              "      border-color: transparent;\n",
              "      border-bottom-color: var(--fill-color);\n",
              "      border-left-color: var(--fill-color);\n",
              "    }\n",
              "    20% {\n",
              "      border-color: transparent;\n",
              "      border-left-color: var(--fill-color);\n",
              "      border-top-color: var(--fill-color);\n",
              "    }\n",
              "    30% {\n",
              "      border-color: transparent;\n",
              "      border-left-color: var(--fill-color);\n",
              "      border-top-color: var(--fill-color);\n",
              "      border-right-color: var(--fill-color);\n",
              "    }\n",
              "    40% {\n",
              "      border-color: transparent;\n",
              "      border-right-color: var(--fill-color);\n",
              "      border-top-color: var(--fill-color);\n",
              "    }\n",
              "    60% {\n",
              "      border-color: transparent;\n",
              "      border-right-color: var(--fill-color);\n",
              "    }\n",
              "    80% {\n",
              "      border-color: transparent;\n",
              "      border-right-color: var(--fill-color);\n",
              "      border-bottom-color: var(--fill-color);\n",
              "    }\n",
              "    90% {\n",
              "      border-color: transparent;\n",
              "      border-bottom-color: var(--fill-color);\n",
              "    }\n",
              "  }\n",
              "</style>\n",
              "\n",
              "      <script>\n",
              "        async function quickchart(key) {\n",
              "          const quickchartButtonEl =\n",
              "            document.querySelector('#' + key + ' button');\n",
              "          quickchartButtonEl.disabled = true;  // To prevent multiple clicks.\n",
              "          quickchartButtonEl.classList.add('colab-df-spinner');\n",
              "          try {\n",
              "            const charts = await google.colab.kernel.invokeFunction(\n",
              "                'suggestCharts', [key], {});\n",
              "          } catch (error) {\n",
              "            console.error('Error during call to suggestCharts:', error);\n",
              "          }\n",
              "          quickchartButtonEl.classList.remove('colab-df-spinner');\n",
              "          quickchartButtonEl.classList.add('colab-df-quickchart-complete');\n",
              "        }\n",
              "        (() => {\n",
              "          let quickchartButtonEl =\n",
              "            document.querySelector('#df-de0c88ef-903d-4b9a-9c0a-53db68fe08e1 button');\n",
              "          quickchartButtonEl.style.display =\n",
              "            google.colab.kernel.accessAllowed ? 'block' : 'none';\n",
              "        })();\n",
              "      </script>\n",
              "    </div>\n",
              "\n",
              "    </div>\n",
              "  </div>\n"
            ],
            "text/plain": [
              "                                              prompt  \\\n",
              "0  Once upon a time, there lived a bunny in a fie...   \n",
              "1  One day a girl walked into the living room and...   \n",
              "2  Once upon a time, there lived a hamster in the...   \n",
              "3  Jack asked his mom if he could ride the bike a...   \n",
              "4  Alice was bored and wanted to find some advent...   \n",
              "\n",
              "                                                  1M  \\\n",
              "0   not sleep.\\n\\nLucy asked her mom, \"What's wro...   \n",
              "1  , she heard a voice.\\n\\n\"What are you doing he...   \n",
              "2   it was too late.\\n\\nThe next day, the hamster...   \n",
              "3  thank you\" to his daughter.\\n\\nThe next day, J...   \n",
              "4   go to the park?\"\\n\\nTom said, \"I don't want t...   \n",
              "\n",
              "                                                  8M  \\\n",
              "0   hardly move.\\n\\nLucy's friend, a wise old owl...   \n",
              "1   she heard a voice.\\n\\n\"Who are you?\" the voic...   \n",
              "2   the mouse was trying to help him.\\n\\nThe hams...   \n",
              "3  no\" and he knew that he had to be careful.\\n\\n...   \n",
              "4   go on an adventure together?\"\\n\\nBen smiled a...   \n",
              "\n",
              "                                                 28M  \n",
              "0   barely move. \\n\\nLucy's bunny friends noticed...  \n",
              "1   a voice came from behind her.\\n\\n\"What do you...  \n",
              "2   he had to help the mouse.\\n\\nHe used all his ...  \n",
              "3  Don't ride too fast, be careful!\"\\n\\nSo Jack s...  \n",
              "4   go on an adventure?\"\\n\\nBen thought for a mom...  "
            ]
          },
          "execution_count": 55,
          "metadata": {},
          "output_type": "execute_result"
        }
      ],
      "source": [
        "df.head()"
      ]
    },
    {
      "cell_type": "code",
      "execution_count": 56,
      "metadata": {
        "id": "s-Tq1aMXQZTf"
      },
      "outputs": [],
      "source": [
        "df.to_csv(\"2025-04-27-evals.csv\", index=False)"
      ]
    },
    {
      "cell_type": "markdown",
      "metadata": {
        "id": "3aYTX4nWRoze"
      },
      "source": [
        "While we're, I'll calculat the average prompt and completion length in tokens."
      ]
    },
    {
      "cell_type": "code",
      "execution_count": 57,
      "metadata": {
        "colab": {
          "base_uri": "https://localhost:8080/"
        },
        "id": "LXic6kulRzTv",
        "outputId": "223dae72-f5c1-45a8-f350-e998d5714008"
      },
      "outputs": [
        {
          "data": {
            "text/plain": [
              "{'input_ids': [7454, 2402, 257, 640, 11, 612, 5615, 257, 44915, 287, 257, 2214, 13, 2332, 1438, 373, 22162, 13, 22162, 6151, 284, 423, 730, 5773, 290, 4671, 351, 607, 44915, 2460, 13, 1881, 1110, 11, 618, 22162, 373, 546, 284, 2666, 329, 257, 26951, 379, 257, 1545, 338, 2156, 11, 673, 6939, 673, 338, 3599, 284, 1254, 6639, 13, 1375, 373, 523, 4939, 673, 714], 'attention_mask': [1, 1, 1, 1, 1, 1, 1, 1, 1, 1, 1, 1, 1, 1, 1, 1, 1, 1, 1, 1, 1, 1, 1, 1, 1, 1, 1, 1, 1, 1, 1, 1, 1, 1, 1, 1, 1, 1, 1, 1, 1, 1, 1, 1, 1, 1, 1, 1, 1, 1, 1, 1, 1, 1, 1, 1, 1, 1, 1, 1, 1, 1, 1, 1]}"
            ]
          },
          "execution_count": 57,
          "metadata": {},
          "output_type": "execute_result"
        }
      ],
      "source": [
        "tokz(data[0])"
      ]
    },
    {
      "cell_type": "code",
      "execution_count": 61,
      "metadata": {
        "colab": {
          "base_uri": "https://localhost:8080/"
        },
        "id": "8pn0qgo9RtPM",
        "outputId": "e14c1c7a-3e2e-4a00-91b6-66ab4f19762d"
      },
      "outputs": [
        {
          "data": {
            "text/plain": [
              "62"
            ]
          },
          "execution_count": 61,
          "metadata": {},
          "output_type": "execute_result"
        }
      ],
      "source": [
        "toks = 0\n",
        "for p in data: toks += len(tokz(p).input_ids)\n",
        "toks//44"
      ]
    },
    {
      "cell_type": "code",
      "execution_count": 62,
      "metadata": {
        "colab": {
          "base_uri": "https://localhost:8080/"
        },
        "id": "gyMrvOxLR3Eu",
        "outputId": "a64f24ca-762c-4043-a601-d3b5949cc900"
      },
      "outputs": [
        {
          "data": {
            "text/plain": [
              "164"
            ]
          },
          "execution_count": 62,
          "metadata": {},
          "output_type": "execute_result"
        }
      ],
      "source": [
        "toks = 0\n",
        "for p in df[\"1M\"]: toks += len(tokz(p).input_ids)\n",
        "toks//44"
      ]
    },
    {
      "cell_type": "code",
      "execution_count": 63,
      "metadata": {
        "colab": {
          "base_uri": "https://localhost:8080/"
        },
        "id": "-cwwqYcRR9dk",
        "outputId": "eeef388e-08ab-436e-c300-a30cc625ec66"
      },
      "outputs": [
        {
          "data": {
            "text/plain": [
              "153"
            ]
          },
          "execution_count": 63,
          "metadata": {},
          "output_type": "execute_result"
        }
      ],
      "source": [
        "toks = 0\n",
        "for p in df[\"8M\"]: toks += len(tokz(p).input_ids)\n",
        "toks//44"
      ]
    },
    {
      "cell_type": "code",
      "execution_count": 64,
      "metadata": {
        "colab": {
          "base_uri": "https://localhost:8080/"
        },
        "id": "OmaQVT7DR_Sn",
        "outputId": "057638d1-c550-43af-ef0c-afd026dd85cc"
      },
      "outputs": [
        {
          "data": {
            "text/plain": [
              "140"
            ]
          },
          "execution_count": 64,
          "metadata": {},
          "output_type": "execute_result"
        }
      ],
      "source": [
        "toks = 0\n",
        "for p in df[\"28M\"]: toks += len(tokz(p).input_ids)\n",
        "toks//44"
      ]
    },
    {
      "cell_type": "code",
      "execution_count": 65,
      "metadata": {
        "colab": {
          "base_uri": "https://localhost:8080/"
        },
        "id": "AVgZPqnPSBie",
        "outputId": "a85210bb-79b9-45c3-fb4a-b1ee8c4a7ca6"
      },
      "outputs": [
        {
          "data": {
            "text/plain": [
              "(226, 217, 204)"
            ]
          },
          "execution_count": 65,
          "metadata": {},
          "output_type": "execute_result"
        }
      ],
      "source": [
        "62+164, 64+153, 64+140"
      ]
    },
    {
      "cell_type": "markdown",
      "metadata": {
        "id": "ypDolxOSSFiu"
      },
      "source": [
        "The prompt (62) and completions (140, 153, 164) average about 200 tokens in length. This is a different tokenizer than I'm using so results will vary for my trained models"
      ]
    },
    {
      "cell_type": "markdown",
      "metadata": {
        "id": "iGBdgVejTXwr"
      },
      "source": [
        "## Closing Thoughts"
      ]
    },
    {
      "cell_type": "markdown",
      "metadata": {
        "id": "vTLSxKFtTY93"
      },
      "source": [
        "I have established two key elements for my evals:\n",
        "\n",
        "- Targets based on the literature (for my reference models and experiment models)\n",
        "\n",
        "|TinyStories|Hidden Dim|Num Layers|Eval Loss|Creativity|Grammar|Consistency|Plot|\n",
        "|:-:|:-:|:-:|:-:|:-:|:-:|:-:|:-:|\n",
        "|1M|64|8|2.08|4.68|6.14|4.45|4.40|\n",
        "|8M|256|8|1.38|6.54|7.72|8.02|7.23|\n",
        "|28M|512|8|1.20|6.85|8.34|8.95|7.26|"
      ]
    },
    {
      "cell_type": "markdown",
      "metadata": {
        "id": "7tozuApNT6eC"
      },
      "source": [
        "|Model Name|Hidden Dim|Intermediate Dim|Number of Layers|Number of Params|\n",
        "|:-:|:-:|:-:|:-:|:-:|\n",
        "|5M|64|256|13|4_949_696\n",
        "|25M|256|1024|8|24_776_960\n",
        "|60M|512|2048|6|57_940_480\n",
        "|125M|768|3072|8|124_662_528"
      ]
    },
    {
      "cell_type": "markdown",
      "metadata": {
        "id": "g7BL2-aHT72R"
      },
      "source": [
        "- Generations using reference models for evaluation prompts from literature\n",
        "    - 44 prompts (62 tokens on average)\n"
      ]
    },
    {
      "cell_type": "markdown",
      "metadata": {
        "id": "fzFHtRjyT8nU"
      },
      "source": [
        "My next steps:\n",
        "\n",
        "- Evaluate a sample of prompts from each model by hand for my six scoring categories:\n",
        "    - **Foundational language capabilities**: Grammar and Context-Tracking (Consistency)\n",
        "    - **Emergent capabilities**: Factual Knowledge, Reasoning, Creativity\n",
        "    - **Story-related capabilities**: Plot\n",
        "- Prompt different LLMs, iterating on prompts until LLM Judge scores match mine 90%+ of the time.\n",
        "\n",
        "Both steps will take considerable, so I'll break them down to smaller steps and publish blog posts and videos along the way. Make sure to subscribe to my YouTube channel or check the [TinyScale Lab playlist](https://www.youtube.com/playlist?list=PLVaenshL7UUD8iFmDDUpLCcuB-K_72mwI) for latest content!"
      ]
    }
  ],
  "metadata": {
    "accelerator": "GPU",
    "colab": {
      "gpuType": "T4",
      "provenance": []
    },
    "kernelspec": {
      "display_name": "Python 3",
      "name": "python3"
    },
    "language_info": {
      "name": "python"
    }
  },
  "nbformat": 4,
  "nbformat_minor": 0
}

{
  "cells": [
    {
      "cell_type": "raw",
      "metadata": {},
      "source": [
        "---\n",
        "title: Implementing an MNIST Classifier From Scratch\n",
        "date: \"2023-07-24\"\n",
        "author: Vishal Bakshi\n",
        "description: In this blog post, I write a `MNISTLearner` class which trains a neural net to classify the full MNIST dataset of 10 handwritten digits.\n",
        "categories:\n",
        "    - deep learning\n",
        "    - python\n",
        "---"
      ]
    },
    {
      "attachments": {},
      "cell_type": "markdown",
      "metadata": {
        "id": "3LWFqWaywiI7"
      },
      "source": [
        "## Background"
      ]
    },
    {
      "attachments": {},
      "cell_type": "markdown",
      "metadata": {
        "id": "_HKDAY1Hv1oC"
      },
      "source": [
        "In this notebook, I’ll work through the **second** “Further Research” exercise at the end of [Chapter 4 of the Practical Deep Learning for Coders textbook](https://github.com/fastai/fastbook/blob/master/04_mnist_basics.ipynb):\n",
        "\n",
        "> Complete all the steps in this chapter using the full MNIST datasets (for all digits, not just 3s and 7s). This is a significant project and will take you quite a bit of time to complete! You'll need to do some of your own research to figure out how to overcome obstacles you'll meet on the way."
      ]
    },
    {
      "attachments": {},
      "cell_type": "markdown",
      "metadata": {
        "id": "hJX4aROy0kZ1"
      },
      "source": [
        "## Plan of Attack"
      ]
    },
    {
      "attachments": {},
      "cell_type": "markdown",
      "metadata": {
        "id": "7_VcIuL80mW7"
      },
      "source": [
        "I'll start by reviewing each step of the training loop covered in this chapter (for 3s and 7s) and identify what elements need to change, why, and an a brief outline of how, in order to accommodate for all 10 digits."
      ]
    },
    {
      "attachments": {},
      "cell_type": "markdown",
      "metadata": {
        "id": "jN23NoDo0y9V"
      },
      "source": [
        "### Load and Prep Data"
      ]
    },
    {
      "attachments": {},
      "cell_type": "markdown",
      "metadata": {
        "id": "GOgbCfOQ06jS"
      },
      "source": [
        "In the chapter, we stacked tensor images of each digit to create `n` x `28` x `28` tensors (where `n` is the number of images in the training or validation folder) and then converted them to `n` x `784` tensors so that each pixel was in a one-dimensional row (corresponding to 784 parameters in the neural net in a one-dimensional row).\n",
        "\n",
        "To handle all 10 digits, I'll need to expand this logic without too much hard-coding---I don't want to create 10 tensors individually (`stacked_zeros`, `stacked_ones`, ..., `stacked_tens`) for training and validation data.\n",
        "\n",
        "Instead, I'll use list comprehension. First, let's look at how to access all the subfolders in the `train` and `valid` parent folders:"
      ]
    },
    {
      "cell_type": "code",
      "execution_count": 32,
      "metadata": {
        "id": "YVnA8i3RwgFd"
      },
      "outputs": [],
      "source": [
        "from fastai.vision.all import *"
      ]
    },
    {
      "cell_type": "code",
      "execution_count": 33,
      "metadata": {
        "colab": {
          "base_uri": "https://localhost:8080/",
          "height": 37
        },
        "id": "3BETkGaC2QrF",
        "outputId": "216f9b9c-2899-44b2-dbf1-e197e9ca57eb"
      },
      "outputs": [
        {
          "data": {
            "text/html": [
              "\n",
              "<style>\n",
              "    /* Turns off some styling */\n",
              "    progress {\n",
              "        /* gets rid of default border in Firefox and Opera. */\n",
              "        border: none;\n",
              "        /* Needs to be in here for Safari polyfill so background images work as expected. */\n",
              "        background-size: auto;\n",
              "    }\n",
              "    progress:not([value]), progress:not([value])::-webkit-progress-bar {\n",
              "        background: repeating-linear-gradient(45deg, #7e7e7e, #7e7e7e 10px, #5c5c5c 10px, #5c5c5c 20px);\n",
              "    }\n",
              "    .progress-bar-interrupted, .progress-bar-interrupted::-webkit-progress-bar {\n",
              "        background: #F44336;\n",
              "    }\n",
              "</style>\n"
            ],
            "text/plain": [
              "<IPython.core.display.HTML object>"
            ]
          },
          "metadata": {},
          "output_type": "display_data"
        },
        {
          "data": {
            "text/html": [
              "\n",
              "    <div>\n",
              "      <progress value='15687680' class='' max='15683414' style='width:300px; height:20px; vertical-align: middle;'></progress>\n",
              "      100.03% [15687680/15683414 00:00&lt;00:00]\n",
              "    </div>\n",
              "    "
            ],
            "text/plain": [
              "<IPython.core.display.HTML object>"
            ]
          },
          "metadata": {},
          "output_type": "display_data"
        }
      ],
      "source": [
        "path = untar_data(URLs.MNIST)"
      ]
    },
    {
      "cell_type": "code",
      "execution_count": 34,
      "metadata": {
        "colab": {
          "base_uri": "https://localhost:8080/"
        },
        "id": "jZf-u4sv2i2t",
        "outputId": "efd9488a-b06d-4afe-a304-c3150f8afc12"
      },
      "outputs": [
        {
          "data": {
            "text/plain": [
              "(#2) [Path('/root/.fastai/data/mnist_png/training'),Path('/root/.fastai/data/mnist_png/testing')]"
            ]
          },
          "execution_count": 34,
          "metadata": {},
          "output_type": "execute_result"
        }
      ],
      "source": [
        "path.ls()"
      ]
    },
    {
      "attachments": {},
      "cell_type": "markdown",
      "metadata": {
        "id": "eFWiUjo1CrQ4"
      },
      "source": [
        "#### Independent Variable: Images"
      ]
    },
    {
      "attachments": {},
      "cell_type": "markdown",
      "metadata": {
        "id": "hkda0y0Z4QGP"
      },
      "source": [
        "I can iterate through `(path/'training').ls()` to see the 10 digit subfolders containing training images for the digits:"
      ]
    },
    {
      "cell_type": "code",
      "execution_count": 35,
      "metadata": {
        "colab": {
          "base_uri": "https://localhost:8080/"
        },
        "id": "f32WX6tt4aGa",
        "outputId": "015fbd09-fc3c-4d41-ee14-b96e88157033"
      },
      "outputs": [
        {
          "data": {
            "text/plain": [
              "[Path('/root/.fastai/data/mnist_png/training/8'),\n",
              " Path('/root/.fastai/data/mnist_png/training/6'),\n",
              " Path('/root/.fastai/data/mnist_png/training/3'),\n",
              " Path('/root/.fastai/data/mnist_png/training/1'),\n",
              " Path('/root/.fastai/data/mnist_png/training/9'),\n",
              " Path('/root/.fastai/data/mnist_png/training/2'),\n",
              " Path('/root/.fastai/data/mnist_png/training/0'),\n",
              " Path('/root/.fastai/data/mnist_png/training/4'),\n",
              " Path('/root/.fastai/data/mnist_png/training/7'),\n",
              " Path('/root/.fastai/data/mnist_png/training/5')]"
            ]
          },
          "execution_count": 35,
          "metadata": {},
          "output_type": "execute_result"
        }
      ],
      "source": [
        "[path for path in (path/'training').ls()]"
      ]
    },
    {
      "attachments": {},
      "cell_type": "markdown",
      "metadata": {
        "id": "v8pc0yA54gOu"
      },
      "source": [
        "Taking it one layer deeper, I can nest a second list comprehension which collects individual file paths from each of the digit's folders:"
      ]
    },
    {
      "cell_type": "code",
      "execution_count": 36,
      "metadata": {
        "id": "NwdaGLSf2on6"
      },
      "outputs": [],
      "source": [
        "training_files = [[file for file in path.ls()] for path in (path/'training').ls().sorted()]"
      ]
    },
    {
      "attachments": {},
      "cell_type": "markdown",
      "metadata": {
        "id": "egF57oXE4riI"
      },
      "source": [
        "Here are the paths to the first 5 images in the first folder, which corresponds to the digit `0`:"
      ]
    },
    {
      "cell_type": "code",
      "execution_count": 37,
      "metadata": {
        "colab": {
          "base_uri": "https://localhost:8080/"
        },
        "id": "666SBbUd4vGW",
        "outputId": "4c977fea-e754-4efb-96d9-3293101ce0ab"
      },
      "outputs": [
        {
          "data": {
            "text/plain": [
              "[Path('/root/.fastai/data/mnist_png/training/0/35012.png'),\n",
              " Path('/root/.fastai/data/mnist_png/training/0/2009.png'),\n",
              " Path('/root/.fastai/data/mnist_png/training/0/14472.png'),\n",
              " Path('/root/.fastai/data/mnist_png/training/0/7589.png'),\n",
              " Path('/root/.fastai/data/mnist_png/training/0/53401.png')]"
            ]
          },
          "execution_count": 37,
          "metadata": {},
          "output_type": "execute_result"
        }
      ],
      "source": [
        "training_files[0][:5]"
      ]
    },
    {
      "attachments": {},
      "cell_type": "markdown",
      "metadata": {
        "id": "vxiF2agC44iU"
      },
      "source": [
        "And the paths to the first 5 images in the second folder, which corresponds to the digit `1`:"
      ]
    },
    {
      "cell_type": "code",
      "execution_count": 38,
      "metadata": {
        "colab": {
          "base_uri": "https://localhost:8080/"
        },
        "id": "bgjWyU_P48_9",
        "outputId": "510b9e94-172f-45dc-f99f-7b3a906eb181"
      },
      "outputs": [
        {
          "data": {
            "text/plain": [
              "[Path('/root/.fastai/data/mnist_png/training/1/47434.png'),\n",
              " Path('/root/.fastai/data/mnist_png/training/1/27790.png'),\n",
              " Path('/root/.fastai/data/mnist_png/training/1/42000.png'),\n",
              " Path('/root/.fastai/data/mnist_png/training/1/15633.png'),\n",
              " Path('/root/.fastai/data/mnist_png/training/1/21958.png')]"
            ]
          },
          "execution_count": 38,
          "metadata": {},
          "output_type": "execute_result"
        }
      ],
      "source": [
        "training_files[1][:5]"
      ]
    },
    {
      "attachments": {},
      "cell_type": "markdown",
      "metadata": {
        "id": "1a8e0UM85HDq"
      },
      "source": [
        "And so on for all 10 digits"
      ]
    },
    {
      "cell_type": "code",
      "execution_count": 39,
      "metadata": {
        "colab": {
          "base_uri": "https://localhost:8080/"
        },
        "id": "dUGypOvj5ZSD",
        "outputId": "063e34c4-6bf2-49f1-f423-d27ca2345d83"
      },
      "outputs": [
        {
          "data": {
            "text/plain": [
              "[Path('/root/.fastai/data/mnist_png/training/9/57008.png'),\n",
              " Path('/root/.fastai/data/mnist_png/training/9/28984.png'),\n",
              " Path('/root/.fastai/data/mnist_png/training/9/36162.png'),\n",
              " Path('/root/.fastai/data/mnist_png/training/9/42013.png'),\n",
              " Path('/root/.fastai/data/mnist_png/training/9/18296.png')]"
            ]
          },
          "execution_count": 39,
          "metadata": {},
          "output_type": "execute_result"
        }
      ],
      "source": [
        "training_files[9][:5]"
      ]
    },
    {
      "cell_type": "code",
      "execution_count": 40,
      "metadata": {
        "colab": {
          "base_uri": "https://localhost:8080/"
        },
        "id": "eJ7k2vfN5ILl",
        "outputId": "8f4c1af1-0d47-435b-c3ad-01b912e650ef"
      },
      "outputs": [
        {
          "data": {
            "text/plain": [
              "10"
            ]
          },
          "execution_count": 40,
          "metadata": {},
          "output_type": "execute_result"
        }
      ],
      "source": [
        "len(training_files)"
      ]
    },
    {
      "attachments": {},
      "cell_type": "markdown",
      "metadata": {
        "id": "kFZvkd7l5xSj"
      },
      "source": [
        "I'll illustrate the same for the validation set:"
      ]
    },
    {
      "cell_type": "code",
      "execution_count": 41,
      "metadata": {
        "id": "wXIsKmJ_5zhy"
      },
      "outputs": [],
      "source": [
        "validation_files = [[file for file in path.ls()] for path in (path/'testing').ls().sorted()]"
      ]
    },
    {
      "cell_type": "code",
      "execution_count": 42,
      "metadata": {
        "colab": {
          "base_uri": "https://localhost:8080/"
        },
        "id": "4_1kdZt357M5",
        "outputId": "3331fb7e-1d20-43fd-b9b7-b72017bbd000"
      },
      "outputs": [
        {
          "data": {
            "text/plain": [
              "[Path('/root/.fastai/data/mnist_png/testing/0/9095.png'),\n",
              " Path('/root/.fastai/data/mnist_png/testing/0/5990.png'),\n",
              " Path('/root/.fastai/data/mnist_png/testing/0/7505.png'),\n",
              " Path('/root/.fastai/data/mnist_png/testing/0/157.png'),\n",
              " Path('/root/.fastai/data/mnist_png/testing/0/5838.png')]"
            ]
          },
          "execution_count": 42,
          "metadata": {},
          "output_type": "execute_result"
        }
      ],
      "source": [
        "validation_files[0][:5]"
      ]
    },
    {
      "cell_type": "code",
      "execution_count": 43,
      "metadata": {
        "colab": {
          "base_uri": "https://localhost:8080/"
        },
        "id": "ZJ4yoNvf59Mk",
        "outputId": "7a32e886-0e23-42ca-cc11-0f0cda1ebd92"
      },
      "outputs": [
        {
          "data": {
            "text/plain": [
              "[Path('/root/.fastai/data/mnist_png/testing/9/2009.png'),\n",
              " Path('/root/.fastai/data/mnist_png/testing/9/7298.png'),\n",
              " Path('/root/.fastai/data/mnist_png/testing/9/5565.png'),\n",
              " Path('/root/.fastai/data/mnist_png/testing/9/9483.png'),\n",
              " Path('/root/.fastai/data/mnist_png/testing/9/5705.png')]"
            ]
          },
          "execution_count": 43,
          "metadata": {},
          "output_type": "execute_result"
        }
      ],
      "source": [
        "validation_files[9][:5]"
      ]
    },
    {
      "cell_type": "code",
      "execution_count": 44,
      "metadata": {
        "colab": {
          "base_uri": "https://localhost:8080/"
        },
        "id": "BOIQuxBo5-n1",
        "outputId": "d7fdb9a3-8787-4790-bd27-5b082a6d525c"
      },
      "outputs": [
        {
          "data": {
            "text/plain": [
              "10"
            ]
          },
          "execution_count": 44,
          "metadata": {},
          "output_type": "execute_result"
        }
      ],
      "source": [
        "len(validation_files)"
      ]
    },
    {
      "attachments": {},
      "cell_type": "markdown",
      "metadata": {
        "id": "Th9RAvbj6LuX"
      },
      "source": [
        "Next, I'll flatten the list of training and validation files, convert each to a stacked tensor, convert the pixel values to floating point values, and divide by 255 so the pixel values are between 0 and 1. I referenced [this Stack Overflow post](https://stackoverflow.com/a/952952) for flattening a nested list.\n",
        "\n",
        "To understand how it works, I find it easier to read left-to-right, broken up into two separate parts:\n",
        "\n",
        "```python\n",
        "file for (sublist in training_files) for (file in sublist)\n",
        "```\n",
        "\n",
        "In pseudocode:\n",
        "\n",
        "```\n",
        "populate this list with each file in each sublist in `training_files`\n",
        "```"
      ]
    },
    {
      "cell_type": "code",
      "execution_count": 45,
      "metadata": {
        "id": "lU9xIcEO6jpN"
      },
      "outputs": [],
      "source": [
        "training_files = [file for sublist in training_files for file in sublist]\n",
        "validation_files = [file for sublist in validation_files for file in sublist]"
      ]
    },
    {
      "attachments": {},
      "cell_type": "markdown",
      "metadata": {
        "id": "-o4dPosC-i7m"
      },
      "source": [
        "The dataset's [Wikimedia page](https://en.wikipedia.org/wiki/MNIST_database) says that it has 60,000 training images and 10,000 testing images. This matches the counts here:"
      ]
    },
    {
      "cell_type": "code",
      "execution_count": 46,
      "metadata": {
        "colab": {
          "base_uri": "https://localhost:8080/"
        },
        "id": "tE1PQbtI84Hd",
        "outputId": "f7e37d9d-2365-45a5-9fdd-01c24b7e7a05"
      },
      "outputs": [
        {
          "data": {
            "text/plain": [
              "(60000, 10000)"
            ]
          },
          "execution_count": 46,
          "metadata": {},
          "output_type": "execute_result"
        }
      ],
      "source": [
        "len(training_files), len(validation_files)"
      ]
    },
    {
      "attachments": {},
      "cell_type": "markdown",
      "metadata": {
        "id": "s8LTQsaL-xVz"
      },
      "source": [
        "I'll open a couple of the files and make sure I can view the images as expected:"
      ]
    },
    {
      "cell_type": "code",
      "execution_count": 47,
      "metadata": {
        "colab": {
          "base_uri": "https://localhost:8080/",
          "height": 114
        },
        "id": "oUCvmLoK-0qz",
        "outputId": "d1c3596b-33de-46f0-d971-5c45071dcc8e"
      },
      "outputs": [
        {
          "data": {
            "image/png": "[encoded data removed]",
            "text/plain": [
              "<Figure size 100x100 with 1 Axes>"
            ]
          },
          "metadata": {},
          "output_type": "display_data"
        }
      ],
      "source": [
        "# this should be an image of a handwritten zero\n",
        "show_image(tensor(Image.open(training_files[0])));"
      ]
    },
    {
      "cell_type": "code",
      "execution_count": 48,
      "metadata": {
        "colab": {
          "base_uri": "https://localhost:8080/",
          "height": 114
        },
        "id": "nAS-p1Cr_DiA",
        "outputId": "c2a11631-f263-454c-b472-55f2b647845b"
      },
      "outputs": [
        {
          "data": {
            "image/png": "[encoded data removed]",
            "text/plain": [
              "<Figure size 100x100 with 1 Axes>"
            ]
          },
          "metadata": {},
          "output_type": "display_data"
        }
      ],
      "source": [
        "# this should be an image of a handwritten nine\n",
        "show_image(tensor(Image.open(training_files[-1])));"
      ]
    },
    {
      "cell_type": "code",
      "execution_count": 49,
      "metadata": {
        "colab": {
          "base_uri": "https://localhost:8080/",
          "height": 114
        },
        "id": "79ZvAWAa-_kb",
        "outputId": "4be292fc-e975-4b94-f781-6378f32b2ce2"
      },
      "outputs": [
        {
          "data": {
            "image/png": "[encoded data removed]",
            "text/plain": [
              "<Figure size 100x100 with 1 Axes>"
            ]
          },
          "metadata": {},
          "output_type": "display_data"
        }
      ],
      "source": [
        "# this should be an image of a handwritten zero\n",
        "show_image(tensor(Image.open(validation_files[0])));"
      ]
    },
    {
      "cell_type": "code",
      "execution_count": 50,
      "metadata": {
        "colab": {
          "base_uri": "https://localhost:8080/",
          "height": 114
        },
        "id": "fQSDIawN_G1p",
        "outputId": "e6a25951-6f15-4769-f5d8-7d233cef451a"
      },
      "outputs": [
        {
          "data": {
            "image/png": "[encoded data removed]",
            "text/plain": [
              "<Figure size 100x100 with 1 Axes>"
            ]
          },
          "metadata": {},
          "output_type": "display_data"
        }
      ],
      "source": [
        "# this should be an image of a handwritten nine\n",
        "show_image(tensor(Image.open(validation_files[-1])));"
      ]
    },
    {
      "attachments": {},
      "cell_type": "markdown",
      "metadata": {
        "id": "zqLYmM43_Jqp"
      },
      "source": [
        "Looks good! The images are as expected. I can now move on to creating stacked floating point tensors of the training and validation images:"
      ]
    },
    {
      "cell_type": "code",
      "execution_count": 51,
      "metadata": {
        "colab": {
          "base_uri": "https://localhost:8080/"
        },
        "id": "eBhIw3pZ_YUi",
        "outputId": "8c67452f-c11d-4f4f-a214-46312fcf6549"
      },
      "outputs": [
        {
          "data": {
            "text/plain": [
              "torch.Size([60000, 28, 28])"
            ]
          },
          "execution_count": 51,
          "metadata": {},
          "output_type": "execute_result"
        }
      ],
      "source": [
        "train_x = torch.stack([tensor(Image.open(o)) for o in training_files]).float()/255\n",
        "train_x.shape"
      ]
    },
    {
      "cell_type": "code",
      "execution_count": 52,
      "metadata": {
        "colab": {
          "base_uri": "https://localhost:8080/"
        },
        "id": "aBrvjZ1B_R7Z",
        "outputId": "7bd19cc2-17ed-4eaa-cc80-14466871b5b3"
      },
      "outputs": [
        {
          "data": {
            "text/plain": [
              "torch.Size([10000, 28, 28])"
            ]
          },
          "execution_count": 52,
          "metadata": {},
          "output_type": "execute_result"
        }
      ],
      "source": [
        "valid_x = torch.stack([tensor(Image.open(o)) for o in validation_files]).float()/255\n",
        "valid_x.shape"
      ]
    },
    {
      "attachments": {},
      "cell_type": "markdown",
      "metadata": {
        "id": "a7X_IoYJAFjW"
      },
      "source": [
        "I'll view my data one more time before changing its shape:"
      ]
    },
    {
      "cell_type": "code",
      "execution_count": 53,
      "metadata": {
        "colab": {
          "base_uri": "https://localhost:8080/",
          "height": 114
        },
        "id": "yLJKJpLeALDf",
        "outputId": "732fe987-9018-4660-aedf-6328bdc07820"
      },
      "outputs": [
        {
          "data": {
            "image/png": "[encoded data removed]",
            "text/plain": [
              "<Figure size 100x100 with 1 Axes>"
            ]
          },
          "metadata": {},
          "output_type": "display_data"
        }
      ],
      "source": [
        "# this should be a zero\n",
        "show_image(train_x[0]);"
      ]
    },
    {
      "cell_type": "code",
      "execution_count": 54,
      "metadata": {
        "colab": {
          "base_uri": "https://localhost:8080/",
          "height": 114
        },
        "id": "LZET8eUvARpz",
        "outputId": "28abc2c3-85e8-4954-bb37-ba461345a7f2"
      },
      "outputs": [
        {
          "data": {
            "image/png": "[encoded data removed]",
            "text/plain": [
              "<Figure size 100x100 with 1 Axes>"
            ]
          },
          "metadata": {},
          "output_type": "display_data"
        }
      ],
      "source": [
        "# this should be a nine\n",
        "show_image(train_x[-1]);"
      ]
    },
    {
      "cell_type": "code",
      "execution_count": 55,
      "metadata": {
        "colab": {
          "base_uri": "https://localhost:8080/",
          "height": 114
        },
        "id": "TtUcTOUdAT-o",
        "outputId": "7d8a1692-2ecd-4e7a-8f11-e9c06d852d27"
      },
      "outputs": [
        {
          "data": {
            "image/png": "[encoded data removed]",
            "text/plain": [
              "<Figure size 100x100 with 1 Axes>"
            ]
          },
          "metadata": {},
          "output_type": "display_data"
        }
      ],
      "source": [
        "# this should be a zero\n",
        "show_image(valid_x[0]);"
      ]
    },
    {
      "cell_type": "code",
      "execution_count": 56,
      "metadata": {
        "colab": {
          "base_uri": "https://localhost:8080/",
          "height": 114
        },
        "id": "87qNCJJCAVo_",
        "outputId": "406c8c3a-2b93-4651-c370-eb8ac93ff034"
      },
      "outputs": [
        {
          "data": {
            "image/png": "[encoded data removed]",
            "text/plain": [
              "<Figure size 100x100 with 1 Axes>"
            ]
          },
          "metadata": {},
          "output_type": "display_data"
        }
      ],
      "source": [
        "# this should be a nine\n",
        "show_image(valid_x[-1]);"
      ]
    },
    {
      "attachments": {},
      "cell_type": "markdown",
      "metadata": {
        "id": "vbK4HJcFAZ7K"
      },
      "source": [
        "Great! I'll flatten the images so that they are 784 pixels long, instead of a 28 x 28 matrix."
      ]
    },
    {
      "cell_type": "code",
      "execution_count": 57,
      "metadata": {
        "colab": {
          "base_uri": "https://localhost:8080/"
        },
        "id": "aCJ_034QAj9E",
        "outputId": "3d4164a1-97ae-4793-d6df-f087124553c1"
      },
      "outputs": [
        {
          "data": {
            "text/plain": [
              "torch.Size([60000, 784])"
            ]
          },
          "execution_count": 57,
          "metadata": {},
          "output_type": "execute_result"
        }
      ],
      "source": [
        "train_x = train_x.view(-1, 28*28)\n",
        "train_x.shape"
      ]
    },
    {
      "cell_type": "code",
      "execution_count": 58,
      "metadata": {
        "colab": {
          "base_uri": "https://localhost:8080/"
        },
        "id": "ngz3Ez3zAvAQ",
        "outputId": "49c5e058-c379-4e01-c69b-03fb9f464b99"
      },
      "outputs": [
        {
          "data": {
            "text/plain": [
              "torch.Size([10000, 784])"
            ]
          },
          "execution_count": 58,
          "metadata": {},
          "output_type": "execute_result"
        }
      ],
      "source": [
        "valid_x = valid_x.view(-1, 28*28)\n",
        "valid_x.shape"
      ]
    },
    {
      "attachments": {},
      "cell_type": "markdown",
      "metadata": {
        "id": "NRGDYW4HEJ_S"
      },
      "source": [
        "#### Dependent Variable: Labels"
      ]
    },
    {
      "attachments": {},
      "cell_type": "markdown",
      "metadata": {
        "id": "6hAwUUf8EOK2"
      },
      "source": [
        "Now that I have the `x` (independent) variable data prepared, I'll do the same for the `y` (dependent) variable data---the labels for the images.\n",
        "\n",
        "I'll reuse my `training_files` and `validation_files` lists as they already contain the paths to each image file, from which I'll extract the label. `path.parts` splits the path into a tuple of its individual parts (split by \"/\"). The parent folder (the second-to-last part of the path) of the path is the label of the image."
      ]
    },
    {
      "cell_type": "code",
      "execution_count": 59,
      "metadata": {
        "colab": {
          "base_uri": "https://localhost:8080/"
        },
        "id": "bWUz6QfZGC-O",
        "outputId": "59ef421f-72ed-45b8-f615-076c10d3b871"
      },
      "outputs": [
        {
          "data": {
            "text/plain": [
              "(0, 9)"
            ]
          },
          "execution_count": 59,
          "metadata": {},
          "output_type": "execute_result"
        }
      ],
      "source": [
        "training_labels = [int(path.parts[-2]) for path in training_files]\n",
        "training_labels[0], training_labels[-1]"
      ]
    },
    {
      "cell_type": "code",
      "execution_count": 60,
      "metadata": {
        "colab": {
          "base_uri": "https://localhost:8080/"
        },
        "id": "GCIQ0qGr2sIK",
        "outputId": "ff8acbfe-f3fb-4d3e-8000-addc226bf08a"
      },
      "outputs": [
        {
          "data": {
            "text/plain": [
              "(0, 9)"
            ]
          },
          "execution_count": 60,
          "metadata": {},
          "output_type": "execute_result"
        }
      ],
      "source": [
        "validation_labels = [int(path.parts[-2]) for path in validation_files]\n",
        "validation_labels[0], validation_labels[-1]"
      ]
    },
    {
      "cell_type": "code",
      "execution_count": 61,
      "metadata": {
        "colab": {
          "base_uri": "https://localhost:8080/"
        },
        "id": "VnYHG1wQ6xAg",
        "outputId": "00b853da-6e9e-4b55-92fa-78a7f2495096"
      },
      "outputs": [
        {
          "data": {
            "text/plain": [
              "torch.Size([60000, 1])"
            ]
          },
          "execution_count": 61,
          "metadata": {},
          "output_type": "execute_result"
        }
      ],
      "source": [
        "train_y = tensor(training_labels).unsqueeze(1)\n",
        "train_y.shape"
      ]
    },
    {
      "cell_type": "code",
      "execution_count": 62,
      "metadata": {
        "colab": {
          "base_uri": "https://localhost:8080/"
        },
        "id": "5VwOnAjgG8Q7",
        "outputId": "1ca1ea71-5e54-44e6-a298-0b24db1475af"
      },
      "outputs": [
        {
          "data": {
            "text/plain": [
              "torch.Size([10000, 1])"
            ]
          },
          "execution_count": 62,
          "metadata": {},
          "output_type": "execute_result"
        }
      ],
      "source": [
        "valid_y = tensor(validation_labels).unsqueeze(1)\n",
        "valid_y.shape"
      ]
    },
    {
      "attachments": {},
      "cell_type": "markdown",
      "metadata": {
        "id": "sbiLx68lHJiC"
      },
      "source": [
        "Excellent! Now with the data in the right structure, I'll create a `DataLoaders` object that will be fed to the learner during training:"
      ]
    },
    {
      "cell_type": "code",
      "execution_count": 63,
      "metadata": {
        "colab": {
          "base_uri": "https://localhost:8080/"
        },
        "id": "bYfci3neHAaD",
        "outputId": "9293cd8c-4d44-456b-bd3a-8a3709ef9b30"
      },
      "outputs": [
        {
          "data": {
            "text/plain": [
              "(torch.Size([784]), tensor([0]))"
            ]
          },
          "execution_count": 63,
          "metadata": {},
          "output_type": "execute_result"
        }
      ],
      "source": [
        "dset = list(zip(train_x, train_y))\n",
        "x,y = dset[0]\n",
        "x.shape, y"
      ]
    },
    {
      "cell_type": "code",
      "execution_count": 64,
      "metadata": {
        "colab": {
          "base_uri": "https://localhost:8080/"
        },
        "id": "lWdo00pLHdnQ",
        "outputId": "fdb354f8-be0c-41d4-9b6d-b75ce6f7fa92"
      },
      "outputs": [
        {
          "data": {
            "text/plain": [
              "(torch.Size([784]), tensor([0]))"
            ]
          },
          "execution_count": 64,
          "metadata": {},
          "output_type": "execute_result"
        }
      ],
      "source": [
        "valid_dset = list(zip(valid_x, valid_y))\n",
        "x,y = valid_dset[0]\n",
        "x.shape, y"
      ]
    },
    {
      "cell_type": "code",
      "execution_count": 65,
      "metadata": {
        "colab": {
          "base_uri": "https://localhost:8080/"
        },
        "id": "8I-hTQ-zHkYv",
        "outputId": "b646abb7-c7ea-4402-fd47-12cd3738f24e"
      },
      "outputs": [
        {
          "data": {
            "text/plain": [
              "(torch.Size([256, 784]), torch.Size([256, 1]))"
            ]
          },
          "execution_count": 65,
          "metadata": {},
          "output_type": "execute_result"
        }
      ],
      "source": [
        "dl = DataLoader(dset, batch_size=256)\n",
        "xb,yb = first(dl)\n",
        "xb.shape, yb.shape"
      ]
    },
    {
      "cell_type": "code",
      "execution_count": 66,
      "metadata": {
        "colab": {
          "base_uri": "https://localhost:8080/"
        },
        "id": "5Icy1Et2HtD8",
        "outputId": "31d4b043-9956-4c56-9036-3291821dc1cf"
      },
      "outputs": [
        {
          "data": {
            "text/plain": [
              "(torch.Size([256, 784]), torch.Size([256, 1]))"
            ]
          },
          "execution_count": 66,
          "metadata": {},
          "output_type": "execute_result"
        }
      ],
      "source": [
        "valid_dl = DataLoader(valid_dset, batch_size=256)\n",
        "valid_xb, valid_yb = first(valid_dl)\n",
        "valid_xb.shape, valid_yb.shape"
      ]
    },
    {
      "attachments": {},
      "cell_type": "markdown",
      "metadata": {
        "id": "jRk1BaYX6_WK"
      },
      "source": [
        "I combine the two `DataLoader`s into a single `DataLoaders` object:"
      ]
    },
    {
      "cell_type": "code",
      "execution_count": 67,
      "metadata": {
        "id": "SlWr8lLpHvNn"
      },
      "outputs": [],
      "source": [
        "dls = DataLoaders(dl, valid_dl)"
      ]
    },
    {
      "attachments": {},
      "cell_type": "markdown",
      "metadata": {
        "id": "ynlqm0lk7D9h"
      },
      "source": [
        "And check that they contain the right amount of data:"
      ]
    },
    {
      "cell_type": "code",
      "execution_count": 68,
      "metadata": {
        "colab": {
          "base_uri": "https://localhost:8080/"
        },
        "id": "1SpD-4MFH0JP",
        "outputId": "ae08e567-8242-4e6a-b402-d78350cb0303"
      },
      "outputs": [
        {
          "data": {
            "text/plain": [
              "(60000, 10000)"
            ]
          },
          "execution_count": 68,
          "metadata": {},
          "output_type": "execute_result"
        }
      ],
      "source": [
        "len(dls.train.dataset), len(dls.valid.dataset)"
      ]
    },
    {
      "attachments": {},
      "cell_type": "markdown",
      "metadata": {
        "id": "XDs5Jo7xIEUd"
      },
      "source": [
        "Great! With my `DataLoaders` prepared, I can move on to other aspects of the training loop that will need to be modified to handle 10 digits instead of 2."
      ]
    },
    {
      "attachments": {},
      "cell_type": "markdown",
      "metadata": {
        "id": "kYkmuYR67LVy"
      },
      "source": [
        "### Create Our Model"
      ]
    },
    {
      "attachments": {},
      "cell_type": "markdown",
      "metadata": {
        "id": "c0E8XELM6ScY"
      },
      "source": [
        "Here is the existing model that we're using to classify two digits:\n",
        "\n",
        "```python\n",
        "simple_net = nn.Sequential(\n",
        "    nn.Linear(28*28, 30),\n",
        "    nn.ReLU(),\n",
        "    nn.Linear(30, 1)\n",
        ")\n",
        "```\n",
        "\n",
        "It has 784 inputs and 1 output. For 10 digits, I need to adjust th number of outputs to 10:"
      ]
    },
    {
      "cell_type": "code",
      "execution_count": 69,
      "metadata": {
        "id": "38-t7AsGH6uT"
      },
      "outputs": [],
      "source": [
        "simple_net = nn.Sequential(\n",
        "    nn.Linear(28*28, 30),\n",
        "    nn.ReLU(),\n",
        "    nn.Linear(30,10)\n",
        ")"
      ]
    },
    {
      "attachments": {},
      "cell_type": "markdown",
      "metadata": {
        "id": "FBBkKMgd63P5"
      },
      "source": [
        " I assume that since we have more final activations, we would also need to increase the intermediate activations from 30 to a larger number, but I'll keep it at 30 for now and then make improvements once I've actually got a successful training loop."
      ]
    },
    {
      "attachments": {},
      "cell_type": "markdown",
      "metadata": {
        "id": "1kDER5787L3F"
      },
      "source": [
        "### Create a Loss Function"
      ]
    },
    {
      "attachments": {},
      "cell_type": "markdown",
      "metadata": {
        "id": "4T9-XsQ67QO1"
      },
      "source": [
        "This is the main change that will take place in our training loop: using a loss function that can handle 10 digits instead of 2. In the exercise prompt, they said that we would need to:\n",
        "\n",
        "> do some of your own research to figure out how to overcome obstacles you'll meet on the way\n",
        "\n",
        "And I think this is probably the main obstacle to overcome. In the textbook chapter, when they trained the dataset using the built-in `Learner`, they passed it `F.cross_entropy` as the loss function:\n",
        "\n",
        "```\n",
        "learn = vision_learner(dls, resnet18, pretrained=False, loss_func=F.cross_entropy, metrics=accuracy)\n",
        "\n",
        "```\n",
        "\n",
        "In the text, they introduce Cross-Entropy Loss in Chapter 5, so I'll take a detour through that chapter's relevant sections to inform me on how to create a loss function for a 10-digit classifier."
      ]
    },
    {
      "attachments": {},
      "cell_type": "markdown",
      "metadata": {
        "id": "m4KETfWu8veN"
      },
      "source": [
        "#### Cross-Entropy Loss"
      ]
    },
    {
      "attachments": {},
      "cell_type": "markdown",
      "metadata": {
        "id": "Wesvb8V08xSH"
      },
      "source": [
        "- Works even when our dependent variable has more than two categories.\n",
        "- Results in faster and more reliable training.\n",
        "\n",
        "As is done in the book example, I'll view one batch of our data:"
      ]
    },
    {
      "cell_type": "code",
      "execution_count": 70,
      "metadata": {
        "colab": {
          "base_uri": "https://localhost:8080/"
        },
        "id": "PsEIyenE6pFW",
        "outputId": "3422fe8d-c8d6-49dc-91fc-1ba7081a0405"
      },
      "outputs": [
        {
          "data": {
            "text/plain": [
              "tensor([[0],\n",
              "        [0],\n",
              "        [0],\n",
              "        [0],\n",
              "        [0],\n",
              "        [0],\n",
              "        [0],\n",
              "        [0],\n",
              "        [0],\n",
              "        [0]])"
            ]
          },
          "execution_count": 70,
          "metadata": {},
          "output_type": "execute_result"
        }
      ],
      "source": [
        "x,y = dls.one_batch()\n",
        "y[:10]"
      ]
    },
    {
      "attachments": {},
      "cell_type": "markdown",
      "metadata": {
        "id": "atSWW6nU-PSj"
      },
      "source": [
        "Currently, my data is not shuffled, so all the 0s are first, then all the 1s, 2s, ..., and 9s. This doesn't seem like a great way to train the model since it will learn only 1 digit's features in each batch. I'll recreate the `DataLoader`s and pass the parameter value `shuffle=True`:"
      ]
    },
    {
      "cell_type": "code",
      "execution_count": 71,
      "metadata": {
        "colab": {
          "base_uri": "https://localhost:8080/"
        },
        "id": "Go-zUzbF9iND",
        "outputId": "2c3a08c9-2412-4534-d337-1d64148a86ba"
      },
      "outputs": [
        {
          "data": {
            "text/plain": [
              "tensor([[5],\n",
              "        [4],\n",
              "        [1],\n",
              "        [3],\n",
              "        [0],\n",
              "        [3],\n",
              "        [7],\n",
              "        [2],\n",
              "        [3],\n",
              "        [0]])"
            ]
          },
          "execution_count": 71,
          "metadata": {},
          "output_type": "execute_result"
        }
      ],
      "source": [
        "dl = DataLoader(dset, batch_size=256, shuffle=True)\n",
        "xb,yb = first(dl)\n",
        "yb[:10]"
      ]
    },
    {
      "cell_type": "code",
      "execution_count": 72,
      "metadata": {
        "colab": {
          "base_uri": "https://localhost:8080/"
        },
        "id": "UaKuFg2d-u1N",
        "outputId": "e7e6b096-b1b7-4c72-d33b-a574faa625a4"
      },
      "outputs": [
        {
          "data": {
            "text/plain": [
              "tensor([[4],\n",
              "        [7],\n",
              "        [9],\n",
              "        [6],\n",
              "        [1],\n",
              "        [8],\n",
              "        [9],\n",
              "        [5],\n",
              "        [3],\n",
              "        [0]])"
            ]
          },
          "execution_count": 72,
          "metadata": {},
          "output_type": "execute_result"
        }
      ],
      "source": [
        "valid_dl = DataLoader(valid_dset, batch_size=256, shuffle=True)\n",
        "valid_xb, valid_yb = first(valid_dl)\n",
        "valid_yb[:10]"
      ]
    },
    {
      "cell_type": "code",
      "execution_count": 73,
      "metadata": {
        "id": "f4yUl71B-0xc"
      },
      "outputs": [],
      "source": [
        "dls = DataLoaders(dl, valid_dl)"
      ]
    },
    {
      "cell_type": "code",
      "execution_count": 74,
      "metadata": {
        "colab": {
          "base_uri": "https://localhost:8080/"
        },
        "id": "xXplLImQ-7I5",
        "outputId": "8cb67c0a-8d31-490e-f624-21167c359e62"
      },
      "outputs": [
        {
          "data": {
            "text/plain": [
              "(60000, 10000)"
            ]
          },
          "execution_count": 74,
          "metadata": {},
          "output_type": "execute_result"
        }
      ],
      "source": [
        "len(dls.train.dataset), len(dls.valid.dataset)"
      ]
    },
    {
      "attachments": {},
      "cell_type": "markdown",
      "metadata": {
        "id": "TEwFaD16--UM"
      },
      "source": [
        "Now, when I look at one batch, I can see a variety of labels:"
      ]
    },
    {
      "cell_type": "code",
      "execution_count": 75,
      "metadata": {
        "colab": {
          "base_uri": "https://localhost:8080/"
        },
        "id": "mdRa-U1c-4Lq",
        "outputId": "8c4bd129-d10f-4fe9-eedf-1bf40b4c21ca"
      },
      "outputs": [
        {
          "data": {
            "text/plain": [
              "tensor([[8],\n",
              "        [3],\n",
              "        [2],\n",
              "        [7],\n",
              "        [3],\n",
              "        [9],\n",
              "        [1],\n",
              "        [6],\n",
              "        [0],\n",
              "        [7]])"
            ]
          },
          "execution_count": 75,
          "metadata": {},
          "output_type": "execute_result"
        }
      ],
      "source": [
        "x,y = dls.one_batch()\n",
        "y[:10]"
      ]
    },
    {
      "attachments": {},
      "cell_type": "markdown",
      "metadata": {
        "id": "HVkx_B_f_Mcq"
      },
      "source": [
        "The output predictions of the model will contain 10 predictions (one for each digit) that add up to 1. According to Chapter 5, we need to use the *softmax* function to achieve a result like this."
      ]
    },
    {
      "attachments": {},
      "cell_type": "markdown",
      "metadata": {
        "id": "GMa6W05j_jkw"
      },
      "source": [
        "##### Softmax"
      ]
    },
    {
      "attachments": {},
      "cell_type": "markdown",
      "metadata": {
        "id": "BOFWd_Tp_zCq"
      },
      "source": [
        "Assume we have a scenario with 6 images and 2 possible categories (`3` and `7`):"
      ]
    },
    {
      "cell_type": "code",
      "execution_count": 76,
      "metadata": {
        "id": "3X0GOapL-6RL"
      },
      "outputs": [],
      "source": [
        "torch.random.manual_seed(42);"
      ]
    },
    {
      "cell_type": "code",
      "execution_count": 77,
      "metadata": {
        "colab": {
          "base_uri": "https://localhost:8080/"
        },
        "id": "-ugtl7dX_7yO",
        "outputId": "3d281a35-c81b-4847-9ec4-ae21b5d4e405"
      },
      "outputs": [
        {
          "data": {
            "text/plain": [
              "tensor([[ 0.6734,  0.2576],\n",
              "        [ 0.4689,  0.4607],\n",
              "        [-2.2457, -0.3727],\n",
              "        [ 4.4164, -1.2760],\n",
              "        [ 0.9233,  0.5347],\n",
              "        [ 1.0698,  1.6187]])"
            ]
          },
          "execution_count": 77,
          "metadata": {},
          "output_type": "execute_result"
        }
      ],
      "source": [
        "acts = torch.randn((6,2))*2\n",
        "acts"
      ]
    },
    {
      "attachments": {},
      "cell_type": "markdown",
      "metadata": {
        "id": "R5hqDRsoDVew"
      },
      "source": [
        "We can't just take the `sigmoid` of this directly since we want rows to add up to 1.0 (i.e., we want the probability of being a 3 plus the probability of being a 7 to add up to 1)."
      ]
    },
    {
      "cell_type": "code",
      "execution_count": 78,
      "metadata": {
        "colab": {
          "base_uri": "https://localhost:8080/"
        },
        "id": "ak-AmEBsDFul",
        "outputId": "99030ee4-e14c-489e-cbbc-55938f8ae9c5"
      },
      "outputs": [
        {
          "data": {
            "text/plain": [
              "tensor([[0.6623, 0.5641],\n",
              "        [0.6151, 0.6132],\n",
              "        [0.0957, 0.4079],\n",
              "        [0.9881, 0.2182],\n",
              "        [0.7157, 0.6306],\n",
              "        [0.7446, 0.8346]])"
            ]
          },
          "execution_count": 78,
          "metadata": {},
          "output_type": "execute_result"
        }
      ],
      "source": [
        "acts.sigmoid()"
      ]
    },
    {
      "attachments": {},
      "cell_type": "markdown",
      "metadata": {
        "id": "ES9IFhINDue5"
      },
      "source": [
        "In the binary case, a single pair of activations simply indicates the *relative* confidence of the input being a `3` versus being a `7`. The overall values, whether they are both high or both low, don't matter---all that matters is which is higher and by how much.\n",
        "\n",
        "We can take the *difference* between the neural net activations because that reflects how much more sure we are of the input being a `3` than a `7`, and then take the `sigmoid` of that:"
      ]
    },
    {
      "cell_type": "code",
      "execution_count": 79,
      "metadata": {
        "colab": {
          "base_uri": "https://localhost:8080/"
        },
        "id": "V117l0vjDSol",
        "outputId": "5e639f52-8eb4-407d-e7f1-3cdeae894389"
      },
      "outputs": [
        {
          "data": {
            "text/plain": [
              "tensor([0.6025, 0.5021, 0.1332, 0.9966, 0.5959, 0.3661])"
            ]
          },
          "execution_count": 79,
          "metadata": {},
          "output_type": "execute_result"
        }
      ],
      "source": [
        "(acts[:,0] - acts[:,1]).sigmoid()"
      ]
    },
    {
      "attachments": {},
      "cell_type": "markdown",
      "metadata": {
        "id": "sAaAMA-kEn6V"
      },
      "source": [
        "The second column (the probability of it being a `7`) will then just be that value subtracted from 1. The function `softmax` does this for any number of columns:"
      ]
    },
    {
      "cell_type": "code",
      "execution_count": 80,
      "metadata": {
        "id": "1X_Yw_chEm5X"
      },
      "outputs": [],
      "source": [
        "def softmax(x): return torch.exp(x) / torch.exp(x).sum(dim=1, keepdim=True)"
      ]
    },
    {
      "cell_type": "code",
      "execution_count": 81,
      "metadata": {
        "colab": {
          "base_uri": "https://localhost:8080/"
        },
        "id": "HtXhEoRDE-W-",
        "outputId": "70beaa02-3799-4a4d-eae9-4f6443bb1ac5"
      },
      "outputs": [
        {
          "data": {
            "text/plain": [
              "tensor([[0.6025, 0.3975],\n",
              "        [0.5021, 0.4979],\n",
              "        [0.1332, 0.8668],\n",
              "        [0.9966, 0.0034],\n",
              "        [0.5959, 0.4041],\n",
              "        [0.3661, 0.6339]])"
            ]
          },
          "execution_count": 81,
          "metadata": {},
          "output_type": "execute_result"
        }
      ],
      "source": [
        "sm_acts = softmax(acts)\n",
        "sm_acts"
      ]
    },
    {
      "attachments": {},
      "cell_type": "markdown",
      "metadata": {
        "id": "SxCyczcPFYEV"
      },
      "source": [
        "`softmax` is the multi-category equivalent of `sigmoid`. We have to use it any time we have more than two categories and the probabilities of the categories must add up to 1. Taking the exponential ensures all of our numbers are positive, and then dividing by the sum ensures that we are going to have a bunch of numbers that add up to 1.\n",
        "\n",
        "`softmax` is the first part of the cross-entropy loss, the second part is log likelihood."
      ]
    },
    {
      "attachments": {},
      "cell_type": "markdown",
      "metadata": {
        "id": "U8o4jjOeGRF2"
      },
      "source": [
        "##### Log Likelihood"
      ]
    },
    {
      "attachments": {},
      "cell_type": "markdown",
      "metadata": {
        "id": "pVKDrViPRWK_"
      },
      "source": [
        "When we calculated the loss for our MNIST example, we used:\n",
        "\n",
        "```python\n",
        "def mnist_loss(inputs, targets):\n",
        "  inputs = inputs.sigmoid()\n",
        "  return torch.where(targets==1, 1-inputs, inputs).mean()\n",
        "```\n",
        "\n",
        "We need to extend the loss function to work with more than just binary classification.\n",
        "\n",
        "Our activations after `softmax` are between 0 and 1, and sum to 1 for each row in the batch of predictions, our targets are integers between 0 and 9.\n",
        "\n",
        "Let's say these are our labels:"
      ]
    },
    {
      "cell_type": "code",
      "execution_count": 82,
      "metadata": {
        "id": "5ktFrcTPSIy6"
      },
      "outputs": [],
      "source": [
        "targ = tensor([0,1,0,1,1,0])"
      ]
    },
    {
      "attachments": {},
      "cell_type": "markdown",
      "metadata": {
        "id": "ReqnLNdYSO0b"
      },
      "source": [
        "And these are the softmax activations:"
      ]
    },
    {
      "cell_type": "code",
      "execution_count": 83,
      "metadata": {
        "colab": {
          "base_uri": "https://localhost:8080/"
        },
        "id": "oW-1iTa_FHj2",
        "outputId": "8d83102e-53d4-41dd-e971-867a920fe7dc"
      },
      "outputs": [
        {
          "data": {
            "text/plain": [
              "tensor([[0.6025, 0.3975],\n",
              "        [0.5021, 0.4979],\n",
              "        [0.1332, 0.8668],\n",
              "        [0.9966, 0.0034],\n",
              "        [0.5959, 0.4041],\n",
              "        [0.3661, 0.6339]])"
            ]
          },
          "execution_count": 83,
          "metadata": {},
          "output_type": "execute_result"
        }
      ],
      "source": [
        "sm_acts"
      ]
    },
    {
      "attachments": {},
      "cell_type": "markdown",
      "metadata": {
        "id": "kk1rQJ_aSSOc"
      },
      "source": [
        "Then for each item of `targ`, we can use that to select the appropriate column of `sm_acts` using tensor indexing like this:"
      ]
    },
    {
      "cell_type": "code",
      "execution_count": 84,
      "metadata": {
        "colab": {
          "base_uri": "https://localhost:8080/"
        },
        "id": "YgZ5l-xkSQlP",
        "outputId": "19de5cd5-20bc-4357-caad-abef3f3e47e2"
      },
      "outputs": [
        {
          "data": {
            "text/plain": [
              "tensor([0.6025, 0.4979, 0.1332, 0.0034, 0.4041, 0.3661])"
            ]
          },
          "execution_count": 84,
          "metadata": {},
          "output_type": "execute_result"
        }
      ],
      "source": [
        "idx = range(6)\n",
        "sm_acts[idx, targ]"
      ]
    },
    {
      "attachments": {},
      "cell_type": "markdown",
      "metadata": {
        "id": "oqzXf6gYS4fT"
      },
      "source": [
        "As long as the activation columns sum to 1 (as they will if we use softmax), we'll have a loss function that shows how well we're predicting each digit.\n",
        "\n",
        "Making the activation for the correct label as high as possible must mean we're also decreasing the activations of the remaining columns.\n",
        "\n",
        "PyTorch provides `nll_loss` which does the same thing as `sm_acts[range(n), targ]` except it takes the negative because when applying log afterwards we want negative numbers:"
      ]
    },
    {
      "cell_type": "code",
      "execution_count": 85,
      "metadata": {
        "colab": {
          "base_uri": "https://localhost:8080/"
        },
        "id": "7M_hBxyuSaNu",
        "outputId": "b2d3aa1d-3f8f-42a6-95e6-9bce966a2538"
      },
      "outputs": [
        {
          "data": {
            "text/plain": [
              "tensor([-0.6025, -0.4979, -0.1332, -0.0034, -0.4041, -0.3661])"
            ]
          },
          "execution_count": 85,
          "metadata": {},
          "output_type": "execute_result"
        }
      ],
      "source": [
        "-sm_acts[idx, targ]"
      ]
    },
    {
      "cell_type": "code",
      "execution_count": 86,
      "metadata": {
        "colab": {
          "base_uri": "https://localhost:8080/"
        },
        "id": "0c62_xcQTpvE",
        "outputId": "ab662671-c2c0-4906-9642-4af22b6117f0"
      },
      "outputs": [
        {
          "data": {
            "text/plain": [
              "tensor([-0.6025, -0.4979, -0.1332, -0.0034, -0.4041, -0.3661])"
            ]
          },
          "execution_count": 86,
          "metadata": {},
          "output_type": "execute_result"
        }
      ],
      "source": [
        "F.nll_loss(sm_acts, targ, reduction='none')"
      ]
    },
    {
      "attachments": {},
      "cell_type": "markdown",
      "metadata": {
        "id": "qRIbpxMkVK3K"
      },
      "source": [
        "##### Taking the log"
      ]
    },
    {
      "attachments": {},
      "cell_type": "markdown",
      "metadata": {
        "id": "COzHcG_SVF7u"
      },
      "source": [
        "Here's a plot of the log function"
      ]
    },
    {
      "cell_type": "code",
      "execution_count": 87,
      "metadata": {
        "id": "7Fh9cALaTrDz"
      },
      "outputs": [],
      "source": [
        "def plot_function(f, title=None, min=-2.1, max=2.1, color='r', ylim=None):\n",
        "    x = torch.linspace(min,max, 100)[:,None]\n",
        "    if ylim: plt.ylim(ylim)\n",
        "    plt.plot(x, f(x), color)\n",
        "    if title is not None: plt.title(title)"
      ]
    },
    {
      "cell_type": "code",
      "execution_count": 88,
      "metadata": {
        "colab": {
          "base_uri": "https://localhost:8080/",
          "height": 430
        },
        "id": "qFNtESWGU5Jr",
        "outputId": "b424637b-30bd-47d7-ffdd-b295239f698d"
      },
      "outputs": [
        {
          "data": {
            "image/png": "[encoded data removed]",
            "text/plain": [
              "<Figure size 640x480 with 1 Axes>"
            ]
          },
          "metadata": {},
          "output_type": "display_data"
        }
      ],
      "source": [
        "plot_function(torch.log, min=0, max=4)"
      ]
    },
    {
      "attachments": {},
      "cell_type": "markdown",
      "metadata": {
        "id": "G6vQ2pLxVuJb"
      },
      "source": [
        "We want to transform our probabilities to larger values so we can perform mathematical operations on them. We also want our model to learn the difference between 0.99 and 0.999 (the latter is 10 times more confident). We can use the logarithm function to transform our numbers between 0 and 1 to instead be between negative infinity and positive infinity.\n",
        "\n",
        "Applying negative log to the softmax output:"
      ]
    },
    {
      "cell_type": "code",
      "execution_count": 89,
      "metadata": {
        "colab": {
          "base_uri": "https://localhost:8080/"
        },
        "id": "RQQlPqNbW-mu",
        "outputId": "3f01aeb0-e692-45a9-8397-55c674e19009"
      },
      "outputs": [
        {
          "data": {
            "text/plain": [
              "tensor([0, 1, 0, 1, 1, 0])"
            ]
          },
          "execution_count": 89,
          "metadata": {},
          "output_type": "execute_result"
        }
      ],
      "source": [
        "targ"
      ]
    },
    {
      "cell_type": "code",
      "execution_count": 90,
      "metadata": {
        "colab": {
          "base_uri": "https://localhost:8080/"
        },
        "id": "p5CqnY9xXG9D",
        "outputId": "6deea2fa-266c-41cd-bbb7-9f766ba0da36"
      },
      "outputs": [
        {
          "data": {
            "text/plain": [
              "tensor([[0.6025, 0.3975],\n",
              "        [0.5021, 0.4979],\n",
              "        [0.1332, 0.8668],\n",
              "        [0.9966, 0.0034],\n",
              "        [0.5959, 0.4041],\n",
              "        [0.3661, 0.6339]])"
            ]
          },
          "execution_count": 90,
          "metadata": {},
          "output_type": "execute_result"
        }
      ],
      "source": [
        "sm_acts"
      ]
    },
    {
      "cell_type": "code",
      "execution_count": 91,
      "metadata": {
        "colab": {
          "base_uri": "https://localhost:8080/"
        },
        "id": "XbbLJ4KJVSLR",
        "outputId": "58c93aa4-cbec-4188-a143-1f2a8eb657f3"
      },
      "outputs": [
        {
          "data": {
            "text/plain": [
              "tensor([0.6025, 0.4979, 0.1332, 0.0034, 0.4041, 0.3661])"
            ]
          },
          "execution_count": 91,
          "metadata": {},
          "output_type": "execute_result"
        }
      ],
      "source": [
        "sm_acts[idx, targ]"
      ]
    },
    {
      "cell_type": "code",
      "execution_count": 92,
      "metadata": {
        "colab": {
          "base_uri": "https://localhost:8080/"
        },
        "id": "OIdSrayvWl7i",
        "outputId": "67a4f1fb-6457-49fa-9678-c8a34dcb8b50"
      },
      "outputs": [
        {
          "data": {
            "text/plain": [
              "tensor([0.5067, 0.6973, 2.0160, 5.6958, 0.9062, 1.0048])"
            ]
          },
          "execution_count": 92,
          "metadata": {},
          "output_type": "execute_result"
        }
      ],
      "source": [
        "-torch.log(sm_acts[idx, targ])"
      ]
    },
    {
      "attachments": {},
      "cell_type": "markdown",
      "metadata": {
        "id": "vUIMwmWSXAZ1"
      },
      "source": [
        "The loss is larger for incorrect predictions (`2.0160` for the third image with activations of `0.1332` for `3`---the target value---and `0.8668` for `7`) and for unconfident correct predictions (`5.6958` for the fourth image with activations of `0.9966` for `3` and `0.0034` for `7`---the target value).\n",
        "\n",
        "\n",
        "PyTorch provides the `nn.CrossEntropyLoss` class and the `F.cross_entropy` function:"
      ]
    },
    {
      "cell_type": "code",
      "execution_count": 93,
      "metadata": {
        "colab": {
          "base_uri": "https://localhost:8080/"
        },
        "id": "x9D7jd7KWoYU",
        "outputId": "e71b053f-906b-462f-ca1c-1bbb0e93539b"
      },
      "outputs": [
        {
          "data": {
            "text/plain": [
              "tensor([0.5067, 0.6973, 2.0160, 5.6958, 0.9062, 1.0048])"
            ]
          },
          "execution_count": 93,
          "metadata": {},
          "output_type": "execute_result"
        }
      ],
      "source": [
        "F.cross_entropy(acts, targ, reduction='none')"
      ]
    },
    {
      "cell_type": "code",
      "execution_count": 94,
      "metadata": {
        "colab": {
          "base_uri": "https://localhost:8080/"
        },
        "id": "STdS3C7gX_2a",
        "outputId": "2b487228-3c4a-4c55-f63d-f701183b171a"
      },
      "outputs": [
        {
          "data": {
            "text/plain": [
              "tensor([0.5067, 0.6973, 2.0160, 5.6958, 0.9062, 1.0048])"
            ]
          },
          "execution_count": 94,
          "metadata": {},
          "output_type": "execute_result"
        }
      ],
      "source": [
        "nn.CrossEntropyLoss(reduction='none')(acts, targ)"
      ]
    },
    {
      "attachments": {},
      "cell_type": "markdown",
      "metadata": {
        "id": "lNMrS8_MP0sr"
      },
      "source": [
        "### Create a Function to Calculate Predictions, Loss and Gradients"
      ]
    },
    {
      "attachments": {},
      "cell_type": "markdown",
      "metadata": {
        "id": "TVNpDOpeP1pX"
      },
      "source": [
        "In this section, the text has the following function to calculate predictions, loss and gradients:\n",
        "\n",
        "```python\n",
        "def calc_grad(xb, yb, model):\n",
        "  preds = model(xb)\n",
        "  loss = mnist_loss(preds, yb)\n",
        "  loss.backward()\n",
        "```\n",
        "\n",
        "I don't think anything needs to be changed here. In my [implementation of a `BasicLearner`](http://vishalbakshi.com/blog/posts/2023-07-24-basiclearner/2023_07_23_basiclearner.html) I have generalized that function as:\n",
        "\n",
        "```python\n",
        "def calc_grad(self, xb, yb, model):\n",
        "    preds = self.model(xb)\n",
        "    loss = self.loss_func(preds, yb)\n",
        "    loss.backward()\n",
        "```\n",
        "\n",
        "I believe that should work fine with `nn.CrossEntropyLoss()` as the function assigned to my `self.loss_func` parameter."
      ]
    },
    {
      "attachments": {},
      "cell_type": "markdown",
      "metadata": {
        "id": "sgvixffHQYUy"
      },
      "source": [
        "### Create an Optimizer"
      ]
    },
    {
      "attachments": {},
      "cell_type": "markdown",
      "metadata": {
        "id": "ECRmBlXGQbcr"
      },
      "source": [
        "The optimizer's functionality (stepping the parameters and setting the gradients to zero) will not need to be changed to handle 10 digits."
      ]
    },
    {
      "attachments": {},
      "cell_type": "markdown",
      "metadata": {
        "id": "BFFQTg-_QsXh"
      },
      "source": [
        "### Create a Function to Train One Epoch"
      ]
    },
    {
      "attachments": {},
      "cell_type": "markdown",
      "metadata": {
        "id": "GRTYs2CKQtP6"
      },
      "source": [
        "The steps needed to train an epoch will not need to be changed to handle 10 digits:\n",
        "\n",
        "```python\n",
        "def train_epoch(model):\n",
        "  for xb,yb in dl:\n",
        "    calc_grad(xb, yb, model)\n",
        "    opt.step()\n",
        "    opt.zero_grad()\n",
        "```"
      ]
    },
    {
      "attachments": {},
      "cell_type": "markdown",
      "metadata": {
        "id": "8k4_HNCBQ5KI"
      },
      "source": [
        "### Create a Function to Calculate a Metric for One Batch"
      ]
    },
    {
      "attachments": {},
      "cell_type": "markdown",
      "metadata": {
        "id": "g-lKuSuMQ52c"
      },
      "source": [
        "Along with the loss function, this is the second big change when dealing with 10 digits instead of 2. Currently, in text, we use a `batch_accuracy` function as the metric during training:\n",
        "\n",
        "```python\n",
        "def batch_accuracy(xb, yb):\n",
        "  preds = xb.sigmoid()\n",
        "  correct = (preds>0.5) == yb\n",
        "  return correct.float().mean()\n",
        "```\n",
        "\n",
        "For each batch the following steps take place in calculating accuracy:\n",
        "\n",
        "- Calculate the sigmoid value of the predictions.\n",
        "- Determine which predictions are greater than 0.5 and if they are, whether they are correctly labeled as `3`s.\n",
        "- Return the mean value of the previous tensor, which will calculate as number of correct predictions / number of total predictions.\n",
        "\n",
        "To understand how to calculate accuracy for a dataset with 10 digits, I'll create an example calculation similar to what they did in chapter 5 for illustrating the softmax/log likelihood example. Suppose we have 6 images with 10 possible categories (`0`, `1`, `2`, `3`, `4`, `5`, `6`, `7`, `8`, `9`) and 6 labels:"
      ]
    },
    {
      "cell_type": "code",
      "execution_count": 95,
      "metadata": {
        "id": "0kiW_if4YIlr"
      },
      "outputs": [],
      "source": [
        "torch.random.manual_seed(42);"
      ]
    },
    {
      "cell_type": "code",
      "execution_count": 96,
      "metadata": {
        "colab": {
          "base_uri": "https://localhost:8080/"
        },
        "id": "HPwtO7luScOs",
        "outputId": "417a0b0a-df9d-463b-8a93-1c1e9946951e"
      },
      "outputs": [
        {
          "data": {
            "text/plain": [
              "tensor([[ 3.8538,  2.9746,  1.8014, -4.2110,  1.3568, -2.4691, -0.0861, -3.2093,\n",
              "         -1.5043,  3.2974],\n",
              "        [-0.7850, -2.8072, -1.4558, -1.1189, -1.5377,  1.5249,  3.2846, -0.3192,\n",
              "         -0.9948,  0.8792],\n",
              "        [-1.5163,  2.1566,  1.6016,  3.3612,  2.5582,  2.5928,  1.2209,  2.6695,\n",
              "         -0.4632,  0.0835],\n",
              "        [-0.5032,  1.7197, -2.7693, -1.7425, -0.4467,  3.4347,  0.6378, -0.8490,\n",
              "          0.6114, -1.5492],\n",
              "        [-3.1151,  1.9913, -1.7596, -1.2023,  0.7345,  0.3508,  2.7703, -0.8917,\n",
              "          2.8903,  1.7128],\n",
              "        [ 4.4362,  1.0463,  2.3507,  1.1223, -0.9055, -1.5436, -0.3444,  1.0476,\n",
              "          0.1132,  0.8526]])"
            ]
          },
          "execution_count": 96,
          "metadata": {},
          "output_type": "execute_result"
        }
      ],
      "source": [
        "acts = torch.randn((6,10))*2\n",
        "acts"
      ]
    },
    {
      "cell_type": "code",
      "execution_count": 97,
      "metadata": {
        "id": "fzKDpstfDacd"
      },
      "outputs": [],
      "source": [
        "targ = tensor([1,6,4,5,8,0])"
      ]
    },
    {
      "attachments": {},
      "cell_type": "markdown",
      "metadata": {
        "id": "m1NIx7XETMGx"
      },
      "source": [
        "We take the `softmax` of the activations so that each row sums to `1`:"
      ]
    },
    {
      "cell_type": "code",
      "execution_count": 98,
      "metadata": {
        "colab": {
          "base_uri": "https://localhost:8080/"
        },
        "id": "MPKnGFfCS2gv",
        "outputId": "0910ee92-b05b-4a33-ea35-fe72240993ed"
      },
      "outputs": [
        {
          "data": {
            "text/plain": [
              "tensor([[4.4919e-01, 1.8645e-01, 5.7688e-02, 1.4122e-04, 3.6982e-02, 8.0615e-04,\n",
              "         8.7362e-03, 3.8453e-04, 2.1156e-03, 2.5751e-01],\n",
              "        [1.2639e-02, 1.6728e-03, 6.4621e-03, 9.0509e-03, 5.9539e-03, 1.2731e-01,\n",
              "         7.3978e-01, 2.0136e-02, 1.0246e-02, 6.6747e-02],\n",
              "        [2.4815e-03, 9.7686e-02, 5.6077e-02, 3.2583e-01, 1.4597e-01, 1.5110e-01,\n",
              "         3.8323e-02, 1.6314e-01, 7.1126e-03, 1.2288e-02],\n",
              "        [1.4239e-02, 1.3148e-01, 1.4766e-03, 4.1232e-03, 1.5065e-02, 7.3058e-01,\n",
              "         4.4562e-02, 1.0075e-02, 4.3404e-02, 5.0024e-03],\n",
              "        [8.6558e-04, 1.4289e-01, 3.3576e-03, 5.8621e-03, 4.0662e-02, 2.7705e-02,\n",
              "         3.1141e-01, 7.9971e-03, 3.5109e-01, 1.0816e-01],\n",
              "        [7.7830e-01, 2.6240e-02, 9.6708e-02, 2.8313e-02, 3.7265e-03, 1.9688e-03,\n",
              "         6.5311e-03, 2.6273e-02, 1.0321e-02, 2.1619e-02]])"
            ]
          },
          "execution_count": 98,
          "metadata": {},
          "output_type": "execute_result"
        }
      ],
      "source": [
        "sm_acts = torch.softmax(acts, dim=1)\n",
        "sm_acts"
      ]
    },
    {
      "cell_type": "code",
      "execution_count": 99,
      "metadata": {
        "colab": {
          "base_uri": "https://localhost:8080/"
        },
        "id": "6AoyrUIxTQpo",
        "outputId": "8047efc3-b514-4f75-9021-f3d8296bf12c"
      },
      "outputs": [
        {
          "data": {
            "text/plain": [
              "tensor([1.0000, 1.0000, 1.0000, 1.0000, 1.0000, 1.0000])"
            ]
          },
          "execution_count": 99,
          "metadata": {},
          "output_type": "execute_result"
        }
      ],
      "source": [
        "sm_acts.sum(dim=1)"
      ]
    },
    {
      "attachments": {},
      "cell_type": "markdown",
      "metadata": {
        "id": "ViuwKXTlTc8o"
      },
      "source": [
        "The model's prediction is the digit (index) with the largest probability."
      ]
    },
    {
      "cell_type": "code",
      "execution_count": 100,
      "metadata": {
        "colab": {
          "base_uri": "https://localhost:8080/"
        },
        "id": "NdIOjSkbTSa1",
        "outputId": "5825194a-6c0f-46f4-bf96-dfd46d133632"
      },
      "outputs": [
        {
          "data": {
            "text/plain": [
              "tensor([0, 6, 3, 5, 8, 0])"
            ]
          },
          "execution_count": 100,
          "metadata": {},
          "output_type": "execute_result"
        }
      ],
      "source": [
        "sm_acts.max(dim=1).indices"
      ]
    },
    {
      "attachments": {},
      "cell_type": "markdown",
      "metadata": {
        "id": "zmthtYWaDwbC"
      },
      "source": [
        "The accuracy is the average of the following boolean tensor (the number of correct predictions / the number of total predictions):"
      ]
    },
    {
      "cell_type": "code",
      "execution_count": 101,
      "metadata": {
        "colab": {
          "base_uri": "https://localhost:8080/"
        },
        "id": "fTO1cbBPTmBY",
        "outputId": "849d0c05-a513-415d-8601-9185ea35022a"
      },
      "outputs": [
        {
          "data": {
            "text/plain": [
              "tensor([False,  True, False,  True,  True,  True])"
            ]
          },
          "execution_count": 101,
          "metadata": {},
          "output_type": "execute_result"
        }
      ],
      "source": [
        "sm_acts.max(dim=1).indices == targ"
      ]
    },
    {
      "cell_type": "code",
      "execution_count": 102,
      "metadata": {
        "colab": {
          "base_uri": "https://localhost:8080/"
        },
        "id": "HWH6gBmeDmzU",
        "outputId": "1c340a67-cf43-4bce-c541-e7c920f3aad0"
      },
      "outputs": [
        {
          "data": {
            "text/plain": [
              "0.6666666865348816"
            ]
          },
          "execution_count": 102,
          "metadata": {},
          "output_type": "execute_result"
        }
      ],
      "source": [
        "(sm_acts.max(dim=1).indices == targ).float().mean().item()"
      ]
    },
    {
      "attachments": {},
      "cell_type": "markdown",
      "metadata": {
        "id": "Dhj5arSeEG1S"
      },
      "source": [
        "As a function, this is what `batch_accuracy` would look like for the 10-digit classifier:\n",
        "\n",
        "```python\n",
        "def batch_accuracy(xb, yb):\n",
        "  preds = torch.softmax(xb, dim=1)\n",
        "  preds = preds.max(dim=1).indices\n",
        "  return (preds == yb).float().mean().item()\n",
        "```"
      ]
    },
    {
      "attachments": {},
      "cell_type": "markdown",
      "metadata": {
        "id": "vhThkAJ7E8Vb"
      },
      "source": [
        "### Create a Function to Calculate the Metric for One Epoch"
      ]
    },
    {
      "attachments": {},
      "cell_type": "markdown",
      "metadata": {
        "id": "uOq9N4yIE9BC"
      },
      "source": [
        "This function will be the same for the 10-digit classifier as it was for the 2-digit classifier:\n",
        "\n",
        "```python\n",
        "def validate_epoch(model):\n",
        "  accs = [batch_accuracy(model(xb), yb) for xb,yb in valid_dl]\n",
        "  return round(torch.stack(accs).mean().item(), 4)\n",
        "```"
      ]
    },
    {
      "attachments": {},
      "cell_type": "markdown",
      "metadata": {
        "id": "XyZ8rmxIFImm"
      },
      "source": [
        "### Create a Function for the Training Loop"
      ]
    },
    {
      "attachments": {},
      "cell_type": "markdown",
      "metadata": {
        "id": "rMaILPMnFLl0"
      },
      "source": [
        "This function will be the same for the 10-digit classifier as it was for the 2-digit classifier:\n",
        "\n",
        "```python\n",
        "def train_model(model, epochs):\n",
        "  for i in range(epochs):\n",
        "    train_epoch(model)\n",
        "    print(validate_epoch(model), end=' ')\n",
        "```"
      ]
    },
    {
      "attachments": {},
      "cell_type": "markdown",
      "metadata": {
        "id": "FRQ0plh3GFdw"
      },
      "source": [
        "## `MNIST` Training Loop"
      ]
    },
    {
      "attachments": {},
      "cell_type": "markdown",
      "metadata": {
        "id": "dUgkMHIsGHJh"
      },
      "source": [
        "With that overview under my belt, I'll walk through the training loop with real code and data."
      ]
    },
    {
      "attachments": {},
      "cell_type": "markdown",
      "metadata": {
        "id": "QXhZb24rGyjV"
      },
      "source": [
        "### Load and Prep Data"
      ]
    },
    {
      "attachments": {},
      "cell_type": "markdown",
      "metadata": {
        "id": "bB8NHH49G1bc"
      },
      "source": [
        "I've already loaded and prepared a shuffled `DataLoaders` object, so in this step all I need to do is check it's size and shape:"
      ]
    },
    {
      "cell_type": "code",
      "execution_count": 228,
      "metadata": {
        "colab": {
          "base_uri": "https://localhost:8080/"
        },
        "id": "IhqAtQDuGQfz",
        "outputId": "08148c72-0c7a-4c70-b46b-2a74d8e0afe5"
      },
      "outputs": [
        {
          "data": {
            "text/plain": [
              "(60000, 10000)"
            ]
          },
          "execution_count": 228,
          "metadata": {},
          "output_type": "execute_result"
        }
      ],
      "source": [
        "len(dls.train.dataset), len(dls.valid.dataset)"
      ]
    },
    {
      "cell_type": "code",
      "execution_count": 229,
      "metadata": {
        "colab": {
          "base_uri": "https://localhost:8080/"
        },
        "id": "Q4Mz1cm9HBLZ",
        "outputId": "4f80abca-d3a3-43ac-f737-6811b4ddcc7c"
      },
      "outputs": [
        {
          "data": {
            "text/plain": [
              "(torch.Size([256, 784]), torch.Size([256, 1]))"
            ]
          },
          "execution_count": 229,
          "metadata": {},
          "output_type": "execute_result"
        }
      ],
      "source": [
        "x,y = first(dls.train)\n",
        "x.shape, y.shape"
      ]
    },
    {
      "cell_type": "code",
      "execution_count": 230,
      "metadata": {
        "colab": {
          "base_uri": "https://localhost:8080/"
        },
        "id": "IRBriX1AHHeY",
        "outputId": "65bb3c72-a359-4f52-e8e1-7fd6a09f77c2"
      },
      "outputs": [
        {
          "data": {
            "text/plain": [
              "(torch.Size([256, 784]), torch.Size([256, 1]))"
            ]
          },
          "execution_count": 230,
          "metadata": {},
          "output_type": "execute_result"
        }
      ],
      "source": [
        "x,y = first(dls.valid)\n",
        "x.shape, y.shape"
      ]
    },
    {
      "cell_type": "code",
      "execution_count": 231,
      "metadata": {
        "colab": {
          "base_uri": "https://localhost:8080/"
        },
        "id": "yttNjl1UHMaL",
        "outputId": "c15f6efd-8707-4ce7-e653-9ef27fb62ad1"
      },
      "outputs": [
        {
          "data": {
            "text/plain": [
              "tensor([[6],\n",
              "        [8],\n",
              "        [2],\n",
              "        [0],\n",
              "        [6]])"
            ]
          },
          "execution_count": 231,
          "metadata": {},
          "output_type": "execute_result"
        }
      ],
      "source": [
        "# check that the digits are shuffled\n",
        "y[:5]"
      ]
    },
    {
      "attachments": {},
      "cell_type": "markdown",
      "metadata": {
        "id": "h5HT7ghBHZlJ"
      },
      "source": [
        "### Create Our Model"
      ]
    },
    {
      "attachments": {},
      "cell_type": "markdown",
      "metadata": {
        "id": "OGhifjGtHbTL"
      },
      "source": [
        "For the first iteration of the training loop, I'll use a similarly structured model as before:"
      ]
    },
    {
      "cell_type": "code",
      "execution_count": 232,
      "metadata": {
        "id": "jRszCFROHVjf"
      },
      "outputs": [],
      "source": [
        "simple_net = nn.Sequential(\n",
        "    nn.Linear(28*28, 30),\n",
        "    nn.ReLU(),\n",
        "    nn.Linear(30, 10)\n",
        ")"
      ]
    },
    {
      "attachments": {},
      "cell_type": "markdown",
      "metadata": {
        "id": "UgVzu0VbHizq"
      },
      "source": [
        "### Create a Loss Function"
      ]
    },
    {
      "attachments": {},
      "cell_type": "markdown",
      "metadata": {
        "id": "aoBiwLmLHmBc"
      },
      "source": [
        "The loss function that I will use is `nn.CrossEntropyLoss`:"
      ]
    },
    {
      "cell_type": "code",
      "execution_count": 262,
      "metadata": {
        "id": "ca62BvzVHh4g"
      },
      "outputs": [],
      "source": [
        "mnist_loss = nn.CrossEntropyLoss()"
      ]
    },
    {
      "attachments": {},
      "cell_type": "markdown",
      "metadata": {
        "id": "80qo_FAaHuhe"
      },
      "source": [
        "### Create a function to Calculate Predictions, Loss and Gradients"
      ]
    },
    {
      "attachments": {},
      "cell_type": "markdown",
      "metadata": {
        "id": "EdINBJ7PH2WF"
      },
      "source": [
        "This function is the same as before:"
      ]
    },
    {
      "cell_type": "code",
      "execution_count": 273,
      "metadata": {
        "id": "iM3QSFgTHth2"
      },
      "outputs": [],
      "source": [
        "def calc_grad(xb, yb, model):\n",
        "  preds = model(xb)\n",
        "  # yb has to be a 0- or 1-D tensor\n",
        "  loss = mnist_loss(preds, yb.squeeze())\n",
        "  loss.backward()"
      ]
    },
    {
      "attachments": {},
      "cell_type": "markdown",
      "metadata": {
        "id": "glSZGrh4H89s"
      },
      "source": [
        "### Create an Optimizer"
      ]
    },
    {
      "attachments": {},
      "cell_type": "markdown",
      "metadata": {
        "id": "OcVls2ceH-hU"
      },
      "source": [
        "I'll use the `BasicOptim` optimizer defined in chapter 4:"
      ]
    },
    {
      "cell_type": "code",
      "execution_count": 235,
      "metadata": {
        "id": "INvq_paVH8Ge"
      },
      "outputs": [],
      "source": [
        "class BasicOptim:\n",
        "  def __init__(self,params,lr): self.params,self.lr = list(params),lr\n",
        "\n",
        "  def step(self, *args, **kwargs):\n",
        "    for p in self.params: p.data -= p.grad.data * self.lr\n",
        "\n",
        "  def zero_grad(self, *args, **kwargs):\n",
        "    for p in self.params: p.grad = None"
      ]
    },
    {
      "cell_type": "code",
      "execution_count": 236,
      "metadata": {
        "id": "AdATCtDCIEgk"
      },
      "outputs": [],
      "source": [
        "lr = 0.1"
      ]
    },
    {
      "cell_type": "code",
      "execution_count": 237,
      "metadata": {
        "id": "BCMMUakwIF4_"
      },
      "outputs": [],
      "source": [
        "opt = BasicOptim(simple_net.parameters(), lr)"
      ]
    },
    {
      "attachments": {},
      "cell_type": "markdown",
      "metadata": {
        "id": "Iv3n1koNIIym"
      },
      "source": [
        "### Create a Function to Train One Epoch"
      ]
    },
    {
      "attachments": {},
      "cell_type": "markdown",
      "metadata": {
        "id": "2QHKv8tQIN0t"
      },
      "source": [
        "Same as before:"
      ]
    },
    {
      "cell_type": "code",
      "execution_count": 274,
      "metadata": {
        "id": "hU2LKzQjIII0"
      },
      "outputs": [],
      "source": [
        "def train_epoch(model):\n",
        "  for xb,yb in dls.train:\n",
        "    calc_grad(xb, yb, model)\n",
        "    opt.step()\n",
        "    opt.zero_grad()"
      ]
    },
    {
      "attachments": {},
      "cell_type": "markdown",
      "metadata": {
        "id": "nW384n7IIUJq"
      },
      "source": [
        "### Create a Function to Calculate a Metric for One Batch"
      ]
    },
    {
      "attachments": {},
      "cell_type": "markdown",
      "metadata": {
        "id": "Iy4hGatTIXe6"
      },
      "source": [
        "The metric of interest is accuracy, and I'll define a new `batch_accuracy` function to handle 10-digits instead of 2:"
      ]
    },
    {
      "cell_type": "code",
      "execution_count": 275,
      "metadata": {
        "id": "RCCc_cEMIOnb"
      },
      "outputs": [],
      "source": [
        "def batch_accuracy(xb, yb):\n",
        "  preds = torch.softmax(xb, dim=1)\n",
        "  preds = preds.max(dim=1).indices\n",
        "  # squeeze yb so it's the same shape as preds\n",
        "  return (preds == yb.squeeze()).float().mean().item()"
      ]
    },
    {
      "attachments": {},
      "cell_type": "markdown",
      "metadata": {
        "id": "jlZrZ2b1IhQK"
      },
      "source": [
        "### Create a Function to Calculate the Metric for One Epoch"
      ]
    },
    {
      "attachments": {},
      "cell_type": "markdown",
      "metadata": {
        "id": "KLuOK1lDIkUJ"
      },
      "source": [
        "Same as before, but iterating through `dls.valid` instead of a `valid_dl` `DataLoader`:"
      ]
    },
    {
      "cell_type": "code",
      "execution_count": 276,
      "metadata": {
        "id": "j1dluBNMIeug"
      },
      "outputs": [],
      "source": [
        "def validate_epoch(model):\n",
        "  accs = [batch_accuracy(model(xb), yb) for xb,yb in dls.valid]\n",
        "  return round(torch.tensor(accs).mean().item(), 4)"
      ]
    },
    {
      "attachments": {},
      "cell_type": "markdown",
      "metadata": {
        "id": "xyJJkaF6I2Vv"
      },
      "source": [
        "### Train the Model for One Epoch"
      ]
    },
    {
      "attachments": {},
      "cell_type": "markdown",
      "metadata": {
        "id": "ZS8n2fhPJMFl"
      },
      "source": [
        "Since I have a new loss function and accuracy function, I'll train the model for one batch manually and then use a loop for multiple epochs."
      ]
    },
    {
      "cell_type": "code",
      "execution_count": 288,
      "metadata": {
        "id": "smjFUw0LNB_f"
      },
      "outputs": [],
      "source": [
        "# create a fresh model\n",
        "simple_net = nn.Sequential(\n",
        "    nn.Linear(28*28, 30),\n",
        "    nn.ReLU(),\n",
        "    nn.Linear(30, 10)\n",
        ")"
      ]
    },
    {
      "cell_type": "code",
      "execution_count": 289,
      "metadata": {
        "id": "IxI4J6BmNFBe"
      },
      "outputs": [],
      "source": [
        "# create a fresh optimizer\n",
        "opt = BasicOptim(simple_net.parameters(), lr=0.01)"
      ]
    },
    {
      "cell_type": "code",
      "execution_count": 290,
      "metadata": {
        "id": "I2-5iN5wJXHA"
      },
      "outputs": [],
      "source": [
        "# get one batch of the training data\n",
        "xb, yb = first(dls.train)"
      ]
    },
    {
      "cell_type": "code",
      "execution_count": 291,
      "metadata": {
        "id": "5IsGpfh_Jk8v"
      },
      "outputs": [],
      "source": [
        "# calculate predictions\n",
        "preds = simple_net(xb)"
      ]
    },
    {
      "cell_type": "code",
      "execution_count": 292,
      "metadata": {
        "colab": {
          "base_uri": "https://localhost:8080/"
        },
        "id": "fMxDzNEvQtgy",
        "outputId": "4fdd6180-6f97-4255-8155-15705480e9b4"
      },
      "outputs": [
        {
          "data": {
            "text/plain": [
              "torch.Size([256, 10])"
            ]
          },
          "execution_count": 292,
          "metadata": {},
          "output_type": "execute_result"
        }
      ],
      "source": [
        "preds.shape"
      ]
    },
    {
      "attachments": {},
      "cell_type": "markdown",
      "metadata": {
        "id": "1KWrRg3HKPRe"
      },
      "source": [
        "`nn.CrossEntropyLoss()` expects a 0- or 1-dimensional tensor for the labels (targets) so I have to `squeeze` the label tensor."
      ]
    },
    {
      "cell_type": "code",
      "execution_count": 293,
      "metadata": {
        "id": "N59XKxB2Jxxz"
      },
      "outputs": [],
      "source": [
        "# calculate loss\n",
        "loss = mnist_loss(preds, yb.squeeze())"
      ]
    },
    {
      "cell_type": "code",
      "execution_count": 294,
      "metadata": {
        "colab": {
          "base_uri": "https://localhost:8080/"
        },
        "id": "KYNq8MLlKY0b",
        "outputId": "b24168ca-8241-4483-e329-fe9af093bd7a"
      },
      "outputs": [
        {
          "data": {
            "text/plain": [
              "tensor(2.3140, grad_fn=<NllLossBackward0>)"
            ]
          },
          "execution_count": 294,
          "metadata": {},
          "output_type": "execute_result"
        }
      ],
      "source": [
        "loss"
      ]
    },
    {
      "cell_type": "code",
      "execution_count": 295,
      "metadata": {
        "id": "Js4gFedaLPQe"
      },
      "outputs": [],
      "source": [
        "# calculate gradients\n",
        "loss.backward()"
      ]
    },
    {
      "cell_type": "code",
      "execution_count": 296,
      "metadata": {
        "id": "UX4yYfoPKaMT"
      },
      "outputs": [],
      "source": [
        "# step the weights\n",
        "opt.step()\n",
        "opt.zero_grad()"
      ]
    },
    {
      "cell_type": "code",
      "execution_count": 297,
      "metadata": {
        "colab": {
          "base_uri": "https://localhost:8080/"
        },
        "id": "Oj2tebtVLjpt",
        "outputId": "f3e9a91c-56e8-45cf-b11d-d25240e738d9"
      },
      "outputs": [
        {
          "data": {
            "text/plain": [
              "0.1239"
            ]
          },
          "execution_count": 297,
          "metadata": {},
          "output_type": "execute_result"
        }
      ],
      "source": [
        "# calculate accuracy using validation set\n",
        "validate_epoch(simple_net)"
      ]
    },
    {
      "attachments": {},
      "cell_type": "markdown",
      "metadata": {
        "id": "qJZQgc7EIxBi"
      },
      "source": [
        "### Create a Function for the Training Loop"
      ]
    },
    {
      "attachments": {},
      "cell_type": "markdown",
      "metadata": {
        "id": "jcz-bAPSJWsT"
      },
      "source": [
        "Now that I've tested my loss and accuracy function for one epoch, I can loop through the training process for multiple epochs:"
      ]
    },
    {
      "cell_type": "code",
      "execution_count": 302,
      "metadata": {
        "id": "9tVuaE9dIwYF"
      },
      "outputs": [],
      "source": [
        "def train_model(model, epochs):\n",
        "  for i in range(epochs):\n",
        "    train_epoch(model)\n",
        "    print(validate_epoch(model), end=' ')"
      ]
    },
    {
      "cell_type": "code",
      "execution_count": 303,
      "metadata": {
        "id": "hgPNkma0JBa_"
      },
      "outputs": [],
      "source": [
        "# create a fresh model\n",
        "simple_net = nn.Sequential(\n",
        "    nn.Linear(28*28, 30),\n",
        "    nn.ReLU(),\n",
        "    nn.Linear(30, 10)\n",
        ")"
      ]
    },
    {
      "cell_type": "code",
      "execution_count": 304,
      "metadata": {
        "id": "hppyXQNPMcxh"
      },
      "outputs": [],
      "source": [
        "# create a fresh optimizer\n",
        "opt = BasicOptim(simple_net.parameters(), lr=0.001)"
      ]
    },
    {
      "cell_type": "code",
      "execution_count": 305,
      "metadata": {
        "colab": {
          "base_uri": "https://localhost:8080/"
        },
        "id": "X-19qf4UMdXy",
        "outputId": "5ac34fd4-330a-417a-a836-af566dc656ac"
      },
      "outputs": [
        {
          "name": "stdout",
          "output_type": "stream",
          "text": [
            "0.2094 0.2522 0.3821 0.5208 0.6083 0.6399 0.6674 0.6776 0.6828 0.6894 0.701 0.7071 0.7221 0.7418 0.7549 0.7735 0.7852 0.7896 0.8061 0.8089 0.8212 0.8188 0.8264 0.8309 0.8313 0.8336 0.8378 0.8397 0.8462 0.8487 0.8511 0.8546 0.8545 0.8545 0.8597 0.8604 0.8618 0.8609 0.8612 0.8662 "
          ]
        }
      ],
      "source": [
        "train_model(simple_net, 40)"
      ]
    },
    {
      "attachments": {},
      "cell_type": "markdown",
      "metadata": {
        "id": "yirEhnCySnEA"
      },
      "source": [
        "After training the model for 40 epochs with a learning rate of `0.001`, I achieve an accuracy of about 86%.\n",
        "\n",
        "I'll now test my model and see if it predicts digits correctly:"
      ]
    },
    {
      "cell_type": "code",
      "execution_count": 342,
      "metadata": {
        "colab": {
          "base_uri": "https://localhost:8080/",
          "height": 114
        },
        "id": "yPiw-Z2WR9L7",
        "outputId": "f577ba57-d198-436e-964e-7b7f12c52375"
      },
      "outputs": [
        {
          "data": {
            "image/png": "[encoded data removed]",
            "text/plain": [
              "<Figure size 100x100 with 1 Axes>"
            ]
          },
          "metadata": {},
          "output_type": "display_data"
        }
      ],
      "source": [
        "test_x = dls.valid.dataset[1][0]\n",
        "show_image(test_x.view(-1,28,28));"
      ]
    },
    {
      "cell_type": "code",
      "execution_count": 343,
      "metadata": {
        "colab": {
          "base_uri": "https://localhost:8080/"
        },
        "id": "Rr2KEA3PS4Ut",
        "outputId": "7f6aff3f-abac-4c98-8a0a-cfcbb05f289f"
      },
      "outputs": [
        {
          "data": {
            "text/plain": [
              "0"
            ]
          },
          "execution_count": 343,
          "metadata": {},
          "output_type": "execute_result"
        }
      ],
      "source": [
        "preds = simple_net(test_x)\n",
        "preds = torch.softmax(preds, dim=0)\n",
        "\n",
        "# this should be 0\n",
        "preds.argmax().item()"
      ]
    },
    {
      "cell_type": "code",
      "execution_count": 344,
      "metadata": {
        "colab": {
          "base_uri": "https://localhost:8080/",
          "height": 114
        },
        "id": "Gi7OfJEUTwmj",
        "outputId": "c414b199-b3b0-4de2-feb8-cfe950557ba6"
      },
      "outputs": [
        {
          "data": {
            "image/png": "[encoded data removed]",
            "text/plain": [
              "<Figure size 100x100 with 1 Axes>"
            ]
          },
          "metadata": {},
          "output_type": "display_data"
        }
      ],
      "source": [
        "test_x = dls.valid.dataset[-1][0]\n",
        "show_image(test_x.view(-1,28,28));"
      ]
    },
    {
      "cell_type": "code",
      "execution_count": 346,
      "metadata": {
        "colab": {
          "base_uri": "https://localhost:8080/"
        },
        "id": "5l8mzIcOTyIx",
        "outputId": "bc1e1599-7793-4df4-ac4d-0c8e3852cf54"
      },
      "outputs": [
        {
          "data": {
            "text/plain": [
              "9"
            ]
          },
          "execution_count": 346,
          "metadata": {},
          "output_type": "execute_result"
        }
      ],
      "source": [
        "preds = simple_net(test_x)\n",
        "preds = torch.softmax(preds, dim=0)\n",
        "\n",
        "# this should be 9\n",
        "preds.argmax().item()"
      ]
    },
    {
      "cell_type": "code",
      "execution_count": 349,
      "metadata": {
        "colab": {
          "base_uri": "https://localhost:8080/",
          "height": 114
        },
        "id": "2FJ7mzhuT74L",
        "outputId": "6eddd4c7-6369-409a-d9d3-aae29d9225bc"
      },
      "outputs": [
        {
          "data": {
            "image/png": "[encoded data removed]",
            "text/plain": [
              "<Figure size 100x100 with 1 Axes>"
            ]
          },
          "metadata": {},
          "output_type": "display_data"
        }
      ],
      "source": [
        "test_x = dls.valid.dataset[5000][0]\n",
        "show_image(test_x.view(-1,28,28));"
      ]
    },
    {
      "cell_type": "code",
      "execution_count": 350,
      "metadata": {
        "colab": {
          "base_uri": "https://localhost:8080/"
        },
        "id": "e7SWf9JrT-Ln",
        "outputId": "38bc6587-1734-491c-a559-6e6c1dc9b6bf"
      },
      "outputs": [
        {
          "data": {
            "text/plain": [
              "4"
            ]
          },
          "execution_count": 350,
          "metadata": {},
          "output_type": "execute_result"
        }
      ],
      "source": [
        "preds = simple_net(test_x)\n",
        "preds = torch.softmax(preds, dim=0)\n",
        "# this should be 4\n",
        "preds.argmax().item()"
      ]
    },
    {
      "attachments": {},
      "cell_type": "markdown",
      "metadata": {
        "id": "qNnbPNxEUUmD"
      },
      "source": [
        "Look good! The model is correctly predicting images.\n",
        "\n",
        "Next, I'll modify my `BasicLearner` class (and call it `MNISTLearner`) so that it can handle training the full MNIST dataset."
      ]
    },
    {
      "attachments": {},
      "cell_type": "markdown",
      "metadata": {
        "id": "5e1tGEx9hSUt"
      },
      "source": [
        "## `MNISTLearner` Class"
      ]
    },
    {
      "attachments": {},
      "cell_type": "markdown",
      "metadata": {
        "id": "v3hssjY9n-aU"
      },
      "source": [
        "I'll build off my [`BasicLearner` class](http://vishalbakshi.com/blog/posts/2023-07-24-basiclearner/2023_07_23_basiclearner.html) by incorporating some changes (mainly, changing `yb` to `yb.squeeze()` when calculating loss).\n",
        "\n",
        "\n",
        "I'll also add a `Time` column which displays how much time it took to train each epoch."
      ]
    },
    {
      "cell_type": "code",
      "execution_count": 441,
      "metadata": {
        "id": "GOyYA3THonwL"
      },
      "outputs": [],
      "source": [
        "import time"
      ]
    },
    {
      "cell_type": "code",
      "execution_count": 446,
      "metadata": {
        "id": "15PxpY7tUkpB"
      },
      "outputs": [],
      "source": [
        "class MNISTLearner:\n",
        "  def __init__(self, dls, model, opt_func, loss_func, metric):\n",
        "    self.dls = dls\n",
        "    self.model = model\n",
        "    self.opt_func = opt_func\n",
        "    self.loss_func = loss_func\n",
        "    self.metric = metric\n",
        "\n",
        "  def calc_grad(self, xb, yb, model):\n",
        "    # calculates loss and gradients\n",
        "    preds = self.model(xb)\n",
        "    loss = self.loss_func(preds, yb.squeeze())\n",
        "    # store the loss of each batch\n",
        "    # later to be averaged across the epoch\n",
        "    self.loss = torch.cat((self.loss, tensor([loss])))\n",
        "    loss.backward()\n",
        "\n",
        "  def train_epoch(self):\n",
        "    for xb,yb in self.dls.train:\n",
        "      self.calc_grad(xb, yb, self.model)\n",
        "      # steps the weights\n",
        "      self.opt.step()\n",
        "      # resets gradient to zero\n",
        "      self.opt.zero_grad()\n",
        "\n",
        "  def validate_epoch(self):\n",
        "    accs = [self.metric(self.model(xb), yb) for xb,yb in self.dls.valid]\n",
        "    # calculates mean accuracy across validation set\n",
        "    return round(torch.tensor(accs).mean().item(), 4)\n",
        "\n",
        "  def train_model(self, model, epochs):\n",
        "    print(f\"{'Epoch':<8}{'Train Loss':<14}{self.metric.__name__:<16}{'Time (s)'}\")\n",
        "    for i in range(self.epochs):\n",
        "      start_time = time.time()\n",
        "      self.loss = tensor([])\n",
        "      self.train_epoch()\n",
        "      end_time = round(time.time() - start_time,4)\n",
        "      mean_loss = round(self.loss.mean().item(), 4)\n",
        "      mean_metric = self.validate_epoch()\n",
        "      print(f\"{i:<8}{mean_loss:<14}{mean_metric:<16}{end_time}\")\n",
        "\n",
        "  def fit(self, epochs, lr):\n",
        "    self.lr = lr\n",
        "    self.epochs = epochs\n",
        "    # instantiate optimizer\n",
        "    self.opt = self.opt_func(self.model.parameters(), self.lr)\n",
        "    # run training loop\n",
        "    self.train_model(self.model, self.epochs)\n",
        "\n",
        "  def predict(self, x):\n",
        "    prediction = self.model(x)\n",
        "    # predictions should add up to 1.\n",
        "    prediction = torch.softmax(prediction, dim=0)\n",
        "    # return probability and label\n",
        "    return prediction.max(), prediction.argmax().item()"
      ]
    },
    {
      "cell_type": "code",
      "execution_count": 447,
      "metadata": {
        "id": "896TQMZOiG5o"
      },
      "outputs": [],
      "source": [
        "# create a fresh model\n",
        "simple_net = nn.Sequential(\n",
        "    nn.Linear(28*28, 30),\n",
        "    nn.ReLU(),\n",
        "    nn.Linear(30, 10)\n",
        ")"
      ]
    },
    {
      "cell_type": "code",
      "execution_count": 448,
      "metadata": {
        "id": "9DfpPQT8iHa8"
      },
      "outputs": [],
      "source": [
        "# instantiate MNISTLearner\n",
        "learner = MNISTLearner(dls=dls,\n",
        "                       model=simple_net,\n",
        "                       opt_func=BasicOptim,\n",
        "                       loss_func=nn.CrossEntropyLoss(),\n",
        "                       metric=batch_accuracy)"
      ]
    },
    {
      "cell_type": "code",
      "execution_count": 449,
      "metadata": {
        "colab": {
          "base_uri": "https://localhost:8080/"
        },
        "id": "jVmKVl4oibeB",
        "outputId": "cbcd4af1-1024-41fa-a0dd-05039c342faa"
      },
      "outputs": [
        {
          "name": "stdout",
          "output_type": "stream",
          "text": [
            "Epoch   Train Loss    batch_accuracy  Time (s)\n",
            "0       2.3025        0.1194          0.7052\n",
            "1       2.2658        0.1836          0.6548\n",
            "2       2.2273        0.2968          0.6137\n",
            "3       2.1825        0.3777          0.5981\n",
            "4       2.1311        0.4608          0.6194\n",
            "5       2.0769        0.5362          0.6074\n",
            "6       2.0208        0.5938          0.7253\n",
            "7       1.9622        0.6406          0.7677\n",
            "8       1.9025        0.6746          0.6411\n",
            "9       1.8408        0.6964          0.6073\n",
            "10      1.7774        0.7209          0.6361\n",
            "11      1.7121        0.7318          0.5707\n",
            "12      1.6454        0.7428          0.886\n",
            "13      1.5776        0.7583          1.0406\n",
            "14      1.5094        0.7699          0.5713\n",
            "15      1.4416        0.7759          0.5628\n",
            "16      1.3759        0.7796          0.5508\n",
            "17      1.3118        0.7882          0.5552\n",
            "18      1.2518        0.7876          0.6065\n",
            "19      1.1946        0.7981          0.5996\n",
            "20      1.1411        0.801           0.5771\n",
            "21      1.0918        0.8123          0.5345\n",
            "22      1.0467        0.8177          0.5996\n",
            "23      1.0042        0.8211          0.7218\n",
            "24      0.966         0.8229          0.7094\n",
            "25      0.9305        0.8261          0.5933\n",
            "26      0.8984        0.8311          0.5768\n",
            "27      0.8686        0.8356          0.5928\n",
            "28      0.8416        0.8342          0.5969\n",
            "29      0.8167        0.8418          0.5945\n",
            "30      0.7935        0.8438          0.5933\n",
            "31      0.7716        0.8449          0.5819\n",
            "32      0.7519        0.8489          0.5428\n",
            "33      0.7337        0.8498          0.6047\n",
            "34      0.7166        0.8525          0.6062\n",
            "35      0.7011        0.8511          0.5831\n",
            "36      0.6862        0.8552          0.5418\n",
            "37      0.6725        0.86            0.5483\n",
            "38      0.6592        0.8539          0.5721\n",
            "39      0.6471        0.856           0.5682\n"
          ]
        }
      ],
      "source": [
        "# run training loop for 40 epochs\n",
        "learner.fit(epochs=40, lr=0.001)"
      ]
    },
    {
      "attachments": {},
      "cell_type": "markdown",
      "metadata": {
        "id": "AeIA3BgSlvZz"
      },
      "source": [
        "Great! Next, I'll test predictions of this model, one image per digit, to see how it performs. Ideally, I would have a test dataset set aside for this part, but I'll use the validation set instead:"
      ]
    },
    {
      "cell_type": "code",
      "execution_count": 450,
      "metadata": {
        "colab": {
          "base_uri": "https://localhost:8080/",
          "height": 114
        },
        "id": "zHYLTtx-lF1b",
        "outputId": "f8f7a417-1507-408c-d040-5a4a636625dd"
      },
      "outputs": [
        {
          "data": {
            "image/png": "[encoded data removed]",
            "text/plain": [
              "<Figure size 100x100 with 1 Axes>"
            ]
          },
          "metadata": {},
          "output_type": "display_data"
        }
      ],
      "source": [
        "test_x = dls.valid.dataset[0][0]\n",
        "show_image(test_x.view(-1,28,28));"
      ]
    },
    {
      "cell_type": "code",
      "execution_count": 451,
      "metadata": {
        "colab": {
          "base_uri": "https://localhost:8080/"
        },
        "id": "Ugzt-X5SmVBF",
        "outputId": "494c6d6b-5a61-4712-b49c-5311e006989f"
      },
      "outputs": [
        {
          "data": {
            "text/plain": [
              "(tensor(0.9909, grad_fn=<MaxBackward1>), 0)"
            ]
          },
          "execution_count": 451,
          "metadata": {},
          "output_type": "execute_result"
        }
      ],
      "source": [
        "# this should be 0\n",
        "learner.predict(test_x)"
      ]
    },
    {
      "cell_type": "code",
      "execution_count": 452,
      "metadata": {
        "colab": {
          "base_uri": "https://localhost:8080/",
          "height": 114
        },
        "id": "jL8cNrGamDgN",
        "outputId": "055f0038-afbe-47b0-9f3c-d002b64e028f"
      },
      "outputs": [
        {
          "data": {
            "image/png": "[encoded data removed]",
            "text/plain": [
              "<Figure size 100x100 with 1 Axes>"
            ]
          },
          "metadata": {},
          "output_type": "display_data"
        }
      ],
      "source": [
        "test_x = dls.valid.dataset[1000][0]\n",
        "show_image(test_x.view(-1,28,28));"
      ]
    },
    {
      "cell_type": "code",
      "execution_count": 453,
      "metadata": {
        "colab": {
          "base_uri": "https://localhost:8080/"
        },
        "id": "VXuBSAHKmgN8",
        "outputId": "56c9f9f7-5984-4281-c694-1dfe4ea51a98"
      },
      "outputs": [
        {
          "data": {
            "text/plain": [
              "(tensor(0.7081, grad_fn=<MaxBackward1>), 1)"
            ]
          },
          "execution_count": 453,
          "metadata": {},
          "output_type": "execute_result"
        }
      ],
      "source": [
        "# this should be 1\n",
        "learner.predict(test_x)"
      ]
    },
    {
      "cell_type": "code",
      "execution_count": 454,
      "metadata": {
        "colab": {
          "base_uri": "https://localhost:8080/",
          "height": 114
        },
        "id": "1WaIKDo5mE4s",
        "outputId": "1b684ccd-aee6-4e15-949a-46296214c1fe"
      },
      "outputs": [
        {
          "data": {
            "image/png": "[encoded data removed]",
            "text/plain": [
              "<Figure size 100x100 with 1 Axes>"
            ]
          },
          "metadata": {},
          "output_type": "display_data"
        }
      ],
      "source": [
        "test_x = dls.valid.dataset[2600][0]\n",
        "show_image(test_x.view(-1,28,28));"
      ]
    },
    {
      "cell_type": "code",
      "execution_count": 455,
      "metadata": {
        "colab": {
          "base_uri": "https://localhost:8080/"
        },
        "id": "RPkTOwkqmhYW",
        "outputId": "3fe0fb62-be62-45a1-ead1-858cb8a9b4ce"
      },
      "outputs": [
        {
          "data": {
            "text/plain": [
              "(tensor(0.5737, grad_fn=<MaxBackward1>), 4)"
            ]
          },
          "execution_count": 455,
          "metadata": {},
          "output_type": "execute_result"
        }
      ],
      "source": [
        "# this should be 2\n",
        "learner.predict(test_x)"
      ]
    },
    {
      "cell_type": "code",
      "execution_count": 456,
      "metadata": {
        "colab": {
          "base_uri": "https://localhost:8080/",
          "height": 114
        },
        "id": "h0YYEOMimF08",
        "outputId": "0b024f88-d13e-4be7-f58e-9f0bd4a9c05e"
      },
      "outputs": [
        {
          "data": {
            "image/png": "[encoded data removed]",
            "text/plain": [
              "<Figure size 100x100 with 1 Axes>"
            ]
          },
          "metadata": {},
          "output_type": "display_data"
        }
      ],
      "source": [
        "test_x = dls.valid.dataset[3600][0]\n",
        "show_image(test_x.view(-1,28,28));"
      ]
    },
    {
      "cell_type": "code",
      "execution_count": 457,
      "metadata": {
        "colab": {
          "base_uri": "https://localhost:8080/"
        },
        "id": "R6jwsrdamivE",
        "outputId": "7d085dc6-d6f5-4fe4-cccc-ee610e17f92a"
      },
      "outputs": [
        {
          "data": {
            "text/plain": [
              "(tensor(0.7091, grad_fn=<MaxBackward1>), 3)"
            ]
          },
          "execution_count": 457,
          "metadata": {},
          "output_type": "execute_result"
        }
      ],
      "source": [
        "# this should be 3\n",
        "learner.predict(test_x)"
      ]
    },
    {
      "cell_type": "code",
      "execution_count": 458,
      "metadata": {
        "colab": {
          "base_uri": "https://localhost:8080/",
          "height": 114
        },
        "id": "NZtkiOTBmKMQ",
        "outputId": "ed6eb6ff-7c73-4285-c2fd-fc1fe7b6aa8e"
      },
      "outputs": [
        {
          "data": {
            "image/png": "[encoded data removed]",
            "text/plain": [
              "<Figure size 100x100 with 1 Axes>"
            ]
          },
          "metadata": {},
          "output_type": "display_data"
        }
      ],
      "source": [
        "test_x = dls.valid.dataset[4600][0]\n",
        "show_image(test_x.view(-1,28,28));"
      ]
    },
    {
      "cell_type": "code",
      "execution_count": 459,
      "metadata": {
        "colab": {
          "base_uri": "https://localhost:8080/"
        },
        "id": "so9R1mUBmjw4",
        "outputId": "c7931036-251b-4419-8e18-2a2551f7efe0"
      },
      "outputs": [
        {
          "data": {
            "text/plain": [
              "(tensor(0.8390, grad_fn=<MaxBackward1>), 4)"
            ]
          },
          "execution_count": 459,
          "metadata": {},
          "output_type": "execute_result"
        }
      ],
      "source": [
        "# this should be 4\n",
        "learner.predict(test_x)"
      ]
    },
    {
      "cell_type": "code",
      "execution_count": 460,
      "metadata": {
        "colab": {
          "base_uri": "https://localhost:8080/",
          "height": 114
        },
        "id": "s-Ud0UUBmLI6",
        "outputId": "bcd1fb83-ab6d-4cc6-d2e6-721d82721b70"
      },
      "outputs": [
        {
          "data": {
            "image/png": "[encoded data removed]",
            "text/plain": [
              "<Figure size 100x100 with 1 Axes>"
            ]
          },
          "metadata": {},
          "output_type": "display_data"
        }
      ],
      "source": [
        "test_x = dls.valid.dataset[5600][0]\n",
        "show_image(test_x.view(-1,28,28));"
      ]
    },
    {
      "cell_type": "code",
      "execution_count": 461,
      "metadata": {
        "colab": {
          "base_uri": "https://localhost:8080/"
        },
        "id": "9Uvab8iOmlQ9",
        "outputId": "7d767cfe-7ff9-4adf-80e2-78138d3997fc"
      },
      "outputs": [
        {
          "data": {
            "text/plain": [
              "(tensor(0.4645, grad_fn=<MaxBackward1>), 5)"
            ]
          },
          "execution_count": 461,
          "metadata": {},
          "output_type": "execute_result"
        }
      ],
      "source": [
        "# this should be 5\n",
        "learner.predict(test_x)"
      ]
    },
    {
      "cell_type": "code",
      "execution_count": 462,
      "metadata": {
        "colab": {
          "base_uri": "https://localhost:8080/",
          "height": 114
        },
        "id": "UAIlZHw-mL_p",
        "outputId": "0751af00-1b0e-4046-eada-050debc19d29"
      },
      "outputs": [
        {
          "data": {
            "image/png": "[encoded data removed]",
            "text/plain": [
              "<Figure size 100x100 with 1 Axes>"
            ]
          },
          "metadata": {},
          "output_type": "display_data"
        }
      ],
      "source": [
        "test_x = dls.valid.dataset[6600][0]\n",
        "show_image(test_x.view(-1,28,28));"
      ]
    },
    {
      "cell_type": "code",
      "execution_count": 463,
      "metadata": {
        "colab": {
          "base_uri": "https://localhost:8080/"
        },
        "id": "Bgm-enJ8mmb4",
        "outputId": "dea007a6-f283-41bc-cc0f-a4fe0ddaa94c"
      },
      "outputs": [
        {
          "data": {
            "text/plain": [
              "(tensor(0.9363, grad_fn=<MaxBackward1>), 6)"
            ]
          },
          "execution_count": 463,
          "metadata": {},
          "output_type": "execute_result"
        }
      ],
      "source": [
        "# this should be 6\n",
        "learner.predict(test_x)"
      ]
    },
    {
      "cell_type": "code",
      "execution_count": 464,
      "metadata": {
        "colab": {
          "base_uri": "https://localhost:8080/",
          "height": 114
        },
        "id": "kYtu1_BYmM1O",
        "outputId": "a873acb7-6cd9-4e7c-a46d-ad95427aeb9a"
      },
      "outputs": [
        {
          "data": {
            "image/png": "[encoded data removed]",
            "text/plain": [
              "<Figure size 100x100 with 1 Axes>"
            ]
          },
          "metadata": {},
          "output_type": "display_data"
        }
      ],
      "source": [
        "test_x = dls.valid.dataset[7100][0]\n",
        "show_image(test_x.view(-1,28,28));"
      ]
    },
    {
      "cell_type": "code",
      "execution_count": 465,
      "metadata": {
        "colab": {
          "base_uri": "https://localhost:8080/"
        },
        "id": "WIYVsIsNmn0b",
        "outputId": "0b4cc444-57ec-459f-beae-3633b4b499aa"
      },
      "outputs": [
        {
          "data": {
            "text/plain": [
              "(tensor(0.4163, grad_fn=<MaxBackward1>), 1)"
            ]
          },
          "execution_count": 465,
          "metadata": {},
          "output_type": "execute_result"
        }
      ],
      "source": [
        "# this should be 7\n",
        "learner.predict(test_x)"
      ]
    },
    {
      "cell_type": "code",
      "execution_count": 466,
      "metadata": {
        "colab": {
          "base_uri": "https://localhost:8080/",
          "height": 114
        },
        "id": "nhjg26JLmNwT",
        "outputId": "2a2d7572-0e7b-4c31-8c94-80c48d52c946"
      },
      "outputs": [
        {
          "data": {
            "image/png": "[encoded data removed]",
            "text/plain": [
              "<Figure size 100x100 with 1 Axes>"
            ]
          },
          "metadata": {},
          "output_type": "display_data"
        }
      ],
      "source": [
        "test_x = dls.valid.dataset[8500][0]\n",
        "show_image(test_x.view(-1,28,28));"
      ]
    },
    {
      "cell_type": "code",
      "execution_count": 467,
      "metadata": {
        "colab": {
          "base_uri": "https://localhost:8080/"
        },
        "id": "VDjyN55Nmo99",
        "outputId": "6a8f26cc-e877-4706-98e3-b316b6f6223b"
      },
      "outputs": [
        {
          "data": {
            "text/plain": [
              "(tensor(0.8225, grad_fn=<MaxBackward1>), 8)"
            ]
          },
          "execution_count": 467,
          "metadata": {},
          "output_type": "execute_result"
        }
      ],
      "source": [
        "# this should be 8\n",
        "learner.predict(test_x)"
      ]
    },
    {
      "cell_type": "code",
      "execution_count": 468,
      "metadata": {
        "colab": {
          "base_uri": "https://localhost:8080/",
          "height": 114
        },
        "id": "BlzEgzd6mRL3",
        "outputId": "2481b3df-8a84-4ae2-e157-e4f5f72677f9"
      },
      "outputs": [
        {
          "data": {
            "image/png": "[encoded data removed]",
            "text/plain": [
              "<Figure size 100x100 with 1 Axes>"
            ]
          },
          "metadata": {},
          "output_type": "display_data"
        }
      ],
      "source": [
        "test_x = dls.valid.dataset[-1][0]\n",
        "show_image(test_x.view(-1,28,28));"
      ]
    },
    {
      "cell_type": "code",
      "execution_count": 469,
      "metadata": {
        "colab": {
          "base_uri": "https://localhost:8080/"
        },
        "id": "eop65OHzmqDG",
        "outputId": "3ee5ca73-7d18-4fe6-f129-0bc694bc9750"
      },
      "outputs": [
        {
          "data": {
            "text/plain": [
              "(tensor(0.5962, grad_fn=<MaxBackward1>), 9)"
            ]
          },
          "execution_count": 469,
          "metadata": {},
          "output_type": "execute_result"
        }
      ],
      "source": [
        "# this should be 9\n",
        "learner.predict(test_x)"
      ]
    },
    {
      "attachments": {},
      "cell_type": "markdown",
      "metadata": {
        "id": "OQcI7OHYm1xS"
      },
      "source": [
        "Manually testing the model, it accurately predicted 80% of the digits, which makes sense given the model accuracy was 85% at the end of training."
      ]
    },
    {
      "attachments": {},
      "cell_type": "markdown",
      "metadata": {
        "id": "ilo6srqAnMwQ"
      },
      "source": [
        "## Improving the Model"
      ]
    },
    {
      "attachments": {},
      "cell_type": "markdown",
      "metadata": {
        "id": "8MR-dW9lnONg"
      },
      "source": [
        "I wonder if adding another layer to my neural net will improve the model's accuracy. I'll arbitrarily choose an intermediate number of activations as 784/2:"
      ]
    },
    {
      "cell_type": "code",
      "execution_count": 476,
      "metadata": {
        "id": "eIz3AXDsm045"
      },
      "outputs": [],
      "source": [
        "# create a fresh model\n",
        "simple_net = nn.Sequential(\n",
        "    nn.Linear(28*28, 392),\n",
        "    nn.ReLU(),\n",
        "    nn.Linear(392, 30),\n",
        "    nn.ReLU(),\n",
        "    nn.Linear(30,10)\n",
        ")"
      ]
    },
    {
      "cell_type": "code",
      "execution_count": 477,
      "metadata": {
        "id": "jsCntQrJnqcq"
      },
      "outputs": [],
      "source": [
        "# instantiate MNISTLearner\n",
        "learner = MNISTLearner(dls=dls,\n",
        "                       model=simple_net,\n",
        "                       opt_func=BasicOptim,\n",
        "                       loss_func=nn.CrossEntropyLoss(),\n",
        "                       metric=batch_accuracy)"
      ]
    },
    {
      "cell_type": "code",
      "execution_count": 478,
      "metadata": {
        "colab": {
          "base_uri": "https://localhost:8080/"
        },
        "id": "u_fQszdvnsVv",
        "outputId": "ac97f6d1-ca0d-4b9a-806a-894f9d35b355"
      },
      "outputs": [
        {
          "name": "stdout",
          "output_type": "stream",
          "text": [
            "Epoch   Train Loss    batch_accuracy  Time (s)\n",
            "0       2.2885        0.2899          1.771\n",
            "1       2.2213        0.3874          2.2249\n",
            "2       2.1157        0.5674          1.6725\n",
            "3       1.9426        0.6493          1.7144\n",
            "4       1.6701        0.708           1.5923\n",
            "5       1.3271        0.7588          1.6464\n",
            "6       1.0312        0.7899          1.7139\n",
            "7       0.8426        0.8186          1.9155\n",
            "8       0.726         0.8276          1.8586\n",
            "9       0.6467        0.8443          1.6758\n",
            "10      0.5893        0.8518          1.6447\n",
            "11      0.5452        0.8624          1.6898\n",
            "12      0.5098        0.8768          1.653\n",
            "13      0.482         0.8792          1.7703\n",
            "14      0.4598        0.8817          2.0231\n",
            "15      0.4412        0.8829          1.6538\n",
            "16      0.4255        0.8902          1.6392\n",
            "17      0.4125        0.8919          1.6541\n",
            "18      0.4017        0.8894          1.6532\n",
            "19      0.3917        0.8951          1.6696\n",
            "20      0.3834        0.8965          2.1116\n",
            "21      0.3754        0.8963          1.6413\n",
            "22      0.3687        0.8975          1.6831\n",
            "23      0.3623        0.8994          1.6442\n",
            "24      0.3567        0.9065          1.7872\n",
            "25      0.3515        0.9039          1.7696\n",
            "26      0.3464        0.9052          2.1025\n",
            "27      0.3415        0.9075          1.7063\n",
            "28      0.3372        0.9098          1.7005\n",
            "29      0.3333        0.9116          1.6846\n",
            "30      0.3293        0.9107          1.6581\n",
            "31      0.3258        0.9117          1.7834\n",
            "32      0.3214        0.9113          1.9949\n",
            "33      0.3181        0.9121          1.7621\n",
            "34      0.3146        0.9122          1.7287\n",
            "35      0.3113        0.9147          1.7505\n",
            "36      0.3078        0.9134          1.7595\n",
            "37      0.3052        0.9176          1.7835\n",
            "38      0.3017        0.9174          1.966\n",
            "39      0.2993        0.9183          1.9536\n"
          ]
        }
      ],
      "source": [
        "# run training loop for 40 epochs\n",
        "learner.fit(epochs=40, lr=0.005)"
      ]
    },
    {
      "attachments": {},
      "cell_type": "markdown",
      "metadata": {
        "id": "iiMBNz_3q4g4"
      },
      "source": [
        "Cool! I ended up with a significant improvement in accuracy, although the training took about 3 times as long to finish."
      ]
    },
    {
      "attachments": {},
      "cell_type": "markdown",
      "metadata": {
        "id": "mNf98f1zq8wj"
      },
      "source": [
        "I'll again test all 10 digits to see how well it predicts them:"
      ]
    },
    {
      "cell_type": "code",
      "execution_count": 494,
      "metadata": {
        "colab": {
          "base_uri": "https://localhost:8080/"
        },
        "id": "wdCOO7RVnva7",
        "outputId": "7a3e372b-3f8c-4e51-be12-bf005679b2dd"
      },
      "outputs": [
        {
          "name": "stdout",
          "output_type": "stream",
          "text": [
            "Actual: 0    Prediction: (tensor(0.9990, grad_fn=<MaxBackward1>), 0)\n",
            "Actual: 1    Prediction: (tensor(0.9758, grad_fn=<MaxBackward1>), 1)\n",
            "Actual: 2    Prediction: (tensor(0.8626, grad_fn=<MaxBackward1>), 4)\n",
            "Actual: 3    Prediction: (tensor(0.9606, grad_fn=<MaxBackward1>), 3)\n",
            "Actual: 4    Prediction: (tensor(0.9981, grad_fn=<MaxBackward1>), 4)\n",
            "Actual: 5    Prediction: (tensor(0.9614, grad_fn=<MaxBackward1>), 5)\n",
            "Actual: 6    Prediction: (tensor(0.9982, grad_fn=<MaxBackward1>), 6)\n",
            "Actual: 7    Prediction: (tensor(0.8736, grad_fn=<MaxBackward1>), 7)\n",
            "Actual: 8    Prediction: (tensor(0.9901, grad_fn=<MaxBackward1>), 8)\n",
            "Actual: 9    Prediction: (tensor(0.9784, grad_fn=<MaxBackward1>), 9)\n"
          ]
        }
      ],
      "source": [
        "actuals = list(range(10))\n",
        "for idx, val in enumerate([0, 1000, 2600, 3600, 4600, 5600, 6600, 7100, 8500, -1]):\n",
        "  test_x = dls.valid.dataset[val][0]\n",
        "  print(f\"{'Actual:':<8}{actuals[idx]:<4} {'Prediction: ':<12}{learner.predict(test_x)}\")\n"
      ]
    },
    {
      "attachments": {},
      "cell_type": "markdown",
      "metadata": {
        "id": "frGqPtsys8DZ"
      },
      "source": [
        "My manual testing resulted in the model predicting 90% of the digits correctly, which makes sense given the increase in accuracy of the model."
      ]
    },
    {
      "attachments": {},
      "cell_type": "markdown",
      "metadata": {
        "id": "m7BRO8gytFGy"
      },
      "source": [
        "## Further Improvements"
      ]
    },
    {
      "attachments": {},
      "cell_type": "markdown",
      "metadata": {
        "id": "kk-KdF8FtGyC"
      },
      "source": [
        "There are of course unlimited improvements when it comes to trying out different models. I could vary the number of intermediate activations, number of layers, and overall architecture.\n",
        "\n",
        "I could also add a validation loss to understand when the model is overfitting.\n",
        "\n",
        "Overall, I am thrilled that this exercise was successful, and had a really fun time working through it. I hope you enjoyed this blog post!"
      ]
    }
  ],
  "metadata": {
    "colab": {
      "provenance": [],
      "toc_visible": true
    },
    "kernelspec": {
      "display_name": "Python 3",
      "name": "python3"
    },
    "language_info": {
      "name": "python"
    }
  },
  "nbformat": 4,
  "nbformat_minor": 0
}

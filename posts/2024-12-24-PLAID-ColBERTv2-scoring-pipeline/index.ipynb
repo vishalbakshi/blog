{
 "cells": [
  {
   "cell_type": "raw",
   "metadata": {
    "vscode": {
     "languageId": "raw"
    }
   },
   "source": [
    "---\n",
    "title: Recreating the PLAID ColBERTv2 Scoring Pipeline&#58; From Research Code to RAGatouille\n",
    "date: \"2024-12-24\"\n",
    "author: Vishal Bakshi\n",
    "description: In this blog post, I walk through the colbert research codebase (via AnswerAI's RAGatouille) and work my way line-by-line through the 4-stage PLAID scoring pipeline to recreate RAGatouille results for a toy example of 1 query and 3 documents.\n",
    "filters:\n",
    "   - lightbox\n",
    "lightbox: auto\n",
    "categories:\n",
    "    - python\n",
    "    - information retrieval\n",
    "    - machine learning\n",
    "    - deep learning\n",
    "    - RAGatouille\n",
    "    - ColBERT\n",
    "---"
   ]
  },
  {
   "cell_type": "code",
   "execution_count": null,
   "metadata": {
    "id": "Ns60XsHhrPQ_"
   },
   "outputs": [],
   "source": [
    "!pip install RAGatouille -qq"
   ]
  },
  {
   "cell_type": "code",
   "execution_count": 2,
   "metadata": {
    "id": "sa590racsmX6"
   },
   "outputs": [],
   "source": [
    "from ragatouille import RAGPretrainedModel\n",
    "import colbert\n",
    "from fastcore.utils import Path\n",
    "import json\n",
    "import torch"
   ]
  },
  {
   "cell_type": "markdown",
   "metadata": {
    "id": "a6EqXl8JEO7h"
   },
   "source": [
    "## Background"
   ]
  },
  {
   "cell_type": "markdown",
   "metadata": {
    "id": "oz9VWy02ybaA"
   },
   "source": [
    "This walkthrough reconstructs the PLAID scoring pipeline by tracing code paths in the [ColBERT research codebase](https://github.com/stanford-futuredata/ColBERT) that reproduce RAGatouille's verified results. This is a reverse engineering process - I pulled at promising threads (code related to centroids, passage IDs, and scores) and validated my understanding by comparing against RAGatouille's known-correct outputs."
   ]
  },
  {
   "cell_type": "markdown",
   "metadata": {},
   "source": [
    "![4-Stage PLAID Scoring Pipeline](1.png)"
   ]
  },
  {
   "cell_type": "markdown",
   "metadata": {
    "id": "7HADHVGRU_GR"
   },
   "source": [
    "Here's my video walkthrough of the code in this notebook:"
   ]
  },
  {
   "cell_type": "markdown",
   "metadata": {
    "id": "OwDa3on9U4gQ"
   },
   "source": [
    "{{< video https://www.youtube.com/embed/XRPP5LHHk0o >}}"
   ]
  },
  {
   "cell_type": "markdown",
   "metadata": {
    "id": "14fPMa0wHHjS"
   },
   "source": [
    "## RAGatouille Results"
   ]
  },
  {
   "cell_type": "markdown",
   "metadata": {
    "id": "CLWNbI5HsnrA"
   },
   "source": [
    "In this notebook, the gold truth scores for the documents given a query are determined by the RAGatouille library. I create a query (_What is Python?_) and a simple set of documents where one document is the obvious right answer (_Python is a programming language. It is easy to learn_) , one is a hard negative in that it's about Python (_Python was created by Guido van Rossum in 1991_) and one is a easier negative as it's related to the programming but not about Python (_Java is a popular coding language used in many applications_)."
   ]
  },
  {
   "cell_type": "code",
   "execution_count": null,
   "metadata": {
    "id": "GvttM63pId0D"
   },
   "outputs": [],
   "source": [
    "RAG = RAGPretrainedModel.from_pretrained(\"colbert-ir/colbertv2.0\")"
   ]
  },
  {
   "cell_type": "code",
   "execution_count": 4,
   "metadata": {
    "colab": {
     "base_uri": "https://localhost:8080/",
     "height": 36
    },
    "id": "nx9yk16dre2P",
    "outputId": "89b586b3-11b0-4cae-8e03-54496bf75f35"
   },
   "outputs": [
    {
     "data": {
      "application/vnd.google.colaboratory.intrinsic+json": {
       "type": "string"
      },
      "text/plain": [
       "'What is Python?'"
      ]
     },
     "execution_count": 4,
     "metadata": {},
     "output_type": "execute_result"
    }
   ],
   "source": [
    "q = \"What is Python?\"\n",
    "q"
   ]
  },
  {
   "cell_type": "code",
   "execution_count": 5,
   "metadata": {
    "colab": {
     "base_uri": "https://localhost:8080/"
    },
    "id": "nH0cX_HMrgwa",
    "outputId": "5e61a859-1291-48d1-e3cb-430ec494cdf7"
   },
   "outputs": [
    {
     "data": {
      "text/plain": [
       "['Python is a programming language. It is easy to learn',\n",
       " 'Java is a popular coding language used in many applications',\n",
       " 'Python was created by Guido van Rossum in 1991']"
      ]
     },
     "execution_count": 5,
     "metadata": {},
     "output_type": "execute_result"
    }
   ],
   "source": [
    "documents = [\n",
    "    \"Python is a programming language. It is easy to learn\",\n",
    "    \"Java is a popular coding language used in many applications\",\n",
    "    \"Python was created by Guido van Rossum in 1991\"\n",
    "]\n",
    "documents"
   ]
  },
  {
   "cell_type": "code",
   "execution_count": null,
   "metadata": {
    "id": "EmmleNXxrlsL"
   },
   "outputs": [],
   "source": [
    "index_path = RAG.index(index_name=\"toy_example\", collection=documents)"
   ]
  },
  {
   "cell_type": "code",
   "execution_count": 7,
   "metadata": {
    "colab": {
     "base_uri": "https://localhost:8080/",
     "height": 36
    },
    "id": "seNTIl18r15B",
    "outputId": "14b79968-f1f3-4da6-801c-631016f860b3"
   },
   "outputs": [
    {
     "data": {
      "application/vnd.google.colaboratory.intrinsic+json": {
       "type": "string"
      },
      "text/plain": [
       "'.ragatouille/colbert/indexes/toy_example'"
      ]
     },
     "execution_count": 7,
     "metadata": {},
     "output_type": "execute_result"
    }
   ],
   "source": [
    "index_path"
   ]
  },
  {
   "cell_type": "code",
   "execution_count": 9,
   "metadata": {
    "colab": {
     "base_uri": "https://localhost:8080/"
    },
    "id": "J65czZjkrsUE",
    "outputId": "9e40747b-0e07-4e78-abe4-d3dc5f3d94ff"
   },
   "outputs": [
    {
     "name": "stdout",
     "output_type": "stream",
     "text": [
      "WARNING: k value is larger than the number of documents in the index! Lowering k to 3...\n"
     ]
    },
    {
     "data": {
      "text/plain": [
       "[{'content': 'Python is a programming language. It is easy to learn',\n",
       "  'score': 27.6875,\n",
       "  'rank': 1,\n",
       "  'document_id': '8aa5aade-10d5-4144-b634-c7866578b43c',\n",
       "  'passage_id': 0},\n",
       " {'content': 'Python was created by Guido van Rossum in 1991',\n",
       "  'score': 22.28125,\n",
       "  'rank': 2,\n",
       "  'document_id': '12352328-9bb1-4a51-896e-a002d3548adc',\n",
       "  'passage_id': 2},\n",
       " {'content': 'Java is a popular coding language used in many applications',\n",
       "  'score': 13.953125,\n",
       "  'rank': 3,\n",
       "  'document_id': '1fe9788e-ccec-4b9e-a004-14acc657915e',\n",
       "  'passage_id': 1}]"
      ]
     },
     "execution_count": 9,
     "metadata": {},
     "output_type": "execute_result"
    }
   ],
   "source": [
    "results = RAG.search(q)\n",
    "results"
   ]
  },
  {
   "cell_type": "markdown",
   "metadata": {
    "id": "wod3lVS5s0kg"
   },
   "source": [
    "Note the `score` and `passage_id`---these are values I'll continuously reference throughout my walkthrough:\n",
    "\n",
    "|`passage_id`|`score`|passage text\n",
    "|:-:|:-:|:-:|\n",
    "|0|27.6875|\"Python is a programming language. It is easy to learn\"\n",
    "|2|22.28125|\"Python was created by Guido van Rossum in 1991\"\n",
    "|1|13.953125|\"Java is a popular coding language used in many applications\""
   ]
  },
  {
   "cell_type": "markdown",
   "metadata": {
    "id": "OJMH5yy2vF4L"
   },
   "source": [
    "## Where to Start?"
   ]
  },
  {
   "cell_type": "markdown",
   "metadata": {
    "id": "3oq-KTTltMd2"
   },
   "source": [
    "Starting at the top---the model in play: of type `ColBERT`"
   ]
  },
  {
   "cell_type": "code",
   "execution_count": 10,
   "metadata": {
    "colab": {
     "base_uri": "https://localhost:8080/"
    },
    "id": "zrXKPiMZth7X",
    "outputId": "a569389d-4ae5-45fe-e11d-3e4c9c340d81"
   },
   "outputs": [
    {
     "data": {
      "text/plain": [
       "<ragatouille.models.colbert.ColBERT at 0x7d0a4cc14670>"
      ]
     },
     "execution_count": 10,
     "metadata": {},
     "output_type": "execute_result"
    }
   ],
   "source": [
    "m = RAG.model\n",
    "m"
   ]
  },
  {
   "cell_type": "markdown",
   "metadata": {
    "id": "98bsH5KLtxoY"
   },
   "source": [
    "And its index---of type `PLAIDModelIndex`."
   ]
  },
  {
   "cell_type": "code",
   "execution_count": 11,
   "metadata": {
    "colab": {
     "base_uri": "https://localhost:8080/"
    },
    "id": "ywyytqAVtrDY",
    "outputId": "07afbe51-fa27-4156-e6c5-a4a01e73de0c"
   },
   "outputs": [
    {
     "data": {
      "text/plain": [
       "<ragatouille.models.index.PLAIDModelIndex at 0x7d0bd8bb7e80>"
      ]
     },
     "execution_count": 11,
     "metadata": {},
     "output_type": "execute_result"
    }
   ],
   "source": [
    "index = m.model_index\n",
    "index"
   ]
  },
  {
   "cell_type": "markdown",
   "metadata": {
    "id": "hWuPOf9QuYtu"
   },
   "source": [
    "Inside the source code for [`PLAIDModelIndex`](https://github.com/AnswerDotAI/RAGatouille/blob/8183aad64a9a6ba805d4066dcab489d97615d316/ragatouille/models/index.py#L284) the most promising method seemed be the `_search` method, which contains the following line:\n",
    "\n",
    "```python\n",
    "return self.searcher.search(query, k=k, pids=pids)\n",
    "```\n",
    "\n",
    "This contained three things I recognized: the `query`, the top `k` value and the passage IDs `pids`."
   ]
  },
  {
   "cell_type": "code",
   "execution_count": 12,
   "metadata": {
    "colab": {
     "base_uri": "https://localhost:8080/"
    },
    "id": "kl2DtkFIvTYU",
    "outputId": "737f4016-6a3e-49a7-ee28-ccfd19dd095e"
   },
   "outputs": [
    {
     "data": {
      "text/plain": [
       "<colbert.searcher.Searcher at 0x7d0a4cdc6530>"
      ]
     },
     "execution_count": 12,
     "metadata": {},
     "output_type": "execute_result"
    }
   ],
   "source": [
    "index.searcher"
   ]
  },
  {
   "cell_type": "markdown",
   "metadata": {
    "id": "Xw__t8kyvdFc"
   },
   "source": [
    "## The `Searcher` Class"
   ]
  },
  {
   "cell_type": "markdown",
   "metadata": {
    "id": "L12NosVGvews"
   },
   "source": [
    "I couldn't find the `Searcher` in RAGAtouille's codebase as it was imported from `colbert`. Thankfully, installing RAGatouille gives you access to this library!"
   ]
  },
  {
   "cell_type": "code",
   "execution_count": 13,
   "metadata": {
    "colab": {
     "base_uri": "https://localhost:8080/",
     "height": 138
    },
    "id": "tHWS7F9tvqrO",
    "outputId": "6abf22d1-2cb2-4a49-a70a-0121cac86de5"
   },
   "outputs": [
    {
     "data": {
      "text/html": [
       "<div style=\"max-width:800px; border: 1px solid var(--colab-border-color);\"><style>\n",
       "      pre.function-repr-contents {\n",
       "        overflow-x: auto;\n",
       "        padding: 8px 12px;\n",
       "        max-height: 500px;\n",
       "      }\n",
       "\n",
       "      pre.function-repr-contents.function-repr-contents-collapsed {\n",
       "        cursor: pointer;\n",
       "        max-height: 100px;\n",
       "      }\n",
       "    </style>\n",
       "    <pre style=\"white-space: initial; background:\n",
       "         var(--colab-secondary-surface-color); padding: 8px 12px;\n",
       "         border-bottom: 1px solid var(--colab-border-color);\"><b>colbert.searcher.Searcher</b><br/>def __init__(index, checkpoint=None, collection=None, config=None, index_root=None, verbose: int=3)</pre><pre class=\"function-repr-contents function-repr-contents-collapsed\" style=\"\"><a class=\"filepath\" style=\"display:none\" href=\"#\">/usr/local/lib/python3.10/dist-packages/colbert/searcher.py</a>&lt;no docstring&gt;</pre>\n",
       "      <script>\n",
       "      if (google.colab.kernel.accessAllowed && google.colab.files && google.colab.files.view) {\n",
       "        for (const element of document.querySelectorAll('.filepath')) {\n",
       "          element.style.display = 'block'\n",
       "          element.onclick = (event) => {\n",
       "            event.preventDefault();\n",
       "            event.stopPropagation();\n",
       "            google.colab.files.view(element.textContent, 22);\n",
       "          };\n",
       "        }\n",
       "      }\n",
       "      for (const element of document.querySelectorAll('.function-repr-contents')) {\n",
       "        element.onclick = (event) => {\n",
       "          event.preventDefault();\n",
       "          event.stopPropagation();\n",
       "          element.classList.toggle('function-repr-contents-collapsed');\n",
       "        };\n",
       "      }\n",
       "      </script>\n",
       "      </div>"
      ],
      "text/plain": [
       "colbert.searcher.Searcher"
      ]
     },
     "execution_count": 13,
     "metadata": {},
     "output_type": "execute_result"
    }
   ],
   "source": [
    "colbert.Searcher"
   ]
  },
  {
   "cell_type": "markdown",
   "metadata": {
    "id": "-hDDYGW2vxR-"
   },
   "source": [
    "The `Searcher` takes as a required argument an `index` path---which we have!"
   ]
  },
  {
   "cell_type": "code",
   "execution_count": 14,
   "metadata": {
    "colab": {
     "base_uri": "https://localhost:8080/"
    },
    "id": "J2MC_r_ev11n",
    "outputId": "56727311-62b7-45d7-a5bb-58e710870a54"
   },
   "outputs": [
    {
     "name": "stdout",
     "output_type": "stream",
     "text": [
      "[Dec 24, 15:59:52] #> Loading codec...\n",
      "[Dec 24, 15:59:52] #> Loading IVF...\n",
      "[Dec 24, 15:59:52] #> Loading doclens...\n"
     ]
    },
    {
     "name": "stderr",
     "output_type": "stream",
     "text": [
      "100%|██████████| 1/1 [00:00<00:00, 4315.13it/s]"
     ]
    },
    {
     "name": "stdout",
     "output_type": "stream",
     "text": [
      "[Dec 24, 15:59:52] #> Loading codes and residuals...\n"
     ]
    },
    {
     "name": "stderr",
     "output_type": "stream",
     "text": [
      "\n",
      "100%|██████████| 1/1 [00:00<00:00, 454.67it/s]\n"
     ]
    }
   ],
   "source": [
    "searcher = colbert.Searcher(index='toy_example')"
   ]
  },
  {
   "cell_type": "markdown",
   "metadata": {
    "id": "ZpbVZ8-Uv7yx"
   },
   "source": [
    "Notice that it loads the `codec`, `IVF` and `doclens`, all things we'll look at throughout this notebook. Looking inside the `Searcher.search` method (which was called in the `PLAIDModelIndex._search` method) [I see the following](https://github.com/stanford-futuredata/ColBERT/blob/7067ef598b5011edaa1f4a731a2c269dbac864e4/colbert/searcher.py#L65):\n",
    "\n",
    "```python\n",
    "def search(self, text: str, k=10, filter_fn=None, full_length_search=False, pids=None):\n",
    "    Q = self.encode(text, full_length_search=full_length_search)\n",
    "    return self.dense_search(Q, k, filter_fn=filter_fn, pids=pids)\n",
    "```\n"
   ]
  },
  {
   "cell_type": "markdown",
   "metadata": {
    "id": "_3zNAiqE0a3K"
   },
   "source": [
    "This is encoding the `text` into `Q`. Looks promising. I'll see what that gets me:"
   ]
  },
  {
   "cell_type": "code",
   "execution_count": 16,
   "metadata": {
    "colab": {
     "base_uri": "https://localhost:8080/"
    },
    "id": "7qWXJwCo1ZP-",
    "outputId": "5877b31f-6555-45e1-c697-e47c726a989a"
   },
   "outputs": [
    {
     "data": {
      "text/plain": [
       "torch.Size([1, 32, 128])"
      ]
     },
     "execution_count": 16,
     "metadata": {},
     "output_type": "execute_result"
    }
   ],
   "source": [
    "Q = searcher.encode(q)\n",
    "Q.shape"
   ]
  },
  {
   "cell_type": "markdown",
   "metadata": {
    "id": "reQpe_k-1tV-"
   },
   "source": [
    "Looks good! It has 32 tokens, each with a 128-dimension encoding."
   ]
  },
  {
   "cell_type": "markdown",
   "metadata": {
    "id": "PKqKvj7IwSUz"
   },
   "source": [
    "`Searcher.search` returns the output of `Searcher.dense_search`, and the [`Searcher.dense_search`](https://github.com/stanford-futuredata/ColBERT/blob/7067ef598b5011edaa1f4a731a2c269dbac864e4/colbert/searcher.py#L106) method looks _very_ promising. It takes queries `Q` and passages IDs and returns passage IDs and `scores`.\n",
    "\n",
    "```python\n",
    "pids, scores = self.ranker.rank(self.config, Q, filter_fn=filter_fn, pids=pids)\n",
    "\n",
    "return pids[:k], list(range(1, k+1)), scores[:k]\n",
    "```"
   ]
  },
  {
   "cell_type": "code",
   "execution_count": 17,
   "metadata": {
    "colab": {
     "base_uri": "https://localhost:8080/",
     "height": 121
    },
    "id": "H8MmUHjb2Wpx",
    "outputId": "5dd61d17-137b-40e7-bb37-7fde4118079c"
   },
   "outputs": [
    {
     "data": {
      "text/html": [
       "<div style=\"max-width:800px; border: 1px solid var(--colab-border-color);\"><style>\n",
       "      pre.function-repr-contents {\n",
       "        overflow-x: auto;\n",
       "        padding: 8px 12px;\n",
       "        max-height: 500px;\n",
       "      }\n",
       "\n",
       "      pre.function-repr-contents.function-repr-contents-collapsed {\n",
       "        cursor: pointer;\n",
       "        max-height: 100px;\n",
       "      }\n",
       "    </style>\n",
       "    <pre style=\"white-space: initial; background:\n",
       "         var(--colab-secondary-surface-color); padding: 8px 12px;\n",
       "         border-bottom: 1px solid var(--colab-border-color);\"><b>colbert.searcher.Searcher.dense_search</b><br/>def dense_search(Q: torch.Tensor, k=10, filter_fn=None, pids=None)</pre><pre class=\"function-repr-contents function-repr-contents-collapsed\" style=\"\"><a class=\"filepath\" style=\"display:none\" href=\"#\">/usr/local/lib/python3.10/dist-packages/colbert/searcher.py</a>&lt;no docstring&gt;</pre>\n",
       "      <script>\n",
       "      if (google.colab.kernel.accessAllowed && google.colab.files && google.colab.files.view) {\n",
       "        for (const element of document.querySelectorAll('.filepath')) {\n",
       "          element.style.display = 'block'\n",
       "          element.onclick = (event) => {\n",
       "            event.preventDefault();\n",
       "            event.stopPropagation();\n",
       "            google.colab.files.view(element.textContent, 106);\n",
       "          };\n",
       "        }\n",
       "      }\n",
       "      for (const element of document.querySelectorAll('.function-repr-contents')) {\n",
       "        element.onclick = (event) => {\n",
       "          event.preventDefault();\n",
       "          event.stopPropagation();\n",
       "          element.classList.toggle('function-repr-contents-collapsed');\n",
       "        };\n",
       "      }\n",
       "      </script>\n",
       "      </div>"
      ],
      "text/plain": [
       "<bound method Searcher.dense_search of <colbert.searcher.Searcher object at 0x7d0a4cc052a0>>"
      ]
     },
     "execution_count": 17,
     "metadata": {},
     "output_type": "execute_result"
    }
   ],
   "source": [
    "searcher.dense_search"
   ]
  },
  {
   "cell_type": "code",
   "execution_count": 18,
   "metadata": {
    "colab": {
     "base_uri": "https://localhost:8080/"
    },
    "id": "7LQlyrFW2ZdA",
    "outputId": "abd2a719-2384-47ff-b1e6-0aaa88182c91"
   },
   "outputs": [
    {
     "data": {
      "text/plain": [
       "([0], [1, 2, 3, 4, 5, 6, 7, 8, 9, 10], [27.6875])"
      ]
     },
     "execution_count": 18,
     "metadata": {},
     "output_type": "execute_result"
    }
   ],
   "source": [
    "searcher.dense_search(Q)"
   ]
  },
  {
   "cell_type": "markdown",
   "metadata": {
    "id": "ZFAMEBhQ2bv7"
   },
   "source": [
    "Excellent!! The first value is `pids[:k]`, which I understand to be the passage IDs corresponding to the top-k results. In this case it's just 1 passage ID, `0`, the first passage (_\"Python is a programming language. It is easy to learn\"_). The second value is `list(range(1,k+1))` which is just a list from 1 to `k`. The final value is `scores[:k]` which is score corresponding to the top-k values. In this case it's just one score, but an important one in our journey, as it is the same as RAGatouille for this passage (27.6875) !"
   ]
  },
  {
   "cell_type": "code",
   "execution_count": 19,
   "metadata": {
    "colab": {
     "base_uri": "https://localhost:8080/"
    },
    "id": "CIo-oIqX3zZO",
    "outputId": "a003d766-cd30-4fbd-c15d-cec4b6b73fee"
   },
   "outputs": [
    {
     "data": {
      "text/plain": [
       "{'content': 'Python is a programming language. It is easy to learn',\n",
       " 'score': 27.6875,\n",
       " 'rank': 1,\n",
       " 'document_id': '8aa5aade-10d5-4144-b634-c7866578b43c',\n",
       " 'passage_id': 0}"
      ]
     },
     "execution_count": 19,
     "metadata": {},
     "output_type": "execute_result"
    }
   ],
   "source": [
    "results[0]"
   ]
  },
  {
   "cell_type": "markdown",
   "metadata": {
    "id": "qoYHW3DQ3dHi"
   },
   "source": [
    "This is incredibly exciting, but I'm only getting 1 score instead of 3. Looking more closely at `dense_search` I see that the value of `k` determines the value of `config.ncells`:\n",
    "\n",
    "```python\n",
    "if k <= 10:\n",
    "    if self.config.ncells is None:\n",
    "        self.configure(ncells=1)\n",
    "    if self.config.centroid_score_threshold is None:\n",
    "        self.configure(centroid_score_threshold=0.5)\n",
    "    if self.config.ndocs is None:\n",
    "        self.configure(ndocs=256)\n",
    "```\n",
    "\n",
    "Afterwhich `dense_search` calls:\n",
    "\n",
    "```python\n",
    "pids, scores = self.ranker.rank(self.config, Q, filter_fn=filter_fn, pids=pids)\n",
    "```\n",
    "\n",
    "I'll look at `Searcher.ranker.rank` next."
   ]
  },
  {
   "cell_type": "markdown",
   "metadata": {
    "id": "R1L9ba2wIGOP"
   },
   "source": [
    "## `Searcher.ranker.rank`"
   ]
  },
  {
   "cell_type": "code",
   "execution_count": 20,
   "metadata": {
    "colab": {
     "base_uri": "https://localhost:8080/",
     "height": 121
    },
    "id": "84D6qd8pxkN4",
    "outputId": "2aeba55e-d7d8-4d4e-8f0e-2b38acdfb5b6"
   },
   "outputs": [
    {
     "data": {
      "text/html": [
       "<div style=\"max-width:800px; border: 1px solid var(--colab-border-color);\"><style>\n",
       "      pre.function-repr-contents {\n",
       "        overflow-x: auto;\n",
       "        padding: 8px 12px;\n",
       "        max-height: 500px;\n",
       "      }\n",
       "\n",
       "      pre.function-repr-contents.function-repr-contents-collapsed {\n",
       "        cursor: pointer;\n",
       "        max-height: 100px;\n",
       "      }\n",
       "    </style>\n",
       "    <pre style=\"white-space: initial; background:\n",
       "         var(--colab-secondary-surface-color); padding: 8px 12px;\n",
       "         border-bottom: 1px solid var(--colab-border-color);\"><b>colbert.search.index_storage.IndexScorer.rank</b><br/>def rank(config, Q, filter_fn=None, pids=None)</pre><pre class=\"function-repr-contents function-repr-contents-collapsed\" style=\"\"><a class=\"filepath\" style=\"display:none\" href=\"#\">/usr/local/lib/python3.10/dist-packages/colbert/search/index_storage.py</a>&lt;no docstring&gt;</pre>\n",
       "      <script>\n",
       "      if (google.colab.kernel.accessAllowed && google.colab.files && google.colab.files.view) {\n",
       "        for (const element of document.querySelectorAll('.filepath')) {\n",
       "          element.style.display = 'block'\n",
       "          element.onclick = (event) => {\n",
       "            event.preventDefault();\n",
       "            event.stopPropagation();\n",
       "            google.colab.files.view(element.textContent, 87);\n",
       "          };\n",
       "        }\n",
       "      }\n",
       "      for (const element of document.querySelectorAll('.function-repr-contents')) {\n",
       "        element.onclick = (event) => {\n",
       "          event.preventDefault();\n",
       "          event.stopPropagation();\n",
       "          element.classList.toggle('function-repr-contents-collapsed');\n",
       "        };\n",
       "      }\n",
       "      </script>\n",
       "      </div>"
      ],
      "text/plain": [
       "<bound method IndexScorer.rank of <colbert.search.index_storage.IndexScorer object at 0x7d0a4cc05300>>"
      ]
     },
     "execution_count": 20,
     "metadata": {},
     "output_type": "execute_result"
    }
   ],
   "source": [
    "searcher.ranker.rank"
   ]
  },
  {
   "cell_type": "markdown",
   "metadata": {
    "id": "x50Xdcle18uR"
   },
   "source": [
    "The first parameter, `config`, [is found in the `Searcher`](https://github.com/stanford-futuredata/ColBERT/blob/7067ef598b5011edaa1f4a731a2c269dbac864e4/colbert/searcher.py#L37):"
   ]
  },
  {
   "cell_type": "code",
   "execution_count": 21,
   "metadata": {
    "colab": {
     "base_uri": "https://localhost:8080/"
    },
    "id": "egvPJyVl2Cp7",
    "outputId": "85a314f5-4d5a-4574-8269-d0cca718cf75"
   },
   "outputs": [
    {
     "data": {
      "text/plain": [
       "ColBERTConfig(query_token_id='[unused0]', doc_token_id='[unused1]', query_token='[Q]', doc_token='[D]', ncells=1, centroid_score_threshold=0.5, ndocs=256, load_index_with_mmap=False, index_path=None, index_bsize=32, nbits=4, kmeans_niters=20, resume=False, similarity='cosine', bsize=64, accumsteps=1, lr=1e-05, maxsteps=400000, save_every=None, warmup=20000, warmup_bert=None, relu=False, nway=64, use_ib_negatives=True, reranker=False, distillation_alpha=1.0, ignore_scores=False, model_name=None, query_maxlen=32, attend_to_mask_tokens=False, interaction='colbert', dim=128, doc_maxlen=256, mask_punctuation=True, checkpoint='colbert-ir/colbertv2.0', triples='/future/u/okhattab/root/unit/experiments/2021.10/downstream.distillation.round2.2_score/round2.nway6.cosine.ib/examples.64.json', collection=<colbert.data.collection.Collection object at 0x7d0a4cc052d0>, queries='/future/u/okhattab/data/MSMARCO/queries.train.tsv', index_name='toy_example', overwrite=False, root='.ragatouille/', experiment='colbert', index_root=None, name='2024-12/24/15.52.48', rank=0, nranks=1, amp=True, gpus=1, avoid_fork_if_possible=False)"
      ]
     },
     "execution_count": 21,
     "metadata": {},
     "output_type": "execute_result"
    }
   ],
   "source": [
    "searcher.config"
   ]
  },
  {
   "cell_type": "markdown",
   "metadata": {
    "id": "A8NdGiJh5BN3"
   },
   "source": [
    "`ncells` is `1`."
   ]
  },
  {
   "cell_type": "code",
   "execution_count": 22,
   "metadata": {
    "colab": {
     "base_uri": "https://localhost:8080/"
    },
    "id": "cj0gA2A25DTX",
    "outputId": "7ed5b79f-e2fa-4aba-d22a-d8e90f6e91ea"
   },
   "outputs": [
    {
     "data": {
      "text/plain": [
       "1"
      ]
     },
     "execution_count": 22,
     "metadata": {},
     "output_type": "execute_result"
    }
   ],
   "source": [
    "searcher.config.ncells"
   ]
  },
  {
   "cell_type": "markdown",
   "metadata": {
    "id": "gGEFiM9j5MIr"
   },
   "source": [
    "From my previous amblings through the codebase, and which will see later on, I learned that `ncells` is synonymous with the $n_{probe}$ parameter in the ColBERTv2 and PLAID ColBERTv2 papers (i.e. the number of centroids closest to each query token). In the papers they use values of 1, 4, and 8. I'll pick a value of `4`."
   ]
  },
  {
   "cell_type": "code",
   "execution_count": 23,
   "metadata": {
    "colab": {
     "base_uri": "https://localhost:8080/"
    },
    "id": "hvsS7VJ75n7G",
    "outputId": "607b13a5-da93-48ea-d9a0-40885ff730d3"
   },
   "outputs": [
    {
     "data": {
      "text/plain": [
       "4"
      ]
     },
     "execution_count": 23,
     "metadata": {},
     "output_type": "execute_result"
    }
   ],
   "source": [
    "searcher.config.configure(ncells=4)\n",
    "searcher.config.ncells"
   ]
  },
  {
   "cell_type": "markdown",
   "metadata": {
    "id": "ZOHbjc8a5uxP"
   },
   "source": [
    "I'll now pass `config` to `Searcher.ranker.rank` along with my encoded query `Q`:"
   ]
  },
  {
   "cell_type": "code",
   "execution_count": 24,
   "metadata": {
    "colab": {
     "base_uri": "https://localhost:8080/"
    },
    "id": "pPXEtmKy50z3",
    "outputId": "5fde9ef4-3ae5-4553-ad55-4180a9857c55"
   },
   "outputs": [
    {
     "data": {
      "text/plain": [
       "([0, 2, 1], [27.6875, 22.28125, 13.953125])"
      ]
     },
     "execution_count": 24,
     "metadata": {},
     "output_type": "execute_result"
    }
   ],
   "source": [
    "searcher.ranker.rank(config=searcher.config, Q=Q)"
   ]
  },
  {
   "cell_type": "markdown",
   "metadata": {
    "id": "iIxXwoba52Rj"
   },
   "source": [
    "Major success!! I now see three passage IDs and their corresponding scores, an exact match with RAGatouille's results."
   ]
  },
  {
   "cell_type": "code",
   "execution_count": 25,
   "metadata": {
    "colab": {
     "base_uri": "https://localhost:8080/"
    },
    "id": "Ad-grgS658kN",
    "outputId": "d8e74f8d-3f01-4cd0-aedc-bca25c620d83"
   },
   "outputs": [
    {
     "data": {
      "text/plain": [
       "[{'content': 'Python is a programming language. It is easy to learn',\n",
       "  'score': 27.6875,\n",
       "  'rank': 1,\n",
       "  'document_id': '8aa5aade-10d5-4144-b634-c7866578b43c',\n",
       "  'passage_id': 0},\n",
       " {'content': 'Python was created by Guido van Rossum in 1991',\n",
       "  'score': 22.28125,\n",
       "  'rank': 2,\n",
       "  'document_id': '12352328-9bb1-4a51-896e-a002d3548adc',\n",
       "  'passage_id': 2},\n",
       " {'content': 'Java is a popular coding language used in many applications',\n",
       "  'score': 13.953125,\n",
       "  'rank': 3,\n",
       "  'document_id': '1fe9788e-ccec-4b9e-a004-14acc657915e',\n",
       "  'passage_id': 1}]"
      ]
     },
     "execution_count": 25,
     "metadata": {},
     "output_type": "execute_result"
    }
   ],
   "source": [
    "results"
   ]
  },
  {
   "cell_type": "markdown",
   "metadata": {
    "id": "TijzYJC96AMo"
   },
   "source": [
    "At this point I felt confident in the threads I was pulling and could now dig deeper and start recreating each stage of the PLAID scoring pipeline, starting with Stage 1."
   ]
  },
  {
   "cell_type": "markdown",
   "metadata": {
    "id": "xKcOvY_wEQw6"
   },
   "source": [
    "## Stage 1: Initial Candidate Generation"
   ]
  },
  {
   "cell_type": "markdown",
   "metadata": {
    "id": "rVTZJoPE6qsP"
   },
   "source": [
    "In Stage 1, we retrieve the passage IDs corresponding to the `ncells` centroid IDs neareest to each of the query tokens. I have set `ncells` to 4 and have 32 query tokens so we're dealing with a maximum of 4 x 32 = 128 centroid IDs."
   ]
  },
  {
   "cell_type": "markdown",
   "metadata": {
    "id": "h0r8o8z-7DVw"
   },
   "source": [
    "The first promising line in `Searcher.ranker.rank` is [the call to `retrieve`](https://github.com/stanford-futuredata/ColBERT/blob/7067ef598b5011edaa1f4a731a2c269dbac864e4/colbert/search/index_storage.py#L90):\n",
    "\n",
    "```python\n",
    "if pids is None:\n",
    "    pids, centroid_scores = self.retrieve(config, Q)\n",
    "```"
   ]
  },
  {
   "cell_type": "markdown",
   "metadata": {
    "id": "XwCrh_x4Gb7L"
   },
   "source": [
    "### `Searcher.ranker.retrieve`\n"
   ]
  },
  {
   "cell_type": "code",
   "execution_count": 26,
   "metadata": {
    "colab": {
     "base_uri": "https://localhost:8080/",
     "height": 121
    },
    "id": "bVd1_BV0GjFk",
    "outputId": "68dbbf65-0afc-4456-de7e-481aa0e4faae"
   },
   "outputs": [
    {
     "data": {
      "text/html": [
       "<div style=\"max-width:800px; border: 1px solid var(--colab-border-color);\"><style>\n",
       "      pre.function-repr-contents {\n",
       "        overflow-x: auto;\n",
       "        padding: 8px 12px;\n",
       "        max-height: 500px;\n",
       "      }\n",
       "\n",
       "      pre.function-repr-contents.function-repr-contents-collapsed {\n",
       "        cursor: pointer;\n",
       "        max-height: 100px;\n",
       "      }\n",
       "    </style>\n",
       "    <pre style=\"white-space: initial; background:\n",
       "         var(--colab-secondary-surface-color); padding: 8px 12px;\n",
       "         border-bottom: 1px solid var(--colab-border-color);\"><b>colbert.search.index_storage.IndexScorer.retrieve</b><br/>def retrieve(config, Q)</pre><pre class=\"function-repr-contents function-repr-contents-collapsed\" style=\"\"><a class=\"filepath\" style=\"display:none\" href=\"#\">/usr/local/lib/python3.10/dist-packages/colbert/search/index_storage.py</a>&lt;no docstring&gt;</pre>\n",
       "      <script>\n",
       "      if (google.colab.kernel.accessAllowed && google.colab.files && google.colab.files.view) {\n",
       "        for (const element of document.querySelectorAll('.filepath')) {\n",
       "          element.style.display = 'block'\n",
       "          element.onclick = (event) => {\n",
       "            event.preventDefault();\n",
       "            event.stopPropagation();\n",
       "            google.colab.files.view(element.textContent, 77);\n",
       "          };\n",
       "        }\n",
       "      }\n",
       "      for (const element of document.querySelectorAll('.function-repr-contents')) {\n",
       "        element.onclick = (event) => {\n",
       "          event.preventDefault();\n",
       "          event.stopPropagation();\n",
       "          element.classList.toggle('function-repr-contents-collapsed');\n",
       "        };\n",
       "      }\n",
       "      </script>\n",
       "      </div>"
      ],
      "text/plain": [
       "<bound method IndexScorer.retrieve of <colbert.search.index_storage.IndexScorer object at 0x7d0a4cc05300>>"
      ]
     },
     "execution_count": 26,
     "metadata": {},
     "output_type": "execute_result"
    }
   ],
   "source": [
    "searcher.ranker.retrieve"
   ]
  },
  {
   "cell_type": "code",
   "execution_count": 27,
   "metadata": {
    "colab": {
     "base_uri": "https://localhost:8080/"
    },
    "id": "ioQHGkVJ7YUX",
    "outputId": "48688f7e-6996-4f2c-e991-be956644b074"
   },
   "outputs": [
    {
     "data": {
      "text/plain": [
       "(tensor([0, 1, 2], device='cuda:0', dtype=torch.int32), torch.Size([64, 32]))"
      ]
     },
     "execution_count": 27,
     "metadata": {},
     "output_type": "execute_result"
    }
   ],
   "source": [
    "pids, centroid_scores = searcher.ranker.retrieve(searcher.config, Q)\n",
    "pids, centroid_scores.shape"
   ]
  },
  {
   "cell_type": "markdown",
   "metadata": {
    "id": "TDNWsaBc7hy1"
   },
   "source": [
    "This is where I start to get really excited. I'm seeing abstract concepts in a research paper come to life! `pids` is now familiar---the three indexes `0`, `1`, and `2`. What's more interesting is `centroid_scores` which has 64 rows and 32 columns. We know from the PLAID paper that the MaxSim scores between centroids and query tokens is matrix with number of rows being the number of centroids and the number of columns being the number of tokens."
   ]
  },
  {
   "cell_type": "markdown",
   "metadata": {},
   "source": [
    "![Section 4.1 from the PLAID ColBERTv2 Paper](2.png)"
   ]
  },
  {
   "cell_type": "markdown",
   "metadata": {
    "id": "cVAyIjE_8jQu"
   },
   "source": [
    "Looking [inside of `Searcher.ranker.retrieve`](https://github.com/stanford-futuredata/ColBERT/blob/7067ef598b5011edaa1f4a731a2c269dbac864e4/colbert/search/index_storage.py#L77) we see that it calls `Searcher.ranker.generate_candidates`:\n",
    "\n",
    "```python\n",
    "pids, centroid_scores = self.generate_candidates(config, Q)\n",
    "```"
   ]
  },
  {
   "cell_type": "markdown",
   "metadata": {
    "id": "2NXYdRvmGjX8"
   },
   "source": [
    "### `generate_candidates`"
   ]
  },
  {
   "cell_type": "code",
   "execution_count": 28,
   "metadata": {
    "colab": {
     "base_uri": "https://localhost:8080/",
     "height": 121
    },
    "id": "MveSlfB3GknT",
    "outputId": "95fba38b-fef8-4847-b8b3-94a3b47abccb"
   },
   "outputs": [
    {
     "data": {
      "text/html": [
       "<div style=\"max-width:800px; border: 1px solid var(--colab-border-color);\"><style>\n",
       "      pre.function-repr-contents {\n",
       "        overflow-x: auto;\n",
       "        padding: 8px 12px;\n",
       "        max-height: 500px;\n",
       "      }\n",
       "\n",
       "      pre.function-repr-contents.function-repr-contents-collapsed {\n",
       "        cursor: pointer;\n",
       "        max-height: 100px;\n",
       "      }\n",
       "    </style>\n",
       "    <pre style=\"white-space: initial; background:\n",
       "         var(--colab-secondary-surface-color); padding: 8px 12px;\n",
       "         border-bottom: 1px solid var(--colab-border-color);\"><b>colbert.search.candidate_generation.CandidateGeneration.generate_candidates</b><br/>def generate_candidates(config, Q)</pre><pre class=\"function-repr-contents function-repr-contents-collapsed\" style=\"\"><a class=\"filepath\" style=\"display:none\" href=\"#\">/usr/local/lib/python3.10/dist-packages/colbert/search/candidate_generation.py</a>&lt;no docstring&gt;</pre>\n",
       "      <script>\n",
       "      if (google.colab.kernel.accessAllowed && google.colab.files && google.colab.files.view) {\n",
       "        for (const element of document.querySelectorAll('.filepath')) {\n",
       "          element.style.display = 'block'\n",
       "          element.onclick = (event) => {\n",
       "            event.preventDefault();\n",
       "            event.stopPropagation();\n",
       "            google.colab.files.view(element.textContent, 45);\n",
       "          };\n",
       "        }\n",
       "      }\n",
       "      for (const element of document.querySelectorAll('.function-repr-contents')) {\n",
       "        element.onclick = (event) => {\n",
       "          event.preventDefault();\n",
       "          event.stopPropagation();\n",
       "          element.classList.toggle('function-repr-contents-collapsed');\n",
       "        };\n",
       "      }\n",
       "      </script>\n",
       "      </div>"
      ],
      "text/plain": [
       "<bound method CandidateGeneration.generate_candidates of <colbert.search.index_storage.IndexScorer object at 0x7d0a4cc05300>>"
      ]
     },
     "execution_count": 28,
     "metadata": {},
     "output_type": "execute_result"
    }
   ],
   "source": [
    "searcher.ranker.generate_candidates"
   ]
  },
  {
   "cell_type": "markdown",
   "metadata": {
    "id": "KiOQirRV9ETX"
   },
   "source": [
    "This will only be a brief pit stop. There are three lines of interest:\n",
    "\n",
    "```python\n",
    "Q = Q.squeeze(0)\n",
    "Q = Q.cuda().half()\n",
    "\n",
    "pids, centroid_scores = self.generate_candidate_pids(Q, ncells)\n",
    "```\n",
    "\n"
   ]
  },
  {
   "cell_type": "code",
   "execution_count": 29,
   "metadata": {
    "colab": {
     "base_uri": "https://localhost:8080/"
    },
    "id": "_Py6DdIF9Xzv",
    "outputId": "0418b741-08b0-45ba-8cc4-984c312cd429"
   },
   "outputs": [
    {
     "data": {
      "text/plain": [
       "torch.Size([32, 128])"
      ]
     },
     "execution_count": 29,
     "metadata": {},
     "output_type": "execute_result"
    }
   ],
   "source": [
    "Q = Q.squeeze(0)\n",
    "Q.shape"
   ]
  },
  {
   "cell_type": "code",
   "execution_count": 30,
   "metadata": {
    "id": "1c2aVqmg_a38"
   },
   "outputs": [],
   "source": [
    "Q = Q.cuda().half()"
   ]
  },
  {
   "cell_type": "code",
   "execution_count": 31,
   "metadata": {
    "colab": {
     "base_uri": "https://localhost:8080/",
     "height": 121
    },
    "id": "yIm_MTP99-0z",
    "outputId": "2ef50c3e-9288-449e-a656-836d4361d88c"
   },
   "outputs": [
    {
     "data": {
      "text/html": [
       "<div style=\"max-width:800px; border: 1px solid var(--colab-border-color);\"><style>\n",
       "      pre.function-repr-contents {\n",
       "        overflow-x: auto;\n",
       "        padding: 8px 12px;\n",
       "        max-height: 500px;\n",
       "      }\n",
       "\n",
       "      pre.function-repr-contents.function-repr-contents-collapsed {\n",
       "        cursor: pointer;\n",
       "        max-height: 100px;\n",
       "      }\n",
       "    </style>\n",
       "    <pre style=\"white-space: initial; background:\n",
       "         var(--colab-secondary-surface-color); padding: 8px 12px;\n",
       "         border-bottom: 1px solid var(--colab-border-color);\"><b>colbert.search.candidate_generation.CandidateGeneration.generate_candidates</b><br/>def generate_candidates(config, Q)</pre><pre class=\"function-repr-contents function-repr-contents-collapsed\" style=\"\"><a class=\"filepath\" style=\"display:none\" href=\"#\">/usr/local/lib/python3.10/dist-packages/colbert/search/candidate_generation.py</a>&lt;no docstring&gt;</pre>\n",
       "      <script>\n",
       "      if (google.colab.kernel.accessAllowed && google.colab.files && google.colab.files.view) {\n",
       "        for (const element of document.querySelectorAll('.filepath')) {\n",
       "          element.style.display = 'block'\n",
       "          element.onclick = (event) => {\n",
       "            event.preventDefault();\n",
       "            event.stopPropagation();\n",
       "            google.colab.files.view(element.textContent, 45);\n",
       "          };\n",
       "        }\n",
       "      }\n",
       "      for (const element of document.querySelectorAll('.function-repr-contents')) {\n",
       "        element.onclick = (event) => {\n",
       "          event.preventDefault();\n",
       "          event.stopPropagation();\n",
       "          element.classList.toggle('function-repr-contents-collapsed');\n",
       "        };\n",
       "      }\n",
       "      </script>\n",
       "      </div>"
      ],
      "text/plain": [
       "<bound method CandidateGeneration.generate_candidates of <colbert.search.index_storage.IndexScorer object at 0x7d0a4cc05300>>"
      ]
     },
     "execution_count": 31,
     "metadata": {},
     "output_type": "execute_result"
    }
   ],
   "source": [
    "searcher.ranker.generate_candidates"
   ]
  },
  {
   "cell_type": "code",
   "execution_count": 32,
   "metadata": {
    "colab": {
     "base_uri": "https://localhost:8080/"
    },
    "id": "u6ZYziLp-Coz",
    "outputId": "f333e2c3-12b7-4ae9-885d-3af5c98dde09"
   },
   "outputs": [
    {
     "data": {
      "text/plain": [
       "(torch.Size([3]), torch.Size([64, 32]))"
      ]
     },
     "execution_count": 32,
     "metadata": {},
     "output_type": "execute_result"
    }
   ],
   "source": [
    "cells, scores = searcher.ranker.generate_candidates(searcher.config, Q)\n",
    "cells.shape, scores.shape"
   ]
  },
  {
   "cell_type": "markdown",
   "metadata": {
    "id": "O-bmBa6E-t1n"
   },
   "source": [
    "There's that 64 x 32 shape again."
   ]
  },
  {
   "cell_type": "code",
   "execution_count": 33,
   "metadata": {
    "colab": {
     "base_uri": "https://localhost:8080/"
    },
    "id": "eZ_MZkpx-JvV",
    "outputId": "09e75872-fded-4321-e776-ac1c3e172bae"
   },
   "outputs": [
    {
     "data": {
      "text/plain": [
       "tensor([0, 1, 2], device='cuda:0', dtype=torch.int32)"
      ]
     },
     "execution_count": 33,
     "metadata": {},
     "output_type": "execute_result"
    }
   ],
   "source": [
    "cells"
   ]
  },
  {
   "cell_type": "markdown",
   "metadata": {
    "id": "Ag2BHQEH-Oxu"
   },
   "source": [
    "I'm not entirely sure what `cells` is (I'm tempted to say it's our passage IDs based on the values). Let's look at `get_candidate_pids` first:"
   ]
  },
  {
   "cell_type": "markdown",
   "metadata": {
    "id": "-l4j0-k-GkuM"
   },
   "source": [
    "### `generate_candidate_pids`"
   ]
  },
  {
   "cell_type": "markdown",
   "metadata": {
    "id": "rPFJ6bGr9j00"
   },
   "source": [
    "Another quick stop, we see the following two very interesting line:\n",
    "\n",
    "```python\n",
    "cells, scores = self.get_cells(Q, ncells)\n",
    "\n",
    "pids, cell_lengths = self.ivf.lookup(cells)\n",
    "```\n",
    "\n",
    "From reading the paper, I know that in Stage 1 we get the centroid IDs that are close to the query tokens, which I think is what `get_cells` does. I also know that the PLAID index stores a mapping between passage IDs and centroid IDs, which is what I think `ivf.lookup` is looking up!"
   ]
  },
  {
   "cell_type": "markdown",
   "metadata": {
    "id": "Iw3msd1qGmRU"
   },
   "source": [
    "### `get_cells`"
   ]
  },
  {
   "cell_type": "markdown",
   "metadata": {
    "id": "Qk5M-Cnh-d58"
   },
   "source": [
    "```python\n",
    "def get_cells(self, Q, ncells):\n",
    "    scores = (self.codec.centroids @ Q.T)\n",
    "    if ncells == 1:\n",
    "        cells = scores.argmax(dim=0, keepdim=True).permute(1, 0)\n",
    "    else:\n",
    "        cells = scores.topk(ncells, dim=0, sorted=False).indices.permute(1, 0)  # (32, ncells)\n",
    "    cells = cells.flatten().contiguous()  # (32 * ncells,)\n",
    "    cells = cells.unique(sorted=False)\n",
    "    return cells, scores\n",
    "```"
   ]
  },
  {
   "cell_type": "markdown",
   "metadata": {
    "id": "j-aXWjoZ_HVw"
   },
   "source": [
    "The first line is critical: `self.codec.centroids @ Q.T` is almost verbatim the matrix multiplication formula in the paper. This confirms that the 64 x 32 shape of `scores` is number of centroids x number of query tokens!"
   ]
  },
  {
   "cell_type": "code",
   "execution_count": 34,
   "metadata": {
    "colab": {
     "base_uri": "https://localhost:8080/"
    },
    "id": "AKfmJNfDGnc0",
    "outputId": "001e0d17-a842-48fa-f583-866aac965eea"
   },
   "outputs": [
    {
     "data": {
      "text/plain": [
       "torch.Size([64, 128])"
      ]
     },
     "execution_count": 34,
     "metadata": {},
     "output_type": "execute_result"
    }
   ],
   "source": [
    "searcher.ranker.codec.centroids.shape"
   ]
  },
  {
   "cell_type": "markdown",
   "metadata": {
    "id": "LYbTvECE_ILo"
   },
   "source": [
    "There are indeed 64 centroids, each of them with 128 dimensions. So cool to see!!"
   ]
  },
  {
   "cell_type": "code",
   "execution_count": 35,
   "metadata": {
    "colab": {
     "base_uri": "https://localhost:8080/"
    },
    "id": "bgph2G8s_N8L",
    "outputId": "e6692878-b07b-4c2f-863c-569c90ad2d50"
   },
   "outputs": [
    {
     "data": {
      "text/plain": [
       "torch.Size([64, 32])"
      ]
     },
     "execution_count": 35,
     "metadata": {},
     "output_type": "execute_result"
    }
   ],
   "source": [
    "_scores = (searcher.ranker.codec.centroids @ Q.T)\n",
    "_scores.shape"
   ]
  },
  {
   "cell_type": "code",
   "execution_count": 36,
   "metadata": {
    "colab": {
     "base_uri": "https://localhost:8080/"
    },
    "id": "OD2Bk83q_e2L",
    "outputId": "a724de6c-e23d-4609-fc1a-f1ab9010ab6b"
   },
   "outputs": [
    {
     "data": {
      "text/plain": [
       "tensor(1., device='cuda:0')"
      ]
     },
     "execution_count": 36,
     "metadata": {},
     "output_type": "execute_result"
    }
   ],
   "source": [
    "(scores == _scores).float().mean()"
   ]
  },
  {
   "cell_type": "markdown",
   "metadata": {
    "id": "AIFFgC8E-iBM"
   },
   "source": [
    "\n",
    "\n",
    "The next line of interest is:\n",
    "\n",
    "```python\n",
    "cells = scores.topk(ncells, dim=0, sorted=False).indices.permute(1, 0)  # (32, ncells)\n",
    "```"
   ]
  },
  {
   "cell_type": "code",
   "execution_count": 37,
   "metadata": {
    "colab": {
     "base_uri": "https://localhost:8080/"
    },
    "id": "7uu7uhBvAc4G",
    "outputId": "3894ec15-d048-4d18-81a2-3e72a7028a14"
   },
   "outputs": [
    {
     "data": {
      "text/plain": [
       "torch.Size([64, 32])"
      ]
     },
     "execution_count": 37,
     "metadata": {},
     "output_type": "execute_result"
    }
   ],
   "source": [
    "scores.shape"
   ]
  },
  {
   "cell_type": "code",
   "execution_count": 38,
   "metadata": {
    "colab": {
     "base_uri": "https://localhost:8080/"
    },
    "id": "6cDgol9zAIg-",
    "outputId": "c0ea0697-8c08-4dcd-fe54-b63d4c460e64"
   },
   "outputs": [
    {
     "data": {
      "text/plain": [
       "tensor([[ 0.0879,  0.0498,  0.0136,  ...,  0.0586,  0.0564,  0.0699],\n",
       "        [ 0.0798, -0.0043,  0.0223,  ..., -0.0271, -0.0166, -0.0172],\n",
       "        [ 0.2053,  0.0300,  0.1144,  ...,  0.0100,  0.0226,  0.0177],\n",
       "        ...,\n",
       "        [ 0.4587,  0.9458,  0.1954,  ...,  0.9507,  0.9482,  0.9482],\n",
       "        [ 0.0000,  0.0000,  0.0000,  ...,  0.0000,  0.0000,  0.0000],\n",
       "        [ 0.0000,  0.0000,  0.0000,  ...,  0.0000,  0.0000,  0.0000]],\n",
       "       device='cuda:0', dtype=torch.float16)"
      ]
     },
     "execution_count": 38,
     "metadata": {},
     "output_type": "execute_result"
    }
   ],
   "source": [
    "scores"
   ]
  },
  {
   "cell_type": "markdown",
   "metadata": {
    "id": "cqBesItC_-1G"
   },
   "source": [
    "`scores.topk` seems to return the scores corresponding to the top-4 cosine similarities (between centroids and query tokens) for each token."
   ]
  },
  {
   "cell_type": "code",
   "execution_count": 39,
   "metadata": {
    "colab": {
     "base_uri": "https://localhost:8080/"
    },
    "id": "Q7mTQcKz_xqm",
    "outputId": "7f5c02f1-2af0-4466-c5df-dd08277d50c0"
   },
   "outputs": [
    {
     "data": {
      "text/plain": [
       "tensor([[0.5786, 0.9521, 0.7397, 0.7510, 0.9395, 0.5850, 0.5859, 0.9131, 0.6782,\n",
       "         0.5186, 0.6353, 0.7104, 0.9209, 0.9014, 0.9443, 0.9473, 0.9434, 0.9497,\n",
       "         0.9468, 0.9331, 0.9355, 0.9233, 0.9370, 0.9336, 0.7026, 0.9468, 0.9131,\n",
       "         0.7529, 0.9517, 0.9482, 0.9448, 0.9429],\n",
       "        [0.5361, 0.8901, 0.6255, 0.6245, 0.9097, 0.5220, 0.7354, 0.8682, 0.6260,\n",
       "         0.4663, 0.5654, 0.6030, 0.8486, 0.8306, 0.9429, 0.8979, 0.8950, 0.8960,\n",
       "         0.8965, 0.8799, 0.8892, 0.8770, 0.8794, 0.8774, 0.5869, 0.8921, 0.8418,\n",
       "         0.6328, 0.8931, 0.9009, 0.8970, 0.8994],\n",
       "        [0.7129, 0.9458, 0.4612, 0.4766, 0.9658, 0.4229, 0.5332, 0.9219, 0.7002,\n",
       "         0.4092, 0.4729, 0.5034, 0.9111, 0.8955, 0.8872, 0.9487, 0.9458, 0.9497,\n",
       "         0.9492, 0.9375, 0.9419, 0.9312, 0.9380, 0.9365, 0.4958, 0.9453, 0.9048,\n",
       "         0.4829, 0.9482, 0.9507, 0.9482, 0.9482],\n",
       "        [0.4753, 0.8882, 0.3442, 0.3616, 0.8799, 0.3958, 0.5195, 0.8589, 0.6108,\n",
       "         0.4077, 0.4324, 0.4333, 0.8438, 0.8281, 0.8872, 0.8945, 0.8901, 0.8955,\n",
       "         0.8926, 0.8745, 0.8813, 0.8687, 0.8774, 0.8745, 0.4360, 0.8911, 0.8394,\n",
       "         0.3711, 0.8911, 0.8955, 0.8911, 0.8916]], device='cuda:0',\n",
       "       dtype=torch.float16)"
      ]
     },
     "execution_count": 39,
     "metadata": {},
     "output_type": "execute_result"
    }
   ],
   "source": [
    "scores.topk(4, dim=0, sorted=False).values"
   ]
  },
  {
   "cell_type": "markdown",
   "metadata": {
    "id": "EmX0CIz3B28i"
   },
   "source": [
    "The first value, `0.5786` represents the cosine similarity (dot product) between a centroid and the first query token."
   ]
  },
  {
   "cell_type": "code",
   "execution_count": 40,
   "metadata": {
    "colab": {
     "base_uri": "https://localhost:8080/"
    },
    "id": "OhjQa0dc_lZ0",
    "outputId": "48eeef66-91b6-4242-dee7-f6108e7acd93"
   },
   "outputs": [
    {
     "data": {
      "text/plain": [
       "torch.Size([32, 4])"
      ]
     },
     "execution_count": 40,
     "metadata": {},
     "output_type": "execute_result"
    }
   ],
   "source": [
    "cells = scores.topk(4, dim=0, sorted=False).indices.permute(1,0)\n",
    "cells.shape"
   ]
  },
  {
   "cell_type": "markdown",
   "metadata": {
    "id": "gfnA_V_lBDvU"
   },
   "source": [
    "The following line flattens out the 32 x 4 matrix into a 128-value 1D tensor."
   ]
  },
  {
   "cell_type": "code",
   "execution_count": 41,
   "metadata": {
    "colab": {
     "base_uri": "https://localhost:8080/"
    },
    "id": "lPrUxg9TA5JL",
    "outputId": "7f891a56-005a-4266-efab-077890ecf51c"
   },
   "outputs": [
    {
     "data": {
      "text/plain": [
       "torch.Size([128])"
      ]
     },
     "execution_count": 41,
     "metadata": {},
     "output_type": "execute_result"
    }
   ],
   "source": [
    "cells = cells.flatten().contiguous()  # (32 * ncells,)\n",
    "cells.shape"
   ]
  },
  {
   "cell_type": "markdown",
   "metadata": {
    "id": "mhxiu-N5BO9l"
   },
   "source": [
    "The following gets the unique centroid IDs. In this case there are 10 unique centroids that give the top-4 cosine similarity with all 32 tokens."
   ]
  },
  {
   "cell_type": "code",
   "execution_count": 42,
   "metadata": {
    "colab": {
     "base_uri": "https://localhost:8080/"
    },
    "id": "gGNc-6tLA9BR",
    "outputId": "b58ea42b-8e86-4b90-9b5a-f0575f063cca"
   },
   "outputs": [
    {
     "data": {
      "text/plain": [
       "torch.Size([10])"
      ]
     },
     "execution_count": 42,
     "metadata": {},
     "output_type": "execute_result"
    }
   ],
   "source": [
    "cells = cells.unique(sorted=False)\n",
    "cells.shape"
   ]
  },
  {
   "cell_type": "code",
   "execution_count": 43,
   "metadata": {
    "colab": {
     "base_uri": "https://localhost:8080/"
    },
    "id": "ZP4xqlmQBXHe",
    "outputId": "e2f9020b-881b-4884-e315-c923918daca5"
   },
   "outputs": [
    {
     "data": {
      "text/plain": [
       "tensor([ 7,  8, 14, 19, 24, 29, 31, 38, 41, 61], device='cuda:0')"
      ]
     },
     "execution_count": 43,
     "metadata": {},
     "output_type": "execute_result"
    }
   ],
   "source": [
    "cells"
   ]
  },
  {
   "cell_type": "markdown",
   "metadata": {
    "id": "IvZSwrXoB94P"
   },
   "source": [
    "Confirming that we can recreate the cosine similarity (0.5768) betweeen the first centroid (with ID = 7) and the first query token:"
   ]
  },
  {
   "cell_type": "code",
   "execution_count": 44,
   "metadata": {
    "colab": {
     "base_uri": "https://localhost:8080/"
    },
    "id": "XDwOmcxrBc43",
    "outputId": "6d4924ca-6e71-4936-b6b8-14254db44352"
   },
   "outputs": [
    {
     "name": "stderr",
     "output_type": "stream",
     "text": [
      "<ipython-input-44-b9d1ed5ac4a6>:1: UserWarning: The use of `x.T` on tensors of dimension other than 2 to reverse their shape is deprecated and it will throw an error in a future release. Consider `x.mT` to transpose batches of matrices or `x.permute(*torch.arange(x.ndim - 1, -1, -1))` to reverse the dimensions of a tensor. (Triggered internally at ../aten/src/ATen/native/TensorShape.cpp:3683.)\n",
      "  (searcher.ranker.codec.centroids[7] * Q[0].T).sum()\n"
     ]
    },
    {
     "data": {
      "text/plain": [
       "tensor(0.5786, device='cuda:0', dtype=torch.float16)"
      ]
     },
     "execution_count": 44,
     "metadata": {},
     "output_type": "execute_result"
    }
   ],
   "source": [
    "(searcher.ranker.codec.centroids[7] * Q[0].T).sum()"
   ]
  },
  {
   "cell_type": "markdown",
   "metadata": {
    "id": "3x7TWe4wGnls"
   },
   "source": [
    "### `ivf`"
   ]
  },
  {
   "cell_type": "markdown",
   "metadata": {
    "id": "8C6LiEQrCRsl"
   },
   "source": [
    "The next line in `generate_candidate_pids` gets to the core of PLAID: the mapping between centroid IDs and passage IDs:\n",
    "\n",
    "```python\n",
    "pids, cell_lengths = self.ivf.lookup(cells)\n",
    "```"
   ]
  },
  {
   "cell_type": "code",
   "execution_count": 45,
   "metadata": {
    "colab": {
     "base_uri": "https://localhost:8080/"
    },
    "id": "LT7e8_w3Gonk",
    "outputId": "1391cb5b-fe7d-4229-a6bd-0da84227bd8f"
   },
   "outputs": [
    {
     "data": {
      "text/plain": [
       "<colbert.search.strided_tensor.StridedTensor at 0x7d0a4f48e350>"
      ]
     },
     "execution_count": 45,
     "metadata": {},
     "output_type": "execute_result"
    }
   ],
   "source": [
    "searcher.ranker.ivf"
   ]
  },
  {
   "cell_type": "code",
   "execution_count": 46,
   "metadata": {
    "colab": {
     "base_uri": "https://localhost:8080/"
    },
    "id": "v5dw5w55Cidy",
    "outputId": "b02815c1-029b-4413-839e-f6160abd4a70"
   },
   "outputs": [
    {
     "data": {
      "text/plain": [
       "(torch.Size([10]), torch.Size([10]))"
      ]
     },
     "execution_count": 46,
     "metadata": {},
     "output_type": "execute_result"
    }
   ],
   "source": [
    "pids, cell_lengths = searcher.ranker.ivf.lookup(cells)\n",
    "pids.shape, cell_lengths.shape"
   ]
  },
  {
   "cell_type": "code",
   "execution_count": 47,
   "metadata": {
    "colab": {
     "base_uri": "https://localhost:8080/"
    },
    "id": "ZvPKVDv6CzV4",
    "outputId": "fb9ce7c4-eaba-413a-af3b-b6b1037b6721"
   },
   "outputs": [
    {
     "data": {
      "text/plain": [
       "tensor([ 7,  8, 14, 19, 24, 29, 31, 38, 41, 61], device='cuda:0')"
      ]
     },
     "execution_count": 47,
     "metadata": {},
     "output_type": "execute_result"
    }
   ],
   "source": [
    "cells"
   ]
  },
  {
   "cell_type": "code",
   "execution_count": 48,
   "metadata": {
    "colab": {
     "base_uri": "https://localhost:8080/"
    },
    "id": "DlDbzgOTCpud",
    "outputId": "3d77e596-24d6-4c5a-aed5-27b918bf45ed"
   },
   "outputs": [
    {
     "data": {
      "text/plain": [
       "tensor([0, 0, 1, 0, 1, 2, 2, 2, 0, 0], device='cuda:0', dtype=torch.int32)"
      ]
     },
     "execution_count": 48,
     "metadata": {},
     "output_type": "execute_result"
    }
   ],
   "source": [
    "pids"
   ]
  },
  {
   "cell_type": "code",
   "execution_count": 49,
   "metadata": {
    "colab": {
     "base_uri": "https://localhost:8080/"
    },
    "id": "E6sXT2vsC0Qb",
    "outputId": "90bc17a1-5de4-471b-a870-0503153a166a"
   },
   "outputs": [
    {
     "data": {
      "text/plain": [
       "tensor([1, 1, 1, 1, 1, 1, 1, 1, 1, 1])"
      ]
     },
     "execution_count": 49,
     "metadata": {},
     "output_type": "execute_result"
    }
   ],
   "source": [
    "cell_lengths"
   ]
  },
  {
   "cell_type": "markdown",
   "metadata": {
    "id": "mQI2GFMXCrCr"
   },
   "source": [
    "How I interpret this: we have 10 centroid IDs (`cells`) and each are mapped to 1 passage ID. Now, given that we only have 3 passages to work with, there are some repeats (passage ID `0` corresponds to both centroid IDs `7` and `8`)."
   ]
  },
  {
   "cell_type": "markdown",
   "metadata": {
    "id": "VA27YVnXDcBd"
   },
   "source": [
    "I'll leave my full exploration of how `ivf` is constructed for a future video/blog post, but as an aside, I do want to highlight some things I learned, starting with the fact that our `index_path` contains a lot of interesting files!"
   ]
  },
  {
   "cell_type": "code",
   "execution_count": 50,
   "metadata": {
    "colab": {
     "base_uri": "https://localhost:8080/"
    },
    "id": "BuNX6KOmEMz2",
    "outputId": "00e35cd1-afb1-4adb-899b-d408ed08f36d"
   },
   "outputs": [
    {
     "data": {
      "text/plain": [
       "(#12) [Path('.ragatouille/colbert/indexes/toy_example/0.residuals.pt'),Path('.ragatouille/colbert/indexes/toy_example/collection.json'),Path('.ragatouille/colbert/indexes/toy_example/pid_docid_map.json'),Path('.ragatouille/colbert/indexes/toy_example/metadata.json'),Path('.ragatouille/colbert/indexes/toy_example/buckets.pt'),Path('.ragatouille/colbert/indexes/toy_example/doclens.0.json'),Path('.ragatouille/colbert/indexes/toy_example/centroids.pt'),Path('.ragatouille/colbert/indexes/toy_example/0.codes.pt'),Path('.ragatouille/colbert/indexes/toy_example/avg_residual.pt'),Path('.ragatouille/colbert/indexes/toy_example/plan.json'),Path('.ragatouille/colbert/indexes/toy_example/0.metadata.json'),Path('.ragatouille/colbert/indexes/toy_example/ivf.pid.pt')]"
      ]
     },
     "execution_count": 50,
     "metadata": {},
     "output_type": "execute_result"
    }
   ],
   "source": [
    "path = Path(index_path)\n",
    "path.ls()"
   ]
  },
  {
   "cell_type": "markdown",
   "metadata": {
    "id": "N-Hs6KuPFKZr"
   },
   "source": [
    "Each passage contains 13 tokens:"
   ]
  },
  {
   "cell_type": "code",
   "execution_count": 51,
   "metadata": {
    "colab": {
     "base_uri": "https://localhost:8080/"
    },
    "id": "S6slJbi0FKhi",
    "outputId": "dd501c7a-e88c-47e3-976e-ba35ab16ea64"
   },
   "outputs": [
    {
     "data": {
      "text/plain": [
       "[13, 13, 13]"
      ]
     },
     "execution_count": 51,
     "metadata": {},
     "output_type": "execute_result"
    }
   ],
   "source": [
    "json.load(open(path/'doclens.0.json'))"
   ]
  },
  {
   "cell_type": "markdown",
   "metadata": {
    "id": "Y-HyjiOxEEx0"
   },
   "source": [
    "For a total of 39 token embeddings:"
   ]
  },
  {
   "cell_type": "code",
   "execution_count": 52,
   "metadata": {
    "colab": {
     "base_uri": "https://localhost:8080/"
    },
    "id": "7xJ7ft92D9A_",
    "outputId": "581f9d8a-5883-4c48-ac05-a3d596ee86ae"
   },
   "outputs": [
    {
     "data": {
      "text/plain": [
       "{'passage_offset': 0,\n",
       " 'num_passages': 3,\n",
       " 'num_embeddings': 39,\n",
       " 'embedding_offset': 0}"
      ]
     },
     "execution_count": 52,
     "metadata": {},
     "output_type": "execute_result"
    }
   ],
   "source": [
    "metadata = json.load(open(path/'0.metadata.json'))\n",
    "metadata"
   ]
  },
  {
   "cell_type": "markdown",
   "metadata": {
    "id": "eMrs5c3qElfQ"
   },
   "source": [
    "There are indeed 64 centroids."
   ]
  },
  {
   "cell_type": "code",
   "execution_count": 53,
   "metadata": {
    "colab": {
     "base_uri": "https://localhost:8080/"
    },
    "id": "S94_QiNJERm3",
    "outputId": "445ac68c-7e3b-47bb-f634-02b363076e03"
   },
   "outputs": [
    {
     "data": {
      "text/plain": [
       "torch.Size([64, 128])"
      ]
     },
     "execution_count": 53,
     "metadata": {},
     "output_type": "execute_result"
    }
   ],
   "source": [
    "centroids = torch.load(path/'centroids.pt', weights_only=True)\n",
    "centroids.shape"
   ]
  },
  {
   "cell_type": "markdown",
   "metadata": {
    "id": "LZmWCuNyEr5M"
   },
   "source": [
    "There exists a mapping between the 64 centroid IDs and the 39 passage token embeddings"
   ]
  },
  {
   "cell_type": "code",
   "execution_count": 54,
   "metadata": {
    "colab": {
     "base_uri": "https://localhost:8080/"
    },
    "id": "bAo-hcOvExjM",
    "outputId": "ab6ba143-47c3-4137-ad8e-fe8dd91c59fa"
   },
   "outputs": [
    {
     "data": {
      "text/plain": [
       "(torch.Size([39]), tensor(0, dtype=torch.int32), tensor(61, dtype=torch.int32))"
      ]
     },
     "execution_count": 54,
     "metadata": {},
     "output_type": "execute_result"
    }
   ],
   "source": [
    "codes = torch.load(path/'0.codes.pt', weights_only=True)\n",
    "codes.shape, codes.min(), codes.max()"
   ]
  },
  {
   "cell_type": "markdown",
   "metadata": {
    "id": "wPbJbJz7E4dS"
   },
   "source": [
    "There exists 39 residuals, one for each passage token! I'm not sure why there are only 64 dimensions."
   ]
  },
  {
   "cell_type": "code",
   "execution_count": 55,
   "metadata": {
    "colab": {
     "base_uri": "https://localhost:8080/"
    },
    "id": "IS4d3K3FE_Fw",
    "outputId": "0d13cdc5-103e-46d0-cc2f-e7f7fa85f828"
   },
   "outputs": [
    {
     "data": {
      "text/plain": [
       "torch.Size([39, 64])"
      ]
     },
     "execution_count": 55,
     "metadata": {},
     "output_type": "execute_result"
    }
   ],
   "source": [
    "residuals = torch.load(path/'0.residuals.pt', weights_only=True)\n",
    "residuals.shape"
   ]
  },
  {
   "cell_type": "markdown",
   "metadata": {
    "id": "59JjzRCJFcki"
   },
   "source": [
    "The values of the residuals are integers!"
   ]
  },
  {
   "cell_type": "code",
   "execution_count": 56,
   "metadata": {
    "colab": {
     "base_uri": "https://localhost:8080/"
    },
    "id": "aw9yzqLOFTkr",
    "outputId": "96d44ade-01ab-4d05-8e91-1034be9b86ec"
   },
   "outputs": [
    {
     "data": {
      "text/plain": [
       "tensor([191, 183,  50,  66, 203], dtype=torch.uint8)"
      ]
     },
     "execution_count": 56,
     "metadata": {},
     "output_type": "execute_result"
    }
   ],
   "source": [
    "residuals[0][:5]"
   ]
  },
  {
   "cell_type": "markdown",
   "metadata": {
    "id": "bOjkxqP6FqEs"
   },
   "source": [
    "Okay, that's enough of an aside. The final piece of interest in `generate_candidates` are the lines\n",
    "\n",
    "```python\n",
    "pids, centroid_scores = self.generate_candidate_pids(Q, ncells)\n",
    "sorter = pids.sort()\n",
    "pids = sorter.values\n",
    "\n",
    "pids, pids_counts = torch.unique_consecutive(pids, return_counts=True)\n",
    "```"
   ]
  },
  {
   "cell_type": "code",
   "execution_count": 57,
   "metadata": {
    "colab": {
     "base_uri": "https://localhost:8080/"
    },
    "id": "GMDOd0zNGtRu",
    "outputId": "7442a075-ac5a-4cb5-965d-c9b26ea9fda5"
   },
   "outputs": [
    {
     "data": {
      "text/plain": [
       "(torch.Size([10]), torch.Size([64, 32]))"
      ]
     },
     "execution_count": 57,
     "metadata": {},
     "output_type": "execute_result"
    }
   ],
   "source": [
    "pids, centroid_scores = searcher.ranker.generate_candidate_pids(Q, ncells=4)\n",
    "pids.shape, centroid_scores.shape"
   ]
  },
  {
   "cell_type": "code",
   "execution_count": 58,
   "metadata": {
    "colab": {
     "base_uri": "https://localhost:8080/"
    },
    "id": "wDirDgURGRWU",
    "outputId": "b831553f-f3f6-4821-8a5b-e60781ed0d9b"
   },
   "outputs": [
    {
     "data": {
      "text/plain": [
       "torch.return_types.sort(\n",
       "values=tensor([0, 0, 0, 0, 0, 1, 1, 2, 2, 2], device='cuda:0', dtype=torch.int32),\n",
       "indices=tensor([1, 0, 8, 3, 9, 4, 2, 7, 5, 6], device='cuda:0'))"
      ]
     },
     "execution_count": 58,
     "metadata": {},
     "output_type": "execute_result"
    }
   ],
   "source": [
    "sorter = pids.sort()\n",
    "sorter"
   ]
  },
  {
   "cell_type": "code",
   "execution_count": 59,
   "metadata": {
    "colab": {
     "base_uri": "https://localhost:8080/"
    },
    "id": "tyfAdDxaGVRg",
    "outputId": "c5e52d1e-077f-4b94-99df-2dda31dec572"
   },
   "outputs": [
    {
     "data": {
      "text/plain": [
       "(torch.Size([3]), torch.Size([3]))"
      ]
     },
     "execution_count": 59,
     "metadata": {},
     "output_type": "execute_result"
    }
   ],
   "source": [
    "pids = sorter.values\n",
    "pids, pids_counts = torch.unique_consecutive(pids, return_counts=True)\n",
    "pids.shape, pids_counts.shape"
   ]
  },
  {
   "cell_type": "code",
   "execution_count": 60,
   "metadata": {
    "colab": {
     "base_uri": "https://localhost:8080/"
    },
    "id": "AK3aM9XRGY9p",
    "outputId": "4970859c-2f07-4c1d-9572-b7d29ddc2c12"
   },
   "outputs": [
    {
     "data": {
      "text/plain": [
       "tensor([0, 1, 2], device='cuda:0', dtype=torch.int32)"
      ]
     },
     "execution_count": 60,
     "metadata": {},
     "output_type": "execute_result"
    }
   ],
   "source": [
    "pids"
   ]
  },
  {
   "cell_type": "code",
   "execution_count": 61,
   "metadata": {
    "colab": {
     "base_uri": "https://localhost:8080/"
    },
    "id": "UUwrCmh2GaJQ",
    "outputId": "23f5ecd1-471f-4b75-8bb4-f3a86670b0e5"
   },
   "outputs": [
    {
     "data": {
      "text/plain": [
       "tensor([5, 2, 3], device='cuda:0')"
      ]
     },
     "execution_count": 61,
     "metadata": {},
     "output_type": "execute_result"
    }
   ],
   "source": [
    "pids_counts"
   ]
  },
  {
   "cell_type": "markdown",
   "metadata": {
    "id": "HvvH0nKkGdvx"
   },
   "source": [
    "Let's recap what we've done:\n",
    "\n",
    "- We picked a number of centroid IDs nearest to each query token that we're interested in (`ncells = 4`)\n",
    "- We calculated the cosine similarity between centroids and query tokens (`searcher.ranker.codec.centroids @ Q.T`)\n",
    "- We picked the top-4 scores per query token (`scores.topk`) and grabbed their indices along dim=0 (rows).\n",
    "- We then reduced those 32 x 4 = 128 centroid IDs down to the 10 unique ones.\n",
    "- And looked them up in our index to get the corresponding 10 passage IDs.\n",
    "- We reduced those to the 3 unique passage IDs.\n",
    "\n",
    "These are our candidate passages at the end of Stage 1!"
   ]
  },
  {
   "cell_type": "markdown",
   "metadata": {
    "id": "Jas3bufCETyJ"
   },
   "source": [
    "## Stage 2: Centroid Interaction with Pruning"
   ]
  },
  {
   "cell_type": "markdown",
   "metadata": {
    "id": "GNVvBQ1RHXuT"
   },
   "source": [
    "We now want to keep PIDs corresponding to centroids that exceed a minimum threshold cosine similarity with query tokens."
   ]
  },
  {
   "cell_type": "markdown",
   "metadata": {
    "id": "u9CRQXY5HW0n"
   },
   "source": [
    "Now that we've gotten the initial candidate `pids`, the next line of interest in `rank` is:\n",
    "\n",
    "\n",
    "```python\n",
    "scores, pids = self.score_pids(config, Q, pids, centroid_scores)\n",
    "```"
   ]
  },
  {
   "cell_type": "code",
   "execution_count": 62,
   "metadata": {
    "colab": {
     "base_uri": "https://localhost:8080/",
     "height": 186
    },
    "id": "_g07JxVOIUBL",
    "outputId": "36c10cbe-9555-4eac-b579-36c06a2c0c0e"
   },
   "outputs": [
    {
     "data": {
      "text/html": [
       "<div style=\"max-width:800px; border: 1px solid var(--colab-border-color);\"><style>\n",
       "      pre.function-repr-contents {\n",
       "        overflow-x: auto;\n",
       "        padding: 8px 12px;\n",
       "        max-height: 500px;\n",
       "      }\n",
       "\n",
       "      pre.function-repr-contents.function-repr-contents-collapsed {\n",
       "        cursor: pointer;\n",
       "        max-height: 100px;\n",
       "      }\n",
       "    </style>\n",
       "    <pre style=\"white-space: initial; background:\n",
       "         var(--colab-secondary-surface-color); padding: 8px 12px;\n",
       "         border-bottom: 1px solid var(--colab-border-color);\"><b>colbert.search.index_storage.IndexScorer.score_pids</b><br/>def score_pids(config, Q, pids, centroid_scores)</pre><pre class=\"function-repr-contents function-repr-contents-collapsed\" style=\"\"><a class=\"filepath\" style=\"display:none\" href=\"#\">/usr/local/lib/python3.10/dist-packages/colbert/search/index_storage.py</a>Always supply a flat list or tensor for `pids`.\n",
       "\n",
       "Supply sizes Q = (1 | num_docs, *, dim) and D = (num_docs, *, dim).\n",
       "If Q.size(0) is 1, the matrix will be compared with all passages.\n",
       "Otherwise, each query matrix will be compared against the *aligned* passage.</pre>\n",
       "      <script>\n",
       "      if (google.colab.kernel.accessAllowed && google.colab.files && google.colab.files.view) {\n",
       "        for (const element of document.querySelectorAll('.filepath')) {\n",
       "          element.style.display = 'block'\n",
       "          element.onclick = (event) => {\n",
       "            event.preventDefault();\n",
       "            event.stopPropagation();\n",
       "            google.colab.files.view(element.textContent, 111);\n",
       "          };\n",
       "        }\n",
       "      }\n",
       "      for (const element of document.querySelectorAll('.function-repr-contents')) {\n",
       "        element.onclick = (event) => {\n",
       "          event.preventDefault();\n",
       "          event.stopPropagation();\n",
       "          element.classList.toggle('function-repr-contents-collapsed');\n",
       "        };\n",
       "      }\n",
       "      </script>\n",
       "      </div>"
      ],
      "text/plain": [
       "<bound method IndexScorer.score_pids of <colbert.search.index_storage.IndexScorer object at 0x7d0a4cc05300>>"
      ]
     },
     "execution_count": 62,
     "metadata": {},
     "output_type": "execute_result"
    }
   ],
   "source": [
    "searcher.ranker.score_pids"
   ]
  },
  {
   "cell_type": "markdown",
   "metadata": {
    "id": "TihyxMy2Icx1"
   },
   "source": [
    "`score_pids` will handle both Stage 2 and Stage 3."
   ]
  },
  {
   "cell_type": "markdown",
   "metadata": {
    "id": "Sje3FplXGyBW"
   },
   "source": [
    "### Picking centroids with scores above threshold"
   ]
  },
  {
   "cell_type": "markdown",
   "metadata": {
    "id": "KJ0Jtg7FIkei"
   },
   "source": [
    "The first important line in `score_pids` is the following:\n",
    "\n",
    "```python\n",
    "idx = centroid_scores.max(-1).values >= config.centroid_score_threshold\n",
    "```"
   ]
  },
  {
   "cell_type": "markdown",
   "metadata": {
    "id": "gy3IOgSLJHYh"
   },
   "source": [
    "I'll refresh our `pids` and `centroid_scores` to the values they would have inside of `rank`:"
   ]
  },
  {
   "cell_type": "code",
   "execution_count": 63,
   "metadata": {
    "colab": {
     "base_uri": "https://localhost:8080/"
    },
    "id": "n5-h5c_PJCjA",
    "outputId": "e93cd71f-ead6-48e4-b76a-ec375004c1bc"
   },
   "outputs": [
    {
     "data": {
      "text/plain": [
       "torch.Size([1, 32, 128])"
      ]
     },
     "execution_count": 63,
     "metadata": {},
     "output_type": "execute_result"
    }
   ],
   "source": [
    "Q = searcher.encode(q)\n",
    "Q.shape"
   ]
  },
  {
   "cell_type": "code",
   "execution_count": 64,
   "metadata": {
    "colab": {
     "base_uri": "https://localhost:8080/"
    },
    "id": "VwkDCEatGzbH",
    "outputId": "ff882296-ba0b-45b1-df87-35db539b4e39"
   },
   "outputs": [
    {
     "data": {
      "text/plain": [
       "(torch.Size([3]), torch.Size([64, 32]))"
      ]
     },
     "execution_count": 64,
     "metadata": {},
     "output_type": "execute_result"
    }
   ],
   "source": [
    "pids, centroid_scores = searcher.ranker.retrieve(searcher.config, Q)\n",
    "pids.shape, centroid_scores.shape"
   ]
  },
  {
   "cell_type": "markdown",
   "metadata": {
    "id": "IKv5XoaoJRhY"
   },
   "source": [
    "The centroid score threshold is set in the `config`"
   ]
  },
  {
   "cell_type": "code",
   "execution_count": 65,
   "metadata": {
    "colab": {
     "base_uri": "https://localhost:8080/"
    },
    "id": "YJmtNIycJOPw",
    "outputId": "f2890fb8-bd7a-4155-c710-3abfb0f0ec03"
   },
   "outputs": [
    {
     "data": {
      "text/plain": [
       "0.5"
      ]
     },
     "execution_count": 65,
     "metadata": {},
     "output_type": "execute_result"
    }
   ],
   "source": [
    "searcher.config.centroid_score_threshold"
   ]
  },
  {
   "cell_type": "code",
   "execution_count": 66,
   "metadata": {
    "colab": {
     "base_uri": "https://localhost:8080/"
    },
    "id": "B1AKyPslJWVn",
    "outputId": "0d115378-2cd9-4389-d419-c47f0280cb22"
   },
   "outputs": [
    {
     "data": {
      "text/plain": [
       "torch.Size([64])"
      ]
     },
     "execution_count": 66,
     "metadata": {},
     "output_type": "execute_result"
    }
   ],
   "source": [
    "idx = centroid_scores.max(-1).values >= searcher.config.centroid_score_threshold\n",
    "idx.shape"
   ]
  },
  {
   "cell_type": "markdown",
   "metadata": {
    "id": "b3fyVKBEJbCA"
   },
   "source": [
    "`idx` is a boolean tensor, `True` for rows where the maximum cosine similarity is at or above the threshold and `False` for where it's under it."
   ]
  },
  {
   "cell_type": "code",
   "execution_count": 67,
   "metadata": {
    "colab": {
     "base_uri": "https://localhost:8080/"
    },
    "id": "WnuYkj0lJZcl",
    "outputId": "3a5dec17-f8a6-493e-b362-f7cb0b97cae7"
   },
   "outputs": [
    {
     "data": {
      "text/plain": [
       "tensor([False, False, False, False, False, False, False,  True,  True, False,\n",
       "        False, False, False, False,  True, False, False, False, False,  True,\n",
       "        False, False, False, False, False, False, False, False, False,  True,\n",
       "        False,  True, False, False, False, False, False, False,  True, False,\n",
       "        False,  True, False, False, False, False, False, False, False, False,\n",
       "        False, False, False, False, False, False, False, False, False, False,\n",
       "        False,  True, False, False], device='cuda:0')"
      ]
     },
     "execution_count": 67,
     "metadata": {},
     "output_type": "execute_result"
    }
   ],
   "source": [
    "idx"
   ]
  },
  {
   "cell_type": "markdown",
   "metadata": {
    "id": "0s8-o1LCGzhz"
   },
   "source": [
    "### Looking up codes (centroid IDs corresponding to passage tokens)"
   ]
  },
  {
   "cell_type": "markdown",
   "metadata": {
    "id": "767ffwVuJq29"
   },
   "source": [
    "The next line of interest in `score_pids` is:\n",
    "\n",
    "```python\n",
    "codes_packed, codes_lengths = self.embeddings_strided.lookup_codes(pids_)\n",
    "```"
   ]
  },
  {
   "cell_type": "code",
   "execution_count": 68,
   "metadata": {
    "colab": {
     "base_uri": "https://localhost:8080/"
    },
    "id": "eJOD_1O5G0mX",
    "outputId": "fb70d130-b532-48be-93d0-4a2012ccf387"
   },
   "outputs": [
    {
     "data": {
      "text/plain": [
       "<colbert.indexing.codecs.residual_embeddings_strided.ResidualEmbeddingsStrided at 0x7d0a4f48d180>"
      ]
     },
     "execution_count": 68,
     "metadata": {},
     "output_type": "execute_result"
    }
   ],
   "source": [
    "searcher.ranker.embeddings_strided"
   ]
  },
  {
   "cell_type": "markdown",
   "metadata": {
    "id": "7bDOKUqHJ-w6"
   },
   "source": [
    "A key point here, which aligns with what I understood from the paper: we are looking up centroid IDs corresponding to the _passage tokens_ in our passage IDs. Note that there are 39 values in `codes_packed` which correspond to the 39 passage token embeddings. I'll leave me exploration for how I got this conclusion for a future video/blog post."
   ]
  },
  {
   "cell_type": "code",
   "execution_count": 69,
   "metadata": {
    "colab": {
     "base_uri": "https://localhost:8080/"
    },
    "id": "impRlOYCJ6ZM",
    "outputId": "86ada23f-a306-472a-b667-f51d4d7e5e77"
   },
   "outputs": [
    {
     "data": {
      "text/plain": [
       "(torch.Size([39]), torch.Size([3]))"
      ]
     },
     "execution_count": 69,
     "metadata": {},
     "output_type": "execute_result"
    }
   ],
   "source": [
    "codes_packed, codes_lengths = searcher.ranker.embeddings_strided.lookup_codes(pids)\n",
    "codes_packed.shape, codes_lengths.shape"
   ]
  },
  {
   "cell_type": "code",
   "execution_count": 70,
   "metadata": {
    "colab": {
     "base_uri": "https://localhost:8080/"
    },
    "id": "UYO3F4niKo1v",
    "outputId": "24fd298d-dcc6-4f3b-ac0f-8fbda9d8d59f"
   },
   "outputs": [
    {
     "data": {
      "text/plain": [
       "tensor([41,  8, 61,  7,  7, 47, 60, 19, 19,  1, 42, 46, 41, 24, 58, 58, 14, 14,\n",
       "         2,  3, 60, 23, 12,  2, 16, 48, 29, 38, 31, 37,  9,  6, 57,  5, 17, 13,\n",
       "         0,  0, 29], device='cuda:0', dtype=torch.int32)"
      ]
     },
     "execution_count": 70,
     "metadata": {},
     "output_type": "execute_result"
    }
   ],
   "source": [
    "codes_packed"
   ]
  },
  {
   "cell_type": "markdown",
   "metadata": {
    "id": "eprJxMJiLI5u"
   },
   "source": [
    "Note that `codes_lengths` tells us how many tokens there are in each passage."
   ]
  },
  {
   "cell_type": "code",
   "execution_count": 71,
   "metadata": {
    "colab": {
     "base_uri": "https://localhost:8080/"
    },
    "id": "KhcxITTuK16C",
    "outputId": "da17ddfb-81c5-46f1-ea56-5ac4aeaaa7a8"
   },
   "outputs": [
    {
     "data": {
      "text/plain": [
       "tensor([13, 13, 13])"
      ]
     },
     "execution_count": 71,
     "metadata": {},
     "output_type": "execute_result"
    }
   ],
   "source": [
    "codes_lengths"
   ]
  },
  {
   "cell_type": "markdown",
   "metadata": {
    "id": "YSS-PjGILWyi"
   },
   "source": [
    "From the PLAID paper (emphasis mine):\n",
    "\n",
    "> The procedure works as follows. Recall that $S_{c,q}$ from Equation 2\n",
    "stores the relevance scores for each centroid with respect to the\n",
    "query tokens. Suppose $I$ is **the list of the centroid indices mapped\n",
    "to each of the tokens in the candidate set**. Furthermore, let $S_{c,q}$ denote the i-th row of $S_{c,q}$. Then PLAID constructs the centroid-based approximate scores $\\tilde{D}$ as:"
   ]
  },
  {
   "cell_type": "markdown",
   "metadata": {
    "id": "EAOwPTveG0s4"
   },
   "source": [
    "### Picking scores for centroid IDs corresponding to passage tokens"
   ]
  },
  {
   "cell_type": "markdown",
   "metadata": {
    "id": "OQQEngEILzxy"
   },
   "source": [
    "The next line in `score_pids` does just that: pick the centroid IDs that correspond to the passage tokens of interest:"
   ]
  },
  {
   "cell_type": "code",
   "execution_count": 72,
   "metadata": {
    "colab": {
     "base_uri": "https://localhost:8080/"
    },
    "id": "3tQ1NXgXG1yw",
    "outputId": "b258b905-4606-4f9f-828a-763f100965ae"
   },
   "outputs": [
    {
     "data": {
      "text/plain": [
       "torch.Size([39])"
      ]
     },
     "execution_count": 72,
     "metadata": {},
     "output_type": "execute_result"
    }
   ],
   "source": [
    "idx_ = idx[codes_packed.long()]\n",
    "idx_.shape"
   ]
  },
  {
   "cell_type": "code",
   "execution_count": 73,
   "metadata": {
    "colab": {
     "base_uri": "https://localhost:8080/"
    },
    "id": "HvWJsYY2L6F0",
    "outputId": "621559b8-2af6-4694-8f74-2216dc066afa"
   },
   "outputs": [
    {
     "data": {
      "text/plain": [
       "tensor([ True,  True,  True,  True,  True, False, False,  True,  True, False,\n",
       "        False, False,  True, False, False, False,  True,  True, False, False,\n",
       "        False, False, False, False, False, False,  True,  True,  True, False,\n",
       "        False, False, False, False, False, False, False, False,  True],\n",
       "       device='cuda:0')"
      ]
     },
     "execution_count": 73,
     "metadata": {},
     "output_type": "execute_result"
    }
   ],
   "source": [
    "idx_"
   ]
  },
  {
   "cell_type": "markdown",
   "metadata": {
    "id": "pNrzfqiHN6Eo"
   },
   "source": [
    "We then use this to index back into `codes_packed` to select the centroid IDs that are at or above the threshold of 0.5. There are 14 such centroid IDs."
   ]
  },
  {
   "cell_type": "code",
   "execution_count": 74,
   "metadata": {
    "colab": {
     "base_uri": "https://localhost:8080/"
    },
    "id": "OP23l5CsOBxG",
    "outputId": "0c38ced6-9d9a-41ad-e7ac-39f31949d246"
   },
   "outputs": [
    {
     "data": {
      "text/plain": [
       "(tensor([41,  8, 61,  7,  7, 19, 19, 41, 14, 14, 29, 38, 31, 29],\n",
       "        device='cuda:0', dtype=torch.int32),\n",
       " torch.Size([14]))"
      ]
     },
     "execution_count": 74,
     "metadata": {},
     "output_type": "execute_result"
    }
   ],
   "source": [
    "codes_packed_ = codes_packed[idx_]\n",
    "codes_packed_, codes_packed_.shape"
   ]
  },
  {
   "cell_type": "markdown",
   "metadata": {
    "id": "ZG5CAd4SOOtj"
   },
   "source": [
    "Finally, we can index into our scores and pick out the scores that correspond to these centroid IDs:"
   ]
  },
  {
   "cell_type": "code",
   "execution_count": 75,
   "metadata": {
    "colab": {
     "base_uri": "https://localhost:8080/"
    },
    "id": "JLJdehYxOTbE",
    "outputId": "5de36e31-3d15-42ee-fc56-4239f69beeb1"
   },
   "outputs": [
    {
     "data": {
      "text/plain": [
       "torch.Size([14, 32])"
      ]
     },
     "execution_count": 75,
     "metadata": {},
     "output_type": "execute_result"
    }
   ],
   "source": [
    "approx_scores_ = centroid_scores[codes_packed_.long()]\n",
    "approx_scores_.shape"
   ]
  },
  {
   "cell_type": "markdown",
   "metadata": {
    "id": "4y_aCWKoOdKB"
   },
   "source": [
    "We now have the scores between 14 centroids that are mapped to our candidate passage ID's tokens and all 32 query tokens."
   ]
  },
  {
   "cell_type": "markdown",
   "metadata": {
    "id": "nDeocgn7OvCI"
   },
   "source": [
    "### Max-reducing scores to get 1 score per passage ID"
   ]
  },
  {
   "cell_type": "markdown",
   "metadata": {
    "id": "yhYQxy2uO1qt"
   },
   "source": [
    "The last step of Stage 2 is to max-reduce the scores down to 1 per passage. The following lines are of interest:\n",
    "\n",
    "```python\n",
    "pruned_codes_strided = StridedTensor(idx_, codes_lengths, use_gpu=self.use_gpu)\n",
    "pruned_codes_padded, pruned_codes_mask = pruned_codes_strided.as_padded_tensor()\n",
    "pruned_codes_lengths = (pruned_codes_padded * pruned_codes_mask).sum(dim=1)\n",
    "\n",
    "...\n",
    "\n",
    "approx_scores_strided = StridedTensor(approx_scores_, pruned_codes_lengths, use_gpu=self.use_gpu)\n",
    "approx_scores_padded, approx_scores_mask = approx_scores_strided.as_padded_tensor()\n",
    "approx_scores_ = colbert_score_reduce(approx_scores_padded, approx_scores_mask, config)\n",
    "```"
   ]
  },
  {
   "cell_type": "code",
   "execution_count": 76,
   "metadata": {
    "id": "x-oodeVeOyiM"
   },
   "outputs": [],
   "source": [
    "from colbert.search.strided_tensor import StridedTensor, StridedTensorCore"
   ]
  },
  {
   "cell_type": "code",
   "execution_count": 77,
   "metadata": {
    "colab": {
     "base_uri": "https://localhost:8080/"
    },
    "id": "M1aWaNfjPTjL",
    "outputId": "b39c3799-5e2c-4f14-845f-8a32abbcf118"
   },
   "outputs": [
    {
     "data": {
      "text/plain": [
       "torch.Size([39])"
      ]
     },
     "execution_count": 77,
     "metadata": {},
     "output_type": "execute_result"
    }
   ],
   "source": [
    "idx_.shape"
   ]
  },
  {
   "cell_type": "code",
   "execution_count": 78,
   "metadata": {
    "colab": {
     "base_uri": "https://localhost:8080/"
    },
    "id": "2OiGMp_JOyne",
    "outputId": "f1ee182c-bce3-4a39-a0d5-5d4f4d019b00"
   },
   "outputs": [
    {
     "data": {
      "text/plain": [
       "<colbert.search.strided_tensor.StridedTensor at 0x7d0a4f688e20>"
      ]
     },
     "execution_count": 78,
     "metadata": {},
     "output_type": "execute_result"
    }
   ],
   "source": [
    "pruned_codes_strided = StridedTensor(idx_, codes_lengths)\n",
    "pruned_codes_strided"
   ]
  },
  {
   "cell_type": "code",
   "execution_count": 79,
   "metadata": {
    "colab": {
     "base_uri": "https://localhost:8080/"
    },
    "id": "5ynBPH7lOyt7",
    "outputId": "996c7d02-fb8c-4a5f-9f21-e2aa7bb21b0c"
   },
   "outputs": [
    {
     "data": {
      "text/plain": [
       "(torch.Size([3, 13]), torch.Size([3, 13]))"
      ]
     },
     "execution_count": 79,
     "metadata": {},
     "output_type": "execute_result"
    }
   ],
   "source": [
    "pruned_codes_padded, pruned_codes_mask = pruned_codes_strided.as_padded_tensor()\n",
    "pruned_codes_padded.shape, pruned_codes_mask.shape"
   ]
  },
  {
   "cell_type": "code",
   "execution_count": 80,
   "metadata": {
    "colab": {
     "base_uri": "https://localhost:8080/"
    },
    "id": "XD54TgwMPYTy",
    "outputId": "82517510-0348-43be-8690-523fc6f5ae9c"
   },
   "outputs": [
    {
     "data": {
      "text/plain": [
       "tensor([[ True,  True,  True,  True,  True, False, False,  True,  True, False,\n",
       "         False, False,  True],\n",
       "        [False, False, False,  True,  True, False, False, False, False, False,\n",
       "         False, False, False],\n",
       "        [ True,  True,  True, False, False, False, False, False, False, False,\n",
       "         False, False,  True]], device='cuda:0')"
      ]
     },
     "execution_count": 80,
     "metadata": {},
     "output_type": "execute_result"
    }
   ],
   "source": [
    "pruned_codes_padded"
   ]
  },
  {
   "cell_type": "markdown",
   "metadata": {
    "id": "bJ7iTL6uMizz"
   },
   "source": [
    "My understanding of `StridedTensor` is still spotty, but from what I can see it allows the reshaping of values from a 1-D 39 to 3 x 13. In this way, we are organizing centroid IDs by both passage ID and by passage token."
   ]
  },
  {
   "cell_type": "code",
   "execution_count": 81,
   "metadata": {
    "colab": {
     "base_uri": "https://localhost:8080/"
    },
    "id": "Z5Kl3RtQPgAO",
    "outputId": "e7433db9-70ab-44af-fa41-18fe6404cf1b"
   },
   "outputs": [
    {
     "data": {
      "text/plain": [
       "tensor([8, 2, 4], device='cuda:0')"
      ]
     },
     "execution_count": 81,
     "metadata": {},
     "output_type": "execute_result"
    }
   ],
   "source": [
    "pruned_codes_lengths = (pruned_codes_padded * pruned_codes_mask).sum(dim=1)\n",
    "pruned_codes_lengths"
   ]
  },
  {
   "cell_type": "markdown",
   "metadata": {
    "id": "akrp-eeSNbfy"
   },
   "source": [
    "There are 8 centroids corresponding to tokens in the first passage that cross the score threshold, 2 for the second passage and 4 for the third."
   ]
  },
  {
   "cell_type": "markdown",
   "metadata": {
    "id": "H3GQJp_UNPEN"
   },
   "source": [
    "Note that `pruned_codes_mask` is `True` everywhere so multiplying `pruned_codes_padded` by it keeps all of its values intact:"
   ]
  },
  {
   "cell_type": "code",
   "execution_count": 82,
   "metadata": {
    "colab": {
     "base_uri": "https://localhost:8080/"
    },
    "id": "M7NYHd5FNSuU",
    "outputId": "7e98c61b-266a-4b77-f81e-0299b1ab355b"
   },
   "outputs": [
    {
     "data": {
      "text/plain": [
       "tensor([[True, True, True, True, True, True, True, True, True, True, True, True,\n",
       "         True],\n",
       "        [True, True, True, True, True, True, True, True, True, True, True, True,\n",
       "         True],\n",
       "        [True, True, True, True, True, True, True, True, True, True, True, True,\n",
       "         True]], device='cuda:0')"
      ]
     },
     "execution_count": 82,
     "metadata": {},
     "output_type": "execute_result"
    }
   ],
   "source": [
    "pruned_codes_mask"
   ]
  },
  {
   "cell_type": "markdown",
   "metadata": {
    "id": "-60pwokcPotQ"
   },
   "source": [
    "The next lines reshapes our `approx_scores_` similarly."
   ]
  },
  {
   "cell_type": "code",
   "execution_count": 83,
   "metadata": {
    "colab": {
     "base_uri": "https://localhost:8080/"
    },
    "id": "Z1zRhkw_PsSk",
    "outputId": "06dba42e-0787-4a39-f9ec-8175c0d480b1"
   },
   "outputs": [
    {
     "data": {
      "text/plain": [
       "torch.Size([14, 32])"
      ]
     },
     "execution_count": 83,
     "metadata": {},
     "output_type": "execute_result"
    }
   ],
   "source": [
    "approx_scores_.shape"
   ]
  },
  {
   "cell_type": "code",
   "execution_count": 84,
   "metadata": {
    "colab": {
     "base_uri": "https://localhost:8080/"
    },
    "id": "QdXLXR3mPno2",
    "outputId": "5635151e-8e69-4ff1-ee67-a4ac607766eb"
   },
   "outputs": [
    {
     "data": {
      "text/plain": [
       "(torch.Size([3, 8, 32]), torch.Size([3, 8, 1]))"
      ]
     },
     "execution_count": 84,
     "metadata": {},
     "output_type": "execute_result"
    }
   ],
   "source": [
    "approx_scores_strided = StridedTensor(approx_scores_, pruned_codes_lengths)\n",
    "approx_scores_padded, approx_scores_mask = approx_scores_strided.as_padded_tensor()\n",
    "approx_scores_padded.shape, approx_scores_mask.shape"
   ]
  },
  {
   "cell_type": "markdown",
   "metadata": {
    "id": "q76SmcwHP5El"
   },
   "source": [
    "What's interesting to note here is `approx_scores_mask`. We know from `pruned_codes_lengths` that there are 8 centroid IDs for the first passage, 2 for the second, and 4 for the third. `approx_scores_mask` flags `True` for valid values and `False` for padding values."
   ]
  },
  {
   "cell_type": "code",
   "execution_count": 85,
   "metadata": {
    "colab": {
     "base_uri": "https://localhost:8080/"
    },
    "id": "axouoIhgP5Vb",
    "outputId": "b978dcbb-6664-40e2-80ce-377875829f91"
   },
   "outputs": [
    {
     "data": {
      "text/plain": [
       "tensor([[[ True],\n",
       "         [ True],\n",
       "         [ True],\n",
       "         [ True],\n",
       "         [ True],\n",
       "         [ True],\n",
       "         [ True],\n",
       "         [ True]],\n",
       "\n",
       "        [[ True],\n",
       "         [ True],\n",
       "         [False],\n",
       "         [False],\n",
       "         [False],\n",
       "         [False],\n",
       "         [False],\n",
       "         [False]],\n",
       "\n",
       "        [[ True],\n",
       "         [ True],\n",
       "         [ True],\n",
       "         [ True],\n",
       "         [False],\n",
       "         [False],\n",
       "         [False],\n",
       "         [False]]], device='cuda:0')"
      ]
     },
     "execution_count": 85,
     "metadata": {},
     "output_type": "execute_result"
    }
   ],
   "source": [
    "approx_scores_mask"
   ]
  },
  {
   "cell_type": "markdown",
   "metadata": {
    "id": "N73Qo16HRSJU"
   },
   "source": [
    "We then pass these padded scores to `colbert_reduce` which performs the famous MaxSim operation:"
   ]
  },
  {
   "cell_type": "code",
   "execution_count": 86,
   "metadata": {
    "id": "gXbMPEVSReEn"
   },
   "outputs": [],
   "source": [
    "from colbert.modeling.colbert import colbert_score, colbert_score_packed, colbert_score_reduce"
   ]
  },
  {
   "cell_type": "code",
   "execution_count": 87,
   "metadata": {
    "colab": {
     "base_uri": "https://localhost:8080/"
    },
    "id": "KAQYmpOoRYFd",
    "outputId": "16c19812-d57a-4acd-fd42-d1a454d35caf"
   },
   "outputs": [
    {
     "data": {
      "text/plain": [
       "tensor([27.2812, 12.9844, 22.1719], device='cuda:0', dtype=torch.float16)"
      ]
     },
     "execution_count": 87,
     "metadata": {},
     "output_type": "execute_result"
    }
   ],
   "source": [
    "approx_scores_ = colbert_score_reduce(approx_scores_padded, approx_scores_mask, searcher.config)\n",
    "approx_scores_"
   ]
  },
  {
   "cell_type": "markdown",
   "metadata": {
    "id": "WmCIyQ8SRnN4"
   },
   "source": [
    "Note that these are not the same values as our RAGatouille results. Instead, these are intermediate scores.\n",
    "\n",
    "Taking a look at [`colbert_score_reduce`](https://github.com/stanford-futuredata/ColBERT/blob/7067ef598b5011edaa1f4a731a2c269dbac864e4/colbert/modeling/colbert.py#L132) there are four main lines of interest in my opinion:\n",
    "\n",
    "```python\n",
    "D_padding = ~D_mask.view(scores_padded.size(0), scores_padded.size(1)).bool()\n",
    "scores_padded[D_padding] = -9999\n",
    "scores = scores_padded.max(1).values\n",
    "scores.sum(-1)\n",
    "```"
   ]
  },
  {
   "cell_type": "code",
   "execution_count": 88,
   "metadata": {
    "colab": {
     "base_uri": "https://localhost:8080/"
    },
    "id": "rAqm5ksrSEWR",
    "outputId": "089876b1-d49d-4115-89a2-a1b1b7f8ae1a"
   },
   "outputs": [
    {
     "data": {
      "text/plain": [
       "torch.Size([3, 8, 32])"
      ]
     },
     "execution_count": 88,
     "metadata": {},
     "output_type": "execute_result"
    }
   ],
   "source": [
    "D_padding = ~approx_scores_mask.view(approx_scores_padded.size(0), approx_scores_padded.size(1)).bool()\n",
    "approx_scores_padded[D_padding] = -9999\n",
    "approx_scores_padded.shape"
   ]
  },
  {
   "cell_type": "markdown",
   "metadata": {
    "id": "43SQFONzSUXL"
   },
   "source": [
    "We take the max along dim=1, which is the dimension with centroid IDs corresponding to passage tokens. So, in other words, we are finding the maximum score between centroid and query token for each query token per passage."
   ]
  },
  {
   "cell_type": "code",
   "execution_count": 89,
   "metadata": {
    "colab": {
     "base_uri": "https://localhost:8080/"
    },
    "id": "UwO9RTOXSShl",
    "outputId": "a8ad482d-d01d-40e1-f180-eaff91d04c45"
   },
   "outputs": [
    {
     "data": {
      "text/plain": [
       "torch.Size([3, 32])"
      ]
     },
     "execution_count": 89,
     "metadata": {},
     "output_type": "execute_result"
    }
   ],
   "source": [
    "scores = approx_scores_padded.max(1).values\n",
    "scores.shape"
   ]
  },
  {
   "cell_type": "markdown",
   "metadata": {
    "id": "8T6i4RhzSnko"
   },
   "source": [
    "Finally, we sum across query tokens per passage ID."
   ]
  },
  {
   "cell_type": "code",
   "execution_count": 90,
   "metadata": {
    "colab": {
     "base_uri": "https://localhost:8080/"
    },
    "id": "s96xVOO6Smhw",
    "outputId": "49fcb173-d810-4288-bc97-5039c5b9622b"
   },
   "outputs": [
    {
     "data": {
      "text/plain": [
       "tensor([27.2812, 12.9844, 22.1719], device='cuda:0', dtype=torch.float16)"
      ]
     },
     "execution_count": 90,
     "metadata": {},
     "output_type": "execute_result"
    }
   ],
   "source": [
    "scores.sum(-1)"
   ]
  },
  {
   "cell_type": "markdown",
   "metadata": {
    "id": "BgL61_XaTOX1"
   },
   "source": [
    "### Picking the top-ndocs passages"
   ]
  },
  {
   "cell_type": "markdown",
   "metadata": {
    "id": "M9Up2M79TRcs"
   },
   "source": [
    "The last step is to pick the top-`ndocs` passage IDs."
   ]
  },
  {
   "cell_type": "code",
   "execution_count": 91,
   "metadata": {
    "colab": {
     "base_uri": "https://localhost:8080/"
    },
    "id": "rZMLW1guUQ-K",
    "outputId": "230765fc-4cdb-49d7-f107-24b83b2c0756"
   },
   "outputs": [
    {
     "data": {
      "text/plain": [
       "256"
      ]
     },
     "execution_count": 91,
     "metadata": {},
     "output_type": "execute_result"
    }
   ],
   "source": [
    "searcher.config.ndocs"
   ]
  },
  {
   "cell_type": "markdown",
   "metadata": {
    "id": "bTfKDF7fUR49"
   },
   "source": [
    "`ndocs` is 256, much larger than the number of passages we have, so I'll rank with `k=3`:"
   ]
  },
  {
   "cell_type": "code",
   "execution_count": 92,
   "metadata": {
    "id": "K3n-MdjTEWkZ"
   },
   "outputs": [],
   "source": [
    "if searcher.config.ndocs // 4 < len(approx_scores_):\n",
    "    pids = pids[torch.topk(approx_scores_, k=(searcher.config.ndocs // 4)).indices]"
   ]
  },
  {
   "cell_type": "code",
   "execution_count": 93,
   "metadata": {
    "colab": {
     "base_uri": "https://localhost:8080/"
    },
    "id": "AClxdQ2HYWyE",
    "outputId": "3bff81bf-0e59-49c7-95bf-25d63367f8a4"
   },
   "outputs": [
    {
     "data": {
      "text/plain": [
       "tensor([0, 2, 1], device='cuda:0', dtype=torch.int32)"
      ]
     },
     "execution_count": 93,
     "metadata": {},
     "output_type": "execute_result"
    }
   ],
   "source": [
    "pids = pids[torch.topk(approx_scores_, k=3).indices]\n",
    "pids"
   ]
  },
  {
   "cell_type": "markdown",
   "metadata": {
    "id": "Rlw4bxaIUgmz"
   },
   "source": [
    "To recap Stage 2:\n",
    "\n",
    "- We select centroid IDs that were both at/above our threshold of 0.5 AND corresponded to passage tokens for the passage IDs in our initial candidate pool from Stage 1.\n",
    "- We then do some reshaping so we can calculate the MaxSim score for each passage ID.\n",
    "- We pick the top-`ndocs` passages."
   ]
  },
  {
   "cell_type": "markdown",
   "metadata": {
    "id": "wAVrF9AXEWsh"
   },
   "source": [
    "## Stage 3: Centroid Interaction w/o Pruning"
   ]
  },
  {
   "cell_type": "markdown",
   "metadata": {
    "id": "P9SbYASyVJEB"
   },
   "source": [
    "We now have our candidate set from Stage 2. We lookup the centroid IDs for the passage tokens in these passage IDs:"
   ]
  },
  {
   "cell_type": "code",
   "execution_count": 94,
   "metadata": {
    "colab": {
     "base_uri": "https://localhost:8080/"
    },
    "id": "FIDwgwj-VIaE",
    "outputId": "a72ebd87-0213-4961-8129-4a8258cfe40d"
   },
   "outputs": [
    {
     "data": {
      "text/plain": [
       "(torch.Size([39]), torch.Size([3]))"
      ]
     },
     "execution_count": 94,
     "metadata": {},
     "output_type": "execute_result"
    }
   ],
   "source": [
    "codes_packed, codes_lengths = searcher.ranker.embeddings_strided.lookup_codes(pids)\n",
    "codes_packed.shape, codes_lengths.shape"
   ]
  },
  {
   "cell_type": "markdown",
   "metadata": {
    "id": "zwGW3kGOVU4G"
   },
   "source": [
    "We don't use the threshold for this step---all centroids, even those who have a maximum cosine similarity with query tokens being less than our threshold:"
   ]
  },
  {
   "cell_type": "code",
   "execution_count": 95,
   "metadata": {
    "colab": {
     "base_uri": "https://localhost:8080/"
    },
    "id": "rHPpYzXGVevY",
    "outputId": "b2f5cc5d-b29c-464f-a01f-3b5234f36639"
   },
   "outputs": [
    {
     "data": {
      "text/plain": [
       "torch.Size([39, 32])"
      ]
     },
     "execution_count": 95,
     "metadata": {},
     "output_type": "execute_result"
    }
   ],
   "source": [
    "approx_scores = centroid_scores[codes_packed.long()]\n",
    "approx_scores.shape"
   ]
  },
  {
   "cell_type": "markdown",
   "metadata": {
    "id": "0YmeFrZCVg5S"
   },
   "source": [
    "Note how we are now dealing with 39 centroids, not 14 like we did in Stage 2."
   ]
  },
  {
   "cell_type": "markdown",
   "metadata": {
    "id": "SIchcgRjVoT6"
   },
   "source": [
    "We do the same reshaping/padding as we did in Stage 2, and use `colbert_score_reduce` again:"
   ]
  },
  {
   "cell_type": "code",
   "execution_count": 96,
   "metadata": {
    "colab": {
     "base_uri": "https://localhost:8080/"
    },
    "id": "aEnBx8FxVuTE",
    "outputId": "0718761e-be31-48b6-9ce7-934557b67051"
   },
   "outputs": [
    {
     "data": {
      "text/plain": [
       "tensor([27.2812, 22.1875, 13.7266], device='cuda:0', dtype=torch.float16)"
      ]
     },
     "execution_count": 96,
     "metadata": {},
     "output_type": "execute_result"
    }
   ],
   "source": [
    "approx_scores_strided = StridedTensor(approx_scores, codes_lengths)\n",
    "approx_scores_padded, approx_scores_mask = approx_scores_strided.as_padded_tensor()\n",
    "approx_scores = colbert_score_reduce(approx_scores_padded, approx_scores_mask, searcher.config)\n",
    "approx_scores"
   ]
  },
  {
   "cell_type": "markdown",
   "metadata": {
    "id": "0DhQM4H-V5Ym"
   },
   "source": [
    "We then pick the top-`ndocs//4` passage IDs, in this case all 3 of our passage IDs."
   ]
  },
  {
   "cell_type": "code",
   "execution_count": 97,
   "metadata": {
    "id": "Y3WL9srxV9xV"
   },
   "outputs": [],
   "source": [
    "if searcher.config.ndocs // 4 < len(approx_scores):\n",
    "    pids = pids[torch.topk(approx_scores, k=(searcher.config.ndocs // 4)).indices]"
   ]
  },
  {
   "cell_type": "code",
   "execution_count": 98,
   "metadata": {
    "colab": {
     "base_uri": "https://localhost:8080/"
    },
    "id": "fPF-oEO7YMjL",
    "outputId": "b688dbdb-376c-49f4-a878-2f43979cf23b"
   },
   "outputs": [
    {
     "data": {
      "text/plain": [
       "tensor([0, 2, 1], device='cuda:0', dtype=torch.int32)"
      ]
     },
     "execution_count": 98,
     "metadata": {},
     "output_type": "execute_result"
    }
   ],
   "source": [
    "pids = pids[torch.topk(approx_scores, k=3).indices]\n",
    "pids"
   ]
  },
  {
   "cell_type": "markdown",
   "metadata": {
    "id": "d1LsaakOWC98"
   },
   "source": [
    "This is the candidate set at the end of Stage 3. Note that the scores are still not quite the same as RAGatouille, as these are intermediate scores."
   ]
  },
  {
   "cell_type": "markdown",
   "metadata": {
    "id": "ZU2IDGW0F-2I"
   },
   "source": [
    "## Stage 4: Final ranking with decompression"
   ]
  },
  {
   "cell_type": "markdown",
   "metadata": {
    "id": "na9MVRZZWoMk"
   },
   "source": [
    "We're now in the final Stage of the PLAID scoring pipeline. We now get the full 128-dimension vectors for all of our passage ID's tokens:"
   ]
  },
  {
   "cell_type": "code",
   "execution_count": 99,
   "metadata": {
    "colab": {
     "base_uri": "https://localhost:8080/"
    },
    "id": "ZOf-cdfuWrBc",
    "outputId": "38c13003-3d32-4f12-81f9-dc4155f2e279"
   },
   "outputs": [
    {
     "data": {
      "text/plain": [
       "(torch.Size([39, 128]), torch.Size([3]))"
      ]
     },
     "execution_count": 99,
     "metadata": {},
     "output_type": "execute_result"
    }
   ],
   "source": [
    "D_packed, D_mask = searcher.ranker.lookup_pids(pids)\n",
    "D_packed.shape, D_mask.shape"
   ]
  },
  {
   "cell_type": "code",
   "execution_count": 100,
   "metadata": {
    "colab": {
     "base_uri": "https://localhost:8080/"
    },
    "id": "6GPbESeWW4_x",
    "outputId": "64f16da5-3c21-42bb-bae9-f1f0bb4ef83a"
   },
   "outputs": [
    {
     "data": {
      "text/plain": [
       "tensor(-0.0102, device='cuda:0', dtype=torch.float16)"
      ]
     },
     "execution_count": 100,
     "metadata": {},
     "output_type": "execute_result"
    }
   ],
   "source": [
    "D_packed[0][0]"
   ]
  },
  {
   "cell_type": "markdown",
   "metadata": {
    "id": "CHFkHC5mXDRx"
   },
   "source": [
    "Since we only have one query:"
   ]
  },
  {
   "cell_type": "code",
   "execution_count": 101,
   "metadata": {
    "colab": {
     "base_uri": "https://localhost:8080/"
    },
    "id": "4QdvdKb3W_Kg",
    "outputId": "2451029d-5f1d-4ed0-cc96-efcad8ac5c6e"
   },
   "outputs": [
    {
     "data": {
      "text/plain": [
       "1"
      ]
     },
     "execution_count": 101,
     "metadata": {},
     "output_type": "execute_result"
    }
   ],
   "source": [
    "Q.size(0)"
   ]
  },
  {
   "cell_type": "markdown",
   "metadata": {
    "id": "a27Fyg3YXFVX"
   },
   "source": [
    "We use the following lines of code:"
   ]
  },
  {
   "cell_type": "code",
   "execution_count": 102,
   "metadata": {
    "colab": {
     "base_uri": "https://localhost:8080/"
    },
    "id": "fel8bJQxXHQE",
    "outputId": "5add352b-4bb2-4ef3-ad1b-8a489b2f12c3"
   },
   "outputs": [
    {
     "data": {
      "text/plain": [
       "tensor([27.6875, 22.2812, 13.9531], device='cuda:0', dtype=torch.float16)"
      ]
     },
     "execution_count": 102,
     "metadata": {},
     "output_type": "execute_result"
    }
   ],
   "source": [
    "colbert_score_packed(Q, D_packed, D_mask, searcher.config)"
   ]
  },
  {
   "cell_type": "markdown",
   "metadata": {
    "id": "Zh8EWFh7XQpV"
   },
   "source": [
    "Looking into `colbert_score_packed`, here are the lines of interest:"
   ]
  },
  {
   "cell_type": "code",
   "execution_count": 103,
   "metadata": {
    "colab": {
     "base_uri": "https://localhost:8080/"
    },
    "id": "V-CNIODwXXyw",
    "outputId": "c7b81dc9-d4d5-4883-ecc4-a00b06410a07"
   },
   "outputs": [
    {
     "data": {
      "text/plain": [
       "torch.Size([32, 128])"
      ]
     },
     "execution_count": 103,
     "metadata": {},
     "output_type": "execute_result"
    }
   ],
   "source": [
    "Q = Q.squeeze(0)\n",
    "Q.shape"
   ]
  },
  {
   "cell_type": "markdown",
   "metadata": {
    "id": "wmlC-toiXh_p"
   },
   "source": [
    "We calculate the cosine similarity between each passage token and each query token:"
   ]
  },
  {
   "cell_type": "code",
   "execution_count": 104,
   "metadata": {
    "colab": {
     "base_uri": "https://localhost:8080/"
    },
    "id": "GMz9JUGkXdW-",
    "outputId": "35cfe4d1-0ff8-4689-9b9a-4fd9641ed38f"
   },
   "outputs": [
    {
     "data": {
      "text/plain": [
       "torch.Size([39, 32])"
      ]
     },
     "execution_count": 104,
     "metadata": {},
     "output_type": "execute_result"
    }
   ],
   "source": [
    "scores = D_packed @ Q.to(dtype=D_packed.dtype).T\n",
    "scores.shape"
   ]
  },
  {
   "cell_type": "markdown",
   "metadata": {
    "id": "0OmPX0N6XnpA"
   },
   "source": [
    "Reshape them so we can max-reduce them by passage ID:"
   ]
  },
  {
   "cell_type": "code",
   "execution_count": 105,
   "metadata": {
    "colab": {
     "base_uri": "https://localhost:8080/"
    },
    "id": "i7TgmW6gXq3g",
    "outputId": "4952176c-4b95-4f3e-92b1-a821d4167301"
   },
   "outputs": [
    {
     "data": {
      "text/plain": [
       "(torch.Size([3, 13, 32]), torch.Size([3, 13, 1]))"
      ]
     },
     "execution_count": 105,
     "metadata": {},
     "output_type": "execute_result"
    }
   ],
   "source": [
    "scores_padded, scores_mask = StridedTensor(scores, D_mask).as_padded_tensor()\n",
    "scores_padded.shape, scores_mask.shape"
   ]
  },
  {
   "cell_type": "markdown",
   "metadata": {
    "id": "Q_KNG_VeX0Pa"
   },
   "source": [
    "And max-reduce with `colbert_score_reduce`:"
   ]
  },
  {
   "cell_type": "code",
   "execution_count": 106,
   "metadata": {
    "colab": {
     "base_uri": "https://localhost:8080/"
    },
    "id": "Bjui3VexX4Su",
    "outputId": "a50d137e-4304-4f6a-f858-0eb907400deb"
   },
   "outputs": [
    {
     "data": {
      "text/plain": [
       "tensor([27.6875, 22.2812, 13.9531], device='cuda:0', dtype=torch.float16)"
      ]
     },
     "execution_count": 106,
     "metadata": {},
     "output_type": "execute_result"
    }
   ],
   "source": [
    "colbert_score_reduce(scores_padded, scores_mask, searcher.config)"
   ]
  },
  {
   "cell_type": "markdown",
   "metadata": {
    "id": "mVKvQNtYX8Ys"
   },
   "source": [
    "This matches exactly the scores we got using RAGatouille!"
   ]
  },
  {
   "cell_type": "code",
   "execution_count": 107,
   "metadata": {
    "colab": {
     "base_uri": "https://localhost:8080/"
    },
    "id": "R5LWl_XLX6lk",
    "outputId": "309baa66-6c65-41e0-f89b-6a111e571a5b"
   },
   "outputs": [
    {
     "data": {
      "text/plain": [
       "[{'content': 'Python is a programming language. It is easy to learn',\n",
       "  'score': 27.6875,\n",
       "  'rank': 1,\n",
       "  'document_id': '8aa5aade-10d5-4144-b634-c7866578b43c',\n",
       "  'passage_id': 0},\n",
       " {'content': 'Python was created by Guido van Rossum in 1991',\n",
       "  'score': 22.28125,\n",
       "  'rank': 2,\n",
       "  'document_id': '12352328-9bb1-4a51-896e-a002d3548adc',\n",
       "  'passage_id': 2},\n",
       " {'content': 'Java is a popular coding language used in many applications',\n",
       "  'score': 13.953125,\n",
       "  'rank': 3,\n",
       "  'document_id': '1fe9788e-ccec-4b9e-a004-14acc657915e',\n",
       "  'passage_id': 1}]"
      ]
     },
     "execution_count": 107,
     "metadata": {},
     "output_type": "execute_result"
    }
   ],
   "source": [
    "results"
   ]
  },
  {
   "cell_type": "markdown",
   "metadata": {
    "id": "BKFW9Nt6YkYp"
   },
   "source": [
    "To recap Stage 4:\n",
    "\n",
    "- We lookup the full vectors corresponding to all passage tokens in our passage IDs.\n",
    "- We reshape them to allow for max-reduction by passage ID.\n",
    "- We calculate the MaxSim score for each passage."
   ]
  },
  {
   "cell_type": "markdown",
   "metadata": {
    "id": "yLjl46reY4c9"
   },
   "source": [
    "In this way, we were able to recreate the entire 4-stage PLAID pipeline to match RAGatouille results!"
   ]
  }
 ],
 "metadata": {
  "accelerator": "GPU",
  "colab": {
   "gpuType": "T4",
   "provenance": [],
   "toc_visible": true
  },
  "kernelspec": {
   "display_name": "Python 3",
   "name": "python3"
  },
  "language_info": {
   "name": "python"
  }
 },
 "nbformat": 4,
 "nbformat_minor": 0
}

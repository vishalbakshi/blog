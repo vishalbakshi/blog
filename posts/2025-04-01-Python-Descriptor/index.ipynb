{
  "cells": [
    {
      "cell_type": "raw",
      "metadata": {
        "vscode": {
          "languageId": "raw"
        }
      },
      "source": [
        "---\n",
        "title: Understanding Python Descriptors\n",
        "date: \"2025-04-01\"\n",
        "author: Vishal Bakshi\n",
        "description: While vibe coding with Claude, it introduced me to unfamiliar behavior&#58; using the `__get__(obj)` method to convert a function to a bound method of the given object. This was necessary to monkey patch the self attention module's forward pass to log input data types as `register_forward_hook` only works on positional arguments (which LLaMA's self attention module doesn't have, it only has keyword arguments). This led me to do a deep dive into understanding descriptors with the helpful Descriptor Guide in the Python docs, which I walkthrough in this blog post.\n",
        "filters:\n",
        "   - lightbox\n",
        "lightbox: auto\n",
        "categories:\n",
        "    - python\n",
        "    - deep learning\n",
        "    - LLM\n",
        "---"
      ]
    },
    {
      "cell_type": "markdown",
      "metadata": {
        "id": "KM76iZX_JXP2"
      },
      "source": [
        "## Background"
      ]
    },
    {
      "cell_type": "markdown",
      "metadata": {
        "id": "VmDzXVgvJYQ9"
      },
      "source": [
        "When monkey-patching the Llama self-attention forward pass (to log its inputs' data type) I was vibe coding with Claude and it generated the following line to pass the necessary arguments to the original forward pass of the module:\n",
        "\n",
        "```python\n",
        "orig_forward.__get__(self_attn, type(self_attn))(**kwargs)\n",
        "```\n",
        "\n",
        "In a prior iteration, I was using the following line suggested by Claude, with the intention of passing `self_attn` as `self`:\n",
        "\n",
        "```python\n",
        "orig_forward(self_attn, *args, **kwargs)\n",
        "```\n",
        "\n",
        "This was essentially doing the following:\n",
        "\n",
        "```python\n",
        "orig_forward(self_attn, hidden_states=hidden_states, attention_mask=attention_mask, ...)\n",
        "```\n",
        "\n",
        "Which caused the following error:\n",
        "\n",
        "```\n",
        "TypeError: LlamaFlashAttention2.forward() got multiple values for argument 'hidden_states'\n",
        "```\n",
        "\n",
        "`self_attn` was being passed as the argument to the `hidden_states` parameter, and then `hidden_states=hidden_states` was again assigning an argument to the `hidden_states` parameter. So how do we pass `self_attn` as `self`? This is where the `__get__` method comes in which is part of the Python [Descriptor](https://docs.python.org/3/glossary.html#term-descriptor). Descriptors are:\n",
        "\n",
        "> Any object which defines the methods `__get__()`, `__set__()`, or `__delete__()`. When a class attribute is a descriptor, its special binding behavior is triggered upon attribute lookup. Normally, using _a.b_ to get, set or delete an attribute looks up the object named _b_ in the class dictionary for _a_, but if _b_ is a descriptor, the respective descriptor method gets called. Understanding descriptors is a key to a deep understanding of Python because they are the basis for many features including functions, methods, properties, class methods, static methods, and reference to super classes."
      ]
    },
    {
      "cell_type": "markdown",
      "metadata": {
        "id": "K1SaDw7NLZqU"
      },
      "source": [
        "After reading that a few times I still didn't understand it! Though I think the key is:\n",
        "\n",
        "> When a class attribute is a descriptor, its special binding behavior is triggered upon attribute lookup.\n",
        "\n",
        "Claude explained it this way:\n",
        "\n",
        "> `__get__` is a special method that converts a function into a bound method. It's like saying \"make this function a method of this object.\"\n",
        "\n",
        "Translating that to my use case: `__get__` makes `orig_forward` a method of `self_attn`, no longer requiring us to pass `self_attn` as it now is `self`.\n",
        "\n",
        "That certainly makes sense (i.e. I understand those words) but I don't really understand why or how. That led me to the Python documentation's [Descriptor Guide](https://docs.python.org/3/howto/descriptor.html#id1) which I'll walk through here.\n",
        "\n",
        "(There was also this interesting [discussion](https://discuss.python.org/t/changing-the-name-of-get-to-bind/14243) about changing the name to `__bind__` when calling it on a function as it binds the function as a method of the given object, which we'll see later on)."
      ]
    },
    {
      "cell_type": "markdown",
      "metadata": {
        "id": "J5eqzGpKNKHF"
      },
      "source": [
        "## Primer"
      ]
    },
    {
      "cell_type": "markdown",
      "metadata": {
        "id": "gUOorO4rQ4K3"
      },
      "source": [
        "### Simple example: A descriptor that returns a constant"
      ]
    },
    {
      "cell_type": "code",
      "execution_count": 17,
      "metadata": {
        "id": "t7Go8iqbLEiR"
      },
      "outputs": [],
      "source": [
        "class Ten:\n",
        "    def __get__(self, obj, objtype=None):\n",
        "        return 10"
      ]
    },
    {
      "cell_type": "code",
      "execution_count": 18,
      "metadata": {
        "colab": {
          "base_uri": "https://localhost:8080/"
        },
        "id": "-BcsrHhZNLMN",
        "outputId": "eeac4968-a49d-4411-c5f6-3231b2ff396c"
      },
      "outputs": [
        {
          "data": {
            "text/plain": [
              "<__main__.Ten at 0x78b2fd072c50>"
            ]
          },
          "execution_count": 18,
          "metadata": {},
          "output_type": "execute_result"
        }
      ],
      "source": [
        "t = Ten()\n",
        "t"
      ]
    },
    {
      "cell_type": "code",
      "execution_count": 19,
      "metadata": {
        "colab": {
          "base_uri": "https://localhost:8080/"
        },
        "id": "BDxiYK4MODMq",
        "outputId": "3c8c18b5-e974-4c71-90cd-bed54365c3f9"
      },
      "outputs": [
        {
          "data": {
            "text/plain": [
              "__main__.Ten"
            ]
          },
          "execution_count": 19,
          "metadata": {},
          "output_type": "execute_result"
        }
      ],
      "source": [
        "type(t)"
      ]
    },
    {
      "cell_type": "code",
      "execution_count": 20,
      "metadata": {
        "colab": {
          "base_uri": "https://localhost:8080/"
        },
        "id": "moN9JHhCOEYa",
        "outputId": "6af99ff9-5bb6-4561-b5df-af18e218253f"
      },
      "outputs": [
        {
          "data": {
            "text/plain": [
              "10"
            ]
          },
          "execution_count": 20,
          "metadata": {},
          "output_type": "execute_result"
        }
      ],
      "source": [
        "t.__get__(4)"
      ]
    },
    {
      "cell_type": "markdown",
      "metadata": {
        "id": "J1B-2S7MOPmS"
      },
      "source": [
        "I think the only reason `Ten` is a descriptor is because it \"defines the methods `__get__()`, `__set__()`, or `__delete__()`\".\n",
        "\n",
        "> To use the descriptor, it must be stored as a class variable in another class:"
      ]
    },
    {
      "cell_type": "code",
      "execution_count": 21,
      "metadata": {
        "id": "39KU2QhOOH9K"
      },
      "outputs": [],
      "source": [
        "class A:\n",
        "    x = 5                       # Regular class attribute\n",
        "    y = Ten()                   # Descriptor instance"
      ]
    },
    {
      "cell_type": "code",
      "execution_count": 22,
      "metadata": {
        "colab": {
          "base_uri": "https://localhost:8080/"
        },
        "id": "s5-N4OYwOjtk",
        "outputId": "fe3fcdb4-845c-4e7e-d4aa-83f23603d858"
      },
      "outputs": [
        {
          "data": {
            "text/plain": [
              "<__main__.A at 0x78b2fd0707d0>"
            ]
          },
          "execution_count": 22,
          "metadata": {},
          "output_type": "execute_result"
        }
      ],
      "source": [
        "a = A()                     # Make an instance of class A\n",
        "a"
      ]
    },
    {
      "cell_type": "code",
      "execution_count": 23,
      "metadata": {
        "colab": {
          "base_uri": "https://localhost:8080/"
        },
        "id": "r8loHItcOrK8",
        "outputId": "93f0602a-05b0-4a09-b674-aa00ee892704"
      },
      "outputs": [
        {
          "data": {
            "text/plain": [
              "5"
            ]
          },
          "execution_count": 23,
          "metadata": {},
          "output_type": "execute_result"
        }
      ],
      "source": [
        "a.x                         # Normal attribute lookup"
      ]
    },
    {
      "cell_type": "code",
      "execution_count": 24,
      "metadata": {
        "colab": {
          "base_uri": "https://localhost:8080/"
        },
        "id": "fpphSyT9OsBE",
        "outputId": "52372c3e-1077-4f9a-b2f8-71b3394c8b1b"
      },
      "outputs": [
        {
          "data": {
            "text/plain": [
              "10"
            ]
          },
          "execution_count": 24,
          "metadata": {},
          "output_type": "execute_result"
        }
      ],
      "source": [
        "a.y                         # Descriptor lookup"
      ]
    },
    {
      "cell_type": "markdown",
      "metadata": {
        "id": "ssHpVt_-PDVW"
      },
      "source": [
        "> Note that the value 10 is not stored in either the class dictionary or the instance dictionary. Instead, the value 10 is computed on demand."
      ]
    },
    {
      "cell_type": "code",
      "execution_count": 25,
      "metadata": {
        "colab": {
          "base_uri": "https://localhost:8080/"
        },
        "id": "WpM0_DbFOsSV",
        "outputId": "afb4e225-ef85-4202-eb56-db22b5269554"
      },
      "outputs": [
        {
          "data": {
            "text/plain": [
              "mappingproxy({'__module__': '__main__',\n",
              "              'x': 5,\n",
              "              'y': <__main__.Ten at 0x78b2fd0722d0>,\n",
              "              '__dict__': <attribute '__dict__' of 'A' objects>,\n",
              "              '__weakref__': <attribute '__weakref__' of 'A' objects>,\n",
              "              '__doc__': None})"
            ]
          },
          "execution_count": 25,
          "metadata": {},
          "output_type": "execute_result"
        }
      ],
      "source": [
        "A.__dict__"
      ]
    },
    {
      "cell_type": "markdown",
      "metadata": {
        "id": "yCJK_UjKPWf5"
      },
      "source": [
        "Modifying `Ten` a bit to visualize this:"
      ]
    },
    {
      "cell_type": "code",
      "execution_count": 26,
      "metadata": {
        "id": "fuGansBaOv0s"
      },
      "outputs": [],
      "source": [
        "class Ten2:\n",
        "    def __get__(self, obj, objtype=None):\n",
        "        print(f\"__get__ called with obj={obj}, objtype={objtype}\")\n",
        "        return 10\n",
        "\n",
        "class A2:\n",
        "    x = 5\n",
        "    y = Ten2()  # Descriptor instance"
      ]
    },
    {
      "cell_type": "code",
      "execution_count": 27,
      "metadata": {
        "id": "aXuxRrpBPaPX"
      },
      "outputs": [],
      "source": [
        "a2 = A2()"
      ]
    },
    {
      "cell_type": "code",
      "execution_count": 28,
      "metadata": {
        "colab": {
          "base_uri": "https://localhost:8080/"
        },
        "id": "MLHP4CLnPabY",
        "outputId": "e528db12-faa4-463b-b3ba-71897fc0b887"
      },
      "outputs": [
        {
          "name": "stdout",
          "output_type": "stream",
          "text": [
            "__get__ called with obj=<__main__.A2 object at 0x78b2fd089710>, objtype=<class '__main__.A2'>\n"
          ]
        },
        {
          "data": {
            "text/plain": [
              "10"
            ]
          },
          "execution_count": 28,
          "metadata": {},
          "output_type": "execute_result"
        }
      ],
      "source": [
        "a2.y"
      ]
    },
    {
      "cell_type": "markdown",
      "metadata": {
        "id": "n18GHbf1PtaJ"
      },
      "source": [
        "Cool!"
      ]
    },
    {
      "cell_type": "markdown",
      "metadata": {
        "id": "BGpChrBYPxE5"
      },
      "source": [
        "### Dynamic Lookups"
      ]
    },
    {
      "cell_type": "code",
      "execution_count": 45,
      "metadata": {
        "id": "40WcSx_pPa9_"
      },
      "outputs": [],
      "source": [
        "import os\n",
        "\n",
        "class DirectorySize:\n",
        "\n",
        "    def __get__(self, obj, objtype=None):\n",
        "        return len(os.listdir(obj.dirname))\n",
        "\n",
        "class Directory:\n",
        "\n",
        "    size = DirectorySize()              # Descriptor instance\n",
        "\n",
        "    def __init__(self, dirname):\n",
        "        self.dirname = dirname          # Regular instance attribute"
      ]
    },
    {
      "cell_type": "code",
      "execution_count": 46,
      "metadata": {
        "id": "x3dIc46SQAUb"
      },
      "outputs": [],
      "source": [
        "s = Directory('songs')\n",
        "g = Directory('games')"
      ]
    },
    {
      "cell_type": "code",
      "execution_count": 54,
      "metadata": {
        "colab": {
          "base_uri": "https://localhost:8080/"
        },
        "id": "JvRHEgjGQDO8",
        "outputId": "09aa2729-6427-4da8-e619-fb6ce2abd29e"
      },
      "outputs": [
        {
          "data": {
            "text/plain": [
              "4"
            ]
          },
          "execution_count": 54,
          "metadata": {},
          "output_type": "execute_result"
        }
      ],
      "source": [
        "s.size"
      ]
    },
    {
      "cell_type": "code",
      "execution_count": 48,
      "metadata": {
        "colab": {
          "base_uri": "https://localhost:8080/"
        },
        "id": "lL4YdOGvQT_s",
        "outputId": "5f1ace26-b65a-4747-dccf-150ae2da1111"
      },
      "outputs": [
        {
          "data": {
            "text/plain": [
              "2"
            ]
          },
          "execution_count": 48,
          "metadata": {},
          "output_type": "execute_result"
        }
      ],
      "source": [
        "g.size"
      ]
    },
    {
      "cell_type": "markdown",
      "metadata": {
        "id": "AfUGA6SIQrT-"
      },
      "source": [
        "Removing a file then calling the descriptor's `__get__` dynamically calculates the new value:"
      ]
    },
    {
      "cell_type": "code",
      "execution_count": 49,
      "metadata": {
        "colab": {
          "base_uri": "https://localhost:8080/"
        },
        "id": "EePMGzWLQRbj",
        "outputId": "0e7788d5-e734-40fc-df0c-07077782244a"
      },
      "outputs": [
        {
          "data": {
            "text/plain": [
              "1"
            ]
          },
          "execution_count": 49,
          "metadata": {},
          "output_type": "execute_result"
        }
      ],
      "source": [
        "os.remove('games/game1.txt')            # Delete a game\n",
        "g.size"
      ]
    },
    {
      "cell_type": "markdown",
      "metadata": {
        "id": "mHfb4Yb3aME8"
      },
      "source": [
        "### Managed attributes"
      ]
    },
    {
      "cell_type": "markdown",
      "metadata": {
        "id": "HNBxS6UTaR7F"
      },
      "source": [
        "> The descriptor is assigned to a public attribute in the class dictionary while the actual data is stored as a private attribute in the instance dictionary."
      ]
    },
    {
      "cell_type": "markdown",
      "metadata": {
        "id": "1aqyLS_obb7L"
      },
      "source": [
        "Note that I wasn't able to see the logging output in this notebook so I'm using print statements instead."
      ]
    },
    {
      "cell_type": "code",
      "execution_count": 81,
      "metadata": {
        "id": "6m-bBtXwQjOm"
      },
      "outputs": [],
      "source": [
        "class LoggedAgeAccess:\n",
        "\n",
        "    def __get__(self, obj, objtype=None):\n",
        "        value = obj._age\n",
        "        print(f'Accessing age giving {value}')\n",
        "        return value\n",
        "\n",
        "    def __set__(self, obj, value):\n",
        "        print(f'Updating age to {value}')\n",
        "        obj._age = value\n",
        "\n",
        "class Person:\n",
        "\n",
        "    age = LoggedAgeAccess()             # Descriptor instance\n",
        "\n",
        "    def __init__(self, name, age):\n",
        "        self.name = name                # Regular instance attribute\n",
        "        self.age = age                  # Calls __set__()\n",
        "\n",
        "    def birthday(self):\n",
        "        self.age += 1                   # Calls both __get__() and __set__()"
      ]
    },
    {
      "cell_type": "code",
      "execution_count": 82,
      "metadata": {
        "colab": {
          "base_uri": "https://localhost:8080/"
        },
        "id": "-VY79qRwaa1f",
        "outputId": "8b75d44a-d3d3-4a0f-8b6a-b1526c61850c"
      },
      "outputs": [
        {
          "name": "stdout",
          "output_type": "stream",
          "text": [
            "Updating age to 30\n",
            "Updating age to 40\n"
          ]
        }
      ],
      "source": [
        "mary = Person('Mary M', 30)         # The initial age update is logged\n",
        "dave = Person('David D', 40)"
      ]
    },
    {
      "cell_type": "code",
      "execution_count": 83,
      "metadata": {
        "colab": {
          "base_uri": "https://localhost:8080/"
        },
        "id": "jJvpCQEraa4s",
        "outputId": "6bfbbf95-7e19-4375-e7d0-3ea569224486"
      },
      "outputs": [
        {
          "data": {
            "text/plain": [
              "({'name': 'Mary M', '_age': 30}, {'name': 'David D', '_age': 40})"
            ]
          },
          "execution_count": 83,
          "metadata": {},
          "output_type": "execute_result"
        }
      ],
      "source": [
        "vars(mary), vars(dave)"
      ]
    },
    {
      "cell_type": "code",
      "execution_count": 84,
      "metadata": {
        "colab": {
          "base_uri": "https://localhost:8080/"
        },
        "id": "CVhGwS6BagiC",
        "outputId": "b498be42-317d-4880-e5cd-0ec735143778"
      },
      "outputs": [
        {
          "name": "stdout",
          "output_type": "stream",
          "text": [
            "Accessing age giving 30\n"
          ]
        },
        {
          "data": {
            "text/plain": [
              "30"
            ]
          },
          "execution_count": 84,
          "metadata": {},
          "output_type": "execute_result"
        }
      ],
      "source": [
        "mary.age"
      ]
    },
    {
      "cell_type": "code",
      "execution_count": 85,
      "metadata": {
        "colab": {
          "base_uri": "https://localhost:8080/"
        },
        "id": "X2nY2L-8anFM",
        "outputId": "c30f9e43-22cb-4d26-b75b-75d9c486f9b9"
      },
      "outputs": [
        {
          "name": "stdout",
          "output_type": "stream",
          "text": [
            "Accessing age giving 30\n",
            "Updating age to 31\n"
          ]
        }
      ],
      "source": [
        "mary.birthday()"
      ]
    },
    {
      "cell_type": "code",
      "execution_count": 86,
      "metadata": {
        "colab": {
          "base_uri": "https://localhost:8080/"
        },
        "id": "FukEA2E-awfm",
        "outputId": "317f28b0-1e3a-49ed-ef6b-fa6904e9c636"
      },
      "outputs": [
        {
          "name": "stdout",
          "output_type": "stream",
          "text": [
            "Accessing age giving 31\n"
          ]
        },
        {
          "data": {
            "text/plain": [
              "31"
            ]
          },
          "execution_count": 86,
          "metadata": {},
          "output_type": "execute_result"
        }
      ],
      "source": [
        "mary.age"
      ]
    },
    {
      "cell_type": "code",
      "execution_count": 87,
      "metadata": {
        "colab": {
          "base_uri": "https://localhost:8080/",
          "height": 35
        },
        "id": "R2hnFgxOaxq-",
        "outputId": "805635b0-8485-4fdb-b066-60314f8ff50c"
      },
      "outputs": [
        {
          "data": {
            "application/vnd.google.colaboratory.intrinsic+json": {
              "type": "string"
            },
            "text/plain": [
              "'David D'"
            ]
          },
          "execution_count": 87,
          "metadata": {},
          "output_type": "execute_result"
        }
      ],
      "source": [
        "dave.name"
      ]
    },
    {
      "cell_type": "code",
      "execution_count": 88,
      "metadata": {
        "colab": {
          "base_uri": "https://localhost:8080/"
        },
        "id": "a7FMJJUVaynY",
        "outputId": "a14b4606-f0e2-4654-956e-0b937a8bc394"
      },
      "outputs": [
        {
          "name": "stdout",
          "output_type": "stream",
          "text": [
            "Accessing age giving 40\n"
          ]
        },
        {
          "data": {
            "text/plain": [
              "40"
            ]
          },
          "execution_count": 88,
          "metadata": {},
          "output_type": "execute_result"
        }
      ],
      "source": [
        "dave.age"
      ]
    },
    {
      "cell_type": "markdown",
      "metadata": {
        "id": "eu8n5-kDb3fO"
      },
      "source": [
        "### Customized names"
      ]
    },
    {
      "cell_type": "markdown",
      "metadata": {
        "id": "c23-gqoOb7p3"
      },
      "source": [
        "> When a class uses descriptors, it can inform each descriptor about which variable name was used."
      ]
    },
    {
      "cell_type": "code",
      "execution_count": 99,
      "metadata": {
        "id": "1rUvGZCob46e"
      },
      "outputs": [],
      "source": [
        "class LoggedAccess:\n",
        "\n",
        "    def __set_name__(self, owner, name):\n",
        "        self.public_name = name\n",
        "        self.private_name = '_' + name\n",
        "\n",
        "    def __get__(self, obj, objtype=None):\n",
        "        value = getattr(obj, self.private_name)\n",
        "        print(f'Accessing {self.public_name} giving {value}')\n",
        "        return value\n",
        "\n",
        "    def __set__(self, obj, value):\n",
        "        print(f'Updating {self.public_name} to {value}')\n",
        "        setattr(obj, self.private_name, value)\n",
        "\n",
        "class Person:\n",
        "\n",
        "    name = LoggedAccess()                # First descriptor instance\n",
        "    age = LoggedAccess()                 # Second descriptor instance\n",
        "\n",
        "    def __init__(self, name, age):\n",
        "        self.name = name                 # Calls the first descriptor\n",
        "        self.age = age                   # Calls the second descriptor\n",
        "\n",
        "    def birthday(self):\n",
        "        self.age += 1"
      ]
    },
    {
      "cell_type": "code",
      "execution_count": 97,
      "metadata": {
        "colab": {
          "base_uri": "https://localhost:8080/"
        },
        "id": "68MkcWeDde9E",
        "outputId": "84700369-3ad4-4565-f86b-10eb90e39f15"
      },
      "outputs": [
        {
          "data": {
            "text/plain": [
              "<__main__.LoggedAccess at 0x78b2edeb8950>"
            ]
          },
          "execution_count": 97,
          "metadata": {},
          "output_type": "execute_result"
        }
      ],
      "source": [
        "vars(Person)['name']"
      ]
    },
    {
      "cell_type": "code",
      "execution_count": 98,
      "metadata": {
        "colab": {
          "base_uri": "https://localhost:8080/"
        },
        "id": "RAM2dCx2cYr7",
        "outputId": "7cac51e2-e623-48fd-8fb0-5a24e8eb9ec0"
      },
      "outputs": [
        {
          "data": {
            "text/plain": [
              "{'public_name': 'name', 'private_name': '_name'}"
            ]
          },
          "execution_count": 98,
          "metadata": {},
          "output_type": "execute_result"
        }
      ],
      "source": [
        "vars(vars(Person)['name'])"
      ]
    },
    {
      "cell_type": "code",
      "execution_count": 91,
      "metadata": {
        "colab": {
          "base_uri": "https://localhost:8080/"
        },
        "id": "BfVFFrgucX0y",
        "outputId": "92758304-fcce-4f59-b09d-4b5e8bd02aae"
      },
      "outputs": [
        {
          "data": {
            "text/plain": [
              "{'public_name': 'age', 'private_name': '_age'}"
            ]
          },
          "execution_count": 91,
          "metadata": {},
          "output_type": "execute_result"
        }
      ],
      "source": [
        "vars(vars(Person)['age'])"
      ]
    },
    {
      "cell_type": "code",
      "execution_count": 92,
      "metadata": {
        "colab": {
          "base_uri": "https://localhost:8080/"
        },
        "id": "Ons73diOcp2V",
        "outputId": "1eaab803-e055-4a57-c28e-be9a86a91e4e"
      },
      "outputs": [
        {
          "name": "stdout",
          "output_type": "stream",
          "text": [
            "Updating name to Peter P\n",
            "Updating age to 10\n"
          ]
        }
      ],
      "source": [
        "pete = Person('Peter P', 10)"
      ]
    },
    {
      "cell_type": "code",
      "execution_count": 93,
      "metadata": {
        "colab": {
          "base_uri": "https://localhost:8080/"
        },
        "id": "6FIC-Y4McqRf",
        "outputId": "90fbd1f4-dd19-4e81-ddc0-fa6fc51f8cca"
      },
      "outputs": [
        {
          "name": "stdout",
          "output_type": "stream",
          "text": [
            "Updating name to Catherine C\n",
            "Updating age to 20\n"
          ]
        }
      ],
      "source": [
        "kate = Person('Catherine C', 20)"
      ]
    },
    {
      "cell_type": "code",
      "execution_count": 94,
      "metadata": {
        "colab": {
          "base_uri": "https://localhost:8080/"
        },
        "id": "E--j2tg5cmbc",
        "outputId": "aa93dc1b-bbef-4bba-ec4f-adea7923f972"
      },
      "outputs": [
        {
          "data": {
            "text/plain": [
              "{'_name': 'Peter P', '_age': 10}"
            ]
          },
          "execution_count": 94,
          "metadata": {},
          "output_type": "execute_result"
        }
      ],
      "source": [
        "vars(pete)"
      ]
    },
    {
      "cell_type": "code",
      "execution_count": 95,
      "metadata": {
        "colab": {
          "base_uri": "https://localhost:8080/"
        },
        "id": "kVALoIpbclmt",
        "outputId": "b45e31dc-98a5-4fca-c3ab-f0f18e80416f"
      },
      "outputs": [
        {
          "data": {
            "text/plain": [
              "{'_name': 'Catherine C', '_age': 20}"
            ]
          },
          "execution_count": 95,
          "metadata": {},
          "output_type": "execute_result"
        }
      ],
      "source": [
        "vars(kate)"
      ]
    },
    {
      "cell_type": "markdown",
      "metadata": {
        "id": "ZT7HyOZVtx2b"
      },
      "source": [
        "I think the main takeaway here is that we didn't specify the name of the field so we could use the same descriptor for both `name` and `age`."
      ]
    },
    {
      "cell_type": "markdown",
      "metadata": {
        "id": "w4JNudtQVmq1"
      },
      "source": [
        "### Closing thoughts"
      ]
    },
    {
      "cell_type": "markdown",
      "metadata": {
        "id": "z960NrCNVoe6"
      },
      "source": [
        "Looking at how `__set_name__` behaves (the example in the [docs](https://docs.python.org/3/reference/datamodel.html#object.__set_name__)):"
      ]
    },
    {
      "cell_type": "code",
      "execution_count": 103,
      "metadata": {
        "colab": {
          "base_uri": "https://localhost:8080/"
        },
        "id": "YRz6XIWVcsc0",
        "outputId": "0db303bd-1e64-4471-940d-7dd8c37833e8"
      },
      "outputs": [
        {
          "name": "stdout",
          "output_type": "stream",
          "text": [
            "__set_name__ called with owner=A, name='x'\n",
            "__set_name__ called with owner=A, name='y'\n",
            "__set_name__ called with owner=A, name='bananas'\n"
          ]
        }
      ],
      "source": [
        "class C:\n",
        "    def __set_name__(self, owner, name):\n",
        "        print(f\"__set_name__ called with owner={owner.__name__}, name='{name}'\")\n",
        "        self.name = name\n",
        "\n",
        "class A:\n",
        "    x = C()  # This will trigger __set_name__\n",
        "    y = C()  # This will trigger it again with a different name\n",
        "    bananas = C()"
      ]
    },
    {
      "cell_type": "code",
      "execution_count": 104,
      "metadata": {
        "colab": {
          "base_uri": "https://localhost:8080/"
        },
        "id": "eOkVl6U3VxH2",
        "outputId": "940a7982-0418-4c1f-aa86-adf2fecace1f"
      },
      "outputs": [
        {
          "data": {
            "text/plain": [
              "(<__main__.C at 0x78b331674190>,\n",
              " <__main__.C at 0x78b2df52ccd0>,\n",
              " 'x',\n",
              " 'y',\n",
              " 'bananas')"
            ]
          },
          "execution_count": 104,
          "metadata": {},
          "output_type": "execute_result"
        }
      ],
      "source": [
        "a = A()\n",
        "a.x, a.y, a.x.name, a.y.name, a.bananas.name"
      ]
    },
    {
      "cell_type": "markdown",
      "metadata": {
        "id": "e3aySl4_WMCA"
      },
      "source": [
        "The part of particular interest to me is:\n",
        "\n",
        "> Descriptors are used throughout the language. It is how functions turn into bound methods."
      ]
    },
    {
      "cell_type": "markdown",
      "metadata": {
        "id": "zjiIR9unWbG4"
      },
      "source": [
        "## Complete practical example"
      ]
    },
    {
      "cell_type": "markdown",
      "metadata": {
        "id": "NKUKW3p0Wg5h"
      },
      "source": [
        "### Validator class"
      ]
    },
    {
      "cell_type": "markdown",
      "metadata": {
        "id": "y3eyl6P3WlyN"
      },
      "source": [
        "> A validator is a descriptor for managed attribute access. Prior to storing any data, it verifies that the new value meets various type and range restrictions. If those restrictions aren’t met, it raises an exception to prevent data corruption at its source."
      ]
    },
    {
      "cell_type": "code",
      "execution_count": 117,
      "metadata": {
        "id": "ahZ3KL85WOHF"
      },
      "outputs": [],
      "source": [
        "from abc import ABC, abstractmethod\n",
        "\n",
        "class Validator(ABC):\n",
        "\n",
        "    def __set_name__(self, owner, name):\n",
        "        print(\"__set_name__ is called\")\n",
        "        self.private_name = '_' + name\n",
        "\n",
        "    def __get__(self, obj, objtype=None):\n",
        "        print(\"__get__ is called\")\n",
        "        return getattr(obj, self.private_name)\n",
        "\n",
        "    def __set__(self, obj, value):\n",
        "        print(\"__set__ is called\")\n",
        "        self.validate(value)\n",
        "        setattr(obj, self.private_name, value)\n",
        "\n",
        "    @abstractmethod\n",
        "    def validate(self, value):\n",
        "        print(\"validate is called\")\n",
        "        pass"
      ]
    },
    {
      "cell_type": "markdown",
      "metadata": {
        "id": "AzS2PMhvW1fc"
      },
      "source": [
        "### Custom validators"
      ]
    },
    {
      "cell_type": "markdown",
      "metadata": {
        "id": "mF2LDv87W7bj"
      },
      "source": [
        "> Here are three practical data validation utilities:\n",
        ">\n",
        "> 1. `OneOf` verifies that a value is one of a restricted set of options.\n",
        ">\n",
        "> 2. `Number` verifies that a value is either an int or float. Optionally, it verifies that a value is between a given minimum or maximum.\n",
        ">\n",
        "> 3. `String` verifies that a value is a str. Optionally, it validates a given minimum or maximum length. It can validate a user-defined predicate as well."
      ]
    },
    {
      "cell_type": "code",
      "execution_count": 118,
      "metadata": {
        "id": "Yw5gZfNWW27f"
      },
      "outputs": [],
      "source": [
        "class OneOf(Validator):\n",
        "\n",
        "    def __init__(self, *options):\n",
        "        self.options = set(options)\n",
        "\n",
        "    def validate(self, value):\n",
        "        if value not in self.options:\n",
        "            raise ValueError(\n",
        "                f'Expected {value!r} to be one of {self.options!r}'\n",
        "            )\n",
        "\n",
        "class Number(Validator):\n",
        "\n",
        "    def __init__(self, minvalue=None, maxvalue=None):\n",
        "        self.minvalue = minvalue\n",
        "        self.maxvalue = maxvalue\n",
        "\n",
        "    def validate(self, value):\n",
        "        if not isinstance(value, (int, float)):\n",
        "            raise TypeError(f'Expected {value!r} to be an int or float')\n",
        "        if self.minvalue is not None and value < self.minvalue:\n",
        "            raise ValueError(\n",
        "                f'Expected {value!r} to be at least {self.minvalue!r}'\n",
        "            )\n",
        "        if self.maxvalue is not None and value > self.maxvalue:\n",
        "            raise ValueError(\n",
        "                f'Expected {value!r} to be no more than {self.maxvalue!r}'\n",
        "            )\n",
        "\n",
        "class String(Validator):\n",
        "\n",
        "    def __init__(self, minsize=None, maxsize=None, predicate=None):\n",
        "        self.minsize = minsize\n",
        "        self.maxsize = maxsize\n",
        "        self.predicate = predicate\n",
        "\n",
        "    def validate(self, value):\n",
        "        if not isinstance(value, str):\n",
        "            raise TypeError(f'Expected {value!r} to be an str')\n",
        "        if self.minsize is not None and len(value) < self.minsize:\n",
        "            raise ValueError(\n",
        "                f'Expected {value!r} to be no smaller than {self.minsize!r}'\n",
        "            )\n",
        "        if self.maxsize is not None and len(value) > self.maxsize:\n",
        "            raise ValueError(\n",
        "                f'Expected {value!r} to be no bigger than {self.maxsize!r}'\n",
        "            )\n",
        "        if self.predicate is not None and not self.predicate(value):\n",
        "            raise ValueError(\n",
        "                f'Expected {self.predicate} to be true for {value!r}'\n",
        "            )"
      ]
    },
    {
      "cell_type": "markdown",
      "metadata": {
        "id": "tgPHbJZBXP6l"
      },
      "source": [
        "### Practical application"
      ]
    },
    {
      "cell_type": "code",
      "execution_count": 119,
      "metadata": {
        "colab": {
          "base_uri": "https://localhost:8080/"
        },
        "id": "Y4ApijhtXN6c",
        "outputId": "a291dd22-396d-4771-ef6d-f9ccf1dd7aa8"
      },
      "outputs": [
        {
          "name": "stdout",
          "output_type": "stream",
          "text": [
            "__set_name__ is called\n",
            "__set_name__ is called\n",
            "__set_name__ is called\n"
          ]
        }
      ],
      "source": [
        "class Component:\n",
        "\n",
        "    name = String(minsize=3, maxsize=10, predicate=str.isupper)\n",
        "    kind = OneOf('wood', 'metal', 'plastic')\n",
        "    quantity = Number(minvalue=0)\n",
        "\n",
        "    def __init__(self, name, kind, quantity):\n",
        "        self.name = name\n",
        "        self.kind = kind\n",
        "        self.quantity = quantity"
      ]
    },
    {
      "cell_type": "markdown",
      "metadata": {
        "id": "iLS0v7DvXosA"
      },
      "source": [
        " >The descriptors prevent invalid instances from being created:"
      ]
    },
    {
      "cell_type": "code",
      "execution_count": 120,
      "metadata": {
        "colab": {
          "base_uri": "https://localhost:8080/",
          "height": 304
        },
        "id": "QYHxYYiKXzxC",
        "outputId": "3b846377-b1de-40cd-dc38-47f088d7bda6"
      },
      "outputs": [
        {
          "name": "stdout",
          "output_type": "stream",
          "text": [
            "__set__ is called\n"
          ]
        },
        {
          "ename": "ValueError",
          "evalue": "Expected <method 'isupper' of 'str' objects> to be true for 'Widget'",
          "output_type": "error",
          "traceback": [
            "\u001b[0;31m---------------------------------------------------------------------------\u001b[0m",
            "\u001b[0;31mValueError\u001b[0m                                Traceback (most recent call last)",
            "\u001b[0;32m<ipython-input-120-c0210b7e5f1b>\u001b[0m in \u001b[0;36m<cell line: 0>\u001b[0;34m()\u001b[0m\n\u001b[0;32m----> 1\u001b[0;31m \u001b[0mComponent\u001b[0m\u001b[0;34m(\u001b[0m\u001b[0;34m'Widget'\u001b[0m\u001b[0;34m,\u001b[0m \u001b[0;34m'metal'\u001b[0m\u001b[0;34m,\u001b[0m \u001b[0;36m5\u001b[0m\u001b[0;34m)\u001b[0m      \u001b[0;31m# Blocked: 'Widget' is not all uppercase\u001b[0m\u001b[0;34m\u001b[0m\u001b[0;34m\u001b[0m\u001b[0m\n\u001b[0m",
            "\u001b[0;32m<ipython-input-119-a3327444ac58>\u001b[0m in \u001b[0;36m__init__\u001b[0;34m(self, name, kind, quantity)\u001b[0m\n\u001b[1;32m      6\u001b[0m \u001b[0;34m\u001b[0m\u001b[0m\n\u001b[1;32m      7\u001b[0m     \u001b[0;32mdef\u001b[0m \u001b[0m__init__\u001b[0m\u001b[0;34m(\u001b[0m\u001b[0mself\u001b[0m\u001b[0;34m,\u001b[0m \u001b[0mname\u001b[0m\u001b[0;34m,\u001b[0m \u001b[0mkind\u001b[0m\u001b[0;34m,\u001b[0m \u001b[0mquantity\u001b[0m\u001b[0;34m)\u001b[0m\u001b[0;34m:\u001b[0m\u001b[0;34m\u001b[0m\u001b[0;34m\u001b[0m\u001b[0m\n\u001b[0;32m----> 8\u001b[0;31m         \u001b[0mself\u001b[0m\u001b[0;34m.\u001b[0m\u001b[0mname\u001b[0m \u001b[0;34m=\u001b[0m \u001b[0mname\u001b[0m\u001b[0;34m\u001b[0m\u001b[0;34m\u001b[0m\u001b[0m\n\u001b[0m\u001b[1;32m      9\u001b[0m         \u001b[0mself\u001b[0m\u001b[0;34m.\u001b[0m\u001b[0mkind\u001b[0m \u001b[0;34m=\u001b[0m \u001b[0mkind\u001b[0m\u001b[0;34m\u001b[0m\u001b[0;34m\u001b[0m\u001b[0m\n\u001b[1;32m     10\u001b[0m         \u001b[0mself\u001b[0m\u001b[0;34m.\u001b[0m\u001b[0mquantity\u001b[0m \u001b[0;34m=\u001b[0m \u001b[0mquantity\u001b[0m\u001b[0;34m\u001b[0m\u001b[0;34m\u001b[0m\u001b[0m\n",
            "\u001b[0;32m<ipython-input-117-1d490d57cfd0>\u001b[0m in \u001b[0;36m__set__\u001b[0;34m(self, obj, value)\u001b[0m\n\u001b[1;32m     13\u001b[0m     \u001b[0;32mdef\u001b[0m \u001b[0m__set__\u001b[0m\u001b[0;34m(\u001b[0m\u001b[0mself\u001b[0m\u001b[0;34m,\u001b[0m \u001b[0mobj\u001b[0m\u001b[0;34m,\u001b[0m \u001b[0mvalue\u001b[0m\u001b[0;34m)\u001b[0m\u001b[0;34m:\u001b[0m\u001b[0;34m\u001b[0m\u001b[0;34m\u001b[0m\u001b[0m\n\u001b[1;32m     14\u001b[0m         \u001b[0mprint\u001b[0m\u001b[0;34m(\u001b[0m\u001b[0;34m\"__set__ is called\"\u001b[0m\u001b[0;34m)\u001b[0m\u001b[0;34m\u001b[0m\u001b[0;34m\u001b[0m\u001b[0m\n\u001b[0;32m---> 15\u001b[0;31m         \u001b[0mself\u001b[0m\u001b[0;34m.\u001b[0m\u001b[0mvalidate\u001b[0m\u001b[0;34m(\u001b[0m\u001b[0mvalue\u001b[0m\u001b[0;34m)\u001b[0m\u001b[0;34m\u001b[0m\u001b[0;34m\u001b[0m\u001b[0m\n\u001b[0m\u001b[1;32m     16\u001b[0m         \u001b[0msetattr\u001b[0m\u001b[0;34m(\u001b[0m\u001b[0mobj\u001b[0m\u001b[0;34m,\u001b[0m \u001b[0mself\u001b[0m\u001b[0;34m.\u001b[0m\u001b[0mprivate_name\u001b[0m\u001b[0;34m,\u001b[0m \u001b[0mvalue\u001b[0m\u001b[0;34m)\u001b[0m\u001b[0;34m\u001b[0m\u001b[0;34m\u001b[0m\u001b[0m\n\u001b[1;32m     17\u001b[0m \u001b[0;34m\u001b[0m\u001b[0m\n",
            "\u001b[0;32m<ipython-input-118-036a77b2efaa>\u001b[0m in \u001b[0;36mvalidate\u001b[0;34m(self, value)\u001b[0m\n\u001b[1;32m     47\u001b[0m             )\n\u001b[1;32m     48\u001b[0m         \u001b[0;32mif\u001b[0m \u001b[0mself\u001b[0m\u001b[0;34m.\u001b[0m\u001b[0mpredicate\u001b[0m \u001b[0;32mis\u001b[0m \u001b[0;32mnot\u001b[0m \u001b[0;32mNone\u001b[0m \u001b[0;32mand\u001b[0m \u001b[0;32mnot\u001b[0m \u001b[0mself\u001b[0m\u001b[0;34m.\u001b[0m\u001b[0mpredicate\u001b[0m\u001b[0;34m(\u001b[0m\u001b[0mvalue\u001b[0m\u001b[0;34m)\u001b[0m\u001b[0;34m:\u001b[0m\u001b[0;34m\u001b[0m\u001b[0;34m\u001b[0m\u001b[0m\n\u001b[0;32m---> 49\u001b[0;31m             raise ValueError(\n\u001b[0m\u001b[1;32m     50\u001b[0m                 \u001b[0;34mf'Expected {self.predicate} to be true for {value!r}'\u001b[0m\u001b[0;34m\u001b[0m\u001b[0;34m\u001b[0m\u001b[0m\n\u001b[1;32m     51\u001b[0m             )\n",
            "\u001b[0;31mValueError\u001b[0m: Expected <method 'isupper' of 'str' objects> to be true for 'Widget'"
          ]
        }
      ],
      "source": [
        "Component('Widget', 'metal', 5)      # Blocked: 'Widget' is not all uppercase"
      ]
    },
    {
      "cell_type": "code",
      "execution_count": 121,
      "metadata": {
        "colab": {
          "base_uri": "https://localhost:8080/",
          "height": 321
        },
        "id": "KCIr1uPZX0-q",
        "outputId": "a1ff6411-3569-4dca-91df-dc09c8cfe544"
      },
      "outputs": [
        {
          "name": "stdout",
          "output_type": "stream",
          "text": [
            "__set__ is called\n",
            "__set__ is called\n"
          ]
        },
        {
          "ename": "ValueError",
          "evalue": "Expected 'metle' to be one of {'metal', 'plastic', 'wood'}",
          "output_type": "error",
          "traceback": [
            "\u001b[0;31m---------------------------------------------------------------------------\u001b[0m",
            "\u001b[0;31mValueError\u001b[0m                                Traceback (most recent call last)",
            "\u001b[0;32m<ipython-input-121-6e5146653713>\u001b[0m in \u001b[0;36m<cell line: 0>\u001b[0;34m()\u001b[0m\n\u001b[0;32m----> 1\u001b[0;31m \u001b[0mComponent\u001b[0m\u001b[0;34m(\u001b[0m\u001b[0;34m'WIDGET'\u001b[0m\u001b[0;34m,\u001b[0m \u001b[0;34m'metle'\u001b[0m\u001b[0;34m,\u001b[0m \u001b[0;36m5\u001b[0m\u001b[0;34m)\u001b[0m      \u001b[0;31m# Blocked: 'metle' is misspelled\u001b[0m\u001b[0;34m\u001b[0m\u001b[0;34m\u001b[0m\u001b[0m\n\u001b[0m",
            "\u001b[0;32m<ipython-input-119-a3327444ac58>\u001b[0m in \u001b[0;36m__init__\u001b[0;34m(self, name, kind, quantity)\u001b[0m\n\u001b[1;32m      7\u001b[0m     \u001b[0;32mdef\u001b[0m \u001b[0m__init__\u001b[0m\u001b[0;34m(\u001b[0m\u001b[0mself\u001b[0m\u001b[0;34m,\u001b[0m \u001b[0mname\u001b[0m\u001b[0;34m,\u001b[0m \u001b[0mkind\u001b[0m\u001b[0;34m,\u001b[0m \u001b[0mquantity\u001b[0m\u001b[0;34m)\u001b[0m\u001b[0;34m:\u001b[0m\u001b[0;34m\u001b[0m\u001b[0;34m\u001b[0m\u001b[0m\n\u001b[1;32m      8\u001b[0m         \u001b[0mself\u001b[0m\u001b[0;34m.\u001b[0m\u001b[0mname\u001b[0m \u001b[0;34m=\u001b[0m \u001b[0mname\u001b[0m\u001b[0;34m\u001b[0m\u001b[0;34m\u001b[0m\u001b[0m\n\u001b[0;32m----> 9\u001b[0;31m         \u001b[0mself\u001b[0m\u001b[0;34m.\u001b[0m\u001b[0mkind\u001b[0m \u001b[0;34m=\u001b[0m \u001b[0mkind\u001b[0m\u001b[0;34m\u001b[0m\u001b[0;34m\u001b[0m\u001b[0m\n\u001b[0m\u001b[1;32m     10\u001b[0m         \u001b[0mself\u001b[0m\u001b[0;34m.\u001b[0m\u001b[0mquantity\u001b[0m \u001b[0;34m=\u001b[0m \u001b[0mquantity\u001b[0m\u001b[0;34m\u001b[0m\u001b[0;34m\u001b[0m\u001b[0m\n",
            "\u001b[0;32m<ipython-input-117-1d490d57cfd0>\u001b[0m in \u001b[0;36m__set__\u001b[0;34m(self, obj, value)\u001b[0m\n\u001b[1;32m     13\u001b[0m     \u001b[0;32mdef\u001b[0m \u001b[0m__set__\u001b[0m\u001b[0;34m(\u001b[0m\u001b[0mself\u001b[0m\u001b[0;34m,\u001b[0m \u001b[0mobj\u001b[0m\u001b[0;34m,\u001b[0m \u001b[0mvalue\u001b[0m\u001b[0;34m)\u001b[0m\u001b[0;34m:\u001b[0m\u001b[0;34m\u001b[0m\u001b[0;34m\u001b[0m\u001b[0m\n\u001b[1;32m     14\u001b[0m         \u001b[0mprint\u001b[0m\u001b[0;34m(\u001b[0m\u001b[0;34m\"__set__ is called\"\u001b[0m\u001b[0;34m)\u001b[0m\u001b[0;34m\u001b[0m\u001b[0;34m\u001b[0m\u001b[0m\n\u001b[0;32m---> 15\u001b[0;31m         \u001b[0mself\u001b[0m\u001b[0;34m.\u001b[0m\u001b[0mvalidate\u001b[0m\u001b[0;34m(\u001b[0m\u001b[0mvalue\u001b[0m\u001b[0;34m)\u001b[0m\u001b[0;34m\u001b[0m\u001b[0;34m\u001b[0m\u001b[0m\n\u001b[0m\u001b[1;32m     16\u001b[0m         \u001b[0msetattr\u001b[0m\u001b[0;34m(\u001b[0m\u001b[0mobj\u001b[0m\u001b[0;34m,\u001b[0m \u001b[0mself\u001b[0m\u001b[0;34m.\u001b[0m\u001b[0mprivate_name\u001b[0m\u001b[0;34m,\u001b[0m \u001b[0mvalue\u001b[0m\u001b[0;34m)\u001b[0m\u001b[0;34m\u001b[0m\u001b[0;34m\u001b[0m\u001b[0m\n\u001b[1;32m     17\u001b[0m \u001b[0;34m\u001b[0m\u001b[0m\n",
            "\u001b[0;32m<ipython-input-118-036a77b2efaa>\u001b[0m in \u001b[0;36mvalidate\u001b[0;34m(self, value)\u001b[0m\n\u001b[1;32m      6\u001b[0m     \u001b[0;32mdef\u001b[0m \u001b[0mvalidate\u001b[0m\u001b[0;34m(\u001b[0m\u001b[0mself\u001b[0m\u001b[0;34m,\u001b[0m \u001b[0mvalue\u001b[0m\u001b[0;34m)\u001b[0m\u001b[0;34m:\u001b[0m\u001b[0;34m\u001b[0m\u001b[0;34m\u001b[0m\u001b[0m\n\u001b[1;32m      7\u001b[0m         \u001b[0;32mif\u001b[0m \u001b[0mvalue\u001b[0m \u001b[0;32mnot\u001b[0m \u001b[0;32min\u001b[0m \u001b[0mself\u001b[0m\u001b[0;34m.\u001b[0m\u001b[0moptions\u001b[0m\u001b[0;34m:\u001b[0m\u001b[0;34m\u001b[0m\u001b[0;34m\u001b[0m\u001b[0m\n\u001b[0;32m----> 8\u001b[0;31m             raise ValueError(\n\u001b[0m\u001b[1;32m      9\u001b[0m                 \u001b[0;34mf'Expected {value!r} to be one of {self.options!r}'\u001b[0m\u001b[0;34m\u001b[0m\u001b[0;34m\u001b[0m\u001b[0m\n\u001b[1;32m     10\u001b[0m             )\n",
            "\u001b[0;31mValueError\u001b[0m: Expected 'metle' to be one of {'metal', 'plastic', 'wood'}"
          ]
        }
      ],
      "source": [
        "Component('WIDGET', 'metle', 5)      # Blocked: 'metle' is misspelled"
      ]
    },
    {
      "cell_type": "code",
      "execution_count": 122,
      "metadata": {
        "colab": {
          "base_uri": "https://localhost:8080/",
          "height": 339
        },
        "id": "SFKmmErPX2TS",
        "outputId": "8b1180ca-b0c2-4911-a392-e358c0b51258"
      },
      "outputs": [
        {
          "name": "stdout",
          "output_type": "stream",
          "text": [
            "__set__ is called\n",
            "__set__ is called\n",
            "__set__ is called\n"
          ]
        },
        {
          "ename": "ValueError",
          "evalue": "Expected -5 to be at least 0",
          "output_type": "error",
          "traceback": [
            "\u001b[0;31m---------------------------------------------------------------------------\u001b[0m",
            "\u001b[0;31mValueError\u001b[0m                                Traceback (most recent call last)",
            "\u001b[0;32m<ipython-input-122-19157c49b786>\u001b[0m in \u001b[0;36m<cell line: 0>\u001b[0;34m()\u001b[0m\n\u001b[0;32m----> 1\u001b[0;31m \u001b[0mComponent\u001b[0m\u001b[0;34m(\u001b[0m\u001b[0;34m'WIDGET'\u001b[0m\u001b[0;34m,\u001b[0m \u001b[0;34m'metal'\u001b[0m\u001b[0;34m,\u001b[0m \u001b[0;34m-\u001b[0m\u001b[0;36m5\u001b[0m\u001b[0;34m)\u001b[0m     \u001b[0;31m# Blocked: -5 is negative\u001b[0m\u001b[0;34m\u001b[0m\u001b[0;34m\u001b[0m\u001b[0m\n\u001b[0m",
            "\u001b[0;32m<ipython-input-119-a3327444ac58>\u001b[0m in \u001b[0;36m__init__\u001b[0;34m(self, name, kind, quantity)\u001b[0m\n\u001b[1;32m      8\u001b[0m         \u001b[0mself\u001b[0m\u001b[0;34m.\u001b[0m\u001b[0mname\u001b[0m \u001b[0;34m=\u001b[0m \u001b[0mname\u001b[0m\u001b[0;34m\u001b[0m\u001b[0;34m\u001b[0m\u001b[0m\n\u001b[1;32m      9\u001b[0m         \u001b[0mself\u001b[0m\u001b[0;34m.\u001b[0m\u001b[0mkind\u001b[0m \u001b[0;34m=\u001b[0m \u001b[0mkind\u001b[0m\u001b[0;34m\u001b[0m\u001b[0;34m\u001b[0m\u001b[0m\n\u001b[0;32m---> 10\u001b[0;31m         \u001b[0mself\u001b[0m\u001b[0;34m.\u001b[0m\u001b[0mquantity\u001b[0m \u001b[0;34m=\u001b[0m \u001b[0mquantity\u001b[0m\u001b[0;34m\u001b[0m\u001b[0;34m\u001b[0m\u001b[0m\n\u001b[0m",
            "\u001b[0;32m<ipython-input-117-1d490d57cfd0>\u001b[0m in \u001b[0;36m__set__\u001b[0;34m(self, obj, value)\u001b[0m\n\u001b[1;32m     13\u001b[0m     \u001b[0;32mdef\u001b[0m \u001b[0m__set__\u001b[0m\u001b[0;34m(\u001b[0m\u001b[0mself\u001b[0m\u001b[0;34m,\u001b[0m \u001b[0mobj\u001b[0m\u001b[0;34m,\u001b[0m \u001b[0mvalue\u001b[0m\u001b[0;34m)\u001b[0m\u001b[0;34m:\u001b[0m\u001b[0;34m\u001b[0m\u001b[0;34m\u001b[0m\u001b[0m\n\u001b[1;32m     14\u001b[0m         \u001b[0mprint\u001b[0m\u001b[0;34m(\u001b[0m\u001b[0;34m\"__set__ is called\"\u001b[0m\u001b[0;34m)\u001b[0m\u001b[0;34m\u001b[0m\u001b[0;34m\u001b[0m\u001b[0m\n\u001b[0;32m---> 15\u001b[0;31m         \u001b[0mself\u001b[0m\u001b[0;34m.\u001b[0m\u001b[0mvalidate\u001b[0m\u001b[0;34m(\u001b[0m\u001b[0mvalue\u001b[0m\u001b[0;34m)\u001b[0m\u001b[0;34m\u001b[0m\u001b[0;34m\u001b[0m\u001b[0m\n\u001b[0m\u001b[1;32m     16\u001b[0m         \u001b[0msetattr\u001b[0m\u001b[0;34m(\u001b[0m\u001b[0mobj\u001b[0m\u001b[0;34m,\u001b[0m \u001b[0mself\u001b[0m\u001b[0;34m.\u001b[0m\u001b[0mprivate_name\u001b[0m\u001b[0;34m,\u001b[0m \u001b[0mvalue\u001b[0m\u001b[0;34m)\u001b[0m\u001b[0;34m\u001b[0m\u001b[0;34m\u001b[0m\u001b[0m\n\u001b[1;32m     17\u001b[0m \u001b[0;34m\u001b[0m\u001b[0m\n",
            "\u001b[0;32m<ipython-input-118-036a77b2efaa>\u001b[0m in \u001b[0;36mvalidate\u001b[0;34m(self, value)\u001b[0m\n\u001b[1;32m     20\u001b[0m             \u001b[0;32mraise\u001b[0m \u001b[0mTypeError\u001b[0m\u001b[0;34m(\u001b[0m\u001b[0;34mf'Expected {value!r} to be an int or float'\u001b[0m\u001b[0;34m)\u001b[0m\u001b[0;34m\u001b[0m\u001b[0;34m\u001b[0m\u001b[0m\n\u001b[1;32m     21\u001b[0m         \u001b[0;32mif\u001b[0m \u001b[0mself\u001b[0m\u001b[0;34m.\u001b[0m\u001b[0mminvalue\u001b[0m \u001b[0;32mis\u001b[0m \u001b[0;32mnot\u001b[0m \u001b[0;32mNone\u001b[0m \u001b[0;32mand\u001b[0m \u001b[0mvalue\u001b[0m \u001b[0;34m<\u001b[0m \u001b[0mself\u001b[0m\u001b[0;34m.\u001b[0m\u001b[0mminvalue\u001b[0m\u001b[0;34m:\u001b[0m\u001b[0;34m\u001b[0m\u001b[0;34m\u001b[0m\u001b[0m\n\u001b[0;32m---> 22\u001b[0;31m             raise ValueError(\n\u001b[0m\u001b[1;32m     23\u001b[0m                 \u001b[0;34mf'Expected {value!r} to be at least {self.minvalue!r}'\u001b[0m\u001b[0;34m\u001b[0m\u001b[0;34m\u001b[0m\u001b[0m\n\u001b[1;32m     24\u001b[0m             )\n",
            "\u001b[0;31mValueError\u001b[0m: Expected -5 to be at least 0"
          ]
        }
      ],
      "source": [
        "Component('WIDGET', 'metal', -5)     # Blocked: -5 is negative"
      ]
    },
    {
      "cell_type": "code",
      "execution_count": 123,
      "metadata": {
        "colab": {
          "base_uri": "https://localhost:8080/",
          "height": 339
        },
        "id": "H6w-j3UfX5Ql",
        "outputId": "f79c42d5-1ba2-48b0-a112-012fbf3be47b"
      },
      "outputs": [
        {
          "name": "stdout",
          "output_type": "stream",
          "text": [
            "__set__ is called\n",
            "__set__ is called\n",
            "__set__ is called\n"
          ]
        },
        {
          "ename": "TypeError",
          "evalue": "Expected 'V' to be an int or float",
          "output_type": "error",
          "traceback": [
            "\u001b[0;31m---------------------------------------------------------------------------\u001b[0m",
            "\u001b[0;31mTypeError\u001b[0m                                 Traceback (most recent call last)",
            "\u001b[0;32m<ipython-input-123-48a3f9174bf6>\u001b[0m in \u001b[0;36m<cell line: 0>\u001b[0;34m()\u001b[0m\n\u001b[0;32m----> 1\u001b[0;31m \u001b[0mComponent\u001b[0m\u001b[0;34m(\u001b[0m\u001b[0;34m'WIDGET'\u001b[0m\u001b[0;34m,\u001b[0m \u001b[0;34m'metal'\u001b[0m\u001b[0;34m,\u001b[0m \u001b[0;34m'V'\u001b[0m\u001b[0;34m)\u001b[0m    \u001b[0;31m# Blocked: 'V' isn't a number\u001b[0m\u001b[0;34m\u001b[0m\u001b[0;34m\u001b[0m\u001b[0m\n\u001b[0m",
            "\u001b[0;32m<ipython-input-119-a3327444ac58>\u001b[0m in \u001b[0;36m__init__\u001b[0;34m(self, name, kind, quantity)\u001b[0m\n\u001b[1;32m      8\u001b[0m         \u001b[0mself\u001b[0m\u001b[0;34m.\u001b[0m\u001b[0mname\u001b[0m \u001b[0;34m=\u001b[0m \u001b[0mname\u001b[0m\u001b[0;34m\u001b[0m\u001b[0;34m\u001b[0m\u001b[0m\n\u001b[1;32m      9\u001b[0m         \u001b[0mself\u001b[0m\u001b[0;34m.\u001b[0m\u001b[0mkind\u001b[0m \u001b[0;34m=\u001b[0m \u001b[0mkind\u001b[0m\u001b[0;34m\u001b[0m\u001b[0;34m\u001b[0m\u001b[0m\n\u001b[0;32m---> 10\u001b[0;31m         \u001b[0mself\u001b[0m\u001b[0;34m.\u001b[0m\u001b[0mquantity\u001b[0m \u001b[0;34m=\u001b[0m \u001b[0mquantity\u001b[0m\u001b[0;34m\u001b[0m\u001b[0;34m\u001b[0m\u001b[0m\n\u001b[0m",
            "\u001b[0;32m<ipython-input-117-1d490d57cfd0>\u001b[0m in \u001b[0;36m__set__\u001b[0;34m(self, obj, value)\u001b[0m\n\u001b[1;32m     13\u001b[0m     \u001b[0;32mdef\u001b[0m \u001b[0m__set__\u001b[0m\u001b[0;34m(\u001b[0m\u001b[0mself\u001b[0m\u001b[0;34m,\u001b[0m \u001b[0mobj\u001b[0m\u001b[0;34m,\u001b[0m \u001b[0mvalue\u001b[0m\u001b[0;34m)\u001b[0m\u001b[0;34m:\u001b[0m\u001b[0;34m\u001b[0m\u001b[0;34m\u001b[0m\u001b[0m\n\u001b[1;32m     14\u001b[0m         \u001b[0mprint\u001b[0m\u001b[0;34m(\u001b[0m\u001b[0;34m\"__set__ is called\"\u001b[0m\u001b[0;34m)\u001b[0m\u001b[0;34m\u001b[0m\u001b[0;34m\u001b[0m\u001b[0m\n\u001b[0;32m---> 15\u001b[0;31m         \u001b[0mself\u001b[0m\u001b[0;34m.\u001b[0m\u001b[0mvalidate\u001b[0m\u001b[0;34m(\u001b[0m\u001b[0mvalue\u001b[0m\u001b[0;34m)\u001b[0m\u001b[0;34m\u001b[0m\u001b[0;34m\u001b[0m\u001b[0m\n\u001b[0m\u001b[1;32m     16\u001b[0m         \u001b[0msetattr\u001b[0m\u001b[0;34m(\u001b[0m\u001b[0mobj\u001b[0m\u001b[0;34m,\u001b[0m \u001b[0mself\u001b[0m\u001b[0;34m.\u001b[0m\u001b[0mprivate_name\u001b[0m\u001b[0;34m,\u001b[0m \u001b[0mvalue\u001b[0m\u001b[0;34m)\u001b[0m\u001b[0;34m\u001b[0m\u001b[0;34m\u001b[0m\u001b[0m\n\u001b[1;32m     17\u001b[0m \u001b[0;34m\u001b[0m\u001b[0m\n",
            "\u001b[0;32m<ipython-input-118-036a77b2efaa>\u001b[0m in \u001b[0;36mvalidate\u001b[0;34m(self, value)\u001b[0m\n\u001b[1;32m     18\u001b[0m     \u001b[0;32mdef\u001b[0m \u001b[0mvalidate\u001b[0m\u001b[0;34m(\u001b[0m\u001b[0mself\u001b[0m\u001b[0;34m,\u001b[0m \u001b[0mvalue\u001b[0m\u001b[0;34m)\u001b[0m\u001b[0;34m:\u001b[0m\u001b[0;34m\u001b[0m\u001b[0;34m\u001b[0m\u001b[0m\n\u001b[1;32m     19\u001b[0m         \u001b[0;32mif\u001b[0m \u001b[0;32mnot\u001b[0m \u001b[0misinstance\u001b[0m\u001b[0;34m(\u001b[0m\u001b[0mvalue\u001b[0m\u001b[0;34m,\u001b[0m \u001b[0;34m(\u001b[0m\u001b[0mint\u001b[0m\u001b[0;34m,\u001b[0m \u001b[0mfloat\u001b[0m\u001b[0;34m)\u001b[0m\u001b[0;34m)\u001b[0m\u001b[0;34m:\u001b[0m\u001b[0;34m\u001b[0m\u001b[0;34m\u001b[0m\u001b[0m\n\u001b[0;32m---> 20\u001b[0;31m             \u001b[0;32mraise\u001b[0m \u001b[0mTypeError\u001b[0m\u001b[0;34m(\u001b[0m\u001b[0;34mf'Expected {value!r} to be an int or float'\u001b[0m\u001b[0;34m)\u001b[0m\u001b[0;34m\u001b[0m\u001b[0;34m\u001b[0m\u001b[0m\n\u001b[0m\u001b[1;32m     21\u001b[0m         \u001b[0;32mif\u001b[0m \u001b[0mself\u001b[0m\u001b[0;34m.\u001b[0m\u001b[0mminvalue\u001b[0m \u001b[0;32mis\u001b[0m \u001b[0;32mnot\u001b[0m \u001b[0;32mNone\u001b[0m \u001b[0;32mand\u001b[0m \u001b[0mvalue\u001b[0m \u001b[0;34m<\u001b[0m \u001b[0mself\u001b[0m\u001b[0;34m.\u001b[0m\u001b[0mminvalue\u001b[0m\u001b[0;34m:\u001b[0m\u001b[0;34m\u001b[0m\u001b[0;34m\u001b[0m\u001b[0m\n\u001b[1;32m     22\u001b[0m             raise ValueError(\n",
            "\u001b[0;31mTypeError\u001b[0m: Expected 'V' to be an int or float"
          ]
        }
      ],
      "source": [
        "Component('WIDGET', 'metal', 'V')    # Blocked: 'V' isn't a number"
      ]
    },
    {
      "cell_type": "code",
      "execution_count": 124,
      "metadata": {
        "colab": {
          "base_uri": "https://localhost:8080/"
        },
        "id": "VRmT_0J6XoWS",
        "outputId": "b0422385-73be-45e5-b490-fe4632f4fe19"
      },
      "outputs": [
        {
          "name": "stdout",
          "output_type": "stream",
          "text": [
            "__set__ is called\n",
            "__set__ is called\n",
            "__set__ is called\n"
          ]
        }
      ],
      "source": [
        "c = Component('WIDGET', 'metal', 5)  # Allowed:  The inputs are valid"
      ]
    },
    {
      "cell_type": "code",
      "execution_count": 125,
      "metadata": {
        "colab": {
          "base_uri": "https://localhost:8080/",
          "height": 53
        },
        "id": "7oUmXwkEX3zW",
        "outputId": "bdccab04-b422-445b-dd67-18994ae02b77"
      },
      "outputs": [
        {
          "name": "stdout",
          "output_type": "stream",
          "text": [
            "__get__ is called\n"
          ]
        },
        {
          "data": {
            "application/vnd.google.colaboratory.intrinsic+json": {
              "type": "string"
            },
            "text/plain": [
              "'WIDGET'"
            ]
          },
          "execution_count": 125,
          "metadata": {},
          "output_type": "execute_result"
        }
      ],
      "source": [
        "c.name"
      ]
    },
    {
      "cell_type": "markdown",
      "metadata": {
        "id": "rD13zTXBZFGx"
      },
      "source": [
        "## Technical tutorial"
      ]
    },
    {
      "cell_type": "markdown",
      "metadata": {
        "id": "rqMFzUUrZGRy"
      },
      "source": [
        "After the reading the introduction of this guide I assumed I would skip the technical tutorial, expecting it to be too technical, but after skimming it I've decided to go through it as it might clear some things up for me and the following line was attractive:"
      ]
    },
    {
      "cell_type": "markdown",
      "metadata": {
        "id": "rle0SWadZw_u"
      },
      "source": [
        "> Learning about descriptors not only provides access to a larger toolset, it creates a deeper understanding of how Python works."
      ]
    },
    {
      "cell_type": "markdown",
      "metadata": {
        "id": "hKRf3NyMZ1Ts"
      },
      "source": [
        "### Definition and introduction"
      ]
    },
    {
      "cell_type": "markdown",
      "metadata": {
        "id": "lp1c6beIZ5qX"
      },
      "source": [
        "Reiterating the important definition that a descriptor is anything that has one of the methods in the descriptor protocol:\n",
        "\n",
        " >In general, a descriptor is an attribute value that has one of the methods in the descriptor protocol. Those methods are `__get__()`, `__set__()`, and `__delete__()`. If any of those methods are defined for an attribute, it is said to be a descriptor.\n",
        "\n",
        " And the main goal of descriptors:\n",
        "\n",
        " > The default behavior for attribute access is to get, set, or delete the attribute from an object’s dictionary."
      ]
    },
    {
      "cell_type": "markdown",
      "metadata": {
        "id": "7NnStt12buOY"
      },
      "source": [
        "### Descriptor protocol"
      ]
    },
    {
      "cell_type": "markdown",
      "metadata": {
        "id": "_LtGcvQfdsTo"
      },
      "source": [
        "I don't have any comments for this section other than reiterating the following points:"
      ]
    },
    {
      "cell_type": "markdown",
      "metadata": {
        "id": "egJMaaVXb6op"
      },
      "source": [
        "> `descr.__get__(self, obj, type=None)`\n",
        ">\n",
        "> `descr.__set__(self, obj, value)`\n",
        ">\n",
        "> `descr.__delete__(self, obj)`\n",
        ">\n",
        "> That is all there is to it. Define any of these methods and an object is considered a descriptor and can override default behavior upon being looked up as an attribute."
      ]
    },
    {
      "cell_type": "markdown",
      "metadata": {
        "id": "pinV67XBcCDf"
      },
      "source": [
        "> If an object defines `__set__()` or `__delete__()`, it is considered a data descriptor. Descriptors that only define `__get__()` are called non-data descriptors (they are often used for methods but other uses are possible)."
      ]
    },
    {
      "cell_type": "markdown",
      "metadata": {
        "id": "IW8XRo7pd-Iz"
      },
      "source": [
        "### Overview of descriptor invocation"
      ]
    },
    {
      "cell_type": "markdown",
      "metadata": {
        "id": "GLYVipbAeG5I"
      },
      "source": [
        "> A descriptor can be called directly with `desc.__get__(obj)` or `desc.__get__(None, cls)`.\n",
        "\n",
        "> But it is more common for a descriptor to be invoked automatically from attribute access."
      ]
    },
    {
      "cell_type": "markdown",
      "metadata": {
        "id": "9kncCCNzeMh9"
      },
      "source": [
        "We saw this earlier, but putting that example here again:"
      ]
    },
    {
      "cell_type": "code",
      "execution_count": 127,
      "metadata": {
        "colab": {
          "base_uri": "https://localhost:8080/"
        },
        "id": "gpuZ1vb5X993",
        "outputId": "4b62a4a6-552d-4080-eb17-deeba13a03de"
      },
      "outputs": [
        {
          "name": "stdout",
          "output_type": "stream",
          "text": [
            "__get__ called with obj=<__main__.A2 object at 0x78b2ded96890>, objtype=<class '__main__.A2'>\n"
          ]
        },
        {
          "data": {
            "text/plain": [
              "10"
            ]
          },
          "execution_count": 127,
          "metadata": {},
          "output_type": "execute_result"
        }
      ],
      "source": [
        "class Ten2:\n",
        "    def __get__(self, obj, objtype=None):\n",
        "        print(f\"__get__ called with obj={obj}, objtype={objtype}\")\n",
        "        return 10\n",
        "\n",
        "class A2:\n",
        "    x = 5\n",
        "    y = Ten2()  # Descriptor instance\n",
        "\n",
        "a2 = A2()\n",
        "a2.y"
      ]
    },
    {
      "cell_type": "markdown",
      "metadata": {
        "id": "-ahQ1AH7eaWm"
      },
      "source": [
        "### Invocation from an instance"
      ]
    },
    {
      "cell_type": "markdown",
      "metadata": {
        "id": "WR_rM024esV6"
      },
      "source": [
        "> Instance lookup scans through a chain of namespaces giving data descriptors the highest priority, followed by instance variables, then non-data descriptors, then class variables, and lastly `__getattr__()` if it is provided."
      ]
    },
    {
      "cell_type": "markdown",
      "metadata": {
        "id": "7QkiyDuwfOeG"
      },
      "source": [
        "I've added some print statements in their example code to show which option is triggered:"
      ]
    },
    {
      "cell_type": "code",
      "execution_count": 138,
      "metadata": {
        "id": "wv-J_d8NecM0"
      },
      "outputs": [],
      "source": [
        "def find_name_in_mro(cls, name, default):\n",
        "    \"Emulate _PyType_Lookup() in Objects/typeobject.c\"\n",
        "    for base in cls.__mro__:\n",
        "        if name in vars(base):\n",
        "            return vars(base)[name]\n",
        "    return default\n",
        "\n",
        "def object_getattribute(obj, name):\n",
        "    \"Emulate PyObject_GenericGetAttr() in Objects/object.c\"\n",
        "    null = object()\n",
        "    objtype = type(obj)\n",
        "    cls_var = find_name_in_mro(objtype, name, null)\n",
        "    descr_get = getattr(type(cls_var), '__get__', null)\n",
        "    if descr_get is not null:\n",
        "        if (hasattr(type(cls_var), '__set__')\n",
        "            or hasattr(type(cls_var), '__delete__')):\n",
        "            print(\"returning data descriptor set/delete\")\n",
        "            return descr_get(cls_var, obj, objtype)     # data descriptor\n",
        "    if hasattr(obj, '__dict__') and name in vars(obj):\n",
        "        print(\"returning instance variable\")\n",
        "        return vars(obj)[name]                          # instance variable\n",
        "    if descr_get is not null:\n",
        "        print(\"returning descr_get\")\n",
        "        return descr_get(cls_var, obj, objtype)         # non-data descriptor\n",
        "    if cls_var is not null:\n",
        "        print(\"returning class variable\")\n",
        "        return cls_var                                  # class variable\n",
        "    raise AttributeError(name)"
      ]
    },
    {
      "cell_type": "code",
      "execution_count": 139,
      "metadata": {
        "colab": {
          "base_uri": "https://localhost:8080/"
        },
        "id": "TGuAmWE-ew9P",
        "outputId": "7624e6f8-8312-40d2-9c43-178a8e8a5655"
      },
      "outputs": [
        {
          "name": "stdout",
          "output_type": "stream",
          "text": [
            "returning descr_get\n",
            "__get__ called with obj=<__main__.A2 object at 0x78b2ded96890>, objtype=<class '__main__.A2'>\n"
          ]
        },
        {
          "data": {
            "text/plain": [
              "10"
            ]
          },
          "execution_count": 139,
          "metadata": {},
          "output_type": "execute_result"
        }
      ],
      "source": [
        "object_getattribute(a2, 'y')"
      ]
    },
    {
      "cell_type": "code",
      "execution_count": 140,
      "metadata": {
        "colab": {
          "base_uri": "https://localhost:8080/"
        },
        "id": "rUfZ9E4te-G9",
        "outputId": "588ae176-621c-4ae7-b37c-c7a616007844"
      },
      "outputs": [
        {
          "name": "stdout",
          "output_type": "stream",
          "text": [
            "returning class variable\n"
          ]
        },
        {
          "data": {
            "text/plain": [
              "5"
            ]
          },
          "execution_count": 140,
          "metadata": {},
          "output_type": "execute_result"
        }
      ],
      "source": [
        "object_getattribute(a2, 'x')"
      ]
    },
    {
      "cell_type": "code",
      "execution_count": 145,
      "metadata": {
        "id": "NQ5xw1hSfeex"
      },
      "outputs": [],
      "source": [
        "def getattr_hook(obj, name):\n",
        "    \"Emulate slot_tp_getattr_hook() in Objects/typeobject.c\"\n",
        "    try:\n",
        "        print(\"__getattribute__\")\n",
        "        return obj.__getattribute__(name)\n",
        "    except AttributeError:\n",
        "        if not hasattr(type(obj), '__getattr__'):\n",
        "            raise\n",
        "    print(\"__getattr__\")\n",
        "    return type(obj).__getattr__(obj, name)"
      ]
    },
    {
      "cell_type": "code",
      "execution_count": 146,
      "metadata": {
        "colab": {
          "base_uri": "https://localhost:8080/"
        },
        "id": "S8jX-v_Vff6M",
        "outputId": "0aabb2c0-7a6d-416b-893c-47b6c94dd29e"
      },
      "outputs": [
        {
          "name": "stdout",
          "output_type": "stream",
          "text": [
            "__getattribute__\n",
            "__get__ called with obj=<__main__.A2 object at 0x78b2ded96890>, objtype=<class '__main__.A2'>\n"
          ]
        },
        {
          "data": {
            "text/plain": [
              "10"
            ]
          },
          "execution_count": 146,
          "metadata": {},
          "output_type": "execute_result"
        }
      ],
      "source": [
        "getattr_hook(a2, 'y')"
      ]
    },
    {
      "cell_type": "code",
      "execution_count": 147,
      "metadata": {
        "colab": {
          "base_uri": "https://localhost:8080/"
        },
        "id": "Pfg0aMWifkce",
        "outputId": "f95a8401-3380-4234-b372-e43d61463745"
      },
      "outputs": [
        {
          "name": "stdout",
          "output_type": "stream",
          "text": [
            "__getattribute__\n"
          ]
        },
        {
          "data": {
            "text/plain": [
              "5"
            ]
          },
          "execution_count": 147,
          "metadata": {},
          "output_type": "execute_result"
        }
      ],
      "source": [
        "getattr_hook(a2, 'x')"
      ]
    },
    {
      "cell_type": "markdown",
      "metadata": {
        "id": "iNjDDcJXfvDR"
      },
      "source": [
        "### Invocation from a class"
      ]
    },
    {
      "cell_type": "markdown",
      "metadata": {
        "id": "fRSvuX4hf2_C"
      },
      "source": [
        "> The logic for a dotted lookup such as `A.x` is in `type.__getattribute__()`."
      ]
    },
    {
      "cell_type": "code",
      "execution_count": 150,
      "metadata": {
        "id": "2lizcLKKfv0v"
      },
      "outputs": [],
      "source": [
        "A2.__getattribute__??"
      ]
    },
    {
      "cell_type": "markdown",
      "metadata": {
        "id": "C3SI7ocmgBEr"
      },
      "source": [
        "```\n",
        "Signature:   A2.__getattribute__(*args, **kwargs)\n",
        "Type:        wrapper_descriptor\n",
        "String form: <slot wrapper '__getattribute__' of 'object' objects>\n",
        "Docstring:   Return getattr(self, name).\n",
        "```"
      ]
    },
    {
      "cell_type": "code",
      "execution_count": 152,
      "metadata": {
        "colab": {
          "base_uri": "https://localhost:8080/"
        },
        "id": "6wJJokemgCDh",
        "outputId": "a7e35d14-2e01-4cb6-f616-cc491f83a923"
      },
      "outputs": [
        {
          "data": {
            "text/plain": [
              "<__main__.Ten2 at 0x78b2dee79310>"
            ]
          },
          "execution_count": 152,
          "metadata": {},
          "output_type": "execute_result"
        }
      ],
      "source": [
        "A2.__getattribute__(A2, 'y')"
      ]
    },
    {
      "cell_type": "code",
      "execution_count": 153,
      "metadata": {
        "colab": {
          "base_uri": "https://localhost:8080/"
        },
        "id": "-1-yKBt9gLyc",
        "outputId": "da9fcb9a-e92a-4040-eaee-008bfaff133b"
      },
      "outputs": [
        {
          "data": {
            "text/plain": [
              "5"
            ]
          },
          "execution_count": 153,
          "metadata": {},
          "output_type": "execute_result"
        }
      ],
      "source": [
        "A2.__getattribute__(A2, 'x')"
      ]
    },
    {
      "cell_type": "markdown",
      "metadata": {
        "id": "xm0FDq4ngNJ8"
      },
      "source": [
        "### Invocation from super"
      ]
    },
    {
      "cell_type": "markdown",
      "metadata": {
        "id": "I556XvLkgXUQ"
      },
      "source": [
        "> A dotted lookup such as `super(A, obj).m` searches `obj.__class__.__mro__` for the base class `B` immediately following `A` and then returns `B.__dict__['m'].__get__(obj, A)`. If not a descriptor, `m` is returned unchanged."
      ]
    },
    {
      "cell_type": "code",
      "execution_count": 175,
      "metadata": {
        "id": "xPShgiM7gPZ7"
      },
      "outputs": [],
      "source": [
        "class Base:\n",
        "    z = Ten2()  # Descriptor in the base class\n",
        "\n",
        "class A2(Base):\n",
        "    x = 5\n",
        "    y = Ten2()  # Descriptor instance in A2\n",
        "\n",
        "    def show_super_lookup(self):\n",
        "        # This will trigger the descriptor lookup through super()\n",
        "        return super().z"
      ]
    },
    {
      "cell_type": "code",
      "execution_count": 176,
      "metadata": {
        "colab": {
          "base_uri": "https://localhost:8080/"
        },
        "id": "7Z0k7mwIg8AV",
        "outputId": "31c162b5-50cb-4d2f-aeab-40bc3a875242"
      },
      "outputs": [
        {
          "name": "stdout",
          "output_type": "stream",
          "text": [
            "__get__ called with obj=<__main__.A2 object at 0x78b2dededa90>, objtype=<class '__main__.A2'>\n"
          ]
        },
        {
          "data": {
            "text/plain": [
              "10"
            ]
          },
          "execution_count": 176,
          "metadata": {},
          "output_type": "execute_result"
        }
      ],
      "source": [
        "a = A2()\n",
        "a.y"
      ]
    },
    {
      "cell_type": "code",
      "execution_count": 177,
      "metadata": {
        "colab": {
          "base_uri": "https://localhost:8080/"
        },
        "id": "2qEYa_oshHtM",
        "outputId": "506d9028-2db4-425b-e3e3-2dadd34ff683"
      },
      "outputs": [
        {
          "name": "stdout",
          "output_type": "stream",
          "text": [
            "__get__ called with obj=<__main__.A2 object at 0x78b2dededa90>, objtype=<class '__main__.A2'>\n"
          ]
        },
        {
          "data": {
            "text/plain": [
              "10"
            ]
          },
          "execution_count": 177,
          "metadata": {},
          "output_type": "execute_result"
        }
      ],
      "source": [
        "super(A2, a).z"
      ]
    },
    {
      "cell_type": "code",
      "execution_count": 178,
      "metadata": {
        "colab": {
          "base_uri": "https://localhost:8080/"
        },
        "id": "YOcg5kFAhRDE",
        "outputId": "f4e57871-b58e-4058-ca54-b2d696eca82e"
      },
      "outputs": [
        {
          "name": "stdout",
          "output_type": "stream",
          "text": [
            "__get__ called with obj=<__main__.A2 object at 0x78b2dededa90>, objtype=<class '__main__.A2'>\n"
          ]
        },
        {
          "data": {
            "text/plain": [
              "10"
            ]
          },
          "execution_count": 178,
          "metadata": {},
          "output_type": "execute_result"
        }
      ],
      "source": [
        "Base.__dict__['z'].__get__(a, A2)"
      ]
    },
    {
      "cell_type": "code",
      "execution_count": 179,
      "metadata": {
        "colab": {
          "base_uri": "https://localhost:8080/"
        },
        "id": "srMLf0NThcxQ",
        "outputId": "b2270d8e-31ea-4f77-d03f-f9679b1e541e"
      },
      "outputs": [
        {
          "data": {
            "text/plain": [
              "(__main__.A2, __main__.Base, object)"
            ]
          },
          "execution_count": 179,
          "metadata": {},
          "output_type": "execute_result"
        }
      ],
      "source": [
        "a.__class__.__mro__"
      ]
    },
    {
      "cell_type": "markdown",
      "metadata": {
        "id": "zdMixKnyiIOE"
      },
      "source": [
        "### Summary of invocation logic"
      ]
    },
    {
      "cell_type": "markdown",
      "metadata": {
        "id": "jCVG4f0Hjon5"
      },
      "source": [
        "Showing examples of some of the bullet points in the summary:"
      ]
    },
    {
      "cell_type": "markdown",
      "metadata": {
        "id": "D_utfjjEisrh"
      },
      "source": [
        "- Descriptors are invoked by the `__getattribute__()` method."
      ]
    },
    {
      "cell_type": "code",
      "execution_count": 180,
      "metadata": {
        "colab": {
          "base_uri": "https://localhost:8080/"
        },
        "id": "Cp3D6sQ-hz7q",
        "outputId": "ea38ba47-a928-4128-a1fb-cbc231fa3a35"
      },
      "outputs": [
        {
          "name": "stdout",
          "output_type": "stream",
          "text": [
            "__get__ called with obj=<__main__.A2 object at 0x78b2dededa90>, objtype=<class '__main__.A2'>\n"
          ]
        },
        {
          "data": {
            "text/plain": [
              "10"
            ]
          },
          "execution_count": 180,
          "metadata": {},
          "output_type": "execute_result"
        }
      ],
      "source": [
        "a.__getattribute__('y')"
      ]
    },
    {
      "cell_type": "markdown",
      "metadata": {
        "id": "dnz166KIivCW"
      },
      "source": [
        "- Overriding `__getattribute__()` prevents automatic descriptor calls because all the descriptor logic is in that method."
      ]
    },
    {
      "cell_type": "code",
      "execution_count": 195,
      "metadata": {
        "colab": {
          "base_uri": "https://localhost:8080/"
        },
        "id": "oIgH85OZinTC",
        "outputId": "68ac78c2-2ec1-4ee6-f840-32491435634e"
      },
      "outputs": [
        {
          "name": "stdout",
          "output_type": "stream",
          "text": [
            "Descriptor __get__ called!\n"
          ]
        },
        {
          "data": {
            "text/plain": [
              "42"
            ]
          },
          "execution_count": 195,
          "metadata": {},
          "output_type": "execute_result"
        }
      ],
      "source": [
        "class MyDescriptor:\n",
        "    def __get__(self, obj, objtype=None):\n",
        "        print(f\"Descriptor __get__ called!\")\n",
        "        return 42\n",
        "\n",
        "class Normal:\n",
        "    x = MyDescriptor()\n",
        "\n",
        "n = Normal()\n",
        "n.x"
      ]
    },
    {
      "cell_type": "code",
      "execution_count": 196,
      "metadata": {
        "colab": {
          "base_uri": "https://localhost:8080/",
          "height": 53
        },
        "id": "4KHbe_m_ilJV",
        "outputId": "4c3bfd01-d824-4254-9e21-daf3ab13b60b"
      },
      "outputs": [
        {
          "name": "stdout",
          "output_type": "stream",
          "text": [
            "Custom __getattribute__ called for x\n"
          ]
        },
        {
          "data": {
            "application/vnd.google.colaboratory.intrinsic+json": {
              "type": "string"
            },
            "text/plain": [
              "'Bypassed descriptor'"
            ]
          },
          "execution_count": 196,
          "metadata": {},
          "output_type": "execute_result"
        }
      ],
      "source": [
        "class OverrideGetattribute:\n",
        "    x = MyDescriptor()\n",
        "    y = 5\n",
        "\n",
        "    def __getattribute__(self, name):\n",
        "        print(f\"Custom __getattribute__ called for {name}\")\n",
        "        if name == 'x':\n",
        "            return \"Bypassed descriptor\"\n",
        "        return object.__getattribute__(self, name)\n",
        "\n",
        "o = OverrideGetattribute()\n",
        "o.x"
      ]
    },
    {
      "cell_type": "code",
      "execution_count": 197,
      "metadata": {
        "colab": {
          "base_uri": "https://localhost:8080/"
        },
        "id": "rw2LIaO1i8J8",
        "outputId": "db10e098-648b-42ca-8ca4-51a062eb62c8"
      },
      "outputs": [
        {
          "name": "stdout",
          "output_type": "stream",
          "text": [
            "Custom __getattribute__ called for y\n"
          ]
        },
        {
          "data": {
            "text/plain": [
              "5"
            ]
          },
          "execution_count": 197,
          "metadata": {},
          "output_type": "execute_result"
        }
      ],
      "source": [
        "o.y"
      ]
    },
    {
      "cell_type": "markdown",
      "metadata": {
        "id": "NYviOvJujOug"
      },
      "source": [
        "- `object.__getattribute__()` and `type.__getattribute__()` make different calls to `__get__()`. The first includes the instance and may include the class. The second puts in `None` for the instance and always includes the class."
      ]
    },
    {
      "cell_type": "code",
      "execution_count": 208,
      "metadata": {
        "id": "qgAO5z30lSGa"
      },
      "outputs": [],
      "source": [
        "class DetailedDescriptor:\n",
        "    def __get__(self, obj, objtype=None):\n",
        "        print(f\"__get__ called with obj={obj}, objtype={objtype}\")\n",
        "        return 42\n",
        "\n",
        "class Normal:\n",
        "    x = DetailedDescriptor()\n",
        "\n",
        "n = Normal()"
      ]
    },
    {
      "cell_type": "code",
      "execution_count": 209,
      "metadata": {
        "colab": {
          "base_uri": "https://localhost:8080/"
        },
        "id": "ZUoJZn68lKKi",
        "outputId": "0d60c5f0-9623-4c6f-ccb4-fbcddfa7a428"
      },
      "outputs": [
        {
          "name": "stdout",
          "output_type": "stream",
          "text": [
            "__get__ called with obj=<__main__.Normal object at 0x78b2dedf0750>, objtype=<class '__main__.Normal'>\n"
          ]
        },
        {
          "data": {
            "text/plain": [
              "42"
            ]
          },
          "execution_count": 209,
          "metadata": {},
          "output_type": "execute_result"
        }
      ],
      "source": [
        "n.x"
      ]
    },
    {
      "cell_type": "code",
      "execution_count": 210,
      "metadata": {
        "colab": {
          "base_uri": "https://localhost:8080/"
        },
        "id": "jk5GPY-ElLRJ",
        "outputId": "cc7f4537-465e-48e7-c91d-0060eac405d9"
      },
      "outputs": [
        {
          "name": "stdout",
          "output_type": "stream",
          "text": [
            "__get__ called with obj=None, objtype=<class '__main__.Normal'>\n"
          ]
        },
        {
          "data": {
            "text/plain": [
              "42"
            ]
          },
          "execution_count": 210,
          "metadata": {},
          "output_type": "execute_result"
        }
      ],
      "source": [
        "Normal.x"
      ]
    },
    {
      "cell_type": "markdown",
      "metadata": {
        "id": "ykn3ZisllYHj"
      },
      "source": [
        "- Data descriptors always override instance dictionaries."
      ]
    },
    {
      "cell_type": "code",
      "execution_count": 211,
      "metadata": {
        "id": "jTEN9xrKlm7m"
      },
      "outputs": [],
      "source": [
        "class DataDescriptor:\n",
        "    def __init__(self, initial_value=None):\n",
        "        self.value = initial_value\n",
        "\n",
        "    def __get__(self, obj, objtype=None):\n",
        "        print(\"DataDescriptor.__get__ called\")\n",
        "        return self.value\n",
        "\n",
        "    def __set__(self, obj, value):\n",
        "        print(f\"DataDescriptor.__set__ called with value: {value}\")\n",
        "        self.value = value\n",
        "\n",
        "class Example:\n",
        "    x = DataDescriptor(42)  # Data descriptor defined in class\n",
        "\n",
        "    def __init__(self):\n",
        "        # Try to override with instance attribute\n",
        "        self.__dict__['x'] = \"Instance value\"\n",
        "\n",
        "\n",
        "example = Example()"
      ]
    },
    {
      "cell_type": "code",
      "execution_count": 212,
      "metadata": {
        "colab": {
          "base_uri": "https://localhost:8080/"
        },
        "id": "tEduVnwRlvXx",
        "outputId": "1733a8ce-6f53-4e41-9649-7fa4ddd997f3"
      },
      "outputs": [
        {
          "data": {
            "text/plain": [
              "{'x': 'Instance value'}"
            ]
          },
          "execution_count": 212,
          "metadata": {},
          "output_type": "execute_result"
        }
      ],
      "source": [
        "example.__dict__"
      ]
    },
    {
      "cell_type": "code",
      "execution_count": 213,
      "metadata": {
        "colab": {
          "base_uri": "https://localhost:8080/"
        },
        "id": "KiZNOLt-lwxS",
        "outputId": "1d03bcd6-c2b8-4c63-cbfc-cc7c91dbe214"
      },
      "outputs": [
        {
          "name": "stdout",
          "output_type": "stream",
          "text": [
            "DataDescriptor.__get__ called\n"
          ]
        },
        {
          "data": {
            "text/plain": [
              "42"
            ]
          },
          "execution_count": 213,
          "metadata": {},
          "output_type": "execute_result"
        }
      ],
      "source": [
        "example.x"
      ]
    },
    {
      "cell_type": "code",
      "execution_count": 215,
      "metadata": {
        "colab": {
          "base_uri": "https://localhost:8080/",
          "height": 53
        },
        "id": "J6FaFdSwlyL6",
        "outputId": "11962f2b-4023-4831-cbb2-cff4a1d85fa1"
      },
      "outputs": [
        {
          "name": "stdout",
          "output_type": "stream",
          "text": [
            "DataDescriptor.__set__ called with value: 100\n"
          ]
        },
        {
          "data": {
            "application/vnd.google.colaboratory.intrinsic+json": {
              "type": "string"
            },
            "text/plain": [
              "'Instance value'"
            ]
          },
          "execution_count": 215,
          "metadata": {},
          "output_type": "execute_result"
        }
      ],
      "source": [
        "example.x = 100\n",
        "example.__dict__['x']"
      ]
    },
    {
      "cell_type": "code",
      "execution_count": 216,
      "metadata": {
        "colab": {
          "base_uri": "https://localhost:8080/"
        },
        "id": "uT1aeHsvl0OZ",
        "outputId": "b74e3010-a30c-4e4e-b9e3-6d8ddee5a1e8"
      },
      "outputs": [
        {
          "name": "stdout",
          "output_type": "stream",
          "text": [
            "DataDescriptor.__get__ called\n"
          ]
        },
        {
          "data": {
            "text/plain": [
              "100"
            ]
          },
          "execution_count": 216,
          "metadata": {},
          "output_type": "execute_result"
        }
      ],
      "source": [
        "example.x"
      ]
    },
    {
      "cell_type": "markdown",
      "metadata": {
        "id": "PuFeIBt3l7OH"
      },
      "source": [
        "- Non-data descriptors may be overridden by instance dictionaries."
      ]
    },
    {
      "cell_type": "code",
      "execution_count": 217,
      "metadata": {
        "id": "jOC3ERgNl27i"
      },
      "outputs": [],
      "source": [
        "class NonDataDescriptor:\n",
        "    def __init__(self, initial_value=None):\n",
        "        self.value = initial_value\n",
        "\n",
        "    def __get__(self, obj, objtype=None):\n",
        "        print(\"DataDescriptor.__get__ called\")\n",
        "        return self.value\n",
        "\n",
        "class Example:\n",
        "    x = NonDataDescriptor(42)  # Data descriptor defined in class\n",
        "\n",
        "    def __init__(self):\n",
        "        # Try to override with instance attribute\n",
        "        self.__dict__['x'] = \"Instance value\"\n",
        "\n",
        "\n",
        "example = Example()"
      ]
    },
    {
      "cell_type": "code",
      "execution_count": 218,
      "metadata": {
        "colab": {
          "base_uri": "https://localhost:8080/"
        },
        "id": "PED2N9zImIhm",
        "outputId": "2e68841b-5462-42ae-d551-9bda604be404"
      },
      "outputs": [
        {
          "data": {
            "text/plain": [
              "{'x': 'Instance value'}"
            ]
          },
          "execution_count": 218,
          "metadata": {},
          "output_type": "execute_result"
        }
      ],
      "source": [
        "example.__dict__"
      ]
    },
    {
      "cell_type": "code",
      "execution_count": 219,
      "metadata": {
        "colab": {
          "base_uri": "https://localhost:8080/",
          "height": 35
        },
        "id": "qfeShiw3mKmF",
        "outputId": "01acab7f-edb3-4c11-e650-0fa57a156ceb"
      },
      "outputs": [
        {
          "data": {
            "application/vnd.google.colaboratory.intrinsic+json": {
              "type": "string"
            },
            "text/plain": [
              "'Instance value'"
            ]
          },
          "execution_count": 219,
          "metadata": {},
          "output_type": "execute_result"
        }
      ],
      "source": [
        "example.x"
      ]
    },
    {
      "cell_type": "markdown",
      "metadata": {
        "id": "2IKx30stmQdp"
      },
      "source": [
        "### Automatic name notification"
      ]
    },
    {
      "cell_type": "markdown",
      "metadata": {
        "id": "N455to4Lmab8"
      },
      "source": [
        "> Sometimes it is desirable for a descriptor to know what class variable name it was assigned to. When a new class is created, the `type` metaclass scans the dictionary of the new class. If any of the entries are descriptors and if they define `__set_name__()`, that method is called with two arguments. The owner is the class where the descriptor is used, and the name is the class variable the descriptor was assigned to."
      ]
    },
    {
      "cell_type": "code",
      "execution_count": 227,
      "metadata": {
        "id": "nkDXKJ1pmVRA"
      },
      "outputs": [],
      "source": [
        "class NameTracker:\n",
        "   def __set_name__(self, owner, name): self.name = name"
      ]
    },
    {
      "cell_type": "code",
      "execution_count": 228,
      "metadata": {
        "id": "zaomoHlVmuKq"
      },
      "outputs": [],
      "source": [
        "class_dict = {\n",
        "        'x': NameTracker(),\n",
        "        'y': NameTracker(),\n",
        "        'z': 5\n",
        "    }"
      ]
    },
    {
      "cell_type": "code",
      "execution_count": 229,
      "metadata": {
        "id": "yMzQeUmanrpv"
      },
      "outputs": [],
      "source": [
        "Demo = type('Demo', (), class_dict)"
      ]
    },
    {
      "cell_type": "code",
      "execution_count": 231,
      "metadata": {
        "colab": {
          "base_uri": "https://localhost:8080/",
          "height": 35
        },
        "id": "kxVdyav3n1fw",
        "outputId": "c1ee1f3c-ddbe-4e35-bced-a11f96ae3cc4"
      },
      "outputs": [
        {
          "data": {
            "application/vnd.google.colaboratory.intrinsic+json": {
              "type": "string"
            },
            "text/plain": [
              "'x'"
            ]
          },
          "execution_count": 231,
          "metadata": {},
          "output_type": "execute_result"
        }
      ],
      "source": [
        "Demo.x.name"
      ]
    },
    {
      "cell_type": "code",
      "execution_count": 232,
      "metadata": {
        "colab": {
          "base_uri": "https://localhost:8080/",
          "height": 35
        },
        "id": "WKTOjAxWn7Zi",
        "outputId": "b3867517-a51b-4675-b24b-70b33ce13579"
      },
      "outputs": [
        {
          "data": {
            "application/vnd.google.colaboratory.intrinsic+json": {
              "type": "string"
            },
            "text/plain": [
              "'y'"
            ]
          },
          "execution_count": 232,
          "metadata": {},
          "output_type": "execute_result"
        }
      ],
      "source": [
        "Demo.y.name"
      ]
    },
    {
      "cell_type": "markdown",
      "metadata": {
        "id": "iNy_aXaApCVX"
      },
      "source": [
        "I'm skipping the ORM example since I don't have access to the example database."
      ]
    },
    {
      "cell_type": "markdown",
      "metadata": {
        "id": "UAmrXV6roa1C"
      },
      "source": [
        "## Pure Python Equivalents"
      ]
    },
    {
      "cell_type": "markdown",
      "metadata": {
        "id": "jrWcvDksobcL"
      },
      "source": [
        "Finally! The section I'm most interested in."
      ]
    },
    {
      "cell_type": "markdown",
      "metadata": {
        "id": "s2qod846ogwr"
      },
      "source": [
        "> Properties, bound methods, static methods, class methods, and `__slots__` are all based on the descriptor protocol."
      ]
    },
    {
      "cell_type": "markdown",
      "metadata": {
        "id": "wbqA6x58o3pt"
      },
      "source": [
        "I'm going to focus on the functions and methods section."
      ]
    },
    {
      "cell_type": "markdown",
      "metadata": {
        "id": "85-PpFWvo6dZ"
      },
      "source": [
        "### Functions and methods"
      ]
    },
    {
      "cell_type": "markdown",
      "metadata": {
        "id": "_4O46e2EpAjn"
      },
      "source": [
        "> Functions stored in class dictionaries get turned into methods when invoked. Methods only differ from regular functions in that the object instance is prepended to the other arguments. By convention, the instance is called self but could be called this or any other variable name."
      ]
    },
    {
      "cell_type": "markdown",
      "metadata": {
        "id": "UhkZIYEJpQDZ"
      },
      "source": [
        "> Methods can be created manually with types.MethodType which is roughly equivalent to:"
      ]
    },
    {
      "cell_type": "code",
      "execution_count": null,
      "metadata": {
        "id": "8IlxDIBYodJ-"
      },
      "outputs": [],
      "source": [
        "class MethodType:\n",
        "    \"Emulate PyMethod_Type in Objects/classobject.c\"\n",
        "\n",
        "    def __init__(self, func, obj):\n",
        "        self.__func__ = func\n",
        "        self.__self__ = obj\n",
        "\n",
        "    def __call__(self, *args, **kwargs):\n",
        "        func = self.__func__\n",
        "        obj = self.__self__\n",
        "        return func(obj, *args, **kwargs)\n",
        "\n",
        "    def __getattribute__(self, name):\n",
        "        \"Emulate method_getset() in Objects/classobject.c\"\n",
        "        if name == '__doc__':\n",
        "            return self.__func__.__doc__\n",
        "        return object.__getattribute__(self, name)\n",
        "\n",
        "    def __getattr__(self, name):\n",
        "        \"Emulate method_getattro() in Objects/classobject.c\"\n",
        "        return getattr(self.__func__, name)\n",
        "\n",
        "    def __get__(self, obj, objtype=None):\n",
        "        \"Emulate method_descr_get() in Objects/classobject.c\"\n",
        "        return self"
      ]
    },
    {
      "cell_type": "markdown",
      "metadata": {
        "id": "DWPp9D_ZpbPK"
      },
      "source": [
        "The key dunder method of interest is `__call`__:\n",
        "\n",
        "```python\n",
        "def __call__(self, *args, **kwargs):\n",
        "    func = self.__func__\n",
        "    obj = self.__self__\n",
        "    return func(obj, *args, **kwargs)\n",
        "```\n",
        "\n",
        "In the example of the self attention module, it has no positional arguments `*args` and so when I passed `self_attn` to the `obj` parameter in `func(obj, *args, **kwargs)` it understood it to be the first keyword argument."
      ]
    },
    {
      "cell_type": "markdown",
      "metadata": {
        "id": "B-kkVMH1qkVV"
      },
      "source": [
        "> The interesting behavior occurs during dotted access from an instance. The dotted lookup calls __get__() which returns a bound method object:"
      ]
    },
    {
      "cell_type": "code",
      "execution_count": 236,
      "metadata": {
        "id": "YE9WiM2vqO9N"
      },
      "outputs": [],
      "source": [
        "class D:\n",
        "    def f(self):\n",
        "         return self"
      ]
    },
    {
      "cell_type": "code",
      "execution_count": 238,
      "metadata": {
        "colab": {
          "base_uri": "https://localhost:8080/"
        },
        "id": "14GnOSVkqm6m",
        "outputId": "d7863453-4518-4486-909a-226a3a4b8b2c"
      },
      "outputs": [
        {
          "name": "stdout",
          "output_type": "stream",
          "text": [
            "<bound method D.f of <__main__.D object at 0x78b2dec54790>>\n"
          ]
        }
      ],
      "source": [
        "d = D()\n",
        "print(d.f)"
      ]
    },
    {
      "cell_type": "markdown",
      "metadata": {
        "id": "kpSaWjXOqwjn"
      },
      "source": [
        "> Internally, the bound method stores the underlying function and the bound instance:"
      ]
    },
    {
      "cell_type": "code",
      "execution_count": 240,
      "metadata": {
        "colab": {
          "base_uri": "https://localhost:8080/"
        },
        "id": "O_EY7YnSqzK3",
        "outputId": "e01f04f2-79f4-4fb7-df6d-734f9a3490e7"
      },
      "outputs": [
        {
          "name": "stdout",
          "output_type": "stream",
          "text": [
            "<function D.f at 0x78b2dedd3ba0>\n"
          ]
        }
      ],
      "source": [
        "print(d.f.__func__)"
      ]
    },
    {
      "cell_type": "code",
      "execution_count": 241,
      "metadata": {
        "colab": {
          "base_uri": "https://localhost:8080/"
        },
        "id": "btc_uvtgqpJg",
        "outputId": "be868138-560a-4319-d92a-2572e6d78318"
      },
      "outputs": [
        {
          "name": "stdout",
          "output_type": "stream",
          "text": [
            "<__main__.D object at 0x78b2dec54790>\n"
          ]
        }
      ],
      "source": [
        "print(d.f.__self__)"
      ]
    },
    {
      "cell_type": "markdown",
      "metadata": {
        "id": "Tjn15wOJq48O"
      },
      "source": [
        "> If you have ever wondered where `self` comes from in regular methods or where `cls` comes from in class methods, this is it!"
      ]
    },
    {
      "cell_type": "markdown",
      "metadata": {
        "id": "J6HniZCUrAn3"
      },
      "source": [
        "### Kinds of methods"
      ]
    },
    {
      "cell_type": "markdown",
      "metadata": {
        "id": "wVXjAFRBrD9t"
      },
      "source": [
        "Here's the crux of what I was looking for:"
      ]
    },
    {
      "cell_type": "markdown",
      "metadata": {
        "id": "5CHYSRcprHE4"
      },
      "source": [
        "> To recap, functions have a `__get__()` method so that they can be converted to a method when accessed as attributes. The non-data descriptor transforms an `obj.f(*args`) call into `f(obj, *args)`. Calling `cls.f(*args)` becomes `f(*args)`."
      ]
    },
    {
      "cell_type": "markdown",
      "metadata": {
        "id": "T9yvRSSyreHx"
      },
      "source": [
        "If I call `__get__(d)` on `d.f` it creates a bound method which passes in the object as `self`, the first argument of a bound method."
      ]
    },
    {
      "cell_type": "code",
      "execution_count": 243,
      "metadata": {
        "colab": {
          "base_uri": "https://localhost:8080/"
        },
        "id": "HYhe2A25q114",
        "outputId": "881f67c4-ba12-49a2-f010-d585a5594103"
      },
      "outputs": [
        {
          "name": "stdout",
          "output_type": "stream",
          "text": [
            "<bound method D.f of <__main__.D object at 0x78b2dec54790>>\n"
          ]
        }
      ],
      "source": [
        "print(d.f.__get__(d))"
      ]
    },
    {
      "cell_type": "markdown",
      "metadata": {
        "id": "4L3z_E2lrsSd"
      },
      "source": [
        "Now when I call `d.f.__get__(d)()` I don't need to explicitly pass in the object:"
      ]
    },
    {
      "cell_type": "code",
      "execution_count": 244,
      "metadata": {
        "colab": {
          "base_uri": "https://localhost:8080/"
        },
        "id": "ZnnIoKR2rXml",
        "outputId": "b9d99ad4-baa0-4101-b3bc-a8de2a759be3"
      },
      "outputs": [
        {
          "data": {
            "text/plain": [
              "<__main__.D at 0x78b2dec54790>"
            ]
          },
          "execution_count": 244,
          "metadata": {},
          "output_type": "execute_result"
        }
      ],
      "source": [
        "d.f.__get__(d)()"
      ]
    },
    {
      "cell_type": "markdown",
      "metadata": {
        "id": "Vjd-WmAIsbqC"
      },
      "source": [
        "## Final Thoughts"
      ]
    },
    {
      "cell_type": "markdown",
      "metadata": {
        "id": "SDGltmcmscyR"
      },
      "source": [
        "Thanks to vibe coding, Claude introduced me to Python behavior I was unfamiliar with, and thanks to the excellent Python documentation, I understood it at a much deeper level than I was planning to.\n",
        "\n",
        "I think something that still confuses me, and where I feel empathy for [this poster](https://discuss.python.org/t/changing-the-name-of-get-to-bind/14243), is how `__get__` has special behavior for functions where it binds it to the given object."
      ]
    },
    {
      "cell_type": "markdown",
      "metadata": {
        "id": "azP6BaxjtMR6"
      },
      "source": [
        "In the Primer, initial examples of `__get__` all, well, get a value:\n",
        "\n",
        "```python\n",
        "def __get__(self, obj, objtype=None):\n",
        "    print(f\"__get__ called with obj={obj}, objtype={objtype}\")\n",
        "    return 10\n",
        "\n",
        "\n",
        "def __get__(self, obj, objtype=None):\n",
        "    return len(os.listdir(obj.dirname))\n",
        "\n",
        "\n",
        "def __get__(self, obj, objtype=None):\n",
        "    value = obj._age\n",
        "    print(f'Accessing age giving {value}')\n",
        "    return value\n",
        "```\n",
        "\n",
        "How that behavior is related to binding a function to an object is beyond my current understanding."
      ]
    },
    {
      "cell_type": "markdown",
      "metadata": {
        "id": "iyCMhGpftgWM"
      },
      "source": [
        "This poster's response does make sense:\n",
        "\n",
        "> If descriptors were only callables that bind as methods when accessed as an attribute, then perhaps `__bind__()` would be a reasonable name for the method. But the descriptor protocol (i.e. `__get__`, `__set__`, and `__delete__`) is a means of implementing a computed attribute in general, which is not necessarily about binding a callable to the instance or type. For example, the `__get__()` method of a property named `x` might return the instance attribute `_x`."
      ]
    },
    {
      "cell_type": "markdown",
      "metadata": {
        "id": "im2Um_lYtsTN"
      },
      "source": [
        "So perhaps of a computed attributed is generalizable whether your using `__get__` on a callable descriptor or otherwise. For a function, the \"computation\" of the attribute is binding it to the object.\n",
        "\n",
        "I hope you enjoyed this blog post! I'm trying to [grow my YouTube channel](https://www.youtube.com/@vishal_learner) so please give that a look/subscribe."
      ]
    }
  ],
  "metadata": {
    "colab": {
      "provenance": [],
      "toc_visible": true
    },
    "kernelspec": {
      "display_name": "Python 3",
      "name": "python3"
    },
    "language_info": {
      "name": "python"
    }
  },
  "nbformat": 4,
  "nbformat_minor": 0
}
